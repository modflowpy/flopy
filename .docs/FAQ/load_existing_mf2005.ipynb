{
 "cells": [
  {
   "attachments": {},
   "cell_type": "markdown",
   "metadata": {},
   "source": [
    "# Loading an existing MODFLOW-2005 model "
   ]
  },
  {
   "cell_type": "code",
   "execution_count": null,
   "metadata": {
    "execution": {
     "iopub.execute_input": "2023-05-02T02:54:57.043139Z",
     "iopub.status.busy": "2023-05-02T02:54:57.042363Z",
     "iopub.status.idle": "2023-05-02T02:54:58.233442Z",
     "shell.execute_reply": "2023-05-02T02:54:58.232478Z"
    }
   },
   "outputs": [],
   "source": [
    "import os\n",
    "import sys\n",
    "\n",
    "try:\n",
    "    import flopy\n",
    "except:\n",
    "    fpth = os.path.abspath(os.path.join(\"..\", \"..\"))\n",
    "    sys.path.append(fpth)\n",
    "    import flopy\n",
    "\n",
    "print(sys.version)\n",
    "print(\"flopy version: {}\".format(flopy.__version__))"
   ]
  },
  {
   "cell_type": "markdown",
   "metadata": {},
   "source": [
    "**Load an existing MODFLOW-2005 model**\n",
    "\n",
    "* `verbose=True` writes diagnostic information during the load and can be used to troubleshoot issues encountered during in the `.load()` method.\n",
    "* `check=False` disables basic FloPy error checking.\n"
   ]
  },
  {
   "cell_type": "code",
   "execution_count": null,
   "metadata": {
    "execution": {
     "iopub.execute_input": "2023-05-02T02:54:58.287497Z",
     "iopub.status.busy": "2023-05-02T02:54:58.287111Z",
     "iopub.status.idle": "2023-05-02T02:54:58.310605Z",
     "shell.execute_reply": "2023-05-02T02:54:58.309718Z"
    }
   },
   "outputs": [],
   "source": [
    "model_ws = os.path.join(\"..\", \"..\", \"examples\", \"data\", \"mf2005_test\")\n",
    "ml = flopy.modflow.Modflow.load(\n",
    "    \"bcf2ss.nam\",\n",
    "    model_ws=model_ws,\n",
    "    verbose=True,\n",
    "    version=\"mf2005\",\n",
    "    check=False,\n",
    ")"
   ]
  },
  {
   "cell_type": "code",
   "execution_count": null,
   "metadata": {},
   "outputs": [],
   "source": []
  }
 ],
 "metadata": {
  "kernelspec": {
   "display_name": "Python 3 (ipykernel)",
   "language": "python",
   "name": "python3"
  },
  "language_info": {
   "codemirror_mode": {
    "name": "ipython",
    "version": 3
   },
   "file_extension": ".py",
   "mimetype": "text/x-python",
   "name": "python",
   "nbconvert_exporter": "python",
   "pygments_lexer": "ipython3",
   "version": "3.11.0"
  }
 },
 "nbformat": 4,
 "nbformat_minor": 4
}
