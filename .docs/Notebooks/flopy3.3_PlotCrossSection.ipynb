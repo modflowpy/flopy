{
 "cells": [
  {
   "attachments": {},
   "cell_type": "markdown",
   "metadata": {
    "pycharm": {
     "name": "#%% md\n"
    }
   },
   "source": [
    "# Making Cross Sections of Your Model\n",
    "This notebook demonstrates the cross sectional mapping capabilities of FloPy. It demonstrates these capabilities by loading and running existing models and then showing how the `PlotCrossSection` object and its methods can be used to make nice plots of the model grid, boundary conditions, model results, shape files, etc.\n",
    "\n",
    "### Mapping is demonstrated for MODFLOW-2005 and MODFLOW-6 models in this notebook"
   ]
  },
  {
   "cell_type": "code",
   "execution_count": null,
   "metadata": {
    "execution": {
     "iopub.execute_input": "2023-05-02T02:55:02.802743Z",
     "iopub.status.busy": "2023-05-02T02:55:02.802383Z",
     "iopub.status.idle": "2023-05-02T02:55:04.116151Z",
     "shell.execute_reply": "2023-05-02T02:55:04.114803Z"
    },
    "pycharm": {
     "name": "#%%\n"
    }
   },
   "outputs": [],
   "source": [
    "import sys\n",
    "import os\n",
    "import numpy as np\n",
    "import matplotlib as mpl\n",
    "import matplotlib.pyplot as plt\n",
    "from tempfile import TemporaryDirectory\n",
    "\n",
    "sys.path.append(os.path.join(\"..\", \"common\"))\n",
    "import notebook_utils\n",
    "\n",
    "# run installed version of flopy or add local path\n",
    "try:\n",
    "    import flopy\n",
    "except:\n",
    "    fpth = os.path.abspath(os.path.join(\"..\", \"..\"))\n",
    "    sys.path.append(fpth)\n",
    "    import flopy\n",
    "\n",
    "print(sys.version)\n",
    "print(\"numpy version: {}\".format(np.__version__))\n",
    "print(\"matplotlib version: {}\".format(mpl.__version__))\n",
    "print(\"flopy version: {}\".format(flopy.__version__))"
   ]
  },
  {
   "cell_type": "code",
   "execution_count": null,
   "metadata": {
    "execution": {
     "iopub.execute_input": "2023-05-02T02:55:04.170095Z",
     "iopub.status.busy": "2023-05-02T02:55:04.169683Z",
     "iopub.status.idle": "2023-05-02T02:55:04.176178Z",
     "shell.execute_reply": "2023-05-02T02:55:04.174812Z"
    },
    "pycharm": {
     "name": "#%%\n"
    }
   },
   "outputs": [],
   "source": [
    "# Set names of the MODFLOW exes\n",
    "# assumes that the executable is in users path statement\n",
    "v2005 = \"mf2005\"\n",
    "exe_name_2005 = \"mf2005\"\n",
    "vmf6 = \"mf6\"\n",
    "exe_name_mf6 = \"mf6\"\n",
    "\n",
    "# Set the paths\n",
    "prj_root = notebook_utils.get_project_root_path()\n",
    "loadpth = str(prj_root / \"examples\" / \"data\" / \"freyberg\")\n",
    "tempdir = TemporaryDirectory()\n",
    "modelpth = tempdir.name"
   ]
  },
  {
   "cell_type": "markdown",
   "metadata": {
    "pycharm": {
     "name": "#%% md\n"
    }
   },
   "source": [
    "### Load and Run an Existing MODFLOW-2005 Model\n",
    "A model called the \"Freyberg Model\" is located in the loadpth folder.  In the following code block, we load that model, then change into a new workspace (modelpth) where we recreate and run the model.  For this to work properly, the MODFLOW-2005 executable (mf2005) must be in the path.  We verify that it worked correctly by checking for the presence of freyberg.hds and freyberg.cbc."
   ]
  },
  {
   "cell_type": "code",
   "execution_count": null,
   "metadata": {
    "execution": {
     "iopub.execute_input": "2023-05-02T02:55:04.179852Z",
     "iopub.status.busy": "2023-05-02T02:55:04.179487Z",
     "iopub.status.idle": "2023-05-02T02:55:04.267930Z",
     "shell.execute_reply": "2023-05-02T02:55:04.266398Z"
    }
   },
   "outputs": [],
   "source": [
    "ml = flopy.modflow.Modflow.load(\n",
    "    \"freyberg.nam\", model_ws=loadpth, exe_name=exe_name_2005, version=v2005\n",
    ")\n",
    "ml.change_model_ws(new_pth=str(modelpth))\n",
    "ml.write_input()\n",
    "success, buff = ml.run_model(silent=True, report=True)\n",
    "if success:\n",
    "    for line in buff:\n",
    "        print(line)\n",
    "else:\n",
    "    raise ValueError(\"Something bad happened.\")\n",
    "\n",
    "files = [\"freyberg.hds\", \"freyberg.cbc\"]\n",
    "for f in files:\n",
    "    if os.path.isfile(os.path.join(str(modelpth), f)):\n",
    "        msg = \"Output file located: {}\".format(f)\n",
    "        print(msg)\n",
    "    else:\n",
    "        errmsg = \"Error. Output file cannot be found: {}\".format(f)\n",
    "        print(errmsg)"
   ]
  },
  {
   "cell_type": "markdown",
   "metadata": {
    "pycharm": {
     "name": "#%% md\n"
    }
   },
   "source": [
    "### Creating a Cross-Section of the Model Grid\n",
    "\n",
    "Now that we have a model, we can use the FloPy plotting utilities to make cross-sections. We'll start by making a Map to show the model grid and basic boundary conditions. Then we'll begin making a cross section using the `PlotCrossSection` class and the `plot_grid()` method of that class."
   ]
  },
  {
   "cell_type": "code",
   "execution_count": null,
   "metadata": {
    "execution": {
     "iopub.execute_input": "2023-05-02T02:55:04.272807Z",
     "iopub.status.busy": "2023-05-02T02:55:04.272346Z",
     "iopub.status.idle": "2023-05-02T02:55:04.521144Z",
     "shell.execute_reply": "2023-05-02T02:55:04.520028Z"
    },
    "pycharm": {
     "name": "#%%\n"
    }
   },
   "outputs": [],
   "source": [
    "# let's take a look at our grid before making a cross section\n",
    "fig = plt.figure(figsize=(8, 8))\n",
    "ax = fig.add_subplot(1, 1, 1, aspect=\"equal\")\n",
    "mapview = flopy.plot.PlotMapView(model=ml)\n",
    "ibound = mapview.plot_ibound()\n",
    "wel = mapview.plot_bc(\"WEL\")\n",
    "riv = mapview.plot_bc(\"RIV\")\n",
    "linecollection = mapview.plot_grid()"
   ]
  },
  {
   "cell_type": "markdown",
   "metadata": {
    "pycharm": {
     "name": "#%% md\n"
    }
   },
   "source": [
    "Next we will make a cross-section of the model grid at column 6."
   ]
  },
  {
   "cell_type": "code",
   "execution_count": null,
   "metadata": {
    "execution": {
     "iopub.execute_input": "2023-05-02T02:55:04.524775Z",
     "iopub.status.busy": "2023-05-02T02:55:04.524443Z",
     "iopub.status.idle": "2023-05-02T02:55:04.789035Z",
     "shell.execute_reply": "2023-05-02T02:55:04.787742Z"
    },
    "pycharm": {
     "name": "#%%\n"
    }
   },
   "outputs": [],
   "source": [
    "# First step is to set up the plot\n",
    "fig = plt.figure(figsize=(15, 5))\n",
    "ax = fig.add_subplot(1, 1, 1)\n",
    "\n",
    "# Next we create an instance of the PlotCrossSection class\n",
    "xsect = flopy.plot.PlotCrossSection(model=ml, line={\"Column\": 5})\n",
    "\n",
    "# Then we can use the plot_grid() method to draw the grid\n",
    "# The return value for this function is a matplotlib LineCollection object,\n",
    "# which could be manipulated (or used) later if necessary.\n",
    "linecollection = xsect.plot_grid()\n",
    "t = ax.set_title(\"Column 6 Cross-Section - Model Grid\")"
   ]
  },
  {
   "cell_type": "markdown",
   "metadata": {
    "pycharm": {
     "name": "#%% md\n"
    }
   },
   "source": [
    "### Ploting Ibound\n",
    "\n",
    "The `plot_ibound()` method can be used to plot the boundary conditions contained in the ibound arrray, which is part of the MODFLOW Basic Package.  The `plot_ibound()` method returns a matplotlib PatchCollection object (matplotlib.collections.PatchCollection).  If you are familiar with the matplotlib collections, then this may be important to you, but if not, then don't worry about the return objects of these plotting function."
   ]
  },
  {
   "cell_type": "code",
   "execution_count": null,
   "metadata": {
    "execution": {
     "iopub.execute_input": "2023-05-02T02:55:04.793340Z",
     "iopub.status.busy": "2023-05-02T02:55:04.792332Z",
     "iopub.status.idle": "2023-05-02T02:55:05.053121Z",
     "shell.execute_reply": "2023-05-02T02:55:05.052344Z"
    },
    "pycharm": {
     "name": "#%%\n"
    }
   },
   "outputs": [],
   "source": [
    "fig = plt.figure(figsize=(15, 5))\n",
    "ax = fig.add_subplot(1, 1, 1)\n",
    "\n",
    "xsect = flopy.plot.PlotCrossSection(model=ml, line={\"Column\": 5})\n",
    "patches = xsect.plot_ibound()\n",
    "linecollection = xsect.plot_grid()\n",
    "t = ax.set_title(\"Column 6 Cross-Section with IBOUND Boundary Conditions\")"
   ]
  },
  {
   "cell_type": "code",
   "execution_count": null,
   "metadata": {
    "execution": {
     "iopub.execute_input": "2023-05-02T02:55:05.055653Z",
     "iopub.status.busy": "2023-05-02T02:55:05.055346Z",
     "iopub.status.idle": "2023-05-02T02:55:05.306850Z",
     "shell.execute_reply": "2023-05-02T02:55:05.305622Z"
    },
    "pycharm": {
     "name": "#%%\n"
    }
   },
   "outputs": [],
   "source": [
    "# Or we could change the colors!\n",
    "fig = plt.figure(figsize=(15, 5))\n",
    "ax = fig.add_subplot(1, 1, 1)\n",
    "\n",
    "xsect = flopy.plot.PlotCrossSection(model=ml, line={\"Column\": 5})\n",
    "patches = xsect.plot_ibound(color_noflow=\"red\", color_ch=\"orange\")\n",
    "linecollection = xsect.plot_grid(color=\"green\")\n",
    "t = ax.set_title(\"Column 6 Cross-Section with IBOUND Boundary Conditions\")"
   ]
  },
  {
   "cell_type": "markdown",
   "metadata": {
    "pycharm": {
     "name": "#%% md\n"
    }
   },
   "source": [
    "### Plotting Boundary Conditions\n",
    "The `plot_bc()` method can be used to plot boundary conditions on a cross section.  It is setup to use the following dictionary to assign colors, however, these colors can be changed in the method call.\n",
    "\n",
    "    bc_color_dict = {'default': 'black', 'WEL': 'red', 'DRN': 'yellow',\n",
    "                 'RIV': 'green', 'GHB': 'cyan', 'CHD': 'navy'}\n",
    "\n",
    "Just like the `plot_bc()` method for `PlotMapView`, the default boundary condition colors can be changed in the method call.\n",
    "\n",
    "Here, we plot the location of well cells in column 6."
   ]
  },
  {
   "cell_type": "code",
   "execution_count": null,
   "metadata": {
    "execution": {
     "iopub.execute_input": "2023-05-02T02:55:05.310381Z",
     "iopub.status.busy": "2023-05-02T02:55:05.310012Z",
     "iopub.status.idle": "2023-05-02T02:55:05.575051Z",
     "shell.execute_reply": "2023-05-02T02:55:05.573938Z"
    },
    "pycharm": {
     "name": "#%%\n"
    }
   },
   "outputs": [],
   "source": [
    "fig = plt.figure(figsize=(15, 5))\n",
    "ax = fig.add_subplot(1, 1, 1)\n",
    "\n",
    "xsect = flopy.plot.PlotCrossSection(model=ml, line={\"Column\": 5})\n",
    "patches = xsect.plot_bc(\"WEL\", color=\"pink\")\n",
    "patches = xsect.plot_ibound()\n",
    "linecollection = xsect.plot_grid()\n",
    "t = ax.set_title(\"Column 6 Cross-Section with Boundary Conditions\")"
   ]
  },
  {
   "cell_type": "markdown",
   "metadata": {
    "pycharm": {
     "name": "#%% md\n"
    }
   },
   "source": [
    "### Plotting an Array\n",
    "\n",
    "`PlotCrossSection` has a `plot_array()` method.  The `plot_array()` method will only accept 3D arrays for structured grids.  "
   ]
  },
  {
   "cell_type": "code",
   "execution_count": null,
   "metadata": {
    "execution": {
     "iopub.execute_input": "2023-05-02T02:55:05.577985Z",
     "iopub.status.busy": "2023-05-02T02:55:05.577748Z",
     "iopub.status.idle": "2023-05-02T02:55:05.930209Z",
     "shell.execute_reply": "2023-05-02T02:55:05.929066Z"
    },
    "pycharm": {
     "name": "#%%\n"
    }
   },
   "outputs": [],
   "source": [
    "# Create a random array and plot it\n",
    "a = np.random.random((ml.dis.nlay, ml.dis.nrow, ml.dis.ncol))\n",
    "\n",
    "fig = plt.figure(figsize=(18, 5))\n",
    "ax = fig.add_subplot(1, 1, 1)\n",
    "xsect = flopy.plot.PlotCrossSection(model=ml, line={\"Column\": 5})\n",
    "csa = xsect.plot_array(a)\n",
    "patches = xsect.plot_ibound()\n",
    "linecollection = xsect.plot_grid()\n",
    "t = ax.set_title(\"Column 6 Cross-Section with Random Data\")\n",
    "cb = plt.colorbar(csa, shrink=0.75)"
   ]
  },
  {
   "cell_type": "code",
   "execution_count": null,
   "metadata": {
    "execution": {
     "iopub.execute_input": "2023-05-02T02:55:05.933218Z",
     "iopub.status.busy": "2023-05-02T02:55:05.932822Z",
     "iopub.status.idle": "2023-05-02T02:55:06.266546Z",
     "shell.execute_reply": "2023-05-02T02:55:06.265770Z"
    },
    "pycharm": {
     "name": "#%%\n"
    }
   },
   "outputs": [],
   "source": [
    "# plot the horizontal hydraulic conductivities\n",
    "a = ml.lpf.hk.array\n",
    "\n",
    "fig = plt.figure(figsize=(18, 5))\n",
    "ax = fig.add_subplot(1, 1, 1)\n",
    "xsect = flopy.plot.PlotCrossSection(model=ml, line={\"Column\": 5})\n",
    "csa = xsect.plot_array(a)\n",
    "patches = xsect.plot_ibound()\n",
    "linecollection = xsect.plot_grid()\n",
    "t = ax.set_title(\n",
    "    \"Column 6 Cross-Section with Horizontal hydraulic conductivity\"\n",
    ")\n",
    "cb = plt.colorbar(csa, shrink=0.75)"
   ]
  },
  {
   "cell_type": "markdown",
   "metadata": {
    "pycharm": {
     "name": "#%% md\n"
    }
   },
   "source": [
    "### Contouring an Array\n",
    "\n",
    "`PlotCrossSection` also has a `contour_array()` method.  It also accepts a 3D array for structured grids."
   ]
  },
  {
   "cell_type": "code",
   "execution_count": null,
   "metadata": {
    "execution": {
     "iopub.execute_input": "2023-05-02T02:55:06.269062Z",
     "iopub.status.busy": "2023-05-02T02:55:06.268841Z",
     "iopub.status.idle": "2023-05-02T02:55:06.634148Z",
     "shell.execute_reply": "2023-05-02T02:55:06.633426Z"
    },
    "pycharm": {
     "name": "#%%\n"
    }
   },
   "outputs": [],
   "source": [
    "# plot the horizontal hydraulic conductivities\n",
    "a = ml.lpf.hk.array\n",
    "\n",
    "fig = plt.figure(figsize=(18, 5))\n",
    "ax = fig.add_subplot(1, 1, 1)\n",
    "xsect = flopy.plot.PlotCrossSection(model=ml, line={\"Column\": 5})\n",
    "contour_set = xsect.contour_array(a, masked_values=[0], cmap=\"jet\")\n",
    "patches = xsect.plot_ibound()\n",
    "linecollection = xsect.plot_grid(color=\"grey\")\n",
    "t = ax.set_title(\n",
    "    \"Column 6 Cross-Section contour_array() horizontal hydraulic conductivity\"\n",
    ")\n",
    "cb = plt.colorbar(contour_set, shrink=0.75)"
   ]
  },
  {
   "cell_type": "markdown",
   "metadata": {
    "pycharm": {
     "name": "#%% md\n"
    }
   },
   "source": [
    "### Plotting Heads\n",
    "\n",
    "We can easily plot results from the simulation by extracting heads using `flopy.utils.HeadFile`. \n",
    "\n",
    "The head can be passed into the `plot_array()` and `contour_array()` using the `head=` keyword argument to fix the top of the colored patch and contour lines at the top of the water table in each cell, respectively. "
   ]
  },
  {
   "cell_type": "code",
   "execution_count": null,
   "metadata": {
    "execution": {
     "iopub.execute_input": "2023-05-02T02:55:06.636844Z",
     "iopub.status.busy": "2023-05-02T02:55:06.636605Z",
     "iopub.status.idle": "2023-05-02T02:55:07.005458Z",
     "shell.execute_reply": "2023-05-02T02:55:07.004409Z"
    },
    "pycharm": {
     "name": "#%%\n"
    }
   },
   "outputs": [],
   "source": [
    "fname = os.path.join(str(modelpth), \"freyberg.hds\")\n",
    "hdobj = flopy.utils.HeadFile(fname)\n",
    "head = hdobj.get_data()\n",
    "\n",
    "fig = plt.figure(figsize=(18, 5))\n",
    "\n",
    "ax = fig.add_subplot(1, 1, 1)\n",
    "ax.set_title(\"plot_array() used to plotting Heads\")\n",
    "xsect = flopy.plot.PlotCrossSection(model=ml, line={\"Column\": 5})\n",
    "pc = xsect.plot_array(head, head=head, alpha=0.5)\n",
    "patches = xsect.plot_ibound(head=head)\n",
    "linecollection = xsect.plot_grid()\n",
    "cb = plt.colorbar(pc, shrink=0.75)"
   ]
  },
  {
   "cell_type": "code",
   "execution_count": null,
   "metadata": {
    "execution": {
     "iopub.execute_input": "2023-05-02T02:55:07.008842Z",
     "iopub.status.busy": "2023-05-02T02:55:07.008320Z",
     "iopub.status.idle": "2023-05-02T02:55:07.493190Z",
     "shell.execute_reply": "2023-05-02T02:55:07.492315Z"
    },
    "pycharm": {
     "name": "#%%\n"
    }
   },
   "outputs": [],
   "source": [
    "# contour array on top of heads\n",
    "levels = np.arange(17, 26, 1)\n",
    "\n",
    "fig = plt.figure(figsize=(18, 5))\n",
    "ax = fig.add_subplot(1, 1, 1)\n",
    "ax.set_title(\"contour_array() and plot_array() of head values\")\n",
    "\n",
    "# instantiate the PlotCrossSection object\n",
    "xsect = flopy.plot.PlotCrossSection(model=ml, line={\"Column\": 5})\n",
    "\n",
    "# plot the head array and model grid\n",
    "pc = xsect.plot_array(head, masked_values=[999.0], head=head, alpha=0.5)\n",
    "patches = xsect.plot_ibound(head=head)\n",
    "linecollection = xsect.plot_grid()\n",
    "\n",
    "# do black contour lines of the head array\n",
    "contour_set = xsect.contour_array(head, head=head, levels=levels, colors=\"k\")\n",
    "plt.clabel(contour_set, fmt=\"%.1f\", colors=\"k\", fontsize=11)\n",
    "\n",
    "cb = plt.colorbar(pc, shrink=0.75)"
   ]
  },
  {
   "cell_type": "markdown",
   "metadata": {
    "pycharm": {
     "name": "#%% md\n"
    }
   },
   "source": [
    "### Plotting a surface on the cross section\n",
    "\n",
    "The `plot_surface()` method allows the user to plot a surface along the cross section. Here is a short example using head data."
   ]
  },
  {
   "cell_type": "code",
   "execution_count": null,
   "metadata": {
    "execution": {
     "iopub.execute_input": "2023-05-02T02:55:07.496779Z",
     "iopub.status.busy": "2023-05-02T02:55:07.496425Z",
     "iopub.status.idle": "2023-05-02T02:55:08.036281Z",
     "shell.execute_reply": "2023-05-02T02:55:08.035329Z"
    },
    "pycharm": {
     "name": "#%%\n"
    }
   },
   "outputs": [],
   "source": [
    "levels = np.arange(10, 30, 0.5)\n",
    "\n",
    "fig = plt.figure(figsize=(18, 5))\n",
    "xsect = flopy.plot.PlotCrossSection(model=ml, line={\"Column\": 5})\n",
    "\n",
    "# contour array and plot ibound\n",
    "ct = xsect.contour_array(\n",
    "    head, masked_values=[999.0], head=head, levels=levels, linewidths=2.5\n",
    ")\n",
    "pc = xsect.plot_ibound(head=head)\n",
    "\n",
    "# plot the surface and model grid\n",
    "wt = xsect.plot_surface(head, color=\"blue\", lw=2.5)\n",
    "linecollection = xsect.plot_grid()\n",
    "\n",
    "plt.title(\"contour_array() and plot_surface()\")\n",
    "cb = plt.colorbar(ct, shrink=0.75)"
   ]
  },
  {
   "cell_type": "markdown",
   "metadata": {
    "pycharm": {
     "name": "#%% md\n"
    }
   },
   "source": [
    "### Plotting discharge vectors\n",
    "\n",
    "`PlotCrossSection` has a `plot_vector()` method, which takes `qx`, `qy`, and `qz` vector arrays (ex. specific discharge or flow across a cell faces). The flow array values can be extracted from the cell by cell flow file using the `flopy.utils.CellBudgetFile` object as shown below.  Once they are extracted, they either be can be passed to the `plot_vector()` method or they can be post processed into specific discharge using `postprocessing.get_specific_discharge`.  Note that `get_specific_discharge()` also takes the head array as an argument.  The head array is used by `get_specific_discharge()` to convert the volumetric flow in dimensions of $L^3/T$ to specific discharge in dimensions of $L/T$ and to plot the specific discharge in the center of each saturated cell. For this problem, there is no 'FLOW LOWER FACE' array since the Freyberg Model is a one layer model."
   ]
  },
  {
   "cell_type": "code",
   "execution_count": null,
   "metadata": {
    "execution": {
     "iopub.execute_input": "2023-05-02T02:55:08.040352Z",
     "iopub.status.busy": "2023-05-02T02:55:08.039770Z",
     "iopub.status.idle": "2023-05-02T02:55:08.050791Z",
     "shell.execute_reply": "2023-05-02T02:55:08.049792Z"
    },
    "pycharm": {
     "name": "#%%\n"
    }
   },
   "outputs": [],
   "source": [
    "fname = os.path.join(str(modelpth), \"freyberg.cbc\")\n",
    "cbb = flopy.utils.CellBudgetFile(fname)\n",
    "frf = cbb.get_data(text=\"FLOW RIGHT FACE\")[0]\n",
    "fff = cbb.get_data(text=\"FLOW FRONT FACE\")[0]\n",
    "qx, qy, qz = flopy.utils.postprocessing.get_specific_discharge(\n",
    "    (frf, fff, None), ml, head=head\n",
    ")"
   ]
  },
  {
   "cell_type": "code",
   "execution_count": null,
   "metadata": {
    "execution": {
     "iopub.execute_input": "2023-05-02T02:55:08.054140Z",
     "iopub.status.busy": "2023-05-02T02:55:08.053819Z",
     "iopub.status.idle": "2023-05-02T02:55:08.505588Z",
     "shell.execute_reply": "2023-05-02T02:55:08.504215Z"
    },
    "pycharm": {
     "name": "#%%\n"
    }
   },
   "outputs": [],
   "source": [
    "fig = plt.figure(figsize=(18, 5))\n",
    "ax = fig.add_subplot(1, 1, 1)\n",
    "\n",
    "ax.set_title(\"plot_array() and plot_vector()\")\n",
    "xsect = flopy.plot.PlotCrossSection(model=ml, ax=ax, line={\"Column\": 5})\n",
    "csa = xsect.plot_array(head, head=head, alpha=0.5)\n",
    "patches = xsect.plot_ibound(head=head)\n",
    "linecollection = xsect.plot_grid()\n",
    "quiver = xsect.plot_vector(\n",
    "    qx,\n",
    "    qy,\n",
    "    qz,\n",
    "    head=head,\n",
    "    hstep=2,\n",
    "    normalize=True,\n",
    "    color=\"green\",\n",
    "    scale=30,\n",
    "    headwidth=3,\n",
    "    headlength=3,\n",
    "    headaxislength=3,\n",
    "    zorder=10,\n",
    ")\n",
    "\n",
    "cb = plt.colorbar(csa, shrink=0.75)"
   ]
  },
  {
   "cell_type": "markdown",
   "metadata": {
    "pycharm": {
     "name": "#%% md\n"
    }
   },
   "source": [
    "### Plotting a cross section from Shapefile data\n",
    "\n",
    "A shapefile can be used to define the vertices for a instance of the `PlotCrossSection` class. The function `flopy.plot.plotutil.shapefile_get_vertices()` will return a list of vertices for each polyline in a shapefile.\n",
    "\n",
    "Let's plot the shapefiles and the Freyberg model using `PlotMapView` for visualization purposes and then plot the cross-section."
   ]
  },
  {
   "cell_type": "code",
   "execution_count": null,
   "metadata": {
    "execution": {
     "iopub.execute_input": "2023-05-02T02:55:08.509386Z",
     "iopub.status.busy": "2023-05-02T02:55:08.508979Z",
     "iopub.status.idle": "2023-05-02T02:55:08.839614Z",
     "shell.execute_reply": "2023-05-02T02:55:08.838501Z"
    },
    "pycharm": {
     "name": "#%%\n"
    }
   },
   "outputs": [],
   "source": [
    "# Setup the figure and PlotMapView. Show a very faint map of ibound and\n",
    "# model grid by specifying a transparency alpha value.\n",
    "\n",
    "# set the modelgrid rotation and offset\n",
    "ml.modelgrid.set_coord_info(\n",
    "    xoff=-2419.2189559966773, yoff=297.0427372400354, angrot=-14\n",
    ")\n",
    "\n",
    "fig = plt.figure(figsize=(12, 12))\n",
    "ax = fig.add_subplot(1, 1, 1, aspect=\"equal\")\n",
    "mapview = flopy.plot.PlotMapView(model=ml)\n",
    "\n",
    "# Plot a shapefile of\n",
    "shp = os.path.join(loadpth, \"gis\", \"bedrock_outcrop_hole_rotate14\")\n",
    "patch_collection = mapview.plot_shapefile(\n",
    "    shp, edgecolor=\"green\", linewidths=2, alpha=0.5  # facecolor='none',\n",
    ")\n",
    "# Plot a shapefile of a cross-section line\n",
    "shp = os.path.join(loadpth, \"gis\", \"cross_section_rotate14\")\n",
    "patch_collection = mapview.plot_shapefile(\n",
    "    shp, radius=0, lw=3, edgecolor=\"red\", facecolor=\"None\"\n",
    ")\n",
    "\n",
    "# Plot a shapefile of well locations\n",
    "shp = os.path.join(loadpth, \"gis\", \"wells_locations_rotate14\")\n",
    "patch_collection = mapview.plot_shapefile(shp, radius=100, facecolor=\"red\")\n",
    "\n",
    "# Plot the grid and boundary conditions over the top\n",
    "quadmesh = mapview.plot_ibound(alpha=0.1)\n",
    "linecollection = mapview.plot_grid(alpha=0.1);"
   ]
  },
  {
   "cell_type": "markdown",
   "metadata": {
    "pycharm": {
     "name": "#%% md\n"
    }
   },
   "source": [
    "Now let's make a cross section based on this arbitrary cross-sectional line. We can load the cross sectional line vertices using `flopy.plot.plotutil.shapefile_get_vertices()`\n",
    "\n",
    "**Note**: in previous examples we passed `line={'column', 5}` to plot a cross section along a column. In this example we pass vertex information into `PlotCrossSection` using `line={'line', line[0]}` where `line[0]` is a list of vertices."
   ]
  },
  {
   "cell_type": "code",
   "execution_count": null,
   "metadata": {
    "execution": {
     "iopub.execute_input": "2023-05-02T02:55:08.842916Z",
     "iopub.status.busy": "2023-05-02T02:55:08.842410Z",
     "iopub.status.idle": "2023-05-02T02:55:09.347159Z",
     "shell.execute_reply": "2023-05-02T02:55:09.346140Z"
    },
    "pycharm": {
     "name": "#%%\n"
    }
   },
   "outputs": [],
   "source": [
    "# get the vertices for cross-section lines in a shapefile\n",
    "fpth = os.path.join(loadpth, \"gis\", \"cross_section_rotate14\")\n",
    "line = flopy.plot.plotutil.shapefile_get_vertices(fpth)\n",
    "\n",
    "# Set up the figure\n",
    "fig = plt.figure(figsize=(18, 5))\n",
    "ax = fig.add_subplot(1, 1, 1)\n",
    "ax.set_title(\"plot_array() along an arbitrary cross-sectional line\")\n",
    "\n",
    "# plot head values along the cross sectional line\n",
    "xsect = flopy.plot.PlotCrossSection(model=ml, line={\"line\": line[0]})\n",
    "csa = xsect.plot_array(head, head=head, alpha=0.5)\n",
    "patches = xsect.plot_ibound(head=head)\n",
    "linecollection = xsect.plot_grid(lw=0.5)\n",
    "cb = fig.colorbar(csa, ax=ax, shrink=0.5)"
   ]
  },
  {
   "cell_type": "markdown",
   "metadata": {
    "pycharm": {
     "name": "#%% md\n"
    }
   },
   "source": [
    "### Plotting geographic coordinates on the x-axis using the `PlotCrossSection` class\n",
    "\n",
    "The default cross section plotting method plots cells with regard to their intersection distance along the cross sectional line defined by the user. While this method is perfectly acceptable and in many cases may be preferred for plotting arbitrary cross sections, a flag has been added to plot based on geographic coordinates.\n",
    "\n",
    "The flag `geographic_coords` defaults to `False` which maintains FloPy's previous method of plotting cross sections. "
   ]
  },
  {
   "cell_type": "code",
   "execution_count": null,
   "metadata": {
    "execution": {
     "iopub.execute_input": "2023-05-02T02:55:09.351081Z",
     "iopub.status.busy": "2023-05-02T02:55:09.350736Z",
     "iopub.status.idle": "2023-05-02T02:55:09.934597Z",
     "shell.execute_reply": "2023-05-02T02:55:09.933588Z"
    },
    "pycharm": {
     "name": "#%%\n"
    }
   },
   "outputs": [],
   "source": [
    "# get the vertices for cross-section lines in a shapefile\n",
    "fpth = os.path.join(loadpth, \"gis\", \"cross_section_rotate14\")\n",
    "line = flopy.plot.plotutil.shapefile_get_vertices(fpth)\n",
    "\n",
    "# Set up the figure\n",
    "fig = plt.figure(figsize=(18, 5))\n",
    "ax = fig.add_subplot(1, 1, 1)\n",
    "ax.set_title(\"plot_array() along an arbitrary cross-sectional line\")\n",
    "\n",
    "# plot head values along the cross sectional line\n",
    "xsect = flopy.plot.PlotCrossSection(\n",
    "    model=ml, line={\"line\": line[0]}, geographic_coords=True\n",
    ")\n",
    "csa = xsect.plot_array(head, head=head, alpha=0.5)\n",
    "patches = xsect.plot_ibound(head=head)\n",
    "linecollection = xsect.plot_grid(lw=0.5)\n",
    "cb = fig.colorbar(csa, ax=ax, shrink=0.5)"
   ]
  },
  {
   "cell_type": "markdown",
   "metadata": {
    "pycharm": {
     "name": "#%% md\n"
    }
   },
   "source": [
    "## Plotting Cross Sections with MODFLOW-6 models\n",
    "\n",
    "`PlotCrossSection` has support for MODFLOW-6 models and operates in the same fashion for Structured Grids, Vertex Grids, and Unstructured Grids. Here is a short example on how to plot with MODFLOW-6 structured grids using a version of the Freyberg model created for MODFLOW-6|"
   ]
  },
  {
   "cell_type": "code",
   "execution_count": null,
   "metadata": {
    "execution": {
     "iopub.execute_input": "2023-05-02T02:55:09.938970Z",
     "iopub.status.busy": "2023-05-02T02:55:09.938419Z",
     "iopub.status.idle": "2023-05-02T02:55:10.300683Z",
     "shell.execute_reply": "2023-05-02T02:55:10.299564Z"
    }
   },
   "outputs": [],
   "source": [
    "# load the Freyberg model into mf6-flopy and run the simulation\n",
    "sim_name = \"mfsim.nam\"\n",
    "sim_path = str(prj_root / \"examples\" / \"data\" / \"mf6-freyberg\")\n",
    "sim = flopy.mf6.MFSimulation.load(\n",
    "    sim_name=sim_name, version=vmf6, exe_name=exe_name_mf6, sim_ws=sim_path\n",
    ")\n",
    "\n",
    "sim.set_sim_path(modelpth)\n",
    "sim.write_simulation()\n",
    "success, buff = sim.run_simulation(silent=True, report=True)\n",
    "if success:\n",
    "    for line in buff:\n",
    "        print(line)\n",
    "else:\n",
    "    raise ValueError(\"Something bad happened.\")\n",
    "files = [\"freyberg.hds\", \"freyberg.cbc\"]\n",
    "for f in files:\n",
    "    if os.path.isfile(os.path.join(str(modelpth), f)):\n",
    "        msg = \"Output file located: {}\".format(f)\n",
    "        print(msg)\n",
    "    else:\n",
    "        errmsg = \"Error. Output file cannot be found: {}\".format(f)\n",
    "        print(errmsg)"
   ]
  },
  {
   "cell_type": "markdown",
   "metadata": {
    "pycharm": {
     "name": "#%% md\n"
    }
   },
   "source": [
    "### Plotting boundary conditions and arrays\n",
    "\n",
    "This works the same as modflow-2005, however the simulation object can host a number of modflow-6 models so we need to grab a model before attempting to plot with `PlotCrossSection`"
   ]
  },
  {
   "cell_type": "code",
   "execution_count": null,
   "metadata": {
    "execution": {
     "iopub.execute_input": "2023-05-02T02:55:10.304695Z",
     "iopub.status.busy": "2023-05-02T02:55:10.304274Z",
     "iopub.status.idle": "2023-05-02T02:55:11.103508Z",
     "shell.execute_reply": "2023-05-02T02:55:11.102797Z"
    },
    "pycharm": {
     "name": "#%%\n"
    }
   },
   "outputs": [],
   "source": [
    "# get the modflow-6 model we want to plot\n",
    "ml6 = sim.get_model(\"freyberg\")\n",
    "\n",
    "fig = plt.figure(figsize=(15, 10))\n",
    "ax = fig.add_subplot(2, 1, 1)\n",
    "\n",
    "# plot boundary conditions\n",
    "xsect = flopy.plot.PlotCrossSection(model=ml6, line={\"Column\": 5})\n",
    "patches = xsect.plot_bc(\"WEL_0\", color=\"pink\")\n",
    "patches = xsect.plot_ibound()\n",
    "linecollection = xsect.plot_grid()\n",
    "t = ax.set_title(\"Column 6 Cross-Section with Boundary Conditions\")\n",
    "\n",
    "# plot xxxx\n",
    "ax = fig.add_subplot(2, 1, 2)\n",
    "# plot the horizontal hydraulic conductivities\n",
    "a = ml6.npf.k.array\n",
    "\n",
    "xsect = flopy.plot.PlotCrossSection(model=ml6, line={\"Column\": 5})\n",
    "csa = xsect.plot_array(a)\n",
    "patches = xsect.plot_ibound()\n",
    "linecollection = xsect.plot_grid()\n",
    "t = ax.set_title(\n",
    "    \"Column 6 Cross-Section with Horizontal hydraulic conductivity\"\n",
    ")\n",
    "cb = plt.colorbar(csa, shrink=0.75)"
   ]
  },
  {
   "cell_type": "markdown",
   "metadata": {
    "pycharm": {
     "name": "#%% md\n"
    }
   },
   "source": [
    "### Plotting specific discharge with a MODFLOW-6 model\n",
    "\n",
    "MODFLOW-6 includes a the PLOT_SPECIFIC_DISCHARGE flag in the NPF package to calculate and store discharge vectors for easy plotting. The `postprocessing.get_specific_discharge()` method will preprocess the data into vectors and `PlotCrossSection` has the `plot_vector()` method to use this data. The specific discharge array is stored in the cell budget file."
   ]
  },
  {
   "cell_type": "code",
   "execution_count": null,
   "metadata": {
    "execution": {
     "iopub.execute_input": "2023-05-02T02:55:11.106104Z",
     "iopub.status.busy": "2023-05-02T02:55:11.105810Z",
     "iopub.status.idle": "2023-05-02T02:55:11.524875Z",
     "shell.execute_reply": "2023-05-02T02:55:11.523320Z"
    },
    "pycharm": {
     "name": "#%%\n"
    }
   },
   "outputs": [],
   "source": [
    "# get the head from the head file\n",
    "head_file = os.path.join(modelpth, \"freyberg.hds\")\n",
    "hds = flopy.utils.HeadFile(head_file)\n",
    "head = hds.get_alldata()[0]\n",
    "\n",
    "# get the specific discharge from the cell budget file\n",
    "cbc_file = os.path.join(modelpth, \"freyberg.cbc\")\n",
    "cbc = flopy.utils.CellBudgetFile(cbc_file, precision=\"double\")\n",
    "spdis = cbc.get_data(text=\"SPDIS\")[-1]\n",
    "qx, qy, qz = flopy.utils.postprocessing.get_specific_discharge(\n",
    "    spdis, ml6, head=head\n",
    ")\n",
    "\n",
    "fig = plt.figure(figsize=(18, 5))\n",
    "ax = fig.add_subplot(1, 1, 1)\n",
    "\n",
    "ax.set_title(\"plot_array() and plot_vector()\")\n",
    "xsect = flopy.plot.PlotCrossSection(model=ml6, ax=ax, line={\"Column\": 5})\n",
    "csa = xsect.plot_array(head, head=head, alpha=0.5)\n",
    "patches = xsect.plot_ibound(head=head)\n",
    "linecollection = xsect.plot_grid()\n",
    "quiver = xsect.plot_vector(\n",
    "    qx,\n",
    "    qy,\n",
    "    qz,\n",
    "    head=head,\n",
    "    hstep=2,\n",
    "    normalize=True,\n",
    "    color=\"green\",\n",
    "    scale=30,\n",
    "    headwidth=3,\n",
    "    headlength=3,\n",
    "    headaxislength=3,\n",
    "    zorder=10,\n",
    ")\n",
    "\n",
    "cb = plt.colorbar(csa, shrink=0.75)"
   ]
  },
  {
   "cell_type": "markdown",
   "metadata": {
    "pycharm": {
     "name": "#%% md\n"
    }
   },
   "source": [
    "## Vertex cross section plotting with MODFLOW-6 (DISV) \n",
    "\n",
    "FloPy fully supports vertex discretization (DISV) plotting through the `PlotCrossSection` class. The method calls are identical to the ones presented previously for Structured discretization (DIS) and the same matplotlib keyword arguments are supported. Let's run through an example using a vertex model grid."
   ]
  },
  {
   "cell_type": "code",
   "execution_count": null,
   "metadata": {
    "execution": {
     "iopub.execute_input": "2023-05-02T02:55:11.529672Z",
     "iopub.status.busy": "2023-05-02T02:55:11.529140Z",
     "iopub.status.idle": "2023-05-02T02:55:13.085234Z",
     "shell.execute_reply": "2023-05-02T02:55:13.084042Z"
    },
    "pycharm": {
     "name": "#%%\n"
    }
   },
   "outputs": [],
   "source": [
    "# build and run vertex model grid demo problem\n",
    "notebook_utils.run(modelpth)\n",
    "\n",
    "# check if model ran properly\n",
    "modelpth = os.path.join(modelpth, \"mp7_ex2\", \"mf6\")\n",
    "# from pprint import pprint\n",
    "# pprint([str(p) for p in (Path(tempdir.name) / \"mp7_ex2\").glob('*')])\n",
    "files = [\"mp7p2.hds\", \"mp7p2.cbb\"]\n",
    "for f in files:\n",
    "    if os.path.isfile(os.path.join(modelpth, f)):\n",
    "        msg = \"Output file located: {}\".format(f)\n",
    "        print(msg)\n",
    "    else:\n",
    "        errmsg = \"Error. Output file cannot be found: {}\".format(f)\n",
    "        print(errmsg)"
   ]
  },
  {
   "cell_type": "code",
   "execution_count": null,
   "metadata": {
    "execution": {
     "iopub.execute_input": "2023-05-02T02:55:13.089679Z",
     "iopub.status.busy": "2023-05-02T02:55:13.089249Z",
     "iopub.status.idle": "2023-05-02T02:55:13.287258Z",
     "shell.execute_reply": "2023-05-02T02:55:13.286415Z"
    },
    "pycharm": {
     "name": "#%%\n"
    }
   },
   "outputs": [],
   "source": [
    "# load the simulation and get the model\n",
    "vertex_sim_name = \"mfsim.nam\"\n",
    "vertex_sim = flopy.mf6.MFSimulation.load(\n",
    "    sim_name=vertex_sim_name,\n",
    "    version=vmf6,\n",
    "    exe_name=exe_name_mf6,\n",
    "    sim_ws=modelpth,\n",
    ")\n",
    "vertex_ml6 = vertex_sim.get_model(\"mp7p2\")"
   ]
  },
  {
   "cell_type": "markdown",
   "metadata": {
    "pycharm": {
     "name": "#%% md\n"
    }
   },
   "source": [
    "### Plotting a line based cross section through the model grid\n",
    "\n",
    "Because a `VertexGrid` has no row or column number, the cross-section line must be defined explicitly. This is done by passing a dictionary to the `line` parameter with key `line` &mdash; the value may be an array-like of 2 or more points, e.g. `{\"line\": [(x0, y0), (x1, y1), ...]}`, or a `flopy.utils.geometry.LineString` or `shapely.geometry.LineString`. Below we show an example of setting up a cross-section line with a MODFLOW-6 DISV model.\n"
   ]
  },
  {
   "cell_type": "code",
   "execution_count": null,
   "metadata": {
    "execution": {
     "iopub.execute_input": "2023-05-02T02:55:13.291097Z",
     "iopub.status.busy": "2023-05-02T02:55:13.290509Z",
     "iopub.status.idle": "2023-05-02T02:55:13.609065Z",
     "shell.execute_reply": "2023-05-02T02:55:13.608284Z"
    },
    "pycharm": {
     "name": "#%%\n"
    }
   },
   "outputs": [],
   "source": [
    "line = np.array([(4700, 0), (4700, 5000), (7250, 10500)])\n",
    "\n",
    "# Let's plot the model grid in map view to look at it\n",
    "fig = plt.figure(figsize=(12, 12))\n",
    "ax = fig.add_subplot(1, 1, 1, aspect=\"equal\")\n",
    "ax.set_title(\"Vertex Model Grid (DISV) with cross sectional line\")\n",
    "\n",
    "# use PlotMapView to plot a DISV (vertex) model\n",
    "mapview = flopy.plot.PlotMapView(vertex_ml6, layer=0)\n",
    "linecollection = mapview.plot_grid()\n",
    "\n",
    "# plot the line over the model grid\n",
    "lc = plt.plot(line.T[0], line.T[1], \"r--\", lw=2)"
   ]
  },
  {
   "cell_type": "markdown",
   "metadata": {
    "pycharm": {
     "name": "#%% md\n"
    }
   },
   "source": [
    "Now we can plot a cross section of the model grid defined by this line"
   ]
  },
  {
   "cell_type": "code",
   "execution_count": null,
   "metadata": {
    "execution": {
     "iopub.execute_input": "2023-05-02T02:55:13.611493Z",
     "iopub.status.busy": "2023-05-02T02:55:13.611262Z",
     "iopub.status.idle": "2023-05-02T02:55:14.060433Z",
     "shell.execute_reply": "2023-05-02T02:55:14.059681Z"
    },
    "pycharm": {
     "name": "#%%\n"
    }
   },
   "outputs": [],
   "source": [
    "fig = plt.figure(figsize=(15, 5))\n",
    "ax = fig.add_subplot(1, 1, 1)\n",
    "\n",
    "# Next we create an instance of the PlotCrossSection class\n",
    "xsect = flopy.plot.PlotCrossSection(model=vertex_ml6, line={\"line\": line})\n",
    "\n",
    "# Then we can use the plot_grid() method to draw the grid\n",
    "# The return value for this function is a matplotlib LineCollection object,\n",
    "# which could be manipulated (or used) later if necessary.\n",
    "linecollection = xsect.plot_grid()\n",
    "t = ax.set_title(\"Column 6 Cross-Section - Model Grid\")"
   ]
  },
  {
   "cell_type": "markdown",
   "metadata": {
    "pycharm": {
     "name": "#%% md\n"
    }
   },
   "source": [
    "### Plotting Arrays and Contouring with Vertex Model grids\n",
    "\n",
    "`PlotCrossSection` allows the user to plot arrays and contour with DISV based discretization. The `plot_array()` method is called in the same way as using a structured grid. The only difference is that `PlotCrossSection` builds a matplotlib patch collection for Vertex based grids. "
   ]
  },
  {
   "cell_type": "code",
   "execution_count": null,
   "metadata": {
    "execution": {
     "iopub.execute_input": "2023-05-02T02:55:14.062920Z",
     "iopub.status.busy": "2023-05-02T02:55:14.062672Z",
     "iopub.status.idle": "2023-05-02T02:55:14.589449Z",
     "shell.execute_reply": "2023-05-02T02:55:14.587986Z"
    },
    "pycharm": {
     "name": "#%%\n"
    }
   },
   "outputs": [],
   "source": [
    "# get the head output for stress period 1 from the modflow6 head file\n",
    "head = flopy.utils.HeadFile(os.path.join(modelpth, \"mp7p2.hds\"))\n",
    "hdata = head.get_alldata()[0, :, :, :]\n",
    "\n",
    "fig = plt.figure(figsize=(18, 5))\n",
    "ax = fig.add_subplot(1, 1, 1)\n",
    "ax.set_title(\"plot_array()\")\n",
    "\n",
    "xsect = flopy.plot.PlotCrossSection(model=vertex_ml6, line={\"line\": line})\n",
    "patch_collection = xsect.plot_array(hdata, head=hdata, alpha=0.5)\n",
    "line_collection = xsect.plot_grid()\n",
    "cb = plt.colorbar(patch_collection, shrink=0.75)"
   ]
  },
  {
   "cell_type": "markdown",
   "metadata": {
    "pycharm": {
     "name": "#%% md\n"
    }
   },
   "source": [
    "The `contour_array()` method operates in the same way as the sturctured example."
   ]
  },
  {
   "cell_type": "code",
   "execution_count": null,
   "metadata": {
    "execution": {
     "iopub.execute_input": "2023-05-02T02:55:14.593525Z",
     "iopub.status.busy": "2023-05-02T02:55:14.593142Z",
     "iopub.status.idle": "2023-05-02T02:55:15.159467Z",
     "shell.execute_reply": "2023-05-02T02:55:15.158705Z"
    },
    "pycharm": {
     "name": "#%%\n"
    }
   },
   "outputs": [],
   "source": [
    "levels = np.arange(329, 337, 1)\n",
    "\n",
    "fig = plt.figure(figsize=(18, 5))\n",
    "ax = fig.add_subplot(1, 1, 1)\n",
    "ax.set_title(\"contour_array() with a multi-layer vertex model\")\n",
    "\n",
    "xsect = flopy.plot.PlotCrossSection(model=vertex_ml6, line={\"line\": line})\n",
    "patch_collection = xsect.plot_array(hdata, head=hdata, alpha=0.5)\n",
    "line_collection = xsect.plot_grid()\n",
    "\n",
    "contour_set = xsect.contour_array(hdata, levels=levels, colors=\"k\")\n",
    "plt.clabel(contour_set, fmt=\"%.1f\", colors=\"k\", fontsize=11)\n",
    "\n",
    "cb = plt.colorbar(patch_collection, shrink=0.75)"
   ]
  },
  {
   "cell_type": "markdown",
   "metadata": {
    "pycharm": {
     "name": "#%% md\n"
    }
   },
   "source": [
    "### Plotting specific discharge vectors for DISV\n",
    "MODFLOW-6 includes a the PLOT_SPECIFIC_DISCHARGE flag in the NPF package to calculate and store discharge vectors for easy plotting.The `postprocessing.get_specific_discharge()` method will preprocess the data into vectors and `PlotCrossSection` has the `plot_vector()` method to use this data. The specific discharge array is stored in the cell budget file.\n",
    "\n",
    "**Note**: When plotting specific discharge, an arbitrary cross section cannot be used. The cross sectional line must be orthogonal to the model grid"
   ]
  },
  {
   "cell_type": "code",
   "execution_count": null,
   "metadata": {
    "execution": {
     "iopub.execute_input": "2023-05-02T02:55:15.162307Z",
     "iopub.status.busy": "2023-05-02T02:55:15.162036Z",
     "iopub.status.idle": "2023-05-02T02:55:15.478356Z",
     "shell.execute_reply": "2023-05-02T02:55:15.477351Z"
    },
    "pycharm": {
     "name": "#%%\n"
    }
   },
   "outputs": [],
   "source": [
    "# define and plot our orthogonal line\n",
    "line = np.array([(0, 4700), (10000, 4700)])\n",
    "\n",
    "# Let's plot the model grid in map view to look at it\n",
    "fig = plt.figure(figsize=(12, 12))\n",
    "ax = fig.add_subplot(1, 1, 1, aspect=\"equal\")\n",
    "ax.set_title(\"Vertex Model Grid (DISV) with cross sectional line\")\n",
    "\n",
    "# use PlotMapView to plot a DISV (vertex) model\n",
    "mapview = flopy.plot.PlotMapView(vertex_ml6, layer=0)\n",
    "linecollection = mapview.plot_grid()\n",
    "\n",
    "# plot the line over the model grid\n",
    "lc = plt.plot(line.T[0], line.T[1], \"r--\", lw=2)"
   ]
  },
  {
   "cell_type": "code",
   "execution_count": null,
   "metadata": {
    "execution": {
     "iopub.execute_input": "2023-05-02T02:55:15.481663Z",
     "iopub.status.busy": "2023-05-02T02:55:15.481264Z",
     "iopub.status.idle": "2023-05-02T02:55:15.910230Z",
     "shell.execute_reply": "2023-05-02T02:55:15.909390Z"
    },
    "pycharm": {
     "name": "#%%\n"
    }
   },
   "outputs": [],
   "source": [
    "# plot specific discharge on cross section\n",
    "cbb = flopy.utils.CellBudgetFile(os.path.join(modelpth, \"mp7p2.cbb\"))\n",
    "spdis = cbb.get_data(text=\"SPDIS\")[-1]\n",
    "qx, qy, qz = flopy.utils.postprocessing.get_specific_discharge(\n",
    "    spdis, vertex_ml6, head=hdata\n",
    ")\n",
    "\n",
    "fig = plt.figure(figsize=(18, 5))\n",
    "ax = fig.add_subplot(1, 1, 1)\n",
    "\n",
    "xsect = flopy.plot.PlotCrossSection(model=vertex_ml6, line={\"line\": line})\n",
    "patch_collection = xsect.plot_array(hdata, head=hdata, alpha=0.5)\n",
    "line_collection = xsect.plot_grid()\n",
    "quiver = xsect.plot_vector(\n",
    "    qx,\n",
    "    qy,\n",
    "    qz,\n",
    "    head=hdata,\n",
    "    hstep=3,\n",
    "    normalize=True,\n",
    "    color=\"green\",\n",
    "    scale=30,\n",
    "    headwidth=3,\n",
    "    headlength=3,\n",
    "    headaxislength=3,\n",
    "    zorder=10,\n",
    ")\n",
    "\n",
    "cb = plt.colorbar(patch_collection, shrink=0.75)"
   ]
  },
  {
   "cell_type": "markdown",
   "metadata": {
    "pycharm": {
     "name": "#%% md\n"
    }
   },
   "source": [
    "## Plotting using built in styles\n",
    "\n",
    "FloPy's plotting routines can be used with built in styles from the `styles` module. The `styles` module takes advantage of matplotlib's temporary styling routines by reading in pre-built style sheets. Two different types of styles have been built for flopy: `USGSMap()` and `USGSPlot()` styles which can be used to create report quality figures. The styles module also contains a number of methods that can be used for adding axis labels, text, annotations, headings, removing tick lines, and updating the current font.\n",
    "\n",
    "This example will load the Keating groundwater transport model and plot results using `styles`"
   ]
  },
  {
   "cell_type": "code",
   "execution_count": null,
   "metadata": {
    "execution": {
     "iopub.execute_input": "2023-05-02T02:55:15.913690Z",
     "iopub.status.busy": "2023-05-02T02:55:15.913340Z",
     "iopub.status.idle": "2023-05-02T02:56:21.023928Z",
     "shell.execute_reply": "2023-05-02T02:56:21.022556Z"
    },
    "pycharm": {
     "name": "#%%\n"
    }
   },
   "outputs": [],
   "source": [
    "notebook_utils.run_keating_model(modelpth)"
   ]
  },
  {
   "cell_type": "markdown",
   "metadata": {
    "pycharm": {
     "name": "#%% md\n"
    }
   },
   "source": [
    "Load the flow and transport models"
   ]
  },
  {
   "cell_type": "code",
   "execution_count": null,
   "metadata": {
    "execution": {
     "iopub.execute_input": "2023-05-02T02:56:21.029687Z",
     "iopub.status.busy": "2023-05-02T02:56:21.029172Z",
     "iopub.status.idle": "2023-05-02T02:56:21.554651Z",
     "shell.execute_reply": "2023-05-02T02:56:21.553990Z"
    },
    "pycharm": {
     "name": "#%%\n"
    }
   },
   "outputs": [],
   "source": [
    "sim_path = os.path.join(modelpth, \"mf6-gwt-keating\", \"mf6gwf\")\n",
    "tr_path = os.path.join(modelpth, \"mf6-gwt-keating\", \"mf6gwt\")\n",
    "sim_name = \"mfsim.nam\"\n",
    "sim = flopy.mf6.MFSimulation.load(\n",
    "    sim_name=sim_name, version=vmf6, exe_name=exe_name_mf6, sim_ws=sim_path\n",
    ")\n",
    "gwf6 = sim.get_model(\"flow\")\n",
    "\n",
    "sim = flopy.mf6.MFSimulation.load(\n",
    "    sim_name=sim_name, version=vmf6, exe_name=exe_name_mf6, sim_ws=tr_path\n",
    ")\n",
    "gwt6 = sim.get_model(\"trans\")"
   ]
  },
  {
   "cell_type": "code",
   "execution_count": null,
   "metadata": {
    "execution": {
     "iopub.execute_input": "2023-05-02T02:56:21.557201Z",
     "iopub.status.busy": "2023-05-02T02:56:21.556922Z",
     "iopub.status.idle": "2023-05-02T02:56:40.771352Z",
     "shell.execute_reply": "2023-05-02T02:56:40.770402Z"
    },
    "pycharm": {
     "name": "#%%\n"
    }
   },
   "outputs": [],
   "source": [
    "# import styles\n",
    "from flopy.plot import styles\n",
    "\n",
    "# load head file and plot\n",
    "head = gwf6.output.head().get_data()\n",
    "\n",
    "with styles.USGSMap():\n",
    "    fig, ax = plt.subplots(1, 1, figsize=(12, 8), dpi=300, tight_layout=True)\n",
    "\n",
    "    xsect = flopy.plot.PlotCrossSection(model=gwf6, ax=ax, line={\"row\": 0})\n",
    "    pc = xsect.plot_array(head, head=head, cmap=\"jet\")\n",
    "    xsect.plot_bc(ftype=\"RCH\", color=\"red\")\n",
    "    xsect.plot_bc(ftype=\"CHD\")\n",
    "    plt.colorbar(pc, shrink=0.25)\n",
    "\n",
    "    # add a rectangle to show the confining layer\n",
    "    confining_rect = mpl.patches.Rectangle(\n",
    "        (3000, 1000), 3000, 100, color=\"gray\", alpha=0.5\n",
    "    )\n",
    "    ax.add_patch(confining_rect)\n",
    "\n",
    "    # set labels using styles\n",
    "    styles.xlabel(label=\"x-position (m)\")\n",
    "    styles.ylabel(label=\"elevation (m)\")\n",
    "    styles.heading(\n",
    "        letter=\"A.\", heading=\"Simulated hydraulic head\", fontsize=10\n",
    "    )\n",
    "    ax.set_aspect(1.0)"
   ]
  },
  {
   "cell_type": "markdown",
   "metadata": {
    "pycharm": {
     "name": "#%% md\n"
    }
   },
   "source": [
    "Plotting concentration model results using the `USGSMap()` style"
   ]
  },
  {
   "cell_type": "code",
   "execution_count": null,
   "metadata": {
    "execution": {
     "iopub.execute_input": "2023-05-02T02:56:40.774764Z",
     "iopub.status.busy": "2023-05-02T02:56:40.774326Z",
     "iopub.status.idle": "2023-05-02T02:57:56.581436Z",
     "shell.execute_reply": "2023-05-02T02:57:56.580522Z"
    },
    "pycharm": {
     "name": "#%%\n"
    }
   },
   "outputs": [],
   "source": [
    "# load the transport output file\n",
    "cobj = gwt6.output.concentration()\n",
    "plot_times = [100, 1000, 3000]\n",
    "obs1 = (48, 0, 118)  # Layer, row, and column for observation 1\n",
    "obs2 = (76, 0, 358)  # Layer, row, and column for observation 2\n",
    "xgrid, _, zgrid = gwf6.modelgrid.xyzcellcenters\n",
    "\n",
    "\n",
    "with styles.USGSPlot():\n",
    "    fig, axes = plt.subplots(3, 1, figsize=(15, 9), tight_layout=True)\n",
    "    for ix, totim in enumerate(plot_times):\n",
    "        heading = \"Time = {}\".format(totim)\n",
    "        conc = cobj.get_data(totim=totim)\n",
    "        ax = axes[ix]\n",
    "        xsect = flopy.plot.PlotCrossSection(model=gwf6, ax=ax, line={\"row\": 0})\n",
    "        pc = xsect.plot_array(conc, head=head, cmap=\"jet\", vmin=0, vmax=1)\n",
    "        xsect.plot_bc(ftype=\"RCH\", color=\"red\")\n",
    "        xsect.plot_bc(ftype=\"CHD\")\n",
    "\n",
    "        # plot confining layer\n",
    "        confining_rect = mpl.patches.Rectangle(\n",
    "            (3000, 1000), 3000, 100, color=\"gray\", alpha=0.5\n",
    "        )\n",
    "        ax.add_patch(confining_rect)\n",
    "\n",
    "        # set axis labels and title using styles\n",
    "        styles.ylabel(ax=ax, label=\"elevation (m)\", fontsize=10)\n",
    "        if ix == 2:\n",
    "            styles.xlabel(ax=ax, label=\"x-position (m)\", fontsize=10)\n",
    "        styles.heading(ax=ax, heading=heading, idx=ix, fontsize=12)\n",
    "\n",
    "        ax.set_aspect(1.0)\n",
    "\n",
    "        # add observation locations based on grid cell centers\n",
    "        for k, i, j in [obs1, obs2]:\n",
    "            x = xgrid[i, j]\n",
    "            z = zgrid[k, i, j]\n",
    "            ax.plot(x, z, mfc=\"yellow\", mec=\"black\", marker=\"o\", ms=\"8\")"
   ]
  },
  {
   "cell_type": "markdown",
   "metadata": {
    "pycharm": {
     "name": "#%% md\n"
    }
   },
   "source": [
    "## Summary\n",
    "\n",
    "This notebook demonstrates some of the plotting functionality available with flopy.  Although not described here, the plotting functionality tries to be general by passing keyword arguments passed to the `PlotCrossSection` methods down into the `matplotlib.pyplot` routines that do the actual plotting.  For those looking to customize these plots, it may be necessary to search for the available keywords by understanding the types of objects that are created by the `PlotCrossSection` methods.  The `PlotCrossSection` methods return these matplotlib.collections objects so that they could be fine-tuned later in the script before plotting.\n",
    "\n",
    "Hope this gets you started!"
   ]
  },
  {
   "cell_type": "code",
   "execution_count": null,
   "metadata": {
    "execution": {
     "iopub.execute_input": "2023-05-02T02:57:56.585118Z",
     "iopub.status.busy": "2023-05-02T02:57:56.584508Z",
     "iopub.status.idle": "2023-05-02T02:57:56.652402Z",
     "shell.execute_reply": "2023-05-02T02:57:56.651391Z"
    },
    "pycharm": {
     "name": "#%%\n"
    }
   },
   "outputs": [],
   "source": [
    "try:\n",
    "    # ignore PermissionError on Windows\n",
    "    tempdir.cleanup()\n",
    "except:\n",
    "    pass"
   ]
  }
 ],
 "metadata": {
  "kernelspec": {
   "display_name": "Python 3 (ipykernel)",
   "language": "python",
   "name": "python3"
  },
  "language_info": {
   "codemirror_mode": {
    "name": "ipython",
    "version": 3
   },
   "file_extension": ".py",
   "mimetype": "text/x-python",
   "name": "python",
   "nbconvert_exporter": "python",
   "pygments_lexer": "ipython3",
   "version": "3.11.0"
  }
 },
 "nbformat": 4,
 "nbformat_minor": 4
}
