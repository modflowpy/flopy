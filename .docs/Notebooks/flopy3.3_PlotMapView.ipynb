{
 "cells": [
  {
   "attachments": {},
   "cell_type": "markdown",
   "metadata": {
    "pycharm": {
     "name": "#%% md\n"
    }
   },
   "source": [
    "# Making Maps of Your Model\n",
    "This notebook demonstrates the mapping capabilities of FloPy. It demonstrates these capabilities by loading and running existing models and then showing how the PlotMapView object and its methods can be used to make nice plots of the model grid, boundary conditions, model results, shape files, etc.\n",
    "\n",
    "### Mapping is demonstrated for MODFLOW-2005, MODFLOW-USG, and MODFLOW-6 models in this notebook\n"
   ]
  },
  {
   "cell_type": "code",
   "execution_count": null,
   "metadata": {
    "execution": {
     "iopub.execute_input": "2023-05-02T02:54:57.043091Z",
     "iopub.status.busy": "2023-05-02T02:54:57.042364Z",
     "iopub.status.idle": "2023-05-02T02:54:58.235130Z",
     "shell.execute_reply": "2023-05-02T02:54:58.234322Z"
    }
   },
   "outputs": [],
   "source": [
    "import sys\n",
    "import os\n",
    "import numpy as np\n",
    "import matplotlib as mpl\n",
    "import matplotlib.pyplot as plt\n",
    "import shapefile\n",
    "from tempfile import TemporaryDirectory\n",
    "\n",
    "sys.path.append(os.path.join(\"..\", \"common\"))\n",
    "import notebook_utils\n",
    "\n",
    "# run installed version of flopy or add local path\n",
    "try:\n",
    "    import flopy\n",
    "except:\n",
    "    fpth = os.path.abspath(os.path.join(\"..\", \"..\"))\n",
    "    sys.path.append(fpth)\n",
    "    import flopy\n",
    "\n",
    "print(sys.version)\n",
    "print(\"numpy version: {}\".format(np.__version__))\n",
    "print(\"matplotlib version: {}\".format(mpl.__version__))\n",
    "print(\"flopy version: {}\".format(flopy.__version__))"
   ]
  },
  {
   "cell_type": "code",
   "execution_count": null,
   "metadata": {
    "execution": {
     "iopub.execute_input": "2023-05-02T02:54:58.287428Z",
     "iopub.status.busy": "2023-05-02T02:54:58.287059Z",
     "iopub.status.idle": "2023-05-02T02:54:58.293522Z",
     "shell.execute_reply": "2023-05-02T02:54:58.292631Z"
    },
    "pycharm": {
     "name": "#%%\n"
    }
   },
   "outputs": [],
   "source": [
    "# Set name of MODFLOW exe\n",
    "# assumes executable is in users path statement\n",
    "v2005 = \"mf2005\"\n",
    "exe_name_2005 = \"mf2005\"\n",
    "vmf6 = \"mf6\"\n",
    "exe_name_mf6 = \"mf6\"\n",
    "exe_mp = \"mp6\"\n",
    "\n",
    "# Set the paths\n",
    "prj_root = notebook_utils.get_project_root_path()\n",
    "loadpth = str(prj_root / \"examples\" / \"data\" / \"freyberg\")\n",
    "tempdir = TemporaryDirectory()\n",
    "modelpth = tempdir.name"
   ]
  },
  {
   "attachments": {},
   "cell_type": "markdown",
   "metadata": {
    "pycharm": {
     "name": "#%% md\n"
    }
   },
   "source": [
    "### Load and Run an Existing MODFLOW-2005 Model\n",
    "A model called the \"Freyberg Model\" is located in the loadpth folder.  In the following code block, we load that model, then change into a new workspace (modelpth) where we recreate and run the model.  For this to work properly, the MODFLOW-2005 executable (mf2005) must be in the path.  We verify that it worked correctly by checking for the presence of freyberg.hds and freyberg.cbc."
   ]
  },
  {
   "cell_type": "code",
   "execution_count": null,
   "metadata": {
    "execution": {
     "iopub.execute_input": "2023-05-02T02:54:58.297523Z",
     "iopub.status.busy": "2023-05-02T02:54:58.297212Z",
     "iopub.status.idle": "2023-05-02T02:54:58.443321Z",
     "shell.execute_reply": "2023-05-02T02:54:58.441461Z"
    }
   },
   "outputs": [],
   "source": [
    "ml = flopy.modflow.Modflow.load(\n",
    "    \"freyberg.nam\", model_ws=loadpth, exe_name=exe_name_2005, version=v2005\n",
    ")\n",
    "ml.change_model_ws(new_pth=modelpth)\n",
    "ml.write_input()\n",
    "success, buff = ml.run_model(silent=True, report=True)\n",
    "if success:\n",
    "    for line in buff:\n",
    "        print(line)\n",
    "else:\n",
    "    raise ValueError(\"Failed to run.\")\n",
    "\n",
    "files = [\"freyberg.hds\", \"freyberg.cbc\"]\n",
    "for f in files:\n",
    "    if os.path.isfile(os.path.join(modelpth, f)):\n",
    "        msg = \"Output file located: {}\".format(f)\n",
    "        print(msg)\n",
    "    else:\n",
    "        errmsg = \"Error. Output file cannot be found: {}\".format(f)\n",
    "        print(errmsg)"
   ]
  },
  {
   "attachments": {},
   "cell_type": "markdown",
   "metadata": {
    "pycharm": {
     "name": "#%% md\n"
    }
   },
   "source": [
    "### Create and Run MODPATH 6 model\n",
    "\n",
    "The MODFLOW-2005 model created in the previous code block will be used to create a endpoint capture zone and pathline analysis for the pumping wells in the model."
   ]
  },
  {
   "cell_type": "code",
   "execution_count": null,
   "metadata": {
    "execution": {
     "iopub.execute_input": "2023-05-02T02:54:58.449457Z",
     "iopub.status.busy": "2023-05-02T02:54:58.448453Z",
     "iopub.status.idle": "2023-05-02T02:54:58.744733Z",
     "shell.execute_reply": "2023-05-02T02:54:58.743642Z"
    }
   },
   "outputs": [],
   "source": [
    "mp = flopy.modpath.Modpath6(\n",
    "    \"freybergmp\", exe_name=exe_mp, modflowmodel=ml, model_ws=modelpth\n",
    ")\n",
    "mpbas = flopy.modpath.Modpath6Bas(\n",
    "    mp,\n",
    "    hnoflo=ml.bas6.hnoflo,\n",
    "    hdry=ml.lpf.hdry,\n",
    "    ibound=ml.bas6.ibound.array,\n",
    "    prsity=0.2,\n",
    "    prsityCB=0.2,\n",
    ")\n",
    "sim = mp.create_mpsim(trackdir=\"forward\", simtype=\"endpoint\", packages=\"RCH\")\n",
    "mp.write_input()\n",
    "success, buff = mp.run_model(silent=True, report=True)\n",
    "if success:\n",
    "    for line in buff:\n",
    "        print(line)\n",
    "else:\n",
    "    raise ValueError(\"Failed to run.\")\n",
    "\n",
    "mpp = flopy.modpath.Modpath6(\n",
    "    \"freybergmpp\", exe_name=exe_mp, modflowmodel=ml, model_ws=modelpth\n",
    ")\n",
    "mpbas = flopy.modpath.Modpath6Bas(\n",
    "    mpp,\n",
    "    hnoflo=ml.bas6.hnoflo,\n",
    "    hdry=ml.lpf.hdry,\n",
    "    ibound=ml.bas6.ibound.array,\n",
    "    prsity=0.2,\n",
    "    prsityCB=0.2,\n",
    ")\n",
    "sim = mpp.create_mpsim(trackdir=\"backward\", simtype=\"pathline\", packages=\"WEL\")\n",
    "mpp.write_input()\n",
    "mpp.run_model()"
   ]
  },
  {
   "attachments": {},
   "cell_type": "markdown",
   "metadata": {
    "pycharm": {
     "name": "#%% md\n"
    }
   },
   "source": [
    "### Creating a Map of the Model Grid\n",
    "Now that we have a model, we can use the flopy plotting utilities to make maps.  We will start by making a map of the model grid using the `PlotMapView` class and the `plot_grid()` method of that class."
   ]
  },
  {
   "cell_type": "code",
   "execution_count": null,
   "metadata": {
    "execution": {
     "iopub.execute_input": "2023-05-02T02:54:58.748562Z",
     "iopub.status.busy": "2023-05-02T02:54:58.748170Z",
     "iopub.status.idle": "2023-05-02T02:54:59.001451Z",
     "shell.execute_reply": "2023-05-02T02:54:59.000504Z"
    },
    "pycharm": {
     "name": "#%%\n"
    }
   },
   "outputs": [],
   "source": [
    "# First step is to set up the plot\n",
    "fig = plt.figure(figsize=(8, 8))\n",
    "ax = fig.add_subplot(1, 1, 1, aspect=\"equal\")\n",
    "\n",
    "# Next we create an instance of the PlotMapView class\n",
    "mapview = flopy.plot.PlotMapView(model=ml)\n",
    "\n",
    "# Then we can use the plot_grid() method to draw the grid\n",
    "# The return value for this function is a matplotlib LineCollection object,\n",
    "# which could be manipulated (or used) later if necessary.\n",
    "linecollection = mapview.plot_grid()\n",
    "\n",
    "t = ax.set_title(\"Model Grid\")"
   ]
  },
  {
   "attachments": {},
   "cell_type": "markdown",
   "metadata": {
    "pycharm": {
     "name": "#%% md\n"
    }
   },
   "source": [
    "## Grid transformations and setting coordinate information\n",
    "\n",
    "The `PlotMapView` class can plot the position of the model grid in space. However, transformations must be done on the modelgrid  using `set_coord_info()`. This allows the user to set the coordinate information once, and then they are able to generate as many instanstances of `PlotMapView` as they wish, without providing the coordinate info again.\n",
    "\n",
    "Here we demonstrate the effects of these values.  In the first two plots, the grid origin (lower left corner) remains fixed at (0, 0). These first two plots demostrate how work with coordinate info in the `PlotMapView` class. The third example shows the grid origin set at (507000 E, 2927000 N)"
   ]
  },
  {
   "cell_type": "code",
   "execution_count": null,
   "metadata": {
    "execution": {
     "iopub.execute_input": "2023-05-02T02:54:59.005744Z",
     "iopub.status.busy": "2023-05-02T02:54:59.005118Z",
     "iopub.status.idle": "2023-05-02T02:54:59.700655Z",
     "shell.execute_reply": "2023-05-02T02:54:59.699596Z"
    },
    "pycharm": {
     "name": "#%%\n"
    }
   },
   "outputs": [],
   "source": [
    "fig = plt.figure(figsize=(18, 6))\n",
    "\n",
    "ax = fig.add_subplot(1, 3, 1, aspect=\"equal\")\n",
    "\n",
    "# set modelgrid rotation\n",
    "ml.modelgrid.set_coord_info(angrot=14)\n",
    "\n",
    "# generate a plot\n",
    "mapview = flopy.plot.PlotMapView(model=ml)\n",
    "linecollection = mapview.plot_grid()\n",
    "t = ax.set_title(\"rotation=14 degrees\")\n",
    "\n",
    "# re-set the modelgrid rotation\n",
    "ml.modelgrid.set_coord_info(angrot=-20)\n",
    "\n",
    "ax = fig.add_subplot(1, 3, 2, aspect=\"equal\")\n",
    "mapview = flopy.plot.PlotMapView(model=ml)\n",
    "linecollection = mapview.plot_grid()\n",
    "t = ax.set_title(\"rotation=-20 degrees\")\n",
    "\n",
    "# re-set the modelgrid origin and rotation\n",
    "ml.modelgrid.set_coord_info(xoff=507000, yoff=2927000, angrot=45)\n",
    "\n",
    "ax = fig.add_subplot(1, 3, 3, aspect=\"equal\")\n",
    "mapview = flopy.plot.PlotMapView(model=ml)\n",
    "linecollection = mapview.plot_grid()\n",
    "t = ax.set_title(\"xoffset, yoffset, and rotation\")"
   ]
  },
  {
   "attachments": {},
   "cell_type": "markdown",
   "metadata": {
    "pycharm": {
     "name": "#%% md\n"
    }
   },
   "source": [
    "### Ploting Ibound\n",
    "\n",
    "The `plot_ibound()` method can be used to plot the boundary conditions contained in the ibound arrray, which is part of the MODFLOW Basic Package.  The `plot_ibound()` method returns a matplotlib QuadMesh object (matplotlib.collections.QuadMesh).  If you are familiar with the matplotlib collections, then this may be important to you, but if not, then don't worry about the return objects of these plotting function."
   ]
  },
  {
   "cell_type": "code",
   "execution_count": null,
   "metadata": {
    "execution": {
     "iopub.execute_input": "2023-05-02T02:54:59.706929Z",
     "iopub.status.busy": "2023-05-02T02:54:59.706523Z",
     "iopub.status.idle": "2023-05-02T02:54:59.942707Z",
     "shell.execute_reply": "2023-05-02T02:54:59.941338Z"
    },
    "pycharm": {
     "name": "#%%\n"
    }
   },
   "outputs": [],
   "source": [
    "fig = plt.figure(figsize=(8, 8))\n",
    "ax = fig.add_subplot(1, 1, 1, aspect=\"equal\")\n",
    "\n",
    "# set the grid rotation and then plot\n",
    "ml.modelgrid.set_coord_info(angrot=-14)\n",
    "mapview = flopy.plot.PlotMapView(model=ml)\n",
    "quadmesh = mapview.plot_ibound()\n",
    "linecollection = mapview.plot_grid()"
   ]
  },
  {
   "attachments": {},
   "cell_type": "markdown",
   "metadata": {
    "pycharm": {
     "name": "#%% md\n"
    }
   },
   "source": [
    "We can also change the colors by calling the `color_noflow` and `color_ch` parameters in `plot_ibound()` and the `colors` parameter in `plot_grid()`"
   ]
  },
  {
   "cell_type": "code",
   "execution_count": null,
   "metadata": {
    "execution": {
     "iopub.execute_input": "2023-05-02T02:54:59.946108Z",
     "iopub.status.busy": "2023-05-02T02:54:59.945737Z",
     "iopub.status.idle": "2023-05-02T02:55:00.189410Z",
     "shell.execute_reply": "2023-05-02T02:55:00.188454Z"
    },
    "pycharm": {
     "name": "#%%\n"
    }
   },
   "outputs": [],
   "source": [
    "fig = plt.figure(figsize=(8, 8))\n",
    "ax = fig.add_subplot(1, 1, 1, aspect=\"equal\")\n",
    "mapview = flopy.plot.PlotMapView(model=ml)\n",
    "quadmesh = mapview.plot_ibound(color_noflow=\"red\", color_ch=\"orange\")\n",
    "linecollection = mapview.plot_grid(colors=\"yellow\")"
   ]
  },
  {
   "attachments": {},
   "cell_type": "markdown",
   "metadata": {
    "pycharm": {
     "name": "#%% md\n"
    }
   },
   "source": [
    "### Plotting Boundary Conditions\n",
    "The plot_bc() method can be used to plot boundary conditions.  It is setup to use the following dictionary to assign colors, however, these colors can be changed in the method call.\n",
    "\n",
    "    bc_color_dict = {'default': 'black', 'WEL': 'red', 'DRN': 'yellow',\n",
    "                 'RIV': 'green', 'GHB': 'cyan', 'CHD': 'navy'}\n",
    "\n",
    "Here, we plot the location of river cells and the location of well cells."
   ]
  },
  {
   "cell_type": "code",
   "execution_count": null,
   "metadata": {
    "execution": {
     "iopub.execute_input": "2023-05-02T02:55:00.192858Z",
     "iopub.status.busy": "2023-05-02T02:55:00.192366Z",
     "iopub.status.idle": "2023-05-02T02:55:00.449952Z",
     "shell.execute_reply": "2023-05-02T02:55:00.448846Z"
    },
    "pycharm": {
     "name": "#%%\n"
    }
   },
   "outputs": [],
   "source": [
    "fig = plt.figure(figsize=(8, 8))\n",
    "ax = fig.add_subplot(1, 1, 1, aspect=\"equal\")\n",
    "mapview = flopy.plot.PlotMapView(model=ml)\n",
    "quadmesh = mapview.plot_ibound()\n",
    "quadmesh = mapview.plot_bc(\"RIV\")\n",
    "quadmesh = mapview.plot_bc(\"WEL\")\n",
    "linecollection = mapview.plot_grid()"
   ]
  },
  {
   "attachments": {},
   "cell_type": "markdown",
   "metadata": {
    "pycharm": {
     "name": "#%% md\n"
    }
   },
   "source": [
    "The colors can be changed by using the `color_noflow` and `color_ch` parameters in `plot_ibound()`, the `color` parameter in `plot_bc()`, and the `colors` parameter in `plot_grid()`"
   ]
  },
  {
   "cell_type": "code",
   "execution_count": null,
   "metadata": {
    "execution": {
     "iopub.execute_input": "2023-05-02T02:55:00.453429Z",
     "iopub.status.busy": "2023-05-02T02:55:00.453052Z",
     "iopub.status.idle": "2023-05-02T02:55:00.730849Z",
     "shell.execute_reply": "2023-05-02T02:55:00.729776Z"
    },
    "pycharm": {
     "name": "#%%\n"
    }
   },
   "outputs": [],
   "source": [
    "fig = plt.figure(figsize=(8, 8))\n",
    "ax = fig.add_subplot(1, 1, 1, aspect=\"equal\")\n",
    "mapview = flopy.plot.PlotMapView(model=ml)\n",
    "quadmesh = mapview.plot_ibound(color_noflow=\"red\", color_ch=\"orange\")\n",
    "quadmesh = mapview.plot_bc(\"RIV\", color=\"purple\")\n",
    "quadmesh = mapview.plot_bc(\"WEL\", color=\"navy\")\n",
    "linecollection = mapview.plot_grid(colors=\"yellow\")"
   ]
  },
  {
   "attachments": {},
   "cell_type": "markdown",
   "metadata": {
    "pycharm": {
     "name": "#%% md\n"
    }
   },
   "source": [
    "### Plotting an Array\n",
    "\n",
    "`PlotMapView` has a `plot_array()` method.  The `plot_array()` method will accept either a 2D or 3D array.  If a 3D array is passed, then the `layer` parameter for the `PlotMapView` object will be used (note that the `PlotMapView` object can be created with a `layer=` argument)."
   ]
  },
  {
   "cell_type": "code",
   "execution_count": null,
   "metadata": {
    "execution": {
     "iopub.execute_input": "2023-05-02T02:55:00.734206Z",
     "iopub.status.busy": "2023-05-02T02:55:00.733797Z",
     "iopub.status.idle": "2023-05-02T02:55:01.110298Z",
     "shell.execute_reply": "2023-05-02T02:55:01.109134Z"
    },
    "pycharm": {
     "name": "#%%\n"
    }
   },
   "outputs": [],
   "source": [
    "# Create a random array and plot it\n",
    "a = np.random.random((ml.dis.nrow, ml.dis.ncol))\n",
    "\n",
    "fig = plt.figure(figsize=(8, 8))\n",
    "ax = fig.add_subplot(1, 1, 1, aspect=\"equal\")\n",
    "ax.set_title(\"Random Array\")\n",
    "mapview = flopy.plot.PlotMapView(model=ml, layer=0)\n",
    "quadmesh = mapview.plot_array(a)\n",
    "linecollection = mapview.plot_grid()\n",
    "cb = plt.colorbar(quadmesh, shrink=0.5)"
   ]
  },
  {
   "cell_type": "code",
   "execution_count": null,
   "metadata": {
    "execution": {
     "iopub.execute_input": "2023-05-02T02:55:01.116206Z",
     "iopub.status.busy": "2023-05-02T02:55:01.115602Z",
     "iopub.status.idle": "2023-05-02T02:55:01.538514Z",
     "shell.execute_reply": "2023-05-02T02:55:01.537744Z"
    },
    "pycharm": {
     "name": "#%%\n"
    }
   },
   "outputs": [],
   "source": [
    "# Plot the model bottom array\n",
    "a = ml.dis.botm.array\n",
    "\n",
    "fig = plt.figure(figsize=(8, 8))\n",
    "ax = fig.add_subplot(1, 1, 1, aspect=\"equal\")\n",
    "ax.set_title(\"Model Bottom Elevations\")\n",
    "mapview = flopy.plot.PlotMapView(model=ml, layer=0)\n",
    "quadmesh = mapview.plot_array(a)\n",
    "linecollection = mapview.plot_grid()\n",
    "cb = plt.colorbar(quadmesh, shrink=0.5)"
   ]
  },
  {
   "attachments": {},
   "cell_type": "markdown",
   "metadata": {
    "pycharm": {
     "name": "#%% md\n"
    }
   },
   "source": [
    "### Contouring an Array\n",
    "\n",
    "`PlotMapView` also has a `contour_array()` method.  It also takes a 2D or 3D array and will contour the layer slice if 3D."
   ]
  },
  {
   "cell_type": "code",
   "execution_count": null,
   "metadata": {
    "execution": {
     "iopub.execute_input": "2023-05-02T02:55:01.542994Z",
     "iopub.status.busy": "2023-05-02T02:55:01.542673Z",
     "iopub.status.idle": "2023-05-02T02:55:01.961717Z",
     "shell.execute_reply": "2023-05-02T02:55:01.960547Z"
    },
    "pycharm": {
     "name": "#%%\n"
    }
   },
   "outputs": [],
   "source": [
    "# Contour the model bottom array\n",
    "a = ml.dis.botm.array\n",
    "\n",
    "fig = plt.figure(figsize=(8, 8))\n",
    "ax = fig.add_subplot(1, 1, 1, aspect=\"equal\")\n",
    "ax.set_title(\"Model Bottom Elevations\")\n",
    "mapview = flopy.plot.PlotMapView(model=ml, layer=0)\n",
    "contour_set = mapview.contour_array(a)\n",
    "linecollection = mapview.plot_grid()\n",
    "\n",
    "plt.colorbar(contour_set, shrink=0.75);"
   ]
  },
  {
   "cell_type": "code",
   "execution_count": null,
   "metadata": {
    "execution": {
     "iopub.execute_input": "2023-05-02T02:55:01.966420Z",
     "iopub.status.busy": "2023-05-02T02:55:01.966077Z",
     "iopub.status.idle": "2023-05-02T02:55:02.519563Z",
     "shell.execute_reply": "2023-05-02T02:55:02.518763Z"
    },
    "pycharm": {
     "name": "#%%\n"
    }
   },
   "outputs": [],
   "source": [
    "# The contour_array() method will take any keywords\n",
    "# that can be used by the matplotlib.pyplot.contour\n",
    "# function. So we can pass in levels, for example.\n",
    "a = ml.dis.botm.array\n",
    "levels = np.arange(0, 20, 0.5)\n",
    "\n",
    "fig = plt.figure(figsize=(8, 8))\n",
    "ax = fig.add_subplot(1, 1, 1, aspect=\"equal\")\n",
    "ax.set_title(\"Model Bottom Elevations\")\n",
    "mapview = flopy.plot.PlotMapView(model=ml, layer=0)\n",
    "contour_set = mapview.contour_array(a, levels=levels)\n",
    "linecollection = mapview.plot_grid()\n",
    "\n",
    "# set up and plot a continuous colorbar in matplotlib for a contour plot\n",
    "norm = mpl.colors.Normalize(\n",
    "    vmin=contour_set.cvalues.min(), vmax=contour_set.cvalues.max()\n",
    ")\n",
    "sm = plt.cm.ScalarMappable(norm=norm, cmap=contour_set.cmap)\n",
    "sm.set_array([])\n",
    "fig.colorbar(sm, shrink=0.75, ax=ax);"
   ]
  },
  {
   "attachments": {},
   "cell_type": "markdown",
   "metadata": {
    "pycharm": {
     "name": "#%% md\n"
    }
   },
   "source": [
    "Array contours can be exported directly to a shapefile."
   ]
  },
  {
   "cell_type": "code",
   "execution_count": null,
   "metadata": {
    "execution": {
     "iopub.execute_input": "2023-05-02T02:55:02.528800Z",
     "iopub.status.busy": "2023-05-02T02:55:02.528493Z",
     "iopub.status.idle": "2023-05-02T02:55:02.592380Z",
     "shell.execute_reply": "2023-05-02T02:55:02.591493Z"
    },
    "pycharm": {
     "name": "#%%\n"
    }
   },
   "outputs": [],
   "source": [
    "from flopy.export.utils import (\n",
    "    export_contours,\n",
    ")  # use export_contourf for filled contours\n",
    "from shapefile import Reader\n",
    "\n",
    "shp_path = os.path.join(modelpth, \"contours.shp\")\n",
    "export_contours(shp_path, contour_set)\n",
    "\n",
    "with Reader(shp_path) as r:\n",
    "    nshapes = len(r.shapes())\n",
    "    print(\"Contours:\", nshapes)"
   ]
  },
  {
   "attachments": {},
   "cell_type": "markdown",
   "metadata": {
    "pycharm": {
     "name": "#%% md\n"
    }
   },
   "source": [
    "### Plotting Heads\n",
    "\n",
    "So this means that we can easily plot results from the simulation by extracting heads using `flopy.utils.HeadFile`.  Here we plot the simulated heads."
   ]
  },
  {
   "cell_type": "code",
   "execution_count": null,
   "metadata": {
    "execution": {
     "iopub.execute_input": "2023-05-02T02:55:02.596174Z",
     "iopub.status.busy": "2023-05-02T02:55:02.595534Z",
     "iopub.status.idle": "2023-05-02T02:55:03.281407Z",
     "shell.execute_reply": "2023-05-02T02:55:03.280609Z"
    },
    "pycharm": {
     "name": "#%%\n"
    }
   },
   "outputs": [],
   "source": [
    "fname = os.path.join(modelpth, \"freyberg.hds\")\n",
    "hdobj = flopy.utils.HeadFile(fname)\n",
    "head = hdobj.get_data()\n",
    "levels = np.arange(10, 30, 0.5)\n",
    "\n",
    "fig = plt.figure(figsize=(15, 10))\n",
    "\n",
    "ax = fig.add_subplot(1, 2, 1, aspect=\"equal\")\n",
    "ax.set_title(\"plot_array()\")\n",
    "mapview = flopy.plot.PlotMapView(model=ml)\n",
    "quadmesh = mapview.plot_ibound()\n",
    "quadmesh = mapview.plot_array(head, alpha=0.5)\n",
    "mapview.plot_bc(\"WEL\")\n",
    "linecollection = mapview.plot_grid()\n",
    "\n",
    "ax = fig.add_subplot(1, 2, 2, aspect=\"equal\")\n",
    "ax.set_title(\"contour_array()\")\n",
    "mapview = flopy.plot.PlotMapView(model=ml)\n",
    "quadmesh = mapview.plot_ibound()\n",
    "mapview.plot_bc(\"WEL\")\n",
    "contour_set = mapview.contour_array(head, levels=levels)\n",
    "linecollection = mapview.plot_grid();"
   ]
  },
  {
   "attachments": {},
   "cell_type": "markdown",
   "metadata": {
    "pycharm": {
     "name": "#%% md\n"
    }
   },
   "source": [
    "### Plotting Discharge Vectors\n",
    "\n",
    "`PlotMapView` has a `plot_vector()` method, which takes vector components in the x- and y-directions at the cell centers. The x- and y-vector components are calculated from the `'FLOW RIGHT FACE'` and `'FLOW FRONT FACE'` arrays, which can be written by MODFLOW to the cell by cell budget file.  These array can be extracted from the cell by cell flow file using the `flopy.utils.CellBudgetFile` object as shown below.  Once they are extracted, they can be passed to the `postprocessing.get_specific_discharge()` method to get the discharge vectors and plotted using the `plot_vector()` method.  \n",
    "\n",
    "**Note**: `postprocessing.get_specific_discharge()` also takes the head array as an optional argument.  The head array is used to convert the volumetric discharge in dimensions of $L^3/T$ to specific discharge in dimensions of $L/T$."
   ]
  },
  {
   "cell_type": "code",
   "execution_count": null,
   "metadata": {
    "execution": {
     "iopub.execute_input": "2023-05-02T02:55:03.293092Z",
     "iopub.status.busy": "2023-05-02T02:55:03.292565Z",
     "iopub.status.idle": "2023-05-02T02:55:04.157623Z",
     "shell.execute_reply": "2023-05-02T02:55:04.156170Z"
    },
    "pycharm": {
     "name": "#%%\n"
    }
   },
   "outputs": [],
   "source": [
    "fname = os.path.join(modelpth, \"freyberg.cbc\")\n",
    "cbb = flopy.utils.CellBudgetFile(fname)\n",
    "head = hdobj.get_data()\n",
    "frf = cbb.get_data(text=\"FLOW RIGHT FACE\")[0]\n",
    "fff = cbb.get_data(text=\"FLOW FRONT FACE\")[0]\n",
    "flf = None\n",
    "\n",
    "qx, qy, qz = flopy.utils.postprocessing.get_specific_discharge(\n",
    "    (frf, fff, None), ml\n",
    ")  # no head array for volumetric discharge\n",
    "sqx, sqy, sqz = flopy.utils.postprocessing.get_specific_discharge(\n",
    "    (frf, fff, None), ml, head\n",
    ")\n",
    "\n",
    "fig = plt.figure(figsize=(15, 10))\n",
    "\n",
    "ax = fig.add_subplot(1, 2, 1, aspect=\"equal\")\n",
    "ax.set_title(\"Volumetric discharge (\" + r\"$L^3/T$\" + \")\")\n",
    "mapview = flopy.plot.PlotMapView(model=ml)\n",
    "quadmesh = mapview.plot_ibound()\n",
    "quadmesh = mapview.plot_array(head, alpha=0.5)\n",
    "quiver = mapview.plot_vector(qx, qy)\n",
    "linecollection = mapview.plot_grid()\n",
    "\n",
    "ax = fig.add_subplot(1, 2, 2, aspect=\"equal\")\n",
    "ax.set_title(\"Specific discharge (\" + r\"$L/T$\" + \")\")\n",
    "mapview = flopy.plot.PlotMapView(model=ml)\n",
    "quadmesh = mapview.plot_ibound()\n",
    "quadmesh = mapview.plot_array(head, alpha=0.5)\n",
    "quiver = mapview.plot_vector(\n",
    "    sqx, sqy\n",
    ")  # include the head array for specific discharge\n",
    "linecollection = mapview.plot_grid()"
   ]
  },
  {
   "attachments": {},
   "cell_type": "markdown",
   "metadata": {
    "pycharm": {
     "name": "#%% md\n"
    }
   },
   "source": [
    "### Plotting MODPATH endpoints and pathlines\n",
    "\n",
    "`PlotMapView` has a `plot_endpoint()` and `plot_pathline()` method, which takes MODPATH endpoint and pathline data and plots them on the map object. Here we load the endpoint and pathline data and plot them on the head and discharge data previously plotted. Pathlines are shown for all times less than or equal to 200 years. Recharge capture zone data for all of the pumping wells are plotted as circle markers colored by travel time."
   ]
  },
  {
   "cell_type": "code",
   "execution_count": null,
   "metadata": {
    "execution": {
     "iopub.execute_input": "2023-05-02T02:55:04.170158Z",
     "iopub.status.busy": "2023-05-02T02:55:04.169745Z",
     "iopub.status.idle": "2023-05-02T02:55:05.016176Z",
     "shell.execute_reply": "2023-05-02T02:55:05.014850Z"
    },
    "pycharm": {
     "name": "#%%\n"
    }
   },
   "outputs": [],
   "source": [
    "# load the endpoint data\n",
    "endfile = os.path.join(modelpth, mp.sim.endpoint_file)\n",
    "endobj = flopy.utils.EndpointFile(endfile)\n",
    "ept = endobj.get_alldata()\n",
    "\n",
    "# load the pathline data\n",
    "pthfile = os.path.join(modelpth, mpp.sim.pathline_file)\n",
    "pthobj = flopy.utils.PathlineFile(pthfile)\n",
    "plines = pthobj.get_alldata()\n",
    "\n",
    "# plot the data\n",
    "fig = plt.figure(figsize=(10, 10))\n",
    "\n",
    "ax = fig.add_subplot(1, 1, 1, aspect=\"equal\")\n",
    "ax.set_title(\"plot_array()\")\n",
    "mapview = flopy.plot.PlotMapView(model=ml)\n",
    "quadmesh = mapview.plot_ibound()\n",
    "quadmesh = mapview.plot_array(head, alpha=0.5)\n",
    "quiver = mapview.plot_vector(sqx, sqy)\n",
    "linecollection = mapview.plot_grid()\n",
    "for d in ml.wel.stress_period_data[0]:\n",
    "    mapview.plot_endpoint(\n",
    "        ept,\n",
    "        direction=\"starting\",\n",
    "        selection_direction=\"ending\",\n",
    "        selection=(d[0], d[1], d[2]),\n",
    "        zorder=100,\n",
    "    )\n",
    "\n",
    "# construct maximum travel time to plot (200 years - MODFLOW time unit is seconds)\n",
    "travel_time_max = 200.0 * 365.25 * 24.0 * 60.0 * 60.0\n",
    "ctt = \"<={}\".format(travel_time_max)\n",
    "\n",
    "# plot the pathlines\n",
    "mapview.plot_pathline(plines, layer=\"all\", colors=\"red\", travel_time=ctt);"
   ]
  },
  {
   "attachments": {},
   "cell_type": "markdown",
   "metadata": {
    "pycharm": {
     "name": "#%% md\n"
    }
   },
   "source": [
    "### Plotting a Shapefile\n",
    "\n",
    "`PlotMapView` has a `plot_shapefile()` method that can be used to quickly plot a shapefile on your map.  In order to use the `plot_shapefile()` method, you must be able to  \"import shapefile\".  The command `import shapefile` is part of the pyshp package.\n",
    "\n",
    "The `plot_shapefile()` function can plot points, lines, and polygons and will return a patch_collection of objects from the shapefile.  For a shapefile of polygons, the `plot_shapefile()` function will try to plot and fill them all using a different color.  For a shapefile of points, you may need to specify a radius, in model units, in order for the circles to show up properly.\n",
    "\n",
    "The shapefile must have intersecting geographic coordinates as the `PlotMapView` object in order for it to overlay correctly on the plot.  The `plot_shapefile()` method and function do not use any of the projection information that may be stored with the shapefile.  If you reset `xoff`, `yoff`, and `angrot` in the `ml.modelgrid.set_coord_info()` call below, you will see that the grid will no longer overlay correctly with the shapefile."
   ]
  },
  {
   "cell_type": "code",
   "execution_count": null,
   "metadata": {
    "execution": {
     "iopub.execute_input": "2023-05-02T02:55:05.023816Z",
     "iopub.status.busy": "2023-05-02T02:55:05.023481Z",
     "iopub.status.idle": "2023-05-02T02:55:05.256111Z",
     "shell.execute_reply": "2023-05-02T02:55:05.255292Z"
    },
    "pycharm": {
     "name": "#%%\n"
    }
   },
   "outputs": [],
   "source": [
    "# Setup the figure and PlotMapView. Show a very faint map of ibound and\n",
    "# model grid by specifying a transparency alpha value.\n",
    "fig = plt.figure(figsize=(8, 8))\n",
    "ax = fig.add_subplot(1, 1, 1, aspect=\"equal\")\n",
    "\n",
    "# reset the grid rotation and offsets to 0\n",
    "ml.modelgrid.set_coord_info(xoff=0, yoff=0, angrot=0)\n",
    "\n",
    "mapview = flopy.plot.PlotMapView(model=ml, ax=ax)\n",
    "\n",
    "# Plot a shapefile of\n",
    "shp = os.path.join(loadpth, \"gis\", \"bedrock_outcrop_hole\")\n",
    "patch_collection = mapview.plot_shapefile(\n",
    "    shp, edgecolor=\"green\", linewidths=2, alpha=0.5  # facecolor='none',\n",
    ")\n",
    "# Plot a shapefile of a cross-section line\n",
    "shp = os.path.join(loadpth, \"gis\", \"cross_section\")\n",
    "patch_collection = mapview.plot_shapefile(\n",
    "    shp, radius=0, lw=[3, 1.5], edgecolor=[\"red\", \"green\"], facecolor=\"None\"\n",
    ")\n",
    "\n",
    "# Plot a shapefile of well locations\n",
    "shp = os.path.join(loadpth, \"gis\", \"wells_locations\")\n",
    "patch_collection = mapview.plot_shapefile(shp, radius=100, facecolor=\"red\")\n",
    "\n",
    "# Plot the grid and boundary conditions over the top\n",
    "quadmesh = mapview.plot_ibound(alpha=0.1)\n",
    "quadmesh = mapview.plot_bc(\"RIV\", alpha=0.1)\n",
    "linecollection = mapview.plot_grid(alpha=0.1)"
   ]
  },
  {
   "attachments": {},
   "cell_type": "markdown",
   "metadata": {
    "pycharm": {
     "name": "#%% md\n"
    }
   },
   "source": [
    "Although the `PlotMapView`'s `plot_shapefile()` method does not consider projection information when plotting maps, it can be used to plot shapefiles when a `PlotMapView` instance is rotated and offset into geographic coordinates. The same shapefiles plotted above (but in geographic coordinates rather than model coordinates) are plotted on the rotated model grid. The offset from model coordinates to geographic coordinates relative to the lower left corner are `xoff=-2419.22`, `yoff=297.04` and the rotation angle is 14$^{\\circ}$."
   ]
  },
  {
   "cell_type": "code",
   "execution_count": null,
   "metadata": {
    "execution": {
     "iopub.execute_input": "2023-05-02T02:55:05.259603Z",
     "iopub.status.busy": "2023-05-02T02:55:05.259094Z",
     "iopub.status.idle": "2023-05-02T02:55:05.530978Z",
     "shell.execute_reply": "2023-05-02T02:55:05.529638Z"
    },
    "pycharm": {
     "name": "#%%\n"
    }
   },
   "outputs": [],
   "source": [
    "# Setup the figure and PlotMapView. Show a very faint map of ibound and\n",
    "# model grid by specifying a transparency alpha value.\n",
    "\n",
    "# set the modelgrid rotation and offset\n",
    "ml.modelgrid.set_coord_info(\n",
    "    xoff=-2419.2189559966773, yoff=297.0427372400354, angrot=-14\n",
    ")\n",
    "\n",
    "fig = plt.figure(figsize=(8, 8))\n",
    "ax = fig.add_subplot(1, 1, 1, aspect=\"equal\")\n",
    "mapview = flopy.plot.PlotMapView(model=ml)\n",
    "\n",
    "# Plot a shapefile of\n",
    "shp = os.path.join(loadpth, \"gis\", \"bedrock_outcrop_hole_rotate14\")\n",
    "patch_collection = mapview.plot_shapefile(\n",
    "    shp, edgecolor=\"green\", linewidths=2, alpha=0.5  # facecolor='none',\n",
    ")\n",
    "# Plot a shapefile of a cross-section line\n",
    "shp = os.path.join(loadpth, \"gis\", \"cross_section_rotate14\")\n",
    "patch_collection = mapview.plot_shapefile(shp, lw=3, edgecolor=\"red\")\n",
    "\n",
    "# Plot a shapefile of well locations\n",
    "shp = os.path.join(loadpth, \"gis\", \"wells_locations_rotate14\")\n",
    "patch_collection = mapview.plot_shapefile(shp, radius=100, facecolor=\"red\")\n",
    "\n",
    "# Plot the grid and boundary conditions over the top\n",
    "quadmesh = mapview.plot_ibound(alpha=0.1)\n",
    "linecollection = mapview.plot_grid(alpha=0.1);"
   ]
  },
  {
   "attachments": {},
   "cell_type": "markdown",
   "metadata": {
    "pycharm": {
     "name": "#%% md\n"
    }
   },
   "source": [
    "### Plotting GIS Shapes\n",
    "\n",
    "`PlotMapView` has a `plot_shapes()` method that can be used to quickly plot GIS based shapes on your map. In order to use the `plot_shapes()` method, you must be able to \"import shapefile\". The command import shapefile is part of the pyshp package.\n",
    "\n",
    "The `plot_shapes()` function can plot points, lines, polygons, and multipolygons and will return a patch_collection. For a list or collection of polygons, the `plot_shapes()` function will try to plot and fill them all using a different color. For a list or collection of points, you may need to specify a radius, in model units, in order for the circles to show up properly.\n",
    "\n",
    "__Note:__ The supplied shapes must have intersecting geographic coordinates as the `PlotMapView` object in order for it to overlay correctly on the plot. \n",
    "\n",
    "`plot_shapes()` supports many GIS based input types and they are listed below:\n",
    "   + list of shapefile.Shape objects\n",
    "   + shapefile.Shapes object\n",
    "   + list of flopy.utils.geometry objects\n",
    "   + flopy.utils.geometry.Collection object\n",
    "   + list of geojson geometry objects\n",
    "   + list of geojson.Feature objects\n",
    "   + geojson.GeometryCollection object\n",
    "   + geojson.FeatureCollection object\n",
    "   + list of shapely geometry objects\n",
    "   + shapely.GeometryCollection object\n",
    "\n",
    "Here is a basic example of how to use the method:"
   ]
  },
  {
   "cell_type": "code",
   "execution_count": null,
   "metadata": {
    "execution": {
     "iopub.execute_input": "2023-05-02T02:55:05.534617Z",
     "iopub.status.busy": "2023-05-02T02:55:05.534244Z",
     "iopub.status.idle": "2023-05-02T02:55:05.545415Z",
     "shell.execute_reply": "2023-05-02T02:55:05.543984Z"
    },
    "pycharm": {
     "name": "#%%\n"
    }
   },
   "outputs": [],
   "source": [
    "# lets extract some shapes from our shapefiles\n",
    "shp = os.path.join(loadpth, \"gis\", \"bedrock_outcrop_hole_rotate14\")\n",
    "with shapefile.Reader(shp) as r:\n",
    "    polygon_w_hole = [\n",
    "        r.shape(0),\n",
    "    ]\n",
    "\n",
    "shp = os.path.join(loadpth, \"gis\", \"cross_section_rotate14\")\n",
    "with shapefile.Reader(shp) as r:\n",
    "    cross_section = r.shapes()\n",
    "\n",
    "# Plot a shapefile of well locations\n",
    "shp = os.path.join(loadpth, \"gis\", \"wells_locations_rotate14\")\n",
    "with shapefile.Reader(shp) as r:\n",
    "    wells = r.shapes()"
   ]
  },
  {
   "attachments": {},
   "cell_type": "markdown",
   "metadata": {
    "pycharm": {
     "name": "#%% md\n"
    }
   },
   "source": [
    "Now that the shapes are extracted from the shapefiles, they can be plotted using `plot_shapes()`"
   ]
  },
  {
   "cell_type": "code",
   "execution_count": null,
   "metadata": {
    "execution": {
     "iopub.execute_input": "2023-05-02T02:55:05.549574Z",
     "iopub.status.busy": "2023-05-02T02:55:05.548711Z",
     "iopub.status.idle": "2023-05-02T02:55:05.789005Z",
     "shell.execute_reply": "2023-05-02T02:55:05.787683Z"
    },
    "pycharm": {
     "name": "#%%\n"
    }
   },
   "outputs": [],
   "source": [
    "# set the modelgrid rotation and offset\n",
    "ml.modelgrid.set_coord_info(\n",
    "    xoff=-2419.2189559966773, yoff=297.0427372400354, angrot=-14\n",
    ")\n",
    "\n",
    "fig = plt.figure(figsize=(8, 8))\n",
    "ax = fig.add_subplot(1, 1, 1, aspect=\"equal\")\n",
    "mapview = flopy.plot.PlotMapView(model=ml)\n",
    "\n",
    "# Plot the grid and boundary conditions\n",
    "quadmesh = mapview.plot_ibound()\n",
    "linecollection = mapview.plot_grid()\n",
    "\n",
    "# plot polygon(s)\n",
    "patch_collection0 = mapview.plot_shapes(\n",
    "    polygon_w_hole, edgecolor=\"orange\", linewidths=2, alpha=0.5\n",
    ")\n",
    "\n",
    "# plot_line(s)\n",
    "patch_collection1 = mapview.plot_shapes(cross_section, lw=3, edgecolor=\"red\")\n",
    "\n",
    "# plot_point(s)\n",
    "patch_collection3 = mapview.plot_shapes(\n",
    "    wells, radius=100, facecolor=\"k\", edgecolor=\"k\"\n",
    ");"
   ]
  },
  {
   "attachments": {},
   "cell_type": "markdown",
   "metadata": {
    "pycharm": {
     "name": "#%% md\n"
    }
   },
   "source": [
    "## Working with MODFLOW-6 models\n",
    "\n",
    "`PlotMapView` has support for MODFLOW-6 models and operates in the same fashion for Structured Grids, Vertex Grids, and Unstructured Grids. Here is a short example on how to plot with MODFLOW-6 structured grids using a version of the Freyberg model created for MODFLOW-6"
   ]
  },
  {
   "cell_type": "code",
   "execution_count": null,
   "metadata": {
    "execution": {
     "iopub.execute_input": "2023-05-02T02:55:05.793108Z",
     "iopub.status.busy": "2023-05-02T02:55:05.792247Z",
     "iopub.status.idle": "2023-05-02T02:55:06.221191Z",
     "shell.execute_reply": "2023-05-02T02:55:06.220190Z"
    },
    "pycharm": {
     "name": "#%%\n"
    }
   },
   "outputs": [],
   "source": [
    "# load the Freyberg model into mf6-flopy and run the simulation\n",
    "sim_name = \"mfsim.nam\"\n",
    "sim_path = str(prj_root / \"examples\" / \"data\" / \"mf6-freyberg\")\n",
    "sim = flopy.mf6.MFSimulation.load(\n",
    "    sim_name=sim_name, version=vmf6, exe_name=exe_name_mf6, sim_ws=sim_path\n",
    ")\n",
    "\n",
    "newpth = os.path.join(modelpth)\n",
    "sim.set_sim_path(newpth)\n",
    "sim.write_simulation()\n",
    "success, buff = sim.run_simulation()\n",
    "if not success:\n",
    "    print(\"Something bad happened.\")\n",
    "files = [\"freyberg.hds\", \"freyberg.cbc\"]\n",
    "for f in files:\n",
    "    if os.path.isfile(os.path.join(modelpth, f)):\n",
    "        msg = \"Output file located: {}\".format(f)\n",
    "        print(msg)\n",
    "    else:\n",
    "        errmsg = \"Error. Output file cannot be found: {}\".format(f)\n",
    "        print(errmsg)"
   ]
  },
  {
   "attachments": {},
   "cell_type": "markdown",
   "metadata": {
    "pycharm": {
     "name": "#%% md\n"
    }
   },
   "source": [
    "### Plotting boundary conditions and arrays\n",
    "\n",
    "This works the same as modflow-2005, however the simulation object can host a number of modflow-6 models so we need to grab a model before attempting to plot with `PlotMapView`"
   ]
  },
  {
   "cell_type": "code",
   "execution_count": null,
   "metadata": {
    "execution": {
     "iopub.execute_input": "2023-05-02T02:55:06.225019Z",
     "iopub.status.busy": "2023-05-02T02:55:06.224565Z",
     "iopub.status.idle": "2023-05-02T02:55:06.820264Z",
     "shell.execute_reply": "2023-05-02T02:55:06.819406Z"
    },
    "pycharm": {
     "name": "#%%\n"
    }
   },
   "outputs": [],
   "source": [
    "# get the modflow-6 model we want to plot\n",
    "ml6 = sim.get_model(\"freyberg\")\n",
    "ml6.modelgrid.set_coord_info(angrot=-14)\n",
    "\n",
    "fig = plt.figure(figsize=(15, 10))\n",
    "\n",
    "# plot boundary conditions\n",
    "ax = fig.add_subplot(1, 2, 1, aspect=\"equal\")\n",
    "mapview = flopy.plot.PlotMapView(model=ml6)\n",
    "quadmesh = mapview.plot_ibound()\n",
    "quadmesh = mapview.plot_bc(\"RIV\")\n",
    "quadmesh = mapview.plot_bc(\"WEL\")\n",
    "linecollection = mapview.plot_grid()\n",
    "ax.set_title(\"Plot boundary conditions\")\n",
    "\n",
    "# plot model bottom elevations\n",
    "a = ml6.dis.botm.array\n",
    "\n",
    "ax = fig.add_subplot(1, 2, 2, aspect=\"equal\")\n",
    "ax.set_title(\"Model Bottom Elevations\")\n",
    "mapview = flopy.plot.PlotMapView(model=ml6, layer=0)\n",
    "quadmesh = mapview.plot_array(a)\n",
    "inactive = mapview.plot_inactive()\n",
    "linecollection = mapview.plot_grid()\n",
    "cb = plt.colorbar(quadmesh, shrink=0.5, ax=ax)"
   ]
  },
  {
   "attachments": {},
   "cell_type": "markdown",
   "metadata": {
    "pycharm": {
     "name": "#%% md\n"
    }
   },
   "source": [
    "### Contouring Arrays\n",
    "\n",
    "Contouring arrays follows the same code signature for MODFLOW-6 as the MODFLOW-2005 example. Just use the `contour_array()` method"
   ]
  },
  {
   "cell_type": "code",
   "execution_count": null,
   "metadata": {
    "execution": {
     "iopub.execute_input": "2023-05-02T02:55:06.830994Z",
     "iopub.status.busy": "2023-05-02T02:55:06.830298Z",
     "iopub.status.idle": "2023-05-02T02:55:07.268917Z",
     "shell.execute_reply": "2023-05-02T02:55:07.267448Z"
    },
    "pycharm": {
     "name": "#%%\n"
    }
   },
   "outputs": [],
   "source": [
    "# The contour_array() method will take any keywords\n",
    "# that can be used by the matplotlib.pyplot.contour\n",
    "# function. So we can pass in levels, for example.\n",
    "a = ml6.dis.botm.array\n",
    "levels = np.arange(0, 20, 0.5)\n",
    "\n",
    "fig = plt.figure(figsize=(8, 8))\n",
    "ax = fig.add_subplot(1, 1, 1, aspect=\"equal\")\n",
    "ax.set_title(\"Model Bottom Elevations\")\n",
    "mapview = flopy.plot.PlotMapView(model=ml6, layer=0)\n",
    "contour_set = mapview.contour_array(a, levels=levels)\n",
    "linecollection = mapview.plot_grid()\n",
    "\n",
    "# set up and plot a continuous colorbar in matplotlib for a contour plot\n",
    "norm = mpl.colors.Normalize(\n",
    "    vmin=contour_set.cvalues.min(), vmax=contour_set.cvalues.max()\n",
    ")\n",
    "sm = plt.cm.ScalarMappable(norm=norm, cmap=contour_set.cmap)\n",
    "sm.set_array([])\n",
    "fig.colorbar(sm, shrink=0.75, ax=ax);"
   ]
  },
  {
   "attachments": {},
   "cell_type": "markdown",
   "metadata": {
    "pycharm": {
     "name": "#%% md\n"
    }
   },
   "source": [
    "### Plotting specific discharge with a MODFLOW-6 model\n",
    "\n",
    "MODFLOW-6 includes a the PLOT_SPECIFIC_DISCHARGE flag in the NPF package to calculate and store discharge vectors for easy plotting. The postprocessing module will translate the specific dischage into vector array and `PlotMapView` has the `plot_vector()` method to use this data. The specific discharge array is stored in the cell budget file."
   ]
  },
  {
   "cell_type": "code",
   "execution_count": null,
   "metadata": {
    "execution": {
     "iopub.execute_input": "2023-05-02T02:55:07.275538Z",
     "iopub.status.busy": "2023-05-02T02:55:07.274671Z",
     "iopub.status.idle": "2023-05-02T02:55:07.735430Z",
     "shell.execute_reply": "2023-05-02T02:55:07.734178Z"
    },
    "pycharm": {
     "name": "#%%\n"
    }
   },
   "outputs": [],
   "source": [
    "# get the specific discharge from the cell budget file\n",
    "cbc_file = os.path.join(newpth, \"freyberg.cbc\")\n",
    "cbc = flopy.utils.CellBudgetFile(cbc_file)\n",
    "spdis = cbc.get_data(text=\"SPDIS\")[0]\n",
    "\n",
    "qx, qy, qz = flopy.utils.postprocessing.get_specific_discharge(spdis, ml6)\n",
    "\n",
    "# get the head from the head file\n",
    "head_file = os.path.join(newpth, \"freyberg.hds\")\n",
    "head = flopy.utils.HeadFile(head_file)\n",
    "hdata = head.get_alldata()[0]\n",
    "\n",
    "# plot specific discharge using PlotMapView\n",
    "fig = plt.figure(figsize=(8, 8))\n",
    "\n",
    "mapview = flopy.plot.PlotMapView(model=ml6, layer=0)\n",
    "linecollection = mapview.plot_grid()\n",
    "quadmesh = mapview.plot_array(a=hdata, alpha=0.5)\n",
    "quiver = mapview.plot_vector(qx, qy)\n",
    "inactive = mapview.plot_inactive()\n",
    "\n",
    "plt.title(\"Specific Discharge (\" + r\"$L/T$\" + \")\")\n",
    "plt.colorbar(quadmesh, shrink=0.75);"
   ]
  },
  {
   "attachments": {},
   "cell_type": "markdown",
   "metadata": {
    "pycharm": {
     "name": "#%% md\n"
    }
   },
   "source": [
    "## Vertex model plotting with MODFLOW-6\n",
    "\n",
    "FloPy fully supports vertex discretization (DISV) plotting through the `PlotMapView` class. The method calls are identical to the ones presented previously for Structured discretization (DIS) and the same matplotlib keyword arguments are supported. Let's run through an example using a vertex model grid."
   ]
  },
  {
   "cell_type": "code",
   "execution_count": null,
   "metadata": {
    "execution": {
     "iopub.execute_input": "2023-05-02T02:55:07.742814Z",
     "iopub.status.busy": "2023-05-02T02:55:07.741939Z",
     "iopub.status.idle": "2023-05-02T02:55:09.514322Z",
     "shell.execute_reply": "2023-05-02T02:55:09.512804Z"
    },
    "pycharm": {
     "name": "#%%\n"
    }
   },
   "outputs": [],
   "source": [
    "# build and run vertex model grid demo problem\n",
    "notebook_utils.run(modelpth)\n",
    "\n",
    "# check if model ran properly\n",
    "modelpth = os.path.join(modelpth, \"mp7_ex2\", \"mf6\")\n",
    "files = [\"mp7p2.hds\", \"mp7p2.cbb\"]\n",
    "for f in files:\n",
    "    if os.path.isfile(os.path.join(modelpth, f)):\n",
    "        msg = \"Output file located: {}\".format(f)\n",
    "        print(msg)\n",
    "    else:\n",
    "        errmsg = \"Error. Output file cannot be found: {}\".format(f)\n",
    "        print(errmsg)"
   ]
  },
  {
   "cell_type": "code",
   "execution_count": null,
   "metadata": {
    "execution": {
     "iopub.execute_input": "2023-05-02T02:55:09.518214Z",
     "iopub.status.busy": "2023-05-02T02:55:09.517824Z",
     "iopub.status.idle": "2023-05-02T02:55:09.698212Z",
     "shell.execute_reply": "2023-05-02T02:55:09.697225Z"
    },
    "pycharm": {
     "name": "#%%\n"
    }
   },
   "outputs": [],
   "source": [
    "# load the simulation and get the model\n",
    "vertex_sim_name = \"mfsim.nam\"\n",
    "vertex_sim = flopy.mf6.MFSimulation.load(\n",
    "    sim_name=vertex_sim_name,\n",
    "    version=vmf6,\n",
    "    exe_name=exe_name_mf6,\n",
    "    sim_ws=modelpth,\n",
    ")\n",
    "vertex_ml6 = vertex_sim.get_model(\"mp7p2\")"
   ]
  },
  {
   "attachments": {},
   "cell_type": "markdown",
   "metadata": {
    "pycharm": {
     "name": "#%% md\n"
    }
   },
   "source": [
    "### Setting MODFLOW-6 Vertex Model Grid offsets, rotation and plotting\n",
    "\n",
    "Setting the `Grid` offsets and rotation is consistent in FloPy, no matter which type of discretization the user is using. The `set_coord_info()` method on the `modelgrid` is used.  \n",
    "\n",
    "Plotting works consistently too, the user just calls the `PlotMapView` class and it accounts for the discretization type"
   ]
  },
  {
   "cell_type": "code",
   "execution_count": null,
   "metadata": {
    "execution": {
     "iopub.execute_input": "2023-05-02T02:55:09.702031Z",
     "iopub.status.busy": "2023-05-02T02:55:09.701652Z",
     "iopub.status.idle": "2023-05-02T02:55:10.213814Z",
     "shell.execute_reply": "2023-05-02T02:55:10.212786Z"
    },
    "pycharm": {
     "name": "#%%\n"
    }
   },
   "outputs": [],
   "source": [
    "# set coordinate information on the modelgrid\n",
    "vertex_ml6.modelgrid.set_coord_info(xoff=362100, yoff=4718900, angrot=-21)\n",
    "\n",
    "fig = plt.figure(figsize=(12, 12))\n",
    "ax = fig.add_subplot(1, 1, 1, aspect=\"equal\")\n",
    "ax.set_title(\"Vertex Model Grid (DISV)\")\n",
    "\n",
    "# use PlotMapView to plot a DISV (vertex) model\n",
    "mapview = flopy.plot.PlotMapView(vertex_ml6, layer=0)\n",
    "linecollection = mapview.plot_grid()"
   ]
  },
  {
   "attachments": {},
   "cell_type": "markdown",
   "metadata": {
    "pycharm": {
     "name": "#%% md\n"
    }
   },
   "source": [
    "### Plotting boundary conditions with Vertex Model grids\n",
    "\n",
    "The `plot_bc()` method can be used to plot boundary conditions.  It is setup to use the following dictionary to assign colors, however, these colors can be changed in the method call.\n",
    "\n",
    "    bc_color_dict = {'default': 'black', 'WEL': 'red', 'DRN': 'yellow',\n",
    "                     'RIV': 'green', 'GHB': 'cyan', 'CHD': 'navy'}\n",
    "\n",
    "Here we plot river (RIV) cell locations"
   ]
  },
  {
   "cell_type": "code",
   "execution_count": null,
   "metadata": {
    "execution": {
     "iopub.execute_input": "2023-05-02T02:55:10.218439Z",
     "iopub.status.busy": "2023-05-02T02:55:10.218079Z",
     "iopub.status.idle": "2023-05-02T02:55:10.683060Z",
     "shell.execute_reply": "2023-05-02T02:55:10.682049Z"
    },
    "pycharm": {
     "name": "#%%\n"
    }
   },
   "outputs": [],
   "source": [
    "fig = plt.figure(figsize=(12, 12))\n",
    "ax = fig.add_subplot(1, 1, 1, aspect=\"equal\")\n",
    "ax.set_title(\"Vertex Model Grid (DISV)\")\n",
    "\n",
    "# use PlotMapView to plot a DISV (vertex) model\n",
    "mapview = flopy.plot.PlotMapView(vertex_ml6, layer=0)\n",
    "riv = mapview.plot_bc(\"RIV\")\n",
    "linecollection = mapview.plot_grid()"
   ]
  },
  {
   "attachments": {},
   "cell_type": "markdown",
   "metadata": {
    "pycharm": {
     "name": "#%% md\n"
    }
   },
   "source": [
    "### Plotting Arrays and Contouring with Vertex Model grids\n",
    "\n",
    "`PlotMapView` allows the user to plot arrays and contour with DISV based discretization. The `plot_array()` method is called in the same way as using a structured grid. The only difference is that `PlotMapView` builds a matplotlib patch collection for Vertex based grids. "
   ]
  },
  {
   "cell_type": "code",
   "execution_count": null,
   "metadata": {
    "execution": {
     "iopub.execute_input": "2023-05-02T02:55:10.691390Z",
     "iopub.status.busy": "2023-05-02T02:55:10.690994Z",
     "iopub.status.idle": "2023-05-02T02:55:11.234375Z",
     "shell.execute_reply": "2023-05-02T02:55:11.233331Z"
    },
    "pycharm": {
     "name": "#%%\n"
    }
   },
   "outputs": [],
   "source": [
    "# get the head output for stress period 1 from the modflow6 head file\n",
    "head = flopy.utils.HeadFile(os.path.join(modelpth, \"mp7p2.hds\"))\n",
    "hdata = head.get_alldata()[0, :, :, :]\n",
    "\n",
    "fig = plt.figure(figsize=(12, 12))\n",
    "ax = fig.add_subplot(1, 1, 1, aspect=\"equal\")\n",
    "ax.set_title(\"plot_array()\")\n",
    "\n",
    "mapview = flopy.plot.PlotMapView(model=vertex_ml6, layer=2)\n",
    "patch_collection = mapview.plot_array(hdata, cmap=\"Dark2\")\n",
    "linecollection = mapview.plot_grid(lw=0.25, color=\"k\")\n",
    "cb = plt.colorbar(patch_collection, shrink=0.75)"
   ]
  },
  {
   "attachments": {},
   "cell_type": "markdown",
   "metadata": {
    "pycharm": {
     "name": "#%% md\n"
    }
   },
   "source": [
    "The `contour_array()` method operates in the same way as the sturctured example."
   ]
  },
  {
   "cell_type": "code",
   "execution_count": null,
   "metadata": {
    "execution": {
     "iopub.execute_input": "2023-05-02T02:55:11.241475Z",
     "iopub.status.busy": "2023-05-02T02:55:11.241083Z",
     "iopub.status.idle": "2023-05-02T02:55:11.884755Z",
     "shell.execute_reply": "2023-05-02T02:55:11.883862Z"
    },
    "pycharm": {
     "name": "#%%\n"
    }
   },
   "outputs": [],
   "source": [
    "# plotting head array and then contouring the array!\n",
    "levels = np.arange(327, 332, 0.5)\n",
    "\n",
    "fig = plt.figure(figsize=(12, 12))\n",
    "ax = fig.add_subplot(1, 1, 1, aspect=\"equal\")\n",
    "ax.set_title(\"Model head contours, layer 3\")\n",
    "\n",
    "mapview = flopy.plot.PlotMapView(model=vertex_ml6, layer=2)\n",
    "pc = mapview.plot_array(hdata, cmap=\"Dark2\")\n",
    "\n",
    "# contouring the head array\n",
    "contour_set = mapview.contour_array(hdata, levels=levels, colors=\"white\")\n",
    "plt.clabel(contour_set, fmt=\"%.1f\", colors=\"white\", fontsize=11)\n",
    "linecollection = mapview.plot_grid(lw=0.25, color=\"k\")\n",
    "\n",
    "cb = plt.colorbar(pc, shrink=0.75, ax=ax)"
   ]
  },
  {
   "attachments": {},
   "cell_type": "markdown",
   "metadata": {
    "pycharm": {
     "name": "#%% md\n"
    }
   },
   "source": [
    "### Plotting MODPATH 7 results on a vertex model\n",
    "\n",
    "MODPATH-7 results can be plotted using the same built in methods as used previously to plot MODPATH-6 results. The `plot_pathline()` and `plot_timeseries()` methods are layered on the previous example to show modpath simulation results"
   ]
  },
  {
   "cell_type": "code",
   "execution_count": null,
   "metadata": {
    "execution": {
     "iopub.execute_input": "2023-05-02T02:55:11.891937Z",
     "iopub.status.busy": "2023-05-02T02:55:11.891618Z",
     "iopub.status.idle": "2023-05-02T02:55:11.905995Z",
     "shell.execute_reply": "2023-05-02T02:55:11.905287Z"
    },
    "pycharm": {
     "name": "#%%\n"
    }
   },
   "outputs": [],
   "source": [
    "# load the MODPATH-7 results\n",
    "mp_namea = \"mp7p2a_mp\"\n",
    "fpth = os.path.join(modelpth, mp_namea + \".mppth\")\n",
    "p = flopy.utils.PathlineFile(fpth)\n",
    "p0 = p.get_alldata()\n",
    "\n",
    "fpth = os.path.join(modelpth, mp_namea + \".timeseries\")\n",
    "ts = flopy.utils.TimeseriesFile(fpth)\n",
    "ts0 = ts.get_alldata()"
   ]
  },
  {
   "cell_type": "code",
   "execution_count": null,
   "metadata": {
    "execution": {
     "iopub.execute_input": "2023-05-02T02:55:11.908726Z",
     "iopub.status.busy": "2023-05-02T02:55:11.908457Z",
     "iopub.status.idle": "2023-05-02T02:55:12.667122Z",
     "shell.execute_reply": "2023-05-02T02:55:12.666409Z"
    },
    "pycharm": {
     "name": "#%%\n"
    }
   },
   "outputs": [],
   "source": [
    "# setup the plot\n",
    "fig = plt.figure(figsize=(12, 12))\n",
    "ax = fig.add_subplot(1, 1, 1, aspect=\"equal\")\n",
    "ax.set_title(\"MODPATH 7 particle tracking results\")\n",
    "\n",
    "mapview = flopy.plot.PlotMapView(vertex_ml6, layer=2)\n",
    "\n",
    "# plot and contour head arrays\n",
    "pc = mapview.plot_array(hdata, cmap=\"Dark2\")\n",
    "contour_set = mapview.contour_array(hdata, levels=levels, colors=\"white\")\n",
    "plt.clabel(contour_set, fmt=\"%.1f\", colors=\"white\", fontsize=11)\n",
    "linecollection = mapview.plot_grid(lw=0.25, color=\"k\")\n",
    "cb = plt.colorbar(pc, shrink=0.75, ax=ax)\n",
    "\n",
    "# plot the modpath results\n",
    "pline = mapview.plot_pathline(p0, layer=\"all\", color=\"blue\", lw=0.75)\n",
    "colors = [\"green\", \"orange\", \"red\"]\n",
    "for k in range(3):\n",
    "    tseries = mapview.plot_timeseries(\n",
    "        ts0, layer=k, marker=\"o\", lw=0, color=colors[k]\n",
    "    )"
   ]
  },
  {
   "attachments": {},
   "cell_type": "markdown",
   "metadata": {
    "pycharm": {
     "name": "#%% md\n"
    }
   },
   "source": [
    "### Plotting specific discharge vectors for DISV\n",
    "MODFLOW-6 includes a the PLOT_SPECIFIC_DISCHARGE flag in the NPF package to calculate and store discharge vectors for easy plotting. The postprocessing module will translate the specific dischage into vector array and `PlotMapView` has the `plot_vector()` method to use this data. The specific discharge array is stored in the cell budget file."
   ]
  },
  {
   "cell_type": "code",
   "execution_count": null,
   "metadata": {
    "execution": {
     "iopub.execute_input": "2023-05-02T02:55:12.674404Z",
     "iopub.status.busy": "2023-05-02T02:55:12.674085Z",
     "iopub.status.idle": "2023-05-02T02:55:13.243543Z",
     "shell.execute_reply": "2023-05-02T02:55:13.242752Z"
    },
    "pycharm": {
     "name": "#%%\n"
    }
   },
   "outputs": [],
   "source": [
    "cbb = flopy.utils.CellBudgetFile(\n",
    "    os.path.join(modelpth, \"mp7p2.cbb\"), precision=\"double\"\n",
    ")\n",
    "spdis = cbb.get_data(text=\"SPDIS\")[0]\n",
    "qx, qy, qz = flopy.utils.postprocessing.get_specific_discharge(\n",
    "    spdis, vertex_ml6\n",
    ")\n",
    "\n",
    "fig = plt.figure(figsize=(12, 12))\n",
    "ax = fig.add_subplot(1, 1, 1, aspect=\"equal\")\n",
    "ax.set_title(\"Specific discharge for vertex model\")\n",
    "\n",
    "mapview = flopy.plot.PlotMapView(vertex_ml6, layer=2)\n",
    "pc = mapview.plot_array(hdata, cmap=\"Dark2\")\n",
    "linecollection = mapview.plot_grid(lw=0.25, color=\"k\")\n",
    "cb = plt.colorbar(pc, shrink=0.75, ax=ax)\n",
    "\n",
    "# plot specific discharge\n",
    "quiver = mapview.plot_vector(qx, qy, normalize=True, alpha=0.60)"
   ]
  },
  {
   "attachments": {},
   "cell_type": "markdown",
   "metadata": {
    "pycharm": {
     "name": "#%% md\n"
    }
   },
   "source": [
    "## Unstructured grid (DISU) plotting with MODFLOW-USG and MODFLOW-6\n",
    "\n",
    "Unstructured grid (DISU) plotting has support through the `PlotMapView` class and the `UnstructuredGrid` discretization object. The method calls are identical to those used for vertex (DISV) and structured (DIS) model grids. Let's run through a few unstructured grid examples"
   ]
  },
  {
   "cell_type": "code",
   "execution_count": null,
   "metadata": {
    "execution": {
     "iopub.execute_input": "2023-05-02T02:55:13.251575Z",
     "iopub.status.busy": "2023-05-02T02:55:13.251236Z",
     "iopub.status.idle": "2023-05-02T02:55:13.258470Z",
     "shell.execute_reply": "2023-05-02T02:55:13.257482Z"
    },
    "pycharm": {
     "name": "#%%\n"
    }
   },
   "outputs": [],
   "source": [
    "# set up the notebook for unstructured grid plotting\n",
    "from flopy.discretization import UnstructuredGrid\n",
    "\n",
    "# this is a folder containing some unstructured grids\n",
    "datapth = str(prj_root / \"examples\" / \"data\" / \"unstructured\")\n",
    "\n",
    "\n",
    "# simple functions to load vertices and incidence lists\n",
    "def load_verts(fname):\n",
    "    verts = np.genfromtxt(\n",
    "        fname, dtype=[int, float, float], names=[\"iv\", \"x\", \"y\"]\n",
    "    )\n",
    "    verts[\"iv\"] -= 1  # zero based\n",
    "    return verts\n",
    "\n",
    "\n",
    "def load_iverts(fname):\n",
    "    f = open(fname, \"r\")\n",
    "    iverts = []\n",
    "    xc = []\n",
    "    yc = []\n",
    "    for line in f:\n",
    "        ll = line.strip().split()\n",
    "        iverts.append([int(i) - 1 for i in ll[4:]])\n",
    "        xc.append(float(ll[1]))\n",
    "        yc.append(float(ll[2]))\n",
    "    return iverts, np.array(xc), np.array(yc)"
   ]
  },
  {
   "cell_type": "code",
   "execution_count": null,
   "metadata": {
    "execution": {
     "iopub.execute_input": "2023-05-02T02:55:13.261724Z",
     "iopub.status.busy": "2023-05-02T02:55:13.261204Z",
     "iopub.status.idle": "2023-05-02T02:55:13.279454Z",
     "shell.execute_reply": "2023-05-02T02:55:13.278657Z"
    },
    "pycharm": {
     "name": "#%%\n"
    }
   },
   "outputs": [],
   "source": [
    "# load vertices\n",
    "fname = os.path.join(datapth, \"ugrid_verts.dat\")\n",
    "verts = load_verts(fname)\n",
    "\n",
    "# load the incidence list into iverts\n",
    "fname = os.path.join(datapth, \"ugrid_iverts.dat\")\n",
    "iverts, xc, yc = load_iverts(fname)"
   ]
  },
  {
   "attachments": {},
   "cell_type": "markdown",
   "metadata": {
    "pycharm": {
     "name": "#%% md\n"
    }
   },
   "source": [
    "In this case, verts is just a 2-dimensional list of x,y vertex pairs.  iverts is also a 2-dimensional list, where the outer list is of size ncells, and the inner list is a list of the vertex numbers that comprise the cell."
   ]
  },
  {
   "cell_type": "code",
   "execution_count": null,
   "metadata": {
    "execution": {
     "iopub.execute_input": "2023-05-02T02:55:13.283138Z",
     "iopub.status.busy": "2023-05-02T02:55:13.282582Z",
     "iopub.status.idle": "2023-05-02T02:55:13.291158Z",
     "shell.execute_reply": "2023-05-02T02:55:13.290137Z"
    },
    "pycharm": {
     "name": "#%%\n"
    }
   },
   "outputs": [],
   "source": [
    "# Print the first 5 entries in verts and iverts\n",
    "for ivert, v in enumerate(verts[:5]):\n",
    "    print(\"Vertex coordinate pair for vertex {}: {}\".format(ivert, v))\n",
    "print(\"...\\n\")\n",
    "\n",
    "for icell, vertlist in enumerate(iverts[:5]):\n",
    "    print(\"List of vertices for cell {}: {}\".format(icell, vertlist))"
   ]
  },
  {
   "attachments": {},
   "cell_type": "markdown",
   "metadata": {
    "pycharm": {
     "name": "#%% md\n"
    }
   },
   "source": [
    "A flopy `UnstructuredGrid` object can now be created using the vertices and incidence list.  The `UnstructuredGrid` object is a key part of the plotting capabilities in flopy.  In addition to the vertex information, the `UnstructuredGrid` object also needs to know how many cells are in each layer.  This is specified in the ncpl variable, which is a list of cells per layer."
   ]
  },
  {
   "cell_type": "code",
   "execution_count": null,
   "metadata": {
    "execution": {
     "iopub.execute_input": "2023-05-02T02:55:13.295175Z",
     "iopub.status.busy": "2023-05-02T02:55:13.294770Z",
     "iopub.status.idle": "2023-05-02T02:55:13.301203Z",
     "shell.execute_reply": "2023-05-02T02:55:13.300161Z"
    },
    "pycharm": {
     "name": "#%%\n"
    }
   },
   "outputs": [],
   "source": [
    "ncpl = np.array(5 * [len(iverts)])\n",
    "umg = UnstructuredGrid(verts, iverts, xc, yc, ncpl=ncpl, angrot=10)\n",
    "print(ncpl)\n",
    "print(umg)"
   ]
  },
  {
   "attachments": {},
   "cell_type": "markdown",
   "metadata": {
    "pycharm": {
     "name": "#%% md\n"
    }
   },
   "source": [
    "Now that we have an `UnstructuredGrid`, we can use the flopy `PlotMapView` object to create different types of plots, just like we do for structured grids."
   ]
  },
  {
   "cell_type": "code",
   "execution_count": null,
   "metadata": {
    "execution": {
     "iopub.execute_input": "2023-05-02T02:55:13.304445Z",
     "iopub.status.busy": "2023-05-02T02:55:13.304142Z",
     "iopub.status.idle": "2023-05-02T02:55:13.581851Z",
     "shell.execute_reply": "2023-05-02T02:55:13.580978Z"
    },
    "pycharm": {
     "name": "#%%\n"
    }
   },
   "outputs": [],
   "source": [
    "f = plt.figure(figsize=(10, 10))\n",
    "mapview = flopy.plot.PlotMapView(modelgrid=umg)\n",
    "mapview.plot_grid()\n",
    "plt.plot(umg.xcellcenters, umg.ycellcenters, \"bo\");"
   ]
  },
  {
   "cell_type": "code",
   "execution_count": null,
   "metadata": {
    "execution": {
     "iopub.execute_input": "2023-05-02T02:55:13.585829Z",
     "iopub.status.busy": "2023-05-02T02:55:13.585184Z",
     "iopub.status.idle": "2023-05-02T02:55:14.011558Z",
     "shell.execute_reply": "2023-05-02T02:55:14.010743Z"
    },
    "pycharm": {
     "name": "#%%\n"
    }
   },
   "outputs": [],
   "source": [
    "# Create a random array for layer 0, and then plot it with a color flood and contours\n",
    "f = plt.figure(figsize=(10, 10))\n",
    "\n",
    "a = np.random.random((ncpl[0])) * 100\n",
    "levels = np.arange(0, 100, 30)\n",
    "\n",
    "mapview = flopy.plot.PlotMapView(modelgrid=umg)\n",
    "pc = mapview.plot_array(a, cmap=\"viridis\")\n",
    "contour_set = mapview.contour_array(a, levels=levels, colors=\"white\")\n",
    "plt.clabel(contour_set, fmt=\"%.1f\", colors=\"white\", fontsize=11)\n",
    "linecollection = mapview.plot_grid(color=\"k\", lw=0.5)\n",
    "colorbar = plt.colorbar(pc, shrink=0.75)"
   ]
  },
  {
   "attachments": {},
   "cell_type": "markdown",
   "metadata": {
    "pycharm": {
     "name": "#%% md\n"
    }
   },
   "source": [
    "Here are some examples of some other types of grids.  The data files for these grids are located in the datapth folder."
   ]
  },
  {
   "cell_type": "code",
   "execution_count": null,
   "metadata": {
    "execution": {
     "iopub.execute_input": "2023-05-02T02:55:14.018915Z",
     "iopub.status.busy": "2023-05-02T02:55:14.018474Z",
     "iopub.status.idle": "2023-05-02T02:55:16.990815Z",
     "shell.execute_reply": "2023-05-02T02:55:16.989641Z"
    },
    "pycharm": {
     "name": "#%%\n"
    }
   },
   "outputs": [],
   "source": [
    "from pathlib import Path\n",
    "\n",
    "fig = plt.figure(figsize=(10, 30))\n",
    "fnames = [fname for fname in os.listdir(datapth) if fname.endswith(\".exp\")]\n",
    "nplot = len(fnames)\n",
    "for i, f in enumerate(fnames):\n",
    "    ax = fig.add_subplot(nplot, 1, i + 1, aspect=\"equal\")\n",
    "    fname = os.path.join(datapth, f)\n",
    "    umga = UnstructuredGrid.from_argus_export(fname, nlay=1)\n",
    "    mapview = flopy.plot.PlotMapView(modelgrid=umga, ax=ax)\n",
    "    linecollection = mapview.plot_grid(colors=\"sienna\")\n",
    "    ax.set_title(Path(fname).name)"
   ]
  },
  {
   "attachments": {},
   "cell_type": "markdown",
   "metadata": {
    "pycharm": {
     "name": "#%% md\n"
    }
   },
   "source": [
    "## Plotting using built in styles\n",
    "\n",
    "FloPy's plotting routines can be used with built in styles from the `styles` module. The `styles` module takes advantage of matplotlib's temporary styling routines by reading in pre-built style sheets. Two different types of styles have been built for flopy: `USGSMap()` and `USGSPlot()` styles which can be used to create report quality figures. The styles module also contains a number of methods that can be used for adding axis labels, text, annotations, headings, removing tick lines, and updating the current font."
   ]
  },
  {
   "cell_type": "code",
   "execution_count": null,
   "metadata": {
    "execution": {
     "iopub.execute_input": "2023-05-02T02:55:17.016482Z",
     "iopub.status.busy": "2023-05-02T02:55:17.016207Z",
     "iopub.status.idle": "2023-05-02T02:55:17.020052Z",
     "shell.execute_reply": "2023-05-02T02:55:17.019234Z"
    },
    "pycharm": {
     "name": "#%%\n"
    }
   },
   "outputs": [],
   "source": [
    "# import flopy's styles\n",
    "from flopy.plot import styles"
   ]
  },
  {
   "cell_type": "code",
   "execution_count": null,
   "metadata": {
    "execution": {
     "iopub.execute_input": "2023-05-02T02:55:17.022841Z",
     "iopub.status.busy": "2023-05-02T02:55:17.022585Z",
     "iopub.status.idle": "2023-05-02T02:55:17.583937Z",
     "shell.execute_reply": "2023-05-02T02:55:17.582819Z"
    },
    "pycharm": {
     "name": "#%%\n"
    }
   },
   "outputs": [],
   "source": [
    "# get the specific discharge from the cell budget file\n",
    "cbc_file = os.path.join(newpth, \"freyberg.cbc\")\n",
    "cbc = flopy.utils.CellBudgetFile(cbc_file)\n",
    "spdis = cbc.get_data(text=\"SPDIS\")[0]\n",
    "\n",
    "qx, qy, qz = flopy.utils.postprocessing.get_specific_discharge(spdis, ml6)\n",
    "\n",
    "# get the head from the head file\n",
    "head_file = os.path.join(newpth, \"freyberg.hds\")\n",
    "head = flopy.utils.HeadFile(head_file)\n",
    "hdata = head.get_alldata()[0]\n",
    "\n",
    "# use USGSMap style to create a discharge figure:\n",
    "with styles.USGSMap():\n",
    "    fig = plt.figure(figsize=(12, 12))\n",
    "\n",
    "    mapview = flopy.plot.PlotMapView(model=ml6, layer=0)\n",
    "    linecollection = mapview.plot_grid()\n",
    "    quadmesh = mapview.plot_array(a=hdata, alpha=0.5)\n",
    "    quiver = mapview.plot_vector(qx, qy)\n",
    "    inactive = mapview.plot_inactive()\n",
    "    plt.colorbar(quadmesh, shrink=0.75)\n",
    "\n",
    "    # use styles to add a heading, xlabel, ylabel\n",
    "    styles.heading(\n",
    "        letter=\"A.\", heading=\"Specific Discharge (\" + r\"$L/T$\" + \")\"\n",
    "    )\n",
    "    styles.xlabel(label=\"Easting\")\n",
    "    styles.ylabel(label=\"Northing\")"
   ]
  },
  {
   "attachments": {},
   "cell_type": "markdown",
   "metadata": {
    "pycharm": {
     "name": "#%% md\n"
    }
   },
   "source": [
    "Here is a second example showing how to change the font type using `styles`"
   ]
  },
  {
   "cell_type": "code",
   "execution_count": null,
   "metadata": {
    "execution": {
     "iopub.execute_input": "2023-05-02T02:55:17.592971Z",
     "iopub.status.busy": "2023-05-02T02:55:17.592579Z",
     "iopub.status.idle": "2023-05-02T02:55:18.106938Z",
     "shell.execute_reply": "2023-05-02T02:55:18.106054Z"
    },
    "pycharm": {
     "name": "#%%\n"
    }
   },
   "outputs": [],
   "source": [
    "# use USGSMap style, change font type, and plot without tick lines:\n",
    "with styles.USGSMap():\n",
    "    fig = plt.figure(figsize=(12, 12))\n",
    "\n",
    "    mapview = flopy.plot.PlotMapView(model=ml6, layer=0)\n",
    "    linecollection = mapview.plot_grid()\n",
    "    quadmesh = mapview.plot_array(a=hdata, alpha=0.5)\n",
    "    quiver = mapview.plot_vector(qx, qy)\n",
    "    inactive = mapview.plot_inactive()\n",
    "    plt.colorbar(quadmesh, shrink=0.75)\n",
    "\n",
    "    # use styles to add a heading, xlabel, ylabel, and remove tick marks\n",
    "    styles.heading(\n",
    "        letter=\"A.\",\n",
    "        heading=\"Comic Sans: Specific Discharge (\" + r\"$L/T$\" + \")\",\n",
    "        fontsize=16,\n",
    "    )\n",
    "    styles.xlabel(label=\"Easting\", fontsize=12)\n",
    "    styles.ylabel(label=\"Northing\", fontsize=12)\n",
    "    styles.remove_edge_ticks()"
   ]
  },
  {
   "attachments": {},
   "cell_type": "markdown",
   "metadata": {
    "pycharm": {
     "name": "#%% md\n"
    }
   },
   "source": [
    "## Summary\n",
    "\n",
    "This notebook demonstrates some of the plotting functionality available with FloPy.  Although not described here, the plotting functionality tries to be general by passing keyword arguments passed to `PlotMapView` methods down into the `matplotlib.pyplot` routines that do the actual plotting.  For those looking to customize these plots, it may be necessary to search for the available keywords by understanding the types of objects that are created by the `PlotMapView` methods.  The `PlotMapView` methods return these `matplotlib.collections` objects so that they could be fine-tuned later in the script before plotting.\n",
    "\n",
    "Hope this gets you started!"
   ]
  },
  {
   "cell_type": "code",
   "execution_count": null,
   "metadata": {
    "execution": {
     "iopub.execute_input": "2023-05-02T02:55:18.116757Z",
     "iopub.status.busy": "2023-05-02T02:55:18.116168Z",
     "iopub.status.idle": "2023-05-02T02:55:18.177056Z",
     "shell.execute_reply": "2023-05-02T02:55:18.175620Z"
    },
    "pycharm": {
     "name": "#%%\n"
    }
   },
   "outputs": [],
   "source": [
    "try:\n",
    "    # ignore PermissionError on Windows\n",
    "    tempdir.cleanup()\n",
    "except:\n",
    "    pass"
   ]
  },
  {
   "cell_type": "code",
   "execution_count": null,
   "metadata": {},
   "outputs": [],
   "source": []
  }
 ],
 "metadata": {
  "kernelspec": {
   "display_name": "Python 3 (ipykernel)",
   "language": "python",
   "name": "python3"
  },
  "language_info": {
   "codemirror_mode": {
    "name": "ipython",
    "version": 3
   },
   "file_extension": ".py",
   "mimetype": "text/x-python",
   "name": "python",
   "nbconvert_exporter": "python",
   "pygments_lexer": "ipython3",
   "version": "3.11.2"
  }
 },
 "nbformat": 4,
 "nbformat_minor": 4
}
