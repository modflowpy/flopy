{
 "cells": [
  {
   "attachments": {},
   "cell_type": "markdown",
   "metadata": {},
   "source": [
    "# Plotting SWR Process Results\n",
    "\n",
    "This notebook demonstrates the use of the `SwrObs` and `SwrStage`, `SwrBudget`, `SwrFlow`, and `SwrExchange`, `SwrStructure`,  classes to read binary SWR Process observation, stage, budget, reach to reach flows, reach-aquifer exchange, and structure files. It demonstrates these capabilities by loading these binary file types and showing examples of plotting SWR Process data. An example showing how the simulated water surface profile at a selected time along a selection of reaches can be plotted is also presented."
   ]
  },
  {
   "cell_type": "code",
   "execution_count": null,
   "metadata": {
    "execution": {
     "iopub.execute_input": "2023-05-02T02:55:24.712606Z",
     "iopub.status.busy": "2023-05-02T02:55:24.712326Z",
     "iopub.status.idle": "2023-05-02T02:55:26.451096Z",
     "shell.execute_reply": "2023-05-02T02:55:26.449884Z"
    }
   },
   "outputs": [],
   "source": [
    "from IPython.display import Image\n",
    "import os\n",
    "import sys\n",
    "import numpy as np\n",
    "import matplotlib as mpl\n",
    "import matplotlib.pyplot as plt\n",
    "\n",
    "# run installed version of flopy or add local path\n",
    "try:\n",
    "    import flopy\n",
    "except:\n",
    "    fpth = os.path.abspath(os.path.join(\"..\", \"..\"))\n",
    "    sys.path.append(fpth)\n",
    "    import flopy\n",
    "\n",
    "print(sys.version)\n",
    "print(\"numpy version: {}\".format(np.__version__))\n",
    "print(\"matplotlib version: {}\".format(mpl.__version__))\n",
    "print(\"flopy version: {}\".format(flopy.__version__))"
   ]
  },
  {
   "cell_type": "code",
   "execution_count": null,
   "metadata": {
    "execution": {
     "iopub.execute_input": "2023-05-02T02:55:26.499231Z",
     "iopub.status.busy": "2023-05-02T02:55:26.498559Z",
     "iopub.status.idle": "2023-05-02T02:55:26.502365Z",
     "shell.execute_reply": "2023-05-02T02:55:26.501691Z"
    }
   },
   "outputs": [],
   "source": [
    "# Set the paths\n",
    "datapth = os.path.join(\"..\", \"..\", \"examples\", \"data\", \"swr_test\")\n",
    "\n",
    "# SWR Process binary files\n",
    "files = (\"SWR004.obs\", \"SWR004.vel\", \"SWR004.str\", \"SWR004.stg\", \"SWR004.flow\")"
   ]
  },
  {
   "cell_type": "markdown",
   "metadata": {},
   "source": [
    "### Load SWR Process observations\n",
    "\n",
    "Create an instance of the `SwrObs` class and load the observation data."
   ]
  },
  {
   "cell_type": "code",
   "execution_count": null,
   "metadata": {
    "execution": {
     "iopub.execute_input": "2023-05-02T02:55:26.504792Z",
     "iopub.status.busy": "2023-05-02T02:55:26.504542Z",
     "iopub.status.idle": "2023-05-02T02:55:26.544360Z",
     "shell.execute_reply": "2023-05-02T02:55:26.543560Z"
    }
   },
   "outputs": [],
   "source": [
    "sobj = flopy.utils.SwrObs(os.path.join(datapth, files[0]))\n",
    "\n",
    "ts = sobj.get_data()"
   ]
  },
  {
   "cell_type": "markdown",
   "metadata": {},
   "source": [
    "#### Plot the data from the binary SWR Process observation file"
   ]
  },
  {
   "cell_type": "code",
   "execution_count": null,
   "metadata": {
    "execution": {
     "iopub.execute_input": "2023-05-02T02:55:26.547279Z",
     "iopub.status.busy": "2023-05-02T02:55:26.547005Z",
     "iopub.status.idle": "2023-05-02T02:55:27.521186Z",
     "shell.execute_reply": "2023-05-02T02:55:27.520201Z"
    }
   },
   "outputs": [],
   "source": [
    "fig = plt.figure(figsize=(6, 12))\n",
    "ax1 = fig.add_subplot(3, 1, 1)\n",
    "ax1.semilogx(ts[\"totim\"] / 3600.0, -ts[\"OBS1\"], label=\"OBS1\")\n",
    "ax1.semilogx(ts[\"totim\"] / 3600.0, -ts[\"OBS2\"], label=\"OBS2\")\n",
    "ax1.semilogx(ts[\"totim\"] / 3600.0, -ts[\"OBS9\"], label=\"OBS3\")\n",
    "ax1.set_ylabel(\"Flow, in cubic meters per second\")\n",
    "ax1.legend()\n",
    "\n",
    "ax = fig.add_subplot(3, 1, 2, sharex=ax1)\n",
    "ax.semilogx(ts[\"totim\"] / 3600.0, -ts[\"OBS4\"], label=\"OBS4\")\n",
    "ax.semilogx(ts[\"totim\"] / 3600.0, -ts[\"OBS5\"], label=\"OBS5\")\n",
    "ax.set_ylabel(\"Flow, in cubic meters per second\")\n",
    "ax.legend()\n",
    "\n",
    "ax = fig.add_subplot(3, 1, 3, sharex=ax1)\n",
    "ax.semilogx(ts[\"totim\"] / 3600.0, ts[\"OBS6\"], label=\"OBS6\")\n",
    "ax.semilogx(ts[\"totim\"] / 3600.0, ts[\"OBS7\"], label=\"OBS7\")\n",
    "ax.set_xlim(1, 100)\n",
    "ax.set_ylabel(\"Stage, in meters\")\n",
    "ax.set_xlabel(\"Time, in hours\")\n",
    "ax.legend();"
   ]
  },
  {
   "cell_type": "markdown",
   "metadata": {},
   "source": [
    "### Load the same data from the individual binary SWR Process files\n",
    "\n",
    "Load discharge data from the flow file. The flow file contains the simulated flow between connected reaches for each connection in the model."
   ]
  },
  {
   "cell_type": "code",
   "execution_count": null,
   "metadata": {
    "execution": {
     "iopub.execute_input": "2023-05-02T02:55:27.524322Z",
     "iopub.status.busy": "2023-05-02T02:55:27.524002Z",
     "iopub.status.idle": "2023-05-02T02:55:27.645101Z",
     "shell.execute_reply": "2023-05-02T02:55:27.644236Z"
    }
   },
   "outputs": [],
   "source": [
    "sobj = flopy.utils.SwrFlow(os.path.join(datapth, files[1]))\n",
    "times = np.array(sobj.get_times()) / 3600.0\n",
    "obs1 = sobj.get_ts(irec=1, iconn=0)\n",
    "obs2 = sobj.get_ts(irec=14, iconn=13)\n",
    "obs4 = sobj.get_ts(irec=4, iconn=3)\n",
    "obs5 = sobj.get_ts(irec=5, iconn=4)"
   ]
  },
  {
   "cell_type": "markdown",
   "metadata": {},
   "source": [
    "Load discharge data from the structure file. The structure file contains the simulated structure flow for each reach with a structure."
   ]
  },
  {
   "cell_type": "code",
   "execution_count": null,
   "metadata": {
    "execution": {
     "iopub.execute_input": "2023-05-02T02:55:27.648533Z",
     "iopub.status.busy": "2023-05-02T02:55:27.648181Z",
     "iopub.status.idle": "2023-05-02T02:55:27.967406Z",
     "shell.execute_reply": "2023-05-02T02:55:27.966530Z"
    }
   },
   "outputs": [],
   "source": [
    "sobj = flopy.utils.SwrStructure(os.path.join(datapth, files[2]))\n",
    "obs3 = sobj.get_ts(irec=17, istr=0)"
   ]
  },
  {
   "cell_type": "markdown",
   "metadata": {},
   "source": [
    "Load stage data from the stage file. The flow file contains the simulated stage for each reach in the model."
   ]
  },
  {
   "cell_type": "code",
   "execution_count": null,
   "metadata": {
    "execution": {
     "iopub.execute_input": "2023-05-02T02:55:27.971390Z",
     "iopub.status.busy": "2023-05-02T02:55:27.970840Z",
     "iopub.status.idle": "2023-05-02T02:55:28.051374Z",
     "shell.execute_reply": "2023-05-02T02:55:28.050661Z"
    }
   },
   "outputs": [],
   "source": [
    "sobj = flopy.utils.SwrStage(os.path.join(datapth, files[3]))\n",
    "obs6 = sobj.get_ts(irec=13)"
   ]
  },
  {
   "cell_type": "markdown",
   "metadata": {},
   "source": [
    "Load budget data from the budget file. The budget file contains the simulated budget for each reach group in the model. The budget file also contains the stage data for each reach group. In this case the number of reach groups equals the number of reaches in the model."
   ]
  },
  {
   "cell_type": "code",
   "execution_count": null,
   "metadata": {
    "execution": {
     "iopub.execute_input": "2023-05-02T02:55:28.054046Z",
     "iopub.status.busy": "2023-05-02T02:55:28.053772Z",
     "iopub.status.idle": "2023-05-02T02:55:28.138461Z",
     "shell.execute_reply": "2023-05-02T02:55:28.137688Z"
    }
   },
   "outputs": [],
   "source": [
    "sobj = flopy.utils.SwrBudget(os.path.join(datapth, files[4]))\n",
    "obs7 = sobj.get_ts(irec=17)"
   ]
  },
  {
   "cell_type": "markdown",
   "metadata": {},
   "source": [
    "#### Plot the data loaded from the individual binary SWR Process files.\n",
    "\n",
    "Note that the plots are identical to the plots generated from the binary SWR observation data."
   ]
  },
  {
   "cell_type": "code",
   "execution_count": null,
   "metadata": {
    "execution": {
     "iopub.execute_input": "2023-05-02T02:55:28.142016Z",
     "iopub.status.busy": "2023-05-02T02:55:28.141672Z",
     "iopub.status.idle": "2023-05-02T02:55:29.071912Z",
     "shell.execute_reply": "2023-05-02T02:55:29.070482Z"
    }
   },
   "outputs": [],
   "source": [
    "fig = plt.figure(figsize=(6, 12))\n",
    "ax1 = fig.add_subplot(3, 1, 1)\n",
    "ax1.semilogx(times, obs1[\"flow\"], label=\"OBS1\")\n",
    "ax1.semilogx(times, obs2[\"flow\"], label=\"OBS2\")\n",
    "ax1.semilogx(times, -obs3[\"strflow\"], label=\"OBS3\")\n",
    "ax1.set_ylabel(\"Flow, in cubic meters per second\")\n",
    "ax1.legend()\n",
    "\n",
    "ax = fig.add_subplot(3, 1, 2, sharex=ax1)\n",
    "ax.semilogx(times, obs4[\"flow\"], label=\"OBS4\")\n",
    "ax.semilogx(times, obs5[\"flow\"], label=\"OBS5\")\n",
    "ax.set_ylabel(\"Flow, in cubic meters per second\")\n",
    "ax.legend()\n",
    "\n",
    "ax = fig.add_subplot(3, 1, 3, sharex=ax1)\n",
    "ax.semilogx(times, obs6[\"stage\"], label=\"OBS6\")\n",
    "ax.semilogx(times, obs7[\"stage\"], label=\"OBS7\")\n",
    "ax.set_xlim(1, 100)\n",
    "ax.set_ylabel(\"Stage, in meters\")\n",
    "ax.set_xlabel(\"Time, in hours\")\n",
    "ax.legend();"
   ]
  },
  {
   "cell_type": "markdown",
   "metadata": {},
   "source": [
    "### Plot simulated water surface profiles\n",
    "\n",
    "Simulated water surface profiles can be created using the `ModelCrossSection` class. \n",
    "\n",
    "Several things that we need in addition to the stage data include reach lengths and bottom elevations. We load these data from an existing file."
   ]
  },
  {
   "cell_type": "code",
   "execution_count": null,
   "metadata": {
    "execution": {
     "iopub.execute_input": "2023-05-02T02:55:29.075794Z",
     "iopub.status.busy": "2023-05-02T02:55:29.075357Z",
     "iopub.status.idle": "2023-05-02T02:55:29.085346Z",
     "shell.execute_reply": "2023-05-02T02:55:29.083955Z"
    }
   },
   "outputs": [],
   "source": [
    "sd = np.genfromtxt(os.path.join(datapth, \"SWR004.dis.ref\"), names=True)"
   ]
  },
  {
   "cell_type": "markdown",
   "metadata": {},
   "source": [
    "The contents of the file are shown in the cell below."
   ]
  },
  {
   "cell_type": "code",
   "execution_count": null,
   "metadata": {
    "execution": {
     "iopub.execute_input": "2023-05-02T02:55:29.089995Z",
     "iopub.status.busy": "2023-05-02T02:55:29.089023Z",
     "iopub.status.idle": "2023-05-02T02:55:29.097101Z",
     "shell.execute_reply": "2023-05-02T02:55:29.096185Z"
    }
   },
   "outputs": [],
   "source": [
    "fc = open(os.path.join(datapth, \"SWR004.dis.ref\")).readlines()\n",
    "fc"
   ]
  },
  {
   "cell_type": "markdown",
   "metadata": {},
   "source": [
    "Create an instance of the `SwrStage` class for SWR Process stage data."
   ]
  },
  {
   "cell_type": "code",
   "execution_count": null,
   "metadata": {
    "execution": {
     "iopub.execute_input": "2023-05-02T02:55:29.100999Z",
     "iopub.status.busy": "2023-05-02T02:55:29.100620Z",
     "iopub.status.idle": "2023-05-02T02:55:29.198948Z",
     "shell.execute_reply": "2023-05-02T02:55:29.198045Z"
    }
   },
   "outputs": [],
   "source": [
    "sobj = flopy.utils.SwrStage(os.path.join(datapth, files[3]))"
   ]
  },
  {
   "cell_type": "markdown",
   "metadata": {},
   "source": [
    "Create a selection condition (`iprof`) that can be used to extract data for the reaches of interest (reaches 0, 1, and 8 through 17). Use this selection condition to extract reach lengths (from `sd['RLEN']`) and the bottom elevation  (from `sd['BELEV']`) for the reaches of interest. The selection condition will also be used to extract the stage data for reaches of interest."
   ]
  },
  {
   "cell_type": "code",
   "execution_count": null,
   "metadata": {
    "execution": {
     "iopub.execute_input": "2023-05-02T02:55:29.202906Z",
     "iopub.status.busy": "2023-05-02T02:55:29.202542Z",
     "iopub.status.idle": "2023-05-02T02:55:29.207311Z",
     "shell.execute_reply": "2023-05-02T02:55:29.206413Z"
    }
   },
   "outputs": [],
   "source": [
    "iprof = sd[\"IRCH\"] > 0\n",
    "iprof[2:8] = False\n",
    "dx = np.extract(iprof, sd[\"RLEN\"])\n",
    "belev = np.extract(iprof, sd[\"BELEV\"])"
   ]
  },
  {
   "cell_type": "markdown",
   "metadata": {},
   "source": [
    "Create a fake model instance so that the `ModelCrossSection` class can be used."
   ]
  },
  {
   "cell_type": "code",
   "execution_count": null,
   "metadata": {
    "execution": {
     "iopub.execute_input": "2023-05-02T02:55:29.210990Z",
     "iopub.status.busy": "2023-05-02T02:55:29.210628Z",
     "iopub.status.idle": "2023-05-02T02:55:29.218466Z",
     "shell.execute_reply": "2023-05-02T02:55:29.217246Z"
    }
   },
   "outputs": [],
   "source": [
    "ml = flopy.modflow.Modflow()\n",
    "dis = flopy.modflow.ModflowDis(\n",
    "    ml,\n",
    "    nrow=1,\n",
    "    ncol=dx.shape[0],\n",
    "    delr=dx,\n",
    "    top=4.5,\n",
    "    botm=belev.reshape(1, 1, 12),\n",
    ")"
   ]
  },
  {
   "cell_type": "markdown",
   "metadata": {},
   "source": [
    "Create an array with the x position at the downstream end of each reach, which will be used to color the plots below each reach. "
   ]
  },
  {
   "cell_type": "code",
   "execution_count": null,
   "metadata": {
    "execution": {
     "iopub.execute_input": "2023-05-02T02:55:29.222337Z",
     "iopub.status.busy": "2023-05-02T02:55:29.221883Z",
     "iopub.status.idle": "2023-05-02T02:55:29.226752Z",
     "shell.execute_reply": "2023-05-02T02:55:29.225482Z"
    }
   },
   "outputs": [],
   "source": [
    "x = np.cumsum(dx)"
   ]
  },
  {
   "cell_type": "markdown",
   "metadata": {},
   "source": [
    "Plot simulated water surface profiles for 8 times."
   ]
  },
  {
   "cell_type": "code",
   "execution_count": null,
   "metadata": {
    "execution": {
     "iopub.execute_input": "2023-05-02T02:55:29.231093Z",
     "iopub.status.busy": "2023-05-02T02:55:29.230490Z",
     "iopub.status.idle": "2023-05-02T02:55:30.542121Z",
     "shell.execute_reply": "2023-05-02T02:55:30.541237Z"
    }
   },
   "outputs": [],
   "source": [
    "fig = plt.figure(figsize=(12, 12))\n",
    "for idx, v in enumerate([19, 29, 34, 39, 44, 49, 54, 59]):\n",
    "    ax = fig.add_subplot(4, 2, idx + 1)\n",
    "    s = sobj.get_data(idx=v)\n",
    "    stage = np.extract(iprof, s[\"stage\"])\n",
    "    xs = flopy.plot.PlotCrossSection(model=ml, line={\"Row\": 0})\n",
    "    xs.plot_fill_between(\n",
    "        stage.reshape(1, 1, 12),\n",
    "        colors=[\"none\", \"blue\"],\n",
    "        ax=ax,\n",
    "        edgecolors=\"none\",\n",
    "    )\n",
    "    linecollection = xs.plot_grid(ax=ax, zorder=10)\n",
    "    ax.fill_between(\n",
    "        np.append(0.0, x),\n",
    "        y1=np.append(belev[0], belev),\n",
    "        y2=-0.5,\n",
    "        facecolor=\"0.5\",\n",
    "        edgecolor=\"none\",\n",
    "        step=\"pre\",\n",
    "    )\n",
    "    ax.set_title(\"{} hours\".format(times[v]))\n",
    "    ax.set_ylim(-0.5, 4.5)"
   ]
  },
  {
   "cell_type": "markdown",
   "metadata": {},
   "source": [
    "## Summary\n",
    "\n",
    "This notebook demonstrates flopy functionality for reading binary output generated by the SWR Process. Binary files that can be read include observations, stages, budgets, flow, reach-aquifer exchanges, and structure data. The binary stage data can also be used to create water-surface profiles.  \n",
    "\n",
    "Hope this gets you started!"
   ]
  }
 ],
 "metadata": {
  "kernelspec": {
   "display_name": "Python 3 (ipykernel)",
   "language": "python",
   "name": "python3"
  },
  "language_info": {
   "codemirror_mode": {
    "name": "ipython",
    "version": 3
   },
   "file_extension": ".py",
   "mimetype": "text/x-python",
   "name": "python",
   "nbconvert_exporter": "python",
   "pygments_lexer": "ipython3",
   "version": "3.11.0"
  }
 },
 "nbformat": 4,
 "nbformat_minor": 4
}
