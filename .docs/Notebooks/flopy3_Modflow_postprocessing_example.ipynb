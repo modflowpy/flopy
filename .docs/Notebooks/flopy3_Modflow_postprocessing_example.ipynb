{
 "cells": [
  {
   "attachments": {},
   "cell_type": "markdown",
   "metadata": {},
   "source": [
    "## Postprocessing head results from MODFLOW"
   ]
  },
  {
   "cell_type": "code",
   "execution_count": null,
   "metadata": {
    "execution": {
     "iopub.execute_input": "2023-05-02T02:54:57.042358Z",
     "iopub.status.busy": "2023-05-02T02:54:57.041851Z",
     "iopub.status.idle": "2023-05-02T02:54:58.234222Z",
     "shell.execute_reply": "2023-05-02T02:54:58.233246Z"
    }
   },
   "outputs": [],
   "source": [
    "import os\n",
    "import sys\n",
    "from tempfile import TemporaryDirectory\n",
    "\n",
    "import numpy as np\n",
    "import matplotlib as mpl\n",
    "import matplotlib.pyplot as plt\n",
    "\n",
    "# run installed version of flopy or add local path\n",
    "try:\n",
    "    import flopy\n",
    "except:\n",
    "    fpth = os.path.abspath(os.path.join(\"..\", \"..\"))\n",
    "    sys.path.append(fpth)\n",
    "    import flopy\n",
    "\n",
    "from flopy.utils.postprocessing import (\n",
    "    get_transmissivities,\n",
    "    get_water_table,\n",
    "    get_gradients,\n",
    ")\n",
    "import flopy.utils.binaryfile as bf\n",
    "\n",
    "print(sys.version)\n",
    "print(\"numpy version: {}\".format(np.__version__))\n",
    "print(\"matplotlib version: {}\".format(mpl.__version__))\n",
    "print(\"flopy version: {}\".format(flopy.__version__))"
   ]
  },
  {
   "cell_type": "code",
   "execution_count": null,
   "metadata": {
    "execution": {
     "iopub.execute_input": "2023-05-02T02:54:58.288152Z",
     "iopub.status.busy": "2023-05-02T02:54:58.287679Z",
     "iopub.status.idle": "2023-05-02T02:54:58.293296Z",
     "shell.execute_reply": "2023-05-02T02:54:58.292306Z"
    }
   },
   "outputs": [],
   "source": [
    "mfnam = \"EXAMPLE.nam\"\n",
    "model_ws = \"../../examples/data/mp6/\"\n",
    "heads_file = \"EXAMPLE.HED\"\n",
    "\n",
    "# temporary directory\n",
    "temp_dir = TemporaryDirectory()\n",
    "workspace = temp_dir.name"
   ]
  },
  {
   "cell_type": "markdown",
   "metadata": {},
   "source": [
    "### Load example model and head results"
   ]
  },
  {
   "cell_type": "code",
   "execution_count": null,
   "metadata": {
    "execution": {
     "iopub.execute_input": "2023-05-02T02:54:58.296733Z",
     "iopub.status.busy": "2023-05-02T02:54:58.296425Z",
     "iopub.status.idle": "2023-05-02T02:54:58.390947Z",
     "shell.execute_reply": "2023-05-02T02:54:58.390124Z"
    }
   },
   "outputs": [],
   "source": [
    "m = flopy.modflow.Modflow.load(mfnam, model_ws=model_ws)"
   ]
  },
  {
   "cell_type": "code",
   "execution_count": null,
   "metadata": {
    "execution": {
     "iopub.execute_input": "2023-05-02T02:54:58.394778Z",
     "iopub.status.busy": "2023-05-02T02:54:58.394023Z",
     "iopub.status.idle": "2023-05-02T02:54:58.412988Z",
     "shell.execute_reply": "2023-05-02T02:54:58.412155Z"
    }
   },
   "outputs": [],
   "source": [
    "hdsobj = bf.HeadFile(model_ws + heads_file)\n",
    "hds = hdsobj.get_data(kstpkper=(0, 2))\n",
    "hds.shape"
   ]
  },
  {
   "cell_type": "markdown",
   "metadata": {},
   "source": [
    "### Plot heads in each layer; export the heads and head contours for viewing in a GIS\n",
    "for more information about GIS export, type `help(export_array)`, for example"
   ]
  },
  {
   "cell_type": "code",
   "execution_count": null,
   "metadata": {
    "execution": {
     "iopub.execute_input": "2023-05-02T02:54:58.416820Z",
     "iopub.status.busy": "2023-05-02T02:54:58.416443Z",
     "iopub.status.idle": "2023-05-02T02:55:00.589318Z",
     "shell.execute_reply": "2023-05-02T02:55:00.588451Z"
    }
   },
   "outputs": [],
   "source": [
    "fig, axes = plt.subplots(2, 3, figsize=(11, 8.5))\n",
    "axes = axes.flat\n",
    "grid = m.modelgrid\n",
    "for i, hdslayer in enumerate(hds):\n",
    "    im = axes[i].imshow(hdslayer, vmin=hds.min(), vmax=hds.max())\n",
    "    axes[i].set_title(\"Layer {}\".format(i + 1))\n",
    "    ctr = axes[i].contour(hdslayer, colors=\"k\", linewidths=0.5)\n",
    "\n",
    "    # export head rasters\n",
    "    # (GeoTiff export requires the rasterio package; for ascii grids, just change the extension to *.asc)\n",
    "    flopy.export.utils.export_array(\n",
    "        grid, os.path.join(workspace, \"heads{}.tif\".format(i + 1)), hdslayer\n",
    "    )\n",
    "\n",
    "    # export head contours to a shapefile\n",
    "    flopy.export.utils.export_array_contours(\n",
    "        grid, os.path.join(workspace, \"heads{}.shp\".format(i + 1)), hdslayer\n",
    "    )\n",
    "\n",
    "fig.delaxes(axes[-1])\n",
    "fig.subplots_adjust(right=0.8)\n",
    "cbar_ax = fig.add_axes([0.85, 0.15, 0.03, 0.7])\n",
    "fig.colorbar(im, cax=cbar_ax, label=\"Head\");"
   ]
  },
  {
   "cell_type": "markdown",
   "metadata": {},
   "source": [
    "### Compare rotated arc-ascii and GeoTiff output"
   ]
  },
  {
   "cell_type": "code",
   "execution_count": null,
   "metadata": {
    "execution": {
     "iopub.execute_input": "2023-05-02T02:55:00.593343Z",
     "iopub.status.busy": "2023-05-02T02:55:00.592789Z",
     "iopub.status.idle": "2023-05-02T02:55:01.785659Z",
     "shell.execute_reply": "2023-05-02T02:55:01.784628Z"
    }
   },
   "outputs": [],
   "source": [
    "grid.set_coord_info(angrot=30.0)\n",
    "nodata = 0.0\n",
    "flopy.export.utils.export_array(\n",
    "    grid, os.path.join(workspace, \"heads5_rot.asc\"), hdslayer, nodata=nodata\n",
    ")\n",
    "flopy.export.utils.export_array(\n",
    "    grid, os.path.join(workspace, \"heads5_rot.tif\"), hdslayer, nodata=nodata\n",
    ")\n",
    "\n",
    "results = np.loadtxt(\n",
    "    os.path.join(workspace, \"heads5_rot.asc\".format(i + 1)), skiprows=6\n",
    ")\n",
    "results[results == nodata] = np.nan\n",
    "plt.imshow(results)\n",
    "plt.colorbar();"
   ]
  },
  {
   "cell_type": "code",
   "execution_count": null,
   "metadata": {
    "execution": {
     "iopub.execute_input": "2023-05-02T02:55:01.788729Z",
     "iopub.status.busy": "2023-05-02T02:55:01.788432Z",
     "iopub.status.idle": "2023-05-02T02:55:01.947368Z",
     "shell.execute_reply": "2023-05-02T02:55:01.946607Z"
    }
   },
   "outputs": [],
   "source": [
    "try:\n",
    "    import rasterio\n",
    "except:\n",
    "    rasterio = None\n",
    "    print(\"install rasterio to create GeoTiff output\")\n",
    "if rasterio is not None:\n",
    "    with rasterio.open(os.path.join(workspace, \"heads5_rot.tif\")) as src:\n",
    "        print(src.meta)\n",
    "        plt.imshow(src.read(1))"
   ]
  },
  {
   "cell_type": "markdown",
   "metadata": {},
   "source": [
    "### Get the vertical head gradients between layers"
   ]
  },
  {
   "cell_type": "code",
   "execution_count": null,
   "metadata": {
    "execution": {
     "iopub.execute_input": "2023-05-02T02:55:01.950635Z",
     "iopub.status.busy": "2023-05-02T02:55:01.950272Z",
     "iopub.status.idle": "2023-05-02T02:55:02.842937Z",
     "shell.execute_reply": "2023-05-02T02:55:02.841722Z"
    }
   },
   "outputs": [],
   "source": [
    "grad = get_gradients(hds, m, nodata=-999)\n",
    "\n",
    "fig, axes = plt.subplots(2, 3, figsize=(11, 8.5))\n",
    "axes = axes.flat\n",
    "\n",
    "for i, vertical_gradient in enumerate(grad):\n",
    "    im = axes[i].imshow(vertical_gradient, vmin=grad.min(), vmax=grad.max())\n",
    "    axes[i].set_title(\n",
    "        \"Vertical gradient\\nbetween Layers {} and {}\".format(i + 1, i + 2)\n",
    "    )\n",
    "    ctr = axes[i].contour(\n",
    "        vertical_gradient,\n",
    "        levels=[-0.1, -0.05, 0.0, 0.05, 0.1],\n",
    "        colors=\"k\",\n",
    "        linewidths=0.5,\n",
    "    )\n",
    "    plt.clabel(ctr, fontsize=8, inline=1)\n",
    "\n",
    "fig.delaxes(axes[-2])\n",
    "fig.delaxes(axes[-1])\n",
    "fig.subplots_adjust(right=0.8)\n",
    "cbar_ax = fig.add_axes([0.85, 0.15, 0.03, 0.7])\n",
    "fig.colorbar(im, cax=cbar_ax, label=\"positive downward\");"
   ]
  },
  {
   "cell_type": "markdown",
   "metadata": {},
   "source": [
    "### Get the saturated thickness of a layer\n",
    "`m.modelgrid.saturated_thickness()` returns an nlay, nrow, ncol array of saturated thicknesses."
   ]
  },
  {
   "cell_type": "code",
   "execution_count": null,
   "metadata": {
    "execution": {
     "iopub.execute_input": "2023-05-02T02:55:02.846380Z",
     "iopub.status.busy": "2023-05-02T02:55:02.846024Z",
     "iopub.status.idle": "2023-05-02T02:55:03.140185Z",
     "shell.execute_reply": "2023-05-02T02:55:03.139430Z"
    }
   },
   "outputs": [],
   "source": [
    "st = m.modelgrid.saturated_thickness(hds, mask=-9999.0)\n",
    "\n",
    "plt.imshow(st[0])\n",
    "plt.colorbar(label=\"Saturated thickness\")\n",
    "plt.title(\"Layer 1\");"
   ]
  },
  {
   "cell_type": "markdown",
   "metadata": {},
   "source": [
    "### Get the water table\n",
    "`get_water_table()` returns an nrow, ncol array of the water table elevation.  \n",
    "This method can be useful when HDRY is turned on and the water table is in multiple layers."
   ]
  },
  {
   "cell_type": "code",
   "execution_count": null,
   "metadata": {
    "execution": {
     "iopub.execute_input": "2023-05-02T02:55:03.143193Z",
     "iopub.status.busy": "2023-05-02T02:55:03.142838Z",
     "iopub.status.idle": "2023-05-02T02:55:03.406997Z",
     "shell.execute_reply": "2023-05-02T02:55:03.405591Z"
    }
   },
   "outputs": [],
   "source": [
    "wt = get_water_table(heads=hds, hdry=-9999)\n",
    "\n",
    "plt.imshow(wt)\n",
    "plt.colorbar(label=\"Elevation\");"
   ]
  },
  {
   "cell_type": "markdown",
   "metadata": {},
   "source": [
    "### Get layer transmissivities at arbitrary locations, accounting for the position of the water table\n",
    "* for this method, the heads input is an nlay x nobs array of head results, which could be constructed using the Hydmod package with an observation in each layer at each observation location, for example . \n",
    "* x, y values in real-world coordinates can be used in lieu of row, column, provided a correct coordinate information is supplied to the flopy model object's grid. \n",
    "* open interval tops and bottoms can be supplied at each location for computing transmissivity-weighted average heads \n",
    "* this method can also be used for apportioning boundary fluxes for an inset from a 2-D regional model  \n",
    "* see `**flopy3_get_transmissivities_example.ipynb**` for more details on how this method works"
   ]
  },
  {
   "cell_type": "code",
   "execution_count": null,
   "metadata": {
    "execution": {
     "iopub.execute_input": "2023-05-02T02:55:03.410566Z",
     "iopub.status.busy": "2023-05-02T02:55:03.410235Z",
     "iopub.status.idle": "2023-05-02T02:55:03.418953Z",
     "shell.execute_reply": "2023-05-02T02:55:03.417695Z"
    }
   },
   "outputs": [],
   "source": [
    "r = [20, 5]\n",
    "c = [5, 20]\n",
    "headresults = hds[:, r, c]\n",
    "get_transmissivities(headresults, m, r=r, c=c)"
   ]
  },
  {
   "cell_type": "code",
   "execution_count": null,
   "metadata": {
    "execution": {
     "iopub.execute_input": "2023-05-02T02:55:03.422463Z",
     "iopub.status.busy": "2023-05-02T02:55:03.422135Z",
     "iopub.status.idle": "2023-05-02T02:55:03.431187Z",
     "shell.execute_reply": "2023-05-02T02:55:03.429824Z"
    }
   },
   "outputs": [],
   "source": [
    "r = [20, 5]\n",
    "c = [5, 20]\n",
    "sctop = [340, 320]  # top of open interval at each location\n",
    "scbot = [210, 150]  # top of bottom interval at each location\n",
    "headresults = hds[:, r, c]\n",
    "tr = get_transmissivities(headresults, m, r=r, c=c, sctop=sctop, scbot=scbot)\n",
    "tr"
   ]
  },
  {
   "cell_type": "markdown",
   "metadata": {},
   "source": [
    "#### convert to transmissivity fractions"
   ]
  },
  {
   "cell_type": "code",
   "execution_count": null,
   "metadata": {
    "execution": {
     "iopub.execute_input": "2023-05-02T02:55:03.434995Z",
     "iopub.status.busy": "2023-05-02T02:55:03.434186Z",
     "iopub.status.idle": "2023-05-02T02:55:03.441757Z",
     "shell.execute_reply": "2023-05-02T02:55:03.440372Z"
    }
   },
   "outputs": [],
   "source": [
    "trfrac = tr / tr.sum(axis=0)\n",
    "trfrac"
   ]
  },
  {
   "cell_type": "markdown",
   "metadata": {},
   "source": [
    "#### Layer 3 contributes almost no transmissivity because of its K-value"
   ]
  },
  {
   "cell_type": "code",
   "execution_count": null,
   "metadata": {
    "execution": {
     "iopub.execute_input": "2023-05-02T02:55:03.445453Z",
     "iopub.status.busy": "2023-05-02T02:55:03.444961Z",
     "iopub.status.idle": "2023-05-02T02:55:03.453033Z",
     "shell.execute_reply": "2023-05-02T02:55:03.451788Z"
    }
   },
   "outputs": [],
   "source": [
    "m.lpf.hk.array[:, r, c]"
   ]
  },
  {
   "cell_type": "code",
   "execution_count": null,
   "metadata": {
    "execution": {
     "iopub.execute_input": "2023-05-02T02:55:03.456850Z",
     "iopub.status.busy": "2023-05-02T02:55:03.455943Z",
     "iopub.status.idle": "2023-05-02T02:55:03.463791Z",
     "shell.execute_reply": "2023-05-02T02:55:03.462491Z"
    }
   },
   "outputs": [],
   "source": [
    "m.modelgrid.cell_thickness[:, r, c]"
   ]
  },
  {
   "cell_type": "code",
   "execution_count": null,
   "metadata": {
    "execution": {
     "iopub.execute_input": "2023-05-02T02:55:03.467062Z",
     "iopub.status.busy": "2023-05-02T02:55:03.466741Z",
     "iopub.status.idle": "2023-05-02T02:55:03.480133Z",
     "shell.execute_reply": "2023-05-02T02:55:03.478790Z"
    }
   },
   "outputs": [],
   "source": [
    "try:\n",
    "    # ignore PermissionError on Windows\n",
    "    temp_dir.cleanup()\n",
    "except:\n",
    "    pass"
   ]
  }
 ],
 "metadata": {
  "anaconda-cloud": {},
  "kernelspec": {
   "display_name": "Python 3 (ipykernel)",
   "language": "python",
   "name": "python3"
  },
  "language_info": {
   "codemirror_mode": {
    "name": "ipython",
    "version": 3
   },
   "file_extension": ".py",
   "mimetype": "text/x-python",
   "name": "python",
   "nbconvert_exporter": "python",
   "pygments_lexer": "ipython3",
   "version": "3.11.0"
  }
 },
 "nbformat": 4,
 "nbformat_minor": 4
}
