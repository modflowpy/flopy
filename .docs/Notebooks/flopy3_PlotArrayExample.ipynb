{
 "cells": [
  {
   "attachments": {},
   "cell_type": "markdown",
   "metadata": {},
   "source": [
    "# Plotting Model Arrays and Results\n",
    "\n",
    "This notebook demonstrates the simple array and results plotting capabilities of flopy.  It demonstrates these capabilities by loading and running an existing model, and then showing how the `.plot()` method can be used to make simple plots of the model data and model results."
   ]
  },
  {
   "cell_type": "code",
   "execution_count": null,
   "metadata": {
    "execution": {
     "iopub.execute_input": "2023-02-22T02:42:37.896948Z",
     "iopub.status.busy": "2023-02-22T02:42:37.896456Z",
     "iopub.status.idle": "2023-02-22T02:42:38.683156Z",
     "shell.execute_reply": "2023-02-22T02:42:38.682137Z"
    }
   },
   "outputs": [],
   "source": [
    "from IPython.display import Image\n",
    "import sys\n",
    "import os\n",
    "from tempfile import TemporaryDirectory\n",
    "\n",
    "import numpy as np\n",
    "import matplotlib as mpl\n",
    "import matplotlib.pyplot as plt\n",
    "\n",
    "# run installed version of flopy or add local path\n",
    "try:\n",
    "    import flopy\n",
    "except:\n",
    "    fpth = os.path.abspath(os.path.join(\"..\", \"..\"))\n",
    "    sys.path.append(fpth)\n",
    "    import flopy\n",
    "\n",
    "print(sys.version)\n",
    "print(\"numpy version: {}\".format(np.__version__))\n",
    "print(\"matplotlib version: {}\".format(mpl.__version__))\n",
    "print(\"flopy version: {}\".format(flopy.__version__))"
   ]
  },
  {
   "cell_type": "code",
   "execution_count": null,
   "metadata": {
    "execution": {
     "iopub.execute_input": "2023-02-22T02:42:38.726507Z",
     "iopub.status.busy": "2023-02-22T02:42:38.725802Z",
     "iopub.status.idle": "2023-02-22T02:42:38.731660Z",
     "shell.execute_reply": "2023-02-22T02:42:38.730810Z"
    }
   },
   "outputs": [],
   "source": [
    "# Set name of MODFLOW exe\n",
    "#  assumes executable is in users path statement\n",
    "version = \"mf2005\"\n",
    "exe_name = \"mf2005\"\n",
    "\n",
    "# Set the paths\n",
    "loadpth = os.path.join(\"..\", \"..\", \"examples\", \"data\", \"secp\")\n",
    "\n",
    "# temporary directory\n",
    "temp_dir = TemporaryDirectory()\n",
    "modelpth = temp_dir.name\n",
    "\n",
    "# make sure modelpth directory exists\n",
    "if not os.path.isdir(modelpth):\n",
    "    os.makedirs(modelpth, exist_ok=True)\n",
    "\n",
    "files = [\"secp.hds\"]"
   ]
  },
  {
   "cell_type": "markdown",
   "metadata": {},
   "source": [
    "### Load and Run an Existing Model\n",
    "A model called the \"Southeast Coastal Plain Model\" is located in the loadpth folder.  In the following code block, we load that model, then change into a new workspace (modelpth) where we recreate and run the model.  For this to work properly, the MODFLOW-2005 executable (mf2005) must be in the path.  We verify that it worked correctly by checking for the presence of secp.hds."
   ]
  },
  {
   "cell_type": "code",
   "execution_count": null,
   "metadata": {
    "execution": {
     "iopub.execute_input": "2023-02-22T02:42:38.735171Z",
     "iopub.status.busy": "2023-02-22T02:42:38.734638Z",
     "iopub.status.idle": "2023-02-22T02:43:19.243155Z",
     "shell.execute_reply": "2023-02-22T02:43:19.241569Z"
    }
   },
   "outputs": [],
   "source": [
    "ml = flopy.modflow.Modflow.load(\n",
    "    \"secp.nam\", model_ws=loadpth, exe_name=exe_name, version=version\n",
    ")\n",
    "ml.change_model_ws(new_pth=modelpth)\n",
    "ml.write_input()\n",
    "\n",
    "success, buff = ml.run_model(silent=True)\n",
    "if not success:\n",
    "    print(\"Something bad happened.\")\n",
    "\n",
    "# confirm that the model files have been created\n",
    "for f in files:\n",
    "    if os.path.isfile(os.path.join(modelpth, f)):\n",
    "        msg = \"Output file located: {}\".format(f)\n",
    "        print(msg)\n",
    "    else:\n",
    "        errmsg = \"Error. Output file cannot be found: {}\".format(f)\n",
    "        print(errmsg)"
   ]
  },
  {
   "cell_type": "markdown",
   "metadata": {},
   "source": [
    "### Plotting Model Data\n",
    "Once a model object is created MODFLOW package data can be plotted using the `.plot()` method.\n",
    "\n",
    "Two-dimensional data (for example the model top) can be plotted by calling the `.plot()` method for each data array."
   ]
  },
  {
   "cell_type": "code",
   "execution_count": null,
   "metadata": {
    "execution": {
     "iopub.execute_input": "2023-02-22T02:43:19.248948Z",
     "iopub.status.busy": "2023-02-22T02:43:19.248354Z",
     "iopub.status.idle": "2023-02-22T02:43:19.491058Z",
     "shell.execute_reply": "2023-02-22T02:43:19.490022Z"
    }
   },
   "outputs": [],
   "source": [
    "ml.modelgrid.plot();"
   ]
  },
  {
   "cell_type": "markdown",
   "metadata": {},
   "source": [
    "As you can see, the `.plot()` methods returns a `matplotlib.pyplot` axis object, which can be used to add additional data to the figure. Below we will add black contours to the axis returned in the first line."
   ]
  },
  {
   "cell_type": "code",
   "execution_count": null,
   "metadata": {
    "execution": {
     "iopub.execute_input": "2023-02-22T02:43:19.495771Z",
     "iopub.status.busy": "2023-02-22T02:43:19.495350Z",
     "iopub.status.idle": "2023-02-22T02:43:19.974674Z",
     "shell.execute_reply": "2023-02-22T02:43:19.973964Z"
    }
   },
   "outputs": [],
   "source": [
    "ax = ml.dis.top.plot()\n",
    "ml.dis.top.plot(axes=ax, contour=True, pcolor=False);"
   ]
  },
  {
   "cell_type": "markdown",
   "metadata": {},
   "source": [
    "You will notice that we passed several keywords in the second line. There are a number of keywords that can be passed to the `.plot()` method to control plotting. Available keywords are:\n",
    "\n",
    "1. `axes` - if you already have plot axes you can pass them to the method\n",
    "2. `pcolor` - turns pcolor on if `pcolor=True` or off if `pcolor=False`, default is `pcolor=True`\n",
    "3. `colorbar` - turns on colorbar if `colorbar=True` or off if `colorbar=False`, default is `colorbar=False` and is only used if `pcolor=True`\n",
    "4. `inactive` - turns on a black inactive cell overlay if `inactive=True` or turns off the inactive cell overlay if `inactive=False`, default is `inactive=True`\n",
    "5. `contour` - turns on contours if `contour=True` or off if `contour=False`, default is `contour=False`\n",
    "6. `clabel` - turns on contour labels if `clabel=True` or off if `clabel=False`, default is `clabel=False` and is only used if `contour=True`\n",
    "7. `grid` - turns on model grid if `grid=True` or off if `grid=False`, default is `grid=False`\n",
    "8. `masked_values` - list with unique values to be excluded from the plot (for example, HNOFLO)\n",
    "9. `mflay` - for three-dimensional data (for example layer bottoms or simulated heads) `mflay` can be used to plot data for a single layer - note `mflay` is zero-based\n",
    "10. `kper` - for transient two-dimensional data (for example recharge package data) `kper` can be used to plot data for a single stress period - note `kper` is zero-based\n",
    "11. `filename_base` - a base file name that will be used to automatically generate file names for two-dimensional, three-dimensional, and transient two-dimensional data, default is `filename_base=None`\n",
    "12. `file_extension` - valid `matplotlib` file extension, default is `png` and is only used if `filename_base` is specified\n",
    "13. `matplotlib.pyplot` keywords are also accepted \n",
    "\n",
    "The previous code block is recreated in a single line using keywords in the code block below."
   ]
  },
  {
   "cell_type": "code",
   "execution_count": null,
   "metadata": {
    "execution": {
     "iopub.execute_input": "2023-02-22T02:43:19.978343Z",
     "iopub.status.busy": "2023-02-22T02:43:19.977837Z",
     "iopub.status.idle": "2023-02-22T02:43:20.318598Z",
     "shell.execute_reply": "2023-02-22T02:43:20.317670Z"
    }
   },
   "outputs": [],
   "source": [
    "ml.dis.top.plot(contour=True);"
   ]
  },
  {
   "cell_type": "markdown",
   "metadata": {},
   "source": [
    "We can save the same image to a file."
   ]
  },
  {
   "cell_type": "code",
   "execution_count": null,
   "metadata": {
    "execution": {
     "iopub.execute_input": "2023-02-22T02:43:20.323296Z",
     "iopub.status.busy": "2023-02-22T02:43:20.322824Z",
     "iopub.status.idle": "2023-02-22T02:43:20.651766Z",
     "shell.execute_reply": "2023-02-22T02:43:20.650978Z"
    }
   },
   "outputs": [],
   "source": [
    "fname = os.path.join(modelpth, \"secp\")\n",
    "ml.dis.top.plot(contour=True, filename_base=fname)"
   ]
  },
  {
   "cell_type": "markdown",
   "metadata": {},
   "source": [
    "The image file that was just created is shown below"
   ]
  },
  {
   "cell_type": "code",
   "execution_count": null,
   "metadata": {
    "execution": {
     "iopub.execute_input": "2023-02-22T02:43:20.655815Z",
     "iopub.status.busy": "2023-02-22T02:43:20.655495Z",
     "iopub.status.idle": "2023-02-22T02:43:20.662807Z",
     "shell.execute_reply": "2023-02-22T02:43:20.662097Z"
    }
   },
   "outputs": [],
   "source": [
    "fname = os.path.join(modelpth, \"secp_model_top.png\")\n",
    "Image(filename=fname)"
   ]
  },
  {
   "cell_type": "markdown",
   "metadata": {},
   "source": [
    "### Plotting three-dimensional data\n",
    "\n",
    "Three-dimensional data can be plotted using the `.plot()` method. User's do not actually need to know that the data are two- or three-dimensional. The `.plot()` method is attached to the two- and three-dimensional data objects so it knows how to process the model data. Examples of three-dimensional data are horizontal hydraulic conductivity (`hk`), layer bottoms (`botm`), specific yield (`sy`), *etc.*\n",
    "\n",
    "Here we plot the horizontal hydraulic conductivity for each layer. We are also masking areas where the horizontal hydraulic conductivity is zero and adding a color bar."
   ]
  },
  {
   "cell_type": "code",
   "execution_count": null,
   "metadata": {
    "execution": {
     "iopub.execute_input": "2023-02-22T02:43:20.666258Z",
     "iopub.status.busy": "2023-02-22T02:43:20.665920Z",
     "iopub.status.idle": "2023-02-22T02:43:26.838145Z",
     "shell.execute_reply": "2023-02-22T02:43:26.837105Z"
    }
   },
   "outputs": [],
   "source": [
    "ml.lpf.hk.plot(masked_values=[0.0], colorbar=True);"
   ]
  },
  {
   "cell_type": "markdown",
   "metadata": {},
   "source": [
    "In addition to the plots of horizontal hydraulic conductivity you can see that the `.plot()` method returned a list containing 16 axis objects (one for each layer).\n",
    "\n",
    "#### Plotting data for a single layer\n",
    "\n",
    "If the `mflay=` keyword is provided to the `plot.()` method then data for an individual layer is plotted. Remember `mflay` is zero-based.\n",
    "\n",
    "Here we plot the horizontal hydraulic conductivity for layer 11 (`mflay=10`)."
   ]
  },
  {
   "cell_type": "code",
   "execution_count": null,
   "metadata": {
    "execution": {
     "iopub.execute_input": "2023-02-22T02:43:26.842010Z",
     "iopub.status.busy": "2023-02-22T02:43:26.841615Z",
     "iopub.status.idle": "2023-02-22T02:43:27.242593Z",
     "shell.execute_reply": "2023-02-22T02:43:27.241099Z"
    }
   },
   "outputs": [],
   "source": [
    "ml.lpf.hk.plot(mflay=10, masked_values=[0.0], colorbar=True);"
   ]
  },
  {
   "cell_type": "markdown",
   "metadata": {},
   "source": [
    "### Plotting transient two-dimensional data\n",
    "\n",
    "Transient two-dimensional data can be plotted using the `.plot()` method. User's do not actually need to know that the data are two- or three-dimensional. The `.plot()` method is attached to the two- and three-dimensional, and transient two-dimensional data objects so it knows how to process the model data. Examples of transient two-dimensional data are recharge rates (`rch.rech`) and evapotranspiration rates (`evt.evtr`).\n",
    "\n",
    "Here we plot recharge rates for all six stress periods in the model. We are also masking areas where the recharge rate is zero and adding a color bar."
   ]
  },
  {
   "cell_type": "code",
   "execution_count": null,
   "metadata": {
    "execution": {
     "iopub.execute_input": "2023-02-22T02:43:27.246887Z",
     "iopub.status.busy": "2023-02-22T02:43:27.246355Z",
     "iopub.status.idle": "2023-02-22T02:43:29.563036Z",
     "shell.execute_reply": "2023-02-22T02:43:29.562320Z"
    }
   },
   "outputs": [],
   "source": [
    "ml.rch.rech.plot(kper=\"all\", masked_values=[0.0], colorbar=True);"
   ]
  },
  {
   "cell_type": "markdown",
   "metadata": {},
   "source": [
    "In addition to the plots of recharge rates you can see that the `.plot()` method returned a list containing 6 axis objects (one for each stress period).\n",
    "\n",
    "#### Plotting data for a single stress period\n",
    "\n",
    "If the `kper=` keyword is provided to the `plot.()` method then data for an individual stress period is plotted. Remember `kper` is zero-based.\n",
    "\n",
    "Here we plot the recharge rate for stress period 6 (`kper=5`)."
   ]
  },
  {
   "cell_type": "code",
   "execution_count": null,
   "metadata": {
    "execution": {
     "iopub.execute_input": "2023-02-22T02:43:29.566422Z",
     "iopub.status.busy": "2023-02-22T02:43:29.566108Z",
     "iopub.status.idle": "2023-02-22T02:43:30.250523Z",
     "shell.execute_reply": "2023-02-22T02:43:30.249536Z"
    }
   },
   "outputs": [],
   "source": [
    "ml.rch.rech.plot(kper=5, masked_values=[0.0], colorbar=True);"
   ]
  },
  {
   "cell_type": "markdown",
   "metadata": {},
   "source": [
    "We can also save the image to a file by provided the `filename_base` keyword with an appropriate base file name."
   ]
  },
  {
   "cell_type": "code",
   "execution_count": null,
   "metadata": {
    "execution": {
     "iopub.execute_input": "2023-02-22T02:43:30.255427Z",
     "iopub.status.busy": "2023-02-22T02:43:30.255098Z",
     "iopub.status.idle": "2023-02-22T02:43:30.481641Z",
     "shell.execute_reply": "2023-02-22T02:43:30.480603Z"
    }
   },
   "outputs": [],
   "source": [
    "fr = os.path.join(modelpth, \"secp\")\n",
    "ml.rch.rech.plot(kper=5, masked_values=[0.0], colorbar=True, filename_base=fr)"
   ]
  },
  {
   "cell_type": "markdown",
   "metadata": {},
   "source": [
    "If the `kper` keyword is not provided images are saved for each stress period in the model.\n",
    "\n",
    "The image file that was just created of recharge rates for stress period 6 is is shown below."
   ]
  },
  {
   "cell_type": "code",
   "execution_count": null,
   "metadata": {
    "execution": {
     "iopub.execute_input": "2023-02-22T02:43:30.486585Z",
     "iopub.status.busy": "2023-02-22T02:43:30.486127Z",
     "iopub.status.idle": "2023-02-22T02:43:30.491896Z",
     "shell.execute_reply": "2023-02-22T02:43:30.491205Z"
    }
   },
   "outputs": [],
   "source": [
    "fname = os.path.join(modelpth, \"secp_RECH_00006.png\")\n",
    "Image(filename=fname)"
   ]
  },
  {
   "cell_type": "markdown",
   "metadata": {},
   "source": [
    "### Plotting simulated model results\n",
    "\n",
    "Simulated model results can be plotted using the `.plot()` method.\n",
    "\n",
    "First we create an instance of the `HeadFile` class with the simulated head file (secp.hds) and extract the simulation times available in the binary head file using the `.get_times()` method. Here we plot last simulated heads in the binary heads file (`totim=times[-1]`). We are also masking cells having the `HDRY` (-9999.0)  value and adding a color bar."
   ]
  },
  {
   "cell_type": "code",
   "execution_count": null,
   "metadata": {
    "execution": {
     "iopub.execute_input": "2023-02-22T02:43:30.496475Z",
     "iopub.status.busy": "2023-02-22T02:43:30.496104Z",
     "iopub.status.idle": "2023-02-22T02:43:36.912296Z",
     "shell.execute_reply": "2023-02-22T02:43:36.911459Z"
    }
   },
   "outputs": [],
   "source": [
    "print(files)\n",
    "fname = os.path.join(modelpth, files[0])\n",
    "hdobj = flopy.utils.HeadFile(fname, model=ml)\n",
    "times = hdobj.get_times()\n",
    "head = hdobj.plot(totim=times[-1], masked_values=[-9999.0], colorbar=True)"
   ]
  },
  {
   "cell_type": "markdown",
   "metadata": {},
   "source": [
    "#### Plotting results for a single layer\n",
    "\n",
    "If the `mflay=` keyword is provided to the `plot.()` method then results for an individual layer can be plotted. Remember `mflay` is zero-based.\n",
    "\n",
    "Here we plot the results for layer 2 (`mflay=1`) for stress period 2 (`totim=times[1]`). We also add black contour lines."
   ]
  },
  {
   "cell_type": "code",
   "execution_count": null,
   "metadata": {
    "execution": {
     "iopub.execute_input": "2023-02-22T02:43:36.916727Z",
     "iopub.status.busy": "2023-02-22T02:43:36.916098Z",
     "iopub.status.idle": "2023-02-22T02:43:37.360559Z",
     "shell.execute_reply": "2023-02-22T02:43:37.359808Z"
    }
   },
   "outputs": [],
   "source": [
    "head = hdobj.plot(\n",
    "    totim=times[1],\n",
    "    mflay=1,\n",
    "    masked_values=[-9999.0],\n",
    "    colorbar=True,\n",
    "    contour=True,\n",
    "    colors=\"black\",\n",
    ")"
   ]
  },
  {
   "cell_type": "markdown",
   "metadata": {},
   "source": [
    "We can also save the plots of the head results for every layer (or a single layer) to a file by provided the `filename_base` keyword with an appropriate base file name."
   ]
  },
  {
   "cell_type": "code",
   "execution_count": null,
   "metadata": {
    "execution": {
     "iopub.execute_input": "2023-02-22T02:43:37.364441Z",
     "iopub.status.busy": "2023-02-22T02:43:37.364035Z",
     "iopub.status.idle": "2023-02-22T02:43:41.138076Z",
     "shell.execute_reply": "2023-02-22T02:43:41.137162Z"
    }
   },
   "outputs": [],
   "source": [
    "fh = os.path.join(modelpth, \"secp_head\")\n",
    "head = hdobj.plot(\n",
    "    totim=times[-1],\n",
    "    masked_values=[-9999.0],\n",
    "    colorbar=True,\n",
    "    contour=True,\n",
    "    colors=\"black\",\n",
    "    filename_base=fh,\n",
    ")"
   ]
  },
  {
   "cell_type": "markdown",
   "metadata": {},
   "source": [
    "The image file that was just created of the simulated head for layer 2 for stress period 6 is is shown below."
   ]
  },
  {
   "cell_type": "code",
   "execution_count": null,
   "metadata": {
    "execution": {
     "iopub.execute_input": "2023-02-22T02:43:41.142174Z",
     "iopub.status.busy": "2023-02-22T02:43:41.141789Z",
     "iopub.status.idle": "2023-02-22T02:43:41.149861Z",
     "shell.execute_reply": "2023-02-22T02:43:41.148632Z"
    }
   },
   "outputs": [],
   "source": [
    "fname = os.path.join(modelpth, \"secp_head_Layer2.png\")\n",
    "Image(filename=fname)"
   ]
  },
  {
   "cell_type": "markdown",
   "metadata": {},
   "source": [
    "### Passing other `matplotlib.pyplot` keywords to `.plot()` methods\n",
    "\n",
    "We can also pass `matplotlib.pyplot` keywords to `.plot()` methods attached to the model input data arrays. For example you can pass a `matplotlib` colormap (`cmap=`) keyword to the `.plot()` method to plot contours of simulated heads over a color flood of hk. We can also use the `norm=LogNorm()` keyword to use a log color scale when plotting hydraulic conductivity.\n",
    "\n",
    "Available `matplotlib` colormaps can be found at https://matplotlib.org/stable/tutorials/colors/colormaps.html"
   ]
  },
  {
   "cell_type": "code",
   "execution_count": null,
   "metadata": {
    "execution": {
     "iopub.execute_input": "2023-02-22T02:43:41.154094Z",
     "iopub.status.busy": "2023-02-22T02:43:41.153517Z",
     "iopub.status.idle": "2023-02-22T02:43:42.027971Z",
     "shell.execute_reply": "2023-02-22T02:43:42.026966Z"
    }
   },
   "outputs": [],
   "source": [
    "from matplotlib.colors import LogNorm\n",
    "\n",
    "ax = ml.lpf.hk.plot(mflay=2, cmap=\"GnBu\", norm=LogNorm(), colorbar=True)\n",
    "t = hdobj.plot(\n",
    "    axes=ax,\n",
    "    mflay=2,\n",
    "    masked_values=[-9999.0],\n",
    "    pcolor=False,\n",
    "    contour=True,\n",
    "    colors=\"black\",\n",
    ")"
   ]
  },
  {
   "cell_type": "markdown",
   "metadata": {},
   "source": [
    "### Plotting data for a package or a model\n",
    "\n",
    "The input data for a model or an individual package can also be plotted using the `.plot()` method. The `.plot()` methods attached to a model or an individual package are meant to provide a method to quickly evaluate model or package input. As a result, there is limited ability to customize the plots. Example of using the `.plot()` method with a model or and individual packages is demonstrated below.\n",
    "\n",
    "### Plot all data for a package\n",
    "\n",
    "All input data for a package can be plotted using the `.plot()` method. Below all of the data for the lpf package is plotted."
   ]
  },
  {
   "cell_type": "code",
   "execution_count": null,
   "metadata": {
    "execution": {
     "iopub.execute_input": "2023-02-22T02:43:42.031972Z",
     "iopub.status.busy": "2023-02-22T02:43:42.031534Z",
     "iopub.status.idle": "2023-02-22T02:43:48.617939Z",
     "shell.execute_reply": "2023-02-22T02:43:48.617364Z"
    }
   },
   "outputs": [],
   "source": [
    "ml.dis.plot();"
   ]
  },
  {
   "cell_type": "markdown",
   "metadata": {},
   "source": [
    "### Plot package input data for a specified layer\n",
    "\n",
    "Package input data for a specified layer can be plotted by passing the `mflay` keyword to the package `.plot()` method. Below lpf package input data for layer 12 (`mflay=11`) is plotted."
   ]
  },
  {
   "cell_type": "code",
   "execution_count": null,
   "metadata": {
    "execution": {
     "iopub.execute_input": "2023-02-22T02:43:48.621707Z",
     "iopub.status.busy": "2023-02-22T02:43:48.621331Z",
     "iopub.status.idle": "2023-02-22T02:43:51.362040Z",
     "shell.execute_reply": "2023-02-22T02:43:51.361179Z"
    }
   },
   "outputs": [],
   "source": [
    "ml.lpf.plot(mflay=11);"
   ]
  },
  {
   "cell_type": "markdown",
   "metadata": {},
   "source": [
    "### Plot all input data for a model\n",
    "\n",
    "All of the input data for a model can be plotted using the `.plot()` method."
   ]
  },
  {
   "cell_type": "code",
   "execution_count": null,
   "metadata": {
    "execution": {
     "iopub.execute_input": "2023-02-22T02:43:51.365859Z",
     "iopub.status.busy": "2023-02-22T02:43:51.365510Z",
     "iopub.status.idle": "2023-02-22T02:45:06.634574Z",
     "shell.execute_reply": "2023-02-22T02:45:06.633813Z"
    }
   },
   "outputs": [],
   "source": [
    "ap = ml.plot()"
   ]
  },
  {
   "cell_type": "markdown",
   "metadata": {},
   "source": [
    "### Plot model input data for a specified layer\n",
    "\n",
    "Model input data for a specified layer can be plotted by passing the `mflay` keyword to the package `.plot()` method.\n",
    "Below model input data for layer 12 (`mflay=11`) is plotted."
   ]
  },
  {
   "cell_type": "code",
   "execution_count": null,
   "metadata": {
    "execution": {
     "iopub.execute_input": "2023-02-22T02:45:06.638012Z",
     "iopub.status.busy": "2023-02-22T02:45:06.637634Z",
     "iopub.status.idle": "2023-02-22T02:45:12.359617Z",
     "shell.execute_reply": "2023-02-22T02:45:12.359017Z"
    }
   },
   "outputs": [],
   "source": [
    "ap = ml.plot(mflay=11);"
   ]
  },
  {
   "cell_type": "markdown",
   "metadata": {},
   "source": [
    "## Summary\n",
    "\n",
    "This notebook demonstrates some of the simple plotting functionality available with flopy.  Although not described here, the plotting functionality tries to be general by passing keyword arguments passed to the `plot()` and `plot_data()` methods down into the `matplotlib.pyplot` routines that do the actual plotting.  For those looking to customize these plots, it may be necessary to search for the available keywords.  The `plot()` method return the `matplotlib.pyplot` axis objects that are created (or passed). These axes objects can be used to plot additional data (except when plots are saved as image files).\n",
    "\n",
    "Hope this gets you started!"
   ]
  },
  {
   "cell_type": "code",
   "execution_count": null,
   "metadata": {
    "execution": {
     "iopub.execute_input": "2023-02-22T02:45:12.363220Z",
     "iopub.status.busy": "2023-02-22T02:45:12.362891Z",
     "iopub.status.idle": "2023-02-22T02:45:12.370856Z",
     "shell.execute_reply": "2023-02-22T02:45:12.369988Z"
    }
   },
   "outputs": [],
   "source": [
    "try:\n",
    "    # ignore PermissionError on Windows\n",
    "    temp_dir.cleanup()\n",
    "except:\n",
    "    pass"
   ]
  }
 ],
 "metadata": {
  "kernelspec": {
   "display_name": "Python 3 (ipykernel)",
   "language": "python",
   "name": "python3"
  },
  "language_info": {
   "codemirror_mode": {
    "name": "ipython",
    "version": 3
   },
   "file_extension": ".py",
   "mimetype": "text/x-python",
   "name": "python",
   "nbconvert_exporter": "python",
   "pygments_lexer": "ipython3",
   "version": "3.10.6"
  }
 },
 "nbformat": 4,
 "nbformat_minor": 4
}
