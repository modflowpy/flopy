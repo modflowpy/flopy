{
 "cells": [
  {
   "attachments": {},
   "cell_type": "markdown",
   "metadata": {},
   "source": [
    "# Henry Saltwater Intrusion Problem\n",
    "\n",
    "In this notebook, we will use Flopy to create, run, and post process the Henry saltwater intrusion problem using SEAWAT Version 4."
   ]
  },
  {
   "cell_type": "code",
   "execution_count": null,
   "metadata": {
    "execution": {
     "iopub.execute_input": "2023-05-02T02:58:29.413344Z",
     "iopub.status.busy": "2023-05-02T02:58:29.412940Z",
     "iopub.status.idle": "2023-05-02T02:58:31.271575Z",
     "shell.execute_reply": "2023-05-02T02:58:31.270809Z"
    }
   },
   "outputs": [],
   "source": [
    "import os\n",
    "import sys\n",
    "from tempfile import TemporaryDirectory\n",
    "\n",
    "import numpy as np\n",
    "\n",
    "# run installed version of flopy or add local path\n",
    "try:\n",
    "    import flopy\n",
    "except:\n",
    "    fpth = os.path.abspath(os.path.join(\"..\", \"..\"))\n",
    "    sys.path.append(fpth)\n",
    "    import flopy\n",
    "\n",
    "print(sys.version)\n",
    "print(\"numpy version: {}\".format(np.__version__))\n",
    "print(\"flopy version: {}\".format(flopy.__version__))"
   ]
  },
  {
   "cell_type": "code",
   "execution_count": null,
   "metadata": {
    "execution": {
     "iopub.execute_input": "2023-05-02T02:58:31.310727Z",
     "iopub.status.busy": "2023-05-02T02:58:31.310400Z",
     "iopub.status.idle": "2023-05-02T02:58:31.319268Z",
     "shell.execute_reply": "2023-05-02T02:58:31.318640Z"
    },
    "pycharm": {
     "name": "#%%\n"
    }
   },
   "outputs": [],
   "source": [
    "# temporary directory\n",
    "temp_dir = TemporaryDirectory()\n",
    "workspace = temp_dir.name"
   ]
  },
  {
   "cell_type": "code",
   "execution_count": null,
   "metadata": {
    "execution": {
     "iopub.execute_input": "2023-05-02T02:58:31.321687Z",
     "iopub.status.busy": "2023-05-02T02:58:31.321435Z",
     "iopub.status.idle": "2023-05-02T02:58:31.326439Z",
     "shell.execute_reply": "2023-05-02T02:58:31.325861Z"
    }
   },
   "outputs": [],
   "source": [
    "# Input variables for the Henry Problem\n",
    "Lx = 2.0\n",
    "Lz = 1.0\n",
    "nlay = 50\n",
    "nrow = 1\n",
    "ncol = 100\n",
    "delr = Lx / ncol\n",
    "delc = 1.0\n",
    "delv = Lz / nlay\n",
    "henry_top = 1.0\n",
    "henry_botm = np.linspace(henry_top - delv, 0.0, nlay)\n",
    "qinflow = 5.702  # m3/day\n",
    "dmcoef = 0.57024  # m2/day  Could also try 1.62925 as another case of the Henry problem\n",
    "hk = 864.0  # m/day"
   ]
  },
  {
   "cell_type": "code",
   "execution_count": null,
   "metadata": {
    "execution": {
     "iopub.execute_input": "2023-05-02T02:58:31.329007Z",
     "iopub.status.busy": "2023-05-02T02:58:31.328475Z",
     "iopub.status.idle": "2023-05-02T02:58:31.355619Z",
     "shell.execute_reply": "2023-05-02T02:58:31.355010Z"
    }
   },
   "outputs": [],
   "source": [
    "# Create the basic MODFLOW model structure\n",
    "modelname = \"henry\"\n",
    "swt = flopy.seawat.Seawat(modelname, exe_name=\"swtv4\", model_ws=workspace)\n",
    "print(swt.namefile)\n",
    "\n",
    "# save cell fluxes to unit 53\n",
    "ipakcb = 53\n",
    "\n",
    "# Add DIS package to the MODFLOW model\n",
    "dis = flopy.modflow.ModflowDis(\n",
    "    swt,\n",
    "    nlay,\n",
    "    nrow,\n",
    "    ncol,\n",
    "    nper=1,\n",
    "    delr=delr,\n",
    "    delc=delc,\n",
    "    laycbd=0,\n",
    "    top=henry_top,\n",
    "    botm=henry_botm,\n",
    "    perlen=1.5,\n",
    "    nstp=15,\n",
    ")\n",
    "\n",
    "# Variables for the BAS package\n",
    "ibound = np.ones((nlay, nrow, ncol), dtype=np.int32)\n",
    "ibound[:, :, -1] = -1\n",
    "bas = flopy.modflow.ModflowBas(swt, ibound, 0)\n",
    "\n",
    "# Add LPF package to the MODFLOW model\n",
    "lpf = flopy.modflow.ModflowLpf(swt, hk=hk, vka=hk, ipakcb=ipakcb)\n",
    "\n",
    "# Add PCG Package to the MODFLOW model\n",
    "pcg = flopy.modflow.ModflowPcg(swt, hclose=1.0e-8)\n",
    "\n",
    "# Add OC package to the MODFLOW model\n",
    "oc = flopy.modflow.ModflowOc(\n",
    "    swt,\n",
    "    stress_period_data={(0, 0): [\"save head\", \"save budget\"]},\n",
    "    compact=True,\n",
    ")\n",
    "\n",
    "# Create WEL and SSM data\n",
    "itype = flopy.mt3d.Mt3dSsm.itype_dict()\n",
    "wel_data = {}\n",
    "ssm_data = {}\n",
    "wel_sp1 = []\n",
    "ssm_sp1 = []\n",
    "for k in range(nlay):\n",
    "    wel_sp1.append([k, 0, 0, qinflow / nlay])\n",
    "    ssm_sp1.append([k, 0, 0, 0.0, itype[\"WEL\"]])\n",
    "    ssm_sp1.append([k, 0, ncol - 1, 35.0, itype[\"BAS6\"]])\n",
    "wel_data[0] = wel_sp1\n",
    "ssm_data[0] = ssm_sp1\n",
    "wel = flopy.modflow.ModflowWel(swt, stress_period_data=wel_data, ipakcb=ipakcb)"
   ]
  },
  {
   "cell_type": "code",
   "execution_count": null,
   "metadata": {
    "execution": {
     "iopub.execute_input": "2023-05-02T02:58:31.358011Z",
     "iopub.status.busy": "2023-05-02T02:58:31.357766Z",
     "iopub.status.idle": "2023-05-02T02:58:31.373601Z",
     "shell.execute_reply": "2023-05-02T02:58:31.372972Z"
    }
   },
   "outputs": [],
   "source": [
    "# Create the basic MT3DMS model structure\n",
    "# mt = flopy.mt3d.Mt3dms(modelname, 'nam_mt3dms', mf, model_ws=workspace)\n",
    "btn = flopy.mt3d.Mt3dBtn(\n",
    "    swt,\n",
    "    nprs=-5,\n",
    "    prsity=0.35,\n",
    "    sconc=35.0,\n",
    "    ifmtcn=0,\n",
    "    chkmas=False,\n",
    "    nprobs=10,\n",
    "    nprmas=10,\n",
    "    dt0=0.001,\n",
    ")\n",
    "adv = flopy.mt3d.Mt3dAdv(swt, mixelm=0)\n",
    "dsp = flopy.mt3d.Mt3dDsp(swt, al=0.0, trpt=1.0, trpv=1.0, dmcoef=dmcoef)\n",
    "gcg = flopy.mt3d.Mt3dGcg(swt, iter1=500, mxiter=1, isolve=1, cclose=1e-7)\n",
    "ssm = flopy.mt3d.Mt3dSsm(swt, stress_period_data=ssm_data)\n",
    "\n",
    "# Create the SEAWAT model structure\n",
    "# mswt = flopy.seawat.Seawat(modelname, 'nam_swt', mf, mt, model_ws=workspace, exe_name='swtv4')\n",
    "vdf = flopy.seawat.SeawatVdf(\n",
    "    swt,\n",
    "    iwtable=0,\n",
    "    densemin=0,\n",
    "    densemax=0,\n",
    "    denseref=1000.0,\n",
    "    denseslp=0.7143,\n",
    "    firstdt=1e-3,\n",
    ")"
   ]
  },
  {
   "cell_type": "code",
   "execution_count": null,
   "metadata": {
    "execution": {
     "iopub.execute_input": "2023-05-02T02:58:31.376220Z",
     "iopub.status.busy": "2023-05-02T02:58:31.375903Z",
     "iopub.status.idle": "2023-05-02T02:58:31.422721Z",
     "shell.execute_reply": "2023-05-02T02:58:31.422104Z"
    }
   },
   "outputs": [],
   "source": [
    "# Write the input files\n",
    "swt.write_input()"
   ]
  },
  {
   "cell_type": "code",
   "execution_count": null,
   "metadata": {
    "execution": {
     "iopub.execute_input": "2023-05-02T02:58:31.425131Z",
     "iopub.status.busy": "2023-05-02T02:58:31.424882Z",
     "iopub.status.idle": "2023-05-02T02:58:31.428581Z",
     "shell.execute_reply": "2023-05-02T02:58:31.427983Z"
    }
   },
   "outputs": [],
   "source": [
    "# Try to delete the output files, to prevent accidental use of older files\n",
    "try:\n",
    "    os.remove(os.path.join(workspace, \"MT3D001.UCN\"))\n",
    "    os.remove(os.path.join(workspace, modelname + \".hds\"))\n",
    "    os.remove(os.path.join(workspace, modelname + \".cbc\"))\n",
    "except:\n",
    "    pass"
   ]
  },
  {
   "cell_type": "code",
   "execution_count": null,
   "metadata": {
    "execution": {
     "iopub.execute_input": "2023-05-02T02:58:31.430858Z",
     "iopub.status.busy": "2023-05-02T02:58:31.430624Z",
     "iopub.status.idle": "2023-05-02T02:58:40.674562Z",
     "shell.execute_reply": "2023-05-02T02:58:40.673630Z"
    }
   },
   "outputs": [],
   "source": [
    "v = swt.run_model(silent=True, report=True)\n",
    "for idx in range(-3, 0):\n",
    "    print(v[1][idx])"
   ]
  },
  {
   "cell_type": "code",
   "execution_count": null,
   "metadata": {
    "execution": {
     "iopub.execute_input": "2023-05-02T02:58:40.677349Z",
     "iopub.status.busy": "2023-05-02T02:58:40.677071Z",
     "iopub.status.idle": "2023-05-02T02:58:41.471525Z",
     "shell.execute_reply": "2023-05-02T02:58:41.470884Z"
    }
   },
   "outputs": [],
   "source": [
    "# Post-process the results\n",
    "import numpy as np\n",
    "import flopy.utils.binaryfile as bf\n",
    "\n",
    "# Load data\n",
    "ucnobj = bf.UcnFile(os.path.join(workspace, \"MT3D001.UCN\"), model=swt)\n",
    "times = ucnobj.get_times()\n",
    "concentration = ucnobj.get_data(totim=times[-1])\n",
    "cbbobj = bf.CellBudgetFile(os.path.join(workspace, \"henry.cbc\"))\n",
    "times = cbbobj.get_times()\n",
    "qx = cbbobj.get_data(text=\"flow right face\", totim=times[-1])[0]\n",
    "qz = cbbobj.get_data(text=\"flow lower face\", totim=times[-1])[0]\n",
    "\n",
    "# Average flows to cell centers\n",
    "qx_avg = np.empty(qx.shape, dtype=qx.dtype)\n",
    "qx_avg[:, :, 1:] = 0.5 * (qx[:, :, 0 : ncol - 1] + qx[:, :, 1:ncol])\n",
    "qx_avg[:, :, 0] = 0.5 * qx[:, :, 0]\n",
    "qz_avg = np.empty(qz.shape, dtype=qz.dtype)\n",
    "qz_avg[1:, :, :] = 0.5 * (qz[0 : nlay - 1, :, :] + qz[1:nlay, :, :])\n",
    "qz_avg[0, :, :] = 0.5 * qz[0, :, :]"
   ]
  },
  {
   "cell_type": "code",
   "execution_count": null,
   "metadata": {
    "execution": {
     "iopub.execute_input": "2023-05-02T02:58:41.473698Z",
     "iopub.status.busy": "2023-05-02T02:58:41.473482Z",
     "iopub.status.idle": "2023-05-02T02:58:41.874825Z",
     "shell.execute_reply": "2023-05-02T02:58:41.874040Z"
    },
    "tags": [
     "nbsphinx-thumbnail"
    ]
   },
   "outputs": [],
   "source": [
    "# Make the plot\n",
    "import matplotlib.pyplot as plt\n",
    "\n",
    "fig = plt.figure(figsize=(10, 10))\n",
    "ax = fig.add_subplot(1, 1, 1, aspect=\"equal\")\n",
    "ax.imshow(\n",
    "    concentration[:, 0, :], interpolation=\"nearest\", extent=(0, Lx, 0, Lz)\n",
    ")\n",
    "y, x, z = dis.get_node_coordinates()\n",
    "X, Z = np.meshgrid(x, z[:, 0, 0])\n",
    "iskip = 3\n",
    "ax.quiver(\n",
    "    X[::iskip, ::iskip],\n",
    "    Z[::iskip, ::iskip],\n",
    "    qx_avg[::iskip, 0, ::iskip],\n",
    "    -qz_avg[::iskip, 0, ::iskip],\n",
    "    color=\"w\",\n",
    "    scale=5,\n",
    "    headwidth=3,\n",
    "    headlength=2,\n",
    "    headaxislength=2,\n",
    "    width=0.0025,\n",
    ")\n",
    "plt.savefig(os.path.join(workspace, \"henry.png\"))\n",
    "plt.show();"
   ]
  },
  {
   "cell_type": "code",
   "execution_count": null,
   "metadata": {
    "execution": {
     "iopub.execute_input": "2023-05-02T02:58:41.878411Z",
     "iopub.status.busy": "2023-05-02T02:58:41.878148Z",
     "iopub.status.idle": "2023-05-02T02:58:41.890499Z",
     "shell.execute_reply": "2023-05-02T02:58:41.889737Z"
    }
   },
   "outputs": [],
   "source": [
    "# Extract the heads\n",
    "fname = os.path.join(workspace, \"henry.hds\")\n",
    "headobj = bf.HeadFile(fname)\n",
    "times = headobj.get_times()\n",
    "head = headobj.get_data(totim=times[-1])"
   ]
  },
  {
   "cell_type": "code",
   "execution_count": null,
   "metadata": {
    "execution": {
     "iopub.execute_input": "2023-05-02T02:58:41.893298Z",
     "iopub.status.busy": "2023-05-02T02:58:41.893031Z",
     "iopub.status.idle": "2023-05-02T02:58:42.126229Z",
     "shell.execute_reply": "2023-05-02T02:58:42.125667Z"
    }
   },
   "outputs": [],
   "source": [
    "# Make a simple head plot\n",
    "fig = plt.figure(figsize=(10, 10))\n",
    "ax = fig.add_subplot(1, 1, 1, aspect=\"equal\")\n",
    "im = ax.imshow(head[:, 0, :], interpolation=\"nearest\", extent=(0, Lx, 0, Lz))\n",
    "ax.set_title(\"Simulated Heads\");"
   ]
  },
  {
   "cell_type": "markdown",
   "metadata": {},
   "source": [
    "#### Change the format of several arrays and rerun the model"
   ]
  },
  {
   "cell_type": "code",
   "execution_count": null,
   "metadata": {
    "execution": {
     "iopub.execute_input": "2023-05-02T02:58:42.128525Z",
     "iopub.status.busy": "2023-05-02T02:58:42.128137Z",
     "iopub.status.idle": "2023-05-02T02:58:42.131707Z",
     "shell.execute_reply": "2023-05-02T02:58:42.131202Z"
    }
   },
   "outputs": [],
   "source": [
    "swt.btn.prsity.how = \"constant\"\n",
    "swt.btn.prsity[0].how = \"internal\"\n",
    "swt.btn.prsity[1].how = \"external\"\n",
    "swt.btn.sconc[0].how = \"external\"\n",
    "swt.btn.prsity[0].fmtin = \"(100E15.6)\"\n",
    "swt.lpf.hk[0].fmtin = \"(BINARY)\""
   ]
  },
  {
   "cell_type": "code",
   "execution_count": null,
   "metadata": {
    "execution": {
     "iopub.execute_input": "2023-05-02T02:58:42.133623Z",
     "iopub.status.busy": "2023-05-02T02:58:42.133442Z",
     "iopub.status.idle": "2023-05-02T02:58:50.773264Z",
     "shell.execute_reply": "2023-05-02T02:58:50.772449Z"
    }
   },
   "outputs": [],
   "source": [
    "swt.write_input()\n",
    "v = swt.run_model(silent=True, report=True)\n",
    "for idx in range(-3, 0):\n",
    "    print(v[1][idx])"
   ]
  },
  {
   "cell_type": "code",
   "execution_count": null,
   "metadata": {
    "execution": {
     "iopub.execute_input": "2023-05-02T02:58:50.775562Z",
     "iopub.status.busy": "2023-05-02T02:58:50.775323Z",
     "iopub.status.idle": "2023-05-02T02:58:50.792352Z",
     "shell.execute_reply": "2023-05-02T02:58:50.791720Z"
    }
   },
   "outputs": [],
   "source": [
    "try:\n",
    "    # ignore PermissionError on Windows\n",
    "    temp_dir.cleanup()\n",
    "except:\n",
    "    pass"
   ]
  }
 ],
 "metadata": {
  "anaconda-cloud": {},
  "kernelspec": {
   "display_name": "Python 3 (ipykernel)",
   "language": "python",
   "name": "python3"
  },
  "language_info": {
   "codemirror_mode": {
    "name": "ipython",
    "version": 3
   },
   "file_extension": ".py",
   "mimetype": "text/x-python",
   "name": "python",
   "nbconvert_exporter": "python",
   "pygments_lexer": "ipython3",
   "version": "3.11.0"
  }
 },
 "nbformat": 4,
 "nbformat_minor": 4
}
