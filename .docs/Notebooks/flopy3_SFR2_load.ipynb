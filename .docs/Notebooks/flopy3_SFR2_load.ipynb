{
 "cells": [
  {
   "attachments": {},
   "cell_type": "markdown",
   "metadata": {},
   "source": [
    "# Loading and querying an SFR2 Package dataset"
   ]
  },
  {
   "cell_type": "code",
   "execution_count": null,
   "metadata": {
    "execution": {
     "iopub.execute_input": "2023-02-22T02:45:38.145463Z",
     "iopub.status.busy": "2023-02-22T02:45:38.145045Z",
     "iopub.status.idle": "2023-02-22T02:45:38.901647Z",
     "shell.execute_reply": "2023-02-22T02:45:38.900691Z"
    }
   },
   "outputs": [],
   "source": [
    "import sys\n",
    "import os\n",
    "\n",
    "# run installed version of flopy or add local path\n",
    "try:\n",
    "    import flopy\n",
    "except:\n",
    "    fpth = os.path.abspath(os.path.join(\"..\", \"..\"))\n",
    "    sys.path.append(fpth)\n",
    "    import flopy\n",
    "\n",
    "print(sys.version)\n",
    "print(\"flopy version: {}\".format(flopy.__version__))"
   ]
  },
  {
   "cell_type": "markdown",
   "metadata": {},
   "source": [
    "Create a model instance"
   ]
  },
  {
   "cell_type": "code",
   "execution_count": null,
   "metadata": {
    "execution": {
     "iopub.execute_input": "2023-02-22T02:45:38.953973Z",
     "iopub.status.busy": "2023-02-22T02:45:38.953035Z",
     "iopub.status.idle": "2023-02-22T02:45:38.958415Z",
     "shell.execute_reply": "2023-02-22T02:45:38.957275Z"
    }
   },
   "outputs": [],
   "source": [
    "m = flopy.modflow.Modflow()"
   ]
  },
  {
   "cell_type": "markdown",
   "metadata": {},
   "source": [
    "Read the SFR2 file"
   ]
  },
  {
   "cell_type": "code",
   "execution_count": null,
   "metadata": {
    "execution": {
     "iopub.execute_input": "2023-02-22T02:45:38.962938Z",
     "iopub.status.busy": "2023-02-22T02:45:38.962097Z",
     "iopub.status.idle": "2023-02-22T02:45:38.984625Z",
     "shell.execute_reply": "2023-02-22T02:45:38.983399Z"
    }
   },
   "outputs": [],
   "source": [
    "f = os.path.join(\"..\", \"..\", \"examples\", \"data\", \"mf2005_test\", \"testsfr2_tab_ICALC2.sfr\")\n",
    "stuff = open(f).readlines()\n",
    "stuff"
   ]
  },
  {
   "cell_type": "markdown",
   "metadata": {},
   "source": [
    "Load the SFR2 file"
   ]
  },
  {
   "cell_type": "code",
   "execution_count": null,
   "metadata": {
    "execution": {
     "iopub.execute_input": "2023-02-22T02:45:38.988543Z",
     "iopub.status.busy": "2023-02-22T02:45:38.987861Z",
     "iopub.status.idle": "2023-02-22T02:45:38.995174Z",
     "shell.execute_reply": "2023-02-22T02:45:38.994142Z"
    }
   },
   "outputs": [],
   "source": [
    "sfr = flopy.modflow.ModflowSfr2.load(f, m, nper=50)"
   ]
  },
  {
   "cell_type": "code",
   "execution_count": null,
   "metadata": {
    "execution": {
     "iopub.execute_input": "2023-02-22T02:45:38.999501Z",
     "iopub.status.busy": "2023-02-22T02:45:38.998842Z",
     "iopub.status.idle": "2023-02-22T02:45:39.004137Z",
     "shell.execute_reply": "2023-02-22T02:45:39.003371Z"
    }
   },
   "outputs": [],
   "source": [
    "sfr.segment_data.keys()"
   ]
  },
  {
   "cell_type": "markdown",
   "metadata": {},
   "source": [
    "Query the reach data in the SFR2 file"
   ]
  },
  {
   "cell_type": "code",
   "execution_count": null,
   "metadata": {
    "execution": {
     "iopub.execute_input": "2023-02-22T02:45:39.008342Z",
     "iopub.status.busy": "2023-02-22T02:45:39.007661Z",
     "iopub.status.idle": "2023-02-22T02:45:39.022209Z",
     "shell.execute_reply": "2023-02-22T02:45:39.021412Z"
    }
   },
   "outputs": [],
   "source": [
    "sfr.reach_data"
   ]
  },
  {
   "cell_type": "markdown",
   "metadata": {},
   "source": [
    "Query the channel flow data in the SFR2 file"
   ]
  },
  {
   "cell_type": "code",
   "execution_count": null,
   "metadata": {
    "execution": {
     "iopub.execute_input": "2023-02-22T02:45:39.026169Z",
     "iopub.status.busy": "2023-02-22T02:45:39.025497Z",
     "iopub.status.idle": "2023-02-22T02:45:39.030516Z",
     "shell.execute_reply": "2023-02-22T02:45:39.029686Z"
    }
   },
   "outputs": [],
   "source": [
    "sfr.channel_flow_data"
   ]
  },
  {
   "cell_type": "markdown",
   "metadata": {},
   "source": [
    "Query the channel geometry data in the SFR2 file"
   ]
  },
  {
   "cell_type": "code",
   "execution_count": null,
   "metadata": {
    "execution": {
     "iopub.execute_input": "2023-02-22T02:45:39.034564Z",
     "iopub.status.busy": "2023-02-22T02:45:39.033812Z",
     "iopub.status.idle": "2023-02-22T02:45:39.039520Z",
     "shell.execute_reply": "2023-02-22T02:45:39.038735Z"
    }
   },
   "outputs": [],
   "source": [
    "sfr.channel_geometry_data"
   ]
  },
  {
   "cell_type": "markdown",
   "metadata": {},
   "source": [
    "Query dataset 5 data in the SFR2 file"
   ]
  },
  {
   "cell_type": "code",
   "execution_count": null,
   "metadata": {
    "execution": {
     "iopub.execute_input": "2023-02-22T02:45:39.043253Z",
     "iopub.status.busy": "2023-02-22T02:45:39.042669Z",
     "iopub.status.idle": "2023-02-22T02:45:39.053654Z",
     "shell.execute_reply": "2023-02-22T02:45:39.052576Z"
    }
   },
   "outputs": [],
   "source": [
    "sfr.dataset_5"
   ]
  },
  {
   "cell_type": "markdown",
   "metadata": {},
   "source": [
    "Query the TABFILES dictionary in the SFR2 object to determine the TABFILES data in the SFR2 file"
   ]
  },
  {
   "cell_type": "code",
   "execution_count": null,
   "metadata": {
    "execution": {
     "iopub.execute_input": "2023-02-22T02:45:39.056676Z",
     "iopub.status.busy": "2023-02-22T02:45:39.056098Z",
     "iopub.status.idle": "2023-02-22T02:45:39.061048Z",
     "shell.execute_reply": "2023-02-22T02:45:39.060307Z"
    }
   },
   "outputs": [],
   "source": [
    "sfr.tabfiles_dict"
   ]
  },
  {
   "cell_type": "code",
   "execution_count": null,
   "metadata": {
    "execution": {
     "iopub.execute_input": "2023-02-22T02:45:39.065193Z",
     "iopub.status.busy": "2023-02-22T02:45:39.064080Z",
     "iopub.status.idle": "2023-02-22T02:45:39.070382Z",
     "shell.execute_reply": "2023-02-22T02:45:39.069596Z"
    },
    "pycharm": {
     "name": "#%%\n"
    }
   },
   "outputs": [],
   "source": [
    "sfr.tabfiles"
   ]
  }
 ],
 "metadata": {
  "anaconda-cloud": {},
  "kernelspec": {
   "display_name": "Python 3",
   "language": "python",
   "name": "python3"
  },
  "language_info": {
   "codemirror_mode": {
    "name": "ipython",
    "version": 3
   },
   "file_extension": ".py",
   "mimetype": "text/x-python",
   "name": "python",
   "nbconvert_exporter": "python",
   "pygments_lexer": "ipython3",
   "version": "3.10.6"
  }
 },
 "nbformat": 4,
 "nbformat_minor": 4
}
