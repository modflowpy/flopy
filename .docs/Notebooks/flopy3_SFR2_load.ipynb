{
 "cells": [
  {
   "attachments": {},
   "cell_type": "markdown",
   "metadata": {},
   "source": [
    "# Loading and querying an SFR2 Package dataset"
   ]
  },
  {
   "cell_type": "code",
   "execution_count": null,
   "metadata": {
    "execution": {
     "iopub.execute_input": "2023-05-02T02:54:57.042130Z",
     "iopub.status.busy": "2023-05-02T02:54:57.041652Z",
     "iopub.status.idle": "2023-05-02T02:54:58.233344Z",
     "shell.execute_reply": "2023-05-02T02:54:58.232374Z"
    }
   },
   "outputs": [],
   "source": [
    "import sys\n",
    "import os\n",
    "\n",
    "# run installed version of flopy or add local path\n",
    "try:\n",
    "    import flopy\n",
    "except:\n",
    "    fpth = os.path.abspath(os.path.join(\"..\", \"..\"))\n",
    "    sys.path.append(fpth)\n",
    "    import flopy\n",
    "\n",
    "print(sys.version)\n",
    "print(\"flopy version: {}\".format(flopy.__version__))"
   ]
  },
  {
   "cell_type": "markdown",
   "metadata": {},
   "source": [
    "Create a model instance"
   ]
  },
  {
   "cell_type": "code",
   "execution_count": null,
   "metadata": {
    "execution": {
     "iopub.execute_input": "2023-05-02T02:54:58.286238Z",
     "iopub.status.busy": "2023-05-02T02:54:58.285817Z",
     "iopub.status.idle": "2023-05-02T02:54:58.292055Z",
     "shell.execute_reply": "2023-05-02T02:54:58.291100Z"
    }
   },
   "outputs": [],
   "source": [
    "m = flopy.modflow.Modflow()"
   ]
  },
  {
   "cell_type": "markdown",
   "metadata": {},
   "source": [
    "Read the SFR2 file"
   ]
  },
  {
   "cell_type": "code",
   "execution_count": null,
   "metadata": {
    "execution": {
     "iopub.execute_input": "2023-05-02T02:54:58.295535Z",
     "iopub.status.busy": "2023-05-02T02:54:58.295224Z",
     "iopub.status.idle": "2023-05-02T02:54:58.310890Z",
     "shell.execute_reply": "2023-05-02T02:54:58.310061Z"
    }
   },
   "outputs": [],
   "source": [
    "f = os.path.join(\"..\", \"..\", \"examples\", \"data\", \"mf2005_test\", \"testsfr2_tab_ICALC2.sfr\")\n",
    "stuff = open(f).readlines()\n",
    "stuff"
   ]
  },
  {
   "cell_type": "markdown",
   "metadata": {},
   "source": [
    "Load the SFR2 file"
   ]
  },
  {
   "cell_type": "code",
   "execution_count": null,
   "metadata": {
    "execution": {
     "iopub.execute_input": "2023-05-02T02:54:58.314264Z",
     "iopub.status.busy": "2023-05-02T02:54:58.313929Z",
     "iopub.status.idle": "2023-05-02T02:54:58.320872Z",
     "shell.execute_reply": "2023-05-02T02:54:58.320083Z"
    }
   },
   "outputs": [],
   "source": [
    "sfr = flopy.modflow.ModflowSfr2.load(f, m, nper=50)"
   ]
  },
  {
   "cell_type": "code",
   "execution_count": null,
   "metadata": {
    "execution": {
     "iopub.execute_input": "2023-05-02T02:54:58.324072Z",
     "iopub.status.busy": "2023-05-02T02:54:58.323737Z",
     "iopub.status.idle": "2023-05-02T02:54:58.329511Z",
     "shell.execute_reply": "2023-05-02T02:54:58.328718Z"
    }
   },
   "outputs": [],
   "source": [
    "sfr.segment_data.keys()"
   ]
  },
  {
   "cell_type": "markdown",
   "metadata": {},
   "source": [
    "Query the reach data in the SFR2 file"
   ]
  },
  {
   "cell_type": "code",
   "execution_count": null,
   "metadata": {
    "execution": {
     "iopub.execute_input": "2023-05-02T02:54:58.333247Z",
     "iopub.status.busy": "2023-05-02T02:54:58.332826Z",
     "iopub.status.idle": "2023-05-02T02:54:58.349912Z",
     "shell.execute_reply": "2023-05-02T02:54:58.349103Z"
    }
   },
   "outputs": [],
   "source": [
    "sfr.reach_data"
   ]
  },
  {
   "cell_type": "markdown",
   "metadata": {},
   "source": [
    "Query the channel flow data in the SFR2 file"
   ]
  },
  {
   "cell_type": "code",
   "execution_count": null,
   "metadata": {
    "execution": {
     "iopub.execute_input": "2023-05-02T02:54:58.352973Z",
     "iopub.status.busy": "2023-05-02T02:54:58.352667Z",
     "iopub.status.idle": "2023-05-02T02:54:58.358197Z",
     "shell.execute_reply": "2023-05-02T02:54:58.357199Z"
    }
   },
   "outputs": [],
   "source": [
    "sfr.channel_flow_data"
   ]
  },
  {
   "cell_type": "markdown",
   "metadata": {},
   "source": [
    "Query the channel geometry data in the SFR2 file"
   ]
  },
  {
   "cell_type": "code",
   "execution_count": null,
   "metadata": {
    "execution": {
     "iopub.execute_input": "2023-05-02T02:54:58.361712Z",
     "iopub.status.busy": "2023-05-02T02:54:58.361357Z",
     "iopub.status.idle": "2023-05-02T02:54:58.367457Z",
     "shell.execute_reply": "2023-05-02T02:54:58.366364Z"
    }
   },
   "outputs": [],
   "source": [
    "sfr.channel_geometry_data"
   ]
  },
  {
   "cell_type": "markdown",
   "metadata": {},
   "source": [
    "Query dataset 5 data in the SFR2 file"
   ]
  },
  {
   "cell_type": "code",
   "execution_count": null,
   "metadata": {
    "execution": {
     "iopub.execute_input": "2023-05-02T02:54:58.370516Z",
     "iopub.status.busy": "2023-05-02T02:54:58.370236Z",
     "iopub.status.idle": "2023-05-02T02:54:58.379599Z",
     "shell.execute_reply": "2023-05-02T02:54:58.378459Z"
    }
   },
   "outputs": [],
   "source": [
    "sfr.dataset_5"
   ]
  },
  {
   "cell_type": "markdown",
   "metadata": {},
   "source": [
    "Query the TABFILES dictionary in the SFR2 object to determine the TABFILES data in the SFR2 file"
   ]
  },
  {
   "cell_type": "code",
   "execution_count": null,
   "metadata": {
    "execution": {
     "iopub.execute_input": "2023-05-02T02:54:58.383647Z",
     "iopub.status.busy": "2023-05-02T02:54:58.382987Z",
     "iopub.status.idle": "2023-05-02T02:54:58.388751Z",
     "shell.execute_reply": "2023-05-02T02:54:58.387841Z"
    }
   },
   "outputs": [],
   "source": [
    "sfr.tabfiles_dict"
   ]
  },
  {
   "cell_type": "code",
   "execution_count": null,
   "metadata": {
    "execution": {
     "iopub.execute_input": "2023-05-02T02:54:58.392144Z",
     "iopub.status.busy": "2023-05-02T02:54:58.391561Z",
     "iopub.status.idle": "2023-05-02T02:54:58.397507Z",
     "shell.execute_reply": "2023-05-02T02:54:58.396369Z"
    },
    "pycharm": {
     "name": "#%%\n"
    }
   },
   "outputs": [],
   "source": [
    "sfr.tabfiles"
   ]
  }
 ],
 "metadata": {
  "anaconda-cloud": {},
  "kernelspec": {
   "display_name": "Python 3",
   "language": "python",
   "name": "python3"
  },
  "language_info": {
   "codemirror_mode": {
    "name": "ipython",
    "version": 3
   },
   "file_extension": ".py",
   "mimetype": "text/x-python",
   "name": "python",
   "nbconvert_exporter": "python",
   "pygments_lexer": "ipython3",
   "version": "3.11.0"
  }
 },
 "nbformat": 4,
 "nbformat_minor": 4
}
