{
 "cells": [
  {
   "attachments": {},
   "cell_type": "markdown",
   "metadata": {},
   "source": [
    "# Simple water-table solution with recharge\n",
    "\n",
    "This problem is an unconfined system with a uniform recharge rate, a horizontal bottom, and flow between constant-head boundaries in column 1 and 100. MODFLOW models cannot match the analytical solution exactly because they do not allow recharge to constant-head cells. Constant-head cells in column 1 and 100 were made very thin (0.1 m) in the direction of flow to minimize the effect of recharge applied to them. The analytical solution for this problem can be written as:\n",
    "\n",
    "$h = \\sqrt{b_{1}^{2} - \\frac{x}{L} (b_{1}^{2} - b_{2}^{2}) + (\\frac{R x}{K}(L-x))} + z_{bottom}$\n",
    "\n",
    "where $R$ is the recharge rate, $K$ is the the hydraulic conductivity in the horizontal direction, $b_1$ is the specified saturated thickness at the left boundary, $b_2$ is the specified saturated thickness at the right boundary, $x$ is the distance from the left boundary $L$ is the length of the model domain, and $z_{bottom}$ is the elebation of the bottom of the aquifer.\n",
    "\n",
    "The model consistes of a grid of 100 columns, 1 row, and 1 layer; a bottom altitude of 0 m; constant heads of 20 and 11m in column 1 and 100, respectively; a recharge rate of 0.001 m/d; and a horizontal hydraulic conductivity of 50 m/d.  The discretization is 0.1 m in the row direction for the constant-head cells (column 1 and 100) and 50 m for all other cells."
   ]
  },
  {
   "cell_type": "code",
   "execution_count": null,
   "metadata": {
    "execution": {
     "iopub.execute_input": "2023-05-02T02:55:02.803302Z",
     "iopub.status.busy": "2023-05-02T02:55:02.802844Z",
     "iopub.status.idle": "2023-05-02T02:55:04.113373Z",
     "shell.execute_reply": "2023-05-02T02:55:04.112476Z"
    }
   },
   "outputs": [],
   "source": [
    "import sys\n",
    "from pathlib import Path\n",
    "from tempfile import TemporaryDirectory\n",
    "\n",
    "import numpy as np\n",
    "import matplotlib as mpl\n",
    "import matplotlib.pyplot as plt\n",
    "\n",
    "proj_root = Path.cwd().parent.parent\n",
    "\n",
    "# run installed version of flopy or add local path\n",
    "try:\n",
    "    import flopy\n",
    "except:\n",
    "    sys.path.append(proj_root)\n",
    "    import flopy\n",
    "\n",
    "print(sys.version)\n",
    "print(\"numpy version: {}\".format(np.__version__))\n",
    "print(\"matplotlib version: {}\".format(mpl.__version__))\n",
    "print(\"flopy version: {}\".format(flopy.__version__))"
   ]
  },
  {
   "cell_type": "code",
   "execution_count": null,
   "metadata": {
    "execution": {
     "iopub.execute_input": "2023-05-02T02:55:04.165539Z",
     "iopub.status.busy": "2023-05-02T02:55:04.165115Z",
     "iopub.status.idle": "2023-05-02T02:55:04.170005Z",
     "shell.execute_reply": "2023-05-02T02:55:04.168678Z"
    }
   },
   "outputs": [],
   "source": [
    "# Set name of MODFLOW exe\n",
    "#  assumes executable is in users path statement\n",
    "exe_name = \"mfnwt\"\n",
    "mfexe = exe_name"
   ]
  },
  {
   "cell_type": "markdown",
   "metadata": {},
   "source": [
    "Create a temporary workspace."
   ]
  },
  {
   "cell_type": "code",
   "execution_count": null,
   "metadata": {
    "execution": {
     "iopub.execute_input": "2023-05-02T02:55:04.173405Z",
     "iopub.status.busy": "2023-05-02T02:55:04.173090Z",
     "iopub.status.idle": "2023-05-02T02:55:04.179306Z",
     "shell.execute_reply": "2023-05-02T02:55:04.178164Z"
    }
   },
   "outputs": [],
   "source": [
    "temp_dir = TemporaryDirectory()\n",
    "workspace = Path(temp_dir.name)\n",
    "workspace.mkdir(exist_ok=True)\n",
    "modelname = \"watertable\""
   ]
  },
  {
   "cell_type": "markdown",
   "metadata": {},
   "source": [
    "Define a function to calculate the analytical solution at specified points in an aquifer."
   ]
  },
  {
   "cell_type": "code",
   "execution_count": null,
   "metadata": {
    "execution": {
     "iopub.execute_input": "2023-05-02T02:55:04.182731Z",
     "iopub.status.busy": "2023-05-02T02:55:04.182417Z",
     "iopub.status.idle": "2023-05-02T02:55:04.189808Z",
     "shell.execute_reply": "2023-05-02T02:55:04.188543Z"
    }
   },
   "outputs": [],
   "source": [
    "def analytical_water_table_solution(h1, h2, z, R, K, L, x):\n",
    "    h = np.zeros((x.shape[0]), float)\n",
    "    # dx = x[1] - x[0]\n",
    "    # x -= dx\n",
    "    b1 = h1 - z\n",
    "    b2 = h2 - z\n",
    "    h = (\n",
    "        np.sqrt(\n",
    "            b1**2 - (x / L) * (b1**2 - b2**2) + (R * x / K) * (L - x)\n",
    "        )\n",
    "        + z\n",
    "    )\n",
    "    return h"
   ]
  },
  {
   "cell_type": "markdown",
   "metadata": {},
   "source": [
    "Define model data required to create input files and calculate the analytical solution."
   ]
  },
  {
   "cell_type": "code",
   "execution_count": null,
   "metadata": {
    "execution": {
     "iopub.execute_input": "2023-05-02T02:55:04.193173Z",
     "iopub.status.busy": "2023-05-02T02:55:04.192849Z",
     "iopub.status.idle": "2023-05-02T02:55:04.204731Z",
     "shell.execute_reply": "2023-05-02T02:55:04.203719Z"
    }
   },
   "outputs": [],
   "source": [
    "# model dimensions\n",
    "nlay, nrow, ncol = 1, 1, 100\n",
    "\n",
    "# cell spacing\n",
    "delr = 50.0\n",
    "delc = 1.0\n",
    "\n",
    "# domain length\n",
    "L = 5000.0\n",
    "\n",
    "# boundary heads\n",
    "h1 = 20.0\n",
    "h2 = 11.0\n",
    "\n",
    "# ibound\n",
    "ibound = np.ones((nlay, nrow, ncol), dtype=int)\n",
    "\n",
    "# starting heads\n",
    "strt = np.zeros((nlay, nrow, ncol), dtype=float)\n",
    "strt[0, 0, 0] = h1\n",
    "strt[0, 0, -1] = h2\n",
    "\n",
    "# top of the aquifer\n",
    "top = 25.0\n",
    "\n",
    "# bottom of the aquifer\n",
    "botm = 0.0\n",
    "\n",
    "# hydraulic conductivity\n",
    "hk = 50.0\n",
    "\n",
    "# location of cell centroids\n",
    "x = np.arange(0.0, L, delr) + (delr / 2.0)\n",
    "\n",
    "# location of cell edges\n",
    "xa = np.arange(0, L + delr, delr)\n",
    "\n",
    "# recharge rate\n",
    "rchrate = 0.001\n",
    "\n",
    "# calculate the head at the cell centroids using the analytical solution function\n",
    "hac = analytical_water_table_solution(h1, h2, botm, rchrate, hk, L, x)\n",
    "\n",
    "# calculate the head at the cell edges using the analytical solution function\n",
    "ha = analytical_water_table_solution(h1, h2, botm, rchrate, hk, L, xa)\n",
    "\n",
    "# ghbs\n",
    "# ghb conductance\n",
    "b1, b2 = 0.5 * (h1 + hac[0]), 0.5 * (h2 + hac[-1])\n",
    "c1, c2 = hk * b1 * delc / (0.5 * delr), hk * b2 * delc / (0.5 * delr)\n",
    "# dtype\n",
    "ghb_dtype = flopy.modflow.ModflowGhb.get_default_dtype()\n",
    "print(ghb_dtype)\n",
    "# build ghb recarray\n",
    "stress_period_data = np.zeros((2), dtype=ghb_dtype)\n",
    "stress_period_data = stress_period_data.view(np.recarray)\n",
    "print(\"stress_period_data: \", stress_period_data)\n",
    "print(\"type is: \", type(stress_period_data))\n",
    "# fill ghb recarray\n",
    "stress_period_data[0] = (0, 0, 0, h1, c1)\n",
    "stress_period_data[1] = (0, 0, ncol - 1, h2, c2)"
   ]
  },
  {
   "cell_type": "markdown",
   "metadata": {},
   "source": [
    "Create and run the MODFLOW-NWT model."
   ]
  },
  {
   "cell_type": "code",
   "execution_count": null,
   "metadata": {
    "execution": {
     "iopub.execute_input": "2023-05-02T02:55:04.208640Z",
     "iopub.status.busy": "2023-05-02T02:55:04.207839Z",
     "iopub.status.idle": "2023-05-02T02:55:04.292815Z",
     "shell.execute_reply": "2023-05-02T02:55:04.291452Z"
    }
   },
   "outputs": [],
   "source": [
    "mf = flopy.modflow.Modflow(\n",
    "    modelname=modelname, exe_name=mfexe, model_ws=workspace, version=\"mfnwt\"\n",
    ")\n",
    "dis = flopy.modflow.ModflowDis(\n",
    "    mf,\n",
    "    nlay,\n",
    "    nrow,\n",
    "    ncol,\n",
    "    delr=delr,\n",
    "    delc=delc,\n",
    "    top=top,\n",
    "    botm=botm,\n",
    "    perlen=1,\n",
    "    nstp=1,\n",
    "    steady=True,\n",
    ")\n",
    "bas = flopy.modflow.ModflowBas(mf, ibound=ibound, strt=strt)\n",
    "lpf = flopy.modflow.ModflowUpw(mf, hk=hk, laytyp=1)\n",
    "ghb = flopy.modflow.ModflowGhb(mf, stress_period_data=stress_period_data)\n",
    "rch = flopy.modflow.ModflowRch(mf, rech=rchrate, nrchop=1)\n",
    "oc = flopy.modflow.ModflowOc(mf)\n",
    "nwt = flopy.modflow.ModflowNwt(mf, linmeth=2, iprnwt=1, options=\"COMPLEX\")\n",
    "mf.write_input()\n",
    "\n",
    "# remove existing heads results, if necessary\n",
    "try:\n",
    "    (workspace / f\"{modelname}.hds\").unlink(missing_ok=True)\n",
    "except:\n",
    "    pass\n",
    "# run existing model\n",
    "success, buff = mf.run_model(silent=True, report=True)\n",
    "assert success, \"Failed to run\"\n",
    "for line in buff:\n",
    "    print(line)"
   ]
  },
  {
   "cell_type": "markdown",
   "metadata": {},
   "source": [
    "Read the simulation's results."
   ]
  },
  {
   "cell_type": "code",
   "execution_count": null,
   "metadata": {
    "execution": {
     "iopub.execute_input": "2023-05-02T02:55:04.297295Z",
     "iopub.status.busy": "2023-05-02T02:55:04.296960Z",
     "iopub.status.idle": "2023-05-02T02:55:04.309191Z",
     "shell.execute_reply": "2023-05-02T02:55:04.308016Z"
    }
   },
   "outputs": [],
   "source": [
    "# Create the headfile object\n",
    "headfile = workspace / f\"{modelname}.hds\"\n",
    "headobj = flopy.utils.HeadFile(headfile, precision=\"single\")\n",
    "times = headobj.get_times()\n",
    "head = headobj.get_data(totim=times[-1])"
   ]
  },
  {
   "cell_type": "markdown",
   "metadata": {},
   "source": [
    "Plot the MODFLOW-NWT results and compare to the analytical solution."
   ]
  },
  {
   "cell_type": "code",
   "execution_count": null,
   "metadata": {
    "execution": {
     "iopub.execute_input": "2023-05-02T02:55:04.313198Z",
     "iopub.status.busy": "2023-05-02T02:55:04.312834Z",
     "iopub.status.idle": "2023-05-02T02:55:04.877054Z",
     "shell.execute_reply": "2023-05-02T02:55:04.875304Z"
    }
   },
   "outputs": [],
   "source": [
    "fig = plt.figure(figsize=(16, 6))\n",
    "fig.subplots_adjust(\n",
    "    left=None, bottom=None, right=None, top=None, wspace=0.25, hspace=0.25\n",
    ")\n",
    "\n",
    "ax = fig.add_subplot(1, 3, 1)\n",
    "ax.plot(xa, ha, linewidth=8, color=\"0.5\", label=\"analytical solution\")\n",
    "ax.plot(x, head[0, 0, :], color=\"red\", label=\"MODFLOW-2015\")\n",
    "leg = ax.legend(loc=\"lower left\")\n",
    "leg.draw_frame(False)\n",
    "ax.set_xlabel(\"Horizontal distance, in m\")\n",
    "ax.set_ylabel(\"Head, in m\")\n",
    "\n",
    "ax = fig.add_subplot(1, 3, 2)\n",
    "ax.plot(x, head[0, 0, :] - hac, linewidth=1, color=\"blue\")\n",
    "ax.set_xlabel(\"Horizontal distance, in m\")\n",
    "ax.set_ylabel(\"Error, in m\")\n",
    "\n",
    "ax = fig.add_subplot(1, 3, 3)\n",
    "ax.plot(x, 100.0 * (head[0, 0, :] - hac) / hac, linewidth=1, color=\"blue\")\n",
    "ax.set_xlabel(\"Horizontal distance, in m\")\n",
    "ax.set_ylabel(\"Percent Error\");"
   ]
  },
  {
   "cell_type": "code",
   "execution_count": null,
   "metadata": {
    "execution": {
     "iopub.execute_input": "2023-05-02T02:55:04.881768Z",
     "iopub.status.busy": "2023-05-02T02:55:04.880742Z",
     "iopub.status.idle": "2023-05-02T02:55:04.891170Z",
     "shell.execute_reply": "2023-05-02T02:55:04.889476Z"
    }
   },
   "outputs": [],
   "source": [
    "try:\n",
    "    # ignore PermissionError on Windows\n",
    "    temp_dir.cleanup()\n",
    "except:\n",
    "    pass"
   ]
  }
 ],
 "metadata": {
  "anaconda-cloud": {},
  "kernelspec": {
   "display_name": "Python 3 (ipykernel)",
   "language": "python",
   "name": "python3"
  },
  "language_info": {
   "codemirror_mode": {
    "name": "ipython",
    "version": 3
   },
   "file_extension": ".py",
   "mimetype": "text/x-python",
   "name": "python",
   "nbconvert_exporter": "python",
   "pygments_lexer": "ipython3",
   "version": "3.11.0"
  }
 },
 "nbformat": 4,
 "nbformat_minor": 4
}
