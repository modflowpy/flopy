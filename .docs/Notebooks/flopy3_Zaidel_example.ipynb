{
 "cells": [
  {
   "attachments": {},
   "cell_type": "markdown",
   "metadata": {},
   "source": [
    "# MODFLOW-USG: Discontinuous water table configuration over a stairway impervious base\n",
    "\n",
    "One of the most challenging numerical cases for MODFLOW arises from drying-rewetting problems often associated with abrupt changes in the elevations of impervious base of a thin unconfined aquifer. This problem simulates a discontinuous water table configuration over a stairway impervious base and flow between constant-head boundaries in column 1 and 200. This problem is based on \n",
    "\n",
    "[Zaidel, J. (2013), Discontinuous Steady-State Analytical Solutions of the Boussinesq Equation and Their Numerical Representation by Modflow. Groundwater, 51: 952–959. doi: 10.1111/gwat.12019](https://doi.org/10.1111/gwat.12019)\n",
    "\n",
    "The model consistes of a grid of 200 columns, 1 row, and 1 layer; a bottom altitude of ranging from 20 to 0 m; constant heads of 23 and 5 m in column 1 and 200, respectively; and a horizontal hydraulic conductivity of $1x10^{-4}$ m/d.  The discretization is 5 m in the row direction for all cells.\n",
    "\n",
    "In this example results from MODFLOW-USG will be evaluated."
   ]
  },
  {
   "cell_type": "code",
   "execution_count": 1,
   "metadata": {
    "execution": {
     "iopub.execute_input": "2023-05-02T02:54:57.042587Z",
     "iopub.status.busy": "2023-05-02T02:54:57.042128Z",
     "iopub.status.idle": "2023-05-02T02:54:58.234432Z",
     "shell.execute_reply": "2023-05-02T02:54:58.233289Z"
    }
   },
   "outputs": [
    {
     "name": "stdout",
     "output_type": "stream",
     "text": [
      "3.11.0 | packaged by conda-forge | (main, Jan 15 2023, 05:44:48) [Clang 14.0.6 ]\n",
      "numpy version: 1.24.2\n",
      "matplotlib version: 3.6.3\n",
      "flopy version: 3.3.7\n"
     ]
    }
   ],
   "source": [
    "import sys\n",
    "from pathlib import Path\n",
    "from tempfile import TemporaryDirectory\n",
    "\n",
    "import numpy as np\n",
    "import matplotlib as mpl\n",
    "import matplotlib.pyplot as plt\n",
    "\n",
    "proj_root = Path.cwd().parent.parent\n",
    "\n",
    "# run installed version of flopy or add local path\n",
    "try:\n",
    "    import flopy\n",
    "except:\n",
    "    sys.path.append(proj_root)\n",
    "    import flopy\n",
    "\n",
    "print(sys.version)\n",
    "print(\"numpy version: {}\".format(np.__version__))\n",
    "print(\"matplotlib version: {}\".format(mpl.__version__))\n",
    "print(\"flopy version: {}\".format(flopy.__version__))"
   ]
  },
  {
   "cell_type": "code",
   "execution_count": 2,
   "metadata": {
    "execution": {
     "iopub.execute_input": "2023-05-02T02:54:58.286427Z",
     "iopub.status.busy": "2023-05-02T02:54:58.285636Z",
     "iopub.status.idle": "2023-05-02T02:54:58.292030Z",
     "shell.execute_reply": "2023-05-02T02:54:58.290840Z"
    }
   },
   "outputs": [],
   "source": [
    "# Set temporary workspace and MODFLOW executable\n",
    "# (assume executable is in users' path variable)\n",
    "mfexe = \"mfusg\"\n",
    "modelname = \"zaidel\"\n",
    "temp_dir = TemporaryDirectory()\n",
    "workspace = Path(temp_dir.name) / modelname\n",
    "workspace.mkdir()"
   ]
  },
  {
   "cell_type": "markdown",
   "metadata": {},
   "source": [
    "## Model parameters"
   ]
  },
  {
   "cell_type": "code",
   "execution_count": 3,
   "metadata": {
    "execution": {
     "iopub.execute_input": "2023-05-02T02:54:58.295802Z",
     "iopub.status.busy": "2023-05-02T02:54:58.295269Z",
     "iopub.status.idle": "2023-05-02T02:54:58.303785Z",
     "shell.execute_reply": "2023-05-02T02:54:58.302923Z"
    }
   },
   "outputs": [],
   "source": [
    "# model dimensions\n",
    "nlay, nrow, ncol = 1, 1, 200\n",
    "delr = 50.0\n",
    "delc = 1.0\n",
    "\n",
    "# boundary heads\n",
    "h1 = 23.0\n",
    "h2 = 5.0\n",
    "\n",
    "# cell centroid locations\n",
    "x = np.arange(0.0, float(ncol) * delr, delr) + delr / 2.0\n",
    "\n",
    "# ibound\n",
    "ibound = np.ones((nlay, nrow, ncol), dtype=int)\n",
    "ibound[:, :, 0] = -1\n",
    "ibound[:, :, -1] = -1\n",
    "\n",
    "# bottom of the model\n",
    "botm = 25 * np.ones((nlay + 1, nrow, ncol), dtype=float)\n",
    "base = 20.0\n",
    "for j in range(ncol):\n",
    "    botm[1, :, j] = base\n",
    "    # if j > 0 and j % 40 == 0:\n",
    "    if j + 1 in [40, 80, 120, 160]:\n",
    "        base -= 5\n",
    "\n",
    "# starting heads\n",
    "strt = h1 * np.ones((nlay, nrow, ncol), dtype=float)\n",
    "strt[:, :, -1] = h2"
   ]
  },
  {
   "cell_type": "markdown",
   "metadata": {},
   "source": [
    "## Create and run the MODFLOW-USG model"
   ]
  },
  {
   "cell_type": "code",
   "execution_count": 4,
   "metadata": {
    "execution": {
     "iopub.execute_input": "2023-05-02T02:54:58.307176Z",
     "iopub.status.busy": "2023-05-02T02:54:58.306785Z",
     "iopub.status.idle": "2023-05-02T02:54:58.374682Z",
     "shell.execute_reply": "2023-05-02T02:54:58.373430Z"
    }
   },
   "outputs": [
    {
     "name": "stdout",
     "output_type": "stream",
     "text": [
      "\n",
      "                                  MODFLOW-USG      \n",
      "    U.S. GEOLOGICAL SURVEY MODULAR FINITE-DIFFERENCE GROUNDWATER FLOW MODEL\n",
      "                             Version 1.5.00 02/27/2019                       \n",
      "\n",
      " Using NAME file: zaidel.nam \n",
      " Run start date and time (yyyy/mm/dd hh:mm:ss): 2023/05/01 21:54:58\n",
      "\n",
      " Solving:  Stress period:     1    Time step:     1    Groundwater Flow Eqn.\n",
      " Run end date and time (yyyy/mm/dd hh:mm:ss): 2023/05/01 21:54:58\n",
      " Elapsed run time:  0.010 Seconds\n",
      "\n",
      "  Normal termination of simulation\n"
     ]
    }
   ],
   "source": [
    "# make the flopy model\n",
    "mf = flopy.mfusg.MfUsg(modelname=modelname, exe_name=mfexe, model_ws=workspace)\n",
    "dis = flopy.modflow.ModflowDis(\n",
    "    mf,\n",
    "    nlay,\n",
    "    nrow,\n",
    "    ncol,\n",
    "    delr=delr,\n",
    "    delc=delc,\n",
    "    top=botm[0, :, :],\n",
    "    botm=botm[1:, :, :],\n",
    "    perlen=1,\n",
    "    nstp=1,\n",
    "    steady=True,\n",
    ")\n",
    "bas = flopy.modflow.ModflowBas(mf, ibound=ibound, strt=strt)\n",
    "lpf = flopy.mfusg.MfUsgLpf(mf, hk=0.0001, laytyp=4)\n",
    "oc = flopy.modflow.ModflowOc(\n",
    "    mf,\n",
    "    stress_period_data={\n",
    "        (0, 0): [\"print budget\", \"print head\", \"save head\", \"save budget\"]\n",
    "    },\n",
    ")\n",
    "sms = flopy.mfusg.MfUsgSms(\n",
    "    mf,\n",
    "    nonlinmeth=1,\n",
    "    linmeth=1,\n",
    "    numtrack=50,\n",
    "    btol=1.1,\n",
    "    breduc=0.70,\n",
    "    reslim=0.0,\n",
    "    theta=0.85,\n",
    "    akappa=0.0001,\n",
    "    gamma=0.0,\n",
    "    amomentum=0.1,\n",
    "    iacl=2,\n",
    "    norder=0,\n",
    "    level=5,\n",
    "    north=7,\n",
    "    iredsys=0,\n",
    "    rrctol=0.0,\n",
    "    idroptol=1,\n",
    "    epsrn=1.0e-5,\n",
    "    mxiter=500,\n",
    "    hclose=1.0e-3,\n",
    "    hiclose=1.0e-3,\n",
    "    iter1=50,\n",
    ")\n",
    "mf.write_input()\n",
    "\n",
    "# remove any existing head files\n",
    "try:\n",
    "    (workspace / f\"{modelname}.hds\").unlink(missing_ok=True)\n",
    "except:\n",
    "    pass\n",
    "\n",
    "# run the model\n",
    "success, buff = mf.run_model(silent=True, report=True)\n",
    "assert success, \"Failed to run\"\n",
    "for line in buff:\n",
    "    print(line)"
   ]
  },
  {
   "cell_type": "markdown",
   "metadata": {},
   "source": [
    "### Read the simulated MODFLOW-USG model results"
   ]
  },
  {
   "cell_type": "code",
   "execution_count": 5,
   "metadata": {
    "execution": {
     "iopub.execute_input": "2023-05-02T02:54:58.379931Z",
     "iopub.status.busy": "2023-05-02T02:54:58.379439Z",
     "iopub.status.idle": "2023-05-02T02:54:58.387787Z",
     "shell.execute_reply": "2023-05-02T02:54:58.386812Z"
    }
   },
   "outputs": [],
   "source": [
    "# Create the mfusg headfile object\n",
    "headfile = workspace / f\"{modelname}.hds\"\n",
    "headobj = flopy.utils.HeadFile(headfile)\n",
    "times = headobj.get_times()\n",
    "mfusghead = headobj.get_data(totim=times[-1])"
   ]
  },
  {
   "cell_type": "markdown",
   "metadata": {},
   "source": [
    "### Plot MODFLOW-USG results"
   ]
  },
  {
   "cell_type": "code",
   "execution_count": 6,
   "metadata": {
    "execution": {
     "iopub.execute_input": "2023-05-02T02:54:58.391337Z",
     "iopub.status.busy": "2023-05-02T02:54:58.391021Z",
     "iopub.status.idle": "2023-05-02T02:54:58.723021Z",
     "shell.execute_reply": "2023-05-02T02:54:58.722139Z"
    }
   },
   "outputs": [
    {
     "data": {
      "image/png": "[encoded data removed]",
      "text/plain": [
       "<Figure size 800x600 with 1 Axes>"
      ]
     },
     "metadata": {},
     "output_type": "display_data"
    }
   ],
   "source": [
    "fig = plt.figure(figsize=(8, 6))\n",
    "fig.subplots_adjust(\n",
    "    left=None, bottom=None, right=None, top=None, wspace=0.25, hspace=0.25\n",
    ")\n",
    "ax = fig.add_subplot(1, 1, 1)\n",
    "ax.plot(\n",
    "    x, mfusghead[0, 0, :], linewidth=0.75, color=\"blue\", label=\"MODFLOW-USG\"\n",
    ")\n",
    "ax.fill_between(x, y1=botm[1, 0, :], y2=-5, color=\"0.5\", alpha=0.5)\n",
    "leg = ax.legend(loc=\"upper right\")\n",
    "leg.draw_frame(False)\n",
    "ax.set_xlabel(\"Horizontal distance, in m\")\n",
    "ax.set_ylabel(\"Head, in m\")\n",
    "ax.set_ylim(-5, 25);"
   ]
  },
  {
   "cell_type": "code",
   "execution_count": 7,
   "metadata": {
    "execution": {
     "iopub.execute_input": "2023-05-02T02:54:58.726983Z",
     "iopub.status.busy": "2023-05-02T02:54:58.726542Z",
     "iopub.status.idle": "2023-05-02T02:54:58.735712Z",
     "shell.execute_reply": "2023-05-02T02:54:58.734632Z"
    }
   },
   "outputs": [],
   "source": [
    "try:\n",
    "    # ignore PermissionError on Windows\n",
    "    temp_dir.cleanup()\n",
    "except:\n",
    "    pass"
   ]
  }
 ],
 "metadata": {
  "kernelspec": {
   "display_name": "Python 3 (ipykernel)",
   "language": "python",
   "name": "python3"
  },
  "language_info": {
   "codemirror_mode": {
    "name": "ipython",
    "version": 3
   },
   "file_extension": ".py",
   "mimetype": "text/x-python",
   "name": "python",
   "nbconvert_exporter": "python",
   "pygments_lexer": "ipython3",
   "version": "3.11.0"
  }
 },
 "nbformat": 4,
 "nbformat_minor": 4
}
