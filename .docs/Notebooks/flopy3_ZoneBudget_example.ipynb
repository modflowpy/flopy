{
 "cells": [
  {
   "attachments": {},
   "cell_type": "markdown",
   "metadata": {},
   "source": [
    "# ZoneBudget Example\n",
    "\n",
    "This notebook demonstrates how to use the `ZoneBudget` class to extract budget information from the cell by cell budget file using an array of zones.\n",
    "\n",
    "First set the path and import the required packages. The flopy path doesn't have to be set if you install flopy from a binary installer. If you want to run this notebook, you have to set the path to your own flopy path."
   ]
  },
  {
   "cell_type": "code",
   "execution_count": null,
   "metadata": {
    "execution": {
     "iopub.execute_input": "2023-02-22T02:45:49.637082Z",
     "iopub.status.busy": "2023-02-22T02:45:49.636536Z",
     "iopub.status.idle": "2023-02-22T02:45:50.596848Z",
     "shell.execute_reply": "2023-02-22T02:45:50.596168Z"
    }
   },
   "outputs": [],
   "source": [
    "import sys\n",
    "from pathlib import Path\n",
    "from tempfile import TemporaryDirectory\n",
    "\n",
    "import numpy as np\n",
    "import matplotlib as mpl\n",
    "import matplotlib.pyplot as plt\n",
    "import pandas as pd\n",
    "\n",
    "proj_root = Path.cwd().parent.parent\n",
    "\n",
    "# run installed version of flopy or add local path\n",
    "try:\n",
    "    import flopy\n",
    "except:\n",
    "    sys.path.append(proj_root)\n",
    "    import flopy\n",
    "\n",
    "print(sys.version)\n",
    "print(\"numpy version: {}\".format(np.__version__))\n",
    "print(\"matplotlib version: {}\".format(mpl.__version__))\n",
    "print(\"pandas version: {}\".format(pd.__version__))\n",
    "print(\"flopy version: {}\".format(flopy.__version__))"
   ]
  },
  {
   "cell_type": "code",
   "execution_count": null,
   "metadata": {
    "execution": {
     "iopub.execute_input": "2023-02-22T02:45:50.657888Z",
     "iopub.status.busy": "2023-02-22T02:45:50.657181Z",
     "iopub.status.idle": "2023-02-22T02:45:50.661779Z",
     "shell.execute_reply": "2023-02-22T02:45:50.661081Z"
    }
   },
   "outputs": [],
   "source": [
    "# temporary workspace\n",
    "temp_dir = TemporaryDirectory()\n",
    "workspace = Path(temp_dir.name)\n",
    "\n",
    "# Set path to example datafiles\n",
    "loadpth = proj_root / \"examples\" / \"data\" / \"zonbud_examples\"\n",
    "cbc_f = loadpth / \"freyberg.gitcbc\""
   ]
  },
  {
   "cell_type": "markdown",
   "metadata": {},
   "source": [
    "### Read File Containing Zones\n",
    "Using the `ZoneBudget.read_zone_file()` utility, we can import zonebudget-style array files."
   ]
  },
  {
   "cell_type": "code",
   "execution_count": null,
   "metadata": {
    "execution": {
     "iopub.execute_input": "2023-02-22T02:45:50.666029Z",
     "iopub.status.busy": "2023-02-22T02:45:50.665536Z",
     "iopub.status.idle": "2023-02-22T02:45:51.184972Z",
     "shell.execute_reply": "2023-02-22T02:45:51.184411Z"
    }
   },
   "outputs": [],
   "source": [
    "from flopy.utils import ZoneBudget\n",
    "\n",
    "zone_file = loadpth / \"zonef_mlt.zbr\"\n",
    "zon = ZoneBudget.read_zone_file(zone_file)\n",
    "nlay, nrow, ncol = zon.shape\n",
    "\n",
    "fig = plt.figure(figsize=(10, 4))\n",
    "\n",
    "for lay in range(nlay):\n",
    "    ax = fig.add_subplot(1, nlay, lay + 1)\n",
    "    im = ax.pcolormesh(zon[lay, ::-1, :])\n",
    "    cbar = plt.colorbar(im)\n",
    "    plt.gca().set_aspect(\"equal\")\n",
    "\n",
    "plt.show()"
   ]
  },
  {
   "cell_type": "markdown",
   "metadata": {},
   "source": [
    "### Extract Budget Information from ZoneBudget Object\n",
    "\n",
    "At the core of the `ZoneBudget` object is a numpy structured array. The class provides some wrapper functions to help us interogate the array and save it to disk."
   ]
  },
  {
   "cell_type": "code",
   "execution_count": null,
   "metadata": {
    "execution": {
     "iopub.execute_input": "2023-02-22T02:45:51.189193Z",
     "iopub.status.busy": "2023-02-22T02:45:51.188897Z",
     "iopub.status.idle": "2023-02-22T02:45:53.421611Z",
     "shell.execute_reply": "2023-02-22T02:45:53.420583Z"
    }
   },
   "outputs": [],
   "source": [
    "# Create a ZoneBudget object and get the budget record array\n",
    "zb = flopy.utils.ZoneBudget(cbc_f, zon, kstpkper=(0, 1096))\n",
    "zb.get_budget()"
   ]
  },
  {
   "cell_type": "code",
   "execution_count": null,
   "metadata": {
    "execution": {
     "iopub.execute_input": "2023-02-22T02:45:53.426760Z",
     "iopub.status.busy": "2023-02-22T02:45:53.426217Z",
     "iopub.status.idle": "2023-02-22T02:45:53.433613Z",
     "shell.execute_reply": "2023-02-22T02:45:53.432564Z"
    }
   },
   "outputs": [],
   "source": [
    "# Get a list of the unique budget record names\n",
    "zb.get_record_names()"
   ]
  },
  {
   "cell_type": "code",
   "execution_count": null,
   "metadata": {
    "execution": {
     "iopub.execute_input": "2023-02-22T02:45:53.438559Z",
     "iopub.status.busy": "2023-02-22T02:45:53.438101Z",
     "iopub.status.idle": "2023-02-22T02:45:53.445724Z",
     "shell.execute_reply": "2023-02-22T02:45:53.444672Z"
    }
   },
   "outputs": [],
   "source": [
    "# Look at a subset of fluxes\n",
    "names = [\"FROM_RECHARGE\", \"FROM_ZONE_1\", \"FROM_ZONE_3\"]\n",
    "zb.get_budget(names=names)"
   ]
  },
  {
   "cell_type": "code",
   "execution_count": null,
   "metadata": {
    "execution": {
     "iopub.execute_input": "2023-02-22T02:45:53.452726Z",
     "iopub.status.busy": "2023-02-22T02:45:53.452182Z",
     "iopub.status.idle": "2023-02-22T02:45:53.460287Z",
     "shell.execute_reply": "2023-02-22T02:45:53.459201Z"
    }
   },
   "outputs": [],
   "source": [
    "# Look at fluxes in from zone 2\n",
    "names = [\"FROM_RECHARGE\", \"FROM_ZONE_1\", \"FROM_ZONE_3\"]\n",
    "zones = [\"ZONE_2\"]\n",
    "zb.get_budget(names=names, zones=zones)"
   ]
  },
  {
   "cell_type": "code",
   "execution_count": null,
   "metadata": {
    "execution": {
     "iopub.execute_input": "2023-02-22T02:45:53.467155Z",
     "iopub.status.busy": "2023-02-22T02:45:53.466622Z",
     "iopub.status.idle": "2023-02-22T02:45:53.474476Z",
     "shell.execute_reply": "2023-02-22T02:45:53.473499Z"
    }
   },
   "outputs": [],
   "source": [
    "# Look at all of the mass-balance records\n",
    "names = [\"TOTAL_IN\", \"TOTAL_OUT\", \"IN-OUT\", \"PERCENT_DISCREPANCY\"]\n",
    "zb.get_budget(names=names)"
   ]
  },
  {
   "cell_type": "markdown",
   "metadata": {},
   "source": [
    "### Convert Units\n",
    "The `ZoneBudget` class supports the use of mathematical operators and returns a new copy of the object."
   ]
  },
  {
   "cell_type": "code",
   "execution_count": null,
   "metadata": {
    "execution": {
     "iopub.execute_input": "2023-02-22T02:45:53.482324Z",
     "iopub.status.busy": "2023-02-22T02:45:53.481841Z",
     "iopub.status.idle": "2023-02-22T02:45:55.525822Z",
     "shell.execute_reply": "2023-02-22T02:45:55.525083Z"
    }
   },
   "outputs": [],
   "source": [
    "cmd = flopy.utils.ZoneBudget(cbc_f, zon, kstpkper=(0, 0))\n",
    "cfd = cmd / 35.3147\n",
    "inyr = (cfd / (250 * 250)) * 365 * 12\n",
    "\n",
    "cmdbud = cmd.get_budget()\n",
    "cfdbud = cfd.get_budget()\n",
    "inyrbud = inyr.get_budget()\n",
    "\n",
    "names = [\"FROM_RECHARGE\"]\n",
    "rowidx = np.in1d(cmdbud[\"name\"], names)\n",
    "colidx = \"ZONE_1\"\n",
    "\n",
    "print(\"{:,.1f} cubic meters/day\".format(cmdbud[rowidx][colidx][0]))\n",
    "print(\"{:,.1f} cubic feet/day\".format(cfdbud[rowidx][colidx][0]))\n",
    "print(\"{:,.1f} inches/year\".format(inyrbud[rowidx][colidx][0]))"
   ]
  },
  {
   "cell_type": "code",
   "execution_count": null,
   "metadata": {
    "execution": {
     "iopub.execute_input": "2023-02-22T02:45:55.531153Z",
     "iopub.status.busy": "2023-02-22T02:45:55.530696Z",
     "iopub.status.idle": "2023-02-22T02:45:55.535821Z",
     "shell.execute_reply": "2023-02-22T02:45:55.535093Z"
    }
   },
   "outputs": [],
   "source": [
    "cmd is cfd"
   ]
  },
  {
   "cell_type": "markdown",
   "metadata": {},
   "source": [
    "### Alias Names\n",
    "A dictionary of {zone: \"alias\"} pairs can be passed to replace the typical \"ZONE_X\" fieldnames of the `ZoneBudget` structured array with more descriptive names."
   ]
  },
  {
   "cell_type": "code",
   "execution_count": null,
   "metadata": {
    "execution": {
     "iopub.execute_input": "2023-02-22T02:45:55.541696Z",
     "iopub.status.busy": "2023-02-22T02:45:55.541292Z",
     "iopub.status.idle": "2023-02-22T02:45:57.570325Z",
     "shell.execute_reply": "2023-02-22T02:45:57.569778Z"
    }
   },
   "outputs": [],
   "source": [
    "aliases = {1: \"SURF\", 2: \"CONF\", 3: \"UFA\"}\n",
    "zb = flopy.utils.ZoneBudget(cbc_f, zon, totim=[1097.0], aliases=aliases)\n",
    "zb.get_budget()"
   ]
  },
  {
   "cell_type": "markdown",
   "metadata": {},
   "source": [
    "### Return the Budgets as a Pandas DataFrame\n",
    "Set `kstpkper` and `totim` keyword args to `None` (or omit) to return all times.\n",
    "The `get_dataframes()` method will return a DataFrame multi-indexed on `totim` and `name`."
   ]
  },
  {
   "cell_type": "code",
   "execution_count": null,
   "metadata": {
    "execution": {
     "iopub.execute_input": "2023-02-22T02:45:57.574078Z",
     "iopub.status.busy": "2023-02-22T02:45:57.573584Z",
     "iopub.status.idle": "2023-02-22T02:46:00.011677Z",
     "shell.execute_reply": "2023-02-22T02:46:00.010823Z"
    }
   },
   "outputs": [],
   "source": [
    "aliases = {1: \"SURF\", 2: \"CONF\", 3: \"UFA\"}\n",
    "times = list(range(1092, 1097 + 1))\n",
    "zb = flopy.utils.ZoneBudget(cbc_f, zon, totim=times, aliases=aliases)\n",
    "zb.get_dataframes()"
   ]
  },
  {
   "cell_type": "markdown",
   "metadata": {},
   "source": [
    "Slice the multi-index dataframe to retrieve a subset of the budget.\n",
    "NOTE: We can pass \"names\" directly to the `get_dataframes()` method to return a subset of reocrds. By omitting the `\"FROM_\"` or `\"TO_\"` prefix we get both."
   ]
  },
  {
   "cell_type": "code",
   "execution_count": null,
   "metadata": {
    "execution": {
     "iopub.execute_input": "2023-02-22T02:46:00.016176Z",
     "iopub.status.busy": "2023-02-22T02:46:00.015710Z",
     "iopub.status.idle": "2023-02-22T02:46:00.031648Z",
     "shell.execute_reply": "2023-02-22T02:46:00.030876Z"
    }
   },
   "outputs": [],
   "source": [
    "dateidx1 = 1095.0\n",
    "dateidx2 = 1097.0\n",
    "names = [\"FROM_RECHARGE\", \"TO_WELLS\", \"CONSTANT_HEAD\"]\n",
    "zones = [\"SURF\", \"CONF\"]\n",
    "df = zb.get_dataframes(names=names)\n",
    "df.loc[(slice(dateidx1, dateidx2), slice(None)), :][zones]"
   ]
  },
  {
   "cell_type": "markdown",
   "metadata": {},
   "source": [
    "Look at pumpage (`TO_WELLS`) as a percentage of recharge (`FROM_RECHARGE`)"
   ]
  },
  {
   "cell_type": "code",
   "execution_count": null,
   "metadata": {
    "execution": {
     "iopub.execute_input": "2023-02-22T02:46:00.035803Z",
     "iopub.status.busy": "2023-02-22T02:46:00.035303Z",
     "iopub.status.idle": "2023-02-22T02:46:00.053707Z",
     "shell.execute_reply": "2023-02-22T02:46:00.052978Z"
    }
   },
   "outputs": [],
   "source": [
    "dateidx1 = 1095.0\n",
    "dateidx2 = 1097.0\n",
    "zones = [\"SURF\"]\n",
    "\n",
    "# Pull out the individual records of interest\n",
    "rech = df.loc[(slice(dateidx1, dateidx2), [\"FROM_RECHARGE\"]), :][zones]\n",
    "pump = df.loc[(slice(dateidx1, dateidx2), [\"TO_WELLS\"]), :][zones]\n",
    "\n",
    "# Remove the \"record\" field from the index so we can\n",
    "# take the difference of the two DataFrames\n",
    "rech = rech.reset_index()\n",
    "rech = rech.set_index([\"totim\"])\n",
    "rech = rech[zones]\n",
    "pump = pump.reset_index()\n",
    "pump = pump.set_index([\"totim\"])\n",
    "pump = pump[zones] * -1\n",
    "\n",
    "# Compute pumping as a percentage of recharge\n",
    "(pump / rech) * 100.0"
   ]
  },
  {
   "cell_type": "markdown",
   "metadata": {},
   "source": [
    "Pass `start_datetime` and `timeunit` keyword arguments to return a dataframe with a datetime multi-index"
   ]
  },
  {
   "cell_type": "code",
   "execution_count": null,
   "metadata": {
    "execution": {
     "iopub.execute_input": "2023-02-22T02:46:00.057608Z",
     "iopub.status.busy": "2023-02-22T02:46:00.057375Z",
     "iopub.status.idle": "2023-02-22T02:46:00.074522Z",
     "shell.execute_reply": "2023-02-22T02:46:00.073715Z"
    }
   },
   "outputs": [],
   "source": [
    "dateidx1 = pd.Timestamp(\"1972-12-29\")\n",
    "dateidx2 = pd.Timestamp(\"1972-12-30\")\n",
    "names = [\"FROM_RECHARGE\", \"TO_WELLS\", \"CONSTANT_HEAD\"]\n",
    "zones = [\"SURF\", \"CONF\"]\n",
    "df = zb.get_dataframes(start_datetime=\"1970-01-01\", timeunit=\"D\", names=names)\n",
    "df.loc[(slice(dateidx1, dateidx2), slice(None)), :][zones]"
   ]
  },
  {
   "cell_type": "markdown",
   "metadata": {},
   "source": [
    "Pass `index_key` to indicate which fields to use in the multi-index (default is \"totim\"; valid keys are \"totim\" and \"kstpkper\")"
   ]
  },
  {
   "cell_type": "code",
   "execution_count": null,
   "metadata": {
    "execution": {
     "iopub.execute_input": "2023-02-22T02:46:00.079753Z",
     "iopub.status.busy": "2023-02-22T02:46:00.079279Z",
     "iopub.status.idle": "2023-02-22T02:46:00.094945Z",
     "shell.execute_reply": "2023-02-22T02:46:00.094280Z"
    }
   },
   "outputs": [],
   "source": [
    "df = zb.get_dataframes(index_key=\"kstpkper\")\n",
    "df.head()"
   ]
  },
  {
   "cell_type": "markdown",
   "metadata": {},
   "source": [
    "### Write Budget Output to CSV\n",
    "\n",
    "We can write the resulting recarray to a csv file with the `.to_csv()` method of the `ZoneBudget` object."
   ]
  },
  {
   "cell_type": "code",
   "execution_count": null,
   "metadata": {
    "execution": {
     "iopub.execute_input": "2023-02-22T02:46:00.099904Z",
     "iopub.status.busy": "2023-02-22T02:46:00.099546Z",
     "iopub.status.idle": "2023-02-22T02:46:02.190241Z",
     "shell.execute_reply": "2023-02-22T02:46:02.188479Z"
    }
   },
   "outputs": [],
   "source": [
    "zb = flopy.utils.ZoneBudget(cbc_f, zon, kstpkper=[(0, 0), (0, 1096)])\n",
    "f_out = workspace / \"Example_output.csv\"\n",
    "zb.to_csv(f_out)\n",
    "\n",
    "# Read the file in to see the contents\n",
    "try:\n",
    "    import pandas as pd\n",
    "\n",
    "    print(pd.read_csv(f_out).to_string(index=False))\n",
    "except:\n",
    "    with open(f_out, \"r\") as f:\n",
    "        for line in f.readlines():\n",
    "            print(\"\\t\".join(line.split(\",\")))"
   ]
  },
  {
   "cell_type": "markdown",
   "metadata": {},
   "source": [
    "### Net Budget\n",
    "Using the \"net\" keyword argument, we can request a net budget for each zone/record name or for a subset of zones and record names. Note that we can identify the record names we want without the added `\"_IN\"` or `\"_OUT\"` string suffix."
   ]
  },
  {
   "cell_type": "code",
   "execution_count": null,
   "metadata": {
    "execution": {
     "iopub.execute_input": "2023-02-22T02:46:02.197191Z",
     "iopub.status.busy": "2023-02-22T02:46:02.196647Z",
     "iopub.status.idle": "2023-02-22T02:46:04.697024Z",
     "shell.execute_reply": "2023-02-22T02:46:04.696410Z"
    }
   },
   "outputs": [],
   "source": [
    "zon = np.ones((nlay, nrow, ncol), int)\n",
    "zon[1, :, :] = 2\n",
    "zon[2, :, :] = 3\n",
    "\n",
    "aliases = {1: \"SURF\", 2: \"CONF\", 3: \"UFA\"}\n",
    "times = list(range(1092, 1097 + 1))\n",
    "zb = flopy.utils.ZoneBudget(cbc_f, zon, totim=times, aliases=aliases)\n",
    "zb.get_budget(names=[\"STORAGE\", \"WELLS\"], zones=[\"SURF\", \"UFA\"], net=True)"
   ]
  },
  {
   "cell_type": "code",
   "execution_count": null,
   "metadata": {
    "execution": {
     "iopub.execute_input": "2023-02-22T02:46:04.702694Z",
     "iopub.status.busy": "2023-02-22T02:46:04.702354Z",
     "iopub.status.idle": "2023-02-22T02:46:04.719187Z",
     "shell.execute_reply": "2023-02-22T02:46:04.717699Z"
    }
   },
   "outputs": [],
   "source": [
    "df = zb.get_dataframes(\n",
    "    names=[\"STORAGE\", \"WELLS\"], zones=[\"SURF\", \"UFA\"], net=True\n",
    ")\n",
    "df.head(6)"
   ]
  },
  {
   "cell_type": "markdown",
   "metadata": {},
   "source": [
    "## Plot Budget Components\n",
    "The following is a function that can be used to better visualize the budget components using matplotlib."
   ]
  },
  {
   "cell_type": "code",
   "execution_count": null,
   "metadata": {
    "execution": {
     "iopub.execute_input": "2023-02-22T02:46:04.725740Z",
     "iopub.status.busy": "2023-02-22T02:46:04.725332Z",
     "iopub.status.idle": "2023-02-22T02:46:04.736424Z",
     "shell.execute_reply": "2023-02-22T02:46:04.735663Z"
    }
   },
   "outputs": [],
   "source": [
    "def tick_label_formatter_comma_sep(x, pos):\n",
    "    return \"{:,.0f}\".format(x)\n",
    "\n",
    "\n",
    "def volumetric_budget_bar_plot(values_in, values_out, labels, **kwargs):\n",
    "    if \"ax\" in kwargs:\n",
    "        ax = kwargs.pop(\"ax\")\n",
    "    else:\n",
    "        ax = plt.gca()\n",
    "\n",
    "    x_pos = np.arange(len(values_in))\n",
    "    rects_in = ax.bar(x_pos, values_in, align=\"center\", alpha=0.5)\n",
    "\n",
    "    x_pos = np.arange(len(values_out))\n",
    "    rects_out = ax.bar(x_pos, values_out, align=\"center\", alpha=0.5)\n",
    "\n",
    "    plt.xticks(list(x_pos), labels)\n",
    "    ax.set_xticklabels(ax.xaxis.get_majorticklabels(), rotation=90)\n",
    "    ax.get_yaxis().set_major_formatter(\n",
    "        mpl.ticker.FuncFormatter(tick_label_formatter_comma_sep)\n",
    "    )\n",
    "\n",
    "    ymin, ymax = ax.get_ylim()\n",
    "    if ymax != 0:\n",
    "        if abs(ymin) / ymax < 0.33:\n",
    "            ymin = -(ymax * 0.5)\n",
    "        else:\n",
    "            ymin *= 1.35\n",
    "    else:\n",
    "        ymin *= 1.35\n",
    "    plt.ylim([ymin, ymax * 1.25])\n",
    "\n",
    "    for i, rect in enumerate(rects_in):\n",
    "        label = \"{:,.0f}\".format(values_in[i])\n",
    "        height = values_in[i]\n",
    "        x = rect.get_x() + rect.get_width() / 2\n",
    "        y = height + (0.02 * ymax)\n",
    "        vertical_alignment = \"bottom\"\n",
    "        horizontal_alignment = \"center\"\n",
    "        ax.text(\n",
    "            x,\n",
    "            y,\n",
    "            label,\n",
    "            ha=horizontal_alignment,\n",
    "            va=vertical_alignment,\n",
    "            rotation=90,\n",
    "        )\n",
    "\n",
    "    for i, rect in enumerate(rects_out):\n",
    "        label = \"{:,.0f}\".format(values_out[i])\n",
    "        height = values_out[i]\n",
    "        x = rect.get_x() + rect.get_width() / 2\n",
    "        y = height + (0.02 * ymin)\n",
    "        vertical_alignment = \"top\"\n",
    "        horizontal_alignment = \"center\"\n",
    "        ax.text(\n",
    "            x,\n",
    "            y,\n",
    "            label,\n",
    "            ha=horizontal_alignment,\n",
    "            va=vertical_alignment,\n",
    "            rotation=90,\n",
    "        )\n",
    "\n",
    "    # horizontal line indicating zero\n",
    "    ax.plot(\n",
    "        [\n",
    "            rects_in[0].get_x() - rects_in[0].get_width() / 2,\n",
    "            rects_in[-1].get_x() + rects_in[-1].get_width(),\n",
    "        ],\n",
    "        [0, 0],\n",
    "        \"k\",\n",
    "    )\n",
    "\n",
    "    return rects_in, rects_out"
   ]
  },
  {
   "cell_type": "code",
   "execution_count": null,
   "metadata": {
    "execution": {
     "iopub.execute_input": "2023-02-22T02:46:04.741050Z",
     "iopub.status.busy": "2023-02-22T02:46:04.740719Z",
     "iopub.status.idle": "2023-02-22T02:46:13.374728Z",
     "shell.execute_reply": "2023-02-22T02:46:13.373945Z"
    }
   },
   "outputs": [],
   "source": [
    "fig = plt.figure(figsize=(16, 5))\n",
    "\n",
    "times = [2.0, 500.0, 1000.0, 1095.0]\n",
    "\n",
    "for idx, t in enumerate(times):\n",
    "    ax = fig.add_subplot(1, len(times), idx + 1)\n",
    "\n",
    "    zb = flopy.utils.ZoneBudget(\n",
    "        cbc_f, zon, kstpkper=None, totim=t, aliases=aliases\n",
    "    )\n",
    "\n",
    "    recname = \"STORAGE\"\n",
    "    values_in = zb.get_dataframes(names=\"FROM_{}\".format(recname)).T.squeeze()\n",
    "    values_out = (\n",
    "        zb.get_dataframes(names=\"TO_{}\".format(recname)).T.squeeze() * -1\n",
    "    )\n",
    "    labels = values_in.index.tolist()\n",
    "\n",
    "    rects_in, rects_out = volumetric_budget_bar_plot(\n",
    "        values_in, values_out, labels, ax=ax\n",
    "    )\n",
    "\n",
    "    plt.ylabel(\"Volumetric rate, in Mgal/d\")\n",
    "    plt.title(\"{} @ totim = {}\".format(recname, t))\n",
    "\n",
    "plt.tight_layout()\n",
    "plt.show()"
   ]
  },
  {
   "cell_type": "markdown",
   "metadata": {},
   "source": [
    "# Zonebudget for Modflow 6 (`ZoneBudget6`)\n",
    "\n",
    "This section shows how to build and run a Zonebudget when working with a MODFLOW 6 model. \n",
    "\n",
    "First let's load a model"
   ]
  },
  {
   "cell_type": "code",
   "execution_count": null,
   "metadata": {
    "execution": {
     "iopub.execute_input": "2023-02-22T02:46:13.379620Z",
     "iopub.status.busy": "2023-02-22T02:46:13.379168Z",
     "iopub.status.idle": "2023-02-22T02:46:13.578542Z",
     "shell.execute_reply": "2023-02-22T02:46:13.577163Z"
    }
   },
   "outputs": [],
   "source": [
    "mf6_exe = \"mf6\"\n",
    "zb6_exe = \"zbud6\"\n",
    "\n",
    "sim_ws = proj_root / \"examples\" / \"data\" / \"mf6-freyberg\"\n",
    "cpth = workspace / \"zbud6\"\n",
    "cpth.mkdir()\n",
    "\n",
    "sim = flopy.mf6.MFSimulation.load(sim_ws=sim_ws, exe_name=mf6_exe)\n",
    "sim.simulation_data.mfpath.set_sim_path(cpth)\n",
    "sim.write_simulation()\n",
    "success, buff = sim.run_simulation(silent=True, report=True)\n",
    "assert success, \"Failed to run\"\n",
    "for line in buff:\n",
    "    print(line)"
   ]
  },
  {
   "cell_type": "markdown",
   "metadata": {},
   "source": [
    "### Use the the `.output` model attribute to create a zonebudget model\n",
    "\n",
    "The `.output` attribute allows the user to access model output and create zonebudget models easily. The user only needs to pass in a zone array to create a zonebudget model!"
   ]
  },
  {
   "cell_type": "code",
   "execution_count": null,
   "metadata": {
    "execution": {
     "iopub.execute_input": "2023-02-22T02:46:13.583322Z",
     "iopub.status.busy": "2023-02-22T02:46:13.582846Z",
     "iopub.status.idle": "2023-02-22T02:46:13.856740Z",
     "shell.execute_reply": "2023-02-22T02:46:13.855694Z"
    }
   },
   "outputs": [],
   "source": [
    "# let's get our idomain array from the model, split it into two zones, and use it as a zone array\n",
    "ml = sim.get_model(\"freyberg\")\n",
    "zones = ml.modelgrid.idomain\n",
    "zones[0, 20:] = np.where(zones[0, 20:] != 0, 2, 0)\n",
    "\n",
    "plt.imshow(zones[0])\n",
    "plt.colorbar();"
   ]
  },
  {
   "cell_type": "code",
   "execution_count": null,
   "metadata": {
    "execution": {
     "iopub.execute_input": "2023-02-22T02:46:13.862484Z",
     "iopub.status.busy": "2023-02-22T02:46:13.861582Z",
     "iopub.status.idle": "2023-02-22T02:46:13.885617Z",
     "shell.execute_reply": "2023-02-22T02:46:13.884659Z"
    }
   },
   "outputs": [],
   "source": [
    "# now let's build a zonebudget model and run it!\n",
    "zonbud = ml.output.zonebudget(zones)\n",
    "zonbud.change_model_ws(cpth)\n",
    "zonbud.write_input()\n",
    "success, buff = zonbud.run_model(exe_name=zb6_exe, silent=True)"
   ]
  },
  {
   "cell_type": "markdown",
   "metadata": {},
   "source": [
    "### Getting the zonebudget output\n",
    "\n",
    "We can then get the output as a recarray using the `.get_budget()` method or as a pandas dataframe using the `.get_dataframes()` method."
   ]
  },
  {
   "cell_type": "code",
   "execution_count": null,
   "metadata": {
    "execution": {
     "iopub.execute_input": "2023-02-22T02:46:13.890357Z",
     "iopub.status.busy": "2023-02-22T02:46:13.889493Z",
     "iopub.status.idle": "2023-02-22T02:46:13.899541Z",
     "shell.execute_reply": "2023-02-22T02:46:13.898890Z"
    }
   },
   "outputs": [],
   "source": [
    "zonbud.get_budget()"
   ]
  },
  {
   "cell_type": "code",
   "execution_count": null,
   "metadata": {
    "execution": {
     "iopub.execute_input": "2023-02-22T02:46:13.903573Z",
     "iopub.status.busy": "2023-02-22T02:46:13.902752Z",
     "iopub.status.idle": "2023-02-22T02:46:13.925030Z",
     "shell.execute_reply": "2023-02-22T02:46:13.923977Z"
    }
   },
   "outputs": [],
   "source": [
    "# get the net flux using net=True flag\n",
    "zonbud.get_dataframes(net=True)"
   ]
  },
  {
   "cell_type": "code",
   "execution_count": null,
   "metadata": {
    "execution": {
     "iopub.execute_input": "2023-02-22T02:46:13.929689Z",
     "iopub.status.busy": "2023-02-22T02:46:13.929167Z",
     "iopub.status.idle": "2023-02-22T02:46:13.947483Z",
     "shell.execute_reply": "2023-02-22T02:46:13.946741Z"
    }
   },
   "outputs": [],
   "source": [
    "# we can also pivot the data into a spreadsheet like format\n",
    "zonbud.get_dataframes(net=True, pivot=True)"
   ]
  },
  {
   "cell_type": "code",
   "execution_count": null,
   "metadata": {
    "execution": {
     "iopub.execute_input": "2023-02-22T02:46:13.950689Z",
     "iopub.status.busy": "2023-02-22T02:46:13.950335Z",
     "iopub.status.idle": "2023-02-22T02:46:13.968184Z",
     "shell.execute_reply": "2023-02-22T02:46:13.966908Z"
    }
   },
   "outputs": [],
   "source": [
    "# or get a volumetric budget by supplying modeltime\n",
    "mt = ml.modeltime\n",
    "\n",
    "# budget recarray must be pivoted to get volumetric budget!\n",
    "zonbud.get_volumetric_budget(\n",
    "    mt, recarray=zonbud.get_budget(net=True, pivot=True)\n",
    ")"
   ]
  },
  {
   "cell_type": "code",
   "execution_count": null,
   "metadata": {
    "execution": {
     "iopub.execute_input": "2023-02-22T02:46:13.972756Z",
     "iopub.status.busy": "2023-02-22T02:46:13.972261Z",
     "iopub.status.idle": "2023-02-22T02:46:13.977832Z",
     "shell.execute_reply": "2023-02-22T02:46:13.976797Z"
    }
   },
   "outputs": [],
   "source": [
    "try:\n",
    "    # ignore PermissionError on Windows\n",
    "    temp_dir.cleanup()\n",
    "except:\n",
    "    pass"
   ]
  }
 ],
 "metadata": {
  "anaconda-cloud": {},
  "kernelspec": {
   "display_name": "Python 3 (ipykernel)",
   "language": "python",
   "name": "python3"
  },
  "language_info": {
   "codemirror_mode": {
    "name": "ipython",
    "version": 3
   },
   "file_extension": ".py",
   "mimetype": "text/x-python",
   "name": "python",
   "nbconvert_exporter": "python",
   "pygments_lexer": "ipython3",
   "version": "3.10.6"
  }
 },
 "nbformat": 4,
 "nbformat_minor": 4
}
