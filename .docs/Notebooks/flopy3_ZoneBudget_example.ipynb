{
 "cells": [
  {
   "attachments": {},
   "cell_type": "markdown",
   "metadata": {},
   "source": [
    "# ZoneBudget Example\n",
    "\n",
    "This notebook demonstrates how to use the `ZoneBudget` class to extract budget information from the cell by cell budget file using an array of zones.\n",
    "\n",
    "First set the path and import the required packages. The flopy path doesn't have to be set if you install flopy from a binary installer. If you want to run this notebook, you have to set the path to your own flopy path."
   ]
  },
  {
   "cell_type": "code",
   "execution_count": 1,
   "metadata": {
    "execution": {
     "iopub.execute_input": "2023-05-02T02:55:03.164847Z",
     "iopub.status.busy": "2023-05-02T02:55:03.164490Z",
     "iopub.status.idle": "2023-05-02T02:55:04.556487Z",
     "shell.execute_reply": "2023-05-02T02:55:04.555525Z"
    }
   },
   "outputs": [
    {
     "name": "stdout",
     "output_type": "stream",
     "text": [
      "3.11.0 | packaged by conda-forge | (main, Jan 15 2023, 05:44:48) [Clang 14.0.6 ]\n",
      "numpy version: 1.24.2\n",
      "matplotlib version: 3.6.3\n",
      "pandas version: 1.5.3\n",
      "flopy version: 3.3.7\n"
     ]
    }
   ],
   "source": [
    "import sys\n",
    "from pathlib import Path\n",
    "from tempfile import TemporaryDirectory\n",
    "\n",
    "import numpy as np\n",
    "import matplotlib as mpl\n",
    "import matplotlib.pyplot as plt\n",
    "import pandas as pd\n",
    "\n",
    "proj_root = Path.cwd().parent.parent\n",
    "\n",
    "# run installed version of flopy or add local path\n",
    "try:\n",
    "    import flopy\n",
    "except:\n",
    "    sys.path.append(proj_root)\n",
    "    import flopy\n",
    "\n",
    "print(sys.version)\n",
    "print(\"numpy version: {}\".format(np.__version__))\n",
    "print(\"matplotlib version: {}\".format(mpl.__version__))\n",
    "print(\"pandas version: {}\".format(pd.__version__))\n",
    "print(\"flopy version: {}\".format(flopy.__version__))"
   ]
  },
  {
   "cell_type": "code",
   "execution_count": 2,
   "metadata": {
    "execution": {
     "iopub.execute_input": "2023-05-02T02:55:04.612055Z",
     "iopub.status.busy": "2023-05-02T02:55:04.611638Z",
     "iopub.status.idle": "2023-05-02T02:55:04.618646Z",
     "shell.execute_reply": "2023-05-02T02:55:04.617878Z"
    }
   },
   "outputs": [],
   "source": [
    "# temporary workspace\n",
    "temp_dir = TemporaryDirectory()\n",
    "workspace = Path(temp_dir.name)\n",
    "\n",
    "# Set path to example datafiles\n",
    "loadpth = proj_root / \"examples\" / \"data\" / \"zonbud_examples\"\n",
    "cbc_f = loadpth / \"freyberg.gitcbc\""
   ]
  },
  {
   "cell_type": "markdown",
   "metadata": {},
   "source": [
    "### Read File Containing Zones\n",
    "Using the `ZoneBudget.read_zone_file()` utility, we can import zonebudget-style array files."
   ]
  },
  {
   "cell_type": "code",
   "execution_count": 3,
   "metadata": {
    "execution": {
     "iopub.execute_input": "2023-05-02T02:55:04.621732Z",
     "iopub.status.busy": "2023-05-02T02:55:04.621441Z",
     "iopub.status.idle": "2023-05-02T02:55:05.202931Z",
     "shell.execute_reply": "2023-05-02T02:55:05.202130Z"
    }
   },
   "outputs": [
    {
     "data": {
      "image/png": "[encoded data removed]",
      "text/plain": [
       "<Figure size 1000x400 with 6 Axes>"
      ]
     },
     "metadata": {},
     "output_type": "display_data"
    }
   ],
   "source": [
    "from flopy.utils import ZoneBudget\n",
    "\n",
    "zone_file = loadpth / \"zonef_mlt.zbr\"\n",
    "zon = ZoneBudget.read_zone_file(zone_file)\n",
    "nlay, nrow, ncol = zon.shape\n",
    "\n",
    "fig = plt.figure(figsize=(10, 4))\n",
    "\n",
    "for lay in range(nlay):\n",
    "    ax = fig.add_subplot(1, nlay, lay + 1)\n",
    "    im = ax.pcolormesh(zon[lay, ::-1, :])\n",
    "    cbar = plt.colorbar(im)\n",
    "    plt.gca().set_aspect(\"equal\")\n",
    "\n",
    "plt.show()"
   ]
  },
  {
   "cell_type": "markdown",
   "metadata": {},
   "source": [
    "### Extract Budget Information from ZoneBudget Object\n",
    "\n",
    "At the core of the `ZoneBudget` object is a numpy structured array. The class provides some wrapper functions to help us interogate the array and save it to disk."
   ]
  },
  {
   "cell_type": "code",
   "execution_count": 4,
   "metadata": {
    "execution": {
     "iopub.execute_input": "2023-05-02T02:55:05.206304Z",
     "iopub.status.busy": "2023-05-02T02:55:05.205956Z",
     "iopub.status.idle": "2023-05-02T02:55:08.931399Z",
     "shell.execute_reply": "2023-05-02T02:55:08.930306Z"
    }
   },
   "outputs": [
    {
     "data": {
      "text/plain": [
       "array([(1097., 0, 1096, 'FROM_STORAGE',  0., 0.0000000e+00, 0.0000000e+00, 0.0000000e+00),\n",
       "       (1097., 0, 1096, 'FROM_CONSTANT_HEAD',  0., 0.0000000e+00, 2.3156659e+02, 8.6217201e+01),\n",
       "       (1097., 0, 1096, 'FROM_WELLS',  0., 0.0000000e+00, 0.0000000e+00, 0.0000000e+00),\n",
       "       (1097., 0, 1096, 'FROM_DRAINS',  0., 0.0000000e+00, 0.0000000e+00, 0.0000000e+00),\n",
       "       (1097., 0, 1096, 'FROM_RECHARGE',  0., 5.1455815e+03, 1.4936376e+01, 2.9872751e+01),\n",
       "       (1097., 0, 1096, 'FROM_ZONE_0',  0., 0.0000000e+00, 0.0000000e+00, 0.0000000e+00),\n",
       "       (1097., 0, 1096, 'FROM_ZONE_1',  0., 0.0000000e+00, 3.4751235e+03, 1.3860045e+02),\n",
       "       (1097., 0, 1096, 'FROM_ZONE_2',  0., 3.2693188e+03, 0.0000000e+00, 1.7646553e+03),\n",
       "       (1097., 0, 1096, 'FROM_ZONE_3',  0., 1.9218604e+02, 1.5280482e+03, 0.0000000e+00),\n",
       "       (1097., 0, 1096, 'TOTAL_IN',  0., 8.6070859e+03, 5.2496748e+03, 2.0193457e+03),\n",
       "       (1097., 0, 1096, 'TO_STORAGE',  0., 0.0000000e+00, 0.0000000e+00, 0.0000000e+00),\n",
       "       (1097., 0, 1096, 'TO_CONSTANT_HEAD',  0., 2.3054836e+02, 2.1570151e+02, 2.9911380e+02),\n",
       "       (1097., 0, 1096, 'TO_WELLS',  0., 4.7627998e+03, 0.0000000e+00, 0.0000000e+00),\n",
       "       (1097., 0, 1096, 'TO_DRAINS',  0., 0.0000000e+00, 0.0000000e+00, 0.0000000e+00),\n",
       "       (1097., 0, 1096, 'TO_RECHARGE',  0., 0.0000000e+00, 0.0000000e+00, 0.0000000e+00),\n",
       "       (1097., 0, 1096, 'TO_ZONE_0',  0., 0.0000000e+00, 0.0000000e+00, 0.0000000e+00),\n",
       "       (1097., 0, 1096, 'TO_ZONE_1',  0., 0.0000000e+00, 3.2693188e+03, 1.9218604e+02),\n",
       "       (1097., 0, 1096, 'TO_ZONE_2',  0., 3.4751235e+03, 0.0000000e+00, 1.5280482e+03),\n",
       "       (1097., 0, 1096, 'TO_ZONE_3',  0., 1.3860045e+02, 1.7646553e+03, 0.0000000e+00),\n",
       "       (1097., 0, 1096, 'TOTAL_OUT',  0., 8.6070723e+03, 5.2496758e+03, 2.0193480e+03),\n",
       "       (1097., 0, 1096, 'IN-OUT',  0., 1.3671875e-02, 9.7656250e-04, 2.3193359e-03),\n",
       "       (1097., 0, 1096, 'PERCENT_DISCREPANCY', nan, 1.5884454e-04, 1.8602341e-05, 1.1485574e-04)],\n",
       "      dtype=[('totim', '<f4'), ('time_step', '<i4'), ('stress_period', '<i4'), ('name', '<U50'), ('ZONE_0', '<f4'), ('ZONE_1', '<f4'), ('ZONE_2', '<f4'), ('ZONE_3', '<f4')])"
      ]
     },
     "execution_count": 4,
     "metadata": {},
     "output_type": "execute_result"
    }
   ],
   "source": [
    "# Create a ZoneBudget object and get the budget record array\n",
    "zb = flopy.utils.ZoneBudget(cbc_f, zon, kstpkper=(0, 1096))\n",
    "zb.get_budget()"
   ]
  },
  {
   "cell_type": "code",
   "execution_count": 5,
   "metadata": {
    "execution": {
     "iopub.execute_input": "2023-05-02T02:55:08.935136Z",
     "iopub.status.busy": "2023-05-02T02:55:08.934741Z",
     "iopub.status.idle": "2023-05-02T02:55:08.941226Z",
     "shell.execute_reply": "2023-05-02T02:55:08.940245Z"
    }
   },
   "outputs": [
    {
     "data": {
      "text/plain": [
       "array(['FROM_CONSTANT_HEAD', 'FROM_DRAINS', 'FROM_RECHARGE',\n",
       "       'FROM_STORAGE', 'FROM_WELLS', 'FROM_ZONE_0', 'FROM_ZONE_1',\n",
       "       'FROM_ZONE_2', 'FROM_ZONE_3', 'IN-OUT', 'PERCENT_DISCREPANCY',\n",
       "       'TOTAL_IN', 'TOTAL_OUT', 'TO_CONSTANT_HEAD', 'TO_DRAINS',\n",
       "       'TO_RECHARGE', 'TO_STORAGE', 'TO_WELLS', 'TO_ZONE_0', 'TO_ZONE_1',\n",
       "       'TO_ZONE_2', 'TO_ZONE_3'], dtype='<U50')"
      ]
     },
     "execution_count": 5,
     "metadata": {},
     "output_type": "execute_result"
    }
   ],
   "source": [
    "# Get a list of the unique budget record names\n",
    "zb.get_record_names()"
   ]
  },
  {
   "cell_type": "code",
   "execution_count": 6,
   "metadata": {
    "execution": {
     "iopub.execute_input": "2023-05-02T02:55:08.944372Z",
     "iopub.status.busy": "2023-05-02T02:55:08.943999Z",
     "iopub.status.idle": "2023-05-02T02:55:08.951002Z",
     "shell.execute_reply": "2023-05-02T02:55:08.949867Z"
    }
   },
   "outputs": [
    {
     "data": {
      "text/plain": [
       "array([(1097., 0, 1096, 'FROM_RECHARGE', 0., 5145.5815 ,   14.936376,  29.872751),\n",
       "       (1097., 0, 1096, 'FROM_ZONE_1', 0.,    0.     , 3475.1235  , 138.60045 ),\n",
       "       (1097., 0, 1096, 'FROM_ZONE_3', 0.,  192.18604, 1528.0482  ,   0.      )],\n",
       "      dtype=[('totim', '<f4'), ('time_step', '<i4'), ('stress_period', '<i4'), ('name', '<U50'), ('ZONE_0', '<f4'), ('ZONE_1', '<f4'), ('ZONE_2', '<f4'), ('ZONE_3', '<f4')])"
      ]
     },
     "execution_count": 6,
     "metadata": {},
     "output_type": "execute_result"
    }
   ],
   "source": [
    "# Look at a subset of fluxes\n",
    "names = [\"FROM_RECHARGE\", \"FROM_ZONE_1\", \"FROM_ZONE_3\"]\n",
    "zb.get_budget(names=names)"
   ]
  },
  {
   "cell_type": "code",
   "execution_count": 7,
   "metadata": {
    "execution": {
     "iopub.execute_input": "2023-05-02T02:55:08.953745Z",
     "iopub.status.busy": "2023-05-02T02:55:08.953483Z",
     "iopub.status.idle": "2023-05-02T02:55:08.958841Z",
     "shell.execute_reply": "2023-05-02T02:55:08.958205Z"
    }
   },
   "outputs": [
    {
     "data": {
      "text/plain": [
       "array([(1097., 0, 1096, 'FROM_RECHARGE',   14.936376),\n",
       "       (1097., 0, 1096, 'FROM_ZONE_1', 3475.1235  ),\n",
       "       (1097., 0, 1096, 'FROM_ZONE_3', 1528.0482  )],\n",
       "      dtype={'names': ['totim', 'time_step', 'stress_period', 'name', 'ZONE_2'], 'formats': ['<f4', '<i4', '<i4', '<U50', '<f4'], 'offsets': [0, 4, 8, 12, 220], 'itemsize': 228})"
      ]
     },
     "execution_count": 7,
     "metadata": {},
     "output_type": "execute_result"
    }
   ],
   "source": [
    "# Look at fluxes in from zone 2\n",
    "names = [\"FROM_RECHARGE\", \"FROM_ZONE_1\", \"FROM_ZONE_3\"]\n",
    "zones = [\"ZONE_2\"]\n",
    "zb.get_budget(names=names, zones=zones)"
   ]
  },
  {
   "cell_type": "code",
   "execution_count": 8,
   "metadata": {
    "execution": {
     "iopub.execute_input": "2023-05-02T02:55:08.961098Z",
     "iopub.status.busy": "2023-05-02T02:55:08.960846Z",
     "iopub.status.idle": "2023-05-02T02:55:08.965709Z",
     "shell.execute_reply": "2023-05-02T02:55:08.965153Z"
    }
   },
   "outputs": [
    {
     "data": {
      "text/plain": [
       "array([(1097., 0, 1096, 'TOTAL_IN',  0., 8.6070859e+03, 5.249675e+03, 2.0193457e+03),\n",
       "       (1097., 0, 1096, 'TOTAL_OUT',  0., 8.6070723e+03, 5.249676e+03, 2.0193480e+03),\n",
       "       (1097., 0, 1096, 'IN-OUT',  0., 1.3671875e-02, 9.765625e-04, 2.3193359e-03),\n",
       "       (1097., 0, 1096, 'PERCENT_DISCREPANCY', nan, 1.5884454e-04, 1.860234e-05, 1.1485574e-04)],\n",
       "      dtype=[('totim', '<f4'), ('time_step', '<i4'), ('stress_period', '<i4'), ('name', '<U50'), ('ZONE_0', '<f4'), ('ZONE_1', '<f4'), ('ZONE_2', '<f4'), ('ZONE_3', '<f4')])"
      ]
     },
     "execution_count": 8,
     "metadata": {},
     "output_type": "execute_result"
    }
   ],
   "source": [
    "# Look at all of the mass-balance records\n",
    "names = [\"TOTAL_IN\", \"TOTAL_OUT\", \"IN-OUT\", \"PERCENT_DISCREPANCY\"]\n",
    "zb.get_budget(names=names)"
   ]
  },
  {
   "cell_type": "markdown",
   "metadata": {},
   "source": [
    "### Convert Units\n",
    "The `ZoneBudget` class supports the use of mathematical operators and returns a new copy of the object."
   ]
  },
  {
   "cell_type": "code",
   "execution_count": 9,
   "metadata": {
    "execution": {
     "iopub.execute_input": "2023-05-02T02:55:08.968438Z",
     "iopub.status.busy": "2023-05-02T02:55:08.968121Z",
     "iopub.status.idle": "2023-05-02T02:55:12.781919Z",
     "shell.execute_reply": "2023-05-02T02:55:12.781004Z"
    }
   },
   "outputs": [
    {
     "name": "stdout",
     "output_type": "stream",
     "text": [
      "6,222.7 cubic meters/day\n",
      "176.2 cubic feet/day\n",
      "12.3 inches/year\n"
     ]
    }
   ],
   "source": [
    "cmd = flopy.utils.ZoneBudget(cbc_f, zon, kstpkper=(0, 0))\n",
    "cfd = cmd / 35.3147\n",
    "inyr = (cfd / (250 * 250)) * 365 * 12\n",
    "\n",
    "cmdbud = cmd.get_budget()\n",
    "cfdbud = cfd.get_budget()\n",
    "inyrbud = inyr.get_budget()\n",
    "\n",
    "names = [\"FROM_RECHARGE\"]\n",
    "rowidx = np.in1d(cmdbud[\"name\"], names)\n",
    "colidx = \"ZONE_1\"\n",
    "\n",
    "print(\"{:,.1f} cubic meters/day\".format(cmdbud[rowidx][colidx][0]))\n",
    "print(\"{:,.1f} cubic feet/day\".format(cfdbud[rowidx][colidx][0]))\n",
    "print(\"{:,.1f} inches/year\".format(inyrbud[rowidx][colidx][0]))"
   ]
  },
  {
   "cell_type": "code",
   "execution_count": 10,
   "metadata": {
    "execution": {
     "iopub.execute_input": "2023-05-02T02:55:12.785200Z",
     "iopub.status.busy": "2023-05-02T02:55:12.784842Z",
     "iopub.status.idle": "2023-05-02T02:55:12.790633Z",
     "shell.execute_reply": "2023-05-02T02:55:12.789521Z"
    }
   },
   "outputs": [
    {
     "data": {
      "text/plain": [
       "False"
      ]
     },
     "execution_count": 10,
     "metadata": {},
     "output_type": "execute_result"
    }
   ],
   "source": [
    "cmd is cfd"
   ]
  },
  {
   "cell_type": "markdown",
   "metadata": {},
   "source": [
    "### Alias Names\n",
    "A dictionary of {zone: \"alias\"} pairs can be passed to replace the typical \"ZONE_X\" fieldnames of the `ZoneBudget` structured array with more descriptive names."
   ]
  },
  {
   "cell_type": "code",
   "execution_count": 11,
   "metadata": {
    "execution": {
     "iopub.execute_input": "2023-05-02T02:55:12.794581Z",
     "iopub.status.busy": "2023-05-02T02:55:12.794225Z",
     "iopub.status.idle": "2023-05-02T02:55:16.466327Z",
     "shell.execute_reply": "2023-05-02T02:55:16.465746Z"
    }
   },
   "outputs": [
    {
     "data": {
      "text/plain": [
       "array([(1097., 0, 1096, 'FROM_STORAGE',  0., 0.0000000e+00, 0.0000000e+00, 0.0000000e+00),\n",
       "       (1097., 0, 1096, 'FROM_CONSTANT_HEAD',  0., 0.0000000e+00, 2.3156659e+02, 8.6217201e+01),\n",
       "       (1097., 0, 1096, 'FROM_WELLS',  0., 0.0000000e+00, 0.0000000e+00, 0.0000000e+00),\n",
       "       (1097., 0, 1096, 'FROM_DRAINS',  0., 0.0000000e+00, 0.0000000e+00, 0.0000000e+00),\n",
       "       (1097., 0, 1096, 'FROM_RECHARGE',  0., 5.1455815e+03, 1.4936376e+01, 2.9872751e+01),\n",
       "       (1097., 0, 1096, 'FROM_ZONE_0',  0., 0.0000000e+00, 0.0000000e+00, 0.0000000e+00),\n",
       "       (1097., 0, 1096, 'FROM_SURF',  0., 0.0000000e+00, 3.4751235e+03, 1.3860045e+02),\n",
       "       (1097., 0, 1096, 'FROM_CONF',  0., 3.2693188e+03, 0.0000000e+00, 1.7646553e+03),\n",
       "       (1097., 0, 1096, 'FROM_UFA',  0., 1.9218604e+02, 1.5280482e+03, 0.0000000e+00),\n",
       "       (1097., 0, 1096, 'TOTAL_IN',  0., 8.6070859e+03, 5.2496748e+03, 2.0193457e+03),\n",
       "       (1097., 0, 1096, 'TO_STORAGE',  0., 0.0000000e+00, 0.0000000e+00, 0.0000000e+00),\n",
       "       (1097., 0, 1096, 'TO_CONSTANT_HEAD',  0., 2.3054836e+02, 2.1570151e+02, 2.9911380e+02),\n",
       "       (1097., 0, 1096, 'TO_WELLS',  0., 4.7627998e+03, 0.0000000e+00, 0.0000000e+00),\n",
       "       (1097., 0, 1096, 'TO_DRAINS',  0., 0.0000000e+00, 0.0000000e+00, 0.0000000e+00),\n",
       "       (1097., 0, 1096, 'TO_RECHARGE',  0., 0.0000000e+00, 0.0000000e+00, 0.0000000e+00),\n",
       "       (1097., 0, 1096, 'TO_ZONE_0',  0., 0.0000000e+00, 0.0000000e+00, 0.0000000e+00),\n",
       "       (1097., 0, 1096, 'TO_SURF',  0., 0.0000000e+00, 3.2693188e+03, 1.9218604e+02),\n",
       "       (1097., 0, 1096, 'TO_CONF',  0., 3.4751235e+03, 0.0000000e+00, 1.5280482e+03),\n",
       "       (1097., 0, 1096, 'TO_UFA',  0., 1.3860045e+02, 1.7646553e+03, 0.0000000e+00),\n",
       "       (1097., 0, 1096, 'TOTAL_OUT',  0., 8.6070723e+03, 5.2496758e+03, 2.0193480e+03),\n",
       "       (1097., 0, 1096, 'IN-OUT',  0., 1.3671875e-02, 9.7656250e-04, 2.3193359e-03),\n",
       "       (1097., 0, 1096, 'PERCENT_DISCREPANCY', nan, 1.5884454e-04, 1.8602341e-05, 1.1485574e-04)],\n",
       "      dtype=[('totim', '<f4'), ('time_step', '<i4'), ('stress_period', '<i4'), ('name', '<U50'), ('ZONE_0', '<f4'), ('SURF', '<f4'), ('CONF', '<f4'), ('UFA', '<f4')])"
      ]
     },
     "execution_count": 11,
     "metadata": {},
     "output_type": "execute_result"
    }
   ],
   "source": [
    "aliases = {1: \"SURF\", 2: \"CONF\", 3: \"UFA\"}\n",
    "zb = flopy.utils.ZoneBudget(cbc_f, zon, totim=[1097.0], aliases=aliases)\n",
    "zb.get_budget()"
   ]
  },
  {
   "cell_type": "markdown",
   "metadata": {},
   "source": [
    "### Return the Budgets as a Pandas DataFrame\n",
    "Set `kstpkper` and `totim` keyword args to `None` (or omit) to return all times.\n",
    "The `get_dataframes()` method will return a DataFrame multi-indexed on `totim` and `name`."
   ]
  },
  {
   "cell_type": "code",
   "execution_count": 12,
   "metadata": {
    "execution": {
     "iopub.execute_input": "2023-05-02T02:55:16.469740Z",
     "iopub.status.busy": "2023-05-02T02:55:16.469362Z",
     "iopub.status.idle": "2023-05-02T02:55:20.354451Z",
     "shell.execute_reply": "2023-05-02T02:55:20.353764Z"
    }
   },
   "outputs": [
    {
     "data": {
      "text/html": [
       "<div>\n",
       "<style scoped>\n",
       "    .dataframe tbody tr th:only-of-type {\n",
       "        vertical-align: middle;\n",
       "    }\n",
       "\n",
       "    .dataframe tbody tr th {\n",
       "        vertical-align: top;\n",
       "    }\n",
       "\n",
       "    .dataframe thead th {\n",
       "        text-align: right;\n",
       "    }\n",
       "</style>\n",
       "<table border=\"1\" class=\"dataframe\">\n",
       "  <thead>\n",
       "    <tr style=\"text-align: right;\">\n",
       "      <th></th>\n",
       "      <th></th>\n",
       "      <th>ZONE_0</th>\n",
       "      <th>SURF</th>\n",
       "      <th>CONF</th>\n",
       "      <th>UFA</th>\n",
       "    </tr>\n",
       "    <tr>\n",
       "      <th>totim</th>\n",
       "      <th>name</th>\n",
       "      <th></th>\n",
       "      <th></th>\n",
       "      <th></th>\n",
       "      <th></th>\n",
       "    </tr>\n",
       "  </thead>\n",
       "  <tbody>\n",
       "    <tr>\n",
       "      <th rowspan=\"5\" valign=\"top\">1092.0</th>\n",
       "      <th>FROM_STORAGE</th>\n",
       "      <td>0.0</td>\n",
       "      <td>393.480286</td>\n",
       "      <td>230.476242</td>\n",
       "      <td>228.273621</td>\n",
       "    </tr>\n",
       "    <tr>\n",
       "      <th>FROM_CONSTANT_HEAD</th>\n",
       "      <td>0.0</td>\n",
       "      <td>0.000000</td>\n",
       "      <td>13.225761</td>\n",
       "      <td>5.042325</td>\n",
       "    </tr>\n",
       "    <tr>\n",
       "      <th>FROM_WELLS</th>\n",
       "      <td>0.0</td>\n",
       "      <td>0.000000</td>\n",
       "      <td>0.000000</td>\n",
       "      <td>0.000000</td>\n",
       "    </tr>\n",
       "    <tr>\n",
       "      <th>FROM_DRAINS</th>\n",
       "      <td>0.0</td>\n",
       "      <td>0.000000</td>\n",
       "      <td>0.000000</td>\n",
       "      <td>0.000000</td>\n",
       "    </tr>\n",
       "    <tr>\n",
       "      <th>FROM_RECHARGE</th>\n",
       "      <td>0.0</td>\n",
       "      <td>6018.483887</td>\n",
       "      <td>17.470200</td>\n",
       "      <td>34.940399</td>\n",
       "    </tr>\n",
       "    <tr>\n",
       "      <th>...</th>\n",
       "      <th>...</th>\n",
       "      <td>...</td>\n",
       "      <td>...</td>\n",
       "      <td>...</td>\n",
       "      <td>...</td>\n",
       "    </tr>\n",
       "    <tr>\n",
       "      <th rowspan=\"5\" valign=\"top\">1097.0</th>\n",
       "      <th>TO_CONF</th>\n",
       "      <td>0.0</td>\n",
       "      <td>3475.123535</td>\n",
       "      <td>0.000000</td>\n",
       "      <td>1528.048218</td>\n",
       "    </tr>\n",
       "    <tr>\n",
       "      <th>TO_UFA</th>\n",
       "      <td>0.0</td>\n",
       "      <td>138.600449</td>\n",
       "      <td>1764.655273</td>\n",
       "      <td>0.000000</td>\n",
       "    </tr>\n",
       "    <tr>\n",
       "      <th>TOTAL_OUT</th>\n",
       "      <td>0.0</td>\n",
       "      <td>8607.072266</td>\n",
       "      <td>5249.675781</td>\n",
       "      <td>2019.348022</td>\n",
       "    </tr>\n",
       "    <tr>\n",
       "      <th>IN-OUT</th>\n",
       "      <td>0.0</td>\n",
       "      <td>0.013672</td>\n",
       "      <td>0.000977</td>\n",
       "      <td>0.002319</td>\n",
       "    </tr>\n",
       "    <tr>\n",
       "      <th>PERCENT_DISCREPANCY</th>\n",
       "      <td>NaN</td>\n",
       "      <td>0.000159</td>\n",
       "      <td>0.000019</td>\n",
       "      <td>0.000115</td>\n",
       "    </tr>\n",
       "  </tbody>\n",
       "</table>\n",
       "<p>132 rows × 4 columns</p>\n",
       "</div>"
      ],
      "text/plain": [
       "                            ZONE_0         SURF         CONF          UFA\n",
       "totim  name                                                              \n",
       "1092.0 FROM_STORAGE            0.0   393.480286   230.476242   228.273621\n",
       "       FROM_CONSTANT_HEAD      0.0     0.000000    13.225761     5.042325\n",
       "       FROM_WELLS              0.0     0.000000     0.000000     0.000000\n",
       "       FROM_DRAINS             0.0     0.000000     0.000000     0.000000\n",
       "       FROM_RECHARGE           0.0  6018.483887    17.470200    34.940399\n",
       "...                            ...          ...          ...          ...\n",
       "1097.0 TO_CONF                 0.0  3475.123535     0.000000  1528.048218\n",
       "       TO_UFA                  0.0   138.600449  1764.655273     0.000000\n",
       "       TOTAL_OUT               0.0  8607.072266  5249.675781  2019.348022\n",
       "       IN-OUT                  0.0     0.013672     0.000977     0.002319\n",
       "       PERCENT_DISCREPANCY     NaN     0.000159     0.000019     0.000115\n",
       "\n",
       "[132 rows x 4 columns]"
      ]
     },
     "execution_count": 12,
     "metadata": {},
     "output_type": "execute_result"
    }
   ],
   "source": [
    "aliases = {1: \"SURF\", 2: \"CONF\", 3: \"UFA\"}\n",
    "times = list(range(1092, 1097 + 1))\n",
    "zb = flopy.utils.ZoneBudget(cbc_f, zon, totim=times, aliases=aliases)\n",
    "zb.get_dataframes()"
   ]
  },
  {
   "cell_type": "markdown",
   "metadata": {},
   "source": [
    "Slice the multi-index dataframe to retrieve a subset of the budget.\n",
    "NOTE: We can pass \"names\" directly to the `get_dataframes()` method to return a subset of reocrds. By omitting the `\"FROM_\"` or `\"TO_\"` prefix we get both."
   ]
  },
  {
   "cell_type": "code",
   "execution_count": 13,
   "metadata": {
    "execution": {
     "iopub.execute_input": "2023-05-02T02:55:20.357350Z",
     "iopub.status.busy": "2023-05-02T02:55:20.357043Z",
     "iopub.status.idle": "2023-05-02T02:55:20.375697Z",
     "shell.execute_reply": "2023-05-02T02:55:20.374722Z"
    }
   },
   "outputs": [
    {
     "data": {
      "text/html": [
       "<div>\n",
       "<style scoped>\n",
       "    .dataframe tbody tr th:only-of-type {\n",
       "        vertical-align: middle;\n",
       "    }\n",
       "\n",
       "    .dataframe tbody tr th {\n",
       "        vertical-align: top;\n",
       "    }\n",
       "\n",
       "    .dataframe thead th {\n",
       "        text-align: right;\n",
       "    }\n",
       "</style>\n",
       "<table border=\"1\" class=\"dataframe\">\n",
       "  <thead>\n",
       "    <tr style=\"text-align: right;\">\n",
       "      <th></th>\n",
       "      <th></th>\n",
       "      <th>SURF</th>\n",
       "      <th>CONF</th>\n",
       "    </tr>\n",
       "    <tr>\n",
       "      <th>totim</th>\n",
       "      <th>name</th>\n",
       "      <th></th>\n",
       "      <th></th>\n",
       "    </tr>\n",
       "  </thead>\n",
       "  <tbody>\n",
       "    <tr>\n",
       "      <th rowspan=\"4\" valign=\"top\">1095.0</th>\n",
       "      <th>FROM_CONSTANT_HEAD</th>\n",
       "      <td>0.000000</td>\n",
       "      <td>14.531923</td>\n",
       "    </tr>\n",
       "    <tr>\n",
       "      <th>FROM_RECHARGE</th>\n",
       "      <td>5010.149414</td>\n",
       "      <td>14.543249</td>\n",
       "    </tr>\n",
       "    <tr>\n",
       "      <th>TO_CONSTANT_HEAD</th>\n",
       "      <td>664.912598</td>\n",
       "      <td>493.175781</td>\n",
       "    </tr>\n",
       "    <tr>\n",
       "      <th>TO_WELLS</th>\n",
       "      <td>794.582886</td>\n",
       "      <td>0.000000</td>\n",
       "    </tr>\n",
       "    <tr>\n",
       "      <th rowspan=\"4\" valign=\"top\">1096.0</th>\n",
       "      <th>FROM_CONSTANT_HEAD</th>\n",
       "      <td>0.000000</td>\n",
       "      <td>6.501888</td>\n",
       "    </tr>\n",
       "    <tr>\n",
       "      <th>FROM_RECHARGE</th>\n",
       "      <td>6115.663086</td>\n",
       "      <td>17.752289</td>\n",
       "    </tr>\n",
       "    <tr>\n",
       "      <th>TO_CONSTANT_HEAD</th>\n",
       "      <td>690.230591</td>\n",
       "      <td>511.618652</td>\n",
       "    </tr>\n",
       "    <tr>\n",
       "      <th>TO_WELLS</th>\n",
       "      <td>1373.782715</td>\n",
       "      <td>0.000000</td>\n",
       "    </tr>\n",
       "    <tr>\n",
       "      <th rowspan=\"4\" valign=\"top\">1097.0</th>\n",
       "      <th>FROM_CONSTANT_HEAD</th>\n",
       "      <td>0.000000</td>\n",
       "      <td>231.566589</td>\n",
       "    </tr>\n",
       "    <tr>\n",
       "      <th>FROM_RECHARGE</th>\n",
       "      <td>5145.581543</td>\n",
       "      <td>14.936376</td>\n",
       "    </tr>\n",
       "    <tr>\n",
       "      <th>TO_CONSTANT_HEAD</th>\n",
       "      <td>230.548355</td>\n",
       "      <td>215.701508</td>\n",
       "    </tr>\n",
       "    <tr>\n",
       "      <th>TO_WELLS</th>\n",
       "      <td>4762.799805</td>\n",
       "      <td>0.000000</td>\n",
       "    </tr>\n",
       "  </tbody>\n",
       "</table>\n",
       "</div>"
      ],
      "text/plain": [
       "                                  SURF        CONF\n",
       "totim  name                                       \n",
       "1095.0 FROM_CONSTANT_HEAD     0.000000   14.531923\n",
       "       FROM_RECHARGE       5010.149414   14.543249\n",
       "       TO_CONSTANT_HEAD     664.912598  493.175781\n",
       "       TO_WELLS             794.582886    0.000000\n",
       "1096.0 FROM_CONSTANT_HEAD     0.000000    6.501888\n",
       "       FROM_RECHARGE       6115.663086   17.752289\n",
       "       TO_CONSTANT_HEAD     690.230591  511.618652\n",
       "       TO_WELLS            1373.782715    0.000000\n",
       "1097.0 FROM_CONSTANT_HEAD     0.000000  231.566589\n",
       "       FROM_RECHARGE       5145.581543   14.936376\n",
       "       TO_CONSTANT_HEAD     230.548355  215.701508\n",
       "       TO_WELLS            4762.799805    0.000000"
      ]
     },
     "execution_count": 13,
     "metadata": {},
     "output_type": "execute_result"
    }
   ],
   "source": [
    "dateidx1 = 1095.0\n",
    "dateidx2 = 1097.0\n",
    "names = [\"FROM_RECHARGE\", \"TO_WELLS\", \"CONSTANT_HEAD\"]\n",
    "zones = [\"SURF\", \"CONF\"]\n",
    "df = zb.get_dataframes(names=names)\n",
    "df.loc[(slice(dateidx1, dateidx2), slice(None)), :][zones]"
   ]
  },
  {
   "cell_type": "markdown",
   "metadata": {},
   "source": [
    "Look at pumpage (`TO_WELLS`) as a percentage of recharge (`FROM_RECHARGE`)"
   ]
  },
  {
   "cell_type": "code",
   "execution_count": 14,
   "metadata": {
    "execution": {
     "iopub.execute_input": "2023-05-02T02:55:20.379044Z",
     "iopub.status.busy": "2023-05-02T02:55:20.378713Z",
     "iopub.status.idle": "2023-05-02T02:55:20.398451Z",
     "shell.execute_reply": "2023-05-02T02:55:20.397467Z"
    }
   },
   "outputs": [
    {
     "data": {
      "text/html": [
       "<div>\n",
       "<style scoped>\n",
       "    .dataframe tbody tr th:only-of-type {\n",
       "        vertical-align: middle;\n",
       "    }\n",
       "\n",
       "    .dataframe tbody tr th {\n",
       "        vertical-align: top;\n",
       "    }\n",
       "\n",
       "    .dataframe thead th {\n",
       "        text-align: right;\n",
       "    }\n",
       "</style>\n",
       "<table border=\"1\" class=\"dataframe\">\n",
       "  <thead>\n",
       "    <tr style=\"text-align: right;\">\n",
       "      <th></th>\n",
       "      <th>SURF</th>\n",
       "    </tr>\n",
       "    <tr>\n",
       "      <th>totim</th>\n",
       "      <th></th>\n",
       "    </tr>\n",
       "  </thead>\n",
       "  <tbody>\n",
       "    <tr>\n",
       "      <th>1095.0</th>\n",
       "      <td>-15.859466</td>\n",
       "    </tr>\n",
       "    <tr>\n",
       "      <th>1096.0</th>\n",
       "      <td>-22.463348</td>\n",
       "    </tr>\n",
       "    <tr>\n",
       "      <th>1097.0</th>\n",
       "      <td>-92.560966</td>\n",
       "    </tr>\n",
       "  </tbody>\n",
       "</table>\n",
       "</div>"
      ],
      "text/plain": [
       "             SURF\n",
       "totim            \n",
       "1095.0 -15.859466\n",
       "1096.0 -22.463348\n",
       "1097.0 -92.560966"
      ]
     },
     "execution_count": 14,
     "metadata": {},
     "output_type": "execute_result"
    }
   ],
   "source": [
    "dateidx1 = 1095.0\n",
    "dateidx2 = 1097.0\n",
    "zones = [\"SURF\"]\n",
    "\n",
    "# Pull out the individual records of interest\n",
    "rech = df.loc[(slice(dateidx1, dateidx2), [\"FROM_RECHARGE\"]), :][zones]\n",
    "pump = df.loc[(slice(dateidx1, dateidx2), [\"TO_WELLS\"]), :][zones]\n",
    "\n",
    "# Remove the \"record\" field from the index so we can\n",
    "# take the difference of the two DataFrames\n",
    "rech = rech.reset_index()\n",
    "rech = rech.set_index([\"totim\"])\n",
    "rech = rech[zones]\n",
    "pump = pump.reset_index()\n",
    "pump = pump.set_index([\"totim\"])\n",
    "pump = pump[zones] * -1\n",
    "\n",
    "# Compute pumping as a percentage of recharge\n",
    "(pump / rech) * 100.0"
   ]
  },
  {
   "cell_type": "markdown",
   "metadata": {},
   "source": [
    "Pass `start_datetime` and `timeunit` keyword arguments to return a dataframe with a datetime multi-index"
   ]
  },
  {
   "cell_type": "code",
   "execution_count": 15,
   "metadata": {
    "execution": {
     "iopub.execute_input": "2023-05-02T02:55:20.401812Z",
     "iopub.status.busy": "2023-05-02T02:55:20.401526Z",
     "iopub.status.idle": "2023-05-02T02:55:20.416166Z",
     "shell.execute_reply": "2023-05-02T02:55:20.415473Z"
    }
   },
   "outputs": [
    {
     "data": {
      "text/html": [
       "<div>\n",
       "<style scoped>\n",
       "    .dataframe tbody tr th:only-of-type {\n",
       "        vertical-align: middle;\n",
       "    }\n",
       "\n",
       "    .dataframe tbody tr th {\n",
       "        vertical-align: top;\n",
       "    }\n",
       "\n",
       "    .dataframe thead th {\n",
       "        text-align: right;\n",
       "    }\n",
       "</style>\n",
       "<table border=\"1\" class=\"dataframe\">\n",
       "  <thead>\n",
       "    <tr style=\"text-align: right;\">\n",
       "      <th></th>\n",
       "      <th></th>\n",
       "      <th>SURF</th>\n",
       "      <th>CONF</th>\n",
       "    </tr>\n",
       "    <tr>\n",
       "      <th>datetime</th>\n",
       "      <th>name</th>\n",
       "      <th></th>\n",
       "      <th></th>\n",
       "    </tr>\n",
       "  </thead>\n",
       "  <tbody>\n",
       "    <tr>\n",
       "      <th rowspan=\"4\" valign=\"top\">1972-12-29</th>\n",
       "      <th>FROM_CONSTANT_HEAD</th>\n",
       "      <td>0.000000</td>\n",
       "      <td>16.905813</td>\n",
       "    </tr>\n",
       "    <tr>\n",
       "      <th>FROM_RECHARGE</th>\n",
       "      <td>4203.679199</td>\n",
       "      <td>12.202263</td>\n",
       "    </tr>\n",
       "    <tr>\n",
       "      <th>TO_CONSTANT_HEAD</th>\n",
       "      <td>655.814514</td>\n",
       "      <td>487.094849</td>\n",
       "    </tr>\n",
       "    <tr>\n",
       "      <th>TO_WELLS</th>\n",
       "      <td>1930.483154</td>\n",
       "      <td>0.000000</td>\n",
       "    </tr>\n",
       "    <tr>\n",
       "      <th rowspan=\"4\" valign=\"top\">1972-12-30</th>\n",
       "      <th>FROM_CONSTANT_HEAD</th>\n",
       "      <td>0.000000</td>\n",
       "      <td>18.877954</td>\n",
       "    </tr>\n",
       "    <tr>\n",
       "      <th>FROM_RECHARGE</th>\n",
       "      <td>4047.502441</td>\n",
       "      <td>11.748919</td>\n",
       "    </tr>\n",
       "    <tr>\n",
       "      <th>TO_CONSTANT_HEAD</th>\n",
       "      <td>650.441589</td>\n",
       "      <td>482.853638</td>\n",
       "    </tr>\n",
       "    <tr>\n",
       "      <th>TO_WELLS</th>\n",
       "      <td>1279.166382</td>\n",
       "      <td>0.000000</td>\n",
       "    </tr>\n",
       "  </tbody>\n",
       "</table>\n",
       "</div>"
      ],
      "text/plain": [
       "                                      SURF        CONF\n",
       "datetime   name                                       \n",
       "1972-12-29 FROM_CONSTANT_HEAD     0.000000   16.905813\n",
       "           FROM_RECHARGE       4203.679199   12.202263\n",
       "           TO_CONSTANT_HEAD     655.814514  487.094849\n",
       "           TO_WELLS            1930.483154    0.000000\n",
       "1972-12-30 FROM_CONSTANT_HEAD     0.000000   18.877954\n",
       "           FROM_RECHARGE       4047.502441   11.748919\n",
       "           TO_CONSTANT_HEAD     650.441589  482.853638\n",
       "           TO_WELLS            1279.166382    0.000000"
      ]
     },
     "execution_count": 15,
     "metadata": {},
     "output_type": "execute_result"
    }
   ],
   "source": [
    "dateidx1 = pd.Timestamp(\"1972-12-29\")\n",
    "dateidx2 = pd.Timestamp(\"1972-12-30\")\n",
    "names = [\"FROM_RECHARGE\", \"TO_WELLS\", \"CONSTANT_HEAD\"]\n",
    "zones = [\"SURF\", \"CONF\"]\n",
    "df = zb.get_dataframes(start_datetime=\"1970-01-01\", timeunit=\"D\", names=names)\n",
    "df.loc[(slice(dateidx1, dateidx2), slice(None)), :][zones]"
   ]
  },
  {
   "cell_type": "markdown",
   "metadata": {},
   "source": [
    "Pass `index_key` to indicate which fields to use in the multi-index (default is \"totim\"; valid keys are \"totim\" and \"kstpkper\")"
   ]
  },
  {
   "cell_type": "code",
   "execution_count": 16,
   "metadata": {
    "execution": {
     "iopub.execute_input": "2023-05-02T02:55:20.419435Z",
     "iopub.status.busy": "2023-05-02T02:55:20.419112Z",
     "iopub.status.idle": "2023-05-02T02:55:20.435667Z",
     "shell.execute_reply": "2023-05-02T02:55:20.434850Z"
    }
   },
   "outputs": [
    {
     "data": {
      "text/html": [
       "<div>\n",
       "<style scoped>\n",
       "    .dataframe tbody tr th:only-of-type {\n",
       "        vertical-align: middle;\n",
       "    }\n",
       "\n",
       "    .dataframe tbody tr th {\n",
       "        vertical-align: top;\n",
       "    }\n",
       "\n",
       "    .dataframe thead th {\n",
       "        text-align: right;\n",
       "    }\n",
       "</style>\n",
       "<table border=\"1\" class=\"dataframe\">\n",
       "  <thead>\n",
       "    <tr style=\"text-align: right;\">\n",
       "      <th></th>\n",
       "      <th></th>\n",
       "      <th></th>\n",
       "      <th>ZONE_0</th>\n",
       "      <th>SURF</th>\n",
       "      <th>CONF</th>\n",
       "      <th>UFA</th>\n",
       "    </tr>\n",
       "    <tr>\n",
       "      <th>time_step</th>\n",
       "      <th>stress_period</th>\n",
       "      <th>name</th>\n",
       "      <th></th>\n",
       "      <th></th>\n",
       "      <th></th>\n",
       "      <th></th>\n",
       "    </tr>\n",
       "  </thead>\n",
       "  <tbody>\n",
       "    <tr>\n",
       "      <th rowspan=\"5\" valign=\"top\">0</th>\n",
       "      <th rowspan=\"5\" valign=\"top\">1091</th>\n",
       "      <th>FROM_STORAGE</th>\n",
       "      <td>0.0</td>\n",
       "      <td>393.480286</td>\n",
       "      <td>230.476242</td>\n",
       "      <td>228.273621</td>\n",
       "    </tr>\n",
       "    <tr>\n",
       "      <th>FROM_CONSTANT_HEAD</th>\n",
       "      <td>0.0</td>\n",
       "      <td>0.000000</td>\n",
       "      <td>13.225761</td>\n",
       "      <td>5.042325</td>\n",
       "    </tr>\n",
       "    <tr>\n",
       "      <th>FROM_WELLS</th>\n",
       "      <td>0.0</td>\n",
       "      <td>0.000000</td>\n",
       "      <td>0.000000</td>\n",
       "      <td>0.000000</td>\n",
       "    </tr>\n",
       "    <tr>\n",
       "      <th>FROM_DRAINS</th>\n",
       "      <td>0.0</td>\n",
       "      <td>0.000000</td>\n",
       "      <td>0.000000</td>\n",
       "      <td>0.000000</td>\n",
       "    </tr>\n",
       "    <tr>\n",
       "      <th>FROM_RECHARGE</th>\n",
       "      <td>0.0</td>\n",
       "      <td>6018.483887</td>\n",
       "      <td>17.470200</td>\n",
       "      <td>34.940399</td>\n",
       "    </tr>\n",
       "  </tbody>\n",
       "</table>\n",
       "</div>"
      ],
      "text/plain": [
       "                                            ZONE_0         SURF        CONF  \\\n",
       "time_step stress_period name                                                  \n",
       "0         1091          FROM_STORAGE           0.0   393.480286  230.476242   \n",
       "                        FROM_CONSTANT_HEAD     0.0     0.000000   13.225761   \n",
       "                        FROM_WELLS             0.0     0.000000    0.000000   \n",
       "                        FROM_DRAINS            0.0     0.000000    0.000000   \n",
       "                        FROM_RECHARGE          0.0  6018.483887   17.470200   \n",
       "\n",
       "                                                   UFA  \n",
       "time_step stress_period name                            \n",
       "0         1091          FROM_STORAGE        228.273621  \n",
       "                        FROM_CONSTANT_HEAD    5.042325  \n",
       "                        FROM_WELLS            0.000000  \n",
       "                        FROM_DRAINS           0.000000  \n",
       "                        FROM_RECHARGE        34.940399  "
      ]
     },
     "execution_count": 16,
     "metadata": {},
     "output_type": "execute_result"
    }
   ],
   "source": [
    "df = zb.get_dataframes(index_key=\"kstpkper\")\n",
    "df.head()"
   ]
  },
  {
   "cell_type": "markdown",
   "metadata": {},
   "source": [
    "### Write Budget Output to CSV\n",
    "\n",
    "We can write the resulting recarray to a csv file with the `.to_csv()` method of the `ZoneBudget` object."
   ]
  },
  {
   "cell_type": "code",
   "execution_count": 17,
   "metadata": {
    "execution": {
     "iopub.execute_input": "2023-05-02T02:55:20.439269Z",
     "iopub.status.busy": "2023-05-02T02:55:20.438870Z",
     "iopub.status.idle": "2023-05-02T02:55:23.985429Z",
     "shell.execute_reply": "2023-05-02T02:55:23.984466Z"
    }
   },
   "outputs": [
    {
     "name": "stdout",
     "output_type": "stream",
     "text": [
      " totim  time_step  stress_period                name  ZONE_0      ZONE_1      ZONE_2      ZONE_3\n",
      "   1.0          0              0        FROM_STORAGE     0.0    0.000000    0.000000    0.000000\n",
      "   1.0          0              0  FROM_CONSTANT_HEAD     0.0    0.000000    0.000000    0.000000\n",
      "   1.0          0              0          FROM_WELLS     0.0    0.000000    0.000000    0.000000\n",
      "   1.0          0              0         FROM_DRAINS     0.0    0.000000    0.000000    0.000000\n",
      "   1.0          0              0       FROM_RECHARGE     0.0 6222.673300   18.062912   36.125824\n",
      "   1.0          0              0         FROM_ZONE_0     0.0    0.000000    0.000000    0.000000\n",
      "   1.0          0              0         FROM_ZONE_1     0.0    0.000000 4275.257300  491.945070\n",
      "   1.0          0              0         FROM_ZONE_2     0.0 2744.821800    0.000000 2115.654000\n",
      "   1.0          0              0         FROM_ZONE_3     0.0  451.545720 1215.952300    0.000000\n",
      "   1.0          0              0            TOTAL_IN     0.0 9419.041000 5509.272500 2643.725000\n",
      "   1.0          0              0          TO_STORAGE     0.0    0.000000    0.000000    0.000000\n",
      "   1.0          0              0    TO_CONSTANT_HEAD     0.0  821.283200  648.806100  976.233600\n",
      "   1.0          0              0            TO_WELLS     0.0    0.000000    0.000000    0.000000\n",
      "   1.0          0              0           TO_DRAINS     0.0 3832.150000    0.000000    0.000000\n",
      "   1.0          0              0         TO_RECHARGE     0.0    0.000000    0.000000    0.000000\n",
      "   1.0          0              0           TO_ZONE_0     0.0    0.000000    0.000000    0.000000\n",
      "   1.0          0              0           TO_ZONE_1     0.0    0.000000 2744.821800  451.545720\n",
      "   1.0          0              0           TO_ZONE_2     0.0 4275.257300    0.000000 1215.952300\n",
      "   1.0          0              0           TO_ZONE_3     0.0  491.945070 2115.654000    0.000000\n",
      "   1.0          0              0           TOTAL_OUT     0.0 9420.636000 5509.282000 2643.731400\n",
      "   1.0          0              0              IN-OUT     0.0    1.594727    0.009766    0.006348\n",
      "   1.0          0              0 PERCENT_DISCREPANCY     NaN    0.016929    0.000177    0.000240\n",
      "1097.0          0           1096        FROM_STORAGE     0.0    0.000000    0.000000    0.000000\n",
      "1097.0          0           1096  FROM_CONSTANT_HEAD     0.0    0.000000  231.566590   86.217200\n",
      "1097.0          0           1096          FROM_WELLS     0.0    0.000000    0.000000    0.000000\n",
      "1097.0          0           1096         FROM_DRAINS     0.0    0.000000    0.000000    0.000000\n",
      "1097.0          0           1096       FROM_RECHARGE     0.0 5145.581500   14.936376   29.872751\n",
      "1097.0          0           1096         FROM_ZONE_0     0.0    0.000000    0.000000    0.000000\n",
      "1097.0          0           1096         FROM_ZONE_1     0.0    0.000000 3475.123500  138.600450\n",
      "1097.0          0           1096         FROM_ZONE_2     0.0 3269.318800    0.000000 1764.655300\n",
      "1097.0          0           1096         FROM_ZONE_3     0.0  192.186040 1528.048200    0.000000\n",
      "1097.0          0           1096            TOTAL_IN     0.0 8607.086000 5249.675000 2019.345700\n",
      "1097.0          0           1096          TO_STORAGE     0.0    0.000000    0.000000    0.000000\n",
      "1097.0          0           1096    TO_CONSTANT_HEAD     0.0  230.548360  215.701500  299.113800\n",
      "1097.0          0           1096            TO_WELLS     0.0 4762.800000    0.000000    0.000000\n",
      "1097.0          0           1096           TO_DRAINS     0.0    0.000000    0.000000    0.000000\n",
      "1097.0          0           1096         TO_RECHARGE     0.0    0.000000    0.000000    0.000000\n",
      "1097.0          0           1096           TO_ZONE_0     0.0    0.000000    0.000000    0.000000\n",
      "1097.0          0           1096           TO_ZONE_1     0.0    0.000000 3269.318800  192.186040\n",
      "1097.0          0           1096           TO_ZONE_2     0.0 3475.123500    0.000000 1528.048200\n",
      "1097.0          0           1096           TO_ZONE_3     0.0  138.600450 1764.655300    0.000000\n",
      "1097.0          0           1096           TOTAL_OUT     0.0 8607.072000 5249.676000 2019.348000\n",
      "1097.0          0           1096              IN-OUT     0.0    0.013672    0.000977    0.002319\n",
      "1097.0          0           1096 PERCENT_DISCREPANCY     NaN    0.000159    0.000019    0.000115\n"
     ]
    }
   ],
   "source": [
    "zb = flopy.utils.ZoneBudget(cbc_f, zon, kstpkper=[(0, 0), (0, 1096)])\n",
    "f_out = workspace / \"Example_output.csv\"\n",
    "zb.to_csv(f_out)\n",
    "\n",
    "# Read the file in to see the contents\n",
    "try:\n",
    "    import pandas as pd\n",
    "\n",
    "    print(pd.read_csv(f_out).to_string(index=False))\n",
    "except:\n",
    "    with open(f_out, \"r\") as f:\n",
    "        for line in f.readlines():\n",
    "            print(\"\\t\".join(line.split(\",\")))"
   ]
  },
  {
   "cell_type": "markdown",
   "metadata": {},
   "source": [
    "### Net Budget\n",
    "Using the \"net\" keyword argument, we can request a net budget for each zone/record name or for a subset of zones and record names. Note that we can identify the record names we want without the added `\"_IN\"` or `\"_OUT\"` string suffix."
   ]
  },
  {
   "cell_type": "code",
   "execution_count": 18,
   "metadata": {
    "execution": {
     "iopub.execute_input": "2023-05-02T02:55:23.989609Z",
     "iopub.status.busy": "2023-05-02T02:55:23.989282Z",
     "iopub.status.idle": "2023-05-02T02:55:27.464903Z",
     "shell.execute_reply": "2023-05-02T02:55:27.464283Z"
    }
   },
   "outputs": [
    {
     "data": {
      "text/plain": [
       "array([(1092., 0, 1091, 'STORAGE',  -386.15085, -425.65155),\n",
       "       (1092., 0, 1091, 'WELLS', -2829.812  ,    0.     ),\n",
       "       (1093., 0, 1092, 'STORAGE',   -12.50354, -151.3594 ),\n",
       "       (1093., 0, 1092, 'WELLS', -1930.4832 ,    0.     ),\n",
       "       (1094., 0, 1093, 'STORAGE',  -198.92935, -270.8744 ),\n",
       "       (1094., 0, 1093, 'WELLS', -1279.1664 ,    0.     ),\n",
       "       (1095., 0, 1094, 'STORAGE',  -718.4885 , -604.8537 ),\n",
       "       (1095., 0, 1094, 'WELLS',  -794.5829 ,    0.     ),\n",
       "       (1096., 0, 1095, 'STORAGE',  -855.1075 , -622.88477),\n",
       "       (1096., 0, 1095, 'WELLS', -1373.7827 ,    0.     ),\n",
       "       (1097., 0, 1096, 'STORAGE',     0.     ,    0.     ),\n",
       "       (1097., 0, 1096, 'WELLS', -4762.8    ,    0.     )],\n",
       "      dtype={'names': ['totim', 'time_step', 'stress_period', 'name', 'SURF', 'UFA'], 'formats': ['<f4', '<i4', '<i4', '<U50', '<f4', '<f4'], 'offsets': [0, 4, 8, 12, 212, 220], 'itemsize': 224})"
      ]
     },
     "execution_count": 18,
     "metadata": {},
     "output_type": "execute_result"
    }
   ],
   "source": [
    "zon = np.ones((nlay, nrow, ncol), int)\n",
    "zon[1, :, :] = 2\n",
    "zon[2, :, :] = 3\n",
    "\n",
    "aliases = {1: \"SURF\", 2: \"CONF\", 3: \"UFA\"}\n",
    "times = list(range(1092, 1097 + 1))\n",
    "zb = flopy.utils.ZoneBudget(cbc_f, zon, totim=times, aliases=aliases)\n",
    "zb.get_budget(names=[\"STORAGE\", \"WELLS\"], zones=[\"SURF\", \"UFA\"], net=True)"
   ]
  },
  {
   "cell_type": "code",
   "execution_count": 19,
   "metadata": {
    "execution": {
     "iopub.execute_input": "2023-05-02T02:55:27.467233Z",
     "iopub.status.busy": "2023-05-02T02:55:27.466984Z",
     "iopub.status.idle": "2023-05-02T02:55:27.480631Z",
     "shell.execute_reply": "2023-05-02T02:55:27.479810Z"
    }
   },
   "outputs": [
    {
     "data": {
      "text/html": [
       "<div>\n",
       "<style scoped>\n",
       "    .dataframe tbody tr th:only-of-type {\n",
       "        vertical-align: middle;\n",
       "    }\n",
       "\n",
       "    .dataframe tbody tr th {\n",
       "        vertical-align: top;\n",
       "    }\n",
       "\n",
       "    .dataframe thead th {\n",
       "        text-align: right;\n",
       "    }\n",
       "</style>\n",
       "<table border=\"1\" class=\"dataframe\">\n",
       "  <thead>\n",
       "    <tr style=\"text-align: right;\">\n",
       "      <th></th>\n",
       "      <th></th>\n",
       "      <th>SURF</th>\n",
       "      <th>UFA</th>\n",
       "    </tr>\n",
       "    <tr>\n",
       "      <th>totim</th>\n",
       "      <th>name</th>\n",
       "      <th></th>\n",
       "      <th></th>\n",
       "    </tr>\n",
       "  </thead>\n",
       "  <tbody>\n",
       "    <tr>\n",
       "      <th rowspan=\"2\" valign=\"top\">1092.0</th>\n",
       "      <th>STORAGE</th>\n",
       "      <td>-386.150848</td>\n",
       "      <td>-425.651550</td>\n",
       "    </tr>\n",
       "    <tr>\n",
       "      <th>WELLS</th>\n",
       "      <td>-2829.812012</td>\n",
       "      <td>0.000000</td>\n",
       "    </tr>\n",
       "    <tr>\n",
       "      <th rowspan=\"2\" valign=\"top\">1093.0</th>\n",
       "      <th>STORAGE</th>\n",
       "      <td>-12.503540</td>\n",
       "      <td>-151.359406</td>\n",
       "    </tr>\n",
       "    <tr>\n",
       "      <th>WELLS</th>\n",
       "      <td>-1930.483154</td>\n",
       "      <td>0.000000</td>\n",
       "    </tr>\n",
       "    <tr>\n",
       "      <th rowspan=\"2\" valign=\"top\">1094.0</th>\n",
       "      <th>STORAGE</th>\n",
       "      <td>-198.929352</td>\n",
       "      <td>-270.874390</td>\n",
       "    </tr>\n",
       "    <tr>\n",
       "      <th>WELLS</th>\n",
       "      <td>-1279.166382</td>\n",
       "      <td>0.000000</td>\n",
       "    </tr>\n",
       "  </tbody>\n",
       "</table>\n",
       "</div>"
      ],
      "text/plain": [
       "                       SURF         UFA\n",
       "totim  name                            \n",
       "1092.0 STORAGE  -386.150848 -425.651550\n",
       "       WELLS   -2829.812012    0.000000\n",
       "1093.0 STORAGE   -12.503540 -151.359406\n",
       "       WELLS   -1930.483154    0.000000\n",
       "1094.0 STORAGE  -198.929352 -270.874390\n",
       "       WELLS   -1279.166382    0.000000"
      ]
     },
     "execution_count": 19,
     "metadata": {},
     "output_type": "execute_result"
    }
   ],
   "source": [
    "df = zb.get_dataframes(\n",
    "    names=[\"STORAGE\", \"WELLS\"], zones=[\"SURF\", \"UFA\"], net=True\n",
    ")\n",
    "df.head(6)"
   ]
  },
  {
   "cell_type": "markdown",
   "metadata": {},
   "source": [
    "## Plot Budget Components\n",
    "The following is a function that can be used to better visualize the budget components using matplotlib."
   ]
  },
  {
   "cell_type": "code",
   "execution_count": 20,
   "metadata": {
    "execution": {
     "iopub.execute_input": "2023-05-02T02:55:27.484388Z",
     "iopub.status.busy": "2023-05-02T02:55:27.483772Z",
     "iopub.status.idle": "2023-05-02T02:55:27.495026Z",
     "shell.execute_reply": "2023-05-02T02:55:27.494267Z"
    }
   },
   "outputs": [],
   "source": [
    "def tick_label_formatter_comma_sep(x, pos):\n",
    "    return \"{:,.0f}\".format(x)\n",
    "\n",
    "\n",
    "def volumetric_budget_bar_plot(values_in, values_out, labels, **kwargs):\n",
    "    if \"ax\" in kwargs:\n",
    "        ax = kwargs.pop(\"ax\")\n",
    "    else:\n",
    "        ax = plt.gca()\n",
    "\n",
    "    x_pos = np.arange(len(values_in))\n",
    "    rects_in = ax.bar(x_pos, values_in, align=\"center\", alpha=0.5)\n",
    "\n",
    "    x_pos = np.arange(len(values_out))\n",
    "    rects_out = ax.bar(x_pos, values_out, align=\"center\", alpha=0.5)\n",
    "\n",
    "    plt.xticks(list(x_pos), labels)\n",
    "    ax.set_xticklabels(ax.xaxis.get_majorticklabels(), rotation=90)\n",
    "    ax.get_yaxis().set_major_formatter(\n",
    "        mpl.ticker.FuncFormatter(tick_label_formatter_comma_sep)\n",
    "    )\n",
    "\n",
    "    ymin, ymax = ax.get_ylim()\n",
    "    if ymax != 0:\n",
    "        if abs(ymin) / ymax < 0.33:\n",
    "            ymin = -(ymax * 0.5)\n",
    "        else:\n",
    "            ymin *= 1.35\n",
    "    else:\n",
    "        ymin *= 1.35\n",
    "    plt.ylim([ymin, ymax * 1.25])\n",
    "\n",
    "    for i, rect in enumerate(rects_in):\n",
    "        label = \"{:,.0f}\".format(values_in[i])\n",
    "        height = values_in[i]\n",
    "        x = rect.get_x() + rect.get_width() / 2\n",
    "        y = height + (0.02 * ymax)\n",
    "        vertical_alignment = \"bottom\"\n",
    "        horizontal_alignment = \"center\"\n",
    "        ax.text(\n",
    "            x,\n",
    "            y,\n",
    "            label,\n",
    "            ha=horizontal_alignment,\n",
    "            va=vertical_alignment,\n",
    "            rotation=90,\n",
    "        )\n",
    "\n",
    "    for i, rect in enumerate(rects_out):\n",
    "        label = \"{:,.0f}\".format(values_out[i])\n",
    "        height = values_out[i]\n",
    "        x = rect.get_x() + rect.get_width() / 2\n",
    "        y = height + (0.02 * ymin)\n",
    "        vertical_alignment = \"top\"\n",
    "        horizontal_alignment = \"center\"\n",
    "        ax.text(\n",
    "            x,\n",
    "            y,\n",
    "            label,\n",
    "            ha=horizontal_alignment,\n",
    "            va=vertical_alignment,\n",
    "            rotation=90,\n",
    "        )\n",
    "\n",
    "    # horizontal line indicating zero\n",
    "    ax.plot(\n",
    "        [\n",
    "            rects_in[0].get_x() - rects_in[0].get_width() / 2,\n",
    "            rects_in[-1].get_x() + rects_in[-1].get_width(),\n",
    "        ],\n",
    "        [0, 0],\n",
    "        \"k\",\n",
    "    )\n",
    "\n",
    "    return rects_in, rects_out"
   ]
  },
  {
   "cell_type": "code",
   "execution_count": 21,
   "metadata": {
    "execution": {
     "iopub.execute_input": "2023-05-02T02:55:27.498087Z",
     "iopub.status.busy": "2023-05-02T02:55:27.497755Z",
     "iopub.status.idle": "2023-05-02T02:55:41.989641Z",
     "shell.execute_reply": "2023-05-02T02:55:41.987936Z"
    }
   },
   "outputs": [
    {
     "data": {
      "image/png": "[encoded data removed]",
      "text/plain": [
       "<Figure size 1600x500 with 4 Axes>"
      ]
     },
     "metadata": {},
     "output_type": "display_data"
    }
   ],
   "source": [
    "fig = plt.figure(figsize=(16, 5))\n",
    "\n",
    "times = [2.0, 500.0, 1000.0, 1095.0]\n",
    "\n",
    "for idx, t in enumerate(times):\n",
    "    ax = fig.add_subplot(1, len(times), idx + 1)\n",
    "\n",
    "    zb = flopy.utils.ZoneBudget(\n",
    "        cbc_f, zon, kstpkper=None, totim=t, aliases=aliases\n",
    "    )\n",
    "\n",
    "    recname = \"STORAGE\"\n",
    "    values_in = zb.get_dataframes(names=\"FROM_{}\".format(recname)).T.squeeze()\n",
    "    values_out = (\n",
    "        zb.get_dataframes(names=\"TO_{}\".format(recname)).T.squeeze() * -1\n",
    "    )\n",
    "    labels = values_in.index.tolist()\n",
    "\n",
    "    rects_in, rects_out = volumetric_budget_bar_plot(\n",
    "        values_in, values_out, labels, ax=ax\n",
    "    )\n",
    "\n",
    "    plt.ylabel(\"Volumetric rate, in Mgal/d\")\n",
    "    plt.title(\"{} @ totim = {}\".format(recname, t))\n",
    "\n",
    "plt.tight_layout()\n",
    "plt.show()"
   ]
  },
  {
   "cell_type": "markdown",
   "metadata": {},
   "source": [
    "# Zonebudget for Modflow 6 (`ZoneBudget6`)\n",
    "\n",
    "This section shows how to build and run a Zonebudget when working with a MODFLOW 6 model. \n",
    "\n",
    "First let's load a model"
   ]
  },
  {
   "cell_type": "code",
   "execution_count": 22,
   "metadata": {
    "execution": {
     "iopub.execute_input": "2023-05-02T02:55:41.994181Z",
     "iopub.status.busy": "2023-05-02T02:55:41.993760Z",
     "iopub.status.idle": "2023-05-02T02:55:42.390686Z",
     "shell.execute_reply": "2023-05-02T02:55:42.389151Z"
    }
   },
   "outputs": [
    {
     "name": "stdout",
     "output_type": "stream",
     "text": [
      "loading simulation...\n",
      "  loading simulation name file...\n",
      "  loading tdis package...\n",
      "  loading model gwf6...\n",
      "    loading package dis...\n",
      "    loading package ic...\n",
      "WARNING: Block \"options\" is not a valid block name for file type ic.\n",
      "    loading package oc...\n",
      "    loading package npf...\n",
      "    loading package sto...\n",
      "    loading package chd...\n",
      "    loading package riv...\n",
      "    loading package wel...\n",
      "    loading package rch...\n",
      "  loading solution package freyberg...\n",
      "WARNING: MFFileMgt's set_sim_path has been deprecated.  Please use MFSimulation's set_sim_path in the future.\n",
      "writing simulation...\n",
      "  writing simulation name file...\n",
      "  writing simulation tdis package...\n",
      "  writing solution package freyberg...\n",
      "  writing model freyberg...\n",
      "    writing model name file...\n",
      "    writing package dis...\n",
      "    writing package ic...\n",
      "    writing package oc...\n",
      "    writing package npf...\n",
      "    writing package sto...\n",
      "    writing package chd_0...\n",
      "    writing package riv_0...\n",
      "    writing package wel_0...\n",
      "    writing package rch_0...\n"
     ]
    },
    {
     "name": "stdout",
     "output_type": "stream",
     "text": [
      "                                   MODFLOW 6\n",
      "                U.S. GEOLOGICAL SURVEY MODULAR HYDROLOGIC MODEL\n",
      "                            VERSION 6.3.0 03/08/2022\n",
      "\n",
      "   MODFLOW 6 compiled Mar 10 2022 13:40:29 with Intel(R) Fortran Intel(R) 64\n",
      "   Compiler Classic for applications running on Intel(R) 64, Version 2021.5.0\n",
      "                             Build 20211109_000000\n",
      "\n",
      "This software has been approved for release by the U.S. Geological \n",
      "Survey (USGS). Although the software has been subjected to rigorous \n",
      "review, the USGS reserves the right to update the software as needed \n",
      "pursuant to further analysis and review. No warranty, expressed or \n",
      "implied, is made by the USGS or the U.S. Government as to the \n",
      "functionality of the software and related material nor shall the \n",
      "fact of release constitute any such warranty. Furthermore, the \n",
      "software is released on condition that neither the USGS nor the U.S. \n",
      "Government shall be held liable for any damages resulting from its \n",
      "authorized or unauthorized use. Also refer to the USGS Water \n",
      "Resources Software User Rights Notice for complete use, copyright, \n",
      "and distribution information.\n",
      "\n",
      " \n",
      " Run start date and time (yyyy/mm/dd hh:mm:ss): 2023/05/01 21:55:42\n",
      " \n",
      " Writing simulation list file: mfsim.lst\n",
      " Using Simulation name file: mfsim.nam\n",
      " \n",
      "    Solving:  Stress period:     1    Time step:     1\n",
      " \n",
      " Run end date and time (yyyy/mm/dd hh:mm:ss): 2023/05/01 21:55:42\n",
      " Elapsed run time:  0.152 Seconds\n",
      " \n",
      " Normal termination of simulation.\n"
     ]
    }
   ],
   "source": [
    "mf6_exe = \"mf6\"\n",
    "zb6_exe = \"zbud6\"\n",
    "\n",
    "sim_ws = proj_root / \"examples\" / \"data\" / \"mf6-freyberg\"\n",
    "cpth = workspace / \"zbud6\"\n",
    "cpth.mkdir()\n",
    "\n",
    "sim = flopy.mf6.MFSimulation.load(sim_ws=sim_ws, exe_name=mf6_exe)\n",
    "sim.simulation_data.mfpath.set_sim_path(cpth)\n",
    "sim.write_simulation()\n",
    "success, buff = sim.run_simulation(silent=True, report=True)\n",
    "assert success, \"Failed to run\"\n",
    "for line in buff:\n",
    "    print(line)"
   ]
  },
  {
   "cell_type": "markdown",
   "metadata": {},
   "source": [
    "### Use the the `.output` model attribute to create a zonebudget model\n",
    "\n",
    "The `.output` attribute allows the user to access model output and create zonebudget models easily. The user only needs to pass in a zone array to create a zonebudget model!"
   ]
  },
  {
   "cell_type": "code",
   "execution_count": 23,
   "metadata": {
    "execution": {
     "iopub.execute_input": "2023-05-02T02:55:42.395240Z",
     "iopub.status.busy": "2023-05-02T02:55:42.394729Z",
     "iopub.status.idle": "2023-05-02T02:55:42.687707Z",
     "shell.execute_reply": "2023-05-02T02:55:42.687053Z"
    }
   },
   "outputs": [
    {
     "data": {
      "image/png": "[encoded data removed]",
      "text/plain": [
       "<Figure size 640x480 with 2 Axes>"
      ]
     },
     "metadata": {},
     "output_type": "display_data"
    }
   ],
   "source": [
    "# let's get our idomain array from the model, split it into two zones, and use it as a zone array\n",
    "ml = sim.get_model(\"freyberg\")\n",
    "zones = ml.modelgrid.idomain\n",
    "zones[0, 20:] = np.where(zones[0, 20:] != 0, 2, 0)\n",
    "\n",
    "plt.imshow(zones[0])\n",
    "plt.colorbar();"
   ]
  },
  {
   "cell_type": "code",
   "execution_count": 24,
   "metadata": {
    "execution": {
     "iopub.execute_input": "2023-05-02T02:55:42.691303Z",
     "iopub.status.busy": "2023-05-02T02:55:42.690685Z",
     "iopub.status.idle": "2023-05-02T02:55:42.762198Z",
     "shell.execute_reply": "2023-05-02T02:55:42.760605Z"
    }
   },
   "outputs": [],
   "source": [
    "# now let's build a zonebudget model and run it!\n",
    "zonbud = ml.output.zonebudget(zones)\n",
    "zonbud.change_model_ws(cpth)\n",
    "zonbud.write_input()\n",
    "success, buff = zonbud.run_model(exe_name=zb6_exe, silent=True)"
   ]
  },
  {
   "cell_type": "markdown",
   "metadata": {},
   "source": [
    "### Getting the zonebudget output\n",
    "\n",
    "We can then get the output as a recarray using the `.get_budget()` method or as a pandas dataframe using the `.get_dataframes()` method."
   ]
  },
  {
   "cell_type": "code",
   "execution_count": 25,
   "metadata": {
    "execution": {
     "iopub.execute_input": "2023-05-02T02:55:42.766313Z",
     "iopub.status.busy": "2023-05-02T02:55:42.765949Z",
     "iopub.status.idle": "2023-05-02T02:55:42.780280Z",
     "shell.execute_reply": "2023-05-02T02:55:42.779541Z"
    }
   },
   "outputs": [
    {
     "data": {
      "text/plain": [
       "rec.array([(10., 0, 0, 'STO_SS_IN', 0.        , 0.        ),\n",
       "           (10., 0, 0, 'STO_SY_IN', 0.        , 0.        ),\n",
       "           (10., 0, 0, 'DATA_SPDIS_IN', 0.        , 0.        ),\n",
       "           (10., 0, 0, 'WEL_IN', 0.        , 0.        ),\n",
       "           (10., 0, 0, 'RIV_IN', 0.00419403, 0.        ),\n",
       "           (10., 0, 0, 'RCHA_IN', 0.0353    , 0.0342    ),\n",
       "           (10., 0, 0, 'CHD_IN', 0.        , 0.00017814),\n",
       "           (10., 0, 0, 'STO_SS_OUT', 0.        , 0.        ),\n",
       "           (10., 0, 0, 'STO_SY_OUT', 0.        , 0.        ),\n",
       "           (10., 0, 0, 'DATA_SPDIS_OUT', 0.        , 0.        ),\n",
       "           (10., 0, 0, 'WEL_OUT', 0.0162    , 0.00585   ),\n",
       "           (10., 0, 0, 'RIV_OUT', 0.02102198, 0.02637233),\n",
       "           (10., 0, 0, 'RCHA_OUT', 0.        , 0.        ),\n",
       "           (10., 0, 0, 'CHD_OUT', 0.        , 0.00442785),\n",
       "           (10., 0, 0, 'FROM_ZONE_0', 0.        , 0.        ),\n",
       "           (10., 0, 0, 'FROM_ZONE_1', 0.        , 0.00405829),\n",
       "           (10., 0, 0, 'FROM_ZONE_2', 0.00178624, 0.        ),\n",
       "           (10., 0, 0, 'TO_ZONE_0', 0.        , 0.        ),\n",
       "           (10., 0, 0, 'TO_ZONE_1', 0.        , 0.00178624),\n",
       "           (10., 0, 0, 'TO_ZONE_2', 0.00405829, 0.        )],\n",
       "          dtype=[('totim', '<f8'), ('time_step', '<i8'), ('stress_period', '<i8'), ('name', 'O'), ('ZONE_1', '<f8'), ('ZONE_2', '<f8')])"
      ]
     },
     "execution_count": 25,
     "metadata": {},
     "output_type": "execute_result"
    }
   ],
   "source": [
    "zonbud.get_budget()"
   ]
  },
  {
   "cell_type": "code",
   "execution_count": 26,
   "metadata": {
    "execution": {
     "iopub.execute_input": "2023-05-02T02:55:42.784179Z",
     "iopub.status.busy": "2023-05-02T02:55:42.783792Z",
     "iopub.status.idle": "2023-05-02T02:55:42.802105Z",
     "shell.execute_reply": "2023-05-02T02:55:42.801436Z"
    }
   },
   "outputs": [
    {
     "data": {
      "text/html": [
       "<div>\n",
       "<style scoped>\n",
       "    .dataframe tbody tr th:only-of-type {\n",
       "        vertical-align: middle;\n",
       "    }\n",
       "\n",
       "    .dataframe tbody tr th {\n",
       "        vertical-align: top;\n",
       "    }\n",
       "\n",
       "    .dataframe thead th {\n",
       "        text-align: right;\n",
       "    }\n",
       "</style>\n",
       "<table border=\"1\" class=\"dataframe\">\n",
       "  <thead>\n",
       "    <tr style=\"text-align: right;\">\n",
       "      <th></th>\n",
       "      <th></th>\n",
       "      <th>ZONE_1</th>\n",
       "      <th>ZONE_2</th>\n",
       "    </tr>\n",
       "    <tr>\n",
       "      <th>totim</th>\n",
       "      <th>name</th>\n",
       "      <th></th>\n",
       "      <th></th>\n",
       "    </tr>\n",
       "  </thead>\n",
       "  <tbody>\n",
       "    <tr>\n",
       "      <th rowspan=\"10\" valign=\"top\">10.0</th>\n",
       "      <th>STO_SS</th>\n",
       "      <td>0.000000</td>\n",
       "      <td>0.000000</td>\n",
       "    </tr>\n",
       "    <tr>\n",
       "      <th>STO_SY</th>\n",
       "      <td>0.000000</td>\n",
       "      <td>0.000000</td>\n",
       "    </tr>\n",
       "    <tr>\n",
       "      <th>DATA_SPDIS</th>\n",
       "      <td>0.000000</td>\n",
       "      <td>0.000000</td>\n",
       "    </tr>\n",
       "    <tr>\n",
       "      <th>WEL</th>\n",
       "      <td>-0.016200</td>\n",
       "      <td>-0.005850</td>\n",
       "    </tr>\n",
       "    <tr>\n",
       "      <th>RIV</th>\n",
       "      <td>-0.016828</td>\n",
       "      <td>-0.026372</td>\n",
       "    </tr>\n",
       "    <tr>\n",
       "      <th>RCHA</th>\n",
       "      <td>0.035300</td>\n",
       "      <td>0.034200</td>\n",
       "    </tr>\n",
       "    <tr>\n",
       "      <th>CHD</th>\n",
       "      <td>0.000000</td>\n",
       "      <td>-0.004250</td>\n",
       "    </tr>\n",
       "    <tr>\n",
       "      <th>ZONE_0</th>\n",
       "      <td>0.000000</td>\n",
       "      <td>0.000000</td>\n",
       "    </tr>\n",
       "    <tr>\n",
       "      <th>ZONE_1</th>\n",
       "      <td>0.000000</td>\n",
       "      <td>0.002272</td>\n",
       "    </tr>\n",
       "    <tr>\n",
       "      <th>ZONE_2</th>\n",
       "      <td>-0.002272</td>\n",
       "      <td>0.000000</td>\n",
       "    </tr>\n",
       "  </tbody>\n",
       "</table>\n",
       "</div>"
      ],
      "text/plain": [
       "                    ZONE_1    ZONE_2\n",
       "totim name                          \n",
       "10.0  STO_SS      0.000000  0.000000\n",
       "      STO_SY      0.000000  0.000000\n",
       "      DATA_SPDIS  0.000000  0.000000\n",
       "      WEL        -0.016200 -0.005850\n",
       "      RIV        -0.016828 -0.026372\n",
       "      RCHA        0.035300  0.034200\n",
       "      CHD         0.000000 -0.004250\n",
       "      ZONE_0      0.000000  0.000000\n",
       "      ZONE_1      0.000000  0.002272\n",
       "      ZONE_2     -0.002272  0.000000"
      ]
     },
     "execution_count": 26,
     "metadata": {},
     "output_type": "execute_result"
    }
   ],
   "source": [
    "# get the net flux using net=True flag\n",
    "zonbud.get_dataframes(net=True)"
   ]
  },
  {
   "cell_type": "code",
   "execution_count": 27,
   "metadata": {
    "execution": {
     "iopub.execute_input": "2023-05-02T02:55:42.804731Z",
     "iopub.status.busy": "2023-05-02T02:55:42.804463Z",
     "iopub.status.idle": "2023-05-02T02:55:42.821267Z",
     "shell.execute_reply": "2023-05-02T02:55:42.820245Z"
    }
   },
   "outputs": [
    {
     "data": {
      "text/html": [
       "<div>\n",
       "<style scoped>\n",
       "    .dataframe tbody tr th:only-of-type {\n",
       "        vertical-align: middle;\n",
       "    }\n",
       "\n",
       "    .dataframe tbody tr th {\n",
       "        vertical-align: top;\n",
       "    }\n",
       "\n",
       "    .dataframe thead th {\n",
       "        text-align: right;\n",
       "    }\n",
       "</style>\n",
       "<table border=\"1\" class=\"dataframe\">\n",
       "  <thead>\n",
       "    <tr style=\"text-align: right;\">\n",
       "      <th></th>\n",
       "      <th>totim</th>\n",
       "      <th>kper</th>\n",
       "      <th>kstp</th>\n",
       "      <th>zone</th>\n",
       "      <th>CHD</th>\n",
       "      <th>DATA_SPDIS</th>\n",
       "      <th>RCHA</th>\n",
       "      <th>RIV</th>\n",
       "      <th>STO_SS</th>\n",
       "      <th>STO_SY</th>\n",
       "      <th>WEL</th>\n",
       "      <th>ZONE_0</th>\n",
       "      <th>ZONE_1</th>\n",
       "      <th>ZONE_2</th>\n",
       "    </tr>\n",
       "  </thead>\n",
       "  <tbody>\n",
       "    <tr>\n",
       "      <th>0</th>\n",
       "      <td>10.0</td>\n",
       "      <td>0</td>\n",
       "      <td>0</td>\n",
       "      <td>1</td>\n",
       "      <td>0.00000</td>\n",
       "      <td>0.0</td>\n",
       "      <td>0.0353</td>\n",
       "      <td>-0.016828</td>\n",
       "      <td>0.0</td>\n",
       "      <td>0.0</td>\n",
       "      <td>-0.01620</td>\n",
       "      <td>0.0</td>\n",
       "      <td>0.000000</td>\n",
       "      <td>-0.002272</td>\n",
       "    </tr>\n",
       "    <tr>\n",
       "      <th>1</th>\n",
       "      <td>10.0</td>\n",
       "      <td>0</td>\n",
       "      <td>0</td>\n",
       "      <td>2</td>\n",
       "      <td>-0.00425</td>\n",
       "      <td>0.0</td>\n",
       "      <td>0.0342</td>\n",
       "      <td>-0.026372</td>\n",
       "      <td>0.0</td>\n",
       "      <td>0.0</td>\n",
       "      <td>-0.00585</td>\n",
       "      <td>0.0</td>\n",
       "      <td>0.002272</td>\n",
       "      <td>0.000000</td>\n",
       "    </tr>\n",
       "  </tbody>\n",
       "</table>\n",
       "</div>"
      ],
      "text/plain": [
       "   totim  kper  kstp  zone      CHD  DATA_SPDIS    RCHA       RIV  STO_SS  \\\n",
       "0   10.0     0     0     1  0.00000         0.0  0.0353 -0.016828     0.0   \n",
       "1   10.0     0     0     2 -0.00425         0.0  0.0342 -0.026372     0.0   \n",
       "\n",
       "   STO_SY      WEL  ZONE_0    ZONE_1    ZONE_2  \n",
       "0     0.0 -0.01620     0.0  0.000000 -0.002272  \n",
       "1     0.0 -0.00585     0.0  0.002272  0.000000  "
      ]
     },
     "execution_count": 27,
     "metadata": {},
     "output_type": "execute_result"
    }
   ],
   "source": [
    "# we can also pivot the data into a spreadsheet like format\n",
    "zonbud.get_dataframes(net=True, pivot=True)"
   ]
  },
  {
   "cell_type": "code",
   "execution_count": 28,
   "metadata": {
    "execution": {
     "iopub.execute_input": "2023-05-02T02:55:42.825361Z",
     "iopub.status.busy": "2023-05-02T02:55:42.825014Z",
     "iopub.status.idle": "2023-05-02T02:55:42.842259Z",
     "shell.execute_reply": "2023-05-02T02:55:42.841368Z"
    }
   },
   "outputs": [
    {
     "data": {
      "text/html": [
       "<div>\n",
       "<style scoped>\n",
       "    .dataframe tbody tr th:only-of-type {\n",
       "        vertical-align: middle;\n",
       "    }\n",
       "\n",
       "    .dataframe tbody tr th {\n",
       "        vertical-align: top;\n",
       "    }\n",
       "\n",
       "    .dataframe thead th {\n",
       "        text-align: right;\n",
       "    }\n",
       "</style>\n",
       "<table border=\"1\" class=\"dataframe\">\n",
       "  <thead>\n",
       "    <tr style=\"text-align: right;\">\n",
       "      <th></th>\n",
       "      <th>totim</th>\n",
       "      <th>kper</th>\n",
       "      <th>kstp</th>\n",
       "      <th>zone</th>\n",
       "      <th>CHD</th>\n",
       "      <th>DATA_SPDIS</th>\n",
       "      <th>RCHA</th>\n",
       "      <th>RIV</th>\n",
       "      <th>STO_SS</th>\n",
       "      <th>STO_SY</th>\n",
       "      <th>WEL</th>\n",
       "      <th>ZONE_0</th>\n",
       "      <th>ZONE_1</th>\n",
       "      <th>ZONE_2</th>\n",
       "    </tr>\n",
       "  </thead>\n",
       "  <tbody>\n",
       "    <tr>\n",
       "      <th>0</th>\n",
       "      <td>10.0</td>\n",
       "      <td>0</td>\n",
       "      <td>0</td>\n",
       "      <td>1</td>\n",
       "      <td>0.000000</td>\n",
       "      <td>0.0</td>\n",
       "      <td>0.353</td>\n",
       "      <td>-0.168280</td>\n",
       "      <td>0.0</td>\n",
       "      <td>0.0</td>\n",
       "      <td>-0.1620</td>\n",
       "      <td>0.0</td>\n",
       "      <td>0.000000</td>\n",
       "      <td>-0.022721</td>\n",
       "    </tr>\n",
       "    <tr>\n",
       "      <th>1</th>\n",
       "      <td>10.0</td>\n",
       "      <td>0</td>\n",
       "      <td>0</td>\n",
       "      <td>2</td>\n",
       "      <td>-0.042497</td>\n",
       "      <td>0.0</td>\n",
       "      <td>0.342</td>\n",
       "      <td>-0.263723</td>\n",
       "      <td>0.0</td>\n",
       "      <td>0.0</td>\n",
       "      <td>-0.0585</td>\n",
       "      <td>0.0</td>\n",
       "      <td>0.022721</td>\n",
       "      <td>0.000000</td>\n",
       "    </tr>\n",
       "  </tbody>\n",
       "</table>\n",
       "</div>"
      ],
      "text/plain": [
       "   totim  kper  kstp  zone       CHD  DATA_SPDIS   RCHA       RIV  STO_SS  \\\n",
       "0   10.0     0     0     1  0.000000         0.0  0.353 -0.168280     0.0   \n",
       "1   10.0     0     0     2 -0.042497         0.0  0.342 -0.263723     0.0   \n",
       "\n",
       "   STO_SY     WEL  ZONE_0    ZONE_1    ZONE_2  \n",
       "0     0.0 -0.1620     0.0  0.000000 -0.022721  \n",
       "1     0.0 -0.0585     0.0  0.022721  0.000000  "
      ]
     },
     "execution_count": 28,
     "metadata": {},
     "output_type": "execute_result"
    }
   ],
   "source": [
    "# or get a volumetric budget by supplying modeltime\n",
    "mt = ml.modeltime\n",
    "\n",
    "# budget recarray must be pivoted to get volumetric budget!\n",
    "zonbud.get_volumetric_budget(\n",
    "    mt, recarray=zonbud.get_budget(net=True, pivot=True)\n",
    ")"
   ]
  },
  {
   "cell_type": "code",
   "execution_count": 29,
   "metadata": {
    "execution": {
     "iopub.execute_input": "2023-05-02T02:55:42.845662Z",
     "iopub.status.busy": "2023-05-02T02:55:42.845350Z",
     "iopub.status.idle": "2023-05-02T02:55:42.875355Z",
     "shell.execute_reply": "2023-05-02T02:55:42.874351Z"
    }
   },
   "outputs": [],
   "source": [
    "try:\n",
    "    # ignore PermissionError on Windows\n",
    "    temp_dir.cleanup()\n",
    "except:\n",
    "    pass"
   ]
  }
 ],
 "metadata": {
  "anaconda-cloud": {},
  "kernelspec": {
   "display_name": "Python 3 (ipykernel)",
   "language": "python",
   "name": "python3"
  },
  "language_info": {
   "codemirror_mode": {
    "name": "ipython",
    "version": 3
   },
   "file_extension": ".py",
   "mimetype": "text/x-python",
   "name": "python",
   "nbconvert_exporter": "python",
   "pygments_lexer": "ipython3",
   "version": "3.11.0"
  }
 },
 "nbformat": 4,
 "nbformat_minor": 4
}
