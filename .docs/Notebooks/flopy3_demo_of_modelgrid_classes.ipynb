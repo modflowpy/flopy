{
 "cells": [
  {
   "cell_type": "markdown",
   "metadata": {},
   "source": [
    "# ModelGrid classes demo\n",
    "\n",
    "## The three modelgrid classes `StructuredGrid`, `VertexGrid`, and `UnstructuredGrid` will be demonstrated in this notebook. \n",
    "\n",
    "All three classes behave similarly, as they inherit their base functionality from the same \"parent\" object. Even through they behave similarly, there are also some differences between the three classes based upon the specific grid type.\n",
    "\n",
    "### This notebook will cover:\n",
    "\n",
    "   1) __How to access the modelgrid object from a model and common usages for the modelgrid__  \n",
    "   \n",
    "   2) __How to build modelgrid objects from scratch__ \n",
    "   \n",
    "   3) __Useful methods and features__  "
   ]
  },
  {
   "cell_type": "code",
   "execution_count": null,
   "metadata": {
    "execution": {
     "iopub.execute_input": "2023-05-02T02:58:03.684403Z",
     "iopub.status.busy": "2023-05-02T02:58:03.683632Z",
     "iopub.status.idle": "2023-05-02T02:58:05.641722Z",
     "shell.execute_reply": "2023-05-02T02:58:05.640860Z"
    }
   },
   "outputs": [],
   "source": [
    "import sys\n",
    "import os\n",
    "import shutil\n",
    "from tempfile import TemporaryDirectory\n",
    "import numpy as np\n",
    "import matplotlib as mpl\n",
    "import matplotlib.pyplot as plt\n",
    "\n",
    "# run installed version of flopy or add local path\n",
    "try:\n",
    "    import flopy\n",
    "except:\n",
    "    fpth = os.path.abspath(os.path.join(\"..\", \"..\"))\n",
    "    sys.path.append(fpth)\n",
    "    import flopy\n",
    "\n",
    "from flopy.discretization import StructuredGrid, VertexGrid, UnstructuredGrid\n",
    "import flopy.utils.binaryfile as bf\n",
    "\n",
    "print(sys.version)\n",
    "print(\"numpy version: {}\".format(np.__version__))\n",
    "print(\"matplotlib version: {}\".format(mpl.__version__))\n",
    "print(\"flopy version: {}\".format(flopy.__version__))"
   ]
  },
  {
   "cell_type": "code",
   "execution_count": null,
   "metadata": {
    "execution": {
     "iopub.execute_input": "2023-05-02T02:58:05.702158Z",
     "iopub.status.busy": "2023-05-02T02:58:05.701684Z",
     "iopub.status.idle": "2023-05-02T02:58:05.706118Z",
     "shell.execute_reply": "2023-05-02T02:58:05.705227Z"
    }
   },
   "outputs": [],
   "source": [
    "# set the names of our modflow executables\n",
    "# assumes that the executable is in users path statement\n",
    "mf6_exe = \"mf6\"\n",
    "gridgen_exe = \"gridgen\""
   ]
  },
  {
   "cell_type": "code",
   "execution_count": null,
   "metadata": {
    "execution": {
     "iopub.execute_input": "2023-05-02T02:58:05.709348Z",
     "iopub.status.busy": "2023-05-02T02:58:05.709040Z",
     "iopub.status.idle": "2023-05-02T02:58:05.719710Z",
     "shell.execute_reply": "2023-05-02T02:58:05.718816Z"
    }
   },
   "outputs": [],
   "source": [
    "# set paths to each of our model types for this example notebook\n",
    "spth = os.path.join(\"..\", \"..\", \"examples\", \"data\", \"freyberg_multilayer_transient\")\n",
    "spth6 = os.path.join(\"..\", \"..\", \"examples\", \"data\", \"mf6-freyberg\")\n",
    "vpth = os.path.join(\"..\", \"..\", \"examples\", \"data\")\n",
    "upth = os.path.join(\"..\", \"..\", \"examples\", \"data\")\n",
    "u_data_ws = os.path.join(\"..\", \"..\", \"examples\", \"data\", \"unstructured\")\n",
    "\n",
    "# temporary workspace\n",
    "temp_dir = TemporaryDirectory()\n",
    "gridgen_ws = temp_dir.name"
   ]
  },
  {
   "cell_type": "markdown",
   "metadata": {},
   "source": [
    "## Accessing the modelgrid and common usage"
   ]
  },
  {
   "cell_type": "markdown",
   "metadata": {},
   "source": [
    "### How to access the modelgrid object from a model\n",
    "\n",
    "FloPy model objects have a built in method that dynamically assembles a modelgrid from model discretization information. Therefore, if the user updates their DIS file, when they call the `modelgrid` property the new discretization information will be included within it. \n",
    "\n",
    "#### Modflow-2005 example"
   ]
  },
  {
   "cell_type": "code",
   "execution_count": null,
   "metadata": {
    "execution": {
     "iopub.execute_input": "2023-05-02T02:58:05.723548Z",
     "iopub.status.busy": "2023-05-02T02:58:05.723227Z",
     "iopub.status.idle": "2023-05-02T02:58:07.379028Z",
     "shell.execute_reply": "2023-05-02T02:58:07.377540Z"
    }
   },
   "outputs": [],
   "source": [
    "# Load a modflow-2005 model\n",
    "ml = flopy.modflow.Modflow.load(\"freyberg.nam\", model_ws=spth)\n",
    "\n",
    "# access the modelgrid object\n",
    "modelgrid = ml.modelgrid\n",
    "\n",
    "print(type(modelgrid))"
   ]
  },
  {
   "cell_type": "markdown",
   "metadata": {},
   "source": [
    "Spaitial refernce information that is stored in the NAM file, such as:\n",
    "\n",
    "`xll` : geographic location of lower left model corner x-coordinate  \n",
    "`yll` : geographic location of lower left model corner y-coordinate  \n",
    "`rotation` : modelgrid rotation in degrees  \n",
    "`epsg` : epsg code of modelgrid coordinate system  \n",
    "`proj4_str` : proj4 projection information  \n",
    "\n",
    "can be automatcally read in and applied to the modelgrid. FloPy will also write this information out when the user saves their model to file. \n",
    "\n",
    "This information can be seen by printing the modelgrid"
   ]
  },
  {
   "cell_type": "code",
   "execution_count": null,
   "metadata": {
    "execution": {
     "iopub.execute_input": "2023-05-02T02:58:07.383201Z",
     "iopub.status.busy": "2023-05-02T02:58:07.382400Z",
     "iopub.status.idle": "2023-05-02T02:58:07.388073Z",
     "shell.execute_reply": "2023-05-02T02:58:07.386963Z"
    }
   },
   "outputs": [],
   "source": [
    "print(modelgrid)"
   ]
  },
  {
   "cell_type": "markdown",
   "metadata": {},
   "source": [
    "#### Modflow-6 example\n",
    "\n",
    "Modflow-6 models also have modelgrid objects attached to them. These grids function in the way. Here is an example."
   ]
  },
  {
   "cell_type": "code",
   "execution_count": null,
   "metadata": {
    "execution": {
     "iopub.execute_input": "2023-05-02T02:58:07.392239Z",
     "iopub.status.busy": "2023-05-02T02:58:07.391391Z",
     "iopub.status.idle": "2023-05-02T02:58:07.540368Z",
     "shell.execute_reply": "2023-05-02T02:58:07.539313Z"
    }
   },
   "outputs": [],
   "source": [
    "# load a modflow-6 simulation\n",
    "sim = flopy.mf6.MFSimulation.load(sim_ws=spth6, verbosity_level=0)\n",
    "\n",
    "# get a model object from the simulation\n",
    "ml = sim.get_model(\"freyberg\")\n",
    "\n",
    "# access the modelgrid\n",
    "modelgrid1 = ml.modelgrid\n",
    "\n",
    "print(type(modelgrid1))\n",
    "print(modelgrid1)"
   ]
  },
  {
   "cell_type": "markdown",
   "metadata": {},
   "source": [
    "Note how there is no spatial reference information associated with this modelgrid. This is because, there it was not specified in the name file. In the following section, the notebook will show how to access this information from a modelgrid and how to set this information in a modelgrid object."
   ]
  },
  {
   "cell_type": "markdown",
   "metadata": {},
   "source": [
    "### Accessing and setting modelgrid reference information\n",
    "\n",
    "#### Accessing modelgrid reference information\n",
    "There are properties attached to the modelgrid that allows the user to access reference information:\n",
    "\n",
    "   - `xoffset` : returns the x-coordinate for the modelgrid's lower left corner  \n",
    "   - `yoffset` : returns the y-coordinate for the modelgrid's lower left corner  \n",
    "   - `angrot` : returns the rotation of the modelgrid in degrees  \n",
    "   - `epsg` : returns the modelgrid epsg code  \n",
    "   - `proj4` : returns the modelgrid proj4_str information  "
   ]
  },
  {
   "cell_type": "code",
   "execution_count": null,
   "metadata": {
    "execution": {
     "iopub.execute_input": "2023-05-02T02:58:07.544545Z",
     "iopub.status.busy": "2023-05-02T02:58:07.543975Z",
     "iopub.status.idle": "2023-05-02T02:58:07.579691Z",
     "shell.execute_reply": "2023-05-02T02:58:07.578453Z"
    }
   },
   "outputs": [],
   "source": [
    "xoff = modelgrid.xoffset\n",
    "yoff = modelgrid.yoffset\n",
    "angrot = modelgrid.angrot\n",
    "epsg = modelgrid.epsg\n",
    "proj4 = modelgrid.proj4\n",
    "\n",
    "print(\n",
    "    \"xoff: {}\\nyoff: {}\\nangrot: {}\\nepsg: {}\\nproj4: {}\".format(\n",
    "        xoff, yoff, angrot, epsg, proj4\n",
    "    )\n",
    ")"
   ]
  },
  {
   "cell_type": "markdown",
   "metadata": {},
   "source": [
    "#### Setting modelgrid reference information\n",
    "\n",
    "The `set_coord_info()` method allows the user to set some or all of the modelgrid's coordinate reference information. Here is an example using the modflow6 modelgrid:"
   ]
  },
  {
   "cell_type": "code",
   "execution_count": null,
   "metadata": {
    "execution": {
     "iopub.execute_input": "2023-05-02T02:58:07.583641Z",
     "iopub.status.busy": "2023-05-02T02:58:07.583213Z",
     "iopub.status.idle": "2023-05-02T02:58:07.598378Z",
     "shell.execute_reply": "2023-05-02T02:58:07.597416Z"
    }
   },
   "outputs": [],
   "source": [
    "# show the coordinate info before setting it\n",
    "print(\"Before: {}\\n\".format(modelgrid1))\n",
    "\n",
    "# set reference infromation\n",
    "modelgrid1.set_coord_info(\n",
    "    xoff=xoff, yoff=yoff, angrot=angrot, epsg=epsg, proj4=proj4\n",
    ")\n",
    "\n",
    "print(\"After: {}\".format(modelgrid1))"
   ]
  },
  {
   "cell_type": "markdown",
   "metadata": {},
   "source": [
    "*__The user can also set individual parts of the coordinate information if they do not want to supply all of the fields__*"
   ]
  },
  {
   "cell_type": "code",
   "execution_count": null,
   "metadata": {
    "execution": {
     "iopub.execute_input": "2023-05-02T02:58:07.602119Z",
     "iopub.status.busy": "2023-05-02T02:58:07.601540Z",
     "iopub.status.idle": "2023-05-02T02:58:07.609131Z",
     "shell.execute_reply": "2023-05-02T02:58:07.608080Z"
    }
   },
   "outputs": [],
   "source": [
    "# change the offsets and rotation of the modelgrid\n",
    "angrot = 55\n",
    "xll = 100\n",
    "yll = 1000\n",
    "modelgrid1.set_coord_info(xoff=xll, yoff=yll, angrot=angrot)\n",
    "\n",
    "print(modelgrid1)"
   ]
  },
  {
   "cell_type": "markdown",
   "metadata": {},
   "source": [
    "### Using the modelgrid with plotting routines\n",
    "\n",
    "FloPy's plotting routines accept a model or modelgrid object to determine cell locations for plotting. Here is an example of plotting with the modelgrid object "
   ]
  },
  {
   "cell_type": "code",
   "execution_count": null,
   "metadata": {
    "execution": {
     "iopub.execute_input": "2023-05-02T02:58:07.613158Z",
     "iopub.status.busy": "2023-05-02T02:58:07.612394Z",
     "iopub.status.idle": "2023-05-02T02:58:08.371745Z",
     "shell.execute_reply": "2023-05-02T02:58:08.370580Z"
    }
   },
   "outputs": [],
   "source": [
    "fig, axs = plt.subplots(\n",
    "    nrows=1, ncols=3, figsize=(18, 6), subplot_kw={\"aspect\": \"equal\"}\n",
    ")\n",
    "\n",
    "rotation = [0, 15, 30]\n",
    "\n",
    "for ix, ax in enumerate(axs):\n",
    "    modelgrid1.set_coord_info(angrot=rotation[ix])\n",
    "    pmv = flopy.plot.PlotMapView(modelgrid=modelgrid1, ax=ax)\n",
    "    pmv.plot_grid()\n",
    "    ax.set_title(\"Modelgrid: {} degrees rotation\".format(rotation[ix]));"
   ]
  },
  {
   "cell_type": "markdown",
   "metadata": {},
   "source": [
    "The grid lines can also be plotted directly from the modelgrid object"
   ]
  },
  {
   "cell_type": "code",
   "execution_count": null,
   "metadata": {
    "execution": {
     "iopub.execute_input": "2023-05-02T02:58:08.380350Z",
     "iopub.status.busy": "2023-05-02T02:58:08.379868Z",
     "iopub.status.idle": "2023-05-02T02:58:08.571042Z",
     "shell.execute_reply": "2023-05-02T02:58:08.569586Z"
    }
   },
   "outputs": [],
   "source": [
    "modelgrid1.plot();"
   ]
  },
  {
   "cell_type": "markdown",
   "metadata": {},
   "source": [
    "## Building modelgrid objects from scratch"
   ]
  },
  {
   "cell_type": "markdown",
   "metadata": {},
   "source": [
    "### `StructuredGrid` example\n",
    "\n",
    "The `StructuredGrid` class can accept a number of parameters, however for a minimal working `StructuredGrid` the user only needs to provide:\n",
    "\n",
    "   - `delc` : Array of cell widths along columns\n",
    "   - `delr` : Array of cell widths along rows\n",
    "   \n",
    "Other optional, but useful parameters the user can supply include:\n",
    "   - `top` : Array of model Top elevations\n",
    "   - `botm` : Array of layer Botm elevations\n",
    "   - `idomain` : An ibound or idomain array that specifies active and inactive cells\n",
    "   - `lenuni` : Model length unit integer\n",
    "   - `epsg` : epsg code of model coordinate system\n",
    "   - `proj4` : proj4 str describining model coordinate system\n",
    "   - `prj` : path to \".prj\" projection file that describes the model coordinate system\n",
    "   - `xoff` : x-coordinate of the lower-left corner of the modelgrid\n",
    "   - `yoff` : y-coordinate of the lower-left corner of the modelgrid\n",
    "   - `angrot` : model grid rotation\n",
    "   - `nlay` : number of model layers\n",
    "   - `nrow` : number of model rows\n",
    "   - `ncol` : number of model columns\n",
    "   - `laycbd` : array of length, nlay indicating if Quasi-3D confining layers exist\n",
    "   \n",
    "\n",
    "#### *In this example, some of the more common parameters are used to create a `StructuredGrid`*"
   ]
  },
  {
   "cell_type": "code",
   "execution_count": null,
   "metadata": {
    "execution": {
     "iopub.execute_input": "2023-05-02T02:58:08.575787Z",
     "iopub.status.busy": "2023-05-02T02:58:08.575062Z",
     "iopub.status.idle": "2023-05-02T02:58:08.587638Z",
     "shell.execute_reply": "2023-05-02T02:58:08.586458Z"
    }
   },
   "outputs": [],
   "source": [
    "xll = 3579\n",
    "yll = 10000\n",
    "rotation = 0\n",
    "\n",
    "nrow = 40\n",
    "ncol = 20\n",
    "nlay = 1\n",
    "Lx = 4000\n",
    "Ly = 8000\n",
    "\n",
    "# create delr and delc arrays\n",
    "delr = np.ones((ncol,)) * (Lx / ncol)\n",
    "delc = np.ones((nrow,)) * (Ly / nrow)\n",
    "\n",
    "# create a sloped top and bottom\n",
    "slope = np.linspace(100, 0, nrow)\n",
    "slope.shape = (1, nrow)\n",
    "\n",
    "top = np.ones((nrow, ncol)) * slope.T\n",
    "botm = np.ones((nlay, nrow, ncol)) * (top - 100)\n",
    "\n",
    "# create an ibound array\n",
    "ibound = np.ones((nrow, ncol), dtype=int)\n",
    "ibound[-1, 0:5] = 0\n",
    "ibound[-1, 15:] = 0\n",
    "\n",
    "\n",
    "modelgrid = StructuredGrid(\n",
    "    delr=delr,\n",
    "    delc=delc,\n",
    "    top=top,\n",
    "    botm=botm,\n",
    "    idomain=ibound,\n",
    "    nlay=nlay,\n",
    "    xoff=xll,\n",
    "    yoff=yll,\n",
    "    angrot=rotation,\n",
    ")\n",
    "modelgrid"
   ]
  },
  {
   "cell_type": "markdown",
   "metadata": {},
   "source": [
    "#### Plot some of the modelgrid information"
   ]
  },
  {
   "cell_type": "code",
   "execution_count": null,
   "metadata": {
    "execution": {
     "iopub.execute_input": "2023-05-02T02:58:08.592066Z",
     "iopub.status.busy": "2023-05-02T02:58:08.591699Z",
     "iopub.status.idle": "2023-05-02T02:58:09.006479Z",
     "shell.execute_reply": "2023-05-02T02:58:09.005578Z"
    }
   },
   "outputs": [],
   "source": [
    "fig, ax = plt.subplots(figsize=(10, 10))\n",
    "\n",
    "pmv = flopy.plot.PlotMapView(modelgrid=modelgrid)\n",
    "pc = pmv.plot_array(modelgrid.top, alpha=0.5)\n",
    "pmv.plot_grid()\n",
    "pmv.plot_ibound()\n",
    "\n",
    "plt.colorbar(pc)\n",
    "ax.set_title(\"Top elevations and Ibound from StructuredGrid\");"
   ]
  },
  {
   "cell_type": "markdown",
   "metadata": {},
   "source": [
    "#### Plot a CrossSection of the structured grid"
   ]
  },
  {
   "cell_type": "code",
   "execution_count": null,
   "metadata": {
    "execution": {
     "iopub.execute_input": "2023-05-02T02:58:09.009920Z",
     "iopub.status.busy": "2023-05-02T02:58:09.009587Z",
     "iopub.status.idle": "2023-05-02T02:58:09.440864Z",
     "shell.execute_reply": "2023-05-02T02:58:09.439648Z"
    }
   },
   "outputs": [],
   "source": [
    "col = 4\n",
    "\n",
    "figure, ax = plt.subplots(figsize=(15, 6))\n",
    "\n",
    "xc = flopy.plot.PlotCrossSection(modelgrid=modelgrid, line={\"column\": col})\n",
    "pc = xc.plot_array(modelgrid.top, alpha=0.5)\n",
    "xc.plot_grid()\n",
    "xc.plot_ibound()\n",
    "\n",
    "plt.colorbar(pc)\n",
    "plt.title(\"Cross-Section of StructuredGrid\");"
   ]
  },
  {
   "cell_type": "markdown",
   "metadata": {},
   "source": [
    "### `VertexGrid` example\n",
    "\n",
    "Before building the `VertexGrid` class we must first develop a grid. This example uses the `Gridgen` class and executable to produce the same grid as the MODFLOW 6 Quick Start example that is shown on the main page of the flopy repository (https://github.com/modflowpy/flopy).\n",
    "\n",
    "*NOTE*: The `Gridgen` class requires that etither a path to the executable is provided, that the executable exists in the same directory as the script, or that the executable is in the machine's PATH variables to run properly. "
   ]
  },
  {
   "cell_type": "code",
   "execution_count": null,
   "metadata": {
    "execution": {
     "iopub.execute_input": "2023-05-02T02:58:09.444567Z",
     "iopub.status.busy": "2023-05-02T02:58:09.444184Z",
     "iopub.status.idle": "2023-05-02T02:58:10.076229Z",
     "shell.execute_reply": "2023-05-02T02:58:10.075010Z"
    }
   },
   "outputs": [],
   "source": [
    "from flopy.utils.gridgen import Gridgen\n",
    "from flopy.utils.geometry import Polygon\n",
    "\n",
    "name = \"dummy\"\n",
    "nlay = 3\n",
    "nrow = 10\n",
    "ncol = 10\n",
    "delr = delc = 1.0\n",
    "top = 1\n",
    "bot = 0\n",
    "dz = (top - bot) / nlay\n",
    "botm = [top - k * dz for k in range(1, nlay + 1)]\n",
    "\n",
    "# Create a dummy model and regular grid to use as the base grid for gridgen\n",
    "sim = flopy.mf6.MFSimulation(sim_name=name, sim_ws=gridgen_ws, exe_name=\"mf6\")\n",
    "gwf = flopy.mf6.ModflowGwf(sim, modelname=name)\n",
    "\n",
    "dis = flopy.mf6.ModflowGwfdis(\n",
    "    gwf,\n",
    "    nlay=nlay,\n",
    "    nrow=nrow,\n",
    "    ncol=ncol,\n",
    "    delr=delr,\n",
    "    delc=delc,\n",
    "    top=top,\n",
    "    botm=botm,\n",
    ")\n",
    "\n",
    "# Create and build the gridgen model with a refined area in the middle\n",
    "g = Gridgen(gwf.modelgrid, model_ws=gridgen_ws)\n",
    "polys = [Polygon([(4, 4), (6, 4), (6, 6), (4, 6), (4, 4)])]\n",
    "g.add_refinement_features(polys, \"polygon\", 3, range(nlay))\n",
    "g.build()"
   ]
  },
  {
   "cell_type": "code",
   "execution_count": null,
   "metadata": {
    "execution": {
     "iopub.execute_input": "2023-05-02T02:58:10.080289Z",
     "iopub.status.busy": "2023-05-02T02:58:10.079899Z",
     "iopub.status.idle": "2023-05-02T02:58:10.224564Z",
     "shell.execute_reply": "2023-05-02T02:58:10.223395Z"
    }
   },
   "outputs": [],
   "source": [
    "# get the vertex grid properties from gridgen and examine them\n",
    "gridprops = g.get_gridprops_vertexgrid()\n",
    "gridprops.keys()"
   ]
  },
  {
   "cell_type": "markdown",
   "metadata": {},
   "source": [
    "#### Building the `VertexGrid`\n",
    "\n",
    "`VertexGrid` has many similar parameters as the previous `StructuredGrid` example. For a minimal working modelgrid, `VertexGrid` requires:\n",
    "   \n",
    "   - `vertices` : list of vertex number, xvertex, yvertex that make up the grid\n",
    "   - `cell2d` : list containing node number, xcenter, ycenter, and vertex numbers (from vertices)\n",
    "   \n",
    "Other optional, but useful parameters include:\n",
    "\n",
    "   - `top` : Array of model Top elevations\n",
    "   - `botm` : Array of layer Botm elevations\n",
    "   - `idomain` : An ibound or idomain array that specifies active and inactive cells\n",
    "   - `lenuni` : Model length unit integer\n",
    "   - `epsg` : epsg code of model coordinate system\n",
    "   - `proj4` : proj4 str describining model coordinate system\n",
    "   - `prj` : path to \".prj\" projection file that describes the model coordinate system\n",
    "   - `xoff` : x-coordinate of the lower-left corner of the modelgrid\n",
    "   - `yoff` : y-coordinate of the lower-left corner of the modelgrid\n",
    "   - `angrot` : model grid rotation\n",
    "   - `nlay` : number of model layers\n",
    "   - `ncpl` : number of cells per model layer\n",
    "   \n",
    "#### *In this example, some of the more common parameters are used to create a `VertexGrid`*"
   ]
  },
  {
   "cell_type": "code",
   "execution_count": null,
   "metadata": {
    "execution": {
     "iopub.execute_input": "2023-05-02T02:58:10.228195Z",
     "iopub.status.busy": "2023-05-02T02:58:10.227859Z",
     "iopub.status.idle": "2023-05-02T02:58:10.234872Z",
     "shell.execute_reply": "2023-05-02T02:58:10.233854Z"
    }
   },
   "outputs": [],
   "source": [
    "vertices = gridprops[\"vertices\"]\n",
    "cell2d = gridprops[\"cell2d\"]\n",
    "top = gridprops[\"top\"]\n",
    "botm = gridprops[\"botm\"]\n",
    "nlay = gridprops[\"nlay\"]\n",
    "ncpl = gridprops[\"ncpl\"]\n",
    "idomain = np.ones((nlay, ncpl), dtype=int)\n",
    "\n",
    "modelgrid = VertexGrid(\n",
    "    vertices=vertices,\n",
    "    cell2d=cell2d,\n",
    "    top=top,\n",
    "    idomain=idomain,\n",
    "    botm=botm,\n",
    "    nlay=nlay,\n",
    "    ncpl=ncpl,\n",
    ")\n",
    "print(modelgrid)"
   ]
  },
  {
   "cell_type": "markdown",
   "metadata": {},
   "source": [
    "#### Plot some of the modelgrid information"
   ]
  },
  {
   "cell_type": "code",
   "execution_count": null,
   "metadata": {
    "execution": {
     "iopub.execute_input": "2023-05-02T02:58:10.238435Z",
     "iopub.status.busy": "2023-05-02T02:58:10.238081Z",
     "iopub.status.idle": "2023-05-02T02:58:10.672119Z",
     "shell.execute_reply": "2023-05-02T02:58:10.671086Z"
    }
   },
   "outputs": [],
   "source": [
    "fig, ax = plt.subplots(figsize=(10, 10))\n",
    "\n",
    "pmv = flopy.plot.PlotMapView(modelgrid=modelgrid)\n",
    "pc = pmv.plot_array(modelgrid.top, alpha=0.5)\n",
    "pmv.plot_grid()\n",
    "pmv.plot_ibound()\n",
    "\n",
    "plt.colorbar(pc)\n",
    "ax.set_title(\"Top elevations from VertexGrid\");"
   ]
  },
  {
   "cell_type": "markdown",
   "metadata": {},
   "source": [
    "#### Plot a CrossSection of the vertex grid"
   ]
  },
  {
   "cell_type": "code",
   "execution_count": null,
   "metadata": {
    "execution": {
     "iopub.execute_input": "2023-05-02T02:58:10.675449Z",
     "iopub.status.busy": "2023-05-02T02:58:10.675155Z",
     "iopub.status.idle": "2023-05-02T02:58:11.093374Z",
     "shell.execute_reply": "2023-05-02T02:58:11.092446Z"
    }
   },
   "outputs": [],
   "source": [
    "line = [(4.45, 0), (4.45, 10)]\n",
    "\n",
    "figure, ax = plt.subplots(figsize=(15, 6))\n",
    "\n",
    "xc = flopy.plot.PlotCrossSection(modelgrid=modelgrid, line={\"line\": line})\n",
    "pc = xc.plot_array(modelgrid.botm, alpha=0.5)\n",
    "xc.plot_grid()\n",
    "xc.plot_ibound()\n",
    "\n",
    "plt.colorbar(pc)\n",
    "plt.title(\"Cross-Section of VertexGrid\");"
   ]
  },
  {
   "cell_type": "markdown",
   "metadata": {},
   "source": [
    "### `UnstructuredGrid` example\n",
    "\n",
    "Before building an `UnstructuredGrid` we must first develop a grid. This example loads saved grid information from data files to create an `UnstructuredGrid`. \n",
    "\n",
    "*Note*: `Gridgen` can also be used to develop an unstructured grid and examples of how to do this can be found in the notebook [flopy3_gridgen.ipynb](https://github.com/modflowpy/flopy/blob/develop/examples/Notebooks/flopy3_gridgen.ipynb) "
   ]
  },
  {
   "cell_type": "code",
   "execution_count": null,
   "metadata": {
    "execution": {
     "iopub.execute_input": "2023-05-02T02:58:11.096774Z",
     "iopub.status.busy": "2023-05-02T02:58:11.096458Z",
     "iopub.status.idle": "2023-05-02T02:58:11.103836Z",
     "shell.execute_reply": "2023-05-02T02:58:11.102736Z"
    }
   },
   "outputs": [],
   "source": [
    "# simple functions to load vertices and indice lists\n",
    "def load_verts(fname):\n",
    "    verts = np.genfromtxt(\n",
    "        fname, dtype=[int, float, float], names=[\"iv\", \"x\", \"y\"]\n",
    "    )\n",
    "    verts[\"iv\"] -= 1  # zero based\n",
    "    return verts\n",
    "\n",
    "\n",
    "def load_iverts(fname):\n",
    "    f = open(fname, \"r\")\n",
    "    iverts = []\n",
    "    xc = []\n",
    "    yc = []\n",
    "    for line in f:\n",
    "        ll = line.strip().split()\n",
    "        iverts.append([int(i) - 1 for i in ll[4:]])\n",
    "        xc.append(float(ll[1]))\n",
    "        yc.append(float(ll[2]))\n",
    "    return iverts, np.array(xc), np.array(yc)"
   ]
  },
  {
   "cell_type": "markdown",
   "metadata": {},
   "source": [
    "#### Building the `UnstructuredGrid`\n",
    "\n",
    "`UnstructuredGrid` has many similar parameters as the previous `VertexGrid` example. For a minimal working, but \"incomplete\" modelgrid, `UnstructuredGrid` requires:\n",
    "   \n",
    "   - `vertices` : list of vertex number, xvertex, yvertex that make up the grid\n",
    "   - `iverts` : list of vertex numbers that make up each cell\n",
    "   - `xcenters` : list of x center coordinates for all cells in the grid if the grid\n",
    "        varies by layer or for all cells in a layer if the same grid is used\n",
    "        for all layers\n",
    "   - `ycenters` : list of y center coordinates for all cells in the grid if the grid\n",
    "        varies by layer or for all cells in a layer if the same grid is used\n",
    "        for all layers\n",
    "   \n",
    "For a \"complete\" `UnstructuredGrid` these parameters must be provided in addition to the ones listed above:\n",
    "\n",
    "   - `top` : Array of model Top elevations\n",
    "   - `botm` : Array of layer Botm elevations\n",
    "   \n",
    "Other optional, but useful parameters include:\n",
    "   \n",
    "   - `idomain` : An ibound or idomain array that specifies active and inactive cells\n",
    "   - `lenuni` : Model length unit integer\n",
    "   - `ncpl` : one dimensional array of number of cells per model layer\n",
    "   - `epsg` : epsg code of model coordinate system\n",
    "   - `proj4` : proj4 str describining model coordinate system\n",
    "   - `prj` : path to \".prj\" projection file that describes the model coordinate system\n",
    "   - `xoff` : x-coordinate of the lower-left corner of the modelgrid\n",
    "   - `yoff` : y-coordinate of the lower-left corner of the modelgrid\n",
    "   - `angrot` : model grid rotation   \n",
    "   \n",
    "#### *In this example, some of the more common parameters are used to create a `UnstructuredGrid`*"
   ]
  },
  {
   "cell_type": "code",
   "execution_count": null,
   "metadata": {
    "execution": {
     "iopub.execute_input": "2023-05-02T02:58:11.107331Z",
     "iopub.status.busy": "2023-05-02T02:58:11.106787Z",
     "iopub.status.idle": "2023-05-02T02:58:11.123657Z",
     "shell.execute_reply": "2023-05-02T02:58:11.122724Z"
    }
   },
   "outputs": [],
   "source": [
    "# load vertices\n",
    "fname = os.path.join(u_data_ws, \"ugrid_verts.dat\")\n",
    "verts = load_verts(fname)\n",
    "\n",
    "# load the index list into iverts, xc, and yc\n",
    "fname = os.path.join(u_data_ws, \"ugrid_iverts.dat\")\n",
    "iverts, xc, yc = load_iverts(fname)\n",
    "\n",
    "# create a 3 layer model grid\n",
    "ncpl = np.array(3 * [len(iverts)])\n",
    "nnodes = np.sum(ncpl)\n",
    "\n",
    "top = np.ones((nnodes))\n",
    "botm = np.ones((nnodes))\n",
    "\n",
    "# set top and botm elevations\n",
    "i0 = 0\n",
    "i1 = ncpl[0]\n",
    "elevs = [100, 0, -100, -200]\n",
    "for ix, cpl in enumerate(ncpl):\n",
    "    top[i0:i1] *= elevs[ix]\n",
    "    botm[i0:i1] *= elevs[ix + 1]\n",
    "    i0 += cpl\n",
    "    i1 += cpl\n",
    "\n",
    "# create the modelgrid\n",
    "modelgrid = UnstructuredGrid(\n",
    "    vertices=verts,\n",
    "    iverts=iverts,\n",
    "    xcenters=xc,\n",
    "    ycenters=yc,\n",
    "    top=top,\n",
    "    botm=botm,\n",
    "    ncpl=ncpl,\n",
    ")"
   ]
  },
  {
   "cell_type": "markdown",
   "metadata": {},
   "source": [
    "#### Plot some of the modelgrid information"
   ]
  },
  {
   "cell_type": "code",
   "execution_count": null,
   "metadata": {
    "execution": {
     "iopub.execute_input": "2023-05-02T02:58:11.127508Z",
     "iopub.status.busy": "2023-05-02T02:58:11.126990Z",
     "iopub.status.idle": "2023-05-02T02:58:11.565013Z",
     "shell.execute_reply": "2023-05-02T02:58:11.563890Z"
    }
   },
   "outputs": [],
   "source": [
    "# rotate the modelgrid for the fun of it\n",
    "modelgrid.set_coord_info(angrot=10)\n",
    "\n",
    "fig, ax = plt.subplots(figsize=(10, 10))\n",
    "\n",
    "pmv = flopy.plot.PlotMapView(modelgrid=modelgrid)\n",
    "pmv.plot_grid()\n",
    "\n",
    "# plot cell centers\n",
    "plt.plot(modelgrid.xcellcenters, modelgrid.ycellcenters, \"bo\")\n",
    "\n",
    "ax.set_title(\"Cell centers from UnstructuredGrid\");"
   ]
  },
  {
   "cell_type": "markdown",
   "metadata": {},
   "source": [
    "#### Plot a CrossSection of the unstructured grid"
   ]
  },
  {
   "cell_type": "code",
   "execution_count": null,
   "metadata": {
    "execution": {
     "iopub.execute_input": "2023-05-02T02:58:11.570612Z",
     "iopub.status.busy": "2023-05-02T02:58:11.569918Z",
     "iopub.status.idle": "2023-05-02T02:58:11.979873Z",
     "shell.execute_reply": "2023-05-02T02:58:11.978517Z"
    }
   },
   "outputs": [],
   "source": [
    "line = [(350, 0), (300, 800)]\n",
    "\n",
    "figure, ax = plt.subplots(figsize=(15, 6))\n",
    "\n",
    "# note geographic_coords=True should be set for unstructured grid cross-sections\n",
    "xc = flopy.plot.PlotCrossSection(\n",
    "    modelgrid=modelgrid, line={\"line\": line}, geographic_coords=True\n",
    ")\n",
    "pc = xc.plot_array(modelgrid.botm, alpha=0.5)\n",
    "xc.plot_grid()\n",
    "\n",
    "plt.colorbar(pc)\n",
    "plt.title(\"Cross-Section of UnstructuredGrid\");"
   ]
  },
  {
   "cell_type": "markdown",
   "metadata": {},
   "source": [
    "## Useful methods and properties of the modelgrid classes\n",
    "\n",
    "Many of the useful methods and features of the modelgrid classes will be presented in this section of the Notebook. The modelgrid classes have a large number of common properties and methods that we will explore. Let's first load a model and look at all of the common features."
   ]
  },
  {
   "cell_type": "code",
   "execution_count": null,
   "metadata": {
    "execution": {
     "iopub.execute_input": "2023-05-02T02:58:11.983581Z",
     "iopub.status.busy": "2023-05-02T02:58:11.983251Z",
     "iopub.status.idle": "2023-05-02T02:58:12.048003Z",
     "shell.execute_reply": "2023-05-02T02:58:12.047123Z"
    }
   },
   "outputs": [],
   "source": [
    "# load a modflow-6 freyberg simulation\n",
    "sim = flopy.mf6.MFSimulation.load(\n",
    "    sim_ws=spth6, verbosity_level=0, exe_name=mf6_exe\n",
    ")\n",
    "\n",
    "# get a model object from the simulation\n",
    "ml = sim.get_model(\"freyberg\")\n",
    "\n",
    "# access the modelgrid\n",
    "modelgrid = ml.modelgrid\n",
    "\n",
    "# and set the coordinate info\n",
    "modelgrid.set_coord_info(\n",
    "    xoff=622241.1904510253,\n",
    "    yoff=3343617.741737109,\n",
    "    angrot=15.0,\n",
    "    proj4=\"+proj=utm +zone=14 +ellps=WGS84 +datum=WGS84 +units=m +no_defs\",\n",
    ")"
   ]
  },
  {
   "cell_type": "markdown",
   "metadata": {},
   "source": [
    "### Common properties\n",
    "\n",
    "There are many common (shared) properties that are present in `StructuredGrid`, `VertexGrid`, and `UnstructuredGrid`:\n"
   ]
  },
  {
   "cell_type": "markdown",
   "metadata": {},
   "source": [
    "#### Grid info properties\n",
    "\n",
    "   - `is_valid` : returns True if modelgrid is valid\n",
    "   - `is_complete` : returns True if modelgrid has all basic information and `top`, `botm`, and `idomain` have been set\n",
    "   - `grid_type` : returns a string representation of the grid type (\"structured\", \"vertex\", or \"unstructured\")\n",
    "   - `units` : returns a string representation of model units\n",
    "   - `lenuni` : returns an integer representation of model units\n",
    "   - `extent` : returns the modelgrid extent as (xmin, xmax, ymin, ymax)  \n",
    "   "
   ]
  },
  {
   "cell_type": "code",
   "execution_count": null,
   "metadata": {
    "execution": {
     "iopub.execute_input": "2023-05-02T02:58:12.051472Z",
     "iopub.status.busy": "2023-05-02T02:58:12.051173Z",
     "iopub.status.idle": "2023-05-02T02:58:12.057585Z",
     "shell.execute_reply": "2023-05-02T02:58:12.056755Z"
    }
   },
   "outputs": [],
   "source": [
    "# print grid info properties\n",
    "if modelgrid.is_valid and modelgrid.is_complete:\n",
    "    print(\"{} modelgrid is valid and complete\\n\".format(modelgrid.grid_type))\n",
    "\n",
    "print(\"lenuni: {}, units: {}\\n\".format(modelgrid.lenuni, modelgrid.units))\n",
    "\n",
    "print(\n",
    "    \"lower left corner: ({0}, {2}), upper right corner: ({1}, {3})\".format(\n",
    "        *modelgrid.extent\n",
    "    )\n",
    ")"
   ]
  },
  {
   "cell_type": "markdown",
   "metadata": {},
   "source": [
    "#### Spatial reference properties\n",
    "\n",
    "   - `xoffset` : returns the current xoffset of the modelgrid\n",
    "   - `yoffset` : returns the current yoffset of the modelgrid\n",
    "   - `angrot` : returns the angle of rotation of the modelgrid in degrees\n",
    "   - `angrot_radians` : returns the angle of rotation of the modelgrid in radians\n",
    "   - `epsg` : returns the modelgrid epsg code if it is set\n",
    "   - `proj4` : returns the modelgrid proj4 string if it is set\n",
    "   - `prj` : returns the path to the modelgrid projection file if it is set"
   ]
  },
  {
   "cell_type": "code",
   "execution_count": null,
   "metadata": {
    "execution": {
     "iopub.execute_input": "2023-05-02T02:58:12.060988Z",
     "iopub.status.busy": "2023-05-02T02:58:12.060477Z",
     "iopub.status.idle": "2023-05-02T02:58:12.065728Z",
     "shell.execute_reply": "2023-05-02T02:58:12.064600Z"
    }
   },
   "outputs": [],
   "source": [
    "# Access and print some of these properties\n",
    "print(\n",
    "    \"xoffset: {}, yoffset: {}\\n\".format(modelgrid.xoffset, modelgrid.yoffset)\n",
    ")\n",
    "print(\n",
    "    \"rotation (deg): {:.1f}, (rad): {:.4f}\\n\".format(\n",
    "        modelgrid.angrot, modelgrid.angrot_radians\n",
    "    )\n",
    ")\n",
    "print(\"proj4_str: {}\".format(modelgrid.proj4))"
   ]
  },
  {
   "cell_type": "markdown",
   "metadata": {},
   "source": [
    "#### Model discretization properties\n",
    "   \n",
    "   - `shape` : returns the shape of the modelgrid (tuple)\n",
    "   - `ncpl` : returns the number of cells per layer\n",
    "   - `nnodes` : returns the number of cells in the model\n",
    "   - `top` : returns an array of the top elevation of the model or for unstructured grids the top elevation of all cells\n",
    "   - `botm` : retuns an array of the botm elevations of model cells\n",
    "   - `cell_thickness` : returns an array of model cell thickness\n",
    "   - `idomain` : retruns the idomain array associated with the model\n",
    "   - `xvertices` : returns an array of x-vertices for model cells\n",
    "   - `yvertices` : returns an array of y-vertices for model cells\n",
    "   - `zvertices` : returns an array of z-vertices for model cells\n",
    "   - `xcellcenters` : returns an array of x-vertices for model cell centers\n",
    "   - `ycellcenters` : returns an array of y-vertices for model cell centers\n",
    "   - `verts` : returns a list of vertex number, x-coordinate, y-coordinate\n",
    "   - `iverts` : returns a list of cell number, vertex numbers for each cell"
   ]
  },
  {
   "cell_type": "code",
   "execution_count": null,
   "metadata": {
    "execution": {
     "iopub.execute_input": "2023-05-02T02:58:12.068996Z",
     "iopub.status.busy": "2023-05-02T02:58:12.068705Z",
     "iopub.status.idle": "2023-05-02T02:58:12.073714Z",
     "shell.execute_reply": "2023-05-02T02:58:12.072743Z"
    }
   },
   "outputs": [],
   "source": [
    "# look at some model discretization information\n",
    "\n",
    "print(\"Grid shape: {}\\n\".format(modelgrid.shape))\n",
    "print(\"number of cells per layer: {}\\n\".format(modelgrid.ncpl))\n",
    "print(\"number of cells in model: {}\".format(modelgrid.nnodes))"
   ]
  },
  {
   "cell_type": "code",
   "execution_count": null,
   "metadata": {
    "execution": {
     "iopub.execute_input": "2023-05-02T02:58:12.077305Z",
     "iopub.status.busy": "2023-05-02T02:58:12.076760Z",
     "iopub.status.idle": "2023-05-02T02:58:12.396353Z",
     "shell.execute_reply": "2023-05-02T02:58:12.394762Z"
    }
   },
   "outputs": [],
   "source": [
    "# plot the model cell vertices and cell centers\n",
    "fig, ax = plt.subplots(figsize=(10, 10), subplot_kw={\"aspect\": \"equal\"})\n",
    "\n",
    "ax.plot(\n",
    "    np.ravel(modelgrid.xvertices),\n",
    "    np.ravel(modelgrid.yvertices),\n",
    "    \"ro\",\n",
    "    label=\"Grid cell vertices\",\n",
    "    ms=5,\n",
    ")\n",
    "ax.plot(\n",
    "    np.ravel(modelgrid.xcellcenters),\n",
    "    np.ravel(modelgrid.ycellcenters),\n",
    "    \"ko\",\n",
    "    label=\"Grid cell centers\",\n",
    "    ms=4,\n",
    ")\n",
    "plt.legend(\n",
    "    loc=0,\n",
    ")\n",
    "plt.title(\"modelgrid cell vertices and centers\");"
   ]
  },
  {
   "cell_type": "code",
   "execution_count": null,
   "metadata": {
    "execution": {
     "iopub.execute_input": "2023-05-02T02:58:12.400303Z",
     "iopub.status.busy": "2023-05-02T02:58:12.399947Z",
     "iopub.status.idle": "2023-05-02T02:58:13.283640Z",
     "shell.execute_reply": "2023-05-02T02:58:13.282617Z"
    }
   },
   "outputs": [],
   "source": [
    "# plot layer 1 top, botm, and thickness with ibound overlain\n",
    "fig, axs = plt.subplots(\n",
    "    nrows=1, ncols=3, figsize=(18, 6), subplot_kw={\"aspect\": \"equal\"}\n",
    ")\n",
    "\n",
    "arrays = [modelgrid.top, modelgrid.botm, modelgrid.cell_thickness]\n",
    "\n",
    "labels = [\"top\", \"botm\", \"thickness\"]\n",
    "\n",
    "# plot arrays\n",
    "for ix, ax in enumerate(axs):\n",
    "    pmv = flopy.plot.PlotMapView(modelgrid=modelgrid, ax=ax)\n",
    "    pc = pmv.plot_array(\n",
    "        arrays[ix], masked_values=[1e30], vmin=0, vmax=35, alpha=0.5\n",
    "    )\n",
    "    pmv.plot_grid()\n",
    "    pmv.plot_inactive()\n",
    "    ax.set_title(\"Modelgrid: {}\".format(labels[ix]))\n",
    "\n",
    "plt.colorbar(pc);"
   ]
  },
  {
   "cell_type": "markdown",
   "metadata": {},
   "source": [
    "### Common methods"
   ]
  },
  {
   "cell_type": "markdown",
   "metadata": {},
   "source": [
    "There are also many common (shared) methods that are present in `StructuredGrid`, `VertexGrid`, and `UnstructuredGrid`:"
   ]
  },
  {
   "cell_type": "markdown",
   "metadata": {},
   "source": [
    "#### Overview of methods\n",
    "\n",
    "   - `set_coord_info()` : Method to set coordinate reference information for the modelgrid\n",
    "   - `get_coords()` : Method to convert model coordinates to real-world coordinates based on coordinate reference information\n",
    "   - `get_local_coords()` : Method to convert real-world coordinates to model coordinates based on coordinate reference information\n",
    "   - `intersect()` : Method to get the cellid (`StructuredGrid`=(row, column) OR `VertexGrid` & `UnstrucuturedGrid`=node number) from either model coordinates or from real-world coordinates\n",
    "   - `saturated_thickness()` : Method to get the saturated thickness\n",
    "   - `write_shapefile()` : Method to write a shapefile of the grid with just the cellid attributes"
   ]
  },
  {
   "cell_type": "markdown",
   "metadata": {},
   "source": [
    "#### set_coord_info()\n",
    "\n",
    "Method to set coordinate reference information for the modelgrid. This method accepts the following optional parameters:\n",
    "\n",
    "   - `xoff` : lower-left corner of modelgrid x-coordinate location\n",
    "   - `yoff` : lower-left corner of modelgrid y-coordinate location\n",
    "   - `angrot` : rotation of model grid in degrees\n",
    "   - `epsg` : epsg code for model grid projection\n",
    "   - `proj4` : proj4 string describing the model grid projection\n",
    "   - `merge_coord_info` : boolean flag to either merge changes with the existing coordinate info or clear existing coordinate info before applying changes."
   ]
  },
  {
   "cell_type": "code",
   "execution_count": null,
   "metadata": {
    "execution": {
     "iopub.execute_input": "2023-05-02T02:58:13.293393Z",
     "iopub.status.busy": "2023-05-02T02:58:13.293016Z",
     "iopub.status.idle": "2023-05-02T02:58:13.759614Z",
     "shell.execute_reply": "2023-05-02T02:58:13.758392Z"
    }
   },
   "outputs": [],
   "source": [
    "fig, ax = plt.subplots(\n",
    "    nrows=1, ncols=2, figsize=(12, 8), subplot_kw={\"aspect\": \"equal\"}\n",
    ")\n",
    "\n",
    "# example usage with merge_coord_info=True\n",
    "modelgrid.set_coord_info(xoff=50000)\n",
    "print(modelgrid)\n",
    "modelgrid.plot(ax=ax[0])\n",
    "ax[0].set_title(\"merge_coord_info=True\")\n",
    "\n",
    "# example usage with merge_coord_info=False\n",
    "modelgrid.set_coord_info(angrot=45, merge_coord_info=False)\n",
    "print(modelgrid)\n",
    "modelgrid.plot(ax=ax[1])\n",
    "ax[1].set_title(\"merge_coord_info=False\");"
   ]
  },
  {
   "cell_type": "markdown",
   "metadata": {},
   "source": [
    "#### get_coords()\n",
    "\n",
    "Method to convert model coordinates to real-world coordinates based on coordinate reference information. Input parameters include:\n",
    "\n",
    "   - `x` : float, list, or array of x coordinate values\n",
    "   - `y` : float, list, or array of y coordinate values"
   ]
  },
  {
   "cell_type": "code",
   "execution_count": null,
   "metadata": {
    "execution": {
     "iopub.execute_input": "2023-05-02T02:58:13.764801Z",
     "iopub.status.busy": "2023-05-02T02:58:13.764505Z",
     "iopub.status.idle": "2023-05-02T02:58:14.102477Z",
     "shell.execute_reply": "2023-05-02T02:58:14.100948Z"
    }
   },
   "outputs": [],
   "source": [
    "# create some synthetic pumping data\n",
    "x = modelgrid.xoffset + np.random.rand(10) * 4000\n",
    "y = modelgrid.yoffset + np.random.rand(10) * 10000\n",
    "q = np.random.rand(10) * -1000\n",
    "\n",
    "# get \"real-world coordinates\"\n",
    "rw_coords = modelgrid.get_coords(x, y)\n",
    "\n",
    "fig, ax = plt.subplots(figsize=(10, 10), subplot_kw={\"aspect\": \"equal\"})\n",
    "\n",
    "pmv = flopy.plot.PlotMapView(modelgrid=modelgrid, ax=ax)\n",
    "pmv.plot_grid()\n",
    "\n",
    "s = ax.scatter(rw_coords[0], rw_coords[1], c=q, cmap=\"viridis_r\")\n",
    "plt.colorbar(s);"
   ]
  },
  {
   "cell_type": "markdown",
   "metadata": {},
   "source": [
    "#### get_local_coords()\n",
    "\n",
    "Method to convert real-world coordinates to local coordinates based on coordinate reference information. Input parameters include:\n",
    "\n",
    "   - `x` : float, list, or array of x coordinate values\n",
    "   - `y` : float, list, or array of y coordinate values"
   ]
  },
  {
   "cell_type": "code",
   "execution_count": null,
   "metadata": {
    "execution": {
     "iopub.execute_input": "2023-05-02T02:58:14.106069Z",
     "iopub.status.busy": "2023-05-02T02:58:14.105669Z",
     "iopub.status.idle": "2023-05-02T02:58:14.407233Z",
     "shell.execute_reply": "2023-05-02T02:58:14.406149Z"
    }
   },
   "outputs": [],
   "source": [
    "# reuse the \"real world\" coordinates from the previous cell\n",
    "l_coords = modelgrid.get_local_coords(rw_coords[0], rw_coords[1])\n",
    "\n",
    "# show that these have been properly translated\n",
    "print(np.allclose(x, l_coords[0]))\n",
    "print(np.allclose(y, l_coords[1]))\n",
    "\n",
    "# plot the local coords on a modelgrid that is in model units\n",
    "modelgrid.set_coord_info(merge_coord_info=False)\n",
    "\n",
    "fig, ax = plt.subplots(figsize=(10, 10), subplot_kw={\"aspect\": \"equal\"})\n",
    "\n",
    "pmv = flopy.plot.PlotMapView(modelgrid=modelgrid, ax=ax)\n",
    "pmv.plot_grid()\n",
    "\n",
    "s = ax.scatter(l_coords[0], l_coords[1], c=q, cmap=\"viridis_r\")\n",
    "plt.colorbar(s);"
   ]
  },
  {
   "cell_type": "markdown",
   "metadata": {},
   "source": [
    "#### `intersect()` \n",
    "\n",
    "Method to get the cellid (`StructuredGrid`=(row, column) OR `VertexGrid` & `UnstrucuturedGrid`=node number) from either model coordinates or from real-world coordinates. Parameters include:\n",
    "\n",
    "   - `x` : x coordinate value\n",
    "   - `y` : y coordinate value\n",
    "   - `local` : if True x and y are in local coordinates (default is False)\n",
    "   - `forgive` : forgive x, y coordinate pairs and return NaN when coordinate pairs fall outside the model domain (default is False)"
   ]
  },
  {
   "cell_type": "code",
   "execution_count": null,
   "metadata": {
    "execution": {
     "iopub.execute_input": "2023-05-02T02:58:14.411102Z",
     "iopub.status.busy": "2023-05-02T02:58:14.410359Z",
     "iopub.status.idle": "2023-05-02T02:58:14.705098Z",
     "shell.execute_reply": "2023-05-02T02:58:14.703793Z"
    }
   },
   "outputs": [],
   "source": [
    "# apply rotation, xoffset, and yoffset to modelgrid\n",
    "modelgrid.set_coord_info(\n",
    "    xoff=622241.1904510253,\n",
    "    yoff=3343617.741737109,\n",
    "    angrot=15.0,\n",
    ")\n",
    "\n",
    "# generate some synthetic pumping data\n",
    "x = modelgrid.xoffset + np.random.rand(10) * 4000\n",
    "y = modelgrid.yoffset + np.random.rand(10) * 10000\n",
    "q = np.random.rand(10) * -0.02\n",
    "\n",
    "# intersect to get row and column locations and create pumping data\n",
    "pdata = []\n",
    "for ix, xc in enumerate(x):\n",
    "    i, j = modelgrid.intersect(xc, y[ix], forgive=True)\n",
    "    if not np.isnan(i) and not np.isnan(j):\n",
    "        if modelgrid.idomain[0, i, j]:\n",
    "            pdata.append([(0, i, j), q[ix]])\n",
    "\n",
    "# remove existing wel package\n",
    "ml.remove_package(\"wel_0\")\n",
    "\n",
    "# create a mf6 WEL package and add it to the existing model\n",
    "stress_period_data = {0: pdata}\n",
    "wel = flopy.mf6.modflow.ModflowGwfwel(\n",
    "    ml, stress_period_data=stress_period_data\n",
    ")\n",
    "\n",
    "# plot the locations from the new WEL package on the modelgrid\n",
    "fig, ax = plt.subplots(figsize=(10, 10), subplot_kw={\"aspect\": \"equal\"})\n",
    "\n",
    "pmv = flopy.plot.PlotMapView(modelgrid=modelgrid, ax=ax)\n",
    "pmv.plot_grid()\n",
    "pmv.plot_inactive()\n",
    "pmv.plot_bc(package=wel);"
   ]
  },
  {
   "cell_type": "markdown",
   "metadata": {},
   "source": [
    "#### saturated_thickness()\n",
    "\n",
    "Method to calculate the saturated thickness of each model cell from an array of elevations. Input parameters to this method include:\n",
    "\n",
    "   - `array` : array of elevations that will be used to adjust the cell thickness\n",
    "   - `mask` : float, list, tuple, or array of values to replace with a NaN value (ex. hdry and hnoflo values)"
   ]
  },
  {
   "cell_type": "code",
   "execution_count": null,
   "metadata": {
    "execution": {
     "iopub.execute_input": "2023-05-02T02:58:14.709502Z",
     "iopub.status.busy": "2023-05-02T02:58:14.709181Z",
     "iopub.status.idle": "2023-05-02T02:58:15.768834Z",
     "shell.execute_reply": "2023-05-02T02:58:15.767249Z"
    }
   },
   "outputs": [],
   "source": [
    "# write inputs and run the mf6 simulation with the new wells we added above\n",
    "sim.set_sim_path(gridgen_ws)\n",
    "sim.write_simulation()\n",
    "success, buff = sim.run_simulation(silent=True, report=True)\n",
    "if success:\n",
    "    for line in buff:\n",
    "        print(line)\n",
    "else:\n",
    "    raise ValueError(\"Failed to run.\")\n",
    "\n",
    "# load the binary head file from the model\n",
    "ml = sim.freyberg\n",
    "hds = ml.output.head()\n",
    "head = hds.get_alldata()[0]\n",
    "\n",
    "# calculate saturated thickness\n",
    "sat_thk = ml.modelgrid.saturated_thickness(head, mask=[1e30])\n",
    "\n",
    "# get thick for comparison\n",
    "thk = ml.modelgrid.cell_thickness\n",
    "\n",
    "# plot thickness and saturated thickness for comparison\n",
    "fig, ax = plt.subplots(\n",
    "    nrows=1, ncols=2, figsize=(16, 7), subplot_kw={\"aspect\": \"equal\"}\n",
    ")\n",
    "\n",
    "pmv = flopy.plot.PlotMapView(modelgrid=ml.modelgrid, ax=ax[0])\n",
    "pc = pmv.plot_array(thk, vmin=5, vmax=35)\n",
    "pmv.plot_ibound()\n",
    "pmv.plot_grid()\n",
    "ax[0].set_title(\"Modelgrid thickness\")\n",
    "\n",
    "pmv = flopy.plot.PlotMapView(modelgrid=ml.modelgrid, ax=ax[1])\n",
    "pc = pmv.plot_array(sat_thk, vmin=5, vmax=35)\n",
    "pmv.plot_ibound()\n",
    "pmv.plot_grid()\n",
    "ax[1].set_title(\"Saturated thickness\")\n",
    "\n",
    "plt.tight_layout()\n",
    "plt.colorbar(pc);"
   ]
  },
  {
   "cell_type": "markdown",
   "metadata": {},
   "source": [
    "#### `write_shapefile()` \n",
    "\n",
    "Method to write a shapefile of the grid with just the cellid attributes. Input parameters include:\n",
    "\n",
    "   - `filename` : shapefile name\n",
    "   - `epsg` : optional epsg code of the coordinate system projection\n",
    "   - `prj` : optional, input projection file to be used to define the coordinate system projection"
   ]
  },
  {
   "cell_type": "code",
   "execution_count": null,
   "metadata": {
    "execution": {
     "iopub.execute_input": "2023-05-02T02:58:15.779141Z",
     "iopub.status.busy": "2023-05-02T02:58:15.778731Z",
     "iopub.status.idle": "2023-05-02T02:58:15.876251Z",
     "shell.execute_reply": "2023-05-02T02:58:15.874730Z"
    }
   },
   "outputs": [],
   "source": [
    "# write a shapefile\n",
    "shp_name = os.path.join(gridgen_ws, \"freyberg-6_grid.shp\")\n",
    "epsg = \"32614\"\n",
    "\n",
    "ml.modelgrid.write_shapefile(shp_name, epsg)"
   ]
  },
  {
   "cell_type": "code",
   "execution_count": null,
   "metadata": {
    "execution": {
     "iopub.execute_input": "2023-05-02T02:58:15.880434Z",
     "iopub.status.busy": "2023-05-02T02:58:15.879482Z",
     "iopub.status.idle": "2023-05-02T02:58:15.925500Z",
     "shell.execute_reply": "2023-05-02T02:58:15.923985Z"
    }
   },
   "outputs": [],
   "source": [
    "try:\n",
    "    # ignore PermissionError on Windows\n",
    "    temp_dir.cleanup()\n",
    "except:\n",
    "    pass"
   ]
  }
 ],
 "metadata": {
  "kernelspec": {
   "display_name": "Python 3 (ipykernel)",
   "language": "python",
   "name": "python3"
  },
  "language_info": {
   "codemirror_mode": {
    "name": "ipython",
    "version": 3
   },
   "file_extension": ".py",
   "mimetype": "text/x-python",
   "name": "python",
   "nbconvert_exporter": "python",
   "pygments_lexer": "ipython3",
   "version": "3.11.0"
  }
 },
 "nbformat": 4,
 "nbformat_minor": 4
}
