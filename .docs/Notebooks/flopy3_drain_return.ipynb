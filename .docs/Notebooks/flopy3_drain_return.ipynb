{
 "cells": [
  {
   "attachments": {},
   "cell_type": "markdown",
   "metadata": {},
   "source": [
    "# Flopy Drain Return (DRT) capabilities"
   ]
  },
  {
   "cell_type": "code",
   "execution_count": null,
   "metadata": {
    "execution": {
     "iopub.execute_input": "2023-05-02T02:55:09.701826Z",
     "iopub.status.busy": "2023-05-02T02:55:09.701477Z",
     "iopub.status.idle": "2023-05-02T02:55:11.753337Z",
     "shell.execute_reply": "2023-05-02T02:55:11.752590Z"
    }
   },
   "outputs": [],
   "source": [
    "import sys\n",
    "import os\n",
    "from tempfile import TemporaryDirectory\n",
    "import numpy as np\n",
    "import matplotlib as mpl\n",
    "import matplotlib.pyplot as plt\n",
    "\n",
    "# run installed version of flopy or add local path\n",
    "try:\n",
    "    import flopy\n",
    "except:\n",
    "    fpth = os.path.abspath(os.path.join(\"..\", \"..\"))\n",
    "    sys.path.append(fpth)\n",
    "    import flopy\n",
    "\n",
    "print(sys.version)\n",
    "print(\"numpy version: {}\".format(np.__version__))\n",
    "print(\"matplotlib version: {}\".format(mpl.__version__))\n",
    "print(\"flopy version: {}\".format(flopy.__version__))"
   ]
  },
  {
   "cell_type": "code",
   "execution_count": null,
   "metadata": {
    "execution": {
     "iopub.execute_input": "2023-05-02T02:55:11.813138Z",
     "iopub.status.busy": "2023-05-02T02:55:11.812789Z",
     "iopub.status.idle": "2023-05-02T02:55:11.823199Z",
     "shell.execute_reply": "2023-05-02T02:55:11.822140Z"
    }
   },
   "outputs": [],
   "source": [
    "# temporary directory\n",
    "temp_dir = TemporaryDirectory()\n",
    "modelpth = temp_dir.name\n",
    "\n",
    "# creat the model package\n",
    "m = flopy.modflow.Modflow(\n",
    "    \"drt_test\",\n",
    "    model_ws=modelpth,\n",
    "    exe_name=\"mfnwt\",\n",
    "    version=\"mfnwt\",\n",
    ")\n",
    "d = flopy.modflow.ModflowDis(\n",
    "    m,\n",
    "    nlay=1,\n",
    "    nrow=10,\n",
    "    ncol=10,\n",
    "    nper=1,\n",
    "    perlen=1,\n",
    "    top=10,\n",
    "    botm=0,\n",
    "    steady=True,\n",
    ")\n",
    "b = flopy.modflow.ModflowBas(m, strt=10, ibound=1)\n",
    "u = flopy.modflow.ModflowUpw(m, hk=10)\n",
    "n = flopy.modflow.ModflowNwt(m)\n",
    "o = flopy.modflow.ModflowOc(m)"
   ]
  },
  {
   "cell_type": "code",
   "execution_count": null,
   "metadata": {
    "execution": {
     "iopub.execute_input": "2023-05-02T02:55:11.826759Z",
     "iopub.status.busy": "2023-05-02T02:55:11.826407Z",
     "iopub.status.idle": "2023-05-02T02:55:11.831457Z",
     "shell.execute_reply": "2023-05-02T02:55:11.830527Z"
    }
   },
   "outputs": [],
   "source": [
    "# create the drt package\n",
    "spd = []\n",
    "for i in range(m.nrow):\n",
    "    spd.append([0, i, m.ncol - 1, 5.0, 50.0, 1, 1, 1, 1.0])\n",
    "d = flopy.modflow.ModflowDrt(m, stress_period_data={0: spd})"
   ]
  },
  {
   "cell_type": "code",
   "execution_count": null,
   "metadata": {
    "execution": {
     "iopub.execute_input": "2023-05-02T02:55:11.834764Z",
     "iopub.status.busy": "2023-05-02T02:55:11.834480Z",
     "iopub.status.idle": "2023-05-02T02:55:11.883597Z",
     "shell.execute_reply": "2023-05-02T02:55:11.882310Z"
    }
   },
   "outputs": [],
   "source": [
    "# run the drt model\n",
    "m.write_input()\n",
    "success, buff = m.run_model(silent=True, report=True)\n",
    "if success:\n",
    "    for line in buff:\n",
    "        print(line)\n",
    "else:\n",
    "    raise ValueError(\"Failed to run.\")"
   ]
  },
  {
   "cell_type": "code",
   "execution_count": null,
   "metadata": {
    "execution": {
     "iopub.execute_input": "2023-05-02T02:55:11.887425Z",
     "iopub.status.busy": "2023-05-02T02:55:11.887017Z",
     "iopub.status.idle": "2023-05-02T02:55:12.241245Z",
     "shell.execute_reply": "2023-05-02T02:55:12.240204Z"
    }
   },
   "outputs": [],
   "source": [
    "# plot heads for the drt model\n",
    "hds = flopy.utils.HeadFile(os.path.join(m.model_ws, m.name + \".hds\"))\n",
    "hds.plot(colorbar=True)"
   ]
  },
  {
   "cell_type": "code",
   "execution_count": null,
   "metadata": {
    "execution": {
     "iopub.execute_input": "2023-05-02T02:55:12.244649Z",
     "iopub.status.busy": "2023-05-02T02:55:12.244299Z",
     "iopub.status.idle": "2023-05-02T02:55:12.250134Z",
     "shell.execute_reply": "2023-05-02T02:55:12.249306Z"
    }
   },
   "outputs": [],
   "source": [
    "# remove the drt package and create a standard drain file\n",
    "spd = []\n",
    "for i in range(m.nrow):\n",
    "    spd.append([0, i, m.ncol - 1, 5.0, 1.0])\n",
    "m.remove_package(\"DRT\")\n",
    "d = flopy.modflow.ModflowDrn(m, stress_period_data={0: spd})"
   ]
  },
  {
   "cell_type": "code",
   "execution_count": null,
   "metadata": {
    "execution": {
     "iopub.execute_input": "2023-05-02T02:55:12.253430Z",
     "iopub.status.busy": "2023-05-02T02:55:12.253117Z",
     "iopub.status.idle": "2023-05-02T02:55:12.303098Z",
     "shell.execute_reply": "2023-05-02T02:55:12.301931Z"
    }
   },
   "outputs": [],
   "source": [
    "# run the drain model\n",
    "m.write_input()\n",
    "success, buff = m.run_model(silent=True, report=True)\n",
    "if success:\n",
    "    for line in buff:\n",
    "        print(line)\n",
    "else:\n",
    "    raise ValueError(\"Failed to run.\")"
   ]
  },
  {
   "cell_type": "code",
   "execution_count": null,
   "metadata": {
    "execution": {
     "iopub.execute_input": "2023-05-02T02:55:12.307015Z",
     "iopub.status.busy": "2023-05-02T02:55:12.306618Z",
     "iopub.status.idle": "2023-05-02T02:55:12.601231Z",
     "shell.execute_reply": "2023-05-02T02:55:12.600605Z"
    }
   },
   "outputs": [],
   "source": [
    "# plot the heads for the model with the drain\n",
    "hds = flopy.utils.HeadFile(os.path.join(m.model_ws, m.name + \".hds\"))\n",
    "hds.plot(colorbar=True)"
   ]
  },
  {
   "cell_type": "code",
   "execution_count": null,
   "metadata": {
    "execution": {
     "iopub.execute_input": "2023-05-02T02:55:12.603654Z",
     "iopub.status.busy": "2023-05-02T02:55:12.603403Z",
     "iopub.status.idle": "2023-05-02T02:55:12.622942Z",
     "shell.execute_reply": "2023-05-02T02:55:12.622090Z"
    }
   },
   "outputs": [],
   "source": [
    "try:\n",
    "    # ignore PermissionError on Windows\n",
    "    temp_dir.cleanup()\n",
    "except:\n",
    "    pass"
   ]
  }
 ],
 "metadata": {
  "kernelspec": {
   "display_name": "Python 3 (ipykernel)",
   "language": "python",
   "name": "python3"
  },
  "language_info": {
   "codemirror_mode": {
    "name": "ipython",
    "version": 3
   },
   "file_extension": ".py",
   "mimetype": "text/x-python",
   "name": "python",
   "nbconvert_exporter": "python",
   "pygments_lexer": "ipython3",
   "version": "3.11.0"
  }
 },
 "nbformat": 4,
 "nbformat_minor": 4
}
