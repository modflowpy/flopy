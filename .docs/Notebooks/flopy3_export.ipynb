{
 "cells": [
  {
   "attachments": {},
   "cell_type": "markdown",
   "metadata": {},
   "source": [
    "# Demo of netCDF and shapefile export capabilities within the flopy export module. "
   ]
  },
  {
   "cell_type": "code",
   "execution_count": null,
   "metadata": {
    "execution": {
     "iopub.execute_input": "2023-05-02T02:55:50.430788Z",
     "iopub.status.busy": "2023-05-02T02:55:50.430407Z",
     "iopub.status.idle": "2023-05-02T02:55:52.739081Z",
     "shell.execute_reply": "2023-05-02T02:55:52.738072Z"
    }
   },
   "outputs": [],
   "source": [
    "import os\n",
    "import sys\n",
    "import datetime\n",
    "from tempfile import TemporaryDirectory\n",
    "\n",
    "# run installed version of flopy or add local path\n",
    "try:\n",
    "    import flopy\n",
    "except:\n",
    "    fpth = os.path.abspath(os.path.join(\"..\", \"..\"))\n",
    "    sys.path.append(fpth)\n",
    "    import flopy\n",
    "\n",
    "print(sys.version)\n",
    "print(\"flopy version: {}\".format(flopy.__version__))"
   ]
  },
  {
   "cell_type": "markdown",
   "metadata": {},
   "source": [
    "Load our old friend...the Freyberg model"
   ]
  },
  {
   "cell_type": "code",
   "execution_count": null,
   "metadata": {
    "execution": {
     "iopub.execute_input": "2023-05-02T02:55:52.794291Z",
     "iopub.status.busy": "2023-05-02T02:55:52.793887Z",
     "iopub.status.idle": "2023-05-02T02:55:53.855704Z",
     "shell.execute_reply": "2023-05-02T02:55:53.854856Z"
    }
   },
   "outputs": [],
   "source": [
    "nam_file = \"freyberg.nam\"\n",
    "model_ws = os.path.join(\"..\", \"..\", \"examples\", \"data\", \"freyberg_multilayer_transient\")\n",
    "ml = flopy.modflow.Modflow.load(nam_file, model_ws=model_ws, check=False)"
   ]
  },
  {
   "cell_type": "markdown",
   "metadata": {},
   "source": [
    "We can see the ``Modelgrid`` instance has generic entries, as does ``start_datetime``"
   ]
  },
  {
   "cell_type": "code",
   "execution_count": null,
   "metadata": {
    "execution": {
     "iopub.execute_input": "2023-05-02T02:55:53.860019Z",
     "iopub.status.busy": "2023-05-02T02:55:53.859207Z",
     "iopub.status.idle": "2023-05-02T02:55:53.875753Z",
     "shell.execute_reply": "2023-05-02T02:55:53.874589Z"
    }
   },
   "outputs": [],
   "source": [
    "ml.modelgrid"
   ]
  },
  {
   "cell_type": "code",
   "execution_count": null,
   "metadata": {
    "execution": {
     "iopub.execute_input": "2023-05-02T02:55:53.880026Z",
     "iopub.status.busy": "2023-05-02T02:55:53.879593Z",
     "iopub.status.idle": "2023-05-02T02:55:53.886553Z",
     "shell.execute_reply": "2023-05-02T02:55:53.885417Z"
    }
   },
   "outputs": [],
   "source": [
    "ml.modeltime.start_datetime"
   ]
  },
  {
   "cell_type": "markdown",
   "metadata": {},
   "source": [
    "Setting the attributes of the ``ml.modelgrid`` is easy:"
   ]
  },
  {
   "cell_type": "code",
   "execution_count": null,
   "metadata": {
    "execution": {
     "iopub.execute_input": "2023-05-02T02:55:53.891032Z",
     "iopub.status.busy": "2023-05-02T02:55:53.890186Z",
     "iopub.status.idle": "2023-05-02T02:55:53.900826Z",
     "shell.execute_reply": "2023-05-02T02:55:53.899939Z"
    }
   },
   "outputs": [],
   "source": [
    "ml.modelgrid.set_coord_info(\n",
    "    xoff=123456.7, yoff=765432.1, angrot=15.0, crs=3070\n",
    ")\n",
    "ml.dis.start_datetime = \"7/4/1776\""
   ]
  },
  {
   "cell_type": "code",
   "execution_count": null,
   "metadata": {
    "execution": {
     "iopub.execute_input": "2023-05-02T02:55:53.903788Z",
     "iopub.status.busy": "2023-05-02T02:55:53.903478Z",
     "iopub.status.idle": "2023-05-02T02:55:53.908949Z",
     "shell.execute_reply": "2023-05-02T02:55:53.907599Z"
    }
   },
   "outputs": [],
   "source": [
    "ml.modeltime.start_datetime"
   ]
  },
  {
   "cell_type": "markdown",
   "metadata": {},
   "source": [
    "### Some netCDF export capabilities:\n",
    "\n",
    "#### Export the whole model (inputs and outputs)"
   ]
  },
  {
   "cell_type": "code",
   "execution_count": null,
   "metadata": {
    "execution": {
     "iopub.execute_input": "2023-05-02T02:55:53.912670Z",
     "iopub.status.busy": "2023-05-02T02:55:53.912351Z",
     "iopub.status.idle": "2023-05-02T02:55:53.920100Z",
     "shell.execute_reply": "2023-05-02T02:55:53.919052Z"
    }
   },
   "outputs": [],
   "source": [
    "# temporary directory\n",
    "temp_dir = TemporaryDirectory()\n",
    "pth = temp_dir.name"
   ]
  },
  {
   "cell_type": "code",
   "execution_count": null,
   "metadata": {
    "execution": {
     "iopub.execute_input": "2023-05-02T02:55:53.924540Z",
     "iopub.status.busy": "2023-05-02T02:55:53.923613Z",
     "iopub.status.idle": "2023-05-02T02:55:59.387485Z",
     "shell.execute_reply": "2023-05-02T02:55:59.386541Z"
    }
   },
   "outputs": [],
   "source": [
    "fnc = ml.export(os.path.join(pth, ml.name + \".in.nc\"))\n",
    "hds = flopy.utils.HeadFile(os.path.join(model_ws, \"freyberg.hds\"))\n",
    "flopy.export.utils.output_helper(\n",
    "    os.path.join(pth, ml.name + \".out.nc\"), ml, {\"hds\": hds}\n",
    ")"
   ]
  },
  {
   "cell_type": "markdown",
   "metadata": {},
   "source": [
    "#### export a single array to netcdf or shapefile"
   ]
  },
  {
   "cell_type": "code",
   "execution_count": null,
   "metadata": {
    "execution": {
     "iopub.execute_input": "2023-05-02T02:55:59.391568Z",
     "iopub.status.busy": "2023-05-02T02:55:59.390977Z",
     "iopub.status.idle": "2023-05-02T02:55:59.571069Z",
     "shell.execute_reply": "2023-05-02T02:55:59.570060Z"
    }
   },
   "outputs": [],
   "source": [
    "# export a 2d array\n",
    "ml.dis.top.export(os.path.join(pth, \"top.nc\"))\n",
    "ml.dis.top.export(os.path.join(pth, \"top.shp\"))"
   ]
  },
  {
   "cell_type": "markdown",
   "metadata": {},
   "source": [
    "#### sparse export of stress period data for a boundary condition package  \n",
    "* excludes cells that aren't in the package (aren't in `package.stress_period_data`)  \n",
    "* by default, stress periods with duplicate parameter values (e.g., stage, conductance, etc.) are omitted\n",
    "(`squeeze=True`); only stress periods with different values are exported  \n",
    "* argue `squeeze=False` to export all stress periods"
   ]
  },
  {
   "cell_type": "code",
   "execution_count": null,
   "metadata": {
    "execution": {
     "iopub.execute_input": "2023-05-02T02:55:59.575813Z",
     "iopub.status.busy": "2023-05-02T02:55:59.575329Z",
     "iopub.status.idle": "2023-05-02T02:56:04.301225Z",
     "shell.execute_reply": "2023-05-02T02:56:04.300278Z"
    }
   },
   "outputs": [],
   "source": [
    "ml.drn.stress_period_data.export(os.path.join(pth, \"drn.shp\"), sparse=True)"
   ]
  },
  {
   "cell_type": "markdown",
   "metadata": {},
   "source": [
    "#### Export a 3d array"
   ]
  },
  {
   "cell_type": "code",
   "execution_count": null,
   "metadata": {
    "execution": {
     "iopub.execute_input": "2023-05-02T02:56:04.305580Z",
     "iopub.status.busy": "2023-05-02T02:56:04.305148Z",
     "iopub.status.idle": "2023-05-02T02:56:04.499143Z",
     "shell.execute_reply": "2023-05-02T02:56:04.498173Z"
    }
   },
   "outputs": [],
   "source": [
    "# export a 3d array\n",
    "ml.upw.hk.export(os.path.join(pth, \"hk.nc\"))\n",
    "ml.upw.hk.export(os.path.join(pth, \"hk.shp\"))"
   ]
  },
  {
   "cell_type": "markdown",
   "metadata": {},
   "source": [
    "#### Export a number of things to the same netCDF file"
   ]
  },
  {
   "cell_type": "code",
   "execution_count": null,
   "metadata": {
    "execution": {
     "iopub.execute_input": "2023-05-02T02:56:04.502236Z",
     "iopub.status.busy": "2023-05-02T02:56:04.501937Z",
     "iopub.status.idle": "2023-05-02T02:56:04.620494Z",
     "shell.execute_reply": "2023-05-02T02:56:04.619584Z"
    }
   },
   "outputs": [],
   "source": [
    "# export lots of things to the same nc file\n",
    "fnc = ml.dis.botm.export(os.path.join(pth, \"test.nc\"))\n",
    "ml.upw.hk.export(fnc)\n",
    "ml.dis.top.export(fnc)\n",
    "\n",
    "# export transient 2d\n",
    "ml.rch.rech.export(fnc)"
   ]
  },
  {
   "cell_type": "markdown",
   "metadata": {},
   "source": [
    "### Export whole packages to a netCDF file"
   ]
  },
  {
   "cell_type": "code",
   "execution_count": null,
   "metadata": {
    "execution": {
     "iopub.execute_input": "2023-05-02T02:56:04.623975Z",
     "iopub.status.busy": "2023-05-02T02:56:04.623555Z",
     "iopub.status.idle": "2023-05-02T02:56:05.206550Z",
     "shell.execute_reply": "2023-05-02T02:56:05.205652Z"
    }
   },
   "outputs": [],
   "source": [
    "# export mflist\n",
    "fnc = ml.wel.export(os.path.join(pth, \"packages.nc\"))\n",
    "ml.upw.export(fnc)"
   ]
  },
  {
   "cell_type": "markdown",
   "metadata": {},
   "source": [
    "### Export the whole model to a netCDF"
   ]
  },
  {
   "cell_type": "code",
   "execution_count": null,
   "metadata": {
    "execution": {
     "iopub.execute_input": "2023-05-02T02:56:05.210232Z",
     "iopub.status.busy": "2023-05-02T02:56:05.209914Z",
     "iopub.status.idle": "2023-05-02T02:56:09.838671Z",
     "shell.execute_reply": "2023-05-02T02:56:09.837593Z"
    }
   },
   "outputs": [],
   "source": [
    "fnc = ml.export(os.path.join(pth, \"model.nc\"))"
   ]
  },
  {
   "cell_type": "markdown",
   "metadata": {},
   "source": [
    "## Export output to netcdf\n",
    "\n",
    "FloPy has utilities to export model outputs to a netcdf file. Valid output types for export are MODFLOW binary head files, formatted head files, cell budget files, seawat concentration files, and zonebudget output.\n",
    "\n",
    "Let's use output from the Freyberg model as an example of these functions"
   ]
  },
  {
   "cell_type": "code",
   "execution_count": null,
   "metadata": {
    "execution": {
     "iopub.execute_input": "2023-05-02T02:56:09.842942Z",
     "iopub.status.busy": "2023-05-02T02:56:09.842578Z",
     "iopub.status.idle": "2023-05-02T02:56:16.863731Z",
     "shell.execute_reply": "2023-05-02T02:56:16.862301Z"
    }
   },
   "outputs": [],
   "source": [
    "# load binary head and cell budget files\n",
    "fhead = os.path.join(model_ws, \"freyberg.hds\")\n",
    "fcbc = os.path.join(model_ws, \"freyberg.cbc\")\n",
    "\n",
    "hds = flopy.utils.HeadFile(fhead)\n",
    "cbc = flopy.utils.CellBudgetFile(fcbc)\n",
    "\n",
    "export_dict = {\"hds\": hds, \"cbc\": cbc}\n",
    "\n",
    "# export head and cell budget outputs to netcdf\n",
    "fnc = flopy.export.utils.output_helper(\n",
    "    os.path.join(pth, \"output.nc\"), ml, export_dict\n",
    ")"
   ]
  },
  {
   "cell_type": "code",
   "execution_count": null,
   "metadata": {
    "execution": {
     "iopub.execute_input": "2023-05-02T02:56:16.867375Z",
     "iopub.status.busy": "2023-05-02T02:56:16.866977Z",
     "iopub.status.idle": "2023-05-02T02:56:16.880101Z",
     "shell.execute_reply": "2023-05-02T02:56:16.879087Z"
    }
   },
   "outputs": [],
   "source": [
    "try:\n",
    "    # ignore PermissionError on Windows\n",
    "    temp_dir.cleanup()\n",
    "except:\n",
    "    pass"
   ]
  }
 ],
 "metadata": {
  "anaconda-cloud": {},
  "kernelspec": {
   "display_name": "Python 3 (ipykernel)",
   "language": "python",
   "name": "python3"
  },
  "language_info": {
   "codemirror_mode": {
    "name": "ipython",
    "version": 3
   },
   "file_extension": ".py",
   "mimetype": "text/x-python",
   "name": "python",
   "nbconvert_exporter": "python",
   "pygments_lexer": "ipython3",
   "version": "3.11.0"
  }
 },
 "nbformat": 4,
 "nbformat_minor": 4
}
