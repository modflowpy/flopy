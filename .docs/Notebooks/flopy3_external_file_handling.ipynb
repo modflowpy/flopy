{
 "cells": [
  {
   "attachments": {},
   "cell_type": "markdown",
   "metadata": {},
   "source": [
    "# How FloPy handles external files for arrays\n"
   ]
  },
  {
   "cell_type": "code",
   "execution_count": null,
   "metadata": {
    "execution": {
     "iopub.execute_input": "2023-05-02T02:55:16.481101Z",
     "iopub.status.busy": "2023-05-02T02:55:16.480752Z",
     "iopub.status.idle": "2023-05-02T02:55:18.393846Z",
     "shell.execute_reply": "2023-05-02T02:55:18.392943Z"
    }
   },
   "outputs": [],
   "source": [
    "import os\n",
    "import sys\n",
    "import shutil\n",
    "from tempfile import TemporaryDirectory\n",
    "\n",
    "import numpy as np\n",
    "\n",
    "# run installed version of flopy or add local path\n",
    "try:\n",
    "    import flopy\n",
    "except:\n",
    "    fpth = os.path.abspath(os.path.join(\"..\", \"..\"))\n",
    "    sys.path.append(fpth)\n",
    "    import flopy\n",
    "\n",
    "from flopy.utils import flopy_io\n",
    "\n",
    "print(sys.version)\n",
    "print(\"numpy version: {}\".format(np.__version__))\n",
    "print(\"flopy version: {}\".format(flopy.__version__))"
   ]
  },
  {
   "cell_type": "code",
   "execution_count": null,
   "metadata": {
    "execution": {
     "iopub.execute_input": "2023-05-02T02:55:18.441627Z",
     "iopub.status.busy": "2023-05-02T02:55:18.441169Z",
     "iopub.status.idle": "2023-05-02T02:55:18.451347Z",
     "shell.execute_reply": "2023-05-02T02:55:18.450587Z"
    }
   },
   "outputs": [],
   "source": [
    "# make a model\n",
    "nlay, nrow, ncol = 10, 20, 5\n",
    "temp_dir = TemporaryDirectory()\n",
    "model_ws = temp_dir.name\n",
    "\n",
    "# the place for all of your hand made and costly model inputs\n",
    "array_dir = os.path.join(temp_dir.name, \"array_dir\")\n",
    "os.mkdir(array_dir)\n",
    "\n",
    "ml = flopy.modflow.Modflow(model_ws=model_ws)\n",
    "dis = flopy.modflow.ModflowDis(\n",
    "    ml, nlay=nlay, nrow=nrow, ncol=ncol, steady=False, nper=2\n",
    ")"
   ]
  },
  {
   "cell_type": "markdown",
   "metadata": {},
   "source": [
    "make an ``hk`` and ```vka``` array.  We'll save ```hk``` to files - pretent that you spent months making this important model property.  Then make an ```lpf```"
   ]
  },
  {
   "cell_type": "code",
   "execution_count": null,
   "metadata": {
    "execution": {
     "iopub.execute_input": "2023-05-02T02:55:18.454928Z",
     "iopub.status.busy": "2023-05-02T02:55:18.454520Z",
     "iopub.status.idle": "2023-05-02T02:55:18.484647Z",
     "shell.execute_reply": "2023-05-02T02:55:18.483683Z"
    }
   },
   "outputs": [],
   "source": [
    "hk = np.zeros((nlay, nrow, ncol)) + 5.0\n",
    "vka = np.zeros_like(hk)\n",
    "fnames = []\n",
    "for i, h in enumerate(hk):\n",
    "    fname = os.path.join(array_dir, \"hk_{0}.ref\".format(i + 1))\n",
    "    fnames.append(fname)\n",
    "    np.savetxt(fname, h)\n",
    "    vka[i] = i + 1\n",
    "lpf = flopy.modflow.ModflowLpf(ml, hk=fnames, vka=vka)"
   ]
  },
  {
   "cell_type": "markdown",
   "metadata": {},
   "source": [
    "Let's also have some recharge with mixed args as well.  Pretend the recharge in the second stress period is very important and precise"
   ]
  },
  {
   "cell_type": "code",
   "execution_count": null,
   "metadata": {
    "execution": {
     "iopub.execute_input": "2023-05-02T02:55:18.487971Z",
     "iopub.status.busy": "2023-05-02T02:55:18.487681Z",
     "iopub.status.idle": "2023-05-02T02:55:18.494078Z",
     "shell.execute_reply": "2023-05-02T02:55:18.493225Z"
    }
   },
   "outputs": [],
   "source": [
    "warmup_recharge = np.ones((nrow, ncol))\n",
    "important_recharge = np.random.random((nrow, ncol))\n",
    "fname = os.path.join(array_dir, \"important_recharge.ref\")\n",
    "np.savetxt(fname, important_recharge)\n",
    "rch = flopy.modflow.ModflowRch(ml, rech={0: warmup_recharge, 1: fname})"
   ]
  },
  {
   "cell_type": "code",
   "execution_count": null,
   "metadata": {
    "execution": {
     "iopub.execute_input": "2023-05-02T02:55:18.497551Z",
     "iopub.status.busy": "2023-05-02T02:55:18.497144Z",
     "iopub.status.idle": "2023-05-02T02:55:18.548073Z",
     "shell.execute_reply": "2023-05-02T02:55:18.546989Z"
    }
   },
   "outputs": [],
   "source": [
    "ml.write_input()"
   ]
  },
  {
   "cell_type": "markdown",
   "metadata": {},
   "source": [
    "Let's look at the files that were created"
   ]
  },
  {
   "cell_type": "code",
   "execution_count": null,
   "metadata": {
    "execution": {
     "iopub.execute_input": "2023-05-02T02:55:18.551813Z",
     "iopub.status.busy": "2023-05-02T02:55:18.551382Z",
     "iopub.status.idle": "2023-05-02T02:55:18.570350Z",
     "shell.execute_reply": "2023-05-02T02:55:18.569493Z"
    }
   },
   "outputs": [],
   "source": [
    "from pprint import pprint\n",
    "\n",
    "print(\"model_ws:\", flopy_io.scrub_login(ml.model_ws))\n",
    "pprint([flopy_io.scrub_login(p) for p in os.listdir(ml.model_ws)])"
   ]
  },
  {
   "cell_type": "markdown",
   "metadata": {},
   "source": [
    "We see that a copy of the ``hk`` files as well as the important recharge file were made in the ```model_ws```.Let's looks at the ```lpf``` file"
   ]
  },
  {
   "cell_type": "code",
   "execution_count": null,
   "metadata": {
    "execution": {
     "iopub.execute_input": "2023-05-02T02:55:18.573867Z",
     "iopub.status.busy": "2023-05-02T02:55:18.573508Z",
     "iopub.status.idle": "2023-05-02T02:55:18.582093Z",
     "shell.execute_reply": "2023-05-02T02:55:18.581332Z"
    }
   },
   "outputs": [],
   "source": [
    "open(os.path.join(ml.model_ws, ml.name + \".lpf\"), \"r\").readlines()[:20]"
   ]
  },
  {
   "cell_type": "markdown",
   "metadata": {},
   "source": [
    "We see that the ```open/close``` approach was used - this is because ``ml.array_free_format`` is ``True``.  Notice that ```vka``` is written internally"
   ]
  },
  {
   "cell_type": "code",
   "execution_count": null,
   "metadata": {
    "execution": {
     "iopub.execute_input": "2023-05-02T02:55:18.585025Z",
     "iopub.status.busy": "2023-05-02T02:55:18.584715Z",
     "iopub.status.idle": "2023-05-02T02:55:18.590665Z",
     "shell.execute_reply": "2023-05-02T02:55:18.589421Z"
    }
   },
   "outputs": [],
   "source": [
    "ml.array_free_format"
   ]
  },
  {
   "cell_type": "markdown",
   "metadata": {},
   "source": [
    "Now change ```model_ws```"
   ]
  },
  {
   "cell_type": "code",
   "execution_count": null,
   "metadata": {
    "execution": {
     "iopub.execute_input": "2023-05-02T02:55:18.594577Z",
     "iopub.status.busy": "2023-05-02T02:55:18.594228Z",
     "iopub.status.idle": "2023-05-02T02:55:18.599864Z",
     "shell.execute_reply": "2023-05-02T02:55:18.599081Z"
    }
   },
   "outputs": [],
   "source": [
    "ml.model_ws = os.path.join(model_ws, \"new_external_demo_dir\")"
   ]
  },
  {
   "cell_type": "markdown",
   "metadata": {},
   "source": [
    "Now when we call ``write_input()``, a copy of external files are made in the current ```model_ws```"
   ]
  },
  {
   "cell_type": "code",
   "execution_count": null,
   "metadata": {
    "execution": {
     "iopub.execute_input": "2023-05-02T02:55:18.602893Z",
     "iopub.status.busy": "2023-05-02T02:55:18.602608Z",
     "iopub.status.idle": "2023-05-02T02:55:18.645674Z",
     "shell.execute_reply": "2023-05-02T02:55:18.644650Z"
    }
   },
   "outputs": [],
   "source": [
    "ml.write_input()"
   ]
  },
  {
   "cell_type": "code",
   "execution_count": null,
   "metadata": {
    "execution": {
     "iopub.execute_input": "2023-05-02T02:55:18.649707Z",
     "iopub.status.busy": "2023-05-02T02:55:18.649109Z",
     "iopub.status.idle": "2023-05-02T02:55:18.670528Z",
     "shell.execute_reply": "2023-05-02T02:55:18.669618Z"
    }
   },
   "outputs": [],
   "source": [
    "# list the files in model_ws that have 'hk' in the name\n",
    "print(\n",
    "    \"\\n\".join(\n",
    "        [\n",
    "            name\n",
    "            for name in os.listdir(ml.model_ws)\n",
    "            if \"hk\" in name or \"impor\" in name\n",
    "        ]\n",
    "    )\n",
    ")"
   ]
  },
  {
   "cell_type": "markdown",
   "metadata": {},
   "source": [
    "Now we see that the external files were copied to the new ```model_ws```\n",
    "\n",
    "### Using ```external_path```\n",
    "\n",
    "It is sometimes useful when first building a model to write the model arrays as external files for processing and parameter estimation.  The ```model``` attribute ```external_path``` triggers this behavior"
   ]
  },
  {
   "cell_type": "code",
   "execution_count": null,
   "metadata": {
    "execution": {
     "iopub.execute_input": "2023-05-02T02:55:18.674488Z",
     "iopub.status.busy": "2023-05-02T02:55:18.674143Z",
     "iopub.status.idle": "2023-05-02T02:55:18.720508Z",
     "shell.execute_reply": "2023-05-02T02:55:18.719616Z"
    }
   },
   "outputs": [],
   "source": [
    "# make a model - same code as before except for the model constructor\n",
    "nlay, nrow, ncol = 10, 20, 5\n",
    "model_ws = os.path.join(model_ws, \"external_demo\")\n",
    "os.mkdir(model_ws)\n",
    "\n",
    "# the place for all of your hand made and costly model inputs\n",
    "array_dir = os.path.join(model_ws, \"array_dir\")\n",
    "os.mkdir(array_dir)\n",
    "\n",
    "# lets make an external path relative to the model_ws\n",
    "ml = flopy.modflow.Modflow(\n",
    "    model_ws=model_ws, external_path=os.path.join(model_ws, \"ref\")\n",
    ")\n",
    "dis = flopy.modflow.ModflowDis(\n",
    "    ml, nlay=nlay, nrow=nrow, ncol=ncol, steady=False, nper=2\n",
    ")\n",
    "\n",
    "hk = np.zeros((nlay, nrow, ncol)) + 5.0\n",
    "vka = np.zeros_like(hk)\n",
    "fnames = []\n",
    "for i, h in enumerate(hk):\n",
    "    fname = os.path.join(array_dir, \"hk_{0}.ref\".format(i + 1))\n",
    "    fnames.append(fname)\n",
    "    np.savetxt(fname, h)\n",
    "    vka[i] = i + 1\n",
    "lpf = flopy.modflow.ModflowLpf(ml, hk=fnames, vka=vka)\n",
    "\n",
    "warmup_recharge = np.ones((nrow, ncol))\n",
    "important_recharge = np.random.random((nrow, ncol))\n",
    "fname = os.path.join(array_dir, \"important_recharge.ref\")\n",
    "np.savetxt(fname, important_recharge)\n",
    "rch = flopy.modflow.ModflowRch(ml, rech={0: warmup_recharge, 1: fname})"
   ]
  },
  {
   "cell_type": "markdown",
   "metadata": {},
   "source": [
    "We can see that the model constructor created both ```model_ws``` and ```external_path``` which is _relative to the model_ws_"
   ]
  },
  {
   "cell_type": "code",
   "execution_count": null,
   "metadata": {
    "execution": {
     "iopub.execute_input": "2023-05-02T02:55:18.724261Z",
     "iopub.status.busy": "2023-05-02T02:55:18.723860Z",
     "iopub.status.idle": "2023-05-02T02:55:18.730573Z",
     "shell.execute_reply": "2023-05-02T02:55:18.729440Z"
    }
   },
   "outputs": [],
   "source": [
    "os.listdir(ml.model_ws)"
   ]
  },
  {
   "cell_type": "markdown",
   "metadata": {},
   "source": [
    "Now, when we call ```write_input()```, any array properties that were specified as ```np.ndarray``` will be written externally.  If a scalar was passed as the argument, the value remains internal to the model input files"
   ]
  },
  {
   "cell_type": "code",
   "execution_count": null,
   "metadata": {
    "execution": {
     "iopub.execute_input": "2023-05-02T02:55:18.734308Z",
     "iopub.status.busy": "2023-05-02T02:55:18.733946Z",
     "iopub.status.idle": "2023-05-02T02:55:18.834155Z",
     "shell.execute_reply": "2023-05-02T02:55:18.833126Z"
    }
   },
   "outputs": [],
   "source": [
    "ml.write_input()\n",
    "# open(os.path.join(ml.model_ws, ml.name + \".lpf\"), \"r\").readlines()[:20]"
   ]
  },
  {
   "cell_type": "markdown",
   "metadata": {},
   "source": [
    "Now, ```vka``` was also written externally, but not the storage properties.Let's verify the contents of the external path directory. We see our hard-fought ```hk``` and ```important_recharge``` arrays, as well as the ``vka`` arrays."
   ]
  },
  {
   "cell_type": "code",
   "execution_count": null,
   "metadata": {
    "execution": {
     "iopub.execute_input": "2023-05-02T02:55:18.837893Z",
     "iopub.status.busy": "2023-05-02T02:55:18.837550Z",
     "iopub.status.idle": "2023-05-02T02:55:18.938888Z",
     "shell.execute_reply": "2023-05-02T02:55:18.937905Z"
    }
   },
   "outputs": [],
   "source": [
    "ml.lpf.ss.how = \"internal\"\n",
    "ml.write_input()\n",
    "# open(os.path.join(ml.model_ws, ml.name + \".lpf\"), \"r\").readlines()[:20]"
   ]
  },
  {
   "cell_type": "code",
   "execution_count": null,
   "metadata": {
    "execution": {
     "iopub.execute_input": "2023-05-02T02:55:18.942601Z",
     "iopub.status.busy": "2023-05-02T02:55:18.942223Z",
     "iopub.status.idle": "2023-05-02T02:55:18.947593Z",
     "shell.execute_reply": "2023-05-02T02:55:18.946755Z"
    }
   },
   "outputs": [],
   "source": [
    "print(\"\\n\".join(os.listdir(os.path.join(ml.model_ws, ml.external_path))))"
   ]
  },
  {
   "cell_type": "markdown",
   "metadata": {},
   "source": [
    "### Fixed format\n",
    "\n",
    "All of this behavior also works for fixed-format type models (really, really old models - I mean OLD!)"
   ]
  },
  {
   "cell_type": "code",
   "execution_count": null,
   "metadata": {
    "execution": {
     "iopub.execute_input": "2023-05-02T02:55:18.951272Z",
     "iopub.status.busy": "2023-05-02T02:55:18.950923Z",
     "iopub.status.idle": "2023-05-02T02:55:19.085512Z",
     "shell.execute_reply": "2023-05-02T02:55:19.084451Z"
    }
   },
   "outputs": [],
   "source": [
    "# make a model - same code as before except for the model constructor\n",
    "nlay, nrow, ncol = 10, 20, 5\n",
    "\n",
    "# lets make an external path relative to the model_ws\n",
    "ml = flopy.modflow.Modflow(model_ws=model_ws, external_path=\"ref\")\n",
    "\n",
    "# explicitly reset the free_format flag BEFORE ANY PACKAGES ARE MADE!!!\n",
    "ml.array_free_format = False\n",
    "\n",
    "dis = flopy.modflow.ModflowDis(\n",
    "    ml, nlay=nlay, nrow=nrow, ncol=ncol, steady=False, nper=2\n",
    ")\n",
    "\n",
    "hk = np.zeros((nlay, nrow, ncol)) + 5.0\n",
    "vka = np.zeros_like(hk)\n",
    "fnames = []\n",
    "for i, h in enumerate(hk):\n",
    "    fname = os.path.join(array_dir, \"hk_{0}.ref\".format(i + 1))\n",
    "    fnames.append(fname)\n",
    "    np.savetxt(fname, h)\n",
    "    vka[i] = i + 1\n",
    "lpf = flopy.modflow.ModflowLpf(ml, hk=fnames, vka=vka)\n",
    "ml.lpf.ss.how = \"internal\"\n",
    "warmup_recharge = np.ones((nrow, ncol))\n",
    "important_recharge = np.random.random((nrow, ncol))\n",
    "fname = os.path.join(array_dir, \"important_recharge.ref\")\n",
    "np.savetxt(fname, important_recharge)\n",
    "rch = flopy.modflow.ModflowRch(ml, rech={0: warmup_recharge, 1: fname})\n",
    "\n",
    "ml.write_input()"
   ]
  },
  {
   "cell_type": "markdown",
   "metadata": {},
   "source": [
    "We see that now the external arrays are being handled through the name file.  Let's look at the name file"
   ]
  },
  {
   "cell_type": "code",
   "execution_count": null,
   "metadata": {
    "execution": {
     "iopub.execute_input": "2023-05-02T02:55:19.088947Z",
     "iopub.status.busy": "2023-05-02T02:55:19.088534Z",
     "iopub.status.idle": "2023-05-02T02:55:19.096108Z",
     "shell.execute_reply": "2023-05-02T02:55:19.095282Z"
    }
   },
   "outputs": [],
   "source": [
    "open(os.path.join(ml.model_ws, ml.name + \".nam\"), \"r\").readlines()"
   ]
  },
  {
   "cell_type": "markdown",
   "metadata": {},
   "source": [
    "### \"free\" and \"binary\" format"
   ]
  },
  {
   "cell_type": "code",
   "execution_count": null,
   "metadata": {
    "execution": {
     "iopub.execute_input": "2023-05-02T02:55:19.099703Z",
     "iopub.status.busy": "2023-05-02T02:55:19.099134Z",
     "iopub.status.idle": "2023-05-02T02:55:19.199053Z",
     "shell.execute_reply": "2023-05-02T02:55:19.198094Z"
    }
   },
   "outputs": [],
   "source": [
    "ml.dis.botm[0].format.binary = True\n",
    "ml.write_input()"
   ]
  },
  {
   "cell_type": "code",
   "execution_count": null,
   "metadata": {
    "execution": {
     "iopub.execute_input": "2023-05-02T02:55:19.202262Z",
     "iopub.status.busy": "2023-05-02T02:55:19.201981Z",
     "iopub.status.idle": "2023-05-02T02:55:19.222279Z",
     "shell.execute_reply": "2023-05-02T02:55:19.221422Z"
    }
   },
   "outputs": [],
   "source": [
    "open(os.path.join(ml.model_ws, ml.name + \".nam\"), \"r\").readlines()"
   ]
  },
  {
   "cell_type": "code",
   "execution_count": null,
   "metadata": {
    "execution": {
     "iopub.execute_input": "2023-05-02T02:55:19.226053Z",
     "iopub.status.busy": "2023-05-02T02:55:19.225682Z",
     "iopub.status.idle": "2023-05-02T02:55:19.233319Z",
     "shell.execute_reply": "2023-05-02T02:55:19.232360Z"
    }
   },
   "outputs": [],
   "source": [
    "open(os.path.join(ml.model_ws, ml.name + \".dis\"), \"r\").readlines()"
   ]
  },
  {
   "cell_type": "markdown",
   "metadata": {},
   "source": [
    "### The ```.how``` attribute\n",
    "```Util2d``` includes a ```.how``` attribute that gives finer grained control of how arrays will written"
   ]
  },
  {
   "cell_type": "code",
   "execution_count": null,
   "metadata": {
    "execution": {
     "iopub.execute_input": "2023-05-02T02:55:19.237295Z",
     "iopub.status.busy": "2023-05-02T02:55:19.236853Z",
     "iopub.status.idle": "2023-05-02T02:55:19.243070Z",
     "shell.execute_reply": "2023-05-02T02:55:19.242168Z"
    }
   },
   "outputs": [],
   "source": [
    "ml.lpf.hk[0].how"
   ]
  },
  {
   "cell_type": "markdown",
   "metadata": {},
   "source": [
    "This will raise an error since our model does not support free format..."
   ]
  },
  {
   "cell_type": "code",
   "execution_count": null,
   "metadata": {
    "execution": {
     "iopub.execute_input": "2023-05-02T02:55:19.246689Z",
     "iopub.status.busy": "2023-05-02T02:55:19.246303Z",
     "iopub.status.idle": "2023-05-02T02:55:19.283384Z",
     "shell.execute_reply": "2023-05-02T02:55:19.282503Z"
    }
   },
   "outputs": [],
   "source": [
    "try:\n",
    "    ml.lpf.hk[0].how = \"openclose\"\n",
    "    ml.lpf.hk[0].how\n",
    "    ml.write_input()\n",
    "except Exception as e:\n",
    "    print(\"\\n\", e, \"\\n\")"
   ]
  },
  {
   "cell_type": "markdown",
   "metadata": {},
   "source": [
    "So let's reset hk layer 1 back to external..."
   ]
  },
  {
   "cell_type": "code",
   "execution_count": null,
   "metadata": {
    "execution": {
     "iopub.execute_input": "2023-05-02T02:55:19.287141Z",
     "iopub.status.busy": "2023-05-02T02:55:19.286808Z",
     "iopub.status.idle": "2023-05-02T02:55:19.293453Z",
     "shell.execute_reply": "2023-05-02T02:55:19.292238Z"
    }
   },
   "outputs": [],
   "source": [
    "ml.lpf.hk[0].how = \"external\"\n",
    "ml.lpf.hk[0].how"
   ]
  },
  {
   "cell_type": "code",
   "execution_count": null,
   "metadata": {
    "execution": {
     "iopub.execute_input": "2023-05-02T02:55:19.297048Z",
     "iopub.status.busy": "2023-05-02T02:55:19.296679Z",
     "iopub.status.idle": "2023-05-02T02:55:19.300549Z",
     "shell.execute_reply": "2023-05-02T02:55:19.299685Z"
    }
   },
   "outputs": [],
   "source": [
    "ml.dis.top.how = \"external\""
   ]
  },
  {
   "cell_type": "code",
   "execution_count": null,
   "metadata": {
    "execution": {
     "iopub.execute_input": "2023-05-02T02:55:19.303979Z",
     "iopub.status.busy": "2023-05-02T02:55:19.303667Z",
     "iopub.status.idle": "2023-05-02T02:55:19.421353Z",
     "shell.execute_reply": "2023-05-02T02:55:19.420493Z"
    }
   },
   "outputs": [],
   "source": [
    "ml.write_input()"
   ]
  },
  {
   "cell_type": "code",
   "execution_count": null,
   "metadata": {
    "execution": {
     "iopub.execute_input": "2023-05-02T02:55:19.425364Z",
     "iopub.status.busy": "2023-05-02T02:55:19.424710Z",
     "iopub.status.idle": "2023-05-02T02:55:19.431128Z",
     "shell.execute_reply": "2023-05-02T02:55:19.430123Z"
    }
   },
   "outputs": [],
   "source": [
    "open(os.path.join(ml.model_ws, ml.name + \".dis\"), \"r\").readlines()"
   ]
  },
  {
   "cell_type": "code",
   "execution_count": null,
   "metadata": {
    "execution": {
     "iopub.execute_input": "2023-05-02T02:55:19.434541Z",
     "iopub.status.busy": "2023-05-02T02:55:19.433764Z",
     "iopub.status.idle": "2023-05-02T02:55:19.440134Z",
     "shell.execute_reply": "2023-05-02T02:55:19.439246Z"
    }
   },
   "outputs": [],
   "source": [
    "open(os.path.join(ml.model_ws, ml.name + \".lpf\"), \"r\").readlines()"
   ]
  },
  {
   "cell_type": "code",
   "execution_count": null,
   "metadata": {
    "execution": {
     "iopub.execute_input": "2023-05-02T02:55:19.443769Z",
     "iopub.status.busy": "2023-05-02T02:55:19.443410Z",
     "iopub.status.idle": "2023-05-02T02:55:19.450403Z",
     "shell.execute_reply": "2023-05-02T02:55:19.449372Z"
    }
   },
   "outputs": [],
   "source": [
    "open(os.path.join(ml.model_ws, ml.name + \".nam\"), \"r\").readlines()"
   ]
  },
  {
   "cell_type": "code",
   "execution_count": null,
   "metadata": {
    "execution": {
     "iopub.execute_input": "2023-05-02T02:55:19.453273Z",
     "iopub.status.busy": "2023-05-02T02:55:19.452975Z",
     "iopub.status.idle": "2023-05-02T02:55:19.521595Z",
     "shell.execute_reply": "2023-05-02T02:55:19.520715Z"
    }
   },
   "outputs": [],
   "source": [
    "try:\n",
    "    # ignore PermissionError on Windows\n",
    "    temp_dir.cleanup()\n",
    "except:\n",
    "    pass"
   ]
  }
 ],
 "metadata": {
  "kernelspec": {
   "display_name": "Python 3 (ipykernel)",
   "language": "python",
   "name": "python3"
  },
  "language_info": {
   "codemirror_mode": {
    "name": "ipython",
    "version": 3
   },
   "file_extension": ".py",
   "mimetype": "text/x-python",
   "name": "python",
   "nbconvert_exporter": "python",
   "pygments_lexer": "ipython3",
   "version": "3.11.0"
  }
 },
 "nbformat": 4,
 "nbformat_minor": 4
}
