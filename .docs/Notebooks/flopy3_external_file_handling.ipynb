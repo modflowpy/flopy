{
 "cells": [
  {
   "attachments": {},
   "cell_type": "markdown",
   "metadata": {},
   "source": [
    "# How FloPy handles external files for arrays\n"
   ]
  },
  {
   "cell_type": "code",
   "execution_count": null,
   "metadata": {
    "execution": {
     "iopub.execute_input": "2023-02-22T02:47:02.562677Z",
     "iopub.status.busy": "2023-02-22T02:47:02.562179Z",
     "iopub.status.idle": "2023-02-22T02:47:03.853315Z",
     "shell.execute_reply": "2023-02-22T02:47:03.852373Z"
    }
   },
   "outputs": [],
   "source": [
    "import os\n",
    "import sys\n",
    "import shutil\n",
    "from tempfile import TemporaryDirectory\n",
    "\n",
    "import numpy as np\n",
    "\n",
    "# run installed version of flopy or add local path\n",
    "try:\n",
    "    import flopy\n",
    "except:\n",
    "    fpth = os.path.abspath(os.path.join(\"..\", \"..\"))\n",
    "    sys.path.append(fpth)\n",
    "    import flopy\n",
    "\n",
    "from flopy.utils import flopy_io\n",
    "\n",
    "print(sys.version)\n",
    "print(\"numpy version: {}\".format(np.__version__))\n",
    "print(\"flopy version: {}\".format(flopy.__version__))"
   ]
  },
  {
   "cell_type": "code",
   "execution_count": null,
   "metadata": {
    "execution": {
     "iopub.execute_input": "2023-02-22T02:47:03.899421Z",
     "iopub.status.busy": "2023-02-22T02:47:03.898955Z",
     "iopub.status.idle": "2023-02-22T02:47:03.907561Z",
     "shell.execute_reply": "2023-02-22T02:47:03.906950Z"
    }
   },
   "outputs": [],
   "source": [
    "# make a model\n",
    "nlay, nrow, ncol = 10, 20, 5\n",
    "temp_dir = TemporaryDirectory()\n",
    "model_ws = temp_dir.name\n",
    "\n",
    "# the place for all of your hand made and costly model inputs\n",
    "array_dir = os.path.join(temp_dir.name, \"array_dir\")\n",
    "os.mkdir(array_dir)\n",
    "\n",
    "ml = flopy.modflow.Modflow(model_ws=model_ws)\n",
    "dis = flopy.modflow.ModflowDis(\n",
    "    ml, nlay=nlay, nrow=nrow, ncol=ncol, steady=False, nper=2\n",
    ")"
   ]
  },
  {
   "cell_type": "markdown",
   "metadata": {},
   "source": [
    "make an ``hk`` and ```vka``` array.  We'll save ```hk``` to files - pretent that you spent months making this important model property.  Then make an ```lpf```"
   ]
  },
  {
   "cell_type": "code",
   "execution_count": null,
   "metadata": {
    "execution": {
     "iopub.execute_input": "2023-02-22T02:47:03.910571Z",
     "iopub.status.busy": "2023-02-22T02:47:03.910326Z",
     "iopub.status.idle": "2023-02-22T02:47:03.968849Z",
     "shell.execute_reply": "2023-02-22T02:47:03.968180Z"
    }
   },
   "outputs": [],
   "source": [
    "hk = np.zeros((nlay, nrow, ncol)) + 5.0\n",
    "vka = np.zeros_like(hk)\n",
    "fnames = []\n",
    "for i, h in enumerate(hk):\n",
    "    fname = os.path.join(array_dir, \"hk_{0}.ref\".format(i + 1))\n",
    "    fnames.append(fname)\n",
    "    np.savetxt(fname, h)\n",
    "    vka[i] = i + 1\n",
    "lpf = flopy.modflow.ModflowLpf(ml, hk=fnames, vka=vka)"
   ]
  },
  {
   "cell_type": "markdown",
   "metadata": {},
   "source": [
    "Let's also have some recharge with mixed args as well.  Pretend the recharge in the second stress period is very important and precise"
   ]
  },
  {
   "cell_type": "code",
   "execution_count": null,
   "metadata": {
    "execution": {
     "iopub.execute_input": "2023-02-22T02:47:03.972730Z",
     "iopub.status.busy": "2023-02-22T02:47:03.972307Z",
     "iopub.status.idle": "2023-02-22T02:47:04.013283Z",
     "shell.execute_reply": "2023-02-22T02:47:04.012340Z"
    }
   },
   "outputs": [],
   "source": [
    "warmup_recharge = np.ones((nrow, ncol))\n",
    "important_recharge = np.random.random((nrow, ncol))\n",
    "fname = os.path.join(array_dir, \"important_recharge.ref\")\n",
    "np.savetxt(fname, important_recharge)\n",
    "rch = flopy.modflow.ModflowRch(ml, rech={0: warmup_recharge, 1: fname})"
   ]
  },
  {
   "cell_type": "code",
   "execution_count": null,
   "metadata": {
    "execution": {
     "iopub.execute_input": "2023-02-22T02:47:04.016875Z",
     "iopub.status.busy": "2023-02-22T02:47:04.016532Z",
     "iopub.status.idle": "2023-02-22T02:47:04.027212Z",
     "shell.execute_reply": "2023-02-22T02:47:04.026475Z"
    }
   },
   "outputs": [],
   "source": [
    "ml.write_input()"
   ]
  },
  {
   "cell_type": "markdown",
   "metadata": {},
   "source": [
    "Let's look at the files that were created"
   ]
  },
  {
   "cell_type": "code",
   "execution_count": null,
   "metadata": {
    "execution": {
     "iopub.execute_input": "2023-02-22T02:47:04.031368Z",
     "iopub.status.busy": "2023-02-22T02:47:04.030975Z",
     "iopub.status.idle": "2023-02-22T02:47:04.037112Z",
     "shell.execute_reply": "2023-02-22T02:47:04.036133Z"
    }
   },
   "outputs": [],
   "source": [
    "from pprint import pprint\n",
    "\n",
    "print(\"model_ws:\", flopy_io.scrub_login(ml.model_ws))\n",
    "pprint([flopy_io.scrub_login(p) for p in os.listdir(ml.model_ws)])"
   ]
  },
  {
   "cell_type": "markdown",
   "metadata": {},
   "source": [
    "We see that a copy of the ``hk`` files as well as the important recharge file were made in the ```model_ws```.Let's looks at the ```lpf``` file"
   ]
  },
  {
   "cell_type": "code",
   "execution_count": null,
   "metadata": {
    "execution": {
     "iopub.execute_input": "2023-02-22T02:47:04.040790Z",
     "iopub.status.busy": "2023-02-22T02:47:04.040401Z",
     "iopub.status.idle": "2023-02-22T02:47:04.049576Z",
     "shell.execute_reply": "2023-02-22T02:47:04.048779Z"
    }
   },
   "outputs": [],
   "source": [
    "open(os.path.join(ml.model_ws, ml.name + \".lpf\"), \"r\").readlines()[:20]"
   ]
  },
  {
   "cell_type": "markdown",
   "metadata": {},
   "source": [
    "We see that the ```open/close``` approach was used - this is because ``ml.array_free_format`` is ``True``.  Notice that ```vka``` is written internally"
   ]
  },
  {
   "cell_type": "code",
   "execution_count": null,
   "metadata": {
    "execution": {
     "iopub.execute_input": "2023-02-22T02:47:04.053092Z",
     "iopub.status.busy": "2023-02-22T02:47:04.052744Z",
     "iopub.status.idle": "2023-02-22T02:47:04.058200Z",
     "shell.execute_reply": "2023-02-22T02:47:04.057415Z"
    }
   },
   "outputs": [],
   "source": [
    "ml.array_free_format"
   ]
  },
  {
   "cell_type": "markdown",
   "metadata": {},
   "source": [
    "Now change ```model_ws```"
   ]
  },
  {
   "cell_type": "code",
   "execution_count": null,
   "metadata": {
    "execution": {
     "iopub.execute_input": "2023-02-22T02:47:04.061343Z",
     "iopub.status.busy": "2023-02-22T02:47:04.060851Z",
     "iopub.status.idle": "2023-02-22T02:47:04.064775Z",
     "shell.execute_reply": "2023-02-22T02:47:04.064148Z"
    }
   },
   "outputs": [],
   "source": [
    "ml.model_ws = os.path.join(model_ws, \"new_external_demo_dir\")"
   ]
  },
  {
   "cell_type": "markdown",
   "metadata": {},
   "source": [
    "Now when we call ``write_input()``, a copy of external files are made in the current ```model_ws```"
   ]
  },
  {
   "cell_type": "code",
   "execution_count": null,
   "metadata": {
    "execution": {
     "iopub.execute_input": "2023-02-22T02:47:04.067384Z",
     "iopub.status.busy": "2023-02-22T02:47:04.067035Z",
     "iopub.status.idle": "2023-02-22T02:47:04.075975Z",
     "shell.execute_reply": "2023-02-22T02:47:04.075267Z"
    }
   },
   "outputs": [],
   "source": [
    "ml.write_input()"
   ]
  },
  {
   "cell_type": "code",
   "execution_count": null,
   "metadata": {
    "execution": {
     "iopub.execute_input": "2023-02-22T02:47:04.079286Z",
     "iopub.status.busy": "2023-02-22T02:47:04.078860Z",
     "iopub.status.idle": "2023-02-22T02:47:04.084120Z",
     "shell.execute_reply": "2023-02-22T02:47:04.083290Z"
    }
   },
   "outputs": [],
   "source": [
    "# list the files in model_ws that have 'hk' in the name\n",
    "print(\n",
    "    \"\\n\".join(\n",
    "        [\n",
    "            name\n",
    "            for name in os.listdir(ml.model_ws)\n",
    "            if \"hk\" in name or \"impor\" in name\n",
    "        ]\n",
    "    )\n",
    ")"
   ]
  },
  {
   "cell_type": "markdown",
   "metadata": {},
   "source": [
    "Now we see that the external files were copied to the new ```model_ws```\n",
    "\n",
    "### Using ```external_path```\n",
    "\n",
    "It is sometimes useful when first building a model to write the model arrays as external files for processing and parameter estimation.  The ```model``` attribute ```external_path``` triggers this behavior"
   ]
  },
  {
   "cell_type": "code",
   "execution_count": null,
   "metadata": {
    "execution": {
     "iopub.execute_input": "2023-02-22T02:47:04.087520Z",
     "iopub.status.busy": "2023-02-22T02:47:04.086737Z",
     "iopub.status.idle": "2023-02-22T02:47:04.304703Z",
     "shell.execute_reply": "2023-02-22T02:47:04.303372Z"
    }
   },
   "outputs": [],
   "source": [
    "# make a model - same code as before except for the model constructor\n",
    "nlay, nrow, ncol = 10, 20, 5\n",
    "model_ws = os.path.join(model_ws, \"external_demo\")\n",
    "os.mkdir(model_ws)\n",
    "\n",
    "# the place for all of your hand made and costly model inputs\n",
    "array_dir = os.path.join(model_ws, \"array_dir\")\n",
    "os.mkdir(array_dir)\n",
    "\n",
    "# lets make an external path relative to the model_ws\n",
    "ml = flopy.modflow.Modflow(\n",
    "    model_ws=model_ws, external_path=os.path.join(model_ws, \"ref\")\n",
    ")\n",
    "dis = flopy.modflow.ModflowDis(\n",
    "    ml, nlay=nlay, nrow=nrow, ncol=ncol, steady=False, nper=2\n",
    ")\n",
    "\n",
    "hk = np.zeros((nlay, nrow, ncol)) + 5.0\n",
    "vka = np.zeros_like(hk)\n",
    "fnames = []\n",
    "for i, h in enumerate(hk):\n",
    "    fname = os.path.join(array_dir, \"hk_{0}.ref\".format(i + 1))\n",
    "    fnames.append(fname)\n",
    "    np.savetxt(fname, h)\n",
    "    vka[i] = i + 1\n",
    "lpf = flopy.modflow.ModflowLpf(ml, hk=fnames, vka=vka)\n",
    "\n",
    "warmup_recharge = np.ones((nrow, ncol))\n",
    "important_recharge = np.random.random((nrow, ncol))\n",
    "fname = os.path.join(array_dir, \"important_recharge.ref\")\n",
    "np.savetxt(fname, important_recharge)\n",
    "rch = flopy.modflow.ModflowRch(ml, rech={0: warmup_recharge, 1: fname})"
   ]
  },
  {
   "cell_type": "markdown",
   "metadata": {},
   "source": [
    "We can see that the model constructor created both ```model_ws``` and ```external_path``` which is _relative to the model_ws_"
   ]
  },
  {
   "cell_type": "code",
   "execution_count": null,
   "metadata": {
    "execution": {
     "iopub.execute_input": "2023-02-22T02:47:04.310371Z",
     "iopub.status.busy": "2023-02-22T02:47:04.309254Z",
     "iopub.status.idle": "2023-02-22T02:47:04.319635Z",
     "shell.execute_reply": "2023-02-22T02:47:04.318266Z"
    }
   },
   "outputs": [],
   "source": [
    "os.listdir(ml.model_ws)"
   ]
  },
  {
   "cell_type": "markdown",
   "metadata": {},
   "source": [
    "Now, when we call ```write_input()```, any array properties that were specified as ```np.ndarray``` will be written externally.  If a scalar was passed as the argument, the value remains internal to the model input files"
   ]
  },
  {
   "cell_type": "code",
   "execution_count": null,
   "metadata": {
    "execution": {
     "iopub.execute_input": "2023-02-22T02:47:04.327272Z",
     "iopub.status.busy": "2023-02-22T02:47:04.326074Z",
     "iopub.status.idle": "2023-02-22T02:47:04.369335Z",
     "shell.execute_reply": "2023-02-22T02:47:04.368003Z"
    }
   },
   "outputs": [],
   "source": [
    "ml.write_input()\n",
    "# open(os.path.join(ml.model_ws, ml.name + \".lpf\"), \"r\").readlines()[:20]"
   ]
  },
  {
   "cell_type": "markdown",
   "metadata": {},
   "source": [
    "Now, ```vka``` was also written externally, but not the storage properties.Let's verify the contents of the external path directory. We see our hard-fought ```hk``` and ```important_recharge``` arrays, as well as the ``vka`` arrays."
   ]
  },
  {
   "cell_type": "code",
   "execution_count": null,
   "metadata": {
    "execution": {
     "iopub.execute_input": "2023-02-22T02:47:04.376006Z",
     "iopub.status.busy": "2023-02-22T02:47:04.375331Z",
     "iopub.status.idle": "2023-02-22T02:47:04.709105Z",
     "shell.execute_reply": "2023-02-22T02:47:04.707505Z"
    }
   },
   "outputs": [],
   "source": [
    "ml.lpf.ss.how = \"internal\"\n",
    "ml.write_input()\n",
    "# open(os.path.join(ml.model_ws, ml.name + \".lpf\"), \"r\").readlines()[:20]"
   ]
  },
  {
   "cell_type": "code",
   "execution_count": null,
   "metadata": {
    "execution": {
     "iopub.execute_input": "2023-02-22T02:47:04.714868Z",
     "iopub.status.busy": "2023-02-22T02:47:04.714163Z",
     "iopub.status.idle": "2023-02-22T02:47:04.725635Z",
     "shell.execute_reply": "2023-02-22T02:47:04.723379Z"
    }
   },
   "outputs": [],
   "source": [
    "print(\"\\n\".join(os.listdir(os.path.join(ml.model_ws, ml.external_path))))"
   ]
  },
  {
   "cell_type": "markdown",
   "metadata": {},
   "source": [
    "### Fixed format\n",
    "\n",
    "All of this behavior also works for fixed-format type models (really, really old models - I mean OLD!)"
   ]
  },
  {
   "cell_type": "code",
   "execution_count": null,
   "metadata": {
    "execution": {
     "iopub.execute_input": "2023-02-22T02:47:04.734240Z",
     "iopub.status.busy": "2023-02-22T02:47:04.733400Z",
     "iopub.status.idle": "2023-02-22T02:47:04.824804Z",
     "shell.execute_reply": "2023-02-22T02:47:04.823420Z"
    }
   },
   "outputs": [],
   "source": [
    "# make a model - same code as before except for the model constructor\n",
    "nlay, nrow, ncol = 10, 20, 5\n",
    "\n",
    "# lets make an external path relative to the model_ws\n",
    "ml = flopy.modflow.Modflow(model_ws=model_ws, external_path=\"ref\")\n",
    "\n",
    "# explicitly reset the free_format flag BEFORE ANY PACKAGES ARE MADE!!!\n",
    "ml.array_free_format = False\n",
    "\n",
    "dis = flopy.modflow.ModflowDis(\n",
    "    ml, nlay=nlay, nrow=nrow, ncol=ncol, steady=False, nper=2\n",
    ")\n",
    "\n",
    "hk = np.zeros((nlay, nrow, ncol)) + 5.0\n",
    "vka = np.zeros_like(hk)\n",
    "fnames = []\n",
    "for i, h in enumerate(hk):\n",
    "    fname = os.path.join(array_dir, \"hk_{0}.ref\".format(i + 1))\n",
    "    fnames.append(fname)\n",
    "    np.savetxt(fname, h)\n",
    "    vka[i] = i + 1\n",
    "lpf = flopy.modflow.ModflowLpf(ml, hk=fnames, vka=vka)\n",
    "ml.lpf.ss.how = \"internal\"\n",
    "warmup_recharge = np.ones((nrow, ncol))\n",
    "important_recharge = np.random.random((nrow, ncol))\n",
    "fname = os.path.join(array_dir, \"important_recharge.ref\")\n",
    "np.savetxt(fname, important_recharge)\n",
    "rch = flopy.modflow.ModflowRch(ml, rech={0: warmup_recharge, 1: fname})\n",
    "\n",
    "ml.write_input()"
   ]
  },
  {
   "cell_type": "markdown",
   "metadata": {},
   "source": [
    "We see that now the external arrays are being handled through the name file.  Let's look at the name file"
   ]
  },
  {
   "cell_type": "code",
   "execution_count": null,
   "metadata": {
    "execution": {
     "iopub.execute_input": "2023-02-22T02:47:04.831556Z",
     "iopub.status.busy": "2023-02-22T02:47:04.830677Z",
     "iopub.status.idle": "2023-02-22T02:47:04.840798Z",
     "shell.execute_reply": "2023-02-22T02:47:04.839669Z"
    }
   },
   "outputs": [],
   "source": [
    "open(os.path.join(ml.model_ws, ml.name + \".nam\"), \"r\").readlines()"
   ]
  },
  {
   "cell_type": "markdown",
   "metadata": {},
   "source": [
    "### \"free\" and \"binary\" format"
   ]
  },
  {
   "cell_type": "code",
   "execution_count": null,
   "metadata": {
    "execution": {
     "iopub.execute_input": "2023-02-22T02:47:04.847443Z",
     "iopub.status.busy": "2023-02-22T02:47:04.846750Z",
     "iopub.status.idle": "2023-02-22T02:47:04.886706Z",
     "shell.execute_reply": "2023-02-22T02:47:04.885602Z"
    }
   },
   "outputs": [],
   "source": [
    "ml.dis.botm[0].format.binary = True\n",
    "ml.write_input()"
   ]
  },
  {
   "cell_type": "code",
   "execution_count": null,
   "metadata": {
    "execution": {
     "iopub.execute_input": "2023-02-22T02:47:04.891333Z",
     "iopub.status.busy": "2023-02-22T02:47:04.890451Z",
     "iopub.status.idle": "2023-02-22T02:47:04.898971Z",
     "shell.execute_reply": "2023-02-22T02:47:04.897886Z"
    }
   },
   "outputs": [],
   "source": [
    "open(os.path.join(ml.model_ws, ml.name + \".nam\"), \"r\").readlines()"
   ]
  },
  {
   "cell_type": "code",
   "execution_count": null,
   "metadata": {
    "execution": {
     "iopub.execute_input": "2023-02-22T02:47:04.904327Z",
     "iopub.status.busy": "2023-02-22T02:47:04.903658Z",
     "iopub.status.idle": "2023-02-22T02:47:04.912458Z",
     "shell.execute_reply": "2023-02-22T02:47:04.911037Z"
    }
   },
   "outputs": [],
   "source": [
    "open(os.path.join(ml.model_ws, ml.name + \".dis\"), \"r\").readlines()"
   ]
  },
  {
   "cell_type": "markdown",
   "metadata": {},
   "source": [
    "### The ```.how``` attribute\n",
    "```Util2d``` includes a ```.how``` attribute that gives finer grained control of how arrays will written"
   ]
  },
  {
   "cell_type": "code",
   "execution_count": null,
   "metadata": {
    "execution": {
     "iopub.execute_input": "2023-02-22T02:47:04.917621Z",
     "iopub.status.busy": "2023-02-22T02:47:04.916714Z",
     "iopub.status.idle": "2023-02-22T02:47:04.923688Z",
     "shell.execute_reply": "2023-02-22T02:47:04.922648Z"
    }
   },
   "outputs": [],
   "source": [
    "ml.lpf.hk[0].how"
   ]
  },
  {
   "cell_type": "markdown",
   "metadata": {},
   "source": [
    "This will raise an error since our model does not support free format..."
   ]
  },
  {
   "cell_type": "code",
   "execution_count": null,
   "metadata": {
    "execution": {
     "iopub.execute_input": "2023-02-22T02:47:04.928520Z",
     "iopub.status.busy": "2023-02-22T02:47:04.927347Z",
     "iopub.status.idle": "2023-02-22T02:47:04.950268Z",
     "shell.execute_reply": "2023-02-22T02:47:04.949054Z"
    }
   },
   "outputs": [],
   "source": [
    "try:\n",
    "    ml.lpf.hk[0].how = \"openclose\"\n",
    "    ml.lpf.hk[0].how\n",
    "    ml.write_input()\n",
    "except Exception as e:\n",
    "    print(\"\\n\", e, \"\\n\")"
   ]
  },
  {
   "cell_type": "markdown",
   "metadata": {},
   "source": [
    "So let's reset hk layer 1 back to external..."
   ]
  },
  {
   "cell_type": "code",
   "execution_count": null,
   "metadata": {
    "execution": {
     "iopub.execute_input": "2023-02-22T02:47:04.955255Z",
     "iopub.status.busy": "2023-02-22T02:47:04.954736Z",
     "iopub.status.idle": "2023-02-22T02:47:04.962140Z",
     "shell.execute_reply": "2023-02-22T02:47:04.960945Z"
    }
   },
   "outputs": [],
   "source": [
    "ml.lpf.hk[0].how = \"external\"\n",
    "ml.lpf.hk[0].how"
   ]
  },
  {
   "cell_type": "code",
   "execution_count": null,
   "metadata": {
    "execution": {
     "iopub.execute_input": "2023-02-22T02:47:04.967009Z",
     "iopub.status.busy": "2023-02-22T02:47:04.966402Z",
     "iopub.status.idle": "2023-02-22T02:47:04.971873Z",
     "shell.execute_reply": "2023-02-22T02:47:04.970625Z"
    }
   },
   "outputs": [],
   "source": [
    "ml.dis.top.how = \"external\""
   ]
  },
  {
   "cell_type": "code",
   "execution_count": null,
   "metadata": {
    "execution": {
     "iopub.execute_input": "2023-02-22T02:47:04.976102Z",
     "iopub.status.busy": "2023-02-22T02:47:04.975595Z",
     "iopub.status.idle": "2023-02-22T02:47:05.030045Z",
     "shell.execute_reply": "2023-02-22T02:47:05.028723Z"
    }
   },
   "outputs": [],
   "source": [
    "ml.write_input()"
   ]
  },
  {
   "cell_type": "code",
   "execution_count": null,
   "metadata": {
    "execution": {
     "iopub.execute_input": "2023-02-22T02:47:05.034813Z",
     "iopub.status.busy": "2023-02-22T02:47:05.034343Z",
     "iopub.status.idle": "2023-02-22T02:47:05.042807Z",
     "shell.execute_reply": "2023-02-22T02:47:05.041738Z"
    }
   },
   "outputs": [],
   "source": [
    "open(os.path.join(ml.model_ws, ml.name + \".dis\"), \"r\").readlines()"
   ]
  },
  {
   "cell_type": "code",
   "execution_count": null,
   "metadata": {
    "execution": {
     "iopub.execute_input": "2023-02-22T02:47:05.048187Z",
     "iopub.status.busy": "2023-02-22T02:47:05.047569Z",
     "iopub.status.idle": "2023-02-22T02:47:05.058041Z",
     "shell.execute_reply": "2023-02-22T02:47:05.056573Z"
    }
   },
   "outputs": [],
   "source": [
    "open(os.path.join(ml.model_ws, ml.name + \".lpf\"), \"r\").readlines()"
   ]
  },
  {
   "cell_type": "code",
   "execution_count": null,
   "metadata": {
    "execution": {
     "iopub.execute_input": "2023-02-22T02:47:05.062853Z",
     "iopub.status.busy": "2023-02-22T02:47:05.062251Z",
     "iopub.status.idle": "2023-02-22T02:47:05.071376Z",
     "shell.execute_reply": "2023-02-22T02:47:05.070256Z"
    }
   },
   "outputs": [],
   "source": [
    "open(os.path.join(ml.model_ws, ml.name + \".nam\"), \"r\").readlines()"
   ]
  },
  {
   "cell_type": "code",
   "execution_count": null,
   "metadata": {
    "execution": {
     "iopub.execute_input": "2023-02-22T02:47:05.075504Z",
     "iopub.status.busy": "2023-02-22T02:47:05.074945Z",
     "iopub.status.idle": "2023-02-22T02:47:05.083415Z",
     "shell.execute_reply": "2023-02-22T02:47:05.082496Z"
    }
   },
   "outputs": [],
   "source": [
    "try:\n",
    "    # ignore PermissionError on Windows\n",
    "    temp_dir.cleanup()\n",
    "except:\n",
    "    pass"
   ]
  }
 ],
 "metadata": {
  "kernelspec": {
   "display_name": "Python 3 (ipykernel)",
   "language": "python",
   "name": "python3"
  },
  "language_info": {
   "codemirror_mode": {
    "name": "ipython",
    "version": 3
   },
   "file_extension": ".py",
   "mimetype": "text/x-python",
   "name": "python",
   "nbconvert_exporter": "python",
   "pygments_lexer": "ipython3",
   "version": "3.10.6"
  }
 },
 "nbformat": 4,
 "nbformat_minor": 4
}
