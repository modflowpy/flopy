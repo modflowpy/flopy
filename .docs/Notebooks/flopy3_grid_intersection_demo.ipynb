{
 "cells": [
  {
   "cell_type": "markdown",
   "metadata": {},
   "source": [
    "# <a id=\"top\"></a>Intersecting model grids with shapes\n",
    "\n",
    "_Note: This feature requires the shapely package (which is an optional FloPy dependency)._\n",
    "\n",
    "This notebook shows the grid intersection functionality in flopy. The\n",
    "intersection methods are available through the `GridIntersect` object. A flopy\n",
    "modelgrid is passed to instantiate the object. Then the modelgrid can be\n",
    "intersected with Points, LineStrings and Polygons and their Multi variants.\n",
    "\n",
    "### Table of Contents\n",
    "- [GridIntersect Class](#gridclass)\n",
    "- [Rectangular regular grid](#rectgrid)\n",
    "    - [Polygon with regular grid](#rectgrid.1)\n",
    "    - [MultiLineString with regular grid](#rectgrid.2)\n",
    "    - [MultiPoint with regular grid](#rectgrid.3)\n",
    "- [Vertex grid](#trigrid)\n",
    "    - [Polygon with triangular grid](#trigrid.1)\n",
    "    - [MultiLineString with triangular grid](#trigrid.2)\n",
    "    - [MultiPoint with triangular grid](#trigrid.3)"
   ]
  },
  {
   "cell_type": "markdown",
   "metadata": {},
   "source": [
    "Import packages"
   ]
  },
  {
   "cell_type": "code",
   "execution_count": null,
   "metadata": {
    "execution": {
     "iopub.execute_input": "2023-05-02T02:55:18.651289Z",
     "iopub.status.busy": "2023-05-02T02:55:18.650906Z",
     "iopub.status.idle": "2023-05-02T02:55:20.688186Z",
     "shell.execute_reply": "2023-05-02T02:55:20.687156Z"
    }
   },
   "outputs": [],
   "source": [
    "import os\n",
    "import sys\n",
    "\n",
    "import matplotlib as mpl\n",
    "import matplotlib.pyplot as plt\n",
    "import numpy as np\n",
    "import shapely\n",
    "from shapely.geometry import (\n",
    "    LineString,\n",
    "    MultiLineString,\n",
    "    MultiPoint,\n",
    "    MultiPolygon,\n",
    "    Point,\n",
    "    Polygon,\n",
    ")\n",
    "\n",
    "import flopy\n",
    "import flopy.discretization as fgrid\n",
    "import flopy.plot as fplot\n",
    "from flopy.utils import GridIntersect\n",
    "\n",
    "print(sys.version)\n",
    "print(\"numpy version: {}\".format(np.__version__))\n",
    "print(\"matplotlib version: {}\".format(mpl.__version__))\n",
    "print(\"flopy version: {}\".format(flopy.__version__))\n",
    "print(\"shapely version: {}\".format(shapely.__version__))"
   ]
  },
  {
   "cell_type": "markdown",
   "metadata": {},
   "source": [
    "## <a id=\"gridclass\"></a>[GridIntersect Class](#top)\n",
    "\n",
    "The GridIntersect class is constructed by passing a flopy modelgrid object to\n",
    "the constructor. There are options users can select to change how the\n",
    "intersection is calculated.\n",
    "\n",
    "- `method`: derived from model grid type or defined by the user: can be either `\"vertex\"` or\n",
    "`\"structured\"`. If `\"structured\"` is passed, the intersections are performed\n",
    "using structured methods. These methods use information about the regular grid\n",
    "to limit the search space for intersection calculations. Note that `method=\"vertex\"` \n",
    "also works for structured grids.\n",
    "- `rtree`: either `True` (default) or `False`, only read when\n",
    "`method=\"vertex\"`. When True, an STR-tree is built, which allows for fast\n",
    "spatial queries. Building the STR-tree does take some time however. Setting the\n",
    "option to False avoids building the STR-tree but requires the intersection\n",
    "calculation to loop through all grid cells.\n",
    "\n",
    "In general the \"vertex\" option is robust and fast and is therefore recommended\n",
    "in most situations. In some rare cases building the STR-tree might not be worth\n",
    "the time, in which case it can be avoided by passing `rtree=False`. If you are\n",
    "working with a structured grid, then the `method=\"structured\"` can speed up\n",
    "intersection operations in some situations (e.g. for (multi)points) with the added\n",
    "advantage of not having to build an STR-tree.\n",
    "\n",
    "The important methods in the GridIntersect object are:\n",
    "\n",
    "- `intersects()`: returns cellids for gridcells that intersect a shape (accepts\n",
    "shapely geometry objects, flopy geometry object, shapefile.Shape objects, and\n",
    "geojson objects)\n",
    "- `intersect()`: for intersecting the modelgrid with point, linestrings, and\n",
    "polygon geometries (accepts shapely geometry objects, flopy geometry object,\n",
    "shapefile.Shape objects, and geojson objects)\n",
    "- `plot_point()`: for plotting point intersection results\n",
    "- `plot_linestring()`: for plotting linestring intersection results\n",
    "- `plot_polygon()`: for plotting polygon intersection results\n",
    "\n",
    "In the following sections examples of intersections are shown for structured\n",
    "and vertex grids for different types of shapes (Polygon, LineString and Point)."
   ]
  },
  {
   "cell_type": "markdown",
   "metadata": {},
   "source": [
    "## <a id=\"rectgrid\"></a>[Rectangular regular grid](#top)"
   ]
  },
  {
   "cell_type": "code",
   "execution_count": null,
   "metadata": {
    "execution": {
     "iopub.execute_input": "2023-05-02T02:55:20.741702Z",
     "iopub.status.busy": "2023-05-02T02:55:20.741254Z",
     "iopub.status.idle": "2023-05-02T02:55:20.745548Z",
     "shell.execute_reply": "2023-05-02T02:55:20.744715Z"
    }
   },
   "outputs": [],
   "source": [
    "delc = 10 * np.ones(10, dtype=float)\n",
    "delr = 10 * np.ones(10, dtype=float)"
   ]
  },
  {
   "cell_type": "code",
   "execution_count": null,
   "metadata": {
    "execution": {
     "iopub.execute_input": "2023-05-02T02:55:20.748702Z",
     "iopub.status.busy": "2023-05-02T02:55:20.748392Z",
     "iopub.status.idle": "2023-05-02T02:55:20.753810Z",
     "shell.execute_reply": "2023-05-02T02:55:20.753057Z"
    }
   },
   "outputs": [],
   "source": [
    "xoff = 0.0\n",
    "yoff = 0.0\n",
    "angrot = 0.0\n",
    "sgr = fgrid.StructuredGrid(\n",
    "    delc, delr, top=None, botm=None, xoff=xoff, yoff=yoff, angrot=angrot\n",
    ")"
   ]
  },
  {
   "cell_type": "code",
   "execution_count": null,
   "metadata": {
    "execution": {
     "iopub.execute_input": "2023-05-02T02:55:20.756576Z",
     "iopub.status.busy": "2023-05-02T02:55:20.756270Z",
     "iopub.status.idle": "2023-05-02T02:55:20.943869Z",
     "shell.execute_reply": "2023-05-02T02:55:20.942996Z"
    }
   },
   "outputs": [],
   "source": [
    "sgr.plot();"
   ]
  },
  {
   "cell_type": "markdown",
   "metadata": {},
   "source": [
    "### <a id=\"rectgrid.1\"></a>[Polygon with regular grid](#top)\n",
    "Polygon to intersect with:"
   ]
  },
  {
   "cell_type": "code",
   "execution_count": null,
   "metadata": {
    "execution": {
     "iopub.execute_input": "2023-05-02T02:55:20.947567Z",
     "iopub.status.busy": "2023-05-02T02:55:20.947219Z",
     "iopub.status.idle": "2023-05-02T02:55:20.953000Z",
     "shell.execute_reply": "2023-05-02T02:55:20.952206Z"
    }
   },
   "outputs": [],
   "source": [
    "p = Polygon(\n",
    "    shell=[\n",
    "        (15, 15),\n",
    "        (20, 50),\n",
    "        (35, 80.0),\n",
    "        (80, 50),\n",
    "        (80, 40),\n",
    "        (40, 5),\n",
    "        (15, 12),\n",
    "    ],\n",
    "    holes=[[(25, 25), (25, 45), (45, 45), (45, 25)]],\n",
    ")"
   ]
  },
  {
   "cell_type": "markdown",
   "metadata": {},
   "source": [
    "Create the GridIntersect class for our modelgrid. The `method` kwarg is passed to force GridIntersect to use the `\"vertex\"` intersection methods."
   ]
  },
  {
   "cell_type": "code",
   "execution_count": null,
   "metadata": {
    "execution": {
     "iopub.execute_input": "2023-05-02T02:55:20.956245Z",
     "iopub.status.busy": "2023-05-02T02:55:20.955923Z",
     "iopub.status.idle": "2023-05-02T02:55:20.961301Z",
     "shell.execute_reply": "2023-05-02T02:55:20.960546Z"
    }
   },
   "outputs": [],
   "source": [
    "ix = GridIntersect(sgr, method=\"vertex\")"
   ]
  },
  {
   "cell_type": "markdown",
   "metadata": {},
   "source": [
    "Do the intersect operation for a polygon"
   ]
  },
  {
   "cell_type": "code",
   "execution_count": null,
   "metadata": {
    "execution": {
     "iopub.execute_input": "2023-05-02T02:55:20.964551Z",
     "iopub.status.busy": "2023-05-02T02:55:20.964243Z",
     "iopub.status.idle": "2023-05-02T02:55:20.976418Z",
     "shell.execute_reply": "2023-05-02T02:55:20.975520Z"
    }
   },
   "outputs": [],
   "source": [
    "result = ix.intersect(p)"
   ]
  },
  {
   "cell_type": "markdown",
   "metadata": {},
   "source": [
    "The results are returned as a numpy.recarray containing several fields based on the intersection performed. An explanation of the data in each of the possible fields is given below:\n",
    "- **cellids**: contains the cell ids of the intersected grid cells\n",
    "- **vertices**: contains the vertices of the intersected shape\n",
    "- **areas**: contains the area of the polygon in that grid cell (only for polygons)\n",
    "- **lengths**: contains the length of the linestring in that grid cell (only for linestrings)\n",
    "- **ixshapes**: contains the shapely object representing the intersected shape (useful for plotting the result)\n",
    "\n",
    "Looking at the first few entries of the results of the polygon intersection (convert to pandas.DataFrame for prettier formatting)"
   ]
  },
  {
   "cell_type": "code",
   "execution_count": null,
   "metadata": {
    "execution": {
     "iopub.execute_input": "2023-05-02T02:55:20.979831Z",
     "iopub.status.busy": "2023-05-02T02:55:20.979486Z",
     "iopub.status.idle": "2023-05-02T02:55:20.986058Z",
     "shell.execute_reply": "2023-05-02T02:55:20.985077Z"
    }
   },
   "outputs": [],
   "source": [
    "result[:5]\n",
    "# pd.DataFrame(result)  # recommended for prettier formatting and working with result"
   ]
  },
  {
   "cell_type": "markdown",
   "metadata": {},
   "source": [
    "The cellids can be easily obtained "
   ]
  },
  {
   "cell_type": "code",
   "execution_count": null,
   "metadata": {
    "execution": {
     "iopub.execute_input": "2023-05-02T02:55:20.989497Z",
     "iopub.status.busy": "2023-05-02T02:55:20.989098Z",
     "iopub.status.idle": "2023-05-02T02:55:20.995258Z",
     "shell.execute_reply": "2023-05-02T02:55:20.994438Z"
    }
   },
   "outputs": [],
   "source": [
    "result.cellids"
   ]
  },
  {
   "cell_type": "markdown",
   "metadata": {},
   "source": [
    "Or the areas"
   ]
  },
  {
   "cell_type": "code",
   "execution_count": null,
   "metadata": {
    "execution": {
     "iopub.execute_input": "2023-05-02T02:55:20.998082Z",
     "iopub.status.busy": "2023-05-02T02:55:20.997804Z",
     "iopub.status.idle": "2023-05-02T02:55:21.002276Z",
     "shell.execute_reply": "2023-05-02T02:55:21.001664Z"
    }
   },
   "outputs": [],
   "source": [
    "result.areas"
   ]
  },
  {
   "cell_type": "markdown",
   "metadata": {},
   "source": [
    "If  a user is only interested in which cells the shape intersects (and not the areas or the actual shape of the intersected object) with there is also the `intersects()` method. This method works for all types of shapely geometries."
   ]
  },
  {
   "cell_type": "code",
   "execution_count": null,
   "metadata": {
    "execution": {
     "iopub.execute_input": "2023-05-02T02:55:21.004709Z",
     "iopub.status.busy": "2023-05-02T02:55:21.004449Z",
     "iopub.status.idle": "2023-05-02T02:55:21.009774Z",
     "shell.execute_reply": "2023-05-02T02:55:21.009208Z"
    }
   },
   "outputs": [],
   "source": [
    "ix.intersects(p)"
   ]
  },
  {
   "cell_type": "markdown",
   "metadata": {},
   "source": [
    "The results of an intersection can be visualized with the plotting methods in the `GridIntersect` object:\n",
    "- `plot_polygon`\n",
    "- `plot_linestring`\n",
    "- `plot_point`"
   ]
  },
  {
   "cell_type": "code",
   "execution_count": null,
   "metadata": {
    "execution": {
     "iopub.execute_input": "2023-05-02T02:55:21.012169Z",
     "iopub.status.busy": "2023-05-02T02:55:21.011930Z",
     "iopub.status.idle": "2023-05-02T02:55:21.277035Z",
     "shell.execute_reply": "2023-05-02T02:55:21.276203Z"
    }
   },
   "outputs": [],
   "source": [
    "# create a figure and plot the grid\n",
    "fig, ax = plt.subplots(1, 1, figsize=(8, 8))\n",
    "sgr.plot(ax=ax)\n",
    "\n",
    "# the intersection object contains some helpful plotting commands\n",
    "ix.plot_polygon(result, ax=ax)\n",
    "\n",
    "# add black x at cell centers\n",
    "for irow, icol in result.cellids:\n",
    "    (h2,) = ax.plot(\n",
    "        sgr.xcellcenters[0, icol],\n",
    "        sgr.ycellcenters[irow, 0],\n",
    "        \"kx\",\n",
    "        label=\"centroids of intersected gridcells\",\n",
    "    )\n",
    "\n",
    "# add legend\n",
    "ax.legend([h2], [i.get_label() for i in [h2]], loc=\"best\");"
   ]
  },
  {
   "cell_type": "markdown",
   "metadata": {},
   "source": [
    "The `intersect()` method contains several keyword arguments that specifically deal with polygons:\n",
    "\n",
    "- `contains_centroid`: only store intersection result if cell centroid is contained within polygon\n",
    "- `min_area_fraction`: minimal intersecting cell area (expressed as a fraction of the total cell area) to include cells in intersection result\n",
    "\n",
    "Two examples showing the usage of these keyword arguments are shown below.\n",
    "\n",
    "Example with `contains_centroid` set to True, only cells in which centroid is within the intersected polygon are stored. Note the difference with the previous result."
   ]
  },
  {
   "cell_type": "code",
   "execution_count": null,
   "metadata": {
    "execution": {
     "iopub.execute_input": "2023-05-02T02:55:21.279811Z",
     "iopub.status.busy": "2023-05-02T02:55:21.279522Z",
     "iopub.status.idle": "2023-05-02T02:55:21.525036Z",
     "shell.execute_reply": "2023-05-02T02:55:21.524035Z"
    }
   },
   "outputs": [],
   "source": [
    "# contains_centroid example\n",
    "\n",
    "result2 = ix.intersect(p, contains_centroid=True)\n",
    "\n",
    "# create a figure and plot the grid\n",
    "fig, ax = plt.subplots(1, 1, figsize=(8, 8))\n",
    "sgr.plot(ax=ax)\n",
    "\n",
    "# the intersection object contains some helpful plotting commands\n",
    "ix.plot_polygon(result2, ax=ax)\n",
    "\n",
    "# add black x at cell centers\n",
    "for irow, icol in result2.cellids:\n",
    "    (h2,) = ax.plot(\n",
    "        sgr.xcellcenters[0, icol],\n",
    "        sgr.ycellcenters[irow, 0],\n",
    "        \"kx\",\n",
    "        label=\"centroids of intersected gridcells\",\n",
    "    )\n",
    "\n",
    "# add legend\n",
    "ax.legend([h2], [i.get_label() for i in [h2]], loc=\"best\");"
   ]
  },
  {
   "cell_type": "markdown",
   "metadata": {},
   "source": [
    "Example with `min_area_threshold` set to 0.35, the intersection result in a cell should cover 35% or more of the cell area."
   ]
  },
  {
   "cell_type": "code",
   "execution_count": null,
   "metadata": {
    "execution": {
     "iopub.execute_input": "2023-05-02T02:55:21.528272Z",
     "iopub.status.busy": "2023-05-02T02:55:21.527696Z",
     "iopub.status.idle": "2023-05-02T02:55:21.779727Z",
     "shell.execute_reply": "2023-05-02T02:55:21.778745Z"
    }
   },
   "outputs": [],
   "source": [
    "# min_area_threshold example\n",
    "\n",
    "result3 = ix.intersect(p, min_area_fraction=0.35)\n",
    "\n",
    "# create a figure and plot the grid\n",
    "fig, ax = plt.subplots(1, 1, figsize=(8, 8))\n",
    "sgr.plot(ax=ax)\n",
    "\n",
    "# the intersection object contains some helpful plotting commands\n",
    "ix.plot_polygon(result3, ax=ax)\n",
    "\n",
    "# add black x at cell centers\n",
    "for irow, icol in result3.cellids:\n",
    "    (h2,) = ax.plot(\n",
    "        sgr.xcellcenters[0, icol],\n",
    "        sgr.ycellcenters[irow, 0],\n",
    "        \"kx\",\n",
    "        label=\"centroids of intersected gridcells\",\n",
    "    )\n",
    "\n",
    "# add legend\n",
    "ax.legend([h2], [i.get_label() for i in [h2]], loc=\"best\");"
   ]
  },
  {
   "cell_type": "markdown",
   "metadata": {},
   "source": [
    "Alternatively, the intersection can be calculated using special methods optimized for structured grids. Access these methods by instantiating the GridIntersect class with the `method=\"structured\"` keyword argument."
   ]
  },
  {
   "cell_type": "code",
   "execution_count": null,
   "metadata": {
    "execution": {
     "iopub.execute_input": "2023-05-02T02:55:21.782550Z",
     "iopub.status.busy": "2023-05-02T02:55:21.782262Z",
     "iopub.status.idle": "2023-05-02T02:55:21.805346Z",
     "shell.execute_reply": "2023-05-02T02:55:21.804536Z"
    }
   },
   "outputs": [],
   "source": [
    "ixs = GridIntersect(sgr, method=\"structured\")\n",
    "result4 = ixs.intersect(p)"
   ]
  },
  {
   "cell_type": "markdown",
   "metadata": {},
   "source": [
    "The result is the same as before:"
   ]
  },
  {
   "cell_type": "code",
   "execution_count": null,
   "metadata": {
    "execution": {
     "iopub.execute_input": "2023-05-02T02:55:21.808031Z",
     "iopub.status.busy": "2023-05-02T02:55:21.807774Z",
     "iopub.status.idle": "2023-05-02T02:55:22.077155Z",
     "shell.execute_reply": "2023-05-02T02:55:22.076272Z"
    }
   },
   "outputs": [],
   "source": [
    "# create a figure and plot the grid\n",
    "fig, ax = plt.subplots(1, 1, figsize=(8, 8))\n",
    "sgr.plot(ax=ax)\n",
    "\n",
    "# the intersection object contains some helpful plotting commands\n",
    "ix.plot_polygon(result4, ax=ax)\n",
    "\n",
    "# add black x at cell centers\n",
    "for irow, icol in result4.cellids:\n",
    "    (h2,) = ax.plot(\n",
    "        sgr.xcellcenters[0, icol],\n",
    "        sgr.ycellcenters[irow, 0],\n",
    "        \"kx\",\n",
    "        label=\"centroids of intersected gridcells\",\n",
    "    )\n",
    "\n",
    "# add legend\n",
    "ax.legend([h2], [i.get_label() for i in [h2]], loc=\"best\");"
   ]
  },
  {
   "cell_type": "markdown",
   "metadata": {},
   "source": [
    "### <a id=\"rectgrid.2\"></a>[Polyline with regular grid](#top)\n",
    "MultiLineString to intersect with:"
   ]
  },
  {
   "cell_type": "code",
   "execution_count": null,
   "metadata": {
    "execution": {
     "iopub.execute_input": "2023-05-02T02:55:22.079679Z",
     "iopub.status.busy": "2023-05-02T02:55:22.079418Z",
     "iopub.status.idle": "2023-05-02T02:55:22.083898Z",
     "shell.execute_reply": "2023-05-02T02:55:22.083119Z"
    }
   },
   "outputs": [],
   "source": [
    "ls1 = LineString([(95, 105), (30, 50)])\n",
    "ls2 = LineString([(30, 50), (90, 22)])\n",
    "ls3 = LineString([(90, 22), (0, 0)])\n",
    "mls = MultiLineString(lines=[ls1, ls2, ls3])"
   ]
  },
  {
   "cell_type": "code",
   "execution_count": null,
   "metadata": {
    "execution": {
     "iopub.execute_input": "2023-05-02T02:55:22.087665Z",
     "iopub.status.busy": "2023-05-02T02:55:22.086793Z",
     "iopub.status.idle": "2023-05-02T02:55:22.095114Z",
     "shell.execute_reply": "2023-05-02T02:55:22.094391Z"
    }
   },
   "outputs": [],
   "source": [
    "result = ix.intersect(mls)"
   ]
  },
  {
   "cell_type": "markdown",
   "metadata": {},
   "source": [
    "Plot the result"
   ]
  },
  {
   "cell_type": "code",
   "execution_count": null,
   "metadata": {
    "execution": {
     "iopub.execute_input": "2023-05-02T02:55:22.097888Z",
     "iopub.status.busy": "2023-05-02T02:55:22.097607Z",
     "iopub.status.idle": "2023-05-02T02:55:22.400000Z",
     "shell.execute_reply": "2023-05-02T02:55:22.399000Z"
    }
   },
   "outputs": [],
   "source": [
    "fig, ax = plt.subplots(1, 1, figsize=(8, 8))\n",
    "sgr.plot(ax=ax)\n",
    "ix.plot_linestring(result, ax=ax, cmap=\"viridis\")\n",
    "\n",
    "for irow, icol in result.cellids:\n",
    "    (h2,) = ax.plot(\n",
    "        sgr.xcellcenters[0, icol],\n",
    "        sgr.ycellcenters[irow, 0],\n",
    "        \"kx\",\n",
    "        label=\"centroids of intersected gridcells\",\n",
    "    )\n",
    "\n",
    "ax.legend([h2], [i.get_label() for i in [h2]], loc=\"best\");"
   ]
  },
  {
   "cell_type": "markdown",
   "metadata": {},
   "source": [
    "Same as before, the intersect for structured grids can also be performed with a different method optimized for structured grids"
   ]
  },
  {
   "cell_type": "code",
   "execution_count": null,
   "metadata": {
    "execution": {
     "iopub.execute_input": "2023-05-02T02:55:22.402665Z",
     "iopub.status.busy": "2023-05-02T02:55:22.402407Z",
     "iopub.status.idle": "2023-05-02T02:55:22.405740Z",
     "shell.execute_reply": "2023-05-02T02:55:22.405062Z"
    }
   },
   "outputs": [],
   "source": [
    "ixs = GridIntersect(sgr, method=\"structured\")"
   ]
  },
  {
   "cell_type": "code",
   "execution_count": null,
   "metadata": {
    "execution": {
     "iopub.execute_input": "2023-05-02T02:55:22.407967Z",
     "iopub.status.busy": "2023-05-02T02:55:22.407731Z",
     "iopub.status.idle": "2023-05-02T02:55:22.425334Z",
     "shell.execute_reply": "2023-05-02T02:55:22.424427Z"
    }
   },
   "outputs": [],
   "source": [
    "result2 = ixs.intersect(mls)\n",
    "\n",
    "# ordering is different so compare sets to check equality\n",
    "check = len(set(result2.cellids) - set(result.cellids)) == 0\n",
    "print(\n",
    "    \"Intersection result with method='structured' and \"\n",
    "    f\"method='vertex' are equal: {check}\"\n",
    ")"
   ]
  },
  {
   "cell_type": "markdown",
   "metadata": {},
   "source": [
    "### [MultiPoint with regular grid](#top)<a id=\"rectgrid.3\"></a>\n",
    "\n",
    "MultiPoint to intersect with"
   ]
  },
  {
   "cell_type": "code",
   "execution_count": null,
   "metadata": {
    "execution": {
     "iopub.execute_input": "2023-05-02T02:55:22.428561Z",
     "iopub.status.busy": "2023-05-02T02:55:22.427960Z",
     "iopub.status.idle": "2023-05-02T02:55:22.432320Z",
     "shell.execute_reply": "2023-05-02T02:55:22.431424Z"
    }
   },
   "outputs": [],
   "source": [
    "mp = MultiPoint(\n",
    "    points=[\n",
    "        Point(50.0, 0.0),\n",
    "        Point(45.0, 45.0),\n",
    "        Point(10.0, 10.0),\n",
    "        Point(150.0, 100.0),\n",
    "    ]\n",
    ")"
   ]
  },
  {
   "cell_type": "markdown",
   "metadata": {},
   "source": [
    "For points and linestrings there is a keyword argument `return_all_intersections` which will return multiple intersection results for points or (parts of) linestrings on cell boundaries. As an example, the difference is shown with the MultiPoint intersection. Note the number of red \"+\" symbols indicating the centroids of intersected cells, in the bottom left case, there are 4 results because the point lies exactly on the intersection between 4 grid cells. "
   ]
  },
  {
   "cell_type": "code",
   "execution_count": null,
   "metadata": {
    "execution": {
     "iopub.execute_input": "2023-05-02T02:55:22.435187Z",
     "iopub.status.busy": "2023-05-02T02:55:22.434899Z",
     "iopub.status.idle": "2023-05-02T02:55:22.442522Z",
     "shell.execute_reply": "2023-05-02T02:55:22.441635Z"
    }
   },
   "outputs": [],
   "source": [
    "result = ix.intersect(mp)\n",
    "result_all = ix.intersect(mp, return_all_intersections=True)"
   ]
  },
  {
   "cell_type": "code",
   "execution_count": null,
   "metadata": {
    "execution": {
     "iopub.execute_input": "2023-05-02T02:55:22.445852Z",
     "iopub.status.busy": "2023-05-02T02:55:22.445524Z",
     "iopub.status.idle": "2023-05-02T02:55:22.700802Z",
     "shell.execute_reply": "2023-05-02T02:55:22.699826Z"
    }
   },
   "outputs": [],
   "source": [
    "fig, ax = plt.subplots(1, 1, figsize=(8, 8))\n",
    "sgr.plot(ax=ax)\n",
    "ix.plot_point(result, ax=ax, s=50, color=\"C0\")\n",
    "ix.plot_point(result_all, ax=ax, s=50, marker=\".\", color=\"C3\")\n",
    "\n",
    "for irow, icol in result.cellids:\n",
    "    (h2,) = ax.plot(\n",
    "        sgr.xcellcenters[0, icol],\n",
    "        sgr.ycellcenters[irow, 0],\n",
    "        \"kx\",\n",
    "        ms=15,\n",
    "        label=\"centroids of intersected cells\",\n",
    "    )\n",
    "\n",
    "for irow, icol in result_all.cellids:\n",
    "    (h3,) = ax.plot(\n",
    "        sgr.xcellcenters[0, icol],\n",
    "        sgr.ycellcenters[irow, 0],\n",
    "        \"C3+\",\n",
    "        ms=15,\n",
    "        label=\"centroids with `return_all_intersections=True`\",\n",
    "    )\n",
    "\n",
    "ax.legend([h2, h3], [i.get_label() for i in [h2, h3]], loc=\"best\");"
   ]
  },
  {
   "cell_type": "markdown",
   "metadata": {},
   "source": [
    "Same as before, the intersect for structured grids can also be performed with a different method written specifically for structured grids."
   ]
  },
  {
   "cell_type": "code",
   "execution_count": null,
   "metadata": {
    "execution": {
     "iopub.execute_input": "2023-05-02T02:55:22.703277Z",
     "iopub.status.busy": "2023-05-02T02:55:22.703026Z",
     "iopub.status.idle": "2023-05-02T02:55:22.706193Z",
     "shell.execute_reply": "2023-05-02T02:55:22.705542Z"
    }
   },
   "outputs": [],
   "source": [
    "ixs = GridIntersect(sgr, method=\"structured\")"
   ]
  },
  {
   "cell_type": "code",
   "execution_count": null,
   "metadata": {
    "execution": {
     "iopub.execute_input": "2023-05-02T02:55:22.708459Z",
     "iopub.status.busy": "2023-05-02T02:55:22.708218Z",
     "iopub.status.idle": "2023-05-02T02:55:22.713245Z",
     "shell.execute_reply": "2023-05-02T02:55:22.712618Z"
    }
   },
   "outputs": [],
   "source": [
    "result2 = ixs.intersect(mp, return_all_intersections=False)\n",
    "\n",
    "# ordering is different so compare sets to check equality\n",
    "check = len(set(result2.cellids) - set(result.cellids)) == 0\n",
    "print(\n",
    "    \"Intersection result with method='structured' and \"\n",
    "    f\"method='vertex' are equal: {check}\"\n",
    ")"
   ]
  },
  {
   "cell_type": "markdown",
   "metadata": {},
   "source": [
    "## <a id=\"trigrid\"></a>[Vertex Grid](#top)"
   ]
  },
  {
   "cell_type": "code",
   "execution_count": null,
   "metadata": {
    "execution": {
     "iopub.execute_input": "2023-05-02T02:55:22.715837Z",
     "iopub.status.busy": "2023-05-02T02:55:22.715577Z",
     "iopub.status.idle": "2023-05-02T02:55:22.721477Z",
     "shell.execute_reply": "2023-05-02T02:55:22.720737Z"
    }
   },
   "outputs": [],
   "source": [
    "cell2d = [\n",
    "    [0, 83.33333333333333, 66.66666666666667, 3, 4, 2, 7],\n",
    "    [1, 16.666666666666668, 33.333333333333336, 3, 4, 0, 5],\n",
    "    [2, 33.333333333333336, 83.33333333333333, 3, 1, 8, 4],\n",
    "    [3, 16.666666666666668, 66.66666666666667, 3, 5, 1, 4],\n",
    "    [4, 33.333333333333336, 16.666666666666668, 3, 6, 0, 4],\n",
    "    [5, 66.66666666666667, 16.666666666666668, 3, 4, 3, 6],\n",
    "    [6, 83.33333333333333, 33.333333333333336, 3, 7, 3, 4],\n",
    "    [7, 66.66666666666667, 83.33333333333333, 3, 8, 2, 4],\n",
    "]\n",
    "vertices = [\n",
    "    [0, 0.0, 0.0],\n",
    "    [1, 0.0, 100.0],\n",
    "    [2, 100.0, 100.0],\n",
    "    [3, 100.0, 0.0],\n",
    "    [4, 50.0, 50.0],\n",
    "    [5, 0.0, 50.0],\n",
    "    [6, 50.0, 0.0],\n",
    "    [7, 100.0, 50.0],\n",
    "    [8, 50.0, 100.0],\n",
    "]\n",
    "tgr = fgrid.VertexGrid(vertices, cell2d)"
   ]
  },
  {
   "cell_type": "code",
   "execution_count": null,
   "metadata": {
    "execution": {
     "iopub.execute_input": "2023-05-02T02:55:22.724285Z",
     "iopub.status.busy": "2023-05-02T02:55:22.723990Z",
     "iopub.status.idle": "2023-05-02T02:55:22.891360Z",
     "shell.execute_reply": "2023-05-02T02:55:22.890438Z"
    }
   },
   "outputs": [],
   "source": [
    "fig, ax = plt.subplots(1, 1, figsize=(8, 8))\n",
    "pmv = fplot.PlotMapView(modelgrid=tgr)\n",
    "pmv.plot_grid(ax=ax);"
   ]
  },
  {
   "cell_type": "markdown",
   "metadata": {},
   "source": [
    "### <a id=\"trigrid.1\"></a>[Polygon with triangular grid](#top)"
   ]
  },
  {
   "cell_type": "code",
   "execution_count": null,
   "metadata": {
    "execution": {
     "iopub.execute_input": "2023-05-02T02:55:22.895040Z",
     "iopub.status.busy": "2023-05-02T02:55:22.894647Z",
     "iopub.status.idle": "2023-05-02T02:55:22.899835Z",
     "shell.execute_reply": "2023-05-02T02:55:22.898912Z"
    }
   },
   "outputs": [],
   "source": [
    "ix2 = GridIntersect(tgr)"
   ]
  },
  {
   "cell_type": "code",
   "execution_count": null,
   "metadata": {
    "execution": {
     "iopub.execute_input": "2023-05-02T02:55:22.903135Z",
     "iopub.status.busy": "2023-05-02T02:55:22.902813Z",
     "iopub.status.idle": "2023-05-02T02:55:22.908138Z",
     "shell.execute_reply": "2023-05-02T02:55:22.907315Z"
    }
   },
   "outputs": [],
   "source": [
    "result = ix2.intersect(p)"
   ]
  },
  {
   "cell_type": "code",
   "execution_count": null,
   "metadata": {
    "execution": {
     "iopub.execute_input": "2023-05-02T02:55:22.911296Z",
     "iopub.status.busy": "2023-05-02T02:55:22.910975Z",
     "iopub.status.idle": "2023-05-02T02:55:23.152646Z",
     "shell.execute_reply": "2023-05-02T02:55:23.151897Z"
    }
   },
   "outputs": [],
   "source": [
    "fig, ax = plt.subplots(1, 1, figsize=(8, 8))\n",
    "pmv = fplot.PlotMapView(ax=ax, modelgrid=tgr)\n",
    "pmv.plot_grid()\n",
    "ix.plot_polygon(result, ax=ax)\n",
    "\n",
    "# only cells that intersect with shape\n",
    "for cellid in result.cellids:\n",
    "    (h2,) = ax.plot(\n",
    "        tgr.xcellcenters[cellid],\n",
    "        tgr.ycellcenters[cellid],\n",
    "        \"kx\",\n",
    "        label=\"centroids of intersected gridcells\",\n",
    "    )\n",
    "\n",
    "ax.legend([h2], [i.get_label() for i in [h2]], loc=\"best\");"
   ]
  },
  {
   "cell_type": "markdown",
   "metadata": {},
   "source": [
    "### <a id=\"trigrid.2\"></a>[LineString with triangular grid](#top)"
   ]
  },
  {
   "cell_type": "code",
   "execution_count": null,
   "metadata": {
    "execution": {
     "iopub.execute_input": "2023-05-02T02:55:23.155649Z",
     "iopub.status.busy": "2023-05-02T02:55:23.155372Z",
     "iopub.status.idle": "2023-05-02T02:55:23.160696Z",
     "shell.execute_reply": "2023-05-02T02:55:23.160062Z"
    }
   },
   "outputs": [],
   "source": [
    "result = ix2.intersect(mls)"
   ]
  },
  {
   "cell_type": "code",
   "execution_count": null,
   "metadata": {
    "execution": {
     "iopub.execute_input": "2023-05-02T02:55:23.163165Z",
     "iopub.status.busy": "2023-05-02T02:55:23.162910Z",
     "iopub.status.idle": "2023-05-02T02:55:23.410738Z",
     "shell.execute_reply": "2023-05-02T02:55:23.409978Z"
    }
   },
   "outputs": [],
   "source": [
    "fig, ax = plt.subplots(1, 1, figsize=(8, 8))\n",
    "pmv = fplot.PlotMapView(ax=ax, modelgrid=tgr)\n",
    "pmv.plot_grid()\n",
    "ix2.plot_linestring(result, ax=ax, lw=3)\n",
    "\n",
    "for cellid in result.cellids:\n",
    "    (h2,) = ax.plot(\n",
    "        tgr.xcellcenters[cellid],\n",
    "        tgr.ycellcenters[cellid],\n",
    "        \"kx\",\n",
    "        label=\"centroids of intersected gridcells\",\n",
    "    )\n",
    "\n",
    "ax.legend([h2], [i.get_label() for i in [h2]], loc=\"best\");"
   ]
  },
  {
   "cell_type": "markdown",
   "metadata": {},
   "source": [
    "### <a id=\"trigrid.3\"></a>[MultiPoint with triangular grid](#top)"
   ]
  },
  {
   "cell_type": "code",
   "execution_count": null,
   "metadata": {
    "execution": {
     "iopub.execute_input": "2023-05-02T02:55:23.413273Z",
     "iopub.status.busy": "2023-05-02T02:55:23.412998Z",
     "iopub.status.idle": "2023-05-02T02:55:23.418736Z",
     "shell.execute_reply": "2023-05-02T02:55:23.418002Z"
    }
   },
   "outputs": [],
   "source": [
    "result = ix2.intersect(mp)\n",
    "result_all = ix2.intersect(mp, return_all_intersections=True)"
   ]
  },
  {
   "cell_type": "code",
   "execution_count": null,
   "metadata": {
    "execution": {
     "iopub.execute_input": "2023-05-02T02:55:23.421589Z",
     "iopub.status.busy": "2023-05-02T02:55:23.421311Z",
     "iopub.status.idle": "2023-05-02T02:55:23.670533Z",
     "shell.execute_reply": "2023-05-02T02:55:23.669469Z"
    }
   },
   "outputs": [],
   "source": [
    "fig, ax = plt.subplots(1, 1, figsize=(8, 8))\n",
    "pmv = fplot.PlotMapView(ax=ax, modelgrid=tgr)\n",
    "pmv.plot_grid()\n",
    "ix2.plot_point(result, ax=ax, color=\"k\", zorder=5, s=80)\n",
    "\n",
    "for cellid in result.cellids:\n",
    "    (h2,) = ax.plot(\n",
    "        tgr.xcellcenters[cellid],\n",
    "        tgr.ycellcenters[cellid],\n",
    "        \"kx\",\n",
    "        ms=15,\n",
    "        label=\"centroids of intersected cells\",\n",
    "    )\n",
    "for cellid in result_all.cellids:\n",
    "    (h3,) = ax.plot(\n",
    "        tgr.xcellcenters[cellid],\n",
    "        tgr.ycellcenters[cellid],\n",
    "        \"r+\",\n",
    "        ms=15,\n",
    "        label=\"centroids with return_all_intersections=True\",\n",
    "    )\n",
    "\n",
    "ax.legend([h2, h3], [i.get_label() for i in [h2, h3]], loc=\"best\");"
   ]
  }
 ],
 "metadata": {
  "kernelspec": {
   "display_name": "Python 3 (ipykernel)",
   "language": "python",
   "name": "python3"
  },
  "language_info": {
   "codemirror_mode": {
    "name": "ipython",
    "version": 3
   },
   "file_extension": ".py",
   "mimetype": "text/x-python",
   "name": "python",
   "nbconvert_exporter": "python",
   "pygments_lexer": "ipython3",
   "version": "3.11.0"
  },
  "vscode": {
   "interpreter": {
    "hash": "dace5e1b41a98a8e52d2a8eebc3b981caf2c12e7a76736ebfb89a489e3b62e79"
   }
  }
 },
 "nbformat": 4,
 "nbformat_minor": 4
}
