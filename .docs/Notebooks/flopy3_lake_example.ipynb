{
 "cells": [
  {
   "attachments": {},
   "cell_type": "markdown",
   "metadata": {},
   "source": [
    "# Lake Package Example\n",
    "\n",
    "First set the path and import the required packages. The flopy path doesn't have to be set if you install flopy from a binary installer. If you want to run this notebook, you have to set the path to your own flopy path."
   ]
  },
  {
   "cell_type": "code",
   "execution_count": null,
   "metadata": {
    "execution": {
     "iopub.execute_input": "2023-05-02T02:55:26.091291Z",
     "iopub.status.busy": "2023-05-02T02:55:26.090909Z",
     "iopub.status.idle": "2023-05-02T02:55:27.943999Z",
     "shell.execute_reply": "2023-05-02T02:55:27.943113Z"
    }
   },
   "outputs": [],
   "source": [
    "import os\n",
    "import sys\n",
    "from tempfile import TemporaryDirectory\n",
    "\n",
    "import numpy as np\n",
    "import matplotlib as mpl\n",
    "import matplotlib.pyplot as plt\n",
    "\n",
    "# run installed version of flopy or add local path\n",
    "try:\n",
    "    import flopy\n",
    "except:\n",
    "    fpth = os.path.abspath(os.path.join(\"..\", \"..\"))\n",
    "    sys.path.append(fpth)\n",
    "    import flopy\n",
    "\n",
    "# temporary directory\n",
    "temp_dir = TemporaryDirectory()\n",
    "workspace = temp_dir.name\n",
    "\n",
    "print(sys.version)\n",
    "print(\"numpy version: {}\".format(np.__version__))\n",
    "print(\"matplotlib version: {}\".format(mpl.__version__))\n",
    "print(\"flopy version: {}\".format(flopy.__version__))"
   ]
  },
  {
   "cell_type": "markdown",
   "metadata": {},
   "source": [
    "We are creating a square model with a specified head equal to `h1` along all boundaries. The head at the cell in the center in the top layer is fixed to `h2`. First, set the name of the model and the parameters of the model: the number of layers `Nlay`, the number of rows and columns `N`, lengths of the sides of the model `L`, aquifer thickness `H`, hydraulic conductivity `k`"
   ]
  },
  {
   "cell_type": "code",
   "execution_count": null,
   "metadata": {
    "execution": {
     "iopub.execute_input": "2023-05-02T02:55:28.000556Z",
     "iopub.status.busy": "2023-05-02T02:55:28.000208Z",
     "iopub.status.idle": "2023-05-02T02:55:28.003964Z",
     "shell.execute_reply": "2023-05-02T02:55:28.003326Z"
    }
   },
   "outputs": [],
   "source": [
    "name = \"lake_example\"\n",
    "h1 = 100\n",
    "h2 = 90\n",
    "Nlay = 10\n",
    "N = 101\n",
    "L = 400.0\n",
    "H = 50.0\n",
    "k = 1.0"
   ]
  },
  {
   "cell_type": "markdown",
   "metadata": {},
   "source": [
    "Create a MODFLOW model and store it (in this case in the variable `ml`, but you can call it whatever you want). The modelname will be the name given to all MODFLOW files (input and output). The exe_name should be the full path to your MODFLOW executable. The version is either 'mf2k' for MODFLOW2000 or 'mf2005'for MODFLOW2005."
   ]
  },
  {
   "cell_type": "code",
   "execution_count": null,
   "metadata": {
    "execution": {
     "iopub.execute_input": "2023-05-02T02:55:28.006606Z",
     "iopub.status.busy": "2023-05-02T02:55:28.006325Z",
     "iopub.status.idle": "2023-05-02T02:55:28.010587Z",
     "shell.execute_reply": "2023-05-02T02:55:28.009831Z"
    }
   },
   "outputs": [],
   "source": [
    "ml = flopy.modflow.Modflow(\n",
    "    modelname=name, exe_name=\"mf2005\", version=\"mf2005\", model_ws=workspace\n",
    ")"
   ]
  },
  {
   "cell_type": "markdown",
   "metadata": {},
   "source": [
    "Define the discretization of the model. All layers are given equal thickness. The `bot` array is build from the `Hlay` values to indicate top and bottom of each layer, and `delrow` and `delcol` are computed from model size `L` and number of cells `N`. Once these are all computed, the Discretization file is built."
   ]
  },
  {
   "cell_type": "code",
   "execution_count": null,
   "metadata": {
    "execution": {
     "iopub.execute_input": "2023-05-02T02:55:28.013276Z",
     "iopub.status.busy": "2023-05-02T02:55:28.013012Z",
     "iopub.status.idle": "2023-05-02T02:55:28.020890Z",
     "shell.execute_reply": "2023-05-02T02:55:28.020164Z"
    }
   },
   "outputs": [],
   "source": [
    "bot = np.linspace(-H / Nlay, -H, Nlay)\n",
    "delrow = delcol = L / (N - 1)\n",
    "dis = flopy.modflow.ModflowDis(\n",
    "    ml,\n",
    "    nlay=Nlay,\n",
    "    nrow=N,\n",
    "    ncol=N,\n",
    "    delr=delrow,\n",
    "    delc=delcol,\n",
    "    top=0.0,\n",
    "    botm=bot,\n",
    "    laycbd=0,\n",
    ")"
   ]
  },
  {
   "cell_type": "markdown",
   "metadata": {},
   "source": [
    "Next we specify the boundary conditions and starting heads with the Basic package. The `ibound` array will be `1` in all cells in all layers, except for along the boundary and in the cell at the center in the top layer where it is set to `-1` to indicate fixed heads. The starting heads are used to define the heads in the fixed head cells (this is a steady simulation, so none of the other starting values matter). So we set the starting heads to `h1` everywhere, except for the head at the center of the model in the top layer."
   ]
  },
  {
   "cell_type": "code",
   "execution_count": null,
   "metadata": {
    "execution": {
     "iopub.execute_input": "2023-05-02T02:55:28.023825Z",
     "iopub.status.busy": "2023-05-02T02:55:28.023540Z",
     "iopub.status.idle": "2023-05-02T02:55:28.030676Z",
     "shell.execute_reply": "2023-05-02T02:55:28.029861Z"
    }
   },
   "outputs": [],
   "source": [
    "Nhalf = int((N - 1) / 2)\n",
    "ibound = np.ones((Nlay, N, N), dtype=int)\n",
    "ibound[:, 0, :] = -1\n",
    "ibound[:, -1, :] = -1\n",
    "ibound[:, :, 0] = -1\n",
    "ibound[:, :, -1] = -1\n",
    "ibound[0, Nhalf, Nhalf] = -1\n",
    "start = h1 * np.ones((N, N))\n",
    "start[Nhalf, Nhalf] = h2\n",
    "bas = flopy.modflow.ModflowBas(ml, ibound=ibound, strt=start)"
   ]
  },
  {
   "cell_type": "markdown",
   "metadata": {},
   "source": [
    "The aquifer properties (really only the hydraulic conductivity) are defined with the LPF package. "
   ]
  },
  {
   "cell_type": "code",
   "execution_count": null,
   "metadata": {
    "execution": {
     "iopub.execute_input": "2023-05-02T02:55:28.033439Z",
     "iopub.status.busy": "2023-05-02T02:55:28.033158Z",
     "iopub.status.idle": "2023-05-02T02:55:28.040074Z",
     "shell.execute_reply": "2023-05-02T02:55:28.039249Z"
    }
   },
   "outputs": [],
   "source": [
    "lpf = flopy.modflow.ModflowLpf(ml, hk=k)"
   ]
  },
  {
   "cell_type": "markdown",
   "metadata": {},
   "source": [
    "Finally, we need to specify the solver we want to use (PCG with default values), and the output control (using the default values). Then we are ready to write all MODFLOW input files and run MODFLOW."
   ]
  },
  {
   "cell_type": "code",
   "execution_count": null,
   "metadata": {
    "execution": {
     "iopub.execute_input": "2023-05-02T02:55:28.042750Z",
     "iopub.status.busy": "2023-05-02T02:55:28.042474Z",
     "iopub.status.idle": "2023-05-02T02:55:28.673998Z",
     "shell.execute_reply": "2023-05-02T02:55:28.672745Z"
    }
   },
   "outputs": [],
   "source": [
    "pcg = flopy.modflow.ModflowPcg(ml)\n",
    "oc = flopy.modflow.ModflowOc(ml)\n",
    "ml.write_input()\n",
    "success, buff = ml.run_model(silent=True, report=True)\n",
    "if success:\n",
    "    for line in buff:\n",
    "        print(line)\n",
    "else:\n",
    "    raise ValueError(\"Failed to run.\")"
   ]
  },
  {
   "cell_type": "markdown",
   "metadata": {},
   "source": [
    "Once the model has terminated normally, we can read the heads file. First, a link to the heads file is created with `HeadFile`. The link can then be accessed with the `get_data` function, by specifying, in this case, the step number and period number for which we want to retrieve data. A three-dimensional array is returned of size `nlay, nrow, ncol`. Matplotlib contouring functions are used to make contours of the layers or a cross-section."
   ]
  },
  {
   "cell_type": "code",
   "execution_count": null,
   "metadata": {
    "execution": {
     "iopub.execute_input": "2023-05-02T02:55:28.678001Z",
     "iopub.status.busy": "2023-05-02T02:55:28.677681Z",
     "iopub.status.idle": "2023-05-02T02:55:29.047253Z",
     "shell.execute_reply": "2023-05-02T02:55:29.046302Z"
    }
   },
   "outputs": [],
   "source": [
    "hds = flopy.utils.HeadFile(os.path.join(workspace, name + \".hds\"))\n",
    "h = hds.get_data(kstpkper=(0, 0))\n",
    "x = y = np.linspace(0, L, N)\n",
    "c = plt.contour(x, y, h[0], np.arange(90, 100.1, 0.2))\n",
    "plt.clabel(c, fmt=\"%2.1f\")\n",
    "plt.axis(\"scaled\");"
   ]
  },
  {
   "cell_type": "code",
   "execution_count": null,
   "metadata": {
    "execution": {
     "iopub.execute_input": "2023-05-02T02:55:29.050793Z",
     "iopub.status.busy": "2023-05-02T02:55:29.050426Z",
     "iopub.status.idle": "2023-05-02T02:55:29.353288Z",
     "shell.execute_reply": "2023-05-02T02:55:29.352326Z"
    }
   },
   "outputs": [],
   "source": [
    "x = y = np.linspace(0, L, N)\n",
    "c = plt.contour(x, y, h[-1], np.arange(90, 100.1, 0.2))\n",
    "plt.clabel(c, fmt=\"%1.1f\")\n",
    "plt.axis(\"scaled\");"
   ]
  },
  {
   "cell_type": "code",
   "execution_count": null,
   "metadata": {
    "execution": {
     "iopub.execute_input": "2023-05-02T02:55:29.356368Z",
     "iopub.status.busy": "2023-05-02T02:55:29.356083Z",
     "iopub.status.idle": "2023-05-02T02:55:29.552779Z",
     "shell.execute_reply": "2023-05-02T02:55:29.551269Z"
    }
   },
   "outputs": [],
   "source": [
    "z = np.linspace(-H / Nlay / 2, -H + H / Nlay / 2, Nlay)\n",
    "c = plt.contour(x, z, h[:, 50, :], np.arange(90, 100.1, 0.2))\n",
    "plt.axis(\"scaled\");"
   ]
  },
  {
   "cell_type": "code",
   "execution_count": null,
   "metadata": {
    "execution": {
     "iopub.execute_input": "2023-05-02T02:55:29.556276Z",
     "iopub.status.busy": "2023-05-02T02:55:29.555899Z",
     "iopub.status.idle": "2023-05-02T02:55:29.574335Z",
     "shell.execute_reply": "2023-05-02T02:55:29.572969Z"
    }
   },
   "outputs": [],
   "source": [
    "try:\n",
    "    # ignore PermissionError on Windows\n",
    "    temp_dir.cleanup()\n",
    "except:\n",
    "    pass"
   ]
  }
 ],
 "metadata": {
  "anaconda-cloud": {},
  "kernelspec": {
   "display_name": "Python 3 (ipykernel)",
   "language": "python",
   "name": "python3"
  },
  "language_info": {
   "codemirror_mode": {
    "name": "ipython",
    "version": 3
   },
   "file_extension": ".py",
   "mimetype": "text/x-python",
   "name": "python",
   "nbconvert_exporter": "python",
   "pygments_lexer": "ipython3",
   "version": "3.11.0"
  }
 },
 "nbformat": 4,
 "nbformat_minor": 4
}
