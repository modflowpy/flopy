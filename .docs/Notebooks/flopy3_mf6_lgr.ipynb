{
 "cells": [
  {
   "attachments": {},
   "cell_type": "markdown",
   "metadata": {},
   "source": [
    "# Demo of the local grid refinement (LGR) utility\n",
    "\n",
    "FloPy has a utility for creating and managing a parent grid and a child grid.  Both grids must regular MODFLOW grids consisting of layers, rows, and columns.  The term Local Grid Refinement (LGR) is used to denote this configuration.  With the current version, only one child grid is supported; however, the utility could be used multiple times to create multiple child models.  Those child models could also be used with the utility to create grandchildren models, though it is unclear if there would be benefit to constructing models with this configuration.\n",
    "\n",
    "The FloPy LGR utility is designed to work primarily with MODFLOW 6 as MODFLOW 6 can be used to run multiple groundwater models in the same simulation.  These models can be tightly coupled at their interfaces.  This LGR approach is based on the idea of creating multiple model instances, each with their own input and output.  This approach is different from using an unstructured grid to represent a single mesh with local refinements in areas of interest."
   ]
  },
  {
   "cell_type": "markdown",
   "metadata": {},
   "source": [
    "## Setup\n",
    "\n",
    "First set the path and import the required packages. The flopy path doesn't have to be set if you install flopy from a binary installer. If you want to run this notebook, you have to set the path to your own flopy path."
   ]
  },
  {
   "cell_type": "code",
   "execution_count": null,
   "metadata": {
    "execution": {
     "iopub.execute_input": "2023-02-21T22:06:04.521053Z",
     "iopub.status.busy": "2023-02-21T22:06:04.520383Z",
     "iopub.status.idle": "2023-02-21T22:06:05.136358Z",
     "shell.execute_reply": "2023-02-21T22:06:05.135528Z"
    }
   },
   "outputs": [],
   "source": [
    "import os\n",
    "import sys\n",
    "from tempfile import TemporaryDirectory\n",
    "\n",
    "import numpy as np\n",
    "import matplotlib as mpl\n",
    "import matplotlib.pyplot as plt\n",
    "\n",
    "# run installed version of flopy or add local path\n",
    "try:\n",
    "    import flopy\n",
    "except:\n",
    "    fpth = os.path.abspath(os.path.join(\"..\", \"..\"))\n",
    "    sys.path.append(fpth)\n",
    "    import flopy\n",
    "from flopy.utils.lgrutil import Lgr\n",
    "\n",
    "# temporary directory\n",
    "temp_dir = TemporaryDirectory()\n",
    "workspace = os.path.join(temp_dir.name, \"mf6lgr\")\n",
    "# make sure workspace directory exists\n",
    "if not os.path.isdir(workspace):\n",
    "    os.makedirs(workspace, exist_ok=True)\n",
    "\n",
    "print(sys.version)\n",
    "print(\"numpy version: {}\".format(np.__version__))\n",
    "print(\"matplotlib version: {}\".format(mpl.__version__))\n",
    "print(\"flopy version: {}\".format(flopy.__version__))"
   ]
  },
  {
   "cell_type": "markdown",
   "metadata": {},
   "source": [
    "## LGR Utility\n",
    "\n",
    "The LGR Utility works by defining the parent grid.  Then cells within the parent grid are marked as being replaced by a child grid with a specified level of refinement.  The terminology and variable descriptions here are based on concepts developed for the MODFLOW-LGR program."
   ]
  },
  {
   "cell_type": "code",
   "execution_count": null,
   "metadata": {
    "execution": {
     "iopub.execute_input": "2023-02-21T22:06:05.187009Z",
     "iopub.status.busy": "2023-02-21T22:06:05.186600Z",
     "iopub.status.idle": "2023-02-21T22:06:05.192681Z",
     "shell.execute_reply": "2023-02-21T22:06:05.191894Z"
    }
   },
   "outputs": [],
   "source": [
    "# set up the parent grid information\n",
    "xoffp = 0.0\n",
    "yoffp = 0.0\n",
    "nlayp = 3\n",
    "nrowp = 25\n",
    "ncolp = 45\n",
    "dx = 100.0\n",
    "dy = 100.0\n",
    "dz = 20.0\n",
    "delrp = dx * np.ones(ncolp, dtype=float)\n",
    "delcp = dy * np.ones(nrowp, dtype=float)\n",
    "topp = dz * np.ones((nrowp, ncolp), dtype=float)\n",
    "botmp = np.empty((nlayp, nrowp, ncolp), dtype=float)\n",
    "for k in range(nlayp):\n",
    "    botmp[k] = -(k + 1) * dz"
   ]
  },
  {
   "cell_type": "code",
   "execution_count": null,
   "metadata": {
    "execution": {
     "iopub.execute_input": "2023-02-21T22:06:05.196184Z",
     "iopub.status.busy": "2023-02-21T22:06:05.195641Z",
     "iopub.status.idle": "2023-02-21T22:06:05.209909Z",
     "shell.execute_reply": "2023-02-21T22:06:05.209043Z"
    }
   },
   "outputs": [],
   "source": [
    "# Define relation of child to parent using\n",
    "# these parent indices to show where child is active\n",
    "istart = int(nrowp / 3)\n",
    "istop = int(nrowp * 2 / 3) + 1\n",
    "jstart = int(ncolp / 3)\n",
    "jstop = int(ncolp * 2 / 3) + 1\n",
    "kstart = 0\n",
    "kstop = 1 + 1\n",
    "\n",
    "# idomainp has a 1 where parent is active and 0 where child is active\n",
    "idomainp = np.ones((nlayp, nrowp, ncolp), dtype=int)\n",
    "idomainp[kstart:kstop, istart:istop, jstart:jstop] = 0\n",
    "\n",
    "# Set the number of child layers per parent layer (list of length parent nlay)\n",
    "# The following will result in 4 child layers that span model layers\n",
    "# 1 and 2 of the parent grid.  Vertical dimension of child cells will be half\n",
    "# of the parent vertical dimension.\n",
    "ncppl = np.array(nlayp * [2], dtype=int)\n",
    "ncppl[kstop:] = 0\n",
    "print(f\"ncppl: {ncppl}\")\n",
    "\n",
    "# Set the number of child cells per parent cell\n",
    "ncpp = 5\n",
    "\n",
    "# Create the Lgr utility object, which contains methods for connecting a\n",
    "# parent and child model in a MODFLOW 6 simulation\n",
    "lgr = Lgr(\n",
    "    nlayp,\n",
    "    nrowp,\n",
    "    ncolp,\n",
    "    delrp,\n",
    "    delcp,\n",
    "    topp,\n",
    "    botmp,\n",
    "    idomainp,\n",
    "    ncpp=ncpp,\n",
    "    ncppl=ncppl,\n",
    "    xllp=xoffp,\n",
    "    yllp=yoffp,\n",
    ")"
   ]
  },
  {
   "cell_type": "code",
   "execution_count": null,
   "metadata": {
    "execution": {
     "iopub.execute_input": "2023-02-21T22:06:05.213976Z",
     "iopub.status.busy": "2023-02-21T22:06:05.213332Z",
     "iopub.status.idle": "2023-02-21T22:06:05.295268Z",
     "shell.execute_reply": "2023-02-21T22:06:05.294484Z"
    }
   },
   "outputs": [],
   "source": [
    "# information about the parent and child models\n",
    "# can be accessed using simple grid objects returned\n",
    "# on the fly by lgr.parent and lgr.child\n",
    "print(\"Parent grid information\")\n",
    "parent = lgr.parent\n",
    "print(f\"parent nlay: {parent.nlay}\")\n",
    "print(f\"parent nrow: {parent.nrow}\")\n",
    "print(f\"parent ncol: {parent.ncol}\")\n",
    "print(f\"parent delr[0]: {parent.delr[0]}\")\n",
    "print(f\"parent delc[0]: {parent.delc[0]}\")\n",
    "print(f\"parent top[0, 0]: {parent.top[0, 0]}\")\n",
    "print(f\"parent botm[:, 0, 0]: {parent.botm[:, 0, 0]}\")\n",
    "\n",
    "print(\"\\nChild grid information\")\n",
    "child = lgr.child\n",
    "print(f\"child nlay: {child.nlay}\")\n",
    "print(f\"child nrow: {child.nrow}\")\n",
    "print(f\"child ncol: {child.ncol}\")\n",
    "print(f\"child delr[0]: {child.delr[0]}\")\n",
    "print(f\"child delc[0]: {child.delc[0]}\")\n",
    "print(f\"child top[0, 0]: {child.top[0, 0]}\")\n",
    "print(f\"child botm[:, 0, 0]: {child.botm[:, 0, 0]}\")"
   ]
  },
  {
   "cell_type": "code",
   "execution_count": null,
   "metadata": {
    "execution": {
     "iopub.execute_input": "2023-02-21T22:06:05.298586Z",
     "iopub.status.busy": "2023-02-21T22:06:05.298021Z",
     "iopub.status.idle": "2023-02-21T22:06:05.500554Z",
     "shell.execute_reply": "2023-02-21T22:06:05.499762Z"
    }
   },
   "outputs": [],
   "source": [
    "# from the Lgr object, it is possible to ask for a flopy modelgrid object\n",
    "# for the parent and child.  These objects are created on the fly and\n",
    "# can be used to plot the grids prior to creating the MODFLOW 6 simulation\n",
    "mgp = lgr.parent.modelgrid\n",
    "mgc = lgr.child.modelgrid\n",
    "\n",
    "fig = plt.figure(figsize=(10, 10))\n",
    "ax = fig.add_subplot(1, 1, 1, aspect=\"equal\")\n",
    "mgc.plot(ax=ax)\n",
    "mgp.plot(ax=ax)"
   ]
  },
  {
   "cell_type": "markdown",
   "metadata": {},
   "source": [
    "## LGR Simple Example: Setup Grid Configuration\n",
    "\n",
    "For this example, we reproduce the simple model shown on the front page of the flopy GitHub repository.  In this adaptation, we insert a finer, locally refined grid in the middle of the domain, but we tightly couple the parent and child models."
   ]
  },
  {
   "cell_type": "code",
   "execution_count": null,
   "metadata": {
    "execution": {
     "iopub.execute_input": "2023-02-21T22:06:05.503814Z",
     "iopub.status.busy": "2023-02-21T22:06:05.503629Z",
     "iopub.status.idle": "2023-02-21T22:06:05.516908Z",
     "shell.execute_reply": "2023-02-21T22:06:05.516110Z"
    }
   },
   "outputs": [],
   "source": [
    "# set up the parent grid information\n",
    "xoffp = 0.0\n",
    "yoffp = 0.0\n",
    "nlayp = 5\n",
    "nrowp = 5\n",
    "ncolp = 5\n",
    "dx = 100.0\n",
    "dy = 100.0\n",
    "dz = 100.0\n",
    "delrp = dx * np.ones(ncolp, dtype=float)\n",
    "delcp = dy * np.ones(nrowp, dtype=float)\n",
    "topp = dz * np.ones((nrowp, ncolp), dtype=float)\n",
    "botmp = np.empty((nlayp, nrowp, ncolp), dtype=float)\n",
    "for k in range(nlayp):\n",
    "    botmp[k] = -(k + 1) * dz\n",
    "\n",
    "# Define relation of child to parent\n",
    "# idomainp has a 1 where parent is active and 0 where child is active\n",
    "idomainp = np.ones((nlayp, nrowp, ncolp), dtype=int)\n",
    "idomainp[:, 1:4, 1:4] = 0\n",
    "\n",
    "# Set the number of child cells per parent cell\n",
    "ncpp = 5\n",
    "\n",
    "# Set the number of child layers per parent layer (list of cell parent nlay)\n",
    "ncppl = [1, 1, 1, 1, 1]\n",
    "\n",
    "# Create the Lgr utility object, which contains methods for connecting a\n",
    "# parent and child model in a MODFLOW 6 simulation\n",
    "lgr = Lgr(\n",
    "    nlayp,\n",
    "    nrowp,\n",
    "    ncolp,\n",
    "    delrp,\n",
    "    delcp,\n",
    "    topp,\n",
    "    botmp,\n",
    "    idomainp,\n",
    "    ncpp=ncpp,\n",
    "    ncppl=ncppl,\n",
    "    xllp=xoffp,\n",
    "    yllp=yoffp,\n",
    ")\n",
    "\n",
    "# from the Lgr object, it is possible to ask for a flopy modelgrid object\n",
    "# for the parent and child.  These objects are created on the fly and\n",
    "# can be used to plot the grids prior to creating the MODFLOW 6 simulation\n",
    "mgp = lgr.parent.modelgrid\n",
    "mgc = lgr.child.modelgrid"
   ]
  },
  {
   "cell_type": "code",
   "execution_count": null,
   "metadata": {
    "execution": {
     "iopub.execute_input": "2023-02-21T22:06:05.520469Z",
     "iopub.status.busy": "2023-02-21T22:06:05.520007Z",
     "iopub.status.idle": "2023-02-21T22:06:05.625067Z",
     "shell.execute_reply": "2023-02-21T22:06:05.624273Z"
    }
   },
   "outputs": [],
   "source": [
    "# plot the child and parent grids, which can be\n",
    "# done easily using the flopy modelgrid objects\n",
    "fig = plt.figure(figsize=(6, 6))\n",
    "ax = fig.add_subplot(1, 1, 1, aspect=\"equal\")\n",
    "mgc.plot(ax=ax)\n",
    "mgp.plot(ax=ax)"
   ]
  },
  {
   "cell_type": "markdown",
   "metadata": {},
   "source": [
    "### Build the MODFLOW 6 Model\n",
    "\n",
    " Now that we have the grid, we can setup and run the MODFLOW 6 model."
   ]
  },
  {
   "cell_type": "code",
   "execution_count": null,
   "metadata": {
    "execution": {
     "iopub.execute_input": "2023-02-21T22:06:05.628428Z",
     "iopub.status.busy": "2023-02-21T22:06:05.628152Z",
     "iopub.status.idle": "2023-02-21T22:06:11.649558Z",
     "shell.execute_reply": "2023-02-21T22:06:11.648690Z"
    }
   },
   "outputs": [],
   "source": [
    "# set up the MODFLOW 6 simulation\n",
    "ws = os.path.join(workspace, \"ex1\")\n",
    "simname = \"lgr\"\n",
    "pname = \"parent\"\n",
    "cname = \"child\"\n",
    "sim = flopy.mf6.MFSimulation(sim_name=simname, sim_ws=ws, exe_name=\"mf6\")\n",
    "tdis = flopy.mf6.ModflowTdis(sim)\n",
    "\n",
    "# Because we will use the xt3d option for coupling the models\n",
    "# we need use to the asymmetric BICGSTAB linear solver\n",
    "ims = flopy.mf6.ModflowIms(sim, linear_acceleration=\"BICGSTAB\")\n",
    "\n",
    "# retrieve the exchange data from the lgr object\n",
    "exchangedata = lgr.get_exchange_data(angldegx=True, cdist=True)\n",
    "nexg = len(exchangedata)\n",
    "\n",
    "# When creating the exchange, which couples the child and parent\n",
    "# models, use the xt3d option, which is an alternative to the\n",
    "# ghost-node correction.  This xt3d option was added as a new\n",
    "# capability for the gwt-gwt and gwf-gwf exchanges in MODFLOW version 6.3.0.\n",
    "exg = flopy.mf6.ModflowGwfgwf(\n",
    "    sim,\n",
    "    exgtype=\"GWF6-GWF6\",\n",
    "    xt3d=True,\n",
    "    auxiliary=[\"angldegx\", \"cdist\"],\n",
    "    exgmnamea=pname,\n",
    "    exgmnameb=cname,\n",
    "    nexg=nexg,\n",
    "    exchangedata=exchangedata,\n",
    ")\n",
    "\n",
    "# Set up the parent model and use the lgr.parent object to\n",
    "# help provide the necessary information.\n",
    "lgrp = lgr.parent\n",
    "gwfp = flopy.mf6.ModflowGwf(sim, modelname=pname, save_flows=True)\n",
    "dis = flopy.mf6.ModflowGwfdis(gwfp, **lgrp.get_gridprops_dis6())\n",
    "ic = flopy.mf6.ModflowGwfic(gwfp)\n",
    "npf = flopy.mf6.ModflowGwfnpf(gwfp, save_specific_discharge=True)\n",
    "chdspd = [[(0, 0, 0), 1.0], [(0, lgrp.nrow - 1, lgrp.ncol - 1), 0.0]]\n",
    "chd = flopy.mf6.ModflowGwfchd(gwfp, stress_period_data=chdspd)\n",
    "oc = flopy.mf6.ModflowGwfoc(\n",
    "    gwfp,\n",
    "    budget_filerecord=pname + \".bud\",\n",
    "    head_filerecord=pname + \".hds\",\n",
    "    saverecord=[(\"HEAD\", \"ALL\"), (\"BUDGET\", \"ALL\")],\n",
    ")\n",
    "\n",
    "# Set up the child model and use the lgr.child object to\n",
    "# help provide the necessary information.\n",
    "lgrc = lgr.child\n",
    "gwfc = flopy.mf6.ModflowGwf(sim, modelname=cname, save_flows=True)\n",
    "dis = flopy.mf6.ModflowGwfdis(gwfc, **lgrc.get_gridprops_dis6())\n",
    "ic = flopy.mf6.ModflowGwfic(gwfc)\n",
    "npf = flopy.mf6.ModflowGwfnpf(gwfc, save_specific_discharge=True)\n",
    "oc = flopy.mf6.ModflowGwfoc(\n",
    "    gwfc,\n",
    "    budget_filerecord=cname + \".bud\",\n",
    "    head_filerecord=cname + \".hds\",\n",
    "    saverecord=[(\"HEAD\", \"ALL\"), (\"BUDGET\", \"ALL\")],\n",
    ")\n",
    "\n",
    "sim.write_simulation()\n",
    "success, buff = sim.run_simulation(silent=True, report=True)\n",
    "if success:\n",
    "    for line in buff:\n",
    "        print(line)\n",
    "else:\n",
    "    raise ValueError(\"Failed to run.\")"
   ]
  },
  {
   "cell_type": "code",
   "execution_count": null,
   "metadata": {
    "execution": {
     "iopub.execute_input": "2023-02-21T22:06:11.653608Z",
     "iopub.status.busy": "2023-02-21T22:06:11.653260Z",
     "iopub.status.idle": "2023-02-21T22:06:11.667060Z",
     "shell.execute_reply": "2023-02-21T22:06:11.666159Z"
    }
   },
   "outputs": [],
   "source": [
    "# load and store the head arrays from the parent and child models\n",
    "head = [gwfp.output.head().get_data(), gwfc.output.head().get_data()]\n",
    "\n",
    "# load and store the specific discharge results for the parent and child models\n",
    "bud = gwfp.output.budget()\n",
    "spdis = bud.get_data(text=\"DATA-SPDIS\")[0]\n",
    "spdisp = flopy.utils.postprocessing.get_specific_discharge(spdis, gwfp)\n",
    "bud = gwfc.output.budget()\n",
    "spdis = bud.get_data(text=\"DATA-SPDIS\")[0]\n",
    "spdisc = flopy.utils.postprocessing.get_specific_discharge(spdis, gwfc)"
   ]
  },
  {
   "cell_type": "code",
   "execution_count": null,
   "metadata": {
    "execution": {
     "iopub.execute_input": "2023-02-21T22:06:11.671095Z",
     "iopub.status.busy": "2023-02-21T22:06:11.670701Z",
     "iopub.status.idle": "2023-02-21T22:06:11.866451Z",
     "shell.execute_reply": "2023-02-21T22:06:11.865899Z"
    }
   },
   "outputs": [],
   "source": [
    "# plot the results from both the parent and child models\n",
    "# on the same figure\n",
    "f = plt.figure(figsize=(10, 10))\n",
    "ax = plt.subplot(1, 1, 1, aspect=\"equal\")\n",
    "pmvp = flopy.plot.PlotMapView(gwfp, ax=ax)\n",
    "pmvc = flopy.plot.PlotMapView(gwfc, ax=ax, extent=pmvp.extent)\n",
    "\n",
    "pmvp.plot_array(head[0], vmin=0.0, vmax=1.0)\n",
    "pmvc.plot_array(head[1], vmin=0.0, vmax=1.0)\n",
    "\n",
    "pmvp.plot_grid(colors=\"white\")\n",
    "pmvc.plot_grid(colors=\"white\")\n",
    "\n",
    "pmvp.plot_vector(spdisp[0], spdisp[1], normalize=True, color=\"white\")\n",
    "pmvc.plot_vector(spdisc[0], spdisc[1], normalize=True, color=\"white\")"
   ]
  },
  {
   "cell_type": "markdown",
   "metadata": {},
   "source": [
    "## LGR Flow and Transport Example: Setup Grid Configuration\n",
    "\n",
    "For this example, we simulate coupled flow and transport for a LGR configuration."
   ]
  },
  {
   "cell_type": "code",
   "execution_count": null,
   "metadata": {
    "execution": {
     "iopub.execute_input": "2023-02-21T22:06:11.871173Z",
     "iopub.status.busy": "2023-02-21T22:06:11.870911Z",
     "iopub.status.idle": "2023-02-21T22:06:11.892309Z",
     "shell.execute_reply": "2023-02-21T22:06:11.891775Z"
    }
   },
   "outputs": [],
   "source": [
    "# set up the parent grid information\n",
    "xoffp = 0.0\n",
    "yoffp = 0.0\n",
    "nlayp = 3\n",
    "nrowp = 25\n",
    "ncolp = 45\n",
    "dx = 10.0\n",
    "dy = 10.0\n",
    "dz = 20.0\n",
    "delrp = dx * np.ones(ncolp, dtype=float)\n",
    "delcp = dy * np.ones(nrowp, dtype=float)\n",
    "topp = dz * np.ones((nrowp, ncolp), dtype=float)\n",
    "botmp = np.empty((nlayp, nrowp, ncolp), dtype=float)\n",
    "for k in range(nlayp):\n",
    "    botmp[k] = -(k + 1) * dz\n",
    "\n",
    "# Define relation of child to parent using\n",
    "# these parent indices to show where child is active\n",
    "istart = int(nrowp / 3)\n",
    "istop = int(nrowp * 2 / 3) + 1\n",
    "jstart = int(ncolp / 3)\n",
    "jstop = int(ncolp * 2 / 3) + 1\n",
    "kstart = 0\n",
    "kstop = 1 + 1\n",
    "\n",
    "# idomainp has a 1 where parent is active and 0 where child is active\n",
    "idomainp = np.ones((nlayp, nrowp, ncolp), dtype=int)\n",
    "idomainp[kstart:kstop, istart:istop, jstart:jstop] = 0\n",
    "\n",
    "# Set the number of child layers per parent layer\n",
    "ncppl = np.array(nlayp * [1], dtype=int)\n",
    "ncppl[kstop:] = 0\n",
    "print(f\"ncppl: {ncppl}\")\n",
    "\n",
    "# Set the number of child cells per parent cell\n",
    "ncpp = 3\n",
    "\n",
    "# Create the Lgr utility object, which contains methods for connecting a\n",
    "# parent and child model in a MODFLOW 6 simulation\n",
    "lgr = Lgr(\n",
    "    nlayp,\n",
    "    nrowp,\n",
    "    ncolp,\n",
    "    delrp,\n",
    "    delcp,\n",
    "    topp,\n",
    "    botmp,\n",
    "    idomainp,\n",
    "    ncpp=ncpp,\n",
    "    ncppl=ncppl,\n",
    "    xllp=xoffp,\n",
    "    yllp=yoffp,\n",
    ")\n",
    "\n",
    "# from the Lgr object, it is possible to ask for a flopy modelgrid object\n",
    "# for the parent and child.  These objects are created on the fly and\n",
    "# can be used to plot the grids prior to creating the MODFLOW 6 simulation\n",
    "mgp = lgr.parent.modelgrid\n",
    "mgc = lgr.child.modelgrid"
   ]
  },
  {
   "cell_type": "code",
   "execution_count": null,
   "metadata": {
    "execution": {
     "iopub.execute_input": "2023-02-21T22:06:11.895549Z",
     "iopub.status.busy": "2023-02-21T22:06:11.895196Z",
     "iopub.status.idle": "2023-02-21T22:06:12.068597Z",
     "shell.execute_reply": "2023-02-21T22:06:12.068064Z"
    }
   },
   "outputs": [],
   "source": [
    "# plot the child and parent grids, which can be\n",
    "# done easily using the flopy modelgrid objects\n",
    "fig = plt.figure(figsize=(6, 6))\n",
    "ax = fig.add_subplot(1, 1, 1, aspect=\"equal\")\n",
    "mgc.plot(ax=ax)\n",
    "mgp.plot(ax=ax)"
   ]
  },
  {
   "cell_type": "markdown",
   "metadata": {},
   "source": [
    "### Build the MODFLOW 6 Model\n",
    "\n",
    " Now that we have the grid, we can setup and run the MODFLOW 6 model."
   ]
  },
  {
   "cell_type": "code",
   "execution_count": null,
   "metadata": {
    "execution": {
     "iopub.execute_input": "2023-02-21T22:06:12.071899Z",
     "iopub.status.busy": "2023-02-21T22:06:12.071646Z",
     "iopub.status.idle": "2023-02-21T22:06:12.156861Z",
     "shell.execute_reply": "2023-02-21T22:06:12.156252Z"
    }
   },
   "outputs": [],
   "source": [
    "# set up the MODFLOW 6 simulation\n",
    "ws = os.path.join(workspace, \"ex2\")\n",
    "simname = \"lgr\"\n",
    "sim = flopy.mf6.MFSimulation(sim_name=simname, sim_ws=ws, exe_name=\"mf6\")\n",
    "tdis = flopy.mf6.ModflowTdis(sim, perioddata=[(50 * 365.0, 10, 1.0)])\n",
    "\n",
    "pname = \"parent-flow\"\n",
    "cname = \"child-flow\"\n",
    "\n",
    "# Because we will use the xt3d option for coupling the models\n",
    "# we need use to the asymmetric BICGSTAB linear solver\n",
    "ims_flow = flopy.mf6.ModflowIms(\n",
    "    sim, linear_acceleration=\"BICGSTAB\", filename=\"flow.ims\"\n",
    ")\n",
    "\n",
    "# retrieve the exchange data from the lgr object\n",
    "exchangedata = lgr.get_exchange_data(angldegx=True, cdist=True)\n",
    "nexg = len(exchangedata)\n",
    "\n",
    "# When creating the exchange, which couples the child and parent\n",
    "# models, use the xt3d option, which is an alternative to the\n",
    "# ghost-node correction.  This xt3d option was added as a new\n",
    "# capability for the gwt-gwt and gwf-gwf exchanges in MODFLOW version 6.3.0.\n",
    "exg = flopy.mf6.ModflowGwfgwf(\n",
    "    sim,\n",
    "    exgtype=\"GWF6-GWF6\",\n",
    "    xt3d=True,\n",
    "    auxiliary=[\"angldegx\", \"cdist\"],\n",
    "    exgmnamea=pname,\n",
    "    exgmnameb=cname,\n",
    "    nexg=nexg,\n",
    "    exchangedata=exchangedata,\n",
    ")\n",
    "\n",
    "# Set up the parent model and use the lgr.parent object to\n",
    "# help provide the necessary information.\n",
    "lgrp = lgr.parent\n",
    "gwfp = flopy.mf6.ModflowGwf(sim, modelname=pname, save_flows=True)\n",
    "dis = flopy.mf6.ModflowGwfdis(gwfp, **lgrp.get_gridprops_dis6())\n",
    "ic = flopy.mf6.ModflowGwfic(gwfp)\n",
    "npf = flopy.mf6.ModflowGwfnpf(gwfp, save_specific_discharge=True)\n",
    "chdspd = [[(0, 0, 0), 1.0], [(0, lgrp.nrow - 1, lgrp.ncol - 1), 0.0]]\n",
    "chd = flopy.mf6.ModflowGwfchd(gwfp, stress_period_data=chdspd)\n",
    "oc = flopy.mf6.ModflowGwfoc(\n",
    "    gwfp,\n",
    "    budget_filerecord=pname + \".bud\",\n",
    "    head_filerecord=pname + \".hds\",\n",
    "    saverecord=[(\"HEAD\", \"ALL\"), (\"BUDGET\", \"ALL\")],\n",
    ")\n",
    "\n",
    "# Set up the child model and use the lgr.child object to\n",
    "# help provide the necessary information.\n",
    "lgrc = lgr.child\n",
    "gwfc = flopy.mf6.ModflowGwf(sim, modelname=cname, save_flows=True)\n",
    "dis = flopy.mf6.ModflowGwfdis(gwfc, **lgrc.get_gridprops_dis6())\n",
    "ic = flopy.mf6.ModflowGwfic(gwfc)\n",
    "npf = flopy.mf6.ModflowGwfnpf(gwfc, save_specific_discharge=True)\n",
    "oc = flopy.mf6.ModflowGwfoc(\n",
    "    gwfc,\n",
    "    budget_filerecord=cname + \".bud\",\n",
    "    head_filerecord=cname + \".hds\",\n",
    "    saverecord=[(\"HEAD\", \"ALL\"), (\"BUDGET\", \"ALL\")],\n",
    ")"
   ]
  },
  {
   "cell_type": "code",
   "execution_count": null,
   "metadata": {
    "execution": {
     "iopub.execute_input": "2023-02-21T22:06:12.160441Z",
     "iopub.status.busy": "2023-02-21T22:06:12.160169Z",
     "iopub.status.idle": "2023-02-21T22:06:12.249160Z",
     "shell.execute_reply": "2023-02-21T22:06:12.248566Z"
    }
   },
   "outputs": [],
   "source": [
    "# now set up transport model\n",
    "include_transport = True\n",
    "if include_transport:\n",
    "    pname = \"parent-tran\"\n",
    "    cname = \"child-tran\"\n",
    "\n",
    "    # retrieve the exchange data from the lgr object\n",
    "    exchangedata = lgr.get_exchange_data(angldegx=True, cdist=True)\n",
    "    nexg = len(exchangedata)\n",
    "\n",
    "    # When creating the exchange, which couples the child and parent\n",
    "    # models, use the xt3d option, which is an alternative to the\n",
    "    # ghost-node correction.  This xt3d option was added as a new\n",
    "    # capability for the gwt-gwt and gwf-gwf exchanges in MODFLOW version 6.3.0.\n",
    "    exg = flopy.mf6.ModflowGwtgwt(\n",
    "        sim,\n",
    "        exgtype=\"GWT6-GWT6\",\n",
    "        gwfmodelname1=gwfp.name,\n",
    "        gwfmodelname2=gwfc.name,\n",
    "        # xt3d=True,\n",
    "        auxiliary=[\"angldegx\", \"cdist\"],\n",
    "        exgmnamea=pname,\n",
    "        exgmnameb=cname,\n",
    "        nexg=nexg,\n",
    "        exchangedata=exchangedata,\n",
    "    )\n",
    "\n",
    "    # Set up the parent model and use the lgr.parent object to\n",
    "    # help provide the necessary information.\n",
    "    lgrp = lgr.parent\n",
    "    gwtp = flopy.mf6.ModflowGwt(sim, modelname=pname, save_flows=True)\n",
    "    dis = flopy.mf6.ModflowGwtdis(gwtp, **lgrp.get_gridprops_dis6())\n",
    "    mst = flopy.mf6.ModflowGwtmst(gwtp, porosity=0.2)\n",
    "    ic = flopy.mf6.ModflowGwtic(gwtp)\n",
    "    adv = flopy.mf6.ModflowGwtadv(gwtp)\n",
    "    dsp = flopy.mf6.ModflowGwtdsp(gwtp, alh=1.0, ath1=0.1)\n",
    "    ssm = flopy.mf6.ModflowGwtssm(gwtp)\n",
    "    oc = flopy.mf6.ModflowGwtoc(\n",
    "        gwtp,\n",
    "        budget_filerecord=pname + \".bud\",\n",
    "        concentration_filerecord=pname + \".ucn\",\n",
    "        saverecord=[(\"CONCENTRATION\", \"ALL\"), (\"BUDGET\", \"ALL\")],\n",
    "    )\n",
    "\n",
    "    # Set up the child model and use the lgr.child object to\n",
    "    # help provide the necessary information.\n",
    "    lgrc = lgr.child\n",
    "    gwtc = flopy.mf6.ModflowGwt(sim, modelname=cname, save_flows=True)\n",
    "    dis = flopy.mf6.ModflowGwtdis(gwtc, **lgrc.get_gridprops_dis6())\n",
    "    mst = flopy.mf6.ModflowGwtmst(gwtc, porosity=0.2)\n",
    "    ic = flopy.mf6.ModflowGwtic(gwtc)\n",
    "    adv = flopy.mf6.ModflowGwtadv(gwtc)\n",
    "    dsp = flopy.mf6.ModflowGwtdsp(gwtc, alh=1.0, ath1=0.1)\n",
    "    # ssm = flopy.mf6.ModflowGwtssm(gwtc)\n",
    "    cncspd = {0: [[(0, int(lgrc.nrow / 2), int(lgrc.ncol / 2)), 1000.0]]}\n",
    "    cnc = flopy.mf6.ModflowGwtcnc(gwtc, stress_period_data=cncspd)\n",
    "    oc = flopy.mf6.ModflowGwtoc(\n",
    "        gwtc,\n",
    "        budget_filerecord=cname + \".bud\",\n",
    "        concentration_filerecord=cname + \".ucn\",\n",
    "        saverecord=[(\"CONCENTRATION\", \"ALL\"), (\"BUDGET\", \"ALL\")],\n",
    "        printrecord=[(\"CONCENTRATION\", \"LAST\"), (\"BUDGET\", \"ALL\")],\n",
    "    )\n",
    "\n",
    "    ims_tran = flopy.mf6.ModflowIms(\n",
    "        sim, linear_acceleration=\"BICGSTAB\", filename=\"tran.ims\"\n",
    "    )\n",
    "    sim.register_ims_package(ims_tran, [gwtp.name, gwtc.name])\n",
    "\n",
    "    # couple flow and transport models\n",
    "    gwfgwt_p = flopy.mf6.ModflowGwfgwt(\n",
    "        sim,\n",
    "        exgtype=\"GWF6-GWT6\",\n",
    "        exgmnamea=gwfp.name,\n",
    "        exgmnameb=gwtp.name,\n",
    "        filename=\"gwfp_gwtp.gwfgwt\",\n",
    "    )\n",
    "    gwfgwt_c = flopy.mf6.ModflowGwfgwt(\n",
    "        sim,\n",
    "        exgtype=\"GWF6-GWT6\",\n",
    "        exgmnamea=gwfc.name,\n",
    "        exgmnameb=gwtc.name,\n",
    "        filename=\"gwfc_gwtc.gwfgwt\",\n",
    "    )"
   ]
  },
  {
   "cell_type": "code",
   "execution_count": null,
   "metadata": {
    "execution": {
     "iopub.execute_input": "2023-02-21T22:06:12.253351Z",
     "iopub.status.busy": "2023-02-21T22:06:12.253067Z",
     "iopub.status.idle": "2023-02-21T22:08:17.010970Z",
     "shell.execute_reply": "2023-02-21T22:08:17.009938Z"
    }
   },
   "outputs": [],
   "source": [
    "# write and run simulation\n",
    "sim.write_simulation(silent=True)\n",
    "success, buff = sim.run_simulation(silent=True, report=True)\n",
    "assert success, \"Model did not run to completion.\""
   ]
  },
  {
   "cell_type": "code",
   "execution_count": null,
   "metadata": {
    "execution": {
     "iopub.execute_input": "2023-02-21T22:08:17.015032Z",
     "iopub.status.busy": "2023-02-21T22:08:17.014700Z",
     "iopub.status.idle": "2023-02-21T22:08:17.056813Z",
     "shell.execute_reply": "2023-02-21T22:08:17.055838Z"
    }
   },
   "outputs": [],
   "source": [
    "# load and store the head arrays from the parent and child models\n",
    "head = [gwfp.output.head().get_data(), gwfc.output.head().get_data()]\n",
    "conc = [\n",
    "    gwtp.output.concentration().get_data(),\n",
    "    gwtc.output.concentration().get_data(),\n",
    "]\n",
    "\n",
    "# load and store the specific discharge results for the parent and child models\n",
    "bud = gwfp.output.budget()\n",
    "spdis = bud.get_data(text=\"DATA-SPDIS\")[0]\n",
    "spdisp = flopy.utils.postprocessing.get_specific_discharge(spdis, gwfp)\n",
    "bud = gwfc.output.budget()\n",
    "spdis = bud.get_data(text=\"DATA-SPDIS\")[0]\n",
    "spdisc = flopy.utils.postprocessing.get_specific_discharge(spdis, gwfc)"
   ]
  },
  {
   "cell_type": "code",
   "execution_count": null,
   "metadata": {
    "execution": {
     "iopub.execute_input": "2023-02-21T22:08:17.061247Z",
     "iopub.status.busy": "2023-02-21T22:08:17.060897Z",
     "iopub.status.idle": "2023-02-21T22:08:17.419058Z",
     "shell.execute_reply": "2023-02-21T22:08:17.418322Z"
    }
   },
   "outputs": [],
   "source": [
    "# plot the results from both the parent and child models\n",
    "# on the same figure\n",
    "f = plt.figure(figsize=(12, 10))\n",
    "ax = plt.subplot(1, 1, 1, aspect=\"equal\")\n",
    "pmvp = flopy.plot.PlotMapView(gwfp, ax=ax)\n",
    "pmvc = flopy.plot.PlotMapView(gwfc, ax=ax, extent=pmvp.extent)\n",
    "\n",
    "# color flood head\n",
    "# pmvp.plot_array(head[0], vmin=0., vmax=1., masked_values=[1.e30])\n",
    "# pmvc.plot_array(head[1], vmin=0., vmax=1.)\n",
    "\n",
    "# contour head\n",
    "cs = pmvp.contour_array(head[0], levels=np.linspace(0, 1), masked_values=[1.0e30])\n",
    "cs = pmvc.contour_array(head[1], levels=np.linspace(0, 1), masked_values=[1.0e30])\n",
    "\n",
    "# color flood concentrations\n",
    "a1 = conc[0]\n",
    "a2 = conc[1]\n",
    "a1 = np.ma.masked_where(a1 < 1.0, a1)\n",
    "a2 = np.ma.masked_where(a2 < 1.0, a2)\n",
    "vmin = 0.0\n",
    "vmax = 1000.0\n",
    "pmvp.plot_array(a1, vmin=vmin, vmax=vmax, masked_values=[1.0e30])\n",
    "pa = pmvc.plot_array(a2, vmin=vmin, vmax=vmax)\n",
    "plt.colorbar(pa, shrink=0.25)\n",
    "\n",
    "# draw parent and child grids\n",
    "pmvp.plot_grid(colors=\"black\", linewidths=0.2)\n",
    "pmvc.plot_grid(colors=\"black\", linewidths=0.2)\n",
    "\n",
    "# plot vectors\n",
    "qv = pmvp.plot_vector(spdisp[0], spdisp[1], normalize=True, color=\"black\")\n",
    "# qv = pmvc.plot_vector(spdisc[0], spdisc[1], normalize=True, color=\"white\")"
   ]
  },
  {
   "cell_type": "code",
   "execution_count": null,
   "metadata": {
    "execution": {
     "iopub.execute_input": "2023-02-21T22:08:17.425068Z",
     "iopub.status.busy": "2023-02-21T22:08:17.424852Z",
     "iopub.status.idle": "2023-02-21T22:08:17.431121Z",
     "shell.execute_reply": "2023-02-21T22:08:17.430450Z"
    }
   },
   "outputs": [],
   "source": [
    "try:\n",
    "    # ignore PermissionError on Windows\n",
    "    temp_dir.cleanup()\n",
    "except:\n",
    "    pass"
   ]
  }
 ],
 "metadata": {
  "kernelspec": {
   "display_name": "Python 3 (ipykernel)",
   "language": "python",
   "name": "python3"
  },
  "language_info": {
   "codemirror_mode": {
    "name": "ipython",
    "version": 3
   },
   "file_extension": ".py",
   "mimetype": "text/x-python",
   "name": "python",
   "nbconvert_exporter": "python",
   "pygments_lexer": "ipython3",
   "version": "3.10.6"
  }
 },
 "nbformat": 4,
 "nbformat_minor": 4
}
