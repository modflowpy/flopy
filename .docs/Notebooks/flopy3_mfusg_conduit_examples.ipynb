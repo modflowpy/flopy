{
 "cells": [
  {
   "attachments": {},
   "cell_type": "markdown",
   "id": "766924d2",
   "metadata": {},
   "source": [
    "# MODFLOW-USG CLN package demo\n",
    "This example problem demonstrates use of the CLN process for simulating flow to a well pumping from two aquifers seperated by an impermeable confining unit. A structured finite-difference grid with 100 rows and 100 columns was used. Each square cells is 470m by 470 m in extent. Initial heads are 10m in aquifer 1 and 30m in aquifer 2."
   ]
  },
  {
   "cell_type": "code",
   "execution_count": null,
   "id": "35a3b553",
   "metadata": {
    "execution": {
     "iopub.execute_input": "2023-05-02T02:55:41.808559Z",
     "iopub.status.busy": "2023-05-02T02:55:41.808097Z",
     "iopub.status.idle": "2023-05-02T02:55:43.848705Z",
     "shell.execute_reply": "2023-05-02T02:55:43.847739Z"
    }
   },
   "outputs": [],
   "source": [
    "import os, shutil\n",
    "from tempfile import TemporaryDirectory\n",
    "\n",
    "import numpy as np\n",
    "import matplotlib.pyplot as plt\n",
    "\n",
    "import flopy"
   ]
  },
  {
   "cell_type": "code",
   "execution_count": null,
   "id": "021614da",
   "metadata": {
    "execution": {
     "iopub.execute_input": "2023-05-02T02:55:43.852649Z",
     "iopub.status.busy": "2023-05-02T02:55:43.852251Z",
     "iopub.status.idle": "2023-05-02T02:55:43.870214Z",
     "shell.execute_reply": "2023-05-02T02:55:43.869206Z"
    }
   },
   "outputs": [],
   "source": [
    "# temporary directory\n",
    "temp_dir = TemporaryDirectory()\n",
    "cln_ws = temp_dir.name"
   ]
  },
  {
   "cell_type": "markdown",
   "id": "b48adcf1",
   "metadata": {},
   "source": [
    "## Loading Example 03_conduit_confined\n",
    "The elevation of the top of layer 1 is -100 m, the bottom of layer 1 is -110 m, the top of layer 2 is -120 m and the bottom of layer 2 is -130 m. The confining unit between layers1 and 2 is impermeable and is represented using a quasi-three-dimensional approach. The only way a stress from one aquifer can be propagated to another is through the cln well that penetrates both aquifers.\n",
    "\n",
    "The hydraulic conductivity values of the upper and lower aquifers are 100 and 400 m/d, respectively. Both aquifers have a primaey storage coefficient of 0.0001 and a specific yield of 0.01.\n",
    "\n",
    "A vertical conduit well is located at the center of the domain and has a radius of 0.5 m. The well pumps 62,840 m3/d and is open fully to both aquifers from top to bottom. The CLN Process was used with a circular conduit geometry type to discretize the well bore with two conduit cells, one in each layer. The WEL Package was used to pump from the bottom CLN cell.\n"
   ]
  },
  {
   "cell_type": "code",
   "execution_count": null,
   "id": "74b12fc4",
   "metadata": {
    "execution": {
     "iopub.execute_input": "2023-05-02T02:55:43.873974Z",
     "iopub.status.busy": "2023-05-02T02:55:43.873591Z",
     "iopub.status.idle": "2023-05-02T02:55:43.956131Z",
     "shell.execute_reply": "2023-05-02T02:55:43.954879Z"
    }
   },
   "outputs": [],
   "source": [
    "model_ws = os.path.join(\"../../examples/data/mfusg_test\", \"03_conduit_confined\")\n",
    "mf = flopy.mfusg.MfUsg.load(\n",
    "    \"ex3.nam\", model_ws=model_ws, exe_name=\"mfusg\", check=False, verbose=True\n",
    ")"
   ]
  },
  {
   "cell_type": "code",
   "execution_count": null,
   "id": "d12b2358",
   "metadata": {
    "execution": {
     "iopub.execute_input": "2023-05-02T02:55:43.959955Z",
     "iopub.status.busy": "2023-05-02T02:55:43.959586Z",
     "iopub.status.idle": "2023-05-02T02:55:43.967130Z",
     "shell.execute_reply": "2023-05-02T02:55:43.966064Z"
    }
   },
   "outputs": [],
   "source": [
    "# output control\n",
    "mf.remove_package(\"OC\")\n",
    "\n",
    "spd = {}\n",
    "for i in range(mf.nper):\n",
    "    for j in range(mf.dis.nstp[i]):\n",
    "        spd[(i, j)] = [\"save head\", \"save budget\"]\n",
    "\n",
    "oc = flopy.modflow.ModflowOc(\n",
    "    mf, stress_period_data=spd, unitnumber=[22, 30, 31, 50]\n",
    ")"
   ]
  },
  {
   "cell_type": "code",
   "execution_count": null,
   "id": "58dad95a",
   "metadata": {
    "execution": {
     "iopub.execute_input": "2023-05-02T02:55:43.970904Z",
     "iopub.status.busy": "2023-05-02T02:55:43.970524Z",
     "iopub.status.idle": "2023-05-02T02:55:43.977042Z",
     "shell.execute_reply": "2023-05-02T02:55:43.975982Z"
    }
   },
   "outputs": [],
   "source": [
    "model_ws = os.path.join(cln_ws, \"ex03\")\n",
    "\n",
    "if os.path.exists(model_ws):\n",
    "    shutil.rmtree(model_ws)\n",
    "os.mkdir(model_ws)\n",
    "\n",
    "mf.model_ws = model_ws"
   ]
  },
  {
   "cell_type": "code",
   "execution_count": null,
   "id": "8a882fef",
   "metadata": {
    "execution": {
     "iopub.execute_input": "2023-05-02T02:55:43.980944Z",
     "iopub.status.busy": "2023-05-02T02:55:43.980496Z",
     "iopub.status.idle": "2023-05-02T02:55:46.942636Z",
     "shell.execute_reply": "2023-05-02T02:55:46.941202Z"
    }
   },
   "outputs": [],
   "source": [
    "mf.write_input()\n",
    "success, buff = mf.run_model(silent=True, report=True)\n",
    "if success:\n",
    "    for line in buff:\n",
    "        print(line)\n",
    "else:\n",
    "    raise ValueError(\"Failed to run.\")"
   ]
  },
  {
   "cell_type": "code",
   "execution_count": null,
   "id": "3cbb0620",
   "metadata": {
    "execution": {
     "iopub.execute_input": "2023-05-02T02:55:46.947123Z",
     "iopub.status.busy": "2023-05-02T02:55:46.946658Z",
     "iopub.status.idle": "2023-05-02T02:55:46.959774Z",
     "shell.execute_reply": "2023-05-02T02:55:46.958890Z"
    }
   },
   "outputs": [],
   "source": [
    "head_file = os.path.join(mf.model_ws, \"ex3.clnhds\")\n",
    "headobj = flopy.utils.HeadFile(head_file)"
   ]
  },
  {
   "cell_type": "code",
   "execution_count": null,
   "id": "3673d7a2",
   "metadata": {
    "execution": {
     "iopub.execute_input": "2023-05-02T02:55:46.963325Z",
     "iopub.status.busy": "2023-05-02T02:55:46.962977Z",
     "iopub.status.idle": "2023-05-02T02:55:46.981139Z",
     "shell.execute_reply": "2023-05-02T02:55:46.980209Z"
    }
   },
   "outputs": [],
   "source": [
    "simtimes = headobj.get_times()\n",
    "\n",
    "nper = len(simtimes)\n",
    "\n",
    "nnode = mf.cln.nclnnds\n",
    "\n",
    "simhead = np.zeros((1, 1, nnode, nper))\n",
    "for i in range(nper):\n",
    "    simhead[:, :, :, i] = headobj.get_data(kstpkper=(i, 0))\n",
    "simhead = np.squeeze(simhead)"
   ]
  },
  {
   "cell_type": "code",
   "execution_count": null,
   "id": "8ba8ab9c",
   "metadata": {
    "execution": {
     "iopub.execute_input": "2023-05-02T02:55:46.984815Z",
     "iopub.status.busy": "2023-05-02T02:55:46.984420Z",
     "iopub.status.idle": "2023-05-02T02:55:47.389227Z",
     "shell.execute_reply": "2023-05-02T02:55:47.387890Z"
    }
   },
   "outputs": [],
   "source": [
    "fig = plt.figure(figsize=(8, 5), dpi=150)\n",
    "ax = fig.add_subplot(111)\n",
    "ax.plot(simtimes, simhead[0], label=\"CLN Layer 1\")\n",
    "ax.plot(simtimes, simhead[1], label=\"CLN Layer 2\")\n",
    "ax.set_xlabel(\"Time, in days\")\n",
    "ax.set_ylabel(\"Simulated Head in pumping well, in meters\")\n",
    "ax.set_title(\"MODFLOW USG Ex3 Conduit Confined\")\n",
    "ax.legend()"
   ]
  },
  {
   "cell_type": "code",
   "execution_count": null,
   "id": "46249314",
   "metadata": {
    "execution": {
     "iopub.execute_input": "2023-05-02T02:55:47.393262Z",
     "iopub.status.busy": "2023-05-02T02:55:47.392866Z",
     "iopub.status.idle": "2023-05-02T02:55:47.527000Z",
     "shell.execute_reply": "2023-05-02T02:55:47.525932Z"
    }
   },
   "outputs": [],
   "source": [
    "cbb_file = os.path.join(mf.model_ws, \"ex3.clncbb\")\n",
    "cbb = flopy.utils.CellBudgetFile(cbb_file)\n",
    "# cbb.list_records()\n",
    "\n",
    "simflow = cbb.get_data(kstpkper=(0, 0), text=\"GWF\")[0]\n",
    "for i in range(nper - 1):\n",
    "    simflow = np.append(\n",
    "        simflow, cbb.get_data(kstpkper=(i + 1, 0), text=\"GWF\")[0]\n",
    "    )\n",
    "simflow1 = simflow[simflow[\"node\"] == 1][\"q\"]\n",
    "simflow2 = simflow[simflow[\"node\"] == 2][\"q\"]"
   ]
  },
  {
   "cell_type": "code",
   "execution_count": null,
   "id": "56804409",
   "metadata": {
    "execution": {
     "iopub.execute_input": "2023-05-02T02:55:47.530437Z",
     "iopub.status.busy": "2023-05-02T02:55:47.530100Z",
     "iopub.status.idle": "2023-05-02T02:55:48.027639Z",
     "shell.execute_reply": "2023-05-02T02:55:48.026650Z"
    }
   },
   "outputs": [],
   "source": [
    "fig = plt.figure(figsize=(8, 11), dpi=150)\n",
    "ax1 = fig.add_subplot(211)\n",
    "ax1.plot(simtimes, simflow1, label=\"CLN Layer 1\")\n",
    "ax1.set_xlabel(\"Time, in days\")\n",
    "ax1.set_ylabel(\"Discharge to well, in cubic meters per day\")\n",
    "ax1.set_title(\"MODFLOW USG Ex3 Conduit Confined\")\n",
    "ax1.legend()\n",
    "\n",
    "ax2 = fig.add_subplot(212)\n",
    "ax2.plot(simtimes, simflow2, label=\"CLN Layer 2\")\n",
    "ax2.set_xlabel(\"Time, in days\")\n",
    "ax2.set_ylabel(\"Discharge to well, in cubic meters per day\")\n",
    "ax2.legend()"
   ]
  },
  {
   "cell_type": "markdown",
   "id": "2cd3e4e2",
   "metadata": {},
   "source": [
    "## Create example 03A_conduit_unconfined of mfusg 1.5\n",
    "An unconfined example was simulated with this problem setup. The same simulation setup of previous example is used. However, the elevation of the top of layer 1 is 10 m, the bottom of layer 1 is 0 m, the top of layer 2 is -10 m, and the bottom of layer 2 is -20 m. The CLN domain is discretized using two vertical conduit cells. It depicts the behavior of unconfined flow in the conduit when the CLN cell in layer 1 becomes dry."
   ]
  },
  {
   "cell_type": "code",
   "execution_count": null,
   "id": "5f90cd45",
   "metadata": {
    "execution": {
     "iopub.execute_input": "2023-05-02T02:55:48.031175Z",
     "iopub.status.busy": "2023-05-02T02:55:48.030825Z",
     "iopub.status.idle": "2023-05-02T02:55:48.036946Z",
     "shell.execute_reply": "2023-05-02T02:55:48.036139Z"
    }
   },
   "outputs": [],
   "source": [
    "modelname = \"ex03a\"\n",
    "model_ws = os.path.join(cln_ws, modelname)\n",
    "mf = flopy.mfusg.MfUsg(\n",
    "    modelname=modelname, model_ws=model_ws, exe_name=\"mfusg\", verbose=True\n",
    ")"
   ]
  },
  {
   "cell_type": "code",
   "execution_count": null,
   "id": "5d93c8d1",
   "metadata": {
    "execution": {
     "iopub.execute_input": "2023-05-02T02:55:48.040158Z",
     "iopub.status.busy": "2023-05-02T02:55:48.039871Z",
     "iopub.status.idle": "2023-05-02T02:55:48.051978Z",
     "shell.execute_reply": "2023-05-02T02:55:48.051199Z"
    }
   },
   "outputs": [],
   "source": [
    "ipakcb = 50\n",
    "\n",
    "nlay = 2\n",
    "nrow = 100\n",
    "ncol = 100\n",
    "laycbd = [1, 0]\n",
    "\n",
    "delr = 470.000\n",
    "delc = 470.000\n",
    "\n",
    "ztop = 10.0\n",
    "botm = [0.0, -10.0, -20.0]\n",
    "\n",
    "perlen = 160\n",
    "nstp = 160\n",
    "\n",
    "dis = flopy.modflow.ModflowDis(\n",
    "    mf,\n",
    "    nlay,\n",
    "    nrow,\n",
    "    ncol,\n",
    "    delr=delr,\n",
    "    delc=delc,\n",
    "    laycbd=laycbd,\n",
    "    top=ztop,\n",
    "    botm=botm,\n",
    "    perlen=perlen,\n",
    "    nstp=nstp,\n",
    "    steady=False,\n",
    "    lenuni=0,\n",
    ")\n",
    "\n",
    "bas = flopy.modflow.ModflowBas(mf, ibound=1, strt=[10.0, 30.0])\n",
    "\n",
    "bcf = flopy.mfusg.MfUsgBcf(\n",
    "    mf,\n",
    "    ipakcb=ipakcb,\n",
    "    laycon=4,\n",
    "    wetfct=1.0,\n",
    "    iwetit=5,\n",
    "    hy=[100.0, 400.0],\n",
    "    vcont=0.0,\n",
    "    sf1=1e-4,\n",
    "    sf2=0.01,\n",
    ")\n",
    "\n",
    "sms = flopy.mfusg.MfUsgSms(\n",
    "    mf,\n",
    "    hclose=1.0e-3,\n",
    "    hiclose=1.0e-5,\n",
    "    mxiter=220,\n",
    "    iter1=600,\n",
    "    iprsms=1,\n",
    "    nonlinmeth=2,\n",
    "    linmeth=1,\n",
    "    theta=0.9,\n",
    "    akappa=0.07,\n",
    "    gamma=0.1,\n",
    "    amomentum=0.0,\n",
    "    numtrack=200,\n",
    "    btol=1.1,\n",
    "    breduc=0.2,\n",
    "    reslim=1.0,\n",
    "    iacl=2,\n",
    "    norder=1,\n",
    "    level=3,\n",
    "    north=14,\n",
    ")"
   ]
  },
  {
   "cell_type": "code",
   "execution_count": null,
   "id": "3c300f6c",
   "metadata": {
    "execution": {
     "iopub.execute_input": "2023-05-02T02:55:48.054673Z",
     "iopub.status.busy": "2023-05-02T02:55:48.054403Z",
     "iopub.status.idle": "2023-05-02T02:55:48.059877Z",
     "shell.execute_reply": "2023-05-02T02:55:48.059173Z"
    }
   },
   "outputs": [],
   "source": [
    "# output control\n",
    "spd = {}\n",
    "for i in range(mf.nper):\n",
    "    for j in range(mf.dis.nstp[i]):\n",
    "        spd[(i, j)] = [\"save head\", \"save budget\"]\n",
    "\n",
    "oc = flopy.modflow.ModflowOc(mf, stress_period_data=spd)"
   ]
  },
  {
   "cell_type": "code",
   "execution_count": null,
   "id": "cb86178e",
   "metadata": {
    "execution": {
     "iopub.execute_input": "2023-05-02T02:55:48.062357Z",
     "iopub.status.busy": "2023-05-02T02:55:48.061964Z",
     "iopub.status.idle": "2023-05-02T02:55:48.067885Z",
     "shell.execute_reply": "2023-05-02T02:55:48.067017Z"
    }
   },
   "outputs": [],
   "source": [
    "unitnumber = [71, 35, 36, 0, 0, 0, 0]\n",
    "\n",
    "node_prop = [\n",
    "    [1, 1, 0, 10.0, 0.0, 1.57, 0, 0],\n",
    "    [2, 1, 0, 10.0, -20.0, 1.57, 0, 0],\n",
    "]\n",
    "cln_gwc = [\n",
    "    [1, 1, 50, 50, 0, 0, 10.0, 1.0, 0],\n",
    "    [2, 2, 50, 50, 0, 0, 10.0, 1.0, 0],\n",
    "]\n",
    "\n",
    "nconduityp = 1\n",
    "cln_circ = [[1, 0.5, 3.23e10]]\n",
    "\n",
    "strt = [10.0, 30.0]\n",
    "cln = flopy.mfusg.MfUsgCln(\n",
    "    mf,\n",
    "    ncln=1,\n",
    "    iclnnds=-1,\n",
    "    nndcln=2,\n",
    "    nclngwc=2,\n",
    "    node_prop=node_prop,\n",
    "    cln_gwc=cln_gwc,\n",
    "    cln_circ=cln_circ,\n",
    "    strt=strt,\n",
    "    unitnumber=unitnumber,\n",
    ")"
   ]
  },
  {
   "cell_type": "code",
   "execution_count": null,
   "id": "24293d4c",
   "metadata": {
    "execution": {
     "iopub.execute_input": "2023-05-02T02:55:48.070868Z",
     "iopub.status.busy": "2023-05-02T02:55:48.070592Z",
     "iopub.status.idle": "2023-05-02T02:55:48.076254Z",
     "shell.execute_reply": "2023-05-02T02:55:48.075181Z"
    }
   },
   "outputs": [],
   "source": [
    "options = []\n",
    "options.append(\"autoflowreduce\")\n",
    "cln_stress_period_data = {0: [[1, -62840.0]]}\n",
    "\n",
    "wel = flopy.mfusg.MfUsgWel(\n",
    "    mf,\n",
    "    ipakcb=ipakcb,\n",
    "    options=options,\n",
    "    cln_stress_period_data=cln_stress_period_data,\n",
    ")"
   ]
  },
  {
   "cell_type": "code",
   "execution_count": null,
   "id": "384143e8",
   "metadata": {
    "execution": {
     "iopub.execute_input": "2023-05-02T02:55:48.079448Z",
     "iopub.status.busy": "2023-05-02T02:55:48.079133Z",
     "iopub.status.idle": "2023-05-02T02:55:48.086097Z",
     "shell.execute_reply": "2023-05-02T02:55:48.084902Z"
    }
   },
   "outputs": [],
   "source": [
    "wel.cln_stress_period_data.data"
   ]
  },
  {
   "cell_type": "code",
   "execution_count": null,
   "id": "4c8ef56f",
   "metadata": {
    "execution": {
     "iopub.execute_input": "2023-05-02T02:55:48.089737Z",
     "iopub.status.busy": "2023-05-02T02:55:48.089368Z",
     "iopub.status.idle": "2023-05-02T02:56:07.019091Z",
     "shell.execute_reply": "2023-05-02T02:56:07.017889Z"
    }
   },
   "outputs": [],
   "source": [
    "mf.write_input()\n",
    "success, buff = mf.run_model(silent=True, report=True)\n",
    "if success:\n",
    "    for line in buff:\n",
    "        print(line)\n",
    "else:\n",
    "    raise ValueError(\"Failed to run.\")"
   ]
  },
  {
   "cell_type": "code",
   "execution_count": null,
   "id": "27f4d81a",
   "metadata": {
    "execution": {
     "iopub.execute_input": "2023-05-02T02:56:07.023769Z",
     "iopub.status.busy": "2023-05-02T02:56:07.023237Z",
     "iopub.status.idle": "2023-05-02T02:56:07.061640Z",
     "shell.execute_reply": "2023-05-02T02:56:07.060931Z"
    }
   },
   "outputs": [],
   "source": [
    "head_file = os.path.join(mf.model_ws, modelname + \".clnhd\")\n",
    "headobj = flopy.utils.HeadFile(head_file)\n",
    "\n",
    "simtimes = headobj.get_times()\n",
    "nper = len(simtimes)\n",
    "nnode = mf.cln.nclnnds\n",
    "\n",
    "simhead = np.zeros((1, 1, nnode, nper))\n",
    "for i in range(nper):\n",
    "    simhead[:, :, :, i] = headobj.get_data(kstpkper=(i, 0))\n",
    "\n",
    "head_case1 = np.squeeze(simhead)"
   ]
  },
  {
   "cell_type": "code",
   "execution_count": null,
   "id": "1df88ccc",
   "metadata": {
    "execution": {
     "iopub.execute_input": "2023-05-02T02:56:07.064262Z",
     "iopub.status.busy": "2023-05-02T02:56:07.064001Z",
     "iopub.status.idle": "2023-05-02T02:56:07.382809Z",
     "shell.execute_reply": "2023-05-02T02:56:07.381979Z"
    }
   },
   "outputs": [],
   "source": [
    "fig = plt.figure(figsize=(8, 5), dpi=150)\n",
    "ax = fig.add_subplot(111)\n",
    "ax.plot(simtimes, head_case1[0], label=\"CLN Layer 1\")\n",
    "ax.plot(simtimes, head_case1[1], label=\"CLN Layer 2\")\n",
    "ax.set_xlabel(\"Time, in days\")\n",
    "ax.set_ylabel(\"Simulated Head in pumping well, in meters\")\n",
    "ax.set_title(\"MODFLOW USG Ex3a Conduit Unconfined\")\n",
    "ax.legend()"
   ]
  },
  {
   "cell_type": "code",
   "execution_count": null,
   "id": "4e6cce73",
   "metadata": {
    "execution": {
     "iopub.execute_input": "2023-05-02T02:56:07.385831Z",
     "iopub.status.busy": "2023-05-02T02:56:07.385546Z",
     "iopub.status.idle": "2023-05-02T02:56:07.759130Z",
     "shell.execute_reply": "2023-05-02T02:56:07.758169Z"
    }
   },
   "outputs": [],
   "source": [
    "cbb_file = os.path.join(mf.model_ws, modelname + \".clncb\")\n",
    "cbb = flopy.utils.CellBudgetFile(cbb_file)\n",
    "# cbb.list_records()\n",
    "\n",
    "simflow = cbb.get_data(kstpkper=(0, 0), text=\"GWF\")[0]\n",
    "for i in range(nper - 1):\n",
    "    simflow = np.append(\n",
    "        simflow, cbb.get_data(kstpkper=(i + 1, 0), text=\"GWF\")[0]\n",
    "    )\n",
    "\n",
    "flow_case1 = simflow"
   ]
  },
  {
   "cell_type": "markdown",
   "id": "f240fcc6",
   "metadata": {},
   "source": [
    "## Modify CLN amd WEL package to example create 03B_conduit_unconfined of mfusg 1.5\n",
    "The problem is solved using only one CLN conduit cell to represent the well connecting both aquifer layers. This is conceptually equivalent to the MNW methodology and does not colve for flow within the well. The behavior of unconfined flow between the well and layer 1 negalects the dry-cell condition whereby head in the well is below the bottom of layer 1."
   ]
  },
  {
   "cell_type": "code",
   "execution_count": null,
   "id": "8ca2444c",
   "metadata": {
    "execution": {
     "iopub.execute_input": "2023-05-02T02:56:07.763040Z",
     "iopub.status.busy": "2023-05-02T02:56:07.762427Z",
     "iopub.status.idle": "2023-05-02T02:56:07.771664Z",
     "shell.execute_reply": "2023-05-02T02:56:07.770601Z"
    }
   },
   "outputs": [],
   "source": [
    "modelname = \"ex03b\"\n",
    "model_ws = os.path.join(cln_ws, modelname)\n",
    "\n",
    "mf.model_ws = model_ws\n",
    "mf._set_name(modelname)\n",
    "for i, fname in enumerate(mf.output_fnames):\n",
    "    mf.output_fnames[i] = modelname + os.path.splitext(fname)[1]"
   ]
  },
  {
   "cell_type": "code",
   "execution_count": null,
   "id": "b404926e",
   "metadata": {
    "execution": {
     "iopub.execute_input": "2023-05-02T02:56:07.775937Z",
     "iopub.status.busy": "2023-05-02T02:56:07.775236Z",
     "iopub.status.idle": "2023-05-02T02:56:07.784494Z",
     "shell.execute_reply": "2023-05-02T02:56:07.783177Z"
    }
   },
   "outputs": [],
   "source": [
    "mf.remove_package(\"CLN\")\n",
    "\n",
    "node_prop = [[1, 1, 0, 30.0, -20.0, 1.57]]\n",
    "cln_gwc = [\n",
    "    [1, 1, 50, 50, 0, 0, 10.0, 1.0, 0],\n",
    "    [1, 2, 50, 50, 0, 0, 10.0, 1.0, 0],\n",
    "]\n",
    "\n",
    "strt = 20.0\n",
    "cln = flopy.mfusg.MfUsgCln(\n",
    "    mf,\n",
    "    ncln=1,\n",
    "    iclnnds=-1,\n",
    "    nndcln=1,\n",
    "    nclngwc=2,\n",
    "    node_prop=node_prop,\n",
    "    cln_gwc=cln_gwc,\n",
    "    cln_circ=cln_circ,\n",
    "    strt=strt,\n",
    "    unitnumber=unitnumber,\n",
    ")"
   ]
  },
  {
   "cell_type": "code",
   "execution_count": null,
   "id": "089668d9",
   "metadata": {
    "execution": {
     "iopub.execute_input": "2023-05-02T02:56:07.788730Z",
     "iopub.status.busy": "2023-05-02T02:56:07.788045Z",
     "iopub.status.idle": "2023-05-02T02:56:07.795167Z",
     "shell.execute_reply": "2023-05-02T02:56:07.794112Z"
    }
   },
   "outputs": [],
   "source": [
    "mf.remove_package(\"WEL\")\n",
    "\n",
    "options = []\n",
    "options.append(\"autoflowreduce\")\n",
    "options.append(\"iunitafr 55\")\n",
    "cln_stress_period_data = {0: [[0, -62840.0]]}\n",
    "\n",
    "wel = flopy.mfusg.MfUsgWel(\n",
    "    mf,\n",
    "    ipakcb=ipakcb,\n",
    "    options=options,\n",
    "    cln_stress_period_data=cln_stress_period_data,\n",
    ")"
   ]
  },
  {
   "cell_type": "code",
   "execution_count": null,
   "id": "3916775a",
   "metadata": {
    "execution": {
     "iopub.execute_input": "2023-05-02T02:56:07.798738Z",
     "iopub.status.busy": "2023-05-02T02:56:07.798353Z",
     "iopub.status.idle": "2023-05-02T02:56:21.038329Z",
     "shell.execute_reply": "2023-05-02T02:56:21.036931Z"
    }
   },
   "outputs": [],
   "source": [
    "mf.write_input()\n",
    "success, buff = mf.run_model(silent=True, report=True)\n",
    "if success:\n",
    "    for line in buff:\n",
    "        print(line)\n",
    "else:\n",
    "    raise ValueError(\"Failed to run.\")"
   ]
  },
  {
   "cell_type": "code",
   "execution_count": null,
   "id": "cdeb3976",
   "metadata": {
    "execution": {
     "iopub.execute_input": "2023-05-02T02:56:21.041990Z",
     "iopub.status.busy": "2023-05-02T02:56:21.041603Z",
     "iopub.status.idle": "2023-05-02T02:56:21.075876Z",
     "shell.execute_reply": "2023-05-02T02:56:21.074999Z"
    }
   },
   "outputs": [],
   "source": [
    "head_file = os.path.join(mf.model_ws, modelname + \".clnhd\")\n",
    "headobj = flopy.utils.HeadFile(head_file)\n",
    "\n",
    "simtimes = headobj.get_times()\n",
    "nper = len(simtimes)\n",
    "nnode = mf.cln.nclnnds\n",
    "\n",
    "simhead = np.zeros((1, 1, nnode, nper))\n",
    "for i in range(nper):\n",
    "    simhead[:, :, :, i] = headobj.get_data(kstpkper=(i, 0))\n",
    "\n",
    "head_case2 = np.squeeze(simhead)"
   ]
  },
  {
   "cell_type": "code",
   "execution_count": null,
   "id": "764b6c1a",
   "metadata": {
    "execution": {
     "iopub.execute_input": "2023-05-02T02:56:21.079221Z",
     "iopub.status.busy": "2023-05-02T02:56:21.078948Z",
     "iopub.status.idle": "2023-05-02T02:56:21.371023Z",
     "shell.execute_reply": "2023-05-02T02:56:21.370040Z"
    }
   },
   "outputs": [],
   "source": [
    "fig = plt.figure(figsize=(8, 5), dpi=150)\n",
    "ax = fig.add_subplot(111)\n",
    "ax.plot(simtimes, head_case2)\n",
    "ax.set_xlabel(\"Time, in days\")\n",
    "ax.set_ylabel(\"Simulated Head in pumping well, in meters\")\n",
    "ax.set_title(\"MODFLOW USG Ex3b Conduit Unconfined\")"
   ]
  },
  {
   "cell_type": "code",
   "execution_count": null,
   "id": "0c372415",
   "metadata": {
    "execution": {
     "iopub.execute_input": "2023-05-02T02:56:21.374704Z",
     "iopub.status.busy": "2023-05-02T02:56:21.374070Z",
     "iopub.status.idle": "2023-05-02T02:56:21.679967Z",
     "shell.execute_reply": "2023-05-02T02:56:21.679060Z"
    }
   },
   "outputs": [],
   "source": [
    "cbb_file = os.path.join(mf.model_ws, modelname + \".clncb\")\n",
    "cbb = flopy.utils.CellBudgetFile(cbb_file)\n",
    "# cbb.list_records()\n",
    "\n",
    "simflow = cbb.get_data(kstpkper=(0, 0), text=\"GWF\")[0]\n",
    "for i in range(nper - 1):\n",
    "    simflow = np.append(\n",
    "        simflow, cbb.get_data(kstpkper=(i + 1, 0), text=\"GWF\")[0]\n",
    "    )\n",
    "\n",
    "flow_case2 = simflow"
   ]
  },
  {
   "cell_type": "markdown",
   "id": "d45b0e0b",
   "metadata": {},
   "source": [
    "## Modify CLN amd WEL package to example create 03C_conduit_unconfined of mfusg 1.5\n",
    "The CLN well is discretized using two conduit geometry CLN cells but with the confined option for flow winthin the conduit and between CLN and GWF domains."
   ]
  },
  {
   "cell_type": "code",
   "execution_count": null,
   "id": "321a1ad2",
   "metadata": {
    "execution": {
     "iopub.execute_input": "2023-05-02T02:56:21.683880Z",
     "iopub.status.busy": "2023-05-02T02:56:21.683550Z",
     "iopub.status.idle": "2023-05-02T02:56:21.689781Z",
     "shell.execute_reply": "2023-05-02T02:56:21.688990Z"
    }
   },
   "outputs": [],
   "source": [
    "modelname = \"ex03c\"\n",
    "model_ws = os.path.join(cln_ws, modelname)\n",
    "\n",
    "mf.model_ws = model_ws\n",
    "mf._set_name(modelname)\n",
    "for i, fname in enumerate(mf.output_fnames):\n",
    "    mf.output_fnames[i] = modelname + os.path.splitext(fname)[1]"
   ]
  },
  {
   "cell_type": "code",
   "execution_count": null,
   "id": "20bb024e",
   "metadata": {
    "execution": {
     "iopub.execute_input": "2023-05-02T02:56:21.693519Z",
     "iopub.status.busy": "2023-05-02T02:56:21.693156Z",
     "iopub.status.idle": "2023-05-02T02:56:21.701530Z",
     "shell.execute_reply": "2023-05-02T02:56:21.700741Z"
    }
   },
   "outputs": [],
   "source": [
    "mf.remove_package(\"CLN\")\n",
    "\n",
    "node_prop = [\n",
    "    [1, 1, 0, 10.0, 0.0, 1.57, 1, 0],\n",
    "    [2, 1, 0, 10.0, -20.0, 1.57, 1, 0],\n",
    "]\n",
    "cln_gwc = [\n",
    "    [1, 1, 50, 50, 0, 0, 10.0, 1.0, 0],\n",
    "    [2, 2, 50, 50, 0, 0, 10.0, 1.0, 0],\n",
    "]\n",
    "\n",
    "strt = [10.0, 30.0]\n",
    "\n",
    "cln = flopy.mfusg.MfUsgCln(\n",
    "    mf,\n",
    "    ncln=1,\n",
    "    iclnnds=-1,\n",
    "    nndcln=2,\n",
    "    nclngwc=2,\n",
    "    node_prop=node_prop,\n",
    "    cln_gwc=cln_gwc,\n",
    "    cln_circ=cln_circ,\n",
    "    strt=strt,\n",
    "    unitnumber=unitnumber,\n",
    ")"
   ]
  },
  {
   "cell_type": "code",
   "execution_count": null,
   "id": "0d04cdfb",
   "metadata": {
    "execution": {
     "iopub.execute_input": "2023-05-02T02:56:21.703988Z",
     "iopub.status.busy": "2023-05-02T02:56:21.703725Z",
     "iopub.status.idle": "2023-05-02T02:56:21.708942Z",
     "shell.execute_reply": "2023-05-02T02:56:21.707910Z"
    }
   },
   "outputs": [],
   "source": [
    "mf.remove_package(\"WEL\")\n",
    "\n",
    "cln_stress_period_data = {0: [[1, -62840.0]]}\n",
    "\n",
    "wel = flopy.mfusg.MfUsgWel(\n",
    "    mf,\n",
    "    ipakcb=ipakcb,\n",
    "    options=options,\n",
    "    cln_stress_period_data=cln_stress_period_data,\n",
    ")"
   ]
  },
  {
   "cell_type": "code",
   "execution_count": null,
   "id": "ebc561ce",
   "metadata": {
    "execution": {
     "iopub.execute_input": "2023-05-02T02:56:21.712131Z",
     "iopub.status.busy": "2023-05-02T02:56:21.711848Z",
     "iopub.status.idle": "2023-05-02T02:56:34.823879Z",
     "shell.execute_reply": "2023-05-02T02:56:34.822622Z"
    }
   },
   "outputs": [],
   "source": [
    "mf.write_input()\n",
    "success, buff = mf.run_model(silent=True, report=True)\n",
    "if success:\n",
    "    for line in buff:\n",
    "        print(line)\n",
    "else:\n",
    "    raise ValueError(\"Failed to run.\")"
   ]
  },
  {
   "cell_type": "code",
   "execution_count": null,
   "id": "89f68822",
   "metadata": {
    "execution": {
     "iopub.execute_input": "2023-05-02T02:56:34.827798Z",
     "iopub.status.busy": "2023-05-02T02:56:34.827433Z",
     "iopub.status.idle": "2023-05-02T02:56:34.878190Z",
     "shell.execute_reply": "2023-05-02T02:56:34.877199Z"
    }
   },
   "outputs": [],
   "source": [
    "head_file = os.path.join(mf.model_ws, modelname + \".clnhd\")\n",
    "headobj = flopy.utils.HeadFile(head_file)\n",
    "\n",
    "simtimes = headobj.get_times()\n",
    "nper = len(simtimes)\n",
    "nnode = mf.cln.nclnnds\n",
    "\n",
    "simhead = np.zeros((1, 1, nnode, nper))\n",
    "for i in range(nper):\n",
    "    simhead[:, :, :, i] = headobj.get_data(kstpkper=(i, 0))\n",
    "\n",
    "head_case3 = np.squeeze(simhead)"
   ]
  },
  {
   "cell_type": "code",
   "execution_count": null,
   "id": "b2c46044",
   "metadata": {
    "execution": {
     "iopub.execute_input": "2023-05-02T02:56:34.882112Z",
     "iopub.status.busy": "2023-05-02T02:56:34.881683Z",
     "iopub.status.idle": "2023-05-02T02:56:35.203300Z",
     "shell.execute_reply": "2023-05-02T02:56:35.202478Z"
    }
   },
   "outputs": [],
   "source": [
    "fig = plt.figure(figsize=(8, 5), dpi=150)\n",
    "ax = fig.add_subplot(111)\n",
    "ax.plot(simtimes, head_case3[0], label=\"CLN Layer 1\")\n",
    "ax.plot(simtimes, head_case3[1], label=\"CLN Layer 2\")\n",
    "ax.set_xlabel(\"Time, in days\")\n",
    "ax.set_ylabel(\"Simulated Head in pumping well, in meters\")\n",
    "ax.set_title(\"MODFLOW USG Ex3c Conduit Unconfined\")\n",
    "ax.legend()"
   ]
  },
  {
   "cell_type": "code",
   "execution_count": null,
   "id": "107cad81",
   "metadata": {
    "execution": {
     "iopub.execute_input": "2023-05-02T02:56:35.205793Z",
     "iopub.status.busy": "2023-05-02T02:56:35.205536Z",
     "iopub.status.idle": "2023-05-02T02:56:35.597256Z",
     "shell.execute_reply": "2023-05-02T02:56:35.596543Z"
    }
   },
   "outputs": [],
   "source": [
    "cbb_file = os.path.join(mf.model_ws, modelname + \".clncb\")\n",
    "cbb = flopy.utils.CellBudgetFile(cbb_file)\n",
    "# cbb.list_records()\n",
    "\n",
    "simflow = cbb.get_data(kstpkper=(0, 0), text=\"GWF\")[0]\n",
    "for i in range(nper - 1):\n",
    "    simflow = np.append(\n",
    "        simflow, cbb.get_data(kstpkper=(i + 1, 0), text=\"GWF\")[0]\n",
    "    )\n",
    "\n",
    "flow_case3 = simflow"
   ]
  },
  {
   "cell_type": "markdown",
   "id": "1b10f984",
   "metadata": {},
   "source": [
    "## Modify CLN amd WEL package to example create 03D_conduit_unconfined of mfusg 1.5\n",
    "Only one CLN cell to discretize the well but includes the \"flow-to-dry-cell\" option to limit flow in layer 1 when the head in the CLN cell is below the bottom of the layer."
   ]
  },
  {
   "cell_type": "code",
   "execution_count": null,
   "id": "cbc8aa96",
   "metadata": {
    "execution": {
     "iopub.execute_input": "2023-05-02T02:56:35.600246Z",
     "iopub.status.busy": "2023-05-02T02:56:35.599958Z",
     "iopub.status.idle": "2023-05-02T02:56:35.620221Z",
     "shell.execute_reply": "2023-05-02T02:56:35.619557Z"
    }
   },
   "outputs": [],
   "source": [
    "modelname = \"ex03d\"\n",
    "model_ws = os.path.join(cln_ws, modelname)\n",
    "\n",
    "mf.model_ws = model_ws\n",
    "mf._set_name(modelname)\n",
    "for i, fname in enumerate(mf.output_fnames):\n",
    "    mf.output_fnames[i] = modelname + os.path.splitext(fname)[1]"
   ]
  },
  {
   "cell_type": "code",
   "execution_count": null,
   "id": "96f57c1d",
   "metadata": {
    "execution": {
     "iopub.execute_input": "2023-05-02T02:56:35.622951Z",
     "iopub.status.busy": "2023-05-02T02:56:35.622663Z",
     "iopub.status.idle": "2023-05-02T02:56:35.629641Z",
     "shell.execute_reply": "2023-05-02T02:56:35.628870Z"
    }
   },
   "outputs": [],
   "source": [
    "mf.remove_package(\"CLN\")\n",
    "\n",
    "node_prop = [[1, 1, 0, 30.0, -20.0, 1.57]]\n",
    "cln_gwc = [\n",
    "    [1, 1, 50, 50, 0, 0, 10.0, 1.0, 1],\n",
    "    [1, 2, 50, 50, 0, 0, 10.0, 1.0, 1],\n",
    "]\n",
    "\n",
    "strt = 20.0\n",
    "\n",
    "cln = flopy.mfusg.MfUsgCln(\n",
    "    mf,\n",
    "    ncln=1,\n",
    "    iclnnds=-1,\n",
    "    nndcln=1,\n",
    "    nclngwc=2,\n",
    "    node_prop=node_prop,\n",
    "    cln_gwc=cln_gwc,\n",
    "    cln_circ=cln_circ,\n",
    "    strt=strt,\n",
    "    unitnumber=unitnumber,\n",
    ")"
   ]
  },
  {
   "cell_type": "code",
   "execution_count": null,
   "id": "cfc8d789",
   "metadata": {
    "execution": {
     "iopub.execute_input": "2023-05-02T02:56:35.632504Z",
     "iopub.status.busy": "2023-05-02T02:56:35.632173Z",
     "iopub.status.idle": "2023-05-02T02:56:35.637820Z",
     "shell.execute_reply": "2023-05-02T02:56:35.636750Z"
    }
   },
   "outputs": [],
   "source": [
    "mf.remove_package(\"WEL\")\n",
    "\n",
    "cln_stress_period_data = {0: [[0, -62840.0]]}\n",
    "\n",
    "wel = flopy.mfusg.MfUsgWel(\n",
    "    mf,\n",
    "    ipakcb=ipakcb,\n",
    "    options=options,\n",
    "    cln_stress_period_data=cln_stress_period_data,\n",
    ")"
   ]
  },
  {
   "cell_type": "code",
   "execution_count": null,
   "id": "8c155f2c",
   "metadata": {
    "execution": {
     "iopub.execute_input": "2023-05-02T02:56:35.641752Z",
     "iopub.status.busy": "2023-05-02T02:56:35.640906Z",
     "iopub.status.idle": "2023-05-02T02:56:48.982036Z",
     "shell.execute_reply": "2023-05-02T02:56:48.980647Z"
    }
   },
   "outputs": [],
   "source": [
    "mf.write_input()\n",
    "success, buff = mf.run_model(silent=True, report=True)\n",
    "if success:\n",
    "    for line in buff:\n",
    "        print(line)\n",
    "else:\n",
    "    raise ValueError(\"Failed to run.\")"
   ]
  },
  {
   "cell_type": "code",
   "execution_count": null,
   "id": "84af536c",
   "metadata": {
    "execution": {
     "iopub.execute_input": "2023-05-02T02:56:48.986192Z",
     "iopub.status.busy": "2023-05-02T02:56:48.985718Z",
     "iopub.status.idle": "2023-05-02T02:56:49.031585Z",
     "shell.execute_reply": "2023-05-02T02:56:49.030642Z"
    }
   },
   "outputs": [],
   "source": [
    "head_file = os.path.join(mf.model_ws, modelname + \".clnhd\")\n",
    "headobj = flopy.utils.HeadFile(head_file)\n",
    "\n",
    "simtimes = headobj.get_times()\n",
    "nper = len(simtimes)\n",
    "nnode = mf.cln.nclnnds\n",
    "\n",
    "simhead = np.zeros((1, 1, nnode, nper))\n",
    "for i in range(nper):\n",
    "    simhead[:, :, :, i] = headobj.get_data(kstpkper=(i, 0))\n",
    "\n",
    "head_case4 = np.squeeze(simhead)"
   ]
  },
  {
   "cell_type": "code",
   "execution_count": null,
   "id": "3dfa23d7",
   "metadata": {
    "execution": {
     "iopub.execute_input": "2023-05-02T02:56:49.035008Z",
     "iopub.status.busy": "2023-05-02T02:56:49.034694Z",
     "iopub.status.idle": "2023-05-02T02:56:49.396838Z",
     "shell.execute_reply": "2023-05-02T02:56:49.395016Z"
    }
   },
   "outputs": [],
   "source": [
    "cbb_file = os.path.join(mf.model_ws, modelname + \".clncb\")\n",
    "cbb = flopy.utils.CellBudgetFile(cbb_file)\n",
    "# cbb.list_records()\n",
    "\n",
    "simflow = cbb.get_data(kstpkper=(0, 0), text=\"GWF\")[0]\n",
    "for i in range(nper - 1):\n",
    "    simflow = np.append(\n",
    "        simflow, cbb.get_data(kstpkper=(i + 1, 0), text=\"GWF\")[0]\n",
    "    )\n",
    "\n",
    "flow_case4 = simflow"
   ]
  },
  {
   "cell_type": "markdown",
   "id": "eb400286",
   "metadata": {},
   "source": [
    "## Comparing four cases"
   ]
  },
  {
   "cell_type": "code",
   "execution_count": null,
   "id": "6597ef69",
   "metadata": {
    "execution": {
     "iopub.execute_input": "2023-05-02T02:56:49.401341Z",
     "iopub.status.busy": "2023-05-02T02:56:49.400676Z",
     "iopub.status.idle": "2023-05-02T02:56:49.735326Z",
     "shell.execute_reply": "2023-05-02T02:56:49.733933Z"
    }
   },
   "outputs": [],
   "source": [
    "fig = plt.figure(figsize=(8, 5), dpi=150)\n",
    "ax = fig.add_subplot(111)\n",
    "ax.plot(simtimes, head_case1[1], label=\"Case A\")\n",
    "ax.plot(simtimes, head_case2, label=\"Case B\")\n",
    "ax.plot(simtimes, head_case3[1], dashes=[6, 2], label=\"Case C\")\n",
    "ax.plot(simtimes, head_case4, dashes=[6, 2], label=\"Case D\")\n",
    "\n",
    "ax.set_xlabel(\"Time, in days\")\n",
    "ax.set_ylabel(\"Simulated Head in pumping well, in meters\")\n",
    "ax.legend()"
   ]
  },
  {
   "cell_type": "code",
   "execution_count": null,
   "id": "a7011ab6",
   "metadata": {
    "execution": {
     "iopub.execute_input": "2023-05-02T02:56:49.740009Z",
     "iopub.status.busy": "2023-05-02T02:56:49.738950Z",
     "iopub.status.idle": "2023-05-02T02:56:50.374919Z",
     "shell.execute_reply": "2023-05-02T02:56:50.373415Z"
    }
   },
   "outputs": [],
   "source": [
    "fig = plt.figure(figsize=(8, 11), dpi=150)\n",
    "ax1 = fig.add_subplot(211)\n",
    "ax1.plot(\n",
    "    simtimes,\n",
    "    flow_case1[::2,][\"q\"],\n",
    "    label=\"Case A\",\n",
    ")\n",
    "ax1.plot(\n",
    "    simtimes,\n",
    "    flow_case2[::2,][\"q\"],\n",
    "    label=\"Case B\",\n",
    ")\n",
    "ax1.plot(\n",
    "    simtimes,\n",
    "    flow_case3[::2,][\"q\"],\n",
    "    dashes=[6, 2],\n",
    "    label=\"Case C\",\n",
    ")\n",
    "ax1.plot(\n",
    "    simtimes,\n",
    "    flow_case4[::2,][\"q\"],\n",
    "    dashes=[6, 2],\n",
    "    label=\"Case D\",\n",
    ")\n",
    "ax1.set_xlabel(\"Time, in days\")\n",
    "ax1.set_ylabel(\"Layer 1 flow to well\")\n",
    "ax1.legend()\n",
    "\n",
    "ax2 = fig.add_subplot(212)\n",
    "ax2.plot(\n",
    "    simtimes,\n",
    "    flow_case1[1::2,][\"q\"],\n",
    "    label=\"Case A\",\n",
    ")\n",
    "ax2.plot(\n",
    "    simtimes,\n",
    "    flow_case2[1::2,][\"q\"],\n",
    "    label=\"Case B\",\n",
    ")\n",
    "ax2.plot(\n",
    "    simtimes,\n",
    "    flow_case3[1::2,][\"q\"],\n",
    "    dashes=[6, 2],\n",
    "    label=\"Case C\",\n",
    ")\n",
    "ax2.plot(\n",
    "    simtimes,\n",
    "    flow_case4[1::2,][\"q\"],\n",
    "    dashes=[6, 2],\n",
    "    label=\"Case D\",\n",
    ")\n",
    "ax2.set_xlabel(\"Time, in days\")\n",
    "ax2.set_ylabel(\"Layer 2 flow to well\")\n",
    "ax2.legend()"
   ]
  }
 ],
 "metadata": {
  "kernelspec": {
   "display_name": "Python 3 (ipykernel)",
   "language": "python",
   "name": "python3"
  },
  "language_info": {
   "codemirror_mode": {
    "name": "ipython",
    "version": 3
   },
   "file_extension": ".py",
   "mimetype": "text/x-python",
   "name": "python",
   "nbconvert_exporter": "python",
   "pygments_lexer": "ipython3",
   "version": "3.11.0"
  }
 },
 "nbformat": 4,
 "nbformat_minor": 5
}
