{
 "cells": [
  {
   "attachments": {},
   "cell_type": "markdown",
   "metadata": {},
   "source": [
    "# MODFLOW-USG Freyberg demo\n",
    "\n",
    "This example demonstrates a MODFLOW USG Freyberg model, including construction of an `UnstructuredGrid` from a specification file and plotting head data in cross-section.\n",
    "\n",
    "First we locate the model directory."
   ]
  },
  {
   "cell_type": "code",
   "execution_count": null,
   "metadata": {
    "execution": {
     "iopub.execute_input": "2023-02-22T02:40:57.412846Z",
     "iopub.status.busy": "2023-02-22T02:40:57.412466Z",
     "iopub.status.idle": "2023-02-22T02:40:58.305193Z",
     "shell.execute_reply": "2023-02-22T02:40:58.304375Z"
    }
   },
   "outputs": [],
   "source": [
    "from pathlib import Path\n",
    "import flopy\n",
    "\n",
    "root_name = \"freyberg.usg\"\n",
    "model_ws = Path.cwd().parent / \"data\" / root_name.replace(\".\", \"_\")"
   ]
  },
  {
   "cell_type": "markdown",
   "metadata": {},
   "source": [
    "Now construct an `UnstructuredGrid` from a grid specification file."
   ]
  },
  {
   "cell_type": "code",
   "execution_count": null,
   "metadata": {
    "execution": {
     "iopub.execute_input": "2023-02-22T02:40:58.309012Z",
     "iopub.status.busy": "2023-02-22T02:40:58.308600Z",
     "iopub.status.idle": "2023-02-22T02:40:58.350749Z",
     "shell.execute_reply": "2023-02-22T02:40:58.349948Z"
    }
   },
   "outputs": [],
   "source": [
    "from flopy.discretization import UnstructuredGrid\n",
    "\n",
    "mfgrid = UnstructuredGrid.from_gridspec(str(model_ws / f\"{root_name}.gsf\"))"
   ]
  },
  {
   "cell_type": "markdown",
   "metadata": {},
   "source": [
    "Plot the grid in map view."
   ]
  },
  {
   "cell_type": "code",
   "execution_count": null,
   "metadata": {
    "execution": {
     "iopub.execute_input": "2023-02-22T02:40:58.354373Z",
     "iopub.status.busy": "2023-02-22T02:40:58.354026Z",
     "iopub.status.idle": "2023-02-22T02:40:58.759101Z",
     "shell.execute_reply": "2023-02-22T02:40:58.758300Z"
    }
   },
   "outputs": [],
   "source": [
    "import matplotlib.pyplot as plt\n",
    "\n",
    "fig = plt.figure(figsize=(8, 8))\n",
    "ax = fig.add_subplot(1, 1, 1, aspect=\"equal\")\n",
    "pmv = flopy.plot.PlotMapView(modelgrid=mfgrid, ax=ax)\n",
    "pmv.plot_grid(alpha=0.1)"
   ]
  },
  {
   "cell_type": "markdown",
   "metadata": {},
   "source": [
    "Create cross-section lines."
   ]
  },
  {
   "cell_type": "code",
   "execution_count": null,
   "metadata": {
    "execution": {
     "iopub.execute_input": "2023-02-22T02:40:58.762773Z",
     "iopub.status.busy": "2023-02-22T02:40:58.762382Z",
     "iopub.status.idle": "2023-02-22T02:40:58.766798Z",
     "shell.execute_reply": "2023-02-22T02:40:58.766030Z"
    }
   },
   "outputs": [],
   "source": [
    "from flopy.utils.geometry import LineString\n",
    "\n",
    "lines = [\n",
    "    LineString(ls)\n",
    "    for ls in [\n",
    "        [(623000, 3364000), (623000, 3372000)],\n",
    "        [(623650, 3364000), (623650, 3372000)],\n",
    "    ]\n",
    "]"
   ]
  },
  {
   "cell_type": "markdown",
   "metadata": {},
   "source": [
    "Load the model and retrieve inactive cells."
   ]
  },
  {
   "cell_type": "code",
   "execution_count": null,
   "metadata": {
    "execution": {
     "iopub.execute_input": "2023-02-22T02:40:58.769953Z",
     "iopub.status.busy": "2023-02-22T02:40:58.769625Z",
     "iopub.status.idle": "2023-02-22T02:40:58.983509Z",
     "shell.execute_reply": "2023-02-22T02:40:58.982717Z"
    }
   },
   "outputs": [],
   "source": [
    "gwf = flopy.mfusg.MfUsg.load(\n",
    "    f\"{root_name}.nam\",\n",
    "    model_ws=str(model_ws),\n",
    "    verbose=False,\n",
    "    check=False,\n",
    "    exe_name=\"mfusg\",\n",
    ")\n",
    "\n",
    "bas6 = gwf.get_package(\"bas6\")\n",
    "ibound = bas6.ibound.array"
   ]
  },
  {
   "cell_type": "markdown",
   "metadata": {},
   "source": [
    "Show the map view again with cross-section lines and inactive cells."
   ]
  },
  {
   "cell_type": "code",
   "execution_count": null,
   "metadata": {
    "execution": {
     "iopub.execute_input": "2023-02-22T02:40:58.986837Z",
     "iopub.status.busy": "2023-02-22T02:40:58.986503Z",
     "iopub.status.idle": "2023-02-22T02:40:59.449304Z",
     "shell.execute_reply": "2023-02-22T02:40:59.447443Z"
    }
   },
   "outputs": [],
   "source": [
    "fig = plt.figure(figsize=(8, 8))\n",
    "ax = fig.add_subplot(1, 1, 1, aspect=\"equal\")\n",
    "pmv = flopy.plot.PlotMapView(modelgrid=mfgrid, ax=ax)\n",
    "grid = pmv.plot_grid(alpha=0.2)\n",
    "shps = pmv.plot_shapes(lines, edgecolor=\"purple\", lw=2, alpha=0.7)\n",
    "inac = pmv.plot_inactive(ibound=ibound)"
   ]
  },
  {
   "cell_type": "markdown",
   "metadata": {},
   "source": [
    "Next, we can run the model and plot cross-sections of the resulting head. We will run the model in a temporary workspace to avoid altering the example data."
   ]
  },
  {
   "cell_type": "code",
   "execution_count": null,
   "metadata": {
    "execution": {
     "iopub.execute_input": "2023-02-22T02:40:59.454289Z",
     "iopub.status.busy": "2023-02-22T02:40:59.453446Z",
     "iopub.status.idle": "2023-02-22T02:41:01.210397Z",
     "shell.execute_reply": "2023-02-22T02:41:01.209535Z"
    }
   },
   "outputs": [],
   "source": [
    "from tempfile import TemporaryDirectory\n",
    "\n",
    "# temporary directory\n",
    "temp_dir = TemporaryDirectory()\n",
    "work_dir = Path(temp_dir.name) / \"freyberg_usg\"\n",
    "\n",
    "gwf.change_model_ws(str(work_dir))\n",
    "gwf.write_name_file()\n",
    "gwf.write_input()\n",
    "success, buff = gwf.run_model(silent=True, report=True)\n",
    "if success:\n",
    "    for line in buff:\n",
    "        print(line)\n",
    "else:\n",
    "    raise ValueError(\"Failed to run.\")"
   ]
  },
  {
   "cell_type": "markdown",
   "metadata": {},
   "source": [
    "Load head data from the output files:"
   ]
  },
  {
   "cell_type": "code",
   "execution_count": null,
   "metadata": {
    "execution": {
     "iopub.execute_input": "2023-02-22T02:41:01.214442Z",
     "iopub.status.busy": "2023-02-22T02:41:01.214152Z",
     "iopub.status.idle": "2023-02-22T02:41:01.222589Z",
     "shell.execute_reply": "2023-02-22T02:41:01.221760Z"
    }
   },
   "outputs": [],
   "source": [
    "import numpy as np\n",
    "\n",
    "hds = flopy.utils.HeadUFile(str(work_dir / f\"{root_name}.hds\"), model=gwf)\n",
    "times = hds.get_times()\n",
    "head = np.array(hds.get_data())\n",
    "print(head.shape)"
   ]
  },
  {
   "cell_type": "markdown",
   "metadata": {},
   "source": [
    "Plot the head colormap and contours for each layer."
   ]
  },
  {
   "cell_type": "code",
   "execution_count": null,
   "metadata": {
    "execution": {
     "iopub.execute_input": "2023-02-22T02:41:01.226023Z",
     "iopub.status.busy": "2023-02-22T02:41:01.225773Z",
     "iopub.status.idle": "2023-02-22T02:41:02.829408Z",
     "shell.execute_reply": "2023-02-22T02:41:02.828549Z"
    }
   },
   "outputs": [],
   "source": [
    "levels = np.arange(30, 35.4, 0.1)\n",
    "fig = plt.figure(figsize=(15, 10))\n",
    "\n",
    "for layer, h in enumerate(head):\n",
    "    ax = fig.add_subplot(1, len(head), layer + 1)\n",
    "    ax.set_title(f\"Freyberg head (layer {layer})\")\n",
    "    pmv = flopy.plot.PlotMapView(modelgrid=mfgrid, ax=ax)\n",
    "    mesh = pmv.plot_array(h, alpha=0.2)\n",
    "    grid = pmv.plot_grid(alpha=0.2)\n",
    "    shps = pmv.plot_shapes(lines, edgecolor=\"purple\", lw=2, alpha=0.8)\n",
    "    inac = pmv.plot_inactive(ibound=ibound)\n",
    "    ctrs = pmv.contour_array(h, levels=levels)"
   ]
  },
  {
   "cell_type": "markdown",
   "metadata": {},
   "source": [
    "A `head` argument can be provided to `CrossSectionPlot.contour_array()` to show the phreatic surface."
   ]
  },
  {
   "cell_type": "code",
   "execution_count": null,
   "metadata": {
    "execution": {
     "iopub.execute_input": "2023-02-22T02:41:02.836200Z",
     "iopub.status.busy": "2023-02-22T02:41:02.835812Z",
     "iopub.status.idle": "2023-02-22T02:41:04.261342Z",
     "shell.execute_reply": "2023-02-22T02:41:04.260765Z"
    }
   },
   "outputs": [],
   "source": [
    "fig = plt.figure(figsize=(25, 5))\n",
    "\n",
    "for i, line in enumerate(lines):\n",
    "    ax = fig.add_subplot(1, len(lines), i + 1)\n",
    "    ax.set_title(f\"Freyberg head cross-section (line {i})\")\n",
    "    xsect = flopy.plot.PlotCrossSection(\n",
    "        modelgrid=mfgrid,\n",
    "        ax=ax,\n",
    "        line={\"line\": lines[i]},\n",
    "        geographic_coords=True,\n",
    "    )\n",
    "    xsect.plot_array(head, head=head, alpha=0.4)\n",
    "    xsect.plot_ibound(ibound=ibound, head=head)\n",
    "    xsect.plot_inactive(ibound=ibound)\n",
    "    contours = xsect.contour_array(\n",
    "        head,\n",
    "        masked_values=[999.0],\n",
    "        head=head,\n",
    "        levels=levels,\n",
    "        alpha=1.0,\n",
    "        colors=\"blue\",\n",
    "    )\n",
    "    plt.clabel(contours, fmt=\"%.0f\", colors=\"blue\", fontsize=12)\n",
    "    xsect.plot_grid(alpha=0.2)\n",
    "    ax.set_ylim([0, 40])  # set y axis range to ignore low elevations"
   ]
  },
  {
   "cell_type": "markdown",
   "metadata": {},
   "source": [
    "The `head` argument can be a 1D array or a 2D array matching the shape of the grid (i.e., `head.shape == (layer count, ncpl)`)."
   ]
  },
  {
   "cell_type": "code",
   "execution_count": null,
   "metadata": {
    "execution": {
     "iopub.execute_input": "2023-02-22T02:41:04.265379Z",
     "iopub.status.busy": "2023-02-22T02:41:04.265092Z",
     "iopub.status.idle": "2023-02-22T02:41:08.446652Z",
     "shell.execute_reply": "2023-02-22T02:41:08.445944Z"
    }
   },
   "outputs": [],
   "source": [
    "line = lines[0]\n",
    "\n",
    "for time in times[0:3]:\n",
    "    head = np.array(hds.get_data(totim=time))\n",
    "    head2 = np.hstack(head)\n",
    "\n",
    "    fig = plt.figure(figsize=(25, 5))\n",
    "    ax = fig.add_subplot(1, 3, 1)\n",
    "    ax.set_title(f\"Freyberg cross-section (t = {int(time)}, no head)\")\n",
    "    xsect = flopy.plot.PlotCrossSection(\n",
    "        modelgrid=mfgrid, ax=ax, line={\"line\": line}, geographic_coords=True\n",
    "    )\n",
    "    cmap = xsect.plot_array(\n",
    "        head2,\n",
    "        masked_values=[-999.99],\n",
    "        alpha=0.4,\n",
    "    )\n",
    "    contours = xsect.contour_array(\n",
    "        head2, levels=levels, alpha=1.0, colors=\"blue\"\n",
    "    )\n",
    "    xsect.plot_inactive(ibound=ibound, color_noflow=(0.8, 0.8, 0.8))\n",
    "    xsect.plot_grid(alpha=0.2)\n",
    "    ax.set_ylim([0, 40])  # set y axis range to ignore low elevations\n",
    "\n",
    "    ax = fig.add_subplot(1, 3, 2)\n",
    "    ax.set_title(\n",
    "        f\"Freyberg head cross-section (t = {int(time)}, head shape = {head.shape})\"\n",
    "    )\n",
    "    xsect = flopy.plot.PlotCrossSection(\n",
    "        modelgrid=mfgrid, ax=ax, line={\"line\": line}, geographic_coords=True\n",
    "    )\n",
    "    cmap = xsect.plot_array(\n",
    "        head,\n",
    "        masked_values=[-999.99],\n",
    "        head=head,\n",
    "        alpha=0.4,\n",
    "    )\n",
    "    contours = xsect.contour_array(\n",
    "        head, head=head, levels=levels, alpha=1.0, colors=\"blue\"\n",
    "    )\n",
    "    xsect.plot_inactive(ibound=ibound, color_noflow=(0.8, 0.8, 0.8))\n",
    "    xsect.plot_grid(alpha=0.2)\n",
    "    ax.set_ylim([0, 40])\n",
    "\n",
    "    ax = fig.add_subplot(1, 3, 3)\n",
    "    ax.set_title(\n",
    "        f\"Freyberg head cross-section (t = {int(time)}, head shape = {head2.shape})\"\n",
    "    )\n",
    "    xsect = flopy.plot.PlotCrossSection(\n",
    "        modelgrid=mfgrid, ax=ax, line={\"line\": line}, geographic_coords=True\n",
    "    )\n",
    "    cmap = xsect.plot_array(\n",
    "        head2,\n",
    "        masked_values=[-999.99],\n",
    "        head=head2,\n",
    "        alpha=0.4,\n",
    "    )\n",
    "    contours = xsect.contour_array(\n",
    "        head2, head=head2, levels=levels, alpha=1.0, colors=\"blue\"\n",
    "    )\n",
    "    xsect.plot_inactive(ibound=ibound, color_noflow=(0.8, 0.8, 0.8))\n",
    "    xsect.plot_grid(alpha=0.2)\n",
    "    ax.set_ylim([0, 40])"
   ]
  },
  {
   "cell_type": "code",
   "execution_count": null,
   "metadata": {
    "execution": {
     "iopub.execute_input": "2023-02-22T02:41:08.449560Z",
     "iopub.status.busy": "2023-02-22T02:41:08.449270Z",
     "iopub.status.idle": "2023-02-22T02:41:08.455009Z",
     "shell.execute_reply": "2023-02-22T02:41:08.454390Z"
    }
   },
   "outputs": [],
   "source": [
    "try:\n",
    "    # ignore PermissionError on Windows\n",
    "    temp_dir.cleanup()\n",
    "except:\n",
    "    pass"
   ]
  }
 ],
 "metadata": {
  "kernelspec": {
   "display_name": "Python 3 (ipykernel)",
   "language": "python",
   "name": "python3"
  },
  "language_info": {
   "codemirror_mode": {
    "name": "ipython",
    "version": 3
   },
   "file_extension": ".py",
   "mimetype": "text/x-python",
   "name": "python",
   "nbconvert_exporter": "python",
   "pygments_lexer": "ipython3",
   "version": "3.10.6"
  }
 },
 "nbformat": 4,
 "nbformat_minor": 1
}
