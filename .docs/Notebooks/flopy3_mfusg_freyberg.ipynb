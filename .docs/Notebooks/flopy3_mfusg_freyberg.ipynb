{
 "cells": [
  {
   "attachments": {},
   "cell_type": "markdown",
   "metadata": {},
   "source": [
    "# MODFLOW-USG Freyberg demo\n",
    "\n",
    "This example demonstrates a MODFLOW USG Freyberg model, including construction of an `UnstructuredGrid` from a specification file and plotting head data in cross-section.\n",
    "\n",
    "First we locate the model directory."
   ]
  },
  {
   "cell_type": "code",
   "execution_count": null,
   "metadata": {
    "execution": {
     "iopub.execute_input": "2023-05-02T02:55:47.003398Z",
     "iopub.status.busy": "2023-05-02T02:55:47.003017Z",
     "iopub.status.idle": "2023-05-02T02:55:49.175373Z",
     "shell.execute_reply": "2023-05-02T02:55:49.173853Z"
    }
   },
   "outputs": [],
   "source": [
    "from pathlib import Path\n",
    "import flopy\n",
    "\n",
    "root_name = \"freyberg.usg\"\n",
    "model_ws = Path.cwd().parent / \"../examples/data\" / root_name.replace(\".\", \"_\")"
   ]
  },
  {
   "cell_type": "markdown",
   "metadata": {},
   "source": [
    "Now construct an `UnstructuredGrid` from a grid specification file."
   ]
  },
  {
   "cell_type": "code",
   "execution_count": null,
   "metadata": {
    "execution": {
     "iopub.execute_input": "2023-05-02T02:55:49.211329Z",
     "iopub.status.busy": "2023-05-02T02:55:49.210831Z",
     "iopub.status.idle": "2023-05-02T02:55:49.297629Z",
     "shell.execute_reply": "2023-05-02T02:55:49.295784Z"
    }
   },
   "outputs": [],
   "source": [
    "from flopy.discretization import UnstructuredGrid\n",
    "\n",
    "mfgrid = UnstructuredGrid.from_gridspec(str(model_ws / f\"{root_name}.gsf\"))"
   ]
  },
  {
   "cell_type": "markdown",
   "metadata": {},
   "source": [
    "Plot the grid in map view."
   ]
  },
  {
   "cell_type": "code",
   "execution_count": null,
   "metadata": {
    "execution": {
     "iopub.execute_input": "2023-05-02T02:55:49.304450Z",
     "iopub.status.busy": "2023-05-02T02:55:49.303648Z",
     "iopub.status.idle": "2023-05-02T02:55:49.957724Z",
     "shell.execute_reply": "2023-05-02T02:55:49.956752Z"
    }
   },
   "outputs": [],
   "source": [
    "import matplotlib.pyplot as plt\n",
    "\n",
    "fig = plt.figure(figsize=(8, 8))\n",
    "ax = fig.add_subplot(1, 1, 1, aspect=\"equal\")\n",
    "pmv = flopy.plot.PlotMapView(modelgrid=mfgrid, ax=ax)\n",
    "pmv.plot_grid(alpha=0.1)"
   ]
  },
  {
   "cell_type": "markdown",
   "metadata": {},
   "source": [
    "Create cross-section lines."
   ]
  },
  {
   "cell_type": "code",
   "execution_count": null,
   "metadata": {
    "execution": {
     "iopub.execute_input": "2023-05-02T02:55:49.961741Z",
     "iopub.status.busy": "2023-05-02T02:55:49.961346Z",
     "iopub.status.idle": "2023-05-02T02:55:49.967079Z",
     "shell.execute_reply": "2023-05-02T02:55:49.966154Z"
    }
   },
   "outputs": [],
   "source": [
    "from flopy.utils.geometry import LineString\n",
    "\n",
    "lines = [\n",
    "    LineString(ls)\n",
    "    for ls in [\n",
    "        [(623000, 3364000), (623000, 3372000)],\n",
    "        [(623650, 3364000), (623650, 3372000)],\n",
    "    ]\n",
    "]"
   ]
  },
  {
   "cell_type": "markdown",
   "metadata": {},
   "source": [
    "Load the model and retrieve inactive cells."
   ]
  },
  {
   "cell_type": "code",
   "execution_count": null,
   "metadata": {
    "execution": {
     "iopub.execute_input": "2023-05-02T02:55:50.007049Z",
     "iopub.status.busy": "2023-05-02T02:55:50.005246Z",
     "iopub.status.idle": "2023-05-02T02:55:50.393326Z",
     "shell.execute_reply": "2023-05-02T02:55:50.392330Z"
    }
   },
   "outputs": [],
   "source": [
    "gwf = flopy.mfusg.MfUsg.load(\n",
    "    f\"{root_name}.nam\",\n",
    "    model_ws=str(model_ws),\n",
    "    verbose=False,\n",
    "    check=False,\n",
    "    exe_name=\"mfusg\",\n",
    ")\n",
    "\n",
    "bas6 = gwf.get_package(\"bas6\")\n",
    "ibound = bas6.ibound.array"
   ]
  },
  {
   "cell_type": "markdown",
   "metadata": {},
   "source": [
    "Show the map view again with cross-section lines and inactive cells."
   ]
  },
  {
   "cell_type": "code",
   "execution_count": null,
   "metadata": {
    "execution": {
     "iopub.execute_input": "2023-05-02T02:55:50.397146Z",
     "iopub.status.busy": "2023-05-02T02:55:50.396755Z",
     "iopub.status.idle": "2023-05-02T02:55:51.084454Z",
     "shell.execute_reply": "2023-05-02T02:55:51.083028Z"
    }
   },
   "outputs": [],
   "source": [
    "fig = plt.figure(figsize=(8, 8))\n",
    "ax = fig.add_subplot(1, 1, 1, aspect=\"equal\")\n",
    "pmv = flopy.plot.PlotMapView(modelgrid=mfgrid, ax=ax)\n",
    "grid = pmv.plot_grid(alpha=0.2)\n",
    "shps = pmv.plot_shapes(lines, edgecolor=\"purple\", lw=2, alpha=0.7)\n",
    "inac = pmv.plot_inactive(ibound=ibound)"
   ]
  },
  {
   "cell_type": "markdown",
   "metadata": {},
   "source": [
    "Next, we can run the model and plot cross-sections of the resulting head. We will run the model in a temporary workspace to avoid altering the example data."
   ]
  },
  {
   "cell_type": "code",
   "execution_count": null,
   "metadata": {
    "execution": {
     "iopub.execute_input": "2023-05-02T02:55:51.089082Z",
     "iopub.status.busy": "2023-05-02T02:55:51.088709Z",
     "iopub.status.idle": "2023-05-02T02:55:53.855265Z",
     "shell.execute_reply": "2023-05-02T02:55:53.854111Z"
    }
   },
   "outputs": [],
   "source": [
    "from tempfile import TemporaryDirectory\n",
    "\n",
    "# temporary directory\n",
    "temp_dir = TemporaryDirectory()\n",
    "work_dir = Path(temp_dir.name) / \"freyberg_usg\"\n",
    "\n",
    "gwf.change_model_ws(str(work_dir))\n",
    "gwf.write_name_file()\n",
    "gwf.write_input()\n",
    "success, buff = gwf.run_model(silent=True, report=True)\n",
    "if success:\n",
    "    for line in buff:\n",
    "        print(line)\n",
    "else:\n",
    "    raise ValueError(\"Failed to run.\")"
   ]
  },
  {
   "cell_type": "markdown",
   "metadata": {},
   "source": [
    "Load head data from the output files:"
   ]
  },
  {
   "cell_type": "code",
   "execution_count": null,
   "metadata": {
    "execution": {
     "iopub.execute_input": "2023-05-02T02:55:53.859349Z",
     "iopub.status.busy": "2023-05-02T02:55:53.858883Z",
     "iopub.status.idle": "2023-05-02T02:55:53.885702Z",
     "shell.execute_reply": "2023-05-02T02:55:53.884512Z"
    }
   },
   "outputs": [],
   "source": [
    "import numpy as np\n",
    "\n",
    "hds = flopy.utils.HeadUFile(str(work_dir / f\"{root_name}.hds\"), model=gwf)\n",
    "times = hds.get_times()\n",
    "head = np.array(hds.get_data())\n",
    "print(head.shape)"
   ]
  },
  {
   "cell_type": "markdown",
   "metadata": {},
   "source": [
    "Plot the head colormap and contours for each layer."
   ]
  },
  {
   "cell_type": "code",
   "execution_count": null,
   "metadata": {
    "execution": {
     "iopub.execute_input": "2023-05-02T02:55:53.889695Z",
     "iopub.status.busy": "2023-05-02T02:55:53.889215Z",
     "iopub.status.idle": "2023-05-02T02:55:55.792202Z",
     "shell.execute_reply": "2023-05-02T02:55:55.791038Z"
    }
   },
   "outputs": [],
   "source": [
    "levels = np.arange(30, 35.4, 0.1)\n",
    "fig = plt.figure(figsize=(15, 10))\n",
    "\n",
    "for layer, h in enumerate(head):\n",
    "    ax = fig.add_subplot(1, len(head), layer + 1)\n",
    "    ax.set_title(f\"Freyberg head (layer {layer})\")\n",
    "    pmv = flopy.plot.PlotMapView(modelgrid=mfgrid, ax=ax)\n",
    "    mesh = pmv.plot_array(h, alpha=0.2)\n",
    "    grid = pmv.plot_grid(alpha=0.2)\n",
    "    shps = pmv.plot_shapes(lines, edgecolor=\"purple\", lw=2, alpha=0.8)\n",
    "    inac = pmv.plot_inactive(ibound=ibound)\n",
    "    ctrs = pmv.contour_array(h, levels=levels)"
   ]
  },
  {
   "cell_type": "markdown",
   "metadata": {},
   "source": [
    "A `head` argument can be provided to `CrossSectionPlot.contour_array()` to show the phreatic surface."
   ]
  },
  {
   "cell_type": "code",
   "execution_count": null,
   "metadata": {
    "execution": {
     "iopub.execute_input": "2023-05-02T02:55:55.801604Z",
     "iopub.status.busy": "2023-05-02T02:55:55.801088Z",
     "iopub.status.idle": "2023-05-02T02:55:57.670089Z",
     "shell.execute_reply": "2023-05-02T02:55:57.669050Z"
    }
   },
   "outputs": [],
   "source": [
    "fig = plt.figure(figsize=(25, 5))\n",
    "\n",
    "for i, line in enumerate(lines):\n",
    "    ax = fig.add_subplot(1, len(lines), i + 1)\n",
    "    ax.set_title(f\"Freyberg head cross-section (line {i})\")\n",
    "    xsect = flopy.plot.PlotCrossSection(\n",
    "        modelgrid=mfgrid,\n",
    "        ax=ax,\n",
    "        line={\"line\": lines[i]},\n",
    "        geographic_coords=True,\n",
    "    )\n",
    "    xsect.plot_array(head, head=head, alpha=0.4)\n",
    "    xsect.plot_ibound(ibound=ibound, head=head)\n",
    "    xsect.plot_inactive(ibound=ibound)\n",
    "    contours = xsect.contour_array(\n",
    "        head,\n",
    "        masked_values=[999.0],\n",
    "        head=head,\n",
    "        levels=levels,\n",
    "        alpha=1.0,\n",
    "        colors=\"blue\",\n",
    "    )\n",
    "    plt.clabel(contours, fmt=\"%.0f\", colors=\"blue\", fontsize=12)\n",
    "    xsect.plot_grid(alpha=0.2)\n",
    "    ax.set_ylim([0, 40])  # set y axis range to ignore low elevations"
   ]
  },
  {
   "cell_type": "markdown",
   "metadata": {},
   "source": [
    "The `head` argument can be a 1D array or a 2D array matching the shape of the grid (i.e., `head.shape == (layer count, ncpl)`)."
   ]
  },
  {
   "cell_type": "code",
   "execution_count": null,
   "metadata": {
    "execution": {
     "iopub.execute_input": "2023-05-02T02:55:57.675594Z",
     "iopub.status.busy": "2023-05-02T02:55:57.674302Z",
     "iopub.status.idle": "2023-05-02T02:56:03.463945Z",
     "shell.execute_reply": "2023-05-02T02:56:03.462994Z"
    }
   },
   "outputs": [],
   "source": [
    "line = lines[0]\n",
    "\n",
    "for time in times[0:3]:\n",
    "    head = np.array(hds.get_data(totim=time))\n",
    "    head2 = np.hstack(head)\n",
    "\n",
    "    fig = plt.figure(figsize=(25, 5))\n",
    "    ax = fig.add_subplot(1, 3, 1)\n",
    "    ax.set_title(f\"Freyberg cross-section (t = {int(time)}, no head)\")\n",
    "    xsect = flopy.plot.PlotCrossSection(\n",
    "        modelgrid=mfgrid, ax=ax, line={\"line\": line}, geographic_coords=True\n",
    "    )\n",
    "    cmap = xsect.plot_array(\n",
    "        head2,\n",
    "        masked_values=[-999.99],\n",
    "        alpha=0.4,\n",
    "    )\n",
    "    contours = xsect.contour_array(\n",
    "        head2, levels=levels, alpha=1.0, colors=\"blue\"\n",
    "    )\n",
    "    xsect.plot_inactive(ibound=ibound, color_noflow=(0.8, 0.8, 0.8))\n",
    "    xsect.plot_grid(alpha=0.2)\n",
    "    ax.set_ylim([0, 40])  # set y axis range to ignore low elevations\n",
    "\n",
    "    ax = fig.add_subplot(1, 3, 2)\n",
    "    ax.set_title(\n",
    "        f\"Freyberg head cross-section (t = {int(time)}, head shape = {head.shape})\"\n",
    "    )\n",
    "    xsect = flopy.plot.PlotCrossSection(\n",
    "        modelgrid=mfgrid, ax=ax, line={\"line\": line}, geographic_coords=True\n",
    "    )\n",
    "    cmap = xsect.plot_array(\n",
    "        head,\n",
    "        masked_values=[-999.99],\n",
    "        head=head,\n",
    "        alpha=0.4,\n",
    "    )\n",
    "    contours = xsect.contour_array(\n",
    "        head, head=head, levels=levels, alpha=1.0, colors=\"blue\"\n",
    "    )\n",
    "    xsect.plot_inactive(ibound=ibound, color_noflow=(0.8, 0.8, 0.8))\n",
    "    xsect.plot_grid(alpha=0.2)\n",
    "    ax.set_ylim([0, 40])\n",
    "\n",
    "    ax = fig.add_subplot(1, 3, 3)\n",
    "    ax.set_title(\n",
    "        f\"Freyberg head cross-section (t = {int(time)}, head shape = {head2.shape})\"\n",
    "    )\n",
    "    xsect = flopy.plot.PlotCrossSection(\n",
    "        modelgrid=mfgrid, ax=ax, line={\"line\": line}, geographic_coords=True\n",
    "    )\n",
    "    cmap = xsect.plot_array(\n",
    "        head2,\n",
    "        masked_values=[-999.99],\n",
    "        head=head2,\n",
    "        alpha=0.4,\n",
    "    )\n",
    "    contours = xsect.contour_array(\n",
    "        head2, head=head2, levels=levels, alpha=1.0, colors=\"blue\"\n",
    "    )\n",
    "    xsect.plot_inactive(ibound=ibound, color_noflow=(0.8, 0.8, 0.8))\n",
    "    xsect.plot_grid(alpha=0.2)\n",
    "    ax.set_ylim([0, 40])"
   ]
  },
  {
   "cell_type": "code",
   "execution_count": null,
   "metadata": {
    "execution": {
     "iopub.execute_input": "2023-05-02T02:56:03.467431Z",
     "iopub.status.busy": "2023-05-02T02:56:03.467113Z",
     "iopub.status.idle": "2023-05-02T02:56:03.480184Z",
     "shell.execute_reply": "2023-05-02T02:56:03.478823Z"
    }
   },
   "outputs": [],
   "source": [
    "try:\n",
    "    # ignore PermissionError on Windows\n",
    "    temp_dir.cleanup()\n",
    "except:\n",
    "    pass"
   ]
  }
 ],
 "metadata": {
  "kernelspec": {
   "display_name": "Python 3 (ipykernel)",
   "language": "python",
   "name": "python3"
  },
  "language_info": {
   "codemirror_mode": {
    "name": "ipython",
    "version": 3
   },
   "file_extension": ".py",
   "mimetype": "text/x-python",
   "name": "python",
   "nbconvert_exporter": "python",
   "pygments_lexer": "ipython3",
   "version": "3.11.0"
  }
 },
 "nbformat": 4,
 "nbformat_minor": 1
}
