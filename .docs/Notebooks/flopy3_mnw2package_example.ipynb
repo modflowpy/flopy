{
 "cells": [
  {
   "attachments": {},
   "cell_type": "markdown",
   "metadata": {},
   "source": [
    "# Working with the Multi-node Well (MNW2) Package"
   ]
  },
  {
   "cell_type": "code",
   "execution_count": null,
   "metadata": {
    "execution": {
     "iopub.execute_input": "2023-05-02T02:55:51.761596Z",
     "iopub.status.busy": "2023-05-02T02:55:51.761194Z",
     "iopub.status.idle": "2023-05-02T02:55:53.990242Z",
     "shell.execute_reply": "2023-05-02T02:55:53.989210Z"
    }
   },
   "outputs": [],
   "source": [
    "import sys\n",
    "import os\n",
    "from tempfile import TemporaryDirectory\n",
    "\n",
    "import numpy as np\n",
    "\n",
    "try:\n",
    "    import pandas as pd\n",
    "except:\n",
    "    pass\n",
    "\n",
    "# run installed version of flopy or add local path\n",
    "try:\n",
    "    import flopy\n",
    "except:\n",
    "    fpth = os.path.abspath(os.path.join(\"..\", \"..\"))\n",
    "    sys.path.append(fpth)\n",
    "    import flopy\n",
    "\n",
    "print(sys.version)\n",
    "print(\"numpy version: {}\".format(np.__version__))\n",
    "try:\n",
    "    print(\"pandas version: {}\".format(pd.__version__))\n",
    "except:\n",
    "    pass\n",
    "print(\"flopy version: {}\".format(flopy.__version__))"
   ]
  },
  {
   "cell_type": "markdown",
   "metadata": {},
   "source": [
    "### Make an MNW2 package from scratch"
   ]
  },
  {
   "cell_type": "code",
   "execution_count": null,
   "metadata": {
    "execution": {
     "iopub.execute_input": "2023-05-02T02:55:54.049403Z",
     "iopub.status.busy": "2023-05-02T02:55:54.048898Z",
     "iopub.status.idle": "2023-05-02T02:55:54.072002Z",
     "shell.execute_reply": "2023-05-02T02:55:54.070837Z"
    }
   },
   "outputs": [],
   "source": [
    "# temporary directory\n",
    "temp_dir = TemporaryDirectory()\n",
    "model_ws = temp_dir.name\n",
    "\n",
    "m = flopy.modflow.Modflow(\"mnw2example\", model_ws=model_ws)\n",
    "dis = flopy.modflow.ModflowDis(\n",
    "    nrow=5, ncol=5, nlay=3, nper=3, top=10, botm=0, model=m\n",
    ")"
   ]
  },
  {
   "cell_type": "markdown",
   "metadata": {},
   "source": [
    "### MNW2 information by node\n",
    "(this could be prepared externally from well reconds and read in from a csv or excel file)\n",
    "* this table has two multi-node wells, the first (well1) consisting of two nodes that are manually specified\n",
    "(where the variable **rw** is specified by node)\n",
    "* node that some variables that are constant for the whole well are also included (losstype, zpump, etc.)"
   ]
  },
  {
   "cell_type": "code",
   "execution_count": null,
   "metadata": {
    "execution": {
     "iopub.execute_input": "2023-05-02T02:55:54.077873Z",
     "iopub.status.busy": "2023-05-02T02:55:54.077430Z",
     "iopub.status.idle": "2023-05-02T02:55:54.105375Z",
     "shell.execute_reply": "2023-05-02T02:55:54.104589Z"
    }
   },
   "outputs": [],
   "source": [
    "node_data = pd.DataFrame(\n",
    "    [\n",
    "        [1, 1, 9.5, 7.1, \"well1\", \"skin\", -1, 0, 0, 0, 1.0, 2.0, 5.0, 6.2],\n",
    "        [1, 1, 7.1, 5.1, \"well1\", \"skin\", -1, 0, 0, 0, 0.5, 2.0, 5.0, 6.2],\n",
    "        [3, 3, 9.1, 3.7, \"well2\", \"skin\", -1, 0, 0, 0, 1.0, 2.0, 5.0, 4.1],\n",
    "    ],\n",
    "    columns=[\n",
    "        \"i\",\n",
    "        \"j\",\n",
    "        \"ztop\",\n",
    "        \"zbotm\",\n",
    "        \"wellid\",\n",
    "        \"losstype\",\n",
    "        \"pumploc\",\n",
    "        \"qlimit\",\n",
    "        \"ppflag\",\n",
    "        \"pumpcap\",\n",
    "        \"rw\",\n",
    "        \"rskin\",\n",
    "        \"kskin\",\n",
    "        \"zpump\",\n",
    "    ],\n",
    ")\n",
    "node_data"
   ]
  },
  {
   "cell_type": "markdown",
   "metadata": {},
   "source": [
    "#### convert the DataFrame to a recarray for compatibility with flopy"
   ]
  },
  {
   "cell_type": "code",
   "execution_count": null,
   "metadata": {
    "execution": {
     "iopub.execute_input": "2023-05-02T02:55:54.108809Z",
     "iopub.status.busy": "2023-05-02T02:55:54.108453Z",
     "iopub.status.idle": "2023-05-02T02:55:54.116258Z",
     "shell.execute_reply": "2023-05-02T02:55:54.115334Z"
    }
   },
   "outputs": [],
   "source": [
    "node_data = node_data.to_records()\n",
    "node_data"
   ]
  },
  {
   "cell_type": "markdown",
   "metadata": {},
   "source": [
    "### Stress period information\n",
    "(could also be developed externally)"
   ]
  },
  {
   "cell_type": "code",
   "execution_count": null,
   "metadata": {
    "execution": {
     "iopub.execute_input": "2023-05-02T02:55:54.120621Z",
     "iopub.status.busy": "2023-05-02T02:55:54.120312Z",
     "iopub.status.idle": "2023-05-02T02:55:54.130332Z",
     "shell.execute_reply": "2023-05-02T02:55:54.129688Z"
    }
   },
   "outputs": [],
   "source": [
    "stress_period_data = pd.DataFrame(\n",
    "    [\n",
    "        [0, \"well1\", 0],\n",
    "        [1, \"well1\", 100.0],\n",
    "        [0, \"well2\", 0],\n",
    "        [1, \"well2\", 1000.0],\n",
    "    ],\n",
    "    columns=[\"per\", \"wellid\", \"qdes\"],\n",
    ")\n",
    "stress_period_data"
   ]
  },
  {
   "cell_type": "code",
   "execution_count": null,
   "metadata": {
    "execution": {
     "iopub.execute_input": "2023-05-02T02:55:54.133754Z",
     "iopub.status.busy": "2023-05-02T02:55:54.133391Z",
     "iopub.status.idle": "2023-05-02T02:55:54.142488Z",
     "shell.execute_reply": "2023-05-02T02:55:54.141659Z"
    }
   },
   "outputs": [],
   "source": [
    "pers = stress_period_data.groupby(\"per\")\n",
    "stress_period_data = {i: pers.get_group(i).to_records() for i in [0, 1]}\n",
    "stress_period_data"
   ]
  },
  {
   "cell_type": "markdown",
   "metadata": {},
   "source": [
    "### Make ``ModflowMnw2`` package object\n",
    "* note that extraneous columns in node_data and stress_period_data are ignored\n",
    "* if itmp is positive, it must equal the number of active wells being specified in ``stress_period_data``, otherwise the package class will raise an error."
   ]
  },
  {
   "cell_type": "code",
   "execution_count": null,
   "metadata": {
    "execution": {
     "iopub.execute_input": "2023-05-02T02:55:54.145557Z",
     "iopub.status.busy": "2023-05-02T02:55:54.145273Z",
     "iopub.status.idle": "2023-05-02T02:55:54.155362Z",
     "shell.execute_reply": "2023-05-02T02:55:54.154465Z"
    }
   },
   "outputs": [],
   "source": [
    "mnw2 = flopy.modflow.ModflowMnw2(\n",
    "    model=m,\n",
    "    mnwmax=2,\n",
    "    node_data=node_data,\n",
    "    stress_period_data=stress_period_data,\n",
    "    itmp=[2, 2, -1],  # reuse second per pumping for last stress period\n",
    ")"
   ]
  },
  {
   "cell_type": "code",
   "execution_count": null,
   "metadata": {
    "execution": {
     "iopub.execute_input": "2023-05-02T02:55:54.158517Z",
     "iopub.status.busy": "2023-05-02T02:55:54.158219Z",
     "iopub.status.idle": "2023-05-02T02:55:54.162895Z",
     "shell.execute_reply": "2023-05-02T02:55:54.162085Z"
    }
   },
   "outputs": [],
   "source": [
    "# \"nodtot\" is computed automatically\n",
    "mnw2.nodtot"
   ]
  },
  {
   "cell_type": "code",
   "execution_count": null,
   "metadata": {
    "execution": {
     "iopub.execute_input": "2023-05-02T02:55:54.165496Z",
     "iopub.status.busy": "2023-05-02T02:55:54.165227Z",
     "iopub.status.idle": "2023-05-02T02:55:54.187361Z",
     "shell.execute_reply": "2023-05-02T02:55:54.186531Z"
    }
   },
   "outputs": [],
   "source": [
    "pd.DataFrame(mnw2.node_data)"
   ]
  },
  {
   "cell_type": "code",
   "execution_count": null,
   "metadata": {
    "execution": {
     "iopub.execute_input": "2023-05-02T02:55:54.190294Z",
     "iopub.status.busy": "2023-05-02T02:55:54.189974Z",
     "iopub.status.idle": "2023-05-02T02:55:54.203368Z",
     "shell.execute_reply": "2023-05-02T02:55:54.202535Z"
    }
   },
   "outputs": [],
   "source": [
    "pd.DataFrame(mnw2.stress_period_data[0])"
   ]
  },
  {
   "cell_type": "code",
   "execution_count": null,
   "metadata": {
    "execution": {
     "iopub.execute_input": "2023-05-02T02:55:54.207105Z",
     "iopub.status.busy": "2023-05-02T02:55:54.206775Z",
     "iopub.status.idle": "2023-05-02T02:55:54.220895Z",
     "shell.execute_reply": "2023-05-02T02:55:54.219969Z"
    }
   },
   "outputs": [],
   "source": [
    "pd.DataFrame(mnw2.stress_period_data[1])"
   ]
  },
  {
   "cell_type": "code",
   "execution_count": null,
   "metadata": {
    "execution": {
     "iopub.execute_input": "2023-05-02T02:55:54.224702Z",
     "iopub.status.busy": "2023-05-02T02:55:54.224253Z",
     "iopub.status.idle": "2023-05-02T02:55:54.229319Z",
     "shell.execute_reply": "2023-05-02T02:55:54.228545Z"
    }
   },
   "outputs": [],
   "source": [
    "tmp = flopy.modflow.ModflowMnw2(\n",
    "    model=m,\n",
    "    itmp=[1, 1, -1],  # reuse second per pumping for last stress period\n",
    ")"
   ]
  },
  {
   "cell_type": "markdown",
   "metadata": {},
   "source": [
    "### empty ``node_data`` and ``stress_period_data`` tables can also be generated by the package class, and then filled"
   ]
  },
  {
   "cell_type": "code",
   "execution_count": null,
   "metadata": {
    "execution": {
     "iopub.execute_input": "2023-05-02T02:55:54.232675Z",
     "iopub.status.busy": "2023-05-02T02:55:54.232335Z",
     "iopub.status.idle": "2023-05-02T02:55:54.240849Z",
     "shell.execute_reply": "2023-05-02T02:55:54.239703Z"
    }
   },
   "outputs": [],
   "source": [
    "node_data = tmp.get_empty_node_data(3)\n",
    "node_data"
   ]
  },
  {
   "cell_type": "markdown",
   "metadata": {},
   "source": [
    "### Mnw objects\n",
    "at the base of the flopy mnw2 module is the **Mnw** object class, which describes a single multi-node well.\n",
    "A list or dict of **Mnw** objects can be used to build a package (using the example above):\n",
    "```\n",
    "flopy.modflow.ModflowMnw2(model=m, mnwmax=2,\n",
    "                 mnw=<dict or list of Mnw objects>,\n",
    "                 itmp=[1, 1, -1], # reuse second per pumping for last stress period\n",
    "                 )\n",
    "```\n",
    "or if node_data and stress_period_data are supplied, the **Mnw** objects are created on initialization of the ModflowMnw2 class instance, and assigned to the ```.mnw``` attribute, as items in a dictionary keyed by ```wellid```."
   ]
  },
  {
   "cell_type": "code",
   "execution_count": null,
   "metadata": {
    "execution": {
     "iopub.execute_input": "2023-05-02T02:55:54.245066Z",
     "iopub.status.busy": "2023-05-02T02:55:54.244445Z",
     "iopub.status.idle": "2023-05-02T02:55:54.250624Z",
     "shell.execute_reply": "2023-05-02T02:55:54.249905Z"
    }
   },
   "outputs": [],
   "source": [
    "mnw2.mnw"
   ]
  },
  {
   "cell_type": "code",
   "execution_count": null,
   "metadata": {
    "execution": {
     "iopub.execute_input": "2023-05-02T02:55:54.253684Z",
     "iopub.status.busy": "2023-05-02T02:55:54.253391Z",
     "iopub.status.idle": "2023-05-02T02:55:54.258546Z",
     "shell.execute_reply": "2023-05-02T02:55:54.257686Z"
    }
   },
   "outputs": [],
   "source": [
    "mnw2.mnw[\"well1\"].rw"
   ]
  },
  {
   "cell_type": "markdown",
   "metadata": {},
   "source": [
    "Note that Mnw object attributes for variables that vary by node are lists (e.g. ``rw`` above)\n",
    "\n",
    "#### Each Mnw object has its own ``node_data`` and ``stress_period_data``"
   ]
  },
  {
   "cell_type": "code",
   "execution_count": null,
   "metadata": {
    "execution": {
     "iopub.execute_input": "2023-05-02T02:55:54.261543Z",
     "iopub.status.busy": "2023-05-02T02:55:54.261217Z",
     "iopub.status.idle": "2023-05-02T02:55:54.281129Z",
     "shell.execute_reply": "2023-05-02T02:55:54.280416Z"
    }
   },
   "outputs": [],
   "source": [
    "pd.DataFrame(mnw2.mnw[\"well1\"].node_data)"
   ]
  },
  {
   "cell_type": "markdown",
   "metadata": {},
   "source": [
    "#### Instead of a dict keyed by stress period, Mnw.stress_period_data is a recarray with pumping data listed by stress period for that well\n",
    "* note that data for period 2, where ``itmp`` < 1, is shown (was copied from s.p. 1 during construction of the **Mnw** object)"
   ]
  },
  {
   "cell_type": "code",
   "execution_count": null,
   "metadata": {
    "execution": {
     "iopub.execute_input": "2023-05-02T02:55:54.284165Z",
     "iopub.status.busy": "2023-05-02T02:55:54.283861Z",
     "iopub.status.idle": "2023-05-02T02:55:54.296193Z",
     "shell.execute_reply": "2023-05-02T02:55:54.295447Z"
    }
   },
   "outputs": [],
   "source": [
    "pd.DataFrame(mnw2.mnw[\"well2\"].stress_period_data)"
   ]
  },
  {
   "cell_type": "markdown",
   "metadata": {},
   "source": [
    "### Build the same package using only the ``Mnw`` objects"
   ]
  },
  {
   "cell_type": "code",
   "execution_count": null,
   "metadata": {
    "execution": {
     "iopub.execute_input": "2023-05-02T02:55:54.299120Z",
     "iopub.status.busy": "2023-05-02T02:55:54.298816Z",
     "iopub.status.idle": "2023-05-02T02:55:54.305302Z",
     "shell.execute_reply": "2023-05-02T02:55:54.304238Z"
    }
   },
   "outputs": [],
   "source": [
    "mnw2fromobj = flopy.modflow.ModflowMnw2(\n",
    "    model=m,\n",
    "    mnwmax=2,\n",
    "    mnw=mnw2.mnw,\n",
    "    itmp=[2, 2, -1],  # reuse second per pumping for last stress period\n",
    ")"
   ]
  },
  {
   "cell_type": "code",
   "execution_count": null,
   "metadata": {
    "execution": {
     "iopub.execute_input": "2023-05-02T02:55:54.308734Z",
     "iopub.status.busy": "2023-05-02T02:55:54.308439Z",
     "iopub.status.idle": "2023-05-02T02:55:54.328500Z",
     "shell.execute_reply": "2023-05-02T02:55:54.327727Z"
    }
   },
   "outputs": [],
   "source": [
    "pd.DataFrame(mnw2fromobj.node_data)"
   ]
  },
  {
   "cell_type": "code",
   "execution_count": null,
   "metadata": {
    "execution": {
     "iopub.execute_input": "2023-05-02T02:55:54.331894Z",
     "iopub.status.busy": "2023-05-02T02:55:54.331508Z",
     "iopub.status.idle": "2023-05-02T02:55:54.343545Z",
     "shell.execute_reply": "2023-05-02T02:55:54.342779Z"
    }
   },
   "outputs": [],
   "source": [
    "pd.DataFrame(mnw2fromobj.stress_period_data[0])"
   ]
  },
  {
   "cell_type": "code",
   "execution_count": null,
   "metadata": {
    "execution": {
     "iopub.execute_input": "2023-05-02T02:55:54.346634Z",
     "iopub.status.busy": "2023-05-02T02:55:54.346327Z",
     "iopub.status.idle": "2023-05-02T02:55:54.359275Z",
     "shell.execute_reply": "2023-05-02T02:55:54.358250Z"
    }
   },
   "outputs": [],
   "source": [
    "pd.DataFrame(mnw2fromobj.stress_period_data[1])"
   ]
  },
  {
   "cell_type": "markdown",
   "metadata": {},
   "source": [
    "### By default, the ``node_data`` and ``stress_period_data`` tables attached to the ``ModflowMnw2`` package class are definitive\n",
    "* on writing of the package output (``mnw2.write_file()``), the **Mnw** objects are regenerated from the tables. This setting is controlled by the default argument ``use_tables=True``. To write the package file using the **Mnw** objects (ignoring the tables), use ``mnw2.write_file(use_tables=False)``. "
   ]
  },
  {
   "cell_type": "code",
   "execution_count": null,
   "metadata": {
    "execution": {
     "iopub.execute_input": "2023-05-02T02:55:54.363022Z",
     "iopub.status.busy": "2023-05-02T02:55:54.362611Z",
     "iopub.status.idle": "2023-05-02T02:55:54.369640Z",
     "shell.execute_reply": "2023-05-02T02:55:54.368825Z"
    }
   },
   "outputs": [],
   "source": [
    "per1 = flopy.modflow.ModflowMnw2.get_empty_stress_period_data(itmp=2)\n",
    "per1"
   ]
  },
  {
   "cell_type": "markdown",
   "metadata": {},
   "source": [
    "### Write an MNW2 package file and inspect the results"
   ]
  },
  {
   "cell_type": "code",
   "execution_count": null,
   "metadata": {
    "execution": {
     "iopub.execute_input": "2023-05-02T02:55:54.372951Z",
     "iopub.status.busy": "2023-05-02T02:55:54.372664Z",
     "iopub.status.idle": "2023-05-02T02:55:54.384190Z",
     "shell.execute_reply": "2023-05-02T02:55:54.383321Z"
    }
   },
   "outputs": [],
   "source": [
    "mnw2.write_file(os.path.join(model_ws, \"test.mnw2\"))"
   ]
  },
  {
   "cell_type": "code",
   "execution_count": null,
   "metadata": {
    "execution": {
     "iopub.execute_input": "2023-05-02T02:55:54.387524Z",
     "iopub.status.busy": "2023-05-02T02:55:54.387208Z",
     "iopub.status.idle": "2023-05-02T02:55:54.398809Z",
     "shell.execute_reply": "2023-05-02T02:55:54.397957Z"
    }
   },
   "outputs": [],
   "source": [
    "junk = [\n",
    "    print(l.strip(\"\\n\"))\n",
    "    for l in open(os.path.join(model_ws, \"test.mnw2\")).readlines()\n",
    "]"
   ]
  },
  {
   "cell_type": "markdown",
   "metadata": {},
   "source": [
    "### Load some example MNW2 packages"
   ]
  },
  {
   "cell_type": "code",
   "execution_count": null,
   "metadata": {
    "execution": {
     "iopub.execute_input": "2023-05-02T02:55:54.402181Z",
     "iopub.status.busy": "2023-05-02T02:55:54.401883Z",
     "iopub.status.idle": "2023-05-02T02:55:54.510230Z",
     "shell.execute_reply": "2023-05-02T02:55:54.509293Z"
    }
   },
   "outputs": [],
   "source": [
    "path = os.path.join(\"..\", \"..\", \"examples\", \"data\", \"mnw2_examples\")\n",
    "m = flopy.modflow.Modflow(\"MNW2-Fig28\", model_ws=model_ws)\n",
    "dis = flopy.modflow.ModflowDis.load(os.path.join(path, \"MNW2-Fig28.dis\"), m)"
   ]
  },
  {
   "cell_type": "code",
   "execution_count": null,
   "metadata": {
    "execution": {
     "iopub.execute_input": "2023-05-02T02:55:54.513169Z",
     "iopub.status.busy": "2023-05-02T02:55:54.512871Z",
     "iopub.status.idle": "2023-05-02T02:55:54.517838Z",
     "shell.execute_reply": "2023-05-02T02:55:54.516880Z"
    }
   },
   "outputs": [],
   "source": [
    "m.get_package_list()"
   ]
  },
  {
   "cell_type": "code",
   "execution_count": null,
   "metadata": {
    "execution": {
     "iopub.execute_input": "2023-05-02T02:55:54.522205Z",
     "iopub.status.busy": "2023-05-02T02:55:54.521733Z",
     "iopub.status.idle": "2023-05-02T02:55:54.533035Z",
     "shell.execute_reply": "2023-05-02T02:55:54.532236Z"
    }
   },
   "outputs": [],
   "source": [
    "mnw2pth = os.path.join(path, \"MNW2-Fig28.mnw2\")\n",
    "mnw2 = flopy.modflow.ModflowMnw2.load(mnw2pth, m)"
   ]
  },
  {
   "cell_type": "code",
   "execution_count": null,
   "metadata": {
    "execution": {
     "iopub.execute_input": "2023-05-02T02:55:54.536494Z",
     "iopub.status.busy": "2023-05-02T02:55:54.536143Z",
     "iopub.status.idle": "2023-05-02T02:55:54.555656Z",
     "shell.execute_reply": "2023-05-02T02:55:54.554830Z"
    }
   },
   "outputs": [],
   "source": [
    "pd.DataFrame(mnw2.node_data)"
   ]
  },
  {
   "cell_type": "code",
   "execution_count": null,
   "metadata": {
    "execution": {
     "iopub.execute_input": "2023-05-02T02:55:54.558463Z",
     "iopub.status.busy": "2023-05-02T02:55:54.558174Z",
     "iopub.status.idle": "2023-05-02T02:55:54.570302Z",
     "shell.execute_reply": "2023-05-02T02:55:54.569323Z"
    }
   },
   "outputs": [],
   "source": [
    "pd.DataFrame(mnw2.stress_period_data[0])"
   ]
  },
  {
   "cell_type": "code",
   "execution_count": null,
   "metadata": {
    "execution": {
     "iopub.execute_input": "2023-05-02T02:55:54.574150Z",
     "iopub.status.busy": "2023-05-02T02:55:54.573804Z",
     "iopub.status.idle": "2023-05-02T02:55:54.579968Z",
     "shell.execute_reply": "2023-05-02T02:55:54.579021Z"
    }
   },
   "outputs": [],
   "source": [
    "mnw2.mnw"
   ]
  },
  {
   "cell_type": "code",
   "execution_count": null,
   "metadata": {
    "execution": {
     "iopub.execute_input": "2023-05-02T02:55:54.583184Z",
     "iopub.status.busy": "2023-05-02T02:55:54.582835Z",
     "iopub.status.idle": "2023-05-02T02:55:54.597516Z",
     "shell.execute_reply": "2023-05-02T02:55:54.596649Z"
    }
   },
   "outputs": [],
   "source": [
    "pd.DataFrame(mnw2.mnw[\"well-a\"].stress_period_data)"
   ]
  },
  {
   "cell_type": "code",
   "execution_count": null,
   "metadata": {
    "execution": {
     "iopub.execute_input": "2023-05-02T02:55:54.600491Z",
     "iopub.status.busy": "2023-05-02T02:55:54.600191Z",
     "iopub.status.idle": "2023-05-02T02:55:54.640571Z",
     "shell.execute_reply": "2023-05-02T02:55:54.639596Z"
    }
   },
   "outputs": [],
   "source": [
    "path = os.path.join(\"..\", \"..\", \"examples\", \"data\", \"mnw2_examples\")\n",
    "m = flopy.modflow.Modflow(\"br\", model_ws=model_ws)\n",
    "mnw2 = flopy.modflow.ModflowMnw2.load(path + \"/BadRiver_cal.mnw2\", m)"
   ]
  },
  {
   "cell_type": "code",
   "execution_count": null,
   "metadata": {
    "execution": {
     "iopub.execute_input": "2023-05-02T02:55:54.643595Z",
     "iopub.status.busy": "2023-05-02T02:55:54.643305Z",
     "iopub.status.idle": "2023-05-02T02:55:54.666752Z",
     "shell.execute_reply": "2023-05-02T02:55:54.666038Z"
    }
   },
   "outputs": [],
   "source": [
    "df = pd.DataFrame(mnw2.node_data)\n",
    "df.loc[:, df.sum(axis=0) != 0]"
   ]
  },
  {
   "cell_type": "code",
   "execution_count": null,
   "metadata": {
    "execution": {
     "iopub.execute_input": "2023-05-02T02:55:54.669604Z",
     "iopub.status.busy": "2023-05-02T02:55:54.669311Z",
     "iopub.status.idle": "2023-05-02T02:55:54.675017Z",
     "shell.execute_reply": "2023-05-02T02:55:54.674277Z"
    },
    "pycharm": {
     "name": "#%%\n"
    }
   },
   "outputs": [],
   "source": [
    "try:\n",
    "    # ignore PermissionError on Windows\n",
    "    temp_dir.cleanup()\n",
    "except:\n",
    "    pass"
   ]
  }
 ],
 "metadata": {
  "anaconda-cloud": {},
  "kernelspec": {
   "display_name": "Python 3 (ipykernel)",
   "language": "python",
   "name": "python3"
  },
  "language_info": {
   "codemirror_mode": {
    "name": "ipython",
    "version": 3
   },
   "file_extension": ".py",
   "mimetype": "text/x-python",
   "name": "python",
   "nbconvert_exporter": "python",
   "pygments_lexer": "ipython3",
   "version": "3.11.0"
  }
 },
 "nbformat": 4,
 "nbformat_minor": 4
}
