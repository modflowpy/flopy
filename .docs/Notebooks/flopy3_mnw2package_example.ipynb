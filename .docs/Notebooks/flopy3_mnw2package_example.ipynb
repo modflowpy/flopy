{
 "cells": [
  {
   "attachments": {},
   "cell_type": "markdown",
   "metadata": {},
   "source": [
    "# Working with the Multi-node Well (MNW2) Package"
   ]
  },
  {
   "cell_type": "code",
   "execution_count": null,
   "metadata": {
    "execution": {
     "iopub.execute_input": "2023-02-22T02:41:10.982844Z",
     "iopub.status.busy": "2023-02-22T02:41:10.982317Z",
     "iopub.status.idle": "2023-02-22T02:41:11.703514Z",
     "shell.execute_reply": "2023-02-22T02:41:11.702634Z"
    }
   },
   "outputs": [],
   "source": [
    "import sys\n",
    "import os\n",
    "from tempfile import TemporaryDirectory\n",
    "\n",
    "import numpy as np\n",
    "\n",
    "try:\n",
    "    import pandas as pd\n",
    "except:\n",
    "    pass\n",
    "\n",
    "# run installed version of flopy or add local path\n",
    "try:\n",
    "    import flopy\n",
    "except:\n",
    "    fpth = os.path.abspath(os.path.join(\"..\", \"..\"))\n",
    "    sys.path.append(fpth)\n",
    "    import flopy\n",
    "\n",
    "print(sys.version)\n",
    "print(\"numpy version: {}\".format(np.__version__))\n",
    "try:\n",
    "    print(\"pandas version: {}\".format(pd.__version__))\n",
    "except:\n",
    "    pass\n",
    "print(\"flopy version: {}\".format(flopy.__version__))"
   ]
  },
  {
   "cell_type": "markdown",
   "metadata": {},
   "source": [
    "### Make an MNW2 package from scratch"
   ]
  },
  {
   "cell_type": "code",
   "execution_count": null,
   "metadata": {
    "execution": {
     "iopub.execute_input": "2023-02-22T02:41:11.757667Z",
     "iopub.status.busy": "2023-02-22T02:41:11.757304Z",
     "iopub.status.idle": "2023-02-22T02:41:11.763141Z",
     "shell.execute_reply": "2023-02-22T02:41:11.762533Z"
    }
   },
   "outputs": [],
   "source": [
    "# temporary directory\n",
    "temp_dir = TemporaryDirectory()\n",
    "model_ws = temp_dir.name\n",
    "\n",
    "m = flopy.modflow.Modflow(\"mnw2example\", model_ws=model_ws)\n",
    "dis = flopy.modflow.ModflowDis(\n",
    "    nrow=5, ncol=5, nlay=3, nper=3, top=10, botm=0, model=m\n",
    ")"
   ]
  },
  {
   "cell_type": "markdown",
   "metadata": {},
   "source": [
    "### MNW2 information by node\n",
    "(this could be prepared externally from well reconds and read in from a csv or excel file)\n",
    "* this table has two multi-node wells, the first (well1) consisting of two nodes that are manually specified\n",
    "(where the variable **rw** is specified by node)\n",
    "* node that some variables that are constant for the whole well are also included (losstype, zpump, etc.)"
   ]
  },
  {
   "cell_type": "code",
   "execution_count": null,
   "metadata": {
    "execution": {
     "iopub.execute_input": "2023-02-22T02:41:11.766481Z",
     "iopub.status.busy": "2023-02-22T02:41:11.766196Z",
     "iopub.status.idle": "2023-02-22T02:41:11.792910Z",
     "shell.execute_reply": "2023-02-22T02:41:11.791747Z"
    }
   },
   "outputs": [],
   "source": [
    "node_data = pd.DataFrame(\n",
    "    [\n",
    "        [1, 1, 9.5, 7.1, \"well1\", \"skin\", -1, 0, 0, 0, 1.0, 2.0, 5.0, 6.2],\n",
    "        [1, 1, 7.1, 5.1, \"well1\", \"skin\", -1, 0, 0, 0, 0.5, 2.0, 5.0, 6.2],\n",
    "        [3, 3, 9.1, 3.7, \"well2\", \"skin\", -1, 0, 0, 0, 1.0, 2.0, 5.0, 4.1],\n",
    "    ],\n",
    "    columns=[\n",
    "        \"i\",\n",
    "        \"j\",\n",
    "        \"ztop\",\n",
    "        \"zbotm\",\n",
    "        \"wellid\",\n",
    "        \"losstype\",\n",
    "        \"pumploc\",\n",
    "        \"qlimit\",\n",
    "        \"ppflag\",\n",
    "        \"pumpcap\",\n",
    "        \"rw\",\n",
    "        \"rskin\",\n",
    "        \"kskin\",\n",
    "        \"zpump\",\n",
    "    ],\n",
    ")\n",
    "node_data"
   ]
  },
  {
   "cell_type": "markdown",
   "metadata": {},
   "source": [
    "#### convert the DataFrame to a recarray for compatibility with flopy"
   ]
  },
  {
   "cell_type": "code",
   "execution_count": null,
   "metadata": {
    "execution": {
     "iopub.execute_input": "2023-02-22T02:41:11.797189Z",
     "iopub.status.busy": "2023-02-22T02:41:11.796379Z",
     "iopub.status.idle": "2023-02-22T02:41:11.806454Z",
     "shell.execute_reply": "2023-02-22T02:41:11.805563Z"
    }
   },
   "outputs": [],
   "source": [
    "node_data = node_data.to_records()\n",
    "node_data"
   ]
  },
  {
   "cell_type": "markdown",
   "metadata": {},
   "source": [
    "### Stress period information\n",
    "(could also be developed externally)"
   ]
  },
  {
   "cell_type": "code",
   "execution_count": null,
   "metadata": {
    "execution": {
     "iopub.execute_input": "2023-02-22T02:41:11.810991Z",
     "iopub.status.busy": "2023-02-22T02:41:11.810348Z",
     "iopub.status.idle": "2023-02-22T02:41:11.822420Z",
     "shell.execute_reply": "2023-02-22T02:41:11.821682Z"
    }
   },
   "outputs": [],
   "source": [
    "stress_period_data = pd.DataFrame(\n",
    "    [\n",
    "        [0, \"well1\", 0],\n",
    "        [1, \"well1\", 100.0],\n",
    "        [0, \"well2\", 0],\n",
    "        [1, \"well2\", 1000.0],\n",
    "    ],\n",
    "    columns=[\"per\", \"wellid\", \"qdes\"],\n",
    ")\n",
    "stress_period_data"
   ]
  },
  {
   "cell_type": "code",
   "execution_count": null,
   "metadata": {
    "execution": {
     "iopub.execute_input": "2023-02-22T02:41:11.826389Z",
     "iopub.status.busy": "2023-02-22T02:41:11.825507Z",
     "iopub.status.idle": "2023-02-22T02:41:11.834659Z",
     "shell.execute_reply": "2023-02-22T02:41:11.833920Z"
    }
   },
   "outputs": [],
   "source": [
    "pers = stress_period_data.groupby(\"per\")\n",
    "stress_period_data = {i: pers.get_group(i).to_records() for i in [0, 1]}\n",
    "stress_period_data"
   ]
  },
  {
   "cell_type": "markdown",
   "metadata": {},
   "source": [
    "### Make ``ModflowMnw2`` package object\n",
    "* note that extraneous columns in node_data and stress_period_data are ignored\n",
    "* if itmp is positive, it must equal the number of active wells being specified in ``stress_period_data``, otherwise the package class will raise an error."
   ]
  },
  {
   "cell_type": "code",
   "execution_count": null,
   "metadata": {
    "execution": {
     "iopub.execute_input": "2023-02-22T02:41:11.838538Z",
     "iopub.status.busy": "2023-02-22T02:41:11.837926Z",
     "iopub.status.idle": "2023-02-22T02:41:11.850330Z",
     "shell.execute_reply": "2023-02-22T02:41:11.849547Z"
    }
   },
   "outputs": [],
   "source": [
    "mnw2 = flopy.modflow.ModflowMnw2(\n",
    "    model=m,\n",
    "    mnwmax=2,\n",
    "    node_data=node_data,\n",
    "    stress_period_data=stress_period_data,\n",
    "    itmp=[2, 2, -1],  # reuse second per pumping for last stress period\n",
    ")"
   ]
  },
  {
   "cell_type": "code",
   "execution_count": null,
   "metadata": {
    "execution": {
     "iopub.execute_input": "2023-02-22T02:41:11.854248Z",
     "iopub.status.busy": "2023-02-22T02:41:11.853617Z",
     "iopub.status.idle": "2023-02-22T02:41:11.858792Z",
     "shell.execute_reply": "2023-02-22T02:41:11.858040Z"
    }
   },
   "outputs": [],
   "source": [
    "# \"nodtot\" is computed automatically\n",
    "mnw2.nodtot"
   ]
  },
  {
   "cell_type": "code",
   "execution_count": null,
   "metadata": {
    "execution": {
     "iopub.execute_input": "2023-02-22T02:41:11.862726Z",
     "iopub.status.busy": "2023-02-22T02:41:11.862028Z",
     "iopub.status.idle": "2023-02-22T02:41:11.890833Z",
     "shell.execute_reply": "2023-02-22T02:41:11.890010Z"
    }
   },
   "outputs": [],
   "source": [
    "pd.DataFrame(mnw2.node_data)"
   ]
  },
  {
   "cell_type": "code",
   "execution_count": null,
   "metadata": {
    "execution": {
     "iopub.execute_input": "2023-02-22T02:41:11.894379Z",
     "iopub.status.busy": "2023-02-22T02:41:11.893888Z",
     "iopub.status.idle": "2023-02-22T02:41:11.905952Z",
     "shell.execute_reply": "2023-02-22T02:41:11.905311Z"
    }
   },
   "outputs": [],
   "source": [
    "pd.DataFrame(mnw2.stress_period_data[0])"
   ]
  },
  {
   "cell_type": "code",
   "execution_count": null,
   "metadata": {
    "execution": {
     "iopub.execute_input": "2023-02-22T02:41:11.909425Z",
     "iopub.status.busy": "2023-02-22T02:41:11.908905Z",
     "iopub.status.idle": "2023-02-22T02:41:11.921474Z",
     "shell.execute_reply": "2023-02-22T02:41:11.920831Z"
    }
   },
   "outputs": [],
   "source": [
    "pd.DataFrame(mnw2.stress_period_data[1])"
   ]
  },
  {
   "cell_type": "code",
   "execution_count": null,
   "metadata": {
    "execution": {
     "iopub.execute_input": "2023-02-22T02:41:11.925090Z",
     "iopub.status.busy": "2023-02-22T02:41:11.924546Z",
     "iopub.status.idle": "2023-02-22T02:41:11.928569Z",
     "shell.execute_reply": "2023-02-22T02:41:11.927924Z"
    }
   },
   "outputs": [],
   "source": [
    "tmp = flopy.modflow.ModflowMnw2(\n",
    "    model=m,\n",
    "    itmp=[1, 1, -1],  # reuse second per pumping for last stress period\n",
    ")"
   ]
  },
  {
   "cell_type": "markdown",
   "metadata": {},
   "source": [
    "### empty ``node_data`` and ``stress_period_data`` tables can also be generated by the package class, and then filled"
   ]
  },
  {
   "cell_type": "code",
   "execution_count": null,
   "metadata": {
    "execution": {
     "iopub.execute_input": "2023-02-22T02:41:11.932125Z",
     "iopub.status.busy": "2023-02-22T02:41:11.931554Z",
     "iopub.status.idle": "2023-02-22T02:41:11.940151Z",
     "shell.execute_reply": "2023-02-22T02:41:11.939056Z"
    }
   },
   "outputs": [],
   "source": [
    "node_data = tmp.get_empty_node_data(3)\n",
    "node_data"
   ]
  },
  {
   "cell_type": "markdown",
   "metadata": {},
   "source": [
    "### Mnw objects\n",
    "at the base of the flopy mnw2 module is the **Mnw** object class, which describes a single multi-node well.\n",
    "A list or dict of **Mnw** objects can be used to build a package (using the example above):\n",
    "```\n",
    "flopy.modflow.ModflowMnw2(model=m, mnwmax=2,\n",
    "                 mnw=<dict or list of Mnw objects>,\n",
    "                 itmp=[1, 1, -1], # reuse second per pumping for last stress period\n",
    "                 )\n",
    "```\n",
    "or if node_data and stress_period_data are supplied, the **Mnw** objects are created on initialization of the ModflowMnw2 class instance, and assigned to the ```.mnw``` attribute, as items in a dictionary keyed by ```wellid```."
   ]
  },
  {
   "cell_type": "code",
   "execution_count": null,
   "metadata": {
    "execution": {
     "iopub.execute_input": "2023-02-22T02:41:11.944070Z",
     "iopub.status.busy": "2023-02-22T02:41:11.943588Z",
     "iopub.status.idle": "2023-02-22T02:41:11.948190Z",
     "shell.execute_reply": "2023-02-22T02:41:11.947605Z"
    }
   },
   "outputs": [],
   "source": [
    "mnw2.mnw"
   ]
  },
  {
   "cell_type": "code",
   "execution_count": null,
   "metadata": {
    "execution": {
     "iopub.execute_input": "2023-02-22T02:41:11.951077Z",
     "iopub.status.busy": "2023-02-22T02:41:11.950712Z",
     "iopub.status.idle": "2023-02-22T02:41:11.955064Z",
     "shell.execute_reply": "2023-02-22T02:41:11.954344Z"
    }
   },
   "outputs": [],
   "source": [
    "mnw2.mnw[\"well1\"].rw"
   ]
  },
  {
   "cell_type": "markdown",
   "metadata": {},
   "source": [
    "Note that Mnw object attributes for variables that vary by node are lists (e.g. ``rw`` above)\n",
    "\n",
    "#### Each Mnw object has its own ``node_data`` and ``stress_period_data``"
   ]
  },
  {
   "cell_type": "code",
   "execution_count": null,
   "metadata": {
    "execution": {
     "iopub.execute_input": "2023-02-22T02:41:11.958425Z",
     "iopub.status.busy": "2023-02-22T02:41:11.957935Z",
     "iopub.status.idle": "2023-02-22T02:41:11.980242Z",
     "shell.execute_reply": "2023-02-22T02:41:11.979568Z"
    }
   },
   "outputs": [],
   "source": [
    "pd.DataFrame(mnw2.mnw[\"well1\"].node_data)"
   ]
  },
  {
   "cell_type": "markdown",
   "metadata": {},
   "source": [
    "#### Instead of a dict keyed by stress period, Mnw.stress_period_data is a recarray with pumping data listed by stress period for that well\n",
    "* note that data for period 2, where ``itmp`` < 1, is shown (was copied from s.p. 1 during construction of the **Mnw** object)"
   ]
  },
  {
   "cell_type": "code",
   "execution_count": null,
   "metadata": {
    "execution": {
     "iopub.execute_input": "2023-02-22T02:41:11.983099Z",
     "iopub.status.busy": "2023-02-22T02:41:11.982890Z",
     "iopub.status.idle": "2023-02-22T02:41:11.993463Z",
     "shell.execute_reply": "2023-02-22T02:41:11.992846Z"
    }
   },
   "outputs": [],
   "source": [
    "pd.DataFrame(mnw2.mnw[\"well2\"].stress_period_data)"
   ]
  },
  {
   "cell_type": "markdown",
   "metadata": {},
   "source": [
    "### Build the same package using only the ``Mnw`` objects"
   ]
  },
  {
   "cell_type": "code",
   "execution_count": null,
   "metadata": {
    "execution": {
     "iopub.execute_input": "2023-02-22T02:41:11.996433Z",
     "iopub.status.busy": "2023-02-22T02:41:11.996146Z",
     "iopub.status.idle": "2023-02-22T02:41:12.000773Z",
     "shell.execute_reply": "2023-02-22T02:41:12.000163Z"
    }
   },
   "outputs": [],
   "source": [
    "mnw2fromobj = flopy.modflow.ModflowMnw2(\n",
    "    model=m,\n",
    "    mnwmax=2,\n",
    "    mnw=mnw2.mnw,\n",
    "    itmp=[2, 2, -1],  # reuse second per pumping for last stress period\n",
    ")"
   ]
  },
  {
   "cell_type": "code",
   "execution_count": null,
   "metadata": {
    "execution": {
     "iopub.execute_input": "2023-02-22T02:41:12.004382Z",
     "iopub.status.busy": "2023-02-22T02:41:12.004018Z",
     "iopub.status.idle": "2023-02-22T02:41:12.021464Z",
     "shell.execute_reply": "2023-02-22T02:41:12.020895Z"
    }
   },
   "outputs": [],
   "source": [
    "pd.DataFrame(mnw2fromobj.node_data)"
   ]
  },
  {
   "cell_type": "code",
   "execution_count": null,
   "metadata": {
    "execution": {
     "iopub.execute_input": "2023-02-22T02:41:12.024194Z",
     "iopub.status.busy": "2023-02-22T02:41:12.023984Z",
     "iopub.status.idle": "2023-02-22T02:41:12.035039Z",
     "shell.execute_reply": "2023-02-22T02:41:12.034306Z"
    }
   },
   "outputs": [],
   "source": [
    "pd.DataFrame(mnw2fromobj.stress_period_data[0])"
   ]
  },
  {
   "cell_type": "code",
   "execution_count": null,
   "metadata": {
    "execution": {
     "iopub.execute_input": "2023-02-22T02:41:12.038753Z",
     "iopub.status.busy": "2023-02-22T02:41:12.038165Z",
     "iopub.status.idle": "2023-02-22T02:41:12.052837Z",
     "shell.execute_reply": "2023-02-22T02:41:12.052238Z"
    }
   },
   "outputs": [],
   "source": [
    "pd.DataFrame(mnw2fromobj.stress_period_data[1])"
   ]
  },
  {
   "cell_type": "markdown",
   "metadata": {},
   "source": [
    "### By default, the ``node_data`` and ``stress_period_data`` tables attached to the ``ModflowMnw2`` package class are definitive\n",
    "* on writing of the package output (``mnw2.write_file()``), the **Mnw** objects are regenerated from the tables. This setting is controlled by the default argument ``use_tables=True``. To write the package file using the **Mnw** objects (ignoring the tables), use ``mnw2.write_file(use_tables=False)``. "
   ]
  },
  {
   "cell_type": "code",
   "execution_count": null,
   "metadata": {
    "execution": {
     "iopub.execute_input": "2023-02-22T02:41:12.056126Z",
     "iopub.status.busy": "2023-02-22T02:41:12.055707Z",
     "iopub.status.idle": "2023-02-22T02:41:12.061074Z",
     "shell.execute_reply": "2023-02-22T02:41:12.060334Z"
    }
   },
   "outputs": [],
   "source": [
    "per1 = flopy.modflow.ModflowMnw2.get_empty_stress_period_data(itmp=2)\n",
    "per1"
   ]
  },
  {
   "cell_type": "markdown",
   "metadata": {},
   "source": [
    "### Write an MNW2 package file and inspect the results"
   ]
  },
  {
   "cell_type": "code",
   "execution_count": null,
   "metadata": {
    "execution": {
     "iopub.execute_input": "2023-02-22T02:41:12.064808Z",
     "iopub.status.busy": "2023-02-22T02:41:12.064253Z",
     "iopub.status.idle": "2023-02-22T02:41:12.074688Z",
     "shell.execute_reply": "2023-02-22T02:41:12.074000Z"
    }
   },
   "outputs": [],
   "source": [
    "mnw2.write_file(os.path.join(model_ws, \"test.mnw2\"))"
   ]
  },
  {
   "cell_type": "code",
   "execution_count": null,
   "metadata": {
    "execution": {
     "iopub.execute_input": "2023-02-22T02:41:12.078195Z",
     "iopub.status.busy": "2023-02-22T02:41:12.077683Z",
     "iopub.status.idle": "2023-02-22T02:41:12.082124Z",
     "shell.execute_reply": "2023-02-22T02:41:12.081543Z"
    }
   },
   "outputs": [],
   "source": [
    "junk = [\n",
    "    print(l.strip(\"\\n\"))\n",
    "    for l in open(os.path.join(model_ws, \"test.mnw2\")).readlines()\n",
    "]"
   ]
  },
  {
   "cell_type": "markdown",
   "metadata": {},
   "source": [
    "### Load some example MNW2 packages"
   ]
  },
  {
   "cell_type": "code",
   "execution_count": null,
   "metadata": {
    "execution": {
     "iopub.execute_input": "2023-02-22T02:41:12.085467Z",
     "iopub.status.busy": "2023-02-22T02:41:12.084793Z",
     "iopub.status.idle": "2023-02-22T02:41:12.186595Z",
     "shell.execute_reply": "2023-02-22T02:41:12.185231Z"
    }
   },
   "outputs": [],
   "source": [
    "path = os.path.join(\"..\", \"..\", \"examples\", \"data\", \"mnw2_examples\")\n",
    "m = flopy.modflow.Modflow(\"MNW2-Fig28\", model_ws=model_ws)\n",
    "dis = flopy.modflow.ModflowDis.load(os.path.join(path, \"MNW2-Fig28.dis\"), m)"
   ]
  },
  {
   "cell_type": "code",
   "execution_count": null,
   "metadata": {
    "execution": {
     "iopub.execute_input": "2023-02-22T02:41:12.190747Z",
     "iopub.status.busy": "2023-02-22T02:41:12.190432Z",
     "iopub.status.idle": "2023-02-22T02:41:12.195833Z",
     "shell.execute_reply": "2023-02-22T02:41:12.194986Z"
    }
   },
   "outputs": [],
   "source": [
    "m.get_package_list()"
   ]
  },
  {
   "cell_type": "code",
   "execution_count": null,
   "metadata": {
    "execution": {
     "iopub.execute_input": "2023-02-22T02:41:12.199264Z",
     "iopub.status.busy": "2023-02-22T02:41:12.198815Z",
     "iopub.status.idle": "2023-02-22T02:41:12.206309Z",
     "shell.execute_reply": "2023-02-22T02:41:12.205564Z"
    }
   },
   "outputs": [],
   "source": [
    "mnw2pth = os.path.join(path, \"MNW2-Fig28.mnw2\")\n",
    "mnw2 = flopy.modflow.ModflowMnw2.load(mnw2pth, m)"
   ]
  },
  {
   "cell_type": "code",
   "execution_count": null,
   "metadata": {
    "execution": {
     "iopub.execute_input": "2023-02-22T02:41:12.209909Z",
     "iopub.status.busy": "2023-02-22T02:41:12.209492Z",
     "iopub.status.idle": "2023-02-22T02:41:12.233986Z",
     "shell.execute_reply": "2023-02-22T02:41:12.233347Z"
    }
   },
   "outputs": [],
   "source": [
    "pd.DataFrame(mnw2.node_data)"
   ]
  },
  {
   "cell_type": "code",
   "execution_count": null,
   "metadata": {
    "execution": {
     "iopub.execute_input": "2023-02-22T02:41:12.237383Z",
     "iopub.status.busy": "2023-02-22T02:41:12.237006Z",
     "iopub.status.idle": "2023-02-22T02:41:12.251274Z",
     "shell.execute_reply": "2023-02-22T02:41:12.250477Z"
    }
   },
   "outputs": [],
   "source": [
    "pd.DataFrame(mnw2.stress_period_data[0])"
   ]
  },
  {
   "cell_type": "code",
   "execution_count": null,
   "metadata": {
    "execution": {
     "iopub.execute_input": "2023-02-22T02:41:12.255242Z",
     "iopub.status.busy": "2023-02-22T02:41:12.254457Z",
     "iopub.status.idle": "2023-02-22T02:41:12.259773Z",
     "shell.execute_reply": "2023-02-22T02:41:12.259027Z"
    }
   },
   "outputs": [],
   "source": [
    "mnw2.mnw"
   ]
  },
  {
   "cell_type": "code",
   "execution_count": null,
   "metadata": {
    "execution": {
     "iopub.execute_input": "2023-02-22T02:41:12.263140Z",
     "iopub.status.busy": "2023-02-22T02:41:12.262642Z",
     "iopub.status.idle": "2023-02-22T02:41:12.276793Z",
     "shell.execute_reply": "2023-02-22T02:41:12.276185Z"
    }
   },
   "outputs": [],
   "source": [
    "pd.DataFrame(mnw2.mnw[\"well-a\"].stress_period_data)"
   ]
  },
  {
   "cell_type": "code",
   "execution_count": null,
   "metadata": {
    "execution": {
     "iopub.execute_input": "2023-02-22T02:41:12.279882Z",
     "iopub.status.busy": "2023-02-22T02:41:12.279604Z",
     "iopub.status.idle": "2023-02-22T02:41:12.302976Z",
     "shell.execute_reply": "2023-02-22T02:41:12.302011Z"
    }
   },
   "outputs": [],
   "source": [
    "path = os.path.join(\"..\", \"..\", \"examples\", \"data\", \"mnw2_examples\")\n",
    "m = flopy.modflow.Modflow(\"br\", model_ws=model_ws)\n",
    "mnw2 = flopy.modflow.ModflowMnw2.load(path + \"/BadRiver_cal.mnw2\", m)"
   ]
  },
  {
   "cell_type": "code",
   "execution_count": null,
   "metadata": {
    "execution": {
     "iopub.execute_input": "2023-02-22T02:41:12.307702Z",
     "iopub.status.busy": "2023-02-22T02:41:12.307065Z",
     "iopub.status.idle": "2023-02-22T02:41:12.337508Z",
     "shell.execute_reply": "2023-02-22T02:41:12.336596Z"
    }
   },
   "outputs": [],
   "source": [
    "df = pd.DataFrame(mnw2.node_data)\n",
    "df.loc[:, df.sum(axis=0) != 0]"
   ]
  },
  {
   "cell_type": "code",
   "execution_count": null,
   "metadata": {
    "execution": {
     "iopub.execute_input": "2023-02-22T02:41:12.341545Z",
     "iopub.status.busy": "2023-02-22T02:41:12.340871Z",
     "iopub.status.idle": "2023-02-22T02:41:12.345573Z",
     "shell.execute_reply": "2023-02-22T02:41:12.344589Z"
    },
    "pycharm": {
     "name": "#%%\n"
    }
   },
   "outputs": [],
   "source": [
    "try:\n",
    "    # ignore PermissionError on Windows\n",
    "    temp_dir.cleanup()\n",
    "except:\n",
    "    pass"
   ]
  }
 ],
 "metadata": {
  "anaconda-cloud": {},
  "kernelspec": {
   "display_name": "Python 3 (ipykernel)",
   "language": "python",
   "name": "python3"
  },
  "language_info": {
   "codemirror_mode": {
    "name": "ipython",
    "version": 3
   },
   "file_extension": ".py",
   "mimetype": "text/x-python",
   "name": "python",
   "nbconvert_exporter": "python",
   "pygments_lexer": "ipython3",
   "version": "3.10.6"
  }
 },
 "nbformat": 4,
 "nbformat_minor": 4
}
