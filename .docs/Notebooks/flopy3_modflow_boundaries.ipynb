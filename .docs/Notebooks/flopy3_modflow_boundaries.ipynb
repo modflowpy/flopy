{
 "cells": [
  {
   "attachments": {},
   "cell_type": "markdown",
   "metadata": {},
   "source": [
    "# MODFLOW-2005 Basic stress packages\n",
    "\n",
    "Flopy has a new way to enter boundary conditions for some MODFLOW packages.  These changes are substantial.  Boundary conditions can now be entered as a list of boundaries, as a numpy recarray, or as a dictionary.  These different styles are described in this notebook.\n",
    "\n",
    "Flopy also now requires zero-based input.  This means that **all boundaries are entered in zero-based layer, row, and column indices**.  This means that older Flopy scripts will need to be modified to account for this change.  If you are familiar with Python, this should be natural, but if not, then it may take some time to get used to zero-based numbering.  Flopy users submit all information in zero-based form, and Flopy converts this to the one-based form required by MODFLOW.\n",
    "\n",
    "The following MODFLOW-2005 packages are affected by this change:\n",
    "\n",
    "  * Well\n",
    "  * Drain\n",
    "  * River\n",
    "  * General-Head Boundary\n",
    "  * Time-Variant Constant Head\n",
    "  \n",
    "This notebook explains the different ways to enter these types of boundary conditions.\n"
   ]
  },
  {
   "cell_type": "code",
   "execution_count": null,
   "metadata": {
    "execution": {
     "iopub.execute_input": "2023-05-02T02:55:51.560727Z",
     "iopub.status.busy": "2023-05-02T02:55:51.560332Z",
     "iopub.status.idle": "2023-05-02T02:55:53.953954Z",
     "shell.execute_reply": "2023-05-02T02:55:53.953177Z"
    }
   },
   "outputs": [],
   "source": [
    "# begin by importing flopy\n",
    "import os\n",
    "import sys\n",
    "from tempfile import TemporaryDirectory\n",
    "\n",
    "import numpy as np\n",
    "\n",
    "# run installed version of flopy or add local path\n",
    "try:\n",
    "    import flopy\n",
    "except:\n",
    "    fpth = os.path.abspath(os.path.join(\"..\", \"..\"))\n",
    "    sys.path.append(fpth)\n",
    "    import flopy\n",
    "\n",
    "# temporary directory\n",
    "temp_dir = TemporaryDirectory()\n",
    "workspace = os.path.join(temp_dir.name)\n",
    "\n",
    "print(sys.version)\n",
    "print(\"numpy version: {}\".format(np.__version__))\n",
    "print(\"flopy version: {}\".format(flopy.__version__))"
   ]
  },
  {
   "cell_type": "markdown",
   "metadata": {},
   "source": [
    "## List of Boundaries"
   ]
  },
  {
   "cell_type": "markdown",
   "metadata": {},
   "source": [
    "Boundary condition information is passed to a package constructor as stress_period_data.  In its simplest form, stress_period_data can be a list of individual boundaries, which themselves are lists.  The following shows a simple example for a MODFLOW River Package boundary:"
   ]
  },
  {
   "cell_type": "code",
   "execution_count": null,
   "metadata": {
    "execution": {
     "iopub.execute_input": "2023-05-02T02:55:54.024679Z",
     "iopub.status.busy": "2023-05-02T02:55:54.024304Z",
     "iopub.status.idle": "2023-05-02T02:55:54.033794Z",
     "shell.execute_reply": "2023-05-02T02:55:54.032969Z"
    }
   },
   "outputs": [],
   "source": [
    "stress_period_data = [\n",
    "    [\n",
    "        2,\n",
    "        3,\n",
    "        4,\n",
    "        10.7,\n",
    "        5000.0,\n",
    "        -5.7,\n",
    "    ],  # layer, row, column, stage, conductance, river bottom\n",
    "    [\n",
    "        2,\n",
    "        3,\n",
    "        5,\n",
    "        10.7,\n",
    "        5000.0,\n",
    "        -5.7,\n",
    "    ],  # layer, row, column, stage, conductance, river bottom\n",
    "    [\n",
    "        2,\n",
    "        3,\n",
    "        6,\n",
    "        10.7,\n",
    "        5000.0,\n",
    "        -5.7,\n",
    "    ],  # layer, row, column, stage, conductance, river bottom\n",
    "]\n",
    "m = flopy.modflow.Modflow(modelname=\"test\", model_ws=workspace)\n",
    "riv = flopy.modflow.ModflowRiv(m, stress_period_data=stress_period_data)\n",
    "m.write_input()"
   ]
  },
  {
   "cell_type": "markdown",
   "metadata": {},
   "source": [
    "If we look at the River Package created here, you see that the layer, row, and column numbers have been increased by one."
   ]
  },
  {
   "cell_type": "code",
   "execution_count": null,
   "metadata": {
    "execution": {
     "iopub.execute_input": "2023-05-02T02:55:54.038119Z",
     "iopub.status.busy": "2023-05-02T02:55:54.037796Z",
     "iopub.status.idle": "2023-05-02T02:55:54.204514Z",
     "shell.execute_reply": "2023-05-02T02:55:54.203079Z"
    }
   },
   "outputs": [],
   "source": [
    "!head -n 10 '../../examples/data/test.riv'"
   ]
  },
  {
   "cell_type": "markdown",
   "metadata": {},
   "source": [
    "If this model had more than one stress period, then Flopy will assume that this boundary condition information applies until the end of the simulation"
   ]
  },
  {
   "cell_type": "code",
   "execution_count": null,
   "metadata": {
    "execution": {
     "iopub.execute_input": "2023-05-02T02:55:54.208851Z",
     "iopub.status.busy": "2023-05-02T02:55:54.208375Z",
     "iopub.status.idle": "2023-05-02T02:55:54.358260Z",
     "shell.execute_reply": "2023-05-02T02:55:54.356763Z"
    }
   },
   "outputs": [],
   "source": [
    "m = flopy.modflow.Modflow(modelname=\"test\", model_ws=workspace)\n",
    "dis = flopy.modflow.ModflowDis(m, nper=3)\n",
    "riv = flopy.modflow.ModflowRiv(m, stress_period_data=stress_period_data)\n",
    "m.write_input()\n",
    "!head -n 10 '../../examples/data/test.riv'"
   ]
  },
  {
   "cell_type": "markdown",
   "metadata": {},
   "source": [
    "## Recarray of Boundaries\n",
    "\n",
    "Numpy allows the use of recarrays, which are numpy arrays in which each column of the array may be given a different type.  Boundary conditions can be entered as recarrays.  Information on the structure of the recarray for a boundary condition package can be obtained from that particular package.  The structure of the recarray is contained in the dtype.  "
   ]
  },
  {
   "cell_type": "code",
   "execution_count": null,
   "metadata": {
    "execution": {
     "iopub.execute_input": "2023-05-02T02:55:54.363560Z",
     "iopub.status.busy": "2023-05-02T02:55:54.362999Z",
     "iopub.status.idle": "2023-05-02T02:55:54.369271Z",
     "shell.execute_reply": "2023-05-02T02:55:54.368405Z"
    }
   },
   "outputs": [],
   "source": [
    "riv_dtype = flopy.modflow.ModflowRiv.get_default_dtype()\n",
    "print(riv_dtype)"
   ]
  },
  {
   "cell_type": "markdown",
   "metadata": {},
   "source": [
    "Now that we know the structure of the recarray that we want to create, we can create a new one as follows."
   ]
  },
  {
   "cell_type": "code",
   "execution_count": null,
   "metadata": {
    "execution": {
     "iopub.execute_input": "2023-05-02T02:55:54.372769Z",
     "iopub.status.busy": "2023-05-02T02:55:54.372468Z",
     "iopub.status.idle": "2023-05-02T02:55:54.379295Z",
     "shell.execute_reply": "2023-05-02T02:55:54.378157Z"
    }
   },
   "outputs": [],
   "source": [
    "stress_period_data = np.zeros((3), dtype=riv_dtype)\n",
    "stress_period_data = stress_period_data.view(np.recarray)\n",
    "print(\"stress_period_data: \", stress_period_data)\n",
    "print(\"type is: \", type(stress_period_data))"
   ]
  },
  {
   "cell_type": "markdown",
   "metadata": {},
   "source": [
    "We can then fill the recarray with our boundary conditions."
   ]
  },
  {
   "cell_type": "code",
   "execution_count": null,
   "metadata": {
    "execution": {
     "iopub.execute_input": "2023-05-02T02:55:54.383407Z",
     "iopub.status.busy": "2023-05-02T02:55:54.383105Z",
     "iopub.status.idle": "2023-05-02T02:55:54.389384Z",
     "shell.execute_reply": "2023-05-02T02:55:54.388460Z"
    }
   },
   "outputs": [],
   "source": [
    "stress_period_data[0] = (2, 3, 4, 10.7, 5000.0, -5.7)\n",
    "stress_period_data[1] = (2, 3, 5, 10.7, 5000.0, -5.7)\n",
    "stress_period_data[2] = (2, 3, 6, 10.7, 5000.0, -5.7)\n",
    "print(stress_period_data)"
   ]
  },
  {
   "cell_type": "code",
   "execution_count": null,
   "metadata": {
    "execution": {
     "iopub.execute_input": "2023-05-02T02:55:54.393176Z",
     "iopub.status.busy": "2023-05-02T02:55:54.392528Z",
     "iopub.status.idle": "2023-05-02T02:55:54.536119Z",
     "shell.execute_reply": "2023-05-02T02:55:54.535001Z"
    }
   },
   "outputs": [],
   "source": [
    "m = flopy.modflow.Modflow(modelname=\"test\", model_ws=workspace)\n",
    "riv = flopy.modflow.ModflowRiv(m, stress_period_data=stress_period_data)\n",
    "m.write_input()\n",
    "!head -n 10 '../../examples/data/test.riv'"
   ]
  },
  {
   "cell_type": "markdown",
   "metadata": {},
   "source": [
    "As before, if we have multiple stress periods, then this recarray will apply to all of them."
   ]
  },
  {
   "cell_type": "code",
   "execution_count": null,
   "metadata": {
    "execution": {
     "iopub.execute_input": "2023-05-02T02:55:54.540522Z",
     "iopub.status.busy": "2023-05-02T02:55:54.540130Z",
     "iopub.status.idle": "2023-05-02T02:55:54.685957Z",
     "shell.execute_reply": "2023-05-02T02:55:54.684591Z"
    }
   },
   "outputs": [],
   "source": [
    "m = flopy.modflow.Modflow(modelname=\"test\", model_ws=workspace)\n",
    "dis = flopy.modflow.ModflowDis(m, nper=3)\n",
    "riv = flopy.modflow.ModflowRiv(m, stress_period_data=stress_period_data)\n",
    "m.write_input()\n",
    "!head -n 10 '../../examples/data/test.riv'"
   ]
  },
  {
   "cell_type": "markdown",
   "metadata": {},
   "source": [
    "## Dictionary of Boundaries\n",
    "\n",
    "The power of the new functionality in Flopy3 is the ability to specify a dictionary for stress_period_data.  If specified as a dictionary, the key is the stress period number (**as a zero-based number**), and the value is either a nested list, an integer value of 0 or -1, or a recarray for that stress period.\n",
    "\n",
    "Let's say that we want to use the following schedule for our rivers:\n",
    "  0. No rivers in stress period zero\n",
    "  1. Rivers specified by a list in stress period 1\n",
    "  2. No rivers\n",
    "  3. No rivers\n",
    "  4. No rivers\n",
    "  5. Rivers specified by a recarray\n",
    "  6. Same recarray rivers\n",
    "  7. Same recarray rivers\n",
    "  8. Same recarray rivers\n"
   ]
  },
  {
   "cell_type": "code",
   "execution_count": null,
   "metadata": {
    "execution": {
     "iopub.execute_input": "2023-05-02T02:55:54.690932Z",
     "iopub.status.busy": "2023-05-02T02:55:54.690420Z",
     "iopub.status.idle": "2023-05-02T02:55:54.698293Z",
     "shell.execute_reply": "2023-05-02T02:55:54.697169Z"
    }
   },
   "outputs": [],
   "source": [
    "sp1 = [\n",
    "    [\n",
    "        2,\n",
    "        3,\n",
    "        4,\n",
    "        10.7,\n",
    "        5000.0,\n",
    "        -5.7,\n",
    "    ],  # layer, row, column, stage, conductance, river bottom\n",
    "    [\n",
    "        2,\n",
    "        3,\n",
    "        5,\n",
    "        10.7,\n",
    "        5000.0,\n",
    "        -5.7,\n",
    "    ],  # layer, row, column, stage, conductance, river bottom\n",
    "    [\n",
    "        2,\n",
    "        3,\n",
    "        6,\n",
    "        10.7,\n",
    "        5000.0,\n",
    "        -5.7,\n",
    "    ],  # layer, row, column, stage, conductance, river bottom\n",
    "]\n",
    "print(sp1)"
   ]
  },
  {
   "cell_type": "code",
   "execution_count": null,
   "metadata": {
    "execution": {
     "iopub.execute_input": "2023-05-02T02:55:54.702167Z",
     "iopub.status.busy": "2023-05-02T02:55:54.701776Z",
     "iopub.status.idle": "2023-05-02T02:55:54.712281Z",
     "shell.execute_reply": "2023-05-02T02:55:54.711321Z"
    }
   },
   "outputs": [],
   "source": [
    "riv_dtype = flopy.modflow.ModflowRiv.get_default_dtype()\n",
    "sp5 = np.zeros((3), dtype=riv_dtype)\n",
    "sp5 = sp5.view(np.recarray)\n",
    "sp5[0] = (2, 3, 4, 20.7, 5000.0, -5.7)\n",
    "sp5[1] = (2, 3, 5, 20.7, 5000.0, -5.7)\n",
    "sp5[2] = (2, 3, 6, 20.7, 5000.0, -5.7)\n",
    "print(sp5)"
   ]
  },
  {
   "cell_type": "code",
   "execution_count": null,
   "metadata": {
    "execution": {
     "iopub.execute_input": "2023-05-02T02:55:54.716078Z",
     "iopub.status.busy": "2023-05-02T02:55:54.715677Z",
     "iopub.status.idle": "2023-05-02T02:55:54.864234Z",
     "shell.execute_reply": "2023-05-02T02:55:54.862613Z"
    }
   },
   "outputs": [],
   "source": [
    "sp_dict = {0: 0, 1: sp1, 2: 0, 5: sp5}\n",
    "m = flopy.modflow.Modflow(modelname=\"test\", model_ws=workspace)\n",
    "dis = flopy.modflow.ModflowDis(m, nper=8)\n",
    "riv = flopy.modflow.ModflowRiv(m, stress_period_data=sp_dict)\n",
    "m.write_input()\n",
    "!head -n 10 '../../examples/data/test.riv'"
   ]
  },
  {
   "cell_type": "markdown",
   "metadata": {},
   "source": [
    "## MODFLOW Auxiliary Variables\n",
    "\n",
    "Flopy works with MODFLOW auxiliary variables by allowing the recarray to contain additional columns of information.  The auxiliary variables must be specified as package options as shown in the example below.\n",
    "\n",
    "In this example, we also add a string in the last column of the list in order to name each boundary condition.  In this case, however, we do not include boundname as an auxiliary variable as MODFLOW would try to read it as a floating point number."
   ]
  },
  {
   "cell_type": "code",
   "execution_count": null,
   "metadata": {
    "execution": {
     "iopub.execute_input": "2023-05-02T02:55:54.869414Z",
     "iopub.status.busy": "2023-05-02T02:55:54.868899Z",
     "iopub.status.idle": "2023-05-02T02:55:54.878847Z",
     "shell.execute_reply": "2023-05-02T02:55:54.877763Z"
    }
   },
   "outputs": [],
   "source": [
    "# create an empty array with an iface auxiliary variable at the end\n",
    "riva_dtype = [\n",
    "    (\"k\", \"<i8\"),\n",
    "    (\"i\", \"<i8\"),\n",
    "    (\"j\", \"<i8\"),\n",
    "    (\"stage\", \"<f4\"),\n",
    "    (\"cond\", \"<f4\"),\n",
    "    (\"rbot\", \"<f4\"),\n",
    "    (\"iface\", \"<i4\"),\n",
    "    (\"boundname\", object),\n",
    "]\n",
    "riva_dtype = np.dtype(riva_dtype)\n",
    "stress_period_data = np.zeros((3), dtype=riva_dtype)\n",
    "stress_period_data = stress_period_data.view(np.recarray)\n",
    "print(\"stress_period_data: \", stress_period_data)\n",
    "print(\"type is: \", type(stress_period_data))"
   ]
  },
  {
   "cell_type": "code",
   "execution_count": null,
   "metadata": {
    "execution": {
     "iopub.execute_input": "2023-05-02T02:55:54.882666Z",
     "iopub.status.busy": "2023-05-02T02:55:54.882302Z",
     "iopub.status.idle": "2023-05-02T02:55:54.887869Z",
     "shell.execute_reply": "2023-05-02T02:55:54.887140Z"
    }
   },
   "outputs": [],
   "source": [
    "stress_period_data[0] = (2, 3, 4, 10.7, 5000.0, -5.7, 1, \"riv1\")\n",
    "stress_period_data[1] = (2, 3, 5, 10.7, 5000.0, -5.7, 2, \"riv2\")\n",
    "stress_period_data[2] = (2, 3, 6, 10.7, 5000.0, -5.7, 3, \"riv3\")\n",
    "print(stress_period_data)"
   ]
  },
  {
   "cell_type": "code",
   "execution_count": null,
   "metadata": {
    "execution": {
     "iopub.execute_input": "2023-05-02T02:55:54.890733Z",
     "iopub.status.busy": "2023-05-02T02:55:54.890428Z",
     "iopub.status.idle": "2023-05-02T02:55:55.035982Z",
     "shell.execute_reply": "2023-05-02T02:55:55.034838Z"
    }
   },
   "outputs": [],
   "source": [
    "m = flopy.modflow.Modflow(modelname=\"test\", model_ws=workspace)\n",
    "riv = flopy.modflow.ModflowRiv(\n",
    "    m,\n",
    "    stress_period_data=stress_period_data,\n",
    "    dtype=riva_dtype,\n",
    "    options=[\"aux iface\"],\n",
    ")\n",
    "m.write_input()\n",
    "!head -n 10 '../../examples/data/test.riv'"
   ]
  },
  {
   "cell_type": "markdown",
   "metadata": {},
   "source": [
    "## Working with Unstructured Grids\n",
    "\n",
    "Flopy can create an unstructured grid boundary condition package for MODFLOW-USG.  This can be done by specifying a custom dtype for the recarray.  The following shows an example of how that can be done."
   ]
  },
  {
   "cell_type": "code",
   "execution_count": null,
   "metadata": {
    "execution": {
     "iopub.execute_input": "2023-05-02T02:55:55.040437Z",
     "iopub.status.busy": "2023-05-02T02:55:55.039982Z",
     "iopub.status.idle": "2023-05-02T02:55:55.048120Z",
     "shell.execute_reply": "2023-05-02T02:55:55.047303Z"
    }
   },
   "outputs": [],
   "source": [
    "# create an empty array based on nodenumber instead of layer, row, and column\n",
    "rivu_dtype = [\n",
    "    (\"nodenumber\", \"<i8\"),\n",
    "    (\"stage\", \"<f4\"),\n",
    "    (\"cond\", \"<f4\"),\n",
    "    (\"rbot\", \"<f4\"),\n",
    "]\n",
    "rivu_dtype = np.dtype(rivu_dtype)\n",
    "stress_period_data = np.zeros((3), dtype=rivu_dtype)\n",
    "stress_period_data = stress_period_data.view(np.recarray)\n",
    "print(\"stress_period_data: \", stress_period_data)\n",
    "print(\"type is: \", type(stress_period_data))"
   ]
  },
  {
   "cell_type": "code",
   "execution_count": null,
   "metadata": {
    "execution": {
     "iopub.execute_input": "2023-05-02T02:55:55.051131Z",
     "iopub.status.busy": "2023-05-02T02:55:55.050818Z",
     "iopub.status.idle": "2023-05-02T02:55:55.056459Z",
     "shell.execute_reply": "2023-05-02T02:55:55.055761Z"
    }
   },
   "outputs": [],
   "source": [
    "stress_period_data[0] = (77, 10.7, 5000.0, -5.7)\n",
    "stress_period_data[1] = (245, 10.7, 5000.0, -5.7)\n",
    "stress_period_data[2] = (450034, 10.7, 5000.0, -5.7)\n",
    "print(stress_period_data)"
   ]
  },
  {
   "cell_type": "code",
   "execution_count": null,
   "metadata": {
    "execution": {
     "iopub.execute_input": "2023-05-02T02:55:55.059686Z",
     "iopub.status.busy": "2023-05-02T02:55:55.059367Z",
     "iopub.status.idle": "2023-05-02T02:55:55.202763Z",
     "shell.execute_reply": "2023-05-02T02:55:55.201429Z"
    }
   },
   "outputs": [],
   "source": [
    "m = flopy.modflow.Modflow(modelname=\"test\", model_ws=workspace)\n",
    "riv = flopy.modflow.ModflowRiv(\n",
    "    m, stress_period_data=stress_period_data, dtype=rivu_dtype\n",
    ")\n",
    "m.write_input()\n",
    "!head -n 10 '../../examples/data/test.riv'"
   ]
  },
  {
   "cell_type": "markdown",
   "metadata": {},
   "source": [
    "## Combining two boundary condition packages"
   ]
  },
  {
   "cell_type": "code",
   "execution_count": null,
   "metadata": {
    "execution": {
     "iopub.execute_input": "2023-05-02T02:55:55.207399Z",
     "iopub.status.busy": "2023-05-02T02:55:55.206904Z",
     "iopub.status.idle": "2023-05-02T02:55:55.357645Z",
     "shell.execute_reply": "2023-05-02T02:55:55.356546Z"
    }
   },
   "outputs": [],
   "source": [
    "ml = flopy.modflow.Modflow(modelname=\"test\", model_ws=workspace)\n",
    "dis = flopy.modflow.ModflowDis(ml, 10, 10, 10, 10)\n",
    "sp_data1 = {3: [1, 1, 1, 1.0], 5: [1, 2, 4, 4.0]}\n",
    "wel1 = flopy.modflow.ModflowWel(ml, stress_period_data=sp_data1)\n",
    "ml.write_input()\n",
    "!head -n 10 '../../examples/data/test.wel'"
   ]
  },
  {
   "cell_type": "code",
   "execution_count": null,
   "metadata": {
    "execution": {
     "iopub.execute_input": "2023-05-02T02:55:55.361629Z",
     "iopub.status.busy": "2023-05-02T02:55:55.361189Z",
     "iopub.status.idle": "2023-05-02T02:55:55.505987Z",
     "shell.execute_reply": "2023-05-02T02:55:55.504886Z"
    }
   },
   "outputs": [],
   "source": [
    "sp_data2 = {0: [1, 1, 3, 3.0], 8: [9, 2, 4, 4.0]}\n",
    "wel2 = flopy.modflow.ModflowWel(ml, stress_period_data=sp_data2)\n",
    "ml.write_input()\n",
    "!head -n 10 '../../examples/data/test.wel'"
   ]
  },
  {
   "cell_type": "markdown",
   "metadata": {},
   "source": [
    "Now we create a third wel package, using the ```MfList.append()``` method:"
   ]
  },
  {
   "cell_type": "code",
   "execution_count": null,
   "metadata": {
    "execution": {
     "iopub.execute_input": "2023-05-02T02:55:55.511058Z",
     "iopub.status.busy": "2023-05-02T02:55:55.510468Z",
     "iopub.status.idle": "2023-05-02T02:55:55.661678Z",
     "shell.execute_reply": "2023-05-02T02:55:55.660458Z"
    },
    "pycharm": {
     "name": "#%%\n"
    }
   },
   "outputs": [],
   "source": [
    "wel3 = flopy.modflow.ModflowWel(\n",
    "    ml,\n",
    "    stress_period_data=wel2.stress_period_data.append(wel1.stress_period_data),\n",
    ")\n",
    "ml.write_input()\n",
    "!head -n 10 '../../examples/data/test.wel'"
   ]
  }
 ],
 "metadata": {
  "anaconda-cloud": {},
  "kernelspec": {
   "display_name": "Python 3 (ipykernel)",
   "language": "python",
   "name": "python3"
  },
  "language_info": {
   "codemirror_mode": {
    "name": "ipython",
    "version": 3
   },
   "file_extension": ".py",
   "mimetype": "text/x-python",
   "name": "python",
   "nbconvert_exporter": "python",
   "pygments_lexer": "ipython3",
   "version": "3.11.0"
  }
 },
 "nbformat": 4,
 "nbformat_minor": 4
}
