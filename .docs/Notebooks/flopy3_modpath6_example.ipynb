{
 "cells": [
  {
   "attachments": {},
   "cell_type": "markdown",
   "metadata": {},
   "source": [
    "# Working with MODPATH 6\n",
    "\n",
    "This notebook demonstrates forward and backward tracking with MODPATH. The notebook also shows how to create subsets of pathline and endpoint information, plot MODPATH results on ModelMap objects, and export endpoints and pathlines as shapefiles."
   ]
  },
  {
   "cell_type": "code",
   "execution_count": null,
   "metadata": {
    "execution": {
     "iopub.execute_input": "2023-05-02T02:56:57.053936Z",
     "iopub.status.busy": "2023-05-02T02:56:57.053617Z",
     "iopub.status.idle": "2023-05-02T02:56:59.121986Z",
     "shell.execute_reply": "2023-05-02T02:56:59.121066Z"
    }
   },
   "outputs": [],
   "source": [
    "import sys\n",
    "import shutil\n",
    "import os\n",
    "import glob\n",
    "from tempfile import TemporaryDirectory\n",
    "\n",
    "import numpy as np\n",
    "import pandas as pd\n",
    "import matplotlib as mpl\n",
    "import matplotlib.pyplot as plt\n",
    "\n",
    "# run installed version of flopy or add local path\n",
    "try:\n",
    "    import flopy\n",
    "except:\n",
    "    fpth = os.path.abspath(os.path.join(\"..\", \"..\"))\n",
    "    sys.path.append(fpth)\n",
    "    import flopy\n",
    "\n",
    "print(sys.version)\n",
    "print(\"numpy version: {}\".format(np.__version__))\n",
    "print(\"matplotlib version: {}\".format(mpl.__version__))\n",
    "print(\"pandas version: {}\".format(pd.__version__))\n",
    "print(\"flopy version: {}\".format(flopy.__version__))"
   ]
  },
  {
   "cell_type": "markdown",
   "metadata": {},
   "source": [
    "Load the MODFLOW model, then switch to a temporary working directory."
   ]
  },
  {
   "cell_type": "code",
   "execution_count": null,
   "metadata": {
    "execution": {
     "iopub.execute_input": "2023-05-02T02:56:59.179736Z",
     "iopub.status.busy": "2023-05-02T02:56:59.179327Z",
     "iopub.status.idle": "2023-05-02T02:56:59.238317Z",
     "shell.execute_reply": "2023-05-02T02:56:59.236909Z"
    }
   },
   "outputs": [],
   "source": [
    "from pathlib import Path\n",
    "\n",
    "# temporary directory\n",
    "temp_dir = TemporaryDirectory()\n",
    "model_ws = temp_dir.name\n",
    "\n",
    "model_path = Path.cwd().parent.parent / \"examples\" / \"data\" / \"mp6\"\n",
    "mffiles = list(model_path.glob(\"EXAMPLE.*\"))\n",
    "\n",
    "m = flopy.modflow.Modflow.load(\"EXAMPLE.nam\", model_ws=model_path)\n",
    "\n",
    "hdsfile = flopy.utils.HeadFile(os.path.join(model_path, \"EXAMPLE.HED\"))\n",
    "hdsfile.get_kstpkper()\n",
    "\n",
    "hds = hdsfile.get_data(kstpkper=(0, 2))"
   ]
  },
  {
   "cell_type": "markdown",
   "metadata": {},
   "source": [
    "Plot RIV bc and head results."
   ]
  },
  {
   "cell_type": "code",
   "execution_count": null,
   "metadata": {
    "execution": {
     "iopub.execute_input": "2023-05-02T02:56:59.243076Z",
     "iopub.status.busy": "2023-05-02T02:56:59.242093Z",
     "iopub.status.idle": "2023-05-02T02:56:59.593248Z",
     "shell.execute_reply": "2023-05-02T02:56:59.591831Z"
    }
   },
   "outputs": [],
   "source": [
    "plt.imshow(hds[4, :, :])\n",
    "plt.colorbar();"
   ]
  },
  {
   "cell_type": "code",
   "execution_count": null,
   "metadata": {
    "execution": {
     "iopub.execute_input": "2023-05-02T02:56:59.597609Z",
     "iopub.status.busy": "2023-05-02T02:56:59.596703Z",
     "iopub.status.idle": "2023-05-02T02:56:59.952757Z",
     "shell.execute_reply": "2023-05-02T02:56:59.951580Z"
    }
   },
   "outputs": [],
   "source": [
    "fig = plt.figure(figsize=(8, 8))\n",
    "ax = fig.add_subplot(1, 1, 1, aspect=\"equal\")\n",
    "mapview = flopy.plot.PlotMapView(model=m, layer=4)\n",
    "quadmesh = mapview.plot_ibound()\n",
    "linecollection = mapview.plot_grid()\n",
    "riv = mapview.plot_bc(\"RIV\", color=\"g\", plotAll=True)\n",
    "quadmesh = mapview.plot_bc(\"WEL\", kper=1, plotAll=True)\n",
    "contour_set = mapview.contour_array(\n",
    "    hds, levels=np.arange(np.min(hds), np.max(hds), 0.5), colors=\"b\"\n",
    ")\n",
    "plt.clabel(contour_set, inline=1, fontsize=14);"
   ]
  },
  {
   "cell_type": "markdown",
   "metadata": {},
   "source": [
    "Now create forward particle tracking simulation where particles are released at the top of each cell in layer 1:\n",
    "* specifying the recharge package in ```create_mpsim``` releases a single particle on iface=6 of each top cell  \n",
    "* start the particles at begining of per 3, step 1, as in example 3 in MODPATH6 manual\n",
    "\n",
    "**Note:** in FloPy version 3.3.5 and previous, the `Modpath6` constructor `dis_file`, `head_file` and `budget_file` arguments expected filenames relative to the model workspace. In 3.3.6 and later, full paths must be provided &mdash; if they are not, discretization, head and budget data are read directly from the model, as before."
   ]
  },
  {
   "cell_type": "code",
   "execution_count": null,
   "metadata": {
    "execution": {
     "iopub.execute_input": "2023-05-02T02:56:59.956704Z",
     "iopub.status.busy": "2023-05-02T02:56:59.956320Z",
     "iopub.status.idle": "2023-05-02T02:57:00.170931Z",
     "shell.execute_reply": "2023-05-02T02:57:00.169356Z"
    }
   },
   "outputs": [],
   "source": [
    "from os.path import join\n",
    "\n",
    "mp = flopy.modpath.Modpath6(\n",
    "    modelname=\"ex6\",\n",
    "    exe_name=\"mp6\",\n",
    "    modflowmodel=m,\n",
    "    model_ws=str(model_path),\n",
    ")\n",
    "\n",
    "mpb = flopy.modpath.Modpath6Bas(\n",
    "    mp, hdry=m.lpf.hdry, laytyp=m.lpf.laytyp, ibound=1, prsity=0.1\n",
    ")\n",
    "\n",
    "# start the particles at begining of per 3, step 1, as in example 3 in MODPATH6 manual\n",
    "# (otherwise particles will all go to river)\n",
    "sim = mp.create_mpsim(\n",
    "    trackdir=\"forward\",\n",
    "    simtype=\"pathline\",\n",
    "    packages=\"RCH\",\n",
    "    start_time=(2, 0, 1.0),\n",
    ")\n",
    "\n",
    "shutil.copy(model_path / \"EXAMPLE.DIS\", join(model_ws, \"EXAMPLE.DIS\"))\n",
    "shutil.copy(model_path / \"EXAMPLE.HED\", join(model_ws, \"EXAMPLE.HED\"))\n",
    "shutil.copy(model_path / \"EXAMPLE.BUD\", join(model_ws, \"EXAMPLE.BUD\"))\n",
    "\n",
    "mp.change_model_ws(model_ws)\n",
    "mp.write_name_file()\n",
    "mp.write_input()\n",
    "success, buff = mp.run_model(silent=True, report=True)\n",
    "if success:\n",
    "    for line in buff:\n",
    "        print(line)\n",
    "else:\n",
    "    raise ValueError(\"Failed to run.\")"
   ]
  },
  {
   "cell_type": "markdown",
   "metadata": {},
   "source": [
    "Read in the endpoint file and plot particles that terminated in the well."
   ]
  },
  {
   "cell_type": "code",
   "execution_count": null,
   "metadata": {
    "execution": {
     "iopub.execute_input": "2023-05-02T02:57:00.175247Z",
     "iopub.status.busy": "2023-05-02T02:57:00.174821Z",
     "iopub.status.idle": "2023-05-02T02:57:00.207589Z",
     "shell.execute_reply": "2023-05-02T02:57:00.206039Z"
    }
   },
   "outputs": [],
   "source": [
    "fpth = os.path.join(model_ws, \"ex6.mpend\")\n",
    "epobj = flopy.utils.EndpointFile(fpth)\n",
    "well_epd = epobj.get_destination_endpoint_data(dest_cells=[(4, 12, 12)])\n",
    "# returns record array of same form as epobj.get_all_data()"
   ]
  },
  {
   "cell_type": "code",
   "execution_count": null,
   "metadata": {
    "execution": {
     "iopub.execute_input": "2023-05-02T02:57:00.211926Z",
     "iopub.status.busy": "2023-05-02T02:57:00.210900Z",
     "iopub.status.idle": "2023-05-02T02:57:00.223297Z",
     "shell.execute_reply": "2023-05-02T02:57:00.221717Z"
    }
   },
   "outputs": [],
   "source": [
    "well_epd[0:2]"
   ]
  },
  {
   "cell_type": "code",
   "execution_count": null,
   "metadata": {
    "execution": {
     "iopub.execute_input": "2023-05-02T02:57:00.227465Z",
     "iopub.status.busy": "2023-05-02T02:57:00.227104Z",
     "iopub.status.idle": "2023-05-02T02:57:00.747962Z",
     "shell.execute_reply": "2023-05-02T02:57:00.746535Z"
    }
   },
   "outputs": [],
   "source": [
    "fig = plt.figure(figsize=(8, 8))\n",
    "ax = fig.add_subplot(1, 1, 1, aspect=\"equal\")\n",
    "mapview = flopy.plot.PlotMapView(model=m, layer=2)\n",
    "quadmesh = mapview.plot_ibound()\n",
    "linecollection = mapview.plot_grid()\n",
    "riv = mapview.plot_bc(\"RIV\", color=\"g\", plotAll=True)\n",
    "quadmesh = mapview.plot_bc(\"WEL\", kper=1, plotAll=True)\n",
    "contour_set = mapview.contour_array(\n",
    "    hds, levels=np.arange(np.min(hds), np.max(hds), 0.5), colors=\"b\"\n",
    ")\n",
    "plt.clabel(contour_set, inline=1, fontsize=14)\n",
    "mapview.plot_endpoint(well_epd, direction=\"starting\", colorbar=True);"
   ]
  },
  {
   "cell_type": "markdown",
   "metadata": {},
   "source": [
    "Write starting locations to a shapefile."
   ]
  },
  {
   "cell_type": "code",
   "execution_count": null,
   "metadata": {
    "execution": {
     "iopub.execute_input": "2023-05-02T02:57:00.751650Z",
     "iopub.status.busy": "2023-05-02T02:57:00.751280Z",
     "iopub.status.idle": "2023-05-02T02:57:00.787780Z",
     "shell.execute_reply": "2023-05-02T02:57:00.786198Z"
    }
   },
   "outputs": [],
   "source": [
    "fpth = os.path.join(model_ws, \"starting_locs.shp\")\n",
    "print(type(fpth))\n",
    "epobj.write_shapefile(\n",
    "    well_epd, direction=\"starting\", shpname=fpth, mg=m.modelgrid\n",
    ")"
   ]
  },
  {
   "cell_type": "markdown",
   "metadata": {},
   "source": [
    "Read in the pathline file and subset to pathlines that terminated in the well  ."
   ]
  },
  {
   "cell_type": "code",
   "execution_count": null,
   "metadata": {
    "execution": {
     "iopub.execute_input": "2023-05-02T02:57:00.792374Z",
     "iopub.status.busy": "2023-05-02T02:57:00.791370Z",
     "iopub.status.idle": "2023-05-02T02:57:00.853026Z",
     "shell.execute_reply": "2023-05-02T02:57:00.851622Z"
    }
   },
   "outputs": [],
   "source": [
    "# make a selection of cells that terminate in the well cell = (4, 12, 12)\n",
    "pthobj = flopy.utils.PathlineFile(os.path.join(model_ws, \"ex6.mppth\"))\n",
    "well_pathlines = pthobj.get_destination_pathline_data(dest_cells=[(4, 12, 12)])"
   ]
  },
  {
   "cell_type": "markdown",
   "metadata": {},
   "source": [
    "Plot the pathlines that terminate in the well and the starting locations of the particles."
   ]
  },
  {
   "cell_type": "code",
   "execution_count": null,
   "metadata": {
    "execution": {
     "iopub.execute_input": "2023-05-02T02:57:00.857039Z",
     "iopub.status.busy": "2023-05-02T02:57:00.856255Z",
     "iopub.status.idle": "2023-05-02T02:57:01.392417Z",
     "shell.execute_reply": "2023-05-02T02:57:01.390959Z"
    }
   },
   "outputs": [],
   "source": [
    "fig = plt.figure(figsize=(8, 8))\n",
    "ax = fig.add_subplot(1, 1, 1, aspect=\"equal\")\n",
    "mapview = flopy.plot.PlotMapView(model=m, layer=2)\n",
    "quadmesh = mapview.plot_ibound()\n",
    "linecollection = mapview.plot_grid()\n",
    "riv = mapview.plot_bc(\"RIV\", color=\"g\", plotAll=True)\n",
    "quadmesh = mapview.plot_bc(\"WEL\", kper=1, plotAll=True)\n",
    "contour_set = mapview.contour_array(\n",
    "    hds, levels=np.arange(np.min(hds), np.max(hds), 0.5), colors=\"b\"\n",
    ")\n",
    "plt.clabel(contour_set, inline=1, fontsize=14)\n",
    "\n",
    "mapview.plot_endpoint(well_epd, direction=\"starting\", colorbar=True)\n",
    "# for now, each particle must be plotted individually\n",
    "# (plot_pathline() will plot a single line for recarray with multiple particles)\n",
    "# for pid in np.unique(well_pathlines.particleid):\n",
    "#   modelmap.plot_pathline(pthobj.get_data(pid), layer='all', colors='red');\n",
    "mapview.plot_pathline(well_pathlines, layer=\"all\", colors=\"red\");"
   ]
  },
  {
   "cell_type": "markdown",
   "metadata": {},
   "source": [
    "Write pathlines to a shapefile."
   ]
  },
  {
   "cell_type": "code",
   "execution_count": null,
   "metadata": {
    "execution": {
     "iopub.execute_input": "2023-05-02T02:57:01.398025Z",
     "iopub.status.busy": "2023-05-02T02:57:01.397231Z",
     "iopub.status.idle": "2023-05-02T02:57:01.682555Z",
     "shell.execute_reply": "2023-05-02T02:57:01.681234Z"
    }
   },
   "outputs": [],
   "source": [
    "# one line feature per particle\n",
    "pthobj.write_shapefile(\n",
    "    well_pathlines,\n",
    "    direction=\"starting\",\n",
    "    shpname=os.path.join(model_ws, \"pathlines.shp\"),\n",
    "    mg=m.modelgrid,\n",
    "    verbose=False,\n",
    ")\n",
    "\n",
    "# one line feature for each row in pathline file\n",
    "# (can be used to color lines by time or layer in a GIS)\n",
    "pthobj.write_shapefile(\n",
    "    well_pathlines,\n",
    "    one_per_particle=False,\n",
    "    shpname=os.path.join(model_ws, \"pathlines_1per.shp\"),\n",
    "    mg=m.modelgrid,\n",
    "    verbose=False,\n",
    ")"
   ]
  },
  {
   "cell_type": "markdown",
   "metadata": {},
   "source": [
    "Replace WEL package with MNW2, and create backward tracking simulation using particles released at MNW well."
   ]
  },
  {
   "cell_type": "code",
   "execution_count": null,
   "metadata": {
    "execution": {
     "iopub.execute_input": "2023-05-02T02:57:01.687138Z",
     "iopub.status.busy": "2023-05-02T02:57:01.686185Z",
     "iopub.status.idle": "2023-05-02T02:57:01.732431Z",
     "shell.execute_reply": "2023-05-02T02:57:01.731033Z"
    }
   },
   "outputs": [],
   "source": [
    "m2 = flopy.modflow.Modflow.load(\n",
    "    \"EXAMPLE.nam\", model_ws=str(model_path), exe_name=\"mf2005\"\n",
    ")\n",
    "m2.get_package_list()"
   ]
  },
  {
   "cell_type": "code",
   "execution_count": null,
   "metadata": {
    "execution": {
     "iopub.execute_input": "2023-05-02T02:57:01.736213Z",
     "iopub.status.busy": "2023-05-02T02:57:01.735513Z",
     "iopub.status.idle": "2023-05-02T02:57:01.742858Z",
     "shell.execute_reply": "2023-05-02T02:57:01.741449Z"
    }
   },
   "outputs": [],
   "source": [
    "m2.nrow_ncol_nlay_nper"
   ]
  },
  {
   "cell_type": "code",
   "execution_count": null,
   "metadata": {
    "execution": {
     "iopub.execute_input": "2023-05-02T02:57:01.746959Z",
     "iopub.status.busy": "2023-05-02T02:57:01.745979Z",
     "iopub.status.idle": "2023-05-02T02:57:01.754340Z",
     "shell.execute_reply": "2023-05-02T02:57:01.752957Z"
    }
   },
   "outputs": [],
   "source": [
    "m2.wel.stress_period_data.data"
   ]
  },
  {
   "cell_type": "code",
   "execution_count": null,
   "metadata": {
    "execution": {
     "iopub.execute_input": "2023-05-02T02:57:01.757668Z",
     "iopub.status.busy": "2023-05-02T02:57:01.757329Z",
     "iopub.status.idle": "2023-05-02T02:57:01.765828Z",
     "shell.execute_reply": "2023-05-02T02:57:01.764506Z"
    }
   },
   "outputs": [],
   "source": [
    "node_data = np.array(\n",
    "    [\n",
    "        (3, 12, 12, \"well1\", \"skin\", -1, 0, 0, 0, 1.0, 2.0, 5.0, 6.2),\n",
    "        (4, 12, 12, \"well1\", \"skin\", -1, 0, 0, 0, 0.5, 2.0, 5.0, 6.2),\n",
    "    ],\n",
    "    dtype=[\n",
    "        (\"k\", int),\n",
    "        (\"i\", int),\n",
    "        (\"j\", int),\n",
    "        (\"wellid\", object),\n",
    "        (\"losstype\", object),\n",
    "        (\"pumploc\", int),\n",
    "        (\"qlimit\", int),\n",
    "        (\"ppflag\", int),\n",
    "        (\"pumpcap\", int),\n",
    "        (\"rw\", float),\n",
    "        (\"rskin\", float),\n",
    "        (\"kskin\", float),\n",
    "        (\"zpump\", float),\n",
    "    ],\n",
    ").view(np.recarray)\n",
    "\n",
    "stress_period_data = {\n",
    "    0: np.array(\n",
    "        [(0, \"well1\", -150000.0)],\n",
    "        dtype=[(\"per\", int), (\"wellid\", object), (\"qdes\", float)],\n",
    "    )\n",
    "}"
   ]
  },
  {
   "cell_type": "code",
   "execution_count": null,
   "metadata": {
    "execution": {
     "iopub.execute_input": "2023-05-02T02:57:01.769604Z",
     "iopub.status.busy": "2023-05-02T02:57:01.768687Z",
     "iopub.status.idle": "2023-05-02T02:57:01.781086Z",
     "shell.execute_reply": "2023-05-02T02:57:01.779707Z"
    }
   },
   "outputs": [],
   "source": [
    "m2.name = \"Example_mnw\"\n",
    "m2.remove_package(\"WEL\")\n",
    "mnw2 = flopy.modflow.ModflowMnw2(\n",
    "    model=m2,\n",
    "    mnwmax=1,\n",
    "    node_data=node_data,\n",
    "    stress_period_data=stress_period_data,\n",
    "    itmp=[1, -1, -1],\n",
    ")\n",
    "m2.get_package_list()"
   ]
  },
  {
   "cell_type": "markdown",
   "metadata": {},
   "source": [
    "Write and run MODFLOW."
   ]
  },
  {
   "cell_type": "code",
   "execution_count": null,
   "metadata": {
    "execution": {
     "iopub.execute_input": "2023-05-02T02:57:01.784808Z",
     "iopub.status.busy": "2023-05-02T02:57:01.784414Z",
     "iopub.status.idle": "2023-05-02T02:57:01.957010Z",
     "shell.execute_reply": "2023-05-02T02:57:01.955365Z"
    }
   },
   "outputs": [],
   "source": [
    "m2.change_model_ws(model_ws)\n",
    "m2.write_name_file()\n",
    "m2.write_input()\n",
    "success, buff = m2.run_model(silent=True, report=True)\n",
    "if success:\n",
    "    for line in buff:\n",
    "        print(line)\n",
    "else:\n",
    "    raise ValueError(\"Failed to run.\")"
   ]
  },
  {
   "cell_type": "markdown",
   "metadata": {},
   "source": [
    "Create a new `Modpath6` object."
   ]
  },
  {
   "cell_type": "code",
   "execution_count": null,
   "metadata": {
    "execution": {
     "iopub.execute_input": "2023-05-02T02:57:01.961279Z",
     "iopub.status.busy": "2023-05-02T02:57:01.960896Z",
     "iopub.status.idle": "2023-05-02T02:57:02.098875Z",
     "shell.execute_reply": "2023-05-02T02:57:02.097805Z"
    }
   },
   "outputs": [],
   "source": [
    "mp = flopy.modpath.Modpath6(\n",
    "    modelname=\"ex6mnw\",\n",
    "    exe_name=\"mp6\",\n",
    "    modflowmodel=m2,\n",
    "    model_ws=model_ws,\n",
    ")\n",
    "\n",
    "mpb = flopy.modpath.Modpath6Bas(\n",
    "    mp, hdry=m2.lpf.hdry, laytyp=m2.lpf.laytyp, ibound=1, prsity=0.1\n",
    ")\n",
    "sim = mp.create_mpsim(trackdir=\"backward\", simtype=\"pathline\", packages=\"MNW2\")\n",
    "\n",
    "mp.change_model_ws(model_ws)\n",
    "mp.write_name_file()\n",
    "mp.write_input()\n",
    "success, buff = mp.run_model(silent=True, report=True)\n",
    "if success:\n",
    "    for line in buff:\n",
    "        print(line)\n",
    "else:\n",
    "    raise ValueError(\"Failed to run.\")"
   ]
  },
  {
   "cell_type": "markdown",
   "metadata": {},
   "source": [
    "Read in results and plot."
   ]
  },
  {
   "cell_type": "code",
   "execution_count": null,
   "metadata": {
    "execution": {
     "iopub.execute_input": "2023-05-02T02:57:02.102656Z",
     "iopub.status.busy": "2023-05-02T02:57:02.102297Z",
     "iopub.status.idle": "2023-05-02T02:57:02.189307Z",
     "shell.execute_reply": "2023-05-02T02:57:02.188304Z"
    }
   },
   "outputs": [],
   "source": [
    "pthobj = flopy.utils.PathlineFile(os.path.join(model_ws, \"ex6mnw.mppth\"))\n",
    "epdobj = flopy.utils.EndpointFile(os.path.join(model_ws, \"ex6mnw.mpend\"))\n",
    "well_epd = epdobj.get_alldata()\n",
    "well_pathlines = (\n",
    "    pthobj.get_alldata()\n",
    ")  # returns a list of recarrays; one per pathline"
   ]
  },
  {
   "cell_type": "code",
   "execution_count": null,
   "metadata": {
    "execution": {
     "iopub.execute_input": "2023-05-02T02:57:02.192706Z",
     "iopub.status.busy": "2023-05-02T02:57:02.192358Z",
     "iopub.status.idle": "2023-05-02T02:57:02.770401Z",
     "shell.execute_reply": "2023-05-02T02:57:02.769342Z"
    }
   },
   "outputs": [],
   "source": [
    "fig = plt.figure(figsize=(8, 8))\n",
    "ax = fig.add_subplot(1, 1, 1, aspect=\"equal\")\n",
    "mapview = flopy.plot.PlotMapView(model=m2, layer=2)\n",
    "quadmesh = mapview.plot_ibound()\n",
    "linecollection = mapview.plot_grid()\n",
    "riv = mapview.plot_bc(\"RIV\", color=\"g\", plotAll=True)\n",
    "quadmesh = mapview.plot_bc(\"MNW2\", kper=1, plotAll=True)\n",
    "contour_set = mapview.contour_array(\n",
    "    hds, levels=np.arange(np.min(hds), np.max(hds), 0.5), colors=\"b\"\n",
    ")\n",
    "plt.clabel(contour_set, inline=1, fontsize=14)\n",
    "\n",
    "mapview.plot_pathline(\n",
    "    well_pathlines, travel_time=\"<10000\", layer=\"all\", colors=\"red\"\n",
    ");"
   ]
  },
  {
   "cell_type": "code",
   "execution_count": null,
   "metadata": {
    "execution": {
     "iopub.execute_input": "2023-05-02T02:57:02.776852Z",
     "iopub.status.busy": "2023-05-02T02:57:02.775915Z",
     "iopub.status.idle": "2023-05-02T02:57:02.797201Z",
     "shell.execute_reply": "2023-05-02T02:57:02.795779Z"
    }
   },
   "outputs": [],
   "source": [
    "try:\n",
    "    # ignore PermissionError on Windows\n",
    "    temp_dir.cleanup()\n",
    "except:\n",
    "    pass"
   ]
  }
 ],
 "metadata": {
  "anaconda-cloud": {},
  "kernelspec": {
   "display_name": "Python 3 (ipykernel)",
   "language": "python",
   "name": "python3"
  },
  "language_info": {
   "codemirror_mode": {
    "name": "ipython",
    "version": 3
   },
   "file_extension": ".py",
   "mimetype": "text/x-python",
   "name": "python",
   "nbconvert_exporter": "python",
   "pygments_lexer": "ipython3",
   "version": "3.11.0"
  }
 },
 "nbformat": 4,
 "nbformat_minor": 4
}
