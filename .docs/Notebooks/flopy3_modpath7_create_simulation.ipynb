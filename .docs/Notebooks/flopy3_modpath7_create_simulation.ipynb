{
 "cells": [
  {
   "attachments": {},
   "cell_type": "markdown",
   "metadata": {},
   "source": [
    "# Creating a MODPATH 7 simulation\n",
    "\n",
    "This notebook demonstrates how to create a simple forward and backward MODPATH 7 simulation using the `.create_mp7()` method. The notebooks also shows how to create subsets of endpoint output and plot MODPATH results on ModelMap objects."
   ]
  },
  {
   "cell_type": "code",
   "execution_count": null,
   "metadata": {
    "execution": {
     "iopub.execute_input": "2023-05-02T02:56:10.269440Z",
     "iopub.status.busy": "2023-05-02T02:56:10.268739Z",
     "iopub.status.idle": "2023-05-02T02:56:12.398688Z",
     "shell.execute_reply": "2023-05-02T02:56:12.397626Z"
    }
   },
   "outputs": [],
   "source": [
    "import sys\n",
    "import os\n",
    "from tempfile import TemporaryDirectory\n",
    "\n",
    "import numpy as np\n",
    "import matplotlib as mpl\n",
    "import matplotlib.pyplot as plt\n",
    "\n",
    "# run installed version of flopy or add local path\n",
    "try:\n",
    "    import flopy\n",
    "except:\n",
    "    fpth = os.path.abspath(os.path.join(\"..\", \"..\"))\n",
    "    sys.path.append(fpth)\n",
    "    import flopy\n",
    "\n",
    "print(sys.version)\n",
    "print(\"numpy version: {}\".format(np.__version__))\n",
    "print(\"matplotlib version: {}\".format(mpl.__version__))\n",
    "print(\"flopy version: {}\".format(flopy.__version__))\n",
    "\n",
    "# temporary directory\n",
    "temp_dir = TemporaryDirectory()\n",
    "model_ws = temp_dir.name"
   ]
  },
  {
   "cell_type": "code",
   "execution_count": null,
   "metadata": {
    "execution": {
     "iopub.execute_input": "2023-05-02T02:56:12.467299Z",
     "iopub.status.busy": "2023-05-02T02:56:12.466859Z",
     "iopub.status.idle": "2023-05-02T02:56:12.471463Z",
     "shell.execute_reply": "2023-05-02T02:56:12.470466Z"
    }
   },
   "outputs": [],
   "source": [
    "# define executable names\n",
    "mpexe = \"mp7\"\n",
    "mfexe = \"mf6\""
   ]
  },
  {
   "cell_type": "markdown",
   "metadata": {},
   "source": [
    "### Flow model data"
   ]
  },
  {
   "cell_type": "code",
   "execution_count": null,
   "metadata": {
    "execution": {
     "iopub.execute_input": "2023-05-02T02:56:12.475852Z",
     "iopub.status.busy": "2023-05-02T02:56:12.475173Z",
     "iopub.status.idle": "2023-05-02T02:56:12.484233Z",
     "shell.execute_reply": "2023-05-02T02:56:12.483279Z"
    }
   },
   "outputs": [],
   "source": [
    "nper, nstp, perlen, tsmult = 1, 1, 1.0, 1.0\n",
    "nlay, nrow, ncol = 3, 21, 20\n",
    "delr = delc = 500.0\n",
    "top = 400.0\n",
    "botm = [220.0, 200.0, 0.0]\n",
    "laytyp = [1, 0, 0]\n",
    "kh = [50.0, 0.01, 200.0]\n",
    "kv = [10.0, 0.01, 20.0]\n",
    "wel_loc = (2, 10, 9)\n",
    "wel_q = -150000.0\n",
    "rch = 0.005\n",
    "riv_h = 320.0\n",
    "riv_z = 317.0\n",
    "riv_c = 1.0e5"
   ]
  },
  {
   "cell_type": "code",
   "execution_count": null,
   "metadata": {
    "execution": {
     "iopub.execute_input": "2023-05-02T02:56:12.488209Z",
     "iopub.status.busy": "2023-05-02T02:56:12.487811Z",
     "iopub.status.idle": "2023-05-02T02:56:12.493059Z",
     "shell.execute_reply": "2023-05-02T02:56:12.492020Z"
    }
   },
   "outputs": [],
   "source": [
    "def get_nodes(locs):\n",
    "    nodes = []\n",
    "    for k, i, j in locs:\n",
    "        nodes.append(k * nrow * ncol + i * ncol + j)\n",
    "    return nodes"
   ]
  },
  {
   "cell_type": "markdown",
   "metadata": {},
   "source": [
    "### MODPATH 7 using MODFLOW 6\n",
    "\n",
    "#### Create and run MODFLOW 6"
   ]
  },
  {
   "cell_type": "code",
   "execution_count": null,
   "metadata": {
    "execution": {
     "iopub.execute_input": "2023-05-02T02:56:12.497784Z",
     "iopub.status.busy": "2023-05-02T02:56:12.496903Z",
     "iopub.status.idle": "2023-05-02T02:56:12.766878Z",
     "shell.execute_reply": "2023-05-02T02:56:12.765639Z"
    }
   },
   "outputs": [],
   "source": [
    "ws = os.path.join(model_ws, \"mp7_ex1_cs\")\n",
    "nm = \"ex01_mf6\"\n",
    "\n",
    "# Create the Flopy simulation object\n",
    "sim = flopy.mf6.MFSimulation(\n",
    "    sim_name=nm, exe_name=mfexe, version=\"mf6\", sim_ws=ws\n",
    ")\n",
    "\n",
    "# Create the Flopy temporal discretization object\n",
    "pd = (perlen, nstp, tsmult)\n",
    "tdis = flopy.mf6.modflow.mftdis.ModflowTdis(\n",
    "    sim, pname=\"tdis\", time_units=\"DAYS\", nper=nper, perioddata=[pd]\n",
    ")\n",
    "\n",
    "# Create the Flopy groundwater flow (gwf) model object\n",
    "model_nam_file = \"{}.nam\".format(nm)\n",
    "gwf = flopy.mf6.ModflowGwf(\n",
    "    sim, modelname=nm, model_nam_file=model_nam_file, save_flows=True\n",
    ")\n",
    "\n",
    "# Create the Flopy iterative model solver (ims) Package object\n",
    "ims = flopy.mf6.modflow.mfims.ModflowIms(\n",
    "    sim,\n",
    "    pname=\"ims\",\n",
    "    complexity=\"SIMPLE\",\n",
    "    outer_hclose=1e-6,\n",
    "    inner_hclose=1e-6,\n",
    "    rcloserecord=1e-6,\n",
    ")\n",
    "\n",
    "# create gwf file\n",
    "dis = flopy.mf6.modflow.mfgwfdis.ModflowGwfdis(\n",
    "    gwf,\n",
    "    pname=\"dis\",\n",
    "    nlay=nlay,\n",
    "    nrow=nrow,\n",
    "    ncol=ncol,\n",
    "    length_units=\"FEET\",\n",
    "    delr=delr,\n",
    "    delc=delc,\n",
    "    top=top,\n",
    "    botm=botm,\n",
    ")\n",
    "# Create the initial conditions package\n",
    "ic = flopy.mf6.modflow.mfgwfic.ModflowGwfic(gwf, pname=\"ic\", strt=top)\n",
    "\n",
    "# Create the node property flow package\n",
    "npf = flopy.mf6.modflow.mfgwfnpf.ModflowGwfnpf(\n",
    "    gwf, pname=\"npf\", icelltype=laytyp, k=kh, k33=kv\n",
    ")\n",
    "\n",
    "\n",
    "# recharge\n",
    "flopy.mf6.modflow.mfgwfrcha.ModflowGwfrcha(gwf, recharge=rch)\n",
    "# wel\n",
    "wd = [(wel_loc, wel_q)]\n",
    "flopy.mf6.modflow.mfgwfwel.ModflowGwfwel(\n",
    "    gwf, maxbound=1, stress_period_data={0: wd}\n",
    ")\n",
    "# river\n",
    "rd = []\n",
    "for i in range(nrow):\n",
    "    rd.append([(0, i, ncol - 1), riv_h, riv_c, riv_z])\n",
    "flopy.mf6.modflow.mfgwfriv.ModflowGwfriv(gwf, stress_period_data={0: rd})\n",
    "# Create the output control package\n",
    "headfile = \"{}.hds\".format(nm)\n",
    "head_record = [headfile]\n",
    "budgetfile = \"{}.cbb\".format(nm)\n",
    "budget_record = [budgetfile]\n",
    "saverecord = [(\"HEAD\", \"ALL\"), (\"BUDGET\", \"ALL\")]\n",
    "oc = flopy.mf6.modflow.mfgwfoc.ModflowGwfoc(\n",
    "    gwf,\n",
    "    pname=\"oc\",\n",
    "    saverecord=saverecord,\n",
    "    head_filerecord=head_record,\n",
    "    budget_filerecord=budget_record,\n",
    ")\n",
    "\n",
    "# Write the datasets\n",
    "sim.write_simulation()\n",
    "# Run the simulation\n",
    "success, buff = sim.run_simulation(silent=True, report=True)\n",
    "assert success, \"mf6 model did not run\"\n",
    "for line in buff:\n",
    "    print(line)"
   ]
  },
  {
   "cell_type": "markdown",
   "metadata": {},
   "source": [
    "Get locations to extract data"
   ]
  },
  {
   "cell_type": "code",
   "execution_count": null,
   "metadata": {
    "execution": {
     "iopub.execute_input": "2023-05-02T02:56:12.771701Z",
     "iopub.status.busy": "2023-05-02T02:56:12.771125Z",
     "iopub.status.idle": "2023-05-02T02:56:12.777813Z",
     "shell.execute_reply": "2023-05-02T02:56:12.776811Z"
    }
   },
   "outputs": [],
   "source": [
    "nodew = get_nodes([wel_loc])\n",
    "cellids = gwf.riv.stress_period_data.get_data()[0][\"cellid\"]\n",
    "nodesr = get_nodes(cellids)"
   ]
  },
  {
   "cell_type": "markdown",
   "metadata": {},
   "source": [
    "#### Create and run MODPATH 7\n",
    "\n",
    "Forward tracking"
   ]
  },
  {
   "cell_type": "code",
   "execution_count": null,
   "metadata": {
    "execution": {
     "iopub.execute_input": "2023-05-02T02:56:12.781847Z",
     "iopub.status.busy": "2023-05-02T02:56:12.781424Z",
     "iopub.status.idle": "2023-05-02T02:56:20.482562Z",
     "shell.execute_reply": "2023-05-02T02:56:20.481416Z"
    }
   },
   "outputs": [],
   "source": [
    "# create modpath files\n",
    "mpnamf = nm + \"_mp_forward\"\n",
    "\n",
    "# create basic forward tracking modpath simulation\n",
    "mp = flopy.modpath.Modpath7.create_mp7(\n",
    "    modelname=mpnamf,\n",
    "    trackdir=\"forward\",\n",
    "    flowmodel=gwf,\n",
    "    model_ws=ws,\n",
    "    rowcelldivisions=1,\n",
    "    columncelldivisions=1,\n",
    "    layercelldivisions=1,\n",
    "    exe_name=mpexe,\n",
    ")\n",
    "\n",
    "# write modpath datasets\n",
    "mp.write_input()\n",
    "\n",
    "# run modpath\n",
    "succes, buff = mp.run_model(silent=True, report=True)\n",
    "assert success, \"mp7 forward tracking failed to run\"\n",
    "for line in buff:\n",
    "    print(line)"
   ]
  },
  {
   "cell_type": "markdown",
   "metadata": {},
   "source": [
    "Backward tracking from well and river locations"
   ]
  },
  {
   "cell_type": "code",
   "execution_count": null,
   "metadata": {
    "execution": {
     "iopub.execute_input": "2023-05-02T02:56:20.486961Z",
     "iopub.status.busy": "2023-05-02T02:56:20.486474Z",
     "iopub.status.idle": "2023-05-02T02:56:36.695209Z",
     "shell.execute_reply": "2023-05-02T02:56:36.693696Z"
    }
   },
   "outputs": [],
   "source": [
    "# create modpath files\n",
    "mpnamb = nm + \"_mp_backward\"\n",
    "\n",
    "# create basic forward tracking modpath simulation\n",
    "mp = flopy.modpath.Modpath7.create_mp7(\n",
    "    modelname=mpnamb,\n",
    "    trackdir=\"backward\",\n",
    "    flowmodel=gwf,\n",
    "    model_ws=ws,\n",
    "    rowcelldivisions=5,\n",
    "    columncelldivisions=5,\n",
    "    layercelldivisions=5,\n",
    "    nodes=nodew + nodesr,\n",
    "    exe_name=mpexe,\n",
    ")\n",
    "\n",
    "# write modpath datasets\n",
    "mp.write_input()\n",
    "\n",
    "# run modpath\n",
    "success, buff = mp.run_model(silent=True, report=True)\n",
    "assert success, \"mp7 backward tracking failed to run\"\n",
    "for line in buff:\n",
    "    print(line)"
   ]
  },
  {
   "cell_type": "markdown",
   "metadata": {},
   "source": [
    "#### Load and Plot MODPATH 7 output\n",
    "\n",
    "##### Forward Tracking"
   ]
  },
  {
   "cell_type": "markdown",
   "metadata": {},
   "source": [
    "Load forward tracking pathline data"
   ]
  },
  {
   "cell_type": "code",
   "execution_count": null,
   "metadata": {
    "execution": {
     "iopub.execute_input": "2023-05-02T02:56:36.699908Z",
     "iopub.status.busy": "2023-05-02T02:56:36.699505Z",
     "iopub.status.idle": "2023-05-02T02:56:38.089285Z",
     "shell.execute_reply": "2023-05-02T02:56:38.088140Z"
    }
   },
   "outputs": [],
   "source": [
    "fpth = os.path.join(ws, mpnamf + \".mppth\")\n",
    "p = flopy.utils.PathlineFile(fpth)\n",
    "pw = p.get_destination_pathline_data(dest_cells=nodew)\n",
    "pr = p.get_destination_pathline_data(dest_cells=nodesr)"
   ]
  },
  {
   "cell_type": "markdown",
   "metadata": {},
   "source": [
    "Load forward tracking endpoint data"
   ]
  },
  {
   "cell_type": "code",
   "execution_count": null,
   "metadata": {
    "execution": {
     "iopub.execute_input": "2023-05-02T02:56:38.093273Z",
     "iopub.status.busy": "2023-05-02T02:56:38.092886Z",
     "iopub.status.idle": "2023-05-02T02:56:38.114459Z",
     "shell.execute_reply": "2023-05-02T02:56:38.113567Z"
    }
   },
   "outputs": [],
   "source": [
    "fpth = os.path.join(ws, mpnamf + \".mpend\")\n",
    "e = flopy.utils.EndpointFile(fpth)"
   ]
  },
  {
   "cell_type": "markdown",
   "metadata": {},
   "source": [
    "Get forward particles that terminate in the well"
   ]
  },
  {
   "cell_type": "code",
   "execution_count": null,
   "metadata": {
    "execution": {
     "iopub.execute_input": "2023-05-02T02:56:38.117641Z",
     "iopub.status.busy": "2023-05-02T02:56:38.117302Z",
     "iopub.status.idle": "2023-05-02T02:56:38.124294Z",
     "shell.execute_reply": "2023-05-02T02:56:38.123375Z"
    }
   },
   "outputs": [],
   "source": [
    "well_epd = e.get_destination_endpoint_data(dest_cells=nodew)"
   ]
  },
  {
   "cell_type": "markdown",
   "metadata": {},
   "source": [
    "Get particles that terminate in the river boundaries"
   ]
  },
  {
   "cell_type": "code",
   "execution_count": null,
   "metadata": {
    "execution": {
     "iopub.execute_input": "2023-05-02T02:56:38.127891Z",
     "iopub.status.busy": "2023-05-02T02:56:38.127570Z",
     "iopub.status.idle": "2023-05-02T02:56:38.134603Z",
     "shell.execute_reply": "2023-05-02T02:56:38.133688Z"
    }
   },
   "outputs": [],
   "source": [
    "riv_epd = e.get_destination_endpoint_data(dest_cells=nodesr)"
   ]
  },
  {
   "cell_type": "markdown",
   "metadata": {},
   "source": [
    "Well and river forward tracking pathlines"
   ]
  },
  {
   "cell_type": "code",
   "execution_count": null,
   "metadata": {
    "execution": {
     "iopub.execute_input": "2023-05-02T02:56:38.138556Z",
     "iopub.status.busy": "2023-05-02T02:56:38.138218Z",
     "iopub.status.idle": "2023-05-02T02:56:38.142208Z",
     "shell.execute_reply": "2023-05-02T02:56:38.141222Z"
    }
   },
   "outputs": [],
   "source": [
    "colors = [\"green\", \"orange\", \"red\"]"
   ]
  },
  {
   "cell_type": "code",
   "execution_count": null,
   "metadata": {
    "execution": {
     "iopub.execute_input": "2023-05-02T02:56:38.145944Z",
     "iopub.status.busy": "2023-05-02T02:56:38.145551Z",
     "iopub.status.idle": "2023-05-02T02:56:40.721219Z",
     "shell.execute_reply": "2023-05-02T02:56:40.720185Z"
    }
   },
   "outputs": [],
   "source": [
    "f, axes = plt.subplots(\n",
    "    ncols=3, nrows=2, sharey=True, sharex=True, figsize=(15, 10)\n",
    ")\n",
    "axes = axes.flatten()\n",
    "\n",
    "idax = 0\n",
    "for k in range(nlay):\n",
    "    ax = axes[idax]\n",
    "    ax.set_aspect(\"equal\")\n",
    "    ax.set_title(\"Well pathlines - Layer {}\".format(k + 1))\n",
    "    mm = flopy.plot.PlotMapView(model=gwf, ax=ax)\n",
    "    mm.plot_grid(lw=0.5)\n",
    "    mm.plot_pathline(pw, layer=k, colors=colors[k], lw=0.75)\n",
    "    idax += 1\n",
    "\n",
    "for k in range(nlay):\n",
    "    ax = axes[idax]\n",
    "    ax.set_aspect(\"equal\")\n",
    "    ax.set_title(\"River pathlines - Layer {}\".format(k + 1))\n",
    "    mm = flopy.plot.PlotMapView(model=gwf, ax=ax)\n",
    "    mm.plot_grid(lw=0.5)\n",
    "    mm.plot_pathline(pr, layer=k, colors=colors[k], lw=0.75)\n",
    "    idax += 1\n",
    "\n",
    "plt.tight_layout();"
   ]
  },
  {
   "cell_type": "markdown",
   "metadata": {},
   "source": [
    "Forward tracking endpoints captured by the well and river"
   ]
  },
  {
   "cell_type": "code",
   "execution_count": null,
   "metadata": {
    "execution": {
     "iopub.execute_input": "2023-05-02T02:56:40.730950Z",
     "iopub.status.busy": "2023-05-02T02:56:40.730620Z",
     "iopub.status.idle": "2023-05-02T02:56:41.365456Z",
     "shell.execute_reply": "2023-05-02T02:56:41.364564Z"
    }
   },
   "outputs": [],
   "source": [
    "f, axes = plt.subplots(ncols=2, nrows=1, sharey=True, figsize=(10, 5))\n",
    "axes = axes.flatten()\n",
    "\n",
    "ax = axes[0]\n",
    "ax.set_aspect(\"equal\")\n",
    "ax.set_title(\"Well recharge area\")\n",
    "mm = flopy.plot.PlotMapView(model=gwf, ax=ax)\n",
    "mm.plot_grid(lw=0.5)\n",
    "mm.plot_endpoint(well_epd, direction=\"starting\", colorbar=True, shrink=0.5)\n",
    "\n",
    "ax = axes[1]\n",
    "ax.set_aspect(\"equal\")\n",
    "ax.set_title(\"River recharge area\")\n",
    "mm = flopy.plot.PlotMapView(model=gwf, ax=ax)\n",
    "mm.plot_grid(lw=0.5)\n",
    "mm.plot_endpoint(riv_epd, direction=\"starting\", colorbar=True, shrink=0.5);"
   ]
  },
  {
   "cell_type": "markdown",
   "metadata": {},
   "source": [
    "##### Backward tracking\n",
    "\n",
    "Load backward tracking pathlines"
   ]
  },
  {
   "cell_type": "code",
   "execution_count": null,
   "metadata": {
    "execution": {
     "iopub.execute_input": "2023-05-02T02:56:41.370623Z",
     "iopub.status.busy": "2023-05-02T02:56:41.370309Z",
     "iopub.status.idle": "2023-05-02T02:56:47.560486Z",
     "shell.execute_reply": "2023-05-02T02:56:47.558881Z"
    }
   },
   "outputs": [],
   "source": [
    "fpth = os.path.join(ws, mpnamb + \".mppth\")\n",
    "p = flopy.utils.PathlineFile(fpth)\n",
    "pwb = p.get_destination_pathline_data(dest_cells=nodew)\n",
    "prb = p.get_destination_pathline_data(dest_cells=nodesr)"
   ]
  },
  {
   "cell_type": "markdown",
   "metadata": {},
   "source": [
    "Load backward tracking endpoints"
   ]
  },
  {
   "cell_type": "code",
   "execution_count": null,
   "metadata": {
    "execution": {
     "iopub.execute_input": "2023-05-02T02:56:47.565119Z",
     "iopub.status.busy": "2023-05-02T02:56:47.564342Z",
     "iopub.status.idle": "2023-05-02T02:56:47.610388Z",
     "shell.execute_reply": "2023-05-02T02:56:47.608594Z"
    }
   },
   "outputs": [],
   "source": [
    "fpth = os.path.join(ws, mpnamb + \".mpend\")\n",
    "e = flopy.utils.EndpointFile(fpth)\n",
    "ewb = e.get_destination_endpoint_data(dest_cells=nodew, source=True)\n",
    "erb = e.get_destination_endpoint_data(dest_cells=nodesr, source=True)"
   ]
  },
  {
   "cell_type": "markdown",
   "metadata": {},
   "source": [
    "Well backward tracking pathlines"
   ]
  },
  {
   "cell_type": "code",
   "execution_count": null,
   "metadata": {
    "execution": {
     "iopub.execute_input": "2023-05-02T02:56:47.615552Z",
     "iopub.status.busy": "2023-05-02T02:56:47.614451Z",
     "iopub.status.idle": "2023-05-02T02:56:50.821172Z",
     "shell.execute_reply": "2023-05-02T02:56:50.819633Z"
    }
   },
   "outputs": [],
   "source": [
    "f, axes = plt.subplots(ncols=2, nrows=1, figsize=(10, 5))\n",
    "\n",
    "ax = axes[0]\n",
    "ax.set_aspect(\"equal\")\n",
    "ax.set_title(\"Well recharge area\")\n",
    "mm = flopy.plot.PlotMapView(model=gwf, ax=ax)\n",
    "mm.plot_grid(lw=0.5)\n",
    "mm.plot_pathline(\n",
    "    pwb,\n",
    "    layer=\"all\",\n",
    "    colors=\"blue\",\n",
    "    lw=0.5,\n",
    "    linestyle=\":\",\n",
    "    label=\"captured by wells\",\n",
    ")\n",
    "mm.plot_endpoint(ewb, direction=\"ending\")  # , colorbar=True, shrink=0.5);\n",
    "\n",
    "ax = axes[1]\n",
    "ax.set_aspect(\"equal\")\n",
    "ax.set_title(\"River recharge area\")\n",
    "mm = flopy.plot.PlotMapView(model=gwf, ax=ax)\n",
    "mm.plot_grid(lw=0.5)\n",
    "mm.plot_pathline(\n",
    "    prb,\n",
    "    layer=\"all\",\n",
    "    colors=\"green\",\n",
    "    lw=0.5,\n",
    "    linestyle=\":\",\n",
    "    label=\"captured by rivers\",\n",
    ")\n",
    "\n",
    "plt.tight_layout();"
   ]
  }
 ],
 "metadata": {
  "kernelspec": {
   "display_name": "Python 3 (ipykernel)",
   "language": "python",
   "name": "python3"
  },
  "language_info": {
   "codemirror_mode": {
    "name": "ipython",
    "version": 3
   },
   "file_extension": ".py",
   "mimetype": "text/x-python",
   "name": "python",
   "nbconvert_exporter": "python",
   "pygments_lexer": "ipython3",
   "version": "3.11.0"
  }
 },
 "nbformat": 4,
 "nbformat_minor": 4
}
