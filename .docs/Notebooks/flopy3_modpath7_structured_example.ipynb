{
 "cells": [
  {
   "attachments": {},
   "cell_type": "markdown",
   "metadata": {},
   "source": [
    "# Using MODPATH 7 with structured grids\n",
    "\n",
    "This notebook demonstrates how to create and run example 1a from the MODPATH 7 documentation for MODFLOW-2005 and MODFLOW 6. The notebooks also shows how to create subsets of endpoint output and plot MODPATH results on PlotMapView objects."
   ]
  },
  {
   "cell_type": "code",
   "execution_count": null,
   "metadata": {
    "execution": {
     "iopub.execute_input": "2023-05-02T02:56:24.350589Z",
     "iopub.status.busy": "2023-05-02T02:56:24.350209Z",
     "iopub.status.idle": "2023-05-02T02:56:26.097843Z",
     "shell.execute_reply": "2023-05-02T02:56:26.097107Z"
    }
   },
   "outputs": [],
   "source": [
    "import sys\n",
    "import os\n",
    "from tempfile import TemporaryDirectory\n",
    "\n",
    "import numpy as np\n",
    "import matplotlib as mpl\n",
    "import matplotlib.pyplot as plt\n",
    "\n",
    "# run installed version of flopy or add local path\n",
    "try:\n",
    "    import flopy\n",
    "except:\n",
    "    fpth = os.path.abspath(os.path.join(\"..\", \"..\"))\n",
    "    sys.path.append(fpth)\n",
    "    import flopy\n",
    "\n",
    "    print(sys.version)\n",
    "print(\"numpy version: {}\".format(np.__version__))\n",
    "print(\"matplotlib version: {}\".format(mpl.__version__))\n",
    "print(\"flopy version: {}\".format(flopy.__version__))\n",
    "\n",
    "# temporary directory\n",
    "temp_dir = TemporaryDirectory()\n",
    "workspace = temp_dir.name"
   ]
  },
  {
   "cell_type": "markdown",
   "metadata": {},
   "source": [
    "### Flow model data"
   ]
  },
  {
   "cell_type": "code",
   "execution_count": null,
   "metadata": {
    "execution": {
     "iopub.execute_input": "2023-05-02T02:56:26.140803Z",
     "iopub.status.busy": "2023-05-02T02:56:26.140378Z",
     "iopub.status.idle": "2023-05-02T02:56:26.147690Z",
     "shell.execute_reply": "2023-05-02T02:56:26.146823Z"
    }
   },
   "outputs": [],
   "source": [
    "nper, nstp, perlen, tsmult = 1, 1, 1.0, 1.0\n",
    "nlay, nrow, ncol = 3, 21, 20\n",
    "delr = delc = 500.0\n",
    "top = 400.0\n",
    "botm = [220.0, 200.0, 0.0]\n",
    "laytyp = [1, 0, 0]\n",
    "kh = [50.0, 0.01, 200.0]\n",
    "kv = [10.0, 0.01, 20.0]\n",
    "wel_loc = (2, 10, 9)\n",
    "wel_q = -150000.0\n",
    "rch = 0.005\n",
    "riv_h = 320.0\n",
    "riv_z = 317.0\n",
    "riv_c = 1.0e5"
   ]
  },
  {
   "cell_type": "markdown",
   "metadata": {},
   "source": [
    "### MODPATH 7 data"
   ]
  },
  {
   "cell_type": "code",
   "execution_count": null,
   "metadata": {
    "execution": {
     "iopub.execute_input": "2023-05-02T02:56:26.151882Z",
     "iopub.status.busy": "2023-05-02T02:56:26.151473Z",
     "iopub.status.idle": "2023-05-02T02:56:26.163663Z",
     "shell.execute_reply": "2023-05-02T02:56:26.162831Z"
    }
   },
   "outputs": [],
   "source": [
    "# MODPATH zones\n",
    "zone3 = np.ones((nrow, ncol), dtype=np.int32)\n",
    "zone3[wel_loc[1:]] = 2\n",
    "zones = [1, 1, zone3]\n",
    "\n",
    "# create particles\n",
    "# particle group 1\n",
    "plocs = []\n",
    "pids = []\n",
    "for idx in range(nrow):\n",
    "    plocs.append((0, idx, 2))\n",
    "    pids.append(idx)\n",
    "part0 = flopy.modpath.ParticleData(\n",
    "    plocs, drape=0, structured=True, particleids=pids\n",
    ")\n",
    "pg0 = flopy.modpath.ParticleGroup(\n",
    "    particlegroupname=\"PG1\", particledata=part0, filename=\"ex01a.pg1.sloc\"\n",
    ")\n",
    "\n",
    "# particle group 2\n",
    "v = [(2, 0, 0), (0, 20, 0)]\n",
    "part1 = flopy.modpath.ParticleData(\n",
    "    v, drape=1, structured=True, particleids=[1000, 1001]\n",
    ")\n",
    "pg1 = flopy.modpath.ParticleGroup(\n",
    "    particlegroupname=\"PG2\", particledata=part1, filename=\"ex01a.pg2.sloc\"\n",
    ")\n",
    "\n",
    "locsa = [[0, 0, 0, 0, nrow - 1, ncol - 1], [1, 0, 0, 1, nrow - 1, ncol - 1]]\n",
    "locsb = [[2, 0, 0, 2, nrow - 1, ncol - 1]]\n",
    "sd = flopy.modpath.CellDataType(\n",
    "    drape=0, columncelldivisions=1, rowcelldivisions=1, layercelldivisions=1\n",
    ")\n",
    "p = flopy.modpath.LRCParticleData(\n",
    "    subdivisiondata=[sd, sd], lrcregions=[locsa, locsb]\n",
    ")\n",
    "pg2 = flopy.modpath.ParticleGroupLRCTemplate(\n",
    "    particlegroupname=\"PG3\", particledata=p, filename=\"ex01a.pg3.sloc\"\n",
    ")\n",
    "\n",
    "particlegroups = [pg2]\n",
    "\n",
    "# default iface for MODFLOW-2005 and MODFLOW 6\n",
    "defaultiface = {\"RECHARGE\": 6, \"ET\": 6}\n",
    "defaultiface6 = {\"RCH\": 6, \"EVT\": 6}"
   ]
  },
  {
   "cell_type": "markdown",
   "metadata": {},
   "source": [
    "### MODPATH 7 using MODFLOW-2005\n",
    "\n",
    "#### Create and run MODFLOW-2005"
   ]
  },
  {
   "cell_type": "code",
   "execution_count": null,
   "metadata": {
    "execution": {
     "iopub.execute_input": "2023-05-02T02:56:26.167108Z",
     "iopub.status.busy": "2023-05-02T02:56:26.166792Z",
     "iopub.status.idle": "2023-05-02T02:56:26.254405Z",
     "shell.execute_reply": "2023-05-02T02:56:26.253139Z"
    }
   },
   "outputs": [],
   "source": [
    "ws = os.path.join(workspace, \"mp7_ex1_mf2005_dis\")\n",
    "nm = \"ex01_mf2005\"\n",
    "exe_name = \"mf2005\"\n",
    "iu_cbc = 130\n",
    "m = flopy.modflow.Modflow(nm, model_ws=ws, exe_name=exe_name)\n",
    "flopy.modflow.ModflowDis(\n",
    "    m,\n",
    "    nlay=nlay,\n",
    "    nrow=nrow,\n",
    "    ncol=ncol,\n",
    "    nper=nper,\n",
    "    itmuni=4,\n",
    "    lenuni=2,\n",
    "    perlen=perlen,\n",
    "    nstp=nstp,\n",
    "    tsmult=tsmult,\n",
    "    steady=True,\n",
    "    delr=delr,\n",
    "    delc=delc,\n",
    "    top=top,\n",
    "    botm=botm,\n",
    ")\n",
    "flopy.modflow.ModflowLpf(\n",
    "    m, ipakcb=iu_cbc, laytyp=laytyp, hk=kh, vka=kv, constantcv=True\n",
    ")\n",
    "flopy.modflow.ModflowBas(m, ibound=1, strt=top)\n",
    "# recharge\n",
    "flopy.modflow.ModflowRch(m, ipakcb=iu_cbc, rech=rch)\n",
    "# wel\n",
    "wd = [i for i in wel_loc] + [wel_q]\n",
    "flopy.modflow.ModflowWel(m, ipakcb=iu_cbc, stress_period_data={0: wd})\n",
    "# river\n",
    "rd = []\n",
    "for i in range(nrow):\n",
    "    rd.append([0, i, ncol - 1, riv_h, riv_c, riv_z])\n",
    "flopy.modflow.ModflowRiv(m, ipakcb=iu_cbc, stress_period_data={0: rd})\n",
    "# output control\n",
    "flopy.modflow.ModflowOc(\n",
    "    m, stress_period_data={(0, 0): [\"save head\", \"save budget\", \"print head\"]}\n",
    ")\n",
    "flopy.modflow.ModflowPcg(m, hclose=1e-6, rclose=1e-6)\n",
    "\n",
    "m.write_input()\n",
    "success, buff = m.run_model(silent=True, report=True)\n",
    "assert success, \"mf2005 model did not run\"\n",
    "for line in buff:\n",
    "    print(line)"
   ]
  },
  {
   "cell_type": "markdown",
   "metadata": {},
   "source": [
    "#### Create and run MODPATH 7"
   ]
  },
  {
   "cell_type": "code",
   "execution_count": null,
   "metadata": {
    "execution": {
     "iopub.execute_input": "2023-05-02T02:56:26.258536Z",
     "iopub.status.busy": "2023-05-02T02:56:26.258172Z",
     "iopub.status.idle": "2023-05-02T02:56:44.830739Z",
     "shell.execute_reply": "2023-05-02T02:56:44.829415Z"
    }
   },
   "outputs": [],
   "source": [
    "# create modpath files\n",
    "exe_name = \"mp7\"\n",
    "mp = flopy.modpath.Modpath7(\n",
    "    modelname=nm + \"_mp\", flowmodel=m, exe_name=exe_name, model_ws=ws\n",
    ")\n",
    "mpbas = flopy.modpath.Modpath7Bas(mp, porosity=0.1, defaultiface=defaultiface)\n",
    "mpsim = flopy.modpath.Modpath7Sim(\n",
    "    mp,\n",
    "    simulationtype=\"combined\",\n",
    "    trackingdirection=\"forward\",\n",
    "    weaksinkoption=\"pass_through\",\n",
    "    weaksourceoption=\"pass_through\",\n",
    "    budgetoutputoption=\"summary\",\n",
    "    budgetcellnumbers=[1049, 1259],\n",
    "    traceparticledata=[1, 1000],\n",
    "    referencetime=[0, 0, 0.0],\n",
    "    stoptimeoption=\"extend\",\n",
    "    timepointdata=[500, 1000.0],\n",
    "    zonedataoption=\"on\",\n",
    "    zones=zones,\n",
    "    particlegroups=particlegroups,\n",
    ")\n",
    "\n",
    "# write modpath datasets\n",
    "mp.write_input()\n",
    "\n",
    "# run modpath\n",
    "success, buff = mp.run_model(silent=True, report=True)\n",
    "assert success, \"mp7 failed to run\"\n",
    "for line in buff:\n",
    "    print(line)"
   ]
  },
  {
   "cell_type": "markdown",
   "metadata": {},
   "source": [
    "#### Load MODPATH 7 output"
   ]
  },
  {
   "cell_type": "markdown",
   "metadata": {},
   "source": [
    "Get locations to extract pathline data"
   ]
  },
  {
   "cell_type": "code",
   "execution_count": null,
   "metadata": {
    "execution": {
     "iopub.execute_input": "2023-05-02T02:56:44.835364Z",
     "iopub.status.busy": "2023-05-02T02:56:44.834930Z",
     "iopub.status.idle": "2023-05-02T02:56:44.842086Z",
     "shell.execute_reply": "2023-05-02T02:56:44.841152Z"
    }
   },
   "outputs": [],
   "source": [
    "nodew = m.dis.get_node([wel_loc])\n",
    "riv_locs = flopy.utils.ra_slice(m.riv.stress_period_data[0], [\"k\", \"i\", \"j\"])\n",
    "nodesr = m.dis.get_node(riv_locs.tolist())"
   ]
  },
  {
   "cell_type": "markdown",
   "metadata": {},
   "source": [
    "Pathline data"
   ]
  },
  {
   "cell_type": "code",
   "execution_count": null,
   "metadata": {
    "execution": {
     "iopub.execute_input": "2023-05-02T02:56:44.845770Z",
     "iopub.status.busy": "2023-05-02T02:56:44.845382Z",
     "iopub.status.idle": "2023-05-02T02:56:47.058703Z",
     "shell.execute_reply": "2023-05-02T02:56:47.056993Z"
    }
   },
   "outputs": [],
   "source": [
    "fpth = os.path.join(ws, nm + \"_mp.mppth\")\n",
    "p = flopy.utils.PathlineFile(fpth)\n",
    "pw0 = p.get_destination_pathline_data(nodew, to_recarray=True)\n",
    "pr0 = p.get_destination_pathline_data(nodesr, to_recarray=True)"
   ]
  },
  {
   "cell_type": "markdown",
   "metadata": {},
   "source": [
    "Endpoint data\n",
    "\n",
    "Get particles that terminate in the well"
   ]
  },
  {
   "cell_type": "code",
   "execution_count": null,
   "metadata": {
    "execution": {
     "iopub.execute_input": "2023-05-02T02:56:47.063134Z",
     "iopub.status.busy": "2023-05-02T02:56:47.062758Z",
     "iopub.status.idle": "2023-05-02T02:56:47.102030Z",
     "shell.execute_reply": "2023-05-02T02:56:47.100426Z"
    }
   },
   "outputs": [],
   "source": [
    "fpth = os.path.join(ws, nm + \"_mp.mpend\")\n",
    "e = flopy.utils.EndpointFile(fpth)\n",
    "well_epd = e.get_destination_endpoint_data(dest_cells=nodew)\n",
    "well_epd.shape"
   ]
  },
  {
   "cell_type": "markdown",
   "metadata": {},
   "source": [
    "Get particles that terminate in the river boundaries"
   ]
  },
  {
   "cell_type": "code",
   "execution_count": null,
   "metadata": {
    "execution": {
     "iopub.execute_input": "2023-05-02T02:56:47.106236Z",
     "iopub.status.busy": "2023-05-02T02:56:47.105819Z",
     "iopub.status.idle": "2023-05-02T02:56:47.117619Z",
     "shell.execute_reply": "2023-05-02T02:56:47.115947Z"
    }
   },
   "outputs": [],
   "source": [
    "riv_epd = e.get_destination_endpoint_data(dest_cells=nodesr)\n",
    "riv_epd.shape"
   ]
  },
  {
   "cell_type": "markdown",
   "metadata": {},
   "source": [
    "Merge the particles that end in the well and the river boundaries."
   ]
  },
  {
   "cell_type": "code",
   "execution_count": null,
   "metadata": {
    "execution": {
     "iopub.execute_input": "2023-05-02T02:56:47.122392Z",
     "iopub.status.busy": "2023-05-02T02:56:47.121413Z",
     "iopub.status.idle": "2023-05-02T02:56:47.130369Z",
     "shell.execute_reply": "2023-05-02T02:56:47.129073Z"
    }
   },
   "outputs": [],
   "source": [
    "epd0 = np.concatenate((well_epd, riv_epd))\n",
    "epd0.shape"
   ]
  },
  {
   "cell_type": "markdown",
   "metadata": {},
   "source": [
    "#### Plot MODPATH 7 output"
   ]
  },
  {
   "cell_type": "code",
   "execution_count": null,
   "metadata": {
    "execution": {
     "iopub.execute_input": "2023-05-02T02:56:47.134955Z",
     "iopub.status.busy": "2023-05-02T02:56:47.133900Z",
     "iopub.status.idle": "2023-05-02T02:56:49.921997Z",
     "shell.execute_reply": "2023-05-02T02:56:49.920389Z"
    }
   },
   "outputs": [],
   "source": [
    "mm = flopy.plot.PlotMapView(model=m)\n",
    "mm.plot_grid(lw=0.5)\n",
    "mm.plot_pathline(pw0, layer=\"all\", colors=\"blue\", label=\"captured by wells\")\n",
    "mm.plot_pathline(pr0, layer=\"all\", colors=\"green\", label=\"captured by rivers\")\n",
    "mm.plot_endpoint(epd0, direction=\"starting\", colorbar=True)\n",
    "mm.ax.legend();"
   ]
  },
  {
   "cell_type": "markdown",
   "metadata": {},
   "source": [
    "### MODPATH 7 using MODFLOW 6\n",
    "\n",
    "#### Create and run MODFLOW 6"
   ]
  },
  {
   "cell_type": "code",
   "execution_count": null,
   "metadata": {
    "execution": {
     "iopub.execute_input": "2023-05-02T02:56:49.927825Z",
     "iopub.status.busy": "2023-05-02T02:56:49.927379Z",
     "iopub.status.idle": "2023-05-02T02:56:50.216807Z",
     "shell.execute_reply": "2023-05-02T02:56:50.214953Z"
    }
   },
   "outputs": [],
   "source": [
    "ws = os.path.join(workspace, \"mp7_ex1_mf6_dis\")\n",
    "nm = \"ex01_mf6\"\n",
    "exe_name = \"mf6\"\n",
    "\n",
    "# Create the Flopy simulation object\n",
    "sim = flopy.mf6.MFSimulation(\n",
    "    sim_name=nm, exe_name=\"mf6\", version=\"mf6\", sim_ws=ws\n",
    ")\n",
    "\n",
    "# Create the Flopy temporal discretization object\n",
    "pd = (perlen, nstp, tsmult)\n",
    "tdis = flopy.mf6.modflow.mftdis.ModflowTdis(\n",
    "    sim, pname=\"tdis\", time_units=\"DAYS\", nper=nper, perioddata=[pd]\n",
    ")\n",
    "\n",
    "# Create the Flopy groundwater flow (gwf) model object\n",
    "model_nam_file = \"{}.nam\".format(nm)\n",
    "gwf = flopy.mf6.ModflowGwf(\n",
    "    sim, modelname=nm, model_nam_file=model_nam_file, save_flows=True\n",
    ")\n",
    "\n",
    "# Create the Flopy iterative model solver (ims) Package object\n",
    "ims = flopy.mf6.modflow.mfims.ModflowIms(\n",
    "    sim,\n",
    "    pname=\"ims\",\n",
    "    complexity=\"SIMPLE\",\n",
    "    outer_dvclose=1e-6,\n",
    "    inner_dvclose=1e-6,\n",
    "    rcloserecord=1e-6,\n",
    ")\n",
    "\n",
    "# create gwf file\n",
    "dis = flopy.mf6.modflow.mfgwfdis.ModflowGwfdis(\n",
    "    gwf,\n",
    "    pname=\"dis\",\n",
    "    nlay=nlay,\n",
    "    nrow=nrow,\n",
    "    ncol=ncol,\n",
    "    length_units=\"FEET\",\n",
    "    delr=delr,\n",
    "    delc=delc,\n",
    "    top=top,\n",
    "    botm=botm,\n",
    ")\n",
    "# Create the initial conditions package\n",
    "ic = flopy.mf6.modflow.mfgwfic.ModflowGwfic(gwf, pname=\"ic\", strt=top)\n",
    "\n",
    "# Create the node property flow package\n",
    "npf = flopy.mf6.modflow.mfgwfnpf.ModflowGwfnpf(\n",
    "    gwf, pname=\"npf\", icelltype=laytyp, k=kh, k33=kv\n",
    ")\n",
    "\n",
    "\n",
    "# recharge\n",
    "flopy.mf6.modflow.mfgwfrcha.ModflowGwfrcha(gwf, recharge=rch)\n",
    "# wel\n",
    "wd = [(wel_loc, wel_q)]\n",
    "flopy.mf6.modflow.mfgwfwel.ModflowGwfwel(\n",
    "    gwf, maxbound=1, stress_period_data={0: wd}\n",
    ")\n",
    "# river\n",
    "rd = []\n",
    "for i in range(nrow):\n",
    "    rd.append([(0, i, ncol - 1), riv_h, riv_c, riv_z])\n",
    "flopy.mf6.modflow.mfgwfriv.ModflowGwfriv(gwf, stress_period_data={0: rd})\n",
    "# Create the output control package\n",
    "headfile = \"{}.hds\".format(nm)\n",
    "head_record = [headfile]\n",
    "budgetfile = \"{}.cbb\".format(nm)\n",
    "budget_record = [budgetfile]\n",
    "saverecord = [(\"HEAD\", \"ALL\"), (\"BUDGET\", \"ALL\")]\n",
    "oc = flopy.mf6.modflow.mfgwfoc.ModflowGwfoc(\n",
    "    gwf,\n",
    "    pname=\"oc\",\n",
    "    saverecord=saverecord,\n",
    "    head_filerecord=head_record,\n",
    "    budget_filerecord=budget_record,\n",
    ")\n",
    "\n",
    "# Write the datasets\n",
    "sim.write_simulation()\n",
    "# Run the simulation\n",
    "success, buff = sim.run_simulation(silent=True, report=True)\n",
    "assert success, \"mf6 model did not run\"\n",
    "for line in buff:\n",
    "    print(line)"
   ]
  },
  {
   "cell_type": "markdown",
   "metadata": {},
   "source": [
    "#### Create and run MODPATH 7"
   ]
  },
  {
   "cell_type": "code",
   "execution_count": null,
   "metadata": {
    "execution": {
     "iopub.execute_input": "2023-05-02T02:56:50.222061Z",
     "iopub.status.busy": "2023-05-02T02:56:50.220959Z",
     "iopub.status.idle": "2023-05-02T02:57:10.847773Z",
     "shell.execute_reply": "2023-05-02T02:57:10.846414Z"
    }
   },
   "outputs": [],
   "source": [
    "# create modpath files\n",
    "exe_name = \"mp7\"\n",
    "mp = flopy.modpath.Modpath7(\n",
    "    modelname=nm + \"_mp\", flowmodel=gwf, exe_name=exe_name, model_ws=ws\n",
    ")\n",
    "mpbas = flopy.modpath.Modpath7Bas(mp, porosity=0.1, defaultiface=defaultiface6)\n",
    "mpsim = flopy.modpath.Modpath7Sim(\n",
    "    mp,\n",
    "    simulationtype=\"combined\",\n",
    "    trackingdirection=\"forward\",\n",
    "    weaksinkoption=\"pass_through\",\n",
    "    weaksourceoption=\"pass_through\",\n",
    "    budgetoutputoption=\"summary\",\n",
    "    budgetcellnumbers=[1049, 1259],\n",
    "    traceparticledata=[1, 1000],\n",
    "    referencetime=[0, 0, 0.0],\n",
    "    stoptimeoption=\"extend\",\n",
    "    timepointdata=[500, 1000.0],\n",
    "    zonedataoption=\"on\",\n",
    "    zones=zones,\n",
    "    particlegroups=particlegroups,\n",
    ")\n",
    "\n",
    "# write modpath datasets\n",
    "mp.write_input()\n",
    "\n",
    "# run modpath\n",
    "success, buff = mp.run_model(silent=True, report=True)\n",
    "assert success, \"mp7 failed to run\"\n",
    "for line in buff:\n",
    "    print(line)"
   ]
  },
  {
   "cell_type": "markdown",
   "metadata": {},
   "source": [
    "#### Load MODPATH 7 output\n",
    "\n",
    "Pathline data"
   ]
  },
  {
   "cell_type": "code",
   "execution_count": null,
   "metadata": {
    "execution": {
     "iopub.execute_input": "2023-05-02T02:57:10.852190Z",
     "iopub.status.busy": "2023-05-02T02:57:10.851735Z",
     "iopub.status.idle": "2023-05-02T02:57:12.897762Z",
     "shell.execute_reply": "2023-05-02T02:57:12.896123Z"
    }
   },
   "outputs": [],
   "source": [
    "fpth = os.path.join(ws, nm + \"_mp.mppth\")\n",
    "p = flopy.utils.PathlineFile(fpth)\n",
    "pw1 = p.get_destination_pathline_data(nodew, to_recarray=True)\n",
    "pr1 = p.get_destination_pathline_data(nodesr, to_recarray=True)"
   ]
  },
  {
   "cell_type": "markdown",
   "metadata": {},
   "source": [
    "Endpoint data\n",
    "\n",
    "Get particles that terminate in the well"
   ]
  },
  {
   "cell_type": "code",
   "execution_count": null,
   "metadata": {
    "execution": {
     "iopub.execute_input": "2023-05-02T02:57:12.902153Z",
     "iopub.status.busy": "2023-05-02T02:57:12.901786Z",
     "iopub.status.idle": "2023-05-02T02:57:12.939953Z",
     "shell.execute_reply": "2023-05-02T02:57:12.938969Z"
    }
   },
   "outputs": [],
   "source": [
    "fpth = os.path.join(ws, nm + \"_mp.mpend\")\n",
    "e = flopy.utils.EndpointFile(fpth)\n",
    "well_epd = e.get_destination_endpoint_data(dest_cells=nodew)"
   ]
  },
  {
   "cell_type": "markdown",
   "metadata": {},
   "source": [
    "Get particles that terminate in the river boundaries"
   ]
  },
  {
   "cell_type": "code",
   "execution_count": null,
   "metadata": {
    "execution": {
     "iopub.execute_input": "2023-05-02T02:57:12.943712Z",
     "iopub.status.busy": "2023-05-02T02:57:12.943325Z",
     "iopub.status.idle": "2023-05-02T02:57:12.952019Z",
     "shell.execute_reply": "2023-05-02T02:57:12.950427Z"
    }
   },
   "outputs": [],
   "source": [
    "riv_epd = e.get_destination_endpoint_data(dest_cells=nodesr)"
   ]
  },
  {
   "cell_type": "markdown",
   "metadata": {},
   "source": [
    "Merge the particles that end in the well and the river boundaries."
   ]
  },
  {
   "cell_type": "code",
   "execution_count": null,
   "metadata": {
    "execution": {
     "iopub.execute_input": "2023-05-02T02:57:12.955822Z",
     "iopub.status.busy": "2023-05-02T02:57:12.955456Z",
     "iopub.status.idle": "2023-05-02T02:57:12.961529Z",
     "shell.execute_reply": "2023-05-02T02:57:12.959926Z"
    }
   },
   "outputs": [],
   "source": [
    "epd1 = np.concatenate((well_epd, riv_epd))"
   ]
  },
  {
   "cell_type": "markdown",
   "metadata": {},
   "source": [
    "### Plot MODPATH 7 output\n"
   ]
  },
  {
   "cell_type": "code",
   "execution_count": null,
   "metadata": {
    "execution": {
     "iopub.execute_input": "2023-05-02T02:57:12.965542Z",
     "iopub.status.busy": "2023-05-02T02:57:12.964773Z",
     "iopub.status.idle": "2023-05-02T02:57:15.565506Z",
     "shell.execute_reply": "2023-05-02T02:57:15.564630Z"
    }
   },
   "outputs": [],
   "source": [
    "mm = flopy.plot.PlotMapView(model=gwf)\n",
    "mm.plot_grid(lw=0.5)\n",
    "mm.plot_pathline(pw1, layer=\"all\", colors=\"blue\", label=\"captured by wells\")\n",
    "mm.plot_pathline(pr1, layer=\"all\", colors=\"green\", label=\"captured by rivers\")\n",
    "mm.plot_endpoint(epd1, direction=\"starting\", colorbar=True)\n",
    "mm.ax.legend();"
   ]
  },
  {
   "cell_type": "markdown",
   "metadata": {},
   "source": [
    "### Compare MODPATH results\n",
    "\n",
    "Compare MODPATH results for MODFLOW-2005 and MODFLOW 6. Also show pathline points every 5th point."
   ]
  },
  {
   "cell_type": "code",
   "execution_count": null,
   "metadata": {
    "execution": {
     "iopub.execute_input": "2023-05-02T02:57:15.570540Z",
     "iopub.status.busy": "2023-05-02T02:57:15.570183Z",
     "iopub.status.idle": "2023-05-02T02:57:29.331262Z",
     "shell.execute_reply": "2023-05-02T02:57:29.329528Z"
    }
   },
   "outputs": [],
   "source": [
    "f, axes = plt.subplots(ncols=3, nrows=1, sharey=True, figsize=(15, 10))\n",
    "axes = axes.flatten()\n",
    "ax = axes[0]\n",
    "ax.set_aspect(\"equal\")\n",
    "mm = flopy.plot.PlotMapView(model=m, ax=ax)\n",
    "mm.plot_grid(lw=0.5)\n",
    "mm.plot_pathline(\n",
    "    pw0,\n",
    "    layer=\"all\",\n",
    "    colors=\"blue\",\n",
    "    lw=1,\n",
    "    marker=\"o\",\n",
    "    markercolor=\"black\",\n",
    "    markersize=3,\n",
    "    markerevery=5,\n",
    ")\n",
    "mm.plot_pathline(\n",
    "    pr0,\n",
    "    layer=\"all\",\n",
    "    colors=\"green\",\n",
    "    lw=1,\n",
    "    marker=\"o\",\n",
    "    markercolor=\"black\",\n",
    "    markersize=3,\n",
    "    markerevery=5,\n",
    ")\n",
    "ax.set_title(\"MODFLOW-2005\")\n",
    "\n",
    "ax = axes[1]\n",
    "ax.set_aspect(\"equal\")\n",
    "mm = flopy.plot.PlotMapView(model=gwf, ax=ax)\n",
    "mm.plot_grid(lw=0.5)\n",
    "mm.plot_pathline(\n",
    "    pw1,\n",
    "    layer=\"all\",\n",
    "    colors=\"blue\",\n",
    "    lw=1,\n",
    "    marker=\"o\",\n",
    "    markercolor=\"black\",\n",
    "    markersize=3,\n",
    "    markerevery=5,\n",
    ")\n",
    "mm.plot_pathline(\n",
    "    pr1,\n",
    "    layer=\"all\",\n",
    "    colors=\"green\",\n",
    "    lw=1,\n",
    "    marker=\"o\",\n",
    "    markercolor=\"black\",\n",
    "    markersize=3,\n",
    "    markerevery=5,\n",
    ")\n",
    "ax.set_title(\"MODFLOW 6\")\n",
    "\n",
    "\n",
    "ax = axes[2]\n",
    "ax.set_aspect(\"equal\")\n",
    "mm = flopy.plot.PlotMapView(model=m, ax=ax)\n",
    "mm.plot_grid(lw=0.5)\n",
    "mm.plot_pathline(pw1, layer=\"all\", colors=\"blue\", lw=1, label=\"MODFLOW 6\")\n",
    "mm.plot_pathline(\n",
    "    pw0, layer=\"all\", colors=\"blue\", lw=1, linestyle=\":\", label=\"MODFLOW-2005\"\n",
    ")\n",
    "mm.plot_pathline(pr1, layer=\"all\", colors=\"green\", lw=1, label=\"_none\")\n",
    "mm.plot_pathline(\n",
    "    pr0, layer=\"all\", colors=\"green\", lw=1, linestyle=\":\", label=\"_none\"\n",
    ")\n",
    "ax.legend()\n",
    "ax.set_title(\"MODFLOW 2005 and MODFLOW 6\");"
   ]
  }
 ],
 "metadata": {
  "kernelspec": {
   "display_name": "Python 3 (ipykernel)",
   "language": "python",
   "name": "python3"
  },
  "language_info": {
   "codemirror_mode": {
    "name": "ipython",
    "version": 3
   },
   "file_extension": ".py",
   "mimetype": "text/x-python",
   "name": "python",
   "nbconvert_exporter": "python",
   "pygments_lexer": "ipython3",
   "version": "3.11.0"
  }
 },
 "nbformat": 4,
 "nbformat_minor": 4
}
