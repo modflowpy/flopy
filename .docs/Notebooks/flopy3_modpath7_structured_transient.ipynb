{
 "cells": [
  {
   "attachments": {},
   "cell_type": "markdown",
   "metadata": {
    "collapsed": false
   },
   "source": [
    "# Using MODPATH 7 with structured grids (transient example)\n",
    "\n",
    "This notebook reproduces example 3a from the MODPATH 7 documentation, demonstrating a transient MODFLOW 6 simulation based on the same flow system as the basic structured and unstructured examples. Particles are released at 10 20-day intervals for the first 200 days of the simulation. 2 discharge wells are added 100,000 days into the simulation and pump at a constant rate for the remainder. There are three stress periods:\n",
    "\n",
    "| Stress period | Type         | Time steps | Length (days) |\n",
    "|:--------------|:-------------|:-----------|:--------------|\n",
    "| 1             | steady-state | 1          | 100000        |\n",
    "| 2             | transient    | 10         | 36500         |\n",
    "| 3             | steady-state | 1          | 100000        |\n",
    "\n",
    "## Setting up the simulation\n",
    "\n",
    "First import FloPy and set up a temporary workspace."
   ]
  },
  {
   "cell_type": "code",
   "execution_count": null,
   "metadata": {
    "execution": {
     "iopub.execute_input": "2023-05-02T02:56:07.449826Z",
     "iopub.status.busy": "2023-05-02T02:56:07.449482Z",
     "iopub.status.idle": "2023-05-02T02:56:09.529073Z",
     "shell.execute_reply": "2023-05-02T02:56:09.528034Z"
    }
   },
   "outputs": [],
   "source": [
    "import sys\n",
    "import os\n",
    "from os.path import join\n",
    "from pathlib import Path\n",
    "from tempfile import TemporaryDirectory\n",
    "\n",
    "import numpy as np\n",
    "import matplotlib as mpl\n",
    "import matplotlib.pyplot as plt\n",
    "\n",
    "proj_root = Path.cwd().parent.parent\n",
    "\n",
    "# run installed version of flopy or add local path\n",
    "try:\n",
    "    import flopy\n",
    "except:\n",
    "    sys.path.append(proj_root)\n",
    "    import flopy\n",
    "\n",
    "print(sys.version)\n",
    "print(\"numpy version: {}\".format(np.__version__))\n",
    "print(\"matplotlib version: {}\".format(mpl.__version__))\n",
    "print(\"flopy version: {}\".format(flopy.__version__))\n",
    "\n",
    "temp_dir = TemporaryDirectory()\n",
    "sim_name = \"mp7_ex03a_mf6\"\n",
    "workspace = Path(temp_dir.name) / sim_name"
   ]
  },
  {
   "cell_type": "markdown",
   "metadata": {
    "collapsed": false
   },
   "source": [
    "Define flow model data."
   ]
  },
  {
   "cell_type": "code",
   "execution_count": null,
   "metadata": {
    "execution": {
     "iopub.execute_input": "2023-05-02T02:56:09.575169Z",
     "iopub.status.busy": "2023-05-02T02:56:09.574773Z",
     "iopub.status.idle": "2023-05-02T02:56:09.581144Z",
     "shell.execute_reply": "2023-05-02T02:56:09.580329Z"
    }
   },
   "outputs": [],
   "source": [
    "nlay, nrow, ncol = 3, 21, 20\n",
    "delr = delc = 500.0\n",
    "top = 400.0\n",
    "botm = [220.0, 200.0, 0.0]\n",
    "laytyp = [1, 0, 0]\n",
    "kh = [50.0, 0.01, 200.0]\n",
    "kv = [10.0, 0.01, 20.0]\n",
    "rch = 0.005\n",
    "riv_h = 320.0\n",
    "riv_z = 317.0\n",
    "riv_c = 1.0e5"
   ]
  },
  {
   "cell_type": "markdown",
   "metadata": {
    "collapsed": false
   },
   "source": [
    "Define well data. Although this notebook will refer to layer/row/column indices starting at 1, indices in FloPy (and more generally in Python) are zero-based. A negative discharge indicates pumping, while a positive value indicates injection."
   ]
  },
  {
   "cell_type": "code",
   "execution_count": null,
   "metadata": {
    "execution": {
     "iopub.execute_input": "2023-05-02T02:56:09.585320Z",
     "iopub.status.busy": "2023-05-02T02:56:09.584996Z",
     "iopub.status.idle": "2023-05-02T02:56:09.589523Z",
     "shell.execute_reply": "2023-05-02T02:56:09.588549Z"
    }
   },
   "outputs": [],
   "source": [
    "wells = [\n",
    "    # layer, row, col, discharge\n",
    "    (0, 10, 9, -75000),\n",
    "    (2, 12, 4, -100000),\n",
    "]"
   ]
  },
  {
   "cell_type": "markdown",
   "metadata": {
    "collapsed": false
   },
   "source": [
    "Define the drain location."
   ]
  },
  {
   "cell_type": "code",
   "execution_count": null,
   "metadata": {
    "execution": {
     "iopub.execute_input": "2023-05-02T02:56:09.593419Z",
     "iopub.status.busy": "2023-05-02T02:56:09.593105Z",
     "iopub.status.idle": "2023-05-02T02:56:09.597802Z",
     "shell.execute_reply": "2023-05-02T02:56:09.596479Z"
    }
   },
   "outputs": [],
   "source": [
    "drain = (0, 14, (9, 20))"
   ]
  },
  {
   "cell_type": "markdown",
   "metadata": {
    "collapsed": false
   },
   "source": [
    "Configure locations for particle tracking to terminate. We have three explicitly defined termination zones:\n",
    "\n",
    "- `2`: the well in layer 1, at row 11, column 10\n",
    "- `3`: the well in layer 3, at row 13, column 5\n",
    "- `4`: the drain in layer 1, running through row 15 from column 10-20\n",
    "\n",
    "MODFLOW 6 reserves zone number `1` to indicate that particles may move freely within the zone.\n",
    "\n",
    "The river running through column 20 is also a termination zone, but it doesn't need to be defined separately since we are using the RIV package."
   ]
  },
  {
   "cell_type": "code",
   "execution_count": null,
   "metadata": {
    "execution": {
     "iopub.execute_input": "2023-05-02T02:56:09.601445Z",
     "iopub.status.busy": "2023-05-02T02:56:09.601103Z",
     "iopub.status.idle": "2023-05-02T02:56:09.606247Z",
     "shell.execute_reply": "2023-05-02T02:56:09.605481Z"
    }
   },
   "outputs": [],
   "source": [
    "zone_maps = []\n",
    "\n",
    "\n",
    "# zone 1 is the default (non-terminating regions)\n",
    "def fill_zone_1():\n",
    "    return np.ones((nrow, ncol), dtype=np.int32)\n",
    "\n",
    "\n",
    "# zone map for layer 1\n",
    "za = fill_zone_1()\n",
    "za[wells[0][1:3]] = 2\n",
    "za[drain[1], drain[2][0] : drain[2][1]] = 4\n",
    "zone_maps.append(za)\n",
    "\n",
    "# constant layer 2 (zone 1)\n",
    "zone_maps.append(1)\n",
    "\n",
    "# zone map for layer 3\n",
    "za = fill_zone_1()\n",
    "za[wells[1][1:3]] = 3\n",
    "zone_maps.append(za)"
   ]
  },
  {
   "cell_type": "markdown",
   "metadata": {
    "collapsed": false
   },
   "source": [
    "Define particles to track. We release particles from the top of a 2x2 square of cells in the upper left of the model grid's top layer."
   ]
  },
  {
   "cell_type": "code",
   "execution_count": null,
   "metadata": {
    "execution": {
     "iopub.execute_input": "2023-05-02T02:56:09.609070Z",
     "iopub.status.busy": "2023-05-02T02:56:09.608770Z",
     "iopub.status.idle": "2023-05-02T02:56:09.613865Z",
     "shell.execute_reply": "2023-05-02T02:56:09.613123Z"
    }
   },
   "outputs": [],
   "source": [
    "rel_minl = rel_maxl = 1\n",
    "rel_minr = 2\n",
    "rel_maxr = 3\n",
    "rel_minc = 2\n",
    "rel_maxc = 3\n",
    "sd = flopy.modpath.CellDataType(\n",
    "    drape=0\n",
    ")  # particles added at top of cell (no drape)\n",
    "pd = flopy.modpath.LRCParticleData(\n",
    "    subdivisiondata=[sd],\n",
    "    lrcregions=[\n",
    "        [[rel_minl, rel_minr, rel_minc, rel_maxl, rel_maxr, rel_maxc]]\n",
    "    ],\n",
    ")\n",
    "pg = flopy.modpath.ParticleGroupLRCTemplate(\n",
    "    particlegroupname=\"PG1\", particledata=pd, filename=f\"{sim_name}.pg1.sloc\"\n",
    ")\n",
    "pgs = [pg]\n",
    "defaultiface = {\"RECHARGE\": 6, \"ET\": 6}"
   ]
  },
  {
   "cell_type": "markdown",
   "metadata": {
    "collapsed": false
   },
   "source": [
    "Create the MODFLOW 6 simulation."
   ]
  },
  {
   "cell_type": "code",
   "execution_count": null,
   "metadata": {
    "execution": {
     "iopub.execute_input": "2023-05-02T02:56:09.616826Z",
     "iopub.status.busy": "2023-05-02T02:56:09.616517Z",
     "iopub.status.idle": "2023-05-02T02:56:09.707437Z",
     "shell.execute_reply": "2023-05-02T02:56:09.706741Z"
    }
   },
   "outputs": [],
   "source": [
    "# simulation\n",
    "sim = flopy.mf6.MFSimulation(\n",
    "    sim_name=sim_name, exe_name=\"mf6\", version=\"mf6\", sim_ws=workspace\n",
    ")\n",
    "\n",
    "# temporal discretization\n",
    "nper = 3\n",
    "pd = [\n",
    "    # perlen, nstp, tsmult\n",
    "    (100000, 1, 1),\n",
    "    (36500, 10, 1),\n",
    "    (100000, 1, 1),\n",
    "]\n",
    "tdis = flopy.mf6.modflow.mftdis.ModflowTdis(\n",
    "    sim, pname=\"tdis\", time_units=\"DAYS\", nper=nper, perioddata=pd\n",
    ")\n",
    "\n",
    "# groundwater flow (gwf) model\n",
    "model_nam_file = \"{}.nam\".format(sim_name)\n",
    "gwf = flopy.mf6.ModflowGwf(\n",
    "    sim, modelname=sim_name, model_nam_file=model_nam_file, save_flows=True\n",
    ")\n",
    "\n",
    "# iterative model solver (ims) package\n",
    "ims = flopy.mf6.modflow.mfims.ModflowIms(\n",
    "    sim,\n",
    "    pname=\"ims\",\n",
    "    complexity=\"SIMPLE\",\n",
    "    outer_dvclose=1e-6,\n",
    "    inner_dvclose=1e-6,\n",
    "    rcloserecord=1e-6,\n",
    ")\n",
    "\n",
    "# grid discretization\n",
    "dis = flopy.mf6.modflow.mfgwfdis.ModflowGwfdis(\n",
    "    gwf,\n",
    "    pname=\"dis\",\n",
    "    nlay=nlay,\n",
    "    nrow=nrow,\n",
    "    ncol=ncol,\n",
    "    length_units=\"FEET\",\n",
    "    delr=delr,\n",
    "    delc=delc,\n",
    "    top=top,\n",
    "    botm=botm,\n",
    ")\n",
    "\n",
    "# initial conditions\n",
    "ic = flopy.mf6.modflow.mfgwfic.ModflowGwfic(gwf, pname=\"ic\", strt=top)\n",
    "\n",
    "# node property flow\n",
    "npf = flopy.mf6.modflow.mfgwfnpf.ModflowGwfnpf(\n",
    "    gwf, pname=\"npf\", icelltype=laytyp, k=kh, k33=kv\n",
    ")\n",
    "\n",
    "# recharge\n",
    "rch = flopy.mf6.modflow.mfgwfrcha.ModflowGwfrcha(gwf, recharge=rch)\n",
    "\n",
    "\n",
    "# wells\n",
    "def no_flow(w):\n",
    "    return w[0], w[1], w[2], 0\n",
    "\n",
    "\n",
    "wel = flopy.mf6.modflow.mfgwfwel.ModflowGwfwel(\n",
    "    gwf,\n",
    "    maxbound=1,\n",
    "    stress_period_data={0: [no_flow(w) for w in wells], 1: wells, 2: wells},\n",
    ")\n",
    "\n",
    "# river\n",
    "rd = [[(0, i, ncol - 1), riv_h, riv_c, riv_z] for i in range(nrow)]\n",
    "flopy.mf6.modflow.mfgwfriv.ModflowGwfriv(\n",
    "    gwf, stress_period_data={0: rd, 1: rd, 2: rd}\n",
    ")\n",
    "\n",
    "# drain (set auxiliary IFACE var to 6 for top of cell)\n",
    "dd = [\n",
    "    [drain[0], drain[1], i + drain[2][0], 322.5, 100000.0, 6]\n",
    "    for i in range(drain[2][1] - drain[2][0])\n",
    "]\n",
    "drn = flopy.mf6.modflow.mfgwfdrn.ModflowGwfdrn(gwf, stress_period_data={0: dd})\n",
    "\n",
    "# output control\n",
    "headfile = \"{}.hds\".format(sim_name)\n",
    "head_record = [headfile]\n",
    "budgetfile = \"{}.cbb\".format(sim_name)\n",
    "budget_record = [budgetfile]\n",
    "saverecord = [(\"HEAD\", \"ALL\"), (\"BUDGET\", \"ALL\")]\n",
    "oc = flopy.mf6.modflow.mfgwfoc.ModflowGwfoc(\n",
    "    gwf,\n",
    "    pname=\"oc\",\n",
    "    saverecord=saverecord,\n",
    "    head_filerecord=head_record,\n",
    "    budget_filerecord=budget_record,\n",
    ")"
   ]
  },
  {
   "cell_type": "markdown",
   "metadata": {
    "collapsed": false
   },
   "source": [
    "Take a look at the model grid before running the simulation."
   ]
  },
  {
   "cell_type": "code",
   "execution_count": null,
   "metadata": {
    "execution": {
     "iopub.execute_input": "2023-05-02T02:56:09.710450Z",
     "iopub.status.busy": "2023-05-02T02:56:09.710140Z",
     "iopub.status.idle": "2023-05-02T02:56:09.977456Z",
     "shell.execute_reply": "2023-05-02T02:56:09.976498Z"
    }
   },
   "outputs": [],
   "source": [
    "def add_release(ax):\n",
    "    ax.add_patch(\n",
    "        mpl.patches.Rectangle(\n",
    "            (2 * delc, (nrow - 2) * delr),\n",
    "            1000,\n",
    "            -1000,\n",
    "            facecolor=\"green\",\n",
    "        )\n",
    "    )\n",
    "\n",
    "\n",
    "def add_legend(ax):\n",
    "    ax.legend(\n",
    "        handles=[\n",
    "            mpl.patches.Patch(color=\"teal\", label=\"river\"),\n",
    "            mpl.patches.Patch(color=\"red\", label=\"wells \"),\n",
    "            mpl.patches.Patch(color=\"yellow\", label=\"drain\"),\n",
    "            mpl.patches.Patch(color=\"green\", label=\"release\"),\n",
    "        ]\n",
    "    )\n",
    "\n",
    "\n",
    "fig = plt.figure(figsize=(8, 8))\n",
    "ax = fig.add_subplot(1, 1, 1, aspect=\"equal\")\n",
    "mv = flopy.plot.PlotMapView(model=gwf)\n",
    "mv.plot_grid()\n",
    "mv.plot_bc(\"DRN\")\n",
    "mv.plot_bc(\"RIV\")\n",
    "mv.plot_bc(\"WEL\", plotAll=True)  # include both wells (1st and 3rd layer)\n",
    "add_release(ax)\n",
    "add_legend(ax)\n",
    "plt.show()"
   ]
  },
  {
   "cell_type": "markdown",
   "metadata": {
    "collapsed": false
   },
   "source": [
    "# Running the simulation\n",
    "\n",
    "Run the MODFLOW 6 flow simulation."
   ]
  },
  {
   "cell_type": "code",
   "execution_count": null,
   "metadata": {
    "execution": {
     "iopub.execute_input": "2023-05-02T02:56:09.980683Z",
     "iopub.status.busy": "2023-05-02T02:56:09.980381Z",
     "iopub.status.idle": "2023-05-02T02:56:10.163694Z",
     "shell.execute_reply": "2023-05-02T02:56:10.162770Z"
    }
   },
   "outputs": [],
   "source": [
    "sim.write_simulation()\n",
    "success, buff = sim.run_simulation(silent=True, report=True)\n",
    "assert success, \"Failed to run simulation.\"\n",
    "for line in buff:\n",
    "    print(line)"
   ]
  },
  {
   "cell_type": "markdown",
   "metadata": {
    "collapsed": false
   },
   "source": [
    "Create and run MODPATH 7 particle tracking model in `combined` mode, which includes both pathline and timeseries."
   ]
  },
  {
   "cell_type": "code",
   "execution_count": null,
   "metadata": {
    "execution": {
     "iopub.execute_input": "2023-05-02T02:56:10.167065Z",
     "iopub.status.busy": "2023-05-02T02:56:10.166738Z",
     "iopub.status.idle": "2023-05-02T02:56:10.382965Z",
     "shell.execute_reply": "2023-05-02T02:56:10.381625Z"
    }
   },
   "outputs": [],
   "source": [
    "# create modpath files\n",
    "mp = flopy.modpath.Modpath7(\n",
    "    modelname=f\"{sim_name}_mp\",\n",
    "    flowmodel=gwf,\n",
    "    exe_name=\"mp7\",\n",
    "    model_ws=workspace,\n",
    ")\n",
    "mpbas = flopy.modpath.Modpath7Bas(mp, porosity=0.1, defaultiface=defaultiface)\n",
    "mpsim = flopy.modpath.Modpath7Sim(\n",
    "    mp,\n",
    "    simulationtype=\"combined\",\n",
    "    trackingdirection=\"forward\",\n",
    "    weaksinkoption=\"pass_through\",\n",
    "    weaksourceoption=\"pass_through\",\n",
    "    budgetoutputoption=\"summary\",\n",
    "    referencetime=[0, 0, 0.9],\n",
    "    timepointdata=[10, 20.0],  # release every 20 days, for 200 days\n",
    "    zonedataoption=\"on\",\n",
    "    zones=zone_maps,\n",
    "    particlegroups=pgs,\n",
    ")\n",
    "\n",
    "mp.write_input()\n",
    "success, buff = mp.run_model(silent=True, report=True)\n",
    "assert success\n",
    "for line in buff:\n",
    "    print(line)"
   ]
  },
  {
   "cell_type": "markdown",
   "metadata": {
    "collapsed": false
   },
   "source": [
    "## Inspecting results\n",
    "\n",
    "First we need the particle termination locations."
   ]
  },
  {
   "cell_type": "code",
   "execution_count": null,
   "metadata": {
    "execution": {
     "iopub.execute_input": "2023-05-02T02:56:10.387027Z",
     "iopub.status.busy": "2023-05-02T02:56:10.386421Z",
     "iopub.status.idle": "2023-05-02T02:56:10.397336Z",
     "shell.execute_reply": "2023-05-02T02:56:10.396445Z"
    }
   },
   "outputs": [],
   "source": [
    "wel_locs = [w[0:3] for w in wells]\n",
    "riv_locs = [(0, i, 19) for i in range(20)]\n",
    "drn_locs = [(drain[0], drain[1], d) for d in range(drain[2][0], drain[2][1])]\n",
    "wel_nids = gwf.modelgrid.get_node(wel_locs)\n",
    "riv_nids = gwf.modelgrid.get_node(riv_locs)\n",
    "drn_nids = gwf.modelgrid.get_node(drn_locs)"
   ]
  },
  {
   "cell_type": "markdown",
   "metadata": {
    "collapsed": false
   },
   "source": [
    "Next, load pathline data from the MODPATH 7 pathline output file, filtering by termination location."
   ]
  },
  {
   "cell_type": "code",
   "execution_count": null,
   "metadata": {
    "execution": {
     "iopub.execute_input": "2023-05-02T02:56:10.400933Z",
     "iopub.status.busy": "2023-05-02T02:56:10.400620Z",
     "iopub.status.idle": "2023-05-02T02:56:10.443194Z",
     "shell.execute_reply": "2023-05-02T02:56:10.442340Z"
    }
   },
   "outputs": [],
   "source": [
    "fpth = workspace / f\"{sim_name}_mp.mppth\"\n",
    "p = flopy.utils.PathlineFile(fpth)\n",
    "\n",
    "pl1 = p.get_destination_pathline_data(wel_nids, to_recarray=True)\n",
    "pl2 = p.get_destination_pathline_data(riv_nids + drn_nids, to_recarray=True)"
   ]
  },
  {
   "cell_type": "markdown",
   "metadata": {
    "collapsed": false
   },
   "source": [
    "Load endpoint data from the MODPATH 7 endpoint output file."
   ]
  },
  {
   "cell_type": "code",
   "execution_count": null,
   "metadata": {
    "execution": {
     "iopub.execute_input": "2023-05-02T02:56:10.446937Z",
     "iopub.status.busy": "2023-05-02T02:56:10.446601Z",
     "iopub.status.idle": "2023-05-02T02:56:10.462567Z",
     "shell.execute_reply": "2023-05-02T02:56:10.461749Z"
    }
   },
   "outputs": [],
   "source": [
    "fpth = workspace / f\"{sim_name}_mp.mpend\"\n",
    "e = flopy.utils.EndpointFile(fpth)\n",
    "\n",
    "ep1 = e.get_destination_endpoint_data(dest_cells=wel_nids)\n",
    "ep2 = e.get_destination_endpoint_data(dest_cells=riv_nids + drn_nids)"
   ]
  },
  {
   "cell_type": "markdown",
   "metadata": {
    "collapsed": false
   },
   "source": [
    "Extract head data from the GWF model's output files."
   ]
  },
  {
   "cell_type": "code",
   "execution_count": null,
   "metadata": {
    "execution": {
     "iopub.execute_input": "2023-05-02T02:56:10.465585Z",
     "iopub.status.busy": "2023-05-02T02:56:10.465306Z",
     "iopub.status.idle": "2023-05-02T02:56:10.473664Z",
     "shell.execute_reply": "2023-05-02T02:56:10.472573Z"
    }
   },
   "outputs": [],
   "source": [
    "hf = flopy.utils.HeadFile(workspace / f\"{sim_name}.hds\")\n",
    "head = hf.get_data()"
   ]
  },
  {
   "cell_type": "markdown",
   "metadata": {
    "collapsed": false
   },
   "source": [
    "Plot heads over a map view of the model, then add particle starting points and pathlines. The apparent number of particle starting locations is less than the total number of particles because a separate particle begins at each location every 20 days during the release period at the beginning of the simulation."
   ]
  },
  {
   "cell_type": "code",
   "execution_count": null,
   "metadata": {
    "execution": {
     "iopub.execute_input": "2023-05-02T02:56:10.477950Z",
     "iopub.status.busy": "2023-05-02T02:56:10.477547Z",
     "iopub.status.idle": "2023-05-02T02:56:10.972843Z",
     "shell.execute_reply": "2023-05-02T02:56:10.971138Z"
    }
   },
   "outputs": [],
   "source": [
    "fig = plt.figure(figsize=(10, 10))\n",
    "ax = fig.add_subplot(1, 1, 1, aspect=\"equal\")\n",
    "\n",
    "mv = flopy.plot.PlotMapView(model=gwf)\n",
    "mv.plot_grid(lw=0.5)\n",
    "mv.plot_bc(\"DRN\")\n",
    "mv.plot_bc(\"RIV\")\n",
    "mv.plot_bc(\"WEL\", plotAll=True)\n",
    "hd = mv.plot_array(head, alpha=0.1)\n",
    "cb = plt.colorbar(hd, shrink=0.5)\n",
    "cb.set_label(\"Head\")\n",
    "mv.plot_pathline(\n",
    "    pl1, layer=\"all\", alpha=0.1, colors=[\"red\"], lw=2, label=\"captured by well\"\n",
    ")\n",
    "mv.plot_pathline(\n",
    "    pl2,\n",
    "    layer=\"all\",\n",
    "    alpha=0.1,\n",
    "    colors=[\"blue\"],\n",
    "    lw=2,\n",
    "    label=\"captured by drain/river\",\n",
    ")\n",
    "add_release(ax)\n",
    "mv.ax.legend()\n",
    "plt.show()"
   ]
  },
  {
   "cell_type": "markdown",
   "metadata": {
    "collapsed": false
   },
   "source": [
    "Clean up the temporary directory."
   ]
  },
  {
   "cell_type": "code",
   "execution_count": null,
   "metadata": {
    "execution": {
     "iopub.execute_input": "2023-05-02T02:56:10.979389Z",
     "iopub.status.busy": "2023-05-02T02:56:10.978990Z",
     "iopub.status.idle": "2023-05-02T02:56:10.997622Z",
     "shell.execute_reply": "2023-05-02T02:56:10.996138Z"
    }
   },
   "outputs": [],
   "source": [
    "try:\n",
    "    # ignore PermissionError on Windows\n",
    "    temp_dir.cleanup()\n",
    "except:\n",
    "    pass"
   ]
  }
 ],
 "metadata": {
  "kernelspec": {
   "display_name": "Python 3",
   "language": "python",
   "name": "python3"
  },
  "language_info": {
   "codemirror_mode": {
    "name": "ipython",
    "version": 3
   },
   "file_extension": ".py",
   "mimetype": "text/x-python",
   "name": "python",
   "nbconvert_exporter": "python",
   "pygments_lexer": "ipython3",
   "version": "3.11.0"
  }
 },
 "nbformat": 4,
 "nbformat_minor": 4
}
