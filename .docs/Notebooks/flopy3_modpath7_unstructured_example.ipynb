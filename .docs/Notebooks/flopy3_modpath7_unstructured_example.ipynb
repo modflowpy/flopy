{
 "cells": [
  {
   "attachments": {},
   "cell_type": "markdown",
   "metadata": {},
   "source": [
    "# Using MODPATH 7 with a DISV unstructured model\n",
    "\n",
    "This is a replication of the MODPATH Problem 2 example that is described on page 12 of the modpath_7_examples.pdf file.  The results shown here should be the same as the results in the MODPATH example, however, the vertex and node numbering used here may be different from the numbering used in MODPATH, so head values may not be compared directly without some additional mapping."
   ]
  },
  {
   "cell_type": "markdown",
   "metadata": {},
   "source": [
    "## Part I. Setup Notebook"
   ]
  },
  {
   "cell_type": "code",
   "execution_count": null,
   "metadata": {
    "execution": {
     "iopub.execute_input": "2023-05-02T02:56:02.856552Z",
     "iopub.status.busy": "2023-05-02T02:56:02.856184Z",
     "iopub.status.idle": "2023-05-02T02:56:04.931875Z",
     "shell.execute_reply": "2023-05-02T02:56:04.930904Z"
    }
   },
   "outputs": [],
   "source": [
    "import sys\n",
    "import os\n",
    "from pathlib import Path\n",
    "from tempfile import TemporaryDirectory\n",
    "\n",
    "import numpy as np\n",
    "import matplotlib as mpl\n",
    "import matplotlib.pyplot as plt\n",
    "\n",
    "proj_root = Path.cwd().parent.parent\n",
    "\n",
    "# run installed version of flopy or add local path\n",
    "try:\n",
    "    import flopy\n",
    "except:\n",
    "    sys.path.append(proj_root)\n",
    "    import flopy\n",
    "\n",
    "print(sys.version)\n",
    "print(\"numpy version: {}\".format(np.__version__))\n",
    "print(\"matplotlib version: {}\".format(mpl.__version__))\n",
    "print(\"flopy version: {}\".format(flopy.__version__))\n",
    "\n",
    "# temporary directory\n",
    "temp_dir = TemporaryDirectory()\n",
    "workspace = Path(temp_dir.name)"
   ]
  },
  {
   "cell_type": "markdown",
   "metadata": {},
   "source": [
    "## Part II. Gridgen Creation of Model Grid\n",
    "\n",
    "Create the base model grid."
   ]
  },
  {
   "cell_type": "code",
   "execution_count": null,
   "metadata": {
    "execution": {
     "iopub.execute_input": "2023-05-02T02:56:04.981532Z",
     "iopub.status.busy": "2023-05-02T02:56:04.981006Z",
     "iopub.status.idle": "2023-05-02T02:56:04.987034Z",
     "shell.execute_reply": "2023-05-02T02:56:04.986185Z"
    }
   },
   "outputs": [],
   "source": [
    "Lx = 10000.0\n",
    "Ly = 10500.0\n",
    "nlay = 3\n",
    "nrow = 21\n",
    "ncol = 20\n",
    "delr = Lx / ncol\n",
    "delc = Ly / nrow\n",
    "top = 400\n",
    "botm = [220, 200, 0]"
   ]
  },
  {
   "cell_type": "code",
   "execution_count": null,
   "metadata": {
    "execution": {
     "iopub.execute_input": "2023-05-02T02:56:04.990525Z",
     "iopub.status.busy": "2023-05-02T02:56:04.990134Z",
     "iopub.status.idle": "2023-05-02T02:56:04.997544Z",
     "shell.execute_reply": "2023-05-02T02:56:04.996605Z"
    }
   },
   "outputs": [],
   "source": [
    "ms = flopy.modflow.Modflow()\n",
    "dis5 = flopy.modflow.ModflowDis(\n",
    "    ms,\n",
    "    nlay=nlay,\n",
    "    nrow=nrow,\n",
    "    ncol=ncol,\n",
    "    delr=delr,\n",
    "    delc=delc,\n",
    "    top=top,\n",
    "    botm=botm,\n",
    ")"
   ]
  },
  {
   "cell_type": "markdown",
   "metadata": {},
   "source": [
    "Create the `Gridgen` object."
   ]
  },
  {
   "cell_type": "code",
   "execution_count": null,
   "metadata": {
    "execution": {
     "iopub.execute_input": "2023-05-02T02:56:05.001220Z",
     "iopub.status.busy": "2023-05-02T02:56:05.000913Z",
     "iopub.status.idle": "2023-05-02T02:56:05.021017Z",
     "shell.execute_reply": "2023-05-02T02:56:05.020115Z"
    }
   },
   "outputs": [],
   "source": [
    "from flopy.utils.gridgen import Gridgen\n",
    "\n",
    "model_name = \"mp7p2_u\"\n",
    "model_ws = workspace / \"mp7_ex2\" / \"mf6\"\n",
    "gridgen_ws = model_ws / \"gridgen\"\n",
    "g = Gridgen(ms.modelgrid, model_ws=gridgen_ws)"
   ]
  },
  {
   "cell_type": "markdown",
   "metadata": {},
   "source": [
    "Refine the grid."
   ]
  },
  {
   "cell_type": "code",
   "execution_count": null,
   "metadata": {
    "execution": {
     "iopub.execute_input": "2023-05-02T02:56:05.024918Z",
     "iopub.status.busy": "2023-05-02T02:56:05.024211Z",
     "iopub.status.idle": "2023-05-02T02:56:05.041919Z",
     "shell.execute_reply": "2023-05-02T02:56:05.041164Z"
    }
   },
   "outputs": [],
   "source": [
    "rf0shp = gridgen_ws / \"rf0\"\n",
    "xmin = 7 * delr\n",
    "xmax = 12 * delr\n",
    "ymin = 8 * delc\n",
    "ymax = 13 * delc\n",
    "rfpoly = [\n",
    "    [\n",
    "        list(\n",
    "            reversed(\n",
    "                [\n",
    "                    (xmin, ymin),\n",
    "                    (xmax, ymin),\n",
    "                    (xmax, ymax),\n",
    "                    (xmin, ymax),\n",
    "                    (xmin, ymin),\n",
    "                ]\n",
    "            )\n",
    "        )\n",
    "    ]\n",
    "]\n",
    "g.add_refinement_features(rfpoly, \"polygon\", 1, range(nlay))\n",
    "\n",
    "rf1shp = gridgen_ws / \"rf1\"\n",
    "xmin = 8 * delr\n",
    "xmax = 11 * delr\n",
    "ymin = 9 * delc\n",
    "ymax = 12 * delc\n",
    "rfpoly = [\n",
    "    [\n",
    "        list(\n",
    "            reversed(\n",
    "                [\n",
    "                    (xmin, ymin),\n",
    "                    (xmax, ymin),\n",
    "                    (xmax, ymax),\n",
    "                    (xmin, ymax),\n",
    "                    (xmin, ymin),\n",
    "                ]\n",
    "            )\n",
    "        )\n",
    "    ]\n",
    "]\n",
    "g.add_refinement_features(rfpoly, \"polygon\", 2, range(nlay))\n",
    "\n",
    "rf2shp = gridgen_ws / \"rf2\"\n",
    "xmin = 9 * delr\n",
    "xmax = 10 * delr\n",
    "ymin = 10 * delc\n",
    "ymax = 11 * delc\n",
    "rfpoly = [\n",
    "    [\n",
    "        list(\n",
    "            reversed(\n",
    "                [\n",
    "                    (xmin, ymin),\n",
    "                    (xmax, ymin),\n",
    "                    (xmax, ymax),\n",
    "                    (xmin, ymax),\n",
    "                    (xmin, ymin),\n",
    "                ]\n",
    "            )\n",
    "        )\n",
    "    ]\n",
    "]\n",
    "g.add_refinement_features(rfpoly, \"polygon\", 3, range(nlay))"
   ]
  },
  {
   "cell_type": "markdown",
   "metadata": {
    "collapsed": false
   },
   "source": [
    "Show the model grid with refinement levels superimposed."
   ]
  },
  {
   "cell_type": "code",
   "execution_count": null,
   "metadata": {
    "execution": {
     "iopub.execute_input": "2023-05-02T02:56:05.045233Z",
     "iopub.status.busy": "2023-05-02T02:56:05.044855Z",
     "iopub.status.idle": "2023-05-02T02:56:05.360766Z",
     "shell.execute_reply": "2023-05-02T02:56:05.359882Z"
    }
   },
   "outputs": [],
   "source": [
    "fig = plt.figure(figsize=(5, 5), constrained_layout=True)\n",
    "ax = fig.add_subplot(1, 1, 1)\n",
    "mm = flopy.plot.PlotMapView(model=ms)\n",
    "mm.plot_grid()\n",
    "flopy.plot.plot_shapefile(rf0shp, ax=ax, facecolor=\"yellow\", edgecolor=\"none\")\n",
    "flopy.plot.plot_shapefile(rf1shp, ax=ax, facecolor=\"pink\", edgecolor=\"none\")\n",
    "flopy.plot.plot_shapefile(rf2shp, ax=ax, facecolor=\"red\", edgecolor=\"none\");"
   ]
  },
  {
   "cell_type": "markdown",
   "metadata": {
    "collapsed": false
   },
   "source": [
    "Build the refined grid."
   ]
  },
  {
   "cell_type": "code",
   "execution_count": null,
   "metadata": {
    "execution": {
     "iopub.execute_input": "2023-05-02T02:56:05.364043Z",
     "iopub.status.busy": "2023-05-02T02:56:05.363758Z",
     "iopub.status.idle": "2023-05-02T02:56:05.932701Z",
     "shell.execute_reply": "2023-05-02T02:56:05.931496Z"
    }
   },
   "outputs": [],
   "source": [
    "g.build(verbose=False)"
   ]
  },
  {
   "cell_type": "markdown",
   "metadata": {
    "collapsed": false
   },
   "source": [
    "Show the refined grid."
   ]
  },
  {
   "cell_type": "code",
   "execution_count": null,
   "metadata": {
    "execution": {
     "iopub.execute_input": "2023-05-02T02:56:05.936410Z",
     "iopub.status.busy": "2023-05-02T02:56:05.936074Z",
     "iopub.status.idle": "2023-05-02T02:56:06.441203Z",
     "shell.execute_reply": "2023-05-02T02:56:06.440290Z"
    }
   },
   "outputs": [],
   "source": [
    "fig = plt.figure(figsize=(5, 5), constrained_layout=True)\n",
    "ax = fig.add_subplot(1, 1, 1, aspect=\"equal\")\n",
    "g.plot(ax, linewidth=0.5);"
   ]
  },
  {
   "cell_type": "markdown",
   "metadata": {},
   "source": [
    "Extract the refined grid's properties."
   ]
  },
  {
   "cell_type": "code",
   "execution_count": null,
   "metadata": {
    "execution": {
     "iopub.execute_input": "2023-05-02T02:56:06.445229Z",
     "iopub.status.busy": "2023-05-02T02:56:06.444825Z",
     "iopub.status.idle": "2023-05-02T02:56:06.624502Z",
     "shell.execute_reply": "2023-05-02T02:56:06.623582Z"
    }
   },
   "outputs": [],
   "source": [
    "gridprops = g.get_gridprops_disv()\n",
    "ncpl = gridprops[\"ncpl\"]\n",
    "top = gridprops[\"top\"]\n",
    "botm = gridprops[\"botm\"]\n",
    "nvert = gridprops[\"nvert\"]\n",
    "vertices = gridprops[\"vertices\"]\n",
    "cell2d = gridprops[\"cell2d\"]"
   ]
  },
  {
   "cell_type": "markdown",
   "metadata": {},
   "source": [
    "## Part III. Create the Flopy Model"
   ]
  },
  {
   "cell_type": "code",
   "execution_count": null,
   "metadata": {
    "execution": {
     "iopub.execute_input": "2023-05-02T02:56:06.629059Z",
     "iopub.status.busy": "2023-05-02T02:56:06.628629Z",
     "iopub.status.idle": "2023-05-02T02:56:07.021351Z",
     "shell.execute_reply": "2023-05-02T02:56:07.020065Z"
    }
   },
   "outputs": [],
   "source": [
    "# create simulation\n",
    "sim = flopy.mf6.MFSimulation(\n",
    "    sim_name=model_name, version=\"mf6\", exe_name=\"mf6\", sim_ws=model_ws\n",
    ")\n",
    "\n",
    "# create tdis package\n",
    "tdis_rc = [(1000.0, 1, 1.0)]\n",
    "tdis = flopy.mf6.ModflowTdis(\n",
    "    sim, pname=\"tdis\", time_units=\"DAYS\", perioddata=tdis_rc\n",
    ")\n",
    "\n",
    "# create gwf model\n",
    "gwf = flopy.mf6.ModflowGwf(\n",
    "    sim, modelname=model_name, model_nam_file=\"{}.nam\".format(model_name)\n",
    ")\n",
    "gwf.name_file.save_flows = True\n",
    "\n",
    "# create iterative model solution and register the gwf model with it\n",
    "ims = flopy.mf6.ModflowIms(\n",
    "    sim,\n",
    "    pname=\"ims\",\n",
    "    print_option=\"SUMMARY\",\n",
    "    complexity=\"SIMPLE\",\n",
    "    outer_dvclose=1.0e-5,\n",
    "    outer_maximum=100,\n",
    "    under_relaxation=\"NONE\",\n",
    "    inner_maximum=100,\n",
    "    inner_dvclose=1.0e-6,\n",
    "    rcloserecord=0.1,\n",
    "    linear_acceleration=\"BICGSTAB\",\n",
    "    scaling_method=\"NONE\",\n",
    "    reordering_method=\"NONE\",\n",
    "    relaxation_factor=0.99,\n",
    ")\n",
    "sim.register_ims_package(ims, [gwf.name])\n",
    "\n",
    "# disv\n",
    "disv = flopy.mf6.ModflowGwfdisv(\n",
    "    gwf,\n",
    "    nlay=nlay,\n",
    "    ncpl=ncpl,\n",
    "    top=top,\n",
    "    botm=botm,\n",
    "    nvert=nvert,\n",
    "    vertices=vertices,\n",
    "    cell2d=cell2d,\n",
    ")\n",
    "\n",
    "# initial conditions\n",
    "ic = flopy.mf6.ModflowGwfic(gwf, pname=\"ic\", strt=320.0)\n",
    "\n",
    "# node property flow\n",
    "npf = flopy.mf6.ModflowGwfnpf(\n",
    "    gwf,\n",
    "    xt3doptions=[(\"xt3d\")],\n",
    "    icelltype=[1, 0, 0],\n",
    "    k=[50.0, 0.01, 200.0],\n",
    "    k33=[10.0, 0.01, 20.0],\n",
    ")\n",
    "\n",
    "# wel\n",
    "wellpoints = [(4750.0, 5250.0)]\n",
    "welcells = g.intersect(wellpoints, \"point\", 0)\n",
    "# welspd = flopy.mf6.ModflowGwfwel.stress_period_data.empty(gwf, maxbound=1, aux_vars=['iface'])\n",
    "welspd = [[(2, icpl), -150000, 0] for icpl in welcells[\"nodenumber\"]]\n",
    "wel = flopy.mf6.ModflowGwfwel(\n",
    "    gwf, print_input=True, auxiliary=[(\"iface\",)], stress_period_data=welspd\n",
    ")\n",
    "\n",
    "# rch\n",
    "aux = [np.ones(ncpl, dtype=int) * 6]\n",
    "rch = flopy.mf6.ModflowGwfrcha(\n",
    "    gwf, recharge=0.005, auxiliary=[(\"iface\",)], aux={0: [6]}\n",
    ")\n",
    "# riv\n",
    "riverline = [[(Lx - 1.0, Ly), (Lx - 1.0, 0.0)]]\n",
    "rivcells = g.intersect(riverline, \"line\", 0)\n",
    "rivspd = [[(0, icpl), 320.0, 100000.0, 318] for icpl in rivcells[\"nodenumber\"]]\n",
    "riv = flopy.mf6.ModflowGwfriv(gwf, stress_period_data=rivspd)\n",
    "\n",
    "# output control\n",
    "oc = flopy.mf6.ModflowGwfoc(\n",
    "    gwf,\n",
    "    pname=\"oc\",\n",
    "    budget_filerecord=\"{}.cbb\".format(model_name),\n",
    "    head_filerecord=\"{}.hds\".format(model_name),\n",
    "    headprintrecord=[(\"COLUMNS\", 10, \"WIDTH\", 15, \"DIGITS\", 6, \"GENERAL\")],\n",
    "    saverecord=[(\"HEAD\", \"ALL\"), (\"BUDGET\", \"ALL\")],\n",
    "    printrecord=[(\"HEAD\", \"ALL\"), (\"BUDGET\", \"ALL\")],\n",
    ")"
   ]
  },
  {
   "cell_type": "markdown",
   "metadata": {
    "collapsed": false
   },
   "source": [
    "Now write the simulation input files."
   ]
  },
  {
   "cell_type": "code",
   "execution_count": null,
   "metadata": {
    "execution": {
     "iopub.execute_input": "2023-05-02T02:56:07.025919Z",
     "iopub.status.busy": "2023-05-02T02:56:07.025505Z",
     "iopub.status.idle": "2023-05-02T02:56:07.141355Z",
     "shell.execute_reply": "2023-05-02T02:56:07.140342Z"
    }
   },
   "outputs": [],
   "source": [
    "sim.write_simulation()"
   ]
  },
  {
   "cell_type": "markdown",
   "metadata": {},
   "source": [
    "## Part IV. Run the MODFLOW 6 Model"
   ]
  },
  {
   "cell_type": "code",
   "execution_count": null,
   "metadata": {
    "execution": {
     "iopub.execute_input": "2023-05-02T02:56:07.145374Z",
     "iopub.status.busy": "2023-05-02T02:56:07.144977Z",
     "iopub.status.idle": "2023-05-02T02:56:07.379393Z",
     "shell.execute_reply": "2023-05-02T02:56:07.378124Z"
    }
   },
   "outputs": [],
   "source": [
    "success, buff = sim.run_simulation(silent=True, report=True)\n",
    "assert success, \"mf6 failed to run\"\n",
    "for line in buff:\n",
    "    print(line)"
   ]
  },
  {
   "cell_type": "markdown",
   "metadata": {},
   "source": [
    "## Part V. Import and Plot the Results"
   ]
  },
  {
   "cell_type": "markdown",
   "metadata": {},
   "source": [
    "Plot the boundary conditions on the grid."
   ]
  },
  {
   "cell_type": "code",
   "execution_count": null,
   "metadata": {
    "execution": {
     "iopub.execute_input": "2023-05-02T02:56:07.383472Z",
     "iopub.status.busy": "2023-05-02T02:56:07.383052Z",
     "iopub.status.idle": "2023-05-02T02:56:07.779276Z",
     "shell.execute_reply": "2023-05-02T02:56:07.778115Z"
    }
   },
   "outputs": [],
   "source": [
    "fname = os.path.join(model_ws, model_name + \".disv.grb\")\n",
    "grd = flopy.mf6.utils.MfGrdFile(fname, verbose=False)\n",
    "mg = grd.modelgrid\n",
    "ibd = np.zeros((ncpl), dtype=int)\n",
    "ibd[welcells[\"nodenumber\"]] = 1\n",
    "ibd[rivcells[\"nodenumber\"]] = 2\n",
    "ibd = np.ma.masked_equal(ibd, 0)\n",
    "fig = plt.figure(figsize=(8, 8), constrained_layout=True)\n",
    "ax = fig.add_subplot(1, 1, 1, aspect=\"equal\")\n",
    "pmv = flopy.plot.PlotMapView(modelgrid=mg, ax=ax)\n",
    "ax.set_xlim(0, Lx)\n",
    "ax.set_ylim(0, Ly)\n",
    "cmap = mpl.colors.ListedColormap(\n",
    "    [\n",
    "        \"r\",\n",
    "        \"g\",\n",
    "    ]\n",
    ")\n",
    "pc = pmv.plot_array(ibd, cmap=cmap, edgecolor=\"gray\")\n",
    "t = ax.set_title(\"Boundary Conditions\\n\");"
   ]
  },
  {
   "cell_type": "code",
   "execution_count": null,
   "metadata": {
    "execution": {
     "iopub.execute_input": "2023-05-02T02:56:07.783649Z",
     "iopub.status.busy": "2023-05-02T02:56:07.783236Z",
     "iopub.status.idle": "2023-05-02T02:56:07.793423Z",
     "shell.execute_reply": "2023-05-02T02:56:07.792429Z"
    }
   },
   "outputs": [],
   "source": [
    "fname = os.path.join(model_ws, model_name + \".hds\")\n",
    "hdobj = flopy.utils.HeadFile(fname)\n",
    "head = hdobj.get_data()\n",
    "head.shape"
   ]
  },
  {
   "cell_type": "code",
   "execution_count": null,
   "metadata": {
    "execution": {
     "iopub.execute_input": "2023-05-02T02:56:07.797274Z",
     "iopub.status.busy": "2023-05-02T02:56:07.796693Z",
     "iopub.status.idle": "2023-05-02T02:56:08.480888Z",
     "shell.execute_reply": "2023-05-02T02:56:08.479805Z"
    }
   },
   "outputs": [],
   "source": [
    "ilay = 2\n",
    "cint = 0.25\n",
    "fig = plt.figure(figsize=(8, 8), constrained_layout=True)\n",
    "ax = fig.add_subplot(1, 1, 1, aspect=\"equal\")\n",
    "mm = flopy.plot.PlotMapView(modelgrid=mg, ax=ax, layer=ilay)\n",
    "ax.set_xlim(0, Lx)\n",
    "ax.set_ylim(0, Ly)\n",
    "pc = mm.plot_array(head[:, 0, :], cmap=\"jet\", edgecolor=\"black\")\n",
    "hmin = head[ilay, 0, :].min()\n",
    "hmax = head[ilay, 0, :].max()\n",
    "levels = np.arange(np.floor(hmin), np.ceil(hmax) + cint, cint)\n",
    "cs = mm.contour_array(head[:, 0, :], colors=\"white\", levels=levels)\n",
    "plt.clabel(cs, fmt=\"%.1f\", colors=\"white\", fontsize=11)\n",
    "cb = plt.colorbar(pc, shrink=0.5)\n",
    "t = ax.set_title(\n",
    "    \"Model Layer {}; hmin={:6.2f}, hmax={:6.2f}\".format(ilay + 1, hmin, hmax)\n",
    ");"
   ]
  },
  {
   "cell_type": "markdown",
   "metadata": {},
   "source": [
    "Inspect model cells and vertices."
   ]
  },
  {
   "cell_type": "code",
   "execution_count": null,
   "metadata": {
    "execution": {
     "iopub.execute_input": "2023-05-02T02:56:08.485764Z",
     "iopub.status.busy": "2023-05-02T02:56:08.485371Z",
     "iopub.status.idle": "2023-05-02T02:56:10.446593Z",
     "shell.execute_reply": "2023-05-02T02:56:10.445617Z"
    }
   },
   "outputs": [],
   "source": [
    "# zoom area\n",
    "xmin, xmax = 2000, 4500\n",
    "ymin, ymax = 5400, 7500\n",
    "\n",
    "mg.get_cell_vertices\n",
    "fig = plt.figure(figsize=(8, 8), constrained_layout=True)\n",
    "ax = fig.add_subplot(1, 1, 1, aspect=\"equal\")\n",
    "mm = flopy.plot.PlotMapView(modelgrid=mg, ax=ax)\n",
    "v = mm.plot_grid(edgecolor=\"black\")\n",
    "t = ax.set_title(\"Model Cells and Vertices (one-based)\\n\")\n",
    "ax.set_xlim(xmin, xmax)\n",
    "ax.set_ylim(ymin, ymax)\n",
    "\n",
    "verts = mg.verts\n",
    "ax.plot(verts[:, 0], verts[:, 1], \"bo\")\n",
    "for i in range(ncpl):\n",
    "    x, y = verts[i, 0], verts[i, 1]\n",
    "    if xmin <= x <= xmax and ymin <= y <= ymax:\n",
    "        ax.annotate(str(i + 1), verts[i, :], color=\"b\")\n",
    "\n",
    "xc, yc = mg.get_xcellcenters_for_layer(0), mg.get_ycellcenters_for_layer(0)\n",
    "for i in range(ncpl):\n",
    "    x, y = xc[i], yc[i]\n",
    "    ax.plot(x, y, \"ro\")\n",
    "    if xmin <= x <= xmax and ymin <= y <= ymax:\n",
    "        ax.annotate(str(i + 1), (x, y), color=\"r\")"
   ]
  },
  {
   "cell_type": "markdown",
   "metadata": {},
   "source": [
    "## Part VI. Create the Flopy MODPATH7 Models\n",
    "\n",
    "Define names for the MODPATH 7 simulations."
   ]
  },
  {
   "cell_type": "code",
   "execution_count": null,
   "metadata": {
    "execution": {
     "iopub.execute_input": "2023-05-02T02:56:10.450025Z",
     "iopub.status.busy": "2023-05-02T02:56:10.449692Z",
     "iopub.status.idle": "2023-05-02T02:56:10.454040Z",
     "shell.execute_reply": "2023-05-02T02:56:10.453345Z"
    }
   },
   "outputs": [],
   "source": [
    "mp_namea = model_name + \"a_mp\"\n",
    "mp_nameb = model_name + \"b_mp\""
   ]
  },
  {
   "cell_type": "markdown",
   "metadata": {},
   "source": [
    "Create particles for the pathline and timeseries analysis."
   ]
  },
  {
   "cell_type": "code",
   "execution_count": null,
   "metadata": {
    "execution": {
     "iopub.execute_input": "2023-05-02T02:56:10.456911Z",
     "iopub.status.busy": "2023-05-02T02:56:10.456615Z",
     "iopub.status.idle": "2023-05-02T02:56:10.464453Z",
     "shell.execute_reply": "2023-05-02T02:56:10.463724Z"
    }
   },
   "outputs": [],
   "source": [
    "pcoord = np.array(\n",
    "    [\n",
    "        [0.000, 0.125, 0.500],\n",
    "        [0.000, 0.375, 0.500],\n",
    "        [0.000, 0.625, 0.500],\n",
    "        [0.000, 0.875, 0.500],\n",
    "        [1.000, 0.125, 0.500],\n",
    "        [1.000, 0.375, 0.500],\n",
    "        [1.000, 0.625, 0.500],\n",
    "        [1.000, 0.875, 0.500],\n",
    "        [0.125, 0.000, 0.500],\n",
    "        [0.375, 0.000, 0.500],\n",
    "        [0.625, 0.000, 0.500],\n",
    "        [0.875, 0.000, 0.500],\n",
    "        [0.125, 1.000, 0.500],\n",
    "        [0.375, 1.000, 0.500],\n",
    "        [0.625, 1.000, 0.500],\n",
    "        [0.875, 1.000, 0.500],\n",
    "    ]\n",
    ")\n",
    "nodew = gwf.disv.ncpl.array * 2 + welcells[\"nodenumber\"][0]\n",
    "plocs = [nodew for i in range(pcoord.shape[0])]\n",
    "\n",
    "# create particle data\n",
    "pa = flopy.modpath.ParticleData(\n",
    "    plocs,\n",
    "    structured=False,\n",
    "    localx=pcoord[:, 0],\n",
    "    localy=pcoord[:, 1],\n",
    "    localz=pcoord[:, 2],\n",
    "    drape=0,\n",
    ")\n",
    "\n",
    "# create backward particle group\n",
    "fpth = mp_namea + \".sloc\"\n",
    "pga = flopy.modpath.ParticleGroup(\n",
    "    particlegroupname=\"BACKWARD1\", particledata=pa, filename=fpth\n",
    ")"
   ]
  },
  {
   "cell_type": "markdown",
   "metadata": {},
   "source": [
    "Create particles for endpoint analysis."
   ]
  },
  {
   "cell_type": "code",
   "execution_count": null,
   "metadata": {
    "execution": {
     "iopub.execute_input": "2023-05-02T02:56:10.467515Z",
     "iopub.status.busy": "2023-05-02T02:56:10.467132Z",
     "iopub.status.idle": "2023-05-02T02:56:10.472852Z",
     "shell.execute_reply": "2023-05-02T02:56:10.471978Z"
    }
   },
   "outputs": [],
   "source": [
    "facedata = flopy.modpath.FaceDataType(\n",
    "    drape=0,\n",
    "    verticaldivisions1=10,\n",
    "    horizontaldivisions1=10,\n",
    "    verticaldivisions2=10,\n",
    "    horizontaldivisions2=10,\n",
    "    verticaldivisions3=10,\n",
    "    horizontaldivisions3=10,\n",
    "    verticaldivisions4=10,\n",
    "    horizontaldivisions4=10,\n",
    "    rowdivisions5=0,\n",
    "    columndivisions5=0,\n",
    "    rowdivisions6=4,\n",
    "    columndivisions6=4,\n",
    ")\n",
    "pb = flopy.modpath.NodeParticleData(subdivisiondata=facedata, nodes=nodew)\n",
    "# create forward particle group\n",
    "fpth = mp_nameb + \".sloc\"\n",
    "pgb = flopy.modpath.ParticleGroupNodeTemplate(\n",
    "    particlegroupname=\"BACKWARD2\", particledata=pb, filename=fpth\n",
    ")"
   ]
  },
  {
   "cell_type": "markdown",
   "metadata": {},
   "source": [
    "Create and run the pathline and timeseries analysis model."
   ]
  },
  {
   "cell_type": "code",
   "execution_count": null,
   "metadata": {
    "execution": {
     "iopub.execute_input": "2023-05-02T02:56:10.477012Z",
     "iopub.status.busy": "2023-05-02T02:56:10.476618Z",
     "iopub.status.idle": "2023-05-02T02:56:10.630580Z",
     "shell.execute_reply": "2023-05-02T02:56:10.629229Z"
    }
   },
   "outputs": [],
   "source": [
    "# create modpath files\n",
    "mp = flopy.modpath.Modpath7(\n",
    "    modelname=mp_namea, flowmodel=gwf, exe_name=\"mp7\", model_ws=model_ws\n",
    ")\n",
    "flopy.modpath.Modpath7Bas(mp, porosity=0.1)\n",
    "flopy.modpath.Modpath7Sim(\n",
    "    mp,\n",
    "    simulationtype=\"combined\",\n",
    "    trackingdirection=\"backward\",\n",
    "    weaksinkoption=\"pass_through\",\n",
    "    weaksourceoption=\"pass_through\",\n",
    "    referencetime=0.0,\n",
    "    stoptimeoption=\"extend\",\n",
    "    timepointdata=[500, 1000.0],\n",
    "    particlegroups=pga,\n",
    ")\n",
    "\n",
    "# write modpath datasets\n",
    "mp.write_input()\n",
    "\n",
    "# run modpath\n",
    "success, buff = mp.run_model(silent=True, report=True)\n",
    "assert success, \"mp7 failed to run\"\n",
    "for line in buff:\n",
    "    print(line)"
   ]
  },
  {
   "cell_type": "markdown",
   "metadata": {},
   "source": [
    "Load the pathline and timeseries data."
   ]
  },
  {
   "cell_type": "code",
   "execution_count": null,
   "metadata": {
    "execution": {
     "iopub.execute_input": "2023-05-02T02:56:10.635802Z",
     "iopub.status.busy": "2023-05-02T02:56:10.635341Z",
     "iopub.status.idle": "2023-05-02T02:56:10.647084Z",
     "shell.execute_reply": "2023-05-02T02:56:10.646081Z"
    }
   },
   "outputs": [],
   "source": [
    "fpth = model_ws / f\"{mp_namea}.mppth\"\n",
    "p = flopy.utils.PathlineFile(fpth)\n",
    "p0 = p.get_alldata()"
   ]
  },
  {
   "cell_type": "code",
   "execution_count": null,
   "metadata": {
    "execution": {
     "iopub.execute_input": "2023-05-02T02:56:10.651131Z",
     "iopub.status.busy": "2023-05-02T02:56:10.650740Z",
     "iopub.status.idle": "2023-05-02T02:56:10.681161Z",
     "shell.execute_reply": "2023-05-02T02:56:10.680153Z"
    }
   },
   "outputs": [],
   "source": [
    "fpth = model_ws / f\"{mp_namea}.timeseries\"\n",
    "ts = flopy.utils.TimeseriesFile(fpth)\n",
    "ts0 = ts.get_alldata()"
   ]
  },
  {
   "cell_type": "markdown",
   "metadata": {},
   "source": [
    "Plot the pathline and timeseries data."
   ]
  },
  {
   "cell_type": "code",
   "execution_count": null,
   "metadata": {
    "execution": {
     "iopub.execute_input": "2023-05-02T02:56:10.685388Z",
     "iopub.status.busy": "2023-05-02T02:56:10.684996Z",
     "iopub.status.idle": "2023-05-02T02:56:11.055819Z",
     "shell.execute_reply": "2023-05-02T02:56:11.054635Z"
    }
   },
   "outputs": [],
   "source": [
    "fig = plt.figure(figsize=(8, 8), constrained_layout=True)\n",
    "ax = fig.add_subplot(1, 1, 1, aspect=\"equal\")\n",
    "mm = flopy.plot.PlotMapView(modelgrid=mg, ax=ax)\n",
    "ax.set_xlim(0, Lx)\n",
    "ax.set_ylim(0, Ly)\n",
    "cmap = mpl.colors.ListedColormap(\n",
    "    [\n",
    "        \"r\",\n",
    "        \"g\",\n",
    "    ]\n",
    ")\n",
    "v = mm.plot_array(ibd, cmap=cmap, edgecolor=\"gray\")\n",
    "mm.plot_pathline(p0, layer=\"all\", colors=\"blue\", lw=0.75)\n",
    "colors = [\"green\", \"orange\", \"red\"]\n",
    "for k in range(nlay):\n",
    "    mm.plot_timeseries(ts0, layer=k, marker=\"o\", lw=0, color=colors[k]);"
   ]
  },
  {
   "cell_type": "markdown",
   "metadata": {},
   "source": [
    "Create and run the endpoint analysis model."
   ]
  },
  {
   "cell_type": "code",
   "execution_count": null,
   "metadata": {
    "execution": {
     "iopub.execute_input": "2023-05-02T02:56:11.060095Z",
     "iopub.status.busy": "2023-05-02T02:56:11.059453Z",
     "iopub.status.idle": "2023-05-02T02:56:11.177882Z",
     "shell.execute_reply": "2023-05-02T02:56:11.176449Z"
    }
   },
   "outputs": [],
   "source": [
    "# create modpath files\n",
    "mp = flopy.modpath.Modpath7(\n",
    "    modelname=mp_nameb, flowmodel=gwf, exe_name=\"mp7\", model_ws=model_ws\n",
    ")\n",
    "flopy.modpath.Modpath7Bas(mp, porosity=0.1)\n",
    "flopy.modpath.Modpath7Sim(\n",
    "    mp,\n",
    "    simulationtype=\"endpoint\",\n",
    "    trackingdirection=\"backward\",\n",
    "    weaksinkoption=\"pass_through\",\n",
    "    weaksourceoption=\"pass_through\",\n",
    "    referencetime=0.0,\n",
    "    stoptimeoption=\"extend\",\n",
    "    particlegroups=pgb,\n",
    ")\n",
    "\n",
    "# write modpath datasets\n",
    "mp.write_input()\n",
    "\n",
    "# run modpath\n",
    "success, buff = mp.run_model(silent=True, report=True)\n",
    "assert success, \"mp7 failed to run\"\n",
    "for line in buff:\n",
    "    print(line)"
   ]
  },
  {
   "cell_type": "markdown",
   "metadata": {},
   "source": [
    "Load the endpoint data."
   ]
  },
  {
   "cell_type": "code",
   "execution_count": null,
   "metadata": {
    "execution": {
     "iopub.execute_input": "2023-05-02T02:56:11.182766Z",
     "iopub.status.busy": "2023-05-02T02:56:11.182288Z",
     "iopub.status.idle": "2023-05-02T02:56:11.204398Z",
     "shell.execute_reply": "2023-05-02T02:56:11.203447Z"
    }
   },
   "outputs": [],
   "source": [
    "fpth = model_ws / f\"{mp_nameb}.mpend\"\n",
    "e = flopy.utils.EndpointFile(fpth)\n",
    "e0 = e.get_alldata()"
   ]
  },
  {
   "cell_type": "markdown",
   "metadata": {},
   "source": [
    "Plot the endpoint data."
   ]
  },
  {
   "cell_type": "code",
   "execution_count": null,
   "metadata": {
    "execution": {
     "iopub.execute_input": "2023-05-02T02:56:11.208373Z",
     "iopub.status.busy": "2023-05-02T02:56:11.208041Z",
     "iopub.status.idle": "2023-05-02T02:56:11.879178Z",
     "shell.execute_reply": "2023-05-02T02:56:11.878149Z"
    }
   },
   "outputs": [],
   "source": [
    "fig = plt.figure(figsize=(8, 8), constrained_layout=True)\n",
    "ax = fig.add_subplot(1, 1, 1, aspect=\"equal\")\n",
    "mm = flopy.plot.PlotMapView(modelgrid=mg, ax=ax)\n",
    "ax.set_xlim(0, Lx)\n",
    "ax.set_ylim(0, Ly)\n",
    "cmap = mpl.colors.ListedColormap(\n",
    "    [\n",
    "        \"r\",\n",
    "        \"g\",\n",
    "    ]\n",
    ")\n",
    "v = mm.plot_array(ibd, cmap=cmap, edgecolor=\"gray\")\n",
    "mm.plot_endpoint(e0, direction=\"ending\", colorbar=True, shrink=0.5);"
   ]
  },
  {
   "cell_type": "markdown",
   "metadata": {
    "collapsed": false
   },
   "source": [
    "Clean up the temporary workspace."
   ]
  },
  {
   "cell_type": "code",
   "execution_count": null,
   "metadata": {
    "execution": {
     "iopub.execute_input": "2023-05-02T02:56:11.884477Z",
     "iopub.status.busy": "2023-05-02T02:56:11.884052Z",
     "iopub.status.idle": "2023-05-02T02:56:11.932392Z",
     "shell.execute_reply": "2023-05-02T02:56:11.931401Z"
    }
   },
   "outputs": [],
   "source": [
    "try:\n",
    "    # ignore PermissionError on Windows\n",
    "    temp_dir.cleanup()\n",
    "except:\n",
    "    pass"
   ]
  }
 ],
 "metadata": {
  "kernelspec": {
   "display_name": "Python 3 (ipykernel)",
   "language": "python",
   "name": "python3"
  },
  "language_info": {
   "codemirror_mode": {
    "name": "ipython",
    "version": 3
   },
   "file_extension": ".py",
   "mimetype": "text/x-python",
   "name": "python",
   "nbconvert_exporter": "python",
   "pygments_lexer": "ipython3",
   "version": "3.11.0"
  }
 },
 "nbformat": 4,
 "nbformat_minor": 4
}
