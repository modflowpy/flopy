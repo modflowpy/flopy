{
 "cells": [
  {
   "attachments": {},
   "cell_type": "markdown",
   "metadata": {
    "collapsed": false
   },
   "source": [
    "# Using MODPATH 7: DISV quadpatch example\n",
    "\n",
    "This notebook demonstrates example 4 from the MODPATH 7 documentation, a steady-state MODFLOW 6 simulation using a quadpatch DISV grid with an irregular domain and a large number of inactive cells. Particles are tracked backwards from terminating locations, including a pair of wells in a locally-refined region of the grid and constant-head cells along the grid's right side, to release locations along the left border of the grid's active region. Injection wells along the left-hand border are used to generate boundary flows.\n",
    "\n",
    "First import FloPy and set up a temporary workspace."
   ]
  },
  {
   "cell_type": "code",
   "execution_count": null,
   "metadata": {
    "execution": {
     "iopub.execute_input": "2023-05-02T02:56:01.694621Z",
     "iopub.status.busy": "2023-05-02T02:56:01.694190Z",
     "iopub.status.idle": "2023-05-02T02:56:03.948299Z",
     "shell.execute_reply": "2023-05-02T02:56:03.947288Z"
    }
   },
   "outputs": [],
   "source": [
    "import sys\n",
    "from pathlib import Path\n",
    "from tempfile import TemporaryDirectory\n",
    "\n",
    "import matplotlib as mpl\n",
    "import matplotlib.pyplot as plt\n",
    "import numpy as np\n",
    "\n",
    "proj_root = Path.cwd().parent.parent\n",
    "\n",
    "# run installed version of flopy or add local path\n",
    "try:\n",
    "    import flopy\n",
    "except:\n",
    "    sys.path.append(proj_root)\n",
    "    import flopy\n",
    "\n",
    "\n",
    "temp_dir = TemporaryDirectory()\n",
    "workspace = Path(temp_dir.name)\n",
    "sim_name = \"ex04_mf6\"\n",
    "\n",
    "print(\"Python version:\", sys.version)\n",
    "print(\"NumPy version:\", np.__version__)\n",
    "print(\"Matplotlib version:\", mpl.__version__)\n",
    "print(\"FloPy version:\", flopy.__version__)"
   ]
  },
  {
   "cell_type": "markdown",
   "metadata": {
    "collapsed": false
   },
   "source": [
    "## Grid creation/refinement\n",
    "\n",
    "In this example we use GRIDGEN to create a quadpatch grid with a refined region in the upper left quadrant.\n",
    "\n",
    "The grid has 3 nested refinement levels, all nearly but not perfectly rectangular (a 500x500 area is carved out of each corner of each). Outer levels of refinement have a width of 500. To produce this pattern we use 5 rectangular polygons for each level.\n",
    "\n",
    "First, create the coarse-grained grid discretization."
   ]
  },
  {
   "cell_type": "code",
   "execution_count": null,
   "metadata": {
    "execution": {
     "iopub.execute_input": "2023-05-02T02:56:04.016869Z",
     "iopub.status.busy": "2023-05-02T02:56:04.016421Z",
     "iopub.status.idle": "2023-05-02T02:56:04.026886Z",
     "shell.execute_reply": "2023-05-02T02:56:04.025873Z"
    }
   },
   "outputs": [],
   "source": [
    "nlay, nrow, ncol = 1, 21, 26  # coarsest-grained grid is 21x26\n",
    "delr = delc = 500.0\n",
    "top = 100.0\n",
    "botm = np.zeros((nlay, nrow, ncol), dtype=np.float32)\n",
    "ms = flopy.modflow.Modflow()\n",
    "dis = flopy.modflow.ModflowDis(\n",
    "    ms,\n",
    "    nlay=nlay,\n",
    "    nrow=nrow,\n",
    "    ncol=ncol,\n",
    "    delr=delr,\n",
    "    delc=delc,\n",
    "    top=top,\n",
    "    botm=botm,\n",
    ")"
   ]
  },
  {
   "cell_type": "markdown",
   "metadata": {
    "collapsed": false
   },
   "source": [
    "Next, refine the grid. Create a `Gridgen` object from the base grid, then add refinement features (3 groups of polygons)."
   ]
  },
  {
   "cell_type": "code",
   "execution_count": null,
   "metadata": {
    "execution": {
     "iopub.execute_input": "2023-05-02T02:56:04.030983Z",
     "iopub.status.busy": "2023-05-02T02:56:04.030585Z",
     "iopub.status.idle": "2023-05-02T02:56:04.071358Z",
     "shell.execute_reply": "2023-05-02T02:56:04.070316Z"
    }
   },
   "outputs": [],
   "source": [
    "from flopy.utils.gridgen import Gridgen\n",
    "\n",
    "# create Gridgen workspace\n",
    "gridgen_ws = workspace / \"gridgen\"\n",
    "gridgen_ws.mkdir()\n",
    "\n",
    "# create Gridgen object\n",
    "g = Gridgen(ms.modelgrid, model_ws=gridgen_ws)\n",
    "\n",
    "# add polygon for each refinement level\n",
    "outer_polygon = [\n",
    "    [\n",
    "        (2500, 6000),\n",
    "        (2500, 9500),\n",
    "        (3000, 9500),\n",
    "        (3000, 10000),\n",
    "        (6000, 10000),\n",
    "        (6000, 9500),\n",
    "        (6500, 9500),\n",
    "        (6500, 6000),\n",
    "        (6000, 6000),\n",
    "        (6000, 5500),\n",
    "        (3000, 5500),\n",
    "        (3000, 6000),\n",
    "        (2500, 6000),\n",
    "    ]\n",
    "]\n",
    "g.add_refinement_features([outer_polygon], \"polygon\", 1, range(nlay))\n",
    "refshp0 = gridgen_ws / \"rf0\"\n",
    "\n",
    "middle_polygon = [\n",
    "    [\n",
    "        (3000, 6500),\n",
    "        (3000, 9000),\n",
    "        (3500, 9000),\n",
    "        (3500, 9500),\n",
    "        (5500, 9500),\n",
    "        (5500, 9000),\n",
    "        (6000, 9000),\n",
    "        (6000, 6500),\n",
    "        (5500, 6500),\n",
    "        (5500, 6000),\n",
    "        (3500, 6000),\n",
    "        (3500, 6500),\n",
    "        (3000, 6500),\n",
    "    ]\n",
    "]\n",
    "g.add_refinement_features([middle_polygon], \"polygon\", 2, range(nlay))\n",
    "refshp1 = gridgen_ws / \"rf1\"\n",
    "\n",
    "inner_polygon = [\n",
    "    [\n",
    "        (3500, 7000),\n",
    "        (3500, 8500),\n",
    "        (4000, 8500),\n",
    "        (4000, 9000),\n",
    "        (5000, 9000),\n",
    "        (5000, 8500),\n",
    "        (5500, 8500),\n",
    "        (5500, 7000),\n",
    "        (5000, 7000),\n",
    "        (5000, 6500),\n",
    "        (4000, 6500),\n",
    "        (4000, 7000),\n",
    "        (3500, 7000),\n",
    "    ]\n",
    "]\n",
    "g.add_refinement_features([inner_polygon], \"polygon\", 3, range(nlay))\n",
    "refshp2 = gridgen_ws / \"rf2\""
   ]
  },
  {
   "cell_type": "markdown",
   "metadata": {
    "collapsed": false
   },
   "source": [
    "Create and plot the refined grid with refinement levels superimposed."
   ]
  },
  {
   "cell_type": "code",
   "execution_count": null,
   "metadata": {
    "execution": {
     "iopub.execute_input": "2023-05-02T02:56:04.075337Z",
     "iopub.status.busy": "2023-05-02T02:56:04.074990Z",
     "iopub.status.idle": "2023-05-02T02:56:05.697700Z",
     "shell.execute_reply": "2023-05-02T02:56:05.696764Z"
    }
   },
   "outputs": [],
   "source": [
    "g.build(verbose=False)\n",
    "grid = flopy.discretization.VertexGrid(**g.get_gridprops_vertexgrid())\n",
    "\n",
    "fig = plt.figure(figsize=(15, 15))\n",
    "ax = fig.add_subplot(1, 1, 1, aspect=\"equal\")\n",
    "mm = flopy.plot.PlotMapView(model=ms)\n",
    "grid.plot(ax=ax)\n",
    "flopy.plot.plot_shapefile(refshp0, ax=ax, facecolor=\"green\", alpha=0.3)\n",
    "flopy.plot.plot_shapefile(refshp1, ax=ax, facecolor=\"green\", alpha=0.5)\n",
    "flopy.plot.plot_shapefile(str(refshp2), ax=ax, facecolor=\"green\", alpha=0.7)"
   ]
  },
  {
   "cell_type": "markdown",
   "metadata": {
    "collapsed": false
   },
   "source": [
    "## Groundwater flow model\n",
    "\n",
    "Next, create a GWF model. The particle-tracking model will consume its output."
   ]
  },
  {
   "cell_type": "code",
   "execution_count": null,
   "metadata": {
    "execution": {
     "iopub.execute_input": "2023-05-02T02:56:05.701665Z",
     "iopub.status.busy": "2023-05-02T02:56:05.701316Z",
     "iopub.status.idle": "2023-05-02T02:56:06.421720Z",
     "shell.execute_reply": "2023-05-02T02:56:06.420754Z"
    }
   },
   "outputs": [],
   "source": [
    "# simulation\n",
    "sim = flopy.mf6.MFSimulation(\n",
    "    sim_name=sim_name, sim_ws=workspace, exe_name=\"mf6\", version=\"mf6\"\n",
    ")\n",
    "\n",
    "# temporal discretization\n",
    "tdis = flopy.mf6.ModflowTdis(\n",
    "    sim, time_units=\"days\", nper=1, perioddata=[(10000, 1, 1.0)]\n",
    ")\n",
    "\n",
    "# iterative model solver\n",
    "ims = flopy.mf6.ModflowIms(\n",
    "    sim,\n",
    "    pname=\"ims\",\n",
    "    complexity=\"SIMPLE\",\n",
    "    outer_dvclose=1e-4,\n",
    "    outer_maximum=100,\n",
    "    inner_dvclose=1e-5,\n",
    "    under_relaxation_theta=0,\n",
    "    under_relaxation_kappa=0,\n",
    "    under_relaxation_gamma=0,\n",
    "    under_relaxation_momentum=0,\n",
    "    linear_acceleration=\"BICGSTAB\",\n",
    "    relaxation_factor=0.99,\n",
    "    number_orthogonalizations=2,\n",
    ")\n",
    "\n",
    "# groundwater flow model\n",
    "gwf = flopy.mf6.ModflowGwf(\n",
    "    sim, modelname=sim_name, model_nam_file=f\"{sim_name}.nam\", save_flows=True\n",
    ")\n",
    "\n",
    "# grid discretization\n",
    "# fmt: off\n",
    "idomain = [\n",
    "    0,0,0,0,0,0,0,0,0,0,1,1,1,1,1,1,1,1,0,0,0,0,0,0,0,\n",
    "    0,0,0,0,0,0,0,0,0,0,0,0,0,0,0,0,0,0,1,1,1,1,1,1,1,\n",
    "    1,1,1,1,1,1,1,1,1,1,1,1,1,1,0,0,0,0,0,0,0,0,0,0,0,\n",
    "    0,0,0,0,0,0,0,0,0,0,0,0,0,0,0,0,0,0,0,0,0,1,1,1,0,\n",
    "    0,0,1,1,1,1,1,1,1,1,1,1,1,1,1,1,1,1,1,1,1,1,1,1,1,\n",
    "    1,1,1,1,1,1,1,1,1,1,1,1,1,1,1,1,1,1,1,1,1,1,1,1,1,\n",
    "    1,1,1,1,1,1,1,1,1,1,1,1,1,1,0,0,0,0,0,0,0,0,0,0,0,\n",
    "    0,0,0,0,0,0,0,0,0,0,0,0,0,0,0,0,0,0,0,0,0,0,1,1,1,\n",
    "    1,0,1,1,1,1,1,1,1,1,1,1,1,1,1,1,1,1,1,1,1,1,1,1,1,\n",
    "    1,1,1,1,1,1,1,1,1,1,1,1,1,1,1,1,1,1,1,1,1,1,1,1,1,\n",
    "    1,1,1,1,1,1,1,1,1,1,1,1,1,1,1,1,1,1,1,1,1,1,1,1,1,\n",
    "    1,1,1,1,1,1,1,1,1,1,1,1,1,1,1,1,1,1,1,1,1,1,1,1,1,\n",
    "    1,1,1,1,1,1,1,1,1,1,1,1,1,1,1,1,1,1,1,1,1,1,1,1,1,\n",
    "    1,1,1,1,1,1,1,1,1,1,1,1,1,1,1,1,1,1,1,1,1,1,1,1,1,\n",
    "    1,1,1,1,1,1,1,1,1,1,1,1,1,1,1,1,1,1,1,1,1,1,1,1,1,\n",
    "    1,1,1,1,1,1,1,1,0,0,0,0,0,0,0,0,0,0,0,0,0,0,0,0,0,\n",
    "    0,0,1,0,0,0,0,1,1,1,1,1,1,1,1,1,1,1,1,1,1,1,1,1,1,\n",
    "    1,1,1,1,1,1,1,1,1,1,1,1,1,1,1,1,1,1,1,1,1,1,1,1,1,\n",
    "    1,1,1,1,1,1,1,1,1,1,1,1,1,1,1,1,1,1,1,1,1,1,1,1,1,\n",
    "    1,1,1,1,1,1,1,1,1,1,1,1,1,1,1,1,1,1,1,1,1,1,1,1,1,\n",
    "    1,1,1,1,1,1,1,1,1,1,1,1,1,1,1,1,1,1,1,1,1,1,1,1,1,\n",
    "    1,1,1,1,1,1,1,1,1,1,1,1,1,1,1,1,1,1,1,1,1,1,1,1,1,\n",
    "    1,1,1,1,1,1,1,1,1,1,1,1,1,1,1,1,1,1,1,1,1,1,1,1,1,\n",
    "    1,1,1,1,1,1,1,1,1,1,1,1,1,1,1,1,1,1,1,1,1,1,1,1,1,\n",
    "    1,1,1,1,1,1,1,1,1,1,1,1,1,1,1,1,1,1,1,1,1,1,1,1,1,\n",
    "    1,1,1,1,1,1,1,1,1,1,1,1,1,1,1,1,1,1,1,1,1,1,1,1,1,\n",
    "    1,1,1,1,1,1,1,1,1,1,1,1,1,1,1,1,1,1,1,1,1,1,1,1,1,\n",
    "    1,1,1,1,1,1,1,1,1,1,1,1,1,1,1,1,1,1,1,1,1,1,1,0,0,\n",
    "    0,0,0,0,0,0,0,0,1,0,1,1,1,1,1,1,1,1,1,1,1,1,1,1,1,\n",
    "    1,1,1,1,1,1,1,1,1,1,1,1,1,1,1,1,1,1,1,1,1,1,1,1,1,\n",
    "    1,1,1,1,1,1,1,1,1,1,1,1,1,1,1,1,1,1,1,1,1,1,1,1,1,\n",
    "    1,1,1,1,1,1,1,1,1,1,1,1,1,1,1,1,1,1,1,1,1,1,1,1,1,\n",
    "    1,1,1,1,1,1,1,1,1,1,1,1,1,1,1,1,1,1,1,1,1,1,1,1,1,\n",
    "    1,1,1,1,1,1,1,1,1,1,1,1,1,1,1,1,1,1,1,1,1,1,1,1,1,\n",
    "    1,1,1,1,1,1,1,1,1,1,1,1,1,1,1,1,1,1,1,1,1,1,1,1,1,\n",
    "    1,1,1,1,1,1,1,1,1,1,1,1,1,1,1,1,1,1,1,1,1,1,1,1,1,\n",
    "    1,1,1,1,1,1,1,1,1,1,1,1,1,1,1,1,1,1,1,1,1,1,1,1,1,\n",
    "    1,1,1,1,1,1,1,1,1,1,1,1,1,1,1,1,1,1,1,1,1,1,1,1,1,\n",
    "    1,1,1,1,1,1,1,1,1,1,1,1,1,1,1,1,1,1,1,1,1,1,1,1,1,\n",
    "    1,1,1,1,1,1,1,1,1,1,1,1,1,1,1,1,1,1,1,1,1,1,1,1,1,\n",
    "    1,1,1,1,1,1,1,1,1,1,1,1,1,0,0,0,0,0,0,0,1,1,1,1,1,\n",
    "    1,1,1,1,1,1,1,1,1,1,1,1,1,1,1,1,1,1,1,1,1,1,1,1,1,\n",
    "    1,1,1,1,1,1,1,1,1,1,1,1,1,1,1,1,1,1,1,1,1,1,1,1,1,\n",
    "    1,1,1,1,1,1,1,1,1,1,1,1,1,1,1,1,1,1,1,1,1,1,1,1,1,\n",
    "    1,1,1,1,1,1,1,1,1,1,1,1,1,1,1,1,1,1,1,1,1,1,1,1,1,\n",
    "    1,1,1,1,1,1,1,1,1,1,1,1,1,1,1,1,1,1,1,1,1,1,1,1,1,\n",
    "    1,1,1,1,1,1,1,1,1,1,1,1,1,1,1,1,1,1,1,1,1,1,1,1,1,\n",
    "    1,1,1,1,1,1,1,1,1,1,1,1,1,1,1,1,1,1,1,1,1,1,1,1,1,\n",
    "    1,1,1,1,1,1,1,1,1,1,1,1,1,1,1,1,1,1,1,1,1,1,1,1,1,\n",
    "    1,1,1,1,1,1,1,1,1,1,1,1,1,1,1,1,1,1,1,1,1,1,1,1,1,\n",
    "    1,1,1,1,1,1,1,1,1,1,1,1,1,1,1,1,1,1,1,1,1,1,1,1,1,\n",
    "    1,1,1,1,1,1,1,1,1,1,1,1,1,1,1,1,1,1,1,1,1,1,1,1,1,\n",
    "    1,1,1,1,1,1,1,1,1,1,1,1,1,1,1,1,1,1,1,1,1,1,1,1,1,\n",
    "    1,1,1,0,0,0,0,1,1,1,1,1,1,1,1,1,1,1,1,1,1,1,1,1,1,\n",
    "    1,1,1,1,1,1,1,1,1,1,1,1,1,1,1,1,1,1,1,1,1,1,1,1,1,\n",
    "    1,1,1,1,1,1,1,1,1,1,1,1,1,1,1,1,1,1,1,1,1,1,1,1,1,\n",
    "    1,1,1,1,1,1,1,1,1,1,1,1,1,1,1,1,1,1,1,1,1,1,1,1,1,\n",
    "    1,1,1,1,1,1,1,1,1,1,1,1,1,1,1,1,1,1,1,1,1,1,1,1,1,\n",
    "    1,1,1,1,1,1,1,1,1,1,1,1,1,1,1,1,1,1,1,1,1,1,1,1,1,\n",
    "    1,1,1,1,1,1,1,1,1,1,1,1,1,1,1,1,1,1,1,1,1,1,1,1,1,\n",
    "    1,1,1,1,1,1,1,1,1,1,1,1,1,1,1,1,1,1,1,1,1,1,1,1,1,\n",
    "    1,1,1,1,1,1,1,1,1,1,1,1,1,1,1,1,1,1,1,1,1,0,0,0,1,\n",
    "    1,1,1,1,1,1,1,1,1,1,1,1,1,1,1,1,1,1,1,1,1,1,1,1,1,\n",
    "    1,1,1,1,1,1,1,1,1,1,1,1,1,1,1,1,1,1,1,1,1,1,1,1,1,\n",
    "    1,1,1,1,1,1,1,1,1,1,1,1,1,1,1,1,1,1,1,1,1,1,1,1,1,\n",
    "    1,1,1,1,1,1,1,1,1,1,1,1,1,1,1,1,1,1,1,0,0,1,1,1,1,\n",
    "    1,1,1,1,1,1,1,1,1,1,1,1,1,1,1,1,1,1,1,1,1,1,1,1,1,\n",
    "    1,1,1,1,1,1,1,1,1,1,1,1,1,0,0,1,1,1,1,1,1,1,1,1,1,\n",
    "    1,1,1,1,1,1,1,1,1,1,1,1,1,1,0,1,1,1,1,1,1,1,1,1,1,\n",
    "    1,1,1,1,1,1,1,1,1,1,1,1,1,1,0,1,1,1,1,1,1,1,1,1,1,\n",
    "    1,1,1,1,1,1,1,1,1,1,1,1,1,1,0,0,1,1,1,1,1,1,1,1,1,\n",
    "    1,1,1,1,1,1,1,1,1,1,1,1,1,1,1,0,0,1,1,1,1,1,1,1,1,\n",
    "    1,1,1,1,1,1,1,1,1,1,1,1,1,1,1,0,0,0,1,1,1,1,1,1,1,\n",
    "    1,1,1,1,1,1,1,1,1,1,1,1,1,1,1,1,0,0,0,0,1,1,1,1,1,\n",
    "    1,1,1,1,1,1,1,1,1,1,1,1,1,1,1,1,0,0,0,0,0,0,0,0,1,\n",
    "    1,1,1,1,1,1,1,1,1,1,1,1,1,1,1,1,0,0,0,0,0,0,0,0,0,\n",
    "    0,0,0,1,1,1,1,1,1,1,1,1,1,1,1,1,1,0,0,0,0,0,0,0,0,\n",
    "    0,0,0,0,0,1,1,1,1,1,1,1,1,1,1,1,1,0,0,0,0,0,0,0,0,\n",
    "    0,0,0,0,0,0,0,0,0,1,1,1,1,1,1,1,0,0,0,0,0,0,0,0\n",
    "]\n",
    "# fmt: on\n",
    "disv_props = g.get_gridprops_disv()\n",
    "disv = flopy.mf6.ModflowGwfdisv(\n",
    "    gwf, length_units=\"feet\", idomain=idomain, **disv_props\n",
    ")\n",
    "\n",
    "# initial conditions\n",
    "ic = flopy.mf6.ModflowGwfic(gwf, strt=150.0)\n",
    "\n",
    "# wells are tuples (layer, node number, q, iface)\n",
    "wells = [\n",
    "    # negative q: discharge\n",
    "    (0, 861, -30000.0, 0),\n",
    "    (0, 891, -30000.0, 0),\n",
    "    # positive q: injection\n",
    "    (0, 1959, 10000.0, 1),\n",
    "    (0, 1932, 10000.0, 3),\n",
    "    (0, 1931, 10000.0, 3),\n",
    "    (0, 1930, 5000.0, 1),\n",
    "    (0, 1930, 5000.0, 3),\n",
    "    (0, 1903, 5000.0, 1),\n",
    "    (0, 1903, 5000.0, 3),\n",
    "    (0, 1876, 10000.0, 3),\n",
    "    (0, 1875, 10000.0, 3),\n",
    "    (0, 1874, 5000.0, 1),\n",
    "    (0, 1874, 5000.0, 3),\n",
    "    (0, 1847, 10000.0, 3),\n",
    "    (0, 1846, 5000.0, 3),\n",
    "    (0, 1845, 5000.0, 1),\n",
    "    (0, 1845, 5000.0, 3),\n",
    "    (0, 1818, 5000.0, 1),\n",
    "    (0, 1818, 5000.0, 3),\n",
    "    (0, 1792, 10000.0, 1),\n",
    "    (0, 1766, 10000.0, 1),\n",
    "    (0, 1740, 5000.0, 1),\n",
    "    (0, 1740, 5000.0, 4),\n",
    "    (0, 1715, 5000.0, 1),\n",
    "    (0, 1715, 5000.0, 4),\n",
    "    (0, 1690, 10000.0, 1),\n",
    "    (0, 1646, 5000.0, 1),\n",
    "    (0, 1646, 5000.0, 4),\n",
    "    (0, 1549, 5000.0, 1),\n",
    "    (0, 1549, 5000.0, 4),\n",
    "    (0, 1332, 5000.0, 4),\n",
    "    (0, 1332, 5000.0, 1),\n",
    "    (0, 1021, 2500.0, 1),\n",
    "    (0, 1021, 2500.0, 4),\n",
    "    (0, 1020, 5000.0, 1),\n",
    "    (0, 708, 2500.0, 1),\n",
    "    (0, 708, 2500.0, 4),\n",
    "    (0, 711, 625.0, 1),\n",
    "    (0, 711, 625.0, 4),\n",
    "    (0, 710, 625.0, 1),\n",
    "    (0, 710, 625.0, 4),\n",
    "    (0, 409, 1250.0, 1),\n",
    "    (0, 407, 625.0, 1),\n",
    "    (0, 407, 625.0, 4),\n",
    "    (0, 402, 625.0, 1),\n",
    "    (0, 402, 625.0, 4),\n",
    "    (0, 413, 1250.0, 1),\n",
    "    (0, 411, 1250.0, 1),\n",
    "    (0, 203, 1250.0, 1),\n",
    "    (0, 202, 1250.0, 1),\n",
    "    (0, 202, 1250.0, 4),\n",
    "    (0, 199, 2500.0, 1),\n",
    "    (0, 197, 1250.0, 1),\n",
    "    (0, 197, 1250.0, 4),\n",
    "    (0, 96, 2500.0, 1),\n",
    "    (0, 97, 1250.0, 1),\n",
    "    (0, 97, 1250.0, 4),\n",
    "    (0, 103, 1250.0, 1),\n",
    "    (0, 103, 1250.0, 4),\n",
    "    (0, 102, 1250.0, 1),\n",
    "    (0, 102, 1250.0, 4),\n",
    "    (0, 43, 2500.0, 1),\n",
    "    (0, 43, 2500.0, 4),\n",
    "    (0, 44, 2500.0, 1),\n",
    "    (0, 44, 2500.0, 4),\n",
    "    (0, 45, 5000.0, 4),\n",
    "    (0, 10, 10000.0, 1),\n",
    "]\n",
    "flopy.mf6.modflow.mfgwfwel.ModflowGwfwel(\n",
    "    gwf,\n",
    "    maxbound=68,\n",
    "    auxiliary=\"IFACE\",\n",
    "    save_flows=True,\n",
    "    stress_period_data={0: wells},\n",
    ")\n",
    "\n",
    "# node property flow\n",
    "npf = flopy.mf6.ModflowGwfnpf(\n",
    "    gwf,\n",
    "    xt3doptions=True,\n",
    "    save_flows=True,\n",
    "    save_specific_discharge=True,\n",
    "    icelltype=[0],\n",
    "    k=[50],\n",
    ")\n",
    "\n",
    "# constant head boundary (period, node number, head)\n",
    "chd_bound = [\n",
    "    (0, 1327, 150.0),\n",
    "    (0, 1545, 150.0),\n",
    "    (0, 1643, 150.0),\n",
    "    (0, 1687, 150.0),\n",
    "    (0, 1713, 150.0),\n",
    "]\n",
    "chd = flopy.mf6.ModflowGwfchd(\n",
    "    gwf, pname=\"chd\", save_flows=True, stress_period_data=chd_bound\n",
    ")\n",
    "\n",
    "# output control\n",
    "budget_file = f\"{sim_name}.bud\"\n",
    "head_file = f\"{sim_name}.hds\"\n",
    "oc = flopy.mf6.ModflowGwfoc(\n",
    "    gwf,\n",
    "    pname=\"oc\",\n",
    "    budget_filerecord=[budget_file],\n",
    "    head_filerecord=[head_file],\n",
    "    saverecord=[(\"HEAD\", \"ALL\"), (\"BUDGET\", \"ALL\")],\n",
    ")"
   ]
  },
  {
   "cell_type": "markdown",
   "metadata": {
    "collapsed": false
   },
   "source": [
    "Before running the simulation, view the model's boundary conditions."
   ]
  },
  {
   "cell_type": "code",
   "execution_count": null,
   "metadata": {
    "execution": {
     "iopub.execute_input": "2023-05-02T02:56:06.425798Z",
     "iopub.status.busy": "2023-05-02T02:56:06.425396Z",
     "iopub.status.idle": "2023-05-02T02:56:06.828131Z",
     "shell.execute_reply": "2023-05-02T02:56:06.826756Z"
    }
   },
   "outputs": [],
   "source": [
    "fig = plt.figure(figsize=(13, 13))\n",
    "ax = fig.add_subplot(1, 1, 1, aspect=\"equal\")\n",
    "mv = flopy.plot.PlotMapView(model=gwf, ax=ax)\n",
    "mv.plot_grid(alpha=0.3)\n",
    "mv.plot_ibound()\n",
    "mv.plot_bc(\"WEL\")\n",
    "ax.add_patch(\n",
    "    mpl.patches.Rectangle(\n",
    "        ((ncol - 1) * delc, (nrow - 6) * delr),\n",
    "        1000,\n",
    "        -2500,\n",
    "        linewidth=5,\n",
    "        facecolor=\"blue\",\n",
    "        alpha=0.5,\n",
    "    )\n",
    ")\n",
    "ax.legend(\n",
    "    handles=[\n",
    "        mpl.patches.Patch(color=\"red\", label=\"WEL\"),\n",
    "        mpl.patches.Patch(color=\"blue\", label=\"CHB\"),\n",
    "    ]\n",
    ")\n",
    "\n",
    "plt.show()"
   ]
  },
  {
   "cell_type": "markdown",
   "metadata": {
    "collapsed": false
   },
   "source": [
    "Run the simulation."
   ]
  },
  {
   "cell_type": "code",
   "execution_count": null,
   "metadata": {
    "execution": {
     "iopub.execute_input": "2023-05-02T02:56:06.831714Z",
     "iopub.status.busy": "2023-05-02T02:56:06.831337Z",
     "iopub.status.idle": "2023-05-02T02:56:07.277667Z",
     "shell.execute_reply": "2023-05-02T02:56:07.276493Z"
    }
   },
   "outputs": [],
   "source": [
    "sim.set_sim_path(workspace)\n",
    "sim.write_simulation()\n",
    "success, buff = sim.run_simulation(silent=True, report=True)\n",
    "assert success, f\"Failed to run MF6 simulation.\"\n",
    "for line in buff:\n",
    "    print(line)"
   ]
  },
  {
   "cell_type": "markdown",
   "metadata": {
    "collapsed": false
   },
   "source": [
    "## Particle tracking"
   ]
  },
  {
   "cell_type": "markdown",
   "metadata": {
    "collapsed": false
   },
   "source": [
    "\n",
    "This example is a reverse-tracking model, with termination and release zones inverted: we \"release\" particles from the constant head boundary on the grid's right edge and from the two pumping wells, and track the particles backwards to release locations at the wells along the left boundary of the active domain."
   ]
  },
  {
   "cell_type": "code",
   "execution_count": null,
   "metadata": {
    "execution": {
     "iopub.execute_input": "2023-05-02T02:56:07.283074Z",
     "iopub.status.busy": "2023-05-02T02:56:07.282584Z",
     "iopub.status.idle": "2023-05-02T02:56:07.301550Z",
     "shell.execute_reply": "2023-05-02T02:56:07.300580Z"
    }
   },
   "outputs": [],
   "source": [
    "particles = [\n",
    "    # node number, localx, localy, localz\n",
    "    (1327, 0.000, 0.125, 0.500),\n",
    "    (1327, 0.000, 0.375, 0.500),\n",
    "    (1327, 0.000, 0.625, 0.500),\n",
    "    (1327, 0.000, 0.875, 0.500),\n",
    "    (1545, 0.000, 0.125, 0.500),\n",
    "    (1545, 0.000, 0.375, 0.500),\n",
    "    (1545, 0.000, 0.625, 0.500),\n",
    "    (1545, 0.000, 0.875, 0.500),\n",
    "    (1643, 0.000, 0.125, 0.500),\n",
    "    (1643, 0.000, 0.375, 0.500),\n",
    "    (1643, 0.000, 0.625, 0.500),\n",
    "    (1643, 0.000, 0.875, 0.500),\n",
    "    (1687, 0.000, 0.125, 0.500),\n",
    "    (1687, 0.000, 0.375, 0.500),\n",
    "    (1687, 0.000, 0.625, 0.500),\n",
    "    (1687, 0.000, 0.875, 0.500),\n",
    "    (1713, 0.000, 0.125, 0.500),\n",
    "    (1713, 0.000, 0.375, 0.500),\n",
    "    (1713, 0.000, 0.625, 0.500),\n",
    "    (1713, 0.000, 0.875, 0.500),\n",
    "    (861, 0.000, 0.125, 0.500),\n",
    "    (861, 0.000, 0.375, 0.500),\n",
    "    (861, 0.000, 0.625, 0.500),\n",
    "    (861, 0.000, 0.875, 0.500),\n",
    "    (861, 1.000, 0.125, 0.500),\n",
    "    (861, 1.000, 0.375, 0.500),\n",
    "    (861, 1.000, 0.625, 0.500),\n",
    "    (861, 1.000, 0.875, 0.500),\n",
    "    (861, 0.125, 0.000, 0.500),\n",
    "    (861, 0.375, 0.000, 0.500),\n",
    "    (861, 0.625, 0.000, 0.500),\n",
    "    (861, 0.875, 0.000, 0.500),\n",
    "    (861, 0.125, 1.000, 0.500),\n",
    "    (861, 0.375, 1.000, 0.500),\n",
    "    (861, 0.625, 1.000, 0.500),\n",
    "    (861, 0.875, 1.000, 0.500),\n",
    "    (891, 0.000, 0.125, 0.500),\n",
    "    (891, 0.000, 0.375, 0.500),\n",
    "    (891, 0.000, 0.625, 0.500),\n",
    "    (891, 0.000, 0.875, 0.500),\n",
    "    (891, 1.000, 0.125, 0.500),\n",
    "    (891, 1.000, 0.375, 0.500),\n",
    "    (891, 1.000, 0.625, 0.500),\n",
    "    (891, 1.000, 0.875, 0.500),\n",
    "    (891, 0.125, 0.000, 0.500),\n",
    "    (891, 0.375, 0.000, 0.500),\n",
    "    (891, 0.625, 0.000, 0.500),\n",
    "    (891, 0.875, 0.000, 0.500),\n",
    "    (891, 0.125, 1.000, 0.500),\n",
    "    (891, 0.375, 1.000, 0.500),\n",
    "    (891, 0.625, 1.000, 0.500),\n",
    "    (891, 0.875, 1.000, 0.500),\n",
    "]\n",
    "\n",
    "pd = flopy.modpath.ParticleData(\n",
    "    partlocs=[p[0] for p in particles],\n",
    "    localx=[p[1] for p in particles],\n",
    "    localy=[p[2] for p in particles],\n",
    "    localz=[p[3] for p in particles],\n",
    "    timeoffset=0,\n",
    "    drape=0,\n",
    ")\n",
    "pg = flopy.modpath.ParticleGroup(\n",
    "    particlegroupname=\"G1\", particledata=pd, filename=f\"{sim_name}.sloc\"\n",
    ")"
   ]
  },
  {
   "cell_type": "markdown",
   "metadata": {
    "collapsed": false
   },
   "source": [
    "Create and run the backwards particle tracking model in `pathline` mode."
   ]
  },
  {
   "cell_type": "code",
   "execution_count": null,
   "metadata": {
    "execution": {
     "iopub.execute_input": "2023-05-02T02:56:07.304468Z",
     "iopub.status.busy": "2023-05-02T02:56:07.304189Z",
     "iopub.status.idle": "2023-05-02T02:56:07.428011Z",
     "shell.execute_reply": "2023-05-02T02:56:07.427091Z"
    }
   },
   "outputs": [],
   "source": [
    "mp = flopy.modpath.Modpath7(\n",
    "    modelname=sim_name + \"_mp\",\n",
    "    flowmodel=gwf,\n",
    "    exe_name=\"mp7\",\n",
    "    model_ws=workspace,\n",
    ")\n",
    "mpbas = flopy.modpath.Modpath7Bas(\n",
    "    mp,\n",
    "    porosity=0.1,\n",
    ")\n",
    "mpsim = flopy.modpath.Modpath7Sim(\n",
    "    mp,\n",
    "    simulationtype=\"pathline\",\n",
    "    trackingdirection=\"backward\",\n",
    "    budgetoutputoption=\"summary\",\n",
    "    particlegroups=[pg],\n",
    ")\n",
    "\n",
    "mp.write_input()\n",
    "success, buff = mp.run_model(silent=True, report=True)\n",
    "assert success, \"Failed to run particle-tracking model.\"\n",
    "for line in buff:\n",
    "    print(line)"
   ]
  },
  {
   "cell_type": "markdown",
   "metadata": {
    "collapsed": false
   },
   "source": [
    "Load pathline data from the model's pathline output file."
   ]
  },
  {
   "cell_type": "code",
   "execution_count": null,
   "metadata": {
    "execution": {
     "iopub.execute_input": "2023-05-02T02:56:07.431584Z",
     "iopub.status.busy": "2023-05-02T02:56:07.431219Z",
     "iopub.status.idle": "2023-05-02T02:56:07.456028Z",
     "shell.execute_reply": "2023-05-02T02:56:07.455068Z"
    }
   },
   "outputs": [],
   "source": [
    "fpth = workspace / f\"{sim_name}_mp.mppth\"\n",
    "p = flopy.utils.PathlineFile(fpth)\n",
    "pl = p.get_destination_pathline_data(\n",
    "    range(gwf.modelgrid.nnodes), to_recarray=True\n",
    ")"
   ]
  },
  {
   "cell_type": "markdown",
   "metadata": {
    "collapsed": false
   },
   "source": [
    "Load head data."
   ]
  },
  {
   "cell_type": "code",
   "execution_count": null,
   "metadata": {
    "execution": {
     "iopub.execute_input": "2023-05-02T02:56:07.460152Z",
     "iopub.status.busy": "2023-05-02T02:56:07.459787Z",
     "iopub.status.idle": "2023-05-02T02:56:07.471516Z",
     "shell.execute_reply": "2023-05-02T02:56:07.470500Z"
    }
   },
   "outputs": [],
   "source": [
    "hf = flopy.utils.HeadFile(workspace / f\"{sim_name}.hds\")\n",
    "hd = hf.get_data()"
   ]
  },
  {
   "cell_type": "markdown",
   "metadata": {
    "collapsed": false
   },
   "source": [
    "Plot heads and particle paths over the grid."
   ]
  },
  {
   "cell_type": "code",
   "execution_count": null,
   "metadata": {
    "execution": {
     "iopub.execute_input": "2023-05-02T02:56:07.475510Z",
     "iopub.status.busy": "2023-05-02T02:56:07.475146Z",
     "iopub.status.idle": "2023-05-02T02:56:08.122150Z",
     "shell.execute_reply": "2023-05-02T02:56:08.120700Z"
    }
   },
   "outputs": [],
   "source": [
    "fig = plt.figure(figsize=(11, 11))\n",
    "ax = fig.add_subplot(1, 1, 1, aspect=\"equal\")\n",
    "mm = flopy.plot.PlotMapView(model=gwf)\n",
    "mm.plot_grid(lw=0.5, alpha=0.5)\n",
    "mm.plot_ibound()\n",
    "mm.plot_array(hd, alpha=0.5)\n",
    "mm.plot_pathline(pl, layer=\"all\", lw=0.3, colors=[\"black\"])\n",
    "plt.show()"
   ]
  },
  {
   "cell_type": "markdown",
   "metadata": {
    "collapsed": false
   },
   "source": [
    "Clean up the temporary workspace."
   ]
  },
  {
   "cell_type": "code",
   "execution_count": null,
   "metadata": {
    "execution": {
     "iopub.execute_input": "2023-05-02T02:56:08.127879Z",
     "iopub.status.busy": "2023-05-02T02:56:08.127242Z",
     "iopub.status.idle": "2023-05-02T02:56:08.152391Z",
     "shell.execute_reply": "2023-05-02T02:56:08.151340Z"
    }
   },
   "outputs": [],
   "source": [
    "try:\n",
    "    # ignore PermissionError on Windows\n",
    "    temp_dir.cleanup()\n",
    "except:\n",
    "    pass"
   ]
  }
 ],
 "metadata": {
  "kernelspec": {
   "display_name": "Python 3",
   "language": "python",
   "name": "python3"
  },
  "language_info": {
   "codemirror_mode": {
    "name": "ipython",
    "version": 3
   },
   "file_extension": ".py",
   "mimetype": "text/x-python",
   "name": "python",
   "nbconvert_exporter": "python",
   "pygments_lexer": "ipython3",
   "version": "3.11.0"
  }
 },
 "nbformat": 4,
 "nbformat_minor": 4
}
