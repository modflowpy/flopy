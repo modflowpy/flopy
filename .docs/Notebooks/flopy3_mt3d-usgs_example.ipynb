{
 "cells": [
  {
   "attachments": {},
   "cell_type": "markdown",
   "metadata": {},
   "source": [
    "# MT3D-USGS Example\n",
    "\n",
    "Demonstrates functionality of the flopy MT3D-USGS module using the 'Crank-Nicolson' example distributed with MT3D-USGS.  \n",
    "\n",
    "#### Problem description:\n",
    "\n",
    "* Grid dimensions: 1 Layer, 3 Rows, 650 Columns\n",
    "* Stress periods: 3\n",
    "* Units are in seconds and meters\n",
    "* Flow package: UPW\n",
    "* Stress packages: SFR, GHB\n",
    "* Solvers: NWT, GCG"
   ]
  },
  {
   "cell_type": "code",
   "execution_count": null,
   "metadata": {
    "execution": {
     "iopub.execute_input": "2023-05-02T02:56:15.019089Z",
     "iopub.status.busy": "2023-05-02T02:56:15.018714Z",
     "iopub.status.idle": "2023-05-02T02:56:17.026550Z",
     "shell.execute_reply": "2023-05-02T02:56:17.025375Z"
    }
   },
   "outputs": [],
   "source": [
    "import sys\n",
    "import os\n",
    "import string\n",
    "from tempfile import TemporaryDirectory\n",
    "from io import StringIO, BytesIO\n",
    "import math\n",
    "\n",
    "import numpy as np\n",
    "import matplotlib as mpl\n",
    "import matplotlib.pyplot as plt\n",
    "\n",
    "# run installed version of flopy or add local path\n",
    "try:\n",
    "    import flopy\n",
    "except:\n",
    "    fpth = os.path.abspath(os.path.join(\"..\", \"..\"))\n",
    "    sys.path.append(fpth)\n",
    "    import flopy\n",
    "\n",
    "print(sys.version)\n",
    "print(\"numpy version: {}\".format(np.__version__))\n",
    "print(\"matplotlib version: {}\".format(mpl.__version__))\n",
    "print(\"flopy version: {}\".format(flopy.__version__))"
   ]
  },
  {
   "cell_type": "code",
   "execution_count": null,
   "metadata": {
    "execution": {
     "iopub.execute_input": "2023-05-02T02:56:17.091531Z",
     "iopub.status.busy": "2023-05-02T02:56:17.091093Z",
     "iopub.status.idle": "2023-05-02T02:56:17.100141Z",
     "shell.execute_reply": "2023-05-02T02:56:17.099194Z"
    }
   },
   "outputs": [],
   "source": [
    "temp_dir = TemporaryDirectory()\n",
    "modelpth = temp_dir.name\n",
    "modelname = \"CrnkNic\"\n",
    "mfexe = \"mfnwt\"\n",
    "mtexe = \"mt3dusgs\"\n",
    "\n",
    "# Make sure modelpth directory exists\n",
    "if not os.path.isdir(modelpth):\n",
    "    os.makedirs(modelpth, exist_ok=True)\n",
    "\n",
    "# Instantiate MODFLOW object in flopy\n",
    "mf = flopy.modflow.Modflow(\n",
    "    modelname=modelname, exe_name=mfexe, model_ws=modelpth, version=\"mfnwt\"\n",
    ")"
   ]
  },
  {
   "attachments": {},
   "cell_type": "markdown",
   "metadata": {},
   "source": [
    "Set up model discretization"
   ]
  },
  {
   "cell_type": "code",
   "execution_count": null,
   "metadata": {
    "execution": {
     "iopub.execute_input": "2023-05-02T02:56:17.104108Z",
     "iopub.status.busy": "2023-05-02T02:56:17.103743Z",
     "iopub.status.idle": "2023-05-02T02:56:17.109749Z",
     "shell.execute_reply": "2023-05-02T02:56:17.108895Z"
    }
   },
   "outputs": [],
   "source": [
    "Lx = 650.0\n",
    "Ly = 15\n",
    "nrow = 3\n",
    "ncol = 650\n",
    "nlay = 1\n",
    "\n",
    "delr = Lx / ncol\n",
    "delc = Ly / nrow\n",
    "\n",
    "xmax = ncol * delr\n",
    "ymax = nrow * delc\n",
    "\n",
    "X, Y = np.meshgrid(\n",
    "    np.linspace(delr / 2, xmax - delr / 2, ncol),\n",
    "    np.linspace(ymax - delc / 2, 0 + delc / 2, nrow),\n",
    ")"
   ]
  },
  {
   "attachments": {},
   "cell_type": "markdown",
   "metadata": {},
   "source": [
    "Instantiate output control (oc) package for MODFLOW-NWT"
   ]
  },
  {
   "cell_type": "code",
   "execution_count": null,
   "metadata": {
    "execution": {
     "iopub.execute_input": "2023-05-02T02:56:17.113499Z",
     "iopub.status.busy": "2023-05-02T02:56:17.113142Z",
     "iopub.status.idle": "2023-05-02T02:56:17.117778Z",
     "shell.execute_reply": "2023-05-02T02:56:17.116629Z"
    }
   },
   "outputs": [],
   "source": [
    "# Output Control: Create a flopy output control object\n",
    "oc = flopy.modflow.ModflowOc(mf)"
   ]
  },
  {
   "attachments": {},
   "cell_type": "markdown",
   "metadata": {},
   "source": [
    "Instantiate solver package for MODFLOW-NWT"
   ]
  },
  {
   "cell_type": "code",
   "execution_count": null,
   "metadata": {
    "execution": {
     "iopub.execute_input": "2023-05-02T02:56:17.121812Z",
     "iopub.status.busy": "2023-05-02T02:56:17.121457Z",
     "iopub.status.idle": "2023-05-02T02:56:17.127904Z",
     "shell.execute_reply": "2023-05-02T02:56:17.127004Z"
    }
   },
   "outputs": [],
   "source": [
    "# Newton-Raphson Solver: Create a flopy nwt package object\n",
    "\n",
    "headtol = 1.0e-4\n",
    "fluxtol = 5\n",
    "maxiterout = 5000\n",
    "thickfact = 1e-06\n",
    "linmeth = 2\n",
    "iprnwt = 1\n",
    "ibotav = 1\n",
    "\n",
    "nwt = flopy.modflow.ModflowNwt(\n",
    "    mf,\n",
    "    headtol=headtol,\n",
    "    fluxtol=fluxtol,\n",
    "    maxiterout=maxiterout,\n",
    "    thickfact=thickfact,\n",
    "    linmeth=linmeth,\n",
    "    iprnwt=iprnwt,\n",
    "    ibotav=ibotav,\n",
    "    options=\"SIMPLE\",\n",
    ")"
   ]
  },
  {
   "attachments": {},
   "cell_type": "markdown",
   "metadata": {},
   "source": [
    "Instantiate discretization (DIS) package for MODFLOW-NWT"
   ]
  },
  {
   "cell_type": "code",
   "execution_count": null,
   "metadata": {
    "execution": {
     "iopub.execute_input": "2023-05-02T02:56:17.131664Z",
     "iopub.status.busy": "2023-05-02T02:56:17.131302Z",
     "iopub.status.idle": "2023-05-02T02:56:17.141403Z",
     "shell.execute_reply": "2023-05-02T02:56:17.140417Z"
    }
   },
   "outputs": [],
   "source": [
    "# The equations for calculating the ground elevation in the 1 Layer CrnkNic model.\n",
    "# Although Y isn't used, keeping it here for symetry\n",
    "\n",
    "\n",
    "def topElev(X, Y):\n",
    "    return 100.0 - (np.ceil(X) - 1) * 0.03\n",
    "\n",
    "\n",
    "grndElev = topElev(X, Y)\n",
    "bedRockElev = grndElev - 3.0\n",
    "\n",
    "Steady = [False, False, False]\n",
    "nstp = [1, 1, 1]\n",
    "tsmult = [1.0, 1.0, 1.0]\n",
    "\n",
    "# Stress periods extend from (12AM-8:29:59AM); (8:30AM-11:30:59AM); (11:31AM-23:59:59PM)\n",
    "perlen = [30600, 10800, 45000]\n",
    "\n",
    "# Create the discretization object\n",
    "# itmuni = 1 (seconds); lenuni = 2 (meters)\n",
    "dis = flopy.modflow.ModflowDis(\n",
    "    mf,\n",
    "    nlay,\n",
    "    nrow,\n",
    "    ncol,\n",
    "    nper=3,\n",
    "    delr=delr,\n",
    "    delc=delc,\n",
    "    top=grndElev,\n",
    "    botm=bedRockElev,\n",
    "    laycbd=0,\n",
    "    itmuni=1,\n",
    "    lenuni=2,\n",
    "    steady=Steady,\n",
    "    nstp=nstp,\n",
    "    tsmult=tsmult,\n",
    "    perlen=perlen,\n",
    ")"
   ]
  },
  {
   "attachments": {},
   "cell_type": "markdown",
   "metadata": {},
   "source": [
    "Instantiate upstream weighting (UPW) flow package for MODFLOW-NWT"
   ]
  },
  {
   "cell_type": "code",
   "execution_count": null,
   "metadata": {
    "execution": {
     "iopub.execute_input": "2023-05-02T02:56:17.145361Z",
     "iopub.status.busy": "2023-05-02T02:56:17.145007Z",
     "iopub.status.idle": "2023-05-02T02:56:17.152757Z",
     "shell.execute_reply": "2023-05-02T02:56:17.151807Z"
    }
   },
   "outputs": [],
   "source": [
    "# UPW parameters\n",
    "# UPW must be instantiated after DIS.  Otherwise, during the mf.write_input() procedures,\n",
    "# flopy will crash.\n",
    "\n",
    "\n",
    "laytyp = 1\n",
    "layavg = 2\n",
    "chani = 1.0\n",
    "layvka = 1\n",
    "iphdry = 0\n",
    "hk = 0.1\n",
    "hani = 1\n",
    "vka = 1.0\n",
    "ss = 0.000001\n",
    "sy = 0.20\n",
    "hdry = -888\n",
    "\n",
    "upw = flopy.modflow.ModflowUpw(\n",
    "    mf,\n",
    "    laytyp=laytyp,\n",
    "    layavg=layavg,\n",
    "    chani=chani,\n",
    "    layvka=layvka,\n",
    "    ipakcb=53,\n",
    "    hdry=hdry,\n",
    "    iphdry=iphdry,\n",
    "    hk=hk,\n",
    "    hani=hani,\n",
    "    vka=vka,\n",
    "    ss=ss,\n",
    "    sy=sy,\n",
    ")"
   ]
  },
  {
   "attachments": {},
   "cell_type": "markdown",
   "metadata": {},
   "source": [
    "Instantiate basic (BAS or BA6) package for MODFLOW-NWT"
   ]
  },
  {
   "cell_type": "code",
   "execution_count": null,
   "metadata": {
    "execution": {
     "iopub.execute_input": "2023-05-02T02:56:17.156153Z",
     "iopub.status.busy": "2023-05-02T02:56:17.155821Z",
     "iopub.status.idle": "2023-05-02T02:56:17.162923Z",
     "shell.execute_reply": "2023-05-02T02:56:17.162040Z"
    }
   },
   "outputs": [],
   "source": [
    "# Create a flopy basic package object\n",
    "def calc_strtElev(X, Y):\n",
    "    return 99.5 - (np.ceil(X) - 1) * 0.0001\n",
    "\n",
    "\n",
    "ibound = np.ones((nlay, nrow, ncol))\n",
    "ibound[:, 0, :] *= -1\n",
    "ibound[:, 2, :] *= -1\n",
    "\n",
    "strtElev = calc_strtElev(X, Y)\n",
    "\n",
    "bas = flopy.modflow.ModflowBas(mf, ibound=ibound, hnoflo=hdry, strt=strtElev)"
   ]
  },
  {
   "attachments": {},
   "cell_type": "markdown",
   "metadata": {},
   "source": [
    "Instantiate streamflow routing (SFR2) package for MODFLOW-NWT"
   ]
  },
  {
   "cell_type": "code",
   "execution_count": null,
   "metadata": {
    "execution": {
     "iopub.execute_input": "2023-05-02T02:56:17.166928Z",
     "iopub.status.busy": "2023-05-02T02:56:17.166473Z",
     "iopub.status.idle": "2023-05-02T02:56:17.250422Z",
     "shell.execute_reply": "2023-05-02T02:56:17.249535Z"
    }
   },
   "outputs": [],
   "source": [
    "# Streamflow Routing Package: Try and set up with minimal options in use\n",
    "# 9 11 IFACE # Data Set 1: ISTCB1  ISTCB2\n",
    "\n",
    "nstrm = ncol\n",
    "nss = 6\n",
    "const = 1.0\n",
    "dleak = 0.0001\n",
    "istcb1 = -10\n",
    "istcb2 = 11\n",
    "isfropt = 1\n",
    "\n",
    "segment_data = None\n",
    "channel_geometry_data = None\n",
    "channel_flow_data = None\n",
    "dataset_5 = None\n",
    "reachinput = True\n",
    "\n",
    "\n",
    "# The next couple of lines set up the reach_data for the 30x100 hypothetical model.\n",
    "# Will need to adjust the row based on which grid discretization we're doing.\n",
    "# Ensure that the stream goes down one of the middle rows of the model.\n",
    "\n",
    "strmBed_Elev = 98.75 - (np.ceil(X[1, :]) - 1) * 0.0001\n",
    "\n",
    "s1 = \"k,i,j,iseg,ireach,rchlen,strtop,slope,strthick,strhc1\\n\"\n",
    "iseg = 0\n",
    "irch = 0\n",
    "\n",
    "for y in range(ncol):\n",
    "    if y <= 37:\n",
    "        if iseg == 0:\n",
    "            irch = 1\n",
    "        else:\n",
    "            irch += 1\n",
    "        iseg = 1\n",
    "        strhc1 = 1.0e-10\n",
    "    elif y <= 104:\n",
    "        if iseg == 1:\n",
    "            irch = 1\n",
    "        else:\n",
    "            irch += 1\n",
    "        iseg = 2\n",
    "        strhc1 = 1.0e-10\n",
    "    elif y <= 280:\n",
    "        if iseg == 2:\n",
    "            irch = 1\n",
    "        else:\n",
    "            irch += 1\n",
    "        iseg = 3\n",
    "        strhc1 = 2.946219199e-6\n",
    "    elif y <= 432:\n",
    "        if iseg == 3:\n",
    "            irch = 1\n",
    "        else:\n",
    "            irch += 1\n",
    "        iseg = 4\n",
    "        strhc1 = 1.375079882e-6\n",
    "    elif y <= 618:\n",
    "        if iseg == 4:\n",
    "            irch = 1\n",
    "        else:\n",
    "            irch += 1\n",
    "        iseg = 5\n",
    "        strhc1 = 1.764700062e-6\n",
    "    else:\n",
    "        if iseg == 5:\n",
    "            irch = 1\n",
    "        else:\n",
    "            irch += 1\n",
    "        iseg = 6\n",
    "        strhc1 = 1e-10\n",
    "\n",
    "    # remember that lay, row, col need to be zero-based and are adjusted accordingly by flopy\n",
    "    #    layer +  row      +      col     +       iseg      +      irch      +     rchlen      +            strtop          +       slope       +     strthick    +     strmbed K\n",
    "    s1 += \"0,{}\".format(1)\n",
    "    s1 += \",{}\".format(y)\n",
    "    s1 += \",{}\".format(iseg)\n",
    "    s1 += \",{}\".format(irch)\n",
    "    s1 += \",{}\".format(delr)\n",
    "    s1 += \",{}\".format(strmBed_Elev[y])\n",
    "    s1 += \",{}\".format(0.0001)\n",
    "    s1 += \",{}\".format(0.50)\n",
    "    s1 += \",{}\\n\".format(strhc1)\n",
    "\n",
    "\n",
    "fpth = os.path.join(modelpth, \"s1.csv\")\n",
    "f = open(fpth, \"w\")\n",
    "f.write(s1)\n",
    "f.close()\n",
    "\n",
    "dtype = [\n",
    "    (\"k\", \"<i4\"),\n",
    "    (\"i\", \"<i4\"),\n",
    "    (\"j\", \"<i4\"),\n",
    "    (\"iseg\", \"<i4\"),\n",
    "    (\"ireach\", \"<f8\"),\n",
    "    (\"rchlen\", \"<f8\"),\n",
    "    (\"strtop\", \"<f8\"),\n",
    "    (\"slope\", \"<f8\"),\n",
    "    (\"strthick\", \"<f8\"),\n",
    "    (\"strhc1\", \"<f8\"),\n",
    "]\n",
    "\n",
    "if sys.version_info > (3, 0):\n",
    "    f = open(fpth, \"rb\")\n",
    "else:\n",
    "    f = open(fpth, \"r\")\n",
    "\n",
    "reach_data = np.genfromtxt(f, delimiter=\",\", names=True, dtype=dtype)\n",
    "f.close()\n",
    "\n",
    "s2 = \"nseg,icalc,outseg,iupseg,nstrpts,   flow,runoff,etsw,pptsw,        roughch,        roughbk,cdpth,fdpth,awdth,bwdth,width1,width2\\n \\\n",
    "      1,    1,     2,     0,      0, 0.0125,   0.0, 0.0,  0.0, 0.082078856000, 0.082078856000,  0.0,  0.0,  0.0,  0.0,   1.5,   1.5\\n \\\n",
    "      2,    1,     3,     0,      0,    0.0,   0.0, 0.0,  0.0, 0.143806300000, 0.143806300000,  0.0,  0.0,  0.0,  0.0,   1.5,   1.5\\n \\\n",
    "      3,    1,     4,     0,      0,    0.0,   0.0, 0.0,  0.0, 0.104569661821, 0.104569661821,  0.0,  0.0,  0.0,  0.0,   1.5,   1.5\\n \\\n",
    "      4,    1,     5,     0,      0,    0.0,   0.0, 0.0,  0.0, 0.126990045841, 0.126990045841,  0.0,  0.0,  0.0,  0.0,   1.5,   1.5\\n \\\n",
    "      5,    1,     6,     0,      0,    0.0,   0.0, 0.0,  0.0, 0.183322283828, 0.183322283828,  0.0,  0.0,  0.0,  0.0,   1.5,   1.5\\n \\\n",
    "      6,    1,     0,     0,      0,    0.0,   0.0, 0.0,  0.0, 0.183322283828, 0.183322283828,  0.0,  0.0,  0.0,  0.0,   1.5,   1.5\"\n",
    "\n",
    "fpth = os.path.join(modelpth, \"s2.csv\")\n",
    "f = open(fpth, \"w\")\n",
    "f.write(s2)\n",
    "f.close()\n",
    "\n",
    "if sys.version_info > (3, 0):\n",
    "    f = open(fpth, \"rb\")\n",
    "else:\n",
    "    f = open(fpth, \"r\")\n",
    "\n",
    "segment_data = np.genfromtxt(f, delimiter=\",\", names=True)\n",
    "f.close()\n",
    "\n",
    "# Be sure to convert segment_data to a dictionary keyed on stress period.\n",
    "segment_data = np.atleast_1d(segment_data)\n",
    "segment_data = {0: segment_data, 1: segment_data, 2: segment_data}\n",
    "\n",
    "# There are 3 stress periods\n",
    "dataset_5 = {0: [nss, 0, 0], 1: [nss, 0, 0], 2: [nss, 0, 0]}\n",
    "\n",
    "sfr = flopy.modflow.ModflowSfr2(\n",
    "    mf,\n",
    "    nstrm=nstrm,\n",
    "    nss=nss,\n",
    "    const=const,\n",
    "    dleak=dleak,\n",
    "    isfropt=isfropt,\n",
    "    istcb2=0,\n",
    "    reachinput=True,\n",
    "    reach_data=reach_data,\n",
    "    dataset_5=dataset_5,\n",
    "    segment_data=segment_data,\n",
    "    channel_geometry_data=channel_geometry_data,\n",
    ")"
   ]
  },
  {
   "attachments": {},
   "cell_type": "markdown",
   "metadata": {},
   "source": [
    "Instantiate gage package for use with MODFLOW-NWT package"
   ]
  },
  {
   "cell_type": "code",
   "execution_count": null,
   "metadata": {
    "execution": {
     "iopub.execute_input": "2023-05-02T02:56:17.254147Z",
     "iopub.status.busy": "2023-05-02T02:56:17.253806Z",
     "iopub.status.idle": "2023-05-02T02:56:17.259915Z",
     "shell.execute_reply": "2023-05-02T02:56:17.259066Z"
    }
   },
   "outputs": [],
   "source": [
    "gages = [\n",
    "    [1, 38, 61, 1],\n",
    "    [2, 67, 62, 1],\n",
    "    [3, 176, 63, 1],\n",
    "    [4, 152, 64, 1],\n",
    "    [5, 186, 65, 1],\n",
    "    [6, 31, 66, 1],\n",
    "]\n",
    "files = [\n",
    "    \"CrnkNic.gage\",\n",
    "    \"CrnkNic.gag1\",\n",
    "    \"CrnkNic.gag2\",\n",
    "    \"CrnkNic.gag3\",\n",
    "    \"CrnkNic.gag4\",\n",
    "    \"CrnkNic.gag5\",\n",
    "    \"CrnkNic.gag6\",\n",
    "]\n",
    "gage = flopy.modflow.ModflowGage(\n",
    "    mf, numgage=6, gage_data=gages, filenames=files\n",
    ")"
   ]
  },
  {
   "attachments": {},
   "cell_type": "markdown",
   "metadata": {},
   "source": [
    "Instantiate linkage with mass transport routing (LMT) package for MODFLOW-NWT (generates linker file)"
   ]
  },
  {
   "cell_type": "code",
   "execution_count": null,
   "metadata": {
    "execution": {
     "iopub.execute_input": "2023-05-02T02:56:17.263538Z",
     "iopub.status.busy": "2023-05-02T02:56:17.263158Z",
     "iopub.status.idle": "2023-05-02T02:56:17.267895Z",
     "shell.execute_reply": "2023-05-02T02:56:17.267026Z"
    }
   },
   "outputs": [],
   "source": [
    "lmt = flopy.modflow.ModflowLmt(\n",
    "    mf,\n",
    "    output_file_name=\"CrnkNic.ftl\",\n",
    "    output_file_header=\"extended\",\n",
    "    output_file_format=\"formatted\",\n",
    "    package_flows=[\"sfr\"],\n",
    ")"
   ]
  },
  {
   "attachments": {},
   "cell_type": "markdown",
   "metadata": {},
   "source": [
    "Write the MODFLOW input files"
   ]
  },
  {
   "cell_type": "code",
   "execution_count": null,
   "metadata": {
    "execution": {
     "iopub.execute_input": "2023-05-02T02:56:17.271622Z",
     "iopub.status.busy": "2023-05-02T02:56:17.271264Z",
     "iopub.status.idle": "2023-05-02T02:56:17.538401Z",
     "shell.execute_reply": "2023-05-02T02:56:17.537071Z"
    }
   },
   "outputs": [],
   "source": [
    "mf.write_input()\n",
    "\n",
    "# run the model\n",
    "success, buff = mf.run_model(silent=True, report=True)\n",
    "if success:\n",
    "    for line in buff:\n",
    "        print(line)\n",
    "else:\n",
    "    raise ValueError(\"Failed to run.\")"
   ]
  },
  {
   "attachments": {},
   "cell_type": "markdown",
   "metadata": {},
   "source": [
    "Now draft up MT3D-USGS input files.  "
   ]
  },
  {
   "cell_type": "code",
   "execution_count": null,
   "metadata": {
    "execution": {
     "iopub.execute_input": "2023-05-02T02:56:17.542803Z",
     "iopub.status.busy": "2023-05-02T02:56:17.542403Z",
     "iopub.status.idle": "2023-05-02T02:56:17.628275Z",
     "shell.execute_reply": "2023-05-02T02:56:17.627306Z"
    }
   },
   "outputs": [],
   "source": [
    "# Instantiate MT3D-USGS object in flopy\n",
    "mt = flopy.mt3d.Mt3dms(\n",
    "    modflowmodel=mf,\n",
    "    modelname=modelname,\n",
    "    model_ws=modelpth,\n",
    "    version=\"mt3d-usgs\",\n",
    "    namefile_ext=\"mtnam\",\n",
    "    exe_name=mtexe,\n",
    "    ftlfilename=\"CrnkNic.ftl\",\n",
    "    ftlfree=True,\n",
    ")"
   ]
  },
  {
   "attachments": {},
   "cell_type": "markdown",
   "metadata": {},
   "source": [
    "Instantiate basic transport (BTN) package for MT3D-USGS"
   ]
  },
  {
   "cell_type": "code",
   "execution_count": null,
   "metadata": {
    "execution": {
     "iopub.execute_input": "2023-05-02T02:56:17.632256Z",
     "iopub.status.busy": "2023-05-02T02:56:17.631877Z",
     "iopub.status.idle": "2023-05-02T02:56:17.639866Z",
     "shell.execute_reply": "2023-05-02T02:56:17.638883Z"
    }
   },
   "outputs": [],
   "source": [
    "btn = flopy.mt3d.Mt3dBtn(\n",
    "    mt,\n",
    "    sconc=3.7,\n",
    "    ncomp=1,\n",
    "    prsity=0.2,\n",
    "    cinact=-1.0,\n",
    "    thkmin=0.001,\n",
    "    nprs=-1,\n",
    "    nprobs=10,\n",
    "    chkmas=True,\n",
    "    nprmas=10,\n",
    "    dt0=180,\n",
    "    mxstrn=2500,\n",
    ")"
   ]
  },
  {
   "attachments": {},
   "cell_type": "markdown",
   "metadata": {},
   "source": [
    "Instantiate advection (ADV) package for MT3D-USGS"
   ]
  },
  {
   "cell_type": "code",
   "execution_count": null,
   "metadata": {
    "execution": {
     "iopub.execute_input": "2023-05-02T02:56:17.643906Z",
     "iopub.status.busy": "2023-05-02T02:56:17.643537Z",
     "iopub.status.idle": "2023-05-02T02:56:17.648873Z",
     "shell.execute_reply": "2023-05-02T02:56:17.647918Z"
    }
   },
   "outputs": [],
   "source": [
    "adv = flopy.mt3d.Mt3dAdv(mt, mixelm=0, percel=1.00, mxpart=5000, nadvfd=1)"
   ]
  },
  {
   "attachments": {},
   "cell_type": "markdown",
   "metadata": {},
   "source": [
    "Instatiate generalized conjugate gradient solver (GCG) package for MT3D-USGS"
   ]
  },
  {
   "cell_type": "code",
   "execution_count": null,
   "metadata": {
    "execution": {
     "iopub.execute_input": "2023-05-02T02:56:17.652663Z",
     "iopub.status.busy": "2023-05-02T02:56:17.652322Z",
     "iopub.status.idle": "2023-05-02T02:56:17.657485Z",
     "shell.execute_reply": "2023-05-02T02:56:17.656588Z"
    }
   },
   "outputs": [],
   "source": [
    "rct = flopy.mt3d.Mt3dRct(mt, isothm=0, ireact=100, igetsc=0, rc1=0.01)"
   ]
  },
  {
   "cell_type": "code",
   "execution_count": null,
   "metadata": {
    "execution": {
     "iopub.execute_input": "2023-05-02T02:56:17.661026Z",
     "iopub.status.busy": "2023-05-02T02:56:17.660638Z",
     "iopub.status.idle": "2023-05-02T02:56:17.665898Z",
     "shell.execute_reply": "2023-05-02T02:56:17.664942Z"
    }
   },
   "outputs": [],
   "source": [
    "gcg = flopy.mt3d.Mt3dGcg(\n",
    "    mt, mxiter=10, iter1=50, isolve=3, ncrs=0, accl=1, cclose=1e-6, iprgcg=1\n",
    ")"
   ]
  },
  {
   "attachments": {},
   "cell_type": "markdown",
   "metadata": {},
   "source": [
    "Instantiate source-sink mixing (SSM) package for MT3D-USGS"
   ]
  },
  {
   "cell_type": "code",
   "execution_count": null,
   "metadata": {
    "execution": {
     "iopub.execute_input": "2023-05-02T02:56:17.670243Z",
     "iopub.status.busy": "2023-05-02T02:56:17.669534Z",
     "iopub.status.idle": "2023-05-02T02:56:17.679577Z",
     "shell.execute_reply": "2023-05-02T02:56:17.678639Z"
    }
   },
   "outputs": [],
   "source": [
    "# For SSM, need to set the constant head boundary conditions to the ambient concentration\n",
    "# for all 1,300 constant head boundary cells.\n",
    "\n",
    "itype = flopy.mt3d.Mt3dSsm.itype_dict()\n",
    "ssm_data = {}\n",
    "ssm_data[0] = [(0, 0, 0, 3.7, itype[\"CHD\"])]\n",
    "ssm_data[0].append((0, 2, 0, 3.7, itype[\"CHD\"]))\n",
    "for i in [0, 2]:\n",
    "    for j in range(1, ncol):\n",
    "        ssm_data[0].append((0, i, j, 3.7, itype[\"CHD\"]))\n",
    "\n",
    "ssm = flopy.mt3d.Mt3dSsm(mt, stress_period_data=ssm_data)"
   ]
  },
  {
   "attachments": {},
   "cell_type": "markdown",
   "metadata": {},
   "source": [
    "Instantiate streamflow transport (SFT) package for MT3D-USGS"
   ]
  },
  {
   "cell_type": "code",
   "execution_count": null,
   "metadata": {
    "execution": {
     "iopub.execute_input": "2023-05-02T02:56:17.683662Z",
     "iopub.status.busy": "2023-05-02T02:56:17.683096Z",
     "iopub.status.idle": "2023-05-02T02:56:17.694434Z",
     "shell.execute_reply": "2023-05-02T02:56:17.693499Z"
    }
   },
   "outputs": [],
   "source": [
    "dispsf = []\n",
    "for y in range(ncol):\n",
    "    if y <= 37:\n",
    "        dispsf.append(0.12)\n",
    "    elif y <= 104:\n",
    "        dispsf.append(0.15)\n",
    "    elif y <= 280:\n",
    "        dispsf.append(0.24)\n",
    "    elif y <= 432:\n",
    "        dispsf.append(0.31)\n",
    "    elif y <= 618:\n",
    "        dispsf.append(0.40)\n",
    "    else:\n",
    "        dispsf.append(0.40)\n",
    "\n",
    "# Enter a list of the observation points\n",
    "# Each observation is taken as the last reach within the first 5 segments\n",
    "\n",
    "seg_len = np.unique(reach_data[\"iseg\"], return_counts=True)\n",
    "obs_sf = np.cumsum(seg_len[1])\n",
    "obs_sf = obs_sf.tolist()\n",
    "\n",
    "# The last reach is not an observation point, therefore drop\n",
    "obs_sf.pop(-1)\n",
    "\n",
    "# In the first and last stress periods, concentration at the headwater is 3.7\n",
    "sf_stress_period_data = {0: [0, 0, 3.7], 1: [0, 0, 11.4], 2: [0, 0, 3.7]}\n",
    "\n",
    "gage_output = [None, None, \"CrnkNic.sftobs\"]\n",
    "\n",
    "sft = flopy.mt3d.Mt3dSft(\n",
    "    mt,\n",
    "    nsfinit=650,\n",
    "    mxsfbc=650,\n",
    "    icbcsf=81,\n",
    "    ioutobs=82,\n",
    "    isfsolv=1,\n",
    "    cclosesf=1.0e-6,\n",
    "    mxitersf=10,\n",
    "    crntsf=1.0,\n",
    "    iprtxmd=0,\n",
    "    coldsf=3.7,\n",
    "    dispsf=dispsf,\n",
    "    nobssf=5,\n",
    "    obs_sf=obs_sf,\n",
    "    sf_stress_period_data=sf_stress_period_data,\n",
    "    filenames=gage_output,\n",
    ")\n",
    "\n",
    "sft.dispsf[0].format.fortran = \"(10E15.6)\""
   ]
  },
  {
   "attachments": {},
   "cell_type": "markdown",
   "metadata": {},
   "source": [
    "Write the MT3D-USGS input files and run the model."
   ]
  },
  {
   "cell_type": "code",
   "execution_count": null,
   "metadata": {
    "execution": {
     "iopub.execute_input": "2023-05-02T02:56:17.698192Z",
     "iopub.status.busy": "2023-05-02T02:56:17.697828Z",
     "iopub.status.idle": "2023-05-02T02:56:19.235008Z",
     "shell.execute_reply": "2023-05-02T02:56:19.233787Z"
    }
   },
   "outputs": [],
   "source": [
    "mt.write_input()\n",
    "mt.run_model(silent=True, report=True)"
   ]
  },
  {
   "attachments": {},
   "cell_type": "markdown",
   "metadata": {},
   "source": [
    "# Compare mt3d-usgs results to an analytical solution"
   ]
  },
  {
   "cell_type": "code",
   "execution_count": null,
   "metadata": {
    "execution": {
     "iopub.execute_input": "2023-05-02T02:56:19.238755Z",
     "iopub.status.busy": "2023-05-02T02:56:19.238398Z",
     "iopub.status.idle": "2023-05-02T02:56:19.245919Z",
     "shell.execute_reply": "2023-05-02T02:56:19.245113Z"
    }
   },
   "outputs": [],
   "source": [
    "# Define a function to read SFT output file\n",
    "def load_ts_from_SFT_output(fname, nd=1):\n",
    "    f = open(fname, \"r\")\n",
    "    iline = 0\n",
    "    lst = []\n",
    "    for line in f:\n",
    "        if line.strip().split()[0].replace(\".\", \"\", 1).isdigit():\n",
    "            l = line.strip().split()\n",
    "            t = float(l[0])\n",
    "            loc = int(l[1])\n",
    "            conc = float(l[2])\n",
    "            if loc == nd:\n",
    "                lst.append([t, conc])\n",
    "\n",
    "    ts = np.array(lst)\n",
    "    f.close()\n",
    "    return ts\n",
    "\n",
    "\n",
    "# Also define a function to read OTIS output file\n",
    "def load_ts_from_otis(fname, iobs=1):\n",
    "    f = open(fname, \"r\")\n",
    "    iline = 0\n",
    "    lst = []\n",
    "    for line in f:\n",
    "        l = line.strip().split()\n",
    "        t = float(l[0])\n",
    "        val = float(l[iobs])\n",
    "        lst.append([t, val])\n",
    "\n",
    "    ts = np.array(lst)\n",
    "    f.close()\n",
    "    return ts"
   ]
  },
  {
   "attachments": {},
   "cell_type": "markdown",
   "metadata": {},
   "source": [
    "Load output from SFT as well as from the OTIS solution"
   ]
  },
  {
   "cell_type": "code",
   "execution_count": null,
   "metadata": {
    "execution": {
     "iopub.execute_input": "2023-05-02T02:56:19.249143Z",
     "iopub.status.busy": "2023-05-02T02:56:19.248822Z",
     "iopub.status.idle": "2023-05-02T02:56:19.298057Z",
     "shell.execute_reply": "2023-05-02T02:56:19.297292Z"
    }
   },
   "outputs": [],
   "source": [
    "# Model output\n",
    "fname_SFTout = os.path.join(modelpth, \"CrnkNic.sftcobs.out\")\n",
    "\n",
    "# Loading MT3D-USGS output\n",
    "ts1_mt3d = load_ts_from_SFT_output(fname_SFTout, nd=38)\n",
    "ts2_mt3d = load_ts_from_SFT_output(fname_SFTout, nd=105)\n",
    "ts3_mt3d = load_ts_from_SFT_output(fname_SFTout, nd=281)\n",
    "ts4_mt3d = load_ts_from_SFT_output(fname_SFTout, nd=433)\n",
    "ts5_mt3d = load_ts_from_SFT_output(fname_SFTout, nd=619)\n",
    "\n",
    "# OTIS results located here\n",
    "fname_OTIS = \"../../examples/data/mt3d_test/mfnwt_mt3dusgs/sft_crnkNic/OTIS_solution.out\"\n",
    "\n",
    "# Loading OTIS output\n",
    "ts1_Otis = load_ts_from_otis(fname_OTIS, 1)\n",
    "ts2_Otis = load_ts_from_otis(fname_OTIS, 2)\n",
    "ts3_Otis = load_ts_from_otis(fname_OTIS, 3)\n",
    "ts4_Otis = load_ts_from_otis(fname_OTIS, 4)\n",
    "ts5_Otis = load_ts_from_otis(fname_OTIS, 5)"
   ]
  },
  {
   "attachments": {},
   "cell_type": "markdown",
   "metadata": {},
   "source": [
    "Set up some plotting functions"
   ]
  },
  {
   "cell_type": "code",
   "execution_count": null,
   "metadata": {
    "execution": {
     "iopub.execute_input": "2023-05-02T02:56:19.301252Z",
     "iopub.status.busy": "2023-05-02T02:56:19.300976Z",
     "iopub.status.idle": "2023-05-02T02:56:19.309378Z",
     "shell.execute_reply": "2023-05-02T02:56:19.308275Z"
    }
   },
   "outputs": [],
   "source": [
    "def set_plot_params():\n",
    "    import matplotlib as mpl\n",
    "    from matplotlib.font_manager import FontProperties\n",
    "\n",
    "    mpl.rcParams[\"pdf.compression\"] = 0\n",
    "    mpl.rcParams[\"pdf.fonttype\"] = 42\n",
    "\n",
    "    ticksize = 10\n",
    "    mpl.rcParams[\"legend.fontsize\"] = 7\n",
    "    mpl.rcParams[\"axes.labelsize\"] = 12\n",
    "    mpl.rcParams[\"xtick.labelsize\"] = ticksize\n",
    "    mpl.rcParams[\"ytick.labelsize\"] = ticksize\n",
    "    return\n",
    "\n",
    "\n",
    "def set_sizexaxis(a, fmt, sz):\n",
    "    success = 0\n",
    "    x = a.get_xticks()\n",
    "    #   print x\n",
    "    xc = np.chararray(len(x), itemsize=16)\n",
    "    for i in range(0, len(x)):\n",
    "        text = fmt % (x[i])\n",
    "        xc[i] = string.strip(string.ljust(text, 16))\n",
    "    #   print xc\n",
    "    a.set_xticklabels(xc, size=sz)\n",
    "    success = 1\n",
    "    return success\n",
    "\n",
    "\n",
    "def set_sizeyaxis(a, fmt, sz):\n",
    "    success = 0\n",
    "    y = a.get_yticks()\n",
    "    #   print y\n",
    "    yc = np.chararray(len(y), itemsize=16)\n",
    "    for i in range(0, len(y)):\n",
    "        text = fmt % (y[i])\n",
    "        yc[i] = string.strip(string.ljust(text, 16))\n",
    "    #   print yc\n",
    "    a.set_yticklabels(yc, size=sz)\n",
    "    success = 1\n",
    "    return success"
   ]
  },
  {
   "attachments": {},
   "cell_type": "markdown",
   "metadata": {},
   "source": [
    "Compare output:"
   ]
  },
  {
   "cell_type": "code",
   "execution_count": null,
   "metadata": {
    "execution": {
     "iopub.execute_input": "2023-05-02T02:56:19.312652Z",
     "iopub.status.busy": "2023-05-02T02:56:19.312378Z",
     "iopub.status.idle": "2023-05-02T02:56:19.597191Z",
     "shell.execute_reply": "2023-05-02T02:56:19.596106Z"
    }
   },
   "outputs": [],
   "source": [
    "# set up figure\n",
    "try:\n",
    "    plt.close(\"all\")\n",
    "except:\n",
    "    pass\n",
    "\n",
    "set_plot_params()\n",
    "\n",
    "fig = plt.figure(figsize=(6, 4), facecolor=\"w\")\n",
    "ax = fig.add_subplot(1, 1, 1)\n",
    "\n",
    "ax.plot(ts1_Otis[:, 0], ts1_Otis[:, 1], \"k-\", linewidth=1.0)\n",
    "ax.plot(ts2_Otis[:, 0], ts2_Otis[:, 1], \"b-\", linewidth=1.0)\n",
    "ax.plot(ts3_Otis[:, 0], ts3_Otis[:, 1], \"r-\", linewidth=1.0)\n",
    "ax.plot(ts4_Otis[:, 0], ts4_Otis[:, 1], \"g-\", linewidth=1.0)\n",
    "ax.plot(ts5_Otis[:, 0], ts5_Otis[:, 1], \"c-\", linewidth=1.0)\n",
    "\n",
    "ax.plot(\n",
    "    (ts1_mt3d[:, 0]) / 3600,\n",
    "    ts1_mt3d[:, 1],\n",
    "    \"kD\",\n",
    "    markersize=2.0,\n",
    "    mfc=\"none\",\n",
    "    mec=\"k\",\n",
    ")\n",
    "ax.plot(\n",
    "    (ts2_mt3d[:, 0]) / 3600,\n",
    "    ts2_mt3d[:, 1],\n",
    "    \"b*\",\n",
    "    markersize=3.0,\n",
    "    mfc=\"none\",\n",
    "    mec=\"b\",\n",
    ")\n",
    "ax.plot((ts3_mt3d[:, 0]) / 3600, ts3_mt3d[:, 1], \"r+\", markersize=3.0)\n",
    "ax.plot(\n",
    "    (ts4_mt3d[:, 0]) / 3600,\n",
    "    ts4_mt3d[:, 1],\n",
    "    \"g^\",\n",
    "    markersize=2.0,\n",
    "    mfc=\"none\",\n",
    "    mec=\"g\",\n",
    ")\n",
    "ax.plot(\n",
    "    (ts5_mt3d[:, 0]) / 3600,\n",
    "    ts5_mt3d[:, 1],\n",
    "    \"co\",\n",
    "    markersize=2.0,\n",
    "    mfc=\"none\",\n",
    "    mec=\"c\",\n",
    ")\n",
    "\n",
    "# customize plot\n",
    "ax.set_xlabel(\"Time, hours\")\n",
    "ax.set_ylabel(\"Concentration, mg L-1\")\n",
    "ax.set_ylim([3.5, 13])\n",
    "ticksize = 10\n",
    "\n",
    "# legend\n",
    "leg = ax.legend(\n",
    "    (\n",
    "        \"Otis, Site 1\",\n",
    "        \"Otis, Site 2\",\n",
    "        \"Otis, Site 3\",\n",
    "        \"Otis, Site 4\",\n",
    "        \"Otis, Site 5\",\n",
    "        \"MT3D-USGS, Site 1\",\n",
    "        \"MT3D-USGS, Site 2\",\n",
    "        \"MT3D-USGS, Site 3\",\n",
    "        \"MT3D-USGS, Site 4\",\n",
    "        \"MT3D-USGS, Site 5\",\n",
    "    ),\n",
    "    loc=\"upper right\",\n",
    "    labelspacing=0.25,\n",
    "    columnspacing=1,\n",
    "    handletextpad=0.5,\n",
    "    handlelength=2.0,\n",
    "    numpoints=1,\n",
    ")\n",
    "leg._drawFrame = False\n",
    "\n",
    "plt.show()"
   ]
  },
  {
   "cell_type": "code",
   "execution_count": null,
   "metadata": {
    "execution": {
     "iopub.execute_input": "2023-05-02T02:56:19.600288Z",
     "iopub.status.busy": "2023-05-02T02:56:19.599995Z",
     "iopub.status.idle": "2023-05-02T02:56:19.630446Z",
     "shell.execute_reply": "2023-05-02T02:56:19.629569Z"
    }
   },
   "outputs": [],
   "source": [
    "try:\n",
    "    # ignore PermissionError on Windows\n",
    "    temp_dir.cleanup()\n",
    "except:\n",
    "    pass"
   ]
  }
 ],
 "metadata": {
  "anaconda-cloud": {},
  "kernelspec": {
   "display_name": "Python 3 (ipykernel)",
   "language": "python",
   "name": "python3"
  },
  "language_info": {
   "codemirror_mode": {
    "name": "ipython",
    "version": 3
   },
   "file_extension": ".py",
   "mimetype": "text/x-python",
   "name": "python",
   "nbconvert_exporter": "python",
   "pygments_lexer": "ipython3",
   "version": "3.11.2"
  }
 },
 "nbformat": 4,
 "nbformat_minor": 4
}
