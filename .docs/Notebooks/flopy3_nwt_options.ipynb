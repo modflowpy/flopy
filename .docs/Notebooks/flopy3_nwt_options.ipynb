{
 "cells": [
  {
   "cell_type": "markdown",
   "metadata": {},
   "source": [
    "# Working with MODFLOW-NWT v 1.1 option blocks\n",
    "\n",
    "In MODFLOW-NWT an option block is present for the WEL file, UZF file, and SFR file. This block takes keyword arguments that are supplied in an option line in other versions of MODFLOW. \n",
    "\n",
    "The `OptionBlock` class was created to provide combatibility with the MODFLOW-NWT option block and allow the user to easily edit values within the option block"
   ]
  },
  {
   "cell_type": "code",
   "execution_count": null,
   "metadata": {
    "execution": {
     "iopub.execute_input": "2023-05-02T02:56:57.106964Z",
     "iopub.status.busy": "2023-05-02T02:56:57.106647Z",
     "iopub.status.idle": "2023-05-02T02:56:59.121373Z",
     "shell.execute_reply": "2023-05-02T02:56:59.120429Z"
    }
   },
   "outputs": [],
   "source": [
    "import os\n",
    "import sys\n",
    "from tempfile import TemporaryDirectory\n",
    "\n",
    "try:\n",
    "    import flopy\n",
    "except:\n",
    "    fpth = os.path.abspath(os.path.join(\"..\", \"..\"))\n",
    "    sys.path.append(fpth)\n",
    "    import flopy\n",
    "\n",
    "from flopy.utils import OptionBlock\n",
    "\n",
    "print(sys.version)\n",
    "print(\"flopy version: {}\".format(flopy.__version__))"
   ]
  },
  {
   "cell_type": "code",
   "execution_count": null,
   "metadata": {
    "execution": {
     "iopub.execute_input": "2023-05-02T02:56:59.183202Z",
     "iopub.status.busy": "2023-05-02T02:56:59.182775Z",
     "iopub.status.idle": "2023-05-02T02:56:59.189854Z",
     "shell.execute_reply": "2023-05-02T02:56:59.188780Z"
    }
   },
   "outputs": [],
   "source": [
    "load_ws = os.path.join(\"..\", \"..\", \"examples\", \"data\", \"options\", \"sagehen\")\n",
    "\n",
    "# temporary directory\n",
    "temp_dir = TemporaryDirectory()\n",
    "model_ws = os.path.join(temp_dir.name, \"nwt_options\", \"output\")"
   ]
  },
  {
   "cell_type": "markdown",
   "metadata": {},
   "source": [
    "## Loading a MODFLOW-NWT model that has option block options\n",
    "\n",
    "It is critical to set the `version` flag in `flopy.modflow.Modflow.load()` to `version='mfnwt'` \n",
    "\n",
    "We are going to load a modified version of the Sagehen test problem from GSFLOW to illustrate compatibility"
   ]
  },
  {
   "cell_type": "code",
   "execution_count": null,
   "metadata": {
    "execution": {
     "iopub.execute_input": "2023-05-02T02:56:59.193416Z",
     "iopub.status.busy": "2023-05-02T02:56:59.193058Z",
     "iopub.status.idle": "2023-05-02T02:56:59.650681Z",
     "shell.execute_reply": "2023-05-02T02:56:59.649051Z"
    }
   },
   "outputs": [],
   "source": [
    "mfexe = \"mfnwt\"\n",
    "\n",
    "ml = flopy.modflow.Modflow.load(\n",
    "    \"sagehen.nam\", model_ws=load_ws, exe_name=mfexe, version=\"mfnwt\"\n",
    ")\n",
    "ml.change_model_ws(new_pth=model_ws)\n",
    "ml.write_input()"
   ]
  },
  {
   "cell_type": "markdown",
   "metadata": {},
   "source": [
    "## Let's look at the options attribute of the UZF object\n",
    "\n",
    "The `uzf.options` attribute is an `OptionBlock` object. The representation of this object is the option block that will be written to output, which allows the user to easily check to make sure the block has the options they want."
   ]
  },
  {
   "cell_type": "code",
   "execution_count": null,
   "metadata": {
    "execution": {
     "iopub.execute_input": "2023-05-02T02:56:59.654957Z",
     "iopub.status.busy": "2023-05-02T02:56:59.654581Z",
     "iopub.status.idle": "2023-05-02T02:56:59.665292Z",
     "shell.execute_reply": "2023-05-02T02:56:59.663886Z"
    }
   },
   "outputs": [],
   "source": [
    "uzf = ml.get_package(\"UZF\")\n",
    "uzf.options"
   ]
  },
  {
   "cell_type": "markdown",
   "metadata": {},
   "source": [
    "The `OptionBlock` object also has attributes which correspond to the option names listed in the online guide to modflow\n",
    "\n",
    "The user can call and edit the options within the option block"
   ]
  },
  {
   "cell_type": "code",
   "execution_count": null,
   "metadata": {
    "execution": {
     "iopub.execute_input": "2023-05-02T02:56:59.669224Z",
     "iopub.status.busy": "2023-05-02T02:56:59.668864Z",
     "iopub.status.idle": "2023-05-02T02:56:59.675114Z",
     "shell.execute_reply": "2023-05-02T02:56:59.673564Z"
    }
   },
   "outputs": [],
   "source": [
    "print(uzf.options.nosurfleak)\n",
    "print(uzf.options.savefinf)"
   ]
  },
  {
   "cell_type": "code",
   "execution_count": null,
   "metadata": {
    "execution": {
     "iopub.execute_input": "2023-05-02T02:56:59.679615Z",
     "iopub.status.busy": "2023-05-02T02:56:59.678589Z",
     "iopub.status.idle": "2023-05-02T02:56:59.688480Z",
     "shell.execute_reply": "2023-05-02T02:56:59.686840Z"
    }
   },
   "outputs": [],
   "source": [
    "uzf.options.etsquare = False\n",
    "uzf.options"
   ]
  },
  {
   "cell_type": "code",
   "execution_count": null,
   "metadata": {
    "execution": {
     "iopub.execute_input": "2023-05-02T02:56:59.693649Z",
     "iopub.status.busy": "2023-05-02T02:56:59.692712Z",
     "iopub.status.idle": "2023-05-02T02:56:59.701428Z",
     "shell.execute_reply": "2023-05-02T02:56:59.699602Z"
    }
   },
   "outputs": [],
   "source": [
    "uzf.options.etsquare = True\n",
    "uzf.options"
   ]
  },
  {
   "cell_type": "markdown",
   "metadata": {},
   "source": [
    "### The user can also see the single line representation of the options"
   ]
  },
  {
   "cell_type": "code",
   "execution_count": null,
   "metadata": {
    "execution": {
     "iopub.execute_input": "2023-05-02T02:56:59.706078Z",
     "iopub.status.busy": "2023-05-02T02:56:59.705075Z",
     "iopub.status.idle": "2023-05-02T02:56:59.713372Z",
     "shell.execute_reply": "2023-05-02T02:56:59.712071Z"
    }
   },
   "outputs": [],
   "source": [
    "uzf.options.single_line_options"
   ]
  },
  {
   "cell_type": "markdown",
   "metadata": {},
   "source": [
    "### And the user can easily change to single line options writing"
   ]
  },
  {
   "cell_type": "code",
   "execution_count": null,
   "metadata": {
    "execution": {
     "iopub.execute_input": "2023-05-02T02:56:59.717405Z",
     "iopub.status.busy": "2023-05-02T02:56:59.716726Z",
     "iopub.status.idle": "2023-05-02T02:56:59.762526Z",
     "shell.execute_reply": "2023-05-02T02:56:59.761156Z"
    }
   },
   "outputs": [],
   "source": [
    "uzf.options.block = False\n",
    "\n",
    "# write out only the uzf file\n",
    "uzf_name = \"uzf_opt.uzf\"\n",
    "uzf.write_file(os.path.join(model_ws, uzf_name))"
   ]
  },
  {
   "cell_type": "markdown",
   "metadata": {},
   "source": [
    "Now let's examine the first few lines of the new UZF file"
   ]
  },
  {
   "cell_type": "code",
   "execution_count": null,
   "metadata": {
    "execution": {
     "iopub.execute_input": "2023-05-02T02:56:59.767093Z",
     "iopub.status.busy": "2023-05-02T02:56:59.766063Z",
     "iopub.status.idle": "2023-05-02T02:56:59.777210Z",
     "shell.execute_reply": "2023-05-02T02:56:59.776200Z"
    }
   },
   "outputs": [],
   "source": [
    "f = open(os.path.join(model_ws, uzf_name))\n",
    "for ix, line in enumerate(f):\n",
    "    if ix == 3:\n",
    "        break\n",
    "    else:\n",
    "        print(line)"
   ]
  },
  {
   "cell_type": "markdown",
   "metadata": {},
   "source": [
    "And let's load the new UZF file"
   ]
  },
  {
   "cell_type": "code",
   "execution_count": null,
   "metadata": {
    "execution": {
     "iopub.execute_input": "2023-05-02T02:56:59.781704Z",
     "iopub.status.busy": "2023-05-02T02:56:59.780787Z",
     "iopub.status.idle": "2023-05-02T02:56:59.796056Z",
     "shell.execute_reply": "2023-05-02T02:56:59.794540Z"
    }
   },
   "outputs": [],
   "source": [
    "uzf2 = flopy.modflow.ModflowUzf1.load(\n",
    "    os.path.join(model_ws, uzf_name), ml, check=False\n",
    ")"
   ]
  },
  {
   "cell_type": "markdown",
   "metadata": {},
   "source": [
    "### Now we can look at the options object, and check if it's block or line format\n",
    "\n",
    "`block=False` indicates that options will be written as line format"
   ]
  },
  {
   "cell_type": "code",
   "execution_count": null,
   "metadata": {
    "execution": {
     "iopub.execute_input": "2023-05-02T02:56:59.799985Z",
     "iopub.status.busy": "2023-05-02T02:56:59.799281Z",
     "iopub.status.idle": "2023-05-02T02:56:59.805721Z",
     "shell.execute_reply": "2023-05-02T02:56:59.804113Z"
    }
   },
   "outputs": [],
   "source": [
    "print(uzf2.options)\n",
    "print(uzf2.options.block)"
   ]
  },
  {
   "cell_type": "markdown",
   "metadata": {},
   "source": [
    "### Finally we can convert back to block format"
   ]
  },
  {
   "cell_type": "code",
   "execution_count": null,
   "metadata": {
    "execution": {
     "iopub.execute_input": "2023-05-02T02:56:59.810608Z",
     "iopub.status.busy": "2023-05-02T02:56:59.809633Z",
     "iopub.status.idle": "2023-05-02T02:56:59.881161Z",
     "shell.execute_reply": "2023-05-02T02:56:59.879590Z"
    }
   },
   "outputs": [],
   "source": [
    "uzf2.options.block = True\n",
    "uzf2.write_file(os.path.join(model_ws, uzf_name))\n",
    "ml.remove_package(\"UZF\")\n",
    "\n",
    "uzf3 = flopy.modflow.ModflowUzf1.load(\n",
    "    os.path.join(model_ws, uzf_name), ml, check=False\n",
    ")\n",
    "print(\"\\n\")\n",
    "print(uzf3.options)\n",
    "print(uzf3.options.block)"
   ]
  },
  {
   "cell_type": "markdown",
   "metadata": {},
   "source": [
    "## We can also look at the WEL object "
   ]
  },
  {
   "cell_type": "code",
   "execution_count": null,
   "metadata": {
    "execution": {
     "iopub.execute_input": "2023-05-02T02:56:59.885964Z",
     "iopub.status.busy": "2023-05-02T02:56:59.885056Z",
     "iopub.status.idle": "2023-05-02T02:56:59.893068Z",
     "shell.execute_reply": "2023-05-02T02:56:59.891614Z"
    }
   },
   "outputs": [],
   "source": [
    "wel = ml.get_package(\"WEL\")\n",
    "wel.options"
   ]
  },
  {
   "cell_type": "markdown",
   "metadata": {},
   "source": [
    "Let's write this out as a single line option block and examine the first few lines"
   ]
  },
  {
   "cell_type": "code",
   "execution_count": null,
   "metadata": {
    "execution": {
     "iopub.execute_input": "2023-05-02T02:56:59.897422Z",
     "iopub.status.busy": "2023-05-02T02:56:59.896479Z",
     "iopub.status.idle": "2023-05-02T02:56:59.925020Z",
     "shell.execute_reply": "2023-05-02T02:56:59.923538Z"
    }
   },
   "outputs": [],
   "source": [
    "wel_name = \"wel_opt.wel\"\n",
    "wel.options.block = False\n",
    "\n",
    "wel.write_file(os.path.join(model_ws, wel_name))\n",
    "\n",
    "\n",
    "f = open(os.path.join(model_ws, wel_name))\n",
    "for ix, line in enumerate(f):\n",
    "    if ix == 4:\n",
    "        break\n",
    "    else:\n",
    "        print(line)"
   ]
  },
  {
   "cell_type": "markdown",
   "metadata": {},
   "source": [
    "And we can load the new single line options WEL file and confirm that it is being read as an option line"
   ]
  },
  {
   "cell_type": "code",
   "execution_count": null,
   "metadata": {
    "execution": {
     "iopub.execute_input": "2023-05-02T02:56:59.929193Z",
     "iopub.status.busy": "2023-05-02T02:56:59.928266Z",
     "iopub.status.idle": "2023-05-02T02:56:59.937463Z",
     "shell.execute_reply": "2023-05-02T02:56:59.936088Z"
    }
   },
   "outputs": [],
   "source": [
    "ml.remove_package(\"WEL\")\n",
    "wel2 = flopy.modflow.ModflowWel.load(\n",
    "    os.path.join(model_ws, wel_name), ml, nper=ml.nper, check=False\n",
    ")\n",
    "\n",
    "wel2.options\n",
    "wel2.options.block"
   ]
  },
  {
   "cell_type": "markdown",
   "metadata": {},
   "source": [
    "# Building an OptionBlock from scratch\n",
    "\n",
    "The user can also build an `OptionBlock` object from scratch to add to a `ModflowSfr2`, `ModflowUzf1`, or `ModflowWel` file.\n",
    "\n",
    "The `OptionBlock` class has two required parameters and one optional parameter\n",
    "\n",
    "`option_line`: a one line, string based representation of the options\n",
    "\n",
    "`package`: a modflow package object\n",
    "\n",
    "`block`: boolean flag for line based or block based options"
   ]
  },
  {
   "cell_type": "code",
   "execution_count": null,
   "metadata": {
    "execution": {
     "iopub.execute_input": "2023-05-02T02:56:59.940773Z",
     "iopub.status.busy": "2023-05-02T02:56:59.940430Z",
     "iopub.status.idle": "2023-05-02T02:56:59.948876Z",
     "shell.execute_reply": "2023-05-02T02:56:59.947336Z"
    }
   },
   "outputs": [],
   "source": [
    "opt_line = \"specify 0.1 20\"\n",
    "options = OptionBlock(opt_line, flopy.modflow.ModflowWel, block=True)\n",
    "options"
   ]
  },
  {
   "cell_type": "markdown",
   "metadata": {},
   "source": [
    "from here we can set the noprint flag by using `options.noprint`"
   ]
  },
  {
   "cell_type": "code",
   "execution_count": null,
   "metadata": {
    "execution": {
     "iopub.execute_input": "2023-05-02T02:56:59.953330Z",
     "iopub.status.busy": "2023-05-02T02:56:59.952355Z",
     "iopub.status.idle": "2023-05-02T02:56:59.957775Z",
     "shell.execute_reply": "2023-05-02T02:56:59.956322Z"
    }
   },
   "outputs": [],
   "source": [
    "options.noprint = True"
   ]
  },
  {
   "cell_type": "markdown",
   "metadata": {},
   "source": [
    "and the user can also add auxillary variables by using `options.auxillary`"
   ]
  },
  {
   "cell_type": "code",
   "execution_count": null,
   "metadata": {
    "execution": {
     "iopub.execute_input": "2023-05-02T02:56:59.961315Z",
     "iopub.status.busy": "2023-05-02T02:56:59.960945Z",
     "iopub.status.idle": "2023-05-02T02:56:59.965905Z",
     "shell.execute_reply": "2023-05-02T02:56:59.964489Z"
    }
   },
   "outputs": [],
   "source": [
    "options.auxillary = [\"aux\", \"iface\"]"
   ]
  },
  {
   "cell_type": "markdown",
   "metadata": {},
   "source": [
    "### Now we can create a new wel file using this `OptionBlock`\n",
    "\n",
    "and write it to output"
   ]
  },
  {
   "cell_type": "code",
   "execution_count": null,
   "metadata": {
    "execution": {
     "iopub.execute_input": "2023-05-02T02:56:59.970070Z",
     "iopub.status.busy": "2023-05-02T02:56:59.969118Z",
     "iopub.status.idle": "2023-05-02T02:56:59.976041Z",
     "shell.execute_reply": "2023-05-02T02:56:59.974635Z"
    }
   },
   "outputs": [],
   "source": [
    "wel3 = flopy.modflow.ModflowWel(\n",
    "    ml,\n",
    "    stress_period_data=wel.stress_period_data,\n",
    "    options=options,\n",
    "    unitnumber=99,\n",
    ")\n",
    "\n",
    "wel3.write_file(os.path.join(model_ws, wel_name))"
   ]
  },
  {
   "cell_type": "markdown",
   "metadata": {},
   "source": [
    "And now let's examine the first few lines of the file"
   ]
  },
  {
   "cell_type": "code",
   "execution_count": null,
   "metadata": {
    "execution": {
     "iopub.execute_input": "2023-05-02T02:56:59.980008Z",
     "iopub.status.busy": "2023-05-02T02:56:59.979343Z",
     "iopub.status.idle": "2023-05-02T02:56:59.986085Z",
     "shell.execute_reply": "2023-05-02T02:56:59.984913Z"
    }
   },
   "outputs": [],
   "source": [
    "f = open(os.path.join(model_ws, wel_name))\n",
    "for ix, line in enumerate(f):\n",
    "    if ix == 8:\n",
    "        break\n",
    "    else:\n",
    "        print(line)"
   ]
  },
  {
   "cell_type": "markdown",
   "metadata": {},
   "source": [
    "We can see that everything that the OptionBlock class writes out options in the correct location."
   ]
  },
  {
   "cell_type": "markdown",
   "metadata": {},
   "source": [
    "### The user can also switch the options over to option line style and write out the output too!"
   ]
  },
  {
   "cell_type": "code",
   "execution_count": null,
   "metadata": {
    "execution": {
     "iopub.execute_input": "2023-05-02T02:56:59.990323Z",
     "iopub.status.busy": "2023-05-02T02:56:59.989932Z",
     "iopub.status.idle": "2023-05-02T02:57:00.001202Z",
     "shell.execute_reply": "2023-05-02T02:56:59.999656Z"
    }
   },
   "outputs": [],
   "source": [
    "wel3.options.block = False\n",
    "wel3.write_file(os.path.join(model_ws, wel_name))\n",
    "\n",
    "f = open(os.path.join(model_ws, wel_name))\n",
    "for ix, line in enumerate(f):\n",
    "    if ix == 6:\n",
    "        break\n",
    "    else:\n",
    "        print(line)"
   ]
  },
  {
   "cell_type": "code",
   "execution_count": null,
   "metadata": {
    "execution": {
     "iopub.execute_input": "2023-05-02T02:57:00.004570Z",
     "iopub.status.busy": "2023-05-02T02:57:00.004222Z",
     "iopub.status.idle": "2023-05-02T02:57:00.026821Z",
     "shell.execute_reply": "2023-05-02T02:57:00.025280Z"
    }
   },
   "outputs": [],
   "source": [
    "try:\n",
    "    # ignore PermissionError on Windows\n",
    "    temp_dir.cleanup()\n",
    "except:\n",
    "    pass"
   ]
  }
 ],
 "metadata": {
  "kernelspec": {
   "display_name": "Python 3 (ipykernel)",
   "language": "python",
   "name": "python3"
  },
  "language_info": {
   "codemirror_mode": {
    "name": "ipython",
    "version": 3
   },
   "file_extension": ".py",
   "mimetype": "text/x-python",
   "name": "python",
   "nbconvert_exporter": "python",
   "pygments_lexer": "ipython3",
   "version": "3.11.0"
  }
 },
 "nbformat": 4,
 "nbformat_minor": 4
}
