{
 "cells": [
  {
   "cell_type": "markdown",
   "metadata": {},
   "source": [
    "# Intersecting rasters with modelgrids using FloPy's Raster class\n",
    "\n",
    "A Raster class was developed as a wrapper that leverages RasterIO, RasterStats, and SciPy built in methods for easy raster intersections and cropping. \n",
    "\n",
    "This notebook will show some of the basic functionality of the `Raster` class with structured and unstructured model grid examples.\n",
    "\n",
    "The `Raster` class accepts Tiff and GeoTiff, ASCII Grid (ESRI ASCII), and Erdas Imagine .img files. \n",
    "\n",
    "Ideally this can be used to easily snap DEM rasters, PET, PPT, recharge and other rasters to a modflow grid for further processing and/or to apply as fluxes and boundary conditions to a MODFLOW model"
   ]
  },
  {
   "cell_type": "code",
   "execution_count": null,
   "metadata": {
    "execution": {
     "iopub.execute_input": "2023-02-22T02:42:55.694894Z",
     "iopub.status.busy": "2023-02-22T02:42:55.694359Z",
     "iopub.status.idle": "2023-02-22T02:42:56.672167Z",
     "shell.execute_reply": "2023-02-22T02:42:56.671079Z"
    }
   },
   "outputs": [],
   "source": [
    "import os\n",
    "import sys\n",
    "import time\n",
    "from tempfile import TemporaryDirectory\n",
    "\n",
    "import pandas as pd\n",
    "import matplotlib as mpl\n",
    "import matplotlib.pyplot as plt\n",
    "import numpy as np\n",
    "import shapely\n",
    "import shapefile\n",
    "\n",
    "try:\n",
    "    import flopy\n",
    "    from flopy.utils import Raster\n",
    "except:\n",
    "    fpth = os.path.abspath(os.path.join(\"..\", \"..\"))\n",
    "    sys.path.append(fpth)\n",
    "    import flopy\n",
    "    from flopy.utils import Raster\n",
    "\n",
    "print(sys.version)\n",
    "print(\"numpy version: {}\".format(np.__version__))\n",
    "print(\"matplotlib version: {}\".format(mpl.__version__))\n",
    "print(\"pandas version: {}\".format(pd.__version__))\n",
    "print(\"shapely version: {}\".format(shapely.__version__))\n",
    "print(\"flopy version: {}\".format(flopy.__version__))"
   ]
  },
  {
   "cell_type": "code",
   "execution_count": null,
   "metadata": {
    "execution": {
     "iopub.execute_input": "2023-02-22T02:42:56.735169Z",
     "iopub.status.busy": "2023-02-22T02:42:56.734256Z",
     "iopub.status.idle": "2023-02-22T02:42:56.740578Z",
     "shell.execute_reply": "2023-02-22T02:42:56.739556Z"
    }
   },
   "outputs": [],
   "source": [
    "# temporary directory\n",
    "temp_dir = TemporaryDirectory()\n",
    "workspace = temp_dir.name"
   ]
  },
  {
   "cell_type": "markdown",
   "metadata": {},
   "source": [
    "### Raster files can be loaded using the `Raster.load` method"
   ]
  },
  {
   "cell_type": "code",
   "execution_count": null,
   "metadata": {
    "execution": {
     "iopub.execute_input": "2023-02-22T02:42:56.745220Z",
     "iopub.status.busy": "2023-02-22T02:42:56.744595Z",
     "iopub.status.idle": "2023-02-22T02:42:56.881741Z",
     "shell.execute_reply": "2023-02-22T02:42:56.880623Z"
    }
   },
   "outputs": [],
   "source": [
    "raster_ws = os.path.join(\"..\", \"..\", \"examples\", \"data\", \"options\", \"dem\")\n",
    "raster_name = \"dem.img\"\n",
    "\n",
    "rio = Raster.load(os.path.join(raster_ws, raster_name))"
   ]
  },
  {
   "cell_type": "markdown",
   "metadata": {},
   "source": [
    "The bands within the raster can be viewed by calling the parameter `bands`; there is only one band in this raster"
   ]
  },
  {
   "cell_type": "code",
   "execution_count": null,
   "metadata": {
    "execution": {
     "iopub.execute_input": "2023-02-22T02:42:56.888278Z",
     "iopub.status.busy": "2023-02-22T02:42:56.887680Z",
     "iopub.status.idle": "2023-02-22T02:42:56.897019Z",
     "shell.execute_reply": "2023-02-22T02:42:56.895948Z"
    }
   },
   "outputs": [],
   "source": [
    "rio.bands"
   ]
  },
  {
   "cell_type": "code",
   "execution_count": null,
   "metadata": {
    "execution": {
     "iopub.execute_input": "2023-02-22T02:42:56.906506Z",
     "iopub.status.busy": "2023-02-22T02:42:56.905412Z",
     "iopub.status.idle": "2023-02-22T02:42:56.927658Z",
     "shell.execute_reply": "2023-02-22T02:42:56.926617Z"
    }
   },
   "outputs": [],
   "source": [
    "arr = rio.get_array(1)\n",
    "idx = np.isfinite(arr)\n",
    "\n",
    "vmin, vmax = arr[idx].min(), arr[idx].max()\n",
    "vmin, vmax"
   ]
  },
  {
   "cell_type": "markdown",
   "metadata": {},
   "source": [
    "Using the built in `.plot` method, we can take a look at the DEM raster data before we start manipulating it"
   ]
  },
  {
   "cell_type": "code",
   "execution_count": null,
   "metadata": {
    "execution": {
     "iopub.execute_input": "2023-02-22T02:42:56.932012Z",
     "iopub.status.busy": "2023-02-22T02:42:56.931557Z",
     "iopub.status.idle": "2023-02-22T02:42:57.714852Z",
     "shell.execute_reply": "2023-02-22T02:42:57.713564Z"
    }
   },
   "outputs": [],
   "source": [
    "fig = plt.figure(figsize=(12, 12))\n",
    "ax = fig.add_subplot(1, 1, 1, aspect=\"equal\")\n",
    "\n",
    "ax = rio.plot(ax=ax, vmin=vmin, vmax=vmax)\n",
    "plt.colorbar(ax.images[0], shrink=0.7);"
   ]
  },
  {
   "cell_type": "markdown",
   "metadata": {},
   "source": [
    "## Intersecting and resampling a data using the FloPy ModelGrid\n",
    "\n",
    "### Structured Grid Example\n",
    "\n",
    "The structured grid example uses the DIS file from the GSFLOW Sagehen example problem to create a modelgrid"
   ]
  },
  {
   "cell_type": "code",
   "execution_count": null,
   "metadata": {
    "execution": {
     "iopub.execute_input": "2023-02-22T02:42:57.721246Z",
     "iopub.status.busy": "2023-02-22T02:42:57.720453Z",
     "iopub.status.idle": "2023-02-22T02:42:57.820922Z",
     "shell.execute_reply": "2023-02-22T02:42:57.819914Z"
    }
   },
   "outputs": [],
   "source": [
    "model_ws = os.path.join(\"..\", \"data\", \"options\", \"sagehen\")\n",
    "ml = flopy.modflow.Modflow.load(\n",
    "    \"sagehen.nam\", version=\"mfnwt\", model_ws=model_ws\n",
    ")\n",
    "\n",
    "xoff = 214110\n",
    "yoff = 4366620\n",
    "ml.modelgrid.set_coord_info(xoff=xoff, yoff=yoff)"
   ]
  },
  {
   "cell_type": "code",
   "execution_count": null,
   "metadata": {
    "execution": {
     "iopub.execute_input": "2023-02-22T02:42:57.828011Z",
     "iopub.status.busy": "2023-02-22T02:42:57.827145Z",
     "iopub.status.idle": "2023-02-22T02:42:58.573367Z",
     "shell.execute_reply": "2023-02-22T02:42:58.571523Z"
    }
   },
   "outputs": [],
   "source": [
    "fig = plt.figure(figsize=(12, 12))\n",
    "ax = fig.add_subplot(1, 1, 1, aspect=\"equal\")\n",
    "\n",
    "ax = rio.plot(ax=ax, vmin=vmin, vmax=vmax)\n",
    "plt.colorbar(ax.images[0], shrink=0.7)\n",
    "pmv = flopy.plot.PlotMapView(modelgrid=ml.modelgrid)\n",
    "pmv.plot_grid(ax=ax, lw=0.5, color=\"black\");"
   ]
  },
  {
   "cell_type": "markdown",
   "metadata": {},
   "source": [
    "Once a modelgrid has been loaded, the `resample_to_grid()` method can be used to re-sample the data to an array consistent with the model grid.  \n",
    "\n",
    "Inputs to `resample_to_grid()` include:\n",
    "\n",
    "+ `modelgrid` : flopy `Grid` object \n",
    "+ `band` : raster band to resample  \n",
    "+ `method` : resampling method, options include:  \n",
    "    - `\"nearest\"` for nearest neighbor   \n",
    "    - `\"linear\"` for bilinear sampling  \n",
    "    - `\"cubic\"` for bicubic sampling  \n",
    "    - `\"mean\"` for mean value sampling\n",
    "    - `\"median\"` for median value sampling\n",
    "    - `\"min\"` for minimum value sampling\n",
    "    - `\"max\"` for maximum value sampling\n",
    "    - `\"mode\"` for most often (dominant) sampling\n",
    "+ `extrapolate_edges` : boolean flag to extrapolate edges using the `\"nearest\"` resampling method. For all of the sampling methods except `\"nearest\"`, interpolation is only performed in areas bounded by data; nodata values are returned in areas without data. This option has no effect when the `\"nearest\"` interpolation method is used.\n",
    "    \n",
    "**Note:** Bottlenecks in sampling time depend on the resampling method used:\n",
    "+ `\"nearest\"`, `\"linear\"`, and `\"cubic\"` bottlenecks are due to raster resolution. \n",
    "+ `\"mean\"`, `\"median\"`, `\"min\"`, `\"max\"`, and `\"mode\"` are a function of the number of grid cells. "
   ]
  },
  {
   "cell_type": "code",
   "execution_count": null,
   "metadata": {
    "execution": {
     "iopub.execute_input": "2023-02-22T02:42:58.582215Z",
     "iopub.status.busy": "2023-02-22T02:42:58.580765Z",
     "iopub.status.idle": "2023-02-22T02:42:59.255649Z",
     "shell.execute_reply": "2023-02-22T02:42:59.254444Z"
    }
   },
   "outputs": [],
   "source": [
    "t0 = time.time()\n",
    "dem_data = rio.resample_to_grid(\n",
    "    ml.modelgrid, band=rio.bands[0], method=\"nearest\"\n",
    ")\n",
    "resample_time = time.time() - t0"
   ]
  },
  {
   "cell_type": "code",
   "execution_count": null,
   "metadata": {
    "execution": {
     "iopub.execute_input": "2023-02-22T02:42:59.260528Z",
     "iopub.status.busy": "2023-02-22T02:42:59.260166Z",
     "iopub.status.idle": "2023-02-22T02:42:59.640745Z",
     "shell.execute_reply": "2023-02-22T02:42:59.639790Z"
    }
   },
   "outputs": [],
   "source": [
    "# now to visualize using flopy and matplotlib\n",
    "fig = plt.figure(figsize=(12, 12))\n",
    "ax = fig.add_subplot(1, 1, 1, aspect=\"equal\")\n",
    "\n",
    "pmv = flopy.plot.PlotMapView(modelgrid=ml.modelgrid, ax=ax)\n",
    "ax = pmv.plot_array(\n",
    "    dem_data, masked_values=rio.nodatavals, vmin=vmin, vmax=vmax\n",
    ")\n",
    "plt.title(\"Resample time, nearest neighbor: {:.3f} sec\".format(resample_time))\n",
    "plt.colorbar(ax, shrink=0.7);"
   ]
  },
  {
   "cell_type": "code",
   "execution_count": null,
   "metadata": {
    "execution": {
     "iopub.execute_input": "2023-02-22T02:42:59.645110Z",
     "iopub.status.busy": "2023-02-22T02:42:59.644491Z",
     "iopub.status.idle": "2023-02-22T02:43:15.895789Z",
     "shell.execute_reply": "2023-02-22T02:43:15.894949Z"
    }
   },
   "outputs": [],
   "source": [
    "t0 = time.time()\n",
    "dem_data = rio.resample_to_grid(\n",
    "    ml.modelgrid, band=rio.bands[0], method=\"linear\", extrapolate_edges=True\n",
    ")\n",
    "resample_time = time.time() - t0"
   ]
  },
  {
   "cell_type": "code",
   "execution_count": null,
   "metadata": {
    "execution": {
     "iopub.execute_input": "2023-02-22T02:43:15.901859Z",
     "iopub.status.busy": "2023-02-22T02:43:15.901262Z",
     "iopub.status.idle": "2023-02-22T02:43:16.270664Z",
     "shell.execute_reply": "2023-02-22T02:43:16.269899Z"
    }
   },
   "outputs": [],
   "source": [
    "# now to visualize using flopy and matplotlib\n",
    "fig = plt.figure(figsize=(12, 12))\n",
    "ax = fig.add_subplot(1, 1, 1, aspect=\"equal\")\n",
    "\n",
    "pmv = flopy.plot.PlotMapView(modelgrid=ml.modelgrid, ax=ax)\n",
    "ax = pmv.plot_array(\n",
    "    dem_data, masked_values=rio.nodatavals, vmin=vmin, vmax=vmax\n",
    ")\n",
    "plt.title(\"Resample time, bi-linear: {:.3f} sec\".format(resample_time))\n",
    "plt.colorbar(ax, shrink=0.7);"
   ]
  },
  {
   "cell_type": "code",
   "execution_count": null,
   "metadata": {
    "execution": {
     "iopub.execute_input": "2023-02-22T02:43:16.276086Z",
     "iopub.status.busy": "2023-02-22T02:43:16.275677Z",
     "iopub.status.idle": "2023-02-22T02:43:34.487083Z",
     "shell.execute_reply": "2023-02-22T02:43:34.486445Z"
    }
   },
   "outputs": [],
   "source": [
    "t0 = time.time()\n",
    "dem_data = rio.resample_to_grid(\n",
    "    ml.modelgrid, band=rio.bands[0], method=\"cubic\", extrapolate_edges=True\n",
    ")\n",
    "resample_time = time.time() - t0"
   ]
  },
  {
   "cell_type": "code",
   "execution_count": null,
   "metadata": {
    "execution": {
     "iopub.execute_input": "2023-02-22T02:43:34.497651Z",
     "iopub.status.busy": "2023-02-22T02:43:34.497313Z",
     "iopub.status.idle": "2023-02-22T02:43:34.794880Z",
     "shell.execute_reply": "2023-02-22T02:43:34.794241Z"
    }
   },
   "outputs": [],
   "source": [
    "# now to visualize using flopy and matplotlib\n",
    "fig = plt.figure(figsize=(12, 12))\n",
    "ax = fig.add_subplot(1, 1, 1, aspect=\"equal\")\n",
    "\n",
    "pmv = flopy.plot.PlotMapView(modelgrid=ml.modelgrid, ax=ax)\n",
    "ax = pmv.plot_array(\n",
    "    dem_data, masked_values=rio.nodatavals, vmin=vmin, vmax=vmax\n",
    ")\n",
    "plt.title(\"Resample time, bi-cubic: {:.3f} sec\".format(resample_time))\n",
    "plt.colorbar(ax, shrink=0.7);"
   ]
  },
  {
   "cell_type": "code",
   "execution_count": null,
   "metadata": {
    "execution": {
     "iopub.execute_input": "2023-02-22T02:43:34.798359Z",
     "iopub.status.busy": "2023-02-22T02:43:34.797887Z",
     "iopub.status.idle": "2023-02-22T02:43:43.998370Z",
     "shell.execute_reply": "2023-02-22T02:43:43.997606Z"
    }
   },
   "outputs": [],
   "source": [
    "t0 = time.time()\n",
    "dem_data = rio.resample_to_grid(\n",
    "    ml.modelgrid,\n",
    "    band=rio.bands[0],\n",
    "    method=\"median\",\n",
    "    extrapolate_edges=True,\n",
    ")\n",
    "resample_time = time.time() - t0"
   ]
  },
  {
   "cell_type": "code",
   "execution_count": null,
   "metadata": {
    "execution": {
     "iopub.execute_input": "2023-02-22T02:43:44.003171Z",
     "iopub.status.busy": "2023-02-22T02:43:44.002601Z",
     "iopub.status.idle": "2023-02-22T02:43:44.293773Z",
     "shell.execute_reply": "2023-02-22T02:43:44.293011Z"
    }
   },
   "outputs": [],
   "source": [
    "# now to visualize using flopy and matplotlib\n",
    "fig = plt.figure(figsize=(12, 12))\n",
    "ax = fig.add_subplot(1, 1, 1, aspect=\"equal\")\n",
    "\n",
    "pmv = flopy.plot.PlotMapView(modelgrid=ml.modelgrid, ax=ax)\n",
    "ax = pmv.plot_array(\n",
    "    dem_data, masked_values=rio.nodatavals, vmin=vmin, vmax=vmax\n",
    ")\n",
    "plt.title(\"Resample time, median: {:.3f} sec\".format(resample_time))\n",
    "plt.colorbar(ax, shrink=0.7);"
   ]
  },
  {
   "cell_type": "markdown",
   "metadata": {},
   "source": [
    "## Vertex and Unstructured grid example\n",
    "\n",
    "The user can also use either a vertex grid or an unstructured grid and resample raster data to it using the same `resample_to_grid()` method\n",
    "\n",
    "Here is an example of building a triangular mesh and creating an unstructured grid instance to use for Raster resampling"
   ]
  },
  {
   "cell_type": "code",
   "execution_count": null,
   "metadata": {
    "execution": {
     "iopub.execute_input": "2023-02-22T02:43:44.313148Z",
     "iopub.status.busy": "2023-02-22T02:43:44.312832Z",
     "iopub.status.idle": "2023-02-22T02:43:44.379187Z",
     "shell.execute_reply": "2023-02-22T02:43:44.378319Z"
    }
   },
   "outputs": [],
   "source": [
    "from flopy.utils.triangle import Triangle\n",
    "\n",
    "maximum_area = 30000.0  # 30000.\n",
    "\n",
    "extent = rio.bounds\n",
    "domainpoly = [\n",
    "    (extent[0], extent[2]),\n",
    "    (extent[1], extent[2]),\n",
    "    (extent[1], extent[3]),\n",
    "    (extent[0], extent[3]),\n",
    "]\n",
    "\n",
    "tri = Triangle(maximum_area=maximum_area, angle=30, model_ws=workspace)\n",
    "\n",
    "tri.add_polygon(domainpoly)\n",
    "tri.build(verbose=False)\n",
    "xc, yc = tri.get_xcyc().T\n",
    "verts = [[iv, x, y] for iv, (x, y) in enumerate(tri.verts)]\n",
    "iverts = tri.iverts\n",
    "ncpl = np.array([len(iverts)])\n",
    "\n",
    "mg_unstruct = flopy.discretization.UnstructuredGrid(\n",
    "    vertices=verts, iverts=iverts, ncpl=ncpl, xcenters=xc, ycenters=yc\n",
    ")"
   ]
  },
  {
   "cell_type": "code",
   "execution_count": null,
   "metadata": {
    "execution": {
     "iopub.execute_input": "2023-02-22T02:43:44.383648Z",
     "iopub.status.busy": "2023-02-22T02:43:44.383049Z",
     "iopub.status.idle": "2023-02-22T02:43:44.989430Z",
     "shell.execute_reply": "2023-02-22T02:43:44.988182Z"
    }
   },
   "outputs": [],
   "source": [
    "# now to visualize using matplotlib\n",
    "fig = plt.figure(figsize=(12, 12))\n",
    "ax = fig.add_subplot(1, 1, 1, aspect=\"equal\")\n",
    "\n",
    "pmv = flopy.plot.PlotMapView(modelgrid=mg_unstruct, ax=ax)\n",
    "pmv.plot_grid();"
   ]
  },
  {
   "cell_type": "markdown",
   "metadata": {},
   "source": [
    "Once a grid object is created, the raster can be resampled to the grid using the same `resample_to_grid()` method as the structured grid example"
   ]
  },
  {
   "cell_type": "code",
   "execution_count": null,
   "metadata": {
    "execution": {
     "iopub.execute_input": "2023-02-22T02:43:44.998425Z",
     "iopub.status.busy": "2023-02-22T02:43:44.997538Z",
     "iopub.status.idle": "2023-02-22T02:43:45.212176Z",
     "shell.execute_reply": "2023-02-22T02:43:45.211161Z"
    }
   },
   "outputs": [],
   "source": [
    "t0 = time.time()\n",
    "dem_data = rio.resample_to_grid(\n",
    "    mg_unstruct, band=rio.bands[0], method=\"nearest\"\n",
    ")\n",
    "\n",
    "resample_time = time.time() - t0"
   ]
  },
  {
   "cell_type": "code",
   "execution_count": null,
   "metadata": {
    "execution": {
     "iopub.execute_input": "2023-02-22T02:43:45.216791Z",
     "iopub.status.busy": "2023-02-22T02:43:45.216373Z",
     "iopub.status.idle": "2023-02-22T02:43:45.780216Z",
     "shell.execute_reply": "2023-02-22T02:43:45.779427Z"
    }
   },
   "outputs": [],
   "source": [
    "# now to visualize using flopy and matplotlib\n",
    "fig = plt.figure(figsize=(12, 12))\n",
    "ax = fig.add_subplot(1, 1, 1, aspect=\"equal\")\n",
    "\n",
    "pmv = flopy.plot.PlotMapView(modelgrid=mg_unstruct, ax=ax)\n",
    "ax = pmv.plot_array(\n",
    "    dem_data,\n",
    "    masked_values=rio.nodatavals,\n",
    "    cmap=\"viridis\",\n",
    "    vmin=vmin,\n",
    "    vmax=vmax,\n",
    ")\n",
    "plt.title(\"Resample time, nearest neighbor: {:.3f} sec\".format(resample_time))\n",
    "plt.colorbar(ax, shrink=0.7);"
   ]
  },
  {
   "cell_type": "code",
   "execution_count": null,
   "metadata": {
    "execution": {
     "iopub.execute_input": "2023-02-22T02:43:45.786770Z",
     "iopub.status.busy": "2023-02-22T02:43:45.786409Z",
     "iopub.status.idle": "2023-02-22T02:43:58.417967Z",
     "shell.execute_reply": "2023-02-22T02:43:58.417046Z"
    }
   },
   "outputs": [],
   "source": [
    "t0 = time.time()\n",
    "dem_data = rio.resample_to_grid(\n",
    "    mg_unstruct, band=rio.bands[0], method=\"linear\"\n",
    ")\n",
    "\n",
    "resample_time = time.time() - t0"
   ]
  },
  {
   "cell_type": "code",
   "execution_count": null,
   "metadata": {
    "execution": {
     "iopub.execute_input": "2023-02-22T02:43:58.422004Z",
     "iopub.status.busy": "2023-02-22T02:43:58.421520Z",
     "iopub.status.idle": "2023-02-22T02:43:58.811027Z",
     "shell.execute_reply": "2023-02-22T02:43:58.809901Z"
    }
   },
   "outputs": [],
   "source": [
    "# now to visualize using flopy and matplotlib\n",
    "fig = plt.figure(figsize=(12, 12))\n",
    "ax = fig.add_subplot(1, 1, 1, aspect=\"equal\")\n",
    "\n",
    "pmv = flopy.plot.PlotMapView(modelgrid=mg_unstruct, ax=ax)\n",
    "ax = pmv.plot_array(\n",
    "    dem_data,\n",
    "    masked_values=rio.nodatavals,\n",
    "    cmap=\"viridis\",\n",
    "    vmin=vmin,\n",
    "    vmax=vmax,\n",
    ")\n",
    "plt.title(\"Resample time, bi-linear: {:.3f} sec\".format(resample_time))\n",
    "plt.colorbar(ax, shrink=0.7);"
   ]
  },
  {
   "cell_type": "code",
   "execution_count": null,
   "metadata": {
    "execution": {
     "iopub.execute_input": "2023-02-22T02:43:58.820005Z",
     "iopub.status.busy": "2023-02-22T02:43:58.819593Z",
     "iopub.status.idle": "2023-02-22T02:44:03.773774Z",
     "shell.execute_reply": "2023-02-22T02:44:03.772962Z"
    }
   },
   "outputs": [],
   "source": [
    "t0 = time.time()\n",
    "dem_data = rio.resample_to_grid(\n",
    "    mg_unstruct,\n",
    "    band=rio.bands[0],\n",
    "    method=\"median\",\n",
    ")\n",
    "\n",
    "resample_time = time.time() - t0"
   ]
  },
  {
   "cell_type": "code",
   "execution_count": null,
   "metadata": {
    "execution": {
     "iopub.execute_input": "2023-02-22T02:44:03.777667Z",
     "iopub.status.busy": "2023-02-22T02:44:03.777242Z",
     "iopub.status.idle": "2023-02-22T02:44:04.173359Z",
     "shell.execute_reply": "2023-02-22T02:44:04.172510Z"
    }
   },
   "outputs": [],
   "source": [
    "# now to visualize using flopy and matplotlib\n",
    "fig = plt.figure(figsize=(12, 12))\n",
    "ax = fig.add_subplot(1, 1, 1, aspect=\"equal\")\n",
    "\n",
    "pmv = flopy.plot.PlotMapView(modelgrid=mg_unstruct, ax=ax)\n",
    "ax = pmv.plot_array(\n",
    "    dem_data,\n",
    "    masked_values=rio.nodatavals,\n",
    "    cmap=\"viridis\",\n",
    "    vmin=vmin,\n",
    "    vmax=vmax,\n",
    ")\n",
    "plt.title(\"Resample time, median: {:.3f} sec\".format(resample_time))\n",
    "plt.colorbar(ax, shrink=0.7);"
   ]
  },
  {
   "cell_type": "markdown",
   "metadata": {},
   "source": [
    "__Note: bi-cubic sampling does not work well with triangular meshes and is not recommended for unstructured grids__"
   ]
  },
  {
   "cell_type": "markdown",
   "metadata": {},
   "source": [
    "# Sampling points, Cropping, and performing intersections using raster data\n",
    "\n",
    "The `Raster` class contains useful methods for sampling single points, cross sections, cropping and performing intersections.\n",
    "\n",
    "The `sample_point()` method can be used to sample a single raster value or to sample a cross section\n",
    "\n",
    "The `sample_polygon()` method can be used to sample all raster values within an arbitrary polygone\n",
    "\n",
    "The `crop()` method allows the user to crop the raster in-place. This method can also be used to perform intersections.\n",
    "\n",
    "The `crop()` and `sample_polygon()` methods apply a modified binary ray casting algorithm for extremely fast intersections. The raster data that's used for this example contains over 500,000 points. For each intersection every point must be segmented as inside or outside of an arbitratry polygon."
   ]
  },
  {
   "cell_type": "markdown",
   "metadata": {},
   "source": [
    "### Sampling points or a cross section from the raster\n",
    "\n",
    "The user can also sample from a points within the raster using the `sample_point()` method.\n",
    "\n",
    "This can be used to create simple cross sections of data, such as an elevation profile"
   ]
  },
  {
   "cell_type": "code",
   "execution_count": null,
   "metadata": {
    "execution": {
     "iopub.execute_input": "2023-02-22T02:44:04.181295Z",
     "iopub.status.busy": "2023-02-22T02:44:04.180651Z",
     "iopub.status.idle": "2023-02-22T02:44:05.135847Z",
     "shell.execute_reply": "2023-02-22T02:44:05.135108Z"
    }
   },
   "outputs": [],
   "source": [
    "d = {\"easting\": [], \"northing\": [], \"elevation\": []}\n",
    "\n",
    "for adj in range(1, 10000, 100):\n",
    "    easting = xoff + adj\n",
    "    northing = yoff + adj\n",
    "    val = rio.sample_point(xoff + adj, yoff + adj, band=1)\n",
    "    d[\"easting\"].append(easting)\n",
    "    d[\"northing\"].append(northing)\n",
    "    d[\"elevation\"].append(val)\n",
    "\n",
    "df = pd.DataFrame(d)"
   ]
  },
  {
   "cell_type": "code",
   "execution_count": null,
   "metadata": {
    "execution": {
     "iopub.execute_input": "2023-02-22T02:44:05.139515Z",
     "iopub.status.busy": "2023-02-22T02:44:05.139111Z",
     "iopub.status.idle": "2023-02-22T02:44:05.333182Z",
     "shell.execute_reply": "2023-02-22T02:44:05.332180Z"
    }
   },
   "outputs": [],
   "source": [
    "fig = plt.figure(figsize=(12, 12))\n",
    "ax = fig.add_subplot(1, 1, 1, aspect=\"equal\")\n",
    "\n",
    "ax.plot(df.easting.values, df.elevation.values, color=\"saddlebrown\")\n",
    "ax.set_ylabel(\"Meters elevation (ASL)\")\n",
    "ax.set_xlabel(\"Easting\")\n",
    "ax.set_title(\"Elevation profile\")\n",
    "\n",
    "df.head()"
   ]
  },
  {
   "cell_type": "markdown",
   "metadata": {},
   "source": [
    "### Sampling all points within a polygon in the raster\n",
    "\n",
    "The user can also sample all points within an arbitrary polygon within the raster using the `sample_polygon()` method.\n",
    "\n",
    "The `sample_polygon()` method returns an unordered array of raster values that can be used to perform statical analysis on a chunk of the raster data"
   ]
  },
  {
   "cell_type": "code",
   "execution_count": null,
   "metadata": {
    "execution": {
     "iopub.execute_input": "2023-02-22T02:44:05.337583Z",
     "iopub.status.busy": "2023-02-22T02:44:05.337190Z",
     "iopub.status.idle": "2023-02-22T02:44:05.342412Z",
     "shell.execute_reply": "2023-02-22T02:44:05.341324Z"
    }
   },
   "outputs": [],
   "source": [
    "x0, x1, y0, y1 = rio.bounds\n",
    "\n",
    "# let's create an a square to use for sampling and cropping\n",
    "x0 += 1000\n",
    "y0 += 1000\n",
    "x1 -= 1000\n",
    "y1 -= 1000\n",
    "\n",
    "shape = np.array([(x0, y0), (x0, y1), (x1, y1), (x1, y0), (x0, y0)])"
   ]
  },
  {
   "cell_type": "code",
   "execution_count": null,
   "metadata": {
    "execution": {
     "iopub.execute_input": "2023-02-22T02:44:05.346464Z",
     "iopub.status.busy": "2023-02-22T02:44:05.346132Z",
     "iopub.status.idle": "2023-02-22T02:44:05.812909Z",
     "shell.execute_reply": "2023-02-22T02:44:05.811823Z"
    }
   },
   "outputs": [],
   "source": [
    "fig = plt.figure(figsize=(12, 12))\n",
    "ax = fig.add_subplot(1, 1, 1, aspect=\"equal\")\n",
    "\n",
    "ax = rio.plot(ax=ax, vmin=vmin, vmax=vmax)\n",
    "ax.plot(shape.T[0], shape.T[1], \"r-\")\n",
    "plt.colorbar(ax.images[0], shrink=0.7);"
   ]
  },
  {
   "cell_type": "code",
   "execution_count": null,
   "metadata": {
    "execution": {
     "iopub.execute_input": "2023-02-22T02:44:05.817247Z",
     "iopub.status.busy": "2023-02-22T02:44:05.816907Z",
     "iopub.status.idle": "2023-02-22T02:44:05.860246Z",
     "shell.execute_reply": "2023-02-22T02:44:05.859460Z"
    }
   },
   "outputs": [],
   "source": [
    "data = rio.sample_polygon(shape, band=rio.bands[0])\n",
    "\n",
    "mean = np.mean(data)\n",
    "dmin = np.min(data)\n",
    "dmax = np.max(data)\n",
    "stdv = np.std(data)\n",
    "\n",
    "s = \"Minimum elevation: {:.2f}\\nMaximum elevation: {:.2f}\\nMean elevation: {:.2f}\\nStandard deviation: {:.2f}\"\n",
    "print(s.format(dmin, dmax, mean, stdv))"
   ]
  },
  {
   "cell_type": "markdown",
   "metadata": {},
   "source": [
    "### Cropping and resampling to a modelgrid\n",
    "\n",
    "The `crop()` method can accept a `list` or `np.array` of vertices, a shapely `Polygon` object, or a GeoJSON dictionary\n",
    "\n",
    "The crop can also be inverted, using `invert=True`"
   ]
  },
  {
   "cell_type": "code",
   "execution_count": null,
   "metadata": {
    "execution": {
     "iopub.execute_input": "2023-02-22T02:44:05.863762Z",
     "iopub.status.busy": "2023-02-22T02:44:05.863366Z",
     "iopub.status.idle": "2023-02-22T02:44:05.945945Z",
     "shell.execute_reply": "2023-02-22T02:44:05.945012Z"
    }
   },
   "outputs": [],
   "source": [
    "t0 = time.time()\n",
    "rio.crop(shape, invert=True)\n",
    "crop_time = time.time() - t0"
   ]
  },
  {
   "cell_type": "code",
   "execution_count": null,
   "metadata": {
    "execution": {
     "iopub.execute_input": "2023-02-22T02:44:05.950294Z",
     "iopub.status.busy": "2023-02-22T02:44:05.949728Z",
     "iopub.status.idle": "2023-02-22T02:44:06.428898Z",
     "shell.execute_reply": "2023-02-22T02:44:06.428013Z"
    }
   },
   "outputs": [],
   "source": [
    "fig = plt.figure(figsize=(12, 12))\n",
    "ax = fig.add_subplot(1, 1, 1, aspect=\"equal\")\n",
    "\n",
    "ax = rio.plot(ax=ax, vmin=vmin, vmax=vmax)\n",
    "ax.plot(shape.T[0], shape.T[1], \"r-\")\n",
    "plt.title(\"Cropping time: {:.3f} sec\".format(crop_time))\n",
    "plt.colorbar(ax.images[0], shrink=0.7);"
   ]
  },
  {
   "cell_type": "markdown",
   "metadata": {},
   "source": [
    "And then this can be re-sampled to a ModelGrid Object"
   ]
  },
  {
   "cell_type": "code",
   "execution_count": null,
   "metadata": {
    "execution": {
     "iopub.execute_input": "2023-02-22T02:44:06.432502Z",
     "iopub.status.busy": "2023-02-22T02:44:06.432152Z",
     "iopub.status.idle": "2023-02-22T02:44:06.610938Z",
     "shell.execute_reply": "2023-02-22T02:44:06.610309Z"
    }
   },
   "outputs": [],
   "source": [
    "t0 = time.time()\n",
    "dem_data = rio.resample_to_grid(\n",
    "    mg_unstruct, band=rio.bands[0], method=\"nearest\"\n",
    ")\n",
    "\n",
    "resample_time = time.time() - t0"
   ]
  },
  {
   "cell_type": "code",
   "execution_count": null,
   "metadata": {
    "execution": {
     "iopub.execute_input": "2023-02-22T02:44:06.614621Z",
     "iopub.status.busy": "2023-02-22T02:44:06.614270Z",
     "iopub.status.idle": "2023-02-22T02:44:06.962558Z",
     "shell.execute_reply": "2023-02-22T02:44:06.961712Z"
    }
   },
   "outputs": [],
   "source": [
    "# now to visualize using flopy and matplotlib\n",
    "fig = plt.figure(figsize=(12, 12))\n",
    "ax = fig.add_subplot(1, 1, 1, aspect=\"equal\")\n",
    "\n",
    "pmv = flopy.plot.PlotMapView(modelgrid=mg_unstruct, ax=ax)\n",
    "ax = pmv.plot_array(\n",
    "    dem_data,\n",
    "    masked_values=rio.nodatavals,\n",
    "    cmap=\"viridis\",\n",
    "    vmin=vmin,\n",
    "    vmax=vmax,\n",
    ")\n",
    "plt.plot(shape.T[0], shape.T[1], \"r-\")\n",
    "plt.title(\"Resample time, nearest neighbor: {:.3f} sec\".format(resample_time))\n",
    "plt.colorbar(ax, shrink=0.7);"
   ]
  },
  {
   "cell_type": "code",
   "execution_count": null,
   "metadata": {
    "execution": {
     "iopub.execute_input": "2023-02-22T02:44:06.967678Z",
     "iopub.status.busy": "2023-02-22T02:44:06.967297Z",
     "iopub.status.idle": "2023-02-22T02:44:20.589988Z",
     "shell.execute_reply": "2023-02-22T02:44:20.589079Z"
    }
   },
   "outputs": [],
   "source": [
    "t0 = time.time()\n",
    "dem_data = rio.resample_to_grid(\n",
    "    mg_unstruct, band=rio.bands[0], method=\"linear\"\n",
    ")\n",
    "\n",
    "resample_time = time.time() - t0"
   ]
  },
  {
   "cell_type": "code",
   "execution_count": null,
   "metadata": {
    "execution": {
     "iopub.execute_input": "2023-02-22T02:44:20.594327Z",
     "iopub.status.busy": "2023-02-22T02:44:20.593865Z",
     "iopub.status.idle": "2023-02-22T02:44:21.217842Z",
     "shell.execute_reply": "2023-02-22T02:44:21.216756Z"
    }
   },
   "outputs": [],
   "source": [
    "# now to visualize using flopy and matplotlib\n",
    "fig = plt.figure(figsize=(12, 12))\n",
    "ax = fig.add_subplot(1, 1, 1, aspect=\"equal\")\n",
    "\n",
    "pmv = flopy.plot.PlotMapView(modelgrid=mg_unstruct, ax=ax)\n",
    "ax = pmv.plot_array(\n",
    "    dem_data,\n",
    "    masked_values=rio.nodatavals,\n",
    "    cmap=\"viridis\",\n",
    "    vmin=vmin,\n",
    "    vmax=vmax,\n",
    ")\n",
    "plt.plot(shape.T[0], shape.T[1], \"r-\")\n",
    "plt.title(\"Resample time, bi-linear: {:.3f} sec\".format(resample_time))\n",
    "plt.colorbar(ax, shrink=0.7);"
   ]
  },
  {
   "cell_type": "markdown",
   "metadata": {},
   "source": [
    "### Here's an example of loading an arbitrary shape that will be used to define a model boundary\n",
    "\n",
    "In the example pyshp and shapely are used to get geometry information and then we create a top array and an ibound array using that geometry information\n",
    "\n",
    "First let's reload the raster (since operations are done in-place) and then load our shapefile data"
   ]
  },
  {
   "cell_type": "code",
   "execution_count": null,
   "metadata": {
    "execution": {
     "iopub.execute_input": "2023-02-22T02:44:21.224290Z",
     "iopub.status.busy": "2023-02-22T02:44:21.223631Z",
     "iopub.status.idle": "2023-02-22T02:44:21.237767Z",
     "shell.execute_reply": "2023-02-22T02:44:21.236898Z"
    }
   },
   "outputs": [],
   "source": [
    "rio = Raster.load(os.path.join(raster_ws, raster_name))\n",
    "\n",
    "shp_name = os.path.join(raster_ws, \"model_boundary.shp\")\n",
    "\n",
    "# read in the shapefile\n",
    "sf = shapefile.Reader(shp_name)\n",
    "shapes = sf.shapes()"
   ]
  },
  {
   "cell_type": "code",
   "execution_count": null,
   "metadata": {
    "execution": {
     "iopub.execute_input": "2023-02-22T02:44:21.242356Z",
     "iopub.status.busy": "2023-02-22T02:44:21.241715Z",
     "iopub.status.idle": "2023-02-22T02:44:21.770691Z",
     "shell.execute_reply": "2023-02-22T02:44:21.769852Z"
    }
   },
   "outputs": [],
   "source": [
    "fig = plt.figure(figsize=(12, 12))\n",
    "ax = fig.add_subplot(1, 1, 1, aspect=\"equal\")\n",
    "\n",
    "ax = rio.plot(ax=ax, vmin=vmin, vmax=vmax)\n",
    "\n",
    "# plot the shapes for visualization\n",
    "for shp in shapes:\n",
    "    shp = np.array(shp.points).T\n",
    "    plt.plot(shp[0], shp[1], \"r-\")\n",
    "plt.colorbar(ax.images[0], shrink=0.7);"
   ]
  },
  {
   "cell_type": "markdown",
   "metadata": {},
   "source": [
    "Now we can apply an intersection using the point data directly from the shapefile class"
   ]
  },
  {
   "cell_type": "code",
   "execution_count": null,
   "metadata": {
    "execution": {
     "iopub.execute_input": "2023-02-22T02:44:21.777308Z",
     "iopub.status.busy": "2023-02-22T02:44:21.776590Z",
     "iopub.status.idle": "2023-02-22T02:44:21.905948Z",
     "shell.execute_reply": "2023-02-22T02:44:21.904989Z"
    }
   },
   "outputs": [],
   "source": [
    "polygon = shapes[0].points\n",
    "\n",
    "t0 = time.time()\n",
    "rio.crop(polygon)\n",
    "crop_time = time.time() - t0"
   ]
  },
  {
   "cell_type": "code",
   "execution_count": null,
   "metadata": {
    "execution": {
     "iopub.execute_input": "2023-02-22T02:44:21.910570Z",
     "iopub.status.busy": "2023-02-22T02:44:21.909691Z",
     "iopub.status.idle": "2023-02-22T02:44:22.362879Z",
     "shell.execute_reply": "2023-02-22T02:44:22.362174Z"
    }
   },
   "outputs": [],
   "source": [
    "fig = plt.figure(figsize=(12, 12))\n",
    "ax = fig.add_subplot(1, 1, 1, aspect=\"equal\")\n",
    "\n",
    "ax = rio.plot(ax=ax, vmin=vmin, vmax=vmax)\n",
    "\n",
    "shape = np.array(polygon).T\n",
    "plt.plot(shape[0], shape[1], \"r-\")\n",
    "plt.title(\"Cropped Arbitrary Polygon: {:.3f} sec\".format(crop_time))\n",
    "plt.colorbar(ax.images[0], shrink=0.7);"
   ]
  },
  {
   "cell_type": "markdown",
   "metadata": {},
   "source": [
    "Now the data can be re-sampled to the modelgrid"
   ]
  },
  {
   "cell_type": "code",
   "execution_count": null,
   "metadata": {
    "execution": {
     "iopub.execute_input": "2023-02-22T02:44:22.368524Z",
     "iopub.status.busy": "2023-02-22T02:44:22.368093Z",
     "iopub.status.idle": "2023-02-22T02:44:34.320585Z",
     "shell.execute_reply": "2023-02-22T02:44:34.319707Z"
    }
   },
   "outputs": [],
   "source": [
    "top = rio.resample_to_grid(mg_unstruct, band=rio.bands[0], method=\"linear\")\n",
    "\n",
    "# apply a \"realistic\" nodataval to top cells outside the model domain\n",
    "for val in rio.nodatavals:\n",
    "    top[top == val] = 3500\n",
    "\n",
    "# create an ibound array\n",
    "ibound = np.ones(top.shape, dtype=int)\n",
    "ibound[top == 3500] = 0"
   ]
  },
  {
   "cell_type": "code",
   "execution_count": null,
   "metadata": {
    "execution": {
     "iopub.execute_input": "2023-02-22T02:44:34.324372Z",
     "iopub.status.busy": "2023-02-22T02:44:34.323661Z",
     "iopub.status.idle": "2023-02-22T02:44:34.885816Z",
     "shell.execute_reply": "2023-02-22T02:44:34.885082Z"
    }
   },
   "outputs": [],
   "source": [
    "# now to visualize using flopy and matplotlib\n",
    "fig = plt.figure(figsize=(12, 12))\n",
    "ax = fig.add_subplot(1, 1, 1, aspect=\"equal\")\n",
    "\n",
    "pmv = flopy.plot.PlotMapView(modelgrid=mg_unstruct, ax=ax)\n",
    "ax = pmv.plot_array(\n",
    "    top,\n",
    "    masked_values=[\n",
    "        3500,\n",
    "    ],\n",
    "    cmap=\"viridis\",\n",
    "    vmin=vmin,\n",
    "    vmax=vmax,\n",
    ")\n",
    "ib = pmv.plot_ibound(ibound)\n",
    "pmv.plot_grid(linewidth=0.3)\n",
    "plt.plot(shape[0], shape[1], \"r-\")\n",
    "plt.title(\n",
    "    \"Model top and ibound arrays created using bi-linear raster resampling\"\n",
    ")\n",
    "plt.colorbar(ax, shrink=0.7);"
   ]
  },
  {
   "cell_type": "markdown",
   "metadata": {},
   "source": [
    "The `ibound` array and the `top` array can be used to build or edit the BAS and DIS file objects in FloPy"
   ]
  },
  {
   "cell_type": "markdown",
   "metadata": {},
   "source": [
    "## Future development\n",
    "\n",
    "Potential features that draw on this functionality could include:  \n",
    "+ intersection with multiple polygons  \n",
    "+ flow accumulation to develop SFR networks\n",
    "+ streambed topology from raster layers\n",
    "+ intersection with layers of derived parameters based on multiple raster bands"
   ]
  },
  {
   "cell_type": "code",
   "execution_count": null,
   "metadata": {
    "execution": {
     "iopub.execute_input": "2023-02-22T02:44:34.895399Z",
     "iopub.status.busy": "2023-02-22T02:44:34.895110Z",
     "iopub.status.idle": "2023-02-22T02:44:34.899074Z",
     "shell.execute_reply": "2023-02-22T02:44:34.898458Z"
    }
   },
   "outputs": [],
   "source": [
    "try:\n",
    "    # ignore PermissionError on Windows\n",
    "    temp_dir.cleanup()\n",
    "except:\n",
    "    pass"
   ]
  }
 ],
 "metadata": {
  "kernelspec": {
   "display_name": "Python 3 (ipykernel)",
   "language": "python",
   "name": "python3"
  },
  "language_info": {
   "codemirror_mode": {
    "name": "ipython",
    "version": 3
   },
   "file_extension": ".py",
   "mimetype": "text/x-python",
   "name": "python",
   "nbconvert_exporter": "python",
   "pygments_lexer": "ipython3",
   "version": "3.10.6"
  }
 },
 "nbformat": 4,
 "nbformat_minor": 4
}
