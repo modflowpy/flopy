{
 "cells": [
  {
   "attachments": {},
   "cell_type": "markdown",
   "metadata": {},
   "source": [
    "# Saving array data to MODFLOW-style binary files\n"
   ]
  },
  {
   "cell_type": "code",
   "execution_count": null,
   "metadata": {
    "execution": {
     "iopub.execute_input": "2023-02-22T02:44:37.812245Z",
     "iopub.status.busy": "2023-02-22T02:44:37.811460Z",
     "iopub.status.idle": "2023-02-22T02:44:38.650991Z",
     "shell.execute_reply": "2023-02-22T02:44:38.649799Z"
    }
   },
   "outputs": [],
   "source": [
    "import os\n",
    "import sys\n",
    "import shutil\n",
    "from tempfile import TemporaryDirectory\n",
    "\n",
    "import numpy as np\n",
    "import matplotlib as mpl\n",
    "import matplotlib.pyplot as plt\n",
    "\n",
    "# run installed version of flopy or add local path\n",
    "try:\n",
    "    import flopy\n",
    "except:\n",
    "    fpth = os.path.abspath(os.path.join(\"..\", \"..\"))\n",
    "    sys.path.append(fpth)\n",
    "    import flopy\n",
    "\n",
    "print(sys.version)\n",
    "print(\"numpy version: {}\".format(np.__version__))\n",
    "print(\"matplotlib version: {}\".format(mpl.__version__))\n",
    "print(\"flopy version: {}\".format(flopy.__version__))"
   ]
  },
  {
   "cell_type": "code",
   "execution_count": null,
   "metadata": {
    "execution": {
     "iopub.execute_input": "2023-02-22T02:44:38.686547Z",
     "iopub.status.busy": "2023-02-22T02:44:38.685802Z",
     "iopub.status.idle": "2023-02-22T02:44:38.693037Z",
     "shell.execute_reply": "2023-02-22T02:44:38.692310Z"
    }
   },
   "outputs": [],
   "source": [
    "nlay, nrow, ncol = 1, 20, 10\n",
    "\n",
    "# temporary directory\n",
    "temp_dir = TemporaryDirectory()\n",
    "model_ws = os.path.join(temp_dir.name, \"binary_data\")\n",
    "\n",
    "if os.path.exists(model_ws):\n",
    "    shutil.rmtree(model_ws)\n",
    "\n",
    "precision = \"single\"  # or 'double'\n",
    "dtype = np.float32  # or np.float64\n",
    "\n",
    "mf = flopy.modflow.Modflow(model_ws=model_ws)\n",
    "dis = flopy.modflow.ModflowDis(\n",
    "    mf, nlay=nlay, nrow=nrow, ncol=ncol, delr=20, delc=10\n",
    ")"
   ]
  },
  {
   "cell_type": "markdown",
   "metadata": {},
   "source": [
    "Create a linear data array"
   ]
  },
  {
   "cell_type": "code",
   "execution_count": null,
   "metadata": {
    "execution": {
     "iopub.execute_input": "2023-02-22T02:44:38.695936Z",
     "iopub.status.busy": "2023-02-22T02:44:38.695562Z",
     "iopub.status.idle": "2023-02-22T02:44:38.700574Z",
     "shell.execute_reply": "2023-02-22T02:44:38.699833Z"
    }
   },
   "outputs": [],
   "source": [
    "# create the first row of data\n",
    "b = np.linspace(10, 1, num=ncol, dtype=dtype).reshape(1, ncol)\n",
    "\n",
    "# extend data to every row\n",
    "b = np.repeat(b, nrow, axis=0)\n",
    "\n",
    "# print the shape and type of the data\n",
    "print(b.shape)"
   ]
  },
  {
   "cell_type": "markdown",
   "metadata": {},
   "source": [
    "Plot the data array"
   ]
  },
  {
   "cell_type": "code",
   "execution_count": null,
   "metadata": {
    "execution": {
     "iopub.execute_input": "2023-02-22T02:44:38.703963Z",
     "iopub.status.busy": "2023-02-22T02:44:38.703422Z",
     "iopub.status.idle": "2023-02-22T02:44:38.967629Z",
     "shell.execute_reply": "2023-02-22T02:44:38.966979Z"
    }
   },
   "outputs": [],
   "source": [
    "pmv = flopy.plot.PlotMapView(model=mf)\n",
    "v = pmv.plot_array(b)\n",
    "pmv.plot_grid()\n",
    "plt.colorbar(v, shrink=0.5);"
   ]
  },
  {
   "cell_type": "markdown",
   "metadata": {},
   "source": [
    "Write the linear data array to a binary file"
   ]
  },
  {
   "cell_type": "code",
   "execution_count": null,
   "metadata": {
    "execution": {
     "iopub.execute_input": "2023-02-22T02:44:38.971362Z",
     "iopub.status.busy": "2023-02-22T02:44:38.971061Z",
     "iopub.status.idle": "2023-02-22T02:44:38.975956Z",
     "shell.execute_reply": "2023-02-22T02:44:38.975340Z"
    }
   },
   "outputs": [],
   "source": [
    "text = \"head\"\n",
    "\n",
    "# write a binary data file\n",
    "pertim = dtype(1.0)\n",
    "header = flopy.utils.BinaryHeader.create(\n",
    "    bintype=text,\n",
    "    precision=precision,\n",
    "    text=text,\n",
    "    nrow=nrow,\n",
    "    ncol=ncol,\n",
    "    ilay=1,\n",
    "    pertim=pertim,\n",
    "    totim=pertim,\n",
    "    kstp=1,\n",
    "    kper=1,\n",
    ")\n",
    "pth = os.path.join(model_ws, \"bottom.bin\")\n",
    "flopy.utils.Util2d.write_bin(b.shape, pth, b, header_data=header)"
   ]
  },
  {
   "cell_type": "markdown",
   "metadata": {},
   "source": [
    "Read the binary data file"
   ]
  },
  {
   "cell_type": "code",
   "execution_count": null,
   "metadata": {
    "execution": {
     "iopub.execute_input": "2023-02-22T02:44:38.979460Z",
     "iopub.status.busy": "2023-02-22T02:44:38.979153Z",
     "iopub.status.idle": "2023-02-22T02:44:38.984791Z",
     "shell.execute_reply": "2023-02-22T02:44:38.983709Z"
    }
   },
   "outputs": [],
   "source": [
    "bo = flopy.utils.HeadFile(pth, precision=precision)\n",
    "br = bo.get_data(idx=0)"
   ]
  },
  {
   "cell_type": "markdown",
   "metadata": {},
   "source": [
    "Plot the data that was read from the binary file"
   ]
  },
  {
   "cell_type": "code",
   "execution_count": null,
   "metadata": {
    "execution": {
     "iopub.execute_input": "2023-02-22T02:44:38.989351Z",
     "iopub.status.busy": "2023-02-22T02:44:38.988936Z",
     "iopub.status.idle": "2023-02-22T02:44:39.272011Z",
     "shell.execute_reply": "2023-02-22T02:44:39.271272Z"
    }
   },
   "outputs": [],
   "source": [
    "pmv = flopy.plot.PlotMapView(model=mf)\n",
    "v = pmv.plot_array(br)\n",
    "pmv.plot_grid()\n",
    "plt.colorbar(v, shrink=0.5);"
   ]
  },
  {
   "cell_type": "markdown",
   "metadata": {},
   "source": [
    "Plot the difference in the two values"
   ]
  },
  {
   "cell_type": "code",
   "execution_count": null,
   "metadata": {
    "execution": {
     "iopub.execute_input": "2023-02-22T02:44:39.275588Z",
     "iopub.status.busy": "2023-02-22T02:44:39.275248Z",
     "iopub.status.idle": "2023-02-22T02:44:39.568480Z",
     "shell.execute_reply": "2023-02-22T02:44:39.567696Z"
    }
   },
   "outputs": [],
   "source": [
    "pmv = flopy.plot.PlotMapView(model=mf)\n",
    "v = pmv.plot_array(b - br)\n",
    "pmv.plot_grid()\n",
    "plt.colorbar(v, shrink=0.5);"
   ]
  },
  {
   "cell_type": "code",
   "execution_count": null,
   "metadata": {
    "execution": {
     "iopub.execute_input": "2023-02-22T02:44:39.571760Z",
     "iopub.status.busy": "2023-02-22T02:44:39.571403Z",
     "iopub.status.idle": "2023-02-22T02:44:39.575622Z",
     "shell.execute_reply": "2023-02-22T02:44:39.574819Z"
    }
   },
   "outputs": [],
   "source": [
    "try:\n",
    "    # ignore PermissionError on Windows\n",
    "    temp_dir.cleanup()\n",
    "except:\n",
    "    pass"
   ]
  }
 ],
 "metadata": {
  "anaconda-cloud": {},
  "kernelspec": {
   "display_name": "Python 3",
   "language": "python",
   "name": "python3"
  },
  "language_info": {
   "codemirror_mode": {
    "name": "ipython",
    "version": 3
   },
   "file_extension": ".py",
   "mimetype": "text/x-python",
   "name": "python",
   "nbconvert_exporter": "python",
   "pygments_lexer": "ipython3",
   "version": "3.10.6"
  }
 },
 "nbformat": 4,
 "nbformat_minor": 4
}
