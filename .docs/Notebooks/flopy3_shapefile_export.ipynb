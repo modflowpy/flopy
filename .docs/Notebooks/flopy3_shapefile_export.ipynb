{
 "cells": [
  {
   "attachments": {},
   "cell_type": "markdown",
   "metadata": {},
   "source": [
    "# Shapefile export demo\n",
    "The goal of this notebook is to demonstrate ways to export model information to shapefiles.\n",
    "This example will cover:\n",
    "* basic exporting of information for a model, individual package, or dataset\n",
    "* custom exporting of combined data from different packages\n",
    "* general exporting and importing of geographic data from other sources"
   ]
  },
  {
   "cell_type": "code",
   "execution_count": null,
   "metadata": {
    "execution": {
     "iopub.execute_input": "2023-05-02T02:57:36.205765Z",
     "iopub.status.busy": "2023-05-02T02:57:36.205465Z",
     "iopub.status.idle": "2023-05-02T02:57:38.226216Z",
     "shell.execute_reply": "2023-05-02T02:57:38.224794Z"
    }
   },
   "outputs": [],
   "source": [
    "import sys\n",
    "import os\n",
    "from tempfile import TemporaryDirectory\n",
    "\n",
    "import numpy as np\n",
    "import matplotlib as mpl\n",
    "import matplotlib.pyplot as plt\n",
    "import pandas as pd\n",
    "\n",
    "# run installed version of flopy or add local path\n",
    "try:\n",
    "    import flopy\n",
    "except:\n",
    "    fpth = os.path.abspath(os.path.join(\"..\", \"..\"))\n",
    "    sys.path.append(fpth)\n",
    "    import flopy\n",
    "\n",
    "print(sys.version)\n",
    "print(\"numpy version: {}\".format(np.__version__))\n",
    "print(\"matplotlib version: {}\".format(mpl.__version__))\n",
    "print(\"flopy version: {}\".format(flopy.__version__))"
   ]
  },
  {
   "cell_type": "code",
   "execution_count": null,
   "metadata": {
    "execution": {
     "iopub.execute_input": "2023-05-02T02:57:38.291299Z",
     "iopub.status.busy": "2023-05-02T02:57:38.290852Z",
     "iopub.status.idle": "2023-05-02T02:57:38.333567Z",
     "shell.execute_reply": "2023-05-02T02:57:38.332660Z"
    }
   },
   "outputs": [],
   "source": [
    "# temporary directory\n",
    "temp_dir = TemporaryDirectory()\n",
    "outdir = os.path.join(temp_dir.name, \"shapefile_export\")\n",
    "\n",
    "# load an existing model\n",
    "model_ws = \"../../examples/data/freyberg\"\n",
    "m = flopy.modflow.Modflow.load(\n",
    "    \"freyberg.nam\",\n",
    "    model_ws=model_ws,\n",
    "    verbose=False,\n",
    "    check=False,\n",
    "    exe_name=\"mfnwt\",\n",
    ")"
   ]
  },
  {
   "cell_type": "code",
   "execution_count": null,
   "metadata": {
    "execution": {
     "iopub.execute_input": "2023-05-02T02:57:38.337278Z",
     "iopub.status.busy": "2023-05-02T02:57:38.336964Z",
     "iopub.status.idle": "2023-05-02T02:57:38.346804Z",
     "shell.execute_reply": "2023-05-02T02:57:38.345804Z"
    }
   },
   "outputs": [],
   "source": [
    "m.get_package_list()"
   ]
  },
  {
   "cell_type": "markdown",
   "metadata": {},
   "source": [
    "### set the model coordinate information\n",
    "the coordinate information where the grid is located in a projected coordinate system (e.g. UTM)"
   ]
  },
  {
   "cell_type": "code",
   "execution_count": null,
   "metadata": {
    "execution": {
     "iopub.execute_input": "2023-05-02T02:57:38.350748Z",
     "iopub.status.busy": "2023-05-02T02:57:38.350200Z",
     "iopub.status.idle": "2023-05-02T02:57:38.476704Z",
     "shell.execute_reply": "2023-05-02T02:57:38.475763Z"
    }
   },
   "outputs": [],
   "source": [
    "grid = m.modelgrid\n",
    "grid.set_coord_info(xoff=273170, yoff=5088657, epsg=26916)"
   ]
  },
  {
   "cell_type": "code",
   "execution_count": null,
   "metadata": {
    "execution": {
     "iopub.execute_input": "2023-05-02T02:57:38.480513Z",
     "iopub.status.busy": "2023-05-02T02:57:38.479785Z",
     "iopub.status.idle": "2023-05-02T02:57:38.486569Z",
     "shell.execute_reply": "2023-05-02T02:57:38.485518Z"
    }
   },
   "outputs": [],
   "source": [
    "grid.extent"
   ]
  },
  {
   "cell_type": "markdown",
   "metadata": {},
   "source": [
    "## Declarative export using attached `.export()` methods\n",
    "#### Export the whole model to a single shapefile"
   ]
  },
  {
   "cell_type": "code",
   "execution_count": null,
   "metadata": {
    "execution": {
     "iopub.execute_input": "2023-05-02T02:57:38.490609Z",
     "iopub.status.busy": "2023-05-02T02:57:38.490023Z",
     "iopub.status.idle": "2023-05-02T02:57:38.743208Z",
     "shell.execute_reply": "2023-05-02T02:57:38.742201Z"
    }
   },
   "outputs": [],
   "source": [
    "fname = \"{}/model.shp\".format(outdir)\n",
    "m.export(fname)"
   ]
  },
  {
   "cell_type": "code",
   "execution_count": null,
   "metadata": {
    "execution": {
     "iopub.execute_input": "2023-05-02T02:57:38.747104Z",
     "iopub.status.busy": "2023-05-02T02:57:38.746666Z",
     "iopub.status.idle": "2023-05-02T02:57:39.253698Z",
     "shell.execute_reply": "2023-05-02T02:57:39.252289Z"
    }
   },
   "outputs": [],
   "source": [
    "ax = plt.subplot(1, 1, 1, aspect=\"equal\")\n",
    "extents = grid.extent\n",
    "pc = flopy.plot.plot_shapefile(fname, ax=ax, edgecolor=\"k\", facecolor=\"none\")\n",
    "ax.set_xlim(extents[0], extents[1])\n",
    "ax.set_ylim(extents[2], extents[3])\n",
    "ax.set_title(fname);"
   ]
  },
  {
   "cell_type": "code",
   "execution_count": null,
   "metadata": {
    "execution": {
     "iopub.execute_input": "2023-05-02T02:57:39.257418Z",
     "iopub.status.busy": "2023-05-02T02:57:39.257029Z",
     "iopub.status.idle": "2023-05-02T02:57:39.380207Z",
     "shell.execute_reply": "2023-05-02T02:57:39.378791Z"
    }
   },
   "outputs": [],
   "source": [
    "fname = \"{}/wel.shp\".format(outdir)\n",
    "m.wel.export(fname)"
   ]
  },
  {
   "cell_type": "markdown",
   "metadata": {},
   "source": [
    "### Export a package to a shapefile"
   ]
  },
  {
   "cell_type": "markdown",
   "metadata": {},
   "source": [
    "### Export a FloPy list or array object"
   ]
  },
  {
   "cell_type": "code",
   "execution_count": null,
   "metadata": {
    "execution": {
     "iopub.execute_input": "2023-05-02T02:57:39.384408Z",
     "iopub.status.busy": "2023-05-02T02:57:39.384069Z",
     "iopub.status.idle": "2023-05-02T02:57:39.391739Z",
     "shell.execute_reply": "2023-05-02T02:57:39.390368Z"
    }
   },
   "outputs": [],
   "source": [
    "m.lpf.hk"
   ]
  },
  {
   "cell_type": "code",
   "execution_count": null,
   "metadata": {
    "execution": {
     "iopub.execute_input": "2023-05-02T02:57:39.395690Z",
     "iopub.status.busy": "2023-05-02T02:57:39.394973Z",
     "iopub.status.idle": "2023-05-02T02:57:39.499595Z",
     "shell.execute_reply": "2023-05-02T02:57:39.498650Z"
    }
   },
   "outputs": [],
   "source": [
    "fname = \"{}/hk.shp\".format(outdir)\n",
    "m.lpf.hk.export(\"{}/hk.shp\".format(outdir))"
   ]
  },
  {
   "cell_type": "code",
   "execution_count": null,
   "metadata": {
    "execution": {
     "iopub.execute_input": "2023-05-02T02:57:39.503170Z",
     "iopub.status.busy": "2023-05-02T02:57:39.502832Z",
     "iopub.status.idle": "2023-05-02T02:57:39.961814Z",
     "shell.execute_reply": "2023-05-02T02:57:39.960254Z"
    }
   },
   "outputs": [],
   "source": [
    "ax = plt.subplot(1, 1, 1, aspect=\"equal\")\n",
    "extents = grid.extent\n",
    "a = m.lpf.hk.array.ravel()\n",
    "pc = flopy.plot.plot_shapefile(fname, ax=ax, a=a)\n",
    "ax.set_xlim(extents[0], extents[1])\n",
    "ax.set_ylim(extents[2], extents[3])\n",
    "ax.set_title(fname);"
   ]
  },
  {
   "cell_type": "code",
   "execution_count": null,
   "metadata": {
    "execution": {
     "iopub.execute_input": "2023-05-02T02:57:39.966253Z",
     "iopub.status.busy": "2023-05-02T02:57:39.965261Z",
     "iopub.status.idle": "2023-05-02T02:57:39.973360Z",
     "shell.execute_reply": "2023-05-02T02:57:39.971842Z"
    }
   },
   "outputs": [],
   "source": [
    "m.riv.stress_period_data"
   ]
  },
  {
   "cell_type": "code",
   "execution_count": null,
   "metadata": {
    "execution": {
     "iopub.execute_input": "2023-05-02T02:57:39.977249Z",
     "iopub.status.busy": "2023-05-02T02:57:39.976834Z",
     "iopub.status.idle": "2023-05-02T02:57:40.103924Z",
     "shell.execute_reply": "2023-05-02T02:57:40.102590Z"
    }
   },
   "outputs": [],
   "source": [
    "m.riv.stress_period_data.export(\"{}/riv_spd.shp\".format(outdir))"
   ]
  },
  {
   "cell_type": "markdown",
   "metadata": {},
   "source": [
    "### MfList.export() exports the whole grid by default, regardless of the locations of the boundary cells\n",
    "`sparse=True` only exports the boundary cells in the MfList"
   ]
  },
  {
   "cell_type": "code",
   "execution_count": null,
   "metadata": {
    "execution": {
     "iopub.execute_input": "2023-05-02T02:57:40.108122Z",
     "iopub.status.busy": "2023-05-02T02:57:40.107374Z",
     "iopub.status.idle": "2023-05-02T02:57:40.173897Z",
     "shell.execute_reply": "2023-05-02T02:57:40.172626Z"
    }
   },
   "outputs": [],
   "source": [
    "m.riv.stress_period_data.export(\"{}/riv_spd.shp\".format(outdir), sparse=True)"
   ]
  },
  {
   "cell_type": "code",
   "execution_count": null,
   "metadata": {
    "execution": {
     "iopub.execute_input": "2023-05-02T02:57:40.177824Z",
     "iopub.status.busy": "2023-05-02T02:57:40.177222Z",
     "iopub.status.idle": "2023-05-02T02:57:40.223721Z",
     "shell.execute_reply": "2023-05-02T02:57:40.222525Z"
    }
   },
   "outputs": [],
   "source": [
    "m.wel.stress_period_data.export(\"{}/wel_spd.shp\".format(outdir), sparse=True)"
   ]
  },
  {
   "cell_type": "markdown",
   "metadata": {},
   "source": [
    "## Ad-hoc exporting using `recarray2shp`\n",
    "* The main idea is to create a recarray with all of the attribute information, and a list of geometry features (one feature per row in the recarray)\n",
    "* each geometry feature is an instance of the `Point`, `LineString` or `Polygon` classes in `flopy.utils.geometry`. The shapefile format requires all the features to be of the same type.\n",
    "* We will use pandas dataframes for these examples because they are easy to work with, and then convert them to recarrays prior to exporting.\n"
   ]
  },
  {
   "cell_type": "code",
   "execution_count": null,
   "metadata": {
    "execution": {
     "iopub.execute_input": "2023-05-02T02:57:40.227233Z",
     "iopub.status.busy": "2023-05-02T02:57:40.226926Z",
     "iopub.status.idle": "2023-05-02T02:57:40.231034Z",
     "shell.execute_reply": "2023-05-02T02:57:40.230135Z"
    }
   },
   "outputs": [],
   "source": [
    "from flopy.export.shapefile_utils import recarray2shp"
   ]
  },
  {
   "cell_type": "markdown",
   "metadata": {},
   "source": [
    "### combining data from different packages\n",
    "write a shapefile of RIV and WEL package cells"
   ]
  },
  {
   "cell_type": "code",
   "execution_count": null,
   "metadata": {
    "execution": {
     "iopub.execute_input": "2023-05-02T02:57:40.234536Z",
     "iopub.status.busy": "2023-05-02T02:57:40.234137Z",
     "iopub.status.idle": "2023-05-02T02:57:40.252499Z",
     "shell.execute_reply": "2023-05-02T02:57:40.251649Z"
    }
   },
   "outputs": [],
   "source": [
    "wellspd = pd.DataFrame(m.wel.stress_period_data[0])\n",
    "rivspd = pd.DataFrame(m.riv.stress_period_data[0])\n",
    "spd = pd.concat([wellspd, rivspd])\n",
    "spd.head()"
   ]
  },
  {
   "cell_type": "markdown",
   "metadata": {},
   "source": [
    "##### Create a list of Polygon features from the cell vertices stored in the modelgrid object"
   ]
  },
  {
   "cell_type": "code",
   "execution_count": null,
   "metadata": {
    "execution": {
     "iopub.execute_input": "2023-05-02T02:57:40.256072Z",
     "iopub.status.busy": "2023-05-02T02:57:40.255744Z",
     "iopub.status.idle": "2023-05-02T02:57:40.265702Z",
     "shell.execute_reply": "2023-05-02T02:57:40.264848Z"
    }
   },
   "outputs": [],
   "source": [
    "from flopy.utils.geometry import Polygon\n",
    "\n",
    "vertices = []\n",
    "for row, col in zip(spd.i, spd.j):\n",
    "    vertices.append(grid.get_cell_vertices(row, col))\n",
    "polygons = [Polygon(vrt) for vrt in vertices]\n",
    "polygons"
   ]
  },
  {
   "cell_type": "markdown",
   "metadata": {},
   "source": [
    "##### write the shapefile"
   ]
  },
  {
   "cell_type": "code",
   "execution_count": null,
   "metadata": {
    "execution": {
     "iopub.execute_input": "2023-05-02T02:57:40.269173Z",
     "iopub.status.busy": "2023-05-02T02:57:40.268747Z",
     "iopub.status.idle": "2023-05-02T02:57:40.290645Z",
     "shell.execute_reply": "2023-05-02T02:57:40.289690Z"
    }
   },
   "outputs": [],
   "source": [
    "fname = \"{}/bcs.shp\".format(outdir)\n",
    "recarray2shp(spd.to_records(), geoms=polygons, shpname=fname, epsg=grid.epsg)"
   ]
  },
  {
   "cell_type": "code",
   "execution_count": null,
   "metadata": {
    "execution": {
     "iopub.execute_input": "2023-05-02T02:57:40.293941Z",
     "iopub.status.busy": "2023-05-02T02:57:40.293587Z",
     "iopub.status.idle": "2023-05-02T02:57:40.528474Z",
     "shell.execute_reply": "2023-05-02T02:57:40.527012Z"
    }
   },
   "outputs": [],
   "source": [
    "ax = plt.subplot(1, 1, 1, aspect=\"equal\")\n",
    "extents = grid.extent\n",
    "pc = flopy.plot.plot_shapefile(fname, ax=ax)\n",
    "ax.set_xlim(extents[0], extents[1])\n",
    "ax.set_ylim(extents[2], extents[3])\n",
    "ax.set_title(fname);"
   ]
  },
  {
   "cell_type": "markdown",
   "metadata": {},
   "source": [
    "### exporting other data\n",
    "Suppose we have some well data with actual locations that we want to export to a shapefile"
   ]
  },
  {
   "cell_type": "code",
   "execution_count": null,
   "metadata": {
    "execution": {
     "iopub.execute_input": "2023-05-02T02:57:40.532589Z",
     "iopub.status.busy": "2023-05-02T02:57:40.531700Z",
     "iopub.status.idle": "2023-05-02T02:57:40.545977Z",
     "shell.execute_reply": "2023-05-02T02:57:40.544477Z"
    }
   },
   "outputs": [],
   "source": [
    "welldata = pd.DataFrame(\n",
    "    {\n",
    "        \"wellID\": np.arange(0, 10),\n",
    "        \"q\": np.random.randn(10) * 100 - 1000,\n",
    "        \"x_utm\": np.random.rand(10) * 5000 + grid.xoffset,\n",
    "        \"y_utm\": grid.yoffset + np.random.rand(10) * 10000,\n",
    "    }\n",
    ")\n",
    "welldata.head()"
   ]
  },
  {
   "cell_type": "markdown",
   "metadata": {},
   "source": [
    "##### convert the x, y coorindates to point features and then export"
   ]
  },
  {
   "cell_type": "code",
   "execution_count": null,
   "metadata": {
    "execution": {
     "iopub.execute_input": "2023-05-02T02:57:40.550246Z",
     "iopub.status.busy": "2023-05-02T02:57:40.549320Z",
     "iopub.status.idle": "2023-05-02T02:57:40.589493Z",
     "shell.execute_reply": "2023-05-02T02:57:40.588057Z"
    }
   },
   "outputs": [],
   "source": [
    "from flopy.utils.geometry import Point\n",
    "\n",
    "geoms = [Point(x, y) for x, y in zip(welldata.x_utm, welldata.y_utm)]\n",
    "\n",
    "fname = \"{}/wel_data.shp\".format(outdir)\n",
    "recarray2shp(welldata.to_records(), geoms=geoms, shpname=fname, epsg=grid.epsg)"
   ]
  },
  {
   "cell_type": "code",
   "execution_count": null,
   "metadata": {
    "execution": {
     "iopub.execute_input": "2023-05-02T02:57:40.593984Z",
     "iopub.status.busy": "2023-05-02T02:57:40.593023Z",
     "iopub.status.idle": "2023-05-02T02:57:40.837523Z",
     "shell.execute_reply": "2023-05-02T02:57:40.822223Z"
    }
   },
   "outputs": [],
   "source": [
    "ax = plt.subplot(1, 1, 1, aspect=\"equal\")\n",
    "extents = grid.extent\n",
    "pc = flopy.plot.plot_shapefile(fname, ax=ax, radius=100)\n",
    "ax.set_xlim(extents[0], extents[1])\n",
    "ax.set_ylim(extents[2], extents[3])\n",
    "ax.set_title(fname);"
   ]
  },
  {
   "cell_type": "markdown",
   "metadata": {},
   "source": [
    "### Adding attribute data to an existing shapefile\n",
    "Suppose we have a GIS coverage representing the river in the riv package"
   ]
  },
  {
   "cell_type": "code",
   "execution_count": null,
   "metadata": {
    "execution": {
     "iopub.execute_input": "2023-05-02T02:57:40.846586Z",
     "iopub.status.busy": "2023-05-02T02:57:40.842289Z",
     "iopub.status.idle": "2023-05-02T02:57:40.884323Z",
     "shell.execute_reply": "2023-05-02T02:57:40.882772Z"
    }
   },
   "outputs": [],
   "source": [
    "from flopy.utils.geometry import LineString\n",
    "\n",
    "### make up a linestring shapefile of the river reaches\n",
    "i, j = m.riv.stress_period_data[0].i, m.riv.stress_period_data[0].j\n",
    "x0 = grid.xyzcellcenters[0][i[0], j[0]]\n",
    "x1 = grid.xyzcellcenters[0][i[-1], j[-1]]\n",
    "y0 = grid.xyzcellcenters[1][i[0], j[0]]\n",
    "y1 = grid.xyzcellcenters[1][i[-1], j[-1]]\n",
    "x = np.linspace(x0, x1, m.nrow + 1)\n",
    "y = np.linspace(y0, y1, m.nrow + 1)\n",
    "l0 = zip(list(zip(x[:-1], y[:-1])), list(zip(x[1:], y[1:])))\n",
    "lines = [LineString(l) for l in l0]\n",
    "\n",
    "rivdata = pd.DataFrame(m.riv.stress_period_data[0])\n",
    "rivdata[\"reach\"] = np.arange(len(lines))\n",
    "lines_shapefile = \"{}/riv_reaches.shp\".format(outdir)\n",
    "recarray2shp(\n",
    "    rivdata.to_records(index=False),\n",
    "    geoms=lines,\n",
    "    shpname=lines_shapefile,\n",
    "    epsg=grid.epsg,\n",
    ")"
   ]
  },
  {
   "cell_type": "code",
   "execution_count": null,
   "metadata": {
    "execution": {
     "iopub.execute_input": "2023-05-02T02:57:40.888527Z",
     "iopub.status.busy": "2023-05-02T02:57:40.888105Z",
     "iopub.status.idle": "2023-05-02T02:57:41.123246Z",
     "shell.execute_reply": "2023-05-02T02:57:41.121577Z"
    }
   },
   "outputs": [],
   "source": [
    "ax = plt.subplot(1, 1, 1, aspect=\"equal\")\n",
    "extents = grid.extent\n",
    "pc = flopy.plot.plot_shapefile(lines_shapefile, ax=ax, radius=25)\n",
    "ax.set_xlim(extents[0], extents[1])\n",
    "ax.set_ylim(extents[2], extents[3])\n",
    "ax.set_title(lines_shapefile);"
   ]
  },
  {
   "cell_type": "markdown",
   "metadata": {},
   "source": [
    "#### read in the GIS coverage using `shp2recarray`\n",
    "`shp2recarray` reads a shapefile into a numpy record array, which can easily be converted to a DataFrame"
   ]
  },
  {
   "cell_type": "code",
   "execution_count": null,
   "metadata": {
    "execution": {
     "iopub.execute_input": "2023-05-02T02:57:41.127976Z",
     "iopub.status.busy": "2023-05-02T02:57:41.126965Z",
     "iopub.status.idle": "2023-05-02T02:57:41.132953Z",
     "shell.execute_reply": "2023-05-02T02:57:41.131548Z"
    }
   },
   "outputs": [],
   "source": [
    "from flopy.export.shapefile_utils import shp2recarray"
   ]
  },
  {
   "cell_type": "code",
   "execution_count": null,
   "metadata": {
    "execution": {
     "iopub.execute_input": "2023-05-02T02:57:41.137116Z",
     "iopub.status.busy": "2023-05-02T02:57:41.136085Z",
     "iopub.status.idle": "2023-05-02T02:57:41.156504Z",
     "shell.execute_reply": "2023-05-02T02:57:41.155075Z"
    }
   },
   "outputs": [],
   "source": [
    "linesdata = shp2recarray(lines_shapefile)\n",
    "linesdata = pd.DataFrame(linesdata)\n",
    "linesdata.head()"
   ]
  },
  {
   "cell_type": "markdown",
   "metadata": {},
   "source": [
    "##### Suppose we have some flow information that we read in from the cell budget file"
   ]
  },
  {
   "cell_type": "code",
   "execution_count": null,
   "metadata": {
    "execution": {
     "iopub.execute_input": "2023-05-02T02:57:41.160260Z",
     "iopub.status.busy": "2023-05-02T02:57:41.159898Z",
     "iopub.status.idle": "2023-05-02T02:57:41.168442Z",
     "shell.execute_reply": "2023-05-02T02:57:41.167196Z"
    }
   },
   "outputs": [],
   "source": [
    "# make up some fluxes between the river and aquifer at each reach\n",
    "q = np.random.randn(len(linesdata)) + 1\n",
    "q"
   ]
  },
  {
   "cell_type": "markdown",
   "metadata": {},
   "source": [
    "##### Add reachs fluxes and cumulative flow to lines DataFrame"
   ]
  },
  {
   "cell_type": "code",
   "execution_count": null,
   "metadata": {
    "execution": {
     "iopub.execute_input": "2023-05-02T02:57:41.172707Z",
     "iopub.status.busy": "2023-05-02T02:57:41.171737Z",
     "iopub.status.idle": "2023-05-02T02:57:41.178137Z",
     "shell.execute_reply": "2023-05-02T02:57:41.176678Z"
    }
   },
   "outputs": [],
   "source": [
    "linesdata[\"qreach\"] = q\n",
    "linesdata[\"qstream\"] = np.cumsum(q)"
   ]
  },
  {
   "cell_type": "code",
   "execution_count": null,
   "metadata": {
    "execution": {
     "iopub.execute_input": "2023-05-02T02:57:41.181954Z",
     "iopub.status.busy": "2023-05-02T02:57:41.181597Z",
     "iopub.status.idle": "2023-05-02T02:57:41.202510Z",
     "shell.execute_reply": "2023-05-02T02:57:41.201057Z"
    }
   },
   "outputs": [],
   "source": [
    "recarray2shp(\n",
    "    linesdata.drop(\"geometry\", axis=1).to_records(),\n",
    "    geoms=linesdata.geometry.values,\n",
    "    shpname=lines_shapefile,\n",
    "    epsg=grid.epsg,\n",
    ")"
   ]
  },
  {
   "cell_type": "code",
   "execution_count": null,
   "metadata": {
    "execution": {
     "iopub.execute_input": "2023-05-02T02:57:41.206432Z",
     "iopub.status.busy": "2023-05-02T02:57:41.206042Z",
     "iopub.status.idle": "2023-05-02T02:57:41.438757Z",
     "shell.execute_reply": "2023-05-02T02:57:41.437191Z"
    }
   },
   "outputs": [],
   "source": [
    "ax = plt.subplot(1, 1, 1, aspect=\"equal\")\n",
    "extents = grid.extent\n",
    "pc = flopy.plot.plot_shapefile(lines_shapefile, ax=ax, radius=25)\n",
    "ax.set_xlim(extents[0], extents[1])\n",
    "ax.set_ylim(extents[2], extents[3])\n",
    "ax.set_title(lines_shapefile);"
   ]
  },
  {
   "cell_type": "markdown",
   "metadata": {},
   "source": [
    "## Overriding the model's modelgrid with a user supplied modelgrid\n",
    "\n",
    "In some cases it may be necessary to override the model's modelgrid instance with a seperate modelgrid. An example of this is if the model discretization is in feet and the user would like it projected in meters. Exporting can be accomplished by supplying a modelgrid as a `kwarg` in any of the `export()` methods within flopy. Below is an example:"
   ]
  },
  {
   "cell_type": "code",
   "execution_count": null,
   "metadata": {
    "execution": {
     "iopub.execute_input": "2023-05-02T02:57:41.443496Z",
     "iopub.status.busy": "2023-05-02T02:57:41.442437Z",
     "iopub.status.idle": "2023-05-02T02:57:41.730327Z",
     "shell.execute_reply": "2023-05-02T02:57:41.729338Z"
    }
   },
   "outputs": [],
   "source": [
    "mg0 = m.modelgrid\n",
    "\n",
    "# build a new modelgrid instance with discretization in meters\n",
    "modelgrid = flopy.discretization.StructuredGrid(\n",
    "    delc=mg0.delc * 0.3048,\n",
    "    delr=mg0.delr * 0.3048,\n",
    "    top=mg0.top,\n",
    "    botm=mg0.botm,\n",
    "    idomain=mg0.idomain,\n",
    "    xoff=mg0.xoffset * 0.3048,\n",
    "    yoff=mg0.yoffset * 0.3048,\n",
    ")\n",
    "\n",
    "# exporting an entire model\n",
    "m.export(\"{}/freyberg.shp\".format(outdir), modelgrid=modelgrid)"
   ]
  },
  {
   "cell_type": "markdown",
   "metadata": {},
   "source": [
    "And for a specific parameter the method is the same"
   ]
  },
  {
   "cell_type": "code",
   "execution_count": null,
   "metadata": {
    "execution": {
     "iopub.execute_input": "2023-05-02T02:57:41.734283Z",
     "iopub.status.busy": "2023-05-02T02:57:41.733550Z",
     "iopub.status.idle": "2023-05-02T02:57:41.913175Z",
     "shell.execute_reply": "2023-05-02T02:57:41.912057Z"
    }
   },
   "outputs": [],
   "source": [
    "fname = \"{}/hk.shp\".format(outdir)\n",
    "m.lpf.hk.export(fname, modelgrid=modelgrid)"
   ]
  },
  {
   "cell_type": "code",
   "execution_count": null,
   "metadata": {
    "execution": {
     "iopub.execute_input": "2023-05-02T02:57:41.916967Z",
     "iopub.status.busy": "2023-05-02T02:57:41.916263Z",
     "iopub.status.idle": "2023-05-02T02:57:42.456423Z",
     "shell.execute_reply": "2023-05-02T02:57:42.454963Z"
    }
   },
   "outputs": [],
   "source": [
    "ax = plt.subplot(1, 1, 1, aspect=\"equal\")\n",
    "extents = modelgrid.extent\n",
    "a = m.lpf.hk.array.ravel()\n",
    "pc = flopy.plot.plot_shapefile(fname, ax=ax, a=a)\n",
    "ax.set_xlim(extents[0], extents[1])\n",
    "ax.set_ylim(extents[2], extents[3])\n",
    "ax.set_title(fname);"
   ]
  },
  {
   "cell_type": "code",
   "execution_count": null,
   "metadata": {
    "execution": {
     "iopub.execute_input": "2023-05-02T02:57:42.460071Z",
     "iopub.status.busy": "2023-05-02T02:57:42.459704Z",
     "iopub.status.idle": "2023-05-02T02:57:42.493319Z",
     "shell.execute_reply": "2023-05-02T02:57:42.491473Z"
    }
   },
   "outputs": [],
   "source": [
    "try:\n",
    "    # ignore PermissionError on Windows\n",
    "    temp_dir.cleanup()\n",
    "except:\n",
    "    pass"
   ]
  }
 ],
 "metadata": {
  "kernelspec": {
   "display_name": "Python 3 (ipykernel)",
   "language": "python",
   "name": "python3"
  },
  "language_info": {
   "codemirror_mode": {
    "name": "ipython",
    "version": 3
   },
   "file_extension": ".py",
   "mimetype": "text/x-python",
   "name": "python",
   "nbconvert_exporter": "python",
   "pygments_lexer": "ipython3",
   "version": "3.11.0"
  }
 },
 "nbformat": 4,
 "nbformat_minor": 4
}
