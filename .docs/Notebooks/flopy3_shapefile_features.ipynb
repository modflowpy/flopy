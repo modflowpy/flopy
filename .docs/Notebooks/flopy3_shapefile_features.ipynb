{
 "cells": [
  {
   "attachments": {},
   "cell_type": "markdown",
   "metadata": {},
   "source": [
    "# Working with shapefiles\n",
    "\n",
    "This notebook shows some lower-level functionality in `flopy` for working with shapefiles\n",
    "including:\n",
    "* `recarray2shp` convience function for writing a numpy record array to a shapefile\n",
    "* `shp2recarray` convience function for quickly reading a shapefile into a numpy recarray\n",
    "* `utils.geometry` classes for writing shapefiles of model input/output. For example, quickly writing a shapefile of model cells with errors identified by the checker\n",
    "* examples of how the `Point` and `LineString` classes can be used to quickly plot pathlines and endpoints from MODPATH (these are also used by the `PathlineFile` and `EndpointFile` classes to write shapefiles of this output)"
   ]
  },
  {
   "cell_type": "code",
   "execution_count": null,
   "metadata": {
    "execution": {
     "iopub.execute_input": "2023-05-02T03:01:26.753983Z",
     "iopub.status.busy": "2023-05-02T03:01:26.753784Z",
     "iopub.status.idle": "2023-05-02T03:01:28.138478Z",
     "shell.execute_reply": "2023-05-02T03:01:28.137819Z"
    }
   },
   "outputs": [],
   "source": [
    "import os\n",
    "import sys\n",
    "import shutil\n",
    "from tempfile import TemporaryDirectory\n",
    "\n",
    "import numpy as np\n",
    "import matplotlib as mpl\n",
    "import matplotlib.pyplot as plt\n",
    "import warnings\n",
    "\n",
    "\n",
    "# run installed version of flopy or add local path\n",
    "try:\n",
    "    import flopy\n",
    "except:\n",
    "    fpth = os.path.abspath(os.path.join(\"..\", \"..\"))\n",
    "    sys.path.append(fpth)\n",
    "    import flopy\n",
    "\n",
    "from flopy.utils.geometry import Polygon, LineString, Point\n",
    "from flopy.export.shapefile_utils import recarray2shp, shp2recarray\n",
    "from flopy.utils.modpathfile import PathlineFile, EndpointFile\n",
    "from flopy.utils import geometry\n",
    "\n",
    "warnings.simplefilter(\"ignore\", UserWarning)\n",
    "print(sys.version)\n",
    "print(\"numpy version: {}\".format(np.__version__))\n",
    "print(\"matplotlib version: {}\".format(mpl.__version__))\n",
    "print(\"flopy version: {}\".format(flopy.__version__))"
   ]
  },
  {
   "cell_type": "markdown",
   "metadata": {},
   "source": [
    "### write a numpy record array to a shapefile\n",
    "in this case, we want to visualize output from the checker  \n",
    "first make a toy model"
   ]
  },
  {
   "cell_type": "code",
   "execution_count": null,
   "metadata": {
    "execution": {
     "iopub.execute_input": "2023-05-02T03:01:28.175294Z",
     "iopub.status.busy": "2023-05-02T03:01:28.174985Z",
     "iopub.status.idle": "2023-05-02T03:01:28.181584Z",
     "shell.execute_reply": "2023-05-02T03:01:28.180996Z"
    }
   },
   "outputs": [],
   "source": [
    "temp_dir = TemporaryDirectory()\n",
    "workspace = temp_dir.name\n",
    "\n",
    "m = flopy.modflow.Modflow(\"toy_model\", model_ws=workspace)\n",
    "botm = np.zeros((2, 10, 10))\n",
    "botm[0, :, :] = 1.5\n",
    "botm[1, 5, 5] = 4  # negative layer thickness!\n",
    "botm[1, 6, 6] = 4\n",
    "dis = flopy.modflow.ModflowDis(\n",
    "    nrow=10, ncol=10, nlay=2, delr=100, delc=100, top=3, botm=botm, model=m\n",
    ")"
   ]
  },
  {
   "cell_type": "markdown",
   "metadata": {},
   "source": [
    "### set coordinate information"
   ]
  },
  {
   "cell_type": "code",
   "execution_count": null,
   "metadata": {
    "execution": {
     "iopub.execute_input": "2023-05-02T03:01:28.183718Z",
     "iopub.status.busy": "2023-05-02T03:01:28.183511Z",
     "iopub.status.idle": "2023-05-02T03:01:28.254054Z",
     "shell.execute_reply": "2023-05-02T03:01:28.253456Z"
    }
   },
   "outputs": [],
   "source": [
    "grid = m.modelgrid\n",
    "grid.set_coord_info(xoff=600000, yoff=5170000, crs=\"EPSG:26715\", angrot=45)"
   ]
  },
  {
   "cell_type": "code",
   "execution_count": null,
   "metadata": {
    "execution": {
     "iopub.execute_input": "2023-05-02T03:01:28.256411Z",
     "iopub.status.busy": "2023-05-02T03:01:28.256177Z",
     "iopub.status.idle": "2023-05-02T03:01:28.270122Z",
     "shell.execute_reply": "2023-05-02T03:01:28.269532Z"
    }
   },
   "outputs": [],
   "source": [
    "chk = dis.check()\n",
    "chk.summary_array"
   ]
  },
  {
   "cell_type": "markdown",
   "metadata": {},
   "source": [
    "### make geometry objects for the cells with errors  \n",
    "*  geometry objects allow the shapefile writer to be simpler and agnostic about the kind of geometry"
   ]
  },
  {
   "cell_type": "code",
   "execution_count": null,
   "metadata": {
    "execution": {
     "iopub.execute_input": "2023-05-02T03:01:28.272149Z",
     "iopub.status.busy": "2023-05-02T03:01:28.271937Z",
     "iopub.status.idle": "2023-05-02T03:01:28.279114Z",
     "shell.execute_reply": "2023-05-02T03:01:28.278621Z"
    }
   },
   "outputs": [],
   "source": [
    "get_vertices = (\n",
    "    m.modelgrid.get_cell_vertices\n",
    ")  # function to get the referenced vertices for a model cell\n",
    "geoms = [Polygon(get_vertices(i, j)) for i, j in chk.summary_array[[\"i\", \"j\"]]]"
   ]
  },
  {
   "cell_type": "code",
   "execution_count": null,
   "metadata": {
    "execution": {
     "iopub.execute_input": "2023-05-02T03:01:28.281167Z",
     "iopub.status.busy": "2023-05-02T03:01:28.280969Z",
     "iopub.status.idle": "2023-05-02T03:01:28.284348Z",
     "shell.execute_reply": "2023-05-02T03:01:28.283877Z"
    }
   },
   "outputs": [],
   "source": [
    "geoms[0].type"
   ]
  },
  {
   "cell_type": "code",
   "execution_count": null,
   "metadata": {
    "execution": {
     "iopub.execute_input": "2023-05-02T03:01:28.286311Z",
     "iopub.status.busy": "2023-05-02T03:01:28.286134Z",
     "iopub.status.idle": "2023-05-02T03:01:28.289497Z",
     "shell.execute_reply": "2023-05-02T03:01:28.289047Z"
    }
   },
   "outputs": [],
   "source": [
    "geoms[0].exterior"
   ]
  },
  {
   "cell_type": "code",
   "execution_count": null,
   "metadata": {
    "execution": {
     "iopub.execute_input": "2023-05-02T03:01:28.291310Z",
     "iopub.status.busy": "2023-05-02T03:01:28.291108Z",
     "iopub.status.idle": "2023-05-02T03:01:28.294491Z",
     "shell.execute_reply": "2023-05-02T03:01:28.294018Z"
    }
   },
   "outputs": [],
   "source": [
    "geoms[0].bounds"
   ]
  },
  {
   "cell_type": "code",
   "execution_count": null,
   "metadata": {
    "execution": {
     "iopub.execute_input": "2023-05-02T03:01:28.296302Z",
     "iopub.status.busy": "2023-05-02T03:01:28.296114Z",
     "iopub.status.idle": "2023-05-02T03:01:28.500856Z",
     "shell.execute_reply": "2023-05-02T03:01:28.500082Z"
    }
   },
   "outputs": [],
   "source": [
    "geoms[0].plot()  # this feature requires descartes"
   ]
  },
  {
   "cell_type": "markdown",
   "metadata": {},
   "source": [
    "### write the shapefile  \n",
    "* the projection (.prj) file can be written using an epsg code  \n",
    "* or copied from an existing .prj file"
   ]
  },
  {
   "cell_type": "code",
   "execution_count": null,
   "metadata": {
    "execution": {
     "iopub.execute_input": "2023-05-02T03:01:28.503553Z",
     "iopub.status.busy": "2023-05-02T03:01:28.503314Z",
     "iopub.status.idle": "2023-05-02T03:01:28.525963Z",
     "shell.execute_reply": "2023-05-02T03:01:28.525295Z"
    }
   },
   "outputs": [],
   "source": [
    "from pathlib import Path\n",
    "\n",
    "recarray2shp(\n",
    "    chk.summary_array, geoms, os.path.join(workspace, \"test.shp\"), crs=26715\n",
    ")\n",
    "shape_path = os.path.join(workspace, \"test.prj\")"
   ]
  },
  {
   "cell_type": "code",
   "execution_count": null,
   "metadata": {
    "execution": {
     "iopub.execute_input": "2023-05-02T03:01:28.528557Z",
     "iopub.status.busy": "2023-05-02T03:01:28.528320Z",
     "iopub.status.idle": "2023-05-02T03:01:28.552299Z",
     "shell.execute_reply": "2023-05-02T03:01:28.551805Z"
    },
    "pycharm": {
     "name": "#%%\n"
    }
   },
   "outputs": [],
   "source": [
    "shutil.copy(shape_path, os.path.join(workspace, \"26715.prj\"))\n",
    "recarray2shp(\n",
    "    chk.summary_array,\n",
    "    geoms,\n",
    "    os.path.join(workspace, \"test.shp\"),\n",
    "    prjfile=os.path.join(workspace, \"26715.prj\"),\n",
    ")"
   ]
  },
  {
   "cell_type": "markdown",
   "metadata": {},
   "source": [
    "### read it back in\n",
    "* flopy geometry objects representing the shapes are stored in the 'geometry' field"
   ]
  },
  {
   "cell_type": "code",
   "execution_count": null,
   "metadata": {
    "execution": {
     "iopub.execute_input": "2023-05-02T03:01:28.554366Z",
     "iopub.status.busy": "2023-05-02T03:01:28.554154Z",
     "iopub.status.idle": "2023-05-02T03:01:28.574008Z",
     "shell.execute_reply": "2023-05-02T03:01:28.573359Z"
    },
    "pycharm": {
     "name": "#%%\n"
    }
   },
   "outputs": [],
   "source": [
    "ra = shp2recarray(os.path.join(workspace, \"test.shp\"))\n",
    "ra"
   ]
  },
  {
   "cell_type": "code",
   "execution_count": null,
   "metadata": {
    "execution": {
     "iopub.execute_input": "2023-05-02T03:01:28.576141Z",
     "iopub.status.busy": "2023-05-02T03:01:28.575916Z",
     "iopub.status.idle": "2023-05-02T03:01:28.726275Z",
     "shell.execute_reply": "2023-05-02T03:01:28.725612Z"
    },
    "pycharm": {
     "name": "#%%\n"
    }
   },
   "outputs": [],
   "source": [
    "ra.geometry[0].plot()"
   ]
  },
  {
   "cell_type": "markdown",
   "metadata": {},
   "source": [
    "## Other geometry types\n",
    "\n",
    "### Linestring  \n",
    "* create geometry objects for pathlines from a MODPATH simulation\n",
    "* plot the paths using the built in plotting method"
   ]
  },
  {
   "cell_type": "code",
   "execution_count": null,
   "metadata": {
    "execution": {
     "iopub.execute_input": "2023-05-02T03:01:28.729056Z",
     "iopub.status.busy": "2023-05-02T03:01:28.728783Z",
     "iopub.status.idle": "2023-05-02T03:01:28.743353Z",
     "shell.execute_reply": "2023-05-02T03:01:28.742715Z"
    }
   },
   "outputs": [],
   "source": [
    "pthfile = PathlineFile(\"../../examples/data/mp6/EXAMPLE-3.pathline\")\n",
    "pthdata = pthfile._data.view(np.recarray)"
   ]
  },
  {
   "cell_type": "code",
   "execution_count": null,
   "metadata": {
    "execution": {
     "iopub.execute_input": "2023-05-02T03:01:28.746001Z",
     "iopub.status.busy": "2023-05-02T03:01:28.745756Z",
     "iopub.status.idle": "2023-05-02T03:01:28.754738Z",
     "shell.execute_reply": "2023-05-02T03:01:28.754123Z"
    }
   },
   "outputs": [],
   "source": [
    "length_mult = 1.0  # multiplier to convert coordinates from model to real world\n",
    "rot = 0  # grid rotation\n",
    "\n",
    "particles = np.unique(pthdata.particleid)\n",
    "geoms = []\n",
    "for pid in particles:\n",
    "    ra = pthdata[pthdata.particleid == pid]\n",
    "\n",
    "    x, y = geometry.rotate(\n",
    "        ra.x * length_mult, ra.y * length_mult, grid.xoffset, grid.yoffset, rot\n",
    "    )\n",
    "    z = ra.z\n",
    "    geoms.append(LineString(list(zip(x, y, z))))"
   ]
  },
  {
   "cell_type": "code",
   "execution_count": null,
   "metadata": {
    "execution": {
     "iopub.execute_input": "2023-05-02T03:01:28.757163Z",
     "iopub.status.busy": "2023-05-02T03:01:28.756924Z",
     "iopub.status.idle": "2023-05-02T03:01:28.761444Z",
     "shell.execute_reply": "2023-05-02T03:01:28.760714Z"
    }
   },
   "outputs": [],
   "source": [
    "geoms[0]"
   ]
  },
  {
   "cell_type": "code",
   "execution_count": null,
   "metadata": {
    "execution": {
     "iopub.execute_input": "2023-05-02T03:01:28.763814Z",
     "iopub.status.busy": "2023-05-02T03:01:28.763588Z",
     "iopub.status.idle": "2023-05-02T03:01:28.915669Z",
     "shell.execute_reply": "2023-05-02T03:01:28.914899Z"
    }
   },
   "outputs": [],
   "source": [
    "geoms[0].plot()"
   ]
  },
  {
   "cell_type": "code",
   "execution_count": null,
   "metadata": {
    "execution": {
     "iopub.execute_input": "2023-05-02T03:01:28.918368Z",
     "iopub.status.busy": "2023-05-02T03:01:28.917957Z",
     "iopub.status.idle": "2023-05-02T03:01:29.070753Z",
     "shell.execute_reply": "2023-05-02T03:01:29.070046Z"
    },
    "tags": [
     "nbsphinx-thumbnail"
    ]
   },
   "outputs": [],
   "source": [
    "fig, ax = plt.subplots()\n",
    "for g in geoms:\n",
    "    g.plot(ax=ax)\n",
    "ax.autoscale()\n",
    "ax.set_aspect(1)"
   ]
  },
  {
   "cell_type": "markdown",
   "metadata": {},
   "source": [
    "## Points"
   ]
  },
  {
   "cell_type": "code",
   "execution_count": null,
   "metadata": {
    "execution": {
     "iopub.execute_input": "2023-05-02T03:01:29.073405Z",
     "iopub.status.busy": "2023-05-02T03:01:29.073172Z",
     "iopub.status.idle": "2023-05-02T03:01:29.086328Z",
     "shell.execute_reply": "2023-05-02T03:01:29.085579Z"
    }
   },
   "outputs": [],
   "source": [
    "eptfile = EndpointFile(\"../../examples/data/mp6/EXAMPLE-3.endpoint\")\n",
    "eptdata = eptfile.get_alldata()"
   ]
  },
  {
   "cell_type": "code",
   "execution_count": null,
   "metadata": {
    "execution": {
     "iopub.execute_input": "2023-05-02T03:01:29.089090Z",
     "iopub.status.busy": "2023-05-02T03:01:29.088836Z",
     "iopub.status.idle": "2023-05-02T03:01:29.093130Z",
     "shell.execute_reply": "2023-05-02T03:01:29.092534Z"
    }
   },
   "outputs": [],
   "source": [
    "x, y = geometry.rotate(\n",
    "    eptdata[\"x0\"] * length_mult,\n",
    "    eptdata[\"y0\"] * length_mult,\n",
    "    grid.xoffset,\n",
    "    grid.yoffset,\n",
    "    rot,\n",
    ")\n",
    "z = eptdata[\"z0\"]\n",
    "\n",
    "geoms = [Point(x[i], y[i], z[i]) for i in range(len(eptdata))]"
   ]
  },
  {
   "cell_type": "code",
   "execution_count": null,
   "metadata": {
    "execution": {
     "iopub.execute_input": "2023-05-02T03:01:29.095523Z",
     "iopub.status.busy": "2023-05-02T03:01:29.095278Z",
     "iopub.status.idle": "2023-05-02T03:01:29.473303Z",
     "shell.execute_reply": "2023-05-02T03:01:29.472793Z"
    }
   },
   "outputs": [],
   "source": [
    "fig, ax = plt.subplots()\n",
    "for g in geoms:\n",
    "    g.plot(ax=ax)\n",
    "ax.autoscale()\n",
    "ax.set_aspect(2e-6)"
   ]
  },
  {
   "cell_type": "code",
   "execution_count": null,
   "metadata": {
    "execution": {
     "iopub.execute_input": "2023-05-02T03:01:29.475385Z",
     "iopub.status.busy": "2023-05-02T03:01:29.475164Z",
     "iopub.status.idle": "2023-05-02T03:01:29.479442Z",
     "shell.execute_reply": "2023-05-02T03:01:29.479018Z"
    },
    "pycharm": {
     "name": "#%%\n"
    }
   },
   "outputs": [],
   "source": [
    "try:\n",
    "    # ignore PermissionError on Windows\n",
    "    temp_dir.cleanup()\n",
    "except:\n",
    "    pass"
   ]
  }
 ],
 "metadata": {
  "anaconda-cloud": {},
  "kernelspec": {
   "display_name": "Python 3 (ipykernel)",
   "language": "python",
   "name": "python3"
  },
  "language_info": {
   "codemirror_mode": {
    "name": "ipython",
    "version": 3
   },
   "file_extension": ".py",
   "mimetype": "text/x-python",
   "name": "python",
   "nbconvert_exporter": "python",
   "pygments_lexer": "ipython3",
   "version": "3.11.0"
  }
 },
 "nbformat": 4,
 "nbformat_minor": 4
}
