{
 "cells": [
  {
   "attachments": {},
   "cell_type": "markdown",
   "metadata": {},
   "source": [
    "# Working with shapefiles\n",
    "\n",
    "This notebook shows some lower-level functionality in `flopy` for working with shapefiles\n",
    "including:\n",
    "* `recarray2shp` convience function for writing a numpy record array to a shapefile\n",
    "* `shp2recarray` convience function for quickly reading a shapefile into a numpy recarray\n",
    "* `utils.geometry` classes for writing shapefiles of model input/output. For example, quickly writing a shapefile of model cells with errors identified by the checker\n",
    "* demonstration of how the `EpsgReference` class works for retrieving projection file information (WKT text) from spatialreference.org, and caching that information locally for when an internet connection isn't available\n",
    "* how to reset `EpsgReference` if it becomes corrupted\n",
    "* examples of how the `Point` and `LineString` classes can be used to quickly plot pathlines and endpoints from MODPATH (these are also used by the `PathlineFile` and `EndpointFile` classes to write shapefiles of this output)"
   ]
  },
  {
   "cell_type": "code",
   "execution_count": null,
   "metadata": {
    "execution": {
     "iopub.execute_input": "2023-02-22T02:44:53.913251Z",
     "iopub.status.busy": "2023-02-22T02:44:53.912501Z",
     "iopub.status.idle": "2023-02-22T02:44:54.632072Z",
     "shell.execute_reply": "2023-02-22T02:44:54.631476Z"
    }
   },
   "outputs": [],
   "source": [
    "import os\n",
    "import sys\n",
    "import shutil\n",
    "from tempfile import TemporaryDirectory\n",
    "\n",
    "import numpy as np\n",
    "import matplotlib as mpl\n",
    "import matplotlib.pyplot as plt\n",
    "import warnings\n",
    "\n",
    "\n",
    "# run installed version of flopy or add local path\n",
    "try:\n",
    "    import flopy\n",
    "except:\n",
    "    fpth = os.path.abspath(os.path.join(\"..\", \"..\"))\n",
    "    sys.path.append(fpth)\n",
    "    import flopy\n",
    "\n",
    "from flopy.utils.geometry import Polygon, LineString, Point\n",
    "from flopy.export.shapefile_utils import recarray2shp, shp2recarray\n",
    "from flopy.utils.modpathfile import PathlineFile, EndpointFile\n",
    "from flopy.utils import geometry\n",
    "\n",
    "warnings.simplefilter(\"ignore\", UserWarning)\n",
    "print(sys.version)\n",
    "print(\"numpy version: {}\".format(np.__version__))\n",
    "print(\"matplotlib version: {}\".format(mpl.__version__))\n",
    "print(\"flopy version: {}\".format(flopy.__version__))"
   ]
  },
  {
   "cell_type": "markdown",
   "metadata": {},
   "source": [
    "### write a numpy record array to a shapefile\n",
    "in this case, we want to visualize output from the checker  \n",
    "first make a toy model"
   ]
  },
  {
   "cell_type": "code",
   "execution_count": null,
   "metadata": {
    "execution": {
     "iopub.execute_input": "2023-02-22T02:44:54.719139Z",
     "iopub.status.busy": "2023-02-22T02:44:54.718726Z",
     "iopub.status.idle": "2023-02-22T02:44:54.726439Z",
     "shell.execute_reply": "2023-02-22T02:44:54.725749Z"
    }
   },
   "outputs": [],
   "source": [
    "temp_dir = TemporaryDirectory()\n",
    "workspace = temp_dir.name\n",
    "\n",
    "m = flopy.modflow.Modflow(\"toy_model\", model_ws=workspace)\n",
    "botm = np.zeros((2, 10, 10))\n",
    "botm[0, :, :] = 1.5\n",
    "botm[1, 5, 5] = 4  # negative layer thickness!\n",
    "botm[1, 6, 6] = 4\n",
    "dis = flopy.modflow.ModflowDis(\n",
    "    nrow=10, ncol=10, nlay=2, delr=100, delc=100, top=3, botm=botm, model=m\n",
    ")"
   ]
  },
  {
   "cell_type": "markdown",
   "metadata": {},
   "source": [
    "### set coordinate information"
   ]
  },
  {
   "cell_type": "code",
   "execution_count": null,
   "metadata": {
    "execution": {
     "iopub.execute_input": "2023-02-22T02:44:54.748809Z",
     "iopub.status.busy": "2023-02-22T02:44:54.747989Z",
     "iopub.status.idle": "2023-02-22T02:44:54.753101Z",
     "shell.execute_reply": "2023-02-22T02:44:54.752176Z"
    }
   },
   "outputs": [],
   "source": [
    "grid = m.modelgrid\n",
    "grid.set_coord_info(xoff=600000, yoff=5170000, proj4=\"EPSG:26715\", angrot=45)"
   ]
  },
  {
   "cell_type": "code",
   "execution_count": null,
   "metadata": {
    "execution": {
     "iopub.execute_input": "2023-02-22T02:44:54.759722Z",
     "iopub.status.busy": "2023-02-22T02:44:54.759055Z",
     "iopub.status.idle": "2023-02-22T02:44:54.771245Z",
     "shell.execute_reply": "2023-02-22T02:44:54.770557Z"
    }
   },
   "outputs": [],
   "source": [
    "chk = dis.check()\n",
    "chk.summary_array"
   ]
  },
  {
   "cell_type": "markdown",
   "metadata": {},
   "source": [
    "### make geometry objects for the cells with errors  \n",
    "*  geometry objects allow the shapefile writer to be simpler and agnostic about the kind of geometry"
   ]
  },
  {
   "cell_type": "code",
   "execution_count": null,
   "metadata": {
    "execution": {
     "iopub.execute_input": "2023-02-22T02:44:54.775093Z",
     "iopub.status.busy": "2023-02-22T02:44:54.774555Z",
     "iopub.status.idle": "2023-02-22T02:44:54.779893Z",
     "shell.execute_reply": "2023-02-22T02:44:54.779059Z"
    }
   },
   "outputs": [],
   "source": [
    "get_vertices = (\n",
    "    m.modelgrid.get_cell_vertices\n",
    ")  # function to get the referenced vertices for a model cell\n",
    "geoms = [Polygon(get_vertices(i, j)) for i, j in chk.summary_array[[\"i\", \"j\"]]]"
   ]
  },
  {
   "cell_type": "code",
   "execution_count": null,
   "metadata": {
    "execution": {
     "iopub.execute_input": "2023-02-22T02:44:54.783708Z",
     "iopub.status.busy": "2023-02-22T02:44:54.783073Z",
     "iopub.status.idle": "2023-02-22T02:44:54.788284Z",
     "shell.execute_reply": "2023-02-22T02:44:54.787534Z"
    }
   },
   "outputs": [],
   "source": [
    "geoms[0].type"
   ]
  },
  {
   "cell_type": "code",
   "execution_count": null,
   "metadata": {
    "execution": {
     "iopub.execute_input": "2023-02-22T02:44:54.791924Z",
     "iopub.status.busy": "2023-02-22T02:44:54.791352Z",
     "iopub.status.idle": "2023-02-22T02:44:54.796726Z",
     "shell.execute_reply": "2023-02-22T02:44:54.795950Z"
    }
   },
   "outputs": [],
   "source": [
    "geoms[0].exterior"
   ]
  },
  {
   "cell_type": "code",
   "execution_count": null,
   "metadata": {
    "execution": {
     "iopub.execute_input": "2023-02-22T02:44:54.800449Z",
     "iopub.status.busy": "2023-02-22T02:44:54.799845Z",
     "iopub.status.idle": "2023-02-22T02:44:54.805093Z",
     "shell.execute_reply": "2023-02-22T02:44:54.804353Z"
    }
   },
   "outputs": [],
   "source": [
    "geoms[0].bounds"
   ]
  },
  {
   "cell_type": "code",
   "execution_count": null,
   "metadata": {
    "execution": {
     "iopub.execute_input": "2023-02-22T02:44:54.808882Z",
     "iopub.status.busy": "2023-02-22T02:44:54.808310Z",
     "iopub.status.idle": "2023-02-22T02:44:55.003248Z",
     "shell.execute_reply": "2023-02-22T02:44:55.002654Z"
    }
   },
   "outputs": [],
   "source": [
    "geoms[0].plot()  # this feature requires descartes"
   ]
  },
  {
   "cell_type": "markdown",
   "metadata": {},
   "source": [
    "### write the shapefile  \n",
    "* the projection (.prj) file can be written using an epsg code  \n",
    "* or copied from an existing .prj file"
   ]
  },
  {
   "cell_type": "code",
   "execution_count": null,
   "metadata": {
    "execution": {
     "iopub.execute_input": "2023-02-22T02:44:55.007129Z",
     "iopub.status.busy": "2023-02-22T02:44:55.006682Z",
     "iopub.status.idle": "2023-02-22T02:44:55.013186Z",
     "shell.execute_reply": "2023-02-22T02:44:55.012542Z"
    }
   },
   "outputs": [],
   "source": [
    "from pathlib import Path\n",
    "\n",
    "recarray2shp(\n",
    "    chk.summary_array, geoms, os.path.join(workspace, \"test.shp\"), epsg=26715\n",
    ")\n",
    "shape_path = os.path.join(workspace, \"test.prj\")\n",
    "\n",
    "# if [spatialreference.org](https://spatialreference.org/) can't be reached,\n",
    "# shapefile won't exist and we should skip any subsequent dependent cells\n",
    "skip = not Path(shape_path).is_file()\n",
    "if skip:\n",
    "    from warnings import warn\n",
    "\n",
    "    warn(\"Failed to connect to spatialreference.org, skipping\")"
   ]
  },
  {
   "cell_type": "code",
   "execution_count": null,
   "metadata": {
    "execution": {
     "iopub.execute_input": "2023-02-22T02:44:55.016867Z",
     "iopub.status.busy": "2023-02-22T02:44:55.016503Z",
     "iopub.status.idle": "2023-02-22T02:44:55.021239Z",
     "shell.execute_reply": "2023-02-22T02:44:55.020645Z"
    },
    "pycharm": {
     "name": "#%%\n"
    }
   },
   "outputs": [],
   "source": [
    "if not skip:\n",
    "    shutil.copy(shape_path, os.path.join(workspace, \"26715.prj\"))\n",
    "    recarray2shp(\n",
    "        chk.summary_array,\n",
    "        geoms,\n",
    "        os.path.join(workspace, \"test.shp\"),\n",
    "        prj=os.path.join(workspace, \"26715.prj\"),\n",
    "    )"
   ]
  },
  {
   "cell_type": "markdown",
   "metadata": {},
   "source": [
    "### read it back in\n",
    "* flopy geometry objects representing the shapes are stored in the 'geometry' field"
   ]
  },
  {
   "cell_type": "code",
   "execution_count": null,
   "metadata": {
    "execution": {
     "iopub.execute_input": "2023-02-22T02:44:55.024552Z",
     "iopub.status.busy": "2023-02-22T02:44:55.024356Z",
     "iopub.status.idle": "2023-02-22T02:44:55.028166Z",
     "shell.execute_reply": "2023-02-22T02:44:55.027595Z"
    },
    "pycharm": {
     "name": "#%%\n"
    }
   },
   "outputs": [],
   "source": [
    "if not skip:\n",
    "    ra = shp2recarray(os.path.join(workspace, \"test.shp\"))\n",
    "    ra"
   ]
  },
  {
   "cell_type": "code",
   "execution_count": null,
   "metadata": {
    "execution": {
     "iopub.execute_input": "2023-02-22T02:44:55.031852Z",
     "iopub.status.busy": "2023-02-22T02:44:55.031538Z",
     "iopub.status.idle": "2023-02-22T02:44:55.161829Z",
     "shell.execute_reply": "2023-02-22T02:44:55.161080Z"
    },
    "pycharm": {
     "name": "#%%\n"
    }
   },
   "outputs": [],
   "source": [
    "if not skip:\n",
    "    ra.geometry[0].plot()"
   ]
  },
  {
   "cell_type": "markdown",
   "metadata": {},
   "source": [
    "### How the epsg feature works  \n",
    "* requires an internet connection the first time to get the prj text from [spatialreference.org](https://spatialreference.org/) using ```requests```  \n",
    "* if it doesn't exist, ```epsgref.json``` is created in the user's data directory\n",
    "* the prj text is then stashed in this JSON file hashed by the EPSG numeric code"
   ]
  },
  {
   "cell_type": "code",
   "execution_count": null,
   "metadata": {
    "execution": {
     "iopub.execute_input": "2023-02-22T02:44:55.165963Z",
     "iopub.status.busy": "2023-02-22T02:44:55.165184Z",
     "iopub.status.idle": "2023-02-22T02:44:55.170376Z",
     "shell.execute_reply": "2023-02-22T02:44:55.169477Z"
    }
   },
   "outputs": [],
   "source": [
    "from flopy.export.shapefile_utils import EpsgReference\n",
    "\n",
    "if not skip:\n",
    "    ep = EpsgReference()\n",
    "    prj = ep.to_dict()\n",
    "    prj"
   ]
  },
  {
   "cell_type": "code",
   "execution_count": null,
   "metadata": {
    "execution": {
     "iopub.execute_input": "2023-02-22T02:44:55.174251Z",
     "iopub.status.busy": "2023-02-22T02:44:55.173639Z",
     "iopub.status.idle": "2023-02-22T02:44:55.177454Z",
     "shell.execute_reply": "2023-02-22T02:44:55.176739Z"
    }
   },
   "outputs": [],
   "source": [
    "from flopy.export.shapefile_utils import CRS, EpsgReference"
   ]
  },
  {
   "cell_type": "code",
   "execution_count": null,
   "metadata": {
    "execution": {
     "iopub.execute_input": "2023-02-22T02:44:55.181001Z",
     "iopub.status.busy": "2023-02-22T02:44:55.180582Z",
     "iopub.status.idle": "2023-02-22T02:44:55.186573Z",
     "shell.execute_reply": "2023-02-22T02:44:55.185794Z"
    }
   },
   "outputs": [],
   "source": [
    "if not skip:\n",
    "    CRS.getprj(4326)\n",
    "\n",
    "    prj = ep.to_dict()\n",
    "    for k, v in prj.items():\n",
    "        print(\"{}:\\n{}\\n\".format(k, v))"
   ]
  },
  {
   "cell_type": "markdown",
   "metadata": {},
   "source": [
    "### working with the ```flopy.export.shapefile_utils.EpsgReference``` handler"
   ]
  },
  {
   "cell_type": "code",
   "execution_count": null,
   "metadata": {
    "execution": {
     "iopub.execute_input": "2023-02-22T02:44:55.190359Z",
     "iopub.status.busy": "2023-02-22T02:44:55.189761Z",
     "iopub.status.idle": "2023-02-22T02:44:55.195162Z",
     "shell.execute_reply": "2023-02-22T02:44:55.194322Z"
    }
   },
   "outputs": [],
   "source": [
    "ep = EpsgReference()\n",
    "\n",
    "if not skip:\n",
    "    ep.add(9999, \"junk\")\n",
    "    EpsgReference.show()"
   ]
  },
  {
   "cell_type": "markdown",
   "metadata": {},
   "source": [
    "#### remove an entry"
   ]
  },
  {
   "cell_type": "code",
   "execution_count": null,
   "metadata": {
    "execution": {
     "iopub.execute_input": "2023-02-22T02:44:55.199492Z",
     "iopub.status.busy": "2023-02-22T02:44:55.199011Z",
     "iopub.status.idle": "2023-02-22T02:44:55.203793Z",
     "shell.execute_reply": "2023-02-22T02:44:55.202996Z"
    }
   },
   "outputs": [],
   "source": [
    "if not skip:\n",
    "    ep.remove(9999)\n",
    "    EpsgReference.show()"
   ]
  },
  {
   "cell_type": "markdown",
   "metadata": {},
   "source": [
    "#### start over with a new file"
   ]
  },
  {
   "cell_type": "code",
   "execution_count": null,
   "metadata": {
    "execution": {
     "iopub.execute_input": "2023-02-22T02:44:55.207813Z",
     "iopub.status.busy": "2023-02-22T02:44:55.207246Z",
     "iopub.status.idle": "2023-02-22T02:44:55.212291Z",
     "shell.execute_reply": "2023-02-22T02:44:55.211450Z"
    }
   },
   "outputs": [],
   "source": [
    "if not skip:\n",
    "    ep.reset()\n",
    "    prj = ep.to_dict()\n",
    "    prj"
   ]
  },
  {
   "cell_type": "markdown",
   "metadata": {},
   "source": [
    "## Other geometry types\n",
    "\n",
    "### Linestring  \n",
    "* create geometry objects for pathlines from a MODPATH simulation\n",
    "* plot the paths using the built in plotting method"
   ]
  },
  {
   "cell_type": "code",
   "execution_count": null,
   "metadata": {
    "execution": {
     "iopub.execute_input": "2023-02-22T02:44:55.216552Z",
     "iopub.status.busy": "2023-02-22T02:44:55.216174Z",
     "iopub.status.idle": "2023-02-22T02:44:55.229530Z",
     "shell.execute_reply": "2023-02-22T02:44:55.228680Z"
    }
   },
   "outputs": [],
   "source": [
    "pthfile = PathlineFile(\"../../../examples/data/mp6/EXAMPLE-3.pathline\")\n",
    "pthdata = pthfile._data.view(np.recarray)"
   ]
  },
  {
   "cell_type": "code",
   "execution_count": null,
   "metadata": {
    "execution": {
     "iopub.execute_input": "2023-02-22T02:44:55.233607Z",
     "iopub.status.busy": "2023-02-22T02:44:55.233220Z",
     "iopub.status.idle": "2023-02-22T02:44:55.243145Z",
     "shell.execute_reply": "2023-02-22T02:44:55.242377Z"
    }
   },
   "outputs": [],
   "source": [
    "length_mult = 1.0  # multiplier to convert coordinates from model to real world\n",
    "rot = 0  # grid rotation\n",
    "\n",
    "particles = np.unique(pthdata.particleid)\n",
    "geoms = []\n",
    "for pid in particles:\n",
    "    ra = pthdata[pthdata.particleid == pid]\n",
    "\n",
    "    x, y = geometry.rotate(\n",
    "        ra.x * length_mult, ra.y * length_mult, grid.xoffset, grid.yoffset, rot\n",
    "    )\n",
    "    z = ra.z\n",
    "    geoms.append(LineString(list(zip(x, y, z))))"
   ]
  },
  {
   "cell_type": "code",
   "execution_count": null,
   "metadata": {
    "execution": {
     "iopub.execute_input": "2023-02-22T02:44:55.247030Z",
     "iopub.status.busy": "2023-02-22T02:44:55.246604Z",
     "iopub.status.idle": "2023-02-22T02:44:55.252676Z",
     "shell.execute_reply": "2023-02-22T02:44:55.251732Z"
    }
   },
   "outputs": [],
   "source": [
    "geoms[0]"
   ]
  },
  {
   "cell_type": "code",
   "execution_count": null,
   "metadata": {
    "execution": {
     "iopub.execute_input": "2023-02-22T02:44:55.256945Z",
     "iopub.status.busy": "2023-02-22T02:44:55.256381Z",
     "iopub.status.idle": "2023-02-22T02:44:55.416397Z",
     "shell.execute_reply": "2023-02-22T02:44:55.415702Z"
    }
   },
   "outputs": [],
   "source": [
    "geoms[0].plot()"
   ]
  },
  {
   "cell_type": "code",
   "execution_count": null,
   "metadata": {
    "execution": {
     "iopub.execute_input": "2023-02-22T02:44:55.420046Z",
     "iopub.status.busy": "2023-02-22T02:44:55.419449Z",
     "iopub.status.idle": "2023-02-22T02:44:55.557818Z",
     "shell.execute_reply": "2023-02-22T02:44:55.557215Z"
    }
   },
   "outputs": [],
   "source": [
    "fig, ax = plt.subplots()\n",
    "for g in geoms:\n",
    "    g.plot(ax=ax)\n",
    "ax.autoscale()\n",
    "ax.set_aspect(1)"
   ]
  },
  {
   "cell_type": "markdown",
   "metadata": {},
   "source": [
    "## Points"
   ]
  },
  {
   "cell_type": "code",
   "execution_count": null,
   "metadata": {
    "execution": {
     "iopub.execute_input": "2023-02-22T02:44:55.561764Z",
     "iopub.status.busy": "2023-02-22T02:44:55.561189Z",
     "iopub.status.idle": "2023-02-22T02:44:55.571040Z",
     "shell.execute_reply": "2023-02-22T02:44:55.570411Z"
    }
   },
   "outputs": [],
   "source": [
    "eptfile = EndpointFile(\"../../../examples/data/mp6/EXAMPLE-3.endpoint\")\n",
    "eptdata = eptfile.get_alldata()"
   ]
  },
  {
   "cell_type": "code",
   "execution_count": null,
   "metadata": {
    "execution": {
     "iopub.execute_input": "2023-02-22T02:44:55.574408Z",
     "iopub.status.busy": "2023-02-22T02:44:55.574041Z",
     "iopub.status.idle": "2023-02-22T02:44:55.578038Z",
     "shell.execute_reply": "2023-02-22T02:44:55.577457Z"
    }
   },
   "outputs": [],
   "source": [
    "x, y = geometry.rotate(\n",
    "    eptdata[\"x0\"] * length_mult,\n",
    "    eptdata[\"y0\"] * length_mult,\n",
    "    grid.xoffset,\n",
    "    grid.yoffset,\n",
    "    rot,\n",
    ")\n",
    "z = eptdata[\"z0\"]\n",
    "\n",
    "geoms = [Point(x[i], y[i], z[i]) for i in range(len(eptdata))]"
   ]
  },
  {
   "cell_type": "code",
   "execution_count": null,
   "metadata": {
    "execution": {
     "iopub.execute_input": "2023-02-22T02:44:55.581030Z",
     "iopub.status.busy": "2023-02-22T02:44:55.580725Z",
     "iopub.status.idle": "2023-02-22T02:44:55.925929Z",
     "shell.execute_reply": "2023-02-22T02:44:55.925338Z"
    }
   },
   "outputs": [],
   "source": [
    "fig, ax = plt.subplots()\n",
    "for g in geoms:\n",
    "    g.plot(ax=ax)\n",
    "ax.autoscale()\n",
    "ax.set_aspect(2e-6)"
   ]
  },
  {
   "cell_type": "code",
   "execution_count": null,
   "metadata": {
    "execution": {
     "iopub.execute_input": "2023-02-22T02:44:55.929290Z",
     "iopub.status.busy": "2023-02-22T02:44:55.928670Z",
     "iopub.status.idle": "2023-02-22T02:44:55.933014Z",
     "shell.execute_reply": "2023-02-22T02:44:55.932264Z"
    },
    "pycharm": {
     "name": "#%%\n"
    }
   },
   "outputs": [],
   "source": [
    "try:\n",
    "    # ignore PermissionError on Windows\n",
    "    temp_dir.cleanup()\n",
    "except:\n",
    "    pass"
   ]
  }
 ],
 "metadata": {
  "anaconda-cloud": {},
  "kernelspec": {
   "display_name": "Python 3 (ipykernel)",
   "language": "python",
   "name": "python3"
  },
  "language_info": {
   "codemirror_mode": {
    "name": "ipython",
    "version": 3
   },
   "file_extension": ".py",
   "mimetype": "text/x-python",
   "name": "python",
   "nbconvert_exporter": "python",
   "pygments_lexer": "ipython3",
   "version": "3.10.6"
  }
 },
 "nbformat": 4,
 "nbformat_minor": 4
}
