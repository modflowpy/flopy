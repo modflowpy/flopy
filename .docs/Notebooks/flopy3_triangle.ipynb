{
 "cells": [
  {
   "attachments": {},
   "cell_type": "markdown",
   "metadata": {},
   "source": [
    "# Triangular mesh example\n",
    "\n",
    "First set the path and import the required packages. The flopy path doesn't have to be set if you install flopy from a binary installer. If you want to run this notebook, you have to set the path to your own flopy path."
   ]
  },
  {
   "cell_type": "code",
   "execution_count": null,
   "metadata": {
    "execution": {
     "iopub.execute_input": "2023-05-02T02:56:45.156726Z",
     "iopub.status.busy": "2023-05-02T02:56:45.156283Z",
     "iopub.status.idle": "2023-05-02T02:56:47.426086Z",
     "shell.execute_reply": "2023-05-02T02:56:47.425023Z"
    }
   },
   "outputs": [],
   "source": [
    "import os\n",
    "import sys\n",
    "from pathlib import Path\n",
    "from tempfile import TemporaryDirectory\n",
    "\n",
    "import numpy as np\n",
    "import matplotlib as mpl\n",
    "import matplotlib.pyplot as plt\n",
    "\n",
    "proj_root = Path.cwd().parent.parent\n",
    "\n",
    "# run installed version of flopy or add local path\n",
    "try:\n",
    "    import flopy\n",
    "except:\n",
    "    sys.path.append(proj_root)\n",
    "    import flopy\n",
    "\n",
    "temp_dir = TemporaryDirectory()\n",
    "workspace = Path(temp_dir.name)\n",
    "\n",
    "print(sys.version)\n",
    "print(\"numpy version: {}\".format(np.__version__))\n",
    "print(\"matplotlib version: {}\".format(mpl.__version__))\n",
    "print(\"flopy version: {}\".format(flopy.__version__))"
   ]
  },
  {
   "cell_type": "markdown",
   "metadata": {},
   "source": [
    "## Creating Meshes with the Triangle Class\n",
    "\n",
    "The Flopy Triangle class at (flopy.utils.triangle.Triangle) can be used to generate triangular meshes using the Triangle program (https://www.cs.cmu.edu/~quake/triangle.html).  The Triangle class is a thin wrapper that builds input files for the Triangle program, reads Triangle output, and makes plots of the mesh.  To use the Triangle class, the user must have an executable copy of the triangle program somewhere on their system.\n",
    "\n",
    "Let's start by making a simple triangular mesh of a circle using the Flopy Triangle class and the triangle program."
   ]
  },
  {
   "cell_type": "code",
   "execution_count": null,
   "metadata": {
    "execution": {
     "iopub.execute_input": "2023-05-02T02:56:47.491762Z",
     "iopub.status.busy": "2023-05-02T02:56:47.491208Z",
     "iopub.status.idle": "2023-05-02T02:56:47.806366Z",
     "shell.execute_reply": "2023-05-02T02:56:47.804494Z"
    }
   },
   "outputs": [],
   "source": [
    "# we start by creating a polygon (circle_poly), which is a list of\n",
    "# (x,y) points that define the circle\n",
    "theta = np.arange(0.0, 2 * np.pi, 0.2)\n",
    "radius = 100.0\n",
    "x = radius * np.cos(theta)\n",
    "y = radius * np.sin(theta)\n",
    "circle_poly = [(x, y) for x, y in zip(x, y)]\n",
    "fig = plt.figure(figsize=(10, 10))\n",
    "ax = plt.subplot(1, 1, 1, aspect=\"equal\")\n",
    "ax.plot(x, y, \"bo-\");"
   ]
  },
  {
   "cell_type": "code",
   "execution_count": null,
   "metadata": {
    "execution": {
     "iopub.execute_input": "2023-05-02T02:56:47.810742Z",
     "iopub.status.busy": "2023-05-02T02:56:47.810285Z",
     "iopub.status.idle": "2023-05-02T02:56:48.222886Z",
     "shell.execute_reply": "2023-05-02T02:56:48.221223Z"
    }
   },
   "outputs": [],
   "source": [
    "from flopy.utils.triangle import Triangle\n",
    "\n",
    "# We can then use the Triangle class and Triangle program\n",
    "# to make the mesh, as follows.\n",
    "tri = Triangle(maximum_area=500, angle=30, model_ws=workspace)\n",
    "tri.add_polygon(circle_poly)\n",
    "tri.build(verbose=False)\n",
    "fig = plt.figure(figsize=(10, 10))\n",
    "ax = plt.subplot(1, 1, 1, aspect=\"equal\")\n",
    "pc = tri.plot(ax=ax)"
   ]
  },
  {
   "cell_type": "markdown",
   "metadata": {},
   "source": [
    "The Triangle class creates a .node and a .poly file as input for the Triangle program.  The Triangle class then reads four output files from the Triangle program into numpy structured arrays.  These four structured arrays are stored with the object as follows."
   ]
  },
  {
   "cell_type": "code",
   "execution_count": null,
   "metadata": {
    "execution": {
     "iopub.execute_input": "2023-05-02T02:56:48.228269Z",
     "iopub.status.busy": "2023-05-02T02:56:48.227809Z",
     "iopub.status.idle": "2023-05-02T02:56:48.236425Z",
     "shell.execute_reply": "2023-05-02T02:56:48.235099Z"
    }
   },
   "outputs": [],
   "source": [
    "print(tri.node.dtype)\n",
    "print(tri.ele.dtype)\n",
    "print(tri.neigh.dtype)\n",
    "print(tri.edge.dtype)"
   ]
  },
  {
   "cell_type": "code",
   "execution_count": null,
   "metadata": {
    "execution": {
     "iopub.execute_input": "2023-05-02T02:56:48.240968Z",
     "iopub.status.busy": "2023-05-02T02:56:48.239935Z",
     "iopub.status.idle": "2023-05-02T02:56:49.024958Z",
     "shell.execute_reply": "2023-05-02T02:56:49.023216Z"
    }
   },
   "outputs": [],
   "source": [
    "# We can also plot the cells and vertices and label them,\n",
    "# but this really only works for coarse meshes\n",
    "fig = plt.figure(figsize=(10, 10))\n",
    "ax = plt.subplot(1, 1, 1, aspect=\"equal\")\n",
    "tri.plot(ax=ax, edgecolor=\"gray\")\n",
    "tri.plot_vertices(ax=ax, marker=\"o\", color=\"blue\")\n",
    "tri.label_vertices(ax=ax, fontsize=10, color=\"blue\")\n",
    "tri.plot_centroids(ax=ax, marker=\"o\", color=\"red\")\n",
    "tri.label_cells(ax=ax, fontsize=10, color=\"red\")"
   ]
  },
  {
   "cell_type": "code",
   "execution_count": null,
   "metadata": {
    "execution": {
     "iopub.execute_input": "2023-05-02T02:56:49.032140Z",
     "iopub.status.busy": "2023-05-02T02:56:49.031104Z",
     "iopub.status.idle": "2023-05-02T02:56:49.427473Z",
     "shell.execute_reply": "2023-05-02T02:56:49.425154Z"
    }
   },
   "outputs": [],
   "source": [
    "# What about a hole?\n",
    "theta = np.arange(0.0, 2 * np.pi, 0.2)\n",
    "radius = 30.0\n",
    "x = radius * np.cos(theta) + 25.0\n",
    "y = radius * np.sin(theta) + 25.0\n",
    "inner_circle_poly = [(x, y) for x, y in zip(x, y)]\n",
    "\n",
    "# The hole is created by passing in another polygon and\n",
    "# then passing a point inside the hole polygon with the\n",
    "# add_hole() method.\n",
    "tri = Triangle(maximum_area=100, angle=30, model_ws=workspace)\n",
    "tri.add_polygon(circle_poly)\n",
    "tri.add_polygon(inner_circle_poly)\n",
    "tri.add_hole((25, 25))\n",
    "tri.build(verbose=False)\n",
    "fig = plt.figure(figsize=(10, 10))\n",
    "ax = plt.subplot(1, 1, 1, aspect=\"equal\")\n",
    "tri.plot(ax=ax);"
   ]
  },
  {
   "cell_type": "markdown",
   "metadata": {},
   "source": [
    "## Specifying Regions with Different Triangle Sizes\n",
    "\n",
    "Different parts of the domain can be assigned different levels of refinement by adding multiple polygons and then identifying the different polygons as regions with different maximum triangle areas."
   ]
  },
  {
   "cell_type": "code",
   "execution_count": null,
   "metadata": {
    "execution": {
     "iopub.execute_input": "2023-05-02T02:56:49.435723Z",
     "iopub.status.busy": "2023-05-02T02:56:49.434702Z",
     "iopub.status.idle": "2023-05-02T02:56:49.840981Z",
     "shell.execute_reply": "2023-05-02T02:56:49.838766Z"
    }
   },
   "outputs": [],
   "source": [
    "active_domain = [(0, 0), (100, 0), (100, 100), (0, 100)]\n",
    "area1 = [(10, 10), (40, 10), (40, 40), (10, 40)]\n",
    "area2 = [(60, 60), (80, 60), (80, 80), (60, 80)]\n",
    "tri = Triangle(angle=30, model_ws=workspace)\n",
    "tri.add_polygon(active_domain)\n",
    "tri.add_polygon(area1)\n",
    "tri.add_polygon(area2)\n",
    "tri.add_region((1, 1), 0, maximum_area=100)  # point inside active domain\n",
    "tri.add_region((11, 11), 1, maximum_area=10)  # point inside area1\n",
    "tri.add_region((61, 61), 2, maximum_area=3)  # point inside area2\n",
    "tri.build(verbose=False)\n",
    "fig = plt.figure(figsize=(10, 10))\n",
    "ax = plt.subplot(1, 1, 1, aspect=\"equal\")\n",
    "tri.plot(ax=ax);"
   ]
  },
  {
   "cell_type": "markdown",
   "metadata": {},
   "source": [
    "## Identifying Boundary Cells\n",
    "\n",
    "The Triangle class has some limited capabilities for identifying the cells on polygone boundaries.  In the example above, three polygons were added to the Triangle class.  An integer boundary marker is automatically calculated and assigned by the Triangle class.  Boundary marker 1 corresponds to the first line segment of the first polygon added. So in this case, boundary marker 1 corresponds to cells along the line `[(0, 0), (100, 0)]`.  Boundary marker 2 corresponds to the next line segment, which is along the right face of the domain.\n",
    "\n",
    "Triangle has a method for getting back an integer array for the mesh that has a boundary marker id for each cell.  Values of zero indicate that the cell does not touch a boundary."
   ]
  },
  {
   "cell_type": "code",
   "execution_count": null,
   "metadata": {
    "execution": {
     "iopub.execute_input": "2023-05-02T02:56:49.847686Z",
     "iopub.status.busy": "2023-05-02T02:56:49.846552Z",
     "iopub.status.idle": "2023-05-02T02:56:50.359017Z",
     "shell.execute_reply": "2023-05-02T02:56:50.357589Z"
    }
   },
   "outputs": [],
   "source": [
    "# this shows all the boundary cells\n",
    "ibd = tri.get_boundary_marker_array()\n",
    "ibd = np.ma.masked_equal(ibd, 0)\n",
    "fig = plt.figure(figsize=(10, 10))\n",
    "ax = plt.subplot(1, 1, 1, aspect=\"equal\")\n",
    "pc = tri.plot(a=ibd, cmap=\"jet\")\n",
    "plt.colorbar(pc, shrink=0.5);"
   ]
  },
  {
   "cell_type": "code",
   "execution_count": null,
   "metadata": {
    "execution": {
     "iopub.execute_input": "2023-05-02T02:56:50.367619Z",
     "iopub.status.busy": "2023-05-02T02:56:50.366579Z",
     "iopub.status.idle": "2023-05-02T02:56:50.784921Z",
     "shell.execute_reply": "2023-05-02T02:56:50.783330Z"
    }
   },
   "outputs": [],
   "source": [
    "# we could plot just one group of boundary cells\n",
    "# this shows all the boundary cells\n",
    "ibd = tri.get_boundary_marker_array()\n",
    "ibd = np.ma.masked_not_equal(ibd, 4)\n",
    "fig = plt.figure(figsize=(10, 10))\n",
    "ax = plt.subplot(1, 1, 1, aspect=\"equal\")\n",
    "pc = tri.plot(a=ibd, cmap=\"jet\", edgecolor=\"gray\")\n",
    "cb = plt.colorbar(pc, shrink=0.5);"
   ]
  },
  {
   "cell_type": "code",
   "execution_count": null,
   "metadata": {
    "execution": {
     "iopub.execute_input": "2023-05-02T02:56:50.792649Z",
     "iopub.status.busy": "2023-05-02T02:56:50.791626Z",
     "iopub.status.idle": "2023-05-02T02:56:51.178526Z",
     "shell.execute_reply": "2023-05-02T02:56:51.177222Z"
    }
   },
   "outputs": [],
   "source": [
    "# we can also plot the lines that comprise the boundaries\n",
    "fig = plt.figure(figsize=(10, 10))\n",
    "ax = plt.subplot(1, 1, 1, aspect=\"equal\")\n",
    "tri.plot(ax=ax, edgecolor=\"gray\")\n",
    "for ibm in [1, 2, 3, 4]:\n",
    "    colors = [\"blue\", \"green\", \"red\", \"yellow\"]\n",
    "    tri.plot_boundary(ibm, ax, marker=\"o\", color=colors[ibm - 1]);"
   ]
  },
  {
   "cell_type": "markdown",
   "metadata": {},
   "source": [
    "## Cell Attributes\n",
    "\n",
    "If regions (using the add_region() method) are used and an attribute value is provided, it is possible to determine the cells that are within each region.  \n"
   ]
  },
  {
   "cell_type": "code",
   "execution_count": null,
   "metadata": {
    "execution": {
     "iopub.execute_input": "2023-05-02T02:56:51.187797Z",
     "iopub.status.busy": "2023-05-02T02:56:51.187423Z",
     "iopub.status.idle": "2023-05-02T02:56:51.598689Z",
     "shell.execute_reply": "2023-05-02T02:56:51.597029Z"
    }
   },
   "outputs": [],
   "source": [
    "attribute_array = tri.get_attribute_array()\n",
    "fig = plt.figure(figsize=(10, 10))\n",
    "ax = plt.subplot(1, 1, 1, aspect=\"equal\")\n",
    "pc = tri.plot(a=attribute_array, cmap=\"jet\", edgecolor=\"gray\")\n",
    "cb = plt.colorbar(pc, shrink=0.5);"
   ]
  },
  {
   "cell_type": "markdown",
   "metadata": {},
   "source": [
    "## Building a Simple MODFLOW 6 Model\n",
    "\n",
    "We can use the functionality described so far to build a simple MODFLOW 6 model using Flopy.  For demonstration purposes, we'll create a very coarse triangular mesh and impose constant head boundaries on the left and right sides.  We will simulate flow as steady state."
   ]
  },
  {
   "cell_type": "code",
   "execution_count": null,
   "metadata": {
    "execution": {
     "iopub.execute_input": "2023-05-02T02:56:51.604118Z",
     "iopub.status.busy": "2023-05-02T02:56:51.603742Z",
     "iopub.status.idle": "2023-05-02T02:56:51.945794Z",
     "shell.execute_reply": "2023-05-02T02:56:51.944495Z"
    }
   },
   "outputs": [],
   "source": [
    "active_domain = [(0, 0), (100, 0), (100, 100), (0, 100)]\n",
    "tri = Triangle(angle=30, maximum_area=100, model_ws=workspace)\n",
    "tri.add_polygon(active_domain)\n",
    "tri.build()\n",
    "fig = plt.figure(figsize=(10, 10))\n",
    "ax = plt.subplot(1, 1, 1, aspect=\"equal\")\n",
    "tri.plot(edgecolor=\"gray\")\n",
    "for ibm in [1, 2, 3, 4]:\n",
    "    colors = [\"blue\", \"green\", \"red\", \"yellow\"]\n",
    "    tri.plot_boundary(ibm, ax, marker=\"o\", color=colors[ibm - 1]);"
   ]
  },
  {
   "cell_type": "code",
   "execution_count": null,
   "metadata": {
    "execution": {
     "iopub.execute_input": "2023-05-02T02:56:51.951907Z",
     "iopub.status.busy": "2023-05-02T02:56:51.951449Z",
     "iopub.status.idle": "2023-05-02T02:56:52.792494Z",
     "shell.execute_reply": "2023-05-02T02:56:52.790520Z"
    }
   },
   "outputs": [],
   "source": [
    "fig = plt.figure(figsize=(10, 10))\n",
    "ax = plt.subplot(1, 1, 1, aspect=\"equal\")\n",
    "tri.plot(ax=ax, edgecolor=\"gray\")\n",
    "tri.plot_vertices(ax=ax, marker=\"o\", color=\"blue\")\n",
    "tri.label_vertices(ax=ax, fontsize=10, color=\"blue\")\n",
    "tri.plot_centroids(ax=ax, marker=\"o\", color=\"red\")\n",
    "tri.label_cells(ax=ax, fontsize=10, color=\"red\");"
   ]
  },
  {
   "cell_type": "code",
   "execution_count": null,
   "metadata": {
    "execution": {
     "iopub.execute_input": "2023-05-02T02:56:52.797987Z",
     "iopub.status.busy": "2023-05-02T02:56:52.797610Z",
     "iopub.status.idle": "2023-05-02T02:56:53.121930Z",
     "shell.execute_reply": "2023-05-02T02:56:53.120207Z"
    }
   },
   "outputs": [],
   "source": [
    "name = \"mf\"\n",
    "sim = flopy.mf6.MFSimulation(\n",
    "    sim_name=name, version=\"mf6\", exe_name=\"mf6\", sim_ws=workspace\n",
    ")\n",
    "tdis = flopy.mf6.ModflowTdis(\n",
    "    sim, time_units=\"DAYS\", perioddata=[[1.0, 1, 1.0]]\n",
    ")\n",
    "gwf = flopy.mf6.ModflowGwf(sim, modelname=name, save_flows=True)\n",
    "ims = flopy.mf6.ModflowIms(\n",
    "    sim,\n",
    "    print_option=\"SUMMARY\",\n",
    "    complexity=\"complex\",\n",
    "    outer_hclose=1.0e-8,\n",
    "    inner_hclose=1.0e-8,\n",
    ")\n",
    "cell2d = tri.get_cell2d()\n",
    "vertices = tri.get_vertices()\n",
    "xcyc = tri.get_xcyc()\n",
    "nlay = 1\n",
    "ncpl = tri.ncpl\n",
    "nvert = tri.nvert\n",
    "top = 1.0\n",
    "botm = [0.0]\n",
    "dis = flopy.mf6.ModflowGwfdisv(\n",
    "    gwf,\n",
    "    nlay=nlay,\n",
    "    ncpl=ncpl,\n",
    "    nvert=nvert,\n",
    "    top=top,\n",
    "    botm=botm,\n",
    "    vertices=vertices,\n",
    "    cell2d=cell2d,\n",
    ")\n",
    "npf = flopy.mf6.ModflowGwfnpf(\n",
    "    gwf, xt3doptions=[(True)], save_specific_discharge=None\n",
    ")\n",
    "ic = flopy.mf6.ModflowGwfic(gwf)\n",
    "\n",
    "\n",
    "def chdhead(x):\n",
    "    return x * 10.0 / 100.0\n",
    "\n",
    "\n",
    "chdlist = []\n",
    "leftcells = tri.get_edge_cells(4)\n",
    "rightcells = tri.get_edge_cells(2)\n",
    "for icpl in leftcells + rightcells:\n",
    "    h = chdhead(xcyc[icpl, 0])\n",
    "    chdlist.append([(0, icpl), h])\n",
    "chd = flopy.mf6.ModflowGwfchd(gwf, stress_period_data=chdlist)\n",
    "oc = flopy.mf6.ModflowGwfoc(\n",
    "    gwf,\n",
    "    budget_filerecord=\"{}.cbc\".format(name),\n",
    "    head_filerecord=\"{}.hds\".format(name),\n",
    "    saverecord=[(\"HEAD\", \"LAST\"), (\"BUDGET\", \"LAST\")],\n",
    "    printrecord=[(\"HEAD\", \"LAST\"), (\"BUDGET\", \"LAST\")],\n",
    ")\n",
    "sim.write_simulation()\n",
    "success, buff = sim.run_simulation(report=True)"
   ]
  },
  {
   "cell_type": "code",
   "execution_count": null,
   "metadata": {
    "execution": {
     "iopub.execute_input": "2023-05-02T02:56:53.127091Z",
     "iopub.status.busy": "2023-05-02T02:56:53.125983Z",
     "iopub.status.idle": "2023-05-02T02:56:53.497586Z",
     "shell.execute_reply": "2023-05-02T02:56:53.496226Z"
    }
   },
   "outputs": [],
   "source": [
    "fname = workspace / f\"{name}.hds\"\n",
    "hdobj = flopy.utils.HeadFile(fname, precision=\"double\")\n",
    "head = hdobj.get_data()\n",
    "fname = workspace / f\"{name}.cbc\"\n",
    "bdobj = flopy.utils.CellBudgetFile(fname, precision=\"double\", verbose=False)\n",
    "# qxqy = bdobj.get_data(text='DATA-SPDIS')[0]\n",
    "\n",
    "fig = plt.figure(figsize=(15, 15))\n",
    "ax = plt.subplot(1, 1, 1, aspect=\"equal\")\n",
    "tri.plot(ax=ax, a=head[0, 0, :], cmap=\"jet\");"
   ]
  },
  {
   "cell_type": "markdown",
   "metadata": {
    "collapsed": false
   },
   "source": [
    "Clean up the temporary workspace."
   ]
  },
  {
   "cell_type": "code",
   "execution_count": null,
   "metadata": {
    "execution": {
     "iopub.execute_input": "2023-05-02T02:56:53.503686Z",
     "iopub.status.busy": "2023-05-02T02:56:53.503212Z",
     "iopub.status.idle": "2023-05-02T02:56:53.529231Z",
     "shell.execute_reply": "2023-05-02T02:56:53.527656Z"
    }
   },
   "outputs": [],
   "source": [
    "try:\n",
    "    # ignore PermissionError on Windows\n",
    "    temp_dir.cleanup()\n",
    "except:\n",
    "    pass"
   ]
  }
 ],
 "metadata": {
  "kernelspec": {
   "display_name": "Python 3 (ipykernel)",
   "language": "python",
   "name": "python3"
  },
  "language_info": {
   "codemirror_mode": {
    "name": "ipython",
    "version": 3
   },
   "file_extension": ".py",
   "mimetype": "text/x-python",
   "name": "python",
   "nbconvert_exporter": "python",
   "pygments_lexer": "ipython3",
   "version": "3.11.0"
  }
 },
 "nbformat": 4,
 "nbformat_minor": 4
}
