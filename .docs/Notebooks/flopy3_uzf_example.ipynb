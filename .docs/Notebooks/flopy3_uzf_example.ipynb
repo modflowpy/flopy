{
 "cells": [
  {
   "attachments": {},
   "cell_type": "markdown",
   "metadata": {},
   "source": [
    "# Unsaturated Zone Flow (UZF) Package demo\n",
    "Demonstrates functionality of the flopy UZF module using the example from [Niswonger and others (2006)](https://pubs.usgs.gov/tm/2006/tm6a19/). This is the same as the SFR example problem from Prudic and others (2004;\n",
    "p. 13–19), except the UZF package replaces the ET and RCH packages.\n",
    "\n",
    "#### Problem description:\n",
    "\n",
    "* Grid dimensions: 1 Layer, 15 Rows, 10 Columns  \n",
    "* Stress periods: 12  \n",
    "* Units are in seconds and days\n",
    "* Flow package: LPF  \n",
    "* Stress packages: SFR, GHB, UZF \n",
    "* Solver: SIP  \n",
    "\n",
    "<img src=\"./img/Niswonger2006_fig13.png\" width=\"400\" height=\"500\"/>"
   ]
  },
  {
   "cell_type": "code",
   "execution_count": null,
   "metadata": {
    "execution": {
     "iopub.execute_input": "2023-02-22T02:45:36.713152Z",
     "iopub.status.busy": "2023-02-22T02:45:36.712329Z",
     "iopub.status.idle": "2023-02-22T02:45:37.514202Z",
     "shell.execute_reply": "2023-02-22T02:45:37.513335Z"
    }
   },
   "outputs": [],
   "source": [
    "import os\n",
    "import sys\n",
    "import glob\n",
    "import shutil\n",
    "from pathlib import Path\n",
    "from tempfile import TemporaryDirectory\n",
    "\n",
    "import numpy as np\n",
    "import matplotlib as mpl\n",
    "import matplotlib.pyplot as plt\n",
    "import pandas as pd\n",
    "\n",
    "proj_root = Path.cwd().parent.parent\n",
    "\n",
    "# run installed version of flopy or add local path\n",
    "try:\n",
    "    import flopy\n",
    "except:\n",
    "    sys.path.append(proj_root)\n",
    "    import flopy\n",
    "\n",
    "from flopy.utils import flopy_io\n",
    "\n",
    "print(sys.version)\n",
    "print(\"numpy version: {}\".format(np.__version__))\n",
    "print(\"matplotlib version: {}\".format(mpl.__version__))\n",
    "print(\"pandas version: {}\".format(pd.__version__))\n",
    "print(\"flopy version: {}\".format(flopy.__version__))"
   ]
  },
  {
   "cell_type": "code",
   "execution_count": null,
   "metadata": {
    "execution": {
     "iopub.execute_input": "2023-02-22T02:45:37.554724Z",
     "iopub.status.busy": "2023-02-22T02:45:37.553760Z",
     "iopub.status.idle": "2023-02-22T02:45:37.558491Z",
     "shell.execute_reply": "2023-02-22T02:45:37.557554Z"
    }
   },
   "outputs": [],
   "source": [
    "# Set name of MODFLOW exe\n",
    "#  assumes executable is in users path statement\n",
    "exe_name = \"mf2005\""
   ]
  },
  {
   "cell_type": "markdown",
   "metadata": {
    "collapsed": false
   },
   "source": [
    "Set up a temporary workspace."
   ]
  },
  {
   "cell_type": "code",
   "execution_count": null,
   "metadata": {
    "execution": {
     "iopub.execute_input": "2023-02-22T02:45:37.562169Z",
     "iopub.status.busy": "2023-02-22T02:45:37.561444Z",
     "iopub.status.idle": "2023-02-22T02:45:37.569073Z",
     "shell.execute_reply": "2023-02-22T02:45:37.568194Z"
    }
   },
   "outputs": [],
   "source": [
    "temp_dir = TemporaryDirectory()\n",
    "path = Path(temp_dir.name)\n",
    "\n",
    "gpth = proj_root / \"examples\" / \"data\" / \"mf2005_test\" / \"UZFtest2.*\"\n",
    "for f in glob.glob(str(gpth)):\n",
    "    shutil.copy(f, path)"
   ]
  },
  {
   "cell_type": "markdown",
   "metadata": {},
   "source": [
    "Load example dataset, skipping the UZF package."
   ]
  },
  {
   "cell_type": "code",
   "execution_count": null,
   "metadata": {
    "execution": {
     "iopub.execute_input": "2023-02-22T02:45:37.572357Z",
     "iopub.status.busy": "2023-02-22T02:45:37.571803Z",
     "iopub.status.idle": "2023-02-22T02:45:37.599049Z",
     "shell.execute_reply": "2023-02-22T02:45:37.598169Z"
    }
   },
   "outputs": [],
   "source": [
    "m = flopy.modflow.Modflow.load(\n",
    "    \"UZFtest2.nam\",\n",
    "    version=\"mf2005\",\n",
    "    exe_name=exe_name,\n",
    "    model_ws=path,\n",
    "    load_only=[\"ghb\", \"dis\", \"bas6\", \"oc\", \"sip\", \"lpf\", \"sfr\"],\n",
    ")"
   ]
  },
  {
   "cell_type": "markdown",
   "metadata": {},
   "source": [
    "Remove previous UZF external file references so they don't conflict with the ones made by FloPy."
   ]
  },
  {
   "cell_type": "code",
   "execution_count": null,
   "metadata": {
    "execution": {
     "iopub.execute_input": "2023-02-22T02:45:37.637795Z",
     "iopub.status.busy": "2023-02-22T02:45:37.637155Z",
     "iopub.status.idle": "2023-02-22T02:45:37.642323Z",
     "shell.execute_reply": "2023-02-22T02:45:37.641486Z"
    }
   },
   "outputs": [],
   "source": [
    "rm = [True if \".uz\" in f else False for f in m.external_fnames]\n",
    "m.external_fnames = [f for i, f in enumerate(m.external_fnames) if not rm[i]]\n",
    "m.external_binflag = [f for i, f in enumerate(m.external_binflag) if not rm[i]]\n",
    "m.external_output = [f for i, f in enumerate(m.external_output) if not rm[i]]\n",
    "m.external_units = [f for i, f in enumerate(m.external_output) if not rm[i]]"
   ]
  },
  {
   "cell_type": "markdown",
   "metadata": {},
   "source": [
    "Define the `izufbnd` array. In the example, the UZF package **izufbnd** array is the same as the ibound."
   ]
  },
  {
   "cell_type": "code",
   "execution_count": null,
   "metadata": {
    "execution": {
     "iopub.execute_input": "2023-02-22T02:45:37.646653Z",
     "iopub.status.busy": "2023-02-22T02:45:37.646258Z",
     "iopub.status.idle": "2023-02-22T02:45:37.844991Z",
     "shell.execute_reply": "2023-02-22T02:45:37.844348Z"
    }
   },
   "outputs": [],
   "source": [
    "fig = plt.figure(figsize=(8, 8))\n",
    "ax = fig.add_subplot(1, 1, 1, aspect=\"equal\")\n",
    "mapview = flopy.plot.PlotMapView(model=m)\n",
    "quadmesh = mapview.plot_ibound()\n",
    "linecollection = mapview.plot_grid()"
   ]
  },
  {
   "cell_type": "markdown",
   "metadata": {},
   "source": [
    "Read the ```irunbnd``` array from an external file."
   ]
  },
  {
   "cell_type": "code",
   "execution_count": null,
   "metadata": {
    "execution": {
     "iopub.execute_input": "2023-02-22T02:45:37.848108Z",
     "iopub.status.busy": "2023-02-22T02:45:37.847535Z",
     "iopub.status.idle": "2023-02-22T02:45:38.105678Z",
     "shell.execute_reply": "2023-02-22T02:45:38.105063Z"
    }
   },
   "outputs": [],
   "source": [
    "irnbndpth = proj_root / \"examples\" / \"data\" / \"uzf_examples\" / \"irunbnd.dat\"\n",
    "irunbnd = np.loadtxt(irnbndpth)\n",
    "\n",
    "fig = plt.figure(figsize=(8, 8))\n",
    "ax = fig.add_subplot(1, 1, 1, aspect=\"equal\")\n",
    "mapview = flopy.plot.PlotMapView(model=m)\n",
    "irunbndplt = mapview.plot_array(irunbnd)\n",
    "plt.colorbar(irunbndplt, ax=ax, label=\"SFR segment\")\n",
    "linecollection = mapview.plot_grid()"
   ]
  },
  {
   "cell_type": "markdown",
   "metadata": {},
   "source": [
    "Define the ``vks`` (unsaturated zone vertical hydraulic conductivity) array."
   ]
  },
  {
   "cell_type": "code",
   "execution_count": null,
   "metadata": {
    "execution": {
     "iopub.execute_input": "2023-02-22T02:45:38.109474Z",
     "iopub.status.busy": "2023-02-22T02:45:38.109133Z",
     "iopub.status.idle": "2023-02-22T02:45:38.413919Z",
     "shell.execute_reply": "2023-02-22T02:45:38.413288Z"
    }
   },
   "outputs": [],
   "source": [
    "vksbndpth = proj_root / \"examples\" / \"data\" / \"uzf_examples\" / \"vks.dat\"\n",
    "vks = np.loadtxt(vksbndpth)\n",
    "\n",
    "fig = plt.figure(figsize=(8, 8))\n",
    "ax = fig.add_subplot(1, 1, 1, aspect=\"equal\")\n",
    "mapview = flopy.plot.PlotMapView(model=m)\n",
    "vksplt = mapview.plot_array(vks)\n",
    "plt.colorbar(vksplt, ax=ax, label=\"Layer 1 Kv\")\n",
    "linecollection = mapview.plot_grid()"
   ]
  },
  {
   "cell_type": "markdown",
   "metadata": {},
   "source": [
    "Define the `finf` array:\n",
    "* load infiltration rates from a file into a 3D array\n",
    "* `finf` can be submitted to FloPy as a 3D array, list of 2D arrays, list of numeric values, or single numeric value"
   ]
  },
  {
   "cell_type": "code",
   "execution_count": null,
   "metadata": {
    "execution": {
     "iopub.execute_input": "2023-02-22T02:45:38.417071Z",
     "iopub.status.busy": "2023-02-22T02:45:38.416872Z",
     "iopub.status.idle": "2023-02-22T02:45:38.420882Z",
     "shell.execute_reply": "2023-02-22T02:45:38.420319Z"
    }
   },
   "outputs": [],
   "source": [
    "m.nrow_ncol_nlay_nper"
   ]
  },
  {
   "cell_type": "code",
   "execution_count": null,
   "metadata": {
    "execution": {
     "iopub.execute_input": "2023-02-22T02:45:38.423780Z",
     "iopub.status.busy": "2023-02-22T02:45:38.423352Z",
     "iopub.status.idle": "2023-02-22T02:45:38.648874Z",
     "shell.execute_reply": "2023-02-22T02:45:38.648262Z"
    }
   },
   "outputs": [],
   "source": [
    "finf = np.loadtxt(\n",
    "    proj_root / \"examples\" / \"data\" / \"uzf_examples\" / \"finf.dat\"\n",
    ")\n",
    "finf = np.reshape(finf, (m.nper, m.nrow, m.ncol))\n",
    "finf = {i: finf[i] for i in range(finf.shape[0])}\n",
    "\n",
    "# plot using PlotMapView\n",
    "fig = plt.figure(figsize=(8, 8))\n",
    "ax = fig.add_subplot(1, 1, 1, aspect=\"equal\")\n",
    "mapview = flopy.plot.PlotMapView(model=m)\n",
    "quadmesh = mapview.plot_array(finf[0])\n",
    "plt.colorbar(quadmesh)\n",
    "linecollection = mapview.plot_grid()"
   ]
  },
  {
   "cell_type": "code",
   "execution_count": null,
   "metadata": {
    "execution": {
     "iopub.execute_input": "2023-02-22T02:45:38.652690Z",
     "iopub.status.busy": "2023-02-22T02:45:38.652468Z",
     "iopub.status.idle": "2023-02-22T02:45:38.790866Z",
     "shell.execute_reply": "2023-02-22T02:45:38.790204Z"
    }
   },
   "outputs": [],
   "source": [
    "plt.plot(\n",
    "    m.dis.perlen.array.cumsum() / 864600,\n",
    "    [a.mean() * 86400 * 365 * 12 for a in finf.values()],\n",
    "    marker=\"o\",\n",
    ")\n",
    "plt.xlabel(\"Time, in days\")\n",
    "plt.ylabel(\"Average infiltration rate, inches per year\");"
   ]
  },
  {
   "cell_type": "markdown",
   "metadata": {},
   "source": [
    "Define `extwc` (extinction water content) array."
   ]
  },
  {
   "cell_type": "code",
   "execution_count": null,
   "metadata": {
    "execution": {
     "iopub.execute_input": "2023-02-22T02:45:38.794553Z",
     "iopub.status.busy": "2023-02-22T02:45:38.794245Z",
     "iopub.status.idle": "2023-02-22T02:45:39.037627Z",
     "shell.execute_reply": "2023-02-22T02:45:39.036813Z"
    }
   },
   "outputs": [],
   "source": [
    "extwc = np.loadtxt(\n",
    "    proj_root / \"examples\" / \"data\" / \"uzf_examples\" / \"extwc.dat\"\n",
    ")\n",
    "\n",
    "fig = plt.figure(figsize=(8, 8))\n",
    "ax = fig.add_subplot(1, 1, 1, aspect=\"equal\")\n",
    "mapview = flopy.plot.PlotMapView(model=m)\n",
    "quadmesh = mapview.plot_array(extwc)\n",
    "plt.colorbar(quadmesh)\n",
    "linecollection = mapview.plot_grid()"
   ]
  },
  {
   "cell_type": "markdown",
   "metadata": {},
   "source": [
    "### Set up the gages (observation points)\n",
    "* supplied as a dictionary keyed by `IFTUNIT`\n",
    "* A positive value [of `IFTUNIT`] is for output of individual cells whereas a negative value is for output that is summed over all model cells. \n",
    "* values are a list of `[IUZROW, IUZCOL, IFTUNIT, IUZOPT]`\n",
    "* `IUZROW` and `IUZCOL` are zero based"
   ]
  },
  {
   "cell_type": "code",
   "execution_count": null,
   "metadata": {
    "execution": {
     "iopub.execute_input": "2023-02-22T02:45:39.041694Z",
     "iopub.status.busy": "2023-02-22T02:45:39.041194Z",
     "iopub.status.idle": "2023-02-22T02:45:39.045578Z",
     "shell.execute_reply": "2023-02-22T02:45:39.044693Z"
    }
   },
   "outputs": [],
   "source": [
    "uzgag = {\n",
    "    -68: [-68],\n",
    "    65: [\n",
    "        2,\n",
    "        5,\n",
    "        65,\n",
    "        1,\n",
    "    ],  # Print time, head, uz thickness and cum. vols of infiltration, recharge, storage, change in storage and ground-water discharge to land surface.\n",
    "    66: [\n",
    "        5,\n",
    "        2,\n",
    "        66,\n",
    "        2,\n",
    "    ],  # Same as option 1 except rates of infiltration, recharge, change in storage, and ground-water discharge also are printed.\n",
    "    67: [9, 4, 67, 3],\n",
    "}  # Prints time, ground-water head, thickness of unsaturated zone, followed by a series of depths and water contents in the unsaturated zone."
   ]
  },
  {
   "cell_type": "markdown",
   "metadata": {},
   "source": [
    "Make the UZF package."
   ]
  },
  {
   "cell_type": "code",
   "execution_count": null,
   "metadata": {
    "execution": {
     "iopub.execute_input": "2023-02-22T02:45:39.049469Z",
     "iopub.status.busy": "2023-02-22T02:45:39.048931Z",
     "iopub.status.idle": "2023-02-22T02:45:39.056999Z",
     "shell.execute_reply": "2023-02-22T02:45:39.056109Z"
    }
   },
   "outputs": [],
   "source": [
    "uzf = flopy.modflow.ModflowUzf1(\n",
    "    m,\n",
    "    nuztop=1,\n",
    "    iuzfopt=1,\n",
    "    irunflg=1,\n",
    "    ietflg=1,\n",
    "    ipakcb=0,\n",
    "    iuzfcb2=61,  # binary output of recharge and groundwater discharge\n",
    "    ntrail2=25,\n",
    "    nsets=20,\n",
    "    surfdep=1.0,\n",
    "    uzgag=uzgag,\n",
    "    iuzfbnd=m.bas6.ibound.array,\n",
    "    irunbnd=irunbnd,\n",
    "    vks=vks,  # saturated vertical hydraulic conductivity of the uz\n",
    "    finf=finf,  # infiltration rates\n",
    "    eps=3.5,  # Brooks-Corey relation of water content to hydraulic conductivity (epsilon)\n",
    "    thts=0.35,  # saturated water content of the uz in units of volume of water to total volume\n",
    "    pet=5.000000e-08,  # potential ET\n",
    "    extdp=15.0,  # ET extinction depth(s)\n",
    "    extwc=extwc,  # extinction water content below which ET cannot be removed from the unsaturated zone\n",
    "    unitnumber=19,\n",
    ")"
   ]
  },
  {
   "cell_type": "markdown",
   "metadata": {
    "collapsed": false
   },
   "source": [
    "Write model input files."
   ]
  },
  {
   "cell_type": "code",
   "execution_count": null,
   "metadata": {
    "execution": {
     "iopub.execute_input": "2023-02-22T02:45:39.060917Z",
     "iopub.status.busy": "2023-02-22T02:45:39.060312Z",
     "iopub.status.idle": "2023-02-22T02:45:39.079817Z",
     "shell.execute_reply": "2023-02-22T02:45:39.078911Z"
    }
   },
   "outputs": [],
   "source": [
    "m.write_input()"
   ]
  },
  {
   "cell_type": "markdown",
   "metadata": {},
   "source": [
    "Run the model."
   ]
  },
  {
   "cell_type": "code",
   "execution_count": null,
   "metadata": {
    "execution": {
     "iopub.execute_input": "2023-02-22T02:45:39.084508Z",
     "iopub.status.busy": "2023-02-22T02:45:39.083791Z",
     "iopub.status.idle": "2023-02-22T02:45:43.610882Z",
     "shell.execute_reply": "2023-02-22T02:45:43.610249Z"
    }
   },
   "outputs": [],
   "source": [
    "success, buff = m.run_model()\n",
    "assert success, f\"{m.name} failed to run\""
   ]
  },
  {
   "cell_type": "markdown",
   "metadata": {},
   "source": [
    "## Inspecting results\n",
    "\n",
    "First, look at the budget output."
   ]
  },
  {
   "cell_type": "code",
   "execution_count": null,
   "metadata": {
    "execution": {
     "iopub.execute_input": "2023-02-22T02:45:43.613872Z",
     "iopub.status.busy": "2023-02-22T02:45:43.613658Z",
     "iopub.status.idle": "2023-02-22T02:45:43.769202Z",
     "shell.execute_reply": "2023-02-22T02:45:43.768591Z"
    }
   },
   "outputs": [],
   "source": [
    "fpth = path / \"UZFtest2.uzfcb2.bin\"\n",
    "avail = os.path.isfile(fpth)\n",
    "if avail:\n",
    "    uzfbdobjct = flopy.utils.CellBudgetFile(fpth)\n",
    "    uzfbdobjct.list_records()\n",
    "else:\n",
    "    print('\"{}\" is not available'.format(fpth))"
   ]
  },
  {
   "cell_type": "code",
   "execution_count": null,
   "metadata": {
    "execution": {
     "iopub.execute_input": "2023-02-22T02:45:43.772971Z",
     "iopub.status.busy": "2023-02-22T02:45:43.772624Z",
     "iopub.status.idle": "2023-02-22T02:45:44.008682Z",
     "shell.execute_reply": "2023-02-22T02:45:44.008007Z"
    }
   },
   "outputs": [],
   "source": [
    "if success and avail:\n",
    "    r = uzfbdobjct.get_data(text=\"UZF RECHARGE\")\n",
    "    et = uzfbdobjct.get_data(text=\"GW ET\")\n",
    "\n",
    "    fig = plt.figure(figsize=(8, 8))\n",
    "    ax = fig.add_subplot(1, 1, 1, aspect=\"equal\")\n",
    "    mapview = flopy.plot.PlotMapView(model=m)\n",
    "    quadmesh = mapview.plot_array(r[6])\n",
    "    plt.colorbar(quadmesh)\n",
    "    linecollection = mapview.plot_grid()"
   ]
  },
  {
   "cell_type": "code",
   "execution_count": null,
   "metadata": {
    "execution": {
     "iopub.execute_input": "2023-02-22T02:45:44.011743Z",
     "iopub.status.busy": "2023-02-22T02:45:44.011460Z",
     "iopub.status.idle": "2023-02-22T02:45:44.206065Z",
     "shell.execute_reply": "2023-02-22T02:45:44.205298Z"
    }
   },
   "outputs": [],
   "source": [
    "if avail:\n",
    "    rtot = [rp.sum() for rp in r]\n",
    "    ettot = [etp.sum() for etp in et]\n",
    "    sltot = [sl.sum() for sl in uzfbdobjct.get_data(text=\"SURFACE LEAKAGE\")]\n",
    "\n",
    "    plt.plot(rtot, label=\"simulated recharge\")\n",
    "    plt.plot(np.abs(ettot), label=\"simulated actual et\")\n",
    "    plt.plot(np.abs(sltot), label=\"simulated surface leakage\")\n",
    "    plt.xlabel(\"Timestep\")\n",
    "    plt.ylabel(\"Volume, in cubic feet\")\n",
    "    plt.legend()"
   ]
  },
  {
   "cell_type": "markdown",
   "metadata": {},
   "source": [
    "Look at the gages."
   ]
  },
  {
   "cell_type": "code",
   "execution_count": null,
   "metadata": {
    "execution": {
     "iopub.execute_input": "2023-02-22T02:45:44.209497Z",
     "iopub.status.busy": "2023-02-22T02:45:44.209208Z",
     "iopub.status.idle": "2023-02-22T02:45:44.479063Z",
     "shell.execute_reply": "2023-02-22T02:45:44.478246Z"
    }
   },
   "outputs": [],
   "source": [
    "fpth = path / \"UZFtest2.uzf68.out\"\n",
    "avail = os.path.isfile(fpth)\n",
    "if avail:\n",
    "    dtype = [\n",
    "        (\"TIME\", float),\n",
    "        (\"APPLIED-INFIL\", float),\n",
    "        (\"RUNOFF\", float),\n",
    "        (\"ACTUAL-INFIL\", float),\n",
    "        (\"SURFACE-LEAK\", float),\n",
    "        (\"UZ-ET\", float),\n",
    "        (\"GW-ET\", float),\n",
    "        (\"UZSTOR-CHANGE\", float),\n",
    "        (\"RECHARGE\", float),\n",
    "    ]\n",
    "    # read data from file\n",
    "    df = np.genfromtxt(fpth, skip_header=3, dtype=dtype)\n",
    "    # convert numpy recarray to pandas dataframe\n",
    "    df = pd.DataFrame(data=df)\n",
    "    # set index to the time column\n",
    "    df.set_index([\"TIME\"], inplace=True)\n",
    "    # plot the data\n",
    "    ax = df.plot(legend=False, figsize=(15, 10))\n",
    "    patches, labels = ax.get_legend_handles_labels()\n",
    "    ax.legend(patches, labels, loc=1)\n",
    "    ax.set_ylabel(\"Volume for whole model, in cubic feet\")"
   ]
  },
  {
   "cell_type": "markdown",
   "metadata": {},
   "source": [
    "Plot water content profile through time at row 10, column 5."
   ]
  },
  {
   "cell_type": "code",
   "execution_count": null,
   "metadata": {
    "execution": {
     "iopub.execute_input": "2023-02-22T02:45:44.483272Z",
     "iopub.status.busy": "2023-02-22T02:45:44.482715Z",
     "iopub.status.idle": "2023-02-22T02:45:44.499971Z",
     "shell.execute_reply": "2023-02-22T02:45:44.499226Z"
    }
   },
   "outputs": [],
   "source": [
    "fpth = path / \"UZFtest2.uzf67.out\"\n",
    "avail = os.path.isfile(fpth)\n",
    "if avail:\n",
    "    data = []\n",
    "    with open(fpth) as input:\n",
    "        for i in range(3):\n",
    "            next(input)\n",
    "        for line in input:\n",
    "            line = line.strip().split()\n",
    "            if len(line) == 6:\n",
    "                layer = int(line.pop(0))\n",
    "                time = float(line.pop(0))\n",
    "                head = float(line.pop(0))\n",
    "                uzthick = float(line.pop(0))\n",
    "            depth = float(line.pop(0))\n",
    "            watercontent = float(line.pop(0))\n",
    "            data.append([layer, time, head, uzthick, depth, watercontent])"
   ]
  },
  {
   "cell_type": "code",
   "execution_count": null,
   "metadata": {
    "execution": {
     "iopub.execute_input": "2023-02-22T02:45:44.504241Z",
     "iopub.status.busy": "2023-02-22T02:45:44.503631Z",
     "iopub.status.idle": "2023-02-22T02:45:44.512019Z",
     "shell.execute_reply": "2023-02-22T02:45:44.511324Z"
    }
   },
   "outputs": [],
   "source": [
    "if avail:\n",
    "    df3 = pd.DataFrame(\n",
    "        data,\n",
    "        columns=[\"layer\", \"time\", \"head\", \"uzthick\", \"depth\", \"watercontent\"],\n",
    "    )\n",
    "    df3.head(41)"
   ]
  },
  {
   "cell_type": "code",
   "execution_count": null,
   "metadata": {
    "execution": {
     "iopub.execute_input": "2023-02-22T02:45:44.515156Z",
     "iopub.status.busy": "2023-02-22T02:45:44.514866Z",
     "iopub.status.idle": "2023-02-22T02:45:44.519756Z",
     "shell.execute_reply": "2023-02-22T02:45:44.519166Z"
    }
   },
   "outputs": [],
   "source": [
    "if avail:\n",
    "    wc = df3.watercontent.values.reshape(len(df3.time.unique()), 40).T\n",
    "    wc = pd.DataFrame(wc, columns=df3.time.unique(), index=df3.depth[0:40])\n",
    "    wc.head()"
   ]
  },
  {
   "cell_type": "code",
   "execution_count": null,
   "metadata": {
    "execution": {
     "iopub.execute_input": "2023-02-22T02:45:44.523137Z",
     "iopub.status.busy": "2023-02-22T02:45:44.522814Z",
     "iopub.status.idle": "2023-02-22T02:45:44.920744Z",
     "shell.execute_reply": "2023-02-22T02:45:44.920067Z"
    }
   },
   "outputs": [],
   "source": [
    "if avail:\n",
    "    fig, ax = plt.subplots(figsize=(15, 10))\n",
    "    plt.imshow(wc, interpolation=\"None\")\n",
    "    ax.set_aspect(3)\n",
    "    r, c = wc.shape\n",
    "    xcol_locs = np.linspace(0, c - 1, 8, dtype=int)\n",
    "    ycol_locs = np.linspace(0, r - 1, 5, dtype=int)\n",
    "    ax.set_xticks(xcol_locs)\n",
    "\n",
    "    xlabels = wc.columns\n",
    "    ax.set_xticklabels(xlabels[xcol_locs])\n",
    "    ax.set_ylabel(\"Depth, in feet\")\n",
    "    ax.set_yticks(ycol_locs)\n",
    "    ax.set_yticklabels(wc.index[ycol_locs])\n",
    "    ax.set_xlabel(\"Time, in seconds\")\n",
    "    plt.colorbar(label=\"Water content\")"
   ]
  },
  {
   "cell_type": "markdown",
   "metadata": {
    "collapsed": false
   },
   "source": [
    "Clean up the temporary directory."
   ]
  },
  {
   "cell_type": "code",
   "execution_count": null,
   "metadata": {
    "execution": {
     "iopub.execute_input": "2023-02-22T02:45:44.924130Z",
     "iopub.status.busy": "2023-02-22T02:45:44.923829Z",
     "iopub.status.idle": "2023-02-22T02:45:44.928452Z",
     "shell.execute_reply": "2023-02-22T02:45:44.927744Z"
    }
   },
   "outputs": [],
   "source": [
    "try:\n",
    "    # ignore PermissionError on Windows\n",
    "    temp_dir.cleanup()\n",
    "except:\n",
    "    pass"
   ]
  }
 ],
 "metadata": {
  "anaconda-cloud": {},
  "kernelspec": {
   "display_name": "Python 3 (ipykernel)",
   "language": "python",
   "name": "python3"
  },
  "language_info": {
   "codemirror_mode": {
    "name": "ipython",
    "version": 3
   },
   "file_extension": ".py",
   "mimetype": "text/x-python",
   "name": "python",
   "nbconvert_exporter": "python",
   "pygments_lexer": "ipython3",
   "version": "3.10.6"
  }
 },
 "nbformat": 4,
 "nbformat_minor": 4
}
