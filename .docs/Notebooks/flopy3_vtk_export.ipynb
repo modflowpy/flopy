{
 "cells": [
  {
   "attachments": {},
   "cell_type": "markdown",
   "metadata": {},
   "source": [
    "# VTK Export Demo\n",
    "\n",
    "The `Vtk()` class in FloPy allows users to export Structured, Vertex, and Unstructured Grid based models to Visualization ToolKit files for display. This notebook demonstrates how to use FloPy to export to vtk (.vtu) files. This example will cover:\n",
    "\n",
    "   - basic exporting of information for a model, individual package, or array to `Vtk()`\n",
    "   - example usage of the `Vtk()` class object to output data \n",
    "   - exporting heads and model output data\n",
    "   - exporting modpath pathlines to `Vtk()`"
   ]
  },
  {
   "cell_type": "code",
   "execution_count": null,
   "metadata": {
    "execution": {
     "iopub.execute_input": "2023-05-02T02:57:09.174371Z",
     "iopub.status.busy": "2023-05-02T02:57:09.174054Z",
     "iopub.status.idle": "2023-05-02T02:57:11.281867Z",
     "shell.execute_reply": "2023-05-02T02:57:11.280645Z"
    }
   },
   "outputs": [],
   "source": [
    "import os\n",
    "import sys\n",
    "from pathlib import Path\n",
    "from tempfile import TemporaryDirectory\n",
    "\n",
    "import numpy as np\n",
    "\n",
    "sys.path.append(os.path.join(\"..\", \"common\"))\n",
    "import notebook_utils\n",
    "\n",
    "proj_root = Path.cwd().parent.parent\n",
    "\n",
    "# run installed version of flopy or add local path\n",
    "try:\n",
    "    import flopy\n",
    "except:\n",
    "    sys.path.append(proj_root)\n",
    "    import flopy\n",
    "\n",
    "from flopy.export import vtk\n",
    "\n",
    "print(sys.version)\n",
    "print(\"flopy version: {}\".format(flopy.__version__))"
   ]
  },
  {
   "cell_type": "code",
   "execution_count": null,
   "metadata": {
    "execution": {
     "iopub.execute_input": "2023-05-02T02:57:11.344019Z",
     "iopub.status.busy": "2023-05-02T02:57:11.343604Z",
     "iopub.status.idle": "2023-05-02T02:57:12.397540Z",
     "shell.execute_reply": "2023-05-02T02:57:12.396126Z"
    }
   },
   "outputs": [],
   "source": [
    "# load model for examples\n",
    "nam_file = \"freyberg.nam\"\n",
    "prj_root = notebook_utils.get_project_root_path()\n",
    "model_ws = prj_root / \"examples\" / \"data\" / \"freyberg_multilayer_transient\"\n",
    "ml = flopy.modflow.Modflow.load(nam_file, model_ws=model_ws, check=False)"
   ]
  },
  {
   "cell_type": "markdown",
   "metadata": {
    "collapsed": false
   },
   "source": [
    "Create a temporary workspace."
   ]
  },
  {
   "cell_type": "code",
   "execution_count": null,
   "metadata": {
    "execution": {
     "iopub.execute_input": "2023-05-02T02:57:12.402008Z",
     "iopub.status.busy": "2023-05-02T02:57:12.401162Z",
     "iopub.status.idle": "2023-05-02T02:57:12.420780Z",
     "shell.execute_reply": "2023-05-02T02:57:12.419576Z"
    }
   },
   "outputs": [],
   "source": [
    "tempdir = TemporaryDirectory()\n",
    "workspace = Path(tempdir.name)"
   ]
  },
  {
   "cell_type": "markdown",
   "metadata": {},
   "source": [
    "# Exporting to VTK using the `.export()` method\n",
    "\n",
    "For all exports **a folder path must be provided** and the `fmt` flag should be set to 'vtk'."
   ]
  },
  {
   "cell_type": "markdown",
   "metadata": {},
   "source": [
    "## Exporting FloPy arrays to .vtu files\n",
    "\n",
    "All array exports have the following optional keyword arguments:\n",
    "   - `smooth`: True creates a smooth surface, default is False\n",
    "   - `point_scalars`: True outputs point scalar values as well as cell values, default is False.\n",
    "   - `name`: A name can be specified to use for the output filename and array scalar name, by default the FloPy array name is used\n",
    "   - `binary`: argument that can be specified to switch between binary and ASCII, default is True\n",
    "   - `xml`: True will write an xml base vtk file, default is False\n",
    "   - `masked_values`: list or tuple of values to mask (set to nan) when writing a array\n",
    "   - `vertical_exageration`: floating point value that can be used to scale the vertical exageration of the vtk points. Default is 1.\n",
    "   \n",
    "Tranient type array exports (\"stress_period_data\"; ex. recharge data, well flux, etc ...) have additional optional keyword arguments:\n",
    "   - `pvd`: True will write a paraview data file with simulation time for animations. Default is False\n",
    "   - `kper`: a list, tuple, or integer value of specific stess periods to output"
   ]
  },
  {
   "cell_type": "markdown",
   "metadata": {},
   "source": [
    "### Export model top"
   ]
  },
  {
   "cell_type": "code",
   "execution_count": null,
   "metadata": {
    "execution": {
     "iopub.execute_input": "2023-05-02T02:57:12.425289Z",
     "iopub.status.busy": "2023-05-02T02:57:12.424589Z",
     "iopub.status.idle": "2023-05-02T02:57:13.784254Z",
     "shell.execute_reply": "2023-05-02T02:57:13.783287Z"
    }
   },
   "outputs": [],
   "source": [
    "# create output folder\n",
    "output_dir = workspace / \"arrays_test\"\n",
    "output_dir.mkdir(exist_ok=True)\n",
    "\n",
    "# export model top\n",
    "model_top_dir = output_dir / \"TOP\"\n",
    "ml.dis.top.export(model_top_dir, fmt=\"vtk\")"
   ]
  },
  {
   "cell_type": "markdown",
   "metadata": {},
   "source": [
    "### Export model bottoms"
   ]
  },
  {
   "cell_type": "code",
   "execution_count": null,
   "metadata": {
    "execution": {
     "iopub.execute_input": "2023-05-02T02:57:13.787956Z",
     "iopub.status.busy": "2023-05-02T02:57:13.787619Z",
     "iopub.status.idle": "2023-05-02T02:57:13.963854Z",
     "shell.execute_reply": "2023-05-02T02:57:13.962320Z"
    }
   },
   "outputs": [],
   "source": [
    "# 3D Array export\n",
    "# export model bottoms\n",
    "model_bottom_dir = output_dir / \"BOTM\"\n",
    "ml.dis.botm.export(model_bottom_dir, fmt=\"vtk\")"
   ]
  },
  {
   "cell_type": "markdown",
   "metadata": {},
   "source": [
    "### Export transient array recharge"
   ]
  },
  {
   "cell_type": "code",
   "execution_count": null,
   "metadata": {
    "execution": {
     "iopub.execute_input": "2023-05-02T02:57:13.968282Z",
     "iopub.status.busy": "2023-05-02T02:57:13.967234Z",
     "iopub.status.idle": "2023-05-02T02:58:22.876143Z",
     "shell.execute_reply": "2023-05-02T02:58:22.874749Z"
    }
   },
   "outputs": [],
   "source": [
    "# transient 2d array\n",
    "# export recharge\n",
    "model_recharge_dir = output_dir / \"RECH\"\n",
    "ml.rch.rech.export(model_recharge_dir, fmt=\"vtk\", pvd=True)"
   ]
  },
  {
   "cell_type": "markdown",
   "metadata": {},
   "source": [
    "### Export HK with point scalars\n"
   ]
  },
  {
   "cell_type": "code",
   "execution_count": null,
   "metadata": {
    "execution": {
     "iopub.execute_input": "2023-05-02T02:58:22.880063Z",
     "iopub.status.busy": "2023-05-02T02:58:22.879540Z",
     "iopub.status.idle": "2023-05-02T02:58:23.449325Z",
     "shell.execute_reply": "2023-05-02T02:58:23.448147Z"
    }
   },
   "outputs": [],
   "source": [
    "# 3D Array export\n",
    "# hk export, with points\n",
    "model_hk_dir = output_dir / \"HK\"\n",
    "ml.upw.hk.export(\n",
    "    model_hk_dir, smooth=True, fmt=\"vtk\", name=\"HK\", point_scalars=True\n",
    ")"
   ]
  },
  {
   "cell_type": "markdown",
   "metadata": {},
   "source": [
    "## Package export to .vtu files\n",
    "\n",
    "Package export has the following keyword arguments:\n",
    "   - `smooth`: True creates a smooth surface, default is False\n",
    "   - `point_scalars`: True outputs point scalar values as well as cell values, default is False.\n",
    "   - `name`: A name can be specified to use for the output filename and array scalar name, by default the FloPy array name is used\n",
    "   - `binary`: argument that can be specified to switch between binary and ASCII, default is True\n",
    "   - `xml`: True will write an xml base vtk file, default is False\n",
    "   - `masked_values`: list or tuple of values to mask (set to nan) when writing a array\n",
    "   - `vertical_exageration`: floating point value that can be used to scale the vertical exageration of the vtk points. Default is 1.\n",
    "   - `pvd`: True will write a paraview data file with simulation time for animations. Default is False\n",
    "   - `kper`: a list, tuple, or integer value of specific stess periods to output"
   ]
  },
  {
   "cell_type": "markdown",
   "metadata": {},
   "source": [
    "### Export dis and upw package"
   ]
  },
  {
   "cell_type": "code",
   "execution_count": null,
   "metadata": {
    "execution": {
     "iopub.execute_input": "2023-05-02T02:58:23.453715Z",
     "iopub.status.busy": "2023-05-02T02:58:23.453034Z",
     "iopub.status.idle": "2023-05-02T02:58:24.111276Z",
     "shell.execute_reply": "2023-05-02T02:58:24.110249Z"
    }
   },
   "outputs": [],
   "source": [
    "# package export\n",
    "# set up package export folder\n",
    "output_dir = workspace / \"package_output_test\"\n",
    "output_dir.mkdir(exist_ok=True)\n",
    "\n",
    "# export dis\n",
    "dis_output_dir = output_dir / \"DIS\"\n",
    "ml.dis.export(dis_output_dir, fmt=\"vtk\")\n",
    "\n",
    "# export upw with point scalars as a binary xml based vtk file\n",
    "upw_output_dir = output_dir / \"UPW\"\n",
    "ml.upw.export(upw_output_dir, fmt=\"vtk\", point_scalars=True, xml=True)"
   ]
  },
  {
   "cell_type": "markdown",
   "metadata": {},
   "source": [
    "# Model export to .vtu files\n",
    "\n",
    "Model export has the following optional keyword arguments:\n",
    "   \n",
    "   - `package_names`: a list of package names to export, default is None and will export all packages in the model.\n",
    "   - `smooth`: True creates a smooth surface, default is False\n",
    "   - `point_scalars`: True outputs point scalar values as well as cell values, default is False.\n",
    "   - `name`: A name can be specified to use for the output filename and array scalar name, by default the FloPy array name is used\n",
    "   - `binary`: argument that can be specified to switch between binary and ASCII, default is True\n",
    "   - `xml`: True will write an xml base vtk file, default is False\n",
    "   - `masked_values`: list or tuple of values to mask (set to nan) when writing a array\n",
    "   - `vertical_exageration`: floating point value that can be used to scale the vertical exageration of the vtk points. Default is 1.\n",
    "   - `pvd`: True will write a paraview data file with simulation time for animations. Default is False\n",
    "   - `kper`: a list, tuple, or integer value of specific stess periods to output"
   ]
  },
  {
   "cell_type": "markdown",
   "metadata": {},
   "source": [
    "### Export model as a binary unstructured vtk file"
   ]
  },
  {
   "cell_type": "code",
   "execution_count": null,
   "metadata": {
    "execution": {
     "iopub.execute_input": "2023-05-02T02:58:24.115267Z",
     "iopub.status.busy": "2023-05-02T02:58:24.114671Z",
     "iopub.status.idle": "2023-05-02T02:58:38.887809Z",
     "shell.execute_reply": "2023-05-02T02:58:38.887167Z"
    }
   },
   "outputs": [],
   "source": [
    "model_output_dir = workspace / \"model_output_test\"\n",
    "ml.export(model_output_dir, fmt=\"vtk\")"
   ]
  },
  {
   "cell_type": "markdown",
   "metadata": {},
   "source": [
    "# Exporting using the `Vtk()` class object \n",
    "\n",
    "To export custom arrays, or choose a custom combination of model inputs to view, the user first needs to instantiate a new `Vtk()` object. The `Vtk()` object has a single required parameter and a number of optional parameters that the user can take advantage of. These parameters are as follows:\n",
    "\n",
    "   - `model`: any flopy model object can be supplied to create the vtk geometry. Either the model (recommended!) or modelgrid parameter must be supplied to the Vtk() object.\n",
    "   - `modelgrid`: any flopy modelgrid object (StructuredGrid, VertexGrid, UnstructuredGrid) can be supplied, in leiu of a model object, to create the vtk geometery. \n",
    "   - `vertical_exageration`: floating point value that can be used to scale the vertical exageration of the vtk points. Default is 1.\n",
    "   - `binary`: boolean flag to switch between binary and ASCII vtk files. Default is True.\n",
    "   - `xml`: boolean flag to write xml based vtk files. Default is False\n",
    "   - `pvd`: boolean flag to write a paraview data file for transient series of vtu files. This file relates model time to vtu file for animations. Default is False. If set to True Vtk() will automatically write xml based vtu files. \n",
    "   - `shared_points`: boolean flag to write shared vertices within the vtk file. Default is False.\n",
    "   - `smooth`: boolean flag to interpolate vertex elevations using IDW based on shared cell elevations. Default is False.\n",
    "   - `point_scalars`: boolean flag to write interpolated data at each point."
   ]
  },
  {
   "cell_type": "code",
   "execution_count": null,
   "metadata": {
    "execution": {
     "iopub.execute_input": "2023-05-02T02:58:38.890013Z",
     "iopub.status.busy": "2023-05-02T02:58:38.889809Z",
     "iopub.status.idle": "2023-05-02T02:58:38.895741Z",
     "shell.execute_reply": "2023-05-02T02:58:38.895070Z"
    }
   },
   "outputs": [],
   "source": [
    "# create a binary XML VTK object and enable PVD file writing\n",
    "vtkobj = vtk.Vtk(ml, xml=True, pvd=True, vertical_exageration=10)\n",
    "vtkobj"
   ]
  },
  {
   "cell_type": "markdown",
   "metadata": {},
   "source": [
    "## Adding array data to the `Vtk()` object\n",
    "\n",
    "The `Vtk()` object has an `add_array()` method that lets the user add array data to the Field data section of the VTK file.\n",
    "\n",
    "`add_array()` has a few parameters for the user:\n",
    "   - `array` : numpy array that has a size equal to the number of cells in the model (modelgrid.nnodes).\n",
    "   - `name` : array name (string)\n",
    "   - `masked_values` : list of array values to mask/set to NaN "
   ]
  },
  {
   "cell_type": "code",
   "execution_count": null,
   "metadata": {
    "execution": {
     "iopub.execute_input": "2023-05-02T02:58:38.897921Z",
     "iopub.status.busy": "2023-05-02T02:58:38.897709Z",
     "iopub.status.idle": "2023-05-02T02:58:39.024443Z",
     "shell.execute_reply": "2023-05-02T02:58:39.023829Z"
    }
   },
   "outputs": [],
   "source": [
    "# Create a vtk object\n",
    "vtkobj = vtk.Vtk(ml, vertical_exageration=10)\n",
    "\n",
    "## create some random array data\n",
    "r_array = np.random.random(ml.modelgrid.nnodes) * 100\n",
    "\n",
    "## add random data to the VTK object\n",
    "vtkobj.add_array(r_array, \"random_data\")\n",
    "\n",
    "## add the model botom data to the VTK object\n",
    "vtkobj.add_array(ml.dis.botm.array, \"botm\")\n",
    "\n",
    "## write the vtk object to file\n",
    "vtkobj.write(output_dir / \"Array_example\" / \"model.vtu\")"
   ]
  },
  {
   "cell_type": "markdown",
   "metadata": {},
   "source": [
    "## Adding transient array data to the `Vtk()` object\n",
    "\n",
    "The `Vtk()` class has an `add_transient_array()` method that allows the user to create a series of time varying `Vtk()` files that can be used for animation in VTK viewers.\n",
    "\n",
    "The `add_transient_array()` method accepts a dictionary of array2d, array3d, or numpy array objects. Parameters include:\n",
    "   - `d`: dictionary of array2d, array3d, or numpy array objects\n",
    "   - `name`: parameter name, required when user provides a dictionary of numpy arrays\n",
    "   - `masked_values`: optional list of values to set equal to NaN."
   ]
  },
  {
   "cell_type": "code",
   "execution_count": null,
   "metadata": {
    "execution": {
     "iopub.execute_input": "2023-05-02T02:58:39.026732Z",
     "iopub.status.busy": "2023-05-02T02:58:39.026526Z",
     "iopub.status.idle": "2023-05-02T02:59:37.920193Z",
     "shell.execute_reply": "2023-05-02T02:59:37.919427Z"
    }
   },
   "outputs": [],
   "source": [
    "# create a vtk object\n",
    "vtkobj = vtk.Vtk(ml, xml=True, pvd=True, vertical_exageration=10)\n",
    "\n",
    "## add recharge to the VTK object\n",
    "recharge = ml.rch.rech.transient_2ds\n",
    "vtkobj.add_transient_array(\n",
    "    recharge,\n",
    "    \"recharge\",\n",
    "    masked_values=[\n",
    "        0,\n",
    "    ],\n",
    ")\n",
    "\n",
    "## write vtk files\n",
    "vtkobj.write(output_dir / \"tr_array_example\" / \"recharge.vtu\")"
   ]
  },
  {
   "cell_type": "markdown",
   "metadata": {},
   "source": [
    "## Adding transient list data to the `Vtk()` object\n",
    "\n",
    "The `Vtk()` class has an `add_transient_list()` method that allows the user to create a series of time varying `Vtk()` files that can be used for animation in VTK viewers.\n",
    "\n",
    "The `add_transient_list()` method accepts a FloPy mflist (transient list) type object. Parameters include:\n",
    "   - `mflist`: flopy transient list object\n",
    "   - `masked_values`: list of values to set equal to NaN"
   ]
  },
  {
   "cell_type": "code",
   "execution_count": null,
   "metadata": {
    "execution": {
     "iopub.execute_input": "2023-05-02T02:59:37.923325Z",
     "iopub.status.busy": "2023-05-02T02:59:37.923027Z",
     "iopub.status.idle": "2023-05-02T03:00:35.888541Z",
     "shell.execute_reply": "2023-05-02T03:00:35.887712Z"
    }
   },
   "outputs": [],
   "source": [
    "# create the vtk object\n",
    "vtkobj = vtk.Vtk(ml, xml=True, pvd=True, vertical_exageration=10)\n",
    "\n",
    "## add well fluxes to the VTK object\n",
    "spd = ml.wel.stress_period_data\n",
    "vtkobj.add_transient_list(\n",
    "    spd,\n",
    "    masked_values=[\n",
    "        0,\n",
    "    ],\n",
    ")\n",
    "\n",
    "## write vtk files\n",
    "vtkobj.write(output_dir / \"tr_list_example\" / \"wel_flux.vtu\")"
   ]
  },
  {
   "cell_type": "markdown",
   "metadata": {},
   "source": [
    "## Adding packages to the `Vtk` object\n",
    "\n",
    "The `Vtk()` class has a method for adding package data to a VTK file as Field Data. The `add_package()` method allows the user to add packages for subsequent export. `add_package()` takes the following parameters:\n",
    "\n",
    "   - `pkg`: flopy package object\n",
    "   - `masked_values`: optional list of values to set to NaN.\n"
   ]
  },
  {
   "cell_type": "markdown",
   "metadata": {},
   "source": [
    "In the following example, a HFB package is added to the existing freyberg model and then exported with the WEL package."
   ]
  },
  {
   "cell_type": "code",
   "execution_count": null,
   "metadata": {
    "execution": {
     "iopub.execute_input": "2023-05-02T03:00:35.892817Z",
     "iopub.status.busy": "2023-05-02T03:00:35.891429Z",
     "iopub.status.idle": "2023-05-02T03:00:35.897593Z",
     "shell.execute_reply": "2023-05-02T03:00:35.896836Z"
    }
   },
   "outputs": [],
   "source": [
    "# create a HFB package for the example\n",
    "hfb_data = []\n",
    "for k in range(3):\n",
    "    for i in range(20):\n",
    "        rec = [k, i, 6, i, 7, 1e-06]\n",
    "        hfb_data.append(rec)\n",
    "\n",
    "hfb = flopy.modflow.ModflowHfb(ml, hfb_data=hfb_data)"
   ]
  },
  {
   "cell_type": "code",
   "execution_count": null,
   "metadata": {
    "execution": {
     "iopub.execute_input": "2023-05-02T03:00:35.900648Z",
     "iopub.status.busy": "2023-05-02T03:00:35.900078Z",
     "iopub.status.idle": "2023-05-02T03:00:47.831464Z",
     "shell.execute_reply": "2023-05-02T03:00:47.830845Z"
    }
   },
   "outputs": [],
   "source": [
    "# export HFB and WEL packages using Vtk()\n",
    "vtkobj = vtk.Vtk(ml, vertical_exageration=10)\n",
    "\n",
    "vtkobj.add_package(hfb)\n",
    "vtkobj.add_package(ml.wel)\n",
    "\n",
    "vtkobj.write(output_dir / \"package_example\" / \"package_export.vtu\")"
   ]
  },
  {
   "cell_type": "markdown",
   "metadata": {},
   "source": [
    "# Export heads to binary .vtu files\n",
    "\n",
    "Once a `Vtk()` object is instantiated (see above), the `Vtk()` class has an `add_heads()` method. This method has a few parameters:\n",
    "  - `hds`: a flopy FormattedHeadFile or HeadFile object. This method also accepts DrawdownFile, and ConcentrationFile objects.\n",
    "  - `kstpkper`: optional list of zero based (timestep, stress period) tuples to output. Default is None and will output all data to a series of vtu files\n",
    "  - `masked_values`: optional list of values to set to NaN, default is None.\n"
   ]
  },
  {
   "cell_type": "code",
   "execution_count": null,
   "metadata": {
    "execution": {
     "iopub.execute_input": "2023-05-02T03:00:47.834548Z",
     "iopub.status.busy": "2023-05-02T03:00:47.834224Z",
     "iopub.status.idle": "2023-05-02T03:01:45.370591Z",
     "shell.execute_reply": "2023-05-02T03:01:45.369623Z"
    }
   },
   "outputs": [],
   "source": [
    "# import the HeadFile reader and read in the head file\n",
    "from flopy.utils import HeadFile\n",
    "\n",
    "head_file = model_ws / \"freyberg.hds\"\n",
    "hds = HeadFile(head_file)\n",
    "\n",
    "# create the vtk object and export heads\n",
    "vtkobj = vtk.Vtk(ml, xml=True, pvd=True, vertical_exageration=10)\n",
    "vtkobj.add_heads(hds)\n",
    "vtkobj.write(workspace / \"heads_output_test\" / \"freyberg_head.vtu\")"
   ]
  },
  {
   "cell_type": "markdown",
   "metadata": {},
   "source": [
    "### Export heads as point scalar arrays"
   ]
  },
  {
   "cell_type": "code",
   "execution_count": null,
   "metadata": {
    "execution": {
     "iopub.execute_input": "2023-05-02T03:01:45.373711Z",
     "iopub.status.busy": "2023-05-02T03:01:45.373462Z",
     "iopub.status.idle": "2023-05-02T03:01:45.820859Z",
     "shell.execute_reply": "2023-05-02T03:01:45.819804Z"
    }
   },
   "outputs": [],
   "source": [
    "# export heads as point scalars\n",
    "vtkobj = vtk.Vtk(\n",
    "    ml, xml=True, pvd=True, point_scalars=True, vertical_exageration=10\n",
    ")\n",
    "\n",
    "# export heads for time step 1, stress periods 1, 50, 100, 1000\n",
    "vtkobj.add_heads(hds, kstpkper=[(0, 0), (0, 49), (0, 99), (0, 999)])\n",
    "vtkobj.write(workspace / \"heads_output_test_parameters\" / \"freyberg_head.vtu\")"
   ]
  },
  {
   "cell_type": "markdown",
   "metadata": {},
   "source": [
    "# Export cell budget information\n",
    "\n",
    "Once a `Vtk()` object is instantiated (see above), the `Vtk()` class has an `add_cell_budget()` method. This method has a few parameters:\n",
    "   - `cbc`: flopy CellBudgetFile object\n",
    "   - `text`: Optional text identifier for a record type. Examples include 'RIVER LEAKAGE', 'STORAGE', etc... Default is None and will export all cell budget information to vtk files\n",
    "   - `kstpkper`: optional list of zero based (timestep, stress period) tuples to output. Default is None and will output all data to a series of vtu files\n",
    "   - `masked_values`: optional list of values to set to NaN, default is None."
   ]
  },
  {
   "cell_type": "code",
   "execution_count": null,
   "metadata": {
    "execution": {
     "iopub.execute_input": "2023-05-02T03:01:45.824566Z",
     "iopub.status.busy": "2023-05-02T03:01:45.824212Z",
     "iopub.status.idle": "2023-05-02T03:01:47.369315Z",
     "shell.execute_reply": "2023-05-02T03:01:47.368694Z"
    }
   },
   "outputs": [],
   "source": [
    "# import the CellBudgetFile reader and read the CBC file\n",
    "from flopy.utils import CellBudgetFile\n",
    "\n",
    "cbc_file = model_ws / \"freyberg.cbc\"\n",
    "cbc = CellBudgetFile(cbc_file)\n",
    "\n",
    "# export the cbc file to a series of Vtu files with a PVD file for animation\n",
    "vtkobj = vtk.Vtk(ml, xml=True, pvd=True, vertical_exageration=10)\n",
    "vtkobj.add_cell_budget(cbc, kstpkper=[(0, 0), (0, 9), (0, 10), (0, 11)])\n",
    "vtkobj.write(workspace / \"cbc_output_test_parameters\" / \"freyberg_cbc.vtu\")"
   ]
  },
  {
   "cell_type": "markdown",
   "metadata": {},
   "source": [
    "### Exporting vectors from the Cell Budget File with the `Vtk()` class\n",
    "\n",
    "The `Vtk()` class has an `add_vector()` method that allows the user to write vector information to VTK files. This method can be used to export information such as cell centered specific discharge.\n",
    "\n",
    "The `add_vector()` method accepts a numpy array of vector data. The array size must be 3 * the number of model cells (3 * modelgrid.nnodes). Parameters include:\n",
    "   - `vector`: numpy array of size 3 * nnodes\n",
    "   - `name`: name of the vector \n",
    "   - `masked_values`: list of values to set equal to NaN\n"
   ]
  },
  {
   "cell_type": "code",
   "execution_count": null,
   "metadata": {
    "execution": {
     "iopub.execute_input": "2023-05-02T03:01:47.371660Z",
     "iopub.status.busy": "2023-05-02T03:01:47.371460Z",
     "iopub.status.idle": "2023-05-02T03:01:47.431415Z",
     "shell.execute_reply": "2023-05-02T03:01:47.430469Z"
    }
   },
   "outputs": [],
   "source": [
    "# get frf, fff, flf from the Cell Budget file (or SPDIS when using MF6)\n",
    "from flopy.utils import postprocessing\n",
    "\n",
    "frf = cbc.get_data(text=\"FLOW RIGHT FACE\", kstpkper=(0, 9), full3D=True)[0]\n",
    "fff = cbc.get_data(text=\"FLOW FRONT FACE\", kstpkper=(0, 9), full3D=True)[0]\n",
    "flf = cbc.get_data(text=\"FLOW LOWER FACE\", kstpkper=(0, 9), full3D=True)[0]\n",
    "\n",
    "spdis = postprocessing.get_specific_discharge((frf, fff, flf), ml)\n",
    "\n",
    "# create the Vtk() object\n",
    "vtkobj = vtk.Vtk(ml, vertical_exageration=10)\n",
    "\n",
    "# add the vector\n",
    "vtkobj.add_vector(spdis, name=\"spdis\")\n",
    "\n",
    "# write to file\n",
    "vtkobj.write(output_dir / \"vector_example\" / \"spdis_vector.vtu\")"
   ]
  },
  {
   "cell_type": "markdown",
   "metadata": {},
   "source": [
    "# Adding Modpath timeseries or pathline data to `Vtk()`\n",
    "\n",
    "The `Vtk()` class support writing MODPATH pathline/timeseries data to a Vtk file. To start the example, let's first load and run a MODPATH simulation (see flopy3_modpath7_unstructured_example for details) and then add the output to a `Vtk()` object."
   ]
  },
  {
   "cell_type": "code",
   "execution_count": null,
   "metadata": {
    "execution": {
     "iopub.execute_input": "2023-05-02T03:01:47.434853Z",
     "iopub.status.busy": "2023-05-02T03:01:47.434484Z",
     "iopub.status.idle": "2023-05-02T03:01:49.197360Z",
     "shell.execute_reply": "2023-05-02T03:01:49.196067Z"
    }
   },
   "outputs": [],
   "source": [
    "# load and run the vertex grid model and modpath7\n",
    "notebook_utils.run(workspace)\n",
    "\n",
    "# check if model ran properly\n",
    "modelpth = workspace / \"mp7_ex2\" / \"mf6\"\n",
    "files = [\"mp7p2.hds\", \"mp7p2.cbb\"]\n",
    "for f in files:\n",
    "    if os.path.isfile(modelpth / f):\n",
    "        msg = \"Output file located: {}\".format(f)\n",
    "        print(msg)\n",
    "    else:\n",
    "        errmsg = \"Error. Output file cannot be found: {}\".format(f)\n",
    "        print(errmsg)"
   ]
  },
  {
   "cell_type": "code",
   "execution_count": null,
   "metadata": {
    "execution": {
     "iopub.execute_input": "2023-05-02T03:01:49.200916Z",
     "iopub.status.busy": "2023-05-02T03:01:49.200428Z",
     "iopub.status.idle": "2023-05-02T03:01:49.349655Z",
     "shell.execute_reply": "2023-05-02T03:01:49.348873Z"
    }
   },
   "outputs": [],
   "source": [
    "# load the simulation and get the model\n",
    "vertex_sim_name = \"mfsim.nam\"\n",
    "vertex_sim = flopy.mf6.MFSimulation.load(\n",
    "    sim_name=vertex_sim_name, exe_name=\"mf6\", sim_ws=modelpth\n",
    ")\n",
    "vertex_ml6 = vertex_sim.get_model(\"mp7p2\")\n",
    "\n",
    "# load the MODPATH-7 results\n",
    "mp_namea = \"mp7p2a_mp\"\n",
    "fpth = modelpth / f\"{mp_namea}.mppth\"\n",
    "p = flopy.utils.PathlineFile(fpth)\n",
    "p0 = p.get_alldata()"
   ]
  },
  {
   "cell_type": "markdown",
   "metadata": {},
   "source": [
    "Create the `Vtk()` object and add all of the model data to it"
   ]
  },
  {
   "cell_type": "code",
   "execution_count": null,
   "metadata": {
    "execution": {
     "iopub.execute_input": "2023-05-02T03:01:49.352644Z",
     "iopub.status.busy": "2023-05-02T03:01:49.352373Z",
     "iopub.status.idle": "2023-05-02T03:01:49.440483Z",
     "shell.execute_reply": "2023-05-02T03:01:49.439620Z"
    }
   },
   "outputs": [],
   "source": [
    "vtkobj = vtk.Vtk(vertex_ml6, xml=True, pvd=True, vertical_exageration=10)\n",
    "vtkobj.add_model(vertex_ml6)"
   ]
  },
  {
   "cell_type": "markdown",
   "metadata": {},
   "source": [
    "Add modpath data to the `Vtk()` object.\n",
    "\n",
    "*Note: this will create a second vtk file that has the file signature: `myfilename)_pathline.vtu*`"
   ]
  },
  {
   "cell_type": "code",
   "execution_count": null,
   "metadata": {
    "execution": {
     "iopub.execute_input": "2023-05-02T03:01:49.442771Z",
     "iopub.status.busy": "2023-05-02T03:01:49.442539Z",
     "iopub.status.idle": "2023-05-02T03:01:49.522027Z",
     "shell.execute_reply": "2023-05-02T03:01:49.521457Z"
    }
   },
   "outputs": [],
   "source": [
    "vtkobj.add_pathline_points(p0, timeseries=False)\n",
    "vtkobj.write(output_dir / \"mp7_vertex_example\" / \"vertex_ex.vtu\")"
   ]
  },
  {
   "cell_type": "markdown",
   "metadata": {
    "collapsed": false
   },
   "source": [
    "Clean up the temporary workspace."
   ]
  },
  {
   "cell_type": "code",
   "execution_count": null,
   "metadata": {
    "execution": {
     "iopub.execute_input": "2023-05-02T03:01:49.524343Z",
     "iopub.status.busy": "2023-05-02T03:01:49.524138Z",
     "iopub.status.idle": "2023-05-02T03:01:52.147298Z",
     "shell.execute_reply": "2023-05-02T03:01:52.146675Z"
    }
   },
   "outputs": [],
   "source": [
    "try:\n",
    "    # ignore PermissionError on Windows\n",
    "    tempdir.cleanup()\n",
    "except:\n",
    "    pass"
   ]
  }
 ],
 "metadata": {
  "kernelspec": {
   "display_name": "Python 3 (ipykernel)",
   "language": "python",
   "name": "python3"
  },
  "language_info": {
   "codemirror_mode": {
    "name": "ipython",
    "version": 3
   },
   "file_extension": ".py",
   "mimetype": "text/x-python",
   "name": "python",
   "nbconvert_exporter": "python",
   "pygments_lexer": "ipython3",
   "version": "3.11.0"
  }
 },
 "nbformat": 4,
 "nbformat_minor": 4
}
