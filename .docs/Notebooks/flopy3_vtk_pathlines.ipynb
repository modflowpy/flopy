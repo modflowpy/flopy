{
 "cells": [
  {
   "attachments": {},
   "cell_type": "markdown",
   "metadata": {},
   "source": [
    "# FloPy VTK/PyVista particle tracking pathline visualization demo\n",
    "\n",
    "This notebook arranges and runs a steady state MODFLOW 6 groundwater flow model, then a MODPATH 7 particle tracking model, using the Freyberg grid. Particle tracks are exported to VTK files, then loaded and visualized with [PyVista](https://docs.pyvista.org/version/stable/index.html), first in a static plot and then an animated GIF.\n",
    "\n",
    "First, import FloPy and show the version."
   ]
  },
  {
   "cell_type": "code",
   "execution_count": null,
   "metadata": {
    "execution": {
     "iopub.execute_input": "2023-05-02T02:57:06.438509Z",
     "iopub.status.busy": "2023-05-02T02:57:06.438174Z",
     "iopub.status.idle": "2023-05-02T02:57:08.494331Z",
     "shell.execute_reply": "2023-05-02T02:57:08.493139Z"
    }
   },
   "outputs": [],
   "source": [
    "import sys\n",
    "import flopy\n",
    "\n",
    "print(sys.version)\n",
    "print(\"flopy version: {}\".format(flopy.__version__))"
   ]
  },
  {
   "attachments": {},
   "cell_type": "markdown",
   "metadata": {},
   "source": [
    "Load the Freyberg MF6 groundwater flow model."
   ]
  },
  {
   "cell_type": "code",
   "execution_count": null,
   "metadata": {
    "execution": {
     "iopub.execute_input": "2023-05-02T02:57:08.559448Z",
     "iopub.status.busy": "2023-05-02T02:57:08.559014Z",
     "iopub.status.idle": "2023-05-02T02:57:08.695122Z",
     "shell.execute_reply": "2023-05-02T02:57:08.694148Z"
    }
   },
   "outputs": [],
   "source": [
    "from pathlib import Path\n",
    "from flopy.mf6 import MFSimulation\n",
    "\n",
    "mdl_name = \"freyberg\"\n",
    "sim_name = f\"mf6-{mdl_name}-vtk-pathlines\"\n",
    "sim_path = Path.cwd().parent / \"../examples/data\" / f\"mf6-{mdl_name}\"\n",
    "\n",
    "sim = MFSimulation.load(\n",
    "    sim_name=sim_name,\n",
    "    sim_ws=sim_path\n",
    ")"
   ]
  },
  {
   "cell_type": "markdown",
   "metadata": {},
   "source": [
    "Create a temporary directory and change the simulation's workspace."
   ]
  },
  {
   "cell_type": "code",
   "execution_count": null,
   "metadata": {
    "execution": {
     "iopub.execute_input": "2023-05-02T02:57:08.698816Z",
     "iopub.status.busy": "2023-05-02T02:57:08.698247Z",
     "iopub.status.idle": "2023-05-02T02:57:08.720352Z",
     "shell.execute_reply": "2023-05-02T02:57:08.719480Z"
    }
   },
   "outputs": [],
   "source": [
    "from tempfile import TemporaryDirectory\n",
    "\n",
    "temp_path = TemporaryDirectory()\n",
    "workspace = Path(temp_path.name)\n",
    "sim.set_sim_path(workspace)"
   ]
  },
  {
   "cell_type": "markdown",
   "metadata": {},
   "source": [
    "Write the input files to the temporary workspace."
   ]
  },
  {
   "cell_type": "code",
   "execution_count": null,
   "metadata": {
    "execution": {
     "iopub.execute_input": "2023-05-02T02:57:08.724006Z",
     "iopub.status.busy": "2023-05-02T02:57:08.723694Z",
     "iopub.status.idle": "2023-05-02T02:57:08.775379Z",
     "shell.execute_reply": "2023-05-02T02:57:08.774084Z"
    }
   },
   "outputs": [],
   "source": [
    "sim.write_simulation()"
   ]
  },
  {
   "cell_type": "markdown",
   "metadata": {},
   "source": [
    "Run the groundwater flow simulation."
   ]
  },
  {
   "cell_type": "code",
   "execution_count": null,
   "metadata": {
    "execution": {
     "iopub.execute_input": "2023-05-02T02:57:08.779329Z",
     "iopub.status.busy": "2023-05-02T02:57:08.778934Z",
     "iopub.status.idle": "2023-05-02T02:57:08.977860Z",
     "shell.execute_reply": "2023-05-02T02:57:08.968067Z"
    }
   },
   "outputs": [],
   "source": [
    "success, buff = sim.run_simulation(silent=True, report=True)\n",
    "assert success, \"MODFLOW 6 simulation failed\"\n",
    "for line in buff:\n",
    "    print(line)"
   ]
  },
  {
   "attachments": {},
   "cell_type": "markdown",
   "metadata": {},
   "source": [
    "Define particle release locations. In this example we will release 16 particles, with each particle released at the center of a unique grid cell. Cells containing particle release points are clustered into four 2x2 square regions."
   ]
  },
  {
   "cell_type": "code",
   "execution_count": null,
   "metadata": {
    "execution": {
     "iopub.execute_input": "2023-05-02T02:57:08.983480Z",
     "iopub.status.busy": "2023-05-02T02:57:08.982823Z",
     "iopub.status.idle": "2023-05-02T02:57:08.994043Z",
     "shell.execute_reply": "2023-05-02T02:57:08.993139Z"
    }
   },
   "outputs": [],
   "source": [
    "pgs = []\n",
    "gwf = sim.get_model(mdl_name)\n",
    "\n",
    "for i in range(1, 5):\n",
    "    nrow = gwf.modelgrid.nrow\n",
    "    ncol = gwf.modelgrid.ncol\n",
    "    m = i * 2 if i < 3 else (nrow - i * 4)\n",
    "    n = i *2 if i < 3 else (ncol - i * 4)\n",
    "    celldata = flopy.modpath.CellDataType(\n",
    "        drape=0,\n",
    "        columncelldivisions=1,\n",
    "        rowcelldivisions=1,\n",
    "        layercelldivisions=1\n",
    "    )\n",
    "    lrcpd = flopy.modpath.LRCParticleData(\n",
    "        subdivisiondata=[celldata],\n",
    "        lrcregions=[[[0, m, n, 0, m + 1, n + 1]]],\n",
    "    )\n",
    "    pg = flopy.modpath.ParticleGroupLRCTemplate(\n",
    "        particlegroupname=f\"PG{i}\", particledata=lrcpd, filename=f\"{sim_name}.pg{i}.sloc\"\n",
    "    )\n",
    "    pgs.append(pg)"
   ]
  },
  {
   "attachments": {},
   "cell_type": "markdown",
   "metadata": {},
   "source": [
    "Retrieve well locations (to define termination zones)."
   ]
  },
  {
   "cell_type": "code",
   "execution_count": null,
   "metadata": {
    "execution": {
     "iopub.execute_input": "2023-05-02T02:57:08.999102Z",
     "iopub.status.busy": "2023-05-02T02:57:08.998302Z",
     "iopub.status.idle": "2023-05-02T02:57:09.004440Z",
     "shell.execute_reply": "2023-05-02T02:57:09.003608Z"
    }
   },
   "outputs": [],
   "source": [
    "import numpy as np\n",
    "\n",
    "wel_locs = [(rec[0][1], rec[0][2]) for rec in (gwf.wel.stress_period_data.data[0])]\n",
    "print(wel_locs)"
   ]
  },
  {
   "cell_type": "markdown",
   "metadata": {},
   "source": [
    "Define particle termination zones."
   ]
  },
  {
   "cell_type": "code",
   "execution_count": null,
   "metadata": {
    "execution": {
     "iopub.execute_input": "2023-05-02T02:57:09.007848Z",
     "iopub.status.busy": "2023-05-02T02:57:09.007484Z",
     "iopub.status.idle": "2023-05-02T02:57:09.012808Z",
     "shell.execute_reply": "2023-05-02T02:57:09.011949Z"
    }
   },
   "outputs": [],
   "source": [
    "zone_maps = []\n",
    "\n",
    "# zone 1 is the default (non-terminating regions)\n",
    "def fill_zone_1():\n",
    "    return np.ones((nrow, ncol), dtype=np.int32)\n",
    "\n",
    "za = fill_zone_1()\n",
    "for wl in wel_locs:\n",
    "    za[wl] = 2  # wells\n",
    "za[:,14] = 3  # river is in column 14\n",
    "zone_maps.append(za)"
   ]
  },
  {
   "attachments": {},
   "cell_type": "markdown",
   "metadata": {},
   "source": [
    "Create a MODPATH 7 simulation forward tracking model in `combined` (pathline & timeseries) mode."
   ]
  },
  {
   "cell_type": "code",
   "execution_count": null,
   "metadata": {
    "execution": {
     "iopub.execute_input": "2023-05-02T02:57:09.016358Z",
     "iopub.status.busy": "2023-05-02T02:57:09.015848Z",
     "iopub.status.idle": "2023-05-02T02:57:09.025134Z",
     "shell.execute_reply": "2023-05-02T02:57:09.024239Z"
    }
   },
   "outputs": [],
   "source": [
    "mp = flopy.modpath.Modpath7(\n",
    "    modelname=f\"{sim_name}_mp\",\n",
    "    flowmodel=gwf,\n",
    "    exe_name=\"mp7\",\n",
    "    model_ws=workspace,\n",
    ")\n",
    "mpbas = flopy.modpath.Modpath7Bas(mp, porosity=0.1)\n",
    "mpsim = flopy.modpath.Modpath7Sim(\n",
    "    mp,\n",
    "    simulationtype=\"combined\",\n",
    "    trackingdirection=\"forward\",\n",
    "    budgetoutputoption=\"summary\",\n",
    "    referencetime=[0, 0, 0.0],\n",
    "    timepointdata=[1, [0]],\n",
    "    zonedataoption=\"on\",\n",
    "    zones=zone_maps,\n",
    "    particlegroups=pgs,\n",
    ")"
   ]
  },
  {
   "cell_type": "markdown",
   "metadata": {},
   "source": [
    "Write and run the particle tracking model."
   ]
  },
  {
   "cell_type": "code",
   "execution_count": null,
   "metadata": {
    "execution": {
     "iopub.execute_input": "2023-05-02T02:57:09.029050Z",
     "iopub.status.busy": "2023-05-02T02:57:09.028440Z",
     "iopub.status.idle": "2023-05-02T02:57:09.126652Z",
     "shell.execute_reply": "2023-05-02T02:57:09.125526Z"
    }
   },
   "outputs": [],
   "source": [
    "mp.write_input()\n",
    "success, buff = mp.run_model(silent=True, report=True)\n",
    "assert success, \"MODPATH 7 simulation failed\"\n",
    "for line in buff:\n",
    "    print(line)"
   ]
  },
  {
   "cell_type": "markdown",
   "metadata": {},
   "source": [
    "Open the pathline output file and read pathline data."
   ]
  },
  {
   "cell_type": "code",
   "execution_count": null,
   "metadata": {
    "execution": {
     "iopub.execute_input": "2023-05-02T02:57:09.130785Z",
     "iopub.status.busy": "2023-05-02T02:57:09.130370Z",
     "iopub.status.idle": "2023-05-02T02:57:09.142181Z",
     "shell.execute_reply": "2023-05-02T02:57:09.141221Z"
    }
   },
   "outputs": [],
   "source": [
    "from flopy.utils import PathlineFile\n",
    "\n",
    "pf = PathlineFile(workspace / mpsim.pathlinefilename)\n",
    "pl = pf.get_alldata()"
   ]
  },
  {
   "cell_type": "markdown",
   "metadata": {},
   "source": [
    "Plot the grid, heads, boundary conditions, and pathlines."
   ]
  },
  {
   "cell_type": "code",
   "execution_count": null,
   "metadata": {
    "execution": {
     "iopub.execute_input": "2023-05-02T02:57:09.146252Z",
     "iopub.status.busy": "2023-05-02T02:57:09.145630Z",
     "iopub.status.idle": "2023-05-02T02:57:09.509378Z",
     "shell.execute_reply": "2023-05-02T02:57:09.507906Z"
    }
   },
   "outputs": [],
   "source": [
    "import matplotlib.pyplot as plt\n",
    "\n",
    "hf = flopy.utils.HeadFile(workspace / f\"{mdl_name}.hds\")\n",
    "hds = hf.get_data()\n",
    "        \n",
    "fig = plt.figure(figsize=(8, 8))\n",
    "ax = fig.add_subplot(1, 1, 1, aspect=\"equal\")\n",
    "mv = flopy.plot.PlotMapView(model=gwf)\n",
    "mv.plot_grid()\n",
    "mv.plot_ibound()\n",
    "hd = mv.plot_array(hds, alpha=0.4)\n",
    "cb = plt.colorbar(hd, shrink=0.5)\n",
    "cb.set_label(\"Head\")\n",
    "mv.plot_bc(\"RIV\")\n",
    "mv.plot_bc(\"WEL\", plotAll=True)\n",
    "mv.plot_pathline(pl, layer=\"all\", alpha=0.5, colors=[\"purple\"], lw=2)\n",
    "plt.show()"
   ]
  },
  {
   "attachments": {},
   "cell_type": "markdown",
   "metadata": {},
   "source": [
    "Create a `Vtk` object and add the flow model outputs and pathlines."
   ]
  },
  {
   "cell_type": "code",
   "execution_count": null,
   "metadata": {
    "execution": {
     "iopub.execute_input": "2023-05-02T02:57:09.513440Z",
     "iopub.status.busy": "2023-05-02T02:57:09.512572Z",
     "iopub.status.idle": "2023-05-02T02:57:13.700622Z",
     "shell.execute_reply": "2023-05-02T02:57:13.699451Z"
    }
   },
   "outputs": [],
   "source": [
    "from flopy.export.vtk import Vtk\n",
    "\n",
    "vtk = Vtk(model=gwf, binary=False, vertical_exageration=50, smooth=False)\n",
    "vtk.add_model(gwf)\n",
    "vtk.add_pathline_points(pl)"
   ]
  },
  {
   "attachments": {},
   "cell_type": "markdown",
   "metadata": {},
   "source": [
    "Convert the VTK object to PyVista meshes."
   ]
  },
  {
   "cell_type": "code",
   "execution_count": null,
   "metadata": {
    "execution": {
     "iopub.execute_input": "2023-05-02T02:57:13.704551Z",
     "iopub.status.busy": "2023-05-02T02:57:13.703977Z",
     "iopub.status.idle": "2023-05-02T02:57:14.371643Z",
     "shell.execute_reply": "2023-05-02T02:57:14.370706Z"
    }
   },
   "outputs": [],
   "source": [
    "grid, pathlines = vtk.to_pyvista()"
   ]
  },
  {
   "cell_type": "markdown",
   "metadata": {},
   "source": [
    "Rotate the meshes to match the orientation of the map view plot above."
   ]
  },
  {
   "cell_type": "code",
   "execution_count": null,
   "metadata": {
    "execution": {
     "iopub.execute_input": "2023-05-02T02:57:14.375323Z",
     "iopub.status.busy": "2023-05-02T02:57:14.374991Z",
     "iopub.status.idle": "2023-05-02T02:57:14.390791Z",
     "shell.execute_reply": "2023-05-02T02:57:14.389927Z"
    }
   },
   "outputs": [],
   "source": [
    "import pyvista as pv\n",
    "\n",
    "axes = pv.Axes(show_actor=True, actor_scale=2.0, line_width=5)\n",
    "\n",
    "grid.rotate_z(160, point=axes.origin, inplace=True)\n",
    "pathlines.rotate_z(160, point=axes.origin, inplace=True)"
   ]
  },
  {
   "cell_type": "markdown",
   "metadata": {},
   "source": [
    "Check some grid properties to make sure the export succeeded."
   ]
  },
  {
   "cell_type": "code",
   "execution_count": null,
   "metadata": {
    "execution": {
     "iopub.execute_input": "2023-05-02T02:57:14.394075Z",
     "iopub.status.busy": "2023-05-02T02:57:14.393761Z",
     "iopub.status.idle": "2023-05-02T02:57:14.398770Z",
     "shell.execute_reply": "2023-05-02T02:57:14.397937Z"
    }
   },
   "outputs": [],
   "source": [
    "assert grid.n_cells == gwf.modelgrid.nnodes\n",
    "print(\"Model grid has\", grid.n_cells, \"cells\")\n",
    "print(\"Model grid has\", grid.n_arrays, \"arrays\")"
   ]
  },
  {
   "attachments": {},
   "cell_type": "markdown",
   "metadata": {},
   "source": [
    "Select particle release locations and build a dictionary of particle tracks (pathlines). This will be used below for particle labelling, as well as for animation.\n",
    "\n",
    "**Note**: while below we construct pathlines manually from data read from the exported VTK files, pathlines may also be read directly from the MODPATH 7 pathline output file (provided the simulation was run in `pathline` or `combined` mode, as this one was)."
   ]
  },
  {
   "cell_type": "code",
   "execution_count": null,
   "metadata": {
    "execution": {
     "iopub.execute_input": "2023-05-02T02:57:14.402015Z",
     "iopub.status.busy": "2023-05-02T02:57:14.401713Z",
     "iopub.status.idle": "2023-05-02T02:57:14.439108Z",
     "shell.execute_reply": "2023-05-02T02:57:14.438134Z"
    }
   },
   "outputs": [],
   "source": [
    "tracks = {}\n",
    "particle_ids = set()\n",
    "release_locs = list()\n",
    "\n",
    "for i, t in enumerate(pathlines[\"time\"]):\n",
    "    pid = str(round(float(pathlines[\"particleid\"][i])))\n",
    "    loc = pathlines.points[i]\n",
    "\n",
    "    if pid not in tracks:\n",
    "        tracks[pid] = []\n",
    "        particle_ids.add(pid)\n",
    "        release_locs.append(loc)\n",
    "    \n",
    "    # store the particle location in the corresponding track\n",
    "    tracks[pid].append((loc, t))\n",
    "\n",
    "release_locs = np.array(release_locs)\n",
    "tracks = {k: np.array(v, dtype=object) for k, v in tracks.items()}\n",
    "max_track_len = max([len(v) for v in tracks.values()])\n",
    "print(\"The maximum number of locations per particle track is\", max_track_len)"
   ]
  },
  {
   "cell_type": "markdown",
   "metadata": {},
   "source": [
    "View the grid and pathlines with PyVista, with particle tracks/locations colored by time. Also add particle ID labels to a few particles' release locations."
   ]
  },
  {
   "cell_type": "code",
   "execution_count": null,
   "metadata": {
    "execution": {
     "iopub.execute_input": "2023-05-02T02:57:14.442666Z",
     "iopub.status.busy": "2023-05-02T02:57:14.442139Z",
     "iopub.status.idle": "2023-05-02T02:57:15.192890Z",
     "shell.execute_reply": "2023-05-02T02:57:15.191663Z"
    }
   },
   "outputs": [],
   "source": [
    "pv.set_plot_theme(\"document\")\n",
    "pv.set_jupyter_backend('static')\n",
    "\n",
    "# create the plot and add the grid and pathline meshes\n",
    "p = pv.Plotter()\n",
    "p.add_mesh(grid, opacity=0.05)\n",
    "p.add_mesh(pathlines, scalars=\"time\")\n",
    "\n",
    "# add a particle ID label to each 4th particle's starting point\n",
    "label_coords = []\n",
    "start_labels = []\n",
    "for pid, track in tracks.items():\n",
    "    if int(pid) % 4 == 0:\n",
    "        label_coords.append(track[0][0])\n",
    "        start_labels.append(f\"Particle {pid}\")\n",
    "\n",
    "p.add_point_labels(label_coords, start_labels, font_size=10, point_size=15, point_color=\"black\")\n",
    "\n",
    "# zoom in and show the plot\n",
    "p.camera.zoom(2.4)\n",
    "p.show()"
   ]
  },
  {
   "attachments": {},
   "cell_type": "markdown",
   "metadata": {},
   "source": [
    "Create an animated GIF of the particles traveling along their pathlines, with particles colored by time."
   ]
  },
  {
   "cell_type": "code",
   "execution_count": null,
   "metadata": {
    "execution": {
     "iopub.execute_input": "2023-05-02T02:57:15.199195Z",
     "iopub.status.busy": "2023-05-02T02:57:15.198483Z",
     "iopub.status.idle": "2023-05-02T02:57:18.883771Z",
     "shell.execute_reply": "2023-05-02T02:57:18.882595Z"
    }
   },
   "outputs": [],
   "source": [
    "# create plotter\n",
    "p = pv.Plotter(notebook=False, off_screen=True)\n",
    "\n",
    "# open GIF file\n",
    "gif_path = workspace / f\"{sim_name}_tracks.gif\"\n",
    "p.open_gif(str(gif_path))\n",
    "\n",
    "# create mesh from release locations\n",
    "spls = pv.PolyData(release_locs)\n",
    "spls.point_data[\"time\"] = np.zeros(len(spls.points))\n",
    "\n",
    "# add the underlying grid mesh and particle data, then zoom in\n",
    "p.add_mesh(grid, opacity=0.05)\n",
    "p.add_mesh(spls, clim=[0, 1.23e+09])\n",
    "p.camera.zoom(2.4)\n",
    "\n",
    "# cycle through time steps and update particle location\n",
    "for i in range(1, max_track_len):\n",
    "    pts = []\n",
    "    times = []\n",
    "    segments = []\n",
    "\n",
    "    for pid in particle_ids:\n",
    "        track = tracks[pid]\n",
    "        npts = len(track)\n",
    "        # use last locn if particle has already terminated \n",
    "        loc, t = track[i] if i < npts else track[npts - 1]\n",
    "        pts.append(loc)\n",
    "        times.append(t)\n",
    "        if i < npts:\n",
    "            segments.append(track[i - 1][0])\n",
    "            segments.append(loc)\n",
    "\n",
    "    p.update_coordinates(np.vstack(pts), render=False)\n",
    "    p.update_scalars(np.array(times),  mesh=spls, render=False)\n",
    "    p.add_lines(np.array(segments), width=1, color=\"black\")\n",
    "    p.write_frame()  # write frame to file\n",
    "\n",
    "# close the plotter and the GIF file\n",
    "p.close()"
   ]
  },
  {
   "cell_type": "markdown",
   "metadata": {},
   "source": [
    "Show the GIF."
   ]
  },
  {
   "cell_type": "code",
   "execution_count": null,
   "metadata": {
    "execution": {
     "iopub.execute_input": "2023-05-02T02:57:18.888180Z",
     "iopub.status.busy": "2023-05-02T02:57:18.887402Z",
     "iopub.status.idle": "2023-05-02T02:57:18.943220Z",
     "shell.execute_reply": "2023-05-02T02:57:18.941964Z"
    }
   },
   "outputs": [],
   "source": [
    "from IPython.core.display import Image\n",
    "\n",
    "display(Image(data=open(gif_path,'rb').read(), format='png'))"
   ]
  },
  {
   "attachments": {},
   "cell_type": "markdown",
   "metadata": {},
   "source": [
    "Clean up the temporary workspace."
   ]
  },
  {
   "cell_type": "code",
   "execution_count": null,
   "metadata": {
    "execution": {
     "iopub.execute_input": "2023-05-02T02:57:18.996013Z",
     "iopub.status.busy": "2023-05-02T02:57:18.995651Z",
     "iopub.status.idle": "2023-05-02T02:57:19.026882Z",
     "shell.execute_reply": "2023-05-02T02:57:19.025937Z"
    }
   },
   "outputs": [],
   "source": [
    "try:\n",
    "    # ignore PermissionError on Windows\n",
    "    temp_path.cleanup()\n",
    "except:\n",
    "    pass"
   ]
  }
 ],
 "metadata": {
  "kernelspec": {
   "display_name": "Python 3 (ipykernel)",
   "language": "python",
   "name": "python3"
  },
  "language_info": {
   "codemirror_mode": {
    "name": "ipython",
    "version": 3
   },
   "file_extension": ".py",
   "mimetype": "text/x-python",
   "name": "python",
   "nbconvert_exporter": "python",
   "pygments_lexer": "ipython3",
   "version": "3.11.0"
  }
 },
 "nbformat": 4,
 "nbformat_minor": 1
}
