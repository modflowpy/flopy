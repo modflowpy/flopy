{
 "cells": [
  {
   "attachments": {},
   "cell_type": "markdown",
   "metadata": {},
   "source": [
    "# FloPy working stack demo\n",
    "\n",
    "A short demonstration of core `flopy` functionality"
   ]
  },
  {
   "cell_type": "code",
   "execution_count": null,
   "metadata": {
    "execution": {
     "iopub.execute_input": "2023-05-02T02:57:23.452118Z",
     "iopub.status.busy": "2023-05-02T02:57:23.451756Z",
     "iopub.status.idle": "2023-05-02T02:57:25.501866Z",
     "shell.execute_reply": "2023-05-02T02:57:25.500789Z"
    }
   },
   "outputs": [],
   "source": [
    "from IPython.display import clear_output, display\n",
    "\n",
    "import sys\n",
    "from pathlib import Path\n",
    "from tempfile import TemporaryDirectory\n",
    "\n",
    "import numpy as np\n",
    "import matplotlib as mpl\n",
    "import matplotlib.pyplot as plt\n",
    "import pandas as pd\n",
    "\n",
    "proj_root = Path.cwd().parent.parent\n",
    "\n",
    "# run installed version of flopy or add local path\n",
    "try:\n",
    "    import flopy\n",
    "except:\n",
    "    sys.path.append(proj_root)\n",
    "    import flopy\n",
    "\n",
    "print(sys.version)\n",
    "print(\"numpy version: {}\".format(np.__version__))\n",
    "print(\"matplotlib version: {}\".format(mpl.__version__))\n",
    "print(\"pandas version: {}\".format(pd.__version__))\n",
    "print(\"flopy version: {}\".format(flopy.__version__))"
   ]
  },
  {
   "cell_type": "markdown",
   "metadata": {},
   "source": [
    "### Model Inputs"
   ]
  },
  {
   "cell_type": "code",
   "execution_count": null,
   "metadata": {
    "execution": {
     "iopub.execute_input": "2023-05-02T02:57:25.582734Z",
     "iopub.status.busy": "2023-05-02T02:57:25.582269Z",
     "iopub.status.idle": "2023-05-02T02:57:26.581287Z",
     "shell.execute_reply": "2023-05-02T02:57:26.579744Z"
    }
   },
   "outputs": [],
   "source": [
    "# first lets load an existing model\n",
    "model_ws = proj_root / \"examples\" / \"data\" / \"freyberg_multilayer_transient\"\n",
    "ml = flopy.modflow.Modflow.load(\n",
    "    \"freyberg.nam\",\n",
    "    model_ws=model_ws,\n",
    "    verbose=False,\n",
    "    check=False,\n",
    "    exe_name=\"mfnwt\",\n",
    ")"
   ]
  },
  {
   "cell_type": "code",
   "execution_count": null,
   "metadata": {
    "execution": {
     "iopub.execute_input": "2023-05-02T02:57:26.586080Z",
     "iopub.status.busy": "2023-05-02T02:57:26.585075Z",
     "iopub.status.idle": "2023-05-02T02:57:26.603856Z",
     "shell.execute_reply": "2023-05-02T02:57:26.602396Z"
    }
   },
   "outputs": [],
   "source": [
    "ml.modelgrid"
   ]
  },
  {
   "cell_type": "markdown",
   "metadata": {},
   "source": [
    "Let's looks at some plots"
   ]
  },
  {
   "cell_type": "code",
   "execution_count": null,
   "metadata": {
    "execution": {
     "iopub.execute_input": "2023-05-02T02:57:26.608119Z",
     "iopub.status.busy": "2023-05-02T02:57:26.607195Z",
     "iopub.status.idle": "2023-05-02T02:57:32.322977Z",
     "shell.execute_reply": "2023-05-02T02:57:32.321439Z"
    }
   },
   "outputs": [],
   "source": [
    "ml.upw.plot();"
   ]
  },
  {
   "cell_type": "code",
   "execution_count": null,
   "metadata": {
    "execution": {
     "iopub.execute_input": "2023-05-02T02:57:32.327223Z",
     "iopub.status.busy": "2023-05-02T02:57:32.326348Z",
     "iopub.status.idle": "2023-05-02T02:57:33.710487Z",
     "shell.execute_reply": "2023-05-02T02:57:33.709616Z"
    }
   },
   "outputs": [],
   "source": [
    "ml.dis.plot();"
   ]
  },
  {
   "cell_type": "code",
   "execution_count": null,
   "metadata": {
    "execution": {
     "iopub.execute_input": "2023-05-02T02:57:33.713818Z",
     "iopub.status.busy": "2023-05-02T02:57:33.713492Z",
     "iopub.status.idle": "2023-05-02T02:57:35.677867Z",
     "shell.execute_reply": "2023-05-02T02:57:35.676259Z"
    }
   },
   "outputs": [],
   "source": [
    "ml.drn.plot(key=\"cond\")\n",
    "ml.drn.plot(key=\"elev\");"
   ]
  },
  {
   "cell_type": "markdown",
   "metadata": {},
   "source": [
    "First create a temporary workspace."
   ]
  },
  {
   "cell_type": "code",
   "execution_count": null,
   "metadata": {
    "execution": {
     "iopub.execute_input": "2023-05-02T02:57:35.682410Z",
     "iopub.status.busy": "2023-05-02T02:57:35.681580Z",
     "iopub.status.idle": "2023-05-02T02:57:35.688839Z",
     "shell.execute_reply": "2023-05-02T02:57:35.687030Z"
    }
   },
   "outputs": [],
   "source": [
    "# create a temporary workspace\n",
    "temp_dir = TemporaryDirectory()\n",
    "workspace = Path(temp_dir.name)"
   ]
  },
  {
   "cell_type": "markdown",
   "metadata": {
    "collapsed": false
   },
   "source": [
    "Write a shapefile of the DIS package."
   ]
  },
  {
   "cell_type": "code",
   "execution_count": null,
   "metadata": {
    "execution": {
     "iopub.execute_input": "2023-05-02T02:57:35.694089Z",
     "iopub.status.busy": "2023-05-02T02:57:35.693108Z",
     "iopub.status.idle": "2023-05-02T02:57:35.844691Z",
     "shell.execute_reply": "2023-05-02T02:57:35.843232Z"
    }
   },
   "outputs": [],
   "source": [
    "# write the shapefile\n",
    "ml.dis.export(workspace / \"freyberg_dis.shp\")"
   ]
  },
  {
   "cell_type": "markdown",
   "metadata": {},
   "source": [
    "Write a netCDF file with all model inputs."
   ]
  },
  {
   "cell_type": "code",
   "execution_count": null,
   "metadata": {
    "execution": {
     "iopub.execute_input": "2023-05-02T02:57:35.848604Z",
     "iopub.status.busy": "2023-05-02T02:57:35.848245Z",
     "iopub.status.idle": "2023-05-02T02:57:41.335067Z",
     "shell.execute_reply": "2023-05-02T02:57:41.333647Z"
    }
   },
   "outputs": [],
   "source": [
    "ml.export(workspace / \"freyberg.nc\")"
   ]
  },
  {
   "cell_type": "markdown",
   "metadata": {},
   "source": [
    "Change model directory and external path, modify inputs and write new input files."
   ]
  },
  {
   "cell_type": "code",
   "execution_count": null,
   "metadata": {
    "execution": {
     "iopub.execute_input": "2023-05-02T02:57:41.339839Z",
     "iopub.status.busy": "2023-05-02T02:57:41.338780Z",
     "iopub.status.idle": "2023-05-02T02:57:50.736440Z",
     "shell.execute_reply": "2023-05-02T02:57:50.735511Z"
    }
   },
   "outputs": [],
   "source": [
    "ml.external_path = workspace / \"ref\"\n",
    "ml.model_ws = workspace\n",
    "ml.write_input()"
   ]
  },
  {
   "cell_type": "markdown",
   "metadata": {},
   "source": [
    "Now run the model."
   ]
  },
  {
   "cell_type": "code",
   "execution_count": null,
   "metadata": {
    "execution": {
     "iopub.execute_input": "2023-05-02T02:57:50.740064Z",
     "iopub.status.busy": "2023-05-02T02:57:50.739739Z",
     "iopub.status.idle": "2023-05-02T02:58:17.402414Z",
     "shell.execute_reply": "2023-05-02T02:58:17.401401Z"
    }
   },
   "outputs": [],
   "source": [
    "ml.run_model(silent=True)"
   ]
  },
  {
   "cell_type": "markdown",
   "metadata": {},
   "source": [
    "### Inspecting outputs\n",
    "\n",
    "First, let's look at the list file. The list file summarizes the model's results."
   ]
  },
  {
   "cell_type": "code",
   "execution_count": null,
   "metadata": {
    "execution": {
     "iopub.execute_input": "2023-05-02T02:58:17.406682Z",
     "iopub.status.busy": "2023-05-02T02:58:17.406295Z",
     "iopub.status.idle": "2023-05-02T02:58:18.608741Z",
     "shell.execute_reply": "2023-05-02T02:58:18.607604Z"
    }
   },
   "outputs": [],
   "source": [
    "mfl = flopy.utils.MfListBudget(model_ws / \"freyberg.list\")\n",
    "df_flux, df_vol = mfl.get_dataframes(start_datetime=\"10-21-2015\")\n",
    "df_flux"
   ]
  },
  {
   "cell_type": "code",
   "execution_count": null,
   "metadata": {
    "execution": {
     "iopub.execute_input": "2023-05-02T02:58:18.612243Z",
     "iopub.status.busy": "2023-05-02T02:58:18.611927Z",
     "iopub.status.idle": "2023-05-02T02:58:18.841850Z",
     "shell.execute_reply": "2023-05-02T02:58:18.840400Z"
    }
   },
   "outputs": [],
   "source": [
    "groups = df_flux.groupby(lambda x: x.split(\"_\")[-1], axis=1).groups\n",
    "df_flux_in = df_flux.loc[:, groups[\"IN\"]]\n",
    "df_flux_in.columns = df_flux_in.columns.map(lambda x: x.split(\"_\")[0])\n",
    "\n",
    "df_flux_out = df_flux.loc[:, groups[\"OUT\"]]\n",
    "df_flux_out.columns = df_flux_out.columns.map(lambda x: x.split(\"_\")[0])\n",
    "\n",
    "\n",
    "df_flux_delta = df_flux_in - df_flux_out\n",
    "df_flux_delta.iloc[-1, :].plot(kind=\"bar\", figsize=(10, 10), grid=True);"
   ]
  },
  {
   "cell_type": "markdown",
   "metadata": {},
   "source": [
    "Now let's look at the simulated head."
   ]
  },
  {
   "cell_type": "code",
   "execution_count": null,
   "metadata": {
    "execution": {
     "iopub.execute_input": "2023-05-02T02:58:18.846116Z",
     "iopub.status.busy": "2023-05-02T02:58:18.845725Z",
     "iopub.status.idle": "2023-05-02T02:58:19.227770Z",
     "shell.execute_reply": "2023-05-02T02:58:19.226553Z"
    }
   },
   "outputs": [],
   "source": [
    "# if you pass the model instance, then the plots will be offset and rotated\n",
    "h = flopy.utils.HeadFile(model_ws / \"freyberg.hds\", model=ml)\n",
    "h.times"
   ]
  },
  {
   "cell_type": "code",
   "execution_count": null,
   "metadata": {
    "execution": {
     "iopub.execute_input": "2023-05-02T02:58:19.231312Z",
     "iopub.status.busy": "2023-05-02T02:58:19.230957Z",
     "iopub.status.idle": "2023-05-02T02:58:20.682163Z",
     "shell.execute_reply": "2023-05-02T02:58:20.680990Z"
    }
   },
   "outputs": [],
   "source": [
    "h.plot(totim=900, contour=True, grid=True, colorbar=True, figsize=(10, 10));"
   ]
  },
  {
   "cell_type": "markdown",
   "metadata": {},
   "source": [
    "We can write the heads to a shapefile."
   ]
  },
  {
   "cell_type": "code",
   "execution_count": null,
   "metadata": {
    "execution": {
     "iopub.execute_input": "2023-05-02T02:58:20.690131Z",
     "iopub.status.busy": "2023-05-02T02:58:20.689403Z",
     "iopub.status.idle": "2023-05-02T02:58:20.821082Z",
     "shell.execute_reply": "2023-05-02T02:58:20.820094Z"
    }
   },
   "outputs": [],
   "source": [
    "h.to_shapefile(ml.model_ws / \"freyburg_head.shp\", verbose=False)"
   ]
  },
  {
   "cell_type": "markdown",
   "metadata": {},
   "source": [
    "Finally, let's make an animation of the simulated head over the time domain."
   ]
  },
  {
   "cell_type": "code",
   "execution_count": null,
   "metadata": {
    "execution": {
     "iopub.execute_input": "2023-05-02T02:58:20.824949Z",
     "iopub.status.busy": "2023-05-02T02:58:20.824537Z",
     "iopub.status.idle": "2023-05-02T02:58:53.627667Z",
     "shell.execute_reply": "2023-05-02T02:58:53.626929Z"
    }
   },
   "outputs": [],
   "source": [
    "f = plt.figure(figsize=(10, 10))\n",
    "ax = plt.subplot(1, 1, 1, aspect=\"equal\")\n",
    "for t in h.times[0:-1:10]:\n",
    "    ax.cla()\n",
    "\n",
    "    ax.set_title(f\"totim: {t:4.0f} days\")\n",
    "    mm = flopy.plot.PlotMapView(model=ml, ax=ax)\n",
    "    mm.plot_array(h.get_data(totim=t), vmin=0, vmax=20)\n",
    "    mm.plot_grid(lw=0.5, color=\"black\")\n",
    "\n",
    "    display(f)\n",
    "    clear_output(wait=True)\n",
    "    plt.pause(0.1);"
   ]
  },
  {
   "cell_type": "code",
   "execution_count": null,
   "metadata": {
    "execution": {
     "iopub.execute_input": "2023-05-02T02:58:53.630487Z",
     "iopub.status.busy": "2023-05-02T02:58:53.630225Z",
     "iopub.status.idle": "2023-05-02T02:58:54.987048Z",
     "shell.execute_reply": "2023-05-02T02:58:54.986300Z"
    },
    "tags": []
   },
   "outputs": [],
   "source": [
    "try:\n",
    "    # ignore PermissionError on Windows\n",
    "    temp_dir.cleanup()\n",
    "except:\n",
    "    pass"
   ]
  }
 ],
 "metadata": {
  "anaconda-cloud": {},
  "kernelspec": {
   "display_name": "Python 3 (ipykernel)",
   "language": "python",
   "name": "python3"
  },
  "language_info": {
   "codemirror_mode": {
    "name": "ipython",
    "version": 3
   },
   "file_extension": ".py",
   "mimetype": "text/x-python",
   "name": "python",
   "nbconvert_exporter": "python",
   "pygments_lexer": "ipython3",
   "version": "3.11.0"
  }
 },
 "nbformat": 4,
 "nbformat_minor": 4
}
