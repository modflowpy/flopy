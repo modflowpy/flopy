{
 "cells": [
  {
   "attachments": {},
   "cell_type": "markdown",
   "metadata": {},
   "source": [
    "# Capture fraction example\n",
    "\n",
    "From:\n",
    "Bakker, Mark, Post, Vincent, Langevin, C. D., Hughes, J. D., White, J. T., Starn, J. J. and Fienen, M. N., 2016, Scripting MODFLOW Model Development Using Python and FloPy: Groundwater, v. 54, p. 733–739, https://doi.org/10.1111/gwat.12413."
   ]
  },
  {
   "cell_type": "code",
   "execution_count": null,
   "metadata": {
    "execution": {
     "iopub.execute_input": "2023-05-02T03:01:57.409708Z",
     "iopub.status.busy": "2023-05-02T03:01:57.409248Z",
     "iopub.status.idle": "2023-05-02T03:01:59.144083Z",
     "shell.execute_reply": "2023-05-02T03:01:59.143362Z"
    }
   },
   "outputs": [],
   "source": [
    "import os\n",
    "import sys\n",
    "import numpy as np\n",
    "import scipy.ndimage\n",
    "import matplotlib as mpl\n",
    "import matplotlib.pyplot as plt\n",
    "\n",
    "try:\n",
    "    import flopy\n",
    "except:\n",
    "    fpth = os.path.abspath(os.path.join(\"..\", \"..\", \"..\"))\n",
    "    sys.path.append(fpth)\n",
    "    import flopy\n",
    "\n",
    "print(sys.version)\n",
    "print(\"numpy version: {}\".format(np.__version__))\n",
    "print(\"matplotlib version: {}\".format(mpl.__version__))\n",
    "print(\"flopy version: {}\".format(flopy.__version__))"
   ]
  },
  {
   "cell_type": "code",
   "execution_count": null,
   "metadata": {
    "execution": {
     "iopub.execute_input": "2023-05-02T03:01:59.181077Z",
     "iopub.status.busy": "2023-05-02T03:01:59.180778Z",
     "iopub.status.idle": "2023-05-02T03:01:59.184189Z",
     "shell.execute_reply": "2023-05-02T03:01:59.183480Z"
    }
   },
   "outputs": [],
   "source": [
    "ws = os.path.join(\"temp\")\n",
    "if not os.path.exists(ws):\n",
    "    os.makedirs(ws)"
   ]
  },
  {
   "cell_type": "code",
   "execution_count": null,
   "metadata": {
    "execution": {
     "iopub.execute_input": "2023-05-02T03:01:59.186460Z",
     "iopub.status.busy": "2023-05-02T03:01:59.186245Z",
     "iopub.status.idle": "2023-05-02T03:01:59.195509Z",
     "shell.execute_reply": "2023-05-02T03:01:59.195024Z"
    }
   },
   "outputs": [],
   "source": [
    "fn = os.path.join(\"..\", \"groundwater_paper\", \"uspb\", \"results\", \"USPB_capture_fraction_04_01.dat\")\n",
    "cf = np.loadtxt(fn)\n",
    "print(cf.shape)"
   ]
  },
  {
   "cell_type": "code",
   "execution_count": null,
   "metadata": {
    "execution": {
     "iopub.execute_input": "2023-05-02T03:01:59.197807Z",
     "iopub.status.busy": "2023-05-02T03:01:59.197396Z",
     "iopub.status.idle": "2023-05-02T03:01:59.202950Z",
     "shell.execute_reply": "2023-05-02T03:01:59.202499Z"
    }
   },
   "outputs": [],
   "source": [
    "cf2 = scipy.ndimage.zoom(cf, 4, order=0)\n",
    "print(cf2.shape)"
   ]
  },
  {
   "cell_type": "code",
   "execution_count": null,
   "metadata": {
    "execution": {
     "iopub.execute_input": "2023-05-02T03:01:59.204916Z",
     "iopub.status.busy": "2023-05-02T03:01:59.204711Z",
     "iopub.status.idle": "2023-05-02T03:01:59.456601Z",
     "shell.execute_reply": "2023-05-02T03:01:59.455763Z"
    }
   },
   "outputs": [],
   "source": [
    "c = plt.imshow(cf2, cmap=\"jet\")\n",
    "plt.colorbar(c);"
   ]
  },
  {
   "cell_type": "code",
   "execution_count": null,
   "metadata": {
    "execution": {
     "iopub.execute_input": "2023-05-02T03:01:59.459374Z",
     "iopub.status.busy": "2023-05-02T03:01:59.458936Z",
     "iopub.status.idle": "2023-05-02T03:02:00.972088Z",
     "shell.execute_reply": "2023-05-02T03:02:00.971360Z"
    }
   },
   "outputs": [],
   "source": [
    "wsl = os.path.join(\"..\", \"groundwater_paper\", \"uspb\", \"flopy\")\n",
    "ml = flopy.modflow.Modflow.load(\"DG.nam\", model_ws=wsl, verbose=False)"
   ]
  },
  {
   "cell_type": "code",
   "execution_count": null,
   "metadata": {
    "execution": {
     "iopub.execute_input": "2023-05-02T03:02:00.974747Z",
     "iopub.status.busy": "2023-05-02T03:02:00.974528Z",
     "iopub.status.idle": "2023-05-02T03:02:00.977557Z",
     "shell.execute_reply": "2023-05-02T03:02:00.977088Z"
    }
   },
   "outputs": [],
   "source": [
    "nlay, nrow, ncol = ml.nlay, ml.dis.nrow, ml.dis.ncol\n",
    "xmax, ymax = ncol * 250.0, nrow * 250.0"
   ]
  },
  {
   "cell_type": "code",
   "execution_count": null,
   "metadata": {
    "execution": {
     "iopub.execute_input": "2023-05-02T03:02:00.979483Z",
     "iopub.status.busy": "2023-05-02T03:02:00.979271Z",
     "iopub.status.idle": "2023-05-02T03:02:02.204629Z",
     "shell.execute_reply": "2023-05-02T03:02:02.203796Z"
    }
   },
   "outputs": [],
   "source": [
    "plt.rcParams.update({\"font.size\": 6})\n",
    "fig = plt.figure(figsize=(3.25, 4.47))\n",
    "ax1 = plt.gca()\n",
    "ax1.set_aspect(\"equal\")\n",
    "mm1 = flopy.plot.PlotMapView(model=ml, layer=4)\n",
    "plt.xlim(0, xmax)\n",
    "plt.ylim(0, ymax)\n",
    "mm1.plot_inactive(color_noflow=\"0.75\")\n",
    "c = plt.imshow(cf2, cmap=\"jet\", extent=[0, ncol * 250.0, 0, nrow * 250.0])\n",
    "cb = plt.colorbar(c, shrink=0.5)\n",
    "cb.ax.set_ylabel(\"Layer 4 capture fraction\")\n",
    "mm1.plot_bc(ftype=\"STR\", plotAll=True)\n",
    "plt.plot(\n",
    "    [-10000],\n",
    "    [-10000],\n",
    "    marker=\"s\",\n",
    "    ms=10,\n",
    "    lw=0.0,\n",
    "    mec=\"0.2\",\n",
    "    mfc=\"white\",\n",
    "    label=\"Maximum active model extent\",\n",
    ")\n",
    "plt.plot(\n",
    "    [-10000, 0],\n",
    "    [-10000, 0],\n",
    "    color=\"purple\",\n",
    "    lw=0.75,\n",
    "    label=\"STR reaches (all layers)\",\n",
    ")\n",
    "leg = plt.legend(loc=\"upper left\", numpoints=1, prop={\"size\": 6})\n",
    "leg.draw_frame(False)\n",
    "plt.xticks([0, 20000, 40000, 60000, 80000])\n",
    "plt.tight_layout()\n",
    "plt.savefig(os.path.join(ws, \"capture_fraction_010y.png\"), dpi=300);"
   ]
  },
  {
   "attachments": {},
   "cell_type": "markdown",
   "metadata": {},
   "source": [
    "Rerun the model after changing workspace and writing input files"
   ]
  },
  {
   "cell_type": "code",
   "execution_count": null,
   "metadata": {
    "execution": {
     "iopub.execute_input": "2023-05-02T03:02:02.207281Z",
     "iopub.status.busy": "2023-05-02T03:02:02.207021Z",
     "iopub.status.idle": "2023-05-02T03:02:21.061452Z",
     "shell.execute_reply": "2023-05-02T03:02:21.060783Z"
    }
   },
   "outputs": [],
   "source": [
    "ml.change_model_ws(ws)\n",
    "ml.exe_name = \"mf2005dbl\"\n",
    "ml.write_input()\n",
    "ml.run_model(silent=True)"
   ]
  },
  {
   "cell_type": "code",
   "execution_count": null,
   "metadata": {
    "execution": {
     "iopub.execute_input": "2023-05-02T03:02:21.063947Z",
     "iopub.status.busy": "2023-05-02T03:02:21.063620Z",
     "iopub.status.idle": "2023-05-02T03:02:21.293363Z",
     "shell.execute_reply": "2023-05-02T03:02:21.292717Z"
    }
   },
   "outputs": [],
   "source": [
    "hedObj = flopy.utils.HeadFile(os.path.join(ws, \"DG.hds\"), precision=\"double\")\n",
    "h = hedObj.get_data(kstpkper=(0, 0))\n",
    "cbcObj = flopy.utils.CellBudgetFile(\n",
    "    os.path.join(ws, \"DG.cbc\"), precision=\"double\"\n",
    ")\n",
    "\n",
    "frf = cbcObj.get_data(kstpkper=(0, 0), text=\"FLOW RIGHT FACE\")[0]\n",
    "fff = cbcObj.get_data(kstpkper=(0, 0), text=\"FLOW FRONT FACE\")[0]\n",
    "qx, qy, qz = flopy.utils.postprocessing.get_specific_discharge(\n",
    "    (frf, fff, None), ml\n",
    ")"
   ]
  },
  {
   "cell_type": "code",
   "execution_count": null,
   "metadata": {
    "execution": {
     "iopub.execute_input": "2023-05-02T03:02:21.295617Z",
     "iopub.status.busy": "2023-05-02T03:02:21.295386Z",
     "iopub.status.idle": "2023-05-02T03:02:24.920634Z",
     "shell.execute_reply": "2023-05-02T03:02:24.919706Z"
    }
   },
   "outputs": [],
   "source": [
    "cnt = np.arange(1200, 1700, 100)\n",
    "f, (ax1, ax2) = plt.subplots(\n",
    "    1, 2, figsize=(6.75, 4.47), constrained_layout=True\n",
    ")\n",
    "ax1.set_xlim(0, xmax)\n",
    "ax1.set_ylim(0, ymax)\n",
    "ax2.set_xlim(0, xmax)\n",
    "ax2.set_ylim(0, ymax)\n",
    "ax1.set_aspect(\"equal\")\n",
    "ax2.set_aspect(\"equal\")\n",
    "\n",
    "mm1 = flopy.plot.PlotMapView(model=ml, ax=ax1, layer=3)\n",
    "h1 = mm1.plot_array(h, masked_values=[-888, -999], vmin=1100, vmax=1700)\n",
    "mm1.plot_inactive(color_noflow=\"0.75\")\n",
    "mm1.plot_bc(ftype=\"STR\")\n",
    "q1 = mm1.plot_vector(\n",
    "    qx,\n",
    "    qy,\n",
    "    istep=5,\n",
    "    jstep=5,\n",
    "    normalize=True,\n",
    "    color=\"0.4\",\n",
    "    scale=70,\n",
    "    headwidth=3,\n",
    "    headlength=3,\n",
    "    headaxislength=3,\n",
    ")\n",
    "c1 = mm1.contour_array(\n",
    "    h, masked_values=[-888, -999], colors=\"black\", levels=cnt, linewidths=0.5\n",
    ")\n",
    "ax1.clabel(c1, fmt=\"%.0f\", inline_spacing=0.5)\n",
    "\n",
    "mm2 = flopy.plot.PlotMapView(model=ml, ax=ax2, layer=4)\n",
    "h2 = mm2.plot_array(h, masked_values=[-888, -999], vmin=1100, vmax=1700)\n",
    "mm2.plot_inactive(color_noflow=\"0.75\")\n",
    "mm2.plot_bc(ftype=\"STR\")\n",
    "q2 = mm2.plot_vector(\n",
    "    qx,\n",
    "    qy,\n",
    "    istep=5,\n",
    "    jstep=5,\n",
    "    normalize=True,\n",
    "    color=\"0.4\",\n",
    "    scale=70,\n",
    "    headwidth=3,\n",
    "    headlength=3,\n",
    "    headaxislength=3,\n",
    ")\n",
    "c2 = mm2.contour_array(\n",
    "    h, masked_values=[-888, -999], colors=\"black\", levels=cnt, linewidths=0.5\n",
    ")\n",
    "ax2.clabel(c2, fmt=\"%.0f\", inline_spacing=0.5)\n",
    "\n",
    "ax3 = f.add_axes([0.08, 0.125, 0.01, 0.15])\n",
    "cb = plt.colorbar(h2, cax=ax3)\n",
    "cb.ax.set_ylabel(\"Simulated head, m\")\n",
    "\n",
    "ax1.plot(\n",
    "    [-10000, 0], [-10000, 0], color=\"purple\", lw=0.75, label=\"STR reaches\"\n",
    ")\n",
    "ax1.plot(\n",
    "    [-10000],\n",
    "    [-10000],\n",
    "    marker=\"s\",\n",
    "    ms=10,\n",
    "    lw=0.0,\n",
    "    mec=\"black\",\n",
    "    mfc=\"None\",\n",
    "    label=\"inactive areas\",\n",
    ")\n",
    "leg = ax1.legend(loc=\"upper left\", numpoints=1, prop={\"size\": 6})\n",
    "leg.draw_frame(False)\n",
    "\n",
    "ax1.text(\n",
    "    0.0, 1.01, \"Model layer 4\", ha=\"left\", va=\"bottom\", transform=ax1.transAxes\n",
    ")\n",
    "ax2.text(\n",
    "    0.98,\n",
    "    0.02,\n",
    "    \"100 m contour interval\",\n",
    "    ha=\"right\",\n",
    "    va=\"bottom\",\n",
    "    transform=ax2.transAxes,\n",
    ")\n",
    "ax2.text(\n",
    "    0.0, 1.01, \"Model layer 5\", ha=\"left\", va=\"bottom\", transform=ax2.transAxes\n",
    ")\n",
    "\n",
    "plt.savefig(os.path.join(ws, \"uspb_heads.png\"), dpi=300);"
   ]
  },
  {
   "cell_type": "code",
   "execution_count": null,
   "metadata": {
    "execution": {
     "iopub.execute_input": "2023-05-02T03:02:24.924665Z",
     "iopub.status.busy": "2023-05-02T03:02:24.924414Z",
     "iopub.status.idle": "2023-05-02T03:02:24.938905Z",
     "shell.execute_reply": "2023-05-02T03:02:24.938205Z"
    }
   },
   "outputs": [],
   "source": [
    "fn = os.path.join(\"..\", \"groundwater_paper\", \"uspb\", \"results\", \"USPB_capture_fraction_04_10.dat\")\n",
    "cf = np.loadtxt(fn)\n",
    "cf2 = scipy.ndimage.zoom(cf, 4, order=0)"
   ]
  },
  {
   "cell_type": "code",
   "execution_count": null,
   "metadata": {
    "execution": {
     "iopub.execute_input": "2023-05-02T03:02:24.941686Z",
     "iopub.status.busy": "2023-05-02T03:02:24.941256Z",
     "iopub.status.idle": "2023-05-02T03:02:26.098667Z",
     "shell.execute_reply": "2023-05-02T03:02:26.097902Z"
    }
   },
   "outputs": [],
   "source": [
    "fig = plt.figure(figsize=(3.25, 4.47), constrained_layout=True)\n",
    "ax1 = plt.gca()\n",
    "ax1.set_aspect(\"equal\")\n",
    "mm1 = flopy.plot.PlotMapView(model=ml, layer=4)\n",
    "plt.xlim(0, xmax)\n",
    "plt.ylim(0, ymax)\n",
    "mm1.plot_inactive(color_noflow=\"0.75\")\n",
    "c = plt.imshow(cf2, cmap=\"jet\", extent=[0, ncol * 250.0, 0, nrow * 250.0])\n",
    "cb = plt.colorbar(c, shrink=0.5)\n",
    "cb.ax.set_ylabel(\"Layer 4 capture fraction\")\n",
    "mm1.plot_bc(ftype=\"STR\", plotAll=True)\n",
    "plt.plot(\n",
    "    [-10000, 0],\n",
    "    [-10000, 0],\n",
    "    color=\"purple\",\n",
    "    lw=0.75,\n",
    "    label=\"STR reaches (all layers)\",\n",
    ")\n",
    "plt.plot(\n",
    "    [-10000],\n",
    "    [-10000],\n",
    "    marker=\"s\",\n",
    "    ms=10,\n",
    "    lw=0.0,\n",
    "    mec=\"black\",\n",
    "    mfc=\"None\",\n",
    "    label=\"Layer 5 inactive area\",\n",
    ")\n",
    "leg = plt.legend(loc=\"upper left\", numpoints=1, prop={\"size\": 6})\n",
    "leg.draw_frame(False)\n",
    "plt.xticks([0, 20000, 40000, 60000, 80000])\n",
    "plt.savefig(os.path.join(ws, \"capture_fraction_100y.png\"), dpi=300);"
   ]
  },
  {
   "cell_type": "code",
   "execution_count": null,
   "metadata": {},
   "outputs": [],
   "source": []
  }
 ],
 "metadata": {
  "kernelspec": {
   "display_name": "Python 3 (ipykernel)",
   "language": "python",
   "name": "python3"
  },
  "language_info": {
   "codemirror_mode": {
    "name": "ipython",
    "version": 3
   },
   "file_extension": ".py",
   "mimetype": "text/x-python",
   "name": "python",
   "nbconvert_exporter": "python",
   "pygments_lexer": "ipython3",
   "version": "3.11.0"
  }
 },
 "nbformat": 4,
 "nbformat_minor": 4
}
