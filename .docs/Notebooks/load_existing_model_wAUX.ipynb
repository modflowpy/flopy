{
 "cells": [
  {
   "attachments": {},
   "cell_type": "markdown",
   "metadata": {},
   "source": [
    "# Loading an existing MODFLOW-2005 model with auxiliary variables "
   ]
  },
  {
   "cell_type": "code",
   "execution_count": null,
   "metadata": {
    "execution": {
     "iopub.execute_input": "2023-05-02T02:55:02.803161Z",
     "iopub.status.busy": "2023-05-02T02:55:02.802744Z",
     "iopub.status.idle": "2023-05-02T02:55:04.113066Z",
     "shell.execute_reply": "2023-05-02T02:55:04.112032Z"
    }
   },
   "outputs": [],
   "source": [
    "import os\n",
    "import sys\n",
    "\n",
    "try:\n",
    "    import flopy\n",
    "except:\n",
    "    fpth = os.path.abspath(os.path.join(\"..\", \"..\"))\n",
    "    sys.path.append(fpth)\n",
    "    import flopy\n",
    "\n",
    "print(sys.version)\n",
    "print(\"flopy version: {}\".format(flopy.__version__))"
   ]
  },
  {
   "cell_type": "markdown",
   "metadata": {},
   "source": [
    "**Load an existing MODFLOW-2005 model with auxiliary variables**"
   ]
  },
  {
   "cell_type": "code",
   "execution_count": null,
   "metadata": {
    "execution": {
     "iopub.execute_input": "2023-05-02T02:55:04.167842Z",
     "iopub.status.busy": "2023-05-02T02:55:04.166957Z",
     "iopub.status.idle": "2023-05-02T02:55:04.190029Z",
     "shell.execute_reply": "2023-05-02T02:55:04.188753Z"
    }
   },
   "outputs": [],
   "source": [
    "model_ws = os.path.join(\"..\", \"..\", \"examples\", \"data\", \"mp6\")\n",
    "ml = flopy.modflow.Modflow.load(\n",
    "    \"EXAMPLE.nam\",\n",
    "    model_ws=model_ws,\n",
    "    verbose=False,\n",
    "    version=\"mf2005\",\n",
    "    check=False,\n",
    ")"
   ]
  },
  {
   "cell_type": "markdown",
   "metadata": {},
   "source": [
    "**Auxiliary IFACE data are in the river package**"
   ]
  },
  {
   "cell_type": "code",
   "execution_count": null,
   "metadata": {
    "execution": {
     "iopub.execute_input": "2023-05-02T02:55:04.193865Z",
     "iopub.status.busy": "2023-05-02T02:55:04.193114Z",
     "iopub.status.idle": "2023-05-02T02:55:04.197530Z",
     "shell.execute_reply": "2023-05-02T02:55:04.196787Z"
    }
   },
   "outputs": [],
   "source": [
    "riv = ml.riv.stress_period_data[0]"
   ]
  },
  {
   "cell_type": "markdown",
   "metadata": {},
   "source": [
    "You can confirm that the `iface` auxiliary data have been read by looking at the `dtype`."
   ]
  },
  {
   "cell_type": "code",
   "execution_count": null,
   "metadata": {
    "execution": {
     "iopub.execute_input": "2023-05-02T02:55:04.200733Z",
     "iopub.status.busy": "2023-05-02T02:55:04.200404Z",
     "iopub.status.idle": "2023-05-02T02:55:04.210311Z",
     "shell.execute_reply": "2023-05-02T02:55:04.209025Z"
    }
   },
   "outputs": [],
   "source": [
    "riv.dtype"
   ]
  },
  {
   "cell_type": "markdown",
   "metadata": {},
   "source": [
    "You can access the `iface` data from the recarray"
   ]
  },
  {
   "cell_type": "code",
   "execution_count": null,
   "metadata": {
    "execution": {
     "iopub.execute_input": "2023-05-02T02:55:04.214734Z",
     "iopub.status.busy": "2023-05-02T02:55:04.213844Z",
     "iopub.status.idle": "2023-05-02T02:55:04.221240Z",
     "shell.execute_reply": "2023-05-02T02:55:04.220375Z"
    }
   },
   "outputs": [],
   "source": [
    "riv[\"iface\"]"
   ]
  },
  {
   "cell_type": "code",
   "execution_count": null,
   "metadata": {},
   "outputs": [],
   "source": []
  }
 ],
 "metadata": {
  "kernelspec": {
   "display_name": "Python 3 (ipykernel)",
   "language": "python",
   "name": "python3"
  },
  "language_info": {
   "codemirror_mode": {
    "name": "ipython",
    "version": 3
   },
   "file_extension": ".py",
   "mimetype": "text/x-python",
   "name": "python",
   "nbconvert_exporter": "python",
   "pygments_lexer": "ipython3",
   "version": "3.11.0"
  }
 },
 "nbformat": 4,
 "nbformat_minor": 4
}
