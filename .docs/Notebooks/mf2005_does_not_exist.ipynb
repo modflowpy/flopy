{
 "cells": [
  {
   "attachments": {},
   "cell_type": "markdown",
   "metadata": {},
   "source": [
    "# Running MODFLOW through Flopy"
   ]
  },
  {
   "cell_type": "code",
   "execution_count": null,
   "metadata": {
    "execution": {
     "iopub.execute_input": "2023-05-02T02:54:57.042770Z",
     "iopub.status.busy": "2023-05-02T02:54:57.041839Z",
     "iopub.status.idle": "2023-05-02T02:54:58.233341Z",
     "shell.execute_reply": "2023-05-02T02:54:58.232284Z"
    }
   },
   "outputs": [],
   "source": [
    "import os\n",
    "import sys\n",
    "\n",
    "try:\n",
    "    import flopy\n",
    "except:\n",
    "    fpth = os.path.abspath(os.path.join(\"..\", \"..\"))\n",
    "    sys.path.append(fpth)\n",
    "    import flopy\n",
    "\n",
    "print(sys.version)\n",
    "print(\"flopy version: {}\".format(flopy.__version__))"
   ]
  },
  {
   "cell_type": "markdown",
   "metadata": {},
   "source": [
    "In order for you to run a model you have created or loaded using FloPy the model executable must be available in your path. You can test if the model is available using:"
   ]
  },
  {
   "cell_type": "code",
   "execution_count": null,
   "metadata": {
    "execution": {
     "iopub.execute_input": "2023-05-02T02:54:58.287466Z",
     "iopub.status.busy": "2023-05-02T02:54:58.287094Z",
     "iopub.status.idle": "2023-05-02T02:54:58.298309Z",
     "shell.execute_reply": "2023-05-02T02:54:58.297441Z"
    }
   },
   "outputs": [],
   "source": [
    "from flopy.utils.flopy_io import scrub_login\n",
    "\n",
    "scrub_login(flopy.which(\"mf2005\"))"
   ]
  },
  {
   "cell_type": "markdown",
   "metadata": {},
   "source": [
    "The path to the executable is returned if the executable exists in your path or the current working directory. An empty string is passed if the executable does not exist in your path or the current working directory. Next we will test if a non-existent executable (`no-exist.exe`) is available."
   ]
  },
  {
   "cell_type": "code",
   "execution_count": null,
   "metadata": {
    "execution": {
     "iopub.execute_input": "2023-05-02T02:54:58.301926Z",
     "iopub.status.busy": "2023-05-02T02:54:58.301564Z",
     "iopub.status.idle": "2023-05-02T02:54:58.306339Z",
     "shell.execute_reply": "2023-05-02T02:54:58.305359Z"
    }
   },
   "outputs": [],
   "source": [
    "flopy.which(\"no-exist.exe\")"
   ]
  },
  {
   "cell_type": "markdown",
   "metadata": {},
   "source": [
    "Nothing is written when `no-exist.exe` is passed to `flopy.which()`. This means the executable does not exist.\n",
    "\n",
    "If this happens you should:\n",
    "1. Check the that you have spelled the executable correctly.\n",
    "2. If you have spelled the executable correctly then you need to move the executable into your working directory or into a directory in your path.\n",
    "3. If you have spelled the executable correctly but don't have the executable. Your options are:\n",
    "    * Download a precompiled version of the executable. Precompiled versions of MODFLOW-based codes are available from the U.S. Geological Survey for the Windows operating system. \n",
    "    * Compile the source code (available from the U.S. Geological Survey) for the Windows, OS X, Linux, and UNIX operating systems and place the compiled executable in the working directory or a directory contained in your path (for example, `/Users/jdhughes/.local/bin/` as indicated above)."
   ]
  },
  {
   "cell_type": "markdown",
   "metadata": {},
   "source": [
    "You can get a list of the directories in your system path using:"
   ]
  },
  {
   "cell_type": "code",
   "execution_count": null,
   "metadata": {
    "execution": {
     "iopub.execute_input": "2023-05-02T02:54:58.310675Z",
     "iopub.status.busy": "2023-05-02T02:54:58.310130Z",
     "iopub.status.idle": "2023-05-02T02:54:58.315621Z",
     "shell.execute_reply": "2023-05-02T02:54:58.314758Z"
    }
   },
   "outputs": [],
   "source": [
    "scrub_login(os.getenv(\"PATH\"))"
   ]
  },
  {
   "cell_type": "markdown",
   "metadata": {},
   "source": [
    "After you download/compile the executable put it in the current working directory or one of the directories in your system path."
   ]
  }
 ],
 "metadata": {
  "kernelspec": {
   "display_name": "Python 3 (ipykernel)",
   "language": "python",
   "name": "python3"
  },
  "language_info": {
   "codemirror_mode": {
    "name": "ipython",
    "version": 3
   },
   "file_extension": ".py",
   "mimetype": "text/x-python",
   "name": "python",
   "nbconvert_exporter": "python",
   "pygments_lexer": "ipython3",
   "version": "3.11.0"
  }
 },
 "nbformat": 4,
 "nbformat_minor": 4
}
