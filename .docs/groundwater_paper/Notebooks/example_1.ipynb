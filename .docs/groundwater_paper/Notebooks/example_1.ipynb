{
 "cells": [
  {
   "attachments": {},
   "cell_type": "markdown",
   "metadata": {},
   "source": [
    "## Basic Flopy example\n",
    "\n",
    "From:\n",
    "Bakker, Mark, Post, Vincent, Langevin, C. D., Hughes, J. D., White, J. T., Starn, J. J. and Fienen, M. N., 2016, Scripting MODFLOW Model Development Using Python and FloPy: Groundwater, v. 54, p. 733–739, https://doi.org/10.1111/gwat.12413."
   ]
  },
  {
   "cell_type": "markdown",
   "metadata": {},
   "source": [
    "Import the `modflow` and `utils` subpackages of FloPy and give them the aliases `fpm` and `fpu`, respectively"
   ]
  },
  {
   "cell_type": "code",
   "execution_count": null,
   "metadata": {
    "execution": {
     "iopub.execute_input": "2023-05-02T02:57:26.271470Z",
     "iopub.status.busy": "2023-05-02T02:57:26.271174Z",
     "iopub.status.idle": "2023-05-02T02:57:28.254578Z",
     "shell.execute_reply": "2023-05-02T02:57:28.253718Z"
    }
   },
   "outputs": [],
   "source": [
    "import os\n",
    "import sys\n",
    "import numpy as np\n",
    "import matplotlib as mpl\n",
    "\n",
    "# run installed version of flopy or add local path\n",
    "try:\n",
    "    import flopy\n",
    "except:\n",
    "    fpth = os.path.abspath(os.path.join(\"..\", \"..\", \"..\"))\n",
    "    sys.path.append(fpth)\n",
    "    import flopy\n",
    "\n",
    "import flopy.modflow as fpm\n",
    "import flopy.utils as fpu\n",
    "\n",
    "\n",
    "print(sys.version)\n",
    "print(\"numpy version: {}\".format(np.__version__))\n",
    "print(\"matplotlib version: {}\".format(mpl.__version__))\n",
    "print(\"flopy version: {}\".format(flopy.__version__))"
   ]
  },
  {
   "cell_type": "markdown",
   "metadata": {},
   "source": [
    "Create a MODFLOW model object. Here, the MODFLOW model object is stored in a Python variable called {\\tt model}, but this can be an arbitrary name. This object name is important as it will be used as a reference to the model in the remainder of the FloPy script. In addition, a {\\tt modelname} is specified when the MODFLOW model object is created. This {\\tt modelname} is used for all the files that are created by FloPy for this model."
   ]
  },
  {
   "cell_type": "code",
   "execution_count": null,
   "metadata": {
    "execution": {
     "iopub.execute_input": "2023-05-02T02:57:28.327063Z",
     "iopub.status.busy": "2023-05-02T02:57:28.326634Z",
     "iopub.status.idle": "2023-05-02T02:57:28.334202Z",
     "shell.execute_reply": "2023-05-02T02:57:28.333088Z"
    }
   },
   "outputs": [],
   "source": [
    "exe = \"mf2005\"\n",
    "ws = os.path.join(\"temp\")\n",
    "model = fpm.Modflow(modelname=\"gwexample\", exe_name=exe, model_ws=ws)"
   ]
  },
  {
   "cell_type": "markdown",
   "metadata": {},
   "source": [
    "The discretization of the model is specified with the discretization file (DIS) of MODFLOW. The aquifer is divided into 201 cells of length 10 m and width 1 m.  The first input of the discretization package is the name of the model object. All other input arguments are self explanatory."
   ]
  },
  {
   "cell_type": "code",
   "execution_count": null,
   "metadata": {
    "execution": {
     "iopub.execute_input": "2023-05-02T02:57:28.337876Z",
     "iopub.status.busy": "2023-05-02T02:57:28.337480Z",
     "iopub.status.idle": "2023-05-02T02:57:28.349180Z",
     "shell.execute_reply": "2023-05-02T02:57:28.348007Z"
    }
   },
   "outputs": [],
   "source": [
    "fpm.ModflowDis(\n",
    "    model, nlay=1, nrow=1, ncol=201, delr=10, delc=1, top=50, botm=0\n",
    ")"
   ]
  },
  {
   "cell_type": "markdown",
   "metadata": {},
   "source": [
    "Active cells and the like are defined with the Basic package (BAS), which is required for every MODFLOW model. It contains the {\\tt ibound} array, which is used to specify which cells are active (value is positive), inactive (value is 0), or fixed head (value is negative). The {\\tt numpy} package (aliased as {\\tt np}) can be used to quickly initialize the {\\tt ibound} array with values of 1, and then set the {\\tt ibound} value for the first and last columns to -1. The {\\tt numpy} package (and Python, in general) uses zero-based indexing and supports negative indexing so that row 1 and column 1, and row 1 and column 201, can be referenced as [0, 0], and [0, -1], respectively.  Although this simulation is for steady flow, starting heads still need to be specified. They are used as the head for fixed-head cells (where {\\tt ibound} is negative), and as a starting point to compute the saturated thickness for cases of unconfined flow. "
   ]
  },
  {
   "cell_type": "code",
   "execution_count": null,
   "metadata": {
    "execution": {
     "iopub.execute_input": "2023-05-02T02:57:28.352773Z",
     "iopub.status.busy": "2023-05-02T02:57:28.352437Z",
     "iopub.status.idle": "2023-05-02T02:57:28.359815Z",
     "shell.execute_reply": "2023-05-02T02:57:28.359012Z"
    }
   },
   "outputs": [],
   "source": [
    "ibound = np.ones((1, 201))\n",
    "ibound[0, 0] = ibound[0, -1] = -1\n",
    "fpm.ModflowBas(model, ibound=ibound, strt=20)"
   ]
  },
  {
   "cell_type": "markdown",
   "metadata": {},
   "source": [
    "The hydraulic properties of the aquifer are specified with the Layer Properties Flow (LPF) package (alternatively, the Block Centered Flow (BCF) package may be used). Only the hydraulic conductivity of the aquifer and the layer type ({\\tt laytyp}) need to be specified. The latter is set to 1, which means that MODFLOW will calculate the saturated thickness differently depending on whether or not the head is above the top of the aquifer.\n"
   ]
  },
  {
   "cell_type": "code",
   "execution_count": null,
   "metadata": {
    "execution": {
     "iopub.execute_input": "2023-05-02T02:57:28.363297Z",
     "iopub.status.busy": "2023-05-02T02:57:28.362928Z",
     "iopub.status.idle": "2023-05-02T02:57:28.370752Z",
     "shell.execute_reply": "2023-05-02T02:57:28.369791Z"
    }
   },
   "outputs": [],
   "source": [
    "fpm.ModflowLpf(model, hk=10, laytyp=1)"
   ]
  },
  {
   "cell_type": "markdown",
   "metadata": {},
   "source": [
    "Aquifer recharge is simulated with the Recharge package (RCH) and the extraction of water at the two ditches is simulated with the Well package (WEL). The latter requires specification of the layer, row, column, and injection rate of the well for each stress period. The layers, rows, columns, and the stress period are numbered (consistent with Python's zero-based numbering convention) starting at 0. The required data are stored in a Python dictionary ({\\tt lrcQ} in the code below), which is used in FloPy to store data that can vary by stress period. The {\\tt lrcQ} dictionary specifies that two wells (one in cell 1, 1, 51 and one in cell 1, 1, 151), each with a rate of -1 m$^3$/m/d, will be active for the first stress period.  Because this is a steady-state model, there is only one stress period and therefore only one entry in the dictionary."
   ]
  },
  {
   "cell_type": "code",
   "execution_count": null,
   "metadata": {
    "execution": {
     "iopub.execute_input": "2023-05-02T02:57:28.374328Z",
     "iopub.status.busy": "2023-05-02T02:57:28.373802Z",
     "iopub.status.idle": "2023-05-02T02:57:28.382460Z",
     "shell.execute_reply": "2023-05-02T02:57:28.381555Z"
    }
   },
   "outputs": [],
   "source": [
    "fpm.ModflowRch(model, rech=0.001)\n",
    "lrcQ = {0: [[0, 0, 50, -1], [0, 0, 150, -1]]}\n",
    "fpm.ModflowWel(model, stress_period_data=lrcQ)"
   ]
  },
  {
   "cell_type": "markdown",
   "metadata": {},
   "source": [
    "The Preconditioned Conjugate-Gradient (PCG) solver, using the default settings, is specified to solve the model."
   ]
  },
  {
   "cell_type": "code",
   "execution_count": null,
   "metadata": {
    "execution": {
     "iopub.execute_input": "2023-05-02T02:57:28.385903Z",
     "iopub.status.busy": "2023-05-02T02:57:28.385551Z",
     "iopub.status.idle": "2023-05-02T02:57:28.392458Z",
     "shell.execute_reply": "2023-05-02T02:57:28.391304Z"
    }
   },
   "outputs": [],
   "source": [
    "fpm.ModflowPcg(model)"
   ]
  },
  {
   "cell_type": "markdown",
   "metadata": {},
   "source": [
    "The frequency and type of output that MODFLOW writes to an output file is specified with the Output Control (OC) package.  In this case, the budget is printed and heads are saved (the default), so no arguments are needed."
   ]
  },
  {
   "cell_type": "code",
   "execution_count": null,
   "metadata": {
    "execution": {
     "iopub.execute_input": "2023-05-02T02:57:28.396041Z",
     "iopub.status.busy": "2023-05-02T02:57:28.395602Z",
     "iopub.status.idle": "2023-05-02T02:57:28.402372Z",
     "shell.execute_reply": "2023-05-02T02:57:28.401575Z"
    }
   },
   "outputs": [],
   "source": [
    "fpm.ModflowOc(model)"
   ]
  },
  {
   "cell_type": "markdown",
   "metadata": {},
   "source": [
    "Finally the MODFLOW input files are written (eight files for this model) and the model is run. This requires, of course, that MODFLOW is installed on your computer and FloPy can find the executable in your path."
   ]
  },
  {
   "cell_type": "code",
   "execution_count": null,
   "metadata": {
    "execution": {
     "iopub.execute_input": "2023-05-02T02:57:28.405607Z",
     "iopub.status.busy": "2023-05-02T02:57:28.405294Z",
     "iopub.status.idle": "2023-05-02T02:57:28.512048Z",
     "shell.execute_reply": "2023-05-02T02:57:28.510779Z"
    }
   },
   "outputs": [],
   "source": [
    "model.write_input()\n",
    "success, buff = model.run_model(silent=True, report=True)\n",
    "if success:\n",
    "    for line in buff:\n",
    "        print(line)\n",
    "else:\n",
    "    raise ValueError(\"Failed to run.\")"
   ]
  },
  {
   "cell_type": "markdown",
   "metadata": {},
   "source": [
    "After MODFLOW has responded with the positive {\\tt Normal termination of simulation}, the calculated heads can be read from the binary output file. First a file object is created. As the modelname used for all MODFLOW files was specified as {\\tt gwexample} in step 1, the file with the heads is called {\\tt gwexample.hds}. FloPy includes functions to read data from the file object, including heads for specified layers or time steps, or head time series at individual cells. For this simple mode, all computed heads are read."
   ]
  },
  {
   "cell_type": "code",
   "execution_count": null,
   "metadata": {
    "execution": {
     "iopub.execute_input": "2023-05-02T02:57:28.515885Z",
     "iopub.status.busy": "2023-05-02T02:57:28.515535Z",
     "iopub.status.idle": "2023-05-02T02:57:28.523375Z",
     "shell.execute_reply": "2023-05-02T02:57:28.522436Z"
    }
   },
   "outputs": [],
   "source": [
    "fpth = os.path.join(ws, \"gwexample.hds\")\n",
    "hfile = fpu.HeadFile(fpth)\n",
    "h = hfile.get_data(totim=1.0)"
   ]
  },
  {
   "cell_type": "markdown",
   "metadata": {},
   "source": [
    "The heads are now stored in the Python variable {\\tt h}. FloPy includes powerful plotting functions to plot the grid, boundary conditions, head, etc. This functionality is demonstrated later. For this simple one-dimensional example, a plot is created with the matplotlib package"
   ]
  },
  {
   "cell_type": "code",
   "execution_count": null,
   "metadata": {
    "execution": {
     "iopub.execute_input": "2023-05-02T02:57:28.527058Z",
     "iopub.status.busy": "2023-05-02T02:57:28.526476Z",
     "iopub.status.idle": "2023-05-02T02:57:28.752814Z",
     "shell.execute_reply": "2023-05-02T02:57:28.751814Z"
    }
   },
   "outputs": [],
   "source": [
    "import matplotlib.pyplot as plt\n",
    "\n",
    "ax = plt.subplot(111)\n",
    "x = model.modelgrid.xcellcenters[0]\n",
    "ax.plot(x, h[0, 0, :])\n",
    "ax.set_xlim(0, x.max())\n",
    "ax.set_xlabel(\"x(m)\")\n",
    "ax.set_ylabel(\"head(m)\")\n",
    "plt.show()"
   ]
  },
  {
   "cell_type": "code",
   "execution_count": null,
   "metadata": {},
   "outputs": [],
   "source": []
  }
 ],
 "metadata": {
  "kernelspec": {
   "display_name": "Python 3 (ipykernel)",
   "language": "python",
   "name": "python3"
  },
  "language_info": {
   "codemirror_mode": {
    "name": "ipython",
    "version": 3
   },
   "file_extension": ".py",
   "mimetype": "text/x-python",
   "name": "python",
   "nbconvert_exporter": "python",
   "pygments_lexer": "ipython3",
   "version": "3.11.0"
  }
 },
 "nbformat": 4,
 "nbformat_minor": 4
}
