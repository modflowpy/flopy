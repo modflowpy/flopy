{
 "cells": [
  {
   "cell_type": "code",
   "execution_count": 1,
   "metadata": {
    "execution": {
     "iopub.execute_input": "2022-07-30T20:16:02.410827Z",
     "iopub.status.busy": "2022-07-30T20:16:02.410513Z",
     "iopub.status.idle": "2022-07-30T20:16:03.110071Z",
     "shell.execute_reply": "2022-07-30T20:16:03.109379Z"
    }
   },
   "outputs": [
    {
     "name": "stdout",
     "output_type": "stream",
     "text": [
      "3.10.5 (v3.10.5:f377153967, Jun  6 2022, 12:36:10) [Clang 13.0.0 (clang-1300.0.29.30)]\n",
      "flopy version: 3.3.6\n"
     ]
    }
   ],
   "source": [
    "import os\n",
    "import sys\n",
    "\n",
    "try:\n",
    "    import flopy\n",
    "except:\n",
    "    fpth = os.path.abspath(os.path.join(\"..\", \"..\"))\n",
    "    sys.path.append(fpth)\n",
    "    import flopy\n",
    "\n",
    "print(sys.version)\n",
    "print(\"flopy version: {}\".format(flopy.__version__))"
   ]
  },
  {
   "cell_type": "markdown",
   "metadata": {},
   "source": [
    "**Load an existing MODFLOW-2005 model with auxiliary variables**"
   ]
  },
  {
   "cell_type": "code",
   "execution_count": 2,
   "metadata": {
    "execution": {
     "iopub.execute_input": "2022-07-30T20:16:03.151706Z",
     "iopub.status.busy": "2022-07-30T20:16:03.151393Z",
     "iopub.status.idle": "2022-07-30T20:16:03.165465Z",
     "shell.execute_reply": "2022-07-30T20:16:03.164759Z"
    }
   },
   "outputs": [],
   "source": [
    "model_ws = os.path.join(\"..\", \"data\", \"mp6\")\n",
    "ml = flopy.modflow.Modflow.load(\n",
    "    \"EXAMPLE.nam\",\n",
    "    model_ws=model_ws,\n",
    "    verbose=False,\n",
    "    version=\"mf2005\",\n",
    "    check=False,\n",
    ")"
   ]
  },
  {
   "cell_type": "markdown",
   "metadata": {},
   "source": [
    "**Auxiliary IFACE data are in the river package**"
   ]
  },
  {
   "cell_type": "code",
   "execution_count": 3,
   "metadata": {
    "execution": {
     "iopub.execute_input": "2022-07-30T20:16:03.168997Z",
     "iopub.status.busy": "2022-07-30T20:16:03.168722Z",
     "iopub.status.idle": "2022-07-30T20:16:03.172250Z",
     "shell.execute_reply": "2022-07-30T20:16:03.171577Z"
    }
   },
   "outputs": [],
   "source": [
    "riv = ml.riv.stress_period_data[0]"
   ]
  },
  {
   "cell_type": "markdown",
   "metadata": {},
   "source": [
    "You can confirm that the `iface` auxiliary data have been read by looking at the `dtype`."
   ]
  },
  {
   "cell_type": "code",
   "execution_count": 4,
   "metadata": {
    "execution": {
     "iopub.execute_input": "2022-07-30T20:16:03.176174Z",
     "iopub.status.busy": "2022-07-30T20:16:03.175871Z",
     "iopub.status.idle": "2022-07-30T20:16:03.185159Z",
     "shell.execute_reply": "2022-07-30T20:16:03.184429Z"
    }
   },
   "outputs": [
    {
     "data": {
      "text/plain": [
       "dtype((numpy.record, [('k', '<i8'), ('i', '<i8'), ('j', '<i8'), ('stage', '<f4'), ('cond', '<f4'), ('rbot', '<f4'), ('iface', '<f4')]))"
      ]
     },
     "execution_count": 4,
     "metadata": {},
     "output_type": "execute_result"
    }
   ],
   "source": [
    "riv.dtype"
   ]
  },
  {
   "cell_type": "markdown",
   "metadata": {},
   "source": [
    "You can access the `iface` data from the recarray"
   ]
  },
  {
   "cell_type": "code",
   "execution_count": 5,
   "metadata": {
    "execution": {
     "iopub.execute_input": "2022-07-30T20:16:03.189021Z",
     "iopub.status.busy": "2022-07-30T20:16:03.188660Z",
     "iopub.status.idle": "2022-07-30T20:16:03.193926Z",
     "shell.execute_reply": "2022-07-30T20:16:03.193193Z"
    }
   },
   "outputs": [
    {
     "data": {
      "text/plain": [
       "array([6., 6., 6., 6., 6., 6., 6., 6., 6., 6., 6., 6., 6., 6., 6., 6., 6.,\n",
       "       6., 6., 6., 6., 6., 6., 6., 6.], dtype=float32)"
      ]
     },
     "execution_count": 5,
     "metadata": {},
     "output_type": "execute_result"
    }
   ],
   "source": [
    "riv[\"iface\"]"
   ]
  },
  {
   "cell_type": "code",
   "execution_count": null,
   "metadata": {},
   "outputs": [],
   "source": []
  }
 ],
 "metadata": {
  "kernelspec": {
   "display_name": "Python 3 (ipykernel)",
   "language": "python",
   "name": "python3"
  },
  "language_info": {
   "codemirror_mode": {
    "name": "ipython",
    "version": 3
   },
   "file_extension": ".py",
   "mimetype": "text/x-python",
   "name": "python",
   "nbconvert_exporter": "python",
   "pygments_lexer": "ipython3",
   "version": "3.10.5"
  }
 },
 "nbformat": 4,
 "nbformat_minor": 4
}
