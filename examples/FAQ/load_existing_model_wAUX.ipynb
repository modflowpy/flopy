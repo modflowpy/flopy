{
 "cells": [
  {
   "cell_type": "code",
   "execution_count": 1,
   "metadata": {
    "execution": {
     "iopub.execute_input": "2023-02-22T02:38:57.989290Z",
     "iopub.status.busy": "2023-02-22T02:38:57.988720Z",
     "iopub.status.idle": "2023-02-22T02:38:58.902520Z",
     "shell.execute_reply": "2023-02-22T02:38:58.901874Z"
    }
   },
   "outputs": [
    {
     "name": "stdout",
     "output_type": "stream",
     "text": [
      "3.10.6 (main, Nov 14 2022, 16:10:14) [GCC 11.3.0]\n",
      "flopy version: 3.3.7\n"
     ]
    }
   ],
   "source": [
    "import os\n",
    "import sys\n",
    "\n",
    "try:\n",
    "    import flopy\n",
    "except:\n",
    "    fpth = os.path.abspath(os.path.join(\"..\", \"..\"))\n",
    "    sys.path.append(fpth)\n",
    "    import flopy\n",
    "\n",
    "print(sys.version)\n",
    "print(\"flopy version: {}\".format(flopy.__version__))"
   ]
  },
  {
   "cell_type": "markdown",
   "metadata": {},
   "source": [
    "**Load an existing MODFLOW-2005 model with auxiliary variables**"
   ]
  },
  {
   "cell_type": "code",
   "execution_count": 2,
   "metadata": {
    "execution": {
     "iopub.execute_input": "2023-02-22T02:38:58.968512Z",
     "iopub.status.busy": "2023-02-22T02:38:58.967651Z",
     "iopub.status.idle": "2023-02-22T02:38:58.987908Z",
     "shell.execute_reply": "2023-02-22T02:38:58.986885Z"
    }
   },
   "outputs": [],
   "source": [
    "model_ws = os.path.join(\"..\", \"data\", \"mp6\")\n",
    "ml = flopy.modflow.Modflow.load(\n",
    "    \"EXAMPLE.nam\",\n",
    "    model_ws=model_ws,\n",
    "    verbose=False,\n",
    "    version=\"mf2005\",\n",
    "    check=False,\n",
    ")"
   ]
  },
  {
   "cell_type": "markdown",
   "metadata": {},
   "source": [
    "**Auxiliary IFACE data are in the river package**"
   ]
  },
  {
   "cell_type": "code",
   "execution_count": 3,
   "metadata": {
    "execution": {
     "iopub.execute_input": "2023-02-22T02:38:58.992067Z",
     "iopub.status.busy": "2023-02-22T02:38:58.991398Z",
     "iopub.status.idle": "2023-02-22T02:38:58.997441Z",
     "shell.execute_reply": "2023-02-22T02:38:58.996570Z"
    }
   },
   "outputs": [],
   "source": [
    "riv = ml.riv.stress_period_data[0]"
   ]
  },
  {
   "cell_type": "markdown",
   "metadata": {},
   "source": [
    "You can confirm that the `iface` auxiliary data have been read by looking at the `dtype`."
   ]
  },
  {
   "cell_type": "code",
   "execution_count": 4,
   "metadata": {
    "execution": {
     "iopub.execute_input": "2023-02-22T02:38:59.001461Z",
     "iopub.status.busy": "2023-02-22T02:38:59.000710Z",
     "iopub.status.idle": "2023-02-22T02:38:59.011006Z",
     "shell.execute_reply": "2023-02-22T02:38:59.010185Z"
    }
   },
   "outputs": [
    {
     "data": {
      "text/plain": [
       "dtype((numpy.record, [('k', '<i8'), ('i', '<i8'), ('j', '<i8'), ('stage', '<f4'), ('cond', '<f4'), ('rbot', '<f4'), ('iface', '<f4')]))"
      ]
     },
     "execution_count": 4,
     "metadata": {},
     "output_type": "execute_result"
    }
   ],
   "source": [
    "riv.dtype"
   ]
  },
  {
   "cell_type": "markdown",
   "metadata": {},
   "source": [
    "You can access the `iface` data from the recarray"
   ]
  },
  {
   "cell_type": "code",
   "execution_count": 5,
   "metadata": {
    "execution": {
     "iopub.execute_input": "2023-02-22T02:38:59.015980Z",
     "iopub.status.busy": "2023-02-22T02:38:59.015391Z",
     "iopub.status.idle": "2023-02-22T02:38:59.022103Z",
     "shell.execute_reply": "2023-02-22T02:38:59.021231Z"
    }
   },
   "outputs": [
    {
     "data": {
      "text/plain": [
       "array([6., 6., 6., 6., 6., 6., 6., 6., 6., 6., 6., 6., 6., 6., 6., 6., 6.,\n",
       "       6., 6., 6., 6., 6., 6., 6., 6.], dtype=float32)"
      ]
     },
     "execution_count": 5,
     "metadata": {},
     "output_type": "execute_result"
    }
   ],
   "source": [
    "riv[\"iface\"]"
   ]
  },
  {
   "cell_type": "code",
   "execution_count": null,
   "metadata": {},
   "outputs": [],
   "source": []
  }
 ],
 "metadata": {
  "kernelspec": {
   "display_name": "Python 3 (ipykernel)",
   "language": "python",
   "name": "python3"
  },
  "language_info": {
   "codemirror_mode": {
    "name": "ipython",
    "version": 3
   },
   "file_extension": ".py",
   "mimetype": "text/x-python",
   "name": "python",
   "nbconvert_exporter": "python",
   "pygments_lexer": "ipython3",
   "version": "3.10.6"
  }
 },
 "nbformat": 4,
 "nbformat_minor": 4
}
