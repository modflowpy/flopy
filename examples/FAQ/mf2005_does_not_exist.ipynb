{
 "cells": [
  {
   "cell_type": "code",
   "execution_count": 1,
   "metadata": {
    "execution": {
     "iopub.execute_input": "2023-02-22T02:39:01.962944Z",
     "iopub.status.busy": "2023-02-22T02:39:01.962509Z",
     "iopub.status.idle": "2023-02-22T02:39:02.700566Z",
     "shell.execute_reply": "2023-02-22T02:39:02.699980Z"
    }
   },
   "outputs": [
    {
     "name": "stdout",
     "output_type": "stream",
     "text": [
      "3.10.6 (main, Nov 14 2022, 16:10:14) [GCC 11.3.0]\n",
      "flopy version: 3.3.7\n"
     ]
    }
   ],
   "source": [
    "import os\n",
    "import sys\n",
    "\n",
    "try:\n",
    "    import flopy\n",
    "except:\n",
    "    fpth = os.path.abspath(os.path.join(\"..\", \"..\"))\n",
    "    sys.path.append(fpth)\n",
    "    import flopy\n",
    "\n",
    "print(sys.version)\n",
    "print(\"flopy version: {}\".format(flopy.__version__))"
   ]
  },
  {
   "cell_type": "markdown",
   "metadata": {},
   "source": [
    "In order for you to run a model you have created or loaded using FloPy the model executable must be available in your path. You can test if the model is available using:"
   ]
  },
  {
   "cell_type": "code",
   "execution_count": 2,
   "metadata": {
    "execution": {
     "iopub.execute_input": "2023-02-22T02:39:02.751787Z",
     "iopub.status.busy": "2023-02-22T02:39:02.751096Z",
     "iopub.status.idle": "2023-02-22T02:39:02.760499Z",
     "shell.execute_reply": "2023-02-22T02:39:02.759592Z"
    }
   },
   "outputs": [
    {
     "data": {
      "text/plain": [
       "'/home/***/.local/bin/mf2005'"
      ]
     },
     "execution_count": 2,
     "metadata": {},
     "output_type": "execute_result"
    }
   ],
   "source": [
    "from flopy.utils.flopy_io import scrub_login\n",
    "\n",
    "scrub_login(flopy.which(\"mf2005\"))"
   ]
  },
  {
   "cell_type": "markdown",
   "metadata": {},
   "source": [
    "The path to the executable is returned if the executable exists in your path or the current working directory. An empty string is passed if the executable does not exist in your path or the current working directory. Next we will test if a non-existent executable (`no-exist.exe`) is available."
   ]
  },
  {
   "cell_type": "code",
   "execution_count": 3,
   "metadata": {
    "execution": {
     "iopub.execute_input": "2023-02-22T02:39:02.763424Z",
     "iopub.status.busy": "2023-02-22T02:39:02.763117Z",
     "iopub.status.idle": "2023-02-22T02:39:02.767673Z",
     "shell.execute_reply": "2023-02-22T02:39:02.766943Z"
    }
   },
   "outputs": [],
   "source": [
    "flopy.which(\"no-exist.exe\")"
   ]
  },
  {
   "cell_type": "markdown",
   "metadata": {},
   "source": [
    "Nothing is written when `no-exist.exe` is passed to `flopy.which()`. This means the executable does not exist.\n",
    "\n",
    "If this happens you should:\n",
    "1. Check the that you have spelled the executable correctly.\n",
    "2. If you have spelled the executable correctly then you need to move the executable into your working directory or into a directory in your path.\n",
    "3. If you have spelled the executable correctly but don't have the executable. Your options are:\n",
    "    * Download a precompiled version of the executable. Precompiled versions of MODFLOW-based codes are available from the U.S. Geological Survey for the Windows operating system. \n",
    "    * Compile the source code (available from the U.S. Geological Survey) for the Windows, OS X, Linux, and UNIX operating systems and place the compiled executable in the working directory or a directory contained in your path (for example, `/Users/jdhughes/.local/bin/` as indicated above)."
   ]
  },
  {
   "cell_type": "markdown",
   "metadata": {},
   "source": [
    "You can get a list of the directories in your system path using:"
   ]
  },
  {
   "cell_type": "code",
   "execution_count": 4,
   "metadata": {
    "execution": {
     "iopub.execute_input": "2023-02-22T02:39:02.771485Z",
     "iopub.status.busy": "2023-02-22T02:39:02.770856Z",
     "iopub.status.idle": "2023-02-22T02:39:02.776255Z",
     "shell.execute_reply": "2023-02-22T02:39:02.775603Z"
    }
   },
   "outputs": [
    {
     "data": {
      "text/plain": [
       "'/home/***/.local/share/flopy/bin:/home/***/.local/share/flopy/bin:/home/***/dev/flopy/venv/bin:/home/***/miniconda3/condabin:/home/***/.cargo/bin:/home/***/.local/bin:/usr/local/sbin:/usr/local/bin:/usr/sbin:/usr/bin:/sbin:/bin:/usr/games:/usr/local/games:/snap/bin:/snap/bin:/home/***/.rvm/bin:/home/***/.local/share/JetBrains/Toolbox/scripts:/home/***/.rvm/bin:/home/***/.cargo/bin'"
      ]
     },
     "execution_count": 4,
     "metadata": {},
     "output_type": "execute_result"
    }
   ],
   "source": [
    "scrub_login(os.getenv(\"PATH\"))"
   ]
  },
  {
   "cell_type": "markdown",
   "metadata": {},
   "source": [
    "After you download/compile the executable put it in the current working directory or one of the directories in your system path."
   ]
  }
 ],
 "metadata": {
  "kernelspec": {
   "display_name": "Python 3 (ipykernel)",
   "language": "python",
   "name": "python3"
  },
  "language_info": {
   "codemirror_mode": {
    "name": "ipython",
    "version": 3
   },
   "file_extension": ".py",
   "mimetype": "text/x-python",
   "name": "python",
   "nbconvert_exporter": "python",
   "pygments_lexer": "ipython3",
   "version": "3.10.6"
  }
 },
 "nbformat": 4,
 "nbformat_minor": 4
}
