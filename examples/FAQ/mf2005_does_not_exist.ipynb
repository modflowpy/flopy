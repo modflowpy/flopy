{
 "cells": [
  {
   "cell_type": "code",
   "execution_count": 1,
   "metadata": {
    "execution": {
     "iopub.execute_input": "2022-07-30T20:16:02.411488Z",
     "iopub.status.busy": "2022-07-30T20:16:02.411095Z",
     "iopub.status.idle": "2022-07-30T20:16:03.095508Z",
     "shell.execute_reply": "2022-07-30T20:16:03.094730Z"
    }
   },
   "outputs": [
    {
     "name": "stdout",
     "output_type": "stream",
     "text": [
      "3.10.5 (v3.10.5:f377153967, Jun  6 2022, 12:36:10) [Clang 13.0.0 (clang-1300.0.29.30)]\n",
      "flopy version: 3.3.6\n"
     ]
    }
   ],
   "source": [
    "import os\n",
    "import sys\n",
    "\n",
    "try:\n",
    "    import flopy\n",
    "except:\n",
    "    fpth = os.path.abspath(os.path.join(\"..\", \"..\"))\n",
    "    sys.path.append(fpth)\n",
    "    import flopy\n",
    "\n",
    "print(sys.version)\n",
    "print(\"flopy version: {}\".format(flopy.__version__))"
   ]
  },
  {
   "cell_type": "markdown",
   "metadata": {},
   "source": [
    "In order for you to run a model you have created or loaded using FloPy the model executable must be available in your path. You can test if the model is available using:"
   ]
  },
  {
   "cell_type": "code",
   "execution_count": 2,
   "metadata": {
    "execution": {
     "iopub.execute_input": "2022-07-30T20:16:03.136672Z",
     "iopub.status.busy": "2022-07-30T20:16:03.135620Z",
     "iopub.status.idle": "2022-07-30T20:16:03.148360Z",
     "shell.execute_reply": "2022-07-30T20:16:03.147606Z"
    }
   },
   "outputs": [
    {
     "data": {
      "text/plain": [
       "'/Users/wes/dev/usgs-executables/mf2005'"
      ]
     },
     "execution_count": 2,
     "metadata": {},
     "output_type": "execute_result"
    }
   ],
   "source": [
    "flopy.which(\"mf2005\")"
   ]
  },
  {
   "cell_type": "markdown",
   "metadata": {},
   "source": [
    "The path to the executable is returned if the executable exists in your path or the current working directory. An empty string is passed if the executable does not exist in your path or the current working directory. Next we will test if a non-existent executable (`no-exist.exe`) is available."
   ]
  },
  {
   "cell_type": "code",
   "execution_count": 3,
   "metadata": {
    "execution": {
     "iopub.execute_input": "2022-07-30T20:16:03.151651Z",
     "iopub.status.busy": "2022-07-30T20:16:03.151405Z",
     "iopub.status.idle": "2022-07-30T20:16:03.155033Z",
     "shell.execute_reply": "2022-07-30T20:16:03.154372Z"
    }
   },
   "outputs": [],
   "source": [
    "flopy.which(\"no-exist.exe\")"
   ]
  },
  {
   "cell_type": "markdown",
   "metadata": {},
   "source": [
    "Nothing is written when `no-exist.exe` is passed to `flopy.which()`. This means the executable does not exist.\n",
    "\n",
    "If this happens you should:\n",
    "1. Check the that you have spelled the executable correctly.\n",
    "2. If you have spelled the executable correctly then you need to move the executable into your working directory or into a directory in your path.\n",
    "3. If you have spelled the executable correctly but don't have the executable. Your options are:\n",
    "    * Download a precompiled version of the executable. Precompiled versions of MODFLOW-based codes are available from the U.S. Geological Survey for the Windows operating system. \n",
    "    * Compile the source code (available from the U.S. Geological Survey) for the Windows, OS X, Linux, and UNIX operating systems and place the compiled executable in the working directory or a directory contained in your path (for example, `/Users/jdhughes/.local/bin/` as indicated above)."
   ]
  },
  {
   "cell_type": "markdown",
   "metadata": {},
   "source": [
    "You can get a list of the directories in your system path using:"
   ]
  },
  {
   "cell_type": "code",
   "execution_count": 4,
   "metadata": {
    "execution": {
     "iopub.execute_input": "2022-07-30T20:16:03.158859Z",
     "iopub.status.busy": "2022-07-30T20:16:03.158562Z",
     "iopub.status.idle": "2022-07-30T20:16:03.162750Z",
     "shell.execute_reply": "2022-07-30T20:16:03.162119Z"
    }
   },
   "outputs": [
    {
     "data": {
      "text/plain": [
       "'/Users/wes/dev/flopy/venv/bin:/Users/wes/.rvm/gems/ruby-2.6.3/bin:/Users/wes/.rvm/gems/ruby-2.6.3@global/bin:/Users/wes/.rvm/rubies/ruby-2.6.3/bin:/Users/wes/dev/usgs-executables/:/Applications/icommands/:/Library/Frameworks/Python.framework/Versions/3.10/bin:/Library/Frameworks/Python.framework/Versions/3.9/bin:/Library/Frameworks/Python.framework/Versions/3.7/bin:/usr/local/bin:/usr/bin:/bin:/usr/sbin:/sbin:/usr/local/share/dotnet:~/.dotnet/tools:/Library/Apple/usr/bin:/Library/Frameworks/Mono.framework/Versions/Current/Commands:/Applications/Xamarin Workbooks.app/Contents/SharedSupport/path-bin:/Users/wes/.rvm/bin'"
      ]
     },
     "execution_count": 4,
     "metadata": {},
     "output_type": "execute_result"
    }
   ],
   "source": [
    "os.getenv(\"PATH\")"
   ]
  },
  {
   "cell_type": "markdown",
   "metadata": {},
   "source": [
    "After you download/compile the executable put it in the current working directory or one of the directories in your system path."
   ]
  },
  {
   "cell_type": "code",
   "execution_count": null,
   "metadata": {},
   "outputs": [],
   "source": []
  }
 ],
 "metadata": {
  "kernelspec": {
   "display_name": "Python 3 (ipykernel)",
   "language": "python",
   "name": "python3"
  },
  "language_info": {
   "codemirror_mode": {
    "name": "ipython",
    "version": 3
   },
   "file_extension": ".py",
   "mimetype": "text/x-python",
   "name": "python",
   "nbconvert_exporter": "python",
   "pygments_lexer": "ipython3",
   "version": "3.10.5"
  }
 },
 "nbformat": 4,
 "nbformat_minor": 4
}
