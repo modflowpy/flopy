{
 "cells": [
  {
   "cell_type": "code",
   "execution_count": 1,
   "metadata": {
    "execution": {
     "iopub.execute_input": "2022-03-07T20:35:31.191125Z",
     "iopub.status.busy": "2022-03-07T20:35:31.190340Z",
     "iopub.status.idle": "2022-03-07T20:35:32.290692Z",
     "shell.execute_reply": "2022-03-07T20:35:32.291095Z"
    }
   },
   "outputs": [
    {
     "name": "stdout",
     "output_type": "stream",
     "text": [
      "3.9.7 (default, Sep 16 2021, 08:50:36) \n",
      "[Clang 10.0.0 ]\n",
      "flopy version: 3.3.5\n"
     ]
    }
   ],
   "source": [
    "%matplotlib inline\n",
    "import os\n",
    "import sys\n",
    "\n",
    "try:\n",
    "    import flopy\n",
    "except:\n",
    "    fpth = os.path.abspath(os.path.join('..', '..'))\n",
    "    sys.path.append(fpth)\n",
    "    import flopy\n",
    "    \n",
    "print(sys.version)\n",
    "print('flopy version: {}'.format(flopy.__version__))"
   ]
  },
  {
   "cell_type": "markdown",
   "metadata": {},
   "source": [
    "In order for you to run a model you have created or loaded using FloPy the model executable must be available in your path. You can test if the model is available using:"
   ]
  },
  {
   "cell_type": "code",
   "execution_count": 2,
   "metadata": {
    "execution": {
     "iopub.execute_input": "2022-03-07T20:35:32.296038Z",
     "iopub.status.busy": "2022-03-07T20:35:32.295315Z",
     "iopub.status.idle": "2022-03-07T20:35:32.301106Z",
     "shell.execute_reply": "2022-03-07T20:35:32.301593Z"
    }
   },
   "outputs": [
    {
     "data": {
      "text/plain": [
       "'/Users/jdhughes/.local/bin/mf2005'"
      ]
     },
     "execution_count": 2,
     "metadata": {},
     "output_type": "execute_result"
    }
   ],
   "source": [
    "flopy.which('mf2005')"
   ]
  },
  {
   "cell_type": "markdown",
   "metadata": {},
   "source": [
    "The path to the executable is returned if the executable exists in your path or the current working directory. An empty string is passed if the executable does not exist in your path or the current working directory. Next we will test if a non-existent executable (`no-exist.exe`) is available."
   ]
  },
  {
   "cell_type": "code",
   "execution_count": 3,
   "metadata": {
    "execution": {
     "iopub.execute_input": "2022-03-07T20:35:32.305394Z",
     "iopub.status.busy": "2022-03-07T20:35:32.304738Z",
     "iopub.status.idle": "2022-03-07T20:35:32.312483Z",
     "shell.execute_reply": "2022-03-07T20:35:32.312894Z"
    }
   },
   "outputs": [],
   "source": [
    "flopy.which('no-exist.exe')"
   ]
  },
  {
   "cell_type": "markdown",
   "metadata": {},
   "source": [
    "Nothing is written when `no-exist.exe` is passed to `flopy.which()`. This means the executable does not exist.\n",
    "\n",
    "If this happens you should:\n",
    "1. Check the that you have spelled the executable correctly.\n",
    "2. If you have spelled the executable correctly then you need to move the executable into your working directory or into a directory in your path.\n",
    "3. If you have spelled the executable correctly but don't have the executable. Your options are:\n",
    "    * Download a precompiled version of the executable. Precompiled versions of MODFLOW-based codes are available from the U.S. Geological Survey for the Windows operating system. \n",
    "    * Compile the source code (available from the U.S. Geological Survey) for the Windows, OS X, Linux, and UNIX operating systems and place the compiled executable in the working directory or a directory contained in your path (for example, `/Users/jdhughes/.local/bin/` as indicated above)."
   ]
  },
  {
   "cell_type": "markdown",
   "metadata": {},
   "source": [
    "You can get a list of the directories in your system path using:"
   ]
  },
  {
   "cell_type": "code",
   "execution_count": 4,
   "metadata": {
    "execution": {
     "iopub.execute_input": "2022-03-07T20:35:32.317348Z",
     "iopub.status.busy": "2022-03-07T20:35:32.316718Z",
     "iopub.status.idle": "2022-03-07T20:35:32.319425Z",
     "shell.execute_reply": "2022-03-07T20:35:32.319904Z"
    }
   },
   "outputs": [
    {
     "data": {
      "text/plain": [
       "'/Users/jdhughes/.local/bin:/opt/intel/oneapi/vtune_profiler/2021.7.1/Intel oneAPI VTune Profiler 2021.7.1.app/Contents/MacOS:/opt/intel/oneapi/dev-utilities/2021.5.0/bin:/opt/intel/oneapi/compiler/2022.0.0/mac/bin/intel64:/opt/intel/oneapi/advisor/2021.4.0/Intel Advisor 2021.4.app/Contents/MacOS:/Users/jdhughes/opt/anaconda3/bin:/Users/jdhughes/opt/anaconda3/condabin:/opt/local/bin:/opt/local/sbin:/usr/local/bin:/usr/bin:/bin:/usr/sbin:/sbin:/Library/TeX/texbin:/Library/Apple/usr/bin'"
      ]
     },
     "execution_count": 4,
     "metadata": {},
     "output_type": "execute_result"
    }
   ],
   "source": [
    "os.getenv('PATH')"
   ]
  },
  {
   "cell_type": "markdown",
   "metadata": {},
   "source": [
    "After you download/compile the executable put it in the current working directory or one of the directories in your system path."
   ]
  },
  {
   "cell_type": "code",
   "execution_count": null,
   "metadata": {},
   "outputs": [],
   "source": []
  }
 ],
 "metadata": {
  "kernelspec": {
   "display_name": "Python 3",
   "language": "python",
   "name": "python3"
  },
  "language_info": {
   "codemirror_mode": {
    "name": "ipython",
    "version": 3
   },
   "file_extension": ".py",
   "mimetype": "text/x-python",
   "name": "python",
   "nbconvert_exporter": "python",
   "pygments_lexer": "ipython3",
   "version": "3.9.7"
  }
 },
 "nbformat": 4,
 "nbformat_minor": 2
}
