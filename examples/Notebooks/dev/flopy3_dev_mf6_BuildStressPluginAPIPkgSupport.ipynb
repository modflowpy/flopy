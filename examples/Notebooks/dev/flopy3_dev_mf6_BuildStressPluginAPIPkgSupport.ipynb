{
 "cells": [
  {
   "cell_type": "markdown",
   "id": "3b7f5419",
   "metadata": {},
   "source": [
    "# Building a FloPy Plugin using the Stress Template and API Package\n",
    "\n",
    "The MODFLOW-6 API supports a BMI interface which allows you to modify the behavior of MODFLOW-6.  FloPy plugins streamline the process of using MODFLOW-6's BMI interface by:\n",
    "\n",
    "* Providing template generators to help rapidly set up the interface for your plugin\n",
    "* Integrating FloPy plugins as a part of MODFLOW-6 simulations so that adding a FloPy plugin to your simulation is as easy as adding a MODFLOW-6 package to your simulation \n",
    "* Providing an interface that allows FloPy plugins to work together\n",
    "\n",
    "In this notebook we will create a simple MODFLOW-6 plugin that behaves similarly to the MODFLOW-6 WEL package.  This plugin will be created using the FloPy template generator, which creates the FloPy plugin files you will need to get started quickly.  In this specific example the generic API package will be modified by this plugin to behave like a simplified WEL package.\n",
    "\n",
    "To create this plugin, first define the model type and pick a three letter abbreviation for your plugin."
   ]
  },
  {
   "cell_type": "code",
   "execution_count": null,
   "id": "ace91b6d",
   "metadata": {},
   "outputs": [],
   "source": [
    "# define the model type\n",
    "mt = \"gwf\"\n",
    "\n",
    "# define the stress plugin three letter abbreviation\n",
    "pn = \"npc\""
   ]
  },
  {
   "cell_type": "markdown",
   "id": "0c0c0f91",
   "metadata": {},
   "source": [
    "Next define any user-specified settings for your plugin.  These settings will exist in a \"package\" file similar to the files used to store MODFLOW-6 package user-specified settings.  The FloPy plugin template generator can set up an options, package, and stress period block for your \"package\" settings file.\n",
    "\n",
    "You can tell the template generator which options and settings to define by creating a dictionary where each key is an option/setting name and each value is a dictionary of attributes for that option/setting.  The only required attribute is \"type\".  Optional attributes include \"shape\" and \"optional\"."
   ]
  },
  {
   "cell_type": "code",
   "execution_count": null,
   "id": "63c6d2eb",
   "metadata": {},
   "outputs": [],
   "source": [
    "# define the plugin options\n",
    "opt = {\"print_input\": {\"type\": \"keyword\", \"optional\": \"True\"},\n",
    "       \"print_flows\": {\"type\": \"keyword\", \"optional\": \"True\"},\n",
    "       \"save_input\": {\"type\": \"keyword\", \"optional\": \"True\"},\n",
    "       \"save_flows\": {\"type\": \"keyword\", \"optional\": \"True\"},\n",
    "       \"auxiliary\": {\"type\": \"string\", \"shape\": \"naux\", \"optional\": \"True\"},\n",
    "       \"boundnames\": {\"type\": \"keyword\", \"optional\": \"True\"}}"
   ]
  },
  {
   "cell_type": "markdown",
   "id": "09121440",
   "metadata": {},
   "source": [
    "Define stress period data for your plugin in the same way.  You can also optionally define package data. "
   ]
  },
  {
   "cell_type": "code",
   "execution_count": null,
   "id": "0f2555a1",
   "metadata": {},
   "outputs": [],
   "source": [
    "# define the stress plugin stress period data\n",
    "spv = {\"cellid\": {\"type\": \"integer\", \"shape\": \"ncelldim\"},\n",
    "       \"q\": {\"type\": \"double precision\"},\n",
    "       \"aux\": {\"type\": \"double precision\", \"shape\": \"naux\",\n",
    "               \"optional\": \"True\"},\n",
    "       \"boundname\": {\"type\": \"string\", \"optional\": \"True\"}}"
   ]
  },
  {
   "cell_type": "markdown",
   "id": "9d9ccba6",
   "metadata": {},
   "source": [
    "Now that all of your plugin interface information is defined, run the FloPy plugin template generator \"generate_plugin_template\", passing the information you just defined."
   ]
  },
  {
   "cell_type": "code",
   "execution_count": null,
   "id": "ff36108c",
   "metadata": {},
   "outputs": [],
   "source": [
    "import flopy\n",
    "\n",
    "flopy.mf6.utils.flopy_plugins.plugin_template.generate_plugin_template(\n",
    "    mt,\n",
    "    pn,\n",
    "    options=opt,\n",
    "    stress_period_vars=spv)"
   ]
  },
  {
   "cell_type": "markdown",
   "id": "a3166ae6",
   "metadata": {},
   "source": [
    "## Working with flopy_npc_plugin.py\n",
    "\n",
    "The plugin template generator creates and modifies several files.  The plugin code file that you will edit in order to add functionality to your plugin is in the in the python working folder (folder containing this notebook) and in this case is named \"flopy_npc_plugin.py\".  This file contains a class derived from FPBMIPluginInterface with several methods.  \n",
    "\n",
    "### init_plugin() \n",
    "This method is called immediately before to the start of a model run.  The init_plugin method has been filled out for you to retreive all of your plugin settings from the plugin input file here.\n",
    "\n",
    "### stress_period_start(self, sp, sln_group)\n",
    "This method is called immediately after the MODFLOW-6 prepare_solve method is called for a new stress period.  The stress_period_start method has also been filled out for you, and the appropriate stress period data is loaded here.\n",
    "\n",
    "This method receives the current stress period (sp) and the modflowapi interface to the solution group currently being solved for (sln_group).  For simulations with more than one solution group, the flopy plug-in is associated with a specific solution group based on what model it is a part of and the flopy plug-in callback occurrs only when that solution group is being solved.  To override this behavior and receiving a callback when all solution groups are beings solved, set the run_for_all_solution_groups attribute to True.\n",
    "\n",
    "### time_step_start(self, sp, ts, sln_group)\n",
    "This method is called immediately after MODFLOW-6's prepare_solve method is called.  \n",
    "\n",
    "This method receives the current stress period (sp), the current time step (ts), and the modflowapi interface to the solution group currently being solved for (sln_group).  For simulations with more than one solution group, the FloPy plug-in is associated with a specific solution group based on what model it is a part of and the FloPy plug-in callback occurrs only when that solution group is being solved.  To override this behavior and receiving a callback when all solution groups are beings solved, set the run_for_all_solution_groups attribute to True.\n",
    "\n",
    "### iteration_start(self, sp, ts, iter_num, sln_group)\n",
    "This method is called for each MODFLOW-6 outer iteration, immediately before the MODFLOW-6 solve method is called.  The iteration_start method has been partially filled out with code that gets the MODFLOW-6 variables (nodelist, hcof, rhs, and bound) from the generic MODFLOW-6 API package you will use.  The code also\\loops through each of the stress period records in the current stress period, getting the user-defined values in the record for you.  In this loop you may want to add code that modifies the MODFLOW-6 API package's nodelist, hcof, rhs, and/or bound variables.  Code is already added at the end of this method to commit the modified variables back to MODFLOW-6. \n",
    "\n",
    "This method receives the current stress period (sp), the current time step (ts), current iteration number (iter_num) and the modflowapi interface to the solution group currently being solved for (sln_group).  For simulations with more than one solution group, the FloPy plug-in is associated with a specific solution group based on what model it is a part of and the FloPy plug-in callback occurrs only when that solution group is being solved.  To override this behavior and receiving a callback when all solution groups are beings solved, set the run_for_all_solution_groups attribute to True.\n",
    "\n",
    "### other methods you can override\n",
    "Additionally you can override the following methods.\n",
    "\n",
    "* receive_vars(self, simulation, model, package, user_kwargs) - When this method is called your FloPy plug-in receives FloPy objects related to your plugin (simulation, model, package) and also any kwargs passed by the user in the sim.run_simulation() call (user_kwargs).  If you override this method, the receive_vars base class method MUST be called first in order to FloPy plug-ins to function correctly.\n",
    "\n",
    "* receive_bmi(self, mf6_sim) - This method is called immediately after the MODFLOW-6 API is initialized and is passed a modflowapi Simulation object providing access to the MODFLOW-6 API (mf6_sim).  If you override this method, the recieve_bmi base class method MUST be called first in order to FloPy plug-ins to function correctly.\n",
    "\n",
    "* iteration_end(self, sp, ts, iter_num, sln_group) - This method is called immediately after the end of the current MODFLOW-6 outer iteration.  This method's parameters are the current stress period (sp), the current time step (ts), current iteration number (iter_num) and the modflowapi interface to the solution group currently being solved for (sln_group).  If you override this method, the iteration_end base class method MUST be called first in order to FloPy plug-ins to function correctly.\n",
    "\n",
    "* time_step_end(self, sp, ts, converged, sln_group) - This method is called immediately after the end of the current MODFLOW-6 time step.  This method's parameters are the current stress period (sp), the current time step (ts), whether the time step converged on a solution, and the modflowapi interface to the solution group currently being solved for (sln_group).  If you override this method, the time_step_end base class method MUST be called first in order to FloPy plug-ins to function correctly.\n",
    "\n",
    "* stress_period_end(self, sp, sln_group) - This method is called immediately after the end of the last MODFLOW-6 time step in a stress period.  This method parameters are the current stress period (sp) and the modflowapi interface to the solution group currently being solved for (sln_group).  If you override this method, the stress_period_end base class method MUST be called first in order to FloPy plug-ins to function correctly.\n",
    "\n",
    "* sim_complete() - This method is called immediately after the MODFLOW-6 simulation is complete.\n"
   ]
  },
  {
   "cell_type": "markdown",
   "id": "2f9e31e3",
   "metadata": {},
   "source": [
    "## Other files used by FloPy plugins\n",
    "\n",
    "The FloPy plugin template also creates a \"gwf-fp_npc.dfn\" file in the script's working path that defines the plugin's user interface.  It then runs createpackages.py to create the interface file, \"mfgwffp_npc.py\".  You can manually edit the dfn file to add more options, stress period vars, or other data blocks to your plugin.  After modifying the dfn you will need to run the \"createpackages\" method in createpackages.py to update your mfgwffp_npc.py file and add the appropriate code to flopy_npc_package.py to retreive and work with the new data.\n",
    "\n",
    "Additionally, the FloPy plugin template creates a configuration file, conffpy.py, located in the script’s working path.  The conffpy.py file contains a “flopy_plugins” variable that defines the path to the plugin code file and the name of the plugin’s class. FloPy uses this file to autodetect plugins that are not otherwise installed on your system."
   ]
  },
  {
   "cell_type": "markdown",
   "id": "01248553",
   "metadata": {},
   "source": [
    "## Example modification to flopy_npc_plugin.py\n",
    "\n",
    "Find the generated flopy_npc_plugin.py file.  This file will be in your python working directory, the same folder as this notebook is in..  Add the following lines to flopy_npc_plugin.py after the \"# ADD YOUR CODE HERE...\" comment.  Make sure the indent of the beginning of the code added lines up with the comment.\n",
    "\n",
    "                rhs_list[row_num] = -q\n",
    "                hcof_list[row_num] = 0\n",
    "                cur_nodelist[row_num] = self.mf6_model.usertonode[self.get_node(cellid)] + 1\n",
    "                bound[row_num, 0] = q\n",
    "                \n",
    "This code will use an instance of the API package to apply the amount \"q\" to the right hand side of the flow equations."
   ]
  },
  {
   "cell_type": "markdown",
   "id": "d1221a80",
   "metadata": {},
   "source": [
    "### Using your new plugin\n",
    "\n",
    "We will now create and run a model to test the new FloPy plugin.  First, a simple simulation with a GHB stress package is created in flopy."
   ]
  },
  {
   "cell_type": "code",
   "execution_count": null,
   "id": "c4ccf43b",
   "metadata": {},
   "outputs": [],
   "source": [
    "import numpy as np\n",
    "from flopy.mf6.modflow.mfgwf import ModflowGwf\n",
    "from flopy.mf6.modflow.mfgwfdis import ModflowGwfdis\n",
    "from flopy.mf6.modflow.mfgwfghb import ModflowGwfghb\n",
    "from flopy.mf6.modflow.mfgwfic import ModflowGwfic\n",
    "from flopy.mf6.modflow.mfgwfnpf import ModflowGwfnpf\n",
    "from flopy.mf6.modflow.mfgwfoc import ModflowGwfoc\n",
    "from flopy.mf6.modflow.mfgwfwel import ModflowGwfwel\n",
    "from flopy.mf6.modflow.mfims import ModflowIms\n",
    "from flopy.mf6.modflow.mfgwfsto import ModflowGwfsto\n",
    "from flopy.mf6.modflow.mfsimulation import MFSimulation\n",
    "from flopy.mf6.modflow.mftdis import ModflowTdis\n",
    "\n",
    "sim = MFSimulation(\n",
    "    sim_name=\"flopy_npc_test\",\n",
    "    version=\"mf6\",\n",
    "    exe_name=\"mf6.exe\",\n",
    "    sim_ws=\"flopy_npc_test\",\n",
    "    continue_=True,\n",
    "    memory_print_option=\"summary\",\n",
    ")\n",
    "\n",
    "tdis_rc = [(1000.0, 10, 1.0), (500.0, 10, 1.0)]\n",
    "tdis_package = ModflowTdis(\n",
    "    sim, time_units=\"DAYS\", nper=2, perioddata=tdis_rc,\n",
    "    start_date_time=\"1/1/2010\",\n",
    ")\n",
    "\n",
    "ims_package = ModflowIms(\n",
    "    sim,\n",
    "    filename=\"flopy_npc_test.ims\",\n",
    "    print_option=\"ALL\",\n",
    "    complexity=\"SIMPLE\",\n",
    "    outer_dvclose=0.00001,\n",
    "    outer_maximum=50,\n",
    "    under_relaxation=\"NONE\",\n",
    "    inner_maximum=30,\n",
    "    inner_dvclose=0.00001,\n",
    "    linear_acceleration=\"CG\",\n",
    "    preconditioner_levels=7,\n",
    "    preconditioner_drop_tolerance=0.01,\n",
    "    number_orthogonalizations=2,\n",
    ")\n",
    "\n",
    "model = ModflowGwf(\n",
    "    sim, modelname=\"flopy_npc_test\", model_nam_file=\"flopy_npc_test.nam\"\n",
    ")\n",
    "\n",
    "nlay = 2\n",
    "nrow = 10\n",
    "ncol = 10\n",
    "dis_package = ModflowGwfdis(\n",
    "    model,\n",
    "    length_units=\"FEET\",\n",
    "    nlay=nlay,\n",
    "    nrow=nrow,\n",
    "    ncol=ncol,\n",
    "    delr=500.0,\n",
    "    delc=500.0,\n",
    "    top=100.0,\n",
    "    botm=[50.0, 0.0],\n",
    "    pname=\"mydispkg\",\n",
    ")\n",
    "\n",
    "ic_package = ModflowGwfic(\n",
    "    model, strt=80.0\n",
    ")\n",
    "\n",
    "oc_package = ModflowGwfoc(\n",
    "    model,\n",
    "    head_filerecord=[\"flopy_npc_test.hds\"],\n",
    "    budget_filerecord=[\"flopy_npc_test.cbc\"],\n",
    "    headprintrecord=[(\"COLUMNS\", 10, \"WIDTH\", 15, \"DIGITS\", 6, \"GENERAL\")],\n",
    "    printrecord=[(\"HEAD\", \"ALL\"), (\"BUDGET\", \"ALL\")],\n",
    "    saverecord=[(\"HEAD\", \"ALL\"), (\"BUDGET\", \"ALL\")],\n",
    ")\n",
    "\n",
    "k = np.empty((nlay,nrow,ncol), float)\n",
    "for lay in range(0, nlay):\n",
    "    for row in range(0, nrow):\n",
    "        for col in range(0, ncol):\n",
    "            k[lay,row,col] = 120.0 - row * col\n",
    "            \n",
    "npf_package = ModflowGwfnpf(\n",
    "    model,\n",
    "    save_flows=True,\n",
    "    alternative_cell_averaging=\"logarithmic\",\n",
    "    icelltype=1,\n",
    "    k=k,\n",
    "    k33=0.01,\n",
    ")\n",
    "\n",
    "sto_package = ModflowGwfsto(\n",
    "    model, save_flows=True, iconvert=1, ss=0.000001, sy=0.15\n",
    ")\n",
    "\n",
    "ghb_package = ModflowGwfghb(\n",
    "    model,\n",
    "    print_input=True,\n",
    "    print_flows=True,\n",
    "    maxbound=10,\n",
    "    stress_period_data=[((0, 0, 0), 100.0, 60.0), ((0, 0, 1), 100.0, 60.0), ((0, 0, 2), 100.0, 60.0),\n",
    "                        ((0, 0, 3), 100.0, 60.0), ((0, 0, 4), 100.0, 60.0), ((0, 0, 5), 100.0, 60.0),\n",
    "                        ((0, 0, 6), 100.0, 60.0), ((0, 0, 7), 100.0, 60.0), ((0, 0, 8), 100.0, 60.0),\n",
    "                        ((0, 0, 9), 100.0, 60.0),],\n",
    ")"
   ]
  },
  {
   "cell_type": "markdown",
   "id": "73fa742e",
   "metadata": {},
   "source": [
    "Next, the FloPy plugin we just created is added to the simulation."
   ]
  },
  {
   "cell_type": "code",
   "execution_count": null,
   "id": "5c8f1ba8",
   "metadata": {},
   "outputs": [],
   "source": [
    "from mfgwffp_npc import ModflowGwffp_Npc\n",
    "\n",
    "# Create flopy \"npc\" plugin stress period data\n",
    "npc_period = {0: [((0, 4, 4), -2000.0, 1, 2, \"test\"),\n",
    "                  ((0, 4, 5), -2500.0, 3, 4, \"test2\")],\n",
    "              1: [((0, 4, 4), -500.0, 5, 6, \"test3\"),\n",
    "                  ((0, 4, 5), -200.0, 7, 8, \"test4\")]}\n",
    "# Create flopy \"npc\" plugin\n",
    "npc_plugin = ModflowGwffp_Npc(\n",
    "    model,\n",
    "    auxiliary=[(\"num_1\", \"num_3\")],\n",
    "    boundnames=True,\n",
    "    print_input=True,\n",
    "    print_flows=True,\n",
    "    stress_period_data=npc_period,\n",
    ")"
   ]
  },
  {
   "cell_type": "markdown",
   "id": "84914ef9",
   "metadata": {},
   "source": [
    "Finally, save and run the simulation."
   ]
  },
  {
   "cell_type": "code",
   "execution_count": null,
   "id": "8a7d05d3",
   "metadata": {
    "scrolled": true
   },
   "outputs": [],
   "source": [
    "sim.write_simulation()\n",
    "sim.run_simulation()"
   ]
  },
  {
   "cell_type": "markdown",
   "id": "cd89567a",
   "metadata": {},
   "source": [
    "FloPy plugins use the generic \"API\" package.  Therefore you will see the FloPy plugin's budget in the listing file as the package named \"api_npc\" which is of type \"API\" package. Open the \"flopy_npc_test.lst\" file in the \"flopy_npc_test\" folder (created next to this notebook) and note that there is a \"API_NPC_0\" package included in the budget with a rate of 800 ft3/day for stress period 1.\n",
    "\n",
    "The effects of water withdrawl from the api_npc package can be seen by plotting the heads.  Lower heads can be see in the middle of the model where the api_npc package is withdrawing water."
   ]
  },
  {
   "cell_type": "code",
   "execution_count": null,
   "id": "0c2040ab",
   "metadata": {},
   "outputs": [],
   "source": [
    "heads = model.output.head()\n",
    "heads.plot(kstpkper=(9, 0), mflay=0, colorbar=True)"
   ]
  },
  {
   "cell_type": "code",
   "execution_count": null,
   "id": "efefc82e",
   "metadata": {},
   "outputs": [],
   "source": []
  }
 ],
 "metadata": {
  "kernelspec": {
   "display_name": "3.8",
   "language": "python",
   "name": "3.8"
  },
  "language_info": {
   "codemirror_mode": {
    "name": "ipython",
    "version": 3
   },
   "file_extension": ".py",
   "mimetype": "text/x-python",
   "name": "python",
   "nbconvert_exporter": "python",
   "pygments_lexer": "ipython3",
   "version": "3.9.12"
  }
 },
 "nbformat": 4,
 "nbformat_minor": 5
}
