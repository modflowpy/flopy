{
 "cells": [
  {
   "cell_type": "markdown",
   "id": "ab8f5d73",
   "metadata": {},
   "source": [
    "# Building a FloPy Plugin using the Plugin Template without the API Package\n",
    "\n",
    "The MODFLOW-6 API supports a BMI interface which allows you to modify the behavior of MODFLOW-6.  FloPy plugins streamline the process of using MODFLOW-6's BMI interface by:\n",
    "\n",
    "* Providing template generators to help rapidly set up the interface for your plugin\n",
    "* Integrating FloPy plugins as a part of MODFLOW-6 simulations so that adding a FloPy plugin to your simulation is as easy as adding a MODFLOW-6 package to your simulation \n",
    "* Providing an interface that allows FloPy plugins to work together\n",
    "\n",
    "This notebook demonstrates how to create a FloPy plugin that modifies the behavior of MODFLOW-6 and existing MODFLOW-6 packages.  This notebook describes the process of building a FloPy plugin using the FloPy template generator, which creates the FloPy plugin files you will need to get started quickly. In this specific example we build a FloPy plugin that modifies the WEL package to transfer water from one location to another (injection well in one location and pumping well in another) when heads in a third location drop below a pre-defined level.\n",
    "\n",
    "To create this plugin, first define the model type that your FloPy plugin supports and pick a three letter abbreviation for your plugin."
   ]
  },
  {
   "cell_type": "code",
   "execution_count": null,
   "id": "d9bef02d",
   "metadata": {},
   "outputs": [],
   "source": [
    "# define the model type\n",
    "mt = \"gwf\"\n",
    "\n",
    "# define the stress plugin three letter abbreviation (wpf for well package modifier)\n",
    "pn = \"wpf\""
   ]
  },
  {
   "cell_type": "markdown",
   "id": "59980ce1",
   "metadata": {},
   "source": [
    "Next define any user-specified settings for this plugin.  These settings will exist in a \"package\" file similar to the files used to store MODFLOW-6 package user-specified settings.  The flopy plugin template generator can set up an options, package, and stress period block for this plugin's settings file.  Below we set the stress period block to contain the following:\n",
    "\n",
    "    wel_pkg_name: The name of the well package that this plugin is modifying\n",
    "    wel_num: The well number of the well to transfer water from\n",
    "    dest_wel_num: The well number of the well to transfer water to\n",
    "    cellid: The cellid where water levels will be monitored\n",
    "    trigger_flow_depth: If heads in cellid drop below trigger_flow_depth, water is transfered from wel_num to dest_wel_num\n",
    "    q: Amount of water that is transferred from wel_num to dest_wel_num\n",
    "    aux: Support for auxilary variables\n",
    "    boundname: Support for boundnames\n",
    "    "
   ]
  },
  {
   "cell_type": "code",
   "execution_count": null,
   "id": "1caa561e",
   "metadata": {},
   "outputs": [],
   "source": [
    "# define the stress plugin stress period data\n",
    "spv = {\"wel_pkg_name\": {\"type\": \"string\"},\n",
    "       \"wel_num\": {\"type\": \"integer\"},\n",
    "       \"dest_well_num\": {\"type\": \"integer\"},\n",
    "       \"cellid\": {\"type\": \"integer\", \"shape\": \"ncelldim\"},\n",
    "       \"trigger_flow_head\": {\"type\": \"double precision\"},\n",
    "       \"q\": {\"type\": \"double precision\"},\n",
    "       \"aux\": {\"type\": \"double precision\", \"shape\": \"naux\",\n",
    "               \"optional\": \"True\"},\n",
    "       \"boundname\": {\"type\": \"string\", \"optional\": \"True\"}}"
   ]
  },
  {
   "cell_type": "markdown",
   "id": "3603ed12",
   "metadata": {},
   "source": [
    "Now that all of your plugin interface information is defined, run the FloPy plugin template generator \"generate_plugin_template\", passing the information you just defined.  This plugin just modifies an existing wel package, so api_package_support is set to False.  For this example we will transfer water based on the heads from the last stress period, so our code will execute at the start of each stress period.  Therefore evaluation_code_at is set to \"stress_period_start\"."
   ]
  },
  {
   "cell_type": "code",
   "execution_count": null,
   "id": "c9998bd8",
   "metadata": {},
   "outputs": [],
   "source": [
    "import flopy\n",
    "\n",
    "flopy.mf6.utils.flopy_plugins.plugin_template.generate_plugin_template(\n",
    "    mt,\n",
    "    pn,\n",
    "    stress_period_vars=spv,\n",
    "    api_package_support=False,\n",
    "    evaluation_code_at=\"stress_period_start\")"
   ]
  },
  {
   "cell_type": "markdown",
   "id": "90f58928",
   "metadata": {},
   "source": [
    "## Working with flopy_wpf_plugin.py\n",
    "\n",
    "The plugin template generator creates and modifies several files.  The python file that you will edit in order to add functionality to your plugin is in the \"mf6/utils/flopy_plugins\" folder and in this case is named \"flopy_wpf_plugin.py\" (the \"wpf\" part of the name is based on the three letter abbreviation choosen above).  This file contains a class with several methods.  \n",
    "\n",
    "### init_plugin()\n",
    "This method is called immediately before to the start of a model run.  The init_plugin method has been filled out for you to retreive all of your plugin settings from the plugin input file here.  \n",
    "\n",
    "### stress_period_start(self, sp, sln_group)\n",
    "This method is called immediately after the MODFLOW-6 prepare_solve method is called for a new stress period.  The stress_period_start method has also been filled out for you, and the appropriate stress period data is loaded here.\n",
    "\n",
    "This method receives the current stress period (sp) and the modflowapi interface to the solution group currently being solved for (sln_group).  For simulations with more than one solution group, the flopy plug-in is associated with a specific solution group based on what model it is a part of and the FloPy plug-in callback occurrs only when that solution group is being solved.  To override this behavior and receiving a callback when all solution groups are beings solved, set the run_for_all_solution_groups attribute to True.\n",
    "\n",
    "### time_step_start(self, sp, ts, sln_group)\n",
    "This method is called immediately after the MODFLOW-6 prepare_solve method is called.\n",
    "\n",
    "This method receives the current stress period (sp), the current time step (ts), and the modflowapi interface to the solution group currently being solved for (sln_group).  For simulations with more than one solution group, the FloPy plug-in is associated with a specific solution group based on what model it is a part of and the FloPy plug-in callback occurrs only when that solution group is being solved.  To override this behavior and receiving a callback when all solution groups are beings solved, set the run_for_all_solution_groups attribute to True.\n",
    "\n",
    "### iteration_start(self, sp, ts, iter_num, sln_group)\n",
    "This method is called for each MODFLOW-6 outer iteration, immediately before the MODFLOW-6 solve method is called.  The iteration_start method has been partially filled out with code that loops through each of the user-defined stress period records in the current stress period, getting the values in the record for you.  In this loop you may want to add code that modifies the MODFLOW-6 behavior, for example by changing the values of an existing MODFLOW-6 package's nodelist, hcof, rhs, and/or bound variables.\n",
    "\n",
    "This method receives the current stress period (sp), the current time step (ts), current iteration number (iter_num) and the modflowapi interface to the solution group currently being solved for (sln_group).  For simulations with more than one solution group, the FloPy plug-in is associated with a specific solution group based on what model it is a part of and the flopy plug-in callback occurrs only when that solution group is being solved.  To override this behavior and receiving a callback when all solution groups are beings solved, set the run_for_all_solution_groups attribute to True.\n",
    "\n",
    "### other methods you can override\n",
    "Additionally you can override the following methods.\n",
    "\n",
    "* receive_vars(self, simulation, model, package, user_kwargs) - When this method is called your FloPy plug-in receives FloPy objects related to your plugin (simulation, model, package) and also any kwargs passed by the user in the sim.run_simulation() call (user_kwargs).  If you override this method, the receive_vars base class method MUST be called first in order to FloPy plug-ins to function correctly.\n",
    "\n",
    "* receive_bmi(self, mf6_sim) - This method is called immediately after the MODFLOW-6 API is initialized and is passed a modflowapi Simulation object providing access to the MODFLOW-6 API (mf6_sim).  If you override this method, the recieve_bmi base class method MUST be called first in order to FloPy plug-ins to function correctly.\n",
    "\n",
    "* iteration_end(self, sp, ts, iter_num, sln_group) - This method is called immediately after the end of the current MODFLOW-6 outer iteration.  This method's parameters are the current stress period (sp), the current time step (ts), current iteration number (iter_num) and the modflowapi interface to the solution group currently being solved for (sln_group).  If you override this method, the iteration_end base class method MUST be called first in order to FloPy plug-ins to function correctly.\n",
    "\n",
    "* time_step_end(self, sp, ts, converged, sln_group) - This method is called immediately after the end of the current MODFLOW-6 time step.  This method's parameters are the current stress period (sp), the current time step (ts), whether the time step converged on a solution, and the modflowapi interface to the solution group currently being solved for (sln_group).  If you override this method, the time_step_end base class method MUST be called first in order to FloPy plug-ins to function correctly.\n",
    "\n",
    "* stress_period_end(self, sp, sln_group) - This method is called immediately after the end of the last MODFLOW-6 time step in a stress period.  This method parameters are the current stress period (sp) and the modflowapi interface to the solution group currently being solved for (sln_group).  If you override this method, the stress_period_end base class method MUST be called first in order to FloPy plug-ins to function correctly.\n",
    "\n",
    "* sim_complete() - This method is called immediately after the MODFLOW-6 simulation is complete."
   ]
  },
  {
   "cell_type": "markdown",
   "id": "0552610a",
   "metadata": {},
   "source": [
    "## Other files used by FloPy plugins\n",
    "\n",
    "The FloPy plugin template also creates a \"gwf-fp_wpf.dfn\" file in \"mf6/data/dfn\" and then runs createpackages.py to create the package interface file, \"mfgwffp_wpf.py\" in \"mf6/modflow\".  You can manually edit the dfn file to add more options, stress period vars, or other data blocks to your plugin.  After modifying the dfn you will need to run createpackages.py to update your mfgwffp_wpf.py file and add the appropriate code to flopy_wpf_package.py to retreive and work with the new data."
   ]
  },
  {
   "cell_type": "markdown",
   "id": "6009564a",
   "metadata": {},
   "source": [
    "## Other modifications made for FloPy plugins\n",
    "\n",
    "Your package interface file, \"mfgwffp_wpf.py\", and FloPy plugin file, \"flopy_wpf_plugin.py\" were both added to \"\\__init\\__.py\" in their respective folders.  These files must be in \\__init\\__.py for FloPy to autodetect and use them at run time."
   ]
  },
  {
   "cell_type": "markdown",
   "id": "32f996cd",
   "metadata": {},
   "source": [
    "## Example modification to flopy_wpf_plugin.py\n",
    "\n",
    "Find the generated flopy_wpf_plugin.py file.  This file will be in your python folder under \"Lib\\site-packages\\flopy\\mf6\\utils\\flopy_plugins\".  Add the following lines to flopy_wpf_plugin.py after the \"# ADD YOUR CODE HERE\" comment. Make sure the indent of the beginning of the code added lines up with the comment.\n",
    "            "
   ]
  },
  {
   "cell_type": "markdown",
   "id": "5954be8b",
   "metadata": {},
   "source": [
    "                        self.mf6_default_package = wel_pkg_name\n",
    "                        # get mf6 variables\n",
    "                        spd = self.mf6_default_package.stress_period_data\n",
    "                        cur_nodelist = spd[\"nodelist\"]\n",
    "                        hcof_list = self.mf6_default_package.hcof\n",
    "                        rhs_list = self.mf6_default_package.rhs\n",
    "                        bound = self.mf6_default_package.get_advanced_var(\"bound\")\n",
    "\n",
    "                        # get node from wel num\n",
    "                        if len(cur_nodelist) > wel_num and \\\n",
    "                                len(cur_nodelist) > dest_well_num:\n",
    "                            # get node\n",
    "                            trigger_node = self.get_node(cellid)\n",
    "                            trigger_node_reduced = self.mf6_model.usertonode[trigger_node]\n",
    "\n",
    "                            # check water level elevation at injection well\n",
    "                            x_new = self.mf6_model.X.flatten()\n",
    "                            head = x_new[trigger_node_reduced]\n",
    "                            if head < trigger_flow_head:\n",
    "                                # water levels dropped below critical level, pump from\n",
    "                                # extraction well transferring all of its water to the\n",
    "                                # injection well\n",
    "                                rhs_list[dest_well_num] = -q\n",
    "                                bound[dest_well_num, 0] = q\n",
    "                                rhs_list[wel_num] = q\n",
    "                                bound[wel_num, 0] = -q\n",
    "                            else:\n",
    "                                # water levels are above critical level, turn off water\n",
    "                                # transfer\n",
    "                                rhs_list[dest_well_num] = 0.0\n",
    "                                bound[dest_well_num, 0] = 0.0\n",
    "                                rhs_list[wel_num] = 0.0\n",
    "                                bound[wel_num, 0] = 0.0\n",
    "\n",
    "                        # update wel package variables\n",
    "                        self.mf6_default_package.rhs = rhs_list\n",
    "                        self.mf6_default_package.hcof = \\\n",
    "                            hcof_list\n",
    "                        self.mf6_default_package.\\\n",
    "                            set_advanced_var(\"bound\", bound)"
   ]
  },
  {
   "cell_type": "markdown",
   "id": "77f172e9",
   "metadata": {},
   "source": [
    "### Before you proceed restart the python kernel so that it is up to date with your changes\n",
    "    \n",
    "Before you proceed restart the python kernel so that it is up to date with your changes above.\n",
    "Now we can create and run a model to test the new FloPy plugin you created. First, a simple simulation with a WEL and GHB stress package is created in FloPy."
   ]
  },
  {
   "cell_type": "code",
   "execution_count": null,
   "id": "fe59cf5e",
   "metadata": {},
   "outputs": [],
   "source": [
    "import numpy as np\n",
    "from flopy.mf6.modflow.mfgwf import ModflowGwf\n",
    "from flopy.mf6.modflow.mfgwfdis import ModflowGwfdis\n",
    "from flopy.mf6.modflow.mfgwfghb import ModflowGwfghb\n",
    "from flopy.mf6.modflow.mfgwfic import ModflowGwfic\n",
    "from flopy.mf6.modflow.mfgwfnpf import ModflowGwfnpf\n",
    "from flopy.mf6.modflow.mfgwfoc import ModflowGwfoc\n",
    "from flopy.mf6.modflow.mfgwfwel import ModflowGwfwel\n",
    "from flopy.mf6.modflow.mfims import ModflowIms\n",
    "from flopy.mf6.modflow.mfgwfsto import ModflowGwfsto\n",
    "from flopy.mf6.modflow.mfsimulation import MFSimulation\n",
    "from flopy.mf6.modflow.mftdis import ModflowTdis\n",
    "\n",
    "sim = MFSimulation(\n",
    "    sim_name=\"flopy_wpf_test\",\n",
    "    version=\"mf6\",\n",
    "    exe_name=\"mf6.exe\",\n",
    "    sim_ws=\"flopy_wpf_test\",\n",
    "    continue_=True,\n",
    "    memory_print_option=\"summary\",\n",
    ")\n",
    "\n",
    "tdis_rc = [(100.0, 1, 1.0), (100.0, 1, 1.0)]\n",
    "tdis_package = ModflowTdis(\n",
    "    sim, time_units=\"DAYS\", nper=2, perioddata=tdis_rc,\n",
    "    start_date_time=\"1/1/2010\",\n",
    ")\n",
    "\n",
    "ims_package = ModflowIms(\n",
    "    sim,\n",
    "    filename=\"flopy_wpf_test.ims\",\n",
    "    print_option=\"ALL\",\n",
    "    complexity=\"SIMPLE\",\n",
    "    outer_dvclose=0.00001,\n",
    "    outer_maximum=50,\n",
    "    under_relaxation=\"NONE\",\n",
    "    inner_maximum=30,\n",
    "    inner_dvclose=0.00001,\n",
    "    linear_acceleration=\"CG\",\n",
    "    preconditioner_levels=7,\n",
    "    preconditioner_drop_tolerance=0.01,\n",
    "    number_orthogonalizations=2,\n",
    ")\n",
    "\n",
    "model = ModflowGwf(\n",
    "    sim, modelname=\"flopy_wpf_test\", model_nam_file=\"flopy_wpf_test.nam\"\n",
    ")\n",
    "\n",
    "nlay = 2\n",
    "nrow = 10\n",
    "ncol = 10\n",
    "dis_package = ModflowGwfdis(\n",
    "    model,\n",
    "    length_units=\"FEET\",\n",
    "    nlay=nlay,\n",
    "    nrow=nrow,\n",
    "    ncol=ncol,\n",
    "    delr=500.0,\n",
    "    delc=500.0,\n",
    "    top=100.0,\n",
    "    botm=[50.0, 0.0],\n",
    "    pname=\"mydispkg\",\n",
    ")\n",
    "\n",
    "ic_package = ModflowGwfic(\n",
    "    model, strt=80.0\n",
    ")\n",
    "\n",
    "oc_package = ModflowGwfoc(\n",
    "    model,\n",
    "    head_filerecord=[\"flopy_wpf_test.hds\"],\n",
    "    budget_filerecord=[\"flopy_wpf_test.cbc\"],\n",
    "    headprintrecord=[(\"COLUMNS\", 10, \"WIDTH\", 15, \"DIGITS\", 6, \"GENERAL\")],\n",
    "    printrecord=[(\"HEAD\", \"ALL\"), (\"BUDGET\", \"ALL\")],\n",
    "    saverecord=[(\"HEAD\", \"ALL\"), (\"BUDGET\", \"ALL\")],\n",
    ")\n",
    "\n",
    "npf_package = ModflowGwfnpf(\n",
    "    model,\n",
    "    save_flows=True,\n",
    "    alternative_cell_averaging=\"logarithmic\",\n",
    "    icelltype=1,\n",
    "    k=5.0,\n",
    "    k33=0.001,\n",
    ")\n",
    "\n",
    "sto_package = ModflowGwfsto(\n",
    "    model, save_flows=True, iconvert=1, ss=0.000001, sy=0.15\n",
    ")\n",
    "\n",
    "ghb_package = ModflowGwfghb(\n",
    "    model,\n",
    "    print_input=True,\n",
    "    print_flows=True,\n",
    "    maxbound=10,\n",
    "    stress_period_data=[((0, 0, 0), 100.0, 60.0), ((0, 0, 1), 100.0, 60.0),\n",
    "                        ((0, 0, 2), 100.0, 60.0),\n",
    "                        ((0, 0, 3), 100.0, 60.0), ((0, 0, 4), 100.0, 60.0),\n",
    "                        ((0, 0, 5), 100.0, 60.0),\n",
    "                        ((0, 0, 6), 100.0, 60.0), ((0, 0, 7), 100.0, 60.0),\n",
    "                        ((0, 0, 8), 100.0, 60.0),\n",
    "                        ((0, 0, 9), 100.0, 60.0), ],\n",
    ")\n",
    "\n",
    "wel_package = ModflowGwfwel(\n",
    "    model,\n",
    "    pname=\"wel_0\",\n",
    "    print_input=True,\n",
    "    print_flows=True,\n",
    "    maxbound=10,\n",
    "    stress_period_data={0: [((1, 8, 0), 0.0), ((1, 1, 8), 0.0),\n",
    "                            ((1, 9, 0), -5000.0)],\n",
    "                        1: [((1, 8, 0), 0.0), ((1, 1, 8), 0.0),\n",
    "                            ((1, 9, 1), -5000.0)]},\n",
    ")"
   ]
  },
  {
   "cell_type": "markdown",
   "id": "8f161494",
   "metadata": {},
   "source": [
    "Next, the FloPy plugin we just created is added to the simulation.  In this case we are transferring 5000.0 ft/day of water from the second well to the first well when cell at layer/row/column (2, 6, 1) falls below 70.0 ft head."
   ]
  },
  {
   "cell_type": "code",
   "execution_count": null,
   "id": "59e58794",
   "metadata": {},
   "outputs": [],
   "source": [
    "from flopy.mf6.modflow.mfgwffp_wpf import ModflowGwffp_Wpf\n",
    "\n",
    "# Create flopy \"wpf\" plugin stress period data\n",
    "wpf_period = {0: [(\"wel_0\", 1, 0, (1, 5, 0), 70.0, 5000.0)],\n",
    "              1: [(\"wel_0\", 1, 0, (1, 5, 0), 70.0, 5000.0)]}\n",
    "# Create flopy \"wpf\" plugin\n",
    "wpf_plugin = ModflowGwffp_Wpf(\n",
    "    model,\n",
    "    stress_period_data=wpf_period,\n",
    ")"
   ]
  },
  {
   "cell_type": "markdown",
   "id": "473a48b4",
   "metadata": {},
   "source": [
    "Finally, save and run the simulation."
   ]
  },
  {
   "cell_type": "code",
   "execution_count": null,
   "id": "3b9535bf",
   "metadata": {
    "scrolled": true
   },
   "outputs": [],
   "source": [
    "sim.write_simulation()\n",
    "sim.run_simulation()"
   ]
  },
  {
   "cell_type": "markdown",
   "id": "713cdf26",
   "metadata": {},
   "source": [
    "After the simulation completes check the model listing file and note that the water transfer (in the WEL package) only occurs in the second stress period, after the heads dip below 70.0 ft in cell (2, 6, 1) at the end of the first stress period.  Results can be found in the \"flopy_wpf_test\" folder created next to this notebook.\n",
    "\n",
    "This can also be observed in the head plots.  In stress period one a well pumps from the lower-left corner of the model, causing some drawdown there. "
   ]
  },
  {
   "cell_type": "code",
   "execution_count": null,
   "id": "eff48656",
   "metadata": {},
   "outputs": [],
   "source": [
    "heads = model.output.head()\n",
    "heads.plot(kstpkper=(0, 0), mflay=1, colorbar=True)"
   ]
  },
  {
   "cell_type": "markdown",
   "id": "2fb8a494",
   "metadata": {},
   "source": [
    "By the end of stress period 1 the heads at cell (2, 6, 1) fall below the 70.0 ft threshold, leading to pumping from the well near the upper right corner of the model and injection of that water into another well near the lower left corner of the model.  This causes drawdown in the upper right corner and some recovery of heads in the lower left corner."
   ]
  },
  {
   "cell_type": "code",
   "execution_count": null,
   "id": "6e7f27b6",
   "metadata": {},
   "outputs": [],
   "source": [
    "heads.plot(kstpkper=(0, 1), mflay=1, colorbar=True)"
   ]
  },
  {
   "cell_type": "code",
   "execution_count": null,
   "id": "9ced931f",
   "metadata": {},
   "outputs": [],
   "source": []
  }
 ],
 "metadata": {
  "kernelspec": {
   "display_name": "3.8",
   "language": "python",
   "name": "3.8"
  },
  "language_info": {
   "codemirror_mode": {
    "name": "ipython",
    "version": 3
   },
   "file_extension": ".py",
   "mimetype": "text/x-python",
   "name": "python",
   "nbconvert_exporter": "python",
   "pygments_lexer": "ipython3",
   "version": "3.9.12"
  }
 },
 "nbformat": 4,
 "nbformat_minor": 5
}
