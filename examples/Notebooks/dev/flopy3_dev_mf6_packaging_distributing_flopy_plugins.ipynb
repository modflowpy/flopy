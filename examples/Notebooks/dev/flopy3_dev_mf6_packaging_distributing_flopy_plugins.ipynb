{
 "cells": [
  {
   "cell_type": "markdown",
   "id": "b4c70565",
   "metadata": {},
   "source": [
    "# Distributing your FloPy Plugin as a Python Package\n",
    "\n",
    "FloPy plugins can be installed as python packages.  FloPy will automatically detect plugins in other python packages by using python package metadata.\n",
    "\n",
    "In this notebook you will package an existing FloPy plugin in its own python package and then run an example simulation using that plugin.  The plugin being packaged is generated in the flopy3_dev_mf6_BuildStressPlugin notebook. Please run that notebook first.\n",
    "\n",
    "First, you need to determine the plugin abbreviation your FloPy plugin is using.  This is necessary to identify the files you wish to export.  Also, choose a name for the python package you wish to create (if you do not specify a name, a name will be created for you)."
   ]
  },
  {
   "cell_type": "code",
   "execution_count": null,
   "id": "bd0d8d4a",
   "metadata": {},
   "outputs": [],
   "source": [
    "plugin_abbr = \"mfp\"\n",
    "python_package_name = \"fp_mfp_plugin\""
   ]
  },
  {
   "cell_type": "markdown",
   "id": "e8f69089",
   "metadata": {},
   "source": [
    "Next, run the create_python_package script.  The create_python_package script requires that the plugin is referenced by a conffpl.py file in your working directory (it does not work on FloPy plugins installed in FloPy or are already installed as a python package)."
   ]
  },
  {
   "cell_type": "code",
   "execution_count": null,
   "id": "788f773b",
   "metadata": {},
   "outputs": [],
   "source": [
    "import flopy\n",
    "\n",
    "flopy.mf6.utils.flopy_plugins.plugin_template.create_python_package(\n",
    "    plugin_abbr,\n",
    "    python_package_name)"
   ]
  },
  {
   "cell_type": "markdown",
   "id": "48d59018",
   "metadata": {},
   "source": [
    "The create_python_package method creates a folder with all of your FloPy plugin files and a setup.py file to install your plugin.  You can created the plugin python package ready to be installed with the following command:\n",
    "\n",
    "python setup.py install\n",
    "\n",
    "You may need to copy your new python package into your active python distribution's site-packages folder.  Once there, FloPy will automatically find and use the corresponding plugin code when you run the simulation. Note that if you have a plugin with the same name in your FloPy installation (flopy/mf6/utils/flopy_plugins/plugins), the plugin in your FloPy installation will supersede the plugin installed as a python package.  Therefore, you will need to delete \"flopy_mfp_plugin.py\" from the \"flopy_plugins\" folder and remove the import from the \"\\__init\\__.py\" file before proceeding.\n",
    "\n",
    "Once the new FloPy plugin has been installed as a python package, you can create a simulation to test it.  First you will need to restart the kernel for this python notebook, so it is working with a version of python that includes the new FloPy plugin.  Then run the following code to build a simulation.\n",
    "\n",
    "Should you later want to remove this plugin from FloPy, uninstalling this python package will also uninstall this FloPy plugin. "
   ]
  },
  {
   "cell_type": "code",
   "execution_count": null,
   "id": "b70f09c2",
   "metadata": {},
   "outputs": [],
   "source": [
    "import os\n",
    "from flopy.mf6.modflow.mfgwf import ModflowGwf\n",
    "from flopy.mf6.modflow.mfgwfdis import ModflowGwfdis\n",
    "from flopy.mf6.modflow.mfgwfoc import ModflowGwfoc\n",
    "from flopy.mf6.modflow.mfgwfsto import ModflowGwfsto\n",
    "from flopy.mf6.modflow.mfims import ModflowIms\n",
    "from flopy.mf6.modflow.mfsimulation import MFSimulation\n",
    "from flopy.mf6.modflow.mftdis import ModflowTdis\n",
    "from flopy.mf6.modflow.mfgwfic import ModflowGwfic\n",
    "from flopy.mf6.modflow.mfgwfnpf import ModflowGwfnpf\n",
    "from flopy.mf6.modflow.mfgwfchd import ModflowGwfchd\n",
    "\n",
    "model_name = \"flopy_pkg_test\"\n",
    "pth = \"flopy_pkg_test\"\n",
    "# create simulation\n",
    "sim = MFSimulation(sim_name=model_name, version=\"mf6\", exe_name=\"mf6.exe\", sim_ws=pth)\n",
    "tdis_package = ModflowTdis(\n",
    "    sim, time_units=\"DAYS\", nper=1, perioddata=[(1000.0, 120, 1.0)],\n",
    "    start_date_time=\"1/1/2010\"\n",
    ")\n",
    "model = ModflowGwf(\n",
    "    sim, modelname=model_name, model_nam_file=f\"{model_name}.nam\"\n",
    ")\n",
    "ims_package = ModflowIms(\n",
    "    sim,\n",
    "    print_option=\"SUMMARY\",\n",
    "    complexity=\"SIMPLE\",\n",
    "    outer_dvclose=0.0001,\n",
    "    outer_maximum=500,\n",
    "    under_relaxation=\"NONE\",\n",
    "    inner_maximum=100,\n",
    "    inner_dvclose=0.0001,\n",
    "    rcloserecord=0.001,\n",
    "    linear_acceleration=\"CG\",\n",
    "    scaling_method=\"NONE\",\n",
    "    reordering_method=\"NONE\",\n",
    "    relaxation_factor=0.97,\n",
    ")\n",
    "sim.register_ims_package(ims_package, [model.name])\n",
    "bot_data = [-100 for x in range(150)]\n",
    "dis_package = ModflowGwfdis(\n",
    "    model,\n",
    "    nlay=3,\n",
    "    nrow=15,\n",
    "    ncol=10,\n",
    "    delr=100.0,\n",
    "    delc=100.0,\n",
    "    top=50.0,\n",
    "    botm=[5.0, -10.0, {\"factor\": 1.0, \"data\": bot_data}],\n",
    "    filename=f\"{model_name}.dis\",\n",
    ")\n",
    "ic_package = ModflowGwfic(model, strt=50.0, filename=f\"{model_name}.ic\")\n",
    "npf_package = ModflowGwfnpf(\n",
    "    model,\n",
    "    save_flows=True,\n",
    "    icelltype=1,\n",
    "    k=50.0,\n",
    "    k33=0.1\n",
    ")\n",
    "oc_package = ModflowGwfoc(\n",
    "    model,\n",
    "    budget_filerecord=f\"{model_name}.cbc\",\n",
    "    head_filerecord=\"AdvGW_tidal.hds\",\n",
    "    headprintrecord=[(\"COLUMNS\", 10, \"WIDTH\", 15, \"DIGITS\", 6, \"GENERAL\")],\n",
    "    saverecord=[(\"HEAD\", \"ALL\"), (\"BUDGET\", \"ALL\")],\n",
    "    printrecord=[(\"HEAD\", \"ALL\"), (\"BUDGET\", \"ALL\")],\n",
    ")\n",
    "sto_package = ModflowGwfsto(\n",
    "    model,\n",
    "    save_flows=True,\n",
    "    iconvert=1,\n",
    "    ss=0.000001,\n",
    "    sy=0.2,\n",
    "    transient={0: True, 1: True},\n",
    ")\n",
    "\n",
    "chd_period_data = []\n",
    "for column in range(0, 10):\n",
    "    chd_period_data.append(((0, 0, column), 50.0))\n",
    "    chd_period_data.append(((0, 14, column), 10.0))\n",
    "chd_period = {\n",
    "    0: chd_period_data\n",
    "}\n",
    "chd_package = ModflowGwfchd(\n",
    "    model,\n",
    "    print_input=True,\n",
    "    print_flows=True,\n",
    "    save_flows=True,\n",
    "    maxbound=3,\n",
    "    stress_period_data=chd_period,\n",
    ")\n"
   ]
  },
  {
   "cell_type": "markdown",
   "id": "1f237966",
   "metadata": {},
   "source": [
    "Add your package to the simulation"
   ]
  },
  {
   "cell_type": "code",
   "execution_count": null,
   "id": "06fb761a",
   "metadata": {},
   "outputs": [],
   "source": [
    "from fp_mfp_plugin.mfgwffp_mfp import ModflowGwffp_Mfp\n",
    "\n",
    "mfp_period = {0: [((2, 0, 0), -200.0)]}\n",
    "mfp_package = ModflowGwffp_Mfp(model, maxbound=1, stress_period_data=mfp_period)"
   ]
  },
  {
   "cell_type": "markdown",
   "id": "6b1d445c",
   "metadata": {},
   "source": [
    "Write and run the simulation"
   ]
  },
  {
   "cell_type": "code",
   "execution_count": null,
   "id": "6dffbca2",
   "metadata": {},
   "outputs": [],
   "source": [
    "sim.write_simulation()\n",
    "sim.run_simulation()"
   ]
  },
  {
   "cell_type": "markdown",
   "id": "85c983c2",
   "metadata": {},
   "source": [
    "Look at the model listing file \"flopy_pkg_test\" and note the \"API_MFP_0\" package in the model budget."
   ]
  }
 ],
 "metadata": {
  "kernelspec": {
   "display_name": "3.8",
   "language": "python",
   "name": "3.8"
  },
  "language_info": {
   "codemirror_mode": {
    "name": "ipython",
    "version": 3
   },
   "file_extension": ".py",
   "mimetype": "text/x-python",
   "name": "python",
   "nbconvert_exporter": "python",
   "pygments_lexer": "ipython3",
   "version": "3.9.12"
  }
 },
 "nbformat": 4,
 "nbformat_minor": 5
}
