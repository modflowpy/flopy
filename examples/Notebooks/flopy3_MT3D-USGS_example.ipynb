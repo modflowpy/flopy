{
 "cells": [
  {
   "cell_type": "markdown",
   "metadata": {},
   "source": [
    "# FloPy\n",
    "\n",
    "### MT3D-USGS Example\n",
    "\n",
    "Demonstrates functionality of the flopy MT3D-USGS module using the 'Crank-Nicolson' example distributed with MT3D-USGS.  \n",
    "\n",
    "#### Problem description:\n",
    "\n",
    "* Grid dimensions: 1 Layer, 3 Rows, 650 Columns\n",
    "* Stress periods: 3\n",
    "* Units are in seconds and meters\n",
    "* Flow package: UPW\n",
    "* Stress packages: SFR, GHB\n",
    "* Solvers: NWT, GCG"
   ]
  },
  {
   "cell_type": "code",
   "execution_count": 1,
   "metadata": {
    "execution": {
     "iopub.execute_input": "2023-02-22T02:41:45.653576Z",
     "iopub.status.busy": "2023-02-22T02:41:45.653155Z",
     "iopub.status.idle": "2023-02-22T02:41:46.509946Z",
     "shell.execute_reply": "2023-02-22T02:41:46.508377Z"
    }
   },
   "outputs": [
    {
     "name": "stdout",
     "output_type": "stream",
     "text": [
      "3.10.6 (main, Nov 14 2022, 16:10:14) [GCC 11.3.0]\n",
      "numpy version: 1.24.1\n",
      "matplotlib version: 3.6.3\n",
      "flopy version: 3.3.7\n"
     ]
    }
   ],
   "source": [
    "import sys\n",
    "import os\n",
    "import string\n",
    "from tempfile import TemporaryDirectory\n",
    "from io import StringIO, BytesIO\n",
    "import math\n",
    "\n",
    "import numpy as np\n",
    "import matplotlib as mpl\n",
    "import matplotlib.pyplot as plt\n",
    "\n",
    "# run installed version of flopy or add local path\n",
    "try:\n",
    "    import flopy\n",
    "except:\n",
    "    fpth = os.path.abspath(os.path.join(\"..\", \"..\"))\n",
    "    sys.path.append(fpth)\n",
    "    import flopy\n",
    "\n",
    "print(sys.version)\n",
    "print(\"numpy version: {}\".format(np.__version__))\n",
    "print(\"matplotlib version: {}\".format(mpl.__version__))\n",
    "print(\"flopy version: {}\".format(flopy.__version__))"
   ]
  },
  {
   "cell_type": "code",
   "execution_count": 2,
   "metadata": {
    "execution": {
     "iopub.execute_input": "2023-02-22T02:41:46.547331Z",
     "iopub.status.busy": "2023-02-22T02:41:46.546893Z",
     "iopub.status.idle": "2023-02-22T02:41:46.553859Z",
     "shell.execute_reply": "2023-02-22T02:41:46.552586Z"
    }
   },
   "outputs": [],
   "source": [
    "temp_dir = TemporaryDirectory()\n",
    "modelpth = temp_dir.name\n",
    "modelname = \"CrnkNic\"\n",
    "mfexe = \"mfnwt\"\n",
    "mtexe = \"mt3dusgs\"\n",
    "\n",
    "# Make sure modelpth directory exists\n",
    "if not os.path.isdir(modelpth):\n",
    "    os.makedirs(modelpth, exist_ok=True)\n",
    "\n",
    "# Instantiate MODFLOW object in flopy\n",
    "mf = flopy.modflow.Modflow(\n",
    "    modelname=modelname, exe_name=mfexe, model_ws=modelpth, version=\"mfnwt\"\n",
    ")"
   ]
  },
  {
   "cell_type": "markdown",
   "metadata": {},
   "source": [
    "Set up model discretization"
   ]
  },
  {
   "cell_type": "code",
   "execution_count": 3,
   "metadata": {
    "execution": {
     "iopub.execute_input": "2023-02-22T02:41:46.558807Z",
     "iopub.status.busy": "2023-02-22T02:41:46.557984Z",
     "iopub.status.idle": "2023-02-22T02:41:46.565467Z",
     "shell.execute_reply": "2023-02-22T02:41:46.564071Z"
    }
   },
   "outputs": [],
   "source": [
    "Lx = 650.0\n",
    "Ly = 15\n",
    "nrow = 3\n",
    "ncol = 650\n",
    "nlay = 1\n",
    "\n",
    "delr = Lx / ncol\n",
    "delc = Ly / nrow\n",
    "\n",
    "xmax = ncol * delr\n",
    "ymax = nrow * delc\n",
    "\n",
    "X, Y = np.meshgrid(\n",
    "    np.linspace(delr / 2, xmax - delr / 2, ncol),\n",
    "    np.linspace(ymax - delc / 2, 0 + delc / 2, nrow),\n",
    ")"
   ]
  },
  {
   "cell_type": "markdown",
   "metadata": {},
   "source": [
    "Instantiate output control (oc) package for MODFLOW-NWT"
   ]
  },
  {
   "cell_type": "code",
   "execution_count": 4,
   "metadata": {
    "execution": {
     "iopub.execute_input": "2023-02-22T02:41:46.570627Z",
     "iopub.status.busy": "2023-02-22T02:41:46.570181Z",
     "iopub.status.idle": "2023-02-22T02:41:46.576023Z",
     "shell.execute_reply": "2023-02-22T02:41:46.574792Z"
    }
   },
   "outputs": [],
   "source": [
    "# Output Control: Create a flopy output control object\n",
    "oc = flopy.modflow.ModflowOc(mf)"
   ]
  },
  {
   "cell_type": "markdown",
   "metadata": {},
   "source": [
    "Instantiate solver package for MODFLOW-NWT"
   ]
  },
  {
   "cell_type": "code",
   "execution_count": 5,
   "metadata": {
    "execution": {
     "iopub.execute_input": "2023-02-22T02:41:46.580879Z",
     "iopub.status.busy": "2023-02-22T02:41:46.580397Z",
     "iopub.status.idle": "2023-02-22T02:41:46.586864Z",
     "shell.execute_reply": "2023-02-22T02:41:46.585829Z"
    }
   },
   "outputs": [],
   "source": [
    "# Newton-Raphson Solver: Create a flopy nwt package object\n",
    "\n",
    "headtol = 1.0e-4\n",
    "fluxtol = 5\n",
    "maxiterout = 5000\n",
    "thickfact = 1e-06\n",
    "linmeth = 2\n",
    "iprnwt = 1\n",
    "ibotav = 1\n",
    "\n",
    "nwt = flopy.modflow.ModflowNwt(\n",
    "    mf,\n",
    "    headtol=headtol,\n",
    "    fluxtol=fluxtol,\n",
    "    maxiterout=maxiterout,\n",
    "    thickfact=thickfact,\n",
    "    linmeth=linmeth,\n",
    "    iprnwt=iprnwt,\n",
    "    ibotav=ibotav,\n",
    "    options=\"SIMPLE\",\n",
    ")"
   ]
  },
  {
   "cell_type": "markdown",
   "metadata": {},
   "source": [
    "Instantiate discretization (DIS) package for MODFLOW-NWT"
   ]
  },
  {
   "cell_type": "code",
   "execution_count": 6,
   "metadata": {
    "execution": {
     "iopub.execute_input": "2023-02-22T02:41:46.590948Z",
     "iopub.status.busy": "2023-02-22T02:41:46.590615Z",
     "iopub.status.idle": "2023-02-22T02:41:46.599876Z",
     "shell.execute_reply": "2023-02-22T02:41:46.598871Z"
    }
   },
   "outputs": [],
   "source": [
    "# The equations for calculating the ground elevation in the 1 Layer CrnkNic model.\n",
    "# Although Y isn't used, keeping it here for symetry\n",
    "\n",
    "\n",
    "def topElev(X, Y):\n",
    "    return 100.0 - (np.ceil(X) - 1) * 0.03\n",
    "\n",
    "\n",
    "grndElev = topElev(X, Y)\n",
    "bedRockElev = grndElev - 3.0\n",
    "\n",
    "Steady = [False, False, False]\n",
    "nstp = [1, 1, 1]\n",
    "tsmult = [1.0, 1.0, 1.0]\n",
    "\n",
    "# Stress periods extend from (12AM-8:29:59AM); (8:30AM-11:30:59AM); (11:31AM-23:59:59PM)\n",
    "perlen = [30600, 10800, 45000]\n",
    "\n",
    "# Create the discretization object\n",
    "# itmuni = 1 (seconds); lenuni = 2 (meters)\n",
    "dis = flopy.modflow.ModflowDis(\n",
    "    mf,\n",
    "    nlay,\n",
    "    nrow,\n",
    "    ncol,\n",
    "    nper=3,\n",
    "    delr=delr,\n",
    "    delc=delc,\n",
    "    top=grndElev,\n",
    "    botm=bedRockElev,\n",
    "    laycbd=0,\n",
    "    itmuni=1,\n",
    "    lenuni=2,\n",
    "    steady=Steady,\n",
    "    nstp=nstp,\n",
    "    tsmult=tsmult,\n",
    "    perlen=perlen,\n",
    ")"
   ]
  },
  {
   "cell_type": "markdown",
   "metadata": {},
   "source": [
    "Instantiate upstream weighting (UPW) flow package for MODFLOW-NWT"
   ]
  },
  {
   "cell_type": "code",
   "execution_count": 7,
   "metadata": {
    "execution": {
     "iopub.execute_input": "2023-02-22T02:41:46.604523Z",
     "iopub.status.busy": "2023-02-22T02:41:46.604016Z",
     "iopub.status.idle": "2023-02-22T02:41:46.612016Z",
     "shell.execute_reply": "2023-02-22T02:41:46.610938Z"
    }
   },
   "outputs": [],
   "source": [
    "# UPW parameters\n",
    "# UPW must be instantiated after DIS.  Otherwise, during the mf.write_input() procedures,\n",
    "# flopy will crash.\n",
    "\n",
    "\n",
    "laytyp = 1\n",
    "layavg = 2\n",
    "chani = 1.0\n",
    "layvka = 1\n",
    "iphdry = 0\n",
    "hk = 0.1\n",
    "hani = 1\n",
    "vka = 1.0\n",
    "ss = 0.000001\n",
    "sy = 0.20\n",
    "hdry = -888\n",
    "\n",
    "upw = flopy.modflow.ModflowUpw(\n",
    "    mf,\n",
    "    laytyp=laytyp,\n",
    "    layavg=layavg,\n",
    "    chani=chani,\n",
    "    layvka=layvka,\n",
    "    ipakcb=53,\n",
    "    hdry=hdry,\n",
    "    iphdry=iphdry,\n",
    "    hk=hk,\n",
    "    hani=hani,\n",
    "    vka=vka,\n",
    "    ss=ss,\n",
    "    sy=sy,\n",
    ")"
   ]
  },
  {
   "cell_type": "markdown",
   "metadata": {},
   "source": [
    "Instantiate basic (BAS or BA6) package for MODFLOW-NWT"
   ]
  },
  {
   "cell_type": "code",
   "execution_count": 8,
   "metadata": {
    "execution": {
     "iopub.execute_input": "2023-02-22T02:41:46.616524Z",
     "iopub.status.busy": "2023-02-22T02:41:46.616185Z",
     "iopub.status.idle": "2023-02-22T02:41:46.623048Z",
     "shell.execute_reply": "2023-02-22T02:41:46.622051Z"
    }
   },
   "outputs": [],
   "source": [
    "# Create a flopy basic package object\n",
    "def calc_strtElev(X, Y):\n",
    "    return 99.5 - (np.ceil(X) - 1) * 0.0001\n",
    "\n",
    "\n",
    "ibound = np.ones((nlay, nrow, ncol))\n",
    "ibound[:, 0, :] *= -1\n",
    "ibound[:, 2, :] *= -1\n",
    "\n",
    "strtElev = calc_strtElev(X, Y)\n",
    "\n",
    "bas = flopy.modflow.ModflowBas(mf, ibound=ibound, hnoflo=hdry, strt=strtElev)"
   ]
  },
  {
   "cell_type": "markdown",
   "metadata": {},
   "source": [
    "Instantiate streamflow routing (SFR2) package for MODFLOW-NWT"
   ]
  },
  {
   "cell_type": "code",
   "execution_count": 9,
   "metadata": {
    "execution": {
     "iopub.execute_input": "2023-02-22T02:41:46.628445Z",
     "iopub.status.busy": "2023-02-22T02:41:46.627964Z",
     "iopub.status.idle": "2023-02-22T02:41:46.673687Z",
     "shell.execute_reply": "2023-02-22T02:41:46.672759Z"
    }
   },
   "outputs": [],
   "source": [
    "# Streamflow Routing Package: Try and set up with minimal options in use\n",
    "# 9 11 IFACE # Data Set 1: ISTCB1  ISTCB2\n",
    "\n",
    "nstrm = ncol\n",
    "nss = 6\n",
    "const = 1.0\n",
    "dleak = 0.0001\n",
    "istcb1 = -10\n",
    "istcb2 = 11\n",
    "isfropt = 1\n",
    "\n",
    "segment_data = None\n",
    "channel_geometry_data = None\n",
    "channel_flow_data = None\n",
    "dataset_5 = None\n",
    "reachinput = True\n",
    "\n",
    "\n",
    "# The next couple of lines set up the reach_data for the 30x100 hypothetical model.\n",
    "# Will need to adjust the row based on which grid discretization we're doing.\n",
    "# Ensure that the stream goes down one of the middle rows of the model.\n",
    "\n",
    "strmBed_Elev = 98.75 - (np.ceil(X[1, :]) - 1) * 0.0001\n",
    "\n",
    "s1 = \"k,i,j,iseg,ireach,rchlen,strtop,slope,strthick,strhc1\\n\"\n",
    "iseg = 0\n",
    "irch = 0\n",
    "\n",
    "for y in range(ncol):\n",
    "    if y <= 37:\n",
    "        if iseg == 0:\n",
    "            irch = 1\n",
    "        else:\n",
    "            irch += 1\n",
    "        iseg = 1\n",
    "        strhc1 = 1.0e-10\n",
    "    elif y <= 104:\n",
    "        if iseg == 1:\n",
    "            irch = 1\n",
    "        else:\n",
    "            irch += 1\n",
    "        iseg = 2\n",
    "        strhc1 = 1.0e-10\n",
    "    elif y <= 280:\n",
    "        if iseg == 2:\n",
    "            irch = 1\n",
    "        else:\n",
    "            irch += 1\n",
    "        iseg = 3\n",
    "        strhc1 = 2.946219199e-6\n",
    "    elif y <= 432:\n",
    "        if iseg == 3:\n",
    "            irch = 1\n",
    "        else:\n",
    "            irch += 1\n",
    "        iseg = 4\n",
    "        strhc1 = 1.375079882e-6\n",
    "    elif y <= 618:\n",
    "        if iseg == 4:\n",
    "            irch = 1\n",
    "        else:\n",
    "            irch += 1\n",
    "        iseg = 5\n",
    "        strhc1 = 1.764700062e-6\n",
    "    else:\n",
    "        if iseg == 5:\n",
    "            irch = 1\n",
    "        else:\n",
    "            irch += 1\n",
    "        iseg = 6\n",
    "        strhc1 = 1e-10\n",
    "\n",
    "    # remember that lay, row, col need to be zero-based and are adjusted accordingly by flopy\n",
    "    #    layer +  row      +      col     +       iseg      +      irch      +     rchlen      +            strtop          +       slope       +     strthick    +     strmbed K\n",
    "    s1 += \"0,{}\".format(1)\n",
    "    s1 += \",{}\".format(y)\n",
    "    s1 += \",{}\".format(iseg)\n",
    "    s1 += \",{}\".format(irch)\n",
    "    s1 += \",{}\".format(delr)\n",
    "    s1 += \",{}\".format(strmBed_Elev[y])\n",
    "    s1 += \",{}\".format(0.0001)\n",
    "    s1 += \",{}\".format(0.50)\n",
    "    s1 += \",{}\\n\".format(strhc1)\n",
    "\n",
    "\n",
    "fpth = os.path.join(modelpth, \"s1.csv\")\n",
    "f = open(fpth, \"w\")\n",
    "f.write(s1)\n",
    "f.close()\n",
    "\n",
    "dtype = [\n",
    "    (\"k\", \"<i4\"),\n",
    "    (\"i\", \"<i4\"),\n",
    "    (\"j\", \"<i4\"),\n",
    "    (\"iseg\", \"<i4\"),\n",
    "    (\"ireach\", \"<f8\"),\n",
    "    (\"rchlen\", \"<f8\"),\n",
    "    (\"strtop\", \"<f8\"),\n",
    "    (\"slope\", \"<f8\"),\n",
    "    (\"strthick\", \"<f8\"),\n",
    "    (\"strhc1\", \"<f8\"),\n",
    "]\n",
    "\n",
    "if sys.version_info > (3, 0):\n",
    "    f = open(fpth, \"rb\")\n",
    "else:\n",
    "    f = open(fpth, \"r\")\n",
    "\n",
    "reach_data = np.genfromtxt(f, delimiter=\",\", names=True, dtype=dtype)\n",
    "f.close()\n",
    "\n",
    "s2 = \"nseg,icalc,outseg,iupseg,nstrpts,   flow,runoff,etsw,pptsw,        roughch,        roughbk,cdpth,fdpth,awdth,bwdth,width1,width2\\n \\\n",
    "      1,    1,     2,     0,      0, 0.0125,   0.0, 0.0,  0.0, 0.082078856000, 0.082078856000,  0.0,  0.0,  0.0,  0.0,   1.5,   1.5\\n \\\n",
    "      2,    1,     3,     0,      0,    0.0,   0.0, 0.0,  0.0, 0.143806300000, 0.143806300000,  0.0,  0.0,  0.0,  0.0,   1.5,   1.5\\n \\\n",
    "      3,    1,     4,     0,      0,    0.0,   0.0, 0.0,  0.0, 0.104569661821, 0.104569661821,  0.0,  0.0,  0.0,  0.0,   1.5,   1.5\\n \\\n",
    "      4,    1,     5,     0,      0,    0.0,   0.0, 0.0,  0.0, 0.126990045841, 0.126990045841,  0.0,  0.0,  0.0,  0.0,   1.5,   1.5\\n \\\n",
    "      5,    1,     6,     0,      0,    0.0,   0.0, 0.0,  0.0, 0.183322283828, 0.183322283828,  0.0,  0.0,  0.0,  0.0,   1.5,   1.5\\n \\\n",
    "      6,    1,     0,     0,      0,    0.0,   0.0, 0.0,  0.0, 0.183322283828, 0.183322283828,  0.0,  0.0,  0.0,  0.0,   1.5,   1.5\"\n",
    "\n",
    "fpth = os.path.join(modelpth, \"s2.csv\")\n",
    "f = open(fpth, \"w\")\n",
    "f.write(s2)\n",
    "f.close()\n",
    "\n",
    "if sys.version_info > (3, 0):\n",
    "    f = open(fpth, \"rb\")\n",
    "else:\n",
    "    f = open(fpth, \"r\")\n",
    "\n",
    "segment_data = np.genfromtxt(f, delimiter=\",\", names=True)\n",
    "f.close()\n",
    "\n",
    "# Be sure to convert segment_data to a dictionary keyed on stress period.\n",
    "segment_data = np.atleast_1d(segment_data)\n",
    "segment_data = {0: segment_data, 1: segment_data, 2: segment_data}\n",
    "\n",
    "# There are 3 stress periods\n",
    "dataset_5 = {0: [nss, 0, 0], 1: [nss, 0, 0], 2: [nss, 0, 0]}\n",
    "\n",
    "sfr = flopy.modflow.ModflowSfr2(\n",
    "    mf,\n",
    "    nstrm=nstrm,\n",
    "    nss=nss,\n",
    "    const=const,\n",
    "    dleak=dleak,\n",
    "    isfropt=isfropt,\n",
    "    istcb2=0,\n",
    "    reachinput=True,\n",
    "    reach_data=reach_data,\n",
    "    dataset_5=dataset_5,\n",
    "    segment_data=segment_data,\n",
    "    channel_geometry_data=channel_geometry_data,\n",
    ")"
   ]
  },
  {
   "cell_type": "markdown",
   "metadata": {},
   "source": [
    "Instantiate gage package for use with MODFLOW-NWT package"
   ]
  },
  {
   "cell_type": "code",
   "execution_count": 10,
   "metadata": {
    "execution": {
     "iopub.execute_input": "2023-02-22T02:41:46.678377Z",
     "iopub.status.busy": "2023-02-22T02:41:46.677923Z",
     "iopub.status.idle": "2023-02-22T02:41:46.684336Z",
     "shell.execute_reply": "2023-02-22T02:41:46.683358Z"
    }
   },
   "outputs": [],
   "source": [
    "gages = [\n",
    "    [1, 38, 61, 1],\n",
    "    [2, 67, 62, 1],\n",
    "    [3, 176, 63, 1],\n",
    "    [4, 152, 64, 1],\n",
    "    [5, 186, 65, 1],\n",
    "    [6, 31, 66, 1],\n",
    "]\n",
    "files = [\n",
    "    \"CrnkNic.gage\",\n",
    "    \"CrnkNic.gag1\",\n",
    "    \"CrnkNic.gag2\",\n",
    "    \"CrnkNic.gag3\",\n",
    "    \"CrnkNic.gag4\",\n",
    "    \"CrnkNic.gag5\",\n",
    "    \"CrnkNic.gag6\",\n",
    "]\n",
    "gage = flopy.modflow.ModflowGage(\n",
    "    mf, numgage=6, gage_data=gages, filenames=files\n",
    ")"
   ]
  },
  {
   "cell_type": "markdown",
   "metadata": {},
   "source": [
    "Instantiate linkage with mass transport routing (LMT) package for MODFLOW-NWT (generates linker file)"
   ]
  },
  {
   "cell_type": "code",
   "execution_count": 11,
   "metadata": {
    "execution": {
     "iopub.execute_input": "2023-02-22T02:41:46.688600Z",
     "iopub.status.busy": "2023-02-22T02:41:46.688120Z",
     "iopub.status.idle": "2023-02-22T02:41:46.693065Z",
     "shell.execute_reply": "2023-02-22T02:41:46.692010Z"
    }
   },
   "outputs": [],
   "source": [
    "lmt = flopy.modflow.ModflowLmt(\n",
    "    mf,\n",
    "    output_file_name=\"CrnkNic.ftl\",\n",
    "    output_file_header=\"extended\",\n",
    "    output_file_format=\"formatted\",\n",
    "    package_flows=[\"sfr\"],\n",
    ")"
   ]
  },
  {
   "cell_type": "markdown",
   "metadata": {},
   "source": [
    "Write the MODFLOW input files"
   ]
  },
  {
   "cell_type": "code",
   "execution_count": 12,
   "metadata": {
    "execution": {
     "iopub.execute_input": "2023-02-22T02:41:46.697273Z",
     "iopub.status.busy": "2023-02-22T02:41:46.696856Z",
     "iopub.status.idle": "2023-02-22T02:41:46.790869Z",
     "shell.execute_reply": "2023-02-22T02:41:46.789803Z"
    }
   },
   "outputs": [
    {
     "name": "stdout",
     "output_type": "stream",
     "text": [
      "\n",
      "                                  MODFLOW-NWT-SWR1 \n",
      "    U.S. GEOLOGICAL SURVEY MODULAR FINITE-DIFFERENCE GROUNDWATER-FLOW MODEL\n",
      "                             WITH NEWTON FORMULATION\n",
      "                             Version 1.3.0 07/01/2022                        \n",
      "                    BASED ON MODFLOW-2005 Version 1.12.0 02/03/2017                       \n",
      "\n",
      "                    SWR1 Version 1.05.0 03/10/2022                       \n",
      "\n",
      " Using NAME file: CrnkNic.nam \n",
      " Run start date and time (yyyy/mm/dd hh:mm:ss): 2023/02/21 21:41:46\n",
      "\n",
      " Solving:  Stress period:     1    Time step:     1    Groundwater-Flow Eqn.\n",
      " Solving:  Stress period:     2    Time step:     1    Groundwater-Flow Eqn.\n",
      " Solving:  Stress period:     3    Time step:     1    Groundwater-Flow Eqn.\n",
      " Run end date and time (yyyy/mm/dd hh:mm:ss): 2023/02/21 21:41:46\n",
      " Elapsed run time:  0.050 Seconds\n",
      "\n",
      "  Normal termination of simulation\n"
     ]
    }
   ],
   "source": [
    "mf.write_input()\n",
    "\n",
    "# run the model\n",
    "success, buff = mf.run_model(silent=True, report=True)\n",
    "if success:\n",
    "    for line in buff:\n",
    "        print(line)\n",
    "else:\n",
    "    raise ValueError(\"Failed to run.\")"
   ]
  },
  {
   "cell_type": "markdown",
   "metadata": {},
   "source": [
    "Now draft up MT3D-USGS input files.  "
   ]
  },
  {
   "cell_type": "code",
   "execution_count": 13,
   "metadata": {
    "execution": {
     "iopub.execute_input": "2023-02-22T02:41:46.794709Z",
     "iopub.status.busy": "2023-02-22T02:41:46.794415Z",
     "iopub.status.idle": "2023-02-22T02:41:46.799673Z",
     "shell.execute_reply": "2023-02-22T02:41:46.798721Z"
    }
   },
   "outputs": [],
   "source": [
    "# Instantiate MT3D-USGS object in flopy\n",
    "mt = flopy.mt3d.Mt3dms(\n",
    "    modflowmodel=mf,\n",
    "    modelname=modelname,\n",
    "    model_ws=modelpth,\n",
    "    version=\"mt3d-usgs\",\n",
    "    namefile_ext=\"mtnam\",\n",
    "    exe_name=mtexe,\n",
    "    ftlfilename=\"CrnkNic.ftl\",\n",
    "    ftlfree=True,\n",
    ")"
   ]
  },
  {
   "cell_type": "markdown",
   "metadata": {},
   "source": [
    "Instantiate basic transport (BTN) package for MT3D-USGS"
   ]
  },
  {
   "cell_type": "code",
   "execution_count": 14,
   "metadata": {
    "execution": {
     "iopub.execute_input": "2023-02-22T02:41:46.802991Z",
     "iopub.status.busy": "2023-02-22T02:41:46.802718Z",
     "iopub.status.idle": "2023-02-22T02:41:46.808620Z",
     "shell.execute_reply": "2023-02-22T02:41:46.807639Z"
    }
   },
   "outputs": [],
   "source": [
    "btn = flopy.mt3d.Mt3dBtn(\n",
    "    mt,\n",
    "    sconc=3.7,\n",
    "    ncomp=1,\n",
    "    prsity=0.2,\n",
    "    cinact=-1.0,\n",
    "    thkmin=0.001,\n",
    "    nprs=-1,\n",
    "    nprobs=10,\n",
    "    chkmas=True,\n",
    "    nprmas=10,\n",
    "    dt0=180,\n",
    "    mxstrn=2500,\n",
    ")"
   ]
  },
  {
   "cell_type": "markdown",
   "metadata": {},
   "source": [
    "Instantiate advection (ADV) package for MT3D-USGS"
   ]
  },
  {
   "cell_type": "code",
   "execution_count": 15,
   "metadata": {
    "execution": {
     "iopub.execute_input": "2023-02-22T02:41:46.812023Z",
     "iopub.status.busy": "2023-02-22T02:41:46.811732Z",
     "iopub.status.idle": "2023-02-22T02:41:46.816826Z",
     "shell.execute_reply": "2023-02-22T02:41:46.815695Z"
    }
   },
   "outputs": [],
   "source": [
    "adv = flopy.mt3d.Mt3dAdv(mt, mixelm=0, percel=1.00, mxpart=5000, nadvfd=1)"
   ]
  },
  {
   "cell_type": "markdown",
   "metadata": {},
   "source": [
    "Instatiate generalized conjugate gradient solver (GCG) package for MT3D-USGS"
   ]
  },
  {
   "cell_type": "code",
   "execution_count": 16,
   "metadata": {
    "execution": {
     "iopub.execute_input": "2023-02-22T02:41:46.819928Z",
     "iopub.status.busy": "2023-02-22T02:41:46.819647Z",
     "iopub.status.idle": "2023-02-22T02:41:46.825017Z",
     "shell.execute_reply": "2023-02-22T02:41:46.823929Z"
    }
   },
   "outputs": [],
   "source": [
    "rct = flopy.mt3d.Mt3dRct(mt, isothm=0, ireact=100, igetsc=0, rc1=0.01)"
   ]
  },
  {
   "cell_type": "code",
   "execution_count": 17,
   "metadata": {
    "execution": {
     "iopub.execute_input": "2023-02-22T02:41:46.828380Z",
     "iopub.status.busy": "2023-02-22T02:41:46.828035Z",
     "iopub.status.idle": "2023-02-22T02:41:46.832786Z",
     "shell.execute_reply": "2023-02-22T02:41:46.831768Z"
    }
   },
   "outputs": [],
   "source": [
    "gcg = flopy.mt3d.Mt3dGcg(\n",
    "    mt, mxiter=10, iter1=50, isolve=3, ncrs=0, accl=1, cclose=1e-6, iprgcg=1\n",
    ")"
   ]
  },
  {
   "cell_type": "markdown",
   "metadata": {},
   "source": [
    "Instantiate source-sink mixing (SSM) package for MT3D-USGS"
   ]
  },
  {
   "cell_type": "code",
   "execution_count": 18,
   "metadata": {
    "execution": {
     "iopub.execute_input": "2023-02-22T02:41:46.836034Z",
     "iopub.status.busy": "2023-02-22T02:41:46.835745Z",
     "iopub.status.idle": "2023-02-22T02:41:46.843688Z",
     "shell.execute_reply": "2023-02-22T02:41:46.842528Z"
    }
   },
   "outputs": [],
   "source": [
    "# For SSM, need to set the constant head boundary conditions to the ambient concentration\n",
    "# for all 1,300 constant head boundary cells.\n",
    "\n",
    "itype = flopy.mt3d.Mt3dSsm.itype_dict()\n",
    "ssm_data = {}\n",
    "ssm_data[0] = [(0, 0, 0, 3.7, itype[\"CHD\"])]\n",
    "ssm_data[0].append((0, 2, 0, 3.7, itype[\"CHD\"]))\n",
    "for i in [0, 2]:\n",
    "    for j in range(1, ncol):\n",
    "        ssm_data[0].append((0, i, j, 3.7, itype[\"CHD\"]))\n",
    "\n",
    "ssm = flopy.mt3d.Mt3dSsm(mt, stress_period_data=ssm_data)"
   ]
  },
  {
   "cell_type": "markdown",
   "metadata": {},
   "source": [
    "Instantiate streamflow transport (SFT) package for MT3D-USGS"
   ]
  },
  {
   "cell_type": "code",
   "execution_count": 19,
   "metadata": {
    "execution": {
     "iopub.execute_input": "2023-02-22T02:41:46.847121Z",
     "iopub.status.busy": "2023-02-22T02:41:46.846748Z",
     "iopub.status.idle": "2023-02-22T02:41:46.856139Z",
     "shell.execute_reply": "2023-02-22T02:41:46.855113Z"
    }
   },
   "outputs": [],
   "source": [
    "dispsf = []\n",
    "for y in range(ncol):\n",
    "    if y <= 37:\n",
    "        dispsf.append(0.12)\n",
    "    elif y <= 104:\n",
    "        dispsf.append(0.15)\n",
    "    elif y <= 280:\n",
    "        dispsf.append(0.24)\n",
    "    elif y <= 432:\n",
    "        dispsf.append(0.31)\n",
    "    elif y <= 618:\n",
    "        dispsf.append(0.40)\n",
    "    else:\n",
    "        dispsf.append(0.40)\n",
    "\n",
    "# Enter a list of the observation points\n",
    "# Each observation is taken as the last reach within the first 5 segments\n",
    "\n",
    "seg_len = np.unique(reach_data[\"iseg\"], return_counts=True)\n",
    "obs_sf = np.cumsum(seg_len[1])\n",
    "obs_sf = obs_sf.tolist()\n",
    "\n",
    "# The last reach is not an observation point, therefore drop\n",
    "obs_sf.pop(-1)\n",
    "\n",
    "# In the first and last stress periods, concentration at the headwater is 3.7\n",
    "sf_stress_period_data = {0: [0, 0, 3.7], 1: [0, 0, 11.4], 2: [0, 0, 3.7]}\n",
    "\n",
    "gage_output = [None, None, \"CrnkNic.sftobs\"]\n",
    "\n",
    "sft = flopy.mt3d.Mt3dSft(\n",
    "    mt,\n",
    "    nsfinit=650,\n",
    "    mxsfbc=650,\n",
    "    icbcsf=81,\n",
    "    ioutobs=82,\n",
    "    isfsolv=1,\n",
    "    cclosesf=1.0e-6,\n",
    "    mxitersf=10,\n",
    "    crntsf=1.0,\n",
    "    iprtxmd=0,\n",
    "    coldsf=3.7,\n",
    "    dispsf=dispsf,\n",
    "    nobssf=5,\n",
    "    obs_sf=obs_sf,\n",
    "    sf_stress_period_data=sf_stress_period_data,\n",
    "    filenames=gage_output,\n",
    ")\n",
    "\n",
    "sft.dispsf[0].format.fortran = \"(10E15.6)\""
   ]
  },
  {
   "cell_type": "markdown",
   "metadata": {},
   "source": [
    "Write the MT3D-USGS input files and run the model."
   ]
  },
  {
   "cell_type": "code",
   "execution_count": 20,
   "metadata": {
    "execution": {
     "iopub.execute_input": "2023-02-22T02:41:46.859223Z",
     "iopub.status.busy": "2023-02-22T02:41:46.858943Z",
     "iopub.status.idle": "2023-02-22T02:41:47.512884Z",
     "shell.execute_reply": "2023-02-22T02:41:47.512075Z"
    }
   },
   "outputs": [
    {
     "data": {
      "text/plain": [
       "(False,\n",
       " ['',\n",
       "  ' MT3D-USGS - Modular 3D Multi-Species Transport Model [Ver 1.1.0]   ',\n",
       "  ' and based on MT3DMS. MT3D-USGS developed in cooperation by ',\n",
       "  ' S.S. Papadopulos & Associates and the U.S. Geological Survey',\n",
       "  '',\n",
       "  ' Using NAME File: CrnkNic.mtnam',\n",
       "  '',\n",
       "  ' STRESS PERIOD NO.    1',\n",
       "  '',\n",
       "  ' TIME STEP NO.    1',\n",
       "  ' FROM TIME =   0.0000     TO    30600.    ',\n",
       "  '',\n",
       "  ' Transport Step:    1   Step Size:   180.0     Total Elapsed Time:   180.00    ',\n",
       "  ' Outer Iter.  1  Inner Iter.  1:  Max. DC =  0.4865      [K,I,J]    1    2  289',\n",
       "  ' Outer Iter.  1  Inner Iter.  2:  Max. DC =  0.5960E-07  [K,I,J]    1    1   36',\n",
       "  ' Outer Iter.  2  Inner Iter.  1:  Max. DC =   0.000      [K,I,J]    1    1    1',\n",
       "  ' Transport Step:    2   Step Size:   180.0     Total Elapsed Time:   360.00    ',\n",
       "  ' Outer Iter.  1  Inner Iter.  1:  Max. DC =  0.9385      [K,I,J]    1    2  394',\n",
       "  ' Outer Iter.  1  Inner Iter.  2:  Max. DC =  0.1788E-06  [K,I,J]    1    2  294',\n",
       "  ' Outer Iter.  2  Inner Iter.  1:  Max. DC =  0.3934E-05  [K,I,J]    1    2  294',\n",
       "  ' Outer Iter.  2  Inner Iter.  2:  Max. DC =   0.000      [K,I,J]    1    1    1',\n",
       "  ' Outer Iter.  3  Inner Iter.  1:  Max. DC =   0.000      [K,I,J]    1    1    1',\n",
       "  ' Transport Step:    3   Step Size:   180.0     Total Elapsed Time:   540.00    ',\n",
       "  ' Outer Iter.  1  Inner Iter.  1:  Max. DC =  0.7602      [K,I,J]    1    1    1',\n",
       "  ' Outer Iter.  1  Inner Iter.  2:  Max. DC =  0.1788E-06  [K,I,J]    1    2    2',\n",
       "  ' Outer Iter.  2  Inner Iter.  1:  Max. DC =  0.8884E-06  [K,I,J]    1    1  642',\n",
       "  ' Transport Step:    4   Step Size:   180.0     Total Elapsed Time:   720.00    ',\n",
       "  ' Outer Iter.  1  Inner Iter.  1:  Max. DC =  0.3366E-03  [K,I,J]    1    2    1',\n",
       "  ' Outer Iter.  1  Inner Iter.  2:  Max. DC =  0.4657E-09  [K,I,J]    1    2    1',\n",
       "  ' Outer Iter.  2  Inner Iter.  1:  Max. DC =   0.000      [K,I,J]    1    1    1',\n",
       "  ' Transport Step:    5   Step Size:   180.0     Total Elapsed Time:   900.00    ',\n",
       "  ' Outer Iter.  1  Inner Iter.  1:  Max. DC =   0.000      [K,I,J]    1    1    1',\n",
       "  ' Outer Iter.  2  Inner Iter.  1:  Max. DC =   0.000      [K,I,J]    1    1    1',\n",
       "  ' Transport Step:    6   Step Size:   180.0     Total Elapsed Time:   1080.0    ',\n",
       "  ' Outer Iter.  1  Inner Iter.  1:  Max. DC =   0.000      [K,I,J]    1    1    1',\n",
       "  ' Outer Iter.  2  Inner Iter.  1:  Max. DC =   0.000      [K,I,J]    1    1    1',\n",
       "  ' Transport Step:    7   Step Size:   180.0     Total Elapsed Time:   1260.0    ',\n",
       "  ' Outer Iter.  1  Inner Iter.  1:  Max. DC =   0.000      [K,I,J]    1    1    1',\n",
       "  ' Outer Iter.  2  Inner Iter.  1:  Max. DC =   0.000      [K,I,J]    1    1    1',\n",
       "  ' Transport Step:    8   Step Size:   180.0     Total Elapsed Time:   1440.0    ',\n",
       "  ' Outer Iter.  1  Inner Iter.  1:  Max. DC =   0.000      [K,I,J]    1    1    1',\n",
       "  ' Outer Iter.  2  Inner Iter.  1:  Max. DC =   0.000      [K,I,J]    1    1    1',\n",
       "  ' Transport Step:    9   Step Size:   180.0     Total Elapsed Time:   1620.0    ',\n",
       "  ' Outer Iter.  1  Inner Iter.  1:  Max. DC =   0.000      [K,I,J]    1    1    1',\n",
       "  ' Outer Iter.  2  Inner Iter.  1:  Max. DC =   0.000      [K,I,J]    1    1    1',\n",
       "  ' Transport Step:   10   Step Size:   180.0     Total Elapsed Time:   1800.0    ',\n",
       "  ' Outer Iter.  1  Inner Iter.  1:  Max. DC =   0.000      [K,I,J]    1    1    1',\n",
       "  ' Outer Iter.  2  Inner Iter.  1:  Max. DC =   0.000      [K,I,J]    1    1    1',\n",
       "  ' Transport Step:   11   Step Size:   180.0     Total Elapsed Time:   1980.0    ',\n",
       "  ' Outer Iter.  1  Inner Iter.  1:  Max. DC =   0.000      [K,I,J]    1    1    1',\n",
       "  ' Outer Iter.  2  Inner Iter.  1:  Max. DC =   0.000      [K,I,J]    1    1    1',\n",
       "  ' Transport Step:   12   Step Size:   180.0     Total Elapsed Time:   2160.0    ',\n",
       "  ' Outer Iter.  1  Inner Iter.  1:  Max. DC =   0.000      [K,I,J]    1    1    1',\n",
       "  ' Outer Iter.  2  Inner Iter.  1:  Max. DC =   0.000      [K,I,J]    1    1    1',\n",
       "  ' Transport Step:   13   Step Size:   180.0     Total Elapsed Time:   2340.0    ',\n",
       "  ' Outer Iter.  1  Inner Iter.  1:  Max. DC =   0.000      [K,I,J]    1    1    1',\n",
       "  ' Outer Iter.  2  Inner Iter.  1:  Max. DC =   0.000      [K,I,J]    1    1    1',\n",
       "  ' Transport Step:   14   Step Size:   180.0     Total Elapsed Time:   2520.0    ',\n",
       "  ' Outer Iter.  1  Inner Iter.  1:  Max. DC =   0.000      [K,I,J]    1    1    1',\n",
       "  ' Outer Iter.  2  Inner Iter.  1:  Max. DC =   0.000      [K,I,J]    1    1    1',\n",
       "  ' Transport Step:   15   Step Size:   180.0     Total Elapsed Time:   2700.0    ',\n",
       "  ' Outer Iter.  1  Inner Iter.  1:  Max. DC =   0.000      [K,I,J]    1    1    1',\n",
       "  ' Outer Iter.  2  Inner Iter.  1:  Max. DC =   0.000      [K,I,J]    1    1    1',\n",
       "  ' Transport Step:   16   Step Size:   180.0     Total Elapsed Time:   2880.0    ',\n",
       "  ' Outer Iter.  1  Inner Iter.  1:  Max. DC =   0.000      [K,I,J]    1    1    1',\n",
       "  ' Outer Iter.  2  Inner Iter.  1:  Max. DC =   0.000      [K,I,J]    1    1    1',\n",
       "  ' Transport Step:   17   Step Size:   180.0     Total Elapsed Time:   3060.0    ',\n",
       "  ' Outer Iter.  1  Inner Iter.  1:  Max. DC =   0.000      [K,I,J]    1    1    1',\n",
       "  ' Outer Iter.  2  Inner Iter.  1:  Max. DC =   0.000      [K,I,J]    1    1    1',\n",
       "  ' Transport Step:   18   Step Size:   180.0     Total Elapsed Time:   3240.0    ',\n",
       "  ' Outer Iter.  1  Inner Iter.  1:  Max. DC =   0.000      [K,I,J]    1    1    1',\n",
       "  ' Outer Iter.  2  Inner Iter.  1:  Max. DC =   0.000      [K,I,J]    1    1    1',\n",
       "  ' Transport Step:   19   Step Size:   180.0     Total Elapsed Time:   3420.0    ',\n",
       "  ' Outer Iter.  1  Inner Iter.  1:  Max. DC =   0.000      [K,I,J]    1    1    1',\n",
       "  ' Outer Iter.  2  Inner Iter.  1:  Max. DC =   0.000      [K,I,J]    1    1    1',\n",
       "  ' Transport Step:   20   Step Size:   180.0     Total Elapsed Time:   3600.0    ',\n",
       "  ' Outer Iter.  1  Inner Iter.  1:  Max. DC =   0.000      [K,I,J]    1    1    1',\n",
       "  ' Outer Iter.  2  Inner Iter.  1:  Max. DC =   0.000      [K,I,J]    1    1    1',\n",
       "  ' Transport Step:   21   Step Size:   180.0     Total Elapsed Time:   3780.0    ',\n",
       "  ' Outer Iter.  1  Inner Iter.  1:  Max. DC =   0.000      [K,I,J]    1    1    1',\n",
       "  ' Outer Iter.  2  Inner Iter.  1:  Max. DC =   0.000      [K,I,J]    1    1    1',\n",
       "  ' Transport Step:   22   Step Size:   180.0     Total Elapsed Time:   3960.0    ',\n",
       "  ' Outer Iter.  1  Inner Iter.  1:  Max. DC =   0.000      [K,I,J]    1    1    1',\n",
       "  ' Outer Iter.  2  Inner Iter.  1:  Max. DC =   0.000      [K,I,J]    1    1    1',\n",
       "  ' Transport Step:   23   Step Size:   180.0     Total Elapsed Time:   4140.0    ',\n",
       "  ' Outer Iter.  1  Inner Iter.  1:  Max. DC =   0.000      [K,I,J]    1    1    1',\n",
       "  ' Outer Iter.  2  Inner Iter.  1:  Max. DC =   0.000      [K,I,J]    1    1    1',\n",
       "  ' Transport Step:   24   Step Size:   180.0     Total Elapsed Time:   4320.0    ',\n",
       "  ' Outer Iter.  1  Inner Iter.  1:  Max. DC =   0.000      [K,I,J]    1    1    1',\n",
       "  ' Outer Iter.  2  Inner Iter.  1:  Max. DC =   0.000      [K,I,J]    1    1    1',\n",
       "  ' Transport Step:   25   Step Size:   180.0     Total Elapsed Time:   4500.0    ',\n",
       "  ' Outer Iter.  1  Inner Iter.  1:  Max. DC =   0.000      [K,I,J]    1    1    1',\n",
       "  ' Outer Iter.  2  Inner Iter.  1:  Max. DC =   0.000      [K,I,J]    1    1    1',\n",
       "  ' Transport Step:   26   Step Size:   180.0     Total Elapsed Time:   4680.0    ',\n",
       "  ' Outer Iter.  1  Inner Iter.  1:  Max. DC =   0.000      [K,I,J]    1    1    1',\n",
       "  ' Outer Iter.  2  Inner Iter.  1:  Max. DC =   0.000      [K,I,J]    1    1    1',\n",
       "  ' Transport Step:   27   Step Size:   180.0     Total Elapsed Time:   4860.0    ',\n",
       "  ' Outer Iter.  1  Inner Iter.  1:  Max. DC =   0.000      [K,I,J]    1    1    1',\n",
       "  ' Outer Iter.  2  Inner Iter.  1:  Max. DC =   0.000      [K,I,J]    1    1    1',\n",
       "  ' Transport Step:   28   Step Size:   180.0     Total Elapsed Time:   5040.0    ',\n",
       "  ' Outer Iter.  1  Inner Iter.  1:  Max. DC =   0.000      [K,I,J]    1    1    1',\n",
       "  ' Outer Iter.  2  Inner Iter.  1:  Max. DC =   0.000      [K,I,J]    1    1    1',\n",
       "  ' Transport Step:   29   Step Size:   180.0     Total Elapsed Time:   5220.0    ',\n",
       "  ' Outer Iter.  1  Inner Iter.  1:  Max. DC =   0.000      [K,I,J]    1    1    1',\n",
       "  ' Outer Iter.  2  Inner Iter.  1:  Max. DC =   0.000      [K,I,J]    1    1    1',\n",
       "  ' Transport Step:   30   Step Size:   180.0     Total Elapsed Time:   5400.0    ',\n",
       "  ' Outer Iter.  1  Inner Iter.  1:  Max. DC =   0.000      [K,I,J]    1    1    1',\n",
       "  ' Outer Iter.  2  Inner Iter.  1:  Max. DC =   0.000      [K,I,J]    1    1    1',\n",
       "  ' Transport Step:   31   Step Size:   180.0     Total Elapsed Time:   5580.0    ',\n",
       "  ' Outer Iter.  1  Inner Iter.  1:  Max. DC =   0.000      [K,I,J]    1    1    1',\n",
       "  ' Outer Iter.  2  Inner Iter.  1:  Max. DC =   0.000      [K,I,J]    1    1    1',\n",
       "  ' Transport Step:   32   Step Size:   180.0     Total Elapsed Time:   5760.0    ',\n",
       "  ' Outer Iter.  1  Inner Iter.  1:  Max. DC =   0.000      [K,I,J]    1    1    1',\n",
       "  ' Outer Iter.  2  Inner Iter.  1:  Max. DC =   0.000      [K,I,J]    1    1    1',\n",
       "  ' Transport Step:   33   Step Size:   180.0     Total Elapsed Time:   5940.0    ',\n",
       "  ' Outer Iter.  1  Inner Iter.  1:  Max. DC =   0.000      [K,I,J]    1    1    1',\n",
       "  ' Outer Iter.  2  Inner Iter.  1:  Max. DC =   0.000      [K,I,J]    1    1    1',\n",
       "  ' Transport Step:   34   Step Size:   180.0     Total Elapsed Time:   6120.0    ',\n",
       "  ' Outer Iter.  1  Inner Iter.  1:  Max. DC =   0.000      [K,I,J]    1    1    1',\n",
       "  ' Outer Iter.  2  Inner Iter.  1:  Max. DC =   0.000      [K,I,J]    1    1    1',\n",
       "  ' Transport Step:   35   Step Size:   180.0     Total Elapsed Time:   6300.0    ',\n",
       "  ' Outer Iter.  1  Inner Iter.  1:  Max. DC =   0.000      [K,I,J]    1    1    1',\n",
       "  ' Outer Iter.  2  Inner Iter.  1:  Max. DC =   0.000      [K,I,J]    1    1    1',\n",
       "  ' Transport Step:   36   Step Size:   180.0     Total Elapsed Time:   6480.0    ',\n",
       "  ' Outer Iter.  1  Inner Iter.  1:  Max. DC =   0.000      [K,I,J]    1    1    1',\n",
       "  ' Outer Iter.  2  Inner Iter.  1:  Max. DC =   0.000      [K,I,J]    1    1    1',\n",
       "  ' Transport Step:   37   Step Size:   180.0     Total Elapsed Time:   6660.0    ',\n",
       "  ' Outer Iter.  1  Inner Iter.  1:  Max. DC =   0.000      [K,I,J]    1    1    1',\n",
       "  ' Outer Iter.  2  Inner Iter.  1:  Max. DC =   0.000      [K,I,J]    1    1    1',\n",
       "  ' Transport Step:   38   Step Size:   180.0     Total Elapsed Time:   6840.0    ',\n",
       "  ' Outer Iter.  1  Inner Iter.  1:  Max. DC =   0.000      [K,I,J]    1    1    1',\n",
       "  ' Outer Iter.  2  Inner Iter.  1:  Max. DC =   0.000      [K,I,J]    1    1    1',\n",
       "  ' Transport Step:   39   Step Size:   180.0     Total Elapsed Time:   7020.0    ',\n",
       "  ' Outer Iter.  1  Inner Iter.  1:  Max. DC =   0.000      [K,I,J]    1    1    1',\n",
       "  ' Outer Iter.  2  Inner Iter.  1:  Max. DC =   0.000      [K,I,J]    1    1    1',\n",
       "  ' Transport Step:   40   Step Size:   180.0     Total Elapsed Time:   7200.0    ',\n",
       "  ' Outer Iter.  1  Inner Iter.  1:  Max. DC =   0.000      [K,I,J]    1    1    1',\n",
       "  ' Outer Iter.  2  Inner Iter.  1:  Max. DC =   0.000      [K,I,J]    1    1    1',\n",
       "  ' Transport Step:   41   Step Size:   180.0     Total Elapsed Time:   7380.0    ',\n",
       "  ' Outer Iter.  1  Inner Iter.  1:  Max. DC =   0.000      [K,I,J]    1    1    1',\n",
       "  ' Outer Iter.  2  Inner Iter.  1:  Max. DC =   0.000      [K,I,J]    1    1    1',\n",
       "  ' Transport Step:   42   Step Size:   180.0     Total Elapsed Time:   7560.0    ',\n",
       "  ' Outer Iter.  1  Inner Iter.  1:  Max. DC =   0.000      [K,I,J]    1    1    1',\n",
       "  ' Outer Iter.  2  Inner Iter.  1:  Max. DC =   0.000      [K,I,J]    1    1    1',\n",
       "  ' Transport Step:   43   Step Size:   180.0     Total Elapsed Time:   7740.0    ',\n",
       "  ' Outer Iter.  1  Inner Iter.  1:  Max. DC =   0.000      [K,I,J]    1    1    1',\n",
       "  ' Outer Iter.  2  Inner Iter.  1:  Max. DC =   0.000      [K,I,J]    1    1    1',\n",
       "  ' Transport Step:   44   Step Size:   180.0     Total Elapsed Time:   7920.0    ',\n",
       "  ' Outer Iter.  1  Inner Iter.  1:  Max. DC =   0.000      [K,I,J]    1    1    1',\n",
       "  ' Outer Iter.  2  Inner Iter.  1:  Max. DC =   0.000      [K,I,J]    1    1    1',\n",
       "  ' Transport Step:   45   Step Size:   180.0     Total Elapsed Time:   8100.0    ',\n",
       "  ' Outer Iter.  1  Inner Iter.  1:  Max. DC =   0.000      [K,I,J]    1    1    1',\n",
       "  ' Outer Iter.  2  Inner Iter.  1:  Max. DC =   0.000      [K,I,J]    1    1    1',\n",
       "  ' Transport Step:   46   Step Size:   180.0     Total Elapsed Time:   8280.0    ',\n",
       "  ' Outer Iter.  1  Inner Iter.  1:  Max. DC =   0.000      [K,I,J]    1    1    1',\n",
       "  ' Outer Iter.  2  Inner Iter.  1:  Max. DC =   0.000      [K,I,J]    1    1    1',\n",
       "  ' Transport Step:   47   Step Size:   180.0     Total Elapsed Time:   8460.0    ',\n",
       "  ' Outer Iter.  1  Inner Iter.  1:  Max. DC =   0.000      [K,I,J]    1    1    1',\n",
       "  ' Outer Iter.  2  Inner Iter.  1:  Max. DC =   0.000      [K,I,J]    1    1    1',\n",
       "  ' Transport Step:   48   Step Size:   180.0     Total Elapsed Time:   8640.0    ',\n",
       "  ' Outer Iter.  1  Inner Iter.  1:  Max. DC =   0.000      [K,I,J]    1    1    1',\n",
       "  ' Outer Iter.  2  Inner Iter.  1:  Max. DC =   0.000      [K,I,J]    1    1    1',\n",
       "  ' Transport Step:   49   Step Size:   180.0     Total Elapsed Time:   8820.0    ',\n",
       "  ' Outer Iter.  1  Inner Iter.  1:  Max. DC =   0.000      [K,I,J]    1    1    1',\n",
       "  ' Outer Iter.  2  Inner Iter.  1:  Max. DC =   0.000      [K,I,J]    1    1    1',\n",
       "  ' Transport Step:   50   Step Size:   180.0     Total Elapsed Time:   9000.0    ',\n",
       "  ' Outer Iter.  1  Inner Iter.  1:  Max. DC =   0.000      [K,I,J]    1    1    1',\n",
       "  ' Outer Iter.  2  Inner Iter.  1:  Max. DC =   0.000      [K,I,J]    1    1    1',\n",
       "  ' Transport Step:   51   Step Size:   180.0     Total Elapsed Time:   9180.0    ',\n",
       "  ' Outer Iter.  1  Inner Iter.  1:  Max. DC =   0.000      [K,I,J]    1    1    1',\n",
       "  ' Outer Iter.  2  Inner Iter.  1:  Max. DC =   0.000      [K,I,J]    1    1    1',\n",
       "  ' Transport Step:   52   Step Size:   180.0     Total Elapsed Time:   9360.0    ',\n",
       "  ' Outer Iter.  1  Inner Iter.  1:  Max. DC =   0.000      [K,I,J]    1    1    1',\n",
       "  ' Outer Iter.  2  Inner Iter.  1:  Max. DC =   0.000      [K,I,J]    1    1    1',\n",
       "  ' Transport Step:   53   Step Size:   180.0     Total Elapsed Time:   9540.0    ',\n",
       "  ' Outer Iter.  1  Inner Iter.  1:  Max. DC =   0.000      [K,I,J]    1    1    1',\n",
       "  ' Outer Iter.  2  Inner Iter.  1:  Max. DC =   0.000      [K,I,J]    1    1    1',\n",
       "  ' Transport Step:   54   Step Size:   180.0     Total Elapsed Time:   9720.0    ',\n",
       "  ' Outer Iter.  1  Inner Iter.  1:  Max. DC =   0.000      [K,I,J]    1    1    1',\n",
       "  ' Outer Iter.  2  Inner Iter.  1:  Max. DC =   0.000      [K,I,J]    1    1    1',\n",
       "  ' Transport Step:   55   Step Size:   180.0     Total Elapsed Time:   9900.0    ',\n",
       "  ' Outer Iter.  1  Inner Iter.  1:  Max. DC =   0.000      [K,I,J]    1    1    1',\n",
       "  ' Outer Iter.  2  Inner Iter.  1:  Max. DC =   0.000      [K,I,J]    1    1    1',\n",
       "  ' Transport Step:   56   Step Size:   180.0     Total Elapsed Time:   10080.    ',\n",
       "  ' Outer Iter.  1  Inner Iter.  1:  Max. DC =   0.000      [K,I,J]    1    1    1',\n",
       "  ' Outer Iter.  2  Inner Iter.  1:  Max. DC =   0.000      [K,I,J]    1    1    1',\n",
       "  ' Transport Step:   57   Step Size:   180.0     Total Elapsed Time:   10260.    ',\n",
       "  ' Outer Iter.  1  Inner Iter.  1:  Max. DC =   0.000      [K,I,J]    1    1    1',\n",
       "  ' Outer Iter.  2  Inner Iter.  1:  Max. DC =   0.000      [K,I,J]    1    1    1',\n",
       "  ' Transport Step:   58   Step Size:   180.0     Total Elapsed Time:   10440.    ',\n",
       "  ' Outer Iter.  1  Inner Iter.  1:  Max. DC =   0.000      [K,I,J]    1    1    1',\n",
       "  ' Outer Iter.  2  Inner Iter.  1:  Max. DC =   0.000      [K,I,J]    1    1    1',\n",
       "  ' Transport Step:   59   Step Size:   180.0     Total Elapsed Time:   10620.    ',\n",
       "  ' Outer Iter.  1  Inner Iter.  1:  Max. DC =   0.000      [K,I,J]    1    1    1',\n",
       "  ' Outer Iter.  2  Inner Iter.  1:  Max. DC =   0.000      [K,I,J]    1    1    1',\n",
       "  ' Transport Step:   60   Step Size:   180.0     Total Elapsed Time:   10800.    ',\n",
       "  ' Outer Iter.  1  Inner Iter.  1:  Max. DC =   0.000      [K,I,J]    1    1    1',\n",
       "  ' Outer Iter.  2  Inner Iter.  1:  Max. DC =   0.000      [K,I,J]    1    1    1',\n",
       "  ' Transport Step:   61   Step Size:   180.0     Total Elapsed Time:   10980.    ',\n",
       "  ' Outer Iter.  1  Inner Iter.  1:  Max. DC =   0.000      [K,I,J]    1    1    1',\n",
       "  ' Outer Iter.  2  Inner Iter.  1:  Max. DC =   0.000      [K,I,J]    1    1    1',\n",
       "  ' Transport Step:   62   Step Size:   180.0     Total Elapsed Time:   11160.    ',\n",
       "  ' Outer Iter.  1  Inner Iter.  1:  Max. DC =   0.000      [K,I,J]    1    1    1',\n",
       "  ' Outer Iter.  2  Inner Iter.  1:  Max. DC =   0.000      [K,I,J]    1    1    1',\n",
       "  ' Transport Step:   63   Step Size:   180.0     Total Elapsed Time:   11340.    ',\n",
       "  ' Outer Iter.  1  Inner Iter.  1:  Max. DC =   0.000      [K,I,J]    1    1    1',\n",
       "  ' Outer Iter.  2  Inner Iter.  1:  Max. DC =   0.000      [K,I,J]    1    1    1',\n",
       "  ' Transport Step:   64   Step Size:   180.0     Total Elapsed Time:   11520.    ',\n",
       "  ' Outer Iter.  1  Inner Iter.  1:  Max. DC =   0.000      [K,I,J]    1    1    1',\n",
       "  ' Outer Iter.  2  Inner Iter.  1:  Max. DC =   0.000      [K,I,J]    1    1    1',\n",
       "  ' Transport Step:   65   Step Size:   180.0     Total Elapsed Time:   11700.    ',\n",
       "  ' Outer Iter.  1  Inner Iter.  1:  Max. DC =   0.000      [K,I,J]    1    1    1',\n",
       "  ' Outer Iter.  2  Inner Iter.  1:  Max. DC =   0.000      [K,I,J]    1    1    1',\n",
       "  ' Transport Step:   66   Step Size:   180.0     Total Elapsed Time:   11880.    ',\n",
       "  ' Outer Iter.  1  Inner Iter.  1:  Max. DC =   0.000      [K,I,J]    1    1    1',\n",
       "  ' Outer Iter.  2  Inner Iter.  1:  Max. DC =   0.000      [K,I,J]    1    1    1',\n",
       "  ' Transport Step:   67   Step Size:   180.0     Total Elapsed Time:   12060.    ',\n",
       "  ' Outer Iter.  1  Inner Iter.  1:  Max. DC =   0.000      [K,I,J]    1    1    1',\n",
       "  ' Outer Iter.  2  Inner Iter.  1:  Max. DC =   0.000      [K,I,J]    1    1    1',\n",
       "  ' Transport Step:   68   Step Size:   180.0     Total Elapsed Time:   12240.    ',\n",
       "  ' Outer Iter.  1  Inner Iter.  1:  Max. DC =   0.000      [K,I,J]    1    1    1',\n",
       "  ' Outer Iter.  2  Inner Iter.  1:  Max. DC =   0.000      [K,I,J]    1    1    1',\n",
       "  ' Transport Step:   69   Step Size:   180.0     Total Elapsed Time:   12420.    ',\n",
       "  ' Outer Iter.  1  Inner Iter.  1:  Max. DC =   0.000      [K,I,J]    1    1    1',\n",
       "  ' Outer Iter.  2  Inner Iter.  1:  Max. DC =   0.000      [K,I,J]    1    1    1',\n",
       "  ' Transport Step:   70   Step Size:   180.0     Total Elapsed Time:   12600.    ',\n",
       "  ' Outer Iter.  1  Inner Iter.  1:  Max. DC =   0.000      [K,I,J]    1    1    1',\n",
       "  ' Outer Iter.  2  Inner Iter.  1:  Max. DC =   0.000      [K,I,J]    1    1    1',\n",
       "  ' Transport Step:   71   Step Size:   180.0     Total Elapsed Time:   12780.    ',\n",
       "  ' Outer Iter.  1  Inner Iter.  1:  Max. DC =   0.000      [K,I,J]    1    1    1',\n",
       "  ' Outer Iter.  2  Inner Iter.  1:  Max. DC =   0.000      [K,I,J]    1    1    1',\n",
       "  ' Transport Step:   72   Step Size:   180.0     Total Elapsed Time:   12960.    ',\n",
       "  ' Outer Iter.  1  Inner Iter.  1:  Max. DC =   0.000      [K,I,J]    1    1    1',\n",
       "  ' Outer Iter.  2  Inner Iter.  1:  Max. DC =   0.000      [K,I,J]    1    1    1',\n",
       "  ' Transport Step:   73   Step Size:   180.0     Total Elapsed Time:   13140.    ',\n",
       "  ' Outer Iter.  1  Inner Iter.  1:  Max. DC =   0.000      [K,I,J]    1    1    1',\n",
       "  ' Outer Iter.  2  Inner Iter.  1:  Max. DC =   0.000      [K,I,J]    1    1    1',\n",
       "  ' Transport Step:   74   Step Size:   180.0     Total Elapsed Time:   13320.    ',\n",
       "  ' Outer Iter.  1  Inner Iter.  1:  Max. DC =   0.000      [K,I,J]    1    1    1',\n",
       "  ' Outer Iter.  2  Inner Iter.  1:  Max. DC =   0.000      [K,I,J]    1    1    1',\n",
       "  ' Transport Step:   75   Step Size:   180.0     Total Elapsed Time:   13500.    ',\n",
       "  ' Outer Iter.  1  Inner Iter.  1:  Max. DC =   0.000      [K,I,J]    1    1    1',\n",
       "  ' Outer Iter.  2  Inner Iter.  1:  Max. DC =   0.000      [K,I,J]    1    1    1',\n",
       "  ' Transport Step:   76   Step Size:   180.0     Total Elapsed Time:   13680.    ',\n",
       "  ' Outer Iter.  1  Inner Iter.  1:  Max. DC =   0.000      [K,I,J]    1    1    1',\n",
       "  ' Outer Iter.  2  Inner Iter.  1:  Max. DC =   0.000      [K,I,J]    1    1    1',\n",
       "  ' Transport Step:   77   Step Size:   180.0     Total Elapsed Time:   13860.    ',\n",
       "  ' Outer Iter.  1  Inner Iter.  1:  Max. DC =   0.000      [K,I,J]    1    1    1',\n",
       "  ' Outer Iter.  2  Inner Iter.  1:  Max. DC =   0.000      [K,I,J]    1    1    1',\n",
       "  ' Transport Step:   78   Step Size:   180.0     Total Elapsed Time:   14040.    ',\n",
       "  ' Outer Iter.  1  Inner Iter.  1:  Max. DC =   0.000      [K,I,J]    1    1    1',\n",
       "  ' Outer Iter.  2  Inner Iter.  1:  Max. DC =   0.000      [K,I,J]    1    1    1',\n",
       "  ' Transport Step:   79   Step Size:   180.0     Total Elapsed Time:   14220.    ',\n",
       "  ' Outer Iter.  1  Inner Iter.  1:  Max. DC =   0.000      [K,I,J]    1    1    1',\n",
       "  ' Outer Iter.  2  Inner Iter.  1:  Max. DC =   0.000      [K,I,J]    1    1    1',\n",
       "  ' Transport Step:   80   Step Size:   180.0     Total Elapsed Time:   14400.    ',\n",
       "  ' Outer Iter.  1  Inner Iter.  1:  Max. DC =   0.000      [K,I,J]    1    1    1',\n",
       "  ' Outer Iter.  2  Inner Iter.  1:  Max. DC =   0.000      [K,I,J]    1    1    1',\n",
       "  ' Transport Step:   81   Step Size:   180.0     Total Elapsed Time:   14580.    ',\n",
       "  ' Outer Iter.  1  Inner Iter.  1:  Max. DC =   0.000      [K,I,J]    1    1    1',\n",
       "  ' Outer Iter.  2  Inner Iter.  1:  Max. DC =   0.000      [K,I,J]    1    1    1',\n",
       "  ' Transport Step:   82   Step Size:   180.0     Total Elapsed Time:   14760.    ',\n",
       "  ' Outer Iter.  1  Inner Iter.  1:  Max. DC =   0.000      [K,I,J]    1    1    1',\n",
       "  ' Outer Iter.  2  Inner Iter.  1:  Max. DC =   0.000      [K,I,J]    1    1    1',\n",
       "  ' Transport Step:   83   Step Size:   180.0     Total Elapsed Time:   14940.    ',\n",
       "  ' Outer Iter.  1  Inner Iter.  1:  Max. DC =   0.000      [K,I,J]    1    1    1',\n",
       "  ' Outer Iter.  2  Inner Iter.  1:  Max. DC =   0.000      [K,I,J]    1    1    1',\n",
       "  ' Transport Step:   84   Step Size:   180.0     Total Elapsed Time:   15120.    ',\n",
       "  ' Outer Iter.  1  Inner Iter.  1:  Max. DC =   0.000      [K,I,J]    1    1    1',\n",
       "  ' Outer Iter.  2  Inner Iter.  1:  Max. DC =   0.000      [K,I,J]    1    1    1',\n",
       "  ' Transport Step:   85   Step Size:   180.0     Total Elapsed Time:   15300.    ',\n",
       "  ' Outer Iter.  1  Inner Iter.  1:  Max. DC =   0.000      [K,I,J]    1    1    1',\n",
       "  ' Outer Iter.  2  Inner Iter.  1:  Max. DC =   0.000      [K,I,J]    1    1    1',\n",
       "  ' Transport Step:   86   Step Size:   180.0     Total Elapsed Time:   15480.    ',\n",
       "  ' Outer Iter.  1  Inner Iter.  1:  Max. DC =   0.000      [K,I,J]    1    1    1',\n",
       "  ' Outer Iter.  2  Inner Iter.  1:  Max. DC =   0.000      [K,I,J]    1    1    1',\n",
       "  ' Transport Step:   87   Step Size:   180.0     Total Elapsed Time:   15660.    ',\n",
       "  ' Outer Iter.  1  Inner Iter.  1:  Max. DC =   0.000      [K,I,J]    1    1    1',\n",
       "  ' Outer Iter.  2  Inner Iter.  1:  Max. DC =   0.000      [K,I,J]    1    1    1',\n",
       "  ' Transport Step:   88   Step Size:   180.0     Total Elapsed Time:   15840.    ',\n",
       "  ' Outer Iter.  1  Inner Iter.  1:  Max. DC =   0.000      [K,I,J]    1    1    1',\n",
       "  ' Outer Iter.  2  Inner Iter.  1:  Max. DC =   0.000      [K,I,J]    1    1    1',\n",
       "  ' Transport Step:   89   Step Size:   180.0     Total Elapsed Time:   16020.    ',\n",
       "  ' Outer Iter.  1  Inner Iter.  1:  Max. DC =   0.000      [K,I,J]    1    1    1',\n",
       "  ' Outer Iter.  2  Inner Iter.  1:  Max. DC =   0.000      [K,I,J]    1    1    1',\n",
       "  ' Transport Step:   90   Step Size:   180.0     Total Elapsed Time:   16200.    ',\n",
       "  ' Outer Iter.  1  Inner Iter.  1:  Max. DC =   0.000      [K,I,J]    1    1    1',\n",
       "  ' Outer Iter.  2  Inner Iter.  1:  Max. DC =   0.000      [K,I,J]    1    1    1',\n",
       "  ' Transport Step:   91   Step Size:   180.0     Total Elapsed Time:   16380.    ',\n",
       "  ' Outer Iter.  1  Inner Iter.  1:  Max. DC =   0.000      [K,I,J]    1    1    1',\n",
       "  ' Outer Iter.  2  Inner Iter.  1:  Max. DC =   0.000      [K,I,J]    1    1    1',\n",
       "  ' Transport Step:   92   Step Size:   180.0     Total Elapsed Time:   16560.    ',\n",
       "  ' Outer Iter.  1  Inner Iter.  1:  Max. DC =   0.000      [K,I,J]    1    1    1',\n",
       "  ' Outer Iter.  2  Inner Iter.  1:  Max. DC =   0.000      [K,I,J]    1    1    1',\n",
       "  ' Transport Step:   93   Step Size:   180.0     Total Elapsed Time:   16740.    ',\n",
       "  ' Outer Iter.  1  Inner Iter.  1:  Max. DC =   0.000      [K,I,J]    1    1    1',\n",
       "  ' Outer Iter.  2  Inner Iter.  1:  Max. DC =   0.000      [K,I,J]    1    1    1',\n",
       "  ' Transport Step:   94   Step Size:   180.0     Total Elapsed Time:   16920.    ',\n",
       "  ' Outer Iter.  1  Inner Iter.  1:  Max. DC =   0.000      [K,I,J]    1    1    1',\n",
       "  ' Outer Iter.  2  Inner Iter.  1:  Max. DC =   0.000      [K,I,J]    1    1    1',\n",
       "  ' Transport Step:   95   Step Size:   180.0     Total Elapsed Time:   17100.    ',\n",
       "  ' Outer Iter.  1  Inner Iter.  1:  Max. DC =   0.000      [K,I,J]    1    1    1',\n",
       "  ' Outer Iter.  2  Inner Iter.  1:  Max. DC =   0.000      [K,I,J]    1    1    1',\n",
       "  ' Transport Step:   96   Step Size:   180.0     Total Elapsed Time:   17280.    ',\n",
       "  ' Outer Iter.  1  Inner Iter.  1:  Max. DC =   0.000      [K,I,J]    1    1    1',\n",
       "  ' Outer Iter.  2  Inner Iter.  1:  Max. DC =   0.000      [K,I,J]    1    1    1',\n",
       "  ' Transport Step:   97   Step Size:   180.0     Total Elapsed Time:   17460.    ',\n",
       "  ' Outer Iter.  1  Inner Iter.  1:  Max. DC =   0.000      [K,I,J]    1    1    1',\n",
       "  ' Outer Iter.  2  Inner Iter.  1:  Max. DC =   0.000      [K,I,J]    1    1    1',\n",
       "  ' Transport Step:   98   Step Size:   180.0     Total Elapsed Time:   17640.    ',\n",
       "  ' Outer Iter.  1  Inner Iter.  1:  Max. DC =   0.000      [K,I,J]    1    1    1',\n",
       "  ' Outer Iter.  2  Inner Iter.  1:  Max. DC =   0.000      [K,I,J]    1    1    1',\n",
       "  ' Transport Step:   99   Step Size:   180.0     Total Elapsed Time:   17820.    ',\n",
       "  ' Outer Iter.  1  Inner Iter.  1:  Max. DC =   0.000      [K,I,J]    1    1    1',\n",
       "  ' Outer Iter.  2  Inner Iter.  1:  Max. DC =   0.000      [K,I,J]    1    1    1',\n",
       "  ' Transport Step:  100   Step Size:   180.0     Total Elapsed Time:   18000.    ',\n",
       "  ' Outer Iter.  1  Inner Iter.  1:  Max. DC =   0.000      [K,I,J]    1    1    1',\n",
       "  ' Outer Iter.  2  Inner Iter.  1:  Max. DC =   0.000      [K,I,J]    1    1    1',\n",
       "  ' Transport Step:  101   Step Size:   180.0     Total Elapsed Time:   18180.    ',\n",
       "  ' Outer Iter.  1  Inner Iter.  1:  Max. DC =   0.000      [K,I,J]    1    1    1',\n",
       "  ' Outer Iter.  2  Inner Iter.  1:  Max. DC =   0.000      [K,I,J]    1    1    1',\n",
       "  ' Transport Step:  102   Step Size:   180.0     Total Elapsed Time:   18360.    ',\n",
       "  ' Outer Iter.  1  Inner Iter.  1:  Max. DC =   0.000      [K,I,J]    1    1    1',\n",
       "  ' Outer Iter.  2  Inner Iter.  1:  Max. DC =   0.000      [K,I,J]    1    1    1',\n",
       "  ' Transport Step:  103   Step Size:   180.0     Total Elapsed Time:   18540.    ',\n",
       "  ' Outer Iter.  1  Inner Iter.  1:  Max. DC =   0.000      [K,I,J]    1    1    1',\n",
       "  ' Outer Iter.  2  Inner Iter.  1:  Max. DC =   0.000      [K,I,J]    1    1    1',\n",
       "  ' Transport Step:  104   Step Size:   180.0     Total Elapsed Time:   18720.    ',\n",
       "  ' Outer Iter.  1  Inner Iter.  1:  Max. DC =   0.000      [K,I,J]    1    1    1',\n",
       "  ' Outer Iter.  2  Inner Iter.  1:  Max. DC =   0.000      [K,I,J]    1    1    1',\n",
       "  ' Transport Step:  105   Step Size:   180.0     Total Elapsed Time:   18900.    ',\n",
       "  ' Outer Iter.  1  Inner Iter.  1:  Max. DC =   0.000      [K,I,J]    1    1    1',\n",
       "  ' Outer Iter.  2  Inner Iter.  1:  Max. DC =   0.000      [K,I,J]    1    1    1',\n",
       "  ' Transport Step:  106   Step Size:   180.0     Total Elapsed Time:   19080.    ',\n",
       "  ' Outer Iter.  1  Inner Iter.  1:  Max. DC =   0.000      [K,I,J]    1    1    1',\n",
       "  ' Outer Iter.  2  Inner Iter.  1:  Max. DC =   0.000      [K,I,J]    1    1    1',\n",
       "  ' Transport Step:  107   Step Size:   180.0     Total Elapsed Time:   19260.    ',\n",
       "  ' Outer Iter.  1  Inner Iter.  1:  Max. DC =   0.000      [K,I,J]    1    1    1',\n",
       "  ' Outer Iter.  2  Inner Iter.  1:  Max. DC =   0.000      [K,I,J]    1    1    1',\n",
       "  ' Transport Step:  108   Step Size:   180.0     Total Elapsed Time:   19440.    ',\n",
       "  ' Outer Iter.  1  Inner Iter.  1:  Max. DC =   0.000      [K,I,J]    1    1    1',\n",
       "  ' Outer Iter.  2  Inner Iter.  1:  Max. DC =   0.000      [K,I,J]    1    1    1',\n",
       "  ' Transport Step:  109   Step Size:   180.0     Total Elapsed Time:   19620.    ',\n",
       "  ' Outer Iter.  1  Inner Iter.  1:  Max. DC =   0.000      [K,I,J]    1    1    1',\n",
       "  ' Outer Iter.  2  Inner Iter.  1:  Max. DC =   0.000      [K,I,J]    1    1    1',\n",
       "  ' Transport Step:  110   Step Size:   180.0     Total Elapsed Time:   19800.    ',\n",
       "  ' Outer Iter.  1  Inner Iter.  1:  Max. DC =   0.000      [K,I,J]    1    1    1',\n",
       "  ' Outer Iter.  2  Inner Iter.  1:  Max. DC =   0.000      [K,I,J]    1    1    1',\n",
       "  ' Transport Step:  111   Step Size:   180.0     Total Elapsed Time:   19980.    ',\n",
       "  ' Outer Iter.  1  Inner Iter.  1:  Max. DC =   0.000      [K,I,J]    1    1    1',\n",
       "  ' Outer Iter.  2  Inner Iter.  1:  Max. DC =   0.000      [K,I,J]    1    1    1',\n",
       "  ' Transport Step:  112   Step Size:   180.0     Total Elapsed Time:   20160.    ',\n",
       "  ' Outer Iter.  1  Inner Iter.  1:  Max. DC =   0.000      [K,I,J]    1    1    1',\n",
       "  ' Outer Iter.  2  Inner Iter.  1:  Max. DC =   0.000      [K,I,J]    1    1    1',\n",
       "  ' Transport Step:  113   Step Size:   180.0     Total Elapsed Time:   20340.    ',\n",
       "  ' Outer Iter.  1  Inner Iter.  1:  Max. DC =   0.000      [K,I,J]    1    1    1',\n",
       "  ' Outer Iter.  2  Inner Iter.  1:  Max. DC =   0.000      [K,I,J]    1    1    1',\n",
       "  ' Transport Step:  114   Step Size:   180.0     Total Elapsed Time:   20520.    ',\n",
       "  ' Outer Iter.  1  Inner Iter.  1:  Max. DC =   0.000      [K,I,J]    1    1    1',\n",
       "  ' Outer Iter.  2  Inner Iter.  1:  Max. DC =   0.000      [K,I,J]    1    1    1',\n",
       "  ' Transport Step:  115   Step Size:   180.0     Total Elapsed Time:   20700.    ',\n",
       "  ' Outer Iter.  1  Inner Iter.  1:  Max. DC =   0.000      [K,I,J]    1    1    1',\n",
       "  ' Outer Iter.  2  Inner Iter.  1:  Max. DC =   0.000      [K,I,J]    1    1    1',\n",
       "  ' Transport Step:  116   Step Size:   180.0     Total Elapsed Time:   20880.    ',\n",
       "  ' Outer Iter.  1  Inner Iter.  1:  Max. DC =   0.000      [K,I,J]    1    1    1',\n",
       "  ' Outer Iter.  2  Inner Iter.  1:  Max. DC =   0.000      [K,I,J]    1    1    1',\n",
       "  ' Transport Step:  117   Step Size:   180.0     Total Elapsed Time:   21060.    ',\n",
       "  ' Outer Iter.  1  Inner Iter.  1:  Max. DC =   0.000      [K,I,J]    1    1    1',\n",
       "  ' Outer Iter.  2  Inner Iter.  1:  Max. DC =   0.000      [K,I,J]    1    1    1',\n",
       "  ' Transport Step:  118   Step Size:   180.0     Total Elapsed Time:   21240.    ',\n",
       "  ' Outer Iter.  1  Inner Iter.  1:  Max. DC =   0.000      [K,I,J]    1    1    1',\n",
       "  ' Outer Iter.  2  Inner Iter.  1:  Max. DC =   0.000      [K,I,J]    1    1    1',\n",
       "  ' Transport Step:  119   Step Size:   180.0     Total Elapsed Time:   21420.    ',\n",
       "  ' Outer Iter.  1  Inner Iter.  1:  Max. DC =   0.000      [K,I,J]    1    1    1',\n",
       "  ' Outer Iter.  2  Inner Iter.  1:  Max. DC =   0.000      [K,I,J]    1    1    1',\n",
       "  ' Transport Step:  120   Step Size:   180.0     Total Elapsed Time:   21600.    ',\n",
       "  ' Outer Iter.  1  Inner Iter.  1:  Max. DC =   0.000      [K,I,J]    1    1    1',\n",
       "  ' Outer Iter.  2  Inner Iter.  1:  Max. DC =   0.000      [K,I,J]    1    1    1',\n",
       "  ' Transport Step:  121   Step Size:   180.0     Total Elapsed Time:   21780.    ',\n",
       "  ' Outer Iter.  1  Inner Iter.  1:  Max. DC =   0.000      [K,I,J]    1    1    1',\n",
       "  ' Outer Iter.  2  Inner Iter.  1:  Max. DC =   0.000      [K,I,J]    1    1    1',\n",
       "  ' Transport Step:  122   Step Size:   180.0     Total Elapsed Time:   21960.    ',\n",
       "  ' Outer Iter.  1  Inner Iter.  1:  Max. DC =   0.000      [K,I,J]    1    1    1',\n",
       "  ' Outer Iter.  2  Inner Iter.  1:  Max. DC =   0.000      [K,I,J]    1    1    1',\n",
       "  ' Transport Step:  123   Step Size:   180.0     Total Elapsed Time:   22140.    ',\n",
       "  ' Outer Iter.  1  Inner Iter.  1:  Max. DC =   0.000      [K,I,J]    1    1    1',\n",
       "  ' Outer Iter.  2  Inner Iter.  1:  Max. DC =   0.000      [K,I,J]    1    1    1',\n",
       "  ' Transport Step:  124   Step Size:   180.0     Total Elapsed Time:   22320.    ',\n",
       "  ' Outer Iter.  1  Inner Iter.  1:  Max. DC =   0.000      [K,I,J]    1    1    1',\n",
       "  ' Outer Iter.  2  Inner Iter.  1:  Max. DC =   0.000      [K,I,J]    1    1    1',\n",
       "  ' Transport Step:  125   Step Size:   180.0     Total Elapsed Time:   22500.    ',\n",
       "  ' Outer Iter.  1  Inner Iter.  1:  Max. DC =   0.000      [K,I,J]    1    1    1',\n",
       "  ' Outer Iter.  2  Inner Iter.  1:  Max. DC =   0.000      [K,I,J]    1    1    1',\n",
       "  ' Transport Step:  126   Step Size:   180.0     Total Elapsed Time:   22680.    ',\n",
       "  ' Outer Iter.  1  Inner Iter.  1:  Max. DC =   0.000      [K,I,J]    1    1    1',\n",
       "  ' Outer Iter.  2  Inner Iter.  1:  Max. DC =   0.000      [K,I,J]    1    1    1',\n",
       "  ' Transport Step:  127   Step Size:   180.0     Total Elapsed Time:   22860.    ',\n",
       "  ' Outer Iter.  1  Inner Iter.  1:  Max. DC =   0.000      [K,I,J]    1    1    1',\n",
       "  ' Outer Iter.  2  Inner Iter.  1:  Max. DC =   0.000      [K,I,J]    1    1    1',\n",
       "  ' Transport Step:  128   Step Size:   180.0     Total Elapsed Time:   23040.    ',\n",
       "  ' Outer Iter.  1  Inner Iter.  1:  Max. DC =   0.000      [K,I,J]    1    1    1',\n",
       "  ' Outer Iter.  2  Inner Iter.  1:  Max. DC =   0.000      [K,I,J]    1    1    1',\n",
       "  ' Transport Step:  129   Step Size:   180.0     Total Elapsed Time:   23220.    ',\n",
       "  ' Outer Iter.  1  Inner Iter.  1:  Max. DC =   0.000      [K,I,J]    1    1    1',\n",
       "  ' Outer Iter.  2  Inner Iter.  1:  Max. DC =   0.000      [K,I,J]    1    1    1',\n",
       "  ' Transport Step:  130   Step Size:   180.0     Total Elapsed Time:   23400.    ',\n",
       "  ' Outer Iter.  1  Inner Iter.  1:  Max. DC =   0.000      [K,I,J]    1    1    1',\n",
       "  ' Outer Iter.  2  Inner Iter.  1:  Max. DC =   0.000      [K,I,J]    1    1    1',\n",
       "  ' Transport Step:  131   Step Size:   180.0     Total Elapsed Time:   23580.    ',\n",
       "  ' Outer Iter.  1  Inner Iter.  1:  Max. DC =   0.000      [K,I,J]    1    1    1',\n",
       "  ' Outer Iter.  2  Inner Iter.  1:  Max. DC =   0.000      [K,I,J]    1    1    1',\n",
       "  ' Transport Step:  132   Step Size:   180.0     Total Elapsed Time:   23760.    ',\n",
       "  ' Outer Iter.  1  Inner Iter.  1:  Max. DC =   0.000      [K,I,J]    1    1    1',\n",
       "  ' Outer Iter.  2  Inner Iter.  1:  Max. DC =   0.000      [K,I,J]    1    1    1',\n",
       "  ' Transport Step:  133   Step Size:   180.0     Total Elapsed Time:   23940.    ',\n",
       "  ' Outer Iter.  1  Inner Iter.  1:  Max. DC =   0.000      [K,I,J]    1    1    1',\n",
       "  ' Outer Iter.  2  Inner Iter.  1:  Max. DC =   0.000      [K,I,J]    1    1    1',\n",
       "  ' Transport Step:  134   Step Size:   180.0     Total Elapsed Time:   24120.    ',\n",
       "  ' Outer Iter.  1  Inner Iter.  1:  Max. DC =   0.000      [K,I,J]    1    1    1',\n",
       "  ' Outer Iter.  2  Inner Iter.  1:  Max. DC =   0.000      [K,I,J]    1    1    1',\n",
       "  ' Transport Step:  135   Step Size:   180.0     Total Elapsed Time:   24300.    ',\n",
       "  ' Outer Iter.  1  Inner Iter.  1:  Max. DC =   0.000      [K,I,J]    1    1    1',\n",
       "  ' Outer Iter.  2  Inner Iter.  1:  Max. DC =   0.000      [K,I,J]    1    1    1',\n",
       "  ' Transport Step:  136   Step Size:   180.0     Total Elapsed Time:   24480.    ',\n",
       "  ' Outer Iter.  1  Inner Iter.  1:  Max. DC =   0.000      [K,I,J]    1    1    1',\n",
       "  ' Outer Iter.  2  Inner Iter.  1:  Max. DC =   0.000      [K,I,J]    1    1    1',\n",
       "  ' Transport Step:  137   Step Size:   180.0     Total Elapsed Time:   24660.    ',\n",
       "  ' Outer Iter.  1  Inner Iter.  1:  Max. DC =   0.000      [K,I,J]    1    1    1',\n",
       "  ' Outer Iter.  2  Inner Iter.  1:  Max. DC =   0.000      [K,I,J]    1    1    1',\n",
       "  ' Transport Step:  138   Step Size:   180.0     Total Elapsed Time:   24840.    ',\n",
       "  ' Outer Iter.  1  Inner Iter.  1:  Max. DC =   0.000      [K,I,J]    1    1    1',\n",
       "  ' Outer Iter.  2  Inner Iter.  1:  Max. DC =   0.000      [K,I,J]    1    1    1',\n",
       "  ' Transport Step:  139   Step Size:   180.0     Total Elapsed Time:   25020.    ',\n",
       "  ' Outer Iter.  1  Inner Iter.  1:  Max. DC =   0.000      [K,I,J]    1    1    1',\n",
       "  ' Outer Iter.  2  Inner Iter.  1:  Max. DC =   0.000      [K,I,J]    1    1    1',\n",
       "  ' Transport Step:  140   Step Size:   180.0     Total Elapsed Time:   25200.    ',\n",
       "  ' Outer Iter.  1  Inner Iter.  1:  Max. DC =   0.000      [K,I,J]    1    1    1',\n",
       "  ' Outer Iter.  2  Inner Iter.  1:  Max. DC =   0.000      [K,I,J]    1    1    1',\n",
       "  ' Transport Step:  141   Step Size:   180.0     Total Elapsed Time:   25380.    ',\n",
       "  ' Outer Iter.  1  Inner Iter.  1:  Max. DC =   0.000      [K,I,J]    1    1    1',\n",
       "  ' Outer Iter.  2  Inner Iter.  1:  Max. DC =   0.000      [K,I,J]    1    1    1',\n",
       "  ' Transport Step:  142   Step Size:   180.0     Total Elapsed Time:   25560.    ',\n",
       "  ' Outer Iter.  1  Inner Iter.  1:  Max. DC =   0.000      [K,I,J]    1    1    1',\n",
       "  ' Outer Iter.  2  Inner Iter.  1:  Max. DC =   0.000      [K,I,J]    1    1    1',\n",
       "  ' Transport Step:  143   Step Size:   180.0     Total Elapsed Time:   25740.    ',\n",
       "  ' Outer Iter.  1  Inner Iter.  1:  Max. DC =   0.000      [K,I,J]    1    1    1',\n",
       "  ' Outer Iter.  2  Inner Iter.  1:  Max. DC =   0.000      [K,I,J]    1    1    1',\n",
       "  ' Transport Step:  144   Step Size:   180.0     Total Elapsed Time:   25920.    ',\n",
       "  ' Outer Iter.  1  Inner Iter.  1:  Max. DC =   0.000      [K,I,J]    1    1    1',\n",
       "  ' Outer Iter.  2  Inner Iter.  1:  Max. DC =   0.000      [K,I,J]    1    1    1',\n",
       "  ' Transport Step:  145   Step Size:   180.0     Total Elapsed Time:   26100.    ',\n",
       "  ' Outer Iter.  1  Inner Iter.  1:  Max. DC =   0.000      [K,I,J]    1    1    1',\n",
       "  ' Outer Iter.  2  Inner Iter.  1:  Max. DC =   0.000      [K,I,J]    1    1    1',\n",
       "  ' Transport Step:  146   Step Size:   180.0     Total Elapsed Time:   26280.    ',\n",
       "  ' Outer Iter.  1  Inner Iter.  1:  Max. DC =   0.000      [K,I,J]    1    1    1',\n",
       "  ' Outer Iter.  2  Inner Iter.  1:  Max. DC =   0.000      [K,I,J]    1    1    1',\n",
       "  ' Transport Step:  147   Step Size:   180.0     Total Elapsed Time:   26460.    ',\n",
       "  ' Outer Iter.  1  Inner Iter.  1:  Max. DC =   0.000      [K,I,J]    1    1    1',\n",
       "  ' Outer Iter.  2  Inner Iter.  1:  Max. DC =   0.000      [K,I,J]    1    1    1',\n",
       "  ' Transport Step:  148   Step Size:   180.0     Total Elapsed Time:   26640.    ',\n",
       "  ' Outer Iter.  1  Inner Iter.  1:  Max. DC =   0.000      [K,I,J]    1    1    1',\n",
       "  ' Outer Iter.  2  Inner Iter.  1:  Max. DC =   0.000      [K,I,J]    1    1    1',\n",
       "  ' Transport Step:  149   Step Size:   180.0     Total Elapsed Time:   26820.    ',\n",
       "  ' Outer Iter.  1  Inner Iter.  1:  Max. DC =   0.000      [K,I,J]    1    1    1',\n",
       "  ' Outer Iter.  2  Inner Iter.  1:  Max. DC =   0.000      [K,I,J]    1    1    1',\n",
       "  ' Transport Step:  150   Step Size:   180.0     Total Elapsed Time:   27000.    ',\n",
       "  ' Outer Iter.  1  Inner Iter.  1:  Max. DC =   0.000      [K,I,J]    1    1    1',\n",
       "  ' Outer Iter.  2  Inner Iter.  1:  Max. DC =   0.000      [K,I,J]    1    1    1',\n",
       "  ' Transport Step:  151   Step Size:   180.0     Total Elapsed Time:   27180.    ',\n",
       "  ' Outer Iter.  1  Inner Iter.  1:  Max. DC =   0.000      [K,I,J]    1    1    1',\n",
       "  ' Outer Iter.  2  Inner Iter.  1:  Max. DC =   0.000      [K,I,J]    1    1    1',\n",
       "  ' Transport Step:  152   Step Size:   180.0     Total Elapsed Time:   27360.    ',\n",
       "  ' Outer Iter.  1  Inner Iter.  1:  Max. DC =   0.000      [K,I,J]    1    1    1',\n",
       "  ' Outer Iter.  2  Inner Iter.  1:  Max. DC =   0.000      [K,I,J]    1    1    1',\n",
       "  ' Transport Step:  153   Step Size:   180.0     Total Elapsed Time:   27540.    ',\n",
       "  ' Outer Iter.  1  Inner Iter.  1:  Max. DC =   0.000      [K,I,J]    1    1    1',\n",
       "  ' Outer Iter.  2  Inner Iter.  1:  Max. DC =   0.000      [K,I,J]    1    1    1',\n",
       "  ' Transport Step:  154   Step Size:   180.0     Total Elapsed Time:   27720.    ',\n",
       "  ' Outer Iter.  1  Inner Iter.  1:  Max. DC =   0.000      [K,I,J]    1    1    1',\n",
       "  ' Outer Iter.  2  Inner Iter.  1:  Max. DC =   0.000      [K,I,J]    1    1    1',\n",
       "  ' Transport Step:  155   Step Size:   180.0     Total Elapsed Time:   27900.    ',\n",
       "  ' Outer Iter.  1  Inner Iter.  1:  Max. DC =   0.000      [K,I,J]    1    1    1',\n",
       "  ' Outer Iter.  2  Inner Iter.  1:  Max. DC =   0.000      [K,I,J]    1    1    1',\n",
       "  ' Transport Step:  156   Step Size:   180.0     Total Elapsed Time:   28080.    ',\n",
       "  ' Outer Iter.  1  Inner Iter.  1:  Max. DC =   0.000      [K,I,J]    1    1    1',\n",
       "  ' Outer Iter.  2  Inner Iter.  1:  Max. DC =   0.000      [K,I,J]    1    1    1',\n",
       "  ' Transport Step:  157   Step Size:   180.0     Total Elapsed Time:   28260.    ',\n",
       "  ' Outer Iter.  1  Inner Iter.  1:  Max. DC =   0.000      [K,I,J]    1    1    1',\n",
       "  ' Outer Iter.  2  Inner Iter.  1:  Max. DC =   0.000      [K,I,J]    1    1    1',\n",
       "  ' Transport Step:  158   Step Size:   180.0     Total Elapsed Time:   28440.    ',\n",
       "  ' Outer Iter.  1  Inner Iter.  1:  Max. DC =   0.000      [K,I,J]    1    1    1',\n",
       "  ' Outer Iter.  2  Inner Iter.  1:  Max. DC =   0.000      [K,I,J]    1    1    1',\n",
       "  ' Transport Step:  159   Step Size:   180.0     Total Elapsed Time:   28620.    ',\n",
       "  ' Outer Iter.  1  Inner Iter.  1:  Max. DC =   0.000      [K,I,J]    1    1    1',\n",
       "  ' Outer Iter.  2  Inner Iter.  1:  Max. DC =   0.000      [K,I,J]    1    1    1',\n",
       "  ' Transport Step:  160   Step Size:   180.0     Total Elapsed Time:   28800.    ',\n",
       "  ' Outer Iter.  1  Inner Iter.  1:  Max. DC =   0.000      [K,I,J]    1    1    1',\n",
       "  ' Outer Iter.  2  Inner Iter.  1:  Max. DC =   0.000      [K,I,J]    1    1    1',\n",
       "  ' Transport Step:  161   Step Size:   180.0     Total Elapsed Time:   28980.    ',\n",
       "  ' Outer Iter.  1  Inner Iter.  1:  Max. DC =   0.000      [K,I,J]    1    1    1',\n",
       "  ' Outer Iter.  2  Inner Iter.  1:  Max. DC =   0.000      [K,I,J]    1    1    1',\n",
       "  ' Transport Step:  162   Step Size:   180.0     Total Elapsed Time:   29160.    ',\n",
       "  ' Outer Iter.  1  Inner Iter.  1:  Max. DC =   0.000      [K,I,J]    1    1    1',\n",
       "  ' Outer Iter.  2  Inner Iter.  1:  Max. DC =   0.000      [K,I,J]    1    1    1',\n",
       "  ' Transport Step:  163   Step Size:   180.0     Total Elapsed Time:   29340.    ',\n",
       "  ' Outer Iter.  1  Inner Iter.  1:  Max. DC =   0.000      [K,I,J]    1    1    1',\n",
       "  ' Outer Iter.  2  Inner Iter.  1:  Max. DC =   0.000      [K,I,J]    1    1    1',\n",
       "  ' Transport Step:  164   Step Size:   180.0     Total Elapsed Time:   29520.    ',\n",
       "  ' Outer Iter.  1  Inner Iter.  1:  Max. DC =   0.000      [K,I,J]    1    1    1',\n",
       "  ' Outer Iter.  2  Inner Iter.  1:  Max. DC =   0.000      [K,I,J]    1    1    1',\n",
       "  ' Transport Step:  165   Step Size:   180.0     Total Elapsed Time:   29700.    ',\n",
       "  ' Outer Iter.  1  Inner Iter.  1:  Max. DC =   0.000      [K,I,J]    1    1    1',\n",
       "  ' Outer Iter.  2  Inner Iter.  1:  Max. DC =   0.000      [K,I,J]    1    1    1',\n",
       "  ' Transport Step:  166   Step Size:   180.0     Total Elapsed Time:   29880.    ',\n",
       "  ' Outer Iter.  1  Inner Iter.  1:  Max. DC =   0.000      [K,I,J]    1    1    1',\n",
       "  ' Outer Iter.  2  Inner Iter.  1:  Max. DC =   0.000      [K,I,J]    1    1    1',\n",
       "  ' Transport Step:  167   Step Size:   180.0     Total Elapsed Time:   30060.    ',\n",
       "  ' Outer Iter.  1  Inner Iter.  1:  Max. DC =   0.000      [K,I,J]    1    1    1',\n",
       "  ' Outer Iter.  2  Inner Iter.  1:  Max. DC =   0.000      [K,I,J]    1    1    1',\n",
       "  ' Transport Step:  168   Step Size:   180.0     Total Elapsed Time:   30240.    ',\n",
       "  ' Outer Iter.  1  Inner Iter.  1:  Max. DC =   0.000      [K,I,J]    1    1    1',\n",
       "  ' Outer Iter.  2  Inner Iter.  1:  Max. DC =   0.000      [K,I,J]    1    1    1',\n",
       "  ' Transport Step:  169   Step Size:   180.0     Total Elapsed Time:   30420.    ',\n",
       "  ' Outer Iter.  1  Inner Iter.  1:  Max. DC =   0.000      [K,I,J]    1    1    1',\n",
       "  ' Outer Iter.  2  Inner Iter.  1:  Max. DC =   0.000      [K,I,J]    1    1    1',\n",
       "  ' Transport Step:  170   Step Size:   180.0     Total Elapsed Time:   30600.    ',\n",
       "  ' Outer Iter.  1  Inner Iter.  1:  Max. DC =   0.000      [K,I,J]    1    1    1',\n",
       "  ' Outer Iter.  2  Inner Iter.  1:  Max. DC =   0.000      [K,I,J]    1    1    1',\n",
       "  '',\n",
       "  ' STRESS PERIOD NO.    2',\n",
       "  '',\n",
       "  ' TIME STEP NO.    1',\n",
       "  ' FROM TIME =   30600.     TO    41400.    ',\n",
       "  '',\n",
       "  ' Transport Step:    1   Step Size:   180.0     Total Elapsed Time:   30780.    ',\n",
       "  ' Outer Iter.  1  Inner Iter.  1:  Max. DC =  0.2062E-04  [K,I,J]    1    1    1',\n",
       "  ' Outer Iter.  1  Inner Iter.  2:  Max. DC =  0.6548E-10  [K,I,J]    1    2    3',\n",
       "  ' Outer Iter.  2  Inner Iter.  1:  Max. DC =   0.000      [K,I,J]    1    1    1',\n",
       "  ' Transport Step:    2   Step Size:   180.0     Total Elapsed Time:   30960.    ',\n",
       "  ' Outer Iter.  1  Inner Iter.  1:  Max. DC =   0.000      [K,I,J]    1    1    1',\n",
       "  ' Outer Iter.  2  Inner Iter.  1:  Max. DC =   0.000      [K,I,J]    1    1    1',\n",
       "  ' Transport Step:    3   Step Size:   180.0     Total Elapsed Time:   31140.    ',\n",
       "  ' Outer Iter.  1  Inner Iter.  1:  Max. DC =   0.000      [K,I,J]    1    1    1',\n",
       "  ' Outer Iter.  2  Inner Iter.  1:  Max. DC =   0.000      [K,I,J]    1    1    1',\n",
       "  ' Transport Step:    4   Step Size:   180.0     Total Elapsed Time:   31320.    ',\n",
       "  ' Outer Iter.  1  Inner Iter.  1:  Max. DC =   0.000      [K,I,J]    1    1    1',\n",
       "  ' Outer Iter.  2  Inner Iter.  1:  Max. DC =   0.000      [K,I,J]    1    1    1',\n",
       "  ' Transport Step:    5   Step Size:   180.0     Total Elapsed Time:   31500.    ',\n",
       "  ' Outer Iter.  1  Inner Iter.  1:  Max. DC =   0.000      [K,I,J]    1    1    1',\n",
       "  ' Outer Iter.  2  Inner Iter.  1:  Max. DC =   0.000      [K,I,J]    1    1    1',\n",
       "  ' Transport Step:    6   Step Size:   180.0     Total Elapsed Time:   31680.    ',\n",
       "  ' Outer Iter.  1  Inner Iter.  1:  Max. DC =   0.000      [K,I,J]    1    1    1',\n",
       "  ' Outer Iter.  2  Inner Iter.  1:  Max. DC =   0.000      [K,I,J]    1    1    1',\n",
       "  ' Transport Step:    7   Step Size:   180.0     Total Elapsed Time:   31860.    ',\n",
       "  ' Outer Iter.  1  Inner Iter.  1:  Max. DC =   0.000      [K,I,J]    1    1    1',\n",
       "  ' Outer Iter.  2  Inner Iter.  1:  Max. DC =   0.000      [K,I,J]    1    1    1',\n",
       "  ' Transport Step:    8   Step Size:   180.0     Total Elapsed Time:   32040.    ',\n",
       "  ' Outer Iter.  1  Inner Iter.  1:  Max. DC =   0.000      [K,I,J]    1    1    1',\n",
       "  ' Outer Iter.  2  Inner Iter.  1:  Max. DC =   0.000      [K,I,J]    1    1    1',\n",
       "  ' Transport Step:    9   Step Size:   180.0     Total Elapsed Time:   32220.    ',\n",
       "  ' Outer Iter.  1  Inner Iter.  1:  Max. DC =   0.000      [K,I,J]    1    1    1',\n",
       "  ' Outer Iter.  2  Inner Iter.  1:  Max. DC =   0.000      [K,I,J]    1    1    1',\n",
       "  ' Transport Step:   10   Step Size:   180.0     Total Elapsed Time:   32400.    ',\n",
       "  ' Outer Iter.  1  Inner Iter.  1:  Max. DC =   0.000      [K,I,J]    1    1    1',\n",
       "  ' Outer Iter.  2  Inner Iter.  1:  Max. DC =   0.000      [K,I,J]    1    1    1',\n",
       "  ' Transport Step:   11   Step Size:   180.0     Total Elapsed Time:   32580.    ',\n",
       "  ' Outer Iter.  1  Inner Iter.  1:  Max. DC =   0.000      [K,I,J]    1    1    1',\n",
       "  ' Outer Iter.  2  Inner Iter.  1:  Max. DC =   0.000      [K,I,J]    1    1    1',\n",
       "  ' Transport Step:   12   Step Size:   180.0     Total Elapsed Time:   32760.    ',\n",
       "  ' Outer Iter.  1  Inner Iter.  1:  Max. DC =   0.000      [K,I,J]    1    1    1',\n",
       "  ' Outer Iter.  2  Inner Iter.  1:  Max. DC =   0.000      [K,I,J]    1    1    1',\n",
       "  ' Transport Step:   13   Step Size:   180.0     Total Elapsed Time:   32940.    ',\n",
       "  ' Outer Iter.  1  Inner Iter.  1:  Max. DC =   0.000      [K,I,J]    1    1    1',\n",
       "  ' Outer Iter.  2  Inner Iter.  1:  Max. DC =   0.000      [K,I,J]    1    1    1',\n",
       "  ' Transport Step:   14   Step Size:   180.0     Total Elapsed Time:   33120.    ',\n",
       "  ' Outer Iter.  1  Inner Iter.  1:  Max. DC =   0.000      [K,I,J]    1    1    1',\n",
       "  ' Outer Iter.  2  Inner Iter.  1:  Max. DC =   0.000      [K,I,J]    1    1    1',\n",
       "  ' Transport Step:   15   Step Size:   180.0     Total Elapsed Time:   33300.    ',\n",
       "  ' Outer Iter.  1  Inner Iter.  1:  Max. DC =   0.000      [K,I,J]    1    1    1',\n",
       "  ' Outer Iter.  2  Inner Iter.  1:  Max. DC =   0.000      [K,I,J]    1    1    1',\n",
       "  ' Transport Step:   16   Step Size:   180.0     Total Elapsed Time:   33480.    ',\n",
       "  ' Outer Iter.  1  Inner Iter.  1:  Max. DC =   0.000      [K,I,J]    1    1    1',\n",
       "  ' Outer Iter.  2  Inner Iter.  1:  Max. DC =   0.000      [K,I,J]    1    1    1',\n",
       "  ' Transport Step:   17   Step Size:   180.0     Total Elapsed Time:   33660.    ',\n",
       "  ' Outer Iter.  1  Inner Iter.  1:  Max. DC =   0.000      [K,I,J]    1    1    1',\n",
       "  ' Outer Iter.  2  Inner Iter.  1:  Max. DC =   0.000      [K,I,J]    1    1    1',\n",
       "  ' Transport Step:   18   Step Size:   180.0     Total Elapsed Time:   33840.    ',\n",
       "  ' Outer Iter.  1  Inner Iter.  1:  Max. DC =   0.000      [K,I,J]    1    1    1',\n",
       "  ' Outer Iter.  2  Inner Iter.  1:  Max. DC =   0.000      [K,I,J]    1    1    1',\n",
       "  ' Transport Step:   19   Step Size:   180.0     Total Elapsed Time:   34020.    ',\n",
       "  ' Outer Iter.  1  Inner Iter.  1:  Max. DC =   0.000      [K,I,J]    1    1    1',\n",
       "  ' Outer Iter.  2  Inner Iter.  1:  Max. DC =   0.000      [K,I,J]    1    1    1',\n",
       "  ' Transport Step:   20   Step Size:   180.0     Total Elapsed Time:   34200.    ',\n",
       "  ' Outer Iter.  1  Inner Iter.  1:  Max. DC =   0.000      [K,I,J]    1    1    1',\n",
       "  ' Outer Iter.  2  Inner Iter.  1:  Max. DC =   0.000      [K,I,J]    1    1    1',\n",
       "  ' Transport Step:   21   Step Size:   180.0     Total Elapsed Time:   34380.    ',\n",
       "  ' Outer Iter.  1  Inner Iter.  1:  Max. DC =   0.000      [K,I,J]    1    1    1',\n",
       "  ' Outer Iter.  2  Inner Iter.  1:  Max. DC =   0.000      [K,I,J]    1    1    1',\n",
       "  ' Transport Step:   22   Step Size:   180.0     Total Elapsed Time:   34560.    ',\n",
       "  ' Outer Iter.  1  Inner Iter.  1:  Max. DC =   0.000      [K,I,J]    1    1    1',\n",
       "  ' Outer Iter.  2  Inner Iter.  1:  Max. DC =   0.000      [K,I,J]    1    1    1',\n",
       "  ' Transport Step:   23   Step Size:   180.0     Total Elapsed Time:   34740.    ',\n",
       "  ' Outer Iter.  1  Inner Iter.  1:  Max. DC =   0.000      [K,I,J]    1    1    1',\n",
       "  ' Outer Iter.  2  Inner Iter.  1:  Max. DC =   0.000      [K,I,J]    1    1    1',\n",
       "  ' Transport Step:   24   Step Size:   180.0     Total Elapsed Time:   34920.    ',\n",
       "  ' Outer Iter.  1  Inner Iter.  1:  Max. DC =   0.000      [K,I,J]    1    1    1',\n",
       "  ' Outer Iter.  2  Inner Iter.  1:  Max. DC =   0.000      [K,I,J]    1    1    1',\n",
       "  ' Transport Step:   25   Step Size:   180.0     Total Elapsed Time:   35100.    ',\n",
       "  ' Outer Iter.  1  Inner Iter.  1:  Max. DC =   0.000      [K,I,J]    1    1    1',\n",
       "  ' Outer Iter.  2  Inner Iter.  1:  Max. DC =   0.000      [K,I,J]    1    1    1',\n",
       "  ' Transport Step:   26   Step Size:   180.0     Total Elapsed Time:   35280.    ',\n",
       "  ' Outer Iter.  1  Inner Iter.  1:  Max. DC =   0.000      [K,I,J]    1    1    1',\n",
       "  ' Outer Iter.  2  Inner Iter.  1:  Max. DC =   0.000      [K,I,J]    1    1    1',\n",
       "  ' Transport Step:   27   Step Size:   180.0     Total Elapsed Time:   35460.    ',\n",
       "  ' Outer Iter.  1  Inner Iter.  1:  Max. DC =   0.000      [K,I,J]    1    1    1',\n",
       "  ' Outer Iter.  2  Inner Iter.  1:  Max. DC =   0.000      [K,I,J]    1    1    1',\n",
       "  ' Transport Step:   28   Step Size:   180.0     Total Elapsed Time:   35640.    ',\n",
       "  ' Outer Iter.  1  Inner Iter.  1:  Max. DC =   0.000      [K,I,J]    1    1    1',\n",
       "  ' Outer Iter.  2  Inner Iter.  1:  Max. DC =   0.000      [K,I,J]    1    1    1',\n",
       "  ' Transport Step:   29   Step Size:   180.0     Total Elapsed Time:   35820.    ',\n",
       "  ' Outer Iter.  1  Inner Iter.  1:  Max. DC =   0.000      [K,I,J]    1    1    1',\n",
       "  ' Outer Iter.  2  Inner Iter.  1:  Max. DC =   0.000      [K,I,J]    1    1    1',\n",
       "  ' Transport Step:   30   Step Size:   180.0     Total Elapsed Time:   36000.    ',\n",
       "  ' Outer Iter.  1  Inner Iter.  1:  Max. DC =   0.000      [K,I,J]    1    1    1',\n",
       "  ' Outer Iter.  2  Inner Iter.  1:  Max. DC =   0.000      [K,I,J]    1    1    1',\n",
       "  ' Transport Step:   31   Step Size:   180.0     Total Elapsed Time:   36180.    ',\n",
       "  ' Outer Iter.  1  Inner Iter.  1:  Max. DC =   0.000      [K,I,J]    1    1    1',\n",
       "  ' Outer Iter.  2  Inner Iter.  1:  Max. DC =   0.000      [K,I,J]    1    1    1',\n",
       "  ' Transport Step:   32   Step Size:   180.0     Total Elapsed Time:   36360.    ',\n",
       "  ' Outer Iter.  1  Inner Iter.  1:  Max. DC =   0.000      [K,I,J]    1    1    1',\n",
       "  ' Outer Iter.  2  Inner Iter.  1:  Max. DC =   0.000      [K,I,J]    1    1    1',\n",
       "  ' Transport Step:   33   Step Size:   180.0     Total Elapsed Time:   36540.    ',\n",
       "  ' Outer Iter.  1  Inner Iter.  1:  Max. DC =   0.000      [K,I,J]    1    1    1',\n",
       "  ' Outer Iter.  2  Inner Iter.  1:  Max. DC =   0.000      [K,I,J]    1    1    1',\n",
       "  ' Transport Step:   34   Step Size:   180.0     Total Elapsed Time:   36720.    ',\n",
       "  ' Outer Iter.  1  Inner Iter.  1:  Max. DC =   0.000      [K,I,J]    1    1    1',\n",
       "  ' Outer Iter.  2  Inner Iter.  1:  Max. DC =   0.000      [K,I,J]    1    1    1',\n",
       "  ' Transport Step:   35   Step Size:   180.0     Total Elapsed Time:   36900.    ',\n",
       "  ' Outer Iter.  1  Inner Iter.  1:  Max. DC =   0.000      [K,I,J]    1    1    1',\n",
       "  ' Outer Iter.  2  Inner Iter.  1:  Max. DC =   0.000      [K,I,J]    1    1    1',\n",
       "  ' Transport Step:   36   Step Size:   180.0     Total Elapsed Time:   37080.    ',\n",
       "  ' Outer Iter.  1  Inner Iter.  1:  Max. DC =   0.000      [K,I,J]    1    1    1',\n",
       "  ' Outer Iter.  2  Inner Iter.  1:  Max. DC =   0.000      [K,I,J]    1    1    1',\n",
       "  ' Transport Step:   37   Step Size:   180.0     Total Elapsed Time:   37260.    ',\n",
       "  ' Outer Iter.  1  Inner Iter.  1:  Max. DC =   0.000      [K,I,J]    1    1    1',\n",
       "  ' Outer Iter.  2  Inner Iter.  1:  Max. DC =   0.000      [K,I,J]    1    1    1',\n",
       "  ' Transport Step:   38   Step Size:   180.0     Total Elapsed Time:   37440.    ',\n",
       "  ' Outer Iter.  1  Inner Iter.  1:  Max. DC =   0.000      [K,I,J]    1    1    1',\n",
       "  ' Outer Iter.  2  Inner Iter.  1:  Max. DC =   0.000      [K,I,J]    1    1    1',\n",
       "  ' Transport Step:   39   Step Size:   180.0     Total Elapsed Time:   37620.    ',\n",
       "  ' Outer Iter.  1  Inner Iter.  1:  Max. DC =   0.000      [K,I,J]    1    1    1',\n",
       "  ' Outer Iter.  2  Inner Iter.  1:  Max. DC =   0.000      [K,I,J]    1    1    1',\n",
       "  ' Transport Step:   40   Step Size:   180.0     Total Elapsed Time:   37800.    ',\n",
       "  ' Outer Iter.  1  Inner Iter.  1:  Max. DC =   0.000      [K,I,J]    1    1    1',\n",
       "  ' Outer Iter.  2  Inner Iter.  1:  Max. DC =   0.000      [K,I,J]    1    1    1',\n",
       "  ' Transport Step:   41   Step Size:   180.0     Total Elapsed Time:   37980.    ',\n",
       "  ' Outer Iter.  1  Inner Iter.  1:  Max. DC =   0.000      [K,I,J]    1    1    1',\n",
       "  ' Outer Iter.  2  Inner Iter.  1:  Max. DC =   0.000      [K,I,J]    1    1    1',\n",
       "  ' Transport Step:   42   Step Size:   180.0     Total Elapsed Time:   38160.    ',\n",
       "  ' Outer Iter.  1  Inner Iter.  1:  Max. DC =   0.000      [K,I,J]    1    1    1',\n",
       "  ' Outer Iter.  2  Inner Iter.  1:  Max. DC =   0.000      [K,I,J]    1    1    1',\n",
       "  ' Transport Step:   43   Step Size:   180.0     Total Elapsed Time:   38340.    ',\n",
       "  ' Outer Iter.  1  Inner Iter.  1:  Max. DC =   0.000      [K,I,J]    1    1    1',\n",
       "  ' Outer Iter.  2  Inner Iter.  1:  Max. DC =   0.000      [K,I,J]    1    1    1',\n",
       "  ' Transport Step:   44   Step Size:   180.0     Total Elapsed Time:   38520.    ',\n",
       "  ' Outer Iter.  1  Inner Iter.  1:  Max. DC =   0.000      [K,I,J]    1    1    1',\n",
       "  ' Outer Iter.  2  Inner Iter.  1:  Max. DC =   0.000      [K,I,J]    1    1    1',\n",
       "  ' Transport Step:   45   Step Size:   180.0     Total Elapsed Time:   38700.    ',\n",
       "  ' Outer Iter.  1  Inner Iter.  1:  Max. DC =   0.000      [K,I,J]    1    1    1',\n",
       "  ' Outer Iter.  2  Inner Iter.  1:  Max. DC =   0.000      [K,I,J]    1    1    1',\n",
       "  ' Transport Step:   46   Step Size:   180.0     Total Elapsed Time:   38880.    ',\n",
       "  ' Outer Iter.  1  Inner Iter.  1:  Max. DC =   0.000      [K,I,J]    1    1    1',\n",
       "  ' Outer Iter.  2  Inner Iter.  1:  Max. DC =   0.000      [K,I,J]    1    1    1',\n",
       "  ' Transport Step:   47   Step Size:   180.0     Total Elapsed Time:   39060.    ',\n",
       "  ' Outer Iter.  1  Inner Iter.  1:  Max. DC =   0.000      [K,I,J]    1    1    1',\n",
       "  ' Outer Iter.  2  Inner Iter.  1:  Max. DC =   0.000      [K,I,J]    1    1    1',\n",
       "  ' Transport Step:   48   Step Size:   180.0     Total Elapsed Time:   39240.    ',\n",
       "  ' Outer Iter.  1  Inner Iter.  1:  Max. DC =   0.000      [K,I,J]    1    1    1',\n",
       "  ' Outer Iter.  2  Inner Iter.  1:  Max. DC =   0.000      [K,I,J]    1    1    1',\n",
       "  ' Transport Step:   49   Step Size:   180.0     Total Elapsed Time:   39420.    ',\n",
       "  ' Outer Iter.  1  Inner Iter.  1:  Max. DC =   0.000      [K,I,J]    1    1    1',\n",
       "  ' Outer Iter.  2  Inner Iter.  1:  Max. DC =   0.000      [K,I,J]    1    1    1',\n",
       "  ' Transport Step:   50   Step Size:   180.0     Total Elapsed Time:   39600.    ',\n",
       "  ' Outer Iter.  1  Inner Iter.  1:  Max. DC =   0.000      [K,I,J]    1    1    1',\n",
       "  ' Outer Iter.  2  Inner Iter.  1:  Max. DC =   0.000      [K,I,J]    1    1    1',\n",
       "  ' Transport Step:   51   Step Size:   180.0     Total Elapsed Time:   39780.    ',\n",
       "  ' Outer Iter.  1  Inner Iter.  1:  Max. DC =   0.000      [K,I,J]    1    1    1',\n",
       "  ' Outer Iter.  2  Inner Iter.  1:  Max. DC =   0.000      [K,I,J]    1    1    1',\n",
       "  ' Transport Step:   52   Step Size:   180.0     Total Elapsed Time:   39960.    ',\n",
       "  ' Outer Iter.  1  Inner Iter.  1:  Max. DC =   0.000      [K,I,J]    1    1    1',\n",
       "  ' Outer Iter.  2  Inner Iter.  1:  Max. DC =   0.000      [K,I,J]    1    1    1',\n",
       "  ' Transport Step:   53   Step Size:   180.0     Total Elapsed Time:   40140.    ',\n",
       "  ' Outer Iter.  1  Inner Iter.  1:  Max. DC =   0.000      [K,I,J]    1    1    1',\n",
       "  ' Outer Iter.  2  Inner Iter.  1:  Max. DC =   0.000      [K,I,J]    1    1    1',\n",
       "  ' Transport Step:   54   Step Size:   180.0     Total Elapsed Time:   40320.    ',\n",
       "  ' Outer Iter.  1  Inner Iter.  1:  Max. DC =   0.000      [K,I,J]    1    1    1',\n",
       "  ' Outer Iter.  2  Inner Iter.  1:  Max. DC =   0.000      [K,I,J]    1    1    1',\n",
       "  ' Transport Step:   55   Step Size:   180.0     Total Elapsed Time:   40500.    ',\n",
       "  ' Outer Iter.  1  Inner Iter.  1:  Max. DC =   0.000      [K,I,J]    1    1    1',\n",
       "  ' Outer Iter.  2  Inner Iter.  1:  Max. DC =   0.000      [K,I,J]    1    1    1',\n",
       "  ' Transport Step:   56   Step Size:   180.0     Total Elapsed Time:   40680.    ',\n",
       "  ' Outer Iter.  1  Inner Iter.  1:  Max. DC =   0.000      [K,I,J]    1    1    1',\n",
       "  ' Outer Iter.  2  Inner Iter.  1:  Max. DC =   0.000      [K,I,J]    1    1    1',\n",
       "  ' Transport Step:   57   Step Size:   180.0     Total Elapsed Time:   40860.    ',\n",
       "  ' Outer Iter.  1  Inner Iter.  1:  Max. DC =   0.000      [K,I,J]    1    1    1',\n",
       "  ' Outer Iter.  2  Inner Iter.  1:  Max. DC =   0.000      [K,I,J]    1    1    1',\n",
       "  ' Transport Step:   58   Step Size:   180.0     Total Elapsed Time:   41040.    ',\n",
       "  ' Outer Iter.  1  Inner Iter.  1:  Max. DC =   0.000      [K,I,J]    1    1    1',\n",
       "  ' Outer Iter.  2  Inner Iter.  1:  Max. DC =   0.000      [K,I,J]    1    1    1',\n",
       "  ' Transport Step:   59   Step Size:   180.0     Total Elapsed Time:   41220.    ',\n",
       "  ' Outer Iter.  1  Inner Iter.  1:  Max. DC =   0.000      [K,I,J]    1    1    1',\n",
       "  ' Outer Iter.  2  Inner Iter.  1:  Max. DC =   0.000      [K,I,J]    1    1    1',\n",
       "  ' Transport Step:   60   Step Size:   180.0     Total Elapsed Time:   41400.    ',\n",
       "  ' Outer Iter.  1  Inner Iter.  1:  Max. DC =   0.000      [K,I,J]    1    1    1',\n",
       "  ' Outer Iter.  2  Inner Iter.  1:  Max. DC =   0.000      [K,I,J]    1    1    1',\n",
       "  '',\n",
       "  ' STRESS PERIOD NO.    3',\n",
       "  '',\n",
       "  ' TIME STEP NO.    1',\n",
       "  ' FROM TIME =   41400.     TO    86400.    ',\n",
       "  '',\n",
       "  ' Transport Step:    1   Step Size:   180.0     Total Elapsed Time:   41580.    ',\n",
       "  ' Outer Iter.  1  Inner Iter.  1:  Max. DC =   0.000      [K,I,J]    1    1    1',\n",
       "  ' Outer Iter.  2  Inner Iter.  1:  Max. DC =   0.000      [K,I,J]    1    1    1',\n",
       "  ' Transport Step:    2   Step Size:   180.0     Total Elapsed Time:   41760.    ',\n",
       "  ' Outer Iter.  1  Inner Iter.  1:  Max. DC =   0.000      [K,I,J]    1    1    1',\n",
       "  ' Outer Iter.  2  Inner Iter.  1:  Max. DC =   0.000      [K,I,J]    1    1    1',\n",
       "  ' Transport Step:    3   Step Size:   180.0     Total Elapsed Time:   41940.    ',\n",
       "  ' Outer Iter.  1  Inner Iter.  1:  Max. DC =   0.000      [K,I,J]    1    1    1',\n",
       "  ' Outer Iter.  2  Inner Iter.  1:  Max. DC =   0.000      [K,I,J]    1    1    1',\n",
       "  ' Transport Step:    4   Step Size:   180.0     Total Elapsed Time:   42120.    ',\n",
       "  ' Outer Iter.  1  Inner Iter.  1:  Max. DC =   0.000      [K,I,J]    1    1    1',\n",
       "  ' Outer Iter.  2  Inner Iter.  1:  Max. DC =   0.000      [K,I,J]    1    1    1',\n",
       "  ' Transport Step:    5   Step Size:   180.0     Total Elapsed Time:   42300.    ',\n",
       "  ' Outer Iter.  1  Inner Iter.  1:  Max. DC =   0.000      [K,I,J]    1    1    1',\n",
       "  ' Outer Iter.  2  Inner Iter.  1:  Max. DC =   0.000      [K,I,J]    1    1    1',\n",
       "  ' Transport Step:    6   Step Size:   180.0     Total Elapsed Time:   42480.    ',\n",
       "  ' Outer Iter.  1  Inner Iter.  1:  Max. DC =   0.000      [K,I,J]    1    1    1',\n",
       "  ' Outer Iter.  2  Inner Iter.  1:  Max. DC =   0.000      [K,I,J]    1    1    1',\n",
       "  ' Transport Step:    7   Step Size:   180.0     Total Elapsed Time:   42660.    ',\n",
       "  ' Outer Iter.  1  Inner Iter.  1:  Max. DC =   0.000      [K,I,J]    1    1    1',\n",
       "  ' Outer Iter.  2  Inner Iter.  1:  Max. DC =   0.000      [K,I,J]    1    1    1',\n",
       "  ' Transport Step:    8   Step Size:   180.0     Total Elapsed Time:   42840.    ',\n",
       "  ' Outer Iter.  1  Inner Iter.  1:  Max. DC =   0.000      [K,I,J]    1    1    1',\n",
       "  ' Outer Iter.  2  Inner Iter.  1:  Max. DC =   0.000      [K,I,J]    1    1    1',\n",
       "  ' Transport Step:    9   Step Size:   180.0     Total Elapsed Time:   43020.    ',\n",
       "  ' Outer Iter.  1  Inner Iter.  1:  Max. DC =   0.000      [K,I,J]    1    1    1',\n",
       "  ' Outer Iter.  2  Inner Iter.  1:  Max. DC =   0.000      [K,I,J]    1    1    1',\n",
       "  ' Transport Step:   10   Step Size:   180.0     Total Elapsed Time:   43200.    ',\n",
       "  ' Outer Iter.  1  Inner Iter.  1:  Max. DC =   0.000      [K,I,J]    1    1    1',\n",
       "  ' Outer Iter.  2  Inner Iter.  1:  Max. DC =   0.000      [K,I,J]    1    1    1',\n",
       "  ' Transport Step:   11   Step Size:   180.0     Total Elapsed Time:   43380.    ',\n",
       "  ' Outer Iter.  1  Inner Iter.  1:  Max. DC =   0.000      [K,I,J]    1    1    1',\n",
       "  ' Outer Iter.  2  Inner Iter.  1:  Max. DC =   0.000      [K,I,J]    1    1    1',\n",
       "  ' Transport Step:   12   Step Size:   180.0     Total Elapsed Time:   43560.    ',\n",
       "  ' Outer Iter.  1  Inner Iter.  1:  Max. DC =   0.000      [K,I,J]    1    1    1',\n",
       "  ' Outer Iter.  2  Inner Iter.  1:  Max. DC =   0.000      [K,I,J]    1    1    1',\n",
       "  ' Transport Step:   13   Step Size:   180.0     Total Elapsed Time:   43740.    ',\n",
       "  ' Outer Iter.  1  Inner Iter.  1:  Max. DC =   0.000      [K,I,J]    1    1    1',\n",
       "  ' Outer Iter.  2  Inner Iter.  1:  Max. DC =   0.000      [K,I,J]    1    1    1',\n",
       "  ' Transport Step:   14   Step Size:   180.0     Total Elapsed Time:   43920.    ',\n",
       "  ' Outer Iter.  1  Inner Iter.  1:  Max. DC =   0.000      [K,I,J]    1    1    1',\n",
       "  ' Outer Iter.  2  Inner Iter.  1:  Max. DC =   0.000      [K,I,J]    1    1    1',\n",
       "  ' Transport Step:   15   Step Size:   180.0     Total Elapsed Time:   44100.    ',\n",
       "  ' Outer Iter.  1  Inner Iter.  1:  Max. DC =   0.000      [K,I,J]    1    1    1',\n",
       "  ' Outer Iter.  2  Inner Iter.  1:  Max. DC =   0.000      [K,I,J]    1    1    1',\n",
       "  ' Transport Step:   16   Step Size:   180.0     Total Elapsed Time:   44280.    ',\n",
       "  ' Outer Iter.  1  Inner Iter.  1:  Max. DC =   0.000      [K,I,J]    1    1    1',\n",
       "  ' Outer Iter.  2  Inner Iter.  1:  Max. DC =   0.000      [K,I,J]    1    1    1',\n",
       "  ' Transport Step:   17   Step Size:   180.0     Total Elapsed Time:   44460.    ',\n",
       "  ' Outer Iter.  1  Inner Iter.  1:  Max. DC =   0.000      [K,I,J]    1    1    1',\n",
       "  ' Outer Iter.  2  Inner Iter.  1:  Max. DC =   0.000      [K,I,J]    1    1    1',\n",
       "  ' Transport Step:   18   Step Size:   180.0     Total Elapsed Time:   44640.    ',\n",
       "  ' Outer Iter.  1  Inner Iter.  1:  Max. DC =   0.000      [K,I,J]    1    1    1',\n",
       "  ' Outer Iter.  2  Inner Iter.  1:  Max. DC =   0.000      [K,I,J]    1    1    1',\n",
       "  ' Transport Step:   19   Step Size:   180.0     Total Elapsed Time:   44820.    ',\n",
       "  ' Outer Iter.  1  Inner Iter.  1:  Max. DC =   0.000      [K,I,J]    1    1    1',\n",
       "  ' Outer Iter.  2  Inner Iter.  1:  Max. DC =   0.000      [K,I,J]    1    1    1',\n",
       "  ' Transport Step:   20   Step Size:   180.0     Total Elapsed Time:   45000.    ',\n",
       "  ' Outer Iter.  1  Inner Iter.  1:  Max. DC =   0.000      [K,I,J]    1    1    1',\n",
       "  ' Outer Iter.  2  Inner Iter.  1:  Max. DC =   0.000      [K,I,J]    1    1    1',\n",
       "  ' Transport Step:   21   Step Size:   180.0     Total Elapsed Time:   45180.    ',\n",
       "  ' Outer Iter.  1  Inner Iter.  1:  Max. DC =   0.000      [K,I,J]    1    1    1',\n",
       "  ' Outer Iter.  2  Inner Iter.  1:  Max. DC =   0.000      [K,I,J]    1    1    1',\n",
       "  ' Transport Step:   22   Step Size:   180.0     Total Elapsed Time:   45360.    ',\n",
       "  ' Outer Iter.  1  Inner Iter.  1:  Max. DC =   0.000      [K,I,J]    1    1    1',\n",
       "  ' Outer Iter.  2  Inner Iter.  1:  Max. DC =   0.000      [K,I,J]    1    1    1',\n",
       "  ' Transport Step:   23   Step Size:   180.0     Total Elapsed Time:   45540.    ',\n",
       "  ' Outer Iter.  1  Inner Iter.  1:  Max. DC =   0.000      [K,I,J]    1    1    1',\n",
       "  ' Outer Iter.  2  Inner Iter.  1:  Max. DC =   0.000      [K,I,J]    1    1    1',\n",
       "  ' Transport Step:   24   Step Size:   180.0     Total Elapsed Time:   45720.    ',\n",
       "  ' Outer Iter.  1  Inner Iter.  1:  Max. DC =   0.000      [K,I,J]    1    1    1',\n",
       "  ' Outer Iter.  2  Inner Iter.  1:  Max. DC =   0.000      [K,I,J]    1    1    1',\n",
       "  ' Transport Step:   25   Step Size:   180.0     Total Elapsed Time:   45900.    ',\n",
       "  ' Outer Iter.  1  Inner Iter.  1:  Max. DC =   0.000      [K,I,J]    1    1    1',\n",
       "  ' Outer Iter.  2  Inner Iter.  1:  Max. DC =   0.000      [K,I,J]    1    1    1',\n",
       "  ' Transport Step:   26   Step Size:   180.0     Total Elapsed Time:   46080.    ',\n",
       "  ' Outer Iter.  1  Inner Iter.  1:  Max. DC =   0.000      [K,I,J]    1    1    1',\n",
       "  ' Outer Iter.  2  Inner Iter.  1:  Max. DC =   0.000      [K,I,J]    1    1    1',\n",
       "  ' Transport Step:   27   Step Size:   180.0     Total Elapsed Time:   46260.    ',\n",
       "  ' Outer Iter.  1  Inner Iter.  1:  Max. DC =   0.000      [K,I,J]    1    1    1',\n",
       "  ' Outer Iter.  2  Inner Iter.  1:  Max. DC =   0.000      [K,I,J]    1    1    1',\n",
       "  ' Transport Step:   28   Step Size:   180.0     Total Elapsed Time:   46440.    ',\n",
       "  ' Outer Iter.  1  Inner Iter.  1:  Max. DC =   0.000      [K,I,J]    1    1    1',\n",
       "  ' Outer Iter.  2  Inner Iter.  1:  Max. DC =   0.000      [K,I,J]    1    1    1',\n",
       "  ' Transport Step:   29   Step Size:   180.0     Total Elapsed Time:   46620.    ',\n",
       "  ' Outer Iter.  1  Inner Iter.  1:  Max. DC =   0.000      [K,I,J]    1    1    1',\n",
       "  ' Outer Iter.  2  Inner Iter.  1:  Max. DC =   0.000      [K,I,J]    1    1    1',\n",
       "  ' Transport Step:   30   Step Size:   180.0     Total Elapsed Time:   46800.    ',\n",
       "  ' Outer Iter.  1  Inner Iter.  1:  Max. DC =   0.000      [K,I,J]    1    1    1',\n",
       "  ' Outer Iter.  2  Inner Iter.  1:  Max. DC =   0.000      [K,I,J]    1    1    1',\n",
       "  ' Transport Step:   31   Step Size:   180.0     Total Elapsed Time:   46980.    ',\n",
       "  ' Outer Iter.  1  Inner Iter.  1:  Max. DC =   0.000      [K,I,J]    1    1    1',\n",
       "  ' Outer Iter.  2  Inner Iter.  1:  Max. DC =   0.000      [K,I,J]    1    1    1',\n",
       "  ' Transport Step:   32   Step Size:   180.0     Total Elapsed Time:   47160.    ',\n",
       "  ' Outer Iter.  1  Inner Iter.  1:  Max. DC =   0.000      [K,I,J]    1    1    1',\n",
       "  ' Outer Iter.  2  Inner Iter.  1:  Max. DC =   0.000      [K,I,J]    1    1    1',\n",
       "  ' Transport Step:   33   Step Size:   180.0     Total Elapsed Time:   47340.    ',\n",
       "  ' Outer Iter.  1  Inner Iter.  1:  Max. DC =   0.000      [K,I,J]    1    1    1',\n",
       "  ' Outer Iter.  2  Inner Iter.  1:  Max. DC =   0.000      [K,I,J]    1    1    1',\n",
       "  ' Transport Step:   34   Step Size:   180.0     Total Elapsed Time:   47520.    ',\n",
       "  ' Outer Iter.  1  Inner Iter.  1:  Max. DC =   0.000      [K,I,J]    1    1    1',\n",
       "  ' Outer Iter.  2  Inner Iter.  1:  Max. DC =   0.000      [K,I,J]    1    1    1',\n",
       "  ' Transport Step:   35   Step Size:   180.0     Total Elapsed Time:   47700.    ',\n",
       "  ' Outer Iter.  1  Inner Iter.  1:  Max. DC =   0.000      [K,I,J]    1    1    1',\n",
       "  ' Outer Iter.  2  Inner Iter.  1:  Max. DC =   0.000      [K,I,J]    1    1    1',\n",
       "  ' Transport Step:   36   Step Size:   180.0     Total Elapsed Time:   47880.    ',\n",
       "  ' Outer Iter.  1  Inner Iter.  1:  Max. DC =   0.000      [K,I,J]    1    1    1',\n",
       "  ' Outer Iter.  2  Inner Iter.  1:  Max. DC =   0.000      [K,I,J]    1    1    1',\n",
       "  ' Transport Step:   37   Step Size:   180.0     Total Elapsed Time:   48060.    ',\n",
       "  ' Outer Iter.  1  Inner Iter.  1:  Max. DC =   0.000      [K,I,J]    1    1    1',\n",
       "  ' Outer Iter.  2  Inner Iter.  1:  Max. DC =   0.000      [K,I,J]    1    1    1',\n",
       "  ' Transport Step:   38   Step Size:   180.0     Total Elapsed Time:   48240.    ',\n",
       "  ' Outer Iter.  1  Inner Iter.  1:  Max. DC =   0.000      [K,I,J]    1    1    1',\n",
       "  ' Outer Iter.  2  Inner Iter.  1:  Max. DC =   0.000      [K,I,J]    1    1    1',\n",
       "  ' Transport Step:   39   Step Size:   180.0     Total Elapsed Time:   48420.    ',\n",
       "  ' Outer Iter.  1  Inner Iter.  1:  Max. DC =   0.000      [K,I,J]    1    1    1',\n",
       "  ' Outer Iter.  2  Inner Iter.  1:  Max. DC =   0.000      [K,I,J]    1    1    1',\n",
       "  ' Transport Step:   40   Step Size:   180.0     Total Elapsed Time:   48600.    ',\n",
       "  ' Outer Iter.  1  Inner Iter.  1:  Max. DC =   0.000      [K,I,J]    1    1    1',\n",
       "  ' Outer Iter.  2  Inner Iter.  1:  Max. DC =   0.000      [K,I,J]    1    1    1',\n",
       "  ' Transport Step:   41   Step Size:   180.0     Total Elapsed Time:   48780.    ',\n",
       "  ' Outer Iter.  1  Inner Iter.  1:  Max. DC =   0.000      [K,I,J]    1    1    1',\n",
       "  ' Outer Iter.  2  Inner Iter.  1:  Max. DC =   0.000      [K,I,J]    1    1    1',\n",
       "  ' Transport Step:   42   Step Size:   180.0     Total Elapsed Time:   48960.    ',\n",
       "  ' Outer Iter.  1  Inner Iter.  1:  Max. DC =   0.000      [K,I,J]    1    1    1',\n",
       "  ' Outer Iter.  2  Inner Iter.  1:  Max. DC =   0.000      [K,I,J]    1    1    1',\n",
       "  ' Transport Step:   43   Step Size:   180.0     Total Elapsed Time:   49140.    ',\n",
       "  ' Outer Iter.  1  Inner Iter.  1:  Max. DC =   0.000      [K,I,J]    1    1    1',\n",
       "  ' Outer Iter.  2  Inner Iter.  1:  Max. DC =   0.000      [K,I,J]    1    1    1',\n",
       "  ' Transport Step:   44   Step Size:   180.0     Total Elapsed Time:   49320.    ',\n",
       "  ' Outer Iter.  1  Inner Iter.  1:  Max. DC =   0.000      [K,I,J]    1    1    1',\n",
       "  ' Outer Iter.  2  Inner Iter.  1:  Max. DC =   0.000      [K,I,J]    1    1    1',\n",
       "  ' Transport Step:   45   Step Size:   180.0     Total Elapsed Time:   49500.    ',\n",
       "  ' Outer Iter.  1  Inner Iter.  1:  Max. DC =   0.000      [K,I,J]    1    1    1',\n",
       "  ' Outer Iter.  2  Inner Iter.  1:  Max. DC =   0.000      [K,I,J]    1    1    1',\n",
       "  ' Transport Step:   46   Step Size:   180.0     Total Elapsed Time:   49680.    ',\n",
       "  ' Outer Iter.  1  Inner Iter.  1:  Max. DC =   0.000      [K,I,J]    1    1    1',\n",
       "  ' Outer Iter.  2  Inner Iter.  1:  Max. DC =   0.000      [K,I,J]    1    1    1',\n",
       "  ' Transport Step:   47   Step Size:   180.0     Total Elapsed Time:   49860.    ',\n",
       "  ' Outer Iter.  1  Inner Iter.  1:  Max. DC =   0.000      [K,I,J]    1    1    1',\n",
       "  ' Outer Iter.  2  Inner Iter.  1:  Max. DC =   0.000      [K,I,J]    1    1    1',\n",
       "  ' Transport Step:   48   Step Size:   180.0     Total Elapsed Time:   50040.    ',\n",
       "  ' Outer Iter.  1  Inner Iter.  1:  Max. DC =   0.000      [K,I,J]    1    1    1',\n",
       "  ' Outer Iter.  2  Inner Iter.  1:  Max. DC =   0.000      [K,I,J]    1    1    1',\n",
       "  ' Transport Step:   49   Step Size:   180.0     Total Elapsed Time:   50220.    ',\n",
       "  ' Outer Iter.  1  Inner Iter.  1:  Max. DC =   0.000      [K,I,J]    1    1    1',\n",
       "  ' Outer Iter.  2  Inner Iter.  1:  Max. DC =   0.000      [K,I,J]    1    1    1',\n",
       "  ' Transport Step:   50   Step Size:   180.0     Total Elapsed Time:   50400.    ',\n",
       "  ' Outer Iter.  1  Inner Iter.  1:  Max. DC =   0.000      [K,I,J]    1    1    1',\n",
       "  ' Outer Iter.  2  Inner Iter.  1:  Max. DC =   0.000      [K,I,J]    1    1    1',\n",
       "  ' Transport Step:   51   Step Size:   180.0     Total Elapsed Time:   50580.    ',\n",
       "  ' Outer Iter.  1  Inner Iter.  1:  Max. DC =   0.000      [K,I,J]    1    1    1',\n",
       "  ' Outer Iter.  2  Inner Iter.  1:  Max. DC =   0.000      [K,I,J]    1    1    1',\n",
       "  ' Transport Step:   52   Step Size:   180.0     Total Elapsed Time:   50760.    ',\n",
       "  ' Outer Iter.  1  Inner Iter.  1:  Max. DC =   0.000      [K,I,J]    1    1    1',\n",
       "  ' Outer Iter.  2  Inner Iter.  1:  Max. DC =   0.000      [K,I,J]    1    1    1',\n",
       "  ' Transport Step:   53   Step Size:   180.0     Total Elapsed Time:   50940.    ',\n",
       "  ' Outer Iter.  1  Inner Iter.  1:  Max. DC =   0.000      [K,I,J]    1    1    1',\n",
       "  ' Outer Iter.  2  Inner Iter.  1:  Max. DC =   0.000      [K,I,J]    1    1    1',\n",
       "  ' Transport Step:   54   Step Size:   180.0     Total Elapsed Time:   51120.    ',\n",
       "  ' Outer Iter.  1  Inner Iter.  1:  Max. DC =   0.000      [K,I,J]    1    1    1',\n",
       "  ' Outer Iter.  2  Inner Iter.  1:  Max. DC =   0.000      [K,I,J]    1    1    1',\n",
       "  ' Transport Step:   55   Step Size:   180.0     Total Elapsed Time:   51300.    ',\n",
       "  ' Outer Iter.  1  Inner Iter.  1:  Max. DC =   0.000      [K,I,J]    1    1    1',\n",
       "  ' Outer Iter.  2  Inner Iter.  1:  Max. DC =   0.000      [K,I,J]    1    1    1',\n",
       "  ' Transport Step:   56   Step Size:   180.0     Total Elapsed Time:   51480.    ',\n",
       "  ' Outer Iter.  1  Inner Iter.  1:  Max. DC =   0.000      [K,I,J]    1    1    1',\n",
       "  ' Outer Iter.  2  Inner Iter.  1:  Max. DC =   0.000      [K,I,J]    1    1    1',\n",
       "  ' Transport Step:   57   Step Size:   180.0     Total Elapsed Time:   51660.    ',\n",
       "  ' Outer Iter.  1  Inner Iter.  1:  Max. DC =   0.000      [K,I,J]    1    1    1',\n",
       "  ' Outer Iter.  2  Inner Iter.  1:  Max. DC =   0.000      [K,I,J]    1    1    1',\n",
       "  ' Transport Step:   58   Step Size:   180.0     Total Elapsed Time:   51840.    ',\n",
       "  ' Outer Iter.  1  Inner Iter.  1:  Max. DC =   0.000      [K,I,J]    1    1    1',\n",
       "  ' Outer Iter.  2  Inner Iter.  1:  Max. DC =   0.000      [K,I,J]    1    1    1',\n",
       "  ' Transport Step:   59   Step Size:   180.0     Total Elapsed Time:   52020.    ',\n",
       "  ' Outer Iter.  1  Inner Iter.  1:  Max. DC =   0.000      [K,I,J]    1    1    1',\n",
       "  ' Outer Iter.  2  Inner Iter.  1:  Max. DC =   0.000      [K,I,J]    1    1    1',\n",
       "  ' Transport Step:   60   Step Size:   180.0     Total Elapsed Time:   52200.    ',\n",
       "  ' Outer Iter.  1  Inner Iter.  1:  Max. DC =   0.000      [K,I,J]    1    1    1',\n",
       "  ' Outer Iter.  2  Inner Iter.  1:  Max. DC =   0.000      [K,I,J]    1    1    1',\n",
       "  ' Transport Step:   61   Step Size:   180.0     Total Elapsed Time:   52380.    ',\n",
       "  ' Outer Iter.  1  Inner Iter.  1:  Max. DC =   0.000      [K,I,J]    1    1    1',\n",
       "  ' Outer Iter.  2  Inner Iter.  1:  Max. DC =   0.000      [K,I,J]    1    1    1',\n",
       "  ' Transport Step:   62   Step Size:   180.0     Total Elapsed Time:   52560.    ',\n",
       "  ' Outer Iter.  1  Inner Iter.  1:  Max. DC =   0.000      [K,I,J]    1    1    1',\n",
       "  ' Outer Iter.  2  Inner Iter.  1:  Max. DC =   0.000      [K,I,J]    1    1    1',\n",
       "  ' Transport Step:   63   Step Size:   180.0     Total Elapsed Time:   52740.    ',\n",
       "  ' Outer Iter.  1  Inner Iter.  1:  Max. DC =   0.000      [K,I,J]    1    1    1',\n",
       "  ' Outer Iter.  2  Inner Iter.  1:  Max. DC =   0.000      [K,I,J]    1    1    1',\n",
       "  ' Transport Step:   64   Step Size:   180.0     Total Elapsed Time:   52920.    ',\n",
       "  ' Outer Iter.  1  Inner Iter.  1:  Max. DC =   0.000      [K,I,J]    1    1    1',\n",
       "  ' Outer Iter.  2  Inner Iter.  1:  Max. DC =   0.000      [K,I,J]    1    1    1',\n",
       "  ' Transport Step:   65   Step Size:   180.0     Total Elapsed Time:   53100.    ',\n",
       "  ' Outer Iter.  1  Inner Iter.  1:  Max. DC =   0.000      [K,I,J]    1    1    1',\n",
       "  ' Outer Iter.  2  Inner Iter.  1:  Max. DC =   0.000      [K,I,J]    1    1    1',\n",
       "  ' Transport Step:   66   Step Size:   180.0     Total Elapsed Time:   53280.    ',\n",
       "  ' Outer Iter.  1  Inner Iter.  1:  Max. DC =   0.000      [K,I,J]    1    1    1',\n",
       "  ' Outer Iter.  2  Inner Iter.  1:  Max. DC =   0.000      [K,I,J]    1    1    1',\n",
       "  ' Transport Step:   67   Step Size:   180.0     Total Elapsed Time:   53460.    ',\n",
       "  ' Outer Iter.  1  Inner Iter.  1:  Max. DC =   0.000      [K,I,J]    1    1    1',\n",
       "  ' Outer Iter.  2  Inner Iter.  1:  Max. DC =   0.000      [K,I,J]    1    1    1',\n",
       "  ' Transport Step:   68   Step Size:   180.0     Total Elapsed Time:   53640.    ',\n",
       "  ' Outer Iter.  1  Inner Iter.  1:  Max. DC =   0.000      [K,I,J]    1    1    1',\n",
       "  ' Outer Iter.  2  Inner Iter.  1:  Max. DC =   0.000      [K,I,J]    1    1    1',\n",
       "  ' Transport Step:   69   Step Size:   180.0     Total Elapsed Time:   53820.    ',\n",
       "  ' Outer Iter.  1  Inner Iter.  1:  Max. DC =   0.000      [K,I,J]    1    1    1',\n",
       "  ' Outer Iter.  2  Inner Iter.  1:  Max. DC =   0.000      [K,I,J]    1    1    1',\n",
       "  ' Transport Step:   70   Step Size:   180.0     Total Elapsed Time:   54000.    ',\n",
       "  ' Outer Iter.  1  Inner Iter.  1:  Max. DC =   0.000      [K,I,J]    1    1    1',\n",
       "  ' Outer Iter.  2  Inner Iter.  1:  Max. DC =   0.000      [K,I,J]    1    1    1',\n",
       "  ' Transport Step:   71   Step Size:   180.0     Total Elapsed Time:   54180.    ',\n",
       "  ' Outer Iter.  1  Inner Iter.  1:  Max. DC =   0.000      [K,I,J]    1    1    1',\n",
       "  ' Outer Iter.  2  Inner Iter.  1:  Max. DC =   0.000      [K,I,J]    1    1    1',\n",
       "  ' Transport Step:   72   Step Size:   180.0     Total Elapsed Time:   54360.    ',\n",
       "  ' Outer Iter.  1  Inner Iter.  1:  Max. DC =   0.000      [K,I,J]    1    1    1',\n",
       "  ' Outer Iter.  2  Inner Iter.  1:  Max. DC =   0.000      [K,I,J]    1    1    1',\n",
       "  ' Transport Step:   73   Step Size:   180.0     Total Elapsed Time:   54540.    ',\n",
       "  ' Outer Iter.  1  Inner Iter.  1:  Max. DC =   0.000      [K,I,J]    1    1    1',\n",
       "  ' Outer Iter.  2  Inner Iter.  1:  Max. DC =   0.000      [K,I,J]    1    1    1',\n",
       "  ' Transport Step:   74   Step Size:   180.0     Total Elapsed Time:   54720.    ',\n",
       "  ' Outer Iter.  1  Inner Iter.  1:  Max. DC =   0.000      [K,I,J]    1    1    1',\n",
       "  ' Outer Iter.  2  Inner Iter.  1:  Max. DC =   0.000      [K,I,J]    1    1    1',\n",
       "  ' Transport Step:   75   Step Size:   180.0     Total Elapsed Time:   54900.    ',\n",
       "  ' Outer Iter.  1  Inner Iter.  1:  Max. DC =   0.000      [K,I,J]    1    1    1',\n",
       "  ' Outer Iter.  2  Inner Iter.  1:  Max. DC =   0.000      [K,I,J]    1    1    1',\n",
       "  ' Transport Step:   76   Step Size:   180.0     Total Elapsed Time:   55080.    ',\n",
       "  ' Outer Iter.  1  Inner Iter.  1:  Max. DC =   0.000      [K,I,J]    1    1    1',\n",
       "  ' Outer Iter.  2  Inner Iter.  1:  Max. DC =   0.000      [K,I,J]    1    1    1',\n",
       "  ' Transport Step:   77   Step Size:   180.0     Total Elapsed Time:   55260.    ',\n",
       "  ' Outer Iter.  1  Inner Iter.  1:  Max. DC =   0.000      [K,I,J]    1    1    1',\n",
       "  ' Outer Iter.  2  Inner Iter.  1:  Max. DC =   0.000      [K,I,J]    1    1    1',\n",
       "  ' Transport Step:   78   Step Size:   180.0     Total Elapsed Time:   55440.    ',\n",
       "  ' Outer Iter.  1  Inner Iter.  1:  Max. DC =   0.000      [K,I,J]    1    1    1',\n",
       "  ' Outer Iter.  2  Inner Iter.  1:  Max. DC =   0.000      [K,I,J]    1    1    1',\n",
       "  ' Transport Step:   79   Step Size:   180.0     Total Elapsed Time:   55620.    ',\n",
       "  ' Outer Iter.  1  Inner Iter.  1:  Max. DC =   0.000      [K,I,J]    1    1    1',\n",
       "  ' Outer Iter.  2  Inner Iter.  1:  Max. DC =   0.000      [K,I,J]    1    1    1',\n",
       "  ' Transport Step:   80   Step Size:   180.0     Total Elapsed Time:   55800.    ',\n",
       "  ' Outer Iter.  1  Inner Iter.  1:  Max. DC =   0.000      [K,I,J]    1    1    1',\n",
       "  ' Outer Iter.  2  Inner Iter.  1:  Max. DC =   0.000      [K,I,J]    1    1    1',\n",
       "  ' Transport Step:   81   Step Size:   180.0     Total Elapsed Time:   55980.    ',\n",
       "  ' Outer Iter.  1  Inner Iter.  1:  Max. DC =   0.000      [K,I,J]    1    1    1',\n",
       "  ' Outer Iter.  2  Inner Iter.  1:  Max. DC =   0.000      [K,I,J]    1    1    1',\n",
       "  ' Transport Step:   82   Step Size:   180.0     Total Elapsed Time:   56160.    ',\n",
       "  ' Outer Iter.  1  Inner Iter.  1:  Max. DC =   0.000      [K,I,J]    1    1    1',\n",
       "  ' Outer Iter.  2  Inner Iter.  1:  Max. DC =   0.000      [K,I,J]    1    1    1',\n",
       "  ' Transport Step:   83   Step Size:   180.0     Total Elapsed Time:   56340.    ',\n",
       "  ' Outer Iter.  1  Inner Iter.  1:  Max. DC =   0.000      [K,I,J]    1    1    1',\n",
       "  ' Outer Iter.  2  Inner Iter.  1:  Max. DC =   0.000      [K,I,J]    1    1    1',\n",
       "  ' Transport Step:   84   Step Size:   180.0     Total Elapsed Time:   56520.    ',\n",
       "  ' Outer Iter.  1  Inner Iter.  1:  Max. DC =   0.000      [K,I,J]    1    1    1',\n",
       "  ' Outer Iter.  2  Inner Iter.  1:  Max. DC =   0.000      [K,I,J]    1    1    1',\n",
       "  ' Transport Step:   85   Step Size:   180.0     Total Elapsed Time:   56700.    ',\n",
       "  ' Outer Iter.  1  Inner Iter.  1:  Max. DC =   0.000      [K,I,J]    1    1    1',\n",
       "  ' Outer Iter.  2  Inner Iter.  1:  Max. DC =   0.000      [K,I,J]    1    1    1',\n",
       "  ' Transport Step:   86   Step Size:   180.0     Total Elapsed Time:   56880.    ',\n",
       "  ' Outer Iter.  1  Inner Iter.  1:  Max. DC =   0.000      [K,I,J]    1    1    1',\n",
       "  ' Outer Iter.  2  Inner Iter.  1:  Max. DC =   0.000      [K,I,J]    1    1    1',\n",
       "  ' Transport Step:   87   Step Size:   180.0     Total Elapsed Time:   57060.    ',\n",
       "  ' Outer Iter.  1  Inner Iter.  1:  Max. DC =   0.000      [K,I,J]    1    1    1',\n",
       "  ' Outer Iter.  2  Inner Iter.  1:  Max. DC =   0.000      [K,I,J]    1    1    1',\n",
       "  ' Transport Step:   88   Step Size:   180.0     Total Elapsed Time:   57240.    ',\n",
       "  ' Outer Iter.  1  Inner Iter.  1:  Max. DC =   0.000      [K,I,J]    1    1    1',\n",
       "  ' Outer Iter.  2  Inner Iter.  1:  Max. DC =   0.000      [K,I,J]    1    1    1',\n",
       "  ' Transport Step:   89   Step Size:   180.0     Total Elapsed Time:   57420.    ',\n",
       "  ' Outer Iter.  1  Inner Iter.  1:  Max. DC =   0.000      [K,I,J]    1    1    1',\n",
       "  ' Outer Iter.  2  Inner Iter.  1:  Max. DC =   0.000      [K,I,J]    1    1    1',\n",
       "  ' Transport Step:   90   Step Size:   180.0     Total Elapsed Time:   57600.    ',\n",
       "  ' Outer Iter.  1  Inner Iter.  1:  Max. DC =   0.000      [K,I,J]    1    1    1',\n",
       "  ' Outer Iter.  2  Inner Iter.  1:  Max. DC =   0.000      [K,I,J]    1    1    1',\n",
       "  ' Transport Step:   91   Step Size:   180.0     Total Elapsed Time:   57780.    ',\n",
       "  ' Outer Iter.  1  Inner Iter.  1:  Max. DC =   0.000      [K,I,J]    1    1    1',\n",
       "  ' Outer Iter.  2  Inner Iter.  1:  Max. DC =   0.000      [K,I,J]    1    1    1',\n",
       "  ' Transport Step:   92   Step Size:   180.0     Total Elapsed Time:   57960.    ',\n",
       "  ' Outer Iter.  1  Inner Iter.  1:  Max. DC =   0.000      [K,I,J]    1    1    1',\n",
       "  ' Outer Iter.  2  Inner Iter.  1:  Max. DC =   0.000      [K,I,J]    1    1    1',\n",
       "  ' Transport Step:   93   Step Size:   180.0     Total Elapsed Time:   58140.    ',\n",
       "  ' Outer Iter.  1  Inner Iter.  1:  Max. DC =   0.000      [K,I,J]    1    1    1',\n",
       "  ' Outer Iter.  2  Inner Iter.  1:  Max. DC =   0.000      [K,I,J]    1    1    1',\n",
       "  ...])"
      ]
     },
     "execution_count": 20,
     "metadata": {},
     "output_type": "execute_result"
    }
   ],
   "source": [
    "mt.write_input()\n",
    "mt.run_model(silent=True, report=True)"
   ]
  },
  {
   "cell_type": "markdown",
   "metadata": {},
   "source": [
    "# Compare mt3d-usgs results to an analytical solution"
   ]
  },
  {
   "cell_type": "code",
   "execution_count": 21,
   "metadata": {
    "execution": {
     "iopub.execute_input": "2023-02-22T02:41:47.516628Z",
     "iopub.status.busy": "2023-02-22T02:41:47.516077Z",
     "iopub.status.idle": "2023-02-22T02:41:47.523809Z",
     "shell.execute_reply": "2023-02-22T02:41:47.523110Z"
    }
   },
   "outputs": [],
   "source": [
    "# Define a function to read SFT output file\n",
    "def load_ts_from_SFT_output(fname, nd=1):\n",
    "    f = open(fname, \"r\")\n",
    "    iline = 0\n",
    "    lst = []\n",
    "    for line in f:\n",
    "        if line.strip().split()[0].replace(\".\", \"\", 1).isdigit():\n",
    "            l = line.strip().split()\n",
    "            t = float(l[0])\n",
    "            loc = int(l[1])\n",
    "            conc = float(l[2])\n",
    "            if loc == nd:\n",
    "                lst.append([t, conc])\n",
    "\n",
    "    ts = np.array(lst)\n",
    "    f.close()\n",
    "    return ts\n",
    "\n",
    "\n",
    "# Also define a function to read OTIS output file\n",
    "def load_ts_from_otis(fname, iobs=1):\n",
    "    f = open(fname, \"r\")\n",
    "    iline = 0\n",
    "    lst = []\n",
    "    for line in f:\n",
    "        l = line.strip().split()\n",
    "        t = float(l[0])\n",
    "        val = float(l[iobs])\n",
    "        lst.append([t, val])\n",
    "\n",
    "    ts = np.array(lst)\n",
    "    f.close()\n",
    "    return ts"
   ]
  },
  {
   "cell_type": "markdown",
   "metadata": {},
   "source": [
    "Load output from SFT as well as from the OTIS solution"
   ]
  },
  {
   "cell_type": "code",
   "execution_count": 22,
   "metadata": {
    "execution": {
     "iopub.execute_input": "2023-02-22T02:41:47.527107Z",
     "iopub.status.busy": "2023-02-22T02:41:47.526734Z",
     "iopub.status.idle": "2023-02-22T02:41:47.565450Z",
     "shell.execute_reply": "2023-02-22T02:41:47.564142Z"
    }
   },
   "outputs": [],
   "source": [
    "# Model output\n",
    "fname_SFTout = os.path.join(modelpth, \"CrnkNic.sftcobs.out\")\n",
    "\n",
    "# Loading MT3D-USGS output\n",
    "ts1_mt3d = load_ts_from_SFT_output(fname_SFTout, nd=38)\n",
    "ts2_mt3d = load_ts_from_SFT_output(fname_SFTout, nd=105)\n",
    "ts3_mt3d = load_ts_from_SFT_output(fname_SFTout, nd=281)\n",
    "ts4_mt3d = load_ts_from_SFT_output(fname_SFTout, nd=433)\n",
    "ts5_mt3d = load_ts_from_SFT_output(fname_SFTout, nd=619)\n",
    "\n",
    "# OTIS results located here\n",
    "fname_OTIS = os.path.join(\n",
    "    \"..\",\n",
    "    \"data\",\n",
    "    \"mt3d_test\",\n",
    "    \"mfnwt_mt3dusgs\",\n",
    "    \"sft_crnkNic\",\n",
    "    \"OTIS_solution.out\",\n",
    ")\n",
    "\n",
    "# Loading OTIS output\n",
    "ts1_Otis = load_ts_from_otis(fname_OTIS, 1)\n",
    "ts2_Otis = load_ts_from_otis(fname_OTIS, 2)\n",
    "ts3_Otis = load_ts_from_otis(fname_OTIS, 3)\n",
    "ts4_Otis = load_ts_from_otis(fname_OTIS, 4)\n",
    "ts5_Otis = load_ts_from_otis(fname_OTIS, 5)"
   ]
  },
  {
   "cell_type": "markdown",
   "metadata": {},
   "source": [
    "Set up some plotting functions"
   ]
  },
  {
   "cell_type": "code",
   "execution_count": 23,
   "metadata": {
    "execution": {
     "iopub.execute_input": "2023-02-22T02:41:47.570087Z",
     "iopub.status.busy": "2023-02-22T02:41:47.569660Z",
     "iopub.status.idle": "2023-02-22T02:41:47.580226Z",
     "shell.execute_reply": "2023-02-22T02:41:47.579409Z"
    }
   },
   "outputs": [],
   "source": [
    "def set_plot_params():\n",
    "    import matplotlib as mpl\n",
    "    from matplotlib.font_manager import FontProperties\n",
    "\n",
    "    mpl.rcParams[\"font.sans-serif\"] = \"Arial\"\n",
    "    mpl.rcParams[\"font.serif\"] = \"Times\"\n",
    "    mpl.rcParams[\"font.cursive\"] = \"Zapf Chancery\"\n",
    "    mpl.rcParams[\"font.fantasy\"] = \"Comic Sans MS\"\n",
    "    mpl.rcParams[\"font.monospace\"] = \"Courier New\"\n",
    "    mpl.rcParams[\"pdf.compression\"] = 0\n",
    "    mpl.rcParams[\"pdf.fonttype\"] = 42\n",
    "\n",
    "    ticksize = 10\n",
    "    mpl.rcParams[\"legend.fontsize\"] = 7\n",
    "    mpl.rcParams[\"axes.labelsize\"] = 12\n",
    "    mpl.rcParams[\"xtick.labelsize\"] = ticksize\n",
    "    mpl.rcParams[\"ytick.labelsize\"] = ticksize\n",
    "    return\n",
    "\n",
    "\n",
    "def set_sizexaxis(a, fmt, sz):\n",
    "    success = 0\n",
    "    x = a.get_xticks()\n",
    "    #   print x\n",
    "    xc = np.chararray(len(x), itemsize=16)\n",
    "    for i in range(0, len(x)):\n",
    "        text = fmt % (x[i])\n",
    "        xc[i] = string.strip(string.ljust(text, 16))\n",
    "    #   print xc\n",
    "    a.set_xticklabels(xc, size=sz)\n",
    "    success = 1\n",
    "    return success\n",
    "\n",
    "\n",
    "def set_sizeyaxis(a, fmt, sz):\n",
    "    success = 0\n",
    "    y = a.get_yticks()\n",
    "    #   print y\n",
    "    yc = np.chararray(len(y), itemsize=16)\n",
    "    for i in range(0, len(y)):\n",
    "        text = fmt % (y[i])\n",
    "        yc[i] = string.strip(string.ljust(text, 16))\n",
    "    #   print yc\n",
    "    a.set_yticklabels(yc, size=sz)\n",
    "    success = 1\n",
    "    return success"
   ]
  },
  {
   "cell_type": "markdown",
   "metadata": {},
   "source": [
    "Compare output:"
   ]
  },
  {
   "cell_type": "code",
   "execution_count": 24,
   "metadata": {
    "execution": {
     "iopub.execute_input": "2023-02-22T02:41:47.584918Z",
     "iopub.status.busy": "2023-02-22T02:41:47.584487Z",
     "iopub.status.idle": "2023-02-22T02:41:48.086048Z",
     "shell.execute_reply": "2023-02-22T02:41:48.085161Z"
    }
   },
   "outputs": [
    {
     "name": "stderr",
     "output_type": "stream",
     "text": [
      "findfont: Generic family 'sans-serif' not found because none of the following families were found: Arial\n"
     ]
    },
    {
     "name": "stderr",
     "output_type": "stream",
     "text": [
      "findfont: Generic family 'sans-serif' not found because none of the following families were found: Arial\n"
     ]
    },
    {
     "name": "stderr",
     "output_type": "stream",
     "text": [
      "findfont: Generic family 'sans-serif' not found because none of the following families were found: Arial\n"
     ]
    },
    {
     "name": "stderr",
     "output_type": "stream",
     "text": [
      "findfont: Generic family 'sans-serif' not found because none of the following families were found: Arial\n"
     ]
    },
    {
     "name": "stderr",
     "output_type": "stream",
     "text": [
      "findfont: Generic family 'sans-serif' not found because none of the following families were found: Arial\n"
     ]
    },
    {
     "name": "stderr",
     "output_type": "stream",
     "text": [
      "findfont: Generic family 'sans-serif' not found because none of the following families were found: Arial\n"
     ]
    },
    {
     "name": "stderr",
     "output_type": "stream",
     "text": [
      "findfont: Generic family 'sans-serif' not found because none of the following families were found: Arial\n"
     ]
    },
    {
     "name": "stderr",
     "output_type": "stream",
     "text": [
      "findfont: Generic family 'sans-serif' not found because none of the following families were found: Arial\n"
     ]
    },
    {
     "name": "stderr",
     "output_type": "stream",
     "text": [
      "findfont: Generic family 'sans-serif' not found because none of the following families were found: Arial\n"
     ]
    },
    {
     "name": "stderr",
     "output_type": "stream",
     "text": [
      "findfont: Generic family 'sans-serif' not found because none of the following families were found: Arial\n"
     ]
    },
    {
     "name": "stderr",
     "output_type": "stream",
     "text": [
      "findfont: Generic family 'sans-serif' not found because none of the following families were found: Arial\n"
     ]
    },
    {
     "name": "stderr",
     "output_type": "stream",
     "text": [
      "findfont: Generic family 'sans-serif' not found because none of the following families were found: Arial\n"
     ]
    },
    {
     "name": "stderr",
     "output_type": "stream",
     "text": [
      "findfont: Generic family 'sans-serif' not found because none of the following families were found: Arial\n"
     ]
    },
    {
     "name": "stderr",
     "output_type": "stream",
     "text": [
      "findfont: Generic family 'sans-serif' not found because none of the following families were found: Arial\n"
     ]
    },
    {
     "name": "stderr",
     "output_type": "stream",
     "text": [
      "findfont: Generic family 'sans-serif' not found because none of the following families were found: Arial\n"
     ]
    },
    {
     "name": "stderr",
     "output_type": "stream",
     "text": [
      "findfont: Generic family 'sans-serif' not found because none of the following families were found: Arial\n"
     ]
    },
    {
     "name": "stderr",
     "output_type": "stream",
     "text": [
      "findfont: Generic family 'sans-serif' not found because none of the following families were found: Arial\n"
     ]
    },
    {
     "name": "stderr",
     "output_type": "stream",
     "text": [
      "findfont: Generic family 'sans-serif' not found because none of the following families were found: Arial\n"
     ]
    },
    {
     "name": "stderr",
     "output_type": "stream",
     "text": [
      "findfont: Generic family 'sans-serif' not found because none of the following families were found: Arial\n"
     ]
    },
    {
     "name": "stderr",
     "output_type": "stream",
     "text": [
      "findfont: Generic family 'sans-serif' not found because none of the following families were found: Arial\n"
     ]
    },
    {
     "name": "stderr",
     "output_type": "stream",
     "text": [
      "findfont: Generic family 'sans-serif' not found because none of the following families were found: Arial\n"
     ]
    },
    {
     "name": "stderr",
     "output_type": "stream",
     "text": [
      "findfont: Generic family 'sans-serif' not found because none of the following families were found: Arial\n"
     ]
    },
    {
     "name": "stderr",
     "output_type": "stream",
     "text": [
      "findfont: Generic family 'sans-serif' not found because none of the following families were found: Arial\n"
     ]
    },
    {
     "name": "stderr",
     "output_type": "stream",
     "text": [
      "findfont: Generic family 'sans-serif' not found because none of the following families were found: Arial\n"
     ]
    },
    {
     "name": "stderr",
     "output_type": "stream",
     "text": [
      "findfont: Generic family 'sans-serif' not found because none of the following families were found: Arial\n"
     ]
    },
    {
     "name": "stderr",
     "output_type": "stream",
     "text": [
      "findfont: Generic family 'sans-serif' not found because none of the following families were found: Arial\n"
     ]
    },
    {
     "name": "stderr",
     "output_type": "stream",
     "text": [
      "findfont: Generic family 'sans-serif' not found because none of the following families were found: Arial\n"
     ]
    },
    {
     "name": "stderr",
     "output_type": "stream",
     "text": [
      "findfont: Generic family 'sans-serif' not found because none of the following families were found: Arial\n"
     ]
    },
    {
     "name": "stderr",
     "output_type": "stream",
     "text": [
      "findfont: Generic family 'sans-serif' not found because none of the following families were found: Arial\n"
     ]
    },
    {
     "name": "stderr",
     "output_type": "stream",
     "text": [
      "findfont: Generic family 'sans-serif' not found because none of the following families were found: Arial\n"
     ]
    },
    {
     "name": "stderr",
     "output_type": "stream",
     "text": [
      "findfont: Generic family 'sans-serif' not found because none of the following families were found: Arial\n"
     ]
    },
    {
     "name": "stderr",
     "output_type": "stream",
     "text": [
      "findfont: Generic family 'sans-serif' not found because none of the following families were found: Arial\n"
     ]
    },
    {
     "name": "stderr",
     "output_type": "stream",
     "text": [
      "findfont: Generic family 'sans-serif' not found because none of the following families were found: Arial\n"
     ]
    },
    {
     "name": "stderr",
     "output_type": "stream",
     "text": [
      "findfont: Generic family 'sans-serif' not found because none of the following families were found: Arial\n"
     ]
    },
    {
     "name": "stderr",
     "output_type": "stream",
     "text": [
      "findfont: Generic family 'sans-serif' not found because none of the following families were found: Arial\n"
     ]
    },
    {
     "name": "stderr",
     "output_type": "stream",
     "text": [
      "findfont: Generic family 'sans-serif' not found because none of the following families were found: Arial\n"
     ]
    },
    {
     "name": "stderr",
     "output_type": "stream",
     "text": [
      "findfont: Generic family 'sans-serif' not found because none of the following families were found: Arial\n"
     ]
    },
    {
     "name": "stderr",
     "output_type": "stream",
     "text": [
      "findfont: Generic family 'sans-serif' not found because none of the following families were found: Arial\n"
     ]
    },
    {
     "name": "stderr",
     "output_type": "stream",
     "text": [
      "findfont: Generic family 'sans-serif' not found because none of the following families were found: Arial\n"
     ]
    },
    {
     "name": "stderr",
     "output_type": "stream",
     "text": [
      "findfont: Generic family 'sans-serif' not found because none of the following families were found: Arial\n"
     ]
    },
    {
     "name": "stderr",
     "output_type": "stream",
     "text": [
      "findfont: Generic family 'sans-serif' not found because none of the following families were found: Arial\n"
     ]
    },
    {
     "name": "stderr",
     "output_type": "stream",
     "text": [
      "findfont: Generic family 'sans-serif' not found because none of the following families were found: Arial\n"
     ]
    },
    {
     "name": "stderr",
     "output_type": "stream",
     "text": [
      "findfont: Generic family 'sans-serif' not found because none of the following families were found: Arial\n"
     ]
    },
    {
     "name": "stderr",
     "output_type": "stream",
     "text": [
      "findfont: Generic family 'sans-serif' not found because none of the following families were found: Arial\n"
     ]
    },
    {
     "name": "stderr",
     "output_type": "stream",
     "text": [
      "findfont: Generic family 'sans-serif' not found because none of the following families were found: Arial\n"
     ]
    },
    {
     "name": "stderr",
     "output_type": "stream",
     "text": [
      "findfont: Generic family 'sans-serif' not found because none of the following families were found: Arial\n"
     ]
    },
    {
     "name": "stderr",
     "output_type": "stream",
     "text": [
      "findfont: Generic family 'sans-serif' not found because none of the following families were found: Arial\n"
     ]
    },
    {
     "name": "stderr",
     "output_type": "stream",
     "text": [
      "findfont: Generic family 'sans-serif' not found because none of the following families were found: Arial\n"
     ]
    },
    {
     "name": "stderr",
     "output_type": "stream",
     "text": [
      "findfont: Generic family 'sans-serif' not found because none of the following families were found: Arial\n"
     ]
    },
    {
     "name": "stderr",
     "output_type": "stream",
     "text": [
      "findfont: Generic family 'sans-serif' not found because none of the following families were found: Arial\n"
     ]
    },
    {
     "name": "stderr",
     "output_type": "stream",
     "text": [
      "findfont: Generic family 'sans-serif' not found because none of the following families were found: Arial\n"
     ]
    },
    {
     "name": "stderr",
     "output_type": "stream",
     "text": [
      "findfont: Generic family 'sans-serif' not found because none of the following families were found: Arial\n"
     ]
    },
    {
     "name": "stderr",
     "output_type": "stream",
     "text": [
      "findfont: Generic family 'sans-serif' not found because none of the following families were found: Arial\n"
     ]
    },
    {
     "name": "stderr",
     "output_type": "stream",
     "text": [
      "findfont: Generic family 'sans-serif' not found because none of the following families were found: Arial\n"
     ]
    },
    {
     "name": "stderr",
     "output_type": "stream",
     "text": [
      "findfont: Generic family 'sans-serif' not found because none of the following families were found: Arial\n"
     ]
    },
    {
     "name": "stderr",
     "output_type": "stream",
     "text": [
      "findfont: Generic family 'sans-serif' not found because none of the following families were found: Arial\n"
     ]
    },
    {
     "name": "stderr",
     "output_type": "stream",
     "text": [
      "findfont: Generic family 'sans-serif' not found because none of the following families were found: Arial\n"
     ]
    },
    {
     "name": "stderr",
     "output_type": "stream",
     "text": [
      "findfont: Generic family 'sans-serif' not found because none of the following families were found: Arial\n"
     ]
    },
    {
     "name": "stderr",
     "output_type": "stream",
     "text": [
      "findfont: Generic family 'sans-serif' not found because none of the following families were found: Arial\n"
     ]
    },
    {
     "name": "stderr",
     "output_type": "stream",
     "text": [
      "findfont: Generic family 'sans-serif' not found because none of the following families were found: Arial\n"
     ]
    },
    {
     "name": "stderr",
     "output_type": "stream",
     "text": [
      "findfont: Generic family 'sans-serif' not found because none of the following families were found: Arial\n"
     ]
    },
    {
     "name": "stderr",
     "output_type": "stream",
     "text": [
      "findfont: Generic family 'sans-serif' not found because none of the following families were found: Arial\n"
     ]
    },
    {
     "name": "stderr",
     "output_type": "stream",
     "text": [
      "findfont: Generic family 'sans-serif' not found because none of the following families were found: Arial\n"
     ]
    },
    {
     "name": "stderr",
     "output_type": "stream",
     "text": [
      "findfont: Generic family 'sans-serif' not found because none of the following families were found: Arial\n"
     ]
    },
    {
     "name": "stderr",
     "output_type": "stream",
     "text": [
      "findfont: Generic family 'sans-serif' not found because none of the following families were found: Arial\n"
     ]
    },
    {
     "name": "stderr",
     "output_type": "stream",
     "text": [
      "findfont: Generic family 'sans-serif' not found because none of the following families were found: Arial\n"
     ]
    },
    {
     "name": "stderr",
     "output_type": "stream",
     "text": [
      "findfont: Generic family 'sans-serif' not found because none of the following families were found: Arial\n"
     ]
    },
    {
     "name": "stderr",
     "output_type": "stream",
     "text": [
      "findfont: Generic family 'sans-serif' not found because none of the following families were found: Arial\n"
     ]
    },
    {
     "name": "stderr",
     "output_type": "stream",
     "text": [
      "findfont: Generic family 'sans-serif' not found because none of the following families were found: Arial\n"
     ]
    },
    {
     "name": "stderr",
     "output_type": "stream",
     "text": [
      "findfont: Generic family 'sans-serif' not found because none of the following families were found: Arial\n"
     ]
    },
    {
     "name": "stderr",
     "output_type": "stream",
     "text": [
      "findfont: Generic family 'sans-serif' not found because none of the following families were found: Arial\n"
     ]
    },
    {
     "name": "stderr",
     "output_type": "stream",
     "text": [
      "findfont: Generic family 'sans-serif' not found because none of the following families were found: Arial\n"
     ]
    },
    {
     "name": "stderr",
     "output_type": "stream",
     "text": [
      "findfont: Generic family 'sans-serif' not found because none of the following families were found: Arial\n"
     ]
    },
    {
     "name": "stderr",
     "output_type": "stream",
     "text": [
      "findfont: Generic family 'sans-serif' not found because none of the following families were found: Arial\n"
     ]
    },
    {
     "name": "stderr",
     "output_type": "stream",
     "text": [
      "findfont: Generic family 'sans-serif' not found because none of the following families were found: Arial\n"
     ]
    },
    {
     "name": "stderr",
     "output_type": "stream",
     "text": [
      "findfont: Generic family 'sans-serif' not found because none of the following families were found: Arial\n"
     ]
    },
    {
     "name": "stderr",
     "output_type": "stream",
     "text": [
      "findfont: Generic family 'sans-serif' not found because none of the following families were found: Arial\n"
     ]
    },
    {
     "name": "stderr",
     "output_type": "stream",
     "text": [
      "findfont: Generic family 'sans-serif' not found because none of the following families were found: Arial\n"
     ]
    },
    {
     "name": "stderr",
     "output_type": "stream",
     "text": [
      "findfont: Generic family 'sans-serif' not found because none of the following families were found: Arial\n"
     ]
    },
    {
     "name": "stderr",
     "output_type": "stream",
     "text": [
      "findfont: Generic family 'sans-serif' not found because none of the following families were found: Arial\n"
     ]
    },
    {
     "name": "stderr",
     "output_type": "stream",
     "text": [
      "findfont: Generic family 'sans-serif' not found because none of the following families were found: Arial\n"
     ]
    },
    {
     "name": "stderr",
     "output_type": "stream",
     "text": [
      "findfont: Generic family 'sans-serif' not found because none of the following families were found: Arial\n"
     ]
    },
    {
     "name": "stderr",
     "output_type": "stream",
     "text": [
      "findfont: Generic family 'sans-serif' not found because none of the following families were found: Arial\n"
     ]
    },
    {
     "name": "stderr",
     "output_type": "stream",
     "text": [
      "findfont: Generic family 'sans-serif' not found because none of the following families were found: Arial\n"
     ]
    },
    {
     "name": "stderr",
     "output_type": "stream",
     "text": [
      "findfont: Generic family 'sans-serif' not found because none of the following families were found: Arial\n"
     ]
    },
    {
     "name": "stderr",
     "output_type": "stream",
     "text": [
      "findfont: Generic family 'sans-serif' not found because none of the following families were found: Arial\n"
     ]
    },
    {
     "name": "stderr",
     "output_type": "stream",
     "text": [
      "findfont: Generic family 'sans-serif' not found because none of the following families were found: Arial\n"
     ]
    },
    {
     "name": "stderr",
     "output_type": "stream",
     "text": [
      "findfont: Generic family 'sans-serif' not found because none of the following families were found: Arial\n"
     ]
    },
    {
     "name": "stderr",
     "output_type": "stream",
     "text": [
      "findfont: Generic family 'sans-serif' not found because none of the following families were found: Arial\n"
     ]
    },
    {
     "name": "stderr",
     "output_type": "stream",
     "text": [
      "findfont: Generic family 'sans-serif' not found because none of the following families were found: Arial\n"
     ]
    },
    {
     "name": "stderr",
     "output_type": "stream",
     "text": [
      "findfont: Generic family 'sans-serif' not found because none of the following families were found: Arial\n"
     ]
    },
    {
     "name": "stderr",
     "output_type": "stream",
     "text": [
      "findfont: Generic family 'sans-serif' not found because none of the following families were found: Arial\n"
     ]
    },
    {
     "name": "stderr",
     "output_type": "stream",
     "text": [
      "findfont: Generic family 'sans-serif' not found because none of the following families were found: Arial\n"
     ]
    },
    {
     "name": "stderr",
     "output_type": "stream",
     "text": [
      "findfont: Generic family 'sans-serif' not found because none of the following families were found: Arial\n"
     ]
    },
    {
     "name": "stderr",
     "output_type": "stream",
     "text": [
      "findfont: Generic family 'sans-serif' not found because none of the following families were found: Arial\n"
     ]
    },
    {
     "name": "stderr",
     "output_type": "stream",
     "text": [
      "findfont: Generic family 'sans-serif' not found because none of the following families were found: Arial\n"
     ]
    },
    {
     "name": "stderr",
     "output_type": "stream",
     "text": [
      "findfont: Generic family 'sans-serif' not found because none of the following families were found: Arial\n"
     ]
    },
    {
     "name": "stderr",
     "output_type": "stream",
     "text": [
      "findfont: Generic family 'sans-serif' not found because none of the following families were found: Arial\n"
     ]
    },
    {
     "name": "stderr",
     "output_type": "stream",
     "text": [
      "findfont: Generic family 'sans-serif' not found because none of the following families were found: Arial\n"
     ]
    },
    {
     "name": "stderr",
     "output_type": "stream",
     "text": [
      "findfont: Generic family 'sans-serif' not found because none of the following families were found: Arial\n"
     ]
    },
    {
     "name": "stderr",
     "output_type": "stream",
     "text": [
      "findfont: Generic family 'sans-serif' not found because none of the following families were found: Arial\n"
     ]
    },
    {
     "name": "stderr",
     "output_type": "stream",
     "text": [
      "findfont: Generic family 'sans-serif' not found because none of the following families were found: Arial\n"
     ]
    },
    {
     "name": "stderr",
     "output_type": "stream",
     "text": [
      "findfont: Generic family 'sans-serif' not found because none of the following families were found: Arial\n"
     ]
    },
    {
     "name": "stderr",
     "output_type": "stream",
     "text": [
      "findfont: Generic family 'sans-serif' not found because none of the following families were found: Arial\n"
     ]
    },
    {
     "name": "stderr",
     "output_type": "stream",
     "text": [
      "findfont: Generic family 'sans-serif' not found because none of the following families were found: Arial\n"
     ]
    },
    {
     "name": "stderr",
     "output_type": "stream",
     "text": [
      "findfont: Generic family 'sans-serif' not found because none of the following families were found: Arial\n"
     ]
    },
    {
     "name": "stderr",
     "output_type": "stream",
     "text": [
      "findfont: Generic family 'sans-serif' not found because none of the following families were found: Arial\n"
     ]
    },
    {
     "name": "stderr",
     "output_type": "stream",
     "text": [
      "findfont: Generic family 'sans-serif' not found because none of the following families were found: Arial\n"
     ]
    },
    {
     "name": "stderr",
     "output_type": "stream",
     "text": [
      "findfont: Generic family 'sans-serif' not found because none of the following families were found: Arial\n"
     ]
    },
    {
     "name": "stderr",
     "output_type": "stream",
     "text": [
      "findfont: Generic family 'sans-serif' not found because none of the following families were found: Arial\n"
     ]
    },
    {
     "name": "stderr",
     "output_type": "stream",
     "text": [
      "findfont: Generic family 'sans-serif' not found because none of the following families were found: Arial\n"
     ]
    },
    {
     "name": "stderr",
     "output_type": "stream",
     "text": [
      "findfont: Generic family 'sans-serif' not found because none of the following families were found: Arial\n"
     ]
    },
    {
     "name": "stderr",
     "output_type": "stream",
     "text": [
      "findfont: Generic family 'sans-serif' not found because none of the following families were found: Arial\n"
     ]
    },
    {
     "name": "stderr",
     "output_type": "stream",
     "text": [
      "findfont: Generic family 'sans-serif' not found because none of the following families were found: Arial\n"
     ]
    },
    {
     "name": "stderr",
     "output_type": "stream",
     "text": [
      "findfont: Generic family 'sans-serif' not found because none of the following families were found: Arial\n"
     ]
    },
    {
     "name": "stderr",
     "output_type": "stream",
     "text": [
      "findfont: Generic family 'sans-serif' not found because none of the following families were found: Arial\n"
     ]
    },
    {
     "name": "stderr",
     "output_type": "stream",
     "text": [
      "findfont: Generic family 'sans-serif' not found because none of the following families were found: Arial\n"
     ]
    },
    {
     "name": "stderr",
     "output_type": "stream",
     "text": [
      "findfont: Generic family 'sans-serif' not found because none of the following families were found: Arial\n"
     ]
    },
    {
     "name": "stderr",
     "output_type": "stream",
     "text": [
      "findfont: Generic family 'sans-serif' not found because none of the following families were found: Arial\n"
     ]
    },
    {
     "name": "stderr",
     "output_type": "stream",
     "text": [
      "findfont: Generic family 'sans-serif' not found because none of the following families were found: Arial\n"
     ]
    },
    {
     "name": "stderr",
     "output_type": "stream",
     "text": [
      "findfont: Generic family 'sans-serif' not found because none of the following families were found: Arial\n"
     ]
    },
    {
     "name": "stderr",
     "output_type": "stream",
     "text": [
      "findfont: Generic family 'sans-serif' not found because none of the following families were found: Arial\n"
     ]
    },
    {
     "name": "stderr",
     "output_type": "stream",
     "text": [
      "findfont: Generic family 'sans-serif' not found because none of the following families were found: Arial\n"
     ]
    },
    {
     "name": "stderr",
     "output_type": "stream",
     "text": [
      "findfont: Generic family 'sans-serif' not found because none of the following families were found: Arial\n"
     ]
    },
    {
     "name": "stderr",
     "output_type": "stream",
     "text": [
      "findfont: Generic family 'sans-serif' not found because none of the following families were found: Arial\n"
     ]
    },
    {
     "name": "stderr",
     "output_type": "stream",
     "text": [
      "findfont: Generic family 'sans-serif' not found because none of the following families were found: Arial\n"
     ]
    },
    {
     "name": "stderr",
     "output_type": "stream",
     "text": [
      "findfont: Generic family 'sans-serif' not found because none of the following families were found: Arial\n"
     ]
    },
    {
     "name": "stderr",
     "output_type": "stream",
     "text": [
      "findfont: Generic family 'sans-serif' not found because none of the following families were found: Arial\n"
     ]
    },
    {
     "name": "stderr",
     "output_type": "stream",
     "text": [
      "findfont: Generic family 'sans-serif' not found because none of the following families were found: Arial\n"
     ]
    },
    {
     "name": "stderr",
     "output_type": "stream",
     "text": [
      "findfont: Generic family 'sans-serif' not found because none of the following families were found: Arial\n"
     ]
    },
    {
     "name": "stderr",
     "output_type": "stream",
     "text": [
      "findfont: Generic family 'sans-serif' not found because none of the following families were found: Arial\n"
     ]
    },
    {
     "name": "stderr",
     "output_type": "stream",
     "text": [
      "findfont: Generic family 'sans-serif' not found because none of the following families were found: Arial\n"
     ]
    },
    {
     "name": "stderr",
     "output_type": "stream",
     "text": [
      "findfont: Generic family 'sans-serif' not found because none of the following families were found: Arial\n"
     ]
    },
    {
     "name": "stderr",
     "output_type": "stream",
     "text": [
      "findfont: Generic family 'sans-serif' not found because none of the following families were found: Arial\n"
     ]
    },
    {
     "name": "stderr",
     "output_type": "stream",
     "text": [
      "findfont: Generic family 'sans-serif' not found because none of the following families were found: Arial\n"
     ]
    },
    {
     "name": "stderr",
     "output_type": "stream",
     "text": [
      "findfont: Generic family 'sans-serif' not found because none of the following families were found: Arial\n"
     ]
    },
    {
     "name": "stderr",
     "output_type": "stream",
     "text": [
      "findfont: Generic family 'sans-serif' not found because none of the following families were found: Arial\n"
     ]
    },
    {
     "name": "stderr",
     "output_type": "stream",
     "text": [
      "findfont: Generic family 'sans-serif' not found because none of the following families were found: Arial\n"
     ]
    },
    {
     "name": "stderr",
     "output_type": "stream",
     "text": [
      "findfont: Generic family 'sans-serif' not found because none of the following families were found: Arial\n"
     ]
    },
    {
     "name": "stderr",
     "output_type": "stream",
     "text": [
      "findfont: Generic family 'sans-serif' not found because none of the following families were found: Arial\n"
     ]
    },
    {
     "name": "stderr",
     "output_type": "stream",
     "text": [
      "findfont: Generic family 'sans-serif' not found because none of the following families were found: Arial\n"
     ]
    },
    {
     "name": "stderr",
     "output_type": "stream",
     "text": [
      "findfont: Generic family 'sans-serif' not found because none of the following families were found: Arial\n"
     ]
    },
    {
     "name": "stderr",
     "output_type": "stream",
     "text": [
      "findfont: Generic family 'sans-serif' not found because none of the following families were found: Arial\n"
     ]
    },
    {
     "name": "stderr",
     "output_type": "stream",
     "text": [
      "findfont: Generic family 'sans-serif' not found because none of the following families were found: Arial\n"
     ]
    },
    {
     "name": "stderr",
     "output_type": "stream",
     "text": [
      "findfont: Generic family 'sans-serif' not found because none of the following families were found: Arial\n"
     ]
    },
    {
     "name": "stderr",
     "output_type": "stream",
     "text": [
      "findfont: Generic family 'sans-serif' not found because none of the following families were found: Arial\n"
     ]
    },
    {
     "name": "stderr",
     "output_type": "stream",
     "text": [
      "findfont: Generic family 'sans-serif' not found because none of the following families were found: Arial\n"
     ]
    },
    {
     "name": "stderr",
     "output_type": "stream",
     "text": [
      "findfont: Generic family 'sans-serif' not found because none of the following families were found: Arial\n"
     ]
    },
    {
     "name": "stderr",
     "output_type": "stream",
     "text": [
      "findfont: Generic family 'sans-serif' not found because none of the following families were found: Arial\n"
     ]
    },
    {
     "name": "stderr",
     "output_type": "stream",
     "text": [
      "findfont: Generic family 'sans-serif' not found because none of the following families were found: Arial\n"
     ]
    },
    {
     "name": "stderr",
     "output_type": "stream",
     "text": [
      "findfont: Generic family 'sans-serif' not found because none of the following families were found: Arial\n"
     ]
    },
    {
     "name": "stderr",
     "output_type": "stream",
     "text": [
      "findfont: Generic family 'sans-serif' not found because none of the following families were found: Arial\n"
     ]
    },
    {
     "name": "stderr",
     "output_type": "stream",
     "text": [
      "findfont: Generic family 'sans-serif' not found because none of the following families were found: Arial\n"
     ]
    },
    {
     "name": "stderr",
     "output_type": "stream",
     "text": [
      "findfont: Generic family 'sans-serif' not found because none of the following families were found: Arial\n"
     ]
    },
    {
     "name": "stderr",
     "output_type": "stream",
     "text": [
      "findfont: Generic family 'sans-serif' not found because none of the following families were found: Arial\n"
     ]
    },
    {
     "name": "stderr",
     "output_type": "stream",
     "text": [
      "findfont: Generic family 'sans-serif' not found because none of the following families were found: Arial\n"
     ]
    },
    {
     "name": "stderr",
     "output_type": "stream",
     "text": [
      "findfont: Generic family 'sans-serif' not found because none of the following families were found: Arial\n"
     ]
    },
    {
     "name": "stderr",
     "output_type": "stream",
     "text": [
      "findfont: Generic family 'sans-serif' not found because none of the following families were found: Arial\n"
     ]
    },
    {
     "name": "stderr",
     "output_type": "stream",
     "text": [
      "findfont: Generic family 'sans-serif' not found because none of the following families were found: Arial\n"
     ]
    },
    {
     "name": "stderr",
     "output_type": "stream",
     "text": [
      "findfont: Generic family 'sans-serif' not found because none of the following families were found: Arial\n"
     ]
    },
    {
     "name": "stderr",
     "output_type": "stream",
     "text": [
      "findfont: Generic family 'sans-serif' not found because none of the following families were found: Arial\n"
     ]
    },
    {
     "name": "stderr",
     "output_type": "stream",
     "text": [
      "findfont: Generic family 'sans-serif' not found because none of the following families were found: Arial\n"
     ]
    },
    {
     "name": "stderr",
     "output_type": "stream",
     "text": [
      "findfont: Generic family 'sans-serif' not found because none of the following families were found: Arial\n"
     ]
    },
    {
     "name": "stderr",
     "output_type": "stream",
     "text": [
      "findfont: Generic family 'sans-serif' not found because none of the following families were found: Arial\n"
     ]
    },
    {
     "name": "stderr",
     "output_type": "stream",
     "text": [
      "findfont: Generic family 'sans-serif' not found because none of the following families were found: Arial\n"
     ]
    },
    {
     "name": "stderr",
     "output_type": "stream",
     "text": [
      "findfont: Generic family 'sans-serif' not found because none of the following families were found: Arial\n"
     ]
    },
    {
     "name": "stderr",
     "output_type": "stream",
     "text": [
      "findfont: Generic family 'sans-serif' not found because none of the following families were found: Arial\n"
     ]
    },
    {
     "name": "stderr",
     "output_type": "stream",
     "text": [
      "findfont: Generic family 'sans-serif' not found because none of the following families were found: Arial\n"
     ]
    },
    {
     "name": "stderr",
     "output_type": "stream",
     "text": [
      "findfont: Generic family 'sans-serif' not found because none of the following families were found: Arial\n"
     ]
    },
    {
     "name": "stderr",
     "output_type": "stream",
     "text": [
      "findfont: Generic family 'sans-serif' not found because none of the following families were found: Arial\n"
     ]
    },
    {
     "name": "stderr",
     "output_type": "stream",
     "text": [
      "findfont: Generic family 'sans-serif' not found because none of the following families were found: Arial\n"
     ]
    },
    {
     "name": "stderr",
     "output_type": "stream",
     "text": [
      "findfont: Generic family 'sans-serif' not found because none of the following families were found: Arial\n"
     ]
    },
    {
     "name": "stderr",
     "output_type": "stream",
     "text": [
      "findfont: Generic family 'sans-serif' not found because none of the following families were found: Arial\n"
     ]
    },
    {
     "name": "stderr",
     "output_type": "stream",
     "text": [
      "findfont: Generic family 'sans-serif' not found because none of the following families were found: Arial\n"
     ]
    },
    {
     "name": "stderr",
     "output_type": "stream",
     "text": [
      "findfont: Generic family 'sans-serif' not found because none of the following families were found: Arial\n"
     ]
    },
    {
     "name": "stderr",
     "output_type": "stream",
     "text": [
      "findfont: Generic family 'sans-serif' not found because none of the following families were found: Arial\n"
     ]
    },
    {
     "name": "stderr",
     "output_type": "stream",
     "text": [
      "findfont: Generic family 'sans-serif' not found because none of the following families were found: Arial\n"
     ]
    },
    {
     "name": "stderr",
     "output_type": "stream",
     "text": [
      "findfont: Generic family 'sans-serif' not found because none of the following families were found: Arial\n"
     ]
    },
    {
     "name": "stderr",
     "output_type": "stream",
     "text": [
      "findfont: Generic family 'sans-serif' not found because none of the following families were found: Arial\n"
     ]
    },
    {
     "name": "stderr",
     "output_type": "stream",
     "text": [
      "findfont: Generic family 'sans-serif' not found because none of the following families were found: Arial\n"
     ]
    },
    {
     "name": "stderr",
     "output_type": "stream",
     "text": [
      "findfont: Generic family 'sans-serif' not found because none of the following families were found: Arial\n"
     ]
    },
    {
     "name": "stderr",
     "output_type": "stream",
     "text": [
      "findfont: Generic family 'sans-serif' not found because none of the following families were found: Arial\n"
     ]
    },
    {
     "name": "stderr",
     "output_type": "stream",
     "text": [
      "findfont: Generic family 'sans-serif' not found because none of the following families were found: Arial\n"
     ]
    },
    {
     "name": "stderr",
     "output_type": "stream",
     "text": [
      "findfont: Generic family 'sans-serif' not found because none of the following families were found: Arial\n"
     ]
    },
    {
     "name": "stderr",
     "output_type": "stream",
     "text": [
      "findfont: Generic family 'sans-serif' not found because none of the following families were found: Arial\n"
     ]
    },
    {
     "name": "stderr",
     "output_type": "stream",
     "text": [
      "findfont: Generic family 'sans-serif' not found because none of the following families were found: Arial\n"
     ]
    },
    {
     "name": "stderr",
     "output_type": "stream",
     "text": [
      "findfont: Generic family 'sans-serif' not found because none of the following families were found: Arial\n"
     ]
    },
    {
     "name": "stderr",
     "output_type": "stream",
     "text": [
      "findfont: Generic family 'sans-serif' not found because none of the following families were found: Arial\n"
     ]
    },
    {
     "name": "stderr",
     "output_type": "stream",
     "text": [
      "findfont: Generic family 'sans-serif' not found because none of the following families were found: Arial\n"
     ]
    },
    {
     "name": "stderr",
     "output_type": "stream",
     "text": [
      "findfont: Generic family 'sans-serif' not found because none of the following families were found: Arial\n"
     ]
    },
    {
     "name": "stderr",
     "output_type": "stream",
     "text": [
      "findfont: Generic family 'sans-serif' not found because none of the following families were found: Arial\n"
     ]
    },
    {
     "name": "stderr",
     "output_type": "stream",
     "text": [
      "findfont: Generic family 'sans-serif' not found because none of the following families were found: Arial\n"
     ]
    },
    {
     "name": "stderr",
     "output_type": "stream",
     "text": [
      "findfont: Generic family 'sans-serif' not found because none of the following families were found: Arial\n"
     ]
    },
    {
     "name": "stderr",
     "output_type": "stream",
     "text": [
      "findfont: Generic family 'sans-serif' not found because none of the following families were found: Arial\n"
     ]
    },
    {
     "name": "stderr",
     "output_type": "stream",
     "text": [
      "findfont: Generic family 'sans-serif' not found because none of the following families were found: Arial\n"
     ]
    },
    {
     "name": "stderr",
     "output_type": "stream",
     "text": [
      "findfont: Generic family 'sans-serif' not found because none of the following families were found: Arial\n"
     ]
    },
    {
     "name": "stderr",
     "output_type": "stream",
     "text": [
      "findfont: Generic family 'sans-serif' not found because none of the following families were found: Arial\n"
     ]
    },
    {
     "name": "stderr",
     "output_type": "stream",
     "text": [
      "findfont: Generic family 'sans-serif' not found because none of the following families were found: Arial\n"
     ]
    },
    {
     "name": "stderr",
     "output_type": "stream",
     "text": [
      "findfont: Generic family 'sans-serif' not found because none of the following families were found: Arial\n"
     ]
    },
    {
     "name": "stderr",
     "output_type": "stream",
     "text": [
      "findfont: Generic family 'sans-serif' not found because none of the following families were found: Arial\n"
     ]
    },
    {
     "name": "stderr",
     "output_type": "stream",
     "text": [
      "findfont: Generic family 'sans-serif' not found because none of the following families were found: Arial\n"
     ]
    },
    {
     "name": "stderr",
     "output_type": "stream",
     "text": [
      "findfont: Generic family 'sans-serif' not found because none of the following families were found: Arial\n"
     ]
    },
    {
     "name": "stderr",
     "output_type": "stream",
     "text": [
      "findfont: Generic family 'sans-serif' not found because none of the following families were found: Arial\n"
     ]
    },
    {
     "data": {
      "image/png": "[encoded data removed]",
      "text/plain": [
       "<Figure size 600x400 with 1 Axes>"
      ]
     },
     "metadata": {},
     "output_type": "display_data"
    }
   ],
   "source": [
    "# set up figure\n",
    "try:\n",
    "    plt.close(\"all\")\n",
    "except:\n",
    "    pass\n",
    "\n",
    "set_plot_params()\n",
    "\n",
    "fig = plt.figure(figsize=(6, 4), facecolor=\"w\")\n",
    "ax = fig.add_subplot(1, 1, 1)\n",
    "\n",
    "ax.plot(ts1_Otis[:, 0], ts1_Otis[:, 1], \"k-\", linewidth=1.0)\n",
    "ax.plot(ts2_Otis[:, 0], ts2_Otis[:, 1], \"b-\", linewidth=1.0)\n",
    "ax.plot(ts3_Otis[:, 0], ts3_Otis[:, 1], \"r-\", linewidth=1.0)\n",
    "ax.plot(ts4_Otis[:, 0], ts4_Otis[:, 1], \"g-\", linewidth=1.0)\n",
    "ax.plot(ts5_Otis[:, 0], ts5_Otis[:, 1], \"c-\", linewidth=1.0)\n",
    "\n",
    "ax.plot(\n",
    "    (ts1_mt3d[:, 0]) / 3600,\n",
    "    ts1_mt3d[:, 1],\n",
    "    \"kD\",\n",
    "    markersize=2.0,\n",
    "    mfc=\"none\",\n",
    "    mec=\"k\",\n",
    ")\n",
    "ax.plot(\n",
    "    (ts2_mt3d[:, 0]) / 3600,\n",
    "    ts2_mt3d[:, 1],\n",
    "    \"b*\",\n",
    "    markersize=3.0,\n",
    "    mfc=\"none\",\n",
    "    mec=\"b\",\n",
    ")\n",
    "ax.plot((ts3_mt3d[:, 0]) / 3600, ts3_mt3d[:, 1], \"r+\", markersize=3.0)\n",
    "ax.plot(\n",
    "    (ts4_mt3d[:, 0]) / 3600,\n",
    "    ts4_mt3d[:, 1],\n",
    "    \"g^\",\n",
    "    markersize=2.0,\n",
    "    mfc=\"none\",\n",
    "    mec=\"g\",\n",
    ")\n",
    "ax.plot(\n",
    "    (ts5_mt3d[:, 0]) / 3600,\n",
    "    ts5_mt3d[:, 1],\n",
    "    \"co\",\n",
    "    markersize=2.0,\n",
    "    mfc=\"none\",\n",
    "    mec=\"c\",\n",
    ")\n",
    "\n",
    "# customize plot\n",
    "ax.set_xlabel(\"Time, hours\")\n",
    "ax.set_ylabel(\"Concentration, mg L-1\")\n",
    "ax.set_ylim([3.5, 13])\n",
    "ticksize = 10\n",
    "\n",
    "# legend\n",
    "leg = ax.legend(\n",
    "    (\n",
    "        \"Otis, Site 1\",\n",
    "        \"Otis, Site 2\",\n",
    "        \"Otis, Site 3\",\n",
    "        \"Otis, Site 4\",\n",
    "        \"Otis, Site 5\",\n",
    "        \"MT3D-USGS, Site 1\",\n",
    "        \"MT3D-USGS, Site 2\",\n",
    "        \"MT3D-USGS, Site 3\",\n",
    "        \"MT3D-USGS, Site 4\",\n",
    "        \"MT3D-USGS, Site 5\",\n",
    "    ),\n",
    "    loc=\"upper right\",\n",
    "    labelspacing=0.25,\n",
    "    columnspacing=1,\n",
    "    handletextpad=0.5,\n",
    "    handlelength=2.0,\n",
    "    numpoints=1,\n",
    ")\n",
    "leg._drawFrame = False\n",
    "\n",
    "plt.show()"
   ]
  },
  {
   "cell_type": "code",
   "execution_count": 25,
   "metadata": {
    "execution": {
     "iopub.execute_input": "2023-02-22T02:41:48.089887Z",
     "iopub.status.busy": "2023-02-22T02:41:48.089342Z",
     "iopub.status.idle": "2023-02-22T02:41:48.097255Z",
     "shell.execute_reply": "2023-02-22T02:41:48.096497Z"
    }
   },
   "outputs": [],
   "source": [
    "try:\n",
    "    # ignore PermissionError on Windows\n",
    "    temp_dir.cleanup()\n",
    "except:\n",
    "    pass"
   ]
  }
 ],
 "metadata": {
  "anaconda-cloud": {},
  "kernelspec": {
   "display_name": "Python 3 (ipykernel)",
   "language": "python",
   "name": "python3"
  },
  "language_info": {
   "codemirror_mode": {
    "name": "ipython",
    "version": 3
   },
   "file_extension": ".py",
   "mimetype": "text/x-python",
   "name": "python",
   "nbconvert_exporter": "python",
   "pygments_lexer": "ipython3",
   "version": "3.10.6"
  }
 },
 "nbformat": 4,
 "nbformat_minor": 4
}
