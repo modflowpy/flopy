{
 "cells": [
  {
   "cell_type": "markdown",
   "metadata": {},
   "source": [
    "# FloPy\n",
    "\n",
    "## Making Maps and Cross-Sections of Your Model\n",
    "This notebook demonstrates the mapping and cross-section capabilities of flopy.  It demonstrates these capabilities by loading and running an existing model, and then showing how the PlotMapView and PlotCrossSection objects, and their methods can be used to make nice plots of the model grid, boundary conditions, models results, shape files, etc.\n"
   ]
  },
  {
   "cell_type": "code",
   "execution_count": null,
   "metadata": {},
   "outputs": [],
   "source": [
    "%matplotlib inline\n",
    "import sys\n",
    "import os\n",
    "import platform\n",
    "import numpy as np\n",
    "import matplotlib as mpl\n",
    "import matplotlib.pyplot as plt\n",
    "\n",
    "# run installed version of flopy or add local path\n",
    "try:\n",
    "    import flopy\n",
    "except:\n",
    "    fpth = os.path.abspath(os.path.join('..', '..'))\n",
    "    sys.path.append(fpth)\n",
    "    import flopy\n",
    "\n",
    "print(sys.version)\n",
    "print('numpy version: {}'.format(np.__version__))\n",
    "print('matplotlib version: {}'.format(mpl.__version__))\n",
    "print('flopy version: {}'.format(flopy.__version__))"
   ]
  },
  {
   "cell_type": "code",
   "execution_count": null,
   "metadata": {},
   "outputs": [],
   "source": [
    "#Set name of MODFLOW exe\n",
    "#  assumes executable is in users path statement\n",
    "version = 'mf2005'\n",
    "exe_name = 'mf2005'\n",
    "exe_mp = 'mp6'\n",
    "if platform.system() == 'Windows':\n",
    "    exe_name += '.exe'\n",
    "    exe_mp += '.exe'\n",
    "mfexe = exe_name\n",
    "\n",
    "#Set the paths\n",
    "loadpth = os.path.join('..', 'data', 'freyberg')\n",
    "modelpth = os.path.join('data')\n",
    "\n",
    "#make sure modelpth directory exists\n",
    "if not os.path.exists(modelpth):\n",
    "    os.makedirs(modelpth)"
   ]
  },
  {
   "cell_type": "markdown",
   "metadata": {},
   "source": [
    "### Load and Run an Existing Model\n",
    "A model called the \"Freyberg Model\" is located in the loadpth folder.  In the following code block, we load that model, then change into a new workspace (modelpth) where we recreate and run the model.  For this to work properly, the MODFLOW-2005 executable (mf2005) must be in the path.  We verify that it worked correctly by checking for the presence of freyberg.hds and freyberg.cbc."
   ]
  },
  {
   "cell_type": "code",
   "execution_count": null,
   "metadata": {},
   "outputs": [],
   "source": [
    "ml = flopy.modflow.Modflow.load('freyberg.nam', model_ws=loadpth, \n",
    "                                exe_name=exe_name, version=version)\n",
    "ml.change_model_ws(new_pth=modelpth)\n",
    "ml.write_input()\n",
    "success, buff = ml.run_model()\n",
    "if not success:\n",
    "    print ('Something bad happened.')\n",
    "files = ['freyberg.hds', 'freyberg.cbc']\n",
    "for f in files:\n",
    "    if os.path.isfile(os.path.join(modelpth, f)):\n",
    "        msg = 'Output file located: {}'.format(f)\n",
    "        print (msg)\n",
    "    else:\n",
    "        errmsg = 'Error. Output file cannot be found: {}'.format(f)\n",
    "        print (errmsg)"
   ]
  },
  {
   "cell_type": "markdown",
   "metadata": {},
   "source": [
    "### Create and Run MODPATH 6 model\n",
    "\n",
    "The MODFLOW model created in the previous code block will be used to create a endpoint capture zone and pathline analysis for the pumping wells in the model."
   ]
  },
  {
   "cell_type": "code",
   "execution_count": null,
   "metadata": {},
   "outputs": [],
   "source": [
    "mp = flopy.modpath.Modpath('freybergmp', exe_name=exe_mp, modflowmodel=ml, model_ws=modelpth)\n",
    "mpbas = flopy.modpath.ModpathBas(mp, hnoflo=ml.bas6.hnoflo, hdry=ml.lpf.hdry, \n",
    "                                 ibound=ml.bas6.ibound.array, prsity=0.2, prsityCB=0.2)\n",
    "sim = mp.create_mpsim(trackdir='forward', simtype='endpoint', packages='RCH')\n",
    "mp.write_input()\n",
    "mp.run_model()\n",
    "\n",
    "mpp = flopy.modpath.Modpath('freybergmpp', exe_name=exe_mp, modflowmodel=ml, model_ws=modelpth)\n",
    "mpbas = flopy.modpath.ModpathBas(mpp, hnoflo=ml.bas6.hnoflo, hdry=ml.lpf.hdry, \n",
    "                                 ibound=ml.bas6.ibound.array, prsity=0.2, prsityCB=0.2)\n",
    "sim = mpp.create_mpsim(trackdir='backward', simtype='pathline', packages='WEL')\n",
    "mpp.write_input()\n",
    "mpp.run_model()"
   ]
  },
  {
   "cell_type": "markdown",
   "metadata": {},
   "source": [
    "### Creating a Map and Cross-Section of the Model Grid\n",
    "Now that we have a model, we can use the flopy plotting utilities to make maps and cross-sections.  We will start by making a map of the model grid using the PlotMapView class and the plot_grid method of that class."
   ]
  },
  {
   "cell_type": "code",
   "execution_count": null,
   "metadata": {},
   "outputs": [],
   "source": [
    "# First step is to set up the plot\n",
    "fig = plt.figure(figsize=(5, 5))\n",
    "ax = fig.add_subplot(1, 1, 1, aspect='equal')\n",
    "\n",
    "# Next we create an instance of the ModelMap class\n",
    "modelmap = flopy.plot.PlotMapView(model=ml)\n",
    "\n",
    "# Then we can use the plot_grid() method to draw the grid\n",
    "# The return value for this function is a matplotlib LineCollection object,\n",
    "# which could be manipulated (or used) later if necessary.\n",
    "linecollection = modelmap.plot_grid()"
   ]
  },
  {
   "cell_type": "markdown",
   "metadata": {},
   "source": [
    "Next we will make a cross-section of the model grid at column 6."
   ]
  },
  {
   "cell_type": "code",
   "execution_count": null,
   "metadata": {},
   "outputs": [],
   "source": [
    "fig = plt.figure(figsize=(8, 3))\n",
    "ax = fig.add_subplot(1, 1, 1)\n",
    "\n",
    "# Next we create an instance of the ModelCrossSection class\n",
    "modelxsect = flopy.plot.PlotCrossSection(model=ml, line={'Column': 5})\n",
    "\n",
    "# Then we can use the plot_grid() method to draw the grid\n",
    "# The return value for this function is a matplotlib LineCollection object,\n",
    "# which could be manipulated (or used) later if necessary.\n",
    "linecollection = modelxsect.plot_grid()\n",
    "t = ax.set_title('Column 6 Cross-Section - Model Grid')"
   ]
  },
  {
   "cell_type": "markdown",
   "metadata": {},
   "source": [
    "The PlotMapView instance can be created using several different keyword arguments to position the model grid in space.  The three keywords are: xul, yul, and rotation.  The values represent the x-coordinate of the upper left corner, the y-coordinate of the upper-left coordinate, and the rotation angle (in degrees) of the upper left coordinate.  If these values are not specified, then they default to model coordinates.\n",
    "\n",
    "Here we demonstrate the effects of these values.  In the first two plots, the grid origin (upper left corner) remains fixed at (0, 10000).  The y-value of 10000 is the sum of the model delc array (a sum of all the row heights)."
   ]
  },
  {
   "cell_type": "code",
   "execution_count": null,
   "metadata": {},
   "outputs": [],
   "source": [
    "fig = plt.figure(figsize=(15, 5))\n",
    "\n",
    "ax = fig.add_subplot(1, 3, 1, aspect='equal')\n",
    "modelmap = flopy.plot.PlotMapView(model=ml, rotation=14)\n",
    "linecollection = modelmap.plot_grid()\n",
    "t = ax.set_title('rotation=14 degrees')\n",
    "\n",
    "ax = fig.add_subplot(1, 3, 2, aspect='equal')\n",
    "modelmap = flopy.plot.PlotMapView(model=ml, rotation=-20)\n",
    "linecollection = modelmap.plot_grid()\n",
    "t = ax.set_title('rotation=-20 degrees')\n",
    "\n",
    "ax = fig.add_subplot(1, 3, 3, aspect='equal')\n",
    "modelmap = flopy.plot.PlotMapView(model=ml, xul=500000, yul=2934000, rotation=45)\n",
    "linecollection = modelmap.plot_grid()\n",
    "t = ax.set_title('xul, yul, and rotation')\n",
    "\n",
    "mg = ml.modelgrid\n",
    "mg.set_coord_info(xoff=0, yoff=0, angrot=mg.angrot,\n",
    "                            epsg=mg.epsg, proj4=mg.proj4)"
   ]
  },
  {
   "cell_type": "markdown",
   "metadata": {},
   "source": [
    "### Ploting Ibound\n",
    "The plot_ibound() method can be used to plot the boundary conditions contained in the ibound arrray, which is part of the MODFLOW Basic Package.  The plot_ibound() method returns a matplotlib QuadMesh object (matplotlib.collections.QuadMesh).  If you are familiar with the matplotlib collections, then this may be important to you, but if not, then don't worry about the return objects of these plotting function."
   ]
  },
  {
   "cell_type": "code",
   "execution_count": null,
   "metadata": {},
   "outputs": [],
   "source": [
    "fig = plt.figure(figsize=(8, 8))\n",
    "ax = fig.add_subplot(1, 1, 1, aspect='equal')\n",
    "modelmap = flopy.plot.PlotMapView(model=ml, rotation=-14)\n",
    "quadmesh = modelmap.plot_ibound()\n",
    "linecollection = modelmap.plot_grid()"
   ]
  },
  {
   "cell_type": "code",
   "execution_count": null,
   "metadata": {},
   "outputs": [],
   "source": [
    "# Or we could change the colors!\n",
    "fig = plt.figure(figsize=(8, 8))\n",
    "ax = fig.add_subplot(1, 1, 1, aspect='equal')\n",
    "modelmap = flopy.plot.PlotMapView(model=ml, rotation=-14)\n",
    "quadmesh = modelmap.plot_ibound(color_noflow='red', color_ch='orange')\n",
    "linecollection = modelmap.plot_grid(colors='yellow')"
   ]
  },
  {
   "cell_type": "markdown",
   "metadata": {},
   "source": [
    "The plot_ibound() method can be used to plot a cross-section of the boundary conditions contained in the ibound arrray, which is part of the MODFLOW Basic Package.  The plot_ibound() method returns a matplotlib Patch object (matplotlib.collections.PatchCollection)."
   ]
  },
  {
   "cell_type": "code",
   "execution_count": null,
   "metadata": {},
   "outputs": [],
   "source": [
    "fig = plt.figure(figsize=(8, 3))\n",
    "ax = fig.add_subplot(1, 1, 1)\n",
    "modelxsect = flopy.plot.PlotCrossSection(model=ml, line={'Column': 5})\n",
    "patches = modelxsect.plot_ibound()\n",
    "linecollection = modelxsect.plot_grid()\n",
    "t = ax.set_title('Column 6 Cross-Section with IBOUND Boundary Conditions')"
   ]
  },
  {
   "cell_type": "markdown",
   "metadata": {},
   "source": [
    "### Plotting Boundary Conditions\n",
    "The plot_bc() method can be used to plot boundary conditions.  It is setup to use the following dictionary to assign colors, however, these colors can be changed in the method call.\n",
    "\n",
    "    bc_color_dict = {'default': 'black', 'WEL': 'red', 'DRN': 'yellow',\n",
    "                 'RIV': 'green', 'GHB': 'cyan', 'CHD': 'navy'}\n",
    "\n",
    "Here, we plot the location of river cells and the location of well cells."
   ]
  },
  {
   "cell_type": "code",
   "execution_count": null,
   "metadata": {},
   "outputs": [],
   "source": [
    "fig = plt.figure(figsize=(8, 8))\n",
    "ax = fig.add_subplot(1, 1, 1, aspect='equal')\n",
    "modelmap = flopy.plot.PlotMapView(model=ml, rotation=-14)\n",
    "quadmesh = modelmap.plot_ibound()\n",
    "quadmesh = modelmap.plot_bc('RIV')\n",
    "quadmesh = modelmap.plot_bc('WEL')\n",
    "linecollection = modelmap.plot_grid()"
   ]
  },
  {
   "cell_type": "code",
   "execution_count": null,
   "metadata": {},
   "outputs": [],
   "source": [
    "# Or we could change the colors!\n",
    "fig = plt.figure(figsize=(8, 8))\n",
    "ax = fig.add_subplot(1, 1, 1, aspect='equal')\n",
    "modelmap = flopy.plot.PlotMapView(model=ml, rotation=-14)\n",
    "quadmesh = modelmap.plot_ibound(color_noflow='red', color_ch='orange')\n",
    "quadmesh = modelmap.plot_bc('RIV', color='purple')\n",
    "quadmesh = modelmap.plot_bc('WEL', color='navy')\n",
    "linecollection = modelmap.plot_grid(colors='yellow')"
   ]
  },
  {
   "cell_type": "markdown",
   "metadata": {},
   "source": [
    "The plot_bc() method can be used to plot a cross-section of boundary conditions.  Just like the plot_bc() method for PlotMapView, the default bounday conditions can be changed in the method call.\n",
    "\n",
    "Here, we plot the location of well cells in column 6."
   ]
  },
  {
   "cell_type": "code",
   "execution_count": null,
   "metadata": {},
   "outputs": [],
   "source": [
    "fig = plt.figure(figsize=(8, 3))\n",
    "ax = fig.add_subplot(1, 1, 1)\n",
    "modelxsect = flopy.plot.PlotCrossSection(model=ml, line={'Column': 5})\n",
    "patches = modelxsect.plot_bc('WEL')\n",
    "patches = modelxsect.plot_ibound()\n",
    "linecollection = modelxsect.plot_grid()\n",
    "t = ax.set_title('Column 6 Cross-Section with Boundary Conditions')"
   ]
  },
  {
   "cell_type": "markdown",
   "metadata": {},
   "source": [
    "### Plotting an Array\n",
    "PlotMapView has a plot_array() method.  The plot_array() method will accept either a 2D or 3D array.  If a 3D array is passed, then the layer for the ModelMap object will be used (note that the ModelMap object can be created with a 'layer=' argument)."
   ]
  },
  {
   "cell_type": "code",
   "execution_count": null,
   "metadata": {},
   "outputs": [],
   "source": [
    "# Create a random array and plot it\n",
    "a = np.random.random((ml.dis.nrow, ml.dis.ncol))\n",
    "\n",
    "fig = plt.figure(figsize=(8, 8))\n",
    "ax = fig.add_subplot(1, 1, 1, aspect='equal')\n",
    "ax.set_title('Random Array')\n",
    "modelmap = flopy.plot.PlotMapView(model=ml, rotation=-14)\n",
    "quadmesh = modelmap.plot_array(a)\n",
    "linecollection = modelmap.plot_grid()\n",
    "cb = plt.colorbar(quadmesh, shrink=0.5)"
   ]
  },
  {
   "cell_type": "code",
   "execution_count": null,
   "metadata": {},
   "outputs": [],
   "source": [
    "# Plot the model bottom array\n",
    "a = ml.dis.botm.array\n",
    "\n",
    "fig = plt.figure(figsize=(8, 8))\n",
    "ax = fig.add_subplot(1, 1, 1, aspect='equal')\n",
    "ax.set_title('Model Bottom Elevations')\n",
    "modelmap = flopy.plot.PlotMapView(model=ml, rotation=-14)\n",
    "quadmesh = modelmap.plot_array(a)\n",
    "linecollection = modelmap.plot_grid()\n",
    "cb = plt.colorbar(quadmesh, shrink=0.5)"
   ]
  },
  {
   "cell_type": "markdown",
   "metadata": {},
   "source": [
    "PlotCrossSection also has a plot_array() method.  The plot_array() method accepts a 3D array."
   ]
  },
  {
   "cell_type": "code",
   "execution_count": null,
   "metadata": {},
   "outputs": [],
   "source": [
    "# Create a random array and plot it\n",
    "a = np.random.random((ml.dis.nlay, ml.dis.nrow, ml.dis.ncol))\n",
    "\n",
    "fig = plt.figure(figsize=(8, 3))\n",
    "ax = fig.add_subplot(1, 1, 1)\n",
    "modelxsect = flopy.plot.PlotCrossSection(model=ml, line={'Column': 5})\n",
    "csa = modelxsect.plot_array(a)\n",
    "patches = modelxsect.plot_ibound()\n",
    "linecollection = modelxsect.plot_grid()\n",
    "t = ax.set_title('Column 6 Cross-Section with Random Data')\n",
    "cb = plt.colorbar(csa, shrink=0.5)"
   ]
  },
  {
   "cell_type": "markdown",
   "metadata": {},
   "source": [
    "### Contouring an Array\n",
    "PlotMapView also has a contour_array() method.  It also takes a 2D or 3D array and will contour the layer slice if 3D."
   ]
  },
  {
   "cell_type": "code",
   "execution_count": null,
   "metadata": {},
   "outputs": [],
   "source": [
    "# Contour the model bottom array\n",
    "a = ml.dis.botm.array\n",
    "\n",
    "fig = plt.figure(figsize=(8, 8))\n",
    "ax = fig.add_subplot(1, 1, 1, aspect='equal')\n",
    "ax.set_title('Model Bottom Elevations')\n",
    "modelmap = flopy.plot.PlotMapView(model=ml, rotation=-14)\n",
    "contour_set = modelmap.contour_array(a)\n",
    "linecollection = modelmap.plot_grid()"
   ]
  },
  {
   "cell_type": "code",
   "execution_count": null,
   "metadata": {},
   "outputs": [],
   "source": [
    "# The contour_array() method will take any keywords\n",
    "# that can be used by the matplotlib.pyplot.contour\n",
    "# function. So we can pass in levels, for example.\n",
    "a = ml.dis.botm.array\n",
    "levels = np.arange(0, 20, 0.5)\n",
    "\n",
    "fig = plt.figure(figsize=(8, 8))\n",
    "ax = fig.add_subplot(1, 1, 1, aspect='equal')\n",
    "ax.set_title('Model Bottom Elevations')\n",
    "modelmap = flopy.plot.PlotMapView(model=ml, rotation=-14)\n",
    "contour_set = modelmap.contour_array(a, levels=levels)\n",
    "linecollection = modelmap.plot_grid()"
   ]
  },
  {
   "cell_type": "markdown",
   "metadata": {},
   "source": [
    "### Plotting Heads\n",
    "So this means that we can easily plot results from the simulation by extracting heads using flopy.utils.  Here we plot the simulated heads."
   ]
  },
  {
   "cell_type": "code",
   "execution_count": null,
   "metadata": {},
   "outputs": [],
   "source": [
    "fname = os.path.join(modelpth, 'freyberg.hds')\n",
    "hdobj = flopy.utils.HeadFile(fname)\n",
    "head = hdobj.get_data()\n",
    "levels = np.arange(10, 30, .5)\n",
    "\n",
    "fig = plt.figure(figsize=(10, 10))\n",
    "\n",
    "ax = fig.add_subplot(1, 2, 1, aspect='equal')\n",
    "ax.set_title('plot_array()')\n",
    "modelmap = flopy.plot.PlotMapView(model=ml, rotation=-14)\n",
    "quadmesh = modelmap.plot_ibound()\n",
    "quadmesh = modelmap.plot_array(head, masked_values=[999.], alpha=0.5)\n",
    "modelmap.plot_bc(\"WEL\")\n",
    "linecollection = modelmap.plot_grid()\n",
    "\n",
    "ax = fig.add_subplot(1, 2, 2, aspect='equal')\n",
    "ax.set_title('contour_array()')\n",
    "modelmap = flopy.plot.PlotMapView(model=ml, rotation=-14)\n",
    "quadmesh = modelmap.plot_ibound()\n",
    "modelmap.plot_bc(\"WEL\")\n",
    "contour_set = modelmap.contour_array(head, masked_values=[999.], levels=levels)\n",
    "linecollection = modelmap.plot_grid()"
   ]
  },
  {
   "cell_type": "markdown",
   "metadata": {},
   "source": [
    "We can also plot simulated heads in cross-section. The head can be passed into the plot_array() and contour_array() to fix the top of the colored patch and contour lines at the top of the water table in each cell, respectively. The plot_surface() method can be used to plot the water-table elevation with the contour lines."
   ]
  },
  {
   "cell_type": "code",
   "execution_count": null,
   "metadata": {},
   "outputs": [],
   "source": [
    "fig = plt.figure(figsize=(8, 6))\n",
    "\n",
    "ax = fig.add_subplot(2, 1, 1)\n",
    "ax.set_title('plot_array()')\n",
    "modelxsect = flopy.plot.PlotCrossSection(model=ml, line={'Column': 5})\n",
    "csa = modelxsect.plot_array(head, masked_values=[999.], head=head, alpha=0.5)\n",
    "patches = modelxsect.plot_ibound(head=head)\n",
    "linecollection = modelxsect.plot_grid()\n",
    "\n",
    "ax = fig.add_subplot(2, 1, 2)\n",
    "ax.set_title('contour_array() and plot_surface()')\n",
    "modelxsect = flopy.plot.PlotCrossSection(model=ml, line={'Column': 5})\n",
    "ct = modelxsect.contour_array(head, masked_values=[999.], head=head, levels=levels)\n",
    "patches = modelxsect.plot_ibound(head=head)\n",
    "wt = modelxsect.plot_surface(head, masked_values=[999.], color='blue', lw=1)\n",
    "linecollection = modelxsect.plot_grid()"
   ]
  },
  {
   "cell_type": "markdown",
   "metadata": {},
   "source": [
    "### Plotting Discharge Vectors\n",
    "PlotMapView has a plot_discharge() method, which takes the 'FLOW RIGHT FACE' and 'FLOW FRONT FACE' arrays, which can be written by MODFLOW to the cell by cell flow file.  These array can be extracted from the cell by cell flow file using the flopy.utils.CellBudgetFile object as shown below.  Once they are extracted, they can be passed to the plot_discharge() method.  Note that plot_discharge() also takes the head array as an argument.  The head array is used by plot_discharge() to convert the volumetric discharge in dimensions of $L^3/T$ to specific discharge in dimensions of $L/T$."
   ]
  },
  {
   "cell_type": "code",
   "execution_count": null,
   "metadata": {},
   "outputs": [],
   "source": [
    "fname = os.path.join(modelpth, 'freyberg.cbc')\n",
    "cbb = flopy.utils.CellBudgetFile(fname)\n",
    "frf = cbb.get_data(text='FLOW RIGHT FACE')[0]\n",
    "fff = cbb.get_data(text='FLOW FRONT FACE')[0]\n",
    "\n",
    "fig = plt.figure(figsize=(10, 10))\n",
    "\n",
    "ax = fig.add_subplot(1, 1, 1, aspect='equal')\n",
    "ax.set_title('plot_array()')\n",
    "modelmap = flopy.plot.PlotMapView(model=ml, rotation=-14)\n",
    "quadmesh = modelmap.plot_ibound()\n",
    "quadmesh = modelmap.plot_array(head, masked_values=[999.], alpha=0.5)\n",
    "quiver = modelmap.plot_discharge(frf, fff, head=head)\n",
    "linecollection = modelmap.plot_grid()"
   ]
  },
  {
   "cell_type": "markdown",
   "metadata": {},
   "source": [
    "PlotCrossSection has a plot_discharge() method, which takes the 'FLOW RIGHT FACE', 'FLOW FRONT FACE', and 'FLOW LOWER FACE' arrays, which can be written by MODFLOW to the cell by cell flow file.  These array can be extracted from the cell by cell flow file using the flopy.utils.CellBudgetFile object as shown below.  Once they are extracted, they can be passed to the plot_discharge() method.  Note that plot_discharge() also takes the head array as an argument.  The head array is used by plot_discharge() to convert the volumetric flow in dimensions of $L^3/T$ to specific discharge in dimensions of $L/T$ and to plot the specific discharge in the center of each saturated cell. For this problem, there is no 'FLOW LOWER FACE' array since the Freyberg Model is a one layer model."
   ]
  },
  {
   "cell_type": "code",
   "execution_count": null,
   "metadata": {},
   "outputs": [],
   "source": [
    "fig = plt.figure(figsize=(10, 6))\n",
    "ax = fig.add_subplot(2, 1, 1)\n",
    "ax.set_title('plot_array() and plot_discharge()')\n",
    "modelxsect = flopy.plot.PlotCrossSection(model=ml, ax=ax, line={'Column': 5})\n",
    "csa = modelxsect.plot_array(head, masked_values=[999.], head=head, alpha=0.5)\n",
    "linecollection = modelxsect.plot_grid()\n",
    "quiver = modelxsect.plot_discharge(frf, fff, head=head, \n",
    "                                   hstep=2, normalize=True, color='green', \n",
    "                                   scale=30, headwidth=3, headlength=3, headaxislength=3,\n",
    "                                   zorder=10)\n",
    "patches = modelxsect.plot_ibound(head=head)"
   ]
  },
  {
   "cell_type": "markdown",
   "metadata": {},
   "source": [
    "### Plotting MODPATH endpoints and pathlines\n",
    "PlotMapView has a `plot_endpoint()` and `plot_pathline()` method, which takes MODPATH endpoint and pathline data and plots them on the map object. Here we load the endpoint and pathline data and plot them on the head and discharge data previously plotted. Pathlines are shown for all times less than or equal to 200 years. Recahrge capture zone data for all of the pumping wells are plotted as circle markers colored by travel time."
   ]
  },
  {
   "cell_type": "code",
   "execution_count": null,
   "metadata": {},
   "outputs": [],
   "source": [
    "# load the endpoint data\n",
    "endfile = os.path.join(modelpth, mp.sim.endpoint_file)\n",
    "endobj = flopy.utils.EndpointFile(endfile)\n",
    "ept = endobj.get_alldata()\n",
    "\n",
    "# load the pathline data\n",
    "pthfile = os.path.join(modelpth, mpp.sim.pathline_file)\n",
    "pthobj = flopy.utils.PathlineFile(pthfile)\n",
    "plines = pthobj.get_alldata()\n",
    "\n",
    "# plot the data\n",
    "fig = plt.figure(figsize=(10, 10))\n",
    "\n",
    "ax = fig.add_subplot(1, 1, 1, aspect='equal')\n",
    "ax.set_title('plot_array()')\n",
    "modelmap = flopy.plot.PlotMapView(model=ml, rotation=-14)\n",
    "quadmesh = modelmap.plot_ibound()\n",
    "quadmesh = modelmap.plot_array(head, masked_values=[999.], alpha=0.5)\n",
    "quiver = modelmap.plot_discharge(frf, fff, head=head)\n",
    "linecollection = modelmap.plot_grid()\n",
    "for d in ml.wel.stress_period_data[0]:\n",
    "    modelmap.plot_endpoint(ept, direction='starting', selection_direction='ending', selection=(d[0], d[1], d[2]), zorder=100)\n",
    "\n",
    "# construct maximum travel time to plot (200 years - MODFLOW time unit is seconds)\n",
    "travel_time_max = 200. * 365.25 * 24. * 60. * 60. \n",
    "ctt = '<={}'.format(travel_time_max)\n",
    "\n",
    "# plot the pathlines\n",
    "modelmap.plot_pathline(plines, layer='all', colors='red', travel_time=ctt);"
   ]
  },
  {
   "cell_type": "markdown",
   "metadata": {
    "collapsed": true
   },
   "source": [
    "### Plotting a Shapefile\n",
    "PlotMapView has a plot_shapefile() method that can be used to quickly plot a shapefile on your map.  In order to use the plot_shapefile() method, you must be able to \"import shapely\".  Shapely is installed as part of the pyshp package.\n",
    "\n",
    "The plotting function for shape files is located in the flopy.plot.plotutil module and is called plot_shapefile().  This function is called from the PlotMapView plot_shapefile() method.  The plot_shapefile() function can plot points, lines, and polygons and will return a patch_collection of objects from the shapefile.  For a shapefile of polygons, the plot_shapefile() function will try to plot and fill them all using a different color.  For a shapefile of points, you may need to specify a radius, in model units, in order for the circles to show up properly.\n",
    "\n",
    "The shapefile must be in the same units as the PlotMapView object in order for it to overlay correctly on the plot.  The plot_shapefile() method and function do not use any of the projection information that may be stored with the shapefile.  If you set xul, yul, and rotation for the modelmap object below, you will see that the grid will no longer overlay correctly with the shapefile."
   ]
  },
  {
   "cell_type": "code",
   "execution_count": null,
   "metadata": {},
   "outputs": [],
   "source": [
    "# Setup the figure and modelmap. Show a very faint map of ibound and \n",
    "# model grid by specifying a transparency alpha value.\n",
    "fig = plt.figure(figsize=(8, 8))\n",
    "ax = fig.add_subplot(1, 1, 1, aspect='equal')\n",
    "modelmap = flopy.plot.PlotMapView(model=ml,ax=ax)\n",
    "\n",
    "# Plot a shapefile of \n",
    "shp = os.path.join(loadpth, 'gis', 'bedrock_outcrop_hole')\n",
    "patch_collection = modelmap.plot_shapefile(shp, #facecolor='none', \n",
    "                                           edgecolor='green', linewidths=2, alpha=0.5)\n",
    "# Plot a shapefile of a cross-section line\n",
    "shp = os.path.join(loadpth, 'gis', 'cross_section')\n",
    "patch_collection = modelmap.plot_shapefile(shp, radius=0, lw=[3, 1.5], edgecolor=['red', 'green'], facecolor='None')\n",
    "\n",
    "# Plot a shapefile of well locations\n",
    "shp = os.path.join(loadpth, 'gis', 'wells_locations')\n",
    "patch_collection = modelmap.plot_shapefile(shp, radius=100, facecolor='red')\n",
    "\n",
    "# Plot the grid and boundary conditions over the top\n",
    "quadmesh = modelmap.plot_ibound(alpha = 0.1)\n",
    "quadmesh = modelmap.plot_bc('RIV', alpha=0.1)\n",
    "linecollection = modelmap.plot_grid(alpha=0.1)"
   ]
  },
  {
   "cell_type": "markdown",
   "metadata": {},
   "source": [
    "A shapefile can be used to define the vertices for a instance of ModelCrossSection class. The function shapefile_get_vertices() in plot.plotutil will return a list of vertices for each polyline in a shapefile. The cross-section line list can be iterated over to create multiple cross-sections."
   ]
  },
  {
   "cell_type": "code",
   "execution_count": null,
   "metadata": {},
   "outputs": [],
   "source": [
    "# get the vertices for cross-section lines in a shapefile\n",
    "lines = flopy.plot.plotutil.shapefile_get_vertices(os.path.join(loadpth, 'gis', 'cross_section'))\n",
    "# plot each cross-section\n",
    "fig = plt.figure(figsize=(12, 6))\n",
    "for idx, line in enumerate(lines):\n",
    "    ax = fig.add_subplot(2, 1, idx+1)\n",
    "    ax.set_title('plot_array() along arbitrary cross-section line {}'.format(idx+1))\n",
    "    modelxsect = flopy.plot.PlotCrossSection(model=ml, line={'line': line})\n",
    "    csa = modelxsect.plot_array(head, masked_values=[999.], head=head, alpha=0.5)\n",
    "    patches = modelxsect.plot_ibound(head=head)\n",
    "    cb = fig.colorbar(csa, ax=ax, shrink=0.5)"
   ]
  },
  {
   "cell_type": "markdown",
   "metadata": {},
   "source": [
    "Although the ModelMap plot_shapefile() method does not consider projection information when plotting maps, it can be used to plot shapefiles when a ModelMap instance is rotated and offset into geographic coordinates. The same shapefiles plotted above (but in geographic coordinates rather than model coordinates) are plotted on the rotated model grid. The offset from model coordinates to geographic coordinates relative to the upper left corner are x=0, y=10,000 and the rotation angle is 14$^{\\circ}$."
   ]
  },
  {
   "cell_type": "code",
   "execution_count": null,
   "metadata": {},
   "outputs": [],
   "source": [
    "# Setup the figure and modelmap. Show a very faint map of ibound and \n",
    "# model grid by specifying a transparency alpha value.\n",
    "fig = plt.figure(figsize=(8, 8))\n",
    "ax = fig.add_subplot(1, 1, 1, aspect='equal')\n",
    "modelmap = flopy.plot.PlotMapView(model=ml, rotation=-14, xul=0, yul=10000)\n",
    "\n",
    "# Plot a shapefile of \n",
    "shp = os.path.join(loadpth, 'gis', 'bedrock_outcrop_hole_rotate14')\n",
    "patch_collection = modelmap.plot_shapefile(shp, #facecolor='none', \n",
    "                                           edgecolor='green', linewidths=2, alpha=0.5)\n",
    "# Plot a shapefile of a cross-section line\n",
    "shp = os.path.join(loadpth, 'gis', 'cross_section_rotate14')\n",
    "patch_collection = modelmap.plot_shapefile(shp, radius=0, lw=3, edgecolor='red', facecolor='None')\n",
    "\n",
    "# Plot a shapefile of well locations\n",
    "shp = os.path.join(loadpth, 'gis', 'wells_locations_rotate14')\n",
    "patch_collection = modelmap.plot_shapefile(shp, radius=100, facecolor='red')\n",
    "\n",
    "# Plot the grid and boundary conditions over the top\n",
    "quadmesh = modelmap.plot_ibound(alpha = 0.1)\n",
    "linecollection = modelmap.plot_grid(alpha=0.1);"
   ]
  },
  {
   "cell_type": "markdown",
   "metadata": {},
   "source": [
    "A projected shapefile can also be used to define the vertices for a instance of ModelCrossSection class. Just the first cross-section line is included in the shapefile in geographic coordinates (cross_section_rotate14). Similar to the unrotated cross-section example, a ModelCrossSection instance is created but the rotation angle (14$^{\\circ}$) is passed into the object."
   ]
  },
  {
   "cell_type": "code",
   "execution_count": null,
   "metadata": {},
   "outputs": [],
   "source": [
    "# get the vertices for cross-section lines in a shapefile in geographic coordinates\n",
    "line = flopy.plot.plotutil.shapefile_get_vertices(os.path.join(loadpth, 'gis', 'cross_section_rotate14'))\n",
    "# plot the cross-section\n",
    "fig = plt.figure(figsize=(12, 3))\n",
    "ax = fig.add_subplot(1, 1, 1)\n",
    "ax.set_title('plot_array() along an arbitrary cross-section line in geographic coordinates')\n",
    "modelxsect = flopy.plot.PlotCrossSection(model=ml, line={'line': line[0]}, xul=0, yul=10000, rotation=-14)\n",
    "csa = modelxsect.plot_array(head, masked_values=[999.], head=head, alpha=0.5)\n",
    "patches = modelxsect.plot_ibound(head=head)\n",
    "cb = fig.colorbar(csa, ax=ax, shrink=0.5)"
   ]
  },
  {
   "cell_type": "markdown",
   "metadata": {},
   "source": [
    "## Summary\n",
    "\n",
    "This notebook demonstrates some of the plotting functionality available with flopy.  Although not described here, the plotting functionality tries to be general by passing keyword arguments passed to the ModelMap and ModelCrossSection methods down into the matplot.pyplot routines that do the actual plotting.  For those looking to customize these plots, it may be necessary to search for the available keywords by understanding the types of objects that are created by the ModelMap and ModelCrossSection methods.  The ModelMap and ModelCrossSection methods return these matplotlib.collections objects so that they could be fine-tuned later in the script before plotting.\n",
    "\n",
    "Hope this gets you started!"
   ]
  }
 ],
 "metadata": {
  "anaconda-cloud": {},
  "kernelspec": {
   "display_name": "Python 3",
   "language": "python",
   "name": "python3"
  },
  "language_info": {
   "codemirror_mode": {
    "name": "ipython",
    "version": 3
   },
   "file_extension": ".py",
   "mimetype": "text/x-python",
   "name": "python",
   "nbconvert_exporter": "python",
   "pygments_lexer": "ipython3",
   "version": "3.6.5"
  }
 },
 "nbformat": 4,
 "nbformat_minor": 1
}
