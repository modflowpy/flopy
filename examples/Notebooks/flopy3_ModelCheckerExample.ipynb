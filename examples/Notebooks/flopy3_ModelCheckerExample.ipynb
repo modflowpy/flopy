{
 "cells": [
  {
   "cell_type": "markdown",
   "metadata": {},
   "source": [
    "# FloPy \n",
    "\n",
    "### MODFLOW-2005 based model checker demonstration"
   ]
  },
  {
   "cell_type": "code",
   "execution_count": null,
   "metadata": {
    "execution": {
     "iopub.execute_input": "2023-02-22T02:42:23.736706Z",
     "iopub.status.busy": "2023-02-22T02:42:23.735934Z",
     "iopub.status.idle": "2023-02-22T02:42:24.621199Z",
     "shell.execute_reply": "2023-02-22T02:42:24.620220Z"
    }
   },
   "outputs": [],
   "source": [
    "import os\n",
    "import sys\n",
    "from tempfile import TemporaryDirectory\n",
    "\n",
    "# run installed version of flopy or add local path\n",
    "try:\n",
    "    import flopy\n",
    "except:\n",
    "    fpth = os.path.abspath(os.path.join(\"..\", \"..\"))\n",
    "    sys.path.append(fpth)\n",
    "    import flopy\n",
    "\n",
    "print(sys.version)\n",
    "print(\"flopy version: {}\".format(flopy.__version__))"
   ]
  },
  {
   "cell_type": "markdown",
   "metadata": {},
   "source": [
    "#### Set the working directory"
   ]
  },
  {
   "cell_type": "code",
   "execution_count": null,
   "metadata": {
    "execution": {
     "iopub.execute_input": "2023-02-22T02:42:24.679610Z",
     "iopub.status.busy": "2023-02-22T02:42:24.678761Z",
     "iopub.status.idle": "2023-02-22T02:42:24.686063Z",
     "shell.execute_reply": "2023-02-22T02:42:24.684414Z"
    }
   },
   "outputs": [],
   "source": [
    "path = os.path.join(\"..\", \"data\", \"mf2005_test\")"
   ]
  },
  {
   "cell_type": "markdown",
   "metadata": {},
   "source": [
    "#### Load example dataset and change the model work space"
   ]
  },
  {
   "cell_type": "code",
   "execution_count": null,
   "metadata": {
    "execution": {
     "iopub.execute_input": "2023-02-22T02:42:24.691434Z",
     "iopub.status.busy": "2023-02-22T02:42:24.690790Z",
     "iopub.status.idle": "2023-02-22T02:42:24.777534Z",
     "shell.execute_reply": "2023-02-22T02:42:24.776285Z"
    }
   },
   "outputs": [],
   "source": [
    "m = flopy.modflow.Modflow.load(\"test1ss.nam\", model_ws=path)\n",
    "temp_dir = TemporaryDirectory()\n",
    "workspace = temp_dir.name\n",
    "m.change_model_ws(workspace)"
   ]
  },
  {
   "cell_type": "markdown",
   "metadata": {},
   "source": [
    "By default, the checker performs a model-level check when a set of model files are loaded, unless load is called with `check=False`. The load check only produces screen output if load is called with `verbose=True`. Checks are also performed at the package level when an individual package is loaded\n",
    "\n",
    "#### The `check()` method\n",
    "Each model and each package has a `check()` method. The check method has three arguments:"
   ]
  },
  {
   "cell_type": "code",
   "execution_count": null,
   "metadata": {
    "execution": {
     "iopub.execute_input": "2023-02-22T02:42:24.783780Z",
     "iopub.status.busy": "2023-02-22T02:42:24.783185Z",
     "iopub.status.idle": "2023-02-22T02:42:24.790059Z",
     "shell.execute_reply": "2023-02-22T02:42:24.788751Z"
    }
   },
   "outputs": [],
   "source": [
    "help(m.check)"
   ]
  },
  {
   "cell_type": "markdown",
   "metadata": {},
   "source": [
    "#### The check class\n",
    "\n",
    "By default, check is called at the model level without a summary output file, but with `verbose=True` and `level=1`. The check methods return an instance of the **check** class, which is housed with the flopy utilities."
   ]
  },
  {
   "cell_type": "code",
   "execution_count": null,
   "metadata": {
    "execution": {
     "iopub.execute_input": "2023-02-22T02:42:24.795909Z",
     "iopub.status.busy": "2023-02-22T02:42:24.795402Z",
     "iopub.status.idle": "2023-02-22T02:42:24.833788Z",
     "shell.execute_reply": "2023-02-22T02:42:24.832469Z"
    }
   },
   "outputs": [],
   "source": [
    "chk = m.check()"
   ]
  },
  {
   "cell_type": "markdown",
   "metadata": {},
   "source": [
    "#### Summary array\n",
    "Most of the attributes and methods in **check** are intended to be used by the ``check()`` methods. The central attribute of **check** is the summary array:"
   ]
  },
  {
   "cell_type": "code",
   "execution_count": null,
   "metadata": {
    "execution": {
     "iopub.execute_input": "2023-02-22T02:42:24.839178Z",
     "iopub.status.busy": "2023-02-22T02:42:24.838385Z",
     "iopub.status.idle": "2023-02-22T02:42:24.849682Z",
     "shell.execute_reply": "2023-02-22T02:42:24.848661Z"
    }
   },
   "outputs": [],
   "source": [
    "chk.summary_array"
   ]
  },
  {
   "cell_type": "markdown",
   "metadata": {},
   "source": [
    "This is a numpy record array that summarizes errors and warnings found by the checker. The package, layer-row-column location of the error, the offending value, and a description of the error are provided. In the checker, errors and warnings are loosely defined as follows:  \n",
    "#### Errors:\n",
    "\n",
    "either input that would cause MODFLOW to crash, or inputs that almost certainly mis-represent the intended conceptual model.\n",
    "\n",
    "#### Warnings:\n",
    "\n",
    "inputs that are potentially problematic, but may be intentional.\n",
    "\n",
    "each package-level check produces a **check** instance with a summary array. The model level checks combine the summary arrays from the packages into a master summary array. At the model and the package levels, the summary array is used to generate the screen output shown above. At either level, the summary array can be written to a csv file by supply a filename to the `f` argument. Specifying `level=2` prints the summary array to the screen."
   ]
  },
  {
   "cell_type": "code",
   "execution_count": null,
   "metadata": {
    "execution": {
     "iopub.execute_input": "2023-02-22T02:42:24.857432Z",
     "iopub.status.busy": "2023-02-22T02:42:24.856963Z",
     "iopub.status.idle": "2023-02-22T02:42:24.887344Z",
     "shell.execute_reply": "2023-02-22T02:42:24.886308Z"
    }
   },
   "outputs": [],
   "source": [
    "m.check(level=2)"
   ]
  },
  {
   "cell_type": "markdown",
   "metadata": {},
   "source": [
    "#### example of package level check and summary file"
   ]
  },
  {
   "cell_type": "code",
   "execution_count": null,
   "metadata": {
    "execution": {
     "iopub.execute_input": "2023-02-22T02:42:24.891147Z",
     "iopub.status.busy": "2023-02-22T02:42:24.890762Z",
     "iopub.status.idle": "2023-02-22T02:42:24.898905Z",
     "shell.execute_reply": "2023-02-22T02:42:24.897736Z"
    }
   },
   "outputs": [],
   "source": [
    "m.rch.check()"
   ]
  },
  {
   "cell_type": "markdown",
   "metadata": {},
   "source": [
    "#### example of summary output file"
   ]
  },
  {
   "cell_type": "code",
   "execution_count": null,
   "metadata": {
    "execution": {
     "iopub.execute_input": "2023-02-22T02:42:24.904715Z",
     "iopub.status.busy": "2023-02-22T02:42:24.904306Z",
     "iopub.status.idle": "2023-02-22T02:42:24.929631Z",
     "shell.execute_reply": "2023-02-22T02:42:24.928806Z"
    }
   },
   "outputs": [],
   "source": [
    "m.check(f=os.path.join(workspace, \"checksummary.csv\"))"
   ]
  },
  {
   "cell_type": "code",
   "execution_count": null,
   "metadata": {
    "execution": {
     "iopub.execute_input": "2023-02-22T02:42:24.934716Z",
     "iopub.status.busy": "2023-02-22T02:42:24.934261Z",
     "iopub.status.idle": "2023-02-22T02:42:24.950812Z",
     "shell.execute_reply": "2023-02-22T02:42:24.949949Z"
    }
   },
   "outputs": [],
   "source": [
    "summary_pth = os.path.join(workspace, \"checksummary.csv\")\n",
    "\n",
    "try:\n",
    "    import pandas as pd\n",
    "\n",
    "    df = pd.read_csv(summary_pth)\n",
    "except:\n",
    "    df = open(summary_pth).readlines()\n",
    "df"
   ]
  },
  {
   "cell_type": "markdown",
   "metadata": {},
   "source": [
    "#### checking on `write_input()`\n",
    "checking is also performed by default when `write_input()` is called at the package or model level. Checking on write is performed with the same `verbose` setting as specified for the model. However, if errors or warnings are encountered and `level=1` (default) or higher, a screen message notifies the user of the errors.\n",
    "\n",
    "By default, the checks performed on `load()` and `write_input()` save results to a summary file, which is named after the packge or the model."
   ]
  },
  {
   "cell_type": "code",
   "execution_count": null,
   "metadata": {
    "execution": {
     "iopub.execute_input": "2023-02-22T02:42:24.955869Z",
     "iopub.status.busy": "2023-02-22T02:42:24.955441Z",
     "iopub.status.idle": "2023-02-22T02:42:24.965858Z",
     "shell.execute_reply": "2023-02-22T02:42:24.965003Z"
    },
    "pycharm": {
     "name": "#%%\n"
    }
   },
   "outputs": [],
   "source": [
    "m.write_input()"
   ]
  }
 ],
 "metadata": {
  "anaconda-cloud": {},
  "kernelspec": {
   "display_name": "Python 3 (ipykernel)",
   "language": "python",
   "name": "python3"
  },
  "language_info": {
   "codemirror_mode": {
    "name": "ipython",
    "version": 3
   },
   "file_extension": ".py",
   "mimetype": "text/x-python",
   "name": "python",
   "nbconvert_exporter": "python",
   "pygments_lexer": "ipython3",
   "version": "3.10.6"
  }
 },
 "nbformat": 4,
 "nbformat_minor": 4
}
