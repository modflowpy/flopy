{
 "cells": [
  {
   "cell_type": "markdown",
   "metadata": {},
   "source": [
    "## This example shows some utilities for post-processing head results from MODFLOW"
   ]
  },
  {
   "cell_type": "code",
   "execution_count": null,
   "metadata": {},
   "outputs": [],
   "source": [
    "import os\n",
    "import sys\n",
    "import numpy as np\n",
    "import matplotlib.pyplot as plt\n",
    "\n",
    "# run installed version of flopy or add local path\n",
    "try:\n",
    "    import flopy\n",
    "except:\n",
    "    fpth = os.path.abspath(os.path.join('..', '..'))\n",
    "    sys.path.append(fpth)\n",
    "    import flopy\n",
    "    \n",
    "from flopy.utils.postprocessing import get_transmissivities, get_water_table, get_gradients, get_saturated_thickness\n",
    "import flopy.utils.binaryfile as bf\n",
    "\n",
    "%matplotlib inline\n",
    "fm = flopy.modflow"
   ]
  },
  {
   "cell_type": "code",
   "execution_count": null,
   "metadata": {},
   "outputs": [],
   "source": [
    "mfnam = 'EXAMPLE.nam'\n",
    "model_ws = '../data/mp6/'\n",
    "heads_file = 'EXAMPLE.HED'"
   ]
  },
  {
   "cell_type": "markdown",
   "metadata": {},
   "source": [
    "### Load example model and head results"
   ]
  },
  {
   "cell_type": "code",
   "execution_count": null,
   "metadata": {},
   "outputs": [],
   "source": [
    "m = fm.Modflow.load(mfnam, model_ws=model_ws)"
   ]
  },
  {
   "cell_type": "code",
   "execution_count": null,
   "metadata": {},
   "outputs": [],
   "source": [
    "hdsobj = bf.HeadFile(model_ws+heads_file)\n",
    "hds = hdsobj.get_data(kstpkper=(0, 2))\n",
    "hds.shape"
   ]
  },
  {
   "cell_type": "markdown",
   "metadata": {},
   "source": [
    "### Plot heads in each layer; export the heads and head contours for viewing in a GIS\n",
    "for more information about GIS export, type `help(export_array)`, for example"
   ]
  },
  {
   "cell_type": "code",
   "execution_count": null,
   "metadata": {
    "scrolled": false
   },
   "outputs": [],
   "source": [
    "fig, axes = plt.subplots(2, 3, figsize=(11, 8.5))\n",
    "axes = axes.flat\n",
    "grid = m.modelgrid\n",
    "for i, hdslayer in enumerate(hds):\n",
    "    im = axes[i].imshow(hdslayer, vmin=hds.min(), vmax=hds.max())\n",
    "    axes[i].set_title('Layer {}'.format(i+1))\n",
    "    ctr = axes[i].contour(hdslayer, colors='k', linewidths=0.5)\n",
    "    \n",
    "    # export head rasters \n",
    "    # (GeoTiff export requires the rasterio package; for ascii grids, just change the extension to *.asc)\n",
    "    flopy.export.utils.export_array(grid, 'data/heads{}.tif'.format(i+1), hdslayer)\n",
    "    \n",
    "    # export head contours to a shapefile\n",
    "    flopy.export.utils.export_array_contours(grid, 'data/heads{}.shp'.format(i+1), hdslayer)\n",
    "    \n",
    "fig.delaxes(axes[-1])\n",
    "fig.subplots_adjust(right=0.8)\n",
    "cbar_ax = fig.add_axes([0.85, 0.15, 0.03, 0.7])\n",
    "fig.colorbar(im, cax=cbar_ax, label='Head')"
   ]
  },
  {
   "cell_type": "markdown",
   "metadata": {},
   "source": [
    "### Compare rotated arc-ascii and GeoTiff output"
   ]
  },
  {
   "cell_type": "code",
   "execution_count": null,
   "metadata": {},
   "outputs": [],
   "source": [
    "m.sr.rotation = 30.\n",
    "nodata = 0.\n",
    "flopy.export.utils.export_array(grid, 'data/heads5_rot.asc', hdslayer, nodata=nodata)\n",
    "flopy.export.utils.export_array(grid, 'data/heads5_rot.tif', hdslayer, nodata=nodata)\n",
    "\n",
    "results = np.loadtxt('data/heads5_rot.asc'.format(i+1), skiprows=6)\n",
    "results[results == nodata] = np.nan\n",
    "plt.imshow(results)\n",
    "plt.colorbar()\n",
    "results.shape"
   ]
  },
  {
   "cell_type": "code",
   "execution_count": null,
   "metadata": {},
   "outputs": [],
   "source": [
    "try:\n",
    "    import rasterio\n",
    "except:\n",
    "    rasterio = None\n",
    "    print('install rasterio to create GeoTiff output')\n",
    "if rasterio is not None:\n",
    "    with rasterio.open('data/heads5_rot.tif'.format(i+1)) as src:\n",
    "        print(src.meta)\n",
    "        plt.imshow(src.read(1))"
   ]
  },
  {
   "cell_type": "markdown",
   "metadata": {},
   "source": [
    "### Get the vertical head gradients between layers"
   ]
  },
  {
   "cell_type": "code",
   "execution_count": null,
   "metadata": {},
   "outputs": [],
   "source": [
    "grad = get_gradients(hds, m, nodata=-999)\n",
    "\n",
    "fig, axes = plt.subplots(2, 3, figsize=(11, 8.5))\n",
    "axes = axes.flat\n",
    "\n",
    "for i, vertical_gradient in enumerate(grad):\n",
    "    im = axes[i].imshow(vertical_gradient, vmin=grad.min(), vmax=grad.max())\n",
    "    axes[i].set_title('Vertical gradient\\nbetween Layers {} and {}'.format(i+1, i+2))\n",
    "    ctr = axes[i].contour(vertical_gradient, levels=[-.1, -.05, 0., .05, .1],\n",
    "                          colors='k', linewidths=0.5)\n",
    "    plt.clabel(ctr, fontsize=8, inline=1)\n",
    "    \n",
    "fig.delaxes(axes[-2])\n",
    "fig.delaxes(axes[-1])\n",
    "fig.subplots_adjust(right=0.8)\n",
    "cbar_ax = fig.add_axes([0.85, 0.15, 0.03, 0.7])\n",
    "fig.colorbar(im, cax=cbar_ax, label='positive downward')\n"
   ]
  },
  {
   "cell_type": "markdown",
   "metadata": {},
   "source": [
    "### Get the saturated thickness of a layer\n",
    "`get_saturated_thickness()` returns an nlay, nrow, ncol array of saturated thicknesses."
   ]
  },
  {
   "cell_type": "code",
   "execution_count": null,
   "metadata": {},
   "outputs": [],
   "source": [
    "st = get_saturated_thickness(hds, m, nodata=-9999)\n",
    "\n",
    "plt.imshow(st[0])\n",
    "plt.colorbar(label='Saturated thickness')\n",
    "plt.title('Layer 1')"
   ]
  },
  {
   "cell_type": "markdown",
   "metadata": {},
   "source": [
    "### Get the water table\n",
    "`get_water_table()` returns an nrow, ncol array of the water table elevation.  \n",
    "This method can be useful when HDRY is turned on and the water table is in multiple layers."
   ]
  },
  {
   "cell_type": "code",
   "execution_count": null,
   "metadata": {},
   "outputs": [],
   "source": [
    "wt = get_water_table(heads=hds, nodata=-9999)\n",
    "\n",
    "plt.imshow(wt)\n",
    "plt.colorbar(label='Elevation')"
   ]
  },
  {
   "cell_type": "markdown",
   "metadata": {},
   "source": [
    "### Get layer transmissivities at arbitrary locations, accounting for the position of the water table\n",
    "* for this method, the heads input is an nlay x nobs array of head results, which could be constructed using the Hydmod package with an observation in each layer at each observation location, for example . \n",
    "* x, y values in real-world coordinates can be used in lieu of row, column, provided a correct coordinate information is supplied to the flopy model object's grid. \n",
    "* open interval tops and bottoms can be supplied at each location for computing transmissivity-weighted average heads \n",
    "* this method can also be used for apportioning boundary fluxes for an inset from a 2-D regional model  \n",
    "* see `**flopy3_get_transmissivities_example.ipynb**` for more details on how this method works"
   ]
  },
  {
   "cell_type": "code",
   "execution_count": null,
   "metadata": {},
   "outputs": [],
   "source": [
    "r=[20, 5] \n",
    "c=[5, 20]\n",
    "headresults = hds[:, r, c]\n",
    "get_transmissivities(headresults, m, r=r, c=c)"
   ]
  },
  {
   "cell_type": "code",
   "execution_count": null,
   "metadata": {},
   "outputs": [],
   "source": [
    "r=[20, 5] \n",
    "c=[5, 20]\n",
    "sctop = [340, 320] # top of open interval at each location\n",
    "scbot = [210, 150] # top of bottom interval at each location\n",
    "headresults = hds[:, r, c]\n",
    "tr = get_transmissivities(headresults, m, r=r, c=c, \n",
    "                          sctop=sctop, scbot=scbot)\n",
    "tr"
   ]
  },
  {
   "cell_type": "markdown",
   "metadata": {},
   "source": [
    "#### convert to transmissivity fractions"
   ]
  },
  {
   "cell_type": "code",
   "execution_count": null,
   "metadata": {},
   "outputs": [],
   "source": [
    "trfrac = tr/tr.sum(axis=0)\n",
    "trfrac"
   ]
  },
  {
   "cell_type": "markdown",
   "metadata": {},
   "source": [
    "#### Layer 3 contributes almost no transmissivity because of its K-value"
   ]
  },
  {
   "cell_type": "code",
   "execution_count": null,
   "metadata": {},
   "outputs": [],
   "source": [
    "m.lpf.hk.array[:, r, c]"
   ]
  },
  {
   "cell_type": "code",
   "execution_count": null,
   "metadata": {},
   "outputs": [],
   "source": [
    "m.dis.thickness.array[:, r, c]"
   ]
  }
 ],
 "metadata": {
  "anaconda-cloud": {},
  "kernelspec": {
   "display_name": "Python 3",
   "language": "python",
   "name": "python3"
  },
  "language_info": {
   "codemirror_mode": {
    "name": "ipython",
    "version": 3
   },
   "file_extension": ".py",
   "mimetype": "text/x-python",
   "name": "python",
   "nbconvert_exporter": "python",
   "pygments_lexer": "ipython3",
   "version": "3.6.5"
  }
 },
 "nbformat": 4,
 "nbformat_minor": 2
}
