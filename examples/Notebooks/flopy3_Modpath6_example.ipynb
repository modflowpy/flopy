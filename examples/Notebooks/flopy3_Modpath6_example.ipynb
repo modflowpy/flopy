{
 "cells": [
  {
   "cell_type": "markdown",
   "metadata": {},
   "source": [
    "# FloPy\n",
    "## MODPATH example\n",
    "\n",
    "This notebook demonstrates how to create and run forward and backward tracking with MODPATH. The notebooks also shows how to create subsets of pathline and endpoint information, plot MODPATH results on ModelMap objects, and export endpoints and pathlines as shapefiles."
   ]
  },
  {
   "cell_type": "code",
   "execution_count": null,
   "metadata": {},
   "outputs": [],
   "source": [
    "%matplotlib inline\n",
    "import sys\n",
    "import shutil\n",
    "import os\n",
    "import glob\n",
    "import numpy as np\n",
    "import pandas as pd\n",
    "import matplotlib as mpl\n",
    "import matplotlib.pyplot as plt\n",
    "\n",
    "# run installed version of flopy or add local path\n",
    "try:\n",
    "    import flopy\n",
    "except:\n",
    "    fpth = os.path.abspath(os.path.join('..', '..'))\n",
    "    sys.path.append(fpth)\n",
    "    import flopy\n",
    "\n",
    "print(sys.version)\n",
    "print('numpy version: {}'.format(np.__version__))\n",
    "print('matplotlib version: {}'.format(mpl.__version__))\n",
    "print('pandas version: {}'.format(pd.__version__))\n",
    "print('flopy version: {}'.format(flopy.__version__))\n",
    "\n",
    "if not os.path.exists(\"data\"):\n",
    "    os.mkdir(\"data\")"
   ]
  },
  {
   "cell_type": "markdown",
   "metadata": {},
   "source": [
    "### Copy modflow datasets to scratch directory"
   ]
  },
  {
   "cell_type": "code",
   "execution_count": null,
   "metadata": {},
   "outputs": [],
   "source": []
  },
  {
   "cell_type": "code",
   "execution_count": null,
   "metadata": {},
   "outputs": [],
   "source": [
    "mffiles = glob.glob(os.path.join('..', 'data', 'mp6', 'EXAMPLE.*'))\n",
    "for f in mffiles:\n",
    "    print(f)\n",
    "    shutil.copy(f, os.path.join('data', os.path.split(f)[-1]))"
   ]
  },
  {
   "cell_type": "markdown",
   "metadata": {},
   "source": [
    "### Load MODFLOW model"
   ]
  },
  {
   "cell_type": "code",
   "execution_count": null,
   "metadata": {},
   "outputs": [],
   "source": [
    "model_ws = 'data'\n",
    "m = flopy.modflow.Modflow.load('EXAMPLE.nam', model_ws=model_ws)\n",
    "m.sr.length_multiplier = 1.0\n",
    "m.get_package_list()"
   ]
  },
  {
   "cell_type": "code",
   "execution_count": null,
   "metadata": {},
   "outputs": [],
   "source": [
    "nrow, ncol, nlay, nper = m.nrow_ncol_nlay_nper\n",
    "nrow, ncol, nlay, nper "
   ]
  },
  {
   "cell_type": "code",
   "execution_count": null,
   "metadata": {},
   "outputs": [],
   "source": [
    "m.dis.steady.array"
   ]
  },
  {
   "cell_type": "code",
   "execution_count": null,
   "metadata": {},
   "outputs": [],
   "source": [
    "m.write_input()"
   ]
  },
  {
   "cell_type": "code",
   "execution_count": null,
   "metadata": {},
   "outputs": [],
   "source": [
    "hdsfile = flopy.utils.HeadFile(os.path.join(model_ws,'EXAMPLE.HED'))\n",
    "hdsfile.get_kstpkper()"
   ]
  },
  {
   "cell_type": "code",
   "execution_count": null,
   "metadata": {},
   "outputs": [],
   "source": [
    "hds = hdsfile.get_data(kstpkper=(0, 2))"
   ]
  },
  {
   "cell_type": "markdown",
   "metadata": {},
   "source": [
    "### Plot RIV bc and head results"
   ]
  },
  {
   "cell_type": "code",
   "execution_count": null,
   "metadata": {},
   "outputs": [],
   "source": [
    "plt.imshow(hds[4, :, :])\n",
    "plt.colorbar();"
   ]
  },
  {
   "cell_type": "code",
   "execution_count": null,
   "metadata": {},
   "outputs": [],
   "source": [
    "fig = plt.figure(figsize=(8, 8))\n",
    "ax = fig.add_subplot(1, 1, 1, aspect='equal')\n",
    "modelmap = flopy.plot.ModelMap(model=m, layer=4)\n",
    "quadmesh = modelmap.plot_ibound()\n",
    "linecollection = modelmap.plot_grid()\n",
    "riv = modelmap.plot_bc('RIV', color='g', plotAll=True)\n",
    "quadmesh = modelmap.plot_bc('WEL', kper=1, plotAll=True)\n",
    "contour_set = modelmap.contour_array(hds, \n",
    "                                     levels=np.arange(np.min(hds),np.max(hds),0.5), colors='b')\n",
    "plt.clabel(contour_set, inline=1, fontsize=14)"
   ]
  },
  {
   "cell_type": "markdown",
   "metadata": {},
   "source": [
    "## Create forward particle tracking simulation where particles are released at the top of each cell in layer 1\n",
    "* specifying the recharge package in ```create_mpsim``` releases a single particle on iface=6 of each top cell  \n",
    "* start the particles at begining of per 3, step 1, as in example 3 in MODPATH6 manual"
   ]
  },
  {
   "cell_type": "code",
   "execution_count": null,
   "metadata": {},
   "outputs": [],
   "source": [
    "mp = flopy.modpath.Modpath(modelname='ex6',\n",
    "                           exe_name='mp6',\n",
    "                           modflowmodel=m,\n",
    "                           model_ws='data',\n",
    "                           dis_file=m.name+'.DIS',\n",
    "                           head_file=m.name+'.hed',\n",
    "                           budget_file=m.name+'.bud')\n",
    "\n",
    "mpb = flopy.modpath.ModpathBas(mp, hdry=m.lpf.hdry, laytyp=m.lpf.laytyp, ibound=1, prsity=0.1)\n",
    "\n",
    "# start the particles at begining of per 3, step 1, as in example 3 in MODPATH6 manual\n",
    "# (otherwise particles will all go to river)\n",
    "sim = mp.create_mpsim(trackdir='forward', simtype='pathline', packages='RCH', start_time=(2, 0, 1.))\n",
    "mp.write_input()\n",
    "\n",
    "mp.run_model(silent=False)"
   ]
  },
  {
   "cell_type": "markdown",
   "metadata": {},
   "source": [
    "### Read in the endpoint file and plot particles that terminated in the well"
   ]
  },
  {
   "cell_type": "code",
   "execution_count": null,
   "metadata": {},
   "outputs": [],
   "source": [
    "fpth = os.path.join('data','ex6.mpend')\n",
    "epobj = flopy.utils.EndpointFile(fpth)\n",
    "well_epd = epobj.get_destination_endpoint_data(dest_cells=[(4, 12, 12)]) \n",
    "# returns record array of same form as epobj.get_all_data()"
   ]
  },
  {
   "cell_type": "code",
   "execution_count": null,
   "metadata": {},
   "outputs": [],
   "source": [
    "well_epd[0:2]"
   ]
  },
  {
   "cell_type": "code",
   "execution_count": null,
   "metadata": {},
   "outputs": [],
   "source": [
    "fig = plt.figure(figsize=(8, 8))\n",
    "ax = fig.add_subplot(1, 1, 1, aspect='equal')\n",
    "modelmap = flopy.plot.ModelMap(model=m, layer=2)\n",
    "quadmesh = modelmap.plot_ibound()\n",
    "linecollection = modelmap.plot_grid()\n",
    "riv = modelmap.plot_bc('RIV', color='g', plotAll=True)\n",
    "quadmesh = modelmap.plot_bc('WEL', kper=1, plotAll=True)\n",
    "contour_set = modelmap.contour_array(hds, \n",
    "                                     levels=np.arange(np.min(hds),np.max(hds),0.5), colors='b')\n",
    "plt.clabel(contour_set, inline=1, fontsize=14)\n",
    "modelmap.plot_endpoint(well_epd, direction='starting', colorbar=True)"
   ]
  },
  {
   "cell_type": "markdown",
   "metadata": {},
   "source": [
    "### Write starting locations to a shapefile"
   ]
  },
  {
   "cell_type": "code",
   "execution_count": null,
   "metadata": {},
   "outputs": [],
   "source": [
    "fpth = os.path.join('data','starting_locs.shp')\n",
    "print(type(fpth))\n",
    "epobj.write_shapefile(well_epd, direction='starting', shpname=fpth, sr=m.sr)"
   ]
  },
  {
   "cell_type": "markdown",
   "metadata": {},
   "source": [
    "### Read in the pathline file and subset to pathlines that terminated in the well  "
   ]
  },
  {
   "cell_type": "code",
   "execution_count": null,
   "metadata": {},
   "outputs": [],
   "source": [
    "# make a selection of cells that terminate in the well cell = (4, 12, 12)\n",
    "pthobj = flopy.utils.PathlineFile(os.path.join('data','ex6.mppth'))\n",
    "well_pathlines = pthobj.get_destination_pathline_data(dest_cells=[(4, 12, 12)])"
   ]
  },
  {
   "cell_type": "markdown",
   "metadata": {},
   "source": [
    "### Plot the pathlines that terminate in the well and the starting locations of the particles"
   ]
  },
  {
   "cell_type": "code",
   "execution_count": null,
   "metadata": {},
   "outputs": [],
   "source": [
    "fig = plt.figure(figsize=(8, 8))\n",
    "ax = fig.add_subplot(1, 1, 1, aspect='equal')\n",
    "modelmap = flopy.plot.ModelMap(model=m, layer=2)\n",
    "quadmesh = modelmap.plot_ibound()\n",
    "linecollection = modelmap.plot_grid()\n",
    "riv = modelmap.plot_bc('RIV', color='g', plotAll=True)\n",
    "quadmesh = modelmap.plot_bc('WEL', kper=1, plotAll=True)\n",
    "contour_set = modelmap.contour_array(hds, \n",
    "                                     levels=np.arange(np.min(hds),np.max(hds),0.5), colors='b')\n",
    "plt.clabel(contour_set, inline=1, fontsize=14)\n",
    "\n",
    "modelmap.plot_endpoint(well_epd, direction='starting', colorbar=True)\n",
    "#for now, each particle must be plotted individually \n",
    "#(plot_pathline() will plot a single line for recarray with multiple particles)\n",
    "#for pid in np.unique(well_pathlines.particleid):\n",
    "#   modelmap.plot_pathline(pthobj.get_data(pid), layer='all', colors='red');\n",
    "modelmap.plot_pathline(well_pathlines, layer='all', colors='red');\n"
   ]
  },
  {
   "cell_type": "markdown",
   "metadata": {},
   "source": [
    "### Write pathlines to a shapefile  "
   ]
  },
  {
   "cell_type": "code",
   "execution_count": null,
   "metadata": {},
   "outputs": [],
   "source": [
    "# one line feature per particle\n",
    "pthobj.write_shapefile(well_pathlines,\n",
    "                       direction='starting', shpname=os.path.join('data','pathlines.shp'),\n",
    "                       mg=m.modelgrid)\n",
    "\n",
    "# one line feature for each row in pathline file \n",
    "# (can be used to color lines by time or layer in a GIS)\n",
    "pthobj.write_shapefile(well_pathlines, one_per_particle=False, shpname=os.path.join('data','pathlines_1per.shp'),\n",
    "                       mg=m.modelgrid)"
   ]
  },
  {
   "cell_type": "markdown",
   "metadata": {},
   "source": [
    "## Replace WEL package with MNW2; create backward tracking simulation using particles released at MNW well"
   ]
  },
  {
   "cell_type": "code",
   "execution_count": null,
   "metadata": {},
   "outputs": [],
   "source": [
    "model_ws = 'data'\n",
    "m2 = flopy.modflow.Modflow.load('EXAMPLE.nam', model_ws=model_ws, exe_name='mf2005')\n",
    "m2.get_package_list()"
   ]
  },
  {
   "cell_type": "code",
   "execution_count": null,
   "metadata": {},
   "outputs": [],
   "source": [
    "m2.nrow_ncol_nlay_nper"
   ]
  },
  {
   "cell_type": "code",
   "execution_count": null,
   "metadata": {},
   "outputs": [],
   "source": [
    "m2.wel.stress_period_data.data"
   ]
  },
  {
   "cell_type": "code",
   "execution_count": null,
   "metadata": {},
   "outputs": [],
   "source": [
    "node_data = np.array([(3, 12, 12, 'well1', 'skin', -1, 0, 0, 0, 1., 2., 5., 6.2),\n",
    "                      (4, 12, 12, 'well1', 'skin', -1, 0, 0, 0, 0.5, 2., 5., 6.2)], \n",
    "                     dtype=[('k', np.int), ('i', np.int), ('j', np.int), \n",
    "                            ('wellid', np.object), ('losstype', np.object), \n",
    "                            ('pumploc', np.int), ('qlimit', np.int), \n",
    "                            ('ppflag', np.int), ('pumpcap', np.int), \n",
    "                            ('rw', np.float), ('rskin', np.float), \n",
    "                            ('kskin', np.float), ('zpump', np.float)]).view(np.recarray)\n",
    "\n",
    "stress_period_data = {0: np.array([(0, 'well1', -150000.0)], dtype=[('per', np.int), ('wellid', np.object), \n",
    "                                                            ('qdes', np.float)])}"
   ]
  },
  {
   "cell_type": "code",
   "execution_count": null,
   "metadata": {},
   "outputs": [],
   "source": [
    "m2.name = 'Example_mnw'\n",
    "m2.remove_package('WEL')\n",
    "mnw2 = flopy.modflow.ModflowMnw2(model=m2, mnwmax=1,\n",
    "                                 node_data=node_data, \n",
    "                                 stress_period_data=stress_period_data, \n",
    "                                 itmp=[1, -1, -1])\n",
    "m2.get_package_list()"
   ]
  },
  {
   "cell_type": "markdown",
   "metadata": {},
   "source": [
    "### Write and run MODFLOW"
   ]
  },
  {
   "cell_type": "code",
   "execution_count": null,
   "metadata": {},
   "outputs": [],
   "source": [
    "m2.write_input()\n",
    "\n",
    "m2.run_model(silent=False)"
   ]
  },
  {
   "cell_type": "markdown",
   "metadata": {},
   "source": [
    "### Create new MODPATH object"
   ]
  },
  {
   "cell_type": "code",
   "execution_count": null,
   "metadata": {},
   "outputs": [],
   "source": [
    "mp = flopy.modpath.Modpath(modelname='ex6mnw',\n",
    "                           exe_name='mp6',\n",
    "                           modflowmodel=m2,\n",
    "                           model_ws='data',\n",
    "                           dis_file=m.name+'.DIS',\n",
    "                           head_file=m.name+'.hds',\n",
    "                           budget_file=m.name+'.cbc')\n",
    "\n",
    "mpb = flopy.modpath.ModpathBas(mp, hdry=m2.lpf.hdry, laytyp=m2.lpf.laytyp, ibound=1, prsity=0.1)\n",
    "sim = mp.create_mpsim(trackdir='backward', simtype='pathline', packages='MNW2')\n",
    "\n",
    "mp.write_input()\n",
    "\n",
    "mp.run_model(silent=False)"
   ]
  },
  {
   "cell_type": "markdown",
   "metadata": {},
   "source": [
    "### Read in results and plot"
   ]
  },
  {
   "cell_type": "code",
   "execution_count": null,
   "metadata": {},
   "outputs": [],
   "source": [
    "pthobj = flopy.utils.PathlineFile(os.path.join('data','ex6mnw.mppth'))\n",
    "epdobj = flopy.utils.EndpointFile(os.path.join('data','ex6mnw.mpend'))\n",
    "well_epd = epdobj.get_alldata()\n",
    "well_pathlines = pthobj.get_alldata() # returns a list of recarrays; one per pathline"
   ]
  },
  {
   "cell_type": "code",
   "execution_count": null,
   "metadata": {},
   "outputs": [],
   "source": [
    "fig = plt.figure(figsize=(8, 8))\n",
    "ax = fig.add_subplot(1, 1, 1, aspect='equal')\n",
    "modelmap = flopy.plot.ModelMap(model=m2, layer=2)\n",
    "quadmesh = modelmap.plot_ibound()\n",
    "linecollection = modelmap.plot_grid()\n",
    "riv = modelmap.plot_bc('RIV', color='g', plotAll=True)\n",
    "quadmesh = modelmap.plot_bc('MNW2', kper=1, plotAll=True)\n",
    "contour_set = modelmap.contour_array(hds, \n",
    "                                     levels=np.arange(np.min(hds),np.max(hds),0.5), colors='b')\n",
    "plt.clabel(contour_set, inline=1, fontsize=14)\n",
    "\n",
    "modelmap.plot_pathline(well_pathlines, travel_time='<10000',\n",
    "                       layer='all', colors='red');"
   ]
  }
 ],
 "metadata": {
  "anaconda-cloud": {},
  "kernelspec": {
   "display_name": "Python 3",
   "language": "python",
   "name": "python3"
  },
  "language_info": {
   "codemirror_mode": {
    "name": "ipython",
    "version": 3
   },
   "file_extension": ".py",
   "mimetype": "text/x-python",
   "name": "python",
   "nbconvert_exporter": "python",
   "pygments_lexer": "ipython3",
   "version": "3.6.5"
  }
 },
 "nbformat": 4,
 "nbformat_minor": 1
}
