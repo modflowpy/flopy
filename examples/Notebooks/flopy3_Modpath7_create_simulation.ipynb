{
 "cells": [
  {
   "cell_type": "markdown",
   "metadata": {},
   "source": [
    "# FloPy\n",
    "\n",
    "## MODPATH 7 create simulation example\n",
    "\n",
    "This notebook demonstrates how to create a simple forward and backward MODPATH 7 simulation using the `.create_mp7()` method. The notebooks also shows how to create subsets of endpoint output and plot MODPATH results on ModelMap objects."
   ]
  },
  {
   "cell_type": "code",
   "execution_count": 1,
   "metadata": {},
   "outputs": [
    {
     "name": "stdout",
     "output_type": "stream",
     "text": [
      "numpy version: 1.14.3\n",
      "matplotlib version: 2.2.2\n",
      "flopy version: 3.2.9\n"
     ]
    }
   ],
   "source": [
    "%matplotlib inline\n",
    "import sys\n",
    "import os\n",
    "import numpy as np\n",
    "import matplotlib as mpl\n",
    "import matplotlib.pyplot as plt\n",
    "import platform\n",
    "\n",
    "# run installed version of flopy or add local path\n",
    "try:\n",
    "    import flopy\n",
    "except:\n",
    "    fpth = os.path.abspath(os.path.join('..', '..'))\n",
    "    sys.path.append(fpth)\n",
    "    import flopy\n",
    "\n",
    "    print(sys.version)\n",
    "print('numpy version: {}'.format(np.__version__))\n",
    "print('matplotlib version: {}'.format(mpl.__version__))\n",
    "print('flopy version: {}'.format(flopy.__version__))\n",
    "\n",
    "if not os.path.exists(\"data\"):\n",
    "    os.mkdir(\"data\")\n",
    "    \n",
    "mpexe = \"mp7\"\n",
    "mfexe = \"mf6\"\n",
    "if platform.system() == \"Windows\":\n",
    "    mpexe += \".exe\"\n",
    "    mfexe += \".exe\""
   ]
  },
  {
   "cell_type": "markdown",
   "metadata": {},
   "source": [
    "### Flow model data"
   ]
  },
  {
   "cell_type": "code",
   "execution_count": 2,
   "metadata": {},
   "outputs": [],
   "source": [
    "nper, nstp, perlen, tsmult = 1, 1, 1., 1.\n",
    "nlay, nrow, ncol = 3, 21, 20\n",
    "delr = delc = 500.\n",
    "top = 400.\n",
    "botm = [220., 200., 0.]\n",
    "laytyp = [1, 0, 0]\n",
    "kh = [50., 0.01, 200.]\n",
    "kv = [10., 0.01, 20.]\n",
    "wel_loc = (2, 10, 9)\n",
    "wel_q = -150000.\n",
    "rch = 0.005\n",
    "riv_h = 320.\n",
    "riv_z = 317.\n",
    "riv_c = 1.e5"
   ]
  },
  {
   "cell_type": "code",
   "execution_count": 3,
   "metadata": {},
   "outputs": [],
   "source": [
    "def get_nodes(locs):\n",
    "    nodes = []\n",
    "    for k, i, j in locs:\n",
    "        nodes.append(k * nrow * ncol + i * ncol + j)\n",
    "    return nodes"
   ]
  },
  {
   "cell_type": "markdown",
   "metadata": {},
   "source": [
    "### MODPATH 7 using MODFLOW 6\n",
    "\n",
    "#### Create and run MODFLOW 6"
   ]
  },
  {
   "cell_type": "code",
   "execution_count": 4,
   "metadata": {},
   "outputs": [
    {
     "name": "stdout",
     "output_type": "stream",
     "text": [
      "writing simulation...\n",
      "  writing simulation name file...\n",
      "  writing simulation tdis package...\n",
      "  writing ims package ims...\n",
      "  writing model ex01_mf6...\n",
      "    writing model name file...\n",
      "    writing package dis...\n",
      "    writing package ic...\n",
      "    writing package npf...\n",
      "    writing package rcha...\n",
      "    writing package wel...\n",
      "    writing package riv_0...\n",
      "INFORMATION: maxbound in ('gwf6', 'riv', 'dimensions') changed to 21 based on size of stress_period_data\n",
      "    writing package oc...\n",
      "FloPy is using the following  executable to run the model: .\\mf6.exe\n",
      "                                   MODFLOW 6\n",
      "                U.S. GEOLOGICAL SURVEY MODULAR HYDROLOGIC MODEL\n",
      "                       VERSION mf6.0.2 February 23, 2018\n",
      "\n",
      "   MODFLOW 6 compiled Feb 21 2018 10:49:51 with IFORT compiler (ver. 18.0.1)\n",
      "\n",
      "This software has been approved for release by the U.S. Geological \n",
      "Survey (USGS). Although the software has been subjected to rigorous \n",
      "review, the USGS reserves the right to update the software as needed \n",
      "pursuant to further analysis and review. No warranty, expressed or \n",
      "implied, is made by the USGS or the U.S. Government as to the \n",
      "functionality of the software and related material nor shall the \n",
      "fact of release constitute any such warranty. Furthermore, the \n",
      "software is released on condition that neither the USGS nor the U.S. \n",
      "Government shall be held liable for any damages resulting from its \n",
      "authorized or unauthorized use. Also refer to the USGS Water \n",
      "Resources Software User Rights Notice for complete use, copyright, \n",
      "and distribution information.\n",
      "\n",
      " Run start date and time (yyyy/mm/dd hh:mm:ss): 2019/02/07 10:56:59\n",
      "\n",
      " Writing simulation list file: mfsim.lst\n",
      " Using Simulation name file: mfsim.nam\n",
      " Solving:  Stress period:     1    Time step:     1\n",
      " Run end date and time (yyyy/mm/dd hh:mm:ss): 2019/02/07 10:56:59\n",
      " Elapsed run time:  0.077 Seconds\n",
      "\n",
      " Normal termination of simulation.\n"
     ]
    }
   ],
   "source": [
    "ws = os.path.join('data', 'mp7_ex1_cs')\n",
    "nm = 'ex01_mf6'\n",
    "\n",
    "# Create the Flopy simulation object\n",
    "sim = flopy.mf6.MFSimulation(sim_name=nm, exe_name=mfexe,\n",
    "                             version='mf6', sim_ws=ws)\n",
    "\n",
    "# Create the Flopy temporal discretization object\n",
    "pd = (perlen, nstp, tsmult)\n",
    "tdis = flopy.mf6.modflow.mftdis.ModflowTdis(sim, pname='tdis',\n",
    "                                            time_units='DAYS', nper=nper,\n",
    "                                            perioddata=[pd])\n",
    "\n",
    "# Create the Flopy groundwater flow (gwf) model object\n",
    "model_nam_file = '{}.nam'.format(nm)\n",
    "gwf = flopy.mf6.ModflowGwf(sim, modelname=nm,\n",
    "                           model_nam_file=model_nam_file, save_flows=True)\n",
    "\n",
    "# Create the Flopy iterative model solver (ims) Package object\n",
    "ims = flopy.mf6.modflow.mfims.ModflowIms(sim, pname='ims', \n",
    "                                         complexity='SIMPLE',\n",
    "                                         outer_hclose=1e-6,\n",
    "                                         inner_hclose=1e-6,\n",
    "                                         rcloserecord=1e-6)\n",
    "\n",
    "# create gwf file\n",
    "dis = flopy.mf6.modflow.mfgwfdis.ModflowGwfdis(gwf, pname='dis', nlay=nlay,\n",
    "                                               nrow=nrow, ncol=ncol,\n",
    "                                               length_units='FEET',\n",
    "                                               delr=delr, delc=delc,\n",
    "                                               top=top,\n",
    "                                               botm=botm)\n",
    "# Create the initial conditions package\n",
    "ic = flopy.mf6.modflow.mfgwfic.ModflowGwfic(gwf, pname='ic', strt=top)\n",
    "\n",
    "# Create the node property flow package\n",
    "npf = flopy.mf6.modflow.mfgwfnpf.ModflowGwfnpf(gwf, pname='npf',\n",
    "                                               icelltype=laytyp, k=kh,\n",
    "                                               k33=kv)\n",
    "\n",
    "\n",
    "# recharge\n",
    "flopy.mf6.modflow.mfgwfrcha.ModflowGwfrcha(gwf, recharge=rch)\n",
    "# wel\n",
    "wd = [(wel_loc, wel_q)]\n",
    "flopy.mf6.modflow.mfgwfwel.ModflowGwfwel(gwf, maxbound=1,\n",
    "                                         stress_period_data={0: wd})\n",
    "# river\n",
    "rd = []\n",
    "for i in range(nrow):\n",
    "    rd.append([(0, i, ncol - 1), riv_h, riv_c, riv_z])\n",
    "flopy.mf6.modflow.mfgwfriv.ModflowGwfriv(gwf, stress_period_data={0: rd})\n",
    "# Create the output control package\n",
    "headfile = '{}.hds'.format(nm)\n",
    "head_record = [headfile]\n",
    "budgetfile = '{}.cbb'.format(nm)\n",
    "budget_record = [budgetfile]\n",
    "saverecord = [('HEAD', 'ALL'),\n",
    "              ('BUDGET', 'ALL')]\n",
    "oc = flopy.mf6.modflow.mfgwfoc.ModflowGwfoc(gwf, pname='oc',\n",
    "                                            saverecord=saverecord,\n",
    "                                            head_filerecord=head_record,\n",
    "                                            budget_filerecord=budget_record)\n",
    "\n",
    "# Write the datasets\n",
    "sim.write_simulation()\n",
    "# Run the simulation\n",
    "success, buff = sim.run_simulation()\n",
    "assert success, 'mf6 model did not run'"
   ]
  },
  {
   "cell_type": "code",
   "execution_count": 5,
   "metadata": {},
   "outputs": [
    {
     "data": {
      "text/plain": [
       "xul:0; yul:10500; rotation:0; proj4_str:None; units:meters; lenuni:1; length_multiplier:1"
      ]
     },
     "execution_count": 5,
     "metadata": {},
     "output_type": "execute_result"
    }
   ],
   "source": [
    "# this is a fix until the grid object is available\n",
    "sr = flopy.utils.SpatialReference(xll=0, yll=0, delr=gwf.dis.delr.array, delc=gwf.dis.delc.array, \n",
    "                                    units='meters', lenuni=1, length_multiplier=1)\n",
    "sr"
   ]
  },
  {
   "cell_type": "markdown",
   "metadata": {},
   "source": [
    "Get locations to extract data"
   ]
  },
  {
   "cell_type": "code",
   "execution_count": 6,
   "metadata": {},
   "outputs": [],
   "source": [
    "nodew = get_nodes([wel_loc])\n",
    "cellids = gwf.riv.stress_period_data.get_data()[0]['cellid']\n",
    "nodesr = get_nodes(cellids)"
   ]
  },
  {
   "cell_type": "markdown",
   "metadata": {},
   "source": [
    "#### Create and run MODPATH 7\n",
    "\n",
    "Forward tracking"
   ]
  },
  {
   "cell_type": "code",
   "execution_count": 7,
   "metadata": {},
   "outputs": [
    {
     "name": "stdout",
     "output_type": "stream",
     "text": [
      "FloPy is using the following  executable to run the model: .\\mp7.exe\n",
      "\n",
      "MODPATH Version 7.2.001   \n",
      "Program compiled Dec 22 2017 11:11:36 with IFORT compiler (ver. 16.0.0)         \n",
      " \n",
      " \n",
      "Run particle tracking simulation ...\n",
      "Processing Time Step     1 Period     1.  Time =  1.00000E+00  Steady-state flow                                                    \n",
      "\n",
      "Particle Summary:\n",
      "         0 particles are pending release.\n",
      "         0 particles remain active.\n",
      "         0 particles terminated at boundary faces.\n",
      "         0 particles terminated at weak sink cells.\n",
      "         0 particles terminated at weak source cells.\n",
      "      1260 particles terminated at strong source/sink cells.\n",
      "         0 particles terminated in cells with a specified zone number.\n",
      "         0 particles were stranded in inactive or dry cells.\n",
      "         0 particles were unreleased.\n",
      "         0 particles have an unknown status.\n",
      " \n",
      "Normal termination.                                                        \n"
     ]
    },
    {
     "data": {
      "text/plain": [
       "(True, [])"
      ]
     },
     "execution_count": 7,
     "metadata": {},
     "output_type": "execute_result"
    }
   ],
   "source": [
    "# create modpath files\n",
    "mpnamf = nm + '_mp_forward'\n",
    "\n",
    "# create basic forward tracking modpath simulation\n",
    "mp = flopy.modpath.Modpath7.create_mp7(modelname=mpnamf, trackdir='forward', flowmodel=gwf, model_ws=ws, \n",
    "                                       rowcelldivisions=1, columncelldivisions=1, layercelldivisions=1,\n",
    "                                       exe_name=mpexe)\n",
    "\n",
    "# write modpath datasets\n",
    "mp.write_input()\n",
    "\n",
    "# run modpath\n",
    "mp.run_model()"
   ]
  },
  {
   "cell_type": "markdown",
   "metadata": {},
   "source": [
    "Backward tracking from well and river locations"
   ]
  },
  {
   "cell_type": "code",
   "execution_count": 8,
   "metadata": {},
   "outputs": [
    {
     "name": "stdout",
     "output_type": "stream",
     "text": [
      "FloPy is using the following  executable to run the model: .\\mp7.exe\n",
      "\n",
      "MODPATH Version 7.2.001   \n",
      "Program compiled Dec 22 2017 11:11:36 with IFORT compiler (ver. 16.0.0)         \n",
      " \n",
      " \n",
      "Run particle tracking simulation ...\n",
      "Processing Time Step     1 Period     1.  Time =  1.00000E+00  Steady-state flow                                                    \n",
      "\n",
      "Particle Summary:\n",
      "         0 particles are pending release.\n",
      "         0 particles remain active.\n",
      "      2750 particles terminated at boundary faces.\n",
      "         0 particles terminated at weak sink cells.\n",
      "         0 particles terminated at weak source cells.\n",
      "         0 particles terminated at strong source/sink cells.\n",
      "         0 particles terminated in cells with a specified zone number.\n",
      "         0 particles were stranded in inactive or dry cells.\n",
      "         0 particles were unreleased.\n",
      "         0 particles have an unknown status.\n",
      " \n",
      "Normal termination.                                                        \n"
     ]
    },
    {
     "data": {
      "text/plain": [
       "(True, [])"
      ]
     },
     "execution_count": 8,
     "metadata": {},
     "output_type": "execute_result"
    }
   ],
   "source": [
    "# create modpath files\n",
    "mpnamb = nm + '_mp_backward'\n",
    "\n",
    "# create basic forward tracking modpath simulation\n",
    "mp = flopy.modpath.Modpath7.create_mp7(modelname=mpnamb, trackdir='backward', flowmodel=gwf, model_ws=ws, \n",
    "                                       rowcelldivisions=5, columncelldivisions=5, layercelldivisions=5,\n",
    "                                       nodes=nodew+nodesr, exe_name=mpexe)\n",
    "\n",
    "# write modpath datasets\n",
    "mp.write_input()\n",
    "\n",
    "# run modpath\n",
    "mp.run_model()"
   ]
  },
  {
   "cell_type": "markdown",
   "metadata": {},
   "source": [
    "#### Load and Plot MODPATH 7 output\n",
    "\n",
    "##### Forward Tracking"
   ]
  },
  {
   "cell_type": "markdown",
   "metadata": {},
   "source": [
    "Load forward tracking pathline data"
   ]
  },
  {
   "cell_type": "code",
   "execution_count": 9,
   "metadata": {},
   "outputs": [
    {
     "ename": "ValueError",
     "evalue": "could not convert string to float: '0.50000000E+00**********'",
     "output_type": "error",
     "traceback": [
      "\u001b[1;31m---------------------------------------------------------------------------\u001b[0m",
      "\u001b[1;31mValueError\u001b[0m                                Traceback (most recent call last)",
      "\u001b[1;32m<ipython-input-9-c2318dfac537>\u001b[0m in \u001b[0;36m<module>\u001b[1;34m()\u001b[0m\n\u001b[0;32m      1\u001b[0m \u001b[0mfpth\u001b[0m \u001b[1;33m=\u001b[0m \u001b[0mos\u001b[0m\u001b[1;33m.\u001b[0m\u001b[0mpath\u001b[0m\u001b[1;33m.\u001b[0m\u001b[0mjoin\u001b[0m\u001b[1;33m(\u001b[0m\u001b[0mws\u001b[0m\u001b[1;33m,\u001b[0m \u001b[0mmpnamf\u001b[0m \u001b[1;33m+\u001b[0m \u001b[1;34m'.mppth'\u001b[0m\u001b[1;33m)\u001b[0m\u001b[1;33m\u001b[0m\u001b[0m\n\u001b[1;32m----> 2\u001b[1;33m \u001b[0mp\u001b[0m \u001b[1;33m=\u001b[0m \u001b[0mflopy\u001b[0m\u001b[1;33m.\u001b[0m\u001b[0mutils\u001b[0m\u001b[1;33m.\u001b[0m\u001b[0mPathlineFile\u001b[0m\u001b[1;33m(\u001b[0m\u001b[0mfpth\u001b[0m\u001b[1;33m)\u001b[0m\u001b[1;33m\u001b[0m\u001b[0m\n\u001b[0m\u001b[0;32m      3\u001b[0m \u001b[0mpw\u001b[0m \u001b[1;33m=\u001b[0m \u001b[0mp\u001b[0m\u001b[1;33m.\u001b[0m\u001b[0mget_destination_pathline_data\u001b[0m\u001b[1;33m(\u001b[0m\u001b[0mdest_cells\u001b[0m\u001b[1;33m=\u001b[0m\u001b[0mnodew\u001b[0m\u001b[1;33m)\u001b[0m\u001b[1;33m\u001b[0m\u001b[0m\n\u001b[0;32m      4\u001b[0m \u001b[0mpr\u001b[0m \u001b[1;33m=\u001b[0m \u001b[0mp\u001b[0m\u001b[1;33m.\u001b[0m\u001b[0mget_destination_pathline_data\u001b[0m\u001b[1;33m(\u001b[0m\u001b[0mdest_cells\u001b[0m\u001b[1;33m=\u001b[0m\u001b[0mnodesr\u001b[0m\u001b[1;33m)\u001b[0m\u001b[1;33m\u001b[0m\u001b[0m\n",
      "\u001b[1;32mc:\\users\\jlarsen\\desktop\\flopy-grid\\flopy\\utils\\modpathfile.py\u001b[0m in \u001b[0;36m__init__\u001b[1;34m(self, filename, verbose)\u001b[0m\n\u001b[0;32m     59\u001b[0m         \u001b[1;31m# set data dtype and read pathline data\u001b[0m\u001b[1;33m\u001b[0m\u001b[1;33m\u001b[0m\u001b[0m\n\u001b[0;32m     60\u001b[0m         \u001b[1;32mif\u001b[0m \u001b[0mself\u001b[0m\u001b[1;33m.\u001b[0m\u001b[0mversion\u001b[0m \u001b[1;33m==\u001b[0m \u001b[1;36m7\u001b[0m\u001b[1;33m:\u001b[0m\u001b[1;33m\u001b[0m\u001b[0m\n\u001b[1;32m---> 61\u001b[1;33m             \u001b[0mself\u001b[0m\u001b[1;33m.\u001b[0m\u001b[0mdtype\u001b[0m\u001b[1;33m,\u001b[0m \u001b[0mself\u001b[0m\u001b[1;33m.\u001b[0m\u001b[0m_data\u001b[0m \u001b[1;33m=\u001b[0m \u001b[0mself\u001b[0m\u001b[1;33m.\u001b[0m\u001b[0m_get_mp7data\u001b[0m\u001b[1;33m(\u001b[0m\u001b[1;33m)\u001b[0m\u001b[1;33m\u001b[0m\u001b[0m\n\u001b[0m\u001b[0;32m     62\u001b[0m         \u001b[1;32melse\u001b[0m\u001b[1;33m:\u001b[0m\u001b[1;33m\u001b[0m\u001b[0m\n\u001b[0;32m     63\u001b[0m             \u001b[0mself\u001b[0m\u001b[1;33m.\u001b[0m\u001b[0mdtype\u001b[0m \u001b[1;33m=\u001b[0m \u001b[0mself\u001b[0m\u001b[1;33m.\u001b[0m\u001b[0m_get_dtypes\u001b[0m\u001b[1;33m(\u001b[0m\u001b[1;33m)\u001b[0m\u001b[1;33m\u001b[0m\u001b[0m\n",
      "\u001b[1;32mc:\\users\\jlarsen\\desktop\\flopy-grid\\flopy\\utils\\modpathfile.py\u001b[0m in \u001b[0;36m_get_mp7data\u001b[1;34m(self)\u001b[0m\n\u001b[0;32m    192\u001b[0m             \u001b[1;31m# read in the particle data\u001b[0m\u001b[1;33m\u001b[0m\u001b[1;33m\u001b[0m\u001b[0m\n\u001b[0;32m    193\u001b[0m             d = np.loadtxt(itertools.islice(self.file, 0, pathlinecount),\n\u001b[1;32m--> 194\u001b[1;33m                            dtype=dtyper)\n\u001b[0m\u001b[0;32m    195\u001b[0m             \u001b[0mkey\u001b[0m \u001b[1;33m=\u001b[0m \u001b[1;33m(\u001b[0m\u001b[0midx\u001b[0m\u001b[1;33m,\u001b[0m \u001b[0msequencenumber\u001b[0m\u001b[1;33m,\u001b[0m \u001b[0mgroup\u001b[0m\u001b[1;33m,\u001b[0m \u001b[0mparticleid\u001b[0m\u001b[1;33m,\u001b[0m \u001b[0mpathlinecount\u001b[0m\u001b[1;33m)\u001b[0m\u001b[1;33m\u001b[0m\u001b[0m\n\u001b[0;32m    196\u001b[0m             \u001b[0mpart_dict\u001b[0m\u001b[1;33m[\u001b[0m\u001b[0mkey\u001b[0m\u001b[1;33m]\u001b[0m \u001b[1;33m=\u001b[0m \u001b[0md\u001b[0m\u001b[1;33m.\u001b[0m\u001b[0mcopy\u001b[0m\u001b[1;33m(\u001b[0m\u001b[1;33m)\u001b[0m\u001b[1;33m\u001b[0m\u001b[0m\n",
      "\u001b[1;32m~\\AppData\\Local\\Continuum\\anaconda3\\lib\\site-packages\\numpy\\lib\\npyio.py\u001b[0m in \u001b[0;36mloadtxt\u001b[1;34m(fname, dtype, comments, delimiter, converters, skiprows, usecols, unpack, ndmin, encoding)\u001b[0m\n\u001b[0;32m   1090\u001b[0m         \u001b[1;31m# converting the data\u001b[0m\u001b[1;33m\u001b[0m\u001b[1;33m\u001b[0m\u001b[0m\n\u001b[0;32m   1091\u001b[0m         \u001b[0mX\u001b[0m \u001b[1;33m=\u001b[0m \u001b[1;32mNone\u001b[0m\u001b[1;33m\u001b[0m\u001b[0m\n\u001b[1;32m-> 1092\u001b[1;33m         \u001b[1;32mfor\u001b[0m \u001b[0mx\u001b[0m \u001b[1;32min\u001b[0m \u001b[0mread_data\u001b[0m\u001b[1;33m(\u001b[0m\u001b[0m_loadtxt_chunksize\u001b[0m\u001b[1;33m)\u001b[0m\u001b[1;33m:\u001b[0m\u001b[1;33m\u001b[0m\u001b[0m\n\u001b[0m\u001b[0;32m   1093\u001b[0m             \u001b[1;32mif\u001b[0m \u001b[0mX\u001b[0m \u001b[1;32mis\u001b[0m \u001b[1;32mNone\u001b[0m\u001b[1;33m:\u001b[0m\u001b[1;33m\u001b[0m\u001b[0m\n\u001b[0;32m   1094\u001b[0m                 \u001b[0mX\u001b[0m \u001b[1;33m=\u001b[0m \u001b[0mnp\u001b[0m\u001b[1;33m.\u001b[0m\u001b[0marray\u001b[0m\u001b[1;33m(\u001b[0m\u001b[0mx\u001b[0m\u001b[1;33m,\u001b[0m \u001b[0mdtype\u001b[0m\u001b[1;33m)\u001b[0m\u001b[1;33m\u001b[0m\u001b[0m\n",
      "\u001b[1;32m~\\AppData\\Local\\Continuum\\anaconda3\\lib\\site-packages\\numpy\\lib\\npyio.py\u001b[0m in \u001b[0;36mread_data\u001b[1;34m(chunk_size)\u001b[0m\n\u001b[0;32m   1017\u001b[0m \u001b[1;33m\u001b[0m\u001b[0m\n\u001b[0;32m   1018\u001b[0m             \u001b[1;31m# Convert each value according to its column and store\u001b[0m\u001b[1;33m\u001b[0m\u001b[1;33m\u001b[0m\u001b[0m\n\u001b[1;32m-> 1019\u001b[1;33m             \u001b[0mitems\u001b[0m \u001b[1;33m=\u001b[0m \u001b[1;33m[\u001b[0m\u001b[0mconv\u001b[0m\u001b[1;33m(\u001b[0m\u001b[0mval\u001b[0m\u001b[1;33m)\u001b[0m \u001b[1;32mfor\u001b[0m \u001b[1;33m(\u001b[0m\u001b[0mconv\u001b[0m\u001b[1;33m,\u001b[0m \u001b[0mval\u001b[0m\u001b[1;33m)\u001b[0m \u001b[1;32min\u001b[0m \u001b[0mzip\u001b[0m\u001b[1;33m(\u001b[0m\u001b[0mconverters\u001b[0m\u001b[1;33m,\u001b[0m \u001b[0mvals\u001b[0m\u001b[1;33m)\u001b[0m\u001b[1;33m]\u001b[0m\u001b[1;33m\u001b[0m\u001b[0m\n\u001b[0m\u001b[0;32m   1020\u001b[0m \u001b[1;33m\u001b[0m\u001b[0m\n\u001b[0;32m   1021\u001b[0m             \u001b[1;31m# Then pack it according to the dtype's nesting\u001b[0m\u001b[1;33m\u001b[0m\u001b[1;33m\u001b[0m\u001b[0m\n",
      "\u001b[1;32m~\\AppData\\Local\\Continuum\\anaconda3\\lib\\site-packages\\numpy\\lib\\npyio.py\u001b[0m in \u001b[0;36m<listcomp>\u001b[1;34m(.0)\u001b[0m\n\u001b[0;32m   1017\u001b[0m \u001b[1;33m\u001b[0m\u001b[0m\n\u001b[0;32m   1018\u001b[0m             \u001b[1;31m# Convert each value according to its column and store\u001b[0m\u001b[1;33m\u001b[0m\u001b[1;33m\u001b[0m\u001b[0m\n\u001b[1;32m-> 1019\u001b[1;33m             \u001b[0mitems\u001b[0m \u001b[1;33m=\u001b[0m \u001b[1;33m[\u001b[0m\u001b[0mconv\u001b[0m\u001b[1;33m(\u001b[0m\u001b[0mval\u001b[0m\u001b[1;33m)\u001b[0m \u001b[1;32mfor\u001b[0m \u001b[1;33m(\u001b[0m\u001b[0mconv\u001b[0m\u001b[1;33m,\u001b[0m \u001b[0mval\u001b[0m\u001b[1;33m)\u001b[0m \u001b[1;32min\u001b[0m \u001b[0mzip\u001b[0m\u001b[1;33m(\u001b[0m\u001b[0mconverters\u001b[0m\u001b[1;33m,\u001b[0m \u001b[0mvals\u001b[0m\u001b[1;33m)\u001b[0m\u001b[1;33m]\u001b[0m\u001b[1;33m\u001b[0m\u001b[0m\n\u001b[0m\u001b[0;32m   1020\u001b[0m \u001b[1;33m\u001b[0m\u001b[0m\n\u001b[0;32m   1021\u001b[0m             \u001b[1;31m# Then pack it according to the dtype's nesting\u001b[0m\u001b[1;33m\u001b[0m\u001b[1;33m\u001b[0m\u001b[0m\n",
      "\u001b[1;32m~\\AppData\\Local\\Continuum\\anaconda3\\lib\\site-packages\\numpy\\lib\\npyio.py\u001b[0m in \u001b[0;36mfloatconv\u001b[1;34m(x)\u001b[0m\n\u001b[0;32m    736\u001b[0m         \u001b[1;32mif\u001b[0m \u001b[1;34m'0x'\u001b[0m \u001b[1;32min\u001b[0m \u001b[0mx\u001b[0m\u001b[1;33m:\u001b[0m\u001b[1;33m\u001b[0m\u001b[0m\n\u001b[0;32m    737\u001b[0m             \u001b[1;32mreturn\u001b[0m \u001b[0mfloat\u001b[0m\u001b[1;33m.\u001b[0m\u001b[0mfromhex\u001b[0m\u001b[1;33m(\u001b[0m\u001b[0mx\u001b[0m\u001b[1;33m)\u001b[0m\u001b[1;33m\u001b[0m\u001b[0m\n\u001b[1;32m--> 738\u001b[1;33m         \u001b[1;32mreturn\u001b[0m \u001b[0mfloat\u001b[0m\u001b[1;33m(\u001b[0m\u001b[0mx\u001b[0m\u001b[1;33m)\u001b[0m\u001b[1;33m\u001b[0m\u001b[0m\n\u001b[0m\u001b[0;32m    739\u001b[0m \u001b[1;33m\u001b[0m\u001b[0m\n\u001b[0;32m    740\u001b[0m     \u001b[0mtyp\u001b[0m \u001b[1;33m=\u001b[0m \u001b[0mdtype\u001b[0m\u001b[1;33m.\u001b[0m\u001b[0mtype\u001b[0m\u001b[1;33m\u001b[0m\u001b[0m\n",
      "\u001b[1;31mValueError\u001b[0m: could not convert string to float: '0.50000000E+00**********'"
     ]
    }
   ],
   "source": [
    "fpth = os.path.join(ws, mpnamf + '.mppth')\n",
    "p = flopy.utils.PathlineFile(fpth)\n",
    "pw = p.get_destination_pathline_data(dest_cells=nodew)\n",
    "pr = p.get_destination_pathline_data(dest_cells=nodesr)"
   ]
  },
  {
   "cell_type": "markdown",
   "metadata": {},
   "source": [
    "Load forward tracking endpoint data"
   ]
  },
  {
   "cell_type": "code",
   "execution_count": null,
   "metadata": {},
   "outputs": [],
   "source": [
    "fpth = os.path.join(ws, mpnamf + '.mpend')\n",
    "e = flopy.utils.EndpointFile(fpth)"
   ]
  },
  {
   "cell_type": "markdown",
   "metadata": {},
   "source": [
    "Get forward particles that terminate in the well"
   ]
  },
  {
   "cell_type": "code",
   "execution_count": null,
   "metadata": {},
   "outputs": [],
   "source": [
    "well_epd = e.get_destination_endpoint_data(dest_cells=nodew) "
   ]
  },
  {
   "cell_type": "markdown",
   "metadata": {},
   "source": [
    "Get particles that terminate in the river boundaries"
   ]
  },
  {
   "cell_type": "code",
   "execution_count": null,
   "metadata": {},
   "outputs": [],
   "source": [
    "riv_epd = e.get_destination_endpoint_data(dest_cells=nodesr)"
   ]
  },
  {
   "cell_type": "markdown",
   "metadata": {},
   "source": [
    "Well and river forward tracking pathlines"
   ]
  },
  {
   "cell_type": "code",
   "execution_count": null,
   "metadata": {},
   "outputs": [],
   "source": [
    "colors = ['green', 'orange', 'red']"
   ]
  },
  {
   "cell_type": "code",
   "execution_count": null,
   "metadata": {},
   "outputs": [],
   "source": [
    "f, axes = plt.subplots(ncols=3, nrows=2, sharey=True, sharex=True, figsize=(15, 10))\n",
    "axes = axes.flatten()\n",
    "\n",
    "idax = 0\n",
    "for k in range(nlay):\n",
    "    ax = axes[idax]\n",
    "    ax.set_aspect('equal')\n",
    "    ax.set_title('Well pathlines - Layer {}'.format(k+1))\n",
    "    mm = flopy.plot.ModelMap(sr=sr, ax=ax)\n",
    "    mm.plot_grid(lw=0.5)\n",
    "    mm.plot_pathline(pw, layer=k, color=colors[k], lw=0.75)\n",
    "    idax += 1\n",
    "\n",
    "for k in range(nlay):\n",
    "    ax = axes[idax]\n",
    "    ax.set_aspect('equal')\n",
    "    ax.set_title('River pathlines - Layer {}'.format(k+1))\n",
    "    mm = flopy.plot.ModelMap(sr=sr, ax=ax)\n",
    "    mm.plot_grid(lw=0.5)\n",
    "    mm.plot_pathline(pr, layer=k, color=colors[k], lw=0.75)\n",
    "    idax += 1\n",
    "    \n",
    "plt.tight_layout();"
   ]
  },
  {
   "cell_type": "markdown",
   "metadata": {},
   "source": [
    "Forward tracking endpoints captured by the well and river"
   ]
  },
  {
   "cell_type": "code",
   "execution_count": null,
   "metadata": {},
   "outputs": [],
   "source": [
    "f, axes = plt.subplots(ncols=2, nrows=1, sharey=True, figsize=(10, 5))\n",
    "axes = axes.flatten()\n",
    "\n",
    "ax = axes[0]\n",
    "ax.set_aspect('equal')\n",
    "ax.set_title('Well recharge area')\n",
    "mm = flopy.plot.ModelMap(sr=sr, ax=ax)\n",
    "mm.plot_grid(lw=0.5)\n",
    "mm.plot_endpoint(well_epd, direction='starting', colorbar=True, shrink=0.5);\n",
    "\n",
    "ax = axes[1]\n",
    "ax.set_aspect('equal')\n",
    "ax.set_title('River recharge area')\n",
    "mm = flopy.plot.ModelMap(sr=sr, ax=ax)\n",
    "mm.plot_grid(lw=0.5)\n",
    "mm.plot_endpoint(riv_epd, direction='starting', colorbar=True, shrink=0.5);"
   ]
  },
  {
   "cell_type": "markdown",
   "metadata": {},
   "source": [
    "##### Backward tracking\n",
    "\n",
    "Load backward tracking pathlines"
   ]
  },
  {
   "cell_type": "code",
   "execution_count": null,
   "metadata": {},
   "outputs": [],
   "source": [
    "fpth = os.path.join(ws, mpnamb + '.mppth')\n",
    "p = flopy.utils.PathlineFile(fpth)\n",
    "pwb = p.get_destination_pathline_data(dest_cells=nodew)\n",
    "prb = p.get_destination_pathline_data(dest_cells=nodesr)"
   ]
  },
  {
   "cell_type": "markdown",
   "metadata": {},
   "source": [
    "Load backward tracking endpoints"
   ]
  },
  {
   "cell_type": "code",
   "execution_count": null,
   "metadata": {},
   "outputs": [],
   "source": [
    "fpth = os.path.join(ws, mpnamb + '.mpend')\n",
    "e = flopy.utils.EndpointFile(fpth)\n",
    "ewb = e.get_destination_endpoint_data(dest_cells=nodew, source=True)\n",
    "erb = e.get_destination_endpoint_data(dest_cells=nodesr, source=True)"
   ]
  },
  {
   "cell_type": "markdown",
   "metadata": {},
   "source": [
    "Well backward tracking pathlines"
   ]
  },
  {
   "cell_type": "code",
   "execution_count": null,
   "metadata": {},
   "outputs": [],
   "source": [
    "f, axes = plt.subplots(ncols=2, nrows=1, figsize=(10, 5))\n",
    "\n",
    "ax = axes[0]\n",
    "ax.set_aspect('equal')\n",
    "ax.set_title('Well recharge area')\n",
    "mm = flopy.plot.ModelMap(sr=sr, ax=ax)\n",
    "mm.plot_grid(lw=0.5)\n",
    "mm.plot_pathline(pwb, layer='all', color='blue', lw=0.5, linestyle=':', label='captured by wells')\n",
    "mm.plot_endpoint(ewb, direction='ending') #, colorbar=True, shrink=0.5);\n",
    "\n",
    "ax = axes[1]\n",
    "ax.set_aspect('equal')\n",
    "ax.set_title('River recharge area')\n",
    "mm = flopy.plot.ModelMap(sr=sr, ax=ax)\n",
    "mm.plot_grid(lw=0.5)\n",
    "mm.plot_pathline(prb, layer='all', color='green', lw=0.5, linestyle=':', label='captured by rivers')\n",
    "\n",
    "plt.tight_layout();"
   ]
  },
  {
   "cell_type": "code",
   "execution_count": null,
   "metadata": {},
   "outputs": [],
   "source": []
  }
 ],
 "metadata": {
  "kernelspec": {
   "display_name": "Python 3",
   "language": "python",
   "name": "python3"
  },
  "language_info": {
   "codemirror_mode": {
    "name": "ipython",
    "version": 3
   },
   "file_extension": ".py",
   "mimetype": "text/x-python",
   "name": "python",
   "nbconvert_exporter": "python",
   "pygments_lexer": "ipython3",
   "version": "3.6.5"
  }
 },
 "nbformat": 4,
 "nbformat_minor": 2
}
