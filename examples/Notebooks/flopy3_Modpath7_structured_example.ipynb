{
 "cells": [
  {
   "cell_type": "markdown",
   "metadata": {},
   "source": [
    "# FloPy\n",
    "\n",
    "## MODPATH 7 structured models example\n",
    "\n",
    "This notebook demonstrates how to create and run example 1a from the MODPATH 7 documentation for MODFLOW-2005 and MODFLOW 6. The notebooks also shows how to create subsets of endpoint output and plot MODPATH results on ModelMap objects."
   ]
  },
  {
   "cell_type": "code",
   "execution_count": 1,
   "metadata": {},
   "outputs": [
    {
     "name": "stdout",
     "output_type": "stream",
     "text": [
      "numpy version: 1.15.1\n",
      "matplotlib version: 2.2.3\n",
      "flopy version: 3.2.10\n"
     ]
    }
   ],
   "source": [
    "%matplotlib inline\n",
    "import sys\n",
    "import os\n",
    "import numpy as np\n",
    "import matplotlib as mpl\n",
    "import matplotlib.pyplot as plt\n",
    "\n",
    "# run installed version of flopy or add local path\n",
    "try:\n",
    "    import flopy\n",
    "except:\n",
    "    fpth = os.path.abspath(os.path.join('..', '..'))\n",
    "    sys.path.append(fpth)\n",
    "    import flopy\n",
    "\n",
    "    print(sys.version)\n",
    "print('numpy version: {}'.format(np.__version__))\n",
    "print('matplotlib version: {}'.format(mpl.__version__))\n",
    "print('flopy version: {}'.format(flopy.__version__))\n",
    "\n",
    "if not os.path.exists(\"data\"):\n",
    "    os.mkdir(\"data\")"
   ]
  },
  {
   "cell_type": "markdown",
   "metadata": {},
   "source": [
    "### Flow model data"
   ]
  },
  {
   "cell_type": "code",
   "execution_count": 2,
   "metadata": {},
   "outputs": [],
   "source": [
    "nper, nstp, perlen, tsmult = 1, 1, 1., 1.\n",
    "nlay, nrow, ncol = 3, 21, 20\n",
    "delr = delc = 500.\n",
    "top = 400.\n",
    "botm = [220., 200., 0.]\n",
    "laytyp = [1, 0, 0]\n",
    "kh = [50., 0.01, 200.]\n",
    "kv = [10., 0.01, 20.]\n",
    "wel_loc = (2, 10, 9)\n",
    "wel_q = -150000.\n",
    "rch = 0.005\n",
    "riv_h = 320.\n",
    "riv_z = 317.\n",
    "riv_c = 1.e5"
   ]
  },
  {
   "cell_type": "markdown",
   "metadata": {},
   "source": [
    "### MODPATH 7 data"
   ]
  },
  {
   "cell_type": "code",
   "execution_count": 26,
   "metadata": {},
   "outputs": [],
   "source": [
    "# MODPATH zones\n",
    "zone3 = np.ones((nrow, ncol), dtype=np.int32)\n",
    "zone3[wel_loc[1:]] = 2\n",
    "zones = [1, 1, zone3]\n",
    "\n",
    "# create particles\n",
    "# particle group 1\n",
    "plocs = []\n",
    "pids = []\n",
    "for idx in range(nrow):\n",
    "    plocs.append((0, idx, 2))\n",
    "    pids.append(idx)\n",
    "part0 = flopy.modpath.ParticleData(plocs, drape=0, structured=True, particleids=pids)\n",
    "pg0 = flopy.modpath.ParticleGroup(particlegroupname='PG1', particledata=part0,\n",
    "                                  filename='ex01a.pg1.sloc')\n",
    "\n",
    "# particle group 2\n",
    "v = [(2, 0, 0), (0, 20, 0)]\n",
    "part1 = flopy.modpath.ParticleData(v, drape=1, structured=True, particleids=[1000, 1001])\n",
    "pg1 = flopy.modpath.ParticleGroup(particlegroupname='PG2', particledata=part1,\n",
    "                                  filename='ex01a.pg2.sloc')\n",
    "\n",
    "locsa = [[0, 0, 0, 0, m.nrow - 1, m.ncol - 1],\n",
    "             [1, 0, 0, 1, m.nrow - 1, m.ncol - 1]]\n",
    "locsb = [[2, 0, 0, 2, m.nrow - 1, m.ncol - 1]]\n",
    "sd = flopy.modpath.CellDataType(drape=0, columncelldivisions=1,\n",
    "                                rowcelldivisions=1, layercelldivisions=1)\n",
    "p = flopy.modpath.LRCParticleData(subdivisiondata=[sd, sd],\n",
    "                                  lrcregions=[locsa, locsb])\n",
    "pg2 = flopy.modpath.ParticleGroupLRCTemplate(particlegroupname='PG3',\n",
    "                                                particledata=p,\n",
    "                                                filename='ex01a.pg3.sloc')\n",
    "\n",
    "particlegroups = [pg2]\n",
    "\n",
    "# default iface for MODFLOW-2005 and MODFLOW 6\n",
    "defaultiface = {'RECHARGE': 6, 'ET': 6}\n",
    "defaultiface6 = {'RCH': 6, 'EVT': 6}"
   ]
  },
  {
   "cell_type": "markdown",
   "metadata": {},
   "source": [
    "### MODPATH 7 using MODFLOW-2005\n",
    "\n",
    "#### Create and run MODFLOW-2005"
   ]
  },
  {
   "cell_type": "code",
   "execution_count": 27,
   "metadata": {},
   "outputs": [
    {
     "name": "stdout",
     "output_type": "stream",
     "text": [
      "FloPy is using the following  executable to run the model: /Users/jeremyw/bin/mf2005\n",
      "\n",
      "                                  MODFLOW-2005     \n",
      "    U.S. GEOLOGICAL SURVEY MODULAR FINITE-DIFFERENCE GROUND-WATER FLOW MODEL\n",
      "                             Version 1.12.00 2/3/2017                        \n",
      "\n",
      " Using NAME file: ex01_mf2005.nam \n",
      " Run start date and time (yyyy/mm/dd hh:mm:ss): 2018/11/14 10:44:15\n",
      "\n",
      " Solving:  Stress period:     1    Time step:     1    Ground-Water Flow Eqn.\n",
      " Run end date and time (yyyy/mm/dd hh:mm:ss): 2018/11/14 10:44:15\n",
      " Elapsed run time:  0.014 Seconds\n",
      "\n",
      "  Normal termination of simulation\n"
     ]
    }
   ],
   "source": [
    "ws = os.path.join('data', 'mp7_ex1', 'mf2005')\n",
    "nm = 'ex01_mf2005'\n",
    "exe_name = 'mf2005'\n",
    "iu_cbc = 130\n",
    "m = flopy.modflow.Modflow(nm, model_ws=ws,\n",
    "                          exe_name=exe_name)\n",
    "flopy.modflow.ModflowDis(m, nlay=nlay, nrow=nrow, ncol=ncol,\n",
    "                         nper=nper, itmuni=4 , lenuni=1,\n",
    "                         perlen=perlen, nstp=nstp,\n",
    "                         tsmult=tsmult, steady=True,\n",
    "                         delr=delr, delc=delc,\n",
    "                         top=top, botm=botm)\n",
    "flopy.modflow.ModflowLpf(m, ipakcb=iu_cbc, laytyp=laytyp, hk=kh, vka=kv, constantcv=True)\n",
    "flopy.modflow.ModflowBas(m, ibound=1, strt=top)\n",
    "# recharge\n",
    "flopy.modflow.ModflowRch(m, ipakcb=iu_cbc, rech=rch)\n",
    "# wel\n",
    "wd = [i for i in wel_loc] + [wel_q]\n",
    "flopy.modflow.ModflowWel(m, ipakcb=iu_cbc, stress_period_data={0: wd})\n",
    "# river\n",
    "rd = []\n",
    "for i in range(nrow):\n",
    "    rd.append([0, i, ncol-1, riv_h, riv_c, riv_z])\n",
    "flopy.modflow.ModflowRiv(m, ipakcb=iu_cbc, stress_period_data={0: rd})\n",
    "# output control\n",
    "flopy.modflow.ModflowOc(m, stress_period_data={(0, 0): ['save head',\n",
    "                                                        'save budget',\n",
    "                                                        'print head']})\n",
    "flopy.modflow.ModflowPcg(m, hclose=1e-6, rclose=1e-6)\n",
    "\n",
    "m.write_input()\n",
    "success, buff = m.run_model()\n",
    "assert success, 'mf2005 model did not run'"
   ]
  },
  {
   "cell_type": "code",
   "execution_count": 28,
   "metadata": {},
   "outputs": [],
   "source": [
    "# this is a fix until the grid object is available\n",
    "m.sr = flopy.utils.SpatialReference(xll=0, yll=0, delr=m.dis.delr.array, delc=m.dis.delc.array, \n",
    "                                    units='meters', lenuni=1, length_multiplier=1)"
   ]
  },
  {
   "cell_type": "markdown",
   "metadata": {},
   "source": [
    "#### Create and run MODPATH 7"
   ]
  },
  {
   "cell_type": "code",
   "execution_count": 29,
   "metadata": {},
   "outputs": [
    {
     "name": "stdout",
     "output_type": "stream",
     "text": [
      "FloPy is using the following  executable to run the model: /Users/jeremyw/bin/mp7\n",
      "\n",
      "MODPATH Version 7.2.001   \n",
      "Program compiled Nov 14 2018 07:31:29 with IFORT compiler (ver. 18.0.1)         \n",
      " \n",
      " \n",
      "Run particle tracking simulation ...\n",
      "Processing Time Step     1 Period     1.  Time =  1.00000E+00  Steady-state flow                                                    \n",
      "\n",
      "Particle Summary:\n",
      "         0 particles are pending release.\n",
      "         0 particles remain active.\n",
      "         0 particles terminated at boundary faces.\n",
      "         0 particles terminated at weak sink cells.\n",
      "         0 particles terminated at weak source cells.\n",
      "      1260 particles terminated at strong source/sink cells.\n",
      "         0 particles terminated in cells with a specified zone number.\n",
      "         0 particles were stranded in inactive or dry cells.\n",
      "         0 particles were unreleased.\n",
      "         0 particles have an unknown status.\n",
      " \n",
      "Normal termination.                                                        \n"
     ]
    },
    {
     "data": {
      "text/plain": [
       "(True, [])"
      ]
     },
     "execution_count": 29,
     "metadata": {},
     "output_type": "execute_result"
    }
   ],
   "source": [
    "# create modpath files\n",
    "exe_name = 'mp7'\n",
    "mp = flopy.modpath.Modpath7(modelname=nm + '_mp', flowmodel=m,\n",
    "                            exe_name=exe_name, model_ws=ws)\n",
    "mpbas = flopy.modpath.Modpath7Bas(mp, porosity=0.1,\n",
    "                                  defaultiface=defaultiface)\n",
    "mpsim = flopy.modpath.Modpath7Sim(mp, simulationtype='combined',\n",
    "                                  trackingdirection='forward',\n",
    "                                  weaksinkoption='pass_through',\n",
    "                                  weaksourceoption='pass_through',\n",
    "                                  budgetoutputoption='summary',\n",
    "                                  budgetcellnumbers=[1049, 1259],\n",
    "                                  traceparticledata=[1, 1000],\n",
    "                                  referencetime=[0, 0, 0.],\n",
    "                                  stoptimeoption='extend',\n",
    "                                  timepointdata=[500, 1000.],\n",
    "                                  zonedataoption='on', zones=zones,\n",
    "                                  particlegroups=particlegroups)\n",
    "\n",
    "# write modpath datasets\n",
    "mp.write_input()\n",
    "\n",
    "# run modpath\n",
    "mp.run_model()"
   ]
  },
  {
   "cell_type": "markdown",
   "metadata": {},
   "source": [
    "#### Load MODPATH 7 output"
   ]
  },
  {
   "cell_type": "markdown",
   "metadata": {},
   "source": [
    "Get locations to extract pathline data"
   ]
  },
  {
   "cell_type": "code",
   "execution_count": 30,
   "metadata": {},
   "outputs": [],
   "source": [
    "nodew = m.dis.get_node([wel_loc])\n",
    "riv_locs = flopy.utils.ra_slice(m.riv.stress_period_data[0], ['k', 'i', 'j'])\n",
    "nodesr = m.dis.get_node(riv_locs.tolist())"
   ]
  },
  {
   "cell_type": "markdown",
   "metadata": {},
   "source": [
    "Pathline data"
   ]
  },
  {
   "cell_type": "code",
   "execution_count": 31,
   "metadata": {},
   "outputs": [],
   "source": [
    "fpth = os.path.join(ws, nm + '_mp.mppth')\n",
    "p = flopy.utils.PathlineFile(fpth)\n",
    "pw0 = p.get_destination_pathline_data(nodew)\n",
    "pr0 = p.get_destination_pathline_data(nodesr)"
   ]
  },
  {
   "cell_type": "markdown",
   "metadata": {},
   "source": [
    "Endpoint data\n",
    "\n",
    "Get particles that terminate in the well"
   ]
  },
  {
   "cell_type": "code",
   "execution_count": 32,
   "metadata": {},
   "outputs": [
    {
     "data": {
      "text/plain": [
       "(564,)"
      ]
     },
     "execution_count": 32,
     "metadata": {},
     "output_type": "execute_result"
    }
   ],
   "source": [
    "fpth = os.path.join(ws, nm + '_mp.mpend')\n",
    "e = flopy.utils.EndpointFile(fpth)\n",
    "well_epd = e.get_destination_endpoint_data(dest_cells=nodew) \n",
    "well_epd.shape"
   ]
  },
  {
   "cell_type": "markdown",
   "metadata": {},
   "source": [
    "Get particles that terminate in the river boundaries"
   ]
  },
  {
   "cell_type": "code",
   "execution_count": 33,
   "metadata": {},
   "outputs": [
    {
     "data": {
      "text/plain": [
       "(696,)"
      ]
     },
     "execution_count": 33,
     "metadata": {},
     "output_type": "execute_result"
    }
   ],
   "source": [
    "riv_epd = e.get_destination_endpoint_data(dest_cells=nodesr)\n",
    "riv_epd.shape"
   ]
  },
  {
   "cell_type": "markdown",
   "metadata": {},
   "source": [
    "Merge the particles that end in the well and the river boundaries."
   ]
  },
  {
   "cell_type": "code",
   "execution_count": 34,
   "metadata": {},
   "outputs": [
    {
     "data": {
      "text/plain": [
       "(1260,)"
      ]
     },
     "execution_count": 34,
     "metadata": {},
     "output_type": "execute_result"
    }
   ],
   "source": [
    "epd0 = np.concatenate((well_epd, riv_epd))\n",
    "epd0.shape"
   ]
  },
  {
   "cell_type": "markdown",
   "metadata": {},
   "source": [
    "#### Plot MODPATH 7 output"
   ]
  },
  {
   "cell_type": "code",
   "execution_count": 35,
   "metadata": {},
   "outputs": [
    {
     "data": {
      "image/png": "[encoded data removed]",
      "text/plain": [
       "<Figure size 432x288 with 2 Axes>"
      ]
     },
     "metadata": {
      "needs_background": "light"
     },
     "output_type": "display_data"
    }
   ],
   "source": [
    "mm = flopy.plot.ModelMap(model=m)\n",
    "mm.plot_grid(lw=0.5)\n",
    "mm.plot_pathline(pw0, layer='all', color='blue', label='captured by wells')\n",
    "mm.plot_pathline(pr0, layer='all', color='green', label='captured by rivers')\n",
    "mm.plot_endpoint(epd0, direction='starting', colorbar=True)\n",
    "mm.ax.legend();"
   ]
  },
  {
   "cell_type": "markdown",
   "metadata": {},
   "source": [
    "### MODPATH 7 using MODFLOW 6\n",
    "\n",
    "#### Create and run MODFLOW 6"
   ]
  },
  {
   "cell_type": "code",
   "execution_count": null,
   "metadata": {},
   "outputs": [],
   "source": [
    "ws = os.path.join('data', 'mp7_ex1', 'mf6')\n",
    "nm = 'ex01_mf6'\n",
    "exe_name = 'mf6'\n",
    "\n",
    "# Create the Flopy simulation object\n",
    "sim = flopy.mf6.MFSimulation(sim_name=nm, exe_name='mf6',\n",
    "                             version='mf6', sim_ws=ws)\n",
    "\n",
    "# Create the Flopy temporal discretization object\n",
    "pd = (perlen, nstp, tsmult)\n",
    "tdis = flopy.mf6.modflow.mftdis.ModflowTdis(sim, pname='tdis',\n",
    "                                            time_units='DAYS', nper=nper,\n",
    "                                            perioddata=[pd])\n",
    "\n",
    "# Create the Flopy groundwater flow (gwf) model object\n",
    "model_nam_file = '{}.nam'.format(nm)\n",
    "gwf = flopy.mf6.ModflowGwf(sim, modelname=nm,\n",
    "                           model_nam_file=model_nam_file, save_flows=True)\n",
    "\n",
    "# Create the Flopy iterative model solver (ims) Package object\n",
    "ims = flopy.mf6.modflow.mfims.ModflowIms(sim, pname='ims', \n",
    "                                         complexity='SIMPLE',\n",
    "                                         outer_hclose=1e-6,\n",
    "                                         inner_hclose=1e-6,\n",
    "                                         rcloserecord=1e-6)\n",
    "\n",
    "# create gwf file\n",
    "dis = flopy.mf6.modflow.mfgwfdis.ModflowGwfdis(gwf, pname='dis', nlay=nlay,\n",
    "                                               nrow=nrow, ncol=ncol,\n",
    "                                               length_units='FEET',\n",
    "                                               delr=delr, delc=delc,\n",
    "                                               top=top,\n",
    "                                               botm=botm)\n",
    "# Create the initial conditions package\n",
    "ic = flopy.mf6.modflow.mfgwfic.ModflowGwfic(gwf, pname='ic', strt=top)\n",
    "\n",
    "# Create the node property flow package\n",
    "npf = flopy.mf6.modflow.mfgwfnpf.ModflowGwfnpf(gwf, pname='npf',\n",
    "                                               icelltype=laytyp, k=kh,\n",
    "                                               k33=kv)\n",
    "\n",
    "\n",
    "# recharge\n",
    "flopy.mf6.modflow.mfgwfrcha.ModflowGwfrcha(gwf, recharge=rch)\n",
    "# wel\n",
    "wd = [(wel_loc, wel_q)]\n",
    "flopy.mf6.modflow.mfgwfwel.ModflowGwfwel(gwf, maxbound=1,\n",
    "                                         stress_period_data={0: wd})\n",
    "# river\n",
    "rd = []\n",
    "for i in range(nrow):\n",
    "    rd.append([(0, i, ncol - 1), riv_h, riv_c, riv_z])\n",
    "flopy.mf6.modflow.mfgwfriv.ModflowGwfriv(gwf, stress_period_data={0: rd})\n",
    "# Create the output control package\n",
    "headfile = '{}.hds'.format(nm)\n",
    "head_record = [headfile]\n",
    "budgetfile = '{}.cbb'.format(nm)\n",
    "budget_record = [budgetfile]\n",
    "saverecord = [('HEAD', 'ALL'),\n",
    "              ('BUDGET', 'ALL')]\n",
    "oc = flopy.mf6.modflow.mfgwfoc.ModflowGwfoc(gwf, pname='oc',\n",
    "                                            saverecord=saverecord,\n",
    "                                            head_filerecord=head_record,\n",
    "                                            budget_filerecord=budget_record)\n",
    "\n",
    "# Write the datasets\n",
    "sim.write_simulation()\n",
    "# Run the simulation\n",
    "success, buff = sim.run_simulation()\n",
    "assert success, 'mf6 model did not run'"
   ]
  },
  {
   "cell_type": "markdown",
   "metadata": {},
   "source": [
    "#### Create and run MODPATH 7"
   ]
  },
  {
   "cell_type": "code",
   "execution_count": null,
   "metadata": {},
   "outputs": [],
   "source": [
    "# create modpath files\n",
    "exe_name = 'mp7'\n",
    "mp = flopy.modpath.Modpath7(modelname=nm + '_mp', flowmodel=gwf,\n",
    "                            exe_name=exe_name, model_ws=ws)\n",
    "mpbas = flopy.modpath.Modpath7Bas(mp, porosity=0.1,\n",
    "                                  defaultiface=defaultiface6)\n",
    "mpsim = flopy.modpath.Modpath7Sim(mp, simulationtype='combined',\n",
    "                                  trackingdirection='forward',\n",
    "                                  weaksinkoption='pass_through',\n",
    "                                  weaksourceoption='pass_through',\n",
    "                                  budgetoutputoption='summary',\n",
    "                                  budgetcellnumbers=[1049, 1259],\n",
    "                                  traceparticledata=[1, 1000],\n",
    "                                  referencetime=[0, 0, 0.],\n",
    "                                  stoptimeoption='extend',\n",
    "                                  timepointdata=[500, 1000.],\n",
    "                                  zonedataoption='on', zones=zones,\n",
    "                                  particlegroups=particlegroups)\n",
    "\n",
    "# write modpath datasets\n",
    "mp.write_input()\n",
    "\n",
    "# run modpath\n",
    "mp.run_model()"
   ]
  },
  {
   "cell_type": "markdown",
   "metadata": {},
   "source": [
    "#### Load MODPATH 7 output\n",
    "\n",
    "Pathline data"
   ]
  },
  {
   "cell_type": "code",
   "execution_count": null,
   "metadata": {},
   "outputs": [],
   "source": [
    "fpth = os.path.join(ws, nm + '_mp.mppth')\n",
    "p = flopy.utils.PathlineFile(fpth)\n",
    "pw1 = p.get_destination_pathline_data(nodew)\n",
    "pr1 = p.get_destination_pathline_data(nodesr)"
   ]
  },
  {
   "cell_type": "markdown",
   "metadata": {},
   "source": [
    "Endpoint data\n",
    "\n",
    "Get particles that terminate in the well"
   ]
  },
  {
   "cell_type": "code",
   "execution_count": null,
   "metadata": {},
   "outputs": [],
   "source": [
    "fpth = os.path.join(ws, nm + '_mp.mpend')\n",
    "e = flopy.utils.EndpointFile(fpth)\n",
    "well_epd = e.get_destination_endpoint_data(dest_cells=nodew) "
   ]
  },
  {
   "cell_type": "markdown",
   "metadata": {},
   "source": [
    "Get particles that terminate in the river boundaries"
   ]
  },
  {
   "cell_type": "code",
   "execution_count": null,
   "metadata": {},
   "outputs": [],
   "source": [
    "riv_epd = e.get_destination_endpoint_data(dest_cells=nodesr)"
   ]
  },
  {
   "cell_type": "markdown",
   "metadata": {},
   "source": [
    "Merge the particles that end in the well and the river boundaries."
   ]
  },
  {
   "cell_type": "code",
   "execution_count": null,
   "metadata": {},
   "outputs": [],
   "source": [
    "epd1 = np.concatenate((well_epd, riv_epd))"
   ]
  },
  {
   "cell_type": "markdown",
   "metadata": {},
   "source": [
    "### Plot MODPATH 7 output\n",
    "\n",
    "Use MODFLOW-2005 model for plotting (until MODFLOW 6 grid object implemented)"
   ]
  },
  {
   "cell_type": "code",
   "execution_count": null,
   "metadata": {},
   "outputs": [],
   "source": [
    "mm = flopy.plot.ModelMap(model=m)\n",
    "mm.plot_grid(lw=0.5)\n",
    "mm.plot_pathline(pw1, layer='all', color='blue', label='captured by wells')\n",
    "mm.plot_pathline(pr1, layer='all', color='green', label='captured by rivers')\n",
    "mm.plot_endpoint(epd1, direction='starting', colorbar=True)\n",
    "mm.ax.legend();"
   ]
  },
  {
   "cell_type": "markdown",
   "metadata": {},
   "source": [
    "### Compare MODPATH results\n",
    "\n",
    "Compare MODPATH results for MODFLOW-2005 and MODFLOW 6. Also show pathline points every 5th point."
   ]
  },
  {
   "cell_type": "code",
   "execution_count": null,
   "metadata": {},
   "outputs": [],
   "source": [
    "f, axes = plt.subplots(ncols=3, nrows=1, sharey=True, figsize=(15, 10))\n",
    "axes = axes.flatten()\n",
    "ax = axes[0]\n",
    "ax.set_aspect('equal')\n",
    "mm = flopy.plot.ModelMap(model=m, ax=ax)\n",
    "mm.plot_grid(lw=0.5)\n",
    "mm.plot_pathline(pw0, layer='all', color='blue', lw=1,\n",
    "                 marker='o', markercolor='black', markersize=3, markerevery=5)\n",
    "mm.plot_pathline(pr0, layer='all', color='green', lw=1,\n",
    "                 marker='o', markercolor='black', markersize=3, markerevery=5)\n",
    "ax.set_title('MODFLOW-2005')\n",
    "\n",
    "ax = axes[1]\n",
    "ax.set_aspect('equal')\n",
    "mm = flopy.plot.ModelMap(model=m, ax=ax)\n",
    "mm.plot_grid(lw=0.5)\n",
    "mm.plot_pathline(pw1, layer='all', color='blue', lw=1,\n",
    "                 marker='o', markercolor='black', markersize=3, markerevery=5)\n",
    "mm.plot_pathline(pr1, layer='all', color='green', lw=1,\n",
    "                 marker='o', markercolor='black', markersize=3, markerevery=5)\n",
    "ax.set_title('MODFLOW 6')\n",
    "\n",
    "\n",
    "ax = axes[2]\n",
    "ax.set_aspect('equal')\n",
    "mm = flopy.plot.ModelMap(model=m, ax=ax)\n",
    "mm.plot_grid(lw=0.5)\n",
    "mm.plot_pathline(pw1, layer='all', color='blue', lw=1, label='MODFLOW 6')\n",
    "mm.plot_pathline(pw0, layer='all', color='blue', lw=1, linestyle=':', label='MODFLOW-2005')\n",
    "mm.plot_pathline(pr1, layer='all', color='green', lw=1, label='_none')\n",
    "mm.plot_pathline(pr0, layer='all', color='green', lw=1, linestyle=':', label='_none')\n",
    "ax.legend()\n",
    "ax.set_title('MODFLOW 2005 and MODFLOW 6');"
   ]
  },
  {
   "cell_type": "code",
   "execution_count": null,
   "metadata": {},
   "outputs": [],
   "source": []
  }
 ],
 "metadata": {
  "kernelspec": {
   "display_name": "Python 2",
   "language": "python",
   "name": "python2"
  },
  "language_info": {
   "codemirror_mode": {
    "name": "ipython",
    "version": 2
   },
   "file_extension": ".py",
   "mimetype": "text/x-python",
   "name": "python",
   "nbconvert_exporter": "python",
   "pygments_lexer": "ipython2",
   "version": "2.7.15"
  }
 },
 "nbformat": 4,
 "nbformat_minor": 2
}
