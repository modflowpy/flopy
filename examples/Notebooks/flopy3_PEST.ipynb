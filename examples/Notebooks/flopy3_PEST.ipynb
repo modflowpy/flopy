{
 "cells": [
  {
   "cell_type": "markdown",
   "metadata": {},
   "source": [
    "# FloPy\n",
    "## Parameter Estimation with FloPy\n",
    "This notebook demonstrates the current parameter estimation functionality that is available with FloPy.  The capability to write a simple template file for PEST is the only capability implemented so far.  The plan is to develop functionality for creating PEST instruction files as well as the PEST control file."
   ]
  },
  {
   "cell_type": "code",
   "execution_count": 1,
   "metadata": {
    "execution": {
     "iopub.execute_input": "2022-12-15T13:05:00.761712Z",
     "iopub.status.busy": "2022-12-15T13:05:00.757769Z",
     "iopub.status.idle": "2022-12-15T13:05:02.088514Z",
     "shell.execute_reply": "2022-12-15T13:05:02.087234Z"
    }
   },
   "outputs": [
    {
     "name": "stdout",
     "output_type": "stream",
     "text": [
      "3.7.15 (default, Oct 18 2022, 09:36:49) \n",
      "[GCC 11.2.0]\n",
      "numpy version: 1.21.6\n",
      "flopy version: 3.3.6\n"
     ]
    }
   ],
   "source": [
    "import os\n",
    "import sys\n",
    "from tempfile import TemporaryDirectory\n",
    "\n",
    "import numpy as np\n",
    "\n",
    "# run installed version of flopy or add local path\n",
    "try:\n",
    "    import flopy\n",
    "except:\n",
    "    fpth = os.path.abspath(os.path.join(\"..\", \"..\"))\n",
    "    sys.path.append(fpth)\n",
    "    import flopy\n",
    "\n",
    "print(sys.version)\n",
    "print(\"numpy version: {}\".format(np.__version__))\n",
    "print(\"flopy version: {}\".format(flopy.__version__))"
   ]
  },
  {
   "cell_type": "markdown",
   "metadata": {},
   "source": [
    "This notebook will work with a simple model using the dimensions below"
   ]
  },
  {
   "cell_type": "code",
   "execution_count": 2,
   "metadata": {
    "execution": {
     "iopub.execute_input": "2022-12-15T13:05:02.132418Z",
     "iopub.status.busy": "2022-12-15T13:05:02.131414Z",
     "iopub.status.idle": "2022-12-15T13:05:02.142843Z",
     "shell.execute_reply": "2022-12-15T13:05:02.141782Z"
    }
   },
   "outputs": [],
   "source": [
    "# temporary directory\n",
    "temp_dir = TemporaryDirectory()\n",
    "workspace = temp_dir.name\n",
    "\n",
    "# Define the model dimensions\n",
    "nlay = 3\n",
    "nrow = 20\n",
    "ncol = 20\n",
    "\n",
    "# Create the flopy model object and add the dis and lpf packages\n",
    "m = flopy.modflow.Modflow(modelname=\"mymodel\", model_ws=workspace)\n",
    "dis = flopy.modflow.ModflowDis(m, nlay, nrow, ncol)\n",
    "lpf = flopy.modflow.ModflowLpf(m, hk=10.0)"
   ]
  },
  {
   "cell_type": "markdown",
   "metadata": {},
   "source": [
    "### Simple One Parameter Example\n",
    "In order to create a PEST template file, we first need to define a parameter.  For example, let's say we want to parameterize hydraulic conductivity, which is a static variable in flopy and MODFLOW.  As a first step, let's define a parameter called HK_LAYER_1 and assign it to all of layer 1.  We will not parameterize hydraulic conductivity for layers 2 and 3 and instead leave HK at its value of 10. (as assigned in the block above this one). We can do this as follows."
   ]
  },
  {
   "cell_type": "code",
   "execution_count": 3,
   "metadata": {
    "execution": {
     "iopub.execute_input": "2022-12-15T13:05:02.146980Z",
     "iopub.status.busy": "2022-12-15T13:05:02.146392Z",
     "iopub.status.idle": "2022-12-15T13:05:02.152781Z",
     "shell.execute_reply": "2022-12-15T13:05:02.151732Z"
    }
   },
   "outputs": [],
   "source": [
    "mfpackage = \"lpf\"\n",
    "partype = \"hk\"\n",
    "parname = \"HK_LAYER_1\"\n",
    "idx = np.empty((nlay, nrow, ncol), dtype=bool)\n",
    "idx[0] = True\n",
    "idx[1:] = False\n",
    "\n",
    "# The span variable defines how the parameter spans the package\n",
    "span = {\"idx\": idx}\n",
    "\n",
    "# These parameters have not affect yet, but may in the future\n",
    "startvalue = 10.0\n",
    "lbound = 0.001\n",
    "ubound = 1000.0\n",
    "transform = \"log\"\n",
    "\n",
    "p = flopy.pest.Params(\n",
    "    mfpackage, partype, parname, startvalue, lbound, ubound, span\n",
    ")"
   ]
  },
  {
   "cell_type": "markdown",
   "metadata": {},
   "source": [
    "At this point, we have enough information to the write a PEST template file for the LPF package.  We can do this using the following statement:"
   ]
  },
  {
   "cell_type": "code",
   "execution_count": 4,
   "metadata": {
    "execution": {
     "iopub.execute_input": "2022-12-15T13:05:02.156288Z",
     "iopub.status.busy": "2022-12-15T13:05:02.156027Z",
     "iopub.status.idle": "2022-12-15T13:05:02.163229Z",
     "shell.execute_reply": "2022-12-15T13:05:02.162052Z"
    }
   },
   "outputs": [
    {
     "name": "stdout",
     "output_type": "stream",
     "text": [
      "The following packages will be parameterized: ['LPF']\n",
      "\n"
     ]
    }
   ],
   "source": [
    "tw = flopy.pest.TemplateWriter(m, [p])\n",
    "tw.write_template()"
   ]
  },
  {
   "cell_type": "markdown",
   "metadata": {},
   "source": [
    "At this point, the lpf template file will have been created.  The following block will print the template file."
   ]
  },
  {
   "cell_type": "code",
   "execution_count": 5,
   "metadata": {
    "execution": {
     "iopub.execute_input": "2022-12-15T13:05:02.167220Z",
     "iopub.status.busy": "2022-12-15T13:05:02.166415Z",
     "iopub.status.idle": "2022-12-15T13:05:02.172283Z",
     "shell.execute_reply": "2022-12-15T13:05:02.171357Z"
    }
   },
   "outputs": [
    {
     "name": "stdout",
     "output_type": "stream",
     "text": [
      "ptf ~\n",
      "# LPF package for MODFLOW-2005 generated by Flopy 3.3.6\n",
      "0    -1E+30         0\n",
      "0         0         0\n",
      "0         0         0\n",
      "1.000000E+00   1.000000E+00   1.000000E+00\n",
      "0         0         0\n",
      "0         0         0\n",
      "CONSTANT ~ HK_LAYER_1  ~    #hk Layer 1\n",
      "CONSTANT    1.000000E+00                           #vka1\n",
      "CONSTANT 10.0    #hk Layer 2\n",
      "CONSTANT    1.000000E+00                           #vka2\n",
      "CONSTANT 10.0    #hk Layer 3\n",
      "CONSTANT    1.000000E+00                           #vka3\n"
     ]
    }
   ],
   "source": [
    "lines = open(os.path.join(workspace, \"mymodel.lpf.tpl\"), \"r\").readlines()\n",
    "for l in lines:\n",
    "    print(l.strip())"
   ]
  },
  {
   "cell_type": "markdown",
   "metadata": {},
   "source": [
    "The span variable will also accept 'layers', in which the parameter applies to the list of layers, as shown next.  When 'layers' is specified in the span dictionary, then the original hk value of 10. remains in the array, and the multiplier is specified on the array control line."
   ]
  },
  {
   "cell_type": "code",
   "execution_count": 6,
   "metadata": {
    "execution": {
     "iopub.execute_input": "2022-12-15T13:05:02.176666Z",
     "iopub.status.busy": "2022-12-15T13:05:02.176220Z",
     "iopub.status.idle": "2022-12-15T13:05:02.185715Z",
     "shell.execute_reply": "2022-12-15T13:05:02.184799Z"
    }
   },
   "outputs": [
    {
     "name": "stdout",
     "output_type": "stream",
     "text": [
      "The following packages will be parameterized: ['LPF']\n",
      "\n"
     ]
    }
   ],
   "source": [
    "mfpackage = \"lpf\"\n",
    "partype = \"hk\"\n",
    "parname = \"HK_LAYER_1-3\"\n",
    "\n",
    "# Span indicates that the hk parameter applies as a multiplier to layers 0 and 2 (MODFLOW layers 1 and 3)\n",
    "span = {\"layers\": [0, 2]}\n",
    "\n",
    "# These parameters have not affect yet, but may in the future\n",
    "startvalue = 10.0\n",
    "lbound = 0.001\n",
    "ubound = 1000.0\n",
    "transform = \"log\"\n",
    "\n",
    "p = flopy.pest.Params(\n",
    "    mfpackage, partype, parname, startvalue, lbound, ubound, span\n",
    ")\n",
    "tw = flopy.pest.templatewriter.TemplateWriter(m, [p])\n",
    "tw.write_template()"
   ]
  },
  {
   "cell_type": "code",
   "execution_count": 7,
   "metadata": {
    "execution": {
     "iopub.execute_input": "2022-12-15T13:05:02.189386Z",
     "iopub.status.busy": "2022-12-15T13:05:02.189042Z",
     "iopub.status.idle": "2022-12-15T13:05:02.195855Z",
     "shell.execute_reply": "2022-12-15T13:05:02.194872Z"
    }
   },
   "outputs": [
    {
     "name": "stdout",
     "output_type": "stream",
     "text": [
      "ptf ~\n",
      "# LPF package for MODFLOW-2005 generated by Flopy 3.3.6\n",
      "0    -1E+30         0\n",
      "0         0         0\n",
      "0         0         0\n",
      "1.000000E+00   1.000000E+00   1.000000E+00\n",
      "0         0         0\n",
      "0         0         0\n",
      "INTERNAL ~ HK_LAYER_1-3  ~ (FREE) -1      #hk Layer 1\n",
      "10.0            10.0            10.0            10.0            10.0            10.0            10.0            10.0            10.0            10.0\n",
      "10.0            10.0            10.0            10.0            10.0            10.0            10.0            10.0            10.0            10.0\n",
      "10.0            10.0            10.0            10.0            10.0            10.0            10.0            10.0            10.0            10.0\n",
      "10.0            10.0            10.0            10.0            10.0            10.0            10.0            10.0            10.0            10.0\n",
      "10.0            10.0            10.0            10.0            10.0            10.0            10.0            10.0            10.0            10.0\n",
      "10.0            10.0            10.0            10.0            10.0            10.0            10.0            10.0            10.0            10.0\n",
      "10.0            10.0            10.0            10.0            10.0            10.0            10.0            10.0            10.0            10.0\n",
      "10.0            10.0            10.0            10.0            10.0            10.0            10.0            10.0            10.0            10.0\n",
      "10.0            10.0            10.0            10.0            10.0            10.0            10.0            10.0            10.0            10.0\n",
      "10.0            10.0            10.0            10.0            10.0            10.0            10.0            10.0            10.0            10.0\n",
      "10.0            10.0            10.0            10.0            10.0            10.0            10.0            10.0            10.0            10.0\n",
      "10.0            10.0            10.0            10.0            10.0            10.0            10.0            10.0            10.0            10.0\n",
      "10.0            10.0            10.0            10.0            10.0            10.0            10.0            10.0            10.0            10.0\n",
      "10.0            10.0            10.0            10.0            10.0            10.0            10.0            10.0            10.0            10.0\n",
      "10.0            10.0            10.0            10.0            10.0            10.0            10.0            10.0            10.0            10.0\n",
      "10.0            10.0            10.0            10.0            10.0            10.0            10.0            10.0            10.0            10.0\n",
      "10.0            10.0            10.0            10.0            10.0            10.0            10.0            10.0            10.0            10.0\n",
      "10.0            10.0            10.0            10.0            10.0            10.0            10.0            10.0            10.0            10.0\n",
      "10.0            10.0            10.0            10.0            10.0            10.0            10.0            10.0            10.0            10.0\n",
      "10.0            10.0            10.0            10.0            10.0            10.0            10.0            10.0            10.0            10.0\n",
      "10.0            10.0            10.0            10.0            10.0            10.0            10.0            10.0            10.0            10.0\n",
      "10.0            10.0            10.0            10.0            10.0            10.0            10.0            10.0            10.0            10.0\n",
      "10.0            10.0            10.0            10.0            10.0            10.0            10.0            10.0            10.0            10.0\n",
      "10.0            10.0            10.0            10.0            10.0            10.0            10.0            10.0            10.0            10.0\n",
      "10.0            10.0            10.0            10.0            10.0            10.0            10.0            10.0            10.0            10.0\n",
      "10.0            10.0            10.0            10.0            10.0            10.0            10.0            10.0            10.0            10.0\n",
      "10.0            10.0            10.0            10.0            10.0            10.0            10.0            10.0            10.0            10.0\n",
      "10.0            10.0            10.0            10.0            10.0            10.0            10.0            10.0            10.0            10.0\n",
      "10.0            10.0            10.0            10.0            10.0            10.0            10.0            10.0            10.0            10.0\n",
      "10.0            10.0            10.0            10.0            10.0            10.0            10.0            10.0            10.0            10.0\n",
      "10.0            10.0            10.0            10.0            10.0            10.0            10.0            10.0            10.0            10.0\n",
      "10.0            10.0            10.0            10.0            10.0            10.0            10.0            10.0            10.0            10.0\n",
      "10.0            10.0            10.0            10.0            10.0            10.0            10.0            10.0            10.0            10.0\n",
      "10.0            10.0            10.0            10.0            10.0            10.0            10.0            10.0            10.0            10.0\n",
      "10.0            10.0            10.0            10.0            10.0            10.0            10.0            10.0            10.0            10.0\n",
      "10.0            10.0            10.0            10.0            10.0            10.0            10.0            10.0            10.0            10.0\n",
      "10.0            10.0            10.0            10.0            10.0            10.0            10.0            10.0            10.0            10.0\n",
      "10.0            10.0            10.0            10.0            10.0            10.0            10.0            10.0            10.0            10.0\n",
      "10.0            10.0            10.0            10.0            10.0            10.0            10.0            10.0            10.0            10.0\n",
      "10.0            10.0            10.0            10.0            10.0            10.0            10.0            10.0            10.0            10.0\n",
      "CONSTANT    1.000000E+00                           #vka1\n",
      "CONSTANT 10.0    #hk Layer 2\n",
      "CONSTANT    1.000000E+00                           #vka2\n",
      "INTERNAL ~ HK_LAYER_1-3  ~ (FREE) -1      #hk Layer 3\n",
      "10.0            10.0            10.0            10.0            10.0            10.0            10.0            10.0            10.0            10.0\n",
      "10.0            10.0            10.0            10.0            10.0            10.0            10.0            10.0            10.0            10.0\n",
      "10.0            10.0            10.0            10.0            10.0            10.0            10.0            10.0            10.0            10.0\n",
      "10.0            10.0            10.0            10.0            10.0            10.0            10.0            10.0            10.0            10.0\n",
      "10.0            10.0            10.0            10.0            10.0            10.0            10.0            10.0            10.0            10.0\n",
      "10.0            10.0            10.0            10.0            10.0            10.0            10.0            10.0            10.0            10.0\n",
      "10.0            10.0            10.0            10.0            10.0            10.0            10.0            10.0            10.0            10.0\n",
      "10.0            10.0            10.0            10.0            10.0            10.0            10.0            10.0            10.0            10.0\n",
      "10.0            10.0            10.0            10.0            10.0            10.0            10.0            10.0            10.0            10.0\n",
      "10.0            10.0            10.0            10.0            10.0            10.0            10.0            10.0            10.0            10.0\n",
      "10.0            10.0            10.0            10.0            10.0            10.0            10.0            10.0            10.0            10.0\n",
      "10.0            10.0            10.0            10.0            10.0            10.0            10.0            10.0            10.0            10.0\n",
      "10.0            10.0            10.0            10.0            10.0            10.0            10.0            10.0            10.0            10.0\n",
      "10.0            10.0            10.0            10.0            10.0            10.0            10.0            10.0            10.0            10.0\n",
      "10.0            10.0            10.0            10.0            10.0            10.0            10.0            10.0            10.0            10.0\n",
      "10.0            10.0            10.0            10.0            10.0            10.0            10.0            10.0            10.0            10.0\n",
      "10.0            10.0            10.0            10.0            10.0            10.0            10.0            10.0            10.0            10.0\n",
      "10.0            10.0            10.0            10.0            10.0            10.0            10.0            10.0            10.0            10.0\n",
      "10.0            10.0            10.0            10.0            10.0            10.0            10.0            10.0            10.0            10.0\n",
      "10.0            10.0            10.0            10.0            10.0            10.0            10.0            10.0            10.0            10.0\n",
      "10.0            10.0            10.0            10.0            10.0            10.0            10.0            10.0            10.0            10.0\n",
      "10.0            10.0            10.0            10.0            10.0            10.0            10.0            10.0            10.0            10.0\n",
      "10.0            10.0            10.0            10.0            10.0            10.0            10.0            10.0            10.0            10.0\n",
      "10.0            10.0            10.0            10.0            10.0            10.0            10.0            10.0            10.0            10.0\n",
      "10.0            10.0            10.0            10.0            10.0            10.0            10.0            10.0            10.0            10.0\n",
      "10.0            10.0            10.0            10.0            10.0            10.0            10.0            10.0            10.0            10.0\n",
      "10.0            10.0            10.0            10.0            10.0            10.0            10.0            10.0            10.0            10.0\n",
      "10.0            10.0            10.0            10.0            10.0            10.0            10.0            10.0            10.0            10.0\n",
      "10.0            10.0            10.0            10.0            10.0            10.0            10.0            10.0            10.0            10.0\n",
      "10.0            10.0            10.0            10.0            10.0            10.0            10.0            10.0            10.0            10.0\n",
      "10.0            10.0            10.0            10.0            10.0            10.0            10.0            10.0            10.0            10.0\n",
      "10.0            10.0            10.0            10.0            10.0            10.0            10.0            10.0            10.0            10.0\n",
      "10.0            10.0            10.0            10.0            10.0            10.0            10.0            10.0            10.0            10.0\n",
      "10.0            10.0            10.0            10.0            10.0            10.0            10.0            10.0            10.0            10.0\n",
      "10.0            10.0            10.0            10.0            10.0            10.0            10.0            10.0            10.0            10.0\n",
      "10.0            10.0            10.0            10.0            10.0            10.0            10.0            10.0            10.0            10.0\n",
      "10.0            10.0            10.0            10.0            10.0            10.0            10.0            10.0            10.0            10.0\n",
      "10.0            10.0            10.0            10.0            10.0            10.0            10.0            10.0            10.0            10.0\n",
      "10.0            10.0            10.0            10.0            10.0            10.0            10.0            10.0            10.0            10.0\n",
      "10.0            10.0            10.0            10.0            10.0            10.0            10.0            10.0            10.0            10.0\n",
      "CONSTANT    1.000000E+00                           #vka3\n"
     ]
    }
   ],
   "source": [
    "lines = open(os.path.join(workspace, \"mymodel.lpf.tpl\"), \"r\").readlines()\n",
    "for l in lines:\n",
    "    print(l.strip())"
   ]
  },
  {
   "cell_type": "markdown",
   "metadata": {},
   "source": [
    "### Multiple Parameter Zoned Approach\n",
    "\n",
    "The params module has a helper function called zonearray2params that will take a zone array and some other information and create a list of parameters, which can then be passed to the template writer.  This next example shows how to create a slightly more complicated LPF template file in which both HK and VKA are parameterized."
   ]
  },
  {
   "cell_type": "code",
   "execution_count": 8,
   "metadata": {
    "execution": {
     "iopub.execute_input": "2022-12-15T13:05:02.199949Z",
     "iopub.status.busy": "2022-12-15T13:05:02.199473Z",
     "iopub.status.idle": "2022-12-15T13:05:02.205007Z",
     "shell.execute_reply": "2022-12-15T13:05:02.203310Z"
    }
   },
   "outputs": [],
   "source": [
    "# Create a zone array\n",
    "zonearray = np.ones((nlay, nrow, ncol), dtype=int)\n",
    "zonearray[0, 10:, 7:] = 2\n",
    "zonearray[0, 15:, 9:] = 3\n",
    "zonearray[1] = 4"
   ]
  },
  {
   "cell_type": "code",
   "execution_count": 9,
   "metadata": {
    "execution": {
     "iopub.execute_input": "2022-12-15T13:05:02.209294Z",
     "iopub.status.busy": "2022-12-15T13:05:02.208683Z",
     "iopub.status.idle": "2022-12-15T13:05:02.214572Z",
     "shell.execute_reply": "2022-12-15T13:05:02.213275Z"
    }
   },
   "outputs": [],
   "source": [
    "# Create a list of parameters for HK\n",
    "mfpackage = \"lpf\"\n",
    "parzones = [2, 3, 4]\n",
    "parvals = [56.777, 78.999, 99.0]\n",
    "lbound = 5\n",
    "ubound = 500\n",
    "transform = \"log\"\n",
    "plisthk = flopy.pest.zonearray2params(\n",
    "    mfpackage, \"hk\", parzones, lbound, ubound, parvals, transform, zonearray\n",
    ")"
   ]
  },
  {
   "cell_type": "markdown",
   "metadata": {},
   "source": [
    "In this case, Flopy will create three parameters: hk_2, hk_3, and hk_4, which will apply to the horizontal hydraulic conductivity for cells in zones 2, 3, and 4, respectively.  Only those zone numbers listed in parzones will be parameterized.  For example, many cells in zonearray have a value of 1.  Those cells will not be parameterized.  Instead, their hydraulic conductivity values will remain fixed at the value that was specified when the Flopy LPF package was created."
   ]
  },
  {
   "cell_type": "code",
   "execution_count": 10,
   "metadata": {
    "execution": {
     "iopub.execute_input": "2022-12-15T13:05:02.221587Z",
     "iopub.status.busy": "2022-12-15T13:05:02.221270Z",
     "iopub.status.idle": "2022-12-15T13:05:02.229032Z",
     "shell.execute_reply": "2022-12-15T13:05:02.228155Z"
    }
   },
   "outputs": [],
   "source": [
    "# Create a list of parameters for VKA\n",
    "parzones = [1, 2]\n",
    "parvals = [0.001, 0.0005]\n",
    "zonearray = np.ones((nlay, nrow, ncol), dtype=int)\n",
    "zonearray[1] = 2\n",
    "plistvk = flopy.pest.zonearray2params(\n",
    "    mfpackage, \"vka\", parzones, lbound, ubound, parvals, transform, zonearray\n",
    ")"
   ]
  },
  {
   "cell_type": "code",
   "execution_count": 11,
   "metadata": {
    "execution": {
     "iopub.execute_input": "2022-12-15T13:05:02.232939Z",
     "iopub.status.busy": "2022-12-15T13:05:02.232479Z",
     "iopub.status.idle": "2022-12-15T13:05:02.237481Z",
     "shell.execute_reply": "2022-12-15T13:05:02.236711Z"
    }
   },
   "outputs": [
    {
     "name": "stdout",
     "output_type": "stream",
     "text": [
      "hk_2 lpf 56.777\n",
      "hk_3 lpf 78.999\n",
      "hk_4 lpf 99.0\n",
      "vka_1 lpf 0.001\n",
      "vka_2 lpf 0.0005\n"
     ]
    }
   ],
   "source": [
    "# Combine the HK and VKA parameters together\n",
    "plist = plisthk + plistvk\n",
    "for p in plist:\n",
    "    print(p.name, p.mfpackage, p.startvalue)"
   ]
  },
  {
   "cell_type": "code",
   "execution_count": 12,
   "metadata": {
    "execution": {
     "iopub.execute_input": "2022-12-15T13:05:02.240781Z",
     "iopub.status.busy": "2022-12-15T13:05:02.240523Z",
     "iopub.status.idle": "2022-12-15T13:05:02.248947Z",
     "shell.execute_reply": "2022-12-15T13:05:02.247918Z"
    }
   },
   "outputs": [
    {
     "name": "stdout",
     "output_type": "stream",
     "text": [
      "The following packages will be parameterized: ['LPF']\n",
      "\n"
     ]
    }
   ],
   "source": [
    "# Write the template file\n",
    "tw = flopy.pest.templatewriter.TemplateWriter(m, plist)\n",
    "tw.write_template()"
   ]
  },
  {
   "cell_type": "code",
   "execution_count": 13,
   "metadata": {
    "execution": {
     "iopub.execute_input": "2022-12-15T13:05:02.253114Z",
     "iopub.status.busy": "2022-12-15T13:05:02.252813Z",
     "iopub.status.idle": "2022-12-15T13:05:02.258928Z",
     "shell.execute_reply": "2022-12-15T13:05:02.257840Z"
    }
   },
   "outputs": [
    {
     "name": "stdout",
     "output_type": "stream",
     "text": [
      "ptf ~\n",
      "# LPF package for MODFLOW-2005 generated by Flopy 3.3.6\n",
      "0    -1E+30         0\n",
      "0         0         0\n",
      "0         0         0\n",
      "1.000000E+00   1.000000E+00   1.000000E+00\n",
      "0         0         0\n",
      "0         0         0\n",
      "INTERNAL 1.0 (FREE) -1      #hk Layer 1\n",
      "10.0            10.0            10.0            10.0            10.0            10.0            10.0            10.0            10.0            10.0\n",
      "10.0            10.0            10.0            10.0            10.0            10.0            10.0            10.0            10.0            10.0\n",
      "10.0            10.0            10.0            10.0            10.0            10.0            10.0            10.0            10.0            10.0\n",
      "10.0            10.0            10.0            10.0            10.0            10.0            10.0            10.0            10.0            10.0\n",
      "10.0            10.0            10.0            10.0            10.0            10.0            10.0            10.0            10.0            10.0\n",
      "10.0            10.0            10.0            10.0            10.0            10.0            10.0            10.0            10.0            10.0\n",
      "10.0            10.0            10.0            10.0            10.0            10.0            10.0            10.0            10.0            10.0\n",
      "10.0            10.0            10.0            10.0            10.0            10.0            10.0            10.0            10.0            10.0\n",
      "10.0            10.0            10.0            10.0            10.0            10.0            10.0            10.0            10.0            10.0\n",
      "10.0            10.0            10.0            10.0            10.0            10.0            10.0            10.0            10.0            10.0\n",
      "10.0            10.0            10.0            10.0            10.0            10.0            10.0            10.0            10.0            10.0\n",
      "10.0            10.0            10.0            10.0            10.0            10.0            10.0            10.0            10.0            10.0\n",
      "10.0            10.0            10.0            10.0            10.0            10.0            10.0            10.0            10.0            10.0\n",
      "10.0            10.0            10.0            10.0            10.0            10.0            10.0            10.0            10.0            10.0\n",
      "10.0            10.0            10.0            10.0            10.0            10.0            10.0            10.0            10.0            10.0\n",
      "10.0            10.0            10.0            10.0            10.0            10.0            10.0            10.0            10.0            10.0\n",
      "10.0            10.0            10.0            10.0            10.0            10.0            10.0            10.0            10.0            10.0\n",
      "10.0            10.0            10.0            10.0            10.0            10.0            10.0            10.0            10.0            10.0\n",
      "10.0            10.0            10.0            10.0            10.0            10.0            10.0            10.0            10.0            10.0\n",
      "10.0            10.0            10.0            10.0            10.0            10.0            10.0            10.0            10.0            10.0\n",
      "10.0            10.0            10.0            10.0            10.0            10.0            10.0 ~    hk_2     ~ ~    hk_2     ~ ~    hk_2     ~\n",
      "~    hk_2     ~ ~    hk_2     ~ ~    hk_2     ~ ~    hk_2     ~ ~    hk_2     ~ ~    hk_2     ~ ~    hk_2     ~ ~    hk_2     ~ ~    hk_2     ~ ~    hk_2     ~\n",
      "10.0            10.0            10.0            10.0            10.0            10.0            10.0 ~    hk_2     ~ ~    hk_2     ~ ~    hk_2     ~\n",
      "~    hk_2     ~ ~    hk_2     ~ ~    hk_2     ~ ~    hk_2     ~ ~    hk_2     ~ ~    hk_2     ~ ~    hk_2     ~ ~    hk_2     ~ ~    hk_2     ~ ~    hk_2     ~\n",
      "10.0            10.0            10.0            10.0            10.0            10.0            10.0 ~    hk_2     ~ ~    hk_2     ~ ~    hk_2     ~\n",
      "~    hk_2     ~ ~    hk_2     ~ ~    hk_2     ~ ~    hk_2     ~ ~    hk_2     ~ ~    hk_2     ~ ~    hk_2     ~ ~    hk_2     ~ ~    hk_2     ~ ~    hk_2     ~\n",
      "10.0            10.0            10.0            10.0            10.0            10.0            10.0 ~    hk_2     ~ ~    hk_2     ~ ~    hk_2     ~\n",
      "~    hk_2     ~ ~    hk_2     ~ ~    hk_2     ~ ~    hk_2     ~ ~    hk_2     ~ ~    hk_2     ~ ~    hk_2     ~ ~    hk_2     ~ ~    hk_2     ~ ~    hk_2     ~\n",
      "10.0            10.0            10.0            10.0            10.0            10.0            10.0 ~    hk_2     ~ ~    hk_2     ~ ~    hk_2     ~\n",
      "~    hk_2     ~ ~    hk_2     ~ ~    hk_2     ~ ~    hk_2     ~ ~    hk_2     ~ ~    hk_2     ~ ~    hk_2     ~ ~    hk_2     ~ ~    hk_2     ~ ~    hk_2     ~\n",
      "10.0            10.0            10.0            10.0            10.0            10.0            10.0 ~    hk_2     ~ ~    hk_2     ~ ~    hk_3     ~\n",
      "~    hk_3     ~ ~    hk_3     ~ ~    hk_3     ~ ~    hk_3     ~ ~    hk_3     ~ ~    hk_3     ~ ~    hk_3     ~ ~    hk_3     ~ ~    hk_3     ~ ~    hk_3     ~\n",
      "10.0            10.0            10.0            10.0            10.0            10.0            10.0 ~    hk_2     ~ ~    hk_2     ~ ~    hk_3     ~\n",
      "~    hk_3     ~ ~    hk_3     ~ ~    hk_3     ~ ~    hk_3     ~ ~    hk_3     ~ ~    hk_3     ~ ~    hk_3     ~ ~    hk_3     ~ ~    hk_3     ~ ~    hk_3     ~\n",
      "10.0            10.0            10.0            10.0            10.0            10.0            10.0 ~    hk_2     ~ ~    hk_2     ~ ~    hk_3     ~\n",
      "~    hk_3     ~ ~    hk_3     ~ ~    hk_3     ~ ~    hk_3     ~ ~    hk_3     ~ ~    hk_3     ~ ~    hk_3     ~ ~    hk_3     ~ ~    hk_3     ~ ~    hk_3     ~\n",
      "10.0            10.0            10.0            10.0            10.0            10.0            10.0 ~    hk_2     ~ ~    hk_2     ~ ~    hk_3     ~\n",
      "~    hk_3     ~ ~    hk_3     ~ ~    hk_3     ~ ~    hk_3     ~ ~    hk_3     ~ ~    hk_3     ~ ~    hk_3     ~ ~    hk_3     ~ ~    hk_3     ~ ~    hk_3     ~\n",
      "10.0            10.0            10.0            10.0            10.0            10.0            10.0 ~    hk_2     ~ ~    hk_2     ~ ~    hk_3     ~\n",
      "~    hk_3     ~ ~    hk_3     ~ ~    hk_3     ~ ~    hk_3     ~ ~    hk_3     ~ ~    hk_3     ~ ~    hk_3     ~ ~    hk_3     ~ ~    hk_3     ~ ~    hk_3     ~\n",
      "CONSTANT ~    vka_1    ~    #vka1\n",
      "CONSTANT ~    hk_4     ~    #hk Layer 2\n",
      "CONSTANT ~    vka_2    ~    #vka2\n",
      "CONSTANT 10.0    #hk Layer 3\n",
      "CONSTANT ~    vka_1    ~    #vka3\n"
     ]
    }
   ],
   "source": [
    "# Print contents of template file\n",
    "lines = open(os.path.join(workspace, \"mymodel.lpf.tpl\"), \"r\").readlines()\n",
    "for l in lines:\n",
    "    print(l.strip())"
   ]
  },
  {
   "cell_type": "markdown",
   "metadata": {},
   "source": [
    "## Two-Dimensional Transient Arrays\n",
    "\n",
    "Flopy supports parameterization of transient two dimensional arrays, like recharge.  This is similar to the approach for three dimensional static arrays, but there are some important differences in how span is specified.  The parameter span here is also a dictionary, and it must contain a 'kper' key, which corresponds to a list of stress periods (zero based, of course) for which the parameter applies.  The span dictionary must also contain an 'idx' key.  If span['idx'] is None, then the parameter is a multiplier for those stress periods.  If span['idx'] is a tuple (iarray, jarray), where iarray and jarray are a list of array indices, or a boolean array of shape (nrow, ncol), then the parameter applies only to the cells specified in idx."
   ]
  },
  {
   "cell_type": "code",
   "execution_count": 14,
   "metadata": {
    "execution": {
     "iopub.execute_input": "2022-12-15T13:05:02.262964Z",
     "iopub.status.busy": "2022-12-15T13:05:02.262720Z",
     "iopub.status.idle": "2022-12-15T13:05:02.272079Z",
     "shell.execute_reply": "2022-12-15T13:05:02.271179Z"
    }
   },
   "outputs": [],
   "source": [
    "# Define the model dimensions (made smaller for easier viewing)\n",
    "nlay = 3\n",
    "nrow = 5\n",
    "ncol = 5\n",
    "nper = 3\n",
    "\n",
    "# Create the flopy model object and add the dis and lpf packages\n",
    "m = flopy.modflow.Modflow(modelname=\"mymodel\", model_ws=workspace)\n",
    "dis = flopy.modflow.ModflowDis(m, nlay, nrow, ncol, nper=nper)\n",
    "lpf = flopy.modflow.ModflowLpf(m, hk=10.0)\n",
    "rch = flopy.modflow.ModflowRch(m, rech={0: 0.001, 2: 0.003})"
   ]
  },
  {
   "cell_type": "markdown",
   "metadata": {},
   "source": [
    "Next, we create the parameters"
   ]
  },
  {
   "cell_type": "code",
   "execution_count": 15,
   "metadata": {
    "execution": {
     "iopub.execute_input": "2022-12-15T13:05:02.276112Z",
     "iopub.status.busy": "2022-12-15T13:05:02.275859Z",
     "iopub.status.idle": "2022-12-15T13:05:02.279372Z",
     "shell.execute_reply": "2022-12-15T13:05:02.278436Z"
    }
   },
   "outputs": [],
   "source": [
    "plist = []"
   ]
  },
  {
   "cell_type": "code",
   "execution_count": 16,
   "metadata": {
    "execution": {
     "iopub.execute_input": "2022-12-15T13:05:02.282927Z",
     "iopub.status.busy": "2022-12-15T13:05:02.282688Z",
     "iopub.status.idle": "2022-12-15T13:05:02.288033Z",
     "shell.execute_reply": "2022-12-15T13:05:02.287131Z"
    }
   },
   "outputs": [],
   "source": [
    "# Create a multiplier parameter for recharge\n",
    "mfpackage = \"rch\"\n",
    "partype = \"rech\"\n",
    "parname = \"RECH_MULT\"\n",
    "startvalue = None\n",
    "lbound = None\n",
    "ubound = None\n",
    "transform = None\n",
    "\n",
    "# For a recharge multiplier, span['idx'] must be None\n",
    "idx = None\n",
    "span = {\"kpers\": [0, 1, 2], \"idx\": idx}\n",
    "p = flopy.pest.Params(\n",
    "    mfpackage, partype, parname, startvalue, lbound, ubound, span\n",
    ")\n",
    "plist.append(p)"
   ]
  },
  {
   "cell_type": "code",
   "execution_count": 17,
   "metadata": {
    "execution": {
     "iopub.execute_input": "2022-12-15T13:05:02.292067Z",
     "iopub.status.busy": "2022-12-15T13:05:02.291806Z",
     "iopub.status.idle": "2022-12-15T13:05:02.297346Z",
     "shell.execute_reply": "2022-12-15T13:05:02.296458Z"
    }
   },
   "outputs": [
    {
     "name": "stdout",
     "output_type": "stream",
     "text": [
      "The following packages will be parameterized: ['RCH']\n",
      "\n"
     ]
    }
   ],
   "source": [
    "# Write the template file\n",
    "tw = flopy.pest.TemplateWriter(m, plist)\n",
    "tw.write_template()"
   ]
  },
  {
   "cell_type": "code",
   "execution_count": 18,
   "metadata": {
    "execution": {
     "iopub.execute_input": "2022-12-15T13:05:02.301865Z",
     "iopub.status.busy": "2022-12-15T13:05:02.301625Z",
     "iopub.status.idle": "2022-12-15T13:05:02.307103Z",
     "shell.execute_reply": "2022-12-15T13:05:02.306230Z"
    }
   },
   "outputs": [
    {
     "name": "stdout",
     "output_type": "stream",
     "text": [
      "ptf ~\n",
      "# RCH package for MODFLOW-2005 generated by Flopy 3.3.6\n",
      "3         0\n",
      "1        -1 # Stress period 1\n",
      "INTERNAL ~   RECH_MULT   ~ (FREE) -1      #rech_1\n",
      "0.001           0.001           0.001           0.001           0.001\n",
      "0.001           0.001           0.001           0.001           0.001\n",
      "0.001           0.001           0.001           0.001           0.001\n",
      "0.001           0.001           0.001           0.001           0.001\n",
      "0.001           0.001           0.001           0.001           0.001\n",
      "1        -1 # Stress period 2\n",
      "INTERNAL ~   RECH_MULT   ~ (FREE) -1      #rech_1\n",
      "0.001           0.001           0.001           0.001           0.001\n",
      "0.001           0.001           0.001           0.001           0.001\n",
      "0.001           0.001           0.001           0.001           0.001\n",
      "0.001           0.001           0.001           0.001           0.001\n",
      "0.001           0.001           0.001           0.001           0.001\n",
      "1        -1 # Stress period 3\n",
      "INTERNAL ~   RECH_MULT   ~ (FREE) -1      #rech_3\n",
      "0.003           0.003           0.003           0.003           0.003\n",
      "0.003           0.003           0.003           0.003           0.003\n",
      "0.003           0.003           0.003           0.003           0.003\n",
      "0.003           0.003           0.003           0.003           0.003\n",
      "0.003           0.003           0.003           0.003           0.003\n"
     ]
    }
   ],
   "source": [
    "# Print the results\n",
    "lines = open(os.path.join(workspace, \"mymodel.rch.tpl\"), \"r\").readlines()\n",
    "for l in lines:\n",
    "    print(l.strip())"
   ]
  },
  {
   "cell_type": "markdown",
   "metadata": {},
   "source": [
    "Multiplier parameters can also be combined with index parameters as follows."
   ]
  },
  {
   "cell_type": "code",
   "execution_count": 19,
   "metadata": {
    "execution": {
     "iopub.execute_input": "2022-12-15T13:05:02.311580Z",
     "iopub.status.busy": "2022-12-15T13:05:02.311317Z",
     "iopub.status.idle": "2022-12-15T13:05:02.316975Z",
     "shell.execute_reply": "2022-12-15T13:05:02.315527Z"
    }
   },
   "outputs": [],
   "source": [
    "plist = []\n",
    "\n",
    "# Create a multiplier parameter for recharge\n",
    "mfpackage = \"rch\"\n",
    "partype = \"rech\"\n",
    "parname = \"RECH_MULT\"\n",
    "startvalue = None\n",
    "lbound = None\n",
    "ubound = None\n",
    "transform = None\n",
    "\n",
    "# For a recharge multiplier, span['idx'] must be None\n",
    "span = {\"kpers\": [1, 2], \"idx\": None}\n",
    "p = flopy.pest.Params(\n",
    "    mfpackage, partype, parname, startvalue, lbound, ubound, span\n",
    ")\n",
    "plist.append(p)"
   ]
  },
  {
   "cell_type": "code",
   "execution_count": 20,
   "metadata": {
    "execution": {
     "iopub.execute_input": "2022-12-15T13:05:02.321192Z",
     "iopub.status.busy": "2022-12-15T13:05:02.320858Z",
     "iopub.status.idle": "2022-12-15T13:05:02.326928Z",
     "shell.execute_reply": "2022-12-15T13:05:02.325961Z"
    }
   },
   "outputs": [],
   "source": [
    "# Now create an index parameter\n",
    "mfpackage = \"rch\"\n",
    "partype = \"rech\"\n",
    "parname = \"RECH_ZONE\"\n",
    "startvalue = None\n",
    "lbound = None\n",
    "ubound = None\n",
    "transform = None\n",
    "\n",
    "# For a recharge index parameter, span['idx'] must be a boolean array or tuple of array indices\n",
    "idx = np.empty((nrow, ncol), dtype=bool)\n",
    "idx[0:3, 0:3] = True\n",
    "span = {\"kpers\": [1], \"idx\": idx}\n",
    "p = flopy.pest.Params(\n",
    "    mfpackage, partype, parname, startvalue, lbound, ubound, span\n",
    ")\n",
    "plist.append(p)"
   ]
  },
  {
   "cell_type": "code",
   "execution_count": 21,
   "metadata": {
    "execution": {
     "iopub.execute_input": "2022-12-15T13:05:02.330754Z",
     "iopub.status.busy": "2022-12-15T13:05:02.330510Z",
     "iopub.status.idle": "2022-12-15T13:05:02.338516Z",
     "shell.execute_reply": "2022-12-15T13:05:02.337476Z"
    }
   },
   "outputs": [
    {
     "name": "stdout",
     "output_type": "stream",
     "text": [
      "The following packages will be parameterized: ['RCH']\n",
      "\n",
      "ptf ~\n",
      "# RCH package for MODFLOW-2005 generated by Flopy 3.3.6\n",
      "3         0\n",
      "1        -1 # Stress period 1\n",
      "CONSTANT    1.000000E-03                           #rech_1\n",
      "1        -1 # Stress period 2\n",
      "INTERNAL ~   RECH_MULT   ~ (FREE) -1      #rech_1\n",
      "~  RECH_ZONE  ~ ~  RECH_ZONE  ~ ~  RECH_ZONE  ~           0.001           0.001\n",
      "~  RECH_ZONE  ~ ~  RECH_ZONE  ~ ~  RECH_ZONE  ~           0.001           0.001\n",
      "~  RECH_ZONE  ~ ~  RECH_ZONE  ~ ~  RECH_ZONE  ~           0.001           0.001\n",
      "0.001           0.001           0.001           0.001           0.001\n",
      "0.001           0.001           0.001           0.001           0.001\n",
      "1        -1 # Stress period 3\n",
      "INTERNAL ~   RECH_MULT   ~ (FREE) -1      #rech_3\n",
      "0.003           0.003           0.003           0.003           0.003\n",
      "0.003           0.003           0.003           0.003           0.003\n",
      "0.003           0.003           0.003           0.003           0.003\n",
      "0.003           0.003           0.003           0.003           0.003\n",
      "0.003           0.003           0.003           0.003           0.003\n"
     ]
    }
   ],
   "source": [
    "# Write the template file\n",
    "tw = flopy.pest.templatewriter.TemplateWriter(m, plist)\n",
    "tw.write_template()\n",
    "\n",
    "# Print the results\n",
    "lines = open(os.path.join(workspace, \"mymodel.rch.tpl\"), \"r\").readlines()\n",
    "for l in lines:\n",
    "    print(l.strip())"
   ]
  },
  {
   "cell_type": "code",
   "execution_count": 22,
   "metadata": {
    "execution": {
     "iopub.execute_input": "2022-12-15T13:05:02.345768Z",
     "iopub.status.busy": "2022-12-15T13:05:02.345442Z",
     "iopub.status.idle": "2022-12-15T13:05:02.351350Z",
     "shell.execute_reply": "2022-12-15T13:05:02.350412Z"
    }
   },
   "outputs": [],
   "source": [
    "try:\n",
    "    # ignore PermissionError on Windows\n",
    "    temp_dir.cleanup()\n",
    "except:\n",
    "    pass"
   ]
  }
 ],
 "metadata": {
  "anaconda-cloud": {},
  "kernelspec": {
   "display_name": "Python 3",
   "language": "python",
   "name": "python3"
  },
  "language_info": {
   "codemirror_mode": {
    "name": "ipython",
    "version": 3
   },
   "file_extension": ".py",
   "mimetype": "text/x-python",
   "name": "python",
   "nbconvert_exporter": "python",
   "pygments_lexer": "ipython3",
   "version": "3.7.15"
  }
 },
 "nbformat": 4,
 "nbformat_minor": 4
}
