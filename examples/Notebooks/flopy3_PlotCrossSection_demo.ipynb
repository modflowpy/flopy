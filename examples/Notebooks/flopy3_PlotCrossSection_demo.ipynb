{
 "cells": [
  {
   "cell_type": "markdown",
   "metadata": {
    "collapsed": true
   },
   "source": [
    "# New plotting classes have been added to flopy\n",
    "\n",
    "these classes seamlessly support vertex model grid cross section plotting using the new `PlotCrossSection` class. This class will replace the previous `ModelCrossSection` class; however backward compatibility is still supported through `ModelCrossSection`.\n",
    "\n",
    "`PlotCrossSection` has a similar interface as `ModelCrossSection`. In most instances the two classes can be used interchangably. The biggest difference is that some of the input parameters have changed.\n",
    "\n",
    "The number of input parameters to the `PlotCrossSection` class has been reduced to make it easier to work with.\n",
    "\n",
    "Transforms using `xll`, `yll`, `xul`, `yul`, `rotation`, and `length_multiplier` have been removed from the list of parameters. The user should apply these transforms before passing their model grid to `PlotCrossSection`.\n",
    "\n",
    "The remaining functionality remains the same!"
   ]
  },
  {
   "cell_type": "code",
   "execution_count": null,
   "metadata": {},
   "outputs": [],
   "source": [
    "%matplotlib inline\n",
    "import numpy as np\n",
    "import matplotlib.pyplot as plt\n",
    "import matplotlib as mpl\n",
    "import os, sys\n",
    "import setup_pmv_demo\n",
    "\n",
    "# run installed version of flopy or add local path\n",
    "try:\n",
    "    import flopy\n",
    "    from flopy.plot import PlotMapView, PlotCrossSection, ModelMap, ModelCrossSection\n",
    "    from flopy.utils import HeadFile, CellBudgetFile, geometry\n",
    "except:\n",
    "    fpth = os.path.abspath(os.path.join('..', '..'))\n",
    "    sys.path.append(fpth)\n",
    "    import flopy\n",
    "    from flopy.plot import PlotMapView, PlotCrossSection, ModelMap, ModelCrossSection\n",
    "    from flopy.utils import HeadFile, CellBudgetFile, geometry\n"
   ]
  },
  {
   "cell_type": "markdown",
   "metadata": {},
   "source": [
    "## First let's set up our projects \n",
    "\n",
    "This function runs a couple of modflow models; we'll be working with the output data from these\n",
    "\n",
    "### Freyberg model for the DIS example"
   ]
  },
  {
   "cell_type": "code",
   "execution_count": null,
   "metadata": {},
   "outputs": [],
   "source": [
    "loadpth = os.path.join('..', 'data', 'freyberg')\n",
    "modelpth = os.path.join('data')\n",
    "dis_ml = flopy.modflow.Modflow.load('freyberg.nam', model_ws=loadpth, \n",
    "                                exe_name=\"mf2005\", version=\"mf2005\")\n",
    "dis_ml.change_model_ws(new_pth=modelpth)\n",
    "dis_ml.write_input()\n",
    "success, buff = dis_ml.run_model()\n",
    "if not success:\n",
    "    print ('Something bad happened.')\n",
    "files = ['freyberg.hds', 'freyberg.cbc']\n",
    "for f in files:\n",
    "    if os.path.isfile(os.path.join(modelpth, f)):\n",
    "        msg = 'Output file located: {}'.format(f)\n",
    "        print (msg)\n",
    "    else:\n",
    "        errmsg = 'Error. Output file cannot be found: {}'.format(f)\n",
    "        print (errmsg)"
   ]
  },
  {
   "cell_type": "markdown",
   "metadata": {},
   "source": [
    "### DISV example problem"
   ]
  },
  {
   "cell_type": "code",
   "execution_count": null,
   "metadata": {},
   "outputs": [],
   "source": [
    "# load up the vertex example problem\n",
    "sim_name = \"mfsim.nam\"\n",
    "sim_path = \"../data/mf6/test003_gwftri_disv\"\n",
    "disv_sim = flopy.mf6.MFSimulation.load(sim_name=sim_name, version=\"mf6\", exe_name=\"mf6\",\n",
    "                                       sim_ws=sim_path)\n",
    "disv_ml = disv_sim.get_model('gwf_1')"
   ]
  },
  {
   "cell_type": "markdown",
   "metadata": {},
   "source": [
    "## Plotting Cross Sections using Structured (DIS) and Vertex (DISV) grids in FloPy\n",
    "\n",
    "In this example the `PlotCrossSection` functionality will be shown, and backward compatibility options with `ModelCrossSection` will also be presented. \n",
    "\n",
    "### Plotting a cross sectional model grid (DIS)\n",
    "\n",
    "the `line` parameter is a dictionary that accepts either `column`: int, `row`: int, or `line`: list(x,y) vertices"
   ]
  },
  {
   "cell_type": "code",
   "execution_count": null,
   "metadata": {},
   "outputs": [],
   "source": [
    "fig = plt.figure(figsize=(13, 3))\n",
    "ax = fig.add_subplot(1, 1, 1)\n",
    "\n",
    "# Next we create an instance of the ModelCrossSection class\n",
    "xsect = flopy.plot.PlotCrossSection(model=dis_ml, line={'Column': 5})\n",
    "\n",
    "# Then we can use the plot_grid() method to draw the grid\n",
    "# The return value for this function is a matplotlib LineCollection object,\n",
    "# which could be manipulated (or used) later if necessary.\n",
    "pc = xsect.plot_ibound()\n",
    "linecollection = xsect.plot_grid()\n",
    "t = ax.set_title('Column 6 Cross-Section - Model Grid')"
   ]
  },
  {
   "cell_type": "markdown",
   "metadata": {},
   "source": [
    "### Backward compatibility with `ModelCrossSection`"
   ]
  },
  {
   "cell_type": "code",
   "execution_count": null,
   "metadata": {},
   "outputs": [],
   "source": [
    "fig = plt.figure(figsize=(13, 3))\n",
    "ax = fig.add_subplot(1, 1, 1)\n",
    "\n",
    "# Next we create an instance of the ModelCrossSection class\n",
    "modelxsect = flopy.plot.ModelCrossSection(model=dis_ml, line={'Column': 5})\n",
    "\n",
    "# Then we can use the plot_grid() method to draw the grid\n",
    "# The return value for this function is a matplotlib LineCollection object,\n",
    "# which could be manipulated (or used) later if necessary.\n",
    "pc = modelxsect.plot_ibound()\n",
    "linecollection = modelxsect.plot_grid()\n",
    "t = ax.set_title('Column 6 Cross-Section - Model Grid')"
   ]
  },
  {
   "cell_type": "markdown",
   "metadata": {},
   "source": [
    "### Plotting a cross sectional model grid for DISV (vertex grid)\n",
    "\n",
    "since row and column do not exist in the DISV grid, a line must be provided to plot a crosssection. The line can be straight or it can be an arbitrary line across the grid. \n",
    "\n",
    "Let's view the line on a MapView plot first"
   ]
  },
  {
   "cell_type": "code",
   "execution_count": null,
   "metadata": {},
   "outputs": [],
   "source": [
    "# define a line through the model in model coordiantes as a \n",
    "# series of XY vertices where the cross section will be sliced!\n",
    "line = np.array([(3.5, 0), (3.5, 5), (2, 10)])\n",
    "\n",
    "fig = plt.figure(figsize=(10, 10))\n",
    "vmap = PlotMapView(model=disv_ml, layer=0)\n",
    "ax = vmap.plot_ibound()\n",
    "pc = vmap.plot_grid()\n",
    "plt.plot(line[:,0], line[:,1], 'r--', linewidth=2);"
   ]
  },
  {
   "cell_type": "code",
   "execution_count": null,
   "metadata": {},
   "outputs": [],
   "source": [
    "fig = plt.figure(figsize=(10, 2))\n",
    "xsect = PlotCrossSection(model=disv_ml, line={\"line\": line})\n",
    "ax = xsect.plot_ibound()\n",
    "pc = xsect.plot_grid();"
   ]
  },
  {
   "cell_type": "markdown",
   "metadata": {},
   "source": [
    "## Plotting arrays of Data:\n",
    "\n",
    "Plotting arrays can be accomplished using the `plot_array()` method\n",
    "\n",
    "### Structured grid example (DIS)"
   ]
  },
  {
   "cell_type": "code",
   "execution_count": null,
   "metadata": {},
   "outputs": [],
   "source": [
    "# Get data from the head object for plotting\n",
    "fname = os.path.join(modelpth, 'freyberg.hds')\n",
    "hdobj = flopy.utils.HeadFile(fname)\n",
    "head = hdobj.get_data()"
   ]
  },
  {
   "cell_type": "code",
   "execution_count": null,
   "metadata": {},
   "outputs": [],
   "source": [
    "# plot the data\n",
    "fig = plt.figure(figsize=(16, 3))\n",
    "\n",
    "plt.title('plot_array()')\n",
    "xsect = flopy.plot.PlotCrossSection(model=dis_ml, line={'Column': 5})\n",
    "csa = xsect.plot_array(head, masked_values=[999.], head=head, alpha=0.5)\n",
    "patches = xsect.plot_ibound(head=head)\n",
    "linecollection = xsect.plot_grid()\n",
    "plt.colorbar(csa)"
   ]
  },
  {
   "cell_type": "markdown",
   "metadata": {},
   "source": [
    "### Backward compatibility with `ModelCrossSection`"
   ]
  },
  {
   "cell_type": "code",
   "execution_count": null,
   "metadata": {},
   "outputs": [],
   "source": [
    "# plot the data\n",
    "fig = plt.figure(figsize=(16, 3))\n",
    "\n",
    "plt.title('plot_array()')\n",
    "xsect = flopy.plot.ModelCrossSection(model=dis_ml, line={'Column': 5})\n",
    "csa = xsect.plot_array(head, masked_values=[999.], head=head, alpha=0.5)\n",
    "patches = xsect.plot_ibound(head=head)\n",
    "linecollection = xsect.plot_grid()\n",
    "plt.colorbar(csa);"
   ]
  },
  {
   "cell_type": "markdown",
   "metadata": {},
   "source": [
    "### Vertex grid example (DISV)\n",
    "\n",
    "The same plotting functionality is available for vertex based model grids. Coming soon is unstructured grid function(s)."
   ]
  },
  {
   "cell_type": "code",
   "execution_count": null,
   "metadata": {},
   "outputs": [],
   "source": [
    "hds_file = os.path.join(sim_path, \"tri_model.hds\")\n",
    "\n",
    "hds = HeadFile(hds_file)\n",
    "hdata = hds.get_alldata()[0]\n",
    "hdata.shape = (disv_ml.modelgrid.nlay, -1)"
   ]
  },
  {
   "cell_type": "code",
   "execution_count": null,
   "metadata": {},
   "outputs": [],
   "source": [
    "fig = plt.figure(figsize=(12.5, 2))\n",
    "\n",
    "xsect = PlotCrossSection(model=disv_ml, line={\"line\": line})\n",
    "\n",
    "ax = xsect.plot_ibound()\n",
    "ax = xsect.plot_array(a=hdata, masked_values=[1e30])\n",
    "plt.colorbar(ax)\n",
    "xsect.plot_grid()\n",
    "plt.title(\"plot_array()\");"
   ]
  },
  {
   "cell_type": "markdown",
   "metadata": {},
   "source": [
    "## Contouring array values on a cross section\n",
    "\n",
    "By using the `contour_array` method, `PlotCrossSection` is able to draw contour lines using user supplied array data\n",
    "\n",
    "A surface can also be plotted using the `plot_surface` method\n",
    "\n",
    "### Structured grid (DIS) example"
   ]
  },
  {
   "cell_type": "code",
   "execution_count": null,
   "metadata": {},
   "outputs": [],
   "source": [
    "levels = np.arange(10, 30, .5)\n",
    "\n",
    "fig = plt.figure(figsize=(13, 3))\n",
    "xsect = flopy.plot.PlotCrossSection(model=dis_ml, line={'Column': 5})\n",
    "\n",
    "# contour array and plot ibound\n",
    "ct = xsect.contour_array(head, masked_values=[999.], head=head, levels=levels, linewidths=2.5)\n",
    "pc = xsect.plot_ibound(head=head)\n",
    "\n",
    "#plot the surface and model grid\n",
    "wt = xsect.plot_surface(head, masked_values=[999.], color='blue', lw=2.5)\n",
    "linecollection = xsect.plot_grid()\n",
    "\n",
    "plt.title('contour_array() and plot_surface()');"
   ]
  },
  {
   "cell_type": "markdown",
   "metadata": {},
   "source": [
    "## Backward compatibility with `ModelCrossSection`"
   ]
  },
  {
   "cell_type": "code",
   "execution_count": null,
   "metadata": {},
   "outputs": [],
   "source": [
    "levels = np.arange(10, 30, .5)\n",
    "\n",
    "fig = plt.figure(figsize=(13, 3))\n",
    "xsect = flopy.plot.ModelCrossSection(model=dis_ml, line={'Column': 5})\n",
    "\n",
    "# contour array and plot ibound\n",
    "ct = xsect.contour_array(head, masked_values=[999.], head=head, levels=levels, linewidths=2.5)\n",
    "pc = xsect.plot_ibound(head=head)\n",
    "\n",
    "#plot the surface and model grid\n",
    "wt = xsect.plot_surface(head, masked_values=[999.], color='blue', lw=2.5)\n",
    "linecollection = xsect.plot_grid()\n",
    "\n",
    "plt.title('contour_array() and plot_surface()');"
   ]
  },
  {
   "cell_type": "markdown",
   "metadata": {},
   "source": [
    "### Vertex grid example (DISV)"
   ]
  },
  {
   "cell_type": "code",
   "execution_count": null,
   "metadata": {},
   "outputs": [],
   "source": [
    "fig = plt.figure(figsize=(12.5, 2))\n",
    "\n",
    "xsect = PlotCrossSection(model=disv_ml, line={\"line\": line})\n",
    "ax = xsect.plot_ibound()\n",
    "ax = xsect.plot_array(a=hdata, masked_values=[1e30], alpha=0.3)\n",
    "plt.colorbar(ax)\n",
    "\n",
    "# set our own contour levels using the matplotlib keyword argument levels\n",
    "levels = np.arange(1, 10, 0.5)\n",
    "xsect.contour_array(a=hdata, masked_values=[1e30], levels=levels)\n",
    "\n",
    "xsect.plot_grid();"
   ]
  },
  {
   "cell_type": "markdown",
   "metadata": {},
   "source": [
    "## Plotting discharge Vectors\n",
    "\n",
    "Discharge can be plotted using the `plot_discharge()` method \n",
    "\n",
    "### Structured grid example (DIS)"
   ]
  },
  {
   "cell_type": "code",
   "execution_count": null,
   "metadata": {},
   "outputs": [],
   "source": [
    "# First let's get the cell budget data\n",
    "fname = os.path.join(modelpth, 'freyberg.cbc')\n",
    "cbb = flopy.utils.CellBudgetFile(fname)\n",
    "frf = cbb.get_data(text='FLOW RIGHT FACE')[0]\n",
    "fff = cbb.get_data(text='FLOW FRONT FACE')[0]"
   ]
  },
  {
   "cell_type": "code",
   "execution_count": null,
   "metadata": {},
   "outputs": [],
   "source": [
    "fig = plt.figure(figsize=(13, 3))\n",
    "\n",
    "plt.title('plot_array() and plot_discharge()')\n",
    "xsect = flopy.plot.PlotCrossSection(model=dis_ml, line={'Column': 5})\n",
    "csa = xsect.plot_array(head, masked_values=[999.], head=head, alpha=0.5)\n",
    "linecollection = xsect.plot_grid()\n",
    "quiver = xsect.plot_discharge(frf, fff, head=head, \n",
    "                                   hstep=2, normalize=True, color='green', \n",
    "                                   scale=30, headwidth=3, headlength=3, headaxislength=3,\n",
    "                                   zorder=10)\n",
    "patches = xsect.plot_ibound(head=head)"
   ]
  },
  {
   "cell_type": "markdown",
   "metadata": {},
   "source": [
    "### Backward compatibility using `ModelCrossSection`"
   ]
  },
  {
   "cell_type": "code",
   "execution_count": null,
   "metadata": {},
   "outputs": [],
   "source": [
    "fig = plt.figure(figsize=(13, 3))\n",
    "\n",
    "plt.title('plot_array() and plot_discharge()')\n",
    "modelxsect = flopy.plot.ModelCrossSection(model=dis_ml, line={'Column': 5})\n",
    "csa = modelxsect.plot_array(head, masked_values=[999.], head=head, alpha=0.5)\n",
    "linecollection = modelxsect.plot_grid()\n",
    "quiver = modelxsect.plot_discharge(frf, fff, head=head, \n",
    "                                   hstep=2, normalize=True, color='green', \n",
    "                                   scale=30, headwidth=3, headlength=3, headaxislength=3,\n",
    "                                   zorder=10)\n",
    "patches = modelxsect.plot_ibound(head=head)"
   ]
  },
  {
   "cell_type": "markdown",
   "metadata": {},
   "source": [
    "### Discharge vector plotting with DISV\n",
    "\n",
    "The Specific Discharge (SPDIS) recarray is used with plot_specific_discharge to create and plot flow vectors\n",
    "\n",
    "Specific Discharge can be written to the cell budget file by supplying the option SAVE_SPECIFIC_DISCHARGE in the NPF package of MODFLOW-6 \n",
    "\n",
    "### Note:\n",
    "Arbitrary cross section lines cannot be used with this method. A straight cross section must be supplied to calculate discharge vectors."
   ]
  },
  {
   "cell_type": "code",
   "execution_count": null,
   "metadata": {},
   "outputs": [],
   "source": [
    "# Get data from the CellBudgetFile\n",
    "cbc_file = os.path.join(sim_path, \"tri_model.cbc\")\n",
    "cbc = CellBudgetFile(cbc_file, precision='double')\n",
    "spdis = cbc.get_data(text=\"SPDIS\")\n",
    "\n"
   ]
  },
  {
   "cell_type": "code",
   "execution_count": null,
   "metadata": {},
   "outputs": [],
   "source": [
    "fig = plt.figure(figsize=(12.5, 2))\n",
    "\n",
    "# define the new cross section line...\n",
    "line = np.array([(0, 3.5), (10, 3.5)])\n",
    "\n",
    "vcs = PlotCrossSection(model=disv_ml, line={\"line\": line})\n",
    "ax = vcs.plot_array(a=hdata, masked_values=[1e30])\n",
    "plt.colorbar(ax)\n",
    "vcs.plot_grid()\n",
    "\n",
    "# plot discharge vectors\n",
    "ax = vcs.plot_specific_discharge(spdis, head=hdata, hstep=2)"
   ]
  },
  {
   "cell_type": "code",
   "execution_count": null,
   "metadata": {},
   "outputs": [],
   "source": []
  }
 ],
 "metadata": {
  "kernelspec": {
   "display_name": "Python 3",
   "language": "python",
   "name": "python3"
  },
  "language_info": {
   "codemirror_mode": {
    "name": "ipython",
    "version": 3
   },
   "file_extension": ".py",
   "mimetype": "text/x-python",
   "name": "python",
   "nbconvert_exporter": "python",
   "pygments_lexer": "ipython3",
   "version": "3.6.5"
  }
 },
 "nbformat": 4,
 "nbformat_minor": 1
}
