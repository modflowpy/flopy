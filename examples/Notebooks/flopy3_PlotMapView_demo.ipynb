{
 "cells": [
  {
   "cell_type": "markdown",
   "metadata": {
    "collapsed": true
   },
   "source": [
    "# New plotting classes have been added to flopy\n",
    "\n",
    "these classes seamlessly support vertex model grid and unstructured model grid plotting using the new `PlotMapView` class. This classes will replace the previous `ModelMap` class; however backward compatibility is still supported through `ModelMap`.\n",
    "\n",
    "`PlotMapView` has a similar interface as `ModelMap`. In most instances the two classes can be used interchangably. The biggest difference is that some of the input parameters have changed.\n",
    "\n",
    "`sr` has been replaced with `modelgrid` since the SpatialRefernce class is being depreciated\n",
    "\n",
    "Transforms using `xll`, `yll`, `xul`, `yul`, `rotation`, and `length_multiplier` have been removed from plot. The user should apply these transforms before passing their model grid to `PlotMapView`.\n",
    "\n",
    "The remaining functionality remains the same!"
   ]
  },
  {
   "cell_type": "code",
   "execution_count": null,
   "metadata": {},
   "outputs": [],
   "source": [
    "%matplotlib inline\n",
    "import numpy as np\n",
    "import matplotlib.pyplot as plt\n",
    "import matplotlib as mpl\n",
    "import os, sys\n",
    "import setup_pmv_demo\n",
    "\n",
    "# run installed version of flopy or add local path\n",
    "try:\n",
    "    import flopy\n",
    "    from flopy.plot import PlotMapView, PlotCrossSection, ModelMap, ModelCrossSection\n",
    "    from flopy.utils import HeadFile, CellBudgetFile, geometry\n",
    "    from flopy.discretization import UnstructuredGrid\n",
    "except:\n",
    "    fpth = os.path.abspath(os.path.join('..', '..'))\n",
    "    sys.path.append(fpth)\n",
    "    import flopy\n",
    "    from flopy.plot import PlotMapView, PlotCrossSection, ModelMap, ModelCrossSection\n",
    "    from flopy.utils import HeadFile, CellBudgetFile, geometry\n",
    "    from flopy.discretization import UnstructuredGrid\n",
    "\n",
    "# create the model data to work with in this notebook using a helper module\n",
    "setup_pmv_demo.run()"
   ]
  },
  {
   "cell_type": "markdown",
   "metadata": {},
   "source": [
    "Now to load up example problems representing each grid type (DIS, DISV, and DISU)\n",
    "\n",
    "### Starting with Freyberg for the DIS example"
   ]
  },
  {
   "cell_type": "code",
   "execution_count": null,
   "metadata": {},
   "outputs": [],
   "source": [
    "loadpth = os.path.join('..', 'data', 'freyberg')\n",
    "modelpth = os.path.join('data')\n",
    "dis_ml = flopy.modflow.Modflow.load('freyberg.nam', model_ws=loadpth, \n",
    "                                exe_name=\"mf2005\", version=\"mf2005\")\n",
    "dis_ml.change_model_ws(new_pth=modelpth)\n",
    "dis_ml.write_input()\n",
    "success, buff = dis_ml.run_model()\n",
    "if not success:\n",
    "    print ('Something bad happened.')\n",
    "files = ['freyberg.hds', 'freyberg.cbc']\n",
    "for f in files:\n",
    "    if os.path.isfile(os.path.join(modelpth, f)):\n",
    "        msg = 'Output file located: {}'.format(f)\n",
    "        print (msg)\n",
    "    else:\n",
    "        errmsg = 'Error. Output file cannot be found: {}'.format(f)\n",
    "        print (errmsg)"
   ]
  },
  {
   "cell_type": "markdown",
   "metadata": {},
   "source": [
    "### The DISV example"
   ]
  },
  {
   "cell_type": "code",
   "execution_count": null,
   "metadata": {},
   "outputs": [],
   "source": [
    "# load up the vertex example problem\n",
    "sim_name = \"mfsim.nam\"\n",
    "sim_path = \"../data/mf6/test003_gwftri_disv\"\n",
    "disv_sim = flopy.mf6.MFSimulation.load(sim_name=sim_name, version=\"mf6\", exe_name=\"mf6\",\n",
    "                                       sim_ws=sim_path)\n",
    "disv_ml = disv_sim.get_model('gwf_1')"
   ]
  },
  {
   "cell_type": "markdown",
   "metadata": {},
   "source": [
    "### And the DISU example"
   ]
  },
  {
   "cell_type": "code",
   "execution_count": null,
   "metadata": {},
   "outputs": [],
   "source": [
    "# This is a folder containing some unstructured grids\n",
    "datapth = os.path.join('..', 'data', 'unstructured')"
   ]
  },
  {
   "cell_type": "code",
   "execution_count": null,
   "metadata": {},
   "outputs": [],
   "source": [
    "# Simple functions to load vertices and incidence lists\n",
    "def load_verts(fname):\n",
    "    return(np.genfromtxt(fname))\n",
    "\n",
    "def load_iverts(fname):\n",
    "    f = open(fname, 'r')\n",
    "    iverts = []\n",
    "    xc = []\n",
    "    yc = []\n",
    "    for line in f:\n",
    "        ll = line.strip().split()\n",
    "        iverts.append([int(i) - 1 for i in ll[4:]])\n",
    "        xc.append(float(ll[1]))\n",
    "        yc.append(float(ll[2]))\n",
    "    return iverts, np.array(xc), np.array(yc)"
   ]
  },
  {
   "cell_type": "code",
   "execution_count": null,
   "metadata": {},
   "outputs": [],
   "source": [
    "# load vertices\n",
    "fname = os.path.join(datapth, 'ugrid_verts.dat')\n",
    "verts = load_verts(fname)[:, 1:]\n",
    "\n",
    "# load the incidence list into iverts\n",
    "fname = os.path.join(datapth, 'ugrid_iverts.dat')\n",
    "iverts, xc, yc = load_iverts(fname)"
   ]
  },
  {
   "cell_type": "code",
   "execution_count": null,
   "metadata": {},
   "outputs": [],
   "source": [
    "ncpl = np.array(5 * [len(iverts)])\n",
    "# using the SpatialReferenceUnstructured class since UnstructuredModelGrid has not been created yet\n",
    "disu_mg = UnstructuredGrid(verts, iverts, xc, yc, ncpl=ncpl)\n",
    "disu_sr = flopy.utils.reference.SpatialReferenceUnstructured(xc, yc, verts, iverts, ncpl)"
   ]
  },
  {
   "cell_type": "markdown",
   "metadata": {},
   "source": [
    "## Plotting the model grid with each of these examples\n",
    "\n",
    "### DIS (structured grid)"
   ]
  },
  {
   "cell_type": "code",
   "execution_count": null,
   "metadata": {},
   "outputs": [],
   "source": [
    "# setup our modelgrid rotation and offsets\n",
    "dis_ml.modelgrid.set_coord_info(xoff=0., yoff=0, angrot=-14)\n",
    "\n",
    "# First step is to set up the plot\n",
    "fig = plt.figure(figsize=(8, 8))\n",
    "ax = fig.add_subplot(1, 1, 1, aspect='equal')\n",
    "\n",
    "# Next we create an instance of the ModelMap class\n",
    "mapview = flopy.plot.PlotMapView(model=dis_ml)\n",
    "\n",
    "# Then we can use the plot_grid() method to draw the grid\n",
    "# The return value for this function is a matplotlib LineCollection object,\n",
    "# which could be manipulated (or used) later if necessary.\n",
    "linecollection = mapview.plot_grid()"
   ]
  },
  {
   "cell_type": "markdown",
   "metadata": {},
   "source": [
    "### Backward compatibility with `ModelMap` using a Structured discretization"
   ]
  },
  {
   "cell_type": "code",
   "execution_count": null,
   "metadata": {},
   "outputs": [],
   "source": [
    "# First step is to set up the plot\n",
    "fig = plt.figure(figsize=(8, 8))\n",
    "ax = fig.add_subplot(1, 1, 1, aspect='equal')\n",
    "\n",
    "# Next we create an instance of the ModelMap class\n",
    "modelmap = flopy.plot.ModelMap(model=dis_ml, xll=0, yll=0, rotation=-14)\n",
    "\n",
    "# Then we can use the plot_grid() method to draw the grid\n",
    "# The return value for this function is a matplotlib LineCollection object,\n",
    "# which could be manipulated (or used) later if necessary.\n",
    "linecollection = modelmap.plot_grid()"
   ]
  },
  {
   "cell_type": "markdown",
   "metadata": {},
   "source": [
    "### DISV (Vertex Grid)"
   ]
  },
  {
   "cell_type": "code",
   "execution_count": null,
   "metadata": {},
   "outputs": [],
   "source": [
    "fig = plt.figure(figsize=(5, 5))\n",
    "mapview = flopy.plot.PlotMapView(model=disv_ml)\n",
    "\n",
    "linecollection = mapview.plot_grid()"
   ]
  },
  {
   "cell_type": "markdown",
   "metadata": {},
   "source": [
    "### DISU (Unstructured Grid)"
   ]
  },
  {
   "cell_type": "code",
   "execution_count": null,
   "metadata": {},
   "outputs": [],
   "source": [
    "f = plt.figure(figsize=(10, 10))\n",
    "mapview = flopy.plot.PlotMapView(modelgrid=disu_mg)\n",
    "\n",
    "linecollection = mapview.plot_grid()"
   ]
  },
  {
   "cell_type": "markdown",
   "metadata": {},
   "source": [
    "### Backward compatibility for DISU using `ModelMap`"
   ]
  },
  {
   "cell_type": "code",
   "execution_count": null,
   "metadata": {},
   "outputs": [],
   "source": [
    "f = plt.figure(figsize=(10, 10))\n",
    "modelmap = flopy.plot.ModelMap(sr=disu_sr)\n",
    "\n",
    "linecollection = modelmap.plot_grid()"
   ]
  },
  {
   "cell_type": "markdown",
   "metadata": {},
   "source": [
    "## Plotting Arrays with each of these examples\n",
    "\n",
    "### DIS (Structured grid)"
   ]
  },
  {
   "cell_type": "code",
   "execution_count": null,
   "metadata": {},
   "outputs": [],
   "source": [
    "# Create a random array and plot it\n",
    "a = np.random.random((dis_ml.dis.nrow, dis_ml.dis.ncol))\n",
    "\n",
    "fig = plt.figure(figsize=(8, 8))\n",
    "ax = fig.add_subplot(1, 1, 1, aspect='equal')\n",
    "ax.set_title('Random Array')\n",
    "mapview = flopy.plot.PlotMapView(model=dis_ml)\n",
    "quadmesh = mapview.plot_array(a)"
   ]
  },
  {
   "cell_type": "markdown",
   "metadata": {},
   "source": [
    "### DIS Backward compatibility using `ModelMap`"
   ]
  },
  {
   "cell_type": "code",
   "execution_count": null,
   "metadata": {},
   "outputs": [],
   "source": [
    "# Create a random array and plot it\n",
    "a = np.random.random((dis_ml.dis.nrow, dis_ml.dis.ncol))\n",
    "\n",
    "fig = plt.figure(figsize=(8, 8))\n",
    "ax = fig.add_subplot(1, 1, 1, aspect='equal')\n",
    "ax.set_title('Random Array')\n",
    "modelmap = flopy.plot.ModelMap(model=dis_ml, xll=0, yll=0, rotation=-14)\n",
    "quadmesh = modelmap.plot_array(a)"
   ]
  },
  {
   "cell_type": "markdown",
   "metadata": {},
   "source": [
    "### DISV (Vertex grid)"
   ]
  },
  {
   "cell_type": "code",
   "execution_count": null,
   "metadata": {},
   "outputs": [],
   "source": [
    "a = np.random.random(disv_ml.modelgrid.ncpl) * 20\n",
    "fig = plt.figure(figsize=(8, 8))\n",
    "ax = fig.add_subplot(1, 1, 1, aspect='equal')\n",
    "ax.set_title('Random Array')\n",
    "mapview = flopy.plot.PlotMapView(model=disv_ml)\n",
    "quadmesh = mapview.plot_array(a)"
   ]
  },
  {
   "cell_type": "markdown",
   "metadata": {},
   "source": [
    "### DISU (Unstructured grid)"
   ]
  },
  {
   "cell_type": "code",
   "execution_count": null,
   "metadata": {},
   "outputs": [],
   "source": [
    "f = plt.figure(figsize=(10, 10))\n",
    "a = np.random.random((ncpl[0]))\n",
    "pmv = flopy.plot.PlotMapView(modelgrid=disu_mg)\n",
    "pmv.plot_array(a)\n",
    "plt.plot(xc, yc, 'bo');"
   ]
  },
  {
   "cell_type": "markdown",
   "metadata": {},
   "source": [
    "### Backward compatibility for DISU using `ModelMap`"
   ]
  },
  {
   "cell_type": "code",
   "execution_count": null,
   "metadata": {},
   "outputs": [],
   "source": [
    "f = plt.figure(figsize=(10, 10))\n",
    "mm = flopy.plot.ModelMap(sr=disu_sr)\n",
    "mm.plot_array(a)\n",
    "plt.plot(xc, yc, 'bo');"
   ]
  },
  {
   "cell_type": "markdown",
   "metadata": {},
   "source": [
    "## Contouring arrays with each of these examples\n",
    "\n",
    "### DIS (structured grid)"
   ]
  },
  {
   "cell_type": "code",
   "execution_count": null,
   "metadata": {},
   "outputs": [],
   "source": [
    "# Create a random array and contour it\n",
    "a = np.random.random((dis_ml.dis.nrow, dis_ml.dis.ncol))\n",
    "\n",
    "fig = plt.figure(figsize=(8, 8))\n",
    "ax = fig.add_subplot(1, 1, 1, aspect='equal')\n",
    "ax.set_title('Random Array')\n",
    "\n",
    "mapview = flopy.plot.PlotMapView(model=dis_ml)\n",
    "quadmesh = mapview.contour_array(a)\n",
    "linecollection = mapview.plot_grid(alpha=0.5)"
   ]
  },
  {
   "cell_type": "markdown",
   "metadata": {},
   "source": [
    "### DIS backward compatibility using `ModelMap`"
   ]
  },
  {
   "cell_type": "code",
   "execution_count": null,
   "metadata": {},
   "outputs": [],
   "source": [
    "fig = plt.figure(figsize=(8, 8))\n",
    "ax = fig.add_subplot(1, 1, 1, aspect='equal')\n",
    "ax.set_title('Random Array')\n",
    "\n",
    "modelmap = flopy.plot.ModelMap(model=dis_ml, xll=0, yll=0, rotation=-14)\n",
    "quadmesh = modelmap.contour_array(a)\n",
    "linecollection = modelmap.plot_grid(alpha=0.5)"
   ]
  },
  {
   "cell_type": "markdown",
   "metadata": {},
   "source": [
    "### DISV (unstructured grid) example"
   ]
  },
  {
   "cell_type": "code",
   "execution_count": null,
   "metadata": {},
   "outputs": [],
   "source": [
    "a = np.random.random(disv_ml.modelgrid.ncpl) * 20\n",
    "fig = plt.figure(figsize=(8, 8))\n",
    "ax = fig.add_subplot(1, 1, 1, aspect='equal')\n",
    "ax.set_title('Random Array')\n",
    "\n",
    "mapview = flopy.plot.PlotMapView(model=disv_ml)\n",
    "quadmesh = mapview.contour_array(a)\n",
    "linecollection = mapview.plot_grid(alpha=0.5)"
   ]
  },
  {
   "cell_type": "markdown",
   "metadata": {},
   "source": [
    "### DISU (Unstructured grid) example"
   ]
  },
  {
   "cell_type": "code",
   "execution_count": null,
   "metadata": {},
   "outputs": [],
   "source": [
    "f = plt.figure(figsize=(10, 10))\n",
    "a = np.random.random((ncpl[0]))\n",
    "mv = flopy.plot.PlotMapView(modelgrid=disu_mg)\n",
    "mv.contour_array(a)\n",
    "mv.plot_grid(alpha=0.5)\n",
    "plt.plot(xc, yc, 'bo');"
   ]
  },
  {
   "cell_type": "markdown",
   "metadata": {},
   "source": [
    "### DISU Backward compatibility using `ModelMap`"
   ]
  },
  {
   "cell_type": "code",
   "execution_count": null,
   "metadata": {},
   "outputs": [],
   "source": [
    "f = plt.figure(figsize=(10, 10))\n",
    "\n",
    "mm = flopy.plot.ModelMap(sr=disu_sr)\n",
    "mm.contour_array(a)\n",
    "mm.plot_grid(alpha=0.5)\n",
    "plt.plot(xc, yc, 'bo');"
   ]
  },
  {
   "cell_type": "markdown",
   "metadata": {},
   "source": [
    "## Creating plots using data from MODPATH\n",
    "\n",
    "In this portion of the notebook MODPATH particle tracking examples are loaded and then plotted using each of the grid types\n",
    "\n",
    "### DIS (Structured grid example)\n",
    "\n",
    "First the modpath model must be created and then run"
   ]
  },
  {
   "cell_type": "code",
   "execution_count": null,
   "metadata": {},
   "outputs": [],
   "source": [
    "mp = flopy.modpath.Modpath('freybergmp', exe_name=\"mp6\", modflowmodel=dis_ml, model_ws=modelpth)\n",
    "mpbas = flopy.modpath.ModpathBas(mp, hnoflo=dis_ml.bas6.hnoflo, hdry=dis_ml.lpf.hdry, \n",
    "                                 ibound=dis_ml.bas6.ibound.array, prsity=0.2, prsityCB=0.2)\n",
    "sim = mp.create_mpsim(trackdir='forward', simtype='endpoint', packages='RCH')\n",
    "mp.write_input()\n",
    "mp.run_model()\n",
    "\n",
    "mpp = flopy.modpath.Modpath('freybergmpp', exe_name=\"mp6\", modflowmodel=dis_ml, model_ws=modelpth)\n",
    "mpbas = flopy.modpath.ModpathBas(mpp, hnoflo=dis_ml.bas6.hnoflo, hdry=dis_ml.lpf.hdry, \n",
    "                                 ibound=dis_ml.bas6.ibound.array, prsity=0.2, prsityCB=0.2)\n",
    "sim = mpp.create_mpsim(trackdir='backward', simtype='pathline', packages='WEL')\n",
    "mpp.write_input()\n",
    "mpp.run_model()"
   ]
  },
  {
   "cell_type": "markdown",
   "metadata": {},
   "source": [
    "Now to plot up the results of the particle tracking simulation"
   ]
  },
  {
   "cell_type": "code",
   "execution_count": null,
   "metadata": {},
   "outputs": [],
   "source": [
    "# load the endpoint data\n",
    "endfile = os.path.join(modelpth, mp.sim.endpoint_file)\n",
    "endobj = flopy.utils.EndpointFile(endfile)\n",
    "ept = endobj.get_alldata()\n",
    "\n",
    "# load the pathline data\n",
    "pthfile = os.path.join(modelpth, mpp.sim.pathline_file)\n",
    "pthobj = flopy.utils.PathlineFile(pthfile)\n",
    "plines = pthobj.get_alldata()\n",
    "\n",
    "# plot the data\n",
    "fig = plt.figure(figsize=(10, 10))\n",
    "\n",
    "ax = fig.add_subplot(1, 1, 1, aspect='equal')\n",
    "ax.set_title('plot_array()')\n",
    "mapview = flopy.plot.PlotMapView(model=dis_ml)\n",
    "quadmesh = mapview.plot_ibound()\n",
    "linecollection = mapview.plot_grid()\n",
    "for d in dis_ml.wel.stress_period_data[0]:\n",
    "    mapview.plot_endpoint(ept, direction='starting', selection_direction='ending', selection=(d[0], d[1], d[2]), zorder=100)\n",
    "\n",
    "# construct maximum travel time to plot (200 years - MODFLOW time unit is seconds)\n",
    "travel_time_max = 200. * 365.25 * 24. * 60. * 60. \n",
    "ctt = '<={}'.format(travel_time_max)\n",
    "\n",
    "# plot the pathlines\n",
    "mapview.plot_pathline(plines, layer='all', colors='red', travel_time=ctt);"
   ]
  },
  {
   "cell_type": "markdown",
   "metadata": {},
   "source": [
    "### Backward compatibility using `ModelMap`"
   ]
  },
  {
   "cell_type": "code",
   "execution_count": null,
   "metadata": {},
   "outputs": [],
   "source": [
    "fig = plt.figure(figsize=(10, 10))\n",
    "\n",
    "ax = fig.add_subplot(1, 1, 1, aspect='equal')\n",
    "ax.set_title('plot_array()')\n",
    "modelmap = flopy.plot.ModelMap(model=dis_ml, xll=0, yll=0, rotation=-14)\n",
    "quadmesh = modelmap.plot_ibound()\n",
    "linecollection = modelmap.plot_grid()\n",
    "for d in dis_ml.wel.stress_period_data[0]:\n",
    "    modelmap.plot_endpoint(ept, direction='starting', selection_direction='ending', selection=(d[0], d[1], d[2]), zorder=100)\n",
    "\n",
    "# construct maximum travel time to plot (200 years - MODFLOW time unit is seconds)\n",
    "travel_time_max = 200. * 365.25 * 24. * 60. * 60. \n",
    "ctt = '<={}'.format(travel_time_max)\n",
    "\n",
    "# plot the pathlines\n",
    "modelmap.plot_pathline(plines, layer='all', colors='red', travel_time=ctt);"
   ]
  },
  {
   "cell_type": "markdown",
   "metadata": {},
   "source": [
    "## DISV (vertex unstructured) example problem for MODPATH 7\n",
    "\n",
    "### Get the modelgrid"
   ]
  },
  {
   "cell_type": "code",
   "execution_count": null,
   "metadata": {},
   "outputs": [],
   "source": [
    "model_name = 'mp7p2'\n",
    "mp_namea = model_name + 'a_mp'\n",
    "model_ws = os.path.join('data', 'mp7_ex2', 'mf6')\n",
    "fname = os.path.join(model_ws, model_name + '.disv.grb')\n",
    "grd = flopy.utils.MfGrdFile(fname, verbose=False)\n",
    "iverts, verts = grd.get_verts()\n",
    "modelgrid = grd.get_modelgrid()"
   ]
  },
  {
   "cell_type": "markdown",
   "metadata": {},
   "source": [
    "### Load pathline and timeseries results"
   ]
  },
  {
   "cell_type": "code",
   "execution_count": null,
   "metadata": {},
   "outputs": [],
   "source": [
    "fpth = os.path.join(model_ws, mp_namea + '.mppth')\n",
    "p = flopy.utils.PathlineFile(fpth)\n",
    "p0 = p.get_alldata()\n",
    "\n",
    "fpth = os.path.join(model_ws, mp_namea + '.timeseries')\n",
    "ts = flopy.utils.TimeseriesFile(fpth)\n",
    "ts0 = ts.get_alldata()"
   ]
  },
  {
   "cell_type": "markdown",
   "metadata": {},
   "source": [
    "### Plot the pathline and timeseries data using `PlotMapView`"
   ]
  },
  {
   "cell_type": "code",
   "execution_count": null,
   "metadata": {},
   "outputs": [],
   "source": [
    "fig = plt.figure(figsize=(8, 8))\n",
    "ax = fig.add_subplot(1, 1, 1, aspect='equal')\n",
    "mv = PlotMapView(modelgrid=modelgrid, ax=ax)\n",
    "ax.set_xlim(0, 10000.)\n",
    "ax.set_ylim(0, 10500.)\n",
    "lc = mv.plot_grid()\n",
    "mv.plot_pathline(p0, layer='all', color='blue', lw=0.75)\n",
    "colors = ['green', 'orange', 'red']\n",
    "for k in range(3):\n",
    "    mv.plot_timeseries(ts0, layer=k, marker='o', lw=0, color=colors[k]);"
   ]
  },
  {
   "cell_type": "markdown",
   "metadata": {},
   "source": [
    "### plot pathline and timeseries data using `ModelMap` (backward compatibility)"
   ]
  },
  {
   "cell_type": "code",
   "execution_count": null,
   "metadata": {},
   "outputs": [],
   "source": [
    "# Get the spatial reference object\n",
    "sr = grd.get_spatialreference()\n",
    "\n",
    "fig = plt.figure(figsize=(8, 8))\n",
    "ax = fig.add_subplot(1, 1, 1, aspect='equal')\n",
    "mm = ModelMap(sr=sr, ax=ax)\n",
    "ax.set_xlim(0, 10000.)\n",
    "ax.set_ylim(0, 10500.)\n",
    "v = mm.plot_cvfd(verts, iverts, edgecolor='gray', facecolor=\"None\")\n",
    "mm.plot_pathline(p0, layer='all', color='blue', lw=0.75)\n",
    "colors = ['green', 'orange', 'red']\n",
    "for k in range(3):\n",
    "    mm.plot_timeseries(ts0, layer=k, marker='o', lw=0, color=colors[k]);"
   ]
  },
  {
   "cell_type": "markdown",
   "metadata": {},
   "source": [
    "## Plotting Discharge vectors\n",
    "\n",
    "### DIS (structured grid) example using `PlotMapView`"
   ]
  },
  {
   "cell_type": "code",
   "execution_count": null,
   "metadata": {},
   "outputs": [],
   "source": [
    "# get the head object\n",
    "fname = os.path.join(modelpth, 'freyberg.hds')\n",
    "hdobj = flopy.utils.HeadFile(fname)\n",
    "head = hdobj.get_data()\n",
    "\n",
    "# get the cbc object\n",
    "fname = os.path.join(modelpth, 'freyberg.cbc')\n",
    "cbb = flopy.utils.CellBudgetFile(fname)\n",
    "frf = cbb.get_data(text='FLOW RIGHT FACE')[0]\n",
    "fff = cbb.get_data(text='FLOW FRONT FACE')[0]\n",
    "\n",
    "# plot the data!\n",
    "fig = plt.figure(figsize=(10, 10))\n",
    "mapview = flopy.plot.PlotMapView(model=dis_ml)\n",
    "quadmesh = mapview.plot_ibound()\n",
    "quadmesh = mapview.plot_array(head, masked_values=[999.], alpha=0.5)\n",
    "quiver = mapview.plot_discharge(frf, fff, head=head)\n",
    "linecollection = mapview.plot_grid()"
   ]
  },
  {
   "cell_type": "markdown",
   "metadata": {},
   "source": [
    "### Backward compatibility using `ModelMap`"
   ]
  },
  {
   "cell_type": "code",
   "execution_count": null,
   "metadata": {},
   "outputs": [],
   "source": [
    "# plot the data!\n",
    "fig = plt.figure(figsize=(10, 10))\n",
    "modelmap = flopy.plot.ModelMap(model=dis_ml, xll=0, yll=0, rotation=-14)\n",
    "quadmesh = modelmap.plot_ibound()\n",
    "quadmesh = modelmap.plot_array(head, masked_values=[999.], alpha=0.5)\n",
    "quiver = modelmap.plot_discharge(frf, fff, head=head)\n",
    "linecollection = modelmap.plot_grid()"
   ]
  },
  {
   "cell_type": "code",
   "execution_count": null,
   "metadata": {},
   "outputs": [],
   "source": [
    "disv_ml.plot()"
   ]
  },
  {
   "cell_type": "code",
   "execution_count": null,
   "metadata": {},
   "outputs": [],
   "source": []
  }
 ],
 "metadata": {
  "kernelspec": {
   "display_name": "Python 3",
   "language": "python",
   "name": "python3"
  },
  "language_info": {
   "codemirror_mode": {
    "name": "ipython",
    "version": 3
   },
   "file_extension": ".py",
   "mimetype": "text/x-python",
   "name": "python",
   "nbconvert_exporter": "python",
   "pygments_lexer": "ipython3",
   "version": "3.6.5"
  }
 },
 "nbformat": 4,
 "nbformat_minor": 1
}
