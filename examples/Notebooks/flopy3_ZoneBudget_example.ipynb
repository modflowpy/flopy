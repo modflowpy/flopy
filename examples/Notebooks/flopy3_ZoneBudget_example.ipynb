{
 "cells": [
  {
   "cell_type": "markdown",
   "metadata": {},
   "source": [
    "# FloPy\n",
    "\n",
    "### ZoneBudget Example\n",
    "\n",
    "This notebook demonstrates how to use the `ZoneBudget` class to extract budget information from the cell by cell budget file using an array of zones.\n",
    "\n",
    "First set the path and import the required packages. The flopy path doesn't have to be set if you install flopy from a binary installer. If you want to run this notebook, you have to set the path to your own flopy path."
   ]
  },
  {
   "cell_type": "code",
   "execution_count": 1,
   "metadata": {},
   "outputs": [
    {
     "name": "stdout",
     "output_type": "stream",
     "text": [
      "3.8.6 | packaged by conda-forge | (default, Oct  7 2020, 18:42:56) \n",
      "[Clang 10.0.1 ]\n",
      "numpy version: 1.18.5\n",
      "matplotlib version: 3.2.2\n",
      "pandas version: 1.0.5\n",
      "flopy version: 3.3.3\n"
     ]
    }
   ],
   "source": [
    "import os\n",
    "import sys\n",
    "import platform\n",
    "import numpy as np\n",
    "import matplotlib as mpl\n",
    "import matplotlib.pyplot as plt\n",
    "import pandas as pd\n",
    "\n",
    "# run installed version of flopy or add local path\n",
    "try:\n",
    "    import flopy\n",
    "except:\n",
    "    fpth = os.path.abspath(os.path.join('..', '..'))\n",
    "    sys.path.append(fpth)\n",
    "    import flopy\n",
    "\n",
    "print(sys.version)\n",
    "print('numpy version: {}'.format(np.__version__))\n",
    "print('matplotlib version: {}'.format(mpl.__version__))\n",
    "print('pandas version: {}'.format(pd.__version__))\n",
    "print('flopy version: {}'.format(flopy.__version__))"
   ]
  },
  {
   "cell_type": "code",
   "execution_count": 2,
   "metadata": {},
   "outputs": [],
   "source": [
    "# Set path to example datafiles\n",
    "loadpth = os.path.join('..', 'data', 'zonbud_examples')\n",
    "cbc_f = os.path.join(loadpth, 'freyberg.gitcbc')"
   ]
  },
  {
   "cell_type": "markdown",
   "metadata": {},
   "source": [
    "### Read File Containing Zones\n",
    "Using the `read_zbarray` utility, we can import zonebudget-style array files."
   ]
  },
  {
   "cell_type": "code",
   "execution_count": 3,
   "metadata": {},
   "outputs": [
    {
     "data": {
      "image/png": "[encoded data removed]",
      "text/plain": [
       "<Figure size 720x288 with 6 Axes>"
      ]
     },
     "metadata": {
      "needs_background": "light"
     },
     "output_type": "display_data"
    }
   ],
   "source": [
    "from flopy.utils import read_zbarray\n",
    "\n",
    "zone_file = os.path.join(loadpth, 'zonef_mlt.zbr')\n",
    "zon = read_zbarray(zone_file)\n",
    "nlay, nrow, ncol = zon.shape\n",
    "\n",
    "fig = plt.figure(figsize=(10, 4))\n",
    "\n",
    "for lay in range(nlay):\n",
    "    ax = fig.add_subplot(1, nlay, lay+1)\n",
    "    im = ax.pcolormesh(zon[lay, ::-1, :])\n",
    "    cbar = plt.colorbar(im)\n",
    "    plt.gca().set_aspect('equal')\n",
    "    \n",
    "plt.show()"
   ]
  },
  {
   "cell_type": "markdown",
   "metadata": {},
   "source": [
    "### Extract Budget Information from ZoneBudget Object\n",
    "\n",
    "At the core of the `ZoneBudget` object is a numpy structured array. The class provides some wrapper functions to help us interogate the array and save it to disk."
   ]
  },
  {
   "cell_type": "code",
   "execution_count": 4,
   "metadata": {},
   "outputs": [
    {
     "data": {
      "text/plain": [
       "array([(1097., 0, 1096, 'FROM_STORAGE',  0., 0.0000000e+00, 0.0000000e+00, 0.0000000e+00),\n",
       "       (1097., 0, 1096, 'FROM_CONSTANT_HEAD',  0., 0.0000000e+00, 2.3156659e+02, 8.6217201e+01),\n",
       "       (1097., 0, 1096, 'FROM_WELLS',  0., 0.0000000e+00, 0.0000000e+00, 0.0000000e+00),\n",
       "       (1097., 0, 1096, 'FROM_DRAINS',  0., 0.0000000e+00, 0.0000000e+00, 0.0000000e+00),\n",
       "       (1097., 0, 1096, 'FROM_RECHARGE',  0., 5.1455815e+03, 1.4936376e+01, 2.9872751e+01),\n",
       "       (1097., 0, 1096, 'FROM_ZONE_0',  0., 0.0000000e+00, 0.0000000e+00, 0.0000000e+00),\n",
       "       (1097., 0, 1096, 'FROM_ZONE_1',  0., 0.0000000e+00, 3.4751235e+03, 1.3860045e+02),\n",
       "       (1097., 0, 1096, 'FROM_ZONE_2',  0., 3.2693188e+03, 0.0000000e+00, 1.7646553e+03),\n",
       "       (1097., 0, 1096, 'FROM_ZONE_3',  0., 1.9218604e+02, 1.5280482e+03, 0.0000000e+00),\n",
       "       (1097., 0, 1096, 'TOTAL_IN',  0., 8.6070859e+03, 5.2496748e+03, 2.0193457e+03),\n",
       "       (1097., 0, 1096, 'TO_STORAGE',  0., 0.0000000e+00, 0.0000000e+00, 0.0000000e+00),\n",
       "       (1097., 0, 1096, 'TO_CONSTANT_HEAD',  0., 2.3054836e+02, 2.1570151e+02, 2.9911380e+02),\n",
       "       (1097., 0, 1096, 'TO_WELLS',  0., 4.7627998e+03, 0.0000000e+00, 0.0000000e+00),\n",
       "       (1097., 0, 1096, 'TO_DRAINS',  0., 0.0000000e+00, 0.0000000e+00, 0.0000000e+00),\n",
       "       (1097., 0, 1096, 'TO_RECHARGE',  0., 0.0000000e+00, 0.0000000e+00, 0.0000000e+00),\n",
       "       (1097., 0, 1096, 'TO_ZONE_0',  0., 0.0000000e+00, 0.0000000e+00, 0.0000000e+00),\n",
       "       (1097., 0, 1096, 'TO_ZONE_1',  0., 0.0000000e+00, 3.2693188e+03, 1.9218604e+02),\n",
       "       (1097., 0, 1096, 'TO_ZONE_2',  0., 3.4751235e+03, 0.0000000e+00, 1.5280482e+03),\n",
       "       (1097., 0, 1096, 'TO_ZONE_3',  0., 1.3860045e+02, 1.7646553e+03, 0.0000000e+00),\n",
       "       (1097., 0, 1096, 'TOTAL_OUT',  0., 8.6070723e+03, 5.2496758e+03, 2.0193480e+03),\n",
       "       (1097., 0, 1096, 'IN-OUT',  0., 1.3671875e-02, 9.7656250e-04, 2.3193359e-03),\n",
       "       (1097., 0, 1096, 'PERCENT_DISCREPANCY', nan, 1.5884454e-04, 1.8602341e-05, 1.1485574e-04)],\n",
       "      dtype=[('totim', '<f4'), ('time_step', '<i4'), ('stress_period', '<i4'), ('name', '<U50'), ('ZONE_0', '<f4'), ('ZONE_1', '<f4'), ('ZONE_2', '<f4'), ('ZONE_3', '<f4')])"
      ]
     },
     "execution_count": 4,
     "metadata": {},
     "output_type": "execute_result"
    }
   ],
   "source": [
    "# Create a ZoneBudget object and get the budget record array\n",
    "zb = flopy.utils.ZoneBudget(cbc_f, zon, kstpkper=(0, 1096))\n",
    "zb.get_budget()"
   ]
  },
  {
   "cell_type": "code",
   "execution_count": 5,
   "metadata": {},
   "outputs": [
    {
     "data": {
      "text/plain": [
       "array(['FROM_CONSTANT_HEAD', 'FROM_DRAINS', 'FROM_RECHARGE',\n",
       "       'FROM_STORAGE', 'FROM_WELLS', 'FROM_ZONE_0', 'FROM_ZONE_1',\n",
       "       'FROM_ZONE_2', 'FROM_ZONE_3', 'IN-OUT', 'PERCENT_DISCREPANCY',\n",
       "       'TOTAL_IN', 'TOTAL_OUT', 'TO_CONSTANT_HEAD', 'TO_DRAINS',\n",
       "       'TO_RECHARGE', 'TO_STORAGE', 'TO_WELLS', 'TO_ZONE_0', 'TO_ZONE_1',\n",
       "       'TO_ZONE_2', 'TO_ZONE_3'], dtype='<U50')"
      ]
     },
     "execution_count": 5,
     "metadata": {},
     "output_type": "execute_result"
    }
   ],
   "source": [
    "# Get a list of the unique budget record names\n",
    "zb.get_record_names()"
   ]
  },
  {
   "cell_type": "code",
   "execution_count": 6,
   "metadata": {},
   "outputs": [
    {
     "data": {
      "text/plain": [
       "array([(1097., 0, 1096, 'FROM_RECHARGE', 0., 5145.5815 ,   14.936376,  29.872751),\n",
       "       (1097., 0, 1096, 'FROM_ZONE_1', 0.,    0.     , 3475.1235  , 138.60045 ),\n",
       "       (1097., 0, 1096, 'FROM_ZONE_3', 0.,  192.18604, 1528.0482  ,   0.      )],\n",
       "      dtype=[('totim', '<f4'), ('time_step', '<i4'), ('stress_period', '<i4'), ('name', '<U50'), ('ZONE_0', '<f4'), ('ZONE_1', '<f4'), ('ZONE_2', '<f4'), ('ZONE_3', '<f4')])"
      ]
     },
     "execution_count": 6,
     "metadata": {},
     "output_type": "execute_result"
    }
   ],
   "source": [
    "# Look at a subset of fluxes\n",
    "names = ['FROM_RECHARGE', 'FROM_ZONE_1', 'FROM_ZONE_3']\n",
    "zb.get_budget(names=names)"
   ]
  },
  {
   "cell_type": "code",
   "execution_count": 7,
   "metadata": {},
   "outputs": [
    {
     "data": {
      "text/plain": [
       "array([(1097., 0, 1096, 'FROM_RECHARGE',   14.936376),\n",
       "       (1097., 0, 1096, 'FROM_ZONE_1', 3475.1235  ),\n",
       "       (1097., 0, 1096, 'FROM_ZONE_3', 1528.0482  )],\n",
       "      dtype={'names':['totim','time_step','stress_period','name','ZONE_2'], 'formats':['<f4','<i4','<i4','<U50','<f4'], 'offsets':[0,4,8,12,220], 'itemsize':228})"
      ]
     },
     "execution_count": 7,
     "metadata": {},
     "output_type": "execute_result"
    }
   ],
   "source": [
    "# Look at fluxes in from zone 2\n",
    "names = ['FROM_RECHARGE', 'FROM_ZONE_1', 'FROM_ZONE_3']\n",
    "zones = ['ZONE_2']\n",
    "zb.get_budget(names=names, zones=zones)"
   ]
  },
  {
   "cell_type": "code",
   "execution_count": 8,
   "metadata": {},
   "outputs": [
    {
     "data": {
      "text/plain": [
       "array([(1097., 0, 1096, 'TOTAL_IN',  0., 8.6070859e+03, 5.249675e+03, 2.0193457e+03),\n",
       "       (1097., 0, 1096, 'TOTAL_OUT',  0., 8.6070723e+03, 5.249676e+03, 2.0193480e+03),\n",
       "       (1097., 0, 1096, 'IN-OUT',  0., 1.3671875e-02, 9.765625e-04, 2.3193359e-03),\n",
       "       (1097., 0, 1096, 'PERCENT_DISCREPANCY', nan, 1.5884454e-04, 1.860234e-05, 1.1485574e-04)],\n",
       "      dtype=[('totim', '<f4'), ('time_step', '<i4'), ('stress_period', '<i4'), ('name', '<U50'), ('ZONE_0', '<f4'), ('ZONE_1', '<f4'), ('ZONE_2', '<f4'), ('ZONE_3', '<f4')])"
      ]
     },
     "execution_count": 8,
     "metadata": {},
     "output_type": "execute_result"
    }
   ],
   "source": [
    "# Look at all of the mass-balance records\n",
    "names = ['TOTAL_IN', 'TOTAL_OUT', 'IN-OUT', 'PERCENT_DISCREPANCY']\n",
    "zb.get_budget(names=names)"
   ]
  },
  {
   "cell_type": "markdown",
   "metadata": {},
   "source": [
    "### Convert Units\n",
    "The `ZoneBudget` class supports the use of mathematical operators and returns a new copy of the object."
   ]
  },
  {
   "cell_type": "code",
   "execution_count": 9,
   "metadata": {},
   "outputs": [
    {
     "name": "stdout",
     "output_type": "stream",
     "text": [
      "6,222.7 cubic meters/day\n",
      "176.2 cubic feet/day\n",
      "12.3 inches/year\n"
     ]
    }
   ],
   "source": [
    "cmd = flopy.utils.ZoneBudget(cbc_f, zon, kstpkper=(0, 0))\n",
    "cfd = cmd / 35.3147\n",
    "inyr = (cfd / (250 * 250)) * 365 * 12\n",
    "\n",
    "cmdbud = cmd.get_budget()\n",
    "cfdbud = cfd.get_budget()\n",
    "inyrbud = inyr.get_budget()\n",
    "\n",
    "names = ['FROM_RECHARGE']\n",
    "rowidx = np.in1d(cmdbud['name'], names)\n",
    "colidx = 'ZONE_1'\n",
    "\n",
    "print('{:,.1f} cubic meters/day'.format(cmdbud[rowidx][colidx][0]))\n",
    "print('{:,.1f} cubic feet/day'.format(cfdbud[rowidx][colidx][0]))\n",
    "print('{:,.1f} inches/year'.format(inyrbud[rowidx][colidx][0]))"
   ]
  },
  {
   "cell_type": "code",
   "execution_count": 10,
   "metadata": {},
   "outputs": [
    {
     "data": {
      "text/plain": [
       "False"
      ]
     },
     "execution_count": 10,
     "metadata": {},
     "output_type": "execute_result"
    }
   ],
   "source": [
    "cmd is cfd"
   ]
  },
  {
   "cell_type": "markdown",
   "metadata": {},
   "source": [
    "### Alias Names\n",
    "A dictionary of {zone: \"alias\"} pairs can be passed to replace the typical \"ZONE_X\" fieldnames of the `ZoneBudget` structured array with more descriptive names."
   ]
  },
  {
   "cell_type": "code",
   "execution_count": 11,
   "metadata": {},
   "outputs": [
    {
     "data": {
      "text/plain": [
       "array([(1097., 0, 1096, 'FROM_STORAGE',  0., 0.0000000e+00, 0.0000000e+00, 0.0000000e+00),\n",
       "       (1097., 0, 1096, 'FROM_CONSTANT_HEAD',  0., 0.0000000e+00, 2.3156659e+02, 8.6217201e+01),\n",
       "       (1097., 0, 1096, 'FROM_WELLS',  0., 0.0000000e+00, 0.0000000e+00, 0.0000000e+00),\n",
       "       (1097., 0, 1096, 'FROM_DRAINS',  0., 0.0000000e+00, 0.0000000e+00, 0.0000000e+00),\n",
       "       (1097., 0, 1096, 'FROM_RECHARGE',  0., 5.1455815e+03, 1.4936376e+01, 2.9872751e+01),\n",
       "       (1097., 0, 1096, 'FROM_ZONE_0',  0., 0.0000000e+00, 0.0000000e+00, 0.0000000e+00),\n",
       "       (1097., 0, 1096, 'FROM_SURF',  0., 0.0000000e+00, 3.4751235e+03, 1.3860045e+02),\n",
       "       (1097., 0, 1096, 'FROM_CONF',  0., 3.2693188e+03, 0.0000000e+00, 1.7646553e+03),\n",
       "       (1097., 0, 1096, 'FROM_UFA',  0., 1.9218604e+02, 1.5280482e+03, 0.0000000e+00),\n",
       "       (1097., 0, 1096, 'TOTAL_IN',  0., 8.6070859e+03, 5.2496748e+03, 2.0193457e+03),\n",
       "       (1097., 0, 1096, 'TO_STORAGE',  0., 0.0000000e+00, 0.0000000e+00, 0.0000000e+00),\n",
       "       (1097., 0, 1096, 'TO_CONSTANT_HEAD',  0., 2.3054836e+02, 2.1570151e+02, 2.9911380e+02),\n",
       "       (1097., 0, 1096, 'TO_WELLS',  0., 4.7627998e+03, 0.0000000e+00, 0.0000000e+00),\n",
       "       (1097., 0, 1096, 'TO_DRAINS',  0., 0.0000000e+00, 0.0000000e+00, 0.0000000e+00),\n",
       "       (1097., 0, 1096, 'TO_RECHARGE',  0., 0.0000000e+00, 0.0000000e+00, 0.0000000e+00),\n",
       "       (1097., 0, 1096, 'TO_ZONE_0',  0., 0.0000000e+00, 0.0000000e+00, 0.0000000e+00),\n",
       "       (1097., 0, 1096, 'TO_SURF',  0., 0.0000000e+00, 3.2693188e+03, 1.9218604e+02),\n",
       "       (1097., 0, 1096, 'TO_CONF',  0., 3.4751235e+03, 0.0000000e+00, 1.5280482e+03),\n",
       "       (1097., 0, 1096, 'TO_UFA',  0., 1.3860045e+02, 1.7646553e+03, 0.0000000e+00),\n",
       "       (1097., 0, 1096, 'TOTAL_OUT',  0., 8.6070723e+03, 5.2496758e+03, 2.0193480e+03),\n",
       "       (1097., 0, 1096, 'IN-OUT',  0., 1.3671875e-02, 9.7656250e-04, 2.3193359e-03),\n",
       "       (1097., 0, 1096, 'PERCENT_DISCREPANCY', nan, 1.5884454e-04, 1.8602341e-05, 1.1485574e-04)],\n",
       "      dtype=[('totim', '<f4'), ('time_step', '<i4'), ('stress_period', '<i4'), ('name', '<U50'), ('ZONE_0', '<f4'), ('SURF', '<f4'), ('CONF', '<f4'), ('UFA', '<f4')])"
      ]
     },
     "execution_count": 11,
     "metadata": {},
     "output_type": "execute_result"
    }
   ],
   "source": [
    "aliases = {1: 'SURF', 2:'CONF', 3: 'UFA'}\n",
    "zb = flopy.utils.ZoneBudget(cbc_f, zon, totim=[1097.], aliases=aliases)\n",
    "zb.get_budget()"
   ]
  },
  {
   "cell_type": "markdown",
   "metadata": {},
   "source": [
    "### Return the Budgets as a Pandas DataFrame\n",
    "Set `kstpkper` and `totim` keyword args to `None` (or omit) to return all times.\n",
    "The `get_dataframes()` method will return a DataFrame multi-indexed on `totim` and `name`."
   ]
  },
  {
   "cell_type": "code",
   "execution_count": 12,
   "metadata": {},
   "outputs": [
    {
     "data": {
      "text/html": [
       "<div>\n",
       "<style scoped>\n",
       "    .dataframe tbody tr th:only-of-type {\n",
       "        vertical-align: middle;\n",
       "    }\n",
       "\n",
       "    .dataframe tbody tr th {\n",
       "        vertical-align: top;\n",
       "    }\n",
       "\n",
       "    .dataframe thead th {\n",
       "        text-align: right;\n",
       "    }\n",
       "</style>\n",
       "<table border=\"1\" class=\"dataframe\">\n",
       "  <thead>\n",
       "    <tr style=\"text-align: right;\">\n",
       "      <th></th>\n",
       "      <th></th>\n",
       "      <th>ZONE_0</th>\n",
       "      <th>SURF</th>\n",
       "      <th>CONF</th>\n",
       "      <th>UFA</th>\n",
       "    </tr>\n",
       "    <tr>\n",
       "      <th>totim</th>\n",
       "      <th>name</th>\n",
       "      <th></th>\n",
       "      <th></th>\n",
       "      <th></th>\n",
       "      <th></th>\n",
       "    </tr>\n",
       "  </thead>\n",
       "  <tbody>\n",
       "    <tr>\n",
       "      <th rowspan=\"5\" valign=\"top\">1092.0</th>\n",
       "      <th>FROM_STORAGE</th>\n",
       "      <td>0.0</td>\n",
       "      <td>393.480286</td>\n",
       "      <td>230.476242</td>\n",
       "      <td>228.273621</td>\n",
       "    </tr>\n",
       "    <tr>\n",
       "      <th>FROM_CONSTANT_HEAD</th>\n",
       "      <td>0.0</td>\n",
       "      <td>0.000000</td>\n",
       "      <td>13.225761</td>\n",
       "      <td>5.042325</td>\n",
       "    </tr>\n",
       "    <tr>\n",
       "      <th>FROM_WELLS</th>\n",
       "      <td>0.0</td>\n",
       "      <td>0.000000</td>\n",
       "      <td>0.000000</td>\n",
       "      <td>0.000000</td>\n",
       "    </tr>\n",
       "    <tr>\n",
       "      <th>FROM_DRAINS</th>\n",
       "      <td>0.0</td>\n",
       "      <td>0.000000</td>\n",
       "      <td>0.000000</td>\n",
       "      <td>0.000000</td>\n",
       "    </tr>\n",
       "    <tr>\n",
       "      <th>FROM_RECHARGE</th>\n",
       "      <td>0.0</td>\n",
       "      <td>6018.483887</td>\n",
       "      <td>17.470200</td>\n",
       "      <td>34.940399</td>\n",
       "    </tr>\n",
       "    <tr>\n",
       "      <th>...</th>\n",
       "      <th>...</th>\n",
       "      <td>...</td>\n",
       "      <td>...</td>\n",
       "      <td>...</td>\n",
       "      <td>...</td>\n",
       "    </tr>\n",
       "    <tr>\n",
       "      <th rowspan=\"5\" valign=\"top\">1097.0</th>\n",
       "      <th>TO_CONF</th>\n",
       "      <td>0.0</td>\n",
       "      <td>3475.123535</td>\n",
       "      <td>0.000000</td>\n",
       "      <td>1528.048218</td>\n",
       "    </tr>\n",
       "    <tr>\n",
       "      <th>TO_UFA</th>\n",
       "      <td>0.0</td>\n",
       "      <td>138.600449</td>\n",
       "      <td>1764.655273</td>\n",
       "      <td>0.000000</td>\n",
       "    </tr>\n",
       "    <tr>\n",
       "      <th>TOTAL_OUT</th>\n",
       "      <td>0.0</td>\n",
       "      <td>8607.072266</td>\n",
       "      <td>5249.675781</td>\n",
       "      <td>2019.348022</td>\n",
       "    </tr>\n",
       "    <tr>\n",
       "      <th>IN-OUT</th>\n",
       "      <td>0.0</td>\n",
       "      <td>0.013672</td>\n",
       "      <td>0.000977</td>\n",
       "      <td>0.002319</td>\n",
       "    </tr>\n",
       "    <tr>\n",
       "      <th>PERCENT_DISCREPANCY</th>\n",
       "      <td>NaN</td>\n",
       "      <td>0.000159</td>\n",
       "      <td>0.000019</td>\n",
       "      <td>0.000115</td>\n",
       "    </tr>\n",
       "  </tbody>\n",
       "</table>\n",
       "<p>132 rows × 4 columns</p>\n",
       "</div>"
      ],
      "text/plain": [
       "                            ZONE_0         SURF         CONF          UFA\n",
       "totim  name                                                              \n",
       "1092.0 FROM_STORAGE            0.0   393.480286   230.476242   228.273621\n",
       "       FROM_CONSTANT_HEAD      0.0     0.000000    13.225761     5.042325\n",
       "       FROM_WELLS              0.0     0.000000     0.000000     0.000000\n",
       "       FROM_DRAINS             0.0     0.000000     0.000000     0.000000\n",
       "       FROM_RECHARGE           0.0  6018.483887    17.470200    34.940399\n",
       "...                            ...          ...          ...          ...\n",
       "1097.0 TO_CONF                 0.0  3475.123535     0.000000  1528.048218\n",
       "       TO_UFA                  0.0   138.600449  1764.655273     0.000000\n",
       "       TOTAL_OUT               0.0  8607.072266  5249.675781  2019.348022\n",
       "       IN-OUT                  0.0     0.013672     0.000977     0.002319\n",
       "       PERCENT_DISCREPANCY     NaN     0.000159     0.000019     0.000115\n",
       "\n",
       "[132 rows x 4 columns]"
      ]
     },
     "execution_count": 12,
     "metadata": {},
     "output_type": "execute_result"
    }
   ],
   "source": [
    "aliases = {1: 'SURF', 2:'CONF', 3: 'UFA'}\n",
    "times = list(range(1092, 1097+1))\n",
    "zb = flopy.utils.ZoneBudget(cbc_f, zon, totim=times, aliases=aliases)\n",
    "zb.get_dataframes()"
   ]
  },
  {
   "cell_type": "markdown",
   "metadata": {},
   "source": [
    "Slice the multi-index dataframe to retrieve a subset of the budget.\n",
    "NOTE: We can pass \"names\" directly to the `get_dataframes()` method to return a subset of reocrds. By omitting the `\"FROM_\"` or `\"TO_\"` prefix we get both."
   ]
  },
  {
   "cell_type": "code",
   "execution_count": 13,
   "metadata": {},
   "outputs": [
    {
     "data": {
      "text/html": [
       "<div>\n",
       "<style scoped>\n",
       "    .dataframe tbody tr th:only-of-type {\n",
       "        vertical-align: middle;\n",
       "    }\n",
       "\n",
       "    .dataframe tbody tr th {\n",
       "        vertical-align: top;\n",
       "    }\n",
       "\n",
       "    .dataframe thead th {\n",
       "        text-align: right;\n",
       "    }\n",
       "</style>\n",
       "<table border=\"1\" class=\"dataframe\">\n",
       "  <thead>\n",
       "    <tr style=\"text-align: right;\">\n",
       "      <th></th>\n",
       "      <th></th>\n",
       "      <th>SURF</th>\n",
       "      <th>CONF</th>\n",
       "    </tr>\n",
       "    <tr>\n",
       "      <th>totim</th>\n",
       "      <th>name</th>\n",
       "      <th></th>\n",
       "      <th></th>\n",
       "    </tr>\n",
       "  </thead>\n",
       "  <tbody>\n",
       "    <tr>\n",
       "      <th rowspan=\"4\" valign=\"top\">1095.0</th>\n",
       "      <th>FROM_CONSTANT_HEAD</th>\n",
       "      <td>0.000000</td>\n",
       "      <td>14.531923</td>\n",
       "    </tr>\n",
       "    <tr>\n",
       "      <th>FROM_RECHARGE</th>\n",
       "      <td>5010.149414</td>\n",
       "      <td>14.543249</td>\n",
       "    </tr>\n",
       "    <tr>\n",
       "      <th>TO_CONSTANT_HEAD</th>\n",
       "      <td>664.912598</td>\n",
       "      <td>493.175781</td>\n",
       "    </tr>\n",
       "    <tr>\n",
       "      <th>TO_WELLS</th>\n",
       "      <td>794.582886</td>\n",
       "      <td>0.000000</td>\n",
       "    </tr>\n",
       "    <tr>\n",
       "      <th rowspan=\"4\" valign=\"top\">1096.0</th>\n",
       "      <th>FROM_CONSTANT_HEAD</th>\n",
       "      <td>0.000000</td>\n",
       "      <td>6.501888</td>\n",
       "    </tr>\n",
       "    <tr>\n",
       "      <th>FROM_RECHARGE</th>\n",
       "      <td>6115.663086</td>\n",
       "      <td>17.752289</td>\n",
       "    </tr>\n",
       "    <tr>\n",
       "      <th>TO_CONSTANT_HEAD</th>\n",
       "      <td>690.230591</td>\n",
       "      <td>511.618652</td>\n",
       "    </tr>\n",
       "    <tr>\n",
       "      <th>TO_WELLS</th>\n",
       "      <td>1373.782715</td>\n",
       "      <td>0.000000</td>\n",
       "    </tr>\n",
       "    <tr>\n",
       "      <th rowspan=\"4\" valign=\"top\">1097.0</th>\n",
       "      <th>FROM_CONSTANT_HEAD</th>\n",
       "      <td>0.000000</td>\n",
       "      <td>231.566589</td>\n",
       "    </tr>\n",
       "    <tr>\n",
       "      <th>FROM_RECHARGE</th>\n",
       "      <td>5145.581543</td>\n",
       "      <td>14.936376</td>\n",
       "    </tr>\n",
       "    <tr>\n",
       "      <th>TO_CONSTANT_HEAD</th>\n",
       "      <td>230.548355</td>\n",
       "      <td>215.701508</td>\n",
       "    </tr>\n",
       "    <tr>\n",
       "      <th>TO_WELLS</th>\n",
       "      <td>4762.799805</td>\n",
       "      <td>0.000000</td>\n",
       "    </tr>\n",
       "  </tbody>\n",
       "</table>\n",
       "</div>"
      ],
      "text/plain": [
       "                                  SURF        CONF\n",
       "totim  name                                       \n",
       "1095.0 FROM_CONSTANT_HEAD     0.000000   14.531923\n",
       "       FROM_RECHARGE       5010.149414   14.543249\n",
       "       TO_CONSTANT_HEAD     664.912598  493.175781\n",
       "       TO_WELLS             794.582886    0.000000\n",
       "1096.0 FROM_CONSTANT_HEAD     0.000000    6.501888\n",
       "       FROM_RECHARGE       6115.663086   17.752289\n",
       "       TO_CONSTANT_HEAD     690.230591  511.618652\n",
       "       TO_WELLS            1373.782715    0.000000\n",
       "1097.0 FROM_CONSTANT_HEAD     0.000000  231.566589\n",
       "       FROM_RECHARGE       5145.581543   14.936376\n",
       "       TO_CONSTANT_HEAD     230.548355  215.701508\n",
       "       TO_WELLS            4762.799805    0.000000"
      ]
     },
     "execution_count": 13,
     "metadata": {},
     "output_type": "execute_result"
    }
   ],
   "source": [
    "dateidx1 = 1095.\n",
    "dateidx2 = 1097.\n",
    "names = ['FROM_RECHARGE', 'TO_WELLS', 'CONSTANT_HEAD']\n",
    "zones = ['SURF', 'CONF']\n",
    "df = zb.get_dataframes(names=names)\n",
    "df.loc[(slice(dateidx1, dateidx2), slice(None)), :][zones]"
   ]
  },
  {
   "cell_type": "markdown",
   "metadata": {},
   "source": [
    "Look at pumpage (`TO_WELLS`) as a percentage of recharge (`FROM_RECHARGE`)"
   ]
  },
  {
   "cell_type": "code",
   "execution_count": 14,
   "metadata": {},
   "outputs": [
    {
     "data": {
      "text/html": [
       "<div>\n",
       "<style scoped>\n",
       "    .dataframe tbody tr th:only-of-type {\n",
       "        vertical-align: middle;\n",
       "    }\n",
       "\n",
       "    .dataframe tbody tr th {\n",
       "        vertical-align: top;\n",
       "    }\n",
       "\n",
       "    .dataframe thead th {\n",
       "        text-align: right;\n",
       "    }\n",
       "</style>\n",
       "<table border=\"1\" class=\"dataframe\">\n",
       "  <thead>\n",
       "    <tr style=\"text-align: right;\">\n",
       "      <th></th>\n",
       "      <th>SURF</th>\n",
       "    </tr>\n",
       "    <tr>\n",
       "      <th>totim</th>\n",
       "      <th></th>\n",
       "    </tr>\n",
       "  </thead>\n",
       "  <tbody>\n",
       "    <tr>\n",
       "      <th>1095.0</th>\n",
       "      <td>-15.859466</td>\n",
       "    </tr>\n",
       "    <tr>\n",
       "      <th>1096.0</th>\n",
       "      <td>-22.463348</td>\n",
       "    </tr>\n",
       "    <tr>\n",
       "      <th>1097.0</th>\n",
       "      <td>-92.560966</td>\n",
       "    </tr>\n",
       "  </tbody>\n",
       "</table>\n",
       "</div>"
      ],
      "text/plain": [
       "             SURF\n",
       "totim            \n",
       "1095.0 -15.859466\n",
       "1096.0 -22.463348\n",
       "1097.0 -92.560966"
      ]
     },
     "execution_count": 14,
     "metadata": {},
     "output_type": "execute_result"
    }
   ],
   "source": [
    "dateidx1 = 1095.\n",
    "dateidx2 = 1097.\n",
    "zones = ['SURF']\n",
    "\n",
    "# Pull out the individual records of interest\n",
    "rech = df.loc[(slice(dateidx1, dateidx2), ['FROM_RECHARGE']), :][zones]\n",
    "pump = df.loc[(slice(dateidx1, dateidx2), ['TO_WELLS']), :][zones]\n",
    "\n",
    "# Remove the \"record\" field from the index so we can \n",
    "# take the difference of the two DataFrames\n",
    "rech = rech.reset_index()\n",
    "rech = rech.set_index(['totim'])\n",
    "rech = rech[zones]\n",
    "pump = pump.reset_index()\n",
    "pump = pump.set_index(['totim'])\n",
    "pump = pump[zones] * -1\n",
    "\n",
    "# Compute pumping as a percentage of recharge\n",
    "(pump / rech) * 100."
   ]
  },
  {
   "cell_type": "markdown",
   "metadata": {},
   "source": [
    "Pass `start_datetime` and `timeunit` keyword arguments to return a dataframe with a datetime multi-index"
   ]
  },
  {
   "cell_type": "code",
   "execution_count": 15,
   "metadata": {},
   "outputs": [
    {
     "data": {
      "text/html": [
       "<div>\n",
       "<style scoped>\n",
       "    .dataframe tbody tr th:only-of-type {\n",
       "        vertical-align: middle;\n",
       "    }\n",
       "\n",
       "    .dataframe tbody tr th {\n",
       "        vertical-align: top;\n",
       "    }\n",
       "\n",
       "    .dataframe thead th {\n",
       "        text-align: right;\n",
       "    }\n",
       "</style>\n",
       "<table border=\"1\" class=\"dataframe\">\n",
       "  <thead>\n",
       "    <tr style=\"text-align: right;\">\n",
       "      <th></th>\n",
       "      <th></th>\n",
       "      <th>SURF</th>\n",
       "      <th>CONF</th>\n",
       "    </tr>\n",
       "    <tr>\n",
       "      <th>datetime</th>\n",
       "      <th>name</th>\n",
       "      <th></th>\n",
       "      <th></th>\n",
       "    </tr>\n",
       "  </thead>\n",
       "  <tbody>\n",
       "    <tr>\n",
       "      <th rowspan=\"4\" valign=\"top\">1972-12-29</th>\n",
       "      <th>FROM_CONSTANT_HEAD</th>\n",
       "      <td>0.000000</td>\n",
       "      <td>16.905813</td>\n",
       "    </tr>\n",
       "    <tr>\n",
       "      <th>FROM_RECHARGE</th>\n",
       "      <td>4203.679199</td>\n",
       "      <td>12.202263</td>\n",
       "    </tr>\n",
       "    <tr>\n",
       "      <th>TO_CONSTANT_HEAD</th>\n",
       "      <td>655.814514</td>\n",
       "      <td>487.094849</td>\n",
       "    </tr>\n",
       "    <tr>\n",
       "      <th>TO_WELLS</th>\n",
       "      <td>1930.483154</td>\n",
       "      <td>0.000000</td>\n",
       "    </tr>\n",
       "    <tr>\n",
       "      <th rowspan=\"4\" valign=\"top\">1972-12-30</th>\n",
       "      <th>FROM_CONSTANT_HEAD</th>\n",
       "      <td>0.000000</td>\n",
       "      <td>18.877954</td>\n",
       "    </tr>\n",
       "    <tr>\n",
       "      <th>FROM_RECHARGE</th>\n",
       "      <td>4047.502441</td>\n",
       "      <td>11.748919</td>\n",
       "    </tr>\n",
       "    <tr>\n",
       "      <th>TO_CONSTANT_HEAD</th>\n",
       "      <td>650.441589</td>\n",
       "      <td>482.853638</td>\n",
       "    </tr>\n",
       "    <tr>\n",
       "      <th>TO_WELLS</th>\n",
       "      <td>1279.166382</td>\n",
       "      <td>0.000000</td>\n",
       "    </tr>\n",
       "  </tbody>\n",
       "</table>\n",
       "</div>"
      ],
      "text/plain": [
       "                                      SURF        CONF\n",
       "datetime   name                                       \n",
       "1972-12-29 FROM_CONSTANT_HEAD     0.000000   16.905813\n",
       "           FROM_RECHARGE       4203.679199   12.202263\n",
       "           TO_CONSTANT_HEAD     655.814514  487.094849\n",
       "           TO_WELLS            1930.483154    0.000000\n",
       "1972-12-30 FROM_CONSTANT_HEAD     0.000000   18.877954\n",
       "           FROM_RECHARGE       4047.502441   11.748919\n",
       "           TO_CONSTANT_HEAD     650.441589  482.853638\n",
       "           TO_WELLS            1279.166382    0.000000"
      ]
     },
     "execution_count": 15,
     "metadata": {},
     "output_type": "execute_result"
    }
   ],
   "source": [
    "dateidx1 = pd.Timestamp('1972-12-29')\n",
    "dateidx2 = pd.Timestamp('1972-12-30')\n",
    "names = ['FROM_RECHARGE', 'TO_WELLS', 'CONSTANT_HEAD']\n",
    "zones = ['SURF', 'CONF']\n",
    "df = zb.get_dataframes(start_datetime='1970-01-01', timeunit='D', names=names)\n",
    "df.loc[(slice(dateidx1, dateidx2), slice(None)), :][zones]"
   ]
  },
  {
   "cell_type": "markdown",
   "metadata": {},
   "source": [
    "Pass `index_key` to indicate which fields to use in the multi-index (default is \"totim\"; valid keys are \"totim\" and \"kstpkper\")"
   ]
  },
  {
   "cell_type": "code",
   "execution_count": 16,
   "metadata": {},
   "outputs": [
    {
     "data": {
      "text/html": [
       "<div>\n",
       "<style scoped>\n",
       "    .dataframe tbody tr th:only-of-type {\n",
       "        vertical-align: middle;\n",
       "    }\n",
       "\n",
       "    .dataframe tbody tr th {\n",
       "        vertical-align: top;\n",
       "    }\n",
       "\n",
       "    .dataframe thead th {\n",
       "        text-align: right;\n",
       "    }\n",
       "</style>\n",
       "<table border=\"1\" class=\"dataframe\">\n",
       "  <thead>\n",
       "    <tr style=\"text-align: right;\">\n",
       "      <th></th>\n",
       "      <th></th>\n",
       "      <th></th>\n",
       "      <th>ZONE_0</th>\n",
       "      <th>SURF</th>\n",
       "      <th>CONF</th>\n",
       "      <th>UFA</th>\n",
       "    </tr>\n",
       "    <tr>\n",
       "      <th>time_step</th>\n",
       "      <th>stress_period</th>\n",
       "      <th>name</th>\n",
       "      <th></th>\n",
       "      <th></th>\n",
       "      <th></th>\n",
       "      <th></th>\n",
       "    </tr>\n",
       "  </thead>\n",
       "  <tbody>\n",
       "    <tr>\n",
       "      <th rowspan=\"5\" valign=\"top\">0</th>\n",
       "      <th rowspan=\"5\" valign=\"top\">1091</th>\n",
       "      <th>FROM_STORAGE</th>\n",
       "      <td>0.0</td>\n",
       "      <td>393.480286</td>\n",
       "      <td>230.476242</td>\n",
       "      <td>228.273621</td>\n",
       "    </tr>\n",
       "    <tr>\n",
       "      <th>FROM_CONSTANT_HEAD</th>\n",
       "      <td>0.0</td>\n",
       "      <td>0.000000</td>\n",
       "      <td>13.225761</td>\n",
       "      <td>5.042325</td>\n",
       "    </tr>\n",
       "    <tr>\n",
       "      <th>FROM_WELLS</th>\n",
       "      <td>0.0</td>\n",
       "      <td>0.000000</td>\n",
       "      <td>0.000000</td>\n",
       "      <td>0.000000</td>\n",
       "    </tr>\n",
       "    <tr>\n",
       "      <th>FROM_DRAINS</th>\n",
       "      <td>0.0</td>\n",
       "      <td>0.000000</td>\n",
       "      <td>0.000000</td>\n",
       "      <td>0.000000</td>\n",
       "    </tr>\n",
       "    <tr>\n",
       "      <th>FROM_RECHARGE</th>\n",
       "      <td>0.0</td>\n",
       "      <td>6018.483887</td>\n",
       "      <td>17.470200</td>\n",
       "      <td>34.940399</td>\n",
       "    </tr>\n",
       "  </tbody>\n",
       "</table>\n",
       "</div>"
      ],
      "text/plain": [
       "                                            ZONE_0         SURF        CONF  \\\n",
       "time_step stress_period name                                                  \n",
       "0         1091          FROM_STORAGE           0.0   393.480286  230.476242   \n",
       "                        FROM_CONSTANT_HEAD     0.0     0.000000   13.225761   \n",
       "                        FROM_WELLS             0.0     0.000000    0.000000   \n",
       "                        FROM_DRAINS            0.0     0.000000    0.000000   \n",
       "                        FROM_RECHARGE          0.0  6018.483887   17.470200   \n",
       "\n",
       "                                                   UFA  \n",
       "time_step stress_period name                            \n",
       "0         1091          FROM_STORAGE        228.273621  \n",
       "                        FROM_CONSTANT_HEAD    5.042325  \n",
       "                        FROM_WELLS            0.000000  \n",
       "                        FROM_DRAINS           0.000000  \n",
       "                        FROM_RECHARGE        34.940399  "
      ]
     },
     "execution_count": 16,
     "metadata": {},
     "output_type": "execute_result"
    }
   ],
   "source": [
    "df = zb.get_dataframes(index_key='kstpkper')\n",
    "df.head()"
   ]
  },
  {
   "cell_type": "markdown",
   "metadata": {},
   "source": [
    "### Write Budget Output to CSV\n",
    "\n",
    "We can write the resulting recarray to a csv file with the `.to_csv()` method of the `ZoneBudget` object."
   ]
  },
  {
   "cell_type": "code",
   "execution_count": 17,
   "metadata": {},
   "outputs": [
    {
     "name": "stdout",
     "output_type": "stream",
     "text": [
      "  totim  time_step  stress_period                 name  ZONE_0       ZONE_1       ZONE_2       ZONE_3\n",
      "    1.0          0              0         FROM_STORAGE     0.0     0.000000     0.000000     0.000000\n",
      "    1.0          0              0   FROM_CONSTANT_HEAD     0.0     0.000000     0.000000     0.000000\n",
      "    1.0          0              0           FROM_WELLS     0.0     0.000000     0.000000     0.000000\n",
      "    1.0          0              0          FROM_DRAINS     0.0     0.000000     0.000000     0.000000\n",
      "    1.0          0              0        FROM_RECHARGE     0.0  6222.673300    18.062912    36.125824\n",
      "    1.0          0              0          FROM_ZONE_0     0.0     0.000000     0.000000     0.000000\n",
      "    1.0          0              0          FROM_ZONE_1     0.0     0.000000  4275.257300   491.945070\n",
      "    1.0          0              0          FROM_ZONE_2     0.0  2744.821800     0.000000  2115.654000\n",
      "    1.0          0              0          FROM_ZONE_3     0.0   451.545720  1215.952300     0.000000\n",
      "    1.0          0              0             TOTAL_IN     0.0  9419.041000  5509.272500  2643.725000\n",
      "    1.0          0              0           TO_STORAGE     0.0     0.000000     0.000000     0.000000\n",
      "    1.0          0              0     TO_CONSTANT_HEAD     0.0   821.283200   648.806100   976.233600\n",
      "    1.0          0              0             TO_WELLS     0.0     0.000000     0.000000     0.000000\n",
      "    1.0          0              0            TO_DRAINS     0.0  3832.150000     0.000000     0.000000\n",
      "    1.0          0              0          TO_RECHARGE     0.0     0.000000     0.000000     0.000000\n",
      "    1.0          0              0            TO_ZONE_0     0.0     0.000000     0.000000     0.000000\n",
      "    1.0          0              0            TO_ZONE_1     0.0     0.000000  2744.821800   451.545720\n",
      "    1.0          0              0            TO_ZONE_2     0.0  4275.257300     0.000000  1215.952300\n",
      "    1.0          0              0            TO_ZONE_3     0.0   491.945070  2115.654000     0.000000\n",
      "    1.0          0              0            TOTAL_OUT     0.0  9420.636000  5509.282000  2643.731400\n",
      "    1.0          0              0               IN-OUT     0.0     1.594727     0.009766     0.006348\n",
      "    1.0          0              0  PERCENT_DISCREPANCY     NaN     0.016929     0.000177     0.000240\n",
      " 1097.0          0           1096         FROM_STORAGE     0.0     0.000000     0.000000     0.000000\n",
      " 1097.0          0           1096   FROM_CONSTANT_HEAD     0.0     0.000000   231.566590    86.217200\n",
      " 1097.0          0           1096           FROM_WELLS     0.0     0.000000     0.000000     0.000000\n",
      " 1097.0          0           1096          FROM_DRAINS     0.0     0.000000     0.000000     0.000000\n",
      " 1097.0          0           1096        FROM_RECHARGE     0.0  5145.581500    14.936376    29.872751\n",
      " 1097.0          0           1096          FROM_ZONE_0     0.0     0.000000     0.000000     0.000000\n",
      " 1097.0          0           1096          FROM_ZONE_1     0.0     0.000000  3475.123500   138.600450\n",
      " 1097.0          0           1096          FROM_ZONE_2     0.0  3269.318800     0.000000  1764.655300\n",
      " 1097.0          0           1096          FROM_ZONE_3     0.0   192.186040  1528.048200     0.000000\n",
      " 1097.0          0           1096             TOTAL_IN     0.0  8607.086000  5249.675000  2019.345700\n",
      " 1097.0          0           1096           TO_STORAGE     0.0     0.000000     0.000000     0.000000\n",
      " 1097.0          0           1096     TO_CONSTANT_HEAD     0.0   230.548360   215.701500   299.113800\n",
      " 1097.0          0           1096             TO_WELLS     0.0  4762.800000     0.000000     0.000000\n",
      " 1097.0          0           1096            TO_DRAINS     0.0     0.000000     0.000000     0.000000\n",
      " 1097.0          0           1096          TO_RECHARGE     0.0     0.000000     0.000000     0.000000\n",
      " 1097.0          0           1096            TO_ZONE_0     0.0     0.000000     0.000000     0.000000\n",
      " 1097.0          0           1096            TO_ZONE_1     0.0     0.000000  3269.318800   192.186040\n",
      " 1097.0          0           1096            TO_ZONE_2     0.0  3475.123500     0.000000  1528.048200\n",
      " 1097.0          0           1096            TO_ZONE_3     0.0   138.600450  1764.655300     0.000000\n",
      " 1097.0          0           1096            TOTAL_OUT     0.0  8607.072000  5249.676000  2019.348000\n",
      " 1097.0          0           1096               IN-OUT     0.0     0.013672     0.000977     0.002319\n",
      " 1097.0          0           1096  PERCENT_DISCREPANCY     NaN     0.000159     0.000019     0.000115\n"
     ]
    }
   ],
   "source": [
    "zb = flopy.utils.ZoneBudget(cbc_f, zon, kstpkper=[(0, 0), (0, 1096)])\n",
    "f_out = os.path.join('data', 'Example_output.csv')\n",
    "zb.to_csv(f_out)\n",
    "\n",
    "# Read the file in to see the contents\n",
    "try:\n",
    "    import pandas as pd\n",
    "    print(pd.read_csv(f_out).to_string(index=False))\n",
    "except:\n",
    "    with open(fname, 'r') as f:\n",
    "        for line in f.readlines():\n",
    "            print('\\t'.join(line.split(',')))"
   ]
  },
  {
   "cell_type": "markdown",
   "metadata": {},
   "source": [
    "### Net Budget\n",
    "Using the \"net\" keyword argument, we can request a net budget for each zone/record name or for a subset of zones and record names. Note that we can identify the record names we want without the added `\"_IN\"` or `\"_OUT\"` string suffix."
   ]
  },
  {
   "cell_type": "code",
   "execution_count": 18,
   "metadata": {},
   "outputs": [
    {
     "data": {
      "text/plain": [
       "array([(1092., 0, 1091, 'STORAGE',  -386.15085, -425.65155),\n",
       "       (1092., 0, 1091, 'WELLS', -2829.812  ,    0.     ),\n",
       "       (1093., 0, 1092, 'STORAGE',   -12.50354, -151.3594 ),\n",
       "       (1093., 0, 1092, 'WELLS', -1930.4832 ,    0.     ),\n",
       "       (1094., 0, 1093, 'STORAGE',  -198.92935, -270.8744 ),\n",
       "       (1094., 0, 1093, 'WELLS', -1279.1664 ,    0.     ),\n",
       "       (1095., 0, 1094, 'STORAGE',  -718.4885 , -604.8537 ),\n",
       "       (1095., 0, 1094, 'WELLS',  -794.5829 ,    0.     ),\n",
       "       (1096., 0, 1095, 'STORAGE',  -855.1075 , -622.88477),\n",
       "       (1096., 0, 1095, 'WELLS', -1373.7827 ,    0.     ),\n",
       "       (1097., 0, 1096, 'STORAGE',     0.     ,    0.     ),\n",
       "       (1097., 0, 1096, 'WELLS', -4762.8    ,    0.     )],\n",
       "      dtype={'names':['totim','time_step','stress_period','name','SURF','UFA'], 'formats':['<f4','<i4','<i4','<U50','<f4','<f4'], 'offsets':[0,4,8,12,212,220], 'itemsize':224})"
      ]
     },
     "execution_count": 18,
     "metadata": {},
     "output_type": "execute_result"
    }
   ],
   "source": [
    "zon = np.ones((nlay, nrow, ncol), int)\n",
    "zon[1, :, :] = 2\n",
    "zon[2, :, :] = 3\n",
    "\n",
    "aliases = {1: 'SURF', 2:'CONF', 3: 'UFA'}\n",
    "times = list(range(1092, 1097+1))\n",
    "zb = flopy.utils.ZoneBudget(cbc_f, zon, totim=times, aliases=aliases)\n",
    "zb.get_budget(names=['STORAGE', 'WELLS'], zones=['SURF', 'UFA'], net=True)"
   ]
  },
  {
   "cell_type": "code",
   "execution_count": 19,
   "metadata": {
    "scrolled": false
   },
   "outputs": [
    {
     "data": {
      "text/html": [
       "<div>\n",
       "<style scoped>\n",
       "    .dataframe tbody tr th:only-of-type {\n",
       "        vertical-align: middle;\n",
       "    }\n",
       "\n",
       "    .dataframe tbody tr th {\n",
       "        vertical-align: top;\n",
       "    }\n",
       "\n",
       "    .dataframe thead th {\n",
       "        text-align: right;\n",
       "    }\n",
       "</style>\n",
       "<table border=\"1\" class=\"dataframe\">\n",
       "  <thead>\n",
       "    <tr style=\"text-align: right;\">\n",
       "      <th></th>\n",
       "      <th></th>\n",
       "      <th>SURF</th>\n",
       "      <th>UFA</th>\n",
       "    </tr>\n",
       "    <tr>\n",
       "      <th>totim</th>\n",
       "      <th>name</th>\n",
       "      <th></th>\n",
       "      <th></th>\n",
       "    </tr>\n",
       "  </thead>\n",
       "  <tbody>\n",
       "    <tr>\n",
       "      <th rowspan=\"2\" valign=\"top\">1092.0</th>\n",
       "      <th>STORAGE</th>\n",
       "      <td>-386.150848</td>\n",
       "      <td>-425.651550</td>\n",
       "    </tr>\n",
       "    <tr>\n",
       "      <th>WELLS</th>\n",
       "      <td>-2829.812012</td>\n",
       "      <td>0.000000</td>\n",
       "    </tr>\n",
       "    <tr>\n",
       "      <th rowspan=\"2\" valign=\"top\">1093.0</th>\n",
       "      <th>STORAGE</th>\n",
       "      <td>-12.503540</td>\n",
       "      <td>-151.359406</td>\n",
       "    </tr>\n",
       "    <tr>\n",
       "      <th>WELLS</th>\n",
       "      <td>-1930.483154</td>\n",
       "      <td>0.000000</td>\n",
       "    </tr>\n",
       "    <tr>\n",
       "      <th rowspan=\"2\" valign=\"top\">1094.0</th>\n",
       "      <th>STORAGE</th>\n",
       "      <td>-198.929352</td>\n",
       "      <td>-270.874390</td>\n",
       "    </tr>\n",
       "    <tr>\n",
       "      <th>WELLS</th>\n",
       "      <td>-1279.166382</td>\n",
       "      <td>0.000000</td>\n",
       "    </tr>\n",
       "  </tbody>\n",
       "</table>\n",
       "</div>"
      ],
      "text/plain": [
       "                       SURF         UFA\n",
       "totim  name                            \n",
       "1092.0 STORAGE  -386.150848 -425.651550\n",
       "       WELLS   -2829.812012    0.000000\n",
       "1093.0 STORAGE   -12.503540 -151.359406\n",
       "       WELLS   -1930.483154    0.000000\n",
       "1094.0 STORAGE  -198.929352 -270.874390\n",
       "       WELLS   -1279.166382    0.000000"
      ]
     },
     "execution_count": 19,
     "metadata": {},
     "output_type": "execute_result"
    }
   ],
   "source": [
    "df = zb.get_dataframes(names=['STORAGE', 'WELLS'], zones=['SURF', 'UFA'], net=True)\n",
    "df.head(6)"
   ]
  },
  {
   "cell_type": "markdown",
   "metadata": {},
   "source": [
    "## Plot Budget Components\n",
    "The following is a function that can be used to better visualize the budget components using matplotlib."
   ]
  },
  {
   "cell_type": "code",
   "execution_count": 20,
   "metadata": {},
   "outputs": [],
   "source": [
    "def tick_label_formatter_comma_sep(x, pos):\n",
    "    return '{:,.0f}'.format(x)\n",
    "\n",
    "\n",
    "def volumetric_budget_bar_plot(values_in, values_out, labels, **kwargs):\n",
    "    if 'ax' in kwargs:\n",
    "        ax = kwargs.pop('ax')\n",
    "    else:\n",
    "        ax = plt.gca()\n",
    "\n",
    "    x_pos = np.arange(len(values_in))\n",
    "    rects_in = ax.bar(x_pos, values_in, align='center', alpha=0.5)\n",
    "\n",
    "    x_pos = np.arange(len(values_out))\n",
    "    rects_out = ax.bar(x_pos, values_out, align='center', alpha=0.5)\n",
    "\n",
    "    plt.xticks(list(x_pos), labels)\n",
    "    ax.set_xticklabels(ax.xaxis.get_majorticklabels(), rotation=90)\n",
    "    ax.get_yaxis().set_major_formatter(mpl.ticker.FuncFormatter(tick_label_formatter_comma_sep))\n",
    "\n",
    "    ymin, ymax = ax.get_ylim()\n",
    "    if ymax != 0:\n",
    "        if abs(ymin) / ymax < .33:\n",
    "            ymin = -(ymax * .5)\n",
    "        else:\n",
    "            ymin *= 1.35\n",
    "    else:\n",
    "        ymin *= 1.35\n",
    "    plt.ylim([ymin, ymax * 1.25])\n",
    "\n",
    "    for i, rect in enumerate(rects_in):\n",
    "        label = '{:,.0f}'.format(values_in[i])\n",
    "        height = values_in[i]\n",
    "        x = rect.get_x() + rect.get_width() / 2\n",
    "        y = height + (.02 * ymax)\n",
    "        vertical_alignment = 'bottom'\n",
    "        horizontal_alignment = 'center'\n",
    "        ax.text(x, y, label, ha=horizontal_alignment, va=vertical_alignment, rotation=90)\n",
    "\n",
    "    for i, rect in enumerate(rects_out):\n",
    "        label = '{:,.0f}'.format(values_out[i])\n",
    "        height = values_out[i]\n",
    "        x = rect.get_x() + rect.get_width() / 2\n",
    "        y = height + (.02 * ymin)\n",
    "        vertical_alignment = 'top'\n",
    "        horizontal_alignment = 'center'\n",
    "        ax.text(x, y, label, ha=horizontal_alignment, va=vertical_alignment, rotation=90)\n",
    "\n",
    "    # horizontal line indicating zero\n",
    "    ax.plot([rects_in[0].get_x() - rects_in[0].get_width() / 2,\n",
    "             rects_in[-1].get_x() + rects_in[-1].get_width()], [0, 0], \"k\")\n",
    "\n",
    "    return rects_in, rects_out"
   ]
  },
  {
   "cell_type": "code",
   "execution_count": 21,
   "metadata": {},
   "outputs": [
    {
     "data": {
      "image/png": "[encoded data removed]",
      "text/plain": [
       "<Figure size 1152x360 with 4 Axes>"
      ]
     },
     "metadata": {
      "needs_background": "light"
     },
     "output_type": "display_data"
    }
   ],
   "source": [
    "fig = plt.figure(figsize=(16, 5))\n",
    "\n",
    "times = [2., 500., 1000., 1095.]\n",
    "\n",
    "for idx, t in enumerate(times):\n",
    "\n",
    "    ax = fig.add_subplot(1, len(times), idx + 1)\n",
    "\n",
    "    zb = flopy.utils.ZoneBudget(cbc_f, zon, kstpkper=None, totim=t, aliases=aliases)\n",
    "\n",
    "    recname = 'STORAGE'\n",
    "    values_in = zb.get_dataframes(names='FROM_{}'.format(recname)).T.squeeze()\n",
    "    values_out = zb.get_dataframes(names='TO_{}'.format(recname)).T.squeeze() * -1\n",
    "    labels = values_in.index.tolist()\n",
    "\n",
    "    rects_in, rects_out = volumetric_budget_bar_plot(values_in, values_out, labels, ax=ax)\n",
    "\n",
    "    plt.ylabel('Volumetric rate, in Mgal/d')\n",
    "    plt.title('{} @ totim = {}'.format(recname, t))\n",
    "\n",
    "plt.tight_layout()\n",
    "plt.show()"
   ]
  },
  {
   "cell_type": "code",
   "execution_count": null,
   "metadata": {},
   "outputs": [],
   "source": []
  }
 ],
 "metadata": {
  "anaconda-cloud": {},
  "kernelspec": {
   "display_name": "Python 3",
   "language": "python",
   "name": "python3"
  },
  "language_info": {
   "codemirror_mode": {
    "name": "ipython",
    "version": 3
   },
   "file_extension": ".py",
   "mimetype": "text/x-python",
   "name": "python",
   "nbconvert_exporter": "python",
   "pygments_lexer": "ipython3",
   "version": "3.8.6"
  }
 },
 "nbformat": 4,
 "nbformat_minor": 2
}
