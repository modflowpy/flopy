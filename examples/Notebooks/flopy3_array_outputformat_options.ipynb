{
 "cells": [
  {
   "cell_type": "markdown",
   "metadata": {
    "pycharm": {
     "name": "#%% md\n"
    }
   },
   "source": [
    "# FloPy\n",
    "\n",
    "### A quick demo of how to control the ASCII format of numeric arrays written by FloPy"
   ]
  },
  {
   "cell_type": "markdown",
   "metadata": {
    "pycharm": {
     "name": "#%% md\n"
    }
   },
   "source": [
    "load and run the Freyberg model"
   ]
  },
  {
   "cell_type": "code",
   "execution_count": 1,
   "metadata": {
    "execution": {
     "iopub.execute_input": "2022-07-30T20:18:36.179763Z",
     "iopub.status.busy": "2022-07-30T20:18:36.179410Z",
     "iopub.status.idle": "2022-07-30T20:18:37.634618Z",
     "shell.execute_reply": "2022-07-30T20:18:37.629150Z"
    },
    "pycharm": {
     "name": "#%%\n"
    }
   },
   "outputs": [
    {
     "name": "stdout",
     "output_type": "stream",
     "text": [
      "3.10.5 (v3.10.5:f377153967, Jun  6 2022, 12:36:10) [Clang 13.0.0 (clang-1300.0.29.30)]\n",
      "numpy version: 1.23.1\n",
      "matplotlib version: 3.5.2\n",
      "flopy version: 3.3.6\n"
     ]
    }
   ],
   "source": [
    "import sys\n",
    "import os\n",
    "import platform\n",
    "from tempfile import TemporaryDirectory\n",
    "\n",
    "import numpy as np\n",
    "import matplotlib as mpl\n",
    "import matplotlib.pyplot as plt\n",
    "\n",
    "# run installed version of flopy or add local path\n",
    "try:\n",
    "    import flopy\n",
    "except:\n",
    "    fpth = os.path.abspath(os.path.join(\"..\", \"..\"))\n",
    "    sys.path.append(fpth)\n",
    "    import flopy\n",
    "\n",
    "# Set name of MODFLOW exe\n",
    "#  assumes executable is in users path statement\n",
    "version = \"mf2005\"\n",
    "exe_name = \"mf2005\"\n",
    "mfexe = exe_name\n",
    "\n",
    "# Set the paths\n",
    "loadpth = os.path.join(\"..\", \"data\", \"freyberg\")\n",
    "temp_dir = TemporaryDirectory()\n",
    "modelpth = temp_dir.name\n",
    "\n",
    "# make sure modelpth directory exists\n",
    "if not os.path.isdir(modelpth):\n",
    "    os.makedirs(modelpth)\n",
    "\n",
    "print(sys.version)\n",
    "print(\"numpy version: {}\".format(np.__version__))\n",
    "print(\"matplotlib version: {}\".format(mpl.__version__))\n",
    "print(\"flopy version: {}\".format(flopy.__version__))"
   ]
  },
  {
   "cell_type": "code",
   "execution_count": 2,
   "metadata": {
    "execution": {
     "iopub.execute_input": "2022-07-30T20:18:37.672100Z",
     "iopub.status.busy": "2022-07-30T20:18:37.671752Z",
     "iopub.status.idle": "2022-07-30T20:18:37.766113Z",
     "shell.execute_reply": "2022-07-30T20:18:37.764957Z"
    },
    "pycharm": {
     "name": "#%%\n"
    }
   },
   "outputs": [
    {
     "name": "stdout",
     "output_type": "stream",
     "text": [
      "FloPy is using the following executable to run the model: /Users/wes/dev/usgs-executables/mf2005\n",
      "\n",
      "                                  MODFLOW-2005     \n",
      "    U.S. GEOLOGICAL SURVEY MODULAR FINITE-DIFFERENCE GROUND-WATER FLOW MODEL\n",
      "                             Version 1.12.00 2/3/2017                        \n",
      "\n",
      " Using NAME file: freyberg.nam \n",
      " Run start date and time (yyyy/mm/dd hh:mm:ss): 2022/07/30 16:18:37\n",
      "\n",
      " Solving:  Stress period:     1    Time step:     1    Ground-Water Flow Eqn.\n",
      " Run end date and time (yyyy/mm/dd hh:mm:ss): 2022/07/30 16:18:37\n",
      " Elapsed run time:  0.016 Seconds\n",
      "\n",
      "  Normal termination of simulation\n",
      "Output file located: freyberg.hds\n",
      "Output file located: freyberg.cbc\n"
     ]
    }
   ],
   "source": [
    "ml = flopy.modflow.Modflow.load(\n",
    "    \"freyberg.nam\", model_ws=loadpth, exe_name=exe_name, version=version\n",
    ")\n",
    "ml.model_ws = modelpth\n",
    "ml.write_input()\n",
    "success, buff = ml.run_model()\n",
    "if not success:\n",
    "    print(\"Something bad happened.\")\n",
    "files = [\"freyberg.hds\", \"freyberg.cbc\"]\n",
    "for f in files:\n",
    "    if os.path.isfile(os.path.join(modelpth, f)):\n",
    "        msg = \"Output file located: {}\".format(f)\n",
    "        print(msg)\n",
    "    else:\n",
    "        errmsg = \"Error. Output file cannot be found: {}\".format(f)\n",
    "        print(errmsg)"
   ]
  },
  {
   "cell_type": "markdown",
   "metadata": {
    "pycharm": {
     "name": "#%% md\n"
    }
   },
   "source": [
    "Each ``Util2d`` instance now has a ```.format``` attribute, which is an ```ArrayFormat``` instance:"
   ]
  },
  {
   "cell_type": "code",
   "execution_count": 3,
   "metadata": {
    "execution": {
     "iopub.execute_input": "2022-07-30T20:18:37.772751Z",
     "iopub.status.busy": "2022-07-30T20:18:37.772366Z",
     "iopub.status.idle": "2022-07-30T20:18:37.788601Z",
     "shell.execute_reply": "2022-07-30T20:18:37.777158Z"
    },
    "pycharm": {
     "name": "#%%\n"
    }
   },
   "outputs": [
    {
     "name": "stdout",
     "output_type": "stream",
     "text": [
      "ArrayFormat: npl:20,format:E,width:15,decimal6,isfree:True,isbinary:False\n"
     ]
    }
   ],
   "source": [
    "print(ml.lpf.hk[0].format)"
   ]
  },
  {
   "cell_type": "markdown",
   "metadata": {
    "pycharm": {
     "name": "#%% md\n"
    }
   },
   "source": [
    "The ```ArrayFormat``` class exposes each of the attributes seen in the ```ArrayFormat.___str___()``` call. ```ArrayFormat``` also exposes ``.fortran``, ``.py`` and ``.numpy`` atrributes, which are the respective format descriptors: "
   ]
  },
  {
   "cell_type": "code",
   "execution_count": 4,
   "metadata": {
    "execution": {
     "iopub.execute_input": "2022-07-30T20:18:37.802854Z",
     "iopub.status.busy": "2022-07-30T20:18:37.801790Z",
     "iopub.status.idle": "2022-07-30T20:18:37.821625Z",
     "shell.execute_reply": "2022-07-30T20:18:37.814261Z"
    },
    "pycharm": {
     "name": "#%%\n"
    }
   },
   "outputs": [
    {
     "name": "stdout",
     "output_type": "stream",
     "text": [
      "(FREE)\n",
      "(20, '{0:15.6E}')\n",
      "%15E.6\n"
     ]
    }
   ],
   "source": [
    "print(ml.dis.botm[0].format.fortran)\n",
    "print(ml.dis.botm[0].format.py)\n",
    "print(ml.dis.botm[0].format.numpy)"
   ]
  },
  {
   "cell_type": "markdown",
   "metadata": {
    "pycharm": {
     "name": "#%% md\n"
    }
   },
   "source": [
    "#### (re)-setting ```.format```\n",
    "\n",
    "We can reset the format using a standard fortran type format descriptor"
   ]
  },
  {
   "cell_type": "code",
   "execution_count": 5,
   "metadata": {
    "execution": {
     "iopub.execute_input": "2022-07-30T20:18:37.827801Z",
     "iopub.status.busy": "2022-07-30T20:18:37.827389Z",
     "iopub.status.idle": "2022-07-30T20:18:37.846651Z",
     "shell.execute_reply": "2022-07-30T20:18:37.841796Z"
    },
    "pycharm": {
     "name": "#%%\n"
    }
   },
   "outputs": [
    {
     "name": "stdout",
     "output_type": "stream",
     "text": [
      "(20F10.4)\n",
      "(20, '{0:10.4F}')\n",
      "%10F.4\n",
      "ArrayFormat: npl:20,format:F,width:10,decimal4,isfree:False,isbinary:False\n"
     ]
    }
   ],
   "source": [
    "ml.dis.botm[0].format.free = False\n",
    "ml.dis.botm[0].format.fortran = \"(20f10.4)\"\n",
    "print(ml.dis.botm[0].format.fortran)\n",
    "print(ml.dis.botm[0].format.py)\n",
    "print(ml.dis.botm[0].format.numpy)\n",
    "print(ml.dis.botm[0].format)"
   ]
  },
  {
   "cell_type": "code",
   "execution_count": 6,
   "metadata": {
    "execution": {
     "iopub.execute_input": "2022-07-30T20:18:37.857917Z",
     "iopub.status.busy": "2022-07-30T20:18:37.857266Z",
     "iopub.status.idle": "2022-07-30T20:18:37.882964Z",
     "shell.execute_reply": "2022-07-30T20:18:37.882199Z"
    },
    "pycharm": {
     "name": "#%%\n"
    }
   },
   "outputs": [],
   "source": [
    "ml.write_input()"
   ]
  },
  {
   "cell_type": "code",
   "execution_count": 7,
   "metadata": {
    "execution": {
     "iopub.execute_input": "2022-07-30T20:18:37.890105Z",
     "iopub.status.busy": "2022-07-30T20:18:37.889793Z",
     "iopub.status.idle": "2022-07-30T20:18:37.960080Z",
     "shell.execute_reply": "2022-07-30T20:18:37.953772Z"
    },
    "pycharm": {
     "name": "#%%\n"
    }
   },
   "outputs": [
    {
     "name": "stdout",
     "output_type": "stream",
     "text": [
      "FloPy is using the following executable to run the model: /Users/wes/dev/usgs-executables/mf2005\n",
      "\n",
      "                                  MODFLOW-2005     \n",
      "    U.S. GEOLOGICAL SURVEY MODULAR FINITE-DIFFERENCE GROUND-WATER FLOW MODEL\n",
      "                             Version 1.12.00 2/3/2017                        \n",
      "\n",
      " Using NAME file: freyberg.nam \n",
      " Run start date and time (yyyy/mm/dd hh:mm:ss): 2022/07/30 16:18:37\n",
      "\n"
     ]
    },
    {
     "name": "stdout",
     "output_type": "stream",
     "text": [
      " Solving:  Stress period:     1    Time step:     1    Ground-Water Flow Eqn.\n",
      " Run end date and time (yyyy/mm/dd hh:mm:ss): 2022/07/30 16:18:37\n",
      " Elapsed run time:  0.018 Seconds\n",
      "\n",
      "  Normal termination of simulation\n"
     ]
    }
   ],
   "source": [
    "success, buff = ml.run_model()"
   ]
  },
  {
   "cell_type": "markdown",
   "metadata": {
    "pycharm": {
     "name": "#%% md\n"
    }
   },
   "source": [
    "Let's load the model we just wrote and check that the desired ```botm[0].format``` was used:"
   ]
  },
  {
   "cell_type": "code",
   "execution_count": 8,
   "metadata": {
    "execution": {
     "iopub.execute_input": "2022-07-30T20:18:37.982059Z",
     "iopub.status.busy": "2022-07-30T20:18:37.980686Z",
     "iopub.status.idle": "2022-07-30T20:18:38.029314Z",
     "shell.execute_reply": "2022-07-30T20:18:38.027802Z"
    },
    "pycharm": {
     "name": "#%%\n"
    }
   },
   "outputs": [
    {
     "name": "stdout",
     "output_type": "stream",
     "text": [
      "ArrayFormat: npl:20,format:E,width:15,decimal6,isfree:True,isbinary:False\n"
     ]
    }
   ],
   "source": [
    "ml1 = flopy.modflow.Modflow.load(\"freyberg.nam\", model_ws=modelpth)\n",
    "print(ml1.dis.botm[0].format)"
   ]
  },
  {
   "cell_type": "markdown",
   "metadata": {
    "pycharm": {
     "name": "#%% md\n"
    }
   },
   "source": [
    "We can also reset individual format components (we can also generate some warnings):"
   ]
  },
  {
   "cell_type": "code",
   "execution_count": 9,
   "metadata": {
    "execution": {
     "iopub.execute_input": "2022-07-30T20:18:38.046213Z",
     "iopub.status.busy": "2022-07-30T20:18:38.045523Z",
     "iopub.status.idle": "2022-07-30T20:18:38.062058Z",
     "shell.execute_reply": "2022-07-30T20:18:38.059722Z"
    },
    "pycharm": {
     "name": "#%%\n"
    }
   },
   "outputs": [
    {
     "name": "stdout",
     "output_type": "stream",
     "text": [
      "ArrayFormat warning:setting width less than default of 15\n",
      "ArrayFormat warning: setting decimal less than default of 6\n",
      "ArrayFormat warning: setting decimal less than current value of 6\n",
      "ArrayFormat: npl:20,format:E,width:15,decimal6,isfree:True,isbinary:False\n"
     ]
    }
   ],
   "source": [
    "ml.dis.botm[0].format.width = 9\n",
    "ml.dis.botm[0].format.decimal = 1\n",
    "print(ml1.dis.botm[0].format)"
   ]
  },
  {
   "cell_type": "markdown",
   "metadata": {
    "pycharm": {
     "name": "#%% md\n"
    }
   },
   "source": [
    "We can also select ``free`` format.  Note that setting to free format resets the format attributes to the default, max precision:"
   ]
  },
  {
   "cell_type": "code",
   "execution_count": 10,
   "metadata": {
    "execution": {
     "iopub.execute_input": "2022-07-30T20:18:38.077617Z",
     "iopub.status.busy": "2022-07-30T20:18:38.076368Z",
     "iopub.status.idle": "2022-07-30T20:18:38.090221Z",
     "shell.execute_reply": "2022-07-30T20:18:38.088007Z"
    },
    "pycharm": {
     "name": "#%%\n"
    }
   },
   "outputs": [
    {
     "name": "stdout",
     "output_type": "stream",
     "text": [
      "ArrayFormat: npl:20,format:E,width:15,decimal6,isfree:True,isbinary:False\n"
     ]
    }
   ],
   "source": [
    "ml.dis.botm[0].format.free = True\n",
    "print(ml1.dis.botm[0].format)"
   ]
  },
  {
   "cell_type": "code",
   "execution_count": 11,
   "metadata": {
    "execution": {
     "iopub.execute_input": "2022-07-30T20:18:38.096997Z",
     "iopub.status.busy": "2022-07-30T20:18:38.096575Z",
     "iopub.status.idle": "2022-07-30T20:18:38.161542Z",
     "shell.execute_reply": "2022-07-30T20:18:38.157437Z"
    },
    "pycharm": {
     "name": "#%%\n"
    }
   },
   "outputs": [
    {
     "name": "stdout",
     "output_type": "stream",
     "text": [
      "FloPy is using the following executable to run the model: /Users/wes/dev/usgs-executables/mf2005\n",
      "\n",
      "                                  MODFLOW-2005     \n",
      "    U.S. GEOLOGICAL SURVEY MODULAR FINITE-DIFFERENCE GROUND-WATER FLOW MODEL\n",
      "                             Version 1.12.00 2/3/2017                        \n",
      "\n",
      " Using NAME file: freyberg.nam \n",
      " Run start date and time (yyyy/mm/dd hh:mm:ss): 2022/07/30 16:18:38\n",
      "\n"
     ]
    },
    {
     "name": "stdout",
     "output_type": "stream",
     "text": [
      " Solving:  Stress period:     1    Time step:     1    Ground-Water Flow Eqn.\n",
      " Run end date and time (yyyy/mm/dd hh:mm:ss): 2022/07/30 16:18:38\n",
      " Elapsed run time:  0.015 Seconds\n",
      "\n",
      "  Normal termination of simulation\n"
     ]
    }
   ],
   "source": [
    "ml.write_input()\n",
    "success, buff = ml.run_model()"
   ]
  },
  {
   "cell_type": "code",
   "execution_count": 12,
   "metadata": {
    "execution": {
     "iopub.execute_input": "2022-07-30T20:18:38.179906Z",
     "iopub.status.busy": "2022-07-30T20:18:38.179395Z",
     "iopub.status.idle": "2022-07-30T20:18:38.206366Z",
     "shell.execute_reply": "2022-07-30T20:18:38.205536Z"
    },
    "pycharm": {
     "name": "#%%\n"
    }
   },
   "outputs": [
    {
     "name": "stdout",
     "output_type": "stream",
     "text": [
      "ArrayFormat: npl:20,format:E,width:15,decimal6,isfree:True,isbinary:False\n"
     ]
    }
   ],
   "source": [
    "ml1 = flopy.modflow.Modflow.load(\"freyberg.nam\", model_ws=modelpth)\n",
    "print(ml1.dis.botm[0].format)"
   ]
  }
 ],
 "metadata": {
  "anaconda-cloud": {},
  "kernelspec": {
   "display_name": "Python 3 (ipykernel)",
   "language": "python",
   "name": "python3"
  },
  "language_info": {
   "codemirror_mode": {
    "name": "ipython",
    "version": 3
   },
   "file_extension": ".py",
   "mimetype": "text/x-python",
   "name": "python",
   "nbconvert_exporter": "python",
   "pygments_lexer": "ipython3",
   "version": "3.10.5"
  }
 },
 "nbformat": 4,
 "nbformat_minor": 4
}