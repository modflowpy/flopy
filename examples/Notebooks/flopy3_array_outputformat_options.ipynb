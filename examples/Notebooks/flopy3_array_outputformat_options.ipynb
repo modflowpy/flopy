{
 "cells": [
  {
   "cell_type": "markdown",
   "metadata": {
    "pycharm": {
     "name": "#%% md\n"
    }
   },
   "source": [
    "# FloPy\n",
    "\n",
    "### A quick demo of how to control the ASCII format of numeric arrays written by FloPy"
   ]
  },
  {
   "cell_type": "markdown",
   "metadata": {
    "pycharm": {
     "name": "#%% md\n"
    }
   },
   "source": [
    "load and run the Freyberg model"
   ]
  },
  {
   "cell_type": "code",
   "execution_count": null,
   "metadata": {
    "execution": {
     "iopub.execute_input": "2023-02-22T02:46:17.400336Z",
     "iopub.status.busy": "2023-02-22T02:46:17.399548Z",
     "iopub.status.idle": "2023-02-22T02:46:18.485447Z",
     "shell.execute_reply": "2023-02-22T02:46:18.484188Z"
    },
    "pycharm": {
     "name": "#%%\n"
    }
   },
   "outputs": [],
   "source": [
    "import sys\n",
    "import os\n",
    "from tempfile import TemporaryDirectory\n",
    "\n",
    "import numpy as np\n",
    "import matplotlib as mpl\n",
    "import matplotlib.pyplot as plt\n",
    "\n",
    "# run installed version of flopy or add local path\n",
    "try:\n",
    "    import flopy\n",
    "except:\n",
    "    fpth = os.path.abspath(os.path.join(\"..\", \"..\"))\n",
    "    sys.path.append(fpth)\n",
    "    import flopy\n",
    "\n",
    "# Set name of MODFLOW exe\n",
    "#  assumes executable is in users path statement\n",
    "version = \"mf2005\"\n",
    "exe_name = \"mf2005\"\n",
    "mfexe = exe_name\n",
    "\n",
    "# Set the paths\n",
    "loadpth = os.path.join(\"..\", \"data\", \"freyberg\")\n",
    "temp_dir = TemporaryDirectory()\n",
    "modelpth = temp_dir.name\n",
    "\n",
    "# make sure modelpth directory exists\n",
    "if not os.path.isdir(modelpth):\n",
    "    os.makedirs(modelpth)\n",
    "\n",
    "print(sys.version)\n",
    "print(\"numpy version: {}\".format(np.__version__))\n",
    "print(\"matplotlib version: {}\".format(mpl.__version__))\n",
    "print(\"flopy version: {}\".format(flopy.__version__))"
   ]
  },
  {
   "cell_type": "code",
   "execution_count": null,
   "metadata": {
    "execution": {
     "iopub.execute_input": "2023-02-22T02:46:18.533785Z",
     "iopub.status.busy": "2023-02-22T02:46:18.533117Z",
     "iopub.status.idle": "2023-02-22T02:46:18.587158Z",
     "shell.execute_reply": "2023-02-22T02:46:18.585768Z"
    }
   },
   "outputs": [],
   "source": [
    "ml = flopy.modflow.Modflow.load(\n",
    "    \"freyberg.nam\", model_ws=loadpth, exe_name=exe_name, version=version\n",
    ")\n",
    "ml.model_ws = modelpth\n",
    "ml.write_input()\n",
    "success, buff = ml.run_model(silent=True, report=True)\n",
    "if success:\n",
    "    for line in buff:\n",
    "        print(line)\n",
    "else:\n",
    "    raise ValueError(\"Failed to run.\")\n",
    "\n",
    "files = [\"freyberg.hds\", \"freyberg.cbc\"]\n",
    "for f in files:\n",
    "    if os.path.isfile(os.path.join(modelpth, f)):\n",
    "        msg = \"Output file located: {}\".format(f)\n",
    "        print(msg)\n",
    "    else:\n",
    "        errmsg = \"Error. Output file cannot be found: {}\".format(f)\n",
    "        print(errmsg)"
   ]
  },
  {
   "cell_type": "markdown",
   "metadata": {
    "pycharm": {
     "name": "#%% md\n"
    }
   },
   "source": [
    "Each ``Util2d`` instance now has a ```.format``` attribute, which is an ```ArrayFormat``` instance:"
   ]
  },
  {
   "cell_type": "code",
   "execution_count": null,
   "metadata": {
    "execution": {
     "iopub.execute_input": "2023-02-22T02:46:18.594065Z",
     "iopub.status.busy": "2023-02-22T02:46:18.593513Z",
     "iopub.status.idle": "2023-02-22T02:46:18.598949Z",
     "shell.execute_reply": "2023-02-22T02:46:18.597844Z"
    },
    "pycharm": {
     "name": "#%%\n"
    }
   },
   "outputs": [],
   "source": [
    "print(ml.lpf.hk[0].format)"
   ]
  },
  {
   "cell_type": "markdown",
   "metadata": {
    "pycharm": {
     "name": "#%% md\n"
    }
   },
   "source": [
    "The ```ArrayFormat``` class exposes each of the attributes seen in the ```ArrayFormat.___str___()``` call. ```ArrayFormat``` also exposes ``.fortran``, ``.py`` and ``.numpy`` atrributes, which are the respective format descriptors: "
   ]
  },
  {
   "cell_type": "code",
   "execution_count": null,
   "metadata": {
    "execution": {
     "iopub.execute_input": "2023-02-22T02:46:18.606851Z",
     "iopub.status.busy": "2023-02-22T02:46:18.605933Z",
     "iopub.status.idle": "2023-02-22T02:46:18.615965Z",
     "shell.execute_reply": "2023-02-22T02:46:18.614733Z"
    },
    "pycharm": {
     "name": "#%%\n"
    }
   },
   "outputs": [],
   "source": [
    "print(ml.dis.botm[0].format.fortran)\n",
    "print(ml.dis.botm[0].format.py)\n",
    "print(ml.dis.botm[0].format.numpy)"
   ]
  },
  {
   "cell_type": "markdown",
   "metadata": {
    "pycharm": {
     "name": "#%% md\n"
    }
   },
   "source": [
    "#### (re)-setting ```.format```\n",
    "\n",
    "We can reset the format using a standard fortran type format descriptor"
   ]
  },
  {
   "cell_type": "code",
   "execution_count": null,
   "metadata": {
    "execution": {
     "iopub.execute_input": "2023-02-22T02:46:18.622387Z",
     "iopub.status.busy": "2023-02-22T02:46:18.621244Z",
     "iopub.status.idle": "2023-02-22T02:46:18.633350Z",
     "shell.execute_reply": "2023-02-22T02:46:18.631929Z"
    },
    "pycharm": {
     "name": "#%%\n"
    }
   },
   "outputs": [],
   "source": [
    "ml.dis.botm[0].format.free = False\n",
    "ml.dis.botm[0].format.fortran = \"(20f10.4)\"\n",
    "print(ml.dis.botm[0].format.fortran)\n",
    "print(ml.dis.botm[0].format.py)\n",
    "print(ml.dis.botm[0].format.numpy)\n",
    "print(ml.dis.botm[0].format)"
   ]
  },
  {
   "cell_type": "code",
   "execution_count": null,
   "metadata": {
    "execution": {
     "iopub.execute_input": "2023-02-22T02:46:18.640809Z",
     "iopub.status.busy": "2023-02-22T02:46:18.639714Z",
     "iopub.status.idle": "2023-02-22T02:46:18.679233Z",
     "shell.execute_reply": "2023-02-22T02:46:18.677939Z"
    }
   },
   "outputs": [],
   "source": [
    "ml.write_input()\n",
    "success, buff = ml.run_model(silent=True, report=True)\n",
    "if success:\n",
    "    for line in buff:\n",
    "        print(line)\n",
    "else:\n",
    "    raise ValueError(\"Failed to run.\")"
   ]
  },
  {
   "cell_type": "markdown",
   "metadata": {
    "pycharm": {
     "name": "#%% md\n"
    }
   },
   "source": [
    "Let's load the model we just wrote and check that the desired ```botm[0].format``` was used:"
   ]
  },
  {
   "cell_type": "code",
   "execution_count": null,
   "metadata": {
    "execution": {
     "iopub.execute_input": "2023-02-22T02:46:18.686118Z",
     "iopub.status.busy": "2023-02-22T02:46:18.685463Z",
     "iopub.status.idle": "2023-02-22T02:46:18.710113Z",
     "shell.execute_reply": "2023-02-22T02:46:18.708803Z"
    },
    "pycharm": {
     "name": "#%%\n"
    }
   },
   "outputs": [],
   "source": [
    "ml1 = flopy.modflow.Modflow.load(\"freyberg.nam\", model_ws=modelpth)\n",
    "print(ml1.dis.botm[0].format)"
   ]
  },
  {
   "cell_type": "markdown",
   "metadata": {
    "pycharm": {
     "name": "#%% md\n"
    }
   },
   "source": [
    "We can also reset individual format components (we can also generate some warnings):"
   ]
  },
  {
   "cell_type": "code",
   "execution_count": null,
   "metadata": {
    "execution": {
     "iopub.execute_input": "2023-02-22T02:46:18.716942Z",
     "iopub.status.busy": "2023-02-22T02:46:18.716340Z",
     "iopub.status.idle": "2023-02-22T02:46:18.724937Z",
     "shell.execute_reply": "2023-02-22T02:46:18.722640Z"
    },
    "pycharm": {
     "name": "#%%\n"
    }
   },
   "outputs": [],
   "source": [
    "ml.dis.botm[0].format.width = 9\n",
    "ml.dis.botm[0].format.decimal = 1\n",
    "print(ml1.dis.botm[0].format)"
   ]
  },
  {
   "cell_type": "markdown",
   "metadata": {
    "pycharm": {
     "name": "#%% md\n"
    }
   },
   "source": [
    "We can also select ``free`` format.  Note that setting to free format resets the format attributes to the default, max precision:"
   ]
  },
  {
   "cell_type": "code",
   "execution_count": null,
   "metadata": {
    "execution": {
     "iopub.execute_input": "2023-02-22T02:46:18.730992Z",
     "iopub.status.busy": "2023-02-22T02:46:18.730412Z",
     "iopub.status.idle": "2023-02-22T02:46:18.737251Z",
     "shell.execute_reply": "2023-02-22T02:46:18.735735Z"
    },
    "pycharm": {
     "name": "#%%\n"
    }
   },
   "outputs": [],
   "source": [
    "ml.dis.botm[0].format.free = True\n",
    "print(ml1.dis.botm[0].format)"
   ]
  },
  {
   "cell_type": "code",
   "execution_count": null,
   "metadata": {
    "execution": {
     "iopub.execute_input": "2023-02-22T02:46:18.743038Z",
     "iopub.status.busy": "2023-02-22T02:46:18.742107Z",
     "iopub.status.idle": "2023-02-22T02:46:18.777553Z",
     "shell.execute_reply": "2023-02-22T02:46:18.776675Z"
    }
   },
   "outputs": [],
   "source": [
    "ml.write_input()\n",
    "success, buff = ml.run_model(silent=True, report=True)\n",
    "if success:\n",
    "    for line in buff:\n",
    "        print(line)\n",
    "else:\n",
    "    raise ValueError(\"Failed to run.\")"
   ]
  },
  {
   "cell_type": "code",
   "execution_count": null,
   "metadata": {
    "execution": {
     "iopub.execute_input": "2023-02-22T02:46:18.782131Z",
     "iopub.status.busy": "2023-02-22T02:46:18.781697Z",
     "iopub.status.idle": "2023-02-22T02:46:18.800533Z",
     "shell.execute_reply": "2023-02-22T02:46:18.799769Z"
    },
    "pycharm": {
     "name": "#%%\n"
    }
   },
   "outputs": [],
   "source": [
    "ml1 = flopy.modflow.Modflow.load(\"freyberg.nam\", model_ws=modelpth)\n",
    "print(ml1.dis.botm[0].format)"
   ]
  }
 ],
 "metadata": {
  "anaconda-cloud": {},
  "kernelspec": {
   "display_name": "Python 3 (ipykernel)",
   "language": "python",
   "name": "python3"
  },
  "language_info": {
   "codemirror_mode": {
    "name": "ipython",
    "version": 3
   },
   "file_extension": ".py",
   "mimetype": "text/x-python",
   "name": "python",
   "nbconvert_exporter": "python",
   "pygments_lexer": "ipython3",
   "version": "3.10.6"
  }
 },
 "nbformat": 4,
 "nbformat_minor": 4
}
