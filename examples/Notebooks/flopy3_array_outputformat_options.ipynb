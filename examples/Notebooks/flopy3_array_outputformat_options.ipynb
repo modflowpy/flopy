{
 "cells": [
  {
   "cell_type": "markdown",
   "metadata": {
    "pycharm": {
     "name": "#%% md\n"
    }
   },
   "source": [
    "# FloPy\n",
    "\n",
    "### A quick demo of how to control the ASCII format of numeric arrays written by FloPy"
   ]
  },
  {
   "cell_type": "markdown",
   "metadata": {
    "pycharm": {
     "name": "#%% md\n"
    }
   },
   "source": [
    "load and run the Freyberg model"
   ]
  },
  {
   "cell_type": "code",
   "execution_count": 1,
   "metadata": {
    "execution": {
     "iopub.execute_input": "2022-12-14T19:54:44.264028Z",
     "iopub.status.busy": "2022-12-14T19:54:44.263745Z",
     "iopub.status.idle": "2022-12-14T19:54:45.625085Z",
     "shell.execute_reply": "2022-12-14T19:54:45.623913Z"
    },
    "pycharm": {
     "name": "#%%\n"
    }
   },
   "outputs": [
    {
     "name": "stdout",
     "output_type": "stream",
     "text": [
      "3.7.15 (default, Oct 18 2022, 09:36:49) \n",
      "[GCC 11.2.0]\n",
      "numpy version: 1.21.6\n",
      "matplotlib version: 3.5.3\n",
      "flopy version: 3.3.6\n"
     ]
    }
   ],
   "source": [
    "import sys\n",
    "import os\n",
    "from tempfile import TemporaryDirectory\n",
    "\n",
    "import numpy as np\n",
    "import matplotlib as mpl\n",
    "import matplotlib.pyplot as plt\n",
    "\n",
    "# run installed version of flopy or add local path\n",
    "try:\n",
    "    import flopy\n",
    "except:\n",
    "    fpth = os.path.abspath(os.path.join(\"..\", \"..\"))\n",
    "    sys.path.append(fpth)\n",
    "    import flopy\n",
    "\n",
    "# Set name of MODFLOW exe\n",
    "#  assumes executable is in users path statement\n",
    "version = \"mf2005\"\n",
    "exe_name = \"mf2005\"\n",
    "mfexe = exe_name\n",
    "\n",
    "# Set the paths\n",
    "loadpth = os.path.join(\"..\", \"data\", \"freyberg\")\n",
    "temp_dir = TemporaryDirectory()\n",
    "modelpth = temp_dir.name\n",
    "\n",
    "# make sure modelpth directory exists\n",
    "if not os.path.isdir(modelpth):\n",
    "    os.makedirs(modelpth)\n",
    "\n",
    "print(sys.version)\n",
    "print(\"numpy version: {}\".format(np.__version__))\n",
    "print(\"matplotlib version: {}\".format(mpl.__version__))\n",
    "print(\"flopy version: {}\".format(flopy.__version__))"
   ]
  },
  {
   "cell_type": "code",
   "execution_count": 2,
   "metadata": {
    "execution": {
     "iopub.execute_input": "2022-12-14T19:54:45.680970Z",
     "iopub.status.busy": "2022-12-14T19:54:45.678412Z",
     "iopub.status.idle": "2022-12-14T19:54:45.748610Z",
     "shell.execute_reply": "2022-12-14T19:54:45.747418Z"
    },
    "pycharm": {
     "name": "#%%\n"
    }
   },
   "outputs": [
    {
     "name": "stdout",
     "output_type": "stream",
     "text": [
      "FloPy is using the following executable to run the model: /home/runner/.local/bin/mf2005\n",
      "\n",
      "                                  MODFLOW-2005     \n",
      "    U.S. GEOLOGICAL SURVEY MODULAR FINITE-DIFFERENCE GROUND-WATER FLOW MODEL\n",
      "                             Version 1.12.00 2/3/2017                        \n",
      "\n",
      " Using NAME file: freyberg.nam \n",
      " Run start date and time (yyyy/mm/dd hh:mm:ss): 2022/12/14 19:54:45\n",
      "\n",
      " Solving:  Stress period:     1    Time step:     1    Ground-Water Flow Eqn.\n",
      " Run end date and time (yyyy/mm/dd hh:mm:ss): 2022/12/14 19:54:45\n",
      " Elapsed run time:  0.009 Seconds\n",
      "\n",
      "  Normal termination of simulation\n",
      "Output file located: freyberg.hds\n",
      "Output file located: freyberg.cbc\n"
     ]
    }
   ],
   "source": [
    "ml = flopy.modflow.Modflow.load(\n",
    "    \"freyberg.nam\", model_ws=loadpth, exe_name=exe_name, version=version\n",
    ")\n",
    "ml.model_ws = modelpth\n",
    "ml.write_input()\n",
    "success, buff = ml.run_model()\n",
    "if not success:\n",
    "    print(\"Something bad happened.\")\n",
    "files = [\"freyberg.hds\", \"freyberg.cbc\"]\n",
    "for f in files:\n",
    "    if os.path.isfile(os.path.join(modelpth, f)):\n",
    "        msg = \"Output file located: {}\".format(f)\n",
    "        print(msg)\n",
    "    else:\n",
    "        errmsg = \"Error. Output file cannot be found: {}\".format(f)\n",
    "        print(errmsg)"
   ]
  },
  {
   "cell_type": "markdown",
   "metadata": {
    "pycharm": {
     "name": "#%% md\n"
    }
   },
   "source": [
    "Each ``Util2d`` instance now has a ```.format``` attribute, which is an ```ArrayFormat``` instance:"
   ]
  },
  {
   "cell_type": "code",
   "execution_count": 3,
   "metadata": {
    "execution": {
     "iopub.execute_input": "2022-12-14T19:54:45.753246Z",
     "iopub.status.busy": "2022-12-14T19:54:45.752812Z",
     "iopub.status.idle": "2022-12-14T19:54:45.761203Z",
     "shell.execute_reply": "2022-12-14T19:54:45.760108Z"
    },
    "pycharm": {
     "name": "#%%\n"
    }
   },
   "outputs": [
    {
     "name": "stdout",
     "output_type": "stream",
     "text": [
      "ArrayFormat: npl:20,format:E,width:15,decimal6,isfree:True,isbinary:False\n"
     ]
    }
   ],
   "source": [
    "print(ml.lpf.hk[0].format)"
   ]
  },
  {
   "cell_type": "markdown",
   "metadata": {
    "pycharm": {
     "name": "#%% md\n"
    }
   },
   "source": [
    "The ```ArrayFormat``` class exposes each of the attributes seen in the ```ArrayFormat.___str___()``` call. ```ArrayFormat``` also exposes ``.fortran``, ``.py`` and ``.numpy`` atrributes, which are the respective format descriptors: "
   ]
  },
  {
   "cell_type": "code",
   "execution_count": 4,
   "metadata": {
    "execution": {
     "iopub.execute_input": "2022-12-14T19:54:45.765736Z",
     "iopub.status.busy": "2022-12-14T19:54:45.765052Z",
     "iopub.status.idle": "2022-12-14T19:54:45.773276Z",
     "shell.execute_reply": "2022-12-14T19:54:45.772204Z"
    },
    "pycharm": {
     "name": "#%%\n"
    }
   },
   "outputs": [
    {
     "name": "stdout",
     "output_type": "stream",
     "text": [
      "(FREE)\n",
      "(20, '{0:15.6E}')\n",
      "%15E.6\n"
     ]
    }
   ],
   "source": [
    "print(ml.dis.botm[0].format.fortran)\n",
    "print(ml.dis.botm[0].format.py)\n",
    "print(ml.dis.botm[0].format.numpy)"
   ]
  },
  {
   "cell_type": "markdown",
   "metadata": {
    "pycharm": {
     "name": "#%% md\n"
    }
   },
   "source": [
    "#### (re)-setting ```.format```\n",
    "\n",
    "We can reset the format using a standard fortran type format descriptor"
   ]
  },
  {
   "cell_type": "code",
   "execution_count": 5,
   "metadata": {
    "execution": {
     "iopub.execute_input": "2022-12-14T19:54:45.777983Z",
     "iopub.status.busy": "2022-12-14T19:54:45.777429Z",
     "iopub.status.idle": "2022-12-14T19:54:45.789438Z",
     "shell.execute_reply": "2022-12-14T19:54:45.788363Z"
    },
    "pycharm": {
     "name": "#%%\n"
    }
   },
   "outputs": [
    {
     "name": "stdout",
     "output_type": "stream",
     "text": [
      "(20F10.4)\n",
      "(20, '{0:10.4F}')\n",
      "%10F.4\n",
      "ArrayFormat: npl:20,format:F,width:10,decimal4,isfree:False,isbinary:False\n"
     ]
    }
   ],
   "source": [
    "ml.dis.botm[0].format.free = False\n",
    "ml.dis.botm[0].format.fortran = \"(20f10.4)\"\n",
    "print(ml.dis.botm[0].format.fortran)\n",
    "print(ml.dis.botm[0].format.py)\n",
    "print(ml.dis.botm[0].format.numpy)\n",
    "print(ml.dis.botm[0].format)"
   ]
  },
  {
   "cell_type": "code",
   "execution_count": 6,
   "metadata": {
    "execution": {
     "iopub.execute_input": "2022-12-14T19:54:45.793983Z",
     "iopub.status.busy": "2022-12-14T19:54:45.793323Z",
     "iopub.status.idle": "2022-12-14T19:54:45.812372Z",
     "shell.execute_reply": "2022-12-14T19:54:45.811267Z"
    },
    "pycharm": {
     "name": "#%%\n"
    }
   },
   "outputs": [],
   "source": [
    "ml.write_input()"
   ]
  },
  {
   "cell_type": "code",
   "execution_count": 7,
   "metadata": {
    "execution": {
     "iopub.execute_input": "2022-12-14T19:54:45.816975Z",
     "iopub.status.busy": "2022-12-14T19:54:45.816128Z",
     "iopub.status.idle": "2022-12-14T19:54:45.843911Z",
     "shell.execute_reply": "2022-12-14T19:54:45.842600Z"
    },
    "pycharm": {
     "name": "#%%\n"
    }
   },
   "outputs": [
    {
     "name": "stdout",
     "output_type": "stream",
     "text": [
      "FloPy is using the following executable to run the model: /home/runner/.local/bin/mf2005\n",
      "\n",
      "                                  MODFLOW-2005     \n",
      "    U.S. GEOLOGICAL SURVEY MODULAR FINITE-DIFFERENCE GROUND-WATER FLOW MODEL\n",
      "                             Version 1.12.00 2/3/2017                        \n",
      "\n",
      " Using NAME file: freyberg.nam \n",
      " Run start date and time (yyyy/mm/dd hh:mm:ss): 2022/12/14 19:54:45\n",
      "\n",
      " Solving:  Stress period:     1    Time step:     1    Ground-Water Flow Eqn.\n",
      " Run end date and time (yyyy/mm/dd hh:mm:ss): 2022/12/14 19:54:45\n",
      " Elapsed run time:  0.010 Seconds\n",
      "\n",
      "  Normal termination of simulation\n"
     ]
    }
   ],
   "source": [
    "success, buff = ml.run_model()"
   ]
  },
  {
   "cell_type": "markdown",
   "metadata": {
    "pycharm": {
     "name": "#%% md\n"
    }
   },
   "source": [
    "Let's load the model we just wrote and check that the desired ```botm[0].format``` was used:"
   ]
  },
  {
   "cell_type": "code",
   "execution_count": 8,
   "metadata": {
    "execution": {
     "iopub.execute_input": "2022-12-14T19:54:45.848551Z",
     "iopub.status.busy": "2022-12-14T19:54:45.847856Z",
     "iopub.status.idle": "2022-12-14T19:54:45.872848Z",
     "shell.execute_reply": "2022-12-14T19:54:45.871793Z"
    },
    "pycharm": {
     "name": "#%%\n"
    }
   },
   "outputs": [
    {
     "name": "stdout",
     "output_type": "stream",
     "text": [
      "ArrayFormat: npl:20,format:E,width:15,decimal6,isfree:True,isbinary:False\n"
     ]
    }
   ],
   "source": [
    "ml1 = flopy.modflow.Modflow.load(\"freyberg.nam\", model_ws=modelpth)\n",
    "print(ml1.dis.botm[0].format)"
   ]
  },
  {
   "cell_type": "markdown",
   "metadata": {
    "pycharm": {
     "name": "#%% md\n"
    }
   },
   "source": [
    "We can also reset individual format components (we can also generate some warnings):"
   ]
  },
  {
   "cell_type": "code",
   "execution_count": 9,
   "metadata": {
    "execution": {
     "iopub.execute_input": "2022-12-14T19:54:45.877145Z",
     "iopub.status.busy": "2022-12-14T19:54:45.876828Z",
     "iopub.status.idle": "2022-12-14T19:54:45.885174Z",
     "shell.execute_reply": "2022-12-14T19:54:45.884251Z"
    },
    "pycharm": {
     "name": "#%%\n"
    }
   },
   "outputs": [
    {
     "name": "stdout",
     "output_type": "stream",
     "text": [
      "ArrayFormat warning:setting width less than default of 15\n",
      "ArrayFormat warning: setting decimal less than default of 6\n",
      "ArrayFormat warning: setting decimal less than current value of 6\n",
      "ArrayFormat: npl:20,format:E,width:15,decimal6,isfree:True,isbinary:False\n"
     ]
    }
   ],
   "source": [
    "ml.dis.botm[0].format.width = 9\n",
    "ml.dis.botm[0].format.decimal = 1\n",
    "print(ml1.dis.botm[0].format)"
   ]
  },
  {
   "cell_type": "markdown",
   "metadata": {
    "pycharm": {
     "name": "#%% md\n"
    }
   },
   "source": [
    "We can also select ``free`` format.  Note that setting to free format resets the format attributes to the default, max precision:"
   ]
  },
  {
   "cell_type": "code",
   "execution_count": 10,
   "metadata": {
    "execution": {
     "iopub.execute_input": "2022-12-14T19:54:45.889056Z",
     "iopub.status.busy": "2022-12-14T19:54:45.888758Z",
     "iopub.status.idle": "2022-12-14T19:54:45.898163Z",
     "shell.execute_reply": "2022-12-14T19:54:45.897093Z"
    },
    "pycharm": {
     "name": "#%%\n"
    }
   },
   "outputs": [
    {
     "name": "stdout",
     "output_type": "stream",
     "text": [
      "ArrayFormat: npl:20,format:E,width:15,decimal6,isfree:True,isbinary:False\n"
     ]
    }
   ],
   "source": [
    "ml.dis.botm[0].format.free = True\n",
    "print(ml1.dis.botm[0].format)"
   ]
  },
  {
   "cell_type": "code",
   "execution_count": 11,
   "metadata": {
    "execution": {
     "iopub.execute_input": "2022-12-14T19:54:45.902927Z",
     "iopub.status.busy": "2022-12-14T19:54:45.902388Z",
     "iopub.status.idle": "2022-12-14T19:54:45.943390Z",
     "shell.execute_reply": "2022-12-14T19:54:45.941702Z"
    },
    "pycharm": {
     "name": "#%%\n"
    }
   },
   "outputs": [
    {
     "name": "stdout",
     "output_type": "stream",
     "text": [
      "FloPy is using the following executable to run the model: /home/runner/.local/bin/mf2005\n"
     ]
    },
    {
     "name": "stdout",
     "output_type": "stream",
     "text": [
      "\n",
      "                                  MODFLOW-2005     \n",
      "    U.S. GEOLOGICAL SURVEY MODULAR FINITE-DIFFERENCE GROUND-WATER FLOW MODEL\n",
      "                             Version 1.12.00 2/3/2017                        \n",
      "\n",
      " Using NAME file: freyberg.nam \n",
      " Run start date and time (yyyy/mm/dd hh:mm:ss): 2022/12/14 19:54:45\n",
      "\n",
      " Solving:  Stress period:     1    Time step:     1    Ground-Water Flow Eqn.\n",
      " Run end date and time (yyyy/mm/dd hh:mm:ss): 2022/12/14 19:54:45\n",
      " Elapsed run time:  0.008 Seconds\n",
      "\n",
      "  Normal termination of simulation\n"
     ]
    }
   ],
   "source": [
    "ml.write_input()\n",
    "success, buff = ml.run_model()"
   ]
  },
  {
   "cell_type": "code",
   "execution_count": 12,
   "metadata": {
    "execution": {
     "iopub.execute_input": "2022-12-14T19:54:45.947862Z",
     "iopub.status.busy": "2022-12-14T19:54:45.947418Z",
     "iopub.status.idle": "2022-12-14T19:54:45.970727Z",
     "shell.execute_reply": "2022-12-14T19:54:45.969571Z"
    },
    "pycharm": {
     "name": "#%%\n"
    }
   },
   "outputs": [
    {
     "name": "stdout",
     "output_type": "stream",
     "text": [
      "ArrayFormat: npl:20,format:E,width:15,decimal6,isfree:True,isbinary:False\n"
     ]
    }
   ],
   "source": [
    "ml1 = flopy.modflow.Modflow.load(\"freyberg.nam\", model_ws=modelpth)\n",
    "print(ml1.dis.botm[0].format)"
   ]
  }
 ],
 "metadata": {
  "anaconda-cloud": {},
  "kernelspec": {
   "display_name": "Python 3 (ipykernel)",
   "language": "python",
   "name": "python3"
  },
  "language_info": {
   "codemirror_mode": {
    "name": "ipython",
    "version": 3
   },
   "file_extension": ".py",
   "mimetype": "text/x-python",
   "name": "python",
   "nbconvert_exporter": "python",
   "pygments_lexer": "ipython3",
   "version": "3.7.15"
  }
 },
 "nbformat": 4,
 "nbformat_minor": 4
}
