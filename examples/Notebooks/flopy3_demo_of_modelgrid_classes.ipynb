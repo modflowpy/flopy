{
 "cells": [
  {
   "cell_type": "markdown",
   "metadata": {},
   "source": [
    "### Simple ModelGrid Demo\n",
    "\n",
    "This demo shows how the ModelGrid classes can work, where all model grid functionality is in the model grid class.  Only the geographic reference information and related methods remain in SpatialReference."
   ]
  },
  {
   "cell_type": "code",
   "execution_count": 1,
   "metadata": {},
   "outputs": [
    {
     "name": "stdout",
     "output_type": "stream",
     "text": [
      "flopy is installed in /Users/jdhughes/Documents/Development/flopy_git/flopy_fork/flopy\n",
      "3.7.3 | packaged by conda-forge | (default, Jul  1 2019, 14:38:56) \n",
      "[Clang 4.0.1 (tags/RELEASE_401/final)]\n",
      "numpy version: 1.17.3\n",
      "matplotlib version: 3.1.1\n",
      "flopy version: 3.2.13\n"
     ]
    }
   ],
   "source": [
    "import os\n",
    "import sys\n",
    "import numpy as np\n",
    "# run installed version of flopy or add local path\n",
    "try:\n",
    "    from flopy.discretization.structuredgrid import StructuredGrid\n",
    "    from flopy.utils.reference import SpatialReference\n",
    "except:\n",
    "    fpth = os.path.abspath(os.path.join('..', '..'))\n",
    "    sys.path.append(fpth)\n",
    "    from flopy.discretization.structuredgrid import StructuredGrid\n",
    "    from flopy.utils.reference import SpatialReference\n",
    "\n",
    "import matplotlib as mpl\n",
    "import matplotlib.pyplot as plt\n",
    "import flopy\n",
    "\n",
    "print(sys.version)\n",
    "print('numpy version: {}'.format(np.__version__))\n",
    "print('matplotlib version: {}'.format(mpl.__version__))\n",
    "print('flopy version: {}'.format(flopy.__version__))"
   ]
  },
  {
   "cell_type": "markdown",
   "metadata": {},
   "source": [
    "Technically you need to create both a SpatialReference object and a ModelGrid object, but in practice the code looks very similar and can easily be implemented in one line."
   ]
  },
  {
   "cell_type": "code",
   "execution_count": 2,
   "metadata": {},
   "outputs": [],
   "source": [
    "mg = StructuredGrid(delc=np.ones(10), delr=np.ones(10), xoff=10, yoff=10, angrot=20, \n",
    "                    epsg=26715, lenuni=1)"
   ]
  },
  {
   "cell_type": "markdown",
   "metadata": {},
   "source": [
    "### Transform, xcenters, xedges\n",
    "\n",
    "Transform, xcenters, xedges behaves the same but is now a method of the ModelGrid, but has the same functionatily. "
   ]
  },
  {
   "cell_type": "code",
   "execution_count": 3,
   "metadata": {},
   "outputs": [
    {
     "data": {
      "text/plain": [
       "(15.976724774602399, 22.81712764111577)"
      ]
     },
     "execution_count": 3,
     "metadata": {},
     "output_type": "execute_result"
    }
   ],
   "source": [
    "mg.get_coords(10, 10)"
   ]
  },
  {
   "cell_type": "code",
   "execution_count": 4,
   "metadata": {},
   "outputs": [
    {
     "data": {
      "text/plain": [
       "(3.0479999999999983, 3.048000000000002)"
      ]
     },
     "execution_count": 4,
     "metadata": {},
     "output_type": "execute_result"
    }
   ],
   "source": [
    "mg.get_local_coords(11.82170571129881, 13.906660505012088)"
   ]
  },
  {
   "cell_type": "markdown",
   "metadata": {},
   "source": [
    "Methods to get cell centers of cells from the model grid are now in the ModelGrid classes."
   ]
  },
  {
   "cell_type": "code",
   "execution_count": 5,
   "metadata": {},
   "outputs": [
    {
     "data": {
      "text/plain": [
       "14.140523437626127"
      ]
     },
     "execution_count": 5,
     "metadata": {},
     "output_type": "execute_result"
    }
   ],
   "source": [
    "mg.xcellcenters[1, 7] # x-coordinate at row 1, column 7"
   ]
  },
  {
   "cell_type": "code",
   "execution_count": 6,
   "metadata": {},
   "outputs": [
    {
     "data": {
      "text/plain": [
       "array([14.14052344, 14.82456372])"
      ]
     },
     "execution_count": 6,
     "metadata": {},
     "output_type": "execute_result"
    }
   ],
   "source": [
    "mg.xcellcenters[[1, 3], [7, 7]]"
   ]
  },
  {
   "cell_type": "code",
   "execution_count": 7,
   "metadata": {},
   "outputs": [
    {
     "data": {
      "text/plain": [
       "<matplotlib.collections.PathCollection at 0x11540c9e8>"
      ]
     },
     "execution_count": 7,
     "metadata": {},
     "output_type": "execute_result"
    },
    {
     "data": {
      "image/png": "[encoded data removed]",
      "text/plain": [
       "<Figure size 432x288 with 1 Axes>"
      ]
     },
     "metadata": {
      "needs_background": "light"
     },
     "output_type": "display_data"
    }
   ],
   "source": [
    "plt.scatter(mg.xcellcenters.ravel(), mg.ycellcenters.ravel())\n",
    "plt.scatter(mg.xyzvertices[0].ravel(), mg.xyzvertices[1].ravel(), s=10)"
   ]
  },
  {
   "cell_type": "markdown",
   "metadata": {},
   "source": [
    "### Model Coordinates\n",
    "\n",
    "The model grid outputs everything in model coordinates if reference information is not given."
   ]
  },
  {
   "cell_type": "code",
   "execution_count": 8,
   "metadata": {},
   "outputs": [
    {
     "data": {
      "text/plain": [
       "<matplotlib.collections.PathCollection at 0x1175ab080>"
      ]
     },
     "execution_count": 8,
     "metadata": {},
     "output_type": "execute_result"
    },
    {
     "data": {
      "image/png": "[encoded data removed]",
      "text/plain": [
       "<Figure size 432x288 with 1 Axes>"
      ]
     },
     "metadata": {
      "needs_background": "light"
     },
     "output_type": "display_data"
    }
   ],
   "source": [
    "mg.set_coord_info()\n",
    "plt.scatter(mg.xcellcenters.ravel(), mg.ycellcenters.ravel())\n",
    "plt.scatter(mg.xyzvertices[0].ravel(), mg.xyzvertices[1].ravel(), s=10)"
   ]
  },
  {
   "cell_type": "markdown",
   "metadata": {},
   "source": [
    "### Grid lines"
   ]
  },
  {
   "cell_type": "code",
   "execution_count": 9,
   "metadata": {},
   "outputs": [],
   "source": [
    "def plot_lines(lines):\n",
    "    fig, ax = plt.subplots()\n",
    "    for ln in lines:\n",
    "        plt.plot([ln[0][0], ln[1][0]], [ln[0][1], ln[1][1]])"
   ]
  },
  {
   "cell_type": "code",
   "execution_count": 10,
   "metadata": {},
   "outputs": [
    {
     "data": {
      "text/plain": [
       "(11, -1)"
      ]
     },
     "execution_count": 10,
     "metadata": {},
     "output_type": "execute_result"
    },
    {
     "data": {
      "image/png": "[encoded data removed]",
      "text/plain": [
       "<Figure size 432x288 with 1 Axes>"
      ]
     },
     "metadata": {
      "needs_background": "light"
     },
     "output_type": "display_data"
    }
   ],
   "source": [
    "plot_lines(mg.grid_lines)\n",
    "plt.ylim(11, -1)"
   ]
  },
  {
   "cell_type": "code",
   "execution_count": 11,
   "metadata": {},
   "outputs": [
    {
     "data": {
      "text/plain": [
       "<matplotlib.collections.PathCollection at 0x117791940>"
      ]
     },
     "execution_count": 11,
     "metadata": {},
     "output_type": "execute_result"
    },
    {
     "data": {
      "image/png": "[encoded data removed]",
      "text/plain": [
       "<Figure size 432x288 with 1 Axes>"
      ]
     },
     "metadata": {
      "needs_background": "light"
     },
     "output_type": "display_data"
    }
   ],
   "source": [
    "mg.set_coord_info(xoff=10, yoff=10, angrot=20, epsg=26715)\n",
    "plot_lines(mg.grid_lines)\n",
    "plt.scatter(11.9, 13.5, c='r')"
   ]
  },
  {
   "cell_type": "markdown",
   "metadata": {},
   "source": [
    "### Vertices"
   ]
  },
  {
   "cell_type": "code",
   "execution_count": 12,
   "metadata": {},
   "outputs": [
    {
     "data": {
      "text/plain": [
       "array([[ 0.,  1.,  2.,  3.,  4.,  5.,  6.,  7.,  8.,  9., 10.],\n",
       "       [ 0.,  1.,  2.,  3.,  4.,  5.,  6.,  7.,  8.,  9., 10.],\n",
       "       [ 0.,  1.,  2.,  3.,  4.,  5.,  6.,  7.,  8.,  9., 10.],\n",
       "       [ 0.,  1.,  2.,  3.,  4.,  5.,  6.,  7.,  8.,  9., 10.],\n",
       "       [ 0.,  1.,  2.,  3.,  4.,  5.,  6.,  7.,  8.,  9., 10.],\n",
       "       [ 0.,  1.,  2.,  3.,  4.,  5.,  6.,  7.,  8.,  9., 10.],\n",
       "       [ 0.,  1.,  2.,  3.,  4.,  5.,  6.,  7.,  8.,  9., 10.],\n",
       "       [ 0.,  1.,  2.,  3.,  4.,  5.,  6.,  7.,  8.,  9., 10.],\n",
       "       [ 0.,  1.,  2.,  3.,  4.,  5.,  6.,  7.,  8.,  9., 10.],\n",
       "       [ 0.,  1.,  2.,  3.,  4.,  5.,  6.,  7.,  8.,  9., 10.],\n",
       "       [ 0.,  1.,  2.,  3.,  4.,  5.,  6.,  7.,  8.,  9., 10.]])"
      ]
     },
     "execution_count": 12,
     "metadata": {},
     "output_type": "execute_result"
    }
   ],
   "source": [
    "mg.set_coord_info()\n",
    "mg.xyzvertices[0]"
   ]
  },
  {
   "cell_type": "code",
   "execution_count": 13,
   "metadata": {},
   "outputs": [
    {
     "data": {
      "text/plain": [
       "array([[ 6.57979857,  7.51949119,  8.45918381,  9.39887643, 10.33856905,\n",
       "        11.27826167, 12.21795429, 13.15764691, 14.09733953, 15.03703215,\n",
       "        15.97672477],\n",
       "       [ 6.92181871,  7.86151133,  8.80120395,  9.74089657, 10.68058919,\n",
       "        11.62028181, 12.55997443, 13.49966706, 14.43935968, 15.3790523 ,\n",
       "        16.31874492],\n",
       "       [ 7.26383885,  8.20353147,  9.14322409, 10.08291672, 11.02260934,\n",
       "        11.96230196, 12.90199458, 13.8416872 , 14.78137982, 15.72107244,\n",
       "        16.66076506],\n",
       "       [ 7.605859  ,  8.54555162,  9.48524424, 10.42493686, 11.36462948,\n",
       "        12.3043221 , 13.24401472, 14.18370734, 15.12339996, 16.06309258,\n",
       "        17.0027852 ],\n",
       "       [ 7.94787914,  8.88757176,  9.82726438, 10.766957  , 11.70664962,\n",
       "        12.64634224, 13.58603486, 14.52572749, 15.46542011, 16.40511273,\n",
       "        17.34480535],\n",
       "       [ 8.28989928,  9.2295919 , 10.16928452, 11.10897715, 12.04866977,\n",
       "        12.98836239, 13.92805501, 14.86774763, 15.80744025, 16.74713287,\n",
       "        17.68682549],\n",
       "       [ 8.63191943,  9.57161205, 10.51130467, 11.45099729, 12.39068991,\n",
       "        13.33038253, 14.27007515, 15.20976777, 16.14946039, 17.08915301,\n",
       "        18.02884563],\n",
       "       [ 8.97393957,  9.91363219, 10.85332481, 11.79301743, 12.73271005,\n",
       "        13.67240267, 14.61209529, 15.55178792, 16.49148054, 17.43117316,\n",
       "        18.37086578],\n",
       "       [ 9.31595971, 10.25565233, 11.19534495, 12.13503758, 13.0747302 ,\n",
       "        14.01442282, 14.95411544, 15.89380806, 16.83350068, 17.7731933 ,\n",
       "        18.71288592],\n",
       "       [ 9.65797986, 10.59767248, 11.5373651 , 12.47705772, 13.41675034,\n",
       "        14.35644296, 15.29613558, 16.2358282 , 17.17552082, 18.11521344,\n",
       "        19.05490606],\n",
       "       [10.        , 10.93969262, 11.87938524, 12.81907786, 13.75877048,\n",
       "        14.6984631 , 15.63815572, 16.57784835, 17.51754097, 18.45723359,\n",
       "        19.39692621]])"
      ]
     },
     "execution_count": 13,
     "metadata": {},
     "output_type": "execute_result"
    }
   ],
   "source": [
    "mg.set_coord_info(xoff=10, yoff=10, angrot=20, epsg=26715)\n",
    "mg.xyzvertices[0]"
   ]
  },
  {
   "cell_type": "markdown",
   "metadata": {},
   "source": [
    "### Getting the Model Grid from the Model"
   ]
  },
  {
   "cell_type": "code",
   "execution_count": 14,
   "metadata": {},
   "outputs": [],
   "source": [
    "ml = flopy.modflow.Modflow(modelname='new_model', exe_name='mf2005', \n",
    "                           version='mf2005', model_ws=os.path.join('data'))\n",
    "\n",
    "dis = flopy.modflow.ModflowDis(ml,nlay=5,nrow=5,ncol=5,delr=[50,50,50,50,50],\n",
    "                               delc=[50,50,50,50,50],top=0.0,botm=-50.0,laycbd=0) \n",
    "\n",
    "ibound = np.ones((5, 5, 5), dtype=np.int)\n",
    "start = np.zeros((5, 5, 5), dtype=np.float)\n",
    "bas = flopy.modflow.ModflowBas(ml,ibound=ibound,strt=start)"
   ]
  },
  {
   "cell_type": "markdown",
   "metadata": {},
   "source": [
    "Use the .modelgrid attribute to get the model grid from the model. "
   ]
  },
  {
   "cell_type": "code",
   "execution_count": 15,
   "metadata": {},
   "outputs": [
    {
     "data": {
      "text/plain": [
       "array([[  0.,  50., 100., 150., 200., 250.],\n",
       "       [  0.,  50., 100., 150., 200., 250.],\n",
       "       [  0.,  50., 100., 150., 200., 250.],\n",
       "       [  0.,  50., 100., 150., 200., 250.],\n",
       "       [  0.,  50., 100., 150., 200., 250.],\n",
       "       [  0.,  50., 100., 150., 200., 250.]])"
      ]
     },
     "execution_count": 15,
     "metadata": {},
     "output_type": "execute_result"
    }
   ],
   "source": [
    "ml.modelgrid.xyzvertices[0]"
   ]
  },
  {
   "cell_type": "markdown",
   "metadata": {},
   "source": [
    "By default the flopy model class caches the model grid. If you later modify model discritization information the model grid can end up out of sync with the model discritization information."
   ]
  },
  {
   "cell_type": "code",
   "execution_count": 16,
   "metadata": {},
   "outputs": [
    {
     "data": {
      "text/plain": [
       "array([[  0.,  50., 100., 150., 200., 250.],\n",
       "       [  0.,  50., 100., 150., 200., 250.],\n",
       "       [  0.,  50., 100., 150., 200., 250.],\n",
       "       [  0.,  50., 100., 150., 200., 250.],\n",
       "       [  0.,  50., 100., 150., 200., 250.],\n",
       "       [  0.,  50., 100., 150., 200., 250.]])"
      ]
     },
     "execution_count": 16,
     "metadata": {},
     "output_type": "execute_result"
    }
   ],
   "source": [
    "dis.delr=[10,10,10,10,10]\n",
    "ml.modelgrid.xyzvertices[0]"
   ]
  },
  {
   "cell_type": "markdown",
   "metadata": {},
   "source": [
    "To resync the model grid with the latest model discritization information call update_modelgrid. Calling the update_modelgrid method clears the cached model grid and forces flopy to create a new model grid object on the next call to modelgrid. The current model discritization information is used to create the new model grid."
   ]
  },
  {
   "cell_type": "code",
   "execution_count": 17,
   "metadata": {},
   "outputs": [
    {
     "data": {
      "text/plain": [
       "array([[ 0., 10., 20., 30., 40., 50.],\n",
       "       [ 0., 10., 20., 30., 40., 50.],\n",
       "       [ 0., 10., 20., 30., 40., 50.],\n",
       "       [ 0., 10., 20., 30., 40., 50.],\n",
       "       [ 0., 10., 20., 30., 40., 50.],\n",
       "       [ 0., 10., 20., 30., 40., 50.]])"
      ]
     },
     "execution_count": 17,
     "metadata": {},
     "output_type": "execute_result"
    }
   ],
   "source": [
    "ml.update_modelgrid()\n",
    "ml.modelgrid.xyzvertices[0]"
   ]
  }
 ],
 "metadata": {
  "kernelspec": {
   "display_name": "Python 3",
   "language": "python",
   "name": "python3"
  },
  "language_info": {
   "codemirror_mode": {
    "name": "ipython",
    "version": 3
   },
   "file_extension": ".py",
   "mimetype": "text/x-python",
   "name": "python",
   "nbconvert_exporter": "python",
   "pygments_lexer": "ipython3",
   "version": "3.7.3"
  }
 },
 "nbformat": 4,
 "nbformat_minor": 2
}
