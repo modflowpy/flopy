{
 "cells": [
  {
   "cell_type": "code",
   "execution_count": 1,
   "metadata": {},
   "outputs": [
    {
     "name": "stdout",
     "output_type": "stream",
     "text": [
      "3.7.7 (default, Mar 26 2020, 10:32:53) \n",
      "[Clang 4.0.1 (tags/RELEASE_401/final)]\n",
      "numpy version: 1.19.2\n",
      "matplotlib version: 3.3.0\n",
      "flopy version: 3.3.2\n"
     ]
    }
   ],
   "source": [
    "import sys\n",
    "import os\n",
    "import numpy as np\n",
    "import matplotlib as mpl\n",
    "import matplotlib.pyplot as plt\n",
    "\n",
    "# run installed version of flopy or add local path\n",
    "try:\n",
    "    import flopy\n",
    "except:\n",
    "    fpth = os.path.abspath(os.path.join('..', '..'))\n",
    "    sys.path.append(fpth)\n",
    "    import flopy\n",
    "\n",
    "print(sys.version)\n",
    "print('numpy version: {}'.format(np.__version__))\n",
    "print('matplotlib version: {}'.format(mpl.__version__))\n",
    "print('flopy version: {}'.format(flopy.__version__))"
   ]
  },
  {
   "cell_type": "code",
   "execution_count": 2,
   "metadata": {},
   "outputs": [],
   "source": [
    "# creat the model package\n",
    "m = flopy.modflow.Modflow(\"drt_test\", model_ws=\"temp\", exe_name=\"mfnwt\", version=\"mfnwt\")\n",
    "d = flopy.modflow.ModflowDis(m, nlay=1, nrow=10, ncol=10, nper=1, perlen=1, \n",
    "                             top=10, botm=0, steady=True)\n",
    "b = flopy.modflow.ModflowBas(m, strt=10, ibound=1)\n",
    "u = flopy.modflow.ModflowUpw(m, hk=10)\n",
    "n = flopy.modflow.ModflowNwt(m)\n",
    "o = flopy.modflow.ModflowOc(m)"
   ]
  },
  {
   "cell_type": "code",
   "execution_count": 3,
   "metadata": {},
   "outputs": [],
   "source": [
    "# create the drt package\n",
    "spd = []\n",
    "for i in range(m.nrow):\n",
    "    spd.append([0, i, m.ncol-1, 5.0, 50.0, 1, 1, 1, 1.0])\n",
    "d = flopy.modflow.ModflowDrt(m, stress_period_data={0:spd})"
   ]
  },
  {
   "cell_type": "code",
   "execution_count": 4,
   "metadata": {},
   "outputs": [
    {
     "name": "stdout",
     "output_type": "stream",
     "text": [
      "FloPy is using the following  executable to run the model: /Users/jdhughes/.local/bin/mfnwt\n",
      "\n",
      "                                  MODFLOW-NWT-SWR1 \n",
      "    U.S. GEOLOGICAL SURVEY MODULAR FINITE-DIFFERENCE GROUNDWATER-FLOW MODEL\n",
      "                             WITH NEWTON FORMULATION\n",
      "                             Version 1.2.0 03/01/2020                        \n",
      "                    BASED ON MODFLOW-2005 Version 1.12.0 02/03/2017                       \n",
      "\n",
      "                    SWR1 Version 1.04.0 09/15/2016                       \n",
      "\n",
      " Using NAME file: drt_test.nam \n",
      " Run start date and time (yyyy/mm/dd hh:mm:ss): 2020/10/26 15:54:21\n",
      "\n",
      " Solving:  Stress period:     1    Time step:     1    Groundwater-Flow Eqn.\n",
      " Run end date and time (yyyy/mm/dd hh:mm:ss): 2020/10/26 15:54:21\n",
      " Elapsed run time:  0.006 Seconds\n",
      "\n",
      "  Normal termination of simulation\n"
     ]
    },
    {
     "data": {
      "text/plain": [
       "(True, [])"
      ]
     },
     "execution_count": 4,
     "metadata": {},
     "output_type": "execute_result"
    }
   ],
   "source": [
    "# run the drt model\n",
    "m.write_input()\n",
    "m.run_model()"
   ]
  },
  {
   "cell_type": "code",
   "execution_count": 5,
   "metadata": {},
   "outputs": [
    {
     "data": {
      "text/plain": [
       "<AxesSubplot:title={'center':'data Layer 1'}>"
      ]
     },
     "execution_count": 5,
     "metadata": {},
     "output_type": "execute_result"
    },
    {
     "data": {
      "image/png": "[encoded data removed]",
      "text/plain": [
       "<Figure size 432x288 with 2 Axes>"
      ]
     },
     "metadata": {
      "needs_background": "light"
     },
     "output_type": "display_data"
    }
   ],
   "source": [
    "# plot heads for the drt model\n",
    "hds = flopy.utils.HeadFile(os.path.join(m.model_ws, m.name+\".hds\"))\n",
    "hds.plot(colorbar=True)"
   ]
  },
  {
   "cell_type": "code",
   "execution_count": 6,
   "metadata": {},
   "outputs": [],
   "source": [
    "# remove the drt package and create a standard drain file\n",
    "spd = []\n",
    "for i in range(m.nrow):\n",
    "    spd.append([0, i, m.ncol-1, 5.0, 1.0])\n",
    "m.remove_package(\"DRT\")\n",
    "d = flopy.modflow.ModflowDrn(m, stress_period_data={0:spd})"
   ]
  },
  {
   "cell_type": "code",
   "execution_count": 7,
   "metadata": {},
   "outputs": [
    {
     "name": "stdout",
     "output_type": "stream",
     "text": [
      "FloPy is using the following  executable to run the model: /Users/jdhughes/.local/bin/mfnwt\n",
      "\n",
      "                                  MODFLOW-NWT-SWR1 \n",
      "    U.S. GEOLOGICAL SURVEY MODULAR FINITE-DIFFERENCE GROUNDWATER-FLOW MODEL\n",
      "                             WITH NEWTON FORMULATION\n",
      "                             Version 1.2.0 03/01/2020                        \n",
      "                    BASED ON MODFLOW-2005 Version 1.12.0 02/03/2017                       \n",
      "\n",
      "                    SWR1 Version 1.04.0 09/15/2016                       \n",
      "\n",
      " Using NAME file: drt_test.nam \n",
      " Run start date and time (yyyy/mm/dd hh:mm:ss): 2020/10/26 15:54:22\n",
      "\n",
      " Solving:  Stress period:     1    Time step:     1    Groundwater-Flow Eqn.\n",
      " Run end date and time (yyyy/mm/dd hh:mm:ss): 2020/10/26 15:54:22\n",
      " Elapsed run time:  0.005 Seconds\n",
      "\n",
      "  Normal termination of simulation\n"
     ]
    },
    {
     "data": {
      "text/plain": [
       "(True, [])"
      ]
     },
     "execution_count": 7,
     "metadata": {},
     "output_type": "execute_result"
    }
   ],
   "source": [
    "# run the drain model\n",
    "m.write_input()\n",
    "m.run_model()"
   ]
  },
  {
   "cell_type": "code",
   "execution_count": 8,
   "metadata": {},
   "outputs": [
    {
     "data": {
      "text/plain": [
       "<AxesSubplot:title={'center':'data Layer 1'}>"
      ]
     },
     "execution_count": 8,
     "metadata": {},
     "output_type": "execute_result"
    },
    {
     "data": {
      "image/png": "[encoded data removed]",
      "text/plain": [
       "<Figure size 432x288 with 2 Axes>"
      ]
     },
     "metadata": {
      "needs_background": "light"
     },
     "output_type": "display_data"
    }
   ],
   "source": [
    "# plot the heads for the model with the drain\n",
    "hds = flopy.utils.HeadFile(os.path.join(m.model_ws, m.name+\".hds\"))\n",
    "hds.plot(colorbar=True)"
   ]
  },
  {
   "cell_type": "code",
   "execution_count": null,
   "metadata": {},
   "outputs": [],
   "source": []
  }
 ],
 "metadata": {
  "kernelspec": {
   "display_name": "Python 3",
   "language": "python",
   "name": "python3"
  },
  "language_info": {
   "codemirror_mode": {
    "name": "ipython",
    "version": 3
   },
   "file_extension": ".py",
   "mimetype": "text/x-python",
   "name": "python",
   "nbconvert_exporter": "python",
   "pygments_lexer": "ipython3",
   "version": "3.7.7"
  }
 },
 "nbformat": 4,
 "nbformat_minor": 2
}
