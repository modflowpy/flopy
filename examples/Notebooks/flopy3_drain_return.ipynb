{
 "cells": [
  {
   "cell_type": "code",
   "execution_count": 1,
   "metadata": {
    "execution": {
     "iopub.execute_input": "2023-02-22T02:46:33.847141Z",
     "iopub.status.busy": "2023-02-22T02:46:33.846697Z",
     "iopub.status.idle": "2023-02-22T02:46:34.740082Z",
     "shell.execute_reply": "2023-02-22T02:46:34.738962Z"
    }
   },
   "outputs": [
    {
     "name": "stdout",
     "output_type": "stream",
     "text": [
      "3.10.6 (main, Nov 14 2022, 16:10:14) [GCC 11.3.0]\n",
      "numpy version: 1.24.1\n",
      "matplotlib version: 3.6.3\n",
      "flopy version: 3.3.7\n"
     ]
    }
   ],
   "source": [
    "import sys\n",
    "import os\n",
    "from tempfile import TemporaryDirectory\n",
    "import numpy as np\n",
    "import matplotlib as mpl\n",
    "import matplotlib.pyplot as plt\n",
    "\n",
    "# run installed version of flopy or add local path\n",
    "try:\n",
    "    import flopy\n",
    "except:\n",
    "    fpth = os.path.abspath(os.path.join(\"..\", \"..\"))\n",
    "    sys.path.append(fpth)\n",
    "    import flopy\n",
    "\n",
    "print(sys.version)\n",
    "print(\"numpy version: {}\".format(np.__version__))\n",
    "print(\"matplotlib version: {}\".format(mpl.__version__))\n",
    "print(\"flopy version: {}\".format(flopy.__version__))"
   ]
  },
  {
   "cell_type": "code",
   "execution_count": 2,
   "metadata": {
    "execution": {
     "iopub.execute_input": "2023-02-22T02:46:34.800065Z",
     "iopub.status.busy": "2023-02-22T02:46:34.799302Z",
     "iopub.status.idle": "2023-02-22T02:46:34.810235Z",
     "shell.execute_reply": "2023-02-22T02:46:34.809146Z"
    }
   },
   "outputs": [],
   "source": [
    "# temporary directory\n",
    "temp_dir = TemporaryDirectory()\n",
    "modelpth = temp_dir.name\n",
    "\n",
    "# creat the model package\n",
    "m = flopy.modflow.Modflow(\n",
    "    \"drt_test\",\n",
    "    model_ws=modelpth,\n",
    "    exe_name=\"mfnwt\",\n",
    "    version=\"mfnwt\",\n",
    ")\n",
    "d = flopy.modflow.ModflowDis(\n",
    "    m,\n",
    "    nlay=1,\n",
    "    nrow=10,\n",
    "    ncol=10,\n",
    "    nper=1,\n",
    "    perlen=1,\n",
    "    top=10,\n",
    "    botm=0,\n",
    "    steady=True,\n",
    ")\n",
    "b = flopy.modflow.ModflowBas(m, strt=10, ibound=1)\n",
    "u = flopy.modflow.ModflowUpw(m, hk=10)\n",
    "n = flopy.modflow.ModflowNwt(m)\n",
    "o = flopy.modflow.ModflowOc(m)"
   ]
  },
  {
   "cell_type": "code",
   "execution_count": 3,
   "metadata": {
    "execution": {
     "iopub.execute_input": "2023-02-22T02:46:34.814666Z",
     "iopub.status.busy": "2023-02-22T02:46:34.813932Z",
     "iopub.status.idle": "2023-02-22T02:46:34.820867Z",
     "shell.execute_reply": "2023-02-22T02:46:34.819837Z"
    }
   },
   "outputs": [],
   "source": [
    "# create the drt package\n",
    "spd = []\n",
    "for i in range(m.nrow):\n",
    "    spd.append([0, i, m.ncol - 1, 5.0, 50.0, 1, 1, 1, 1.0])\n",
    "d = flopy.modflow.ModflowDrt(m, stress_period_data={0: spd})"
   ]
  },
  {
   "cell_type": "code",
   "execution_count": 4,
   "metadata": {
    "execution": {
     "iopub.execute_input": "2023-02-22T02:46:34.825374Z",
     "iopub.status.busy": "2023-02-22T02:46:34.824633Z",
     "iopub.status.idle": "2023-02-22T02:46:34.846043Z",
     "shell.execute_reply": "2023-02-22T02:46:34.843556Z"
    }
   },
   "outputs": [
    {
     "name": "stdout",
     "output_type": "stream",
     "text": [
      "\n",
      "                                  MODFLOW-NWT-SWR1 \n",
      "    U.S. GEOLOGICAL SURVEY MODULAR FINITE-DIFFERENCE GROUNDWATER-FLOW MODEL\n",
      "                             WITH NEWTON FORMULATION\n",
      "                             Version 1.3.0 07/01/2022                        \n",
      "                    BASED ON MODFLOW-2005 Version 1.12.0 02/03/2017                       \n",
      "\n",
      "                    SWR1 Version 1.05.0 03/10/2022                       \n",
      "\n",
      " Using NAME file: drt_test.nam \n",
      " Run start date and time (yyyy/mm/dd hh:mm:ss): 2023/02/21 21:46:34\n",
      "\n",
      " Solving:  Stress period:     1    Time step:     1    Groundwater-Flow Eqn.\n",
      " Run end date and time (yyyy/mm/dd hh:mm:ss): 2023/02/21 21:46:34\n",
      " Elapsed run time:  0.003 Seconds\n",
      "\n",
      "  Normal termination of simulation\n"
     ]
    }
   ],
   "source": [
    "# run the drt model\n",
    "m.write_input()\n",
    "success, buff = m.run_model(silent=True, report=True)\n",
    "if success:\n",
    "    for line in buff:\n",
    "        print(line)\n",
    "else:\n",
    "    raise ValueError(\"Failed to run.\")"
   ]
  },
  {
   "cell_type": "code",
   "execution_count": 5,
   "metadata": {
    "execution": {
     "iopub.execute_input": "2023-02-22T02:46:34.851911Z",
     "iopub.status.busy": "2023-02-22T02:46:34.850743Z",
     "iopub.status.idle": "2023-02-22T02:46:35.118556Z",
     "shell.execute_reply": "2023-02-22T02:46:35.117979Z"
    }
   },
   "outputs": [
    {
     "data": {
      "text/plain": [
       "<AxesSubplot: title={'center': 'data Layer 1'}>"
      ]
     },
     "execution_count": 5,
     "metadata": {},
     "output_type": "execute_result"
    },
    {
     "data": {
      "image/png": "[encoded data removed]",
      "text/plain": [
       "<Figure size 640x480 with 2 Axes>"
      ]
     },
     "metadata": {},
     "output_type": "display_data"
    }
   ],
   "source": [
    "# plot heads for the drt model\n",
    "hds = flopy.utils.HeadFile(os.path.join(m.model_ws, m.name + \".hds\"))\n",
    "hds.plot(colorbar=True)"
   ]
  },
  {
   "cell_type": "code",
   "execution_count": 6,
   "metadata": {
    "execution": {
     "iopub.execute_input": "2023-02-22T02:46:35.122317Z",
     "iopub.status.busy": "2023-02-22T02:46:35.122016Z",
     "iopub.status.idle": "2023-02-22T02:46:35.126318Z",
     "shell.execute_reply": "2023-02-22T02:46:35.125729Z"
    }
   },
   "outputs": [],
   "source": [
    "# remove the drt package and create a standard drain file\n",
    "spd = []\n",
    "for i in range(m.nrow):\n",
    "    spd.append([0, i, m.ncol - 1, 5.0, 1.0])\n",
    "m.remove_package(\"DRT\")\n",
    "d = flopy.modflow.ModflowDrn(m, stress_period_data={0: spd})"
   ]
  },
  {
   "cell_type": "code",
   "execution_count": 7,
   "metadata": {
    "execution": {
     "iopub.execute_input": "2023-02-22T02:46:35.129974Z",
     "iopub.status.busy": "2023-02-22T02:46:35.129666Z",
     "iopub.status.idle": "2023-02-22T02:46:35.139016Z",
     "shell.execute_reply": "2023-02-22T02:46:35.138422Z"
    }
   },
   "outputs": [
    {
     "name": "stdout",
     "output_type": "stream",
     "text": [
      "\n",
      "                                  MODFLOW-NWT-SWR1 \n",
      "    U.S. GEOLOGICAL SURVEY MODULAR FINITE-DIFFERENCE GROUNDWATER-FLOW MODEL\n",
      "                             WITH NEWTON FORMULATION\n",
      "                             Version 1.3.0 07/01/2022                        \n",
      "                    BASED ON MODFLOW-2005 Version 1.12.0 02/03/2017                       \n",
      "\n",
      "                    SWR1 Version 1.05.0 03/10/2022                       \n",
      "\n",
      " Using NAME file: drt_test.nam \n",
      " Run start date and time (yyyy/mm/dd hh:mm:ss): 2023/02/21 21:46:35\n",
      "\n",
      " Solving:  Stress period:     1    Time step:     1    Groundwater-Flow Eqn.\n",
      " Run end date and time (yyyy/mm/dd hh:mm:ss): 2023/02/21 21:46:35\n",
      " Elapsed run time:  0.001 Seconds\n",
      "\n",
      "  Normal termination of simulation\n"
     ]
    }
   ],
   "source": [
    "# run the drain model\n",
    "m.write_input()\n",
    "success, buff = m.run_model(silent=True, report=True)\n",
    "if success:\n",
    "    for line in buff:\n",
    "        print(line)\n",
    "else:\n",
    "    raise ValueError(\"Failed to run.\")"
   ]
  },
  {
   "cell_type": "code",
   "execution_count": 8,
   "metadata": {
    "execution": {
     "iopub.execute_input": "2023-02-22T02:46:35.142435Z",
     "iopub.status.busy": "2023-02-22T02:46:35.142241Z",
     "iopub.status.idle": "2023-02-22T02:46:35.354104Z",
     "shell.execute_reply": "2023-02-22T02:46:35.353403Z"
    }
   },
   "outputs": [
    {
     "data": {
      "text/plain": [
       "<AxesSubplot: title={'center': 'data Layer 1'}>"
      ]
     },
     "execution_count": 8,
     "metadata": {},
     "output_type": "execute_result"
    },
    {
     "data": {
      "image/png": "[encoded data removed]",
      "text/plain": [
       "<Figure size 640x480 with 2 Axes>"
      ]
     },
     "metadata": {},
     "output_type": "display_data"
    }
   ],
   "source": [
    "# plot the heads for the model with the drain\n",
    "hds = flopy.utils.HeadFile(os.path.join(m.model_ws, m.name + \".hds\"))\n",
    "hds.plot(colorbar=True)"
   ]
  },
  {
   "cell_type": "code",
   "execution_count": 9,
   "metadata": {
    "execution": {
     "iopub.execute_input": "2023-02-22T02:46:35.358564Z",
     "iopub.status.busy": "2023-02-22T02:46:35.358208Z",
     "iopub.status.idle": "2023-02-22T02:46:35.363220Z",
     "shell.execute_reply": "2023-02-22T02:46:35.362560Z"
    }
   },
   "outputs": [],
   "source": [
    "try:\n",
    "    # ignore PermissionError on Windows\n",
    "    temp_dir.cleanup()\n",
    "except:\n",
    "    pass"
   ]
  }
 ],
 "metadata": {
  "kernelspec": {
   "display_name": "Python 3 (ipykernel)",
   "language": "python",
   "name": "python3"
  },
  "language_info": {
   "codemirror_mode": {
    "name": "ipython",
    "version": 3
   },
   "file_extension": ".py",
   "mimetype": "text/x-python",
   "name": "python",
   "nbconvert_exporter": "python",
   "pygments_lexer": "ipython3",
   "version": "3.10.6"
  }
 },
 "nbformat": 4,
 "nbformat_minor": 4
}
