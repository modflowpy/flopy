{
 "cells": [
  {
   "cell_type": "markdown",
   "metadata": {},
   "source": [
    "# FloPy\n",
    "\n",
    "### Demo of netCDF and shapefile export capabilities within the flopy export module. "
   ]
  },
  {
   "cell_type": "code",
   "execution_count": 1,
   "metadata": {
    "execution": {
     "iopub.execute_input": "2022-07-30T20:16:15.809158Z",
     "iopub.status.busy": "2022-07-30T20:16:15.808550Z",
     "iopub.status.idle": "2022-07-30T20:16:16.632807Z",
     "shell.execute_reply": "2022-07-30T20:16:16.632042Z"
    }
   },
   "outputs": [
    {
     "name": "stdout",
     "output_type": "stream",
     "text": [
      "3.10.5 (v3.10.5:f377153967, Jun  6 2022, 12:36:10) [Clang 13.0.0 (clang-1300.0.29.30)]\n",
      "flopy version: 3.3.6\n"
     ]
    }
   ],
   "source": [
    "import os\n",
    "import sys\n",
    "import datetime\n",
    "from tempfile import TemporaryDirectory\n",
    "\n",
    "# run installed version of flopy or add local path\n",
    "try:\n",
    "    import flopy\n",
    "except:\n",
    "    fpth = os.path.abspath(os.path.join(\"..\", \"..\"))\n",
    "    sys.path.append(fpth)\n",
    "    import flopy\n",
    "\n",
    "print(sys.version)\n",
    "print(\"flopy version: {}\".format(flopy.__version__))"
   ]
  },
  {
   "cell_type": "markdown",
   "metadata": {},
   "source": [
    "Load our old friend...the Freyberg model"
   ]
  },
  {
   "cell_type": "code",
   "execution_count": 2,
   "metadata": {
    "execution": {
     "iopub.execute_input": "2022-07-30T20:16:16.670572Z",
     "iopub.status.busy": "2022-07-30T20:16:16.670224Z",
     "iopub.status.idle": "2022-07-30T20:16:17.208057Z",
     "shell.execute_reply": "2022-07-30T20:16:17.207407Z"
    }
   },
   "outputs": [],
   "source": [
    "nam_file = \"freyberg.nam\"\n",
    "model_ws = os.path.join(\"..\", \"data\", \"freyberg_multilayer_transient\")\n",
    "ml = flopy.modflow.Modflow.load(nam_file, model_ws=model_ws, check=False)"
   ]
  },
  {
   "cell_type": "markdown",
   "metadata": {},
   "source": [
    "We can see the ``Modelgrid`` instance has generic entries, as does ``start_datetime``"
   ]
  },
  {
   "cell_type": "code",
   "execution_count": 3,
   "metadata": {
    "execution": {
     "iopub.execute_input": "2022-07-30T20:16:17.211847Z",
     "iopub.status.busy": "2022-07-30T20:16:17.211533Z",
     "iopub.status.idle": "2022-07-30T20:16:17.222080Z",
     "shell.execute_reply": "2022-07-30T20:16:17.221203Z"
    }
   },
   "outputs": [
    {
     "data": {
      "text/plain": [
       "xll:622241.1904510253; yll:3343617.741737109; rotation:15.0; proj4_str:+proj=utm +zone=14 +ellps=WGS84 +datum=WGS84 +units=m +no_defs; units:meters; lenuni:2"
      ]
     },
     "execution_count": 3,
     "metadata": {},
     "output_type": "execute_result"
    }
   ],
   "source": [
    "ml.modelgrid"
   ]
  },
  {
   "cell_type": "code",
   "execution_count": 4,
   "metadata": {
    "execution": {
     "iopub.execute_input": "2022-07-30T20:16:17.225632Z",
     "iopub.status.busy": "2022-07-30T20:16:17.225335Z",
     "iopub.status.idle": "2022-07-30T20:16:17.230833Z",
     "shell.execute_reply": "2022-07-30T20:16:17.229925Z"
    }
   },
   "outputs": [
    {
     "data": {
      "text/plain": [
       "'1/1/2015'"
      ]
     },
     "execution_count": 4,
     "metadata": {},
     "output_type": "execute_result"
    }
   ],
   "source": [
    "ml.modeltime.start_datetime"
   ]
  },
  {
   "cell_type": "markdown",
   "metadata": {},
   "source": [
    "Setting the attributes of the ``ml.modelgrid`` is easy:"
   ]
  },
  {
   "cell_type": "code",
   "execution_count": 5,
   "metadata": {
    "execution": {
     "iopub.execute_input": "2022-07-30T20:16:17.235043Z",
     "iopub.status.busy": "2022-07-30T20:16:17.234740Z",
     "iopub.status.idle": "2022-07-30T20:16:17.238926Z",
     "shell.execute_reply": "2022-07-30T20:16:17.238042Z"
    }
   },
   "outputs": [],
   "source": [
    "proj4_str = \"+proj=longlat +ellps=WGS84 +datum=WGS84 +no_defs\"\n",
    "ml.modelgrid.set_coord_info(\n",
    "    xoff=123456.7, yoff=765432.1, angrot=15.0, proj4=proj4_str\n",
    ")\n",
    "ml.dis.start_datetime = \"7/4/1776\""
   ]
  },
  {
   "cell_type": "code",
   "execution_count": 6,
   "metadata": {
    "execution": {
     "iopub.execute_input": "2022-07-30T20:16:17.242461Z",
     "iopub.status.busy": "2022-07-30T20:16:17.242174Z",
     "iopub.status.idle": "2022-07-30T20:16:17.247543Z",
     "shell.execute_reply": "2022-07-30T20:16:17.246689Z"
    }
   },
   "outputs": [
    {
     "data": {
      "text/plain": [
       "'7/4/1776'"
      ]
     },
     "execution_count": 6,
     "metadata": {},
     "output_type": "execute_result"
    }
   ],
   "source": [
    "ml.modeltime.start_datetime"
   ]
  },
  {
   "cell_type": "markdown",
   "metadata": {},
   "source": [
    "### Some netCDF export capabilities:\n",
    "\n",
    "#### Export the whole model (inputs and outputs)"
   ]
  },
  {
   "cell_type": "code",
   "execution_count": 7,
   "metadata": {
    "execution": {
     "iopub.execute_input": "2022-07-30T20:16:17.251450Z",
     "iopub.status.busy": "2022-07-30T20:16:17.251098Z",
     "iopub.status.idle": "2022-07-30T20:16:17.255828Z",
     "shell.execute_reply": "2022-07-30T20:16:17.254859Z"
    }
   },
   "outputs": [],
   "source": [
    "# temporary directory\n",
    "temp_dir = TemporaryDirectory()\n",
    "pth = temp_dir.name"
   ]
  },
  {
   "cell_type": "code",
   "execution_count": 8,
   "metadata": {
    "execution": {
     "iopub.execute_input": "2022-07-30T20:16:17.259749Z",
     "iopub.status.busy": "2022-07-30T20:16:17.259440Z",
     "iopub.status.idle": "2022-07-30T20:16:20.906437Z",
     "shell.execute_reply": "2022-07-30T20:16:20.905570Z"
    }
   },
   "outputs": [
    {
     "name": "stdout",
     "output_type": "stream",
     "text": [
      "initialize_geometry::proj4_str = +proj=longlat +ellps=WGS84 +datum=WGS84 +no_defs\n",
      "initialize_geometry::self.grid_crs = +proj=longlat +ellps=WGS84 +datum=WGS84 +no_defs +type=crs\n",
      "initialize_geometry::nc_crs = epsg:4326\n",
      "transforming coordinates using = proj=noop ellps=GRS80\n"
     ]
    },
    {
     "name": "stdout",
     "output_type": "stream",
     "text": [
      "initialize_geometry::proj4_str = +proj=longlat +ellps=WGS84 +datum=WGS84 +no_defs\n",
      "initialize_geometry::self.grid_crs = +proj=longlat +ellps=WGS84 +datum=WGS84 +no_defs +type=crs\n",
      "initialize_geometry::nc_crs = epsg:4326\n",
      "transforming coordinates using = proj=noop ellps=GRS80\n"
     ]
    },
    {
     "data": {
      "text/plain": [
       "<flopy.export.netcdf.NetCdf at 0x1099329b0>"
      ]
     },
     "execution_count": 8,
     "metadata": {},
     "output_type": "execute_result"
    }
   ],
   "source": [
    "fnc = ml.export(os.path.join(pth, ml.name + \".in.nc\"))\n",
    "hds = flopy.utils.HeadFile(os.path.join(model_ws, \"freyberg.hds\"))\n",
    "flopy.export.utils.output_helper(\n",
    "    os.path.join(pth, ml.name + \".out.nc\"), ml, {\"hds\": hds}\n",
    ")"
   ]
  },
  {
   "cell_type": "markdown",
   "metadata": {},
   "source": [
    "#### export a single array to netcdf or shapefile"
   ]
  },
  {
   "cell_type": "code",
   "execution_count": 9,
   "metadata": {
    "execution": {
     "iopub.execute_input": "2022-07-30T20:16:20.910508Z",
     "iopub.status.busy": "2022-07-30T20:16:20.910123Z",
     "iopub.status.idle": "2022-07-30T20:16:20.991476Z",
     "shell.execute_reply": "2022-07-30T20:16:20.990653Z"
    }
   },
   "outputs": [
    {
     "name": "stdout",
     "output_type": "stream",
     "text": [
      "initialize_geometry::proj4_str = +proj=longlat +ellps=WGS84 +datum=WGS84 +no_defs\n",
      "initialize_geometry::self.grid_crs = +proj=longlat +ellps=WGS84 +datum=WGS84 +no_defs +type=crs\n",
      "initialize_geometry::nc_crs = epsg:4326\n",
      "transforming coordinates using = proj=noop ellps=GRS80\n",
      "wrote /var/folders/4t/2sbpjbgs1n73t8s7rx4gb_ph0000gn/T/tmpg_t8fkfp/top.shp\n"
     ]
    }
   ],
   "source": [
    "# export a 2d array\n",
    "ml.dis.top.export(os.path.join(pth, \"top.nc\"))\n",
    "ml.dis.top.export(os.path.join(pth, \"top.shp\"))"
   ]
  },
  {
   "cell_type": "markdown",
   "metadata": {},
   "source": [
    "#### sparse export of stress period data for a boundary condition package  \n",
    "* excludes cells that aren't in the package (aren't in `package.stress_period_data`)  \n",
    "* by default, stress periods with duplicate parameter values (e.g., stage, conductance, etc.) are omitted\n",
    "(`squeeze=True`); only stress periods with different values are exported  \n",
    "* argue `squeeze=False` to export all stress periods"
   ]
  },
  {
   "cell_type": "code",
   "execution_count": 10,
   "metadata": {
    "execution": {
     "iopub.execute_input": "2022-07-30T20:16:20.995739Z",
     "iopub.status.busy": "2022-07-30T20:16:20.995113Z",
     "iopub.status.idle": "2022-07-30T20:16:24.311824Z",
     "shell.execute_reply": "2022-07-30T20:16:24.310974Z"
    }
   },
   "outputs": [
    {
     "name": "stdout",
     "output_type": "stream",
     "text": [
      "wrote /var/folders/4t/2sbpjbgs1n73t8s7rx4gb_ph0000gn/T/tmpg_t8fkfp/drn.shp\n"
     ]
    }
   ],
   "source": [
    "ml.drn.stress_period_data.export(os.path.join(pth, \"drn.shp\"), sparse=True)"
   ]
  },
  {
   "cell_type": "markdown",
   "metadata": {},
   "source": [
    "#### Export a 3d array"
   ]
  },
  {
   "cell_type": "code",
   "execution_count": 11,
   "metadata": {
    "execution": {
     "iopub.execute_input": "2022-07-30T20:16:24.315756Z",
     "iopub.status.busy": "2022-07-30T20:16:24.315462Z",
     "iopub.status.idle": "2022-07-30T20:16:24.396675Z",
     "shell.execute_reply": "2022-07-30T20:16:24.395855Z"
    }
   },
   "outputs": [
    {
     "name": "stdout",
     "output_type": "stream",
     "text": [
      "initialize_geometry::proj4_str = +proj=longlat +ellps=WGS84 +datum=WGS84 +no_defs\n",
      "initialize_geometry::self.grid_crs = +proj=longlat +ellps=WGS84 +datum=WGS84 +no_defs +type=crs\n",
      "initialize_geometry::nc_crs = epsg:4326\n",
      "transforming coordinates using = proj=noop ellps=GRS80\n",
      "wrote /var/folders/4t/2sbpjbgs1n73t8s7rx4gb_ph0000gn/T/tmpg_t8fkfp/hk.shp\n"
     ]
    }
   ],
   "source": [
    "# export a 3d array\n",
    "ml.upw.hk.export(os.path.join(pth, \"hk.nc\"))\n",
    "ml.upw.hk.export(os.path.join(pth, \"hk.shp\"))"
   ]
  },
  {
   "cell_type": "markdown",
   "metadata": {},
   "source": [
    "#### Export a number of things to the same netCDF file"
   ]
  },
  {
   "cell_type": "code",
   "execution_count": 12,
   "metadata": {
    "execution": {
     "iopub.execute_input": "2022-07-30T20:16:24.400733Z",
     "iopub.status.busy": "2022-07-30T20:16:24.400350Z",
     "iopub.status.idle": "2022-07-30T20:16:24.461446Z",
     "shell.execute_reply": "2022-07-30T20:16:24.460600Z"
    }
   },
   "outputs": [
    {
     "name": "stdout",
     "output_type": "stream",
     "text": [
      "initialize_geometry::proj4_str = +proj=longlat +ellps=WGS84 +datum=WGS84 +no_defs\n",
      "initialize_geometry::self.grid_crs = +proj=longlat +ellps=WGS84 +datum=WGS84 +no_defs +type=crs\n",
      "initialize_geometry::nc_crs = epsg:4326\n",
      "transforming coordinates using = proj=noop ellps=GRS80\n"
     ]
    },
    {
     "data": {
      "text/plain": [
       "<flopy.export.netcdf.NetCdf at 0x1202223b0>"
      ]
     },
     "execution_count": 12,
     "metadata": {},
     "output_type": "execute_result"
    }
   ],
   "source": [
    "# export lots of things to the same nc file\n",
    "fnc = ml.dis.botm.export(os.path.join(pth, \"test.nc\"))\n",
    "ml.upw.hk.export(fnc)\n",
    "ml.dis.top.export(fnc)\n",
    "\n",
    "# export transient 2d\n",
    "ml.rch.rech.export(fnc)"
   ]
  },
  {
   "cell_type": "markdown",
   "metadata": {},
   "source": [
    "### Export whole packages to a netCDF file"
   ]
  },
  {
   "cell_type": "code",
   "execution_count": 13,
   "metadata": {
    "execution": {
     "iopub.execute_input": "2022-07-30T20:16:24.465073Z",
     "iopub.status.busy": "2022-07-30T20:16:24.464787Z",
     "iopub.status.idle": "2022-07-30T20:16:24.901729Z",
     "shell.execute_reply": "2022-07-30T20:16:24.900858Z"
    }
   },
   "outputs": [
    {
     "name": "stdout",
     "output_type": "stream",
     "text": [
      "initialize_geometry::proj4_str = +proj=longlat +ellps=WGS84 +datum=WGS84 +no_defs\n",
      "initialize_geometry::self.grid_crs = +proj=longlat +ellps=WGS84 +datum=WGS84 +no_defs +type=crs\n",
      "initialize_geometry::nc_crs = epsg:4326\n",
      "transforming coordinates using = proj=noop ellps=GRS80\n"
     ]
    },
    {
     "data": {
      "text/plain": [
       "<class 'netCDF4._netCDF4.Dataset'>\n",
       "root group (NETCDF4 data model, file format HDF5):\n",
       "    Conventions: CF-1.6, ACDD-1.3, flopy 3.3.6\n",
       "    date_created: 2022-07-30T20:16:24Z\n",
       "    geospatial_vertical_positive: up\n",
       "    geospatial_vertical_min: -25.0\n",
       "    geospatial_vertical_max: 4.832500457763672\n",
       "    geospatial_vertical_resolution: variable\n",
       "    featureType: Grid\n",
       "    namefile: freyberg.nam\n",
       "    model_ws: ../data/freyberg_multilayer_transient\n",
       "    exe_name: mf2005.exe\n",
       "    modflow_version: mfnwt\n",
       "    create_hostname: Wess-Mac-Mini.lan\n",
       "    create_platform: Darwin\n",
       "    create_directory: /Users/wes/dev/flopy/examples/Notebooks\n",
       "    solver_head_tolerance: -999\n",
       "    solver_flux_tolerance: -999\n",
       "    flopy_sr_xll: 123456.7\n",
       "    flopy_sr_yll: 765432.1\n",
       "    flopy_sr_rotation: 15.0\n",
       "    flopy_sr_proj4_str: +proj=longlat +ellps=WGS84 +datum=WGS84 +no_defs\n",
       "    start_datetime: 7/4/1776\n",
       "    dimensions(sizes): time(1097), layer(3), y(40), x(20)\n",
       "    variables(dimensions): int32 crs(), float64 time(time), float64 elevation(layer, y, x), float64 longitude(y, x), float64 latitude(y, x), float64 x_proj(y, x), float64 y_proj(y, x), float32 layer(layer), float32 delc(y), float32 delr(x), |S1 VerticalTransform(), float32 wel_flux(time, layer, y, x), float32 hani(layer, y, x), float32 hk(layer, y, x), float32 ss(layer, y, x), float32 sy(layer, y, x), float32 vka(layer, y, x), float32 vkcb(layer, y, x)\n",
       "    groups: "
      ]
     },
     "execution_count": 13,
     "metadata": {},
     "output_type": "execute_result"
    }
   ],
   "source": [
    "# export mflist\n",
    "fnc = ml.wel.export(os.path.join(pth, \"packages.nc\"))\n",
    "ml.upw.export(fnc)\n",
    "fnc.nc"
   ]
  },
  {
   "cell_type": "markdown",
   "metadata": {},
   "source": [
    "### Export the whole model to a netCDF"
   ]
  },
  {
   "cell_type": "code",
   "execution_count": 14,
   "metadata": {
    "execution": {
     "iopub.execute_input": "2022-07-30T20:16:24.905610Z",
     "iopub.status.busy": "2022-07-30T20:16:24.905295Z",
     "iopub.status.idle": "2022-07-30T20:16:28.080756Z",
     "shell.execute_reply": "2022-07-30T20:16:28.079828Z"
    }
   },
   "outputs": [
    {
     "name": "stdout",
     "output_type": "stream",
     "text": [
      "initialize_geometry::proj4_str = +proj=longlat +ellps=WGS84 +datum=WGS84 +no_defs\n",
      "initialize_geometry::self.grid_crs = +proj=longlat +ellps=WGS84 +datum=WGS84 +no_defs +type=crs\n",
      "initialize_geometry::nc_crs = epsg:4326\n",
      "transforming coordinates using = proj=noop ellps=GRS80\n"
     ]
    },
    {
     "data": {
      "text/plain": [
       "<class 'netCDF4._netCDF4.Dataset'>\n",
       "root group (NETCDF4 data model, file format HDF5):\n",
       "    Conventions: CF-1.6, ACDD-1.3, flopy 3.3.6\n",
       "    date_created: 2022-07-30T20:16:24Z\n",
       "    geospatial_vertical_positive: up\n",
       "    geospatial_vertical_min: -25.0\n",
       "    geospatial_vertical_max: 4.832500457763672\n",
       "    geospatial_vertical_resolution: variable\n",
       "    featureType: Grid\n",
       "    namefile: freyberg.nam\n",
       "    model_ws: ../data/freyberg_multilayer_transient\n",
       "    exe_name: mf2005.exe\n",
       "    modflow_version: mfnwt\n",
       "    create_hostname: Wess-Mac-Mini.lan\n",
       "    create_platform: Darwin\n",
       "    create_directory: /Users/wes/dev/flopy/examples/Notebooks\n",
       "    solver_head_tolerance: -999\n",
       "    solver_flux_tolerance: -999\n",
       "    flopy_sr_xll: 123456.7\n",
       "    flopy_sr_yll: 765432.1\n",
       "    flopy_sr_rotation: 15.0\n",
       "    flopy_sr_proj4_str: +proj=longlat +ellps=WGS84 +datum=WGS84 +no_defs\n",
       "    start_datetime: 7/4/1776\n",
       "    dimensions(sizes): time(1097), layer(3), y(40), x(20)\n",
       "    variables(dimensions): int32 crs(), float64 time(time), float64 elevation(layer, y, x), float64 longitude(y, x), float64 latitude(y, x), float64 x_proj(y, x), float64 y_proj(y, x), float32 layer(layer), float32 delc(y), float32 delr(x), |S1 VerticalTransform(), float32 botm(layer, y, x), float32 model_top(y, x), int32 ibound(layer, y, x), float32 strt(layer, y, x), float32 rech(time, layer, y, x), float32 wel_flux(time, layer, y, x), float32 hani(layer, y, x), float32 hk(layer, y, x), float32 ss(layer, y, x), float32 sy(layer, y, x), float32 vka(layer, y, x), float32 vkcb(layer, y, x), float32 drn_elev(time, layer, y, x), float32 drn_cond(time, layer, y, x)\n",
       "    groups: "
      ]
     },
     "execution_count": 14,
     "metadata": {},
     "output_type": "execute_result"
    }
   ],
   "source": [
    "fnc = ml.export(os.path.join(pth, \"model.nc\"))\n",
    "fnc.nc"
   ]
  },
  {
   "cell_type": "markdown",
   "metadata": {},
   "source": [
    "## Export output to netcdf\n",
    "\n",
    "FloPy has utilities to export model outputs to a netcdf file. Valid output types for export are MODFLOW binary head files, formatted head files, cell budget files, seawat concentration files, and zonebudget output.\n",
    "\n",
    "Let's use output from the Freyberg model as an example of these functions"
   ]
  },
  {
   "cell_type": "code",
   "execution_count": 15,
   "metadata": {
    "execution": {
     "iopub.execute_input": "2022-07-30T20:16:28.084835Z",
     "iopub.status.busy": "2022-07-30T20:16:28.084549Z",
     "iopub.status.idle": "2022-07-30T20:16:32.451886Z",
     "shell.execute_reply": "2022-07-30T20:16:32.451025Z"
    }
   },
   "outputs": [
    {
     "name": "stdout",
     "output_type": "stream",
     "text": [
      "initialize_geometry::proj4_str = +proj=longlat +ellps=WGS84 +datum=WGS84 +no_defs\n",
      "initialize_geometry::self.grid_crs = +proj=longlat +ellps=WGS84 +datum=WGS84 +no_defs +type=crs\n",
      "initialize_geometry::nc_crs = epsg:4326\n",
      "transforming coordinates using = proj=noop ellps=GRS80\n"
     ]
    },
    {
     "name": "stdout",
     "output_type": "stream",
     "text": [
      "error getting data for cell_by_cell_flowstorage at time 1.0:list index out of range\n"
     ]
    },
    {
     "name": "stdout",
     "output_type": "stream",
     "text": [
      "error getting data for cell_by_cell_flowstorage at time 1097.0:list index out of range\n"
     ]
    },
    {
     "data": {
      "text/plain": [
       "<class 'netCDF4._netCDF4.Dataset'>\n",
       "root group (NETCDF4 data model, file format HDF5):\n",
       "    Conventions: CF-1.6, ACDD-1.3, flopy 3.3.6\n",
       "    date_created: 2022-07-30T20:16:29Z\n",
       "    geospatial_vertical_positive: up\n",
       "    geospatial_vertical_min: -25.0\n",
       "    geospatial_vertical_max: 4.832500457763672\n",
       "    geospatial_vertical_resolution: variable\n",
       "    featureType: Grid\n",
       "    namefile: freyberg.nam\n",
       "    model_ws: ../data/freyberg_multilayer_transient\n",
       "    exe_name: mf2005.exe\n",
       "    modflow_version: mfnwt\n",
       "    create_hostname: Wess-Mac-Mini.lan\n",
       "    create_platform: Darwin\n",
       "    create_directory: /Users/wes/dev/flopy/examples/Notebooks\n",
       "    solver_head_tolerance: -999\n",
       "    solver_flux_tolerance: -999\n",
       "    flopy_sr_xll: 123456.7\n",
       "    flopy_sr_yll: 765432.1\n",
       "    flopy_sr_rotation: 15.0\n",
       "    flopy_sr_proj4_str: +proj=longlat +ellps=WGS84 +datum=WGS84 +no_defs\n",
       "    start_datetime: 7/4/1776\n",
       "    dimensions(sizes): time(1097), layer(3), y(40), x(20)\n",
       "    variables(dimensions): int32 crs(), float64 time(time), float64 elevation(layer, y, x), float64 longitude(y, x), float64 latitude(y, x), float64 x_proj(y, x), float64 y_proj(y, x), float32 layer(layer), float32 delc(y), float32 delr(x), |S1 VerticalTransform(), float32 head(time, layer, y, x), float32 constant_head(time, layer, y, x), float32 flow_right_face(time, layer, y, x), float32 flow_front_face(time, layer, y, x), float32 flow_lower_face(time, layer, y, x), float32 storage(time, layer, y, x)\n",
       "    groups: "
      ]
     },
     "execution_count": 15,
     "metadata": {},
     "output_type": "execute_result"
    }
   ],
   "source": [
    "# load binary head and cell budget files\n",
    "fhead = os.path.join(model_ws, \"freyberg.hds\")\n",
    "fcbc = os.path.join(model_ws, \"freyberg.cbc\")\n",
    "\n",
    "hds = flopy.utils.HeadFile(fhead)\n",
    "cbc = flopy.utils.CellBudgetFile(fcbc)\n",
    "\n",
    "export_dict = {\"hds\": hds, \"cbc\": cbc}\n",
    "\n",
    "# export head and cell budget outputs to netcdf\n",
    "fnc = flopy.export.utils.output_helper(\n",
    "    os.path.join(pth, \"output.nc\"), ml, export_dict\n",
    ")\n",
    "fnc.nc"
   ]
  },
  {
   "cell_type": "code",
   "execution_count": 16,
   "metadata": {
    "execution": {
     "iopub.execute_input": "2022-07-30T20:16:32.455322Z",
     "iopub.status.busy": "2022-07-30T20:16:32.455041Z",
     "iopub.status.idle": "2022-07-30T20:16:32.461156Z",
     "shell.execute_reply": "2022-07-30T20:16:32.460184Z"
    }
   },
   "outputs": [],
   "source": [
    "try:\n",
    "    # ignore PermissionError on Windows\n",
    "    temp_dir.cleanup()\n",
    "except:\n",
    "    pass"
   ]
  }
 ],
 "metadata": {
  "anaconda-cloud": {},
  "kernelspec": {
   "display_name": "Python 3",
   "language": "python",
   "name": "python3"
  },
  "language_info": {
   "codemirror_mode": {
    "name": "ipython",
    "version": 3
   },
   "file_extension": ".py",
   "mimetype": "text/x-python",
   "name": "python",
   "nbconvert_exporter": "python",
   "pygments_lexer": "ipython3",
   "version": "3.10.5"
  }
 },
 "nbformat": 4,
 "nbformat_minor": 4
}