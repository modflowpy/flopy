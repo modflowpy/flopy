{
 "cells": [
  {
   "cell_type": "markdown",
   "metadata": {},
   "source": [
    "# FloPy\n",
    "\n",
    "### Demo of netCDF and shapefile export capabilities within the flopy export module. "
   ]
  },
  {
   "cell_type": "code",
   "execution_count": 1,
   "metadata": {},
   "outputs": [
    {
     "name": "stdout",
     "output_type": "stream",
     "text": [
      "3.6.4 | packaged by conda-forge | (default, Dec 23 2017, 16:54:01) \n",
      "[GCC 4.2.1 Compatible Apple LLVM 6.1.0 (clang-602.0.53)]\n",
      "flopy version: 3.2.9\n"
     ]
    }
   ],
   "source": [
    "from __future__ import print_function\n",
    "import os\n",
    "import sys\n",
    "\n",
    "# run installed version of flopy or add local path\n",
    "try:\n",
    "    import flopy\n",
    "except:\n",
    "    fpth = os.path.abspath(os.path.join('..', '..'))\n",
    "    sys.path.append(fpth)\n",
    "    import flopy\n",
    "\n",
    "print(sys.version)\n",
    "print('flopy version: {}'.format(flopy.__version__))"
   ]
  },
  {
   "cell_type": "markdown",
   "metadata": {},
   "source": [
    "Load our old friend...the Freyberg model"
   ]
  },
  {
   "cell_type": "code",
   "execution_count": 2,
   "metadata": {},
   "outputs": [],
   "source": [
    "nam_file = \"freyberg.nam\"\n",
    "model_ws = os.path.join(\"..\", \"data\", \"freyberg_multilayer_transient\")\n",
    "ml = flopy.modflow.Modflow.load(nam_file, model_ws=model_ws, check=False)\n"
   ]
  },
  {
   "cell_type": "markdown",
   "metadata": {},
   "source": [
    "We can see the ``SpatialReference`` instance has generic entries, as does ``start_datetime``"
   ]
  },
  {
   "cell_type": "code",
   "execution_count": 3,
   "metadata": {},
   "outputs": [
    {
     "data": {
      "text/plain": [
       "xul:619653; yul:3353277; rotation:15; proj4_str:+proj=utm +zone=14 +ellps=WGS84 +datum=WGS84 +units=m +no_defs; units:meters; lenuni:2; length_multiplier:1.0"
      ]
     },
     "execution_count": 3,
     "metadata": {},
     "output_type": "execute_result"
    }
   ],
   "source": [
    "ml.dis.sr"
   ]
  },
  {
   "cell_type": "code",
   "execution_count": 4,
   "metadata": {},
   "outputs": [
    {
     "data": {
      "text/plain": [
       "'1/1/2015'"
      ]
     },
     "execution_count": 4,
     "metadata": {},
     "output_type": "execute_result"
    }
   ],
   "source": [
    "ml.dis.start_datetime"
   ]
  },
  {
   "cell_type": "markdown",
   "metadata": {},
   "source": [
    "Setting the attributes of the ``ml.dis.sr`` is easy:"
   ]
  },
  {
   "cell_type": "code",
   "execution_count": 5,
   "metadata": {},
   "outputs": [
    {
     "data": {
      "text/plain": [
       "xul:123456.7; yul:765432.1; rotation:15; proj4_str:+proj=utm +zone=14 +ellps=WGS84 +datum=WGS84 +units=m +no_defs; units:meters; lenuni:2; length_multiplier:1.0"
      ]
     },
     "execution_count": 5,
     "metadata": {},
     "output_type": "execute_result"
    }
   ],
   "source": [
    "ml.dis.sr.xul = 123456.7\n",
    "ml.dis.sr.yul = 765432.1\n",
    "rotation = 15.0\n",
    "proj4_str = \"+proj=longlat +ellps=WGS84 +datum=WGS84 +no_defs\"\n",
    "ml.dis.start_datetime = '7/4/1776'\n",
    "ml.dis.sr"
   ]
  },
  {
   "cell_type": "code",
   "execution_count": 6,
   "metadata": {},
   "outputs": [
    {
     "data": {
      "text/plain": [
       "'7/4/1776'"
      ]
     },
     "execution_count": 6,
     "metadata": {},
     "output_type": "execute_result"
    }
   ],
   "source": [
    "ml.dis.start_datetime"
   ]
  },
  {
   "cell_type": "markdown",
   "metadata": {},
   "source": [
    "### Some netCDF export capabilities:\n",
    "\n",
    "#### Export the whole model (inputs and outputs)"
   ]
  },
  {
   "cell_type": "code",
   "execution_count": 7,
   "metadata": {},
   "outputs": [],
   "source": [
    "# make directory\n",
    "pth = os.path.join('data', 'netCDF_export')\n",
    "if not os.path.exists(pth):\n",
    "    os.makedirs(pth)"
   ]
  },
  {
   "cell_type": "code",
   "execution_count": 8,
   "metadata": {},
   "outputs": [
    {
     "data": {
      "text/plain": [
       "<flopy.export.netcdf.NetCdf at 0x11706f908>"
      ]
     },
     "execution_count": 8,
     "metadata": {},
     "output_type": "execute_result"
    }
   ],
   "source": [
    "fnc = ml.export(os.path.join(pth, ml.name+'.in.nc'))\n",
    "hds = flopy.utils.HeadFile(os.path.join(model_ws,\"freyberg.hds\"))\n",
    "flopy.export.utils.output_helper(os.path.join(pth, ml.name+'.out.nc'), ml, {\"hds\":hds})"
   ]
  },
  {
   "cell_type": "markdown",
   "metadata": {},
   "source": [
    "#### export a single array to netcdf or shapefile"
   ]
  },
  {
   "cell_type": "code",
   "execution_count": 9,
   "metadata": {},
   "outputs": [
    {
     "name": "stdout",
     "output_type": "stream",
     "text": [
      "wrote data/netCDF_export/top.shp\n"
     ]
    }
   ],
   "source": [
    "# export a 2d array\n",
    "ml.dis.top.export(os.path.join(pth, 'top.nc'))\n",
    "ml.dis.top.export(os.path.join(pth, 'top.shp'))"
   ]
  },
  {
   "cell_type": "markdown",
   "metadata": {},
   "source": [
    "#### sparse export of stress period data for a boundary condition package  \n",
    "* excludes cells that aren't in the package (aren't in `package.stress_period_data`)  \n",
    "* by default, stress periods with duplicate parameter values (e.g., stage, conductance, etc.) are omitted\n",
    "(`squeeze=True`); only stress periods with different values are exported  \n",
    "* argue `squeeze=False` to export all stress periods"
   ]
  },
  {
   "cell_type": "code",
   "execution_count": 10,
   "metadata": {},
   "outputs": [
    {
     "name": "stdout",
     "output_type": "stream",
     "text": [
      "wrote data/netCDF_export/drn.shp\n"
     ]
    }
   ],
   "source": [
    "ml.drn.stress_period_data.export(os.path.join(pth, 'drn.shp'), sparse=True)"
   ]
  },
  {
   "cell_type": "markdown",
   "metadata": {},
   "source": [
    "#### Export a 3d array"
   ]
  },
  {
   "cell_type": "code",
   "execution_count": 11,
   "metadata": {},
   "outputs": [
    {
     "name": "stdout",
     "output_type": "stream",
     "text": [
      "wrote data/netCDF_export/hk.shp\n"
     ]
    }
   ],
   "source": [
    "#export a 3d array\n",
    "ml.upw.hk.export(os.path.join(pth, 'hk.nc'))\n",
    "ml.upw.hk.export(os.path.join(pth, 'hk.shp'))"
   ]
  },
  {
   "cell_type": "markdown",
   "metadata": {},
   "source": [
    "#### Export a number of things to the same netCDF file"
   ]
  },
  {
   "cell_type": "code",
   "execution_count": 12,
   "metadata": {},
   "outputs": [
    {
     "data": {
      "text/plain": [
       "<flopy.export.netcdf.NetCdf at 0x11f40fd30>"
      ]
     },
     "execution_count": 12,
     "metadata": {},
     "output_type": "execute_result"
    }
   ],
   "source": [
    "# export lots of things to the same nc file\n",
    "fnc = ml.dis.botm.export(os.path.join(pth, 'test.nc'))\n",
    "ml.upw.hk.export(fnc)\n",
    "ml.dis.top.export(fnc)\n",
    "\n",
    "# export transient 2d\n",
    "ml.rch.rech.export(fnc)\n"
   ]
  },
  {
   "cell_type": "markdown",
   "metadata": {},
   "source": [
    "### Export whole packages to a netCDF file"
   ]
  },
  {
   "cell_type": "code",
   "execution_count": 13,
   "metadata": {},
   "outputs": [
    {
     "data": {
      "text/plain": [
       "<class 'netCDF4._netCDF4.Dataset'>\n",
       "root group (NETCDF4 data model, file format HDF5):\n",
       "    Conventions: CF-1.6, ACDD-1.3, flopy 3.2.9\n",
       "    date_created: 2018-02-19T16:31:00Z\n",
       "    geospatial_vertical_positive: up\n",
       "    geospatial_vertical_min: -25.0\n",
       "    geospatial_vertical_max: 4.832500457763672\n",
       "    geospatial_vertical_resolution: variable\n",
       "    featureType: Grid\n",
       "    namefile: freyberg.nam\n",
       "    model_ws: ../data/freyberg_multilayer_transient\n",
       "    exe_name: mf2005.exe\n",
       "    modflow_version: mfnwt\n",
       "    create_hostname: IGSAAAHMLTW272M.home\n",
       "    create_platform: Darwin\n",
       "    create_directory: /Users/jdhughes/Documents/Development/flopy_git/examples/Notebooks\n",
       "    solver_head_tolerance: 0.01\n",
       "    solver_flux_tolerance: 500.0\n",
       "    flopy_sr_xul: 123456.7\n",
       "    flopy_sr_yul: 765432.1\n",
       "    flopy_sr_rotation: 15.0\n",
       "    flopy_sr_proj4_str: +proj=utm +zone=14 +ellps=WGS84 +datum=WGS84 +units=m +no_defs\n",
       "    start_datetime: 1/1/2015\n",
       "    dimensions(sizes): time(1097), layer(3), y(40), x(20)\n",
       "    variables(dimensions): int32 \u001b[4mcrs\u001b[0m(), float64 \u001b[4mtime\u001b[0m(time), float64 \u001b[4melevation\u001b[0m(layer,y,x), float64 \u001b[4mlongitude\u001b[0m(y,x), float64 \u001b[4mlatitude\u001b[0m(y,x), float64 \u001b[4mx_proj\u001b[0m(y,x), float64 \u001b[4my_proj\u001b[0m(y,x), float32 \u001b[4mlayer\u001b[0m(layer), float32 \u001b[4mdelc\u001b[0m(y), float32 \u001b[4mdelr\u001b[0m(x), |S1 \u001b[4mVerticalTransform\u001b[0m(), float32 \u001b[4mwel_flux\u001b[0m(time,layer,y,x), float32 \u001b[4mhani\u001b[0m(layer,y,x), float32 \u001b[4mhk\u001b[0m(layer,y,x), float32 \u001b[4mss\u001b[0m(layer,y,x), float32 \u001b[4msy\u001b[0m(layer,y,x), float32 \u001b[4mvka\u001b[0m(layer,y,x), float32 \u001b[4mvkcb\u001b[0m(layer,y,x)\n",
       "    groups: "
      ]
     },
     "execution_count": 13,
     "metadata": {},
     "output_type": "execute_result"
    }
   ],
   "source": [
    "# export mflist\n",
    "fnc = ml.wel.export(os.path.join(pth, 'packages.nc'))\n",
    "ml.upw.export(fnc)\n",
    "fnc.nc"
   ]
  },
  {
   "cell_type": "markdown",
   "metadata": {},
   "source": [
    "### Export the whole model to a netCDF"
   ]
  },
  {
   "cell_type": "code",
   "execution_count": 14,
   "metadata": {},
   "outputs": [
    {
     "data": {
      "text/plain": [
       "<class 'netCDF4._netCDF4.Dataset'>\n",
       "root group (NETCDF4 data model, file format HDF5):\n",
       "    Conventions: CF-1.6, ACDD-1.3, flopy 3.2.9\n",
       "    date_created: 2018-02-19T16:31:00Z\n",
       "    geospatial_vertical_positive: up\n",
       "    geospatial_vertical_min: -25.0\n",
       "    geospatial_vertical_max: 4.832500457763672\n",
       "    geospatial_vertical_resolution: variable\n",
       "    featureType: Grid\n",
       "    namefile: freyberg.nam\n",
       "    model_ws: ../data/freyberg_multilayer_transient\n",
       "    exe_name: mf2005.exe\n",
       "    modflow_version: mfnwt\n",
       "    create_hostname: IGSAAAHMLTW272M.home\n",
       "    create_platform: Darwin\n",
       "    create_directory: /Users/jdhughes/Documents/Development/flopy_git/examples/Notebooks\n",
       "    solver_head_tolerance: 0.01\n",
       "    solver_flux_tolerance: 500.0\n",
       "    flopy_sr_xul: 123456.7\n",
       "    flopy_sr_yul: 765432.1\n",
       "    flopy_sr_rotation: 15.0\n",
       "    flopy_sr_proj4_str: +proj=utm +zone=14 +ellps=WGS84 +datum=WGS84 +units=m +no_defs\n",
       "    start_datetime: 1/1/2015\n",
       "    dimensions(sizes): time(1097), layer(3), y(40), x(20)\n",
       "    variables(dimensions): int32 \u001b[4mcrs\u001b[0m(), float64 \u001b[4mtime\u001b[0m(time), float64 \u001b[4melevation\u001b[0m(layer,y,x), float64 \u001b[4mlongitude\u001b[0m(y,x), float64 \u001b[4mlatitude\u001b[0m(y,x), float64 \u001b[4mx_proj\u001b[0m(y,x), float64 \u001b[4my_proj\u001b[0m(y,x), float32 \u001b[4mlayer\u001b[0m(layer), float32 \u001b[4mdelc\u001b[0m(y), float32 \u001b[4mdelr\u001b[0m(x), |S1 \u001b[4mVerticalTransform\u001b[0m(), float32 \u001b[4mbotm\u001b[0m(layer,y,x), float32 \u001b[4mthickness\u001b[0m(layer,y,x), float32 \u001b[4mmodel_top\u001b[0m(y,x), int32 \u001b[4mibound\u001b[0m(layer,y,x), float32 \u001b[4mstrt\u001b[0m(layer,y,x), float32 \u001b[4mrech\u001b[0m(time,layer,y,x), float32 \u001b[4mwel_flux\u001b[0m(time,layer,y,x), float32 \u001b[4mhani\u001b[0m(layer,y,x), float32 \u001b[4mhk\u001b[0m(layer,y,x), float32 \u001b[4mss\u001b[0m(layer,y,x), float32 \u001b[4msy\u001b[0m(layer,y,x), float32 \u001b[4mvka\u001b[0m(layer,y,x), float32 \u001b[4mvkcb\u001b[0m(layer,y,x), float32 \u001b[4mdrn_elev\u001b[0m(time,layer,y,x), float32 \u001b[4mdrn_cond\u001b[0m(time,layer,y,x)\n",
       "    groups: "
      ]
     },
     "execution_count": 14,
     "metadata": {},
     "output_type": "execute_result"
    }
   ],
   "source": [
    "fnc = ml.export(os.path.join(pth, 'model.nc'))\n",
    "fnc.nc"
   ]
  },
  {
   "cell_type": "code",
   "execution_count": null,
   "metadata": {},
   "outputs": [],
   "source": []
  }
 ],
 "metadata": {
  "anaconda-cloud": {},
  "kernelspec": {
   "display_name": "Python 3",
   "language": "python",
   "name": "python3"
  },
  "language_info": {
   "codemirror_mode": {
    "name": "ipython",
    "version": 3
   },
   "file_extension": ".py",
   "mimetype": "text/x-python",
   "name": "python",
   "nbconvert_exporter": "python",
   "pygments_lexer": "ipython3",
   "version": "3.6.4"
  }
 },
 "nbformat": 4,
 "nbformat_minor": 1
}
