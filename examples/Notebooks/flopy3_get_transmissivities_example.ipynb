{
 "cells": [
  {
   "cell_type": "markdown",
   "metadata": {},
   "source": [
    "### Demonstration of `flopy.utils.get_transmissivities` method\n",
    "for computing open interval transmissivities (for weighted averages of heads or fluxes)\n",
    "In practice this method might be used to:  \n",
    "\n",
    "* compute vertically-averaged head target values representative of observation wells of varying open intervals (including variability in saturated thickness due to the position of the water table)\n",
    "* apportion boundary fluxes (e.g. from an analytic element model) among model layers based on transmissivity.\n",
    "* any other analysis where a distribution of transmissivity by layer is needed for a specified vertical interval of the model."
   ]
  },
  {
   "cell_type": "code",
   "execution_count": 1,
   "metadata": {},
   "outputs": [
    {
     "name": "stdout",
     "output_type": "stream",
     "text": [
      "3.6.4 | packaged by conda-forge | (default, Dec 23 2017, 16:54:01) \n",
      "[GCC 4.2.1 Compatible Apple LLVM 6.1.0 (clang-602.0.53)]\n",
      "numpy version: 1.14.0\n",
      "matplotlib version: 2.1.2\n",
      "flopy version: 3.2.9\n"
     ]
    }
   ],
   "source": [
    "%matplotlib inline\n",
    "import os\n",
    "import sys\n",
    "import numpy as np\n",
    "import matplotlib as mpl\n",
    "import matplotlib.pyplot as plt\n",
    "\n",
    "# run installed version of flopy or add local path\n",
    "try:\n",
    "    import flopy\n",
    "except:\n",
    "    fpth = os.path.abspath(os.path.join('..', '..'))\n",
    "    sys.path.append(fpth)\n",
    "    import flopy\n",
    "\n",
    "print(sys.version)\n",
    "print('numpy version: {}'.format(np.__version__))\n",
    "print('matplotlib version: {}'.format(mpl.__version__))\n",
    "print('flopy version: {}'.format(flopy.__version__))"
   ]
  },
  {
   "cell_type": "markdown",
   "metadata": {},
   "source": [
    "### Make up some open interval tops and bottoms and some heads\n",
    "* (these could be lists of observation well screen tops and bottoms)\n",
    "* the heads array contains the simulated head in each model layer,\n",
    "  at the location of each observation well (for example, what you would get back from HYDMOD if you had an entry for each layer at the location of each head target).\n",
    "* make up a model grid with uniform horizontal k of 2."
   ]
  },
  {
   "cell_type": "code",
   "execution_count": 2,
   "metadata": {},
   "outputs": [
    {
     "data": {
      "text/plain": [
       "array([[[2., 2., 2., 2., 2., 2.],\n",
       "        [2., 2., 2., 2., 2., 2.],\n",
       "        [2., 2., 2., 2., 2., 2.],\n",
       "        [2., 2., 2., 2., 2., 2.],\n",
       "        [2., 2., 2., 2., 2., 2.],\n",
       "        [2., 2., 2., 2., 2., 2.]],\n",
       "\n",
       "       [[1., 1., 1., 1., 1., 1.],\n",
       "        [1., 1., 1., 1., 1., 1.],\n",
       "        [1., 1., 1., 1., 1., 1.],\n",
       "        [1., 1., 1., 1., 1., 1.],\n",
       "        [1., 1., 1., 1., 1., 1.],\n",
       "        [1., 1., 1., 1., 1., 1.]],\n",
       "\n",
       "       [[0., 0., 0., 0., 0., 0.],\n",
       "        [0., 0., 0., 0., 0., 0.],\n",
       "        [0., 0., 0., 0., 0., 0.],\n",
       "        [0., 0., 0., 0., 0., 0.],\n",
       "        [0., 0., 0., 0., 0., 0.],\n",
       "        [0., 0., 0., 0., 0., 0.]]])"
      ]
     },
     "execution_count": 2,
     "metadata": {},
     "output_type": "execute_result"
    }
   ],
   "source": [
    "sctop = [-.25, .5, 1.7, 1.5, 3., 2.5] # screen tops\n",
    "scbot = [-1., -.5, 1.2, 0.5, 1.5, -.2] # screen bottoms\n",
    "# head in each layer, for 6 head target locations\n",
    "heads = np.array([[1., 2.0, 2.05, 3., 4., 2.5],\n",
    "                  [1.1, 2.1, 2.2, 2., 3.5, 3.],\n",
    "                  [1.2, 2.3, 2.4, 0.6, 3.4, 3.2]\n",
    "        ])\n",
    "nl, nr = heads.shape\n",
    "nc = nr\n",
    "botm = np.ones((nl, nr, nc), dtype=float)\n",
    "top = np.ones((nr, nc), dtype=float) * 2.1\n",
    "hk = np.ones((nl, nr, nc), dtype=float) * 2.\n",
    "for i in range(nl):\n",
    "    botm[nl-i-1, :, :] = i\n",
    "botm"
   ]
  },
  {
   "cell_type": "markdown",
   "metadata": {},
   "source": [
    "### Make a flopy modflow model"
   ]
  },
  {
   "cell_type": "code",
   "execution_count": 3,
   "metadata": {},
   "outputs": [],
   "source": [
    "m = flopy.modflow.Modflow('junk', version='mfnwt', model_ws='data')\n",
    "dis = flopy.modflow.ModflowDis(m, nlay=nl, nrow=nr, ncol=nc, botm=botm, top=top)\n",
    "upw = flopy.modflow.ModflowUpw(m, hk=hk)"
   ]
  },
  {
   "cell_type": "markdown",
   "metadata": {},
   "source": [
    "### Get transmissivities along the diagonal cells\n",
    "* alternatively, if a model `SpatialReference` has been set up, the real-world x and y coordinates could be supplied with the `x` and `y` arguments\n",
    "* if `sctop` and `scbot` arguments are given, the transmissivites are computed for the open intervals only\n",
    "  (cells that are partially within the open interval have reduced thickness, cells outside of the open interval have transmissivities of 0). If no `sctop` or `scbot` arguments are supplied, trasmissivites reflect the full saturated thickness in each column of cells (see plot below, which shows different open intervals relative to the model layering)"
   ]
  },
  {
   "cell_type": "code",
   "execution_count": 4,
   "metadata": {},
   "outputs": [
    {
     "data": {
      "text/plain": [
       "array([[0. , 0. , 0. , 0. , 0.2, 0.2],\n",
       "       [0. , 0. , 1. , 1. , 1. , 2. ],\n",
       "       [2. , 1. , 0. , 0.2, 0. , 2. ]])"
      ]
     },
     "execution_count": 4,
     "metadata": {},
     "output_type": "execute_result"
    }
   ],
   "source": [
    "r, c = np.arange(nr), np.arange(nc)\n",
    "T = flopy.utils.get_transmissivities(heads, m, r=r, c=c, sctop=sctop, scbot=scbot)\n",
    "np.round(T, 2)"
   ]
  },
  {
   "cell_type": "code",
   "execution_count": 5,
   "metadata": {},
   "outputs": [
    {
     "data": {
      "text/plain": [
       "array([[2., 2., 2., 2., 2., 2.],\n",
       "       [1., 1., 1., 1., 1., 1.],\n",
       "       [0., 0., 0., 0., 0., 0.]], dtype=float32)"
      ]
     },
     "execution_count": 5,
     "metadata": {},
     "output_type": "execute_result"
    }
   ],
   "source": [
    "m.dis.botm.array[:, r, c]"
   ]
  },
  {
   "cell_type": "markdown",
   "metadata": {},
   "source": [
    "### Plot the model top and layer bottoms (colors)\n",
    "open intervals are shown as boxes\n",
    "* well 0 has zero transmissivities for each layer, as it is below the model bottom\n",
    "* well 1 has T values of 0 for layers 1 and 2, and 1 for layer 3 (K=2 x 0.5 thickness)"
   ]
  },
  {
   "cell_type": "code",
   "execution_count": 6,
   "metadata": {},
   "outputs": [
    {
     "data": {
      "text/plain": [
       "<matplotlib.legend.Legend at 0x12022f668>"
      ]
     },
     "execution_count": 6,
     "metadata": {},
     "output_type": "execute_result"
    },
    {
     "data": {
      "image/png": "[encoded data removed]",
      "text/plain": [
       "<matplotlib.figure.Figure at 0x11e1af6a0>"
      ]
     },
     "metadata": {},
     "output_type": "display_data"
    }
   ],
   "source": [
    "fig, ax = plt.subplots()\n",
    "plt.plot(m.dis.top.array[r, c], label='model top')\n",
    "for i, l in enumerate(m.dis.botm.array[:, r, c]):\n",
    "    label = 'layer {} bot'.format(i+1)\n",
    "    if i == m.nlay -1:\n",
    "        label = 'model bot'\n",
    "    plt.plot(l, label=label)\n",
    "plt.plot(heads[0], label='piezometric surface', color='b', linestyle=':')\n",
    "for iw in range(len(sctop)):\n",
    "    ax.fill_between([iw-.25, iw+.25], scbot[iw], sctop[iw], \n",
    "                    facecolor='None', edgecolor='k')\n",
    "ax.legend(loc=2)"
   ]
  },
  {
   "cell_type": "markdown",
   "metadata": {},
   "source": [
    "### example of transmissivites without `sctop` and `scbot`\n",
    "* well zero has T=0 in layer 1 because it is dry; T=0.2 in layer 2 because the sat. thickness there is only 0.1"
   ]
  },
  {
   "cell_type": "code",
   "execution_count": 7,
   "metadata": {},
   "outputs": [
    {
     "data": {
      "text/plain": [
       "array([[0. , 0. , 0.1, 0.2, 0.2, 0.2],\n",
       "       [0.2, 2. , 2. , 2. , 2. , 2. ],\n",
       "       [2. , 2. , 2. , 1.2, 2. , 2. ]])"
      ]
     },
     "execution_count": 7,
     "metadata": {},
     "output_type": "execute_result"
    }
   ],
   "source": [
    "T = flopy.utils.get_transmissivities(heads, m, r=r, c=c)\n",
    "np.round(T, 2)"
   ]
  },
  {
   "cell_type": "code",
   "execution_count": null,
   "metadata": {},
   "outputs": [],
   "source": []
  }
 ],
 "metadata": {
  "anaconda-cloud": {},
  "kernelspec": {
   "display_name": "Python 3",
   "language": "python",
   "name": "python3"
  },
  "language_info": {
   "codemirror_mode": {
    "name": "ipython",
    "version": 3
   },
   "file_extension": ".py",
   "mimetype": "text/x-python",
   "name": "python",
   "nbconvert_exporter": "python",
   "pygments_lexer": "ipython3",
   "version": "3.6.4"
  }
 },
 "nbformat": 4,
 "nbformat_minor": 1
}
