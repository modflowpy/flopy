{
 "cells": [
  {
   "cell_type": "markdown",
   "metadata": {},
   "source": [
    "# <a id=\"top\"></a>Intersecting grids with shapes\n",
    "\n",
    "_Note: This feature requires the shapely module (which is not a dependency of flopy) so must be installed by the user._\n",
    "\n",
    "This notebook shows the grid intersection functionality in flopy. The intersection methods are available through the GridIntersect object. A flopy model grid is passed to instantiate the object. Then the modelgrid can be intersected with Points, LineStrings and Polygons through the different intersect methods. There are two intersection modes: \n",
    "- the first (default mode) is accessed by passing `method='strtree'` to `GridIntersect` and converts the modelgrid to a list of shapes that are sorted into an STR-tree to allow fast spatial queries. This works on structured and vertex grids.\n",
    "- the second only works on structured grids and is accessed by passing `method='structured'` to `GridIntersect`. These methods use information from the structured grid to limit the search space for intersections and are generally faster.\n",
    "\n",
    "This notebook showcases the functionality of the GridIntersect class. \n",
    "\n",
    "\n",
    "### Table of Contents\n",
    "- [GridIntersect Class](#gridclass)\n",
    "- [Rectangular regular grid](#rectgrid)\n",
    "    - [Polygon with regular grid](#rectgrid.1)\n",
    "    - [Polyline with regular grid](#rectgrid.2)\n",
    "    - [MultiPoint with regular grid](#rectgrid.3)\n",
    "- [Triangular grid](#trigrid)\n",
    "    - [Polygon with triangular grid](#trigrid.1)\n",
    "    - [Polyline with triangular grid](#trigrid.2)\n",
    "    - [MultiPoint with triangular grid](#trigrid.3)\n",
    "- [Tests](#tests)\n",
    "- [Timings](#timings)"
   ]
  },
  {
   "cell_type": "markdown",
   "metadata": {},
   "source": [
    "Import some stuff"
   ]
  },
  {
   "cell_type": "code",
   "execution_count": 53,
   "metadata": {},
   "outputs": [
    {
     "name": "stdout",
     "output_type": "stream",
     "text": [
      "3.7.3 (default, Mar 27 2019, 17:13:21) [MSC v.1915 64 bit (AMD64)]\n",
      "numpy version: 1.16.2\n",
      "matplotlib version: 3.0.3\n",
      "flopy version: 3.2.13\n"
     ]
    }
   ],
   "source": [
    "import sys\n",
    "import os\n",
    "import platform\n",
    "import numpy as np\n",
    "import matplotlib as mpl\n",
    "import matplotlib.pyplot as plt\n",
    "\n",
    "# run installed version of flopy or add local path\n",
    "try:\n",
    "    import flopy\n",
    "    import flopy.discretization as fgrid\n",
    "    import flopy.plot as fplot\n",
    "    from flopy.utils.triangle import Triangle as Triangle\n",
    "    from flopy.utils.gridintersect import GridIntersect\n",
    "except:\n",
    "    fpth = os.path.abspath(os.path.join('..', '..'))\n",
    "    sys.path.append(fpth)\n",
    "    import flopy\n",
    "    import flopy.discretization as fgrid\n",
    "    import flopy.plot as fplot\n",
    "    from flopy.utils.triangle import Triangle as Triangle\n",
    "    from flopy.utils.gridintersect import GridIntersect\n",
    "\n",
    "import shapely\n",
    "from shapely.geometry import Polygon, Point, LineString, MultiLineString, MultiPoint, MultiPolygon\n",
    "from shapely.strtree import STRtree    \n",
    "\n",
    "print(sys.version)\n",
    "print('numpy version: {}'.format(np.__version__))\n",
    "print('matplotlib version: {}'.format(mpl.__version__))\n",
    "print('flopy version: {}'.format(flopy.__version__))"
   ]
  },
  {
   "cell_type": "code",
   "execution_count": 54,
   "metadata": {},
   "outputs": [],
   "source": [
    "triangle_exe = None"
   ]
  },
  {
   "cell_type": "markdown",
   "metadata": {},
   "source": [
    "## <a id=\"gridclass\"></a>[GridIntersect Class](#top)\n",
    "\n",
    "This GridIntersect class takes a flopy.mfgrid and by default converts it to a list of Shapely geometries and builds a STRTree which can be used to efficiently query the grid to perform intersections. If the method is set to 'structured', the STR-tree is not built and different intersection methods are applied (written by Chris Langevin). The following methods are available:\n",
    "- ` _rect_grid_to_shape_list`: convert rectangular (structured) modflow grid to list of shapely geometries\n",
    "- `_sort_strtree_result`: sort STRTree by cellid (to ensure lowest cellid is returned when shapes intersect with multiple grid cells)\n",
    "- `_usg_grid_to_shape_list`: not yet implemented, convert unstructured grid to list of shapely geometries\n",
    "- `_vtx_grid_to_shape_list`: convert vertex modflow grid to list of shapely geometries\n",
    "- `_intersect_point_shapely`: intersect Shapely point with grid\n",
    "- `_intersect_polygon_shapely`: intersect Shapely Polygon with grid\n",
    "- `_intersect_linestring_shapely`: intersect Shapely LineString with grid\n",
    "- `_intersect_point_structured`: intersect Shapely point with grid, using optimized search for structured grids\n",
    "- `_intersect_polygon_structured`: intersect Shapely Polygon with grid, using optimized search for structured grids\n",
    "- `_intersect_rectangle_structured`: intersect rectangle with grid to get intersecting node ids\n",
    "- `_intersect_linestring_structured`: intersect Shapely LineString with structured grid, using optimized search for structured grids\n",
    "- `_check_adjacent_cells_intersecting_line`: helper function to check adjacent cells in a structured grid for line intersections\n",
    "- `_get_nodes_intersecting_linestring`: helper function to follow linestring through structured grid\n",
    "- `intersect_point`: intersect point with grid, method depends on whether 'structured' or 'strtree' is passed at intialization.\n",
    "- `intersect_linestring`: intersect linestring with grid, method depends on whether 'structured' or 'strtree' is passed at intialization.\n",
    "- `intersect_polygon`: intersect polygon with grid, method depends on whether 'structured' or 'strtree' is passed at intialization.\n",
    "- `plot_point`: plot intersect result for point\n",
    "- `plot_polygon`: plot intersect result for polygons\n",
    "- `plot_polyline`: plot intersect result for linestrings"
   ]
  },
  {
   "cell_type": "markdown",
   "metadata": {},
   "source": [
    "## <a id=\"rectgrid\"></a>[Rectangular regular grid](#top)"
   ]
  },
  {
   "cell_type": "code",
   "execution_count": 55,
   "metadata": {},
   "outputs": [],
   "source": [
    "delc = 10*np.ones(10, dtype=np.float)\n",
    "delr = 10*np.ones(10, dtype=np.float)"
   ]
  },
  {
   "cell_type": "code",
   "execution_count": 56,
   "metadata": {},
   "outputs": [],
   "source": [
    "xoff = 0.\n",
    "yoff = 0.\n",
    "angrot = 0.\n",
    "sgr = fgrid.StructuredGrid(delc, delr, top=None, botm=None, xoff=xoff, yoff=yoff, angrot=angrot)"
   ]
  },
  {
   "cell_type": "code",
   "execution_count": 57,
   "metadata": {},
   "outputs": [
    {
     "data": {
      "text/plain": [
       "<matplotlib.collections.LineCollection at 0x18460fe4cc0>"
      ]
     },
     "execution_count": 57,
     "metadata": {},
     "output_type": "execute_result"
    },
    {
     "data": {
      "image/png": "[encoded data removed]",
      "text/plain": [
       "<Figure size 432x288 with 1 Axes>"
      ]
     },
     "metadata": {
      "needs_background": "light"
     },
     "output_type": "display_data"
    }
   ],
   "source": [
    "sgr.plot()"
   ]
  },
  {
   "cell_type": "markdown",
   "metadata": {},
   "source": [
    "### <a id=\"rectgrid.1\"></a>[Polygon with regular grid](#top)\n",
    "Polygon to intersect with:"
   ]
  },
  {
   "cell_type": "code",
   "execution_count": 58,
   "metadata": {},
   "outputs": [],
   "source": [
    "p = Polygon(shell=[(15, 15), (20, 50), (35, 80.), (80, 50), (80, 40), (40, 5), (15, 12)], \n",
    "            holes=[[(25, 25), (25, 45), (45, 45), (45, 25)]])"
   ]
  },
  {
   "cell_type": "markdown",
   "metadata": {},
   "source": [
    "Create GridIntersect class"
   ]
  },
  {
   "cell_type": "code",
   "execution_count": 59,
   "metadata": {},
   "outputs": [],
   "source": [
    "ix = GridIntersect(sgr)"
   ]
  },
  {
   "cell_type": "markdown",
   "metadata": {},
   "source": [
    "Do the intersect operation for a polygon"
   ]
  },
  {
   "cell_type": "code",
   "execution_count": 60,
   "metadata": {},
   "outputs": [],
   "source": [
    "result = ix.intersect_polygon(p)"
   ]
  },
  {
   "cell_type": "code",
   "execution_count": 61,
   "metadata": {},
   "outputs": [
    {
     "name": "stdout",
     "output_type": "stream",
     "text": [
      "8.05 ms ± 435 µs per loop (mean ± std. dev. of 7 runs, 100 loops each)\n"
     ]
    }
   ],
   "source": [
    "%timeit ix.intersect_polygon(p)"
   ]
  },
  {
   "cell_type": "markdown",
   "metadata": {},
   "source": [
    "The results are returned as a numpy.recarray containing several fields based on the intersection performed. An explanation of the data in each of the possible fields is given below:\n",
    "- cellids: contains the cell ids of the intersected grid cells\n",
    "- vertices: contains the vertices of the intersected shape\n",
    "- areas: contains the area of the polygon in that grid cell (only for polygons)\n",
    "- lenghts: contains the length of the linestring in that grid cell (only for linestrings)\n",
    "- ixshapes: contains the shapely object representing the intersected shape (useful for plotting the result)\n",
    "\n",
    "Looking at the data for the polygon intersection (convert to pandas.DataFrame for prettier formatting)"
   ]
  },
  {
   "cell_type": "code",
   "execution_count": 62,
   "metadata": {},
   "outputs": [
    {
     "data": {
      "text/plain": [
       "rec.array([((2, 3), (((30.0, 70.0), (35.0, 80.0), (40.0, 76.66666666666667), (40.0, 70.0), (30.0, 70.0)),),  66.66666667, <shapely.geometry.polygon.Polygon object at 0x000001846100FC18>),\n",
       "           ((2, 4), (((40.0, 76.66666666666667), (50.0, 70.0), (40.0, 70.0), (40.0, 76.66666666666667)),),  33.33333333, <shapely.geometry.polygon.Polygon object at 0x0000018461014B70>),\n",
       "           ((3, 2), (((25.0, 60.0), (30.0, 70.0), (30.0, 60.0), (25.0, 60.0)),),  25.        , <shapely.geometry.polygon.Polygon object at 0x000001846100FF98>),\n",
       "           ((3, 3), (((30.0, 70.0), (40.0, 70.0), (40.0, 60.0), (30.0, 60.0), (30.0, 70.0)),), 100.        , <shapely.geometry.polygon.Polygon object at 0x000001846100F940>),\n",
       "           ((3, 4), (((40.0, 70.0), (50.0, 70.0), (50.0, 60.0), (40.0, 60.0), (40.0, 70.0)),), 100.        , <shapely.geometry.polygon.Polygon object at 0x000001846100FE80>),\n",
       "           ((3, 5), (((50.0, 70.0), (60.0, 63.333333333333336), (60.0, 60.0), (50.0, 60.0), (50.0, 70.0)),),  66.66666667, <shapely.geometry.polygon.Polygon object at 0x000001846100FAC8>),\n",
       "           ((3, 6), (((60.0, 63.333333333333336), (65.0, 60.0), (60.0, 60.0), (60.0, 63.333333333333336)),),   8.33333333, <shapely.geometry.polygon.Polygon object at 0x000001846100F9E8>),\n",
       "           ((4, 2), (((20.0, 50.0), (25.0, 60.0), (30.0, 60.0), (30.0, 50.0), (20.0, 50.0)),),  75.        , <shapely.geometry.polygon.Polygon object at 0x0000018460FF90B8>),\n",
       "           ((4, 3), (((30.0, 60.0), (40.0, 60.0), (40.0, 50.0), (30.0, 50.0), (30.0, 60.0)),), 100.        , <shapely.geometry.polygon.Polygon object at 0x0000018460FF90F0>),\n",
       "           ((4, 4), (((40.0, 60.0), (50.0, 60.0), (50.0, 50.0), (40.0, 50.0), (40.0, 60.0)),), 100.        , <shapely.geometry.polygon.Polygon object at 0x0000018460FF9080>),\n",
       "           ((4, 5), (((50.0, 60.0), (60.0, 60.0), (60.0, 50.0), (50.0, 50.0), (50.0, 60.0)),), 100.        , <shapely.geometry.polygon.Polygon object at 0x0000018460FF9128>),\n",
       "           ((4, 6), (((65.0, 60.0), (70.0, 56.666666666666664), (70.0, 50.0), (60.0, 50.0), (60.0, 60.0), (65.0, 60.0)),),  91.66666667, <shapely.geometry.polygon.Polygon object at 0x0000018460FF9160>),\n",
       "           ((4, 7), (((70.0, 56.666666666666664), (80.0, 50.0), (70.0, 50.0), (70.0, 56.666666666666664)),),  33.33333333, <shapely.geometry.polygon.Polygon object at 0x0000018460FF9198>),\n",
       "           ((5, 1), (((18.571428571428573, 40.0), (20.0, 50.0), (20.0, 40.0), (18.571428571428573, 40.0)),),   7.14285714, <shapely.geometry.polygon.Polygon object at 0x0000018460FF9048>),\n",
       "           ((5, 2), (((30.0, 45.0), (25.0, 45.0), (25.0, 40.0), (20.0, 40.0), (20.0, 50.0), (30.0, 50.0), (30.0, 45.0)),),  75.        , <shapely.geometry.polygon.Polygon object at 0x0000018460FF91D0>),\n",
       "           ((5, 3), (((40.0, 45.0), (30.0, 45.0), (30.0, 50.0), (40.0, 50.0), (40.0, 45.0)),),  50.        , <shapely.geometry.polygon.Polygon object at 0x0000018460FF9240>),\n",
       "           ((5, 4), (((45.0, 40.0), (45.0, 45.0), (40.0, 45.0), (40.0, 50.0), (50.0, 50.0), (50.0, 40.0), (45.0, 40.0)),),  75.        , <shapely.geometry.polygon.Polygon object at 0x0000018460FF9278>),\n",
       "           ((5, 5), (((50.0, 50.0), (60.0, 50.0), (60.0, 40.0), (50.0, 40.0), (50.0, 50.0)),), 100.        , <shapely.geometry.polygon.Polygon object at 0x0000018460FF92B0>),\n",
       "           ((5, 6), (((60.0, 50.0), (70.0, 50.0), (70.0, 40.0), (60.0, 40.0), (60.0, 50.0)),), 100.        , <shapely.geometry.polygon.Polygon object at 0x0000018460FF92E8>),\n",
       "           ((5, 7), (((80.0, 50.0), (80.0, 40.0), (70.0, 40.0), (70.0, 50.0), (80.0, 50.0)),), 100.        , <shapely.geometry.polygon.Polygon object at 0x0000018460FF9320>),\n",
       "           ((6, 1), (((17.142857142857142, 30.0), (18.571428571428573, 40.0), (20.0, 40.0), (20.0, 30.0), (17.142857142857142, 30.0)),),  21.42857143, <shapely.geometry.polygon.Polygon object at 0x0000018460FF9208>),\n",
       "           ((6, 2), (((25.0, 40.0), (25.0, 30.0), (20.0, 30.0), (20.0, 40.0), (25.0, 40.0)),),  50.        , <shapely.geometry.polygon.Polygon object at 0x0000018460FF9358>),\n",
       "           ((6, 4), (((45.0, 30.0), (45.0, 40.0), (50.0, 40.0), (50.0, 30.0), (45.0, 30.0)),),  50.        , <shapely.geometry.polygon.Polygon object at 0x0000018460FF9390>),\n",
       "           ((6, 5), (((50.0, 40.0), (60.0, 40.0), (60.0, 30.0), (50.0, 30.0), (50.0, 40.0)),), 100.        , <shapely.geometry.polygon.Polygon object at 0x0000018460FF93C8>),\n",
       "           ((6, 6), (((70.0, 31.25), (68.57142857142857, 30.0), (60.0, 30.0), (60.0, 40.0), (70.0, 40.0), (70.0, 31.25)),),  99.10714286, <shapely.geometry.polygon.Polygon object at 0x0000018460FF9400>),\n",
       "           ((6, 7), (((80.0, 40.0), (70.0, 31.25), (70.0, 40.0), (80.0, 40.0)),),  43.75      , <shapely.geometry.polygon.Polygon object at 0x0000018460FF9470>),\n",
       "           ((7, 1), (((15.714285714285714, 20.0), (17.142857142857142, 30.0), (20.0, 30.0), (20.0, 20.0), (15.714285714285714, 20.0)),),  35.71428571, <shapely.geometry.polygon.Polygon object at 0x0000018460FF9438>),\n",
       "           ((7, 2), (((25.0, 30.0), (25.0, 25.0), (30.0, 25.0), (30.0, 20.0), (20.0, 20.0), (20.0, 30.0), (25.0, 30.0)),),  75.        , <shapely.geometry.polygon.Polygon object at 0x0000018460FF94A8>),\n",
       "           ((7, 3), (((30.0, 25.0), (40.0, 25.0), (40.0, 20.0), (30.0, 20.0), (30.0, 25.0)),),  50.        , <shapely.geometry.polygon.Polygon object at 0x0000018460FF9518>),\n",
       "           ((7, 4), (((40.0, 25.0), (45.0, 25.0), (45.0, 30.0), (50.0, 30.0), (50.0, 20.0), (40.0, 20.0), (40.0, 25.0)),),  75.        , <shapely.geometry.polygon.Polygon object at 0x0000018460FF9550>),\n",
       "           ((7, 5), (((60.0, 22.5), (57.142857142857146, 20.0), (50.0, 20.0), (50.0, 30.0), (60.0, 30.0), (60.0, 22.5)),),  96.42857143, <shapely.geometry.polygon.Polygon object at 0x0000018460FF9588>),\n",
       "           ((7, 6), (((68.57142857142857, 30.0), (60.0, 22.5), (60.0, 30.0), (68.57142857142857, 30.0)),),  32.14285714, <shapely.geometry.polygon.Polygon object at 0x0000018460FF95C0>),\n",
       "           ((8, 1), (((15.0, 15.0), (15.714285714285714, 20.0), (20.0, 20.0), (20.0, 10.6), (15.0, 12.0), (15.0, 15.0)),),  41.71428571, <shapely.geometry.polygon.Polygon object at 0x0000018460FF9668>),\n",
       "           ((8, 2), (((22.142857142857142, 10.0), (20.0, 10.6), (20.0, 20.0), (30.0, 20.0), (30.0, 10.0), (22.142857142857142, 10.0)),),  99.35714286, <shapely.geometry.polygon.Polygon object at 0x0000018460FF94E0>),\n",
       "           ((8, 3), (((30.0, 20.0), (40.0, 20.0), (40.0, 10.0), (30.0, 10.0), (30.0, 20.0)),), 100.        , <shapely.geometry.polygon.Polygon object at 0x0000018460FF95F8>),\n",
       "           ((8, 4), (((50.0, 13.75), (45.714285714285715, 10.0), (40.0, 10.0), (40.0, 20.0), (50.0, 20.0), (50.0, 13.75)),),  91.96428571, <shapely.geometry.polygon.Polygon object at 0x0000018460FF96A0>),\n",
       "           ((8, 5), (((57.142857142857146, 20.0), (50.0, 13.75), (50.0, 20.0), (57.142857142857146, 20.0)),),  22.32142857, <shapely.geometry.polygon.Polygon object at 0x0000018460FF96D8>),\n",
       "           ((9, 2), (((30.0, 7.8), (22.142857142857142, 10.0), (30.0, 10.0), (30.0, 7.8)),),   8.64285714, <shapely.geometry.polygon.Polygon object at 0x0000018460FF9710>),\n",
       "           ((9, 3), (((40.0, 5.0), (30.0, 7.8), (30.0, 10.0), (40.0, 10.0), (40.0, 5.0)),),  36.        , <shapely.geometry.polygon.Polygon object at 0x0000018460FF9748>),\n",
       "           ((9, 4), (((45.714285714285715, 10.0), (40.0, 5.0), (40.0, 10.0), (45.714285714285715, 10.0)),),  14.28571429, <shapely.geometry.polygon.Polygon object at 0x0000018460FF9780>)],\n",
       "          dtype=[('cellids', 'O'), ('vertices', 'O'), ('areas', '<f8'), ('ixshapes', 'O')])"
      ]
     },
     "execution_count": 62,
     "metadata": {},
     "output_type": "execute_result"
    }
   ],
   "source": [
    "# pd.DataFrame(result)\n",
    "result"
   ]
  },
  {
   "cell_type": "markdown",
   "metadata": {},
   "source": [
    "Visualizing the results"
   ]
  },
  {
   "cell_type": "code",
   "execution_count": 63,
   "metadata": {},
   "outputs": [
    {
     "data": {
      "text/plain": [
       "<matplotlib.legend.Legend at 0x1846111cb70>"
      ]
     },
     "execution_count": 63,
     "metadata": {},
     "output_type": "execute_result"
    },
    {
     "data": {
      "image/png": "[encoded data removed]",
      "text/plain": [
       "<Figure size 576x576 with 1 Axes>"
      ]
     },
     "metadata": {
      "needs_background": "light"
     },
     "output_type": "display_data"
    }
   ],
   "source": [
    "fig, ax = plt.subplots(1, 1, figsize=(8, 8))\n",
    "sgr.plot(ax=ax)\n",
    "ix.plot_polygon(result, ax=ax)\n",
    "\n",
    "# only cells that intersect with shape\n",
    "for irow, icol in result.cellids:\n",
    "    h2, = ax.plot(sgr.xcellcenters[0, icol], sgr.ycellcenters[irow, 0], \"kx\", label=\"centroids of intersected gridcells\")\n",
    "    \n",
    "ax.legend([h2], [i.get_label() for i in [h2]], loc=\"best\")"
   ]
  },
  {
   "cell_type": "markdown",
   "metadata": {},
   "source": [
    "Alternatively, the intersection can be calculated using special methods optimized for structured grids. Access these methods by instantiating the GridIntersect class with the `method=\"structured\"` keyword argument."
   ]
  },
  {
   "cell_type": "code",
   "execution_count": 64,
   "metadata": {},
   "outputs": [
    {
     "data": {
      "text/plain": [
       "rec.array([((2, 3), (((30.0, 70.0), (35.0, 80.0), (40.0, 76.66666666666667), (40.0, 70.0), (30.0, 70.0)),),  66.66666667, <shapely.geometry.polygon.Polygon object at 0x00000184610C2DA0>),\n",
       "           ((2, 4), (((40.0, 76.66666666666667), (50.0, 70.0), (40.0, 70.0), (40.0, 76.66666666666667)),),  33.33333333, <shapely.geometry.polygon.Polygon object at 0x0000018461109358>),\n",
       "           ((3, 2), (((25.0, 60.0), (30.0, 70.0), (30.0, 60.0), (25.0, 60.0)),),  25.        , <shapely.geometry.polygon.Polygon object at 0x00000184610C2240>),\n",
       "           ((3, 3), (((30.0, 70.0), (40.0, 70.0), (40.0, 60.0), (30.0, 60.0), (30.0, 70.0)),), 100.        , <shapely.geometry.polygon.Polygon object at 0x00000184610C2BE0>),\n",
       "           ((3, 4), (((40.0, 70.0), (50.0, 70.0), (50.0, 60.0), (40.0, 60.0), (40.0, 70.0)),), 100.        , <shapely.geometry.polygon.Polygon object at 0x00000184610C26D8>),\n",
       "           ((3, 5), (((50.0, 70.0), (60.0, 63.333333333333336), (60.0, 60.0), (50.0, 60.0), (50.0, 70.0)),),  66.66666667, <shapely.geometry.polygon.Polygon object at 0x00000184610C24E0>),\n",
       "           ((3, 6), (((60.0, 63.333333333333336), (65.0, 60.0), (60.0, 60.0), (60.0, 63.333333333333336)),),   8.33333333, <shapely.geometry.polygon.Polygon object at 0x00000184610C2550>),\n",
       "           ((4, 2), (((20.0, 50.0), (25.0, 60.0), (30.0, 60.0), (30.0, 50.0), (20.0, 50.0)),),  75.        , <shapely.geometry.polygon.Polygon object at 0x00000184610C2E48>),\n",
       "           ((4, 3), (((30.0, 60.0), (40.0, 60.0), (40.0, 50.0), (30.0, 50.0), (30.0, 60.0)),), 100.        , <shapely.geometry.polygon.Polygon object at 0x00000184610C24A8>),\n",
       "           ((4, 4), (((40.0, 60.0), (50.0, 60.0), (50.0, 50.0), (40.0, 50.0), (40.0, 60.0)),), 100.        , <shapely.geometry.polygon.Polygon object at 0x00000184610C2A58>),\n",
       "           ((4, 5), (((50.0, 60.0), (60.0, 60.0), (60.0, 50.0), (50.0, 50.0), (50.0, 60.0)),), 100.        , <shapely.geometry.polygon.Polygon object at 0x00000184610C27F0>),\n",
       "           ((4, 6), (((65.0, 60.0), (70.0, 56.666666666666664), (70.0, 50.0), (60.0, 50.0), (60.0, 60.0), (65.0, 60.0)),),  91.66666667, <shapely.geometry.polygon.Polygon object at 0x00000184610C2EB8>),\n",
       "           ((4, 7), (((70.0, 56.666666666666664), (80.0, 50.0), (70.0, 50.0), (70.0, 56.666666666666664)),),  33.33333333, <shapely.geometry.polygon.Polygon object at 0x00000184610C2438>),\n",
       "           ((5, 1), (((18.571428571428573, 40.0), (20.0, 50.0), (20.0, 40.0), (18.571428571428573, 40.0)),),   7.14285714, <shapely.geometry.polygon.Polygon object at 0x00000184610C2CF8>),\n",
       "           ((5, 2), (((30.0, 45.0), (25.0, 45.0), (25.0, 40.0), (20.0, 40.0), (20.0, 50.0), (30.0, 50.0), (30.0, 45.0)),),  75.        , <shapely.geometry.polygon.Polygon object at 0x00000184610C2BA8>),\n",
       "           ((5, 3), (((40.0, 45.0), (30.0, 45.0), (30.0, 50.0), (40.0, 50.0), (40.0, 45.0)),),  50.        , <shapely.geometry.polygon.Polygon object at 0x00000184610C2518>),\n",
       "           ((5, 4), (((45.0, 40.0), (45.0, 45.0), (40.0, 45.0), (40.0, 50.0), (50.0, 50.0), (50.0, 40.0), (45.0, 40.0)),),  75.        , <shapely.geometry.polygon.Polygon object at 0x00000184610C21D0>),\n",
       "           ((5, 5), (((50.0, 50.0), (60.0, 50.0), (60.0, 40.0), (50.0, 40.0), (50.0, 50.0)),), 100.        , <shapely.geometry.polygon.Polygon object at 0x00000184610C2FD0>),\n",
       "           ((5, 6), (((60.0, 50.0), (70.0, 50.0), (70.0, 40.0), (60.0, 40.0), (60.0, 50.0)),), 100.        , <shapely.geometry.polygon.Polygon object at 0x00000184610C25F8>),\n",
       "           ((5, 7), (((80.0, 50.0), (80.0, 40.0), (70.0, 40.0), (70.0, 50.0), (80.0, 50.0)),), 100.        , <shapely.geometry.polygon.Polygon object at 0x00000184610C23C8>),\n",
       "           ((6, 1), (((17.142857142857142, 30.0), (18.571428571428573, 40.0), (20.0, 40.0), (20.0, 30.0), (17.142857142857142, 30.0)),),  21.42857143, <shapely.geometry.polygon.Polygon object at 0x00000184610C2E80>),\n",
       "           ((6, 2), (((25.0, 40.0), (25.0, 30.0), (20.0, 30.0), (20.0, 40.0), (25.0, 40.0)),),  50.        , <shapely.geometry.polygon.Polygon object at 0x00000184610C2710>),\n",
       "           ((6, 4), (((45.0, 30.0), (45.0, 40.0), (50.0, 40.0), (50.0, 30.0), (45.0, 30.0)),),  50.        , <shapely.geometry.polygon.Polygon object at 0x00000184610C2D30>),\n",
       "           ((6, 5), (((50.0, 40.0), (60.0, 40.0), (60.0, 30.0), (50.0, 30.0), (50.0, 40.0)),), 100.        , <shapely.geometry.polygon.Polygon object at 0x00000184610C2630>),\n",
       "           ((6, 6), (((70.0, 31.25), (68.57142857142857, 30.0), (60.0, 30.0), (60.0, 40.0), (70.0, 40.0), (70.0, 31.25)),),  99.10714286, <shapely.geometry.polygon.Polygon object at 0x00000184610C2EF0>),\n",
       "           ((6, 7), (((80.0, 40.0), (70.0, 31.25), (70.0, 40.0), (80.0, 40.0)),),  43.75      , <shapely.geometry.polygon.Polygon object at 0x00000184610C22B0>),\n",
       "           ((7, 1), (((15.714285714285714, 20.0), (17.142857142857142, 30.0), (20.0, 30.0), (20.0, 20.0), (15.714285714285714, 20.0)),),  35.71428571, <shapely.geometry.polygon.Polygon object at 0x00000184610C2390>),\n",
       "           ((7, 2), (((25.0, 30.0), (25.0, 25.0), (30.0, 25.0), (30.0, 20.0), (20.0, 20.0), (20.0, 30.0), (25.0, 30.0)),),  75.        , <shapely.geometry.polygon.Polygon object at 0x00000184610C2080>),\n",
       "           ((7, 3), (((30.0, 25.0), (40.0, 25.0), (40.0, 20.0), (30.0, 20.0), (30.0, 25.0)),),  50.        , <shapely.geometry.polygon.Polygon object at 0x00000184610C2C18>),\n",
       "           ((7, 4), (((40.0, 25.0), (45.0, 25.0), (45.0, 30.0), (50.0, 30.0), (50.0, 20.0), (40.0, 20.0), (40.0, 25.0)),),  75.        , <shapely.geometry.polygon.Polygon object at 0x00000184610C28D0>),\n",
       "           ((7, 5), (((60.0, 22.5), (57.142857142857146, 20.0), (50.0, 20.0), (50.0, 30.0), (60.0, 30.0), (60.0, 22.5)),),  96.42857143, <shapely.geometry.polygon.Polygon object at 0x0000018460F78A20>),\n",
       "           ((7, 6), (((68.57142857142857, 30.0), (60.0, 22.5), (60.0, 30.0), (68.57142857142857, 30.0)),),  32.14285714, <shapely.geometry.polygon.Polygon object at 0x0000018460D1EFD0>),\n",
       "           ((8, 1), (((15.0, 15.0), (15.714285714285714, 20.0), (20.0, 20.0), (20.0, 10.6), (15.0, 12.0), (15.0, 15.0)),),  41.71428571, <shapely.geometry.polygon.Polygon object at 0x00000184610C2F98>),\n",
       "           ((8, 2), (((22.142857142857142, 10.0), (20.0, 10.6), (20.0, 20.0), (30.0, 20.0), (30.0, 10.0), (22.142857142857142, 10.0)),),  99.35714286, <shapely.geometry.polygon.Polygon object at 0x00000184610C25C0>),\n",
       "           ((8, 3), (((30.0, 20.0), (40.0, 20.0), (40.0, 10.0), (30.0, 10.0), (30.0, 20.0)),), 100.        , <shapely.geometry.polygon.Polygon object at 0x00000184610C26A0>),\n",
       "           ((8, 4), (((50.0, 13.75), (45.714285714285715, 10.0), (40.0, 10.0), (40.0, 20.0), (50.0, 20.0), (50.0, 13.75)),),  91.96428571, <shapely.geometry.polygon.Polygon object at 0x000001846129AC18>),\n",
       "           ((8, 5), (((57.142857142857146, 20.0), (50.0, 13.75), (50.0, 20.0), (57.142857142857146, 20.0)),),  22.32142857, <shapely.geometry.polygon.Polygon object at 0x000001846129A0B8>),\n",
       "           ((9, 2), (((30.0, 7.8), (22.142857142857142, 10.0), (30.0, 10.0), (30.0, 7.8)),),   8.64285714, <shapely.geometry.polygon.Polygon object at 0x000001846129A080>),\n",
       "           ((9, 3), (((40.0, 5.0), (30.0, 7.8), (30.0, 10.0), (40.0, 10.0), (40.0, 5.0)),),  36.        , <shapely.geometry.polygon.Polygon object at 0x000001846129AD30>),\n",
       "           ((9, 4), (((45.714285714285715, 10.0), (40.0, 5.0), (40.0, 10.0), (45.714285714285715, 10.0)),),  14.28571429, <shapely.geometry.polygon.Polygon object at 0x000001846129A048>)],\n",
       "          dtype=[('cellids', 'O'), ('vertices', 'O'), ('areas', '<f8'), ('ixshapes', 'O')])"
      ]
     },
     "execution_count": 64,
     "metadata": {},
     "output_type": "execute_result"
    }
   ],
   "source": [
    "ixs = GridIntersect(sgr, method=\"structured\")\n",
    "# pd.DataFrame(ixs.intersect_polygon(p)).head()\n",
    "ixs.intersect_polygon(p)"
   ]
  },
  {
   "cell_type": "markdown",
   "metadata": {},
   "source": [
    "### <a id=\"rectgrid.2\"></a>[Polyline with regular grid](#top)\n",
    "MultiLineString to intersect with:"
   ]
  },
  {
   "cell_type": "code",
   "execution_count": 65,
   "metadata": {},
   "outputs": [],
   "source": [
    "ls1 = LineString([(95, 105), (30, 50)])\n",
    "ls2 = LineString([(30, 50), (90, 22)])\n",
    "ls3 = LineString([(90, 22), (0, 0)])\n",
    "mls = MultiLineString(lines=[ls1, ls2, ls3])"
   ]
  },
  {
   "cell_type": "code",
   "execution_count": 66,
   "metadata": {},
   "outputs": [
    {
     "name": "stdout",
     "output_type": "stream",
     "text": [
      "7.94 ms ± 350 µs per loop (mean ± std. dev. of 7 runs, 100 loops each)\n"
     ]
    }
   ],
   "source": [
    "%timeit ix.intersect_linestring(mls)"
   ]
  },
  {
   "cell_type": "code",
   "execution_count": 67,
   "metadata": {},
   "outputs": [],
   "source": [
    "result = ix.intersect_linestring(mls)"
   ]
  },
  {
   "cell_type": "code",
   "execution_count": 68,
   "metadata": {},
   "outputs": [
    {
     "data": {
      "text/plain": [
       "<matplotlib.legend.Legend at 0x18461167320>"
      ]
     },
     "execution_count": 68,
     "metadata": {},
     "output_type": "execute_result"
    },
    {
     "data": {
      "image/png": "[encoded data removed]",
      "text/plain": [
       "<Figure size 576x576 with 1 Axes>"
      ]
     },
     "metadata": {
      "needs_background": "light"
     },
     "output_type": "display_data"
    }
   ],
   "source": [
    "fig, ax = plt.subplots(1, 1, figsize=(8, 8))\n",
    "sgr.plot(ax=ax)\n",
    "ix.plot_linestring(result, ax=ax)\n",
    "\n",
    "for irow, icol in result.cellids:\n",
    "    h2, = ax.plot(sgr.xcellcenters[0, icol], sgr.ycellcenters[irow, 0], \"kx\", label=\"centroids of intersected gridcells\")\n",
    "    \n",
    "ax.legend([h2], [i.get_label() for i in [h2]], loc=\"best\")"
   ]
  },
  {
   "cell_type": "markdown",
   "metadata": {},
   "source": [
    "Same as before, the intersect for structured grids can also be performed with a different method optimized for structured grids"
   ]
  },
  {
   "cell_type": "code",
   "execution_count": 69,
   "metadata": {},
   "outputs": [
    {
     "data": {
      "text/plain": [
       "rec.array([((9, 1), list([[(20.0, 4.888888888888889), (10.0, 2.4444444444444446)]]), 10.29443095, list([<shapely.geometry.linestring.LineString object at 0x00000184611CE358>])),\n",
       "           ((0, 7), list([[(80.0, 92.3076923076923), (77.27272727272728, 90.0)]]),  3.57259854, list([<shapely.geometry.linestring.LineString object at 0x0000018461201DA0>])),\n",
       "           ((1, 6), list([[(70.0, 83.84615384615384), (65.45454545454545, 80.0)]]),  5.9543309 , list([<shapely.geometry.linestring.LineString object at 0x0000018461153E10>])),\n",
       "           ((9, 4), list([[(40.90909090909091, 10.0), (40.0, 9.777777777777779)]]),  0.93585736, list([<shapely.geometry.linestring.LineString object at 0x00000184611CE7B8>])),\n",
       "           ((2, 5), list([[(60.0, 75.38461538461539), (53.63636363636364, 70.0)]]),  8.33606326, list([<shapely.geometry.linestring.LineString object at 0x0000018461201B00>])),\n",
       "           ((8, 5), list([[(60.0, 14.666666666666666), (50.0, 12.222222222222221)]]), 10.29443095, list([<shapely.geometry.linestring.LineString object at 0x00000184610E5748>])),\n",
       "           ((9, 0), list([[(10.0, 2.4444444444444446), (0.0, 0.0)]]), 10.29443095, list([<shapely.geometry.linestring.LineString object at 0x00000184611D73C8>])),\n",
       "           ((4, 4), list([[(41.81818181818182, 60.0), (40.0, 58.46153846153846)]]),  2.38173236, list([<shapely.geometry.linestring.LineString object at 0x0000018461201908>])),\n",
       "           ((3, 4), list([[(50.0, 66.92307692307692), (41.81818181818182, 60.0)]]), 10.71779561, list([<shapely.geometry.linestring.LineString object at 0x0000018461201CF8>])),\n",
       "           ((8, 6), list([[(70.0, 17.11111111111111), (60.0, 14.666666666666666)]]), 10.29443095, list([<shapely.geometry.linestring.LineString object at 0x00000184610E56D8>])),\n",
       "           ((2, 6), list([[(65.45454545454545, 80.0), (60.0, 75.38461538461539)]]),  7.14519708, list([<shapely.geometry.linestring.LineString object at 0x0000018461201F60>])),\n",
       "           ((9, 3), list([[(40.0, 9.777777777777779), (30.0, 7.333333333333334)]]), 10.29443095, list([<shapely.geometry.linestring.LineString object at 0x00000184611CE9B0>])),\n",
       "           ((8, 7), list([[(80.0, 19.555555555555557), (70.0, 17.11111111111111)]]), 10.29443095, list([<shapely.geometry.linestring.LineString object at 0x0000018461201E80>])),\n",
       "           ((0, 8), list([[(89.0909090909091, 100.0), (80.0, 92.3076923076923)]]), 11.90866179, list([<shapely.geometry.linestring.LineString object at 0x0000018461201C88>])),\n",
       "           ((3, 5), list([[(53.63636363636364, 70.0), (50.0, 66.92307692307692)]]),  4.76346472, list([<shapely.geometry.linestring.LineString object at 0x0000018461201EF0>])),\n",
       "           ((9, 2), list([[(30.0, 7.333333333333334), (20.0, 4.888888888888889)]]), 10.29443095, list([<shapely.geometry.linestring.LineString object at 0x0000018461001DA0>])),\n",
       "           ((8, 8), list([[(81.81818181818181, 20.0), (80.0, 19.555555555555557)]]),  1.87171472, list([<shapely.geometry.linestring.LineString object at 0x0000018461201A20>])),\n",
       "           ((4, 3), list([[(40.0, 58.46153846153846), (30.0, 50.0)]]), 13.09952797, list([<shapely.geometry.linestring.LineString object at 0x0000018461201B38>])),\n",
       "           ((1, 7), list([[(77.27272727272728, 90.0), (70.0, 83.84615384615384)]]),  9.52692944, list([<shapely.geometry.linestring.LineString object at 0x0000018461201DD8>])),\n",
       "           ((7, 8), list([[(90.0, 22.0), (81.81818181818181, 20.0)]]),  8.42271623, list([<shapely.geometry.linestring.LineString object at 0x0000018461201D30>])),\n",
       "           ((8, 4), list([[(50.0, 12.222222222222221), (40.90909090909091, 10.0)]]),  9.35857359, list([<shapely.geometry.linestring.LineString object at 0x00000184612010F0>]))],\n",
       "          dtype=[('cellids', 'O'), ('vertices', 'O'), ('lengths', '<f8'), ('ixshapes', 'O')])"
      ]
     },
     "execution_count": 69,
     "metadata": {},
     "output_type": "execute_result"
    }
   ],
   "source": [
    "ixs = GridIntersect(sgr, method=\"structured\")\n",
    "# pd.DataFrame(ixs.intersect_linestring(mls)).head()\n",
    "ixs.intersect_linestring(mls)"
   ]
  },
  {
   "cell_type": "markdown",
   "metadata": {},
   "source": [
    "### [MultiPoint with regular grid](#top)<a id=\"rectgrid.3\"></a>\n",
    "\n",
    "MultiPoint to intersect with"
   ]
  },
  {
   "cell_type": "code",
   "execution_count": 70,
   "metadata": {},
   "outputs": [],
   "source": [
    "mp = MultiPoint(points=[Point(50.0, 0.0), Point(45., 45.), \n",
    "                        Point(10., 10.), Point(150., 100.)])"
   ]
  },
  {
   "cell_type": "code",
   "execution_count": 71,
   "metadata": {},
   "outputs": [],
   "source": [
    "result = ix.intersect_point(mp)"
   ]
  },
  {
   "cell_type": "code",
   "execution_count": 72,
   "metadata": {},
   "outputs": [
    {
     "data": {
      "text/plain": [
       "<matplotlib.legend.Legend at 0x184612323c8>"
      ]
     },
     "execution_count": 72,
     "metadata": {},
     "output_type": "execute_result"
    },
    {
     "data": {
      "image/png": "[encoded data removed]",
      "text/plain": [
       "<Figure size 576x576 with 1 Axes>"
      ]
     },
     "metadata": {
      "needs_background": "light"
     },
     "output_type": "display_data"
    }
   ],
   "source": [
    "fig, ax = plt.subplots(1, 1, figsize=(8, 8))\n",
    "sgr.plot(ax=ax)\n",
    "ix.plot_point(result, ax=ax, s=50)\n",
    "    \n",
    "for irow, icol in result.cellids:\n",
    "    h2, = ax.plot(sgr.xcellcenters[0, icol], sgr.ycellcenters[irow, 0], \"kx\", label=\"centroids of intersected cells\")\n",
    "    \n",
    "ax.legend([h2], [i.get_label() for i in [h2]], loc=\"best\")"
   ]
  },
  {
   "cell_type": "markdown",
   "metadata": {},
   "source": [
    "Same as before, the intersect for structured grids can also be performed with a different method optimized for structured grids"
   ]
  },
  {
   "cell_type": "code",
   "execution_count": 73,
   "metadata": {},
   "outputs": [
    {
     "data": {
      "text/plain": [
       "rec.array([((9, 4), <shapely.geometry.point.Point object at 0x00000184612605C0>),\n",
       "           ((5, 4), <shapely.geometry.point.Point object at 0x0000018461260320>),\n",
       "           ((8, 0), <shapely.geometry.point.Point object at 0x0000018461260630>)],\n",
       "          dtype=[('cellids', 'O'), ('ixshapes', 'O')])"
      ]
     },
     "execution_count": 73,
     "metadata": {},
     "output_type": "execute_result"
    }
   ],
   "source": [
    "ixs = GridIntersect(sgr, method=\"structured\")\n",
    "# pd.DataFrame(ixs.intersect_point(mp))\n",
    "ixs.intersect_point(mp)"
   ]
  },
  {
   "cell_type": "markdown",
   "metadata": {},
   "source": [
    "## <a id=\"trigrid\"></a>[Triangular Grid](#top)"
   ]
  },
  {
   "cell_type": "raw",
   "metadata": {},
   "source": [
    "maximum_area = 50.\n",
    "x0, x1, y0, y1 = sgr.extent\n",
    "domainpoly = [(x0, y0), (x0, y1), (x1, y1), (x1, y0)]\n",
    "tri = Triangle(maximum_area=maximum_area, angle=30, model_ws=\".\", \n",
    "               exe_name=triangle_exe)\n",
    "tri.add_polygon(domainpoly)\n",
    "tri.build(verbose=False)"
   ]
  },
  {
   "cell_type": "raw",
   "metadata": {},
   "source": [
    "cell2d = tri.get_cell2d()\n",
    "vertices = tri.get_vertices()\n",
    "tgr = fgrid.VertexGrid(vertices, cell2d)"
   ]
  },
  {
   "cell_type": "raw",
   "metadata": {},
   "source": [
    "fig, ax = plt.subplots(1, 1, figsize=(8, 8))\n",
    "pmv = fplot.PlotMapView(modelgrid=tgr)\n",
    "pmv.plot_grid(ax=ax)"
   ]
  },
  {
   "cell_type": "markdown",
   "metadata": {},
   "source": [
    "### <a id=\"trigrid.1\"></a>[Polygon with triangular grid](#top)"
   ]
  },
  {
   "cell_type": "raw",
   "metadata": {},
   "source": [
    "ix2 = GridIntersect(tgr)"
   ]
  },
  {
   "cell_type": "raw",
   "metadata": {},
   "source": [
    "result = ix2.intersect_polygon(p)"
   ]
  },
  {
   "cell_type": "raw",
   "metadata": {},
   "source": [
    "fig, ax = plt.subplots(1, 1, figsize=(8, 8))\n",
    "pmv = fplot.PlotMapView(ax=ax, modelgrid=tgr)\n",
    "pmv.plot_grid()\n",
    "ix.plot_polygon(result, ax=ax)\n",
    "\n",
    "# only cells that intersect with shape\n",
    "for cellid in result.cellids:\n",
    "    h2, = ax.plot(tgr.xcellcenters[cellid], tgr.ycellcenters[cellid], \"kx\", label=\"centroids of intersected gridcells\")\n",
    "    \n",
    "ax.legend([h2], [i.get_label() for i in [h2]], loc=\"best\")"
   ]
  },
  {
   "cell_type": "markdown",
   "metadata": {},
   "source": [
    "### <a id=\"trigrid.2\"></a>[LineString with triangular grid](#top)"
   ]
  },
  {
   "cell_type": "raw",
   "metadata": {},
   "source": [
    "result = ix2.intersect_linestring(mls)"
   ]
  },
  {
   "cell_type": "raw",
   "metadata": {},
   "source": [
    "fig, ax = plt.subplots(1, 1, figsize=(8, 8))\n",
    "pmv = fplot.PlotMapView(ax=ax, modelgrid=tgr)\n",
    "pmv.plot_grid()\n",
    "ix2.plot_linestring(result, ax=ax, lw=3)\n",
    "\n",
    "for cellid in result.cellids:\n",
    "    h2, = ax.plot(tgr.xcellcenters[cellid], tgr.ycellcenters[cellid], \"kx\", label=\"centroids of intersected gridcells\")\n",
    "    \n",
    "ax.legend([h2], [i.get_label() for i in [h2]], loc=\"best\")"
   ]
  },
  {
   "cell_type": "markdown",
   "metadata": {},
   "source": [
    "### <a id=\"trigrid.3\"></a>[MultiPoint with triangular grid](#top)"
   ]
  },
  {
   "cell_type": "raw",
   "metadata": {},
   "source": [
    "result = ix2.intersect_point(mp)"
   ]
  },
  {
   "cell_type": "raw",
   "metadata": {},
   "source": [
    "fig, ax = plt.subplots(1, 1, figsize=(8, 8))\n",
    "pmv = fplot.PlotMapView(ax=ax, modelgrid=tgr)\n",
    "pmv.plot_grid()\n",
    "ix2.plot_point(result, ax=ax)\n",
    "    \n",
    "for cellid in result.cellids:\n",
    "    h2, = ax.plot(tgr.xcellcenters[cellid], tgr.ycellcenters[cellid], \"kx\", label=\"return one intersecting grid cell per point\")\n",
    "    \n",
    "ax.legend([h2], [i.get_label() for i in [h2]], loc=\"best\")"
   ]
  },
  {
   "cell_type": "markdown",
   "metadata": {},
   "source": [
    "## <a id=\"tests\"></a>[Tests](#top)\n",
    "Tests are written for Points, LineStrings and Polygons for both rectangular (regular) grids, triangular grids, and rotated and offset regular grids."
   ]
  },
  {
   "cell_type": "code",
   "execution_count": 74,
   "metadata": {},
   "outputs": [
    {
     "name": "stdout",
     "output_type": "stream",
     "text": [
      "============================= test session starts =============================\n",
      "platform win32 -- Python 3.7.3, pytest-4.3.1, py-1.8.0, pluggy-0.9.0\n",
      "rootdir: C:\\GitHub\\flopy_db, inifile:\n",
      "plugins: remotedata-0.3.1, openfiles-0.3.2, doctestplus-0.3.0, cov-2.7.1, arraydiff-0.3\n",
      "collected 0 items / 1 errors\n",
      "WARNING: Failed to generate report: No data to report.\n",
      "\n",
      "\n",
      "=================================== ERRORS ====================================\n",
      "____________ ERROR collecting autotest/t065_test_gridintersect.py _____________\n",
      "ImportError while importing test module 'C:\\GitHub\\flopy_db\\autotest\\t065_test_gridintersect.py'.\n",
      "Hint: make sure your test modules/packages have valid Python names.\n",
      "Traceback:\n",
      "..\\..\\autotest\\t065_test_gridintersect.py:12: in <module>\n",
      "    from flopy.utils.gridintersect import GridIntersect\n",
      "E   ModuleNotFoundError: No module named 'flopy.utils.gridintersect'\n",
      "------------------------------- Captured stdout -------------------------------\n",
      "flopy is installed in C:\\Users\\dbrak\\Anaconda3\\lib\\site-packages\\flopy\n",
      "\n",
      "----------- coverage: platform win32, python 3.7.3-final-0 -----------\n",
      "Name    Stmts   Miss  Cover\n",
      "---------------------------\n",
      "\n",
      "!!!!!!!!!!!!!!!!!!! Interrupted: 1 errors during collection !!!!!!!!!!!!!!!!!!!\n",
      "=========================== 1 error in 3.19 seconds ===========================\n"
     ]
    },
    {
     "name": "stderr",
     "output_type": "stream",
     "text": [
      "Coverage.py warning: Module gridintersect was never imported. (module-not-imported)\n",
      "Coverage.py warning: No data was collected. (no-data-collected)\n",
      "C:\\Users\\dbrak\\Anaconda3\\lib\\site-packages\\pytest_cov\\plugin.py:229: PytestWarning: Failed to generate report: No data to report.\n",
      "\n",
      "  self.cov_controller.finish()\n"
     ]
    }
   ],
   "source": [
    "!pytest --cov-report term --cov gridintersect ../../autotest/t065_test_gridintersect.py  "
   ]
  },
  {
   "cell_type": "markdown",
   "metadata": {},
   "source": [
    "## <a id=\"timings\"></a>[Timings](#top)\n",
    "Comparing performance for the different methods in a large grid. Some helper functions are defined below"
   ]
  },
  {
   "cell_type": "code",
   "execution_count": 75,
   "metadata": {},
   "outputs": [],
   "source": [
    "def ix_shapely_point(nrnc, npoints=100):\n",
    "    results = []\n",
    "    delc = np.ones(nrnc, dtype=np.float)\n",
    "    delr = np.ones(nrnc, dtype=np.float)\n",
    "    sgr = fgrid.StructuredGrid(delc, delr, top=None, botm=None)\n",
    "    ix = GridIntersect(sgr)\n",
    "    points = np.random.random((npoints, 2)) * nrnc\n",
    "    for p in [Point(x, y) for x, y in points]:\n",
    "        results.append(ix.intersect_point(p))\n",
    "    return np.concatenate(results, axis=0)\n",
    "\n",
    "\n",
    "def ix_structured_point(nrnc, npoints=100):\n",
    "    delc = np.ones(nrnc, dtype=np.float)\n",
    "    delr = np.ones(nrnc, dtype=np.float)\n",
    "    sgr = fgrid.StructuredGrid(delc, delr, top=None, botm=None)\n",
    "    ix = GridIntersect(sgr, method=\"structured\")\n",
    "    points = np.random.random((npoints, 2)) * nrnc\n",
    "    mp = MultiPoint(points=[Point(x, y) for x, y in points])\n",
    "    return ix.intersect_point(mp)\n",
    "\n",
    "\n",
    "def ix_shapely_linestring(nrnc, ls=None):\n",
    "    if ls is None:\n",
    "        ls = LineString([(0, 0), (nrnc/3, nrnc)])\n",
    "    delc = np.ones(nrnc, dtype=np.float)\n",
    "    delr = np.ones(nrnc, dtype=np.float)\n",
    "    sgr = fgrid.StructuredGrid(delc, delr, top=None, botm=None)\n",
    "    ix = GridIntersect(sgr)\n",
    "    return ix.intersect_linestring(ls)\n",
    "\n",
    "\n",
    "def ix_structured_linestring(nrnc, ls=None):\n",
    "    if ls is None:\n",
    "        ls = LineString([(0, 0), (nrnc/3, nrnc)])\n",
    "    delc = np.ones(nrnc, dtype=np.float)\n",
    "    delr = np.ones(nrnc, dtype=np.float)\n",
    "    sgr = fgrid.StructuredGrid(delc, delr, top=None, botm=None)\n",
    "    ix = GridIntersect(sgr, method=\"structured\")\n",
    "    return ix.intersect_linestring(ls)\n",
    "\n",
    "\n",
    "def ix_shapely_polygon(nrnc, p=Polygon([(10, 10), (540, 430), (730, 80), (250, 0)])):\n",
    "    delc = np.ones(nrnc, dtype=np.float)\n",
    "    delr = np.ones(nrnc, dtype=np.float)\n",
    "    sgr = fgrid.StructuredGrid(delc, delr, top=None, botm=None)\n",
    "    ix = GridIntersect(sgr)\n",
    "    return ix.intersect_polygon(p)\n",
    "\n",
    "\n",
    "def ix_structured_polygon(nrnc, p=Polygon([(10, 10), (540, 430), (730, 80), (250, 0)])):\n",
    "    delc = np.ones(nrnc, dtype=np.float)\n",
    "    delr = np.ones(nrnc, dtype=np.float)\n",
    "    sgr = fgrid.StructuredGrid(delc, delr, top=None, botm=None)\n",
    "    ix = GridIntersect(sgr, method=\"structured\")\n",
    "    return ix.intersect_polygon(p)\n"
   ]
  },
  {
   "cell_type": "markdown",
   "metadata": {},
   "source": [
    "Below are some results of `%timeit` runs of some intersections on a 1000 x 1000 structured grid. For obvious reasons not having to build the STR-tree saves a significant amount of time for large grids (~ 15 seconds on my laptop)."
   ]
  },
  {
   "cell_type": "code",
   "execution_count": 76,
   "metadata": {},
   "outputs": [],
   "source": [
    "# nrnc =  1000  # no rows and columns\n",
    "nrnc = 10  # save time when testing notebook"
   ]
  },
  {
   "cell_type": "markdown",
   "metadata": {},
   "source": [
    "For point intersections, most of the time required by the shapely approach is needed to build the STR-tree (~15 s). Obviously, the pure numpy approach used in structured mode is unbeatable."
   ]
  },
  {
   "cell_type": "code",
   "execution_count": 77,
   "metadata": {},
   "outputs": [
    {
     "name": "stdout",
     "output_type": "stream",
     "text": [
      "16.5 ms ± 0 ns per loop (mean ± std. dev. of 1 run, 1 loop each)\n"
     ]
    }
   ],
   "source": [
    "%timeit -n 1 -r 1 ix_shapely_point(nrnc, npoints=100)"
   ]
  },
  {
   "cell_type": "code",
   "execution_count": 78,
   "metadata": {},
   "outputs": [
    {
     "name": "stdout",
     "output_type": "stream",
     "text": [
      "234 µs ± 15.2 µs per loop (mean ± std. dev. of 7 runs, 1000 loops each)\n"
     ]
    }
   ],
   "source": [
    "%timeit ix_structured_point(nrnc, npoints=2)"
   ]
  },
  {
   "cell_type": "markdown",
   "metadata": {},
   "source": [
    "For linestrings, following the linestring through the grid (in structured mode) reduces the amount of intersection calls by a significant amount. This is where the downside of the STR-tree query is obvious. The bounding box of the linestring covers about one third of the grid. The query only reduces the search-space by 2/3 leaving ~333k cells to try to intersect with. On top of the building of the STR-tree the intersection calls take another ~15 seconds.\n",
    "\n",
    "(Cutting the linestring into pieces would probably improve performance.)"
   ]
  },
  {
   "cell_type": "code",
   "execution_count": 79,
   "metadata": {},
   "outputs": [
    {
     "name": "stdout",
     "output_type": "stream",
     "text": [
      "5.63 ms ± 0 ns per loop (mean ± std. dev. of 1 run, 1 loop each)\n"
     ]
    }
   ],
   "source": [
    "%timeit -n 1 -r 1 ix_shapely_linestring(nrnc)"
   ]
  },
  {
   "cell_type": "code",
   "execution_count": 80,
   "metadata": {},
   "outputs": [
    {
     "name": "stdout",
     "output_type": "stream",
     "text": [
      "2.93 ms ± 209 µs per loop (mean ± std. dev. of 7 runs, 100 loops each)\n"
     ]
    }
   ],
   "source": [
    "%timeit ix_structured_linestring(nrnc)"
   ]
  },
  {
   "cell_type": "markdown",
   "metadata": {},
   "source": [
    "For Polygons the difference between structured mode and shapely mode is less obvious. Building the STR-tree (~15s) and doing the intersect (~20s) takes a little bit longer than performing the intersection in structured mode. However, note that intersecting with a second similarly sized polygon in shapely mode will only require ~20s, whereas in structured mode the required time will remain ~30 seconds. \n",
    "\n",
    "For repeated intersections with Polygons, the shapely method might be preferred over the structured method."
   ]
  },
  {
   "cell_type": "code",
   "execution_count": 81,
   "metadata": {},
   "outputs": [
    {
     "name": "stdout",
     "output_type": "stream",
     "text": [
      "4.62 ms ± 0 ns per loop (mean ± std. dev. of 1 run, 1 loop each)\n"
     ]
    }
   ],
   "source": [
    "%timeit -n 1 -r 1 ix_shapely_polygon(nrnc)"
   ]
  },
  {
   "cell_type": "code",
   "execution_count": 82,
   "metadata": {},
   "outputs": [
    {
     "name": "stdout",
     "output_type": "stream",
     "text": [
      "3.94 ms ± 0 ns per loop (mean ± std. dev. of 1 run, 1 loop each)\n"
     ]
    }
   ],
   "source": [
    "%timeit -n 1 -r 1 ix_structured_polygon(nrnc)"
   ]
  },
  {
   "cell_type": "code",
   "execution_count": null,
   "metadata": {},
   "outputs": [],
   "source": []
  }
 ],
 "metadata": {
  "kernelspec": {
   "display_name": "Python 3",
   "language": "python",
   "name": "python3"
  },
  "language_info": {
   "codemirror_mode": {
    "name": "ipython",
    "version": 3
   },
   "file_extension": ".py",
   "mimetype": "text/x-python",
   "name": "python",
   "nbconvert_exporter": "python",
   "pygments_lexer": "ipython3",
   "version": "3.7.3"
  }
 },
 "nbformat": 4,
 "nbformat_minor": 2
}
