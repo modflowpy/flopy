{
 "cells": [
  {
   "cell_type": "markdown",
   "metadata": {},
   "source": [
    "# <a id=\"top\"></a>Intersecting model grids with shapes\n",
    "\n",
    "_Note: This feature requires the shapely and descartes packages (which are not a FloPy dependency) so must be installed by the user._\n",
    "\n",
    "This notebook shows the grid intersection functionality in flopy. The intersection methods are available through the GridIntersect object. A flopy modelgrid is passed to instantiate the object. Then the modelgrid can be intersected with Points, LineStrings and Polygons through the different intersection methods. \n",
    "\n",
    "There are three intersection modes: \n",
    "- the first (default mode) builds an STR-tree for fast spatial queries before calculating intersections, thereby reducing the number of grid cells it has to process. This method works for structured and vertex grids.\n",
    "- the second method does not construct the STR-tree, and loops through all gridcells to determine the intersection between the grid and the shape. This method also works for structured and vertex grids.\n",
    "- the third method only works for structured grids and uses information from the structured grid to limit the search space for intersections.\n",
    "\n",
    "This notebook showcases the functionality of the GridIntersect class. \n",
    "\n",
    "\n",
    "### Table of Contents\n",
    "- [GridIntersect Class](#gridclass)\n",
    "- [Rectangular regular grid](#rectgrid)\n",
    "    - [Polygon with regular grid](#rectgrid.1)\n",
    "    - [MultiLineString with regular grid](#rectgrid.2)\n",
    "    - [MultiPoint with regular grid](#rectgrid.3)\n",
    "- [Vertex grid](#trigrid)\n",
    "    - [Polygon with triangular grid](#trigrid.1)\n",
    "    - [MultiLineString with triangular grid](#trigrid.2)\n",
    "    - [MultiPoint with triangular grid](#trigrid.3)"
   ]
  },
  {
   "cell_type": "markdown",
   "metadata": {},
   "source": [
    "Import some stuff"
   ]
  },
  {
   "cell_type": "code",
   "execution_count": 1,
   "metadata": {
    "execution": {
     "iopub.execute_input": "2022-03-07T20:04:21.241514Z",
     "iopub.status.busy": "2022-03-07T20:04:21.240743Z",
     "iopub.status.idle": "2022-03-07T20:04:22.474913Z",
     "shell.execute_reply": "2022-03-07T20:04:22.475411Z"
    }
   },
   "outputs": [
    {
     "name": "stdout",
     "output_type": "stream",
     "text": [
      "3.9.7 (default, Sep 16 2021, 08:50:36) \n",
      "[Clang 10.0.0 ]\n",
      "numpy version: 1.21.2\n",
      "matplotlib version: 3.5.1\n",
      "flopy version: 3.3.5\n"
     ]
    }
   ],
   "source": [
    "import sys\n",
    "import os\n",
    "import platform\n",
    "import numpy as np\n",
    "import matplotlib as mpl\n",
    "import matplotlib.pyplot as plt\n",
    "\n",
    "sys.path.insert(1, \"../..\")\n",
    "\n",
    "# run installed version of flopy or add local path\n",
    "try:\n",
    "    import flopy\n",
    "    import flopy.discretization as fgrid\n",
    "    import flopy.plot as fplot\n",
    "    from flopy.utils.gridintersect import GridIntersect\n",
    "except:\n",
    "    fpth = os.path.abspath(os.path.join(\"..\", \"..\"))\n",
    "    sys.path.append(fpth)\n",
    "    import flopy\n",
    "    import flopy.discretization as fgrid\n",
    "    import flopy.plot as fplot\n",
    "    from flopy.utils.gridintersect import GridIntersect\n",
    "\n",
    "import shapely\n",
    "from shapely.geometry import (\n",
    "    Polygon,\n",
    "    Point,\n",
    "    LineString,\n",
    "    MultiLineString,\n",
    "    MultiPoint,\n",
    "    MultiPolygon,\n",
    ")\n",
    "from shapely.strtree import STRtree\n",
    "\n",
    "print(sys.version)\n",
    "print(\"numpy version: {}\".format(np.__version__))\n",
    "print(\"matplotlib version: {}\".format(mpl.__version__))\n",
    "print(\"flopy version: {}\".format(flopy.__version__))"
   ]
  },
  {
   "cell_type": "markdown",
   "metadata": {},
   "source": [
    "## <a id=\"gridclass\"></a>[GridIntersect Class](#top)\n",
    "\n",
    "The GridIntersect class is constructed by passing a flopy modelgrid object to the constructor. There are options users can select to change how the intersection is calculated.\n",
    "\n",
    "- `method`: either `\"vertex\"` (default) or `\"structured\"`. If `\"structured\"` is passed, the intersections are performed using structured methods. These methods use information about the regular grid to limit the search space for intersection calculations. \n",
    "- `rtree`: either `True` (default) or `False`, only read when `method=\"vertex\"`. When True, an STR-tree is built, which allows for fast spatial queries. Building the STR-tree does take some time however. Setting the option to False avoids building the STR-tree but requires the intersection calculation to essentially loop through all grid cells.\n",
    "\n",
    "In general the default option is robust (it always works) and fast and is therefore recommended in most situations. If you are working with a structured grid, then the `method=\"structured\"` can speed up intersection operations (especially for points and linestrings) with the added advantage of not having to build an STR-tree. In some cases with vertex grids, it might not be worth your time building the STR-tree, in which case it can be avoided by passing `rtree=False`.\n",
    "\n",
    "The important methods in the GridIntersect object are:\n",
    "- `intersects()`: returns cellids for gridcells that intersect a shape\n",
    "- `intersect()`: for intersecting the modelgrid with point, linestrings, and polygon geometries (intersect can accept shapely geometry objects, flopy geometry object, shapefile.Shape objects, and geojson objects)\n",
    "- `plot_point()`: for plotting point intersection results\n",
    "- `plot_linestring()`: for plotting linestring intersection results\n",
    "- `plot_polygon()`: for plotting polygon intersection results\n",
    "\n",
    "In the following sections examples of intersections are shown for structured and vertex grids for different types of shapes (Polygon, LineString and Point)."
   ]
  },
  {
   "cell_type": "markdown",
   "metadata": {},
   "source": [
    "## <a id=\"rectgrid\"></a>[Rectangular regular grid](#top)"
   ]
  },
  {
   "cell_type": "code",
   "execution_count": 2,
   "metadata": {
    "execution": {
     "iopub.execute_input": "2022-03-07T20:04:22.481957Z",
     "iopub.status.busy": "2022-03-07T20:04:22.481020Z",
     "iopub.status.idle": "2022-03-07T20:04:22.483709Z",
     "shell.execute_reply": "2022-03-07T20:04:22.484217Z"
    }
   },
   "outputs": [],
   "source": [
    "delc = 10 * np.ones(10, dtype=float)\n",
    "delr = 10 * np.ones(10, dtype=float)"
   ]
  },
  {
   "cell_type": "code",
   "execution_count": 3,
   "metadata": {
    "execution": {
     "iopub.execute_input": "2022-03-07T20:04:22.490174Z",
     "iopub.status.busy": "2022-03-07T20:04:22.489168Z",
     "iopub.status.idle": "2022-03-07T20:04:22.492262Z",
     "shell.execute_reply": "2022-03-07T20:04:22.492786Z"
    }
   },
   "outputs": [],
   "source": [
    "xoff = 0.0\n",
    "yoff = 0.0\n",
    "angrot = 0.0\n",
    "sgr = fgrid.StructuredGrid(\n",
    "    delc, delr, top=None, botm=None, xoff=xoff, yoff=yoff, angrot=angrot\n",
    ")"
   ]
  },
  {
   "cell_type": "code",
   "execution_count": 4,
   "metadata": {
    "execution": {
     "iopub.execute_input": "2022-03-07T20:04:22.505511Z",
     "iopub.status.busy": "2022-03-07T20:04:22.504661Z",
     "iopub.status.idle": "2022-03-07T20:04:22.625266Z",
     "shell.execute_reply": "2022-03-07T20:04:22.626249Z"
    }
   },
   "outputs": [
    {
     "data": {
      "text/plain": [
       "<matplotlib.collections.LineCollection at 0x7f92b83842b0>"
      ]
     },
     "execution_count": 4,
     "metadata": {},
     "output_type": "execute_result"
    },
    {
     "data": {
      "image/png": "[encoded data removed]",
      "text/plain": [
       "<Figure size 432x288 with 1 Axes>"
      ]
     },
     "metadata": {
      "needs_background": "light"
     },
     "output_type": "display_data"
    }
   ],
   "source": [
    "sgr.plot()"
   ]
  },
  {
   "cell_type": "markdown",
   "metadata": {},
   "source": [
    "### <a id=\"rectgrid.1\"></a>[Polygon with regular grid](#top)\n",
    "Polygon to intersect with:"
   ]
  },
  {
   "cell_type": "code",
   "execution_count": 5,
   "metadata": {
    "execution": {
     "iopub.execute_input": "2022-03-07T20:04:22.634101Z",
     "iopub.status.busy": "2022-03-07T20:04:22.633221Z",
     "iopub.status.idle": "2022-03-07T20:04:22.636483Z",
     "shell.execute_reply": "2022-03-07T20:04:22.635587Z"
    }
   },
   "outputs": [],
   "source": [
    "p = Polygon(\n",
    "    shell=[\n",
    "        (15, 15),\n",
    "        (20, 50),\n",
    "        (35, 80.0),\n",
    "        (80, 50),\n",
    "        (80, 40),\n",
    "        (40, 5),\n",
    "        (15, 12),\n",
    "    ],\n",
    "    holes=[[(25, 25), (25, 45), (45, 45), (45, 25)]],\n",
    ")"
   ]
  },
  {
   "cell_type": "markdown",
   "metadata": {},
   "source": [
    "Create the GridIntersect class for our modelgrid. The keyword arguments are shown below, but as these are the default options, they do not need to be passed necesssarily."
   ]
  },
  {
   "cell_type": "code",
   "execution_count": 6,
   "metadata": {
    "execution": {
     "iopub.execute_input": "2022-03-07T20:04:22.642289Z",
     "iopub.status.busy": "2022-03-07T20:04:22.641320Z",
     "iopub.status.idle": "2022-03-07T20:04:22.704823Z",
     "shell.execute_reply": "2022-03-07T20:04:22.705444Z"
    }
   },
   "outputs": [
    {
     "name": "stderr",
     "output_type": "stream",
     "text": [
      "/Users/jdhughes/Documents/Development/flopy_git/flopy_fork/examples/Notebooks/../../flopy/utils/gridintersect.py:276: ShapelyDeprecationWarning: Setting custom attributes on geometry objects is deprecated, and will raise an AttributeError in Shapely 2.0\n",
      "  p.name = (i, j)\n"
     ]
    }
   ],
   "source": [
    "ix = GridIntersect(sgr, method=\"vertex\", rtree=True)"
   ]
  },
  {
   "cell_type": "markdown",
   "metadata": {},
   "source": [
    "Do the intersect operation for a polygon"
   ]
  },
  {
   "cell_type": "code",
   "execution_count": 7,
   "metadata": {
    "execution": {
     "iopub.execute_input": "2022-03-07T20:04:22.712262Z",
     "iopub.status.busy": "2022-03-07T20:04:22.711375Z",
     "iopub.status.idle": "2022-03-07T20:04:29.687906Z",
     "shell.execute_reply": "2022-03-07T20:04:29.688367Z"
    }
   },
   "outputs": [
    {
     "name": "stdout",
     "output_type": "stream",
     "text": [
      "8.48 ms ± 529 µs per loop (mean ± std. dev. of 7 runs, 100 loops each)\n"
     ]
    }
   ],
   "source": [
    "%timeit ix.intersect(p)"
   ]
  },
  {
   "cell_type": "code",
   "execution_count": 8,
   "metadata": {
    "execution": {
     "iopub.execute_input": "2022-03-07T20:04:29.692449Z",
     "iopub.status.busy": "2022-03-07T20:04:29.691889Z",
     "iopub.status.idle": "2022-03-07T20:04:29.701584Z",
     "shell.execute_reply": "2022-03-07T20:04:29.702143Z"
    }
   },
   "outputs": [],
   "source": [
    "result = ix.intersect(p)"
   ]
  },
  {
   "cell_type": "markdown",
   "metadata": {},
   "source": [
    "The results are returned as a numpy.recarray containing several fields based on the intersection performed. An explanation of the data in each of the possible fields is given below:\n",
    "- **cellids**: contains the cell ids of the intersected grid cells\n",
    "- **vertices**: contains the vertices of the intersected shape\n",
    "- **areas**: contains the area of the polygon in that grid cell (only for polygons)\n",
    "- **lenghts**: contains the length of the linestring in that grid cell (only for linestrings)\n",
    "- **ixshapes**: contains the shapely object representing the intersected shape (useful for plotting the result)\n",
    "\n",
    "Looking at the first few entries of the results of the polygon intersection (convert to pandas.DataFrame for prettier formatting)"
   ]
  },
  {
   "cell_type": "code",
   "execution_count": 9,
   "metadata": {
    "execution": {
     "iopub.execute_input": "2022-03-07T20:04:29.707658Z",
     "iopub.status.busy": "2022-03-07T20:04:29.707016Z",
     "iopub.status.idle": "2022-03-07T20:04:29.709450Z",
     "shell.execute_reply": "2022-03-07T20:04:29.709907Z"
    }
   },
   "outputs": [
    {
     "data": {
      "text/plain": [
       "rec.array([((2, 3), (((35.0, 80.0), (40.0, 76.66666666666667), (40.0, 70.0), (30.0, 70.0), (35.0, 80.0)),),  66.66666667, <shapely.geometry.polygon.Polygon object at 0x7f92b8384d00>),\n",
       "           ((2, 4), (((50.0, 70.0), (40.0, 70.0), (40.0, 76.66666666666667), (50.0, 70.0)),),  33.33333333, <shapely.geometry.polygon.Polygon object at 0x7f92b83b7670>),\n",
       "           ((3, 2), (((30.0, 70.0), (30.0, 60.0), (25.0, 60.0), (30.0, 70.0)),),  25.        , <shapely.geometry.polygon.Polygon object at 0x7f92b84baa00>),\n",
       "           ((3, 3), (((40.0, 70.0), (40.0, 60.0), (30.0, 60.0), (30.0, 70.0), (40.0, 70.0)),), 100.        , <shapely.geometry.polygon.Polygon object at 0x7f92b83b7910>),\n",
       "           ((3, 4), (((50.0, 70.0), (50.0, 60.0), (40.0, 60.0), (40.0, 70.0), (50.0, 70.0)),), 100.        , <shapely.geometry.polygon.Polygon object at 0x7f92b6713580>)],\n",
       "          dtype=[('cellids', 'O'), ('vertices', 'O'), ('areas', '<f8'), ('ixshapes', 'O')])"
      ]
     },
     "execution_count": 9,
     "metadata": {},
     "output_type": "execute_result"
    }
   ],
   "source": [
    "result[:5]\n",
    "# pd.DataFrame(result)  # for prettier formatting"
   ]
  },
  {
   "cell_type": "markdown",
   "metadata": {},
   "source": [
    "The cellids can be easily obtained "
   ]
  },
  {
   "cell_type": "code",
   "execution_count": 10,
   "metadata": {
    "execution": {
     "iopub.execute_input": "2022-03-07T20:04:29.714539Z",
     "iopub.status.busy": "2022-03-07T20:04:29.713746Z",
     "iopub.status.idle": "2022-03-07T20:04:29.716406Z",
     "shell.execute_reply": "2022-03-07T20:04:29.716793Z"
    }
   },
   "outputs": [
    {
     "data": {
      "text/plain": [
       "array([(2, 3), (2, 4), (3, 2), (3, 3), (3, 4), (3, 5), (3, 6), (4, 2),\n",
       "       (4, 3), (4, 4), (4, 5), (4, 6), (4, 7), (5, 1), (5, 2), (5, 3),\n",
       "       (5, 4), (5, 5), (5, 6), (5, 7), (6, 1), (6, 2), (6, 4), (6, 5),\n",
       "       (6, 6), (6, 7), (7, 1), (7, 2), (7, 3), (7, 4), (7, 5), (7, 6),\n",
       "       (8, 1), (8, 2), (8, 3), (8, 4), (8, 5), (9, 2), (9, 3), (9, 4)],\n",
       "      dtype=object)"
      ]
     },
     "execution_count": 10,
     "metadata": {},
     "output_type": "execute_result"
    }
   ],
   "source": [
    "result.cellids"
   ]
  },
  {
   "cell_type": "markdown",
   "metadata": {},
   "source": [
    "Or the areas"
   ]
  },
  {
   "cell_type": "code",
   "execution_count": 11,
   "metadata": {
    "execution": {
     "iopub.execute_input": "2022-03-07T20:04:29.721181Z",
     "iopub.status.busy": "2022-03-07T20:04:29.720570Z",
     "iopub.status.idle": "2022-03-07T20:04:29.723273Z",
     "shell.execute_reply": "2022-03-07T20:04:29.723662Z"
    }
   },
   "outputs": [
    {
     "data": {
      "text/plain": [
       "array([ 66.66666667,  33.33333333,  25.        , 100.        ,\n",
       "       100.        ,  66.66666667,   8.33333333,  75.        ,\n",
       "       100.        , 100.        , 100.        ,  91.66666667,\n",
       "        33.33333333,   7.14285714,  75.        ,  50.        ,\n",
       "        75.        , 100.        , 100.        , 100.        ,\n",
       "        21.42857143,  50.        ,  50.        , 100.        ,\n",
       "        99.10714286,  43.75      ,  35.71428571,  75.        ,\n",
       "        50.        ,  75.        ,  96.42857143,  32.14285714,\n",
       "        41.71428571,  99.35714286, 100.        ,  91.96428571,\n",
       "        22.32142857,   8.64285714,  36.        ,  14.28571429])"
      ]
     },
     "execution_count": 11,
     "metadata": {},
     "output_type": "execute_result"
    }
   ],
   "source": [
    "result.areas"
   ]
  },
  {
   "cell_type": "markdown",
   "metadata": {},
   "source": [
    "If  a user is only interested in which cells the shape intersects (and not the areas or the actual shape of the intersected object) with there is also the `intersects()` method. This method works for all types of shapely geometries."
   ]
  },
  {
   "cell_type": "code",
   "execution_count": 12,
   "metadata": {
    "execution": {
     "iopub.execute_input": "2022-03-07T20:04:29.728126Z",
     "iopub.status.busy": "2022-03-07T20:04:29.727551Z",
     "iopub.status.idle": "2022-03-07T20:04:29.731939Z",
     "shell.execute_reply": "2022-03-07T20:04:29.732299Z"
    }
   },
   "outputs": [
    {
     "data": {
      "text/plain": [
       "rec.array([((8, 1),), ((8, 2),), ((7, 1),), ((7, 2),), ((6, 1),),\n",
       "           ((9, 2),), ((9, 3),), ((9, 4),), ((8, 3),), ((8, 4),),\n",
       "           ((7, 3),), ((7, 4),), ((6, 2),), ((6, 4),), ((5, 1),),\n",
       "           ((4, 1),), ((3, 2),), ((2, 2),), ((5, 2),), ((5, 3),),\n",
       "           ((5, 4),), ((4, 2),), ((4, 3),), ((4, 4),), ((3, 3),),\n",
       "           ((3, 4),), ((2, 3),), ((2, 4),), ((1, 3),), ((6, 8),),\n",
       "           ((8, 5),), ((7, 5),), ((7, 6),), ((6, 5),), ((6, 6),),\n",
       "           ((6, 7),), ((5, 5),), ((5, 8),), ((4, 7),), ((4, 8),),\n",
       "           ((5, 6),), ((5, 7),), ((4, 5),), ((4, 6),), ((3, 5),),\n",
       "           ((3, 6),), ((2, 5),)],\n",
       "          dtype=[('cellids', 'O')])"
      ]
     },
     "execution_count": 12,
     "metadata": {},
     "output_type": "execute_result"
    }
   ],
   "source": [
    "ix.intersects(p)"
   ]
  },
  {
   "cell_type": "markdown",
   "metadata": {},
   "source": [
    "The results of an intersection can be visualized with the plotting methods in the `GridIntersect` object:\n",
    "- `plot_polygon`\n",
    "- `plot_linestring`\n",
    "- `plot_point`"
   ]
  },
  {
   "cell_type": "code",
   "execution_count": 13,
   "metadata": {
    "execution": {
     "iopub.execute_input": "2022-03-07T20:04:29.746386Z",
     "iopub.status.busy": "2022-03-07T20:04:29.745773Z",
     "iopub.status.idle": "2022-03-07T20:04:30.000499Z",
     "shell.execute_reply": "2022-03-07T20:04:30.000909Z"
    }
   },
   "outputs": [
    {
     "name": "stderr",
     "output_type": "stream",
     "text": [
      "/Users/jdhughes/opt/anaconda3/lib/python3.9/site-packages/descartes/patch.py:62: ShapelyDeprecationWarning: The array interface is deprecated and will no longer work in Shapely 2.0. Convert the '.coords' to a numpy array instead.\n",
      "  vertices = concatenate([\n"
     ]
    },
    {
     "data": {
      "image/png": "[encoded data removed]",
      "text/plain": [
       "<Figure size 576x576 with 1 Axes>"
      ]
     },
     "metadata": {
      "needs_background": "light"
     },
     "output_type": "display_data"
    }
   ],
   "source": [
    "# create a figure and plot the grid\n",
    "fig, ax = plt.subplots(1, 1, figsize=(8, 8))\n",
    "sgr.plot(ax=ax)\n",
    "\n",
    "# the intersection object contains some helpful plotting commands\n",
    "ix.plot_polygon(result, ax=ax)\n",
    "\n",
    "# add black x at cell centers\n",
    "for irow, icol in result.cellids:\n",
    "    (h2,) = ax.plot(\n",
    "        sgr.xcellcenters[0, icol],\n",
    "        sgr.ycellcenters[irow, 0],\n",
    "        \"kx\",\n",
    "        label=\"centroids of intersected gridcells\",\n",
    "    )\n",
    "\n",
    "# add legend\n",
    "ax.legend([h2], [i.get_label() for i in [h2]], loc=\"best\");"
   ]
  },
  {
   "cell_type": "markdown",
   "metadata": {},
   "source": [
    "Alternatively, the intersection can be calculated using special methods optimized for structured grids. Access these methods by instantiating the GridIntersect class with the `method=\"structured\"` keyword argument."
   ]
  },
  {
   "cell_type": "code",
   "execution_count": 14,
   "metadata": {
    "execution": {
     "iopub.execute_input": "2022-03-07T20:04:30.005069Z",
     "iopub.status.busy": "2022-03-07T20:04:30.004433Z",
     "iopub.status.idle": "2022-03-07T20:04:30.006653Z",
     "shell.execute_reply": "2022-03-07T20:04:30.007234Z"
    }
   },
   "outputs": [],
   "source": [
    "ixs = GridIntersect(sgr, method=\"structured\")"
   ]
  },
  {
   "cell_type": "markdown",
   "metadata": {},
   "source": [
    "The methods are optimized for structured grids, but for certain types of polygons there is no benefit (as can be seen in this example)."
   ]
  },
  {
   "cell_type": "code",
   "execution_count": 15,
   "metadata": {
    "execution": {
     "iopub.execute_input": "2022-03-07T20:04:30.013496Z",
     "iopub.status.busy": "2022-03-07T20:04:30.012857Z",
     "iopub.status.idle": "2022-03-07T20:04:38.628178Z",
     "shell.execute_reply": "2022-03-07T20:04:38.628618Z"
    }
   },
   "outputs": [
    {
     "name": "stdout",
     "output_type": "stream",
     "text": [
      "10.6 ms ± 110 µs per loop (mean ± std. dev. of 7 runs, 100 loops each)\n"
     ]
    }
   ],
   "source": [
    "%timeit ixs.intersect(p)"
   ]
  },
  {
   "cell_type": "markdown",
   "metadata": {},
   "source": [
    "The result is the same as before:"
   ]
  },
  {
   "cell_type": "code",
   "execution_count": 16,
   "metadata": {
    "execution": {
     "iopub.execute_input": "2022-03-07T20:04:38.633459Z",
     "iopub.status.busy": "2022-03-07T20:04:38.632524Z",
     "iopub.status.idle": "2022-03-07T20:04:38.647443Z",
     "shell.execute_reply": "2022-03-07T20:04:38.647934Z"
    }
   },
   "outputs": [
    {
     "data": {
      "text/plain": [
       "rec.array([((2, 3), (((35.0, 80.0), (40.0, 76.66666666666667), (40.0, 70.0), (30.0, 70.0), (35.0, 80.0)),),  66.66666667, <shapely.geometry.polygon.Polygon object at 0x7f92b846e820>),\n",
       "           ((2, 4), (((50.0, 70.0), (40.0, 70.0), (40.0, 76.66666666666667), (50.0, 70.0)),),  33.33333333, <shapely.geometry.polygon.Polygon object at 0x7f92b84dea60>),\n",
       "           ((3, 2), (((30.0, 70.0), (30.0, 60.0), (25.0, 60.0), (30.0, 70.0)),),  25.        , <shapely.geometry.polygon.Polygon object at 0x7f92b8622d90>),\n",
       "           ((3, 3), (((40.0, 70.0), (40.0, 60.0), (30.0, 60.0), (30.0, 70.0), (40.0, 70.0)),), 100.        , <shapely.geometry.polygon.Polygon object at 0x7f92b8622e50>),\n",
       "           ((3, 4), (((50.0, 70.0), (50.0, 60.0), (40.0, 60.0), (40.0, 70.0), (50.0, 70.0)),), 100.        , <shapely.geometry.polygon.Polygon object at 0x7f92b8640700>)],\n",
       "          dtype=[('cellids', 'O'), ('vertices', 'O'), ('areas', '<f8'), ('ixshapes', 'O')])"
      ]
     },
     "execution_count": 16,
     "metadata": {},
     "output_type": "execute_result"
    }
   ],
   "source": [
    "result2 = ixs.intersect(p)\n",
    "result2[:5]"
   ]
  },
  {
   "cell_type": "markdown",
   "metadata": {},
   "source": [
    "### <a id=\"rectgrid.2\"></a>[Polyline with regular grid](#top)\n",
    "MultiLineString to intersect with:"
   ]
  },
  {
   "cell_type": "code",
   "execution_count": 17,
   "metadata": {
    "execution": {
     "iopub.execute_input": "2022-03-07T20:04:38.653849Z",
     "iopub.status.busy": "2022-03-07T20:04:38.653259Z",
     "iopub.status.idle": "2022-03-07T20:04:38.655250Z",
     "shell.execute_reply": "2022-03-07T20:04:38.655658Z"
    }
   },
   "outputs": [],
   "source": [
    "ls1 = LineString([(95, 105), (30, 50)])\n",
    "ls2 = LineString([(30, 50), (90, 22)])\n",
    "ls3 = LineString([(90, 22), (0, 0)])\n",
    "mls = MultiLineString(lines=[ls1, ls2, ls3])"
   ]
  },
  {
   "cell_type": "code",
   "execution_count": 18,
   "metadata": {
    "execution": {
     "iopub.execute_input": "2022-03-07T20:04:38.660661Z",
     "iopub.status.busy": "2022-03-07T20:04:38.660068Z",
     "iopub.status.idle": "2022-03-07T20:04:41.854998Z",
     "shell.execute_reply": "2022-03-07T20:04:41.855641Z"
    }
   },
   "outputs": [
    {
     "name": "stdout",
     "output_type": "stream",
     "text": [
      "3.95 ms ± 29.1 µs per loop (mean ± std. dev. of 7 runs, 100 loops each)\n"
     ]
    }
   ],
   "source": [
    "%timeit ix.intersect(mls)"
   ]
  },
  {
   "cell_type": "code",
   "execution_count": 19,
   "metadata": {
    "execution": {
     "iopub.execute_input": "2022-03-07T20:04:41.859905Z",
     "iopub.status.busy": "2022-03-07T20:04:41.859291Z",
     "iopub.status.idle": "2022-03-07T20:04:41.865820Z",
     "shell.execute_reply": "2022-03-07T20:04:41.866262Z"
    }
   },
   "outputs": [],
   "source": [
    "result = ix.intersect(mls)"
   ]
  },
  {
   "cell_type": "markdown",
   "metadata": {},
   "source": [
    "Plot the result"
   ]
  },
  {
   "cell_type": "code",
   "execution_count": 20,
   "metadata": {
    "execution": {
     "iopub.execute_input": "2022-03-07T20:04:41.880973Z",
     "iopub.status.busy": "2022-03-07T20:04:41.875272Z",
     "iopub.status.idle": "2022-03-07T20:04:42.062711Z",
     "shell.execute_reply": "2022-03-07T20:04:42.063190Z"
    }
   },
   "outputs": [
    {
     "name": "stderr",
     "output_type": "stream",
     "text": [
      "/Users/jdhughes/Documents/Development/flopy_git/flopy_fork/examples/Notebooks/../../flopy/utils/gridintersect.py:1561: ShapelyDeprecationWarning: Iteration over multi-part geometries is deprecated and will be removed in Shapely 2.0. Use the `geoms` property to access the constituent parts of a multi-part geometry.\n",
      "  for part in ishp:\n"
     ]
    },
    {
     "data": {
      "image/png": "[encoded data removed]",
      "text/plain": [
       "<Figure size 576x576 with 1 Axes>"
      ]
     },
     "metadata": {
      "needs_background": "light"
     },
     "output_type": "display_data"
    }
   ],
   "source": [
    "fig, ax = plt.subplots(1, 1, figsize=(8, 8))\n",
    "sgr.plot(ax=ax)\n",
    "ix.plot_linestring(result, ax=ax, cmap=\"viridis\")\n",
    "\n",
    "for irow, icol in result.cellids:\n",
    "    (h2,) = ax.plot(\n",
    "        sgr.xcellcenters[0, icol],\n",
    "        sgr.ycellcenters[irow, 0],\n",
    "        \"kx\",\n",
    "        label=\"centroids of intersected gridcells\",\n",
    "    )\n",
    "\n",
    "ax.legend([h2], [i.get_label() for i in [h2]], loc=\"best\");"
   ]
  },
  {
   "cell_type": "markdown",
   "metadata": {},
   "source": [
    "Same as before, the intersect for structured grids can also be performed with a different method optimized for structured grids"
   ]
  },
  {
   "cell_type": "code",
   "execution_count": 21,
   "metadata": {
    "execution": {
     "iopub.execute_input": "2022-03-07T20:04:42.067668Z",
     "iopub.status.busy": "2022-03-07T20:04:42.066825Z",
     "iopub.status.idle": "2022-03-07T20:04:42.068912Z",
     "shell.execute_reply": "2022-03-07T20:04:42.069350Z"
    }
   },
   "outputs": [],
   "source": [
    "ixs = GridIntersect(sgr, method=\"structured\")"
   ]
  },
  {
   "cell_type": "code",
   "execution_count": 22,
   "metadata": {
    "execution": {
     "iopub.execute_input": "2022-03-07T20:04:42.074344Z",
     "iopub.status.busy": "2022-03-07T20:04:42.073533Z",
     "iopub.status.idle": "2022-03-07T20:04:47.590449Z",
     "shell.execute_reply": "2022-03-07T20:04:47.590842Z"
    }
   },
   "outputs": [
    {
     "name": "stdout",
     "output_type": "stream",
     "text": [
      "6.79 ms ± 113 µs per loop (mean ± std. dev. of 7 runs, 100 loops each)\n"
     ]
    }
   ],
   "source": [
    "%timeit ixs.intersect(mls)"
   ]
  },
  {
   "cell_type": "markdown",
   "metadata": {},
   "source": [
    "### [MultiPoint with regular grid](#top)<a id=\"rectgrid.3\"></a>\n",
    "\n",
    "MultiPoint to intersect with"
   ]
  },
  {
   "cell_type": "code",
   "execution_count": 23,
   "metadata": {
    "execution": {
     "iopub.execute_input": "2022-03-07T20:04:47.595418Z",
     "iopub.status.busy": "2022-03-07T20:04:47.594851Z",
     "iopub.status.idle": "2022-03-07T20:04:47.597409Z",
     "shell.execute_reply": "2022-03-07T20:04:47.597791Z"
    }
   },
   "outputs": [],
   "source": [
    "mp = MultiPoint(\n",
    "    points=[\n",
    "        Point(50.0, 0.0),\n",
    "        Point(45.0, 45.0),\n",
    "        Point(10.0, 10.0),\n",
    "        Point(150.0, 100.0),\n",
    "    ]\n",
    ")"
   ]
  },
  {
   "cell_type": "code",
   "execution_count": 24,
   "metadata": {
    "execution": {
     "iopub.execute_input": "2022-03-07T20:04:47.603588Z",
     "iopub.status.busy": "2022-03-07T20:04:47.603041Z",
     "iopub.status.idle": "2022-03-07T20:04:59.123476Z",
     "shell.execute_reply": "2022-03-07T20:04:59.124287Z"
    }
   },
   "outputs": [
    {
     "name": "stdout",
     "output_type": "stream",
     "text": [
      "1.48 ms ± 720 µs per loop (mean ± std. dev. of 7 runs, 1,000 loops each)\n"
     ]
    }
   ],
   "source": [
    "%timeit ix.intersect(mp)"
   ]
  },
  {
   "cell_type": "code",
   "execution_count": 25,
   "metadata": {
    "execution": {
     "iopub.execute_input": "2022-03-07T20:04:59.130769Z",
     "iopub.status.busy": "2022-03-07T20:04:59.129732Z",
     "iopub.status.idle": "2022-03-07T20:04:59.138101Z",
     "shell.execute_reply": "2022-03-07T20:04:59.138885Z"
    }
   },
   "outputs": [
    {
     "data": {
      "text/plain": [
       "rec.array([((5, 4), ((45.0, 45.0),), <shapely.geometry.point.Point object at 0x7f92b86402e0>),\n",
       "           ((8, 0), ((10.0, 10.0),), <shapely.geometry.point.Point object at 0x7f92b8640190>),\n",
       "           ((9, 4), ((50.0, 0.0),), <shapely.geometry.point.Point object at 0x7f92b87c0550>)],\n",
       "          dtype=[('cellids', 'O'), ('vertices', 'O'), ('ixshapes', 'O')])"
      ]
     },
     "execution_count": 25,
     "metadata": {},
     "output_type": "execute_result"
    }
   ],
   "source": [
    "result = ix.intersect(mp)\n",
    "result"
   ]
  },
  {
   "cell_type": "code",
   "execution_count": 26,
   "metadata": {
    "execution": {
     "iopub.execute_input": "2022-03-07T20:04:59.159492Z",
     "iopub.status.busy": "2022-03-07T20:04:59.152007Z",
     "iopub.status.idle": "2022-03-07T20:04:59.277671Z",
     "shell.execute_reply": "2022-03-07T20:04:59.278105Z"
    }
   },
   "outputs": [
    {
     "data": {
      "image/png": "[encoded data removed]",
      "text/plain": [
       "<Figure size 576x576 with 1 Axes>"
      ]
     },
     "metadata": {
      "needs_background": "light"
     },
     "output_type": "display_data"
    }
   ],
   "source": [
    "fig, ax = plt.subplots(1, 1, figsize=(8, 8))\n",
    "sgr.plot(ax=ax)\n",
    "ix.plot_point(result, ax=ax, s=50)\n",
    "\n",
    "for irow, icol in result.cellids:\n",
    "    (h2,) = ax.plot(\n",
    "        sgr.xcellcenters[0, icol],\n",
    "        sgr.ycellcenters[irow, 0],\n",
    "        \"kx\",\n",
    "        label=\"centroids of intersected cells\",\n",
    "    )\n",
    "\n",
    "ax.legend([h2], [i.get_label() for i in [h2]], loc=\"best\");"
   ]
  },
  {
   "cell_type": "markdown",
   "metadata": {},
   "source": [
    "Same as before, the intersect for structured grids can also be performed with a different method optimized for structured grids"
   ]
  },
  {
   "cell_type": "code",
   "execution_count": 27,
   "metadata": {
    "execution": {
     "iopub.execute_input": "2022-03-07T20:04:59.282124Z",
     "iopub.status.busy": "2022-03-07T20:04:59.281349Z",
     "iopub.status.idle": "2022-03-07T20:04:59.283486Z",
     "shell.execute_reply": "2022-03-07T20:04:59.283870Z"
    }
   },
   "outputs": [],
   "source": [
    "ixs = GridIntersect(sgr, method=\"structured\")"
   ]
  },
  {
   "cell_type": "code",
   "execution_count": 28,
   "metadata": {
    "execution": {
     "iopub.execute_input": "2022-03-07T20:04:59.289132Z",
     "iopub.status.busy": "2022-03-07T20:04:59.288297Z",
     "iopub.status.idle": "2022-03-07T20:05:06.858340Z",
     "shell.execute_reply": "2022-03-07T20:05:06.858850Z"
    }
   },
   "outputs": [
    {
     "name": "stdout",
     "output_type": "stream",
     "text": [
      "984 µs ± 567 µs per loop (mean ± std. dev. of 7 runs, 1,000 loops each)\n"
     ]
    }
   ],
   "source": [
    "%timeit ixs.intersect(mp)"
   ]
  },
  {
   "cell_type": "code",
   "execution_count": 29,
   "metadata": {
    "execution": {
     "iopub.execute_input": "2022-03-07T20:05:06.863208Z",
     "iopub.status.busy": "2022-03-07T20:05:06.862482Z",
     "iopub.status.idle": "2022-03-07T20:05:06.867096Z",
     "shell.execute_reply": "2022-03-07T20:05:06.867512Z"
    }
   },
   "outputs": [
    {
     "data": {
      "text/plain": [
       "rec.array([((9, 4), <shapely.geometry.point.Point object at 0x7f92b83d3280>),\n",
       "           ((5, 4), <shapely.geometry.point.Point object at 0x7f92b89b6cd0>),\n",
       "           ((8, 0), <shapely.geometry.point.Point object at 0x7f92b89b6d30>)],\n",
       "          dtype=[('cellids', 'O'), ('ixshapes', 'O')])"
      ]
     },
     "execution_count": 29,
     "metadata": {},
     "output_type": "execute_result"
    }
   ],
   "source": [
    "ixs.intersect(mp)"
   ]
  },
  {
   "cell_type": "markdown",
   "metadata": {},
   "source": [
    "## <a id=\"trigrid\"></a>[Vertex Grid](#top)"
   ]
  },
  {
   "cell_type": "code",
   "execution_count": 30,
   "metadata": {
    "execution": {
     "iopub.execute_input": "2022-03-07T20:05:06.876167Z",
     "iopub.status.busy": "2022-03-07T20:05:06.875445Z",
     "iopub.status.idle": "2022-03-07T20:05:06.877408Z",
     "shell.execute_reply": "2022-03-07T20:05:06.877809Z"
    }
   },
   "outputs": [],
   "source": [
    "cell2d = [\n",
    "    [0, 83.33333333333333, 66.66666666666667, 3, 4, 2, 7],\n",
    "    [1, 16.666666666666668, 33.333333333333336, 3, 4, 0, 5],\n",
    "    [2, 33.333333333333336, 83.33333333333333, 3, 1, 8, 4],\n",
    "    [3, 16.666666666666668, 66.66666666666667, 3, 5, 1, 4],\n",
    "    [4, 33.333333333333336, 16.666666666666668, 3, 6, 0, 4],\n",
    "    [5, 66.66666666666667, 16.666666666666668, 3, 4, 3, 6],\n",
    "    [6, 83.33333333333333, 33.333333333333336, 3, 7, 3, 4],\n",
    "    [7, 66.66666666666667, 83.33333333333333, 3, 8, 2, 4],\n",
    "]\n",
    "vertices = [\n",
    "    [0, 0.0, 0.0],\n",
    "    [1, 0.0, 100.0],\n",
    "    [2, 100.0, 100.0],\n",
    "    [3, 100.0, 0.0],\n",
    "    [4, 50.0, 50.0],\n",
    "    [5, 0.0, 50.0],\n",
    "    [6, 50.0, 0.0],\n",
    "    [7, 100.0, 50.0],\n",
    "    [8, 50.0, 100.0],\n",
    "]\n",
    "tgr = fgrid.VertexGrid(vertices, cell2d)"
   ]
  },
  {
   "cell_type": "code",
   "execution_count": 31,
   "metadata": {
    "execution": {
     "iopub.execute_input": "2022-03-07T20:05:06.897132Z",
     "iopub.status.busy": "2022-03-07T20:05:06.896248Z",
     "iopub.status.idle": "2022-03-07T20:05:06.987126Z",
     "shell.execute_reply": "2022-03-07T20:05:06.987945Z"
    }
   },
   "outputs": [
    {
     "data": {
      "text/plain": [
       "<matplotlib.collections.LineCollection at 0x7f92b8b3abe0>"
      ]
     },
     "execution_count": 31,
     "metadata": {},
     "output_type": "execute_result"
    },
    {
     "data": {
      "image/png": "[encoded data removed]",
      "text/plain": [
       "<Figure size 576x576 with 1 Axes>"
      ]
     },
     "metadata": {
      "needs_background": "light"
     },
     "output_type": "display_data"
    }
   ],
   "source": [
    "fig, ax = plt.subplots(1, 1, figsize=(8, 8))\n",
    "pmv = fplot.PlotMapView(modelgrid=tgr)\n",
    "pmv.plot_grid(ax=ax)"
   ]
  },
  {
   "cell_type": "markdown",
   "metadata": {},
   "source": [
    "### <a id=\"trigrid.1\"></a>[Polygon with triangular grid](#top)"
   ]
  },
  {
   "cell_type": "code",
   "execution_count": 32,
   "metadata": {
    "execution": {
     "iopub.execute_input": "2022-03-07T20:05:06.993132Z",
     "iopub.status.busy": "2022-03-07T20:05:06.992418Z",
     "iopub.status.idle": "2022-03-07T20:05:06.995371Z",
     "shell.execute_reply": "2022-03-07T20:05:06.995846Z"
    }
   },
   "outputs": [
    {
     "name": "stderr",
     "output_type": "stream",
     "text": [
      "/Users/jdhughes/Documents/Development/flopy_git/flopy_fork/examples/Notebooks/../../flopy/utils/gridintersect.py:337: ShapelyDeprecationWarning: Setting custom attributes on geometry objects is deprecated, and will raise an AttributeError in Shapely 2.0\n",
      "  p.name = icell\n"
     ]
    }
   ],
   "source": [
    "ix2 = GridIntersect(tgr)"
   ]
  },
  {
   "cell_type": "code",
   "execution_count": 33,
   "metadata": {
    "execution": {
     "iopub.execute_input": "2022-03-07T20:05:07.000987Z",
     "iopub.status.busy": "2022-03-07T20:05:07.000154Z",
     "iopub.status.idle": "2022-03-07T20:05:07.005062Z",
     "shell.execute_reply": "2022-03-07T20:05:07.005472Z"
    }
   },
   "outputs": [],
   "source": [
    "result = ix2.intersect(p)"
   ]
  },
  {
   "cell_type": "code",
   "execution_count": 34,
   "metadata": {
    "execution": {
     "iopub.execute_input": "2022-03-07T20:05:07.027543Z",
     "iopub.status.busy": "2022-03-07T20:05:07.017631Z",
     "iopub.status.idle": "2022-03-07T20:05:07.175551Z",
     "shell.execute_reply": "2022-03-07T20:05:07.176227Z"
    }
   },
   "outputs": [
    {
     "name": "stderr",
     "output_type": "stream",
     "text": [
      "/Users/jdhughes/opt/anaconda3/lib/python3.9/site-packages/descartes/patch.py:62: ShapelyDeprecationWarning: The array interface is deprecated and will no longer work in Shapely 2.0. Convert the '.coords' to a numpy array instead.\n",
      "  vertices = concatenate([\n"
     ]
    },
    {
     "data": {
      "image/png": "[encoded data removed]",
      "text/plain": [
       "<Figure size 576x576 with 1 Axes>"
      ]
     },
     "metadata": {
      "needs_background": "light"
     },
     "output_type": "display_data"
    }
   ],
   "source": [
    "fig, ax = plt.subplots(1, 1, figsize=(8, 8))\n",
    "pmv = fplot.PlotMapView(ax=ax, modelgrid=tgr)\n",
    "pmv.plot_grid()\n",
    "ix.plot_polygon(result, ax=ax)\n",
    "\n",
    "# only cells that intersect with shape\n",
    "for cellid in result.cellids:\n",
    "    (h2,) = ax.plot(\n",
    "        tgr.xcellcenters[cellid],\n",
    "        tgr.ycellcenters[cellid],\n",
    "        \"kx\",\n",
    "        label=\"centroids of intersected gridcells\",\n",
    "    )\n",
    "\n",
    "ax.legend([h2], [i.get_label() for i in [h2]], loc=\"best\");"
   ]
  },
  {
   "cell_type": "markdown",
   "metadata": {},
   "source": [
    "### <a id=\"trigrid.2\"></a>[LineString with triangular grid](#top)"
   ]
  },
  {
   "cell_type": "code",
   "execution_count": 35,
   "metadata": {
    "execution": {
     "iopub.execute_input": "2022-03-07T20:05:07.181729Z",
     "iopub.status.busy": "2022-03-07T20:05:07.180810Z",
     "iopub.status.idle": "2022-03-07T20:05:07.185609Z",
     "shell.execute_reply": "2022-03-07T20:05:07.186122Z"
    }
   },
   "outputs": [],
   "source": [
    "result = ix2.intersect(mls)"
   ]
  },
  {
   "cell_type": "code",
   "execution_count": 36,
   "metadata": {
    "execution": {
     "iopub.execute_input": "2022-03-07T20:05:07.268936Z",
     "iopub.status.busy": "2022-03-07T20:05:07.268117Z",
     "iopub.status.idle": "2022-03-07T20:05:07.396184Z",
     "shell.execute_reply": "2022-03-07T20:05:07.396800Z"
    }
   },
   "outputs": [
    {
     "name": "stderr",
     "output_type": "stream",
     "text": [
      "/Users/jdhughes/Documents/Development/flopy_git/flopy_fork/examples/Notebooks/../../flopy/utils/gridintersect.py:1561: ShapelyDeprecationWarning: Iteration over multi-part geometries is deprecated and will be removed in Shapely 2.0. Use the `geoms` property to access the constituent parts of a multi-part geometry.\n",
      "  for part in ishp:\n"
     ]
    },
    {
     "data": {
      "image/png": "[encoded data removed]",
      "text/plain": [
       "<Figure size 576x576 with 1 Axes>"
      ]
     },
     "metadata": {
      "needs_background": "light"
     },
     "output_type": "display_data"
    }
   ],
   "source": [
    "fig, ax = plt.subplots(1, 1, figsize=(8, 8))\n",
    "pmv = fplot.PlotMapView(ax=ax, modelgrid=tgr)\n",
    "pmv.plot_grid()\n",
    "ix2.plot_linestring(result, ax=ax, lw=3)\n",
    "\n",
    "for cellid in result.cellids:\n",
    "    (h2,) = ax.plot(\n",
    "        tgr.xcellcenters[cellid],\n",
    "        tgr.ycellcenters[cellid],\n",
    "        \"kx\",\n",
    "        label=\"centroids of intersected gridcells\",\n",
    "    )\n",
    "\n",
    "ax.legend([h2], [i.get_label() for i in [h2]], loc=\"best\");"
   ]
  },
  {
   "cell_type": "markdown",
   "metadata": {},
   "source": [
    "### <a id=\"trigrid.3\"></a>[MultiPoint with triangular grid](#top)"
   ]
  },
  {
   "cell_type": "code",
   "execution_count": 37,
   "metadata": {
    "execution": {
     "iopub.execute_input": "2022-03-07T20:05:07.402306Z",
     "iopub.status.busy": "2022-03-07T20:05:07.401472Z",
     "iopub.status.idle": "2022-03-07T20:05:07.405573Z",
     "shell.execute_reply": "2022-03-07T20:05:07.406022Z"
    }
   },
   "outputs": [],
   "source": [
    "result = ix2.intersect(mp)"
   ]
  },
  {
   "cell_type": "code",
   "execution_count": 38,
   "metadata": {
    "execution": {
     "iopub.execute_input": "2022-03-07T20:05:07.410982Z",
     "iopub.status.busy": "2022-03-07T20:05:07.410224Z",
     "iopub.status.idle": "2022-03-07T20:05:07.413211Z",
     "shell.execute_reply": "2022-03-07T20:05:07.413619Z"
    }
   },
   "outputs": [
    {
     "data": {
      "text/plain": [
       "rec.array([(1, ((10.0, 10.0), (45.0, 45.0)), <shapely.geometry.multipoint.MultiPoint object at 0x7f92b8de5a60>),\n",
       "           (4, ((50.0, 0.0),), <shapely.geometry.point.Point object at 0x7f92b87c0b20>)],\n",
       "          dtype=[('cellids', 'O'), ('vertices', 'O'), ('ixshapes', 'O')])"
      ]
     },
     "execution_count": 38,
     "metadata": {},
     "output_type": "execute_result"
    }
   ],
   "source": [
    "result"
   ]
  },
  {
   "cell_type": "code",
   "execution_count": 39,
   "metadata": {
    "execution": {
     "iopub.execute_input": "2022-03-07T20:05:07.433507Z",
     "iopub.status.busy": "2022-03-07T20:05:07.432644Z",
     "iopub.status.idle": "2022-03-07T20:05:07.542937Z",
     "shell.execute_reply": "2022-03-07T20:05:07.543350Z"
    }
   },
   "outputs": [
    {
     "data": {
      "image/png": "[encoded data removed]",
      "text/plain": [
       "<Figure size 576x576 with 1 Axes>"
      ]
     },
     "metadata": {
      "needs_background": "light"
     },
     "output_type": "display_data"
    }
   ],
   "source": [
    "fig, ax = plt.subplots(1, 1, figsize=(8, 8))\n",
    "pmv = fplot.PlotMapView(ax=ax, modelgrid=tgr)\n",
    "pmv.plot_grid()\n",
    "ix2.plot_point(result, ax=ax)\n",
    "\n",
    "for cellid in result.cellids:\n",
    "    (h2,) = ax.plot(\n",
    "        tgr.xcellcenters[cellid],\n",
    "        tgr.ycellcenters[cellid],\n",
    "        \"kx\",\n",
    "        label=\"centroids of intersected cells\",\n",
    "    )\n",
    "\n",
    "ax.legend([h2], [i.get_label() for i in [h2]], loc=\"best\");"
   ]
  }
 ],
 "metadata": {
  "kernelspec": {
   "display_name": "Python 3",
   "language": "python",
   "name": "python3"
  },
  "language_info": {
   "codemirror_mode": {
    "name": "ipython",
    "version": 3
   },
   "file_extension": ".py",
   "mimetype": "text/x-python",
   "name": "python",
   "nbconvert_exporter": "python",
   "pygments_lexer": "ipython3",
   "version": "3.9.7"
  }
 },
 "nbformat": 4,
 "nbformat_minor": 4
}
