{
 "cells": [
  {
   "cell_type": "markdown",
   "metadata": {},
   "source": [
    "# FloPy Creating Layered Quadtree Grids with GRIDGEN\n",
    "\n",
    "FloPy has a module that can be used to drive the GRIDGEN program.  This notebook shows how it works.\n",
    "\n",
    "## Import Modules and Locate Gridgen Executable"
   ]
  },
  {
   "cell_type": "code",
   "execution_count": null,
   "metadata": {
    "execution": {
     "iopub.execute_input": "2023-02-22T02:38:58.829605Z",
     "iopub.status.busy": "2023-02-22T02:38:58.829278Z",
     "iopub.status.idle": "2023-02-22T02:38:59.778039Z",
     "shell.execute_reply": "2023-02-22T02:38:59.777030Z"
    }
   },
   "outputs": [],
   "source": [
    "import os\n",
    "import sys\n",
    "import shutil\n",
    "from tempfile import TemporaryDirectory\n",
    "\n",
    "import numpy as np\n",
    "import matplotlib as mpl\n",
    "import matplotlib.pyplot as plt\n",
    "\n",
    "# run installed version of flopy or add local path\n",
    "try:\n",
    "    import flopy\n",
    "except:\n",
    "    fpth = os.path.abspath(os.path.join(\"..\", \"..\"))\n",
    "    sys.path.append(fpth)\n",
    "    import flopy\n",
    "\n",
    "from flopy.utils.gridgen import Gridgen\n",
    "from flopy.utils import flopy_io\n",
    "\n",
    "print(sys.version)\n",
    "print(\"numpy version: {}\".format(np.__version__))\n",
    "print(\"matplotlib version: {}\".format(mpl.__version__))\n",
    "print(\"flopy version: {}\".format(flopy.__version__))"
   ]
  },
  {
   "cell_type": "markdown",
   "metadata": {},
   "source": [
    "The Flopy GRIDGEN module requires that the gridgen executable can be called using subprocess **(i.e., gridgen is in your path)**."
   ]
  },
  {
   "cell_type": "code",
   "execution_count": null,
   "metadata": {
    "execution": {
     "iopub.execute_input": "2023-02-22T02:38:59.836382Z",
     "iopub.status.busy": "2023-02-22T02:38:59.835646Z",
     "iopub.status.idle": "2023-02-22T02:38:59.841987Z",
     "shell.execute_reply": "2023-02-22T02:38:59.841085Z"
    }
   },
   "outputs": [],
   "source": [
    "gridgen_exe = flopy.which(\"gridgen\")\n",
    "if gridgen_exe is None:\n",
    "    msg = (\n",
    "        \"Warning, gridgen is not in your path. \"\n",
    "        \"When you create the griden object you will need to \"\n",
    "        \"provide a full path to the gridgen binary executable.\"\n",
    "    )\n",
    "    print(msg)\n",
    "else:\n",
    "    print(\n",
    "        \"gridgen executable was found at: {}\".format(\n",
    "            flopy_io.relpath_safe(gridgen_exe)\n",
    "        )\n",
    "    )"
   ]
  },
  {
   "cell_type": "code",
   "execution_count": null,
   "metadata": {
    "execution": {
     "iopub.execute_input": "2023-02-22T02:38:59.846340Z",
     "iopub.status.busy": "2023-02-22T02:38:59.845773Z",
     "iopub.status.idle": "2023-02-22T02:38:59.853183Z",
     "shell.execute_reply": "2023-02-22T02:38:59.852283Z"
    }
   },
   "outputs": [],
   "source": [
    "# temporary directory\n",
    "temp_dir = TemporaryDirectory()\n",
    "model_ws = temp_dir.name\n",
    "\n",
    "gridgen_ws = os.path.join(model_ws, \"gridgen\")\n",
    "if not os.path.exists(gridgen_ws):\n",
    "    os.makedirs(gridgen_ws, exist_ok=True)\n",
    "print(\"Model workspace is : {}\".format(flopy_io.scrub_login(model_ws)))\n",
    "print(\"Gridgen workspace is : {}\".format(flopy_io.scrub_login(gridgen_ws)))"
   ]
  },
  {
   "cell_type": "markdown",
   "metadata": {},
   "source": [
    "## Basic Gridgen Operations\n",
    "\n",
    "### Setup Base MODFLOW Grid"
   ]
  },
  {
   "cell_type": "markdown",
   "metadata": {},
   "source": [
    "GRIDGEN works off of a base MODFLOW grid.  The following information defines the basegrid."
   ]
  },
  {
   "cell_type": "code",
   "execution_count": null,
   "metadata": {
    "execution": {
     "iopub.execute_input": "2023-02-22T02:38:59.857504Z",
     "iopub.status.busy": "2023-02-22T02:38:59.856899Z",
     "iopub.status.idle": "2023-02-22T02:38:59.862985Z",
     "shell.execute_reply": "2023-02-22T02:38:59.861740Z"
    }
   },
   "outputs": [],
   "source": [
    "Lx = 100.0\n",
    "Ly = 100.0\n",
    "nlay = 2\n",
    "nrow = 51\n",
    "ncol = 51\n",
    "delr = Lx / ncol\n",
    "delc = Ly / nrow\n",
    "h0 = 10\n",
    "h1 = 5\n",
    "top = h0\n",
    "botm = np.zeros((nlay, nrow, ncol), dtype=np.float32)\n",
    "botm[1, :, :] = -10.0"
   ]
  },
  {
   "cell_type": "code",
   "execution_count": null,
   "metadata": {
    "execution": {
     "iopub.execute_input": "2023-02-22T02:38:59.867987Z",
     "iopub.status.busy": "2023-02-22T02:38:59.867625Z",
     "iopub.status.idle": "2023-02-22T02:38:59.876068Z",
     "shell.execute_reply": "2023-02-22T02:38:59.875104Z"
    }
   },
   "outputs": [],
   "source": [
    "ms = flopy.modflow.Modflow(rotation=-20.0)\n",
    "dis = flopy.modflow.ModflowDis(\n",
    "    ms,\n",
    "    nlay=nlay,\n",
    "    nrow=nrow,\n",
    "    ncol=ncol,\n",
    "    delr=delr,\n",
    "    delc=delc,\n",
    "    top=top,\n",
    "    botm=botm,\n",
    ")"
   ]
  },
  {
   "cell_type": "markdown",
   "metadata": {},
   "source": [
    "### Create the Gridgen Object"
   ]
  },
  {
   "cell_type": "code",
   "execution_count": null,
   "metadata": {
    "execution": {
     "iopub.execute_input": "2023-02-22T02:38:59.880540Z",
     "iopub.status.busy": "2023-02-22T02:38:59.880019Z",
     "iopub.status.idle": "2023-02-22T02:38:59.884900Z",
     "shell.execute_reply": "2023-02-22T02:38:59.883994Z"
    }
   },
   "outputs": [],
   "source": [
    "g = Gridgen(ms.modelgrid, model_ws=gridgen_ws)"
   ]
  },
  {
   "cell_type": "markdown",
   "metadata": {},
   "source": [
    "### Add an Optional Active Domain\n",
    "Cells outside of the active domain will be clipped and not numbered as part of the final grid.  If this step is not performed, then all cells will be included in the final grid."
   ]
  },
  {
   "cell_type": "code",
   "execution_count": null,
   "metadata": {
    "execution": {
     "iopub.execute_input": "2023-02-22T02:38:59.890192Z",
     "iopub.status.busy": "2023-02-22T02:38:59.889600Z",
     "iopub.status.idle": "2023-02-22T02:38:59.894595Z",
     "shell.execute_reply": "2023-02-22T02:38:59.893724Z"
    }
   },
   "outputs": [],
   "source": [
    "# setup the active domain\n",
    "adshp = os.path.join(gridgen_ws, \"ad0\")\n",
    "adpoly = [[[(0, 0), (0, 60), (40, 80), (60, 0), (0, 0)]]]\n",
    "# g.add_active_domain(adpoly, range(nlay))"
   ]
  },
  {
   "cell_type": "markdown",
   "metadata": {},
   "source": [
    "### Refine the Grid"
   ]
  },
  {
   "cell_type": "code",
   "execution_count": null,
   "metadata": {
    "execution": {
     "iopub.execute_input": "2023-02-22T02:38:59.899265Z",
     "iopub.status.busy": "2023-02-22T02:38:59.898654Z",
     "iopub.status.idle": "2023-02-22T02:38:59.908730Z",
     "shell.execute_reply": "2023-02-22T02:38:59.907511Z"
    }
   },
   "outputs": [],
   "source": [
    "x = Lx * np.random.random(10)\n",
    "y = Ly * np.random.random(10)\n",
    "wells = list(zip(x, y))\n",
    "g.add_refinement_features(wells, \"point\", 3, range(nlay))\n",
    "rf0shp = os.path.join(gridgen_ws, \"rf0\")"
   ]
  },
  {
   "cell_type": "code",
   "execution_count": null,
   "metadata": {
    "execution": {
     "iopub.execute_input": "2023-02-22T02:38:59.913507Z",
     "iopub.status.busy": "2023-02-22T02:38:59.913120Z",
     "iopub.status.idle": "2023-02-22T02:38:59.919629Z",
     "shell.execute_reply": "2023-02-22T02:38:59.918555Z"
    }
   },
   "outputs": [],
   "source": [
    "river = [[(-20, 10), (60, 60)]]\n",
    "g.add_refinement_features(river, \"line\", 3, range(nlay))\n",
    "rf1shp = os.path.join(gridgen_ws, \"rf1\")"
   ]
  },
  {
   "cell_type": "code",
   "execution_count": null,
   "metadata": {
    "execution": {
     "iopub.execute_input": "2023-02-22T02:38:59.924443Z",
     "iopub.status.busy": "2023-02-22T02:38:59.923549Z",
     "iopub.status.idle": "2023-02-22T02:38:59.930033Z",
     "shell.execute_reply": "2023-02-22T02:38:59.929154Z"
    }
   },
   "outputs": [],
   "source": [
    "g.add_refinement_features(adpoly, \"polygon\", 1, range(nlay))\n",
    "rf2shp = os.path.join(gridgen_ws, \"rf2\")"
   ]
  },
  {
   "cell_type": "markdown",
   "metadata": {},
   "source": [
    "### Plot the Gridgen Input"
   ]
  },
  {
   "cell_type": "code",
   "execution_count": null,
   "metadata": {
    "execution": {
     "iopub.execute_input": "2023-02-22T02:38:59.934708Z",
     "iopub.status.busy": "2023-02-22T02:38:59.933999Z",
     "iopub.status.idle": "2023-02-22T02:39:00.349354Z",
     "shell.execute_reply": "2023-02-22T02:39:00.348208Z"
    }
   },
   "outputs": [],
   "source": [
    "fig = plt.figure(figsize=(15, 15))\n",
    "ax = fig.add_subplot(1, 1, 1, aspect=\"equal\")\n",
    "mm = flopy.plot.PlotMapView(model=ms)\n",
    "mm.plot_grid()\n",
    "flopy.plot.plot_shapefile(rf2shp, ax=ax, facecolor=\"yellow\", edgecolor=\"none\")\n",
    "flopy.plot.plot_shapefile(rf1shp, ax=ax, linewidth=10)\n",
    "flopy.plot.plot_shapefile(rf0shp, ax=ax, facecolor=\"red\", radius=1)"
   ]
  },
  {
   "cell_type": "markdown",
   "metadata": {},
   "source": [
    "### Build the Grid"
   ]
  },
  {
   "cell_type": "code",
   "execution_count": null,
   "metadata": {
    "execution": {
     "iopub.execute_input": "2023-02-22T02:39:00.357066Z",
     "iopub.status.busy": "2023-02-22T02:39:00.356647Z",
     "iopub.status.idle": "2023-02-22T02:39:03.222908Z",
     "shell.execute_reply": "2023-02-22T02:39:03.222187Z"
    }
   },
   "outputs": [],
   "source": [
    "g.build(verbose=False)"
   ]
  },
  {
   "cell_type": "markdown",
   "metadata": {},
   "source": [
    "### Plot the Grid"
   ]
  },
  {
   "cell_type": "code",
   "execution_count": null,
   "metadata": {
    "execution": {
     "iopub.execute_input": "2023-02-22T02:39:03.227022Z",
     "iopub.status.busy": "2023-02-22T02:39:03.226478Z",
     "iopub.status.idle": "2023-02-22T02:39:05.652332Z",
     "shell.execute_reply": "2023-02-22T02:39:05.650957Z"
    }
   },
   "outputs": [],
   "source": [
    "fig = plt.figure(figsize=(15, 15))\n",
    "ax = fig.add_subplot(1, 1, 1, aspect=\"equal\")\n",
    "g.plot(ax, linewidth=0.5)\n",
    "flopy.plot.plot_shapefile(\n",
    "    rf2shp, ax=ax, facecolor=\"yellow\", edgecolor=\"none\", alpha=0.2\n",
    ")\n",
    "flopy.plot.plot_shapefile(rf1shp, ax=ax, linewidth=10, alpha=0.2)\n",
    "flopy.plot.plot_shapefile(rf0shp, ax=ax, facecolor=\"red\", radius=1, alpha=0.2)"
   ]
  },
  {
   "cell_type": "markdown",
   "metadata": {},
   "source": [
    "### Create a Flopy ModflowDisu Object"
   ]
  },
  {
   "cell_type": "code",
   "execution_count": null,
   "metadata": {
    "execution": {
     "iopub.execute_input": "2023-02-22T02:39:05.661193Z",
     "iopub.status.busy": "2023-02-22T02:39:05.660879Z",
     "iopub.status.idle": "2023-02-22T02:39:06.359068Z",
     "shell.execute_reply": "2023-02-22T02:39:06.358382Z"
    }
   },
   "outputs": [],
   "source": [
    "mu = flopy.mfusg.MfUsg(model_ws=gridgen_ws, modelname=\"mfusg\")\n",
    "disu = g.get_disu(mu)\n",
    "disu.write_file()\n",
    "# print(disu)"
   ]
  },
  {
   "cell_type": "markdown",
   "metadata": {},
   "source": [
    "### Intersect Features with the Grid"
   ]
  },
  {
   "cell_type": "code",
   "execution_count": null,
   "metadata": {
    "execution": {
     "iopub.execute_input": "2023-02-22T02:39:06.362620Z",
     "iopub.status.busy": "2023-02-22T02:39:06.361952Z",
     "iopub.status.idle": "2023-02-22T02:39:06.469155Z",
     "shell.execute_reply": "2023-02-22T02:39:06.468351Z"
    }
   },
   "outputs": [],
   "source": [
    "adpoly_intersect = g.intersect(adpoly, \"polygon\", 0)\n",
    "print(adpoly_intersect.dtype.names)\n",
    "print(adpoly_intersect)\n",
    "print(adpoly_intersect.nodenumber)"
   ]
  },
  {
   "cell_type": "code",
   "execution_count": null,
   "metadata": {
    "execution": {
     "iopub.execute_input": "2023-02-22T02:39:06.472471Z",
     "iopub.status.busy": "2023-02-22T02:39:06.471859Z",
     "iopub.status.idle": "2023-02-22T02:39:06.491397Z",
     "shell.execute_reply": "2023-02-22T02:39:06.490652Z"
    }
   },
   "outputs": [],
   "source": [
    "well_intersect = g.intersect(wells, \"point\", 0)\n",
    "print(well_intersect.dtype.names)\n",
    "print(well_intersect)\n",
    "print(well_intersect.nodenumber)"
   ]
  },
  {
   "cell_type": "code",
   "execution_count": null,
   "metadata": {
    "execution": {
     "iopub.execute_input": "2023-02-22T02:39:06.494518Z",
     "iopub.status.busy": "2023-02-22T02:39:06.493981Z",
     "iopub.status.idle": "2023-02-22T02:39:06.518655Z",
     "shell.execute_reply": "2023-02-22T02:39:06.517935Z"
    }
   },
   "outputs": [],
   "source": [
    "river_intersect = g.intersect(river, \"line\", 0)\n",
    "print(river_intersect.dtype.names)\n",
    "# print(river_intersect)\n",
    "# print(river_intersect.nodenumber)"
   ]
  },
  {
   "cell_type": "markdown",
   "metadata": {},
   "source": [
    "### Plot Intersected Features"
   ]
  },
  {
   "cell_type": "code",
   "execution_count": null,
   "metadata": {
    "execution": {
     "iopub.execute_input": "2023-02-22T02:39:06.522362Z",
     "iopub.status.busy": "2023-02-22T02:39:06.522053Z",
     "iopub.status.idle": "2023-02-22T02:39:08.670235Z",
     "shell.execute_reply": "2023-02-22T02:39:08.669415Z"
    }
   },
   "outputs": [],
   "source": [
    "a = np.zeros((g.nodes), dtype=int)\n",
    "a[adpoly_intersect.nodenumber] = 1\n",
    "a[well_intersect.nodenumber] = 2\n",
    "a[river_intersect.nodenumber] = 3\n",
    "fig = plt.figure(figsize=(15, 15))\n",
    "ax = fig.add_subplot(1, 1, 1, aspect=\"equal\")\n",
    "g.plot(ax, a=a, masked_values=[0], edgecolor=\"none\", cmap=\"jet\")\n",
    "flopy.plot.plot_shapefile(rf2shp, ax=ax, facecolor=\"yellow\", alpha=0.25)"
   ]
  },
  {
   "cell_type": "markdown",
   "metadata": {},
   "source": [
    "## Use Gridgen to Build MODFLOW 6 DISV Model\n",
    "\n",
    "In this section, we will reproduce the MODFLOW 6 Quick Start example that is shown on the main page of the flopy repository (https://github.com/modflowpy/flopy).\n",
    "\n",
    "A main idea for DISV in MODFLOW 6 is that each layer much have the same spatial grid.  Gridgen allows the creation of a grid that has a different number of cells within each layer.  This type of grid cannot be used with the DISV Package.  To make sure that the resulting grid is the same for each layer, refinement should be added to all layers when using the flopy Gridgen wrapper."
   ]
  },
  {
   "cell_type": "code",
   "execution_count": null,
   "metadata": {
    "execution": {
     "iopub.execute_input": "2023-02-22T02:39:08.675392Z",
     "iopub.status.busy": "2023-02-22T02:39:08.675145Z",
     "iopub.status.idle": "2023-02-22T02:39:09.052216Z",
     "shell.execute_reply": "2023-02-22T02:39:09.051412Z"
    }
   },
   "outputs": [],
   "source": [
    "from shapely.geometry import Polygon\n",
    "\n",
    "name = \"dummy\"\n",
    "nlay = 3\n",
    "nrow = 10\n",
    "ncol = 10\n",
    "delr = delc = 1.0\n",
    "top = 1\n",
    "bot = 0\n",
    "dz = (top - bot) / nlay\n",
    "botm = [top - k * dz for k in range(1, nlay + 1)]\n",
    "\n",
    "# Create a dummy model and regular grid to use as the base grid for gridgen\n",
    "sim = flopy.mf6.MFSimulation(sim_name=name, sim_ws=gridgen_ws, exe_name=\"mf6\")\n",
    "gwf = flopy.mf6.ModflowGwf(sim, modelname=name)\n",
    "\n",
    "dis = flopy.mf6.ModflowGwfdis(\n",
    "    gwf,\n",
    "    nlay=nlay,\n",
    "    nrow=nrow,\n",
    "    ncol=ncol,\n",
    "    delr=delr,\n",
    "    delc=delc,\n",
    "    top=top,\n",
    "    botm=botm,\n",
    ")\n",
    "\n",
    "# Create and build the gridgen model with a refined area in the middle\n",
    "g = Gridgen(gwf.modelgrid, model_ws=gridgen_ws)\n",
    "polys = [Polygon([(4, 4), (6, 4), (6, 6), (4, 6)])]\n",
    "g.add_refinement_features(polys, \"polygon\", 3, range(nlay))\n",
    "g.build()"
   ]
  },
  {
   "cell_type": "code",
   "execution_count": null,
   "metadata": {
    "execution": {
     "iopub.execute_input": "2023-02-22T02:39:09.056260Z",
     "iopub.status.busy": "2023-02-22T02:39:09.055797Z",
     "iopub.status.idle": "2023-02-22T02:39:09.397334Z",
     "shell.execute_reply": "2023-02-22T02:39:09.396497Z"
    }
   },
   "outputs": [],
   "source": [
    "# Create and plot a flopy VertexGrid object\n",
    "# Note that this is not necessary, because it can\n",
    "# be created automatically after the disv package\n",
    "# is added to the gwf model (gwf.modelgrid should exist)\n",
    "gridprops_vg = g.get_gridprops_vertexgrid()\n",
    "vgrid = flopy.discretization.VertexGrid(**gridprops_vg)\n",
    "vgrid.plot()"
   ]
  },
  {
   "cell_type": "code",
   "execution_count": null,
   "metadata": {
    "execution": {
     "iopub.execute_input": "2023-02-22T02:39:09.400896Z",
     "iopub.status.busy": "2023-02-22T02:39:09.400357Z",
     "iopub.status.idle": "2023-02-22T02:39:09.518643Z",
     "shell.execute_reply": "2023-02-22T02:39:09.517882Z"
    }
   },
   "outputs": [],
   "source": [
    "# retrieve a dictionary of arguments to be passed\n",
    "# directly into the flopy disv constructor\n",
    "disv_gridprops = g.get_gridprops_disv()\n",
    "disv_gridprops.keys()"
   ]
  },
  {
   "cell_type": "code",
   "execution_count": null,
   "metadata": {
    "execution": {
     "iopub.execute_input": "2023-02-22T02:39:09.521900Z",
     "iopub.status.busy": "2023-02-22T02:39:09.521237Z",
     "iopub.status.idle": "2023-02-22T02:39:09.537172Z",
     "shell.execute_reply": "2023-02-22T02:39:09.536445Z"
    }
   },
   "outputs": [],
   "source": [
    "# find the cell numbers for constant heads\n",
    "chdspd = []\n",
    "ilay = 0\n",
    "for x, y, head in [(0, 10, 1.0), (10, 0, 0.0)]:\n",
    "    ra = g.intersect([(x, y)], \"point\", ilay)\n",
    "    ic = ra[\"nodenumber\"][0]\n",
    "    chdspd.append([(ilay, ic), head])\n",
    "chdspd"
   ]
  },
  {
   "cell_type": "code",
   "execution_count": null,
   "metadata": {
    "execution": {
     "iopub.execute_input": "2023-02-22T02:39:09.540999Z",
     "iopub.status.busy": "2023-02-22T02:39:09.540557Z",
     "iopub.status.idle": "2023-02-22T02:39:09.922789Z",
     "shell.execute_reply": "2023-02-22T02:39:09.922043Z"
    }
   },
   "outputs": [],
   "source": [
    "# build uun and post-process the MODFLOW 6 model\n",
    "ws = os.path.join(model_ws, \"gridgen_disv\")\n",
    "name = \"mymodel\"\n",
    "sim = flopy.mf6.MFSimulation(\n",
    "    sim_name=name, sim_ws=ws, exe_name=\"mf6\", verbosity_level=0\n",
    ")\n",
    "tdis = flopy.mf6.ModflowTdis(sim)\n",
    "ims = flopy.mf6.ModflowIms(sim, linear_acceleration=\"bicgstab\")\n",
    "gwf = flopy.mf6.ModflowGwf(sim, modelname=name, save_flows=True)\n",
    "disv = flopy.mf6.ModflowGwfdisv(gwf, **disv_gridprops)\n",
    "ic = flopy.mf6.ModflowGwfic(gwf)\n",
    "npf = flopy.mf6.ModflowGwfnpf(\n",
    "    gwf, xt3doptions=True, save_specific_discharge=True\n",
    ")\n",
    "chd = flopy.mf6.ModflowGwfchd(gwf, stress_period_data=chdspd)\n",
    "budget_file = name + \".bud\"\n",
    "head_file = name + \".hds\"\n",
    "oc = flopy.mf6.ModflowGwfoc(\n",
    "    gwf,\n",
    "    budget_filerecord=budget_file,\n",
    "    head_filerecord=head_file,\n",
    "    saverecord=[(\"HEAD\", \"ALL\"), (\"BUDGET\", \"ALL\")],\n",
    ")\n",
    "sim.write_simulation()\n",
    "sim.run_simulation(silent=True)\n",
    "head = gwf.output.head().get_data()\n",
    "bud = gwf.output.budget()\n",
    "spdis = bud.get_data(text=\"DATA-SPDIS\")[0]\n",
    "\n",
    "pmv = flopy.plot.PlotMapView(gwf)\n",
    "pmv.plot_array(head)\n",
    "pmv.plot_grid(colors=\"white\")\n",
    "pmv.contour_array(head, levels=[0.2, 0.4, 0.6, 0.8], linewidths=3.0)\n",
    "pmv.plot_vector(spdis[\"qx\"], spdis[\"qy\"], color=\"white\")"
   ]
  },
  {
   "cell_type": "markdown",
   "metadata": {},
   "source": [
    "## Use Gridgen to Build MODFLOW 6 DISU Model\n",
    "\n",
    "In this section, we will reproduce the MODFLOW 6 Quick Start example that is shown on the main page of the flopy repository (https://github.com/modflowpy/flopy).\n",
    "\n",
    "DISU is the most general grid form that can be used with MODFLOW 6.  It does not have the requirement that each layer must use the same grid"
   ]
  },
  {
   "cell_type": "code",
   "execution_count": null,
   "metadata": {
    "execution": {
     "iopub.execute_input": "2023-02-22T02:39:09.926205Z",
     "iopub.status.busy": "2023-02-22T02:39:09.925803Z",
     "iopub.status.idle": "2023-02-22T02:39:10.097546Z",
     "shell.execute_reply": "2023-02-22T02:39:10.096863Z"
    }
   },
   "outputs": [],
   "source": [
    "from shapely.geometry import Polygon\n",
    "\n",
    "name = \"dummy\"\n",
    "nlay = 3\n",
    "nrow = 10\n",
    "ncol = 10\n",
    "delr = delc = 1.0\n",
    "top = 1\n",
    "bot = 0\n",
    "dz = (top - bot) / nlay\n",
    "botm = [top - k * dz for k in range(1, nlay + 1)]\n",
    "\n",
    "# Create a dummy model and regular grid to use as the base grid for gridgen\n",
    "sim = flopy.mf6.MFSimulation(sim_name=name, sim_ws=gridgen_ws, exe_name=\"mf6\")\n",
    "gwf = flopy.mf6.ModflowGwf(sim, modelname=name)\n",
    "\n",
    "dis = flopy.mf6.ModflowGwfdis(\n",
    "    gwf,\n",
    "    nlay=nlay,\n",
    "    nrow=nrow,\n",
    "    ncol=ncol,\n",
    "    delr=delr,\n",
    "    delc=delc,\n",
    "    top=top,\n",
    "    botm=botm,\n",
    ")\n",
    "\n",
    "# Create and build the gridgen model with a refined area in the middle\n",
    "g = Gridgen(gwf.modelgrid, model_ws=gridgen_ws)\n",
    "polys = [Polygon([(4, 4), (6, 4), (6, 6), (4, 6)])]\n",
    "g.add_refinement_features(polys, \"polygon\", 3, layers=[0])\n",
    "g.build()"
   ]
  },
  {
   "cell_type": "code",
   "execution_count": null,
   "metadata": {
    "execution": {
     "iopub.execute_input": "2023-02-22T02:39:10.101180Z",
     "iopub.status.busy": "2023-02-22T02:39:10.100882Z",
     "iopub.status.idle": "2023-02-22T02:39:10.381384Z",
     "shell.execute_reply": "2023-02-22T02:39:10.380786Z"
    }
   },
   "outputs": [],
   "source": [
    "# retrieve a dictionary of arguments to be passed\n",
    "# directly into the flopy disu constructor\n",
    "disu_gridprops = g.get_gridprops_disu6()\n",
    "disu_gridprops.keys()"
   ]
  },
  {
   "cell_type": "code",
   "execution_count": null,
   "metadata": {
    "execution": {
     "iopub.execute_input": "2023-02-22T02:39:10.384766Z",
     "iopub.status.busy": "2023-02-22T02:39:10.384466Z",
     "iopub.status.idle": "2023-02-22T02:39:11.321245Z",
     "shell.execute_reply": "2023-02-22T02:39:11.320377Z"
    }
   },
   "outputs": [],
   "source": [
    "# Create and plot a flopy UnstructuredGrid object\n",
    "gridprops_ug = g.get_gridprops_unstructuredgrid()\n",
    "ugrid = flopy.discretization.UnstructuredGrid(**gridprops_ug)\n",
    "\n",
    "f = plt.figure(figsize=(10, 10))\n",
    "for ilay in range(g.nlay):\n",
    "    ax = plt.subplot(1, g.nlay, ilay + 1)\n",
    "    ugrid.plot(layer=ilay, ax=ax)"
   ]
  },
  {
   "cell_type": "code",
   "execution_count": null,
   "metadata": {
    "execution": {
     "iopub.execute_input": "2023-02-22T02:39:11.325507Z",
     "iopub.status.busy": "2023-02-22T02:39:11.324871Z",
     "iopub.status.idle": "2023-02-22T02:39:11.343629Z",
     "shell.execute_reply": "2023-02-22T02:39:11.342630Z"
    }
   },
   "outputs": [],
   "source": [
    "# find the cell numbers for constant heads\n",
    "chdspd = []\n",
    "for x, y, head in [(0, 10, 1.0), (10, 0, 0.0)]:\n",
    "    ra = g.intersect([(x, y)], \"point\", 0)\n",
    "    ic = ra[\"nodenumber\"][0]\n",
    "    chdspd.append([(ic,), head])\n",
    "chdspd"
   ]
  },
  {
   "cell_type": "code",
   "execution_count": null,
   "metadata": {
    "execution": {
     "iopub.execute_input": "2023-02-22T02:39:11.348107Z",
     "iopub.status.busy": "2023-02-22T02:39:11.347475Z",
     "iopub.status.idle": "2023-02-22T02:39:12.415329Z",
     "shell.execute_reply": "2023-02-22T02:39:12.414473Z"
    }
   },
   "outputs": [],
   "source": [
    "# build run and post-process the MODFLOW 6 model\n",
    "ws = os.path.join(model_ws, \"gridgen_disu\")\n",
    "name = \"mymodel\"\n",
    "sim = flopy.mf6.MFSimulation(\n",
    "    sim_name=name, sim_ws=ws, exe_name=\"mf6\", verbosity_level=1\n",
    ")\n",
    "tdis = flopy.mf6.ModflowTdis(sim)\n",
    "ims = flopy.mf6.ModflowIms(sim, linear_acceleration=\"bicgstab\")\n",
    "gwf = flopy.mf6.ModflowGwf(sim, modelname=name, save_flows=True)\n",
    "disu = flopy.mf6.ModflowGwfdisu(gwf, **disu_gridprops)\n",
    "ic = flopy.mf6.ModflowGwfic(gwf)\n",
    "npf = flopy.mf6.ModflowGwfnpf(\n",
    "    gwf, xt3doptions=True, save_specific_discharge=True\n",
    ")\n",
    "chd = flopy.mf6.ModflowGwfchd(gwf, stress_period_data=chdspd)\n",
    "budget_file = name + \".bud\"\n",
    "head_file = name + \".hds\"\n",
    "oc = flopy.mf6.ModflowGwfoc(\n",
    "    gwf,\n",
    "    budget_filerecord=budget_file,\n",
    "    head_filerecord=head_file,\n",
    "    saverecord=[(\"HEAD\", \"ALL\"), (\"BUDGET\", \"ALL\")],\n",
    ")\n",
    "sim.write_simulation()\n",
    "sim.run_simulation(silent=True)\n",
    "head = gwf.output.head().get_data()\n",
    "bud = gwf.output.budget()\n",
    "spdis = bud.get_data(text=\"DATA-SPDIS\")[0]\n",
    "\n",
    "gwf.modelgrid.set_coord_info(angrot=15)\n",
    "\n",
    "f = plt.figure(figsize=(10, 10))\n",
    "vmin = head.min()\n",
    "vmax = head.max()\n",
    "for ilay in range(gwf.modelgrid.nlay):\n",
    "    ax = plt.subplot(1, g.nlay, ilay + 1)\n",
    "    pmv = flopy.plot.PlotMapView(gwf, layer=ilay, ax=ax)\n",
    "    ax.set_aspect(\"equal\")\n",
    "    pmv.plot_array(head.flatten(), cmap=\"jet\", vmin=vmin, vmax=vmax)\n",
    "    pmv.plot_grid(colors=\"k\", alpha=0.1)\n",
    "    pmv.contour_array(\n",
    "        head, levels=[0.2, 0.4, 0.6, 0.8], linewidths=3.0, vmin=vmin, vmax=vmax\n",
    "    )\n",
    "    ax.set_title(\"Layer {}\".format(ilay + 1))\n",
    "    pmv.plot_vector(spdis[\"qx\"], spdis[\"qy\"], color=\"white\")"
   ]
  },
  {
   "cell_type": "markdown",
   "metadata": {},
   "source": [
    "## Use Gridgen to Build MODFLOW-USG DISU Model\n",
    "\n",
    "In this section, we will reproduce the MODFLOW 6 Quick Start example that is shown on the main page of the flopy repository (https://github.com/modflowpy/flopy).\n",
    "\n",
    "In this last example, MODFLOW-USG will be used to simulate the problem."
   ]
  },
  {
   "cell_type": "code",
   "execution_count": null,
   "metadata": {
    "execution": {
     "iopub.execute_input": "2023-02-22T02:39:12.420512Z",
     "iopub.status.busy": "2023-02-22T02:39:12.420201Z",
     "iopub.status.idle": "2023-02-22T02:39:13.580626Z",
     "shell.execute_reply": "2023-02-22T02:39:13.579949Z"
    }
   },
   "outputs": [],
   "source": [
    "# build run and post-process the MODFLOW 6 model\n",
    "ws = os.path.join(model_ws, \"gridgen_mfusg\")\n",
    "name = \"mymodel\"\n",
    "\n",
    "chdspd = []\n",
    "for x, y, head in [(0, 10, 1.0), (10, 0, 0.0)]:\n",
    "    ra = g.intersect([(x, y)], \"point\", 0)\n",
    "    ic = ra[\"nodenumber\"][0]\n",
    "    chdspd.append([ic, head, head])\n",
    "\n",
    "gridprops = g.get_gridprops_disu5()\n",
    "\n",
    "# create the mfusg modoel\n",
    "m = flopy.mfusg.MfUsg(\n",
    "    modelname=name,\n",
    "    model_ws=ws,\n",
    "    version=\"mfusg\",\n",
    "    exe_name=\"mfusg\",\n",
    "    structured=False,\n",
    ")\n",
    "disu = flopy.mfusg.MfUsgDisU(m, **gridprops)\n",
    "bas = flopy.modflow.ModflowBas(m)\n",
    "lpf = flopy.mfusg.MfUsgLpf(m)\n",
    "chd = flopy.modflow.ModflowChd(m, stress_period_data=chdspd)\n",
    "sms = flopy.mfusg.MfUsgSms(m)\n",
    "oc = flopy.modflow.ModflowOc(m)\n",
    "m.write_input()\n",
    "success, buff = m.run_model(silent=True, report=True)\n",
    "if success:\n",
    "    for line in buff:\n",
    "        print(line)\n",
    "else:\n",
    "    raise ValueError(\"Failed to run.\")\n",
    "\n",
    "# head is returned as a list of head arrays for each layer\n",
    "head_file = os.path.join(ws, name + \".hds\")\n",
    "head = flopy.utils.HeadUFile(head_file).get_data()\n",
    "\n",
    "# MODFLOW-USG does not have vertices, so we need to create\n",
    "# and unstructured grid and then assign it to the model. This\n",
    "# will allow plotting and other features to work properly.\n",
    "gridprops_ug = g.get_gridprops_unstructuredgrid()\n",
    "ugrid = flopy.discretization.UnstructuredGrid(**gridprops_ug)\n",
    "m.modelgrid = ugrid\n",
    "\n",
    "f = plt.figure(figsize=(10, 10))\n",
    "vmin = 0.0\n",
    "vmax = 1.0\n",
    "for ilay in range(disu.nlay):\n",
    "    ax = plt.subplot(1, g.nlay, ilay + 1)\n",
    "    pmv = flopy.plot.PlotMapView(m, layer=ilay, ax=ax)\n",
    "    ax.set_aspect(\"equal\")\n",
    "    pmv.plot_array(head[ilay], cmap=\"jet\", vmin=vmin, vmax=vmax)\n",
    "    pmv.plot_grid(colors=\"k\", alpha=0.1)\n",
    "    pmv.contour_array(head[ilay], levels=[0.2, 0.4, 0.6, 0.8], linewidths=3.0)\n",
    "    ax.set_title(\"Layer {}\".format(ilay + 1))"
   ]
  },
  {
   "cell_type": "code",
   "execution_count": null,
   "metadata": {
    "execution": {
     "iopub.execute_input": "2023-02-22T02:39:13.584124Z",
     "iopub.status.busy": "2023-02-22T02:39:13.583703Z",
     "iopub.status.idle": "2023-02-22T02:39:13.590236Z",
     "shell.execute_reply": "2023-02-22T02:39:13.589303Z"
    }
   },
   "outputs": [],
   "source": [
    "try:\n",
    "    # ignore PermissionError on Windows\n",
    "    temp_dir.cleanup()\n",
    "except:\n",
    "    pass"
   ]
  },
  {
   "cell_type": "code",
   "execution_count": null,
   "metadata": {},
   "outputs": [],
   "source": []
  }
 ],
 "metadata": {
  "anaconda-cloud": {},
  "kernelspec": {
   "display_name": "Python 3 (ipykernel)",
   "language": "python",
   "name": "python3"
  },
  "language_info": {
   "codemirror_mode": {
    "name": "ipython",
    "version": 3
   },
   "file_extension": ".py",
   "mimetype": "text/x-python",
   "name": "python",
   "nbconvert_exporter": "python",
   "pygments_lexer": "ipython3",
   "version": "3.10.6"
  }
 },
 "nbformat": 4,
 "nbformat_minor": 4
}
