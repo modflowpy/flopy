{
 "cells": [
  {
   "cell_type": "markdown",
   "metadata": {},
   "source": [
    "# FloPy\n",
    "\n",
    "## Creating a Simple MODFLOW 6 Model with Flopy\n",
    "\n",
    "The purpose of this notebook is to demonstrate the Flopy capabilities for building a simple MODFLOW 6 model from scratch, running the model, and viewing the results.  This notebook will demonstrate the capabilities using a simple lake example.  A separate notebook is also available in which the same lake example is created for MODFLOW-2005 (flopy3_lake_example.ipynb)."
   ]
  },
  {
   "cell_type": "markdown",
   "metadata": {},
   "source": [
    "### Setup the Notebook Environment"
   ]
  },
  {
   "cell_type": "code",
   "execution_count": 1,
   "metadata": {},
   "outputs": [
    {
     "name": "stdout",
     "output_type": "stream",
     "text": [
      "3.7.7 (default, Mar 26 2020, 10:32:53) \n",
      "[Clang 4.0.1 (tags/RELEASE_401/final)]\n",
      "numpy version: 1.19.2\n",
      "matplotlib version: 3.3.0\n",
      "flopy version: 3.3.2\n"
     ]
    }
   ],
   "source": [
    "import sys\n",
    "import os\n",
    "import platform\n",
    "import numpy as np\n",
    "import matplotlib as mpl\n",
    "import matplotlib.pyplot as plt\n",
    "\n",
    "# run installed version of flopy or add local path\n",
    "try:\n",
    "    import flopy\n",
    "except:\n",
    "    fpth = os.path.abspath(os.path.join('..', '..'))\n",
    "    sys.path.append(fpth)\n",
    "    import flopy\n",
    "\n",
    "print(sys.version)\n",
    "print('numpy version: {}'.format(np.__version__))\n",
    "print('matplotlib version: {}'.format(mpl.__version__))\n",
    "print('flopy version: {}'.format(flopy.__version__))"
   ]
  },
  {
   "cell_type": "code",
   "execution_count": 2,
   "metadata": {},
   "outputs": [],
   "source": [
    "# For this example, we will set up a model workspace.\n",
    "# Model input files and output files will reside here.\n",
    "workspace = os.path.join('data', 'mf6lake')\n",
    "if not os.path.exists(workspace):\n",
    "    os.makedirs(workspace)"
   ]
  },
  {
   "cell_type": "markdown",
   "metadata": {},
   "source": [
    "### Create the Flopy Model Objects\n",
    "\n",
    "We are creating a square model with a specified head equal to `h1` along all boundaries. The head at the cell in the center in the top layer is fixed to `h2`. First, set the name of the model and the parameters of the model: the number of layers `Nlay`, the number of rows and columns `N`, lengths of the sides of the model `L`, aquifer thickness `H`, hydraulic conductivity `k`"
   ]
  },
  {
   "cell_type": "code",
   "execution_count": 3,
   "metadata": {},
   "outputs": [],
   "source": [
    "name = 'mf6lake'\n",
    "h1 = 100\n",
    "h2 = 90\n",
    "Nlay = 10 \n",
    "N = 101 \n",
    "L = 400.0 \n",
    "H = 50.0 \n",
    "k = 1.0"
   ]
  },
  {
   "cell_type": "markdown",
   "metadata": {},
   "source": [
    "One big difference between MODFLOW 6 and previous MODFLOW versions is that MODFLOW 6 is based on the concept of a simulation.  A simulation consists of the following:\n",
    "\n",
    "* Temporal discretization (TDIS)\n",
    "* One or more models (GWF is the only model supported at present)\n",
    "* Zero or more exchanges (instructions for how models are coupled)\n",
    "* Solutions\n",
    "\n",
    "For this simple lake example, the simulation consists of the temporal discretization (TDIS) package (TDIS), a groundwater flow (GWF) model, and an iterative model solution (IMS), which controls how the GWF model is solved. "
   ]
  },
  {
   "cell_type": "code",
   "execution_count": 4,
   "metadata": {},
   "outputs": [],
   "source": [
    "# Create the Flopy simulation object\n",
    "sim = flopy.mf6.MFSimulation(sim_name=name, exe_name='mf6', \n",
    "                             version='mf6', sim_ws=workspace)\n",
    "\n",
    "# Create the Flopy temporal discretization object\n",
    "tdis = flopy.mf6.modflow.mftdis.ModflowTdis(sim, pname='tdis', time_units='DAYS', nper=1, \n",
    "                                            perioddata=[(1.0, 1, 1.0)])\n",
    "\n",
    "# Create the Flopy groundwater flow (gwf) model object\n",
    "model_nam_file = '{}.nam'.format(name)\n",
    "gwf = flopy.mf6.ModflowGwf(sim, modelname=name, \n",
    "                           model_nam_file=model_nam_file)\n",
    "\n",
    "# Create the Flopy iterative model solver (ims) Package object\n",
    "ims = flopy.mf6.modflow.mfims.ModflowIms(sim, pname='ims', complexity='SIMPLE')"
   ]
  },
  {
   "cell_type": "markdown",
   "metadata": {},
   "source": [
    "Now that the overall simulation is set up, we can focus on building the groundwater flow model.  The groundwater flow model will be built by adding packages to it that describe the model characteristics.\n",
    "\n",
    "Define the discretization of the model. All layers are given equal thickness. The `bot` array is build from `H` and the `Nlay` values to indicate top and bottom of each layer, and `delrow` and `delcol` are computed from model size `L` and number of cells `N`. Once these are all computed, the Discretization file is built."
   ]
  },
  {
   "cell_type": "code",
   "execution_count": 5,
   "metadata": {},
   "outputs": [],
   "source": [
    "# Create the discretization package\n",
    "bot = np.linspace(-H/Nlay, -H, Nlay) \n",
    "delrow = delcol = L/(N-1)\n",
    "dis = flopy.mf6.modflow.mfgwfdis.ModflowGwfdis(gwf, pname='dis', nlay=Nlay, nrow=N, ncol=N,\n",
    "                                               delr=delrow,delc=delcol,top=0.0,\n",
    "                                               botm=bot)"
   ]
  },
  {
   "cell_type": "code",
   "execution_count": 6,
   "metadata": {},
   "outputs": [],
   "source": [
    "# Create the initial conditions package\n",
    "start = h1 * np.ones((Nlay, N, N))\n",
    "ic = flopy.mf6.modflow.mfgwfic.ModflowGwfic(gwf, pname='ic', strt=start)"
   ]
  },
  {
   "cell_type": "code",
   "execution_count": 7,
   "metadata": {},
   "outputs": [],
   "source": [
    "# Create the node property flow package\n",
    "npf = flopy.mf6.modflow.mfgwfnpf.ModflowGwfnpf(gwf, pname='npf', icelltype=1, k=k,\n",
    "                                               save_flows=True)"
   ]
  },
  {
   "cell_type": "code",
   "execution_count": 8,
   "metadata": {},
   "outputs": [],
   "source": [
    "# Create the constant head package.\n",
    "# List information is created a bit differently for \n",
    "# MODFLOW 6 than for other MODFLOW versions.  The\n",
    "# cellid (layer, row, column, for a regular grid)\n",
    "# must be entered as a tuple as the first entry.\n",
    "# Remember that these must be zero-based indices!\n",
    "chd_rec = []\n",
    "chd_rec.append(((0, int(N / 4), int(N / 4)), h2))\n",
    "for layer in range(0, Nlay):\n",
    "    for row_col in range(0, N):\n",
    "        chd_rec.append(((layer, row_col, 0), h1))\n",
    "        chd_rec.append(((layer, row_col, N - 1), h1))\n",
    "        if row_col != 0 and row_col != N - 1:\n",
    "            chd_rec.append(((layer, 0, row_col), h1))\n",
    "            chd_rec.append(((layer, N - 1, row_col), h1))\n",
    "chd = flopy.mf6.modflow.mfgwfchd.ModflowGwfchd(gwf, pname='chd', maxbound=len(chd_rec), \n",
    "                                               stress_period_data=chd_rec, save_flows=True)"
   ]
  },
  {
   "cell_type": "code",
   "execution_count": 9,
   "metadata": {},
   "outputs": [
    {
     "data": {
      "text/plain": [
       "rec.array([((0, 25, 25),  90.), ((0, 0, 0), 100.), ((0, 0, 100), 100.),\n",
       "           ..., ((9, 100, 99), 100.), ((9, 100, 0), 100.),\n",
       "           ((9, 100, 100), 100.)],\n",
       "          dtype=[('cellid', 'O'), ('head', '<f8')])"
      ]
     },
     "execution_count": 9,
     "metadata": {},
     "output_type": "execute_result"
    }
   ],
   "source": [
    "# The chd package stored the constant heads in a structured\n",
    "# array, also called a recarray.  We can get a pointer to the\n",
    "# recarray for the first stress period (iper = 0) as follows.\n",
    "iper = 0\n",
    "ra = chd.stress_period_data.get_data(key=iper)\n",
    "ra"
   ]
  },
  {
   "cell_type": "code",
   "execution_count": 10,
   "metadata": {},
   "outputs": [
    {
     "data": {
      "text/plain": [
       "Text(0.5, 1.0, 'Layer 1: Constant Head Cells')"
      ]
     },
     "execution_count": 10,
     "metadata": {},
     "output_type": "execute_result"
    },
    {
     "data": {
      "image/png": "[encoded data removed]",
      "text/plain": [
       "<Figure size 432x288 with 1 Axes>"
      ]
     },
     "metadata": {
      "needs_background": "light"
     },
     "output_type": "display_data"
    }
   ],
   "source": [
    "# We can make a quick plot to show where our constant\n",
    "# heads are located by creating an integer array\n",
    "# that starts with ones everywhere, but is assigned\n",
    "# a -1 where chds are located\n",
    "ibd = np.ones((Nlay, N, N), dtype=np.int)\n",
    "for k, i, j in ra['cellid']:\n",
    "    ibd[k, i, j] = -1\n",
    "\n",
    "ilay = 0\n",
    "plt.imshow(ibd[ilay, :, :], interpolation='none')\n",
    "plt.title('Layer {}: Constant Head Cells'.format(ilay + 1))"
   ]
  },
  {
   "cell_type": "code",
   "execution_count": 11,
   "metadata": {},
   "outputs": [],
   "source": [
    "# Create the output control package\n",
    "headfile = '{}.hds'.format(name)\n",
    "head_filerecord = [headfile]\n",
    "budgetfile = '{}.cbb'.format(name)\n",
    "budget_filerecord = [budgetfile]\n",
    "saverecord = [('HEAD', 'ALL'), \n",
    "              ('BUDGET', 'ALL')]\n",
    "printrecord = [('HEAD', 'LAST')]\n",
    "oc = flopy.mf6.modflow.mfgwfoc.ModflowGwfoc(gwf, pname='oc', saverecord=saverecord, \n",
    "                                            head_filerecord=head_filerecord,\n",
    "                                            budget_filerecord=budget_filerecord,\n",
    "                                            printrecord=printrecord)"
   ]
  },
  {
   "cell_type": "code",
   "execution_count": 12,
   "metadata": {},
   "outputs": [
    {
     "name": "stdout",
     "output_type": "stream",
     "text": [
      "Help on ModflowGwfoc in module flopy.mf6.modflow.mfgwfoc object:\n",
      "\n",
      "class ModflowGwfoc(flopy.mf6.mfpackage.MFPackage)\n",
      " |  ModflowGwfoc(model, loading_package=False, budget_filerecord=None, head_filerecord=None, headprintrecord=None, saverecord=None, printrecord=None, filename=None, pname=None, parent_file=None)\n",
      " |  \n",
      " |  ModflowGwfoc defines a oc package within a gwf6 model.\n",
      " |  \n",
      " |  Parameters\n",
      " |  ----------\n",
      " |  model : MFModel\n",
      " |      Model that this package is a part of.  Package is automatically\n",
      " |      added to model when it is initialized.\n",
      " |  loading_package : bool\n",
      " |      Do not set this parameter. It is intended for debugging and internal\n",
      " |      processing purposes only.\n",
      " |  budget_filerecord : [budgetfile]\n",
      " |      * budgetfile (string) name of the output file to write budget\n",
      " |        information.\n",
      " |  head_filerecord : [headfile]\n",
      " |      * headfile (string) name of the output file to write head information.\n",
      " |  headprintrecord : [columns, width, digits, format]\n",
      " |      * columns (integer) number of columns for writing data.\n",
      " |      * width (integer) width for writing each number.\n",
      " |      * digits (integer) number of digits to use for writing a number.\n",
      " |      * format (string) write format can be EXPONENTIAL, FIXED, GENERAL, or\n",
      " |        SCIENTIFIC.\n",
      " |  saverecord : [rtype, ocsetting]\n",
      " |      * rtype (string) type of information to save or print. Can be BUDGET or\n",
      " |        HEAD.\n",
      " |      * ocsetting (keystring) specifies the steps for which the data will be\n",
      " |        saved.\n",
      " |          all : [keyword]\n",
      " |              * all (keyword) keyword to indicate save for all time steps in\n",
      " |                period.\n",
      " |          first : [keyword]\n",
      " |              * first (keyword) keyword to indicate save for first step in\n",
      " |                period. This keyword may be used in conjunction with other\n",
      " |                keywords to print or save results for multiple time steps.\n",
      " |          last : [keyword]\n",
      " |              * last (keyword) keyword to indicate save for last step in\n",
      " |                period. This keyword may be used in conjunction with other\n",
      " |                keywords to print or save results for multiple time steps.\n",
      " |          frequency : [integer]\n",
      " |              * frequency (integer) save at the specified time step\n",
      " |                frequency. This keyword may be used in conjunction with other\n",
      " |                keywords to print or save results for multiple time steps.\n",
      " |          steps : [integer]\n",
      " |              * steps (integer) save for each step specified in STEPS. This\n",
      " |                keyword may be used in conjunction with other keywords to\n",
      " |                print or save results for multiple time steps.\n",
      " |  printrecord : [rtype, ocsetting]\n",
      " |      * rtype (string) type of information to save or print. Can be BUDGET or\n",
      " |        HEAD.\n",
      " |      * ocsetting (keystring) specifies the steps for which the data will be\n",
      " |        saved.\n",
      " |          all : [keyword]\n",
      " |              * all (keyword) keyword to indicate save for all time steps in\n",
      " |                period.\n",
      " |          first : [keyword]\n",
      " |              * first (keyword) keyword to indicate save for first step in\n",
      " |                period. This keyword may be used in conjunction with other\n",
      " |                keywords to print or save results for multiple time steps.\n",
      " |          last : [keyword]\n",
      " |              * last (keyword) keyword to indicate save for last step in\n",
      " |                period. This keyword may be used in conjunction with other\n",
      " |                keywords to print or save results for multiple time steps.\n",
      " |          frequency : [integer]\n",
      " |              * frequency (integer) save at the specified time step\n",
      " |                frequency. This keyword may be used in conjunction with other\n",
      " |                keywords to print or save results for multiple time steps.\n",
      " |          steps : [integer]\n",
      " |              * steps (integer) save for each step specified in STEPS. This\n",
      " |                keyword may be used in conjunction with other keywords to\n",
      " |                print or save results for multiple time steps.\n",
      " |  filename : String\n",
      " |      File name for this package.\n",
      " |  pname : String\n",
      " |      Package name for this package.\n",
      " |  parent_file : MFPackage\n",
      " |      Parent package file that references this package. Only needed for\n",
      " |      utility packages (mfutl*). For example, mfutllaktab package must have\n",
      " |      a mfgwflak package parent_file.\n",
      " |  \n",
      " |  Method resolution order:\n",
      " |      ModflowGwfoc\n",
      " |      flopy.mf6.mfpackage.MFPackage\n",
      " |      flopy.mf6.mfbase.PackageContainer\n",
      " |      flopy.pakbase.PackageInterface\n",
      " |      builtins.object\n",
      " |  \n",
      " |  Methods defined here:\n",
      " |  \n",
      " |  __init__(self, model, loading_package=False, budget_filerecord=None, head_filerecord=None, headprintrecord=None, saverecord=None, printrecord=None, filename=None, pname=None, parent_file=None)\n",
      " |      Initialize self.  See help(type(self)) for accurate signature.\n",
      " |  \n",
      " |  ----------------------------------------------------------------------\n",
      " |  Data and other attributes defined here:\n",
      " |  \n",
      " |  budget_filerecord = <flopy.mf6.data.mfdatautil.ListTemplateGenerator o...\n",
      " |  \n",
      " |  dfn = [['block options', 'name budget_filerecord', 'type record budget...\n",
      " |  \n",
      " |  dfn_file_name = 'gwf-oc.dfn'\n",
      " |  \n",
      " |  head_filerecord = <flopy.mf6.data.mfdatautil.ListTemplateGenerator obj...\n",
      " |  \n",
      " |  headprintrecord = <flopy.mf6.data.mfdatautil.ListTemplateGenerator obj...\n",
      " |  \n",
      " |  package_abbr = 'gwfoc'\n",
      " |  \n",
      " |  printrecord = <flopy.mf6.data.mfdatautil.ListTemplateGenerator object>\n",
      " |  \n",
      " |  saverecord = <flopy.mf6.data.mfdatautil.ListTemplateGenerator object>\n",
      " |  \n",
      " |  ----------------------------------------------------------------------\n",
      " |  Methods inherited from flopy.mf6.mfpackage.MFPackage:\n",
      " |  \n",
      " |  __repr__(self)\n",
      " |      Return repr(self).\n",
      " |  \n",
      " |  __setattr__(self, name, value)\n",
      " |      Implement setattr(self, name, value).\n",
      " |  \n",
      " |  __str__(self)\n",
      " |      Return str(self).\n",
      " |  \n",
      " |  build_child_package(self, pkg_type, data, parameter_name, filerecord)\n",
      " |  \n",
      " |  build_child_packages_container(self, pkg_type, filerecord)\n",
      " |  \n",
      " |  build_mfdata(self, var_name, data=None)\n",
      " |  \n",
      " |  check(self, f=None, verbose=True, level=1, checktype=None)\n",
      " |      Check package data for common errors.\n",
      " |      \n",
      " |      Parameters\n",
      " |      ----------\n",
      " |      f : str or file handle\n",
      " |          String defining file name or file handle for summary file\n",
      " |          of check method output. If a sting is passed a file handle\n",
      " |          is created. If f is None, check method does not write\n",
      " |          results to a summary file. (default is None)\n",
      " |      verbose : bool\n",
      " |          Boolean flag used to determine if check method results are\n",
      " |          written to the screen\n",
      " |      level : int\n",
      " |          Check method analysis level. If level=0, summary checks are\n",
      " |          performed. If level=1, full checks are performed.\n",
      " |      checktype : check\n",
      " |          Checker type to be used. By default class check is used from\n",
      " |          check.py.\n",
      " |      \n",
      " |      Returns\n",
      " |      -------\n",
      " |      None\n",
      " |      \n",
      " |      Examples\n",
      " |      --------\n",
      " |      \n",
      " |      >>> import flopy\n",
      " |      >>> m = flopy.modflow.Modflow.load('model.nam')\n",
      " |      >>> m.dis.check()\n",
      " |  \n",
      " |  create_package_dimensions(self)\n",
      " |  \n",
      " |  export(self, f, **kwargs)\n",
      " |      Method to export a package to netcdf or shapefile based on the\n",
      " |      extension of the file name (.shp for shapefile, .nc for netcdf)\n",
      " |      \n",
      " |      Parameters\n",
      " |      ----------\n",
      " |      f : str\n",
      " |          filename\n",
      " |      kwargs : keyword arguments\n",
      " |          modelgrid : flopy.discretization.Grid instance\n",
      " |              user supplied modelgrid which can be used for exporting\n",
      " |              in lieu of the modelgrid associated with the model object\n",
      " |      \n",
      " |      Returns\n",
      " |      -------\n",
      " |          None or Netcdf object\n",
      " |  \n",
      " |  get_file_path(self)\n",
      " |  \n",
      " |  is_valid(self)\n",
      " |  \n",
      " |  load(self, strict=True)\n",
      " |  \n",
      " |  plot(self, **kwargs)\n",
      " |      Plot 2-D, 3-D, transient 2-D, and stress period list (MfList)\n",
      " |      package input data\n",
      " |      \n",
      " |      Parameters\n",
      " |      ----------\n",
      " |      package: flopy.pakbase.Package instance supplied for plotting\n",
      " |      \n",
      " |      **kwargs : dict\n",
      " |          filename_base : str\n",
      " |              Base file name that will be used to automatically generate\n",
      " |              file names for output image files. Plots will be exported as\n",
      " |              image files if file_name_base is not None. (default is None)\n",
      " |          file_extension : str\n",
      " |              Valid matplotlib.pyplot file extension for savefig(). Only\n",
      " |              used if filename_base is not None. (default is 'png')\n",
      " |          mflay : int\n",
      " |              MODFLOW zero-based layer number to return.  If None, then all\n",
      " |              all layers will be included. (default is None)\n",
      " |          kper : int\n",
      " |              MODFLOW zero-based stress period number to return. (default is\n",
      " |              zero)\n",
      " |          key : str\n",
      " |              MfList dictionary key. (default is None)\n",
      " |      \n",
      " |      Returns\n",
      " |      ----------\n",
      " |      axes : list\n",
      " |          Empty list is returned if filename_base is not None. Otherwise\n",
      " |          a list of matplotlib.pyplot.axis are returned.\n",
      " |  \n",
      " |  remove(self)\n",
      " |  \n",
      " |  set_all_data_external(self, check_data=True)\n",
      " |  \n",
      " |  set_model_relative_path(self, model_ws)\n",
      " |  \n",
      " |  write(self, ext_file_action=<ExtFileAction.copy_relative_paths: 3>)\n",
      " |  \n",
      " |  ----------------------------------------------------------------------\n",
      " |  Data descriptors inherited from flopy.mf6.mfpackage.MFPackage:\n",
      " |  \n",
      " |  data_list\n",
      " |  \n",
      " |  filename\n",
      " |  \n",
      " |  name\n",
      " |  \n",
      " |  package_type\n",
      " |  \n",
      " |  parent\n",
      " |  \n",
      " |  plotable\n",
      " |  \n",
      " |  ----------------------------------------------------------------------\n",
      " |  Methods inherited from flopy.mf6.mfbase.PackageContainer:\n",
      " |  \n",
      " |  get_package(self, name=None)\n",
      " |      Get a package.\n",
      " |      \n",
      " |      Parameters\n",
      " |      ----------\n",
      " |      name : str\n",
      " |          Name of the package, 'RIV', 'LPF', etc.\n",
      " |      \n",
      " |      Returns\n",
      " |      -------\n",
      " |      pp : Package object\n",
      " |  \n",
      " |  register_package(self, package)\n",
      " |  \n",
      " |  ----------------------------------------------------------------------\n",
      " |  Static methods inherited from flopy.mf6.mfbase.PackageContainer:\n",
      " |  \n",
      " |  get_module(package_file_path)\n",
      " |  \n",
      " |  get_module_val(module, item, attrb)\n",
      " |  \n",
      " |  get_package_file_paths()\n",
      " |  \n",
      " |  model_factory(model_type)\n",
      " |  \n",
      " |  package_factory(package_type, model_type)\n",
      " |  \n",
      " |  ----------------------------------------------------------------------\n",
      " |  Data descriptors inherited from flopy.mf6.mfbase.PackageContainer:\n",
      " |  \n",
      " |  __dict__\n",
      " |      dictionary for instance variables (if defined)\n",
      " |  \n",
      " |  __weakref__\n",
      " |      list of weak references to the object (if defined)\n",
      " |  \n",
      " |  package_dict\n",
      " |  \n",
      " |  package_names\n",
      " |  \n",
      " |  ----------------------------------------------------------------------\n",
      " |  Data descriptors inherited from flopy.pakbase.PackageInterface:\n",
      " |  \n",
      " |  has_stress_period_data\n",
      "\n"
     ]
    }
   ],
   "source": [
    "# Note that help can always be found for a package\n",
    "# using either forms of the following syntax\n",
    "help(oc)\n",
    "#help(flopy.mf6.modflow.mfgwfoc.ModflowGwfoc)"
   ]
  },
  {
   "cell_type": "markdown",
   "metadata": {},
   "source": [
    "### Create the MODFLOW 6 Input Files and Run the Model\n",
    "\n",
    "Once all the flopy objects are created, it is very easy to create all of the input files and run the model."
   ]
  },
  {
   "cell_type": "code",
   "execution_count": 13,
   "metadata": {},
   "outputs": [
    {
     "name": "stdout",
     "output_type": "stream",
     "text": [
      "writing simulation...\n",
      "  writing simulation name file...\n",
      "  writing simulation tdis package...\n",
      "  writing ims package ims...\n",
      "  writing model mf6lake...\n",
      "    writing model name file...\n",
      "    writing package dis...\n",
      "    writing package ic...\n"
     ]
    },
    {
     "name": "stdout",
     "output_type": "stream",
     "text": [
      "    writing package npf...\n",
      "    writing package chd...\n",
      "    writing package oc...\n"
     ]
    }
   ],
   "source": [
    "# Write the datasets\n",
    "sim.write_simulation()"
   ]
  },
  {
   "cell_type": "code",
   "execution_count": 14,
   "metadata": {},
   "outputs": [
    {
     "name": "stdout",
     "output_type": "stream",
     "text": [
      "['mf6lake.oc', 'mf6lake.nam', 'mf6lake.dis', 'mf6lake.ims', 'mf6lake.chd', 'mf6lake.npf', 'mf6lake.ic', 'mfsim.nam', 'mf6lake.tdis']\n"
     ]
    }
   ],
   "source": [
    "# Print a list of the files that were created\n",
    "# in workspace\n",
    "print(os.listdir(workspace))"
   ]
  },
  {
   "cell_type": "markdown",
   "metadata": {},
   "source": [
    "### Run the Simulation\n",
    "\n",
    "We can also run the simulation from the notebook, but only if the MODFLOW 6 executable is available.  The executable can be made available by putting the executable in a folder that is listed in the system path variable.  Another option is to just put a copy of the executable in the simulation folder, though this should generally be avoided.  A final option is to provide a full path to the executable when the simulation is constructed.  This would be done by specifying exe_name with the full path."
   ]
  },
  {
   "cell_type": "code",
   "execution_count": 15,
   "metadata": {},
   "outputs": [
    {
     "name": "stdout",
     "output_type": "stream",
     "text": [
      "FloPy is using the following  executable to run the model: /Users/jdhughes/.local/bin/mf6\n",
      "                                   MODFLOW 6\n",
      "                U.S. GEOLOGICAL SURVEY MODULAR HYDROLOGIC MODEL\n",
      "                            VERSION 6.2.0 10/22/2020\n",
      "\n",
      "   MODFLOW 6 compiled Oct 25 2020 16:15:39 with IFORT compiler (ver. 19.0.5)\n",
      "\n",
      "This software has been approved for release by the U.S. Geological \n",
      "Survey (USGS). Although the software has been subjected to rigorous \n",
      "review, the USGS reserves the right to update the software as needed \n",
      "pursuant to further analysis and review. No warranty, expressed or \n",
      "implied, is made by the USGS or the U.S. Government as to the \n",
      "functionality of the software and related material nor shall the \n",
      "fact of release constitute any such warranty. Furthermore, the \n",
      "software is released on condition that neither the USGS nor the U.S. \n",
      "Government shall be held liable for any damages resulting from its \n",
      "authorized or unauthorized use. Also refer to the USGS Water \n",
      "Resources Software User Rights Notice for complete use, copyright, \n",
      "and distribution information.\n",
      "\n",
      " \n",
      " Run start date and time (yyyy/mm/dd hh:mm:ss): 2020/10/26 15:56:09\n",
      " \n",
      " Writing simulation list file: mfsim.lst\n",
      " Using Simulation name file: mfsim.nam\n",
      " \n"
     ]
    },
    {
     "name": "stdout",
     "output_type": "stream",
     "text": [
      "    Solving:  Stress period:     1    Time step:     1\n"
     ]
    },
    {
     "name": "stdout",
     "output_type": "stream",
     "text": [
      " \n",
      " Run end date and time (yyyy/mm/dd hh:mm:ss): 2020/10/26 15:56:10\n",
      " Elapsed run time:  0.621 Seconds\n",
      " \n",
      " Normal termination of simulation.\n",
      "\n",
      "Success is:  True\n"
     ]
    }
   ],
   "source": [
    "# Run the simulation\n",
    "success, buff = sim.run_simulation()\n",
    "print('\\nSuccess is: ', success)"
   ]
  },
  {
   "cell_type": "markdown",
   "metadata": {},
   "source": [
    "### Post-Process Head Results\n",
    "\n",
    "Post-processing MODFLOW 6 results is still a work in progress.  There aren't any Flopy plotting functions built in yet, like they are for other MODFLOW versions.  So we need to plot the results using general Flopy capabilities.  We can also use some of the Flopy ModelMap capabilities for MODFLOW 6, but in order to do so, we need to manually create a SpatialReference object, that is needed for the plotting.  Examples of both approaches are shown below.\n",
    "\n",
    "First, a link to the heads file is created with `HeadFile`. The link can then be accessed with the `get_data` function, by specifying, in this case, the step number and period number for which we want to retrieve data. A three-dimensional array is returned of size `nlay, nrow, ncol`. Matplotlib contouring functions are used to make contours of the layers or a cross-section."
   ]
  },
  {
   "cell_type": "code",
   "execution_count": 16,
   "metadata": {},
   "outputs": [
    {
     "data": {
      "image/png": "[encoded data removed]",
      "text/plain": [
       "<Figure size 432x288 with 1 Axes>"
      ]
     },
     "metadata": {
      "needs_background": "light"
     },
     "output_type": "display_data"
    }
   ],
   "source": [
    "# Read the binary head file and plot the results\n",
    "# We can use the existing Flopy HeadFile class because\n",
    "# the format of the headfile for MODFLOW 6 is the same\n",
    "# as for previous MODFLOW verions\n",
    "fname = os.path.join(workspace, headfile)\n",
    "hds = flopy.utils.binaryfile.HeadFile(fname)\n",
    "h = hds.get_data(kstpkper=(0, 0))\n",
    "x = y = np.linspace(0, L, N)\n",
    "y = y[::-1]\n",
    "c = plt.contour(x, y, h[0], np.arange(90,100.1,0.2))\n",
    "plt.clabel(c, fmt='%2.1f')\n",
    "plt.axis('scaled');"
   ]
  },
  {
   "cell_type": "code",
   "execution_count": 17,
   "metadata": {},
   "outputs": [
    {
     "data": {
      "image/png": "[encoded data removed]",
      "text/plain": [
       "<Figure size 432x288 with 1 Axes>"
      ]
     },
     "metadata": {
      "needs_background": "light"
     },
     "output_type": "display_data"
    }
   ],
   "source": [
    "x = y = np.linspace(0, L, N)\n",
    "y = y[::-1]\n",
    "c = plt.contour(x, y, h[-1], np.arange(90,100.1,0.2))\n",
    "plt.clabel(c, fmt='%1.1f')\n",
    "plt.axis('scaled');"
   ]
  },
  {
   "cell_type": "code",
   "execution_count": 18,
   "metadata": {
    "scrolled": true
   },
   "outputs": [
    {
     "data": {
      "image/png": "[encoded data removed]",
      "text/plain": [
       "<Figure size 432x288 with 1 Axes>"
      ]
     },
     "metadata": {
      "needs_background": "light"
     },
     "output_type": "display_data"
    }
   ],
   "source": [
    "z = np.linspace(-H/Nlay/2, -H+H/Nlay/2, Nlay)\n",
    "c = plt.contour(x, z, h[:,50,:], np.arange(90,100.1,.2))\n",
    "plt.axis('scaled');"
   ]
  },
  {
   "cell_type": "code",
   "execution_count": 19,
   "metadata": {},
   "outputs": [
    {
     "data": {
      "image/png": "[encoded data removed]",
      "text/plain": [
       "<Figure size 720x720 with 1 Axes>"
      ]
     },
     "metadata": {
      "needs_background": "light"
     },
     "output_type": "display_data"
    }
   ],
   "source": [
    "# We can also use the Flopy PlotMapView capabilities for MODFLOW 6\n",
    "fig = plt.figure(figsize=(10, 10))\n",
    "ax = fig.add_subplot(1, 1, 1, aspect='equal')\n",
    "modelmap = flopy.plot.PlotMapView(model=gwf, ax=ax) \n",
    "\n",
    "# Then we can use the plot_grid() method to draw the grid\n",
    "# The return value for this function is a matplotlib LineCollection object,\n",
    "# which could be manipulated (or used) later if necessary.\n",
    "quadmesh = modelmap.plot_ibound(ibound=ibd)\n",
    "linecollection = modelmap.plot_grid()\n",
    "contours = modelmap.contour_array(h[0], levels=np.arange(90,100.1,0.2))"
   ]
  },
  {
   "cell_type": "code",
   "execution_count": 20,
   "metadata": {},
   "outputs": [
    {
     "data": {
      "image/png": "[encoded data removed]",
      "text/plain": [
       "<Figure size 720x720 with 2 Axes>"
      ]
     },
     "metadata": {
      "needs_background": "light"
     },
     "output_type": "display_data"
    }
   ],
   "source": [
    "# We can also use the Flopy PlotMapView capabilities for MODFLOW 6\n",
    "fig = plt.figure(figsize=(10, 10))\n",
    "ax = fig.add_subplot(1, 1, 1, aspect='equal')\n",
    "\n",
    "# Next we create an instance of the ModelMap class\n",
    "modelmap = flopy.plot.PlotMapView(model=gwf, ax=ax)\n",
    "\n",
    "# Then we can use the plot_grid() method to draw the grid\n",
    "# The return value for this function is a matplotlib LineCollection object,\n",
    "# which could be manipulated (or used) later if necessary.\n",
    "quadmesh = modelmap.plot_ibound(ibound=ibd)\n",
    "linecollection = modelmap.plot_grid()\n",
    "pa = modelmap.plot_array(h[0])\n",
    "cb = plt.colorbar(pa, shrink=0.5)"
   ]
  },
  {
   "cell_type": "markdown",
   "metadata": {},
   "source": [
    "### Post-Process Flows\n",
    "\n",
    "MODFLOW 6 writes a binary grid file, which contains information about the model grid.  MODFLOW 6 also writes a binary budget file, which contains flow information.  Both of these files can be read using Flopy capabilities.  The MfGrdFile class in Flopy can be used to read the binary grid file.  The CellBudgetFile class in Flopy can be used to read the binary budget file written by MODFLOW 6."
   ]
  },
  {
   "cell_type": "code",
   "execution_count": 21,
   "metadata": {},
   "outputs": [
    {
     "data": {
      "text/plain": [
       "OrderedDict([('NCELLS', 102010),\n",
       "             ('NLAY', 10),\n",
       "             ('NROW', 101),\n",
       "             ('NCOL', 101),\n",
       "             ('NJA', 689628),\n",
       "             ('XORIGIN', 0.0),\n",
       "             ('YORIGIN', 0.0),\n",
       "             ('ANGROT', 0.0),\n",
       "             ('DELR',\n",
       "              array([4., 4., 4., 4., 4., 4., 4., 4., 4., 4., 4., 4., 4., 4., 4., 4., 4.,\n",
       "                     4., 4., 4., 4., 4., 4., 4., 4., 4., 4., 4., 4., 4., 4., 4., 4., 4.,\n",
       "                     4., 4., 4., 4., 4., 4., 4., 4., 4., 4., 4., 4., 4., 4., 4., 4., 4.,\n",
       "                     4., 4., 4., 4., 4., 4., 4., 4., 4., 4., 4., 4., 4., 4., 4., 4., 4.,\n",
       "                     4., 4., 4., 4., 4., 4., 4., 4., 4., 4., 4., 4., 4., 4., 4., 4., 4.,\n",
       "                     4., 4., 4., 4., 4., 4., 4., 4., 4., 4., 4., 4., 4., 4., 4., 4.])),\n",
       "             ('DELC',\n",
       "              array([4., 4., 4., 4., 4., 4., 4., 4., 4., 4., 4., 4., 4., 4., 4., 4., 4.,\n",
       "                     4., 4., 4., 4., 4., 4., 4., 4., 4., 4., 4., 4., 4., 4., 4., 4., 4.,\n",
       "                     4., 4., 4., 4., 4., 4., 4., 4., 4., 4., 4., 4., 4., 4., 4., 4., 4.,\n",
       "                     4., 4., 4., 4., 4., 4., 4., 4., 4., 4., 4., 4., 4., 4., 4., 4., 4.,\n",
       "                     4., 4., 4., 4., 4., 4., 4., 4., 4., 4., 4., 4., 4., 4., 4., 4., 4.,\n",
       "                     4., 4., 4., 4., 4., 4., 4., 4., 4., 4., 4., 4., 4., 4., 4., 4.])),\n",
       "             ('TOP',\n",
       "              array([[0., 0., 0., ..., 0., 0., 0.],\n",
       "                     [0., 0., 0., ..., 0., 0., 0.],\n",
       "                     [0., 0., 0., ..., 0., 0., 0.],\n",
       "                     ...,\n",
       "                     [0., 0., 0., ..., 0., 0., 0.],\n",
       "                     [0., 0., 0., ..., 0., 0., 0.],\n",
       "                     [0., 0., 0., ..., 0., 0., 0.]])),\n",
       "             ('BOTM',\n",
       "              array([[[ -5.,  -5.,  -5., ...,  -5.,  -5.,  -5.],\n",
       "                      [ -5.,  -5.,  -5., ...,  -5.,  -5.,  -5.],\n",
       "                      [ -5.,  -5.,  -5., ...,  -5.,  -5.,  -5.],\n",
       "                      ...,\n",
       "                      [ -5.,  -5.,  -5., ...,  -5.,  -5.,  -5.],\n",
       "                      [ -5.,  -5.,  -5., ...,  -5.,  -5.,  -5.],\n",
       "                      [ -5.,  -5.,  -5., ...,  -5.,  -5.,  -5.]],\n",
       "              \n",
       "                     [[-10., -10., -10., ..., -10., -10., -10.],\n",
       "                      [-10., -10., -10., ..., -10., -10., -10.],\n",
       "                      [-10., -10., -10., ..., -10., -10., -10.],\n",
       "                      ...,\n",
       "                      [-10., -10., -10., ..., -10., -10., -10.],\n",
       "                      [-10., -10., -10., ..., -10., -10., -10.],\n",
       "                      [-10., -10., -10., ..., -10., -10., -10.]],\n",
       "              \n",
       "                     [[-15., -15., -15., ..., -15., -15., -15.],\n",
       "                      [-15., -15., -15., ..., -15., -15., -15.],\n",
       "                      [-15., -15., -15., ..., -15., -15., -15.],\n",
       "                      ...,\n",
       "                      [-15., -15., -15., ..., -15., -15., -15.],\n",
       "                      [-15., -15., -15., ..., -15., -15., -15.],\n",
       "                      [-15., -15., -15., ..., -15., -15., -15.]],\n",
       "              \n",
       "                     ...,\n",
       "              \n",
       "                     [[-40., -40., -40., ..., -40., -40., -40.],\n",
       "                      [-40., -40., -40., ..., -40., -40., -40.],\n",
       "                      [-40., -40., -40., ..., -40., -40., -40.],\n",
       "                      ...,\n",
       "                      [-40., -40., -40., ..., -40., -40., -40.],\n",
       "                      [-40., -40., -40., ..., -40., -40., -40.],\n",
       "                      [-40., -40., -40., ..., -40., -40., -40.]],\n",
       "              \n",
       "                     [[-45., -45., -45., ..., -45., -45., -45.],\n",
       "                      [-45., -45., -45., ..., -45., -45., -45.],\n",
       "                      [-45., -45., -45., ..., -45., -45., -45.],\n",
       "                      ...,\n",
       "                      [-45., -45., -45., ..., -45., -45., -45.],\n",
       "                      [-45., -45., -45., ..., -45., -45., -45.],\n",
       "                      [-45., -45., -45., ..., -45., -45., -45.]],\n",
       "              \n",
       "                     [[-50., -50., -50., ..., -50., -50., -50.],\n",
       "                      [-50., -50., -50., ..., -50., -50., -50.],\n",
       "                      [-50., -50., -50., ..., -50., -50., -50.],\n",
       "                      ...,\n",
       "                      [-50., -50., -50., ..., -50., -50., -50.],\n",
       "                      [-50., -50., -50., ..., -50., -50., -50.],\n",
       "                      [-50., -50., -50., ..., -50., -50., -50.]]])),\n",
       "             ('IA',\n",
       "              array([     1,      5,     10, ..., 689620, 689625, 689629], dtype=int32)),\n",
       "             ('JA',\n",
       "              array([     1,      2,    102, ...,  91809, 101909, 102009], dtype=int32)),\n",
       "             ('IDOMAIN', array([1, 1, 1, ..., 1, 1, 1], dtype=int32)),\n",
       "             ('ICELLTYPE', array([1, 1, 1, ..., 1, 1, 1], dtype=int32))])"
      ]
     },
     "execution_count": 21,
     "metadata": {},
     "output_type": "execute_result"
    }
   ],
   "source": [
    "# read the binary grid file\n",
    "fname = os.path.join(workspace, '{}.dis.grb'.format(name))\n",
    "bgf = flopy.utils.mfgrdfile.MfGrdFile(fname)\n",
    "\n",
    "# data read from the binary grid file is stored in a dictionary\n",
    "bgf._datadict"
   ]
  },
  {
   "cell_type": "code",
   "execution_count": 22,
   "metadata": {},
   "outputs": [],
   "source": [
    "# Information from the binary grid file is easily retrieved\n",
    "ia = bgf._datadict['IA'] - 1\n",
    "ja = bgf._datadict['JA'] - 1"
   ]
  },
  {
   "cell_type": "code",
   "execution_count": 23,
   "metadata": {},
   "outputs": [
    {
     "name": "stdout",
     "output_type": "stream",
     "text": [
      "(1, 1, b'    FLOW-JA-FACE', 689628, 1, -1, 1, 1., 1., 1., b'', b'', b'', b'')\n",
      "(1, 1, b'             CHD', 101, 101, -10, 6, 1., 1., 1., b'MF6LAKE         ', b'MF6LAKE         ', b'MF6LAKE         ', b'CHD             ')\n"
     ]
    }
   ],
   "source": [
    "# read the cell budget file\n",
    "fname = os.path.join(workspace, '{}.cbb'.format(name))\n",
    "cbb = flopy.utils.CellBudgetFile(fname, precision='double')\n",
    "cbb.list_records()\n",
    "\n",
    "flowja = cbb.get_data(text='FLOW-JA-FACE')[0][0, 0, :]\n",
    "chdflow = cbb.get_data(text='CHD')[0]"
   ]
  },
  {
   "cell_type": "code",
   "execution_count": 24,
   "metadata": {},
   "outputs": [
    {
     "name": "stdout",
     "output_type": "stream",
     "text": [
      "Printing flows for cell 56106\n",
      "Cell 56106 flow with cell 45905 is -0.0002858449337963975\n",
      "Cell 56106 flow with cell 56005 is -0.025019694309449392\n",
      "Cell 56106 flow with cell 56105 is -0.025019694309449392\n",
      "Cell 56106 flow with cell 56107 is 0.025058524820593675\n",
      "Cell 56106 flow with cell 56207 is 0.02505852482066473\n",
      "Cell 56106 flow with cell 66307 is 0.00033448625827077195\n"
     ]
    }
   ],
   "source": [
    "# By having the ia and ja arrays and the flow-ja-face we can look at\n",
    "# the flows for any cell and process them in the follow manner.\n",
    "k = 5; i = 50; j = 50\n",
    "celln = k * N * N + i * N + j\n",
    "print('Printing flows for cell {}'.format(celln + 1))\n",
    "for ipos in range(ia[celln] + 1, ia[celln + 1]):\n",
    "    cellm = ja[ipos]  # change from one-based to zero-based\n",
    "    print('Cell {} flow with cell {} is {}'.format(celln + 1, cellm + 1, flowja[ipos]))"
   ]
  }
 ],
 "metadata": {
  "kernelspec": {
   "display_name": "Python 3",
   "language": "python",
   "name": "python3"
  },
  "language_info": {
   "codemirror_mode": {
    "name": "ipython",
    "version": 3
   },
   "file_extension": ".py",
   "mimetype": "text/x-python",
   "name": "python",
   "nbconvert_exporter": "python",
   "pygments_lexer": "ipython3",
   "version": "3.7.7"
  }
 },
 "nbformat": 4,
 "nbformat_minor": 2
}
