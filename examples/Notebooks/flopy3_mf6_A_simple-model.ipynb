{
 "cells": [
  {
   "cell_type": "markdown",
   "metadata": {},
   "source": [
    "# FloPy\n",
    "\n",
    "## Creating a Simple MODFLOW 6 Model with Flopy\n",
    "\n",
    "The purpose of this notebook is to demonstrate the Flopy capabilities for building a simple MODFLOW 6 model from scratch, running the model, and viewing the results.  This notebook will use demonstrate the capabilities using a simple lake example.  A separate notebook is also available in which this same lake example is created for MODFLOW-2005 (flopy3_lake_example.ipynb)."
   ]
  },
  {
   "cell_type": "markdown",
   "metadata": {},
   "source": [
    "### Setup the Notebook Environment"
   ]
  },
  {
   "cell_type": "code",
   "execution_count": null,
   "metadata": {
    "collapsed": false
   },
   "outputs": [],
   "source": [
    "%matplotlib inline\n",
    "import sys\n",
    "import os\n",
    "import platform\n",
    "import numpy as np\n",
    "import matplotlib as mpl\n",
    "import matplotlib.pyplot as plt\n",
    "\n",
    "# run installed version of flopy or add local path\n",
    "try:\n",
    "    import flopy\n",
    "except:\n",
    "    fpth = os.path.abspath(os.path.join('..', '..'))\n",
    "    sys.path.append(fpth)\n",
    "    import flopy\n",
    "\n",
    "print(sys.version)\n",
    "print('numpy version: {}'.format(np.__version__))\n",
    "print('matplotlib version: {}'.format(mpl.__version__))\n",
    "print('flopy version: {}'.format(flopy.__version__))"
   ]
  },
  {
   "cell_type": "code",
   "execution_count": null,
   "metadata": {
    "collapsed": true
   },
   "outputs": [],
   "source": [
    "# For this example, we will set up a model workspace.\n",
    "# Model input files and output files will reside here.\n",
    "workspace = os.path.join('data', 'mf6lake')\n",
    "if not os.path.exists(workspace):\n",
    "    os.makedirs(workspace)"
   ]
  },
  {
   "cell_type": "markdown",
   "metadata": {},
   "source": [
    "### Create the Flopy Model Objects\n",
    "\n",
    "We are creating a square model with a specified head equal to `h1` along all boundaries. The head at the cell in the center in the top layer is fixed to `h2`. First, set the name of the model and the parameters of the model: the number of layers `Nlay`, the number of rows and columns `N`, lengths of the sides of the model `L`, aquifer thickness `H`, hydraulic conductivity `k`"
   ]
  },
  {
   "cell_type": "code",
   "execution_count": null,
   "metadata": {
    "collapsed": true
   },
   "outputs": [],
   "source": [
    "name = 'mf6lake'\n",
    "h1 = 100\n",
    "h2 = 90\n",
    "Nlay = 10 \n",
    "N = 101 \n",
    "L = 400.0 \n",
    "H = 50.0 \n",
    "k = 1.0"
   ]
  },
  {
   "cell_type": "markdown",
   "metadata": {},
   "source": [
    "One big difference between MODFLOW 6 and previous MODFLOW versions is that MODFLOW 6 is based on the concept of a simulation.  A simulation consists of the following:\n",
    "\n",
    "* Temporal discretization (TDIS)\n",
    "* One or more models (GWF is the only model supported at present)\n",
    "* Zero or more exchanges (instructions for how models are coupled)\n",
    "* Solutions\n",
    "\n",
    "For this simple lake example, the simulation consists of the temporal discretization (TDIS) package (TDIS), a groundwater flow (GWF) model, and an iterative model solution (IMS), which controls how the GWF model is solved. "
   ]
  },
  {
   "cell_type": "code",
   "execution_count": null,
   "metadata": {
    "collapsed": false
   },
   "outputs": [],
   "source": [
    "# Create the Flopy simulation object\n",
    "sim = flopy.mf6.MFSimulation(sim_name=name, exe_name='mf6', \n",
    "                             version='mf6', sim_ws=workspace)\n",
    "\n",
    "# Create the Flopy temporal discretization object\n",
    "tdis = flopy.mf6.modflow.mftdis.ModflowTdis(sim, pname='tdis', time_units='DAYS', nper=1, \n",
    "                                            perioddata=[(1.0, 1, 1.0)])\n",
    "\n",
    "# Create the Flopy groundwater flow (gwf) model object\n",
    "model_nam_file = '{}.nam'.format(name)\n",
    "gwf = flopy.mf6.ModflowGwf(sim, modelname=name, \n",
    "                           model_nam_file=model_nam_file)\n",
    "\n",
    "# Create the Flopy iterative model solver (ims) Package object\n",
    "ims = flopy.mf6.modflow.mfims.ModflowIms(sim, pname='ims', complexity='SIMPLE')"
   ]
  },
  {
   "cell_type": "markdown",
   "metadata": {},
   "source": [
    "Now that the overall simulation is setup, we can focus on building the groundwater flow model.  The groundwater flow model will be built by adding packages to it that describe the model characteristics.\n",
    "\n",
    "Define the discretization of the model. All layers are given equal thickness. The `bot` array is build from the `Hlay` values to indicate top and bottom of each layer, and `delrow` and `delcol` are computed from model size `L` and number of cells `N`. Once these are all computed, the Discretization file is built."
   ]
  },
  {
   "cell_type": "code",
   "execution_count": null,
   "metadata": {
    "collapsed": false
   },
   "outputs": [],
   "source": [
    "# Create the discretization package\n",
    "bot = np.linspace(-H/Nlay,-H,Nlay) \n",
    "delrow = delcol = L/(N-1)\n",
    "dis = flopy.mf6.modflow.mfgwfdis.ModflowGwfdis(gwf, pname='dis', nlay=Nlay, nrow=N, ncol=N,\n",
    "                                               delr=delrow,delc=delcol,top=0.0,\n",
    "                                               botm=bot)"
   ]
  },
  {
   "cell_type": "code",
   "execution_count": null,
   "metadata": {
    "collapsed": false
   },
   "outputs": [],
   "source": [
    "# Create the initial conditions package\n",
    "start = h1 * np.ones((Nlay, N, N))\n",
    "ic = flopy.mf6.modflow.mfgwfic.ModflowGwfic(gwf, pname='ic', strt=start)"
   ]
  },
  {
   "cell_type": "code",
   "execution_count": null,
   "metadata": {
    "collapsed": false
   },
   "outputs": [],
   "source": [
    "# Create the node property flow package\n",
    "npf = flopy.mf6.modflow.mfgwfnpf.ModflowGwfnpf(gwf, pname='npf', icelltype=1, k=k,\n",
    "                                               save_flows=True)"
   ]
  },
  {
   "cell_type": "code",
   "execution_count": null,
   "metadata": {
    "collapsed": false
   },
   "outputs": [],
   "source": [
    "# Create the constant head package.\n",
    "# List information is created a bit differently for \n",
    "# MODFLOW 6 than for other MODFLOW versions.  The\n",
    "# cellid (layer, row, column, for a regular grid)\n",
    "# must be entered as a tuple as the first entry.\n",
    "# Remember that these must be zero-based indices!\n",
    "chd_rec = []\n",
    "chd_rec.append(((0, int(N / 4), int(N / 4)), 90.0))\n",
    "for layer in range(0, Nlay):\n",
    "    for row_col in range(0, N):\n",
    "        chd_rec.append(((layer, row_col, 0), 100.0))\n",
    "        chd_rec.append(((layer, row_col, N - 1), 100.0))\n",
    "        if row_col != 0 and row_col != N - 1:\n",
    "            chd_rec.append(((layer, 0, row_col), 100.0))\n",
    "            chd_rec.append(((layer, N - 1, row_col), 100.0))\n",
    "chd = flopy.mf6.modflow.mfgwfchd.ModflowGwfchd(gwf, pname='chd', maxbound=len(chd_rec), \n",
    "                                               stress_period_data=chd_rec, save_flows=True)"
   ]
  },
  {
   "cell_type": "code",
   "execution_count": null,
   "metadata": {
    "collapsed": false
   },
   "outputs": [],
   "source": [
    "# The chd package stored the constant heads in a structured\n",
    "# array, also called a recarray.  We can get a pointer to the\n",
    "# recarray for the first stress period (iper = 0) as follows.\n",
    "iper = 0\n",
    "ra = chd.stress_period_data.get_data(key=iper)\n",
    "ra"
   ]
  },
  {
   "cell_type": "code",
   "execution_count": null,
   "metadata": {
    "collapsed": false
   },
   "outputs": [],
   "source": [
    "# We can make a quick plot to show where our constant\n",
    "# heads are located by creating an integer array\n",
    "# that starts with ones everywhere, but is assigned\n",
    "# a -1 where chds are located\n",
    "ibd = np.ones((Nlay, N, N), dtype=np.int)\n",
    "for k, i, j in ra['cellid']:\n",
    "    ibd[k, i, j] = -1\n",
    "\n",
    "ilay = 0\n",
    "plt.imshow(ibd[ilay, :, :], interpolation='none')\n",
    "plt.title('Layer {}: Constant Head Cells'.format(ilay + 1))"
   ]
  },
  {
   "cell_type": "code",
   "execution_count": null,
   "metadata": {
    "collapsed": false
   },
   "outputs": [],
   "source": [
    "# Create the output control package\n",
    "headfile = '{}.hds'.format(name)\n",
    "head_filerecord = [headfile]\n",
    "budgetfile = '{}.cbb'.format(name)\n",
    "budget_filerecord = [budgetfile]\n",
    "saverecord = [('HEAD', 'ALL'), \n",
    "              ('BUDGET', 'ALL')]\n",
    "printrecord = [('HEAD', 'LAST')]\n",
    "oc = flopy.mf6.modflow.mfgwfoc.ModflowGwfoc(gwf, pname='oc', saverecord=saverecord, \n",
    "                                            head_filerecord=head_filerecord,\n",
    "                                            budget_filerecord=budget_filerecord,\n",
    "                                            printrecord=printrecord)"
   ]
  },
  {
   "cell_type": "code",
   "execution_count": null,
   "metadata": {
    "collapsed": false
   },
   "outputs": [],
   "source": [
    "# Note that help can always be found for a package\n",
    "# using either forms of the following syntax\n",
    "help(oc)\n",
    "#help(flopy.mf6.modflow.mfgwfoc.ModflowGwfoc)"
   ]
  },
  {
   "cell_type": "markdown",
   "metadata": {},
   "source": [
    "### Create the MODFLOW 6 Input Files and Run the Model\n",
    "\n",
    "Once all the flopy objects are created, it is very easy to create all of the input files and run the model."
   ]
  },
  {
   "cell_type": "code",
   "execution_count": null,
   "metadata": {
    "collapsed": false
   },
   "outputs": [],
   "source": [
    "# Write the datasets\n",
    "sim.write_simulation()"
   ]
  },
  {
   "cell_type": "code",
   "execution_count": null,
   "metadata": {
    "collapsed": false
   },
   "outputs": [],
   "source": [
    "# Print a list of the files that were created\n",
    "# in workspace\n",
    "print(os.listdir(workspace))"
   ]
  },
  {
   "cell_type": "markdown",
   "metadata": {},
   "source": [
    "### Run the Simulation\n",
    "\n",
    "We can also run the simulation from the notebook, but only if the MODFLOW 6 executable is available.  The executable can be made available by putting the executable in a folder that is listed in the system path variable.  Another option is to just put a copy of the executable in the simulation folder, though this should generally be avoided.  A final option is to provide a full path to the executable when the simulation is constructed.  This would be done by specifying exe_name with the full path."
   ]
  },
  {
   "cell_type": "code",
   "execution_count": null,
   "metadata": {
    "collapsed": false
   },
   "outputs": [],
   "source": [
    "# Run the simulation\n",
    "success, buff = sim.run_simulation()\n",
    "print('\\nSuccess is: ', success)"
   ]
  },
  {
   "cell_type": "markdown",
   "metadata": {},
   "source": [
    "### Post-Process Head Results\n",
    "\n",
    "Post-processing MODFLOW 6 results is still a work in progress.  There aren't any Flopy plotting functions built in yet, like they are for other MODFLOW versions.  So we need to plot the results using general Flopy capabilities.  We can also use some of the Flopy ModelMap capabilities for MODFLOW 6, but in order to do so, we need to manually create a SpatialReference object, that is needed for the plotting.  Examples of both approaches are shown below.\n",
    "\n",
    "First, a link to the heads file is created with `HeadFile`. The link can then be accessed with the `get_data` function, by specifying, in this case, the step number and period number for which we want to retrieve data. A three-dimensional array is returned of size `nlay, nrow, ncol`. Matplotlib contouring functions are used to make contours of the layers or a cross-section."
   ]
  },
  {
   "cell_type": "code",
   "execution_count": null,
   "metadata": {
    "collapsed": false
   },
   "outputs": [],
   "source": [
    "# Read the binary head file and plot the results\n",
    "# We can use the existing Flopy HeadFile class because\n",
    "# the format of the headfile for MODFLOW 6 is the same\n",
    "# as for previous MODFLOW verions\n",
    "fname = os.path.join(workspace, headfile)\n",
    "hds = flopy.utils.binaryfile.HeadFile(fname)\n",
    "h = hds.get_data(kstpkper=(0, 0))\n",
    "x = y = np.linspace(0, L, N)\n",
    "c = plt.contour(x, y, h[0], np.arange(90,100.1,0.2))\n",
    "plt.clabel(c, fmt='%2.1f')\n",
    "plt.axis('scaled');"
   ]
  },
  {
   "cell_type": "code",
   "execution_count": null,
   "metadata": {
    "collapsed": false
   },
   "outputs": [],
   "source": [
    "x = y = np.linspace(0, L, N)\n",
    "c = plt.contour(x, y, h[-1], np.arange(90,100.1,0.2))\n",
    "plt.clabel(c, fmt='%1.1f')\n",
    "plt.axis('scaled');"
   ]
  },
  {
   "cell_type": "code",
   "execution_count": null,
   "metadata": {
    "collapsed": false
   },
   "outputs": [],
   "source": [
    "z = np.linspace(-H/Nlay/2, -H+H/Nlay/2, Nlay)\n",
    "c = plt.contour(x, z, h[:,50,:], np.arange(90,100.1,.2))\n",
    "plt.axis('scaled');"
   ]
  },
  {
   "cell_type": "code",
   "execution_count": null,
   "metadata": {
    "collapsed": false
   },
   "outputs": [],
   "source": [
    "# We can also use the Flopy model map capabilities for MODFLOW 6\n",
    "# but in order to do so, we need to manually create a\n",
    "# SpatialReference object\n",
    "fig = plt.figure(figsize=(10, 10))\n",
    "ax = fig.add_subplot(1, 1, 1, aspect='equal')\n",
    "sr = flopy.utils.reference.SpatialReference(delr=dis.delr[:],\n",
    "                                            delc=dis.delc[:])\n",
    "\n",
    "# Next we create an instance of the ModelMap class\n",
    "modelmap = flopy.plot.ModelMap(sr=sr)\n",
    "\n",
    "# Then we can use the plot_grid() method to draw the grid\n",
    "# The return value for this function is a matplotlib LineCollection object,\n",
    "# which could be manipulated (or used) later if necessary.\n",
    "quadmesh = modelmap.plot_ibound(ibound=ibd)\n",
    "linecollection = modelmap.plot_grid()\n",
    "contours = modelmap.contour_array(h[0], levels=np.arange(90,100.1,0.2))"
   ]
  },
  {
   "cell_type": "code",
   "execution_count": null,
   "metadata": {
    "collapsed": false
   },
   "outputs": [],
   "source": [
    "# We can also use the Flopy model map capabilities for MODFLOW 6\n",
    "# but in order to do so, we need to manually create a\n",
    "# SpatialReference object\n",
    "fig = plt.figure(figsize=(10, 10))\n",
    "ax = fig.add_subplot(1, 1, 1, aspect='equal')\n",
    "sr = flopy.utils.reference.SpatialReference(delr=dis.delr[:],\n",
    "                                            delc=dis.delc[:])\n",
    "\n",
    "# Next we create an instance of the ModelMap class\n",
    "modelmap = flopy.plot.ModelMap(sr=sr)\n",
    "\n",
    "# Then we can use the plot_grid() method to draw the grid\n",
    "# The return value for this function is a matplotlib LineCollection object,\n",
    "# which could be manipulated (or used) later if necessary.\n",
    "quadmesh = modelmap.plot_ibound(ibound=ibd)\n",
    "linecollection = modelmap.plot_grid()\n",
    "pa = modelmap.plot_array(h[0])\n",
    "cb = plt.colorbar(pa, shrink=0.5)"
   ]
  },
  {
   "cell_type": "markdown",
   "metadata": {},
   "source": [
    "### Post-Process Flows\n",
    "\n",
    "MODFLOW 6 writes a binary grid file, which contains information about the model grid.  MODFLOW 6 also writes a binary budget file, which contains flow information.  Both of these files can be read using Flopy capabilities.  The MfGrdFile class in Flopy can be used to read the binary grid file.  The CellBudgetFile class in Flopy can be used to read the binary budget file written by MODFLOW 6."
   ]
  },
  {
   "cell_type": "code",
   "execution_count": null,
   "metadata": {
    "collapsed": false
   },
   "outputs": [],
   "source": [
    "# read the binary grid file\n",
    "fname = os.path.join(workspace, '{}.dis.grb'.format(name))\n",
    "bgf = flopy.utils.mfgrdfile.MfGrdFile(fname)\n",
    "\n",
    "# data read from the binary grid file is stored in a dictionary\n",
    "bgf._datadict"
   ]
  },
  {
   "cell_type": "code",
   "execution_count": null,
   "metadata": {
    "collapsed": true
   },
   "outputs": [],
   "source": [
    "# Information from the binary grid file is easily retrieved\n",
    "ia = bgf._datadict['IA'] - 1\n",
    "ja = bgf._datadict['JA'] - 1"
   ]
  },
  {
   "cell_type": "code",
   "execution_count": null,
   "metadata": {
    "collapsed": false
   },
   "outputs": [],
   "source": [
    "# read the cell budget file\n",
    "fname = os.path.join(workspace, '{}.cbb'.format(name))\n",
    "cbb = flopy.utils.CellBudgetFile(fname, precision='double')\n",
    "cbb.list_records()\n",
    "\n",
    "flowja = cbb.get_data(text='FLOW-JA-FACE')[0][0, 0, :]\n",
    "chdflow = cbb.get_data(text='CHD')[0]"
   ]
  },
  {
   "cell_type": "code",
   "execution_count": null,
   "metadata": {
    "collapsed": false
   },
   "outputs": [],
   "source": [
    "# By having the ia and ja arrays and the flow-ja-face we can look at\n",
    "# the flows for any cell and process them in the follow manner.\n",
    "k = 5; i = 50; j = 50\n",
    "celln = k * N * N + i * N + j\n",
    "print('Printing flows for cell {}'.format(celln + 1))\n",
    "for ipos in range(ia[celln] + 1, ia[celln + 1]):\n",
    "    cellm = ja[ipos]  # change from one-based to zero-based\n",
    "    print('Cell {} flow with cell {} is {}'.format(celln + 1, cellm + 1, flowja[ipos]))"
   ]
  },
  {
   "cell_type": "code",
   "execution_count": null,
   "metadata": {
    "collapsed": true
   },
   "outputs": [],
   "source": []
  }
 ],
 "metadata": {
  "kernelspec": {
   "display_name": "Python 3",
   "language": "python",
   "name": "python3"
  },
  "language_info": {
   "codemirror_mode": {
    "name": "ipython",
    "version": 3
   },
   "file_extension": ".py",
   "mimetype": "text/x-python",
   "name": "python",
   "nbconvert_exporter": "python",
   "pygments_lexer": "ipython3",
   "version": "3.5.1"
  }
 },
 "nbformat": 4,
 "nbformat_minor": 2
}
