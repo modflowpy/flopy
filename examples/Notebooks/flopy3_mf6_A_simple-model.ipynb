{
 "cells": [
  {
   "cell_type": "markdown",
   "metadata": {},
   "source": [
    "# FloPy\n",
    "\n",
    "## Creating a Simple MODFLOW 6 Model with Flopy\n",
    "\n",
    "The purpose of this notebook is to demonstrate the Flopy capabilities for building a simple MODFLOW 6 model from scratch, running the model, and viewing the results.  This notebook will demonstrate the capabilities using a simple lake example.  A separate notebook is also available in which the same lake example is created for MODFLOW-2005 (flopy3_lake_example.ipynb)."
   ]
  },
  {
   "cell_type": "markdown",
   "metadata": {},
   "source": [
    "### Setup the Notebook Environment"
   ]
  },
  {
   "cell_type": "code",
   "execution_count": 1,
   "metadata": {
    "execution": {
     "iopub.execute_input": "2022-12-15T13:11:08.391540Z",
     "iopub.status.busy": "2022-12-15T13:11:08.391095Z",
     "iopub.status.idle": "2022-12-15T13:11:09.649314Z",
     "shell.execute_reply": "2022-12-15T13:11:09.648146Z"
    }
   },
   "outputs": [
    {
     "name": "stdout",
     "output_type": "stream",
     "text": [
      "3.9.12 (main, Apr  4 2022, 05:22:27) [MSC v.1916 64 bit (AMD64)]\n",
      "numpy version: 1.21.5\n",
      "matplotlib version: 3.4.3\n",
      "flopy version: 3.3.7\n"
     ]
    }
   ],
   "source": [
    "import sys\n",
    "import os\n",
    "from tempfile import TemporaryDirectory\n",
    "\n",
    "import numpy as np\n",
    "import matplotlib as mpl\n",
    "import matplotlib.pyplot as plt\n",
    "\n",
    "# run installed version of flopy or add local path\n",
    "try:\n",
    "    import flopy\n",
    "except:\n",
    "    fpth = os.path.abspath(os.path.join(\"..\", \"..\"))\n",
    "    sys.path.append(fpth)\n",
    "    import flopy\n",
    "\n",
    "print(sys.version)\n",
    "print(\"numpy version: {}\".format(np.__version__))\n",
    "print(\"matplotlib version: {}\".format(mpl.__version__))\n",
    "print(\"flopy version: {}\".format(flopy.__version__))"
   ]
  },
  {
   "cell_type": "code",
   "execution_count": 2,
   "metadata": {
    "execution": {
     "iopub.execute_input": "2022-12-15T13:11:09.695282Z",
     "iopub.status.busy": "2022-12-15T13:11:09.694481Z",
     "iopub.status.idle": "2022-12-15T13:11:09.700443Z",
     "shell.execute_reply": "2022-12-15T13:11:09.699334Z"
    }
   },
   "outputs": [],
   "source": [
    "# For this example, we will set up a temporary workspace.\n",
    "# Model input files and output files will reside here.\n",
    "temp_dir = TemporaryDirectory()\n",
    "workspace = os.path.join(temp_dir.name, \"mf6lake\")"
   ]
  },
  {
   "cell_type": "markdown",
   "metadata": {},
   "source": [
    "### Create the Flopy Model Objects\n",
    "\n",
    "We are creating a square model with a specified head equal to `h1` along all boundaries. The head at the cell in the center in the top layer is fixed to `h2`. First, set the name of the model and the parameters of the model: the number of layers `Nlay`, the number of rows and columns `N`, lengths of the sides of the model `L`, aquifer thickness `H`, hydraulic conductivity `k`"
   ]
  },
  {
   "cell_type": "code",
   "execution_count": 3,
   "metadata": {
    "execution": {
     "iopub.execute_input": "2022-12-15T13:11:09.705031Z",
     "iopub.status.busy": "2022-12-15T13:11:09.704739Z",
     "iopub.status.idle": "2022-12-15T13:11:09.710683Z",
     "shell.execute_reply": "2022-12-15T13:11:09.709705Z"
    }
   },
   "outputs": [],
   "source": [
    "name = \"mf6lake\"\n",
    "h1 = 100\n",
    "h2 = 90\n",
    "Nlay = 10\n",
    "N = 101\n",
    "L = 400.0\n",
    "H = 50.0\n",
    "k = 1.0"
   ]
  },
  {
   "cell_type": "markdown",
   "metadata": {},
   "source": [
    "One big difference between MODFLOW 6 and previous MODFLOW versions is that MODFLOW 6 is based on the concept of a simulation.  A simulation consists of the following:\n",
    "\n",
    "* Temporal discretization (TDIS)\n",
    "* One or more models (GWF is the only model supported at present)\n",
    "* Zero or more exchanges (instructions for how models are coupled)\n",
    "* Solutions\n",
    "\n",
    "For this simple lake example, the simulation consists of the temporal discretization (TDIS) package (TDIS), a groundwater flow (GWF) model, and an iterative model solution (IMS), which controls how the GWF model is solved. "
   ]
  },
  {
   "cell_type": "code",
   "execution_count": 4,
   "metadata": {
    "execution": {
     "iopub.execute_input": "2022-12-15T13:11:09.715413Z",
     "iopub.status.busy": "2022-12-15T13:11:09.715100Z",
     "iopub.status.idle": "2022-12-15T13:11:09.792826Z",
     "shell.execute_reply": "2022-12-15T13:11:09.791682Z"
    }
   },
   "outputs": [],
   "source": [
    "# Create the Flopy simulation object\n",
    "sim = flopy.mf6.MFSimulation(\n",
    "    sim_name=name, exe_name=\"mf6\", version=\"mf6\", sim_ws=workspace\n",
    ")\n",
    "\n",
    "# Create the Flopy temporal discretization object\n",
    "tdis = flopy.mf6.modflow.mftdis.ModflowTdis(\n",
    "    sim, pname=\"tdis\", time_units=\"DAYS\", nper=1, perioddata=[(1.0, 1, 1.0)]\n",
    ")\n",
    "\n",
    "# Create the Flopy groundwater flow (gwf) model object\n",
    "model_nam_file = \"{}.nam\".format(name)\n",
    "gwf = flopy.mf6.ModflowGwf(sim, modelname=name, model_nam_file=model_nam_file)\n",
    "\n",
    "# Create the Flopy iterative model solver (ims) Package object\n",
    "ims = flopy.mf6.modflow.mfims.ModflowIms(sim, pname=\"ims\", complexity=\"SIMPLE\")"
   ]
  },
  {
   "cell_type": "markdown",
   "metadata": {},
   "source": [
    "Now that the overall simulation is set up, we can focus on building the groundwater flow model.  The groundwater flow model will be built by adding packages to it that describe the model characteristics.\n",
    "\n",
    "Define the discretization of the model. All layers are given equal thickness. The `bot` array is build from `H` and the `Nlay` values to indicate top and bottom of each layer, and `delrow` and `delcol` are computed from model size `L` and number of cells `N`. Once these are all computed, the Discretization file is built."
   ]
  },
  {
   "cell_type": "code",
   "execution_count": 5,
   "metadata": {
    "execution": {
     "iopub.execute_input": "2022-12-15T13:11:09.797758Z",
     "iopub.status.busy": "2022-12-15T13:11:09.797423Z",
     "iopub.status.idle": "2022-12-15T13:11:09.807589Z",
     "shell.execute_reply": "2022-12-15T13:11:09.806478Z"
    }
   },
   "outputs": [],
   "source": [
    "# Create the discretization package\n",
    "bot = np.linspace(-H / Nlay, -H, Nlay)\n",
    "delrow = delcol = L / (N - 1)\n",
    "dis = flopy.mf6.modflow.mfgwfdis.ModflowGwfdis(\n",
    "    gwf,\n",
    "    pname=\"dis\",\n",
    "    nlay=Nlay,\n",
    "    nrow=N,\n",
    "    ncol=N,\n",
    "    delr=delrow,\n",
    "    delc=delcol,\n",
    "    top=0.0,\n",
    "    botm=bot,\n",
    ")"
   ]
  },
  {
   "cell_type": "code",
   "execution_count": 6,
   "metadata": {
    "execution": {
     "iopub.execute_input": "2022-12-15T13:11:09.811631Z",
     "iopub.status.busy": "2022-12-15T13:11:09.811338Z",
     "iopub.status.idle": "2022-12-15T13:11:09.819272Z",
     "shell.execute_reply": "2022-12-15T13:11:09.818333Z"
    }
   },
   "outputs": [],
   "source": [
    "# Create the initial conditions package\n",
    "start = h1 * np.ones((Nlay, N, N))\n",
    "ic = flopy.mf6.modflow.mfgwfic.ModflowGwfic(gwf, pname=\"ic\", strt=start)"
   ]
  },
  {
   "cell_type": "code",
   "execution_count": 7,
   "metadata": {
    "execution": {
     "iopub.execute_input": "2022-12-15T13:11:09.823707Z",
     "iopub.status.busy": "2022-12-15T13:11:09.823281Z",
     "iopub.status.idle": "2022-12-15T13:11:09.832114Z",
     "shell.execute_reply": "2022-12-15T13:11:09.831068Z"
    }
   },
   "outputs": [],
   "source": [
    "# Create the node property flow package\n",
    "npf = flopy.mf6.modflow.mfgwfnpf.ModflowGwfnpf(\n",
    "    gwf, pname=\"npf\", icelltype=1, k=k, save_flows=True\n",
    ")"
   ]
  },
  {
   "cell_type": "code",
   "execution_count": 8,
   "metadata": {
    "execution": {
     "iopub.execute_input": "2022-12-15T13:11:09.836493Z",
     "iopub.status.busy": "2022-12-15T13:11:09.836188Z",
     "iopub.status.idle": "2022-12-15T13:11:09.891298Z",
     "shell.execute_reply": "2022-12-15T13:11:09.890069Z"
    }
   },
   "outputs": [],
   "source": [
    "# Create the constant head package.\n",
    "# List information is created a bit differently for\n",
    "# MODFLOW 6 than for other MODFLOW versions.  The\n",
    "# cellid (layer, row, column, for a regular grid)\n",
    "# must be entered as a tuple as the first entry.\n",
    "# Remember that these must be zero-based indices!\n",
    "chd_rec = []\n",
    "chd_rec.append(((0, int(N / 4), int(N / 4)), h2))\n",
    "for layer in range(0, Nlay):\n",
    "    for row_col in range(0, N):\n",
    "        chd_rec.append(((layer, row_col, 0), h1))\n",
    "        chd_rec.append(((layer, row_col, N - 1), h1))\n",
    "        if row_col != 0 and row_col != N - 1:\n",
    "            chd_rec.append(((layer, 0, row_col), h1))\n",
    "            chd_rec.append(((layer, N - 1, row_col), h1))\n",
    "chd = flopy.mf6.modflow.mfgwfchd.ModflowGwfchd(\n",
    "    gwf,\n",
    "    pname=\"chd\",\n",
    "    maxbound=len(chd_rec),\n",
    "    stress_period_data=chd_rec,\n",
    "    save_flows=True,\n",
    ")"
   ]
  },
  {
   "cell_type": "code",
   "execution_count": 9,
   "metadata": {
    "execution": {
     "iopub.execute_input": "2022-12-15T13:11:09.896250Z",
     "iopub.status.busy": "2022-12-15T13:11:09.895897Z",
     "iopub.status.idle": "2022-12-15T13:11:09.907706Z",
     "shell.execute_reply": "2022-12-15T13:11:09.906596Z"
    }
   },
   "outputs": [
    {
     "data": {
      "text/plain": [
       "rec.array([((0, 25, 25),  90.), ((0, 0, 0), 100.), ((0, 0, 100), 100.),\n",
       "           ..., ((9, 100, 99), 100.), ((9, 100, 0), 100.),\n",
       "           ((9, 100, 100), 100.)],\n",
       "          dtype=[('cellid', 'O'), ('head', '<f8')])"
      ]
     },
     "execution_count": 9,
     "metadata": {},
     "output_type": "execute_result"
    }
   ],
   "source": [
    "# The chd package stored the constant heads in a structured\n",
    "# array, also called a recarray.  We can get a pointer to the\n",
    "# recarray for the first stress period (iper = 0) as follows.\n",
    "iper = 0\n",
    "ra = chd.stress_period_data.get_data(key=iper)\n",
    "ra"
   ]
  },
  {
   "cell_type": "code",
   "execution_count": 10,
   "metadata": {
    "execution": {
     "iopub.execute_input": "2022-12-15T13:11:09.912676Z",
     "iopub.status.busy": "2022-12-15T13:11:09.912324Z",
     "iopub.status.idle": "2022-12-15T13:11:10.241374Z",
     "shell.execute_reply": "2022-12-15T13:11:10.240128Z"
    }
   },
   "outputs": [
    {
     "data": {
      "text/plain": [
       "Text(0.5, 1.0, 'Layer 1: Constant Head Cells')"
      ]
     },
     "execution_count": 10,
     "metadata": {},
     "output_type": "execute_result"
    },
    {
     "data": {
      "image/png": "[encoded data removed]",
      "text/plain": [
       "<Figure size 432x288 with 1 Axes>"
      ]
     },
     "metadata": {
      "needs_background": "light"
     },
     "output_type": "display_data"
    }
   ],
   "source": [
    "# We can make a quick plot to show where our constant\n",
    "# heads are located by creating an integer array\n",
    "# that starts with ones everywhere, but is assigned\n",
    "# a -1 where chds are located\n",
    "ibd = np.ones((Nlay, N, N), dtype=int)\n",
    "for k, i, j in ra[\"cellid\"]:\n",
    "    ibd[k, i, j] = -1\n",
    "\n",
    "ilay = 0\n",
    "plt.imshow(ibd[ilay, :, :], interpolation=\"none\")\n",
    "plt.title(\"Layer {}: Constant Head Cells\".format(ilay + 1))"
   ]
  },
  {
   "cell_type": "code",
   "execution_count": 11,
   "metadata": {
    "execution": {
     "iopub.execute_input": "2022-12-15T13:11:10.245726Z",
     "iopub.status.busy": "2022-12-15T13:11:10.245413Z",
     "iopub.status.idle": "2022-12-15T13:11:10.299392Z",
     "shell.execute_reply": "2022-12-15T13:11:10.298247Z"
    }
   },
   "outputs": [],
   "source": [
    "# Create the output control package\n",
    "headfile = \"{}.hds\".format(name)\n",
    "head_filerecord = [headfile]\n",
    "budgetfile = \"{}.cbb\".format(name)\n",
    "budget_filerecord = [budgetfile]\n",
    "saverecord = [(\"HEAD\", \"ALL\"), (\"BUDGET\", \"ALL\")]\n",
    "printrecord = [(\"HEAD\", \"LAST\")]\n",
    "oc = flopy.mf6.modflow.mfgwfoc.ModflowGwfoc(\n",
    "    gwf,\n",
    "    pname=\"oc\",\n",
    "    saverecord=saverecord,\n",
    "    head_filerecord=head_filerecord,\n",
    "    budget_filerecord=budget_filerecord,\n",
    "    printrecord=printrecord,\n",
    ")"
   ]
  },
  {
   "cell_type": "code",
   "execution_count": 12,
   "metadata": {
    "execution": {
     "iopub.execute_input": "2022-12-15T13:11:10.304076Z",
     "iopub.status.busy": "2022-12-15T13:11:10.303641Z",
     "iopub.status.idle": "2022-12-15T13:11:10.314659Z",
     "shell.execute_reply": "2022-12-15T13:11:10.313815Z"
    }
   },
   "outputs": [
    {
     "name": "stdout",
     "output_type": "stream",
     "text": [
      "Help on ModflowGwfoc in module flopy.mf6.modflow.mfgwfoc object:\n",
      "\n",
      "class ModflowGwfoc(flopy.mf6.mfpackage.MFPackage)\n",
      " |  ModflowGwfoc(model, loading_package=False, budget_filerecord=None, budgetcsv_filerecord=None, head_filerecord=None, headprintrecord=None, saverecord=None, printrecord=None, filename=None, pname=None, **kwargs)\n",
      " |  \n",
      " |  ModflowGwfoc defines a oc package within a gwf6 model.\n",
      " |  \n",
      " |  Parameters\n",
      " |  ----------\n",
      " |  model : MFModel\n",
      " |      Model that this package is a part of. Package is automatically\n",
      " |      added to model when it is initialized.\n",
      " |  loading_package : bool\n",
      " |      Do not set this parameter. It is intended for debugging and internal\n",
      " |      processing purposes only.\n",
      " |  budget_filerecord : [budgetfile]\n",
      " |      * budgetfile (string) name of the output file to write budget\n",
      " |        information.\n",
      " |  budgetcsv_filerecord : [budgetcsvfile]\n",
      " |      * budgetcsvfile (string) name of the comma-separated value (CSV) output\n",
      " |        file to write budget summary information. A budget summary record\n",
      " |        will be written to this file for each time step of the simulation.\n",
      " |  head_filerecord : [headfile]\n",
      " |      * headfile (string) name of the output file to write head information.\n",
      " |  headprintrecord : [columns, width, digits, format]\n",
      " |      * columns (integer) number of columns for writing data.\n",
      " |      * width (integer) width for writing each number.\n",
      " |      * digits (integer) number of digits to use for writing a number.\n",
      " |      * format (string) write format can be EXPONENTIAL, FIXED, GENERAL, or\n",
      " |        SCIENTIFIC.\n",
      " |  saverecord : [rtype, ocsetting]\n",
      " |      * rtype (string) type of information to save or print. Can be BUDGET or\n",
      " |        HEAD.\n",
      " |      * ocsetting (keystring) specifies the steps for which the data will be\n",
      " |        saved.\n",
      " |          all : [keyword]\n",
      " |              * all (keyword) keyword to indicate save for all time steps in\n",
      " |                period.\n",
      " |          first : [keyword]\n",
      " |              * first (keyword) keyword to indicate save for first step in\n",
      " |                period. This keyword may be used in conjunction with other\n",
      " |                keywords to print or save results for multiple time steps.\n",
      " |          last : [keyword]\n",
      " |              * last (keyword) keyword to indicate save for last step in\n",
      " |                period. This keyword may be used in conjunction with other\n",
      " |                keywords to print or save results for multiple time steps.\n",
      " |          frequency : [integer]\n",
      " |              * frequency (integer) save at the specified time step\n",
      " |                frequency. This keyword may be used in conjunction with other\n",
      " |                keywords to print or save results for multiple time steps.\n",
      " |          steps : [integer]\n",
      " |              * steps (integer) save for each step specified in STEPS. This\n",
      " |                keyword may be used in conjunction with other keywords to\n",
      " |                print or save results for multiple time steps.\n",
      " |  printrecord : [rtype, ocsetting]\n",
      " |      * rtype (string) type of information to save or print. Can be BUDGET or\n",
      " |        HEAD.\n",
      " |      * ocsetting (keystring) specifies the steps for which the data will be\n",
      " |        saved.\n",
      " |          all : [keyword]\n",
      " |              * all (keyword) keyword to indicate save for all time steps in\n",
      " |                period.\n",
      " |          first : [keyword]\n",
      " |              * first (keyword) keyword to indicate save for first step in\n",
      " |                period. This keyword may be used in conjunction with other\n",
      " |                keywords to print or save results for multiple time steps.\n",
      " |          last : [keyword]\n",
      " |              * last (keyword) keyword to indicate save for last step in\n",
      " |                period. This keyword may be used in conjunction with other\n",
      " |                keywords to print or save results for multiple time steps.\n",
      " |          frequency : [integer]\n",
      " |              * frequency (integer) save at the specified time step\n",
      " |                frequency. This keyword may be used in conjunction with other\n",
      " |                keywords to print or save results for multiple time steps.\n",
      " |          steps : [integer]\n",
      " |              * steps (integer) save for each step specified in STEPS. This\n",
      " |                keyword may be used in conjunction with other keywords to\n",
      " |                print or save results for multiple time steps.\n",
      " |  filename : String\n",
      " |      File name for this package.\n",
      " |  pname : String\n",
      " |      Package name for this package.\n",
      " |  parent_file : MFPackage\n",
      " |      Parent package file that references this package. Only needed for\n",
      " |      utility packages (mfutl*). For example, mfutllaktab package must have\n",
      " |      a mfgwflak package parent_file.\n",
      " |  \n",
      " |  Method resolution order:\n",
      " |      ModflowGwfoc\n",
      " |      flopy.mf6.mfpackage.MFPackage\n",
      " |      flopy.mf6.mfbase.PackageContainer\n",
      " |      flopy.pakbase.PackageInterface\n",
      " |      builtins.object\n",
      " |  \n",
      " |  Methods defined here:\n",
      " |  \n",
      " |  __init__(self, model, loading_package=False, budget_filerecord=None, budgetcsv_filerecord=None, head_filerecord=None, headprintrecord=None, saverecord=None, printrecord=None, filename=None, pname=None, **kwargs)\n",
      " |      Initialize self.  See help(type(self)) for accurate signature.\n",
      " |  \n",
      " |  ----------------------------------------------------------------------\n",
      " |  Data and other attributes defined here:\n",
      " |  \n",
      " |  budget_filerecord = <flopy.mf6.data.mfdatautil.ListTemplateGenerator o...\n",
      " |  \n",
      " |  budgetcsv_filerecord = <flopy.mf6.data.mfdatautil.ListTemplateGenerato...\n",
      " |  \n",
      " |  dfn = [['header'], ['block options', 'name budget_filerecord', 'type r...\n",
      " |  \n",
      " |  dfn_file_name = 'gwf-oc.dfn'\n",
      " |  \n",
      " |  head_filerecord = <flopy.mf6.data.mfdatautil.ListTemplateGenerator obj...\n",
      " |  \n",
      " |  headprintrecord = <flopy.mf6.data.mfdatautil.ListTemplateGenerator obj...\n",
      " |  \n",
      " |  package_abbr = 'gwfoc'\n",
      " |  \n",
      " |  printrecord = <flopy.mf6.data.mfdatautil.ListTemplateGenerator object>\n",
      " |  \n",
      " |  saverecord = <flopy.mf6.data.mfdatautil.ListTemplateGenerator object>\n",
      " |  \n",
      " |  ----------------------------------------------------------------------\n",
      " |  Methods inherited from flopy.mf6.mfpackage.MFPackage:\n",
      " |  \n",
      " |  __repr__(self)\n",
      " |      Return repr(self).\n",
      " |  \n",
      " |  __setattr__(self, name, value)\n",
      " |      Implement setattr(self, name, value).\n",
      " |  \n",
      " |  __str__(self)\n",
      " |      Return str(self).\n",
      " |  \n",
      " |  build_child_package(self, pkg_type, data, parameter_name, filerecord)\n",
      " |      Builds a child package.  This method is only intended for FloPy\n",
      " |      internal use.\n",
      " |  \n",
      " |  build_child_packages_container(self, pkg_type, filerecord)\n",
      " |      Builds a container object for any child packages.  This method is\n",
      " |      only intended for FloPy internal use.\n",
      " |  \n",
      " |  build_mfdata(self, var_name, data=None)\n",
      " |      Returns the appropriate data type object (mfdatalist, mfdataarray,\n",
      " |      or mfdatascalar) given that object the appropriate structure (looked\n",
      " |      up based on var_name) and any data supplied.  This method is for\n",
      " |      internal FloPy library use only.\n",
      " |      \n",
      " |      Parameters\n",
      " |      ----------\n",
      " |      var_name : str\n",
      " |          Variable name\n",
      " |      \n",
      " |      data : many supported types\n",
      " |          Data contained in this object\n",
      " |      \n",
      " |      Returns\n",
      " |      -------\n",
      " |      data object : MFData subclass\n",
      " |  \n",
      " |  check(self, f=None, verbose=True, level=1, checktype=None)\n",
      " |      Data check, returns True on success.\n",
      " |  \n",
      " |  create_package_dimensions(self)\n",
      " |      Creates a package dimensions object.  For internal FloPy library\n",
      " |      use.\n",
      " |      \n",
      " |      Returns\n",
      " |      -------\n",
      " |      package dimensions : PackageDimensions\n",
      " |  \n",
      " |  export(self, f, **kwargs)\n",
      " |      Method to export a package to netcdf or shapefile based on the\n",
      " |      extension of the file name (.shp for shapefile, .nc for netcdf)\n",
      " |      \n",
      " |      Parameters\n",
      " |      ----------\n",
      " |      f : str\n",
      " |          Filename\n",
      " |      kwargs : keyword arguments\n",
      " |          modelgrid : flopy.discretization.Grid instance\n",
      " |              User supplied modelgrid which can be used for exporting\n",
      " |              in lieu of the modelgrid associated with the model object\n",
      " |      \n",
      " |      Returns\n",
      " |      -------\n",
      " |          None or Netcdf object\n",
      " |  \n",
      " |  get_file_path(self)\n",
      " |      Returns the package file's path.\n",
      " |      \n",
      " |      Returns\n",
      " |      -------\n",
      " |      file path : str\n",
      " |  \n",
      " |  inspect_cells(self, cell_list, stress_period=None)\n",
      " |      Inspect model cells.  Returns package data associated with cells.\n",
      " |      \n",
      " |      Parameters\n",
      " |      ----------\n",
      " |      cell_list : list of tuples\n",
      " |          List of model cells.  Each model cell is a tuple of integers.\n",
      " |          ex: [(1,1,1), (2,4,3)]\n",
      " |      stress_period : int\n",
      " |          For transient data, only return data from this stress period.  If\n",
      " |          not specified or None, all stress period data will be returned.\n",
      " |      \n",
      " |      Returns\n",
      " |      -------\n",
      " |      output : array\n",
      " |          Array containing inspection results\n",
      " |  \n",
      " |  is_valid(self)\n",
      " |      Returns whether or not this package is valid.\n",
      " |      \n",
      " |      Returns\n",
      " |      -------\n",
      " |      is valid : bool\n",
      " |  \n",
      " |  load(self, strict=True)\n",
      " |      Loads the package from file.\n",
      " |      \n",
      " |      Parameters\n",
      " |      ----------\n",
      " |      strict : bool\n",
      " |          Enforce strict checking of data.\n",
      " |      \n",
      " |      Returns\n",
      " |      -------\n",
      " |      success : bool\n",
      " |  \n",
      " |  plot(self, **kwargs)\n",
      " |      Plot 2-D, 3-D, transient 2-D, and stress period list (MfList)\n",
      " |      package input data\n",
      " |      \n",
      " |      Parameters\n",
      " |      ----------\n",
      " |      **kwargs : dict\n",
      " |          filename_base : str\n",
      " |              Base file name that will be used to automatically generate\n",
      " |              file names for output image files. Plots will be exported as\n",
      " |              image files if file_name_base is not None. (default is None)\n",
      " |          file_extension : str\n",
      " |              Valid matplotlib.pyplot file extension for savefig(). Only\n",
      " |              used if filename_base is not None. (default is 'png')\n",
      " |          mflay : int\n",
      " |              MODFLOW zero-based layer number to return.  If None, then all\n",
      " |              all layers will be included. (default is None)\n",
      " |          kper : int\n",
      " |              MODFLOW zero-based stress period number to return. (default is\n",
      " |              zero)\n",
      " |          key : str\n",
      " |              MfList dictionary key. (default is None)\n",
      " |      \n",
      " |      Returns\n",
      " |      ----------\n",
      " |      axes : list\n",
      " |          Empty list is returned if filename_base is not None. Otherwise\n",
      " |          a list of matplotlib.pyplot.axis are returned.\n",
      " |  \n",
      " |  remove(self)\n",
      " |      Removes this package from the simulation/model it is currently a\n",
      " |      part of.\n",
      " |  \n",
      " |  set_all_data_external(self, check_data=True, external_data_folder=None)\n",
      " |      Sets the package's list and array data to be stored externally.\n",
      " |      \n",
      " |      Parameters\n",
      " |      ----------\n",
      " |          check_data : bool\n",
      " |              Determine if data error checking is enabled\n",
      " |          external_data_folder\n",
      " |              Folder where external data will be stored\n",
      " |  \n",
      " |  set_all_data_internal(self, check_data=True)\n",
      " |      Sets the package's list and array data to be stored internally.\n",
      " |      \n",
      " |      Parameters\n",
      " |      ----------\n",
      " |          check_data : bool\n",
      " |              Determine if data error checking is enabled\n",
      " |  \n",
      " |  set_model_relative_path(self, model_ws)\n",
      " |      Sets the model path relative to the simulation's path.\n",
      " |      \n",
      " |      Parameters\n",
      " |      ----------\n",
      " |      model_ws : str\n",
      " |          Model path relative to the simulation's path.\n",
      " |  \n",
      " |  write(self, ext_file_action=<ExtFileAction.copy_relative_paths: 3>)\n",
      " |      Writes the package to a file.\n",
      " |      \n",
      " |      Parameters\n",
      " |      ----------\n",
      " |      ext_file_action : ExtFileAction\n",
      " |          How to handle pathing of external data files.\n",
      " |  \n",
      " |  ----------------------------------------------------------------------\n",
      " |  Class methods inherited from flopy.mf6.mfpackage.MFPackage:\n",
      " |  \n",
      " |  __init_subclass__() from builtins.type\n",
      " |      Register package type\n",
      " |  \n",
      " |  ----------------------------------------------------------------------\n",
      " |  Readonly properties inherited from flopy.mf6.mfpackage.MFPackage:\n",
      " |  \n",
      " |  data_list\n",
      " |      List of data in this package.\n",
      " |  \n",
      " |  output\n",
      " |      Method to get output associated with a specific package\n",
      " |      \n",
      " |      Returns\n",
      " |      -------\n",
      " |          MF6Output object\n",
      " |  \n",
      " |  package_type\n",
      " |      String describing type of package\n",
      " |  \n",
      " |  plottable\n",
      " |      If package is plottable\n",
      " |  \n",
      " |  quoted_filename\n",
      " |      Package's file name with quotes if there is a space.\n",
      " |  \n",
      " |  ----------------------------------------------------------------------\n",
      " |  Data descriptors inherited from flopy.mf6.mfpackage.MFPackage:\n",
      " |  \n",
      " |  filename\n",
      " |      Package's file name.\n",
      " |  \n",
      " |  name\n",
      " |      Name of package\n",
      " |  \n",
      " |  parent\n",
      " |      Parent package\n",
      " |  \n",
      " |  ----------------------------------------------------------------------\n",
      " |  Methods inherited from flopy.mf6.mfbase.PackageContainer:\n",
      " |  \n",
      " |  get_package(self, name=None)\n",
      " |      Finds a package by package name, package key, package type, or partial\n",
      " |      package name. returns either a single package, a list of packages,\n",
      " |      or None.\n",
      " |      \n",
      " |      Parameters\n",
      " |      ----------\n",
      " |      name : str\n",
      " |          Name of the package, 'RIV', 'LPF', etc.\n",
      " |      \n",
      " |      Returns\n",
      " |      -------\n",
      " |      pp : Package object\n",
      " |  \n",
      " |  register_package(self, package)\n",
      " |      Base method for registering a package.  Should be overridden.\n",
      " |  \n",
      " |  ----------------------------------------------------------------------\n",
      " |  Static methods inherited from flopy.mf6.mfbase.PackageContainer:\n",
      " |  \n",
      " |  get_module_val(module, item, attrb)\n",
      " |      Static method that returns a python class module value.  For\n",
      " |      internal FloPy use only, not intended for end users.\n",
      " |  \n",
      " |  model_factory(model_type)\n",
      " |      Static method that returns the appropriate model type object based\n",
      " |      on the model_type string. For internal FloPy use only, not intended\n",
      " |      for end users.\n",
      " |      \n",
      " |      Parameters\n",
      " |      ----------\n",
      " |          model_type : str\n",
      " |              Type of model that package is a part of\n",
      " |      \n",
      " |      Returns\n",
      " |      -------\n",
      " |          model : MFModel subclass\n",
      " |  \n",
      " |  package_factory(package_type: str, model_type: str)\n",
      " |      Static method that returns the appropriate package type object based\n",
      " |      on the package_type and model_type strings.  For internal FloPy use\n",
      " |      only, not intended for end users.\n",
      " |      \n",
      " |      Parameters\n",
      " |      ----------\n",
      " |          package_type : str\n",
      " |              Type of package to create\n",
      " |          model_type : str\n",
      " |              Type of model that package is a part of\n",
      " |      \n",
      " |      Returns\n",
      " |      -------\n",
      " |          package : MFPackage subclass\n",
      " |  \n",
      " |  package_list()\n",
      " |      Static method that returns the list of available packages.\n",
      " |      For internal FloPy use only, not intended for end users.\n",
      " |      \n",
      " |      Returns a list of MFPackage subclasses\n",
      " |  \n",
      " |  ----------------------------------------------------------------------\n",
      " |  Readonly properties inherited from flopy.mf6.mfbase.PackageContainer:\n",
      " |  \n",
      " |  package_dict\n",
      " |      Returns a copy of the package name dictionary.\n",
      " |  \n",
      " |  package_key_dict\n",
      " |  \n",
      " |  package_names\n",
      " |      Returns a list of package names.\n",
      " |  \n",
      " |  ----------------------------------------------------------------------\n",
      " |  Data descriptors inherited from flopy.mf6.mfbase.PackageContainer:\n",
      " |  \n",
      " |  __dict__\n",
      " |      dictionary for instance variables (if defined)\n",
      " |  \n",
      " |  __weakref__\n",
      " |      list of weak references to the object (if defined)\n",
      " |  \n",
      " |  ----------------------------------------------------------------------\n",
      " |  Data and other attributes inherited from flopy.mf6.mfbase.PackageContainer:\n",
      " |  \n",
      " |  models_by_type = {'gwf': <class 'flopy.mf6.modflow.mfgwf.ModflowGwf'>,...\n",
      " |  \n",
      " |  modflow_models = [<class 'flopy.mf6.modflow.mfgwf.ModflowGwf'>, <class...\n",
      " |  \n",
      " |  modflow_packages = [<class 'flopy.mf6.modflow.mfgwfgnc.ModflowGwfgnc'>...\n",
      " |  \n",
      " |  packages_by_abbr = {'gnc': <class 'flopy.mf6.modflow.mfgnc.ModflowGnc'...\n",
      " |  \n",
      " |  ----------------------------------------------------------------------\n",
      " |  Readonly properties inherited from flopy.pakbase.PackageInterface:\n",
      " |  \n",
      " |  has_stress_period_data\n",
      "\n"
     ]
    }
   ],
   "source": [
    "# Note that help can always be found for a package\n",
    "# using either forms of the following syntax\n",
    "help(oc)\n",
    "# help(flopy.mf6.modflow.mfgwfoc.ModflowGwfoc)"
   ]
  },
  {
   "cell_type": "markdown",
   "metadata": {},
   "source": [
    "### Create the MODFLOW 6 Input Files and Run the Model\n",
    "\n",
    "Once all the flopy objects are created, it is very easy to create all of the input files and run the model."
   ]
  },
  {
   "cell_type": "code",
   "execution_count": 13,
   "metadata": {
    "execution": {
     "iopub.execute_input": "2022-12-15T13:11:10.319529Z",
     "iopub.status.busy": "2022-12-15T13:11:10.318813Z",
     "iopub.status.idle": "2022-12-15T13:11:10.991776Z",
     "shell.execute_reply": "2022-12-15T13:11:10.990616Z"
    }
   },
   "outputs": [
    {
     "name": "stdout",
     "output_type": "stream",
     "text": [
      "writing simulation...\n",
      "  writing simulation name file...\n",
      "  writing simulation tdis package...\n",
      "  writing ims package ims...\n",
      "  writing model mf6lake...\n",
      "    writing model name file...\n",
      "    writing package dis...\n",
      "    writing package ic...\n",
      "    writing package npf...\n",
      "    writing package chd...\n",
      "    writing package oc...\n"
     ]
    }
   ],
   "source": [
    "# Write the datasets\n",
    "sim.write_simulation()"
   ]
  },
  {
   "cell_type": "code",
   "execution_count": 14,
   "metadata": {
    "execution": {
     "iopub.execute_input": "2022-12-15T13:11:10.996929Z",
     "iopub.status.busy": "2022-12-15T13:11:10.995999Z",
     "iopub.status.idle": "2022-12-15T13:11:11.001516Z",
     "shell.execute_reply": "2022-12-15T13:11:11.000378Z"
    }
   },
   "outputs": [
    {
     "name": "stdout",
     "output_type": "stream",
     "text": [
      "['mf6lake.chd', 'mf6lake.dis', 'mf6lake.ic', 'mf6lake.ims', 'mf6lake.nam', 'mf6lake.npf', 'mf6lake.oc', 'mf6lake.tdis', 'mfsim.nam']\n"
     ]
    }
   ],
   "source": [
    "# Print a list of the files that were created\n",
    "# in workspace\n",
    "print(os.listdir(workspace))"
   ]
  },
  {
   "cell_type": "markdown",
   "metadata": {},
   "source": [
    "### Run the Simulation\n",
    "\n",
    "We can also run the simulation from the notebook, but only if the MODFLOW 6 executable is available.  The executable can be made available by putting the executable in a folder that is listed in the system path variable.  Another option is to just put a copy of the executable in the simulation folder, though this should generally be avoided.  A final option is to provide a full path to the executable when the simulation is constructed.  This would be done by specifying exe_name with the full path."
   ]
  },
  {
   "cell_type": "code",
   "execution_count": 15,
   "metadata": {
    "execution": {
     "iopub.execute_input": "2022-12-15T13:11:11.006470Z",
     "iopub.status.busy": "2022-12-15T13:11:11.006198Z",
     "iopub.status.idle": "2022-12-15T13:11:11.576905Z",
     "shell.execute_reply": "2022-12-15T13:11:11.575620Z"
    }
   },
   "outputs": [
    {
     "name": "stdout",
     "output_type": "stream",
     "text": [
      "FloPy is using the following executable to run the model: ..\\..\\..\\..\\flopy\\bin\\mf6.EXE\n",
      "                                   MODFLOW 6\n",
      "                U.S. GEOLOGICAL SURVEY MODULAR HYDROLOGIC MODEL\n",
      "                        VERSION 6.4.1 Release 12/09/2022\n",
      "\n",
      "   MODFLOW 6 compiled Dec 10 2022 05:57:01 with Intel(R) Fortran Intel(R) 64\n",
      "   Compiler Classic for applications running on Intel(R) 64, Version 2021.7.0\n",
      "                             Build 20220726_000000\n",
      "\n",
      "This software has been approved for release by the U.S. Geological \n",
      "Survey (USGS). Although the software has been subjected to rigorous \n",
      "review, the USGS reserves the right to update the software as needed \n",
      "pursuant to further analysis and review. No warranty, expressed or \n",
      "implied, is made by the USGS or the U.S. Government as to the \n",
      "functionality of the software and related material nor shall the \n",
      "fact of release constitute any such warranty. Furthermore, the \n",
      "software is released on condition that neither the USGS nor the U.S. \n",
      "Government shall be held liable for any damages resulting from its \n",
      "authorized or unauthorized use. Also refer to the USGS Water \n",
      "Resources Software User Rights Notice for complete use, copyright, \n",
      "and distribution information.\n",
      "\n",
      " \n",
      " Run start date and time (yyyy/mm/dd hh:mm:ss): 2023/02/07 12:54:44\n",
      " \n",
      " Writing simulation list file: mfsim.lst\n",
      " Using Simulation name file: mfsim.nam\n",
      " \n",
      "    Solving:  Stress period:     1    Time step:     1\n",
      " \n",
      " Run end date and time (yyyy/mm/dd hh:mm:ss): 2023/02/07 12:54:45\n",
      " Elapsed run time:  0.475 Seconds\n",
      " \n",
      " Normal termination of simulation.\n",
      "\n",
      "Success is:  True\n"
     ]
    }
   ],
   "source": [
    "# Run the simulation\n",
    "success, buff = sim.run_simulation()\n",
    "print(\"\\nSuccess is: \", success)"
   ]
  },
  {
   "cell_type": "markdown",
   "metadata": {},
   "source": [
    "### Post-Process Head Results\n",
    "\n",
    "Post-processing MODFLOW 6 results is still a work in progress.  There aren't any Flopy plotting functions built in yet, like they are for other MODFLOW versions.  So we need to plot the results using general Flopy capabilities.  We can also use some of the Flopy ModelMap capabilities for MODFLOW 6, but in order to do so, we need to manually create a SpatialReference object, that is needed for the plotting.  Examples of both approaches are shown below.\n",
    "\n",
    "First, a link to the heads file is created with `HeadFile`. The link can then be accessed with the `get_data` function, by specifying, in this case, the step number and period number for which we want to retrieve data. A three-dimensional array is returned of size `nlay, nrow, ncol`. Matplotlib contouring functions are used to make contours of the layers or a cross-section."
   ]
  },
  {
   "cell_type": "code",
   "execution_count": 16,
   "metadata": {
    "execution": {
     "iopub.execute_input": "2022-12-15T13:11:11.582316Z",
     "iopub.status.busy": "2022-12-15T13:11:11.581655Z",
     "iopub.status.idle": "2022-12-15T13:11:11.961283Z",
     "shell.execute_reply": "2022-12-15T13:11:11.960307Z"
    }
   },
   "outputs": [
    {
     "data": {
      "image/png": "[encoded data removed]",
      "text/plain": [
       "<Figure size 432x288 with 1 Axes>"
      ]
     },
     "metadata": {
      "needs_background": "light"
     },
     "output_type": "display_data"
    }
   ],
   "source": [
    "# Read the binary head file and plot the results\n",
    "# We can use the existing Flopy HeadFile class because\n",
    "# the format of the headfile for MODFLOW 6 is the same\n",
    "# as for previous MODFLOW verions\n",
    "fname = os.path.join(workspace, headfile)\n",
    "hds = flopy.utils.binaryfile.HeadFile(fname)\n",
    "h = hds.get_data(kstpkper=(0, 0))\n",
    "x = y = np.linspace(0, L, N)\n",
    "y = y[::-1]\n",
    "c = plt.contour(x, y, h[0], np.arange(90, 100.1, 0.2))\n",
    "plt.clabel(c, fmt=\"%2.1f\")\n",
    "plt.axis(\"scaled\");"
   ]
  },
  {
   "cell_type": "code",
   "execution_count": 17,
   "metadata": {
    "execution": {
     "iopub.execute_input": "2022-12-15T13:11:11.965563Z",
     "iopub.status.busy": "2022-12-15T13:11:11.965103Z",
     "iopub.status.idle": "2022-12-15T13:11:12.299670Z",
     "shell.execute_reply": "2022-12-15T13:11:12.298193Z"
    }
   },
   "outputs": [
    {
     "data": {
      "image/png": "[encoded data removed]",
      "text/plain": [
       "<Figure size 432x288 with 1 Axes>"
      ]
     },
     "metadata": {
      "needs_background": "light"
     },
     "output_type": "display_data"
    }
   ],
   "source": [
    "x = y = np.linspace(0, L, N)\n",
    "y = y[::-1]\n",
    "c = plt.contour(x, y, h[-1], np.arange(90, 100.1, 0.2))\n",
    "plt.clabel(c, fmt=\"%1.1f\")\n",
    "plt.axis(\"scaled\");"
   ]
  },
  {
   "cell_type": "code",
   "execution_count": 18,
   "metadata": {
    "execution": {
     "iopub.execute_input": "2022-12-15T13:11:12.304711Z",
     "iopub.status.busy": "2022-12-15T13:11:12.304290Z",
     "iopub.status.idle": "2022-12-15T13:11:12.545624Z",
     "shell.execute_reply": "2022-12-15T13:11:12.544717Z"
    },
    "scrolled": true
   },
   "outputs": [
    {
     "data": {
      "image/png": "[encoded data removed]",
      "text/plain": [
       "<Figure size 432x288 with 1 Axes>"
      ]
     },
     "metadata": {
      "needs_background": "light"
     },
     "output_type": "display_data"
    }
   ],
   "source": [
    "z = np.linspace(-H / Nlay / 2, -H + H / Nlay / 2, Nlay)\n",
    "c = plt.contour(x, z, h[:, 50, :], np.arange(90, 100.1, 0.2))\n",
    "plt.axis(\"scaled\");"
   ]
  },
  {
   "cell_type": "code",
   "execution_count": 19,
   "metadata": {
    "execution": {
     "iopub.execute_input": "2022-12-15T13:11:12.549770Z",
     "iopub.status.busy": "2022-12-15T13:11:12.548813Z",
     "iopub.status.idle": "2022-12-15T13:11:12.961986Z",
     "shell.execute_reply": "2022-12-15T13:11:12.960897Z"
    }
   },
   "outputs": [
    {
     "data": {
      "image/png": "[encoded data removed]",
      "text/plain": [
       "<Figure size 720x720 with 1 Axes>"
      ]
     },
     "metadata": {
      "needs_background": "light"
     },
     "output_type": "display_data"
    }
   ],
   "source": [
    "# We can also use the Flopy PlotMapView capabilities for MODFLOW 6\n",
    "fig = plt.figure(figsize=(10, 10))\n",
    "ax = fig.add_subplot(1, 1, 1, aspect=\"equal\")\n",
    "modelmap = flopy.plot.PlotMapView(model=gwf, ax=ax)\n",
    "\n",
    "# Then we can use the plot_grid() method to draw the grid\n",
    "# The return value for this function is a matplotlib LineCollection object,\n",
    "# which could be manipulated (or used) later if necessary.\n",
    "quadmesh = modelmap.plot_ibound(ibound=ibd)\n",
    "linecollection = modelmap.plot_grid()\n",
    "contours = modelmap.contour_array(h[0], levels=np.arange(90, 100.1, 0.2))"
   ]
  },
  {
   "cell_type": "code",
   "execution_count": 20,
   "metadata": {
    "execution": {
     "iopub.execute_input": "2022-12-15T13:11:12.966333Z",
     "iopub.status.busy": "2022-12-15T13:11:12.966016Z",
     "iopub.status.idle": "2022-12-15T13:11:13.417790Z",
     "shell.execute_reply": "2022-12-15T13:11:13.416917Z"
    }
   },
   "outputs": [
    {
     "data": {
      "image/png": "[encoded data removed]",
      "text/plain": [
       "<Figure size 720x720 with 2 Axes>"
      ]
     },
     "metadata": {
      "needs_background": "light"
     },
     "output_type": "display_data"
    }
   ],
   "source": [
    "# We can also use the Flopy PlotMapView capabilities for MODFLOW 6\n",
    "fig = plt.figure(figsize=(10, 10))\n",
    "ax = fig.add_subplot(1, 1, 1, aspect=\"equal\")\n",
    "\n",
    "# Next we create an instance of the ModelMap class\n",
    "modelmap = flopy.plot.PlotMapView(model=gwf, ax=ax)\n",
    "\n",
    "# Then we can use the plot_grid() method to draw the grid\n",
    "# The return value for this function is a matplotlib LineCollection object,\n",
    "# which could be manipulated (or used) later if necessary.\n",
    "quadmesh = modelmap.plot_ibound(ibound=ibd)\n",
    "linecollection = modelmap.plot_grid()\n",
    "pa = modelmap.plot_array(h[0])\n",
    "cb = plt.colorbar(pa, shrink=0.5)"
   ]
  },
  {
   "cell_type": "markdown",
   "metadata": {},
   "source": [
    "### Post-Process Flows\n",
    "\n",
    "MODFLOW 6 writes a binary grid file, which contains information about the model grid.  MODFLOW 6 also writes a binary budget file, which contains flow information.  Both of these files can be read using Flopy capabilities.  The MfGrdFile class in Flopy can be used to read the binary grid file.  The CellBudgetFile class in Flopy can be used to read the binary budget file written by MODFLOW 6."
   ]
  },
  {
   "cell_type": "code",
   "execution_count": 21,
   "metadata": {
    "execution": {
     "iopub.execute_input": "2022-12-15T13:11:13.421720Z",
     "iopub.status.busy": "2022-12-15T13:11:13.421407Z",
     "iopub.status.idle": "2022-12-15T13:11:13.435281Z",
     "shell.execute_reply": "2022-12-15T13:11:13.434243Z"
    }
   },
   "outputs": [
    {
     "data": {
      "text/plain": [
       "{'NCELLS': 102010,\n",
       " 'NLAY': 10,\n",
       " 'NROW': 101,\n",
       " 'NCOL': 101,\n",
       " 'NJA': 689628,\n",
       " 'XORIGIN': 0.0,\n",
       " 'YORIGIN': 0.0,\n",
       " 'ANGROT': 0.0,\n",
       " 'DELR': array([4., 4., 4., 4., 4., 4., 4., 4., 4., 4., 4., 4., 4., 4., 4., 4., 4.,\n",
       "        4., 4., 4., 4., 4., 4., 4., 4., 4., 4., 4., 4., 4., 4., 4., 4., 4.,\n",
       "        4., 4., 4., 4., 4., 4., 4., 4., 4., 4., 4., 4., 4., 4., 4., 4., 4.,\n",
       "        4., 4., 4., 4., 4., 4., 4., 4., 4., 4., 4., 4., 4., 4., 4., 4., 4.,\n",
       "        4., 4., 4., 4., 4., 4., 4., 4., 4., 4., 4., 4., 4., 4., 4., 4., 4.,\n",
       "        4., 4., 4., 4., 4., 4., 4., 4., 4., 4., 4., 4., 4., 4., 4., 4.]),\n",
       " 'DELC': array([4., 4., 4., 4., 4., 4., 4., 4., 4., 4., 4., 4., 4., 4., 4., 4., 4.,\n",
       "        4., 4., 4., 4., 4., 4., 4., 4., 4., 4., 4., 4., 4., 4., 4., 4., 4.,\n",
       "        4., 4., 4., 4., 4., 4., 4., 4., 4., 4., 4., 4., 4., 4., 4., 4., 4.,\n",
       "        4., 4., 4., 4., 4., 4., 4., 4., 4., 4., 4., 4., 4., 4., 4., 4., 4.,\n",
       "        4., 4., 4., 4., 4., 4., 4., 4., 4., 4., 4., 4., 4., 4., 4., 4., 4.,\n",
       "        4., 4., 4., 4., 4., 4., 4., 4., 4., 4., 4., 4., 4., 4., 4., 4.]),\n",
       " 'TOP': array([0., 0., 0., ..., 0., 0., 0.]),\n",
       " 'BOTM': array([ -5.,  -5.,  -5., ..., -50., -50., -50.]),\n",
       " 'IA': array([     1,      5,     10, ..., 689620, 689625, 689629]),\n",
       " 'JA': array([     1,      2,    102, ...,  91809, 101909, 102009]),\n",
       " 'IDOMAIN': array([1, 1, 1, ..., 1, 1, 1]),\n",
       " 'ICELLTYPE': array([1, 1, 1, ..., 1, 1, 1])}"
      ]
     },
     "execution_count": 21,
     "metadata": {},
     "output_type": "execute_result"
    }
   ],
   "source": [
    "# read the binary grid file\n",
    "fname = os.path.join(workspace, \"{}.dis.grb\".format(name))\n",
    "bgf = flopy.mf6.utils.MfGrdFile(fname)\n",
    "\n",
    "# data read from the binary grid file is stored in a dictionary\n",
    "bgf._datadict"
   ]
  },
  {
   "cell_type": "code",
   "execution_count": 22,
   "metadata": {
    "execution": {
     "iopub.execute_input": "2022-12-15T13:11:13.438971Z",
     "iopub.status.busy": "2022-12-15T13:11:13.438693Z",
     "iopub.status.idle": "2022-12-15T13:11:13.451401Z",
     "shell.execute_reply": "2022-12-15T13:11:13.450456Z"
    }
   },
   "outputs": [
    {
     "name": "stdout",
     "output_type": "stream",
     "text": [
      "(1, 1, b'    FLOW-JA-FACE', 689628, 1, -1, 1, 1., 1., 1., b'', b'', b'', b'')\n",
      "(1, 1, b'             CHD', 101, 101, -10, 6, 1., 1., 1., b'MF6LAKE         ', b'MF6LAKE         ', b'MF6LAKE         ', b'CHD             ')\n"
     ]
    }
   ],
   "source": [
    "# read the cell budget file\n",
    "fname = os.path.join(workspace, \"{}.cbb\".format(name))\n",
    "cbb = flopy.utils.CellBudgetFile(fname, precision=\"double\")\n",
    "cbb.list_records()\n",
    "\n",
    "flowja = cbb.get_data(text=\"FLOW-JA-FACE\")[0][0, 0, :]\n",
    "chdflow = cbb.get_data(text=\"CHD\")[0]"
   ]
  },
  {
   "cell_type": "code",
   "execution_count": 23,
   "metadata": {
    "execution": {
     "iopub.execute_input": "2022-12-15T13:11:13.454921Z",
     "iopub.status.busy": "2022-12-15T13:11:13.454650Z",
     "iopub.status.idle": "2022-12-15T13:11:13.461820Z",
     "shell.execute_reply": "2022-12-15T13:11:13.460826Z"
    }
   },
   "outputs": [
    {
     "name": "stdout",
     "output_type": "stream",
     "text": [
      "Printing flows for cell 56105\n",
      "Cell 56105 flow with cell 45904 is -0.0002858449337963975\n",
      "Cell 56105 flow with cell 56004 is -0.025019694309449392\n",
      "Cell 56105 flow with cell 56104 is -0.025019694309449392\n",
      "Cell 56105 flow with cell 56106 is 0.025058524820593675\n",
      "Cell 56105 flow with cell 56206 is 0.02505852482066473\n",
      "Cell 56105 flow with cell 66306 is 0.00033448625827077195\n"
     ]
    }
   ],
   "source": [
    "# By having the ia and ja arrays and the flow-ja-face we can look at\n",
    "# the flows for any cell and process them in the follow manner.\n",
    "k = 5\n",
    "i = 50\n",
    "j = 50\n",
    "celln = k * N * N + i * N + j\n",
    "ia, ja = bgf.ia, bgf.ja\n",
    "print(\"Printing flows for cell {}\".format(celln))\n",
    "for ipos in range(ia[celln] + 1, ia[celln + 1]):\n",
    "    cellm = ja[ipos]\n",
    "    print(\"Cell {} flow with cell {} is {}\".format(celln, cellm, flowja[ipos]))"
   ]
  },
  {
   "cell_type": "code",
   "execution_count": 24,
   "metadata": {
    "execution": {
     "iopub.execute_input": "2022-12-15T13:11:13.466558Z",
     "iopub.status.busy": "2022-12-15T13:11:13.466205Z",
     "iopub.status.idle": "2022-12-15T13:11:13.473037Z",
     "shell.execute_reply": "2022-12-15T13:11:13.471919Z"
    }
   },
   "outputs": [],
   "source": [
    "try:\n",
    "    # ignore PermissionError on Windows\n",
    "    temp_dir.cleanup()\n",
    "except:\n",
    "    pass"
   ]
  }
 ],
 "metadata": {
  "kernelspec": {
   "display_name": "Python 3 (ipykernel)",
   "language": "python",
   "name": "python3"
  },
  "language_info": {
   "codemirror_mode": {
    "name": "ipython",
    "version": 3
   },
   "file_extension": ".py",
   "mimetype": "text/x-python",
   "name": "python",
   "nbconvert_exporter": "python",
   "pygments_lexer": "ipython3",
   "version": "3.9.12"
  }
 },
 "nbformat": 4,
 "nbformat_minor": 4
}
