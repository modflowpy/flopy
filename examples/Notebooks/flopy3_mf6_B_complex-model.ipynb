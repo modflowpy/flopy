{
 "cells": [
  {
   "cell_type": "markdown",
   "metadata": {},
   "source": [
    "# FloPy\n",
    "\n",
    "## Creating a Complex MODFLOW 6 Model with Flopy\n",
    "\n",
    "The purpose of this notebook is to demonstrate the Flopy capabilities for building a more complex MODFLOW 6 model from scratch.  This notebook will demonstrate the capabilities by replicating the advgw_tidal model that is distributed with MODFLOW 6."
   ]
  },
  {
   "cell_type": "markdown",
   "metadata": {},
   "source": [
    "### Setup the Notebook Environment"
   ]
  },
  {
   "cell_type": "code",
   "execution_count": null,
   "metadata": {
    "collapsed": false
   },
   "outputs": [],
   "source": [
    "%matplotlib inline\n",
    "import sys\n",
    "import os\n",
    "import platform\n",
    "import numpy as np\n",
    "import matplotlib as mpl\n",
    "import matplotlib.pyplot as plt\n",
    "\n",
    "# run installed version of flopy or add local path\n",
    "try:\n",
    "    import flopy\n",
    "except:\n",
    "    fpth = os.path.abspath(os.path.join('..', '..'))\n",
    "    sys.path.append(fpth)\n",
    "    import flopy\n",
    "\n",
    "print(sys.version)\n",
    "print('numpy version: {}'.format(np.__version__))\n",
    "print('matplotlib version: {}'.format(mpl.__version__))\n",
    "print('flopy version: {}'.format(flopy.__version__))"
   ]
  },
  {
   "cell_type": "code",
   "execution_count": null,
   "metadata": {
    "collapsed": true
   },
   "outputs": [],
   "source": [
    "# For this example, we will set up a model workspace.\n",
    "# Model input files and output files will reside here.\n",
    "model_name = 'advgw_tidal'\n",
    "workspace = os.path.join('data', model_name)\n",
    "if not os.path.exists(workspace):\n",
    "    os.makedirs(workspace)"
   ]
  },
  {
   "cell_type": "code",
   "execution_count": null,
   "metadata": {
    "collapsed": true
   },
   "outputs": [],
   "source": [
    "data_pth = os.path.join('..', 'data', 'mf6', 'create_tests', \n",
    "                        'test005_advgw_tidal')\n",
    "assert os.path.isdir(data_pth)"
   ]
  },
  {
   "cell_type": "code",
   "execution_count": null,
   "metadata": {
    "collapsed": false
   },
   "outputs": [],
   "source": [
    "# create simulation\n",
    "sim = flopy.mf6.MFSimulation(sim_name=model_name, version='mf6', exe_name='mf6', \n",
    "                             sim_ws=workspace)\n",
    "\n",
    "# create tdis package\n",
    "tdis_rc = [(1.0, 1, 1.0), (10.0, 120, 1.0), \n",
    "           (10.0, 120, 1.0), (10.0, 120, 1.0)]\n",
    "tdis = flopy.mf6.ModflowTdis(sim, pname='tdis', time_units='DAYS', \n",
    "                             nper=4, perioddata=tdis_rc)\n",
    "\n",
    "# create gwf model\n",
    "gwf = flopy.mf6.ModflowGwf(sim, modelname=model_name,\n",
    "                           model_nam_file='{}.nam'.format(model_name))\n",
    "gwf.name_file.save_flows = True\n",
    "\n",
    "# create iterative model solution and register the gwf model with it\n",
    "ims = flopy.mf6.ModflowIms(sim, pname='ims', print_option='SUMMARY', \n",
    "                           complexity='SIMPLE', outer_hclose=0.0001, \n",
    "                           outer_maximum=500, under_relaxation='NONE', \n",
    "                           inner_maximum=100, inner_hclose=0.0001, \n",
    "                           rcloserecord=0.001, linear_acceleration='CG', \n",
    "                           scaling_method='NONE', reordering_method='NONE', \n",
    "                           relaxation_factor=0.97)\n",
    "sim.register_ims_package(ims, [gwf.name])"
   ]
  },
  {
   "cell_type": "code",
   "execution_count": null,
   "metadata": {
    "collapsed": false
   },
   "outputs": [],
   "source": [
    "# discretization package\n",
    "nlay = 3\n",
    "nrow = 15\n",
    "ncol = 10\n",
    "botlay2 = {'factor':1.0, 'data': [-100 for x in range(150)]}\n",
    "dis = flopy.mf6.ModflowGwfdis(gwf, pname='dis', nlay=nlay, nrow=nrow, ncol=ncol, \n",
    "                              delr=500.0, delc=500.0, top=50.0, \n",
    "                              botm=[5.0, -10.0, botlay2], \n",
    "                              fname='{}.dis'.format(model_name))\n",
    "\n",
    "# initial conditions\n",
    "ic = flopy.mf6.ModflowGwfic(gwf, pname='ic', strt=50.0,\n",
    "                            fname='{}.ic'.format(model_name))\n",
    "\n",
    "# node property flow\n",
    "npf = flopy.mf6.ModflowGwfnpf(gwf, pname='npf', save_flows=True, \n",
    "                              icelltype=[1,0,0], \n",
    "                              k=[5.0, 0.1, 4.0],\n",
    "                              k33=[0.5, 0.005, 0.1])\n",
    "\n",
    "# output control\n",
    "oc = flopy.mf6.ModflowGwfoc(gwf, pname='oc', budget_filerecord='{}.cbb'.format(model_name),\n",
    "                            head_filerecord='{}.hds'.format(model_name),\n",
    "                            headprintrecord=[('COLUMNS', 10, 'WIDTH', 15,\n",
    "                                              'DIGITS', 6, 'GENERAL')],\n",
    "                            saverecord=[('HEAD', 'ALL'), ('BUDGET', 'ALL')],\n",
    "                            printrecord=[('HEAD', 'FIRST'), ('HEAD', 'LAST'), \n",
    "                                         ('BUDGET', 'LAST')])"
   ]
  },
  {
   "cell_type": "code",
   "execution_count": null,
   "metadata": {
    "collapsed": false
   },
   "outputs": [],
   "source": [
    "# storage package\n",
    "sy = flopy.mf6.ModflowGwfsto.sy.empty(gwf, layered=True)\n",
    "for layer in range(0,3):\n",
    "    sy[layer]['data'] = 0.2\n",
    "    \n",
    "ss = flopy.mf6.ModflowGwfsto.ss.empty(gwf, layered=True, default_value=0.000001)\n",
    "\n",
    "sto = flopy.mf6.ModflowGwfsto(gwf, pname='sto', save_flows=True, iconvert=1, \n",
    "                              ss=ss, sy=sy, steady_state={0:True},\n",
    "                              transient={1:True})"
   ]
  },
  {
   "cell_type": "code",
   "execution_count": null,
   "metadata": {
    "collapsed": false
   },
   "outputs": [],
   "source": [
    "# well package\n",
    "# test empty with aux vars, bound names, and time series\n",
    "period_two = flopy.mf6.ModflowGwfwel.stress_period_data.empty(gwf, maxbound=3, aux_vars=['var1', 'var2', 'var3'],\n",
    "                                                         boundnames=True, timeseries=True)\n",
    "period_two[0][0] = ((0,11,2), -50.0, -1, -2, -3, None)\n",
    "period_two[0][1] = ((2,4,7), 'well_1_rate', 1, 2, 3, 'well_1')\n",
    "period_two[0][2] = ((2,3,2), 'well_2_rate', 4, 5, 6, 'well_2')\n",
    "period_three = flopy.mf6.ModflowGwfwel.stress_period_data.empty(gwf, maxbound=2, aux_vars=['var1', 'var2', 'var3'],\n",
    "                                                           boundnames=True, timeseries=True)\n",
    "period_three[0][0] = ((2,3,2), 'well_2_rate', 1, 2, 3, 'well_2')\n",
    "period_three[0][1] = ((2,4,7), 'well_1_rate', 4, 5, 6, 'well_1')\n",
    "period_four = flopy.mf6.ModflowGwfwel.stress_period_data.empty(gwf, maxbound=5, aux_vars=['var1', 'var2', 'var3'],\n",
    "                                                          boundnames=True, timeseries=True)\n",
    "period_four[0][0] = ((2,4,7), 'well_1_rate', 1, 2, 3, 'well_1')\n",
    "period_four[0][1] = ((2,3,2), 'well_2_rate', 4, 5, 6, 'well_2')\n",
    "period_four[0][2] = ((0,11,2), -10.0, 7, 8, 9, None)\n",
    "period_four[0][3] = ((0,2,4), -20.0, 17, 18, 19, None)\n",
    "period_four[0][4] = ((0,13,5), -40.0, 27, 28, 29, None)\n",
    "stress_period_data = {}\n",
    "stress_period_data[1] = period_two[0]\n",
    "stress_period_data[2] = period_three[0]\n",
    "stress_period_data[3] = period_four[0]\n",
    "wel = flopy.mf6.ModflowGwfwel(gwf, pname='wel', print_input=True, print_flows=True,\n",
    "                              auxiliary=[('var1', 'var2', 'var3')], maxbound=5,\n",
    "                              stress_period_data=stress_period_data, boundnames=True, \n",
    "                              save_flows=True,\n",
    "                              ts_filerecord='well-rates.ts')\n",
    "\n",
    "# well ts package\n",
    "ts_recarray =[(0.0, 0.0, 0.0, 0.0),\n",
    "              (1.0, -200.0, 0.0, -100.0),\n",
    "              (11.0, -1800.0, -500.0, -200.0),\n",
    "              (21.0, -200.0, -400.0, -300.0),\n",
    "              (31.0, 0.0, -600.0, -400.0)]\n",
    "well_ts_package = flopy.mf6.ModflowUtlts(gwf, pname='well_ts', fname='well-rates.ts', parent_file=wel,\n",
    "                                         timeseries=ts_recarray,\n",
    "                                         time_series_namerecord=[('well_1_rate', 'well_2_rate', 'well_3_rate')],\n",
    "                                         interpolation_methodrecord=[('stepwise', 'stepwise', 'stepwise')])"
   ]
  },
  {
   "cell_type": "code",
   "execution_count": null,
   "metadata": {
    "collapsed": false
   },
   "outputs": [],
   "source": [
    "# Evapotranspiration\n",
    "evt_period = flopy.mf6.ModflowGwfevt.stress_period_data.empty(gwf, 150, nseg=3)\n",
    "for col in range(0, 10):\n",
    "    for row in range(0, 15):\n",
    "        evt_period[0][col*15+row] = (((0, row, col), 50.0, 0.0004, 10.0, 0.2, 0.5, 0.3, 0.1, None))\n",
    "evt = flopy.mf6.ModflowGwfevt(gwf, pname='evt', print_input=True, print_flows=True, \n",
    "                              save_flows=True, maxbound=150,\n",
    "                              nseg=3, stress_period_data=evt_period)"
   ]
  },
  {
   "cell_type": "code",
   "execution_count": null,
   "metadata": {
    "collapsed": false
   },
   "outputs": [],
   "source": [
    "# General-Head Boundaries\n",
    "ghb_period = {}\n",
    "ghb_period_array = []\n",
    "for layer, cond in zip(range(1, 3), [15.0, 1500.0]):\n",
    "    for row in range(0, 15):\n",
    "        ghb_period_array.append(((layer, row, 9), 'tides', cond, 'Estuary-L2'))\n",
    "ghb_period[0] = ghb_period_array\n",
    "ghb = flopy.mf6.ModflowGwfghb(gwf, pname='ghb', print_input=True, print_flows=True, \n",
    "                              save_flows=True, boundnames=True,\n",
    "                              ts_filerecord='tides.ts', \n",
    "                              obs_filerecord='{}.ghb.obs'.format(model_name),\n",
    "                              maxbound=30, stress_period_data=ghb_period)\n",
    "ts_recarray=[]\n",
    "fd = open(os.path.join(data_pth, 'tides.txt'), 'r')\n",
    "for line in fd:\n",
    "    line_list = line.strip().split(',')\n",
    "    ts_recarray.append((float(line_list[0]), float(line_list[1])))\n",
    "ghb_ts_package = flopy.mf6.ModflowUtlts(gwf, pname='tides_ts', fname='tides.ts', \n",
    "                                        parent_file=ghb, timeseries=ts_recarray,\n",
    "                                        time_series_namerecord='tides',\n",
    "                                        interpolation_methodrecord='linear')\n",
    "obs_recarray = {'ghb_obs.csv':[('ghb-2-6-10', 'GHB', (1, 5, 9)), \n",
    "                               ('ghb-3-6-10', 'GHB', (2, 5, 9))],\n",
    "                'ghb_flows.csv':[('Estuary2', 'GHB', 'Estuary-L2'), \n",
    "                                 ('Estuary3', 'GHB', 'Estuary-L3')]}\n",
    "ghb_obs_package = flopy.mf6.ModflowUtlobs(gwf, pname='ghb_obs', fname='{}.ghb.obs'.format(model_name), \n",
    "                                          parent_file=ghb, digits=10, print_input=True, \n",
    "                                          continuous=obs_recarray)"
   ]
  },
  {
   "cell_type": "code",
   "execution_count": null,
   "metadata": {
    "collapsed": false
   },
   "outputs": [],
   "source": [
    "obs_recarray = {'head_obs.csv':[('h1_13_8', 'HEAD', (2, 12, 7))],\n",
    "                'intercell_flow_obs1.csv':[('ICF1_1.0', 'FLOW-JA-FACE', (0, 4, 5), (0, 5, 5))],\n",
    "                'head-hydrographs.csv':[('h3-13-9', 'HEAD', (2, 12, 8)),\n",
    "                                        ('h3-12-8', 'HEAD', (2, 11, 7)),\n",
    "                                        ('h1-4-3', 'HEAD', (0, 3, 2)),\n",
    "                                        ('h1-12-3', 'HEAD', (0, 11, 2)),\n",
    "                                        ('h1-13-9', 'HEAD', (0, 12, 8))]}\n",
    "obs_package = flopy.mf6.ModflowUtlobs(gwf, pname='head_obs', fname='{}.obs'.format(model_name), \n",
    "                                      digits=10, print_input=True,\n",
    "                                      continuous=obs_recarray)"
   ]
  },
  {
   "cell_type": "code",
   "execution_count": null,
   "metadata": {
    "collapsed": false
   },
   "outputs": [],
   "source": [
    "# River\n",
    "riv_period = {}\n",
    "riv_period_array = [((0,2,0),'river_stage_1',1001.0,35.9,None),\n",
    "                    ((0,3,1),'river_stage_1',1002.0,35.8,None),\n",
    "                    ((0,4,2),'river_stage_1',1003.0,35.7,None),\n",
    "                    ((0,4,3),'river_stage_1',1004.0,35.6,None),\n",
    "                    ((0,5,4),'river_stage_1',1005.0,35.5,None),\n",
    "                    ((0,5,5),'river_stage_1',1006.0,35.4,'riv1_c6'),\n",
    "                    ((0,5,6),'river_stage_1',1007.0,35.3,'riv1_c7'),\n",
    "                    ((0,4,7),'river_stage_1',1008.0,35.2,None),\n",
    "                    ((0,4,8),'river_stage_1',1009.0,35.1,None),\n",
    "                    ((0,4,9),'river_stage_1',1010.0,35.0,None),\n",
    "                    ((0,9,0),'river_stage_2',1001.0,36.9,'riv2_upper'),\n",
    "                    ((0,8,1),'river_stage_2',1002.0,36.8,'riv2_upper'),\n",
    "                    ((0,7,2),'river_stage_2',1003.0,36.7,'riv2_upper'),\n",
    "                    ((0,6,3),'river_stage_2',1004.0,36.6,None),\n",
    "                    ((0,6,4),'river_stage_2',1005.0,36.5,None),\n",
    "                    ((0,5,5),'river_stage_2',1006.0,36.4,'riv2_c6'),\n",
    "                    ((0,5,6),'river_stage_2',1007.0,36.3,'riv2_c7'),\n",
    "                    ((0,6,7),'river_stage_2',1008.0,36.2,None),\n",
    "                    ((0,6,8),'river_stage_2',1009.0,36.1),\n",
    "                    ((0,6,9),'river_stage_2',1010.0,36.0)]\n",
    "riv_period[0] = riv_period_array\n",
    "riv = flopy.mf6.ModflowGwfriv(gwf, pname='riv', print_input=True, print_flows=True, \n",
    "                              save_flows='{}.cbc'.format(model_name),\n",
    "                              boundnames=True, ts_filerecord='river_stages.ts',\n",
    "                              maxbound=20, stress_period_data=riv_period, \n",
    "                              obs_filerecord='{}.riv.obs'.format(model_name))\n",
    "ts_recarray=[(0.0,40.0,41.0),(1.0,41.0,41.5),\n",
    "             (2.0,43.0,42.0),(3.0,45.0,42.8),\n",
    "             (4.0,44.0,43.0),(6.0,43.0,43.1),\n",
    "             (9.0,42.0,42.4),(11.0,41.0,41.5),\n",
    "             (31.0,40.0,41.0)]\n",
    "riv_ts_package = flopy.mf6.ModflowUtlts(gwf, pname='riv_ts', fname='river_stages.ts', \n",
    "                                        parent_file=riv,\n",
    "                                        timeseries=ts_recarray,\n",
    "                                        time_series_namerecord=[('river_stage_1', \n",
    "                                                                 'river_stage_2')],\n",
    "                                        interpolation_methodrecord=[('linear', 'stepwise')])\n",
    "obs_recarray = {'riv_obs.csv':[('rv1-3-1', 'RIV', (0,2,0)), ('rv1-4-2', 'RIV', (0,3,1)),\n",
    "                               ('rv1-5-3', 'RIV', (0,4,2)), ('rv1-5-4', 'RIV', (0,4,3)),\n",
    "                               ('rv1-6-5', 'RIV', (0,5,4)), ('rv1-c6', 'RIV', 'riv1_c6'),\n",
    "                               ('rv1-c7', 'RIV', 'riv1_c7'), ('rv2-upper', 'RIV', 'riv2_upper'),\n",
    "                               ('rv-2-7-4', 'RIV', (0,6,3)), ('rv2-8-5', 'RIV', (0,6,4)),\n",
    "                               ('rv-2-9-6', 'RIV', (0,5,5,))],\n",
    "                'riv_flowsA.csv':[('riv1-3-1', 'RIV', (0,2,0)), ('riv1-4-2', 'RIV', (0,3,1)),\n",
    "                                  ('riv1-5-3', 'RIV', (0,4,2))],\n",
    "                'riv_flowsB.csv':[('riv2-10-1', 'RIV', (0,9,0)), ('riv-2-9-2', 'RIV', (0,8,1)),\n",
    "                                  ('riv2-8-3', 'RIV', (0,7,2))]}\n",
    "riv_obs_package = flopy.mf6.ModflowUtlobs(gwf, pname='riv_obs', \n",
    "                                          fname='{}.riv.obs'.format(model_name), \n",
    "                                          parent_file=riv, digits=10,\n",
    "                                          print_input=True, continuous=obs_recarray)"
   ]
  },
  {
   "cell_type": "code",
   "execution_count": null,
   "metadata": {
    "collapsed": false
   },
   "outputs": [],
   "source": [
    "# First recharge package\n",
    "rch1_period = {}\n",
    "rch1_period_array = []\n",
    "col_range = {0:3,1:4,2:5}\n",
    "for row in range(0, 15):\n",
    "    if row in col_range:\n",
    "        col_max = col_range[row]\n",
    "    else:\n",
    "        col_max = 6\n",
    "    for col in range(0, col_max):\n",
    "        if (row == 3 and col == 5) or (row == 2 and col == 4) or (row == 1 and col == 3) or (row == 0 and col == 2):\n",
    "            mult = 0.5\n",
    "        else:\n",
    "            mult = 1.0\n",
    "        if row == 0 and col == 0:\n",
    "            bnd = 'rch-1-1'\n",
    "        elif row == 0 and col == 1:\n",
    "            bnd = 'rch-1-2'\n",
    "        elif row == 1 and col == 2:\n",
    "            bnd = 'rch-2-3'\n",
    "        else:\n",
    "            bnd = None\n",
    "        rch1_period_array.append(((0, row, col), 'rch_1', mult, bnd))\n",
    "rch1_period[0] = rch1_period_array\n",
    "rch1 = flopy.mf6.ModflowGwfrch(gwf, fname='{}_1.rch'.format(model_name), \n",
    "                               pname='rch_1', fixed_cell=True,\n",
    "                               auxiliary='MULTIPLIER', auxmultname='MULTIPLIER',\n",
    "                               print_input=True, print_flows=True, \n",
    "                               save_flows=True, boundnames=True,\n",
    "                               ts_filerecord='recharge_rates_1.ts', \n",
    "                               maxbound=84, stress_period_data=rch1_period)\n",
    "ts_recarray=[(0.0, 0.0015), (1.0, 0.0010),\n",
    "             (11.0, 0.0015),(21.0, 0.0025),\n",
    "             (31.0, 0.0015)]\n",
    "rch1_ts_package = flopy.mf6.ModflowUtlts(gwf, pname='rch_1_ts', \n",
    "                                         fname='recharge_rates_1.ts', \n",
    "                                         parent_file=rch1,\n",
    "                                         timeseries=ts_recarray,\n",
    "                                         time_series_namerecord='rch_1',\n",
    "                                         interpolation_methodrecord='stepwise')"
   ]
  },
  {
   "cell_type": "code",
   "execution_count": null,
   "metadata": {
    "collapsed": false
   },
   "outputs": [],
   "source": [
    "# Second recharge package\n",
    "rch2_period = {}\n",
    "rch2_period_array = [((0,0,2), 'rch_2', 0.5),\n",
    "                     ((0,0,3), 'rch_2', 1.0),\n",
    "                     ((0,0,4), 'rch_2', 1.0),\n",
    "                     ((0,0,5), 'rch_2', 1.0),\n",
    "                     ((0,0,6), 'rch_2', 1.0),\n",
    "                     ((0,0,7), 'rch_2', 1.0),\n",
    "                     ((0,0,8), 'rch_2', 1.0),\n",
    "                     ((0,0,9), 'rch_2', 0.5),\n",
    "                     ((0,1,3), 'rch_2', 0.5),\n",
    "                     ((0,1,4), 'rch_2', 1.0),\n",
    "                     ((0,1,5), 'rch_2', 1.0),\n",
    "                     ((0,1,6), 'rch_2', 1.0),\n",
    "                     ((0,1,7), 'rch_2', 1.0),\n",
    "                     ((0,1,8), 'rch_2', 0.5),\n",
    "                     ((0,2,4), 'rch_2', 0.5),\n",
    "                     ((0,2,5), 'rch_2', 1.0),\n",
    "                     ((0,2,6), 'rch_2', 1.0),\n",
    "                     ((0,2,7), 'rch_2', 0.5),\n",
    "                     ((0,3,5), 'rch_2', 0.5),\n",
    "                     ((0,3,6), 'rch_2', 0.5)]\n",
    "rch2_period[0] = rch2_period_array\n",
    "rch2 = flopy.mf6.ModflowGwfrch(gwf, fname='{}_2.rch'.format(model_name), \n",
    "                               pname='rch_2', fixed_cell=True,\n",
    "                               auxiliary='MULTIPLIER', auxmultname='MULTIPLIER',\n",
    "                               print_input=True, print_flows=True, save_flows=True,\n",
    "                               ts_filerecord='recharge_rates_2.ts', maxbound=20, \n",
    "                               stress_period_data=rch2_period)\n",
    "ts_recarray=[(0.0, 0.0016), (1.0, 0.0018),\n",
    "             (11.0, 0.0019),(21.0, 0.0016),\n",
    "             (31.0, 0.0018)]\n",
    "rch2_ts_package = flopy.mf6.ModflowUtlts(gwf, pname='rch_2_ts', \n",
    "                                         fname='recharge_rates_2.ts', \n",
    "                                         parent_file=rch2,\n",
    "                                         timeseries=ts_recarray,\n",
    "                                         time_series_namerecord='rch_2',\n",
    "                                         interpolation_methodrecord='linear')"
   ]
  },
  {
   "cell_type": "code",
   "execution_count": null,
   "metadata": {
    "collapsed": false
   },
   "outputs": [],
   "source": [
    "# Third recharge package\n",
    "rch3_period = {}\n",
    "rch3_period_array = []\n",
    "col_range = {0:9,1:8,2:7}\n",
    "for row in range(0, 15):\n",
    "    if row in col_range:\n",
    "        col_min = col_range[row]\n",
    "    else:\n",
    "        col_min = 6\n",
    "    for col in range(col_min, 10):\n",
    "        if (row == 0 and col == 9) or (row == 1 and col == 8) or (row == 2 and col == 7) or (row == 3 and col == 6):\n",
    "            mult = 0.5\n",
    "        else:\n",
    "            mult = 1.0\n",
    "        rch3_period_array.append(((0, row, col), 'rch_3', mult))\n",
    "rch3_period[0] = rch3_period_array\n",
    "rch3 = flopy.mf6.ModflowGwfrch(gwf, fname='{}_3.rch'.format(model_name), \n",
    "                               pname='rch_3', fixed_cell=True,\n",
    "                               auxiliary='MULTIPLIER', auxmultname='MULTIPLIER',\n",
    "                               print_input=True, print_flows=True, save_flows=True,\n",
    "                               ts_filerecord='recharge_rates_3.ts', maxbound=54, \n",
    "                               stress_period_data=rch3_period)\n",
    "ts_recarray=[(0.0, 0.0017),(1.0, 0.0020),(11.0, 0.0017),(21.0, 0.0018),(31.0, 0.0020)]\n",
    "rch3_ts_package = flopy.mf6.ModflowUtlts(gwf, pname='rch_3_ts', \n",
    "                                         fname='recharge_rates_3.ts', \n",
    "                                         parent_file=rch3,\n",
    "                                         timeseries=ts_recarray,\n",
    "                                         time_series_namerecord='rch_3',\n",
    "                                         interpolation_methodrecord='linear')"
   ]
  },
  {
   "cell_type": "markdown",
   "metadata": {},
   "source": [
    "### Create the MODFLOW 6 Input Files and Run the Model\n",
    "\n",
    "Once all the flopy objects are created, it is very easy to create all of the input files and run the model."
   ]
  },
  {
   "cell_type": "code",
   "execution_count": null,
   "metadata": {
    "collapsed": true
   },
   "outputs": [],
   "source": [
    "# change folder to save simulation\n",
    "#sim.simulation_data.mfpath.set_sim_path(run_folder)"
   ]
  },
  {
   "cell_type": "code",
   "execution_count": null,
   "metadata": {
    "collapsed": false
   },
   "outputs": [],
   "source": [
    "# write simulation to new location\n",
    "sim.write_simulation()"
   ]
  },
  {
   "cell_type": "code",
   "execution_count": null,
   "metadata": {
    "collapsed": false
   },
   "outputs": [],
   "source": [
    "# Print a list of the files that were created\n",
    "# in workspace\n",
    "print(os.listdir(workspace))"
   ]
  },
  {
   "cell_type": "markdown",
   "metadata": {},
   "source": [
    "### Run the Simulation\n",
    "\n",
    "We can also run the simulation from the notebook, but only if the MODFLOW 6 executable is available.  The executable can be made available by putting the executable in a folder that is listed in the system path variable.  Another option is to just put a copy of the executable in the simulation folder, though this should generally be avoided.  A final option is to provide a full path to the executable when the simulation is constructed.  This would be done by specifying exe_name with the full path."
   ]
  },
  {
   "cell_type": "code",
   "execution_count": null,
   "metadata": {
    "collapsed": false
   },
   "outputs": [],
   "source": [
    "# Run the simulation\n",
    "success, buff = sim.run_simulation()\n",
    "print('\\nSuccess is: ', success)"
   ]
  },
  {
   "cell_type": "markdown",
   "metadata": {},
   "source": [
    "### Post-Process Head Results\n",
    "\n",
    "Post-processing MODFLOW 6 results is still a work in progress.  There aren't any Flopy plotting functions built in yet, like they are for other MODFLOW versions.  So we need to plot the results using general Flopy capabilities.  We can also use some of the Flopy ModelMap capabilities for MODFLOW 6, but in order to do so, we need to manually create a SpatialReference object, that is needed for the plotting.  Examples of both approaches are shown below.\n",
    "\n",
    "First, a link to the heads file is created with `HeadFile`. The link can then be accessed with the `get_data` function, by specifying, in this case, the step number and period number for which we want to retrieve data. A three-dimensional array is returned of size `nlay, nrow, ncol`. Matplotlib contouring functions are used to make contours of the layers or a cross-section."
   ]
  },
  {
   "cell_type": "code",
   "execution_count": null,
   "metadata": {
    "collapsed": true
   },
   "outputs": [],
   "source": [
    "# Read the binary head file and plot the results\n",
    "# We can use the existing Flopy HeadFile class because\n",
    "# the format of the headfile for MODFLOW 6 is the same\n",
    "# as for previous MODFLOW verions\n",
    "headfile = '{}.hds'.format(model_name)\n",
    "fname = os.path.join(workspace, headfile)\n",
    "hds = flopy.utils.binaryfile.HeadFile(fname)\n",
    "h = hds.get_data()"
   ]
  },
  {
   "cell_type": "code",
   "execution_count": null,
   "metadata": {
    "collapsed": false
   },
   "outputs": [],
   "source": [
    "# We can also use the Flopy model map capabilities for MODFLOW 6\n",
    "# but in order to do so, we need to manually create a\n",
    "# SpatialReference object\n",
    "fig = plt.figure(figsize=(10, 10))\n",
    "ax = fig.add_subplot(1, 1, 1, aspect='equal')\n",
    "sr = flopy.utils.reference.SpatialReference(delr=dis.delr[:],\n",
    "                                            delc=dis.delc[:])\n",
    "\n",
    "# Next we create an instance of the ModelMap class\n",
    "modelmap = flopy.plot.ModelMap(sr=sr)\n",
    "\n",
    "# Then we can use the plot_grid() method to draw the grid\n",
    "# The return value for this function is a matplotlib LineCollection object,\n",
    "# which could be manipulated (or used) later if necessary.\n",
    "#quadmesh = modelmap.plot_ibound(ibound=ibd)\n",
    "linecollection = modelmap.plot_grid()\n",
    "contours = modelmap.contour_array(h[0])"
   ]
  },
  {
   "cell_type": "markdown",
   "metadata": {},
   "source": [
    "### Post-Process Flows\n",
    "\n",
    "MODFLOW 6 writes a binary grid file, which contains information about the model grid.  MODFLOW 6 also writes a binary budget file, which contains flow information.  Both of these files can be read using Flopy capabilities.  The MfGrdFile class in Flopy can be used to read the binary grid file.  The CellBudgetFile class in Flopy can be used to read the binary budget file written by MODFLOW 6."
   ]
  },
  {
   "cell_type": "code",
   "execution_count": null,
   "metadata": {
    "collapsed": false
   },
   "outputs": [],
   "source": [
    "# read the binary grid file\n",
    "fname = os.path.join(workspace, '{}.dis.grb'.format(model_name))\n",
    "bgf = flopy.utils.mfgrdfile.MfGrdFile(fname)\n",
    "\n",
    "# data read from the binary grid file is stored in a dictionary\n",
    "bgf._datadict"
   ]
  },
  {
   "cell_type": "code",
   "execution_count": null,
   "metadata": {
    "collapsed": true
   },
   "outputs": [],
   "source": [
    "# Information from the binary grid file is easily retrieved\n",
    "ia = bgf._datadict['IA'] - 1\n",
    "ja = bgf._datadict['JA'] - 1"
   ]
  },
  {
   "cell_type": "code",
   "execution_count": null,
   "metadata": {
    "collapsed": true
   },
   "outputs": [],
   "source": [
    "# read the cell budget file\n",
    "fname = os.path.join(workspace, '{}.cbb'.format(model_name))\n",
    "cbb = flopy.utils.CellBudgetFile(fname, precision='double')\n",
    "#cbb.list_records()\n",
    "\n",
    "flowja = cbb.get_data(text='FLOW-JA-FACE')[0][0, 0, :]"
   ]
  },
  {
   "cell_type": "code",
   "execution_count": null,
   "metadata": {
    "collapsed": false
   },
   "outputs": [],
   "source": [
    "# By having the ia and ja arrays and the flow-ja-face we can look at\n",
    "# the flows for any cell and process them in the follow manner.\n",
    "k = 2; i = 7; j = 7\n",
    "celln = k * nrow * ncol + i * nrow + j\n",
    "print('Printing flows for cell {}'.format(celln + 1))\n",
    "for ipos in range(ia[celln] + 1, ia[celln + 1]):\n",
    "    cellm = ja[ipos]  # change from one-based to zero-based\n",
    "    print('Cell {} flow with cell {} is {}'.format(celln + 1, cellm + 1, flowja[ipos]))"
   ]
  },
  {
   "cell_type": "code",
   "execution_count": null,
   "metadata": {
    "collapsed": false
   },
   "outputs": [],
   "source": [
    "fname = 'head-hydrographs.csv'\n",
    "fname = os.path.join(workspace, fname)\n",
    "csv = np.genfromtxt(fname, delimiter=',', dtype=None, names=True)\n",
    "for name in csv.dtype.names[1:]:\n",
    "    plt.plot(csv['time'], csv[name], label=name)\n",
    "plt.legend()"
   ]
  },
  {
   "cell_type": "code",
   "execution_count": null,
   "metadata": {
    "collapsed": true
   },
   "outputs": [],
   "source": []
  }
 ],
 "metadata": {
  "anaconda-cloud": {},
  "kernelspec": {
   "display_name": "Python 3",
   "language": "python",
   "name": "python3"
  },
  "language_info": {
   "codemirror_mode": {
    "name": "ipython",
    "version": 3
   },
   "file_extension": ".py",
   "mimetype": "text/x-python",
   "name": "python",
   "nbconvert_exporter": "python",
   "pygments_lexer": "ipython3",
   "version": "3.5.1"
  }
 },
 "nbformat": 4,
 "nbformat_minor": 2
}
