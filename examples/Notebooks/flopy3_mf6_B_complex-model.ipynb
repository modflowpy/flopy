{
 "cells": [
  {
   "cell_type": "markdown",
   "metadata": {},
   "source": [
    "# FloPy\n",
    "\n",
    "## Creating a Complex MODFLOW 6 Model with Flopy\n",
    "\n",
    "The purpose of this notebook is to demonstrate the Flopy capabilities for building a more complex MODFLOW 6 model from scratch.  This notebook will demonstrate the capabilities by replicating the advgw_tidal model that is distributed with MODFLOW 6."
   ]
  },
  {
   "cell_type": "markdown",
   "metadata": {},
   "source": [
    "### Setup the Notebook Environment"
   ]
  },
  {
   "cell_type": "code",
   "execution_count": 1,
   "metadata": {},
   "outputs": [
    {
     "name": "stdout",
     "output_type": "stream",
     "text": [
      "3.7.7 (default, Mar 26 2020, 10:32:53) \n",
      "[Clang 4.0.1 (tags/RELEASE_401/final)]\n",
      "numpy version: 1.19.2\n",
      "matplotlib version: 3.3.0\n",
      "flopy version: 3.3.2\n"
     ]
    }
   ],
   "source": [
    "import sys\n",
    "import os\n",
    "import platform\n",
    "import numpy as np\n",
    "import matplotlib as mpl\n",
    "import matplotlib.pyplot as plt\n",
    "\n",
    "# run installed version of flopy or add local path\n",
    "try:\n",
    "    import flopy\n",
    "except:\n",
    "    fpth = os.path.abspath(os.path.join('..', '..'))\n",
    "    sys.path.append(fpth)\n",
    "    import flopy\n",
    "\n",
    "print(sys.version)\n",
    "print('numpy version: {}'.format(np.__version__))\n",
    "print('matplotlib version: {}'.format(mpl.__version__))\n",
    "print('flopy version: {}'.format(flopy.__version__))"
   ]
  },
  {
   "cell_type": "code",
   "execution_count": 2,
   "metadata": {},
   "outputs": [],
   "source": [
    "# For this example, we will set up a model workspace.\n",
    "# Model input files and output files will reside here.\n",
    "model_name = 'advgw_tidal'\n",
    "workspace = os.path.join('data', model_name)\n",
    "if not os.path.exists(workspace):\n",
    "    os.makedirs(workspace)"
   ]
  },
  {
   "cell_type": "code",
   "execution_count": 3,
   "metadata": {},
   "outputs": [],
   "source": [
    "data_pth = os.path.join('..', 'data', 'mf6', 'create_tests', \n",
    "                        'test005_advgw_tidal')\n",
    "assert os.path.isdir(data_pth)"
   ]
  },
  {
   "cell_type": "code",
   "execution_count": 4,
   "metadata": {},
   "outputs": [],
   "source": [
    "# create simulation\n",
    "sim = flopy.mf6.MFSimulation(sim_name=model_name, version='mf6', exe_name='mf6', \n",
    "                             sim_ws=workspace)\n",
    "\n",
    "# create tdis package\n",
    "tdis_rc = [(1.0, 1, 1.0), (10.0, 120, 1.0), \n",
    "           (10.0, 120, 1.0), (10.0, 120, 1.0)]\n",
    "tdis = flopy.mf6.ModflowTdis(sim, pname='tdis', time_units='DAYS', \n",
    "                             nper=4, perioddata=tdis_rc)\n",
    "\n",
    "# create gwf model\n",
    "gwf = flopy.mf6.ModflowGwf(sim, modelname=model_name,\n",
    "                           model_nam_file='{}.nam'.format(model_name))\n",
    "gwf.name_file.save_flows = True\n",
    "\n",
    "# create iterative model solution and register the gwf model with it\n",
    "ims = flopy.mf6.ModflowIms(sim, pname='ims', print_option='SUMMARY', \n",
    "                           complexity='SIMPLE', outer_hclose=0.0001, \n",
    "                           outer_maximum=500, under_relaxation='NONE', \n",
    "                           inner_maximum=100, inner_hclose=0.0001, \n",
    "                           rcloserecord=0.001, linear_acceleration='CG', \n",
    "                           scaling_method='NONE', reordering_method='NONE', \n",
    "                           relaxation_factor=0.97)\n",
    "sim.register_ims_package(ims, [gwf.name])"
   ]
  },
  {
   "cell_type": "code",
   "execution_count": 5,
   "metadata": {},
   "outputs": [],
   "source": [
    "# discretization package\n",
    "nlay = 3\n",
    "nrow = 15\n",
    "ncol = 10\n",
    "botlay2 = {'factor':1.0, 'data': [-100 for x in range(150)]}\n",
    "dis = flopy.mf6.ModflowGwfdis(gwf, pname='dis', nlay=nlay, nrow=nrow, ncol=ncol, \n",
    "                              delr=500.0, delc=500.0, top=50.0, \n",
    "                              botm=[5.0, -10.0, botlay2], \n",
    "                              filename='{}.dis'.format(model_name))\n",
    "\n",
    "# initial conditions\n",
    "ic = flopy.mf6.ModflowGwfic(gwf, pname='ic', strt=50.0,\n",
    "                            filename='{}.ic'.format(model_name))\n",
    "\n",
    "# node property flow\n",
    "npf = flopy.mf6.ModflowGwfnpf(gwf, pname='npf', save_flows=True, \n",
    "                              icelltype=[1,0,0], \n",
    "                              k=[5.0, 0.1, 4.0],\n",
    "                              k33=[0.5, 0.005, 0.1])\n",
    "\n",
    "# output control\n",
    "oc = flopy.mf6.ModflowGwfoc(gwf, pname='oc', budget_filerecord='{}.cbb'.format(model_name),\n",
    "                            head_filerecord='{}.hds'.format(model_name),\n",
    "                            headprintrecord=[('COLUMNS', 10, 'WIDTH', 15,\n",
    "                                              'DIGITS', 6, 'GENERAL')],\n",
    "                            saverecord=[('HEAD', 'ALL'), ('BUDGET', 'ALL')],\n",
    "                            printrecord=[('HEAD', 'FIRST'), ('HEAD', 'LAST'), \n",
    "                                         ('BUDGET', 'LAST')])"
   ]
  },
  {
   "cell_type": "code",
   "execution_count": 6,
   "metadata": {},
   "outputs": [],
   "source": [
    "# storage package\n",
    "sy = flopy.mf6.ModflowGwfsto.sy.empty(gwf, layered=True)\n",
    "for layer in range(0,3):\n",
    "    sy[layer]['data'] = 0.2\n",
    "    \n",
    "ss = flopy.mf6.ModflowGwfsto.ss.empty(gwf, layered=True, default_value=0.000001)\n",
    "\n",
    "sto = flopy.mf6.ModflowGwfsto(gwf, pname='sto', save_flows=True, iconvert=1, \n",
    "                              ss=ss, sy=sy, steady_state={0:True},\n",
    "                              transient={1:True})"
   ]
  },
  {
   "cell_type": "code",
   "execution_count": 7,
   "metadata": {},
   "outputs": [],
   "source": [
    "# well package\n",
    "# test empty with aux vars, bound names, and time series\n",
    "period_two = flopy.mf6.ModflowGwfwel.stress_period_data.empty(gwf, maxbound=3, aux_vars=['var1', 'var2', 'var3'],\n",
    "                                                         boundnames=True, timeseries=True)\n",
    "period_two[0][0] = ((0,11,2), -50.0, -1, -2, -3, None)\n",
    "period_two[0][1] = ((2,4,7), 'well_1_rate', 1, 2, 3, 'well_1')\n",
    "period_two[0][2] = ((2,3,2), 'well_2_rate', 4, 5, 6, 'well_2')\n",
    "period_three = flopy.mf6.ModflowGwfwel.stress_period_data.empty(gwf, maxbound=2, aux_vars=['var1', 'var2', 'var3'],\n",
    "                                                           boundnames=True, timeseries=True)\n",
    "period_three[0][0] = ((2,3,2), 'well_2_rate', 1, 2, 3, 'well_2')\n",
    "period_three[0][1] = ((2,4,7), 'well_1_rate', 4, 5, 6, 'well_1')\n",
    "period_four = flopy.mf6.ModflowGwfwel.stress_period_data.empty(gwf, maxbound=5, aux_vars=['var1', 'var2', 'var3'],\n",
    "                                                          boundnames=True, timeseries=True)\n",
    "period_four[0][0] = ((2,4,7), 'well_1_rate', 1, 2, 3, 'well_1')\n",
    "period_four[0][1] = ((2,3,2), 'well_2_rate', 4, 5, 6, 'well_2')\n",
    "period_four[0][2] = ((0,11,2), -10.0, 7, 8, 9, None)\n",
    "period_four[0][3] = ((0,2,4), -20.0, 17, 18, 19, None)\n",
    "period_four[0][4] = ((0,13,5), -40.0, 27, 28, 29, None)\n",
    "stress_period_data = {}\n",
    "stress_period_data[1] = period_two[0]\n",
    "stress_period_data[2] = period_three[0]\n",
    "stress_period_data[3] = period_four[0]\n",
    "wel = flopy.mf6.ModflowGwfwel(gwf, pname='wel', print_input=True, print_flows=True,\n",
    "                              auxiliary=[('var1', 'var2', 'var3')], maxbound=5,\n",
    "                              stress_period_data=stress_period_data, boundnames=True, \n",
    "                              save_flows=True)\n",
    "\n",
    "# well ts package\n",
    "ts_data =[(0.0, 0.0, 0.0, 0.0),\n",
    "          (1.0, -200.0, 0.0, -100.0),\n",
    "          (11.0, -1800.0, -500.0, -200.0),\n",
    "          (21.0, -200.0, -400.0, -300.0),\n",
    "          (31.0, 0.0, -600.0, -400.0)]\n",
    "wel.ts.initialize(filename='well-rates.ts', timeseries=ts_data,\n",
    "                   time_series_namerecord=[('well_1_rate', 'well_2_rate', 'well_3_rate')],\n",
    "                   interpolation_methodrecord=[('stepwise', 'stepwise', 'stepwise')])"
   ]
  },
  {
   "cell_type": "code",
   "execution_count": 8,
   "metadata": {},
   "outputs": [],
   "source": [
    "# Evapotranspiration\n",
    "evt_period = flopy.mf6.ModflowGwfevt.stress_period_data.empty(gwf, 150, nseg=3)\n",
    "for col in range(0, 10):\n",
    "    for row in range(0, 15):\n",
    "        evt_period[0][col*15+row] = (((0, row, col), 50.0, 0.0004, 10.0, 0.2, 0.5, 0.3, 0.1, None))\n",
    "evt = flopy.mf6.ModflowGwfevt(gwf, pname='evt', print_input=True, print_flows=True, \n",
    "                              save_flows=True, maxbound=150,\n",
    "                              nseg=3, stress_period_data=evt_period)"
   ]
  },
  {
   "cell_type": "code",
   "execution_count": 9,
   "metadata": {},
   "outputs": [],
   "source": [
    "# General-Head Boundaries\n",
    "ghb_period = {}\n",
    "ghb_period_array = []\n",
    "for layer, cond in zip(range(1, 3), [15.0, 1500.0]):\n",
    "    for row in range(0, 15):\n",
    "        ghb_period_array.append(((layer, row, 9), 'tides', cond, 'Estuary-L2'))\n",
    "ghb_period[0] = ghb_period_array\n",
    "ghb = flopy.mf6.ModflowGwfghb(gwf, pname='ghb', print_input=True, print_flows=True, \n",
    "                              save_flows=True, boundnames=True,\n",
    "                              maxbound=30, stress_period_data=ghb_period)\n",
    "ts_recarray=[]\n",
    "fd = open(os.path.join(data_pth, 'tides.txt'), 'r')\n",
    "for line in fd:\n",
    "    line_list = line.strip().split(',')\n",
    "    ts_recarray.append((float(line_list[0]), float(line_list[1])))\n",
    "ghb.ts.initialize(filename='tides.ts', timeseries=ts_recarray,\n",
    "                  time_series_namerecord='tides',\n",
    "                  interpolation_methodrecord='linear')\n",
    "obs_recarray = {'ghb_obs.csv':[('ghb-2-6-10', 'GHB', (1, 5, 9)), \n",
    "                               ('ghb-3-6-10', 'GHB', (2, 5, 9))],\n",
    "                'ghb_flows.csv':[('Estuary2', 'GHB', 'Estuary-L2'), \n",
    "                                 ('Estuary3', 'GHB', 'Estuary-L3')]}\n",
    "ghb.obs.initialize(filename='{}.ghb.obs'.format(model_name), digits=10, \n",
    "                   print_input=True, continuous=obs_recarray)"
   ]
  },
  {
   "cell_type": "code",
   "execution_count": 10,
   "metadata": {},
   "outputs": [],
   "source": [
    "obs_recarray = {'head_obs.csv':[('h1_13_8', 'HEAD', (2, 12, 7))],\n",
    "                'intercell_flow_obs1.csv':[('ICF1_1.0', 'FLOW-JA-FACE', (0, 4, 5), (0, 5, 5))],\n",
    "                'head-hydrographs.csv':[('h3-13-9', 'HEAD', (2, 12, 8)),\n",
    "                                        ('h3-12-8', 'HEAD', (2, 11, 7)),\n",
    "                                        ('h1-4-3', 'HEAD', (0, 3, 2)),\n",
    "                                        ('h1-12-3', 'HEAD', (0, 11, 2)),\n",
    "                                        ('h1-13-9', 'HEAD', (0, 12, 8))]}\n",
    "obs_package = flopy.mf6.ModflowUtlobs(gwf, pname='head_obs', filename='{}.obs'.format(model_name), \n",
    "                                      digits=10, print_input=True,\n",
    "                                      continuous=obs_recarray)"
   ]
  },
  {
   "cell_type": "code",
   "execution_count": 11,
   "metadata": {},
   "outputs": [],
   "source": [
    "# River\n",
    "riv_period = {}\n",
    "riv_period_array = [((0,2,0),'river_stage_1',1001.0,35.9,None),\n",
    "                    ((0,3,1),'river_stage_1',1002.0,35.8,None),\n",
    "                    ((0,4,2),'river_stage_1',1003.0,35.7,None),\n",
    "                    ((0,4,3),'river_stage_1',1004.0,35.6,None),\n",
    "                    ((0,5,4),'river_stage_1',1005.0,35.5,None),\n",
    "                    ((0,5,5),'river_stage_1',1006.0,35.4,'riv1_c6'),\n",
    "                    ((0,5,6),'river_stage_1',1007.0,35.3,'riv1_c7'),\n",
    "                    ((0,4,7),'river_stage_1',1008.0,35.2,None),\n",
    "                    ((0,4,8),'river_stage_1',1009.0,35.1,None),\n",
    "                    ((0,4,9),'river_stage_1',1010.0,35.0,None),\n",
    "                    ((0,9,0),'river_stage_2',1001.0,36.9,'riv2_upper'),\n",
    "                    ((0,8,1),'river_stage_2',1002.0,36.8,'riv2_upper'),\n",
    "                    ((0,7,2),'river_stage_2',1003.0,36.7,'riv2_upper'),\n",
    "                    ((0,6,3),'river_stage_2',1004.0,36.6,None),\n",
    "                    ((0,6,4),'river_stage_2',1005.0,36.5,None),\n",
    "                    ((0,5,5),'river_stage_2',1006.0,36.4,'riv2_c6'),\n",
    "                    ((0,5,6),'river_stage_2',1007.0,36.3,'riv2_c7'),\n",
    "                    ((0,6,7),'river_stage_2',1008.0,36.2,None),\n",
    "                    ((0,6,8),'river_stage_2',1009.0,36.1),\n",
    "                    ((0,6,9),'river_stage_2',1010.0,36.0)]\n",
    "riv_period[0] = riv_period_array\n",
    "riv = flopy.mf6.ModflowGwfriv(gwf, pname='riv', print_input=True, print_flows=True, \n",
    "                              save_flows='{}.cbc'.format(model_name),\n",
    "                              boundnames=True, maxbound=20, \n",
    "                              stress_period_data=riv_period)\n",
    "ts_recarray=[(0.0,40.0,41.0),(1.0,41.0,41.5),\n",
    "             (2.0,43.0,42.0),(3.0,45.0,42.8),\n",
    "             (4.0,44.0,43.0),(6.0,43.0,43.1),\n",
    "             (9.0,42.0,42.4),(11.0,41.0,41.5),\n",
    "             (31.0,40.0,41.0)]\n",
    "riv.ts.initialize(filename='river_stages.ts', timeseries=ts_recarray,\n",
    "                  time_series_namerecord=[('river_stage_1', 'river_stage_2')],\n",
    "                  interpolation_methodrecord=[('linear', 'stepwise')])\n",
    "obs_recarray = {'riv_obs.csv':[('rv1-3-1', 'RIV', (0,2,0)), ('rv1-4-2', 'RIV', (0,3,1)),\n",
    "                               ('rv1-5-3', 'RIV', (0,4,2)), ('rv1-5-4', 'RIV', (0,4,3)),\n",
    "                               ('rv1-6-5', 'RIV', (0,5,4)), ('rv1-c6', 'RIV', 'riv1_c6'),\n",
    "                               ('rv1-c7', 'RIV', 'riv1_c7'), ('rv2-upper', 'RIV', 'riv2_upper'),\n",
    "                               ('rv-2-7-4', 'RIV', (0,6,3)), ('rv2-8-5', 'RIV', (0,6,4)),\n",
    "                               ('rv-2-9-6', 'RIV', (0,5,5,))],\n",
    "                'riv_flowsA.csv':[('riv1-3-1', 'RIV', (0,2,0)), ('riv1-4-2', 'RIV', (0,3,1)),\n",
    "                                  ('riv1-5-3', 'RIV', (0,4,2))],\n",
    "                'riv_flowsB.csv':[('riv2-10-1', 'RIV', (0,9,0)), ('riv-2-9-2', 'RIV', (0,8,1)),\n",
    "                                  ('riv2-8-3', 'RIV', (0,7,2))]}\n",
    "riv.obs.initialize(filename='{}.riv.obs'.format(model_name), digits=10,\n",
    "                   print_input=True, continuous=obs_recarray)"
   ]
  },
  {
   "cell_type": "code",
   "execution_count": 12,
   "metadata": {},
   "outputs": [],
   "source": [
    "# First recharge package\n",
    "rch1_period = {}\n",
    "rch1_period_array = []\n",
    "col_range = {0:3,1:4,2:5}\n",
    "for row in range(0, 15):\n",
    "    if row in col_range:\n",
    "        col_max = col_range[row]\n",
    "    else:\n",
    "        col_max = 6\n",
    "    for col in range(0, col_max):\n",
    "        if (row == 3 and col == 5) or (row == 2 and col == 4) or (row == 1 and col == 3) or (row == 0 and col == 2):\n",
    "            mult = 0.5\n",
    "        else:\n",
    "            mult = 1.0\n",
    "        if row == 0 and col == 0:\n",
    "            bnd = 'rch-1-1'\n",
    "        elif row == 0 and col == 1:\n",
    "            bnd = 'rch-1-2'\n",
    "        elif row == 1 and col == 2:\n",
    "            bnd = 'rch-2-3'\n",
    "        else:\n",
    "            bnd = None\n",
    "        rch1_period_array.append(((0, row, col), 'rch_1', mult, bnd))\n",
    "rch1_period[0] = rch1_period_array\n",
    "rch1 = flopy.mf6.ModflowGwfrch(gwf, filename='{}_1.rch'.format(model_name), \n",
    "                               pname='rch_1', fixed_cell=True,\n",
    "                               auxiliary='MULTIPLIER', auxmultname='MULTIPLIER',\n",
    "                               print_input=True, print_flows=True, \n",
    "                               save_flows=True, boundnames=True,\n",
    "                               maxbound=84, stress_period_data=rch1_period)\n",
    "ts_data =[(0.0, 0.0015), (1.0, 0.0010),\n",
    "          (11.0, 0.0015),(21.0, 0.0025),\n",
    "          (31.0, 0.0015)]\n",
    "rch1.ts.initialize(filename='recharge_rates_1.ts', timeseries=ts_data,\n",
    "                   time_series_namerecord='rch_1',\n",
    "                   interpolation_methodrecord='stepwise')"
   ]
  },
  {
   "cell_type": "code",
   "execution_count": 13,
   "metadata": {},
   "outputs": [],
   "source": [
    "# Second recharge package\n",
    "rch2_period = {}\n",
    "rch2_period_array = [((0,0,2), 'rch_2', 0.5),\n",
    "                     ((0,0,3), 'rch_2', 1.0),\n",
    "                     ((0,0,4), 'rch_2', 1.0),\n",
    "                     ((0,0,5), 'rch_2', 1.0),\n",
    "                     ((0,0,6), 'rch_2', 1.0),\n",
    "                     ((0,0,7), 'rch_2', 1.0),\n",
    "                     ((0,0,8), 'rch_2', 1.0),\n",
    "                     ((0,0,9), 'rch_2', 0.5),\n",
    "                     ((0,1,3), 'rch_2', 0.5),\n",
    "                     ((0,1,4), 'rch_2', 1.0),\n",
    "                     ((0,1,5), 'rch_2', 1.0),\n",
    "                     ((0,1,6), 'rch_2', 1.0),\n",
    "                     ((0,1,7), 'rch_2', 1.0),\n",
    "                     ((0,1,8), 'rch_2', 0.5),\n",
    "                     ((0,2,4), 'rch_2', 0.5),\n",
    "                     ((0,2,5), 'rch_2', 1.0),\n",
    "                     ((0,2,6), 'rch_2', 1.0),\n",
    "                     ((0,2,7), 'rch_2', 0.5),\n",
    "                     ((0,3,5), 'rch_2', 0.5),\n",
    "                     ((0,3,6), 'rch_2', 0.5)]\n",
    "rch2_period[0] = rch2_period_array\n",
    "rch2 = flopy.mf6.ModflowGwfrch(gwf, filename='{}_2.rch'.format(model_name), \n",
    "                               pname='rch_2', fixed_cell=True,\n",
    "                               auxiliary='MULTIPLIER', auxmultname='MULTIPLIER',\n",
    "                               print_input=True, print_flows=True, save_flows=True,\n",
    "                               maxbound=20, stress_period_data=rch2_period)\n",
    "ts_data = [(0.0, 0.0016), (1.0, 0.0018),\n",
    "           (11.0, 0.0019),(21.0, 0.0016),\n",
    "           (31.0, 0.0018)]\n",
    "rch2.ts.initialize(filename='recharge_rates_2.ts', timeseries=ts_data,\n",
    "                   time_series_namerecord='rch_2',\n",
    "                   interpolation_methodrecord='linear')"
   ]
  },
  {
   "cell_type": "code",
   "execution_count": 14,
   "metadata": {},
   "outputs": [],
   "source": [
    "# Third recharge package\n",
    "rch3_period = {}\n",
    "rch3_period_array = []\n",
    "col_range = {0:9,1:8,2:7}\n",
    "for row in range(0, 15):\n",
    "    if row in col_range:\n",
    "        col_min = col_range[row]\n",
    "    else:\n",
    "        col_min = 6\n",
    "    for col in range(col_min, 10):\n",
    "        if (row == 0 and col == 9) or (row == 1 and col == 8) or (row == 2 and col == 7) or (row == 3 and col == 6):\n",
    "            mult = 0.5\n",
    "        else:\n",
    "            mult = 1.0\n",
    "        rch3_period_array.append(((0, row, col), 'rch_3', mult))\n",
    "rch3_period[0] = rch3_period_array\n",
    "rch3 = flopy.mf6.ModflowGwfrch(gwf, filename='{}_3.rch'.format(model_name), \n",
    "                               pname='rch_3', fixed_cell=True,\n",
    "                               auxiliary='MULTIPLIER', auxmultname='MULTIPLIER',\n",
    "                               print_input=True, print_flows=True, save_flows=True,\n",
    "                               maxbound=54, stress_period_data=rch3_period)\n",
    "ts_data=[(0.0, 0.0017),(1.0, 0.0020),(11.0, 0.0017),(21.0, 0.0018),(31.0, 0.0020)]\n",
    "rch3.ts.initialize(filename='recharge_rates_3.ts', timeseries=ts_data,\n",
    "                   time_series_namerecord='rch_3',\n",
    "                   interpolation_methodrecord='linear')"
   ]
  },
  {
   "cell_type": "markdown",
   "metadata": {},
   "source": [
    "### Create the MODFLOW 6 Input Files and Run the Model\n",
    "\n",
    "Once all the flopy objects are created, it is very easy to create all of the input files and run the model."
   ]
  },
  {
   "cell_type": "code",
   "execution_count": 15,
   "metadata": {},
   "outputs": [],
   "source": [
    "# change folder to save simulation\n",
    "#sim.simulation_data.mfpath.set_sim_path(run_folder)"
   ]
  },
  {
   "cell_type": "code",
   "execution_count": 16,
   "metadata": {},
   "outputs": [
    {
     "name": "stdout",
     "output_type": "stream",
     "text": [
      "writing simulation...\n",
      "  writing simulation name file...\n",
      "  writing simulation tdis package...\n",
      "  writing ims package ims...\n",
      "  writing model advgw_tidal...\n",
      "    writing model name file...\n",
      "    writing package dis...\n",
      "    writing package ic...\n",
      "    writing package npf...\n",
      "    writing package oc...\n",
      "    writing package sto...\n",
      "    writing package wel...\n",
      "    writing package ts_0...\n",
      "    writing package evt...\n",
      "    writing package ghb...\n",
      "    writing package ts_1...\n",
      "    writing package obs_0...\n",
      "    writing package head_obs...\n",
      "    writing package riv...\n",
      "    writing package ts_2...\n",
      "    writing package obs_1...\n",
      "    writing package rch_1...\n",
      "    writing package ts_3...\n",
      "    writing package rch_2...\n",
      "    writing package ts_4...\n",
      "    writing package rch_3...\n",
      "    writing package ts_5...\n"
     ]
    }
   ],
   "source": [
    "# write simulation to new location\n",
    "sim.write_simulation()"
   ]
  },
  {
   "cell_type": "code",
   "execution_count": 17,
   "metadata": {},
   "outputs": [
    {
     "name": "stdout",
     "output_type": "stream",
     "text": [
      "['advgw_tidal.nam', 'advgw_tidal.ic', 'recharge_rates_1.ts', 'advgw_tidal.sto', 'tides.ts', 'advgw_tidal.ims', 'well-rates.ts', 'advgw_tidal.ghb', 'advgw_tidal.obs', 'advgw_tidal.riv.obs', 'advgw_tidal.dis', 'advgw_tidal_1.rch', 'advgw_tidal_3.rch', 'advgw_tidal_2.rch', 'advgw_tidal.oc', 'river_stages.ts', 'advgw_tidal.wel', 'advgw_tidal.ghb.obs', 'advgw_tidal.npf', 'advgw_tidal.tdis', 'recharge_rates_2.ts', 'mfsim.nam', 'advgw_tidal.riv', 'recharge_rates_3.ts', 'advgw_tidal.evt']\n"
     ]
    }
   ],
   "source": [
    "# Print a list of the files that were created\n",
    "# in workspace\n",
    "print(os.listdir(workspace))"
   ]
  },
  {
   "cell_type": "markdown",
   "metadata": {},
   "source": [
    "### Run the Simulation\n",
    "\n",
    "We can also run the simulation from the notebook, but only if the MODFLOW 6 executable is available.  The executable can be made available by putting the executable in a folder that is listed in the system path variable.  Another option is to just put a copy of the executable in the simulation folder, though this should generally be avoided.  A final option is to provide a full path to the executable when the simulation is constructed.  This would be done by specifying exe_name with the full path."
   ]
  },
  {
   "cell_type": "code",
   "execution_count": 18,
   "metadata": {},
   "outputs": [
    {
     "name": "stdout",
     "output_type": "stream",
     "text": [
      "FloPy is using the following  executable to run the model: /Users/jdhughes/.local/bin/mf6\n",
      "                                   MODFLOW 6\n",
      "                U.S. GEOLOGICAL SURVEY MODULAR HYDROLOGIC MODEL\n",
      "                            VERSION 6.2.0 10/22/2020\n",
      "\n",
      "   MODFLOW 6 compiled Oct 25 2020 16:15:39 with IFORT compiler (ver. 19.0.5)\n",
      "\n",
      "This software has been approved for release by the U.S. Geological \n",
      "Survey (USGS). Although the software has been subjected to rigorous \n",
      "review, the USGS reserves the right to update the software as needed \n",
      "pursuant to further analysis and review. No warranty, expressed or \n",
      "implied, is made by the USGS or the U.S. Government as to the \n",
      "functionality of the software and related material nor shall the \n",
      "fact of release constitute any such warranty. Furthermore, the \n",
      "software is released on condition that neither the USGS nor the U.S. \n",
      "Government shall be held liable for any damages resulting from its \n",
      "authorized or unauthorized use. Also refer to the USGS Water \n",
      "Resources Software User Rights Notice for complete use, copyright, \n",
      "and distribution information.\n",
      "\n",
      " \n",
      " Run start date and time (yyyy/mm/dd hh:mm:ss): 2020/10/26 15:56:14\n",
      " \n",
      " Writing simulation list file: mfsim.lst\n",
      " Using Simulation name file: mfsim.nam\n",
      " \n",
      "    Solving:  Stress period:     1    Time step:     1\n",
      "    Solving:  Stress period:     2    Time step:     1\n",
      "    Solving:  Stress period:     2    Time step:     2\n",
      "    Solving:  Stress period:     2    Time step:     3\n",
      "    Solving:  Stress period:     2    Time step:     4\n",
      "    Solving:  Stress period:     2    Time step:     5\n",
      "    Solving:  Stress period:     2    Time step:     6\n",
      "    Solving:  Stress period:     2    Time step:     7\n",
      "    Solving:  Stress period:     2    Time step:     8\n",
      "    Solving:  Stress period:     2    Time step:     9\n",
      "    Solving:  Stress period:     2    Time step:    10\n",
      "    Solving:  Stress period:     2    Time step:    11\n",
      "    Solving:  Stress period:     2    Time step:    12\n",
      "    Solving:  Stress period:     2    Time step:    13\n",
      "    Solving:  Stress period:     2    Time step:    14\n"
     ]
    },
    {
     "name": "stdout",
     "output_type": "stream",
     "text": [
      "    Solving:  Stress period:     2    Time step:    15\n",
      "    Solving:  Stress period:     2    Time step:    16\n",
      "    Solving:  Stress period:     2    Time step:    17\n",
      "    Solving:  Stress period:     2    Time step:    18\n",
      "    Solving:  Stress period:     2    Time step:    19\n",
      "    Solving:  Stress period:     2    Time step:    20\n",
      "    Solving:  Stress period:     2    Time step:    21\n",
      "    Solving:  Stress period:     2    Time step:    22\n",
      "    Solving:  Stress period:     2    Time step:    23\n",
      "    Solving:  Stress period:     2    Time step:    24\n",
      "    Solving:  Stress period:     2    Time step:    25\n",
      "    Solving:  Stress period:     2    Time step:    26\n",
      "    Solving:  Stress period:     2    Time step:    27\n"
     ]
    },
    {
     "name": "stdout",
     "output_type": "stream",
     "text": [
      "    Solving:  Stress period:     2    Time step:    28\n",
      "    Solving:  Stress period:     2    Time step:    29\n"
     ]
    },
    {
     "name": "stdout",
     "output_type": "stream",
     "text": [
      "    Solving:  Stress period:     2    Time step:    30\n",
      "    Solving:  Stress period:     2    Time step:    31\n",
      "    Solving:  Stress period:     2    Time step:    32\n",
      "    Solving:  Stress period:     2    Time step:    33\n",
      "    Solving:  Stress period:     2    Time step:    34\n",
      "    Solving:  Stress period:     2    Time step:    35\n",
      "    Solving:  Stress period:     2    Time step:    36\n",
      "    Solving:  Stress period:     2    Time step:    37\n",
      "    Solving:  Stress period:     2    Time step:    38\n",
      "    Solving:  Stress period:     2    Time step:    39\n",
      "    Solving:  Stress period:     2    Time step:    40\n",
      "    Solving:  Stress period:     2    Time step:    41\n",
      "    Solving:  Stress period:     2    Time step:    42\n",
      "    Solving:  Stress period:     2    Time step:    43\n",
      "    Solving:  Stress period:     2    Time step:    44\n",
      "    Solving:  Stress period:     2    Time step:    45\n",
      "    Solving:  Stress period:     2    Time step:    46\n",
      "    Solving:  Stress period:     2    Time step:    47\n",
      "    Solving:  Stress period:     2    Time step:    48\n",
      "    Solving:  Stress period:     2    Time step:    49\n",
      "    Solving:  Stress period:     2    Time step:    50\n",
      "    Solving:  Stress period:     2    Time step:    51\n",
      "    Solving:  Stress period:     2    Time step:    52\n",
      "    Solving:  Stress period:     2    Time step:    53\n",
      "    Solving:  Stress period:     2    Time step:    54\n",
      "    Solving:  Stress period:     2    Time step:    55\n",
      "    Solving:  Stress period:     2    Time step:    56\n"
     ]
    },
    {
     "name": "stdout",
     "output_type": "stream",
     "text": [
      "    Solving:  Stress period:     2    Time step:    57\n",
      "    Solving:  Stress period:     2    Time step:    58\n",
      "    Solving:  Stress period:     2    Time step:    59\n",
      "    Solving:  Stress period:     2    Time step:    60\n",
      "    Solving:  Stress period:     2    Time step:    61\n",
      "    Solving:  Stress period:     2    Time step:    62\n",
      "    Solving:  Stress period:     2    Time step:    63\n",
      "    Solving:  Stress period:     2    Time step:    64\n",
      "    Solving:  Stress period:     2    Time step:    65\n",
      "    Solving:  Stress period:     2    Time step:    66\n",
      "    Solving:  Stress period:     2    Time step:    67\n",
      "    Solving:  Stress period:     2    Time step:    68\n",
      "    Solving:  Stress period:     2    Time step:    69\n"
     ]
    },
    {
     "name": "stdout",
     "output_type": "stream",
     "text": [
      "    Solving:  Stress period:     2    Time step:    70\n"
     ]
    },
    {
     "name": "stdout",
     "output_type": "stream",
     "text": [
      "    Solving:  Stress period:     2    Time step:    71\n",
      "    Solving:  Stress period:     2    Time step:    72\n",
      "    Solving:  Stress period:     2    Time step:    73\n",
      "    Solving:  Stress period:     2    Time step:    74\n",
      "    Solving:  Stress period:     2    Time step:    75\n",
      "    Solving:  Stress period:     2    Time step:    76\n",
      "    Solving:  Stress period:     2    Time step:    77\n",
      "    Solving:  Stress period:     2    Time step:    78\n",
      "    Solving:  Stress period:     2    Time step:    79\n",
      "    Solving:  Stress period:     2    Time step:    80\n",
      "    Solving:  Stress period:     2    Time step:    81\n",
      "    Solving:  Stress period:     2    Time step:    82\n",
      "    Solving:  Stress period:     2    Time step:    83\n",
      "    Solving:  Stress period:     2    Time step:    84\n",
      "    Solving:  Stress period:     2    Time step:    85\n",
      "    Solving:  Stress period:     2    Time step:    86\n",
      "    Solving:  Stress period:     2    Time step:    87\n",
      "    Solving:  Stress period:     2    Time step:    88\n",
      "    Solving:  Stress period:     2    Time step:    89\n",
      "    Solving:  Stress period:     2    Time step:    90\n",
      "    Solving:  Stress period:     2    Time step:    91\n",
      "    Solving:  Stress period:     2    Time step:    92\n",
      "    Solving:  Stress period:     2    Time step:    93\n",
      "    Solving:  Stress period:     2    Time step:    94\n",
      "    Solving:  Stress period:     2    Time step:    95\n",
      "    Solving:  Stress period:     2    Time step:    96\n",
      "    Solving:  Stress period:     2    Time step:    97\n",
      "    Solving:  Stress period:     2    Time step:    98\n"
     ]
    },
    {
     "name": "stdout",
     "output_type": "stream",
     "text": [
      "    Solving:  Stress period:     2    Time step:    99\n",
      "    Solving:  Stress period:     2    Time step:   100\n",
      "    Solving:  Stress period:     2    Time step:   101\n",
      "    Solving:  Stress period:     2    Time step:   102\n",
      "    Solving:  Stress period:     2    Time step:   103\n",
      "    Solving:  Stress period:     2    Time step:   104\n",
      "    Solving:  Stress period:     2    Time step:   105\n",
      "    Solving:  Stress period:     2    Time step:   106\n",
      "    Solving:  Stress period:     2    Time step:   107\n",
      "    Solving:  Stress period:     2    Time step:   108\n",
      "    Solving:  Stress period:     2    Time step:   109\n",
      "    Solving:  Stress period:     2    Time step:   110\n"
     ]
    },
    {
     "name": "stdout",
     "output_type": "stream",
     "text": [
      "    Solving:  Stress period:     2    Time step:   111\n"
     ]
    },
    {
     "name": "stdout",
     "output_type": "stream",
     "text": [
      "    Solving:  Stress period:     2    Time step:   112\n",
      "    Solving:  Stress period:     2    Time step:   113\n",
      "    Solving:  Stress period:     2    Time step:   114\n",
      "    Solving:  Stress period:     2    Time step:   115\n",
      "    Solving:  Stress period:     2    Time step:   116\n",
      "    Solving:  Stress period:     2    Time step:   117\n",
      "    Solving:  Stress period:     2    Time step:   118\n",
      "    Solving:  Stress period:     2    Time step:   119\n",
      "    Solving:  Stress period:     2    Time step:   120\n",
      "    Solving:  Stress period:     3    Time step:     1\n",
      "    Solving:  Stress period:     3    Time step:     2\n",
      "    Solving:  Stress period:     3    Time step:     3\n",
      "    Solving:  Stress period:     3    Time step:     4\n",
      "    Solving:  Stress period:     3    Time step:     5\n",
      "    Solving:  Stress period:     3    Time step:     6\n",
      "    Solving:  Stress period:     3    Time step:     7\n",
      "    Solving:  Stress period:     3    Time step:     8\n",
      "    Solving:  Stress period:     3    Time step:     9\n",
      "    Solving:  Stress period:     3    Time step:    10\n",
      "    Solving:  Stress period:     3    Time step:    11\n",
      "    Solving:  Stress period:     3    Time step:    12\n",
      "    Solving:  Stress period:     3    Time step:    13\n",
      "    Solving:  Stress period:     3    Time step:    14\n",
      "    Solving:  Stress period:     3    Time step:    15\n",
      "    Solving:  Stress period:     3    Time step:    16\n"
     ]
    },
    {
     "name": "stdout",
     "output_type": "stream",
     "text": [
      "    Solving:  Stress period:     3    Time step:    17\n",
      "    Solving:  Stress period:     3    Time step:    18\n",
      "    Solving:  Stress period:     3    Time step:    19\n",
      "    Solving:  Stress period:     3    Time step:    20\n",
      "    Solving:  Stress period:     3    Time step:    21\n",
      "    Solving:  Stress period:     3    Time step:    22\n",
      "    Solving:  Stress period:     3    Time step:    23\n",
      "    Solving:  Stress period:     3    Time step:    24\n",
      "    Solving:  Stress period:     3    Time step:    25\n",
      "    Solving:  Stress period:     3    Time step:    26\n",
      "    Solving:  Stress period:     3    Time step:    27\n",
      "    Solving:  Stress period:     3    Time step:    28\n",
      "    Solving:  Stress period:     3    Time step:    29\n",
      "    Solving:  Stress period:     3    Time step:    30\n"
     ]
    },
    {
     "name": "stdout",
     "output_type": "stream",
     "text": [
      "    Solving:  Stress period:     3    Time step:    31\n"
     ]
    },
    {
     "name": "stdout",
     "output_type": "stream",
     "text": [
      "    Solving:  Stress period:     3    Time step:    32\n",
      "    Solving:  Stress period:     3    Time step:    33\n",
      "    Solving:  Stress period:     3    Time step:    34\n",
      "    Solving:  Stress period:     3    Time step:    35\n",
      "    Solving:  Stress period:     3    Time step:    36\n",
      "    Solving:  Stress period:     3    Time step:    37\n",
      "    Solving:  Stress period:     3    Time step:    38\n",
      "    Solving:  Stress period:     3    Time step:    39\n",
      "    Solving:  Stress period:     3    Time step:    40\n",
      "    Solving:  Stress period:     3    Time step:    41\n",
      "    Solving:  Stress period:     3    Time step:    42\n",
      "    Solving:  Stress period:     3    Time step:    43\n",
      "    Solving:  Stress period:     3    Time step:    44\n",
      "    Solving:  Stress period:     3    Time step:    45\n",
      "    Solving:  Stress period:     3    Time step:    46\n",
      "    Solving:  Stress period:     3    Time step:    47\n",
      "    Solving:  Stress period:     3    Time step:    48\n",
      "    Solving:  Stress period:     3    Time step:    49\n",
      "    Solving:  Stress period:     3    Time step:    50\n",
      "    Solving:  Stress period:     3    Time step:    51\n",
      "    Solving:  Stress period:     3    Time step:    52\n",
      "    Solving:  Stress period:     3    Time step:    53\n",
      "    Solving:  Stress period:     3    Time step:    54\n",
      "    Solving:  Stress period:     3    Time step:    55\n",
      "    Solving:  Stress period:     3    Time step:    56\n",
      "    Solving:  Stress period:     3    Time step:    57\n",
      "    Solving:  Stress period:     3    Time step:    58\n"
     ]
    },
    {
     "name": "stdout",
     "output_type": "stream",
     "text": [
      "    Solving:  Stress period:     3    Time step:    59\n",
      "    Solving:  Stress period:     3    Time step:    60\n",
      "    Solving:  Stress period:     3    Time step:    61\n",
      "    Solving:  Stress period:     3    Time step:    62\n",
      "    Solving:  Stress period:     3    Time step:    63\n",
      "    Solving:  Stress period:     3    Time step:    64\n",
      "    Solving:  Stress period:     3    Time step:    65\n",
      "    Solving:  Stress period:     3    Time step:    66\n",
      "    Solving:  Stress period:     3    Time step:    67\n",
      "    Solving:  Stress period:     3    Time step:    68\n",
      "    Solving:  Stress period:     3    Time step:    69\n",
      "    Solving:  Stress period:     3    Time step:    70\n",
      "    Solving:  Stress period:     3    Time step:    71\n"
     ]
    },
    {
     "name": "stdout",
     "output_type": "stream",
     "text": [
      "    Solving:  Stress period:     3    Time step:    72\n"
     ]
    },
    {
     "name": "stdout",
     "output_type": "stream",
     "text": [
      "    Solving:  Stress period:     3    Time step:    73\n",
      "    Solving:  Stress period:     3    Time step:    74\n",
      "    Solving:  Stress period:     3    Time step:    75\n",
      "    Solving:  Stress period:     3    Time step:    76\n",
      "    Solving:  Stress period:     3    Time step:    77\n",
      "    Solving:  Stress period:     3    Time step:    78\n",
      "    Solving:  Stress period:     3    Time step:    79\n",
      "    Solving:  Stress period:     3    Time step:    80\n",
      "    Solving:  Stress period:     3    Time step:    81\n",
      "    Solving:  Stress period:     3    Time step:    82\n",
      "    Solving:  Stress period:     3    Time step:    83\n",
      "    Solving:  Stress period:     3    Time step:    84\n",
      "    Solving:  Stress period:     3    Time step:    85\n",
      "    Solving:  Stress period:     3    Time step:    86\n",
      "    Solving:  Stress period:     3    Time step:    87\n",
      "    Solving:  Stress period:     3    Time step:    88\n",
      "    Solving:  Stress period:     3    Time step:    89\n",
      "    Solving:  Stress period:     3    Time step:    90\n",
      "    Solving:  Stress period:     3    Time step:    91\n",
      "    Solving:  Stress period:     3    Time step:    92\n",
      "    Solving:  Stress period:     3    Time step:    93\n",
      "    Solving:  Stress period:     3    Time step:    94\n",
      "    Solving:  Stress period:     3    Time step:    95\n",
      "    Solving:  Stress period:     3    Time step:    96\n",
      "    Solving:  Stress period:     3    Time step:    97\n",
      "    Solving:  Stress period:     3    Time step:    98\n",
      "    Solving:  Stress period:     3    Time step:    99\n",
      "    Solving:  Stress period:     3    Time step:   100\n",
      "    Solving:  Stress period:     3    Time step:   101\n",
      "    Solving:  Stress period:     3    Time step:   102\n"
     ]
    },
    {
     "name": "stdout",
     "output_type": "stream",
     "text": [
      "    Solving:  Stress period:     3    Time step:   103\n",
      "    Solving:  Stress period:     3    Time step:   104\n",
      "    Solving:  Stress period:     3    Time step:   105\n",
      "    Solving:  Stress period:     3    Time step:   106\n",
      "    Solving:  Stress period:     3    Time step:   107\n",
      "    Solving:  Stress period:     3    Time step:   108\n",
      "    Solving:  Stress period:     3    Time step:   109\n",
      "    Solving:  Stress period:     3    Time step:   110\n",
      "    Solving:  Stress period:     3    Time step:   111\n",
      "    Solving:  Stress period:     3    Time step:   112\n",
      "    Solving:  Stress period:     3    Time step:   113\n",
      "    Solving:  Stress period:     3    Time step:   114\n"
     ]
    },
    {
     "name": "stdout",
     "output_type": "stream",
     "text": [
      "    Solving:  Stress period:     3    Time step:   115\n"
     ]
    },
    {
     "name": "stdout",
     "output_type": "stream",
     "text": [
      "    Solving:  Stress period:     3    Time step:   116\n",
      "    Solving:  Stress period:     3    Time step:   117\n",
      "    Solving:  Stress period:     3    Time step:   118\n",
      "    Solving:  Stress period:     3    Time step:   119\n",
      "    Solving:  Stress period:     3    Time step:   120\n",
      "    Solving:  Stress period:     4    Time step:     1\n",
      "    Solving:  Stress period:     4    Time step:     2\n",
      "    Solving:  Stress period:     4    Time step:     3\n",
      "    Solving:  Stress period:     4    Time step:     4\n",
      "    Solving:  Stress period:     4    Time step:     5\n",
      "    Solving:  Stress period:     4    Time step:     6\n",
      "    Solving:  Stress period:     4    Time step:     7\n",
      "    Solving:  Stress period:     4    Time step:     8\n",
      "    Solving:  Stress period:     4    Time step:     9\n",
      "    Solving:  Stress period:     4    Time step:    10\n",
      "    Solving:  Stress period:     4    Time step:    11\n",
      "    Solving:  Stress period:     4    Time step:    12\n",
      "    Solving:  Stress period:     4    Time step:    13\n",
      "    Solving:  Stress period:     4    Time step:    14\n",
      "    Solving:  Stress period:     4    Time step:    15\n",
      "    Solving:  Stress period:     4    Time step:    16\n",
      "    Solving:  Stress period:     4    Time step:    17\n",
      "    Solving:  Stress period:     4    Time step:    18\n"
     ]
    },
    {
     "name": "stdout",
     "output_type": "stream",
     "text": [
      "    Solving:  Stress period:     4    Time step:    19\n",
      "    Solving:  Stress period:     4    Time step:    20\n",
      "    Solving:  Stress period:     4    Time step:    21\n",
      "    Solving:  Stress period:     4    Time step:    22\n",
      "    Solving:  Stress period:     4    Time step:    23\n",
      "    Solving:  Stress period:     4    Time step:    24\n",
      "    Solving:  Stress period:     4    Time step:    25\n",
      "    Solving:  Stress period:     4    Time step:    26\n",
      "    Solving:  Stress period:     4    Time step:    27\n",
      "    Solving:  Stress period:     4    Time step:    28\n",
      "    Solving:  Stress period:     4    Time step:    29\n",
      "    Solving:  Stress period:     4    Time step:    30\n",
      "    Solving:  Stress period:     4    Time step:    31\n"
     ]
    },
    {
     "name": "stdout",
     "output_type": "stream",
     "text": [
      "    Solving:  Stress period:     4    Time step:    32\n"
     ]
    },
    {
     "name": "stdout",
     "output_type": "stream",
     "text": [
      "    Solving:  Stress period:     4    Time step:    33\n",
      "    Solving:  Stress period:     4    Time step:    34\n",
      "    Solving:  Stress period:     4    Time step:    35\n",
      "    Solving:  Stress period:     4    Time step:    36\n",
      "    Solving:  Stress period:     4    Time step:    37\n",
      "    Solving:  Stress period:     4    Time step:    38\n",
      "    Solving:  Stress period:     4    Time step:    39\n",
      "    Solving:  Stress period:     4    Time step:    40\n",
      "    Solving:  Stress period:     4    Time step:    41\n",
      "    Solving:  Stress period:     4    Time step:    42\n",
      "    Solving:  Stress period:     4    Time step:    43\n",
      "    Solving:  Stress period:     4    Time step:    44\n",
      "    Solving:  Stress period:     4    Time step:    45\n",
      "    Solving:  Stress period:     4    Time step:    46\n",
      "    Solving:  Stress period:     4    Time step:    47\n",
      "    Solving:  Stress period:     4    Time step:    48\n",
      "    Solving:  Stress period:     4    Time step:    49\n",
      "    Solving:  Stress period:     4    Time step:    50\n",
      "    Solving:  Stress period:     4    Time step:    51\n",
      "    Solving:  Stress period:     4    Time step:    52\n",
      "    Solving:  Stress period:     4    Time step:    53\n",
      "    Solving:  Stress period:     4    Time step:    54\n",
      "    Solving:  Stress period:     4    Time step:    55\n",
      "    Solving:  Stress period:     4    Time step:    56\n",
      "    Solving:  Stress period:     4    Time step:    57\n",
      "    Solving:  Stress period:     4    Time step:    58\n",
      "    Solving:  Stress period:     4    Time step:    59\n",
      "    Solving:  Stress period:     4    Time step:    60\n",
      "    Solving:  Stress period:     4    Time step:    61\n"
     ]
    },
    {
     "name": "stdout",
     "output_type": "stream",
     "text": [
      "    Solving:  Stress period:     4    Time step:    62\n",
      "    Solving:  Stress period:     4    Time step:    63\n",
      "    Solving:  Stress period:     4    Time step:    64\n",
      "    Solving:  Stress period:     4    Time step:    65\n",
      "    Solving:  Stress period:     4    Time step:    66\n",
      "    Solving:  Stress period:     4    Time step:    67\n",
      "    Solving:  Stress period:     4    Time step:    68\n",
      "    Solving:  Stress period:     4    Time step:    69\n",
      "    Solving:  Stress period:     4    Time step:    70\n",
      "    Solving:  Stress period:     4    Time step:    71\n",
      "    Solving:  Stress period:     4    Time step:    72\n",
      "    Solving:  Stress period:     4    Time step:    73\n",
      "    Solving:  Stress period:     4    Time step:    74\n",
      "    Solving:  Stress period:     4    Time step:    75\n"
     ]
    },
    {
     "name": "stdout",
     "output_type": "stream",
     "text": [
      "    Solving:  Stress period:     4    Time step:    76\n"
     ]
    },
    {
     "name": "stdout",
     "output_type": "stream",
     "text": [
      "    Solving:  Stress period:     4    Time step:    77\n",
      "    Solving:  Stress period:     4    Time step:    78\n",
      "    Solving:  Stress period:     4    Time step:    79\n",
      "    Solving:  Stress period:     4    Time step:    80\n",
      "    Solving:  Stress period:     4    Time step:    81\n",
      "    Solving:  Stress period:     4    Time step:    82\n",
      "    Solving:  Stress period:     4    Time step:    83\n",
      "    Solving:  Stress period:     4    Time step:    84\n",
      "    Solving:  Stress period:     4    Time step:    85\n",
      "    Solving:  Stress period:     4    Time step:    86\n",
      "    Solving:  Stress period:     4    Time step:    87\n",
      "    Solving:  Stress period:     4    Time step:    88\n",
      "    Solving:  Stress period:     4    Time step:    89\n",
      "    Solving:  Stress period:     4    Time step:    90\n",
      "    Solving:  Stress period:     4    Time step:    91\n",
      "    Solving:  Stress period:     4    Time step:    92\n",
      "    Solving:  Stress period:     4    Time step:    93\n",
      "    Solving:  Stress period:     4    Time step:    94\n",
      "    Solving:  Stress period:     4    Time step:    95\n",
      "    Solving:  Stress period:     4    Time step:    96\n",
      "    Solving:  Stress period:     4    Time step:    97\n",
      "    Solving:  Stress period:     4    Time step:    98\n",
      "    Solving:  Stress period:     4    Time step:    99\n",
      "    Solving:  Stress period:     4    Time step:   100\n",
      "    Solving:  Stress period:     4    Time step:   101\n",
      "    Solving:  Stress period:     4    Time step:   102\n"
     ]
    },
    {
     "name": "stdout",
     "output_type": "stream",
     "text": [
      "    Solving:  Stress period:     4    Time step:   103\n",
      "    Solving:  Stress period:     4    Time step:   104\n",
      "    Solving:  Stress period:     4    Time step:   105\n",
      "    Solving:  Stress period:     4    Time step:   106\n",
      "    Solving:  Stress period:     4    Time step:   107\n",
      "    Solving:  Stress period:     4    Time step:   108\n",
      "    Solving:  Stress period:     4    Time step:   109\n",
      "    Solving:  Stress period:     4    Time step:   110\n",
      "    Solving:  Stress period:     4    Time step:   111\n",
      "    Solving:  Stress period:     4    Time step:   112\n"
     ]
    },
    {
     "name": "stdout",
     "output_type": "stream",
     "text": [
      "    Solving:  Stress period:     4    Time step:   113\n",
      "    Solving:  Stress period:     4    Time step:   114\n"
     ]
    },
    {
     "name": "stdout",
     "output_type": "stream",
     "text": [
      "    Solving:  Stress period:     4    Time step:   115\n",
      "    Solving:  Stress period:     4    Time step:   116\n",
      "    Solving:  Stress period:     4    Time step:   117\n",
      "    Solving:  Stress period:     4    Time step:   118\n",
      "    Solving:  Stress period:     4    Time step:   119\n",
      "    Solving:  Stress period:     4    Time step:   120\n",
      " \n",
      " Run end date and time (yyyy/mm/dd hh:mm:ss): 2020/10/26 15:56:16\n",
      " Elapsed run time:  1.879 Seconds\n",
      " \n",
      "\n",
      "WARNING REPORT:\n",
      "\n",
      "  1. NONLINEAR BLOCK VARIABLE 'OUTER_HCLOSE' IN FILE 'advgw_tidal.ims' WAS\n",
      "     DEPRECATED IN VERSION 6.1.1. SETTING OUTER_DVCLOSE TO OUTER_HCLOSE VALUE.\n",
      "  2. LINEAR BLOCK VARIABLE 'INNER_HCLOSE' IN FILE 'advgw_tidal.ims' WAS\n",
      "     DEPRECATED IN VERSION 6.1.1. SETTING INNER_DVCLOSE TO INNER_HCLOSE VALUE.\n",
      " Normal termination of simulation.\n",
      "\n",
      "Success is:  True\n"
     ]
    }
   ],
   "source": [
    "# Run the simulation\n",
    "success, buff = sim.run_simulation()\n",
    "print('\\nSuccess is: ', success)"
   ]
  },
  {
   "cell_type": "markdown",
   "metadata": {},
   "source": [
    "### Post-Process Head Results\n",
    "\n",
    "Post-processing MODFLOW 6 results is still a work in progress.  There aren't any Flopy plotting functions built in yet, like they are for other MODFLOW versions.  So we need to plot the results using general Flopy capabilities.  We can also use some of the Flopy ModelMap capabilities for MODFLOW 6, but in order to do so, we need to manually create a SpatialReference object, that is needed for the plotting.  Examples of both approaches are shown below.\n",
    "\n",
    "First, a link to the heads file is created with `HeadFile`. The link can then be accessed with the `get_data` function, by specifying, in this case, the step number and period number for which we want to retrieve data. A three-dimensional array is returned of size `nlay, nrow, ncol`. Matplotlib contouring functions are used to make contours of the layers or a cross-section."
   ]
  },
  {
   "cell_type": "code",
   "execution_count": 19,
   "metadata": {},
   "outputs": [],
   "source": [
    "# Read the binary head file and plot the results\n",
    "# We can use the existing Flopy HeadFile class because\n",
    "# the format of the headfile for MODFLOW 6 is the same\n",
    "# as for previous MODFLOW verions\n",
    "headfile = '{}.hds'.format(model_name)\n",
    "fname = os.path.join(workspace, headfile)\n",
    "hds = flopy.utils.binaryfile.HeadFile(fname)\n",
    "h = hds.get_data()"
   ]
  },
  {
   "cell_type": "code",
   "execution_count": 20,
   "metadata": {},
   "outputs": [
    {
     "data": {
      "image/png": "[encoded data removed]",
      "text/plain": [
       "<Figure size 720x720 with 1 Axes>"
      ]
     },
     "metadata": {
      "needs_background": "light"
     },
     "output_type": "display_data"
    }
   ],
   "source": [
    "# We can also use the Flopy PlotMapView capabilities for MODFLOW 6\n",
    "fig = plt.figure(figsize=(10, 10))\n",
    "ax = fig.add_subplot(1, 1, 1, aspect='equal')\n",
    "\n",
    "# Next we create an instance of the ModelMap class\n",
    "modelmap = flopy.plot.PlotMapView(model=gwf, ax=ax)\n",
    "\n",
    "# Then we can use the plot_grid() method to draw the grid\n",
    "# The return value for this function is a matplotlib LineCollection object,\n",
    "# which could be manipulated (or used) later if necessary.\n",
    "#quadmesh = modelmap.plot_ibound(ibound=ibd)\n",
    "linecollection = modelmap.plot_grid()\n",
    "contours = modelmap.contour_array(h[0])"
   ]
  },
  {
   "cell_type": "markdown",
   "metadata": {},
   "source": [
    "### Post-Process Flows\n",
    "\n",
    "MODFLOW 6 writes a binary grid file, which contains information about the model grid.  MODFLOW 6 also writes a binary budget file, which contains flow information.  Both of these files can be read using Flopy capabilities.  The MfGrdFile class in Flopy can be used to read the binary grid file.  The CellBudgetFile class in Flopy can be used to read the binary budget file written by MODFLOW 6."
   ]
  },
  {
   "cell_type": "code",
   "execution_count": 21,
   "metadata": {},
   "outputs": [
    {
     "data": {
      "text/plain": [
       "OrderedDict([('NCELLS', 450),\n",
       "             ('NLAY', 3),\n",
       "             ('NROW', 15),\n",
       "             ('NCOL', 10),\n",
       "             ('NJA', 2700),\n",
       "             ('XORIGIN', 0.0),\n",
       "             ('YORIGIN', 0.0),\n",
       "             ('ANGROT', 0.0),\n",
       "             ('DELR',\n",
       "              array([500., 500., 500., 500., 500., 500., 500., 500., 500., 500.])),\n",
       "             ('DELC',\n",
       "              array([500., 500., 500., 500., 500., 500., 500., 500., 500., 500., 500.,\n",
       "                     500., 500., 500., 500.])),\n",
       "             ('TOP',\n",
       "              array([[50., 50., 50., 50., 50., 50., 50., 50., 50., 50.],\n",
       "                     [50., 50., 50., 50., 50., 50., 50., 50., 50., 50.],\n",
       "                     [50., 50., 50., 50., 50., 50., 50., 50., 50., 50.],\n",
       "                     [50., 50., 50., 50., 50., 50., 50., 50., 50., 50.],\n",
       "                     [50., 50., 50., 50., 50., 50., 50., 50., 50., 50.],\n",
       "                     [50., 50., 50., 50., 50., 50., 50., 50., 50., 50.],\n",
       "                     [50., 50., 50., 50., 50., 50., 50., 50., 50., 50.],\n",
       "                     [50., 50., 50., 50., 50., 50., 50., 50., 50., 50.],\n",
       "                     [50., 50., 50., 50., 50., 50., 50., 50., 50., 50.],\n",
       "                     [50., 50., 50., 50., 50., 50., 50., 50., 50., 50.],\n",
       "                     [50., 50., 50., 50., 50., 50., 50., 50., 50., 50.],\n",
       "                     [50., 50., 50., 50., 50., 50., 50., 50., 50., 50.],\n",
       "                     [50., 50., 50., 50., 50., 50., 50., 50., 50., 50.],\n",
       "                     [50., 50., 50., 50., 50., 50., 50., 50., 50., 50.],\n",
       "                     [50., 50., 50., 50., 50., 50., 50., 50., 50., 50.]])),\n",
       "             ('BOTM',\n",
       "              array([[[   5.,    5.,    5.,    5.,    5.,    5.,    5.,    5.,    5.,\n",
       "                          5.],\n",
       "                      [   5.,    5.,    5.,    5.,    5.,    5.,    5.,    5.,    5.,\n",
       "                          5.],\n",
       "                      [   5.,    5.,    5.,    5.,    5.,    5.,    5.,    5.,    5.,\n",
       "                          5.],\n",
       "                      [   5.,    5.,    5.,    5.,    5.,    5.,    5.,    5.,    5.,\n",
       "                          5.],\n",
       "                      [   5.,    5.,    5.,    5.,    5.,    5.,    5.,    5.,    5.,\n",
       "                          5.],\n",
       "                      [   5.,    5.,    5.,    5.,    5.,    5.,    5.,    5.,    5.,\n",
       "                          5.],\n",
       "                      [   5.,    5.,    5.,    5.,    5.,    5.,    5.,    5.,    5.,\n",
       "                          5.],\n",
       "                      [   5.,    5.,    5.,    5.,    5.,    5.,    5.,    5.,    5.,\n",
       "                          5.],\n",
       "                      [   5.,    5.,    5.,    5.,    5.,    5.,    5.,    5.,    5.,\n",
       "                          5.],\n",
       "                      [   5.,    5.,    5.,    5.,    5.,    5.,    5.,    5.,    5.,\n",
       "                          5.],\n",
       "                      [   5.,    5.,    5.,    5.,    5.,    5.,    5.,    5.,    5.,\n",
       "                          5.],\n",
       "                      [   5.,    5.,    5.,    5.,    5.,    5.,    5.,    5.,    5.,\n",
       "                          5.],\n",
       "                      [   5.,    5.,    5.,    5.,    5.,    5.,    5.,    5.,    5.,\n",
       "                          5.],\n",
       "                      [   5.,    5.,    5.,    5.,    5.,    5.,    5.,    5.,    5.,\n",
       "                          5.],\n",
       "                      [   5.,    5.,    5.,    5.,    5.,    5.,    5.,    5.,    5.,\n",
       "                          5.]],\n",
       "              \n",
       "                     [[ -10.,  -10.,  -10.,  -10.,  -10.,  -10.,  -10.,  -10.,  -10.,\n",
       "                        -10.],\n",
       "                      [ -10.,  -10.,  -10.,  -10.,  -10.,  -10.,  -10.,  -10.,  -10.,\n",
       "                        -10.],\n",
       "                      [ -10.,  -10.,  -10.,  -10.,  -10.,  -10.,  -10.,  -10.,  -10.,\n",
       "                        -10.],\n",
       "                      [ -10.,  -10.,  -10.,  -10.,  -10.,  -10.,  -10.,  -10.,  -10.,\n",
       "                        -10.],\n",
       "                      [ -10.,  -10.,  -10.,  -10.,  -10.,  -10.,  -10.,  -10.,  -10.,\n",
       "                        -10.],\n",
       "                      [ -10.,  -10.,  -10.,  -10.,  -10.,  -10.,  -10.,  -10.,  -10.,\n",
       "                        -10.],\n",
       "                      [ -10.,  -10.,  -10.,  -10.,  -10.,  -10.,  -10.,  -10.,  -10.,\n",
       "                        -10.],\n",
       "                      [ -10.,  -10.,  -10.,  -10.,  -10.,  -10.,  -10.,  -10.,  -10.,\n",
       "                        -10.],\n",
       "                      [ -10.,  -10.,  -10.,  -10.,  -10.,  -10.,  -10.,  -10.,  -10.,\n",
       "                        -10.],\n",
       "                      [ -10.,  -10.,  -10.,  -10.,  -10.,  -10.,  -10.,  -10.,  -10.,\n",
       "                        -10.],\n",
       "                      [ -10.,  -10.,  -10.,  -10.,  -10.,  -10.,  -10.,  -10.,  -10.,\n",
       "                        -10.],\n",
       "                      [ -10.,  -10.,  -10.,  -10.,  -10.,  -10.,  -10.,  -10.,  -10.,\n",
       "                        -10.],\n",
       "                      [ -10.,  -10.,  -10.,  -10.,  -10.,  -10.,  -10.,  -10.,  -10.,\n",
       "                        -10.],\n",
       "                      [ -10.,  -10.,  -10.,  -10.,  -10.,  -10.,  -10.,  -10.,  -10.,\n",
       "                        -10.],\n",
       "                      [ -10.,  -10.,  -10.,  -10.,  -10.,  -10.,  -10.,  -10.,  -10.,\n",
       "                        -10.]],\n",
       "              \n",
       "                     [[-100., -100., -100., -100., -100., -100., -100., -100., -100.,\n",
       "                       -100.],\n",
       "                      [-100., -100., -100., -100., -100., -100., -100., -100., -100.,\n",
       "                       -100.],\n",
       "                      [-100., -100., -100., -100., -100., -100., -100., -100., -100.,\n",
       "                       -100.],\n",
       "                      [-100., -100., -100., -100., -100., -100., -100., -100., -100.,\n",
       "                       -100.],\n",
       "                      [-100., -100., -100., -100., -100., -100., -100., -100., -100.,\n",
       "                       -100.],\n",
       "                      [-100., -100., -100., -100., -100., -100., -100., -100., -100.,\n",
       "                       -100.],\n",
       "                      [-100., -100., -100., -100., -100., -100., -100., -100., -100.,\n",
       "                       -100.],\n",
       "                      [-100., -100., -100., -100., -100., -100., -100., -100., -100.,\n",
       "                       -100.],\n",
       "                      [-100., -100., -100., -100., -100., -100., -100., -100., -100.,\n",
       "                       -100.],\n",
       "                      [-100., -100., -100., -100., -100., -100., -100., -100., -100.,\n",
       "                       -100.],\n",
       "                      [-100., -100., -100., -100., -100., -100., -100., -100., -100.,\n",
       "                       -100.],\n",
       "                      [-100., -100., -100., -100., -100., -100., -100., -100., -100.,\n",
       "                       -100.],\n",
       "                      [-100., -100., -100., -100., -100., -100., -100., -100., -100.,\n",
       "                       -100.],\n",
       "                      [-100., -100., -100., -100., -100., -100., -100., -100., -100.,\n",
       "                       -100.],\n",
       "                      [-100., -100., -100., -100., -100., -100., -100., -100., -100.,\n",
       "                       -100.]]])),\n",
       "             ('IA',\n",
       "              array([   1,    5,   10,   15,   20,   25,   30,   35,   40,   45,   49,\n",
       "                       54,   60,   66,   72,   78,   84,   90,   96,  102,  107,  112,\n",
       "                      118,  124,  130,  136,  142,  148,  154,  160,  165,  170,  176,\n",
       "                      182,  188,  194,  200,  206,  212,  218,  223,  228,  234,  240,\n",
       "                      246,  252,  258,  264,  270,  276,  281,  286,  292,  298,  304,\n",
       "                      310,  316,  322,  328,  334,  339,  344,  350,  356,  362,  368,\n",
       "                      374,  380,  386,  392,  397,  402,  408,  414,  420,  426,  432,\n",
       "                      438,  444,  450,  455,  460,  466,  472,  478,  484,  490,  496,\n",
       "                      502,  508,  513,  518,  524,  530,  536,  542,  548,  554,  560,\n",
       "                      566,  571,  576,  582,  588,  594,  600,  606,  612,  618,  624,\n",
       "                      629,  634,  640,  646,  652,  658,  664,  670,  676,  682,  687,\n",
       "                      692,  698,  704,  710,  716,  722,  728,  734,  740,  745,  750,\n",
       "                      756,  762,  768,  774,  780,  786,  792,  798,  803,  807,  812,\n",
       "                      817,  822,  827,  832,  837,  842,  847,  851,  856,  862,  868,\n",
       "                      874,  880,  886,  892,  898,  904,  909,  915,  922,  929,  936,\n",
       "                      943,  950,  957,  964,  971,  977,  983,  990,  997, 1004, 1011,\n",
       "                     1018, 1025, 1032, 1039, 1045, 1051, 1058, 1065, 1072, 1079, 1086,\n",
       "                     1093, 1100, 1107, 1113, 1119, 1126, 1133, 1140, 1147, 1154, 1161,\n",
       "                     1168, 1175, 1181, 1187, 1194, 1201, 1208, 1215, 1222, 1229, 1236,\n",
       "                     1243, 1249, 1255, 1262, 1269, 1276, 1283, 1290, 1297, 1304, 1311,\n",
       "                     1317, 1323, 1330, 1337, 1344, 1351, 1358, 1365, 1372, 1379, 1385,\n",
       "                     1391, 1398, 1405, 1412, 1419, 1426, 1433, 1440, 1447, 1453, 1459,\n",
       "                     1466, 1473, 1480, 1487, 1494, 1501, 1508, 1515, 1521, 1527, 1534,\n",
       "                     1541, 1548, 1555, 1562, 1569, 1576, 1583, 1589, 1595, 1602, 1609,\n",
       "                     1616, 1623, 1630, 1637, 1644, 1651, 1657, 1663, 1670, 1677, 1684,\n",
       "                     1691, 1698, 1705, 1712, 1719, 1725, 1731, 1738, 1745, 1752, 1759,\n",
       "                     1766, 1773, 1780, 1787, 1793, 1798, 1804, 1810, 1816, 1822, 1828,\n",
       "                     1834, 1840, 1846, 1851, 1855, 1860, 1865, 1870, 1875, 1880, 1885,\n",
       "                     1890, 1895, 1899, 1904, 1910, 1916, 1922, 1928, 1934, 1940, 1946,\n",
       "                     1952, 1957, 1962, 1968, 1974, 1980, 1986, 1992, 1998, 2004, 2010,\n",
       "                     2015, 2020, 2026, 2032, 2038, 2044, 2050, 2056, 2062, 2068, 2073,\n",
       "                     2078, 2084, 2090, 2096, 2102, 2108, 2114, 2120, 2126, 2131, 2136,\n",
       "                     2142, 2148, 2154, 2160, 2166, 2172, 2178, 2184, 2189, 2194, 2200,\n",
       "                     2206, 2212, 2218, 2224, 2230, 2236, 2242, 2247, 2252, 2258, 2264,\n",
       "                     2270, 2276, 2282, 2288, 2294, 2300, 2305, 2310, 2316, 2322, 2328,\n",
       "                     2334, 2340, 2346, 2352, 2358, 2363, 2368, 2374, 2380, 2386, 2392,\n",
       "                     2398, 2404, 2410, 2416, 2421, 2426, 2432, 2438, 2444, 2450, 2456,\n",
       "                     2462, 2468, 2474, 2479, 2484, 2490, 2496, 2502, 2508, 2514, 2520,\n",
       "                     2526, 2532, 2537, 2542, 2548, 2554, 2560, 2566, 2572, 2578, 2584,\n",
       "                     2590, 2595, 2600, 2606, 2612, 2618, 2624, 2630, 2636, 2642, 2648,\n",
       "                     2653, 2657, 2662, 2667, 2672, 2677, 2682, 2687, 2692, 2697, 2701],\n",
       "                    dtype=int32)),\n",
       "             ('JA', array([  1,   2,  11, ..., 300, 440, 449], dtype=int32)),\n",
       "             ('IDOMAIN',\n",
       "              array([1, 1, 1, 1, 1, 1, 1, 1, 1, 1, 1, 1, 1, 1, 1, 1, 1, 1, 1, 1, 1, 1,\n",
       "                     1, 1, 1, 1, 1, 1, 1, 1, 1, 1, 1, 1, 1, 1, 1, 1, 1, 1, 1, 1, 1, 1,\n",
       "                     1, 1, 1, 1, 1, 1, 1, 1, 1, 1, 1, 1, 1, 1, 1, 1, 1, 1, 1, 1, 1, 1,\n",
       "                     1, 1, 1, 1, 1, 1, 1, 1, 1, 1, 1, 1, 1, 1, 1, 1, 1, 1, 1, 1, 1, 1,\n",
       "                     1, 1, 1, 1, 1, 1, 1, 1, 1, 1, 1, 1, 1, 1, 1, 1, 1, 1, 1, 1, 1, 1,\n",
       "                     1, 1, 1, 1, 1, 1, 1, 1, 1, 1, 1, 1, 1, 1, 1, 1, 1, 1, 1, 1, 1, 1,\n",
       "                     1, 1, 1, 1, 1, 1, 1, 1, 1, 1, 1, 1, 1, 1, 1, 1, 1, 1, 1, 1, 1, 1,\n",
       "                     1, 1, 1, 1, 1, 1, 1, 1, 1, 1, 1, 1, 1, 1, 1, 1, 1, 1, 1, 1, 1, 1,\n",
       "                     1, 1, 1, 1, 1, 1, 1, 1, 1, 1, 1, 1, 1, 1, 1, 1, 1, 1, 1, 1, 1, 1,\n",
       "                     1, 1, 1, 1, 1, 1, 1, 1, 1, 1, 1, 1, 1, 1, 1, 1, 1, 1, 1, 1, 1, 1,\n",
       "                     1, 1, 1, 1, 1, 1, 1, 1, 1, 1, 1, 1, 1, 1, 1, 1, 1, 1, 1, 1, 1, 1,\n",
       "                     1, 1, 1, 1, 1, 1, 1, 1, 1, 1, 1, 1, 1, 1, 1, 1, 1, 1, 1, 1, 1, 1,\n",
       "                     1, 1, 1, 1, 1, 1, 1, 1, 1, 1, 1, 1, 1, 1, 1, 1, 1, 1, 1, 1, 1, 1,\n",
       "                     1, 1, 1, 1, 1, 1, 1, 1, 1, 1, 1, 1, 1, 1, 1, 1, 1, 1, 1, 1, 1, 1,\n",
       "                     1, 1, 1, 1, 1, 1, 1, 1, 1, 1, 1, 1, 1, 1, 1, 1, 1, 1, 1, 1, 1, 1,\n",
       "                     1, 1, 1, 1, 1, 1, 1, 1, 1, 1, 1, 1, 1, 1, 1, 1, 1, 1, 1, 1, 1, 1,\n",
       "                     1, 1, 1, 1, 1, 1, 1, 1, 1, 1, 1, 1, 1, 1, 1, 1, 1, 1, 1, 1, 1, 1,\n",
       "                     1, 1, 1, 1, 1, 1, 1, 1, 1, 1, 1, 1, 1, 1, 1, 1, 1, 1, 1, 1, 1, 1,\n",
       "                     1, 1, 1, 1, 1, 1, 1, 1, 1, 1, 1, 1, 1, 1, 1, 1, 1, 1, 1, 1, 1, 1,\n",
       "                     1, 1, 1, 1, 1, 1, 1, 1, 1, 1, 1, 1, 1, 1, 1, 1, 1, 1, 1, 1, 1, 1,\n",
       "                     1, 1, 1, 1, 1, 1, 1, 1, 1, 1], dtype=int32)),\n",
       "             ('ICELLTYPE',\n",
       "              array([1, 1, 1, 1, 1, 1, 1, 1, 1, 1, 1, 1, 1, 1, 1, 1, 1, 1, 1, 1, 1, 1,\n",
       "                     1, 1, 1, 1, 1, 1, 1, 1, 1, 1, 1, 1, 1, 1, 1, 1, 1, 1, 1, 1, 1, 1,\n",
       "                     1, 1, 1, 1, 1, 1, 1, 1, 1, 1, 1, 1, 1, 1, 1, 1, 1, 1, 1, 1, 1, 1,\n",
       "                     1, 1, 1, 1, 1, 1, 1, 1, 1, 1, 1, 1, 1, 1, 1, 1, 1, 1, 1, 1, 1, 1,\n",
       "                     1, 1, 1, 1, 1, 1, 1, 1, 1, 1, 1, 1, 1, 1, 1, 1, 1, 1, 1, 1, 1, 1,\n",
       "                     1, 1, 1, 1, 1, 1, 1, 1, 1, 1, 1, 1, 1, 1, 1, 1, 1, 1, 1, 1, 1, 1,\n",
       "                     1, 1, 1, 1, 1, 1, 1, 1, 1, 1, 1, 1, 1, 1, 1, 1, 1, 1, 0, 0, 0, 0,\n",
       "                     0, 0, 0, 0, 0, 0, 0, 0, 0, 0, 0, 0, 0, 0, 0, 0, 0, 0, 0, 0, 0, 0,\n",
       "                     0, 0, 0, 0, 0, 0, 0, 0, 0, 0, 0, 0, 0, 0, 0, 0, 0, 0, 0, 0, 0, 0,\n",
       "                     0, 0, 0, 0, 0, 0, 0, 0, 0, 0, 0, 0, 0, 0, 0, 0, 0, 0, 0, 0, 0, 0,\n",
       "                     0, 0, 0, 0, 0, 0, 0, 0, 0, 0, 0, 0, 0, 0, 0, 0, 0, 0, 0, 0, 0, 0,\n",
       "                     0, 0, 0, 0, 0, 0, 0, 0, 0, 0, 0, 0, 0, 0, 0, 0, 0, 0, 0, 0, 0, 0,\n",
       "                     0, 0, 0, 0, 0, 0, 0, 0, 0, 0, 0, 0, 0, 0, 0, 0, 0, 0, 0, 0, 0, 0,\n",
       "                     0, 0, 0, 0, 0, 0, 0, 0, 0, 0, 0, 0, 0, 0, 0, 0, 0, 0, 0, 0, 0, 0,\n",
       "                     0, 0, 0, 0, 0, 0, 0, 0, 0, 0, 0, 0, 0, 0, 0, 0, 0, 0, 0, 0, 0, 0,\n",
       "                     0, 0, 0, 0, 0, 0, 0, 0, 0, 0, 0, 0, 0, 0, 0, 0, 0, 0, 0, 0, 0, 0,\n",
       "                     0, 0, 0, 0, 0, 0, 0, 0, 0, 0, 0, 0, 0, 0, 0, 0, 0, 0, 0, 0, 0, 0,\n",
       "                     0, 0, 0, 0, 0, 0, 0, 0, 0, 0, 0, 0, 0, 0, 0, 0, 0, 0, 0, 0, 0, 0,\n",
       "                     0, 0, 0, 0, 0, 0, 0, 0, 0, 0, 0, 0, 0, 0, 0, 0, 0, 0, 0, 0, 0, 0,\n",
       "                     0, 0, 0, 0, 0, 0, 0, 0, 0, 0, 0, 0, 0, 0, 0, 0, 0, 0, 0, 0, 0, 0,\n",
       "                     0, 0, 0, 0, 0, 0, 0, 0, 0, 0], dtype=int32))])"
      ]
     },
     "execution_count": 21,
     "metadata": {},
     "output_type": "execute_result"
    }
   ],
   "source": [
    "# read the binary grid file\n",
    "fname = os.path.join(workspace, '{}.dis.grb'.format(model_name))\n",
    "bgf = flopy.utils.mfgrdfile.MfGrdFile(fname)\n",
    "\n",
    "# data read from the binary grid file is stored in a dictionary\n",
    "bgf._datadict"
   ]
  },
  {
   "cell_type": "code",
   "execution_count": 22,
   "metadata": {},
   "outputs": [],
   "source": [
    "# Information from the binary grid file is easily retrieved\n",
    "ia = bgf._datadict['IA'] - 1\n",
    "ja = bgf._datadict['JA'] - 1"
   ]
  },
  {
   "cell_type": "code",
   "execution_count": 23,
   "metadata": {},
   "outputs": [],
   "source": [
    "# read the cell budget file\n",
    "fname = os.path.join(workspace, '{}.cbb'.format(model_name))\n",
    "cbb = flopy.utils.CellBudgetFile(fname, precision='double')\n",
    "#cbb.list_records()\n",
    "\n",
    "flowja = cbb.get_data(text='FLOW-JA-FACE')[0][0, 0, :]"
   ]
  },
  {
   "cell_type": "code",
   "execution_count": 24,
   "metadata": {},
   "outputs": [
    {
     "name": "stdout",
     "output_type": "stream",
     "text": [
      "Printing flows for cell 413\n",
      "Cell 413 flow with cell 263 is 251.46262091207623\n",
      "Cell 413 flow with cell 403 is 0.7176346498656017\n",
      "Cell 413 flow with cell 412 is 439.8629968543804\n",
      "Cell 413 flow with cell 414 is -693.4212447574185\n",
      "Cell 413 flow with cell 423 is 1.3779378787739915\n"
     ]
    }
   ],
   "source": [
    "# By having the ia and ja arrays and the flow-ja-face we can look at\n",
    "# the flows for any cell and process them in the follow manner.\n",
    "k = 2; i = 7; j = 7\n",
    "celln = k * nrow * ncol + i * nrow + j\n",
    "print('Printing flows for cell {}'.format(celln + 1))\n",
    "for ipos in range(ia[celln] + 1, ia[celln + 1]):\n",
    "    cellm = ja[ipos]  # change from one-based to zero-based\n",
    "    print('Cell {} flow with cell {} is {}'.format(celln + 1, cellm + 1, flowja[ipos]))"
   ]
  },
  {
   "cell_type": "code",
   "execution_count": 25,
   "metadata": {},
   "outputs": [
    {
     "data": {
      "text/plain": [
       "<matplotlib.legend.Legend at 0x126fd7b10>"
      ]
     },
     "execution_count": 25,
     "metadata": {},
     "output_type": "execute_result"
    },
    {
     "data": {
      "image/png": "[encoded data removed]",
      "text/plain": [
       "<Figure size 432x288 with 1 Axes>"
      ]
     },
     "metadata": {
      "needs_background": "light"
     },
     "output_type": "display_data"
    }
   ],
   "source": [
    "fname = 'head-hydrographs.csv'\n",
    "fname = os.path.join(workspace, fname)\n",
    "csv = np.genfromtxt(fname, delimiter=',', dtype=None, names=True)\n",
    "for name in csv.dtype.names[1:]:\n",
    "    plt.plot(csv['time'], csv[name], label=name)\n",
    "plt.legend()"
   ]
  }
 ],
 "metadata": {
  "anaconda-cloud": {},
  "kernelspec": {
   "display_name": "Python 3",
   "language": "python",
   "name": "python3"
  },
  "language_info": {
   "codemirror_mode": {
    "name": "ipython",
    "version": 3
   },
   "file_extension": ".py",
   "mimetype": "text/x-python",
   "name": "python",
   "nbconvert_exporter": "python",
   "pygments_lexer": "ipython3",
   "version": "3.7.7"
  }
 },
 "nbformat": 4,
 "nbformat_minor": 2
}
