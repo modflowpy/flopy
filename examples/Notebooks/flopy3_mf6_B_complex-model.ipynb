{
 "cells": [
  {
   "cell_type": "markdown",
   "metadata": {},
   "source": [
    "# FloPy\n",
    "\n",
    "## Creating a Complex MODFLOW 6 Model with Flopy\n",
    "\n",
    "The purpose of this notebook is to demonstrate the Flopy capabilities for building a more complex MODFLOW 6 model from scratch.  This notebook will demonstrate the capabilities by replicating the advgw_tidal model that is distributed with MODFLOW 6."
   ]
  },
  {
   "cell_type": "markdown",
   "metadata": {},
   "source": [
    "### Setup the Notebook Environment"
   ]
  },
  {
   "cell_type": "code",
   "execution_count": 1,
   "metadata": {
    "execution": {
     "iopub.execute_input": "2022-07-30T20:16:40.085630Z",
     "iopub.status.busy": "2022-07-30T20:16:40.085282Z",
     "iopub.status.idle": "2022-07-30T20:16:40.949475Z",
     "shell.execute_reply": "2022-07-30T20:16:40.948676Z"
    }
   },
   "outputs": [
    {
     "name": "stdout",
     "output_type": "stream",
     "text": [
      "3.10.5 (v3.10.5:f377153967, Jun  6 2022, 12:36:10) [Clang 13.0.0 (clang-1300.0.29.30)]\n",
      "numpy version: 1.23.1\n",
      "matplotlib version: 3.5.2\n",
      "flopy version: 3.3.6\n"
     ]
    }
   ],
   "source": [
    "import sys\n",
    "import os\n",
    "import platform\n",
    "from tempfile import TemporaryDirectory\n",
    "\n",
    "import numpy as np\n",
    "import matplotlib as mpl\n",
    "import matplotlib.pyplot as plt\n",
    "\n",
    "# run installed version of flopy or add local path\n",
    "try:\n",
    "    import flopy\n",
    "except:\n",
    "    fpth = os.path.abspath(os.path.join(\"..\", \"..\"))\n",
    "    sys.path.append(fpth)\n",
    "    import flopy\n",
    "\n",
    "print(sys.version)\n",
    "print(\"numpy version: {}\".format(np.__version__))\n",
    "print(\"matplotlib version: {}\".format(mpl.__version__))\n",
    "print(\"flopy version: {}\".format(flopy.__version__))"
   ]
  },
  {
   "cell_type": "code",
   "execution_count": 2,
   "metadata": {
    "execution": {
     "iopub.execute_input": "2022-07-30T20:16:40.987071Z",
     "iopub.status.busy": "2022-07-30T20:16:40.986715Z",
     "iopub.status.idle": "2022-07-30T20:16:40.991328Z",
     "shell.execute_reply": "2022-07-30T20:16:40.990444Z"
    }
   },
   "outputs": [],
   "source": [
    "# For this example, we will set up a temporary workspace.\n",
    "# Model input files and output files will reside here.\n",
    "temp_dir = TemporaryDirectory()\n",
    "model_name = \"advgw_tidal\"\n",
    "workspace = os.path.join(temp_dir.name, model_name)"
   ]
  },
  {
   "cell_type": "code",
   "execution_count": 3,
   "metadata": {
    "execution": {
     "iopub.execute_input": "2022-07-30T20:16:40.995165Z",
     "iopub.status.busy": "2022-07-30T20:16:40.994835Z",
     "iopub.status.idle": "2022-07-30T20:16:40.999076Z",
     "shell.execute_reply": "2022-07-30T20:16:40.998341Z"
    }
   },
   "outputs": [],
   "source": [
    "data_pth = os.path.join(\n",
    "    \"..\", \"data\", \"mf6\", \"create_tests\", \"test005_advgw_tidal\"\n",
    ")\n",
    "assert os.path.isdir(data_pth)"
   ]
  },
  {
   "cell_type": "code",
   "execution_count": 4,
   "metadata": {
    "execution": {
     "iopub.execute_input": "2022-07-30T20:16:41.002634Z",
     "iopub.status.busy": "2022-07-30T20:16:41.002350Z",
     "iopub.status.idle": "2022-07-30T20:16:41.056455Z",
     "shell.execute_reply": "2022-07-30T20:16:41.055706Z"
    }
   },
   "outputs": [],
   "source": [
    "# create simulation\n",
    "sim = flopy.mf6.MFSimulation(\n",
    "    sim_name=model_name, version=\"mf6\", exe_name=\"mf6\", sim_ws=workspace\n",
    ")\n",
    "\n",
    "# create tdis package\n",
    "tdis_rc = [(1.0, 1, 1.0), (10.0, 120, 1.0), (10.0, 120, 1.0), (10.0, 120, 1.0)]\n",
    "tdis = flopy.mf6.ModflowTdis(\n",
    "    sim, pname=\"tdis\", time_units=\"DAYS\", nper=4, perioddata=tdis_rc\n",
    ")\n",
    "\n",
    "# create gwf model\n",
    "gwf = flopy.mf6.ModflowGwf(\n",
    "    sim, modelname=model_name, model_nam_file=\"{}.nam\".format(model_name)\n",
    ")\n",
    "gwf.name_file.save_flows = True\n",
    "\n",
    "# create iterative model solution and register the gwf model with it\n",
    "ims = flopy.mf6.ModflowIms(\n",
    "    sim,\n",
    "    pname=\"ims\",\n",
    "    print_option=\"SUMMARY\",\n",
    "    complexity=\"SIMPLE\",\n",
    "    outer_dvclose=0.0001,\n",
    "    outer_maximum=500,\n",
    "    under_relaxation=\"NONE\",\n",
    "    inner_maximum=100,\n",
    "    inner_dvclose=0.0001,\n",
    "    rcloserecord=0.001,\n",
    "    linear_acceleration=\"CG\",\n",
    "    scaling_method=\"NONE\",\n",
    "    reordering_method=\"NONE\",\n",
    "    relaxation_factor=0.97,\n",
    ")\n",
    "sim.register_ims_package(ims, [gwf.name])"
   ]
  },
  {
   "cell_type": "code",
   "execution_count": 5,
   "metadata": {
    "execution": {
     "iopub.execute_input": "2022-07-30T20:16:41.060267Z",
     "iopub.status.busy": "2022-07-30T20:16:41.059967Z",
     "iopub.status.idle": "2022-07-30T20:16:41.084606Z",
     "shell.execute_reply": "2022-07-30T20:16:41.083792Z"
    }
   },
   "outputs": [],
   "source": [
    "# discretization package\n",
    "nlay = 3\n",
    "nrow = 15\n",
    "ncol = 10\n",
    "botlay2 = {\"factor\": 1.0, \"data\": [-100 for x in range(150)]}\n",
    "dis = flopy.mf6.ModflowGwfdis(\n",
    "    gwf,\n",
    "    pname=\"dis\",\n",
    "    nlay=nlay,\n",
    "    nrow=nrow,\n",
    "    ncol=ncol,\n",
    "    delr=500.0,\n",
    "    delc=500.0,\n",
    "    top=50.0,\n",
    "    botm=[5.0, -10.0, botlay2],\n",
    "    filename=\"{}.dis\".format(model_name),\n",
    ")\n",
    "\n",
    "# initial conditions\n",
    "ic = flopy.mf6.ModflowGwfic(\n",
    "    gwf, pname=\"ic\", strt=50.0, filename=\"{}.ic\".format(model_name)\n",
    ")\n",
    "\n",
    "# node property flow\n",
    "npf = flopy.mf6.ModflowGwfnpf(\n",
    "    gwf,\n",
    "    pname=\"npf\",\n",
    "    save_flows=True,\n",
    "    icelltype=[1, 0, 0],\n",
    "    k=[5.0, 0.1, 4.0],\n",
    "    k33=[0.5, 0.005, 0.1],\n",
    ")\n",
    "\n",
    "# output control\n",
    "oc = flopy.mf6.ModflowGwfoc(\n",
    "    gwf,\n",
    "    pname=\"oc\",\n",
    "    budget_filerecord=\"{}.cbb\".format(model_name),\n",
    "    head_filerecord=\"{}.hds\".format(model_name),\n",
    "    headprintrecord=[(\"COLUMNS\", 10, \"WIDTH\", 15, \"DIGITS\", 6, \"GENERAL\")],\n",
    "    saverecord=[(\"HEAD\", \"ALL\"), (\"BUDGET\", \"ALL\")],\n",
    "    printrecord=[(\"HEAD\", \"FIRST\"), (\"HEAD\", \"LAST\"), (\"BUDGET\", \"LAST\")],\n",
    ")"
   ]
  },
  {
   "cell_type": "code",
   "execution_count": 6,
   "metadata": {
    "execution": {
     "iopub.execute_input": "2022-07-30T20:16:41.087919Z",
     "iopub.status.busy": "2022-07-30T20:16:41.087642Z",
     "iopub.status.idle": "2022-07-30T20:16:41.094825Z",
     "shell.execute_reply": "2022-07-30T20:16:41.093963Z"
    }
   },
   "outputs": [],
   "source": [
    "# storage package\n",
    "sy = flopy.mf6.ModflowGwfsto.sy.empty(gwf, layered=True)\n",
    "for layer in range(0, 3):\n",
    "    sy[layer][\"data\"] = 0.2\n",
    "\n",
    "ss = flopy.mf6.ModflowGwfsto.ss.empty(\n",
    "    gwf, layered=True, default_value=0.000001\n",
    ")\n",
    "\n",
    "sto = flopy.mf6.ModflowGwfsto(\n",
    "    gwf,\n",
    "    pname=\"sto\",\n",
    "    save_flows=True,\n",
    "    iconvert=1,\n",
    "    ss=ss,\n",
    "    sy=sy,\n",
    "    steady_state={0: True},\n",
    "    transient={1: True},\n",
    ")"
   ]
  },
  {
   "cell_type": "code",
   "execution_count": 7,
   "metadata": {
    "execution": {
     "iopub.execute_input": "2022-07-30T20:16:41.098706Z",
     "iopub.status.busy": "2022-07-30T20:16:41.098390Z",
     "iopub.status.idle": "2022-07-30T20:16:41.175458Z",
     "shell.execute_reply": "2022-07-30T20:16:41.174721Z"
    }
   },
   "outputs": [],
   "source": [
    "# well package\n",
    "# test empty with aux vars, bound names, and time series\n",
    "period_two = flopy.mf6.ModflowGwfwel.stress_period_data.empty(\n",
    "    gwf,\n",
    "    maxbound=3,\n",
    "    aux_vars=[\"var1\", \"var2\", \"var3\"],\n",
    "    boundnames=True,\n",
    "    timeseries=True,\n",
    ")\n",
    "period_two[0][0] = ((0, 11, 2), -50.0, -1, -2, -3, None)\n",
    "period_two[0][1] = ((2, 4, 7), \"well_1_rate\", 1, 2, 3, \"well_1\")\n",
    "period_two[0][2] = ((2, 3, 2), \"well_2_rate\", 4, 5, 6, \"well_2\")\n",
    "period_three = flopy.mf6.ModflowGwfwel.stress_period_data.empty(\n",
    "    gwf,\n",
    "    maxbound=2,\n",
    "    aux_vars=[\"var1\", \"var2\", \"var3\"],\n",
    "    boundnames=True,\n",
    "    timeseries=True,\n",
    ")\n",
    "period_three[0][0] = ((2, 3, 2), \"well_2_rate\", 1, 2, 3, \"well_2\")\n",
    "period_three[0][1] = ((2, 4, 7), \"well_1_rate\", 4, 5, 6, \"well_1\")\n",
    "period_four = flopy.mf6.ModflowGwfwel.stress_period_data.empty(\n",
    "    gwf,\n",
    "    maxbound=5,\n",
    "    aux_vars=[\"var1\", \"var2\", \"var3\"],\n",
    "    boundnames=True,\n",
    "    timeseries=True,\n",
    ")\n",
    "period_four[0][0] = ((2, 4, 7), \"well_1_rate\", 1, 2, 3, \"well_1\")\n",
    "period_four[0][1] = ((2, 3, 2), \"well_2_rate\", 4, 5, 6, \"well_2\")\n",
    "period_four[0][2] = ((0, 11, 2), -10.0, 7, 8, 9, None)\n",
    "period_four[0][3] = ((0, 2, 4), -20.0, 17, 18, 19, None)\n",
    "period_four[0][4] = ((0, 13, 5), -40.0, 27, 28, 29, None)\n",
    "stress_period_data = {}\n",
    "stress_period_data[1] = period_two[0]\n",
    "stress_period_data[2] = period_three[0]\n",
    "stress_period_data[3] = period_four[0]\n",
    "wel = flopy.mf6.ModflowGwfwel(\n",
    "    gwf,\n",
    "    pname=\"wel\",\n",
    "    print_input=True,\n",
    "    print_flows=True,\n",
    "    auxiliary=[(\"var1\", \"var2\", \"var3\")],\n",
    "    maxbound=5,\n",
    "    stress_period_data=stress_period_data,\n",
    "    boundnames=True,\n",
    "    save_flows=True,\n",
    ")\n",
    "\n",
    "# well ts package\n",
    "ts_data = [\n",
    "    (0.0, 0.0, 0.0, 0.0),\n",
    "    (1.0, -200.0, 0.0, -100.0),\n",
    "    (11.0, -1800.0, -500.0, -200.0),\n",
    "    (21.0, -200.0, -400.0, -300.0),\n",
    "    (31.0, 0.0, -600.0, -400.0),\n",
    "]\n",
    "wel.ts.initialize(\n",
    "    filename=\"well-rates.ts\",\n",
    "    timeseries=ts_data,\n",
    "    time_series_namerecord=[(\"well_1_rate\", \"well_2_rate\", \"well_3_rate\")],\n",
    "    interpolation_methodrecord=[(\"stepwise\", \"stepwise\", \"stepwise\")],\n",
    ")"
   ]
  },
  {
   "cell_type": "code",
   "execution_count": 8,
   "metadata": {
    "execution": {
     "iopub.execute_input": "2022-07-30T20:16:41.178973Z",
     "iopub.status.busy": "2022-07-30T20:16:41.178669Z",
     "iopub.status.idle": "2022-07-30T20:16:41.187897Z",
     "shell.execute_reply": "2022-07-30T20:16:41.186909Z"
    }
   },
   "outputs": [],
   "source": [
    "# Evapotranspiration\n",
    "evt_period = flopy.mf6.ModflowGwfevt.stress_period_data.empty(gwf, 150, nseg=3)\n",
    "for col in range(0, 10):\n",
    "    for row in range(0, 15):\n",
    "        evt_period[0][col * 15 + row] = (\n",
    "            (0, row, col),\n",
    "            50.0,\n",
    "            0.0004,\n",
    "            10.0,\n",
    "            0.2,\n",
    "            0.5,\n",
    "            0.3,\n",
    "            0.1,\n",
    "            None,\n",
    "        )\n",
    "evt = flopy.mf6.ModflowGwfevt(\n",
    "    gwf,\n",
    "    pname=\"evt\",\n",
    "    print_input=True,\n",
    "    print_flows=True,\n",
    "    save_flows=True,\n",
    "    maxbound=150,\n",
    "    nseg=3,\n",
    "    stress_period_data=evt_period,\n",
    ")"
   ]
  },
  {
   "cell_type": "code",
   "execution_count": 9,
   "metadata": {
    "execution": {
     "iopub.execute_input": "2022-07-30T20:16:41.191273Z",
     "iopub.status.busy": "2022-07-30T20:16:41.191003Z",
     "iopub.status.idle": "2022-07-30T20:16:41.217218Z",
     "shell.execute_reply": "2022-07-30T20:16:41.216541Z"
    }
   },
   "outputs": [],
   "source": [
    "# General-Head Boundaries\n",
    "ghb_period = {}\n",
    "ghb_period_array = []\n",
    "for layer, cond in zip(range(1, 3), [15.0, 1500.0]):\n",
    "    for row in range(0, 15):\n",
    "        ghb_period_array.append(((layer, row, 9), \"tides\", cond, \"Estuary-L2\"))\n",
    "ghb_period[0] = ghb_period_array\n",
    "ghb = flopy.mf6.ModflowGwfghb(\n",
    "    gwf,\n",
    "    pname=\"ghb\",\n",
    "    print_input=True,\n",
    "    print_flows=True,\n",
    "    save_flows=True,\n",
    "    boundnames=True,\n",
    "    maxbound=30,\n",
    "    stress_period_data=ghb_period,\n",
    ")\n",
    "ts_recarray = []\n",
    "fd = open(os.path.join(data_pth, \"tides.txt\"), \"r\")\n",
    "for line in fd:\n",
    "    line_list = line.strip().split(\",\")\n",
    "    ts_recarray.append((float(line_list[0]), float(line_list[1])))\n",
    "ghb.ts.initialize(\n",
    "    filename=\"tides.ts\",\n",
    "    timeseries=ts_recarray,\n",
    "    time_series_namerecord=\"tides\",\n",
    "    interpolation_methodrecord=\"linear\",\n",
    ")\n",
    "obs_recarray = {\n",
    "    \"ghb_obs.csv\": [\n",
    "        (\"ghb-2-6-10\", \"GHB\", (1, 5, 9)),\n",
    "        (\"ghb-3-6-10\", \"GHB\", (2, 5, 9)),\n",
    "    ],\n",
    "    \"ghb_flows.csv\": [\n",
    "        (\"Estuary2\", \"GHB\", \"Estuary-L2\"),\n",
    "        (\"Estuary3\", \"GHB\", \"Estuary-L3\"),\n",
    "    ],\n",
    "}\n",
    "ghb.obs.initialize(\n",
    "    filename=\"{}.ghb.obs\".format(model_name),\n",
    "    print_input=True,\n",
    "    continuous=obs_recarray,\n",
    ")"
   ]
  },
  {
   "cell_type": "code",
   "execution_count": 10,
   "metadata": {
    "execution": {
     "iopub.execute_input": "2022-07-30T20:16:41.221053Z",
     "iopub.status.busy": "2022-07-30T20:16:41.220730Z",
     "iopub.status.idle": "2022-07-30T20:16:41.230965Z",
     "shell.execute_reply": "2022-07-30T20:16:41.230178Z"
    }
   },
   "outputs": [],
   "source": [
    "obs_recarray = {\n",
    "    \"head_obs.csv\": [(\"h1_13_8\", \"HEAD\", (2, 12, 7))],\n",
    "    \"intercell_flow_obs1.csv\": [\n",
    "        (\"ICF1_1.0\", \"FLOW-JA-FACE\", (0, 4, 5), (0, 5, 5))\n",
    "    ],\n",
    "    \"head-hydrographs.csv\": [\n",
    "        (\"h3-13-9\", \"HEAD\", (2, 12, 8)),\n",
    "        (\"h3-12-8\", \"HEAD\", (2, 11, 7)),\n",
    "        (\"h1-4-3\", \"HEAD\", (0, 3, 2)),\n",
    "        (\"h1-12-3\", \"HEAD\", (0, 11, 2)),\n",
    "        (\"h1-13-9\", \"HEAD\", (0, 12, 8)),\n",
    "    ],\n",
    "}\n",
    "obs_package = flopy.mf6.ModflowUtlobs(\n",
    "    gwf,\n",
    "    pname=\"head_obs\",\n",
    "    filename=\"{}.obs\".format(model_name),\n",
    "    print_input=True,\n",
    "    continuous=obs_recarray,\n",
    ")"
   ]
  },
  {
   "cell_type": "code",
   "execution_count": 11,
   "metadata": {
    "execution": {
     "iopub.execute_input": "2022-07-30T20:16:41.234638Z",
     "iopub.status.busy": "2022-07-30T20:16:41.234303Z",
     "iopub.status.idle": "2022-07-30T20:16:41.264075Z",
     "shell.execute_reply": "2022-07-30T20:16:41.263034Z"
    }
   },
   "outputs": [],
   "source": [
    "# River\n",
    "riv_period = {}\n",
    "riv_period_array = [\n",
    "    ((0, 2, 0), \"river_stage_1\", 1001.0, 35.9, None),\n",
    "    ((0, 3, 1), \"river_stage_1\", 1002.0, 35.8, None),\n",
    "    ((0, 4, 2), \"river_stage_1\", 1003.0, 35.7, None),\n",
    "    ((0, 4, 3), \"river_stage_1\", 1004.0, 35.6, None),\n",
    "    ((0, 5, 4), \"river_stage_1\", 1005.0, 35.5, None),\n",
    "    ((0, 5, 5), \"river_stage_1\", 1006.0, 35.4, \"riv1_c6\"),\n",
    "    ((0, 5, 6), \"river_stage_1\", 1007.0, 35.3, \"riv1_c7\"),\n",
    "    ((0, 4, 7), \"river_stage_1\", 1008.0, 35.2, None),\n",
    "    ((0, 4, 8), \"river_stage_1\", 1009.0, 35.1, None),\n",
    "    ((0, 4, 9), \"river_stage_1\", 1010.0, 35.0, None),\n",
    "    ((0, 9, 0), \"river_stage_2\", 1001.0, 36.9, \"riv2_upper\"),\n",
    "    ((0, 8, 1), \"river_stage_2\", 1002.0, 36.8, \"riv2_upper\"),\n",
    "    ((0, 7, 2), \"river_stage_2\", 1003.0, 36.7, \"riv2_upper\"),\n",
    "    ((0, 6, 3), \"river_stage_2\", 1004.0, 36.6, None),\n",
    "    ((0, 6, 4), \"river_stage_2\", 1005.0, 36.5, None),\n",
    "    ((0, 5, 5), \"river_stage_2\", 1006.0, 36.4, \"riv2_c6\"),\n",
    "    ((0, 5, 6), \"river_stage_2\", 1007.0, 36.3, \"riv2_c7\"),\n",
    "    ((0, 6, 7), \"river_stage_2\", 1008.0, 36.2, None),\n",
    "    ((0, 6, 8), \"river_stage_2\", 1009.0, 36.1),\n",
    "    ((0, 6, 9), \"river_stage_2\", 1010.0, 36.0),\n",
    "]\n",
    "riv_period[0] = riv_period_array\n",
    "riv = flopy.mf6.ModflowGwfriv(\n",
    "    gwf,\n",
    "    pname=\"riv\",\n",
    "    print_input=True,\n",
    "    print_flows=True,\n",
    "    save_flows=\"{}.cbc\".format(model_name),\n",
    "    boundnames=True,\n",
    "    maxbound=20,\n",
    "    stress_period_data=riv_period,\n",
    ")\n",
    "ts_recarray = [\n",
    "    (0.0, 40.0, 41.0),\n",
    "    (1.0, 41.0, 41.5),\n",
    "    (2.0, 43.0, 42.0),\n",
    "    (3.0, 45.0, 42.8),\n",
    "    (4.0, 44.0, 43.0),\n",
    "    (6.0, 43.0, 43.1),\n",
    "    (9.0, 42.0, 42.4),\n",
    "    (11.0, 41.0, 41.5),\n",
    "    (31.0, 40.0, 41.0),\n",
    "]\n",
    "riv.ts.initialize(\n",
    "    filename=\"river_stages.ts\",\n",
    "    timeseries=ts_recarray,\n",
    "    time_series_namerecord=[(\"river_stage_1\", \"river_stage_2\")],\n",
    "    interpolation_methodrecord=[(\"linear\", \"stepwise\")],\n",
    ")\n",
    "obs_recarray = {\n",
    "    \"riv_obs.csv\": [\n",
    "        (\"rv1-3-1\", \"RIV\", (0, 2, 0)),\n",
    "        (\"rv1-4-2\", \"RIV\", (0, 3, 1)),\n",
    "        (\"rv1-5-3\", \"RIV\", (0, 4, 2)),\n",
    "        (\"rv1-5-4\", \"RIV\", (0, 4, 3)),\n",
    "        (\"rv1-6-5\", \"RIV\", (0, 5, 4)),\n",
    "        (\"rv1-c6\", \"RIV\", \"riv1_c6\"),\n",
    "        (\"rv1-c7\", \"RIV\", \"riv1_c7\"),\n",
    "        (\"rv2-upper\", \"RIV\", \"riv2_upper\"),\n",
    "        (\"rv-2-7-4\", \"RIV\", (0, 6, 3)),\n",
    "        (\"rv2-8-5\", \"RIV\", (0, 6, 4)),\n",
    "        (\n",
    "            \"rv-2-9-6\",\n",
    "            \"RIV\",\n",
    "            (\n",
    "                0,\n",
    "                5,\n",
    "                5,\n",
    "            ),\n",
    "        ),\n",
    "    ],\n",
    "    \"riv_flowsA.csv\": [\n",
    "        (\"riv1-3-1\", \"RIV\", (0, 2, 0)),\n",
    "        (\"riv1-4-2\", \"RIV\", (0, 3, 1)),\n",
    "        (\"riv1-5-3\", \"RIV\", (0, 4, 2)),\n",
    "    ],\n",
    "    \"riv_flowsB.csv\": [\n",
    "        (\"riv2-10-1\", \"RIV\", (0, 9, 0)),\n",
    "        (\"riv-2-9-2\", \"RIV\", (0, 8, 1)),\n",
    "        (\"riv2-8-3\", \"RIV\", (0, 7, 2)),\n",
    "    ],\n",
    "}\n",
    "riv.obs.initialize(\n",
    "    filename=\"{}.riv.obs\".format(model_name),\n",
    "    print_input=True,\n",
    "    continuous=obs_recarray,\n",
    ")"
   ]
  },
  {
   "cell_type": "code",
   "execution_count": 12,
   "metadata": {
    "execution": {
     "iopub.execute_input": "2022-07-30T20:16:41.267410Z",
     "iopub.status.busy": "2022-07-30T20:16:41.267142Z",
     "iopub.status.idle": "2022-07-30T20:16:41.290530Z",
     "shell.execute_reply": "2022-07-30T20:16:41.289900Z"
    }
   },
   "outputs": [],
   "source": [
    "# First recharge package\n",
    "rch1_period = {}\n",
    "rch1_period_array = []\n",
    "col_range = {0: 3, 1: 4, 2: 5}\n",
    "for row in range(0, 15):\n",
    "    if row in col_range:\n",
    "        col_max = col_range[row]\n",
    "    else:\n",
    "        col_max = 6\n",
    "    for col in range(0, col_max):\n",
    "        if (\n",
    "            (row == 3 and col == 5)\n",
    "            or (row == 2 and col == 4)\n",
    "            or (row == 1 and col == 3)\n",
    "            or (row == 0 and col == 2)\n",
    "        ):\n",
    "            mult = 0.5\n",
    "        else:\n",
    "            mult = 1.0\n",
    "        if row == 0 and col == 0:\n",
    "            bnd = \"rch-1-1\"\n",
    "        elif row == 0 and col == 1:\n",
    "            bnd = \"rch-1-2\"\n",
    "        elif row == 1 and col == 2:\n",
    "            bnd = \"rch-2-3\"\n",
    "        else:\n",
    "            bnd = None\n",
    "        rch1_period_array.append(((0, row, col), \"rch_1\", mult, bnd))\n",
    "rch1_period[0] = rch1_period_array\n",
    "rch1 = flopy.mf6.ModflowGwfrch(\n",
    "    gwf,\n",
    "    filename=\"{}_1.rch\".format(model_name),\n",
    "    pname=\"rch_1\",\n",
    "    fixed_cell=True,\n",
    "    auxiliary=\"MULTIPLIER\",\n",
    "    auxmultname=\"MULTIPLIER\",\n",
    "    print_input=True,\n",
    "    print_flows=True,\n",
    "    save_flows=True,\n",
    "    boundnames=True,\n",
    "    maxbound=84,\n",
    "    stress_period_data=rch1_period,\n",
    ")\n",
    "ts_data = [\n",
    "    (0.0, 0.0015),\n",
    "    (1.0, 0.0010),\n",
    "    (11.0, 0.0015),\n",
    "    (21.0, 0.0025),\n",
    "    (31.0, 0.0015),\n",
    "]\n",
    "rch1.ts.initialize(\n",
    "    filename=\"recharge_rates_1.ts\",\n",
    "    timeseries=ts_data,\n",
    "    time_series_namerecord=\"rch_1\",\n",
    "    interpolation_methodrecord=\"stepwise\",\n",
    ")"
   ]
  },
  {
   "cell_type": "code",
   "execution_count": 13,
   "metadata": {
    "execution": {
     "iopub.execute_input": "2022-07-30T20:16:41.294282Z",
     "iopub.status.busy": "2022-07-30T20:16:41.293970Z",
     "iopub.status.idle": "2022-07-30T20:16:41.315595Z",
     "shell.execute_reply": "2022-07-30T20:16:41.314923Z"
    }
   },
   "outputs": [],
   "source": [
    "# Second recharge package\n",
    "rch2_period = {}\n",
    "rch2_period_array = [\n",
    "    ((0, 0, 2), \"rch_2\", 0.5),\n",
    "    ((0, 0, 3), \"rch_2\", 1.0),\n",
    "    ((0, 0, 4), \"rch_2\", 1.0),\n",
    "    ((0, 0, 5), \"rch_2\", 1.0),\n",
    "    ((0, 0, 6), \"rch_2\", 1.0),\n",
    "    ((0, 0, 7), \"rch_2\", 1.0),\n",
    "    ((0, 0, 8), \"rch_2\", 1.0),\n",
    "    ((0, 0, 9), \"rch_2\", 0.5),\n",
    "    ((0, 1, 3), \"rch_2\", 0.5),\n",
    "    ((0, 1, 4), \"rch_2\", 1.0),\n",
    "    ((0, 1, 5), \"rch_2\", 1.0),\n",
    "    ((0, 1, 6), \"rch_2\", 1.0),\n",
    "    ((0, 1, 7), \"rch_2\", 1.0),\n",
    "    ((0, 1, 8), \"rch_2\", 0.5),\n",
    "    ((0, 2, 4), \"rch_2\", 0.5),\n",
    "    ((0, 2, 5), \"rch_2\", 1.0),\n",
    "    ((0, 2, 6), \"rch_2\", 1.0),\n",
    "    ((0, 2, 7), \"rch_2\", 0.5),\n",
    "    ((0, 3, 5), \"rch_2\", 0.5),\n",
    "    ((0, 3, 6), \"rch_2\", 0.5),\n",
    "]\n",
    "rch2_period[0] = rch2_period_array\n",
    "rch2 = flopy.mf6.ModflowGwfrch(\n",
    "    gwf,\n",
    "    filename=\"{}_2.rch\".format(model_name),\n",
    "    pname=\"rch_2\",\n",
    "    fixed_cell=True,\n",
    "    auxiliary=\"MULTIPLIER\",\n",
    "    auxmultname=\"MULTIPLIER\",\n",
    "    print_input=True,\n",
    "    print_flows=True,\n",
    "    save_flows=True,\n",
    "    maxbound=20,\n",
    "    stress_period_data=rch2_period,\n",
    ")\n",
    "ts_data = [\n",
    "    (0.0, 0.0016),\n",
    "    (1.0, 0.0018),\n",
    "    (11.0, 0.0019),\n",
    "    (21.0, 0.0016),\n",
    "    (31.0, 0.0018),\n",
    "]\n",
    "rch2.ts.initialize(\n",
    "    filename=\"recharge_rates_2.ts\",\n",
    "    timeseries=ts_data,\n",
    "    time_series_namerecord=\"rch_2\",\n",
    "    interpolation_methodrecord=\"linear\",\n",
    ")"
   ]
  },
  {
   "cell_type": "code",
   "execution_count": 14,
   "metadata": {
    "execution": {
     "iopub.execute_input": "2022-07-30T20:16:41.319132Z",
     "iopub.status.busy": "2022-07-30T20:16:41.318863Z",
     "iopub.status.idle": "2022-07-30T20:16:41.339998Z",
     "shell.execute_reply": "2022-07-30T20:16:41.339277Z"
    }
   },
   "outputs": [],
   "source": [
    "# Third recharge package\n",
    "rch3_period = {}\n",
    "rch3_period_array = []\n",
    "col_range = {0: 9, 1: 8, 2: 7}\n",
    "for row in range(0, 15):\n",
    "    if row in col_range:\n",
    "        col_min = col_range[row]\n",
    "    else:\n",
    "        col_min = 6\n",
    "    for col in range(col_min, 10):\n",
    "        if (\n",
    "            (row == 0 and col == 9)\n",
    "            or (row == 1 and col == 8)\n",
    "            or (row == 2 and col == 7)\n",
    "            or (row == 3 and col == 6)\n",
    "        ):\n",
    "            mult = 0.5\n",
    "        else:\n",
    "            mult = 1.0\n",
    "        rch3_period_array.append(((0, row, col), \"rch_3\", mult))\n",
    "rch3_period[0] = rch3_period_array\n",
    "rch3 = flopy.mf6.ModflowGwfrch(\n",
    "    gwf,\n",
    "    filename=\"{}_3.rch\".format(model_name),\n",
    "    pname=\"rch_3\",\n",
    "    fixed_cell=True,\n",
    "    auxiliary=\"MULTIPLIER\",\n",
    "    auxmultname=\"MULTIPLIER\",\n",
    "    print_input=True,\n",
    "    print_flows=True,\n",
    "    save_flows=True,\n",
    "    maxbound=54,\n",
    "    stress_period_data=rch3_period,\n",
    ")\n",
    "ts_data = [\n",
    "    (0.0, 0.0017),\n",
    "    (1.0, 0.0020),\n",
    "    (11.0, 0.0017),\n",
    "    (21.0, 0.0018),\n",
    "    (31.0, 0.0020),\n",
    "]\n",
    "rch3.ts.initialize(\n",
    "    filename=\"recharge_rates_3.ts\",\n",
    "    timeseries=ts_data,\n",
    "    time_series_namerecord=\"rch_3\",\n",
    "    interpolation_methodrecord=\"linear\",\n",
    ")"
   ]
  },
  {
   "cell_type": "markdown",
   "metadata": {},
   "source": [
    "### Create the MODFLOW 6 Input Files and Run the Model\n",
    "\n",
    "Once all the flopy objects are created, it is very easy to create all of the input files and run the model."
   ]
  },
  {
   "cell_type": "code",
   "execution_count": 15,
   "metadata": {
    "execution": {
     "iopub.execute_input": "2022-07-30T20:16:41.344176Z",
     "iopub.status.busy": "2022-07-30T20:16:41.343882Z",
     "iopub.status.idle": "2022-07-30T20:16:41.407652Z",
     "shell.execute_reply": "2022-07-30T20:16:41.406718Z"
    }
   },
   "outputs": [
    {
     "name": "stdout",
     "output_type": "stream",
     "text": [
      "writing simulation...\n",
      "  writing simulation name file...\n",
      "  writing simulation tdis package...\n",
      "  writing ims package ims...\n",
      "  writing model advgw_tidal...\n",
      "    writing model name file...\n",
      "    writing package dis...\n",
      "    writing package ic...\n",
      "    writing package npf...\n",
      "    writing package oc...\n",
      "    writing package sto...\n",
      "    writing package wel...\n",
      "    writing package ts_0...\n",
      "    writing package evt...\n",
      "    writing package ghb...\n",
      "    writing package ts_1...\n",
      "    writing package obs_0...\n",
      "    writing package head_obs...\n",
      "    writing package riv...\n",
      "    writing package ts_2...\n",
      "    writing package obs_1...\n",
      "    writing package rch_1...\n",
      "    writing package ts_3...\n",
      "    writing package rch_2...\n",
      "    writing package ts_4...\n",
      "    writing package rch_3...\n",
      "    writing package ts_5...\n"
     ]
    }
   ],
   "source": [
    "# write simulation to new location\n",
    "sim.write_simulation()"
   ]
  },
  {
   "cell_type": "code",
   "execution_count": 16,
   "metadata": {
    "execution": {
     "iopub.execute_input": "2022-07-30T20:16:41.411323Z",
     "iopub.status.busy": "2022-07-30T20:16:41.411028Z",
     "iopub.status.idle": "2022-07-30T20:16:41.415333Z",
     "shell.execute_reply": "2022-07-30T20:16:41.414398Z"
    }
   },
   "outputs": [
    {
     "name": "stdout",
     "output_type": "stream",
     "text": [
      "['advgw_tidal.nam', 'advgw_tidal.ic', 'recharge_rates_1.ts', 'advgw_tidal.sto', 'tides.ts', 'advgw_tidal.ims', 'well-rates.ts', 'advgw_tidal.ghb', 'advgw_tidal.obs', 'advgw_tidal.riv.obs', 'advgw_tidal.dis', 'advgw_tidal_1.rch', 'advgw_tidal_3.rch', 'advgw_tidal_2.rch', 'advgw_tidal.oc', 'river_stages.ts', 'advgw_tidal.wel', 'advgw_tidal.ghb.obs', 'advgw_tidal.npf', 'advgw_tidal.tdis', 'recharge_rates_2.ts', 'mfsim.nam', 'advgw_tidal.riv', 'recharge_rates_3.ts', 'advgw_tidal.evt']\n"
     ]
    }
   ],
   "source": [
    "# Print a list of the files that were created\n",
    "# in workspace\n",
    "print(os.listdir(workspace))"
   ]
  },
  {
   "cell_type": "markdown",
   "metadata": {},
   "source": [
    "### Run the Simulation\n",
    "\n",
    "We can also run the simulation from the notebook, but only if the MODFLOW 6 executable is available.  The executable can be made available by putting the executable in a folder that is listed in the system path variable.  Another option is to just put a copy of the executable in the simulation folder, though this should generally be avoided.  A final option is to provide a full path to the executable when the simulation is constructed.  This would be done by specifying exe_name with the full path."
   ]
  },
  {
   "cell_type": "code",
   "execution_count": 17,
   "metadata": {
    "execution": {
     "iopub.execute_input": "2022-07-30T20:16:41.419162Z",
     "iopub.status.busy": "2022-07-30T20:16:41.418848Z",
     "iopub.status.idle": "2022-07-30T20:16:42.921601Z",
     "shell.execute_reply": "2022-07-30T20:16:42.920396Z"
    }
   },
   "outputs": [
    {
     "name": "stdout",
     "output_type": "stream",
     "text": [
      "FloPy is using the following executable to run the model: /Users/wes/dev/usgs-executables/mf6\n",
      "                                   MODFLOW 6\n",
      "                U.S. GEOLOGICAL SURVEY MODULAR HYDROLOGIC MODEL\n",
      "                            VERSION 6.3.0 03/04/2022\n",
      "\n",
      "   MODFLOW 6 compiled Mar 07 2022 13:50:09 with Intel(R) Fortran Intel(R) 64\n",
      "   Compiler Classic for applications running on Intel(R) 64, Version 2021.5.0\n",
      "                             Build 20211109_000000\n",
      "\n",
      "This software has been approved for release by the U.S. Geological \n",
      "Survey (USGS). Although the software has been subjected to rigorous \n",
      "review, the USGS reserves the right to update the software as needed \n",
      "pursuant to further analysis and review. No warranty, expressed or \n",
      "implied, is made by the USGS or the U.S. Government as to the \n",
      "functionality of the software and related material nor shall the \n",
      "fact of release constitute any such warranty. Furthermore, the \n",
      "software is released on condition that neither the USGS nor the U.S. \n",
      "Government shall be held liable for any damages resulting from its \n",
      "authorized or unauthorized use. Also refer to the USGS Water \n",
      "Resources Software User Rights Notice for complete use, copyright, \n",
      "and distribution information.\n",
      "\n",
      " \n",
      " Run start date and time (yyyy/mm/dd hh:mm:ss): 2022/07/30 16:16:41\n",
      " \n",
      " Writing simulation list file: mfsim.lst\n",
      " Using Simulation name file: mfsim.nam\n",
      " \n",
      "    Solving:  Stress period:     1    Time step:     1\n",
      "    Solving:  Stress period:     2    Time step:     1\n",
      "    Solving:  Stress period:     2    Time step:     2\n",
      "    Solving:  Stress period:     2    Time step:     3\n",
      "    Solving:  Stress period:     2    Time step:     4\n",
      "    Solving:  Stress period:     2    Time step:     5\n",
      "    Solving:  Stress period:     2    Time step:     6\n",
      "    Solving:  Stress period:     2    Time step:     7\n",
      "    Solving:  Stress period:     2    Time step:     8\n",
      "    Solving:  Stress period:     2    Time step:     9\n",
      "    Solving:  Stress period:     2    Time step:    10\n",
      "    Solving:  Stress period:     2    Time step:    11\n",
      "    Solving:  Stress period:     2    Time step:    12\n"
     ]
    },
    {
     "name": "stdout",
     "output_type": "stream",
     "text": [
      "    Solving:  Stress period:     2    Time step:    13\n",
      "    Solving:  Stress period:     2    Time step:    14\n",
      "    Solving:  Stress period:     2    Time step:    15\n",
      "    Solving:  Stress period:     2    Time step:    16\n",
      "    Solving:  Stress period:     2    Time step:    17\n",
      "    Solving:  Stress period:     2    Time step:    18\n",
      "    Solving:  Stress period:     2    Time step:    19\n",
      "    Solving:  Stress period:     2    Time step:    20\n",
      "    Solving:  Stress period:     2    Time step:    21\n",
      "    Solving:  Stress period:     2    Time step:    22\n",
      "    Solving:  Stress period:     2    Time step:    23\n",
      "    Solving:  Stress period:     2    Time step:    24\n",
      "    Solving:  Stress period:     2    Time step:    25\n",
      "    Solving:  Stress period:     2    Time step:    26\n",
      "    Solving:  Stress period:     2    Time step:    27\n",
      "    Solving:  Stress period:     2    Time step:    28\n",
      "    Solving:  Stress period:     2    Time step:    29\n",
      "    Solving:  Stress period:     2    Time step:    30\n",
      "    Solving:  Stress period:     2    Time step:    31\n"
     ]
    },
    {
     "name": "stdout",
     "output_type": "stream",
     "text": [
      "    Solving:  Stress period:     2    Time step:    32\n",
      "    Solving:  Stress period:     2    Time step:    33\n"
     ]
    },
    {
     "name": "stdout",
     "output_type": "stream",
     "text": [
      "    Solving:  Stress period:     2    Time step:    34\n",
      "    Solving:  Stress period:     2    Time step:    35\n",
      "    Solving:  Stress period:     2    Time step:    36\n",
      "    Solving:  Stress period:     2    Time step:    37\n",
      "    Solving:  Stress period:     2    Time step:    38\n",
      "    Solving:  Stress period:     2    Time step:    39\n",
      "    Solving:  Stress period:     2    Time step:    40\n",
      "    Solving:  Stress period:     2    Time step:    41\n",
      "    Solving:  Stress period:     2    Time step:    42\n",
      "    Solving:  Stress period:     2    Time step:    43\n",
      "    Solving:  Stress period:     2    Time step:    44\n",
      "    Solving:  Stress period:     2    Time step:    45\n",
      "    Solving:  Stress period:     2    Time step:    46\n",
      "    Solving:  Stress period:     2    Time step:    47\n",
      "    Solving:  Stress period:     2    Time step:    48\n",
      "    Solving:  Stress period:     2    Time step:    49\n",
      "    Solving:  Stress period:     2    Time step:    50\n",
      "    Solving:  Stress period:     2    Time step:    51\n",
      "    Solving:  Stress period:     2    Time step:    52\n",
      "    Solving:  Stress period:     2    Time step:    53\n",
      "    Solving:  Stress period:     2    Time step:    54\n",
      "    Solving:  Stress period:     2    Time step:    55\n",
      "    Solving:  Stress period:     2    Time step:    56\n",
      "    Solving:  Stress period:     2    Time step:    57\n",
      "    Solving:  Stress period:     2    Time step:    58\n",
      "    Solving:  Stress period:     2    Time step:    59\n",
      "    Solving:  Stress period:     2    Time step:    60\n",
      "    Solving:  Stress period:     2    Time step:    61\n",
      "    Solving:  Stress period:     2    Time step:    62\n",
      "    Solving:  Stress period:     2    Time step:    63\n",
      "    Solving:  Stress period:     2    Time step:    64\n",
      "    Solving:  Stress period:     2    Time step:    65\n",
      "    Solving:  Stress period:     2    Time step:    66\n",
      "    Solving:  Stress period:     2    Time step:    67\n",
      "    Solving:  Stress period:     2    Time step:    68\n"
     ]
    },
    {
     "name": "stdout",
     "output_type": "stream",
     "text": [
      "    Solving:  Stress period:     2    Time step:    69\n",
      "    Solving:  Stress period:     2    Time step:    70\n",
      "    Solving:  Stress period:     2    Time step:    71\n",
      "    Solving:  Stress period:     2    Time step:    72\n",
      "    Solving:  Stress period:     2    Time step:    73\n",
      "    Solving:  Stress period:     2    Time step:    74\n",
      "    Solving:  Stress period:     2    Time step:    75\n",
      "    Solving:  Stress period:     2    Time step:    76\n",
      "    Solving:  Stress period:     2    Time step:    77\n",
      "    Solving:  Stress period:     2    Time step:    78\n",
      "    Solving:  Stress period:     2    Time step:    79\n",
      "    Solving:  Stress period:     2    Time step:    80\n",
      "    Solving:  Stress period:     2    Time step:    81\n"
     ]
    },
    {
     "name": "stdout",
     "output_type": "stream",
     "text": [
      "    Solving:  Stress period:     2    Time step:    82\n",
      "    Solving:  Stress period:     2    Time step:    83\n"
     ]
    },
    {
     "name": "stdout",
     "output_type": "stream",
     "text": [
      "    Solving:  Stress period:     2    Time step:    84\n",
      "    Solving:  Stress period:     2    Time step:    85\n",
      "    Solving:  Stress period:     2    Time step:    86\n",
      "    Solving:  Stress period:     2    Time step:    87\n",
      "    Solving:  Stress period:     2    Time step:    88\n",
      "    Solving:  Stress period:     2    Time step:    89\n",
      "    Solving:  Stress period:     2    Time step:    90\n",
      "    Solving:  Stress period:     2    Time step:    91\n",
      "    Solving:  Stress period:     2    Time step:    92\n",
      "    Solving:  Stress period:     2    Time step:    93\n",
      "    Solving:  Stress period:     2    Time step:    94\n",
      "    Solving:  Stress period:     2    Time step:    95\n",
      "    Solving:  Stress period:     2    Time step:    96\n",
      "    Solving:  Stress period:     2    Time step:    97\n",
      "    Solving:  Stress period:     2    Time step:    98\n",
      "    Solving:  Stress period:     2    Time step:    99\n",
      "    Solving:  Stress period:     2    Time step:   100\n",
      "    Solving:  Stress period:     2    Time step:   101\n",
      "    Solving:  Stress period:     2    Time step:   102\n",
      "    Solving:  Stress period:     2    Time step:   103\n",
      "    Solving:  Stress period:     2    Time step:   104\n",
      "    Solving:  Stress period:     2    Time step:   105\n",
      "    Solving:  Stress period:     2    Time step:   106\n",
      "    Solving:  Stress period:     2    Time step:   107\n",
      "    Solving:  Stress period:     2    Time step:   108\n",
      "    Solving:  Stress period:     2    Time step:   109\n",
      "    Solving:  Stress period:     2    Time step:   110\n",
      "    Solving:  Stress period:     2    Time step:   111\n",
      "    Solving:  Stress period:     2    Time step:   112\n",
      "    Solving:  Stress period:     2    Time step:   113\n",
      "    Solving:  Stress period:     2    Time step:   114\n",
      "    Solving:  Stress period:     2    Time step:   115\n",
      "    Solving:  Stress period:     2    Time step:   116\n",
      "    Solving:  Stress period:     2    Time step:   117\n",
      "    Solving:  Stress period:     2    Time step:   118\n"
     ]
    },
    {
     "name": "stdout",
     "output_type": "stream",
     "text": [
      "    Solving:  Stress period:     2    Time step:   119\n",
      "    Solving:  Stress period:     2    Time step:   120\n",
      "    Solving:  Stress period:     3    Time step:     1\n",
      "    Solving:  Stress period:     3    Time step:     2\n",
      "    Solving:  Stress period:     3    Time step:     3\n",
      "    Solving:  Stress period:     3    Time step:     4\n",
      "    Solving:  Stress period:     3    Time step:     5\n",
      "    Solving:  Stress period:     3    Time step:     6\n",
      "    Solving:  Stress period:     3    Time step:     7\n",
      "    Solving:  Stress period:     3    Time step:     8\n",
      "    Solving:  Stress period:     3    Time step:     9\n",
      "    Solving:  Stress period:     3    Time step:    10\n",
      "    Solving:  Stress period:     3    Time step:    11\n",
      "    Solving:  Stress period:     3    Time step:    12\n",
      "    Solving:  Stress period:     3    Time step:    13\n"
     ]
    },
    {
     "name": "stdout",
     "output_type": "stream",
     "text": [
      "    Solving:  Stress period:     3    Time step:    14\n",
      "    Solving:  Stress period:     3    Time step:    15\n"
     ]
    },
    {
     "name": "stdout",
     "output_type": "stream",
     "text": [
      "    Solving:  Stress period:     3    Time step:    16\n",
      "    Solving:  Stress period:     3    Time step:    17\n",
      "    Solving:  Stress period:     3    Time step:    18\n",
      "    Solving:  Stress period:     3    Time step:    19\n",
      "    Solving:  Stress period:     3    Time step:    20\n",
      "    Solving:  Stress period:     3    Time step:    21\n",
      "    Solving:  Stress period:     3    Time step:    22\n",
      "    Solving:  Stress period:     3    Time step:    23\n",
      "    Solving:  Stress period:     3    Time step:    24\n",
      "    Solving:  Stress period:     3    Time step:    25\n",
      "    Solving:  Stress period:     3    Time step:    26\n",
      "    Solving:  Stress period:     3    Time step:    27\n",
      "    Solving:  Stress period:     3    Time step:    28\n",
      "    Solving:  Stress period:     3    Time step:    29\n",
      "    Solving:  Stress period:     3    Time step:    30\n",
      "    Solving:  Stress period:     3    Time step:    31\n",
      "    Solving:  Stress period:     3    Time step:    32\n",
      "    Solving:  Stress period:     3    Time step:    33\n",
      "    Solving:  Stress period:     3    Time step:    34\n",
      "    Solving:  Stress period:     3    Time step:    35\n",
      "    Solving:  Stress period:     3    Time step:    36\n",
      "    Solving:  Stress period:     3    Time step:    37\n",
      "    Solving:  Stress period:     3    Time step:    38\n",
      "    Solving:  Stress period:     3    Time step:    39\n",
      "    Solving:  Stress period:     3    Time step:    40\n",
      "    Solving:  Stress period:     3    Time step:    41\n",
      "    Solving:  Stress period:     3    Time step:    42\n",
      "    Solving:  Stress period:     3    Time step:    43\n",
      "    Solving:  Stress period:     3    Time step:    44\n",
      "    Solving:  Stress period:     3    Time step:    45\n",
      "    Solving:  Stress period:     3    Time step:    46\n",
      "    Solving:  Stress period:     3    Time step:    47\n",
      "    Solving:  Stress period:     3    Time step:    48\n",
      "    Solving:  Stress period:     3    Time step:    49\n",
      "    Solving:  Stress period:     3    Time step:    50\n",
      "    Solving:  Stress period:     3    Time step:    51\n",
      "    Solving:  Stress period:     3    Time step:    52\n",
      "    Solving:  Stress period:     3    Time step:    53\n",
      "    Solving:  Stress period:     3    Time step:    54\n"
     ]
    },
    {
     "name": "stdout",
     "output_type": "stream",
     "text": [
      "    Solving:  Stress period:     3    Time step:    55\n",
      "    Solving:  Stress period:     3    Time step:    56\n",
      "    Solving:  Stress period:     3    Time step:    57\n",
      "    Solving:  Stress period:     3    Time step:    58\n",
      "    Solving:  Stress period:     3    Time step:    59\n",
      "    Solving:  Stress period:     3    Time step:    60\n",
      "    Solving:  Stress period:     3    Time step:    61\n",
      "    Solving:  Stress period:     3    Time step:    62\n",
      "    Solving:  Stress period:     3    Time step:    63\n",
      "    Solving:  Stress period:     3    Time step:    64\n",
      "    Solving:  Stress period:     3    Time step:    65\n",
      "    Solving:  Stress period:     3    Time step:    66\n",
      "    Solving:  Stress period:     3    Time step:    67\n",
      "    Solving:  Stress period:     3    Time step:    68\n",
      "    Solving:  Stress period:     3    Time step:    69\n",
      "    Solving:  Stress period:     3    Time step:    70\n",
      "    Solving:  Stress period:     3    Time step:    71\n",
      "    Solving:  Stress period:     3    Time step:    72\n",
      "    Solving:  Stress period:     3    Time step:    73\n"
     ]
    },
    {
     "name": "stdout",
     "output_type": "stream",
     "text": [
      "    Solving:  Stress period:     3    Time step:    74\n",
      "    Solving:  Stress period:     3    Time step:    75\n"
     ]
    },
    {
     "name": "stdout",
     "output_type": "stream",
     "text": [
      "    Solving:  Stress period:     3    Time step:    76\n",
      "    Solving:  Stress period:     3    Time step:    77\n",
      "    Solving:  Stress period:     3    Time step:    78\n",
      "    Solving:  Stress period:     3    Time step:    79\n",
      "    Solving:  Stress period:     3    Time step:    80\n",
      "    Solving:  Stress period:     3    Time step:    81\n",
      "    Solving:  Stress period:     3    Time step:    82\n",
      "    Solving:  Stress period:     3    Time step:    83\n",
      "    Solving:  Stress period:     3    Time step:    84\n",
      "    Solving:  Stress period:     3    Time step:    85\n",
      "    Solving:  Stress period:     3    Time step:    86\n",
      "    Solving:  Stress period:     3    Time step:    87\n",
      "    Solving:  Stress period:     3    Time step:    88\n",
      "    Solving:  Stress period:     3    Time step:    89\n",
      "    Solving:  Stress period:     3    Time step:    90\n",
      "    Solving:  Stress period:     3    Time step:    91\n",
      "    Solving:  Stress period:     3    Time step:    92\n",
      "    Solving:  Stress period:     3    Time step:    93\n",
      "    Solving:  Stress period:     3    Time step:    94\n",
      "    Solving:  Stress period:     3    Time step:    95\n",
      "    Solving:  Stress period:     3    Time step:    96\n",
      "    Solving:  Stress period:     3    Time step:    97\n",
      "    Solving:  Stress period:     3    Time step:    98\n",
      "    Solving:  Stress period:     3    Time step:    99\n",
      "    Solving:  Stress period:     3    Time step:   100\n",
      "    Solving:  Stress period:     3    Time step:   101\n",
      "    Solving:  Stress period:     3    Time step:   102\n",
      "    Solving:  Stress period:     3    Time step:   103\n",
      "    Solving:  Stress period:     3    Time step:   104\n",
      "    Solving:  Stress period:     3    Time step:   105\n",
      "    Solving:  Stress period:     3    Time step:   106\n"
     ]
    },
    {
     "name": "stdout",
     "output_type": "stream",
     "text": [
      "    Solving:  Stress period:     3    Time step:   107\n",
      "    Solving:  Stress period:     3    Time step:   108\n",
      "    Solving:  Stress period:     3    Time step:   109\n",
      "    Solving:  Stress period:     3    Time step:   110\n",
      "    Solving:  Stress period:     3    Time step:   111\n",
      "    Solving:  Stress period:     3    Time step:   112\n",
      "    Solving:  Stress period:     3    Time step:   113\n",
      "    Solving:  Stress period:     3    Time step:   114\n",
      "    Solving:  Stress period:     3    Time step:   115\n",
      "    Solving:  Stress period:     3    Time step:   116\n",
      "    Solving:  Stress period:     3    Time step:   117\n",
      "    Solving:  Stress period:     3    Time step:   118\n",
      "    Solving:  Stress period:     3    Time step:   119\n",
      "    Solving:  Stress period:     3    Time step:   120\n"
     ]
    },
    {
     "name": "stdout",
     "output_type": "stream",
     "text": [
      "    Solving:  Stress period:     4    Time step:     1\n",
      "    Solving:  Stress period:     4    Time step:     2\n",
      "    Solving:  Stress period:     4    Time step:     3\n",
      "    Solving:  Stress period:     4    Time step:     4\n",
      "    Solving:  Stress period:     4    Time step:     5\n",
      "    Solving:  Stress period:     4    Time step:     6\n",
      "    Solving:  Stress period:     4    Time step:     7\n",
      "    Solving:  Stress period:     4    Time step:     8\n",
      "    Solving:  Stress period:     4    Time step:     9\n",
      "    Solving:  Stress period:     4    Time step:    10\n",
      "    Solving:  Stress period:     4    Time step:    11\n",
      "    Solving:  Stress period:     4    Time step:    12\n",
      "    Solving:  Stress period:     4    Time step:    13\n",
      "    Solving:  Stress period:     4    Time step:    14\n",
      "    Solving:  Stress period:     4    Time step:    15\n",
      "    Solving:  Stress period:     4    Time step:    16\n",
      "    Solving:  Stress period:     4    Time step:    17\n",
      "    Solving:  Stress period:     4    Time step:    18\n",
      "    Solving:  Stress period:     4    Time step:    19\n",
      "    Solving:  Stress period:     4    Time step:    20\n",
      "    Solving:  Stress period:     4    Time step:    21\n",
      "    Solving:  Stress period:     4    Time step:    22\n",
      "    Solving:  Stress period:     4    Time step:    23\n",
      "    Solving:  Stress period:     4    Time step:    24\n",
      "    Solving:  Stress period:     4    Time step:    25\n",
      "    Solving:  Stress period:     4    Time step:    26\n",
      "    Solving:  Stress period:     4    Time step:    27\n",
      "    Solving:  Stress period:     4    Time step:    28\n",
      "    Solving:  Stress period:     4    Time step:    29\n",
      "    Solving:  Stress period:     4    Time step:    30\n",
      "    Solving:  Stress period:     4    Time step:    31\n",
      "    Solving:  Stress period:     4    Time step:    32\n",
      "    Solving:  Stress period:     4    Time step:    33\n",
      "    Solving:  Stress period:     4    Time step:    34\n",
      "    Solving:  Stress period:     4    Time step:    35\n",
      "    Solving:  Stress period:     4    Time step:    36\n",
      "    Solving:  Stress period:     4    Time step:    37\n",
      "    Solving:  Stress period:     4    Time step:    38\n"
     ]
    },
    {
     "name": "stdout",
     "output_type": "stream",
     "text": [
      "    Solving:  Stress period:     4    Time step:    39\n",
      "    Solving:  Stress period:     4    Time step:    40\n",
      "    Solving:  Stress period:     4    Time step:    41\n",
      "    Solving:  Stress period:     4    Time step:    42\n",
      "    Solving:  Stress period:     4    Time step:    43\n",
      "    Solving:  Stress period:     4    Time step:    44\n",
      "    Solving:  Stress period:     4    Time step:    45\n",
      "    Solving:  Stress period:     4    Time step:    46\n",
      "    Solving:  Stress period:     4    Time step:    47\n",
      "    Solving:  Stress period:     4    Time step:    48\n",
      "    Solving:  Stress period:     4    Time step:    49\n",
      "    Solving:  Stress period:     4    Time step:    50\n",
      "    Solving:  Stress period:     4    Time step:    51\n",
      "    Solving:  Stress period:     4    Time step:    52\n",
      "    Solving:  Stress period:     4    Time step:    53\n",
      "    Solving:  Stress period:     4    Time step:    54\n",
      "    Solving:  Stress period:     4    Time step:    55\n",
      "    Solving:  Stress period:     4    Time step:    56\n",
      "    Solving:  Stress period:     4    Time step:    57\n",
      "    Solving:  Stress period:     4    Time step:    58\n"
     ]
    },
    {
     "name": "stdout",
     "output_type": "stream",
     "text": [
      "    Solving:  Stress period:     4    Time step:    59\n",
      "    Solving:  Stress period:     4    Time step:    60\n",
      "    Solving:  Stress period:     4    Time step:    61\n",
      "    Solving:  Stress period:     4    Time step:    62\n",
      "    Solving:  Stress period:     4    Time step:    63\n",
      "    Solving:  Stress period:     4    Time step:    64\n",
      "    Solving:  Stress period:     4    Time step:    65\n",
      "    Solving:  Stress period:     4    Time step:    66\n",
      "    Solving:  Stress period:     4    Time step:    67\n",
      "    Solving:  Stress period:     4    Time step:    68\n",
      "    Solving:  Stress period:     4    Time step:    69\n",
      "    Solving:  Stress period:     4    Time step:    70\n",
      "    Solving:  Stress period:     4    Time step:    71\n",
      "    Solving:  Stress period:     4    Time step:    72\n",
      "    Solving:  Stress period:     4    Time step:    73\n",
      "    Solving:  Stress period:     4    Time step:    74\n",
      "    Solving:  Stress period:     4    Time step:    75\n",
      "    Solving:  Stress period:     4    Time step:    76\n",
      "    Solving:  Stress period:     4    Time step:    77\n",
      "    Solving:  Stress period:     4    Time step:    78\n",
      "    Solving:  Stress period:     4    Time step:    79\n",
      "    Solving:  Stress period:     4    Time step:    80\n",
      "    Solving:  Stress period:     4    Time step:    81\n",
      "    Solving:  Stress period:     4    Time step:    82\n",
      "    Solving:  Stress period:     4    Time step:    83\n",
      "    Solving:  Stress period:     4    Time step:    84\n",
      "    Solving:  Stress period:     4    Time step:    85\n",
      "    Solving:  Stress period:     4    Time step:    86\n",
      "    Solving:  Stress period:     4    Time step:    87\n",
      "    Solving:  Stress period:     4    Time step:    88\n",
      "    Solving:  Stress period:     4    Time step:    89\n",
      "    Solving:  Stress period:     4    Time step:    90\n",
      "    Solving:  Stress period:     4    Time step:    91\n"
     ]
    },
    {
     "name": "stdout",
     "output_type": "stream",
     "text": [
      "    Solving:  Stress period:     4    Time step:    92\n",
      "    Solving:  Stress period:     4    Time step:    93\n",
      "    Solving:  Stress period:     4    Time step:    94\n",
      "    Solving:  Stress period:     4    Time step:    95\n",
      "    Solving:  Stress period:     4    Time step:    96\n",
      "    Solving:  Stress period:     4    Time step:    97\n",
      "    Solving:  Stress period:     4    Time step:    98\n",
      "    Solving:  Stress period:     4    Time step:    99\n",
      "    Solving:  Stress period:     4    Time step:   100\n",
      "    Solving:  Stress period:     4    Time step:   101\n",
      "    Solving:  Stress period:     4    Time step:   102\n",
      "    Solving:  Stress period:     4    Time step:   103\n",
      "    Solving:  Stress period:     4    Time step:   104\n",
      "    Solving:  Stress period:     4    Time step:   105\n",
      "    Solving:  Stress period:     4    Time step:   106\n",
      "    Solving:  Stress period:     4    Time step:   107\n",
      "    Solving:  Stress period:     4    Time step:   108\n"
     ]
    },
    {
     "name": "stdout",
     "output_type": "stream",
     "text": [
      "    Solving:  Stress period:     4    Time step:   109\n",
      "    Solving:  Stress period:     4    Time step:   110\n",
      "    Solving:  Stress period:     4    Time step:   111\n",
      "    Solving:  Stress period:     4    Time step:   112\n",
      "    Solving:  Stress period:     4    Time step:   113\n",
      "    Solving:  Stress period:     4    Time step:   114\n",
      "    Solving:  Stress period:     4    Time step:   115\n",
      "    Solving:  Stress period:     4    Time step:   116\n",
      "    Solving:  Stress period:     4    Time step:   117\n",
      "    Solving:  Stress period:     4    Time step:   118\n",
      "    Solving:  Stress period:     4    Time step:   119\n",
      "    Solving:  Stress period:     4    Time step:   120\n",
      " \n",
      " Run end date and time (yyyy/mm/dd hh:mm:ss): 2022/07/30 16:16:42\n",
      " Elapsed run time:  1.483 Seconds\n",
      " \n",
      " Normal termination of simulation.\n",
      "\n",
      "Success is:  True\n"
     ]
    }
   ],
   "source": [
    "# Run the simulation\n",
    "success, buff = sim.run_simulation()\n",
    "print(\"\\nSuccess is: \", success)"
   ]
  },
  {
   "cell_type": "markdown",
   "metadata": {},
   "source": [
    "### Post-Process Head Results\n",
    "\n",
    "First, we get the simulated head data using the `.output.head()` method and the `get_data` function, by specifying, in this case, the step number and period number for which we want to retrieve data. A three-dimensional array is returned of size `nlay, nrow, ncol`. FloPy plotting methods are used to make contours of the head in a specific layer (in this case, layer 1). FloPy plotting methods are also used to plot the model grid and the location of GHB cells in the model domain."
   ]
  },
  {
   "cell_type": "code",
   "execution_count": 18,
   "metadata": {
    "execution": {
     "iopub.execute_input": "2022-07-30T20:16:42.926413Z",
     "iopub.status.busy": "2022-07-30T20:16:42.926108Z",
     "iopub.status.idle": "2022-07-30T20:16:42.980025Z",
     "shell.execute_reply": "2022-07-30T20:16:42.979365Z"
    },
    "tags": []
   },
   "outputs": [],
   "source": [
    "# Retrieve the head data using the .output() method\n",
    "h = gwf.output.head().get_data(kstpkper=(0, 0))"
   ]
  },
  {
   "cell_type": "code",
   "execution_count": 19,
   "metadata": {
    "execution": {
     "iopub.execute_input": "2022-07-30T20:16:42.983852Z",
     "iopub.status.busy": "2022-07-30T20:16:42.983564Z",
     "iopub.status.idle": "2022-07-30T20:16:43.166162Z",
     "shell.execute_reply": "2022-07-30T20:16:43.165105Z"
    }
   },
   "outputs": [
    {
     "data": {
      "image/png": "[encoded data removed]",
      "text/plain": [
       "<Figure size 720x720 with 1 Axes>"
      ]
     },
     "metadata": {
      "needs_background": "light"
     },
     "output_type": "display_data"
    }
   ],
   "source": [
    "fig = plt.figure(figsize=(10, 10))\n",
    "ax = fig.add_subplot(1, 1, 1, aspect=\"equal\")\n",
    "\n",
    "# Next we create an instance of the ModelMap class\n",
    "modelmap = flopy.plot.PlotMapView(model=gwf, ax=ax)\n",
    "\n",
    "ghb_quadmesh = modelmap.plot_bc(name=\"ghb\", plotAll=True)\n",
    "riv_quadmesh = modelmap.plot_bc(name=\"riv\", plotAll=True)\n",
    "linecollection = modelmap.plot_grid()\n",
    "contours = modelmap.contour_array(h[0])"
   ]
  },
  {
   "cell_type": "markdown",
   "metadata": {},
   "source": [
    "### Post-Process Flows\n",
    "\n",
    "MODFLOW 6 writes a binary grid file, which contains information about the model grid.  MODFLOW 6 also writes a binary budget file, which contains flow information.  Both of these files can be read using FloPy methods.  The `MfGrdFile` class in FloPy can be used to read the binary grid file, which contains the cell connectivity (`ia` and `ja`).  The `output.budget()` method in FloPy can be used to read the binary budget file written by MODFLOW 6."
   ]
  },
  {
   "cell_type": "code",
   "execution_count": 20,
   "metadata": {
    "execution": {
     "iopub.execute_input": "2022-07-30T20:16:43.169859Z",
     "iopub.status.busy": "2022-07-30T20:16:43.169582Z",
     "iopub.status.idle": "2022-07-30T20:16:43.175629Z",
     "shell.execute_reply": "2022-07-30T20:16:43.174966Z"
    }
   },
   "outputs": [],
   "source": [
    "fname = os.path.join(workspace, \"{}.dis.grb\".format(model_name))\n",
    "bgf = flopy.mf6.utils.MfGrdFile(fname)\n",
    "ia, ja = bgf.ia, bgf.ja"
   ]
  },
  {
   "cell_type": "code",
   "execution_count": 21,
   "metadata": {
    "execution": {
     "iopub.execute_input": "2022-07-30T20:16:43.179112Z",
     "iopub.status.busy": "2022-07-30T20:16:43.178835Z",
     "iopub.status.idle": "2022-07-30T20:16:44.077225Z",
     "shell.execute_reply": "2022-07-30T20:16:44.076167Z"
    }
   },
   "outputs": [],
   "source": [
    "flowja = gwf.output.budget().get_data(text=\"FLOW-JA-FACE\")[0].squeeze()"
   ]
  },
  {
   "cell_type": "code",
   "execution_count": 22,
   "metadata": {
    "execution": {
     "iopub.execute_input": "2022-07-30T20:16:44.081916Z",
     "iopub.status.busy": "2022-07-30T20:16:44.081599Z",
     "iopub.status.idle": "2022-07-30T20:16:44.089488Z",
     "shell.execute_reply": "2022-07-30T20:16:44.088401Z"
    }
   },
   "outputs": [
    {
     "name": "stdout",
     "output_type": "stream",
     "text": [
      "Printing flows for cell 412\n",
      "Cell 412 flow with cell 262 is 251.46262091207623\n",
      "Cell 412 flow with cell 402 is 0.7176346498656017\n",
      "Cell 412 flow with cell 411 is 439.8629968543804\n",
      "Cell 412 flow with cell 413 is -693.4212447574185\n",
      "Cell 412 flow with cell 422 is 1.3779378787739915\n"
     ]
    }
   ],
   "source": [
    "# By having the ia and ja arrays and the flow-ja-face we can look at\n",
    "# the flows for any cell and process them in the follow manner. Note\n",
    "# layer, row, column locations are zero-based.\n",
    "k = 2\n",
    "i = 11\n",
    "j = 2\n",
    "cell_nodes = gwf.modelgrid.get_node([(k, i, j)])\n",
    "\n",
    "for celln in cell_nodes:\n",
    "    print(\"Printing flows for cell {}\".format(celln))\n",
    "    for ipos in range(ia[celln] + 1, ia[celln + 1]):\n",
    "        cellm = ja[ipos]\n",
    "        print(\n",
    "            \"Cell {} flow with cell {} is {}\".format(\n",
    "                celln, cellm, flowja[ipos]\n",
    "            )\n",
    "        )"
   ]
  },
  {
   "cell_type": "markdown",
   "metadata": {},
   "source": [
    "### Post-Process Head Observations\n",
    "\n",
    "MODFLOW 6 observations can be read using the `output.obs()` method in FloPy."
   ]
  },
  {
   "cell_type": "code",
   "execution_count": 23,
   "metadata": {
    "execution": {
     "iopub.execute_input": "2022-07-30T20:16:44.094139Z",
     "iopub.status.busy": "2022-07-30T20:16:44.093826Z",
     "iopub.status.idle": "2022-07-30T20:16:44.259819Z",
     "shell.execute_reply": "2022-07-30T20:16:44.258920Z"
    }
   },
   "outputs": [
    {
     "data": {
      "image/png": "[encoded data removed]",
      "text/plain": [
       "<Figure size 432x288 with 1 Axes>"
      ]
     },
     "metadata": {
      "needs_background": "light"
     },
     "output_type": "display_data"
    }
   ],
   "source": [
    "csv = gwf.head_obs.output.obs(f=\"head-hydrographs.csv\").get_data()\n",
    "\n",
    "for name in csv.dtype.names[1:]:\n",
    "    plt.plot(csv[\"totim\"], csv[name], label=name)\n",
    "plt.legend();"
   ]
  },
  {
   "cell_type": "code",
   "execution_count": 24,
   "metadata": {
    "execution": {
     "iopub.execute_input": "2022-07-30T20:16:44.263945Z",
     "iopub.status.busy": "2022-07-30T20:16:44.263597Z",
     "iopub.status.idle": "2022-07-30T20:16:44.274135Z",
     "shell.execute_reply": "2022-07-30T20:16:44.273473Z"
    }
   },
   "outputs": [],
   "source": [
    "try:\n",
    "    # ignore PermissionError on Windows\n",
    "    temp_dir.cleanup()\n",
    "except:\n",
    "    pass"
   ]
  }
 ],
 "metadata": {
  "anaconda-cloud": {},
  "kernelspec": {
   "display_name": "Python 3 (ipykernel)",
   "language": "python",
   "name": "python3"
  },
  "language_info": {
   "codemirror_mode": {
    "name": "ipython",
    "version": 3
   },
   "file_extension": ".py",
   "mimetype": "text/x-python",
   "name": "python",
   "nbconvert_exporter": "python",
   "pygments_lexer": "ipython3",
   "version": "3.10.5"
  }
 },
 "nbformat": 4,
 "nbformat_minor": 4
}