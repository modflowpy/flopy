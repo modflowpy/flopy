{
 "cells": [
  {
   "cell_type": "markdown",
   "metadata": {
    "collapsed": true
   },
   "source": [
    "# Vertex Model Grid (DISV) plotting \n",
    "\n",
    "No problem! Flopy supports vertex model grid plotting through the `PlotMapView` and `PlotCrossSection` classes. \n",
    "\n",
    "The method calls are almost identical to models that use a Structured Model Grid (DIS) to define the model discretization and the same keyword arguments are supported. Let's run through an example using a vertex model grid.\n",
    "\n",
    "First let's import flopy and get the model loaded!"
   ]
  },
  {
   "cell_type": "code",
   "execution_count": null,
   "metadata": {},
   "outputs": [],
   "source": [
    "%matplotlib inline\n",
    "import matplotlib.pyplot as plt\n",
    "import numpy as np\n",
    "import os, sys\n",
    "\n",
    "# run installed version of flopy or add local path\n",
    "try:\n",
    "    import flopy as fp\n",
    "    from flopy.plot import PlotMapView, PlotCrossSection\n",
    "    from flopy.utils import HeadFile, CellBudgetFile, geometry\n",
    "except:\n",
    "    fpth = os.path.abspath(os.path.join('..', '..'))\n",
    "    sys.path.append(fpth)\n",
    "    import flopy as fp\n",
    "    from flopy.plot import PlotMapView, PlotCrossSection\n",
    "    from flopy.utils import HeadFile, CellBudgetFile, geometry\n",
    "\n",
    "# load up the example problem\n",
    "sim_name = \"mfsim.nam\"\n",
    "sim_path = \"../data/mf6/test003_gwftri_disv\"\n",
    "sim = fp.mf6.MFSimulation.load(sim_name=sim_name, version=\"mf6\", exe_name=\"mf6\",\n",
    "                               sim_ws=sim_path)"
   ]
  },
  {
   "cell_type": "markdown",
   "metadata": {},
   "source": [
    "Now let's check the model name and then get an instance of our model"
   ]
  },
  {
   "cell_type": "code",
   "execution_count": null,
   "metadata": {},
   "outputs": [],
   "source": [
    "sim.model_names"
   ]
  },
  {
   "cell_type": "code",
   "execution_count": null,
   "metadata": {},
   "outputs": [],
   "source": [
    "ml = sim.get_model('gwf_1')\n",
    "ml"
   ]
  },
  {
   "cell_type": "markdown",
   "metadata": {},
   "source": [
    "## Build a vertex model grid object\n",
    "The `VertexModelGrid` in not yet integrated into FloPy, but will be shortly. Until then we can build a `VertexModelGrid` instance to use for plotting"
   ]
  },
  {
   "cell_type": "code",
   "execution_count": null,
   "metadata": {},
   "outputs": [],
   "source": [
    "from flopy.discretization import VertexGrid\n",
    "\n",
    "vmg = VertexGrid(ml.dis.vertices.array, ml.dis.cell2d.array,\n",
    "                 top=ml.dis.top.array, botm=ml.dis.botm.array,\n",
    "                 idomain=ml.dis.idomain.array, angrot=-25)\n",
    "vmg"
   ]
  },
  {
   "cell_type": "markdown",
   "metadata": {},
   "source": [
    "Now all the discretization information is available to be used to plot model data in a `PlotMapView` or `PlotCrossSection` object\n",
    "\n",
    "Let's begin with `PlotMapView` and plot the model grid."
   ]
  },
  {
   "cell_type": "code",
   "execution_count": null,
   "metadata": {},
   "outputs": [],
   "source": [
    "vmap = PlotMapView(modelgrid=vmg, layer=0)\n",
    "ax = vmap.plot_grid()"
   ]
  },
  {
   "cell_type": "markdown",
   "metadata": {},
   "source": [
    "As we can see, the model grid plots as a series of grid lines.\n",
    "\n",
    "We can also plot inactive cells using `plot_inactive`"
   ]
  },
  {
   "cell_type": "code",
   "execution_count": null,
   "metadata": {},
   "outputs": [],
   "source": [
    "vmap = PlotMapView(modelgrid=vmg, layer=0)\n",
    "ax = vmap.plot_inactive()\n",
    "vmap.plot_grid()"
   ]
  },
  {
   "cell_type": "markdown",
   "metadata": {},
   "source": [
    "Model data can be plotted using the `plot_array` method as follows:"
   ]
  },
  {
   "cell_type": "code",
   "execution_count": null,
   "metadata": {},
   "outputs": [],
   "source": [
    "vmap = PlotMapView(modelgrid=vmg, layer=0)\n",
    "ax = vmap.plot_array(a=ml.dis.botm.array)\n",
    "plt.colorbar(ax)"
   ]
  },
  {
   "cell_type": "markdown",
   "metadata": {},
   "source": [
    "This plot shows the bottom elevations of layer 1. These are a constant value of 1.5 in this example.\n",
    "\n",
    "Let's import some data from the model output to use with `plot_array()` to illustrate plotting better."
   ]
  },
  {
   "cell_type": "code",
   "execution_count": null,
   "metadata": {},
   "outputs": [],
   "source": [
    "hds_file = os.path.join(sim_path, \"tri_model.hds\")\n",
    "cbc_file = os.path.join(sim_path, \"tri_model.cbc\")\n",
    "\n",
    "hds = HeadFile(hds_file)\n",
    "hdata = hds.get_alldata()[0]\n",
    "hdata.shape = (4, -1)"
   ]
  },
  {
   "cell_type": "code",
   "execution_count": null,
   "metadata": {},
   "outputs": [],
   "source": [
    "vmap = PlotMapView(modelgrid=vmg, layer=0)\n",
    "ax = vmap.plot_inactive()\n",
    "ax = vmap.plot_array(a=hdata.ravel(), masked_values=[1e30])\n",
    "plt.colorbar(ax)"
   ]
  },
  {
   "cell_type": "markdown",
   "metadata": {},
   "source": [
    "Data can also be contoured using the `contour_array` method."
   ]
  },
  {
   "cell_type": "code",
   "execution_count": null,
   "metadata": {},
   "outputs": [],
   "source": [
    "vmap = PlotMapView(modelgrid=vmg, layer=0)\n",
    "ax = vmap.plot_inactive(alpha=0.5)\n",
    "ax = vmap.plot_array(a=hdata[0], masked_values=[1e30], alpha=0.5)\n",
    "levels = np.arange(5, 10, 0.5)\n",
    "vmap.contour_array(a=hdata[0], masked_values=[1e30], levels=levels)\n",
    "plt.colorbar(ax)"
   ]
  },
  {
   "cell_type": "markdown",
   "metadata": {},
   "source": [
    "### Plotting specific discharge\n",
    "\n",
    "In modflow 6 SAVE_SPECIFIC_DISCHARGE can be specified in the NPF package option block. \n",
    "\n",
    "Here we grad the specific discharge recarray and use it to plot discharge vectors using FloPy"
   ]
  },
  {
   "cell_type": "code",
   "execution_count": null,
   "metadata": {},
   "outputs": [],
   "source": [
    "cbc = CellBudgetFile(cbc_file, precision='double')\n",
    "spdis = cbc.get_data(text=\"SPDIS\")\n",
    "len(spdis[0])"
   ]
  },
  {
   "cell_type": "markdown",
   "metadata": {},
   "source": [
    "Now we can pass the specific discharge recarray to `plot_specific_discharge`; FloPy will create a quiver plot of the discharge vectors"
   ]
  },
  {
   "cell_type": "code",
   "execution_count": null,
   "metadata": {},
   "outputs": [],
   "source": [
    "vmap = PlotMapView(modelgrid=vmg, layer=0)\n",
    "ax = vmap.plot_grid()\n",
    "ax = vmap.plot_array(a=hdata, alpha=0.5, masked_values=[1e30])\n",
    "plt.colorbar(ax)\n",
    "ax = vmap.plot_specific_discharge(spdis[0])\n",
    "plt.title(\"Specific Discharge\");"
   ]
  },
  {
   "cell_type": "markdown",
   "metadata": {},
   "source": [
    "# Working with model cross sections\n",
    "\n",
    "Flopy supports cross sections for vertex model grids, similarly to structured model grids by using the `PlotCrossSection` class. In fact most of the functionality is identical to `PlotCrossSection` with a Structured model grid. \n",
    "\n",
    "### Note:\n",
    "Cross sections must be defined by a line, since there is no row or column in a vertex model grid.\n",
    "\n",
    "Let's start by creating our cross section line and showing it on a `PlotMapView` object. "
   ]
  },
  {
   "cell_type": "code",
   "execution_count": null,
   "metadata": {},
   "outputs": [],
   "source": [
    "# define a line through the model in model coordiantes as a \n",
    "# series of XY vertices where the cross section will be sliced!\n",
    "line = np.array([(0,3.5), (5, 3.5), (10, 2)])\n",
    "\n",
    "# Transform the line into the spatial refenernce projection to match the projected coordiates\n",
    "# Question? should we give the user a model grid based vertex option?\n",
    "line = geometry.transform(line.T[0], line.T[1], \n",
    "                           vmg.xoffset, vmg.yoffset, \n",
    "                           vmg.angrot_radians)\n",
    "\n",
    "vmap = PlotMapView(modelgrid=vmg, layer=0)\n",
    "ax = vmap.plot_grid()\n",
    "plt.plot(line[0], line[1], 'r--', linewidth=2)"
   ]
  },
  {
   "cell_type": "markdown",
   "metadata": {},
   "source": [
    "Now that we see our cross section line traverses the simulation domain where we were expecting it, let's create a cross section using the `PlotCrossSection` and plot the model grid using `plot_grid`\n",
    "\n",
    "Our cross section line is passed to the `line` dictionary"
   ]
  },
  {
   "cell_type": "code",
   "execution_count": null,
   "metadata": {},
   "outputs": [],
   "source": [
    "line = np.array(line).T\n",
    "\n",
    "vcs = PlotCrossSection(modelgrid=vmg, line={\"line\": line})\n",
    "vcs.plot_grid()"
   ]
  },
  {
   "cell_type": "markdown",
   "metadata": {},
   "source": [
    "Array data can be plotted over similarly to the `PlotMapView` example by calling the `plot_array` method."
   ]
  },
  {
   "cell_type": "code",
   "execution_count": null,
   "metadata": {},
   "outputs": [],
   "source": [
    "vcs = PlotCrossSection(modelgrid=vmg, line={\"line\": line})\n",
    "\n",
    "ax = vcs.plot_array(a=hdata, masked_values=[1e30])\n",
    "plt.colorbar(ax)\n",
    "vcs.plot_grid()"
   ]
  },
  {
   "cell_type": "markdown",
   "metadata": {},
   "source": [
    "Contour plots can also be made using the `contour_array()` method. "
   ]
  },
  {
   "cell_type": "code",
   "execution_count": null,
   "metadata": {},
   "outputs": [],
   "source": [
    "vcs = PlotCrossSection(modelgrid=vmg, line={\"line\": line})\n",
    "\n",
    "ax = vcs.plot_array(a=hdata, masked_values=[1e30], alpha=0.3)\n",
    "plt.colorbar(ax)\n",
    "# set our own contour levels using the matplotlib keyword argument levels\n",
    "levels = np.arange(5, 10, 0.5)\n",
    "vcs.contour_array(a=hdata, masked_values=[1e30], levels=levels)\n",
    "vcs.plot_grid()"
   ]
  },
  {
   "cell_type": "markdown",
   "metadata": {},
   "source": [
    "## Plotting discharge\n",
    "\n",
    "Discharge is plotted similarly to the previous example:\n",
    "\n",
    "The SPDIS recarray is used with `plot_specific_discharge` to create and plot flow vectors\n",
    "\n",
    "### Note:\n",
    "Arbitrary cross section lines cannot be used with this method. A straight cross section must be supplied to calculate discharge vectors."
   ]
  },
  {
   "cell_type": "code",
   "execution_count": null,
   "metadata": {},
   "outputs": [],
   "source": [
    "# Added 0.01 to 10 to account for precision issues with transforms...\n",
    "line = np.array([(-0.1, 3.5), (10.1, 3.5)])\n",
    "\n",
    "# Transform the line into the spatial refenernce projection to match the projected coordiates\n",
    "line = geometry.transform(line.T[0], line.T[1], \n",
    "                           vmg.xoffset, vmg.yoffset, \n",
    "                           vmg.angrot_radians)\n",
    "line = np.array(line).T\n",
    "\n",
    "vcs = PlotCrossSection(modelgrid=vmg, line={\"line\": line})\n",
    "ax = vcs.plot_array(a=hdata, masked_values=[1e30])\n",
    "plt.colorbar(ax)\n",
    "vcs.plot_grid()\n",
    "# use hstep to plot every second cell in the horizontal direction\n",
    "ax = vcs.plot_specific_discharge(spdis[0], head=hdata, hstep=2)\n",
    "plt.xlim([0, 10])\n",
    "plt.title(\"Vertex grid specific discharge\")"
   ]
  },
  {
   "cell_type": "markdown",
   "metadata": {},
   "source": [
    "The discharge vectors look a little crammed due to the triangular nature of the grid \n",
    "\n",
    "### Let's load up a square grid example and plot up discharge vectors."
   ]
  },
  {
   "cell_type": "code",
   "execution_count": null,
   "metadata": {},
   "outputs": [],
   "source": [
    "sim_name = \"mfsim.nam\"\n",
    "sim_path = \"../data/mf6/test003_gwfs_disv\"\n",
    "sim = fp.mf6.MFSimulation.load(sim_name=sim_name, version=\"mf6\", exe_name=\"mf6\",\n",
    "                               sim_ws=sim_path)\n",
    "sim.run_simulation()\n",
    "\n",
    "ml = sim.get_model('gwf_1')\n",
    "vmg = VertexGrid(ml.dis.vertices.array, ml.dis.cell2d.array,\n",
    "                 top=ml.dis.top.array, botm=ml.dis.botm.array,\n",
    "                 idomain=ml.dis.idomain.array, xoff=10,\n",
    "                 yoff=0, angrot=-25)\n",
    "\n",
    "cbc_file = os.path.join(sim_path, \"model.cbc\") #\"expected_output/\", \"model_unch.cbc\")\n",
    "hds_file = os.path.join(sim_path, \"model.hds\") # \"expected_output/\", \"model_unch.hds\")\n",
    "\n",
    "cbc = CellBudgetFile(cbc_file, precision='double')\n",
    "spdis = cbc.get_data(text=\"SPDIS\")\n",
    "\n",
    "hds = HeadFile(hds_file)\n",
    "hdata = hds.get_alldata()[0]\n",
    "hdata.shape = (4, -1)"
   ]
  },
  {
   "cell_type": "markdown",
   "metadata": {},
   "source": [
    "Now let's plot the discharge vectors for a model with a grid of uniform elevations"
   ]
  },
  {
   "cell_type": "code",
   "execution_count": null,
   "metadata": {},
   "outputs": [],
   "source": [
    "# Added 0.01 to 10 to account for precision issues with transforms...\n",
    "line = np.array([(-0.1, 2.5), (10.1, 2.5)])\n",
    "\n",
    "# Transform the line into the spatial refenernce projection to match the projected coordiates\n",
    "line = geometry.transform(line.T[0], line.T[1], \n",
    "                          vmg.xoffset, vmg.yoffset, \n",
    "                          vmg.angrot_radians)\n",
    "line = np.array(line).T\n",
    "\n",
    "vcs = PlotCrossSection(modelgrid=vmg, line={\"line\": line})\n",
    "ax = vcs.plot_array(a=hdata, masked_values=[1e30])\n",
    "plt.colorbar(ax)\n",
    "vcs.plot_grid()\n",
    "ax = vcs.plot_specific_discharge(spdis[0], head=hdata)\n",
    "plt.xlim([0, 10])\n",
    "plt.title(\"Vertex grid specific discharge\");"
   ]
  },
  {
   "cell_type": "markdown",
   "metadata": {},
   "source": [
    "These discharge vectors are much more uniform as expected.\n",
    "\n",
    "### For more information about the plotting functionality in flopy including optional keyword arguments, please see the ipython notebook: flopy3_PlotArrayExample.ipynb\n",
    "\n",
    "### Happy plotting!"
   ]
  }
 ],
 "metadata": {
  "kernelspec": {
   "display_name": "Python 3",
   "language": "python",
   "name": "python3"
  },
  "language_info": {
   "codemirror_mode": {
    "name": "ipython",
    "version": 3
   },
   "file_extension": ".py",
   "mimetype": "text/x-python",
   "name": "python",
   "nbconvert_exporter": "python",
   "pygments_lexer": "ipython3",
   "version": "3.6.5"
  }
 },
 "nbformat": 4,
 "nbformat_minor": 1
}
