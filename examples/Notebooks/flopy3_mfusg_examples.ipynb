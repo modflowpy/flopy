{
 "cells": [
  {
   "cell_type": "markdown",
   "id": "1c06d1db-0156-4a25-a1b0-4e0f2f08a2cf",
   "metadata": {},
   "source": [
    "# FloPy\n",
    "## MODFLOW-USG CLN package demo\n",
    "This example problem demonstrates use of the CLN process for simulating flow to a well pumping from two aquifers seperated by an impermeable confining unit. A structured finite-difference grid with 100 rows and 100 columns was used. Each square cells is 470m by 470 m in extent. Initial heads are 10m in aquifer 1 and 30m in aquifer 2."
   ]
  },
  {
   "cell_type": "code",
   "execution_count": null,
   "id": "2a47ab0b-115d-453e-a02c-53575fb125b2",
   "metadata": {},
   "outputs": [],
   "source": [
    "import os, shutil\n",
    "import numpy as np\n",
    "import matplotlib.pyplot as plt\n",
    "\n",
    "import flopy"
   ]
  },
  {
   "cell_type": "code",
   "execution_count": null,
   "id": "7b3c55ef-88bc-40a5-9854-56b1aaac0489",
   "metadata": {},
   "outputs": [],
   "source": [
    "cln_ws= os.path.join('../data', 'cln_test')\n",
    "\n",
    "if not os.path.exists(cln_ws):\n",
    "    os.mkdir(cln_ws)"
   ]
  },
  {
   "cell_type": "markdown",
   "id": "2f98f702-e94c-4a59-9380-971d4884da10",
   "metadata": {},
   "source": [
    "## Loading Example 03_conduit_confined\n",
    "The elevation of the top of layer 1 is -100 m, the bottom of layer 1 is -110 m, the top of layer 2 is -120 m and the bottom of layer 2 is -130 m. The confining unit between layers1 and 2 is impermeable and is represented using a quasi-three-dimensional approach. The only way a stress from one aquifer can be propagated to another is through the cln well that penetrates both aquifers.\n",
    "\n",
    "The hydraulic conductivity values of the upper and lower aquifers are 100 and 400 m/d, respectively. Both aquifers have a primaey storage coefficient of 0.0001 and a specific yield of 0.01.\n",
    "\n",
    "A vertical conduit well is located at the center of the domain and has a radius of 0.5 m. The well pumps 62,840 m3/d and is open fully to both aquifers from top to bottom. The CLN Process was used with a circular conduit geometry type to discretize the well bore with two conduit cells, one in each layer. The WEL Package was used to pump from the bottom CLN cell.\n"
   ]
  },
  {
   "cell_type": "code",
   "execution_count": null,
   "id": "f2fe115d-e9bb-40cb-8cbb-3ff2b6533597",
   "metadata": {},
   "outputs": [],
   "source": [
    "model_ws = os.path.join('../data/mfusg_test', '03_conduit_confined')\n",
    "mf = flopy.modflow.Modflow.load('ex3.nam', version='mfusg', \n",
    "                                exe_name='mfusg.exe', model_ws=model_ws, \n",
    "                                check=False,verbose=True)"
   ]
  },
  {
   "cell_type": "code",
   "execution_count": null,
   "id": "c3e92a46-eb24-4870-921c-bf64b3ca4ce5",
   "metadata": {},
   "outputs": [],
   "source": [
    "# output control\n",
    "mf.remove_package('OC')\n",
    "\n",
    "spd = {}\n",
    "for i in range(mf.nper): \n",
    "    for j in range(mf.dis.nstp[i]):\n",
    "        spd[(i,j)] = ['save head', 'save budget']\n",
    "\n",
    "oc = flopy.modflow.ModflowOc(mf, stress_period_data=spd, unitnumber=[22,30,31,50])"
   ]
  },
  {
   "cell_type": "code",
   "execution_count": null,
   "id": "30aa9aac-02fa-4a45-800c-bf0a017f8e1e",
   "metadata": {},
   "outputs": [],
   "source": [
    "model_ws= os.path.join(cln_ws, 'ex03')\n",
    "\n",
    "if os.path.exists(model_ws):\n",
    "    shutil.rmtree(model_ws)\n",
    "os.mkdir(model_ws)\n",
    "\n",
    "mf.model_ws=model_ws"
   ]
  },
  {
   "cell_type": "code",
   "execution_count": null,
   "id": "2323f160-60fa-40b4-9f6a-000ec07f93de",
   "metadata": {},
   "outputs": [],
   "source": [
    "mf.write_input()\n",
    "mf.run_model()"
   ]
  },
  {
   "cell_type": "code",
   "execution_count": null,
   "id": "81563f65-41b0-4782-9c3b-30b9bd4710c0",
   "metadata": {},
   "outputs": [],
   "source": [
    "head_file = os.path.join(mf.model_ws, 'ex3.clnhds')\n",
    "headobj = flopy.utils.HeadFile(head_file)"
   ]
  },
  {
   "cell_type": "code",
   "execution_count": null,
   "id": "a8a32799-e7e0-43bf-9f24-72019c67369b",
   "metadata": {},
   "outputs": [],
   "source": [
    "simtimes = headobj.get_times()\n",
    "\n",
    "nper=len(simtimes)\n",
    "\n",
    "nnode= mf.cln.nclnnds\n",
    "\n",
    "simhead = np.zeros((1,1,nnode,nper))\n",
    "for i in range(nper):\n",
    "    simhead[:,:,:,i] = headobj.get_data(kstpkper = (i,0))\n",
    "simhead=np.squeeze(simhead)"
   ]
  },
  {
   "cell_type": "code",
   "execution_count": null,
   "id": "6559a5f4-c369-4aa4-8865-93bdeed1aad4",
   "metadata": {},
   "outputs": [],
   "source": [
    "fig = plt.figure(figsize=(8, 5), dpi=150)\n",
    "ax = fig.add_subplot(111)\n",
    "ax.plot(simtimes, simhead[0], label='CLN Layer 1')\n",
    "ax.plot(simtimes, simhead[1], label='CLN Layer 2')\n",
    "ax.set_xlabel('Time, in days')  \n",
    "ax.set_ylabel('Simulated Head in pumping well, in meters') \n",
    "ax.set_title(\"MODFLOW USG Ex3 Conduit Confined\") \n",
    "ax.legend()"
   ]
  },
  {
   "cell_type": "code",
   "execution_count": null,
   "id": "85043c1e-1bab-4f73-9a9f-edd9d49e9d99",
   "metadata": {},
   "outputs": [],
   "source": [
    "cbb_file = os.path.join(mf.model_ws, 'ex3.clncbb')\n",
    "cbb = flopy.utils.CellBudgetFile(cbb_file)\n",
    "#cbb.list_records()\n",
    "\n",
    "simflow = cbb.get_data(kstpkper=(0, 0), text='GWF')[0]\n",
    "for i in range(nper-1):\n",
    "    simflow=np.append(simflow, cbb.get_data(kstpkper = (i+1,0), text = 'GWF')[0])\n",
    "simflow1=simflow[simflow['node']==1]['q']\n",
    "simflow2=simflow[simflow['node']==2]['q']"
   ]
  },
  {
   "cell_type": "code",
   "execution_count": null,
   "id": "5c6c4cb5-292f-457a-8563-6b7a8689176c",
   "metadata": {},
   "outputs": [],
   "source": [
    "fig = plt.figure(figsize=(8, 11), dpi=150)\n",
    "ax1 = fig.add_subplot(211)\n",
    "ax1.plot(simtimes, simflow1, label='CLN Layer 1')\n",
    "ax1.set_xlabel('Time, in days')  \n",
    "ax1.set_ylabel('Discharge to well, in cubic meters per day') \n",
    "ax1.set_title(\"MODFLOW USG Ex3 Conduit Confined\") \n",
    "ax1.legend()  \n",
    "\n",
    "ax2 = fig.add_subplot(212)\n",
    "ax2.plot(simtimes, simflow2, label='CLN Layer 2')\n",
    "ax2.set_xlabel('Time, in days')  \n",
    "ax2.set_ylabel('Discharge to well, in cubic meters per day') \n",
    "ax2.legend()"
   ]
  },
  {
   "cell_type": "markdown",
   "id": "3073a5aa-1433-4b70-9bd9-6922ce34507d",
   "metadata": {},
   "source": [
    "## Create example 03A_conduit_unconfined of mfusg 1.5\n",
    "An unconfined example was simulated with this problem setup. The same simulation setup of previous example is used. However, the elevation of the top of layer 1 is 10 m, the bottom of layer 1 is 0 m, the top of layer 2 is -10 m, and the bottom of layer 2 is -20 m. The CLN domain is discretized using two vertical conduit cells. It depicts the behavior of unconfined flow in the conduit when the CLN cell in layer 1 becomes dry."
   ]
  },
  {
   "cell_type": "code",
   "execution_count": null,
   "id": "4e43acef-6d51-4973-888a-de963a4feff9",
   "metadata": {},
   "outputs": [],
   "source": [
    "modelname='ex03a'\n",
    "\n",
    "model_ws = os.path.join(cln_ws, modelname)\n",
    "if os.path.exists(model_ws):\n",
    "    shutil.rmtree(model_ws)\n",
    "os.mkdir(model_ws)\n",
    "\n",
    "mf = flopy.modflow.Modflow(modelname=modelname, version='mfusg',\n",
    "                           model_ws=model_ws, exe_name='mfusg.exe',verbose=True)"
   ]
  },
  {
   "cell_type": "code",
   "execution_count": null,
   "id": "6864b760-e157-4d3e-9504-0540313c908c",
   "metadata": {},
   "outputs": [],
   "source": [
    "ipakcb=50\n",
    "\n",
    "nlay = 2\n",
    "nrow = 100\n",
    "ncol = 100\n",
    "laycbd = [1, 0]\n",
    "\n",
    "delr = 470.000\n",
    "delc = 470.000\n",
    "\n",
    "ztop = 10.0\n",
    "botm = [0.0, -10.0, -20.0]\n",
    "\n",
    "perlen = 160\n",
    "nstp   = 160\n",
    "\n",
    "dis = flopy.modflow.ModflowDis(mf, nlay, nrow, ncol, delr=delr, delc=delc, \n",
    "                               laycbd=laycbd, top=ztop, botm=botm, \n",
    "                               perlen=perlen, nstp=nstp, steady=False, lenuni=0)\n",
    "\n",
    "bas = flopy.modflow.ModflowBas(mf, ibound=1, strt=[10.,30.])\n",
    "\n",
    "bcf = flopy.modflow.ModflowBcf(mf, ipakcb=ipakcb, laycon=4, wetfct=1.0, iwetit=5,\n",
    "                               hy=[100.0, 400.0], vcont=0.0, sf1=1e-4, sf2=0.01)\n",
    "\n",
    "sms = flopy.modflow.ModflowSms(mf, hclose=1.0E-3, hiclose=1.0E-5, mxiter=220, \n",
    "                               iter1=600, iprsms=1, nonlinmeth=2, linmeth=1,\n",
    "                               theta=0.9, akappa=0.07, gamma=0.1, amomentum=0.0, \n",
    "                               numtrack=200, btol=1.1, breduc=0.2, reslim=1.0,\n",
    "                               iacl=2, norder=1, level=3, north=14)"
   ]
  },
  {
   "cell_type": "code",
   "execution_count": null,
   "id": "d2a3a309-844b-45b5-a0ad-dea10624236d",
   "metadata": {},
   "outputs": [],
   "source": [
    "# output control\n",
    "spd = {}\n",
    "for i in range(mf.nper): \n",
    "    for j in range(mf.dis.nstp[i]):\n",
    "        spd[(i,j)] = ['save head', 'save budget']\n",
    "\n",
    "oc = flopy.modflow.ModflowOc(mf, stress_period_data=spd)"
   ]
  },
  {
   "cell_type": "code",
   "execution_count": null,
   "id": "cad2ba26-ddd9-4a99-97ea-08a579e93636",
   "metadata": {},
   "outputs": [],
   "source": [
    "unitnumber = [71, 35, 36, 0, 0, 0, 0]\n",
    "\n",
    "node_prop = [[1,1,0,10.0,0.0,1.57,0,0],[2,1,0,10.0,-20.0,1.57,0,0]]\n",
    "cln_gwc = [[1,1,50,50,0,0,10.0,1.0,0],[2,2,50,50,0,0,10.0,1.0,0]]\n",
    "\n",
    "nconduityp=1\n",
    "cln_circ=[[1,0.5,3.23e10]]\n",
    "\n",
    "strt = [10.0, 30.0]\n",
    "cln = flopy.modflow.ModflowCln(mf, ncln=1, iclnnds=-1, nndcln=2, nclngwc = 2,\n",
    "                               node_prop =node_prop, cln_gwc =cln_gwc, \n",
    "                               cln_circ=cln_circ, strt =strt, \n",
    "                               unitnumber=unitnumber)"
   ]
  },
  {
   "cell_type": "code",
   "execution_count": null,
   "id": "05a22b48-e03c-49df-8fc7-45d1ed3fe410",
   "metadata": {},
   "outputs": [],
   "source": [
    "options = []\n",
    "options.append('autoflowreduce')\n",
    "options.append('clnwel 1')\n",
    "stress_period_data = {0:[[1, -62840.]]}\n",
    "\n",
    "wel = flopy.modflow.ModflowWel(mf, ipakcb=ipakcb,options=options,\n",
    "                               stress_period_data=stress_period_data)"
   ]
  },
  {
   "cell_type": "code",
   "execution_count": null,
   "id": "69b1de37-5897-4c83-88b0-a23c4dd3d66a",
   "metadata": {},
   "outputs": [],
   "source": [
    "mf.write_input()\n",
    "mf.run_model(silent=True)"
   ]
  },
  {
   "cell_type": "code",
   "execution_count": null,
   "id": "c034a566-0e3b-4038-a5f8-8c54db08e438",
   "metadata": {},
   "outputs": [],
   "source": [
    "head_file = os.path.join(mf.model_ws, modelname+'.clnhd')\n",
    "headobj = flopy.utils.HeadFile(head_file)\n",
    "\n",
    "simtimes = headobj.get_times()\n",
    "nper=len(simtimes)\n",
    "nnode= mf.cln.nclnnds\n",
    "\n",
    "simhead = np.zeros((1,1,nnode,nper))\n",
    "for i in range(nper):\n",
    "    simhead[:,:,:,i] = headobj.get_data(kstpkper = (i,0))\n",
    "\n",
    "head_case1=np.squeeze(simhead)"
   ]
  },
  {
   "cell_type": "code",
   "execution_count": null,
   "id": "768fc2d3-06de-4693-b786-73f2ffe6387b",
   "metadata": {},
   "outputs": [],
   "source": [
    "fig = plt.figure(figsize=(8, 5), dpi=150)\n",
    "ax = fig.add_subplot(111)\n",
    "ax.plot(simtimes, head_case1[0], label='CLN Layer 1')\n",
    "ax.plot(simtimes, head_case1[1], label='CLN Layer 2')\n",
    "ax.set_xlabel('Time, in days')  \n",
    "ax.set_ylabel('Simulated Head in pumping well, in meters') \n",
    "ax.set_title(\"MODFLOW USG Ex3a Conduit Unconfined\") \n",
    "ax.legend()"
   ]
  },
  {
   "cell_type": "code",
   "execution_count": null,
   "id": "c13acff3-492d-4ad2-bc3c-7f42639b7fa6",
   "metadata": {},
   "outputs": [],
   "source": [
    "cbb_file = os.path.join(mf.model_ws, modelname+'.clncb')\n",
    "cbb = flopy.utils.CellBudgetFile(cbb_file)\n",
    "#cbb.list_records()\n",
    "\n",
    "simflow = cbb.get_data(kstpkper=(0, 0), text='GWF')[0]\n",
    "for i in range(nper-1):\n",
    "    simflow=np.append(simflow, cbb.get_data(kstpkper = (i+1,0), text = 'GWF')[0])\n",
    "\n",
    "flow_case1=simflow"
   ]
  },
  {
   "cell_type": "markdown",
   "id": "de189309-199c-4bc4-a664-4eb2a9d23b76",
   "metadata": {},
   "source": [
    "## Modify CLN amd WEL package to example create 03B_conduit_unconfined of mfusg 1.5\n",
    "The problem is solved using only one CLN conduit cell to represent the well connecting both aquifer layers. This is conceptually equivalent to the MNW methodology and does not colve for flow within the well. The behavior of unconfined flow between the well and layer 1 negalects the dry-cell condition whereby head in the well is below the bottom of layer 1."
   ]
  },
  {
   "cell_type": "code",
   "execution_count": null,
   "id": "6c95a97c-3785-4ae0-be9c-ef4ccb75cc08",
   "metadata": {},
   "outputs": [],
   "source": [
    "modelname='ex03b'\n",
    "\n",
    "model_ws = os.path.join(cln_ws, modelname)\n",
    "if os.path.exists(model_ws):\n",
    "    shutil.rmtree(model_ws)\n",
    "os.mkdir(model_ws)\n",
    "\n",
    "mf.model_ws = model_ws\n",
    "mf._set_name(modelname)\n",
    "for i, fname in enumerate(mf.output_fnames):\n",
    "    mf.output_fnames[i] = modelname + os.path.splitext(fname)[1]"
   ]
  },
  {
   "cell_type": "code",
   "execution_count": null,
   "id": "3d3e7f0d-b31b-48f3-8ddb-8e6459a3b9f3",
   "metadata": {},
   "outputs": [],
   "source": [
    "mf.remove_package('CLN')\n",
    "\n",
    "node_prop = [[1,1,0,30.0,-20.,1.57]]\n",
    "cln_gwc = [[1,1,50,50,0,0,10.0,1.0,0],[1,2,50,50,0,0,10.0,1.0,0]]\n",
    "\n",
    "strt = 20.0\n",
    "cln = flopy.modflow.ModflowCln(mf, ncln=1, iclnnds=-1, nndcln=1, nclngwc = 2, \n",
    "                               node_prop =node_prop, cln_gwc =cln_gwc, \n",
    "                               cln_circ=cln_circ, strt =strt, \n",
    "                               unitnumber =unitnumber)"
   ]
  },
  {
   "cell_type": "code",
   "execution_count": null,
   "id": "04b6301d-4599-4859-8aa7-d83121a016ee",
   "metadata": {},
   "outputs": [],
   "source": [
    "mf.remove_package('WEL')\n",
    "\n",
    "options = []\n",
    "options.append('autoflowreduce')\n",
    "options.append('iunitafr 55')\n",
    "options.append('clnwel 1')\n",
    "stress_period_data = {0:[[0, -62840.]]}\n",
    "\n",
    "wel = flopy.modflow.ModflowWel(mf, ipakcb=ipakcb,options=options,\n",
    "                               stress_period_data=stress_period_data)"
   ]
  },
  {
   "cell_type": "code",
   "execution_count": null,
   "id": "a7042045-95f7-4205-abe1-579cf7c3bb8f",
   "metadata": {},
   "outputs": [],
   "source": [
    "mf.write_input()\n",
    "mf.run_model(silent=True)"
   ]
  },
  {
   "cell_type": "code",
   "execution_count": null,
   "id": "70192070-20db-4c2d-a252-5c6d9b96df0d",
   "metadata": {},
   "outputs": [],
   "source": [
    "head_file = os.path.join(mf.model_ws, modelname+'.clnhd')\n",
    "headobj = flopy.utils.HeadFile(head_file)\n",
    "\n",
    "simtimes = headobj.get_times()\n",
    "nper=len(simtimes)\n",
    "nnode= mf.cln.nclnnds\n",
    "\n",
    "simhead = np.zeros((1,1,nnode,nper))\n",
    "for i in range(nper):\n",
    "    simhead[:,:,:,i] = headobj.get_data(kstpkper = (i,0))\n",
    "\n",
    "head_case2=np.squeeze(simhead)"
   ]
  },
  {
   "cell_type": "code",
   "execution_count": null,
   "id": "28751490-a504-4afb-ab12-afd692b2299d",
   "metadata": {},
   "outputs": [],
   "source": [
    "fig = plt.figure(figsize=(8, 5), dpi=150)\n",
    "ax = fig.add_subplot(111)\n",
    "ax.plot(simtimes, head_case2)\n",
    "ax.set_xlabel('Time, in days')  \n",
    "ax.set_ylabel('Simulated Head in pumping well, in meters') \n",
    "ax.set_title(\"MODFLOW USG Ex3b Conduit Unconfined\")"
   ]
  },
  {
   "cell_type": "code",
   "execution_count": null,
   "id": "486e8682-3f8d-4f80-a2ba-80f9bd793059",
   "metadata": {},
   "outputs": [],
   "source": [
    "cbb_file = os.path.join(mf.model_ws, modelname+'.clncb')\n",
    "cbb = flopy.utils.CellBudgetFile(cbb_file)\n",
    "#cbb.list_records()\n",
    "\n",
    "simflow = cbb.get_data(kstpkper=(0, 0), text='GWF')[0]\n",
    "for i in range(nper-1):\n",
    "    simflow=np.append(simflow, cbb.get_data(kstpkper = (i+1,0), text = 'GWF')[0])\n",
    "\n",
    "flow_case2=simflow"
   ]
  },
  {
   "cell_type": "markdown",
   "id": "2d84dd82-252d-428c-8e7c-21e77e4e16f3",
   "metadata": {},
   "source": [
    "## Modify CLN amd WEL package to example create 03C_conduit_unconfined of mfusg 1.5\n",
    "The CLN well is discretized using two conduit geometry CLN cells but with the confined option for flow winthin the conduit and between CLN and GWF domains."
   ]
  },
  {
   "cell_type": "code",
   "execution_count": null,
   "id": "c36c1659-b857-4d91-bff1-2f13a1c31e33",
   "metadata": {},
   "outputs": [],
   "source": [
    "modelname='ex03c'\n",
    "\n",
    "model_ws = os.path.join(cln_ws, modelname)\n",
    "if os.path.exists(model_ws):\n",
    "    shutil.rmtree(model_ws)\n",
    "os.mkdir(model_ws)\n",
    "\n",
    "mf.model_ws=model_ws\n",
    "mf._set_name(modelname)\n",
    "for i, fname in enumerate(mf.output_fnames):\n",
    "    mf.output_fnames[i] = modelname + os.path.splitext(fname)[1]"
   ]
  },
  {
   "cell_type": "code",
   "execution_count": null,
   "id": "436a89dd-7299-4192-9fdf-8a790e35c14c",
   "metadata": {},
   "outputs": [],
   "source": [
    "mf.remove_package('CLN')\n",
    "\n",
    "node_prop = [[1,1,0,10.0,0.0,1.57,1,0],[2,1,0,10.0,-20.0,1.57,1,0]]\n",
    "cln_gwc = [[1,1,50,50,0,0,10.0,1.0,0],[2,2,50,50,0,0,10.0,1.0,0]]\n",
    "\n",
    "strt = [10.0, 30.0]\n",
    "\n",
    "cln = flopy.modflow.ModflowCln(mf, ncln=1, iclnnds=-1, nndcln=2, nclngwc = 2, \n",
    "                               node_prop =node_prop, cln_gwc =cln_gwc, \n",
    "                               cln_circ=cln_circ, strt =strt, \n",
    "                               unitnumber =unitnumber)"
   ]
  },
  {
   "cell_type": "code",
   "execution_count": null,
   "id": "f579c496-5185-46ed-b5eb-c35dfcd5021a",
   "metadata": {},
   "outputs": [],
   "source": [
    "mf.remove_package('WEL')\n",
    "\n",
    "stress_period_data = {0:[[1, -62840.]]}\n",
    "\n",
    "wel = flopy.modflow.ModflowWel(mf, ipakcb=ipakcb,options=options,\n",
    "                               stress_period_data=stress_period_data)"
   ]
  },
  {
   "cell_type": "code",
   "execution_count": null,
   "id": "f4637d24-4259-4a7c-8d6e-68a1f4f3c4d2",
   "metadata": {},
   "outputs": [],
   "source": [
    "mf.write_input()\n",
    "mf.run_model(silent=True)"
   ]
  },
  {
   "cell_type": "code",
   "execution_count": null,
   "id": "5822a3c8-ea72-450e-87e3-728a3126ac48",
   "metadata": {},
   "outputs": [],
   "source": [
    "head_file = os.path.join(mf.model_ws, modelname+'.clnhd')\n",
    "headobj = flopy.utils.HeadFile(head_file)\n",
    "\n",
    "simtimes = headobj.get_times()\n",
    "nper=len(simtimes)\n",
    "nnode= mf.cln.nclnnds\n",
    "\n",
    "simhead = np.zeros((1,1,nnode,nper))\n",
    "for i in range(nper):\n",
    "    simhead[:,:,:,i] = headobj.get_data(kstpkper = (i,0))\n",
    "\n",
    "head_case3=np.squeeze(simhead)"
   ]
  },
  {
   "cell_type": "code",
   "execution_count": null,
   "id": "a3ad338d-e362-4ead-b1ee-2ae5448f78a9",
   "metadata": {},
   "outputs": [],
   "source": [
    "fig = plt.figure(figsize=(8, 5), dpi=150)\n",
    "ax = fig.add_subplot(111)\n",
    "ax.plot(simtimes, head_case3[0], label='CLN Layer 1')\n",
    "ax.plot(simtimes, head_case3[1], label='CLN Layer 2')\n",
    "ax.set_xlabel('Time, in days')  \n",
    "ax.set_ylabel('Simulated Head in pumping well, in meters') \n",
    "ax.set_title(\"MODFLOW USG Ex3c Conduit Unconfined\") \n",
    "ax.legend()"
   ]
  },
  {
   "cell_type": "code",
   "execution_count": null,
   "id": "b32a6c2c-56c4-442d-918b-65f18b42e221",
   "metadata": {},
   "outputs": [],
   "source": [
    "cbb_file = os.path.join(mf.model_ws, modelname+'.clncb')\n",
    "cbb = flopy.utils.CellBudgetFile(cbb_file)\n",
    "#cbb.list_records()\n",
    "\n",
    "simflow = cbb.get_data(kstpkper=(0, 0), text='GWF')[0]\n",
    "for i in range(nper-1):\n",
    "    simflow=np.append(simflow, cbb.get_data(kstpkper = (i+1,0), text = 'GWF')[0])\n",
    "\n",
    "flow_case3=simflow"
   ]
  },
  {
   "cell_type": "markdown",
   "id": "606a8770-41f7-45d4-a54e-8a6d330d7aab",
   "metadata": {},
   "source": [
    "## Modify CLN amd WEL package to example create 03D_conduit_unconfined of mfusg 1.5\n",
    "Only one CLN cell to discretize the well but includes the \"flow-to-dry-cell\" option to limit flow in layer 1 when the head in the CLN cell is below the bottom of the layer."
   ]
  },
  {
   "cell_type": "code",
   "execution_count": null,
   "id": "2f5fc636-7ba6-4041-b808-71c6092009f3",
   "metadata": {},
   "outputs": [],
   "source": [
    "modelname='ex03d'\n",
    "\n",
    "model_ws = os.path.join(cln_ws, modelname)\n",
    "if os.path.exists(model_ws):\n",
    "    shutil.rmtree(model_ws)\n",
    "os.mkdir(model_ws)\n",
    "\n",
    "mf.model_ws=model_ws\n",
    "mf._set_name(modelname)\n",
    "for i, fname in enumerate(mf.output_fnames):\n",
    "    mf.output_fnames[i] = modelname + os.path.splitext(fname)[1]"
   ]
  },
  {
   "cell_type": "code",
   "execution_count": null,
   "id": "a279aa71-4ff7-4d0d-a088-78abb7fde030",
   "metadata": {},
   "outputs": [],
   "source": [
    "mf.remove_package('CLN')\n",
    "\n",
    "node_prop = [[1,1,0,30.0,-20.,1.57]]\n",
    "cln_gwc = [[1,1,50,50,0,0,10.0,1.0,1],[1,2,50,50,0,0,10.0,1.0,1]]\n",
    "\n",
    "strt = 20.0\n",
    "\n",
    "cln = flopy.modflow.ModflowCln(mf, ncln=1, iclnnds=-1, nndcln=1, nclngwc = 2, \n",
    "                               node_prop =node_prop, cln_gwc =cln_gwc, \n",
    "                               cln_circ=cln_circ, strt =strt, \n",
    "                               unitnumber =unitnumber)"
   ]
  },
  {
   "cell_type": "code",
   "execution_count": null,
   "id": "df3cf10b-1c9d-42df-aadd-b484f6ef1b35",
   "metadata": {},
   "outputs": [],
   "source": [
    "mf.remove_package('WEL')\n",
    "\n",
    "stress_period_data = {0:[[0, -62840.]]}\n",
    "\n",
    "wel = flopy.modflow.ModflowWel(mf, ipakcb=ipakcb,options=options,\n",
    "                               stress_period_data=stress_period_data)"
   ]
  },
  {
   "cell_type": "code",
   "execution_count": null,
   "id": "bd4760c3-e69b-4ccc-94aa-342aedaf1dc6",
   "metadata": {},
   "outputs": [],
   "source": [
    "mf.write_input()\n",
    "mf.run_model(silent=True)"
   ]
  },
  {
   "cell_type": "code",
   "execution_count": null,
   "id": "436b6009-4fbf-420d-ac9d-fad32b70d2c0",
   "metadata": {},
   "outputs": [],
   "source": [
    "head_file = os.path.join(mf.model_ws, modelname+'.clnhd')\n",
    "headobj = flopy.utils.HeadFile(head_file)\n",
    "\n",
    "simtimes = headobj.get_times()\n",
    "nper=len(simtimes)\n",
    "nnode= mf.cln.nclnnds\n",
    "\n",
    "simhead = np.zeros((1,1,nnode,nper))\n",
    "for i in range(nper):\n",
    "    simhead[:,:,:,i] = headobj.get_data(kstpkper = (i,0))\n",
    "\n",
    "head_case4=np.squeeze(simhead)"
   ]
  },
  {
   "cell_type": "code",
   "execution_count": null,
   "id": "411fadcb-05aa-4952-aa20-fbd8a8ad7961",
   "metadata": {},
   "outputs": [],
   "source": [
    "cbb_file = os.path.join(mf.model_ws, modelname+'.clncb')\n",
    "cbb = flopy.utils.CellBudgetFile(cbb_file)\n",
    "#cbb.list_records()\n",
    "\n",
    "simflow = cbb.get_data(kstpkper=(0, 0), text='GWF')[0]\n",
    "for i in range(nper-1):\n",
    "    simflow=np.append(simflow, cbb.get_data(kstpkper = (i+1,0), text = 'GWF')[0])\n",
    "\n",
    "flow_case4=simflow"
   ]
  },
  {
   "cell_type": "markdown",
   "id": "14042416-d887-40c7-a38b-2abeb2a77546",
   "metadata": {},
   "source": [
    "## Comparing four cases"
   ]
  },
  {
   "cell_type": "code",
   "execution_count": null,
   "id": "e5d84f53-0879-4328-9478-1ff70dfdde2f",
   "metadata": {},
   "outputs": [],
   "source": [
    "fig = plt.figure(figsize=(8, 5), dpi=150)\n",
    "ax = fig.add_subplot(111)\n",
    "ax.plot(simtimes, head_case1[1], label='Case A')\n",
    "ax.plot(simtimes, head_case2, label='Case B')\n",
    "ax.plot(simtimes, head_case3[1], dashes=[6, 2],label='Case C')\n",
    "ax.plot(simtimes, head_case4, dashes=[6, 2],label='Case D')\n",
    "\n",
    "ax.set_xlabel('Time, in days')  \n",
    "ax.set_ylabel('Simulated Head in pumping well, in meters') \n",
    "ax.legend()"
   ]
  },
  {
   "cell_type": "code",
   "execution_count": null,
   "id": "e6a18152-d705-494c-8b7e-e7c0aea87714",
   "metadata": {},
   "outputs": [],
   "source": [
    "fig = plt.figure(figsize=(8, 11), dpi=150)\n",
    "ax1 = fig.add_subplot(211)\n",
    "ax1.plot(simtimes, flow_case1[::2,]['q'], label='Case A')\n",
    "ax1.plot(simtimes, flow_case2[::2,]['q'], label='Case B')\n",
    "ax1.plot(simtimes, flow_case3[::2,]['q'], dashes=[6, 2], label='Case C')\n",
    "ax1.plot(simtimes, flow_case4[::2,]['q'], dashes=[6, 2], label='Case D')\n",
    "ax1.set_xlabel('Time, in days')  \n",
    "ax1.set_ylabel('Layer 1 flow to well') \n",
    "ax1.legend()  \n",
    "\n",
    "ax2 = fig.add_subplot(212)\n",
    "ax2.plot(simtimes, flow_case1[1::2,]['q'], label='Case A')\n",
    "ax2.plot(simtimes, flow_case2[1::2,]['q'], label='Case B')\n",
    "ax2.plot(simtimes, flow_case3[1::2,]['q'], dashes=[6, 2], label='Case C')\n",
    "ax2.plot(simtimes, flow_case4[1::2,]['q'], dashes=[6, 2], label='Case D')\n",
    "ax2.set_xlabel('Time, in days')  \n",
    "ax2.set_ylabel('Layer 2 flow to well') \n",
    "ax2.legend()"
   ]
  }
 ],
 "metadata": {
  "kernelspec": {
   "display_name": "Python 3 (ipykernel)",
   "language": "python",
   "name": "python3"
  },
  "language_info": {
   "codemirror_mode": {
    "name": "ipython",
    "version": 3
   },
   "file_extension": ".py",
   "mimetype": "text/x-python",
   "name": "python",
   "nbconvert_exporter": "python",
   "pygments_lexer": "ipython3",
   "version": "3.9.1"
  }
 },
 "nbformat": 4,
 "nbformat_minor": 5
}
