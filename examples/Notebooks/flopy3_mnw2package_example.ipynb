{
 "cells": [
  {
   "cell_type": "markdown",
   "metadata": {},
   "source": [
    "# FloPy\n",
    "\n",
    "## MNW2 package example"
   ]
  },
  {
   "cell_type": "code",
   "execution_count": 1,
   "metadata": {
    "execution": {
     "iopub.execute_input": "2023-02-22T02:41:10.982844Z",
     "iopub.status.busy": "2023-02-22T02:41:10.982317Z",
     "iopub.status.idle": "2023-02-22T02:41:11.703514Z",
     "shell.execute_reply": "2023-02-22T02:41:11.702634Z"
    }
   },
   "outputs": [
    {
     "name": "stdout",
     "output_type": "stream",
     "text": [
      "3.10.6 (main, Nov 14 2022, 16:10:14) [GCC 11.3.0]\n",
      "numpy version: 1.24.1\n",
      "pandas version: 1.5.2\n",
      "flopy version: 3.3.7\n"
     ]
    }
   ],
   "source": [
    "import sys\n",
    "import os\n",
    "from tempfile import TemporaryDirectory\n",
    "\n",
    "import numpy as np\n",
    "\n",
    "try:\n",
    "    import pandas as pd\n",
    "except:\n",
    "    pass\n",
    "\n",
    "# run installed version of flopy or add local path\n",
    "try:\n",
    "    import flopy\n",
    "except:\n",
    "    fpth = os.path.abspath(os.path.join(\"..\", \"..\"))\n",
    "    sys.path.append(fpth)\n",
    "    import flopy\n",
    "\n",
    "print(sys.version)\n",
    "print(\"numpy version: {}\".format(np.__version__))\n",
    "try:\n",
    "    print(\"pandas version: {}\".format(pd.__version__))\n",
    "except:\n",
    "    pass\n",
    "print(\"flopy version: {}\".format(flopy.__version__))"
   ]
  },
  {
   "cell_type": "markdown",
   "metadata": {},
   "source": [
    "### Make an MNW2 package from scratch"
   ]
  },
  {
   "cell_type": "code",
   "execution_count": 2,
   "metadata": {
    "execution": {
     "iopub.execute_input": "2023-02-22T02:41:11.757667Z",
     "iopub.status.busy": "2023-02-22T02:41:11.757304Z",
     "iopub.status.idle": "2023-02-22T02:41:11.763141Z",
     "shell.execute_reply": "2023-02-22T02:41:11.762533Z"
    }
   },
   "outputs": [],
   "source": [
    "# temporary directory\n",
    "temp_dir = TemporaryDirectory()\n",
    "model_ws = temp_dir.name\n",
    "\n",
    "m = flopy.modflow.Modflow(\"mnw2example\", model_ws=model_ws)\n",
    "dis = flopy.modflow.ModflowDis(\n",
    "    nrow=5, ncol=5, nlay=3, nper=3, top=10, botm=0, model=m\n",
    ")"
   ]
  },
  {
   "cell_type": "markdown",
   "metadata": {},
   "source": [
    "### MNW2 information by node\n",
    "(this could be prepared externally from well reconds and read in from a csv or excel file)\n",
    "* this table has two multi-node wells, the first (well1) consisting of two nodes that are manually specified\n",
    "(where the variable **rw** is specified by node)\n",
    "* node that some variables that are constant for the whole well are also included (losstype, zpump, etc.)"
   ]
  },
  {
   "cell_type": "code",
   "execution_count": 3,
   "metadata": {
    "execution": {
     "iopub.execute_input": "2023-02-22T02:41:11.766481Z",
     "iopub.status.busy": "2023-02-22T02:41:11.766196Z",
     "iopub.status.idle": "2023-02-22T02:41:11.792910Z",
     "shell.execute_reply": "2023-02-22T02:41:11.791747Z"
    }
   },
   "outputs": [
    {
     "data": {
      "text/html": [
       "<div>\n",
       "<style scoped>\n",
       "    .dataframe tbody tr th:only-of-type {\n",
       "        vertical-align: middle;\n",
       "    }\n",
       "\n",
       "    .dataframe tbody tr th {\n",
       "        vertical-align: top;\n",
       "    }\n",
       "\n",
       "    .dataframe thead th {\n",
       "        text-align: right;\n",
       "    }\n",
       "</style>\n",
       "<table border=\"1\" class=\"dataframe\">\n",
       "  <thead>\n",
       "    <tr style=\"text-align: right;\">\n",
       "      <th></th>\n",
       "      <th>i</th>\n",
       "      <th>j</th>\n",
       "      <th>ztop</th>\n",
       "      <th>zbotm</th>\n",
       "      <th>wellid</th>\n",
       "      <th>losstype</th>\n",
       "      <th>pumploc</th>\n",
       "      <th>qlimit</th>\n",
       "      <th>ppflag</th>\n",
       "      <th>pumpcap</th>\n",
       "      <th>rw</th>\n",
       "      <th>rskin</th>\n",
       "      <th>kskin</th>\n",
       "      <th>zpump</th>\n",
       "    </tr>\n",
       "  </thead>\n",
       "  <tbody>\n",
       "    <tr>\n",
       "      <th>0</th>\n",
       "      <td>1</td>\n",
       "      <td>1</td>\n",
       "      <td>9.5</td>\n",
       "      <td>7.1</td>\n",
       "      <td>well1</td>\n",
       "      <td>skin</td>\n",
       "      <td>-1</td>\n",
       "      <td>0</td>\n",
       "      <td>0</td>\n",
       "      <td>0</td>\n",
       "      <td>1.0</td>\n",
       "      <td>2.0</td>\n",
       "      <td>5.0</td>\n",
       "      <td>6.2</td>\n",
       "    </tr>\n",
       "    <tr>\n",
       "      <th>1</th>\n",
       "      <td>1</td>\n",
       "      <td>1</td>\n",
       "      <td>7.1</td>\n",
       "      <td>5.1</td>\n",
       "      <td>well1</td>\n",
       "      <td>skin</td>\n",
       "      <td>-1</td>\n",
       "      <td>0</td>\n",
       "      <td>0</td>\n",
       "      <td>0</td>\n",
       "      <td>0.5</td>\n",
       "      <td>2.0</td>\n",
       "      <td>5.0</td>\n",
       "      <td>6.2</td>\n",
       "    </tr>\n",
       "    <tr>\n",
       "      <th>2</th>\n",
       "      <td>3</td>\n",
       "      <td>3</td>\n",
       "      <td>9.1</td>\n",
       "      <td>3.7</td>\n",
       "      <td>well2</td>\n",
       "      <td>skin</td>\n",
       "      <td>-1</td>\n",
       "      <td>0</td>\n",
       "      <td>0</td>\n",
       "      <td>0</td>\n",
       "      <td>1.0</td>\n",
       "      <td>2.0</td>\n",
       "      <td>5.0</td>\n",
       "      <td>4.1</td>\n",
       "    </tr>\n",
       "  </tbody>\n",
       "</table>\n",
       "</div>"
      ],
      "text/plain": [
       "   i  j  ztop  zbotm wellid losstype  pumploc  qlimit  ppflag  pumpcap   rw  \\\n",
       "0  1  1   9.5    7.1  well1     skin       -1       0       0        0  1.0   \n",
       "1  1  1   7.1    5.1  well1     skin       -1       0       0        0  0.5   \n",
       "2  3  3   9.1    3.7  well2     skin       -1       0       0        0  1.0   \n",
       "\n",
       "   rskin  kskin  zpump  \n",
       "0    2.0    5.0    6.2  \n",
       "1    2.0    5.0    6.2  \n",
       "2    2.0    5.0    4.1  "
      ]
     },
     "execution_count": 3,
     "metadata": {},
     "output_type": "execute_result"
    }
   ],
   "source": [
    "node_data = pd.DataFrame(\n",
    "    [\n",
    "        [1, 1, 9.5, 7.1, \"well1\", \"skin\", -1, 0, 0, 0, 1.0, 2.0, 5.0, 6.2],\n",
    "        [1, 1, 7.1, 5.1, \"well1\", \"skin\", -1, 0, 0, 0, 0.5, 2.0, 5.0, 6.2],\n",
    "        [3, 3, 9.1, 3.7, \"well2\", \"skin\", -1, 0, 0, 0, 1.0, 2.0, 5.0, 4.1],\n",
    "    ],\n",
    "    columns=[\n",
    "        \"i\",\n",
    "        \"j\",\n",
    "        \"ztop\",\n",
    "        \"zbotm\",\n",
    "        \"wellid\",\n",
    "        \"losstype\",\n",
    "        \"pumploc\",\n",
    "        \"qlimit\",\n",
    "        \"ppflag\",\n",
    "        \"pumpcap\",\n",
    "        \"rw\",\n",
    "        \"rskin\",\n",
    "        \"kskin\",\n",
    "        \"zpump\",\n",
    "    ],\n",
    ")\n",
    "node_data"
   ]
  },
  {
   "cell_type": "markdown",
   "metadata": {},
   "source": [
    "#### convert the DataFrame to a recarray for compatibility with flopy"
   ]
  },
  {
   "cell_type": "code",
   "execution_count": 4,
   "metadata": {
    "execution": {
     "iopub.execute_input": "2023-02-22T02:41:11.797189Z",
     "iopub.status.busy": "2023-02-22T02:41:11.796379Z",
     "iopub.status.idle": "2023-02-22T02:41:11.806454Z",
     "shell.execute_reply": "2023-02-22T02:41:11.805563Z"
    }
   },
   "outputs": [
    {
     "data": {
      "text/plain": [
       "rec.array([(0, 1, 1, 9.5, 7.1, 'well1', 'skin', -1, 0, 0, 0, 1. , 2., 5., 6.2),\n",
       "           (1, 1, 1, 7.1, 5.1, 'well1', 'skin', -1, 0, 0, 0, 0.5, 2., 5., 6.2),\n",
       "           (2, 3, 3, 9.1, 3.7, 'well2', 'skin', -1, 0, 0, 0, 1. , 2., 5., 4.1)],\n",
       "          dtype=[('index', '<i8'), ('i', '<i8'), ('j', '<i8'), ('ztop', '<f8'), ('zbotm', '<f8'), ('wellid', 'O'), ('losstype', 'O'), ('pumploc', '<i8'), ('qlimit', '<i8'), ('ppflag', '<i8'), ('pumpcap', '<i8'), ('rw', '<f8'), ('rskin', '<f8'), ('kskin', '<f8'), ('zpump', '<f8')])"
      ]
     },
     "execution_count": 4,
     "metadata": {},
     "output_type": "execute_result"
    }
   ],
   "source": [
    "node_data = node_data.to_records()\n",
    "node_data"
   ]
  },
  {
   "cell_type": "markdown",
   "metadata": {},
   "source": [
    "### Stress period information\n",
    "(could also be developed externally)"
   ]
  },
  {
   "cell_type": "code",
   "execution_count": 5,
   "metadata": {
    "execution": {
     "iopub.execute_input": "2023-02-22T02:41:11.810991Z",
     "iopub.status.busy": "2023-02-22T02:41:11.810348Z",
     "iopub.status.idle": "2023-02-22T02:41:11.822420Z",
     "shell.execute_reply": "2023-02-22T02:41:11.821682Z"
    }
   },
   "outputs": [
    {
     "data": {
      "text/html": [
       "<div>\n",
       "<style scoped>\n",
       "    .dataframe tbody tr th:only-of-type {\n",
       "        vertical-align: middle;\n",
       "    }\n",
       "\n",
       "    .dataframe tbody tr th {\n",
       "        vertical-align: top;\n",
       "    }\n",
       "\n",
       "    .dataframe thead th {\n",
       "        text-align: right;\n",
       "    }\n",
       "</style>\n",
       "<table border=\"1\" class=\"dataframe\">\n",
       "  <thead>\n",
       "    <tr style=\"text-align: right;\">\n",
       "      <th></th>\n",
       "      <th>per</th>\n",
       "      <th>wellid</th>\n",
       "      <th>qdes</th>\n",
       "    </tr>\n",
       "  </thead>\n",
       "  <tbody>\n",
       "    <tr>\n",
       "      <th>0</th>\n",
       "      <td>0</td>\n",
       "      <td>well1</td>\n",
       "      <td>0.0</td>\n",
       "    </tr>\n",
       "    <tr>\n",
       "      <th>1</th>\n",
       "      <td>1</td>\n",
       "      <td>well1</td>\n",
       "      <td>100.0</td>\n",
       "    </tr>\n",
       "    <tr>\n",
       "      <th>2</th>\n",
       "      <td>0</td>\n",
       "      <td>well2</td>\n",
       "      <td>0.0</td>\n",
       "    </tr>\n",
       "    <tr>\n",
       "      <th>3</th>\n",
       "      <td>1</td>\n",
       "      <td>well2</td>\n",
       "      <td>1000.0</td>\n",
       "    </tr>\n",
       "  </tbody>\n",
       "</table>\n",
       "</div>"
      ],
      "text/plain": [
       "   per wellid    qdes\n",
       "0    0  well1     0.0\n",
       "1    1  well1   100.0\n",
       "2    0  well2     0.0\n",
       "3    1  well2  1000.0"
      ]
     },
     "execution_count": 5,
     "metadata": {},
     "output_type": "execute_result"
    }
   ],
   "source": [
    "stress_period_data = pd.DataFrame(\n",
    "    [\n",
    "        [0, \"well1\", 0],\n",
    "        [1, \"well1\", 100.0],\n",
    "        [0, \"well2\", 0],\n",
    "        [1, \"well2\", 1000.0],\n",
    "    ],\n",
    "    columns=[\"per\", \"wellid\", \"qdes\"],\n",
    ")\n",
    "stress_period_data"
   ]
  },
  {
   "cell_type": "code",
   "execution_count": 6,
   "metadata": {
    "execution": {
     "iopub.execute_input": "2023-02-22T02:41:11.826389Z",
     "iopub.status.busy": "2023-02-22T02:41:11.825507Z",
     "iopub.status.idle": "2023-02-22T02:41:11.834659Z",
     "shell.execute_reply": "2023-02-22T02:41:11.833920Z"
    }
   },
   "outputs": [
    {
     "data": {
      "text/plain": [
       "{0: rec.array([(0, 0, 'well1', 0.), (2, 0, 'well2', 0.)],\n",
       "           dtype=[('index', '<i8'), ('per', '<i8'), ('wellid', 'O'), ('qdes', '<f8')]),\n",
       " 1: rec.array([(1, 1, 'well1',  100.), (3, 1, 'well2', 1000.)],\n",
       "           dtype=[('index', '<i8'), ('per', '<i8'), ('wellid', 'O'), ('qdes', '<f8')])}"
      ]
     },
     "execution_count": 6,
     "metadata": {},
     "output_type": "execute_result"
    }
   ],
   "source": [
    "pers = stress_period_data.groupby(\"per\")\n",
    "stress_period_data = {i: pers.get_group(i).to_records() for i in [0, 1]}\n",
    "stress_period_data"
   ]
  },
  {
   "cell_type": "markdown",
   "metadata": {},
   "source": [
    "### Make ``ModflowMnw2`` package object\n",
    "* note that extraneous columns in node_data and stress_period_data are ignored\n",
    "* if itmp is positive, it must equal the number of active wells being specified in ``stress_period_data``, otherwise the package class will raise an error."
   ]
  },
  {
   "cell_type": "code",
   "execution_count": 7,
   "metadata": {
    "execution": {
     "iopub.execute_input": "2023-02-22T02:41:11.838538Z",
     "iopub.status.busy": "2023-02-22T02:41:11.837926Z",
     "iopub.status.idle": "2023-02-22T02:41:11.850330Z",
     "shell.execute_reply": "2023-02-22T02:41:11.849547Z"
    }
   },
   "outputs": [],
   "source": [
    "mnw2 = flopy.modflow.ModflowMnw2(\n",
    "    model=m,\n",
    "    mnwmax=2,\n",
    "    node_data=node_data,\n",
    "    stress_period_data=stress_period_data,\n",
    "    itmp=[2, 2, -1],  # reuse second per pumping for last stress period\n",
    ")"
   ]
  },
  {
   "cell_type": "code",
   "execution_count": 8,
   "metadata": {
    "execution": {
     "iopub.execute_input": "2023-02-22T02:41:11.854248Z",
     "iopub.status.busy": "2023-02-22T02:41:11.853617Z",
     "iopub.status.idle": "2023-02-22T02:41:11.858792Z",
     "shell.execute_reply": "2023-02-22T02:41:11.858040Z"
    }
   },
   "outputs": [
    {
     "data": {
      "text/plain": [
       "3"
      ]
     },
     "execution_count": 8,
     "metadata": {},
     "output_type": "execute_result"
    }
   ],
   "source": [
    "# \"nodtot\" is computed automatically\n",
    "mnw2.nodtot"
   ]
  },
  {
   "cell_type": "code",
   "execution_count": 9,
   "metadata": {
    "execution": {
     "iopub.execute_input": "2023-02-22T02:41:11.862726Z",
     "iopub.status.busy": "2023-02-22T02:41:11.862028Z",
     "iopub.status.idle": "2023-02-22T02:41:11.890833Z",
     "shell.execute_reply": "2023-02-22T02:41:11.890010Z"
    }
   },
   "outputs": [
    {
     "data": {
      "text/html": [
       "<div>\n",
       "<style scoped>\n",
       "    .dataframe tbody tr th:only-of-type {\n",
       "        vertical-align: middle;\n",
       "    }\n",
       "\n",
       "    .dataframe tbody tr th {\n",
       "        vertical-align: top;\n",
       "    }\n",
       "\n",
       "    .dataframe thead th {\n",
       "        text-align: right;\n",
       "    }\n",
       "</style>\n",
       "<table border=\"1\" class=\"dataframe\">\n",
       "  <thead>\n",
       "    <tr style=\"text-align: right;\">\n",
       "      <th></th>\n",
       "      <th>k</th>\n",
       "      <th>i</th>\n",
       "      <th>j</th>\n",
       "      <th>ztop</th>\n",
       "      <th>zbotm</th>\n",
       "      <th>wellid</th>\n",
       "      <th>losstype</th>\n",
       "      <th>pumploc</th>\n",
       "      <th>qlimit</th>\n",
       "      <th>ppflag</th>\n",
       "      <th>...</th>\n",
       "      <th>hlim</th>\n",
       "      <th>qcut</th>\n",
       "      <th>qfrcmn</th>\n",
       "      <th>qfrcmx</th>\n",
       "      <th>hlift</th>\n",
       "      <th>liftq0</th>\n",
       "      <th>liftqmax</th>\n",
       "      <th>hwtol</th>\n",
       "      <th>liftn</th>\n",
       "      <th>qn</th>\n",
       "    </tr>\n",
       "  </thead>\n",
       "  <tbody>\n",
       "    <tr>\n",
       "      <th>0</th>\n",
       "      <td>0</td>\n",
       "      <td>1</td>\n",
       "      <td>1</td>\n",
       "      <td>9.5</td>\n",
       "      <td>7.1</td>\n",
       "      <td>well1</td>\n",
       "      <td>skin</td>\n",
       "      <td>-1</td>\n",
       "      <td>0</td>\n",
       "      <td>0</td>\n",
       "      <td>...</td>\n",
       "      <td>0.0</td>\n",
       "      <td>0</td>\n",
       "      <td>0.0</td>\n",
       "      <td>0.0</td>\n",
       "      <td>0.0</td>\n",
       "      <td>0.0</td>\n",
       "      <td>0.0</td>\n",
       "      <td>0.0</td>\n",
       "      <td>0.0</td>\n",
       "      <td>0.0</td>\n",
       "    </tr>\n",
       "    <tr>\n",
       "      <th>1</th>\n",
       "      <td>0</td>\n",
       "      <td>1</td>\n",
       "      <td>1</td>\n",
       "      <td>7.1</td>\n",
       "      <td>5.1</td>\n",
       "      <td>well1</td>\n",
       "      <td>skin</td>\n",
       "      <td>-1</td>\n",
       "      <td>0</td>\n",
       "      <td>0</td>\n",
       "      <td>...</td>\n",
       "      <td>0.0</td>\n",
       "      <td>0</td>\n",
       "      <td>0.0</td>\n",
       "      <td>0.0</td>\n",
       "      <td>0.0</td>\n",
       "      <td>0.0</td>\n",
       "      <td>0.0</td>\n",
       "      <td>0.0</td>\n",
       "      <td>0.0</td>\n",
       "      <td>0.0</td>\n",
       "    </tr>\n",
       "    <tr>\n",
       "      <th>2</th>\n",
       "      <td>0</td>\n",
       "      <td>3</td>\n",
       "      <td>3</td>\n",
       "      <td>9.1</td>\n",
       "      <td>3.7</td>\n",
       "      <td>well2</td>\n",
       "      <td>skin</td>\n",
       "      <td>-1</td>\n",
       "      <td>0</td>\n",
       "      <td>0</td>\n",
       "      <td>...</td>\n",
       "      <td>0.0</td>\n",
       "      <td>0</td>\n",
       "      <td>0.0</td>\n",
       "      <td>0.0</td>\n",
       "      <td>0.0</td>\n",
       "      <td>0.0</td>\n",
       "      <td>0.0</td>\n",
       "      <td>0.0</td>\n",
       "      <td>0.0</td>\n",
       "      <td>0.0</td>\n",
       "    </tr>\n",
       "  </tbody>\n",
       "</table>\n",
       "<p>3 rows × 33 columns</p>\n",
       "</div>"
      ],
      "text/plain": [
       "   k  i  j  ztop  zbotm wellid losstype  pumploc  qlimit  ppflag  ...  hlim  \\\n",
       "0  0  1  1   9.5    7.1  well1     skin       -1       0       0  ...   0.0   \n",
       "1  0  1  1   7.1    5.1  well1     skin       -1       0       0  ...   0.0   \n",
       "2  0  3  3   9.1    3.7  well2     skin       -1       0       0  ...   0.0   \n",
       "\n",
       "   qcut  qfrcmn  qfrcmx  hlift  liftq0  liftqmax  hwtol  liftn   qn  \n",
       "0     0     0.0     0.0    0.0     0.0       0.0    0.0    0.0  0.0  \n",
       "1     0     0.0     0.0    0.0     0.0       0.0    0.0    0.0  0.0  \n",
       "2     0     0.0     0.0    0.0     0.0       0.0    0.0    0.0  0.0  \n",
       "\n",
       "[3 rows x 33 columns]"
      ]
     },
     "execution_count": 9,
     "metadata": {},
     "output_type": "execute_result"
    }
   ],
   "source": [
    "pd.DataFrame(mnw2.node_data)"
   ]
  },
  {
   "cell_type": "code",
   "execution_count": 10,
   "metadata": {
    "execution": {
     "iopub.execute_input": "2023-02-22T02:41:11.894379Z",
     "iopub.status.busy": "2023-02-22T02:41:11.893888Z",
     "iopub.status.idle": "2023-02-22T02:41:11.905952Z",
     "shell.execute_reply": "2023-02-22T02:41:11.905311Z"
    }
   },
   "outputs": [
    {
     "data": {
      "text/html": [
       "<div>\n",
       "<style scoped>\n",
       "    .dataframe tbody tr th:only-of-type {\n",
       "        vertical-align: middle;\n",
       "    }\n",
       "\n",
       "    .dataframe tbody tr th {\n",
       "        vertical-align: top;\n",
       "    }\n",
       "\n",
       "    .dataframe thead th {\n",
       "        text-align: right;\n",
       "    }\n",
       "</style>\n",
       "<table border=\"1\" class=\"dataframe\">\n",
       "  <thead>\n",
       "    <tr style=\"text-align: right;\">\n",
       "      <th></th>\n",
       "      <th>k</th>\n",
       "      <th>i</th>\n",
       "      <th>j</th>\n",
       "      <th>wellid</th>\n",
       "      <th>qdes</th>\n",
       "      <th>capmult</th>\n",
       "      <th>cprime</th>\n",
       "      <th>hlim</th>\n",
       "      <th>qcut</th>\n",
       "      <th>qfrcmn</th>\n",
       "      <th>qfrcmx</th>\n",
       "    </tr>\n",
       "  </thead>\n",
       "  <tbody>\n",
       "    <tr>\n",
       "      <th>0</th>\n",
       "      <td>0</td>\n",
       "      <td>1</td>\n",
       "      <td>1</td>\n",
       "      <td>well1</td>\n",
       "      <td>0.0</td>\n",
       "      <td>0</td>\n",
       "      <td>0.0</td>\n",
       "      <td>0.0</td>\n",
       "      <td>0</td>\n",
       "      <td>0.0</td>\n",
       "      <td>0.0</td>\n",
       "    </tr>\n",
       "    <tr>\n",
       "      <th>1</th>\n",
       "      <td>0</td>\n",
       "      <td>3</td>\n",
       "      <td>3</td>\n",
       "      <td>well2</td>\n",
       "      <td>0.0</td>\n",
       "      <td>0</td>\n",
       "      <td>0.0</td>\n",
       "      <td>0.0</td>\n",
       "      <td>0</td>\n",
       "      <td>0.0</td>\n",
       "      <td>0.0</td>\n",
       "    </tr>\n",
       "  </tbody>\n",
       "</table>\n",
       "</div>"
      ],
      "text/plain": [
       "   k  i  j wellid  qdes  capmult  cprime  hlim  qcut  qfrcmn  qfrcmx\n",
       "0  0  1  1  well1   0.0        0     0.0   0.0     0     0.0     0.0\n",
       "1  0  3  3  well2   0.0        0     0.0   0.0     0     0.0     0.0"
      ]
     },
     "execution_count": 10,
     "metadata": {},
     "output_type": "execute_result"
    }
   ],
   "source": [
    "pd.DataFrame(mnw2.stress_period_data[0])"
   ]
  },
  {
   "cell_type": "code",
   "execution_count": 11,
   "metadata": {
    "execution": {
     "iopub.execute_input": "2023-02-22T02:41:11.909425Z",
     "iopub.status.busy": "2023-02-22T02:41:11.908905Z",
     "iopub.status.idle": "2023-02-22T02:41:11.921474Z",
     "shell.execute_reply": "2023-02-22T02:41:11.920831Z"
    }
   },
   "outputs": [
    {
     "data": {
      "text/html": [
       "<div>\n",
       "<style scoped>\n",
       "    .dataframe tbody tr th:only-of-type {\n",
       "        vertical-align: middle;\n",
       "    }\n",
       "\n",
       "    .dataframe tbody tr th {\n",
       "        vertical-align: top;\n",
       "    }\n",
       "\n",
       "    .dataframe thead th {\n",
       "        text-align: right;\n",
       "    }\n",
       "</style>\n",
       "<table border=\"1\" class=\"dataframe\">\n",
       "  <thead>\n",
       "    <tr style=\"text-align: right;\">\n",
       "      <th></th>\n",
       "      <th>k</th>\n",
       "      <th>i</th>\n",
       "      <th>j</th>\n",
       "      <th>wellid</th>\n",
       "      <th>qdes</th>\n",
       "      <th>capmult</th>\n",
       "      <th>cprime</th>\n",
       "      <th>hlim</th>\n",
       "      <th>qcut</th>\n",
       "      <th>qfrcmn</th>\n",
       "      <th>qfrcmx</th>\n",
       "    </tr>\n",
       "  </thead>\n",
       "  <tbody>\n",
       "    <tr>\n",
       "      <th>0</th>\n",
       "      <td>0</td>\n",
       "      <td>1</td>\n",
       "      <td>1</td>\n",
       "      <td>well1</td>\n",
       "      <td>100.0</td>\n",
       "      <td>0</td>\n",
       "      <td>0.0</td>\n",
       "      <td>0.0</td>\n",
       "      <td>0</td>\n",
       "      <td>0.0</td>\n",
       "      <td>0.0</td>\n",
       "    </tr>\n",
       "    <tr>\n",
       "      <th>1</th>\n",
       "      <td>0</td>\n",
       "      <td>3</td>\n",
       "      <td>3</td>\n",
       "      <td>well2</td>\n",
       "      <td>1000.0</td>\n",
       "      <td>0</td>\n",
       "      <td>0.0</td>\n",
       "      <td>0.0</td>\n",
       "      <td>0</td>\n",
       "      <td>0.0</td>\n",
       "      <td>0.0</td>\n",
       "    </tr>\n",
       "  </tbody>\n",
       "</table>\n",
       "</div>"
      ],
      "text/plain": [
       "   k  i  j wellid    qdes  capmult  cprime  hlim  qcut  qfrcmn  qfrcmx\n",
       "0  0  1  1  well1   100.0        0     0.0   0.0     0     0.0     0.0\n",
       "1  0  3  3  well2  1000.0        0     0.0   0.0     0     0.0     0.0"
      ]
     },
     "execution_count": 11,
     "metadata": {},
     "output_type": "execute_result"
    }
   ],
   "source": [
    "pd.DataFrame(mnw2.stress_period_data[1])"
   ]
  },
  {
   "cell_type": "code",
   "execution_count": 12,
   "metadata": {
    "execution": {
     "iopub.execute_input": "2023-02-22T02:41:11.925090Z",
     "iopub.status.busy": "2023-02-22T02:41:11.924546Z",
     "iopub.status.idle": "2023-02-22T02:41:11.928569Z",
     "shell.execute_reply": "2023-02-22T02:41:11.927924Z"
    }
   },
   "outputs": [],
   "source": [
    "tmp = flopy.modflow.ModflowMnw2(\n",
    "    model=m,\n",
    "    itmp=[1, 1, -1],  # reuse second per pumping for last stress period\n",
    ")"
   ]
  },
  {
   "cell_type": "markdown",
   "metadata": {},
   "source": [
    "### empty ``node_data`` and ``stress_period_data`` tables can also be generated by the package class, and then filled"
   ]
  },
  {
   "cell_type": "code",
   "execution_count": 13,
   "metadata": {
    "execution": {
     "iopub.execute_input": "2023-02-22T02:41:11.932125Z",
     "iopub.status.busy": "2023-02-22T02:41:11.931554Z",
     "iopub.status.idle": "2023-02-22T02:41:11.940151Z",
     "shell.execute_reply": "2023-02-22T02:41:11.939056Z"
    }
   },
   "outputs": [
    {
     "data": {
      "text/plain": [
       "rec.array([(0, 0, 0, 0., 0., 0, 0, 0, 0, 0, 0, 0., 0., 0., 0., 0., 0., 0., 0., 0, 0, 0, 0., 0., 0, 0., 0., 0., 0., 0., 0., 0., 0.),\n",
       "           (0, 0, 0, 0., 0., 0, 0, 0, 0, 0, 0, 0., 0., 0., 0., 0., 0., 0., 0., 0, 0, 0, 0., 0., 0, 0., 0., 0., 0., 0., 0., 0., 0.),\n",
       "           (0, 0, 0, 0., 0., 0, 0, 0, 0, 0, 0, 0., 0., 0., 0., 0., 0., 0., 0., 0, 0, 0, 0., 0., 0, 0., 0., 0., 0., 0., 0., 0., 0.)],\n",
       "          dtype=[('k', '<i8'), ('i', '<i8'), ('j', '<i8'), ('ztop', '<f4'), ('zbotm', '<f4'), ('wellid', 'O'), ('losstype', 'O'), ('pumploc', '<i8'), ('qlimit', '<i8'), ('ppflag', '<i8'), ('pumpcap', '<i8'), ('rw', '<f4'), ('rskin', '<f4'), ('kskin', '<f4'), ('B', '<f4'), ('C', '<f4'), ('P', '<f4'), ('cwc', '<f4'), ('pp', '<f4'), ('pumplay', '<i8'), ('pumprow', '<i8'), ('pumpcol', '<i8'), ('zpump', '<f4'), ('hlim', '<f4'), ('qcut', '<i8'), ('qfrcmn', '<f4'), ('qfrcmx', '<f4'), ('hlift', '<f4'), ('liftq0', '<f4'), ('liftqmax', '<f4'), ('hwtol', '<f4'), ('liftn', '<f4'), ('qn', '<f4')])"
      ]
     },
     "execution_count": 13,
     "metadata": {},
     "output_type": "execute_result"
    }
   ],
   "source": [
    "node_data = tmp.get_empty_node_data(3)\n",
    "node_data"
   ]
  },
  {
   "cell_type": "markdown",
   "metadata": {},
   "source": [
    "### Mnw objects\n",
    "at the base of the flopy mnw2 module is the **Mnw** object class, which describes a single multi-node well.\n",
    "A list or dict of **Mnw** objects can be used to build a package (using the example above):\n",
    "```\n",
    "flopy.modflow.ModflowMnw2(model=m, mnwmax=2,\n",
    "                 mnw=<dict or list of Mnw objects>,\n",
    "                 itmp=[1, 1, -1], # reuse second per pumping for last stress period\n",
    "                 )\n",
    "```\n",
    "or if node_data and stress_period_data are supplied, the **Mnw** objects are created on initialization of the ModflowMnw2 class instance, and assigned to the ```.mnw``` attribute, as items in a dictionary keyed by ```wellid```."
   ]
  },
  {
   "cell_type": "code",
   "execution_count": 14,
   "metadata": {
    "execution": {
     "iopub.execute_input": "2023-02-22T02:41:11.944070Z",
     "iopub.status.busy": "2023-02-22T02:41:11.943588Z",
     "iopub.status.idle": "2023-02-22T02:41:11.948190Z",
     "shell.execute_reply": "2023-02-22T02:41:11.947605Z"
    }
   },
   "outputs": [
    {
     "data": {
      "text/plain": [
       "{'well1': <flopy.modflow.mfmnw2.Mnw at 0x7f54d6cda0b0>,\n",
       " 'well2': <flopy.modflow.mfmnw2.Mnw at 0x7f54d6cd9d80>}"
      ]
     },
     "execution_count": 14,
     "metadata": {},
     "output_type": "execute_result"
    }
   ],
   "source": [
    "mnw2.mnw"
   ]
  },
  {
   "cell_type": "code",
   "execution_count": 15,
   "metadata": {
    "execution": {
     "iopub.execute_input": "2023-02-22T02:41:11.951077Z",
     "iopub.status.busy": "2023-02-22T02:41:11.950712Z",
     "iopub.status.idle": "2023-02-22T02:41:11.955064Z",
     "shell.execute_reply": "2023-02-22T02:41:11.954344Z"
    }
   },
   "outputs": [
    {
     "data": {
      "text/plain": [
       "[1.0, 0.5]"
      ]
     },
     "execution_count": 15,
     "metadata": {},
     "output_type": "execute_result"
    }
   ],
   "source": [
    "mnw2.mnw[\"well1\"].rw"
   ]
  },
  {
   "cell_type": "markdown",
   "metadata": {},
   "source": [
    "Note that Mnw object attributes for variables that vary by node are lists (e.g. ``rw`` above)\n",
    "\n",
    "#### Each Mnw object has its own ``node_data`` and ``stress_period_data``"
   ]
  },
  {
   "cell_type": "code",
   "execution_count": 16,
   "metadata": {
    "execution": {
     "iopub.execute_input": "2023-02-22T02:41:11.958425Z",
     "iopub.status.busy": "2023-02-22T02:41:11.957935Z",
     "iopub.status.idle": "2023-02-22T02:41:11.980242Z",
     "shell.execute_reply": "2023-02-22T02:41:11.979568Z"
    }
   },
   "outputs": [
    {
     "data": {
      "text/html": [
       "<div>\n",
       "<style scoped>\n",
       "    .dataframe tbody tr th:only-of-type {\n",
       "        vertical-align: middle;\n",
       "    }\n",
       "\n",
       "    .dataframe tbody tr th {\n",
       "        vertical-align: top;\n",
       "    }\n",
       "\n",
       "    .dataframe thead th {\n",
       "        text-align: right;\n",
       "    }\n",
       "</style>\n",
       "<table border=\"1\" class=\"dataframe\">\n",
       "  <thead>\n",
       "    <tr style=\"text-align: right;\">\n",
       "      <th></th>\n",
       "      <th>k</th>\n",
       "      <th>i</th>\n",
       "      <th>j</th>\n",
       "      <th>ztop</th>\n",
       "      <th>zbotm</th>\n",
       "      <th>wellid</th>\n",
       "      <th>losstype</th>\n",
       "      <th>pumploc</th>\n",
       "      <th>qlimit</th>\n",
       "      <th>ppflag</th>\n",
       "      <th>...</th>\n",
       "      <th>hlim</th>\n",
       "      <th>qcut</th>\n",
       "      <th>qfrcmn</th>\n",
       "      <th>qfrcmx</th>\n",
       "      <th>hlift</th>\n",
       "      <th>liftq0</th>\n",
       "      <th>liftqmax</th>\n",
       "      <th>hwtol</th>\n",
       "      <th>liftn</th>\n",
       "      <th>qn</th>\n",
       "    </tr>\n",
       "  </thead>\n",
       "  <tbody>\n",
       "    <tr>\n",
       "      <th>0</th>\n",
       "      <td>0</td>\n",
       "      <td>1</td>\n",
       "      <td>1</td>\n",
       "      <td>9.5</td>\n",
       "      <td>7.1</td>\n",
       "      <td>well1</td>\n",
       "      <td>skin</td>\n",
       "      <td>-1</td>\n",
       "      <td>0</td>\n",
       "      <td>0</td>\n",
       "      <td>...</td>\n",
       "      <td>0.0</td>\n",
       "      <td>0</td>\n",
       "      <td>0.0</td>\n",
       "      <td>0.0</td>\n",
       "      <td>0.0</td>\n",
       "      <td>0.0</td>\n",
       "      <td>0.0</td>\n",
       "      <td>0.0</td>\n",
       "      <td>0.0</td>\n",
       "      <td>0.0</td>\n",
       "    </tr>\n",
       "    <tr>\n",
       "      <th>1</th>\n",
       "      <td>0</td>\n",
       "      <td>1</td>\n",
       "      <td>1</td>\n",
       "      <td>7.1</td>\n",
       "      <td>5.1</td>\n",
       "      <td>well1</td>\n",
       "      <td>skin</td>\n",
       "      <td>-1</td>\n",
       "      <td>0</td>\n",
       "      <td>0</td>\n",
       "      <td>...</td>\n",
       "      <td>0.0</td>\n",
       "      <td>0</td>\n",
       "      <td>0.0</td>\n",
       "      <td>0.0</td>\n",
       "      <td>0.0</td>\n",
       "      <td>0.0</td>\n",
       "      <td>0.0</td>\n",
       "      <td>0.0</td>\n",
       "      <td>0.0</td>\n",
       "      <td>0.0</td>\n",
       "    </tr>\n",
       "  </tbody>\n",
       "</table>\n",
       "<p>2 rows × 33 columns</p>\n",
       "</div>"
      ],
      "text/plain": [
       "   k  i  j  ztop  zbotm wellid losstype  pumploc  qlimit  ppflag  ...  hlim  \\\n",
       "0  0  1  1   9.5    7.1  well1     skin       -1       0       0  ...   0.0   \n",
       "1  0  1  1   7.1    5.1  well1     skin       -1       0       0  ...   0.0   \n",
       "\n",
       "   qcut  qfrcmn  qfrcmx  hlift  liftq0  liftqmax  hwtol  liftn   qn  \n",
       "0     0     0.0     0.0    0.0     0.0       0.0    0.0    0.0  0.0  \n",
       "1     0     0.0     0.0    0.0     0.0       0.0    0.0    0.0  0.0  \n",
       "\n",
       "[2 rows x 33 columns]"
      ]
     },
     "execution_count": 16,
     "metadata": {},
     "output_type": "execute_result"
    }
   ],
   "source": [
    "pd.DataFrame(mnw2.mnw[\"well1\"].node_data)"
   ]
  },
  {
   "cell_type": "markdown",
   "metadata": {},
   "source": [
    "#### Instead of a dict keyed by stress period, Mnw.stress_period_data is a recarray with pumping data listed by stress period for that well\n",
    "* note that data for period 2, where ``itmp`` < 1, is shown (was copied from s.p. 1 during construction of the **Mnw** object)"
   ]
  },
  {
   "cell_type": "code",
   "execution_count": 17,
   "metadata": {
    "execution": {
     "iopub.execute_input": "2023-02-22T02:41:11.983099Z",
     "iopub.status.busy": "2023-02-22T02:41:11.982890Z",
     "iopub.status.idle": "2023-02-22T02:41:11.993463Z",
     "shell.execute_reply": "2023-02-22T02:41:11.992846Z"
    }
   },
   "outputs": [
    {
     "data": {
      "text/html": [
       "<div>\n",
       "<style scoped>\n",
       "    .dataframe tbody tr th:only-of-type {\n",
       "        vertical-align: middle;\n",
       "    }\n",
       "\n",
       "    .dataframe tbody tr th {\n",
       "        vertical-align: top;\n",
       "    }\n",
       "\n",
       "    .dataframe thead th {\n",
       "        text-align: right;\n",
       "    }\n",
       "</style>\n",
       "<table border=\"1\" class=\"dataframe\">\n",
       "  <thead>\n",
       "    <tr style=\"text-align: right;\">\n",
       "      <th></th>\n",
       "      <th>k</th>\n",
       "      <th>i</th>\n",
       "      <th>j</th>\n",
       "      <th>per</th>\n",
       "      <th>qdes</th>\n",
       "      <th>capmult</th>\n",
       "      <th>cprime</th>\n",
       "      <th>hlim</th>\n",
       "      <th>qcut</th>\n",
       "      <th>qfrcmn</th>\n",
       "      <th>qfrcmx</th>\n",
       "    </tr>\n",
       "  </thead>\n",
       "  <tbody>\n",
       "    <tr>\n",
       "      <th>0</th>\n",
       "      <td>0</td>\n",
       "      <td>3</td>\n",
       "      <td>3</td>\n",
       "      <td>0</td>\n",
       "      <td>0.0</td>\n",
       "      <td>0</td>\n",
       "      <td>0.0</td>\n",
       "      <td>0.0</td>\n",
       "      <td>0</td>\n",
       "      <td>0.0</td>\n",
       "      <td>0.0</td>\n",
       "    </tr>\n",
       "    <tr>\n",
       "      <th>1</th>\n",
       "      <td>0</td>\n",
       "      <td>3</td>\n",
       "      <td>3</td>\n",
       "      <td>1</td>\n",
       "      <td>1000.0</td>\n",
       "      <td>0</td>\n",
       "      <td>0.0</td>\n",
       "      <td>0.0</td>\n",
       "      <td>0</td>\n",
       "      <td>0.0</td>\n",
       "      <td>0.0</td>\n",
       "    </tr>\n",
       "    <tr>\n",
       "      <th>2</th>\n",
       "      <td>0</td>\n",
       "      <td>3</td>\n",
       "      <td>3</td>\n",
       "      <td>1</td>\n",
       "      <td>1000.0</td>\n",
       "      <td>0</td>\n",
       "      <td>0.0</td>\n",
       "      <td>0.0</td>\n",
       "      <td>0</td>\n",
       "      <td>0.0</td>\n",
       "      <td>0.0</td>\n",
       "    </tr>\n",
       "  </tbody>\n",
       "</table>\n",
       "</div>"
      ],
      "text/plain": [
       "   k  i  j  per    qdes  capmult  cprime  hlim  qcut  qfrcmn  qfrcmx\n",
       "0  0  3  3    0     0.0        0     0.0   0.0     0     0.0     0.0\n",
       "1  0  3  3    1  1000.0        0     0.0   0.0     0     0.0     0.0\n",
       "2  0  3  3    1  1000.0        0     0.0   0.0     0     0.0     0.0"
      ]
     },
     "execution_count": 17,
     "metadata": {},
     "output_type": "execute_result"
    }
   ],
   "source": [
    "pd.DataFrame(mnw2.mnw[\"well2\"].stress_period_data)"
   ]
  },
  {
   "cell_type": "markdown",
   "metadata": {},
   "source": [
    "### Build the same package using only the ``Mnw`` objects"
   ]
  },
  {
   "cell_type": "code",
   "execution_count": 18,
   "metadata": {
    "execution": {
     "iopub.execute_input": "2023-02-22T02:41:11.996433Z",
     "iopub.status.busy": "2023-02-22T02:41:11.996146Z",
     "iopub.status.idle": "2023-02-22T02:41:12.000773Z",
     "shell.execute_reply": "2023-02-22T02:41:12.000163Z"
    }
   },
   "outputs": [],
   "source": [
    "mnw2fromobj = flopy.modflow.ModflowMnw2(\n",
    "    model=m,\n",
    "    mnwmax=2,\n",
    "    mnw=mnw2.mnw,\n",
    "    itmp=[2, 2, -1],  # reuse second per pumping for last stress period\n",
    ")"
   ]
  },
  {
   "cell_type": "code",
   "execution_count": 19,
   "metadata": {
    "execution": {
     "iopub.execute_input": "2023-02-22T02:41:12.004382Z",
     "iopub.status.busy": "2023-02-22T02:41:12.004018Z",
     "iopub.status.idle": "2023-02-22T02:41:12.021464Z",
     "shell.execute_reply": "2023-02-22T02:41:12.020895Z"
    }
   },
   "outputs": [
    {
     "data": {
      "text/html": [
       "<div>\n",
       "<style scoped>\n",
       "    .dataframe tbody tr th:only-of-type {\n",
       "        vertical-align: middle;\n",
       "    }\n",
       "\n",
       "    .dataframe tbody tr th {\n",
       "        vertical-align: top;\n",
       "    }\n",
       "\n",
       "    .dataframe thead th {\n",
       "        text-align: right;\n",
       "    }\n",
       "</style>\n",
       "<table border=\"1\" class=\"dataframe\">\n",
       "  <thead>\n",
       "    <tr style=\"text-align: right;\">\n",
       "      <th></th>\n",
       "      <th>k</th>\n",
       "      <th>i</th>\n",
       "      <th>j</th>\n",
       "      <th>ztop</th>\n",
       "      <th>zbotm</th>\n",
       "      <th>wellid</th>\n",
       "      <th>losstype</th>\n",
       "      <th>pumploc</th>\n",
       "      <th>qlimit</th>\n",
       "      <th>ppflag</th>\n",
       "      <th>...</th>\n",
       "      <th>hlim</th>\n",
       "      <th>qcut</th>\n",
       "      <th>qfrcmn</th>\n",
       "      <th>qfrcmx</th>\n",
       "      <th>hlift</th>\n",
       "      <th>liftq0</th>\n",
       "      <th>liftqmax</th>\n",
       "      <th>hwtol</th>\n",
       "      <th>liftn</th>\n",
       "      <th>qn</th>\n",
       "    </tr>\n",
       "  </thead>\n",
       "  <tbody>\n",
       "    <tr>\n",
       "      <th>0</th>\n",
       "      <td>0</td>\n",
       "      <td>1</td>\n",
       "      <td>1</td>\n",
       "      <td>9.5</td>\n",
       "      <td>7.1</td>\n",
       "      <td>well1</td>\n",
       "      <td>skin</td>\n",
       "      <td>-1</td>\n",
       "      <td>0</td>\n",
       "      <td>0</td>\n",
       "      <td>...</td>\n",
       "      <td>0.0</td>\n",
       "      <td>0</td>\n",
       "      <td>0.0</td>\n",
       "      <td>0.0</td>\n",
       "      <td>0.0</td>\n",
       "      <td>0.0</td>\n",
       "      <td>0.0</td>\n",
       "      <td>0.0</td>\n",
       "      <td>0.0</td>\n",
       "      <td>0.0</td>\n",
       "    </tr>\n",
       "    <tr>\n",
       "      <th>1</th>\n",
       "      <td>0</td>\n",
       "      <td>1</td>\n",
       "      <td>1</td>\n",
       "      <td>7.1</td>\n",
       "      <td>5.1</td>\n",
       "      <td>well1</td>\n",
       "      <td>skin</td>\n",
       "      <td>-1</td>\n",
       "      <td>0</td>\n",
       "      <td>0</td>\n",
       "      <td>...</td>\n",
       "      <td>0.0</td>\n",
       "      <td>0</td>\n",
       "      <td>0.0</td>\n",
       "      <td>0.0</td>\n",
       "      <td>0.0</td>\n",
       "      <td>0.0</td>\n",
       "      <td>0.0</td>\n",
       "      <td>0.0</td>\n",
       "      <td>0.0</td>\n",
       "      <td>0.0</td>\n",
       "    </tr>\n",
       "    <tr>\n",
       "      <th>2</th>\n",
       "      <td>0</td>\n",
       "      <td>3</td>\n",
       "      <td>3</td>\n",
       "      <td>9.1</td>\n",
       "      <td>3.7</td>\n",
       "      <td>well2</td>\n",
       "      <td>skin</td>\n",
       "      <td>-1</td>\n",
       "      <td>0</td>\n",
       "      <td>0</td>\n",
       "      <td>...</td>\n",
       "      <td>0.0</td>\n",
       "      <td>0</td>\n",
       "      <td>0.0</td>\n",
       "      <td>0.0</td>\n",
       "      <td>0.0</td>\n",
       "      <td>0.0</td>\n",
       "      <td>0.0</td>\n",
       "      <td>0.0</td>\n",
       "      <td>0.0</td>\n",
       "      <td>0.0</td>\n",
       "    </tr>\n",
       "  </tbody>\n",
       "</table>\n",
       "<p>3 rows × 33 columns</p>\n",
       "</div>"
      ],
      "text/plain": [
       "   k  i  j  ztop  zbotm wellid losstype  pumploc  qlimit  ppflag  ...  hlim  \\\n",
       "0  0  1  1   9.5    7.1  well1     skin       -1       0       0  ...   0.0   \n",
       "1  0  1  1   7.1    5.1  well1     skin       -1       0       0  ...   0.0   \n",
       "2  0  3  3   9.1    3.7  well2     skin       -1       0       0  ...   0.0   \n",
       "\n",
       "   qcut  qfrcmn  qfrcmx  hlift  liftq0  liftqmax  hwtol  liftn   qn  \n",
       "0     0     0.0     0.0    0.0     0.0       0.0    0.0    0.0  0.0  \n",
       "1     0     0.0     0.0    0.0     0.0       0.0    0.0    0.0  0.0  \n",
       "2     0     0.0     0.0    0.0     0.0       0.0    0.0    0.0  0.0  \n",
       "\n",
       "[3 rows x 33 columns]"
      ]
     },
     "execution_count": 19,
     "metadata": {},
     "output_type": "execute_result"
    }
   ],
   "source": [
    "pd.DataFrame(mnw2fromobj.node_data)"
   ]
  },
  {
   "cell_type": "code",
   "execution_count": 20,
   "metadata": {
    "execution": {
     "iopub.execute_input": "2023-02-22T02:41:12.024194Z",
     "iopub.status.busy": "2023-02-22T02:41:12.023984Z",
     "iopub.status.idle": "2023-02-22T02:41:12.035039Z",
     "shell.execute_reply": "2023-02-22T02:41:12.034306Z"
    }
   },
   "outputs": [
    {
     "data": {
      "text/html": [
       "<div>\n",
       "<style scoped>\n",
       "    .dataframe tbody tr th:only-of-type {\n",
       "        vertical-align: middle;\n",
       "    }\n",
       "\n",
       "    .dataframe tbody tr th {\n",
       "        vertical-align: top;\n",
       "    }\n",
       "\n",
       "    .dataframe thead th {\n",
       "        text-align: right;\n",
       "    }\n",
       "</style>\n",
       "<table border=\"1\" class=\"dataframe\">\n",
       "  <thead>\n",
       "    <tr style=\"text-align: right;\">\n",
       "      <th></th>\n",
       "      <th>k</th>\n",
       "      <th>i</th>\n",
       "      <th>j</th>\n",
       "      <th>wellid</th>\n",
       "      <th>qdes</th>\n",
       "      <th>capmult</th>\n",
       "      <th>cprime</th>\n",
       "      <th>hlim</th>\n",
       "      <th>qcut</th>\n",
       "      <th>qfrcmn</th>\n",
       "      <th>qfrcmx</th>\n",
       "    </tr>\n",
       "  </thead>\n",
       "  <tbody>\n",
       "    <tr>\n",
       "      <th>0</th>\n",
       "      <td>0</td>\n",
       "      <td>1</td>\n",
       "      <td>1</td>\n",
       "      <td>well1</td>\n",
       "      <td>0.0</td>\n",
       "      <td>0</td>\n",
       "      <td>0.0</td>\n",
       "      <td>0.0</td>\n",
       "      <td>0</td>\n",
       "      <td>0.0</td>\n",
       "      <td>0.0</td>\n",
       "    </tr>\n",
       "    <tr>\n",
       "      <th>1</th>\n",
       "      <td>0</td>\n",
       "      <td>3</td>\n",
       "      <td>3</td>\n",
       "      <td>well2</td>\n",
       "      <td>0.0</td>\n",
       "      <td>0</td>\n",
       "      <td>0.0</td>\n",
       "      <td>0.0</td>\n",
       "      <td>0</td>\n",
       "      <td>0.0</td>\n",
       "      <td>0.0</td>\n",
       "    </tr>\n",
       "  </tbody>\n",
       "</table>\n",
       "</div>"
      ],
      "text/plain": [
       "   k  i  j wellid  qdes  capmult  cprime  hlim  qcut  qfrcmn  qfrcmx\n",
       "0  0  1  1  well1   0.0        0     0.0   0.0     0     0.0     0.0\n",
       "1  0  3  3  well2   0.0        0     0.0   0.0     0     0.0     0.0"
      ]
     },
     "execution_count": 20,
     "metadata": {},
     "output_type": "execute_result"
    }
   ],
   "source": [
    "pd.DataFrame(mnw2fromobj.stress_period_data[0])"
   ]
  },
  {
   "cell_type": "code",
   "execution_count": 21,
   "metadata": {
    "execution": {
     "iopub.execute_input": "2023-02-22T02:41:12.038753Z",
     "iopub.status.busy": "2023-02-22T02:41:12.038165Z",
     "iopub.status.idle": "2023-02-22T02:41:12.052837Z",
     "shell.execute_reply": "2023-02-22T02:41:12.052238Z"
    }
   },
   "outputs": [
    {
     "data": {
      "text/html": [
       "<div>\n",
       "<style scoped>\n",
       "    .dataframe tbody tr th:only-of-type {\n",
       "        vertical-align: middle;\n",
       "    }\n",
       "\n",
       "    .dataframe tbody tr th {\n",
       "        vertical-align: top;\n",
       "    }\n",
       "\n",
       "    .dataframe thead th {\n",
       "        text-align: right;\n",
       "    }\n",
       "</style>\n",
       "<table border=\"1\" class=\"dataframe\">\n",
       "  <thead>\n",
       "    <tr style=\"text-align: right;\">\n",
       "      <th></th>\n",
       "      <th>k</th>\n",
       "      <th>i</th>\n",
       "      <th>j</th>\n",
       "      <th>wellid</th>\n",
       "      <th>qdes</th>\n",
       "      <th>capmult</th>\n",
       "      <th>cprime</th>\n",
       "      <th>hlim</th>\n",
       "      <th>qcut</th>\n",
       "      <th>qfrcmn</th>\n",
       "      <th>qfrcmx</th>\n",
       "    </tr>\n",
       "  </thead>\n",
       "  <tbody>\n",
       "    <tr>\n",
       "      <th>0</th>\n",
       "      <td>0</td>\n",
       "      <td>1</td>\n",
       "      <td>1</td>\n",
       "      <td>well1</td>\n",
       "      <td>100.0</td>\n",
       "      <td>0</td>\n",
       "      <td>0.0</td>\n",
       "      <td>0.0</td>\n",
       "      <td>0</td>\n",
       "      <td>0.0</td>\n",
       "      <td>0.0</td>\n",
       "    </tr>\n",
       "    <tr>\n",
       "      <th>1</th>\n",
       "      <td>0</td>\n",
       "      <td>3</td>\n",
       "      <td>3</td>\n",
       "      <td>well2</td>\n",
       "      <td>1000.0</td>\n",
       "      <td>0</td>\n",
       "      <td>0.0</td>\n",
       "      <td>0.0</td>\n",
       "      <td>0</td>\n",
       "      <td>0.0</td>\n",
       "      <td>0.0</td>\n",
       "    </tr>\n",
       "  </tbody>\n",
       "</table>\n",
       "</div>"
      ],
      "text/plain": [
       "   k  i  j wellid    qdes  capmult  cprime  hlim  qcut  qfrcmn  qfrcmx\n",
       "0  0  1  1  well1   100.0        0     0.0   0.0     0     0.0     0.0\n",
       "1  0  3  3  well2  1000.0        0     0.0   0.0     0     0.0     0.0"
      ]
     },
     "execution_count": 21,
     "metadata": {},
     "output_type": "execute_result"
    }
   ],
   "source": [
    "pd.DataFrame(mnw2fromobj.stress_period_data[1])"
   ]
  },
  {
   "cell_type": "markdown",
   "metadata": {},
   "source": [
    "### By default, the ``node_data`` and ``stress_period_data`` tables attached to the ``ModflowMnw2`` package class are definitive\n",
    "* on writing of the package output (``mnw2.write_file()``), the **Mnw** objects are regenerated from the tables. This setting is controlled by the default argument ``use_tables=True``. To write the package file using the **Mnw** objects (ignoring the tables), use ``mnw2.write_file(use_tables=False)``. "
   ]
  },
  {
   "cell_type": "code",
   "execution_count": 22,
   "metadata": {
    "execution": {
     "iopub.execute_input": "2023-02-22T02:41:12.056126Z",
     "iopub.status.busy": "2023-02-22T02:41:12.055707Z",
     "iopub.status.idle": "2023-02-22T02:41:12.061074Z",
     "shell.execute_reply": "2023-02-22T02:41:12.060334Z"
    }
   },
   "outputs": [
    {
     "data": {
      "text/plain": [
       "rec.array([(0, 0, 0, 0, 0., 0, 0., 0., 0, 0., 0.),\n",
       "           (0, 0, 0, 0, 0., 0, 0., 0., 0, 0., 0.)],\n",
       "          dtype=[('k', '<i8'), ('i', '<i8'), ('j', '<i8'), ('wellid', 'O'), ('qdes', '<f4'), ('capmult', '<i8'), ('cprime', '<f4'), ('hlim', '<f4'), ('qcut', '<i8'), ('qfrcmn', '<f4'), ('qfrcmx', '<f4')])"
      ]
     },
     "execution_count": 22,
     "metadata": {},
     "output_type": "execute_result"
    }
   ],
   "source": [
    "per1 = flopy.modflow.ModflowMnw2.get_empty_stress_period_data(itmp=2)\n",
    "per1"
   ]
  },
  {
   "cell_type": "markdown",
   "metadata": {},
   "source": [
    "### Write an MNW2 package file and inspect the results"
   ]
  },
  {
   "cell_type": "code",
   "execution_count": 23,
   "metadata": {
    "execution": {
     "iopub.execute_input": "2023-02-22T02:41:12.064808Z",
     "iopub.status.busy": "2023-02-22T02:41:12.064253Z",
     "iopub.status.idle": "2023-02-22T02:41:12.074688Z",
     "shell.execute_reply": "2023-02-22T02:41:12.074000Z"
    }
   },
   "outputs": [],
   "source": [
    "mnw2.write_file(os.path.join(model_ws, \"test.mnw2\"))"
   ]
  },
  {
   "cell_type": "code",
   "execution_count": 24,
   "metadata": {
    "execution": {
     "iopub.execute_input": "2023-02-22T02:41:12.078195Z",
     "iopub.status.busy": "2023-02-22T02:41:12.077683Z",
     "iopub.status.idle": "2023-02-22T02:41:12.082124Z",
     "shell.execute_reply": "2023-02-22T02:41:12.081543Z"
    }
   },
   "outputs": [
    {
     "name": "stdout",
     "output_type": "stream",
     "text": [
      "# MNW2 package for MODFLOW-2005 generated by Flopy 3.3.7\n",
      "2 0 0\n",
      "well1 -2\n",
      "            skin -1 0 0 0\n",
      "              -1.0000000E+00    2.0000000E+00    5.0000000E+00\n",
      "               9.5000000E+00    7.0999999E+00 2 2    1.0000000E+00\n",
      "               7.0999999E+00    5.0999999E+00 2 2    5.0000000E-01\n",
      "               6.1999998E+00\n",
      "well2 -1\n",
      "            skin -1 0 0 0\n",
      "               1.0000000E+00    2.0000000E+00    5.0000000E+00\n",
      "               9.1000004E+00    3.7000000E+00 4 4\n",
      "               4.0999999E+00\n",
      "2  Stress Period 1\n",
      "well1    0.0000000E+00\n",
      "well2    0.0000000E+00\n",
      "2  Stress Period 2\n",
      "well1    1.0000000E+02\n",
      "well2    1.0000000E+03\n",
      "-1  Stress Period 3\n"
     ]
    }
   ],
   "source": [
    "junk = [\n",
    "    print(l.strip(\"\\n\"))\n",
    "    for l in open(os.path.join(model_ws, \"test.mnw2\")).readlines()\n",
    "]"
   ]
  },
  {
   "cell_type": "markdown",
   "metadata": {},
   "source": [
    "### Load some example MNW2 packages"
   ]
  },
  {
   "cell_type": "code",
   "execution_count": 25,
   "metadata": {
    "execution": {
     "iopub.execute_input": "2023-02-22T02:41:12.085467Z",
     "iopub.status.busy": "2023-02-22T02:41:12.084793Z",
     "iopub.status.idle": "2023-02-22T02:41:12.186595Z",
     "shell.execute_reply": "2023-02-22T02:41:12.185231Z"
    }
   },
   "outputs": [],
   "source": [
    "path = os.path.join(\"..\", \"..\", \"examples\", \"data\", \"mnw2_examples\")\n",
    "m = flopy.modflow.Modflow(\"MNW2-Fig28\", model_ws=model_ws)\n",
    "dis = flopy.modflow.ModflowDis.load(os.path.join(path, \"MNW2-Fig28.dis\"), m)"
   ]
  },
  {
   "cell_type": "code",
   "execution_count": 26,
   "metadata": {
    "execution": {
     "iopub.execute_input": "2023-02-22T02:41:12.190747Z",
     "iopub.status.busy": "2023-02-22T02:41:12.190432Z",
     "iopub.status.idle": "2023-02-22T02:41:12.195833Z",
     "shell.execute_reply": "2023-02-22T02:41:12.194986Z"
    }
   },
   "outputs": [
    {
     "data": {
      "text/plain": [
       "['DIS']"
      ]
     },
     "execution_count": 26,
     "metadata": {},
     "output_type": "execute_result"
    }
   ],
   "source": [
    "m.get_package_list()"
   ]
  },
  {
   "cell_type": "code",
   "execution_count": 27,
   "metadata": {
    "execution": {
     "iopub.execute_input": "2023-02-22T02:41:12.199264Z",
     "iopub.status.busy": "2023-02-22T02:41:12.198815Z",
     "iopub.status.idle": "2023-02-22T02:41:12.206309Z",
     "shell.execute_reply": "2023-02-22T02:41:12.205564Z"
    }
   },
   "outputs": [],
   "source": [
    "mnw2pth = os.path.join(path, \"MNW2-Fig28.mnw2\")\n",
    "mnw2 = flopy.modflow.ModflowMnw2.load(mnw2pth, m)"
   ]
  },
  {
   "cell_type": "code",
   "execution_count": 28,
   "metadata": {
    "execution": {
     "iopub.execute_input": "2023-02-22T02:41:12.209909Z",
     "iopub.status.busy": "2023-02-22T02:41:12.209492Z",
     "iopub.status.idle": "2023-02-22T02:41:12.233986Z",
     "shell.execute_reply": "2023-02-22T02:41:12.233347Z"
    }
   },
   "outputs": [
    {
     "data": {
      "text/html": [
       "<div>\n",
       "<style scoped>\n",
       "    .dataframe tbody tr th:only-of-type {\n",
       "        vertical-align: middle;\n",
       "    }\n",
       "\n",
       "    .dataframe tbody tr th {\n",
       "        vertical-align: top;\n",
       "    }\n",
       "\n",
       "    .dataframe thead th {\n",
       "        text-align: right;\n",
       "    }\n",
       "</style>\n",
       "<table border=\"1\" class=\"dataframe\">\n",
       "  <thead>\n",
       "    <tr style=\"text-align: right;\">\n",
       "      <th></th>\n",
       "      <th>k</th>\n",
       "      <th>i</th>\n",
       "      <th>j</th>\n",
       "      <th>ztop</th>\n",
       "      <th>zbotm</th>\n",
       "      <th>wellid</th>\n",
       "      <th>losstype</th>\n",
       "      <th>pumploc</th>\n",
       "      <th>qlimit</th>\n",
       "      <th>ppflag</th>\n",
       "      <th>...</th>\n",
       "      <th>hlim</th>\n",
       "      <th>qcut</th>\n",
       "      <th>qfrcmn</th>\n",
       "      <th>qfrcmx</th>\n",
       "      <th>hlift</th>\n",
       "      <th>liftq0</th>\n",
       "      <th>liftqmax</th>\n",
       "      <th>hwtol</th>\n",
       "      <th>liftn</th>\n",
       "      <th>qn</th>\n",
       "    </tr>\n",
       "  </thead>\n",
       "  <tbody>\n",
       "    <tr>\n",
       "      <th>0</th>\n",
       "      <td>0</td>\n",
       "      <td>29</td>\n",
       "      <td>40</td>\n",
       "      <td>-5.0</td>\n",
       "      <td>-65.0</td>\n",
       "      <td>well-a</td>\n",
       "      <td>skin</td>\n",
       "      <td>0</td>\n",
       "      <td>1</td>\n",
       "      <td>0</td>\n",
       "      <td>...</td>\n",
       "      <td>-7.5</td>\n",
       "      <td>-1</td>\n",
       "      <td>0.1</td>\n",
       "      <td>0.15</td>\n",
       "      <td>0.0</td>\n",
       "      <td>0.0</td>\n",
       "      <td>0.0</td>\n",
       "      <td>0.0</td>\n",
       "      <td>0.0</td>\n",
       "      <td>0.0</td>\n",
       "    </tr>\n",
       "  </tbody>\n",
       "</table>\n",
       "<p>1 rows × 33 columns</p>\n",
       "</div>"
      ],
      "text/plain": [
       "   k   i   j  ztop  zbotm  wellid losstype  pumploc  qlimit  ppflag  ...  \\\n",
       "0  0  29  40  -5.0  -65.0  well-a     skin        0       1       0  ...   \n",
       "\n",
       "   hlim  qcut  qfrcmn  qfrcmx  hlift  liftq0  liftqmax  hwtol  liftn   qn  \n",
       "0  -7.5    -1     0.1    0.15    0.0     0.0       0.0    0.0    0.0  0.0  \n",
       "\n",
       "[1 rows x 33 columns]"
      ]
     },
     "execution_count": 28,
     "metadata": {},
     "output_type": "execute_result"
    }
   ],
   "source": [
    "pd.DataFrame(mnw2.node_data)"
   ]
  },
  {
   "cell_type": "code",
   "execution_count": 29,
   "metadata": {
    "execution": {
     "iopub.execute_input": "2023-02-22T02:41:12.237383Z",
     "iopub.status.busy": "2023-02-22T02:41:12.237006Z",
     "iopub.status.idle": "2023-02-22T02:41:12.251274Z",
     "shell.execute_reply": "2023-02-22T02:41:12.250477Z"
    }
   },
   "outputs": [
    {
     "data": {
      "text/html": [
       "<div>\n",
       "<style scoped>\n",
       "    .dataframe tbody tr th:only-of-type {\n",
       "        vertical-align: middle;\n",
       "    }\n",
       "\n",
       "    .dataframe tbody tr th {\n",
       "        vertical-align: top;\n",
       "    }\n",
       "\n",
       "    .dataframe thead th {\n",
       "        text-align: right;\n",
       "    }\n",
       "</style>\n",
       "<table border=\"1\" class=\"dataframe\">\n",
       "  <thead>\n",
       "    <tr style=\"text-align: right;\">\n",
       "      <th></th>\n",
       "      <th>k</th>\n",
       "      <th>i</th>\n",
       "      <th>j</th>\n",
       "      <th>wellid</th>\n",
       "      <th>qdes</th>\n",
       "      <th>capmult</th>\n",
       "      <th>cprime</th>\n",
       "      <th>hlim</th>\n",
       "      <th>qcut</th>\n",
       "      <th>qfrcmn</th>\n",
       "      <th>qfrcmx</th>\n",
       "    </tr>\n",
       "  </thead>\n",
       "  <tbody>\n",
       "    <tr>\n",
       "      <th>0</th>\n",
       "      <td>0</td>\n",
       "      <td>29</td>\n",
       "      <td>40</td>\n",
       "      <td>well-a</td>\n",
       "      <td>0.0</td>\n",
       "      <td>0</td>\n",
       "      <td>0.0</td>\n",
       "      <td>0.0</td>\n",
       "      <td>0</td>\n",
       "      <td>0.0</td>\n",
       "      <td>0.0</td>\n",
       "    </tr>\n",
       "  </tbody>\n",
       "</table>\n",
       "</div>"
      ],
      "text/plain": [
       "   k   i   j  wellid  qdes  capmult  cprime  hlim  qcut  qfrcmn  qfrcmx\n",
       "0  0  29  40  well-a   0.0        0     0.0   0.0     0     0.0     0.0"
      ]
     },
     "execution_count": 29,
     "metadata": {},
     "output_type": "execute_result"
    }
   ],
   "source": [
    "pd.DataFrame(mnw2.stress_period_data[0])"
   ]
  },
  {
   "cell_type": "code",
   "execution_count": 30,
   "metadata": {
    "execution": {
     "iopub.execute_input": "2023-02-22T02:41:12.255242Z",
     "iopub.status.busy": "2023-02-22T02:41:12.254457Z",
     "iopub.status.idle": "2023-02-22T02:41:12.259773Z",
     "shell.execute_reply": "2023-02-22T02:41:12.259027Z"
    }
   },
   "outputs": [
    {
     "data": {
      "text/plain": [
       "{'well-a': <flopy.modflow.mfmnw2.Mnw at 0x7f551c580760>}"
      ]
     },
     "execution_count": 30,
     "metadata": {},
     "output_type": "execute_result"
    }
   ],
   "source": [
    "mnw2.mnw"
   ]
  },
  {
   "cell_type": "code",
   "execution_count": 31,
   "metadata": {
    "execution": {
     "iopub.execute_input": "2023-02-22T02:41:12.263140Z",
     "iopub.status.busy": "2023-02-22T02:41:12.262642Z",
     "iopub.status.idle": "2023-02-22T02:41:12.276793Z",
     "shell.execute_reply": "2023-02-22T02:41:12.276185Z"
    }
   },
   "outputs": [
    {
     "data": {
      "text/html": [
       "<div>\n",
       "<style scoped>\n",
       "    .dataframe tbody tr th:only-of-type {\n",
       "        vertical-align: middle;\n",
       "    }\n",
       "\n",
       "    .dataframe tbody tr th {\n",
       "        vertical-align: top;\n",
       "    }\n",
       "\n",
       "    .dataframe thead th {\n",
       "        text-align: right;\n",
       "    }\n",
       "</style>\n",
       "<table border=\"1\" class=\"dataframe\">\n",
       "  <thead>\n",
       "    <tr style=\"text-align: right;\">\n",
       "      <th></th>\n",
       "      <th>k</th>\n",
       "      <th>i</th>\n",
       "      <th>j</th>\n",
       "      <th>per</th>\n",
       "      <th>qdes</th>\n",
       "      <th>capmult</th>\n",
       "      <th>cprime</th>\n",
       "      <th>hlim</th>\n",
       "      <th>qcut</th>\n",
       "      <th>qfrcmn</th>\n",
       "      <th>qfrcmx</th>\n",
       "    </tr>\n",
       "  </thead>\n",
       "  <tbody>\n",
       "    <tr>\n",
       "      <th>0</th>\n",
       "      <td>0</td>\n",
       "      <td>29</td>\n",
       "      <td>40</td>\n",
       "      <td>0</td>\n",
       "      <td>0.0</td>\n",
       "      <td>0</td>\n",
       "      <td>0.0</td>\n",
       "      <td>0.0</td>\n",
       "      <td>0</td>\n",
       "      <td>0.0</td>\n",
       "      <td>0.0</td>\n",
       "    </tr>\n",
       "    <tr>\n",
       "      <th>1</th>\n",
       "      <td>0</td>\n",
       "      <td>29</td>\n",
       "      <td>40</td>\n",
       "      <td>1</td>\n",
       "      <td>-10000.0</td>\n",
       "      <td>0</td>\n",
       "      <td>0.0</td>\n",
       "      <td>0.0</td>\n",
       "      <td>0</td>\n",
       "      <td>0.0</td>\n",
       "      <td>0.0</td>\n",
       "    </tr>\n",
       "    <tr>\n",
       "      <th>2</th>\n",
       "      <td>0</td>\n",
       "      <td>29</td>\n",
       "      <td>40</td>\n",
       "      <td>2</td>\n",
       "      <td>-10000.0</td>\n",
       "      <td>0</td>\n",
       "      <td>0.0</td>\n",
       "      <td>0.0</td>\n",
       "      <td>0</td>\n",
       "      <td>0.0</td>\n",
       "      <td>0.0</td>\n",
       "    </tr>\n",
       "  </tbody>\n",
       "</table>\n",
       "</div>"
      ],
      "text/plain": [
       "   k   i   j  per     qdes  capmult  cprime  hlim  qcut  qfrcmn  qfrcmx\n",
       "0  0  29  40    0      0.0        0     0.0   0.0     0     0.0     0.0\n",
       "1  0  29  40    1 -10000.0        0     0.0   0.0     0     0.0     0.0\n",
       "2  0  29  40    2 -10000.0        0     0.0   0.0     0     0.0     0.0"
      ]
     },
     "execution_count": 31,
     "metadata": {},
     "output_type": "execute_result"
    }
   ],
   "source": [
    "pd.DataFrame(mnw2.mnw[\"well-a\"].stress_period_data)"
   ]
  },
  {
   "cell_type": "code",
   "execution_count": 32,
   "metadata": {
    "execution": {
     "iopub.execute_input": "2023-02-22T02:41:12.279882Z",
     "iopub.status.busy": "2023-02-22T02:41:12.279604Z",
     "iopub.status.idle": "2023-02-22T02:41:12.302976Z",
     "shell.execute_reply": "2023-02-22T02:41:12.302011Z"
    }
   },
   "outputs": [],
   "source": [
    "path = os.path.join(\"..\", \"..\", \"examples\", \"data\", \"mnw2_examples\")\n",
    "m = flopy.modflow.Modflow(\"br\", model_ws=model_ws)\n",
    "mnw2 = flopy.modflow.ModflowMnw2.load(path + \"/BadRiver_cal.mnw2\", m)"
   ]
  },
  {
   "cell_type": "code",
   "execution_count": 33,
   "metadata": {
    "execution": {
     "iopub.execute_input": "2023-02-22T02:41:12.307702Z",
     "iopub.status.busy": "2023-02-22T02:41:12.307065Z",
     "iopub.status.idle": "2023-02-22T02:41:12.337508Z",
     "shell.execute_reply": "2023-02-22T02:41:12.336596Z"
    }
   },
   "outputs": [
    {
     "data": {
      "text/html": [
       "<div>\n",
       "<style scoped>\n",
       "    .dataframe tbody tr th:only-of-type {\n",
       "        vertical-align: middle;\n",
       "    }\n",
       "\n",
       "    .dataframe tbody tr th {\n",
       "        vertical-align: top;\n",
       "    }\n",
       "\n",
       "    .dataframe thead th {\n",
       "        text-align: right;\n",
       "    }\n",
       "</style>\n",
       "<table border=\"1\" class=\"dataframe\">\n",
       "  <thead>\n",
       "    <tr style=\"text-align: right;\">\n",
       "      <th></th>\n",
       "      <th>i</th>\n",
       "      <th>j</th>\n",
       "      <th>ztop</th>\n",
       "      <th>zbotm</th>\n",
       "      <th>wellid</th>\n",
       "      <th>losstype</th>\n",
       "      <th>pumploc</th>\n",
       "      <th>rw</th>\n",
       "      <th>rskin</th>\n",
       "      <th>kskin</th>\n",
       "      <th>zpump</th>\n",
       "    </tr>\n",
       "  </thead>\n",
       "  <tbody>\n",
       "    <tr>\n",
       "      <th>0</th>\n",
       "      <td>294</td>\n",
       "      <td>503</td>\n",
       "      <td>181.630005</td>\n",
       "      <td>161.630005</td>\n",
       "      <td>br_birch1</td>\n",
       "      <td>skin</td>\n",
       "      <td>-1</td>\n",
       "      <td>1.0</td>\n",
       "      <td>2.0</td>\n",
       "      <td>10.0</td>\n",
       "      <td>162.630005</td>\n",
       "    </tr>\n",
       "    <tr>\n",
       "      <th>1</th>\n",
       "      <td>295</td>\n",
       "      <td>503</td>\n",
       "      <td>179.119995</td>\n",
       "      <td>159.119995</td>\n",
       "      <td>br_birch2</td>\n",
       "      <td>skin</td>\n",
       "      <td>-1</td>\n",
       "      <td>1.0</td>\n",
       "      <td>2.0</td>\n",
       "      <td>10.0</td>\n",
       "      <td>160.119995</td>\n",
       "    </tr>\n",
       "    <tr>\n",
       "      <th>2</th>\n",
       "      <td>175</td>\n",
       "      <td>342</td>\n",
       "      <td>400.220001</td>\n",
       "      <td>312.220001</td>\n",
       "      <td>br_diaperville1</td>\n",
       "      <td>skin</td>\n",
       "      <td>-1</td>\n",
       "      <td>1.0</td>\n",
       "      <td>2.0</td>\n",
       "      <td>10.0</td>\n",
       "      <td>313.220001</td>\n",
       "    </tr>\n",
       "    <tr>\n",
       "      <th>3</th>\n",
       "      <td>174</td>\n",
       "      <td>342</td>\n",
       "      <td>399.119995</td>\n",
       "      <td>312.119995</td>\n",
       "      <td>br_diaperville2</td>\n",
       "      <td>skin</td>\n",
       "      <td>-1</td>\n",
       "      <td>1.0</td>\n",
       "      <td>2.0</td>\n",
       "      <td>10.0</td>\n",
       "      <td>313.119995</td>\n",
       "    </tr>\n",
       "    <tr>\n",
       "      <th>4</th>\n",
       "      <td>248</td>\n",
       "      <td>454</td>\n",
       "      <td>565.200012</td>\n",
       "      <td>555.200012</td>\n",
       "      <td>br_franks1</td>\n",
       "      <td>skin</td>\n",
       "      <td>-1</td>\n",
       "      <td>1.0</td>\n",
       "      <td>2.0</td>\n",
       "      <td>10.0</td>\n",
       "      <td>556.200012</td>\n",
       "    </tr>\n",
       "    <tr>\n",
       "      <th>5</th>\n",
       "      <td>249</td>\n",
       "      <td>453</td>\n",
       "      <td>564.419983</td>\n",
       "      <td>554.419983</td>\n",
       "      <td>br_franks2</td>\n",
       "      <td>skin</td>\n",
       "      <td>-1</td>\n",
       "      <td>1.0</td>\n",
       "      <td>2.0</td>\n",
       "      <td>10.0</td>\n",
       "      <td>555.419983</td>\n",
       "    </tr>\n",
       "    <tr>\n",
       "      <th>6</th>\n",
       "      <td>180</td>\n",
       "      <td>396</td>\n",
       "      <td>453.959991</td>\n",
       "      <td>447.959991</td>\n",
       "      <td>br_odanah1</td>\n",
       "      <td>skin</td>\n",
       "      <td>-1</td>\n",
       "      <td>1.0</td>\n",
       "      <td>2.0</td>\n",
       "      <td>10.0</td>\n",
       "      <td>448.959991</td>\n",
       "    </tr>\n",
       "    <tr>\n",
       "      <th>7</th>\n",
       "      <td>181</td>\n",
       "      <td>395</td>\n",
       "      <td>450.559998</td>\n",
       "      <td>444.559998</td>\n",
       "      <td>br_odanah2</td>\n",
       "      <td>skin</td>\n",
       "      <td>-1</td>\n",
       "      <td>1.0</td>\n",
       "      <td>2.0</td>\n",
       "      <td>10.0</td>\n",
       "      <td>445.559998</td>\n",
       "    </tr>\n",
       "    <tr>\n",
       "      <th>8</th>\n",
       "      <td>181</td>\n",
       "      <td>395</td>\n",
       "      <td>380.489990</td>\n",
       "      <td>371.489990</td>\n",
       "      <td>br_odanah3</td>\n",
       "      <td>skin</td>\n",
       "      <td>-1</td>\n",
       "      <td>1.0</td>\n",
       "      <td>2.0</td>\n",
       "      <td>10.0</td>\n",
       "      <td>372.489990</td>\n",
       "    </tr>\n",
       "    <tr>\n",
       "      <th>9</th>\n",
       "      <td>180</td>\n",
       "      <td>396</td>\n",
       "      <td>450.739990</td>\n",
       "      <td>444.739990</td>\n",
       "      <td>br_odanah4</td>\n",
       "      <td>skin</td>\n",
       "      <td>-1</td>\n",
       "      <td>1.0</td>\n",
       "      <td>2.0</td>\n",
       "      <td>10.0</td>\n",
       "      <td>445.739990</td>\n",
       "    </tr>\n",
       "    <tr>\n",
       "      <th>10</th>\n",
       "      <td>170</td>\n",
       "      <td>350</td>\n",
       "      <td>475.410004</td>\n",
       "      <td>472.410004</td>\n",
       "      <td>br_oldschool</td>\n",
       "      <td>skin</td>\n",
       "      <td>-1</td>\n",
       "      <td>1.0</td>\n",
       "      <td>2.0</td>\n",
       "      <td>10.0</td>\n",
       "      <td>473.410004</td>\n",
       "    </tr>\n",
       "    <tr>\n",
       "      <th>11</th>\n",
       "      <td>172</td>\n",
       "      <td>312</td>\n",
       "      <td>377.410004</td>\n",
       "      <td>348.410004</td>\n",
       "      <td>br_recycle</td>\n",
       "      <td>skin</td>\n",
       "      <td>-1</td>\n",
       "      <td>1.0</td>\n",
       "      <td>2.0</td>\n",
       "      <td>10.0</td>\n",
       "      <td>349.410004</td>\n",
       "    </tr>\n",
       "    <tr>\n",
       "      <th>12</th>\n",
       "      <td>216</td>\n",
       "      <td>412</td>\n",
       "      <td>562.200012</td>\n",
       "      <td>542.200012</td>\n",
       "      <td>br_unspec</td>\n",
       "      <td>skin</td>\n",
       "      <td>-1</td>\n",
       "      <td>1.0</td>\n",
       "      <td>2.0</td>\n",
       "      <td>10.0</td>\n",
       "      <td>543.200012</td>\n",
       "    </tr>\n",
       "    <tr>\n",
       "      <th>13</th>\n",
       "      <td>516</td>\n",
       "      <td>424</td>\n",
       "      <td>1079.910034</td>\n",
       "      <td>1072.910034</td>\n",
       "      <td>cfsp_ncp1</td>\n",
       "      <td>skin</td>\n",
       "      <td>-1</td>\n",
       "      <td>1.0</td>\n",
       "      <td>2.0</td>\n",
       "      <td>10.0</td>\n",
       "      <td>1073.910034</td>\n",
       "    </tr>\n",
       "    <tr>\n",
       "      <th>14</th>\n",
       "      <td>515</td>\n",
       "      <td>424</td>\n",
       "      <td>1077.900024</td>\n",
       "      <td>1074.900024</td>\n",
       "      <td>cfsp_ncp2</td>\n",
       "      <td>skin</td>\n",
       "      <td>-1</td>\n",
       "      <td>1.0</td>\n",
       "      <td>2.0</td>\n",
       "      <td>10.0</td>\n",
       "      <td>1075.900024</td>\n",
       "    </tr>\n",
       "    <tr>\n",
       "      <th>15</th>\n",
       "      <td>539</td>\n",
       "      <td>415</td>\n",
       "      <td>1093.010010</td>\n",
       "      <td>1003.010010</td>\n",
       "      <td>cfsp_of</td>\n",
       "      <td>skin</td>\n",
       "      <td>-1</td>\n",
       "      <td>1.0</td>\n",
       "      <td>2.0</td>\n",
       "      <td>10.0</td>\n",
       "      <td>1004.010010</td>\n",
       "    </tr>\n",
       "    <tr>\n",
       "      <th>16</th>\n",
       "      <td>360</td>\n",
       "      <td>2</td>\n",
       "      <td>706.330017</td>\n",
       "      <td>699.330017</td>\n",
       "      <td>hayward_bait_n</td>\n",
       "      <td>skin</td>\n",
       "      <td>-1</td>\n",
       "      <td>1.0</td>\n",
       "      <td>2.0</td>\n",
       "      <td>10.0</td>\n",
       "      <td>700.330017</td>\n",
       "    </tr>\n",
       "    <tr>\n",
       "      <th>17</th>\n",
       "      <td>360</td>\n",
       "      <td>6</td>\n",
       "      <td>705.289978</td>\n",
       "      <td>698.289978</td>\n",
       "      <td>hayward_bait_ne</td>\n",
       "      <td>skin</td>\n",
       "      <td>-1</td>\n",
       "      <td>1.0</td>\n",
       "      <td>2.0</td>\n",
       "      <td>10.0</td>\n",
       "      <td>699.289978</td>\n",
       "    </tr>\n",
       "    <tr>\n",
       "      <th>18</th>\n",
       "      <td>362</td>\n",
       "      <td>4</td>\n",
       "      <td>696.979980</td>\n",
       "      <td>689.979980</td>\n",
       "      <td>hayward_bait_of</td>\n",
       "      <td>skin</td>\n",
       "      <td>-1</td>\n",
       "      <td>1.0</td>\n",
       "      <td>2.0</td>\n",
       "      <td>10.0</td>\n",
       "      <td>690.979980</td>\n",
       "    </tr>\n",
       "    <tr>\n",
       "      <th>19</th>\n",
       "      <td>456</td>\n",
       "      <td>699</td>\n",
       "      <td>1352.050049</td>\n",
       "      <td>1342.050049</td>\n",
       "      <td>ironbelt2</td>\n",
       "      <td>skin</td>\n",
       "      <td>-1</td>\n",
       "      <td>1.0</td>\n",
       "      <td>2.0</td>\n",
       "      <td>10.0</td>\n",
       "      <td>1343.050049</td>\n",
       "    </tr>\n",
       "    <tr>\n",
       "      <th>20</th>\n",
       "      <td>456</td>\n",
       "      <td>699</td>\n",
       "      <td>1350.439941</td>\n",
       "      <td>1343.439941</td>\n",
       "      <td>ironbelt3</td>\n",
       "      <td>skin</td>\n",
       "      <td>-1</td>\n",
       "      <td>1.0</td>\n",
       "      <td>2.0</td>\n",
       "      <td>10.0</td>\n",
       "      <td>1344.439941</td>\n",
       "    </tr>\n",
       "    <tr>\n",
       "      <th>21</th>\n",
       "      <td>599</td>\n",
       "      <td>414</td>\n",
       "      <td>1198.839966</td>\n",
       "      <td>1188.839966</td>\n",
       "      <td>mellen2</td>\n",
       "      <td>skin</td>\n",
       "      <td>-1</td>\n",
       "      <td>1.0</td>\n",
       "      <td>2.0</td>\n",
       "      <td>10.0</td>\n",
       "      <td>1189.839966</td>\n",
       "    </tr>\n",
       "    <tr>\n",
       "      <th>22</th>\n",
       "      <td>576</td>\n",
       "      <td>408</td>\n",
       "      <td>1151.599976</td>\n",
       "      <td>1131.599976</td>\n",
       "      <td>mellen3</td>\n",
       "      <td>skin</td>\n",
       "      <td>-1</td>\n",
       "      <td>1.0</td>\n",
       "      <td>2.0</td>\n",
       "      <td>10.0</td>\n",
       "      <td>1132.599976</td>\n",
       "    </tr>\n",
       "    <tr>\n",
       "      <th>23</th>\n",
       "      <td>253</td>\n",
       "      <td>149</td>\n",
       "      <td>622.179993</td>\n",
       "      <td>602.179993</td>\n",
       "      <td>milestone</td>\n",
       "      <td>skin</td>\n",
       "      <td>-1</td>\n",
       "      <td>1.0</td>\n",
       "      <td>2.0</td>\n",
       "      <td>10.0</td>\n",
       "      <td>603.179993</td>\n",
       "    </tr>\n",
       "    <tr>\n",
       "      <th>24</th>\n",
       "      <td>208</td>\n",
       "      <td>148</td>\n",
       "      <td>520.119995</td>\n",
       "      <td>500.119995</td>\n",
       "      <td>nsp</td>\n",
       "      <td>skin</td>\n",
       "      <td>-1</td>\n",
       "      <td>1.0</td>\n",
       "      <td>2.0</td>\n",
       "      <td>10.0</td>\n",
       "      <td>501.119995</td>\n",
       "    </tr>\n",
       "    <tr>\n",
       "      <th>25</th>\n",
       "      <td>80</td>\n",
       "      <td>162</td>\n",
       "      <td>535.299988</td>\n",
       "      <td>30.299999</td>\n",
       "      <td>washburn1</td>\n",
       "      <td>skin</td>\n",
       "      <td>-1</td>\n",
       "      <td>1.0</td>\n",
       "      <td>2.0</td>\n",
       "      <td>10.0</td>\n",
       "      <td>31.299999</td>\n",
       "    </tr>\n",
       "    <tr>\n",
       "      <th>26</th>\n",
       "      <td>91</td>\n",
       "      <td>143</td>\n",
       "      <td>541.280029</td>\n",
       "      <td>-67.720001</td>\n",
       "      <td>washburn2</td>\n",
       "      <td>skin</td>\n",
       "      <td>-1</td>\n",
       "      <td>1.0</td>\n",
       "      <td>2.0</td>\n",
       "      <td>10.0</td>\n",
       "      <td>-66.720001</td>\n",
       "    </tr>\n",
       "  </tbody>\n",
       "</table>\n",
       "</div>"
      ],
      "text/plain": [
       "      i    j         ztop        zbotm           wellid losstype  pumploc  \\\n",
       "0   294  503   181.630005   161.630005        br_birch1     skin       -1   \n",
       "1   295  503   179.119995   159.119995        br_birch2     skin       -1   \n",
       "2   175  342   400.220001   312.220001  br_diaperville1     skin       -1   \n",
       "3   174  342   399.119995   312.119995  br_diaperville2     skin       -1   \n",
       "4   248  454   565.200012   555.200012       br_franks1     skin       -1   \n",
       "5   249  453   564.419983   554.419983       br_franks2     skin       -1   \n",
       "6   180  396   453.959991   447.959991       br_odanah1     skin       -1   \n",
       "7   181  395   450.559998   444.559998       br_odanah2     skin       -1   \n",
       "8   181  395   380.489990   371.489990       br_odanah3     skin       -1   \n",
       "9   180  396   450.739990   444.739990       br_odanah4     skin       -1   \n",
       "10  170  350   475.410004   472.410004     br_oldschool     skin       -1   \n",
       "11  172  312   377.410004   348.410004       br_recycle     skin       -1   \n",
       "12  216  412   562.200012   542.200012        br_unspec     skin       -1   \n",
       "13  516  424  1079.910034  1072.910034        cfsp_ncp1     skin       -1   \n",
       "14  515  424  1077.900024  1074.900024        cfsp_ncp2     skin       -1   \n",
       "15  539  415  1093.010010  1003.010010          cfsp_of     skin       -1   \n",
       "16  360    2   706.330017   699.330017   hayward_bait_n     skin       -1   \n",
       "17  360    6   705.289978   698.289978  hayward_bait_ne     skin       -1   \n",
       "18  362    4   696.979980   689.979980  hayward_bait_of     skin       -1   \n",
       "19  456  699  1352.050049  1342.050049        ironbelt2     skin       -1   \n",
       "20  456  699  1350.439941  1343.439941        ironbelt3     skin       -1   \n",
       "21  599  414  1198.839966  1188.839966          mellen2     skin       -1   \n",
       "22  576  408  1151.599976  1131.599976          mellen3     skin       -1   \n",
       "23  253  149   622.179993   602.179993        milestone     skin       -1   \n",
       "24  208  148   520.119995   500.119995              nsp     skin       -1   \n",
       "25   80  162   535.299988    30.299999        washburn1     skin       -1   \n",
       "26   91  143   541.280029   -67.720001        washburn2     skin       -1   \n",
       "\n",
       "     rw  rskin  kskin        zpump  \n",
       "0   1.0    2.0   10.0   162.630005  \n",
       "1   1.0    2.0   10.0   160.119995  \n",
       "2   1.0    2.0   10.0   313.220001  \n",
       "3   1.0    2.0   10.0   313.119995  \n",
       "4   1.0    2.0   10.0   556.200012  \n",
       "5   1.0    2.0   10.0   555.419983  \n",
       "6   1.0    2.0   10.0   448.959991  \n",
       "7   1.0    2.0   10.0   445.559998  \n",
       "8   1.0    2.0   10.0   372.489990  \n",
       "9   1.0    2.0   10.0   445.739990  \n",
       "10  1.0    2.0   10.0   473.410004  \n",
       "11  1.0    2.0   10.0   349.410004  \n",
       "12  1.0    2.0   10.0   543.200012  \n",
       "13  1.0    2.0   10.0  1073.910034  \n",
       "14  1.0    2.0   10.0  1075.900024  \n",
       "15  1.0    2.0   10.0  1004.010010  \n",
       "16  1.0    2.0   10.0   700.330017  \n",
       "17  1.0    2.0   10.0   699.289978  \n",
       "18  1.0    2.0   10.0   690.979980  \n",
       "19  1.0    2.0   10.0  1343.050049  \n",
       "20  1.0    2.0   10.0  1344.439941  \n",
       "21  1.0    2.0   10.0  1189.839966  \n",
       "22  1.0    2.0   10.0  1132.599976  \n",
       "23  1.0    2.0   10.0   603.179993  \n",
       "24  1.0    2.0   10.0   501.119995  \n",
       "25  1.0    2.0   10.0    31.299999  \n",
       "26  1.0    2.0   10.0   -66.720001  "
      ]
     },
     "execution_count": 33,
     "metadata": {},
     "output_type": "execute_result"
    }
   ],
   "source": [
    "df = pd.DataFrame(mnw2.node_data)\n",
    "df.loc[:, df.sum(axis=0) != 0]"
   ]
  },
  {
   "cell_type": "code",
   "execution_count": 34,
   "metadata": {
    "execution": {
     "iopub.execute_input": "2023-02-22T02:41:12.341545Z",
     "iopub.status.busy": "2023-02-22T02:41:12.340871Z",
     "iopub.status.idle": "2023-02-22T02:41:12.345573Z",
     "shell.execute_reply": "2023-02-22T02:41:12.344589Z"
    },
    "pycharm": {
     "name": "#%%\n"
    }
   },
   "outputs": [],
   "source": [
    "try:\n",
    "    # ignore PermissionError on Windows\n",
    "    temp_dir.cleanup()\n",
    "except:\n",
    "    pass"
   ]
  }
 ],
 "metadata": {
  "anaconda-cloud": {},
  "kernelspec": {
   "display_name": "Python 3 (ipykernel)",
   "language": "python",
   "name": "python3"
  },
  "language_info": {
   "codemirror_mode": {
    "name": "ipython",
    "version": 3
   },
   "file_extension": ".py",
   "mimetype": "text/x-python",
   "name": "python",
   "nbconvert_exporter": "python",
   "pygments_lexer": "ipython3",
   "version": "3.10.6"
  }
 },
 "nbformat": 4,
 "nbformat_minor": 4
}
