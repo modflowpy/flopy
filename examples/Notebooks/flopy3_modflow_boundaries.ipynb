{
 "cells": [
  {
   "cell_type": "markdown",
   "metadata": {},
   "source": [
    "# Flopy MODFLOW-2005 Boundary Conditions\n",
    "\n",
    "Flopy has a new way to enter boundary conditions for some MODFLOW packages.  These changes are substantial.  Boundary conditions can now be entered as a list of boundaries, as a numpy recarray, or as a dictionary.  These different styles are described in this notebook.\n",
    "\n",
    "Flopy also now requires zero-based input.  This means that **all boundaries are entered in zero-based layer, row, and column indices**.  This means that older Flopy scripts will need to be modified to account for this change.  If you are familiar with Python, this should be natural, but if not, then it may take some time to get used to zero-based numbering.  Flopy users submit all information in zero-based form, and Flopy converts this to the one-based form required by MODFLOW.\n",
    "\n",
    "The following MODFLOW-2005 packages are affected by this change:\n",
    "\n",
    "  * Well\n",
    "  * Drain\n",
    "  * River\n",
    "  * General-Head Boundary\n",
    "  * Time-Variant Constant Head\n",
    "  \n",
    "This notebook explains the different ways to enter these types of boundary conditions.\n"
   ]
  },
  {
   "cell_type": "code",
   "execution_count": 1,
   "metadata": {
    "execution": {
     "iopub.execute_input": "2022-07-30T20:16:53.769370Z",
     "iopub.status.busy": "2022-07-30T20:16:53.768941Z",
     "iopub.status.idle": "2022-07-30T20:16:54.997455Z",
     "shell.execute_reply": "2022-07-30T20:16:54.993131Z"
    }
   },
   "outputs": [
    {
     "name": "stdout",
     "output_type": "stream",
     "text": [
      "3.10.5 (v3.10.5:f377153967, Jun  6 2022, 12:36:10) [Clang 13.0.0 (clang-1300.0.29.30)]\n",
      "numpy version: 1.23.1\n",
      "flopy version: 3.3.6\n"
     ]
    }
   ],
   "source": [
    "# begin by importing flopy\n",
    "import os\n",
    "import sys\n",
    "from tempfile import TemporaryDirectory\n",
    "\n",
    "import numpy as np\n",
    "\n",
    "# run installed version of flopy or add local path\n",
    "try:\n",
    "    import flopy\n",
    "except:\n",
    "    fpth = os.path.abspath(os.path.join(\"..\", \"..\"))\n",
    "    sys.path.append(fpth)\n",
    "    import flopy\n",
    "\n",
    "# temporary directory\n",
    "temp_dir = TemporaryDirectory()\n",
    "workspace = os.path.join(temp_dir.name)\n",
    "\n",
    "print(sys.version)\n",
    "print(\"numpy version: {}\".format(np.__version__))\n",
    "print(\"flopy version: {}\".format(flopy.__version__))"
   ]
  },
  {
   "cell_type": "markdown",
   "metadata": {},
   "source": [
    "## List of Boundaries"
   ]
  },
  {
   "cell_type": "markdown",
   "metadata": {},
   "source": [
    "Boundary condition information is passed to a package constructor as stress_period_data.  In its simplest form, stress_period_data can be a list of individual boundaries, which themselves are lists.  The following shows a simple example for a MODFLOW River Package boundary:"
   ]
  },
  {
   "cell_type": "code",
   "execution_count": 2,
   "metadata": {
    "execution": {
     "iopub.execute_input": "2022-07-30T20:16:55.107913Z",
     "iopub.status.busy": "2022-07-30T20:16:55.106206Z",
     "iopub.status.idle": "2022-07-30T20:16:55.119261Z",
     "shell.execute_reply": "2022-07-30T20:16:55.118309Z"
    }
   },
   "outputs": [],
   "source": [
    "stress_period_data = [\n",
    "    [\n",
    "        2,\n",
    "        3,\n",
    "        4,\n",
    "        10.7,\n",
    "        5000.0,\n",
    "        -5.7,\n",
    "    ],  # layer, row, column, stage, conductance, river bottom\n",
    "    [\n",
    "        2,\n",
    "        3,\n",
    "        5,\n",
    "        10.7,\n",
    "        5000.0,\n",
    "        -5.7,\n",
    "    ],  # layer, row, column, stage, conductance, river bottom\n",
    "    [\n",
    "        2,\n",
    "        3,\n",
    "        6,\n",
    "        10.7,\n",
    "        5000.0,\n",
    "        -5.7,\n",
    "    ],  # layer, row, column, stage, conductance, river bottom\n",
    "]\n",
    "m = flopy.modflow.Modflow(modelname=\"test\", model_ws=workspace)\n",
    "riv = flopy.modflow.ModflowRiv(m, stress_period_data=stress_period_data)\n",
    "m.write_input()"
   ]
  },
  {
   "cell_type": "markdown",
   "metadata": {},
   "source": [
    "If we look at the River Package created here, you see that the layer, row, and column numbers have been increased by one."
   ]
  },
  {
   "cell_type": "code",
   "execution_count": 3,
   "metadata": {
    "execution": {
     "iopub.execute_input": "2022-07-30T20:16:55.128214Z",
     "iopub.status.busy": "2022-07-30T20:16:55.126419Z",
     "iopub.status.idle": "2022-07-30T20:16:55.315613Z",
     "shell.execute_reply": "2022-07-30T20:16:55.314396Z"
    }
   },
   "outputs": [
    {
     "name": "stdout",
     "output_type": "stream",
     "text": [
      "head: data/test.riv: No such file or directory\r\n"
     ]
    }
   ],
   "source": [
    "!head -n 10 'data/test.riv'"
   ]
  },
  {
   "cell_type": "markdown",
   "metadata": {},
   "source": [
    "If this model had more than one stress period, then Flopy will assume that this boundary condition information applies until the end of the simulation"
   ]
  },
  {
   "cell_type": "code",
   "execution_count": 4,
   "metadata": {
    "execution": {
     "iopub.execute_input": "2022-07-30T20:16:55.320577Z",
     "iopub.status.busy": "2022-07-30T20:16:55.320210Z",
     "iopub.status.idle": "2022-07-30T20:16:55.469664Z",
     "shell.execute_reply": "2022-07-30T20:16:55.465969Z"
    }
   },
   "outputs": [
    {
     "name": "stdout",
     "output_type": "stream",
     "text": [
      "head: data/test.riv: No such file or directory\r\n"
     ]
    }
   ],
   "source": [
    "m = flopy.modflow.Modflow(modelname=\"test\", model_ws=workspace)\n",
    "dis = flopy.modflow.ModflowDis(m, nper=3)\n",
    "riv = flopy.modflow.ModflowRiv(m, stress_period_data=stress_period_data)\n",
    "m.write_input()\n",
    "!head -n 10 'data/test.riv'"
   ]
  },
  {
   "cell_type": "markdown",
   "metadata": {},
   "source": [
    "## Recarray of Boundaries\n",
    "\n",
    "Numpy allows the use of recarrays, which are numpy arrays in which each column of the array may be given a different type.  Boundary conditions can be entered as recarrays.  Information on the structure of the recarray for a boundary condition package can be obtained from that particular package.  The structure of the recarray is contained in the dtype.  "
   ]
  },
  {
   "cell_type": "code",
   "execution_count": 5,
   "metadata": {
    "execution": {
     "iopub.execute_input": "2022-07-30T20:16:55.481548Z",
     "iopub.status.busy": "2022-07-30T20:16:55.479906Z",
     "iopub.status.idle": "2022-07-30T20:16:55.488647Z",
     "shell.execute_reply": "2022-07-30T20:16:55.487680Z"
    }
   },
   "outputs": [
    {
     "name": "stdout",
     "output_type": "stream",
     "text": [
      "[('k', '<i8'), ('i', '<i8'), ('j', '<i8'), ('stage', '<f4'), ('cond', '<f4'), ('rbot', '<f4')]\n"
     ]
    }
   ],
   "source": [
    "riv_dtype = flopy.modflow.ModflowRiv.get_default_dtype()\n",
    "print(riv_dtype)"
   ]
  },
  {
   "cell_type": "markdown",
   "metadata": {},
   "source": [
    "Now that we know the structure of the recarray that we want to create, we can create a new one as follows."
   ]
  },
  {
   "cell_type": "code",
   "execution_count": 6,
   "metadata": {
    "execution": {
     "iopub.execute_input": "2022-07-30T20:16:55.493551Z",
     "iopub.status.busy": "2022-07-30T20:16:55.493159Z",
     "iopub.status.idle": "2022-07-30T20:16:55.505744Z",
     "shell.execute_reply": "2022-07-30T20:16:55.504718Z"
    }
   },
   "outputs": [
    {
     "name": "stdout",
     "output_type": "stream",
     "text": [
      "stress_period_data:  [(0, 0, 0, 0., 0., 0.) (0, 0, 0, 0., 0., 0.) (0, 0, 0, 0., 0., 0.)]\n",
      "type is:  <class 'numpy.recarray'>\n"
     ]
    }
   ],
   "source": [
    "stress_period_data = np.zeros((3), dtype=riv_dtype)\n",
    "stress_period_data = stress_period_data.view(np.recarray)\n",
    "print(\"stress_period_data: \", stress_period_data)\n",
    "print(\"type is: \", type(stress_period_data))"
   ]
  },
  {
   "cell_type": "markdown",
   "metadata": {},
   "source": [
    "We can then fill the recarray with our boundary conditions."
   ]
  },
  {
   "cell_type": "code",
   "execution_count": 7,
   "metadata": {
    "execution": {
     "iopub.execute_input": "2022-07-30T20:16:55.510599Z",
     "iopub.status.busy": "2022-07-30T20:16:55.510307Z",
     "iopub.status.idle": "2022-07-30T20:16:55.516721Z",
     "shell.execute_reply": "2022-07-30T20:16:55.515842Z"
    }
   },
   "outputs": [
    {
     "name": "stdout",
     "output_type": "stream",
     "text": [
      "[(2, 3, 4, 10.7, 5000., -5.7) (2, 3, 5, 10.7, 5000., -5.7)\n",
      " (2, 3, 6, 10.7, 5000., -5.7)]\n"
     ]
    }
   ],
   "source": [
    "stress_period_data[0] = (2, 3, 4, 10.7, 5000.0, -5.7)\n",
    "stress_period_data[1] = (2, 3, 5, 10.7, 5000.0, -5.7)\n",
    "stress_period_data[2] = (2, 3, 6, 10.7, 5000.0, -5.7)\n",
    "print(stress_period_data)"
   ]
  },
  {
   "cell_type": "code",
   "execution_count": 8,
   "metadata": {
    "execution": {
     "iopub.execute_input": "2022-07-30T20:16:55.521494Z",
     "iopub.status.busy": "2022-07-30T20:16:55.521047Z",
     "iopub.status.idle": "2022-07-30T20:16:55.658843Z",
     "shell.execute_reply": "2022-07-30T20:16:55.655413Z"
    }
   },
   "outputs": [
    {
     "name": "stdout",
     "output_type": "stream",
     "text": [
      "head: data/test.riv: No such file or directory\r\n"
     ]
    }
   ],
   "source": [
    "m = flopy.modflow.Modflow(modelname=\"test\", model_ws=workspace)\n",
    "riv = flopy.modflow.ModflowRiv(m, stress_period_data=stress_period_data)\n",
    "m.write_input()\n",
    "!head -n 10 'data/test.riv'"
   ]
  },
  {
   "cell_type": "markdown",
   "metadata": {},
   "source": [
    "As before, if we have multiple stress periods, then this recarray will apply to all of them."
   ]
  },
  {
   "cell_type": "code",
   "execution_count": 9,
   "metadata": {
    "execution": {
     "iopub.execute_input": "2022-07-30T20:16:55.672628Z",
     "iopub.status.busy": "2022-07-30T20:16:55.672040Z",
     "iopub.status.idle": "2022-07-30T20:16:55.818973Z",
     "shell.execute_reply": "2022-07-30T20:16:55.817681Z"
    }
   },
   "outputs": [
    {
     "name": "stdout",
     "output_type": "stream",
     "text": [
      "head: data/test.riv: No such file or directory\r\n"
     ]
    }
   ],
   "source": [
    "m = flopy.modflow.Modflow(modelname=\"test\", model_ws=workspace)\n",
    "dis = flopy.modflow.ModflowDis(m, nper=3)\n",
    "riv = flopy.modflow.ModflowRiv(m, stress_period_data=stress_period_data)\n",
    "m.write_input()\n",
    "!head -n 10 'data/test.riv'"
   ]
  },
  {
   "cell_type": "markdown",
   "metadata": {},
   "source": [
    "## Dictionary of Boundaries\n",
    "\n",
    "The power of the new functionality in Flopy3 is the ability to specify a dictionary for stress_period_data.  If specified as a dictionary, the key is the stress period number (**as a zero-based number**), and the value is either a nested list, an integer value of 0 or -1, or a recarray for that stress period.\n",
    "\n",
    "Let's say that we want to use the following schedule for our rivers:\n",
    "  0. No rivers in stress period zero\n",
    "  1. Rivers specified by a list in stress period 1\n",
    "  2. No rivers\n",
    "  3. No rivers\n",
    "  4. No rivers\n",
    "  5. Rivers specified by a recarray\n",
    "  6. Same recarray rivers\n",
    "  7. Same recarray rivers\n",
    "  8. Same recarray rivers\n"
   ]
  },
  {
   "cell_type": "code",
   "execution_count": 10,
   "metadata": {
    "execution": {
     "iopub.execute_input": "2022-07-30T20:16:55.824204Z",
     "iopub.status.busy": "2022-07-30T20:16:55.823808Z",
     "iopub.status.idle": "2022-07-30T20:16:55.831610Z",
     "shell.execute_reply": "2022-07-30T20:16:55.829807Z"
    }
   },
   "outputs": [
    {
     "name": "stdout",
     "output_type": "stream",
     "text": [
      "[[2, 3, 4, 10.7, 5000.0, -5.7], [2, 3, 5, 10.7, 5000.0, -5.7], [2, 3, 6, 10.7, 5000.0, -5.7]]\n"
     ]
    }
   ],
   "source": [
    "sp1 = [\n",
    "    [\n",
    "        2,\n",
    "        3,\n",
    "        4,\n",
    "        10.7,\n",
    "        5000.0,\n",
    "        -5.7,\n",
    "    ],  # layer, row, column, stage, conductance, river bottom\n",
    "    [\n",
    "        2,\n",
    "        3,\n",
    "        5,\n",
    "        10.7,\n",
    "        5000.0,\n",
    "        -5.7,\n",
    "    ],  # layer, row, column, stage, conductance, river bottom\n",
    "    [\n",
    "        2,\n",
    "        3,\n",
    "        6,\n",
    "        10.7,\n",
    "        5000.0,\n",
    "        -5.7,\n",
    "    ],  # layer, row, column, stage, conductance, river bottom\n",
    "]\n",
    "print(sp1)"
   ]
  },
  {
   "cell_type": "code",
   "execution_count": 11,
   "metadata": {
    "execution": {
     "iopub.execute_input": "2022-07-30T20:16:55.839860Z",
     "iopub.status.busy": "2022-07-30T20:16:55.839455Z",
     "iopub.status.idle": "2022-07-30T20:16:55.847103Z",
     "shell.execute_reply": "2022-07-30T20:16:55.846231Z"
    }
   },
   "outputs": [
    {
     "name": "stdout",
     "output_type": "stream",
     "text": [
      "[(2, 3, 4, 20.7, 5000., -5.7) (2, 3, 5, 20.7, 5000., -5.7)\n",
      " (2, 3, 6, 20.7, 5000., -5.7)]\n"
     ]
    }
   ],
   "source": [
    "riv_dtype = flopy.modflow.ModflowRiv.get_default_dtype()\n",
    "sp5 = np.zeros((3), dtype=riv_dtype)\n",
    "sp5 = sp5.view(np.recarray)\n",
    "sp5[0] = (2, 3, 4, 20.7, 5000.0, -5.7)\n",
    "sp5[1] = (2, 3, 5, 20.7, 5000.0, -5.7)\n",
    "sp5[2] = (2, 3, 6, 20.7, 5000.0, -5.7)\n",
    "print(sp5)"
   ]
  },
  {
   "cell_type": "code",
   "execution_count": 12,
   "metadata": {
    "execution": {
     "iopub.execute_input": "2022-07-30T20:16:55.851503Z",
     "iopub.status.busy": "2022-07-30T20:16:55.851111Z",
     "iopub.status.idle": "2022-07-30T20:16:55.990404Z",
     "shell.execute_reply": "2022-07-30T20:16:55.989284Z"
    }
   },
   "outputs": [
    {
     "name": "stdout",
     "output_type": "stream",
     "text": [
      "head: data/test.riv: No such file or directory\r\n"
     ]
    }
   ],
   "source": [
    "sp_dict = {0: 0, 1: sp1, 2: 0, 5: sp5}\n",
    "m = flopy.modflow.Modflow(modelname=\"test\", model_ws=workspace)\n",
    "dis = flopy.modflow.ModflowDis(m, nper=8)\n",
    "riv = flopy.modflow.ModflowRiv(m, stress_period_data=sp_dict)\n",
    "m.write_input()\n",
    "!head -n 10 'data/test.riv'"
   ]
  },
  {
   "cell_type": "markdown",
   "metadata": {},
   "source": [
    "## MODFLOW Auxiliary Variables\n",
    "\n",
    "Flopy works with MODFLOW auxiliary variables by allowing the recarray to contain additional columns of information.  The auxiliary variables must be specified as package options as shown in the example below.\n",
    "\n",
    "In this example, we also add a string in the last column of the list in order to name each boundary condition.  In this case, however, we do not include boundname as an auxiliary variable as MODFLOW would try to read it as a floating point number."
   ]
  },
  {
   "cell_type": "code",
   "execution_count": 13,
   "metadata": {
    "execution": {
     "iopub.execute_input": "2022-07-30T20:16:55.997079Z",
     "iopub.status.busy": "2022-07-30T20:16:55.996063Z",
     "iopub.status.idle": "2022-07-30T20:16:56.006452Z",
     "shell.execute_reply": "2022-07-30T20:16:56.005562Z"
    }
   },
   "outputs": [
    {
     "name": "stdout",
     "output_type": "stream",
     "text": [
      "stress_period_data:  [(0, 0, 0, 0., 0., 0., 0, 0) (0, 0, 0, 0., 0., 0., 0, 0)\n",
      " (0, 0, 0, 0., 0., 0., 0, 0)]\n",
      "type is:  <class 'numpy.recarray'>\n"
     ]
    }
   ],
   "source": [
    "# create an empty array with an iface auxiliary variable at the end\n",
    "riva_dtype = [\n",
    "    (\"k\", \"<i8\"),\n",
    "    (\"i\", \"<i8\"),\n",
    "    (\"j\", \"<i8\"),\n",
    "    (\"stage\", \"<f4\"),\n",
    "    (\"cond\", \"<f4\"),\n",
    "    (\"rbot\", \"<f4\"),\n",
    "    (\"iface\", \"<i4\"),\n",
    "    (\"boundname\", object),\n",
    "]\n",
    "riva_dtype = np.dtype(riva_dtype)\n",
    "stress_period_data = np.zeros((3), dtype=riva_dtype)\n",
    "stress_period_data = stress_period_data.view(np.recarray)\n",
    "print(\"stress_period_data: \", stress_period_data)\n",
    "print(\"type is: \", type(stress_period_data))"
   ]
  },
  {
   "cell_type": "code",
   "execution_count": 14,
   "metadata": {
    "execution": {
     "iopub.execute_input": "2022-07-30T20:16:56.010777Z",
     "iopub.status.busy": "2022-07-30T20:16:56.010419Z",
     "iopub.status.idle": "2022-07-30T20:16:56.017040Z",
     "shell.execute_reply": "2022-07-30T20:16:56.016178Z"
    }
   },
   "outputs": [
    {
     "name": "stdout",
     "output_type": "stream",
     "text": [
      "[(2, 3, 4, 10.7, 5000., -5.7, 1, 'riv1')\n",
      " (2, 3, 5, 10.7, 5000., -5.7, 2, 'riv2')\n",
      " (2, 3, 6, 10.7, 5000., -5.7, 3, 'riv3')]\n"
     ]
    }
   ],
   "source": [
    "stress_period_data[0] = (2, 3, 4, 10.7, 5000.0, -5.7, 1, \"riv1\")\n",
    "stress_period_data[1] = (2, 3, 5, 10.7, 5000.0, -5.7, 2, \"riv2\")\n",
    "stress_period_data[2] = (2, 3, 6, 10.7, 5000.0, -5.7, 3, \"riv3\")\n",
    "print(stress_period_data)"
   ]
  },
  {
   "cell_type": "code",
   "execution_count": 15,
   "metadata": {
    "execution": {
     "iopub.execute_input": "2022-07-30T20:16:56.021437Z",
     "iopub.status.busy": "2022-07-30T20:16:56.021121Z",
     "iopub.status.idle": "2022-07-30T20:16:56.160072Z",
     "shell.execute_reply": "2022-07-30T20:16:56.158918Z"
    }
   },
   "outputs": [
    {
     "name": "stdout",
     "output_type": "stream",
     "text": [
      "head: data/test.riv: No such file or directory\r\n"
     ]
    }
   ],
   "source": [
    "m = flopy.modflow.Modflow(modelname=\"test\", model_ws=workspace)\n",
    "riv = flopy.modflow.ModflowRiv(\n",
    "    m,\n",
    "    stress_period_data=stress_period_data,\n",
    "    dtype=riva_dtype,\n",
    "    options=[\"aux iface\"],\n",
    ")\n",
    "m.write_input()\n",
    "!head -n 10 'data/test.riv'"
   ]
  },
  {
   "cell_type": "markdown",
   "metadata": {},
   "source": [
    "## Working with Unstructured Grids\n",
    "\n",
    "Flopy can create an unstructured grid boundary condition package for MODFLOW-USG.  This can be done by specifying a custom dtype for the recarray.  The following shows an example of how that can be done."
   ]
  },
  {
   "cell_type": "code",
   "execution_count": 16,
   "metadata": {
    "execution": {
     "iopub.execute_input": "2022-07-30T20:16:56.165481Z",
     "iopub.status.busy": "2022-07-30T20:16:56.165056Z",
     "iopub.status.idle": "2022-07-30T20:16:56.173486Z",
     "shell.execute_reply": "2022-07-30T20:16:56.172506Z"
    }
   },
   "outputs": [
    {
     "name": "stdout",
     "output_type": "stream",
     "text": [
      "stress_period_data:  [(0, 0., 0., 0.) (0, 0., 0., 0.) (0, 0., 0., 0.)]\n",
      "type is:  <class 'numpy.recarray'>\n"
     ]
    }
   ],
   "source": [
    "# create an empty array based on nodenumber instead of layer, row, and column\n",
    "rivu_dtype = [\n",
    "    (\"nodenumber\", \"<i8\"),\n",
    "    (\"stage\", \"<f4\"),\n",
    "    (\"cond\", \"<f4\"),\n",
    "    (\"rbot\", \"<f4\"),\n",
    "]\n",
    "rivu_dtype = np.dtype(rivu_dtype)\n",
    "stress_period_data = np.zeros((3), dtype=rivu_dtype)\n",
    "stress_period_data = stress_period_data.view(np.recarray)\n",
    "print(\"stress_period_data: \", stress_period_data)\n",
    "print(\"type is: \", type(stress_period_data))"
   ]
  },
  {
   "cell_type": "code",
   "execution_count": 17,
   "metadata": {
    "execution": {
     "iopub.execute_input": "2022-07-30T20:16:56.181568Z",
     "iopub.status.busy": "2022-07-30T20:16:56.181086Z",
     "iopub.status.idle": "2022-07-30T20:16:56.189295Z",
     "shell.execute_reply": "2022-07-30T20:16:56.187626Z"
    }
   },
   "outputs": [
    {
     "name": "stdout",
     "output_type": "stream",
     "text": [
      "[(    77, 10.7, 5000., -5.7) (   245, 10.7, 5000., -5.7)\n",
      " (450034, 10.7, 5000., -5.7)]\n"
     ]
    }
   ],
   "source": [
    "stress_period_data[0] = (77, 10.7, 5000.0, -5.7)\n",
    "stress_period_data[1] = (245, 10.7, 5000.0, -5.7)\n",
    "stress_period_data[2] = (450034, 10.7, 5000.0, -5.7)\n",
    "print(stress_period_data)"
   ]
  },
  {
   "cell_type": "code",
   "execution_count": 18,
   "metadata": {
    "execution": {
     "iopub.execute_input": "2022-07-30T20:16:56.199597Z",
     "iopub.status.busy": "2022-07-30T20:16:56.199029Z",
     "iopub.status.idle": "2022-07-30T20:16:56.339613Z",
     "shell.execute_reply": "2022-07-30T20:16:56.338449Z"
    }
   },
   "outputs": [
    {
     "name": "stdout",
     "output_type": "stream",
     "text": [
      "/var/folders/4t/2sbpjbgs1n73t8s7rx4gb_ph0000gn/T/tmpt9wntbdc\n"
     ]
    },
    {
     "name": "stdout",
     "output_type": "stream",
     "text": [
      "head: data/test.riv: No such file or directory\r\n"
     ]
    }
   ],
   "source": [
    "m = flopy.modflow.Modflow(modelname=\"test\", model_ws=workspace)\n",
    "riv = flopy.modflow.ModflowRiv(\n",
    "    m, stress_period_data=stress_period_data, dtype=rivu_dtype\n",
    ")\n",
    "m.write_input()\n",
    "print(workspace)\n",
    "!head -n 10 'data/test.riv'"
   ]
  },
  {
   "cell_type": "markdown",
   "metadata": {},
   "source": [
    "## Combining two boundary condition packages"
   ]
  },
  {
   "cell_type": "code",
   "execution_count": 19,
   "metadata": {
    "execution": {
     "iopub.execute_input": "2022-07-30T20:16:56.344631Z",
     "iopub.status.busy": "2022-07-30T20:16:56.344182Z",
     "iopub.status.idle": "2022-07-30T20:16:56.522021Z",
     "shell.execute_reply": "2022-07-30T20:16:56.521002Z"
    }
   },
   "outputs": [
    {
     "name": "stdout",
     "output_type": "stream",
     "text": [
      "head: data/test.wel: No such file or directory\r\n"
     ]
    }
   ],
   "source": [
    "ml = flopy.modflow.Modflow(modelname=\"test\", model_ws=workspace)\n",
    "dis = flopy.modflow.ModflowDis(ml, 10, 10, 10, 10)\n",
    "sp_data1 = {3: [1, 1, 1, 1.0], 5: [1, 2, 4, 4.0]}\n",
    "wel1 = flopy.modflow.ModflowWel(ml, stress_period_data=sp_data1)\n",
    "ml.write_input()\n",
    "!head -n 10 'data/test.wel'"
   ]
  },
  {
   "cell_type": "code",
   "execution_count": 20,
   "metadata": {
    "execution": {
     "iopub.execute_input": "2022-07-30T20:16:56.527107Z",
     "iopub.status.busy": "2022-07-30T20:16:56.526653Z",
     "iopub.status.idle": "2022-07-30T20:16:56.682052Z",
     "shell.execute_reply": "2022-07-30T20:16:56.670117Z"
    }
   },
   "outputs": [
    {
     "name": "stdout",
     "output_type": "stream",
     "text": [
      "head: data/test.wel: No such file or directory\r\n"
     ]
    }
   ],
   "source": [
    "sp_data2 = {0: [1, 1, 3, 3.0], 8: [9, 2, 4, 4.0]}\n",
    "wel2 = flopy.modflow.ModflowWel(ml, stress_period_data=sp_data2)\n",
    "ml.write_input()\n",
    "!head -n 10 'data/test.wel'"
   ]
  },
  {
   "cell_type": "markdown",
   "metadata": {},
   "source": [
    "Now we create a third wel package, using the ```MfList.append()``` method:"
   ]
  },
  {
   "cell_type": "code",
   "execution_count": 21,
   "metadata": {
    "execution": {
     "iopub.execute_input": "2022-07-30T20:16:56.691205Z",
     "iopub.status.busy": "2022-07-30T20:16:56.690723Z",
     "iopub.status.idle": "2022-07-30T20:16:56.859636Z",
     "shell.execute_reply": "2022-07-30T20:16:56.851909Z"
    },
    "pycharm": {
     "name": "#%%\n"
    }
   },
   "outputs": [
    {
     "name": "stdout",
     "output_type": "stream",
     "text": [
      "head: data/test.wel: No such file or directory\r\n"
     ]
    }
   ],
   "source": [
    "wel3 = flopy.modflow.ModflowWel(\n",
    "    ml,\n",
    "    stress_period_data=wel2.stress_period_data.append(wel1.stress_period_data),\n",
    ")\n",
    "ml.write_input()\n",
    "!head -n 10 'data/test.wel'"
   ]
  }
 ],
 "metadata": {
  "anaconda-cloud": {},
  "kernelspec": {
   "display_name": "Python 3",
   "language": "python",
   "name": "python3"
  },
  "language_info": {
   "codemirror_mode": {
    "name": "ipython",
    "version": 3
   },
   "file_extension": ".py",
   "mimetype": "text/x-python",
   "name": "python",
   "nbconvert_exporter": "python",
   "pygments_lexer": "ipython3",
   "version": "3.10.5"
  }
 },
 "nbformat": 4,
 "nbformat_minor": 4
}