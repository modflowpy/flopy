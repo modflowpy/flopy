{
 "cells": [
  {
   "cell_type": "markdown",
   "metadata": {},
   "source": [
    "# FloPy\n",
    "\n",
    "### Quick demo on how to use FloPy to save array data as a binary file"
   ]
  },
  {
   "cell_type": "code",
   "execution_count": 1,
   "metadata": {
    "execution": {
     "iopub.execute_input": "2022-07-30T20:20:16.922982Z",
     "iopub.status.busy": "2022-07-30T20:20:16.922766Z",
     "iopub.status.idle": "2022-07-30T20:20:17.544627Z",
     "shell.execute_reply": "2022-07-30T20:20:17.544159Z"
    }
   },
   "outputs": [
    {
     "name": "stdout",
     "output_type": "stream",
     "text": [
      "3.10.5 (v3.10.5:f377153967, Jun  6 2022, 12:36:10) [Clang 13.0.0 (clang-1300.0.29.30)]\n",
      "numpy version: 1.23.1\n",
      "matplotlib version: 3.5.2\n",
      "flopy version: 3.3.6\n"
     ]
    }
   ],
   "source": [
    "import os\n",
    "import sys\n",
    "import shutil\n",
    "from tempfile import TemporaryDirectory\n",
    "\n",
    "import numpy as np\n",
    "import matplotlib as mpl\n",
    "import matplotlib.pyplot as plt\n",
    "\n",
    "# run installed version of flopy or add local path\n",
    "try:\n",
    "    import flopy\n",
    "except:\n",
    "    fpth = os.path.abspath(os.path.join(\"..\", \"..\"))\n",
    "    sys.path.append(fpth)\n",
    "    import flopy\n",
    "\n",
    "print(sys.version)\n",
    "print(\"numpy version: {}\".format(np.__version__))\n",
    "print(\"matplotlib version: {}\".format(mpl.__version__))\n",
    "print(\"flopy version: {}\".format(flopy.__version__))"
   ]
  },
  {
   "cell_type": "code",
   "execution_count": 2,
   "metadata": {
    "execution": {
     "iopub.execute_input": "2022-07-30T20:20:17.574042Z",
     "iopub.status.busy": "2022-07-30T20:20:17.573762Z",
     "iopub.status.idle": "2022-07-30T20:20:17.578985Z",
     "shell.execute_reply": "2022-07-30T20:20:17.578488Z"
    }
   },
   "outputs": [],
   "source": [
    "nlay, nrow, ncol = 1, 20, 10\n",
    "\n",
    "# temporary directory\n",
    "temp_dir = TemporaryDirectory()\n",
    "model_ws = os.path.join(temp_dir.name, \"binary_data\")\n",
    "\n",
    "if os.path.exists(model_ws):\n",
    "    shutil.rmtree(model_ws)\n",
    "\n",
    "precision = \"single\"  # or 'double'\n",
    "dtype = np.float32  # or np.float64\n",
    "\n",
    "mf = flopy.modflow.Modflow(model_ws=model_ws)\n",
    "dis = flopy.modflow.ModflowDis(\n",
    "    mf, nlay=nlay, nrow=nrow, ncol=ncol, delr=20, delc=10\n",
    ")"
   ]
  },
  {
   "cell_type": "markdown",
   "metadata": {},
   "source": [
    "Create a linear data array"
   ]
  },
  {
   "cell_type": "code",
   "execution_count": 3,
   "metadata": {
    "execution": {
     "iopub.execute_input": "2022-07-30T20:20:17.581724Z",
     "iopub.status.busy": "2022-07-30T20:20:17.581517Z",
     "iopub.status.idle": "2022-07-30T20:20:17.584783Z",
     "shell.execute_reply": "2022-07-30T20:20:17.584283Z"
    }
   },
   "outputs": [
    {
     "name": "stdout",
     "output_type": "stream",
     "text": [
      "(20, 10)\n"
     ]
    }
   ],
   "source": [
    "# create the first row of data\n",
    "b = np.linspace(10, 1, num=ncol, dtype=dtype).reshape(1, ncol)\n",
    "\n",
    "# extend data to every row\n",
    "b = np.repeat(b, nrow, axis=0)\n",
    "\n",
    "# print the shape and type of the data\n",
    "print(b.shape)"
   ]
  },
  {
   "cell_type": "markdown",
   "metadata": {},
   "source": [
    "Plot the data array"
   ]
  },
  {
   "cell_type": "code",
   "execution_count": 4,
   "metadata": {
    "execution": {
     "iopub.execute_input": "2022-07-30T20:20:17.587158Z",
     "iopub.status.busy": "2022-07-30T20:20:17.586976Z",
     "iopub.status.idle": "2022-07-30T20:20:17.721629Z",
     "shell.execute_reply": "2022-07-30T20:20:17.721114Z"
    }
   },
   "outputs": [
    {
     "data": {
      "image/png": "[encoded data removed]",
      "text/plain": [
       "<Figure size 432x288 with 2 Axes>"
      ]
     },
     "metadata": {
      "needs_background": "light"
     },
     "output_type": "display_data"
    }
   ],
   "source": [
    "pmv = flopy.plot.PlotMapView(model=mf)\n",
    "v = pmv.plot_array(b)\n",
    "pmv.plot_grid()\n",
    "plt.colorbar(v, shrink=0.5);"
   ]
  },
  {
   "cell_type": "markdown",
   "metadata": {},
   "source": [
    "Write the linear data array to a binary file"
   ]
  },
  {
   "cell_type": "code",
   "execution_count": 5,
   "metadata": {
    "execution": {
     "iopub.execute_input": "2022-07-30T20:20:17.724354Z",
     "iopub.status.busy": "2022-07-30T20:20:17.724152Z",
     "iopub.status.idle": "2022-07-30T20:20:17.728283Z",
     "shell.execute_reply": "2022-07-30T20:20:17.727740Z"
    }
   },
   "outputs": [],
   "source": [
    "text = \"head\"\n",
    "\n",
    "# write a binary data file\n",
    "pertim = dtype(1.0)\n",
    "header = flopy.utils.BinaryHeader.create(\n",
    "    bintype=text,\n",
    "    precision=precision,\n",
    "    text=text,\n",
    "    nrow=nrow,\n",
    "    ncol=ncol,\n",
    "    ilay=1,\n",
    "    pertim=pertim,\n",
    "    totim=pertim,\n",
    "    kstp=1,\n",
    "    kper=1,\n",
    ")\n",
    "pth = os.path.join(model_ws, \"bottom.bin\")\n",
    "flopy.utils.Util2d.write_bin(b.shape, pth, b, header_data=header)"
   ]
  },
  {
   "cell_type": "markdown",
   "metadata": {},
   "source": [
    "Read the binary data file"
   ]
  },
  {
   "cell_type": "code",
   "execution_count": 6,
   "metadata": {
    "execution": {
     "iopub.execute_input": "2022-07-30T20:20:17.730778Z",
     "iopub.status.busy": "2022-07-30T20:20:17.730583Z",
     "iopub.status.idle": "2022-07-30T20:20:17.733986Z",
     "shell.execute_reply": "2022-07-30T20:20:17.733553Z"
    }
   },
   "outputs": [],
   "source": [
    "bo = flopy.utils.HeadFile(pth, precision=precision)\n",
    "br = bo.get_data(idx=0)"
   ]
  },
  {
   "cell_type": "markdown",
   "metadata": {},
   "source": [
    "Plot the data that was read from the binary file"
   ]
  },
  {
   "cell_type": "code",
   "execution_count": 7,
   "metadata": {
    "execution": {
     "iopub.execute_input": "2022-07-30T20:20:17.736490Z",
     "iopub.status.busy": "2022-07-30T20:20:17.736293Z",
     "iopub.status.idle": "2022-07-30T20:20:17.888887Z",
     "shell.execute_reply": "2022-07-30T20:20:17.888299Z"
    }
   },
   "outputs": [
    {
     "data": {
      "image/png": "[encoded data removed]",
      "text/plain": [
       "<Figure size 432x288 with 2 Axes>"
      ]
     },
     "metadata": {
      "needs_background": "light"
     },
     "output_type": "display_data"
    }
   ],
   "source": [
    "pmv = flopy.plot.PlotMapView(model=mf)\n",
    "v = pmv.plot_array(br)\n",
    "pmv.plot_grid()\n",
    "plt.colorbar(v, shrink=0.5);"
   ]
  },
  {
   "cell_type": "markdown",
   "metadata": {},
   "source": [
    "Plot the difference in the two values"
   ]
  },
  {
   "cell_type": "code",
   "execution_count": 8,
   "metadata": {
    "execution": {
     "iopub.execute_input": "2022-07-30T20:20:17.891699Z",
     "iopub.status.busy": "2022-07-30T20:20:17.891484Z",
     "iopub.status.idle": "2022-07-30T20:20:18.014812Z",
     "shell.execute_reply": "2022-07-30T20:20:18.014326Z"
    }
   },
   "outputs": [
    {
     "data": {
      "image/png": "[encoded data removed]",
      "text/plain": [
       "<Figure size 432x288 with 2 Axes>"
      ]
     },
     "metadata": {
      "needs_background": "light"
     },
     "output_type": "display_data"
    }
   ],
   "source": [
    "pmv = flopy.plot.PlotMapView(model=mf)\n",
    "v = pmv.plot_array(b - br)\n",
    "pmv.plot_grid()\n",
    "plt.colorbar(v, shrink=0.5);"
   ]
  },
  {
   "cell_type": "code",
   "execution_count": 9,
   "metadata": {
    "execution": {
     "iopub.execute_input": "2022-07-30T20:20:18.017343Z",
     "iopub.status.busy": "2022-07-30T20:20:18.017131Z",
     "iopub.status.idle": "2022-07-30T20:20:18.020441Z",
     "shell.execute_reply": "2022-07-30T20:20:18.019960Z"
    }
   },
   "outputs": [],
   "source": [
    "try:\n",
    "    # ignore PermissionError on Windows\n",
    "    temp_dir.cleanup()\n",
    "except:\n",
    "    pass"
   ]
  }
 ],
 "metadata": {
  "anaconda-cloud": {},
  "kernelspec": {
   "display_name": "Python 3",
   "language": "python",
   "name": "python3"
  },
  "language_info": {
   "codemirror_mode": {
    "name": "ipython",
    "version": 3
   },
   "file_extension": ".py",
   "mimetype": "text/x-python",
   "name": "python",
   "nbconvert_exporter": "python",
   "pygments_lexer": "ipython3",
   "version": "3.10.5"
  }
 },
 "nbformat": 4,
 "nbformat_minor": 4
}