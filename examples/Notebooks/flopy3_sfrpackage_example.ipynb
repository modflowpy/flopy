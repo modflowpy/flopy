{
 "cells": [
  {
   "cell_type": "markdown",
   "metadata": {},
   "source": [
    "## SFR package example\n",
    "Demonstrates functionality of Flopy SFR module using the example documented by [Prudic and others (2004)](http://pubs.er.usgs.gov/publication/ofr20041042):  \n",
    "\n",
    "#### Problem description:\n",
    "\n",
    "* Grid dimensions: 1 Layer, 15 Rows, 10 Columns  \n",
    "* Stress periods: 1 steady  \n",
    "* Flow package: LPF  \n",
    "* Stress packages: SFR, GHB, EVT, RCH  \n",
    "* Solver: SIP  \n",
    "\n",
    "<img src=\"./img/Prudic2004_fig6.png\" width=\"400\" height=\"500\"/>"
   ]
  },
  {
   "cell_type": "code",
   "execution_count": 1,
   "metadata": {},
   "outputs": [
    {
     "name": "stdout",
     "output_type": "stream",
     "text": [
      "flopy is installed in /Users/jdhughes/Documents/Development/flopy_git/flopy_us/flopy\n",
      "3.6.7 | packaged by conda-forge | (default, Feb 28 2019, 02:16:08) \n",
      "[GCC 4.2.1 Compatible Clang 4.0.1 (tags/RELEASE_401/final)]\n",
      "numpy version: 1.14.5\n",
      "pandas version: 0.23.1\n",
      "matplotlib version: 2.2.2\n",
      "flopy version: 3.2.11\n"
     ]
    }
   ],
   "source": [
    "import sys\n",
    "import platform\n",
    "import os\n",
    "import numpy as np\n",
    "import glob\n",
    "import shutil\n",
    "import matplotlib as mpl\n",
    "import matplotlib.pyplot as plt\n",
    "import pandas as pd\n",
    "\n",
    "# run installed version of flopy or add local path\n",
    "try:\n",
    "    import flopy\n",
    "except:\n",
    "    fpth = os.path.abspath(os.path.join('..', '..'))\n",
    "    sys.path.append(fpth)\n",
    "    import flopy\n",
    "    \n",
    "import flopy.utils.binaryfile as bf\n",
    "from flopy.utils.sfroutputfile import SfrFile\n",
    "\n",
    "mpl.rcParams['figure.figsize'] = (11, 8.5)\n",
    "\n",
    "print(sys.version)\n",
    "print('numpy version: {}'.format(np.__version__))\n",
    "print('pandas version: {}'.format(pd.__version__))\n",
    "print('matplotlib version: {}'.format(mpl.__version__))\n",
    "print('flopy version: {}'.format(flopy.__version__))"
   ]
  },
  {
   "cell_type": "code",
   "execution_count": 2,
   "metadata": {},
   "outputs": [],
   "source": [
    "#Set name of MODFLOW exe\n",
    "#  assumes executable is in users path statement\n",
    "exe_name = 'mf2005'\n",
    "if platform.system() == 'Windows':\n",
    "    exe_name += '.exe'"
   ]
  },
  {
   "cell_type": "markdown",
   "metadata": {},
   "source": [
    "#### copy over the example files to the working directory"
   ]
  },
  {
   "cell_type": "code",
   "execution_count": 3,
   "metadata": {},
   "outputs": [],
   "source": [
    "path = 'data'\n",
    "if os.path.isfile(path):\n",
    "    os.remove(path)\n",
    "elif os.path.isdir(path):\n",
    "    shutil.rmtree(path)\n",
    "os.mkdir(path)\n",
    "gpth = os.path.join('..', 'data', 'mf2005_test', 'test1ss.*')\n",
    "for f in glob.glob(gpth):\n",
    "    shutil.copy(f, path)\n",
    "gpth = os.path.join('..', 'data', 'mf2005_test', 'test1tr.*')\n",
    "for f in glob.glob(gpth):\n",
    "    shutil.copy(f, path)"
   ]
  },
  {
   "cell_type": "markdown",
   "metadata": {},
   "source": [
    "### Load example dataset, skipping the SFR package"
   ]
  },
  {
   "cell_type": "code",
   "execution_count": 4,
   "metadata": {},
   "outputs": [],
   "source": [
    "m = flopy.modflow.Modflow.load('test1ss.nam', version='mf2005', exe_name=exe_name, \n",
    "                               model_ws=path, load_only=['ghb', 'evt', 'rch', 'dis', 'bas6', 'oc', 'sip', 'lpf'])"
   ]
  },
  {
   "cell_type": "code",
   "execution_count": 5,
   "metadata": {},
   "outputs": [
    {
     "data": {
      "text/plain": [
       "{(-1, -1): [],\n",
       " (0, 0): ['print budget', 'print head', 'save head', 'save budget']}"
      ]
     },
     "execution_count": 5,
     "metadata": {},
     "output_type": "execute_result"
    }
   ],
   "source": [
    "oc = m.oc\n",
    "oc.stress_period_data"
   ]
  },
  {
   "cell_type": "markdown",
   "metadata": {},
   "source": [
    "### Read pre-prepared reach and segment data into numpy recarrays using numpy.genfromtxt()\n",
    "Reach data (Item 2 in the SFR input instructions), are input and stored in a numpy record array  \n",
    "http://docs.scipy.org/doc/numpy/reference/generated/numpy.recarray.html  \n",
    "This allows for reach data to be indexed by their variable names, as described in the SFR input instructions.\n",
    "\n",
    "For more information on Item 2, see the Online Guide to MODFLOW:  \n",
    "<http://water.usgs.gov/nrp/gwsoftware/modflow2000/MFDOC/index.html?sfr.htm>"
   ]
  },
  {
   "cell_type": "code",
   "execution_count": 6,
   "metadata": {},
   "outputs": [
    {
     "data": {
      "text/plain": [
       "array([(0.,  0., 0., 1., 1., 4500.), (0.,  1., 1., 1., 2., 7000.),\n",
       "       (0.,  2., 2., 1., 3., 6000.), (0.,  2., 3., 1., 4., 5550.),\n",
       "       (0.,  3., 4., 2., 1., 6500.), (0.,  4., 5., 2., 2., 5000.),\n",
       "       (0.,  5., 5., 2., 3., 5000.), (0.,  6., 5., 2., 4., 5000.),\n",
       "       (0.,  7., 5., 2., 5., 5000.), (0.,  2., 4., 3., 1., 5000.),\n",
       "       (0.,  2., 5., 3., 2., 5000.), (0.,  2., 6., 3., 3., 4500.),\n",
       "       (0.,  3., 7., 3., 4., 6000.), (0.,  4., 7., 3., 5., 5000.),\n",
       "       (0.,  5., 7., 3., 6., 2000.), (0.,  4., 9., 4., 1., 2500.),\n",
       "       (0.,  4., 8., 4., 2., 5000.), (0.,  5., 7., 4., 3., 3500.),\n",
       "       (0.,  5., 7., 5., 1., 4000.), (0.,  6., 6., 5., 2., 5000.),\n",
       "       (0.,  7., 6., 5., 3., 3500.), (0.,  7., 5., 5., 4., 2500.),\n",
       "       (0.,  8., 5., 6., 1., 5000.), (0.,  9., 6., 6., 2., 5000.),\n",
       "       (0., 10., 6., 6., 3., 5000.), (0., 11., 6., 6., 4., 5000.),\n",
       "       (0., 12., 6., 6., 5., 2000.), (0., 13., 8., 7., 1., 5000.),\n",
       "       (0., 12., 7., 7., 2., 5500.), (0., 12., 6., 7., 3., 5000.),\n",
       "       (0., 12., 5., 8., 1., 5000.), (0., 12., 4., 8., 2., 5000.),\n",
       "       (0., 12., 3., 8., 3., 5000.), (0., 12., 2., 8., 4., 5000.),\n",
       "       (0., 12., 1., 8., 5., 5000.), (0., 12., 0., 8., 6., 3000.)],\n",
       "      dtype=[('k', '<f8'), ('i', '<f8'), ('j', '<f8'), ('iseg', '<f8'), ('ireach', '<f8'), ('rchlen', '<f8')])"
      ]
     },
     "execution_count": 6,
     "metadata": {},
     "output_type": "execute_result"
    }
   ],
   "source": [
    "rpth = os.path.join('..', 'data', 'sfr_examples', 'test1ss_reach_data.csv')\n",
    "reach_data = np.genfromtxt(rpth, delimiter=',', names=True)\n",
    "reach_data"
   ]
  },
  {
   "cell_type": "markdown",
   "metadata": {},
   "source": [
    "### Segment Data structure\n",
    "Segment data are input and stored in a dictionary of record arrays, which "
   ]
  },
  {
   "cell_type": "code",
   "execution_count": 7,
   "metadata": {},
   "outputs": [
    {
     "data": {
      "text/plain": [
       "array([0.])"
      ]
     },
     "execution_count": 7,
     "metadata": {},
     "output_type": "execute_result"
    }
   ],
   "source": [
    "spth = os.path.join('..', 'data', 'sfr_examples', 'test1ss_segment_data.csv')\n",
    "ss_segment_data = np.genfromtxt(spth, delimiter=',', names=True)\n",
    "segment_data = {0: ss_segment_data}\n",
    "segment_data[0][0:1]['width1']"
   ]
  },
  {
   "cell_type": "markdown",
   "metadata": {},
   "source": [
    "### define dataset 6e (channel flow data) for segment 1\n",
    "dataset 6e is stored in a nested dictionary keyed by stress period and segment,  \n",
    "with a list of the following lists defined for each segment with icalc == 4  \n",
    "FLOWTAB(1) FLOWTAB(2) ... FLOWTAB(NSTRPTS)  \n",
    "DPTHTAB(1) DPTHTAB(2) ... DPTHTAB(NSTRPTS)  \n",
    "WDTHTAB(1) WDTHTAB(2) ... WDTHTAB(NSTRPTS)  "
   ]
  },
  {
   "cell_type": "code",
   "execution_count": 8,
   "metadata": {},
   "outputs": [],
   "source": [
    "channel_flow_data = {0: {1: [[0.5, 1.0, 2.0, 4.0, 7.0, 10.0, 20.0, 30.0, 50.0, 75.0, 100.0],\n",
    "                             [0.25, 0.4, 0.55, 0.7, 0.8, 0.9, 1.1, 1.25, 1.4, 1.7, 2.6],\n",
    "                             [3.0, 3.5, 4.2, 5.3, 7.0, 8.5, 12.0, 14.0, 17.0, 20.0, 22.0]]}}"
   ]
  },
  {
   "cell_type": "markdown",
   "metadata": {},
   "source": [
    "### define dataset 6d (channel geometry data) for segments 7 and 8\n",
    "dataset 6d is stored in a nested dictionary keyed by stress period and segment,  \n",
    "with a list of the following lists defined for each segment with icalc == 4  \n",
    "FLOWTAB(1) FLOWTAB(2) ... FLOWTAB(NSTRPTS)  \n",
    "DPTHTAB(1) DPTHTAB(2) ... DPTHTAB(NSTRPTS)  \n",
    "WDTHTAB(1) WDTHTAB(2) ... WDTHTAB(NSTRPTS)  "
   ]
  },
  {
   "cell_type": "code",
   "execution_count": 9,
   "metadata": {},
   "outputs": [],
   "source": [
    "channel_geometry_data = {0: {7: [[0.0, 10.0, 80.0, 100.0, 150.0, 170.0, 240.0, 250.0],\n",
    "                                 [20.0, 13.0, 10.0, 2.0, 0.0, 10.0, 13.0, 20.0]],\n",
    "                             8: [[0.0, 10.0, 80.0, 100.0, 150.0, 170.0, 240.0, 250.0],\n",
    "                                 [25.0, 17.0, 13.0, 4.0, 0.0, 10.0, 16.0, 20.0]]}}"
   ]
  },
  {
   "cell_type": "markdown",
   "metadata": {},
   "source": [
    "### Define SFR package variables  "
   ]
  },
  {
   "cell_type": "code",
   "execution_count": 10,
   "metadata": {},
   "outputs": [],
   "source": [
    "nstrm = len(reach_data) # number of reaches\n",
    "nss = len(segment_data[0]) # number of segments\n",
    "nsfrpar = 0 # number of parameters (not supported)\n",
    "nparseg = 0\n",
    "const = 1.486 # constant for manning's equation, units of cfs\n",
    "dleak = 0.0001 # closure tolerance for stream stage computation\n",
    "ipakcb = 53 # flag for writing SFR output to cell-by-cell budget (on unit 53)\n",
    "istcb2 = 81 # flag for writing SFR output to text file\n",
    "dataset_5 = {0: [nss, 0, 0]} # dataset 5 (see online guide)"
   ]
  },
  {
   "cell_type": "markdown",
   "metadata": {},
   "source": [
    "### Instantiate SFR package  \n",
    "Input arguments generally follow the variable names defined in the Online Guide to MODFLOW"
   ]
  },
  {
   "cell_type": "code",
   "execution_count": 11,
   "metadata": {},
   "outputs": [],
   "source": [
    "sfr = flopy.modflow.ModflowSfr2(m, nstrm=nstrm, nss=nss, const=const, dleak=dleak, ipakcb=ipakcb, istcb2=istcb2, \n",
    "                                reach_data=reach_data,\n",
    "                                segment_data=segment_data,\n",
    "                                channel_geometry_data=channel_geometry_data,\n",
    "                                channel_flow_data=channel_flow_data,\n",
    "                                dataset_5=dataset_5, unit_number=15)"
   ]
  },
  {
   "cell_type": "code",
   "execution_count": 12,
   "metadata": {},
   "outputs": [
    {
     "data": {
      "text/plain": [
       "rec.array([(0, 0, 0, 0, 1, 1, 4500., 0., 0., 0., 0., 0., 0., 0., 0., 1, 2)],\n",
       "          dtype=[('node', '<i8'), ('k', '<i8'), ('i', '<i8'), ('j', '<i8'), ('iseg', '<i8'), ('ireach', '<i8'), ('rchlen', '<f4'), ('strtop', '<f4'), ('slope', '<f4'), ('strthick', '<f4'), ('strhc1', '<f4'), ('thts', '<f4'), ('thti', '<f4'), ('eps', '<f4'), ('uhc', '<f4'), ('reachID', '<i8'), ('outreach', '<i8')])"
      ]
     },
     "execution_count": 12,
     "metadata": {},
     "output_type": "execute_result"
    }
   ],
   "source": [
    "sfr.reach_data[0:1]"
   ]
  },
  {
   "cell_type": "markdown",
   "metadata": {},
   "source": [
    "### Plot the SFR segments\n",
    "any column in the reach_data array can be plotted using the ```key``` argument"
   ]
  },
  {
   "cell_type": "code",
   "execution_count": 13,
   "metadata": {},
   "outputs": [
    {
     "data": {
      "image/png": "[encoded data removed]",
      "text/plain": [
       "<Figure size 432x288 with 2 Axes>"
      ]
     },
     "metadata": {},
     "output_type": "display_data"
    }
   ],
   "source": [
    "sfr.plot(key='iseg');"
   ]
  },
  {
   "cell_type": "markdown",
   "metadata": {},
   "source": [
    "### Check the SFR dataset for errors"
   ]
  },
  {
   "cell_type": "code",
   "execution_count": 14,
   "metadata": {},
   "outputs": [
    {
     "name": "stdout",
     "output_type": "stream",
     "text": [
      "passed.\n",
      "\n",
      "Checking for continuity in segment and reach numbering...\n",
      "passed.\n",
      "\n",
      "Checking for increasing segment numbers in downstream direction...\n",
      "passed.\n",
      "\n",
      "Checking for circular routing...\n",
      "passed.\n",
      "\n",
      "Checking reach connections for proximity...\n",
      "0 segments with non-adjacent reaches found.\n",
      "At segments:\n",
      "\n",
      "\n",
      "0 segments with non-adjacent reaches found.\n",
      "At segments:\n",
      "\n",
      "\n",
      "\n",
      "Checking for model cells with multiple non-zero SFR conductances...\n",
      "3 model cells with multiple non-zero SFR conductances found.\n",
      "This may lead to circular routing between collocated reaches.\n",
      "Nodes with overlapping conductances:\n",
      "k\ti\tj\tiseg\tireach\trchlen\tstrthick\tstrhc1\n",
      "0\t7\t5\t2\t5\t5000.000000\t3.000000\t0.000030\n",
      "0\t5\t7\t3\t6\t2000.000000\t2.000000\t0.000030\n",
      "0\t5\t7\t4\t3\t3500.000000\t3.000000\t0.000030\n",
      "0\t5\t7\t5\t1\t4000.000000\t3.000000\t0.000030\n",
      "0\t7\t5\t5\t4\t2500.000000\t3.000000\t0.000030\n",
      "0\t12\t6\t6\t5\t2000.000000\t3.000000\t0.000030\n",
      "0\t12\t6\t7\t3\t5000.000000\t3.000000\t0.000060\n",
      "\n",
      "Checking for streambed tops of less than -10...\n",
      "strtop not specified for isfropt=0\n",
      "passed.\n",
      "\n",
      "Checking for streambed tops of greater than 15000...\n",
      "strtop not specified for isfropt=0\n",
      "passed.\n",
      "\n",
      "Checking segment_data for downstream rises in streambed elevation...\n",
      "passed.\n",
      "\n",
      "Checking reach_data for downstream rises in streambed elevation...\n",
      "Reach strtop not specified for nstrm=36, reachinput=False and isfropt=0\n",
      "passed.\n",
      "\n",
      "Checking reach_data for inconsistencies between streambed elevations and the model grid...\n",
      "Reach strtop, strthick not specified for nstrm=36, reachinput=False and isfropt=0\n",
      "passed.\n",
      "\n",
      "Checking segment_data for inconsistencies between segment end elevations and the model grid...\n",
      "passed.\n",
      "\n",
      "Checking for streambed slopes of less than 0.0001...\n",
      "slope not specified for isfropt=0\n",
      "passed.\n",
      "\n",
      "Checking for streambed slopes of greater than 1.0...\n",
      "slope not specified for isfropt=0\n",
      "passed.\n",
      "\n"
     ]
    }
   ],
   "source": [
    "chk = sfr.check()"
   ]
  },
  {
   "cell_type": "code",
   "execution_count": 15,
   "metadata": {},
   "outputs": [
    {
     "data": {
      "text/plain": [
       "['test1ss.sg1',\n",
       " 'test1ss.sg2',\n",
       " 'test1ss.sg3',\n",
       " 'test1ss.sg4',\n",
       " 'test1ss.sg5',\n",
       " 'test1ss.sg6',\n",
       " 'test1ss.sg7',\n",
       " 'test1ss.sg8',\n",
       " 'test1ss.dvsg9']"
      ]
     },
     "execution_count": 15,
     "metadata": {},
     "output_type": "execute_result"
    }
   ],
   "source": [
    "m.external_fnames = [os.path.split(f)[1] for f in m.external_fnames]\n",
    "m.external_fnames"
   ]
  },
  {
   "cell_type": "code",
   "execution_count": 16,
   "metadata": {},
   "outputs": [],
   "source": [
    "m.write_input()"
   ]
  },
  {
   "cell_type": "code",
   "execution_count": 17,
   "metadata": {},
   "outputs": [
    {
     "name": "stdout",
     "output_type": "stream",
     "text": [
      "FloPy is using the following  executable to run the model: /Users/jdhughes/.local/bin/mf2005\n",
      "\n",
      "                                  MODFLOW-2005     \n",
      "    U.S. GEOLOGICAL SURVEY MODULAR FINITE-DIFFERENCE GROUND-WATER FLOW MODEL\n",
      "                             Version 1.12.00 2/3/2017                        \n",
      "\n",
      " Using NAME file: test1ss.nam \n",
      " Run start date and time (yyyy/mm/dd hh:mm:ss): 2019/03/22 17:15:51\n",
      "\n",
      " Solving:  Stress period:     1    Time step:     1    Ground-Water Flow Eqn.\n",
      " Run end date and time (yyyy/mm/dd hh:mm:ss): 2019/03/22 17:15:51\n",
      " Elapsed run time:  0.018 Seconds\n",
      "\n",
      "  Normal termination of simulation\n"
     ]
    },
    {
     "data": {
      "text/plain": [
       "(True, [])"
      ]
     },
     "execution_count": 17,
     "metadata": {},
     "output_type": "execute_result"
    }
   ],
   "source": [
    "m.run_model()"
   ]
  },
  {
   "cell_type": "markdown",
   "metadata": {},
   "source": [
    "### Load SFR formated water balance output into pandas dataframe using the `SfrFile` class \n",
    "* requires the **pandas** library"
   ]
  },
  {
   "cell_type": "code",
   "execution_count": 18,
   "metadata": {},
   "outputs": [
    {
     "data": {
      "text/html": [
       "<div>\n",
       "<style scoped>\n",
       "    .dataframe tbody tr th:only-of-type {\n",
       "        vertical-align: middle;\n",
       "    }\n",
       "\n",
       "    .dataframe tbody tr th {\n",
       "        vertical-align: top;\n",
       "    }\n",
       "\n",
       "    .dataframe thead th {\n",
       "        text-align: right;\n",
       "    }\n",
       "</style>\n",
       "<table border=\"1\" class=\"dataframe\">\n",
       "  <thead>\n",
       "    <tr style=\"text-align: right;\">\n",
       "      <th></th>\n",
       "      <th>layer</th>\n",
       "      <th>row</th>\n",
       "      <th>column</th>\n",
       "      <th>segment</th>\n",
       "      <th>reach</th>\n",
       "      <th>Qin</th>\n",
       "      <th>Qaquifer</th>\n",
       "      <th>Qout</th>\n",
       "      <th>Qovr</th>\n",
       "      <th>Qprecip</th>\n",
       "      <th>Qet</th>\n",
       "      <th>stage</th>\n",
       "      <th>depth</th>\n",
       "      <th>width</th>\n",
       "      <th>Cond</th>\n",
       "      <th>col16</th>\n",
       "      <th>kstpkper</th>\n",
       "      <th>k</th>\n",
       "      <th>i</th>\n",
       "      <th>j</th>\n",
       "    </tr>\n",
       "  </thead>\n",
       "  <tbody>\n",
       "    <tr>\n",
       "      <th>0</th>\n",
       "      <td>1</td>\n",
       "      <td>1</td>\n",
       "      <td>1</td>\n",
       "      <td>1</td>\n",
       "      <td>1</td>\n",
       "      <td>25.0000</td>\n",
       "      <td>0.7923</td>\n",
       "      <td>24.2080</td>\n",
       "      <td>0.0</td>\n",
       "      <td>0.0</td>\n",
       "      <td>0.0</td>\n",
       "      <td>1094.22</td>\n",
       "      <td>1.174</td>\n",
       "      <td>12.98</td>\n",
       "      <td>0.5843</td>\n",
       "      <td>0.4520</td>\n",
       "      <td>(0, 0)</td>\n",
       "      <td>0</td>\n",
       "      <td>0</td>\n",
       "      <td>0</td>\n",
       "    </tr>\n",
       "    <tr>\n",
       "      <th>1</th>\n",
       "      <td>1</td>\n",
       "      <td>2</td>\n",
       "      <td>2</td>\n",
       "      <td>1</td>\n",
       "      <td>2</td>\n",
       "      <td>24.2080</td>\n",
       "      <td>2.1408</td>\n",
       "      <td>22.0670</td>\n",
       "      <td>0.0</td>\n",
       "      <td>0.0</td>\n",
       "      <td>0.0</td>\n",
       "      <td>1089.21</td>\n",
       "      <td>1.152</td>\n",
       "      <td>12.68</td>\n",
       "      <td>0.8878</td>\n",
       "      <td>0.8038</td>\n",
       "      <td>(0, 0)</td>\n",
       "      <td>0</td>\n",
       "      <td>1</td>\n",
       "      <td>1</td>\n",
       "    </tr>\n",
       "    <tr>\n",
       "      <th>2</th>\n",
       "      <td>1</td>\n",
       "      <td>3</td>\n",
       "      <td>3</td>\n",
       "      <td>1</td>\n",
       "      <td>3</td>\n",
       "      <td>22.0670</td>\n",
       "      <td>2.9909</td>\n",
       "      <td>19.0760</td>\n",
       "      <td>0.0</td>\n",
       "      <td>0.0</td>\n",
       "      <td>0.0</td>\n",
       "      <td>1083.53</td>\n",
       "      <td>1.110</td>\n",
       "      <td>12.13</td>\n",
       "      <td>0.7278</td>\n",
       "      <td>1.3700</td>\n",
       "      <td>(0, 0)</td>\n",
       "      <td>0</td>\n",
       "      <td>2</td>\n",
       "      <td>2</td>\n",
       "    </tr>\n",
       "    <tr>\n",
       "      <th>3</th>\n",
       "      <td>1</td>\n",
       "      <td>3</td>\n",
       "      <td>4</td>\n",
       "      <td>1</td>\n",
       "      <td>4</td>\n",
       "      <td>19.0760</td>\n",
       "      <td>2.5538</td>\n",
       "      <td>16.5220</td>\n",
       "      <td>0.0</td>\n",
       "      <td>0.0</td>\n",
       "      <td>0.0</td>\n",
       "      <td>1078.47</td>\n",
       "      <td>1.064</td>\n",
       "      <td>11.32</td>\n",
       "      <td>0.6285</td>\n",
       "      <td>1.3550</td>\n",
       "      <td>(0, 0)</td>\n",
       "      <td>0</td>\n",
       "      <td>2</td>\n",
       "      <td>3</td>\n",
       "    </tr>\n",
       "    <tr>\n",
       "      <th>4</th>\n",
       "      <td>1</td>\n",
       "      <td>4</td>\n",
       "      <td>5</td>\n",
       "      <td>2</td>\n",
       "      <td>1</td>\n",
       "      <td>6.5222</td>\n",
       "      <td>2.7058</td>\n",
       "      <td>3.8163</td>\n",
       "      <td>0.0</td>\n",
       "      <td>0.0</td>\n",
       "      <td>0.0</td>\n",
       "      <td>1072.40</td>\n",
       "      <td>0.469</td>\n",
       "      <td>12.00</td>\n",
       "      <td>0.7800</td>\n",
       "      <td>1.1560</td>\n",
       "      <td>(0, 0)</td>\n",
       "      <td>0</td>\n",
       "      <td>3</td>\n",
       "      <td>4</td>\n",
       "    </tr>\n",
       "  </tbody>\n",
       "</table>\n",
       "</div>"
      ],
      "text/plain": [
       "   layer  row  column  segment  reach      Qin  Qaquifer     Qout  Qovr  \\\n",
       "0      1    1       1        1      1  25.0000    0.7923  24.2080   0.0   \n",
       "1      1    2       2        1      2  24.2080    2.1408  22.0670   0.0   \n",
       "2      1    3       3        1      3  22.0670    2.9909  19.0760   0.0   \n",
       "3      1    3       4        1      4  19.0760    2.5538  16.5220   0.0   \n",
       "4      1    4       5        2      1   6.5222    2.7058   3.8163   0.0   \n",
       "\n",
       "   Qprecip  Qet    stage  depth  width    Cond   col16 kstpkper  k  i  j  \n",
       "0      0.0  0.0  1094.22  1.174  12.98  0.5843  0.4520   (0, 0)  0  0  0  \n",
       "1      0.0  0.0  1089.21  1.152  12.68  0.8878  0.8038   (0, 0)  0  1  1  \n",
       "2      0.0  0.0  1083.53  1.110  12.13  0.7278  1.3700   (0, 0)  0  2  2  \n",
       "3      0.0  0.0  1078.47  1.064  11.32  0.6285  1.3550   (0, 0)  0  2  3  \n",
       "4      0.0  0.0  1072.40  0.469  12.00  0.7800  1.1560   (0, 0)  0  3  4  "
      ]
     },
     "execution_count": 18,
     "metadata": {},
     "output_type": "execute_result"
    }
   ],
   "source": [
    "sfr_outfile = os.path.join('..', 'data', 'sfr_examples', 'test1ss.flw')\n",
    "sfrout = SfrFile(sfr_outfile)\n",
    "df = sfrout.get_dataframe()\n",
    "df.head()"
   ]
  },
  {
   "cell_type": "markdown",
   "metadata": {},
   "source": [
    "#### Plot streamflow and stream/aquifer interactions for a segment"
   ]
  },
  {
   "cell_type": "code",
   "execution_count": 19,
   "metadata": {},
   "outputs": [
    {
     "name": "stdout",
     "output_type": "stream",
     "text": [
      "9     1\n",
      "10    2\n",
      "11    3\n",
      "12    4\n",
      "13    5\n",
      "14    6\n",
      "Name: reach, dtype: object\n"
     ]
    },
    {
     "data": {
      "image/png": "[encoded data removed]",
      "text/plain": [
       "<Figure size 432x288 with 1 Axes>"
      ]
     },
     "metadata": {},
     "output_type": "display_data"
    }
   ],
   "source": [
    "inds = df.segment == 3\n",
    "print(df.reach[inds].astype(str))\n",
    "#ax = df.ix[inds, ['Qin', 'Qaquifer', 'Qout']].plot(x=df.reach[inds])\n",
    "ax = df.loc[inds, ['reach', 'Qin', 'Qaquifer', 'Qout']].plot(x='reach')\n",
    "ax.set_ylabel('Flow, in cubic feet per second')\n",
    "ax.set_xlabel('SFR reach');"
   ]
  },
  {
   "cell_type": "markdown",
   "metadata": {},
   "source": [
    "### Look at stage, model top, and streambed top"
   ]
  },
  {
   "cell_type": "code",
   "execution_count": 20,
   "metadata": {},
   "outputs": [
    {
     "name": "stderr",
     "output_type": "stream",
     "text": [
      "/anaconda3/lib/python3.6/site-packages/numpy/core/records.py:513: FutureWarning: Numpy has detected that you may be viewing or writing to an array returned by selecting multiple fields in a structured array. \n",
      "\n",
      "This code may break in numpy 1.15 because this will return a view instead of a copy -- see release notes for details.\n",
      "  return obj.view(dtype=(self.dtype.type, obj.dtype))\n"
     ]
    },
    {
     "data": {
      "text/plain": [
       "(1075., 1060.)"
      ]
     },
     "execution_count": 20,
     "metadata": {},
     "output_type": "execute_result"
    }
   ],
   "source": [
    "streambed_top = m.sfr.segment_data[0][m.sfr.segment_data[0].nseg == 3][['elevup', 'elevdn']][0]\n",
    "streambed_top"
   ]
  },
  {
   "cell_type": "code",
   "execution_count": 21,
   "metadata": {},
   "outputs": [
    {
     "data": {
      "text/plain": [
       "<matplotlib.legend.Legend at 0x11c175e48>"
      ]
     },
     "execution_count": 21,
     "metadata": {},
     "output_type": "execute_result"
    },
    {
     "data": {
      "image/png": "[encoded data removed]",
      "text/plain": [
       "<Figure size 432x288 with 1 Axes>"
      ]
     },
     "metadata": {},
     "output_type": "display_data"
    }
   ],
   "source": [
    "df['model_top'] = m.dis.top.array[df.row.values - 1, df.column.values -1]\n",
    "fig, ax = plt.subplots()\n",
    "plt.plot([1, 6], list(streambed_top), label='streambed top')\n",
    "#ax = df.loc[inds, ['stage', 'model_top']].plot(ax=ax, x=df.reach[inds])\n",
    "ax = df.loc[inds, ['reach', 'stage', 'model_top']].plot(ax=ax, x='reach')\n",
    "ax.set_ylabel('Elevation, in feet')\n",
    "plt.legend()"
   ]
  },
  {
   "cell_type": "markdown",
   "metadata": {},
   "source": [
    "### Get SFR leakage results from cell budget file"
   ]
  },
  {
   "cell_type": "code",
   "execution_count": 22,
   "metadata": {},
   "outputs": [
    {
     "name": "stdout",
     "output_type": "stream",
     "text": [
      "(1, 1, b'  STREAM LEAKAGE', 10, 15, 1, 0, 0., 0., -1., b'', b'', b'', b'')\n"
     ]
    }
   ],
   "source": [
    "bpth = os.path.join('data', 'test1ss.cbc')\n",
    "cbbobj = bf.CellBudgetFile(bpth)\n",
    "cbbobj.list_records()"
   ]
  },
  {
   "cell_type": "code",
   "execution_count": 23,
   "metadata": {},
   "outputs": [],
   "source": [
    "sfrleak = cbbobj.get_data(text='  STREAM LEAKAGE')[0]\n",
    "sfrleak[sfrleak == 0] = np.nan # remove zero values"
   ]
  },
  {
   "cell_type": "markdown",
   "metadata": {},
   "source": [
    "### Plot leakage in plan view"
   ]
  },
  {
   "cell_type": "code",
   "execution_count": 24,
   "metadata": {},
   "outputs": [
    {
     "data": {
      "image/png": "[encoded data removed]",
      "text/plain": [
       "<Figure size 432x288 with 2 Axes>"
      ]
     },
     "metadata": {},
     "output_type": "display_data"
    }
   ],
   "source": [
    "im = plt.imshow(sfrleak[0], interpolation='none', cmap='coolwarm', vmin = -3, vmax=3)\n",
    "cb = plt.colorbar(im, label='SFR Leakage, in cubic feet per second');"
   ]
  },
  {
   "cell_type": "markdown",
   "metadata": {},
   "source": [
    "### Plot total streamflow"
   ]
  },
  {
   "cell_type": "code",
   "execution_count": 25,
   "metadata": {},
   "outputs": [
    {
     "data": {
      "image/png": "[encoded data removed]",
      "text/plain": [
       "<Figure size 432x288 with 2 Axes>"
      ]
     },
     "metadata": {},
     "output_type": "display_data"
    }
   ],
   "source": [
    "sfrQ = sfrleak[0].copy()\n",
    "sfrQ[sfrQ == 0] = np.nan\n",
    "sfrQ[df.row.values-1, df.column.values-1] = df[['Qin', 'Qout']].mean(axis=1).values\n",
    "im = plt.imshow(sfrQ, interpolation='none')\n",
    "plt.colorbar(im, label='Streamflow, in cubic feet per second');"
   ]
  },
  {
   "cell_type": "markdown",
   "metadata": {},
   "source": [
    "## Reading transient SFR formatted output\n",
    "the `SfrFile` class handles this the same way\n",
    "\n",
    "files for the transient version of the above example were already copied to the `data` folder in the third cell above\n",
    "first run the transient model to get the output:\n",
    "```\n",
    ">mf2005 test1tr.nam\n",
    "```"
   ]
  },
  {
   "cell_type": "code",
   "execution_count": 26,
   "metadata": {},
   "outputs": [
    {
     "data": {
      "text/plain": [
       "(True, [])"
      ]
     },
     "execution_count": 26,
     "metadata": {},
     "output_type": "execute_result"
    }
   ],
   "source": [
    "flopy.run_model(exe_name, 'test1tr.nam', model_ws=path, silent=True)"
   ]
  },
  {
   "cell_type": "code",
   "execution_count": 27,
   "metadata": {},
   "outputs": [
    {
     "data": {
      "text/html": [
       "<div>\n",
       "<style scoped>\n",
       "    .dataframe tbody tr th:only-of-type {\n",
       "        vertical-align: middle;\n",
       "    }\n",
       "\n",
       "    .dataframe tbody tr th {\n",
       "        vertical-align: top;\n",
       "    }\n",
       "\n",
       "    .dataframe thead th {\n",
       "        text-align: right;\n",
       "    }\n",
       "</style>\n",
       "<table border=\"1\" class=\"dataframe\">\n",
       "  <thead>\n",
       "    <tr style=\"text-align: right;\">\n",
       "      <th></th>\n",
       "      <th>layer</th>\n",
       "      <th>row</th>\n",
       "      <th>column</th>\n",
       "      <th>segment</th>\n",
       "      <th>reach</th>\n",
       "      <th>Qin</th>\n",
       "      <th>Qaquifer</th>\n",
       "      <th>Qout</th>\n",
       "      <th>Qovr</th>\n",
       "      <th>Qprecip</th>\n",
       "      <th>Qet</th>\n",
       "      <th>stage</th>\n",
       "      <th>depth</th>\n",
       "      <th>width</th>\n",
       "      <th>Cond</th>\n",
       "      <th>col16</th>\n",
       "      <th>kstpkper</th>\n",
       "      <th>k</th>\n",
       "      <th>i</th>\n",
       "      <th>j</th>\n",
       "    </tr>\n",
       "  </thead>\n",
       "  <tbody>\n",
       "    <tr>\n",
       "      <th>0</th>\n",
       "      <td>1</td>\n",
       "      <td>1</td>\n",
       "      <td>1</td>\n",
       "      <td>1</td>\n",
       "      <td>1</td>\n",
       "      <td>25.0000</td>\n",
       "      <td>0.77759</td>\n",
       "      <td>24.2220</td>\n",
       "      <td>0.0</td>\n",
       "      <td>0.0</td>\n",
       "      <td>0.0</td>\n",
       "      <td>1094.22</td>\n",
       "      <td>1.1740</td>\n",
       "      <td>12.98</td>\n",
       "      <td>0.5843</td>\n",
       "      <td>0.4436</td>\n",
       "      <td>(0, 0)</td>\n",
       "      <td>0</td>\n",
       "      <td>0</td>\n",
       "      <td>0</td>\n",
       "    </tr>\n",
       "    <tr>\n",
       "      <th>1</th>\n",
       "      <td>1</td>\n",
       "      <td>2</td>\n",
       "      <td>2</td>\n",
       "      <td>1</td>\n",
       "      <td>2</td>\n",
       "      <td>24.2220</td>\n",
       "      <td>2.21540</td>\n",
       "      <td>22.0070</td>\n",
       "      <td>0.0</td>\n",
       "      <td>0.0</td>\n",
       "      <td>0.0</td>\n",
       "      <td>1089.21</td>\n",
       "      <td>1.1510</td>\n",
       "      <td>12.68</td>\n",
       "      <td>0.8875</td>\n",
       "      <td>0.8321</td>\n",
       "      <td>(0, 0)</td>\n",
       "      <td>0</td>\n",
       "      <td>1</td>\n",
       "      <td>1</td>\n",
       "    </tr>\n",
       "    <tr>\n",
       "      <th>2</th>\n",
       "      <td>1</td>\n",
       "      <td>3</td>\n",
       "      <td>3</td>\n",
       "      <td>1</td>\n",
       "      <td>3</td>\n",
       "      <td>22.0070</td>\n",
       "      <td>2.98700</td>\n",
       "      <td>19.0200</td>\n",
       "      <td>0.0</td>\n",
       "      <td>0.0</td>\n",
       "      <td>0.0</td>\n",
       "      <td>1083.53</td>\n",
       "      <td>1.1090</td>\n",
       "      <td>12.12</td>\n",
       "      <td>0.7270</td>\n",
       "      <td>1.3700</td>\n",
       "      <td>(0, 0)</td>\n",
       "      <td>0</td>\n",
       "      <td>2</td>\n",
       "      <td>2</td>\n",
       "    </tr>\n",
       "    <tr>\n",
       "      <th>3</th>\n",
       "      <td>1</td>\n",
       "      <td>3</td>\n",
       "      <td>4</td>\n",
       "      <td>1</td>\n",
       "      <td>4</td>\n",
       "      <td>19.0200</td>\n",
       "      <td>2.54940</td>\n",
       "      <td>16.4710</td>\n",
       "      <td>0.0</td>\n",
       "      <td>0.0</td>\n",
       "      <td>0.0</td>\n",
       "      <td>1078.47</td>\n",
       "      <td>1.0630</td>\n",
       "      <td>11.31</td>\n",
       "      <td>0.6275</td>\n",
       "      <td>1.3540</td>\n",
       "      <td>(0, 0)</td>\n",
       "      <td>0</td>\n",
       "      <td>2</td>\n",
       "      <td>3</td>\n",
       "    </tr>\n",
       "    <tr>\n",
       "      <th>4</th>\n",
       "      <td>1</td>\n",
       "      <td>4</td>\n",
       "      <td>5</td>\n",
       "      <td>2</td>\n",
       "      <td>1</td>\n",
       "      <td>6.4706</td>\n",
       "      <td>2.70370</td>\n",
       "      <td>3.7669</td>\n",
       "      <td>0.0</td>\n",
       "      <td>0.0</td>\n",
       "      <td>0.0</td>\n",
       "      <td>1072.40</td>\n",
       "      <td>0.4663</td>\n",
       "      <td>12.00</td>\n",
       "      <td>0.7800</td>\n",
       "      <td>1.1550</td>\n",
       "      <td>(0, 0)</td>\n",
       "      <td>0</td>\n",
       "      <td>3</td>\n",
       "      <td>4</td>\n",
       "    </tr>\n",
       "  </tbody>\n",
       "</table>\n",
       "</div>"
      ],
      "text/plain": [
       "   layer  row  column  segment  reach      Qin  Qaquifer     Qout  Qovr  \\\n",
       "0      1    1       1        1      1  25.0000   0.77759  24.2220   0.0   \n",
       "1      1    2       2        1      2  24.2220   2.21540  22.0070   0.0   \n",
       "2      1    3       3        1      3  22.0070   2.98700  19.0200   0.0   \n",
       "3      1    3       4        1      4  19.0200   2.54940  16.4710   0.0   \n",
       "4      1    4       5        2      1   6.4706   2.70370   3.7669   0.0   \n",
       "\n",
       "   Qprecip  Qet    stage   depth  width    Cond   col16 kstpkper  k  i  j  \n",
       "0      0.0  0.0  1094.22  1.1740  12.98  0.5843  0.4436   (0, 0)  0  0  0  \n",
       "1      0.0  0.0  1089.21  1.1510  12.68  0.8875  0.8321   (0, 0)  0  1  1  \n",
       "2      0.0  0.0  1083.53  1.1090  12.12  0.7270  1.3700   (0, 0)  0  2  2  \n",
       "3      0.0  0.0  1078.47  1.0630  11.31  0.6275  1.3540   (0, 0)  0  2  3  \n",
       "4      0.0  0.0  1072.40  0.4663  12.00  0.7800  1.1550   (0, 0)  0  3  4  "
      ]
     },
     "execution_count": 27,
     "metadata": {},
     "output_type": "execute_result"
    }
   ],
   "source": [
    "sfrout_tr = SfrFile(os.path.join('data', 'test1tr.flw'))\n",
    "dftr = sfrout_tr.get_dataframe()\n",
    "dftr.head()"
   ]
  },
  {
   "cell_type": "markdown",
   "metadata": {},
   "source": [
    "### plot a hydrograph\n",
    "plot `Qout` (simulated streamflow) and `Qaquifer` (simulated stream leakage) through time"
   ]
  },
  {
   "cell_type": "code",
   "execution_count": 28,
   "metadata": {},
   "outputs": [
    {
     "data": {
      "text/plain": [
       "Text(0,0.5,'Leakage to aquifer, cfs')"
      ]
     },
     "execution_count": 28,
     "metadata": {},
     "output_type": "execute_result"
    },
    {
     "data": {
      "image/png": "[encoded data removed]",
      "text/plain": [
       "<Figure size 432x288 with 2 Axes>"
      ]
     },
     "metadata": {},
     "output_type": "display_data"
    }
   ],
   "source": [
    "fig, axes = plt.subplots(2, 1, sharex=True)\n",
    "dftr8 = dftr.loc[(dftr.segment == 8) & (dftr.reach == 5)]\n",
    "dftr8.Qout.plot(ax=axes[0])\n",
    "axes[0].set_ylabel('Simulated streamflow, cfs')\n",
    "dftr8.Qaquifer.plot(ax=axes[1])\n",
    "axes[1].set_ylabel('Leakage to aquifer, cfs')"
   ]
  },
  {
   "cell_type": "code",
   "execution_count": null,
   "metadata": {},
   "outputs": [],
   "source": []
  }
 ],
 "metadata": {
  "anaconda-cloud": {},
  "kernelspec": {
   "display_name": "Python 3",
   "language": "python",
   "name": "python3"
  },
  "language_info": {
   "codemirror_mode": {
    "name": "ipython",
    "version": 3
   },
   "file_extension": ".py",
   "mimetype": "text/x-python",
   "name": "python",
   "nbconvert_exporter": "python",
   "pygments_lexer": "ipython3",
   "version": "3.6.7"
  }
 },
 "nbformat": 4,
 "nbformat_minor": 1
}
