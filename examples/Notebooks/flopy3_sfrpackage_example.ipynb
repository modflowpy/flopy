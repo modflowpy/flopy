{
 "cells": [
  {
   "cell_type": "markdown",
   "metadata": {},
   "source": [
    "## SFR package example\n",
    "Demonstrates functionality of Flopy SFR module using the example documented by [Prudic and others (2004)](https://doi.org/10.3133/ofr20041042):  \n",
    "\n",
    "#### Problem description:\n",
    "\n",
    "* Grid dimensions: 1 Layer, 15 Rows, 10 Columns  \n",
    "* Stress periods: 1 steady  \n",
    "* Flow package: LPF  \n",
    "* Stress packages: SFR, GHB, EVT, RCH  \n",
    "* Solver: SIP  \n",
    "\n",
    "<img src=\"./img/Prudic2004_fig6.png\" width=\"400\" height=\"500\"/>"
   ]
  },
  {
   "cell_type": "code",
   "execution_count": null,
   "metadata": {
    "execution": {
     "iopub.execute_input": "2023-02-22T02:44:42.119077Z",
     "iopub.status.busy": "2023-02-22T02:44:42.118642Z",
     "iopub.status.idle": "2023-02-22T02:44:42.889463Z",
     "shell.execute_reply": "2023-02-22T02:44:42.888723Z"
    }
   },
   "outputs": [],
   "source": [
    "import sys\n",
    "import os\n",
    "import glob\n",
    "import shutil\n",
    "from tempfile import TemporaryDirectory\n",
    "\n",
    "import numpy as np\n",
    "import matplotlib as mpl\n",
    "import matplotlib.pyplot as plt\n",
    "import pandas as pd\n",
    "\n",
    "# run installed version of flopy or add local path\n",
    "try:\n",
    "    import flopy\n",
    "except:\n",
    "    fpth = os.path.abspath(os.path.join(\"..\", \"..\"))\n",
    "    sys.path.append(fpth)\n",
    "    import flopy\n",
    "\n",
    "import flopy.utils.binaryfile as bf\n",
    "from flopy.utils.sfroutputfile import SfrFile\n",
    "\n",
    "mpl.rcParams[\"figure.figsize\"] = (11, 8.5)\n",
    "\n",
    "print(sys.version)\n",
    "print(\"numpy version: {}\".format(np.__version__))\n",
    "print(\"pandas version: {}\".format(pd.__version__))\n",
    "print(\"matplotlib version: {}\".format(mpl.__version__))\n",
    "print(\"flopy version: {}\".format(flopy.__version__))"
   ]
  },
  {
   "cell_type": "code",
   "execution_count": null,
   "metadata": {
    "execution": {
     "iopub.execute_input": "2023-02-22T02:44:42.943658Z",
     "iopub.status.busy": "2023-02-22T02:44:42.943146Z",
     "iopub.status.idle": "2023-02-22T02:44:42.947124Z",
     "shell.execute_reply": "2023-02-22T02:44:42.946222Z"
    }
   },
   "outputs": [],
   "source": [
    "# Set name of MODFLOW exe\n",
    "#  assumes executable is in users path statement\n",
    "exe_name = \"mf2005\""
   ]
  },
  {
   "cell_type": "markdown",
   "metadata": {},
   "source": [
    "#### copy over the example files to the working directory"
   ]
  },
  {
   "cell_type": "code",
   "execution_count": null,
   "metadata": {
    "execution": {
     "iopub.execute_input": "2023-02-22T02:44:42.951056Z",
     "iopub.status.busy": "2023-02-22T02:44:42.950517Z",
     "iopub.status.idle": "2023-02-22T02:44:42.964956Z",
     "shell.execute_reply": "2023-02-22T02:44:42.963905Z"
    }
   },
   "outputs": [],
   "source": [
    "# temporary directory\n",
    "temp_dir = TemporaryDirectory()\n",
    "path = temp_dir.name\n",
    "\n",
    "gpth = os.path.join(\"..\", \"data\", \"mf2005_test\", \"test1ss.*\")\n",
    "for f in glob.glob(gpth):\n",
    "    shutil.copy(f, path)\n",
    "gpth = os.path.join(\"..\", \"data\", \"mf2005_test\", \"test1tr.*\")\n",
    "for f in glob.glob(gpth):\n",
    "    shutil.copy(f, path)"
   ]
  },
  {
   "cell_type": "markdown",
   "metadata": {},
   "source": [
    "### Load example dataset, skipping the SFR package"
   ]
  },
  {
   "cell_type": "code",
   "execution_count": null,
   "metadata": {
    "execution": {
     "iopub.execute_input": "2023-02-22T02:44:42.969664Z",
     "iopub.status.busy": "2023-02-22T02:44:42.968848Z",
     "iopub.status.idle": "2023-02-22T02:44:42.994777Z",
     "shell.execute_reply": "2023-02-22T02:44:42.993916Z"
    }
   },
   "outputs": [],
   "source": [
    "m = flopy.modflow.Modflow.load(\n",
    "    \"test1ss.nam\",\n",
    "    version=\"mf2005\",\n",
    "    exe_name=exe_name,\n",
    "    model_ws=path,\n",
    "    load_only=[\"ghb\", \"evt\", \"rch\", \"dis\", \"bas6\", \"oc\", \"sip\", \"lpf\"],\n",
    ")"
   ]
  },
  {
   "cell_type": "code",
   "execution_count": null,
   "metadata": {
    "execution": {
     "iopub.execute_input": "2023-02-22T02:44:42.998686Z",
     "iopub.status.busy": "2023-02-22T02:44:42.998298Z",
     "iopub.status.idle": "2023-02-22T02:44:43.008090Z",
     "shell.execute_reply": "2023-02-22T02:44:43.007240Z"
    }
   },
   "outputs": [],
   "source": [
    "oc = m.oc\n",
    "oc.stress_period_data"
   ]
  },
  {
   "cell_type": "markdown",
   "metadata": {},
   "source": [
    "### Read pre-prepared reach and segment data into numpy recarrays using numpy.genfromtxt()\n",
    "Reach data (Item 2 in the SFR input instructions), are input and stored in a numpy record array  \n",
    "https://numpy.org/doc/stable/reference/generated/numpy.recarray.html  \n",
    "This allows for reach data to be indexed by their variable names, as described in the SFR input instructions.\n",
    "\n",
    "For more information on Item 2, see the Online Guide to MODFLOW:  \n",
    "<https://water.usgs.gov/nrp/gwsoftware/modflow2000/MFDOC/sfr.html>"
   ]
  },
  {
   "cell_type": "code",
   "execution_count": null,
   "metadata": {
    "execution": {
     "iopub.execute_input": "2023-02-22T02:44:43.012310Z",
     "iopub.status.busy": "2023-02-22T02:44:43.011647Z",
     "iopub.status.idle": "2023-02-22T02:44:43.022817Z",
     "shell.execute_reply": "2023-02-22T02:44:43.021909Z"
    }
   },
   "outputs": [],
   "source": [
    "rpth = os.path.join(\"..\", \"data\", \"sfr_examples\", \"test1ss_reach_data.csv\")\n",
    "reach_data = np.genfromtxt(rpth, delimiter=\",\", names=True)\n",
    "reach_data"
   ]
  },
  {
   "cell_type": "markdown",
   "metadata": {},
   "source": [
    "### Segment Data structure\n",
    "Segment data are input and stored in a dictionary of record arrays, which "
   ]
  },
  {
   "cell_type": "code",
   "execution_count": null,
   "metadata": {
    "execution": {
     "iopub.execute_input": "2023-02-22T02:44:43.026564Z",
     "iopub.status.busy": "2023-02-22T02:44:43.025973Z",
     "iopub.status.idle": "2023-02-22T02:44:43.034888Z",
     "shell.execute_reply": "2023-02-22T02:44:43.033925Z"
    }
   },
   "outputs": [],
   "source": [
    "spth = os.path.join(\"..\", \"data\", \"sfr_examples\", \"test1ss_segment_data.csv\")\n",
    "ss_segment_data = np.genfromtxt(spth, delimiter=\",\", names=True)\n",
    "segment_data = {0: ss_segment_data}\n",
    "segment_data[0][0:1][\"width1\"]"
   ]
  },
  {
   "cell_type": "markdown",
   "metadata": {},
   "source": [
    "### define dataset 6e (channel flow data) for segment 1\n",
    "dataset 6e is stored in a nested dictionary keyed by stress period and segment,  \n",
    "with a list of the following lists defined for each segment with icalc == 4  \n",
    "FLOWTAB(1) FLOWTAB(2) ... FLOWTAB(NSTRPTS)  \n",
    "DPTHTAB(1) DPTHTAB(2) ... DPTHTAB(NSTRPTS)  \n",
    "WDTHTAB(1) WDTHTAB(2) ... WDTHTAB(NSTRPTS)  "
   ]
  },
  {
   "cell_type": "code",
   "execution_count": null,
   "metadata": {
    "execution": {
     "iopub.execute_input": "2023-02-22T02:44:43.038853Z",
     "iopub.status.busy": "2023-02-22T02:44:43.038345Z",
     "iopub.status.idle": "2023-02-22T02:44:43.044289Z",
     "shell.execute_reply": "2023-02-22T02:44:43.043353Z"
    }
   },
   "outputs": [],
   "source": [
    "channel_flow_data = {\n",
    "    0: {\n",
    "        1: [\n",
    "            [0.5, 1.0, 2.0, 4.0, 7.0, 10.0, 20.0, 30.0, 50.0, 75.0, 100.0],\n",
    "            [0.25, 0.4, 0.55, 0.7, 0.8, 0.9, 1.1, 1.25, 1.4, 1.7, 2.6],\n",
    "            [3.0, 3.5, 4.2, 5.3, 7.0, 8.5, 12.0, 14.0, 17.0, 20.0, 22.0],\n",
    "        ]\n",
    "    }\n",
    "}"
   ]
  },
  {
   "cell_type": "markdown",
   "metadata": {},
   "source": [
    "### define dataset 6d (channel geometry data) for segments 7 and 8\n",
    "dataset 6d is stored in a nested dictionary keyed by stress period and segment,  \n",
    "with a list of the following lists defined for each segment with icalc == 4  \n",
    "FLOWTAB(1) FLOWTAB(2) ... FLOWTAB(NSTRPTS)  \n",
    "DPTHTAB(1) DPTHTAB(2) ... DPTHTAB(NSTRPTS)  \n",
    "WDTHTAB(1) WDTHTAB(2) ... WDTHTAB(NSTRPTS)  "
   ]
  },
  {
   "cell_type": "code",
   "execution_count": null,
   "metadata": {
    "execution": {
     "iopub.execute_input": "2023-02-22T02:44:43.047968Z",
     "iopub.status.busy": "2023-02-22T02:44:43.047459Z",
     "iopub.status.idle": "2023-02-22T02:44:43.053242Z",
     "shell.execute_reply": "2023-02-22T02:44:43.052379Z"
    }
   },
   "outputs": [],
   "source": [
    "channel_geometry_data = {\n",
    "    0: {\n",
    "        7: [\n",
    "            [0.0, 10.0, 80.0, 100.0, 150.0, 170.0, 240.0, 250.0],\n",
    "            [20.0, 13.0, 10.0, 2.0, 0.0, 10.0, 13.0, 20.0],\n",
    "        ],\n",
    "        8: [\n",
    "            [0.0, 10.0, 80.0, 100.0, 150.0, 170.0, 240.0, 250.0],\n",
    "            [25.0, 17.0, 13.0, 4.0, 0.0, 10.0, 16.0, 20.0],\n",
    "        ],\n",
    "    }\n",
    "}"
   ]
  },
  {
   "cell_type": "markdown",
   "metadata": {},
   "source": [
    "### Define SFR package variables  "
   ]
  },
  {
   "cell_type": "code",
   "execution_count": null,
   "metadata": {
    "execution": {
     "iopub.execute_input": "2023-02-22T02:44:43.057320Z",
     "iopub.status.busy": "2023-02-22T02:44:43.056564Z",
     "iopub.status.idle": "2023-02-22T02:44:43.062646Z",
     "shell.execute_reply": "2023-02-22T02:44:43.061633Z"
    }
   },
   "outputs": [],
   "source": [
    "nstrm = len(reach_data)  # number of reaches\n",
    "nss = len(segment_data[0])  # number of segments\n",
    "nsfrpar = 0  # number of parameters (not supported)\n",
    "nparseg = 0\n",
    "const = 1.486  # constant for manning's equation, units of cfs\n",
    "dleak = 0.0001  # closure tolerance for stream stage computation\n",
    "ipakcb = 53  # flag for writing SFR output to cell-by-cell budget (on unit 53)\n",
    "istcb2 = 81  # flag for writing SFR output to text file\n",
    "dataset_5 = {0: [nss, 0, 0]}  # dataset 5 (see online guide)"
   ]
  },
  {
   "cell_type": "markdown",
   "metadata": {},
   "source": [
    "### Instantiate SFR package  \n",
    "Input arguments generally follow the variable names defined in the Online Guide to MODFLOW"
   ]
  },
  {
   "cell_type": "code",
   "execution_count": null,
   "metadata": {
    "execution": {
     "iopub.execute_input": "2023-02-22T02:44:43.066600Z",
     "iopub.status.busy": "2023-02-22T02:44:43.066024Z",
     "iopub.status.idle": "2023-02-22T02:44:43.074397Z",
     "shell.execute_reply": "2023-02-22T02:44:43.073449Z"
    }
   },
   "outputs": [],
   "source": [
    "sfr = flopy.modflow.ModflowSfr2(\n",
    "    m,\n",
    "    nstrm=nstrm,\n",
    "    nss=nss,\n",
    "    const=const,\n",
    "    dleak=dleak,\n",
    "    ipakcb=ipakcb,\n",
    "    istcb2=istcb2,\n",
    "    reach_data=reach_data,\n",
    "    segment_data=segment_data,\n",
    "    channel_geometry_data=channel_geometry_data,\n",
    "    channel_flow_data=channel_flow_data,\n",
    "    dataset_5=dataset_5,\n",
    "    unit_number=15,\n",
    ")"
   ]
  },
  {
   "cell_type": "code",
   "execution_count": null,
   "metadata": {
    "execution": {
     "iopub.execute_input": "2023-02-22T02:44:43.078515Z",
     "iopub.status.busy": "2023-02-22T02:44:43.077778Z",
     "iopub.status.idle": "2023-02-22T02:44:43.085305Z",
     "shell.execute_reply": "2023-02-22T02:44:43.084406Z"
    }
   },
   "outputs": [],
   "source": [
    "sfr.reach_data[0:1]"
   ]
  },
  {
   "cell_type": "markdown",
   "metadata": {},
   "source": [
    "### Plot the SFR segments\n",
    "any column in the reach_data array can be plotted using the ```key``` argument"
   ]
  },
  {
   "cell_type": "code",
   "execution_count": null,
   "metadata": {
    "execution": {
     "iopub.execute_input": "2023-02-22T02:44:43.088576Z",
     "iopub.status.busy": "2023-02-22T02:44:43.088107Z",
     "iopub.status.idle": "2023-02-22T02:44:43.414833Z",
     "shell.execute_reply": "2023-02-22T02:44:43.414017Z"
    }
   },
   "outputs": [],
   "source": [
    "sfr.plot(key=\"iseg\");"
   ]
  },
  {
   "cell_type": "markdown",
   "metadata": {},
   "source": [
    "### Check the SFR dataset for errors"
   ]
  },
  {
   "cell_type": "code",
   "execution_count": null,
   "metadata": {
    "execution": {
     "iopub.execute_input": "2023-02-22T02:44:43.418413Z",
     "iopub.status.busy": "2023-02-22T02:44:43.418059Z",
     "iopub.status.idle": "2023-02-22T02:44:43.438098Z",
     "shell.execute_reply": "2023-02-22T02:44:43.437511Z"
    }
   },
   "outputs": [],
   "source": [
    "chk = sfr.check()"
   ]
  },
  {
   "cell_type": "code",
   "execution_count": null,
   "metadata": {
    "execution": {
     "iopub.execute_input": "2023-02-22T02:44:43.441637Z",
     "iopub.status.busy": "2023-02-22T02:44:43.441113Z",
     "iopub.status.idle": "2023-02-22T02:44:43.447194Z",
     "shell.execute_reply": "2023-02-22T02:44:43.446392Z"
    }
   },
   "outputs": [],
   "source": [
    "m.external_fnames = [os.path.split(f)[1] for f in m.external_fnames]\n",
    "m.external_fnames"
   ]
  },
  {
   "cell_type": "code",
   "execution_count": null,
   "metadata": {
    "execution": {
     "iopub.execute_input": "2023-02-22T02:44:43.450860Z",
     "iopub.status.busy": "2023-02-22T02:44:43.450497Z",
     "iopub.status.idle": "2023-02-22T02:44:43.460085Z",
     "shell.execute_reply": "2023-02-22T02:44:43.459476Z"
    }
   },
   "outputs": [],
   "source": [
    "m.write_input()"
   ]
  },
  {
   "cell_type": "code",
   "execution_count": null,
   "metadata": {
    "execution": {
     "iopub.execute_input": "2023-02-22T02:44:43.463519Z",
     "iopub.status.busy": "2023-02-22T02:44:43.463145Z",
     "iopub.status.idle": "2023-02-22T02:44:43.489136Z",
     "shell.execute_reply": "2023-02-22T02:44:43.486907Z"
    }
   },
   "outputs": [],
   "source": [
    "success, buff = m.run_model(silent=True, report=True)\n",
    "if success:\n",
    "    for line in buff:\n",
    "        print(line)\n",
    "else:\n",
    "    raise ValueError(\"Failed to run.\")"
   ]
  },
  {
   "cell_type": "markdown",
   "metadata": {},
   "source": [
    "### Load SFR formated water balance output into pandas dataframe using the `SfrFile` class \n",
    "* requires the **pandas** library"
   ]
  },
  {
   "cell_type": "code",
   "execution_count": null,
   "metadata": {
    "execution": {
     "iopub.execute_input": "2023-02-22T02:44:43.493346Z",
     "iopub.status.busy": "2023-02-22T02:44:43.492585Z",
     "iopub.status.idle": "2023-02-22T02:44:43.533318Z",
     "shell.execute_reply": "2023-02-22T02:44:43.532316Z"
    }
   },
   "outputs": [],
   "source": [
    "sfr_outfile = os.path.join(\"..\", \"data\", \"sfr_examples\", \"test1ss.flw\")\n",
    "sfrout = SfrFile(sfr_outfile)\n",
    "df = sfrout.get_dataframe()\n",
    "df.head()"
   ]
  },
  {
   "cell_type": "markdown",
   "metadata": {},
   "source": [
    "#### Plot streamflow and stream/aquifer interactions for a segment"
   ]
  },
  {
   "cell_type": "code",
   "execution_count": null,
   "metadata": {
    "execution": {
     "iopub.execute_input": "2023-02-22T02:44:43.537570Z",
     "iopub.status.busy": "2023-02-22T02:44:43.536839Z",
     "iopub.status.idle": "2023-02-22T02:44:43.759942Z",
     "shell.execute_reply": "2023-02-22T02:44:43.759179Z"
    }
   },
   "outputs": [],
   "source": [
    "inds = df.segment == 3\n",
    "print(df.reach[inds].astype(str))\n",
    "# ax = df.ix[inds, ['Qin', 'Qaquifer', 'Qout']].plot(x=df.reach[inds])\n",
    "ax = df.loc[inds, [\"reach\", \"Qin\", \"Qaquifer\", \"Qout\"]].plot(x=\"reach\")\n",
    "ax.set_ylabel(\"Flow, in cubic feet per second\")\n",
    "ax.set_xlabel(\"SFR reach\");"
   ]
  },
  {
   "cell_type": "markdown",
   "metadata": {},
   "source": [
    "### Look at stage, model top, and streambed top"
   ]
  },
  {
   "cell_type": "code",
   "execution_count": null,
   "metadata": {
    "execution": {
     "iopub.execute_input": "2023-02-22T02:44:43.763171Z",
     "iopub.status.busy": "2023-02-22T02:44:43.762812Z",
     "iopub.status.idle": "2023-02-22T02:44:43.768842Z",
     "shell.execute_reply": "2023-02-22T02:44:43.768084Z"
    }
   },
   "outputs": [],
   "source": [
    "streambed_top = m.sfr.segment_data[0][m.sfr.segment_data[0].nseg == 3][\n",
    "    [\"elevup\", \"elevdn\"]\n",
    "][0]\n",
    "streambed_top"
   ]
  },
  {
   "cell_type": "code",
   "execution_count": null,
   "metadata": {
    "execution": {
     "iopub.execute_input": "2023-02-22T02:44:43.772789Z",
     "iopub.status.busy": "2023-02-22T02:44:43.772190Z",
     "iopub.status.idle": "2023-02-22T02:44:43.995636Z",
     "shell.execute_reply": "2023-02-22T02:44:43.994840Z"
    }
   },
   "outputs": [],
   "source": [
    "df[\"model_top\"] = m.dis.top.array[df.row.values - 1, df.column.values - 1]\n",
    "fig, ax = plt.subplots()\n",
    "plt.plot([1, 6], list(streambed_top), label=\"streambed top\")\n",
    "# ax = df.loc[inds, ['stage', 'model_top']].plot(ax=ax, x=df.reach[inds])\n",
    "ax = df.loc[inds, [\"reach\", \"stage\", \"model_top\"]].plot(ax=ax, x=\"reach\")\n",
    "ax.set_ylabel(\"Elevation, in feet\")\n",
    "plt.legend();"
   ]
  },
  {
   "cell_type": "markdown",
   "metadata": {},
   "source": [
    "### Get SFR leakage results from cell budget file"
   ]
  },
  {
   "cell_type": "code",
   "execution_count": null,
   "metadata": {
    "execution": {
     "iopub.execute_input": "2023-02-22T02:44:44.010966Z",
     "iopub.status.busy": "2023-02-22T02:44:44.010274Z",
     "iopub.status.idle": "2023-02-22T02:44:44.018404Z",
     "shell.execute_reply": "2023-02-22T02:44:44.016873Z"
    }
   },
   "outputs": [],
   "source": [
    "bpth = os.path.join(path, \"test1ss.cbc\")\n",
    "cbbobj = bf.CellBudgetFile(bpth)\n",
    "cbbobj.list_records()"
   ]
  },
  {
   "cell_type": "code",
   "execution_count": null,
   "metadata": {
    "execution": {
     "iopub.execute_input": "2023-02-22T02:44:44.022450Z",
     "iopub.status.busy": "2023-02-22T02:44:44.021906Z",
     "iopub.status.idle": "2023-02-22T02:44:44.026673Z",
     "shell.execute_reply": "2023-02-22T02:44:44.025994Z"
    }
   },
   "outputs": [],
   "source": [
    "sfrleak = cbbobj.get_data(text=\"  STREAM LEAKAGE\")[0]\n",
    "sfrleak[sfrleak == 0] = np.nan  # remove zero values"
   ]
  },
  {
   "cell_type": "markdown",
   "metadata": {},
   "source": [
    "### Plot leakage in plan view"
   ]
  },
  {
   "cell_type": "code",
   "execution_count": null,
   "metadata": {
    "execution": {
     "iopub.execute_input": "2023-02-22T02:44:44.030697Z",
     "iopub.status.busy": "2023-02-22T02:44:44.029895Z",
     "iopub.status.idle": "2023-02-22T02:44:44.297565Z",
     "shell.execute_reply": "2023-02-22T02:44:44.296744Z"
    }
   },
   "outputs": [],
   "source": [
    "im = plt.imshow(\n",
    "    sfrleak[0], interpolation=\"none\", cmap=\"coolwarm\", vmin=-3, vmax=3\n",
    ")\n",
    "cb = plt.colorbar(im, label=\"SFR Leakage, in cubic feet per second\");"
   ]
  },
  {
   "cell_type": "markdown",
   "metadata": {},
   "source": [
    "### Plot total streamflow"
   ]
  },
  {
   "cell_type": "code",
   "execution_count": null,
   "metadata": {
    "execution": {
     "iopub.execute_input": "2023-02-22T02:44:44.301466Z",
     "iopub.status.busy": "2023-02-22T02:44:44.301131Z",
     "iopub.status.idle": "2023-02-22T02:44:44.572435Z",
     "shell.execute_reply": "2023-02-22T02:44:44.571584Z"
    }
   },
   "outputs": [],
   "source": [
    "sfrQ = sfrleak[0].copy()\n",
    "sfrQ[sfrQ == 0] = np.nan\n",
    "sfrQ[df.row.values - 1, df.column.values - 1] = (\n",
    "    df[[\"Qin\", \"Qout\"]].mean(axis=1).values\n",
    ")\n",
    "im = plt.imshow(sfrQ, interpolation=\"none\")\n",
    "plt.colorbar(im, label=\"Streamflow, in cubic feet per second\");"
   ]
  },
  {
   "cell_type": "markdown",
   "metadata": {},
   "source": [
    "## Reading transient SFR formatted output\n",
    "the `SfrFile` class handles this the same way\n",
    "\n",
    "files for the transient version of the above example were already copied to the `data` folder in the third cell above\n",
    "first run the transient model to get the output:\n",
    "```\n",
    ">mf2005 test1tr.nam\n",
    "```"
   ]
  },
  {
   "cell_type": "code",
   "execution_count": null,
   "metadata": {
    "execution": {
     "iopub.execute_input": "2023-02-22T02:44:44.576009Z",
     "iopub.status.busy": "2023-02-22T02:44:44.575626Z",
     "iopub.status.idle": "2023-02-22T02:44:44.918889Z",
     "shell.execute_reply": "2023-02-22T02:44:44.918082Z"
    }
   },
   "outputs": [],
   "source": [
    "flopy.run_model(exe_name, \"test1tr.nam\", model_ws=path, silent=True)"
   ]
  },
  {
   "cell_type": "code",
   "execution_count": null,
   "metadata": {
    "execution": {
     "iopub.execute_input": "2023-02-22T02:44:44.922390Z",
     "iopub.status.busy": "2023-02-22T02:44:44.922045Z",
     "iopub.status.idle": "2023-02-22T02:44:44.959188Z",
     "shell.execute_reply": "2023-02-22T02:44:44.958429Z"
    }
   },
   "outputs": [],
   "source": [
    "sfrout_tr = SfrFile(os.path.join(path, \"test1tr.flw\"))\n",
    "dftr = sfrout_tr.get_dataframe()\n",
    "dftr.head()"
   ]
  },
  {
   "cell_type": "markdown",
   "metadata": {},
   "source": [
    "### plot a hydrograph\n",
    "plot `Qout` (simulated streamflow) and `Qaquifer` (simulated stream leakage) through time"
   ]
  },
  {
   "cell_type": "code",
   "execution_count": null,
   "metadata": {
    "execution": {
     "iopub.execute_input": "2023-02-22T02:44:44.962381Z",
     "iopub.status.busy": "2023-02-22T02:44:44.962061Z",
     "iopub.status.idle": "2023-02-22T02:44:45.339595Z",
     "shell.execute_reply": "2023-02-22T02:44:45.338956Z"
    }
   },
   "outputs": [],
   "source": [
    "fig, axes = plt.subplots(2, 1, sharex=True)\n",
    "dftr8 = dftr.loc[(dftr.segment == 8) & (dftr.reach == 5)]\n",
    "dftr8.Qout.plot(ax=axes[0])\n",
    "axes[0].set_ylabel(\"Simulated streamflow, cfs\")\n",
    "dftr8.Qaquifer.plot(ax=axes[1])\n",
    "axes[1].set_ylabel(\"Leakage to aquifer, cfs\");"
   ]
  },
  {
   "cell_type": "code",
   "execution_count": null,
   "metadata": {
    "execution": {
     "iopub.execute_input": "2023-02-22T02:44:45.344335Z",
     "iopub.status.busy": "2023-02-22T02:44:45.344031Z",
     "iopub.status.idle": "2023-02-22T02:44:45.348736Z",
     "shell.execute_reply": "2023-02-22T02:44:45.348070Z"
    }
   },
   "outputs": [],
   "source": [
    "try:\n",
    "    # ignore PermissionError on Windows\n",
    "    temp_dir.cleanup()\n",
    "except:\n",
    "    pass"
   ]
  }
 ],
 "metadata": {
  "anaconda-cloud": {},
  "kernelspec": {
   "display_name": "Python 3 (ipykernel)",
   "language": "python",
   "name": "python3"
  },
  "language_info": {
   "codemirror_mode": {
    "name": "ipython",
    "version": 3
   },
   "file_extension": ".py",
   "mimetype": "text/x-python",
   "name": "python",
   "nbconvert_exporter": "python",
   "pygments_lexer": "ipython3",
   "version": "3.10.6"
  }
 },
 "nbformat": 4,
 "nbformat_minor": 4
}
