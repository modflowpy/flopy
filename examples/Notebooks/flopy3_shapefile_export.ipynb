{
 "cells": [
  {
   "cell_type": "markdown",
   "metadata": {},
   "source": [
    "# FloPy shapefile export demo\n",
    "The goal of this notebook is to demonstrate ways to export model information to shapefiles.\n",
    "This example will cover:\n",
    "* basic exporting of information for a model, individual package, or dataset\n",
    "* custom exporting of combined data from different packages\n",
    "* general exporting and importing of geographic data from other sources"
   ]
  },
  {
   "cell_type": "code",
   "execution_count": 1,
   "metadata": {
    "execution": {
     "iopub.execute_input": "2022-12-15T11:04:26.794208Z",
     "iopub.status.busy": "2022-12-15T11:04:26.793785Z",
     "iopub.status.idle": "2022-12-15T11:04:27.743713Z",
     "shell.execute_reply": "2022-12-15T11:04:27.741489Z"
    }
   },
   "outputs": [
    {
     "name": "stdout",
     "output_type": "stream",
     "text": [
      "3.7.15 (default, Oct 18 2022, 09:36:49) \n",
      "[GCC 11.2.0]\n",
      "numpy version: 1.21.6\n",
      "matplotlib version: 3.5.3\n",
      "flopy version: 3.3.6\n"
     ]
    }
   ],
   "source": [
    "import sys\n",
    "import os\n",
    "from tempfile import TemporaryDirectory\n",
    "\n",
    "import numpy as np\n",
    "import matplotlib as mpl\n",
    "import matplotlib.pyplot as plt\n",
    "import pandas as pd\n",
    "\n",
    "# run installed version of flopy or add local path\n",
    "try:\n",
    "    import flopy\n",
    "except:\n",
    "    fpth = os.path.abspath(os.path.join(\"..\", \"..\"))\n",
    "    sys.path.append(fpth)\n",
    "    import flopy\n",
    "\n",
    "print(sys.version)\n",
    "print(\"numpy version: {}\".format(np.__version__))\n",
    "print(\"matplotlib version: {}\".format(mpl.__version__))\n",
    "print(\"flopy version: {}\".format(flopy.__version__))"
   ]
  },
  {
   "cell_type": "code",
   "execution_count": 2,
   "metadata": {
    "execution": {
     "iopub.execute_input": "2022-12-15T11:04:27.782501Z",
     "iopub.status.busy": "2022-12-15T11:04:27.781929Z",
     "iopub.status.idle": "2022-12-15T11:04:27.795560Z",
     "shell.execute_reply": "2022-12-15T11:04:27.794901Z"
    }
   },
   "outputs": [],
   "source": [
    "# temporary directory\n",
    "temp_dir = TemporaryDirectory()\n",
    "outdir = os.path.join(temp_dir.name, \"shapefile_export\")\n",
    "\n",
    "# load an existing model\n",
    "model_ws = \"../data/freyberg\"\n",
    "m = flopy.modflow.Modflow.load(\n",
    "    \"freyberg.nam\",\n",
    "    model_ws=model_ws,\n",
    "    verbose=False,\n",
    "    check=False,\n",
    "    exe_name=\"mfnwt\",\n",
    ")"
   ]
  },
  {
   "cell_type": "code",
   "execution_count": 3,
   "metadata": {
    "execution": {
     "iopub.execute_input": "2022-12-15T11:04:27.798576Z",
     "iopub.status.busy": "2022-12-15T11:04:27.798048Z",
     "iopub.status.idle": "2022-12-15T11:04:27.804862Z",
     "shell.execute_reply": "2022-12-15T11:04:27.804210Z"
    }
   },
   "outputs": [
    {
     "data": {
      "text/plain": [
       "['DIS', 'BAS6', 'LPF', 'WEL', 'RIV', 'RCH', 'OC', 'PCG']"
      ]
     },
     "execution_count": 3,
     "metadata": {},
     "output_type": "execute_result"
    }
   ],
   "source": [
    "m.get_package_list()"
   ]
  },
  {
   "cell_type": "markdown",
   "metadata": {},
   "source": [
    "### set the model coordinate information\n",
    "the coordinate information where the grid is located in a projected coordinate system (e.g. UTM)"
   ]
  },
  {
   "cell_type": "code",
   "execution_count": 4,
   "metadata": {
    "execution": {
     "iopub.execute_input": "2022-12-15T11:04:27.808751Z",
     "iopub.status.busy": "2022-12-15T11:04:27.808214Z",
     "iopub.status.idle": "2022-12-15T11:04:27.811830Z",
     "shell.execute_reply": "2022-12-15T11:04:27.811178Z"
    }
   },
   "outputs": [],
   "source": [
    "grid = m.modelgrid\n",
    "grid.set_coord_info(xoff=273170, yoff=5088657, epsg=26916)"
   ]
  },
  {
   "cell_type": "code",
   "execution_count": 5,
   "metadata": {
    "execution": {
     "iopub.execute_input": "2022-12-15T11:04:27.814643Z",
     "iopub.status.busy": "2022-12-15T11:04:27.814305Z",
     "iopub.status.idle": "2022-12-15T11:04:27.819310Z",
     "shell.execute_reply": "2022-12-15T11:04:27.818623Z"
    }
   },
   "outputs": [
    {
     "data": {
      "text/plain": [
       "(273170.0, 278170.0, 5088657.0, 5098657.0)"
      ]
     },
     "execution_count": 5,
     "metadata": {},
     "output_type": "execute_result"
    }
   ],
   "source": [
    "grid.extent"
   ]
  },
  {
   "cell_type": "markdown",
   "metadata": {},
   "source": [
    "## Declarative export using attached `.export()` methods\n",
    "#### Export the whole model to a single shapefile"
   ]
  },
  {
   "cell_type": "code",
   "execution_count": 6,
   "metadata": {
    "execution": {
     "iopub.execute_input": "2022-12-15T11:04:27.822219Z",
     "iopub.status.busy": "2022-12-15T11:04:27.821867Z",
     "iopub.status.idle": "2022-12-15T11:04:28.320736Z",
     "shell.execute_reply": "2022-12-15T11:04:28.320059Z"
    },
    "scrolled": true
   },
   "outputs": [
    {
     "name": "stdout",
     "output_type": "stream",
     "text": [
      "wrote /tmp/tmp97dh9rja/shapefile_export/model.shp\n"
     ]
    },
    {
     "data": {
      "text/plain": [
       "'/tmp/tmp97dh9rja/shapefile_export/model.shp'"
      ]
     },
     "execution_count": 6,
     "metadata": {},
     "output_type": "execute_result"
    }
   ],
   "source": [
    "fname = \"{}/model.shp\".format(outdir)\n",
    "m.export(fname)"
   ]
  },
  {
   "cell_type": "code",
   "execution_count": 7,
   "metadata": {
    "execution": {
     "iopub.execute_input": "2022-12-15T11:04:28.324126Z",
     "iopub.status.busy": "2022-12-15T11:04:28.323771Z",
     "iopub.status.idle": "2022-12-15T11:04:28.619343Z",
     "shell.execute_reply": "2022-12-15T11:04:28.618688Z"
    }
   },
   "outputs": [
    {
     "data": {
      "image/png": "[encoded data removed]",
      "text/plain": [
       "<Figure size 640x480 with 1 Axes>"
      ]
     },
     "metadata": {},
     "output_type": "display_data"
    }
   ],
   "source": [
    "ax = plt.subplot(1, 1, 1, aspect=\"equal\")\n",
    "extents = grid.extent\n",
    "pc = flopy.plot.plot_shapefile(fname, ax=ax, edgecolor=\"k\", facecolor=\"none\")\n",
    "ax.set_xlim(extents[0], extents[1])\n",
    "ax.set_ylim(extents[2], extents[3])\n",
    "ax.set_title(fname);"
   ]
  },
  {
   "cell_type": "code",
   "execution_count": 8,
   "metadata": {
    "execution": {
     "iopub.execute_input": "2022-12-15T11:04:28.622844Z",
     "iopub.status.busy": "2022-12-15T11:04:28.622229Z",
     "iopub.status.idle": "2022-12-15T11:04:28.685915Z",
     "shell.execute_reply": "2022-12-15T11:04:28.685363Z"
    }
   },
   "outputs": [
    {
     "name": "stdout",
     "output_type": "stream",
     "text": [
      "wrote /tmp/tmp97dh9rja/shapefile_export/wel.shp\n"
     ]
    }
   ],
   "source": [
    "fname = \"{}/wel.shp\".format(outdir)\n",
    "m.wel.export(fname)"
   ]
  },
  {
   "cell_type": "markdown",
   "metadata": {},
   "source": [
    "### Export a package to a shapefile"
   ]
  },
  {
   "cell_type": "markdown",
   "metadata": {},
   "source": [
    "### Export a FloPy list or array object"
   ]
  },
  {
   "cell_type": "code",
   "execution_count": 9,
   "metadata": {
    "execution": {
     "iopub.execute_input": "2022-12-15T11:04:28.688934Z",
     "iopub.status.busy": "2022-12-15T11:04:28.688399Z",
     "iopub.status.idle": "2022-12-15T11:04:28.692825Z",
     "shell.execute_reply": "2022-12-15T11:04:28.692173Z"
    }
   },
   "outputs": [
    {
     "data": {
      "text/plain": [
       "<flopy.utils.util_array.Util3d at 0x7f7728592e90>"
      ]
     },
     "execution_count": 9,
     "metadata": {},
     "output_type": "execute_result"
    }
   ],
   "source": [
    "m.lpf.hk"
   ]
  },
  {
   "cell_type": "code",
   "execution_count": 10,
   "metadata": {
    "execution": {
     "iopub.execute_input": "2022-12-15T11:04:28.696549Z",
     "iopub.status.busy": "2022-12-15T11:04:28.696028Z",
     "iopub.status.idle": "2022-12-15T11:04:28.754166Z",
     "shell.execute_reply": "2022-12-15T11:04:28.753488Z"
    }
   },
   "outputs": [
    {
     "name": "stdout",
     "output_type": "stream",
     "text": [
      "wrote /tmp/tmp97dh9rja/shapefile_export/hk.shp\n"
     ]
    }
   ],
   "source": [
    "fname = \"{}/hk.shp\".format(outdir)\n",
    "m.lpf.hk.export(\"{}/hk.shp\".format(outdir))"
   ]
  },
  {
   "cell_type": "code",
   "execution_count": 11,
   "metadata": {
    "execution": {
     "iopub.execute_input": "2022-12-15T11:04:28.757100Z",
     "iopub.status.busy": "2022-12-15T11:04:28.756880Z",
     "iopub.status.idle": "2022-12-15T11:04:28.996398Z",
     "shell.execute_reply": "2022-12-15T11:04:28.995751Z"
    }
   },
   "outputs": [
    {
     "data": {
      "image/png": "[encoded data removed]",
      "text/plain": [
       "<Figure size 640x480 with 1 Axes>"
      ]
     },
     "metadata": {},
     "output_type": "display_data"
    }
   ],
   "source": [
    "ax = plt.subplot(1, 1, 1, aspect=\"equal\")\n",
    "extents = grid.extent\n",
    "a = m.lpf.hk.array.ravel()\n",
    "pc = flopy.plot.plot_shapefile(fname, ax=ax, a=a)\n",
    "ax.set_xlim(extents[0], extents[1])\n",
    "ax.set_ylim(extents[2], extents[3])\n",
    "ax.set_title(fname);"
   ]
  },
  {
   "cell_type": "code",
   "execution_count": 12,
   "metadata": {
    "execution": {
     "iopub.execute_input": "2022-12-15T11:04:28.999634Z",
     "iopub.status.busy": "2022-12-15T11:04:28.999401Z",
     "iopub.status.idle": "2022-12-15T11:04:29.004203Z",
     "shell.execute_reply": "2022-12-15T11:04:29.003677Z"
    }
   },
   "outputs": [
    {
     "data": {
      "text/plain": [
       "<flopy.utils.util_list.MfList at 0x7f774c099710>"
      ]
     },
     "execution_count": 12,
     "metadata": {},
     "output_type": "execute_result"
    }
   ],
   "source": [
    "m.riv.stress_period_data"
   ]
  },
  {
   "cell_type": "code",
   "execution_count": 13,
   "metadata": {
    "execution": {
     "iopub.execute_input": "2022-12-15T11:04:29.006862Z",
     "iopub.status.busy": "2022-12-15T11:04:29.006524Z",
     "iopub.status.idle": "2022-12-15T11:04:29.077791Z",
     "shell.execute_reply": "2022-12-15T11:04:29.077248Z"
    }
   },
   "outputs": [
    {
     "name": "stdout",
     "output_type": "stream",
     "text": [
      "wrote /tmp/tmp97dh9rja/shapefile_export/riv_spd.shp\n"
     ]
    }
   ],
   "source": [
    "m.riv.stress_period_data.export(\"{}/riv_spd.shp\".format(outdir))"
   ]
  },
  {
   "cell_type": "markdown",
   "metadata": {},
   "source": [
    "### MfList.export() exports the whole grid by default, regardless of the locations of the boundary cells\n",
    "`sparse=True` only exports the boundary cells in the MfList"
   ]
  },
  {
   "cell_type": "code",
   "execution_count": 14,
   "metadata": {
    "execution": {
     "iopub.execute_input": "2022-12-15T11:04:29.080521Z",
     "iopub.status.busy": "2022-12-15T11:04:29.080308Z",
     "iopub.status.idle": "2022-12-15T11:04:29.123537Z",
     "shell.execute_reply": "2022-12-15T11:04:29.122841Z"
    }
   },
   "outputs": [
    {
     "name": "stdout",
     "output_type": "stream",
     "text": [
      "wrote /tmp/tmp97dh9rja/shapefile_export/riv_spd.shp\n"
     ]
    }
   ],
   "source": [
    "m.riv.stress_period_data.export(\"{}/riv_spd.shp\".format(outdir), sparse=True)"
   ]
  },
  {
   "cell_type": "code",
   "execution_count": 15,
   "metadata": {
    "execution": {
     "iopub.execute_input": "2022-12-15T11:04:29.126606Z",
     "iopub.status.busy": "2022-12-15T11:04:29.126082Z",
     "iopub.status.idle": "2022-12-15T11:04:29.150445Z",
     "shell.execute_reply": "2022-12-15T11:04:29.149727Z"
    }
   },
   "outputs": [
    {
     "name": "stdout",
     "output_type": "stream",
     "text": [
      "wrote /tmp/tmp97dh9rja/shapefile_export/wel_spd.shp\n"
     ]
    }
   ],
   "source": [
    "m.wel.stress_period_data.export(\"{}/wel_spd.shp\".format(outdir), sparse=True)"
   ]
  },
  {
   "cell_type": "markdown",
   "metadata": {},
   "source": [
    "## Ad-hoc exporting using `recarray2shp`\n",
    "* The main idea is to create a recarray with all of the attribute information, and a list of geometry features (one feature per row in the recarray)\n",
    "* each geometry feature is an instance of the `Point`, `LineString` or `Polygon` classes in `flopy.utils.geometry`. The shapefile format requires all the features to be of the same type.\n",
    "* We will use pandas dataframes for these examples because they are easy to work with, and then convert them to recarrays prior to exporting.\n"
   ]
  },
  {
   "cell_type": "code",
   "execution_count": 16,
   "metadata": {
    "execution": {
     "iopub.execute_input": "2022-12-15T11:04:29.153378Z",
     "iopub.status.busy": "2022-12-15T11:04:29.153163Z",
     "iopub.status.idle": "2022-12-15T11:04:29.156191Z",
     "shell.execute_reply": "2022-12-15T11:04:29.155507Z"
    }
   },
   "outputs": [],
   "source": [
    "from flopy.export.shapefile_utils import recarray2shp"
   ]
  },
  {
   "cell_type": "markdown",
   "metadata": {},
   "source": [
    "### combining data from different packages\n",
    "write a shapefile of RIV and WEL package cells"
   ]
  },
  {
   "cell_type": "code",
   "execution_count": 17,
   "metadata": {
    "execution": {
     "iopub.execute_input": "2022-12-15T11:04:29.159062Z",
     "iopub.status.busy": "2022-12-15T11:04:29.158852Z",
     "iopub.status.idle": "2022-12-15T11:04:29.171996Z",
     "shell.execute_reply": "2022-12-15T11:04:29.171348Z"
    }
   },
   "outputs": [
    {
     "data": {
      "text/html": [
       "<div>\n",
       "<style scoped>\n",
       "    .dataframe tbody tr th:only-of-type {\n",
       "        vertical-align: middle;\n",
       "    }\n",
       "\n",
       "    .dataframe tbody tr th {\n",
       "        vertical-align: top;\n",
       "    }\n",
       "\n",
       "    .dataframe thead th {\n",
       "        text-align: right;\n",
       "    }\n",
       "</style>\n",
       "<table border=\"1\" class=\"dataframe\">\n",
       "  <thead>\n",
       "    <tr style=\"text-align: right;\">\n",
       "      <th></th>\n",
       "      <th>k</th>\n",
       "      <th>i</th>\n",
       "      <th>j</th>\n",
       "      <th>flux</th>\n",
       "      <th>iface</th>\n",
       "      <th>stage</th>\n",
       "      <th>cond</th>\n",
       "      <th>rbot</th>\n",
       "    </tr>\n",
       "  </thead>\n",
       "  <tbody>\n",
       "    <tr>\n",
       "      <th>0</th>\n",
       "      <td>0</td>\n",
       "      <td>8</td>\n",
       "      <td>15</td>\n",
       "      <td>-0.00820</td>\n",
       "      <td>0.0</td>\n",
       "      <td>NaN</td>\n",
       "      <td>NaN</td>\n",
       "      <td>NaN</td>\n",
       "    </tr>\n",
       "    <tr>\n",
       "      <th>1</th>\n",
       "      <td>0</td>\n",
       "      <td>10</td>\n",
       "      <td>12</td>\n",
       "      <td>-0.00410</td>\n",
       "      <td>0.0</td>\n",
       "      <td>NaN</td>\n",
       "      <td>NaN</td>\n",
       "      <td>NaN</td>\n",
       "    </tr>\n",
       "    <tr>\n",
       "      <th>2</th>\n",
       "      <td>0</td>\n",
       "      <td>19</td>\n",
       "      <td>13</td>\n",
       "      <td>-0.00390</td>\n",
       "      <td>0.0</td>\n",
       "      <td>NaN</td>\n",
       "      <td>NaN</td>\n",
       "      <td>NaN</td>\n",
       "    </tr>\n",
       "    <tr>\n",
       "      <th>3</th>\n",
       "      <td>0</td>\n",
       "      <td>25</td>\n",
       "      <td>9</td>\n",
       "      <td>-0.00083</td>\n",
       "      <td>0.0</td>\n",
       "      <td>NaN</td>\n",
       "      <td>NaN</td>\n",
       "      <td>NaN</td>\n",
       "    </tr>\n",
       "    <tr>\n",
       "      <th>4</th>\n",
       "      <td>0</td>\n",
       "      <td>28</td>\n",
       "      <td>5</td>\n",
       "      <td>-0.00072</td>\n",
       "      <td>0.0</td>\n",
       "      <td>NaN</td>\n",
       "      <td>NaN</td>\n",
       "      <td>NaN</td>\n",
       "    </tr>\n",
       "  </tbody>\n",
       "</table>\n",
       "</div>"
      ],
      "text/plain": [
       "   k   i   j     flux  iface  stage  cond  rbot\n",
       "0  0   8  15 -0.00820    0.0    NaN   NaN   NaN\n",
       "1  0  10  12 -0.00410    0.0    NaN   NaN   NaN\n",
       "2  0  19  13 -0.00390    0.0    NaN   NaN   NaN\n",
       "3  0  25   9 -0.00083    0.0    NaN   NaN   NaN\n",
       "4  0  28   5 -0.00072    0.0    NaN   NaN   NaN"
      ]
     },
     "execution_count": 17,
     "metadata": {},
     "output_type": "execute_result"
    }
   ],
   "source": [
    "wellspd = pd.DataFrame(m.wel.stress_period_data[0])\n",
    "rivspd = pd.DataFrame(m.riv.stress_period_data[0])\n",
    "spd = wellspd.append(rivspd)\n",
    "spd.head()"
   ]
  },
  {
   "cell_type": "markdown",
   "metadata": {},
   "source": [
    "##### Create a list of Polygon features from the cell vertices stored in the modelgrid object"
   ]
  },
  {
   "cell_type": "code",
   "execution_count": 18,
   "metadata": {
    "execution": {
     "iopub.execute_input": "2022-12-15T11:04:29.174760Z",
     "iopub.status.busy": "2022-12-15T11:04:29.174539Z",
     "iopub.status.idle": "2022-12-15T11:04:29.181620Z",
     "shell.execute_reply": "2022-12-15T11:04:29.180977Z"
    }
   },
   "outputs": [
    {
     "data": {
      "text/plain": [
       "[<flopy.utils.geometry.Polygon at 0x7f7725d09550>,\n",
       " <flopy.utils.geometry.Polygon at 0x7f7725d09590>,\n",
       " <flopy.utils.geometry.Polygon at 0x7f7725d09110>,\n",
       " <flopy.utils.geometry.Polygon at 0x7f7725d16ad0>,\n",
       " <flopy.utils.geometry.Polygon at 0x7f7725d16850>,\n",
       " <flopy.utils.geometry.Polygon at 0x7f7725d16e50>,\n",
       " <flopy.utils.geometry.Polygon at 0x7f7725d16a10>,\n",
       " <flopy.utils.geometry.Polygon at 0x7f7725d16a90>,\n",
       " <flopy.utils.geometry.Polygon at 0x7f7725d16950>,\n",
       " <flopy.utils.geometry.Polygon at 0x7f7725d16c10>,\n",
       " <flopy.utils.geometry.Polygon at 0x7f7725d169d0>,\n",
       " <flopy.utils.geometry.Polygon at 0x7f7725d16650>,\n",
       " <flopy.utils.geometry.Polygon at 0x7f7725d166d0>,\n",
       " <flopy.utils.geometry.Polygon at 0x7f7725d16710>,\n",
       " <flopy.utils.geometry.Polygon at 0x7f7725d16790>,\n",
       " <flopy.utils.geometry.Polygon at 0x7f7725d16350>,\n",
       " <flopy.utils.geometry.Polygon at 0x7f7725d16550>,\n",
       " <flopy.utils.geometry.Polygon at 0x7f7725d167d0>,\n",
       " <flopy.utils.geometry.Polygon at 0x7f7725d16590>,\n",
       " <flopy.utils.geometry.Polygon at 0x7f7725d16050>,\n",
       " <flopy.utils.geometry.Polygon at 0x7f7725d16310>,\n",
       " <flopy.utils.geometry.Polygon at 0x7f7738fe89d0>,\n",
       " <flopy.utils.geometry.Polygon at 0x7f774c0993d0>,\n",
       " <flopy.utils.geometry.Polygon at 0x7f774c766710>,\n",
       " <flopy.utils.geometry.Polygon at 0x7f774cfbd750>,\n",
       " <flopy.utils.geometry.Polygon at 0x7f775cd9b590>,\n",
       " <flopy.utils.geometry.Polygon at 0x7f7725dae790>,\n",
       " <flopy.utils.geometry.Polygon at 0x7f7725daec10>,\n",
       " <flopy.utils.geometry.Polygon at 0x7f7725daea10>,\n",
       " <flopy.utils.geometry.Polygon at 0x7f7725dae850>,\n",
       " <flopy.utils.geometry.Polygon at 0x7f7725daec50>,\n",
       " <flopy.utils.geometry.Polygon at 0x7f7725daeb90>,\n",
       " <flopy.utils.geometry.Polygon at 0x7f7725dae110>,\n",
       " <flopy.utils.geometry.Polygon at 0x7f7725dae1d0>,\n",
       " <flopy.utils.geometry.Polygon at 0x7f7725daea90>,\n",
       " <flopy.utils.geometry.Polygon at 0x7f7725daeb50>,\n",
       " <flopy.utils.geometry.Polygon at 0x7f7725deccd0>,\n",
       " <flopy.utils.geometry.Polygon at 0x7f7725deca10>,\n",
       " <flopy.utils.geometry.Polygon at 0x7f774caa3050>,\n",
       " <flopy.utils.geometry.Polygon at 0x7f774cb7b510>,\n",
       " <flopy.utils.geometry.Polygon at 0x7f7725decb50>,\n",
       " <flopy.utils.geometry.Polygon at 0x7f7725df4550>,\n",
       " <flopy.utils.geometry.Polygon at 0x7f7725df4c50>,\n",
       " <flopy.utils.geometry.Polygon at 0x7f7725df4e90>,\n",
       " <flopy.utils.geometry.Polygon at 0x7f7725df4fd0>,\n",
       " <flopy.utils.geometry.Polygon at 0x7f7725df44d0>]"
      ]
     },
     "execution_count": 18,
     "metadata": {},
     "output_type": "execute_result"
    }
   ],
   "source": [
    "from flopy.utils.geometry import Polygon\n",
    "\n",
    "vertices = []\n",
    "for row, col in zip(spd.i, spd.j):\n",
    "    vertices.append(grid.get_cell_vertices(row, col))\n",
    "polygons = [Polygon(vrt) for vrt in vertices]\n",
    "polygons"
   ]
  },
  {
   "cell_type": "markdown",
   "metadata": {},
   "source": [
    "##### write the shapefile"
   ]
  },
  {
   "cell_type": "code",
   "execution_count": 19,
   "metadata": {
    "execution": {
     "iopub.execute_input": "2022-12-15T11:04:29.185304Z",
     "iopub.status.busy": "2022-12-15T11:04:29.184725Z",
     "iopub.status.idle": "2022-12-15T11:04:29.198217Z",
     "shell.execute_reply": "2022-12-15T11:04:29.197490Z"
    }
   },
   "outputs": [
    {
     "name": "stdout",
     "output_type": "stream",
     "text": [
      "wrote /tmp/tmp97dh9rja/shapefile_export/bcs.shp\n"
     ]
    }
   ],
   "source": [
    "fname = \"{}/bcs.shp\".format(outdir)\n",
    "recarray2shp(spd.to_records(), geoms=polygons, shpname=fname, epsg=grid.epsg)"
   ]
  },
  {
   "cell_type": "code",
   "execution_count": 20,
   "metadata": {
    "execution": {
     "iopub.execute_input": "2022-12-15T11:04:29.201035Z",
     "iopub.status.busy": "2022-12-15T11:04:29.200820Z",
     "iopub.status.idle": "2022-12-15T11:04:29.309660Z",
     "shell.execute_reply": "2022-12-15T11:04:29.309077Z"
    }
   },
   "outputs": [
    {
     "data": {
      "image/png": "[encoded data removed]",
      "text/plain": [
       "<Figure size 640x480 with 1 Axes>"
      ]
     },
     "metadata": {},
     "output_type": "display_data"
    }
   ],
   "source": [
    "ax = plt.subplot(1, 1, 1, aspect=\"equal\")\n",
    "extents = grid.extent\n",
    "pc = flopy.plot.plot_shapefile(fname, ax=ax)\n",
    "ax.set_xlim(extents[0], extents[1])\n",
    "ax.set_ylim(extents[2], extents[3])\n",
    "ax.set_title(fname);"
   ]
  },
  {
   "cell_type": "markdown",
   "metadata": {},
   "source": [
    "### exporting other data\n",
    "Suppose we have some well data with actual locations that we want to export to a shapefile"
   ]
  },
  {
   "cell_type": "code",
   "execution_count": 21,
   "metadata": {
    "execution": {
     "iopub.execute_input": "2022-12-15T11:04:29.312944Z",
     "iopub.status.busy": "2022-12-15T11:04:29.312579Z",
     "iopub.status.idle": "2022-12-15T11:04:29.322629Z",
     "shell.execute_reply": "2022-12-15T11:04:29.322079Z"
    }
   },
   "outputs": [
    {
     "data": {
      "text/html": [
       "<div>\n",
       "<style scoped>\n",
       "    .dataframe tbody tr th:only-of-type {\n",
       "        vertical-align: middle;\n",
       "    }\n",
       "\n",
       "    .dataframe tbody tr th {\n",
       "        vertical-align: top;\n",
       "    }\n",
       "\n",
       "    .dataframe thead th {\n",
       "        text-align: right;\n",
       "    }\n",
       "</style>\n",
       "<table border=\"1\" class=\"dataframe\">\n",
       "  <thead>\n",
       "    <tr style=\"text-align: right;\">\n",
       "      <th></th>\n",
       "      <th>wellID</th>\n",
       "      <th>q</th>\n",
       "      <th>x_utm</th>\n",
       "      <th>y_utm</th>\n",
       "    </tr>\n",
       "  </thead>\n",
       "  <tbody>\n",
       "    <tr>\n",
       "      <th>0</th>\n",
       "      <td>0</td>\n",
       "      <td>-934.925522</td>\n",
       "      <td>275414.454957</td>\n",
       "      <td>5.096666e+06</td>\n",
       "    </tr>\n",
       "    <tr>\n",
       "      <th>1</th>\n",
       "      <td>1</td>\n",
       "      <td>-1066.748534</td>\n",
       "      <td>275364.291340</td>\n",
       "      <td>5.092291e+06</td>\n",
       "    </tr>\n",
       "    <tr>\n",
       "      <th>2</th>\n",
       "      <td>2</td>\n",
       "      <td>-963.201206</td>\n",
       "      <td>273950.613969</td>\n",
       "      <td>5.089700e+06</td>\n",
       "    </tr>\n",
       "    <tr>\n",
       "      <th>3</th>\n",
       "      <td>3</td>\n",
       "      <td>-1161.231881</td>\n",
       "      <td>274281.913526</td>\n",
       "      <td>5.090510e+06</td>\n",
       "    </tr>\n",
       "    <tr>\n",
       "      <th>4</th>\n",
       "      <td>4</td>\n",
       "      <td>-1078.402975</td>\n",
       "      <td>276206.026395</td>\n",
       "      <td>5.097492e+06</td>\n",
       "    </tr>\n",
       "  </tbody>\n",
       "</table>\n",
       "</div>"
      ],
      "text/plain": [
       "   wellID            q          x_utm         y_utm\n",
       "0       0  -934.925522  275414.454957  5.096666e+06\n",
       "1       1 -1066.748534  275364.291340  5.092291e+06\n",
       "2       2  -963.201206  273950.613969  5.089700e+06\n",
       "3       3 -1161.231881  274281.913526  5.090510e+06\n",
       "4       4 -1078.402975  276206.026395  5.097492e+06"
      ]
     },
     "execution_count": 21,
     "metadata": {},
     "output_type": "execute_result"
    }
   ],
   "source": [
    "welldata = pd.DataFrame(\n",
    "    {\n",
    "        \"wellID\": np.arange(0, 10),\n",
    "        \"q\": np.random.randn(10) * 100 - 1000,\n",
    "        \"x_utm\": np.random.rand(10) * 5000 + grid.xoffset,\n",
    "        \"y_utm\": grid.yoffset + np.random.rand(10) * 10000,\n",
    "    }\n",
    ")\n",
    "welldata.head()"
   ]
  },
  {
   "cell_type": "markdown",
   "metadata": {},
   "source": [
    "##### convert the x, y coorindates to point features and then export"
   ]
  },
  {
   "cell_type": "code",
   "execution_count": 22,
   "metadata": {
    "execution": {
     "iopub.execute_input": "2022-12-15T11:04:29.325690Z",
     "iopub.status.busy": "2022-12-15T11:04:29.325343Z",
     "iopub.status.idle": "2022-12-15T11:04:29.332148Z",
     "shell.execute_reply": "2022-12-15T11:04:29.331609Z"
    }
   },
   "outputs": [
    {
     "name": "stdout",
     "output_type": "stream",
     "text": [
      "wrote /tmp/tmp97dh9rja/shapefile_export/wel_data.shp\n"
     ]
    }
   ],
   "source": [
    "from flopy.utils.geometry import Point\n",
    "\n",
    "geoms = [Point(x, y) for x, y in zip(welldata.x_utm, welldata.y_utm)]\n",
    "\n",
    "fname = \"{}/wel_data.shp\".format(outdir)\n",
    "recarray2shp(welldata.to_records(), geoms=geoms, shpname=fname, epsg=grid.epsg)"
   ]
  },
  {
   "cell_type": "code",
   "execution_count": 23,
   "metadata": {
    "execution": {
     "iopub.execute_input": "2022-12-15T11:04:29.334840Z",
     "iopub.status.busy": "2022-12-15T11:04:29.334495Z",
     "iopub.status.idle": "2022-12-15T11:04:29.437629Z",
     "shell.execute_reply": "2022-12-15T11:04:29.437035Z"
    }
   },
   "outputs": [
    {
     "data": {
      "image/png": "[encoded data removed]",
      "text/plain": [
       "<Figure size 640x480 with 1 Axes>"
      ]
     },
     "metadata": {},
     "output_type": "display_data"
    }
   ],
   "source": [
    "ax = plt.subplot(1, 1, 1, aspect=\"equal\")\n",
    "extents = grid.extent\n",
    "pc = flopy.plot.plot_shapefile(fname, ax=ax, radius=100)\n",
    "ax.set_xlim(extents[0], extents[1])\n",
    "ax.set_ylim(extents[2], extents[3])\n",
    "ax.set_title(fname);"
   ]
  },
  {
   "cell_type": "markdown",
   "metadata": {},
   "source": [
    "### Adding attribute data to an existing shapefile\n",
    "Suppose we have a GIS coverage representing the river in the riv package"
   ]
  },
  {
   "cell_type": "code",
   "execution_count": 24,
   "metadata": {
    "execution": {
     "iopub.execute_input": "2022-12-15T11:04:29.440542Z",
     "iopub.status.busy": "2022-12-15T11:04:29.440312Z",
     "iopub.status.idle": "2022-12-15T11:04:29.455624Z",
     "shell.execute_reply": "2022-12-15T11:04:29.455069Z"
    }
   },
   "outputs": [
    {
     "name": "stdout",
     "output_type": "stream",
     "text": [
      "wrote /tmp/tmp97dh9rja/shapefile_export/riv_reaches.shp\n"
     ]
    }
   ],
   "source": [
    "from flopy.utils.geometry import LineString\n",
    "\n",
    "### make up a linestring shapefile of the river reaches\n",
    "i, j = m.riv.stress_period_data[0].i, m.riv.stress_period_data[0].j\n",
    "x0 = grid.xyzcellcenters[0][i[0], j[0]]\n",
    "x1 = grid.xyzcellcenters[0][i[-1], j[-1]]\n",
    "y0 = grid.xyzcellcenters[1][i[0], j[0]]\n",
    "y1 = grid.xyzcellcenters[1][i[-1], j[-1]]\n",
    "x = np.linspace(x0, x1, m.nrow + 1)\n",
    "y = np.linspace(y0, y1, m.nrow + 1)\n",
    "l0 = zip(list(zip(x[:-1], y[:-1])), list(zip(x[1:], y[1:])))\n",
    "lines = [LineString(l) for l in l0]\n",
    "\n",
    "rivdata = pd.DataFrame(m.riv.stress_period_data[0])\n",
    "rivdata[\"reach\"] = np.arange(len(lines))\n",
    "lines_shapefile = \"{}/riv_reaches.shp\".format(outdir)\n",
    "recarray2shp(\n",
    "    rivdata.to_records(index=False),\n",
    "    geoms=lines,\n",
    "    shpname=lines_shapefile,\n",
    "    epsg=grid.epsg,\n",
    ")"
   ]
  },
  {
   "cell_type": "code",
   "execution_count": 25,
   "metadata": {
    "execution": {
     "iopub.execute_input": "2022-12-15T11:04:29.458491Z",
     "iopub.status.busy": "2022-12-15T11:04:29.458120Z",
     "iopub.status.idle": "2022-12-15T11:04:29.564040Z",
     "shell.execute_reply": "2022-12-15T11:04:29.563445Z"
    }
   },
   "outputs": [
    {
     "data": {
      "image/png": "[encoded data removed]",
      "text/plain": [
       "<Figure size 640x480 with 1 Axes>"
      ]
     },
     "metadata": {},
     "output_type": "display_data"
    }
   ],
   "source": [
    "ax = plt.subplot(1, 1, 1, aspect=\"equal\")\n",
    "extents = grid.extent\n",
    "pc = flopy.plot.plot_shapefile(lines_shapefile, ax=ax, radius=25)\n",
    "ax.set_xlim(extents[0], extents[1])\n",
    "ax.set_ylim(extents[2], extents[3])\n",
    "ax.set_title(lines_shapefile);"
   ]
  },
  {
   "cell_type": "markdown",
   "metadata": {},
   "source": [
    "#### read in the GIS coverage using `shp2recarray`\n",
    "`shp2recarray` reads a shapefile into a numpy record array, which can easily be converted to a DataFrame"
   ]
  },
  {
   "cell_type": "code",
   "execution_count": 26,
   "metadata": {
    "execution": {
     "iopub.execute_input": "2022-12-15T11:04:29.567361Z",
     "iopub.status.busy": "2022-12-15T11:04:29.566961Z",
     "iopub.status.idle": "2022-12-15T11:04:29.570064Z",
     "shell.execute_reply": "2022-12-15T11:04:29.569508Z"
    }
   },
   "outputs": [],
   "source": [
    "from flopy.export.shapefile_utils import shp2recarray"
   ]
  },
  {
   "cell_type": "code",
   "execution_count": 27,
   "metadata": {
    "execution": {
     "iopub.execute_input": "2022-12-15T11:04:29.572819Z",
     "iopub.status.busy": "2022-12-15T11:04:29.572409Z",
     "iopub.status.idle": "2022-12-15T11:04:29.587904Z",
     "shell.execute_reply": "2022-12-15T11:04:29.587356Z"
    }
   },
   "outputs": [
    {
     "data": {
      "text/html": [
       "<div>\n",
       "<style scoped>\n",
       "    .dataframe tbody tr th:only-of-type {\n",
       "        vertical-align: middle;\n",
       "    }\n",
       "\n",
       "    .dataframe tbody tr th {\n",
       "        vertical-align: top;\n",
       "    }\n",
       "\n",
       "    .dataframe thead th {\n",
       "        text-align: right;\n",
       "    }\n",
       "</style>\n",
       "<table border=\"1\" class=\"dataframe\">\n",
       "  <thead>\n",
       "    <tr style=\"text-align: right;\">\n",
       "      <th></th>\n",
       "      <th>k</th>\n",
       "      <th>i</th>\n",
       "      <th>j</th>\n",
       "      <th>stage</th>\n",
       "      <th>cond</th>\n",
       "      <th>rbot</th>\n",
       "      <th>iface</th>\n",
       "      <th>reach</th>\n",
       "      <th>geometry</th>\n",
       "    </tr>\n",
       "  </thead>\n",
       "  <tbody>\n",
       "    <tr>\n",
       "      <th>0</th>\n",
       "      <td>0</td>\n",
       "      <td>0</td>\n",
       "      <td>14</td>\n",
       "      <td>20.100000</td>\n",
       "      <td>0.05</td>\n",
       "      <td>20.00</td>\n",
       "      <td>0.0</td>\n",
       "      <td>0</td>\n",
       "      <td>&lt;flopy.utils.geometry.LineString object at 0x7...</td>\n",
       "    </tr>\n",
       "    <tr>\n",
       "      <th>1</th>\n",
       "      <td>0</td>\n",
       "      <td>1</td>\n",
       "      <td>14</td>\n",
       "      <td>19.870001</td>\n",
       "      <td>0.05</td>\n",
       "      <td>19.75</td>\n",
       "      <td>0.0</td>\n",
       "      <td>1</td>\n",
       "      <td>&lt;flopy.utils.geometry.LineString object at 0x7...</td>\n",
       "    </tr>\n",
       "    <tr>\n",
       "      <th>2</th>\n",
       "      <td>0</td>\n",
       "      <td>2</td>\n",
       "      <td>14</td>\n",
       "      <td>19.650000</td>\n",
       "      <td>0.05</td>\n",
       "      <td>19.50</td>\n",
       "      <td>0.0</td>\n",
       "      <td>2</td>\n",
       "      <td>&lt;flopy.utils.geometry.LineString object at 0x7...</td>\n",
       "    </tr>\n",
       "    <tr>\n",
       "      <th>3</th>\n",
       "      <td>0</td>\n",
       "      <td>3</td>\n",
       "      <td>14</td>\n",
       "      <td>19.420000</td>\n",
       "      <td>0.05</td>\n",
       "      <td>19.25</td>\n",
       "      <td>0.0</td>\n",
       "      <td>3</td>\n",
       "      <td>&lt;flopy.utils.geometry.LineString object at 0x7...</td>\n",
       "    </tr>\n",
       "    <tr>\n",
       "      <th>4</th>\n",
       "      <td>0</td>\n",
       "      <td>4</td>\n",
       "      <td>14</td>\n",
       "      <td>19.190001</td>\n",
       "      <td>0.05</td>\n",
       "      <td>19.00</td>\n",
       "      <td>0.0</td>\n",
       "      <td>4</td>\n",
       "      <td>&lt;flopy.utils.geometry.LineString object at 0x7...</td>\n",
       "    </tr>\n",
       "  </tbody>\n",
       "</table>\n",
       "</div>"
      ],
      "text/plain": [
       "   k  i   j      stage  cond   rbot  iface  reach  \\\n",
       "0  0  0  14  20.100000  0.05  20.00    0.0      0   \n",
       "1  0  1  14  19.870001  0.05  19.75    0.0      1   \n",
       "2  0  2  14  19.650000  0.05  19.50    0.0      2   \n",
       "3  0  3  14  19.420000  0.05  19.25    0.0      3   \n",
       "4  0  4  14  19.190001  0.05  19.00    0.0      4   \n",
       "\n",
       "                                            geometry  \n",
       "0  <flopy.utils.geometry.LineString object at 0x7...  \n",
       "1  <flopy.utils.geometry.LineString object at 0x7...  \n",
       "2  <flopy.utils.geometry.LineString object at 0x7...  \n",
       "3  <flopy.utils.geometry.LineString object at 0x7...  \n",
       "4  <flopy.utils.geometry.LineString object at 0x7...  "
      ]
     },
     "execution_count": 27,
     "metadata": {},
     "output_type": "execute_result"
    }
   ],
   "source": [
    "linesdata = shp2recarray(lines_shapefile)\n",
    "linesdata = pd.DataFrame(linesdata)\n",
    "linesdata.head()"
   ]
  },
  {
   "cell_type": "markdown",
   "metadata": {},
   "source": [
    "##### Suppose we have some flow information that we read in from the cell budget file"
   ]
  },
  {
   "cell_type": "code",
   "execution_count": 28,
   "metadata": {
    "execution": {
     "iopub.execute_input": "2022-12-15T11:04:29.590773Z",
     "iopub.status.busy": "2022-12-15T11:04:29.590331Z",
     "iopub.status.idle": "2022-12-15T11:04:29.595605Z",
     "shell.execute_reply": "2022-12-15T11:04:29.595033Z"
    }
   },
   "outputs": [
    {
     "data": {
      "text/plain": [
       "array([-0.30431851,  0.32957608,  0.99516462,  1.95039835,  2.34310466,\n",
       "        0.53989153,  2.51295396,  0.65390089,  0.59811885,  1.39850312,\n",
       "        3.05223383,  0.85811189,  1.89666003,  1.42638131,  2.6948014 ,\n",
       "        1.16241218,  0.79842829,  0.22600557,  0.54196515, -0.28053401,\n",
       "        2.30985829,  0.78152928,  1.09417353,  1.62340832,  2.50691693,\n",
       "        2.03399192,  0.63753929, -0.33399879,  0.03870644,  3.40483912,\n",
       "        0.25409766,  0.76784261, -0.98198071,  1.11431381,  2.84892146,\n",
       "        1.56430762, -0.43306881,  0.89122144,  1.44656093,  1.71173658])"
      ]
     },
     "execution_count": 28,
     "metadata": {},
     "output_type": "execute_result"
    }
   ],
   "source": [
    "# make up some fluxes between the river and aquifer at each reach\n",
    "q = np.random.randn(len(linesdata)) + 1\n",
    "q"
   ]
  },
  {
   "cell_type": "markdown",
   "metadata": {},
   "source": [
    "##### Add reachs fluxes and cumulative flow to lines DataFrame"
   ]
  },
  {
   "cell_type": "code",
   "execution_count": 29,
   "metadata": {
    "execution": {
     "iopub.execute_input": "2022-12-15T11:04:29.598426Z",
     "iopub.status.busy": "2022-12-15T11:04:29.598014Z",
     "iopub.status.idle": "2022-12-15T11:04:29.601809Z",
     "shell.execute_reply": "2022-12-15T11:04:29.601245Z"
    }
   },
   "outputs": [],
   "source": [
    "linesdata[\"qreach\"] = q\n",
    "linesdata[\"qstream\"] = np.cumsum(q)"
   ]
  },
  {
   "cell_type": "code",
   "execution_count": 30,
   "metadata": {
    "execution": {
     "iopub.execute_input": "2022-12-15T11:04:29.604511Z",
     "iopub.status.busy": "2022-12-15T11:04:29.604094Z",
     "iopub.status.idle": "2022-12-15T11:04:29.615591Z",
     "shell.execute_reply": "2022-12-15T11:04:29.615028Z"
    }
   },
   "outputs": [
    {
     "name": "stdout",
     "output_type": "stream",
     "text": [
      "wrote /tmp/tmp97dh9rja/shapefile_export/riv_reaches.shp\n"
     ]
    }
   ],
   "source": [
    "recarray2shp(\n",
    "    linesdata.drop(\"geometry\", axis=1).to_records(),\n",
    "    geoms=linesdata.geometry.values,\n",
    "    shpname=lines_shapefile,\n",
    "    epsg=grid.epsg,\n",
    ")"
   ]
  },
  {
   "cell_type": "code",
   "execution_count": 31,
   "metadata": {
    "execution": {
     "iopub.execute_input": "2022-12-15T11:04:29.618357Z",
     "iopub.status.busy": "2022-12-15T11:04:29.617930Z",
     "iopub.status.idle": "2022-12-15T11:04:29.725567Z",
     "shell.execute_reply": "2022-12-15T11:04:29.724970Z"
    }
   },
   "outputs": [
    {
     "data": {
      "image/png": "[encoded data removed]",
      "text/plain": [
       "<Figure size 640x480 with 1 Axes>"
      ]
     },
     "metadata": {},
     "output_type": "display_data"
    }
   ],
   "source": [
    "ax = plt.subplot(1, 1, 1, aspect=\"equal\")\n",
    "extents = grid.extent\n",
    "pc = flopy.plot.plot_shapefile(lines_shapefile, ax=ax, radius=25)\n",
    "ax.set_xlim(extents[0], extents[1])\n",
    "ax.set_ylim(extents[2], extents[3])\n",
    "ax.set_title(lines_shapefile);"
   ]
  },
  {
   "cell_type": "markdown",
   "metadata": {},
   "source": [
    "## Overriding the model's modelgrid with a user supplied modelgrid\n",
    "\n",
    "In some cases it may be necessary to override the model's modelgrid instance with a seperate modelgrid. An example of this is if the model discretization is in feet and the user would like it projected in meters. Exporting can be accomplished by supplying a modelgrid as a `kwarg` in any of the `export()` methods within flopy. Below is an example:"
   ]
  },
  {
   "cell_type": "code",
   "execution_count": 32,
   "metadata": {
    "execution": {
     "iopub.execute_input": "2022-12-15T11:04:29.728697Z",
     "iopub.status.busy": "2022-12-15T11:04:29.728254Z",
     "iopub.status.idle": "2022-12-15T11:04:29.907982Z",
     "shell.execute_reply": "2022-12-15T11:04:29.907309Z"
    }
   },
   "outputs": [
    {
     "name": "stdout",
     "output_type": "stream",
     "text": [
      "wrote /tmp/tmp97dh9rja/shapefile_export/freyberg.shp\n"
     ]
    },
    {
     "data": {
      "text/plain": [
       "'/tmp/tmp97dh9rja/shapefile_export/freyberg.shp'"
      ]
     },
     "execution_count": 32,
     "metadata": {},
     "output_type": "execute_result"
    }
   ],
   "source": [
    "mg0 = m.modelgrid\n",
    "\n",
    "# build a new modelgrid instance with discretization in meters\n",
    "modelgrid = flopy.discretization.StructuredGrid(\n",
    "    delc=mg0.delc * 0.3048,\n",
    "    delr=mg0.delr * 0.3048,\n",
    "    top=mg0.top,\n",
    "    botm=mg0.botm,\n",
    "    idomain=mg0.idomain,\n",
    "    xoff=mg0.xoffset * 0.3048,\n",
    "    yoff=mg0.yoffset * 0.3048,\n",
    ")\n",
    "\n",
    "# exporting an entire model\n",
    "m.export(\"{}/freyberg.shp\".format(outdir), modelgrid=modelgrid)"
   ]
  },
  {
   "cell_type": "markdown",
   "metadata": {},
   "source": [
    "And for a specific parameter the method is the same"
   ]
  },
  {
   "cell_type": "code",
   "execution_count": 33,
   "metadata": {
    "execution": {
     "iopub.execute_input": "2022-12-15T11:04:29.911675Z",
     "iopub.status.busy": "2022-12-15T11:04:29.911112Z",
     "iopub.status.idle": "2022-12-15T11:04:29.969671Z",
     "shell.execute_reply": "2022-12-15T11:04:29.968981Z"
    }
   },
   "outputs": [
    {
     "name": "stdout",
     "output_type": "stream",
     "text": [
      "wrote /tmp/tmp97dh9rja/shapefile_export/hk.shp\n"
     ]
    }
   ],
   "source": [
    "fname = \"{}/hk.shp\".format(outdir)\n",
    "m.lpf.hk.export(fname, modelgrid=modelgrid)"
   ]
  },
  {
   "cell_type": "code",
   "execution_count": 34,
   "metadata": {
    "execution": {
     "iopub.execute_input": "2022-12-15T11:04:29.973124Z",
     "iopub.status.busy": "2022-12-15T11:04:29.972779Z",
     "iopub.status.idle": "2022-12-15T11:04:30.213455Z",
     "shell.execute_reply": "2022-12-15T11:04:30.212849Z"
    }
   },
   "outputs": [
    {
     "data": {
      "image/png": "[encoded data removed]",
      "text/plain": [
       "<Figure size 640x480 with 1 Axes>"
      ]
     },
     "metadata": {},
     "output_type": "display_data"
    }
   ],
   "source": [
    "ax = plt.subplot(1, 1, 1, aspect=\"equal\")\n",
    "extents = modelgrid.extent\n",
    "a = m.lpf.hk.array.ravel()\n",
    "pc = flopy.plot.plot_shapefile(fname, ax=ax, a=a)\n",
    "ax.set_xlim(extents[0], extents[1])\n",
    "ax.set_ylim(extents[2], extents[3])\n",
    "ax.set_title(fname);"
   ]
  },
  {
   "cell_type": "code",
   "execution_count": 35,
   "metadata": {
    "execution": {
     "iopub.execute_input": "2022-12-15T11:04:30.216613Z",
     "iopub.status.busy": "2022-12-15T11:04:30.216386Z",
     "iopub.status.idle": "2022-12-15T11:04:30.220478Z",
     "shell.execute_reply": "2022-12-15T11:04:30.219875Z"
    }
   },
   "outputs": [],
   "source": [
    "try:\n",
    "    # ignore PermissionError on Windows\n",
    "    temp_dir.cleanup()\n",
    "except:\n",
    "    pass\n"
   ]
  }
 ],
 "metadata": {
  "kernelspec": {
   "display_name": "Python 3",
   "language": "python",
   "name": "python3"
  },
  "language_info": {
   "codemirror_mode": {
    "name": "ipython",
    "version": 3
   },
   "file_extension": ".py",
   "mimetype": "text/x-python",
   "name": "python",
   "nbconvert_exporter": "python",
   "pygments_lexer": "ipython3",
   "version": "3.7.15"
  }
 },
 "nbformat": 4,
 "nbformat_minor": 4
}
