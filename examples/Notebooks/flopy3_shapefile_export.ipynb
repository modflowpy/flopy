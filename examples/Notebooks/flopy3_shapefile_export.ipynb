{
 "cells": [
  {
   "cell_type": "markdown",
   "metadata": {},
   "source": [
    "# FloPy shapefile export demo\n",
    "The goal of this notebook is to demonstrate ways to export model information to shapefiles.\n",
    "This example will cover:\n",
    "* basic exporting of information for a model, individual package, or dataset\n",
    "* custom exporting of combined data from different packages\n",
    "* general exporting and importing of geographic data from other sources"
   ]
  },
  {
   "cell_type": "code",
   "execution_count": 1,
   "metadata": {
    "execution": {
     "iopub.execute_input": "2022-12-15T13:21:02.300701Z",
     "iopub.status.busy": "2022-12-15T13:21:02.300079Z",
     "iopub.status.idle": "2022-12-15T13:21:03.616604Z",
     "shell.execute_reply": "2022-12-15T13:21:03.614922Z"
    }
   },
   "outputs": [
    {
     "name": "stdout",
     "output_type": "stream",
     "text": [
      "3.9.12 (main, Apr  4 2022, 05:22:27) [MSC v.1916 64 bit (AMD64)]\n",
      "numpy version: 1.21.5\n",
      "matplotlib version: 3.4.3\n",
      "flopy version: 3.3.7\n"
     ]
    }
   ],
   "source": [
    "import sys\n",
    "import os\n",
    "from tempfile import TemporaryDirectory\n",
    "\n",
    "import numpy as np\n",
    "import matplotlib as mpl\n",
    "import matplotlib.pyplot as plt\n",
    "import pandas as pd\n",
    "\n",
    "# run installed version of flopy or add local path\n",
    "try:\n",
    "    import flopy\n",
    "except:\n",
    "    fpth = os.path.abspath(os.path.join(\"..\", \"..\"))\n",
    "    sys.path.append(fpth)\n",
    "    import flopy\n",
    "\n",
    "print(sys.version)\n",
    "print(\"numpy version: {}\".format(np.__version__))\n",
    "print(\"matplotlib version: {}\".format(mpl.__version__))\n",
    "print(\"flopy version: {}\".format(flopy.__version__))"
   ]
  },
  {
   "cell_type": "code",
   "execution_count": 2,
   "metadata": {
    "execution": {
     "iopub.execute_input": "2022-12-15T13:21:03.664198Z",
     "iopub.status.busy": "2022-12-15T13:21:03.663351Z",
     "iopub.status.idle": "2022-12-15T13:21:03.682712Z",
     "shell.execute_reply": "2022-12-15T13:21:03.681569Z"
    }
   },
   "outputs": [],
   "source": [
    "# temporary directory\n",
    "temp_dir = TemporaryDirectory()\n",
    "outdir = os.path.join(temp_dir.name, \"shapefile_export\")\n",
    "\n",
    "# load an existing model\n",
    "model_ws = \"../data/freyberg\"\n",
    "m = flopy.modflow.Modflow.load(\n",
    "    \"freyberg.nam\",\n",
    "    model_ws=model_ws,\n",
    "    verbose=False,\n",
    "    check=False,\n",
    "    exe_name=\"mfnwt\",\n",
    ")"
   ]
  },
  {
   "cell_type": "code",
   "execution_count": 3,
   "metadata": {
    "execution": {
     "iopub.execute_input": "2022-12-15T13:21:03.687019Z",
     "iopub.status.busy": "2022-12-15T13:21:03.686718Z",
     "iopub.status.idle": "2022-12-15T13:21:03.695559Z",
     "shell.execute_reply": "2022-12-15T13:21:03.694635Z"
    }
   },
   "outputs": [
    {
     "data": {
      "text/plain": [
       "['DIS', 'BAS6', 'LPF', 'WEL', 'RIV', 'RCH', 'OC', 'PCG']"
      ]
     },
     "execution_count": 3,
     "metadata": {},
     "output_type": "execute_result"
    }
   ],
   "source": [
    "m.get_package_list()"
   ]
  },
  {
   "cell_type": "markdown",
   "metadata": {},
   "source": [
    "### set the model coordinate information\n",
    "the coordinate information where the grid is located in a projected coordinate system (e.g. UTM)"
   ]
  },
  {
   "cell_type": "code",
   "execution_count": 4,
   "metadata": {
    "execution": {
     "iopub.execute_input": "2022-12-15T13:21:03.701075Z",
     "iopub.status.busy": "2022-12-15T13:21:03.700734Z",
     "iopub.status.idle": "2022-12-15T13:21:03.705794Z",
     "shell.execute_reply": "2022-12-15T13:21:03.704820Z"
    }
   },
   "outputs": [],
   "source": [
    "grid = m.modelgrid\n",
    "grid.set_coord_info(xoff=273170, yoff=5088657, epsg=26916)"
   ]
  },
  {
   "cell_type": "code",
   "execution_count": 5,
   "metadata": {
    "execution": {
     "iopub.execute_input": "2022-12-15T13:21:03.710182Z",
     "iopub.status.busy": "2022-12-15T13:21:03.709912Z",
     "iopub.status.idle": "2022-12-15T13:21:03.717085Z",
     "shell.execute_reply": "2022-12-15T13:21:03.715864Z"
    }
   },
   "outputs": [
    {
     "data": {
      "text/plain": [
       "(273170.0, 278170.0, 5088657.0, 5098657.0)"
      ]
     },
     "execution_count": 5,
     "metadata": {},
     "output_type": "execute_result"
    }
   ],
   "source": [
    "grid.extent"
   ]
  },
  {
   "cell_type": "markdown",
   "metadata": {},
   "source": [
    "## Declarative export using attached `.export()` methods\n",
    "#### Export the whole model to a single shapefile"
   ]
  },
  {
   "cell_type": "code",
   "execution_count": 6,
   "metadata": {
    "execution": {
     "iopub.execute_input": "2022-12-15T13:21:03.721498Z",
     "iopub.status.busy": "2022-12-15T13:21:03.721208Z",
     "iopub.status.idle": "2022-12-15T13:21:04.290220Z",
     "shell.execute_reply": "2022-12-15T13:21:04.289142Z"
    },
    "scrolled": true
   },
   "outputs": [
    {
     "name": "stdout",
     "output_type": "stream",
     "text": [
      "wrote ..\\..\\..\\..\\AppData\\Local\\Temp\\7\\tmpans1w964\\shapefile_export\\model.shp\n",
      "(<class 'urllib.error.URLError'>, URLError(SSLCertVerificationError(1, '[SSL: CERTIFICATE_VERIFY_FAILED] certificate verify failed: certificate has expired (_ssl.c:1129)')), <traceback object at 0x000001A3A6BB1600>)\n",
      "(<class 'urllib.error.URLError'>, URLError(SSLCertVerificationError(1, '[SSL: CERTIFICATE_VERIFY_FAILED] certificate verify failed: certificate has expired (_ssl.c:1129)')), <traceback object at 0x000001A3A6BB42C0>)\n",
      "No internet connection or epsg code 26916 not found at:\n",
      "   1: https://spatialreference.org/ref/epsg/26916/esriwkt/\n",
      "   2: https://spatialreference.org/ref/esri/26916/esriwkt/\n",
      "\n",
      "(<class 'urllib.error.URLError'>, URLError(SSLCertVerificationError(1, '[SSL: CERTIFICATE_VERIFY_FAILED] certificate verify failed: certificate has expired (_ssl.c:1129)')), <traceback object at 0x000001A3A6BB4FC0>)\n",
      "(<class 'urllib.error.URLError'>, URLError(SSLCertVerificationError(1, '[SSL: CERTIFICATE_VERIFY_FAILED] certificate verify failed: certificate has expired (_ssl.c:1129)')), <traceback object at 0x000001A3A6BAAC40>)\n",
      "No internet connection or epsg code 26916 not found at:\n",
      "   1: https://spatialreference.org/ref/epsg/26916/esriwkt/\n",
      "   2: https://spatialreference.org/ref/esri/26916/esriwkt/\n",
      "\n"
     ]
    }
   ],
   "source": [
    "fname = \"{}/model.shp\".format(outdir)\n",
    "m.export(fname)"
   ]
  },
  {
   "cell_type": "code",
   "execution_count": 7,
   "metadata": {
    "execution": {
     "iopub.execute_input": "2022-12-15T13:21:04.294919Z",
     "iopub.status.busy": "2022-12-15T13:21:04.294107Z",
     "iopub.status.idle": "2022-12-15T13:21:04.760925Z",
     "shell.execute_reply": "2022-12-15T13:21:04.760000Z"
    }
   },
   "outputs": [
    {
     "data": {
      "image/png": "[encoded data removed]",
      "text/plain": [
       "<Figure size 432x288 with 1 Axes>"
      ]
     },
     "metadata": {
      "needs_background": "light"
     },
     "output_type": "display_data"
    }
   ],
   "source": [
    "ax = plt.subplot(1, 1, 1, aspect=\"equal\")\n",
    "extents = grid.extent\n",
    "pc = flopy.plot.plot_shapefile(fname, ax=ax, edgecolor=\"k\", facecolor=\"none\")\n",
    "ax.set_xlim(extents[0], extents[1])\n",
    "ax.set_ylim(extents[2], extents[3])\n",
    "ax.set_title(fname);"
   ]
  },
  {
   "cell_type": "code",
   "execution_count": 8,
   "metadata": {
    "execution": {
     "iopub.execute_input": "2022-12-15T13:21:04.765455Z",
     "iopub.status.busy": "2022-12-15T13:21:04.764728Z",
     "iopub.status.idle": "2022-12-15T13:21:04.855512Z",
     "shell.execute_reply": "2022-12-15T13:21:04.854357Z"
    }
   },
   "outputs": [
    {
     "name": "stdout",
     "output_type": "stream",
     "text": [
      "wrote ..\\..\\..\\..\\AppData\\Local\\Temp\\7\\tmpans1w964\\shapefile_export\\wel.shp\n",
      "(<class 'urllib.error.URLError'>, URLError(SSLCertVerificationError(1, '[SSL: CERTIFICATE_VERIFY_FAILED] certificate verify failed: certificate has expired (_ssl.c:1129)')), <traceback object at 0x000001A3A75C9040>)\n",
      "(<class 'urllib.error.URLError'>, URLError(SSLCertVerificationError(1, '[SSL: CERTIFICATE_VERIFY_FAILED] certificate verify failed: certificate has expired (_ssl.c:1129)')), <traceback object at 0x000001A3A75C9CC0>)\n",
      "No internet connection or epsg code 26916 not found at:\n",
      "   1: https://spatialreference.org/ref/epsg/26916/esriwkt/\n",
      "   2: https://spatialreference.org/ref/esri/26916/esriwkt/\n",
      "\n",
      "(<class 'urllib.error.URLError'>, URLError(SSLCertVerificationError(1, '[SSL: CERTIFICATE_VERIFY_FAILED] certificate verify failed: certificate has expired (_ssl.c:1129)')), <traceback object at 0x000001A3A75CDD00>)\n",
      "(<class 'urllib.error.URLError'>, URLError(SSLCertVerificationError(1, '[SSL: CERTIFICATE_VERIFY_FAILED] certificate verify failed: certificate has expired (_ssl.c:1129)')), <traceback object at 0x000001A3A75CF4C0>)\n",
      "No internet connection or epsg code 26916 not found at:\n",
      "   1: https://spatialreference.org/ref/epsg/26916/esriwkt/\n",
      "   2: https://spatialreference.org/ref/esri/26916/esriwkt/\n",
      "\n"
     ]
    }
   ],
   "source": [
    "fname = \"{}/wel.shp\".format(outdir)\n",
    "m.wel.export(fname)"
   ]
  },
  {
   "cell_type": "markdown",
   "metadata": {},
   "source": [
    "### Export a package to a shapefile"
   ]
  },
  {
   "cell_type": "markdown",
   "metadata": {},
   "source": [
    "### Export a FloPy list or array object"
   ]
  },
  {
   "cell_type": "code",
   "execution_count": 9,
   "metadata": {
    "execution": {
     "iopub.execute_input": "2022-12-15T13:21:04.860669Z",
     "iopub.status.busy": "2022-12-15T13:21:04.859803Z",
     "iopub.status.idle": "2022-12-15T13:21:04.866637Z",
     "shell.execute_reply": "2022-12-15T13:21:04.865640Z"
    }
   },
   "outputs": [
    {
     "data": {
      "text/plain": [
       "<flopy.utils.util_array.Util3d at 0x1a3a6aaba60>"
      ]
     },
     "execution_count": 9,
     "metadata": {},
     "output_type": "execute_result"
    }
   ],
   "source": [
    "m.lpf.hk"
   ]
  },
  {
   "cell_type": "code",
   "execution_count": 10,
   "metadata": {
    "execution": {
     "iopub.execute_input": "2022-12-15T13:21:04.871501Z",
     "iopub.status.busy": "2022-12-15T13:21:04.870642Z",
     "iopub.status.idle": "2022-12-15T13:21:04.952704Z",
     "shell.execute_reply": "2022-12-15T13:21:04.951632Z"
    }
   },
   "outputs": [
    {
     "name": "stdout",
     "output_type": "stream",
     "text": [
      "wrote ..\\..\\..\\..\\AppData\\Local\\Temp\\7\\tmpans1w964\\shapefile_export\\hk.shp\n",
      "(<class 'urllib.error.URLError'>, URLError(SSLCertVerificationError(1, '[SSL: CERTIFICATE_VERIFY_FAILED] certificate verify failed: certificate has expired (_ssl.c:1129)')), <traceback object at 0x000001A3A75FB280>)\n",
      "(<class 'urllib.error.URLError'>, URLError(SSLCertVerificationError(1, '[SSL: CERTIFICATE_VERIFY_FAILED] certificate verify failed: certificate has expired (_ssl.c:1129)')), <traceback object at 0x000001A3A75FBF40>)\n",
      "No internet connection or epsg code 26916 not found at:\n",
      "   1: https://spatialreference.org/ref/epsg/26916/esriwkt/\n",
      "   2: https://spatialreference.org/ref/esri/26916/esriwkt/\n",
      "\n"
     ]
    }
   ],
   "source": [
    "fname = \"{}/hk.shp\".format(outdir)\n",
    "m.lpf.hk.export(\"{}/hk.shp\".format(outdir))"
   ]
  },
  {
   "cell_type": "code",
   "execution_count": 11,
   "metadata": {
    "execution": {
     "iopub.execute_input": "2022-12-15T13:21:04.957320Z",
     "iopub.status.busy": "2022-12-15T13:21:04.956953Z",
     "iopub.status.idle": "2022-12-15T13:21:05.337904Z",
     "shell.execute_reply": "2022-12-15T13:21:05.336879Z"
    }
   },
   "outputs": [
    {
     "data": {
      "image/png": "[encoded data removed]",
      "text/plain": [
       "<Figure size 432x288 with 1 Axes>"
      ]
     },
     "metadata": {
      "needs_background": "light"
     },
     "output_type": "display_data"
    }
   ],
   "source": [
    "ax = plt.subplot(1, 1, 1, aspect=\"equal\")\n",
    "extents = grid.extent\n",
    "a = m.lpf.hk.array.ravel()\n",
    "pc = flopy.plot.plot_shapefile(fname, ax=ax, a=a)\n",
    "ax.set_xlim(extents[0], extents[1])\n",
    "ax.set_ylim(extents[2], extents[3])\n",
    "ax.set_title(fname);"
   ]
  },
  {
   "cell_type": "code",
   "execution_count": 12,
   "metadata": {
    "execution": {
     "iopub.execute_input": "2022-12-15T13:21:05.342867Z",
     "iopub.status.busy": "2022-12-15T13:21:05.341803Z",
     "iopub.status.idle": "2022-12-15T13:21:05.349069Z",
     "shell.execute_reply": "2022-12-15T13:21:05.348033Z"
    }
   },
   "outputs": [
    {
     "data": {
      "text/plain": [
       "<flopy.utils.util_list.MfList at 0x1a3a6aabf10>"
      ]
     },
     "execution_count": 12,
     "metadata": {},
     "output_type": "execute_result"
    }
   ],
   "source": [
    "m.riv.stress_period_data"
   ]
  },
  {
   "cell_type": "code",
   "execution_count": 13,
   "metadata": {
    "execution": {
     "iopub.execute_input": "2022-12-15T13:21:05.354417Z",
     "iopub.status.busy": "2022-12-15T13:21:05.353822Z",
     "iopub.status.idle": "2022-12-15T13:21:05.455039Z",
     "shell.execute_reply": "2022-12-15T13:21:05.453495Z"
    }
   },
   "outputs": [
    {
     "name": "stdout",
     "output_type": "stream",
     "text": [
      "wrote ..\\..\\..\\..\\AppData\\Local\\Temp\\7\\tmpans1w964\\shapefile_export\\riv_spd.shp\n",
      "(<class 'urllib.error.URLError'>, URLError(SSLCertVerificationError(1, '[SSL: CERTIFICATE_VERIFY_FAILED] certificate verify failed: certificate has expired (_ssl.c:1129)')), <traceback object at 0x000001A3A76F9580>)\n",
      "(<class 'urllib.error.URLError'>, URLError(SSLCertVerificationError(1, '[SSL: CERTIFICATE_VERIFY_FAILED] certificate verify failed: certificate has expired (_ssl.c:1129)')), <traceback object at 0x000001A3A76FD4C0>)\n",
      "No internet connection or epsg code 26916 not found at:\n",
      "   1: https://spatialreference.org/ref/epsg/26916/esriwkt/\n",
      "   2: https://spatialreference.org/ref/esri/26916/esriwkt/\n",
      "\n"
     ]
    }
   ],
   "source": [
    "m.riv.stress_period_data.export(\"{}/riv_spd.shp\".format(outdir))"
   ]
  },
  {
   "cell_type": "markdown",
   "metadata": {},
   "source": [
    "### MfList.export() exports the whole grid by default, regardless of the locations of the boundary cells\n",
    "`sparse=True` only exports the boundary cells in the MfList"
   ]
  },
  {
   "cell_type": "code",
   "execution_count": 14,
   "metadata": {
    "execution": {
     "iopub.execute_input": "2022-12-15T13:21:05.459401Z",
     "iopub.status.busy": "2022-12-15T13:21:05.459062Z",
     "iopub.status.idle": "2022-12-15T13:21:05.526169Z",
     "shell.execute_reply": "2022-12-15T13:21:05.525197Z"
    }
   },
   "outputs": [
    {
     "name": "stdout",
     "output_type": "stream",
     "text": [
      "(<class 'urllib.error.URLError'>, URLError(SSLCertVerificationError(1, '[SSL: CERTIFICATE_VERIFY_FAILED] certificate verify failed: certificate has expired (_ssl.c:1129)')), <traceback object at 0x000001A3A76BCCC0>)\n",
      "(<class 'urllib.error.URLError'>, URLError(SSLCertVerificationError(1, '[SSL: CERTIFICATE_VERIFY_FAILED] certificate verify failed: certificate has expired (_ssl.c:1129)')), <traceback object at 0x000001A3A7578900>)\n",
      "No internet connection or epsg code 26916 not found at:\n",
      "   1: https://spatialreference.org/ref/epsg/26916/esriwkt/\n",
      "   2: https://spatialreference.org/ref/esri/26916/esriwkt/\n",
      "\n",
      "wrote ..\\..\\..\\..\\AppData\\Local\\Temp\\7\\tmpans1w964\\shapefile_export\\riv_spd.shp\n"
     ]
    }
   ],
   "source": [
    "m.riv.stress_period_data.export(\"{}/riv_spd.shp\".format(outdir), sparse=True)"
   ]
  },
  {
   "cell_type": "code",
   "execution_count": 15,
   "metadata": {
    "execution": {
     "iopub.execute_input": "2022-12-15T13:21:05.531108Z",
     "iopub.status.busy": "2022-12-15T13:21:05.530566Z",
     "iopub.status.idle": "2022-12-15T13:21:05.572066Z",
     "shell.execute_reply": "2022-12-15T13:21:05.570977Z"
    }
   },
   "outputs": [
    {
     "name": "stdout",
     "output_type": "stream",
     "text": [
      "(<class 'urllib.error.URLError'>, URLError(SSLCertVerificationError(1, '[SSL: CERTIFICATE_VERIFY_FAILED] certificate verify failed: certificate has expired (_ssl.c:1129)')), <traceback object at 0x000001A3A76EF8C0>)\n",
      "(<class 'urllib.error.URLError'>, URLError(SSLCertVerificationError(1, '[SSL: CERTIFICATE_VERIFY_FAILED] certificate verify failed: certificate has expired (_ssl.c:1129)')), <traceback object at 0x000001A3A76BDCC0>)\n",
      "No internet connection or epsg code 26916 not found at:\n",
      "   1: https://spatialreference.org/ref/epsg/26916/esriwkt/\n",
      "   2: https://spatialreference.org/ref/esri/26916/esriwkt/\n",
      "\n",
      "wrote ..\\..\\..\\..\\AppData\\Local\\Temp\\7\\tmpans1w964\\shapefile_export\\wel_spd.shp\n"
     ]
    }
   ],
   "source": [
    "m.wel.stress_period_data.export(\"{}/wel_spd.shp\".format(outdir), sparse=True)"
   ]
  },
  {
   "cell_type": "markdown",
   "metadata": {},
   "source": [
    "## Ad-hoc exporting using `recarray2shp`\n",
    "* The main idea is to create a recarray with all of the attribute information, and a list of geometry features (one feature per row in the recarray)\n",
    "* each geometry feature is an instance of the `Point`, `LineString` or `Polygon` classes in `flopy.utils.geometry`. The shapefile format requires all the features to be of the same type.\n",
    "* We will use pandas dataframes for these examples because they are easy to work with, and then convert them to recarrays prior to exporting.\n"
   ]
  },
  {
   "cell_type": "code",
   "execution_count": 16,
   "metadata": {
    "execution": {
     "iopub.execute_input": "2022-12-15T13:21:05.576266Z",
     "iopub.status.busy": "2022-12-15T13:21:05.575944Z",
     "iopub.status.idle": "2022-12-15T13:21:05.580559Z",
     "shell.execute_reply": "2022-12-15T13:21:05.579410Z"
    }
   },
   "outputs": [],
   "source": [
    "from flopy.export.shapefile_utils import recarray2shp"
   ]
  },
  {
   "cell_type": "markdown",
   "metadata": {},
   "source": [
    "### combining data from different packages\n",
    "write a shapefile of RIV and WEL package cells"
   ]
  },
  {
   "cell_type": "code",
   "execution_count": 17,
   "metadata": {
    "execution": {
     "iopub.execute_input": "2022-12-15T13:21:05.585172Z",
     "iopub.status.busy": "2022-12-15T13:21:05.584557Z",
     "iopub.status.idle": "2022-12-15T13:21:05.604239Z",
     "shell.execute_reply": "2022-12-15T13:21:05.603079Z"
    }
   },
   "outputs": [
    {
     "data": {
      "text/html": [
       "<div>\n",
       "<style scoped>\n",
       "    .dataframe tbody tr th:only-of-type {\n",
       "        vertical-align: middle;\n",
       "    }\n",
       "\n",
       "    .dataframe tbody tr th {\n",
       "        vertical-align: top;\n",
       "    }\n",
       "\n",
       "    .dataframe thead th {\n",
       "        text-align: right;\n",
       "    }\n",
       "</style>\n",
       "<table border=\"1\" class=\"dataframe\">\n",
       "  <thead>\n",
       "    <tr style=\"text-align: right;\">\n",
       "      <th></th>\n",
       "      <th>k</th>\n",
       "      <th>i</th>\n",
       "      <th>j</th>\n",
       "      <th>flux</th>\n",
       "      <th>iface</th>\n",
       "      <th>stage</th>\n",
       "      <th>cond</th>\n",
       "      <th>rbot</th>\n",
       "    </tr>\n",
       "  </thead>\n",
       "  <tbody>\n",
       "    <tr>\n",
       "      <th>0</th>\n",
       "      <td>0</td>\n",
       "      <td>8</td>\n",
       "      <td>15</td>\n",
       "      <td>-0.00820</td>\n",
       "      <td>0.0</td>\n",
       "      <td>NaN</td>\n",
       "      <td>NaN</td>\n",
       "      <td>NaN</td>\n",
       "    </tr>\n",
       "    <tr>\n",
       "      <th>1</th>\n",
       "      <td>0</td>\n",
       "      <td>10</td>\n",
       "      <td>12</td>\n",
       "      <td>-0.00410</td>\n",
       "      <td>0.0</td>\n",
       "      <td>NaN</td>\n",
       "      <td>NaN</td>\n",
       "      <td>NaN</td>\n",
       "    </tr>\n",
       "    <tr>\n",
       "      <th>2</th>\n",
       "      <td>0</td>\n",
       "      <td>19</td>\n",
       "      <td>13</td>\n",
       "      <td>-0.00390</td>\n",
       "      <td>0.0</td>\n",
       "      <td>NaN</td>\n",
       "      <td>NaN</td>\n",
       "      <td>NaN</td>\n",
       "    </tr>\n",
       "    <tr>\n",
       "      <th>3</th>\n",
       "      <td>0</td>\n",
       "      <td>25</td>\n",
       "      <td>9</td>\n",
       "      <td>-0.00083</td>\n",
       "      <td>0.0</td>\n",
       "      <td>NaN</td>\n",
       "      <td>NaN</td>\n",
       "      <td>NaN</td>\n",
       "    </tr>\n",
       "    <tr>\n",
       "      <th>4</th>\n",
       "      <td>0</td>\n",
       "      <td>28</td>\n",
       "      <td>5</td>\n",
       "      <td>-0.00072</td>\n",
       "      <td>0.0</td>\n",
       "      <td>NaN</td>\n",
       "      <td>NaN</td>\n",
       "      <td>NaN</td>\n",
       "    </tr>\n",
       "  </tbody>\n",
       "</table>\n",
       "</div>"
      ],
      "text/plain": [
       "   k   i   j     flux  iface  stage  cond  rbot\n",
       "0  0   8  15 -0.00820    0.0    NaN   NaN   NaN\n",
       "1  0  10  12 -0.00410    0.0    NaN   NaN   NaN\n",
       "2  0  19  13 -0.00390    0.0    NaN   NaN   NaN\n",
       "3  0  25   9 -0.00083    0.0    NaN   NaN   NaN\n",
       "4  0  28   5 -0.00072    0.0    NaN   NaN   NaN"
      ]
     },
     "execution_count": 17,
     "metadata": {},
     "output_type": "execute_result"
    }
   ],
   "source": [
    "wellspd = pd.DataFrame(m.wel.stress_period_data[0])\n",
    "rivspd = pd.DataFrame(m.riv.stress_period_data[0])\n",
    "spd = pd.concat([wellspd, rivspd])\n",
    "spd.head()"
   ]
  },
  {
   "cell_type": "markdown",
   "metadata": {},
   "source": [
    "##### Create a list of Polygon features from the cell vertices stored in the modelgrid object"
   ]
  },
  {
   "cell_type": "code",
   "execution_count": 18,
   "metadata": {
    "execution": {
     "iopub.execute_input": "2022-12-15T13:21:05.608447Z",
     "iopub.status.busy": "2022-12-15T13:21:05.607998Z",
     "iopub.status.idle": "2022-12-15T13:21:05.618118Z",
     "shell.execute_reply": "2022-12-15T13:21:05.617054Z"
    }
   },
   "outputs": [
    {
     "data": {
      "text/plain": [
       "[<flopy.utils.geometry.Polygon at 0x1a3a7577820>,\n",
       " <flopy.utils.geometry.Polygon at 0x1a3a75692e0>,\n",
       " <flopy.utils.geometry.Polygon at 0x1a3a753e6a0>,\n",
       " <flopy.utils.geometry.Polygon at 0x1a3a753ee50>,\n",
       " <flopy.utils.geometry.Polygon at 0x1a3a753e970>,\n",
       " <flopy.utils.geometry.Polygon at 0x1a3a753e2e0>,\n",
       " <flopy.utils.geometry.Polygon at 0x1a3a753e370>,\n",
       " <flopy.utils.geometry.Polygon at 0x1a3a753eb80>,\n",
       " <flopy.utils.geometry.Polygon at 0x1a3a753e6d0>,\n",
       " <flopy.utils.geometry.Polygon at 0x1a3a753ec70>,\n",
       " <flopy.utils.geometry.Polygon at 0x1a3a75c59a0>,\n",
       " <flopy.utils.geometry.Polygon at 0x1a3a75c5820>,\n",
       " <flopy.utils.geometry.Polygon at 0x1a3a7561760>,\n",
       " <flopy.utils.geometry.Polygon at 0x1a3a7561ca0>,\n",
       " <flopy.utils.geometry.Polygon at 0x1a3a7561fa0>,\n",
       " <flopy.utils.geometry.Polygon at 0x1a3a7561220>,\n",
       " <flopy.utils.geometry.Polygon at 0x1a3a7561520>,\n",
       " <flopy.utils.geometry.Polygon at 0x1a3a75619a0>,\n",
       " <flopy.utils.geometry.Polygon at 0x1a3a7561820>,\n",
       " <flopy.utils.geometry.Polygon at 0x1a3a7561ee0>,\n",
       " <flopy.utils.geometry.Polygon at 0x1a3a7561a60>,\n",
       " <flopy.utils.geometry.Polygon at 0x1a3a75618e0>,\n",
       " <flopy.utils.geometry.Polygon at 0x1a3a75930a0>,\n",
       " <flopy.utils.geometry.Polygon at 0x1a3a7593ee0>,\n",
       " <flopy.utils.geometry.Polygon at 0x1a3a7593ca0>,\n",
       " <flopy.utils.geometry.Polygon at 0x1a3a7593b20>,\n",
       " <flopy.utils.geometry.Polygon at 0x1a3a75aa3a0>,\n",
       " <flopy.utils.geometry.Polygon at 0x1a3a75aa520>,\n",
       " <flopy.utils.geometry.Polygon at 0x1a3a75aa6a0>,\n",
       " <flopy.utils.geometry.Polygon at 0x1a3a75aa820>,\n",
       " <flopy.utils.geometry.Polygon at 0x1a3a75aa9a0>,\n",
       " <flopy.utils.geometry.Polygon at 0x1a3a75aab20>,\n",
       " <flopy.utils.geometry.Polygon at 0x1a3a75aaca0>,\n",
       " <flopy.utils.geometry.Polygon at 0x1a3a75aae20>,\n",
       " <flopy.utils.geometry.Polygon at 0x1a3a75aafa0>,\n",
       " <flopy.utils.geometry.Polygon at 0x1a3a75aa160>,\n",
       " <flopy.utils.geometry.Polygon at 0x1a3a75aa0a0>,\n",
       " <flopy.utils.geometry.Polygon at 0x1a3a75b0460>,\n",
       " <flopy.utils.geometry.Polygon at 0x1a3a75b05e0>,\n",
       " <flopy.utils.geometry.Polygon at 0x1a3a75b0760>,\n",
       " <flopy.utils.geometry.Polygon at 0x1a3a75b08e0>,\n",
       " <flopy.utils.geometry.Polygon at 0x1a3a75b0a60>,\n",
       " <flopy.utils.geometry.Polygon at 0x1a3a75b0be0>,\n",
       " <flopy.utils.geometry.Polygon at 0x1a3a75b0d60>,\n",
       " <flopy.utils.geometry.Polygon at 0x1a3a75b0ee0>,\n",
       " <flopy.utils.geometry.Polygon at 0x1a3a75b00a0>]"
      ]
     },
     "execution_count": 18,
     "metadata": {},
     "output_type": "execute_result"
    }
   ],
   "source": [
    "from flopy.utils.geometry import Polygon\n",
    "\n",
    "vertices = []\n",
    "for row, col in zip(spd.i, spd.j):\n",
    "    vertices.append(grid.get_cell_vertices(row, col))\n",
    "polygons = [Polygon(vrt) for vrt in vertices]\n",
    "polygons"
   ]
  },
  {
   "cell_type": "markdown",
   "metadata": {},
   "source": [
    "##### write the shapefile"
   ]
  },
  {
   "cell_type": "code",
   "execution_count": 19,
   "metadata": {
    "execution": {
     "iopub.execute_input": "2022-12-15T13:21:05.622519Z",
     "iopub.status.busy": "2022-12-15T13:21:05.621808Z",
     "iopub.status.idle": "2022-12-15T13:21:05.640140Z",
     "shell.execute_reply": "2022-12-15T13:21:05.639022Z"
    }
   },
   "outputs": [
    {
     "name": "stdout",
     "output_type": "stream",
     "text": [
      "(<class 'urllib.error.URLError'>, URLError(SSLCertVerificationError(1, '[SSL: CERTIFICATE_VERIFY_FAILED] certificate verify failed: certificate has expired (_ssl.c:1129)')), <traceback object at 0x000001A3A7705F00>)\n",
      "(<class 'urllib.error.URLError'>, URLError(SSLCertVerificationError(1, '[SSL: CERTIFICATE_VERIFY_FAILED] certificate verify failed: certificate has expired (_ssl.c:1129)')), <traceback object at 0x000001A3A7706100>)\n",
      "No internet connection or epsg code 26916 not found at:\n",
      "   1: https://spatialreference.org/ref/epsg/26916/esriwkt/\n",
      "   2: https://spatialreference.org/ref/esri/26916/esriwkt/\n",
      "\n",
      "wrote ..\\..\\..\\..\\AppData\\Local\\Temp\\7\\tmpans1w964\\shapefile_export\\bcs.shp\n"
     ]
    }
   ],
   "source": [
    "fname = \"{}/bcs.shp\".format(outdir)\n",
    "recarray2shp(spd.to_records(), geoms=polygons, shpname=fname, epsg=grid.epsg)"
   ]
  },
  {
   "cell_type": "code",
   "execution_count": 20,
   "metadata": {
    "execution": {
     "iopub.execute_input": "2022-12-15T13:21:05.644832Z",
     "iopub.status.busy": "2022-12-15T13:21:05.644208Z",
     "iopub.status.idle": "2022-12-15T13:21:05.818062Z",
     "shell.execute_reply": "2022-12-15T13:21:05.816865Z"
    }
   },
   "outputs": [
    {
     "data": {
      "image/png": "[encoded data removed]",
      "text/plain": [
       "<Figure size 432x288 with 1 Axes>"
      ]
     },
     "metadata": {
      "needs_background": "light"
     },
     "output_type": "display_data"
    }
   ],
   "source": [
    "ax = plt.subplot(1, 1, 1, aspect=\"equal\")\n",
    "extents = grid.extent\n",
    "pc = flopy.plot.plot_shapefile(fname, ax=ax)\n",
    "ax.set_xlim(extents[0], extents[1])\n",
    "ax.set_ylim(extents[2], extents[3])\n",
    "ax.set_title(fname);"
   ]
  },
  {
   "cell_type": "markdown",
   "metadata": {},
   "source": [
    "### exporting other data\n",
    "Suppose we have some well data with actual locations that we want to export to a shapefile"
   ]
  },
  {
   "cell_type": "code",
   "execution_count": 21,
   "metadata": {
    "execution": {
     "iopub.execute_input": "2022-12-15T13:21:05.822911Z",
     "iopub.status.busy": "2022-12-15T13:21:05.822460Z",
     "iopub.status.idle": "2022-12-15T13:21:05.839859Z",
     "shell.execute_reply": "2022-12-15T13:21:05.838856Z"
    }
   },
   "outputs": [
    {
     "data": {
      "text/html": [
       "<div>\n",
       "<style scoped>\n",
       "    .dataframe tbody tr th:only-of-type {\n",
       "        vertical-align: middle;\n",
       "    }\n",
       "\n",
       "    .dataframe tbody tr th {\n",
       "        vertical-align: top;\n",
       "    }\n",
       "\n",
       "    .dataframe thead th {\n",
       "        text-align: right;\n",
       "    }\n",
       "</style>\n",
       "<table border=\"1\" class=\"dataframe\">\n",
       "  <thead>\n",
       "    <tr style=\"text-align: right;\">\n",
       "      <th></th>\n",
       "      <th>wellID</th>\n",
       "      <th>q</th>\n",
       "      <th>x_utm</th>\n",
       "      <th>y_utm</th>\n",
       "    </tr>\n",
       "  </thead>\n",
       "  <tbody>\n",
       "    <tr>\n",
       "      <th>0</th>\n",
       "      <td>0</td>\n",
       "      <td>-999.733676</td>\n",
       "      <td>276988.146283</td>\n",
       "      <td>5.095459e+06</td>\n",
       "    </tr>\n",
       "    <tr>\n",
       "      <th>1</th>\n",
       "      <td>1</td>\n",
       "      <td>-1023.358866</td>\n",
       "      <td>275337.797873</td>\n",
       "      <td>5.097697e+06</td>\n",
       "    </tr>\n",
       "    <tr>\n",
       "      <th>2</th>\n",
       "      <td>2</td>\n",
       "      <td>-1067.785328</td>\n",
       "      <td>273807.492363</td>\n",
       "      <td>5.090774e+06</td>\n",
       "    </tr>\n",
       "    <tr>\n",
       "      <th>3</th>\n",
       "      <td>3</td>\n",
       "      <td>-1006.783902</td>\n",
       "      <td>277487.137547</td>\n",
       "      <td>5.091920e+06</td>\n",
       "    </tr>\n",
       "    <tr>\n",
       "      <th>4</th>\n",
       "      <td>4</td>\n",
       "      <td>-855.665914</td>\n",
       "      <td>274433.886396</td>\n",
       "      <td>5.094553e+06</td>\n",
       "    </tr>\n",
       "  </tbody>\n",
       "</table>\n",
       "</div>"
      ],
      "text/plain": [
       "   wellID            q          x_utm         y_utm\n",
       "0       0  -999.733676  276988.146283  5.095459e+06\n",
       "1       1 -1023.358866  275337.797873  5.097697e+06\n",
       "2       2 -1067.785328  273807.492363  5.090774e+06\n",
       "3       3 -1006.783902  277487.137547  5.091920e+06\n",
       "4       4  -855.665914  274433.886396  5.094553e+06"
      ]
     },
     "execution_count": 21,
     "metadata": {},
     "output_type": "execute_result"
    }
   ],
   "source": [
    "welldata = pd.DataFrame(\n",
    "    {\n",
    "        \"wellID\": np.arange(0, 10),\n",
    "        \"q\": np.random.randn(10) * 100 - 1000,\n",
    "        \"x_utm\": np.random.rand(10) * 5000 + grid.xoffset,\n",
    "        \"y_utm\": grid.yoffset + np.random.rand(10) * 10000,\n",
    "    }\n",
    ")\n",
    "welldata.head()"
   ]
  },
  {
   "cell_type": "markdown",
   "metadata": {},
   "source": [
    "##### convert the x, y coorindates to point features and then export"
   ]
  },
  {
   "cell_type": "code",
   "execution_count": 22,
   "metadata": {
    "execution": {
     "iopub.execute_input": "2022-12-15T13:21:05.844562Z",
     "iopub.status.busy": "2022-12-15T13:21:05.843933Z",
     "iopub.status.idle": "2022-12-15T13:21:05.854690Z",
     "shell.execute_reply": "2022-12-15T13:21:05.853701Z"
    }
   },
   "outputs": [
    {
     "name": "stdout",
     "output_type": "stream",
     "text": [
      "(<class 'urllib.error.URLError'>, URLError(SSLCertVerificationError(1, '[SSL: CERTIFICATE_VERIFY_FAILED] certificate verify failed: certificate has expired (_ssl.c:1129)')), <traceback object at 0x000001A3A77321C0>)\n",
      "(<class 'urllib.error.URLError'>, URLError(SSLCertVerificationError(1, '[SSL: CERTIFICATE_VERIFY_FAILED] certificate verify failed: certificate has expired (_ssl.c:1129)')), <traceback object at 0x000001A3A773F080>)\n",
      "No internet connection or epsg code 26916 not found at:\n",
      "   1: https://spatialreference.org/ref/epsg/26916/esriwkt/\n",
      "   2: https://spatialreference.org/ref/esri/26916/esriwkt/\n",
      "\n",
      "wrote ..\\..\\..\\..\\AppData\\Local\\Temp\\7\\tmpans1w964\\shapefile_export\\wel_data.shp\n"
     ]
    }
   ],
   "source": [
    "from flopy.utils.geometry import Point\n",
    "\n",
    "geoms = [Point(x, y) for x, y in zip(welldata.x_utm, welldata.y_utm)]\n",
    "\n",
    "fname = \"{}/wel_data.shp\".format(outdir)\n",
    "recarray2shp(welldata.to_records(), geoms=geoms, shpname=fname, epsg=grid.epsg)"
   ]
  },
  {
   "cell_type": "code",
   "execution_count": 23,
   "metadata": {
    "execution": {
     "iopub.execute_input": "2022-12-15T13:21:05.858183Z",
     "iopub.status.busy": "2022-12-15T13:21:05.857914Z",
     "iopub.status.idle": "2022-12-15T13:21:06.028995Z",
     "shell.execute_reply": "2022-12-15T13:21:06.028021Z"
    }
   },
   "outputs": [
    {
     "data": {
      "image/png": "[encoded data removed]",
      "text/plain": [
       "<Figure size 432x288 with 1 Axes>"
      ]
     },
     "metadata": {
      "needs_background": "light"
     },
     "output_type": "display_data"
    }
   ],
   "source": [
    "ax = plt.subplot(1, 1, 1, aspect=\"equal\")\n",
    "extents = grid.extent\n",
    "pc = flopy.plot.plot_shapefile(fname, ax=ax, radius=100)\n",
    "ax.set_xlim(extents[0], extents[1])\n",
    "ax.set_ylim(extents[2], extents[3])\n",
    "ax.set_title(fname);"
   ]
  },
  {
   "cell_type": "markdown",
   "metadata": {},
   "source": [
    "### Adding attribute data to an existing shapefile\n",
    "Suppose we have a GIS coverage representing the river in the riv package"
   ]
  },
  {
   "cell_type": "code",
   "execution_count": 24,
   "metadata": {
    "execution": {
     "iopub.execute_input": "2022-12-15T13:21:06.033328Z",
     "iopub.status.busy": "2022-12-15T13:21:06.033001Z",
     "iopub.status.idle": "2022-12-15T13:21:06.067857Z",
     "shell.execute_reply": "2022-12-15T13:21:06.064814Z"
    }
   },
   "outputs": [
    {
     "name": "stdout",
     "output_type": "stream",
     "text": [
      "(<class 'urllib.error.URLError'>, URLError(SSLCertVerificationError(1, '[SSL: CERTIFICATE_VERIFY_FAILED] certificate verify failed: certificate has expired (_ssl.c:1129)')), <traceback object at 0x000001A3A77C6B80>)\n",
      "(<class 'urllib.error.URLError'>, URLError(SSLCertVerificationError(1, '[SSL: CERTIFICATE_VERIFY_FAILED] certificate verify failed: certificate has expired (_ssl.c:1129)')), <traceback object at 0x000001A3A77C7180>)\n",
      "No internet connection or epsg code 26916 not found at:\n",
      "   1: https://spatialreference.org/ref/epsg/26916/esriwkt/\n",
      "   2: https://spatialreference.org/ref/esri/26916/esriwkt/\n",
      "\n",
      "wrote ..\\..\\..\\..\\AppData\\Local\\Temp\\7\\tmpans1w964\\shapefile_export\\riv_reaches.shp\n"
     ]
    }
   ],
   "source": [
    "from flopy.utils.geometry import LineString\n",
    "\n",
    "### make up a linestring shapefile of the river reaches\n",
    "i, j = m.riv.stress_period_data[0].i, m.riv.stress_period_data[0].j\n",
    "x0 = grid.xyzcellcenters[0][i[0], j[0]]\n",
    "x1 = grid.xyzcellcenters[0][i[-1], j[-1]]\n",
    "y0 = grid.xyzcellcenters[1][i[0], j[0]]\n",
    "y1 = grid.xyzcellcenters[1][i[-1], j[-1]]\n",
    "x = np.linspace(x0, x1, m.nrow + 1)\n",
    "y = np.linspace(y0, y1, m.nrow + 1)\n",
    "l0 = zip(list(zip(x[:-1], y[:-1])), list(zip(x[1:], y[1:])))\n",
    "lines = [LineString(l) for l in l0]\n",
    "\n",
    "rivdata = pd.DataFrame(m.riv.stress_period_data[0])\n",
    "rivdata[\"reach\"] = np.arange(len(lines))\n",
    "lines_shapefile = \"{}/riv_reaches.shp\".format(outdir)\n",
    "recarray2shp(\n",
    "    rivdata.to_records(index=False),\n",
    "    geoms=lines,\n",
    "    shpname=lines_shapefile,\n",
    "    epsg=grid.epsg,\n",
    ")"
   ]
  },
  {
   "cell_type": "code",
   "execution_count": 25,
   "metadata": {
    "execution": {
     "iopub.execute_input": "2022-12-15T13:21:06.072735Z",
     "iopub.status.busy": "2022-12-15T13:21:06.072402Z",
     "iopub.status.idle": "2022-12-15T13:21:06.249089Z",
     "shell.execute_reply": "2022-12-15T13:21:06.248006Z"
    }
   },
   "outputs": [
    {
     "data": {
      "image/png": "[encoded data removed]",
      "text/plain": [
       "<Figure size 432x288 with 1 Axes>"
      ]
     },
     "metadata": {
      "needs_background": "light"
     },
     "output_type": "display_data"
    }
   ],
   "source": [
    "ax = plt.subplot(1, 1, 1, aspect=\"equal\")\n",
    "extents = grid.extent\n",
    "pc = flopy.plot.plot_shapefile(lines_shapefile, ax=ax, radius=25)\n",
    "ax.set_xlim(extents[0], extents[1])\n",
    "ax.set_ylim(extents[2], extents[3])\n",
    "ax.set_title(lines_shapefile);"
   ]
  },
  {
   "cell_type": "markdown",
   "metadata": {},
   "source": [
    "#### read in the GIS coverage using `shp2recarray`\n",
    "`shp2recarray` reads a shapefile into a numpy record array, which can easily be converted to a DataFrame"
   ]
  },
  {
   "cell_type": "code",
   "execution_count": 26,
   "metadata": {
    "execution": {
     "iopub.execute_input": "2022-12-15T13:21:06.253524Z",
     "iopub.status.busy": "2022-12-15T13:21:06.253179Z",
     "iopub.status.idle": "2022-12-15T13:21:06.259714Z",
     "shell.execute_reply": "2022-12-15T13:21:06.258778Z"
    }
   },
   "outputs": [],
   "source": [
    "from flopy.export.shapefile_utils import shp2recarray"
   ]
  },
  {
   "cell_type": "code",
   "execution_count": 27,
   "metadata": {
    "execution": {
     "iopub.execute_input": "2022-12-15T13:21:06.263298Z",
     "iopub.status.busy": "2022-12-15T13:21:06.263030Z",
     "iopub.status.idle": "2022-12-15T13:21:06.284254Z",
     "shell.execute_reply": "2022-12-15T13:21:06.283184Z"
    }
   },
   "outputs": [
    {
     "data": {
      "text/html": [
       "<div>\n",
       "<style scoped>\n",
       "    .dataframe tbody tr th:only-of-type {\n",
       "        vertical-align: middle;\n",
       "    }\n",
       "\n",
       "    .dataframe tbody tr th {\n",
       "        vertical-align: top;\n",
       "    }\n",
       "\n",
       "    .dataframe thead th {\n",
       "        text-align: right;\n",
       "    }\n",
       "</style>\n",
       "<table border=\"1\" class=\"dataframe\">\n",
       "  <thead>\n",
       "    <tr style=\"text-align: right;\">\n",
       "      <th></th>\n",
       "      <th>k</th>\n",
       "      <th>i</th>\n",
       "      <th>j</th>\n",
       "      <th>stage</th>\n",
       "      <th>cond</th>\n",
       "      <th>rbot</th>\n",
       "      <th>iface</th>\n",
       "      <th>reach</th>\n",
       "      <th>geometry</th>\n",
       "    </tr>\n",
       "  </thead>\n",
       "  <tbody>\n",
       "    <tr>\n",
       "      <th>0</th>\n",
       "      <td>0</td>\n",
       "      <td>0</td>\n",
       "      <td>14</td>\n",
       "      <td>20.100000</td>\n",
       "      <td>0.05</td>\n",
       "      <td>20.00</td>\n",
       "      <td>0.0</td>\n",
       "      <td>0</td>\n",
       "      <td>&lt;flopy.utils.geometry.LineString object at 0x0...</td>\n",
       "    </tr>\n",
       "    <tr>\n",
       "      <th>1</th>\n",
       "      <td>0</td>\n",
       "      <td>1</td>\n",
       "      <td>14</td>\n",
       "      <td>19.870001</td>\n",
       "      <td>0.05</td>\n",
       "      <td>19.75</td>\n",
       "      <td>0.0</td>\n",
       "      <td>1</td>\n",
       "      <td>&lt;flopy.utils.geometry.LineString object at 0x0...</td>\n",
       "    </tr>\n",
       "    <tr>\n",
       "      <th>2</th>\n",
       "      <td>0</td>\n",
       "      <td>2</td>\n",
       "      <td>14</td>\n",
       "      <td>19.650000</td>\n",
       "      <td>0.05</td>\n",
       "      <td>19.50</td>\n",
       "      <td>0.0</td>\n",
       "      <td>2</td>\n",
       "      <td>&lt;flopy.utils.geometry.LineString object at 0x0...</td>\n",
       "    </tr>\n",
       "    <tr>\n",
       "      <th>3</th>\n",
       "      <td>0</td>\n",
       "      <td>3</td>\n",
       "      <td>14</td>\n",
       "      <td>19.420000</td>\n",
       "      <td>0.05</td>\n",
       "      <td>19.25</td>\n",
       "      <td>0.0</td>\n",
       "      <td>3</td>\n",
       "      <td>&lt;flopy.utils.geometry.LineString object at 0x0...</td>\n",
       "    </tr>\n",
       "    <tr>\n",
       "      <th>4</th>\n",
       "      <td>0</td>\n",
       "      <td>4</td>\n",
       "      <td>14</td>\n",
       "      <td>19.190001</td>\n",
       "      <td>0.05</td>\n",
       "      <td>19.00</td>\n",
       "      <td>0.0</td>\n",
       "      <td>4</td>\n",
       "      <td>&lt;flopy.utils.geometry.LineString object at 0x0...</td>\n",
       "    </tr>\n",
       "  </tbody>\n",
       "</table>\n",
       "</div>"
      ],
      "text/plain": [
       "   k  i   j      stage  cond   rbot  iface  reach  \\\n",
       "0  0  0  14  20.100000  0.05  20.00    0.0      0   \n",
       "1  0  1  14  19.870001  0.05  19.75    0.0      1   \n",
       "2  0  2  14  19.650000  0.05  19.50    0.0      2   \n",
       "3  0  3  14  19.420000  0.05  19.25    0.0      3   \n",
       "4  0  4  14  19.190001  0.05  19.00    0.0      4   \n",
       "\n",
       "                                            geometry  \n",
       "0  <flopy.utils.geometry.LineString object at 0x0...  \n",
       "1  <flopy.utils.geometry.LineString object at 0x0...  \n",
       "2  <flopy.utils.geometry.LineString object at 0x0...  \n",
       "3  <flopy.utils.geometry.LineString object at 0x0...  \n",
       "4  <flopy.utils.geometry.LineString object at 0x0...  "
      ]
     },
     "execution_count": 27,
     "metadata": {},
     "output_type": "execute_result"
    }
   ],
   "source": [
    "linesdata = shp2recarray(lines_shapefile)\n",
    "linesdata = pd.DataFrame(linesdata)\n",
    "linesdata.head()"
   ]
  },
  {
   "cell_type": "markdown",
   "metadata": {},
   "source": [
    "##### Suppose we have some flow information that we read in from the cell budget file"
   ]
  },
  {
   "cell_type": "code",
   "execution_count": 28,
   "metadata": {
    "execution": {
     "iopub.execute_input": "2022-12-15T13:21:06.288920Z",
     "iopub.status.busy": "2022-12-15T13:21:06.288600Z",
     "iopub.status.idle": "2022-12-15T13:21:06.295605Z",
     "shell.execute_reply": "2022-12-15T13:21:06.294659Z"
    }
   },
   "outputs": [
    {
     "data": {
      "text/plain": [
       "array([ 2.19335104,  1.01258649,  1.68770039,  3.42536447,  1.74609065,\n",
       "        1.93715985,  2.43374294,  0.40827816, -0.20027034,  0.49028629,\n",
       "        2.96313031,  0.70164773,  0.69893149,  0.29111335, -0.26914186,\n",
       "        0.17959029,  2.17316055, -0.46246826, -0.08900208,  1.78608443,\n",
       "        0.99853366,  1.44523628,  1.43377298,  1.24799312,  0.96469328,\n",
       "        0.9556186 ,  3.76515541,  1.0368278 ,  0.91899585,  1.96186746,\n",
       "        1.18729052, -0.48379268,  1.50735804,  1.02965308, -0.56187599,\n",
       "        2.22351483,  1.06091157,  0.94455071,  0.78668145,  1.36582065])"
      ]
     },
     "execution_count": 28,
     "metadata": {},
     "output_type": "execute_result"
    }
   ],
   "source": [
    "# make up some fluxes between the river and aquifer at each reach\n",
    "q = np.random.randn(len(linesdata)) + 1\n",
    "q"
   ]
  },
  {
   "cell_type": "markdown",
   "metadata": {},
   "source": [
    "##### Add reachs fluxes and cumulative flow to lines DataFrame"
   ]
  },
  {
   "cell_type": "code",
   "execution_count": 29,
   "metadata": {
    "execution": {
     "iopub.execute_input": "2022-12-15T13:21:06.300742Z",
     "iopub.status.busy": "2022-12-15T13:21:06.300460Z",
     "iopub.status.idle": "2022-12-15T13:21:06.307440Z",
     "shell.execute_reply": "2022-12-15T13:21:06.306635Z"
    }
   },
   "outputs": [],
   "source": [
    "linesdata[\"qreach\"] = q\n",
    "linesdata[\"qstream\"] = np.cumsum(q)"
   ]
  },
  {
   "cell_type": "code",
   "execution_count": 30,
   "metadata": {
    "execution": {
     "iopub.execute_input": "2022-12-15T13:21:06.311433Z",
     "iopub.status.busy": "2022-12-15T13:21:06.311155Z",
     "iopub.status.idle": "2022-12-15T13:21:06.329537Z",
     "shell.execute_reply": "2022-12-15T13:21:06.328471Z"
    }
   },
   "outputs": [
    {
     "name": "stdout",
     "output_type": "stream",
     "text": [
      "(<class 'urllib.error.URLError'>, URLError(SSLCertVerificationError(1, '[SSL: CERTIFICATE_VERIFY_FAILED] certificate verify failed: certificate has expired (_ssl.c:1129)')), <traceback object at 0x000001A3A73B9680>)\n",
      "(<class 'urllib.error.URLError'>, URLError(SSLCertVerificationError(1, '[SSL: CERTIFICATE_VERIFY_FAILED] certificate verify failed: certificate has expired (_ssl.c:1129)')), <traceback object at 0x000001A3A73B9800>)\n",
      "No internet connection or epsg code 26916 not found at:\n",
      "   1: https://spatialreference.org/ref/epsg/26916/esriwkt/\n",
      "   2: https://spatialreference.org/ref/esri/26916/esriwkt/\n",
      "\n",
      "wrote ..\\..\\..\\..\\AppData\\Local\\Temp\\7\\tmpans1w964\\shapefile_export\\riv_reaches.shp\n"
     ]
    }
   ],
   "source": [
    "recarray2shp(\n",
    "    linesdata.drop(\"geometry\", axis=1).to_records(),\n",
    "    geoms=linesdata.geometry.values,\n",
    "    shpname=lines_shapefile,\n",
    "    epsg=grid.epsg,\n",
    ")"
   ]
  },
  {
   "cell_type": "code",
   "execution_count": 31,
   "metadata": {
    "execution": {
     "iopub.execute_input": "2022-12-15T13:21:06.333221Z",
     "iopub.status.busy": "2022-12-15T13:21:06.332776Z",
     "iopub.status.idle": "2022-12-15T13:21:06.501907Z",
     "shell.execute_reply": "2022-12-15T13:21:06.500894Z"
    }
   },
   "outputs": [
    {
     "data": {
      "image/png": "[encoded data removed]",
      "text/plain": [
       "<Figure size 432x288 with 1 Axes>"
      ]
     },
     "metadata": {
      "needs_background": "light"
     },
     "output_type": "display_data"
    }
   ],
   "source": [
    "ax = plt.subplot(1, 1, 1, aspect=\"equal\")\n",
    "extents = grid.extent\n",
    "pc = flopy.plot.plot_shapefile(lines_shapefile, ax=ax, radius=25)\n",
    "ax.set_xlim(extents[0], extents[1])\n",
    "ax.set_ylim(extents[2], extents[3])\n",
    "ax.set_title(lines_shapefile);"
   ]
  },
  {
   "cell_type": "markdown",
   "metadata": {},
   "source": [
    "## Overriding the model's modelgrid with a user supplied modelgrid\n",
    "\n",
    "In some cases it may be necessary to override the model's modelgrid instance with a seperate modelgrid. An example of this is if the model discretization is in feet and the user would like it projected in meters. Exporting can be accomplished by supplying a modelgrid as a `kwarg` in any of the `export()` methods within flopy. Below is an example:"
   ]
  },
  {
   "cell_type": "code",
   "execution_count": 32,
   "metadata": {
    "execution": {
     "iopub.execute_input": "2022-12-15T13:21:06.506085Z",
     "iopub.status.busy": "2022-12-15T13:21:06.505493Z",
     "iopub.status.idle": "2022-12-15T13:21:06.774084Z",
     "shell.execute_reply": "2022-12-15T13:21:06.773089Z"
    }
   },
   "outputs": [
    {
     "name": "stdout",
     "output_type": "stream",
     "text": [
      "wrote ..\\..\\..\\..\\AppData\\Local\\Temp\\7\\tmpans1w964\\shapefile_export\\freyberg.shp\n"
     ]
    }
   ],
   "source": [
    "mg0 = m.modelgrid\n",
    "\n",
    "# build a new modelgrid instance with discretization in meters\n",
    "modelgrid = flopy.discretization.StructuredGrid(\n",
    "    delc=mg0.delc * 0.3048,\n",
    "    delr=mg0.delr * 0.3048,\n",
    "    top=mg0.top,\n",
    "    botm=mg0.botm,\n",
    "    idomain=mg0.idomain,\n",
    "    xoff=mg0.xoffset * 0.3048,\n",
    "    yoff=mg0.yoffset * 0.3048,\n",
    ")\n",
    "\n",
    "# exporting an entire model\n",
    "m.export(\"{}/freyberg.shp\".format(outdir), modelgrid=modelgrid)"
   ]
  },
  {
   "cell_type": "markdown",
   "metadata": {},
   "source": [
    "And for a specific parameter the method is the same"
   ]
  },
  {
   "cell_type": "code",
   "execution_count": 33,
   "metadata": {
    "execution": {
     "iopub.execute_input": "2022-12-15T13:21:06.778726Z",
     "iopub.status.busy": "2022-12-15T13:21:06.778434Z",
     "iopub.status.idle": "2022-12-15T13:21:06.857548Z",
     "shell.execute_reply": "2022-12-15T13:21:06.856537Z"
    }
   },
   "outputs": [
    {
     "name": "stdout",
     "output_type": "stream",
     "text": [
      "wrote ..\\..\\..\\..\\AppData\\Local\\Temp\\7\\tmpans1w964\\shapefile_export\\hk.shp\n"
     ]
    }
   ],
   "source": [
    "fname = \"{}/hk.shp\".format(outdir)\n",
    "m.lpf.hk.export(fname, modelgrid=modelgrid)"
   ]
  },
  {
   "cell_type": "code",
   "execution_count": 34,
   "metadata": {
    "execution": {
     "iopub.execute_input": "2022-12-15T13:21:06.861481Z",
     "iopub.status.busy": "2022-12-15T13:21:06.861207Z",
     "iopub.status.idle": "2022-12-15T13:21:07.228807Z",
     "shell.execute_reply": "2022-12-15T13:21:07.227671Z"
    }
   },
   "outputs": [
    {
     "data": {
      "image/png": "[encoded data removed]",
      "text/plain": [
       "<Figure size 432x288 with 1 Axes>"
      ]
     },
     "metadata": {
      "needs_background": "light"
     },
     "output_type": "display_data"
    }
   ],
   "source": [
    "ax = plt.subplot(1, 1, 1, aspect=\"equal\")\n",
    "extents = modelgrid.extent\n",
    "a = m.lpf.hk.array.ravel()\n",
    "pc = flopy.plot.plot_shapefile(fname, ax=ax, a=a)\n",
    "ax.set_xlim(extents[0], extents[1])\n",
    "ax.set_ylim(extents[2], extents[3])\n",
    "ax.set_title(fname);"
   ]
  },
  {
   "cell_type": "code",
   "execution_count": 35,
   "metadata": {
    "execution": {
     "iopub.execute_input": "2022-12-15T13:21:07.233604Z",
     "iopub.status.busy": "2022-12-15T13:21:07.233333Z",
     "iopub.status.idle": "2022-12-15T13:21:07.239620Z",
     "shell.execute_reply": "2022-12-15T13:21:07.238629Z"
    }
   },
   "outputs": [],
   "source": [
    "try:\n",
    "    # ignore PermissionError on Windows\n",
    "    temp_dir.cleanup()\n",
    "except:\n",
    "    pass\n"
   ]
  }
 ],
 "metadata": {
  "kernelspec": {
   "display_name": "Python 3 (ipykernel)",
   "language": "python",
   "name": "python3"
  },
  "language_info": {
   "codemirror_mode": {
    "name": "ipython",
    "version": 3
   },
   "file_extension": ".py",
   "mimetype": "text/x-python",
   "name": "python",
   "nbconvert_exporter": "python",
   "pygments_lexer": "ipython3",
   "version": "3.9.12"
  }
 },
 "nbformat": 4,
 "nbformat_minor": 4
}
