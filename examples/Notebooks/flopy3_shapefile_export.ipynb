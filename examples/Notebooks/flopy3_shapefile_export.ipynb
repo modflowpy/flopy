{
 "cells": [
  {
   "cell_type": "markdown",
   "metadata": {},
   "source": [
    "# FloPy shapefile export demo\n",
    "The goal of this notebook is to demonstrate ways to export model information to shapefiles.\n",
    "This example will cover:\n",
    "* basic exporting of information for a model, individual package, or dataset\n",
    "* custom exporting of combined data from different packages\n",
    "* general exporting and importing of geographic data from other sources"
   ]
  },
  {
   "cell_type": "code",
   "execution_count": null,
   "metadata": {
    "execution": {
     "iopub.execute_input": "2023-02-22T02:44:47.951907Z",
     "iopub.status.busy": "2023-02-22T02:44:47.951509Z",
     "iopub.status.idle": "2023-02-22T02:44:48.689133Z",
     "shell.execute_reply": "2023-02-22T02:44:48.688441Z"
    }
   },
   "outputs": [],
   "source": [
    "import sys\n",
    "import os\n",
    "from tempfile import TemporaryDirectory\n",
    "\n",
    "import numpy as np\n",
    "import matplotlib as mpl\n",
    "import matplotlib.pyplot as plt\n",
    "import pandas as pd\n",
    "\n",
    "# run installed version of flopy or add local path\n",
    "try:\n",
    "    import flopy\n",
    "except:\n",
    "    fpth = os.path.abspath(os.path.join(\"..\", \"..\"))\n",
    "    sys.path.append(fpth)\n",
    "    import flopy\n",
    "\n",
    "print(sys.version)\n",
    "print(\"numpy version: {}\".format(np.__version__))\n",
    "print(\"matplotlib version: {}\".format(mpl.__version__))\n",
    "print(\"flopy version: {}\".format(flopy.__version__))"
   ]
  },
  {
   "cell_type": "code",
   "execution_count": null,
   "metadata": {
    "execution": {
     "iopub.execute_input": "2023-02-22T02:44:48.743559Z",
     "iopub.status.busy": "2023-02-22T02:44:48.742803Z",
     "iopub.status.idle": "2023-02-22T02:44:48.759880Z",
     "shell.execute_reply": "2023-02-22T02:44:48.759084Z"
    }
   },
   "outputs": [],
   "source": [
    "# temporary directory\n",
    "temp_dir = TemporaryDirectory()\n",
    "outdir = os.path.join(temp_dir.name, \"shapefile_export\")\n",
    "\n",
    "# load an existing model\n",
    "model_ws = \"../data/freyberg\"\n",
    "m = flopy.modflow.Modflow.load(\n",
    "    \"freyberg.nam\",\n",
    "    model_ws=model_ws,\n",
    "    verbose=False,\n",
    "    check=False,\n",
    "    exe_name=\"mfnwt\",\n",
    ")"
   ]
  },
  {
   "cell_type": "code",
   "execution_count": null,
   "metadata": {
    "execution": {
     "iopub.execute_input": "2023-02-22T02:44:48.763664Z",
     "iopub.status.busy": "2023-02-22T02:44:48.763265Z",
     "iopub.status.idle": "2023-02-22T02:44:48.771772Z",
     "shell.execute_reply": "2023-02-22T02:44:48.771013Z"
    }
   },
   "outputs": [],
   "source": [
    "m.get_package_list()"
   ]
  },
  {
   "cell_type": "markdown",
   "metadata": {},
   "source": [
    "### set the model coordinate information\n",
    "the coordinate information where the grid is located in a projected coordinate system (e.g. UTM)"
   ]
  },
  {
   "cell_type": "code",
   "execution_count": null,
   "metadata": {
    "execution": {
     "iopub.execute_input": "2023-02-22T02:44:48.775630Z",
     "iopub.status.busy": "2023-02-22T02:44:48.774921Z",
     "iopub.status.idle": "2023-02-22T02:44:48.780020Z",
     "shell.execute_reply": "2023-02-22T02:44:48.779085Z"
    }
   },
   "outputs": [],
   "source": [
    "grid = m.modelgrid\n",
    "grid.set_coord_info(xoff=273170, yoff=5088657, crs=26916)"
   ]
  },
  {
   "cell_type": "code",
   "execution_count": null,
   "metadata": {
    "execution": {
     "iopub.execute_input": "2023-02-22T02:44:48.783827Z",
     "iopub.status.busy": "2023-02-22T02:44:48.783229Z",
     "iopub.status.idle": "2023-02-22T02:44:48.789419Z",
     "shell.execute_reply": "2023-02-22T02:44:48.788477Z"
    }
   },
   "outputs": [],
   "source": [
    "grid.extent"
   ]
  },
  {
   "cell_type": "markdown",
   "metadata": {},
   "source": [
    "## Declarative export using attached `.export()` methods\n",
    "#### Export the whole model to a single shapefile"
   ]
  },
  {
   "cell_type": "code",
   "execution_count": null,
   "metadata": {
    "execution": {
     "iopub.execute_input": "2023-02-22T02:44:48.793217Z",
     "iopub.status.busy": "2023-02-22T02:44:48.792646Z",
     "iopub.status.idle": "2023-02-22T02:44:49.309015Z",
     "shell.execute_reply": "2023-02-22T02:44:49.308007Z"
    }
   },
   "outputs": [],
   "source": [
    "fname = \"{}/model.shp\".format(outdir)\n",
    "m.export(fname)"
   ]
  },
  {
   "cell_type": "code",
   "execution_count": null,
   "metadata": {
    "execution": {
     "iopub.execute_input": "2023-02-22T02:44:49.314158Z",
     "iopub.status.busy": "2023-02-22T02:44:49.313185Z",
     "iopub.status.idle": "2023-02-22T02:44:49.644156Z",
     "shell.execute_reply": "2023-02-22T02:44:49.643553Z"
    }
   },
   "outputs": [],
   "source": [
    "ax = plt.subplot(1, 1, 1, aspect=\"equal\")\n",
    "extents = grid.extent\n",
    "pc = flopy.plot.plot_shapefile(fname, ax=ax, edgecolor=\"k\", facecolor=\"none\")\n",
    "ax.set_xlim(extents[0], extents[1])\n",
    "ax.set_ylim(extents[2], extents[3])\n",
    "ax.set_title(fname);"
   ]
  },
  {
   "cell_type": "code",
   "execution_count": null,
   "metadata": {
    "execution": {
     "iopub.execute_input": "2023-02-22T02:44:49.648299Z",
     "iopub.status.busy": "2023-02-22T02:44:49.647734Z",
     "iopub.status.idle": "2023-02-22T02:44:49.718129Z",
     "shell.execute_reply": "2023-02-22T02:44:49.717506Z"
    }
   },
   "outputs": [],
   "source": [
    "fname = \"{}/wel.shp\".format(outdir)\n",
    "m.wel.export(fname)"
   ]
  },
  {
   "cell_type": "markdown",
   "metadata": {},
   "source": [
    "### Export a package to a shapefile"
   ]
  },
  {
   "cell_type": "markdown",
   "metadata": {},
   "source": [
    "### Export a FloPy list or array object"
   ]
  },
  {
   "cell_type": "code",
   "execution_count": null,
   "metadata": {
    "execution": {
     "iopub.execute_input": "2023-02-22T02:44:49.721618Z",
     "iopub.status.busy": "2023-02-22T02:44:49.720998Z",
     "iopub.status.idle": "2023-02-22T02:44:49.725845Z",
     "shell.execute_reply": "2023-02-22T02:44:49.725232Z"
    }
   },
   "outputs": [],
   "source": [
    "m.lpf.hk"
   ]
  },
  {
   "cell_type": "code",
   "execution_count": null,
   "metadata": {
    "execution": {
     "iopub.execute_input": "2023-02-22T02:44:49.729147Z",
     "iopub.status.busy": "2023-02-22T02:44:49.728788Z",
     "iopub.status.idle": "2023-02-22T02:44:49.789707Z",
     "shell.execute_reply": "2023-02-22T02:44:49.788957Z"
    }
   },
   "outputs": [],
   "source": [
    "fname = \"{}/hk.shp\".format(outdir)\n",
    "m.lpf.hk.export(\"{}/hk.shp\".format(outdir))"
   ]
  },
  {
   "cell_type": "code",
   "execution_count": null,
   "metadata": {
    "execution": {
     "iopub.execute_input": "2023-02-22T02:44:49.793266Z",
     "iopub.status.busy": "2023-02-22T02:44:49.792757Z",
     "iopub.status.idle": "2023-02-22T02:44:50.119660Z",
     "shell.execute_reply": "2023-02-22T02:44:50.119018Z"
    }
   },
   "outputs": [],
   "source": [
    "ax = plt.subplot(1, 1, 1, aspect=\"equal\")\n",
    "extents = grid.extent\n",
    "a = m.lpf.hk.array.ravel()\n",
    "pc = flopy.plot.plot_shapefile(fname, ax=ax, a=a)\n",
    "ax.set_xlim(extents[0], extents[1])\n",
    "ax.set_ylim(extents[2], extents[3])\n",
    "ax.set_title(fname);"
   ]
  },
  {
   "cell_type": "code",
   "execution_count": null,
   "metadata": {
    "execution": {
     "iopub.execute_input": "2023-02-22T02:44:50.123667Z",
     "iopub.status.busy": "2023-02-22T02:44:50.123062Z",
     "iopub.status.idle": "2023-02-22T02:44:50.128417Z",
     "shell.execute_reply": "2023-02-22T02:44:50.127673Z"
    }
   },
   "outputs": [],
   "source": [
    "m.riv.stress_period_data"
   ]
  },
  {
   "cell_type": "code",
   "execution_count": null,
   "metadata": {
    "execution": {
     "iopub.execute_input": "2023-02-22T02:44:50.132362Z",
     "iopub.status.busy": "2023-02-22T02:44:50.131763Z",
     "iopub.status.idle": "2023-02-22T02:44:50.233327Z",
     "shell.execute_reply": "2023-02-22T02:44:50.232490Z"
    }
   },
   "outputs": [],
   "source": [
    "m.riv.stress_period_data.export(\"{}/riv_spd.shp\".format(outdir))"
   ]
  },
  {
   "cell_type": "markdown",
   "metadata": {},
   "source": [
    "### MfList.export() exports the whole grid by default, regardless of the locations of the boundary cells\n",
    "`sparse=True` only exports the boundary cells in the MfList"
   ]
  },
  {
   "cell_type": "code",
   "execution_count": null,
   "metadata": {
    "execution": {
     "iopub.execute_input": "2023-02-22T02:44:50.237092Z",
     "iopub.status.busy": "2023-02-22T02:44:50.236852Z",
     "iopub.status.idle": "2023-02-22T02:44:50.270177Z",
     "shell.execute_reply": "2023-02-22T02:44:50.269531Z"
    }
   },
   "outputs": [],
   "source": [
    "m.riv.stress_period_data.export(\"{}/riv_spd.shp\".format(outdir), sparse=True)"
   ]
  },
  {
   "cell_type": "code",
   "execution_count": null,
   "metadata": {
    "execution": {
     "iopub.execute_input": "2023-02-22T02:44:50.273729Z",
     "iopub.status.busy": "2023-02-22T02:44:50.273220Z",
     "iopub.status.idle": "2023-02-22T02:44:50.293418Z",
     "shell.execute_reply": "2023-02-22T02:44:50.292732Z"
    }
   },
   "outputs": [],
   "source": [
    "m.wel.stress_period_data.export(\"{}/wel_spd.shp\".format(outdir), sparse=True)"
   ]
  },
  {
   "cell_type": "markdown",
   "metadata": {},
   "source": [
    "## Ad-hoc exporting using `recarray2shp`\n",
    "* The main idea is to create a recarray with all of the attribute information, and a list of geometry features (one feature per row in the recarray)\n",
    "* each geometry feature is an instance of the `Point`, `LineString` or `Polygon` classes in `flopy.utils.geometry`. The shapefile format requires all the features to be of the same type.\n",
    "* We will use pandas dataframes for these examples because they are easy to work with, and then convert them to recarrays prior to exporting.\n"
   ]
  },
  {
   "cell_type": "code",
   "execution_count": null,
   "metadata": {
    "execution": {
     "iopub.execute_input": "2023-02-22T02:44:50.297056Z",
     "iopub.status.busy": "2023-02-22T02:44:50.296499Z",
     "iopub.status.idle": "2023-02-22T02:44:50.300115Z",
     "shell.execute_reply": "2023-02-22T02:44:50.299467Z"
    }
   },
   "outputs": [],
   "source": [
    "from flopy.export.shapefile_utils import recarray2shp"
   ]
  },
  {
   "cell_type": "markdown",
   "metadata": {},
   "source": [
    "### combining data from different packages\n",
    "write a shapefile of RIV and WEL package cells"
   ]
  },
  {
   "cell_type": "code",
   "execution_count": null,
   "metadata": {
    "execution": {
     "iopub.execute_input": "2023-02-22T02:44:50.303191Z",
     "iopub.status.busy": "2023-02-22T02:44:50.302889Z",
     "iopub.status.idle": "2023-02-22T02:44:50.315969Z",
     "shell.execute_reply": "2023-02-22T02:44:50.315393Z"
    }
   },
   "outputs": [],
   "source": [
    "wellspd = pd.DataFrame(m.wel.stress_period_data[0])\n",
    "rivspd = pd.DataFrame(m.riv.stress_period_data[0])\n",
    "spd = pd.concat([wellspd, rivspd])\n",
    "spd.head()"
   ]
  },
  {
   "cell_type": "markdown",
   "metadata": {},
   "source": [
    "##### Create a list of Polygon features from the cell vertices stored in the modelgrid object"
   ]
  },
  {
   "cell_type": "code",
   "execution_count": null,
   "metadata": {
    "execution": {
     "iopub.execute_input": "2023-02-22T02:44:50.319473Z",
     "iopub.status.busy": "2023-02-22T02:44:50.319187Z",
     "iopub.status.idle": "2023-02-22T02:44:50.325757Z",
     "shell.execute_reply": "2023-02-22T02:44:50.325208Z"
    }
   },
   "outputs": [],
   "source": [
    "from flopy.utils.geometry import Polygon\n",
    "\n",
    "vertices = []\n",
    "for row, col in zip(spd.i, spd.j):\n",
    "    vertices.append(grid.get_cell_vertices(row, col))\n",
    "polygons = [Polygon(vrt) for vrt in vertices]\n",
    "polygons"
   ]
  },
  {
   "cell_type": "markdown",
   "metadata": {},
   "source": [
    "##### write the shapefile"
   ]
  },
  {
   "cell_type": "code",
   "execution_count": null,
   "metadata": {
    "execution": {
     "iopub.execute_input": "2023-02-22T02:44:50.328929Z",
     "iopub.status.busy": "2023-02-22T02:44:50.328705Z",
     "iopub.status.idle": "2023-02-22T02:44:50.343109Z",
     "shell.execute_reply": "2023-02-22T02:44:50.342398Z"
    }
   },
   "outputs": [],
   "source": [
    "fname = \"{}/bcs.shp\".format(outdir)\n",
    "recarray2shp(spd.to_records(), geoms=polygons, shpname=fname, crs=grid.crs)"
   ]
  },
  {
   "cell_type": "code",
   "execution_count": null,
   "metadata": {
    "execution": {
     "iopub.execute_input": "2023-02-22T02:44:50.346715Z",
     "iopub.status.busy": "2023-02-22T02:44:50.346147Z",
     "iopub.status.idle": "2023-02-22T02:44:50.493729Z",
     "shell.execute_reply": "2023-02-22T02:44:50.493145Z"
    }
   },
   "outputs": [],
   "source": [
    "ax = plt.subplot(1, 1, 1, aspect=\"equal\")\n",
    "extents = grid.extent\n",
    "pc = flopy.plot.plot_shapefile(fname, ax=ax)\n",
    "ax.set_xlim(extents[0], extents[1])\n",
    "ax.set_ylim(extents[2], extents[3])\n",
    "ax.set_title(fname);"
   ]
  },
  {
   "cell_type": "markdown",
   "metadata": {},
   "source": [
    "### exporting other data\n",
    "Suppose we have some well data with actual locations that we want to export to a shapefile"
   ]
  },
  {
   "cell_type": "code",
   "execution_count": null,
   "metadata": {
    "execution": {
     "iopub.execute_input": "2023-02-22T02:44:50.496333Z",
     "iopub.status.busy": "2023-02-22T02:44:50.496143Z",
     "iopub.status.idle": "2023-02-22T02:44:50.507706Z",
     "shell.execute_reply": "2023-02-22T02:44:50.507009Z"
    }
   },
   "outputs": [],
   "source": [
    "welldata = pd.DataFrame(\n",
    "    {\n",
    "        \"wellID\": np.arange(0, 10),\n",
    "        \"q\": np.random.randn(10) * 100 - 1000,\n",
    "        \"x_utm\": np.random.rand(10) * 5000 + grid.xoffset,\n",
    "        \"y_utm\": grid.yoffset + np.random.rand(10) * 10000,\n",
    "    }\n",
    ")\n",
    "welldata.head()"
   ]
  },
  {
   "cell_type": "markdown",
   "metadata": {},
   "source": [
    "##### convert the x, y coorindates to point features and then export"
   ]
  },
  {
   "cell_type": "code",
   "execution_count": null,
   "metadata": {
    "execution": {
     "iopub.execute_input": "2023-02-22T02:44:50.510832Z",
     "iopub.status.busy": "2023-02-22T02:44:50.510358Z",
     "iopub.status.idle": "2023-02-22T02:44:50.519841Z",
     "shell.execute_reply": "2023-02-22T02:44:50.518943Z"
    }
   },
   "outputs": [],
   "source": [
    "from flopy.utils.geometry import Point\n",
    "\n",
    "geoms = [Point(x, y) for x, y in zip(welldata.x_utm, welldata.y_utm)]\n",
    "\n",
    "fname = \"{}/wel_data.shp\".format(outdir)\n",
    "recarray2shp(welldata.to_records(), geoms=geoms, shpname=fname, crs=grid.crs)"
   ]
  },
  {
   "cell_type": "code",
   "execution_count": null,
   "metadata": {
    "execution": {
     "iopub.execute_input": "2023-02-22T02:44:50.524187Z",
     "iopub.status.busy": "2023-02-22T02:44:50.523681Z",
     "iopub.status.idle": "2023-02-22T02:44:50.661843Z",
     "shell.execute_reply": "2023-02-22T02:44:50.660996Z"
    }
   },
   "outputs": [],
   "source": [
    "ax = plt.subplot(1, 1, 1, aspect=\"equal\")\n",
    "extents = grid.extent\n",
    "pc = flopy.plot.plot_shapefile(fname, ax=ax, radius=100)\n",
    "ax.set_xlim(extents[0], extents[1])\n",
    "ax.set_ylim(extents[2], extents[3])\n",
    "ax.set_title(fname);"
   ]
  },
  {
   "cell_type": "markdown",
   "metadata": {},
   "source": [
    "### Adding attribute data to an existing shapefile\n",
    "Suppose we have a GIS coverage representing the river in the riv package"
   ]
  },
  {
   "cell_type": "code",
   "execution_count": null,
   "metadata": {
    "execution": {
     "iopub.execute_input": "2023-02-22T02:44:50.665854Z",
     "iopub.status.busy": "2023-02-22T02:44:50.665189Z",
     "iopub.status.idle": "2023-02-22T02:44:50.685247Z",
     "shell.execute_reply": "2023-02-22T02:44:50.684318Z"
    }
   },
   "outputs": [],
   "source": [
    "from flopy.utils.geometry import LineString\n",
    "\n",
    "### make up a linestring shapefile of the river reaches\n",
    "i, j = m.riv.stress_period_data[0].i, m.riv.stress_period_data[0].j\n",
    "x0 = grid.xyzcellcenters[0][i[0], j[0]]\n",
    "x1 = grid.xyzcellcenters[0][i[-1], j[-1]]\n",
    "y0 = grid.xyzcellcenters[1][i[0], j[0]]\n",
    "y1 = grid.xyzcellcenters[1][i[-1], j[-1]]\n",
    "x = np.linspace(x0, x1, m.nrow + 1)\n",
    "y = np.linspace(y0, y1, m.nrow + 1)\n",
    "l0 = zip(list(zip(x[:-1], y[:-1])), list(zip(x[1:], y[1:])))\n",
    "lines = [LineString(l) for l in l0]\n",
    "\n",
    "rivdata = pd.DataFrame(m.riv.stress_period_data[0])\n",
    "rivdata[\"reach\"] = np.arange(len(lines))\n",
    "lines_shapefile = \"{}/riv_reaches.shp\".format(outdir)\n",
    "recarray2shp(\n",
    "    rivdata.to_records(index=False),\n",
    "    geoms=lines,\n",
    "    shpname=lines_shapefile,\n",
    "    crs=grid.crs,\n",
    ")"
   ]
  },
  {
   "cell_type": "code",
   "execution_count": null,
   "metadata": {
    "execution": {
     "iopub.execute_input": "2023-02-22T02:44:50.689065Z",
     "iopub.status.busy": "2023-02-22T02:44:50.688596Z",
     "iopub.status.idle": "2023-02-22T02:44:50.847578Z",
     "shell.execute_reply": "2023-02-22T02:44:50.846768Z"
    }
   },
   "outputs": [],
   "source": [
    "ax = plt.subplot(1, 1, 1, aspect=\"equal\")\n",
    "extents = grid.extent\n",
    "pc = flopy.plot.plot_shapefile(lines_shapefile, ax=ax, radius=25)\n",
    "ax.set_xlim(extents[0], extents[1])\n",
    "ax.set_ylim(extents[2], extents[3])\n",
    "ax.set_title(lines_shapefile);"
   ]
  },
  {
   "cell_type": "markdown",
   "metadata": {},
   "source": [
    "#### read in the GIS coverage using `shp2recarray`\n",
    "`shp2recarray` reads a shapefile into a numpy record array, which can easily be converted to a DataFrame"
   ]
  },
  {
   "cell_type": "code",
   "execution_count": null,
   "metadata": {
    "execution": {
     "iopub.execute_input": "2023-02-22T02:44:50.850633Z",
     "iopub.status.busy": "2023-02-22T02:44:50.850151Z",
     "iopub.status.idle": "2023-02-22T02:44:50.853188Z",
     "shell.execute_reply": "2023-02-22T02:44:50.852635Z"
    }
   },
   "outputs": [],
   "source": [
    "from flopy.export.shapefile_utils import shp2recarray"
   ]
  },
  {
   "cell_type": "code",
   "execution_count": null,
   "metadata": {
    "execution": {
     "iopub.execute_input": "2023-02-22T02:44:50.856222Z",
     "iopub.status.busy": "2023-02-22T02:44:50.855958Z",
     "iopub.status.idle": "2023-02-22T02:44:50.869708Z",
     "shell.execute_reply": "2023-02-22T02:44:50.869143Z"
    }
   },
   "outputs": [],
   "source": [
    "linesdata = shp2recarray(lines_shapefile)\n",
    "linesdata = pd.DataFrame(linesdata)\n",
    "linesdata.head()"
   ]
  },
  {
   "cell_type": "markdown",
   "metadata": {},
   "source": [
    "##### Suppose we have some flow information that we read in from the cell budget file"
   ]
  },
  {
   "cell_type": "code",
   "execution_count": null,
   "metadata": {
    "execution": {
     "iopub.execute_input": "2023-02-22T02:44:50.872872Z",
     "iopub.status.busy": "2023-02-22T02:44:50.872621Z",
     "iopub.status.idle": "2023-02-22T02:44:50.877416Z",
     "shell.execute_reply": "2023-02-22T02:44:50.876852Z"
    }
   },
   "outputs": [],
   "source": [
    "# make up some fluxes between the river and aquifer at each reach\n",
    "q = np.random.randn(len(linesdata)) + 1\n",
    "q"
   ]
  },
  {
   "cell_type": "markdown",
   "metadata": {},
   "source": [
    "##### Add reachs fluxes and cumulative flow to lines DataFrame"
   ]
  },
  {
   "cell_type": "code",
   "execution_count": null,
   "metadata": {
    "execution": {
     "iopub.execute_input": "2023-02-22T02:44:50.880568Z",
     "iopub.status.busy": "2023-02-22T02:44:50.879962Z",
     "iopub.status.idle": "2023-02-22T02:44:50.884416Z",
     "shell.execute_reply": "2023-02-22T02:44:50.883799Z"
    }
   },
   "outputs": [],
   "source": [
    "linesdata[\"qreach\"] = q\n",
    "linesdata[\"qstream\"] = np.cumsum(q)"
   ]
  },
  {
   "cell_type": "code",
   "execution_count": null,
   "metadata": {
    "execution": {
     "iopub.execute_input": "2023-02-22T02:44:50.887270Z",
     "iopub.status.busy": "2023-02-22T02:44:50.887078Z",
     "iopub.status.idle": "2023-02-22T02:44:50.896999Z",
     "shell.execute_reply": "2023-02-22T02:44:50.896339Z"
    }
   },
   "outputs": [],
   "source": [
    "recarray2shp(\n",
    "    linesdata.drop(\"geometry\", axis=1).to_records(),\n",
    "    geoms=linesdata.geometry.values,\n",
    "    shpname=lines_shapefile,\n",
    "    crs=grid.crs,\n",
    ")"
   ]
  },
  {
   "cell_type": "code",
   "execution_count": null,
   "metadata": {
    "execution": {
     "iopub.execute_input": "2023-02-22T02:44:50.900501Z",
     "iopub.status.busy": "2023-02-22T02:44:50.900280Z",
     "iopub.status.idle": "2023-02-22T02:44:51.032263Z",
     "shell.execute_reply": "2023-02-22T02:44:51.031633Z"
    }
   },
   "outputs": [],
   "source": [
    "ax = plt.subplot(1, 1, 1, aspect=\"equal\")\n",
    "extents = grid.extent\n",
    "pc = flopy.plot.plot_shapefile(lines_shapefile, ax=ax, radius=25)\n",
    "ax.set_xlim(extents[0], extents[1])\n",
    "ax.set_ylim(extents[2], extents[3])\n",
    "ax.set_title(lines_shapefile);"
   ]
  },
  {
   "cell_type": "markdown",
   "metadata": {},
   "source": [
    "## Overriding the model's modelgrid with a user supplied modelgrid\n",
    "\n",
    "In some cases it may be necessary to override the model's modelgrid instance with a seperate modelgrid. An example of this is if the model discretization is in feet and the user would like it projected in meters. Exporting can be accomplished by supplying a modelgrid as a `kwarg` in any of the `export()` methods within flopy. Below is an example:"
   ]
  },
  {
   "cell_type": "code",
   "execution_count": null,
   "metadata": {
    "execution": {
     "iopub.execute_input": "2023-02-22T02:44:51.036170Z",
     "iopub.status.busy": "2023-02-22T02:44:51.035860Z",
     "iopub.status.idle": "2023-02-22T02:44:51.169369Z",
     "shell.execute_reply": "2023-02-22T02:44:51.168695Z"
    }
   },
   "outputs": [],
   "source": [
    "mg0 = m.modelgrid\n",
    "\n",
    "# build a new modelgrid instance with discretization in meters\n",
    "modelgrid = flopy.discretization.StructuredGrid(\n",
    "    delc=mg0.delc * 0.3048,\n",
    "    delr=mg0.delr * 0.3048,\n",
    "    top=mg0.top,\n",
    "    botm=mg0.botm,\n",
    "    idomain=mg0.idomain,\n",
    "    xoff=mg0.xoffset * 0.3048,\n",
    "    yoff=mg0.yoffset * 0.3048,\n",
    ")\n",
    "\n",
    "# exporting an entire model\n",
    "m.export(\"{}/freyberg.shp\".format(outdir), modelgrid=modelgrid)"
   ]
  },
  {
   "cell_type": "markdown",
   "metadata": {},
   "source": [
    "And for a specific parameter the method is the same"
   ]
  },
  {
   "cell_type": "code",
   "execution_count": null,
   "metadata": {
    "execution": {
     "iopub.execute_input": "2023-02-22T02:44:51.173596Z",
     "iopub.status.busy": "2023-02-22T02:44:51.173309Z",
     "iopub.status.idle": "2023-02-22T02:44:51.229929Z",
     "shell.execute_reply": "2023-02-22T02:44:51.229127Z"
    }
   },
   "outputs": [],
   "source": [
    "fname = \"{}/hk.shp\".format(outdir)\n",
    "m.lpf.hk.export(fname, modelgrid=modelgrid)"
   ]
  },
  {
   "cell_type": "code",
   "execution_count": null,
   "metadata": {
    "execution": {
     "iopub.execute_input": "2023-02-22T02:44:51.233579Z",
     "iopub.status.busy": "2023-02-22T02:44:51.233211Z",
     "iopub.status.idle": "2023-02-22T02:44:51.541293Z",
     "shell.execute_reply": "2023-02-22T02:44:51.540693Z"
    }
   },
   "outputs": [],
   "source": [
    "ax = plt.subplot(1, 1, 1, aspect=\"equal\")\n",
    "extents = modelgrid.extent\n",
    "a = m.lpf.hk.array.ravel()\n",
    "pc = flopy.plot.plot_shapefile(fname, ax=ax, a=a)\n",
    "ax.set_xlim(extents[0], extents[1])\n",
    "ax.set_ylim(extents[2], extents[3])\n",
    "ax.set_title(fname);"
   ]
  },
  {
   "cell_type": "code",
   "execution_count": null,
   "metadata": {
    "execution": {
     "iopub.execute_input": "2023-02-22T02:44:51.544364Z",
     "iopub.status.busy": "2023-02-22T02:44:51.544103Z",
     "iopub.status.idle": "2023-02-22T02:44:51.548776Z",
     "shell.execute_reply": "2023-02-22T02:44:51.548156Z"
    }
   },
   "outputs": [],
   "source": [
    "try:\n",
    "    # ignore PermissionError on Windows\n",
    "    temp_dir.cleanup()\n",
    "except:\n",
    "    pass"
   ]
  }
 ],
 "metadata": {
  "kernelspec": {
   "display_name": "Python 3 (ipykernel)",
   "language": "python",
   "name": "python3"
  },
  "language_info": {
   "codemirror_mode": {
    "name": "ipython",
    "version": 3
   },
   "file_extension": ".py",
   "mimetype": "text/x-python",
   "name": "python",
   "nbconvert_exporter": "python",
   "pygments_lexer": "ipython3",
   "version": "3.11.0"
  }
 },
 "nbformat": 4,
 "nbformat_minor": 4
}
