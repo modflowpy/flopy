{
 "cells": [
  {
   "cell_type": "markdown",
   "metadata": {},
   "source": [
    "# FloPy shapefile export demo\n",
    "The goal of this notebook is to demonstrate ways to export model information to shapefiles.\n",
    "This example will cover:\n",
    "* basic exporting of information for a model, individual package, or dataset\n",
    "* custom exporting of combined data from different packages\n",
    "* general exporting and importing of geographic data from other sources"
   ]
  },
  {
   "cell_type": "code",
   "execution_count": 1,
   "metadata": {
    "execution": {
     "iopub.execute_input": "2022-12-14T23:28:39.617522Z",
     "iopub.status.busy": "2022-12-14T23:28:39.617202Z",
     "iopub.status.idle": "2022-12-14T23:28:40.769291Z",
     "shell.execute_reply": "2022-12-14T23:28:40.766253Z"
    }
   },
   "outputs": [
    {
     "name": "stdout",
     "output_type": "stream",
     "text": [
      "3.7.15 (default, Oct 18 2022, 09:36:49) \n",
      "[GCC 11.2.0]\n",
      "numpy version: 1.21.6\n",
      "matplotlib version: 3.5.3\n",
      "flopy version: 3.3.6\n"
     ]
    }
   ],
   "source": [
    "import sys\n",
    "import os\n",
    "from tempfile import TemporaryDirectory\n",
    "\n",
    "import numpy as np\n",
    "import matplotlib as mpl\n",
    "import matplotlib.pyplot as plt\n",
    "import pandas as pd\n",
    "\n",
    "# run installed version of flopy or add local path\n",
    "try:\n",
    "    import flopy\n",
    "except:\n",
    "    fpth = os.path.abspath(os.path.join(\"..\", \"..\"))\n",
    "    sys.path.append(fpth)\n",
    "    import flopy\n",
    "\n",
    "print(sys.version)\n",
    "print(\"numpy version: {}\".format(np.__version__))\n",
    "print(\"matplotlib version: {}\".format(mpl.__version__))\n",
    "print(\"flopy version: {}\".format(flopy.__version__))"
   ]
  },
  {
   "cell_type": "code",
   "execution_count": 2,
   "metadata": {
    "execution": {
     "iopub.execute_input": "2022-12-14T23:28:40.808642Z",
     "iopub.status.busy": "2022-12-14T23:28:40.807885Z",
     "iopub.status.idle": "2022-12-14T23:28:40.824479Z",
     "shell.execute_reply": "2022-12-14T23:28:40.823670Z"
    }
   },
   "outputs": [],
   "source": [
    "# temporary directory\n",
    "temp_dir = TemporaryDirectory()\n",
    "outdir = os.path.join(temp_dir.name, \"shapefile_export\")\n",
    "\n",
    "# load an existing model\n",
    "model_ws = \"../data/freyberg\"\n",
    "m = flopy.modflow.Modflow.load(\n",
    "    \"freyberg.nam\",\n",
    "    model_ws=model_ws,\n",
    "    verbose=False,\n",
    "    check=False,\n",
    "    exe_name=\"mfnwt\",\n",
    ")"
   ]
  },
  {
   "cell_type": "code",
   "execution_count": 3,
   "metadata": {
    "execution": {
     "iopub.execute_input": "2022-12-14T23:28:40.827754Z",
     "iopub.status.busy": "2022-12-14T23:28:40.827276Z",
     "iopub.status.idle": "2022-12-14T23:28:40.835496Z",
     "shell.execute_reply": "2022-12-14T23:28:40.834624Z"
    }
   },
   "outputs": [
    {
     "data": {
      "text/plain": [
       "['DIS', 'BAS6', 'LPF', 'WEL', 'RIV', 'RCH', 'OC', 'PCG']"
      ]
     },
     "execution_count": 3,
     "metadata": {},
     "output_type": "execute_result"
    }
   ],
   "source": [
    "m.get_package_list()"
   ]
  },
  {
   "cell_type": "markdown",
   "metadata": {},
   "source": [
    "### set the model coordinate information\n",
    "the coordinate information where the grid is located in a projected coordinate system (e.g. UTM)"
   ]
  },
  {
   "cell_type": "code",
   "execution_count": 4,
   "metadata": {
    "execution": {
     "iopub.execute_input": "2022-12-14T23:28:40.838978Z",
     "iopub.status.busy": "2022-12-14T23:28:40.838584Z",
     "iopub.status.idle": "2022-12-14T23:28:40.843533Z",
     "shell.execute_reply": "2022-12-14T23:28:40.842593Z"
    }
   },
   "outputs": [],
   "source": [
    "grid = m.modelgrid\n",
    "grid.set_coord_info(xoff=273170, yoff=5088657, epsg=26916)"
   ]
  },
  {
   "cell_type": "code",
   "execution_count": 5,
   "metadata": {
    "execution": {
     "iopub.execute_input": "2022-12-14T23:28:40.847094Z",
     "iopub.status.busy": "2022-12-14T23:28:40.846701Z",
     "iopub.status.idle": "2022-12-14T23:28:40.853268Z",
     "shell.execute_reply": "2022-12-14T23:28:40.852217Z"
    }
   },
   "outputs": [
    {
     "data": {
      "text/plain": [
       "(273170.0, 278170.0, 5088657.0, 5098657.0)"
      ]
     },
     "execution_count": 5,
     "metadata": {},
     "output_type": "execute_result"
    }
   ],
   "source": [
    "grid.extent"
   ]
  },
  {
   "cell_type": "markdown",
   "metadata": {},
   "source": [
    "## Declarative export using attached `.export()` methods\n",
    "#### Export the whole model to a single shapefile"
   ]
  },
  {
   "cell_type": "code",
   "execution_count": 6,
   "metadata": {
    "execution": {
     "iopub.execute_input": "2022-12-14T23:28:40.857963Z",
     "iopub.status.busy": "2022-12-14T23:28:40.857458Z",
     "iopub.status.idle": "2022-12-14T23:28:41.176593Z",
     "shell.execute_reply": "2022-12-14T23:28:41.175532Z"
    },
    "scrolled": true
   },
   "outputs": [
    {
     "name": "stdout",
     "output_type": "stream",
     "text": [
      "wrote /tmp/tmpil2z0yq9/shapefile_export/model.shp\n"
     ]
    },
    {
     "data": {
      "text/plain": [
       "'/tmp/tmpil2z0yq9/shapefile_export/model.shp'"
      ]
     },
     "execution_count": 6,
     "metadata": {},
     "output_type": "execute_result"
    }
   ],
   "source": [
    "fname = \"{}/model.shp\".format(outdir)\n",
    "m.export(fname)"
   ]
  },
  {
   "cell_type": "code",
   "execution_count": 7,
   "metadata": {
    "execution": {
     "iopub.execute_input": "2022-12-14T23:28:41.181336Z",
     "iopub.status.busy": "2022-12-14T23:28:41.181035Z",
     "iopub.status.idle": "2022-12-14T23:28:41.625926Z",
     "shell.execute_reply": "2022-12-14T23:28:41.624801Z"
    }
   },
   "outputs": [
    {
     "data": {
      "image/png": "[encoded data removed]",
      "text/plain": [
       "<Figure size 640x480 with 1 Axes>"
      ]
     },
     "metadata": {},
     "output_type": "display_data"
    }
   ],
   "source": [
    "ax = plt.subplot(1, 1, 1, aspect=\"equal\")\n",
    "extents = grid.extent\n",
    "pc = flopy.plot.plot_shapefile(fname, ax=ax, edgecolor=\"k\", facecolor=\"none\")\n",
    "ax.set_xlim(extents[0], extents[1])\n",
    "ax.set_ylim(extents[2], extents[3])\n",
    "ax.set_title(fname);"
   ]
  },
  {
   "cell_type": "code",
   "execution_count": 8,
   "metadata": {
    "execution": {
     "iopub.execute_input": "2022-12-14T23:28:41.630056Z",
     "iopub.status.busy": "2022-12-14T23:28:41.629510Z",
     "iopub.status.idle": "2022-12-14T23:28:41.718122Z",
     "shell.execute_reply": "2022-12-14T23:28:41.717035Z"
    }
   },
   "outputs": [
    {
     "name": "stdout",
     "output_type": "stream",
     "text": [
      "wrote /tmp/tmpil2z0yq9/shapefile_export/wel.shp\n"
     ]
    }
   ],
   "source": [
    "fname = \"{}/wel.shp\".format(outdir)\n",
    "m.wel.export(fname)"
   ]
  },
  {
   "cell_type": "markdown",
   "metadata": {},
   "source": [
    "### Export a package to a shapefile"
   ]
  },
  {
   "cell_type": "markdown",
   "metadata": {},
   "source": [
    "### Export a FloPy list or array object"
   ]
  },
  {
   "cell_type": "code",
   "execution_count": 9,
   "metadata": {
    "execution": {
     "iopub.execute_input": "2022-12-14T23:28:41.721781Z",
     "iopub.status.busy": "2022-12-14T23:28:41.721509Z",
     "iopub.status.idle": "2022-12-14T23:28:41.727025Z",
     "shell.execute_reply": "2022-12-14T23:28:41.726131Z"
    }
   },
   "outputs": [
    {
     "data": {
      "text/plain": [
       "<flopy.utils.util_array.Util3d at 0x7f90ac0a5350>"
      ]
     },
     "execution_count": 9,
     "metadata": {},
     "output_type": "execute_result"
    }
   ],
   "source": [
    "m.lpf.hk"
   ]
  },
  {
   "cell_type": "code",
   "execution_count": 10,
   "metadata": {
    "execution": {
     "iopub.execute_input": "2022-12-14T23:28:41.731360Z",
     "iopub.status.busy": "2022-12-14T23:28:41.731094Z",
     "iopub.status.idle": "2022-12-14T23:28:41.807254Z",
     "shell.execute_reply": "2022-12-14T23:28:41.806284Z"
    }
   },
   "outputs": [
    {
     "name": "stdout",
     "output_type": "stream",
     "text": [
      "wrote /tmp/tmpil2z0yq9/shapefile_export/hk.shp\n"
     ]
    }
   ],
   "source": [
    "fname = \"{}/hk.shp\".format(outdir)\n",
    "m.lpf.hk.export(\"{}/hk.shp\".format(outdir))"
   ]
  },
  {
   "cell_type": "code",
   "execution_count": 11,
   "metadata": {
    "execution": {
     "iopub.execute_input": "2022-12-14T23:28:41.810994Z",
     "iopub.status.busy": "2022-12-14T23:28:41.810499Z",
     "iopub.status.idle": "2022-12-14T23:28:42.137155Z",
     "shell.execute_reply": "2022-12-14T23:28:42.136310Z"
    }
   },
   "outputs": [
    {
     "data": {
      "image/png": "[encoded data removed]",
      "text/plain": [
       "<Figure size 640x480 with 1 Axes>"
      ]
     },
     "metadata": {},
     "output_type": "display_data"
    }
   ],
   "source": [
    "ax = plt.subplot(1, 1, 1, aspect=\"equal\")\n",
    "extents = grid.extent\n",
    "a = m.lpf.hk.array.ravel()\n",
    "pc = flopy.plot.plot_shapefile(fname, ax=ax, a=a)\n",
    "ax.set_xlim(extents[0], extents[1])\n",
    "ax.set_ylim(extents[2], extents[3])\n",
    "ax.set_title(fname);"
   ]
  },
  {
   "cell_type": "code",
   "execution_count": 12,
   "metadata": {
    "execution": {
     "iopub.execute_input": "2022-12-14T23:28:42.140902Z",
     "iopub.status.busy": "2022-12-14T23:28:42.140317Z",
     "iopub.status.idle": "2022-12-14T23:28:42.145705Z",
     "shell.execute_reply": "2022-12-14T23:28:42.144944Z"
    }
   },
   "outputs": [
    {
     "data": {
      "text/plain": [
       "<flopy.utils.util_list.MfList at 0x7f90b404f450>"
      ]
     },
     "execution_count": 12,
     "metadata": {},
     "output_type": "execute_result"
    }
   ],
   "source": [
    "m.riv.stress_period_data"
   ]
  },
  {
   "cell_type": "code",
   "execution_count": 13,
   "metadata": {
    "execution": {
     "iopub.execute_input": "2022-12-14T23:28:42.149136Z",
     "iopub.status.busy": "2022-12-14T23:28:42.148484Z",
     "iopub.status.idle": "2022-12-14T23:28:42.245091Z",
     "shell.execute_reply": "2022-12-14T23:28:42.244168Z"
    }
   },
   "outputs": [
    {
     "name": "stdout",
     "output_type": "stream",
     "text": [
      "wrote /tmp/tmpil2z0yq9/shapefile_export/riv_spd.shp\n"
     ]
    }
   ],
   "source": [
    "m.riv.stress_period_data.export(\"{}/riv_spd.shp\".format(outdir))"
   ]
  },
  {
   "cell_type": "markdown",
   "metadata": {},
   "source": [
    "### MfList.export() exports the whole grid by default, regardless of the locations of the boundary cells\n",
    "`sparse=True` only exports the boundary cells in the MfList"
   ]
  },
  {
   "cell_type": "code",
   "execution_count": 14,
   "metadata": {
    "execution": {
     "iopub.execute_input": "2022-12-14T23:28:42.248844Z",
     "iopub.status.busy": "2022-12-14T23:28:42.248228Z",
     "iopub.status.idle": "2022-12-14T23:28:42.306265Z",
     "shell.execute_reply": "2022-12-14T23:28:42.305199Z"
    }
   },
   "outputs": [
    {
     "name": "stdout",
     "output_type": "stream",
     "text": [
      "wrote /tmp/tmpil2z0yq9/shapefile_export/riv_spd.shp\n"
     ]
    }
   ],
   "source": [
    "m.riv.stress_period_data.export(\"{}/riv_spd.shp\".format(outdir), sparse=True)"
   ]
  },
  {
   "cell_type": "code",
   "execution_count": 15,
   "metadata": {
    "execution": {
     "iopub.execute_input": "2022-12-14T23:28:42.309593Z",
     "iopub.status.busy": "2022-12-14T23:28:42.309330Z",
     "iopub.status.idle": "2022-12-14T23:28:42.345615Z",
     "shell.execute_reply": "2022-12-14T23:28:42.344711Z"
    }
   },
   "outputs": [
    {
     "name": "stdout",
     "output_type": "stream",
     "text": [
      "wrote /tmp/tmpil2z0yq9/shapefile_export/wel_spd.shp\n"
     ]
    }
   ],
   "source": [
    "m.wel.stress_period_data.export(\"{}/wel_spd.shp\".format(outdir), sparse=True)"
   ]
  },
  {
   "cell_type": "markdown",
   "metadata": {},
   "source": [
    "## Ad-hoc exporting using `recarray2shp`\n",
    "* The main idea is to create a recarray with all of the attribute information, and a list of geometry features (one feature per row in the recarray)\n",
    "* each geometry feature is an instance of the `Point`, `LineString` or `Polygon` classes in `flopy.utils.geometry`. The shapefile format requires all the features to be of the same type.\n",
    "* We will use pandas dataframes for these examples because they are easy to work with, and then convert them to recarrays prior to exporting.\n"
   ]
  },
  {
   "cell_type": "code",
   "execution_count": 16,
   "metadata": {
    "execution": {
     "iopub.execute_input": "2022-12-14T23:28:42.349226Z",
     "iopub.status.busy": "2022-12-14T23:28:42.348958Z",
     "iopub.status.idle": "2022-12-14T23:28:42.354205Z",
     "shell.execute_reply": "2022-12-14T23:28:42.353268Z"
    }
   },
   "outputs": [],
   "source": [
    "from flopy.export.shapefile_utils import recarray2shp"
   ]
  },
  {
   "cell_type": "markdown",
   "metadata": {},
   "source": [
    "### combining data from different packages\n",
    "write a shapefile of RIV and WEL package cells"
   ]
  },
  {
   "cell_type": "code",
   "execution_count": 17,
   "metadata": {
    "execution": {
     "iopub.execute_input": "2022-12-14T23:28:42.357786Z",
     "iopub.status.busy": "2022-12-14T23:28:42.357521Z",
     "iopub.status.idle": "2022-12-14T23:28:42.375617Z",
     "shell.execute_reply": "2022-12-14T23:28:42.374777Z"
    }
   },
   "outputs": [
    {
     "data": {
      "text/html": [
       "<div>\n",
       "<style scoped>\n",
       "    .dataframe tbody tr th:only-of-type {\n",
       "        vertical-align: middle;\n",
       "    }\n",
       "\n",
       "    .dataframe tbody tr th {\n",
       "        vertical-align: top;\n",
       "    }\n",
       "\n",
       "    .dataframe thead th {\n",
       "        text-align: right;\n",
       "    }\n",
       "</style>\n",
       "<table border=\"1\" class=\"dataframe\">\n",
       "  <thead>\n",
       "    <tr style=\"text-align: right;\">\n",
       "      <th></th>\n",
       "      <th>k</th>\n",
       "      <th>i</th>\n",
       "      <th>j</th>\n",
       "      <th>flux</th>\n",
       "      <th>iface</th>\n",
       "      <th>stage</th>\n",
       "      <th>cond</th>\n",
       "      <th>rbot</th>\n",
       "    </tr>\n",
       "  </thead>\n",
       "  <tbody>\n",
       "    <tr>\n",
       "      <th>0</th>\n",
       "      <td>0</td>\n",
       "      <td>8</td>\n",
       "      <td>15</td>\n",
       "      <td>-0.00820</td>\n",
       "      <td>0.0</td>\n",
       "      <td>NaN</td>\n",
       "      <td>NaN</td>\n",
       "      <td>NaN</td>\n",
       "    </tr>\n",
       "    <tr>\n",
       "      <th>1</th>\n",
       "      <td>0</td>\n",
       "      <td>10</td>\n",
       "      <td>12</td>\n",
       "      <td>-0.00410</td>\n",
       "      <td>0.0</td>\n",
       "      <td>NaN</td>\n",
       "      <td>NaN</td>\n",
       "      <td>NaN</td>\n",
       "    </tr>\n",
       "    <tr>\n",
       "      <th>2</th>\n",
       "      <td>0</td>\n",
       "      <td>19</td>\n",
       "      <td>13</td>\n",
       "      <td>-0.00390</td>\n",
       "      <td>0.0</td>\n",
       "      <td>NaN</td>\n",
       "      <td>NaN</td>\n",
       "      <td>NaN</td>\n",
       "    </tr>\n",
       "    <tr>\n",
       "      <th>3</th>\n",
       "      <td>0</td>\n",
       "      <td>25</td>\n",
       "      <td>9</td>\n",
       "      <td>-0.00083</td>\n",
       "      <td>0.0</td>\n",
       "      <td>NaN</td>\n",
       "      <td>NaN</td>\n",
       "      <td>NaN</td>\n",
       "    </tr>\n",
       "    <tr>\n",
       "      <th>4</th>\n",
       "      <td>0</td>\n",
       "      <td>28</td>\n",
       "      <td>5</td>\n",
       "      <td>-0.00072</td>\n",
       "      <td>0.0</td>\n",
       "      <td>NaN</td>\n",
       "      <td>NaN</td>\n",
       "      <td>NaN</td>\n",
       "    </tr>\n",
       "  </tbody>\n",
       "</table>\n",
       "</div>"
      ],
      "text/plain": [
       "   k   i   j     flux  iface  stage  cond  rbot\n",
       "0  0   8  15 -0.00820    0.0    NaN   NaN   NaN\n",
       "1  0  10  12 -0.00410    0.0    NaN   NaN   NaN\n",
       "2  0  19  13 -0.00390    0.0    NaN   NaN   NaN\n",
       "3  0  25   9 -0.00083    0.0    NaN   NaN   NaN\n",
       "4  0  28   5 -0.00072    0.0    NaN   NaN   NaN"
      ]
     },
     "execution_count": 17,
     "metadata": {},
     "output_type": "execute_result"
    }
   ],
   "source": [
    "wellspd = pd.DataFrame(m.wel.stress_period_data[0])\n",
    "rivspd = pd.DataFrame(m.riv.stress_period_data[0])\n",
    "spd = wellspd.append(rivspd)\n",
    "spd.head()"
   ]
  },
  {
   "cell_type": "markdown",
   "metadata": {},
   "source": [
    "##### Create a list of Polygon features from the cell vertices stored in the modelgrid object"
   ]
  },
  {
   "cell_type": "code",
   "execution_count": 18,
   "metadata": {
    "execution": {
     "iopub.execute_input": "2022-12-14T23:28:42.379204Z",
     "iopub.status.busy": "2022-12-14T23:28:42.378586Z",
     "iopub.status.idle": "2022-12-14T23:28:42.387599Z",
     "shell.execute_reply": "2022-12-14T23:28:42.386643Z"
    }
   },
   "outputs": [
    {
     "data": {
      "text/plain": [
       "[<flopy.utils.geometry.Polygon at 0x7f908fddd1d0>,\n",
       " <flopy.utils.geometry.Polygon at 0x7f908fddd710>,\n",
       " <flopy.utils.geometry.Polygon at 0x7f908fddd390>,\n",
       " <flopy.utils.geometry.Polygon at 0x7f908fddd410>,\n",
       " <flopy.utils.geometry.Polygon at 0x7f908fddd090>,\n",
       " <flopy.utils.geometry.Polygon at 0x7f908fdd3510>,\n",
       " <flopy.utils.geometry.Polygon at 0x7f908fdd3810>,\n",
       " <flopy.utils.geometry.Polygon at 0x7f908fdd3350>,\n",
       " <flopy.utils.geometry.Polygon at 0x7f908fdd3ad0>,\n",
       " <flopy.utils.geometry.Polygon at 0x7f908fdd3b90>,\n",
       " <flopy.utils.geometry.Polygon at 0x7f908fdd3b10>,\n",
       " <flopy.utils.geometry.Polygon at 0x7f908fdd3c50>,\n",
       " <flopy.utils.geometry.Polygon at 0x7f908fdd3a50>,\n",
       " <flopy.utils.geometry.Polygon at 0x7f908fdd3c90>,\n",
       " <flopy.utils.geometry.Polygon at 0x7f908fdd3d10>,\n",
       " <flopy.utils.geometry.Polygon at 0x7f908fdd3ed0>,\n",
       " <flopy.utils.geometry.Polygon at 0x7f908fdd3bd0>,\n",
       " <flopy.utils.geometry.Polygon at 0x7f908fdd3410>,\n",
       " <flopy.utils.geometry.Polygon at 0x7f908fdd3f50>,\n",
       " <flopy.utils.geometry.Polygon at 0x7f90c4db3390>,\n",
       " <flopy.utils.geometry.Polygon at 0x7f90ac061490>,\n",
       " <flopy.utils.geometry.Polygon at 0x7f909477b090>,\n",
       " <flopy.utils.geometry.Polygon at 0x7f908fe02650>,\n",
       " <flopy.utils.geometry.Polygon at 0x7f908fe02410>,\n",
       " <flopy.utils.geometry.Polygon at 0x7f908fe02d50>,\n",
       " <flopy.utils.geometry.Polygon at 0x7f908fe02710>,\n",
       " <flopy.utils.geometry.Polygon at 0x7f908fe02150>,\n",
       " <flopy.utils.geometry.Polygon at 0x7f908fe02750>,\n",
       " <flopy.utils.geometry.Polygon at 0x7f908fe02a10>,\n",
       " <flopy.utils.geometry.Polygon at 0x7f90ac6cff50>,\n",
       " <flopy.utils.geometry.Polygon at 0x7f90b40b8d50>,\n",
       " <flopy.utils.geometry.Polygon at 0x7f9092533d90>,\n",
       " <flopy.utils.geometry.Polygon at 0x7f90ac11d410>,\n",
       " <flopy.utils.geometry.Polygon at 0x7f90ac6dd0d0>,\n",
       " <flopy.utils.geometry.Polygon at 0x7f908fe02210>,\n",
       " <flopy.utils.geometry.Polygon at 0x7f909007c910>,\n",
       " <flopy.utils.geometry.Polygon at 0x7f909007cf10>,\n",
       " <flopy.utils.geometry.Polygon at 0x7f909007c290>,\n",
       " <flopy.utils.geometry.Polygon at 0x7f909007cc50>,\n",
       " <flopy.utils.geometry.Polygon at 0x7f908ffceb50>,\n",
       " <flopy.utils.geometry.Polygon at 0x7f909007ccd0>,\n",
       " <flopy.utils.geometry.Polygon at 0x7f90ac070390>,\n",
       " <flopy.utils.geometry.Polygon at 0x7f90ac070550>,\n",
       " <flopy.utils.geometry.Polygon at 0x7f90ac060d50>,\n",
       " <flopy.utils.geometry.Polygon at 0x7f90ac060850>,\n",
       " <flopy.utils.geometry.Polygon at 0x7f908fe49750>]"
      ]
     },
     "execution_count": 18,
     "metadata": {},
     "output_type": "execute_result"
    }
   ],
   "source": [
    "from flopy.utils.geometry import Polygon\n",
    "\n",
    "vertices = []\n",
    "for row, col in zip(spd.i, spd.j):\n",
    "    vertices.append(grid.get_cell_vertices(row, col))\n",
    "polygons = [Polygon(vrt) for vrt in vertices]\n",
    "polygons"
   ]
  },
  {
   "cell_type": "markdown",
   "metadata": {},
   "source": [
    "##### write the shapefile"
   ]
  },
  {
   "cell_type": "code",
   "execution_count": 19,
   "metadata": {
    "execution": {
     "iopub.execute_input": "2022-12-14T23:28:42.392065Z",
     "iopub.status.busy": "2022-12-14T23:28:42.391431Z",
     "iopub.status.idle": "2022-12-14T23:28:42.409662Z",
     "shell.execute_reply": "2022-12-14T23:28:42.408858Z"
    }
   },
   "outputs": [
    {
     "name": "stdout",
     "output_type": "stream",
     "text": [
      "wrote /tmp/tmpil2z0yq9/shapefile_export/bcs.shp\n"
     ]
    }
   ],
   "source": [
    "fname = \"{}/bcs.shp\".format(outdir)\n",
    "recarray2shp(spd.to_records(), geoms=polygons, shpname=fname, epsg=grid.epsg)"
   ]
  },
  {
   "cell_type": "code",
   "execution_count": 20,
   "metadata": {
    "execution": {
     "iopub.execute_input": "2022-12-14T23:28:42.413503Z",
     "iopub.status.busy": "2022-12-14T23:28:42.413032Z",
     "iopub.status.idle": "2022-12-14T23:28:42.557927Z",
     "shell.execute_reply": "2022-12-14T23:28:42.557100Z"
    }
   },
   "outputs": [
    {
     "data": {
      "image/png": "[encoded data removed]",
      "text/plain": [
       "<Figure size 640x480 with 1 Axes>"
      ]
     },
     "metadata": {},
     "output_type": "display_data"
    }
   ],
   "source": [
    "ax = plt.subplot(1, 1, 1, aspect=\"equal\")\n",
    "extents = grid.extent\n",
    "pc = flopy.plot.plot_shapefile(fname, ax=ax)\n",
    "ax.set_xlim(extents[0], extents[1])\n",
    "ax.set_ylim(extents[2], extents[3])\n",
    "ax.set_title(fname);"
   ]
  },
  {
   "cell_type": "markdown",
   "metadata": {},
   "source": [
    "### exporting other data\n",
    "Suppose we have some well data with actual locations that we want to export to a shapefile"
   ]
  },
  {
   "cell_type": "code",
   "execution_count": 21,
   "metadata": {
    "execution": {
     "iopub.execute_input": "2022-12-14T23:28:42.561647Z",
     "iopub.status.busy": "2022-12-14T23:28:42.561250Z",
     "iopub.status.idle": "2022-12-14T23:28:42.575364Z",
     "shell.execute_reply": "2022-12-14T23:28:42.574567Z"
    }
   },
   "outputs": [
    {
     "data": {
      "text/html": [
       "<div>\n",
       "<style scoped>\n",
       "    .dataframe tbody tr th:only-of-type {\n",
       "        vertical-align: middle;\n",
       "    }\n",
       "\n",
       "    .dataframe tbody tr th {\n",
       "        vertical-align: top;\n",
       "    }\n",
       "\n",
       "    .dataframe thead th {\n",
       "        text-align: right;\n",
       "    }\n",
       "</style>\n",
       "<table border=\"1\" class=\"dataframe\">\n",
       "  <thead>\n",
       "    <tr style=\"text-align: right;\">\n",
       "      <th></th>\n",
       "      <th>wellID</th>\n",
       "      <th>q</th>\n",
       "      <th>x_utm</th>\n",
       "      <th>y_utm</th>\n",
       "    </tr>\n",
       "  </thead>\n",
       "  <tbody>\n",
       "    <tr>\n",
       "      <th>0</th>\n",
       "      <td>0</td>\n",
       "      <td>-894.941139</td>\n",
       "      <td>273833.820480</td>\n",
       "      <td>5.095398e+06</td>\n",
       "    </tr>\n",
       "    <tr>\n",
       "      <th>1</th>\n",
       "      <td>1</td>\n",
       "      <td>-1104.459745</td>\n",
       "      <td>274549.879136</td>\n",
       "      <td>5.093650e+06</td>\n",
       "    </tr>\n",
       "    <tr>\n",
       "      <th>2</th>\n",
       "      <td>2</td>\n",
       "      <td>-1081.168228</td>\n",
       "      <td>276628.136823</td>\n",
       "      <td>5.097850e+06</td>\n",
       "    </tr>\n",
       "    <tr>\n",
       "      <th>3</th>\n",
       "      <td>3</td>\n",
       "      <td>-926.902272</td>\n",
       "      <td>275570.164247</td>\n",
       "      <td>5.095393e+06</td>\n",
       "    </tr>\n",
       "    <tr>\n",
       "      <th>4</th>\n",
       "      <td>4</td>\n",
       "      <td>-1012.312403</td>\n",
       "      <td>277047.341050</td>\n",
       "      <td>5.094098e+06</td>\n",
       "    </tr>\n",
       "  </tbody>\n",
       "</table>\n",
       "</div>"
      ],
      "text/plain": [
       "   wellID            q          x_utm         y_utm\n",
       "0       0  -894.941139  273833.820480  5.095398e+06\n",
       "1       1 -1104.459745  274549.879136  5.093650e+06\n",
       "2       2 -1081.168228  276628.136823  5.097850e+06\n",
       "3       3  -926.902272  275570.164247  5.095393e+06\n",
       "4       4 -1012.312403  277047.341050  5.094098e+06"
      ]
     },
     "execution_count": 21,
     "metadata": {},
     "output_type": "execute_result"
    }
   ],
   "source": [
    "welldata = pd.DataFrame(\n",
    "    {\n",
    "        \"wellID\": np.arange(0, 10),\n",
    "        \"q\": np.random.randn(10) * 100 - 1000,\n",
    "        \"x_utm\": np.random.rand(10) * 5000 + grid.xoffset,\n",
    "        \"y_utm\": grid.yoffset + np.random.rand(10) * 10000,\n",
    "    }\n",
    ")\n",
    "welldata.head()"
   ]
  },
  {
   "cell_type": "markdown",
   "metadata": {},
   "source": [
    "##### convert the x, y coorindates to point features and then export"
   ]
  },
  {
   "cell_type": "code",
   "execution_count": 22,
   "metadata": {
    "execution": {
     "iopub.execute_input": "2022-12-14T23:28:42.578839Z",
     "iopub.status.busy": "2022-12-14T23:28:42.578312Z",
     "iopub.status.idle": "2022-12-14T23:28:42.587118Z",
     "shell.execute_reply": "2022-12-14T23:28:42.586319Z"
    }
   },
   "outputs": [
    {
     "name": "stdout",
     "output_type": "stream",
     "text": [
      "wrote /tmp/tmpil2z0yq9/shapefile_export/wel_data.shp\n"
     ]
    }
   ],
   "source": [
    "from flopy.utils.geometry import Point\n",
    "\n",
    "geoms = [Point(x, y) for x, y in zip(welldata.x_utm, welldata.y_utm)]\n",
    "\n",
    "fname = \"{}/wel_data.shp\".format(outdir)\n",
    "recarray2shp(welldata.to_records(), geoms=geoms, shpname=fname, epsg=grid.epsg)"
   ]
  },
  {
   "cell_type": "code",
   "execution_count": 23,
   "metadata": {
    "execution": {
     "iopub.execute_input": "2022-12-14T23:28:42.590235Z",
     "iopub.status.busy": "2022-12-14T23:28:42.589970Z",
     "iopub.status.idle": "2022-12-14T23:28:42.729244Z",
     "shell.execute_reply": "2022-12-14T23:28:42.728396Z"
    }
   },
   "outputs": [
    {
     "data": {
      "image/png": "[encoded data removed]",
      "text/plain": [
       "<Figure size 640x480 with 1 Axes>"
      ]
     },
     "metadata": {},
     "output_type": "display_data"
    }
   ],
   "source": [
    "ax = plt.subplot(1, 1, 1, aspect=\"equal\")\n",
    "extents = grid.extent\n",
    "pc = flopy.plot.plot_shapefile(fname, ax=ax, radius=100)\n",
    "ax.set_xlim(extents[0], extents[1])\n",
    "ax.set_ylim(extents[2], extents[3])\n",
    "ax.set_title(fname);"
   ]
  },
  {
   "cell_type": "markdown",
   "metadata": {},
   "source": [
    "### Adding attribute data to an existing shapefile\n",
    "Suppose we have a GIS coverage representing the river in the riv package"
   ]
  },
  {
   "cell_type": "code",
   "execution_count": 24,
   "metadata": {
    "execution": {
     "iopub.execute_input": "2022-12-14T23:28:42.732834Z",
     "iopub.status.busy": "2022-12-14T23:28:42.732273Z",
     "iopub.status.idle": "2022-12-14T23:28:42.751038Z",
     "shell.execute_reply": "2022-12-14T23:28:42.750239Z"
    }
   },
   "outputs": [
    {
     "name": "stdout",
     "output_type": "stream",
     "text": [
      "wrote /tmp/tmpil2z0yq9/shapefile_export/riv_reaches.shp\n"
     ]
    }
   ],
   "source": [
    "from flopy.utils.geometry import LineString\n",
    "\n",
    "### make up a linestring shapefile of the river reaches\n",
    "i, j = m.riv.stress_period_data[0].i, m.riv.stress_period_data[0].j\n",
    "x0 = grid.xyzcellcenters[0][i[0], j[0]]\n",
    "x1 = grid.xyzcellcenters[0][i[-1], j[-1]]\n",
    "y0 = grid.xyzcellcenters[1][i[0], j[0]]\n",
    "y1 = grid.xyzcellcenters[1][i[-1], j[-1]]\n",
    "x = np.linspace(x0, x1, m.nrow + 1)\n",
    "y = np.linspace(y0, y1, m.nrow + 1)\n",
    "l0 = zip(list(zip(x[:-1], y[:-1])), list(zip(x[1:], y[1:])))\n",
    "lines = [LineString(l) for l in l0]\n",
    "\n",
    "rivdata = pd.DataFrame(m.riv.stress_period_data[0])\n",
    "rivdata[\"reach\"] = np.arange(len(lines))\n",
    "lines_shapefile = \"{}/riv_reaches.shp\".format(outdir)\n",
    "recarray2shp(\n",
    "    rivdata.to_records(index=False),\n",
    "    geoms=lines,\n",
    "    shpname=lines_shapefile,\n",
    "    epsg=grid.epsg,\n",
    ")"
   ]
  },
  {
   "cell_type": "code",
   "execution_count": 25,
   "metadata": {
    "execution": {
     "iopub.execute_input": "2022-12-14T23:28:42.754587Z",
     "iopub.status.busy": "2022-12-14T23:28:42.753900Z",
     "iopub.status.idle": "2022-12-14T23:28:42.896195Z",
     "shell.execute_reply": "2022-12-14T23:28:42.895301Z"
    }
   },
   "outputs": [
    {
     "data": {
      "image/png": "[encoded data removed]",
      "text/plain": [
       "<Figure size 640x480 with 1 Axes>"
      ]
     },
     "metadata": {},
     "output_type": "display_data"
    }
   ],
   "source": [
    "ax = plt.subplot(1, 1, 1, aspect=\"equal\")\n",
    "extents = grid.extent\n",
    "pc = flopy.plot.plot_shapefile(lines_shapefile, ax=ax, radius=25)\n",
    "ax.set_xlim(extents[0], extents[1])\n",
    "ax.set_ylim(extents[2], extents[3])\n",
    "ax.set_title(lines_shapefile);"
   ]
  },
  {
   "cell_type": "markdown",
   "metadata": {},
   "source": [
    "#### read in the GIS coverage using `shp2recarray`\n",
    "`shp2recarray` reads a shapefile into a numpy record array, which can easily be converted to a DataFrame"
   ]
  },
  {
   "cell_type": "code",
   "execution_count": 26,
   "metadata": {
    "execution": {
     "iopub.execute_input": "2022-12-14T23:28:42.899986Z",
     "iopub.status.busy": "2022-12-14T23:28:42.899428Z",
     "iopub.status.idle": "2022-12-14T23:28:42.903431Z",
     "shell.execute_reply": "2022-12-14T23:28:42.902580Z"
    }
   },
   "outputs": [],
   "source": [
    "from flopy.export.shapefile_utils import shp2recarray"
   ]
  },
  {
   "cell_type": "code",
   "execution_count": 27,
   "metadata": {
    "execution": {
     "iopub.execute_input": "2022-12-14T23:28:42.907250Z",
     "iopub.status.busy": "2022-12-14T23:28:42.906670Z",
     "iopub.status.idle": "2022-12-14T23:28:42.924800Z",
     "shell.execute_reply": "2022-12-14T23:28:42.923731Z"
    }
   },
   "outputs": [
    {
     "data": {
      "text/html": [
       "<div>\n",
       "<style scoped>\n",
       "    .dataframe tbody tr th:only-of-type {\n",
       "        vertical-align: middle;\n",
       "    }\n",
       "\n",
       "    .dataframe tbody tr th {\n",
       "        vertical-align: top;\n",
       "    }\n",
       "\n",
       "    .dataframe thead th {\n",
       "        text-align: right;\n",
       "    }\n",
       "</style>\n",
       "<table border=\"1\" class=\"dataframe\">\n",
       "  <thead>\n",
       "    <tr style=\"text-align: right;\">\n",
       "      <th></th>\n",
       "      <th>k</th>\n",
       "      <th>i</th>\n",
       "      <th>j</th>\n",
       "      <th>stage</th>\n",
       "      <th>cond</th>\n",
       "      <th>rbot</th>\n",
       "      <th>iface</th>\n",
       "      <th>reach</th>\n",
       "      <th>geometry</th>\n",
       "    </tr>\n",
       "  </thead>\n",
       "  <tbody>\n",
       "    <tr>\n",
       "      <th>0</th>\n",
       "      <td>0</td>\n",
       "      <td>0</td>\n",
       "      <td>14</td>\n",
       "      <td>20.100000</td>\n",
       "      <td>0.05</td>\n",
       "      <td>20.00</td>\n",
       "      <td>0.0</td>\n",
       "      <td>0</td>\n",
       "      <td>&lt;flopy.utils.geometry.LineString object at 0x7...</td>\n",
       "    </tr>\n",
       "    <tr>\n",
       "      <th>1</th>\n",
       "      <td>0</td>\n",
       "      <td>1</td>\n",
       "      <td>14</td>\n",
       "      <td>19.870001</td>\n",
       "      <td>0.05</td>\n",
       "      <td>19.75</td>\n",
       "      <td>0.0</td>\n",
       "      <td>1</td>\n",
       "      <td>&lt;flopy.utils.geometry.LineString object at 0x7...</td>\n",
       "    </tr>\n",
       "    <tr>\n",
       "      <th>2</th>\n",
       "      <td>0</td>\n",
       "      <td>2</td>\n",
       "      <td>14</td>\n",
       "      <td>19.650000</td>\n",
       "      <td>0.05</td>\n",
       "      <td>19.50</td>\n",
       "      <td>0.0</td>\n",
       "      <td>2</td>\n",
       "      <td>&lt;flopy.utils.geometry.LineString object at 0x7...</td>\n",
       "    </tr>\n",
       "    <tr>\n",
       "      <th>3</th>\n",
       "      <td>0</td>\n",
       "      <td>3</td>\n",
       "      <td>14</td>\n",
       "      <td>19.420000</td>\n",
       "      <td>0.05</td>\n",
       "      <td>19.25</td>\n",
       "      <td>0.0</td>\n",
       "      <td>3</td>\n",
       "      <td>&lt;flopy.utils.geometry.LineString object at 0x7...</td>\n",
       "    </tr>\n",
       "    <tr>\n",
       "      <th>4</th>\n",
       "      <td>0</td>\n",
       "      <td>4</td>\n",
       "      <td>14</td>\n",
       "      <td>19.190001</td>\n",
       "      <td>0.05</td>\n",
       "      <td>19.00</td>\n",
       "      <td>0.0</td>\n",
       "      <td>4</td>\n",
       "      <td>&lt;flopy.utils.geometry.LineString object at 0x7...</td>\n",
       "    </tr>\n",
       "  </tbody>\n",
       "</table>\n",
       "</div>"
      ],
      "text/plain": [
       "   k  i   j      stage  cond   rbot  iface  reach  \\\n",
       "0  0  0  14  20.100000  0.05  20.00    0.0      0   \n",
       "1  0  1  14  19.870001  0.05  19.75    0.0      1   \n",
       "2  0  2  14  19.650000  0.05  19.50    0.0      2   \n",
       "3  0  3  14  19.420000  0.05  19.25    0.0      3   \n",
       "4  0  4  14  19.190001  0.05  19.00    0.0      4   \n",
       "\n",
       "                                            geometry  \n",
       "0  <flopy.utils.geometry.LineString object at 0x7...  \n",
       "1  <flopy.utils.geometry.LineString object at 0x7...  \n",
       "2  <flopy.utils.geometry.LineString object at 0x7...  \n",
       "3  <flopy.utils.geometry.LineString object at 0x7...  \n",
       "4  <flopy.utils.geometry.LineString object at 0x7...  "
      ]
     },
     "execution_count": 27,
     "metadata": {},
     "output_type": "execute_result"
    }
   ],
   "source": [
    "linesdata = shp2recarray(lines_shapefile)\n",
    "linesdata = pd.DataFrame(linesdata)\n",
    "linesdata.head()"
   ]
  },
  {
   "cell_type": "markdown",
   "metadata": {},
   "source": [
    "##### Suppose we have some flow information that we read in from the cell budget file"
   ]
  },
  {
   "cell_type": "code",
   "execution_count": 28,
   "metadata": {
    "execution": {
     "iopub.execute_input": "2022-12-14T23:28:42.928585Z",
     "iopub.status.busy": "2022-12-14T23:28:42.928048Z",
     "iopub.status.idle": "2022-12-14T23:28:42.934059Z",
     "shell.execute_reply": "2022-12-14T23:28:42.933267Z"
    }
   },
   "outputs": [
    {
     "data": {
      "text/plain": [
       "array([ 0.87690994,  1.06599152,  1.84040125,  1.11120666,  2.31318975,\n",
       "        0.65628059,  0.33127564,  0.93826732,  0.63749908,  2.58886928,\n",
       "        1.70843197,  0.6587709 ,  1.89931357, -0.06014907,  0.81779552,\n",
       "       -0.70425087, -0.28266178,  0.34130388,  1.18880198,  2.37225917,\n",
       "        0.72434492, -0.19009008,  1.61472808, -0.4738987 ,  1.63683214,\n",
       "        1.43949147,  2.37836663,  1.10416443,  0.20747665,  0.96836885,\n",
       "        1.20351043,  0.17101452,  0.69068226,  0.75316711,  1.0760166 ,\n",
       "        0.38266925, -0.03481263,  1.31333197,  0.25158196,  1.23209051])"
      ]
     },
     "execution_count": 28,
     "metadata": {},
     "output_type": "execute_result"
    }
   ],
   "source": [
    "# make up some fluxes between the river and aquifer at each reach\n",
    "q = np.random.randn(len(linesdata)) + 1\n",
    "q"
   ]
  },
  {
   "cell_type": "markdown",
   "metadata": {},
   "source": [
    "##### Add reachs fluxes and cumulative flow to lines DataFrame"
   ]
  },
  {
   "cell_type": "code",
   "execution_count": 29,
   "metadata": {
    "execution": {
     "iopub.execute_input": "2022-12-14T23:28:42.937730Z",
     "iopub.status.busy": "2022-12-14T23:28:42.937201Z",
     "iopub.status.idle": "2022-12-14T23:28:42.942141Z",
     "shell.execute_reply": "2022-12-14T23:28:42.941235Z"
    }
   },
   "outputs": [],
   "source": [
    "linesdata[\"qreach\"] = q\n",
    "linesdata[\"qstream\"] = np.cumsum(q)"
   ]
  },
  {
   "cell_type": "code",
   "execution_count": 30,
   "metadata": {
    "execution": {
     "iopub.execute_input": "2022-12-14T23:28:42.945657Z",
     "iopub.status.busy": "2022-12-14T23:28:42.945018Z",
     "iopub.status.idle": "2022-12-14T23:28:42.959132Z",
     "shell.execute_reply": "2022-12-14T23:28:42.958329Z"
    }
   },
   "outputs": [
    {
     "name": "stdout",
     "output_type": "stream",
     "text": [
      "wrote /tmp/tmpil2z0yq9/shapefile_export/riv_reaches.shp\n"
     ]
    }
   ],
   "source": [
    "recarray2shp(\n",
    "    linesdata.drop(\"geometry\", axis=1).to_records(),\n",
    "    geoms=linesdata.geometry.values,\n",
    "    shpname=lines_shapefile,\n",
    "    epsg=grid.epsg,\n",
    ")"
   ]
  },
  {
   "cell_type": "code",
   "execution_count": 31,
   "metadata": {
    "execution": {
     "iopub.execute_input": "2022-12-14T23:28:42.962732Z",
     "iopub.status.busy": "2022-12-14T23:28:42.962200Z",
     "iopub.status.idle": "2022-12-14T23:28:43.122112Z",
     "shell.execute_reply": "2022-12-14T23:28:43.121203Z"
    }
   },
   "outputs": [
    {
     "data": {
      "image/png": "[encoded data removed]",
      "text/plain": [
       "<Figure size 640x480 with 1 Axes>"
      ]
     },
     "metadata": {},
     "output_type": "display_data"
    }
   ],
   "source": [
    "ax = plt.subplot(1, 1, 1, aspect=\"equal\")\n",
    "extents = grid.extent\n",
    "pc = flopy.plot.plot_shapefile(lines_shapefile, ax=ax, radius=25)\n",
    "ax.set_xlim(extents[0], extents[1])\n",
    "ax.set_ylim(extents[2], extents[3])\n",
    "ax.set_title(lines_shapefile);"
   ]
  },
  {
   "cell_type": "markdown",
   "metadata": {},
   "source": [
    "## Overriding the model's modelgrid with a user supplied modelgrid\n",
    "\n",
    "In some cases it may be necessary to override the model's modelgrid instance with a seperate modelgrid. An example of this is if the model discretization is in feet and the user would like it projected in meters. Exporting can be accomplished by supplying a modelgrid as a `kwarg` in any of the `export()` methods within flopy. Below is an example:"
   ]
  },
  {
   "cell_type": "code",
   "execution_count": 32,
   "metadata": {
    "execution": {
     "iopub.execute_input": "2022-12-14T23:28:43.126007Z",
     "iopub.status.busy": "2022-12-14T23:28:43.125440Z",
     "iopub.status.idle": "2022-12-14T23:28:43.343551Z",
     "shell.execute_reply": "2022-12-14T23:28:43.342629Z"
    }
   },
   "outputs": [
    {
     "name": "stdout",
     "output_type": "stream",
     "text": [
      "wrote /tmp/tmpil2z0yq9/shapefile_export/freyberg.shp\n"
     ]
    },
    {
     "data": {
      "text/plain": [
       "'/tmp/tmpil2z0yq9/shapefile_export/freyberg.shp'"
      ]
     },
     "execution_count": 32,
     "metadata": {},
     "output_type": "execute_result"
    }
   ],
   "source": [
    "mg0 = m.modelgrid\n",
    "\n",
    "# build a new modelgrid instance with discretization in meters\n",
    "modelgrid = flopy.discretization.StructuredGrid(\n",
    "    delc=mg0.delc * 0.3048,\n",
    "    delr=mg0.delr * 0.3048,\n",
    "    top=mg0.top,\n",
    "    botm=mg0.botm,\n",
    "    idomain=mg0.idomain,\n",
    "    xoff=mg0.xoffset * 0.3048,\n",
    "    yoff=mg0.yoffset * 0.3048,\n",
    ")\n",
    "\n",
    "# exporting an entire model\n",
    "m.export(\"{}/freyberg.shp\".format(outdir), modelgrid=modelgrid)"
   ]
  },
  {
   "cell_type": "markdown",
   "metadata": {},
   "source": [
    "And for a specific parameter the method is the same"
   ]
  },
  {
   "cell_type": "code",
   "execution_count": 33,
   "metadata": {
    "execution": {
     "iopub.execute_input": "2022-12-14T23:28:43.347061Z",
     "iopub.status.busy": "2022-12-14T23:28:43.346800Z",
     "iopub.status.idle": "2022-12-14T23:28:43.423873Z",
     "shell.execute_reply": "2022-12-14T23:28:43.423012Z"
    }
   },
   "outputs": [
    {
     "name": "stdout",
     "output_type": "stream",
     "text": [
      "wrote /tmp/tmpil2z0yq9/shapefile_export/hk.shp\n"
     ]
    }
   ],
   "source": [
    "fname = \"{}/hk.shp\".format(outdir)\n",
    "m.lpf.hk.export(fname, modelgrid=modelgrid)"
   ]
  },
  {
   "cell_type": "code",
   "execution_count": 34,
   "metadata": {
    "execution": {
     "iopub.execute_input": "2022-12-14T23:28:43.426975Z",
     "iopub.status.busy": "2022-12-14T23:28:43.426720Z",
     "iopub.status.idle": "2022-12-14T23:28:43.750431Z",
     "shell.execute_reply": "2022-12-14T23:28:43.749574Z"
    }
   },
   "outputs": [
    {
     "data": {
      "image/png": "[encoded data removed]",
      "text/plain": [
       "<Figure size 640x480 with 1 Axes>"
      ]
     },
     "metadata": {},
     "output_type": "display_data"
    }
   ],
   "source": [
    "ax = plt.subplot(1, 1, 1, aspect=\"equal\")\n",
    "extents = modelgrid.extent\n",
    "a = m.lpf.hk.array.ravel()\n",
    "pc = flopy.plot.plot_shapefile(fname, ax=ax, a=a)\n",
    "ax.set_xlim(extents[0], extents[1])\n",
    "ax.set_ylim(extents[2], extents[3])\n",
    "ax.set_title(fname);"
   ]
  },
  {
   "cell_type": "code",
   "execution_count": 35,
   "metadata": {
    "execution": {
     "iopub.execute_input": "2022-12-14T23:28:43.754131Z",
     "iopub.status.busy": "2022-12-14T23:28:43.753826Z",
     "iopub.status.idle": "2022-12-14T23:28:43.759442Z",
     "shell.execute_reply": "2022-12-14T23:28:43.758397Z"
    }
   },
   "outputs": [],
   "source": [
    "try:\n",
    "    # ignore PermissionError on Windows\n",
    "    temp_dir.cleanup()\n",
    "except:\n",
    "    pass\n"
   ]
  }
 ],
 "metadata": {
  "kernelspec": {
   "display_name": "Python 3",
   "language": "python",
   "name": "python3"
  },
  "language_info": {
   "codemirror_mode": {
    "name": "ipython",
    "version": 3
   },
   "file_extension": ".py",
   "mimetype": "text/x-python",
   "name": "python",
   "nbconvert_exporter": "python",
   "pygments_lexer": "ipython3",
   "version": "3.7.15"
  }
 },
 "nbformat": 4,
 "nbformat_minor": 4
}
