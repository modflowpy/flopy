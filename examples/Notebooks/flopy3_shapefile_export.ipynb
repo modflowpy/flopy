{
 "cells": [
  {
   "cell_type": "markdown",
   "metadata": {},
   "source": [
    "# FloPy shapefile export demo\n",
    "The goal of this notebook is to demonstrate ways to export model information to shapefiles.\n",
    "This example will cover:\n",
    "* basic exporting of information for a model, individual package, or dataset\n",
    "* custom exporting of combined data from different packages\n",
    "* general exporting and importing of geographic data from other sources"
   ]
  },
  {
   "cell_type": "code",
   "execution_count": 1,
   "metadata": {},
   "outputs": [
    {
     "name": "stdout",
     "output_type": "stream",
     "text": [
      "3.7.7 (default, Mar 26 2020, 10:32:53) \n",
      "[Clang 4.0.1 (tags/RELEASE_401/final)]\n",
      "numpy version: 1.19.2\n",
      "matplotlib version: 3.3.0\n",
      "flopy version: 3.3.2\n"
     ]
    }
   ],
   "source": [
    "import sys\n",
    "import os\n",
    "import numpy as np\n",
    "import matplotlib as mpl\n",
    "import matplotlib.pyplot as plt\n",
    "import pandas as pd\n",
    "\n",
    "# run installed version of flopy or add local path\n",
    "try:\n",
    "    import flopy\n",
    "except:\n",
    "    fpth = os.path.abspath(os.path.join('..', '..'))\n",
    "    sys.path.append(fpth)\n",
    "    import flopy\n",
    "    \n",
    "print(sys.version)\n",
    "print('numpy version: {}'.format(np.__version__))\n",
    "print('matplotlib version: {}'.format(mpl.__version__))\n",
    "print('flopy version: {}'.format(flopy.__version__))"
   ]
  },
  {
   "cell_type": "code",
   "execution_count": 2,
   "metadata": {},
   "outputs": [],
   "source": [
    "# set the output directory\n",
    "outdir = os.path.join('temp', 'shapefile_export')\n",
    "if not os.path.isdir(outdir):\n",
    "    os.makedirs(outdir)\n",
    "\n",
    "# load an existing model\n",
    "model_ws = \"../data/freyberg\"\n",
    "m = flopy.modflow.Modflow.load(\"freyberg.nam\", model_ws=model_ws, verbose=False,\n",
    "                               check=False, exe_name=\"mfnwt\")"
   ]
  },
  {
   "cell_type": "code",
   "execution_count": 3,
   "metadata": {},
   "outputs": [
    {
     "data": {
      "text/plain": [
       "['DIS', 'BAS6', 'LPF', 'WEL', 'RIV', 'RCH', 'OC', 'PCG']"
      ]
     },
     "execution_count": 3,
     "metadata": {},
     "output_type": "execute_result"
    }
   ],
   "source": [
    "m.get_package_list()"
   ]
  },
  {
   "cell_type": "markdown",
   "metadata": {},
   "source": [
    "### set the model coordinate information\n",
    "the coordinate information where the grid is located in a projected coordinate system (e.g. UTM)"
   ]
  },
  {
   "cell_type": "code",
   "execution_count": 4,
   "metadata": {},
   "outputs": [],
   "source": [
    "grid = m.modelgrid\n",
    "grid.set_coord_info(xoff=273170, yoff=5088657, epsg=26916)"
   ]
  },
  {
   "cell_type": "code",
   "execution_count": 5,
   "metadata": {},
   "outputs": [
    {
     "data": {
      "text/plain": [
       "(273170.0, 278170.0, 5088657.0, 5098657.0)"
      ]
     },
     "execution_count": 5,
     "metadata": {},
     "output_type": "execute_result"
    }
   ],
   "source": [
    "grid.extent"
   ]
  },
  {
   "cell_type": "markdown",
   "metadata": {},
   "source": [
    "## Declarative export using attached `.export()` methods\n",
    "#### Export the whole model to a single shapefile"
   ]
  },
  {
   "cell_type": "code",
   "execution_count": 6,
   "metadata": {
    "scrolled": true
   },
   "outputs": [
    {
     "name": "stdout",
     "output_type": "stream",
     "text": [
      "wrote temp/shapefile_export/model.shp\n"
     ]
    },
    {
     "data": {
      "text/plain": [
       "'temp/shapefile_export/model.shp'"
      ]
     },
     "execution_count": 6,
     "metadata": {},
     "output_type": "execute_result"
    }
   ],
   "source": [
    "fname = '{}/model.shp'.format(outdir)\n",
    "m.export(fname)"
   ]
  },
  {
   "cell_type": "code",
   "execution_count": 7,
   "metadata": {},
   "outputs": [
    {
     "data": {
      "image/png": "[encoded data removed]",
      "text/plain": [
       "<Figure size 432x288 with 1 Axes>"
      ]
     },
     "metadata": {
      "needs_background": "light"
     },
     "output_type": "display_data"
    }
   ],
   "source": [
    "ax = plt.subplot(1, 1, 1, aspect='equal')\n",
    "extents = grid.extent\n",
    "pc = flopy.plot.plot_shapefile(fname, ax=ax, edgecolor='k', facecolor='none')\n",
    "ax.set_xlim(extents[0], extents[1])\n",
    "ax.set_ylim(extents[2], extents[3])\n",
    "ax.set_title(fname);"
   ]
  },
  {
   "cell_type": "code",
   "execution_count": 8,
   "metadata": {},
   "outputs": [
    {
     "name": "stdout",
     "output_type": "stream",
     "text": [
      "wrote temp/shapefile_export/wel.shp\n"
     ]
    }
   ],
   "source": [
    "fname = '{}/wel.shp'.format(outdir)\n",
    "m.wel.export(fname)"
   ]
  },
  {
   "cell_type": "markdown",
   "metadata": {},
   "source": [
    "### Export a package to a shapefile"
   ]
  },
  {
   "cell_type": "markdown",
   "metadata": {},
   "source": [
    "### Export a FloPy list or array object"
   ]
  },
  {
   "cell_type": "code",
   "execution_count": 9,
   "metadata": {},
   "outputs": [
    {
     "data": {
      "text/plain": [
       "<flopy.utils.util_array.Util3d at 0x122a69510>"
      ]
     },
     "execution_count": 9,
     "metadata": {},
     "output_type": "execute_result"
    }
   ],
   "source": [
    "m.lpf.hk"
   ]
  },
  {
   "cell_type": "code",
   "execution_count": 10,
   "metadata": {},
   "outputs": [
    {
     "name": "stdout",
     "output_type": "stream",
     "text": [
      "wrote temp/shapefile_export/hk.shp\n"
     ]
    }
   ],
   "source": [
    "fname = '{}/hk.shp'.format(outdir)\n",
    "m.lpf.hk.export('{}/hk.shp'.format(outdir))"
   ]
  },
  {
   "cell_type": "code",
   "execution_count": 11,
   "metadata": {},
   "outputs": [
    {
     "data": {
      "image/png": "[encoded data removed]",
      "text/plain": [
       "<Figure size 432x288 with 1 Axes>"
      ]
     },
     "metadata": {
      "needs_background": "light"
     },
     "output_type": "display_data"
    }
   ],
   "source": [
    "ax = plt.subplot(1, 1, 1, aspect='equal')\n",
    "extents = grid.extent\n",
    "a = m.lpf.hk.array.ravel()\n",
    "pc = flopy.plot.plot_shapefile(fname, ax=ax, a=a)\n",
    "ax.set_xlim(extents[0], extents[1])\n",
    "ax.set_ylim(extents[2], extents[3])\n",
    "ax.set_title(fname);"
   ]
  },
  {
   "cell_type": "code",
   "execution_count": 12,
   "metadata": {},
   "outputs": [
    {
     "data": {
      "text/plain": [
       "<flopy.utils.util_list.MfList at 0x122a603d0>"
      ]
     },
     "execution_count": 12,
     "metadata": {},
     "output_type": "execute_result"
    }
   ],
   "source": [
    "m.riv.stress_period_data"
   ]
  },
  {
   "cell_type": "code",
   "execution_count": 13,
   "metadata": {},
   "outputs": [
    {
     "name": "stdout",
     "output_type": "stream",
     "text": [
      "wrote temp/shapefile_export/riv_spd.shp\n"
     ]
    }
   ],
   "source": [
    "m.riv.stress_period_data.export('{}/riv_spd.shp'.format(outdir))"
   ]
  },
  {
   "cell_type": "markdown",
   "metadata": {},
   "source": [
    "### MfList.export() exports the whole grid by default, regardless of the locations of the boundary cells\n",
    "`sparse=True` only exports the boundary cells in the MfList"
   ]
  },
  {
   "cell_type": "code",
   "execution_count": 14,
   "metadata": {},
   "outputs": [
    {
     "name": "stdout",
     "output_type": "stream",
     "text": [
      "wrote temp/shapefile_export/riv_spd.shp\n"
     ]
    }
   ],
   "source": [
    "m.riv.stress_period_data.export('{}/riv_spd.shp'.format(outdir), sparse=True)"
   ]
  },
  {
   "cell_type": "code",
   "execution_count": 15,
   "metadata": {},
   "outputs": [
    {
     "name": "stdout",
     "output_type": "stream",
     "text": [
      "wrote temp/shapefile_export/wel_spd.shp\n"
     ]
    }
   ],
   "source": [
    "m.wel.stress_period_data.export('{}/wel_spd.shp'.format(outdir), sparse=True)"
   ]
  },
  {
   "cell_type": "markdown",
   "metadata": {},
   "source": [
    "## Ad-hoc exporting using `recarray2shp`\n",
    "* The main idea is to create a recarray with all of the attribute information, and a list of geometry features (one feature per row in the recarray)\n",
    "* each geometry feature is an instance of the `Point`, `LineString` or `Polygon` classes in `flopy.utils.geometry`. The shapefile format requires all the features to be of the same type.\n",
    "* We will use pandas dataframes for these examples because they are easy to work with, and then convert them to recarrays prior to exporting.\n"
   ]
  },
  {
   "cell_type": "code",
   "execution_count": 16,
   "metadata": {},
   "outputs": [],
   "source": [
    "from flopy.export.shapefile_utils import recarray2shp"
   ]
  },
  {
   "cell_type": "markdown",
   "metadata": {},
   "source": [
    "### combining data from different packages\n",
    "write a shapefile of RIV and WEL package cells"
   ]
  },
  {
   "cell_type": "code",
   "execution_count": 17,
   "metadata": {},
   "outputs": [
    {
     "data": {
      "text/html": [
       "<div>\n",
       "<style scoped>\n",
       "    .dataframe tbody tr th:only-of-type {\n",
       "        vertical-align: middle;\n",
       "    }\n",
       "\n",
       "    .dataframe tbody tr th {\n",
       "        vertical-align: top;\n",
       "    }\n",
       "\n",
       "    .dataframe thead th {\n",
       "        text-align: right;\n",
       "    }\n",
       "</style>\n",
       "<table border=\"1\" class=\"dataframe\">\n",
       "  <thead>\n",
       "    <tr style=\"text-align: right;\">\n",
       "      <th></th>\n",
       "      <th>k</th>\n",
       "      <th>i</th>\n",
       "      <th>j</th>\n",
       "      <th>flux</th>\n",
       "      <th>iface</th>\n",
       "      <th>stage</th>\n",
       "      <th>cond</th>\n",
       "      <th>rbot</th>\n",
       "    </tr>\n",
       "  </thead>\n",
       "  <tbody>\n",
       "    <tr>\n",
       "      <th>0</th>\n",
       "      <td>0</td>\n",
       "      <td>8</td>\n",
       "      <td>15</td>\n",
       "      <td>-0.00820</td>\n",
       "      <td>0.0</td>\n",
       "      <td>NaN</td>\n",
       "      <td>NaN</td>\n",
       "      <td>NaN</td>\n",
       "    </tr>\n",
       "    <tr>\n",
       "      <th>1</th>\n",
       "      <td>0</td>\n",
       "      <td>10</td>\n",
       "      <td>12</td>\n",
       "      <td>-0.00410</td>\n",
       "      <td>0.0</td>\n",
       "      <td>NaN</td>\n",
       "      <td>NaN</td>\n",
       "      <td>NaN</td>\n",
       "    </tr>\n",
       "    <tr>\n",
       "      <th>2</th>\n",
       "      <td>0</td>\n",
       "      <td>19</td>\n",
       "      <td>13</td>\n",
       "      <td>-0.00390</td>\n",
       "      <td>0.0</td>\n",
       "      <td>NaN</td>\n",
       "      <td>NaN</td>\n",
       "      <td>NaN</td>\n",
       "    </tr>\n",
       "    <tr>\n",
       "      <th>3</th>\n",
       "      <td>0</td>\n",
       "      <td>25</td>\n",
       "      <td>9</td>\n",
       "      <td>-0.00083</td>\n",
       "      <td>0.0</td>\n",
       "      <td>NaN</td>\n",
       "      <td>NaN</td>\n",
       "      <td>NaN</td>\n",
       "    </tr>\n",
       "    <tr>\n",
       "      <th>4</th>\n",
       "      <td>0</td>\n",
       "      <td>28</td>\n",
       "      <td>5</td>\n",
       "      <td>-0.00072</td>\n",
       "      <td>0.0</td>\n",
       "      <td>NaN</td>\n",
       "      <td>NaN</td>\n",
       "      <td>NaN</td>\n",
       "    </tr>\n",
       "  </tbody>\n",
       "</table>\n",
       "</div>"
      ],
      "text/plain": [
       "   k   i   j     flux  iface  stage  cond  rbot\n",
       "0  0   8  15 -0.00820    0.0    NaN   NaN   NaN\n",
       "1  0  10  12 -0.00410    0.0    NaN   NaN   NaN\n",
       "2  0  19  13 -0.00390    0.0    NaN   NaN   NaN\n",
       "3  0  25   9 -0.00083    0.0    NaN   NaN   NaN\n",
       "4  0  28   5 -0.00072    0.0    NaN   NaN   NaN"
      ]
     },
     "execution_count": 17,
     "metadata": {},
     "output_type": "execute_result"
    }
   ],
   "source": [
    "wellspd = pd.DataFrame(m.wel.stress_period_data[0])\n",
    "rivspd = pd.DataFrame(m.riv.stress_period_data[0])\n",
    "spd = wellspd.append(rivspd)\n",
    "spd.head()"
   ]
  },
  {
   "cell_type": "markdown",
   "metadata": {},
   "source": [
    "##### create a list of Polygon features from the cell vertices stored in the SpatialReference object"
   ]
  },
  {
   "cell_type": "code",
   "execution_count": 18,
   "metadata": {},
   "outputs": [
    {
     "data": {
      "text/plain": [
       "[<flopy.utils.geometry.Polygon at 0x122e8cd50>,\n",
       " <flopy.utils.geometry.Polygon at 0x122e8cb50>,\n",
       " <flopy.utils.geometry.Polygon at 0x122e8c6d0>,\n",
       " <flopy.utils.geometry.Polygon at 0x122e8cc50>,\n",
       " <flopy.utils.geometry.Polygon at 0x122e8cfd0>,\n",
       " <flopy.utils.geometry.Polygon at 0x122a4e450>,\n",
       " <flopy.utils.geometry.Polygon at 0x122a4ea50>,\n",
       " <flopy.utils.geometry.Polygon at 0x122a4e090>,\n",
       " <flopy.utils.geometry.Polygon at 0x122e3cf10>,\n",
       " <flopy.utils.geometry.Polygon at 0x122e8c050>,\n",
       " <flopy.utils.geometry.Polygon at 0x122e3c790>,\n",
       " <flopy.utils.geometry.Polygon at 0x122e3ca10>,\n",
       " <flopy.utils.geometry.Polygon at 0x122e3cd90>,\n",
       " <flopy.utils.geometry.Polygon at 0x122e3cc90>,\n",
       " <flopy.utils.geometry.Polygon at 0x122e3c890>,\n",
       " <flopy.utils.geometry.Polygon at 0x122c0a090>,\n",
       " <flopy.utils.geometry.Polygon at 0x122e3c710>,\n",
       " <flopy.utils.geometry.Polygon at 0x122e030d0>,\n",
       " <flopy.utils.geometry.Polygon at 0x122e03e50>,\n",
       " <flopy.utils.geometry.Polygon at 0x122e03b50>,\n",
       " <flopy.utils.geometry.Polygon at 0x122e03c50>,\n",
       " <flopy.utils.geometry.Polygon at 0x122e03450>,\n",
       " <flopy.utils.geometry.Polygon at 0x122e035d0>,\n",
       " <flopy.utils.geometry.Polygon at 0x122ca6750>,\n",
       " <flopy.utils.geometry.Polygon at 0x1086c5550>,\n",
       " <flopy.utils.geometry.Polygon at 0x122a3fe10>,\n",
       " <flopy.utils.geometry.Polygon at 0x108f5d0d0>,\n",
       " <flopy.utils.geometry.Polygon at 0x122e03350>,\n",
       " <flopy.utils.geometry.Polygon at 0x122c77e10>,\n",
       " <flopy.utils.geometry.Polygon at 0x10a0d93d0>,\n",
       " <flopy.utils.geometry.Polygon at 0x1225ea2d0>,\n",
       " <flopy.utils.geometry.Polygon at 0x122c77c90>,\n",
       " <flopy.utils.geometry.Polygon at 0x122dedfd0>,\n",
       " <flopy.utils.geometry.Polygon at 0x122dedf50>,\n",
       " <flopy.utils.geometry.Polygon at 0x122e47650>,\n",
       " <flopy.utils.geometry.Polygon at 0x122e47d50>,\n",
       " <flopy.utils.geometry.Polygon at 0x122e474d0>,\n",
       " <flopy.utils.geometry.Polygon at 0x122e470d0>,\n",
       " <flopy.utils.geometry.Polygon at 0x122de0610>,\n",
       " <flopy.utils.geometry.Polygon at 0x122e47150>,\n",
       " <flopy.utils.geometry.Polygon at 0x122e0f990>,\n",
       " <flopy.utils.geometry.Polygon at 0x122e0f410>,\n",
       " <flopy.utils.geometry.Polygon at 0x122e0f190>,\n",
       " <flopy.utils.geometry.Polygon at 0x122e30550>,\n",
       " <flopy.utils.geometry.Polygon at 0x122e307d0>,\n",
       " <flopy.utils.geometry.Polygon at 0x122e19d50>]"
      ]
     },
     "execution_count": 18,
     "metadata": {},
     "output_type": "execute_result"
    }
   ],
   "source": [
    "from flopy.utils.geometry import Polygon\n",
    "\n",
    "vertices = []\n",
    "for row, col in zip(spd.i, spd.j):\n",
    "    vertices.append(grid.get_cell_vertices(row, col))\n",
    "polygons = [Polygon(vrt) for vrt in vertices]\n",
    "polygons"
   ]
  },
  {
   "cell_type": "markdown",
   "metadata": {},
   "source": [
    "##### write the shapefile"
   ]
  },
  {
   "cell_type": "code",
   "execution_count": 19,
   "metadata": {},
   "outputs": [
    {
     "name": "stdout",
     "output_type": "stream",
     "text": [
      "wrote temp/shapefile_export/bcs.shp\n"
     ]
    }
   ],
   "source": [
    "fname = '{}/bcs.shp'.format(outdir)\n",
    "recarray2shp(spd.to_records(), geoms=polygons,\n",
    "             shpname=fname,\n",
    "             epsg=grid.epsg)"
   ]
  },
  {
   "cell_type": "code",
   "execution_count": 20,
   "metadata": {},
   "outputs": [
    {
     "data": {
      "image/png": "[encoded data removed]",
      "text/plain": [
       "<Figure size 432x288 with 1 Axes>"
      ]
     },
     "metadata": {
      "needs_background": "light"
     },
     "output_type": "display_data"
    }
   ],
   "source": [
    "ax = plt.subplot(1, 1, 1, aspect='equal')\n",
    "extents = grid.extent\n",
    "pc = flopy.plot.plot_shapefile(fname, ax=ax)\n",
    "ax.set_xlim(extents[0], extents[1])\n",
    "ax.set_ylim(extents[2], extents[3])\n",
    "ax.set_title(fname);"
   ]
  },
  {
   "cell_type": "markdown",
   "metadata": {},
   "source": [
    "### exporting other data\n",
    "Suppose we have some well data with actual locations that we want to export to a shapefile"
   ]
  },
  {
   "cell_type": "code",
   "execution_count": 21,
   "metadata": {},
   "outputs": [
    {
     "data": {
      "text/html": [
       "<div>\n",
       "<style scoped>\n",
       "    .dataframe tbody tr th:only-of-type {\n",
       "        vertical-align: middle;\n",
       "    }\n",
       "\n",
       "    .dataframe tbody tr th {\n",
       "        vertical-align: top;\n",
       "    }\n",
       "\n",
       "    .dataframe thead th {\n",
       "        text-align: right;\n",
       "    }\n",
       "</style>\n",
       "<table border=\"1\" class=\"dataframe\">\n",
       "  <thead>\n",
       "    <tr style=\"text-align: right;\">\n",
       "      <th></th>\n",
       "      <th>wellID</th>\n",
       "      <th>q</th>\n",
       "      <th>x_utm</th>\n",
       "      <th>y_utm</th>\n",
       "    </tr>\n",
       "  </thead>\n",
       "  <tbody>\n",
       "    <tr>\n",
       "      <th>0</th>\n",
       "      <td>0</td>\n",
       "      <td>-885.171434</td>\n",
       "      <td>5.089557e+06</td>\n",
       "      <td>270913.573057</td>\n",
       "    </tr>\n",
       "    <tr>\n",
       "      <th>1</th>\n",
       "      <td>1</td>\n",
       "      <td>-1062.779711</td>\n",
       "      <td>5.088760e+06</td>\n",
       "      <td>270493.975595</td>\n",
       "    </tr>\n",
       "    <tr>\n",
       "      <th>2</th>\n",
       "      <td>2</td>\n",
       "      <td>-1110.497176</td>\n",
       "      <td>5.089211e+06</td>\n",
       "      <td>272680.760580</td>\n",
       "    </tr>\n",
       "    <tr>\n",
       "      <th>3</th>\n",
       "      <td>3</td>\n",
       "      <td>-1014.174408</td>\n",
       "      <td>5.089040e+06</td>\n",
       "      <td>273119.857679</td>\n",
       "    </tr>\n",
       "    <tr>\n",
       "      <th>4</th>\n",
       "      <td>4</td>\n",
       "      <td>-1165.252003</td>\n",
       "      <td>5.088879e+06</td>\n",
       "      <td>272131.311873</td>\n",
       "    </tr>\n",
       "  </tbody>\n",
       "</table>\n",
       "</div>"
      ],
      "text/plain": [
       "   wellID            q         x_utm          y_utm\n",
       "0       0  -885.171434  5.089557e+06  270913.573057\n",
       "1       1 -1062.779711  5.088760e+06  270493.975595\n",
       "2       2 -1110.497176  5.089211e+06  272680.760580\n",
       "3       3 -1014.174408  5.089040e+06  273119.857679\n",
       "4       4 -1165.252003  5.088879e+06  272131.311873"
      ]
     },
     "execution_count": 21,
     "metadata": {},
     "output_type": "execute_result"
    }
   ],
   "source": [
    "welldata = pd.DataFrame({'wellID': np.arange(0, 10),\n",
    "                         'q': np.random.randn(10)*100 - 1000,\n",
    "                         'x_utm': np.random.rand(10)*1000 + grid.yoffset,\n",
    "                         'y_utm': grid.xoffset - np.random.rand(10)*3000})\n",
    "welldata.head()"
   ]
  },
  {
   "cell_type": "markdown",
   "metadata": {},
   "source": [
    "##### convert the x, y coorindates to point features and then export"
   ]
  },
  {
   "cell_type": "code",
   "execution_count": 22,
   "metadata": {},
   "outputs": [
    {
     "name": "stdout",
     "output_type": "stream",
     "text": [
      "wrote temp/shapefile_export/wel_data.shp\n"
     ]
    }
   ],
   "source": [
    "from flopy.utils.geometry import Point\n",
    "geoms = [Point(x, y) for x, y in zip(welldata.x_utm, welldata.y_utm)]\n",
    "\n",
    "fname = '{}/wel_data.shp'.format(outdir)\n",
    "recarray2shp(welldata.to_records(), geoms=geoms,\n",
    "             shpname=fname,\n",
    "             epsg=grid.epsg)"
   ]
  },
  {
   "cell_type": "code",
   "execution_count": 23,
   "metadata": {},
   "outputs": [
    {
     "data": {
      "image/png": "[encoded data removed]",
      "text/plain": [
       "<Figure size 432x288 with 1 Axes>"
      ]
     },
     "metadata": {
      "needs_background": "light"
     },
     "output_type": "display_data"
    }
   ],
   "source": [
    "ax = plt.subplot(1, 1, 1, aspect='equal')\n",
    "extents = grid.extent\n",
    "pc = flopy.plot.plot_shapefile(fname, ax=ax, radius=25)\n",
    "ax.set_xlim(extents[0], extents[1])\n",
    "ax.set_ylim(extents[2], extents[3])\n",
    "ax.set_title(fname);"
   ]
  },
  {
   "cell_type": "markdown",
   "metadata": {},
   "source": [
    "### Adding attribute data to an existing shapefile\n",
    "Suppose we have a GIS coverage representing the river in the riv package"
   ]
  },
  {
   "cell_type": "code",
   "execution_count": 24,
   "metadata": {},
   "outputs": [
    {
     "name": "stdout",
     "output_type": "stream",
     "text": [
      "wrote temp/shapefile_export/riv_reaches.shp\n"
     ]
    }
   ],
   "source": [
    "from flopy.utils.geometry import LineString \n",
    "\n",
    "### make up a linestring shapefile of the river reaches\n",
    "i, j = m.riv.stress_period_data[0].i, m.riv.stress_period_data[0].j\n",
    "x0 = grid.xyzcellcenters[0][i[0], j[0]]\n",
    "x1 = grid.xyzcellcenters[0][i[-1], j[-1]]\n",
    "y0 = grid.xyzcellcenters[1][i[0], j[0]]\n",
    "y1 = grid.xyzcellcenters[1][i[-1], j[-1]]\n",
    "x = np.linspace(x0, x1, m.nrow+1)\n",
    "y = np.linspace(y0, y1, m.nrow+1)\n",
    "l0 = zip(list(zip(x[:-1], y[:-1])), list(zip(x[1:], y[1:])))\n",
    "lines = [LineString(l) for l in l0]\n",
    "\n",
    "rivdata = pd.DataFrame(m.riv.stress_period_data[0])\n",
    "rivdata['reach'] = np.arange(len(lines))\n",
    "lines_shapefile = '{}/riv_reaches.shp'.format(outdir)\n",
    "recarray2shp(rivdata.to_records(index=False), geoms=lines,\n",
    "             shpname=lines_shapefile,\n",
    "             epsg=grid.epsg)"
   ]
  },
  {
   "cell_type": "code",
   "execution_count": 25,
   "metadata": {},
   "outputs": [
    {
     "data": {
      "image/png": "[encoded data removed]",
      "text/plain": [
       "<Figure size 432x288 with 1 Axes>"
      ]
     },
     "metadata": {
      "needs_background": "light"
     },
     "output_type": "display_data"
    }
   ],
   "source": [
    "ax = plt.subplot(1, 1, 1, aspect='equal')\n",
    "extents = grid.extent\n",
    "pc = flopy.plot.plot_shapefile(lines_shapefile, ax=ax, radius=25)\n",
    "ax.set_xlim(extents[0], extents[1])\n",
    "ax.set_ylim(extents[2], extents[3])\n",
    "ax.set_title(lines_shapefile);"
   ]
  },
  {
   "cell_type": "markdown",
   "metadata": {},
   "source": [
    "#### read in the GIS coverage using `shp2recarray`\n",
    "`shp2recarray` reads a shapefile into a numpy record array, which can easily be converted to a DataFrame"
   ]
  },
  {
   "cell_type": "code",
   "execution_count": 26,
   "metadata": {},
   "outputs": [],
   "source": [
    "from flopy.export.shapefile_utils import shp2recarray"
   ]
  },
  {
   "cell_type": "code",
   "execution_count": 27,
   "metadata": {},
   "outputs": [
    {
     "data": {
      "text/html": [
       "<div>\n",
       "<style scoped>\n",
       "    .dataframe tbody tr th:only-of-type {\n",
       "        vertical-align: middle;\n",
       "    }\n",
       "\n",
       "    .dataframe tbody tr th {\n",
       "        vertical-align: top;\n",
       "    }\n",
       "\n",
       "    .dataframe thead th {\n",
       "        text-align: right;\n",
       "    }\n",
       "</style>\n",
       "<table border=\"1\" class=\"dataframe\">\n",
       "  <thead>\n",
       "    <tr style=\"text-align: right;\">\n",
       "      <th></th>\n",
       "      <th>k</th>\n",
       "      <th>i</th>\n",
       "      <th>j</th>\n",
       "      <th>stage</th>\n",
       "      <th>cond</th>\n",
       "      <th>rbot</th>\n",
       "      <th>iface</th>\n",
       "      <th>reach</th>\n",
       "      <th>geometry</th>\n",
       "    </tr>\n",
       "  </thead>\n",
       "  <tbody>\n",
       "    <tr>\n",
       "      <th>0</th>\n",
       "      <td>0</td>\n",
       "      <td>0</td>\n",
       "      <td>14</td>\n",
       "      <td>20.100000</td>\n",
       "      <td>0.05</td>\n",
       "      <td>20.00</td>\n",
       "      <td>0.0</td>\n",
       "      <td>0</td>\n",
       "      <td>&lt;flopy.utils.geometry.LineString object at 0x1...</td>\n",
       "    </tr>\n",
       "    <tr>\n",
       "      <th>1</th>\n",
       "      <td>0</td>\n",
       "      <td>1</td>\n",
       "      <td>14</td>\n",
       "      <td>19.870001</td>\n",
       "      <td>0.05</td>\n",
       "      <td>19.75</td>\n",
       "      <td>0.0</td>\n",
       "      <td>1</td>\n",
       "      <td>&lt;flopy.utils.geometry.LineString object at 0x1...</td>\n",
       "    </tr>\n",
       "    <tr>\n",
       "      <th>2</th>\n",
       "      <td>0</td>\n",
       "      <td>2</td>\n",
       "      <td>14</td>\n",
       "      <td>19.650000</td>\n",
       "      <td>0.05</td>\n",
       "      <td>19.50</td>\n",
       "      <td>0.0</td>\n",
       "      <td>2</td>\n",
       "      <td>&lt;flopy.utils.geometry.LineString object at 0x1...</td>\n",
       "    </tr>\n",
       "    <tr>\n",
       "      <th>3</th>\n",
       "      <td>0</td>\n",
       "      <td>3</td>\n",
       "      <td>14</td>\n",
       "      <td>19.420000</td>\n",
       "      <td>0.05</td>\n",
       "      <td>19.25</td>\n",
       "      <td>0.0</td>\n",
       "      <td>3</td>\n",
       "      <td>&lt;flopy.utils.geometry.LineString object at 0x1...</td>\n",
       "    </tr>\n",
       "    <tr>\n",
       "      <th>4</th>\n",
       "      <td>0</td>\n",
       "      <td>4</td>\n",
       "      <td>14</td>\n",
       "      <td>19.190001</td>\n",
       "      <td>0.05</td>\n",
       "      <td>19.00</td>\n",
       "      <td>0.0</td>\n",
       "      <td>4</td>\n",
       "      <td>&lt;flopy.utils.geometry.LineString object at 0x1...</td>\n",
       "    </tr>\n",
       "  </tbody>\n",
       "</table>\n",
       "</div>"
      ],
      "text/plain": [
       "   k  i   j      stage  cond   rbot  iface  reach  \\\n",
       "0  0  0  14  20.100000  0.05  20.00    0.0      0   \n",
       "1  0  1  14  19.870001  0.05  19.75    0.0      1   \n",
       "2  0  2  14  19.650000  0.05  19.50    0.0      2   \n",
       "3  0  3  14  19.420000  0.05  19.25    0.0      3   \n",
       "4  0  4  14  19.190001  0.05  19.00    0.0      4   \n",
       "\n",
       "                                            geometry  \n",
       "0  <flopy.utils.geometry.LineString object at 0x1...  \n",
       "1  <flopy.utils.geometry.LineString object at 0x1...  \n",
       "2  <flopy.utils.geometry.LineString object at 0x1...  \n",
       "3  <flopy.utils.geometry.LineString object at 0x1...  \n",
       "4  <flopy.utils.geometry.LineString object at 0x1...  "
      ]
     },
     "execution_count": 27,
     "metadata": {},
     "output_type": "execute_result"
    }
   ],
   "source": [
    "linesdata = shp2recarray(lines_shapefile)\n",
    "linesdata = pd.DataFrame(linesdata)\n",
    "linesdata.head()"
   ]
  },
  {
   "cell_type": "markdown",
   "metadata": {},
   "source": [
    "##### Suppose we have some flow information that we read in from the cell budget file"
   ]
  },
  {
   "cell_type": "code",
   "execution_count": 28,
   "metadata": {},
   "outputs": [
    {
     "data": {
      "text/plain": [
       "array([ 2.69161707,  1.38453403,  1.11044925,  1.18844165, -0.15936471,\n",
       "        1.75431416,  2.76579887,  1.31923512,  0.81189226,  0.80612918,\n",
       "        1.01821594,  0.84421962,  2.11893754,  1.6883009 ,  0.77184897,\n",
       "        2.16697965,  1.77723111, -0.19553457,  2.58912518, -0.32624426,\n",
       "        1.03409599, -0.74111037,  1.65238931,  1.45072108, -0.64107185,\n",
       "        0.97296917,  0.61568808,  2.01243078,  0.74777961,  0.74187226,\n",
       "        0.29492077,  1.36902217,  1.93230441,  0.95606218,  0.32849217,\n",
       "        1.70698783,  0.59285378,  1.73876375,  1.15084548,  1.26119364])"
      ]
     },
     "execution_count": 28,
     "metadata": {},
     "output_type": "execute_result"
    }
   ],
   "source": [
    "# make up some fluxes between the river and aquifer at each reach\n",
    "q = np.random.randn(len(linesdata))+1\n",
    "q"
   ]
  },
  {
   "cell_type": "markdown",
   "metadata": {},
   "source": [
    "##### Add reachs fluxes and cumulative flow to lines DataFrame"
   ]
  },
  {
   "cell_type": "code",
   "execution_count": 29,
   "metadata": {},
   "outputs": [],
   "source": [
    "linesdata['qreach'] = q\n",
    "linesdata['qstream'] = np.cumsum(q)"
   ]
  },
  {
   "cell_type": "code",
   "execution_count": 30,
   "metadata": {},
   "outputs": [
    {
     "name": "stdout",
     "output_type": "stream",
     "text": [
      "wrote temp/shapefile_export/riv_reaches.shp\n"
     ]
    }
   ],
   "source": [
    "recarray2shp(linesdata.drop('geometry', axis=1).to_records(), \n",
    "             geoms=linesdata.geometry,\n",
    "             shpname=lines_shapefile,\n",
    "             epsg=grid.epsg)"
   ]
  },
  {
   "cell_type": "code",
   "execution_count": 31,
   "metadata": {},
   "outputs": [
    {
     "data": {
      "image/png": "[encoded data removed]",
      "text/plain": [
       "<Figure size 432x288 with 1 Axes>"
      ]
     },
     "metadata": {
      "needs_background": "light"
     },
     "output_type": "display_data"
    }
   ],
   "source": [
    "ax = plt.subplot(1, 1, 1, aspect='equal')\n",
    "extents = grid.extent\n",
    "pc = flopy.plot.plot_shapefile(lines_shapefile, ax=ax, radius=25)\n",
    "ax.set_xlim(extents[0], extents[1])\n",
    "ax.set_ylim(extents[2], extents[3])\n",
    "ax.set_title(lines_shapefile);"
   ]
  },
  {
   "cell_type": "markdown",
   "metadata": {},
   "source": [
    "## Overriding the model's modelgrid with a user supplied modelgrid\n",
    "\n",
    "In some cases it may be necessary to override the model's modelgrid instance with a seperate modelgrid. An example of this is if the model discretization is in feet and the user would like it projected in meters. Exporting can be accomplished by supplying a modelgrid as a `kwarg` in any of the `export()` methods within flopy. Below is an example:"
   ]
  },
  {
   "cell_type": "code",
   "execution_count": 32,
   "metadata": {},
   "outputs": [
    {
     "name": "stdout",
     "output_type": "stream",
     "text": [
      "wrote temp/shapefile_export/freyberg.shp\n"
     ]
    },
    {
     "data": {
      "text/plain": [
       "'temp/shapefile_export/freyberg.shp'"
      ]
     },
     "execution_count": 32,
     "metadata": {},
     "output_type": "execute_result"
    }
   ],
   "source": [
    "mg0 = m.modelgrid\n",
    "\n",
    "# build a new modelgrid instance with discretization in meters\n",
    "modelgrid = flopy.discretization.StructuredGrid(delc=mg0.delc * 0.3048, delr=mg0.delr * 0.3048,\n",
    "                                                top= mg0.top, botm=mg0.botm, idomain=mg0.idomain,\n",
    "                                                xoff=mg0.xoffset * 0.3048, yoff=mg0.yoffset * 0.3048)\n",
    "\n",
    "# exporting an entire model\n",
    "m.export('{}/freyberg.shp'.format(outdir), modelgrid=modelgrid)"
   ]
  },
  {
   "cell_type": "markdown",
   "metadata": {},
   "source": [
    "And for a specific parameter the method is the same"
   ]
  },
  {
   "cell_type": "code",
   "execution_count": 33,
   "metadata": {},
   "outputs": [
    {
     "name": "stdout",
     "output_type": "stream",
     "text": [
      "wrote temp/shapefile_export/hk.shp\n"
     ]
    }
   ],
   "source": [
    "fname = '{}/hk.shp'.format(outdir)\n",
    "m.lpf.hk.export(fname, modelgrid=modelgrid)"
   ]
  },
  {
   "cell_type": "code",
   "execution_count": 34,
   "metadata": {},
   "outputs": [
    {
     "data": {
      "image/png": "[encoded data removed]",
      "text/plain": [
       "<Figure size 432x288 with 1 Axes>"
      ]
     },
     "metadata": {
      "needs_background": "light"
     },
     "output_type": "display_data"
    }
   ],
   "source": [
    "ax = plt.subplot(1, 1, 1, aspect='equal')\n",
    "extents = modelgrid.extent\n",
    "a = m.lpf.hk.array.ravel()\n",
    "pc = flopy.plot.plot_shapefile(fname, ax=ax, a=a)\n",
    "ax.set_xlim(extents[0], extents[1])\n",
    "ax.set_ylim(extents[2], extents[3])\n",
    "ax.set_title(fname);"
   ]
  },
  {
   "cell_type": "code",
   "execution_count": null,
   "metadata": {},
   "outputs": [],
   "source": []
  }
 ],
 "metadata": {
  "kernelspec": {
   "display_name": "Python 3",
   "language": "python",
   "name": "python3"
  },
  "language_info": {
   "codemirror_mode": {
    "name": "ipython",
    "version": 3
   },
   "file_extension": ".py",
   "mimetype": "text/x-python",
   "name": "python",
   "nbconvert_exporter": "python",
   "pygments_lexer": "ipython3",
   "version": "3.7.7"
  }
 },
 "nbformat": 4,
 "nbformat_minor": 2
}
