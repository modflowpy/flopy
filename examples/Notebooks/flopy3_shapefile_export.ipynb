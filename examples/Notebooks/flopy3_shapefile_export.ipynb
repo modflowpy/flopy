{
 "cells": [
  {
   "cell_type": "markdown",
   "metadata": {},
   "source": [
    "# FloPy shapefile export demo\n",
    "The goal of this notebook is to demonstrate ways to export model information to shapefiles.\n",
    "This example will cover:\n",
    "* basic exporting of information for a model, individual package, or dataset\n",
    "* custom exporting of combined data from different packages\n",
    "* general exporting and importing of geographic data from other sources"
   ]
  },
  {
   "cell_type": "code",
   "execution_count": 1,
   "metadata": {
    "execution": {
     "iopub.execute_input": "2022-12-14T20:07:28.364696Z",
     "iopub.status.busy": "2022-12-14T20:07:28.364083Z",
     "iopub.status.idle": "2022-12-14T20:07:29.823735Z",
     "shell.execute_reply": "2022-12-14T20:07:29.821932Z"
    }
   },
   "outputs": [
    {
     "name": "stdout",
     "output_type": "stream",
     "text": [
      "3.7.15 (default, Oct 18 2022, 09:36:49) \n",
      "[GCC 11.2.0]\n",
      "numpy version: 1.21.6\n",
      "matplotlib version: 3.5.3\n",
      "flopy version: 3.3.6\n"
     ]
    }
   ],
   "source": [
    "import sys\n",
    "import os\n",
    "from tempfile import TemporaryDirectory\n",
    "\n",
    "import numpy as np\n",
    "import matplotlib as mpl\n",
    "import matplotlib.pyplot as plt\n",
    "import pandas as pd\n",
    "\n",
    "# run installed version of flopy or add local path\n",
    "try:\n",
    "    import flopy\n",
    "except:\n",
    "    fpth = os.path.abspath(os.path.join(\"..\", \"..\"))\n",
    "    sys.path.append(fpth)\n",
    "    import flopy\n",
    "\n",
    "print(sys.version)\n",
    "print(\"numpy version: {}\".format(np.__version__))\n",
    "print(\"matplotlib version: {}\".format(mpl.__version__))\n",
    "print(\"flopy version: {}\".format(flopy.__version__))"
   ]
  },
  {
   "cell_type": "code",
   "execution_count": 2,
   "metadata": {
    "execution": {
     "iopub.execute_input": "2022-12-14T20:07:29.886382Z",
     "iopub.status.busy": "2022-12-14T20:07:29.885234Z",
     "iopub.status.idle": "2022-12-14T20:07:29.905255Z",
     "shell.execute_reply": "2022-12-14T20:07:29.904031Z"
    }
   },
   "outputs": [],
   "source": [
    "# temporary directory\n",
    "temp_dir = TemporaryDirectory()\n",
    "outdir = os.path.join(temp_dir.name, \"shapefile_export\")\n",
    "\n",
    "# load an existing model\n",
    "model_ws = \"../data/freyberg\"\n",
    "m = flopy.modflow.Modflow.load(\n",
    "    \"freyberg.nam\",\n",
    "    model_ws=model_ws,\n",
    "    verbose=False,\n",
    "    check=False,\n",
    "    exe_name=\"mfnwt\",\n",
    ")"
   ]
  },
  {
   "cell_type": "code",
   "execution_count": 3,
   "metadata": {
    "execution": {
     "iopub.execute_input": "2022-12-14T20:07:29.909664Z",
     "iopub.status.busy": "2022-12-14T20:07:29.909159Z",
     "iopub.status.idle": "2022-12-14T20:07:29.918374Z",
     "shell.execute_reply": "2022-12-14T20:07:29.917363Z"
    }
   },
   "outputs": [
    {
     "data": {
      "text/plain": [
       "['DIS', 'BAS6', 'LPF', 'WEL', 'RIV', 'RCH', 'OC', 'PCG']"
      ]
     },
     "execution_count": 3,
     "metadata": {},
     "output_type": "execute_result"
    }
   ],
   "source": [
    "m.get_package_list()"
   ]
  },
  {
   "cell_type": "markdown",
   "metadata": {},
   "source": [
    "### set the model coordinate information\n",
    "the coordinate information where the grid is located in a projected coordinate system (e.g. UTM)"
   ]
  },
  {
   "cell_type": "code",
   "execution_count": 4,
   "metadata": {
    "execution": {
     "iopub.execute_input": "2022-12-14T20:07:29.922564Z",
     "iopub.status.busy": "2022-12-14T20:07:29.922213Z",
     "iopub.status.idle": "2022-12-14T20:07:29.927431Z",
     "shell.execute_reply": "2022-12-14T20:07:29.926197Z"
    }
   },
   "outputs": [],
   "source": [
    "grid = m.modelgrid\n",
    "grid.set_coord_info(xoff=273170, yoff=5088657, epsg=26916)"
   ]
  },
  {
   "cell_type": "code",
   "execution_count": 5,
   "metadata": {
    "execution": {
     "iopub.execute_input": "2022-12-14T20:07:29.931564Z",
     "iopub.status.busy": "2022-12-14T20:07:29.931256Z",
     "iopub.status.idle": "2022-12-14T20:07:29.938496Z",
     "shell.execute_reply": "2022-12-14T20:07:29.937442Z"
    }
   },
   "outputs": [
    {
     "data": {
      "text/plain": [
       "(273170.0, 278170.0, 5088657.0, 5098657.0)"
      ]
     },
     "execution_count": 5,
     "metadata": {},
     "output_type": "execute_result"
    }
   ],
   "source": [
    "grid.extent"
   ]
  },
  {
   "cell_type": "markdown",
   "metadata": {},
   "source": [
    "## Declarative export using attached `.export()` methods\n",
    "#### Export the whole model to a single shapefile"
   ]
  },
  {
   "cell_type": "code",
   "execution_count": 6,
   "metadata": {
    "execution": {
     "iopub.execute_input": "2022-12-14T20:07:29.943300Z",
     "iopub.status.busy": "2022-12-14T20:07:29.942994Z",
     "iopub.status.idle": "2022-12-14T20:07:30.553258Z",
     "shell.execute_reply": "2022-12-14T20:07:30.552287Z"
    },
    "scrolled": true
   },
   "outputs": [
    {
     "name": "stdout",
     "output_type": "stream",
     "text": [
      "wrote /tmp/tmpnayx2e7s/shapefile_export/model.shp\n"
     ]
    },
    {
     "data": {
      "text/plain": [
       "'/tmp/tmpnayx2e7s/shapefile_export/model.shp'"
      ]
     },
     "execution_count": 6,
     "metadata": {},
     "output_type": "execute_result"
    }
   ],
   "source": [
    "fname = \"{}/model.shp\".format(outdir)\n",
    "m.export(fname)"
   ]
  },
  {
   "cell_type": "code",
   "execution_count": 7,
   "metadata": {
    "execution": {
     "iopub.execute_input": "2022-12-14T20:07:30.557840Z",
     "iopub.status.busy": "2022-12-14T20:07:30.557216Z",
     "iopub.status.idle": "2022-12-14T20:07:31.042083Z",
     "shell.execute_reply": "2022-12-14T20:07:31.040005Z"
    }
   },
   "outputs": [
    {
     "data": {
      "image/png": "[encoded data removed]",
      "text/plain": [
       "<Figure size 640x480 with 1 Axes>"
      ]
     },
     "metadata": {},
     "output_type": "display_data"
    }
   ],
   "source": [
    "ax = plt.subplot(1, 1, 1, aspect=\"equal\")\n",
    "extents = grid.extent\n",
    "pc = flopy.plot.plot_shapefile(fname, ax=ax, edgecolor=\"k\", facecolor=\"none\")\n",
    "ax.set_xlim(extents[0], extents[1])\n",
    "ax.set_ylim(extents[2], extents[3])\n",
    "ax.set_title(fname);"
   ]
  },
  {
   "cell_type": "code",
   "execution_count": 8,
   "metadata": {
    "execution": {
     "iopub.execute_input": "2022-12-14T20:07:31.046494Z",
     "iopub.status.busy": "2022-12-14T20:07:31.045899Z",
     "iopub.status.idle": "2022-12-14T20:07:31.145423Z",
     "shell.execute_reply": "2022-12-14T20:07:31.144305Z"
    }
   },
   "outputs": [
    {
     "name": "stdout",
     "output_type": "stream",
     "text": [
      "wrote /tmp/tmpnayx2e7s/shapefile_export/wel.shp\n"
     ]
    }
   ],
   "source": [
    "fname = \"{}/wel.shp\".format(outdir)\n",
    "m.wel.export(fname)"
   ]
  },
  {
   "cell_type": "markdown",
   "metadata": {},
   "source": [
    "### Export a package to a shapefile"
   ]
  },
  {
   "cell_type": "markdown",
   "metadata": {},
   "source": [
    "### Export a FloPy list or array object"
   ]
  },
  {
   "cell_type": "code",
   "execution_count": 9,
   "metadata": {
    "execution": {
     "iopub.execute_input": "2022-12-14T20:07:31.150405Z",
     "iopub.status.busy": "2022-12-14T20:07:31.150042Z",
     "iopub.status.idle": "2022-12-14T20:07:31.162760Z",
     "shell.execute_reply": "2022-12-14T20:07:31.161590Z"
    }
   },
   "outputs": [
    {
     "data": {
      "text/plain": [
       "<flopy.utils.util_array.Util3d at 0x7fa6f2782c50>"
      ]
     },
     "execution_count": 9,
     "metadata": {},
     "output_type": "execute_result"
    }
   ],
   "source": [
    "m.lpf.hk"
   ]
  },
  {
   "cell_type": "code",
   "execution_count": 10,
   "metadata": {
    "execution": {
     "iopub.execute_input": "2022-12-14T20:07:31.167557Z",
     "iopub.status.busy": "2022-12-14T20:07:31.166979Z",
     "iopub.status.idle": "2022-12-14T20:07:31.255754Z",
     "shell.execute_reply": "2022-12-14T20:07:31.254611Z"
    }
   },
   "outputs": [
    {
     "name": "stdout",
     "output_type": "stream",
     "text": [
      "wrote /tmp/tmpnayx2e7s/shapefile_export/hk.shp\n"
     ]
    }
   ],
   "source": [
    "fname = \"{}/hk.shp\".format(outdir)\n",
    "m.lpf.hk.export(\"{}/hk.shp\".format(outdir))"
   ]
  },
  {
   "cell_type": "code",
   "execution_count": 11,
   "metadata": {
    "execution": {
     "iopub.execute_input": "2022-12-14T20:07:31.260432Z",
     "iopub.status.busy": "2022-12-14T20:07:31.259700Z",
     "iopub.status.idle": "2022-12-14T20:07:31.669133Z",
     "shell.execute_reply": "2022-12-14T20:07:31.667965Z"
    }
   },
   "outputs": [
    {
     "data": {
      "image/png": "[encoded data removed]",
      "text/plain": [
       "<Figure size 640x480 with 1 Axes>"
      ]
     },
     "metadata": {},
     "output_type": "display_data"
    }
   ],
   "source": [
    "ax = plt.subplot(1, 1, 1, aspect=\"equal\")\n",
    "extents = grid.extent\n",
    "a = m.lpf.hk.array.ravel()\n",
    "pc = flopy.plot.plot_shapefile(fname, ax=ax, a=a)\n",
    "ax.set_xlim(extents[0], extents[1])\n",
    "ax.set_ylim(extents[2], extents[3])\n",
    "ax.set_title(fname);"
   ]
  },
  {
   "cell_type": "code",
   "execution_count": 12,
   "metadata": {
    "execution": {
     "iopub.execute_input": "2022-12-14T20:07:31.674892Z",
     "iopub.status.busy": "2022-12-14T20:07:31.673376Z",
     "iopub.status.idle": "2022-12-14T20:07:31.682262Z",
     "shell.execute_reply": "2022-12-14T20:07:31.681391Z"
    }
   },
   "outputs": [
    {
     "data": {
      "text/plain": [
       "<flopy.utils.util_list.MfList at 0x7fa6f6fe3d50>"
      ]
     },
     "execution_count": 12,
     "metadata": {},
     "output_type": "execute_result"
    }
   ],
   "source": [
    "m.riv.stress_period_data"
   ]
  },
  {
   "cell_type": "code",
   "execution_count": 13,
   "metadata": {
    "execution": {
     "iopub.execute_input": "2022-12-14T20:07:31.686312Z",
     "iopub.status.busy": "2022-12-14T20:07:31.685804Z",
     "iopub.status.idle": "2022-12-14T20:07:31.801740Z",
     "shell.execute_reply": "2022-12-14T20:07:31.800290Z"
    }
   },
   "outputs": [
    {
     "name": "stdout",
     "output_type": "stream",
     "text": [
      "wrote /tmp/tmpnayx2e7s/shapefile_export/riv_spd.shp\n"
     ]
    }
   ],
   "source": [
    "m.riv.stress_period_data.export(\"{}/riv_spd.shp\".format(outdir))"
   ]
  },
  {
   "cell_type": "markdown",
   "metadata": {},
   "source": [
    "### MfList.export() exports the whole grid by default, regardless of the locations of the boundary cells\n",
    "`sparse=True` only exports the boundary cells in the MfList"
   ]
  },
  {
   "cell_type": "code",
   "execution_count": 14,
   "metadata": {
    "execution": {
     "iopub.execute_input": "2022-12-14T20:07:31.806092Z",
     "iopub.status.busy": "2022-12-14T20:07:31.805748Z",
     "iopub.status.idle": "2022-12-14T20:07:31.883148Z",
     "shell.execute_reply": "2022-12-14T20:07:31.881858Z"
    }
   },
   "outputs": [
    {
     "name": "stdout",
     "output_type": "stream",
     "text": [
      "wrote /tmp/tmpnayx2e7s/shapefile_export/riv_spd.shp\n"
     ]
    }
   ],
   "source": [
    "m.riv.stress_period_data.export(\"{}/riv_spd.shp\".format(outdir), sparse=True)"
   ]
  },
  {
   "cell_type": "code",
   "execution_count": 15,
   "metadata": {
    "execution": {
     "iopub.execute_input": "2022-12-14T20:07:31.887675Z",
     "iopub.status.busy": "2022-12-14T20:07:31.887330Z",
     "iopub.status.idle": "2022-12-14T20:07:31.934195Z",
     "shell.execute_reply": "2022-12-14T20:07:31.932493Z"
    }
   },
   "outputs": [
    {
     "name": "stdout",
     "output_type": "stream",
     "text": [
      "wrote /tmp/tmpnayx2e7s/shapefile_export/wel_spd.shp\n"
     ]
    }
   ],
   "source": [
    "m.wel.stress_period_data.export(\"{}/wel_spd.shp\".format(outdir), sparse=True)"
   ]
  },
  {
   "cell_type": "markdown",
   "metadata": {},
   "source": [
    "## Ad-hoc exporting using `recarray2shp`\n",
    "* The main idea is to create a recarray with all of the attribute information, and a list of geometry features (one feature per row in the recarray)\n",
    "* each geometry feature is an instance of the `Point`, `LineString` or `Polygon` classes in `flopy.utils.geometry`. The shapefile format requires all the features to be of the same type.\n",
    "* We will use pandas dataframes for these examples because they are easy to work with, and then convert them to recarrays prior to exporting.\n"
   ]
  },
  {
   "cell_type": "code",
   "execution_count": 16,
   "metadata": {
    "execution": {
     "iopub.execute_input": "2022-12-14T20:07:31.939994Z",
     "iopub.status.busy": "2022-12-14T20:07:31.939675Z",
     "iopub.status.idle": "2022-12-14T20:07:31.945961Z",
     "shell.execute_reply": "2022-12-14T20:07:31.944491Z"
    }
   },
   "outputs": [],
   "source": [
    "from flopy.export.shapefile_utils import recarray2shp"
   ]
  },
  {
   "cell_type": "markdown",
   "metadata": {},
   "source": [
    "### combining data from different packages\n",
    "write a shapefile of RIV and WEL package cells"
   ]
  },
  {
   "cell_type": "code",
   "execution_count": 17,
   "metadata": {
    "execution": {
     "iopub.execute_input": "2022-12-14T20:07:31.951464Z",
     "iopub.status.busy": "2022-12-14T20:07:31.951037Z",
     "iopub.status.idle": "2022-12-14T20:07:31.972780Z",
     "shell.execute_reply": "2022-12-14T20:07:31.971603Z"
    }
   },
   "outputs": [
    {
     "data": {
      "text/html": [
       "<div>\n",
       "<style scoped>\n",
       "    .dataframe tbody tr th:only-of-type {\n",
       "        vertical-align: middle;\n",
       "    }\n",
       "\n",
       "    .dataframe tbody tr th {\n",
       "        vertical-align: top;\n",
       "    }\n",
       "\n",
       "    .dataframe thead th {\n",
       "        text-align: right;\n",
       "    }\n",
       "</style>\n",
       "<table border=\"1\" class=\"dataframe\">\n",
       "  <thead>\n",
       "    <tr style=\"text-align: right;\">\n",
       "      <th></th>\n",
       "      <th>k</th>\n",
       "      <th>i</th>\n",
       "      <th>j</th>\n",
       "      <th>flux</th>\n",
       "      <th>iface</th>\n",
       "      <th>stage</th>\n",
       "      <th>cond</th>\n",
       "      <th>rbot</th>\n",
       "    </tr>\n",
       "  </thead>\n",
       "  <tbody>\n",
       "    <tr>\n",
       "      <th>0</th>\n",
       "      <td>0</td>\n",
       "      <td>8</td>\n",
       "      <td>15</td>\n",
       "      <td>-0.00820</td>\n",
       "      <td>0.0</td>\n",
       "      <td>NaN</td>\n",
       "      <td>NaN</td>\n",
       "      <td>NaN</td>\n",
       "    </tr>\n",
       "    <tr>\n",
       "      <th>1</th>\n",
       "      <td>0</td>\n",
       "      <td>10</td>\n",
       "      <td>12</td>\n",
       "      <td>-0.00410</td>\n",
       "      <td>0.0</td>\n",
       "      <td>NaN</td>\n",
       "      <td>NaN</td>\n",
       "      <td>NaN</td>\n",
       "    </tr>\n",
       "    <tr>\n",
       "      <th>2</th>\n",
       "      <td>0</td>\n",
       "      <td>19</td>\n",
       "      <td>13</td>\n",
       "      <td>-0.00390</td>\n",
       "      <td>0.0</td>\n",
       "      <td>NaN</td>\n",
       "      <td>NaN</td>\n",
       "      <td>NaN</td>\n",
       "    </tr>\n",
       "    <tr>\n",
       "      <th>3</th>\n",
       "      <td>0</td>\n",
       "      <td>25</td>\n",
       "      <td>9</td>\n",
       "      <td>-0.00083</td>\n",
       "      <td>0.0</td>\n",
       "      <td>NaN</td>\n",
       "      <td>NaN</td>\n",
       "      <td>NaN</td>\n",
       "    </tr>\n",
       "    <tr>\n",
       "      <th>4</th>\n",
       "      <td>0</td>\n",
       "      <td>28</td>\n",
       "      <td>5</td>\n",
       "      <td>-0.00072</td>\n",
       "      <td>0.0</td>\n",
       "      <td>NaN</td>\n",
       "      <td>NaN</td>\n",
       "      <td>NaN</td>\n",
       "    </tr>\n",
       "  </tbody>\n",
       "</table>\n",
       "</div>"
      ],
      "text/plain": [
       "   k   i   j     flux  iface  stage  cond  rbot\n",
       "0  0   8  15 -0.00820    0.0    NaN   NaN   NaN\n",
       "1  0  10  12 -0.00410    0.0    NaN   NaN   NaN\n",
       "2  0  19  13 -0.00390    0.0    NaN   NaN   NaN\n",
       "3  0  25   9 -0.00083    0.0    NaN   NaN   NaN\n",
       "4  0  28   5 -0.00072    0.0    NaN   NaN   NaN"
      ]
     },
     "execution_count": 17,
     "metadata": {},
     "output_type": "execute_result"
    }
   ],
   "source": [
    "wellspd = pd.DataFrame(m.wel.stress_period_data[0])\n",
    "rivspd = pd.DataFrame(m.riv.stress_period_data[0])\n",
    "spd = wellspd.append(rivspd)\n",
    "spd.head()"
   ]
  },
  {
   "cell_type": "markdown",
   "metadata": {},
   "source": [
    "##### Create a list of Polygon features from the cell vertices stored in the modelgrid object"
   ]
  },
  {
   "cell_type": "code",
   "execution_count": 18,
   "metadata": {
    "execution": {
     "iopub.execute_input": "2022-12-14T20:07:31.977939Z",
     "iopub.status.busy": "2022-12-14T20:07:31.977454Z",
     "iopub.status.idle": "2022-12-14T20:07:31.988435Z",
     "shell.execute_reply": "2022-12-14T20:07:31.987385Z"
    }
   },
   "outputs": [
    {
     "data": {
      "text/plain": [
       "[<flopy.utils.geometry.Polygon at 0x7fa6eff25ad0>,\n",
       " <flopy.utils.geometry.Polygon at 0x7fa6eff25650>,\n",
       " <flopy.utils.geometry.Polygon at 0x7fa6eff25910>,\n",
       " <flopy.utils.geometry.Polygon at 0x7fa6eff257d0>,\n",
       " <flopy.utils.geometry.Polygon at 0x7fa6eff25790>,\n",
       " <flopy.utils.geometry.Polygon at 0x7fa6eff25b90>,\n",
       " <flopy.utils.geometry.Polygon at 0x7fa6eff25610>,\n",
       " <flopy.utils.geometry.Polygon at 0x7fa6eff25110>,\n",
       " <flopy.utils.geometry.Polygon at 0x7fa6eff254d0>,\n",
       " <flopy.utils.geometry.Polygon at 0x7fa6eff25550>,\n",
       " <flopy.utils.geometry.Polygon at 0x7fa6eff25590>,\n",
       " <flopy.utils.geometry.Polygon at 0x7fa6f015b310>,\n",
       " <flopy.utils.geometry.Polygon at 0x7fa6efffbf10>,\n",
       " <flopy.utils.geometry.Polygon at 0x7fa6efffbad0>,\n",
       " <flopy.utils.geometry.Polygon at 0x7fa6efffb610>,\n",
       " <flopy.utils.geometry.Polygon at 0x7fa714f450d0>,\n",
       " <flopy.utils.geometry.Polygon at 0x7fa6f772e550>,\n",
       " <flopy.utils.geometry.Polygon at 0x7fa6efffb410>,\n",
       " <flopy.utils.geometry.Polygon at 0x7fa6f572b190>,\n",
       " <flopy.utils.geometry.Polygon at 0x7fa6f572b2d0>,\n",
       " <flopy.utils.geometry.Polygon at 0x7fa6f0167790>,\n",
       " <flopy.utils.geometry.Polygon at 0x7fa6f2698990>,\n",
       " <flopy.utils.geometry.Polygon at 0x7fa6f0167910>,\n",
       " <flopy.utils.geometry.Polygon at 0x7fa6f737f590>,\n",
       " <flopy.utils.geometry.Polygon at 0x7fa6f737fa90>,\n",
       " <flopy.utils.geometry.Polygon at 0x7fa6f6fc41d0>,\n",
       " <flopy.utils.geometry.Polygon at 0x7fa6f7333550>,\n",
       " <flopy.utils.geometry.Polygon at 0x7fa6eff85c10>,\n",
       " <flopy.utils.geometry.Polygon at 0x7fa714f8b150>,\n",
       " <flopy.utils.geometry.Polygon at 0x7fa6f6fc4ad0>,\n",
       " <flopy.utils.geometry.Polygon at 0x7fa6effb2c50>,\n",
       " <flopy.utils.geometry.Polygon at 0x7fa6effb27d0>,\n",
       " <flopy.utils.geometry.Polygon at 0x7fa6effb2590>,\n",
       " <flopy.utils.geometry.Polygon at 0x7fa6effb24d0>,\n",
       " <flopy.utils.geometry.Polygon at 0x7fa6effb2890>,\n",
       " <flopy.utils.geometry.Polygon at 0x7fa6effb2850>,\n",
       " <flopy.utils.geometry.Polygon at 0x7fa6effb2e50>,\n",
       " <flopy.utils.geometry.Polygon at 0x7fa6effb2910>,\n",
       " <flopy.utils.geometry.Polygon at 0x7fa6effe3ad0>,\n",
       " <flopy.utils.geometry.Polygon at 0x7fa6effe3a10>,\n",
       " <flopy.utils.geometry.Polygon at 0x7fa6f279b650>,\n",
       " <flopy.utils.geometry.Polygon at 0x7fa6f279bc50>,\n",
       " <flopy.utils.geometry.Polygon at 0x7fa6f279bdd0>,\n",
       " <flopy.utils.geometry.Polygon at 0x7fa6f279bf10>,\n",
       " <flopy.utils.geometry.Polygon at 0x7fa6f279be10>,\n",
       " <flopy.utils.geometry.Polygon at 0x7fa6f279bed0>]"
      ]
     },
     "execution_count": 18,
     "metadata": {},
     "output_type": "execute_result"
    }
   ],
   "source": [
    "from flopy.utils.geometry import Polygon\n",
    "\n",
    "vertices = []\n",
    "for row, col in zip(spd.i, spd.j):\n",
    "    vertices.append(grid.get_cell_vertices(row, col))\n",
    "polygons = [Polygon(vrt) for vrt in vertices]\n",
    "polygons"
   ]
  },
  {
   "cell_type": "markdown",
   "metadata": {},
   "source": [
    "##### write the shapefile"
   ]
  },
  {
   "cell_type": "code",
   "execution_count": 19,
   "metadata": {
    "execution": {
     "iopub.execute_input": "2022-12-14T20:07:31.994604Z",
     "iopub.status.busy": "2022-12-14T20:07:31.994102Z",
     "iopub.status.idle": "2022-12-14T20:07:32.019437Z",
     "shell.execute_reply": "2022-12-14T20:07:32.018297Z"
    }
   },
   "outputs": [
    {
     "name": "stdout",
     "output_type": "stream",
     "text": [
      "wrote /tmp/tmpnayx2e7s/shapefile_export/bcs.shp\n"
     ]
    }
   ],
   "source": [
    "fname = \"{}/bcs.shp\".format(outdir)\n",
    "recarray2shp(spd.to_records(), geoms=polygons, shpname=fname, epsg=grid.epsg)"
   ]
  },
  {
   "cell_type": "code",
   "execution_count": 20,
   "metadata": {
    "execution": {
     "iopub.execute_input": "2022-12-14T20:07:32.025034Z",
     "iopub.status.busy": "2022-12-14T20:07:32.023963Z",
     "iopub.status.idle": "2022-12-14T20:07:32.233296Z",
     "shell.execute_reply": "2022-12-14T20:07:32.232106Z"
    }
   },
   "outputs": [
    {
     "data": {
      "image/png": "[encoded data removed]",
      "text/plain": [
       "<Figure size 640x480 with 1 Axes>"
      ]
     },
     "metadata": {},
     "output_type": "display_data"
    }
   ],
   "source": [
    "ax = plt.subplot(1, 1, 1, aspect=\"equal\")\n",
    "extents = grid.extent\n",
    "pc = flopy.plot.plot_shapefile(fname, ax=ax)\n",
    "ax.set_xlim(extents[0], extents[1])\n",
    "ax.set_ylim(extents[2], extents[3])\n",
    "ax.set_title(fname);"
   ]
  },
  {
   "cell_type": "markdown",
   "metadata": {},
   "source": [
    "### exporting other data\n",
    "Suppose we have some well data with actual locations that we want to export to a shapefile"
   ]
  },
  {
   "cell_type": "code",
   "execution_count": 21,
   "metadata": {
    "execution": {
     "iopub.execute_input": "2022-12-14T20:07:32.238121Z",
     "iopub.status.busy": "2022-12-14T20:07:32.237609Z",
     "iopub.status.idle": "2022-12-14T20:07:32.255808Z",
     "shell.execute_reply": "2022-12-14T20:07:32.254656Z"
    }
   },
   "outputs": [
    {
     "data": {
      "text/html": [
       "<div>\n",
       "<style scoped>\n",
       "    .dataframe tbody tr th:only-of-type {\n",
       "        vertical-align: middle;\n",
       "    }\n",
       "\n",
       "    .dataframe tbody tr th {\n",
       "        vertical-align: top;\n",
       "    }\n",
       "\n",
       "    .dataframe thead th {\n",
       "        text-align: right;\n",
       "    }\n",
       "</style>\n",
       "<table border=\"1\" class=\"dataframe\">\n",
       "  <thead>\n",
       "    <tr style=\"text-align: right;\">\n",
       "      <th></th>\n",
       "      <th>wellID</th>\n",
       "      <th>q</th>\n",
       "      <th>x_utm</th>\n",
       "      <th>y_utm</th>\n",
       "    </tr>\n",
       "  </thead>\n",
       "  <tbody>\n",
       "    <tr>\n",
       "      <th>0</th>\n",
       "      <td>0</td>\n",
       "      <td>-1150.512166</td>\n",
       "      <td>274349.170280</td>\n",
       "      <td>5.089654e+06</td>\n",
       "    </tr>\n",
       "    <tr>\n",
       "      <th>1</th>\n",
       "      <td>1</td>\n",
       "      <td>-849.554496</td>\n",
       "      <td>275916.802256</td>\n",
       "      <td>5.091916e+06</td>\n",
       "    </tr>\n",
       "    <tr>\n",
       "      <th>2</th>\n",
       "      <td>2</td>\n",
       "      <td>-1084.125819</td>\n",
       "      <td>274688.282031</td>\n",
       "      <td>5.094563e+06</td>\n",
       "    </tr>\n",
       "    <tr>\n",
       "      <th>3</th>\n",
       "      <td>3</td>\n",
       "      <td>-1034.885080</td>\n",
       "      <td>275979.993267</td>\n",
       "      <td>5.092038e+06</td>\n",
       "    </tr>\n",
       "    <tr>\n",
       "      <th>4</th>\n",
       "      <td>4</td>\n",
       "      <td>-1092.372422</td>\n",
       "      <td>276070.428409</td>\n",
       "      <td>5.090103e+06</td>\n",
       "    </tr>\n",
       "  </tbody>\n",
       "</table>\n",
       "</div>"
      ],
      "text/plain": [
       "   wellID            q          x_utm         y_utm\n",
       "0       0 -1150.512166  274349.170280  5.089654e+06\n",
       "1       1  -849.554496  275916.802256  5.091916e+06\n",
       "2       2 -1084.125819  274688.282031  5.094563e+06\n",
       "3       3 -1034.885080  275979.993267  5.092038e+06\n",
       "4       4 -1092.372422  276070.428409  5.090103e+06"
      ]
     },
     "execution_count": 21,
     "metadata": {},
     "output_type": "execute_result"
    }
   ],
   "source": [
    "welldata = pd.DataFrame(\n",
    "    {\n",
    "        \"wellID\": np.arange(0, 10),\n",
    "        \"q\": np.random.randn(10) * 100 - 1000,\n",
    "        \"x_utm\": np.random.rand(10) * 5000 + grid.xoffset,\n",
    "        \"y_utm\": grid.yoffset + np.random.rand(10) * 10000,\n",
    "    }\n",
    ")\n",
    "welldata.head()"
   ]
  },
  {
   "cell_type": "markdown",
   "metadata": {},
   "source": [
    "##### convert the x, y coorindates to point features and then export"
   ]
  },
  {
   "cell_type": "code",
   "execution_count": 22,
   "metadata": {
    "execution": {
     "iopub.execute_input": "2022-12-14T20:07:32.261033Z",
     "iopub.status.busy": "2022-12-14T20:07:32.260186Z",
     "iopub.status.idle": "2022-12-14T20:07:32.271732Z",
     "shell.execute_reply": "2022-12-14T20:07:32.270855Z"
    }
   },
   "outputs": [
    {
     "name": "stdout",
     "output_type": "stream",
     "text": [
      "wrote /tmp/tmpnayx2e7s/shapefile_export/wel_data.shp\n"
     ]
    }
   ],
   "source": [
    "from flopy.utils.geometry import Point\n",
    "\n",
    "geoms = [Point(x, y) for x, y in zip(welldata.x_utm, welldata.y_utm)]\n",
    "\n",
    "fname = \"{}/wel_data.shp\".format(outdir)\n",
    "recarray2shp(welldata.to_records(), geoms=geoms, shpname=fname, epsg=grid.epsg)"
   ]
  },
  {
   "cell_type": "code",
   "execution_count": 23,
   "metadata": {
    "execution": {
     "iopub.execute_input": "2022-12-14T20:07:32.276358Z",
     "iopub.status.busy": "2022-12-14T20:07:32.275763Z",
     "iopub.status.idle": "2022-12-14T20:07:32.471437Z",
     "shell.execute_reply": "2022-12-14T20:07:32.470138Z"
    }
   },
   "outputs": [
    {
     "data": {
      "image/png": "[encoded data removed]",
      "text/plain": [
       "<Figure size 640x480 with 1 Axes>"
      ]
     },
     "metadata": {},
     "output_type": "display_data"
    }
   ],
   "source": [
    "ax = plt.subplot(1, 1, 1, aspect=\"equal\")\n",
    "extents = grid.extent\n",
    "pc = flopy.plot.plot_shapefile(fname, ax=ax, radius=100)\n",
    "ax.set_xlim(extents[0], extents[1])\n",
    "ax.set_ylim(extents[2], extents[3])\n",
    "ax.set_title(fname);"
   ]
  },
  {
   "cell_type": "markdown",
   "metadata": {},
   "source": [
    "### Adding attribute data to an existing shapefile\n",
    "Suppose we have a GIS coverage representing the river in the riv package"
   ]
  },
  {
   "cell_type": "code",
   "execution_count": 24,
   "metadata": {
    "execution": {
     "iopub.execute_input": "2022-12-14T20:07:32.476537Z",
     "iopub.status.busy": "2022-12-14T20:07:32.475967Z",
     "iopub.status.idle": "2022-12-14T20:07:32.500278Z",
     "shell.execute_reply": "2022-12-14T20:07:32.499251Z"
    }
   },
   "outputs": [
    {
     "name": "stdout",
     "output_type": "stream",
     "text": [
      "wrote /tmp/tmpnayx2e7s/shapefile_export/riv_reaches.shp\n"
     ]
    }
   ],
   "source": [
    "from flopy.utils.geometry import LineString\n",
    "\n",
    "### make up a linestring shapefile of the river reaches\n",
    "i, j = m.riv.stress_period_data[0].i, m.riv.stress_period_data[0].j\n",
    "x0 = grid.xyzcellcenters[0][i[0], j[0]]\n",
    "x1 = grid.xyzcellcenters[0][i[-1], j[-1]]\n",
    "y0 = grid.xyzcellcenters[1][i[0], j[0]]\n",
    "y1 = grid.xyzcellcenters[1][i[-1], j[-1]]\n",
    "x = np.linspace(x0, x1, m.nrow + 1)\n",
    "y = np.linspace(y0, y1, m.nrow + 1)\n",
    "l0 = zip(list(zip(x[:-1], y[:-1])), list(zip(x[1:], y[1:])))\n",
    "lines = [LineString(l) for l in l0]\n",
    "\n",
    "rivdata = pd.DataFrame(m.riv.stress_period_data[0])\n",
    "rivdata[\"reach\"] = np.arange(len(lines))\n",
    "lines_shapefile = \"{}/riv_reaches.shp\".format(outdir)\n",
    "recarray2shp(\n",
    "    rivdata.to_records(index=False),\n",
    "    geoms=lines,\n",
    "    shpname=lines_shapefile,\n",
    "    epsg=grid.epsg,\n",
    ")"
   ]
  },
  {
   "cell_type": "code",
   "execution_count": 25,
   "metadata": {
    "execution": {
     "iopub.execute_input": "2022-12-14T20:07:32.504816Z",
     "iopub.status.busy": "2022-12-14T20:07:32.504289Z",
     "iopub.status.idle": "2022-12-14T20:07:32.698531Z",
     "shell.execute_reply": "2022-12-14T20:07:32.694603Z"
    }
   },
   "outputs": [
    {
     "data": {
      "image/png": "[encoded data removed]",
      "text/plain": [
       "<Figure size 640x480 with 1 Axes>"
      ]
     },
     "metadata": {},
     "output_type": "display_data"
    }
   ],
   "source": [
    "ax = plt.subplot(1, 1, 1, aspect=\"equal\")\n",
    "extents = grid.extent\n",
    "pc = flopy.plot.plot_shapefile(lines_shapefile, ax=ax, radius=25)\n",
    "ax.set_xlim(extents[0], extents[1])\n",
    "ax.set_ylim(extents[2], extents[3])\n",
    "ax.set_title(lines_shapefile);"
   ]
  },
  {
   "cell_type": "markdown",
   "metadata": {},
   "source": [
    "#### read in the GIS coverage using `shp2recarray`\n",
    "`shp2recarray` reads a shapefile into a numpy record array, which can easily be converted to a DataFrame"
   ]
  },
  {
   "cell_type": "code",
   "execution_count": 26,
   "metadata": {
    "execution": {
     "iopub.execute_input": "2022-12-14T20:07:32.703645Z",
     "iopub.status.busy": "2022-12-14T20:07:32.703069Z",
     "iopub.status.idle": "2022-12-14T20:07:32.709364Z",
     "shell.execute_reply": "2022-12-14T20:07:32.707000Z"
    }
   },
   "outputs": [],
   "source": [
    "from flopy.export.shapefile_utils import shp2recarray"
   ]
  },
  {
   "cell_type": "code",
   "execution_count": 27,
   "metadata": {
    "execution": {
     "iopub.execute_input": "2022-12-14T20:07:32.714456Z",
     "iopub.status.busy": "2022-12-14T20:07:32.713925Z",
     "iopub.status.idle": "2022-12-14T20:07:32.740251Z",
     "shell.execute_reply": "2022-12-14T20:07:32.739244Z"
    }
   },
   "outputs": [
    {
     "data": {
      "text/html": [
       "<div>\n",
       "<style scoped>\n",
       "    .dataframe tbody tr th:only-of-type {\n",
       "        vertical-align: middle;\n",
       "    }\n",
       "\n",
       "    .dataframe tbody tr th {\n",
       "        vertical-align: top;\n",
       "    }\n",
       "\n",
       "    .dataframe thead th {\n",
       "        text-align: right;\n",
       "    }\n",
       "</style>\n",
       "<table border=\"1\" class=\"dataframe\">\n",
       "  <thead>\n",
       "    <tr style=\"text-align: right;\">\n",
       "      <th></th>\n",
       "      <th>k</th>\n",
       "      <th>i</th>\n",
       "      <th>j</th>\n",
       "      <th>stage</th>\n",
       "      <th>cond</th>\n",
       "      <th>rbot</th>\n",
       "      <th>iface</th>\n",
       "      <th>reach</th>\n",
       "      <th>geometry</th>\n",
       "    </tr>\n",
       "  </thead>\n",
       "  <tbody>\n",
       "    <tr>\n",
       "      <th>0</th>\n",
       "      <td>0</td>\n",
       "      <td>0</td>\n",
       "      <td>14</td>\n",
       "      <td>20.100000</td>\n",
       "      <td>0.05</td>\n",
       "      <td>20.00</td>\n",
       "      <td>0.0</td>\n",
       "      <td>0</td>\n",
       "      <td>&lt;flopy.utils.geometry.LineString object at 0x7...</td>\n",
       "    </tr>\n",
       "    <tr>\n",
       "      <th>1</th>\n",
       "      <td>0</td>\n",
       "      <td>1</td>\n",
       "      <td>14</td>\n",
       "      <td>19.870001</td>\n",
       "      <td>0.05</td>\n",
       "      <td>19.75</td>\n",
       "      <td>0.0</td>\n",
       "      <td>1</td>\n",
       "      <td>&lt;flopy.utils.geometry.LineString object at 0x7...</td>\n",
       "    </tr>\n",
       "    <tr>\n",
       "      <th>2</th>\n",
       "      <td>0</td>\n",
       "      <td>2</td>\n",
       "      <td>14</td>\n",
       "      <td>19.650000</td>\n",
       "      <td>0.05</td>\n",
       "      <td>19.50</td>\n",
       "      <td>0.0</td>\n",
       "      <td>2</td>\n",
       "      <td>&lt;flopy.utils.geometry.LineString object at 0x7...</td>\n",
       "    </tr>\n",
       "    <tr>\n",
       "      <th>3</th>\n",
       "      <td>0</td>\n",
       "      <td>3</td>\n",
       "      <td>14</td>\n",
       "      <td>19.420000</td>\n",
       "      <td>0.05</td>\n",
       "      <td>19.25</td>\n",
       "      <td>0.0</td>\n",
       "      <td>3</td>\n",
       "      <td>&lt;flopy.utils.geometry.LineString object at 0x7...</td>\n",
       "    </tr>\n",
       "    <tr>\n",
       "      <th>4</th>\n",
       "      <td>0</td>\n",
       "      <td>4</td>\n",
       "      <td>14</td>\n",
       "      <td>19.190001</td>\n",
       "      <td>0.05</td>\n",
       "      <td>19.00</td>\n",
       "      <td>0.0</td>\n",
       "      <td>4</td>\n",
       "      <td>&lt;flopy.utils.geometry.LineString object at 0x7...</td>\n",
       "    </tr>\n",
       "  </tbody>\n",
       "</table>\n",
       "</div>"
      ],
      "text/plain": [
       "   k  i   j      stage  cond   rbot  iface  reach  \\\n",
       "0  0  0  14  20.100000  0.05  20.00    0.0      0   \n",
       "1  0  1  14  19.870001  0.05  19.75    0.0      1   \n",
       "2  0  2  14  19.650000  0.05  19.50    0.0      2   \n",
       "3  0  3  14  19.420000  0.05  19.25    0.0      3   \n",
       "4  0  4  14  19.190001  0.05  19.00    0.0      4   \n",
       "\n",
       "                                            geometry  \n",
       "0  <flopy.utils.geometry.LineString object at 0x7...  \n",
       "1  <flopy.utils.geometry.LineString object at 0x7...  \n",
       "2  <flopy.utils.geometry.LineString object at 0x7...  \n",
       "3  <flopy.utils.geometry.LineString object at 0x7...  \n",
       "4  <flopy.utils.geometry.LineString object at 0x7...  "
      ]
     },
     "execution_count": 27,
     "metadata": {},
     "output_type": "execute_result"
    }
   ],
   "source": [
    "linesdata = shp2recarray(lines_shapefile)\n",
    "linesdata = pd.DataFrame(linesdata)\n",
    "linesdata.head()"
   ]
  },
  {
   "cell_type": "markdown",
   "metadata": {},
   "source": [
    "##### Suppose we have some flow information that we read in from the cell budget file"
   ]
  },
  {
   "cell_type": "code",
   "execution_count": 28,
   "metadata": {
    "execution": {
     "iopub.execute_input": "2022-12-14T20:07:32.744902Z",
     "iopub.status.busy": "2022-12-14T20:07:32.744330Z",
     "iopub.status.idle": "2022-12-14T20:07:32.751809Z",
     "shell.execute_reply": "2022-12-14T20:07:32.750953Z"
    }
   },
   "outputs": [
    {
     "data": {
      "text/plain": [
       "array([-0.50222354, -0.45350313,  1.19180141,  3.39953898,  0.70812078,\n",
       "        0.38797264,  1.22391623,  1.76174771,  0.66299433,  1.10757669,\n",
       "        1.4685317 , -0.00900534,  1.56702339,  1.3882664 ,  1.20915165,\n",
       "        3.08012505,  1.46437781,  1.84395239,  0.9849442 ,  0.8709526 ,\n",
       "        2.09353228,  0.6242997 ,  0.66247482,  2.92592376,  0.72371522,\n",
       "       -0.04279972,  1.50808379,  0.23027479,  1.04316226,  1.87006361,\n",
       "        0.12355295,  1.1856407 ,  1.05602163,  0.50852444,  1.70371123,\n",
       "        1.63564375,  1.67019194,  0.27102416, -0.08006989,  1.62071462])"
      ]
     },
     "execution_count": 28,
     "metadata": {},
     "output_type": "execute_result"
    }
   ],
   "source": [
    "# make up some fluxes between the river and aquifer at each reach\n",
    "q = np.random.randn(len(linesdata)) + 1\n",
    "q"
   ]
  },
  {
   "cell_type": "markdown",
   "metadata": {},
   "source": [
    "##### Add reachs fluxes and cumulative flow to lines DataFrame"
   ]
  },
  {
   "cell_type": "code",
   "execution_count": 29,
   "metadata": {
    "execution": {
     "iopub.execute_input": "2022-12-14T20:07:32.755705Z",
     "iopub.status.busy": "2022-12-14T20:07:32.755240Z",
     "iopub.status.idle": "2022-12-14T20:07:32.760947Z",
     "shell.execute_reply": "2022-12-14T20:07:32.760006Z"
    }
   },
   "outputs": [],
   "source": [
    "linesdata[\"qreach\"] = q\n",
    "linesdata[\"qstream\"] = np.cumsum(q)"
   ]
  },
  {
   "cell_type": "code",
   "execution_count": 30,
   "metadata": {
    "execution": {
     "iopub.execute_input": "2022-12-14T20:07:32.765360Z",
     "iopub.status.busy": "2022-12-14T20:07:32.764786Z",
     "iopub.status.idle": "2022-12-14T20:07:32.781437Z",
     "shell.execute_reply": "2022-12-14T20:07:32.780481Z"
    }
   },
   "outputs": [
    {
     "name": "stdout",
     "output_type": "stream",
     "text": [
      "wrote /tmp/tmpnayx2e7s/shapefile_export/riv_reaches.shp\n"
     ]
    }
   ],
   "source": [
    "recarray2shp(\n",
    "    linesdata.drop(\"geometry\", axis=1).to_records(),\n",
    "    geoms=linesdata.geometry.values,\n",
    "    shpname=lines_shapefile,\n",
    "    epsg=grid.epsg,\n",
    ")"
   ]
  },
  {
   "cell_type": "code",
   "execution_count": 31,
   "metadata": {
    "execution": {
     "iopub.execute_input": "2022-12-14T20:07:32.785942Z",
     "iopub.status.busy": "2022-12-14T20:07:32.785444Z",
     "iopub.status.idle": "2022-12-14T20:07:32.985285Z",
     "shell.execute_reply": "2022-12-14T20:07:32.984438Z"
    }
   },
   "outputs": [
    {
     "data": {
      "image/png": "[encoded data removed]",
      "text/plain": [
       "<Figure size 640x480 with 1 Axes>"
      ]
     },
     "metadata": {},
     "output_type": "display_data"
    }
   ],
   "source": [
    "ax = plt.subplot(1, 1, 1, aspect=\"equal\")\n",
    "extents = grid.extent\n",
    "pc = flopy.plot.plot_shapefile(lines_shapefile, ax=ax, radius=25)\n",
    "ax.set_xlim(extents[0], extents[1])\n",
    "ax.set_ylim(extents[2], extents[3])\n",
    "ax.set_title(lines_shapefile);"
   ]
  },
  {
   "cell_type": "markdown",
   "metadata": {},
   "source": [
    "## Overriding the model's modelgrid with a user supplied modelgrid\n",
    "\n",
    "In some cases it may be necessary to override the model's modelgrid instance with a seperate modelgrid. An example of this is if the model discretization is in feet and the user would like it projected in meters. Exporting can be accomplished by supplying a modelgrid as a `kwarg` in any of the `export()` methods within flopy. Below is an example:"
   ]
  },
  {
   "cell_type": "code",
   "execution_count": 32,
   "metadata": {
    "execution": {
     "iopub.execute_input": "2022-12-14T20:07:32.989857Z",
     "iopub.status.busy": "2022-12-14T20:07:32.989366Z",
     "iopub.status.idle": "2022-12-14T20:07:33.268644Z",
     "shell.execute_reply": "2022-12-14T20:07:33.267539Z"
    }
   },
   "outputs": [
    {
     "name": "stdout",
     "output_type": "stream",
     "text": [
      "wrote /tmp/tmpnayx2e7s/shapefile_export/freyberg.shp\n"
     ]
    },
    {
     "data": {
      "text/plain": [
       "'/tmp/tmpnayx2e7s/shapefile_export/freyberg.shp'"
      ]
     },
     "execution_count": 32,
     "metadata": {},
     "output_type": "execute_result"
    }
   ],
   "source": [
    "mg0 = m.modelgrid\n",
    "\n",
    "# build a new modelgrid instance with discretization in meters\n",
    "modelgrid = flopy.discretization.StructuredGrid(\n",
    "    delc=mg0.delc * 0.3048,\n",
    "    delr=mg0.delr * 0.3048,\n",
    "    top=mg0.top,\n",
    "    botm=mg0.botm,\n",
    "    idomain=mg0.idomain,\n",
    "    xoff=mg0.xoffset * 0.3048,\n",
    "    yoff=mg0.yoffset * 0.3048,\n",
    ")\n",
    "\n",
    "# exporting an entire model\n",
    "m.export(\"{}/freyberg.shp\".format(outdir), modelgrid=modelgrid)"
   ]
  },
  {
   "cell_type": "markdown",
   "metadata": {},
   "source": [
    "And for a specific parameter the method is the same"
   ]
  },
  {
   "cell_type": "code",
   "execution_count": 33,
   "metadata": {
    "execution": {
     "iopub.execute_input": "2022-12-14T20:07:33.274305Z",
     "iopub.status.busy": "2022-12-14T20:07:33.273985Z",
     "iopub.status.idle": "2022-12-14T20:07:33.366292Z",
     "shell.execute_reply": "2022-12-14T20:07:33.365360Z"
    }
   },
   "outputs": [
    {
     "name": "stdout",
     "output_type": "stream",
     "text": [
      "wrote /tmp/tmpnayx2e7s/shapefile_export/hk.shp\n"
     ]
    }
   ],
   "source": [
    "fname = \"{}/hk.shp\".format(outdir)\n",
    "m.lpf.hk.export(fname, modelgrid=modelgrid)"
   ]
  },
  {
   "cell_type": "code",
   "execution_count": 34,
   "metadata": {
    "execution": {
     "iopub.execute_input": "2022-12-14T20:07:33.371250Z",
     "iopub.status.busy": "2022-12-14T20:07:33.370734Z",
     "iopub.status.idle": "2022-12-14T20:07:33.784941Z",
     "shell.execute_reply": "2022-12-14T20:07:33.784003Z"
    }
   },
   "outputs": [
    {
     "data": {
      "image/png": "[encoded data removed]",
      "text/plain": [
       "<Figure size 640x480 with 1 Axes>"
      ]
     },
     "metadata": {},
     "output_type": "display_data"
    }
   ],
   "source": [
    "ax = plt.subplot(1, 1, 1, aspect=\"equal\")\n",
    "extents = modelgrid.extent\n",
    "a = m.lpf.hk.array.ravel()\n",
    "pc = flopy.plot.plot_shapefile(fname, ax=ax, a=a)\n",
    "ax.set_xlim(extents[0], extents[1])\n",
    "ax.set_ylim(extents[2], extents[3])\n",
    "ax.set_title(fname);"
   ]
  },
  {
   "cell_type": "code",
   "execution_count": 35,
   "metadata": {
    "execution": {
     "iopub.execute_input": "2022-12-14T20:07:33.789450Z",
     "iopub.status.busy": "2022-12-14T20:07:33.788630Z",
     "iopub.status.idle": "2022-12-14T20:07:33.794830Z",
     "shell.execute_reply": "2022-12-14T20:07:33.793950Z"
    }
   },
   "outputs": [],
   "source": [
    "try:\n",
    "    # ignore PermissionError on Windows\n",
    "    temp_dir.cleanup()\n",
    "except:\n",
    "    pass\n"
   ]
  }
 ],
 "metadata": {
  "kernelspec": {
   "display_name": "Python 3",
   "language": "python",
   "name": "python3"
  },
  "language_info": {
   "codemirror_mode": {
    "name": "ipython",
    "version": 3
   },
   "file_extension": ".py",
   "mimetype": "text/x-python",
   "name": "python",
   "nbconvert_exporter": "python",
   "pygments_lexer": "ipython3",
   "version": "3.7.15"
  }
 },
 "nbformat": 4,
 "nbformat_minor": 4
}
