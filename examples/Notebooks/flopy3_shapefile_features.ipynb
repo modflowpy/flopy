{
 "cells": [
  {
   "cell_type": "markdown",
   "metadata": {},
   "source": [
    "### This notebook shows some lower-level functionality in `flopy` for working with shapefiles\n",
    "including:\n",
    "* `recarray2shp` convience function for writing a numpy record array to a shapefile\n",
    "* `shp2recarray` convience function for quickly reading a shapefile into a numpy recarray\n",
    "* `utils.geometry` classes for writing shapefiles of model input/output. For example, quickly writing a shapefile of model cells with errors identified by the checker\n",
    "* demonstration of how the `EpsgReference` class works for retrieving projection file information (WKT text) from spatialreference.org, and caching that information locally for when an internet connection isn't available\n",
    "* how to reset `EpsgReference` if it becomes corrupted\n",
    "* examples of how the `Point` and `LineString` classes can be used to quickly plot pathlines and endpoints from MODPATH (these are also used by the `PathlineFile` and `EndpointFile` classes to write shapefiles of this output)"
   ]
  },
  {
   "cell_type": "code",
   "execution_count": 1,
   "metadata": {
    "execution": {
     "iopub.execute_input": "2023-02-08T16:14:53.757716Z",
     "iopub.status.busy": "2023-02-08T16:14:53.757716Z",
     "iopub.status.idle": "2023-02-08T16:14:54.844705Z",
     "shell.execute_reply": "2023-02-08T16:14:54.844705Z"
    }
   },
   "outputs": [
    {
     "name": "stdout",
     "output_type": "stream",
     "text": [
      "3.9.12 (main, Apr  4 2022, 05:22:27) [MSC v.1916 64 bit (AMD64)]\n",
      "numpy version: 1.21.5\n",
      "matplotlib version: 3.4.3\n",
      "flopy version: 3.3.7\n"
     ]
    }
   ],
   "source": [
    "import os\n",
    "import sys\n",
    "import shutil\n",
    "from tempfile import TemporaryDirectory\n",
    "\n",
    "import numpy as np\n",
    "import matplotlib as mpl\n",
    "import matplotlib.pyplot as plt\n",
    "import warnings\n",
    "\n",
    "\n",
    "# run installed version of flopy or add local path\n",
    "try:\n",
    "    import flopy\n",
    "except:\n",
    "    fpth = os.path.abspath(os.path.join(\"..\", \"..\"))\n",
    "    sys.path.append(fpth)\n",
    "    import flopy\n",
    "\n",
    "from flopy.utils.geometry import Polygon, LineString, Point\n",
    "from flopy.export.shapefile_utils import recarray2shp, shp2recarray\n",
    "from flopy.utils.modpathfile import PathlineFile, EndpointFile\n",
    "from flopy.utils import geometry\n",
    "\n",
    "warnings.simplefilter(\"ignore\", UserWarning)\n",
    "print(sys.version)\n",
    "print(\"numpy version: {}\".format(np.__version__))\n",
    "print(\"matplotlib version: {}\".format(mpl.__version__))\n",
    "print(\"flopy version: {}\".format(flopy.__version__))"
   ]
  },
  {
   "cell_type": "markdown",
   "metadata": {},
   "source": [
    "### write a numpy record array to a shapefile\n",
    "in this case, we want to visualize output from the checker  \n",
    "first make a toy model"
   ]
  },
  {
   "cell_type": "code",
   "execution_count": 2,
   "metadata": {
    "execution": {
     "iopub.execute_input": "2023-02-08T16:14:54.844705Z",
     "iopub.status.busy": "2023-02-08T16:14:54.844705Z",
     "iopub.status.idle": "2023-02-08T16:14:54.860513Z",
     "shell.execute_reply": "2023-02-08T16:14:54.860513Z"
    }
   },
   "outputs": [],
   "source": [
    "temp_dir = TemporaryDirectory()\n",
    "workspace = temp_dir.name\n",
    "\n",
    "m = flopy.modflow.Modflow(\"toy_model\", model_ws=workspace)\n",
    "botm = np.zeros((2, 10, 10))\n",
    "botm[0, :, :] = 1.5\n",
    "botm[1, 5, 5] = 4  # negative layer thickness!\n",
    "botm[1, 6, 6] = 4\n",
    "dis = flopy.modflow.ModflowDis(\n",
    "    nrow=10, ncol=10, nlay=2, delr=100, delc=100, top=3, botm=botm, model=m\n",
    ")"
   ]
  },
  {
   "cell_type": "markdown",
   "metadata": {},
   "source": [
    "### set coordinate information"
   ]
  },
  {
   "cell_type": "code",
   "execution_count": 3,
   "metadata": {
    "execution": {
     "iopub.execute_input": "2023-02-08T16:14:54.860513Z",
     "iopub.status.busy": "2023-02-08T16:14:54.860513Z",
     "iopub.status.idle": "2023-02-08T16:14:54.882556Z",
     "shell.execute_reply": "2023-02-08T16:14:54.882556Z"
    }
   },
   "outputs": [],
   "source": [
    "grid = m.modelgrid\n",
    "grid.set_coord_info(xoff=600000, yoff=5170000, proj4=\"EPSG:26715\", angrot=45)"
   ]
  },
  {
   "cell_type": "code",
   "execution_count": 4,
   "metadata": {
    "execution": {
     "iopub.execute_input": "2023-02-08T16:14:54.882556Z",
     "iopub.status.busy": "2023-02-08T16:14:54.882556Z",
     "iopub.status.idle": "2023-02-08T16:14:54.898174Z",
     "shell.execute_reply": "2023-02-08T16:14:54.898174Z"
    }
   },
   "outputs": [
    {
     "name": "stdout",
     "output_type": "stream",
     "text": [
      "\n",
      "DIS PACKAGE DATA VALIDATION:\n",
      "  2 Errors:\n",
      "    2 instances of zero or negative thickness\n",
      "\n",
      "  Checks that passed:\n",
      "    thin cells (less than checker threshold of 1.0)\n",
      "    nan values in top array\n",
      "    nan values in bottom array\n",
      "\n"
     ]
    },
    {
     "data": {
      "text/plain": [
       "rec.array([('Error', 'DIS', 1, 5, 5, -2.5, 'zero or negative thickness'),\n",
       "           ('Error', 'DIS', 1, 6, 6, -2.5, 'zero or negative thickness')],\n",
       "          dtype=[('type', 'O'), ('package', 'O'), ('k', '<i4'), ('i', '<i4'), ('j', '<i4'), ('value', '<f8'), ('desc', 'O')])"
      ]
     },
     "execution_count": 4,
     "metadata": {},
     "output_type": "execute_result"
    }
   ],
   "source": [
    "chk = dis.check()\n",
    "chk.summary_array"
   ]
  },
  {
   "cell_type": "markdown",
   "metadata": {},
   "source": [
    "### make geometry objects for the cells with errors  \n",
    "*  geometry objects allow the shapefile writer to be simpler and agnostic about the kind of geometry"
   ]
  },
  {
   "cell_type": "code",
   "execution_count": 5,
   "metadata": {
    "execution": {
     "iopub.execute_input": "2023-02-08T16:14:54.898174Z",
     "iopub.status.busy": "2023-02-08T16:14:54.898174Z",
     "iopub.status.idle": "2023-02-08T16:14:54.913621Z",
     "shell.execute_reply": "2023-02-08T16:14:54.913621Z"
    }
   },
   "outputs": [],
   "source": [
    "get_vertices = (\n",
    "    m.modelgrid.get_cell_vertices\n",
    ")  # function to get the referenced vertices for a model cell\n",
    "geoms = [Polygon(get_vertices(i, j)) for i, j in chk.summary_array[[\"i\", \"j\"]]]"
   ]
  },
  {
   "cell_type": "code",
   "execution_count": 6,
   "metadata": {
    "execution": {
     "iopub.execute_input": "2023-02-08T16:14:54.913621Z",
     "iopub.status.busy": "2023-02-08T16:14:54.913621Z",
     "iopub.status.idle": "2023-02-08T16:14:54.929243Z",
     "shell.execute_reply": "2023-02-08T16:14:54.929243Z"
    }
   },
   "outputs": [
    {
     "data": {
      "text/plain": [
       "'Polygon'"
      ]
     },
     "execution_count": 6,
     "metadata": {},
     "output_type": "execute_result"
    }
   ],
   "source": [
    "geoms[0].type"
   ]
  },
  {
   "cell_type": "code",
   "execution_count": 7,
   "metadata": {
    "execution": {
     "iopub.execute_input": "2023-02-08T16:14:54.929243Z",
     "iopub.status.busy": "2023-02-08T16:14:54.929243Z",
     "iopub.status.idle": "2023-02-08T16:14:54.944868Z",
     "shell.execute_reply": "2023-02-08T16:14:54.944868Z"
    }
   },
   "outputs": [
    {
     "data": {
      "text/plain": [
       "((600000.0, 5170707.106781187),\n",
       " (600070.7106781186, 5170777.817459305),\n",
       " (600141.4213562373, 5170707.106781187),\n",
       " (600070.7106781186, 5170636.396103068))"
      ]
     },
     "execution_count": 7,
     "metadata": {},
     "output_type": "execute_result"
    }
   ],
   "source": [
    "geoms[0].exterior"
   ]
  },
  {
   "cell_type": "code",
   "execution_count": 8,
   "metadata": {
    "execution": {
     "iopub.execute_input": "2023-02-08T16:14:54.944868Z",
     "iopub.status.busy": "2023-02-08T16:14:54.944868Z",
     "iopub.status.idle": "2023-02-08T16:14:54.960489Z",
     "shell.execute_reply": "2023-02-08T16:14:54.960489Z"
    }
   },
   "outputs": [
    {
     "data": {
      "text/plain": [
       "(600000.0, 5170636.396103068, 600141.4213562373, 5170777.817459305)"
      ]
     },
     "execution_count": 8,
     "metadata": {},
     "output_type": "execute_result"
    }
   ],
   "source": [
    "geoms[0].bounds"
   ]
  },
  {
   "cell_type": "code",
   "execution_count": 9,
   "metadata": {
    "execution": {
     "iopub.execute_input": "2023-02-08T16:14:54.960489Z",
     "iopub.status.busy": "2023-02-08T16:14:54.960489Z",
     "iopub.status.idle": "2023-02-08T16:14:55.130787Z",
     "shell.execute_reply": "2023-02-08T16:14:55.129756Z"
    }
   },
   "outputs": [
    {
     "data": {
      "text/plain": [
       "<AxesSubplot:>"
      ]
     },
     "execution_count": 9,
     "metadata": {},
     "output_type": "execute_result"
    },
    {
     "data": {
      "image/png": "[encoded data removed]",
      "text/plain": [
       "<Figure size 432x288 with 1 Axes>"
      ]
     },
     "metadata": {
      "needs_background": "light"
     },
     "output_type": "display_data"
    }
   ],
   "source": [
    "geoms[0].plot()  # this feature requires descartes"
   ]
  },
  {
   "cell_type": "markdown",
   "metadata": {},
   "source": [
    "### write the shapefile  \n",
    "* the projection (.prj) file can be written using an epsg code  \n",
    "* or copied from an existing .prj file"
   ]
  },
  {
   "cell_type": "code",
   "execution_count": 10,
   "metadata": {
    "execution": {
     "iopub.execute_input": "2023-02-08T16:14:55.132786Z",
     "iopub.status.busy": "2023-02-08T16:14:55.132786Z",
     "iopub.status.idle": "2023-02-08T16:14:55.426273Z",
     "shell.execute_reply": "2023-02-08T16:14:55.426273Z"
    }
   },
   "outputs": [
    {
     "name": "stdout",
     "output_type": "stream",
     "text": [
      "(<class 'urllib.error.URLError'>, URLError(SSLCertVerificationError(1, '[SSL: CERTIFICATE_VERIFY_FAILED] certificate verify failed: certificate has expired (_ssl.c:1129)')), <traceback object at 0x000001FDA70D2980>)\n",
      "(<class 'urllib.error.URLError'>, URLError(SSLCertVerificationError(1, '[SSL: CERTIFICATE_VERIFY_FAILED] certificate verify failed: certificate has expired (_ssl.c:1129)')), <traceback object at 0x000001FDA70C47C0>)\n",
      "No internet connection or epsg code 26715 not found at:\n",
      "   1: https://spatialreference.org/ref/epsg/26715/esriwkt/\n",
      "   2: https://spatialreference.org/ref/esri/26715/esriwkt/\n",
      "\n",
      "wrote ..\\..\\..\\..\\AppData\\Local\\Temp\\10\\tmpebu8kzck\\test.shp\n"
     ]
    }
   ],
   "source": [
    "from pathlib import Path\n",
    "\n",
    "recarray2shp(chk.summary_array, geoms, os.path.join(workspace, \"test.shp\"), epsg=26715)\n",
    "shape_path = os.path.join(workspace, \"test.prj\")\n",
    "\n",
    "# if [spatialreference.org](https://spatialreference.org/) can't be reached,\n",
    "# shapefile won't exist and we should skip any subsequent dependent cells\n",
    "skip = not Path(shape_path).is_file()\n",
    "if skip:\n",
    "    from warnings import warn\n",
    "    warn(\"Failed to connect to spatialreference.org, skipping\")"
   ]
  },
  {
   "cell_type": "code",
   "execution_count": 11,
   "metadata": {
    "execution": {
     "iopub.execute_input": "2023-02-08T16:14:55.426273Z",
     "iopub.status.busy": "2023-02-08T16:14:55.426273Z",
     "iopub.status.idle": "2023-02-08T16:14:55.442014Z",
     "shell.execute_reply": "2023-02-08T16:14:55.442014Z"
    },
    "pycharm": {
     "name": "#%%\n"
    }
   },
   "outputs": [],
   "source": [
    "if not skip:\n",
    "    shutil.copy(shape_path, os.path.join(workspace, \"26715.prj\"))\n",
    "    recarray2shp(chk.summary_array, geoms, os.path.join(workspace, \"test.shp\"), prj=os.path.join(workspace, \"26715.prj\"))"
   ]
  },
  {
   "cell_type": "markdown",
   "metadata": {},
   "source": [
    "### read it back in\n",
    "* flopy geometry objects representing the shapes are stored in the 'geometry' field"
   ]
  },
  {
   "cell_type": "code",
   "execution_count": 12,
   "metadata": {
    "execution": {
     "iopub.execute_input": "2023-02-08T16:14:55.443594Z",
     "iopub.status.busy": "2023-02-08T16:14:55.443594Z",
     "iopub.status.idle": "2023-02-08T16:14:55.459646Z",
     "shell.execute_reply": "2023-02-08T16:14:55.458648Z"
    },
    "pycharm": {
     "name": "#%%\n"
    }
   },
   "outputs": [],
   "source": [
    "if not skip:\n",
    "    ra = shp2recarray(os.path.join(workspace, \"test.shp\"))\n",
    "    ra"
   ]
  },
  {
   "cell_type": "code",
   "execution_count": 13,
   "metadata": {
    "execution": {
     "iopub.execute_input": "2023-02-08T16:14:55.463594Z",
     "iopub.status.busy": "2023-02-08T16:14:55.462561Z",
     "iopub.status.idle": "2023-02-08T16:14:55.475387Z",
     "shell.execute_reply": "2023-02-08T16:14:55.474350Z"
    },
    "pycharm": {
     "name": "#%%\n"
    }
   },
   "outputs": [],
   "source": [
    "if not skip:\n",
    "    ra.geometry[0].plot()"
   ]
  },
  {
   "cell_type": "markdown",
   "metadata": {},
   "source": [
    "### How the epsg feature works  \n",
    "* requires an internet connection the first time to get the prj text from [spatialreference.org](https://spatialreference.org/) using ```requests```  \n",
    "* if it doesn't exist, ```epsgref.json``` is created in the user's data directory\n",
    "* the prj text is then stashed in this JSON file hashed by the EPSG numeric code"
   ]
  },
  {
   "cell_type": "code",
   "execution_count": 14,
   "metadata": {
    "execution": {
     "iopub.execute_input": "2023-02-08T16:14:55.476755Z",
     "iopub.status.busy": "2023-02-08T16:14:55.476755Z",
     "iopub.status.idle": "2023-02-08T16:14:55.492959Z",
     "shell.execute_reply": "2023-02-08T16:14:55.491961Z"
    }
   },
   "outputs": [],
   "source": [
    "from flopy.export.shapefile_utils import EpsgReference\n",
    "\n",
    "if not skip:\n",
    "    ep = EpsgReference()\n",
    "    prj = ep.to_dict()\n",
    "    prj"
   ]
  },
  {
   "cell_type": "code",
   "execution_count": 15,
   "metadata": {
    "execution": {
     "iopub.execute_input": "2023-02-08T16:14:55.494912Z",
     "iopub.status.busy": "2023-02-08T16:14:55.494912Z",
     "iopub.status.idle": "2023-02-08T16:14:55.510140Z",
     "shell.execute_reply": "2023-02-08T16:14:55.510140Z"
    }
   },
   "outputs": [],
   "source": [
    "from flopy.export.shapefile_utils import CRS, EpsgReference"
   ]
  },
  {
   "cell_type": "code",
   "execution_count": 16,
   "metadata": {
    "execution": {
     "iopub.execute_input": "2023-02-08T16:14:55.510140Z",
     "iopub.status.busy": "2023-02-08T16:14:55.510140Z",
     "iopub.status.idle": "2023-02-08T16:14:55.525930Z",
     "shell.execute_reply": "2023-02-08T16:14:55.525930Z"
    }
   },
   "outputs": [],
   "source": [
    "if not skip:\n",
    "    CRS.getprj(4326)\n",
    "\n",
    "    prj = ep.to_dict()\n",
    "    for k, v in prj.items():\n",
    "        print(\"{}:\\n{}\\n\".format(k, v))"
   ]
  },
  {
   "cell_type": "markdown",
   "metadata": {},
   "source": [
    "### working with the ```flopy.export.shapefile_utils.EpsgReference``` handler"
   ]
  },
  {
   "cell_type": "code",
   "execution_count": 17,
   "metadata": {
    "execution": {
     "iopub.execute_input": "2023-02-08T16:14:55.529952Z",
     "iopub.status.busy": "2023-02-08T16:14:55.528922Z",
     "iopub.status.idle": "2023-02-08T16:14:55.542923Z",
     "shell.execute_reply": "2023-02-08T16:14:55.541923Z"
    }
   },
   "outputs": [],
   "source": [
    "ep = EpsgReference()\n",
    "\n",
    "if not skip:\n",
    "    ep.add(9999, \"junk\")\n",
    "    EpsgReference.show()"
   ]
  },
  {
   "cell_type": "markdown",
   "metadata": {},
   "source": [
    "#### remove an entry"
   ]
  },
  {
   "cell_type": "code",
   "execution_count": 18,
   "metadata": {
    "execution": {
     "iopub.execute_input": "2023-02-08T16:14:55.546909Z",
     "iopub.status.busy": "2023-02-08T16:14:55.546909Z",
     "iopub.status.idle": "2023-02-08T16:14:55.558173Z",
     "shell.execute_reply": "2023-02-08T16:14:55.557544Z"
    }
   },
   "outputs": [],
   "source": [
    "if not skip:\n",
    "    ep.remove(9999)\n",
    "    EpsgReference.show()"
   ]
  },
  {
   "cell_type": "markdown",
   "metadata": {},
   "source": [
    "#### start over with a new file"
   ]
  },
  {
   "cell_type": "code",
   "execution_count": 19,
   "metadata": {
    "execution": {
     "iopub.execute_input": "2023-02-08T16:14:55.561156Z",
     "iopub.status.busy": "2023-02-08T16:14:55.561156Z",
     "iopub.status.idle": "2023-02-08T16:14:55.573741Z",
     "shell.execute_reply": "2023-02-08T16:14:55.573741Z"
    }
   },
   "outputs": [],
   "source": [
    "if not skip:\n",
    "    ep.reset()\n",
    "    prj = ep.to_dict()\n",
    "    prj"
   ]
  },
  {
   "cell_type": "markdown",
   "metadata": {},
   "source": [
    "## Other geometry types\n",
    "\n",
    "### Linestring  \n",
    "* create geometry objects for pathlines from a MODPATH simulation\n",
    "* plot the paths using the built in plotting method"
   ]
  },
  {
   "cell_type": "code",
   "execution_count": 20,
   "metadata": {
    "execution": {
     "iopub.execute_input": "2023-02-08T16:14:55.577734Z",
     "iopub.status.busy": "2023-02-08T16:14:55.577734Z",
     "iopub.status.idle": "2023-02-08T16:14:55.605698Z",
     "shell.execute_reply": "2023-02-08T16:14:55.605698Z"
    }
   },
   "outputs": [],
   "source": [
    "pthfile = PathlineFile(\"../data/mp6/EXAMPLE-3.pathline\")\n",
    "pthdata = pthfile._data.view(np.recarray)"
   ]
  },
  {
   "cell_type": "code",
   "execution_count": 21,
   "metadata": {
    "execution": {
     "iopub.execute_input": "2023-02-08T16:14:55.608651Z",
     "iopub.status.busy": "2023-02-08T16:14:55.608651Z",
     "iopub.status.idle": "2023-02-08T16:14:55.620618Z",
     "shell.execute_reply": "2023-02-08T16:14:55.620618Z"
    }
   },
   "outputs": [],
   "source": [
    "length_mult = 1.0  # multiplier to convert coordinates from model to real world\n",
    "rot = 0  # grid rotation\n",
    "\n",
    "particles = np.unique(pthdata.particleid)\n",
    "geoms = []\n",
    "for pid in particles:\n",
    "    ra = pthdata[pthdata.particleid == pid]\n",
    "\n",
    "    x, y = geometry.rotate(\n",
    "        ra.x * length_mult, ra.y * length_mult, grid.xoffset, grid.yoffset, rot\n",
    "    )\n",
    "    z = ra.z\n",
    "    geoms.append(LineString(list(zip(x, y, z))))"
   ]
  },
  {
   "cell_type": "code",
   "execution_count": 22,
   "metadata": {
    "execution": {
     "iopub.execute_input": "2023-02-08T16:14:55.623611Z",
     "iopub.status.busy": "2023-02-08T16:14:55.622614Z",
     "iopub.status.idle": "2023-02-08T16:14:55.635579Z",
     "shell.execute_reply": "2023-02-08T16:14:55.635579Z"
    }
   },
   "outputs": [
    {
     "data": {
      "text/plain": [
       "<flopy.utils.geometry.LineString at 0x1fda70c7070>"
      ]
     },
     "execution_count": 22,
     "metadata": {},
     "output_type": "execute_result"
    }
   ],
   "source": [
    "geoms[0]"
   ]
  },
  {
   "cell_type": "code",
   "execution_count": 23,
   "metadata": {
    "execution": {
     "iopub.execute_input": "2023-02-08T16:14:55.638571Z",
     "iopub.status.busy": "2023-02-08T16:14:55.638571Z",
     "iopub.status.idle": "2023-02-08T16:14:55.738900Z",
     "shell.execute_reply": "2023-02-08T16:14:55.738900Z"
    }
   },
   "outputs": [
    {
     "data": {
      "text/plain": [
       "<AxesSubplot:>"
      ]
     },
     "execution_count": 23,
     "metadata": {},
     "output_type": "execute_result"
    },
    {
     "data": {
      "image/png": "[encoded data removed]",
      "text/plain": [
       "<Figure size 432x288 with 1 Axes>"
      ]
     },
     "metadata": {
      "needs_background": "light"
     },
     "output_type": "display_data"
    }
   ],
   "source": [
    "geoms[0].plot()"
   ]
  },
  {
   "cell_type": "code",
   "execution_count": 24,
   "metadata": {
    "execution": {
     "iopub.execute_input": "2023-02-08T16:14:55.741857Z",
     "iopub.status.busy": "2023-02-08T16:14:55.741857Z",
     "iopub.status.idle": "2023-02-08T16:14:55.841586Z",
     "shell.execute_reply": "2023-02-08T16:14:55.840635Z"
    }
   },
   "outputs": [
    {
     "data": {
      "image/png": "[encoded data removed]",
      "text/plain": [
       "<Figure size 432x288 with 1 Axes>"
      ]
     },
     "metadata": {
      "needs_background": "light"
     },
     "output_type": "display_data"
    }
   ],
   "source": [
    "fig, ax = plt.subplots()\n",
    "for g in geoms:\n",
    "    g.plot(ax=ax)\n",
    "ax.autoscale()\n",
    "ax.set_aspect(1)"
   ]
  },
  {
   "cell_type": "markdown",
   "metadata": {},
   "source": [
    "## Points"
   ]
  },
  {
   "cell_type": "code",
   "execution_count": 25,
   "metadata": {
    "execution": {
     "iopub.execute_input": "2023-02-08T16:14:55.844584Z",
     "iopub.status.busy": "2023-02-08T16:14:55.844584Z",
     "iopub.status.idle": "2023-02-08T16:14:55.872146Z",
     "shell.execute_reply": "2023-02-08T16:14:55.872146Z"
    }
   },
   "outputs": [],
   "source": [
    "eptfile = EndpointFile(\"../data/mp6/EXAMPLE-3.endpoint\")\n",
    "eptdata = eptfile.get_alldata()"
   ]
  },
  {
   "cell_type": "code",
   "execution_count": 26,
   "metadata": {
    "execution": {
     "iopub.execute_input": "2023-02-08T16:14:55.877170Z",
     "iopub.status.busy": "2023-02-08T16:14:55.876180Z",
     "iopub.status.idle": "2023-02-08T16:14:55.888234Z",
     "shell.execute_reply": "2023-02-08T16:14:55.887181Z"
    }
   },
   "outputs": [],
   "source": [
    "x, y = geometry.rotate(\n",
    "    eptdata[\"x0\"] * length_mult,\n",
    "    eptdata[\"y0\"] * length_mult,\n",
    "    grid.xoffset,\n",
    "    grid.yoffset,\n",
    "    rot,\n",
    ")\n",
    "z = eptdata[\"z0\"]\n",
    "\n",
    "geoms = [Point(x[i], y[i], z[i]) for i in range(len(eptdata))]"
   ]
  },
  {
   "cell_type": "code",
   "execution_count": 27,
   "metadata": {
    "execution": {
     "iopub.execute_input": "2023-02-08T16:14:55.892261Z",
     "iopub.status.busy": "2023-02-08T16:14:55.891233Z",
     "iopub.status.idle": "2023-02-08T16:14:56.124509Z",
     "shell.execute_reply": "2023-02-08T16:14:56.124509Z"
    }
   },
   "outputs": [
    {
     "data": {
      "image/png": "[encoded data removed]",
      "text/plain": [
       "<Figure size 432x288 with 1 Axes>"
      ]
     },
     "metadata": {
      "needs_background": "light"
     },
     "output_type": "display_data"
    }
   ],
   "source": [
    "fig, ax = plt.subplots()\n",
    "for g in geoms:\n",
    "    g.plot(ax=ax)\n",
    "ax.autoscale()\n",
    "ax.set_aspect(2e-6)"
   ]
  },
  {
   "cell_type": "code",
   "execution_count": 28,
   "metadata": {
    "execution": {
     "iopub.execute_input": "2023-02-08T16:14:56.125500Z",
     "iopub.status.busy": "2023-02-08T16:14:56.125500Z",
     "iopub.status.idle": "2023-02-08T16:14:56.141955Z",
     "shell.execute_reply": "2023-02-08T16:14:56.141212Z"
    },
    "pycharm": {
     "name": "#%%\n"
    }
   },
   "outputs": [],
   "source": [
    "try:\n",
    "    # ignore PermissionError on Windows\n",
    "    temp_dir.cleanup()\n",
    "except:\n",
    "    pass"
   ]
  }
 ],
 "metadata": {
  "anaconda-cloud": {},
  "kernelspec": {
   "display_name": "Python 3 (ipykernel)",
   "language": "python",
   "name": "python3"
  },
  "language_info": {
   "codemirror_mode": {
    "name": "ipython",
    "version": 3
   },
   "file_extension": ".py",
   "mimetype": "text/x-python",
   "name": "python",
   "nbconvert_exporter": "python",
   "pygments_lexer": "ipython3",
   "version": "3.9.12"
  }
 },
 "nbformat": 4,
 "nbformat_minor": 4
}
