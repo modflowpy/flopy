{
 "cells": [
  {
   "cell_type": "markdown",
   "metadata": {},
   "source": [
    "### This notebook shows some lower-level functionality for working with shapefiles"
   ]
  },
  {
   "cell_type": "code",
   "execution_count": 1,
   "metadata": {
    "collapsed": false
   },
   "outputs": [],
   "source": [
    "import importlib\n",
    "import sys\n",
    "sys.path.append('/Users/aleaf/Documents/GitHub/flopy3/')\n",
    "import shutil\n",
    "import numpy as np\n",
    "import matplotlib.pyplot as plt\n",
    "import flopy\n",
    "from flopy.utils.geometry import Polygon\n",
    "from flopy.utils.reference import SpatialReference\n",
    "from flopy.export.shapefile_utils import recarray2shp\n",
    "\n",
    "%matplotlib inline"
   ]
  },
  {
   "cell_type": "markdown",
   "metadata": {},
   "source": [
    "### write a numpy record array to a shapefile\n",
    "in this case, we want to visualize output from the checker  \n",
    "first make a toy model"
   ]
  },
  {
   "cell_type": "code",
   "execution_count": 2,
   "metadata": {
    "collapsed": true
   },
   "outputs": [],
   "source": [
    "m = flopy.modflow.Modflow('toy_model', model_ws='temp')\n",
    "botm = np.zeros((2, 10, 10))\n",
    "botm[0, :, :] = 1.5\n",
    "botm[1, 5, 5] = 4 # negative layer thickness!\n",
    "botm[1, 6, 6] = 4\n",
    "dis = flopy.modflow.ModflowDis(nrow=10, ncol=10, \n",
    "                               nlay=2, delr=100, delc=100,\n",
    "                               top=3, botm=botm, model=m)"
   ]
  },
  {
   "cell_type": "markdown",
   "metadata": {},
   "source": [
    "### set the spatial reference  \n",
    "note that the grid spacings have to be converted explicitly (in this case from feet to meters)"
   ]
  },
  {
   "cell_type": "code",
   "execution_count": 3,
   "metadata": {
    "collapsed": false
   },
   "outputs": [],
   "source": [
    "m.sr = SpatialReference(delr=m.dis.delr * .3048, delc=m.dis.delc * .3048, xul=600000, yul=5170000, \n",
    "                        proj4_str='EPSG:26715', rotation=45)"
   ]
  },
  {
   "cell_type": "code",
   "execution_count": 4,
   "metadata": {
    "collapsed": false
   },
   "outputs": [
    {
     "name": "stdout",
     "output_type": "stream",
     "text": [
      "\n",
      "DIS PACKAGE DATA VALIDATION:\n",
      "  2 Errors:\n",
      "    2 instances of zero or negative thickness\n",
      "\n",
      "  Checks that passed:\n",
      "    thin cells (less than checker threshold of 1.0)\n",
      "    nan values in top array\n",
      "    nan values in bottom array\n",
      "\n"
     ]
    },
    {
     "data": {
      "text/plain": [
       "rec.array([('Error', 'DIS', 1, 5, 5, -2.5, 'zero or negative thickness'),\n",
       " ('Error', 'DIS', 1, 6, 6, -2.5, 'zero or negative thickness')], \n",
       "          dtype=[('type', 'O'), ('package', 'O'), ('k', '<i8'), ('i', '<i8'), ('j', '<i8'), ('value', '<f8'), ('desc', 'O')])"
      ]
     },
     "execution_count": 4,
     "metadata": {},
     "output_type": "execute_result"
    }
   ],
   "source": [
    "\n",
    "chk = dis.check()\n",
    "chk.summary_array"
   ]
  },
  {
   "cell_type": "markdown",
   "metadata": {},
   "source": [
    "### make geometry objects for the cells with errors  \n",
    "*  geometry objects allow the shapefile writer to be simpler and agnostic about the kind of geometry"
   ]
  },
  {
   "cell_type": "code",
   "execution_count": 5,
   "metadata": {
    "collapsed": false
   },
   "outputs": [],
   "source": [
    "get_vertices = m.sr.get_vertices # function to get the referenced vertices for a model cell\n",
    "geoms = [Polygon(get_vertices(i, j)) for i, j in chk.summary_array[['i', 'j']]]"
   ]
  },
  {
   "cell_type": "code",
   "execution_count": 6,
   "metadata": {
    "collapsed": false
   },
   "outputs": [
    {
     "data": {
      "text/plain": [
       "'Polygon'"
      ]
     },
     "execution_count": 6,
     "metadata": {},
     "output_type": "execute_result"
    }
   ],
   "source": [
    "geoms[0].type"
   ]
  },
  {
   "cell_type": "code",
   "execution_count": 7,
   "metadata": {
    "collapsed": false
   },
   "outputs": [
    {
     "data": {
      "text/plain": [
       "((600000.0, 5169784.473861726),\n",
       " (599978.44738833047, 5169762.9212500565),\n",
       " (600000.0, 5169741.3686383869),\n",
       " (600021.55261166953, 5169762.9212500565),\n",
       " (600000.0, 5169784.473861726))"
      ]
     },
     "execution_count": 7,
     "metadata": {},
     "output_type": "execute_result"
    }
   ],
   "source": [
    "geoms[0].exterior"
   ]
  },
  {
   "cell_type": "code",
   "execution_count": 8,
   "metadata": {
    "collapsed": false
   },
   "outputs": [
    {
     "data": {
      "text/plain": [
       "(599978.44738833047, 5169741.3686383869, 600021.55261166953, 5169784.473861726)"
      ]
     },
     "execution_count": 8,
     "metadata": {},
     "output_type": "execute_result"
    }
   ],
   "source": [
    "geoms[0].bounds"
   ]
  },
  {
   "cell_type": "code",
   "execution_count": 9,
   "metadata": {
    "collapsed": false
   },
   "outputs": [
    {
     "data": {
      "image/png": "[encoded data removed]",
      "text/plain": [
       "<matplotlib.figure.Figure at 0x1069b4d68>"
      ]
     },
     "metadata": {},
     "output_type": "display_data"
    }
   ],
   "source": [
    "geoms[0].plot() # this feature requires descartes"
   ]
  },
  {
   "cell_type": "markdown",
   "metadata": {},
   "source": [
    "### write the shapefile  \n",
    "* the projection (.prj) file can be written using an epsg code  \n",
    "* or copied from an existing .prj file"
   ]
  },
  {
   "cell_type": "code",
   "execution_count": 10,
   "metadata": {
    "collapsed": false
   },
   "outputs": [
    {
     "name": "stdout",
     "output_type": "stream",
     "text": [
      "wrote temp/test.shp\n"
     ]
    }
   ],
   "source": [
    "recarray2shp(chk.summary_array, geoms, 'temp/test.shp', epsg=26715)"
   ]
  },
  {
   "cell_type": "code",
   "execution_count": 11,
   "metadata": {
    "collapsed": false
   },
   "outputs": [
    {
     "name": "stdout",
     "output_type": "stream",
     "text": [
      "wrote temp/test.shp\n"
     ]
    }
   ],
   "source": [
    "shutil.copy('temp/test.prj', 'temp/26715.prj')\n",
    "recarray2shp(chk.summary_array, geoms, 'temp/test.shp', prj='temp/26715.prj')"
   ]
  },
  {
   "cell_type": "markdown",
   "metadata": {},
   "source": [
    "### How the epsg feature works  \n",
    "* requires an internet connection the first time to get the prj text from [spatialreference.org](http://spatialreference.org/) using ```requests```  \n",
    "* if it doesn't exist, ```epsgref.py``` is created in the site-packages folder  \n",
    "* the prj text is then stashed in this file as an entry in a dictionary ```prj```  \n",
    "* this dictionary is imported and checked for the prjtext each time flopy.utils.reference.getprj is called"
   ]
  },
  {
   "cell_type": "code",
   "execution_count": 12,
   "metadata": {
    "collapsed": false
   },
   "outputs": [
    {
     "data": {
      "text/plain": [
       "{26715: 'PROJCS[\"NAD27 / UTM zone 15N\",    GEOGCS[\"NAD27\",        DATUM[\"North_American_Datum_1927\",            SPHEROID[\"Clarke 1866\",6378206.4,294.9786982138982,                AUTHORITY[\"EPSG\",\"7008\"]],            AUTHORITY[\"EPSG\",\"6267\"]],        PRIMEM[\"Greenwich\",0,            AUTHORITY[\"EPSG\",\"8901\"]],        UNIT[\"degree\",0.01745329251994328,            AUTHORITY[\"EPSG\",\"9122\"]],        AUTHORITY[\"EPSG\",\"4267\"]],    UNIT[\"metre\",1,        AUTHORITY[\"EPSG\",\"9001\"]],    PROJECTION[\"Transverse_Mercator\"],    PARAMETER[\"latitude_of_origin\",0],    PARAMETER[\"central_meridian\",-93],    PARAMETER[\"scale_factor\",0.9996],    PARAMETER[\"false_easting\",500000],    PARAMETER[\"false_northing\",0],    AUTHORITY[\"EPSG\",\"26715\"],    AXIS[\"Easting\",EAST],    AXIS[\"Northing\",NORTH]]'}"
      ]
     },
     "execution_count": 12,
     "metadata": {},
     "output_type": "execute_result"
    }
   ],
   "source": [
    "import epsgref\n",
    "importlib.reload(epsgref)\n",
    "from epsgref import prj\n",
    "prj"
   ]
  },
  {
   "cell_type": "code",
   "execution_count": 13,
   "metadata": {
    "collapsed": true
   },
   "outputs": [],
   "source": [
    "from flopy.utils.reference import getprj, epsgRef"
   ]
  },
  {
   "cell_type": "code",
   "execution_count": 14,
   "metadata": {
    "collapsed": false
   },
   "outputs": [
    {
     "data": {
      "text/plain": [
       "'GEOGCS[\"WGS 84\",    DATUM[\"WGS_1984\",        SPHEROID[\"WGS 84\",6378137,298.257223563,            AUTHORITY[\"EPSG\",\"7030\"]],        AUTHORITY[\"EPSG\",\"6326\"]],    PRIMEM[\"Greenwich\",0,        AUTHORITY[\"EPSG\",\"8901\"]],    UNIT[\"degree\",0.01745329251994328,        AUTHORITY[\"EPSG\",\"9122\"]],    AUTHORITY[\"EPSG\",\"4326\"]]'"
      ]
     },
     "execution_count": 14,
     "metadata": {},
     "output_type": "execute_result"
    }
   ],
   "source": [
    "getprj(4326)"
   ]
  },
  {
   "cell_type": "code",
   "execution_count": 15,
   "metadata": {
    "collapsed": false
   },
   "outputs": [
    {
     "name": "stdout",
     "output_type": "stream",
     "text": [
      "26715:\n",
      "PROJCS[\"NAD27 / UTM zone 15N\",    GEOGCS[\"NAD27\",        DATUM[\"North_American_Datum_1927\",            SPHEROID[\"Clarke 1866\",6378206.4,294.9786982138982,                AUTHORITY[\"EPSG\",\"7008\"]],            AUTHORITY[\"EPSG\",\"6267\"]],        PRIMEM[\"Greenwich\",0,            AUTHORITY[\"EPSG\",\"8901\"]],        UNIT[\"degree\",0.01745329251994328,            AUTHORITY[\"EPSG\",\"9122\"]],        AUTHORITY[\"EPSG\",\"4267\"]],    UNIT[\"metre\",1,        AUTHORITY[\"EPSG\",\"9001\"]],    PROJECTION[\"Transverse_Mercator\"],    PARAMETER[\"latitude_of_origin\",0],    PARAMETER[\"central_meridian\",-93],    PARAMETER[\"scale_factor\",0.9996],    PARAMETER[\"false_easting\",500000],    PARAMETER[\"false_northing\",0],    AUTHORITY[\"EPSG\",\"26715\"],    AXIS[\"Easting\",EAST],    AXIS[\"Northing\",NORTH]]\n",
      "\n",
      "4326:\n",
      "GEOGCS[\"WGS 84\",    DATUM[\"WGS_1984\",        SPHEROID[\"WGS 84\",6378137,298.257223563,            AUTHORITY[\"EPSG\",\"7030\"]],        AUTHORITY[\"EPSG\",\"6326\"]],    PRIMEM[\"Greenwich\",0,        AUTHORITY[\"EPSG\",\"8901\"]],    UNIT[\"degree\",0.01745329251994328,        AUTHORITY[\"EPSG\",\"9122\"]],    AUTHORITY[\"EPSG\",\"4326\"]]\n",
      "\n"
     ]
    }
   ],
   "source": [
    "importlib.reload(epsgref)\n",
    "from epsgref import prj\n",
    "for k, v in prj.items():\n",
    "    print('{}:\\n{}\\n'.format(k, v))"
   ]
  },
  {
   "cell_type": "markdown",
   "metadata": {},
   "source": [
    "### working with the ```flopy.utils.reference.epsgRef``` handler"
   ]
  },
  {
   "cell_type": "code",
   "execution_count": 16,
   "metadata": {
    "collapsed": true
   },
   "outputs": [],
   "source": [
    "ep = epsgRef()"
   ]
  },
  {
   "cell_type": "code",
   "execution_count": 17,
   "metadata": {
    "collapsed": false
   },
   "outputs": [],
   "source": [
    "ep.add(9999, 'junk')"
   ]
  },
  {
   "cell_type": "code",
   "execution_count": 18,
   "metadata": {
    "collapsed": false
   },
   "outputs": [
    {
     "name": "stdout",
     "output_type": "stream",
     "text": [
      "26715:\n",
      "PROJCS[\"NAD27 / UTM zone 15N\",    GEOGCS[\"NAD27\",        DATUM[\"North_American_Datum_1927\",            SPHEROID[\"Clarke 1866\",6378206.4,294.9786982138982,                AUTHORITY[\"EPSG\",\"7008\"]],            AUTHORITY[\"EPSG\",\"6267\"]],        PRIMEM[\"Greenwich\",0,            AUTHORITY[\"EPSG\",\"8901\"]],        UNIT[\"degree\",0.01745329251994328,            AUTHORITY[\"EPSG\",\"9122\"]],        AUTHORITY[\"EPSG\",\"4267\"]],    UNIT[\"metre\",1,        AUTHORITY[\"EPSG\",\"9001\"]],    PROJECTION[\"Transverse_Mercator\"],    PARAMETER[\"latitude_of_origin\",0],    PARAMETER[\"central_meridian\",-93],    PARAMETER[\"scale_factor\",0.9996],    PARAMETER[\"false_easting\",500000],    PARAMETER[\"false_northing\",0],    AUTHORITY[\"EPSG\",\"26715\"],    AXIS[\"Easting\",EAST],    AXIS[\"Northing\",NORTH]]\n",
      "\n",
      "4326:\n",
      "GEOGCS[\"WGS 84\",    DATUM[\"WGS_1984\",        SPHEROID[\"WGS 84\",6378137,298.257223563,            AUTHORITY[\"EPSG\",\"7030\"]],        AUTHORITY[\"EPSG\",\"6326\"]],    PRIMEM[\"Greenwich\",0,        AUTHORITY[\"EPSG\",\"8901\"]],    UNIT[\"degree\",0.01745329251994328,        AUTHORITY[\"EPSG\",\"9122\"]],    AUTHORITY[\"EPSG\",\"4326\"]]\n",
      "\n",
      "9999:\n",
      "junk\n",
      "\n"
     ]
    }
   ],
   "source": [
    "epsgRef.show()"
   ]
  },
  {
   "cell_type": "markdown",
   "metadata": {},
   "source": [
    "#### remove an entry"
   ]
  },
  {
   "cell_type": "code",
   "execution_count": 19,
   "metadata": {
    "collapsed": false
   },
   "outputs": [
    {
     "name": "stdout",
     "output_type": "stream",
     "text": [
      "26715:\n",
      "PROJCS[\"NAD27 / UTM zone 15N\",    GEOGCS[\"NAD27\",        DATUM[\"North_American_Datum_1927\",            SPHEROID[\"Clarke 1866\",6378206.4,294.9786982138982,                AUTHORITY[\"EPSG\",\"7008\"]],            AUTHORITY[\"EPSG\",\"6267\"]],        PRIMEM[\"Greenwich\",0,            AUTHORITY[\"EPSG\",\"8901\"]],        UNIT[\"degree\",0.01745329251994328,            AUTHORITY[\"EPSG\",\"9122\"]],        AUTHORITY[\"EPSG\",\"4267\"]],    UNIT[\"metre\",1,        AUTHORITY[\"EPSG\",\"9001\"]],    PROJECTION[\"Transverse_Mercator\"],    PARAMETER[\"latitude_of_origin\",0],    PARAMETER[\"central_meridian\",-93],    PARAMETER[\"scale_factor\",0.9996],    PARAMETER[\"false_easting\",500000],    PARAMETER[\"false_northing\",0],    AUTHORITY[\"EPSG\",\"26715\"],    AXIS[\"Easting\",EAST],    AXIS[\"Northing\",NORTH]]\n",
      "\n",
      "4326:\n",
      "GEOGCS[\"WGS 84\",    DATUM[\"WGS_1984\",        SPHEROID[\"WGS 84\",6378137,298.257223563,            AUTHORITY[\"EPSG\",\"7030\"]],        AUTHORITY[\"EPSG\",\"6326\"]],    PRIMEM[\"Greenwich\",0,        AUTHORITY[\"EPSG\",\"8901\"]],    UNIT[\"degree\",0.01745329251994328,        AUTHORITY[\"EPSG\",\"9122\"]],    AUTHORITY[\"EPSG\",\"4326\"]]\n",
      "\n"
     ]
    }
   ],
   "source": [
    "ep.remove(9999)\n",
    "epsgRef.show()"
   ]
  },
  {
   "cell_type": "markdown",
   "metadata": {},
   "source": [
    "#### start over with a new file"
   ]
  },
  {
   "cell_type": "code",
   "execution_count": 20,
   "metadata": {
    "collapsed": false
   },
   "outputs": [
    {
     "name": "stdout",
     "output_type": "stream",
     "text": [
      "Resetting //anaconda/envs/py34/lib/python3.4/site-packages/epsgref.py\n"
     ]
    }
   ],
   "source": [
    "ep.reset()"
   ]
  },
  {
   "cell_type": "code",
   "execution_count": 21,
   "metadata": {
    "collapsed": false
   },
   "outputs": [
    {
     "data": {
      "text/plain": [
       "{}"
      ]
     },
     "execution_count": 21,
     "metadata": {},
     "output_type": "execute_result"
    }
   ],
   "source": [
    "importlib.reload(epsgref)\n",
    "from epsgref import prj\n",
    "prj"
   ]
  },
  {
   "cell_type": "code",
   "execution_count": 22,
   "metadata": {
    "collapsed": false
   },
   "outputs": [
    {
     "data": {
      "text/plain": [
       "0"
      ]
     },
     "execution_count": 22,
     "metadata": {},
     "output_type": "execute_result"
    }
   ],
   "source": [
    "len(prj.keys())"
   ]
  },
  {
   "cell_type": "code",
   "execution_count": null,
   "metadata": {
    "collapsed": true
   },
   "outputs": [],
   "source": []
  }
 ],
 "metadata": {
  "kernelspec": {
   "display_name": "Python 3",
   "language": "python",
   "name": "python3"
  },
  "language_info": {
   "codemirror_mode": {
    "name": "ipython",
    "version": 3
   },
   "file_extension": ".py",
   "mimetype": "text/x-python",
   "name": "python",
   "nbconvert_exporter": "python",
   "pygments_lexer": "ipython3",
   "version": "3.4.5"
  }
 },
 "nbformat": 4,
 "nbformat_minor": 0
}
