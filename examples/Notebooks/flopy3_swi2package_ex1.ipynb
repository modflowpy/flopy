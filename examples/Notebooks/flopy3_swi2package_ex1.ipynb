{
 "cells": [
  {
   "cell_type": "markdown",
   "metadata": {},
   "source": [
    "# FloPy\n",
    "\n",
    "### SWI2 Example 1. Rotating Interface\n",
    "\n",
    "This example problem is the first example problem in the SWI2 documentation (https://pubs.usgs.gov/tm/6a46/) and simulates transient movement of a freshwater\\seawater interface separating two density zones in a two-dimensional vertical plane. The problem domain is 250 m long, 40 m high, and 1 m wide. The aquifer is confined, storage changes are not considered (all MODFLOW stress periods are steady-state), and the top and bottom of the aquifer are horizontal and impermeable.\n",
    "\n",
    "The domain is discretized into 50 columns, 1 row, and 1 layer, with respective cell dimensions of 5 m (`DELR`), 1 m (`DELC`), and 40 m. A constant head of 0 m is specified for column 50. The hydraulic conductivity is 2 m/d and the effective porosity (`SSZ`) is 0.2. A flow of 1 m$^3$/d of seawater is specified in column 1 and causes groundwater to flow from left to right\n",
    "in the model domain.\n",
    "\n",
    "The domain contains one freshwater zone and one seawater zone, separated by an active `ZETA` surface between the zones (`NSRF=1`) that approximates the 50-percent seawater salinity contour. A 400-day period is simulated using a constant time step of 2 days. Fluid density is represented using the stratified option (`ISTRAT=1`) and the elevation of the interface is output every 100 days (every 50 time steps). The densities, $\\rho$, of the freshwater and saltwater are 1,000 and 1,025 kg/m$^3$, respectively. Hence, the dimensionless densities, $\\nu$, of the freshwater and saltwater are 0.0 and 0.025, respectively. The maximum slope of the toe and tip is specified as 0.2 (`TOESLOPE=TIPSLOPE=0.2`), and default tip/toe parameters are used (`ALPHA=BETA=0.1`). Initially, the interface is at a 45$^{\\circ}$ angle from (x,z) = (80,0) to (x,z) = (120,-40). The source/sink terms (`ISOURCE`) are specified to be freshwater everywhere (`ISOURCE=1`) except in cell 1 where saltwater enters the model and `ISOURCE` equals 2. A comparison of results for SWI2 and the exact Dupuit solution of Wilson and Sa Da Costa (1982) are presented below. The constant flow from left to right results in an average velocity of 0.125 m/d. The exact Dupuit solution is a rotating straight interface of which the center moves to the right with this velocity"
   ]
  },
  {
   "cell_type": "markdown",
   "metadata": {},
   "source": [
    "Import `numpy` and `matplotlib`, set all figures to be inline, import `flopy.modflow` and `flopy.utils`."
   ]
  },
  {
   "cell_type": "code",
   "execution_count": 1,
   "metadata": {
    "execution": {
     "iopub.execute_input": "2022-03-07T20:21:56.291787Z",
     "iopub.status.busy": "2022-03-07T20:21:56.291069Z",
     "iopub.status.idle": "2022-03-07T20:21:57.322144Z",
     "shell.execute_reply": "2022-03-07T20:21:57.322548Z"
    }
   },
   "outputs": [
    {
     "name": "stdout",
     "output_type": "stream",
     "text": [
      "3.9.7 (default, Sep 16 2021, 08:50:36) \n",
      "[Clang 10.0.0 ]\n",
      "numpy version: 1.21.2\n",
      "matplotlib version: 3.5.1\n",
      "flopy version: 3.3.5\n"
     ]
    }
   ],
   "source": [
    "import os\n",
    "import sys\n",
    "import platform\n",
    "import numpy as np\n",
    "import matplotlib as mpl\n",
    "import matplotlib.pyplot as plt\n",
    "\n",
    "# run installed version of flopy or add local path\n",
    "try:\n",
    "    import flopy\n",
    "except:\n",
    "    fpth = os.path.abspath(os.path.join(\"..\", \"..\"))\n",
    "    sys.path.append(fpth)\n",
    "    import flopy\n",
    "\n",
    "print(sys.version)\n",
    "print(\"numpy version: {}\".format(np.__version__))\n",
    "print(\"matplotlib version: {}\".format(mpl.__version__))\n",
    "print(\"flopy version: {}\".format(flopy.__version__))"
   ]
  },
  {
   "cell_type": "markdown",
   "metadata": {},
   "source": [
    "Define model name of your model and the location of MODFLOW executable. All MODFLOW files and output will be stored in the subdirectory defined by the workspace. Create a model named `ml` and specify that this is a MODFLOW-2005 model."
   ]
  },
  {
   "cell_type": "code",
   "execution_count": 2,
   "metadata": {
    "execution": {
     "iopub.execute_input": "2022-03-07T20:21:57.329130Z",
     "iopub.status.busy": "2022-03-07T20:21:57.328536Z",
     "iopub.status.idle": "2022-03-07T20:21:57.330332Z",
     "shell.execute_reply": "2022-03-07T20:21:57.330734Z"
    }
   },
   "outputs": [],
   "source": [
    "modelname = \"swiex1\"\n",
    "\n",
    "# Set name of MODFLOW exe\n",
    "#  assumes executable is in users path statement\n",
    "exe_name = \"mf2005\"\n",
    "if platform.system() == \"Windows\":\n",
    "    exe_name = \"mf2005.exe\"\n",
    "\n",
    "workspace = os.path.join(\"data\")\n",
    "# make sure workspace directory exists\n",
    "if not os.path.isdir(workspace):\n",
    "    os.makedirs(workspace, exist_ok=True)\n",
    "\n",
    "ml = flopy.modflow.Modflow(\n",
    "    modelname, version=\"mf2005\", exe_name=exe_name, model_ws=workspace\n",
    ")"
   ]
  },
  {
   "cell_type": "markdown",
   "metadata": {},
   "source": [
    "Define the number of layers, rows and columns, and the cell size along the rows (`delr`) and along the columns (`delc`). Then create a discretization file. Specify the top and bottom of the aquifer. The heads are computed quasi-steady state (hence a steady MODFLOW run) while the interface will move. There is one stress period with a length of 400 days and 200 steps (so one step is 2 days). "
   ]
  },
  {
   "cell_type": "code",
   "execution_count": 3,
   "metadata": {
    "execution": {
     "iopub.execute_input": "2022-03-07T20:21:57.336532Z",
     "iopub.status.busy": "2022-03-07T20:21:57.335943Z",
     "iopub.status.idle": "2022-03-07T20:21:57.337557Z",
     "shell.execute_reply": "2022-03-07T20:21:57.338102Z"
    }
   },
   "outputs": [],
   "source": [
    "nlay = 1\n",
    "nrow = 1\n",
    "ncol = 50\n",
    "delr = 5.0\n",
    "delc = 1.0\n",
    "nper, perlen, nstp = 1, 400.0, 200\n",
    "discret = flopy.modflow.ModflowDis(\n",
    "    ml,\n",
    "    nlay=nlay,\n",
    "    nrow=nrow,\n",
    "    ncol=ncol,\n",
    "    delr=delr,\n",
    "    delc=delc,\n",
    "    top=0,\n",
    "    botm=-40.0,\n",
    "    steady=True,\n",
    "    nper=nper,\n",
    "    perlen=perlen,\n",
    "    nstp=nstp,\n",
    ")"
   ]
  },
  {
   "cell_type": "markdown",
   "metadata": {},
   "source": [
    "All cells are active (`ibound=1`), while the last cell is fixed head (`ibound=-1`). The starting values of the head are not important, as the heads are computed every time with a steady run."
   ]
  },
  {
   "cell_type": "code",
   "execution_count": 4,
   "metadata": {
    "execution": {
     "iopub.execute_input": "2022-03-07T20:21:57.342677Z",
     "iopub.status.busy": "2022-03-07T20:21:57.342064Z",
     "iopub.status.idle": "2022-03-07T20:21:57.343666Z",
     "shell.execute_reply": "2022-03-07T20:21:57.344062Z"
    }
   },
   "outputs": [],
   "source": [
    "ibound = np.ones((nrow, ncol))\n",
    "ibound[0, -1] = -1\n",
    "bas = flopy.modflow.ModflowBas(ml, ibound=ibound, strt=0.0)"
   ]
  },
  {
   "cell_type": "markdown",
   "metadata": {},
   "source": [
    "Define the hydraulic conductivity. The aquifer is confined (`laytype=0`) and the intercell hydraulic conductivity is the harmonic meand (`layavg=0`)."
   ]
  },
  {
   "cell_type": "code",
   "execution_count": 5,
   "metadata": {
    "execution": {
     "iopub.execute_input": "2022-03-07T20:21:57.348943Z",
     "iopub.status.busy": "2022-03-07T20:21:57.348324Z",
     "iopub.status.idle": "2022-03-07T20:21:57.350100Z",
     "shell.execute_reply": "2022-03-07T20:21:57.350489Z"
    }
   },
   "outputs": [],
   "source": [
    "lpf = flopy.modflow.ModflowLpf(ml, hk=2.0, laytyp=0, layavg=0)"
   ]
  },
  {
   "cell_type": "markdown",
   "metadata": {},
   "source": [
    "Inflow on the right side of the model is 1 m$^3$/d (layer 0, row 0, column 0, discharge 1)"
   ]
  },
  {
   "cell_type": "code",
   "execution_count": 6,
   "metadata": {
    "execution": {
     "iopub.execute_input": "2022-03-07T20:21:57.354662Z",
     "iopub.status.busy": "2022-03-07T20:21:57.354043Z",
     "iopub.status.idle": "2022-03-07T20:21:57.355728Z",
     "shell.execute_reply": "2022-03-07T20:21:57.356112Z"
    }
   },
   "outputs": [],
   "source": [
    "wel = flopy.modflow.ModflowWel(ml, stress_period_data={0: [[0, 0, 0, 1]]})"
   ]
  },
  {
   "cell_type": "markdown",
   "metadata": {},
   "source": [
    "Define the output control to save heads and interface every 50 steps, and define the pcg solver with default arguments."
   ]
  },
  {
   "cell_type": "code",
   "execution_count": 7,
   "metadata": {
    "execution": {
     "iopub.execute_input": "2022-03-07T20:21:57.360924Z",
     "iopub.status.busy": "2022-03-07T20:21:57.360359Z",
     "iopub.status.idle": "2022-03-07T20:21:57.362060Z",
     "shell.execute_reply": "2022-03-07T20:21:57.362516Z"
    }
   },
   "outputs": [],
   "source": [
    "spd = {}\n",
    "for istp in range(49, nstp + 1, 50):\n",
    "    spd[(0, istp)] = [\"save head\", \"print budget\"]\n",
    "    spd[(0, istp + 1)] = []\n",
    "\n",
    "oc = flopy.modflow.ModflowOc(ml, stress_period_data=spd)\n",
    "pcg = flopy.modflow.ModflowPcg(ml)"
   ]
  },
  {
   "cell_type": "markdown",
   "metadata": {},
   "source": [
    "The intial interface is straight. The isource is one everywhere (inflow and outflow is fresh (zone 1)) except for the first cell (index=0) which has saltwater inflow (zone 2)."
   ]
  },
  {
   "cell_type": "code",
   "execution_count": 8,
   "metadata": {
    "execution": {
     "iopub.execute_input": "2022-03-07T20:21:57.368408Z",
     "iopub.status.busy": "2022-03-07T20:21:57.367834Z",
     "iopub.status.idle": "2022-03-07T20:21:57.369720Z",
     "shell.execute_reply": "2022-03-07T20:21:57.370110Z"
    }
   },
   "outputs": [],
   "source": [
    "z = np.zeros((nrow, ncol), float)\n",
    "z[0, 16:24] = np.arange(-2.5, -40, -5)\n",
    "z[0, 24:] = -40\n",
    "z = [z]  # zeta needs to be\n",
    "isource = np.ones((nrow, ncol), int)\n",
    "isource[0, 0] = 2\n",
    "#\n",
    "swi = flopy.modflow.ModflowSwi2(\n",
    "    ml,\n",
    "    nsrf=1,\n",
    "    istrat=1,\n",
    "    toeslope=0.2,\n",
    "    tipslope=0.2,\n",
    "    nu=[0, 0.025],\n",
    "    zeta=z,\n",
    "    ssz=0.2,\n",
    "    isource=isource,\n",
    "    nsolver=1,\n",
    "    iswizt=55,\n",
    ")"
   ]
  },
  {
   "cell_type": "markdown",
   "metadata": {},
   "source": [
    "Write the MODFLOW input files and run the model"
   ]
  },
  {
   "cell_type": "code",
   "execution_count": 9,
   "metadata": {
    "execution": {
     "iopub.execute_input": "2022-03-07T20:21:57.373727Z",
     "iopub.status.busy": "2022-03-07T20:21:57.373161Z",
     "iopub.status.idle": "2022-03-07T20:21:57.747935Z",
     "shell.execute_reply": "2022-03-07T20:21:57.748391Z"
    }
   },
   "outputs": [
    {
     "data": {
      "text/plain": [
       "(True, [])"
      ]
     },
     "execution_count": 9,
     "metadata": {},
     "output_type": "execute_result"
    }
   ],
   "source": [
    "ml.write_input()\n",
    "ml.run_model(silent=True)"
   ]
  },
  {
   "cell_type": "markdown",
   "metadata": {},
   "source": [
    "Load the head and zeta data from the file"
   ]
  },
  {
   "cell_type": "code",
   "execution_count": 10,
   "metadata": {
    "execution": {
     "iopub.execute_input": "2022-03-07T20:21:57.754362Z",
     "iopub.status.busy": "2022-03-07T20:21:57.753788Z",
     "iopub.status.idle": "2022-03-07T20:21:57.759471Z",
     "shell.execute_reply": "2022-03-07T20:21:57.759936Z"
    }
   },
   "outputs": [],
   "source": [
    "# read model heads\n",
    "hfile = flopy.utils.HeadFile(os.path.join(ml.model_ws, modelname + \".hds\"))\n",
    "head = hfile.get_alldata()\n",
    "# read model zeta\n",
    "zfile = flopy.utils.CellBudgetFile(\n",
    "    os.path.join(ml.model_ws, modelname + \".zta\")\n",
    ")\n",
    "kstpkper = zfile.get_kstpkper()\n",
    "zeta = []\n",
    "for kk in kstpkper:\n",
    "    zeta.append(zfile.get_data(kstpkper=kk, text=\"ZETASRF  1\")[0])\n",
    "zeta = np.array(zeta)"
   ]
  },
  {
   "cell_type": "markdown",
   "metadata": {},
   "source": [
    "Make a graph and add the solution of Wilson and Sa da Costa"
   ]
  },
  {
   "cell_type": "code",
   "execution_count": 11,
   "metadata": {
    "execution": {
     "iopub.execute_input": "2022-03-07T20:21:57.774575Z",
     "iopub.status.busy": "2022-03-07T20:21:57.773953Z",
     "iopub.status.idle": "2022-03-07T20:21:57.911025Z",
     "shell.execute_reply": "2022-03-07T20:21:57.911512Z"
    }
   },
   "outputs": [
    {
     "data": {
      "image/png": "[encoded data removed]",
      "text/plain": [
       "<Figure size 1152x432 with 1 Axes>"
      ]
     },
     "metadata": {
      "needs_background": "light"
     },
     "output_type": "display_data"
    }
   ],
   "source": [
    "plt.figure(figsize=(16, 6))\n",
    "# define x-values of xcells and plot interface\n",
    "x = np.arange(0, ncol * delr, delr) + delr / 2.0\n",
    "label = [\n",
    "    \"SWI2\",\n",
    "    \"_\",\n",
    "    \"_\",\n",
    "    \"_\",\n",
    "]  # labels with an underscore are not added to legend\n",
    "for i in range(4):\n",
    "    zt = np.ma.masked_outside(zeta[i, 0, 0, :], -39.99999, -0.00001)\n",
    "    plt.plot(x, zt, \"r-\", lw=1, zorder=10, label=label[i])\n",
    "# Data for the Wilson - Sa da Costa solution\n",
    "k = 2.0\n",
    "n = 0.2\n",
    "nu = 0.025\n",
    "H = 40.0\n",
    "tzero = H * n / (k * nu) / 4.0\n",
    "Ltoe = np.zeros(4)\n",
    "v = 0.125\n",
    "t = np.arange(100, 500, 100)\n",
    "label = [\n",
    "    \"Wilson and Sa Da Costa (1982)\",\n",
    "    \"_\",\n",
    "    \"_\",\n",
    "    \"_\",\n",
    "]  # labels with an underscore are not added to legend\n",
    "for i in range(4):\n",
    "    Ltoe[i] = H * np.sqrt(k * nu * (t[i] + tzero) / n / H)\n",
    "    plt.plot(\n",
    "        [100 - Ltoe[i] + v * t[i], 100 + Ltoe[i] + v * t[i]],\n",
    "        [0, -40],\n",
    "        \"0.75\",\n",
    "        lw=8,\n",
    "        zorder=0,\n",
    "        label=label[i],\n",
    "    )\n",
    "# Scale figure and add legend\n",
    "plt.axis(\"scaled\")\n",
    "plt.xlim(0, 250)\n",
    "plt.ylim(-40, 0)\n",
    "plt.legend(loc=\"best\");"
   ]
  },
  {
   "cell_type": "markdown",
   "metadata": {},
   "source": [
    "Use ModelCrossSection plotting class and plot_surface() method to plot zeta surfaces."
   ]
  },
  {
   "cell_type": "code",
   "execution_count": 12,
   "metadata": {
    "execution": {
     "iopub.execute_input": "2022-03-07T20:21:57.936921Z",
     "iopub.status.busy": "2022-03-07T20:21:57.936044Z",
     "iopub.status.idle": "2022-03-07T20:21:58.241648Z",
     "shell.execute_reply": "2022-03-07T20:21:58.242048Z"
    }
   },
   "outputs": [
    {
     "data": {
      "image/png": "[encoded data removed]",
      "text/plain": [
       "<Figure size 1152x216 with 1 Axes>"
      ]
     },
     "metadata": {
      "needs_background": "light"
     },
     "output_type": "display_data"
    }
   ],
   "source": [
    "fig = plt.figure(figsize=(16, 3))\n",
    "ax = fig.add_subplot(1, 1, 1)\n",
    "modelxsect = flopy.plot.PlotCrossSection(model=ml, line={\"Row\": 0})\n",
    "label = [\"SWI2\", \"_\", \"_\", \"_\"]\n",
    "for k in range(zeta.shape[0]):\n",
    "    modelxsect.plot_surface(\n",
    "        zeta[k, :, :, :],\n",
    "        masked_values=[0, -40.0],\n",
    "        color=\"red\",\n",
    "        lw=1,\n",
    "        label=label[k],\n",
    "    )\n",
    "linecollection = modelxsect.plot_grid()\n",
    "ax.set_title(\"ModelCrossSection.plot_surface()\")\n",
    "# Data for the Wilson - Sa da Costa solution\n",
    "k = 2.0\n",
    "n = 0.2\n",
    "nu = 0.025\n",
    "H = 40.0\n",
    "tzero = H * n / (k * nu) / 4.0\n",
    "Ltoe = np.zeros(4)\n",
    "v = 0.125\n",
    "t = np.arange(100, 500, 100)\n",
    "label = [\n",
    "    \"Wilson and Sa Da Costa (1982)\",\n",
    "    \"_\",\n",
    "    \"_\",\n",
    "    \"_\",\n",
    "]  # labels with an underscore are not added to legend\n",
    "for i in range(4):\n",
    "    Ltoe[i] = H * np.sqrt(k * nu * (t[i] + tzero) / n / H)\n",
    "    ax.plot(\n",
    "        [100 - Ltoe[i] + v * t[i], 100 + Ltoe[i] + v * t[i]],\n",
    "        [0, -40],\n",
    "        \"blue\",\n",
    "        lw=1,\n",
    "        zorder=0,\n",
    "        label=label[i],\n",
    "    )\n",
    "# Scale figure and add legend\n",
    "ax.axis(\"scaled\")\n",
    "ax.set_xlim(0, 250)\n",
    "ax.set_ylim(-40, 0)\n",
    "ax.legend(loc=\"best\");"
   ]
  },
  {
   "cell_type": "markdown",
   "metadata": {},
   "source": [
    "Use ModelCrossSection plotting class and plot_fill_between() method to fill between zeta surfaces."
   ]
  },
  {
   "cell_type": "code",
   "execution_count": 13,
   "metadata": {
    "execution": {
     "iopub.execute_input": "2022-03-07T20:21:58.259190Z",
     "iopub.status.busy": "2022-03-07T20:21:58.248706Z",
     "iopub.status.idle": "2022-03-07T20:21:58.369812Z",
     "shell.execute_reply": "2022-03-07T20:21:58.370361Z"
    }
   },
   "outputs": [
    {
     "data": {
      "image/png": "[encoded data removed]",
      "text/plain": [
       "<Figure size 1152x216 with 1 Axes>"
      ]
     },
     "metadata": {
      "needs_background": "light"
     },
     "output_type": "display_data"
    }
   ],
   "source": [
    "fig = plt.figure(figsize=(16, 3))\n",
    "ax = fig.add_subplot(1, 1, 1)\n",
    "modelxsect = flopy.plot.PlotCrossSection(model=ml, line={\"Row\": 0})\n",
    "modelxsect.plot_fill_between(zeta[3, :, :, :])\n",
    "linecollection = modelxsect.plot_grid()\n",
    "ax.set_title(\"ModelCrossSection.plot_fill_between()\");"
   ]
  },
  {
   "cell_type": "markdown",
   "metadata": {},
   "source": [
    "Convert zeta surfaces to relative seawater concentrations"
   ]
  },
  {
   "cell_type": "code",
   "execution_count": 14,
   "metadata": {
    "execution": {
     "iopub.execute_input": "2022-03-07T20:21:58.408794Z",
     "iopub.status.busy": "2022-03-07T20:21:58.384150Z",
     "iopub.status.idle": "2022-03-07T20:21:58.554683Z",
     "shell.execute_reply": "2022-03-07T20:21:58.555106Z"
    }
   },
   "outputs": [
    {
     "name": "stdout",
     "output_type": "stream",
     "text": [
      "[1.00000001 1.00000001 1.00000001 1.00000001 1.00000001 1.00000001\n",
      " 1.00000001 1.00000001 1.00000001 1.00000001 1.00000001 1.00000001\n",
      " 1.00000001 1.00000001 1.00000001 1.00000001 1.00000001 0.97957368\n",
      " 0.93777831 0.89900599 0.8606122  0.82240776 0.78431243 0.74628681\n",
      " 0.70830902 0.6703652  0.63244558 0.59454289 0.55665098 0.5187645\n",
      " 0.4808785  0.44298783 0.40508729 0.36717053 0.32923027 0.29125705\n",
      " 0.25323816 0.21515508 0.17697897 0.13865538 0.10004826 0.06099987\n",
      " 0.02483263 0.         0.         0.         0.         0.\n",
      " 0.         0.        ]\n"
     ]
    },
    {
     "data": {
      "image/png": "[encoded data removed]",
      "text/plain": [
       "<Figure size 432x288 with 2 Axes>"
      ]
     },
     "metadata": {
      "needs_background": "light"
     },
     "output_type": "display_data"
    }
   ],
   "source": [
    "X, Y = np.meshgrid(x, [0, -40])\n",
    "zc = flopy.plot.SwiConcentration(model=ml)\n",
    "conc = zc.calc_conc(zeta={0: zeta[3, :, :, :]}) / 0.025\n",
    "print(conc[0, 0, :])\n",
    "v = np.vstack((conc[0, 0, :], conc[0, 0, :]))\n",
    "plt.imshow(v, extent=[0, 250, -40, 0], cmap=\"Reds\")\n",
    "cb = plt.colorbar(orientation=\"horizontal\")\n",
    "cb.set_label(\"percent seawater\")\n",
    "plt.contour(X, Y, v, [0.25, 0.5, 0.75], linewidths=[2, 1.5, 1], colors=\"black\");"
   ]
  },
  {
   "cell_type": "code",
   "execution_count": null,
   "metadata": {},
   "outputs": [],
   "source": []
  }
 ],
 "metadata": {
  "anaconda-cloud": {},
  "kernelspec": {
   "display_name": "Python 3",
   "language": "python",
   "name": "python3"
  },
  "language_info": {
   "codemirror_mode": {
    "name": "ipython",
    "version": 3
   },
   "file_extension": ".py",
   "mimetype": "text/x-python",
   "name": "python",
   "nbconvert_exporter": "python",
   "pygments_lexer": "ipython3",
   "version": "3.9.7"
  }
 },
 "nbformat": 4,
 "nbformat_minor": 4
}
