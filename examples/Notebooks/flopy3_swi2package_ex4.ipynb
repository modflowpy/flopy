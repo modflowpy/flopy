{
 "cells": [
  {
   "cell_type": "markdown",
   "metadata": {},
   "source": [
    "# FloPy\n",
    "\n",
    "### SWI2 Example 4. Upconing Below a Pumping Well in a Two-Aquifer Island System\n",
    "\n",
    "This example problem is the fourth example problem in the SWI2 documentation (https://pubs.usgs.gov/tm/6a46/) and simulates transient movement of the freshwater-seawater interface beneath an island in response to recharge and groundwater withdrawals. The island is 2,050$\\times$2,050 m and consists of two 20-m thick aquifers that extend below sea level. The aquifers are confined, storage changes are not considered (all MODFLOW stress periods are steady-state), and the top and bottom of each aquifer is horizontal. The top of the upper aquifer and the bottom of the lower aquifer are impermeable.\n",
    "\n",
    "The domain is discretized into 61 columns, 61 rows, and 2 layers, with respective cell dimensions of 50 m (`DELR`), 50 m (`DELC`), and 20 m. A total of 230 years is simulated using three stress periods with lengths of 200, 12, and 18 years, with constant time steps of 0.2, 0.1, and 0.1 years, respectively. \n",
    "\n",
    "The horizontal and vertical hydraulic conductivity of both aquifers are 10 m/d and 0.2 m/d, respectively. The effective porosity is 0.2 for both aquifers. The model is extended 500 m offshore along all sides and the ocean boundary is represented as a general head boundary condition (GHB) in model layer 1. A freshwater head of 0 m is specified at the ocean bottom in all general head boundaries. The GHB conductance that controls outflow from the aquifer into the ocean is 62.5 m$^{2}$/d and corresponds to a leakance of 0.025 d$^{-1}$ (or a resistance of 40 days).\n",
    "\n",
    "The groundwater is divided into a freshwater zone and a seawater zone, separated by an active ZETA surface between the zones (`NSRF=1`) that approximates the 50-percent seawater salinity contour. Fluid density is represented using the stratified density option (`ISTRAT=1`). The dimensionless density difference ($\\nu$) between freshwater and saltwater is 0.025. The tip and toe tracking parameters are a `TOESLOPE` and `TIPSLOPE` of 0.005, a default `ALPHA` of 0.1, and a default `BETA` of 0.1. Initially, the interface between freshwater and saltwater is 1 m below land surface on the island and at the top of the upper aquifer offshore. The SWI2 `ISOURCE` parameter is set to -2 in cells having GHBs so that water that infiltrates into the aquifer from the GHB cells is saltwater (zone 2), whereas water that flows out of the model at the GHB cells is identical to water at the top of the aquifer. `ISOURCE` in layer 2, row 31, column 36 is set to 2 so that a saltwater well may be simulated in the third stress period of simulation 2. In all other cells, the SWI2 `ISOURCE` parameter is set to 0, indicating boundary conditions have water that is identical to water at the top of the aquifer and can be either freshwater or saltwater, depending on the elevation of the active `ZETA` surface in the cell.\n",
    "\n",
    "A constant recharge rate of 0.4 millimeters per day (mm/d) is used in all three stress periods. The development of the freshwater lens is simulated for 200 years, after which a pumping well having a withdrawal rate of 250 m$^3$/d is started in layer 1, row 31, column 36. For the first simulation (simulation 1), the well pumps for 30 years, after which the interface almost reaches the top of the upper aquifer layer. In the second simulation (simulation 2), an additional well withdrawing\n",
    "saltwater at a rate of 25 m$^3$/d is simulated below the freshwater well in layer 2 , row 31, column 36, 12 years after the freshwater groundwater withdrawal begins in the well in layer 1. The saltwater well is intended to prevent the interface from\n",
    "upconing into the upper aquifer (model layer)."
   ]
  },
  {
   "cell_type": "markdown",
   "metadata": {},
   "source": [
    "Import `numpy` and `matplotlib`, set all figures to be inline, import `flopy.modflow` and `flopy.utils`."
   ]
  },
  {
   "cell_type": "code",
   "execution_count": 1,
   "metadata": {
    "execution": {
     "iopub.execute_input": "2023-02-22T02:45:02.955295Z",
     "iopub.status.busy": "2023-02-22T02:45:02.954789Z",
     "iopub.status.idle": "2023-02-22T02:45:03.644660Z",
     "shell.execute_reply": "2023-02-22T02:45:03.643877Z"
    }
   },
   "outputs": [
    {
     "name": "stdout",
     "output_type": "stream",
     "text": [
      "3.10.6 (main, Nov 14 2022, 16:10:14) [GCC 11.3.0]\n",
      "numpy version: 1.24.1\n",
      "matplotlib version: 3.6.3\n",
      "flopy version: 3.3.7\n"
     ]
    }
   ],
   "source": [
    "import os\n",
    "import sys\n",
    "from tempfile import TemporaryDirectory\n",
    "\n",
    "import numpy as np\n",
    "import matplotlib as mpl\n",
    "import matplotlib.pyplot as plt\n",
    "\n",
    "# run installed version of flopy or add local path\n",
    "try:\n",
    "    import flopy\n",
    "except:\n",
    "    fpth = os.path.abspath(os.path.join(\"..\", \"..\"))\n",
    "    sys.path.append(fpth)\n",
    "    import flopy\n",
    "\n",
    "print(sys.version)\n",
    "print(\"numpy version: {}\".format(np.__version__))\n",
    "print(\"matplotlib version: {}\".format(mpl.__version__))\n",
    "print(\"flopy version: {}\".format(flopy.__version__))"
   ]
  },
  {
   "cell_type": "markdown",
   "metadata": {},
   "source": [
    "Define model name of your model and the location of MODFLOW executable. All MODFLOW files and output will be stored in the subdirectory defined by the workspace. Create a model named `ml` and specify that this is a MODFLOW-2005 model."
   ]
  },
  {
   "cell_type": "code",
   "execution_count": 2,
   "metadata": {
    "execution": {
     "iopub.execute_input": "2023-02-22T02:45:03.679380Z",
     "iopub.status.busy": "2023-02-22T02:45:03.678830Z",
     "iopub.status.idle": "2023-02-22T02:45:03.683050Z",
     "shell.execute_reply": "2023-02-22T02:45:03.682293Z"
    }
   },
   "outputs": [],
   "source": [
    "# Set name of MODFLOW exe\n",
    "#  assumes executable is in users path statement\n",
    "exe_name = \"mf2005\"\n",
    "\n",
    "temp_dir = TemporaryDirectory()\n",
    "workspace = temp_dir.name"
   ]
  },
  {
   "cell_type": "markdown",
   "metadata": {},
   "source": [
    "Define the number of layers, rows and columns. The heads are computed quasi-steady state (hence a steady MODFLOW run) while the interface will move. There are three stress periods with a length of 200, 12, and 18 years and 1,000, 120, and 180 steps. "
   ]
  },
  {
   "cell_type": "code",
   "execution_count": 3,
   "metadata": {
    "execution": {
     "iopub.execute_input": "2023-02-22T02:45:03.686744Z",
     "iopub.status.busy": "2023-02-22T02:45:03.686179Z",
     "iopub.status.idle": "2023-02-22T02:45:03.690817Z",
     "shell.execute_reply": "2023-02-22T02:45:03.690087Z"
    }
   },
   "outputs": [],
   "source": [
    "ncol = 61\n",
    "nrow = 61\n",
    "nlay = 2\n",
    "\n",
    "nper = 3\n",
    "perlen = [365.25 * 200.0, 365.25 * 12.0, 365.25 * 18.0]\n",
    "nstp = [1000, 120, 180]\n",
    "save_head = [200, 60, 60]\n",
    "steady = True"
   ]
  },
  {
   "cell_type": "markdown",
   "metadata": {},
   "source": [
    "Specify the cell size along the rows (`delr`) and along the columns (`delc`) and the top and bottom of the aquifer for the `DIS` package. "
   ]
  },
  {
   "cell_type": "code",
   "execution_count": 4,
   "metadata": {
    "execution": {
     "iopub.execute_input": "2023-02-22T02:45:03.694568Z",
     "iopub.status.busy": "2023-02-22T02:45:03.693979Z",
     "iopub.status.idle": "2023-02-22T02:45:03.698088Z",
     "shell.execute_reply": "2023-02-22T02:45:03.697374Z"
    }
   },
   "outputs": [],
   "source": [
    "# dis data\n",
    "delr, delc = 50.0, 50.0\n",
    "botm = np.array([-10.0, -30.0, -50.0])"
   ]
  },
  {
   "cell_type": "markdown",
   "metadata": {},
   "source": [
    "Define the `IBOUND` array and starting heads for the `BAS` package. The corners of the model are defined to be inactive."
   ]
  },
  {
   "cell_type": "code",
   "execution_count": 5,
   "metadata": {
    "execution": {
     "iopub.execute_input": "2023-02-22T02:45:03.701432Z",
     "iopub.status.busy": "2023-02-22T02:45:03.700931Z",
     "iopub.status.idle": "2023-02-22T02:45:03.705791Z",
     "shell.execute_reply": "2023-02-22T02:45:03.705022Z"
    }
   },
   "outputs": [],
   "source": [
    "# bas data\n",
    "# ibound - active except for the corners\n",
    "ibound = np.ones((nlay, nrow, ncol), dtype=int)\n",
    "ibound[:, 0, 0] = 0\n",
    "ibound[:, 0, -1] = 0\n",
    "ibound[:, -1, 0] = 0\n",
    "ibound[:, -1, -1] = 0\n",
    "# initial head data\n",
    "ihead = np.zeros((nlay, nrow, ncol), dtype=float)"
   ]
  },
  {
   "cell_type": "markdown",
   "metadata": {},
   "source": [
    "Define the layers to be confined and define the horizontal and vertical hydraulic conductivity of the aquifer for the `LPF` package."
   ]
  },
  {
   "cell_type": "code",
   "execution_count": 6,
   "metadata": {
    "execution": {
     "iopub.execute_input": "2023-02-22T02:45:03.710166Z",
     "iopub.status.busy": "2023-02-22T02:45:03.709652Z",
     "iopub.status.idle": "2023-02-22T02:45:03.712848Z",
     "shell.execute_reply": "2023-02-22T02:45:03.712249Z"
    }
   },
   "outputs": [],
   "source": [
    "# lpf data\n",
    "laytyp = 0\n",
    "hk = 10.0\n",
    "vka = 0.2"
   ]
  },
  {
   "cell_type": "markdown",
   "metadata": {},
   "source": [
    "Define the boundary condition data for the model"
   ]
  },
  {
   "cell_type": "code",
   "execution_count": 7,
   "metadata": {
    "execution": {
     "iopub.execute_input": "2023-02-22T02:45:03.715772Z",
     "iopub.status.busy": "2023-02-22T02:45:03.715573Z",
     "iopub.status.idle": "2023-02-22T02:45:03.723741Z",
     "shell.execute_reply": "2023-02-22T02:45:03.722942Z"
    }
   },
   "outputs": [],
   "source": [
    "# boundary condition data\n",
    "# ghb data\n",
    "colcell, rowcell = np.meshgrid(np.arange(0, ncol), np.arange(0, nrow))\n",
    "index = np.zeros((nrow, ncol), dtype=int)\n",
    "index[:, :10] = 1\n",
    "index[:, -10:] = 1\n",
    "index[:10, :] = 1\n",
    "index[-10:, :] = 1\n",
    "nghb = np.sum(index)\n",
    "lrchc = np.zeros((nghb, 5))\n",
    "lrchc[:, 0] = 0\n",
    "lrchc[:, 1] = rowcell[index == 1]\n",
    "lrchc[:, 2] = colcell[index == 1]\n",
    "lrchc[:, 3] = 0.0\n",
    "lrchc[:, 4] = 50.0 * 50.0 / 40.0\n",
    "# create ghb dictionary\n",
    "ghb_data = {0: lrchc}\n",
    "\n",
    "# recharge data\n",
    "rch = np.zeros((nrow, ncol), dtype=float)\n",
    "rch[index == 0] = 0.0004\n",
    "# create recharge dictionary\n",
    "rch_data = {0: rch}\n",
    "\n",
    "# well data\n",
    "nwells = 2\n",
    "lrcq = np.zeros((nwells, 4))\n",
    "lrcq[0, :] = np.array((0, 30, 35, 0))\n",
    "lrcq[1, :] = np.array([1, 30, 35, 0])\n",
    "lrcqw = lrcq.copy()\n",
    "lrcqw[0, 3] = -250\n",
    "lrcqsw = lrcq.copy()\n",
    "lrcqsw[0, 3] = -250.0\n",
    "lrcqsw[1, 3] = -25.0\n",
    "# create well dictionary\n",
    "base_well_data = {0: lrcq, 1: lrcqw}\n",
    "swwells_well_data = {0: lrcq, 1: lrcqw, 2: lrcqsw}"
   ]
  },
  {
   "cell_type": "code",
   "execution_count": 8,
   "metadata": {
    "execution": {
     "iopub.execute_input": "2023-02-22T02:45:03.727022Z",
     "iopub.status.busy": "2023-02-22T02:45:03.726674Z",
     "iopub.status.idle": "2023-02-22T02:45:03.734772Z",
     "shell.execute_reply": "2023-02-22T02:45:03.733982Z"
    }
   },
   "outputs": [],
   "source": [
    "# swi2 data\n",
    "nadptmx = 10\n",
    "nadptmn = 1\n",
    "nu = [0, 0.025]\n",
    "numult = 5.0\n",
    "toeslope = nu[1] / numult  # 0.005\n",
    "tipslope = nu[1] / numult  # 0.005\n",
    "z1 = -10.0 * np.ones((nrow, ncol))\n",
    "z1[index == 0] = -11.0\n",
    "z = np.array([[z1, z1]])\n",
    "iso = np.zeros((nlay, nrow, ncol), dtype=int)\n",
    "iso[0, :, :][index == 0] = 1\n",
    "iso[0, :, :][index == 1] = -2\n",
    "iso[1, 30, 35] = 2\n",
    "ssz = 0.2\n",
    "# swi2 observations\n",
    "obsnam = [\"layer1_\", \"layer2_\"]\n",
    "obslrc = [[0, 30, 35], [1, 30, 35]]\n",
    "nobs = len(obsnam)\n",
    "iswiobs = 1051"
   ]
  },
  {
   "cell_type": "markdown",
   "metadata": {},
   "source": [
    "Create output control (OC) data using words "
   ]
  },
  {
   "cell_type": "code",
   "execution_count": 9,
   "metadata": {
    "execution": {
     "iopub.execute_input": "2023-02-22T02:45:03.738396Z",
     "iopub.status.busy": "2023-02-22T02:45:03.737819Z",
     "iopub.status.idle": "2023-02-22T02:45:03.745631Z",
     "shell.execute_reply": "2023-02-22T02:45:03.744727Z"
    }
   },
   "outputs": [],
   "source": [
    "# oc data\n",
    "spd = {\n",
    "    (0, 199): [\"print budget\", \"save head\"],\n",
    "    (0, 200): [],\n",
    "    (0, 399): [\"print budget\", \"save head\"],\n",
    "    (0, 400): [],\n",
    "    (0, 599): [\"print budget\", \"save head\"],\n",
    "    (0, 600): [],\n",
    "    (0, 799): [\"print budget\", \"save head\"],\n",
    "    (0, 800): [],\n",
    "    (0, 999): [\"print budget\", \"save head\"],\n",
    "    (1, 0): [],\n",
    "    (1, 59): [\"print budget\", \"save head\"],\n",
    "    (1, 60): [],\n",
    "    (1, 119): [\"print budget\", \"save head\"],\n",
    "    (1, 120): [],\n",
    "    (2, 0): [],\n",
    "    (2, 59): [\"print budget\", \"save head\"],\n",
    "    (2, 60): [],\n",
    "    (2, 119): [\"print budget\", \"save head\"],\n",
    "    (2, 120): [],\n",
    "    (2, 179): [\"print budget\", \"save head\"],\n",
    "}"
   ]
  },
  {
   "cell_type": "markdown",
   "metadata": {},
   "source": [
    "Create the model with the freshwater well (Simulation 1)"
   ]
  },
  {
   "cell_type": "code",
   "execution_count": 10,
   "metadata": {
    "execution": {
     "iopub.execute_input": "2023-02-22T02:45:03.749459Z",
     "iopub.status.busy": "2023-02-22T02:45:03.749031Z",
     "iopub.status.idle": "2023-02-22T02:45:03.767860Z",
     "shell.execute_reply": "2023-02-22T02:45:03.766933Z"
    }
   },
   "outputs": [
    {
     "name": "stdout",
     "output_type": "stream",
     "text": [
      "ModflowSwi2: specification of nobs is deprecated.\n"
     ]
    }
   ],
   "source": [
    "modelname = \"swiex4_s1\"\n",
    "ml = flopy.modflow.Modflow(\n",
    "    modelname, version=\"mf2005\", exe_name=exe_name, model_ws=workspace\n",
    ")\n",
    "\n",
    "discret = flopy.modflow.ModflowDis(\n",
    "    ml,\n",
    "    nlay=nlay,\n",
    "    nrow=nrow,\n",
    "    ncol=ncol,\n",
    "    laycbd=0,\n",
    "    delr=delr,\n",
    "    delc=delc,\n",
    "    top=botm[0],\n",
    "    botm=botm[1:],\n",
    "    nper=nper,\n",
    "    perlen=perlen,\n",
    "    nstp=nstp,\n",
    ")\n",
    "bas = flopy.modflow.ModflowBas(ml, ibound=ibound, strt=ihead)\n",
    "lpf = flopy.modflow.ModflowLpf(ml, laytyp=laytyp, hk=hk, vka=vka)\n",
    "wel = flopy.modflow.ModflowWel(ml, stress_period_data=base_well_data)\n",
    "ghb = flopy.modflow.ModflowGhb(ml, stress_period_data=ghb_data)\n",
    "rch = flopy.modflow.ModflowRch(ml, rech=rch_data)\n",
    "swi = flopy.modflow.ModflowSwi2(\n",
    "    ml,\n",
    "    nsrf=1,\n",
    "    istrat=1,\n",
    "    toeslope=toeslope,\n",
    "    tipslope=tipslope,\n",
    "    nu=nu,\n",
    "    zeta=z,\n",
    "    ssz=ssz,\n",
    "    isource=iso,\n",
    "    nsolver=1,\n",
    "    nadptmx=nadptmx,\n",
    "    nadptmn=nadptmn,\n",
    "    nobs=nobs,\n",
    "    iswiobs=iswiobs,\n",
    "    obsnam=obsnam,\n",
    "    obslrc=obslrc,\n",
    "    iswizt=55,\n",
    ")\n",
    "oc = flopy.modflow.ModflowOc(ml, stress_period_data=spd)\n",
    "pcg = flopy.modflow.ModflowPcg(\n",
    "    ml, hclose=1.0e-6, rclose=3.0e-3, mxiter=100, iter1=50\n",
    ")"
   ]
  },
  {
   "cell_type": "markdown",
   "metadata": {},
   "source": [
    "Write the simulation 1 MODFLOW input files and run the model"
   ]
  },
  {
   "cell_type": "code",
   "execution_count": 11,
   "metadata": {
    "execution": {
     "iopub.execute_input": "2023-02-22T02:45:03.772175Z",
     "iopub.status.busy": "2023-02-22T02:45:03.771598Z",
     "iopub.status.idle": "2023-02-22T02:45:14.368316Z",
     "shell.execute_reply": "2023-02-22T02:45:14.367391Z"
    }
   },
   "outputs": [
    {
     "data": {
      "text/plain": [
       "(True, [])"
      ]
     },
     "execution_count": 11,
     "metadata": {},
     "output_type": "execute_result"
    }
   ],
   "source": [
    "ml.write_input()\n",
    "ml.run_model(silent=True)"
   ]
  },
  {
   "cell_type": "markdown",
   "metadata": {},
   "source": [
    "Create the model with the saltwater well (Simulation 2)"
   ]
  },
  {
   "cell_type": "code",
   "execution_count": 12,
   "metadata": {
    "execution": {
     "iopub.execute_input": "2023-02-22T02:45:14.372213Z",
     "iopub.status.busy": "2023-02-22T02:45:14.371573Z",
     "iopub.status.idle": "2023-02-22T02:45:14.386788Z",
     "shell.execute_reply": "2023-02-22T02:45:14.386203Z"
    }
   },
   "outputs": [
    {
     "name": "stdout",
     "output_type": "stream",
     "text": [
      "ModflowSwi2: specification of nobs is deprecated.\n"
     ]
    }
   ],
   "source": [
    "modelname2 = \"swiex4_s2\"\n",
    "ml2 = flopy.modflow.Modflow(\n",
    "    modelname2, version=\"mf2005\", exe_name=exe_name, model_ws=workspace\n",
    ")\n",
    "\n",
    "discret = flopy.modflow.ModflowDis(\n",
    "    ml2,\n",
    "    nlay=nlay,\n",
    "    nrow=nrow,\n",
    "    ncol=ncol,\n",
    "    laycbd=0,\n",
    "    delr=delr,\n",
    "    delc=delc,\n",
    "    top=botm[0],\n",
    "    botm=botm[1:],\n",
    "    nper=nper,\n",
    "    perlen=perlen,\n",
    "    nstp=nstp,\n",
    ")\n",
    "bas = flopy.modflow.ModflowBas(ml2, ibound=ibound, strt=ihead)\n",
    "lpf = flopy.modflow.ModflowLpf(ml2, laytyp=laytyp, hk=hk, vka=vka)\n",
    "wel = flopy.modflow.ModflowWel(ml2, stress_period_data=swwells_well_data)\n",
    "ghb = flopy.modflow.ModflowGhb(ml2, stress_period_data=ghb_data)\n",
    "rch = flopy.modflow.ModflowRch(ml2, rech=rch_data)\n",
    "swi = flopy.modflow.ModflowSwi2(\n",
    "    ml2,\n",
    "    nsrf=1,\n",
    "    istrat=1,\n",
    "    toeslope=toeslope,\n",
    "    tipslope=tipslope,\n",
    "    nu=nu,\n",
    "    zeta=z,\n",
    "    ssz=ssz,\n",
    "    isource=iso,\n",
    "    nsolver=1,\n",
    "    nadptmx=nadptmx,\n",
    "    nadptmn=nadptmn,\n",
    "    nobs=nobs,\n",
    "    iswiobs=iswiobs,\n",
    "    obsnam=obsnam,\n",
    "    obslrc=obslrc,\n",
    "    iswizt=55,\n",
    ")\n",
    "oc = flopy.modflow.ModflowOc(ml2, stress_period_data=spd)\n",
    "pcg = flopy.modflow.ModflowPcg(\n",
    "    ml2, hclose=1.0e-6, rclose=3.0e-3, mxiter=100, iter1=50\n",
    ")"
   ]
  },
  {
   "cell_type": "markdown",
   "metadata": {},
   "source": [
    "Write the simulation 2 MODFLOW input files and run the model"
   ]
  },
  {
   "cell_type": "code",
   "execution_count": 13,
   "metadata": {
    "execution": {
     "iopub.execute_input": "2023-02-22T02:45:14.390632Z",
     "iopub.status.busy": "2023-02-22T02:45:14.390006Z",
     "iopub.status.idle": "2023-02-22T02:45:24.942080Z",
     "shell.execute_reply": "2023-02-22T02:45:24.941276Z"
    }
   },
   "outputs": [
    {
     "data": {
      "text/plain": [
       "(True, [])"
      ]
     },
     "execution_count": 13,
     "metadata": {},
     "output_type": "execute_result"
    }
   ],
   "source": [
    "ml2.write_input()\n",
    "ml2.run_model(silent=True)"
   ]
  },
  {
   "cell_type": "markdown",
   "metadata": {},
   "source": [
    "Load the simulation 1 `ZETA` data and `ZETA` observations."
   ]
  },
  {
   "cell_type": "code",
   "execution_count": 14,
   "metadata": {
    "execution": {
     "iopub.execute_input": "2023-02-22T02:45:24.945619Z",
     "iopub.status.busy": "2023-02-22T02:45:24.945299Z",
     "iopub.status.idle": "2023-02-22T02:45:24.958354Z",
     "shell.execute_reply": "2023-02-22T02:45:24.957674Z"
    }
   },
   "outputs": [],
   "source": [
    "# read base model zeta\n",
    "zfile = flopy.utils.CellBudgetFile(\n",
    "    os.path.join(ml.model_ws, modelname + \".zta\")\n",
    ")\n",
    "kstpkper = zfile.get_kstpkper()\n",
    "zeta = []\n",
    "for kk in kstpkper:\n",
    "    zeta.append(zfile.get_data(kstpkper=kk, text=\"ZETASRF  1\")[0])\n",
    "zeta = np.array(zeta)\n",
    "# read swi obs\n",
    "zobs = np.genfromtxt(\n",
    "    os.path.join(ml.model_ws, modelname + \".zobs.out\"), names=True\n",
    ")"
   ]
  },
  {
   "cell_type": "markdown",
   "metadata": {},
   "source": [
    "Load the simulation 2 `ZETA` data and `ZETA` observations."
   ]
  },
  {
   "cell_type": "code",
   "execution_count": 15,
   "metadata": {
    "execution": {
     "iopub.execute_input": "2023-02-22T02:45:24.962215Z",
     "iopub.status.busy": "2023-02-22T02:45:24.961518Z",
     "iopub.status.idle": "2023-02-22T02:45:24.972530Z",
     "shell.execute_reply": "2023-02-22T02:45:24.971846Z"
    }
   },
   "outputs": [],
   "source": [
    "# read saltwater well model zeta\n",
    "zfile2 = flopy.utils.CellBudgetFile(\n",
    "    os.path.join(ml2.model_ws, modelname2 + \".zta\")\n",
    ")\n",
    "kstpkper = zfile2.get_kstpkper()\n",
    "zeta2 = []\n",
    "for kk in kstpkper:\n",
    "    zeta2.append(zfile2.get_data(kstpkper=kk, text=\"ZETASRF  1\")[0])\n",
    "zeta2 = np.array(zeta2)\n",
    "# read swi obs\n",
    "zobs2 = np.genfromtxt(\n",
    "    os.path.join(ml2.model_ws, modelname2 + \".zobs.out\"), names=True\n",
    ")"
   ]
  },
  {
   "cell_type": "markdown",
   "metadata": {},
   "source": [
    "Create arrays for the x-coordinates and the output years"
   ]
  },
  {
   "cell_type": "code",
   "execution_count": 16,
   "metadata": {
    "execution": {
     "iopub.execute_input": "2023-02-22T02:45:24.976241Z",
     "iopub.status.busy": "2023-02-22T02:45:24.975930Z",
     "iopub.status.idle": "2023-02-22T02:45:24.980536Z",
     "shell.execute_reply": "2023-02-22T02:45:24.979545Z"
    }
   },
   "outputs": [],
   "source": [
    "x = np.linspace(-1500, 1500, 61)\n",
    "xcell = np.linspace(-1500, 1500, 61) + delr / 2.0\n",
    "xedge = np.linspace(-1525, 1525, 62)\n",
    "years = [40, 80, 120, 160, 200, 6, 12, 18, 24, 30]"
   ]
  },
  {
   "cell_type": "markdown",
   "metadata": {},
   "source": [
    "Define figure dimensions and colors used for plotting `ZETA` surfaces"
   ]
  },
  {
   "cell_type": "code",
   "execution_count": 17,
   "metadata": {
    "execution": {
     "iopub.execute_input": "2023-02-22T02:45:24.984493Z",
     "iopub.status.busy": "2023-02-22T02:45:24.984207Z",
     "iopub.status.idle": "2023-02-22T02:45:24.989295Z",
     "shell.execute_reply": "2023-02-22T02:45:24.988650Z"
    }
   },
   "outputs": [],
   "source": [
    "# figure dimensions\n",
    "fwid, fhgt = 8.00, 5.50\n",
    "flft, frgt, fbot, ftop = 0.125, 0.95, 0.125, 0.925\n",
    "\n",
    "# line color definition\n",
    "icolor = 5\n",
    "colormap = plt.cm.jet  # winter\n",
    "cc = []\n",
    "cr = np.linspace(0.9, 0.0, icolor)\n",
    "for idx in cr:\n",
    "    cc.append(colormap(idx))"
   ]
  },
  {
   "cell_type": "markdown",
   "metadata": {},
   "source": [
    "Recreate **Figure 9** from the SWI2 documentation (https://pubs.usgs.gov/tm/6a46/)."
   ]
  },
  {
   "cell_type": "code",
   "execution_count": 18,
   "metadata": {
    "execution": {
     "iopub.execute_input": "2023-02-22T02:45:24.992484Z",
     "iopub.status.busy": "2023-02-22T02:45:24.992190Z",
     "iopub.status.idle": "2023-02-22T02:45:25.652505Z",
     "shell.execute_reply": "2023-02-22T02:45:25.651567Z"
    }
   },
   "outputs": [
    {
     "data": {
      "image/png": "[encoded data removed]",
      "text/plain": [
       "<Figure size 800x550 with 4 Axes>"
      ]
     },
     "metadata": {},
     "output_type": "display_data"
    }
   ],
   "source": [
    "plt.rcParams.update({\"legend.fontsize\": 6, \"legend.frameon\": False})\n",
    "fig = plt.figure(figsize=(fwid, fhgt), facecolor=\"w\")\n",
    "fig.subplots_adjust(\n",
    "    wspace=0.25, hspace=0.25, left=flft, right=frgt, bottom=fbot, top=ftop\n",
    ")\n",
    "# first plot\n",
    "ax = fig.add_subplot(2, 2, 1)\n",
    "# axes limits\n",
    "ax.set_xlim(-1500, 1500)\n",
    "ax.set_ylim(-50, -10)\n",
    "for idx in range(5):\n",
    "    # layer 1\n",
    "    ax.plot(\n",
    "        xcell,\n",
    "        zeta[idx, 0, 30, :],\n",
    "        drawstyle=\"steps-mid\",\n",
    "        linewidth=0.5,\n",
    "        color=cc[idx],\n",
    "        label=\"{:2d} years\".format(years[idx]),\n",
    "    )\n",
    "    # layer 2\n",
    "    ax.plot(\n",
    "        xcell,\n",
    "        zeta[idx, 1, 30, :],\n",
    "        drawstyle=\"steps-mid\",\n",
    "        linewidth=0.5,\n",
    "        color=cc[idx],\n",
    "        label=\"_None\",\n",
    "    )\n",
    "ax.plot([-1500, 1500], [-30, -30], color=\"k\", linewidth=1.0)\n",
    "# legend\n",
    "plt.legend(loc=\"lower left\")\n",
    "# axes labels and text\n",
    "ax.set_xlabel(\"Horizontal distance, in meters\")\n",
    "ax.set_ylabel(\"Elevation, in meters\")\n",
    "ax.text(\n",
    "    0.025,\n",
    "    0.55,\n",
    "    \"Layer 1\",\n",
    "    transform=ax.transAxes,\n",
    "    va=\"center\",\n",
    "    ha=\"left\",\n",
    "    size=\"7\",\n",
    ")\n",
    "ax.text(\n",
    "    0.025,\n",
    "    0.45,\n",
    "    \"Layer 2\",\n",
    "    transform=ax.transAxes,\n",
    "    va=\"center\",\n",
    "    ha=\"left\",\n",
    "    size=\"7\",\n",
    ")\n",
    "ax.text(\n",
    "    0.975,\n",
    "    0.1,\n",
    "    \"Recharge conditions\",\n",
    "    transform=ax.transAxes,\n",
    "    va=\"center\",\n",
    "    ha=\"right\",\n",
    "    size=\"8\",\n",
    ")\n",
    "\n",
    "# second plot\n",
    "ax = fig.add_subplot(2, 2, 2)\n",
    "# axes limits\n",
    "ax.set_xlim(-1500, 1500)\n",
    "ax.set_ylim(-50, -10)\n",
    "for idx in range(5, len(years)):\n",
    "    # layer 1\n",
    "    ax.plot(\n",
    "        xcell,\n",
    "        zeta[idx, 0, 30, :],\n",
    "        drawstyle=\"steps-mid\",\n",
    "        linewidth=0.5,\n",
    "        color=cc[idx - 5],\n",
    "        label=\"{:2d} years\".format(years[idx]),\n",
    "    )\n",
    "    # layer 2\n",
    "    ax.plot(\n",
    "        xcell,\n",
    "        zeta[idx, 1, 30, :],\n",
    "        drawstyle=\"steps-mid\",\n",
    "        linewidth=0.5,\n",
    "        color=cc[idx - 5],\n",
    "        label=\"_None\",\n",
    "    )\n",
    "ax.plot([-1500, 1500], [-30, -30], color=\"k\", linewidth=1.0)\n",
    "# legend\n",
    "plt.legend(loc=\"lower left\")\n",
    "# axes labels and text\n",
    "ax.set_xlabel(\"Horizontal distance, in meters\")\n",
    "ax.set_ylabel(\"Elevation, in meters\")\n",
    "ax.text(\n",
    "    0.025,\n",
    "    0.55,\n",
    "    \"Layer 1\",\n",
    "    transform=ax.transAxes,\n",
    "    va=\"center\",\n",
    "    ha=\"left\",\n",
    "    size=\"7\",\n",
    ")\n",
    "ax.text(\n",
    "    0.025,\n",
    "    0.45,\n",
    "    \"Layer 2\",\n",
    "    transform=ax.transAxes,\n",
    "    va=\"center\",\n",
    "    ha=\"left\",\n",
    "    size=\"7\",\n",
    ")\n",
    "ax.text(\n",
    "    0.975,\n",
    "    0.1,\n",
    "    \"Freshwater well withdrawal\",\n",
    "    transform=ax.transAxes,\n",
    "    va=\"center\",\n",
    "    ha=\"right\",\n",
    "    size=\"8\",\n",
    ")\n",
    "\n",
    "# third plot\n",
    "ax = fig.add_subplot(2, 2, 3)\n",
    "# axes limits\n",
    "ax.set_xlim(-1500, 1500)\n",
    "ax.set_ylim(-50, -10)\n",
    "for idx in range(5, len(years)):\n",
    "    # layer 1\n",
    "    ax.plot(\n",
    "        xcell,\n",
    "        zeta2[idx, 0, 30, :],\n",
    "        drawstyle=\"steps-mid\",\n",
    "        linewidth=0.5,\n",
    "        color=cc[idx - 5],\n",
    "        label=\"{:2d} years\".format(years[idx]),\n",
    "    )\n",
    "    # layer 2\n",
    "    ax.plot(\n",
    "        xcell,\n",
    "        zeta2[idx, 1, 30, :],\n",
    "        drawstyle=\"steps-mid\",\n",
    "        linewidth=0.5,\n",
    "        color=cc[idx - 5],\n",
    "        label=\"_None\",\n",
    "    )\n",
    "ax.plot([-1500, 1500], [-30, -30], color=\"k\", linewidth=1.0)\n",
    "# legend\n",
    "plt.legend(loc=\"lower left\")\n",
    "# axes labels and text\n",
    "ax.set_xlabel(\"Horizontal distance, in meters\")\n",
    "ax.set_ylabel(\"Elevation, in meters\")\n",
    "ax.text(\n",
    "    0.025,\n",
    "    0.55,\n",
    "    \"Layer 1\",\n",
    "    transform=ax.transAxes,\n",
    "    va=\"center\",\n",
    "    ha=\"left\",\n",
    "    size=\"7\",\n",
    ")\n",
    "ax.text(\n",
    "    0.025,\n",
    "    0.45,\n",
    "    \"Layer 2\",\n",
    "    transform=ax.transAxes,\n",
    "    va=\"center\",\n",
    "    ha=\"left\",\n",
    "    size=\"7\",\n",
    ")\n",
    "ax.text(\n",
    "    0.975,\n",
    "    0.1,\n",
    "    \"Freshwater and saltwater\\nwell withdrawals\",\n",
    "    transform=ax.transAxes,\n",
    "    va=\"center\",\n",
    "    ha=\"right\",\n",
    "    size=\"8\",\n",
    ")\n",
    "\n",
    "# fourth plot\n",
    "ax = fig.add_subplot(2, 2, 4)\n",
    "# axes limits\n",
    "ax.set_xlim(0, 30)\n",
    "ax.set_ylim(-50, -10)\n",
    "t = zobs[\"TOTIM\"][999:] / 365 - 200.0\n",
    "tz2 = zobs[\"layer1_001\"][999:]\n",
    "tz3 = zobs2[\"layer1_001\"][999:]\n",
    "for i in range(len(t)):\n",
    "    if zobs[\"layer2_001\"][i + 999] < -30.0 - 0.1:\n",
    "        tz2[i] = zobs[\"layer2_001\"][i + 999]\n",
    "    if zobs2[\"layer2_001\"][i + 999] < 20.0 - 0.1:\n",
    "        tz3[i] = zobs2[\"layer2_001\"][i + 999]\n",
    "ax.plot(\n",
    "    t,\n",
    "    tz2,\n",
    "    linestyle=\"solid\",\n",
    "    color=\"r\",\n",
    "    linewidth=0.75,\n",
    "    label=\"Freshwater well\",\n",
    ")\n",
    "ax.plot(\n",
    "    t,\n",
    "    tz3,\n",
    "    linestyle=\"dotted\",\n",
    "    color=\"r\",\n",
    "    linewidth=0.75,\n",
    "    label=\"Freshwater and saltwater well\",\n",
    ")\n",
    "ax.plot([0, 30], [-30, -30], \"k\", linewidth=1.0, label=\"_None\")\n",
    "# legend\n",
    "leg = plt.legend(loc=\"lower right\", numpoints=1)\n",
    "# axes labels and text\n",
    "ax.set_xlabel(\"Time, in years\")\n",
    "ax.set_ylabel(\"Elevation, in meters\")\n",
    "ax.text(\n",
    "    0.025,\n",
    "    0.55,\n",
    "    \"Layer 1\",\n",
    "    transform=ax.transAxes,\n",
    "    va=\"center\",\n",
    "    ha=\"left\",\n",
    "    size=\"7\",\n",
    ")\n",
    "ax.text(\n",
    "    0.025,\n",
    "    0.45,\n",
    "    \"Layer 2\",\n",
    "    transform=ax.transAxes,\n",
    "    va=\"center\",\n",
    "    ha=\"left\",\n",
    "    size=\"7\",\n",
    ");"
   ]
  },
  {
   "cell_type": "markdown",
   "metadata": {},
   "source": [
    "Use `ModelCrossSection` plotting class and `plot_fill_between()` method to fill between zeta surfaces."
   ]
  },
  {
   "cell_type": "code",
   "execution_count": 19,
   "metadata": {
    "execution": {
     "iopub.execute_input": "2023-02-22T02:45:25.655646Z",
     "iopub.status.busy": "2023-02-22T02:45:25.655313Z",
     "iopub.status.idle": "2023-02-22T02:45:26.193463Z",
     "shell.execute_reply": "2023-02-22T02:45:26.192576Z"
    }
   },
   "outputs": [
    {
     "data": {
      "image/png": "[encoded data removed]",
      "text/plain": [
       "<Figure size 800x275 with 2 Axes>"
      ]
     },
     "metadata": {},
     "output_type": "display_data"
    }
   ],
   "source": [
    "fig = plt.figure(figsize=(fwid, fhgt / 2))\n",
    "fig.subplots_adjust(\n",
    "    wspace=0.25, hspace=0.25, left=flft, right=frgt, bottom=fbot, top=ftop\n",
    ")\n",
    "\n",
    "colors = [\"#40d3f7\", \"#F76541\"]\n",
    "\n",
    "ax = fig.add_subplot(1, 2, 1)\n",
    "modelxsect = flopy.plot.PlotCrossSection(\n",
    "    model=ml, line={\"Row\": 30}, extent=(0, 3050, -50, -10)\n",
    ")\n",
    "modelxsect.plot_fill_between(\n",
    "    zeta[4, :, :, :], colors=colors, ax=ax, edgecolors=\"none\"\n",
    ")\n",
    "linecollection = modelxsect.plot_grid(ax=ax)\n",
    "ax.set_title(\"Recharge year {}\".format(years[4]))\n",
    "\n",
    "ax = fig.add_subplot(1, 2, 2)\n",
    "ax.set_xlim(0, 3050)\n",
    "ax.set_ylim(-50, -10)\n",
    "modelxsect.plot_fill_between(zeta[-1, :, :, :], colors=colors, ax=ax)\n",
    "linecollection = modelxsect.plot_grid(ax=ax)\n",
    "ax.set_title(\"Scenario year {}\".format(years[-1]));"
   ]
  },
  {
   "cell_type": "code",
   "execution_count": 20,
   "metadata": {
    "execution": {
     "iopub.execute_input": "2023-02-22T02:45:26.197421Z",
     "iopub.status.busy": "2023-02-22T02:45:26.196859Z",
     "iopub.status.idle": "2023-02-22T02:45:26.203080Z",
     "shell.execute_reply": "2023-02-22T02:45:26.202312Z"
    }
   },
   "outputs": [],
   "source": [
    "try:\n",
    "    # ignore PermissionError on Windows\n",
    "    temp_dir.cleanup()\n",
    "except:\n",
    "    pass"
   ]
  }
 ],
 "metadata": {
  "anaconda-cloud": {},
  "kernelspec": {
   "display_name": "Python 3",
   "language": "python",
   "name": "python3"
  },
  "language_info": {
   "codemirror_mode": {
    "name": "ipython",
    "version": 3
   },
   "file_extension": ".py",
   "mimetype": "text/x-python",
   "name": "python",
   "nbconvert_exporter": "python",
   "pygments_lexer": "ipython3",
   "version": "3.10.6"
  }
 },
 "nbformat": 4,
 "nbformat_minor": 4
}
