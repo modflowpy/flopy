{
 "cells": [
  {
   "cell_type": "markdown",
   "metadata": {},
   "source": [
    "# FloPy\n",
    "\n",
    "### Voronoi grid example\n",
    "\n",
    "First set the path and import the required packages. The flopy path doesn't have to be set if you install flopy from a binary installer. If you want to run this notebook, you have to set the path to your own flopy path."
   ]
  },
  {
   "cell_type": "code",
   "execution_count": null,
   "metadata": {},
   "outputs": [],
   "source": [
    "import os\n",
    "import sys\n",
    "import numpy as np\n",
    "import matplotlib as mpl\n",
    "import matplotlib.pyplot as plt\n",
    "from shapely.geometry import LineString, Point\n",
    "\n",
    "# run installed version of flopy or add local path\n",
    "try:\n",
    "    import flopy\n",
    "except:\n",
    "    fpth = os.path.abspath(os.path.join('..', '..'))\n",
    "    sys.path.append(fpth)\n",
    "    import flopy\n",
    "from flopy.utils.triangle import Triangle as Triangle\n",
    "from flopy.utils.voronoi import VoronoiGrid\n",
    "\n",
    "workspace = os.path.join('data', 'voronoi')\n",
    "# make sure workspace directory exists\n",
    "if not os.path.exists(workspace):\n",
    "    os.makedirs(workspace)\n",
    "\n",
    "print(sys.version)\n",
    "print('numpy version: {}'.format(np.__version__))\n",
    "print('matplotlib version: {}'.format(mpl.__version__))\n",
    "print('flopy version: {}'.format(flopy.__version__))"
   ]
  },
  {
   "cell_type": "markdown",
   "metadata": {},
   "source": [
    "### Use Triangle to Generate Points for Voronoi Grid"
   ]
  },
  {
   "cell_type": "code",
   "execution_count": null,
   "metadata": {},
   "outputs": [],
   "source": [
    "#set domain extents\n",
    "xmin = 0.\n",
    "xmax = 2000.\n",
    "ymin = 0.\n",
    "ymax = 1000.\n",
    "\n",
    "#set minimum angle\n",
    "angle_min = 30\n",
    "\n",
    "#set maximum area\n",
    "area_max = 1000.\n",
    "\n",
    "delr = area_max ** 0.5\n",
    "ncol = xmax / delr\n",
    "nrow = ymax / delr\n",
    "nodes = ncol * nrow\n",
    "print('equivalent delr: ', delr)\n",
    "print('equivalent nodes, ncol, nrow: ', int(nodes), ncol, nrow)"
   ]
  },
  {
   "cell_type": "code",
   "execution_count": null,
   "metadata": {},
   "outputs": [],
   "source": [
    "tri = Triangle(maximum_area=area_max, angle=angle_min, \n",
    "               model_ws=workspace)\n",
    "poly = np.array(((xmin, ymin), (xmax, ymin), (xmax, ymax), (xmin, ymax)))\n",
    "tri.add_polygon(poly)\n",
    "tri.build(verbose=False)\n",
    "\n",
    "fig = plt.figure(figsize=(10, 10))\n",
    "ax = plt.subplot(1, 1, 1, aspect='equal')\n",
    "pc = tri.plot(ax=ax)"
   ]
  },
  {
   "cell_type": "markdown",
   "metadata": {},
   "source": [
    "### Create and Plot FloPy Voronoi Grid\n",
    "\n",
    "The Flopy VoronoiGrid class can be used to generate voronoi grids using the scipy.spatial.Voronoi class.  The VoronoiGrid class is a thin wrapper that makes sure edge cells are closed and provides methods for obtaining the information needed to make FloPy MODFLOW models.  It works by passing in a set of points that will become cell centers.  An easy way to generate these points is to use Triangle, as demonstrated here."
   ]
  },
  {
   "cell_type": "code",
   "execution_count": null,
   "metadata": {},
   "outputs": [],
   "source": [
    "voronoi_grid = VoronoiGrid(tri.verts)\n",
    "fig = plt.figure(figsize=(10,10))\n",
    "ax = plt.subplot(1, 1, 1, aspect='equal')\n",
    "voronoi_grid.plot(ax=ax, facecolor='none')"
   ]
  },
  {
   "cell_type": "markdown",
   "metadata": {},
   "source": [
    "### Use the VertexGrid Representation to Identify Boundary Cells"
   ]
  },
  {
   "cell_type": "code",
   "execution_count": null,
   "metadata": {},
   "outputs": [],
   "source": [
    "gridprops = voronoi_grid.get_gridprops_vertexgrid()\n",
    "vgrid = flopy.discretization.VertexGrid(**gridprops, nlay=1)\n",
    "ibd = np.zeros(vgrid.ncpl, dtype=int)\n",
    "gi = flopy.utils.GridIntersect(vgrid)\n",
    "\n",
    "# identify cells on left edge\n",
    "line = LineString([(xmin, ymin), (xmin, ymax)])\n",
    "cells0 = gi.intersect(line)['cellids']\n",
    "cells0 = np.array(list(cells0))\n",
    "ibd[cells0] = 1\n",
    "\n",
    "# identify cells on right edge\n",
    "line = LineString([(xmax, ymin), (xmax, ymax)])\n",
    "cells1 = gi.intersect(line)['cellids']\n",
    "cells1 = np.array(list(cells1))\n",
    "ibd[cells1] = 2\n",
    "\n",
    "# identify cell for a constant concentration condition\n",
    "point = Point((500, 500))\n",
    "cells2 = gi.intersect(point)['cellids']\n",
    "cells2 = np.array(list(cells2))\n",
    "ibd[cells2] = 3\n",
    "\n",
    "if True:\n",
    "    fig = plt.figure(figsize=(10,10))\n",
    "    ax = plt.subplot(1, 1, 1, aspect='equal')\n",
    "    pmv = flopy.plot.PlotMapView(modelgrid=vgrid)\n",
    "    pmv.plot_array(ibd)"
   ]
  },
  {
   "cell_type": "markdown",
   "metadata": {},
   "source": [
    "### Create Run and Post Process a MODFLOW 6 Flow Model"
   ]
  },
  {
   "cell_type": "code",
   "execution_count": null,
   "metadata": {},
   "outputs": [],
   "source": [
    "name = 'mf'\n",
    "sim_ws = os.path.join(workspace, 'flow')\n",
    "sim = flopy.mf6.MFSimulation(sim_name=name, version='mf6',\n",
    "                             exe_name='mf6',\n",
    "                             sim_ws=sim_ws)\n",
    "tdis = flopy.mf6.ModflowTdis(sim, time_units='DAYS',\n",
    "                             perioddata=[[1.0, 1, 1.]])\n",
    "gwf = flopy.mf6.ModflowGwf(sim, modelname=name, \n",
    "                           save_flows=True)\n",
    "ims = flopy.mf6.ModflowIms(sim, print_option='SUMMARY', \n",
    "                           complexity='complex', \n",
    "                           outer_dvclose=1.e-8, \n",
    "                           inner_dvclose=1.e-8)\n",
    "disv_gridprops = voronoi_grid.get_disv_gridprops()\n",
    "nlay = 1\n",
    "top = 1.\n",
    "botm = [0.]\n",
    "disv = flopy.mf6.ModflowGwfdisv(gwf, nlay=nlay, \n",
    "                                **disv_gridprops,\n",
    "                                top=top, botm=botm)\n",
    "npf = flopy.mf6.ModflowGwfnpf(gwf, xt3doptions=[(True)],\n",
    "                              k=10.,\n",
    "                              save_saturation=True,\n",
    "                              save_specific_discharge=True)\n",
    "ic = flopy.mf6.ModflowGwfic(gwf)\n",
    "\n",
    "chdlist = []\n",
    "for icpl in cells0:\n",
    "    chdlist.append([(0, icpl), 1.])\n",
    "for icpl in cells1:\n",
    "    chdlist.append([(0, icpl), 0.])\n",
    "chd = flopy.mf6.ModflowGwfchd(gwf, stress_period_data=chdlist)\n",
    "oc = flopy.mf6.ModflowGwfoc(gwf,\n",
    "                            budget_filerecord='{}.bud'.format(name),\n",
    "                            head_filerecord='{}.hds'.format(name),\n",
    "                            saverecord=[('HEAD', 'ALL'),\n",
    "                                        ('BUDGET', 'ALL')],\n",
    "                            printrecord=[('HEAD', 'LAST'),\n",
    "                                         ('BUDGET', 'LAST')])\n",
    "sim.write_simulation()\n",
    "success, buff = sim.run_simulation(report=True, silent=True)\n",
    "\n",
    "fname = os.path.join(sim_ws, name + '.hds')\n",
    "hdobj = flopy.utils.HeadFile(fname, precision='double')\n",
    "head = hdobj.get_data()\n",
    "fname = os.path.join(sim_ws, name + '.bud')\n",
    "bdobj = flopy.utils.CellBudgetFile(fname, precision='double', \n",
    "                                   verbose=False)\n",
    "spdis = bdobj.get_data(text='DATA-SPDIS')[0]\n",
    "\n",
    "fig = plt.figure(figsize=(15, 15))\n",
    "ax = plt.subplot(1, 1, 1, aspect='equal')\n",
    "pmv = flopy.plot.PlotMapView(gwf)\n",
    "pmv.plot_array(head, cmap='jet', alpha=0.5)\n",
    "pmv.plot_specific_discharge(spdis, alpha=.25)"
   ]
  },
  {
   "cell_type": "markdown",
   "metadata": {},
   "source": [
    "### Create Run and Post Process a MODFLOW 6 Transport Model"
   ]
  },
  {
   "cell_type": "code",
   "execution_count": null,
   "metadata": {},
   "outputs": [],
   "source": [
    "name = 'mf'\n",
    "sim_ws = os.path.join(workspace, 'transport')\n",
    "sim = flopy.mf6.MFSimulation(sim_name=name, version='mf6',\n",
    "                             exe_name='mf6',\n",
    "                             sim_ws=sim_ws)\n",
    "tdis = flopy.mf6.ModflowTdis(sim, time_units='DAYS',\n",
    "                             perioddata=[[100*365., 100, 1.]])\n",
    "gwt = flopy.mf6.ModflowGwt(sim, modelname=name, save_flows=True)\n",
    "ims = flopy.mf6.ModflowIms(sim, print_option='SUMMARY', \n",
    "                           complexity='simple',\n",
    "                           linear_acceleration='bicgstab',\n",
    "                           outer_dvclose=1.e-6, \n",
    "                           inner_dvclose=1.e-6)\n",
    "disv_gridprops = voronoi_grid.get_disv_gridprops()\n",
    "nlay = 1\n",
    "top = 1.\n",
    "botm = [0.]\n",
    "disv = flopy.mf6.ModflowGwtdisv(gwt, nlay=nlay, \n",
    "                                **disv_gridprops,\n",
    "                                top=top, botm=botm)\n",
    "ic = flopy.mf6.ModflowGwtic(gwt, strt=0.)\n",
    "sto = flopy.mf6.ModflowGwtmst(gwt, porosity=0.2)\n",
    "adv = flopy.mf6.ModflowGwtadv(gwt, scheme='TVD')\n",
    "dsp = flopy.mf6.ModflowGwtdsp(gwt, alh=5., ath1=0.5)\n",
    "sourcerecarray = [()]\n",
    "ssm = flopy.mf6.ModflowGwtssm(gwt, sources=sourcerecarray)\n",
    "cnclist = [[(0, cells2[0]), 1.],]\n",
    "cnc = flopy.mf6.ModflowGwtcnc(gwt, maxbound=len(cnclist),\n",
    "                              stress_period_data=cnclist,\n",
    "                              pname='CNC-1')\n",
    "pd = [('GWFHEAD', '../flow/mf.hds'),\n",
    "    ('GWFBUDGET', '../flow/mf.bud'),]\n",
    "fmi = flopy.mf6.ModflowGwtfmi(gwt, packagedata=pd)\n",
    "oc = flopy.mf6.ModflowGwtoc(gwt,\n",
    "                            budget_filerecord='{}.cbc'.format(name),\n",
    "                            concentration_filerecord='{}.ucn'.format(\n",
    "                                name),\n",
    "                            saverecord=[('CONCENTRATION', 'ALL'),\n",
    "                                        ('BUDGET', 'ALL')])\n",
    "\n",
    "sim.write_simulation()\n",
    "success, buff = sim.run_simulation(report=True, silent=True)\n",
    "\n",
    "fname = os.path.join(sim_ws, name + '.ucn')\n",
    "cobj = flopy.utils.HeadFile(fname, precision='double', \n",
    "                            text='CONCENTRATION')\n",
    "conc = cobj.get_data()\n",
    "\n",
    "fig = plt.figure(figsize=(10, 10))\n",
    "ax = plt.subplot(1, 1, 1, aspect='equal')\n",
    "pmv = flopy.plot.PlotMapView(gwf)\n",
    "c = pmv.plot_array(conc, cmap='jet')\n",
    "pmv.contour_array(conc, levels=(.0001, .001, .01, .1), colors='y')\n",
    "plt.colorbar(c, shrink=0.5)"
   ]
  }
 ],
 "metadata": {
  "kernelspec": {
   "display_name": "Python 3",
   "language": "python",
   "name": "python3"
  },
  "language_info": {
   "codemirror_mode": {
    "name": "ipython",
    "version": 3
   },
   "file_extension": ".py",
   "mimetype": "text/x-python",
   "name": "python",
   "nbconvert_exporter": "python",
   "pygments_lexer": "ipython3",
   "version": "3.8.5"
  }
 },
 "nbformat": 4,
 "nbformat_minor": 4
}
