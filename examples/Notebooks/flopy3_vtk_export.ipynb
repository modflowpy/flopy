{
 "cells": [
  {
   "cell_type": "markdown",
   "metadata": {},
   "source": [
    "# FloPy VTK Export Demo\n",
    "\n",
    "The `Vtk()` class in FloPy allows users to export Structured, Vertex, and Unstructured Grid based models to Visualization ToolKit files for display. This notebook demonstrates how to use FloPy to export to vtk (.vtu) files. This example will cover:\n",
    "\n",
    "   - basic exporting of information for a model, individual package, or array to `Vtk()`\n",
    "   - example usage of the `Vtk()` class object to output data \n",
    "   - exporting heads and model output data\n",
    "   - exporting modpath pathlines to `Vtk()`"
   ]
  },
  {
   "cell_type": "code",
   "execution_count": 1,
   "metadata": {},
   "outputs": [
    {
     "name": "stdout",
     "output_type": "stream",
     "text": [
      "3.7.4 (default, Aug  9 2019, 18:34:13) [MSC v.1915 64 bit (AMD64)]\n",
      "flopy version: 3.3.5\n"
     ]
    }
   ],
   "source": [
    "import os\n",
    "import sys\n",
    "import matplotlib as mpl\n",
    "import matplotlib.pyplot as plt\n",
    "import numpy as np\n",
    "\n",
    "\n",
    "try:\n",
    "    import flopy\n",
    "except:\n",
    "    fpth = os.path.abspath(os.path.join('..', '..'))\n",
    "    sys.path.append(fpth)\n",
    "    import flopy\n",
    "    \n",
    "from flopy.export import vtk\n",
    "    \n",
    "print(sys.version)\n",
    "print('flopy version: {}'.format(flopy.__version__))"
   ]
  },
  {
   "cell_type": "code",
   "execution_count": 2,
   "metadata": {},
   "outputs": [],
   "source": [
    "# load model for examples\n",
    "nam_file = \"freyberg.nam\"\n",
    "model_ws = os.path.join(\"..\", \"data\", \"freyberg_multilayer_transient\")\n",
    "ml = flopy.modflow.Modflow.load(nam_file, model_ws=model_ws, check=False)"
   ]
  },
  {
   "cell_type": "code",
   "execution_count": 3,
   "metadata": {},
   "outputs": [],
   "source": [
    "# output folder to store the outputs from the notebook\n",
    "workspace = os.path.join(\".\", \"temp\", \"VTK_EXAMPLE_OUTPUTS\")\n",
    "if not os.path.exists(workspace):\n",
    "    os.makedirs(workspace)"
   ]
  },
  {
   "cell_type": "markdown",
   "metadata": {},
   "source": [
    "# Basic exporting to VTK using the `.export()` method\n",
    "\n",
    "For all export calls **a folder path must be provided** provided and the the `fmt` flag should be set to 'vtk'\n"
   ]
  },
  {
   "cell_type": "markdown",
   "metadata": {},
   "source": [
    "## Exporting FloPy arrays to .vtu files\n",
    "\n",
    "All array exports have the following optional keyword arguments:\n",
    "   - `smooth`: True creates a smooth surface, default is False\n",
    "   - `point_scalars`: True outputs point scalar values as well as cell values, default is False.\n",
    "   - `name`: A name can be specified to use for the output filename and array scalar name, by default the FloPy array name is used\n",
    "   - `binary`: argument that can be specified to switch between binary and ASCII, default is True\n",
    "   - `xml`: True will write an xml base vtk file, default is False\n",
    "   - `masked_values`: list or tuple of values to mask (set to nan) when writing a array\n",
    "   - `vertical_exageration`: floating point value that can be used to scale the vertical exageration of the vtk points. Default is 1.\n",
    "   \n",
    "Tranient type array exports (\"stress_period_data\"; ex. recharge data, well flux, etc ...) have additional optional keyword arguments:\n",
    "   - `pvd`: True will write a paraview data file with simulation time for animations. Default is False\n",
    "   - `kper`: a list, tuple, or integer value of specific stess periods to output"
   ]
  },
  {
   "cell_type": "markdown",
   "metadata": {},
   "source": [
    "### Export model top"
   ]
  },
  {
   "cell_type": "code",
   "execution_count": 4,
   "metadata": {},
   "outputs": [],
   "source": [
    "# create output folder\n",
    "output_dir = os.path.join(workspace, 'arrays_test')\n",
    "if not os.path.exists(output_dir):\n",
    "    os.mkdir(output_dir)\n",
    "    \n",
    "# export model top\n",
    "model_top_dir = os.path.join(output_dir, 'TOP')\n",
    "ml.dis.top.export(model_top_dir, fmt='vtk') "
   ]
  },
  {
   "cell_type": "markdown",
   "metadata": {},
   "source": [
    "### Export model bottoms"
   ]
  },
  {
   "cell_type": "code",
   "execution_count": 5,
   "metadata": {},
   "outputs": [],
   "source": [
    "# 3D Array export\n",
    "# export model bottoms\n",
    "model_bottom_dir = os.path.join(output_dir, 'BOTM')\n",
    "ml.dis.botm.export(model_bottom_dir, fmt='vtk')"
   ]
  },
  {
   "cell_type": "markdown",
   "metadata": {},
   "source": [
    "### Export transient array recharge"
   ]
  },
  {
   "cell_type": "code",
   "execution_count": 6,
   "metadata": {},
   "outputs": [
    {
     "name": "stdout",
     "output_type": "stream",
     "text": [
      "Switching to xml, ASCII and standard binary are not supported by Paraview's PVD reader\n"
     ]
    }
   ],
   "source": [
    "# transient 2d array\n",
    "# export recharge\n",
    "model_recharge_dir = os.path.join(output_dir, 'RECH')\n",
    "ml.rch.rech.export(model_recharge_dir, fmt='vtk', pvd=True)"
   ]
  },
  {
   "cell_type": "markdown",
   "metadata": {},
   "source": [
    "### Export HK with point scalars\n"
   ]
  },
  {
   "cell_type": "code",
   "execution_count": 7,
   "metadata": {},
   "outputs": [],
   "source": [
    "# 3D Array export\n",
    "# hk export, with points\n",
    "model_hk_dir = os.path.join(output_dir, 'HK')\n",
    "ml.upw.hk.export(model_hk_dir, smooth=True, fmt='vtk', name='HK', point_scalars=True)"
   ]
  },
  {
   "cell_type": "markdown",
   "metadata": {},
   "source": [
    "## Package export to .vtu files\n",
    "\n",
    "Package export has the following keyword arguments:\n",
    "   - `smooth`: True creates a smooth surface, default is False\n",
    "   - `point_scalars`: True outputs point scalar values as well as cell values, default is False.\n",
    "   - `name`: A name can be specified to use for the output filename and array scalar name, by default the FloPy array name is used\n",
    "   - `binary`: argument that can be specified to switch between binary and ASCII, default is True\n",
    "   - `xml`: True will write an xml base vtk file, default is False\n",
    "   - `masked_values`: list or tuple of values to mask (set to nan) when writing a array\n",
    "   - `vertical_exageration`: floating point value that can be used to scale the vertical exageration of the vtk points. Default is 1.\n",
    "   - `pvd`: True will write a paraview data file with simulation time for animations. Default is False\n",
    "   - `kper`: a list, tuple, or integer value of specific stess periods to output"
   ]
  },
  {
   "cell_type": "markdown",
   "metadata": {},
   "source": [
    "### Export dis and upw package"
   ]
  },
  {
   "cell_type": "code",
   "execution_count": 8,
   "metadata": {},
   "outputs": [],
   "source": [
    "# package export\n",
    "# set up package export folder\n",
    "output_dir = os.path.join(workspace, 'package_output_test')\n",
    "if not os.path.exists(output_dir):\n",
    "    os.mkdir(output_dir)\n",
    "    \n",
    "# export dis\n",
    "dis_output_dir = os.path.join(output_dir, 'DIS')\n",
    "ml.dis.export(dis_output_dir,  fmt='vtk')\n",
    "\n",
    "#export upw with point scalars as a binary xml based vtk file\n",
    "upw_output_dir = os.path.join(output_dir, 'UPW')\n",
    "ml.upw.export(upw_output_dir,  fmt='vtk', point_scalars=True, xml=True)"
   ]
  },
  {
   "cell_type": "markdown",
   "metadata": {},
   "source": [
    "# Model export to .vtu files\n",
    "\n",
    "Model export has the following optional keyword arguments:\n",
    "   \n",
    "   - `package_names`: a list of package names to export, default is None and will export all packages in the model.\n",
    "   - `smooth`: True creates a smooth surface, default is False\n",
    "   - `point_scalars`: True outputs point scalar values as well as cell values, default is False.\n",
    "   - `name`: A name can be specified to use for the output filename and array scalar name, by default the FloPy array name is used\n",
    "   - `binary`: argument that can be specified to switch between binary and ASCII, default is True\n",
    "   - `xml`: True will write an xml base vtk file, default is False\n",
    "   - `masked_values`: list or tuple of values to mask (set to nan) when writing a array\n",
    "   - `vertical_exageration`: floating point value that can be used to scale the vertical exageration of the vtk points. Default is 1.\n",
    "   - `pvd`: True will write a paraview data file with simulation time for animations. Default is False\n",
    "   - `kper`: a list, tuple, or integer value of specific stess periods to output"
   ]
  },
  {
   "cell_type": "markdown",
   "metadata": {},
   "source": [
    "### Export model as a binary unstructured vtk file"
   ]
  },
  {
   "cell_type": "code",
   "execution_count": 9,
   "metadata": {
    "scrolled": true
   },
   "outputs": [
    {
     "data": {
      "text/plain": [
       "'.\\\\temp\\\\VTK_EXAMPLE_OUTPUTS\\\\model_output_test'"
      ]
     },
     "execution_count": 9,
     "metadata": {},
     "output_type": "execute_result"
    }
   ],
   "source": [
    "model_output_dir = os.path.join(workspace, 'model_output_test')\n",
    "ml.export(model_output_dir, fmt='vtk')"
   ]
  },
  {
   "cell_type": "markdown",
   "metadata": {},
   "source": [
    "# Exporting using the `Vtk()` class object \n",
    "\n",
    "To export custom arrays, or choose a custom combination of model inputs to view, the user first needs to instantiate a new `Vtk()` object. The `Vtk()` object has a single required parameter and a number of optional parameters that the user can take advantage of. These parameters are as follows:\n",
    "\n",
    "   - `model`: any flopy model object can be supplied to create the vtk geometry. Either the model (recommended!) or modelgrid parameter must be supplied to the Vtk() object.\n",
    "   - `modelgrid`: any flopy modelgrid object (StructuredGrid, VertexGrid, UnstructuredGrid) can be supplied, in leiu of a model object, to create the vtk geometery. \n",
    "   - `vertical_exageration`: floating point value that can be used to scale the vertical exageration of the vtk points. Default is 1.\n",
    "   - `binary`: boolean flag to switch between binary and ASCII vtk files. Default is True.\n",
    "   - `xml`: boolean flag to write xml based vtk files. Default is False\n",
    "   - `pvd`: boolean flag to write a paraview data file for transient series of vtu files. This file relates model time to vtu file for animations. Default is False. If set to True Vtk() will automatically write xml based vtu files. \n",
    "   - `shared_points`: boolean flag to write shared vertices within the vtk file. Default is False.\n",
    "   - `smooth`: boolean flag to interpolate vertex elevations using IDW based on shared cell elevations. Default is False.\n",
    "   - `point_scalars`: boolean flag to write interpolated data at each point."
   ]
  },
  {
   "cell_type": "code",
   "execution_count": 10,
   "metadata": {},
   "outputs": [
    {
     "data": {
      "text/plain": [
       "<flopy.export.vtk.Vtk at 0x1ed6a3309c8>"
      ]
     },
     "execution_count": 10,
     "metadata": {},
     "output_type": "execute_result"
    }
   ],
   "source": [
    "# create a binary XML VTK object and enable PVD file writing\n",
    "vtkobj = vtk.Vtk(ml, xml=True, pvd=True, vertical_exageration=10)\n",
    "vtkobj"
   ]
  },
  {
   "cell_type": "markdown",
   "metadata": {},
   "source": [
    "## Adding array data to the `Vtk()` object\n",
    "\n",
    "The `Vtk()` object has an `add_array()` method that lets the user add array data to the Field data section of the VTK file.\n",
    "\n",
    "`add_array()` has a few parameters for the user:\n",
    "   - `array` : numpy array that has a size equal to the number of cells in the model (modelgrid.nnodes).\n",
    "   - `name` : array name (string)\n",
    "   - `masked_values` : list of array values to mask/set to NaN "
   ]
  },
  {
   "cell_type": "code",
   "execution_count": 11,
   "metadata": {},
   "outputs": [],
   "source": [
    "# Create a vtk object\n",
    "vtkobj = vtk.Vtk(ml, vertical_exageration=10)\n",
    "\n",
    "## create some random array data\n",
    "r_array = np.random.random(ml.modelgrid.nnodes) * 100\n",
    "\n",
    "## add random data to the VTK object\n",
    "vtkobj.add_array(r_array, \"random_data\")\n",
    "\n",
    "## add the model botom data to the VTK object\n",
    "vtkobj.add_array(ml.dis.botm.array, \"botm\")\n",
    "\n",
    "## write the vtk object to file\n",
    "vtkobj.write(os.path.join(output_dir, \"Array_example\", \"model.vtu\"))"
   ]
  },
  {
   "cell_type": "markdown",
   "metadata": {},
   "source": [
    "## Adding transient array data to the `Vtk()` object\n",
    "\n",
    "The `Vtk()` class has an `add_transient_array()` method that allows the user to create a series of time varying `Vtk()` files that can be used for animation in VTK viewers.\n",
    "\n",
    "The `add_transient_array()` method accepts a dictionary of array2d, array3d, or numpy array objects. Parameters include:\n",
    "   - `d`: dictionary of array2d, array3d, or numpy array objects\n",
    "   - `name`: parameter name, required when user provides a dictionary of numpy arrays\n",
    "   - `masked_values`: optional list of values to set equal to NaN."
   ]
  },
  {
   "cell_type": "code",
   "execution_count": 12,
   "metadata": {},
   "outputs": [],
   "source": [
    "# create a vtk object\n",
    "vtkobj = vtk.Vtk(ml, xml=True, pvd=True, vertical_exageration=10)\n",
    "\n",
    "## add recharge to the VTK object\n",
    "recharge = ml.rch.rech.transient_2ds\n",
    "vtkobj.add_transient_array(recharge, \"recharge\", masked_values=[0,])\n",
    "\n",
    "## write vtk files\n",
    "vtkobj.write(os.path.join(output_dir, \"tr_array_example\", \"recharge.vtu\"))"
   ]
  },
  {
   "cell_type": "markdown",
   "metadata": {},
   "source": [
    "## Adding transient list data to the `Vtk()` object\n",
    "\n",
    "The `Vtk()` class has an `add_transient_list()` method that allows the user to create a series of time varying `Vtk()` files that can be used for animation in VTK viewers.\n",
    "\n",
    "The `add_transient_list()` method accepts a FloPy mflist (transient list) type object. Parameters include:\n",
    "   - `mflist`: flopy transient list object\n",
    "   - `masked_values`: list of values to set equal to NaN"
   ]
  },
  {
   "cell_type": "code",
   "execution_count": 13,
   "metadata": {},
   "outputs": [],
   "source": [
    "# create the vtk object\n",
    "vtkobj = vtk.Vtk(ml, xml=True, pvd=True, vertical_exageration=10)\n",
    "\n",
    "## add well fluxes to the VTK object\n",
    "spd = ml.wel.stress_period_data\n",
    "vtkobj.add_transient_list(spd, masked_values=[0,])\n",
    "\n",
    "## write vtk files\n",
    "vtkobj.write(os.path.join(output_dir, \"tr_list_example\", \"wel_flux.vtu\"))"
   ]
  },
  {
   "cell_type": "markdown",
   "metadata": {},
   "source": [
    "## Adding packages to the `Vtk` object\n",
    "\n",
    "The `Vtk()` class has a method for adding package data to a VTK file as Field Data. The `add_package()` method allows the user to add packages for subsequent export. `add_package()` takes the following parameters:\n",
    "\n",
    "   - `pkg`: flopy package object\n",
    "   - `masked_values`: optional list of values to set to NaN.\n"
   ]
  },
  {
   "cell_type": "markdown",
   "metadata": {},
   "source": [
    "In the following example, a HFB package is added to the existing freyberg model and then exported with the WEL package."
   ]
  },
  {
   "cell_type": "code",
   "execution_count": 14,
   "metadata": {},
   "outputs": [],
   "source": [
    "# create a HFB package for the example\n",
    "hfb_data = []\n",
    "for k in range(3):\n",
    "    for i in range(20):\n",
    "        rec = [k, i, 6, i, 7, 1e-06]\n",
    "        hfb_data.append(rec)\n",
    "        \n",
    "hfb = flopy.modflow.ModflowHfb(ml, hfb_data=hfb_data)"
   ]
  },
  {
   "cell_type": "code",
   "execution_count": 15,
   "metadata": {},
   "outputs": [],
   "source": [
    "# export HFB and WEL packages using Vtk()\n",
    "vtkobj = vtk.Vtk(ml, vertical_exageration=10)\n",
    "\n",
    "vtkobj.add_package(hfb)\n",
    "vtkobj.add_package(ml.wel)\n",
    "\n",
    "vtkobj.write(os.path.join(output_dir, \"package_example\", \"package_export.vtu\"))"
   ]
  },
  {
   "cell_type": "markdown",
   "metadata": {},
   "source": [
    "# Export heads to binary .vtu files\n",
    "\n",
    "Once a `Vtk()` object is instantiated (see above), the `Vtk()` class has an `add_heads()` method. This method has a few parameters:\n",
    "  - `hds`: a flopy FormattedHeadFile or HeadFile object. This method also accepts DrawdownFile, and ConcentrationFile objects.\n",
    "  - `kstpkper`: optional list of zero based (timestep, stress period) tuples to output. Default is None and will output all data to a series of vtu files\n",
    "  - `masked_values`: optional list of values to set to NaN, default is None.\n"
   ]
  },
  {
   "cell_type": "code",
   "execution_count": 16,
   "metadata": {},
   "outputs": [],
   "source": [
    "# import the HeadFile reader and read in the head file\n",
    "from flopy.utils import HeadFile\n",
    "\n",
    "head_file = os.path.join(model_ws, 'freyberg.hds')\n",
    "hds = HeadFile(head_file)\n",
    "\n",
    "\n",
    "# create the vtk object and export heads\n",
    "vtkobj = vtk.Vtk(ml, xml=True, pvd=True, vertical_exageration=10)\n",
    "vtkobj.add_heads(hds)\n",
    "vtkobj.write(os.path.join(workspace, 'heads_output_test', 'freyberg_head.vtu'))"
   ]
  },
  {
   "cell_type": "markdown",
   "metadata": {},
   "source": [
    "### Export heads as point scalar arrays"
   ]
  },
  {
   "cell_type": "code",
   "execution_count": 17,
   "metadata": {},
   "outputs": [],
   "source": [
    "# export heads as point scalars\n",
    "vtkobj = vtk.Vtk(ml, xml=True, pvd=True, point_scalars=True, vertical_exageration=10)\n",
    "\n",
    "# export heads for time step 1, stress periods 1, 50, 100, 1000\n",
    "vtkobj.add_heads(hds, kstpkper=[(0,0), (0, 49), (0, 99), (0, 999)])\n",
    "vtkobj.write(os.path.join(workspace, 'heads_output_test_parameters', 'freyberg_head.vtu'))"
   ]
  },
  {
   "cell_type": "markdown",
   "metadata": {},
   "source": [
    "# Export cell budget information\n",
    "\n",
    "Once a `Vtk()` object is instantiated (see above), the `Vtk()` class has an `add_cell_budget()` method. This method has a few parameters:\n",
    "   - `cbc`: flopy CellBudgetFile object\n",
    "   - `text`: Optional text identifier for a record type. Examples include 'RIVER LEAKAGE', 'STORAGE', etc... Default is None and will export all cell budget information to vtk files\n",
    "   - `kstpkper`: optional list of zero based (timestep, stress period) tuples to output. Default is None and will output all data to a series of vtu files\n",
    "   - `masked_values`: optional list of values to set to NaN, default is None."
   ]
  },
  {
   "cell_type": "code",
   "execution_count": 18,
   "metadata": {},
   "outputs": [],
   "source": [
    "# import the CellBudgetFile reader and read the CBC file\n",
    "from flopy.utils import CellBudgetFile\n",
    "\n",
    "cbc_file = os.path.join(model_ws, 'freyberg.cbc')\n",
    "cbc = CellBudgetFile(cbc_file)\n",
    "\n",
    "# export the cbc file to a series of Vtu files with a PVD file for animation\n",
    "vtkobj = vtk.Vtk(ml, xml=True, pvd=True, vertical_exageration=10)\n",
    "vtkobj.add_cell_budget(cbc, kstpkper=[(0, 0), (0, 9), (0, 10), (0, 11)])\n",
    "vtkobj.write(os.path.join(workspace, 'cbc_output_test_parameters', 'freyberg_cbc.vtu'))"
   ]
  },
  {
   "cell_type": "markdown",
   "metadata": {},
   "source": [
    "### Exporting vectors from the Cell Budget File with the `Vtk()` class\n",
    "\n",
    "The `Vtk()` class has an `add_vector()` method that allows the user to write vector information to VTK files. This method can be used to export information such as cell centered specific discharge.\n",
    "\n",
    "The `add_vector()` method accepts a numpy array of vector data. The array size must be 3 * the number of model cells (3 * modelgrid.nnodes). Parameters include:\n",
    "   - `vector`: numpy array of size 3 * nnodes\n",
    "   - `name`: name of the vector \n",
    "   - `masked_values`: list of values to set equal to NaN\n"
   ]
  },
  {
   "cell_type": "code",
   "execution_count": 19,
   "metadata": {},
   "outputs": [],
   "source": [
    "# get frf, fff, flf from the Cell Budget file (or SPDIS when using MF6)\n",
    "from flopy.utils import postprocessing\n",
    "\n",
    "frf = cbc.get_data(text=\"FLOW RIGHT FACE\", kstpkper=(0, 9), full3D=True)[0]\n",
    "fff = cbc.get_data(text=\"FLOW FRONT FACE\", kstpkper=(0, 9), full3D=True)[0]\n",
    "flf = cbc.get_data(text=\"FLOW LOWER FACE\", kstpkper=(0, 9), full3D=True)[0]\n",
    "\n",
    "spdis = postprocessing.get_specific_discharge((frf, fff, flf), ml)\n",
    "\n",
    "# create the Vtk() object\n",
    "vtkobj = vtk.Vtk(ml, vertical_exageration=10)\n",
    "\n",
    "# add the vector\n",
    "vtkobj.add_vector(spdis, name='spdis')\n",
    "\n",
    "# write to file\n",
    "vtkobj.write(os.path.join(output_dir, \"vector_example\", \"spdis_vector.vtu\"))"
   ]
  },
  {
   "cell_type": "markdown",
   "metadata": {},
   "source": [
    "# Adding Modpath timeseries or pathline data to `Vtk()`\n",
    "\n",
    "The `Vtk()` class support writing MODPATH pathline/timeseries data to a Vtk file. To start the example, let's first load and run a MODPATH simulation (see flopy3_modpath7_unstructured_example for details) and then add the output to a `Vtk()` object."
   ]
  },
  {
   "cell_type": "code",
   "execution_count": 20,
   "metadata": {},
   "outputs": [
    {
     "name": "stdout",
     "output_type": "stream",
     "text": [
      "WARNING: Unable to resolve dimension of ('gwf6', 'disv', 'cell2d', 'cell2d', 'icvert') based on shape \"ncvert\".\n",
      "writing simulation...\n",
      "  writing simulation name file...\n",
      "  writing simulation tdis package...\n",
      "  writing ims package ims...\n",
      "  writing model mp7p2...\n",
      "    writing model name file...\n",
      "    writing package disv...\n",
      "    writing package ic...\n",
      "    writing package npf...\n",
      "    writing package wel_0...\n",
      "INFORMATION: maxbound in ('gwf6', 'wel', 'dimensions') changed to 1 based on size of stress_period_data\n",
      "    writing package rcha_0...\n",
      "    writing package riv_0...\n",
      "INFORMATION: maxbound in ('gwf6', 'riv', 'dimensions') changed to 21 based on size of stress_period_data\n",
      "    writing package oc...\n",
      "FloPy is using the following executable to run the model: .\\mf6.EXE\n",
      "                                   MODFLOW 6\n",
      "                U.S. GEOLOGICAL SURVEY MODULAR HYDROLOGIC MODEL\n",
      "                            VERSION 6.2.1 02/18/2021\n",
      "\n",
      "   MODFLOW 6 compiled Feb 18 2021 21:14:51 with IFORT compiler (ver. 19.10.3)\n",
      "\n",
      "This software has been approved for release by the U.S. Geological \n",
      "Survey (USGS). Although the software has been subjected to rigorous \n",
      "review, the USGS reserves the right to update the software as needed \n",
      "pursuant to further analysis and review. No warranty, expressed or \n",
      "implied, is made by the USGS or the U.S. Government as to the \n",
      "functionality of the software and related material nor shall the \n",
      "fact of release constitute any such warranty. Furthermore, the \n",
      "software is released on condition that neither the USGS nor the U.S. \n",
      "Government shall be held liable for any damages resulting from its \n",
      "authorized or unauthorized use. Also refer to the USGS Water \n",
      "Resources Software User Rights Notice for complete use, copyright, \n",
      "and distribution information.\n",
      "\n",
      " \n",
      " Run start date and time (yyyy/mm/dd hh:mm:ss): 2021/09/27 18:11:17\n",
      " \n",
      " Writing simulation list file: mfsim.lst\n",
      " Using Simulation name file: mfsim.nam\n",
      " \n",
      "    Solving:  Stress period:     1    Time step:     1\n",
      " \n",
      " Run end date and time (yyyy/mm/dd hh:mm:ss): 2021/09/27 18:11:17\n",
      " Elapsed run time:  0.180 Seconds\n",
      " \n",
      "\n",
      "WARNING REPORT:\n",
      "\n",
      "  1. NONLINEAR BLOCK VARIABLE 'OUTER_HCLOSE' IN FILE 'mp7p2.ims' WAS\n",
      "     DEPRECATED IN VERSION 6.1.1. SETTING OUTER_DVCLOSE TO OUTER_HCLOSE VALUE.\n",
      "  2. LINEAR BLOCK VARIABLE 'INNER_HCLOSE' IN FILE 'mp7p2.ims' WAS DEPRECATED\n",
      "     IN VERSION 6.1.1. SETTING INNER_DVCLOSE TO INNER_HCLOSE VALUE.\n",
      " Normal termination of simulation.\n",
      "FloPy is using the following executable to run the model: .\\mp7.EXE\n",
      "\n",
      "MODPATH Version 7.2.001   \n",
      "Program compiled Feb 18 2021 21:19:24 with IFORT compiler (ver. 19.10.3)        \n",
      " \n",
      " \n",
      "Run particle tracking simulation ...\n",
      "Processing Time Step     1 Period     1.  Time =  1.00000E+03  Steady-state flow                                                    \n",
      "\n",
      "Particle Summary:\n",
      "         0 particles are pending release.\n",
      "         0 particles remain active.\n",
      "        16 particles terminated at boundary faces.\n",
      "         0 particles terminated at weak sink cells.\n",
      "         0 particles terminated at weak source cells.\n",
      "         0 particles terminated at strong source/sink cells.\n",
      "         0 particles terminated in cells with a specified zone number.\n",
      "         0 particles were stranded in inactive or dry cells.\n",
      "         0 particles were unreleased.\n",
      "         0 particles have an unknown status.\n",
      " \n",
      "Normal termination.                                                        \n",
      "FloPy is using the following executable to run the model: .\\mp7.EXE\n",
      "\n",
      "MODPATH Version 7.2.001   \n",
      "Program compiled Feb 18 2021 21:19:24 with IFORT compiler (ver. 19.10.3)        \n",
      " \n",
      " \n",
      "Run particle tracking simulation ...\n",
      "Processing Time Step     1 Period     1.  Time =  1.00000E+03  Steady-state flow                                                    \n",
      "\n",
      "Particle Summary:\n",
      "         0 particles are pending release.\n",
      "         0 particles remain active.\n",
      "       416 particles terminated at boundary faces.\n",
      "         0 particles terminated at weak sink cells.\n",
      "         0 particles terminated at weak source cells.\n",
      "         0 particles terminated at strong source/sink cells.\n",
      "         0 particles terminated in cells with a specified zone number.\n",
      "         0 particles were stranded in inactive or dry cells.\n",
      "         0 particles were unreleased.\n",
      "         0 particles have an unknown status.\n",
      " \n",
      "Normal termination.                                                        \n",
      "Output file located: mp7p2.hds\n",
      "Output file located: mp7p2.cbb\n"
     ]
    }
   ],
   "source": [
    "# load and run the vertex grid model and modpath7\n",
    "sys.path.append(os.path.join(\"..\", \"common\"))\n",
    "import setup_pmv_demo\n",
    "setup_pmv_demo.run()\n",
    "\n",
    "# check if model ran properly\n",
    "modelpth = os.path.join(\"data\", \"mp7_ex2\", \"mf6\")\n",
    "files = ['mp7p2.hds', 'mp7p2.cbb']\n",
    "for f in files:\n",
    "    if os.path.isfile(os.path.join(modelpth, f)):\n",
    "        msg = 'Output file located: {}'.format(f)\n",
    "        print (msg)\n",
    "    else:\n",
    "        errmsg = 'Error. Output file cannot be found: {}'.format(f)\n",
    "        print (errmsg)"
   ]
  },
  {
   "cell_type": "code",
   "execution_count": 21,
   "metadata": {},
   "outputs": [
    {
     "name": "stdout",
     "output_type": "stream",
     "text": [
      "loading simulation...\n",
      "  loading simulation name file...\n",
      "  loading tdis package...\n",
      "  loading model gwf6...\n",
      "    loading package disv...\n",
      "WARNING: Unable to resolve dimension of ('gwf6', 'disv', 'cell2d', 'cell2d', 'icvert') based on shape \"ncvert\".\n",
      "    loading package ic...\n",
      "    loading package npf...\n",
      "    loading package wel...\n",
      "    loading package rch...\n",
      "    loading package riv...\n",
      "    loading package oc...\n",
      "  loading ims package mp7p2...\n",
      "[[0, 0, 1, 2, 3, 0, None], [1, 1, 4, 5, 2, 1, None], [2, 4, 6, 7, 5, 4, None], [3, 6, 8, 9, 7, 6, None], [4, 8, 10, 11, 9, 8, None], [5, 10, 12, 13, 11, 10, None], [6, 12, 14, 15, 13, 12, None], [7, 14, 16, 17, 15, 14, None], [8, 16, 18, 19, 17, 16, None], [9, 18, 20, 21, 19, 18, None], [10, 20, 22, 23, 21, 20, None], [11, 22, 24, 25, 23, 22, None], [12, 24, 26, 27, 25, 24, None], [13, 26, 28, 29, 27, 26, None], [14, 28, 30, 31, 29, 28, None], [15, 30, 32, 33, 31, 30, None], [16, 32, 34, 35, 33, 32, None], [17, 34, 36, 37, 35, 34, None], [18, 36, 38, 39, 37, 36, None], [19, 38, 40, 41, 39, 38, None], [20, 3, 2, 42, 43, 3, None], [21, 2, 5, 44, 42, 2, None], [22, 5, 7, 45, 44, 5, None], [23, 7, 9, 46, 45, 7, None], [24, 9, 11, 47, 46, 9, None], [25, 11, 13, 48, 47, 11, None], [26, 13, 15, 49, 48, 13, None], [27, 15, 17, 50, 49, 15, None], [28, 17, 19, 51, 50, 17, None], [29, 19, 21, 52, 51, 19, None], [30, 21, 23, 53, 52, 21, None], [31, 23, 25, 54, 53, 23, None], [32, 25, 27, 55, 54, 25, None], [33, 27, 29, 56, 55, 27, None], [34, 29, 31, 57, 56, 29, None], [35, 31, 33, 58, 57, 31, None], [36, 33, 35, 59, 58, 33, None], [37, 35, 37, 60, 59, 35, None], [38, 37, 39, 61, 60, 37, None], [39, 39, 41, 62, 61, 39, None], [40, 43, 42, 63, 64, 43, None], [41, 42, 44, 65, 63, 42, None], [42, 44, 45, 66, 65, 44, None], [43, 45, 46, 67, 66, 45, None], [44, 46, 47, 68, 67, 46, None], [45, 47, 48, 69, 68, 47, None], [46, 48, 49, 70, 69, 48, None], [47, 49, 50, 71, 70, 49, None], [48, 50, 51, 72, 71, 50, None], [49, 51, 52, 73, 72, 51, None], [50, 52, 53, 74, 73, 52, None], [51, 53, 54, 75, 74, 53, None], [52, 54, 55, 76, 75, 54, None], [53, 55, 56, 77, 76, 55, None], [54, 56, 57, 78, 77, 56, None], [55, 57, 58, 79, 78, 57, None], [56, 58, 59, 80, 79, 58, None], [57, 59, 60, 81, 80, 59, None], [58, 60, 61, 82, 81, 60, None], [59, 61, 62, 83, 82, 61, None], [60, 64, 63, 84, 85, 64, None], [61, 63, 65, 86, 84, 63, None], [62, 65, 66, 87, 86, 65, None], [63, 66, 67, 88, 87, 66, None], [64, 67, 68, 89, 88, 67, None], [65, 68, 69, 90, 89, 68, None], [66, 69, 70, 91, 90, 69, None], [67, 70, 71, 92, 91, 70, None], [68, 71, 72, 93, 92, 71, None], [69, 72, 73, 94, 93, 72, None], [70, 73, 74, 95, 94, 73, None], [71, 74, 75, 96, 95, 74, None], [72, 75, 76, 97, 96, 75, None], [73, 76, 77, 98, 97, 76, None], [74, 77, 78, 99, 98, 77, None], [75, 78, 79, 100, 99, 78, None], [76, 79, 80, 101, 100, 79, None], [77, 80, 81, 102, 101, 80, None], [78, 81, 82, 103, 102, 81, None], [79, 82, 83, 104, 103, 82, None], [80, 85, 84, 105, 106, 85, None], [81, 84, 86, 107, 105, 84, None], [82, 86, 87, 108, 107, 86, None], [83, 87, 88, 109, 108, 87, None], [84, 88, 89, 110, 109, 88, None], [85, 89, 90, 111, 110, 89, None], [86, 90, 91, 112, 111, 90, None], [87, 91, 92, 113, 112, 91, None], [88, 92, 93, 114, 113, 92, None], [89, 93, 94, 115, 114, 93, None], [90, 94, 95, 116, 115, 94, None], [91, 95, 96, 117, 116, 95, None], [92, 96, 97, 118, 117, 96, None], [93, 97, 98, 119, 118, 97, None], [94, 98, 99, 120, 119, 98, None], [95, 99, 100, 121, 120, 99, None], [96, 100, 101, 122, 121, 100, None], [97, 101, 102, 123, 122, 101, None], [98, 102, 103, 124, 123, 102, None], [99, 103, 104, 125, 124, 103, None], [100, 106, 105, 126, 127, 106, None], [101, 105, 107, 128, 126, 105, None], [102, 107, 108, 129, 128, 107, None], [103, 108, 109, 130, 129, 108, None], [104, 109, 110, 131, 130, 109, None], [105, 110, 111, 132, 131, 110, None], [106, 111, 112, 133, 132, 111, None], [107, 112, 113, 134, 133, 112, None], [108, 113, 114, 135, 134, 113, None], [109, 114, 115, 136, 135, 114, None], [110, 115, 116, 137, 136, 115, None], [111, 116, 117, 138, 137, 116, None], [112, 117, 118, 139, 138, 117, None], [113, 118, 119, 140, 139, 118, None], [114, 119, 120, 141, 140, 119, None], [115, 120, 121, 142, 141, 120, None], [116, 121, 122, 143, 142, 121, None], [117, 122, 123, 144, 143, 122, None], [118, 123, 124, 145, 144, 123, None], [119, 124, 125, 146, 145, 124, None], [120, 127, 126, 147, 148, 127, None], [121, 126, 128, 149, 147, 126, None], [122, 128, 129, 150, 149, 128, None], [123, 129, 130, 151, 150, 129, None], [124, 130, 131, 152, 151, 130, None], [125, 131, 132, 153, 152, 131, None], [126, 132, 133, 154, 153, 132, None], [127, 133, 134, 155, 154, 133, None], [128, 134, 135, 156, 155, 134, None], [129, 135, 136, 157, 156, 135, None], [130, 136, 137, 158, 157, 136, None], [131, 137, 138, 159, 158, 137, None], [132, 138, 139, 160, 159, 138, None], [133, 139, 140, 161, 160, 139, None], [134, 140, 141, 162, 161, 140, None], [135, 141, 142, 163, 162, 141, None], [136, 142, 143, 164, 163, 142, None], [137, 143, 144, 165, 164, 143, None], [138, 144, 145, 166, 165, 144, None], [139, 145, 146, 167, 166, 145, None], [140, 148, 147, 168, 169, 148, None], [141, 147, 149, 170, 168, 147, None], [142, 149, 150, 171, 170, 149, None], [143, 150, 151, 172, 171, 150, None], [144, 151, 152, 173, 172, 151, None], [145, 152, 153, 174, 173, 152, None], [146, 153, 154, 175, 174, 153, None], [147, 154, 155, 176, 197, 175, 154], [148, 155, 156, 177, 203, 176, 155], [149, 156, 157, 178, 208, 177, 156], [150, 157, 158, 179, 213, 178, 157], [151, 158, 159, 180, 218, 179, 158], [152, 159, 160, 181, 180, 159, None], [153, 160, 161, 182, 181, 160, None], [154, 161, 162, 183, 182, 161, None], [155, 162, 163, 184, 183, 162, None], [156, 163, 164, 185, 184, 163, None], [157, 164, 165, 186, 185, 164, None], [158, 165, 166, 187, 186, 165, None], [159, 166, 167, 188, 187, 166, None], [160, 169, 168, 189, 190, 169, None], [161, 168, 170, 191, 189, 168, None], [162, 170, 171, 192, 191, 170, None], [163, 171, 172, 193, 192, 171, None], [164, 172, 173, 194, 193, 172, None], [165, 173, 174, 195, 194, 173, None], [166, 174, 175, 199, 196, 195, 174], [167, 175, 197, 198, 199, 175, None], [168, 197, 176, 200, 198, 197, None], [169, 199, 198, 201, 196, 199, None], [170, 198, 200, 202, 201, 198, None], [171, 176, 203, 204, 200, 176, None], [172, 203, 177, 205, 204, 203, None], [173, 200, 204, 206, 244, 202, 200], [174, 204, 205, 207, 250, 206, 204], [175, 177, 208, 209, 205, 177, None], [176, 208, 178, 210, 209, 208, None], [177, 205, 209, 211, 264, 207, 205], [178, 209, 210, 212, 269, 211, 209], [179, 178, 213, 214, 210, 178, None], [180, 213, 179, 215, 214, 213, None], [181, 210, 214, 216, 282, 212, 210], [182, 214, 215, 217, 287, 216, 214], [183, 179, 218, 219, 215, 179, None], [184, 218, 180, 220, 219, 218, None], [185, 215, 219, 221, 217, 215, None], [186, 219, 220, 222, 221, 219, None], [187, 180, 181, 223, 222, 220, 180], [188, 181, 182, 224, 223, 181, None], [189, 182, 183, 225, 224, 182, None], [190, 183, 184, 226, 225, 183, None], [191, 184, 185, 227, 226, 184, None], [192, 185, 186, 228, 227, 185, None], [193, 186, 187, 229, 228, 186, None], [194, 187, 188, 230, 229, 187, None], [195, 190, 189, 231, 232, 190, None], [196, 189, 191, 233, 231, 189, None], [197, 191, 192, 234, 233, 191, None], [198, 192, 193, 235, 234, 192, None], [199, 193, 194, 236, 235, 193, None], [200, 194, 195, 237, 236, 194, None], [201, 195, 196, 240, 238, 237, 195], [202, 196, 201, 239, 240, 196, None], [203, 201, 202, 246, 241, 239, 201], [204, 240, 239, 242, 238, 240, None], [205, 239, 241, 256, 243, 242, 239], [206, 202, 244, 245, 246, 202, None], [207, 244, 206, 247, 245, 244, None], [208, 246, 245, 248, 241, 246, None], [209, 245, 247, 249, 248, 245, None], [210, 206, 250, 251, 247, 206, None], [211, 250, 207, 252, 251, 250, None], [212, 247, 251, 253, 249, 247, None], [213, 251, 252, 254, 253, 251, None], [214, 241, 248, 255, 256, 241, None], [215, 248, 249, 257, 255, 248, None], [216, 256, 255, 258, 243, 256, None], [217, 255, 257, 259, 258, 255, None], [218, 249, 253, 260, 257, 249, None], [219, 253, 254, 261, 260, 253, None], [220, 257, 260, 262, 259, 257, None], [221, 260, 261, 263, 262, 260, None], [222, 207, 264, 265, 252, 207, None], [223, 264, 211, 266, 265, 264, None], [224, 252, 265, 267, 254, 252, None], [225, 265, 266, 268, 267, 265, None], [226, 211, 269, 270, 266, 211, None], [227, 269, 212, 271, 270, 269, None], [228, 266, 270, 272, 268, 266, None], [229, 270, 271, 273, 272, 270, None], [230, 254, 267, 274, 261, 254, None], [231, 267, 268, 275, 274, 267, None], [232, 261, 274, 276, 343, 263, 261], [233, 274, 275, 277, 349, 276, 274], [234, 268, 272, 278, 275, 268, None], [235, 272, 273, 279, 278, 272, None], [236, 275, 278, 280, 363, 277, 275], [237, 278, 279, 281, 368, 280, 278], [238, 212, 282, 283, 271, 212, None], [239, 282, 216, 284, 283, 282, None], [240, 271, 283, 285, 273, 271, None], [241, 283, 284, 286, 285, 283, None], [242, 216, 287, 288, 284, 216, None], [243, 287, 217, 289, 288, 287, None], [244, 284, 288, 290, 286, 284, None], [245, 288, 289, 291, 290, 288, None], [246, 273, 285, 292, 279, 273, None], [247, 285, 286, 293, 292, 285, None], [248, 279, 292, 294, 281, 279, None], [249, 292, 293, 295, 294, 292, None], [250, 286, 290, 296, 293, 286, None], [251, 290, 291, 297, 296, 290, None], [252, 293, 296, 298, 295, 293, None], [253, 296, 297, 299, 298, 296, None], [254, 217, 221, 300, 291, 289, 217], [255, 221, 222, 301, 300, 221, None], [256, 291, 300, 302, 299, 297, 291], [257, 300, 301, 303, 302, 300, None], [258, 222, 223, 304, 303, 301, 222], [259, 223, 224, 305, 304, 223, None], [260, 224, 225, 306, 305, 224, None], [261, 225, 226, 307, 306, 225, None], [262, 226, 227, 308, 307, 226, None], [263, 227, 228, 309, 308, 227, None], [264, 228, 229, 310, 309, 228, None], [265, 229, 230, 311, 310, 229, None], [266, 232, 231, 312, 313, 232, None], [267, 231, 233, 314, 312, 231, None], [268, 233, 234, 315, 314, 233, None], [269, 234, 235, 316, 315, 234, None], [270, 235, 236, 317, 316, 235, None], [271, 236, 237, 318, 317, 236, None], [272, 237, 238, 321, 319, 318, 237], [273, 238, 242, 320, 321, 238, None], [274, 242, 243, 326, 322, 320, 242], [275, 321, 320, 323, 319, 321, None], [276, 320, 322, 335, 324, 323, 320], [277, 243, 258, 325, 326, 243, None], [278, 258, 259, 327, 325, 258, None], [279, 326, 325, 328, 322, 326, None], [280, 325, 327, 329, 328, 325, None], [281, 259, 262, 330, 327, 259, None], [282, 262, 263, 345, 331, 330, 262], [283, 327, 330, 332, 329, 327, None], [284, 330, 331, 355, 333, 332, 330], [285, 322, 328, 334, 335, 322, None], [286, 328, 329, 336, 334, 328, None], [287, 335, 334, 337, 324, 335, None], [288, 334, 336, 338, 337, 334, None], [289, 329, 332, 339, 336, 329, None], [290, 332, 333, 382, 340, 339, 332], [291, 336, 339, 341, 338, 336, None], [292, 339, 340, 391, 342, 341, 339], [293, 263, 343, 344, 345, 263, None], [294, 343, 276, 346, 344, 343, None], [295, 345, 344, 347, 331, 345, None], [296, 344, 346, 348, 347, 344, None], [297, 276, 349, 350, 346, 276, None], [298, 349, 277, 351, 350, 349, None], [299, 346, 350, 352, 348, 346, None], [300, 350, 351, 353, 352, 350, None], [301, 331, 347, 354, 355, 331, None], [302, 347, 348, 356, 354, 347, None], [303, 355, 354, 357, 333, 355, None], [304, 354, 356, 358, 357, 354, None], [305, 348, 352, 359, 356, 348, None], [306, 352, 353, 360, 359, 352, None], [307, 356, 359, 361, 358, 356, None], [308, 359, 360, 362, 361, 359, None], [309, 277, 363, 364, 351, 277, None], [310, 363, 280, 365, 364, 363, None], [311, 351, 364, 366, 353, 351, None], [312, 364, 365, 367, 366, 364, None], [313, 280, 368, 369, 365, 280, None], [314, 368, 281, 370, 369, 368, None], [315, 365, 369, 371, 367, 365, None], [316, 369, 370, 372, 371, 369, None], [317, 353, 366, 373, 360, 353, None], [318, 366, 367, 374, 373, 366, None], [319, 360, 373, 375, 362, 360, None], [320, 373, 374, 376, 375, 373, None], [321, 367, 371, 377, 374, 367, None], [322, 371, 372, 378, 377, 371, None], [323, 374, 377, 379, 376, 374, None], [324, 377, 378, 380, 379, 377, None], [325, 333, 357, 381, 382, 333, None], [326, 357, 358, 383, 381, 357, None], [327, 382, 381, 384, 340, 382, None], [328, 381, 383, 385, 384, 381, None], [329, 358, 361, 386, 383, 358, None], [330, 361, 362, 387, 386, 361, None], [331, 383, 386, 388, 385, 383, None], [332, 386, 387, 389, 388, 386, None], [333, 340, 384, 390, 391, 340, None], [334, 384, 385, 392, 390, 384, None], [335, 391, 390, 393, 342, 391, None], [336, 390, 392, 394, 393, 390, None], [337, 385, 388, 395, 392, 385, None], [338, 388, 389, 396, 395, 388, None], [339, 392, 395, 397, 394, 392, None], [340, 395, 396, 398, 397, 395, None], [341, 362, 375, 399, 387, 362, None], [342, 375, 376, 400, 399, 375, None], [343, 387, 399, 401, 389, 387, None], [344, 399, 400, 402, 401, 399, None], [345, 376, 379, 403, 400, 376, None], [346, 379, 380, 404, 403, 379, None], [347, 400, 403, 405, 402, 400, None], [348, 403, 404, 406, 405, 403, None], [349, 389, 401, 407, 396, 389, None], [350, 401, 402, 408, 407, 401, None], [351, 396, 407, 409, 398, 396, None], [352, 407, 408, 410, 409, 407, None], [353, 402, 405, 411, 408, 402, None], [354, 405, 406, 412, 411, 405, None], [355, 408, 411, 413, 410, 408, None], [356, 411, 412, 414, 413, 411, None], [357, 281, 294, 415, 372, 370, 281], [358, 294, 295, 416, 415, 294, None], [359, 372, 415, 417, 380, 378, 372], [360, 415, 416, 418, 417, 415, None], [361, 295, 298, 419, 416, 295, None], [362, 298, 299, 420, 419, 298, None], [363, 416, 419, 421, 418, 416, None], [364, 419, 420, 422, 421, 419, None], [365, 380, 417, 423, 406, 404, 380], [366, 417, 418, 424, 423, 417, None], [367, 406, 423, 425, 414, 412, 406], [368, 423, 424, 426, 425, 423, None], [369, 418, 421, 427, 424, 418, None], [370, 421, 422, 428, 427, 421, None], [371, 424, 427, 429, 426, 424, None], [372, 427, 428, 430, 429, 427, None], [373, 299, 302, 431, 422, 420, 299], [374, 302, 303, 432, 431, 302, None], [375, 422, 431, 433, 430, 428, 422], [376, 431, 432, 434, 433, 431, None], [377, 303, 304, 435, 434, 432, 303], [378, 304, 305, 436, 435, 304, None], [379, 305, 306, 437, 436, 305, None], [380, 306, 307, 438, 437, 306, None], [381, 307, 308, 439, 438, 307, None], [382, 308, 309, 440, 439, 308, None], [383, 309, 310, 441, 440, 309, None], [384, 310, 311, 442, 441, 310, None], [385, 313, 312, 443, 444, 313, None], [386, 312, 314, 445, 443, 312, None], [387, 314, 315, 446, 445, 314, None], [388, 315, 316, 447, 446, 315, None], [389, 316, 317, 448, 447, 316, None], [390, 317, 318, 449, 448, 317, None], [391, 318, 319, 452, 450, 449, 318], [392, 319, 323, 451, 452, 319, None], [393, 323, 324, 457, 453, 451, 323], [394, 452, 451, 454, 450, 452, None], [395, 451, 453, 466, 455, 454, 451], [396, 324, 337, 456, 457, 324, None], [397, 337, 338, 458, 456, 337, None], [398, 457, 456, 459, 453, 457, None], [399, 456, 458, 460, 459, 456, None], [400, 338, 341, 461, 458, 338, None], [401, 341, 342, 462, 461, 341, None], [402, 458, 461, 463, 460, 458, None], [403, 461, 462, 464, 463, 461, None], [404, 453, 459, 465, 466, 453, None], [405, 459, 460, 467, 465, 459, None], [406, 466, 465, 468, 455, 466, None], [407, 465, 467, 469, 468, 465, None], [408, 460, 463, 470, 467, 460, None], [409, 463, 464, 471, 470, 463, None], [410, 467, 470, 472, 469, 467, None], [411, 470, 471, 473, 472, 470, None], [412, 342, 393, 394, 474, 462, 342], [413, 394, 397, 398, 475, 474, 394], [414, 462, 474, 476, 464, 462, None], [415, 474, 475, 477, 476, 474, None], [416, 398, 409, 410, 478, 475, 398], [417, 410, 413, 414, 479, 478, 410], [418, 475, 478, 480, 477, 475, None], [419, 478, 479, 481, 480, 478, None], [420, 464, 476, 482, 471, 464, None], [421, 476, 477, 483, 482, 476, None], [422, 471, 482, 484, 473, 471, None], [423, 482, 483, 485, 484, 482, None], [424, 477, 480, 486, 483, 477, None], [425, 480, 481, 487, 486, 480, None], [426, 483, 486, 488, 485, 483, None], [427, 486, 487, 489, 488, 486, None], [428, 414, 425, 490, 479, 414, None], [429, 425, 426, 491, 490, 425, None], [430, 479, 490, 492, 481, 479, None], [431, 490, 491, 493, 492, 490, None], [432, 426, 429, 494, 491, 426, None], [433, 429, 430, 495, 494, 429, None], [434, 491, 494, 496, 493, 491, None], [435, 494, 495, 497, 496, 494, None], [436, 481, 492, 498, 487, 481, None], [437, 492, 493, 499, 498, 492, None], [438, 487, 498, 500, 489, 487, None], [439, 498, 499, 501, 500, 498, None], [440, 493, 496, 502, 499, 493, None], [441, 496, 497, 503, 502, 496, None], [442, 499, 502, 504, 501, 499, None], [443, 502, 503, 505, 504, 502, None], [444, 430, 433, 506, 497, 495, 430], [445, 433, 434, 507, 506, 433, None], [446, 497, 506, 508, 505, 503, 497], [447, 506, 507, 509, 508, 506, None], [448, 434, 435, 510, 509, 507, 434], [449, 435, 436, 511, 510, 435, None], [450, 436, 437, 512, 511, 436, None], [451, 437, 438, 513, 512, 437, None], [452, 438, 439, 514, 513, 438, None], [453, 439, 440, 515, 514, 439, None], [454, 440, 441, 516, 515, 440, None], [455, 441, 442, 517, 516, 441, None], [456, 444, 443, 518, 519, 444, None], [457, 443, 445, 520, 518, 443, None], [458, 445, 446, 521, 520, 445, None], [459, 446, 447, 522, 521, 446, None], [460, 447, 448, 523, 522, 447, None], [461, 448, 449, 524, 523, 448, None], [462, 449, 450, 527, 525, 524, 449], [463, 450, 454, 526, 527, 450, None], [464, 454, 455, 528, 526, 454, None], [465, 527, 526, 529, 525, 527, None], [466, 526, 528, 530, 529, 526, None], [467, 455, 468, 469, 531, 528, 455], [468, 469, 472, 473, 532, 531, 469], [469, 528, 531, 533, 530, 528, None], [470, 531, 532, 534, 533, 531, None], [471, 473, 484, 485, 535, 532, 473], [472, 485, 488, 489, 536, 535, 485], [473, 532, 535, 537, 534, 532, None], [474, 535, 536, 538, 537, 535, None], [475, 489, 500, 501, 539, 536, 489], [476, 501, 504, 505, 540, 539, 501], [477, 536, 539, 541, 538, 536, None], [478, 539, 540, 542, 541, 539, None], [479, 505, 508, 543, 540, 505, None], [480, 508, 509, 544, 543, 508, None], [481, 540, 543, 545, 542, 540, None], [482, 543, 544, 546, 545, 543, None], [483, 509, 510, 547, 546, 544, 509], [484, 510, 511, 548, 547, 510, None], [485, 511, 512, 549, 548, 511, None], [486, 512, 513, 550, 549, 512, None], [487, 513, 514, 551, 550, 513, None], [488, 514, 515, 552, 551, 514, None], [489, 515, 516, 553, 552, 515, None], [490, 516, 517, 554, 553, 516, None], [491, 519, 518, 555, 556, 519, None], [492, 518, 520, 557, 555, 518, None], [493, 520, 521, 558, 557, 520, None], [494, 521, 522, 559, 558, 521, None], [495, 522, 523, 560, 559, 522, None], [496, 523, 524, 561, 560, 523, None], [497, 524, 525, 562, 561, 524, None], [498, 525, 529, 530, 563, 562, 525], [499, 530, 533, 534, 564, 563, 530], [500, 534, 537, 538, 565, 564, 534], [501, 538, 541, 542, 566, 565, 538], [502, 542, 545, 546, 567, 566, 542], [503, 546, 547, 568, 567, 546, None], [504, 547, 548, 569, 568, 547, None], [505, 548, 549, 570, 569, 548, None], [506, 549, 550, 571, 570, 549, None], [507, 550, 551, 572, 571, 550, None], [508, 551, 552, 573, 572, 551, None], [509, 552, 553, 574, 573, 552, None], [510, 553, 554, 575, 574, 553, None], [511, 556, 555, 576, 577, 556, None], [512, 555, 557, 578, 576, 555, None], [513, 557, 558, 579, 578, 557, None], [514, 558, 559, 580, 579, 558, None], [515, 559, 560, 581, 580, 559, None], [516, 560, 561, 582, 581, 560, None], [517, 561, 562, 583, 582, 561, None], [518, 562, 563, 584, 583, 562, None], [519, 563, 564, 585, 584, 563, None], [520, 564, 565, 586, 585, 564, None], [521, 565, 566, 587, 586, 565, None], [522, 566, 567, 588, 587, 566, None], [523, 567, 568, 589, 588, 567, None], [524, 568, 569, 590, 589, 568, None], [525, 569, 570, 591, 590, 569, None], [526, 570, 571, 592, 591, 570, None], [527, 571, 572, 593, 592, 571, None], [528, 572, 573, 594, 593, 572, None], [529, 573, 574, 595, 594, 573, None], [530, 574, 575, 596, 595, 574, None], [531, 577, 576, 597, 598, 577, None], [532, 576, 578, 599, 597, 576, None], [533, 578, 579, 600, 599, 578, None], [534, 579, 580, 601, 600, 579, None], [535, 580, 581, 602, 601, 580, None], [536, 581, 582, 603, 602, 581, None], [537, 582, 583, 604, 603, 582, None], [538, 583, 584, 605, 604, 583, None], [539, 584, 585, 606, 605, 584, None], [540, 585, 586, 607, 606, 585, None], [541, 586, 587, 608, 607, 586, None], [542, 587, 588, 609, 608, 587, None], [543, 588, 589, 610, 609, 588, None], [544, 589, 590, 611, 610, 589, None], [545, 590, 591, 612, 611, 590, None], [546, 591, 592, 613, 612, 591, None], [547, 592, 593, 614, 613, 592, None], [548, 593, 594, 615, 614, 593, None], [549, 594, 595, 616, 615, 594, None], [550, 595, 596, 617, 616, 595, None], [551, 598, 597, 618, 619, 598, None], [552, 597, 599, 620, 618, 597, None], [553, 599, 600, 621, 620, 599, None], [554, 600, 601, 622, 621, 600, None], [555, 601, 602, 623, 622, 601, None], [556, 602, 603, 624, 623, 602, None], [557, 603, 604, 625, 624, 603, None], [558, 604, 605, 626, 625, 604, None], [559, 605, 606, 627, 626, 605, None], [560, 606, 607, 628, 627, 606, None], [561, 607, 608, 629, 628, 607, None], [562, 608, 609, 630, 629, 608, None], [563, 609, 610, 631, 630, 609, None], [564, 610, 611, 632, 631, 610, None], [565, 611, 612, 633, 632, 611, None], [566, 612, 613, 634, 633, 612, None], [567, 613, 614, 635, 634, 613, None], [568, 614, 615, 636, 635, 614, None], [569, 615, 616, 637, 636, 615, None], [570, 616, 617, 638, 637, 616, None], [571, 619, 618, 639, 640, 619, None], [572, 618, 620, 641, 639, 618, None], [573, 620, 621, 642, 641, 620, None], [574, 621, 622, 643, 642, 621, None], [575, 622, 623, 644, 643, 622, None], [576, 623, 624, 645, 644, 623, None], [577, 624, 625, 646, 645, 624, None], [578, 625, 626, 647, 646, 625, None], [579, 626, 627, 648, 647, 626, None], [580, 627, 628, 649, 648, 627, None], [581, 628, 629, 650, 649, 628, None], [582, 629, 630, 651, 650, 629, None], [583, 630, 631, 652, 651, 630, None], [584, 631, 632, 653, 652, 631, None], [585, 632, 633, 654, 653, 632, None], [586, 633, 634, 655, 654, 633, None], [587, 634, 635, 656, 655, 634, None], [588, 635, 636, 657, 656, 635, None], [589, 636, 637, 658, 657, 636, None], [590, 637, 638, 659, 658, 637, None], [591, 640, 639, 660, 661, 640, None], [592, 639, 641, 662, 660, 639, None], [593, 641, 642, 663, 662, 641, None], [594, 642, 643, 664, 663, 642, None], [595, 643, 644, 665, 664, 643, None], [596, 644, 645, 666, 665, 644, None], [597, 645, 646, 667, 666, 645, None], [598, 646, 647, 668, 667, 646, None], [599, 647, 648, 669, 668, 647, None], [600, 648, 649, 670, 669, 648, None], [601, 649, 650, 671, 670, 649, None], [602, 650, 651, 672, 671, 650, None], [603, 651, 652, 673, 672, 651, None], [604, 652, 653, 674, 673, 652, None], [605, 653, 654, 675, 674, 653, None], [606, 654, 655, 676, 675, 654, None], [607, 655, 656, 677, 676, 655, None], [608, 656, 657, 678, 677, 656, None], [609, 657, 658, 679, 678, 657, None], [610, 658, 659, 680, 679, 658, None], [611, 661, 660, 681, 682, 661, None], [612, 660, 662, 683, 681, 660, None], [613, 662, 663, 684, 683, 662, None], [614, 663, 664, 685, 684, 663, None], [615, 664, 665, 686, 685, 664, None], [616, 665, 666, 687, 686, 665, None], [617, 666, 667, 688, 687, 666, None], [618, 667, 668, 689, 688, 667, None], [619, 668, 669, 690, 689, 668, None], [620, 669, 670, 691, 690, 669, None], [621, 670, 671, 692, 691, 670, None], [622, 671, 672, 693, 692, 671, None], [623, 672, 673, 694, 693, 672, None], [624, 673, 674, 695, 694, 673, None], [625, 674, 675, 696, 695, 674, None], [626, 675, 676, 697, 696, 675, None], [627, 676, 677, 698, 697, 676, None], [628, 677, 678, 699, 698, 677, None], [629, 678, 679, 700, 699, 678, None], [630, 679, 680, 701, 700, 679, None], [631, 682, 681, 702, 703, 682, None], [632, 681, 683, 704, 702, 681, None], [633, 683, 684, 705, 704, 683, None], [634, 684, 685, 706, 705, 684, None], [635, 685, 686, 707, 706, 685, None], [636, 686, 687, 708, 707, 686, None], [637, 687, 688, 709, 708, 687, None], [638, 688, 689, 710, 709, 688, None], [639, 689, 690, 711, 710, 689, None], [640, 690, 691, 712, 711, 690, None], [641, 691, 692, 713, 712, 691, None], [642, 692, 693, 714, 713, 692, None], [643, 693, 694, 715, 714, 693, None], [644, 694, 695, 716, 715, 694, None], [645, 695, 696, 717, 716, 695, None], [646, 696, 697, 718, 717, 696, None], [647, 697, 698, 719, 718, 697, None], [648, 698, 699, 720, 719, 698, None], [649, 699, 700, 721, 720, 699, None], [650, 700, 701, 722, 721, 700, None]]\n"
     ]
    }
   ],
   "source": [
    "# load the simulation and get the model\n",
    "vertex_sim_name = \"mfsim.nam\"\n",
    "vertex_sim = flopy.mf6.MFSimulation.load(sim_name=vertex_sim_name, exe_name=\"mf6\", \n",
    "                                         sim_ws=modelpth)\n",
    "vertex_ml6 = vertex_sim.get_model(\"mp7p2\")\n",
    "\n",
    "# load the MODPATH-7 results\n",
    "mp_namea = 'mp7p2a_mp'\n",
    "fpth = os.path.join(modelpth, mp_namea + \".mppth\")\n",
    "p = flopy.utils.PathlineFile(fpth)\n",
    "p0 = p.get_alldata()"
   ]
  },
  {
   "cell_type": "markdown",
   "metadata": {},
   "source": [
    "Create the `Vtk()` object and add all of the model data to it"
   ]
  },
  {
   "cell_type": "code",
   "execution_count": 22,
   "metadata": {},
   "outputs": [],
   "source": [
    "vtkobj = vtk.Vtk(vertex_ml6, xml=True, pvd=True, vertical_exageration=10)\n",
    "vtkobj.add_model(vertex_ml6)"
   ]
  },
  {
   "cell_type": "markdown",
   "metadata": {},
   "source": [
    "Add modpath data to the `Vtk()` object.\n",
    "\n",
    "*Note: this will create a second vtk file that has the file signiture (myfilename)_pathline.vtu*"
   ]
  },
  {
   "cell_type": "code",
   "execution_count": 23,
   "metadata": {},
   "outputs": [],
   "source": [
    "vtkobj.add_pathline_points(p0, timeseries=False)\n",
    "vtkobj.write(os.path.join(output_dir, \"mp7_vertex_example\", \"vertex_ex.vtu\"))"
   ]
  },
  {
   "cell_type": "code",
   "execution_count": null,
   "metadata": {},
   "outputs": [],
   "source": []
  }
 ],
 "metadata": {
  "kernelspec": {
   "display_name": "Python 3",
   "language": "python",
   "name": "python3"
  },
  "language_info": {
   "codemirror_mode": {
    "name": "ipython",
    "version": 3
   },
   "file_extension": ".py",
   "mimetype": "text/x-python",
   "name": "python",
   "nbconvert_exporter": "python",
   "pygments_lexer": "ipython3",
   "version": "3.7.4"
  }
 },
 "nbformat": 4,
 "nbformat_minor": 2
}
