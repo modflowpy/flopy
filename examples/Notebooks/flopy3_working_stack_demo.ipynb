{
 "cells": [
  {
   "cell_type": "markdown",
   "metadata": {},
   "source": [
    "# FloPy \n",
    "\n",
    "### Working stack demo\n",
    "\n",
    "A short demonstration of core `flopy` functionality"
   ]
  },
  {
   "cell_type": "code",
   "execution_count": null,
   "metadata": {
    "execution": {
     "iopub.execute_input": "2023-02-22T02:49:30.752310Z",
     "iopub.status.busy": "2023-02-22T02:49:30.751940Z",
     "iopub.status.idle": "2023-02-22T02:49:31.498192Z",
     "shell.execute_reply": "2023-02-22T02:49:31.497148Z"
    }
   },
   "outputs": [],
   "source": [
    "from IPython.display import clear_output, display\n",
    "\n",
    "import sys\n",
    "from pathlib import Path\n",
    "from tempfile import TemporaryDirectory\n",
    "\n",
    "import numpy as np\n",
    "import matplotlib as mpl\n",
    "import matplotlib.pyplot as plt\n",
    "import pandas as pd\n",
    "\n",
    "proj_root = Path.cwd().parent.parent\n",
    "\n",
    "# run installed version of flopy or add local path\n",
    "try:\n",
    "    import flopy\n",
    "except:\n",
    "    sys.path.append(proj_root)\n",
    "    import flopy\n",
    "\n",
    "print(sys.version)\n",
    "print(\"numpy version: {}\".format(np.__version__))\n",
    "print(\"matplotlib version: {}\".format(mpl.__version__))\n",
    "print(\"pandas version: {}\".format(pd.__version__))\n",
    "print(\"flopy version: {}\".format(flopy.__version__))"
   ]
  },
  {
   "cell_type": "markdown",
   "metadata": {},
   "source": [
    "### Model Inputs"
   ]
  },
  {
   "cell_type": "code",
   "execution_count": null,
   "metadata": {
    "execution": {
     "iopub.execute_input": "2023-02-22T02:49:31.567375Z",
     "iopub.status.busy": "2023-02-22T02:49:31.566979Z",
     "iopub.status.idle": "2023-02-22T02:49:32.162481Z",
     "shell.execute_reply": "2023-02-22T02:49:32.161532Z"
    }
   },
   "outputs": [],
   "source": [
    "# first lets load an existing model\n",
    "model_ws = proj_root / \"examples\" / \"data\" / \"freyberg_multilayer_transient\"\n",
    "ml = flopy.modflow.Modflow.load(\n",
    "    \"freyberg.nam\",\n",
    "    model_ws=model_ws,\n",
    "    verbose=False,\n",
    "    check=False,\n",
    "    exe_name=\"mfnwt\",\n",
    ")"
   ]
  },
  {
   "cell_type": "code",
   "execution_count": null,
   "metadata": {
    "execution": {
     "iopub.execute_input": "2023-02-22T02:49:32.167694Z",
     "iopub.status.busy": "2023-02-22T02:49:32.167283Z",
     "iopub.status.idle": "2023-02-22T02:49:32.175923Z",
     "shell.execute_reply": "2023-02-22T02:49:32.175107Z"
    }
   },
   "outputs": [],
   "source": [
    "ml.modelgrid"
   ]
  },
  {
   "cell_type": "markdown",
   "metadata": {},
   "source": [
    "Let's looks at some plots"
   ]
  },
  {
   "cell_type": "code",
   "execution_count": null,
   "metadata": {
    "execution": {
     "iopub.execute_input": "2023-02-22T02:49:32.179969Z",
     "iopub.status.busy": "2023-02-22T02:49:32.179614Z",
     "iopub.status.idle": "2023-02-22T02:49:36.413778Z",
     "shell.execute_reply": "2023-02-22T02:49:36.413169Z"
    }
   },
   "outputs": [],
   "source": [
    "ml.upw.plot();"
   ]
  },
  {
   "cell_type": "code",
   "execution_count": null,
   "metadata": {
    "execution": {
     "iopub.execute_input": "2023-02-22T02:49:36.418843Z",
     "iopub.status.busy": "2023-02-22T02:49:36.418453Z",
     "iopub.status.idle": "2023-02-22T02:49:37.388799Z",
     "shell.execute_reply": "2023-02-22T02:49:37.387982Z"
    }
   },
   "outputs": [],
   "source": [
    "ml.dis.plot();"
   ]
  },
  {
   "cell_type": "code",
   "execution_count": null,
   "metadata": {
    "execution": {
     "iopub.execute_input": "2023-02-22T02:49:37.392368Z",
     "iopub.status.busy": "2023-02-22T02:49:37.392056Z",
     "iopub.status.idle": "2023-02-22T02:49:38.985977Z",
     "shell.execute_reply": "2023-02-22T02:49:38.984986Z"
    }
   },
   "outputs": [],
   "source": [
    "ml.drn.plot(key=\"cond\")\n",
    "ml.drn.plot(key=\"elev\");"
   ]
  },
  {
   "cell_type": "markdown",
   "metadata": {},
   "source": [
    "First create a temporary workspace."
   ]
  },
  {
   "cell_type": "code",
   "execution_count": null,
   "metadata": {
    "execution": {
     "iopub.execute_input": "2023-02-22T02:49:38.989900Z",
     "iopub.status.busy": "2023-02-22T02:49:38.989549Z",
     "iopub.status.idle": "2023-02-22T02:49:39.065430Z",
     "shell.execute_reply": "2023-02-22T02:49:39.064284Z"
    }
   },
   "outputs": [],
   "source": [
    "# create a temporary workspace\n",
    "temp_dir = TemporaryDirectory()\n",
    "workspace = Path(temp_dir.name)"
   ]
  },
  {
   "cell_type": "markdown",
   "metadata": {
    "collapsed": false
   },
   "source": [
    "Write a shapefile of the DIS package."
   ]
  },
  {
   "cell_type": "code",
   "execution_count": null,
   "metadata": {},
   "outputs": [],
   "source": [
    "# write the shapefile\n",
    "ml.dis.export(workspace / \"freyberg_dis.shp\")"
   ]
  },
  {
   "cell_type": "markdown",
   "metadata": {},
   "source": [
    "Write a netCDF file with all model inputs."
   ]
  },
  {
   "cell_type": "code",
   "execution_count": null,
   "metadata": {
    "execution": {
     "iopub.execute_input": "2023-02-22T02:49:39.069795Z",
     "iopub.status.busy": "2023-02-22T02:49:39.069391Z",
     "iopub.status.idle": "2023-02-22T02:49:42.851934Z",
     "shell.execute_reply": "2023-02-22T02:49:42.851279Z"
    }
   },
   "outputs": [],
   "source": [
    "ml.export(workspace / \"freyberg.nc\")"
   ]
  },
  {
   "cell_type": "markdown",
   "metadata": {},
   "source": [
    "Change model directory and external path, modify inputs and write new input files."
   ]
  },
  {
   "cell_type": "code",
   "execution_count": null,
   "metadata": {
    "execution": {
     "iopub.execute_input": "2023-02-22T02:49:42.854737Z",
     "iopub.status.busy": "2023-02-22T02:49:42.854548Z",
     "iopub.status.idle": "2023-02-22T02:49:42.858417Z",
     "shell.execute_reply": "2023-02-22T02:49:42.857705Z"
    }
   },
   "outputs": [],
   "source": [
    "ml.external_path = workspace / \"ref\"\n",
    "ml.model_ws = workspace\n",
    "ml.write_input()"
   ]
  },
  {
   "cell_type": "markdown",
   "metadata": {},
   "source": [
    "Now run the model."
   ]
  },
  {
   "cell_type": "code",
   "execution_count": null,
   "metadata": {
    "execution": {
     "iopub.execute_input": "2023-02-22T02:49:42.861415Z",
     "iopub.status.busy": "2023-02-22T02:49:42.861118Z",
     "iopub.status.idle": "2023-02-22T02:49:54.534927Z",
     "shell.execute_reply": "2023-02-22T02:49:54.533977Z"
    }
   },
   "outputs": [],
   "source": [
    "ml.run_model(silent=True)"
   ]
  },
  {
   "cell_type": "markdown",
   "metadata": {},
   "source": [
    "### Inspecting outputs\n",
    "\n",
    "First, let's look at the list file. The list file summarizes the model's results."
   ]
  },
  {
   "cell_type": "code",
   "execution_count": null,
   "metadata": {
    "execution": {
     "iopub.execute_input": "2023-02-22T02:49:54.538966Z",
     "iopub.status.busy": "2023-02-22T02:49:54.538445Z",
     "iopub.status.idle": "2023-02-22T02:49:55.265043Z",
     "shell.execute_reply": "2023-02-22T02:49:55.264211Z"
    }
   },
   "outputs": [],
   "source": [
    "mfl = flopy.utils.MfListBudget(model_ws / \"freyberg.list\")\n",
    "df_flux, df_vol = mfl.get_dataframes(start_datetime=\"10-21-2015\")\n",
    "df_flux"
   ]
  },
  {
   "cell_type": "code",
   "execution_count": null,
   "metadata": {
    "execution": {
     "iopub.execute_input": "2023-02-22T02:49:55.268220Z",
     "iopub.status.busy": "2023-02-22T02:49:55.267964Z",
     "iopub.status.idle": "2023-02-22T02:49:55.404862Z",
     "shell.execute_reply": "2023-02-22T02:49:55.404021Z"
    }
   },
   "outputs": [],
   "source": [
    "groups = df_flux.groupby(lambda x: x.split(\"_\")[-1], axis=1).groups\n",
    "df_flux_in = df_flux.loc[:, groups[\"IN\"]]\n",
    "df_flux_in.columns = df_flux_in.columns.map(lambda x: x.split(\"_\")[0])\n",
    "\n",
    "df_flux_out = df_flux.loc[:, groups[\"OUT\"]]\n",
    "df_flux_out.columns = df_flux_out.columns.map(lambda x: x.split(\"_\")[0])\n",
    "\n",
    "\n",
    "df_flux_delta = df_flux_in - df_flux_out\n",
    "df_flux_delta.iloc[-1, :].plot(kind=\"bar\", figsize=(10, 10), grid=True);"
   ]
  },
  {
   "cell_type": "markdown",
   "metadata": {},
   "source": [
    "Now let's look at the simulated head."
   ]
  },
  {
   "cell_type": "code",
   "execution_count": null,
   "metadata": {
    "execution": {
     "iopub.execute_input": "2023-02-22T02:49:55.408386Z",
     "iopub.status.busy": "2023-02-22T02:49:55.408094Z",
     "iopub.status.idle": "2023-02-22T02:49:55.548858Z",
     "shell.execute_reply": "2023-02-22T02:49:55.548017Z"
    }
   },
   "outputs": [],
   "source": [
    "# if you pass the model instance, then the plots will be offset and rotated\n",
    "h = flopy.utils.HeadFile(model_ws / \"freyberg.hds\", model=ml)\n",
    "h.times"
   ]
  },
  {
   "cell_type": "code",
   "execution_count": null,
   "metadata": {
    "execution": {
     "iopub.execute_input": "2023-02-22T02:49:55.552059Z",
     "iopub.status.busy": "2023-02-22T02:49:55.551803Z",
     "iopub.status.idle": "2023-02-22T02:49:56.455746Z",
     "shell.execute_reply": "2023-02-22T02:49:56.455004Z"
    }
   },
   "outputs": [],
   "source": [
    "h.plot(totim=900, contour=True, grid=True, colorbar=True, figsize=(10, 10));"
   ]
  },
  {
   "cell_type": "markdown",
   "metadata": {},
   "source": [
    "We can write the heads to a shapefile."
   ]
  },
  {
   "cell_type": "code",
   "execution_count": null,
   "metadata": {
    "execution": {
     "iopub.execute_input": "2023-02-22T02:49:56.460291Z",
     "iopub.status.busy": "2023-02-22T02:49:56.460079Z",
     "iopub.status.idle": "2023-02-22T02:49:56.525214Z",
     "shell.execute_reply": "2023-02-22T02:49:56.524462Z"
    }
   },
   "outputs": [],
   "source": [
    "h.to_shapefile(ml.model_ws / \"freyburg_head.shp\", verbose=False)"
   ]
  },
  {
   "cell_type": "markdown",
   "metadata": {},
   "source": [
    "Finally, let's make an animation of the simulated head over the time domain."
   ]
  },
  {
   "cell_type": "code",
   "execution_count": null,
   "metadata": {
    "execution": {
     "iopub.execute_input": "2023-02-22T02:49:56.528310Z",
     "iopub.status.busy": "2023-02-22T02:49:56.528122Z",
     "iopub.status.idle": "2023-02-22T02:50:28.008440Z",
     "shell.execute_reply": "2023-02-22T02:50:28.007394Z"
    }
   },
   "outputs": [],
   "source": [
    "f = plt.figure(figsize=(10, 10))\n",
    "ax = plt.subplot(1, 1, 1, aspect=\"equal\")\n",
    "for t in h.times[0:-1:10]:\n",
    "    ax.cla()\n",
    "\n",
    "    ax.set_title(f\"totim: {t:4.0f} days\")\n",
    "    mm = flopy.plot.PlotMapView(model=ml, ax=ax)\n",
    "    mm.plot_array(h.get_data(totim=t), vmin=0, vmax=20)\n",
    "    mm.plot_grid(lw=0.5, color=\"black\")\n",
    "\n",
    "    display(f)\n",
    "    clear_output(wait=True)\n",
    "    plt.pause(0.1);"
   ]
  },
  {
   "cell_type": "code",
   "execution_count": null,
   "metadata": {
    "execution": {
     "iopub.execute_input": "2023-02-22T02:50:28.012851Z",
     "iopub.status.busy": "2023-02-22T02:50:28.012001Z",
     "iopub.status.idle": "2023-02-22T02:50:28.126206Z",
     "shell.execute_reply": "2023-02-22T02:50:28.125388Z"
    },
    "tags": []
   },
   "outputs": [],
   "source": [
    "try:\n",
    "    # ignore PermissionError on Windows\n",
    "    temp_dir.cleanup()\n",
    "except:\n",
    "    pass"
   ]
  }
 ],
 "metadata": {
  "anaconda-cloud": {},
  "kernelspec": {
   "display_name": "Python 3 (ipykernel)",
   "language": "python",
   "name": "python3"
  },
  "language_info": {
   "codemirror_mode": {
    "name": "ipython",
    "version": 3
   },
   "file_extension": ".py",
   "mimetype": "text/x-python",
   "name": "python",
   "nbconvert_exporter": "python",
   "pygments_lexer": "ipython3",
   "version": "3.10.6"
  }
 },
 "nbformat": 4,
 "nbformat_minor": 4
}
