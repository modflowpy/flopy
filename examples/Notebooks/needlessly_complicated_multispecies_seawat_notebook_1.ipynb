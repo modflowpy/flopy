{
 "cells": [
  {
   "cell_type": "code",
   "execution_count": 94,
   "metadata": {
    "collapsed": true
   },
   "outputs": [],
   "source": [
    "import numpy as np\n",
    "import pandas as pd\n",
    "import flopy"
   ]
  },
  {
   "cell_type": "code",
   "execution_count": 95,
   "metadata": {
    "collapsed": true
   },
   "outputs": [],
   "source": [
    "swt = flopy.seawat.Seawat2(\"henry_heat\",model_ws=\"temp\")"
   ]
  },
  {
   "cell_type": "code",
   "execution_count": 96,
   "metadata": {
    "collapsed": false
   },
   "outputs": [],
   "source": [
    "nlay,nrow,ncol = 100,1,200\n",
    "delz,delc,delr = 10,1,10\n",
    "top = 0.0\n",
    "botm = [top - ((i+1) * delz) for i in range(nlay)]\n",
    "dis = flopy.modflow.ModflowDis(swt,nlay=nlay,nrow=nrow,ncol=ncol,\n",
    "                              top=top,botm=botm,delr=delr,delc=delc,\n",
    "                              perlen=[200000],steady=False,nstp=200)"
   ]
  },
  {
   "cell_type": "code",
   "execution_count": 97,
   "metadata": {
    "collapsed": false
   },
   "outputs": [],
   "source": [
    "bas = flopy.modflow.ModflowBas(swt,strt=top)\n",
    "lpf = flopy.modflow.ModflowLpf(swt,hk=10,vka=0.1,ss=1.0e-5)\n",
    "pcg = flopy.modflow.ModflowPcg(swt)\n",
    "oc = flopy.modflow.ModflowOc(swt)"
   ]
  },
  {
   "cell_type": "code",
   "execution_count": 98,
   "metadata": {
    "collapsed": false
   },
   "outputs": [
    {
     "name": "stdout",
     "output_type": "stream",
     "text": [
      "{'BAS6': 1, 'MAS': 15, 'CHD': 1, 'GHB': 5, 'RIV': 4, 'WEL': 2, 'CC': -1, 'PBC': 1, 'DRN': 3}\n"
     ]
    }
   ],
   "source": [
    "itype = flopy.mt3d.Mt3dSsm.itype_dict() \n",
    "print(itype)\n",
    "wel_q = 10.0/nlay\n",
    "wel_conc = 0.0\n",
    "wel_temp = 25.0\n",
    "wel_itype = itype[\"WEL\"]\n",
    "wel_flow_sp = {0:[(k,0,0,wel_q) for k in range(nlay) ]}\n",
    "wel_conc_temp_sp = {0:[(k,0,0,wel_conc,wel_itype,wel_conc,wel_temp) for k in range(nlay) ]}\n",
    "wel = flopy.modflow.ModflowWel(swt,stress_period_data=wel_flow_sp)"
   ]
  },
  {
   "cell_type": "code",
   "execution_count": 99,
   "metadata": {
    "collapsed": false
   },
   "outputs": [],
   "source": [
    "ocean_h = 0.0\n",
    "ocean_conc = 35.0\n",
    "ocean_temp = 5.0\n",
    "chd_flow_sp = {0:[(k,0,ncol-1,ocean_h,ocean_h) for k in range(nlay)]}\n",
    "chd_conc_temp_sp = {0:[(k,0,ncol-1,ocean_conc,itype[\"CHD\"],\n",
    "                       ocean_conc,-1) for k in range(nlay)]}\n",
    "itype_minus1 = [(k,0,ncol-1,ocean_conc,-1,-1,ocean_temp) for k in range(nlay)]\n",
    "chd_conc_temp_sp[0].extend(itype_minus1)\n",
    "chd = flopy.modflow.ModflowChd(swt,stress_period_data=chd_flow_sp)"
   ]
  },
  {
   "cell_type": "code",
   "execution_count": 100,
   "metadata": {
    "collapsed": false
   },
   "outputs": [],
   "source": [
    "btn = flopy.mt3d.Mt3dBtn(swt,prsity=0.35,ncomp=2,sconc=35.0,sconc2=5.0,mcomp=2)\n",
    "adv = flopy.mt3d.Mt3dAdv(swt,mixelm=-1,percel=1.0,)\n",
    "gcg = flopy.mt3d.Mt3dGcg(swt,mxiter=1,iter1=200,isolve=2)\n",
    "dsp = flopy.mt3d.Mt3dDsp(swt,al=1.0,trpt=0.1,trpv=0.1,multiDiff=True,dmcoef=1.0e-10,dmcoef2=0.15031)"
   ]
  },
  {
   "cell_type": "code",
   "execution_count": 101,
   "metadata": {
    "collapsed": false
   },
   "outputs": [],
   "source": [
    "ssm_data = wel_conc_temp_sp\n",
    "ssm_data[0].extend(chd_conc_temp_sp[0])\n",
    "ssm = flopy.mt3d.Mt3dSsm(swt,stress_period_data=ssm_data)"
   ]
  },
  {
   "cell_type": "code",
   "execution_count": 102,
   "metadata": {
    "collapsed": false
   },
   "outputs": [
    {
     "name": "stdout",
     "output_type": "stream",
     "text": [
      "RCT: setting srconc for component 2 to zero, kwarg name srconc2\n",
      "RCT: setting sp2 for component 2 to zero, kwarg name sp22\n",
      "RCT: setting rc1 for component 2 to zero, kwarg name rc12\n",
      "RCT: setting rc2 for component 2 to zero, kwarg name rc22\n"
     ]
    }
   ],
   "source": [
    "rct = flopy.mt3d.Mt3dRct(swt,isothm=1,igetsc=0,rhob=1761.5,sp1=0.0,\n",
    "                         sp12=2.0e-4)"
   ]
  },
  {
   "cell_type": "code",
   "execution_count": 103,
   "metadata": {
    "collapsed": false
   },
   "outputs": [],
   "source": [
    "vdf = flopy.seawat.SeawatVdf(swt,mtdnconc=-1,mfnadvfd=1,nswtcpl=0,\n",
    "                             iwtable=0,densemin=0.0,densemax=0.0,\n",
    "                            densref=1000.0,drhodprhd=0.0,prhrhd=0.0,\n",
    "                             nsrhoeos=2,drhodc=[0.7,-.3750],\n",
    "                            crhoref=[0.0,25.0])"
   ]
  },
  {
   "cell_type": "code",
   "execution_count": 104,
   "metadata": {
    "collapsed": false
   },
   "outputs": [],
   "source": [
    "vsc = flopy.seawat.SeawatVsc(swt,mt3dmuflg=-1,viscmin=0,viscmax=0,nsmueos=1,viscref=8.904e-4,\n",
    "                            mutempopt=1,mtmuspec=1,dmudc=1.923e-6,cmuref=0.0,\n",
    "                            mtmutempspec=2,amucoeff=[239.4e-7,10.0,248.37,133.15])"
   ]
  },
  {
   "cell_type": "code",
   "execution_count": 105,
   "metadata": {
    "collapsed": false
   },
   "outputs": [],
   "source": [
    "swt.write_input()"
   ]
  },
  {
   "cell_type": "code",
   "execution_count": 106,
   "metadata": {
    "collapsed": false
   },
   "outputs": [
    {
     "name": "stdout",
     "output_type": "stream",
     "text": [
      "FloPy is using the following executable to run the model: /Users/jwhite/bin/swt_v4\n",
      "\n",
      "                                  SEAWAT Version 4\n",
      "    U.S. GEOLOGICAL SURVEY MODULAR FINITE-DIFFERENCE GROUND-WATER FLOW MODEL\n",
      "                             Version 4.00.05 10/19/2012                      \n",
      "\n",
      "Incorporated MODFLOW Version: 1.18.01 06/20/2008                      \n",
      "Incorporated MT3DMS  Version: 5.20    10/30/2006                      \n",
      "\n",
      "\n",
      " This program is public domain and is released on the\n",
      " condition that neither the U.S. Geological Survey nor\n",
      " the United States Government may be held liable for any\n",
      " damages resulting from their authorized or unauthorized\n",
      " use.\n",
      "\n",
      "\n",
      " Using NAME file: henry_heat.nam                                                                                                                                                                                          \n",
      " Run start date and time (yyyy/mm/dd hh:mm:ss): 2016/06/21 17:32:06\n",
      "\n",
      "\n",
      " STRESS PERIOD NO.    1\n",
      "\n",
      "  STRESS PERIOD    1 TIME STEP    1 FROM TIME =   0.0000     TO    1000.0    \n",
      "\n",
      " Transport Step:    1   Step Size:  1.0000E-03 Total Elapsed Time:  1.00000E-03\n",
      " Outer Iter.  1  Inner Iter.  1:  Max. DC =   0.000      [K,I,J]    1    1    1\n",
      " Outer Iter.  1  Inner Iter.  1:  Max. DC =   0.000      [K,I,J]    1    1    1\n",
      " Transport Step:    2   Step Size:   1000.     Total Elapsed Time:   1000.0    \n",
      " Outer Iter.  1  Inner Iter.  1:  Max. DC =  0.7944E-01  [K,I,J]   83    1  200\n",
      " Outer Iter.  1  Inner Iter.  2:  Max. DC =  0.6157E-06  [K,I,J]   84    1  199\n",
      " Outer Iter.  1  Inner Iter.  1:  Max. DC =   5.156      [K,I,J]    1    1    1\n",
      " Outer Iter.  1  Inner Iter.  2:  Max. DC =  0.5687      [K,I,J]    2    1    2\n",
      " Outer Iter.  1  Inner Iter.  3:  Max. DC =  0.9332E-01  [K,I,J]    1    1    1\n",
      " Outer Iter.  1  Inner Iter.  4:  Max. DC =  0.7351E-02  [K,I,J]    1    1    3\n",
      " Outer Iter.  1  Inner Iter.  5:  Max. DC =  0.6680E-03  [K,I,J]    1    1    4\n",
      " Outer Iter.  1  Inner Iter.  6:  Max. DC =  0.8332E-04  [K,I,J]    1    1    1\n",
      " Outer Iter.  1  Inner Iter.  7:  Max. DC =  0.1474E-04  [K,I,J]    1    1    1\n",
      " Outer Iter.  1  Inner Iter.  8:  Max. DC =  0.1543E-05  [K,I,J]    1    1    1\n",
      "\n",
      "  STRESS PERIOD    1 TIME STEP    2 FROM TIME =   1000.0     TO    2000.0    \n",
      "\n",
      " Transport Step:    1   Step Size:   1000.     Total Elapsed Time:   2000.0    \n",
      " Outer Iter.  1  Inner Iter.  1:  Max. DC =  0.7459      [K,I,J]    1    1    2\n",
      " Outer Iter.  1  Inner Iter.  2:  Max. DC =  0.1853      [K,I,J]  100    1    1\n",
      " Outer Iter.  1  Inner Iter.  3:  Max. DC =  0.9214E-01  [K,I,J]    1    1    2\n",
      " Outer Iter.  1  Inner Iter.  4:  Max. DC =  0.4048E-01  [K,I,J]    1    1    5\n",
      " Outer Iter.  1  Inner Iter.  5:  Max. DC =  0.1981E-01  [K,I,J]    1    1    7\n",
      " Outer Iter.  1  Inner Iter.  6:  Max. DC =  0.9170E-02  [K,I,J]    1    1    9\n",
      " Outer Iter.  1  Inner Iter.  7:  Max. DC =  0.4722E-02  [K,I,J]    9    1    1\n",
      " Outer Iter.  1  Inner Iter.  8:  Max. DC =  0.2531E-02  [K,I,J]   11    1    1\n",
      " Outer Iter.  1  Inner Iter.  9:  Max. DC =  0.1327E-02  [K,I,J]   13    1    1\n",
      " Outer Iter.  1  Inner Iter. 10:  Max. DC =  0.7129E-03  [K,I,J]    4    1    1\n",
      " Outer Iter.  1  Inner Iter. 11:  Max. DC =  0.3455E-03  [K,I,J]    1    1   16\n",
      " Outer Iter.  1  Inner Iter. 12:  Max. DC =  0.1780E-03  [K,I,J]   20    1    1\n",
      " Outer Iter.  1  Inner Iter. 13:  Max. DC =  0.1028E-03  [K,I,J]   22    1    1\n",
      " Outer Iter.  1  Inner Iter. 14:  Max. DC =  0.5434E-04  [K,I,J]   24    1    1\n",
      " Outer Iter.  1  Inner Iter. 15:  Max. DC =  0.2974E-04  [K,I,J]    1    1   20\n",
      " Outer Iter.  1  Inner Iter. 16:  Max. DC =  0.1498E-04  [K,I,J]    1    1   23\n",
      " Outer Iter.  1  Inner Iter. 17:  Max. DC =  0.7350E-05  [K,I,J]   31    1    1\n",
      " Outer Iter.  1  Inner Iter.  1:  Max. DC =   488.9      [K,I,J]  100    1    1\n",
      " Outer Iter.  1  Inner Iter.  2:  Max. DC =   60.76      [K,I,J]  100    1    1\n",
      " Outer Iter.  1  Inner Iter.  3:  Max. DC =   21.74      [K,I,J]  100    1    3\n",
      " Outer Iter.  1  Inner Iter.  4:  Max. DC =   11.93      [K,I,J]    2    1    2\n",
      " Outer Iter.  1  Inner Iter.  5:  Max. DC =   3.524      [K,I,J]   95    1    1\n",
      " Outer Iter.  1  Inner Iter.  6:  Max. DC =   1.567      [K,I,J]    6    1    1\n",
      " Outer Iter.  1  Inner Iter.  7:  Max. DC =  0.6772      [K,I,J]    2    1    2\n",
      " Outer Iter.  1  Inner Iter.  8:  Max. DC =  0.2962      [K,I,J]    1    1    3\n",
      " Outer Iter.  1  Inner Iter.  9:  Max. DC =  0.1809      [K,I,J]    1    1    1\n",
      " Outer Iter.  1  Inner Iter. 10:  Max. DC =  0.4762E-01  [K,I,J]   85    1    1\n",
      " Outer Iter.  1  Inner Iter. 11:  Max. DC =  0.2422E-01  [K,I,J]   83    1    1\n",
      " Outer Iter.  1  Inner Iter. 12:  Max. DC =  0.9860E-02  [K,I,J]   81    1    1\n",
      " Outer Iter.  1  Inner Iter. 13:  Max. DC =  0.4988E-02  [K,I,J]   79    1    1\n",
      " Outer Iter.  1  Inner Iter. 14:  Max. DC =  0.1743E-02  [K,I,J]   76    1    1\n",
      " Outer Iter.  1  Inner Iter. 15:  Max. DC =  0.8492E-03  [K,I,J]   74    1    1\n",
      " Outer Iter.  1  Inner Iter. 16:  Max. DC =  0.3465E-03  [K,I,J]   71    1    1\n",
      " Outer Iter.  1  Inner Iter. 17:  Max. DC =  0.1742E-03  [K,I,J]   69    1    1\n",
      " Outer Iter.  1  Inner Iter. 18:  Max. DC =  0.6333E-04  [K,I,J]   66    1    1\n",
      " Outer Iter.  1  Inner Iter. 19:  Max. DC =  0.3291E-04  [K,I,J]   64    1    1\n",
      " Outer Iter.  1  Inner Iter. 20:  Max. DC =  0.1362E-04  [K,I,J]   62    1    1\n",
      " Outer Iter.  1  Inner Iter. 21:  Max. DC =  0.6081E-05  [K,I,J]   59    1    1\n",
      "\n",
      "  STRESS PERIOD    1 TIME STEP    3 FROM TIME =   2000.0     TO    3000.0    \n",
      "\n",
      " Transport Step:    1   Step Size:   2.920     Total Elapsed Time:   2002.9    \n",
      "\n",
      " Error condition or warning reported\n",
      "\n",
      " File \"mf2kerr.p00\" contains a description of the error or warning\n"
     ]
    },
    {
     "data": {
      "text/plain": [
       "(False, [])"
      ]
     },
     "execution_count": 106,
     "metadata": {},
     "output_type": "execute_result"
    }
   ],
   "source": [
    "swt.run_model()"
   ]
  },
  {
   "cell_type": "code",
   "execution_count": null,
   "metadata": {
    "collapsed": true
   },
   "outputs": [],
   "source": []
  }
 ],
 "metadata": {
  "kernelspec": {
   "display_name": "Python 2",
   "language": "python",
   "name": "python2"
  },
  "language_info": {
   "codemirror_mode": {
    "name": "ipython",
    "version": 2
   },
   "file_extension": ".py",
   "mimetype": "text/x-python",
   "name": "python",
   "nbconvert_exporter": "python",
   "pygments_lexer": "ipython2",
   "version": "2.7.11"
  }
 },
 "nbformat": 4,
 "nbformat_minor": 0
}
