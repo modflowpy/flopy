{
 "cells": [
  {
   "cell_type": "markdown",
   "metadata": {},
   "source": [
    "## SFR package example\n",
    "Demonstrates functionality of Flopy SFR module using the example documented by Prudic and others (2004):  \n",
    "\n",
    "#### Problem description:\n",
    "Grid dimensions: 1 Layer, 15 Rows, 10 Columns  \n",
    "Stress periods: 1 steady  \n",
    "Flow package: LPF  \n",
    "Stress packages: SFR, GHB, EVT, RCH  \n",
    "Solver: SIP  \n",
    "\n",
    "From:  \n",
    "Prudic, D.E., Konikow, L.F., and Banta, E.R., 2004, A new streamflow-routing\n",
    "(SFR1) package to simulate stream-aquifer interaction with MODFLOW-2000:\n",
    "U.S. Geological Survey Open-File Report 2004-1042, 95 p.\n",
    "available at <http://pubs.er.usgs.gov/publication/ofr20041042>  \n",
    "\n",
    "\n",
    "<img align=\"left\" src=\"../images/Prudic2004_fig6.png\">  \n",
    "  \n",
    "\n"
   ]
  },
  {
   "cell_type": "code",
   "execution_count": 1,
   "metadata": {
    "collapsed": false
   },
   "outputs": [],
   "source": [
    "import sys\n",
    "sys.path.insert(0, '../..')\n",
    "import os\n",
    "import numpy as np\n",
    "import glob\n",
    "import shutil\n",
    "import matplotlib as mpl\n",
    "import matplotlib.pyplot as plt\n",
    "import flopy\n",
    "import flopy.utils.binaryfile as bf\n",
    "\n",
    "% matplotlib inline\n",
    "\n",
    "mpl.rcParams['figure.figsize'] = (11, 8.5)"
   ]
  },
  {
   "cell_type": "markdown",
   "metadata": {},
   "source": [
    "#### copy over the example files to the working directory"
   ]
  },
  {
   "cell_type": "code",
   "execution_count": 2,
   "metadata": {
    "collapsed": false
   },
   "outputs": [],
   "source": [
    "path = 'data'\n",
    "for f in glob.glob('../data/mf2005_test/test1ss.*'):\n",
    "    shutil.copy(f, path)"
   ]
  },
  {
   "cell_type": "markdown",
   "metadata": {},
   "source": [
    "### Load example dataset, skipping the SFR package"
   ]
  },
  {
   "cell_type": "code",
   "execution_count": 3,
   "metadata": {
    "collapsed": false
   },
   "outputs": [],
   "source": [
    "m = flopy.modflow.Modflow.load('test1ss', version='mf2005', exe_name='mf2005.exe', \n",
    "                               model_ws=path, load_only=['ghb', 'evt', 'rch', 'dis', 'bas6', 'oc', 'sip', 'lpf'])"
   ]
  },
  {
   "cell_type": "markdown",
   "metadata": {},
   "source": [
    "### Read pre-prepared reach and segment data into numpy recarrays using numpy.genfromtxt()\n",
    "Reach data (Item 2 in the SFR input instructions), are input and stored in a numpy record array  \n",
    "http://docs.scipy.org/doc/numpy/reference/generated/numpy.recarray.html  \n",
    "This allows for reach data to be indexed by their variable names, as described in the SFR input instructions.\n",
    "\n",
    "For more information on Item 2, see the Online Guide to MODFLOW:  \n",
    "<http://water.usgs.gov/nrp/gwsoftware/modflow2000/MFDOC/index.html?sfr.htm>"
   ]
  },
  {
   "cell_type": "code",
   "execution_count": 4,
   "metadata": {
    "collapsed": false
   },
   "outputs": [
    {
     "data": {
      "text/plain": [
       "array([(0.0, 0.0, 0.0, 1.0, 1.0, 4500.0),\n",
       "       (0.0, 1.0, 1.0, 1.0, 2.0, 7000.0),\n",
       "       (0.0, 2.0, 2.0, 1.0, 3.0, 6000.0),\n",
       "       (0.0, 2.0, 3.0, 1.0, 4.0, 5550.0),\n",
       "       (0.0, 3.0, 4.0, 2.0, 1.0, 6500.0),\n",
       "       (0.0, 4.0, 5.0, 2.0, 2.0, 5000.0),\n",
       "       (0.0, 5.0, 5.0, 2.0, 3.0, 5000.0),\n",
       "       (0.0, 6.0, 5.0, 2.0, 4.0, 5000.0),\n",
       "       (0.0, 7.0, 5.0, 2.0, 5.0, 5000.0),\n",
       "       (0.0, 2.0, 4.0, 3.0, 1.0, 5000.0),\n",
       "       (0.0, 2.0, 5.0, 3.0, 2.0, 5000.0),\n",
       "       (0.0, 2.0, 6.0, 3.0, 3.0, 4500.0),\n",
       "       (0.0, 3.0, 7.0, 3.0, 4.0, 6000.0),\n",
       "       (0.0, 4.0, 7.0, 3.0, 5.0, 5000.0),\n",
       "       (0.0, 5.0, 7.0, 3.0, 6.0, 2000.0),\n",
       "       (0.0, 4.0, 9.0, 4.0, 1.0, 2500.0),\n",
       "       (0.0, 4.0, 8.0, 4.0, 2.0, 5000.0),\n",
       "       (0.0, 5.0, 7.0, 4.0, 3.0, 3500.0),\n",
       "       (0.0, 5.0, 7.0, 5.0, 1.0, 4000.0),\n",
       "       (0.0, 6.0, 6.0, 5.0, 2.0, 5000.0),\n",
       "       (0.0, 7.0, 6.0, 5.0, 3.0, 3500.0),\n",
       "       (0.0, 7.0, 5.0, 5.0, 4.0, 2500.0),\n",
       "       (0.0, 8.0, 5.0, 6.0, 1.0, 5000.0),\n",
       "       (0.0, 9.0, 6.0, 6.0, 2.0, 5000.0),\n",
       "       (0.0, 10.0, 6.0, 6.0, 3.0, 5000.0),\n",
       "       (0.0, 11.0, 6.0, 6.0, 4.0, 5000.0),\n",
       "       (0.0, 12.0, 6.0, 6.0, 5.0, 2000.0),\n",
       "       (0.0, 13.0, 8.0, 7.0, 1.0, 5000.0),\n",
       "       (0.0, 12.0, 7.0, 7.0, 2.0, 5500.0),\n",
       "       (0.0, 12.0, 6.0, 7.0, 3.0, 5000.0),\n",
       "       (0.0, 12.0, 5.0, 8.0, 1.0, 5000.0),\n",
       "       (0.0, 12.0, 4.0, 8.0, 2.0, 5000.0),\n",
       "       (0.0, 12.0, 3.0, 8.0, 3.0, 5000.0),\n",
       "       (0.0, 12.0, 2.0, 8.0, 4.0, 5000.0),\n",
       "       (0.0, 12.0, 1.0, 8.0, 5.0, 5000.0),\n",
       "       (0.0, 12.0, 0.0, 8.0, 6.0, 3000.0)], \n",
       "      dtype=[('k', '<f8'), ('i', '<f8'), ('j', '<f8'), ('iseg', '<f8'), ('ireach', '<f8'), ('rchlen', '<f8')])"
      ]
     },
     "execution_count": 4,
     "metadata": {},
     "output_type": "execute_result"
    }
   ],
   "source": [
    "reach_data = np.genfromtxt('data/test1ss_reach_data.csv', delimiter=',', names=True)\n",
    "reach_data"
   ]
  },
  {
   "cell_type": "markdown",
   "metadata": {},
   "source": [
    "### Segment Data structure\n",
    "Segment data are input and stored in a dictionary of record arrays, which "
   ]
  },
  {
   "cell_type": "code",
   "execution_count": 5,
   "metadata": {
    "collapsed": false
   },
   "outputs": [
    {
     "data": {
      "text/plain": [
       "array([ 0.])"
      ]
     },
     "execution_count": 5,
     "metadata": {},
     "output_type": "execute_result"
    }
   ],
   "source": [
    "ss_segment_data = np.genfromtxt('data/test1ss_segment_data.csv', delimiter=',', names=True)\n",
    "segment_data = {0: ss_segment_data}\n",
    "segment_data[0][0:1]['width1']"
   ]
  },
  {
   "cell_type": "markdown",
   "metadata": {},
   "source": [
    "### define dataset 6e (channel flow data) for segment 1\n",
    "dataset 6e is stored in a nested dictionary keyed by stress period and segment,  \n",
    "with a list of the following lists defined for each segment with icalc == 4  \n",
    "FLOWTAB(1) FLOWTAB(2) ... FLOWTAB(NSTRPTS)  \n",
    "DPTHTAB(1) DPTHTAB(2) ... DPTHTAB(NSTRPTS)  \n",
    "WDTHTAB(1) WDTHTAB(2) ... WDTHTAB(NSTRPTS)  "
   ]
  },
  {
   "cell_type": "code",
   "execution_count": 6,
   "metadata": {
    "collapsed": true
   },
   "outputs": [],
   "source": [
    "channel_flow_data = {0: {1: [[0.5, 1.0, 2.0, 4.0, 7.0, 10.0, 20.0, 30.0, 50.0, 75.0, 100.0],\n",
    "                             [0.25, 0.4, 0.55, 0.7, 0.8, 0.9, 1.1, 1.25, 1.4, 1.7, 2.6],\n",
    "                             [3.0, 3.5, 4.2, 5.3, 7.0, 8.5, 12.0, 14.0, 17.0, 20.0, 22.0]]}}"
   ]
  },
  {
   "cell_type": "markdown",
   "metadata": {},
   "source": [
    "### define dataset 6d (channel geometry data) for segments 7 and 8\n",
    "dataset 6d is stored in a nested dictionary keyed by stress period and segment,  \n",
    "with a list of the following lists defined for each segment with icalc == 4  \n",
    "FLOWTAB(1) FLOWTAB(2) ... FLOWTAB(NSTRPTS)  \n",
    "DPTHTAB(1) DPTHTAB(2) ... DPTHTAB(NSTRPTS)  \n",
    "WDTHTAB(1) WDTHTAB(2) ... WDTHTAB(NSTRPTS)  "
   ]
  },
  {
   "cell_type": "code",
   "execution_count": 7,
   "metadata": {
    "collapsed": true
   },
   "outputs": [],
   "source": [
    "channel_geometry_data = {0: {7: [[0.0, 10.0, 80.0, 100.0, 150.0, 170.0, 240.0, 250.0],\n",
    "                                 [20.0, 13.0, 10.0, 2.0, 0.0, 10.0, 13.0, 20.0]],\n",
    "                             8: [[0.0, 10.0, 80.0, 100.0, 150.0, 170.0, 240.0, 250.0],\n",
    "                                 [25.0, 17.0, 13.0, 4.0, 0.0, 10.0, 16.0, 20.0]]}}"
   ]
  },
  {
   "cell_type": "markdown",
   "metadata": {},
   "source": [
    "### Define SFR package variables  "
   ]
  },
  {
   "cell_type": "code",
   "execution_count": 8,
   "metadata": {
    "collapsed": true
   },
   "outputs": [],
   "source": [
    "nstrm = len(reach_data) # number of reaches\n",
    "nss = len(segment_data[0]) # number of segments\n",
    "nsfrpar = 0 # number of parameters (not supported)\n",
    "nparseg = 0\n",
    "const = 1.486 # constant for manning's equation, units of cfs\n",
    "dleak = 0.0001 # closure tolerance for stream stage computation\n",
    "istcb1 = 53 # flag for writing SFR output to cell-by-cell budget (on unit 53)\n",
    "istcb2 = 81 # flag for writing SFR output to text file\n",
    "dataset_5 = {0: [nss, 0, 0]} # dataset 5 (see online guide)"
   ]
  },
  {
   "cell_type": "markdown",
   "metadata": {},
   "source": [
    "### Instantiate SFR package  \n",
    "Input arguments generally follow the variable names defined in the Online Guide to MODFLOW"
   ]
  },
  {
   "cell_type": "code",
   "execution_count": 9,
   "metadata": {
    "collapsed": false
   },
   "outputs": [],
   "source": [
    "sfr = flopy.modflow.ModflowSfr2(m, nstrm=nstrm, nss=nss, const=const, dleak=dleak, istcb1=istcb1, istcb2=istcb2, \n",
    "                                reach_data=reach_data,\n",
    "                                segment_data=segment_data,\n",
    "                                channel_geometry_data=channel_geometry_data,\n",
    "                                channel_flow_data=channel_flow_data,\n",
    "                                dataset_5=dataset_5)"
   ]
  },
  {
   "cell_type": "code",
   "execution_count": 10,
   "metadata": {
    "collapsed": false
   },
   "outputs": [
    {
     "data": {
      "text/plain": [
       "rec.array([ (1, 0, 0, 0, 1, 1, 4500.0, -10000000000.0, -10000000000.0, -10000000000.0, -10000000000.0, -10000000000, -10000000000.0, -10000000000.0, -10000000000.0, 1, 2)], \n",
       "          dtype=[('node', '<i8'), ('k', '<i8'), ('i', '<i8'), ('j', '<i8'), ('iseg', '<i8'), ('ireach', '<i8'), ('rchlen', '<f4'), ('strtop', '<f4'), ('slope', '<f4'), ('strthick', '<f4'), ('strhc1', '<f4'), ('thts', '<i8'), ('thti', '<f4'), ('eps', '<f4'), ('uhc', '<f4'), ('reachID', '<i8'), ('outreach', '<i8')])"
      ]
     },
     "execution_count": 10,
     "metadata": {},
     "output_type": "execute_result"
    }
   ],
   "source": [
    "sfr.reach_data[0:1]"
   ]
  },
  {
   "cell_type": "markdown",
   "metadata": {},
   "source": [
    "### Plot the SFR segments\n",
    "any column in the reach_data array can be plotted using the ```key``` argument"
   ]
  },
  {
   "cell_type": "code",
   "execution_count": 11,
   "metadata": {
    "collapsed": false
   },
   "outputs": [
    {
     "data": {
      "text/plain": [
       "[<matplotlib.axes._subplots.AxesSubplot at 0x106800290>]"
      ]
     },
     "execution_count": 11,
     "metadata": {},
     "output_type": "execute_result"
    },
    {
     "name": "stderr",
     "output_type": "stream",
     "text": [
      "//anaconda/lib/python2.7/site-packages/matplotlib/collections.py:590: FutureWarning: elementwise comparison failed; returning scalar instead, but in the future will perform elementwise comparison\n",
      "  if self._edgecolors == str('face'):\n"
     ]
    },
    {
     "data": {
      "image/png": "[encoded data removed]",
      "text/plain": [
       "<matplotlib.figure.Figure at 0x108a99110>"
      ]
     },
     "metadata": {},
     "output_type": "display_data"
    }
   ],
   "source": [
    "sfr.plot(key='iseg')"
   ]
  },
  {
   "cell_type": "markdown",
   "metadata": {},
   "source": [
    "### Check the SFR dataset for errors"
   ]
  },
  {
   "cell_type": "code",
   "execution_count": 12,
   "metadata": {
    "collapsed": false
   },
   "outputs": [
    {
     "name": "stdout",
     "output_type": "stream",
     "text": [
      "Checking for continuity in segment and reach numbering...\n",
      "passed.\n",
      "\n",
      "Checking for increasing segment numbers in downstream direction...\n",
      "passed.\n",
      "\n",
      "Checking for circular routing...\n",
      "passed.\n",
      "\n",
      "Checking for model cells with multiple non-zero SFR conductances...\n",
      "3 model cells with multiple non-zero SFR conductances found.\n",
      "This may lead to circular routing between collocated reaches.\n",
      "Nodes with overlapping conductances:\n",
      "node\tk\ti\tj\tiseg\tireach\trchlen\n",
      "76\t0\t7\t5\t2\t5\t5000.000000\n",
      "58\t0\t5\t7\t3\t6\t2000.000000\n",
      "58\t0\t5\t7\t4\t3\t3500.000000\n",
      "58\t0\t5\t7\t5\t1\t4000.000000\n",
      "76\t0\t7\t5\t5\t4\t2500.000000\n",
      "127\t0\t12\t6\t6\t5\t2000.000000\n",
      "127\t0\t12\t6\t7\t3\t5000.000000\n",
      "\n",
      "Checking segment_data for downstream rises in streambed elevation...\n",
      "passed.\n",
      "\n",
      "Checking reach_data for downstream rises in streambed elevation...\n",
      "Reach strtop not specified for nstrm=36, reachinput=False and isfropt=0\n",
      "passed.\n",
      "\n",
      "Checking reach_data for inconsistencies between streambed elevations and the model grid...\n",
      "Reach strtop, strthick not specified for nstrm=36, reachinput=False and isfropt=0\n",
      "passed.\n",
      "\n",
      "Checking segment_data for inconsistencies between segment end elevations and the model grid...\n",
      "passed.\n",
      "\n",
      "Checking for streambed slopes of less than 0.0001...\n",
      "slope not specified for isfropt=0\n",
      "passed.\n",
      "\n",
      "Checking for streambed slopes of greater than 1.0...\n",
      "slope not specified for isfropt=0\n",
      "passed.\n",
      "\n"
     ]
    }
   ],
   "source": [
    "chk = sfr.check()"
   ]
  },
  {
   "cell_type": "code",
   "execution_count": 13,
   "metadata": {
    "collapsed": false
   },
   "outputs": [
    {
     "data": {
      "text/plain": [
       "['test1ss.flw',\n",
       " 'test1ss.sg1',\n",
       " 'test1ss.sg2',\n",
       " 'test1ss.sg3',\n",
       " 'test1ss.sg4',\n",
       " 'test1ss.sg5',\n",
       " 'test1ss.sg6',\n",
       " 'test1ss.sg7',\n",
       " 'test1ss.sg8',\n",
       " 'test1ss.dvsg9']"
      ]
     },
     "execution_count": 13,
     "metadata": {},
     "output_type": "execute_result"
    }
   ],
   "source": [
    "m.external_fnames = [os.path.split(f)[1] for f in m.external_fnames]\n",
    "m.external_fnames"
   ]
  },
  {
   "cell_type": "code",
   "execution_count": 14,
   "metadata": {
    "collapsed": false
   },
   "outputs": [],
   "source": [
    "m.write_input()"
   ]
  },
  {
   "cell_type": "code",
   "execution_count": null,
   "metadata": {
    "collapsed": false
   },
   "outputs": [],
   "source": [
    "m.run_model()"
   ]
  },
  {
   "cell_type": "markdown",
   "metadata": {},
   "source": [
    "### Look at results"
   ]
  },
  {
   "cell_type": "code",
   "execution_count": 16,
   "metadata": {
    "collapsed": true
   },
   "outputs": [],
   "source": [
    "sfr_outfile = 'data/test1ss.flw'\n",
    "names =  [\"layer\", \"row\", \"column\", \"segment\", \"reach\", \"Qin\", \n",
    "          \"Qaquifer\", \"Qout\", \"Qovr\", \"Qprecip\", \"Qet\", \"stage\", \"depth\", \"width\", \"Cond\", \"gradient\"]"
   ]
  },
  {
   "cell_type": "markdown",
   "metadata": {},
   "source": [
    "### Read results into numpy array using genfromtxt"
   ]
  },
  {
   "cell_type": "code",
   "execution_count": 17,
   "metadata": {
    "collapsed": false
   },
   "outputs": [
    {
     "data": {
      "text/plain": [
       "array([ (1, 1, 1, 1, 1, 25.0, 0.7923, 24.208, 0.0, 0.0, 0.0, 1094.22, 1.174, 12.98, 0.5843, 0.452)], \n",
       "      dtype=[('layer', '<i8'), ('row', '<i8'), ('column', '<i8'), ('segment', '<i8'), ('reach', '<i8'), ('Qin', '<f8'), ('Qaquifer', '<f8'), ('Qout', '<f8'), ('Qovr', '<f8'), ('Qprecip', '<f8'), ('Qet', '<f8'), ('stage', '<f8'), ('depth', '<f8'), ('width', '<f8'), ('Cond', '<f8'), ('gradient', '<f8')])"
      ]
     },
     "execution_count": 17,
     "metadata": {},
     "output_type": "execute_result"
    }
   ],
   "source": [
    "sfrresults = np.genfromtxt(sfr_outfile, skip_header=8, names=names, dtype=None)\n",
    "sfrresults[0:1]"
   ]
  },
  {
   "cell_type": "markdown",
   "metadata": {},
   "source": [
    "### Read results into pandas dataframe  \n",
    "* requires the **pandas** library"
   ]
  },
  {
   "cell_type": "code",
   "execution_count": 18,
   "metadata": {
    "collapsed": false
   },
   "outputs": [
    {
     "data": {
      "text/html": [
       "<div>\n",
       "<table border=\"1\" class=\"dataframe\">\n",
       "  <thead>\n",
       "    <tr style=\"text-align: right;\">\n",
       "      <th></th>\n",
       "      <th>layer</th>\n",
       "      <th>row</th>\n",
       "      <th>column</th>\n",
       "      <th>segment</th>\n",
       "      <th>reach</th>\n",
       "      <th>Qin</th>\n",
       "      <th>Qaquifer</th>\n",
       "      <th>Qout</th>\n",
       "      <th>Qovr</th>\n",
       "      <th>Qprecip</th>\n",
       "      <th>Qet</th>\n",
       "      <th>stage</th>\n",
       "      <th>depth</th>\n",
       "      <th>width</th>\n",
       "      <th>Cond</th>\n",
       "      <th>gradient</th>\n",
       "    </tr>\n",
       "  </thead>\n",
       "  <tbody>\n",
       "    <tr>\n",
       "      <th>0</th>\n",
       "      <td>1</td>\n",
       "      <td>1</td>\n",
       "      <td>1</td>\n",
       "      <td>1</td>\n",
       "      <td>1</td>\n",
       "      <td>25.0000</td>\n",
       "      <td>0.79230</td>\n",
       "      <td>24.2080</td>\n",
       "      <td>0</td>\n",
       "      <td>0</td>\n",
       "      <td>0</td>\n",
       "      <td>1094.220</td>\n",
       "      <td>1.17400</td>\n",
       "      <td>12.980</td>\n",
       "      <td>0.5843</td>\n",
       "      <td>0.45200</td>\n",
       "    </tr>\n",
       "    <tr>\n",
       "      <th>1</th>\n",
       "      <td>1</td>\n",
       "      <td>2</td>\n",
       "      <td>2</td>\n",
       "      <td>1</td>\n",
       "      <td>2</td>\n",
       "      <td>24.2080</td>\n",
       "      <td>2.14080</td>\n",
       "      <td>22.0670</td>\n",
       "      <td>0</td>\n",
       "      <td>0</td>\n",
       "      <td>0</td>\n",
       "      <td>1089.210</td>\n",
       "      <td>1.15200</td>\n",
       "      <td>12.680</td>\n",
       "      <td>0.8878</td>\n",
       "      <td>0.80380</td>\n",
       "    </tr>\n",
       "    <tr>\n",
       "      <th>2</th>\n",
       "      <td>1</td>\n",
       "      <td>3</td>\n",
       "      <td>3</td>\n",
       "      <td>1</td>\n",
       "      <td>3</td>\n",
       "      <td>22.0670</td>\n",
       "      <td>2.99090</td>\n",
       "      <td>19.0760</td>\n",
       "      <td>0</td>\n",
       "      <td>0</td>\n",
       "      <td>0</td>\n",
       "      <td>1083.530</td>\n",
       "      <td>1.11000</td>\n",
       "      <td>12.130</td>\n",
       "      <td>0.7278</td>\n",
       "      <td>1.37000</td>\n",
       "    </tr>\n",
       "    <tr>\n",
       "      <th>3</th>\n",
       "      <td>1</td>\n",
       "      <td>3</td>\n",
       "      <td>4</td>\n",
       "      <td>1</td>\n",
       "      <td>4</td>\n",
       "      <td>19.0760</td>\n",
       "      <td>2.55380</td>\n",
       "      <td>16.5220</td>\n",
       "      <td>0</td>\n",
       "      <td>0</td>\n",
       "      <td>0</td>\n",
       "      <td>1078.470</td>\n",
       "      <td>1.06400</td>\n",
       "      <td>11.320</td>\n",
       "      <td>0.6285</td>\n",
       "      <td>1.35500</td>\n",
       "    </tr>\n",
       "    <tr>\n",
       "      <th>4</th>\n",
       "      <td>1</td>\n",
       "      <td>4</td>\n",
       "      <td>5</td>\n",
       "      <td>2</td>\n",
       "      <td>1</td>\n",
       "      <td>6.5222</td>\n",
       "      <td>2.70580</td>\n",
       "      <td>3.8163</td>\n",
       "      <td>0</td>\n",
       "      <td>0</td>\n",
       "      <td>0</td>\n",
       "      <td>1072.400</td>\n",
       "      <td>0.46900</td>\n",
       "      <td>12.000</td>\n",
       "      <td>0.7800</td>\n",
       "      <td>1.15600</td>\n",
       "    </tr>\n",
       "    <tr>\n",
       "      <th>5</th>\n",
       "      <td>1</td>\n",
       "      <td>5</td>\n",
       "      <td>6</td>\n",
       "      <td>2</td>\n",
       "      <td>2</td>\n",
       "      <td>3.8163</td>\n",
       "      <td>1.99560</td>\n",
       "      <td>1.8208</td>\n",
       "      <td>0</td>\n",
       "      <td>0</td>\n",
       "      <td>0</td>\n",
       "      <td>1066.840</td>\n",
       "      <td>0.32600</td>\n",
       "      <td>12.000</td>\n",
       "      <td>0.6000</td>\n",
       "      <td>1.10900</td>\n",
       "    </tr>\n",
       "    <tr>\n",
       "      <th>6</th>\n",
       "      <td>1</td>\n",
       "      <td>6</td>\n",
       "      <td>6</td>\n",
       "      <td>2</td>\n",
       "      <td>3</td>\n",
       "      <td>1.8208</td>\n",
       "      <td>1.82080</td>\n",
       "      <td>0.0000</td>\n",
       "      <td>0</td>\n",
       "      <td>0</td>\n",
       "      <td>0</td>\n",
       "      <td>1061.850</td>\n",
       "      <td>0.05643</td>\n",
       "      <td>12.000</td>\n",
       "      <td>0.6000</td>\n",
       "      <td>1.01900</td>\n",
       "    </tr>\n",
       "    <tr>\n",
       "      <th>7</th>\n",
       "      <td>1</td>\n",
       "      <td>7</td>\n",
       "      <td>6</td>\n",
       "      <td>2</td>\n",
       "      <td>4</td>\n",
       "      <td>0.0000</td>\n",
       "      <td>0.00000</td>\n",
       "      <td>0.0000</td>\n",
       "      <td>0</td>\n",
       "      <td>0</td>\n",
       "      <td>0</td>\n",
       "      <td>1057.080</td>\n",
       "      <td>0.00000</td>\n",
       "      <td>12.000</td>\n",
       "      <td>0.6000</td>\n",
       "      <td>1.00000</td>\n",
       "    </tr>\n",
       "    <tr>\n",
       "      <th>8</th>\n",
       "      <td>1</td>\n",
       "      <td>8</td>\n",
       "      <td>6</td>\n",
       "      <td>2</td>\n",
       "      <td>5</td>\n",
       "      <td>0.0000</td>\n",
       "      <td>0.00000</td>\n",
       "      <td>0.0000</td>\n",
       "      <td>0</td>\n",
       "      <td>0</td>\n",
       "      <td>0</td>\n",
       "      <td>1052.360</td>\n",
       "      <td>0.00000</td>\n",
       "      <td>12.000</td>\n",
       "      <td>0.6000</td>\n",
       "      <td>1.00000</td>\n",
       "    </tr>\n",
       "    <tr>\n",
       "      <th>9</th>\n",
       "      <td>1</td>\n",
       "      <td>3</td>\n",
       "      <td>5</td>\n",
       "      <td>3</td>\n",
       "      <td>1</td>\n",
       "      <td>10.0000</td>\n",
       "      <td>2.18710</td>\n",
       "      <td>7.8129</td>\n",
       "      <td>0</td>\n",
       "      <td>0</td>\n",
       "      <td>0</td>\n",
       "      <td>1075.550</td>\n",
       "      <td>1.90900</td>\n",
       "      <td>9.636</td>\n",
       "      <td>0.7227</td>\n",
       "      <td>1.51300</td>\n",
       "    </tr>\n",
       "    <tr>\n",
       "      <th>10</th>\n",
       "      <td>1</td>\n",
       "      <td>3</td>\n",
       "      <td>6</td>\n",
       "      <td>3</td>\n",
       "      <td>2</td>\n",
       "      <td>7.8129</td>\n",
       "      <td>1.36970</td>\n",
       "      <td>6.4432</td>\n",
       "      <td>0</td>\n",
       "      <td>0</td>\n",
       "      <td>0</td>\n",
       "      <td>1072.640</td>\n",
       "      <td>1.72700</td>\n",
       "      <td>8.909</td>\n",
       "      <td>0.6682</td>\n",
       "      <td>1.02500</td>\n",
       "    </tr>\n",
       "    <tr>\n",
       "      <th>11</th>\n",
       "      <td>1</td>\n",
       "      <td>3</td>\n",
       "      <td>7</td>\n",
       "      <td>3</td>\n",
       "      <td>3</td>\n",
       "      <td>6.4432</td>\n",
       "      <td>0.42730</td>\n",
       "      <td>6.0159</td>\n",
       "      <td>0</td>\n",
       "      <td>0</td>\n",
       "      <td>0</td>\n",
       "      <td>1069.870</td>\n",
       "      <td>1.55500</td>\n",
       "      <td>8.218</td>\n",
       "      <td>0.5547</td>\n",
       "      <td>0.38510</td>\n",
       "    </tr>\n",
       "    <tr>\n",
       "      <th>12</th>\n",
       "      <td>1</td>\n",
       "      <td>4</td>\n",
       "      <td>8</td>\n",
       "      <td>3</td>\n",
       "      <td>4</td>\n",
       "      <td>6.0159</td>\n",
       "      <td>0.61019</td>\n",
       "      <td>5.4057</td>\n",
       "      <td>0</td>\n",
       "      <td>0</td>\n",
       "      <td>0</td>\n",
       "      <td>1066.820</td>\n",
       "      <td>1.36400</td>\n",
       "      <td>7.455</td>\n",
       "      <td>0.6709</td>\n",
       "      <td>0.45480</td>\n",
       "    </tr>\n",
       "    <tr>\n",
       "      <th>13</th>\n",
       "      <td>1</td>\n",
       "      <td>5</td>\n",
       "      <td>8</td>\n",
       "      <td>3</td>\n",
       "      <td>5</td>\n",
       "      <td>5.4057</td>\n",
       "      <td>0.80307</td>\n",
       "      <td>4.6026</td>\n",
       "      <td>0</td>\n",
       "      <td>0</td>\n",
       "      <td>0</td>\n",
       "      <td>1063.620</td>\n",
       "      <td>1.16400</td>\n",
       "      <td>6.655</td>\n",
       "      <td>0.4991</td>\n",
       "      <td>0.80450</td>\n",
       "    </tr>\n",
       "    <tr>\n",
       "      <th>14</th>\n",
       "      <td>1</td>\n",
       "      <td>6</td>\n",
       "      <td>8</td>\n",
       "      <td>3</td>\n",
       "      <td>6</td>\n",
       "      <td>4.6026</td>\n",
       "      <td>0.45886</td>\n",
       "      <td>4.1438</td>\n",
       "      <td>0</td>\n",
       "      <td>0</td>\n",
       "      <td>0</td>\n",
       "      <td>1061.580</td>\n",
       "      <td>1.03600</td>\n",
       "      <td>6.145</td>\n",
       "      <td>0.1844</td>\n",
       "      <td>1.24400</td>\n",
       "    </tr>\n",
       "    <tr>\n",
       "      <th>15</th>\n",
       "      <td>1</td>\n",
       "      <td>5</td>\n",
       "      <td>10</td>\n",
       "      <td>4</td>\n",
       "      <td>1</td>\n",
       "      <td>10.0000</td>\n",
       "      <td>0.90525</td>\n",
       "      <td>9.0947</td>\n",
       "      <td>0</td>\n",
       "      <td>0</td>\n",
       "      <td>0</td>\n",
       "      <td>1078.350</td>\n",
       "      <td>0.62100</td>\n",
       "      <td>10.000</td>\n",
       "      <td>0.2500</td>\n",
       "      <td>1.20700</td>\n",
       "    </tr>\n",
       "    <tr>\n",
       "      <th>16</th>\n",
       "      <td>1</td>\n",
       "      <td>5</td>\n",
       "      <td>9</td>\n",
       "      <td>4</td>\n",
       "      <td>2</td>\n",
       "      <td>9.0947</td>\n",
       "      <td>1.78350</td>\n",
       "      <td>7.3113</td>\n",
       "      <td>0</td>\n",
       "      <td>0</td>\n",
       "      <td>0</td>\n",
       "      <td>1071.480</td>\n",
       "      <td>0.56700</td>\n",
       "      <td>10.000</td>\n",
       "      <td>0.5000</td>\n",
       "      <td>1.18900</td>\n",
       "    </tr>\n",
       "    <tr>\n",
       "      <th>17</th>\n",
       "      <td>1</td>\n",
       "      <td>6</td>\n",
       "      <td>8</td>\n",
       "      <td>4</td>\n",
       "      <td>3</td>\n",
       "      <td>7.3113</td>\n",
       "      <td>1.22570</td>\n",
       "      <td>6.0855</td>\n",
       "      <td>0</td>\n",
       "      <td>0</td>\n",
       "      <td>0</td>\n",
       "      <td>1063.680</td>\n",
       "      <td>0.50210</td>\n",
       "      <td>10.000</td>\n",
       "      <td>0.3500</td>\n",
       "      <td>1.16700</td>\n",
       "    </tr>\n",
       "    <tr>\n",
       "      <th>18</th>\n",
       "      <td>1</td>\n",
       "      <td>6</td>\n",
       "      <td>8</td>\n",
       "      <td>5</td>\n",
       "      <td>1</td>\n",
       "      <td>10.2290</td>\n",
       "      <td>-0.25525</td>\n",
       "      <td>10.4850</td>\n",
       "      <td>0</td>\n",
       "      <td>0</td>\n",
       "      <td>0</td>\n",
       "      <td>1058.680</td>\n",
       "      <td>0.67990</td>\n",
       "      <td>15.450</td>\n",
       "      <td>0.6180</td>\n",
       "      <td>-0.13770</td>\n",
       "    </tr>\n",
       "    <tr>\n",
       "      <th>19</th>\n",
       "      <td>1</td>\n",
       "      <td>7</td>\n",
       "      <td>7</td>\n",
       "      <td>5</td>\n",
       "      <td>2</td>\n",
       "      <td>10.4850</td>\n",
       "      <td>0.74225</td>\n",
       "      <td>9.7423</td>\n",
       "      <td>0</td>\n",
       "      <td>0</td>\n",
       "      <td>0</td>\n",
       "      <td>1054.170</td>\n",
       "      <td>0.67430</td>\n",
       "      <td>15.230</td>\n",
       "      <td>0.7616</td>\n",
       "      <td>0.32490</td>\n",
       "    </tr>\n",
       "    <tr>\n",
       "      <th>20</th>\n",
       "      <td>1</td>\n",
       "      <td>8</td>\n",
       "      <td>7</td>\n",
       "      <td>5</td>\n",
       "      <td>3</td>\n",
       "      <td>9.7423</td>\n",
       "      <td>1.04410</td>\n",
       "      <td>8.6982</td>\n",
       "      <td>0</td>\n",
       "      <td>0</td>\n",
       "      <td>0</td>\n",
       "      <td>1049.900</td>\n",
       "      <td>0.65280</td>\n",
       "      <td>14.410</td>\n",
       "      <td>0.5043</td>\n",
       "      <td>0.69010</td>\n",
       "    </tr>\n",
       "    <tr>\n",
       "      <th>21</th>\n",
       "      <td>1</td>\n",
       "      <td>8</td>\n",
       "      <td>6</td>\n",
       "      <td>5</td>\n",
       "      <td>4</td>\n",
       "      <td>8.6982</td>\n",
       "      <td>0.15040</td>\n",
       "      <td>8.5478</td>\n",
       "      <td>0</td>\n",
       "      <td>0</td>\n",
       "      <td>0</td>\n",
       "      <td>1046.890</td>\n",
       "      <td>0.63770</td>\n",
       "      <td>13.840</td>\n",
       "      <td>0.3460</td>\n",
       "      <td>0.14490</td>\n",
       "    </tr>\n",
       "    <tr>\n",
       "      <th>22</th>\n",
       "      <td>1</td>\n",
       "      <td>9</td>\n",
       "      <td>6</td>\n",
       "      <td>6</td>\n",
       "      <td>1</td>\n",
       "      <td>8.5478</td>\n",
       "      <td>1.37410</td>\n",
       "      <td>7.1736</td>\n",
       "      <td>0</td>\n",
       "      <td>0</td>\n",
       "      <td>0</td>\n",
       "      <td>1043.340</td>\n",
       "      <td>0.60990</td>\n",
       "      <td>12.000</td>\n",
       "      <td>0.6000</td>\n",
       "      <td>0.76340</td>\n",
       "    </tr>\n",
       "    <tr>\n",
       "      <th>23</th>\n",
       "      <td>1</td>\n",
       "      <td>10</td>\n",
       "      <td>7</td>\n",
       "      <td>6</td>\n",
       "      <td>2</td>\n",
       "      <td>7.1736</td>\n",
       "      <td>1.33000</td>\n",
       "      <td>5.8436</td>\n",
       "      <td>0</td>\n",
       "      <td>0</td>\n",
       "      <td>0</td>\n",
       "      <td>1038.730</td>\n",
       "      <td>0.54460</td>\n",
       "      <td>12.000</td>\n",
       "      <td>0.6000</td>\n",
       "      <td>0.73890</td>\n",
       "    </tr>\n",
       "    <tr>\n",
       "      <th>24</th>\n",
       "      <td>1</td>\n",
       "      <td>11</td>\n",
       "      <td>7</td>\n",
       "      <td>6</td>\n",
       "      <td>3</td>\n",
       "      <td>5.8436</td>\n",
       "      <td>1.21580</td>\n",
       "      <td>4.6279</td>\n",
       "      <td>0</td>\n",
       "      <td>0</td>\n",
       "      <td>0</td>\n",
       "      <td>1034.110</td>\n",
       "      <td>0.47790</td>\n",
       "      <td>12.000</td>\n",
       "      <td>0.6000</td>\n",
       "      <td>0.67540</td>\n",
       "    </tr>\n",
       "    <tr>\n",
       "      <th>25</th>\n",
       "      <td>1</td>\n",
       "      <td>12</td>\n",
       "      <td>7</td>\n",
       "      <td>6</td>\n",
       "      <td>4</td>\n",
       "      <td>4.6279</td>\n",
       "      <td>0.56873</td>\n",
       "      <td>4.0591</td>\n",
       "      <td>0</td>\n",
       "      <td>0</td>\n",
       "      <td>0</td>\n",
       "      <td>1029.520</td>\n",
       "      <td>0.42720</td>\n",
       "      <td>12.000</td>\n",
       "      <td>0.6000</td>\n",
       "      <td>0.31600</td>\n",
       "    </tr>\n",
       "    <tr>\n",
       "      <th>26</th>\n",
       "      <td>1</td>\n",
       "      <td>13</td>\n",
       "      <td>7</td>\n",
       "      <td>6</td>\n",
       "      <td>5</td>\n",
       "      <td>4.0591</td>\n",
       "      <td>-0.66107</td>\n",
       "      <td>4.7202</td>\n",
       "      <td>0</td>\n",
       "      <td>0</td>\n",
       "      <td>0</td>\n",
       "      <td>1026.340</td>\n",
       "      <td>0.43000</td>\n",
       "      <td>12.000</td>\n",
       "      <td>0.2400</td>\n",
       "      <td>-0.91810</td>\n",
       "    </tr>\n",
       "    <tr>\n",
       "      <th>27</th>\n",
       "      <td>1</td>\n",
       "      <td>14</td>\n",
       "      <td>9</td>\n",
       "      <td>7</td>\n",
       "      <td>1</td>\n",
       "      <td>150.0000</td>\n",
       "      <td>2.95600</td>\n",
       "      <td>147.0400</td>\n",
       "      <td>0</td>\n",
       "      <td>0</td>\n",
       "      <td>0</td>\n",
       "      <td>1039.860</td>\n",
       "      <td>2.28300</td>\n",
       "      <td>55.280</td>\n",
       "      <td>5.5910</td>\n",
       "      <td>0.17620</td>\n",
       "    </tr>\n",
       "    <tr>\n",
       "      <th>28</th>\n",
       "      <td>1</td>\n",
       "      <td>13</td>\n",
       "      <td>8</td>\n",
       "      <td>7</td>\n",
       "      <td>2</td>\n",
       "      <td>147.0400</td>\n",
       "      <td>4.05460</td>\n",
       "      <td>142.9900</td>\n",
       "      <td>0</td>\n",
       "      <td>0</td>\n",
       "      <td>0</td>\n",
       "      <td>1034.760</td>\n",
       "      <td>2.26500</td>\n",
       "      <td>55.190</td>\n",
       "      <td>6.1400</td>\n",
       "      <td>0.22010</td>\n",
       "    </tr>\n",
       "    <tr>\n",
       "      <th>29</th>\n",
       "      <td>1</td>\n",
       "      <td>13</td>\n",
       "      <td>7</td>\n",
       "      <td>7</td>\n",
       "      <td>3</td>\n",
       "      <td>142.9900</td>\n",
       "      <td>3.18190</td>\n",
       "      <td>139.8100</td>\n",
       "      <td>0</td>\n",
       "      <td>0</td>\n",
       "      <td>0</td>\n",
       "      <td>1029.660</td>\n",
       "      <td>2.24500</td>\n",
       "      <td>55.100</td>\n",
       "      <td>5.5720</td>\n",
       "      <td>0.19030</td>\n",
       "    </tr>\n",
       "    <tr>\n",
       "      <th>30</th>\n",
       "      <td>1</td>\n",
       "      <td>13</td>\n",
       "      <td>6</td>\n",
       "      <td>8</td>\n",
       "      <td>1</td>\n",
       "      <td>144.5300</td>\n",
       "      <td>1.56850</td>\n",
       "      <td>142.9600</td>\n",
       "      <td>0</td>\n",
       "      <td>0</td>\n",
       "      <td>0</td>\n",
       "      <td>1024.650</td>\n",
       "      <td>2.77200</td>\n",
       "      <td>40.200</td>\n",
       "      <td>4.0960</td>\n",
       "      <td>0.12760</td>\n",
       "    </tr>\n",
       "    <tr>\n",
       "      <th>31</th>\n",
       "      <td>1</td>\n",
       "      <td>13</td>\n",
       "      <td>5</td>\n",
       "      <td>8</td>\n",
       "      <td>2</td>\n",
       "      <td>142.9600</td>\n",
       "      <td>-1.25360</td>\n",
       "      <td>144.2100</td>\n",
       "      <td>0</td>\n",
       "      <td>0</td>\n",
       "      <td>0</td>\n",
       "      <td>1018.400</td>\n",
       "      <td>2.77100</td>\n",
       "      <td>40.180</td>\n",
       "      <td>4.0950</td>\n",
       "      <td>-0.10210</td>\n",
       "    </tr>\n",
       "    <tr>\n",
       "      <th>32</th>\n",
       "      <td>1</td>\n",
       "      <td>13</td>\n",
       "      <td>4</td>\n",
       "      <td>8</td>\n",
       "      <td>3</td>\n",
       "      <td>144.2100</td>\n",
       "      <td>-2.96590</td>\n",
       "      <td>147.1800</td>\n",
       "      <td>0</td>\n",
       "      <td>0</td>\n",
       "      <td>0</td>\n",
       "      <td>1012.160</td>\n",
       "      <td>2.78600</td>\n",
       "      <td>40.400</td>\n",
       "      <td>4.1170</td>\n",
       "      <td>-0.24010</td>\n",
       "    </tr>\n",
       "    <tr>\n",
       "      <th>33</th>\n",
       "      <td>1</td>\n",
       "      <td>13</td>\n",
       "      <td>3</td>\n",
       "      <td>8</td>\n",
       "      <td>4</td>\n",
       "      <td>147.1800</td>\n",
       "      <td>-3.05000</td>\n",
       "      <td>150.2300</td>\n",
       "      <td>0</td>\n",
       "      <td>0</td>\n",
       "      <td>0</td>\n",
       "      <td>1005.930</td>\n",
       "      <td>2.80800</td>\n",
       "      <td>40.710</td>\n",
       "      <td>4.1490</td>\n",
       "      <td>-0.24510</td>\n",
       "    </tr>\n",
       "    <tr>\n",
       "      <th>34</th>\n",
       "      <td>1</td>\n",
       "      <td>13</td>\n",
       "      <td>2</td>\n",
       "      <td>8</td>\n",
       "      <td>5</td>\n",
       "      <td>150.2300</td>\n",
       "      <td>-1.11190</td>\n",
       "      <td>151.3400</td>\n",
       "      <td>0</td>\n",
       "      <td>0</td>\n",
       "      <td>0</td>\n",
       "      <td>999.697</td>\n",
       "      <td>2.82200</td>\n",
       "      <td>40.920</td>\n",
       "      <td>4.1700</td>\n",
       "      <td>-0.08887</td>\n",
       "    </tr>\n",
       "    <tr>\n",
       "      <th>35</th>\n",
       "      <td>1</td>\n",
       "      <td>13</td>\n",
       "      <td>1</td>\n",
       "      <td>8</td>\n",
       "      <td>6</td>\n",
       "      <td>151.3400</td>\n",
       "      <td>0.41336</td>\n",
       "      <td>150.9300</td>\n",
       "      <td>0</td>\n",
       "      <td>0</td>\n",
       "      <td>0</td>\n",
       "      <td>994.700</td>\n",
       "      <td>2.82500</td>\n",
       "      <td>40.960</td>\n",
       "      <td>2.5040</td>\n",
       "      <td>0.05502</td>\n",
       "    </tr>\n",
       "  </tbody>\n",
       "</table>\n",
       "</div>"
      ],
      "text/plain": [
       "    layer  row  column  segment  reach       Qin  Qaquifer      Qout  Qovr  \\\n",
       "0       1    1       1        1      1   25.0000   0.79230   24.2080     0   \n",
       "1       1    2       2        1      2   24.2080   2.14080   22.0670     0   \n",
       "2       1    3       3        1      3   22.0670   2.99090   19.0760     0   \n",
       "3       1    3       4        1      4   19.0760   2.55380   16.5220     0   \n",
       "4       1    4       5        2      1    6.5222   2.70580    3.8163     0   \n",
       "5       1    5       6        2      2    3.8163   1.99560    1.8208     0   \n",
       "6       1    6       6        2      3    1.8208   1.82080    0.0000     0   \n",
       "7       1    7       6        2      4    0.0000   0.00000    0.0000     0   \n",
       "8       1    8       6        2      5    0.0000   0.00000    0.0000     0   \n",
       "9       1    3       5        3      1   10.0000   2.18710    7.8129     0   \n",
       "10      1    3       6        3      2    7.8129   1.36970    6.4432     0   \n",
       "11      1    3       7        3      3    6.4432   0.42730    6.0159     0   \n",
       "12      1    4       8        3      4    6.0159   0.61019    5.4057     0   \n",
       "13      1    5       8        3      5    5.4057   0.80307    4.6026     0   \n",
       "14      1    6       8        3      6    4.6026   0.45886    4.1438     0   \n",
       "15      1    5      10        4      1   10.0000   0.90525    9.0947     0   \n",
       "16      1    5       9        4      2    9.0947   1.78350    7.3113     0   \n",
       "17      1    6       8        4      3    7.3113   1.22570    6.0855     0   \n",
       "18      1    6       8        5      1   10.2290  -0.25525   10.4850     0   \n",
       "19      1    7       7        5      2   10.4850   0.74225    9.7423     0   \n",
       "20      1    8       7        5      3    9.7423   1.04410    8.6982     0   \n",
       "21      1    8       6        5      4    8.6982   0.15040    8.5478     0   \n",
       "22      1    9       6        6      1    8.5478   1.37410    7.1736     0   \n",
       "23      1   10       7        6      2    7.1736   1.33000    5.8436     0   \n",
       "24      1   11       7        6      3    5.8436   1.21580    4.6279     0   \n",
       "25      1   12       7        6      4    4.6279   0.56873    4.0591     0   \n",
       "26      1   13       7        6      5    4.0591  -0.66107    4.7202     0   \n",
       "27      1   14       9        7      1  150.0000   2.95600  147.0400     0   \n",
       "28      1   13       8        7      2  147.0400   4.05460  142.9900     0   \n",
       "29      1   13       7        7      3  142.9900   3.18190  139.8100     0   \n",
       "30      1   13       6        8      1  144.5300   1.56850  142.9600     0   \n",
       "31      1   13       5        8      2  142.9600  -1.25360  144.2100     0   \n",
       "32      1   13       4        8      3  144.2100  -2.96590  147.1800     0   \n",
       "33      1   13       3        8      4  147.1800  -3.05000  150.2300     0   \n",
       "34      1   13       2        8      5  150.2300  -1.11190  151.3400     0   \n",
       "35      1   13       1        8      6  151.3400   0.41336  150.9300     0   \n",
       "\n",
       "    Qprecip  Qet     stage    depth   width    Cond  gradient  \n",
       "0         0    0  1094.220  1.17400  12.980  0.5843   0.45200  \n",
       "1         0    0  1089.210  1.15200  12.680  0.8878   0.80380  \n",
       "2         0    0  1083.530  1.11000  12.130  0.7278   1.37000  \n",
       "3         0    0  1078.470  1.06400  11.320  0.6285   1.35500  \n",
       "4         0    0  1072.400  0.46900  12.000  0.7800   1.15600  \n",
       "5         0    0  1066.840  0.32600  12.000  0.6000   1.10900  \n",
       "6         0    0  1061.850  0.05643  12.000  0.6000   1.01900  \n",
       "7         0    0  1057.080  0.00000  12.000  0.6000   1.00000  \n",
       "8         0    0  1052.360  0.00000  12.000  0.6000   1.00000  \n",
       "9         0    0  1075.550  1.90900   9.636  0.7227   1.51300  \n",
       "10        0    0  1072.640  1.72700   8.909  0.6682   1.02500  \n",
       "11        0    0  1069.870  1.55500   8.218  0.5547   0.38510  \n",
       "12        0    0  1066.820  1.36400   7.455  0.6709   0.45480  \n",
       "13        0    0  1063.620  1.16400   6.655  0.4991   0.80450  \n",
       "14        0    0  1061.580  1.03600   6.145  0.1844   1.24400  \n",
       "15        0    0  1078.350  0.62100  10.000  0.2500   1.20700  \n",
       "16        0    0  1071.480  0.56700  10.000  0.5000   1.18900  \n",
       "17        0    0  1063.680  0.50210  10.000  0.3500   1.16700  \n",
       "18        0    0  1058.680  0.67990  15.450  0.6180  -0.13770  \n",
       "19        0    0  1054.170  0.67430  15.230  0.7616   0.32490  \n",
       "20        0    0  1049.900  0.65280  14.410  0.5043   0.69010  \n",
       "21        0    0  1046.890  0.63770  13.840  0.3460   0.14490  \n",
       "22        0    0  1043.340  0.60990  12.000  0.6000   0.76340  \n",
       "23        0    0  1038.730  0.54460  12.000  0.6000   0.73890  \n",
       "24        0    0  1034.110  0.47790  12.000  0.6000   0.67540  \n",
       "25        0    0  1029.520  0.42720  12.000  0.6000   0.31600  \n",
       "26        0    0  1026.340  0.43000  12.000  0.2400  -0.91810  \n",
       "27        0    0  1039.860  2.28300  55.280  5.5910   0.17620  \n",
       "28        0    0  1034.760  2.26500  55.190  6.1400   0.22010  \n",
       "29        0    0  1029.660  2.24500  55.100  5.5720   0.19030  \n",
       "30        0    0  1024.650  2.77200  40.200  4.0960   0.12760  \n",
       "31        0    0  1018.400  2.77100  40.180  4.0950  -0.10210  \n",
       "32        0    0  1012.160  2.78600  40.400  4.1170  -0.24010  \n",
       "33        0    0  1005.930  2.80800  40.710  4.1490  -0.24510  \n",
       "34        0    0   999.697  2.82200  40.920  4.1700  -0.08887  \n",
       "35        0    0   994.700  2.82500  40.960  2.5040   0.05502  "
      ]
     },
     "execution_count": 18,
     "metadata": {},
     "output_type": "execute_result"
    }
   ],
   "source": [
    "import pandas as pd\n",
    "df = pd.read_csv(sfr_outfile, delim_whitespace=True, skiprows=8, names=names, header=None)\n",
    "df"
   ]
  },
  {
   "cell_type": "markdown",
   "metadata": {},
   "source": [
    "####Plot streamflow and stream/aquifer interactions for a segment"
   ]
  },
  {
   "cell_type": "code",
   "execution_count": 19,
   "metadata": {
    "collapsed": false
   },
   "outputs": [
    {
     "data": {
      "text/plain": [
       "<matplotlib.text.Text at 0x10a639290>"
      ]
     },
     "execution_count": 19,
     "metadata": {},
     "output_type": "execute_result"
    },
    {
     "data": {
      "image/png": "[encoded data removed]",
      "text/plain": [
       "<matplotlib.figure.Figure at 0x10a609990>"
      ]
     },
     "metadata": {},
     "output_type": "display_data"
    }
   ],
   "source": [
    "inds = df.segment == 3\n",
    "ax = df.ix[inds, ['Qin', 'Qaquifer', 'Qout']].plot(x=df.reach[inds])\n",
    "ax.set_ylabel('Flow, in cubic feet per second')\n",
    "ax.set_xlabel('SFR reach')"
   ]
  },
  {
   "cell_type": "markdown",
   "metadata": {},
   "source": [
    "### Look at stage, model top, and streambed top"
   ]
  },
  {
   "cell_type": "code",
   "execution_count": 20,
   "metadata": {
    "collapsed": false
   },
   "outputs": [
    {
     "data": {
      "text/plain": [
       "(1075.0, 1060.0)"
      ]
     },
     "execution_count": 20,
     "metadata": {},
     "output_type": "execute_result"
    }
   ],
   "source": [
    "streambed_top = m.sfr.segment_data[0][m.sfr.segment_data[0].nseg == 3][['elevup', 'elevdn']][0]\n",
    "streambed_top"
   ]
  },
  {
   "cell_type": "code",
   "execution_count": 21,
   "metadata": {
    "collapsed": false
   },
   "outputs": [
    {
     "data": {
      "text/plain": [
       "<matplotlib.legend.Legend at 0x10a872990>"
      ]
     },
     "execution_count": 21,
     "metadata": {},
     "output_type": "execute_result"
    },
    {
     "data": {
      "image/png": "[encoded data removed]",
      "text/plain": [
       "<matplotlib.figure.Figure at 0x10a643650>"
      ]
     },
     "metadata": {},
     "output_type": "display_data"
    }
   ],
   "source": [
    "df['model_top'] = m.dis.top.array[df.row.values - 1, df.column.values -1]\n",
    "fig, ax = plt.subplots()\n",
    "plt.plot([1, 6], list(streambed_top), label='streambed top')\n",
    "ax = df.ix[inds, ['stage', 'model_top']].plot(ax=ax, x=df.reach[inds])\n",
    "ax.set_ylabel('Elevation, in feet')\n",
    "plt.legend()"
   ]
  },
  {
   "cell_type": "markdown",
   "metadata": {},
   "source": [
    "### Get SFR leakage results from cell budget file"
   ]
  },
  {
   "cell_type": "code",
   "execution_count": 22,
   "metadata": {
    "collapsed": false
   },
   "outputs": [
    {
     "name": "stdout",
     "output_type": "stream",
     "text": [
      "(1, 1, '              ET', 10, 15, 1, 0, 0.0, 0.0, 0.0)\n",
      "(1, 1, ' HEAD DEP BOUNDS', 10, 15, 1, 0, 0.0, 0.0, 0.0)\n",
      "(1, 1, '  STREAM LEAKAGE', 10, 15, 1, 0, 0.0, 0.0, 0.0)\n"
     ]
    }
   ],
   "source": [
    "cbbobj = bf.CellBudgetFile('data/test1ss.cbc')\n",
    "cbbobj.list_records()"
   ]
  },
  {
   "cell_type": "code",
   "execution_count": 23,
   "metadata": {
    "collapsed": false
   },
   "outputs": [],
   "source": [
    "sfrleak = cbbobj.get_data(text='  STREAM LEAKAGE')[0]\n",
    "sfrleak[sfrleak == 0] = np.nan # remove zero values"
   ]
  },
  {
   "cell_type": "markdown",
   "metadata": {},
   "source": [
    "### Plot leakage in plan view"
   ]
  },
  {
   "cell_type": "code",
   "execution_count": 24,
   "metadata": {
    "collapsed": false
   },
   "outputs": [
    {
     "data": {
      "image/png": "[encoded data removed]",
      "text/plain": [
       "<matplotlib.figure.Figure at 0x10a662950>"
      ]
     },
     "metadata": {},
     "output_type": "display_data"
    }
   ],
   "source": [
    "im = plt.imshow(sfrleak[0], interpolation='none', cmap='coolwarm', vmin = -3, vmax=3)\n",
    "cb = plt.colorbar(im, label='SFR Leakage, in cubic feet per second')"
   ]
  },
  {
   "cell_type": "markdown",
   "metadata": {},
   "source": [
    "### Plot total streamflow"
   ]
  },
  {
   "cell_type": "code",
   "execution_count": 25,
   "metadata": {
    "collapsed": false
   },
   "outputs": [
    {
     "data": {
      "text/plain": [
       "<matplotlib.colorbar.Colorbar instance at 0x10af42d88>"
      ]
     },
     "execution_count": 25,
     "metadata": {},
     "output_type": "execute_result"
    },
    {
     "data": {
      "image/png": "[encoded data removed]",
      "text/plain": [
       "<matplotlib.figure.Figure at 0x10ab0d9d0>"
      ]
     },
     "metadata": {},
     "output_type": "display_data"
    }
   ],
   "source": [
    "sfrQ = sfrleak[0].copy()\n",
    "sfrQ[sfrQ == 0] = np.nan\n",
    "sfrQ[df.row.values-1, df.column.values-1] = df[['Qin', 'Qout']].mean(axis=1).values\n",
    "im = plt.imshow(sfrQ, interpolation='none')\n",
    "plt.colorbar(im, label='Streamflow, in cubic feet per second')"
   ]
  },
  {
   "cell_type": "code",
   "execution_count": null,
   "metadata": {
    "collapsed": true
   },
   "outputs": [],
   "source": []
  }
 ],
 "metadata": {
  "kernelspec": {
   "display_name": "Python 3",
   "language": "python",
   "name": "python3"
  },
  "language_info": {
   "codemirror_mode": {
    "name": "ipython",
    "version": 3
   },
   "file_extension": ".py",
   "mimetype": "text/x-python",
   "name": "python",
   "nbconvert_exporter": "python",
   "pygments_lexer": "ipython3",
   "version": "3.4.4"
  }
 },
 "nbformat": 4,
 "nbformat_minor": 0
}
