{
 "cells": [
  {
   "cell_type": "markdown",
   "metadata": {},
   "source": [
    "#FloPy\n",
    "\n",
    "###Zonbud Example 1\n",
    "\n",
    "This notebook demonstrates how to use the functions included in the zonbud utility to extract budget information from the cell by cell budget file using an array of zones.\n",
    "\n",
    "First set the path and import the required packages. The flopy path doesn't have to be set if you install flopy from a binary installer. If you want to run this notebook, you have to set the path to your own flopy path."
   ]
  },
  {
   "cell_type": "code",
   "execution_count": 1,
   "metadata": {
    "collapsed": true
   },
   "outputs": [],
   "source": [
    "%matplotlib inline\n",
    "from __future__ import print_function\n",
    "import os\n",
    "import platform\n",
    "import flopy\n",
    "import numpy as np\n",
    "import matplotlib.pyplot as plt\n",
    "\n",
    "#Set the paths\n",
    "modelpath = os.path.join('..', 'data', 'freyberg')\n",
    "zbudpath = os.path.join('..', 'data', 'zonbud_ex')\n",
    "\n",
    "#make sure zbudpath directory exists\n",
    "if not os.path.exists(zbudpath):\n",
    "    os.makedirs(zbudpath)"
   ]
  },
  {
   "cell_type": "markdown",
   "metadata": {},
   "source": [
    "###Create Some Zones and Extract Budget Information\n",
    "\n",
    "We create a simple numpy integer-array to define some zones for which we are interested in getting cell-by-cell budget information."
   ]
  },
  {
   "cell_type": "code",
   "execution_count": 2,
   "metadata": {
    "collapsed": false
   },
   "outputs": [
    {
     "name": "stdout",
     "output_type": "stream",
     "text": [
      "['WELLS', 'RIVER LEAKAGE', 'RECHARGE']\n"
     ]
    }
   ],
   "source": [
    "# Define some very interesting zones\n",
    "nrow, ncol = 40, 20\n",
    "zon = np.zeros((1, nrow, ncol), np.int)  # note that we explicitly make this a 1-layer array\n",
    "zon[0, :nrow/2, :ncol/2] = 1\n",
    "zon[0, :nrow/2, ncol/2:] = 2\n",
    "zon[0, nrow/2:, :ncol/2] = 3\n",
    "zon[0, nrow/2:, ncol/2:] = 4\n",
    "\n",
    "# Run ZoneBudget\n",
    "cbc_file = os.path.join(modelpath, 'freyberg.gitcbc')\n",
    "zb = flopy.utils.ZoneBudget(cbc_file)\n",
    "print(zb.get_ssst_names())"
   ]
  },
  {
   "cell_type": "code",
   "execution_count": 3,
   "metadata": {
    "collapsed": false
   },
   "outputs": [
    {
     "name": "stdout",
     "output_type": "stream",
     "text": [
      "[(0, 0)]\n"
     ]
    }
   ],
   "source": [
    "print(zb.get_kstpkper())"
   ]
  },
  {
   "cell_type": "code",
   "execution_count": 4,
   "metadata": {
    "collapsed": false
   },
   "outputs": [
    {
     "name": "stdout",
     "output_type": "stream",
     "text": [
      "1000 loops, best of 3: 1.72 ms per loop\n"
     ]
    }
   ],
   "source": [
    "%%timeit\n",
    "flopy.utils.zonbud.ZoneBudget(cbc_file)"
   ]
  },
  {
   "cell_type": "markdown",
   "metadata": {},
   "source": [
    "###Get ZoneBudget Output\n",
    "\n",
    "We use the `get_budget()` method of the zonebudget object to return a Budget object. The Budget object is a wrapper around a numpy recarray that can then be used to write the budget to a csv file. Let's look at the dtype:"
   ]
  },
  {
   "cell_type": "code",
   "execution_count": 5,
   "metadata": {
    "collapsed": false
   },
   "outputs": [
    {
     "name": "stdout",
     "output_type": "stream",
     "text": [
      "[('flow_dir', 'S3'), ('record', 'S20'), ('ZONE   1', '<f8'), ('ZONE   2', '<f8'), ('ZONE   3', '<f8'), ('ZONE   4', '<f8')]\n",
      "(0, 0)\n"
     ]
    },
    {
     "name": "stderr",
     "output_type": "stream",
     "text": [
      "E:\\modflow\\local_repo\\flopy\\flopy\\utils\\zonbud.py:264: UserWarning: CONSTANT HEAD cells were detected, but will not be included in the zonebudget results. Any non-zero results should be considered erroneous.\n",
      "  warnings.warn(chwarn, UserWarning)\n"
     ]
    }
   ],
   "source": [
    "zbud = zb.get_budget(zon, kstpkper=(0, 0))\n",
    "print(zbud.array.dtype)\n",
    "print(zbud.kstpkper)"
   ]
  },
  {
   "cell_type": "markdown",
   "metadata": {},
   "source": [
    "now let's look at all inflow terms:"
   ]
  },
  {
   "cell_type": "code",
   "execution_count": 6,
   "metadata": {
    "collapsed": false
   },
   "outputs": [
    {
     "name": "stdout",
     "output_type": "stream",
     "text": [
      "[('in', 'CONSTANT HEAD', 0.0, 0.0, 0.0, 0.0)\n",
      " ('in', 'WELLS', 0.0, 0.0, 0.0, 0.0)\n",
      " ('in', 'RIVER LEAKAGE', 0.0, 0.004194190260022879, 0.0, 0.0)\n",
      " ('in', 'RECHARGE', 0.015300000726711005, 0.020000000949949026, 0.015900000755209476, 0.01830000086920336)\n",
      " ('in', 'FROM ZONE   1', 0.0, 0.013101870194077492, 0.0028348490595817566, 0.0)\n",
      " ('in', 'FROM ZONE   2', 0.0, 0.0, 0.0, 0.0012257143389433622)\n",
      " ('in', 'FROM ZONE   3', 0.0006367169553413987, 0.0, 0.0, 0.013000612147152424)\n",
      " ('in', 'FROM ZONE   4', 0.0, 0.0011461640242487192, 0.0, 0.0)]\n"
     ]
    }
   ],
   "source": [
    "print(zbud.array[zbud.array['flow_dir']=='in'])"
   ]
  },
  {
   "cell_type": "markdown",
   "metadata": {},
   "source": [
    "all recharge:"
   ]
  },
  {
   "cell_type": "code",
   "execution_count": 7,
   "metadata": {
    "collapsed": false
   },
   "outputs": [
    {
     "name": "stdout",
     "output_type": "stream",
     "text": [
      "[ ('in', 'RECHARGE', 0.015300000726711005, 0.020000000949949026, 0.015900000755209476, 0.01830000086920336)\n",
      " ('out', 'RECHARGE', -0.0, -0.0, -0.0, -0.0)]\n"
     ]
    }
   ],
   "source": [
    "print(zbud.array[zbud.array['record']=='RECHARGE'])"
   ]
  },
  {
   "cell_type": "markdown",
   "metadata": {},
   "source": [
    "and zone 1 outflow:"
   ]
  },
  {
   "cell_type": "code",
   "execution_count": 8,
   "metadata": {
    "collapsed": false
   },
   "outputs": [
    {
     "name": "stdout",
     "output_type": "stream",
     "text": [
      "[-0.          0.          0.         -0.          0.          0.01310187\n",
      "  0.00283485  0.        ]\n",
      "Total Outflow from Zone 1 (kstpkper=(0, 0)): -0.01594\n"
     ]
    }
   ],
   "source": [
    "z1_outflow = zbud.array['ZONE   1'][zbud.array['flow_dir'] == 'out']\n",
    "print(z1_outflow)\n",
    "print('Total Outflow from Zone 1 (kstpkper=(0, 0)): {out:.5f}'.format(out=z1_outflow.sum()*-1))"
   ]
  },
  {
   "cell_type": "markdown",
   "metadata": {},
   "source": [
    "###Write ZoneBudget Output to CSV\n",
    "\n",
    "We can write the resulting recarray to a csv with the .to_csv() method of the ZoneBudget object."
   ]
  },
  {
   "cell_type": "code",
   "execution_count": 9,
   "metadata": {
    "collapsed": false
   },
   "outputs": [
    {
     "name": "stdout",
     "output_type": "stream",
     "text": [
      "flow_dir         record      ZONE   1      ZONE   2   ZONE   3  ZONE   4\n",
      "      in  CONSTANT HEAD  0.000000e+00  0.000000e+00   0.000000  0.000000\n",
      "      in          WELLS  0.000000e+00  0.000000e+00   0.000000  0.000000\n",
      "      in  RIVER LEAKAGE  0.000000e+00  4.194190e-03   0.000000  0.000000\n",
      "      in       RECHARGE  1.530000e-02  2.000000e-02   0.015900  0.018300\n",
      "      in  FROM ZONE   1  0.000000e+00  1.310187e-02   0.002835  0.000000\n",
      "      in  FROM ZONE   2  0.000000e+00  0.000000e+00   0.000000  0.001226\n",
      "      in  FROM ZONE   3  6.367170e-04  0.000000e+00   0.000000  0.013001\n",
      "      in  FROM ZONE   4  0.000000e+00  1.146164e-03   0.000000  0.000000\n",
      "               Total IN  1.593672e-02  3.844223e-02   0.018735  0.032526\n",
      "     out  CONSTANT HEAD -0.000000e+00 -0.000000e+00  -0.000000 -0.000000\n",
      "     out          WELLS  0.000000e+00  1.620000e-02   0.001550  0.004300\n",
      "     out  RIVER LEAKAGE  0.000000e+00  2.101684e-02   0.000000  0.025893\n",
      "     out       RECHARGE -0.000000e+00 -0.000000e+00  -0.000000 -0.000000\n",
      "     out    TO ZONE   1  0.000000e+00  0.000000e+00   0.000637  0.000000\n",
      "     out    TO ZONE   2  1.310187e-02  0.000000e+00   0.000000  0.001146\n",
      "     out    TO ZONE   3  2.834849e-03  0.000000e+00   0.000000  0.000000\n",
      "     out    TO ZONE   4  0.000000e+00  1.225714e-03   0.013001  0.000000\n",
      "              Total OUT  1.593672e-02  3.844256e-02   0.015187  0.031339\n",
      "                 IN-OUT -1.571607e-09 -3.310852e-07   0.003548  0.001187\n",
      "          Percent Error -9.861546e-06 -8.612502e-04  20.915642  3.718599\n"
     ]
    }
   ],
   "source": [
    "out_fname = os.path.join(zbudpath, 'zbud.csv')\n",
    "zbud.to_csv(out_fname, format='pandas')\n",
    "\n",
    "# Read the file in to see the contents\n",
    "try:\n",
    "    import pandas as pd\n",
    "    df = pd.read_csv(out_fname)\n",
    "    df = df.fillna(0)\n",
    "    print(df.to_string(index=False))\n",
    "except:\n",
    "    with open(out_fname, 'r') as f:\n",
    "        for line in f.readlines():\n",
    "            print('\\t'.join(line.split(',')))"
   ]
  },
  {
   "cell_type": "markdown",
   "metadata": {
    "collapsed": true
   },
   "source": [
    "###Plot Cell by Cell Budgets\n",
    "Access and plot source/sink/storage budget terms."
   ]
  },
  {
   "cell_type": "code",
   "execution_count": 10,
   "metadata": {
    "collapsed": false
   },
   "outputs": [
    {
     "name": "stderr",
     "output_type": "stream",
     "text": [
      "C:\\Anaconda\\lib\\site-packages\\matplotlib\\collections.py:571: FutureWarning: elementwise comparison failed; returning scalar instead, but in the future will perform elementwise comparison\n",
      "  if self._edgecolors == str('face'):\n"
     ]
    },
    {
     "data": {
      "image/png": "[encoded data removed]",
      "text/plain": [
       "<matplotlib.figure.Figure at 0x6122128>"
      ]
     },
     "metadata": {},
     "output_type": "display_data"
    }
   ],
   "source": [
    "ml = flopy.modflow.Modflow.load(os.path.join(modelpath, 'freyberg.nam'), check=False)\n",
    "\n",
    "names = zb.get_ssst_names()\n",
    "zbud_arrays = [zb.get_ssst_cbc_array(name, kstpkper=(0, 0)) for name in names]\n",
    "fig = plt.figure(figsize=(14, 6))\n",
    "\n",
    "for idx, name in enumerate(names):\n",
    "    zbud = zbud_arrays[idx][0, :, :]\n",
    "    ax = fig.add_subplot(1, len(names), idx+1, aspect='equal')\n",
    "    ax.set_title(name)\n",
    "    modelmap = flopy.plot.ModelMap(model=ml)\n",
    "    modelmap.plot_grid()\n",
    "    quadmesh = modelmap.plot_array(zbud)\n",
    "    cbar = fig.colorbar(quadmesh)\n",
    "    \n",
    "plt.show()"
   ]
  },
  {
   "cell_type": "code",
   "execution_count": null,
   "metadata": {
    "collapsed": true
   },
   "outputs": [],
   "source": []
  }
 ],
 "metadata": {
  "kernelspec": {
   "display_name": "Python 2",
   "language": "python",
   "name": "python2"
  },
  "language_info": {
   "codemirror_mode": {
    "name": "ipython",
    "version": 2
   },
   "file_extension": ".py",
   "mimetype": "text/x-python",
   "name": "python",
   "nbconvert_exporter": "python",
   "pygments_lexer": "ipython2",
   "version": "2.7.11"
  }
 },
 "nbformat": 4,
 "nbformat_minor": 0
}
