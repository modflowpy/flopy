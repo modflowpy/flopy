{
 "cells": [
  {
   "cell_type": "markdown",
   "metadata": {},
   "source": [
    "# FloPy\n",
    "\n",
    "### Zonbud Example 2\n",
    "\n",
    "This notebook demonstrates how to use the functions included in the zonbud utility module to create a zonfile and run ZoneBudget.\n",
    "\n",
    "First set the path and import the required packages. The flopy path doesn't have to be set if you install flopy from a binary installer. If you want to run this notebook, you have to set the path to your own flopy path."
   ]
  },
  {
   "cell_type": "code",
   "execution_count": 1,
   "metadata": {
    "collapsed": false
   },
   "outputs": [],
   "source": [
    "%matplotlib inline\n",
    "from __future__ import print_function\n",
    "import os\n",
    "import platform\n",
    "import flopy\n",
    "import numpy as np\n",
    "import pandas as pd\n",
    "import matplotlib.pyplot as plt\n",
    "\n",
    "\n",
    "#Set name of ZoneBudget exe\n",
    "#  assumes executable is in users path statement\n",
    "exe_name = 'zonbud'\n",
    "if platform.system() == 'Windows':\n",
    "    exe_name = 'zonbud.exe'\n",
    "zbexe = exe_name\n",
    "\n",
    "#Set the paths\n",
    "modelpath = os.path.join('..', 'data', 'freyberg')\n",
    "zbudpath = os.path.join('..', 'data', 'zonbud_ex')\n",
    "\n",
    "#make sure zbudpath directory exists\n",
    "if not os.path.exists(zbudpath):\n",
    "    os.makedirs(zbudpath)"
   ]
  },
  {
   "cell_type": "markdown",
   "metadata": {},
   "source": [
    "### Create Some Zones and Run ZoneBudget\n",
    "We create a simple numpy integer-array to define some zones for which we are interested in getting cell-by-cell budget information. The numpy array is written to a file by the utility which is then read by ZoneBudget."
   ]
  },
  {
   "cell_type": "code",
   "execution_count": 2,
   "metadata": {
    "collapsed": false
   },
   "outputs": [],
   "source": [
    "# Define some very interesting zones\n",
    "nrow, ncol = 40, 20\n",
    "zon = np.zeros((nrow, ncol), np.int)\n",
    "zon[:nrow/2, :ncol/2] = 1\n",
    "zon[:nrow/2, ncol/2:] = 2\n",
    "zon[nrow/2:, :ncol/2] = 3\n",
    "zon[nrow/2:, ncol/2:] = 4\n",
    "\n",
    "# Run ZoneBudget\n",
    "cbc_file = os.path.join(modelpath, 'freyberg.gitcbc')\n",
    "zbud = flopy.utils.run_zonbud(zon, zonbud_ws=zbudpath, zonbud_exe=zbexe, listingfile_prefix='zbud', cbcfile=cbc_file, iprn=1)"
   ]
  },
  {
   "cell_type": "markdown",
   "metadata": {},
   "source": [
    "###Look at ZoneBudget Output\n",
    "We can now see that ZoneBudget aggregated cell-by-cell flows for our zones. \n",
    "\n",
    "Let's look at the dtype:"
   ]
  },
  {
   "cell_type": "code",
   "execution_count": 3,
   "metadata": {
    "collapsed": false
   },
   "outputs": [
    {
     "name": "stdout",
     "output_type": "stream",
     "text": [
      "[('flow_dir', 'S3'), ('record', 'S20'), ('ZONE   1', '<f4'), ('ZONE   2', '<f4'), ('ZONE   3', '<f4'), ('ZONE   4', '<f4')]\n"
     ]
    }
   ],
   "source": [
    "kstpkper = zbud.keys()\n",
    "for kk in kstpkper:\n",
    "    bud = zbud[kk]\n",
    "    print(bud.dtype)"
   ]
  },
  {
   "cell_type": "markdown",
   "metadata": {},
   "source": [
    "now let's look at all inflow terms:"
   ]
  },
  {
   "cell_type": "code",
   "execution_count": 4,
   "metadata": {
    "collapsed": false
   },
   "outputs": [
    {
     "name": "stdout",
     "output_type": "stream",
     "text": [
      "[('in', 'CONSTANT HEAD', 0.0, 0.0, 0.0, 0.0)\n",
      " ('in', 'WELLS', 0.0, 0.0, 0.0, 0.0)\n",
      " ('in', 'RIVER LEAKAGE', 0.0, 0.004194189794361591, 0.0, 0.0)\n",
      " ('in', 'RECHARGE', 0.015300000086426735, 0.019999999552965164, 0.01590000092983246, 0.018300000578165054)\n",
      " ('in', 'FROM ZONE   1', 0.0, 0.013101870194077492, 0.0028348490595817566, 0.0)\n",
      " ('in', 'FROM ZONE   2', 0.0, 0.0, 0.0, 0.0012257139896973968)\n",
      " ('in', 'FROM ZONE   3', 0.0006367168971337378, 0.0, 0.0, 0.013000610284507275)\n",
      " ('in', 'FROM ZONE   4', 0.0, 0.0011461640242487192, 0.0, 0.0)]\n"
     ]
    }
   ],
   "source": [
    "kstpkper = zbud.keys()\n",
    "for kk in kstpkper:\n",
    "    bud = zbud[kk]\n",
    "    print(bud[bud['flow_dir']=='in'])"
   ]
  },
  {
   "cell_type": "markdown",
   "metadata": {},
   "source": [
    "all recharge:"
   ]
  },
  {
   "cell_type": "code",
   "execution_count": 5,
   "metadata": {
    "collapsed": false
   },
   "outputs": [
    {
     "name": "stdout",
     "output_type": "stream",
     "text": [
      "[ ('in', 'RECHARGE', 0.015300000086426735, 0.019999999552965164, 0.01590000092983246, 0.018300000578165054)\n",
      " ('out', 'RECHARGE', 0.0, 0.0, 0.0, 0.0)]\n"
     ]
    }
   ],
   "source": [
    "kstpkper = zbud.keys()\n",
    "for kk in kstpkper:\n",
    "    bud = zbud[kk]\n",
    "    print(bud[bud['record']=='RECHARGE'])"
   ]
  },
  {
   "cell_type": "markdown",
   "metadata": {},
   "source": [
    "and zone 1 outflow:"
   ]
  },
  {
   "cell_type": "code",
   "execution_count": 6,
   "metadata": {
    "collapsed": false
   },
   "outputs": [
    {
     "name": "stdout",
     "output_type": "stream",
     "text": [
      "[ 0.          0.          0.          0.          0.          0.01310187\n",
      "  0.00283485  0.        ]\n",
      "Total Outflow from Zone 1 (kstpkper=(0, 0)): -0.01594\n"
     ]
    }
   ],
   "source": [
    "kstpkper = zbud.keys()\n",
    "for kk in kstpkper:\n",
    "    bud = zbud[kk]\n",
    "    z1_outflow = bud['ZONE   1'][bud['flow_dir'] == 'out']\n",
    "    print(z1_outflow)\n",
    "    print('Total Outflow from Zone 1 (kstpkper={kk}): {out:.5f}'.format(kk=kk, out=z1_outflow.sum()*-1))"
   ]
  },
  {
   "cell_type": "code",
   "execution_count": null,
   "metadata": {
    "collapsed": true
   },
   "outputs": [],
   "source": []
  }
 ],
 "metadata": {
  "kernelspec": {
   "display_name": "Python 2",
   "language": "python",
   "name": "python2"
  },
  "language_info": {
   "codemirror_mode": {
    "name": "ipython",
    "version": 2
   },
   "file_extension": ".py",
   "mimetype": "text/x-python",
   "name": "python",
   "nbconvert_exporter": "python",
   "pygments_lexer": "ipython2",
   "version": "2.7.11"
  }
 },
 "nbformat": 4,
 "nbformat_minor": 0
}
