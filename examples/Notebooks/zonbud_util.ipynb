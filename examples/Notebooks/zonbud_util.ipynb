{
 "cells": [
  {
   "cell_type": "markdown",
   "metadata": {},
   "source": [
    "# FloPy\n",
    "\n",
    "### Zonbud_util Example\n",
    "\n",
    "This notebook demonstrates how to use the functions included in the zonbud_util module to create a zonfile and run ZoneBudget.\n",
    "\n",
    "First set the path and import the required packages. The flopy path doesn't have to be set if you install flopy from a binary installer. If you want to run this notebook, you have to set the path to your own flopy path."
   ]
  },
  {
   "cell_type": "code",
   "execution_count": 1,
   "metadata": {
    "collapsed": false
   },
   "outputs": [],
   "source": [
    "%matplotlib inline\n",
    "import sys\n",
    "import os\n",
    "import platform\n",
    "import flopy\n",
    "import numpy as np\n",
    "import pandas as pd\n",
    "import matplotlib.pyplot as plt\n",
    "\n",
    "\n",
    "#Set name of MODFLOW exe\n",
    "#  assumes executable is in users path statement\n",
    "version = 'mf2005'\n",
    "exe_name = 'mf2005'\n",
    "if platform.system() == 'Windows':\n",
    "    exe_name = 'mf2005.exe'\n",
    "mfexe = exe_name\n",
    "\n",
    "\n",
    "#Set name of ZoneBudget exe\n",
    "#  assumes executable is in users path statement\n",
    "exe_name = 'zonbud'\n",
    "if platform.system() == 'Windows':\n",
    "    exe_name = 'zonbud.exe'\n",
    "zbexe = exe_name\n",
    "\n",
    "modelpath = os.path.join('..', 'data', 'zonbud_util_example')\n",
    "\n",
    "#make sure modelpth directory exists\n",
    "if not os.path.exists(modelpath):\n",
    "    os.makedirs(modelpath)"
   ]
  },
  {
   "cell_type": "markdown",
   "metadata": {},
   "source": [
    "### Load and Run an Existing Model\n",
    "A model called the \"Freyberg Model\" is located in the modelpath folder.  In the following code block, we load and run the model.  For this to work properly, the MODFLOW-2005 executable (mf2005) must be in the path.  We verify that it worked correctly by checking for the presence of freyberg.hds and freyberg.cbc."
   ]
  },
  {
   "cell_type": "code",
   "execution_count": 2,
   "metadata": {
    "collapsed": false
   },
   "outputs": [
    {
     "name": "stdout",
     "output_type": "stream",
     "text": [
      "FloPy is using the following executable to run the model: mf2005.exe\n",
      "\n",
      "                                  MODFLOW-2005     \n",
      "    U.S. GEOLOGICAL SURVEY MODULAR FINITE-DIFFERENCE GROUND-WATER FLOW MODEL\n",
      "                             Version 1.11.00 8/8/2013                        \n",
      "\n",
      " Using NAME file: freyberg.nam \n",
      " Run start date and time (yyyy/mm/dd hh:mm:ss): 2016/03/09 18:29:40\n",
      "\n",
      " Solving:  Stress period:     1    Time step:     1    Ground-Water Flow Eqn.\n",
      " Run end date and time (yyyy/mm/dd hh:mm:ss): 2016/03/09 18:29:40\n",
      " Elapsed run time:  0.030 Seconds\n",
      "\n",
      "  Normal termination of simulation\n",
      "Output file located: freyberg.hds\n",
      "Output file located: freyberg.cbc\n"
     ]
    }
   ],
   "source": [
    "ml = flopy.modflow.Modflow.load('freyberg.nam', model_ws=modelpath, \n",
    "                                exe_name=mfexe, version=version)\n",
    "ml.write_input()\n",
    "success, buff = ml.run_model()\n",
    "if not success:\n",
    "    print ('Something bad happened.')\n",
    "files = ['freyberg.hds', 'freyberg.cbc']\n",
    "for f in files:\n",
    "    if os.path.isfile(os.path.join(modelpath, f)):\n",
    "        msg = 'Output file located: {}'.format(f)\n",
    "        print (msg)\n",
    "    else:\n",
    "        errmsg = 'Error. Output file cannot be found: {}'.format(f)\n",
    "        print (errmsg)"
   ]
  },
  {
   "cell_type": "markdown",
   "metadata": {},
   "source": [
    "### Create a Zonfile and Run ZoneBudget\n",
    "We create a simple numpy integer-array to define some zones for which we are interested in getting cell-by-cell budget information. The numpy array is written to a file which can then be read by ZoneBudget."
   ]
  },
  {
   "cell_type": "code",
   "execution_count": 3,
   "metadata": {
    "collapsed": false
   },
   "outputs": [],
   "source": [
    "# Define some very interesting zones\n",
    "zon = np.zeros((ml.dis.nrow, ml.dis.ncol), np.int)  # 40 rows by 20 cols\n",
    "zon[:20, :10] = 1\n",
    "zon[:20, 10:] = 2\n",
    "zon[20:, :10] = 3\n",
    "zon[20:, 10:] = 4\n",
    "\n",
    "# Now lets write this to a file\n",
    "out_zonfile = os.path.join(modelpath, 'zbud.zon')\n",
    "flopy.utils.write_zonfile(zon, out_zonfile)\n",
    "\n",
    "# Run ZoneBudget\n",
    "cbc_file = os.path.join(modelpath, 'freyberg.cbc')\n",
    "listing_file = os.path.join(modelpath, 'zbud csv')\n",
    "flopy.utils.run_zonbud(zonbud_exe=zbexe, zonefile=out_zonfile, cbcfile=cbc_file, listingfile=listing_file)"
   ]
  },
  {
   "cell_type": "markdown",
   "metadata": {},
   "source": [
    "###Look at ZoneBudget Output\n",
    "We can now see that ZoneBudget aggregated cell-by-cell flows for our zones. Yay."
   ]
  },
  {
   "cell_type": "code",
   "execution_count": 4,
   "metadata": {
    "collapsed": false
   },
   "outputs": [
    {
     "name": "stdout",
     "output_type": "stream",
     "text": [
      "                     ZONE   1          ZONE   2          ZONE   3          ZONE   4      \n",
      "                       IN                IN                IN                IN          \n",
      "    CONSTANT HEAD      0.000000E+00      0.000000E+00      0.000000E+00      0.000000E+00\n",
      "    RIVER LEAKAGE      0.000000E+00      2.408758E-03      0.000000E+00      0.000000E+00\n",
      "         RECHARGE      1.530000E-02      2.000000E-02      1.590000E-02      1.830000E-02\n",
      "    FROM ZONE   1      0.000000E+00      1.334857E-02      2.696172E-03      0.000000E+00\n",
      "    FROM ZONE   2      0.000000E+00      0.000000E+00      0.000000E+00      1.567713E-03\n",
      "    FROM ZONE   3      7.447382E-04      0.000000E+00      0.000000E+00      1.337981E-02\n",
      "    FROM ZONE   4      0.000000E+00      2.727445E-04      0.000000E+00      0.000000E+00\n",
      " Total IN              1.604474E-02      3.603007E-02      1.859617E-02      3.324752E-02\n",
      "                      OUT               OUT               OUT               OUT          \n",
      "    CONSTANT HEAD      0.000000E+00      0.000000E+00      4.471624E-03      1.479694E-03\n",
      "    RIVER LEAKAGE      0.000000E+00      3.446269E-02      0.000000E+00      3.149540E-02\n",
      "         RECHARGE      0.000000E+00      0.000000E+00      0.000000E+00      0.000000E+00\n",
      "      TO ZONE   1      0.000000E+00      0.000000E+00      7.447382E-04      0.000000E+00\n",
      "      TO ZONE   2      1.334857E-02      0.000000E+00      0.000000E+00      2.727445E-04\n",
      "      TO ZONE   3      2.696172E-03      0.000000E+00      0.000000E+00      0.000000E+00\n",
      "      TO ZONE   4      0.000000E+00      1.567713E-03      1.337981E-02      0.000000E+00\n",
      " Total OUT             1.604474E-02      3.603041E-02      1.859617E-02      3.324784E-02\n",
      "  IN-OUT              -3.201421E-09     -3.315781E-07      1.833541E-09     -3.147852E-07\n",
      " Percent Error        -1.995309E-05     -9.202773E-04      9.859778E-06     -9.467885E-04\n"
     ]
    }
   ],
   "source": [
    "zbud = pd.read_csv(os.path.join(modelpath, 'zbud.csv'), skiprows=1)\n",
    "print(zbud[zbud.columns[:-1]].dropna(how='all').to_string(index=False))"
   ]
  },
  {
   "cell_type": "code",
   "execution_count": null,
   "metadata": {
    "collapsed": true
   },
   "outputs": [],
   "source": []
  }
 ],
 "metadata": {
  "kernelspec": {
   "display_name": "Python 2",
   "language": "python",
   "name": "python2"
  },
  "language_info": {
   "codemirror_mode": {
    "name": "ipython",
    "version": 2
   },
   "file_extension": ".py",
   "mimetype": "text/x-python",
   "name": "python",
   "nbconvert_exporter": "python",
   "pygments_lexer": "ipython2",
   "version": "2.7.11"
  }
 },
 "nbformat": 4,
 "nbformat_minor": 0
}
