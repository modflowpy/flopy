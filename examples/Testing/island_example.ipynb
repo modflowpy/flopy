{
 "cells": [
  {
   "cell_type": "code",
   "execution_count": 1,
   "metadata": {
    "collapsed": false
   },
   "outputs": [],
   "source": [
    "%load_ext autoreload\n",
    "%autoreload 2\n",
    "import numpy as np\n",
    "import matplotlib.pyplot as plt\n",
    "%matplotlib inline\n",
    "import os\n",
    "import sys\n",
    "flopypth = os.path.join('..', '..', '..', 'flopy')\n",
    "if flopypth not in sys.path:\n",
    "    sys.path.append(flopypth)\n",
    "import flopy.modflow as mf\n",
    "import flopy.mt3d as mt\n",
    "import flopy.seawat as swt\n",
    "import flopy.utils as fu"
   ]
  },
  {
   "cell_type": "code",
   "execution_count": 2,
   "metadata": {
    "collapsed": false
   },
   "outputs": [],
   "source": [
    "name = 'island'\n",
    "mf_model = mf.Modflow(modelname = name)"
   ]
  },
  {
   "cell_type": "code",
   "execution_count": 3,
   "metadata": {
    "collapsed": false
   },
   "outputs": [],
   "source": [
    "L = 1000.\n",
    "nlay = 20\n",
    "nrow = 1\n",
    "ncol = 100\n",
    "delr = L / ncol \n",
    "H = 20.\n",
    "delz = H / nlay\n",
    "top = np.ones((1, ncol)) * delz / 2.\n",
    "top[0, 10:-10] += delz / 2.\n",
    "botm = np.linspace(-delz / 2., -H + delz / 2., nlay)\n",
    "perlen = 7300\n",
    "dis = mf.ModflowDis(mf_model, nlay, nrow, ncol, delr = delr, delc = 1, \n",
    "                    top = top, botm = botm, laycbd = 0, perlen = perlen, \n",
    "                    nstp = 730, steady = False)"
   ]
  },
  {
   "cell_type": "code",
   "execution_count": 4,
   "metadata": {
    "collapsed": false
   },
   "outputs": [],
   "source": [
    "ibound = np.ones((nlay, nrow, ncol))\n",
    "ibound[0, 0, :10] = -1\n",
    "ibound[0, 0, 90:] = -1\n",
    "bas = mf.ModflowBas(mf_model, ibound = ibound, strt = 0.0)"
   ]
  },
  {
   "cell_type": "code",
   "execution_count": 5,
   "metadata": {
    "collapsed": false
   },
   "outputs": [],
   "source": [
    "lpf = mf.ModflowLpf(mf_model, hk = 100.0)"
   ]
  },
  {
   "cell_type": "code",
   "execution_count": 6,
   "metadata": {
    "collapsed": false
   },
   "outputs": [],
   "source": [
    "rech = np.zeros((nrow, ncol))\n",
    "rech[0, (ibound[0, 0, :] == 1)] = 2e-3\n",
    "rch = mf.ModflowRch(mf_model, rech = rech)"
   ]
  },
  {
   "cell_type": "code",
   "execution_count": 7,
   "metadata": {
    "collapsed": false
   },
   "outputs": [],
   "source": [
    "pcg = mf.ModflowPcg(mf_model)\n",
    "oc = mf.ModflowOc(mf_model) \n",
    "mf_model.write_input()\n",
    "#mf_model.run_model2()"
   ]
  },
  {
   "cell_type": "code",
   "execution_count": 8,
   "metadata": {
    "collapsed": false
   },
   "outputs": [],
   "source": [
    "mt_model = mt.Mt3dms(name, 'nam_mt3dms', mf_model)"
   ]
  },
  {
   "cell_type": "code",
   "execution_count": 9,
   "metadata": {
    "collapsed": false
   },
   "outputs": [],
   "source": [
    "adv = mt.Mt3dAdv(mt_model, mixelm = 0, percel = 1.)"
   ]
  },
  {
   "cell_type": "code",
   "execution_count": 10,
   "metadata": {
    "collapsed": false
   },
   "outputs": [],
   "source": [
    "sconc_1 = np.ones([nlay, nrow, ncol]) * 35.7\n",
    "timprs = np.arange(1, perlen, 100)\n",
    "btn = mt.Mt3dBtn(mt_model, ncomp=1, sconc=sconc_1, prsity = 0.25, timprs = timprs)"
   ]
  },
  {
   "cell_type": "code",
   "execution_count": 11,
   "metadata": {
    "collapsed": false
   },
   "outputs": [],
   "source": [
    "dsp = mt.Mt3dDsp(mt_model, al=0.1, dmcoef=5e-10*3600.*24.)"
   ]
  },
  {
   "cell_type": "code",
   "execution_count": 12,
   "metadata": {
    "collapsed": false
   },
   "outputs": [],
   "source": [
    "gcg = mt.Mt3dGcg(mt_model, cclose = 1e-8)"
   ]
  },
  {
   "cell_type": "code",
   "execution_count": 13,
   "metadata": {
    "collapsed": false
   },
   "outputs": [],
   "source": [
    "crch = {0: 0.001}\n",
    "sp_data = []\n",
    "for c in range(10):\n",
    "    dd = np.array([0, 0, c, 0, 1])\n",
    "    sp_data.append(dd)\n",
    "for c in range(90, 100):\n",
    "    dd = np.array([0, 0, c, 0, 1])\n",
    "    sp_data.append(dd)\n",
    "stress_period_data = {0:sp_data}\n",
    "ssm = mt.Mt3dSsm(mt_model, crch=crch, stress_period_data=stress_period_data)\n",
    "\n",
    "mt_model.write_input()\n"
   ]
  },
  {
   "cell_type": "code",
   "execution_count": 17,
   "metadata": {
    "collapsed": false
   },
   "outputs": [],
   "source": [
    "swt_model = swt.Seawat(name, 'nam_swt', mf_model, mt_model, exe_name='swtv4') # Coupled to modflow model mf and mt3dms model mt\n",
    "vdf = swt.SeawatVdf(swt_model, firstdt = 0.1, denseslp = .7)\n",
    "swt_model.write_input()"
   ]
  },
  {
   "cell_type": "code",
   "execution_count": 20,
   "metadata": {
    "collapsed": false
   },
   "outputs": [
    {
     "data": {
      "text/plain": [
       "[False, []]"
      ]
     },
     "execution_count": 20,
     "metadata": {},
     "output_type": "execute_result"
    }
   ],
   "source": [
    "swt_model.run_model(silent=True)"
   ]
  },
  {
   "cell_type": "code",
   "execution_count": 19,
   "metadata": {
    "collapsed": false
   },
   "outputs": [
    {
     "data": {
      "text/plain": [
       "<matplotlib.contour.QuadContourSet instance at 0x108a6ccb0>"
      ]
     },
     "execution_count": 19,
     "metadata": {},
     "output_type": "execute_result"
    },
    {
     "data": {
      "image/png": "[encoded data removed]",
      "text/plain": [
       "<matplotlib.figure.Figure at 0x108673f90>"
      ]
     },
     "metadata": {},
     "output_type": "display_data"
    }
   ],
   "source": [
    "conc = fu.UcnFile('MT3D001.UCN')\n",
    "c = conc.get_data(totim = 7300)\n",
    "\n",
    "y, x, z = dis.get_node_coordinates()\n",
    "X, Z = np.meshgrid(x, z[:, 0, 0])\n",
    "plt.contourf(X, Z, c[:, 0, :])"
   ]
  },
  {
   "cell_type": "code",
   "execution_count": null,
   "metadata": {
    "collapsed": false
   },
   "outputs": [],
   "source": []
  }
 ],
 "metadata": {
  "kernelspec": {
   "display_name": "Python 2",
   "language": "python",
   "name": "python2"
  },
  "language_info": {
   "codemirror_mode": {
    "name": "ipython",
    "version": 2
   },
   "file_extension": ".py",
   "mimetype": "text/x-python",
   "name": "python",
   "nbconvert_exporter": "python",
   "pygments_lexer": "ipython2",
   "version": "2.7.10"
  }
 },
 "nbformat": 4,
 "nbformat_minor": 0
}
